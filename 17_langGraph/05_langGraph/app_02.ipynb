{
 "cells": [
  {
   "cell_type": "code",
   "execution_count": 26,
   "id": "965fb7e5",
   "metadata": {},
   "outputs": [],
   "source": [
    "from dotenv import load_dotenv\n",
    "import os\n",
    "\n",
    "load_dotenv(verbose=True)\n",
    "key = os.getenv('OPENAI_API_KEY')"
   ]
  },
  {
   "cell_type": "code",
   "execution_count": 27,
   "id": "7e867fd8",
   "metadata": {},
   "outputs": [],
   "source": [
    "from langchain_core.messages import AnyMessage, HumanMessage, AIMessage, ToolMessage\n",
    "from typing_extensions import TypedDict"
   ]
  },
  {
   "cell_type": "code",
   "execution_count": 28,
   "id": "c361e049",
   "metadata": {},
   "outputs": [],
   "source": [
    "class State(TypedDict):\n",
    "    messages: list[AnyMessage]\n",
    "    extra_field: int"
   ]
  },
  {
   "cell_type": "code",
   "execution_count": 29,
   "id": "1ebd00ae",
   "metadata": {},
   "outputs": [],
   "source": [
    "def node(state: State):\n",
    "    messages = state['messages']\n",
    "    new_message = AIMessage(\"안녕하세요! 무엇을 도와드릴까요?\")\n",
    "\n",
    "    return {\"messages\": messages + [new_message], \"extra_field\": 10}"
   ]
  },
  {
   "cell_type": "code",
   "execution_count": 30,
   "id": "3009e11c",
   "metadata": {},
   "outputs": [],
   "source": [
    "state_exam = State(\n",
    "    messages=[HumanMessage(content='안녕', additional_kwargs={}, response_metadata={})], \n",
    "    extra_field=10\n",
    ")"
   ]
  },
  {
   "cell_type": "code",
   "execution_count": 31,
   "id": "aa55bb01",
   "metadata": {},
   "outputs": [
    {
     "data": {
      "text/plain": [
       "{'messages': [HumanMessage(content='안녕', additional_kwargs={}, response_metadata={}),\n",
       "  AIMessage(content='안녕하세요! 무엇을 도와드릴까요?', additional_kwargs={}, response_metadata={})],\n",
       " 'extra_field': 10}"
      ]
     },
     "execution_count": 31,
     "metadata": {},
     "output_type": "execute_result"
    }
   ],
   "source": [
    "node(state_exam)"
   ]
  },
  {
   "cell_type": "code",
   "execution_count": 32,
   "id": "d4341f65",
   "metadata": {},
   "outputs": [],
   "source": [
    "from langgraph.graph import StateGraph\n",
    "\n",
    "graph_builder = StateGraph(State)\n",
    "\n",
    "graph_builder.add_node(\"node\", node)\n",
    "graph_builder.set_entry_point(\"node\")\n",
    "\n",
    "graph = graph_builder.compile()"
   ]
  },
  {
   "cell_type": "code",
   "execution_count": 33,
   "id": "b8dfe48a",
   "metadata": {},
   "outputs": [
    {
     "data": {
      "image/png": "[encoded data removed]",
      "text/plain": [
       "<IPython.core.display.Image object>"
      ]
     },
     "metadata": {},
     "output_type": "display_data"
    }
   ],
   "source": [
    "from IPython.display import Image, display\n",
    "\n",
    "display(Image(graph.get_graph().draw_mermaid_png()))"
   ]
  },
  {
   "cell_type": "code",
   "execution_count": 34,
   "id": "3ad937f6",
   "metadata": {},
   "outputs": [],
   "source": [
    "result = graph.invoke({\"messages\": [HumanMessage(\"안녕\")]})"
   ]
  },
  {
   "cell_type": "code",
   "execution_count": 35,
   "id": "7b5af91f",
   "metadata": {},
   "outputs": [
    {
     "data": {
      "text/plain": [
       "{'messages': [HumanMessage(content='안녕', additional_kwargs={}, response_metadata={}),\n",
       "  AIMessage(content='안녕하세요! 무엇을 도와드릴까요?', additional_kwargs={}, response_metadata={})],\n",
       " 'extra_field': 10}"
      ]
     },
     "execution_count": 35,
     "metadata": {},
     "output_type": "execute_result"
    }
   ],
   "source": [
    "result"
   ]
  },
  {
   "cell_type": "code",
   "execution_count": 36,
   "id": "b9ffcb8f",
   "metadata": {},
   "outputs": [
    {
     "data": {
      "text/plain": [
       "[HumanMessage(content='안녕', additional_kwargs={}, response_metadata={}),\n",
       " AIMessage(content='안녕하세요! 무엇을 도와드릴까요?', additional_kwargs={}, response_metadata={})]"
      ]
     },
     "execution_count": 36,
     "metadata": {},
     "output_type": "execute_result"
    }
   ],
   "source": [
    "result[\"messages\"]"
   ]
  },
  {
   "cell_type": "code",
   "execution_count": 37,
   "id": "67857bad",
   "metadata": {},
   "outputs": [
    {
     "name": "stdout",
     "output_type": "stream",
     "text": [
      "==============================================================================================================================================================================================\n",
      "{'node': {'messages': [('user', '안녕'), AIMessage(content='안녕하세요! 무엇을 도와드릴까요?', additional_kwargs={}, response_metadata={})], 'extra_field': 10}}\n",
      "==============================================================================================================================================================================================\n"
     ]
    }
   ],
   "source": [
    "state = State(messages=[('user', '안녕')])\n",
    "\n",
    "for event in graph.stream(state):\n",
    "    print('===================' * 10)\n",
    "    print(event)\n",
    "    print('===================' * 10)"
   ]
  },
  {
   "cell_type": "code",
   "execution_count": 38,
   "id": "b63fa0f5",
   "metadata": {},
   "outputs": [
    {
     "name": "stdout",
     "output_type": "stream",
     "text": [
      "===== for 시작 =====\n",
      "[실행된 노드 이름]: node\n",
      "[assistant 답변]: \n",
      "{'messages': [HumanMessage(content='안녕', additional_kwargs={}, response_metadata={}), AIMessage(content='안녕하세요! 무엇을 도와드릴까요?', additional_kwargs={}, response_metadata={})], 'extra_field': 10}\n",
      "===== for  끝 =====\n"
     ]
    }
   ],
   "source": [
    "state2 = State(messages=[HumanMessage('안녕')])\n",
    "\n",
    "for event in graph.stream(state2):\n",
    "    print('===== for 시작 =====')\n",
    "\n",
    "    for k, value in event.items():\n",
    "        print(f'[실행된 노드 이름]: {k}')        \n",
    "        print(f\"[assistant 답변]: \\n{value}\")\n",
    "\n",
    "    print('===== for  끝 =====')"
   ]
  },
  {
   "cell_type": "code",
   "execution_count": 39,
   "id": "39e05e89",
   "metadata": {},
   "outputs": [
    {
     "name": "stdout",
     "output_type": "stream",
     "text": [
      "===== for 시작 =====\n",
      "[실행된 노드 이름]: node\n",
      "[assistant 답변]: \n",
      "안녕하세요! 무엇을 도와드릴까요?\n",
      "===== for  끝 =====\n"
     ]
    }
   ],
   "source": [
    "state3 = State(messages=[HumanMessage('안녕')])\n",
    "\n",
    "for event in graph.stream(state3):\n",
    "    print('===== for 시작 =====')\n",
    "\n",
    "    for k, value in event.items():\n",
    "        print(f'[실행된 노드 이름]: {k}')        \n",
    "        print(f\"[assistant 답변]: \\n{value['messages'][-1].content}\")\n",
    "        \n",
    "    print('===== for  끝 =====')"
   ]
  },
  {
   "cell_type": "code",
   "execution_count": 40,
   "id": "7a16e1b5",
   "metadata": {},
   "outputs": [
    {
     "name": "stdout",
     "output_type": "stream",
     "text": [
      "\n",
      "===== for 시작 =====\n",
      "[실행된 노드 이름]: node\n",
      "==================== AIMessage ========================\n",
      "[해당 노드 값] : \n",
      "안녕하세요! 무엇을 도와드릴까요?\n",
      "==================== END AIMessage ====================\n",
      "\n",
      "===== for  끝 =====\n"
     ]
    }
   ],
   "source": [
    "state5 = State(messages=[HumanMessage('안녕')])\n",
    "\n",
    "for event in graph.stream(state5):\n",
    "    print()\n",
    "    print('===== for 시작 =====')\n",
    "\n",
    "    for k, value in event.items():\n",
    "        print(f'[실행된 노드 이름]: {k}')\n",
    "        # print(f\"메시지: {value['messages'][-1]}\")   \n",
    "\n",
    "        if isinstance(value['messages'][-1], HumanMessage):\n",
    "            print('==================== HumanMessage ========================')\n",
    "\n",
    "            print('==================== END HumanMessage ====================')\n",
    "            print() \n",
    "        elif isinstance(value['messages'][-1], AIMessage):\n",
    "            print('==================== AIMessage ========================')\n",
    "            print(f\"[해당 노드 값] : \\n{value['messages'][-1].content}\")\n",
    "            print('==================== END AIMessage ====================')     \n",
    "            print()  \n",
    "        elif isinstance(value['messages'][-1], ToolMessage):\n",
    "            print('==================== ToolMessage ========================')\n",
    "\n",
    "            print('==================== END ToolMessage ====================')     \n",
    "            print()\n",
    "    print('===== for  끝 =====')  "
   ]
  }
 ],
 "metadata": {
  "kernelspec": {
   "display_name": "venv",
   "language": "python",
   "name": "python3"
  },
  "language_info": {
   "codemirror_mode": {
    "name": "ipython",
    "version": 3
   },
   "file_extension": ".py",
   "mimetype": "text/x-python",
   "name": "python",
   "nbconvert_exporter": "python",
   "pygments_lexer": "ipython3",
   "version": "3.11.9"
  }
 },
 "nbformat": 4,
 "nbformat_minor": 5
}
