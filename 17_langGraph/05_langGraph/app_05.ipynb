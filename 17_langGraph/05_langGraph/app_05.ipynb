{
 "cells": [
  {
   "cell_type": "code",
   "execution_count": 48,
   "id": "2057da4a",
   "metadata": {},
   "outputs": [],
   "source": [
    "from dotenv import load_dotenv\n",
    "import os\n",
    "\n",
    "load_dotenv(verbose=True)\n",
    "key = os.getenv('OPENAI_API_KEY')"
   ]
  },
  {
   "cell_type": "code",
   "execution_count": 49,
   "id": "7f2d1a68",
   "metadata": {},
   "outputs": [],
   "source": [
    "from langchain_core.messages import AIMessage, HumanMessage\n",
    "from langchain_core.messages import AnyMessage\n",
    "\n",
    "import operator\n",
    "from typing_extensions import TypedDict, Annotated\n",
    "from langgraph.graph import StateGraph, START, END"
   ]
  },
  {
   "cell_type": "code",
   "execution_count": 50,
   "id": "3ba94a34",
   "metadata": {},
   "outputs": [],
   "source": [
    "class State(TypedDict):\n",
    "    aggregate: Annotated[list, operator.add]"
   ]
  },
  {
   "cell_type": "code",
   "execution_count": 51,
   "id": "981ca175",
   "metadata": {},
   "outputs": [],
   "source": [
    "def a(state: State):\n",
    "    print('===== [Node a] =====')\n",
    "    print(f'Node A 처리 중 현재 상태값 : {state[\"aggregate\"]}')\n",
    "    print('====================')\n",
    "    return {\"aggregate\": [\"A\"]}"
   ]
  },
  {
   "cell_type": "code",
   "execution_count": 52,
   "id": "2159ce6d",
   "metadata": {},
   "outputs": [],
   "source": [
    "def b(state: State):\n",
    "    print('===== [Node b] =====')\n",
    "    print(f'Node B 처리 중 현재 상태값 : {state[\"aggregate\"]}')\n",
    "    print('====================')\n",
    "    return {\"aggregate\": [\"B\"]}"
   ]
  },
  {
   "cell_type": "code",
   "execution_count": 53,
   "id": "5bfd2b09",
   "metadata": {},
   "outputs": [
    {
     "data": {
      "text/plain": [
       "<langgraph.graph.state.StateGraph at 0x1ff0e196f10>"
      ]
     },
     "execution_count": 53,
     "metadata": {},
     "output_type": "execute_result"
    }
   ],
   "source": [
    "graph_builder = StateGraph(State)\n",
    "\n",
    "graph_builder.add_node(a)\n",
    "graph_builder.add_node(b)"
   ]
  },
  {
   "cell_type": "code",
   "execution_count": 54,
   "id": "7a6723c0",
   "metadata": {},
   "outputs": [],
   "source": [
    "def route(state: State):\n",
    "    if len(state[\"aggregate\"]) < 7:\n",
    "        print(f'===== [route] =====')\n",
    "        print('b')\n",
    "        print(f'===================')\n",
    "        return \"b\"\n",
    "    else:\n",
    "        print(f'===== [route] =====')\n",
    "        print('END')\n",
    "        print(f'===================')\n",
    "        return END"
   ]
  },
  {
   "cell_type": "code",
   "execution_count": 55,
   "id": "7380c2e4",
   "metadata": {},
   "outputs": [
    {
     "data": {
      "text/plain": [
       "<langgraph.graph.state.StateGraph at 0x1ff0e196f10>"
      ]
     },
     "execution_count": 55,
     "metadata": {},
     "output_type": "execute_result"
    }
   ],
   "source": [
    "graph_builder.add_edge(START, \"a\")\n",
    "graph_builder.add_conditional_edges(\"a\", route)\n",
    "graph_builder.add_edge(\"b\", \"a\")"
   ]
  },
  {
   "cell_type": "code",
   "execution_count": 56,
   "id": "fa96ec81",
   "metadata": {},
   "outputs": [],
   "source": [
    "graph = graph_builder.compile()"
   ]
  },
  {
   "cell_type": "code",
   "execution_count": 57,
   "id": "69bbaa63",
   "metadata": {},
   "outputs": [
    {
     "data": {
      "image/png": "[encoded data removed]",
      "text/plain": [
       "<IPython.core.display.Image object>"
      ]
     },
     "metadata": {},
     "output_type": "display_data"
    }
   ],
   "source": [
    "from IPython.display import Image, display\n",
    "\n",
    "display(Image(graph.get_graph().draw_mermaid_png()))"
   ]
  },
  {
   "cell_type": "code",
   "execution_count": 58,
   "id": "55d90305",
   "metadata": {},
   "outputs": [
    {
     "data": {
      "image/png": "[encoded data removed]",
      "text/plain": [
       "<IPython.core.display.Image object>"
      ]
     },
     "metadata": {},
     "output_type": "display_data"
    }
   ],
   "source": [
    "import requests, zlib, base64\n",
    "from IPython.display import Image\n",
    "\n",
    "# Mermaid 코드 추출\n",
    "code = graph.get_graph().draw_mermaid()\n",
    "\n",
    "# 압축·인코딩 후 Kroki 요청\n",
    "encoded = base64.urlsafe_b64encode(zlib.compress(code.encode())).decode()\n",
    "url = f\"https://kroki.io/mermaid/png/{encoded}\"\n",
    "resp = requests.get(url)\n",
    "display(Image(resp.content))"
   ]
  },
  {
   "cell_type": "code",
   "execution_count": 59,
   "id": "79a34f86",
   "metadata": {},
   "outputs": [
    {
     "name": "stdout",
     "output_type": "stream",
     "text": [
      "===== [Node a] =====\n",
      "Node A 처리 중 현재 상태값 : []\n",
      "====================\n",
      "===== [route] =====\n",
      "b\n",
      "===================\n",
      "===== [Node b] =====\n",
      "Node B 처리 중 현재 상태값 : ['A']\n",
      "====================\n",
      "===== [Node a] =====\n",
      "Node A 처리 중 현재 상태값 : ['A', 'B']\n",
      "====================\n",
      "===== [route] =====\n",
      "b\n",
      "===================\n",
      "===== [Node b] =====\n",
      "Node B 처리 중 현재 상태값 : ['A', 'B', 'A']\n",
      "====================\n",
      "===== [Node a] =====\n",
      "Node A 처리 중 현재 상태값 : ['A', 'B', 'A', 'B']\n",
      "====================\n",
      "===== [route] =====\n",
      "b\n",
      "===================\n",
      "===== [Node b] =====\n",
      "Node B 처리 중 현재 상태값 : ['A', 'B', 'A', 'B', 'A']\n",
      "====================\n",
      "===== [Node a] =====\n",
      "Node A 처리 중 현재 상태값 : ['A', 'B', 'A', 'B', 'A', 'B']\n",
      "====================\n",
      "===== [route] =====\n",
      "END\n",
      "===================\n"
     ]
    },
    {
     "data": {
      "text/plain": [
       "{'aggregate': ['A', 'B', 'A', 'B', 'A', 'B', 'A']}"
      ]
     },
     "execution_count": 59,
     "metadata": {},
     "output_type": "execute_result"
    }
   ],
   "source": [
    "graph.invoke({\"aggregate\": []})"
   ]
  }
 ],
 "metadata": {
  "kernelspec": {
   "display_name": "venv",
   "language": "python",
   "name": "python3"
  },
  "language_info": {
   "codemirror_mode": {
    "name": "ipython",
    "version": 3
   },
   "file_extension": ".py",
   "mimetype": "text/x-python",
   "name": "python",
   "nbconvert_exporter": "python",
   "pygments_lexer": "ipython3",
   "version": "3.11.9"
  }
 },
 "nbformat": 4,
 "nbformat_minor": 5
}
