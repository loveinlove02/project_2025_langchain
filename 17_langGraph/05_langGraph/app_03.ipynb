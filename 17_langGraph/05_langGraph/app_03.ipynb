{
 "cells": [
  {
   "cell_type": "code",
   "execution_count": 2,
   "id": "9f2e92e9",
   "metadata": {},
   "outputs": [],
   "source": [
    "from dotenv import load_dotenv\n",
    "import os\n",
    "\n",
    "load_dotenv(verbose=True)\n",
    "key = os.getenv('OPENAI_API_KEY')"
   ]
  },
  {
   "cell_type": "code",
   "execution_count": 3,
   "id": "61acea24",
   "metadata": {},
   "outputs": [],
   "source": [
    "from langchain_core.messages import AIMessage, HumanMessage\n",
    "from langchain_core.messages import AnyMessage\n",
    "from typing_extensions import TypedDict, Annotated\n",
    "from langgraph.graph.message import add_messages"
   ]
  },
  {
   "cell_type": "code",
   "execution_count": 4,
   "id": "24cfc17c",
   "metadata": {},
   "outputs": [],
   "source": [
    "class State(TypedDict):\n",
    "    messages: Annotated[list[AnyMessage], add_messages]\n",
    "    extra_field: int"
   ]
  },
  {
   "cell_type": "code",
   "execution_count": 5,
   "id": "997c99a7",
   "metadata": {},
   "outputs": [],
   "source": [
    "def node(state: State):\n",
    "    messages = state[\"messages\"]\n",
    "    new_message = AIMessage(\"안녕하세요! 무엇을 도와드릴까요?\")\n",
    "\n",
    "    return {\"messages\": new_message, \"extra_field\": 10}"
   ]
  },
  {
   "cell_type": "code",
   "execution_count": 6,
   "id": "af3b598a",
   "metadata": {},
   "outputs": [],
   "source": [
    "state_exam = State(\n",
    "    messages=[HumanMessage(content='안녕', additional_kwargs={}, response_metadata={})], \n",
    "    extra_field=10\n",
    ")"
   ]
  },
  {
   "cell_type": "code",
   "execution_count": 7,
   "id": "e289927b",
   "metadata": {},
   "outputs": [
    {
     "data": {
      "text/plain": [
       "{'messages': AIMessage(content='안녕하세요! 무엇을 도와드릴까요?', additional_kwargs={}, response_metadata={}),\n",
       " 'extra_field': 10}"
      ]
     },
     "execution_count": 7,
     "metadata": {},
     "output_type": "execute_result"
    }
   ],
   "source": [
    "node(state_exam)"
   ]
  },
  {
   "cell_type": "code",
   "execution_count": 8,
   "id": "af43ea18",
   "metadata": {},
   "outputs": [],
   "source": [
    "from langgraph.graph import StateGraph\n",
    "\n",
    "graph_builder = StateGraph(State)\n",
    "\n",
    "graph_builder.add_node(\"node\", node)\n",
    "graph_builder.set_entry_point(\"node\")\n",
    "\n",
    "graph = graph_builder.compile()"
   ]
  },
  {
   "cell_type": "code",
   "execution_count": 9,
   "id": "7a9197ce",
   "metadata": {},
   "outputs": [
    {
     "data": {
      "image/png": "[encoded data removed]",
      "text/plain": [
       "<IPython.core.display.Image object>"
      ]
     },
     "metadata": {},
     "output_type": "display_data"
    }
   ],
   "source": [
    "from IPython.display import Image, display\n",
    "\n",
    "display(Image(graph.get_graph().draw_mermaid_png()))"
   ]
  },
  {
   "cell_type": "code",
   "execution_count": 10,
   "id": "6df56951",
   "metadata": {},
   "outputs": [
    {
     "name": "stdout",
     "output_type": "stream",
     "text": [
      "================================\u001b[1m Human Message \u001b[0m=================================\n",
      "\n",
      "안녕하세요.\n",
      "==================================\u001b[1m Ai Message \u001b[0m==================================\n",
      "\n",
      "안녕하세요! 무엇을 도와드릴까요?\n"
     ]
    }
   ],
   "source": [
    "input_message = {\"role\": \"user\", \"content\": \"안녕하세요.\"}\n",
    "\n",
    "result = graph.invoke({\"messages\": [input_message]})\n",
    "\n",
    "for message in result[\"messages\"]:\n",
    "    message.pretty_print()"
   ]
  },
  {
   "cell_type": "code",
   "execution_count": 11,
   "id": "2476f644",
   "metadata": {},
   "outputs": [
    {
     "data": {
      "text/plain": [
       "[HumanMessage(content='안녕하세요.', additional_kwargs={}, response_metadata={}, id='cd006c1c-e37e-424d-8b98-ba3f6be3d7a5'),\n",
       " AIMessage(content='안녕하세요! 무엇을 도와드릴까요?', additional_kwargs={}, response_metadata={}, id='6d8e0a13-dcea-42ee-8ed9-fa7dd7521623')]"
      ]
     },
     "execution_count": 11,
     "metadata": {},
     "output_type": "execute_result"
    }
   ],
   "source": [
    "result[\"messages\"]"
   ]
  },
  {
   "cell_type": "code",
   "execution_count": 12,
   "id": "1fee547c",
   "metadata": {},
   "outputs": [
    {
     "data": {
      "text/plain": [
       "{'messages': [HumanMessage(content='안녕하세요.', additional_kwargs={}, response_metadata={}, id='2728f56d-b3fe-4440-8cfe-bb1219f0a67e'),\n",
       "  AIMessage(content='안녕하세요! 무엇을 도와드릴까요?', additional_kwargs={}, response_metadata={}, id='4d2d8552-88c4-4f88-80d2-276fcfc6f4be')],\n",
       " 'extra_field': 10}"
      ]
     },
     "execution_count": 12,
     "metadata": {},
     "output_type": "execute_result"
    }
   ],
   "source": [
    "input_message = {\"role\": \"user\", \"content\": \"안녕하세요.\"}\n",
    "\n",
    "await graph.ainvoke({\"messages\": [input_message]})"
   ]
  },
  {
   "cell_type": "code",
   "execution_count": 13,
   "id": "b6f2cbbd",
   "metadata": {},
   "outputs": [
    {
     "name": "stdout",
     "output_type": "stream",
     "text": [
      "===== [chunk] =====\n",
      "{'messages': [HumanMessage(content='안녕하세요', additional_kwargs={}, response_metadata={}, id='bd174bc8-3dda-4b16-9800-67a617adb915')]}\n",
      "===================\n",
      "\n",
      "===== for 시작 =====\n",
      "[1] [key] : messages\n",
      "[2] [value] : [HumanMessage(content='안녕하세요', additional_kwargs={}, response_metadata={}, id='bd174bc8-3dda-4b16-9800-67a617adb915')]\n",
      "===== for  끝 =====\n",
      "\n",
      "\n",
      "===== [chunk] =====\n",
      "{'messages': [HumanMessage(content='안녕하세요', additional_kwargs={}, response_metadata={}, id='bd174bc8-3dda-4b16-9800-67a617adb915'), AIMessage(content='안녕하세요! 무엇을 도와드릴까요?', additional_kwargs={}, response_metadata={}, id='d34a0294-7159-4d1e-8944-a25eb5677947')], 'extra_field': 10}\n",
      "===================\n",
      "\n",
      "===== for 시작 =====\n",
      "[1] [key] : messages\n",
      "[2] [value] : [HumanMessage(content='안녕하세요', additional_kwargs={}, response_metadata={}, id='bd174bc8-3dda-4b16-9800-67a617adb915'), AIMessage(content='안녕하세요! 무엇을 도와드릴까요?', additional_kwargs={}, response_metadata={}, id='d34a0294-7159-4d1e-8944-a25eb5677947')]\n",
      "===== for  끝 =====\n",
      "\n",
      "===== for 시작 =====\n",
      "[1] [key] : extra_field\n",
      "[2] [value] : 10\n",
      "===== for  끝 =====\n",
      "\n",
      "\n"
     ]
    }
   ],
   "source": [
    "user_messages = {\"role\": \"user\", \"content\": \"안녕하세요\"}\n",
    "\n",
    "for chunk in graph.stream({\"messages\": [user_messages]}, stream_mode=\"values\"):\n",
    "    print(f\"===== [chunk] =====\")\n",
    "    print(chunk)\n",
    "    print(f\"===================\")\n",
    "    print()\n",
    "\n",
    "    for state_key, state_value in chunk.items():\n",
    "        print(f'===== for 시작 =====')\n",
    "        print(f\"[1] [key] : {state_key}\")\n",
    "        print(f\"[2] [value] : {state_value}\")\n",
    "        print(f'===== for  끝 =====')\n",
    "        print()\n",
    "\n",
    "    print()"
   ]
  },
  {
   "cell_type": "code",
   "execution_count": 14,
   "id": "61225456",
   "metadata": {},
   "outputs": [
    {
     "name": "stdout",
     "output_type": "stream",
     "text": [
      "===== [chunk] =====\n",
      "{'messages': [HumanMessage(content='안녕하세요', additional_kwargs={}, response_metadata={}, id='88ca8995-bf45-41ba-bd9c-bb03818930af')]}\n",
      "===================\n",
      "\n",
      "===== for 시작 =====\n",
      "[1] [key] : messages\n",
      "[2] [value] : [HumanMessage(content='안녕하세요', additional_kwargs={}, response_metadata={}, id='88ca8995-bf45-41ba-bd9c-bb03818930af')]\n",
      "===== for  끝 =====\n",
      "\n",
      "\n",
      "===== [chunk] =====\n",
      "{'messages': [HumanMessage(content='안녕하세요', additional_kwargs={}, response_metadata={}, id='88ca8995-bf45-41ba-bd9c-bb03818930af'), AIMessage(content='안녕하세요! 무엇을 도와드릴까요?', additional_kwargs={}, response_metadata={}, id='df9580fd-141a-46df-98c9-ef84a3b14502')], 'extra_field': 10}\n",
      "===================\n",
      "\n",
      "===== for 시작 =====\n",
      "[1] [key] : messages\n",
      "[2] [value] : [HumanMessage(content='안녕하세요', additional_kwargs={}, response_metadata={}, id='88ca8995-bf45-41ba-bd9c-bb03818930af'), AIMessage(content='안녕하세요! 무엇을 도와드릴까요?', additional_kwargs={}, response_metadata={}, id='df9580fd-141a-46df-98c9-ef84a3b14502')]\n",
      "===== for  끝 =====\n",
      "\n",
      "===== for 시작 =====\n",
      "===== for  끝 =====\n",
      "\n",
      "\n"
     ]
    }
   ],
   "source": [
    "user_messages = {\"role\": \"user\", \"content\": \"안녕하세요\"}\n",
    "\n",
    "for chunk in graph.stream({\"messages\": [user_messages]}, stream_mode=\"values\"):\n",
    "    print(f\"===== [chunk] =====\")\n",
    "    print(chunk)\n",
    "    print(f\"===================\")\n",
    "    print()\n",
    "\n",
    "    for state_key, state_value in chunk.items():\n",
    "        print(f'===== for 시작 =====')\n",
    "        if state_key == \"messages\":\n",
    "            print(f\"[1] [key] : {state_key}\")\n",
    "            print(f\"[2] [value] : {state_value}\")\n",
    "        print(f'===== for  끝 =====')\n",
    "        print()\n",
    "\n",
    "    print()"
   ]
  },
  {
   "cell_type": "code",
   "execution_count": 15,
   "id": "cf1ebfee",
   "metadata": {},
   "outputs": [
    {
     "name": "stdout",
     "output_type": "stream",
     "text": [
      "===== [chunk 시작] =====\n",
      "{'messages': [HumanMessage(content='안녕하세요.', additional_kwargs={}, response_metadata={}, id='7c20a133-4d84-41ad-9503-3af1ce334dee')]}\n",
      "===== [chunk 끝] =====\n",
      "\n",
      "================================\u001b[1m Human Message \u001b[0m=================================\n",
      "\n",
      "안녕하세요.\n",
      "\n",
      "===== [chunk 시작] =====\n",
      "{'messages': [HumanMessage(content='안녕하세요.', additional_kwargs={}, response_metadata={}, id='7c20a133-4d84-41ad-9503-3af1ce334dee'), AIMessage(content='안녕하세요! 무엇을 도와드릴까요?', additional_kwargs={}, response_metadata={}, id='42831abc-b999-4435-9b27-6cfeab9e30b3')], 'extra_field': 10}\n",
      "===== [chunk 끝] =====\n",
      "\n",
      "==================================\u001b[1m Ai Message \u001b[0m==================================\n",
      "\n",
      "안녕하세요! 무엇을 도와드릴까요?\n",
      "\n"
     ]
    }
   ],
   "source": [
    "input_message = {\"role\": \"user\", \"content\": \"안녕하세요.\"}\n",
    "\n",
    "for chunk in graph.stream({\"messages\": [input_message]}, stream_mode=\"values\"):\n",
    "    print('===== [chunk 시작] =====')\n",
    "    print(chunk)\n",
    "    print('===== [chunk 끝] =====')\n",
    "    print()\n",
    "    for state_key, state_value in chunk.items():\n",
    "        if state_key == \"messages\":\n",
    "            state_value[-1].pretty_print()\n",
    "    print()"
   ]
  },
  {
   "cell_type": "code",
   "execution_count": 16,
   "id": "df82fc1d",
   "metadata": {},
   "outputs": [
    {
     "name": "stdout",
     "output_type": "stream",
     "text": [
      "===== [chunk 시작] =====\n",
      "{'node': {'messages': AIMessage(content='안녕하세요! 무엇을 도와드릴까요?', additional_kwargs={}, response_metadata={}, id='73ceee94-24d3-4a54-9892-008fa6fa7e1f'), 'extra_field': 10}}\n",
      "===== [chunk 끝] =====\n",
      "\n",
      "node\n",
      "안녕하세요! 무엇을 도와드릴까요?\n"
     ]
    }
   ],
   "source": [
    "input_message = {\"role\": \"user\", \"content\": \"안녕하세요.\"}\n",
    "\n",
    "for chunk in graph.stream({\"messages\": [input_message]}, stream_mode=\"updates\"):\n",
    "    \n",
    "    print('===== [chunk 시작] =====')\n",
    "    print(chunk)\n",
    "    print('===== [chunk 끝] =====')\n",
    "    print()\n",
    "\n",
    "    for node, value in chunk.items():\n",
    "        if node:\n",
    "            print(node)\n",
    "            \n",
    "        if \"messages\" in value:\n",
    "            print(value['messages'].content)"
   ]
  },
  {
   "cell_type": "code",
   "execution_count": 17,
   "id": "e69ad652",
   "metadata": {},
   "outputs": [
    {
     "name": "stdout",
     "output_type": "stream",
     "text": [
      "===== [chunk] =====\n",
      "{'node': {'messages': AIMessage(content='안녕하세요! 무엇을 도와드릴까요?', additional_kwargs={}, response_metadata={}, id='0c32a915-e7aa-4f62-9fc2-8f149fc5d665'), 'extra_field': 10}}\n",
      "===================\n",
      "\n",
      "===== [Node] =====\n",
      "node\n",
      "==================\n",
      "\n",
      "===== [messages] =====\n",
      "안녕하세요! 무엇을 도와드릴까요?\n",
      "======================\n",
      "\n",
      "\n"
     ]
    }
   ],
   "source": [
    "user_messages = {\"role\": \"user\", \"content\": \"안녕하세요\"}\n",
    "\n",
    "for chunk in graph.stream({\"messages\": [user_messages]}, stream_mode=\"updates\"):\n",
    "    print(f\"===== [chunk] =====\")\n",
    "    print(chunk)\n",
    "    print(f\"===================\")\n",
    "    print()\n",
    "\n",
    "    for node, value in chunk.items():\n",
    "        if node:\n",
    "            print('===== [Node] =====')\n",
    "            print(node)\n",
    "            print('==================')\n",
    "            print()\n",
    "        \n",
    "        if 'messages' in value:\n",
    "            print('===== [messages] =====')\n",
    "            print(value['messages'].content) \n",
    "            print('======================')\n",
    "            print()\n",
    "\n",
    "        print()"
   ]
  },
  {
   "cell_type": "code",
   "execution_count": 18,
   "id": "ad54a557",
   "metadata": {},
   "outputs": [
    {
     "name": "stdout",
     "output_type": "stream",
     "text": [
      "content='안녕하세요! 무엇을 도와드릴까요?' additional_kwargs={} response_metadata={} id='b8ec3375-1ba9-4714-9243-8463f958855e'\n",
      "안녕하세요! 무엇을 도와드릴까요?\n",
      "{'langgraph_step': 1, 'langgraph_node': 'node', 'langgraph_triggers': ['start:node'], 'langgraph_path': ('__pregel_pull', 'node'), 'langgraph_checkpoint_ns': 'node:79f5dda0-7227-a373-875e-2d8cc630ca47'}\n",
      "node\n"
     ]
    }
   ],
   "source": [
    "for chunk_msg, metadata in graph.stream({\"messages\": [input_message]}, stream_mode=\"messages\"):\n",
    "    print(chunk_msg)\n",
    "    print(chunk_msg.content)\n",
    "    print(metadata)\n",
    "    print(metadata[\"langgraph_node\"])"
   ]
  },
  {
   "cell_type": "code",
   "execution_count": 19,
   "id": "704ce223",
   "metadata": {},
   "outputs": [
    {
     "name": "stdout",
     "output_type": "stream",
     "text": [
      "===== [chunk_msg] =====\n",
      "content='안녕하세요! 무엇을 도와드릴까요?' additional_kwargs={} response_metadata={} id='2f47f5b7-27b8-4408-80cb-cd499b49f9f3'\n",
      "=======================\n",
      "\n",
      "===== [metadata] =====\n",
      "{'langgraph_step': 1, 'langgraph_node': 'node', 'langgraph_triggers': ['start:node'], 'langgraph_path': ('__pregel_pull', 'node'), 'langgraph_checkpoint_ns': 'node:52991244-0042-d463-873d-de6412a61c8b'}\n",
      "======================\n",
      "\n"
     ]
    }
   ],
   "source": [
    "user_messages = {\"role\": \"user\", \"content\": \"안녕하세요\"}\n",
    "\n",
    "for chunk_msg, metadata in graph.stream({\"messages\": [user_messages]}, stream_mode=\"messages\"):\n",
    "    print(f\"===== [chunk_msg] =====\")\n",
    "    print(chunk_msg)\n",
    "    print(f\"=======================\")\n",
    "    print()\n",
    "\n",
    "    print(f\"===== [metadata] =====\")\n",
    "    print(metadata)\n",
    "    print(f\"======================\")\n",
    "    print()"
   ]
  }
 ],
 "metadata": {
  "kernelspec": {
   "display_name": "venv",
   "language": "python",
   "name": "python3"
  },
  "language_info": {
   "codemirror_mode": {
    "name": "ipython",
    "version": 3
   },
   "file_extension": ".py",
   "mimetype": "text/x-python",
   "name": "python",
   "nbconvert_exporter": "python",
   "pygments_lexer": "ipython3",
   "version": "3.11.9"
  }
 },
 "nbformat": 4,
 "nbformat_minor": 5
}
