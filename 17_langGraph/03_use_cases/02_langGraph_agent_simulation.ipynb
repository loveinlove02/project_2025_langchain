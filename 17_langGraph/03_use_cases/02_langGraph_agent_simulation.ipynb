{
 "cells": [
  {
   "cell_type": "code",
   "execution_count": null,
   "metadata": {},
   "outputs": [],
   "source": [
    "from dotenv import load_dotenv\n",
    "import os\n",
    "\n",
    "load_dotenv(verbose=True)\n",
    "key = os.getenv('OPENAI_API_KEY')"
   ]
  },
  {
   "cell_type": "markdown",
   "metadata": {},
   "source": [
    "### State"
   ]
  },
  {
   "cell_type": "code",
   "execution_count": 191,
   "metadata": {},
   "outputs": [],
   "source": [
    "from langgraph.graph.message import add_messages\n",
    "from typing import Annotated\n",
    "from typing_extensions import TypedDict\n",
    "\n",
    "\n",
    "class State(TypedDict):\n",
    "    messages: Annotated[list, add_messages]"
   ]
  },
  {
   "cell_type": "markdown",
   "metadata": {},
   "source": [
    "### 상담사 chatbot"
   ]
  },
  {
   "cell_type": "code",
   "execution_count": 172,
   "metadata": {},
   "outputs": [],
   "source": [
    "from typing import List\n",
    "\n",
    "from langchain_openai import ChatOpenAI\n",
    "from langchain_core.output_parsers import StrOutputParser\n",
    "from langchain_core.prompts import ChatPromptTemplate\n",
    "\n",
    "from langchain_core.prompts import MessagesPlaceholder\n",
    "\n",
    "from langchain_core.messages import HumanMessage\n",
    "from langchain_core.messages import AIMessage\n",
    "from langchain_core.messages import BaseMessage\n",
    "\n",
    "\n",
    "def call_chatbot(messages: List[BaseMessage]) -> dict:\n",
    "    print('==================================================================================================')\n",
    "    print(f'===== [상담사 chatbot] call_chatbot() =====')\n",
    "\n",
    "    # print(f'[고객 질문]: ')\n",
    "    # print(messages)\n",
    "    \n",
    "    prompt = ChatPromptTemplate.from_messages(\n",
    "        [\n",
    "            (\n",
    "                'system',\n",
    "                'You are a customer support agent for an airline. Answer in Korean.'\n",
    "            ),\n",
    "            MessagesPlaceholder(variable_name='messages') \n",
    "        ]        \n",
    "    )\n",
    "\n",
    "    llm = ChatOpenAI(\n",
    "        api_key=key, \n",
    "        model='gpt-4o-mini', \n",
    "        temperature=0.6\n",
    "    )\n",
    "\n",
    "    chain = prompt | llm | StrOutputParser()\n",
    "    answer = chain.invoke({\"messages\": messages})\n",
    "    # print('답변: ')\n",
    "    # print(answer)\n",
    "    print('==================================================================================================\\n')\n",
    "\n",
    "    return answer"
   ]
  },
  {
   "cell_type": "code",
   "execution_count": 173,
   "metadata": {},
   "outputs": [
    {
     "name": "stdout",
     "output_type": "stream",
     "text": [
      "==================================================================================================\n",
      "===== [상담사 chatbot] call_chatbot() =====\n",
      "==================================================================================================\n",
      "\n"
     ]
    },
    {
     "data": {
      "text/plain": [
       "'안녕하세요! 어떻게 도와드릴까요?'"
      ]
     },
     "execution_count": 173,
     "metadata": {},
     "output_type": "execute_result"
    }
   ],
   "source": [
    "messages = [('user', '안녕하세요?')]\n",
    "call_chatbot(messages)"
   ]
  },
  {
   "cell_type": "code",
   "execution_count": 174,
   "metadata": {},
   "outputs": [
    {
     "name": "stdout",
     "output_type": "stream",
     "text": [
      "==================================================================================================\n",
      "===== [상담사 chatbot] call_chatbot() =====\n",
      "==================================================================================================\n",
      "\n"
     ]
    },
    {
     "data": {
      "text/plain": [
       "'안녕하세요! 무엇을 도와드릴까요?'"
      ]
     },
     "execution_count": 174,
     "metadata": {},
     "output_type": "execute_result"
    }
   ],
   "source": [
    "messages = [HumanMessage(content='안녕하세요?')]\n",
    "call_chatbot(messages)"
   ]
  },
  {
   "cell_type": "markdown",
   "metadata": {},
   "source": [
    "### 메시지의 역할 교체"
   ]
  },
  {
   "cell_type": "code",
   "execution_count": 175,
   "metadata": {},
   "outputs": [],
   "source": [
    "def _swap_roles(messages):          #  메시지 타입을 AI -> Human, Human -> AI 로 교체\n",
    "    \n",
    "    new_messages = []\n",
    "\n",
    "    for m in messages:\n",
    "        if isinstance(m, AIMessage):            \n",
    "            # AIMessage 인 경우, HumanMessage 로 변환합니다.            \n",
    "            new_messages.append(HumanMessage(content=m.content))\n",
    "        else:                                   \n",
    "            # HumanMessage 인 경우, AIMessage 로 변환합니다.            \n",
    "            new_messages.append(AIMessage(content=m.content))\n",
    "\n",
    "    return new_messages"
   ]
  },
  {
   "cell_type": "markdown",
   "metadata": {},
   "source": [
    "### 상담사 노드"
   ]
  },
  {
   "cell_type": "code",
   "execution_count": 176,
   "metadata": {},
   "outputs": [],
   "source": [
    "def ai_assistant_node(state: State):\n",
    "    print('==================================================================================================')\n",
    "    print(f'===== [상담사 노드] ai_assistant_node =====')\n",
    "    \n",
    "    # print(f\"고객 질문: \")\n",
    "    # print(state[\"messages\"])\n",
    "\n",
    "    ai_response = call_chatbot(state[\"messages\"])       # 상담사 챗봇 호출\n",
    "   \n",
    "    # print(f\"상담사 답변: \")\n",
    "    # print(ai_response)\n",
    "\n",
    "    print('==================================================================================================\\n')\n",
    "\n",
    "    return {\"messages\": [(\"assistant\", ai_response)]}"
   ]
  },
  {
   "cell_type": "markdown",
   "metadata": {},
   "source": [
    "### 고객이 사용할 시나리오"
   ]
  },
  {
   "cell_type": "code",
   "execution_count": 177,
   "metadata": {},
   "outputs": [],
   "source": [
    "def create_scenario(name: str, instructions: str):\n",
    "    system_prompt_template = \"\"\"You are a customer of an airline company. \\\n",
    "You are interacting with a user who is a customer support person. \\\n",
    "\n",
    "Your name is {name}.\n",
    "\n",
    "# Instructions:\n",
    "{instructions}\n",
    "\n",
    "[IMPORTANT] \n",
    "- When you are finished with the conversation, respond with a single word 'FINISHED'\n",
    "- You must speak in Korean.\"\"\"\n",
    "\n",
    "\n",
    "    prompt = ChatPromptTemplate.from_messages(\n",
    "        [\n",
    "            (\"system\", system_prompt_template),\n",
    "            MessagesPlaceholder(variable_name=\"messages\")\n",
    "        ]\n",
    "    )\n",
    "\n",
    "    prompt = prompt.partial(name=name, instructions=instructions)\n",
    "\n",
    "    return prompt"
   ]
  },
  {
   "cell_type": "code",
   "execution_count": 178,
   "metadata": {},
   "outputs": [],
   "source": [
    "instructions = \"\"\"You are trying to get a refund for the trip you took to Jeju Island. \\\n",
    "You want them to give you ALL the money back. This trip happened last year.\"\"\"\n",
    "\n",
    "name = '홀길동'\n",
    "\n",
    "# create_scenario(name, instructions).pretty_print()\n",
    "\n",
    "llm = ChatOpenAI(\n",
    "    api_key=key, \n",
    "    model='gpt-4o-mini', \n",
    "    temperature=0.6\n",
    ")\n",
    "\n",
    "simulated_user = create_scenario(name, instructions) | llm | StrOutputParser()"
   ]
  },
  {
   "cell_type": "markdown",
   "metadata": {},
   "source": [
    "### 사용자 노드"
   ]
  },
  {
   "cell_type": "code",
   "execution_count": 179,
   "metadata": {},
   "outputs": [],
   "source": [
    "def simulated_user_node(state: State):\n",
    "\n",
    "    print('==================================================================================================')\n",
    "    print(f'===== [고객 노드] simulated_user_node() =====')\n",
    "    \n",
    "    new_messages = _swap_roles(state[\"messages\"])\n",
    "\n",
    "    # print(f\"사용자 질문: \")\n",
    "    # print(new_messages)\n",
    "\n",
    "    response = simulated_user.invoke({'messages': new_messages})\n",
    "\n",
    "    # print(f\"답변: \")\n",
    "    # print(response)\n",
    "    print('==================================================================================================\\n')\n",
    "\n",
    "    return {'messages': [('user', response)]}"
   ]
  },
  {
   "cell_type": "code",
   "execution_count": 180,
   "metadata": {},
   "outputs": [
    {
     "name": "stdout",
     "output_type": "stream",
     "text": [
      "==================================================================================================\n",
      "===== [고객 노드] simulated_user_node() =====\n",
      "==================================================================================================\n",
      "\n"
     ]
    },
    {
     "data": {
      "text/plain": [
       "{'messages': [('user',\n",
       "   '안녕하세요. 작년에 제주도로 여행을 갔었는데, 그 여행에 대한 환불을 요청하고 싶습니다. 모든 돈을 돌려받고 싶습니다. 도와주실 수 있나요?')]}"
      ]
     },
     "execution_count": 180,
     "metadata": {},
     "output_type": "execute_result"
    }
   ],
   "source": [
    "inputs = {\n",
    "    \"messages\": [AIMessage(content=\"무엇을 도와드릴까요?\")]\n",
    "    \n",
    "}\n",
    "\n",
    "simulated_user_node(inputs)"
   ]
  },
  {
   "cell_type": "code",
   "execution_count": 181,
   "metadata": {},
   "outputs": [],
   "source": [
    "def should_continue(state: State):\n",
    "    print('\\n==================================================================================================')\n",
    "    print(f'===== [계속 실행] should_continue() =====')\n",
    "\n",
    "    if len(state[\"messages\"]) > 6:\n",
    "        print('end')\n",
    "        return \"end\"\n",
    "    elif state[\"messages\"][-1].content == \"FINISHED\":\n",
    "        print('end')\n",
    "        return \"end\"\n",
    "    else:\n",
    "        print('continue')\n",
    "        return \"continue\""
   ]
  },
  {
   "cell_type": "code",
   "execution_count": 182,
   "metadata": {},
   "outputs": [],
   "source": [
    "from langgraph.checkpoint.memory import MemorySaver\n",
    "from langchain_teddynote.graphs import visualize_graph\n",
    "from langgraph.graph import StateGraph, END"
   ]
  },
  {
   "cell_type": "code",
   "execution_count": 183,
   "metadata": {},
   "outputs": [],
   "source": [
    "######### 1. 그래프 생성 #########\n",
    "\n",
    "graph_builder = StateGraph(State)"
   ]
  },
  {
   "cell_type": "code",
   "execution_count": 184,
   "metadata": {},
   "outputs": [
    {
     "data": {
      "text/plain": [
       "<langgraph.graph.state.StateGraph at 0x19092cdc550>"
      ]
     },
     "execution_count": 184,
     "metadata": {},
     "output_type": "execute_result"
    }
   ],
   "source": [
    "######### 2. 노드 정의  #########\n",
    "\n",
    "graph_builder.add_node('simulated_user', simulated_user_node)\n",
    "graph_builder.add_node('ai_assistant', ai_assistant_node)"
   ]
  },
  {
   "cell_type": "code",
   "execution_count": 185,
   "metadata": {},
   "outputs": [
    {
     "data": {
      "text/plain": [
       "<langgraph.graph.state.StateGraph at 0x19092cdc550>"
      ]
     },
     "execution_count": 185,
     "metadata": {},
     "output_type": "execute_result"
    }
   ],
   "source": [
    "######### 3. 그래프 엣지(Edge) 추가  #########\n",
    "\n",
    "graph_builder.add_edge('ai_assistant', 'simulated_user')"
   ]
  },
  {
   "cell_type": "code",
   "execution_count": 186,
   "metadata": {},
   "outputs": [
    {
     "data": {
      "text/plain": [
       "<langgraph.graph.state.StateGraph at 0x19092cdc550>"
      ]
     },
     "execution_count": 186,
     "metadata": {},
     "output_type": "execute_result"
    }
   ],
   "source": [
    "graph_builder.add_conditional_edges(\n",
    "    \"simulated_user\",\n",
    "    should_continue,\n",
    "    {\n",
    "        \"end\": END,                     \n",
    "        \"continue\": \"ai_assistant\", \n",
    "    },\n",
    ")"
   ]
  },
  {
   "cell_type": "code",
   "execution_count": 187,
   "metadata": {},
   "outputs": [
    {
     "data": {
      "text/plain": [
       "<langgraph.graph.state.StateGraph at 0x19092cdc550>"
      ]
     },
     "execution_count": 187,
     "metadata": {},
     "output_type": "execute_result"
    }
   ],
   "source": [
    "######### 4. 그래프 진입점  #########\n",
    "\n",
    "graph_builder.set_entry_point('ai_assistant')"
   ]
  },
  {
   "cell_type": "code",
   "execution_count": 188,
   "metadata": {},
   "outputs": [],
   "source": [
    "######### 5. 그래프 컴파일(compile)  #########\n",
    "\n",
    "simulation = graph_builder.compile()"
   ]
  },
  {
   "cell_type": "code",
   "execution_count": 189,
   "metadata": {},
   "outputs": [
    {
     "data": {
      "image/png": "[encoded data removed]",
      "text/plain": [
       "<IPython.core.display.Image object>"
      ]
     },
     "metadata": {},
     "output_type": "display_data"
    }
   ],
   "source": [
    "visualize_graph(simulation)"
   ]
  },
  {
   "cell_type": "code",
   "execution_count": 190,
   "metadata": {},
   "outputs": [
    {
     "name": "stdout",
     "output_type": "stream",
     "text": [
      "==================================================================================================\n",
      "===== [상담사 노드] ai_assistant_node =====\n",
      "==================================================================================================\n",
      "===== [상담사 chatbot] call_chatbot() =====\n",
      "==================================================================================================\n",
      "\n",
      "==================================================================================================\n",
      "\n",
      "[node_name]: ai_assistant\n",
      "[node_chunk]:\n",
      " {'messages': [('assistant', '안녕하세요! 저희 항공사에 문의해 주셔서 감사합니다. 무엇 때문에 화가 나셨는지 말씀해 주시면, 최대한 도와드리도록 하겠습니다. 어떤 문제가 있으신가요?')]}\n",
      "==================================================================================================\n",
      "===== [고객 노드] simulated_user_node() =====\n",
      "==================================================================================================\n",
      "\n",
      "\n",
      "==================================================================================================\n",
      "===== [계속 실행] should_continue() =====\n",
      "continue\n",
      "[node_name]: simulated_user\n",
      "[node_chunk]:\n",
      " {'messages': [('user', '작년 제주도 여행에 대한 환불을 요청하고 싶습니다. 여행이 정말 실망스러웠고, 전액 환불을 받고 싶어요.')]}\n",
      "==================================================================================================\n",
      "===== [상담사 노드] ai_assistant_node =====\n",
      "==================================================================================================\n",
      "===== [상담사 chatbot] call_chatbot() =====\n",
      "==================================================================================================\n",
      "\n",
      "==================================================================================================\n",
      "\n",
      "[node_name]: ai_assistant\n",
      "[node_chunk]:\n",
      " {'messages': [('assistant', '죄송합니다. 제주도 여행에 대한 실망스러운 경험에 대해 듣게 되어 유감입니다. 환불 요청을 진행하기 위해 몇 가지 정보를 필요로 합니다. 예약 번호와 여행 날짜를 알려주실 수 있으신가요? 그리고 환불 사유에 대해서도 조금 더 자세히 말씀해 주시면 감사하겠습니다. 최대한 빠르게 도와드리겠습니다.')]}\n",
      "==================================================================================================\n",
      "===== [고객 노드] simulated_user_node() =====\n",
      "==================================================================================================\n",
      "\n",
      "\n",
      "==================================================================================================\n",
      "===== [계속 실행] should_continue() =====\n",
      "continue\n",
      "[node_name]: simulated_user\n",
      "[node_chunk]:\n",
      " {'messages': [('user', '예약 번호는 123456이고, 여행 날짜는 작년 5월 15일이었습니다. 환불 사유는 서비스가 매우 불만족스러웠고, 기대했던 것과 너무 달라서입니다. 전액 환불을 원합니다.')]}\n",
      "==================================================================================================\n",
      "===== [상담사 노드] ai_assistant_node =====\n",
      "==================================================================================================\n",
      "===== [상담사 chatbot] call_chatbot() =====\n",
      "==================================================================================================\n",
      "\n",
      "==================================================================================================\n",
      "\n",
      "[node_name]: ai_assistant\n",
      "[node_chunk]:\n",
      " {'messages': [('assistant', '예약 번호와 여행 날짜를 알려주셔서 감사합니다. 고객님께서 경험하신 불만족스러운 서비스에 대해 진심으로 사과드립니다. 전액 환불 요청을 처리하기 위해 필요한 절차를 안내해 드리겠습니다.\\n\\n1. **환불 요청서**: 환불 요청서를 작성해 주셔야 합니다. 요청서에는 예약 번호, 여행 날짜, 환불 사유를 포함해 주세요.\\n2. **증빙 자료**: 서비스에 대한 불만족을 증명할 수 있는 자료(사진, 이메일 등)가 있으시면 함께 제출해 주시면 도움이 됩니다.\\n\\n작성하신 요청서는 고객 서비스 센터로 전달하여 검토 후 신속하게 처리하도록 하겠습니다. 요청서 양식은 저희 웹사이트에서 다운로드하실 수 있습니다.\\n\\n추가로 궁금하신 점이나 도움이 필요하신 부분이 있으시면 언제든지 말씀해 주세요. 감사합니다.')]}\n",
      "==================================================================================================\n",
      "===== [고객 노드] simulated_user_node() =====\n",
      "==================================================================================================\n",
      "\n",
      "\n",
      "==================================================================================================\n",
      "===== [계속 실행] should_continue() =====\n",
      "end\n",
      "[node_name]: simulated_user\n",
      "[node_chunk]:\n",
      " {'messages': [('user', '환불 요청서와 증빙 자료를 제출하면 전액 환불이 가능하다는 말씀이시죠? 그럼 최대한 빨리 요청서를 작성해서 제출하겠습니다. 처리 속도가 빠르길 바랍니다. 감사합니다!')]}\n"
     ]
    }
   ],
   "source": [
    "from langchain_core.runnables import RunnableConfig\n",
    "from langchain_teddynote.messages import stream_graph, random_uuid\n",
    "\n",
    "config = RunnableConfig(recursion_limit=10, configurable={\"thread_id\": random_uuid()})\n",
    "\n",
    "# 입력 메시지 설정\n",
    "inputs = {\n",
    "    \"messages\": [HumanMessage(content=\"안녕하세요? 저 지금 좀 화가 많이 났습니다^^\")]\n",
    "}\n",
    "\n",
    "\n",
    "for event in simulation.stream(inputs, config=config):\n",
    "    for node_name, node_chunk in event.items():\n",
    "        print('[node_name]:', node_name)\n",
    "        print('[node_chunk]:\\n', node_chunk)"
   ]
  }
 ],
 "metadata": {
  "kernelspec": {
   "display_name": "venv",
   "language": "python",
   "name": "python3"
  },
  "language_info": {
   "name": "python",
   "version": "3.11.9"
  }
 },
 "nbformat": 4,
 "nbformat_minor": 2
}
