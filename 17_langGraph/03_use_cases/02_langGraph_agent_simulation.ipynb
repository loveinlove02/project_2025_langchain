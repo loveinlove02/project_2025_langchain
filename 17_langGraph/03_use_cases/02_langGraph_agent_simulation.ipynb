{
 "cells": [
  {
   "cell_type": "code",
   "execution_count": 1,
   "metadata": {},
   "outputs": [],
   "source": [
    "from dotenv import load_dotenv\n",
    "import os\n",
    "\n",
    "load_dotenv(verbose=True)\n",
    "key = os.getenv('OPENAI_API_KEY')"
   ]
  },
  {
   "cell_type": "markdown",
   "metadata": {},
   "source": [
    "### State"
   ]
  },
  {
   "cell_type": "code",
   "execution_count": 2,
   "metadata": {},
   "outputs": [],
   "source": [
    "from langgraph.graph.message import add_messages\n",
    "from typing import Annotated\n",
    "from typing_extensions import TypedDict\n",
    "\n",
    "\n",
    "class State(TypedDict):\n",
    "    messages: Annotated[list, add_messages]"
   ]
  },
  {
   "cell_type": "markdown",
   "metadata": {},
   "source": [
    "### 상담사 chatbot"
   ]
  },
  {
   "cell_type": "code",
   "execution_count": null,
   "metadata": {},
   "outputs": [],
   "source": [
    "from typing import List\n",
    "\n",
    "from langchain_openai import ChatOpenAI\n",
    "from langchain_core.output_parsers import StrOutputParser\n",
    "from langchain_core.prompts import ChatPromptTemplate\n",
    "\n",
    "from langchain_core.prompts import MessagesPlaceholder\n",
    "\n",
    "from langchain_core.messages import HumanMessage\n",
    "from langchain_core.messages import AIMessage\n",
    "from langchain_core.messages import BaseMessage\n",
    "\n",
    "\n",
    "def call_chatbot(messages: List[BaseMessage]) -> dict:\n",
    "    print('==================================================================================================')\n",
    "    print(f'상담사 chatbot')\n",
    "\n",
    "    print(f'[고객 질문]: ')\n",
    "    print(messages)\n",
    "    \n",
    "    prompt = ChatPromptTemplate.from_messages(\n",
    "        [\n",
    "            (\n",
    "                'system',\n",
    "                'You are a customer support agent for an airline. Answer in Korean.'\n",
    "            ),\n",
    "            MessagesPlaceholder(variable_name='messages') \n",
    "        ]        \n",
    "    )\n",
    "\n",
    "    llm = ChatOpenAI(\n",
    "        api_key=key, \n",
    "        model='gpt-4o-mini', \n",
    "        temperature=0.6\n",
    "    )\n",
    "\n",
    "    chain = prompt | llm | StrOutputParser()\n",
    "    answer = chain.invoke({\"messages\": messages})\n",
    "    \n",
    "    print(f\"상담사 chatbot 답변: \")\n",
    "    print(answer)\n",
    "    \n",
    "    print('==================================================================================================\\n')\n",
    "\n",
    "    return answer"
   ]
  },
  {
   "cell_type": "code",
   "execution_count": 4,
   "metadata": {},
   "outputs": [
    {
     "name": "stdout",
     "output_type": "stream",
     "text": [
      "==================================================\n",
      "상담사 chatbot\n",
      "[고객 질문]: \n",
      "[('user', '안녕하세요?')]\n",
      "상담사 chatbot 답변: \n",
      "안녕하세요! 어떻게 도와드릴까요?\n",
      "==================================================\n",
      "\n"
     ]
    },
    {
     "data": {
      "text/plain": [
       "'안녕하세요! 어떻게 도와드릴까요?'"
      ]
     },
     "execution_count": 4,
     "metadata": {},
     "output_type": "execute_result"
    }
   ],
   "source": [
    "messages = [('user', '안녕하세요?')]\n",
    "call_chatbot(messages)"
   ]
  },
  {
   "cell_type": "code",
   "execution_count": 5,
   "metadata": {},
   "outputs": [
    {
     "name": "stdout",
     "output_type": "stream",
     "text": [
      "==================================================\n",
      "상담사 chatbot\n",
      "[고객 질문]: \n",
      "[HumanMessage(content='안녕하세요?', additional_kwargs={}, response_metadata={})]\n",
      "상담사 chatbot 답변: \n",
      "안녕하세요! 무엇을 도와드릴까요?\n",
      "==================================================\n",
      "\n"
     ]
    },
    {
     "data": {
      "text/plain": [
       "'안녕하세요! 무엇을 도와드릴까요?'"
      ]
     },
     "execution_count": 5,
     "metadata": {},
     "output_type": "execute_result"
    }
   ],
   "source": [
    "messages = [HumanMessage(content='안녕하세요?')]\n",
    "call_chatbot(messages)"
   ]
  },
  {
   "cell_type": "markdown",
   "metadata": {},
   "source": [
    "### 메시지의 역할 교체"
   ]
  },
  {
   "cell_type": "code",
   "execution_count": 6,
   "metadata": {},
   "outputs": [],
   "source": [
    "def _swap_roles(messages):          #  메시지 타입을 AI -> Human, Human -> AI 로 교체\n",
    "    \n",
    "    new_messages = []\n",
    "\n",
    "    for m in messages:\n",
    "        if isinstance(m, AIMessage):            \n",
    "            # AIMessage 인 경우, HumanMessage 로 변환합니다.            \n",
    "            new_messages.append(HumanMessage(content=m.content))\n",
    "        else:                                   \n",
    "            # HumanMessage 인 경우, AIMessage 로 변환합니다.            \n",
    "            new_messages.append(AIMessage(content=m.content))\n",
    "\n",
    "    return new_messages"
   ]
  },
  {
   "cell_type": "code",
   "execution_count": 7,
   "metadata": {},
   "outputs": [
    {
     "data": {
      "text/plain": [
       "[AIMessage(content='교환을 하고 싶습니다.', additional_kwargs={}, response_metadata={})]"
      ]
     },
     "execution_count": 7,
     "metadata": {},
     "output_type": "execute_result"
    }
   ],
   "source": [
    "message1 = [HumanMessage(content='교환을 하고 싶습니다.', id='1')]\n",
    "result = _swap_roles(message1)\n",
    "result"
   ]
  },
  {
   "cell_type": "code",
   "execution_count": 8,
   "metadata": {},
   "outputs": [
    {
     "data": {
      "text/plain": [
       "[HumanMessage(content='필요한것이 있으신가요?', additional_kwargs={}, response_metadata={})]"
      ]
     },
     "execution_count": 8,
     "metadata": {},
     "output_type": "execute_result"
    }
   ],
   "source": [
    "message2 = [AIMessage(content='필요한것이 있으신가요?', id='2')]\n",
    "result2 = _swap_roles(message2)\n",
    "result2"
   ]
  },
  {
   "cell_type": "markdown",
   "metadata": {},
   "source": [
    "### 상담사 노드"
   ]
  },
  {
   "cell_type": "code",
   "execution_count": 93,
   "metadata": {},
   "outputs": [],
   "source": [
    "def ai_assistant_node(state: State):\n",
    "    print('==================================================================================================')\n",
    "    print(f'🔄 [Node] AI 상담사 ai_assistant_node 🔄')\n",
    "\n",
    "    # print(f\"고객 질문: \")\n",
    "    # print(state[\"messages\"])\n",
    "\n",
    "    print('--------------------')\n",
    "    print(f\"상담사 chatbot 노드를 호출합니다. \")\n",
    "    print('--------------------')\n",
    "    \n",
    "    ai_response = call_chatbot(state[\"messages\"])       # 상담사 챗봇 호출\n",
    "   \n",
    "    # print(f\"상담사 답변: \")\n",
    "    # print(ai_response)\n",
    "\n",
    "    print('==================================================================================================\\n')\n",
    "\n",
    "    return {\"messages\": [(\"assistant\", ai_response)]}"
   ]
  },
  {
   "cell_type": "code",
   "execution_count": null,
   "metadata": {},
   "outputs": [
    {
     "name": "stdout",
     "output_type": "stream",
     "text": [
      "==================================================================================================\n",
      "🔄 [Node] AI 상담사 ai_assistant_node 🔄\n",
      "--------------------\n",
      "상담사 chatbot 노드를 호출합니다. \n",
      "--------------------\n",
      "====================\n",
      "상담사 chatbot\n",
      "[고객 질문]: \n",
      "[HumanMessage(content='교환을 하고 싶습니다.', additional_kwargs={}, response_metadata={}, id='1')]\n"
     ]
    }
   ],
   "source": [
    "state = State(messages=[HumanMessage(content='교환을 하고 싶습니다.', id='1')])\n",
    "result3 = ai_assistant_node(state)\n",
    "result3"
   ]
  },
  {
   "cell_type": "markdown",
   "metadata": {},
   "source": [
    "### 고객이 사용할 시나리오"
   ]
  },
  {
   "cell_type": "code",
   "execution_count": null,
   "metadata": {},
   "outputs": [],
   "source": [
    "def create_scenario(name: str, instructions: str):\n",
    "    system_prompt_template = \"\"\"You are a customer of an airline company. \\\n",
    "You are interacting with a user who is a customer support person. \\\n",
    "\n",
    "Your name is {name}.\n",
    "\n",
    "# Instructions:\n",
    "{instructions}\n",
    "\n",
    "[IMPORTANT] \n",
    "- When you are finished with the conversation, respond with a single word 'FINISHED'\n",
    "- You must speak in Korean.\"\"\"\n",
    "\n",
    "\n",
    "    prompt = ChatPromptTemplate.from_messages(\n",
    "        [\n",
    "            (\"system\", system_prompt_template),\n",
    "            MessagesPlaceholder(variable_name=\"messages\")\n",
    "        ]\n",
    "    )\n",
    "\n",
    "    prompt = prompt.partial(name=name, instructions=instructions)\n",
    "\n",
    "    return prompt"
   ]
  },
  {
   "cell_type": "code",
   "execution_count": null,
   "metadata": {},
   "outputs": [],
   "source": [
    "instructions = \"\"\"You are trying to get a refund for the trip you took to Jeju Island. \\\n",
    "You want them to give you ALL the money back. This trip happened last year.\"\"\"\n",
    "\n",
    "name = '홍길동'\n",
    "\n",
    "# create_scenario(name, instructions).pretty_print()\n",
    "\n",
    "llm = ChatOpenAI(\n",
    "    api_key=key, \n",
    "    model='gpt-4o-mini', \n",
    "    temperature=0.6\n",
    ")\n",
    "\n",
    "simulated_user = create_scenario(name, instructions) | llm | StrOutputParser()"
   ]
  },
  {
   "cell_type": "markdown",
   "metadata": {},
   "source": [
    "### 사용자 노드"
   ]
  },
  {
   "cell_type": "code",
   "execution_count": null,
   "metadata": {},
   "outputs": [],
   "source": [
    "def simulated_user_node(state: State):\n",
    "\n",
    "    print('==================================================================================================')\n",
    "    print(f'🔄 [Node] 고객 노드 simulated_user_node 🔄')\n",
    "    \n",
    "    new_messages = _swap_roles(state[\"messages\"])\n",
    "\n",
    "    # print(f\"사용자 질문: \")\n",
    "    # print(new_messages)\n",
    "\n",
    "    response = simulated_user.invoke({'messages': new_messages})\n",
    "\n",
    "    # print(f\"답변: \")\n",
    "    # print(response)\n",
    "    print('==================================================================================================\\n')\n",
    "\n",
    "    return {'messages': [('user', response)]}"
   ]
  },
  {
   "cell_type": "code",
   "execution_count": null,
   "metadata": {},
   "outputs": [
    {
     "name": "stdout",
     "output_type": "stream",
     "text": [
      "==================================================================================================\n",
      "🔄 [Node] 고객 노드 simulated_user_node 🔄\n",
      "==================================================================================================\n",
      "\n"
     ]
    },
    {
     "data": {
      "text/plain": [
       "{'messages': [('user',\n",
       "   '안녕하세요. 저는 작년에 제주도로 여행을 갔었는데, 그 여행에 대한 환불을 요청하고 싶습니다. 모든 금액을 환불받고 싶습니다. 도와주실 수 있나요?')]}"
      ]
     },
     "execution_count": 72,
     "metadata": {},
     "output_type": "execute_result"
    }
   ],
   "source": [
    "inputs = {\n",
    "    \"messages\": [AIMessage(content=\"무엇을 도와드릴까요?\")]\n",
    "    \n",
    "}\n",
    "\n",
    "simulated_user_node(inputs)"
   ]
  },
  {
   "cell_type": "code",
   "execution_count": null,
   "metadata": {},
   "outputs": [],
   "source": [
    "def should_continue(state: State):\n",
    "    print('\\n==================================================================================================')\n",
    "    print(f'===== [계속 실행] should_continue() =====')\n",
    "\n",
    "    if len(state[\"messages\"]) > 6:\n",
    "        print('end')\n",
    "        return \"end\"\n",
    "    elif state[\"messages\"][-1].content == \"FINISHED\":\n",
    "        print('end')\n",
    "        return \"end\"\n",
    "    else:\n",
    "        print('continue')\n",
    "        return \"continue\""
   ]
  },
  {
   "cell_type": "code",
   "execution_count": null,
   "metadata": {},
   "outputs": [],
   "source": [
    "from langgraph.checkpoint.memory import MemorySaver\n",
    "from langchain_teddynote.graphs import visualize_graph\n",
    "from langgraph.graph import StateGraph, END"
   ]
  },
  {
   "cell_type": "code",
   "execution_count": null,
   "metadata": {},
   "outputs": [],
   "source": [
    "######### 1. 그래프 생성 #########\n",
    "\n",
    "graph_builder = StateGraph(State)"
   ]
  },
  {
   "cell_type": "code",
   "execution_count": null,
   "metadata": {},
   "outputs": [
    {
     "data": {
      "text/plain": [
       "<langgraph.graph.state.StateGraph at 0x23b92903d10>"
      ]
     },
     "execution_count": 76,
     "metadata": {},
     "output_type": "execute_result"
    }
   ],
   "source": [
    "######### 2. 노드 정의  #########\n",
    "\n",
    "graph_builder.add_node('simulated_user', simulated_user_node)\n",
    "graph_builder.add_node('ai_assistant', ai_assistant_node)"
   ]
  },
  {
   "cell_type": "code",
   "execution_count": null,
   "metadata": {},
   "outputs": [
    {
     "data": {
      "text/plain": [
       "<langgraph.graph.state.StateGraph at 0x23b92903d10>"
      ]
     },
     "execution_count": 77,
     "metadata": {},
     "output_type": "execute_result"
    }
   ],
   "source": [
    "######### 3. 그래프 엣지(Edge) 추가  #########\n",
    "\n",
    "graph_builder.add_edge('ai_assistant', 'simulated_user')"
   ]
  },
  {
   "cell_type": "code",
   "execution_count": null,
   "metadata": {},
   "outputs": [
    {
     "data": {
      "text/plain": [
       "<langgraph.graph.state.StateGraph at 0x23b92903d10>"
      ]
     },
     "execution_count": 78,
     "metadata": {},
     "output_type": "execute_result"
    }
   ],
   "source": [
    "graph_builder.add_conditional_edges(\n",
    "    \"simulated_user\",\n",
    "    should_continue,\n",
    "    {\n",
    "        \"end\": END,                     \n",
    "        \"continue\": \"ai_assistant\", \n",
    "    },\n",
    ")"
   ]
  },
  {
   "cell_type": "code",
   "execution_count": null,
   "metadata": {},
   "outputs": [
    {
     "data": {
      "text/plain": [
       "<langgraph.graph.state.StateGraph at 0x23b92903d10>"
      ]
     },
     "execution_count": 79,
     "metadata": {},
     "output_type": "execute_result"
    }
   ],
   "source": [
    "######### 4. 그래프 진입점  #########\n",
    "\n",
    "graph_builder.set_entry_point('ai_assistant')"
   ]
  },
  {
   "cell_type": "code",
   "execution_count": null,
   "metadata": {},
   "outputs": [],
   "source": [
    "######### 5. 그래프 컴파일(compile)  #########\n",
    "\n",
    "simulation = graph_builder.compile()"
   ]
  },
  {
   "cell_type": "code",
   "execution_count": null,
   "metadata": {},
   "outputs": [
    {
     "name": "stdout",
     "output_type": "stream",
     "text": [
      "[ERROR] Visualize Graph Error: HTTPSConnectionPool(host='mermaid.ink', port=443): Read timed out. (read timeout=10)\n"
     ]
    }
   ],
   "source": [
    "visualize_graph(simulation)"
   ]
  },
  {
   "cell_type": "code",
   "execution_count": null,
   "metadata": {},
   "outputs": [
    {
     "name": "stdout",
     "output_type": "stream",
     "text": [
      "==================================================================================================\n",
      "🔄 [Node] AI 상담사 ai_assistant_node 🔄\n",
      "--------------------\n",
      "상담사 chatbot 노드를 호출합니다. \n",
      "--------------------\n",
      "====================\n",
      "🔄 [Node] 상담사 chatbot 노드 🔄\n",
      "[고객 질문]: \n",
      "[HumanMessage(content='안녕하세요? 저 지금 좀 화가 많이 났습니다^^', additional_kwargs={}, response_metadata={}, id='57ac1c3e-a204-4d35-90a3-c6f47b9b1605')]\n",
      "상담사 chatbot 답변: \n",
      "안녕하세요! 고객님, 어떤 문제로 인해 화가 나신 건지 말씀해 주시면 최선을 다해 도와드리겠습니다. 어떤 부분에서 불편을 겪으셨는지 알려주실 수 있을까요?\n",
      "====================\n",
      "\n",
      "==================================================================================================\n",
      "\n",
      "[node_name]: ai_assistant\n",
      "[node_chunk]:\n",
      " {'messages': [('assistant', '안녕하세요! 고객님, 어떤 문제로 인해 화가 나신 건지 말씀해 주시면 최선을 다해 도와드리겠습니다. 어떤 부분에서 불편을 겪으셨는지 알려주실 수 있을까요?')]}\n",
      "==================================================================================================\n",
      "🔄 [Node] 고객 노드 simulated_user_node 🔄\n",
      "==================================================================================================\n",
      "\n",
      "\n",
      "==================================================================================================\n",
      "===== [계속 실행] should_continue() =====\n",
      "continue\n",
      "[node_name]: simulated_user\n",
      "[node_chunk]:\n",
      " {'messages': [('user', '작년 제주도로 여행을 갔었는데, 그 여행에 대한 환불을 받고 싶습니다. 전액 환불이 필요합니다.')]}\n",
      "==================================================================================================\n",
      "🔄 [Node] AI 상담사 ai_assistant_node 🔄\n",
      "--------------------\n",
      "상담사 chatbot 노드를 호출합니다. \n",
      "--------------------\n",
      "====================\n",
      "🔄 [Node] 상담사 chatbot 노드 🔄\n",
      "[고객 질문]: \n",
      "[HumanMessage(content='안녕하세요? 저 지금 좀 화가 많이 났습니다^^', additional_kwargs={}, response_metadata={}, id='57ac1c3e-a204-4d35-90a3-c6f47b9b1605'), AIMessage(content='안녕하세요! 고객님, 어떤 문제로 인해 화가 나신 건지 말씀해 주시면 최선을 다해 도와드리겠습니다. 어떤 부분에서 불편을 겪으셨는지 알려주실 수 있을까요?', additional_kwargs={}, response_metadata={}, id='af1faded-fc57-4a90-a935-a9e6f2e96d7a'), HumanMessage(content='작년 제주도로 여행을 갔었는데, 그 여행에 대한 환불을 받고 싶습니다. 전액 환불이 필요합니다.', additional_kwargs={}, response_metadata={}, id='f2dac307-760b-40ce-80ed-240ea83ba307')]\n",
      "상담사 chatbot 답변: \n",
      "고객님, 제주도 여행에 대한 환불 요청을 하신 것에 대해 이해합니다. 하지만 환불 정책은 예약한 항공권의 종류나 해당 여행의 조건에 따라 다를 수 있습니다. \n",
      "\n",
      "환불을 원하시는 예약에 대한 정보(예약 번호, 여행 날짜 등)를 제공해 주시면, 더욱 구체적으로 도와드릴 수 있습니다. 또한, 환불이 가능한 조건인지 확인해 보도록 하겠습니다. 감사합니다.\n",
      "====================\n",
      "\n",
      "==================================================================================================\n",
      "\n",
      "[node_name]: ai_assistant\n",
      "[node_chunk]:\n",
      " {'messages': [('assistant', '고객님, 제주도 여행에 대한 환불 요청을 하신 것에 대해 이해합니다. 하지만 환불 정책은 예약한 항공권의 종류나 해당 여행의 조건에 따라 다를 수 있습니다. \\n\\n환불을 원하시는 예약에 대한 정보(예약 번호, 여행 날짜 등)를 제공해 주시면, 더욱 구체적으로 도와드릴 수 있습니다. 또한, 환불이 가능한 조건인지 확인해 보도록 하겠습니다. 감사합니다.')]}\n",
      "==================================================================================================\n",
      "🔄 [Node] 고객 노드 simulated_user_node 🔄\n",
      "==================================================================================================\n",
      "\n",
      "\n",
      "==================================================================================================\n",
      "===== [계속 실행] should_continue() =====\n",
      "continue\n",
      "[node_name]: simulated_user\n",
      "[node_chunk]:\n",
      " {'messages': [('user', '예약 번호는 123456이고, 여행 날짜는 작년 6월 15일에서 6월 17일이었습니다. 전액 환불이 가능한 이유를 설명해 주시면 좋겠습니다.')]}\n",
      "==================================================================================================\n",
      "🔄 [Node] AI 상담사 ai_assistant_node 🔄\n",
      "--------------------\n",
      "상담사 chatbot 노드를 호출합니다. \n",
      "--------------------\n",
      "====================\n",
      "🔄 [Node] 상담사 chatbot 노드 🔄\n",
      "[고객 질문]: \n",
      "[HumanMessage(content='안녕하세요? 저 지금 좀 화가 많이 났습니다^^', additional_kwargs={}, response_metadata={}, id='57ac1c3e-a204-4d35-90a3-c6f47b9b1605'), AIMessage(content='안녕하세요! 고객님, 어떤 문제로 인해 화가 나신 건지 말씀해 주시면 최선을 다해 도와드리겠습니다. 어떤 부분에서 불편을 겪으셨는지 알려주실 수 있을까요?', additional_kwargs={}, response_metadata={}, id='af1faded-fc57-4a90-a935-a9e6f2e96d7a'), HumanMessage(content='작년 제주도로 여행을 갔었는데, 그 여행에 대한 환불을 받고 싶습니다. 전액 환불이 필요합니다.', additional_kwargs={}, response_metadata={}, id='f2dac307-760b-40ce-80ed-240ea83ba307'), AIMessage(content='고객님, 제주도 여행에 대한 환불 요청을 하신 것에 대해 이해합니다. 하지만 환불 정책은 예약한 항공권의 종류나 해당 여행의 조건에 따라 다를 수 있습니다. \\n\\n환불을 원하시는 예약에 대한 정보(예약 번호, 여행 날짜 등)를 제공해 주시면, 더욱 구체적으로 도와드릴 수 있습니다. 또한, 환불이 가능한 조건인지 확인해 보도록 하겠습니다. 감사합니다.', additional_kwargs={}, response_metadata={}, id='61300771-39a7-4604-b59b-7ba25d4f01b2'), HumanMessage(content='예약 번호는 123456이고, 여행 날짜는 작년 6월 15일에서 6월 17일이었습니다. 전액 환불이 가능한 이유를 설명해 주시면 좋겠습니다.', additional_kwargs={}, response_metadata={}, id='6e6f61d8-0d42-4fd9-aa69-1588a10ed1e3')]\n",
      "상담사 chatbot 답변: \n",
      "고객님, 예약 번호와 여행 날짜를 알려주셔서 감사합니다. 하지만 작년의 예약에 대한 전액 환불 가능 여부는 여러 요인에 따라 달라집니다.\n",
      "\n",
      "일반적으로 항공권의 환불 정책은 다음과 같은 요소에 의해 결정됩니다:\n",
      "\n",
      "1. **항공권 종류**: 일부 할인 항공권은 환불이 불가능하거나 수수료가 부과될 수 있습니다.\n",
      "2. **여행 취소 사유**: 특정한 이유(예: 질병, 천재지변 등)에 따라 환불이 가능할 수 있습니다.\n",
      "3. **환불 요청 시점**: 예약 후 얼마나 시간이 경과했는지도 환불 가능성에 영향을 미칠 수 있습니다.\n",
      "\n",
      "작년의 예약에 대한 구체적인 환불 정책을 확인하기 위해서는 고객님의 계정이나 예약 내역을 확인해야 합니다. 추가적인 정보가 필요하므로, 고객님의 성함과 연락처를 알려주시면, 보다 정확한 안내를 드릴 수 있도록 하겠습니다. 감사합니다.\n",
      "====================\n",
      "\n",
      "==================================================================================================\n",
      "\n",
      "[node_name]: ai_assistant\n",
      "[node_chunk]:\n",
      " {'messages': [('assistant', '고객님, 예약 번호와 여행 날짜를 알려주셔서 감사합니다. 하지만 작년의 예약에 대한 전액 환불 가능 여부는 여러 요인에 따라 달라집니다.\\n\\n일반적으로 항공권의 환불 정책은 다음과 같은 요소에 의해 결정됩니다:\\n\\n1. **항공권 종류**: 일부 할인 항공권은 환불이 불가능하거나 수수료가 부과될 수 있습니다.\\n2. **여행 취소 사유**: 특정한 이유(예: 질병, 천재지변 등)에 따라 환불이 가능할 수 있습니다.\\n3. **환불 요청 시점**: 예약 후 얼마나 시간이 경과했는지도 환불 가능성에 영향을 미칠 수 있습니다.\\n\\n작년의 예약에 대한 구체적인 환불 정책을 확인하기 위해서는 고객님의 계정이나 예약 내역을 확인해야 합니다. 추가적인 정보가 필요하므로, 고객님의 성함과 연락처를 알려주시면, 보다 정확한 안내를 드릴 수 있도록 하겠습니다. 감사합니다.')]}\n",
      "==================================================================================================\n",
      "🔄 [Node] 고객 노드 simulated_user_node 🔄\n",
      "==================================================================================================\n",
      "\n",
      "\n",
      "==================================================================================================\n",
      "===== [계속 실행] should_continue() =====\n",
      "end\n",
      "[node_name]: simulated_user\n",
      "[node_chunk]:\n",
      " {'messages': [('user', '제 이름은 홍길동이고, 연락처는 010-1234-5678입니다. 꼭 전액 환불을 받을 수 있도록 도와주세요.')]}\n"
     ]
    }
   ],
   "source": [
    "from langchain_core.runnables import RunnableConfig\n",
    "from langchain_teddynote.messages import stream_graph, random_uuid\n",
    "\n",
    "config = RunnableConfig(recursion_limit=10, configurable={\"thread_id\": random_uuid()})\n",
    "\n",
    "# 입력 메시지 설정\n",
    "inputs = {\n",
    "    \"messages\": [HumanMessage(content=\"안녕하세요? 저 지금 좀 화가 많이 났습니다^^\")]\n",
    "}\n",
    "\n",
    "\n",
    "for event in simulation.stream(inputs, config=config):\n",
    "    for node_name, node_chunk in event.items():\n",
    "        print('[node_name]:', node_name)\n",
    "        print('[node_chunk]:\\n', node_chunk)"
   ]
  },
  {
   "cell_type": "code",
   "execution_count": null,
   "metadata": {},
   "outputs": [
    {
     "name": "stdout",
     "output_type": "stream",
     "text": [
      "==================================================================================================\n",
      "🔄 [Node] AI 상담사 ai_assistant_node 🔄\n",
      "--------------------\n",
      "상담사 chatbot 노드를 호출합니다. \n",
      "--------------------\n",
      "====================\n",
      "🔄 [Node] 상담사 chatbot 노드 🔄\n",
      "[고객 질문]: \n",
      "[HumanMessage(content='안녕하세요? 저 지금 좀 화가 많이 났습니다^^', additional_kwargs={}, response_metadata={}, id='0011bb93-e93e-4b83-ae9e-c9a43b86a3b6')]\n",
      "상담사 chatbot 답변: \n",
      "안녕하세요! 고객님, 불편을 드려서 정말 죄송합니다. 어떤 문제로 화가 나셨는지 말씀해 주시면, 최대한 도와드리겠습니다.\n",
      "====================\n",
      "\n",
      "==================================================================================================\n",
      "\n",
      "[node_name]: ai_assistant\n",
      "[node_chunk]:\n",
      " {'messages': [('assistant', '안녕하세요! 고객님, 불편을 드려서 정말 죄송합니다. 어떤 문제로 화가 나셨는지 말씀해 주시면, 최대한 도와드리겠습니다.')]}\n",
      "==================================================================================================\n",
      "🔄 [Node] 고객 노드 simulated_user_node 🔄\n",
      "==================================================================================================\n",
      "\n",
      "\n",
      "==================================================================================================\n",
      "===== [계속 실행] should_continue() =====\n",
      "continue\n",
      "[node_name]: simulated_user\n",
      "[node_chunk]:\n",
      " {'messages': [('user', '작년에 제주도로 여행을 갔었는데, 그 여행에 대한 환불을 요청하고 싶습니다. 모든 돈을 돌려받고 싶습니다.')]}\n",
      "==================================================================================================\n",
      "🔄 [Node] AI 상담사 ai_assistant_node 🔄\n",
      "--------------------\n",
      "상담사 chatbot 노드를 호출합니다. \n",
      "--------------------\n",
      "====================\n",
      "🔄 [Node] 상담사 chatbot 노드 🔄\n",
      "[고객 질문]: \n",
      "[HumanMessage(content='안녕하세요? 저 지금 좀 화가 많이 났습니다^^', additional_kwargs={}, response_metadata={}, id='0011bb93-e93e-4b83-ae9e-c9a43b86a3b6'), AIMessage(content='안녕하세요! 고객님, 불편을 드려서 정말 죄송합니다. 어떤 문제로 화가 나셨는지 말씀해 주시면, 최대한 도와드리겠습니다.', additional_kwargs={}, response_metadata={}, id='91f459a2-8b7e-414e-a22a-5f7baaf8b644'), HumanMessage(content='작년에 제주도로 여행을 갔었는데, 그 여행에 대한 환불을 요청하고 싶습니다. 모든 돈을 돌려받고 싶습니다.', additional_kwargs={}, response_metadata={}, id='4fb18fdf-82ae-4e3e-8d77-299abef15b83')]\n",
      "상담사 chatbot 답변: \n",
      "고객님, 제주도 여행에 대한 환불 요청을 원하시는군요. 환불 정책은 예약하신 항공권의 종류와 상황에 따라 다를 수 있습니다. 구체적인 예약 정보(예: 예약 번호, 여행 날짜 등)를 알려주시면, 보다 정확한 안내를 도와드리겠습니다. 감사합니다!\n",
      "====================\n",
      "\n",
      "==================================================================================================\n",
      "\n",
      "[node_name]: ai_assistant\n",
      "[node_chunk]:\n",
      " {'messages': [('assistant', '고객님, 제주도 여행에 대한 환불 요청을 원하시는군요. 환불 정책은 예약하신 항공권의 종류와 상황에 따라 다를 수 있습니다. 구체적인 예약 정보(예: 예약 번호, 여행 날짜 등)를 알려주시면, 보다 정확한 안내를 도와드리겠습니다. 감사합니다!')]}\n",
      "==================================================================================================\n",
      "🔄 [Node] 고객 노드 simulated_user_node 🔄\n",
      "==================================================================================================\n",
      "\n",
      "\n",
      "==================================================================================================\n",
      "===== [계속 실행] should_continue() =====\n",
      "continue\n",
      "[node_name]: simulated_user\n",
      "[node_chunk]:\n",
      " {'messages': [('user', '예약 번호는 123456789입니다. 여행 날짜는 작년 7월 15일이었습니다. 모든 금액을 환불받고 싶습니다.')]}\n",
      "==================================================================================================\n",
      "🔄 [Node] AI 상담사 ai_assistant_node 🔄\n",
      "--------------------\n",
      "상담사 chatbot 노드를 호출합니다. \n",
      "--------------------\n",
      "====================\n",
      "🔄 [Node] 상담사 chatbot 노드 🔄\n",
      "[고객 질문]: \n",
      "[HumanMessage(content='안녕하세요? 저 지금 좀 화가 많이 났습니다^^', additional_kwargs={}, response_metadata={}, id='0011bb93-e93e-4b83-ae9e-c9a43b86a3b6'), AIMessage(content='안녕하세요! 고객님, 불편을 드려서 정말 죄송합니다. 어떤 문제로 화가 나셨는지 말씀해 주시면, 최대한 도와드리겠습니다.', additional_kwargs={}, response_metadata={}, id='91f459a2-8b7e-414e-a22a-5f7baaf8b644'), HumanMessage(content='작년에 제주도로 여행을 갔었는데, 그 여행에 대한 환불을 요청하고 싶습니다. 모든 돈을 돌려받고 싶습니다.', additional_kwargs={}, response_metadata={}, id='4fb18fdf-82ae-4e3e-8d77-299abef15b83'), AIMessage(content='고객님, 제주도 여행에 대한 환불 요청을 원하시는군요. 환불 정책은 예약하신 항공권의 종류와 상황에 따라 다를 수 있습니다. 구체적인 예약 정보(예: 예약 번호, 여행 날짜 등)를 알려주시면, 보다 정확한 안내를 도와드리겠습니다. 감사합니다!', additional_kwargs={}, response_metadata={}, id='2bf4bc17-3163-4bdc-a1fc-d55b7c0dbaf7'), HumanMessage(content='예약 번호는 123456789입니다. 여행 날짜는 작년 7월 15일이었습니다. 모든 금액을 환불받고 싶습니다.', additional_kwargs={}, response_metadata={}, id='586a31a1-7d24-49cf-9183-d89a0136eba7')]\n",
      "상담사 chatbot 답변: \n",
      "고객님, 예약 번호와 여행 날짜를 알려주셔서 감사합니다. 하지만 작년의 예약에 대한 환불은 일반적으로 항공사의 환불 정책에 따라 제한이 있을 수 있습니다. \n",
      "\n",
      "환불 요청을 처리하기 위해 필요한 정보와 절차를 안내해 드리겠습니다. 고객님의 예약 정보를 확인한 후, 환불 가능 여부를 확인하고 자세한 내용을 안내해 드리겠습니다. \n",
      "\n",
      "잠시만 기다려 주시기 바랍니다. 감사합니다!\n",
      "====================\n",
      "\n",
      "==================================================================================================\n",
      "\n",
      "[node_name]: ai_assistant\n",
      "[node_chunk]:\n",
      " {'messages': [('assistant', '고객님, 예약 번호와 여행 날짜를 알려주셔서 감사합니다. 하지만 작년의 예약에 대한 환불은 일반적으로 항공사의 환불 정책에 따라 제한이 있을 수 있습니다. \\n\\n환불 요청을 처리하기 위해 필요한 정보와 절차를 안내해 드리겠습니다. 고객님의 예약 정보를 확인한 후, 환불 가능 여부를 확인하고 자세한 내용을 안내해 드리겠습니다. \\n\\n잠시만 기다려 주시기 바랍니다. 감사합니다!')]}\n",
      "==================================================================================================\n",
      "🔄 [Node] 고객 노드 simulated_user_node 🔄\n",
      "==================================================================================================\n",
      "\n",
      "\n",
      "==================================================================================================\n",
      "===== [계속 실행] should_continue() =====\n",
      "end\n",
      "[node_name]: simulated_user\n",
      "[node_chunk]:\n",
      " {'messages': [('user', '환불이 불가능하다면 정말 실망입니다. 저는 모든 금액을 돌려받고 싶습니다. 어떻게든 방법을 찾아주세요!')]}\n"
     ]
    }
   ],
   "source": [
    "from langchain_core.runnables import RunnableConfig\n",
    "from langchain_teddynote.messages import stream_graph, random_uuid\n",
    "\n",
    "config = RunnableConfig(recursion_limit=10, configurable={\"thread_id\": random_uuid()})\n",
    "\n",
    "# 입력 메시지 설정\n",
    "inputs = {\n",
    "    \"messages\": [HumanMessage(content=\"안녕하세요? 저 지금 좀 화가 많이 났습니다^^\")]\n",
    "}\n",
    "\n",
    "\n",
    "for event in simulation.stream(inputs, config=config, stream_mode='updates'):\n",
    "    for node_name, node_chunk in event.items():\n",
    "        print('[node_name]:', node_name)\n",
    "        print('[node_chunk]:\\n', node_chunk)"
   ]
  },
  {
   "cell_type": "code",
   "execution_count": null,
   "metadata": {},
   "outputs": [
    {
     "name": "stdout",
     "output_type": "stream",
     "text": [
      "==================================================================================================\n",
      "🔄 [Node] AI 상담사 ai_assistant_node 🔄\n",
      "--------------------\n",
      "상담사 chatbot 노드를 호출합니다. \n",
      "--------------------\n",
      "====================\n",
      "🔄 [Node] 상담사 chatbot 노드 🔄\n",
      "[고객 질문]: \n",
      "[HumanMessage(content='안녕하세요? 저 지금 좀 화가 많이 났습니다^^', additional_kwargs={}, response_metadata={}, id='32171272-420f-402c-94eb-84e39254e2ef')]\n",
      "상담사 chatbot 답변: \n",
      "안녕하세요! 고객님, 화가 나신 것에 대해 정말 죄송합니다. 어떤 문제가 있으신지 말씀해 주시면 최선을 다해 도와드리겠습니다.\n",
      "====================\n",
      "\n",
      "==================================================================================================\n",
      "\n",
      "===== for 시작 1 =====\n",
      "== for 시작 1 - 1 ==\n",
      "state_key : ai_assistant\n",
      "state_value: \n",
      " {'messages': [('assistant', '안녕하세요! 고객님, 화가 나신 것에 대해 정말 죄송합니다. 어떤 문제가 있으신지 말씀해 주시면 최선을 다해 도와드리겠습니다.')]}\n",
      "== for  끝 1 - 1==\n",
      "===== for 끝 1 =====\n",
      "==================================================================================================\n",
      "🔄 [Node] 고객 노드 simulated_user_node 🔄\n",
      "==================================================================================================\n",
      "\n",
      "\n",
      "==================================================================================================\n",
      "===== [계속 실행] should_continue() =====\n",
      "continue\n",
      "===== for 시작 2 =====\n",
      "== for 시작 2 - 1 ==\n",
      "state_key : simulated_user\n",
      "state_value: \n",
      " {'messages': [('user', '작년 제주도 여행에 대한 환불을 요청하고 싶습니다. 제가 지불한 금액을 전부 돌려받고 싶어요.')]}\n",
      "== for  끝 2 - 1==\n",
      "===== for 끝 2 =====\n",
      "==================================================================================================\n",
      "🔄 [Node] AI 상담사 ai_assistant_node 🔄\n",
      "--------------------\n",
      "상담사 chatbot 노드를 호출합니다. \n",
      "--------------------\n",
      "====================\n",
      "🔄 [Node] 상담사 chatbot 노드 🔄\n",
      "[고객 질문]: \n",
      "[HumanMessage(content='안녕하세요? 저 지금 좀 화가 많이 났습니다^^', additional_kwargs={}, response_metadata={}, id='32171272-420f-402c-94eb-84e39254e2ef'), AIMessage(content='안녕하세요! 고객님, 화가 나신 것에 대해 정말 죄송합니다. 어떤 문제가 있으신지 말씀해 주시면 최선을 다해 도와드리겠습니다.', additional_kwargs={}, response_metadata={}, id='db3e462a-c720-4fe2-bac8-fe219c1d73ea'), HumanMessage(content='작년 제주도 여행에 대한 환불을 요청하고 싶습니다. 제가 지불한 금액을 전부 돌려받고 싶어요.', additional_kwargs={}, response_metadata={}, id='9fed35c4-48f2-42b2-8f3e-98e85b48d2b5')]\n",
      "상담사 chatbot 답변: \n",
      "고객님, 제주도 여행에 대한 환불 요청을 도와드리겠습니다. 환불 처리를 위해 몇 가지 정보가 필요합니다. \n",
      "\n",
      "1. 예약 번호\n",
      "2. 여행 날짜\n",
      "3. 예약하신 이름\n",
      "\n",
      "위의 정보를 제공해 주시면, 환불 절차를 안내해드리겠습니다. 감사합니다!\n",
      "====================\n",
      "\n",
      "==================================================================================================\n",
      "\n",
      "===== for 시작 3 =====\n",
      "== for 시작 3 - 1 ==\n",
      "state_key : ai_assistant\n",
      "state_value: \n",
      " {'messages': [('assistant', '고객님, 제주도 여행에 대한 환불 요청을 도와드리겠습니다. 환불 처리를 위해 몇 가지 정보가 필요합니다. \\n\\n1. 예약 번호\\n2. 여행 날짜\\n3. 예약하신 이름\\n\\n위의 정보를 제공해 주시면, 환불 절차를 안내해드리겠습니다. 감사합니다!')]}\n",
      "== for  끝 3 - 1==\n",
      "===== for 끝 3 =====\n",
      "==================================================================================================\n",
      "🔄 [Node] 고객 노드 simulated_user_node 🔄\n",
      "==================================================================================================\n",
      "\n",
      "\n",
      "==================================================================================================\n",
      "===== [계속 실행] should_continue() =====\n",
      "continue\n",
      "===== for 시작 4 =====\n",
      "== for 시작 4 - 1 ==\n",
      "state_key : simulated_user\n",
      "state_value: \n",
      " {'messages': [('user', '예약 번호는 123456이고, 여행 날짜는 2022년 10월 10일입니다. 예약한 이름은 홍길동입니다. 빨리 환불 처리해 주세요!')]}\n",
      "== for  끝 4 - 1==\n",
      "===== for 끝 4 =====\n",
      "==================================================================================================\n",
      "🔄 [Node] AI 상담사 ai_assistant_node 🔄\n",
      "--------------------\n",
      "상담사 chatbot 노드를 호출합니다. \n",
      "--------------------\n",
      "====================\n",
      "🔄 [Node] 상담사 chatbot 노드 🔄\n",
      "[고객 질문]: \n",
      "[HumanMessage(content='안녕하세요? 저 지금 좀 화가 많이 났습니다^^', additional_kwargs={}, response_metadata={}, id='32171272-420f-402c-94eb-84e39254e2ef'), AIMessage(content='안녕하세요! 고객님, 화가 나신 것에 대해 정말 죄송합니다. 어떤 문제가 있으신지 말씀해 주시면 최선을 다해 도와드리겠습니다.', additional_kwargs={}, response_metadata={}, id='db3e462a-c720-4fe2-bac8-fe219c1d73ea'), HumanMessage(content='작년 제주도 여행에 대한 환불을 요청하고 싶습니다. 제가 지불한 금액을 전부 돌려받고 싶어요.', additional_kwargs={}, response_metadata={}, id='9fed35c4-48f2-42b2-8f3e-98e85b48d2b5'), AIMessage(content='고객님, 제주도 여행에 대한 환불 요청을 도와드리겠습니다. 환불 처리를 위해 몇 가지 정보가 필요합니다. \\n\\n1. 예약 번호\\n2. 여행 날짜\\n3. 예약하신 이름\\n\\n위의 정보를 제공해 주시면, 환불 절차를 안내해드리겠습니다. 감사합니다!', additional_kwargs={}, response_metadata={}, id='d7e564bc-897c-402a-b6e4-b7b828dba05d'), HumanMessage(content='예약 번호는 123456이고, 여행 날짜는 2022년 10월 10일입니다. 예약한 이름은 홍길동입니다. 빨리 환불 처리해 주세요!', additional_kwargs={}, response_metadata={}, id='b58ee77f-b682-41a7-97a5-9d982fc89d3e')]\n",
      "상담사 chatbot 답변: \n",
      "홍길동 고객님, 제공해 주신 정보 감사합니다. 예약 번호 123456에 대한 환불 요청을 처리하기 위해 확인 절차가 필요합니다. \n",
      "\n",
      "환불 처리에는 보통 5~7일 정도 소요될 수 있습니다. 빠른 처리를 위해 관련 부서에 요청하겠습니다. 환불이 완료되면 고객님께 다시 연락드리겠습니다.\n",
      "\n",
      "추가로 궁금한 사항이 있으시면 언제든지 말씀해 주세요. 감사합니다!\n",
      "====================\n",
      "\n",
      "==================================================================================================\n",
      "\n",
      "===== for 시작 5 =====\n",
      "== for 시작 5 - 1 ==\n",
      "state_key : ai_assistant\n",
      "state_value: \n",
      " {'messages': [('assistant', '홍길동 고객님, 제공해 주신 정보 감사합니다. 예약 번호 123456에 대한 환불 요청을 처리하기 위해 확인 절차가 필요합니다. \\n\\n환불 처리에는 보통 5~7일 정도 소요될 수 있습니다. 빠른 처리를 위해 관련 부서에 요청하겠습니다. 환불이 완료되면 고객님께 다시 연락드리겠습니다.\\n\\n추가로 궁금한 사항이 있으시면 언제든지 말씀해 주세요. 감사합니다!')]}\n",
      "== for  끝 5 - 1==\n",
      "===== for 끝 5 =====\n",
      "==================================================================================================\n",
      "🔄 [Node] 고객 노드 simulated_user_node 🔄\n",
      "==================================================================================================\n",
      "\n",
      "\n",
      "==================================================================================================\n",
      "===== [계속 실행] should_continue() =====\n",
      "end\n",
      "===== for 시작 6 =====\n",
      "== for 시작 6 - 1 ==\n",
      "state_key : simulated_user\n",
      "state_value: \n",
      " {'messages': [('user', '그런데 저는 전액 환불을 원합니다. 그래서 꼭 빨리 처리해 주셨으면 좋겠어요. 추가적인 비용이 없도록 해주세요.')]}\n",
      "== for  끝 6 - 1==\n",
      "===== for 끝 6 =====\n"
     ]
    }
   ],
   "source": [
    "from langchain_core.runnables import RunnableConfig\n",
    "from langchain_teddynote.messages import stream_graph, random_uuid\n",
    "\n",
    "config = RunnableConfig(recursion_limit=10, configurable={\"thread_id\": random_uuid()})\n",
    "\n",
    "# 입력 메시지 설정\n",
    "inputs = {\n",
    "    \"messages\": [HumanMessage(content=\"안녕하세요? 저 지금 좀 화가 많이 났습니다^^\")]\n",
    "}\n",
    "\n",
    "i = 1\n",
    "\n",
    "for chunk in simulation.stream(inputs, config=config, stream_mode=\"updates\"):\n",
    "    print(f\"===== for 시작 {i} =====\")\n",
    "\n",
    "    j = 1\n",
    "\n",
    "\n",
    "    for state_key, state_value in chunk.items():\n",
    "        print(f\"== for 시작 {i} - {j} ==\")\n",
    "        print(f\"state_key : {state_key }\")\n",
    "        print(f\"state_value: \\n {state_value}\")\n",
    "        print(f\"== for  끝 {i} - {j}==\")\n",
    "\n",
    "        j=j+1\n",
    "    \n",
    "    print(f\"===== for 끝 {i} =====\")\n",
    "    i=i+1"
   ]
  }
 ],
 "metadata": {
  "kernelspec": {
   "display_name": "venv",
   "language": "python",
   "name": "python3"
  },
  "language_info": {
   "codemirror_mode": {
    "name": "ipython",
    "version": 3
   },
   "file_extension": ".py",
   "mimetype": "text/x-python",
   "name": "python",
   "nbconvert_exporter": "python",
   "pygments_lexer": "ipython3",
   "version": "3.11.9"
  }
 },
 "nbformat": 4,
 "nbformat_minor": 2
}
