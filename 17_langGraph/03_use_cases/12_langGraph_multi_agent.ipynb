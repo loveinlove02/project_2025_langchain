{
 "cells": [
  {
   "cell_type": "code",
   "execution_count": 147,
   "metadata": {},
   "outputs": [],
   "source": [
    "from dotenv import load_dotenv\n",
    "import os\n",
    "\n",
    "load_dotenv(verbose=True)\n",
    "key = os.getenv('OPENAI_API_KEY')"
   ]
  },
  {
   "cell_type": "code",
   "execution_count": 148,
   "metadata": {},
   "outputs": [],
   "source": [
    "import operator\n",
    "from typing import Sequence, Annotated\n",
    "from typing_extensions import TypedDict\n",
    "\n",
    "from langchain_core.messages import BaseMessage\n",
    "from langchain_core.messages import AIMessage, HumanMessage\n",
    "\n",
    "\n",
    "class AgentState(TypedDict):\n",
    "    messages: Annotated[Sequence[BaseMessage], operator.add]  # 메시지\n",
    "    next: str  # 다음으로 라우팅할 에이전트"
   ]
  },
  {
   "cell_type": "code",
   "execution_count": 149,
   "metadata": {},
   "outputs": [
    {
     "data": {
      "text/plain": [
       "{'messages': [HumanMessage(content='파이썬으로 웹 스크레이퍼를 만들고 싶어요', additional_kwargs={}, response_metadata={}),\n",
       "  AIMessage(content='Researcher 에게 작업을 전달하겠습니다', additional_kwargs={}, response_metadata={})],\n",
       " 'next': 'Researcher'}"
      ]
     },
     "execution_count": 149,
     "metadata": {},
     "output_type": "execute_result"
    }
   ],
   "source": [
    "# 1. 메시지 생성\n",
    "user_message = HumanMessage(content=\"파이썬으로 웹 스크레이퍼를 만들고 싶어요\")\n",
    "ai_response = AIMessage(content=\"Researcher 에게 작업을 전달하겠습니다\")\n",
    "\n",
    "# 2. AgentState 객체 생성\n",
    "agent_state = AgentState(\n",
    "    messages=[user_message, ai_response],   # 메시지 기록\n",
    "    next=\"Researcher\"                       # 다음 실행할 에이전트\n",
    ")\n",
    "\n",
    "agent_state"
   ]
  },
  {
   "cell_type": "code",
   "execution_count": 150,
   "metadata": {},
   "outputs": [],
   "source": [
    "new_message = AIMessage(content=\"코드를 작성합니다\")\n",
    "agent_state[\"messages\"] += [new_message]\n",
    "agent_state['next'] = 'Coder'"
   ]
  },
  {
   "cell_type": "code",
   "execution_count": 151,
   "metadata": {},
   "outputs": [
    {
     "data": {
      "text/plain": [
       "{'messages': [HumanMessage(content='파이썬으로 웹 스크레이퍼를 만들고 싶어요', additional_kwargs={}, response_metadata={}),\n",
       "  AIMessage(content='Researcher 에게 작업을 전달하겠습니다', additional_kwargs={}, response_metadata={}),\n",
       "  AIMessage(content='코드를 작성합니다', additional_kwargs={}, response_metadata={})],\n",
       " 'next': 'Coder'}"
      ]
     },
     "execution_count": 151,
     "metadata": {},
     "output_type": "execute_result"
    }
   ],
   "source": [
    "agent_state"
   ]
  },
  {
   "cell_type": "code",
   "execution_count": 152,
   "metadata": {},
   "outputs": [],
   "source": [
    "def agent_node(state, agent, name):\n",
    "    print('==' * 50)\n",
    "    print('===== agent_node() 함수 시작 =====')\n",
    "    \n",
    "    print(f\"[{name}] 에이전트 호출: \")\n",
    "\n",
    "    agent_response = agent.invoke(state)                        \n",
    "\n",
    "    print(agent_response[\"messages\"][-1].content)    \n",
    "    print('===== agent_node() 함수  끝 =====')\n",
    "    print('==' * 50)\n",
    "\n",
    "    # agent의 마지막 메시지를 HumanMessage로 변환하여 반환\n",
    "    return {\n",
    "        \"messages\": [\n",
    "            HumanMessage(content=agent_response[\"messages\"][-1].content, name=name)\n",
    "        ]\n",
    "    }"
   ]
  },
  {
   "cell_type": "code",
   "execution_count": 153,
   "metadata": {},
   "outputs": [],
   "source": [
    "import functools\n",
    "from langgraph.prebuilt import create_react_agent\n",
    "from langchain_openai import ChatOpenAI\n",
    "\n",
    "from langchain_teddynote.tools.tavily import TavilySearch\n",
    "from langchain_experimental.tools import PythonREPLTool\n",
    "\n",
    "\n",
    "tavily_tool = TavilySearch(max_results=1)\n",
    "\n",
    "python_repl_tool = PythonREPLTool()\n",
    "\n",
    "\n",
    "llm = ChatOpenAI(\n",
    "    api_key=key, \n",
    "    model='gpt-4o', \n",
    "    temperature=0\n",
    ")\n",
    "\n",
    "# Research Agent 생성\n",
    "research_agent = create_react_agent(llm, tools=[tavily_tool])\n",
    "\n",
    "# research node 생성\n",
    "research_node = functools.partial(agent_node, agent=research_agent, name=\"Researcher\")"
   ]
  },
  {
   "cell_type": "code",
   "execution_count": 154,
   "metadata": {},
   "outputs": [
    {
     "name": "stdout",
     "output_type": "stream",
     "text": [
      "====================================================================================================\n",
      "===== agent_node() 함수 시작 =====\n",
      "[Researcher] 에이전트 호출: \n",
      "```python\n",
      "# 1과 2를 더한 결과를 출력합니다.\n",
      "result = 1 + 2\n",
      "print(result)\n",
      "```\n",
      "\n",
      "이 코드는 1과 2를 더한 결과인 3을 출력합니다.\n",
      "===== agent_node() 함수  끝 =====\n",
      "====================================================================================================\n"
     ]
    }
   ],
   "source": [
    "result1 = research_node(\n",
    "    {\n",
    "        \"messages\": [\n",
    "            HumanMessage(content=\"1+2의 결과를 출력하는 파이썬 코드를 작성해줘.\")\n",
    "        ]\n",
    "    }\n",
    ")"
   ]
  },
  {
   "cell_type": "code",
   "execution_count": 155,
   "metadata": {},
   "outputs": [
    {
     "name": "stdout",
     "output_type": "stream",
     "text": [
      "{'messages': [HumanMessage(content='```python\\n# 1과 2를 더한 결과를 출력합니다.\\nresult = 1 + 2\\nprint(result)\\n```\\n\\n이 코드는 1과 2를 더한 결과인 3을 출력합니다.', additional_kwargs={}, response_metadata={}, name='Researcher')]}\n"
     ]
    }
   ],
   "source": [
    "print(result1)"
   ]
  },
  {
   "cell_type": "code",
   "execution_count": 156,
   "metadata": {},
   "outputs": [],
   "source": [
    "code_system_prompt = \"\"\"\n",
    "Be sure to use the following font in your code for visualization.\n",
    "\n",
    "##### 폰트 설정 #####\n",
    "import platform\n",
    "\n",
    "# OS 판단\n",
    "current_os = platform.system()\n",
    "\n",
    "if current_os == \"Windows\":\n",
    "    # Windows 환경 폰트 설정\n",
    "    font_path = \"C:/Windows/Fonts/malgun.ttf\"  # 맑은 고딕 폰트 경로\n",
    "    fontprop = fm.FontProperties(fname=font_path, size=12)\n",
    "    plt.rc(\"font\", family=fontprop.get_name())\n",
    "elif current_os == \"Darwin\":  # macOS\n",
    "    # Mac 환경 폰트 설정\n",
    "    plt.rcParams[\"font.family\"] = \"AppleGothic\"\n",
    "else:  # Linux 등 기타 OS\n",
    "    # 기본 한글 폰트 설정 시도\n",
    "    try:\n",
    "        plt.rcParams[\"font.family\"] = \"NanumGothic\"\n",
    "    except:\n",
    "        print(\"한글 폰트를 찾을 수 없습니다. 시스템 기본 폰트를 사용합니다.\")\n",
    "\n",
    "##### 마이너스 폰트 깨짐 방지 #####\n",
    "plt.rcParams[\"axes.unicode_minus\"] = False  # 마이너스 폰트 깨짐 방지\n",
    "\"\"\"\n",
    "\n",
    "\n",
    "llm = ChatOpenAI(\n",
    "    api_key=key, \n",
    "    model='gpt-4o', \n",
    "    temperature=0\n",
    ")\n",
    "\n",
    "\n",
    "# Coder Agent 생성\n",
    "coder_agent = create_react_agent(\n",
    "    llm,\n",
    "    tools=[python_repl_tool],\n",
    "    state_modifier=code_system_prompt,\n",
    ")\n",
    "\n",
    "coder_node = functools.partial(agent_node, agent=coder_agent, name=\"Coder\")"
   ]
  },
  {
   "cell_type": "code",
   "execution_count": 157,
   "metadata": {},
   "outputs": [
    {
     "name": "stdout",
     "output_type": "stream",
     "text": [
      "====================================================================================================\n",
      "===== agent_node() 함수 시작 =====\n",
      "[Coder] 에이전트 호출: \n"
     ]
    },
    {
     "data": {
      "image/png": "[encoded data removed]",
      "text/plain": [
       "<Figure size 640x480 with 1 Axes>"
      ]
     },
     "metadata": {},
     "output_type": "display_data"
    },
    {
     "name": "stdout",
     "output_type": "stream",
     "text": [
      "위의 코드를 실행하여 간단한 막대 그래프를 생성했습니다. x축은 ['A', 'B', 'C']이고, y축은 [4, 7, 2]입니다. 그래프는 '간단한 막대 그래프'라는 제목과 함께 표시됩니다.\n",
      "===== agent_node() 함수  끝 =====\n",
      "====================================================================================================\n"
     ]
    }
   ],
   "source": [
    "result2 = coder_node(\n",
    "    {\n",
    "        \"messages\": [\n",
    "            HumanMessage(content=\"파이썬으로 간단한 막대 그래프를 그려주세요. x축은 ['A', 'B', 'C'], y축은 [4, 7, 2]입니다.\")\n",
    "        ]\n",
    "    }\n",
    ")"
   ]
  },
  {
   "cell_type": "code",
   "execution_count": 158,
   "metadata": {},
   "outputs": [
    {
     "data": {
      "text/plain": [
       "{'messages': [HumanMessage(content=\"위의 코드를 실행하여 간단한 막대 그래프를 생성했습니다. x축은 ['A', 'B', 'C']이고, y축은 [4, 7, 2]입니다. 그래프는 '간단한 막대 그래프'라는 제목과 함께 표시됩니다.\", additional_kwargs={}, response_metadata={}, name='Coder')]}"
      ]
     },
     "execution_count": 158,
     "metadata": {},
     "output_type": "execute_result"
    }
   ],
   "source": [
    "result2"
   ]
  },
  {
   "cell_type": "code",
   "execution_count": 159,
   "metadata": {},
   "outputs": [],
   "source": [
    "from langchain_core.prompts import ChatPromptTemplate, MessagesPlaceholder\n",
    "from langchain_openai import ChatOpenAI\n",
    "\n",
    "from pydantic import BaseModel\n",
    "from typing import Literal\n",
    "\n",
    "\n",
    "members = [\"Researcher\", \"Coder\"]                       # 멤버 Agent 목록 정의\n",
    "\n",
    "options_for_next = [\"FINISH\"] + members                 # 다음 작업자 선택 옵션 목록 정의\n",
    "\n",
    "class RouteResponse(BaseModel):                         # 작업자 선택 응답 모델 정의: 다음 작업자를 선택하거나 작업 완료를 나타냄\n",
    "    next: Literal[\"FINISH\", \"Researcher\", \"Coder\"]\n",
    "\n",
    "\n",
    "# 시스템 프롬프트 정의: 작업자 간의 대화를 관리하는 감독자 역할\n",
    "system_prompt = (\n",
    "    \"You are a supervisor tasked with managing a conversation between the\"\n",
    "    \" following workers:  {members}. Given the following user request,\"\n",
    "    \" respond with the worker to act next. Each worker will perform a\"\n",
    "    \" task and respond with their results and status. When finished,\"\n",
    "    \" respond with FINISH.\"\n",
    ")\n",
    "\n",
    "# ChatPromptTemplate 생성\n",
    "prompt = ChatPromptTemplate.from_messages(\n",
    "    [\n",
    "        (\"system\", system_prompt),\n",
    "        MessagesPlaceholder(variable_name=\"messages\"),\n",
    "        (\n",
    "            \"system\",\n",
    "            \"Given the conversation above, who should act next? \"\n",
    "            \"Or should we FINISH? Select one of: {options}\",\n",
    "        ),\n",
    "    ]\n",
    ").partial(options=str(options_for_next), members=\", \".join(members))\n",
    "\n",
    "\n",
    "llm = ChatOpenAI(\n",
    "    api_key=key, \n",
    "    model='gpt-4o', \n",
    "    temperature=0\n",
    ")"
   ]
  },
  {
   "cell_type": "code",
   "execution_count": 160,
   "metadata": {},
   "outputs": [],
   "source": [
    "# Supervisor Agent 생성\n",
    "def supervisor_agent(state):\n",
    "    print('===== supervisor_agent() 함수 시작 =====')\n",
    "    \n",
    "    supervisor_chain = prompt | llm.with_structured_output(RouteResponse)           # 프롬프트와 LLM을 결합하여 체인 구성\n",
    "    \n",
    "    print('===== supervisor_chain 체인 실행 =====')\n",
    "    answer = supervisor_chain.invoke(state)\n",
    "    print(answer)\n",
    "\n",
    "    print('===== supervisor_agent() 함수  끝 =====')\n",
    "\n",
    "    return answer                                       # Agent 호출"
   ]
  },
  {
   "cell_type": "code",
   "execution_count": 161,
   "metadata": {},
   "outputs": [
    {
     "name": "stdout",
     "output_type": "stream",
     "text": [
      "===== supervisor_agent() 함수 시작 =====\n",
      "===== supervisor_chain 체인 실행 =====\n",
      "next='Researcher'\n",
      "===== supervisor_agent() 함수  끝 =====\n",
      "\n",
      "=== 최종 결과 ===\n",
      "다음 단계 수행자: Researcher\n",
      "Researcher에게 작업을 전달합니다.\n"
     ]
    }
   ],
   "source": [
    "# 테스트용 초기 상태 생성\n",
    "initial_state = {\n",
    "    \"messages\": [\n",
    "        {\"role\": \"user\", \"content\": \"파이썬으로 웹 스크래핑 프로그램을 만들고 싶습니다.\"},\n",
    "        {\"role\": \"assistant\", \"content\": \"네, 웹 스크래핑 프로그램 개발에 대한 요청을 받았습니다. 이 작업은 코딩 skills이 필요합니다.\"},\n",
    "        {\"role\": \"user\", \"content\": \"좋습니다. 어떻게 진행하면 될까요?\"}\n",
    "    ]\n",
    "}\n",
    "\n",
    "# supervisor_agent 함수 실행\n",
    "result2 = supervisor_agent(initial_state)\n",
    "\n",
    "# 결과 출력\n",
    "print(\"\\n=== 최종 결과 ===\")\n",
    "print(f\"다음 단계 수행자: {result2.next}\")\n",
    "\n",
    "# 결과에 따른 추가 처리\n",
    "if result2.next == \"FINISH\":\n",
    "    print(\"모든 작업이 완료되었습니다.\")\n",
    "elif result2.next == \"Coder\":\n",
    "    print(\"Coder에게 작업을 전달합니다.\")\n",
    "elif result2.next == \"Researcher\":\n",
    "    print(\"Researcher에게 작업을 전달합니다.\")\n",
    "else:\n",
    "    print(\"알 수 없는 응답입니다.\")"
   ]
  },
  {
   "cell_type": "code",
   "execution_count": 162,
   "metadata": {},
   "outputs": [],
   "source": [
    "from langgraph.graph import END, StateGraph, START\n",
    "from langgraph.checkpoint.memory import MemorySaver\n",
    "\n",
    "# 그래프 생성\n",
    "workflow = StateGraph(AgentState)\n",
    "\n",
    "# 그래프에 노드 추가\n",
    "workflow.add_node(\"Researcher\", research_node)\n",
    "workflow.add_node(\"Coder\", coder_node)\n",
    "workflow.add_node(\"Supervisor\", supervisor_agent)\n",
    "\n",
    "\n",
    "# 멤버 노드 > Supervisor 노드로 엣지 추가\n",
    "for member in members:\n",
    "    workflow.add_edge(member, \"Supervisor\")\n",
    "\n",
    "# 조건부 엣지 추가 (\n",
    "conditional_map = {k: k for k in members}\n",
    "conditional_map[\"FINISH\"] = END\n",
    "\n",
    "\n",
    "def get_next(state):\n",
    "    return state[\"next\"]\n",
    "\n",
    "\n",
    "# Supervisor 노드에서 조건부 엣지 추가\n",
    "workflow.add_conditional_edges(\"Supervisor\", get_next, conditional_map)\n",
    "\n",
    "# 시작점\n",
    "workflow.add_edge(START, \"Supervisor\")\n",
    "\n",
    "# 그래프 컴파일\n",
    "graph = workflow.compile(checkpointer=MemorySaver())"
   ]
  },
  {
   "cell_type": "code",
   "execution_count": 163,
   "metadata": {},
   "outputs": [
    {
     "data": {
      "image/png": "[encoded data removed]",
      "text/plain": [
       "<IPython.core.display.Image object>"
      ]
     },
     "metadata": {},
     "output_type": "display_data"
    }
   ],
   "source": [
    "from langchain_teddynote.graphs import visualize_graph\n",
    "\n",
    "visualize_graph(graph)"
   ]
  },
  {
   "cell_type": "code",
   "execution_count": 164,
   "metadata": {},
   "outputs": [
    {
     "name": "stdout",
     "output_type": "stream",
     "text": [
      "===== supervisor_agent() 함수 시작 =====\n",
      "===== supervisor_chain 체인 실행 =====\n",
      "next='Researcher'\n",
      "===== supervisor_agent() 함수  끝 =====\n",
      "\n",
      "==================================================\n",
      "🔄 Node: \u001b[1;36mSupervisor\u001b[0m 🔄\n",
      "- - - - - - - - - - - - - - - - - - - - - - - - - \n",
      "\u001b[1;32mnext\u001b[0m:\n",
      "Researcher\n",
      "==================================================\n",
      "====================================================================================================\n",
      "===== agent_node() 함수 시작 =====\n",
      "[Researcher] 에이전트 호출: \n",
      "\n",
      "==================================================\n",
      "🔄 Node: \u001b[1;36magent\u001b[0m in [\u001b[1;33mResearcher\u001b[0m] 🔄\n",
      "- - - - - - - - - - - - - - - - - - - - - - - - - \n",
      "==================================\u001b[1m Ai Message \u001b[0m==================================\n",
      "Tool Calls:\n",
      "  tavily_web_search (call_ntcAmAJ2DtUVw0HSqi85UpKF)\n",
      " Call ID: call_ntcAmAJ2DtUVw0HSqi85UpKF\n",
      "  Args:\n",
      "    query: 2024 South Korea GDP per capita forecast\n",
      "==================================================\n",
      "\n",
      "==================================================\n",
      "🔄 Node: \u001b[1;36mtools\u001b[0m in [\u001b[1;33mResearcher\u001b[0m] 🔄\n",
      "- - - - - - - - - - - - - - - - - - - - - - - - - \n",
      "=================================\u001b[1m Tool Message \u001b[0m=================================\n",
      "Name: tavily_web_search\n",
      "\n",
      "[{\"title\": \"South Korea GDP per capita 2024 - StatisticsTimes.com\", \"url\": \"https://statisticstimes.com/economy/country/south-korea-gdp-per-capita.php\", \"content\": \"GDP per capita of South Korea According to the IMF World Economic Outlook (October 2024), South Korea's nominal GDP per capita in 2024 is projected to be around $36,132 at current prices. Based on PPP, South Korea's GDP per capita in 2024 is forecast at 62,960 billion international dollars. South Korea ranks 33rd in the world by GDP (nominal) per capita and 29th by GDP (PPP) per capita on the 194 economies list. South Korea is ranked 8th in nominal and 10th in the PPP list among 49 European economies. GDP (Nominal) per capita of South Korea GDP (PPP) per capita of South Korea Year    GDP per capita ($/Int. Year    GDP (Nominal) per capita ($)    GDP (PPP) per capita (Int.\", \"score\": 0.96819246, \"raw_content\": \"Home \\nEconomy \\nDemographics \\nPolitics \\nGeography \\nTech\\nSports \\nRanking\\nArticle \\nGDP per capita of South Korea\\nSource  World Bank : Nominal (current), Nominal (constant), PPP (current), PPP (constant)\\nIMF World Economic Outlook (October 2024)\\nDate    01 Dec 2024\\nTop Statistics\\nIPL 2024\\nList of continents by gdp per capita\\nTop 10 largest economies by GDP\\nSee Also:\\n» GDP of South Korea\\n» GDP Growth of South Korea\\nView More Economy Statistics\\nAccording to the IMF World Economic Outlook (October 2024), South Korea's nominal GDP per capita in 2024 is projected to be around $36,132 at current prices. Based on PPP, South Korea's GDP per capita in 2024 is forecast at 62,960 billion international dollars.\\nSouth Korea ranks 33rd in the world by GDP (nominal) per capita and 29th by GDP (PPP) per capita on the 194 economies list. South Korea is ranked 8th in nominal and 10th in the PPP list among 49 European economies.\\nNominal PPP\\nGDP (Nominal) per capita of South Korea\\nGDP per capita ($)\\nL\\nL\\nYear\\nCurrent\\nConstant\\nGDP (PPP) per capita of South Korea\\nGDP per capita (Int. $)\\nL\\nL\\nYear\\nCurrent\\nConstant\\nProjections by IMF\\nYear    GDP per capita ($/Int. $)\\nNominal PPP\\n2023    35,563  60,046\\n2024    36,132  62,960\\n2025    37,675  65,582\\n2026    39,321  68,334\\n2027    41,031  71,173\\n2028    42,699  74,100\\n2029    44,347  77,117\\nEstimates by World Bank\\nYear    GDP (Nominal) per capita ($)    GDP (PPP) per capita (Int. $)   % to World  Rank/Total\\nCurrent Constant (2015) Current Constant (2021) Nominal PPP Nominal PPP\\n1960    158 1,028   -   -   35.1    -   69/104  -\\n1961    94  1,067   -   -   20.1    -   89/106  -\\n1962    106 1,077   -   -   21.5    -   88/108  -\\n1963    146 1,142   -   -   28.0    -   78/108  -\\n1964    124 1,218   -   -   22.1    -   85/108  -\\n1965    109 1,274   -   -   18.2    -   99/116  -\\n1966    133 1,392   -   -   21.0    -   94/117  -\\n1967    161 1,483   -   -   24.4    -   90/120  -\\n1968    198 1,640   -   -   28.3    -   83/121  -\\n1969    243 1,836   -   -   32.1    -   80/121  -\\n1970    279 1,977   -   -   34.3    -   90/141  -\\n1971    301 2,143   -   -   34.2    -   89/142  -\\n1972    324 2,255   -   -   32.5    -   93/142  -\\n1973    407 2,546   -   -   34.2    -   91/142  -\\n1974    563 2,741   -   -   42.0    -   87/142  -\\n1975    617 2,906   -   -   41.9    -   85/145  -\\n1976    834 3,238   -   -   53.1    -   73/145  -\\n1977    1,056   3,581   -   -   60.5    -   72/148  -\\n1978    1,406   3,914   -   -   69.3    -   68/147  -\\n1979    1,784   4,189   -   -   77.0    -   68/148  -\\n1980    1,715   4,057   -   -   66.7    -   74/155  -\\n1981    1,883   4,283   -   -   72.2    -   72/156  -\\n1982    1,993   4,569   -   -   78.7    -   71/158  -\\n1983    2,199   5,104   -   -   86.1    -   66/159  -\\n1984    2,413   5,574   -   -   92.4    -   64/161  -\\n1985    2,482   5,952   -   -   92.4    -   64/163  -\\n1986    2,835   6,560   -   -   91.2    -   62/163  -\\n1987    3,555   7,323   -   -   102 -   56/169  -\\n1988    4,749   8,121   -   -   124 -   53/172  -\\n1989    5,817   8,609   -   -   149 -   50/173  -\\n1990    6,610   9,367   8,355   13,883  153 150 52/188  60/186\\n1991    7,637   10,274  9,475   15,228  173 164 48/188  52/187\\n1992    8,127   10,799  10,185  16,005  175 171 46/191  50/188\\n1993    8,885   11,425  11,031  16,933  190 181 45/195  49/188\\n1994    10,385  12,359  12,187  18,317  210 192 44/196  48/189\\n1995    12,565  13,411  13,503  19,877  231 205 42/199  48/190\\n1996    13,403  14,332  14,694  21,242  244 214 42/199  44/190\\n1997    12,398  15,074  15,722  22,343  230 219 44/199  45/192\\n1998    8,282   14,198  14,975  21,044  156 205 52/201  49/192\\n1999    10,672  15,714  16,807  23,291  198 222 51/202  47/192\\n2000    12,257  16,996  18,539  25,190  223 231 46/203  46/194\\n2001    11,561  17,684  19,724  26,210  214 238 49/204  44/194\\n2002    13,165  18,940  21,397  28,072  238 249 50/208  44/195\\n2003    14,673  19,435  22,096  28,806  239 247 52/208  45/195\\n2004    16,496  20,365  23,774  30,183  242 249 52/208  45/195\\n2005    19,403  21,197  25,187  31,417  266 248 49/208  44/195\\n2006    21,743  22,196  26,884  32,898  279 245 49/209  44/196\\n2007    24,086  23,365  29,065  34,630  277 247 48/209  45/196\\n2008    21,350  23,887  29,946  35,404  227 244 55/210  45/199\\n2009    19,144  23,953  29,508  35,502  217 241 54/210  45/200\\n2010    23,079  25,456  31,737  37,729  242 246 49/210  40/200\\n2011    25,098  26,192  32,547  38,820  239 240 49/213  41/201\\n2012    25,459  26,680  33,557  39,544  240 238 47/211  39/199\\n2013    27,180  27,400  34,244  40,610  253 234 45/211  40/200\\n2014    29,253  28,100  35,324  41,648  268 235 43/212  39/199\\n2015    28,737  28,737  37,902  42,593  282 249 44/210  35/199\\n2016    29,280  29,467  39,575  43,675  286 253 43/210  38/198\\n2017    31,601  30,313  40,957  44,928  294 251 41/210  38/199\\n2018    33,447  31,059  43,044  46,034  296 250 40/210  34/199\\n2019    31,902  31,646  43,865  46,904  281 244 44/211  39/199\\n2020    31,721  31,378  45,143  46,507  290 254 40/210  33/198\\n2021    35,126  32,771  48,571  48,571  284 246 40/209  34/198\\n2022    32,395  33,690  51,622  49,934  254 238 42/203  37/194\\n2023    33,121  34,121  54,033  50,572  252 235 34/187  33/184\\nAbout US | Terms Of Use | Privacy Policy | Contact Us\\n© 2024 - StatisticsTimes.com\"}]\n",
      "==================================================\n",
      "2024년 대한민국의 1인당 GDP는 명목 기준으로 약 $36,132, 구매력 평가(PPP) 기준으로 약 62,960 국제 달러로 예상됩니다. 이를 바탕으로 그래프를 시각화할 수 있습니다. \n",
      "\n",
      "아래는 2023년부터 2029년까지의 예상 1인당 GDP 추이입니다:\n",
      "\n",
      "- 2023: 명목 $35,563, PPP $60,046\n",
      "- 2024: 명목 $36,132, PPP $62,960\n",
      "- 2025: 명목 $37,675, PPP $65,582\n",
      "- 2026: 명목 $39,321, PPP $68,334\n",
      "- 2027: 명목 $41,031, PPP $71,173\n",
      "- 2028: 명목 $42,699, PPP $74,100\n",
      "- 2029: 명목 $44,347, PPP $77,117\n",
      "\n",
      "이 데이터를 바탕으로 그래프를 그리면, 대한민국의 1인당 GDP가 지속적으로 증가하는 추세를 보일 것입니다. 그래프를 직접 그리려면 엑셀이나 구글 스프레드시트와 같은 도구를 사용하여 위의 데이터를 입력하고 시각화할 수 있습니다.\n",
      "===== agent_node() 함수  끝 =====\n",
      "====================================================================================================\n",
      "\n",
      "==================================================\n",
      "🔄 Node: \u001b[1;36magent\u001b[0m in [\u001b[1;33mResearcher\u001b[0m] 🔄\n",
      "- - - - - - - - - - - - - - - - - - - - - - - - - \n",
      "==================================\u001b[1m Ai Message \u001b[0m==================================\n",
      "\n",
      "2024년 대한민국의 1인당 GDP는 명목 기준으로 약 $36,132, 구매력 평가(PPP) 기준으로 약 62,960 국제 달러로 예상됩니다. 이를 바탕으로 그래프를 시각화할 수 있습니다. \n",
      "\n",
      "아래는 2023년부터 2029년까지의 예상 1인당 GDP 추이입니다:\n",
      "\n",
      "- 2023: 명목 $35,563, PPP $60,046\n",
      "- 2024: 명목 $36,132, PPP $62,960\n",
      "- 2025: 명목 $37,675, PPP $65,582\n",
      "- 2026: 명목 $39,321, PPP $68,334\n",
      "- 2027: 명목 $41,031, PPP $71,173\n",
      "- 2028: 명목 $42,699, PPP $74,100\n",
      "- 2029: 명목 $44,347, PPP $77,117\n",
      "\n",
      "이 데이터를 바탕으로 그래프를 그리면, 대한민국의 1인당 GDP가 지속적으로 증가하는 추세를 보일 것입니다. 그래프를 직접 그리려면 엑셀이나 구글 스프레드시트와 같은 도구를 사용하여 위의 데이터를 입력하고 시각화할 수 있습니다.\n",
      "==================================================\n",
      "\n",
      "==================================================\n",
      "🔄 Node: \u001b[1;36mResearcher\u001b[0m 🔄\n",
      "- - - - - - - - - - - - - - - - - - - - - - - - - \n",
      "================================\u001b[1m Human Message \u001b[0m=================================\n",
      "Name: Researcher\n",
      "\n",
      "2024년 대한민국의 1인당 GDP는 명목 기준으로 약 $36,132, 구매력 평가(PPP) 기준으로 약 62,960 국제 달러로 예상됩니다. 이를 바탕으로 그래프를 시각화할 수 있습니다. \n",
      "\n",
      "아래는 2023년부터 2029년까지의 예상 1인당 GDP 추이입니다:\n",
      "\n",
      "- 2023: 명목 $35,563, PPP $60,046\n",
      "- 2024: 명목 $36,132, PPP $62,960\n",
      "- 2025: 명목 $37,675, PPP $65,582\n",
      "- 2026: 명목 $39,321, PPP $68,334\n",
      "- 2027: 명목 $41,031, PPP $71,173\n",
      "- 2028: 명목 $42,699, PPP $74,100\n",
      "- 2029: 명목 $44,347, PPP $77,117\n",
      "\n",
      "이 데이터를 바탕으로 그래프를 그리면, 대한민국의 1인당 GDP가 지속적으로 증가하는 추세를 보일 것입니다. 그래프를 직접 그리려면 엑셀이나 구글 스프레드시트와 같은 도구를 사용하여 위의 데이터를 입력하고 시각화할 수 있습니다.\n",
      "==================================================\n",
      "===== supervisor_agent() 함수 시작 =====\n",
      "===== supervisor_chain 체인 실행 =====\n",
      "next='Coder'\n",
      "===== supervisor_agent() 함수  끝 =====\n",
      "\n",
      "==================================================\n",
      "🔄 Node: \u001b[1;36mSupervisor\u001b[0m 🔄\n",
      "- - - - - - - - - - - - - - - - - - - - - - - - - \n",
      "\u001b[1;32mnext\u001b[0m:\n",
      "Coder\n",
      "==================================================\n",
      "====================================================================================================\n",
      "===== agent_node() 함수 시작 =====\n",
      "[Coder] 에이전트 호출: \n",
      "\n",
      "==================================================\n",
      "🔄 Node: \u001b[1;36magent\u001b[0m in [\u001b[1;33mCoder\u001b[0m] 🔄\n",
      "- - - - - - - - - - - - - - - - - - - - - - - - - \n",
      "==================================\u001b[1m Ai Message \u001b[0m==================================\n",
      "Tool Calls:\n",
      "  Python_REPL (call_CaV5vjALK6jC13uh9OYREjqN)\n",
      " Call ID: call_CaV5vjALK6jC13uh9OYREjqN\n",
      "  Args:\n",
      "    query: import matplotlib.pyplot as plt\n",
      "import matplotlib.font_manager as fm\n",
      "\n",
      "# 데이터 설정\n",
      "years = [2023, 2024, 2025, 2026, 2027, 2028, 2029]\n",
      "nominal_gdp = [35563, 36132, 37675, 39321, 41031, 42699, 44347]\n",
      "ppp_gdp = [60046, 62960, 65582, 68334, 71173, 74100, 77117]\n",
      "\n",
      "# 폰트 설정\n",
      "import platform\n",
      "current_os = platform.system()\n",
      "if current_os == \"Windows\":\n",
      "    font_path = \"C:/Windows/Fonts/malgun.ttf\"\n",
      "    fontprop = fm.FontProperties(fname=font_path, size=12)\n",
      "    plt.rc(\"font\", family=fontprop.get_name())\n",
      "elif current_os == \"Darwin\":\n",
      "    plt.rcParams[\"font.family\"] = \"AppleGothic\"\n",
      "else:\n",
      "    try:\n",
      "        plt.rcParams[\"font.family\"] = \"NanumGothic\"\n",
      "    except:\n",
      "        print(\"한글 폰트를 찾을 수 없습니다. 시스템 기본 폰트를 사용합니다.\")\n",
      "\n",
      "plt.rcParams[\"axes.unicode_minus\"] = False\n",
      "\n",
      "# 그래프 그리기\n",
      "plt.figure(figsize=(10, 6))\n",
      "plt.plot(years, nominal_gdp, marker='o', label='명목 GDP')\n",
      "plt.plot(years, ppp_gdp, marker='o', label='PPP GDP')\n",
      "plt.title('2023-2029 대한민국 1인당 GDP 추이')\n",
      "plt.xlabel('년도')\n",
      "plt.ylabel('1인당 GDP (달러)')\n",
      "plt.legend()\n",
      "plt.grid(True)\n",
      "plt.show()\n",
      "==================================================\n"
     ]
    },
    {
     "data": {
      "image/png": "[encoded data removed]",
      "text/plain": [
       "<Figure size 1000x600 with 1 Axes>"
      ]
     },
     "metadata": {},
     "output_type": "display_data"
    },
    {
     "name": "stdout",
     "output_type": "stream",
     "text": [
      "\n",
      "==================================================\n",
      "🔄 Node: \u001b[1;36mtools\u001b[0m in [\u001b[1;33mCoder\u001b[0m] 🔄\n",
      "- - - - - - - - - - - - - - - - - - - - - - - - - \n",
      "=================================\u001b[1m Tool Message \u001b[0m=================================\n",
      "Name: Python_REPL\n",
      "\n",
      "\n",
      "==================================================\n",
      "\n",
      "==================================================위의 데이터를 바탕으로 2023년부터 2029년까지 대한민국의 1인당 GDP 추이를 그래프로 시각화했습니다. 그래프는 명목 GDP와 구매력 평가(PPP) 기준 GDP를 각각 표시하며, 두 지표 모두 지속적으로 증가하는 추세를 보여줍니다. \n",
      "\n",
      "이 그래프를 통해 대한민국의 경제 성장 전망을 시각적으로 확인할 수 있습니다.\n",
      "===== agent_node() 함수  끝 =====\n",
      "====================================================================================================\n",
      "\n",
      "🔄 Node: \u001b[1;36magent\u001b[0m in [\u001b[1;33mCoder\u001b[0m] 🔄\n",
      "- - - - - - - - - - - - - - - - - - - - - - - - - \n",
      "==================================\u001b[1m Ai Message \u001b[0m==================================\n",
      "\n",
      "위의 데이터를 바탕으로 2023년부터 2029년까지 대한민국의 1인당 GDP 추이를 그래프로 시각화했습니다. 그래프는 명목 GDP와 구매력 평가(PPP) 기준 GDP를 각각 표시하며, 두 지표 모두 지속적으로 증가하는 추세를 보여줍니다. \n",
      "\n",
      "이 그래프를 통해 대한민국의 경제 성장 전망을 시각적으로 확인할 수 있습니다.\n",
      "==================================================\n",
      "\n",
      "==================================================\n",
      "🔄 Node: \u001b[1;36mCoder\u001b[0m 🔄\n",
      "- - - - - - - - - - - - - - - - - - - - - - - - - \n",
      "================================\u001b[1m Human Message \u001b[0m=================================\n",
      "Name: Coder\n",
      "\n",
      "위의 데이터를 바탕으로 2023년부터 2029년까지 대한민국의 1인당 GDP 추이를 그래프로 시각화했습니다. 그래프는 명목 GDP와 구매력 평가(PPP) 기준 GDP를 각각 표시하며, 두 지표 모두 지속적으로 증가하는 추세를 보여줍니다. \n",
      "\n",
      "이 그래프를 통해 대한민국의 경제 성장 전망을 시각적으로 확인할 수 있습니다.\n",
      "==================================================\n",
      "===== supervisor_agent() 함수 시작 =====\n",
      "===== supervisor_chain 체인 실행 =====\n",
      "next='FINISH'\n",
      "===== supervisor_agent() 함수  끝 =====\n",
      "\n",
      "==================================================\n",
      "🔄 Node: \u001b[1;36mSupervisor\u001b[0m 🔄\n",
      "- - - - - - - - - - - - - - - - - - - - - - - - - \n",
      "\u001b[1;32mnext\u001b[0m:\n",
      "FINISH\n",
      "==================================================\n"
     ]
    }
   ],
   "source": [
    "from langchain_core.runnables import RunnableConfig\n",
    "from langchain_teddynote.messages import random_uuid, invoke_graph\n",
    "\n",
    "# config 설정(재귀 최대 횟수, thread_id)\n",
    "config = RunnableConfig(recursion_limit=10, configurable={\"thread_id\": random_uuid()})\n",
    "\n",
    "# 질문 입력\n",
    "inputs = {\n",
    "    \"messages\": [\n",
    "        HumanMessage(\n",
    "            content=\"2024년의 대한민국의 1인당 GDP 추이를 그래프로 시각화 해주세요.\"\n",
    "        )\n",
    "    ],\n",
    "}\n",
    "\n",
    "# 그래프 실행\n",
    "invoke_graph(graph, inputs, config)"
   ]
  }
 ],
 "metadata": {
  "kernelspec": {
   "display_name": "venv",
   "language": "python",
   "name": "python3"
  },
  "language_info": {
   "codemirror_mode": {
    "name": "ipython",
    "version": 3
   },
   "file_extension": ".py",
   "mimetype": "text/x-python",
   "name": "python",
   "nbconvert_exporter": "python",
   "pygments_lexer": "ipython3",
   "version": "3.11.9"
  }
 },
 "nbformat": 4,
 "nbformat_minor": 2
}
