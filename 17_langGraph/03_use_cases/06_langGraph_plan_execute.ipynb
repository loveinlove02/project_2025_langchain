{
 "cells": [
  {
   "cell_type": "code",
   "execution_count": 286,
   "metadata": {},
   "outputs": [],
   "source": [
    "from dotenv import load_dotenv\n",
    "import os\n",
    "\n",
    "load_dotenv(verbose=True)\n",
    "key = os.getenv('OPENAI_API_KEY')"
   ]
  },
  {
   "cell_type": "markdown",
   "metadata": {},
   "source": [
    "### State"
   ]
  },
  {
   "cell_type": "code",
   "execution_count": 287,
   "metadata": {},
   "outputs": [],
   "source": [
    "import operator\n",
    "from typing import Annotated, List, Tuple\n",
    "from typing_extensions import TypedDict\n",
    "\n",
    "class PlanExecute(TypedDict):\n",
    "    input: Annotated[str, \"User's input\"]               # 사용자 입력     \n",
    "    plan: Annotated[List[str], \"Current plan\"]          # 현재 계획\n",
    "    past_steps: Annotated[List[Tuple], operator.add]    # 이전에 실행한 계획과 실행 결과\n",
    "    response: Annotated[str, \"Final response\"]          # 답변"
   ]
  },
  {
   "cell_type": "markdown",
   "metadata": {},
   "source": [
    "### 계획 모델"
   ]
  },
  {
   "cell_type": "code",
   "execution_count": 288,
   "metadata": {},
   "outputs": [],
   "source": [
    "from pydantic import BaseModel, Field\n",
    "from typing import List\n",
    "\n",
    "class Plan(BaseModel):                                  # Plan 모델 정의\n",
    "    \"\"\"Sorted steps to execute the plan\"\"\"\n",
    "\n",
    "    steps: Annotated[List[str], \"Different steps to follow, should be in sorted order\"]"
   ]
  },
  {
   "cell_type": "markdown",
   "metadata": {},
   "source": [
    "### 사용자 답변 모델"
   ]
  },
  {
   "cell_type": "code",
   "execution_count": 289,
   "metadata": {},
   "outputs": [],
   "source": [
    "from pydantic import BaseModel\n",
    "\n",
    "class Response(BaseModel):\n",
    "    \"\"\"Response to user.\"\"\"\n",
    "\n",
    "    # 사용자 응답\n",
    "    response: str"
   ]
  },
  {
   "cell_type": "markdown",
   "metadata": {},
   "source": [
    "### Re-Plan 모델"
   ]
  },
  {
   "cell_type": "code",
   "execution_count": 290,
   "metadata": {},
   "outputs": [],
   "source": [
    "from typing import Union\n",
    "from pydantic import BaseModel, Field\n",
    "\n",
    "class Act(BaseModel):\n",
    "    \"\"\"Action to perform.\"\"\"\n",
    "\n",
    "    # 수행할 작업: \"Response\", \"Plan\". 사용자에게 응답할 경우 Response 사용, 추가 도구 사용이 필요할 경우 Plan 사용\n",
    "    action: Union[Response, Plan] = Field(\n",
    "        description=\"Action to perform. If you want to respond to user, use Response. \"\n",
    "        \"If you need to further use tools to get the answer, use Plan.\"\n",
    "    )"
   ]
  },
  {
   "cell_type": "code",
   "execution_count": 291,
   "metadata": {},
   "outputs": [],
   "source": [
    "from langchain_openai import ChatOpenAI\n",
    "from langchain_core.prompts import ChatPromptTemplate\n",
    "from langchain_core.output_parsers import StrOutputParser\n",
    "\n",
    "from langgraph.prebuilt import create_react_agent"
   ]
  },
  {
   "cell_type": "markdown",
   "metadata": {},
   "source": [
    "### 도구 정의 (웹 검색)"
   ]
  },
  {
   "cell_type": "code",
   "execution_count": 292,
   "metadata": {},
   "outputs": [],
   "source": [
    "from langchain_teddynote.tools import TavilySearch\n",
    "\n",
    "tools = [TavilySearch(max_results=1)]"
   ]
  },
  {
   "cell_type": "markdown",
   "metadata": {},
   "source": [
    "### 계획 단계"
   ]
  },
  {
   "cell_type": "code",
   "execution_count": 293,
   "metadata": {},
   "outputs": [],
   "source": [
    "# 계획 수립을 위한 프롬프트 템플릿 생성\n",
    "planner_prompt = ChatPromptTemplate.from_messages(\n",
    "    [\n",
    "        (\n",
    "            \"system\",\n",
    "            \"\"\"For the given objective, come up with a simple step by step plan. \\\n",
    "This plan should involve individual tasks, that if executed correctly will yield the correct answer. Do not add any superfluous steps. \\\n",
    "The result of the final step should be the final answer. Make sure that each step has all the information needed - do not skip steps.\n",
    "Answer in Korean.\"\"\",\n",
    "        ),\n",
    "        (\"placeholder\", \"{messages}\"),\n",
    "    ]\n",
    ")\n",
    "\n",
    "llm = ChatOpenAI(\n",
    "    api_key=key, \n",
    "    model='gpt-4o', \n",
    "    temperature=0\n",
    ")\n",
    "\n",
    "planner = planner_prompt | llm.with_structured_output(Plan)"
   ]
  },
  {
   "cell_type": "markdown",
   "metadata": {},
   "source": [
    "### re-plan 단계"
   ]
  },
  {
   "cell_type": "code",
   "execution_count": 294,
   "metadata": {},
   "outputs": [],
   "source": [
    "# 계획을 재수립하기 위한 프롬프트 정의\n",
    "replanner_prompt = ChatPromptTemplate.from_template(\n",
    "    \"\"\"For the given objective, come up with a simple step by step plan. \\\n",
    "This plan should involve individual tasks, that if executed correctly will yield the correct answer. Do not add any superfluous steps. \\\n",
    "The result of the final step should be the final answer. Make sure that each step has all the information needed - do not skip steps.\n",
    "\n",
    "Your objective was this:\n",
    "{input}\n",
    "\n",
    "Your original plan was this:\n",
    "{plan}\n",
    "\n",
    "You have currently done the follow steps:\n",
    "{past_steps}\n",
    "\n",
    "Update your plan accordingly. If no more steps are needed and you can return to the user, then respond with that. Otherwise, fill out the plan. Only add steps to the plan that still NEED to be done. Do not return previously done steps as part of the plan.\n",
    "\n",
    "Answer in Korean.\"\"\"\n",
    ")\n",
    "\n",
    "\n",
    "llm = ChatOpenAI(\n",
    "    api_key=key, \n",
    "    model='gpt-4o', \n",
    "    temperature=0\n",
    ")\n",
    "\n",
    "# Replanner 생성\n",
    "replanner = replanner_prompt | llm.with_structured_output(Act)"
   ]
  },
  {
   "cell_type": "markdown",
   "metadata": {},
   "source": [
    "### Agent (작업 실행 에이전트)"
   ]
  },
  {
   "cell_type": "code",
   "execution_count": 295,
   "metadata": {},
   "outputs": [],
   "source": [
    "# 프롬프트 정의\n",
    "prompt = ChatPromptTemplate.from_messages(\n",
    "    [\n",
    "        (\n",
    "            \"system\",\n",
    "            \"You are a helpful assistant. Answer in Korean.\",\n",
    "        ),\n",
    "        (\"human\", \"{messages}\"),\n",
    "    ]\n",
    ")\n",
    "\n",
    "llm = ChatOpenAI(\n",
    "    api_key=key, \n",
    "    model='gpt-4o', \n",
    "    temperature=0\n",
    ")\n",
    "\n",
    "# ReAct 에이전트 생성\n",
    "agent_executor = create_react_agent(llm, tools, state_modifier=prompt)"
   ]
  },
  {
   "cell_type": "code",
   "execution_count": 296,
   "metadata": {},
   "outputs": [
    {
     "data": {
      "text/plain": [
       "Plan(steps=[\"'겔럭시폰'이라는 제품명을 확인한다.\", \"'겔럭시폰'이 삼성전자의 제품임을 확인한다.\", \"삼성전자가 '겔럭시폰'을 만든 회사임을 결론짓는다.\"])"
      ]
     },
     "execution_count": 296,
     "metadata": {},
     "output_type": "execute_result"
    }
   ],
   "source": [
    "# Planner 실행\n",
    "planner.invoke({\"messages\": [(\"user\",\"겔럭시폰을 만든 회사는?\")]})"
   ]
  },
  {
   "cell_type": "code",
   "execution_count": 297,
   "metadata": {},
   "outputs": [
    {
     "data": {
      "text/plain": [
       "{'messages': [HumanMessage(content='겔럭시폰을 만든 회사는?', additional_kwargs={}, response_metadata={}, id='959bc9fa-0ed5-4901-991a-c63ca06dc6fc'),\n",
       "  AIMessage(content='갤럭시폰을 만든 회사는 삼성전자입니다.', additional_kwargs={'refusal': None}, response_metadata={'token_usage': {'completion_tokens': 15, 'prompt_tokens': 146, 'total_tokens': 161, 'completion_tokens_details': {'accepted_prediction_tokens': 0, 'audio_tokens': 0, 'reasoning_tokens': 0, 'rejected_prediction_tokens': 0}, 'prompt_tokens_details': {'audio_tokens': 0, 'cached_tokens': 0}}, 'model_name': 'gpt-4o-2024-08-06', 'system_fingerprint': 'fp_eb9dce56a8', 'finish_reason': 'stop', 'logprobs': None}, id='run-abb8afd5-a857-4582-804d-42511aa21f1c-0', usage_metadata={'input_tokens': 146, 'output_tokens': 15, 'total_tokens': 161, 'input_token_details': {'audio': 0, 'cache_read': 0}, 'output_token_details': {'audio': 0, 'reasoning': 0}})]}"
      ]
     },
     "execution_count": 297,
     "metadata": {},
     "output_type": "execute_result"
    }
   ],
   "source": [
    "agent_executor.invoke(\n",
    "    {\"messages\": [(\"user\", \"겔럭시폰을 만든 회사는?\")]}\n",
    ")"
   ]
  },
  {
   "cell_type": "markdown",
   "metadata": {},
   "source": [
    "### 계획 노드"
   ]
  },
  {
   "cell_type": "code",
   "execution_count": 298,
   "metadata": {},
   "outputs": [],
   "source": [
    "# 사용자 입력을 기반으로 계획을 생성하고 리턴\n",
    "def plan_step(state: PlanExecute):\n",
    "    print('===== plan_step() 시작 =====')\n",
    "    print(f\"사용자 입력: {state['input']}\")\n",
    "\n",
    "    plan = planner.invoke({\"messages\": [(\"user\", state[\"input\"])]})\n",
    "    \n",
    "    print('플래너 체인 실행: ')\n",
    "    print(plan.steps)\n",
    "\n",
    "    print('===== plan_step() 끝 =====')\n",
    "\n",
    "    # 생성된 계획의 단계 리스트 리턴\n",
    "    return {\"plan\": plan.steps}             "
   ]
  },
  {
   "cell_type": "markdown",
   "metadata": {},
   "source": [
    "### Agent 노드"
   ]
  },
  {
   "cell_type": "code",
   "execution_count": 299,
   "metadata": {},
   "outputs": [],
   "source": [
    "# 에이전트 실행기를 사용하여 주어진 작업을 수행하고 결과를 반환\n",
    "def execute_step(state: PlanExecute):\n",
    "    print('===== execute_step() 함수 시작 =====')\n",
    "\n",
    "    plan = state[\"plan\"]\n",
    "\n",
    "    # 계획을 문자열로 변환하여 각 단계에 번호를 매김\n",
    "    plan_str = ''\n",
    "\n",
    "    for i, step in enumerate(plan):\n",
    "        plan_str = plan_str + f\"{i+1}. {step}\" + '\\n'\n",
    "\n",
    "    plan_str.rstrip('\\n')\n",
    "    \n",
    "    print(f'plan 문자열')\n",
    "    print(plan_str)\n",
    "\n",
    "    task = plan[0]\n",
    "\n",
    "    print('실행할 task: ')\n",
    "    print(task)\n",
    "\n",
    "    # 현재 실행할 작업을 포맷팅하여 에이전트에 전달\n",
    "    task_formatted = f\"\"\"For the following plan:\n",
    "{plan_str}\\n\\nYou are tasked with executing [step 1. {task}].\"\"\"\n",
    "    \n",
    "    # 에이전트 실행기를 통해 작업 수행 및 결과 수신\n",
    "    agent_response = agent_executor.invoke({\"messages\": [(\"user\", task_formatted)]})\n",
    "    \n",
    "    print('\\nagent_executor 실행: ')\n",
    "    print([(task, agent_response[\"messages\"][-1].content)])\n",
    "    \n",
    "    print('===== execute_step() 함수 끝 =====')\n",
    "\n",
    "\n",
    "    # 이전 단계와 그 결과를 포함하는 딕셔너리 반환\n",
    "    return {\n",
    "        \"past_steps\": [(task, agent_response[\"messages\"][-1].content)],\n",
    "    }"
   ]
  },
  {
   "cell_type": "markdown",
   "metadata": {},
   "source": [
    "### Re-Plan (재계획) 노드"
   ]
  },
  {
   "cell_type": "code",
   "execution_count": 300,
   "metadata": {},
   "outputs": [],
   "source": [
    "# 이전 단계의 결과를 바탕으로 계획을 업데이트하거나 최종 응답을 반환\n",
    "def replan_step(state: PlanExecute):\n",
    "    print('===== replan_step() 함수 시작 =====')\n",
    "\n",
    "    output = replanner.invoke(state)\n",
    "\n",
    "    print(f'replanner.invoke() 실행: ')\n",
    "    print(output)\n",
    "\n",
    "    if isinstance(output.action, Response):                 # 응답이 사용자에게 리턴한 경우\n",
    "        print('[리턴] Response: ')\n",
    "        print( output.action.response)\n",
    "        print('===== replan_step() 함수 끝 =====')\n",
    "\n",
    "        return {\"response\": output.action.response}\n",
    "    else:\n",
    "        next_plan = output.action.steps\n",
    "        \n",
    "        if len(next_plan) == 0:\n",
    "            print('실행할 단계가 없는 경우: No more steps needed')            \n",
    "            print('===== replan_step() 함수 끝 =====')\n",
    "\n",
    "            return {\"response\": \"No more steps needed.\"}\n",
    "        else:\n",
    "            print('실행할 단계가 남은 경우: ')\n",
    "            print(next_plan)\n",
    "            print('===== replan_step() 함수 끝 =====')\n",
    "\n",
    "            return {\"plan\": next_plan}"
   ]
  },
  {
   "cell_type": "markdown",
   "metadata": {},
   "source": [
    "### Agent 실행을 계속할지 결정하는 함수"
   ]
  },
  {
   "cell_type": "code",
   "execution_count": 315,
   "metadata": {},
   "outputs": [],
   "source": [
    "def should_end(state: PlanExecute):\n",
    "    print('===== should_end() 함수 실행 =====')\n",
    "\n",
    "    if \"response\" in state and state[\"response\"]:\n",
    "        print('결과: final_report')\n",
    "        return \"final_report\"\n",
    "    else:\n",
    "        print('결과: execute')\n",
    "        return \"execute\""
   ]
  },
  {
   "cell_type": "code",
   "execution_count": 318,
   "metadata": {},
   "outputs": [],
   "source": [
    "final_report_prompt = ChatPromptTemplate.from_template(\n",
    "    \"\"\"You are given the objective and the previously done steps. Your task is to generate a final report in markdown format.\n",
    "Final report should be written in professional tone.\n",
    "\n",
    "Your objective was this:\n",
    "\n",
    "{input}\n",
    "\n",
    "Your previously done steps(question and answer pairs):\n",
    "\n",
    "{past_steps}\n",
    "\n",
    "Generate a final report in markdown format. Write your response in Korean.\"\"\"\n",
    ")\n",
    "\n",
    "\n",
    "llm = ChatOpenAI(\n",
    "    api_key=key, \n",
    "    model='gpt-4o', \n",
    "    temperature=0\n",
    ")\n",
    "\n",
    "output_parer = StrOutputParser()\n",
    "\n",
    "final_report = final_report_prompt | llm | output_parer "
   ]
  },
  {
   "cell_type": "code",
   "execution_count": 322,
   "metadata": {},
   "outputs": [],
   "source": [
    "def generate_final_report(state: PlanExecute):\n",
    "    print('===== generate_final_report() 함수 실행 =====')\n",
    "\n",
    "    past_steps  = ''\n",
    "\n",
    "    for past_step in state[\"past_steps\"]:\n",
    "        question = past_step[0]                 # 첫 번째 요소는 질문\n",
    "        answer = past_step[1]                   # 두 번째 요소는 답변\n",
    "        \n",
    "        # 현재 질문과 답변을 포맷팅하여 `past_steps`에 추가\n",
    "        formatted_step = f\"Question: {question}\\n\\nAnswer: {answer}\\n\\n####\"\n",
    "\n",
    "        past_steps = past_steps + formatted_step + \"\\n\\n\"  # 각 단계 사이에 두 줄 띄우기\n",
    "\n",
    "\n",
    "    print('past_steps:')\n",
    "    print(past_steps)\n",
    "\n",
    "    response = final_report.invoke({\"input\": state[\"input\"], \"past_steps\": past_steps})\n",
    "\n",
    "    print('final_report 실행: ')\n",
    "    print(response)\n",
    "    print('===== generate_final_report() 함수 끝 =====')\n",
    "\n",
    "\n",
    "    return {\"response\": response}"
   ]
  },
  {
   "cell_type": "code",
   "execution_count": 301,
   "metadata": {},
   "outputs": [
    {
     "data": {
      "text/plain": [
       "{'input': '겔럭시폰을 만든 회사는?',\n",
       " 'plan': [\"'겔럭시폰'이라는 이름을 확인한다.\",\n",
       "  \"'겔럭시폰'이 삼성전자의 제품임을 확인한다.\",\n",
       "  '삼성전자가 겔럭시폰을 만든 회사임을 결론짓는다.'],\n",
       " 'past_steps': [(\"겔럭시폰'이라는 이름을 확인한다.\",\n",
       "   '겔럭시폰은 스마트폰 입니다.',\n",
       "   \"'겔럭시폰'이 삼성전자의 제품임을 확인한다.\",\n",
       "   '겔럭시폰은 삼성전자가 만든 스마트폰입니다.',\n",
       "   '삼성전자가 겔럭시폰을 만든 회사임을 결론짓는다.',\n",
       "   '삼성전자 입니다.')],\n",
       " 'response': '겔럭시폰을 만든 회사는 삼성전자입니다. 더 이상의 추가 단계는 필요하지 않습니다.'}"
      ]
     },
     "execution_count": 301,
     "metadata": {},
     "output_type": "execute_result"
    }
   ],
   "source": [
    "state1 = PlanExecute(\n",
    "    input='겔럭시폰을 만든 회사는?',\n",
    "    plan=[\"'겔럭시폰'이라는 이름을 확인한다.\", \"'겔럭시폰'이 삼성전자의 제품임을 확인한다.\", \"삼성전자가 겔럭시폰을 만든 회사임을 결론짓는다.\"] ,\n",
    "    past_steps=[(\"겔럭시폰'이라는 이름을 확인한다.\", \"겔럭시폰은 스마트폰 입니다.\",\"'겔럭시폰'이 삼성전자의 제품임을 확인한다.\", \"겔럭시폰은 삼성전자가 만든 스마트폰입니다.\", \"삼성전자가 겔럭시폰을 만든 회사임을 결론짓는다.\", \"삼성전자 입니다.\")],\n",
    "    response='겔럭시폰을 만든 회사는 삼성전자입니다. 더 이상의 추가 단계는 필요하지 않습니다.'\n",
    ")\n",
    "\n",
    "state1"
   ]
  },
  {
   "cell_type": "code",
   "execution_count": 302,
   "metadata": {},
   "outputs": [
    {
     "name": "stdout",
     "output_type": "stream",
     "text": [
      "===== plan_step() 시작 =====\n",
      "사용자 입력: 겔럭시폰을 만든 회사는?\n",
      "플래너 체인 실행: \n",
      "[\"'겔럭시폰'이라는 이름의 제품을 만든 회사의 이름을 찾는다.\", \"'겔럭시폰'은 삼성전자가 만든 제품임을 확인한다.\", '따라서, 겔럭시폰을 만든 회사는 삼성전자이다.']\n",
      "===== plan_step() 끝 =====\n"
     ]
    },
    {
     "data": {
      "text/plain": [
       "{'plan': [\"'겔럭시폰'이라는 이름의 제품을 만든 회사의 이름을 찾는다.\",\n",
       "  \"'겔럭시폰'은 삼성전자가 만든 제품임을 확인한다.\",\n",
       "  '따라서, 겔럭시폰을 만든 회사는 삼성전자이다.']}"
      ]
     },
     "execution_count": 302,
     "metadata": {},
     "output_type": "execute_result"
    }
   ],
   "source": [
    "plan_step(state1)           # 계획 생성"
   ]
  },
  {
   "cell_type": "code",
   "execution_count": 303,
   "metadata": {},
   "outputs": [
    {
     "name": "stdout",
     "output_type": "stream",
     "text": [
      "===== execute_step() 함수 시작 =====\n",
      "plan 문자열\n",
      "1. '겔럭시폰'이라는 이름을 확인한다.\n",
      "2. '겔럭시폰'이 삼성전자의 제품임을 확인한다.\n",
      "3. 삼성전자가 겔럭시폰을 만든 회사임을 결론짓는다.\n",
      "\n",
      "실행할 task: \n",
      "'겔럭시폰'이라는 이름을 확인한다.\n",
      "\n",
      "agent_executor 실행: \n",
      "[(\"'겔럭시폰'이라는 이름을 확인한다.\", \"'겔럭시폰'이라는 이름은 삼성전자의 스마트폰 브랜드인 '갤럭시'를 지칭하는 것으로 확인되었습니다. 삼성전자는 다양한 갤럭시 시리즈 스마트폰을 제조하고 있습니다.\")]\n",
      "===== execute_step() 함수 끝 =====\n"
     ]
    }
   ],
   "source": [
    "execute_step_result = execute_step(state1)          # aegent 실행"
   ]
  },
  {
   "cell_type": "code",
   "execution_count": 304,
   "metadata": {},
   "outputs": [
    {
     "data": {
      "text/plain": [
       "{'past_steps': [(\"'겔럭시폰'이라는 이름을 확인한다.\",\n",
       "   \"'겔럭시폰'이라는 이름은 삼성전자의 스마트폰 브랜드인 '갤럭시'를 지칭하는 것으로 확인되었습니다. 삼성전자는 다양한 갤럭시 시리즈 스마트폰을 제조하고 있습니다.\")]}"
      ]
     },
     "execution_count": 304,
     "metadata": {},
     "output_type": "execute_result"
    }
   ],
   "source": [
    "execute_step_result     # execute_step(): agent 실행 결과  "
   ]
  },
  {
   "cell_type": "code",
   "execution_count": 305,
   "metadata": {},
   "outputs": [
    {
     "name": "stdout",
     "output_type": "stream",
     "text": [
      "===== replan_step() 함수 시작 =====\n",
      "replanner.invoke() 실행: \n",
      "action=Response(response='이미 모든 단계가 완료되었습니다. 겔럭시폰을 만든 회사는 삼성전자입니다.')\n",
      "[리턴] Response: \n",
      "이미 모든 단계가 완료되었습니다. 겔럭시폰을 만든 회사는 삼성전자입니다.\n",
      "===== replan_step() 함수 끝 =====\n"
     ]
    },
    {
     "data": {
      "text/plain": [
       "{'response': '이미 모든 단계가 완료되었습니다. 겔럭시폰을 만든 회사는 삼성전자입니다.'}"
      ]
     },
     "execution_count": 305,
     "metadata": {},
     "output_type": "execute_result"
    }
   ],
   "source": [
    "# re-plan 노드\n",
    "replan_step(state1)"
   ]
  },
  {
   "cell_type": "code",
   "execution_count": 316,
   "metadata": {},
   "outputs": [
    {
     "name": "stdout",
     "output_type": "stream",
     "text": [
      "===== should_end() 함수 실행 =====\n",
      "결과: final_report\n"
     ]
    },
    {
     "data": {
      "text/plain": [
       "'final_report'"
      ]
     },
     "execution_count": 316,
     "metadata": {},
     "output_type": "execute_result"
    }
   ],
   "source": [
    "should_end(state1)"
   ]
  },
  {
   "cell_type": "code",
   "execution_count": 312,
   "metadata": {},
   "outputs": [
    {
     "data": {
      "text/plain": [
       "{'input': '겔럭시폰을 만든 회사는?',\n",
       " 'plan': [\"'겔럭시폰'이라는 이름을 확인한다.\",\n",
       "  \"'겔럭시폰'이 삼성전자의 제품임을 확인한다.\",\n",
       "  '삼성전자가 겔럭시폰을 만든 회사임을 결론짓는다.'],\n",
       " 'past_steps': [(\"겔럭시폰'이라는 이름을 확인한다.\", '겔럭시폰은 스마트폰 입니다.')],\n",
       " 'response': ''}"
      ]
     },
     "execution_count": 312,
     "metadata": {},
     "output_type": "execute_result"
    }
   ],
   "source": [
    "state2 = PlanExecute(\n",
    "    input='겔럭시폰을 만든 회사는?',\n",
    "    plan=[\"'겔럭시폰'이라는 이름을 확인한다.\", \"'겔럭시폰'이 삼성전자의 제품임을 확인한다.\", \"삼성전자가 겔럭시폰을 만든 회사임을 결론짓는다.\"] ,\n",
    "    past_steps=[(\"겔럭시폰'이라는 이름을 확인한다.\", \"겔럭시폰은 스마트폰 입니다.\")],\n",
    "    response=''\n",
    ")\n",
    "\n",
    "state2"
   ]
  },
  {
   "cell_type": "code",
   "execution_count": 313,
   "metadata": {},
   "outputs": [
    {
     "name": "stdout",
     "output_type": "stream",
     "text": [
      "===== replan_step() 함수 시작 =====\n",
      "replanner.invoke() 실행: \n",
      "action=Plan(steps=[\"'겔럭시폰'이 삼성전자의 제품임을 확인한다.\", '삼성전자가 겔럭시폰을 만든 회사임을 결론짓는다.'])\n",
      "실행할 단계가 남은 경우: \n",
      "[\"'겔럭시폰'이 삼성전자의 제품임을 확인한다.\", '삼성전자가 겔럭시폰을 만든 회사임을 결론짓는다.']\n",
      "===== replan_step() 함수 끝 =====\n"
     ]
    },
    {
     "data": {
      "text/plain": [
       "{'plan': [\"'겔럭시폰'이 삼성전자의 제품임을 확인한다.\", '삼성전자가 겔럭시폰을 만든 회사임을 결론짓는다.']}"
      ]
     },
     "execution_count": 313,
     "metadata": {},
     "output_type": "execute_result"
    }
   ],
   "source": [
    "replan_step(state2)"
   ]
  },
  {
   "cell_type": "code",
   "execution_count": 317,
   "metadata": {},
   "outputs": [
    {
     "name": "stdout",
     "output_type": "stream",
     "text": [
      "===== should_end() 함수 실행 =====\n",
      "결과: execute\n"
     ]
    },
    {
     "data": {
      "text/plain": [
       "'execute'"
      ]
     },
     "execution_count": 317,
     "metadata": {},
     "output_type": "execute_result"
    }
   ],
   "source": [
    "should_end(state2)"
   ]
  },
  {
   "cell_type": "code",
   "execution_count": 324,
   "metadata": {},
   "outputs": [
    {
     "name": "stdout",
     "output_type": "stream",
     "text": [
      "===== generate_final_report() 함수 실행 =====\n",
      "past_steps:\n",
      "Question: 겔럭시폰'이라는 이름을 확인한다.\n",
      "\n",
      "Answer: 겔럭시폰은 스마트폰 입니다.\n",
      "\n",
      "####\n",
      "\n",
      "\n",
      "final_report 실행: \n",
      "# 최종 보고서\n",
      "\n",
      "## 개요\n",
      "\n",
      "본 보고서는 \"겔럭시폰을 만든 회사는?\"이라는 질문에 대한 답을 찾기 위해 수행된 조사 과정을 문서화한 것입니다. 겔럭시폰은 전 세계적으로 널리 사용되는 스마트폰 브랜드로, 이 보고서는 해당 브랜드의 제조사를 확인하는 것을 목표로 합니다.\n",
      "\n",
      "## 조사 과정\n",
      "\n",
      "### 1. 겔럭시폰'이라는 이름을 확인한다.\n",
      "\n",
      "- **질문:** 겔럭시폰'이라는 이름을 확인한다.\n",
      "- **답변:** 겔럭시폰은 스마트폰입니다.\n",
      "\n",
      "## 결론\n",
      "\n",
      "조사 결과, 겔럭시폰은 삼성전자(Samsung Electronics)에서 제조한 스마트폰 브랜드입니다. 삼성전자는 한국에 본사를 두고 있는 글로벌 전자 기업으로, 겔럭시 시리즈는 그들의 대표적인 스마트폰 라인업입니다. \n",
      "\n",
      "이 보고서는 겔럭시폰의 제조사를 확인하는 데 중점을 두었으며, 삼성전자가 그 제조사임을 명확히 밝혔습니다. 추가적인 정보가 필요할 경우, 삼성전자의 공식 웹사이트나 관련 자료를 참조하시기 바랍니다. \n",
      "\n",
      "## 참고 문헌\n",
      "\n",
      "- 삼성전자 공식 웹사이트\n",
      "- 관련 기술 문서 및 보도 자료\n",
      "\n",
      "이 보고서는 겔럭시폰의 제조사에 대한 명확한 이해를 제공하며, 관련된 추가 조사가 필요할 경우 유용한 출발점이 될 것입니다.\n",
      "===== generate_final_report() 함수 끝 =====\n"
     ]
    }
   ],
   "source": [
    "generate_final_report(state1)"
   ]
  },
  {
   "cell_type": "code",
   "execution_count": 325,
   "metadata": {},
   "outputs": [],
   "source": [
    "from langgraph.graph import StateGraph, START, END\n",
    "from langgraph.checkpoint.memory import MemorySaver\n",
    "\n",
    "\n",
    "# 그래프 생성\n",
    "workflow = StateGraph(PlanExecute)\n",
    "\n",
    "# 노드 정의\n",
    "workflow.add_node(\"planner\", plan_step)\n",
    "workflow.add_node(\"execute\", execute_step)\n",
    "workflow.add_node(\"replan\", replan_step)\n",
    "workflow.add_node(\"final_report\", generate_final_report)\n",
    "\n",
    "# 엣지 정의\n",
    "workflow.add_edge(START, \"planner\")\n",
    "workflow.add_edge(\"planner\", \"execute\")\n",
    "workflow.add_edge(\"execute\", \"replan\")\n",
    "workflow.add_edge(\"final_report\", END)\n",
    "\n",
    "# 조건부 엣지: replan 후 종료 여부를 결정하는 함수 사용\n",
    "workflow.add_conditional_edges(\n",
    "    \"replan\",\n",
    "    should_end,\n",
    "    {\"execute\": \"execute\", \"final_report\": \"final_report\"},\n",
    ")\n",
    "\n",
    "# 그래프 컴파일\n",
    "app = workflow.compile(checkpointer=MemorySaver())"
   ]
  },
  {
   "cell_type": "code",
   "execution_count": 326,
   "metadata": {},
   "outputs": [
    {
     "data": {
      "image/png": "[encoded data removed]",
      "text/plain": [
       "<IPython.core.display.Image object>"
      ]
     },
     "metadata": {},
     "output_type": "display_data"
    }
   ],
   "source": [
    "from langchain_teddynote.graphs import visualize_graph\n",
    "\n",
    "visualize_graph(app, xray=True)"
   ]
  },
  {
   "cell_type": "code",
   "execution_count": 327,
   "metadata": {},
   "outputs": [
    {
     "name": "stdout",
     "output_type": "stream",
     "text": [
      "===== plan_step() 시작 =====\n",
      "사용자 입력: 겔럭시폰을 만든 회사는?\n",
      "플래너 체인 실행: \n",
      "[\"'겔럭시폰'이라는 이름을 확인한다.\", \"'겔럭시폰'이 삼성전자의 제품임을 확인한다.\", '삼성전자가 겔럭시폰을 만든 회사임을 결론짓는다.']\n",
      "===== plan_step() 끝 =====\n",
      "[node_name]: planner\n",
      "[node_chunk]:\n",
      " {'plan': [\"'겔럭시폰'이라는 이름을 확인한다.\", \"'겔럭시폰'이 삼성전자의 제품임을 확인한다.\", '삼성전자가 겔럭시폰을 만든 회사임을 결론짓는다.']}\n",
      "===== execute_step() 함수 시작 =====\n",
      "plan 문자열\n",
      "1. '겔럭시폰'이라는 이름을 확인한다.\n",
      "2. '겔럭시폰'이 삼성전자의 제품임을 확인한다.\n",
      "3. 삼성전자가 겔럭시폰을 만든 회사임을 결론짓는다.\n",
      "\n",
      "실행할 task: \n",
      "'겔럭시폰'이라는 이름을 확인한다.\n",
      "\n",
      "agent_executor 실행: \n",
      "[(\"'겔럭시폰'이라는 이름을 확인한다.\", \"'겔럭시폰'은 삼성전자의 스마트폰 브랜드인 '갤럭시'를 의미하는 것으로 보입니다. 삼성전자는 다양한 갤럭시 스마트폰 모델을 제공하고 있습니다.\")]\n",
      "===== execute_step() 함수 끝 =====\n",
      "[node_name]: execute\n",
      "[node_chunk]:\n",
      " {'past_steps': [(\"'겔럭시폰'이라는 이름을 확인한다.\", \"'겔럭시폰'은 삼성전자의 스마트폰 브랜드인 '갤럭시'를 의미하는 것으로 보입니다. 삼성전자는 다양한 갤럭시 스마트폰 모델을 제공하고 있습니다.\")]}\n",
      "===== replan_step() 함수 시작 =====\n",
      "replanner.invoke() 실행: \n",
      "action=Response(response=\"현재까지의 진행 상황에 따르면, '겔럭시폰'이 삼성전자의 제품임을 확인하였습니다. 따라서 추가적인 단계는 필요하지 않으며, 최종 결론을 내릴 수 있습니다.\\n\\n삼성전자가 겔럭시폰을 만든 회사입니다.\")\n",
      "[리턴] Response: \n",
      "현재까지의 진행 상황에 따르면, '겔럭시폰'이 삼성전자의 제품임을 확인하였습니다. 따라서 추가적인 단계는 필요하지 않으며, 최종 결론을 내릴 수 있습니다.\n",
      "\n",
      "삼성전자가 겔럭시폰을 만든 회사입니다.\n",
      "===== replan_step() 함수 끝 =====\n",
      "===== should_end() 함수 실행 =====\n",
      "결과: final_report\n",
      "[node_name]: replan\n",
      "[node_chunk]:\n",
      " {'response': \"현재까지의 진행 상황에 따르면, '겔럭시폰'이 삼성전자의 제품임을 확인하였습니다. 따라서 추가적인 단계는 필요하지 않으며, 최종 결론을 내릴 수 있습니다.\\n\\n삼성전자가 겔럭시폰을 만든 회사입니다.\"}\n",
      "===== generate_final_report() 함수 실행 =====\n",
      "past_steps:\n",
      "Question: '겔럭시폰'이라는 이름을 확인한다.\n",
      "\n",
      "Answer: '겔럭시폰'은 삼성전자의 스마트폰 브랜드인 '갤럭시'를 의미하는 것으로 보입니다. 삼성전자는 다양한 갤럭시 스마트폰 모델을 제공하고 있습니다.\n",
      "\n",
      "####\n",
      "\n",
      "\n",
      "final_report 실행: \n",
      "# 최종 보고서\n",
      "\n",
      "## 개요\n",
      "\n",
      "본 보고서는 \"겔럭시폰을 만든 회사는?\"이라는 질문에 대한 답변을 제공하기 위해 수행된 조사 결과를 정리한 것입니다. \n",
      "\n",
      "## 조사 과정\n",
      "\n",
      "### 질문 1: '겔럭시폰'이라는 이름을 확인한다.\n",
      "\n",
      "- **답변**: '겔럭시폰'은 삼성전자의 스마트폰 브랜드인 '갤럭시'를 의미하는 것으로 보입니다. 삼성전자는 다양한 갤럭시 스마트폰 모델을 제공하고 있습니다.\n",
      "\n",
      "## 결론\n",
      "\n",
      "조사 결과, '겔럭시폰'은 삼성전자의 스마트폰 브랜드인 '갤럭시'를 지칭하는 것으로 확인되었습니다. 따라서, 겔럭시폰을 만든 회사는 삼성전자입니다. 삼성전자는 글로벌 시장에서 다양한 갤럭시 스마트폰 모델을 출시하며, 혁신적인 기술과 디자인으로 소비자들에게 높은 평가를 받고 있습니다.\n",
      "\n",
      "## 참고 문헌\n",
      "\n",
      "- 삼성전자 공식 웹사이트\n",
      "- 관련 기술 및 제품 리뷰\n",
      "\n",
      "본 보고서는 삼성전자의 갤럭시 브랜드에 대한 이해를 돕기 위한 목적으로 작성되었습니다. 추가적인 정보가 필요하신 경우, 삼성전자의 공식 자료를 참조하시기 바랍니다.\n",
      "===== generate_final_report() 함수 끝 =====\n",
      "[node_name]: final_report\n",
      "[node_chunk]:\n",
      " {'response': '# 최종 보고서\\n\\n## 개요\\n\\n본 보고서는 \"겔럭시폰을 만든 회사는?\"이라는 질문에 대한 답변을 제공하기 위해 수행된 조사 결과를 정리한 것입니다. \\n\\n## 조사 과정\\n\\n### 질문 1: \\'겔럭시폰\\'이라는 이름을 확인한다.\\n\\n- **답변**: \\'겔럭시폰\\'은 삼성전자의 스마트폰 브랜드인 \\'갤럭시\\'를 의미하는 것으로 보입니다. 삼성전자는 다양한 갤럭시 스마트폰 모델을 제공하고 있습니다.\\n\\n## 결론\\n\\n조사 결과, \\'겔럭시폰\\'은 삼성전자의 스마트폰 브랜드인 \\'갤럭시\\'를 지칭하는 것으로 확인되었습니다. 따라서, 겔럭시폰을 만든 회사는 삼성전자입니다. 삼성전자는 글로벌 시장에서 다양한 갤럭시 스마트폰 모델을 출시하며, 혁신적인 기술과 디자인으로 소비자들에게 높은 평가를 받고 있습니다.\\n\\n## 참고 문헌\\n\\n- 삼성전자 공식 웹사이트\\n- 관련 기술 및 제품 리뷰\\n\\n본 보고서는 삼성전자의 갤럭시 브랜드에 대한 이해를 돕기 위한 목적으로 작성되었습니다. 추가적인 정보가 필요하신 경우, 삼성전자의 공식 자료를 참조하시기 바랍니다.'}\n"
     ]
    }
   ],
   "source": [
    "from langchain_teddynote.messages import invoke_graph, random_uuid\n",
    "from langchain_core.runnables import RunnableConfig\n",
    "\n",
    "config = RunnableConfig(recursion_limit=50, configurable={\"thread_id\": random_uuid()})\n",
    "\n",
    "inputs = {\n",
    "    \"input\": \"겔럭시폰을 만든 회사는?\"\n",
    "}\n",
    "\n",
    "for event in app.stream(inputs, config=config):\n",
    "    for node_name, node_chunk in event.items():\n",
    "        print('[node_name]:', node_name)\n",
    "        print('[node_chunk]:\\n', node_chunk)"
   ]
  },
  {
   "cell_type": "code",
   "execution_count": 329,
   "metadata": {},
   "outputs": [
    {
     "name": "stdout",
     "output_type": "stream",
     "text": [
      "===== plan_step() 시작 =====\n",
      "사용자 입력: 겔럭시폰을 만든 회사는?\n",
      "플래너 체인 실행: \n",
      "[\"'겔럭시폰'이라는 제품명을 확인한다.\", \"'겔럭시폰'이 삼성전자의 제품임을 확인한다.\", '삼성전자가 겔럭시폰을 만든 회사임을 결론짓는다.']\n",
      "===== plan_step() 끝 =====\n",
      "\n",
      "==================================================\n",
      "🔄 Node: \u001b[1;36mplanner\u001b[0m 🔄\n",
      "- - - - - - - - - - - - - - - - - - - - - - - - - \n",
      "'겔럭시폰'이라는 제품명을 확인한다.\n",
      "'겔럭시폰'이 삼성전자의 제품임을 확인한다.\n",
      "삼성전자가 겔럭시폰을 만든 회사임을 결론짓는다.\n",
      "==================================================\n",
      "===== execute_step() 함수 시작 =====\n",
      "plan 문자열\n",
      "1. '겔럭시폰'이라는 제품명을 확인한다.\n",
      "2. '겔럭시폰'이 삼성전자의 제품임을 확인한다.\n",
      "3. 삼성전자가 겔럭시폰을 만든 회사임을 결론짓는다.\n",
      "\n",
      "실행할 task: \n",
      "'겔럭시폰'이라는 제품명을 확인한다.\n",
      "\n",
      "==================================================\n",
      "🔄 Node: \u001b[1;36magent\u001b[0m in [\u001b[1;33mexecute\u001b[0m] 🔄\n",
      "- - - - - - - - - - - - - - - - - - - - - - - - - \n",
      "==================================\u001b[1m Ai Message \u001b[0m==================================\n",
      "Tool Calls:\n",
      "  tavily_web_search (call_3IAMPjVmFakvwLgv2JagWwHB)\n",
      " Call ID: call_3IAMPjVmFakvwLgv2JagWwHB\n",
      "  Args:\n",
      "    query: 겔럭시폰 제품명\n",
      "==================================================\n",
      "\n",
      "==================================================\n",
      "🔄 Node: \u001b[1;36mtools\u001b[0m in [\u001b[1;33mexecute\u001b[0m] 🔄\n",
      "- - - - - - - - - - - - - - - - - - - - - - - - - \n",
      "=================================\u001b[1m Tool Message \u001b[0m=================================\n",
      "Name: tavily_web_search\n",
      "\n",
      "[{\"title\": \"갤럭시 핸드폰 기종 모델명 확인하는법 - 힙나비\", \"url\": \"https://hipsterlibertarian.com/7339\", \"content\": \"갤럭시 핸드폰은 삼성전자에서 제조하는 인기 있는 스마트폰 브랜드입니다. 갤럭시 핸드폰을 사용하고 계시거나 새로 구매하려는 경우, 기종과 모델명을 확인하는 것은 매우 중요합니다. 기종과 모델명을 확인하면 보증 정보, 소프트웨어 업데이트 및 호환성과\", \"score\": 0.41392776, \"raw_content\": null}]\n",
      "==================================================\n",
      "\n",
      "agent_executor 실행: \n",
      "[(\"'겔럭시폰'이라는 제품명을 확인한다.\", \"'겔럭시폰'은 삼성전자에서 제조하는 인기 있는 스마트폰 브랜드인 '갤럭시'를 의미합니다. 따라서 '겔럭시폰'이라는 제품명은 삼성전자의 '갤럭시' 핸드폰을 가리키는 것으로 확인되었습니다.\")]\n",
      "===== execute_step() 함수 끝 =====\n",
      "\n",
      "==================================================\n",
      "🔄 Node: \u001b[1;36magent\u001b[0m in [\u001b[1;33mexecute\u001b[0m] 🔄\n",
      "- - - - - - - - - - - - - - - - - - - - - - - - - \n",
      "==================================\u001b[1m Ai Message \u001b[0m==================================\n",
      "\n",
      "'겔럭시폰'은 삼성전자에서 제조하는 인기 있는 스마트폰 브랜드인 '갤럭시'를 의미합니다. 따라서 '겔럭시폰'이라는 제품명은 삼성전자의 '갤럭시' 핸드폰을 가리키는 것으로 확인되었습니다.\n",
      "==================================================\n",
      "\n",
      "==================================================\n",
      "🔄 Node: \u001b[1;36mexecute\u001b[0m 🔄\n",
      "- - - - - - - - - - - - - - - - - - - - - - - - - \n",
      "(\"'겔럭시폰'이라는 제품명을 확인한다.\", \"'겔럭시폰'은 삼성전자에서 제조하는 인기 있는 스마트폰 브랜드인 '갤럭시'를 의미합니다. 따라서 '겔럭시폰'이라는 제품명은 삼성전자의 '갤럭시' 핸드폰을 가리키는 것으로 확인되었습니다.\")\n",
      "==================================================\n",
      "===== replan_step() 함수 시작 =====\n",
      "replanner.invoke() 실행: \n",
      "action=Response(response=\"현재까지의 진행 상황에 따라, 남은 단계는 다음과 같습니다:\\n\\n1. **'겔럭시폰'이 삼성전자의 제품임을 확인한다.**\\n   - '겔럭시폰'은 삼성전자의 스마트폰 브랜드인 '갤럭시'에 속하는 제품임을 확인합니다.\\n\\n2. **삼성전자가 겔럭시폰을 만든 회사임을 결론짓는다.**\\n   - 위의 확인을 바탕으로, 삼성전자가 겔럭시폰을 만든 회사임을 결론지을 수 있습니다.\\n\\n이 두 단계를 완료하면, 최종적으로 삼성전자가 겔럭시폰을 만든 회사임을 확정할 수 있습니다.\")\n",
      "[리턴] Response: \n",
      "현재까지의 진행 상황에 따라, 남은 단계는 다음과 같습니다:\n",
      "\n",
      "1. **'겔럭시폰'이 삼성전자의 제품임을 확인한다.**\n",
      "   - '겔럭시폰'은 삼성전자의 스마트폰 브랜드인 '갤럭시'에 속하는 제품임을 확인합니다.\n",
      "\n",
      "2. **삼성전자가 겔럭시폰을 만든 회사임을 결론짓는다.**\n",
      "   - 위의 확인을 바탕으로, 삼성전자가 겔럭시폰을 만든 회사임을 결론지을 수 있습니다.\n",
      "\n",
      "이 두 단계를 완료하면, 최종적으로 삼성전자가 겔럭시폰을 만든 회사임을 확정할 수 있습니다.\n",
      "===== replan_step() 함수 끝 =====\n",
      "===== should_end() 함수 실행 =====\n",
      "결과: final_report\n",
      "\n",
      "==================================================\n",
      "🔄 Node: \u001b[1;36mreplan\u001b[0m 🔄\n",
      "- - - - - - - - - - - - - - - - - - - - - - - - - \n",
      "\u001b[1;32mresponse\u001b[0m:\n",
      "현재까지의 진행 상황에 따라, 남은 단계는 다음과 같습니다:\n",
      "\n",
      "1. **'겔럭시폰'이 삼성전자의 제품임을 확인한다.**\n",
      "   - '겔럭시폰'은 삼성전자의 스마트폰 브랜드인 '갤럭시'에 속하는 제품임을 확인합니다.\n",
      "\n",
      "2. **삼성전자가 겔럭시폰을 만든 회사임을 결론짓는다.**\n",
      "   - 위의 확인을 바탕으로, 삼성전자가 겔럭시폰을 만든 회사임을 결론지을 수 있습니다.\n",
      "\n",
      "이 두 단계를 완료하면, 최종적으로 삼성전자가 겔럭시폰을 만든 회사임을 확정할 수 있습니다.\n",
      "==================================================\n",
      "===== generate_final_report() 함수 실행 =====\n",
      "past_steps:\n",
      "Question: '겔럭시폰'이라는 제품명을 확인한다.\n",
      "\n",
      "Answer: '겔럭시폰'은 삼성전자에서 제조하는 인기 있는 스마트폰 브랜드인 '갤럭시'를 의미합니다. 따라서 '겔럭시폰'이라는 제품명은 삼성전자의 '갤럭시' 핸드폰을 가리키는 것으로 확인되었습니다.\n",
      "\n",
      "####\n",
      "\n",
      "\n",
      "final_report 실행: \n",
      "# 최종 보고서\n",
      "\n",
      "## 목표\n",
      "\n",
      "본 보고서의 목표는 \"겔럭시폰을 만든 회사는?\"이라는 질문에 대한 답변을 제공하는 것입니다.\n",
      "\n",
      "## 조사 과정\n",
      "\n",
      "### 질문 1: '겔럭시폰'이라는 제품명을 확인한다.\n",
      "\n",
      "- **답변**: '겔럭시폰'은 삼성전자에서 제조하는 인기 있는 스마트폰 브랜드인 '갤럭시'를 의미합니다. 따라서 '겔럭시폰'이라는 제품명은 삼성전자의 '갤럭시' 핸드폰을 가리키는 것으로 확인되었습니다.\n",
      "\n",
      "## 결론\n",
      "\n",
      "조사 결과, '겔럭시폰'은 삼성전자에서 제조하는 '갤럭시' 브랜드의 스마트폰을 의미합니다. 따라서 '겔럭시폰'을 만든 회사는 삼성전자입니다.\n",
      "\n",
      "## 참고 문헌\n",
      "\n",
      "- 삼성전자 공식 웹사이트\n",
      "- 관련 기술 문서 및 제품 설명서\n",
      "\n",
      "본 보고서는 위의 조사 과정을 통해 얻은 정보를 바탕으로 작성되었습니다. 추가적인 질문이나 정보가 필요하신 경우, 관련 자료를 참조하시기 바랍니다.\n",
      "===== generate_final_report() 함수 끝 =====\n",
      "\n",
      "==================================================\n",
      "🔄 Node: \u001b[1;36mfinal_report\u001b[0m 🔄\n",
      "- - - - - - - - - - - - - - - - - - - - - - - - - \n",
      "\u001b[1;32mresponse\u001b[0m:\n",
      "# 최종 보고서\n",
      "\n",
      "## 목표\n",
      "\n",
      "본 보고서의 목표는 \"겔럭시폰을 만든 회사는?\"이라는 질문에 대한 답변을 제공하는 것입니다.\n",
      "\n",
      "## 조사 과정\n",
      "\n",
      "### 질문 1: '겔럭시폰'이라는 제품명을 확인한다.\n",
      "\n",
      "- **답변**: '겔럭시폰'은 삼성전자에서 제조하는 인기 있는 스마트폰 브랜드인 '갤럭시'를 의미합니다. 따라서 '겔럭시폰'이라는 제품명은 삼성전자의 '갤럭시' 핸드폰을 가리키는 것으로 확인되었습니다.\n",
      "\n",
      "## 결론\n",
      "\n",
      "조사 결과, '겔럭시폰'은 삼성전자에서 제조하는 '갤럭시' 브랜드의 스마트폰을 의미합니다. 따라서 '겔럭시폰'을 만든 회사는 삼성전자입니다.\n",
      "\n",
      "## 참고 문헌\n",
      "\n",
      "- 삼성전자 공식 웹사이트\n",
      "- 관련 기술 문서 및 제품 설명서\n",
      "\n",
      "본 보고서는 위의 조사 과정을 통해 얻은 정보를 바탕으로 작성되었습니다. 추가적인 질문이나 정보가 필요하신 경우, 관련 자료를 참조하시기 바랍니다.\n",
      "==================================================\n"
     ]
    }
   ],
   "source": [
    "from langchain_teddynote.messages import invoke_graph, random_uuid\n",
    "from langchain_core.runnables import RunnableConfig\n",
    "\n",
    "config = RunnableConfig(recursion_limit=50, configurable={\"thread_id\": random_uuid()})\n",
    "\n",
    "inputs = {\n",
    "    \"input\": \"겔럭시폰을 만든 회사는?\"\n",
    "}\n",
    "\n",
    "invoke_graph(app, inputs, config)"
   ]
  },
  {
   "cell_type": "code",
   "execution_count": 330,
   "metadata": {},
   "outputs": [
    {
     "name": "stdout",
     "output_type": "stream",
     "text": [
      "# 최종 보고서\n",
      "\n",
      "## 목표\n",
      "\n",
      "본 보고서의 목표는 \"겔럭시폰을 만든 회사는?\"이라는 질문에 대한 답변을 제공하는 것입니다.\n",
      "\n",
      "## 조사 과정\n",
      "\n",
      "### 질문 1: '겔럭시폰'이라는 제품명을 확인한다.\n",
      "\n",
      "- **답변**: '겔럭시폰'은 삼성전자에서 제조하는 인기 있는 스마트폰 브랜드인 '갤럭시'를 의미합니다. 따라서 '겔럭시폰'이라는 제품명은 삼성전자의 '갤럭시' 핸드폰을 가리키는 것으로 확인되었습니다.\n",
      "\n",
      "## 결론\n",
      "\n",
      "조사 결과, '겔럭시폰'은 삼성전자에서 제조하는 '갤럭시' 브랜드의 스마트폰을 의미합니다. 따라서 '겔럭시폰'을 만든 회사는 삼성전자입니다.\n",
      "\n",
      "## 참고 문헌\n",
      "\n",
      "- 삼성전자 공식 웹사이트\n",
      "- 관련 기술 문서 및 제품 설명서\n",
      "\n",
      "본 보고서는 위의 조사 과정을 통해 얻은 정보를 바탕으로 작성되었습니다. 추가적인 질문이나 정보가 필요하신 경우, 관련 자료를 참조하시기 바랍니다.\n"
     ]
    }
   ],
   "source": [
    "snapshot = app.get_state(config).values\n",
    "print(snapshot[\"response\"])"
   ]
  },
  {
   "cell_type": "code",
   "execution_count": 331,
   "metadata": {},
   "outputs": [
    {
     "data": {
      "text/markdown": [
       "# 최종 보고서\n",
       "\n",
       "## 목표\n",
       "\n",
       "본 보고서의 목표는 \"겔럭시폰을 만든 회사는?\"이라는 질문에 대한 답변을 제공하는 것입니다.\n",
       "\n",
       "## 조사 과정\n",
       "\n",
       "### 질문 1: '겔럭시폰'이라는 제품명을 확인한다.\n",
       "\n",
       "- **답변**: '겔럭시폰'은 삼성전자에서 제조하는 인기 있는 스마트폰 브랜드인 '갤럭시'를 의미합니다. 따라서 '겔럭시폰'이라는 제품명은 삼성전자의 '갤럭시' 핸드폰을 가리키는 것으로 확인되었습니다.\n",
       "\n",
       "## 결론\n",
       "\n",
       "조사 결과, '겔럭시폰'은 삼성전자에서 제조하는 '갤럭시' 브랜드의 스마트폰을 의미합니다. 따라서 '겔럭시폰'을 만든 회사는 삼성전자입니다.\n",
       "\n",
       "## 참고 문헌\n",
       "\n",
       "- 삼성전자 공식 웹사이트\n",
       "- 관련 기술 문서 및 제품 설명서\n",
       "\n",
       "본 보고서는 위의 조사 과정을 통해 얻은 정보를 바탕으로 작성되었습니다. 추가적인 질문이나 정보가 필요하신 경우, 관련 자료를 참조하시기 바랍니다."
      ],
      "text/plain": [
       "<IPython.core.display.Markdown object>"
      ]
     },
     "execution_count": 331,
     "metadata": {},
     "output_type": "execute_result"
    }
   ],
   "source": [
    "from IPython.display import Markdown\n",
    "\n",
    "Markdown(snapshot[\"response\"])"
   ]
  }
 ],
 "metadata": {
  "kernelspec": {
   "display_name": "venv",
   "language": "python",
   "name": "python3"
  },
  "language_info": {
   "name": "python",
   "version": "3.11.9"
  }
 },
 "nbformat": 4,
 "nbformat_minor": 2
}
