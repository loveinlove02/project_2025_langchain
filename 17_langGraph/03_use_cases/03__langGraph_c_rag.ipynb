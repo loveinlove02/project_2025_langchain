{
 "cells": [
  {
   "cell_type": "code",
   "execution_count": 60,
   "metadata": {},
   "outputs": [],
   "source": [
    "from dotenv import load_dotenv\n",
    "import os\n",
    "\n",
    "load_dotenv(verbose=True)\n",
    "key = os.getenv('OPENAI_API_KEY')"
   ]
  },
  {
   "cell_type": "markdown",
   "metadata": {},
   "source": [
    "### Corrective Rag\n",
    "\n",
    "RAG(Retrieval Augmented Generation) 에서 사용자 질문에 대한 문서 검색 결과를 평가하고, 필요하다면 다른 방법의 검색을 수행하여 <br>\n",
    "질이 높은 답변을 만들어 내기 위한 프로세스를 포함하는 것입니다. <br>"
   ]
  },
  {
   "cell_type": "markdown",
   "metadata": {},
   "source": [
    "### PDF 기반 문서 검색기 (Retrieval chain) 생성"
   ]
  },
  {
   "cell_type": "code",
   "execution_count": 61,
   "metadata": {},
   "outputs": [],
   "source": [
    "from rag.pdf import PDFRetrievalChain\n",
    "\n",
    "# PDF 문서를 로드\n",
    "pdf = PDFRetrievalChain(['data/SPRI_AI_Brief_2023년12월호_F.pdf']).create_chain()\n",
    "\n",
    "pdf_retriever = pdf.retriever       # retriever 생성\n",
    "pdf_chain = pdf.chain               # pdf retriever chain 생성"
   ]
  },
  {
   "cell_type": "markdown",
   "metadata": {},
   "source": [
    "### State"
   ]
  },
  {
   "cell_type": "code",
   "execution_count": 62,
   "metadata": {},
   "outputs": [],
   "source": [
    "from typing import Annotated, List\n",
    "from typing_extensions import TypedDict\n",
    "\n",
    "class GraphState(TypedDict):\n",
    "    \"\"\"\n",
    "    그래프의 상태를 나타내는 데이터 모델\n",
    "\n",
    "    Attributes:\n",
    "        question: 질문\n",
    "        generation: LLM 생성된 답변\n",
    "        web_search: 웹 검색 필요에 대해서 Yes or No 답변 \n",
    "        documents: 도큐먼트 리스트\n",
    "    \"\"\"\n",
    "\n",
    "    question: Annotated[str, \"The question to answer\"]\n",
    "    generation: Annotated[str, \"LLM generated answer\"]\n",
    "    web_search: Annotated[str, \"Whether to add search\"]\n",
    "    documents: Annotated[List[str], \"The documents retrieved\"]"
   ]
  },
  {
   "cell_type": "markdown",
   "metadata": {},
   "source": [
    "### 문서 검색 노드 : 사용자 질문에 대한 PDF 문서를 검색하는 PDF 기반 문서 검색기 (Retrieval chain)"
   ]
  },
  {
   "cell_type": "code",
   "execution_count": 63,
   "metadata": {},
   "outputs": [],
   "source": [
    "# 문서 검색 노드\n",
    "def retrieve(state: GraphState):\n",
    "    print('\\n==========================================================================================')\n",
    "    print('===== [RETRIEVE] retieve() 노드 실행 =====')\n",
    "\n",
    "    question = state['question']                    # 사용자 질문\n",
    "    documents = pdf_retriever.invoke(question)      # 문서 검색\n",
    "    \n",
    "    print(f'문서 검색 결과: ')\n",
    "    print(documents)\n",
    "    \n",
    "    print('===== [RETRIEVE] retieve() 노드 실행 완료 =====')\n",
    "    print('==========================================================================================\\n')\n",
    "    \n",
    "    return {'documents': documents}"
   ]
  },
  {
   "cell_type": "code",
   "execution_count": 64,
   "metadata": {},
   "outputs": [],
   "source": [
    "state = GraphState(\n",
    "    question='삼성전자가 만든 생성형 AI 이름은?',\n",
    "    generation = '', \n",
    "    web_search = '',\n",
    "    documents = []\n",
    ")"
   ]
  },
  {
   "cell_type": "code",
   "execution_count": 65,
   "metadata": {},
   "outputs": [
    {
     "name": "stdout",
     "output_type": "stream",
     "text": [
      "\n",
      "==========================================================================================\n",
      "===== [RETRIEVE] retieve() 노드 실행 =====\n",
      "문서 검색 결과: \n",
      "[Document(id='1c88b53b-549e-401e-8939-34a058a46e8f', metadata={'source': 'data/SPRI_AI_Brief_2023년12월호_F.pdf', 'file_path': 'data/SPRI_AI_Brief_2023년12월호_F.pdf', 'page': 1, 'total_pages': 23, 'Author': 'dj', 'Creator': 'Hwp 2018 10.0.0.13462', 'Producer': 'Hancom PDF 1.3.0.542', 'CreationDate': \"D:20231208132838+09'00'\", 'ModDate': \"D:20231208132838+09'00'\", 'PDFVersion': '1.4'}, page_content='▹ 삼성전자, 자체 개발 생성 AI ‘삼성 가우스’ 공개 ···························································10\\n▹ 구글, 앤스로픽에 20억 달러 투자로 생성 AI 협력 강화 ················································11\\n▹ IDC, 2027년 AI 소프트웨어 매출 2,500억 달러 돌파 전망···········································12'), Document(id='f7333c74-5762-4bbe-9a80-af7ebde9a002', metadata={'source': 'data/SPRI_AI_Brief_2023년12월호_F.pdf', 'file_path': 'data/SPRI_AI_Brief_2023년12월호_F.pdf', 'page': 12, 'total_pages': 23, 'Author': 'dj', 'Creator': 'Hwp 2018 10.0.0.13462', 'Producer': 'Hancom PDF 1.3.0.542', 'CreationDate': \"D:20231208132838+09'00'\", 'ModDate': \"D:20231208132838+09'00'\", 'PDFVersion': '1.4'}, page_content='SPRi AI Brief |\\n2023-12월호\\n삼성전자, 자체 개발 생성 AI ‘삼성 가우스’ 공개\\nKEY Contents\\nn 삼성전자가 온디바이스에서 작동 가능하며 언어, 코드, 이미지의 3개 모델로 구성된 자체 개발 생성\\nAI 모델 ‘삼성 가우스’를 공개\\nn 삼성전자는 삼성 가우스를 다양한 제품에 단계적으로 탑재할 계획으로, 온디바이스 작동이 가능한\\n삼성 가우스는 외부로 사용자 정보가 유출될 위험이 없다는 장점을 보유\\n£언어, 코드, 이미지의 3개 모델로 구성된 삼성 가우스, 온디바이스 작동 지원'), Document(id='4bdcf464-36c7-49b7-a2b3-5e4aff575c2a', metadata={'source': 'data/SPRI_AI_Brief_2023년12월호_F.pdf', 'file_path': 'data/SPRI_AI_Brief_2023년12월호_F.pdf', 'page': 12, 'total_pages': 23, 'Author': 'dj', 'Creator': 'Hwp 2018 10.0.0.13462', 'Producer': 'Hancom PDF 1.3.0.542', 'CreationDate': \"D:20231208132838+09'00'\", 'ModDate': \"D:20231208132838+09'00'\", 'PDFVersion': '1.4'}, page_content='£언어, 코드, 이미지의 3개 모델로 구성된 삼성 가우스, 온디바이스 작동 지원\\nn 삼성전자가 2023년 11월 8일 열린 ‘삼성 AI 포럼 2023’ 행사에서 자체 개발한 생성 AI 모델\\n‘삼성 가우스’를 최초 공개\\n∙ 정규분포 이론을 정립한 천재 수학자 가우스(Gauss)의 이름을 본뜬 삼성 가우스는 다양한 상황에\\n최적화된 크기의 모델 선택이 가능\\n∙ 삼성 가우스는 라이선스나 개인정보를 침해하지 않는 안전한 데이터를 통해 학습되었으며,\\n온디바이스에서 작동하도록 설계되어 외부로 사용자의 정보가 유출되지 않는 장점을 보유'), Document(id='60ae2cfa-371a-4423-a24d-8b3907832cc5', metadata={'source': 'data/SPRI_AI_Brief_2023년12월호_F.pdf', 'file_path': 'data/SPRI_AI_Brief_2023년12월호_F.pdf', 'page': 12, 'total_pages': 23, 'Author': 'dj', 'Creator': 'Hwp 2018 10.0.0.13462', 'Producer': 'Hancom PDF 1.3.0.542', 'CreationDate': \"D:20231208132838+09'00'\", 'ModDate': \"D:20231208132838+09'00'\", 'PDFVersion': '1.4'}, page_content='어시스턴트를 적용한 구글 픽셀(Pixel)과 경쟁할 것으로 예상\\n☞ 출처 : 삼성전자, ‘삼성 AI 포럼’서 자체 개발 생성형 AI ‘삼성 가우스’ 공개, 2023.11.08.\\n삼성전자, ‘삼성 개발자 콘퍼런스 코리아 2023’ 개최, 2023.11.14.\\nTechRepublic, Samsung Gauss: Samsung Research Reveals Generative AI, 2023.11.08.\\n10'), Document(id='a503d3fa-453f-41fb-bd21-6b2f75aa990f', metadata={'source': 'data/SPRI_AI_Brief_2023년12월호_F.pdf', 'file_path': 'data/SPRI_AI_Brief_2023년12월호_F.pdf', 'page': 18, 'total_pages': 23, 'Author': 'dj', 'Creator': 'Hwp 2018 10.0.0.13462', 'Producer': 'Hancom PDF 1.3.0.542', 'CreationDate': \"D:20231208132838+09'00'\", 'ModDate': \"D:20231208132838+09'00'\", 'PDFVersion': '1.4'}, page_content='<구글 딥마인드의 범용 AI 분류 프레임워크>\\n성능 특수 AI 예시 범용 AI 예시\\n0단계: AI 아님 계산기 소프트웨어, 컴파일러 아마존 메커니컬 터크\\n1단계: 신진(숙련되지 않은 인간) GOFAI(Good Old Fashioned Artificial Intelligence) 챗GPT, 바드, 라마2\\n스마트 스피커(애플 시리, 아마존 알렉사, 구글\\n2단계: 유능(숙련된 인간의 50% 이상) 미달성\\n어시스턴트), IBM 왓슨\\n3단계: 전문가(숙련된 인간의 90% 이상) 문법 교정기(그래머리), 생성 이미지 모델(달리2) 미달성'), Document(id='d4c666e9-1666-4cae-a379-0a278f4f90d1', metadata={'source': 'data/SPRI_AI_Brief_2023년12월호_F.pdf', 'file_path': 'data/SPRI_AI_Brief_2023년12월호_F.pdf', 'page': 12, 'total_pages': 23, 'Author': 'dj', 'Creator': 'Hwp 2018 10.0.0.13462', 'Producer': 'Hancom PDF 1.3.0.542', 'CreationDate': \"D:20231208132838+09'00'\", 'ModDate': \"D:20231208132838+09'00'\", 'PDFVersion': '1.4'}, page_content='처리를 지원\\n∙ 코드 모델 기반의 AI 코딩 어시스턴트 ‘코드아이(code.i)’는 대화형 인터페이스로 서비스를 제공하며\\n사내 소프트웨어 개발에 최적화\\n∙ 이미지 모델은 창의적인 이미지를 생성하고 기존 이미지를 원하는 대로 바꿀 수 있도록 지원하며\\n저해상도 이미지의 고해상도 전환도 지원\\nn IT 전문지 테크리퍼블릭(TechRepublic)은 온디바이스 AI가 주요 기술 트렌드로 부상했다며,\\n2024년부터 가우스를 탑재한 삼성 스마트폰이 메타의 라마(Llama)2를 탑재한 퀄컴 기기 및 구글'), Document(id='3a6f8ff7-603d-428d-aea6-9ab69f4bac14', metadata={'source': 'data/SPRI_AI_Brief_2023년12월호_F.pdf', 'file_path': 'data/SPRI_AI_Brief_2023년12월호_F.pdf', 'page': 12, 'total_pages': 23, 'Author': 'dj', 'Creator': 'Hwp 2018 10.0.0.13462', 'Producer': 'Hancom PDF 1.3.0.542', 'CreationDate': \"D:20231208132838+09'00'\", 'ModDate': \"D:20231208132838+09'00'\", 'PDFVersion': '1.4'}, page_content='온디바이스에서 작동하도록 설계되어 외부로 사용자의 정보가 유출되지 않는 장점을 보유\\n∙ 삼성전자는 삼성 가우스를 활용한 온디바이스 AI 기술도 소개했으며, 생성 AI 모델을 다양한 제품에\\n단계적으로 탑재할 계획\\nn 삼성 가우스는 △텍스트를 생성하는 언어모델 △코드를 생성하는 코드 모델 △이미지를 생성하는\\n이미지 모델의 3개 모델로 구성\\n∙ 언어 모델은 클라우드와 온디바이스 대상 다양한 모델로 구성되며, 메일 작성, 문서 요약, 번역 업무의\\n처리를 지원'), Document(id='dc52c5ab-4285-4a2c-b6f2-c5089e8f43f9', metadata={'source': 'data/SPRI_AI_Brief_2023년12월호_F.pdf', 'file_path': 'data/SPRI_AI_Brief_2023년12월호_F.pdf', 'page': 11, 'total_pages': 23, 'Author': 'dj', 'Creator': 'Hwp 2018 10.0.0.13462', 'Producer': 'Hancom PDF 1.3.0.542', 'CreationDate': \"D:20231208132838+09'00'\", 'ModDate': \"D:20231208132838+09'00'\", 'PDFVersion': '1.4'}, page_content='제작을 포함\\nn 알리바바 클라우드는 급증하는 생성 AI 수요에 대응해 모델 개발과 애플리케이션 구축 절차를\\n간소화하는 올인원 AI 모델 구축 플랫폼 ‘젠AI(GenAI)’도 공개\\n∙ 이 플랫폼은 데이터 관리, 모델 배포와 평가, 신속한 엔지니어링을 위한 종합 도구 모음을 제공하여\\n다양한 기업들이 맞춤형 AI 모델을 한층 쉽게 개발할 수 있도록 지원\\n∙ 생성 AI 개발에 필요한 컴퓨팅과 데이터 처리 요구사항을 지원하기 위해 AI 플랫폼(PAI),\\n데이터베이스 솔루션, 컨테이너 서비스와 같은 클라우드 신제품도 발표'), Document(id='713bffeb-ec82-4f3c-bbe0-e18ca5d21dc8', metadata={'source': 'data/SPRI_AI_Brief_2023년12월호_F.pdf', 'file_path': 'data/SPRI_AI_Brief_2023년12월호_F.pdf', 'page': 1, 'total_pages': 23, 'Author': 'dj', 'Creator': 'Hwp 2018 10.0.0.13462', 'Producer': 'Hancom PDF 1.3.0.542', 'CreationDate': \"D:20231208132838+09'00'\", 'ModDate': \"D:20231208132838+09'00'\", 'PDFVersion': '1.4'}, page_content='▹ 빌 게이츠, AI 에이전트로 인한 컴퓨터 사용의 패러다임 변화 전망································13\\n▹ 유튜브, 2024년부터 AI 생성 콘텐츠 표시 의무화····························································14\\n3. 기술/연구\\n▹ 영국 과학혁신기술부, AI 안전 연구소 설립 발표······························································15'), Document(id='00cdd3aa-1b4c-42cc-abb0-946caf98c3d0', metadata={'source': 'data/SPRI_AI_Brief_2023년12월호_F.pdf', 'file_path': 'data/SPRI_AI_Brief_2023년12월호_F.pdf', 'page': 7, 'total_pages': 23, 'Author': 'dj', 'Creator': 'Hwp 2018 10.0.0.13462', 'Producer': 'Hancom PDF 1.3.0.542', 'CreationDate': \"D:20231208132838+09'00'\", 'ModDate': \"D:20231208132838+09'00'\", 'PDFVersion': '1.4'}, page_content='만들었다고 오해할 소지가 있다고 지적\\n∙ 저작권법에 저촉되는 행위는 불공정 경쟁이나 기만행위에도 해당될 수 있으며, 창작자의 평판 악화,\\n저작물의 가치 저하나 개인정보 유출로 소비자에 상당한 피해를 초래 가능\\nn FTC는 일부 빅테크가 막대한 재원을 활용해 생성 AI 사용자의 이탈을 막고 저작권이 있는 상용\\n데이터에 대한 독점 라이선스를 확보해 시장 지배력을 더욱 강화할 수 있다는 우려도 제기\\n∙ 이와 관련 FTC는 아마존 AI 비서 ‘알렉사(Alexa)’와 스마트홈 보안 기기 ‘링(Ring)’이 소비자의 사적')]\n",
      "===== [RETRIEVE] retieve() 노드 실행 완료 =====\n",
      "==========================================================================================\n",
      "\n"
     ]
    }
   ],
   "source": [
    "answer = retrieve(state)                        # 사용자 질문에 대해서 관련 문서를 검색한다.\n",
    "state['documents'] = answer['documents']"
   ]
  },
  {
   "cell_type": "code",
   "execution_count": 66,
   "metadata": {},
   "outputs": [
    {
     "data": {
      "text/plain": [
       "{'question': '삼성전자가 만든 생성형 AI 이름은?',\n",
       " 'generation': '',\n",
       " 'web_search': '',\n",
       " 'documents': [Document(id='1c88b53b-549e-401e-8939-34a058a46e8f', metadata={'source': 'data/SPRI_AI_Brief_2023년12월호_F.pdf', 'file_path': 'data/SPRI_AI_Brief_2023년12월호_F.pdf', 'page': 1, 'total_pages': 23, 'Author': 'dj', 'Creator': 'Hwp 2018 10.0.0.13462', 'Producer': 'Hancom PDF 1.3.0.542', 'CreationDate': \"D:20231208132838+09'00'\", 'ModDate': \"D:20231208132838+09'00'\", 'PDFVersion': '1.4'}, page_content='▹ 삼성전자, 자체 개발 생성 AI ‘삼성 가우스’ 공개 ···························································10\\n▹ 구글, 앤스로픽에 20억 달러 투자로 생성 AI 협력 강화 ················································11\\n▹ IDC, 2027년 AI 소프트웨어 매출 2,500억 달러 돌파 전망···········································12'),\n",
       "  Document(id='f7333c74-5762-4bbe-9a80-af7ebde9a002', metadata={'source': 'data/SPRI_AI_Brief_2023년12월호_F.pdf', 'file_path': 'data/SPRI_AI_Brief_2023년12월호_F.pdf', 'page': 12, 'total_pages': 23, 'Author': 'dj', 'Creator': 'Hwp 2018 10.0.0.13462', 'Producer': 'Hancom PDF 1.3.0.542', 'CreationDate': \"D:20231208132838+09'00'\", 'ModDate': \"D:20231208132838+09'00'\", 'PDFVersion': '1.4'}, page_content='SPRi AI Brief |\\n2023-12월호\\n삼성전자, 자체 개발 생성 AI ‘삼성 가우스’ 공개\\nKEY Contents\\nn 삼성전자가 온디바이스에서 작동 가능하며 언어, 코드, 이미지의 3개 모델로 구성된 자체 개발 생성\\nAI 모델 ‘삼성 가우스’를 공개\\nn 삼성전자는 삼성 가우스를 다양한 제품에 단계적으로 탑재할 계획으로, 온디바이스 작동이 가능한\\n삼성 가우스는 외부로 사용자 정보가 유출될 위험이 없다는 장점을 보유\\n£언어, 코드, 이미지의 3개 모델로 구성된 삼성 가우스, 온디바이스 작동 지원'),\n",
       "  Document(id='4bdcf464-36c7-49b7-a2b3-5e4aff575c2a', metadata={'source': 'data/SPRI_AI_Brief_2023년12월호_F.pdf', 'file_path': 'data/SPRI_AI_Brief_2023년12월호_F.pdf', 'page': 12, 'total_pages': 23, 'Author': 'dj', 'Creator': 'Hwp 2018 10.0.0.13462', 'Producer': 'Hancom PDF 1.3.0.542', 'CreationDate': \"D:20231208132838+09'00'\", 'ModDate': \"D:20231208132838+09'00'\", 'PDFVersion': '1.4'}, page_content='£언어, 코드, 이미지의 3개 모델로 구성된 삼성 가우스, 온디바이스 작동 지원\\nn 삼성전자가 2023년 11월 8일 열린 ‘삼성 AI 포럼 2023’ 행사에서 자체 개발한 생성 AI 모델\\n‘삼성 가우스’를 최초 공개\\n∙ 정규분포 이론을 정립한 천재 수학자 가우스(Gauss)의 이름을 본뜬 삼성 가우스는 다양한 상황에\\n최적화된 크기의 모델 선택이 가능\\n∙ 삼성 가우스는 라이선스나 개인정보를 침해하지 않는 안전한 데이터를 통해 학습되었으며,\\n온디바이스에서 작동하도록 설계되어 외부로 사용자의 정보가 유출되지 않는 장점을 보유'),\n",
       "  Document(id='60ae2cfa-371a-4423-a24d-8b3907832cc5', metadata={'source': 'data/SPRI_AI_Brief_2023년12월호_F.pdf', 'file_path': 'data/SPRI_AI_Brief_2023년12월호_F.pdf', 'page': 12, 'total_pages': 23, 'Author': 'dj', 'Creator': 'Hwp 2018 10.0.0.13462', 'Producer': 'Hancom PDF 1.3.0.542', 'CreationDate': \"D:20231208132838+09'00'\", 'ModDate': \"D:20231208132838+09'00'\", 'PDFVersion': '1.4'}, page_content='어시스턴트를 적용한 구글 픽셀(Pixel)과 경쟁할 것으로 예상\\n☞ 출처 : 삼성전자, ‘삼성 AI 포럼’서 자체 개발 생성형 AI ‘삼성 가우스’ 공개, 2023.11.08.\\n삼성전자, ‘삼성 개발자 콘퍼런스 코리아 2023’ 개최, 2023.11.14.\\nTechRepublic, Samsung Gauss: Samsung Research Reveals Generative AI, 2023.11.08.\\n10'),\n",
       "  Document(id='a503d3fa-453f-41fb-bd21-6b2f75aa990f', metadata={'source': 'data/SPRI_AI_Brief_2023년12월호_F.pdf', 'file_path': 'data/SPRI_AI_Brief_2023년12월호_F.pdf', 'page': 18, 'total_pages': 23, 'Author': 'dj', 'Creator': 'Hwp 2018 10.0.0.13462', 'Producer': 'Hancom PDF 1.3.0.542', 'CreationDate': \"D:20231208132838+09'00'\", 'ModDate': \"D:20231208132838+09'00'\", 'PDFVersion': '1.4'}, page_content='<구글 딥마인드의 범용 AI 분류 프레임워크>\\n성능 특수 AI 예시 범용 AI 예시\\n0단계: AI 아님 계산기 소프트웨어, 컴파일러 아마존 메커니컬 터크\\n1단계: 신진(숙련되지 않은 인간) GOFAI(Good Old Fashioned Artificial Intelligence) 챗GPT, 바드, 라마2\\n스마트 스피커(애플 시리, 아마존 알렉사, 구글\\n2단계: 유능(숙련된 인간의 50% 이상) 미달성\\n어시스턴트), IBM 왓슨\\n3단계: 전문가(숙련된 인간의 90% 이상) 문법 교정기(그래머리), 생성 이미지 모델(달리2) 미달성'),\n",
       "  Document(id='d4c666e9-1666-4cae-a379-0a278f4f90d1', metadata={'source': 'data/SPRI_AI_Brief_2023년12월호_F.pdf', 'file_path': 'data/SPRI_AI_Brief_2023년12월호_F.pdf', 'page': 12, 'total_pages': 23, 'Author': 'dj', 'Creator': 'Hwp 2018 10.0.0.13462', 'Producer': 'Hancom PDF 1.3.0.542', 'CreationDate': \"D:20231208132838+09'00'\", 'ModDate': \"D:20231208132838+09'00'\", 'PDFVersion': '1.4'}, page_content='처리를 지원\\n∙ 코드 모델 기반의 AI 코딩 어시스턴트 ‘코드아이(code.i)’는 대화형 인터페이스로 서비스를 제공하며\\n사내 소프트웨어 개발에 최적화\\n∙ 이미지 모델은 창의적인 이미지를 생성하고 기존 이미지를 원하는 대로 바꿀 수 있도록 지원하며\\n저해상도 이미지의 고해상도 전환도 지원\\nn IT 전문지 테크리퍼블릭(TechRepublic)은 온디바이스 AI가 주요 기술 트렌드로 부상했다며,\\n2024년부터 가우스를 탑재한 삼성 스마트폰이 메타의 라마(Llama)2를 탑재한 퀄컴 기기 및 구글'),\n",
       "  Document(id='3a6f8ff7-603d-428d-aea6-9ab69f4bac14', metadata={'source': 'data/SPRI_AI_Brief_2023년12월호_F.pdf', 'file_path': 'data/SPRI_AI_Brief_2023년12월호_F.pdf', 'page': 12, 'total_pages': 23, 'Author': 'dj', 'Creator': 'Hwp 2018 10.0.0.13462', 'Producer': 'Hancom PDF 1.3.0.542', 'CreationDate': \"D:20231208132838+09'00'\", 'ModDate': \"D:20231208132838+09'00'\", 'PDFVersion': '1.4'}, page_content='온디바이스에서 작동하도록 설계되어 외부로 사용자의 정보가 유출되지 않는 장점을 보유\\n∙ 삼성전자는 삼성 가우스를 활용한 온디바이스 AI 기술도 소개했으며, 생성 AI 모델을 다양한 제품에\\n단계적으로 탑재할 계획\\nn 삼성 가우스는 △텍스트를 생성하는 언어모델 △코드를 생성하는 코드 모델 △이미지를 생성하는\\n이미지 모델의 3개 모델로 구성\\n∙ 언어 모델은 클라우드와 온디바이스 대상 다양한 모델로 구성되며, 메일 작성, 문서 요약, 번역 업무의\\n처리를 지원'),\n",
       "  Document(id='dc52c5ab-4285-4a2c-b6f2-c5089e8f43f9', metadata={'source': 'data/SPRI_AI_Brief_2023년12월호_F.pdf', 'file_path': 'data/SPRI_AI_Brief_2023년12월호_F.pdf', 'page': 11, 'total_pages': 23, 'Author': 'dj', 'Creator': 'Hwp 2018 10.0.0.13462', 'Producer': 'Hancom PDF 1.3.0.542', 'CreationDate': \"D:20231208132838+09'00'\", 'ModDate': \"D:20231208132838+09'00'\", 'PDFVersion': '1.4'}, page_content='제작을 포함\\nn 알리바바 클라우드는 급증하는 생성 AI 수요에 대응해 모델 개발과 애플리케이션 구축 절차를\\n간소화하는 올인원 AI 모델 구축 플랫폼 ‘젠AI(GenAI)’도 공개\\n∙ 이 플랫폼은 데이터 관리, 모델 배포와 평가, 신속한 엔지니어링을 위한 종합 도구 모음을 제공하여\\n다양한 기업들이 맞춤형 AI 모델을 한층 쉽게 개발할 수 있도록 지원\\n∙ 생성 AI 개발에 필요한 컴퓨팅과 데이터 처리 요구사항을 지원하기 위해 AI 플랫폼(PAI),\\n데이터베이스 솔루션, 컨테이너 서비스와 같은 클라우드 신제품도 발표'),\n",
       "  Document(id='713bffeb-ec82-4f3c-bbe0-e18ca5d21dc8', metadata={'source': 'data/SPRI_AI_Brief_2023년12월호_F.pdf', 'file_path': 'data/SPRI_AI_Brief_2023년12월호_F.pdf', 'page': 1, 'total_pages': 23, 'Author': 'dj', 'Creator': 'Hwp 2018 10.0.0.13462', 'Producer': 'Hancom PDF 1.3.0.542', 'CreationDate': \"D:20231208132838+09'00'\", 'ModDate': \"D:20231208132838+09'00'\", 'PDFVersion': '1.4'}, page_content='▹ 빌 게이츠, AI 에이전트로 인한 컴퓨터 사용의 패러다임 변화 전망································13\\n▹ 유튜브, 2024년부터 AI 생성 콘텐츠 표시 의무화····························································14\\n3. 기술/연구\\n▹ 영국 과학혁신기술부, AI 안전 연구소 설립 발표······························································15'),\n",
       "  Document(id='00cdd3aa-1b4c-42cc-abb0-946caf98c3d0', metadata={'source': 'data/SPRI_AI_Brief_2023년12월호_F.pdf', 'file_path': 'data/SPRI_AI_Brief_2023년12월호_F.pdf', 'page': 7, 'total_pages': 23, 'Author': 'dj', 'Creator': 'Hwp 2018 10.0.0.13462', 'Producer': 'Hancom PDF 1.3.0.542', 'CreationDate': \"D:20231208132838+09'00'\", 'ModDate': \"D:20231208132838+09'00'\", 'PDFVersion': '1.4'}, page_content='만들었다고 오해할 소지가 있다고 지적\\n∙ 저작권법에 저촉되는 행위는 불공정 경쟁이나 기만행위에도 해당될 수 있으며, 창작자의 평판 악화,\\n저작물의 가치 저하나 개인정보 유출로 소비자에 상당한 피해를 초래 가능\\nn FTC는 일부 빅테크가 막대한 재원을 활용해 생성 AI 사용자의 이탈을 막고 저작권이 있는 상용\\n데이터에 대한 독점 라이선스를 확보해 시장 지배력을 더욱 강화할 수 있다는 우려도 제기\\n∙ 이와 관련 FTC는 아마존 AI 비서 ‘알렉사(Alexa)’와 스마트홈 보안 기기 ‘링(Ring)’이 소비자의 사적')]}"
      ]
     },
     "execution_count": 66,
     "metadata": {},
     "output_type": "execute_result"
    }
   ],
   "source": [
    "state"
   ]
  },
  {
   "cell_type": "markdown",
   "metadata": {},
   "source": [
    "### 사용자 질문에 대한 문서 검색 결과와 사용자 질문의 관련성 평가하는 노드 (Question-Retrieval Evaluation 문서 검색 평가기 노드) \n",
    "\n",
    "검색된 문서의 관련성 평가는 검색된 문서가 사용자의 질문과 관련이 있는지 평가합니다."
   ]
  },
  {
   "cell_type": "code",
   "execution_count": 67,
   "metadata": {},
   "outputs": [],
   "source": [
    "from langchain_openai import ChatOpenAI\n",
    "from langchain_core.prompts import ChatPromptTemplate\n",
    "from langchain_core.documents import Document\n",
    "from pydantic import BaseModel, Field"
   ]
  },
  {
   "cell_type": "code",
   "execution_count": 68,
   "metadata": {},
   "outputs": [],
   "source": [
    "class GradeDocuments(BaseModel):                    # 문서 평가를 위한 데이터 모델\n",
    "    \"\"\"A binary score to determine the relevance of the retrieved document.\"\"\"\n",
    "\n",
    "    # 문서가 질문과 관련이 있는지 여부를 'yes' 또는 'no'로 나타내는 필드\n",
    "    binary_score: str = Field(\n",
    "        description=\"Documents are relevant to the question, 'yes' or 'no'\"\n",
    "    )\n",
    "\n",
    "llm = ChatOpenAI(\n",
    "    api_key=key, \n",
    "    model='gpt-4o-mini', \n",
    "    temperature=0\n",
    ")\n",
    "\n",
    "\n",
    "structured_llm_grader = llm.with_structured_output(GradeDocuments)\n",
    "\n",
    "# 시스템 프롬프트 정의\n",
    "system = \"\"\"You are a grader assessing relevance of a retrieved document to a user question. \\n \n",
    "    If the document contains keyword(s) or semantic meaning related to the question, grade it as relevant. \\n\n",
    "    Give a binary score 'yes' or 'no' score to indicate whether the document is relevant to the question.\"\"\"\n",
    "\n",
    "\n",
    "# 프롬프트 템플릿\n",
    "grade_prompt = ChatPromptTemplate.from_messages(\n",
    "    [\n",
    "        (\"system\", system),\n",
    "        (\"human\", \"Retrieved document: \\n\\n {document} \\n\\n User question: {question}\"),\n",
    "    ]\n",
    ")\n",
    "\n",
    "\n",
    "# 사용자 질문에 대한 pdf 문서 검색 결과를 평가하는 문서 검색결과 평가기(retrieval_grader)\n",
    "# 문서 검색 평가기는 사용자 질문과 검색 결과문서가 관련성이 있는지 본다\n",
    "retrieval_grader = grade_prompt | structured_llm_grader"
   ]
  },
  {
   "cell_type": "code",
   "execution_count": 69,
   "metadata": {},
   "outputs": [],
   "source": [
    "# 문서 검색 결과와 질문 관련성 평가 노드\n",
    "def grade_documents(state: GraphState):\n",
    "    print('\\n==========================================================================================')\n",
    "    print('===== [CHECK DOCUMENT RELEVANCE TO QUESTION] grade_documents() 함수 =====')\n",
    "\n",
    "    question = state['question']        # 사용자 질문      \n",
    "    documents = state['documents']      # 문서 검색 결과\n",
    "\n",
    "    # 문서 검색 평가기를 통과한 문서들만 필터링\n",
    "    filtered_docs = []\n",
    "    relevant_doc_count = 0\n",
    "\n",
    "    for doc in documents:\n",
    "        score = retrieval_grader.invoke({'question': question, 'document': doc.page_content})\n",
    "\n",
    "        grade = score.binary_score\n",
    "\n",
    "        if grade == 'yes':\n",
    "            print(\"---GRADE: DOCUMENT RELEVANT---\")     \n",
    "            filtered_docs.append(doc)\n",
    "            relevant_doc_count += 1                     \n",
    "        else:\n",
    "            print(\"---GRADE: DOCUMENT NOT RELEVANT---\") \n",
    "            continue     \n",
    "    \n",
    "    # 관련 문서가 없으면 웹 검색 수행\n",
    "    web_search = \"Yes\" if relevant_doc_count <2  else \"No\"\n",
    "\n",
    "    print(f\"yes/no: {web_search}\")\n",
    "    print('==========================================================================================\\n')\n",
    "\n",
    "    return {'documents': filtered_docs, 'web_search': web_search}"
   ]
  },
  {
   "cell_type": "code",
   "execution_count": 70,
   "metadata": {},
   "outputs": [
    {
     "name": "stdout",
     "output_type": "stream",
     "text": [
      "\n",
      "==========================================================================================\n",
      "===== [CHECK DOCUMENT RELEVANCE TO QUESTION] grade_documents() 함수 =====\n",
      "---GRADE: DOCUMENT RELEVANT---\n",
      "---GRADE: DOCUMENT RELEVANT---\n",
      "---GRADE: DOCUMENT RELEVANT---\n",
      "---GRADE: DOCUMENT RELEVANT---\n",
      "---GRADE: DOCUMENT NOT RELEVANT---\n",
      "---GRADE: DOCUMENT RELEVANT---\n",
      "---GRADE: DOCUMENT RELEVANT---\n",
      "---GRADE: DOCUMENT NOT RELEVANT---\n",
      "---GRADE: DOCUMENT NOT RELEVANT---\n",
      "---GRADE: DOCUMENT NOT RELEVANT---\n",
      "yes/no: No\n",
      "==========================================================================================\n",
      "\n"
     ]
    }
   ],
   "source": [
    "return_documents = grade_documents(state)"
   ]
  },
  {
   "cell_type": "code",
   "execution_count": 71,
   "metadata": {},
   "outputs": [],
   "source": [
    "state['documents'] = return_documents['documents']\n",
    "state['web_search'] = return_documents['web_search']"
   ]
  },
  {
   "cell_type": "code",
   "execution_count": 72,
   "metadata": {},
   "outputs": [
    {
     "data": {
      "text/plain": [
       "{'question': '삼성전자가 만든 생성형 AI 이름은?',\n",
       " 'generation': '',\n",
       " 'web_search': 'No',\n",
       " 'documents': [Document(id='1c88b53b-549e-401e-8939-34a058a46e8f', metadata={'source': 'data/SPRI_AI_Brief_2023년12월호_F.pdf', 'file_path': 'data/SPRI_AI_Brief_2023년12월호_F.pdf', 'page': 1, 'total_pages': 23, 'Author': 'dj', 'Creator': 'Hwp 2018 10.0.0.13462', 'Producer': 'Hancom PDF 1.3.0.542', 'CreationDate': \"D:20231208132838+09'00'\", 'ModDate': \"D:20231208132838+09'00'\", 'PDFVersion': '1.4'}, page_content='▹ 삼성전자, 자체 개발 생성 AI ‘삼성 가우스’ 공개 ···························································10\\n▹ 구글, 앤스로픽에 20억 달러 투자로 생성 AI 협력 강화 ················································11\\n▹ IDC, 2027년 AI 소프트웨어 매출 2,500억 달러 돌파 전망···········································12'),\n",
       "  Document(id='f7333c74-5762-4bbe-9a80-af7ebde9a002', metadata={'source': 'data/SPRI_AI_Brief_2023년12월호_F.pdf', 'file_path': 'data/SPRI_AI_Brief_2023년12월호_F.pdf', 'page': 12, 'total_pages': 23, 'Author': 'dj', 'Creator': 'Hwp 2018 10.0.0.13462', 'Producer': 'Hancom PDF 1.3.0.542', 'CreationDate': \"D:20231208132838+09'00'\", 'ModDate': \"D:20231208132838+09'00'\", 'PDFVersion': '1.4'}, page_content='SPRi AI Brief |\\n2023-12월호\\n삼성전자, 자체 개발 생성 AI ‘삼성 가우스’ 공개\\nKEY Contents\\nn 삼성전자가 온디바이스에서 작동 가능하며 언어, 코드, 이미지의 3개 모델로 구성된 자체 개발 생성\\nAI 모델 ‘삼성 가우스’를 공개\\nn 삼성전자는 삼성 가우스를 다양한 제품에 단계적으로 탑재할 계획으로, 온디바이스 작동이 가능한\\n삼성 가우스는 외부로 사용자 정보가 유출될 위험이 없다는 장점을 보유\\n£언어, 코드, 이미지의 3개 모델로 구성된 삼성 가우스, 온디바이스 작동 지원'),\n",
       "  Document(id='4bdcf464-36c7-49b7-a2b3-5e4aff575c2a', metadata={'source': 'data/SPRI_AI_Brief_2023년12월호_F.pdf', 'file_path': 'data/SPRI_AI_Brief_2023년12월호_F.pdf', 'page': 12, 'total_pages': 23, 'Author': 'dj', 'Creator': 'Hwp 2018 10.0.0.13462', 'Producer': 'Hancom PDF 1.3.0.542', 'CreationDate': \"D:20231208132838+09'00'\", 'ModDate': \"D:20231208132838+09'00'\", 'PDFVersion': '1.4'}, page_content='£언어, 코드, 이미지의 3개 모델로 구성된 삼성 가우스, 온디바이스 작동 지원\\nn 삼성전자가 2023년 11월 8일 열린 ‘삼성 AI 포럼 2023’ 행사에서 자체 개발한 생성 AI 모델\\n‘삼성 가우스’를 최초 공개\\n∙ 정규분포 이론을 정립한 천재 수학자 가우스(Gauss)의 이름을 본뜬 삼성 가우스는 다양한 상황에\\n최적화된 크기의 모델 선택이 가능\\n∙ 삼성 가우스는 라이선스나 개인정보를 침해하지 않는 안전한 데이터를 통해 학습되었으며,\\n온디바이스에서 작동하도록 설계되어 외부로 사용자의 정보가 유출되지 않는 장점을 보유'),\n",
       "  Document(id='60ae2cfa-371a-4423-a24d-8b3907832cc5', metadata={'source': 'data/SPRI_AI_Brief_2023년12월호_F.pdf', 'file_path': 'data/SPRI_AI_Brief_2023년12월호_F.pdf', 'page': 12, 'total_pages': 23, 'Author': 'dj', 'Creator': 'Hwp 2018 10.0.0.13462', 'Producer': 'Hancom PDF 1.3.0.542', 'CreationDate': \"D:20231208132838+09'00'\", 'ModDate': \"D:20231208132838+09'00'\", 'PDFVersion': '1.4'}, page_content='어시스턴트를 적용한 구글 픽셀(Pixel)과 경쟁할 것으로 예상\\n☞ 출처 : 삼성전자, ‘삼성 AI 포럼’서 자체 개발 생성형 AI ‘삼성 가우스’ 공개, 2023.11.08.\\n삼성전자, ‘삼성 개발자 콘퍼런스 코리아 2023’ 개최, 2023.11.14.\\nTechRepublic, Samsung Gauss: Samsung Research Reveals Generative AI, 2023.11.08.\\n10'),\n",
       "  Document(id='d4c666e9-1666-4cae-a379-0a278f4f90d1', metadata={'source': 'data/SPRI_AI_Brief_2023년12월호_F.pdf', 'file_path': 'data/SPRI_AI_Brief_2023년12월호_F.pdf', 'page': 12, 'total_pages': 23, 'Author': 'dj', 'Creator': 'Hwp 2018 10.0.0.13462', 'Producer': 'Hancom PDF 1.3.0.542', 'CreationDate': \"D:20231208132838+09'00'\", 'ModDate': \"D:20231208132838+09'00'\", 'PDFVersion': '1.4'}, page_content='처리를 지원\\n∙ 코드 모델 기반의 AI 코딩 어시스턴트 ‘코드아이(code.i)’는 대화형 인터페이스로 서비스를 제공하며\\n사내 소프트웨어 개발에 최적화\\n∙ 이미지 모델은 창의적인 이미지를 생성하고 기존 이미지를 원하는 대로 바꿀 수 있도록 지원하며\\n저해상도 이미지의 고해상도 전환도 지원\\nn IT 전문지 테크리퍼블릭(TechRepublic)은 온디바이스 AI가 주요 기술 트렌드로 부상했다며,\\n2024년부터 가우스를 탑재한 삼성 스마트폰이 메타의 라마(Llama)2를 탑재한 퀄컴 기기 및 구글'),\n",
       "  Document(id='3a6f8ff7-603d-428d-aea6-9ab69f4bac14', metadata={'source': 'data/SPRI_AI_Brief_2023년12월호_F.pdf', 'file_path': 'data/SPRI_AI_Brief_2023년12월호_F.pdf', 'page': 12, 'total_pages': 23, 'Author': 'dj', 'Creator': 'Hwp 2018 10.0.0.13462', 'Producer': 'Hancom PDF 1.3.0.542', 'CreationDate': \"D:20231208132838+09'00'\", 'ModDate': \"D:20231208132838+09'00'\", 'PDFVersion': '1.4'}, page_content='온디바이스에서 작동하도록 설계되어 외부로 사용자의 정보가 유출되지 않는 장점을 보유\\n∙ 삼성전자는 삼성 가우스를 활용한 온디바이스 AI 기술도 소개했으며, 생성 AI 모델을 다양한 제품에\\n단계적으로 탑재할 계획\\nn 삼성 가우스는 △텍스트를 생성하는 언어모델 △코드를 생성하는 코드 모델 △이미지를 생성하는\\n이미지 모델의 3개 모델로 구성\\n∙ 언어 모델은 클라우드와 온디바이스 대상 다양한 모델로 구성되며, 메일 작성, 문서 요약, 번역 업무의\\n처리를 지원')]}"
      ]
     },
     "execution_count": 72,
     "metadata": {},
     "output_type": "execute_result"
    }
   ],
   "source": [
    "state"
   ]
  },
  {
   "cell_type": "markdown",
   "metadata": {},
   "source": [
    "### 쿼리 재작성 (Query Rewriter) 노드"
   ]
  },
  {
   "cell_type": "code",
   "execution_count": 73,
   "metadata": {},
   "outputs": [],
   "source": [
    "from langchain_openai import ChatOpenAI\n",
    "from langchain_core.prompts import ChatPromptTemplate\n",
    "from langchain_core.output_parsers import StrOutputParser\n",
    "\n",
    "\n",
    "llm = ChatOpenAI(\n",
    "    api_key=key, \n",
    "    model='gpt-4o-mini', \n",
    "    temperature=0\n",
    ")\n",
    "\n",
    "# Query Rewriter 프롬프트\n",
    "system = \"\"\"You a question re-writer that converts an input question to a better version that is optimized \\n \n",
    "for vectorstore retrieval. Look at the input and try to reason about the underlying semantic intent / meaning.\"\"\"\n",
    "\n",
    "re_writer_prompt = ChatPromptTemplate.from_messages(\n",
    "    [\n",
    "        ('system', system), \n",
    "        ('human', 'Here is the initial question: \\n\\n {question} \\n Formulate an improved question')\n",
    "    ]\n",
    ")\n",
    "\n",
    "# Query Rewriter 생성\n",
    "question_rewriter = re_writer_prompt | llm | StrOutputParser()"
   ]
  },
  {
   "cell_type": "code",
   "execution_count": 74,
   "metadata": {},
   "outputs": [],
   "source": [
    "# Query Rewrite 노드\n",
    "def query_rewrite(state: GraphState):\n",
    "    print('\\n==========================================================================================')\n",
    "    print('===== [TRANSFORM QUERY] query_rewrite() 함수 =====')\n",
    "\n",
    "    question = state['question']        # 사용자 질문    \n",
    "    documents = state['documents']      # 문서 검색 결과\n",
    "    \n",
    "    # 쿼리 재작성\n",
    "    better_question = question_rewriter.invoke({'question': question})\n",
    "    print(f\"better_question: {better_question}\")\n",
    "    print('==========================================================================================\\n')\n",
    "\n",
    "    return {'question': better_question}"
   ]
  },
  {
   "cell_type": "code",
   "execution_count": 75,
   "metadata": {},
   "outputs": [
    {
     "name": "stdout",
     "output_type": "stream",
     "text": [
      "\n",
      "==========================================================================================\n",
      "===== [TRANSFORM QUERY] query_rewrite() 함수 =====\n",
      "better_question: 삼성전자가 개발한 생성형 AI의 이름은 무엇인가요?\n",
      "==========================================================================================\n",
      "\n"
     ]
    }
   ],
   "source": [
    "question_rewriter_return = query_rewrite(state)\n",
    "state['question'] = question_rewriter_return['question']"
   ]
  },
  {
   "cell_type": "code",
   "execution_count": 76,
   "metadata": {},
   "outputs": [
    {
     "data": {
      "text/plain": [
       "{'question': '삼성전자가 개발한 생성형 AI의 이름은 무엇인가요?',\n",
       " 'generation': '',\n",
       " 'web_search': 'No',\n",
       " 'documents': [Document(id='1c88b53b-549e-401e-8939-34a058a46e8f', metadata={'source': 'data/SPRI_AI_Brief_2023년12월호_F.pdf', 'file_path': 'data/SPRI_AI_Brief_2023년12월호_F.pdf', 'page': 1, 'total_pages': 23, 'Author': 'dj', 'Creator': 'Hwp 2018 10.0.0.13462', 'Producer': 'Hancom PDF 1.3.0.542', 'CreationDate': \"D:20231208132838+09'00'\", 'ModDate': \"D:20231208132838+09'00'\", 'PDFVersion': '1.4'}, page_content='▹ 삼성전자, 자체 개발 생성 AI ‘삼성 가우스’ 공개 ···························································10\\n▹ 구글, 앤스로픽에 20억 달러 투자로 생성 AI 협력 강화 ················································11\\n▹ IDC, 2027년 AI 소프트웨어 매출 2,500억 달러 돌파 전망···········································12'),\n",
       "  Document(id='f7333c74-5762-4bbe-9a80-af7ebde9a002', metadata={'source': 'data/SPRI_AI_Brief_2023년12월호_F.pdf', 'file_path': 'data/SPRI_AI_Brief_2023년12월호_F.pdf', 'page': 12, 'total_pages': 23, 'Author': 'dj', 'Creator': 'Hwp 2018 10.0.0.13462', 'Producer': 'Hancom PDF 1.3.0.542', 'CreationDate': \"D:20231208132838+09'00'\", 'ModDate': \"D:20231208132838+09'00'\", 'PDFVersion': '1.4'}, page_content='SPRi AI Brief |\\n2023-12월호\\n삼성전자, 자체 개발 생성 AI ‘삼성 가우스’ 공개\\nKEY Contents\\nn 삼성전자가 온디바이스에서 작동 가능하며 언어, 코드, 이미지의 3개 모델로 구성된 자체 개발 생성\\nAI 모델 ‘삼성 가우스’를 공개\\nn 삼성전자는 삼성 가우스를 다양한 제품에 단계적으로 탑재할 계획으로, 온디바이스 작동이 가능한\\n삼성 가우스는 외부로 사용자 정보가 유출될 위험이 없다는 장점을 보유\\n£언어, 코드, 이미지의 3개 모델로 구성된 삼성 가우스, 온디바이스 작동 지원'),\n",
       "  Document(id='4bdcf464-36c7-49b7-a2b3-5e4aff575c2a', metadata={'source': 'data/SPRI_AI_Brief_2023년12월호_F.pdf', 'file_path': 'data/SPRI_AI_Brief_2023년12월호_F.pdf', 'page': 12, 'total_pages': 23, 'Author': 'dj', 'Creator': 'Hwp 2018 10.0.0.13462', 'Producer': 'Hancom PDF 1.3.0.542', 'CreationDate': \"D:20231208132838+09'00'\", 'ModDate': \"D:20231208132838+09'00'\", 'PDFVersion': '1.4'}, page_content='£언어, 코드, 이미지의 3개 모델로 구성된 삼성 가우스, 온디바이스 작동 지원\\nn 삼성전자가 2023년 11월 8일 열린 ‘삼성 AI 포럼 2023’ 행사에서 자체 개발한 생성 AI 모델\\n‘삼성 가우스’를 최초 공개\\n∙ 정규분포 이론을 정립한 천재 수학자 가우스(Gauss)의 이름을 본뜬 삼성 가우스는 다양한 상황에\\n최적화된 크기의 모델 선택이 가능\\n∙ 삼성 가우스는 라이선스나 개인정보를 침해하지 않는 안전한 데이터를 통해 학습되었으며,\\n온디바이스에서 작동하도록 설계되어 외부로 사용자의 정보가 유출되지 않는 장점을 보유'),\n",
       "  Document(id='60ae2cfa-371a-4423-a24d-8b3907832cc5', metadata={'source': 'data/SPRI_AI_Brief_2023년12월호_F.pdf', 'file_path': 'data/SPRI_AI_Brief_2023년12월호_F.pdf', 'page': 12, 'total_pages': 23, 'Author': 'dj', 'Creator': 'Hwp 2018 10.0.0.13462', 'Producer': 'Hancom PDF 1.3.0.542', 'CreationDate': \"D:20231208132838+09'00'\", 'ModDate': \"D:20231208132838+09'00'\", 'PDFVersion': '1.4'}, page_content='어시스턴트를 적용한 구글 픽셀(Pixel)과 경쟁할 것으로 예상\\n☞ 출처 : 삼성전자, ‘삼성 AI 포럼’서 자체 개발 생성형 AI ‘삼성 가우스’ 공개, 2023.11.08.\\n삼성전자, ‘삼성 개발자 콘퍼런스 코리아 2023’ 개최, 2023.11.14.\\nTechRepublic, Samsung Gauss: Samsung Research Reveals Generative AI, 2023.11.08.\\n10'),\n",
       "  Document(id='d4c666e9-1666-4cae-a379-0a278f4f90d1', metadata={'source': 'data/SPRI_AI_Brief_2023년12월호_F.pdf', 'file_path': 'data/SPRI_AI_Brief_2023년12월호_F.pdf', 'page': 12, 'total_pages': 23, 'Author': 'dj', 'Creator': 'Hwp 2018 10.0.0.13462', 'Producer': 'Hancom PDF 1.3.0.542', 'CreationDate': \"D:20231208132838+09'00'\", 'ModDate': \"D:20231208132838+09'00'\", 'PDFVersion': '1.4'}, page_content='처리를 지원\\n∙ 코드 모델 기반의 AI 코딩 어시스턴트 ‘코드아이(code.i)’는 대화형 인터페이스로 서비스를 제공하며\\n사내 소프트웨어 개발에 최적화\\n∙ 이미지 모델은 창의적인 이미지를 생성하고 기존 이미지를 원하는 대로 바꿀 수 있도록 지원하며\\n저해상도 이미지의 고해상도 전환도 지원\\nn IT 전문지 테크리퍼블릭(TechRepublic)은 온디바이스 AI가 주요 기술 트렌드로 부상했다며,\\n2024년부터 가우스를 탑재한 삼성 스마트폰이 메타의 라마(Llama)2를 탑재한 퀄컴 기기 및 구글'),\n",
       "  Document(id='3a6f8ff7-603d-428d-aea6-9ab69f4bac14', metadata={'source': 'data/SPRI_AI_Brief_2023년12월호_F.pdf', 'file_path': 'data/SPRI_AI_Brief_2023년12월호_F.pdf', 'page': 12, 'total_pages': 23, 'Author': 'dj', 'Creator': 'Hwp 2018 10.0.0.13462', 'Producer': 'Hancom PDF 1.3.0.542', 'CreationDate': \"D:20231208132838+09'00'\", 'ModDate': \"D:20231208132838+09'00'\", 'PDFVersion': '1.4'}, page_content='온디바이스에서 작동하도록 설계되어 외부로 사용자의 정보가 유출되지 않는 장점을 보유\\n∙ 삼성전자는 삼성 가우스를 활용한 온디바이스 AI 기술도 소개했으며, 생성 AI 모델을 다양한 제품에\\n단계적으로 탑재할 계획\\nn 삼성 가우스는 △텍스트를 생성하는 언어모델 △코드를 생성하는 코드 모델 △이미지를 생성하는\\n이미지 모델의 3개 모델로 구성\\n∙ 언어 모델은 클라우드와 온디바이스 대상 다양한 모델로 구성되며, 메일 작성, 문서 요약, 번역 업무의\\n처리를 지원')]}"
      ]
     },
     "execution_count": 76,
     "metadata": {},
     "output_type": "execute_result"
    }
   ],
   "source": [
    "state"
   ]
  },
  {
   "cell_type": "markdown",
   "metadata": {},
   "source": [
    "### 웹 검색 노드"
   ]
  },
  {
   "cell_type": "code",
   "execution_count": 77,
   "metadata": {},
   "outputs": [],
   "source": [
    "from langchain_teddynote.tools.tavily import TavilySearch\n",
    "from langchain_core.documents import Document\n",
    "\n",
    "web_search_tool = TavilySearch(max_results=2)"
   ]
  },
  {
   "cell_type": "code",
   "execution_count": 78,
   "metadata": {},
   "outputs": [],
   "source": [
    "# 웹 검색 노드\n",
    "def web_search(state):\n",
    "    print('\\n==========================================================================================')\n",
    "    print('===== [WEB SEARCH] web_search() 함수 =====')\n",
    "\n",
    "    # 사용자 질문\n",
    "    question = state['question']\n",
    "    \n",
    "    print(f\"question: \")\n",
    "    print(question)\n",
    "    print()\n",
    "\n",
    "    # 웹 검색 수행\n",
    "    web_results = web_search_tool.invoke({\"query\": question})\n",
    "\n",
    "    print('web_results: ')\n",
    "    print(web_results)\n",
    "    print()\n",
    "\n",
    "    web_results_docs = []\n",
    "    \n",
    "    for result in web_results:\n",
    "        doc = Document(\n",
    "            page_content=result[\"content\"],\n",
    "            metadata={\"source\": result[\"url\"]}\n",
    "        )\n",
    "        web_results_docs.append(doc)\n",
    "\n",
    "    print(web_results_docs)\n",
    "    print('==========================================================================================\\n')\n",
    "\n",
    "    return {\"documents\": web_results_docs}"
   ]
  },
  {
   "cell_type": "code",
   "execution_count": 79,
   "metadata": {},
   "outputs": [
    {
     "name": "stdout",
     "output_type": "stream",
     "text": [
      "\n",
      "==========================================================================================\n",
      "===== [WEB SEARCH] web_search() 함수 =====\n",
      "question: \n",
      "삼성전자가 개발한 생성형 AI의 이름은 무엇인가요?\n",
      "\n",
      "web_results: \n",
      "[{'title': \"삼성전자, 자체 개발한 생성형 Ai '삼성 가우스' 첫 공개 | 연합뉴스\", 'url': 'https://www.yna.co.kr/view/AKR20231108041400003', 'content': \"삼성전자, 자체 개발한 생성형 AI '삼성 가우스' 첫 공개 | 연합뉴스 삼성전자, 자체 개발한 생성형 AI '삼성 가우스' 첫 공개 삼성전자, 자체 개발한 생성형 AI '삼성 가우스' 첫 공개 삼성전자[005930]가 자체 개발한 생성형 인공지능(AI) 모델 '삼성 가우스'(Samsung Gauss)가 처음 공개됐다. (서울=연합뉴스) 장하나 기자 = 삼성전자[005930]가 자체 개발한 생성형 인공지능(AI) 모델 '삼성 가우스'(Samsung Gauss)가 처음 공개됐다. 환영사 하는 김대현 부사장(서울=연합뉴스) 김대현 삼성전자 부사장이 8일 서울 서초구 삼성전자 서울R&D캠퍼스에서 열린 '삼성 AI 포럼 2023'에서 환영사를 하고 있다. 삼성전자가 자체 개발한 생성형 AI '삼성 가우스'[삼성전자 제공. 강연하는 제이슨 웨이 오픈AI 연구원(서울=연합뉴스) 제이슨 웨이 삼성 오픈AI 연구원이 8일 서울 서초구 삼성전자 서울R&D캠퍼스에서 열린 '삼성 AI 포럼 2023'에서 '대규모 언어 모델 르네상스의 새로운 패러다임'을 주제로 강연하고 있다.\", 'score': 0.90830135, 'raw_content': '삼성전자, 자체 개발한 생성형 AI \\'삼성 가우스\\' 첫 공개 | 연합뉴스\\n연합뉴스 본문 바로가기 메뉴 바로가기\\n\\n국가기간뉴스 통신사 연합뉴스\\n\\n\\n최신기사\\n\\n\\n정치\\n정치\\n전체기사\\n대통령실/총리실\\n국회/정당\\n외교\\n국방\\n\\n\\n북한\\n\\n\\n경제\\n경제\\n전체기사\\n경제/정책\\n금융\\n부동산\\n취업/창업\\n소비자\\n\\n\\n마켓 +\\n마켓 +\\n전체기사\\n국내주식\\n해외주식\\n채권\\n펀드/ETF\\n글로벌시장\\n증권/운용사\\n리포트\\n공시\\n\\n\\n산업\\n산업\\n전체기사\\n산업/기업\\n전기전자\\n중화학\\n자동차\\n건설\\n에너지/자원\\nIT/과학\\n게임\\n유통/서비스\\n중기/벤처\\n바이오/헬스\\n농림축산\\n해양수산\\n\\n\\n사회\\n사회\\n전체기사\\n사건/사고\\n법원/검찰\\n교육\\n복지/노동\\n환경/기후변화\\n여성/아동\\n재외동포\\n다문화\\n\\n\\n전국\\n전국\\n전체기사\\n경기\\n인천\\n부산\\n울산\\n경남\\n대구/경북\\n광주/전남\\n전북\\n대전/충남/세종\\n충북\\n강원\\n제주\\n\\n\\n세계\\n세계\\n전체기사\\n특파원\\n미국/북미\\n중국\\n일본\\n아시아/호주\\n유럽\\n중남미\\n중동/아프리카\\n국제기구\\nPRNewswire/AsiaNet\\n\\n\\n문화\\n문화\\n전체기사\\n책/문학\\n만화/웹툰\\n종교\\n공연/전시\\n학술/문화재\\n미디어\\n여행/레저\\n생활\\n\\n\\n건강\\n건강\\n전체기사\\n김길원의 헬스노트\\n위클리 건강\\n더건강 영상\\n\\n\\n연예\\n연예\\n전체기사\\n방송\\n영화\\n가요\\n해외연예\\n\\n\\n스포츠\\n스포츠\\n전체기사\\n야구\\n축구\\n농구/배구\\n골프\\n\\n\\n오피니언\\n\\n\\n사람들\\n사람들\\n전체기사\\n인사\\n부고\\n동정/게시판\\nCEO\\n인터뷰\\n\\n\\n비주얼뉴스\\n비주얼뉴스\\n영상\\n포토\\n화보\\nD스토리\\n그래픽\\n\\n\\n제보\\n\\n\\n뉴스 검색어 입력 양식\\n검색어  검색어 자동 완성 목록 접기 검색 결과 보기\\n자동완성 기능이 켜져 있습니다.\\n자동완성기능 켜기\\n연합뉴스 TV Live 방송 검색창 열기 로그인 로그아웃 안내 로그아웃 정보수정\\n국가기간뉴스 통신사 연합뉴스\\n삼성전자, 자체 개발한 생성형 AI \\'삼성 가우스\\' 첫 공개\\n공유\\n이 뉴스 공유하기 닫기 카카오톡 페이스북 X 카카오\\n스토리 페이스북\\n메신저 네이버\\n밴드 네이버\\n블로그 URL\\n복사\\nURL이 복사되었습니다.\\n댓글\\n\\n\\n뉴스홈\\n최신기사\\n\\n삼성전자, 자체 개발한 생성형 AI \\'삼성 가우스\\' 첫 공개\\n송고시간2023-11-08 10:00\\n요약\\n세 줄 요약 닫기\\n삼성전자[005930]가 자체 개발한 생성형 인공지능(AI) 모델 \\'삼성 가우스\\'(Samsung Gauss)가 처음 공개됐다.\\n삼성전자는 삼성 가우스를 활용해 임직원의 업무 생산성을 높이는 한편, 생성형 AI 모델을 단계적으로 제품에 탑재해 새로운 사용자 경험을 제공한다는 계획이다.\\n삼성전자는 8일 삼성전자 서울R&D캠퍼스에서 \\'삼성 AI 포럼 2023\\' 2일차 행사를 열고 삼성리서치에서 개발한 삼성 가우스를 처음으로 공개했다고 밝혔다.\\n요약 정보 인공지능이 자동으로 줄인 \\'세 줄 요약\\' 기술을 사용합니다. 전체 내용을 이해하기 위해서는 기사 본문과 함께 읽어야 합니다.\\n공유\\n이 뉴스 공유하기 닫기 카카오톡 페이스북 X 카카오\\n스토리 페이스북\\n메신저 네이버\\n밴드 네이버\\n블로그 URL\\n복사\\nURL이 복사되었습니다.\\n댓글\\n글자크기조정\\n본문 글자 크기 조정 닫기 폰트 1단계 15px 폰트 2단계 16px 폰트 3단계 17px 폰트 4단계 18px (기본설정) 폰트 5단계 19px 폰트 6단계 20px 폰트 7단계 21px\\n인쇄\\n\\n장하나기자\\n\\'삼성 AI 포럼\\' 2일차…온디바이스 기반 AI 기술도 소개\\n임직원 업무생산성 향상…제품 탑재해 새로운 사용자 경험 제공\\n(서울=연합뉴스) 장하나 기자 = 삼성전자[005930]가 자체 개발한 생성형 인공지능(AI) 모델 \\'삼성 가우스\\'(Samsung Gauss)가 처음 공개됐다.\\n삼성전자는 삼성 가우스를 활용해 임직원의 업무 생산성을 높이는 한편, 생성형 AI 모델을 단계적으로 제품에 탑재해 새로운 사용자 경험을 제공한다는 계획이다.\\n\\n환영사 하는 김대현 부사장(서울=연합뉴스) 김대현 삼성전자 부사장이 8일 서울 서초구 삼성전자 서울R&D캠퍼스에서 열린 \\'삼성 AI 포럼 2023\\'에서 환영사를 하고 있다. 2023.11.8 [삼성전자 제공. 재판매 및 DB 금지] photo@yna.co.kr\\n삼성전자는 8일 삼성전자 서울R&D캠퍼스에서 \\'삼성 AI 포럼 2023\\' 2일차 행사를 열고 삼성리서치에서 개발한 삼성 가우스를 처음으로 공개했다고 밝혔다.\\n광고\\n머신 러닝과 AI 기술의 근본이 되는 정규분포 이론을 정립한 천재 수학자 칼 프리드리히 가우스의 이름을 딴 삼성 가우스는 머신 러닝 기술을 기반으로 ▲ 언어 모델 ▲ 코드 모델 ▲ 이미지 모델 등 3가지 모델로 구성됐다.\\n클라우드와 온디바이스(On-device)를 위한 다양한 모델로 이뤄진 언어 모델은 메일 작성과 문서 요약, 번역 등의 업무를 더 쉽고 빠르게 처리할 수 있게 해주며 기기를 더욱 스마트하게 제어해 소비자 경험을 향상시킬 수 있다.\\n코드 모델을 기반으로 개발된 AI 코딩 어시스턴트 \\'코드아이\\'(code.i)는 사내 소프트웨어 개발에 최적화돼 개발자들이 쉽고 빠르게 코딩할 수 있도록 도와준다. 대화형 인터페이스를 통해 코드 설명이나 테스트 케이스 생성 등의 서비스도 제공한다.\\n이미지 모델은 사진이나 그림 등 창의적인 이미지를 손쉽게 만들고 기존 이미지를 원하는 대로 바꿀 수 있도록 도와준다. 저해상도 이미지의 고해상도 전환도 쉽게 가능해진다.\\n\\n삼성전자가 자체 개발한 생성형 AI \\'삼성 가우스\\'[삼성전자 제공. 재판매 및 DB 금지]\\n삼성전자는 현재 사내에서 삼성 가우스의 베타 테스트를 진행 중이며, 연내에 임직원이 사용할 수 있도록 오픈할 예정이다.\\n앞서 삼성전자는 챗GPT 등 외부 생성형 AI 사용 확대로 보안 우려가 커지자 번역과 문서 요약 등 임직원의 수요를 고려해 자체 생성형 AI를 개발해 왔다.\\n삼성 가우스를 활용한 온디바이스 AI 기술도 소개했다.\\n삼성리서치가 개발한 다양한 온디바이스 AI 기술이 탑재된 제품을 사용할 경우 소비자는 개인정보 전송 없이 기기 제어, 문장 요약, 문법 교정 등을 더 쉽고 편리하게 이용할 수 있다.\\n삼성전자는 이러한 생성형 AI 모델들을 다양한 제품에 단계적으로 탑재할 계획이다.\\n업계에서는 삼성전자가 이르면 내년 1월 공개할 갤럭시 S24에 생성형 AI 기능을 탑재할 것으로 보고 있다.\\n\\n삼성 AI 포럼 포스터[삼성전자 제공. 재판매 및 DB 금지]\\n삼성리서치에서 주관한 이날 포럼에는 삼성전자의 AI 연구 인력과 학계·업계 AI 전문가 150여명이 참석해 생성형 AI 기술의 발전 방향을 논의하고 최신 기술 동향을 공유했다.\\n생성형 AI 기술이 발전하면서 인간의 삶이 어떻게 변화할지에 대한 깊이 있는 논의도 진행했다.\\n김대현 삼성리서치 글로벌AI센터 부센터장(부사장)은 \"삼성전자는 AI 기술 개발뿐만 아니라 AI 활용 시 보안과 안전성을 확보하기 위해 \\'AI 윤리 원칙\\'을 정해 이를 준수하기 위해 노력하고 있다\"며 \"생성형 AI에 대한 지속적 연구를 통해 소비자의 경험 가치를 높여 나갈 계획\"이라고 말했다.\\n\\n강연하는 제이슨 웨이 오픈AI 연구원(서울=연합뉴스) 제이슨 웨이 삼성 오픈AI 연구원이 8일 서울 서초구 삼성전자 서울R&D캠퍼스에서 열린 \\'삼성 AI 포럼 2023\\'에서 \\'대규모 언어 모델 르네상스의 새로운 패러다임\\'을 주제로 강연하고 있다. 2023.11.8 [삼성전자 제공. 재판매 및 DB 금지] photo@yna.co.kr\\n이밖에 \\'생각의 사슬\\' 논문의 저자이기도 한 오픈AI의 제이슨 웨이 연구원은 \\'대규모 언어 모델 르네상스의 새로운 패러다임\\'을 주제로 대규모 언어 모델로 인한 패러다임 변화와 AI 분야에 미치는 영향에 대해 강연했다.\\nhanajjang@yna.co.kr\\n제보는 카카오톡 okjebo <저작권자(c) 연합뉴스, 무단 전재-재배포, AI 학습 및 활용 금지> 2023/11/08 10:00 송고\\n\\n#삼성전자\\n\\n함께 보면 좋은 콘텐츠\\n댓글쓰기\\n광고\\n함께 읽기 좋은 콘텐츠\\n연합뉴스 Games\\n광고\\n광고\\n핫뉴스\\n\\n\\n\\n배우 배용준, 연세의료원에 30억원 기부\\n\\n\\n\\n2살 딸 폭행해 숨지자 집에 6개월간 유기…20대 아빠 구속\\n\\n\\n\\n머스크 13번째 자녀?…\"머스크 아이 낳았다\" 주장 여성 등장\\n\\n\\n\\n튀르키예, \\'운동화에 돼지 가죽\\' 알리지 않은 아디다스에 벌금\\n\\n\\n백악관 액자 속 노려보는 트럼프 사진…집무실 앞에 머그샷 전시\\n\\n\\n초등생 제자 상습 성추행하고 한국 떠난 태권도 관장 철창행\\n\\n\\n형 사망 사실 숨겨 예금 9억 찾고는 \"생전 증여\" 발뺌한 동생\\n\\n\\n스트레이 키즈 필릭스 교통사고로 골절상…오늘 팬미팅 불참\\n\\n\\n광고\\n많이 본 뉴스\\n종합\\n정치\\n경제\\n사회\\n세계\\n스포츠\\n연예\\n이전 다음\\n\\n\\n\\n초등생 제자 상습 성추행하고 한국 떠난 태권도 관장 철창행\\n\\n\\n인천 길상산서 10m 아래로 추락한 60대 사망…\"실족사 추정\"\\n\\n\\n급락 주식 제때 거래 못 해 폭언 듣고 숨진 증권맨…업무상 재해\\n\\n\\n머스크 13번째 자녀?…\"머스크 아이 낳았다\" 주장 여성 등장\\n\\n\\n매일 119원씩 모은 소방관들…피해자 지원금 5년 만에 12억\\n\\n\\n\\n노상원 수첩·홍장원 메모…계엄 수사·재판 뇌관으로\\n\\n\\n광주 5·18 역사 현장에서 탄핵 찬성·반대 집회 동시에 열려\\n\\n\\n디시가 \\'문형배 좌표\\' 찍자 유튜브가 퍼뜨리고 정치권 번져\\n\\n\\n尹대통령, 20일 헌재서 한덕수 총리 대면…형사재판도 시작\\n\\n\\n\\'윤석열 탄핵 촉구\\' 광주서 시민궐기대회…\"2만명 결집\"(종합)\\n\\n\\n\\n골드바·골드뱅킹 판매 사상 최대…실버바도 15배로↑\\n\\n\\n청년 고용한파 굳어지나…체감실업률·고용률 4년만에 최대 악화\\n\\n\\n[트럼프 스톰 한달] 동맹도 예외 없다…\\'관세 폭탄\\'에 한국 산업계도 비상\\n\\n\\n지난해 채무불이행 자영업자 35% 늘어…보유대출 30조 돌파\\n\\n\\n기세 꺾인 편의점…외형성장보다 수익·내실 경영체제로\\n\\n\\n\\n초등생 제자 상습 성추행하고 한국 떠난 태권도 관장 철창행\\n\\n\\n인천 길상산서 10m 아래로 추락한 60대 사망…\"실족사 추정\"\\n\\n\\n급락 주식 제때 거래 못 해 폭언 듣고 숨진 증권맨…업무상 재해\\n\\n\\n매일 119원씩 모은 소방관들…피해자 지원금 5년 만에 12억\\n\\n\\n형 사망 사실 숨겨 예금 9억 찾고는 \"생전 증여\" 발뺌한 동생\\n\\n\\n\\n머스크 13번째 자녀?…\"머스크 아이 낳았다\" 주장 여성 등장\\n\\n\\n\"제이지가 성폭행\" 주장한 여성 소송 취하…제이지 \"웃겼다\"\\n\\n\\n[트럼프 스톰 한달] \\'충격과 공포\\' 美마이웨이에 국제사회 초비상\\n\\n\\n트럼프 \"부가세, 대미관세와 동렬에 놓을것\"…韓에 직접 영향\\n\\n\\n美 가수, 테슬라車 판 뒤 \"머스크가 위협한 공영방송에 기부\"\\n\\n\\n\\n\\'하얼빈 2관왕\\' 쇼트트랙 장성우, 월드투어 남자 1,500ｍ 동메달\\n\\n\\nPSG, 툴루즈 1-0 잡고 22경기 무패행진…이강인이 결승골 끌어내\\n\\n\\nMLB 김하성, 탬파베이 캠프서 첫 타격 훈련…\"재활 순조로워\"(종합)\\n\\n\\n대전, K리그 개막전서 포항 완파…우승후보 서울은 제주에 완패(종합)\\n\\n\\nMLB 두 번째 시즌 앞둔 이정후 \"꿈같은 시간, 영원치 않다\"\\n\\n\\n\\n故송대관 생전 모습 담긴 \\'전국노래자랑\\'…\"한 세상 소풍 왔다\"\\n\\n\\n美 아카데미 2주 앞…데미 무어 생애 첫 여우주연상 품을까\\n\\n\\n스트레이 키즈 필릭스 교통사고로 골절상…오늘 팬미팅 불참\\n\\n\\n강풀 웹툰 원작 드라마 \\'마녀\\', 시청률 2.4% 출발\\n\\n\\n\\'오징어게임2\\' 채경선 미술감독, 3년만에 美미술감독조합상 수상\\n\\n\\n광고\\n광고\\n에디터스 픽Editor\\'s Picks\\n영상\\n영상 기사  \\n[영상] 체르노빌 원전서 폭발 화재…\"자작극\" vs \"드론 공격\" 책임 공방\\n영상 기사  \\n[영상] \\'우주 레이저로 미사일 잡는다\\' 미국판 아이언돔 실현 가능성은\\n영상 기사  \\n[영상] \"하늘아, 우리 애기\" 작은관 붙잡고 오열…가해교사 현재 회복중\\n뉴스\\n\\n\\n\\n부산 복합리조트 공사장 화재 합동감식 \"PT룸 배관 주변서 발화\"\\n\\n\\n尹측 \"대통령 단전 지시사실 없어…재탕·삼탕 의혹 중단하라\"\\n\\n\\n\\n광주 탄핵반대집회 공방…\"악마와 다를게 뭔가\" \"국민을 극우로 매도\"\\n\\n\\n트럼프 \"부가세=관세\" 언급…한국 수출에 불확실성 겹겹이\\n\\n\\n\\n대전 초등생 살해 교사 6일째 대면조사 못해…\"안정 취하는 중\"\\n\\n\\n광고\\n오래 머문 뉴스\\n광고\\n광고\\n광고\\n광고\\n\\n화면 상단으로 이동\\n유튜브 채널 연합뉴스 유튜브채널 통통컬쳐 유튜브채널 통통테크 유튜브채널 통통리빙 유튜브채널 코리아나우 유튜브채널 NK NOW K-VIBE\\nSNS 연합뉴스 페이스북 연합뉴스 트위터 연합뉴스 인스타그램\\n\\n최신기사\\n정치\\n전체기사\\n대통령실/총리실\\n국회/정당\\n외교\\n국방\\n\\n\\n북한\\n전체기사\\n학술·연구\\n북한 알아보기\\n인물\\n비주얼\\nNK NOW\\n\\n\\n경제\\n전체기사\\n경제/정책\\n금융\\n부동산\\n취업/창업\\n소비자\\n\\n\\n마켓+\\n전체기사\\n국내주식\\n해외주식\\n채권\\n펀드/ETF\\n글로벌시장\\n증권/운용사\\n리포트\\n공시\\n\\n\\n산업\\n전체기사\\n산업/기업\\n전기전자\\n중화학\\n자동차\\n건설\\n에너지/자원\\nIT/과학\\n게임\\n유통/서비스\\n중기/벤처\\n바이오/헬스\\n농림축산\\n해양수산\\n\\n\\n사회\\n전체기사\\n사건/사고\\n법원/검찰\\n교육\\n복지/노동\\n환경/기후변화\\n여성/아동\\n재외동포\\n다문화\\n\\n\\n전국\\n전체기사\\n경기\\n인천\\n부산\\n울산\\n경남\\n대구/경북\\n광주/전남\\n전북\\n대전/충남/세종\\n충북\\n강원\\n제주\\n\\n\\n세계\\n전체기사\\n특파원\\n미국/북미\\n중국\\n일본\\n아시아/호주\\n유럽\\n중남미\\n중동/아프리카\\n국제기구\\n\\n\\n\\n문화\\n\\n전체기사\\n책/문학\\n만화/웹툰\\n종교\\n공연/전시\\n학술/문화재\\n미디어\\n여행/레저\\n생활\\n\\n\\n\\n건강\\n\\n전체기사\\n헬스노트\\n위클리 건강\\n더건강 영상\\n\\n\\n연예\\n전체기사\\n방송\\n영화\\n가요\\n해외연예\\n\\n\\n스포츠\\n전체기사\\n야구\\n축구\\n농구/배구\\n골프\\n\\n\\n오피니언\\n\\n사람들\\n\\n전체기사\\n인사\\n부고\\n동정/게시판\\nCEO\\n인터뷰\\n\\n\\n\\n비주얼뉴스\\n\\n영상\\n포토\\n화보\\nD스토리\\n그래픽\\n\\n\\n테마별뉴스\\n핫뉴스\\n주요뉴스\\n긴급뉴스\\n단독뉴스\\n많이본뉴스\\n오래머문뉴스\\n\\n\\n뉴스+\\n이슈돋보기\\n팩트체크\\n재난포털\\n북한포털\\n날씨\\n이 시각 헤드라인\\n\\n\\n외국어\\nEnglish\\n中文\\n日本語\\nعربي\\nEspañol\\nFrançais\\n\\n\\n뉴스상품\\n프리미엄뉴스\\n뉴스리더\\n인터넷맞춤형\\n보도자료 해외배포\\n보도자료 국내배포\\n\\n\\n모바일뉴스\\n모바일앱\\n모바일웹\\n\\n\\n출판물\\n이매진\\n연합연감\\n영문연감\\n단행본\\n월간 마이더스\\n\\n\\n광고안내\\nKTX 고속열차\\nSRT 고속열차\\nAREX 공항철도\\n모바일\\nPC\\n출판물\\nLED전광판\\n사업제휴\\n\\n\\n콘텐츠판매\\n보도사진\\n이미지\\n그래픽\\n동영상\\n인물\\n\\n\\n관련사이트\\n연합뉴스TV\\n인포맥스\\n한민족센터\\nK-VIBE\\n채용\\nIR 클럽\\n\\n\\n\\n계약사/제휴문의\\n\\n회사소개\\n윤리헌장\\n저작권규약\\n수용자권익위원회\\n콘텐츠자문위원회\\n\\n고충처리\\n\\n\\n이용약관\\n\\n개인정보처리방침\\n독자게시판\\n기사제보(02-398-3000)\\nRSS\\n사이트맵\\n\\n연합뉴스 서울시 종로구 율곡로 2길 25등록번호 문화, 나00009등록일자 1980.12.29발행일자 1980.12.29Tel. 02-398-3114\\n(C) Yonhapnews[대표이사] 황대일[편집인] 심인성\\nADVERTISEMENT\\nADVERTISEMENT'}, {'title': 'Gauss, 삼성의 생성형 AI (나도 있다 이 말이야) :: 바른it생활', 'url': 'https://baleun-it.tistory.com/188', 'content': '최근 삼성은 자사의 최신 인공지능 기술인Gauss를 공개하며, 생성형 AI 시장에본격적으로 뛰어들었습니다. 삼성 Gauss는 언어 처리,이미지 생성, 그리고 코드 작성 등다양한 작업을 수행할 수 있는다목적 AI 모델로,삼성의 스마트폰 및 기타 제품군에통합될 예정입니다. Gauss의 주요 특징, 활용 사례', 'score': 0.8399576, 'raw_content': \"바른it생활\\n\\nGauss, 삼성의 생성형 AI (나도 있다 이 말이야)\\n\\n최근 삼성은 자사의 최신 인공지능 기술인\\n\\nGauss를 공개하며, 생성형 AI 시장에\\n\\n본격적으로 뛰어들었습니다.\\n\\n\\n\\n삼성 Gauss는 언어 처리,\\n\\n이미지 생성, 그리고 코드 작성 등\\n\\n다양한 작업을 수행할 수 있는\\n\\n다목적 AI 모델로,\\n\\n삼성의 스마트폰 및 기타 제품군에\\n\\n통합될 예정입니다.\\n\\n\\n\\nGauss의 주요 특징, 활용 사례,\\n\\n다양한 서비스에서의\\n\\n적용 가능성을 중심으로 살펴보겠습니다.\\n\\n\\n\\n\\n\\n\\n\\n\\n\\n1.\\xa0삼성\\xa0Gauss의\\xa0탄생\\xa0배경\\xa0및\\xa0구성\\xa0요소\\n\\n\\n\\n삼성 Gauss는 2023년 삼성 AI 포럼에서 처음 공개된 모델로, 이름은 수학자 '카를 프리드리히 가우스(Carl Friedrich Gauss)'의 이름에서 따왔습니다. 가우스는 통계학에서 정상 분포를 확립한 것으로 잘 알려져 있으며, AI와 머신러닝의 기본 이론에도 널리 사용됩니다\\u200b.\\xa0삼성은\\xa0이러한\\xa0통계학적\\xa0접근을\\xa0바탕으로\\xa0Gauss를\\xa0설계하여,\\xa0다양한\\xa0기능을\\xa0가진\\xa0생성형\\xa0AI\\xa0모델을\\xa0개발했습니다.\\n\\nGauss는 크게 세 가지 모듈로 나뉩니다.\\n\\n\\n\\n2.\\xa0Gauss의\\xa0활용\\xa0사례\\xa0및\\xa0주요\\xa0서비스\\n\\n\\n\\n삼성은\\xa0Gauss\\xa0AI를\\xa0자사\\xa0제품과\\xa0서비스에\\xa0통합하여\\xa0사용자\\xa0경험을\\xa0혁신하고\\xa0있습니다.\\xa0이를\\xa0통해\\xa0단순한\\xa0음성\\xa0인식이나\\xa0스마트폰\\xa0내비게이션을\\xa0넘어,\\xa0생산성과\\xa0창의성을\\xa0높일\\xa0수\\xa0있는\\xa0다양한\\xa0기능을\\xa0제공합니다.Gauss Language : 비즈니스 및 개인 생산성 도구\\n\\nGauss Language는 사용자의 입력을 기반으로 다양한 텍스트 작업을 처리합니다. 예를 들어, 사용자가 길게 작성해야 하는 이메일을 간단한 요청으로 요약하여 자동 작성해주거나, 회의록을 요약해주는 서비스로도 사용할 수 있습니다. 삼성은 이 기능을 사내 직원들이 효율적으로 이메일을 작성하고 문서를 관리할 수 있도록 내부적으로 테스트하고 있습니다\\u200b.사례1 - 스마트폰 및 태블릿의 생산성 도구삼성의\\xa0갤럭시\\xa0시리즈는\\xa0스마트폰에서\\xa0강력한\\xa0멀티태스킹을\\xa0제공하는\\xa0것으로\\xa0잘\\xa0알려져\\xa0있습니다.\\xa0여기에\\xa0Gauss\\xa0Language를\\xa0추가하면\\xa0사용자가\\xa0일상적인\\xa0작업을\\xa0빠르게\\xa0처리할\\xa0수\\xa0있습니다.\\xa0예를\\xa0들어,\\xa0문서를\\xa0스캔하여\\xa0핵심\\xa0내용을\\xa0요약하거나,\\xa0복잡한\\xa0대화를\\xa0요약하여\\xa0실시간으로\\xa0번역하는\\xa0기능이\\xa0탑재될\\xa0수\\xa0있습니다.\\xa0이는\\xa0특히\\xa0글로벌\\xa0비즈니스\\xa0환경에서\\xa0언어\\xa0장벽을\\xa0줄이고,\\xa0빠른\\xa0의사\\xa0결정을\\xa0지원하는\\xa0데\\xa0유용합니다.\\n\\n\\n\\nGauss Code : 개발자들을 위한 강력한 코딩 보조\\n\\nGauss Code는 코드 자동 생성 및 테스트 케이스 작성을 지원하여 개발자들이 빠르고 효율적으로 소프트웨어를 개발할 수 있도록 돕습니다. 이 기능은 삼성 내부에서 개발자들이 새로운 소프트웨어를 개발하거나 기존 코드를 유지보수하는 데 이미 활용되고 있습니다. 특히 'code.i'라는 인터랙티브 코딩 도구는 복잡한 알고리즘을 간단한 프롬프트를 통해 구현할 수 있도록 설계되어 있다고 합니다.사례2 - 삼성 R&D 부서의 AI 활용삼성의 R&D 팀은 Gauss Code를 이용하여 새로운 애플리케이션의 프로토타입을 빠르게 개발하고 있습니다. 이를 통해 기존 코드 리뷰 과정에서 발생하는 오류를 최소화하고, 코드의 품질을 높이는 데 기여하고 있습니다. 특히 Gauss Code는 기계 학습 알고리즘을 통합하여, 더 나은 코드 최적화와 예측을 제공한다고 전해집니다.Gauss Image : 이미지 생성 및 편집 기능Gauss Image는 삼성의 다양한 디바이스에서 이미지 생성 및 편집 작업을 수행합니다. 예를 들어, 사용자가 기존 이미지에 특정 요소를 추가하거나 스타일을 변경하는 작업을 손쉽게 처리할 수 있습니다. 이러한 기능은 기존의 이미지 생성 AI 모델인 OpenAI의 DALL-E와 유사하지만, 사용자가 로컬 기기에서 실행할 수 있다는 점에서 데이터 보안이 강화되었습니다\\u200b.사례3 - 스마트폰 카메라 및 갤러리 앱의 강화삼성의\\xa0갤럭시\\xa0스마트폰에서는\\xa0이미\\xa0AI\\xa0기반의\\xa0카메라\\xa0기능을\\xa0제공하고\\xa0있습니다.\\xa0여기에\\xa0Gauss\\xa0Image의\\xa0이미지\\xa0생성\\xa0및\\xa0편집\\xa0기능이\\xa0더해지면,\\xa0사용자는\\xa0촬영한\\xa0사진을\\xa0실시간으로\\xa0보정하고\\xa0원하는\\xa0스타일로\\xa0변환할\\xa0수\\xa0있습니다.\\xa0예를\\xa0들어,\\xa0풍경\\xa0사진을\\xa0그림처럼\\xa0보정하거나,\\xa0특정\\xa0객체를\\xa0자동으로\\xa0삭제하는\\xa0등\\xa0사진\\xa0편집이\\xa0보다\\xa0직관적으로\\xa0이루어질\\xa0수\\xa0있습니다.\\n\\n\\n\\n3.\\xa0삼성\\xa0Gauss의\\xa0시장\\xa0전망\\xa0및\\xa0차별점\\n\\n\\n\\n삼성은 Gauss를 통해 기존의 AI 경쟁자들과 차별화된 기술적 우위를 확보하는 것을 목표로 삼고 있습니다. Gauss의 강력한 장점은 클라우드가 아닌 기기 자체에서 AI 작업을 처리할 수 있다는 점입니다. 대부분의 생성형 AI는 데이터 처리 시 클라우드를 사용하여 개인정보 유출 위험이 존재하는 반면, Gauss는 데이터를 기기 내에서 처리하여 보안성을 극대화했습니다\\u200b.삼성은 향후 자사의 다양한 제품군에 이 멋진 AI를 적용할 예정입니다. 갤럭시 S24 시리즈를 시작으로, 스마트폰, 태블릿, 심지어는 스마트 홈 기기까지 확장하여 생산성과 보안성을 동시에 강화할 계획입니다. 삼성은 단순한 하드웨어 제조사를 넘어, 소프트웨어와 AI를 통합한 종합 디지털 생태계로의 전환을 시도하고 있습니다.\\n\\n\\n\\n4. 삼성 Gauss\\x08, AI 생태계에서의 위치\\n\\n\\n\\n삼성\\xa0Gauss는\\xa0텍스트,\\xa0코드,\\xa0이미지\\xa0생성이라는\\xa03가지\\xa0핵심\\xa0기능을\\xa0바탕으로\\xa0사용자들의\\xa0생산성을\\xa0높이고,\\xa0더욱\\xa0안전한\\xa0AI\\xa0환경을\\xa0제공하려는\\xa0삼성의\\xa0전략을\\xa0잘\\xa0보여줍니다.\\xa0Gauss의\\xa0로컬\\xa0실행\\xa0기능은\\xa0경쟁사\\xa0대비\\xa0차별화된\\xa0장점이며,\\xa0이를\\xa0통해\\xa0사용자는\\xa0보안에\\xa0대한\\xa0우려\\xa0없이\\xa0다양한\\xa0AI\\xa0기능을\\xa0활용할\\xa0수\\xa0있습니다.앞으로 Gauss가 갤럭시 스마트폰 외에도 다양한 삼성 기기에 탑재된다면, 소비자들의 일상적인 경험이 더욱 스마트하고 효율적으로 바뀔 것입니다. 이처럼 Gauss는 단순한 AI 모델을 넘어, 삼성의 AI 생태계의 핵심 축으로 자리잡아, 경재사와 함께 디지털 혁신을 주도할 가능성을 보여줍니다.\\n\\n'Baleun-it info' 카테고리의 다른 글\\n\\n갤럭시 에코시스템, 스마트한 라이프 스타일!(16) | 2024.10.08\\n애플 인텔리전스(Apple Intelligence) 요약 & 미리보기(6) | 2024.10.06\\n유통의 미래, Retail Media Network (RMN)의 모든 것(16) | 2024.09.28\\n디지털 월렛(전자지갑)의 진화와 보안 기술(1) | 2024.09.13\\nGenerative AI를 활용한 웹 디자인 자동화(5) | 2024.09.11\\n+ Recent posts\\n\\n티스토리툴바\\n\\n\\n\\n\"}]\n",
      "\n",
      "[Document(metadata={'source': 'https://www.yna.co.kr/view/AKR20231108041400003'}, page_content=\"삼성전자, 자체 개발한 생성형 AI '삼성 가우스' 첫 공개 | 연합뉴스 삼성전자, 자체 개발한 생성형 AI '삼성 가우스' 첫 공개 삼성전자, 자체 개발한 생성형 AI '삼성 가우스' 첫 공개 삼성전자[005930]가 자체 개발한 생성형 인공지능(AI) 모델 '삼성 가우스'(Samsung Gauss)가 처음 공개됐다. (서울=연합뉴스) 장하나 기자 = 삼성전자[005930]가 자체 개발한 생성형 인공지능(AI) 모델 '삼성 가우스'(Samsung Gauss)가 처음 공개됐다. 환영사 하는 김대현 부사장(서울=연합뉴스) 김대현 삼성전자 부사장이 8일 서울 서초구 삼성전자 서울R&D캠퍼스에서 열린 '삼성 AI 포럼 2023'에서 환영사를 하고 있다. 삼성전자가 자체 개발한 생성형 AI '삼성 가우스'[삼성전자 제공. 강연하는 제이슨 웨이 오픈AI 연구원(서울=연합뉴스) 제이슨 웨이 삼성 오픈AI 연구원이 8일 서울 서초구 삼성전자 서울R&D캠퍼스에서 열린 '삼성 AI 포럼 2023'에서 '대규모 언어 모델 르네상스의 새로운 패러다임'을 주제로 강연하고 있다.\"), Document(metadata={'source': 'https://baleun-it.tistory.com/188'}, page_content='최근 삼성은 자사의 최신 인공지능 기술인Gauss를 공개하며, 생성형 AI 시장에본격적으로 뛰어들었습니다. 삼성 Gauss는 언어 처리,이미지 생성, 그리고 코드 작성 등다양한 작업을 수행할 수 있는다목적 AI 모델로,삼성의 스마트폰 및 기타 제품군에통합될 예정입니다. Gauss의 주요 특징, 활용 사례')]\n",
      "==========================================================================================\n",
      "\n"
     ]
    },
    {
     "data": {
      "text/plain": [
       "{'documents': [Document(metadata={'source': 'https://www.yna.co.kr/view/AKR20231108041400003'}, page_content=\"삼성전자, 자체 개발한 생성형 AI '삼성 가우스' 첫 공개 | 연합뉴스 삼성전자, 자체 개발한 생성형 AI '삼성 가우스' 첫 공개 삼성전자, 자체 개발한 생성형 AI '삼성 가우스' 첫 공개 삼성전자[005930]가 자체 개발한 생성형 인공지능(AI) 모델 '삼성 가우스'(Samsung Gauss)가 처음 공개됐다. (서울=연합뉴스) 장하나 기자 = 삼성전자[005930]가 자체 개발한 생성형 인공지능(AI) 모델 '삼성 가우스'(Samsung Gauss)가 처음 공개됐다. 환영사 하는 김대현 부사장(서울=연합뉴스) 김대현 삼성전자 부사장이 8일 서울 서초구 삼성전자 서울R&D캠퍼스에서 열린 '삼성 AI 포럼 2023'에서 환영사를 하고 있다. 삼성전자가 자체 개발한 생성형 AI '삼성 가우스'[삼성전자 제공. 강연하는 제이슨 웨이 오픈AI 연구원(서울=연합뉴스) 제이슨 웨이 삼성 오픈AI 연구원이 8일 서울 서초구 삼성전자 서울R&D캠퍼스에서 열린 '삼성 AI 포럼 2023'에서 '대규모 언어 모델 르네상스의 새로운 패러다임'을 주제로 강연하고 있다.\"),\n",
       "  Document(metadata={'source': 'https://baleun-it.tistory.com/188'}, page_content='최근 삼성은 자사의 최신 인공지능 기술인Gauss를 공개하며, 생성형 AI 시장에본격적으로 뛰어들었습니다. 삼성 Gauss는 언어 처리,이미지 생성, 그리고 코드 작성 등다양한 작업을 수행할 수 있는다목적 AI 모델로,삼성의 스마트폰 및 기타 제품군에통합될 예정입니다. Gauss의 주요 특징, 활용 사례')]}"
      ]
     },
     "execution_count": 79,
     "metadata": {},
     "output_type": "execute_result"
    }
   ],
   "source": [
    "web_search(state)"
   ]
  },
  {
   "cell_type": "markdown",
   "metadata": {},
   "source": [
    "### 웹 검색을 할 것인지 답변을 생성할 것인지 판단하는 라우팅 (조건부 엣지 함수)"
   ]
  },
  {
   "cell_type": "code",
   "execution_count": 80,
   "metadata": {},
   "outputs": [],
   "source": [
    "def decide_to_generate(state: GraphState):\n",
    "    print('\\n==========================================================================================')\n",
    "    print('===== [ASSESS GRADED DOCUMENTS] decide_to_generate() 함수 =====')\n",
    "\n",
    "    # 웹 검색 할지를 가져온다\n",
    "    web_search = state[\"web_search\"]\n",
    "\n",
    "\n",
    "    if web_search == \"Yes\":     # 웹 검색으로 정보 보강이 필요한 경우        \n",
    "        print(\n",
    "            \"==== [DECISION: ALL DOCUMENTS ARE NOT RELEVANT TO QUESTION, QUERY REWRITE] ====\"\n",
    "        )\n",
    "        print('query_rewrite')\n",
    "        print('==========================================================================================\\n')\n",
    "        \n",
    "        return \"query_rewrite\"  \n",
    "\n",
    "    else:                       # 관련 문서가 존재하므로 답변 생성 단계(generate) 로 진행        \n",
    "        print(\"==== [DECISION: GENERATE] ====\")\n",
    "        print('generate')\n",
    "        print('==========================================================================================\\n')\n",
    "        \n",
    "        return \"generate\""
   ]
  },
  {
   "cell_type": "code",
   "execution_count": 81,
   "metadata": {},
   "outputs": [
    {
     "name": "stdout",
     "output_type": "stream",
     "text": [
      "\n",
      "==========================================================================================\n",
      "===== [ASSESS GRADED DOCUMENTS] decide_to_generate() 함수 =====\n",
      "==== [DECISION: GENERATE] ====\n",
      "generate\n",
      "==========================================================================================\n",
      "\n"
     ]
    },
    {
     "data": {
      "text/plain": [
       "'generate'"
      ]
     },
     "execution_count": 81,
     "metadata": {},
     "output_type": "execute_result"
    }
   ],
   "source": [
    "decide_to_generate(state)"
   ]
  },
  {
   "cell_type": "markdown",
   "metadata": {},
   "source": [
    "### 사용자 질문에 대한 답변을 생성하는 노드 (답변 생성을 위한 RAG 체인을 실행하여 답변을 생성)"
   ]
  },
  {
   "cell_type": "code",
   "execution_count": 82,
   "metadata": {},
   "outputs": [],
   "source": [
    "from langchain_core.output_parsers import StrOutputParser\n",
    "from langchain_openai import ChatOpenAI\n",
    "from langchain import hub\n",
    "\n",
    "# prompt = hub.pull(\"teddynote/rag-prompt\")\n",
    "\n",
    "template = \"\"\"You are an AI assistant specializing in Question-Answering (QA) tasks within a Retrieval-Augmented Generation (RAG) system. \n",
    "Your primary mission is to answer questions based on provided context or chat history.\n",
    "Ensure your response is concise and directly addresses the question without any additional narration.\n",
    "\n",
    "###\n",
    "\n",
    "Your final answer should be written concisely (but include important numerical values, technical terms, jargon, and names), followed by the source of the information.\n",
    "\n",
    "# Steps\n",
    "\n",
    "1. Carefully read and understand the context provided.\n",
    "2. Identify the key information related to the question within the context.\n",
    "3. Formulate a concise answer based on the relevant information.\n",
    "4. Ensure your final answer directly addresses the question.\n",
    "5. List the source of the answer in bullet points, which must be a file name (with a page number) or URL from the context. Omit if the source cannot be found.\n",
    "\n",
    "# Output Format:\n",
    "[Your final answer here, with numerical values, technical terms, jargon, and names in their original language]\n",
    "\n",
    "**Source**(Optional)\n",
    "- (Source of the answer, must be a file name(with a page number) or URL from the context. Omit if you can't find the source of the answer.)\n",
    "- (list more if there are multiple sources)\n",
    "- ...\n",
    "\n",
    "###\n",
    "\n",
    "Remember:\n",
    "- It's crucial to base your answer solely on the **PROVIDED CONTEXT**. \n",
    "- DO NOT use any external knowledge or information not present in the given materials.\n",
    "- If you can't find the source of the answer, you should answer that you don't know.\n",
    "\n",
    "###\n",
    "\n",
    "# Here is the user's QUESTION that you should answer:\n",
    "{question}\n",
    "\n",
    "# Here is the CONTEXT that you should use to answer the question:\n",
    "{context}\n",
    "\n",
    "# Your final ANSWER to the user's QUESTION:\"\"\"\n",
    "\n",
    "prompt = ChatPromptTemplate.from_template(template)\n",
    "\n",
    "llm = ChatOpenAI(\n",
    "    api_key=key, \n",
    "    model='gpt-4o-mini', \n",
    "    temperature=0\n",
    ")\n",
    "\n",
    "def format_docs(docs):\n",
    "    return \"\\n\\n\".join(\n",
    "        [\n",
    "            f'<document><content>{doc.page_content}</content><source>{doc.metadata[\"source\"]}</source><page>{doc.metadata[\"page\"]+1}</page></document>'\n",
    "            for doc in docs\n",
    "        ]\n",
    "    )\n",
    "\n",
    "output_parser = StrOutputParser()\n",
    "\n",
    "# RAG 체인 생성 (pdf_retriever 문서 검색기를 사용해서 얻은 문서와 사용자 질문을 넣어서 결과)\n",
    "rag_chain = prompt | llm | output_parser"
   ]
  },
  {
   "cell_type": "code",
   "execution_count": 83,
   "metadata": {},
   "outputs": [],
   "source": [
    "# 답변 생성 노드\n",
    "def generate(state: GraphState):\n",
    "    print('\\n==========================================================================================')\n",
    "    print('===== [GENERATE] generate() 함수 =====')\n",
    "\n",
    "    # 사용자 질문\n",
    "    question = state['question']  \n",
    "\n",
    "    # 문서 검색 결과\n",
    "    documents = state['documents']\n",
    "\n",
    "    # RAG 실행 결과\n",
    "    generation = rag_chain.invoke({'context': documents , 'question': 'question'})\n",
    "\n",
    "    print(f'사용자 질문: {question}')\n",
    "    print(f'문서 검색 결과:')\n",
    "    print(documents)\n",
    "    print()\n",
    "    print(f'rag 실행 결과:')\n",
    "    print(generation)\n",
    "    print()\n",
    "    print('==========================================================================================\\n')    \n",
    "\n",
    "    return {'generation': generation}"
   ]
  },
  {
   "cell_type": "code",
   "execution_count": 84,
   "metadata": {},
   "outputs": [
    {
     "name": "stdout",
     "output_type": "stream",
     "text": [
      "\n",
      "==========================================================================================\n",
      "===== [GENERATE] generate() 함수 =====\n",
      "사용자 질문: 삼성전자가 개발한 생성형 AI의 이름은 무엇인가요?\n",
      "문서 검색 결과:\n",
      "[Document(id='1c88b53b-549e-401e-8939-34a058a46e8f', metadata={'source': 'data/SPRI_AI_Brief_2023년12월호_F.pdf', 'file_path': 'data/SPRI_AI_Brief_2023년12월호_F.pdf', 'page': 1, 'total_pages': 23, 'Author': 'dj', 'Creator': 'Hwp 2018 10.0.0.13462', 'Producer': 'Hancom PDF 1.3.0.542', 'CreationDate': \"D:20231208132838+09'00'\", 'ModDate': \"D:20231208132838+09'00'\", 'PDFVersion': '1.4'}, page_content='▹ 삼성전자, 자체 개발 생성 AI ‘삼성 가우스’ 공개 ···························································10\\n▹ 구글, 앤스로픽에 20억 달러 투자로 생성 AI 협력 강화 ················································11\\n▹ IDC, 2027년 AI 소프트웨어 매출 2,500억 달러 돌파 전망···········································12'), Document(id='f7333c74-5762-4bbe-9a80-af7ebde9a002', metadata={'source': 'data/SPRI_AI_Brief_2023년12월호_F.pdf', 'file_path': 'data/SPRI_AI_Brief_2023년12월호_F.pdf', 'page': 12, 'total_pages': 23, 'Author': 'dj', 'Creator': 'Hwp 2018 10.0.0.13462', 'Producer': 'Hancom PDF 1.3.0.542', 'CreationDate': \"D:20231208132838+09'00'\", 'ModDate': \"D:20231208132838+09'00'\", 'PDFVersion': '1.4'}, page_content='SPRi AI Brief |\\n2023-12월호\\n삼성전자, 자체 개발 생성 AI ‘삼성 가우스’ 공개\\nKEY Contents\\nn 삼성전자가 온디바이스에서 작동 가능하며 언어, 코드, 이미지의 3개 모델로 구성된 자체 개발 생성\\nAI 모델 ‘삼성 가우스’를 공개\\nn 삼성전자는 삼성 가우스를 다양한 제품에 단계적으로 탑재할 계획으로, 온디바이스 작동이 가능한\\n삼성 가우스는 외부로 사용자 정보가 유출될 위험이 없다는 장점을 보유\\n£언어, 코드, 이미지의 3개 모델로 구성된 삼성 가우스, 온디바이스 작동 지원'), Document(id='4bdcf464-36c7-49b7-a2b3-5e4aff575c2a', metadata={'source': 'data/SPRI_AI_Brief_2023년12월호_F.pdf', 'file_path': 'data/SPRI_AI_Brief_2023년12월호_F.pdf', 'page': 12, 'total_pages': 23, 'Author': 'dj', 'Creator': 'Hwp 2018 10.0.0.13462', 'Producer': 'Hancom PDF 1.3.0.542', 'CreationDate': \"D:20231208132838+09'00'\", 'ModDate': \"D:20231208132838+09'00'\", 'PDFVersion': '1.4'}, page_content='£언어, 코드, 이미지의 3개 모델로 구성된 삼성 가우스, 온디바이스 작동 지원\\nn 삼성전자가 2023년 11월 8일 열린 ‘삼성 AI 포럼 2023’ 행사에서 자체 개발한 생성 AI 모델\\n‘삼성 가우스’를 최초 공개\\n∙ 정규분포 이론을 정립한 천재 수학자 가우스(Gauss)의 이름을 본뜬 삼성 가우스는 다양한 상황에\\n최적화된 크기의 모델 선택이 가능\\n∙ 삼성 가우스는 라이선스나 개인정보를 침해하지 않는 안전한 데이터를 통해 학습되었으며,\\n온디바이스에서 작동하도록 설계되어 외부로 사용자의 정보가 유출되지 않는 장점을 보유'), Document(id='60ae2cfa-371a-4423-a24d-8b3907832cc5', metadata={'source': 'data/SPRI_AI_Brief_2023년12월호_F.pdf', 'file_path': 'data/SPRI_AI_Brief_2023년12월호_F.pdf', 'page': 12, 'total_pages': 23, 'Author': 'dj', 'Creator': 'Hwp 2018 10.0.0.13462', 'Producer': 'Hancom PDF 1.3.0.542', 'CreationDate': \"D:20231208132838+09'00'\", 'ModDate': \"D:20231208132838+09'00'\", 'PDFVersion': '1.4'}, page_content='어시스턴트를 적용한 구글 픽셀(Pixel)과 경쟁할 것으로 예상\\n☞ 출처 : 삼성전자, ‘삼성 AI 포럼’서 자체 개발 생성형 AI ‘삼성 가우스’ 공개, 2023.11.08.\\n삼성전자, ‘삼성 개발자 콘퍼런스 코리아 2023’ 개최, 2023.11.14.\\nTechRepublic, Samsung Gauss: Samsung Research Reveals Generative AI, 2023.11.08.\\n10'), Document(id='d4c666e9-1666-4cae-a379-0a278f4f90d1', metadata={'source': 'data/SPRI_AI_Brief_2023년12월호_F.pdf', 'file_path': 'data/SPRI_AI_Brief_2023년12월호_F.pdf', 'page': 12, 'total_pages': 23, 'Author': 'dj', 'Creator': 'Hwp 2018 10.0.0.13462', 'Producer': 'Hancom PDF 1.3.0.542', 'CreationDate': \"D:20231208132838+09'00'\", 'ModDate': \"D:20231208132838+09'00'\", 'PDFVersion': '1.4'}, page_content='처리를 지원\\n∙ 코드 모델 기반의 AI 코딩 어시스턴트 ‘코드아이(code.i)’는 대화형 인터페이스로 서비스를 제공하며\\n사내 소프트웨어 개발에 최적화\\n∙ 이미지 모델은 창의적인 이미지를 생성하고 기존 이미지를 원하는 대로 바꿀 수 있도록 지원하며\\n저해상도 이미지의 고해상도 전환도 지원\\nn IT 전문지 테크리퍼블릭(TechRepublic)은 온디바이스 AI가 주요 기술 트렌드로 부상했다며,\\n2024년부터 가우스를 탑재한 삼성 스마트폰이 메타의 라마(Llama)2를 탑재한 퀄컴 기기 및 구글'), Document(id='3a6f8ff7-603d-428d-aea6-9ab69f4bac14', metadata={'source': 'data/SPRI_AI_Brief_2023년12월호_F.pdf', 'file_path': 'data/SPRI_AI_Brief_2023년12월호_F.pdf', 'page': 12, 'total_pages': 23, 'Author': 'dj', 'Creator': 'Hwp 2018 10.0.0.13462', 'Producer': 'Hancom PDF 1.3.0.542', 'CreationDate': \"D:20231208132838+09'00'\", 'ModDate': \"D:20231208132838+09'00'\", 'PDFVersion': '1.4'}, page_content='온디바이스에서 작동하도록 설계되어 외부로 사용자의 정보가 유출되지 않는 장점을 보유\\n∙ 삼성전자는 삼성 가우스를 활용한 온디바이스 AI 기술도 소개했으며, 생성 AI 모델을 다양한 제품에\\n단계적으로 탑재할 계획\\nn 삼성 가우스는 △텍스트를 생성하는 언어모델 △코드를 생성하는 코드 모델 △이미지를 생성하는\\n이미지 모델의 3개 모델로 구성\\n∙ 언어 모델은 클라우드와 온디바이스 대상 다양한 모델로 구성되며, 메일 작성, 문서 요약, 번역 업무의\\n처리를 지원')]\n",
      "\n",
      "rag 실행 결과:\n",
      "삼성전자가 공개한 생성 AI 모델 ‘삼성 가우스’는 언어, 코드, 이미지의 3개 모델로 구성되어 있으며, 온디바이스에서 작동하도록 설계되어 사용자 정보 유출 위험이 없다. 이 모델은 2023년 11월 8일 ‘삼성 AI 포럼 2023’에서 처음 공개되었다.\n",
      "\n",
      "**Source**\n",
      "- data/SPRI_AI_Brief_2023년12월호_F.pdf (page 12)\n",
      "\n",
      "==========================================================================================\n",
      "\n"
     ]
    }
   ],
   "source": [
    "state['generation'] = generate(state)['generation']"
   ]
  },
  {
   "cell_type": "code",
   "execution_count": 85,
   "metadata": {},
   "outputs": [
    {
     "data": {
      "text/plain": [
       "{'question': '삼성전자가 개발한 생성형 AI의 이름은 무엇인가요?',\n",
       " 'generation': '삼성전자가 공개한 생성 AI 모델 ‘삼성 가우스’는 언어, 코드, 이미지의 3개 모델로 구성되어 있으며, 온디바이스에서 작동하도록 설계되어 사용자 정보 유출 위험이 없다. 이 모델은 2023년 11월 8일 ‘삼성 AI 포럼 2023’에서 처음 공개되었다.\\n\\n**Source**\\n- data/SPRI_AI_Brief_2023년12월호_F.pdf (page 12)',\n",
       " 'web_search': 'No',\n",
       " 'documents': [Document(id='1c88b53b-549e-401e-8939-34a058a46e8f', metadata={'source': 'data/SPRI_AI_Brief_2023년12월호_F.pdf', 'file_path': 'data/SPRI_AI_Brief_2023년12월호_F.pdf', 'page': 1, 'total_pages': 23, 'Author': 'dj', 'Creator': 'Hwp 2018 10.0.0.13462', 'Producer': 'Hancom PDF 1.3.0.542', 'CreationDate': \"D:20231208132838+09'00'\", 'ModDate': \"D:20231208132838+09'00'\", 'PDFVersion': '1.4'}, page_content='▹ 삼성전자, 자체 개발 생성 AI ‘삼성 가우스’ 공개 ···························································10\\n▹ 구글, 앤스로픽에 20억 달러 투자로 생성 AI 협력 강화 ················································11\\n▹ IDC, 2027년 AI 소프트웨어 매출 2,500억 달러 돌파 전망···········································12'),\n",
       "  Document(id='f7333c74-5762-4bbe-9a80-af7ebde9a002', metadata={'source': 'data/SPRI_AI_Brief_2023년12월호_F.pdf', 'file_path': 'data/SPRI_AI_Brief_2023년12월호_F.pdf', 'page': 12, 'total_pages': 23, 'Author': 'dj', 'Creator': 'Hwp 2018 10.0.0.13462', 'Producer': 'Hancom PDF 1.3.0.542', 'CreationDate': \"D:20231208132838+09'00'\", 'ModDate': \"D:20231208132838+09'00'\", 'PDFVersion': '1.4'}, page_content='SPRi AI Brief |\\n2023-12월호\\n삼성전자, 자체 개발 생성 AI ‘삼성 가우스’ 공개\\nKEY Contents\\nn 삼성전자가 온디바이스에서 작동 가능하며 언어, 코드, 이미지의 3개 모델로 구성된 자체 개발 생성\\nAI 모델 ‘삼성 가우스’를 공개\\nn 삼성전자는 삼성 가우스를 다양한 제품에 단계적으로 탑재할 계획으로, 온디바이스 작동이 가능한\\n삼성 가우스는 외부로 사용자 정보가 유출될 위험이 없다는 장점을 보유\\n£언어, 코드, 이미지의 3개 모델로 구성된 삼성 가우스, 온디바이스 작동 지원'),\n",
       "  Document(id='4bdcf464-36c7-49b7-a2b3-5e4aff575c2a', metadata={'source': 'data/SPRI_AI_Brief_2023년12월호_F.pdf', 'file_path': 'data/SPRI_AI_Brief_2023년12월호_F.pdf', 'page': 12, 'total_pages': 23, 'Author': 'dj', 'Creator': 'Hwp 2018 10.0.0.13462', 'Producer': 'Hancom PDF 1.3.0.542', 'CreationDate': \"D:20231208132838+09'00'\", 'ModDate': \"D:20231208132838+09'00'\", 'PDFVersion': '1.4'}, page_content='£언어, 코드, 이미지의 3개 모델로 구성된 삼성 가우스, 온디바이스 작동 지원\\nn 삼성전자가 2023년 11월 8일 열린 ‘삼성 AI 포럼 2023’ 행사에서 자체 개발한 생성 AI 모델\\n‘삼성 가우스’를 최초 공개\\n∙ 정규분포 이론을 정립한 천재 수학자 가우스(Gauss)의 이름을 본뜬 삼성 가우스는 다양한 상황에\\n최적화된 크기의 모델 선택이 가능\\n∙ 삼성 가우스는 라이선스나 개인정보를 침해하지 않는 안전한 데이터를 통해 학습되었으며,\\n온디바이스에서 작동하도록 설계되어 외부로 사용자의 정보가 유출되지 않는 장점을 보유'),\n",
       "  Document(id='60ae2cfa-371a-4423-a24d-8b3907832cc5', metadata={'source': 'data/SPRI_AI_Brief_2023년12월호_F.pdf', 'file_path': 'data/SPRI_AI_Brief_2023년12월호_F.pdf', 'page': 12, 'total_pages': 23, 'Author': 'dj', 'Creator': 'Hwp 2018 10.0.0.13462', 'Producer': 'Hancom PDF 1.3.0.542', 'CreationDate': \"D:20231208132838+09'00'\", 'ModDate': \"D:20231208132838+09'00'\", 'PDFVersion': '1.4'}, page_content='어시스턴트를 적용한 구글 픽셀(Pixel)과 경쟁할 것으로 예상\\n☞ 출처 : 삼성전자, ‘삼성 AI 포럼’서 자체 개발 생성형 AI ‘삼성 가우스’ 공개, 2023.11.08.\\n삼성전자, ‘삼성 개발자 콘퍼런스 코리아 2023’ 개최, 2023.11.14.\\nTechRepublic, Samsung Gauss: Samsung Research Reveals Generative AI, 2023.11.08.\\n10'),\n",
       "  Document(id='d4c666e9-1666-4cae-a379-0a278f4f90d1', metadata={'source': 'data/SPRI_AI_Brief_2023년12월호_F.pdf', 'file_path': 'data/SPRI_AI_Brief_2023년12월호_F.pdf', 'page': 12, 'total_pages': 23, 'Author': 'dj', 'Creator': 'Hwp 2018 10.0.0.13462', 'Producer': 'Hancom PDF 1.3.0.542', 'CreationDate': \"D:20231208132838+09'00'\", 'ModDate': \"D:20231208132838+09'00'\", 'PDFVersion': '1.4'}, page_content='처리를 지원\\n∙ 코드 모델 기반의 AI 코딩 어시스턴트 ‘코드아이(code.i)’는 대화형 인터페이스로 서비스를 제공하며\\n사내 소프트웨어 개발에 최적화\\n∙ 이미지 모델은 창의적인 이미지를 생성하고 기존 이미지를 원하는 대로 바꿀 수 있도록 지원하며\\n저해상도 이미지의 고해상도 전환도 지원\\nn IT 전문지 테크리퍼블릭(TechRepublic)은 온디바이스 AI가 주요 기술 트렌드로 부상했다며,\\n2024년부터 가우스를 탑재한 삼성 스마트폰이 메타의 라마(Llama)2를 탑재한 퀄컴 기기 및 구글'),\n",
       "  Document(id='3a6f8ff7-603d-428d-aea6-9ab69f4bac14', metadata={'source': 'data/SPRI_AI_Brief_2023년12월호_F.pdf', 'file_path': 'data/SPRI_AI_Brief_2023년12월호_F.pdf', 'page': 12, 'total_pages': 23, 'Author': 'dj', 'Creator': 'Hwp 2018 10.0.0.13462', 'Producer': 'Hancom PDF 1.3.0.542', 'CreationDate': \"D:20231208132838+09'00'\", 'ModDate': \"D:20231208132838+09'00'\", 'PDFVersion': '1.4'}, page_content='온디바이스에서 작동하도록 설계되어 외부로 사용자의 정보가 유출되지 않는 장점을 보유\\n∙ 삼성전자는 삼성 가우스를 활용한 온디바이스 AI 기술도 소개했으며, 생성 AI 모델을 다양한 제품에\\n단계적으로 탑재할 계획\\nn 삼성 가우스는 △텍스트를 생성하는 언어모델 △코드를 생성하는 코드 모델 △이미지를 생성하는\\n이미지 모델의 3개 모델로 구성\\n∙ 언어 모델은 클라우드와 온디바이스 대상 다양한 모델로 구성되며, 메일 작성, 문서 요약, 번역 업무의\\n처리를 지원')]}"
      ]
     },
     "execution_count": 85,
     "metadata": {},
     "output_type": "execute_result"
    }
   ],
   "source": [
    "state"
   ]
  },
  {
   "cell_type": "code",
   "execution_count": 86,
   "metadata": {},
   "outputs": [],
   "source": [
    "from langgraph.graph import StateGraph, END, START\n",
    "from langchain_teddynote.graphs import visualize_graph"
   ]
  },
  {
   "cell_type": "code",
   "execution_count": 87,
   "metadata": {},
   "outputs": [],
   "source": [
    "######### 1. 그래프 생성 #########\n",
    "\n",
    "workflow = StateGraph(GraphState)"
   ]
  },
  {
   "cell_type": "code",
   "execution_count": 88,
   "metadata": {},
   "outputs": [
    {
     "data": {
      "text/plain": [
       "<langgraph.graph.state.StateGraph at 0x2804dd6ba50>"
      ]
     },
     "execution_count": 88,
     "metadata": {},
     "output_type": "execute_result"
    }
   ],
   "source": [
    "######### 2. 노드 정의  #########\n",
    "\n",
    "workflow.add_node(\"retrieve\", retrieve)\n",
    "workflow.add_node(\"grade_documents\", grade_documents)\n",
    "workflow.add_node(\"generate\", generate)\n",
    "workflow.add_node(\"query_rewrite\", query_rewrite)\n",
    "workflow.add_node(\"web_search_node\", web_search)"
   ]
  },
  {
   "cell_type": "code",
   "execution_count": 89,
   "metadata": {},
   "outputs": [
    {
     "data": {
      "text/plain": [
       "<langgraph.graph.state.StateGraph at 0x2804dd6ba50>"
      ]
     },
     "execution_count": 89,
     "metadata": {},
     "output_type": "execute_result"
    }
   ],
   "source": [
    "######### 3. 그래프 엣지(Edge) 추가  #########\n",
    "\n",
    "workflow.add_edge(START, \"retrieve\")\n",
    "workflow.add_edge(\"retrieve\", \"grade_documents\")"
   ]
  },
  {
   "cell_type": "code",
   "execution_count": 90,
   "metadata": {},
   "outputs": [
    {
     "data": {
      "text/plain": [
       "<langgraph.graph.state.StateGraph at 0x2804dd6ba50>"
      ]
     },
     "execution_count": 90,
     "metadata": {},
     "output_type": "execute_result"
    }
   ],
   "source": [
    "# 문서 평가 노드에서 조건부 엣지 추가\n",
    "workflow.add_conditional_edges(\n",
    "    \"grade_documents\",\n",
    "    decide_to_generate,\n",
    "    {\n",
    "        \"query_rewrite\": \"query_rewrite\",\n",
    "        \"generate\": \"generate\",\n",
    "    },\n",
    ")"
   ]
  },
  {
   "cell_type": "code",
   "execution_count": 91,
   "metadata": {},
   "outputs": [
    {
     "data": {
      "text/plain": [
       "<langgraph.graph.state.StateGraph at 0x2804dd6ba50>"
      ]
     },
     "execution_count": 91,
     "metadata": {},
     "output_type": "execute_result"
    }
   ],
   "source": [
    "# 엣지 연결\n",
    "workflow.add_edge(\"query_rewrite\", \"web_search_node\")\n",
    "workflow.add_edge(\"web_search_node\", \"generate\")\n",
    "workflow.add_edge(\"generate\", END)"
   ]
  },
  {
   "cell_type": "code",
   "execution_count": 92,
   "metadata": {},
   "outputs": [],
   "source": [
    "######### 6. 그래프 컴파일(compile)  #########\n",
    "\n",
    "app = workflow.compile()"
   ]
  },
  {
   "cell_type": "code",
   "execution_count": 93,
   "metadata": {},
   "outputs": [
    {
     "data": {
      "image/png": "[encoded data removed]",
      "text/plain": [
       "<IPython.core.display.Image object>"
      ]
     },
     "metadata": {},
     "output_type": "display_data"
    }
   ],
   "source": [
    "visualize_graph(app)"
   ]
  },
  {
   "cell_type": "code",
   "execution_count": 94,
   "metadata": {},
   "outputs": [
    {
     "name": "stdout",
     "output_type": "stream",
     "text": [
      "\n",
      "==========================================================================================\n",
      "===== [RETRIEVE] retieve() 노드 실행 =====\n",
      "문서 검색 결과: \n",
      "[Document(id='f7333c74-5762-4bbe-9a80-af7ebde9a002', metadata={'source': 'data/SPRI_AI_Brief_2023년12월호_F.pdf', 'file_path': 'data/SPRI_AI_Brief_2023년12월호_F.pdf', 'page': 12, 'total_pages': 23, 'Author': 'dj', 'Creator': 'Hwp 2018 10.0.0.13462', 'Producer': 'Hancom PDF 1.3.0.542', 'CreationDate': \"D:20231208132838+09'00'\", 'ModDate': \"D:20231208132838+09'00'\", 'PDFVersion': '1.4'}, page_content='SPRi AI Brief |\\n2023-12월호\\n삼성전자, 자체 개발 생성 AI ‘삼성 가우스’ 공개\\nKEY Contents\\nn 삼성전자가 온디바이스에서 작동 가능하며 언어, 코드, 이미지의 3개 모델로 구성된 자체 개발 생성\\nAI 모델 ‘삼성 가우스’를 공개\\nn 삼성전자는 삼성 가우스를 다양한 제품에 단계적으로 탑재할 계획으로, 온디바이스 작동이 가능한\\n삼성 가우스는 외부로 사용자 정보가 유출될 위험이 없다는 장점을 보유\\n£언어, 코드, 이미지의 3개 모델로 구성된 삼성 가우스, 온디바이스 작동 지원'), Document(id='1c88b53b-549e-401e-8939-34a058a46e8f', metadata={'source': 'data/SPRI_AI_Brief_2023년12월호_F.pdf', 'file_path': 'data/SPRI_AI_Brief_2023년12월호_F.pdf', 'page': 1, 'total_pages': 23, 'Author': 'dj', 'Creator': 'Hwp 2018 10.0.0.13462', 'Producer': 'Hancom PDF 1.3.0.542', 'CreationDate': \"D:20231208132838+09'00'\", 'ModDate': \"D:20231208132838+09'00'\", 'PDFVersion': '1.4'}, page_content='▹ 삼성전자, 자체 개발 생성 AI ‘삼성 가우스’ 공개 ···························································10\\n▹ 구글, 앤스로픽에 20억 달러 투자로 생성 AI 협력 강화 ················································11\\n▹ IDC, 2027년 AI 소프트웨어 매출 2,500억 달러 돌파 전망···········································12'), Document(id='4bdcf464-36c7-49b7-a2b3-5e4aff575c2a', metadata={'source': 'data/SPRI_AI_Brief_2023년12월호_F.pdf', 'file_path': 'data/SPRI_AI_Brief_2023년12월호_F.pdf', 'page': 12, 'total_pages': 23, 'Author': 'dj', 'Creator': 'Hwp 2018 10.0.0.13462', 'Producer': 'Hancom PDF 1.3.0.542', 'CreationDate': \"D:20231208132838+09'00'\", 'ModDate': \"D:20231208132838+09'00'\", 'PDFVersion': '1.4'}, page_content='£언어, 코드, 이미지의 3개 모델로 구성된 삼성 가우스, 온디바이스 작동 지원\\nn 삼성전자가 2023년 11월 8일 열린 ‘삼성 AI 포럼 2023’ 행사에서 자체 개발한 생성 AI 모델\\n‘삼성 가우스’를 최초 공개\\n∙ 정규분포 이론을 정립한 천재 수학자 가우스(Gauss)의 이름을 본뜬 삼성 가우스는 다양한 상황에\\n최적화된 크기의 모델 선택이 가능\\n∙ 삼성 가우스는 라이선스나 개인정보를 침해하지 않는 안전한 데이터를 통해 학습되었으며,\\n온디바이스에서 작동하도록 설계되어 외부로 사용자의 정보가 유출되지 않는 장점을 보유'), Document(id='60ae2cfa-371a-4423-a24d-8b3907832cc5', metadata={'source': 'data/SPRI_AI_Brief_2023년12월호_F.pdf', 'file_path': 'data/SPRI_AI_Brief_2023년12월호_F.pdf', 'page': 12, 'total_pages': 23, 'Author': 'dj', 'Creator': 'Hwp 2018 10.0.0.13462', 'Producer': 'Hancom PDF 1.3.0.542', 'CreationDate': \"D:20231208132838+09'00'\", 'ModDate': \"D:20231208132838+09'00'\", 'PDFVersion': '1.4'}, page_content='어시스턴트를 적용한 구글 픽셀(Pixel)과 경쟁할 것으로 예상\\n☞ 출처 : 삼성전자, ‘삼성 AI 포럼’서 자체 개발 생성형 AI ‘삼성 가우스’ 공개, 2023.11.08.\\n삼성전자, ‘삼성 개발자 콘퍼런스 코리아 2023’ 개최, 2023.11.14.\\nTechRepublic, Samsung Gauss: Samsung Research Reveals Generative AI, 2023.11.08.\\n10'), Document(id='a503d3fa-453f-41fb-bd21-6b2f75aa990f', metadata={'source': 'data/SPRI_AI_Brief_2023년12월호_F.pdf', 'file_path': 'data/SPRI_AI_Brief_2023년12월호_F.pdf', 'page': 18, 'total_pages': 23, 'Author': 'dj', 'Creator': 'Hwp 2018 10.0.0.13462', 'Producer': 'Hancom PDF 1.3.0.542', 'CreationDate': \"D:20231208132838+09'00'\", 'ModDate': \"D:20231208132838+09'00'\", 'PDFVersion': '1.4'}, page_content='<구글 딥마인드의 범용 AI 분류 프레임워크>\\n성능 특수 AI 예시 범용 AI 예시\\n0단계: AI 아님 계산기 소프트웨어, 컴파일러 아마존 메커니컬 터크\\n1단계: 신진(숙련되지 않은 인간) GOFAI(Good Old Fashioned Artificial Intelligence) 챗GPT, 바드, 라마2\\n스마트 스피커(애플 시리, 아마존 알렉사, 구글\\n2단계: 유능(숙련된 인간의 50% 이상) 미달성\\n어시스턴트), IBM 왓슨\\n3단계: 전문가(숙련된 인간의 90% 이상) 문법 교정기(그래머리), 생성 이미지 모델(달리2) 미달성'), Document(id='dc52c5ab-4285-4a2c-b6f2-c5089e8f43f9', metadata={'source': 'data/SPRI_AI_Brief_2023년12월호_F.pdf', 'file_path': 'data/SPRI_AI_Brief_2023년12월호_F.pdf', 'page': 11, 'total_pages': 23, 'Author': 'dj', 'Creator': 'Hwp 2018 10.0.0.13462', 'Producer': 'Hancom PDF 1.3.0.542', 'CreationDate': \"D:20231208132838+09'00'\", 'ModDate': \"D:20231208132838+09'00'\", 'PDFVersion': '1.4'}, page_content='제작을 포함\\nn 알리바바 클라우드는 급증하는 생성 AI 수요에 대응해 모델 개발과 애플리케이션 구축 절차를\\n간소화하는 올인원 AI 모델 구축 플랫폼 ‘젠AI(GenAI)’도 공개\\n∙ 이 플랫폼은 데이터 관리, 모델 배포와 평가, 신속한 엔지니어링을 위한 종합 도구 모음을 제공하여\\n다양한 기업들이 맞춤형 AI 모델을 한층 쉽게 개발할 수 있도록 지원\\n∙ 생성 AI 개발에 필요한 컴퓨팅과 데이터 처리 요구사항을 지원하기 위해 AI 플랫폼(PAI),\\n데이터베이스 솔루션, 컨테이너 서비스와 같은 클라우드 신제품도 발표'), Document(id='d4c666e9-1666-4cae-a379-0a278f4f90d1', metadata={'source': 'data/SPRI_AI_Brief_2023년12월호_F.pdf', 'file_path': 'data/SPRI_AI_Brief_2023년12월호_F.pdf', 'page': 12, 'total_pages': 23, 'Author': 'dj', 'Creator': 'Hwp 2018 10.0.0.13462', 'Producer': 'Hancom PDF 1.3.0.542', 'CreationDate': \"D:20231208132838+09'00'\", 'ModDate': \"D:20231208132838+09'00'\", 'PDFVersion': '1.4'}, page_content='처리를 지원\\n∙ 코드 모델 기반의 AI 코딩 어시스턴트 ‘코드아이(code.i)’는 대화형 인터페이스로 서비스를 제공하며\\n사내 소프트웨어 개발에 최적화\\n∙ 이미지 모델은 창의적인 이미지를 생성하고 기존 이미지를 원하는 대로 바꿀 수 있도록 지원하며\\n저해상도 이미지의 고해상도 전환도 지원\\nn IT 전문지 테크리퍼블릭(TechRepublic)은 온디바이스 AI가 주요 기술 트렌드로 부상했다며,\\n2024년부터 가우스를 탑재한 삼성 스마트폰이 메타의 라마(Llama)2를 탑재한 퀄컴 기기 및 구글'), Document(id='3a6f8ff7-603d-428d-aea6-9ab69f4bac14', metadata={'source': 'data/SPRI_AI_Brief_2023년12월호_F.pdf', 'file_path': 'data/SPRI_AI_Brief_2023년12월호_F.pdf', 'page': 12, 'total_pages': 23, 'Author': 'dj', 'Creator': 'Hwp 2018 10.0.0.13462', 'Producer': 'Hancom PDF 1.3.0.542', 'CreationDate': \"D:20231208132838+09'00'\", 'ModDate': \"D:20231208132838+09'00'\", 'PDFVersion': '1.4'}, page_content='온디바이스에서 작동하도록 설계되어 외부로 사용자의 정보가 유출되지 않는 장점을 보유\\n∙ 삼성전자는 삼성 가우스를 활용한 온디바이스 AI 기술도 소개했으며, 생성 AI 모델을 다양한 제품에\\n단계적으로 탑재할 계획\\nn 삼성 가우스는 △텍스트를 생성하는 언어모델 △코드를 생성하는 코드 모델 △이미지를 생성하는\\n이미지 모델의 3개 모델로 구성\\n∙ 언어 모델은 클라우드와 온디바이스 대상 다양한 모델로 구성되며, 메일 작성, 문서 요약, 번역 업무의\\n처리를 지원'), Document(id='713bffeb-ec82-4f3c-bbe0-e18ca5d21dc8', metadata={'source': 'data/SPRI_AI_Brief_2023년12월호_F.pdf', 'file_path': 'data/SPRI_AI_Brief_2023년12월호_F.pdf', 'page': 1, 'total_pages': 23, 'Author': 'dj', 'Creator': 'Hwp 2018 10.0.0.13462', 'Producer': 'Hancom PDF 1.3.0.542', 'CreationDate': \"D:20231208132838+09'00'\", 'ModDate': \"D:20231208132838+09'00'\", 'PDFVersion': '1.4'}, page_content='▹ 빌 게이츠, AI 에이전트로 인한 컴퓨터 사용의 패러다임 변화 전망································13\\n▹ 유튜브, 2024년부터 AI 생성 콘텐츠 표시 의무화····························································14\\n3. 기술/연구\\n▹ 영국 과학혁신기술부, AI 안전 연구소 설립 발표······························································15'), Document(id='0ff2c990-172f-4ead-adfc-cb1523472870', metadata={'source': 'data/SPRI_AI_Brief_2023년12월호_F.pdf', 'file_path': 'data/SPRI_AI_Brief_2023년12월호_F.pdf', 'page': 18, 'total_pages': 23, 'Author': 'dj', 'Creator': 'Hwp 2018 10.0.0.13462', 'Producer': 'Hancom PDF 1.3.0.542', 'CreationDate': \"D:20231208132838+09'00'\", 'ModDate': \"D:20231208132838+09'00'\", 'PDFVersion': '1.4'}, page_content='£챗GPT와 구글 바드와 같은 AI 챗봇은 범용 AI 1단계 수준\\nn 구글 딥마인드 연구진은 2023년 11월 4일 범용 AI(Artificial General Intelligence, AGI) 모델을 용도와\\n성능에 따라 분류하는 프레임워크를 제시한 논문을 발표\\n∙ 프레임워크의 목적은 AGI의 성능, 범용성, 자율성 수준을 정의하여 모델 간 비교와 위험 평가, AGI\\n달성까지의 진행 상황을 측정할 수 있는 공통 기준을 제공하기 위함\\nn 연구진은 AGI 개념 정의에 필요한 기준을 수립하기 위한 6가지 원칙을 아래와 같이 도출')]\n",
      "===== [RETRIEVE] retieve() 노드 실행 완료 =====\n",
      "==========================================================================================\n",
      "\n",
      "[node_name]: retrieve\n",
      "[node_chunk]:\n",
      " {'documents': [Document(id='f7333c74-5762-4bbe-9a80-af7ebde9a002', metadata={'source': 'data/SPRI_AI_Brief_2023년12월호_F.pdf', 'file_path': 'data/SPRI_AI_Brief_2023년12월호_F.pdf', 'page': 12, 'total_pages': 23, 'Author': 'dj', 'Creator': 'Hwp 2018 10.0.0.13462', 'Producer': 'Hancom PDF 1.3.0.542', 'CreationDate': \"D:20231208132838+09'00'\", 'ModDate': \"D:20231208132838+09'00'\", 'PDFVersion': '1.4'}, page_content='SPRi AI Brief |\\n2023-12월호\\n삼성전자, 자체 개발 생성 AI ‘삼성 가우스’ 공개\\nKEY Contents\\nn 삼성전자가 온디바이스에서 작동 가능하며 언어, 코드, 이미지의 3개 모델로 구성된 자체 개발 생성\\nAI 모델 ‘삼성 가우스’를 공개\\nn 삼성전자는 삼성 가우스를 다양한 제품에 단계적으로 탑재할 계획으로, 온디바이스 작동이 가능한\\n삼성 가우스는 외부로 사용자 정보가 유출될 위험이 없다는 장점을 보유\\n£언어, 코드, 이미지의 3개 모델로 구성된 삼성 가우스, 온디바이스 작동 지원'), Document(id='1c88b53b-549e-401e-8939-34a058a46e8f', metadata={'source': 'data/SPRI_AI_Brief_2023년12월호_F.pdf', 'file_path': 'data/SPRI_AI_Brief_2023년12월호_F.pdf', 'page': 1, 'total_pages': 23, 'Author': 'dj', 'Creator': 'Hwp 2018 10.0.0.13462', 'Producer': 'Hancom PDF 1.3.0.542', 'CreationDate': \"D:20231208132838+09'00'\", 'ModDate': \"D:20231208132838+09'00'\", 'PDFVersion': '1.4'}, page_content='▹ 삼성전자, 자체 개발 생성 AI ‘삼성 가우스’ 공개 ···························································10\\n▹ 구글, 앤스로픽에 20억 달러 투자로 생성 AI 협력 강화 ················································11\\n▹ IDC, 2027년 AI 소프트웨어 매출 2,500억 달러 돌파 전망···········································12'), Document(id='4bdcf464-36c7-49b7-a2b3-5e4aff575c2a', metadata={'source': 'data/SPRI_AI_Brief_2023년12월호_F.pdf', 'file_path': 'data/SPRI_AI_Brief_2023년12월호_F.pdf', 'page': 12, 'total_pages': 23, 'Author': 'dj', 'Creator': 'Hwp 2018 10.0.0.13462', 'Producer': 'Hancom PDF 1.3.0.542', 'CreationDate': \"D:20231208132838+09'00'\", 'ModDate': \"D:20231208132838+09'00'\", 'PDFVersion': '1.4'}, page_content='£언어, 코드, 이미지의 3개 모델로 구성된 삼성 가우스, 온디바이스 작동 지원\\nn 삼성전자가 2023년 11월 8일 열린 ‘삼성 AI 포럼 2023’ 행사에서 자체 개발한 생성 AI 모델\\n‘삼성 가우스’를 최초 공개\\n∙ 정규분포 이론을 정립한 천재 수학자 가우스(Gauss)의 이름을 본뜬 삼성 가우스는 다양한 상황에\\n최적화된 크기의 모델 선택이 가능\\n∙ 삼성 가우스는 라이선스나 개인정보를 침해하지 않는 안전한 데이터를 통해 학습되었으며,\\n온디바이스에서 작동하도록 설계되어 외부로 사용자의 정보가 유출되지 않는 장점을 보유'), Document(id='60ae2cfa-371a-4423-a24d-8b3907832cc5', metadata={'source': 'data/SPRI_AI_Brief_2023년12월호_F.pdf', 'file_path': 'data/SPRI_AI_Brief_2023년12월호_F.pdf', 'page': 12, 'total_pages': 23, 'Author': 'dj', 'Creator': 'Hwp 2018 10.0.0.13462', 'Producer': 'Hancom PDF 1.3.0.542', 'CreationDate': \"D:20231208132838+09'00'\", 'ModDate': \"D:20231208132838+09'00'\", 'PDFVersion': '1.4'}, page_content='어시스턴트를 적용한 구글 픽셀(Pixel)과 경쟁할 것으로 예상\\n☞ 출처 : 삼성전자, ‘삼성 AI 포럼’서 자체 개발 생성형 AI ‘삼성 가우스’ 공개, 2023.11.08.\\n삼성전자, ‘삼성 개발자 콘퍼런스 코리아 2023’ 개최, 2023.11.14.\\nTechRepublic, Samsung Gauss: Samsung Research Reveals Generative AI, 2023.11.08.\\n10'), Document(id='a503d3fa-453f-41fb-bd21-6b2f75aa990f', metadata={'source': 'data/SPRI_AI_Brief_2023년12월호_F.pdf', 'file_path': 'data/SPRI_AI_Brief_2023년12월호_F.pdf', 'page': 18, 'total_pages': 23, 'Author': 'dj', 'Creator': 'Hwp 2018 10.0.0.13462', 'Producer': 'Hancom PDF 1.3.0.542', 'CreationDate': \"D:20231208132838+09'00'\", 'ModDate': \"D:20231208132838+09'00'\", 'PDFVersion': '1.4'}, page_content='<구글 딥마인드의 범용 AI 분류 프레임워크>\\n성능 특수 AI 예시 범용 AI 예시\\n0단계: AI 아님 계산기 소프트웨어, 컴파일러 아마존 메커니컬 터크\\n1단계: 신진(숙련되지 않은 인간) GOFAI(Good Old Fashioned Artificial Intelligence) 챗GPT, 바드, 라마2\\n스마트 스피커(애플 시리, 아마존 알렉사, 구글\\n2단계: 유능(숙련된 인간의 50% 이상) 미달성\\n어시스턴트), IBM 왓슨\\n3단계: 전문가(숙련된 인간의 90% 이상) 문법 교정기(그래머리), 생성 이미지 모델(달리2) 미달성'), Document(id='dc52c5ab-4285-4a2c-b6f2-c5089e8f43f9', metadata={'source': 'data/SPRI_AI_Brief_2023년12월호_F.pdf', 'file_path': 'data/SPRI_AI_Brief_2023년12월호_F.pdf', 'page': 11, 'total_pages': 23, 'Author': 'dj', 'Creator': 'Hwp 2018 10.0.0.13462', 'Producer': 'Hancom PDF 1.3.0.542', 'CreationDate': \"D:20231208132838+09'00'\", 'ModDate': \"D:20231208132838+09'00'\", 'PDFVersion': '1.4'}, page_content='제작을 포함\\nn 알리바바 클라우드는 급증하는 생성 AI 수요에 대응해 모델 개발과 애플리케이션 구축 절차를\\n간소화하는 올인원 AI 모델 구축 플랫폼 ‘젠AI(GenAI)’도 공개\\n∙ 이 플랫폼은 데이터 관리, 모델 배포와 평가, 신속한 엔지니어링을 위한 종합 도구 모음을 제공하여\\n다양한 기업들이 맞춤형 AI 모델을 한층 쉽게 개발할 수 있도록 지원\\n∙ 생성 AI 개발에 필요한 컴퓨팅과 데이터 처리 요구사항을 지원하기 위해 AI 플랫폼(PAI),\\n데이터베이스 솔루션, 컨테이너 서비스와 같은 클라우드 신제품도 발표'), Document(id='d4c666e9-1666-4cae-a379-0a278f4f90d1', metadata={'source': 'data/SPRI_AI_Brief_2023년12월호_F.pdf', 'file_path': 'data/SPRI_AI_Brief_2023년12월호_F.pdf', 'page': 12, 'total_pages': 23, 'Author': 'dj', 'Creator': 'Hwp 2018 10.0.0.13462', 'Producer': 'Hancom PDF 1.3.0.542', 'CreationDate': \"D:20231208132838+09'00'\", 'ModDate': \"D:20231208132838+09'00'\", 'PDFVersion': '1.4'}, page_content='처리를 지원\\n∙ 코드 모델 기반의 AI 코딩 어시스턴트 ‘코드아이(code.i)’는 대화형 인터페이스로 서비스를 제공하며\\n사내 소프트웨어 개발에 최적화\\n∙ 이미지 모델은 창의적인 이미지를 생성하고 기존 이미지를 원하는 대로 바꿀 수 있도록 지원하며\\n저해상도 이미지의 고해상도 전환도 지원\\nn IT 전문지 테크리퍼블릭(TechRepublic)은 온디바이스 AI가 주요 기술 트렌드로 부상했다며,\\n2024년부터 가우스를 탑재한 삼성 스마트폰이 메타의 라마(Llama)2를 탑재한 퀄컴 기기 및 구글'), Document(id='3a6f8ff7-603d-428d-aea6-9ab69f4bac14', metadata={'source': 'data/SPRI_AI_Brief_2023년12월호_F.pdf', 'file_path': 'data/SPRI_AI_Brief_2023년12월호_F.pdf', 'page': 12, 'total_pages': 23, 'Author': 'dj', 'Creator': 'Hwp 2018 10.0.0.13462', 'Producer': 'Hancom PDF 1.3.0.542', 'CreationDate': \"D:20231208132838+09'00'\", 'ModDate': \"D:20231208132838+09'00'\", 'PDFVersion': '1.4'}, page_content='온디바이스에서 작동하도록 설계되어 외부로 사용자의 정보가 유출되지 않는 장점을 보유\\n∙ 삼성전자는 삼성 가우스를 활용한 온디바이스 AI 기술도 소개했으며, 생성 AI 모델을 다양한 제품에\\n단계적으로 탑재할 계획\\nn 삼성 가우스는 △텍스트를 생성하는 언어모델 △코드를 생성하는 코드 모델 △이미지를 생성하는\\n이미지 모델의 3개 모델로 구성\\n∙ 언어 모델은 클라우드와 온디바이스 대상 다양한 모델로 구성되며, 메일 작성, 문서 요약, 번역 업무의\\n처리를 지원'), Document(id='713bffeb-ec82-4f3c-bbe0-e18ca5d21dc8', metadata={'source': 'data/SPRI_AI_Brief_2023년12월호_F.pdf', 'file_path': 'data/SPRI_AI_Brief_2023년12월호_F.pdf', 'page': 1, 'total_pages': 23, 'Author': 'dj', 'Creator': 'Hwp 2018 10.0.0.13462', 'Producer': 'Hancom PDF 1.3.0.542', 'CreationDate': \"D:20231208132838+09'00'\", 'ModDate': \"D:20231208132838+09'00'\", 'PDFVersion': '1.4'}, page_content='▹ 빌 게이츠, AI 에이전트로 인한 컴퓨터 사용의 패러다임 변화 전망································13\\n▹ 유튜브, 2024년부터 AI 생성 콘텐츠 표시 의무화····························································14\\n3. 기술/연구\\n▹ 영국 과학혁신기술부, AI 안전 연구소 설립 발표······························································15'), Document(id='0ff2c990-172f-4ead-adfc-cb1523472870', metadata={'source': 'data/SPRI_AI_Brief_2023년12월호_F.pdf', 'file_path': 'data/SPRI_AI_Brief_2023년12월호_F.pdf', 'page': 18, 'total_pages': 23, 'Author': 'dj', 'Creator': 'Hwp 2018 10.0.0.13462', 'Producer': 'Hancom PDF 1.3.0.542', 'CreationDate': \"D:20231208132838+09'00'\", 'ModDate': \"D:20231208132838+09'00'\", 'PDFVersion': '1.4'}, page_content='£챗GPT와 구글 바드와 같은 AI 챗봇은 범용 AI 1단계 수준\\nn 구글 딥마인드 연구진은 2023년 11월 4일 범용 AI(Artificial General Intelligence, AGI) 모델을 용도와\\n성능에 따라 분류하는 프레임워크를 제시한 논문을 발표\\n∙ 프레임워크의 목적은 AGI의 성능, 범용성, 자율성 수준을 정의하여 모델 간 비교와 위험 평가, AGI\\n달성까지의 진행 상황을 측정할 수 있는 공통 기준을 제공하기 위함\\nn 연구진은 AGI 개념 정의에 필요한 기준을 수립하기 위한 6가지 원칙을 아래와 같이 도출')]}\n",
      "\n",
      "==========================================================================================\n",
      "===== [CHECK DOCUMENT RELEVANCE TO QUESTION] grade_documents() 함수 =====\n",
      "---GRADE: DOCUMENT RELEVANT---\n",
      "---GRADE: DOCUMENT RELEVANT---\n",
      "---GRADE: DOCUMENT RELEVANT---\n",
      "---GRADE: DOCUMENT RELEVANT---\n",
      "---GRADE: DOCUMENT NOT RELEVANT---\n",
      "---GRADE: DOCUMENT NOT RELEVANT---\n",
      "---GRADE: DOCUMENT RELEVANT---\n",
      "---GRADE: DOCUMENT RELEVANT---\n",
      "---GRADE: DOCUMENT NOT RELEVANT---\n",
      "---GRADE: DOCUMENT NOT RELEVANT---\n",
      "yes/no: No\n",
      "==========================================================================================\n",
      "\n",
      "\n",
      "==========================================================================================\n",
      "===== [ASSESS GRADED DOCUMENTS] decide_to_generate() 함수 =====\n",
      "==== [DECISION: GENERATE] ====\n",
      "generate\n",
      "==========================================================================================\n",
      "\n",
      "[node_name]: grade_documents\n",
      "[node_chunk]:\n",
      " {'documents': [Document(id='f7333c74-5762-4bbe-9a80-af7ebde9a002', metadata={'source': 'data/SPRI_AI_Brief_2023년12월호_F.pdf', 'file_path': 'data/SPRI_AI_Brief_2023년12월호_F.pdf', 'page': 12, 'total_pages': 23, 'Author': 'dj', 'Creator': 'Hwp 2018 10.0.0.13462', 'Producer': 'Hancom PDF 1.3.0.542', 'CreationDate': \"D:20231208132838+09'00'\", 'ModDate': \"D:20231208132838+09'00'\", 'PDFVersion': '1.4'}, page_content='SPRi AI Brief |\\n2023-12월호\\n삼성전자, 자체 개발 생성 AI ‘삼성 가우스’ 공개\\nKEY Contents\\nn 삼성전자가 온디바이스에서 작동 가능하며 언어, 코드, 이미지의 3개 모델로 구성된 자체 개발 생성\\nAI 모델 ‘삼성 가우스’를 공개\\nn 삼성전자는 삼성 가우스를 다양한 제품에 단계적으로 탑재할 계획으로, 온디바이스 작동이 가능한\\n삼성 가우스는 외부로 사용자 정보가 유출될 위험이 없다는 장점을 보유\\n£언어, 코드, 이미지의 3개 모델로 구성된 삼성 가우스, 온디바이스 작동 지원'), Document(id='1c88b53b-549e-401e-8939-34a058a46e8f', metadata={'source': 'data/SPRI_AI_Brief_2023년12월호_F.pdf', 'file_path': 'data/SPRI_AI_Brief_2023년12월호_F.pdf', 'page': 1, 'total_pages': 23, 'Author': 'dj', 'Creator': 'Hwp 2018 10.0.0.13462', 'Producer': 'Hancom PDF 1.3.0.542', 'CreationDate': \"D:20231208132838+09'00'\", 'ModDate': \"D:20231208132838+09'00'\", 'PDFVersion': '1.4'}, page_content='▹ 삼성전자, 자체 개발 생성 AI ‘삼성 가우스’ 공개 ···························································10\\n▹ 구글, 앤스로픽에 20억 달러 투자로 생성 AI 협력 강화 ················································11\\n▹ IDC, 2027년 AI 소프트웨어 매출 2,500억 달러 돌파 전망···········································12'), Document(id='4bdcf464-36c7-49b7-a2b3-5e4aff575c2a', metadata={'source': 'data/SPRI_AI_Brief_2023년12월호_F.pdf', 'file_path': 'data/SPRI_AI_Brief_2023년12월호_F.pdf', 'page': 12, 'total_pages': 23, 'Author': 'dj', 'Creator': 'Hwp 2018 10.0.0.13462', 'Producer': 'Hancom PDF 1.3.0.542', 'CreationDate': \"D:20231208132838+09'00'\", 'ModDate': \"D:20231208132838+09'00'\", 'PDFVersion': '1.4'}, page_content='£언어, 코드, 이미지의 3개 모델로 구성된 삼성 가우스, 온디바이스 작동 지원\\nn 삼성전자가 2023년 11월 8일 열린 ‘삼성 AI 포럼 2023’ 행사에서 자체 개발한 생성 AI 모델\\n‘삼성 가우스’를 최초 공개\\n∙ 정규분포 이론을 정립한 천재 수학자 가우스(Gauss)의 이름을 본뜬 삼성 가우스는 다양한 상황에\\n최적화된 크기의 모델 선택이 가능\\n∙ 삼성 가우스는 라이선스나 개인정보를 침해하지 않는 안전한 데이터를 통해 학습되었으며,\\n온디바이스에서 작동하도록 설계되어 외부로 사용자의 정보가 유출되지 않는 장점을 보유'), Document(id='60ae2cfa-371a-4423-a24d-8b3907832cc5', metadata={'source': 'data/SPRI_AI_Brief_2023년12월호_F.pdf', 'file_path': 'data/SPRI_AI_Brief_2023년12월호_F.pdf', 'page': 12, 'total_pages': 23, 'Author': 'dj', 'Creator': 'Hwp 2018 10.0.0.13462', 'Producer': 'Hancom PDF 1.3.0.542', 'CreationDate': \"D:20231208132838+09'00'\", 'ModDate': \"D:20231208132838+09'00'\", 'PDFVersion': '1.4'}, page_content='어시스턴트를 적용한 구글 픽셀(Pixel)과 경쟁할 것으로 예상\\n☞ 출처 : 삼성전자, ‘삼성 AI 포럼’서 자체 개발 생성형 AI ‘삼성 가우스’ 공개, 2023.11.08.\\n삼성전자, ‘삼성 개발자 콘퍼런스 코리아 2023’ 개최, 2023.11.14.\\nTechRepublic, Samsung Gauss: Samsung Research Reveals Generative AI, 2023.11.08.\\n10'), Document(id='d4c666e9-1666-4cae-a379-0a278f4f90d1', metadata={'source': 'data/SPRI_AI_Brief_2023년12월호_F.pdf', 'file_path': 'data/SPRI_AI_Brief_2023년12월호_F.pdf', 'page': 12, 'total_pages': 23, 'Author': 'dj', 'Creator': 'Hwp 2018 10.0.0.13462', 'Producer': 'Hancom PDF 1.3.0.542', 'CreationDate': \"D:20231208132838+09'00'\", 'ModDate': \"D:20231208132838+09'00'\", 'PDFVersion': '1.4'}, page_content='처리를 지원\\n∙ 코드 모델 기반의 AI 코딩 어시스턴트 ‘코드아이(code.i)’는 대화형 인터페이스로 서비스를 제공하며\\n사내 소프트웨어 개발에 최적화\\n∙ 이미지 모델은 창의적인 이미지를 생성하고 기존 이미지를 원하는 대로 바꿀 수 있도록 지원하며\\n저해상도 이미지의 고해상도 전환도 지원\\nn IT 전문지 테크리퍼블릭(TechRepublic)은 온디바이스 AI가 주요 기술 트렌드로 부상했다며,\\n2024년부터 가우스를 탑재한 삼성 스마트폰이 메타의 라마(Llama)2를 탑재한 퀄컴 기기 및 구글'), Document(id='3a6f8ff7-603d-428d-aea6-9ab69f4bac14', metadata={'source': 'data/SPRI_AI_Brief_2023년12월호_F.pdf', 'file_path': 'data/SPRI_AI_Brief_2023년12월호_F.pdf', 'page': 12, 'total_pages': 23, 'Author': 'dj', 'Creator': 'Hwp 2018 10.0.0.13462', 'Producer': 'Hancom PDF 1.3.0.542', 'CreationDate': \"D:20231208132838+09'00'\", 'ModDate': \"D:20231208132838+09'00'\", 'PDFVersion': '1.4'}, page_content='온디바이스에서 작동하도록 설계되어 외부로 사용자의 정보가 유출되지 않는 장점을 보유\\n∙ 삼성전자는 삼성 가우스를 활용한 온디바이스 AI 기술도 소개했으며, 생성 AI 모델을 다양한 제품에\\n단계적으로 탑재할 계획\\nn 삼성 가우스는 △텍스트를 생성하는 언어모델 △코드를 생성하는 코드 모델 △이미지를 생성하는\\n이미지 모델의 3개 모델로 구성\\n∙ 언어 모델은 클라우드와 온디바이스 대상 다양한 모델로 구성되며, 메일 작성, 문서 요약, 번역 업무의\\n처리를 지원')], 'web_search': 'No'}\n",
      "\n",
      "==========================================================================================\n",
      "===== [GENERATE] generate() 함수 =====\n",
      "사용자 질문: 삼성전자가 개발한 생성형 AI 의 이름은?\n",
      "문서 검색 결과:\n",
      "[Document(id='f7333c74-5762-4bbe-9a80-af7ebde9a002', metadata={'source': 'data/SPRI_AI_Brief_2023년12월호_F.pdf', 'file_path': 'data/SPRI_AI_Brief_2023년12월호_F.pdf', 'page': 12, 'total_pages': 23, 'Author': 'dj', 'Creator': 'Hwp 2018 10.0.0.13462', 'Producer': 'Hancom PDF 1.3.0.542', 'CreationDate': \"D:20231208132838+09'00'\", 'ModDate': \"D:20231208132838+09'00'\", 'PDFVersion': '1.4'}, page_content='SPRi AI Brief |\\n2023-12월호\\n삼성전자, 자체 개발 생성 AI ‘삼성 가우스’ 공개\\nKEY Contents\\nn 삼성전자가 온디바이스에서 작동 가능하며 언어, 코드, 이미지의 3개 모델로 구성된 자체 개발 생성\\nAI 모델 ‘삼성 가우스’를 공개\\nn 삼성전자는 삼성 가우스를 다양한 제품에 단계적으로 탑재할 계획으로, 온디바이스 작동이 가능한\\n삼성 가우스는 외부로 사용자 정보가 유출될 위험이 없다는 장점을 보유\\n£언어, 코드, 이미지의 3개 모델로 구성된 삼성 가우스, 온디바이스 작동 지원'), Document(id='1c88b53b-549e-401e-8939-34a058a46e8f', metadata={'source': 'data/SPRI_AI_Brief_2023년12월호_F.pdf', 'file_path': 'data/SPRI_AI_Brief_2023년12월호_F.pdf', 'page': 1, 'total_pages': 23, 'Author': 'dj', 'Creator': 'Hwp 2018 10.0.0.13462', 'Producer': 'Hancom PDF 1.3.0.542', 'CreationDate': \"D:20231208132838+09'00'\", 'ModDate': \"D:20231208132838+09'00'\", 'PDFVersion': '1.4'}, page_content='▹ 삼성전자, 자체 개발 생성 AI ‘삼성 가우스’ 공개 ···························································10\\n▹ 구글, 앤스로픽에 20억 달러 투자로 생성 AI 협력 강화 ················································11\\n▹ IDC, 2027년 AI 소프트웨어 매출 2,500억 달러 돌파 전망···········································12'), Document(id='4bdcf464-36c7-49b7-a2b3-5e4aff575c2a', metadata={'source': 'data/SPRI_AI_Brief_2023년12월호_F.pdf', 'file_path': 'data/SPRI_AI_Brief_2023년12월호_F.pdf', 'page': 12, 'total_pages': 23, 'Author': 'dj', 'Creator': 'Hwp 2018 10.0.0.13462', 'Producer': 'Hancom PDF 1.3.0.542', 'CreationDate': \"D:20231208132838+09'00'\", 'ModDate': \"D:20231208132838+09'00'\", 'PDFVersion': '1.4'}, page_content='£언어, 코드, 이미지의 3개 모델로 구성된 삼성 가우스, 온디바이스 작동 지원\\nn 삼성전자가 2023년 11월 8일 열린 ‘삼성 AI 포럼 2023’ 행사에서 자체 개발한 생성 AI 모델\\n‘삼성 가우스’를 최초 공개\\n∙ 정규분포 이론을 정립한 천재 수학자 가우스(Gauss)의 이름을 본뜬 삼성 가우스는 다양한 상황에\\n최적화된 크기의 모델 선택이 가능\\n∙ 삼성 가우스는 라이선스나 개인정보를 침해하지 않는 안전한 데이터를 통해 학습되었으며,\\n온디바이스에서 작동하도록 설계되어 외부로 사용자의 정보가 유출되지 않는 장점을 보유'), Document(id='60ae2cfa-371a-4423-a24d-8b3907832cc5', metadata={'source': 'data/SPRI_AI_Brief_2023년12월호_F.pdf', 'file_path': 'data/SPRI_AI_Brief_2023년12월호_F.pdf', 'page': 12, 'total_pages': 23, 'Author': 'dj', 'Creator': 'Hwp 2018 10.0.0.13462', 'Producer': 'Hancom PDF 1.3.0.542', 'CreationDate': \"D:20231208132838+09'00'\", 'ModDate': \"D:20231208132838+09'00'\", 'PDFVersion': '1.4'}, page_content='어시스턴트를 적용한 구글 픽셀(Pixel)과 경쟁할 것으로 예상\\n☞ 출처 : 삼성전자, ‘삼성 AI 포럼’서 자체 개발 생성형 AI ‘삼성 가우스’ 공개, 2023.11.08.\\n삼성전자, ‘삼성 개발자 콘퍼런스 코리아 2023’ 개최, 2023.11.14.\\nTechRepublic, Samsung Gauss: Samsung Research Reveals Generative AI, 2023.11.08.\\n10'), Document(id='d4c666e9-1666-4cae-a379-0a278f4f90d1', metadata={'source': 'data/SPRI_AI_Brief_2023년12월호_F.pdf', 'file_path': 'data/SPRI_AI_Brief_2023년12월호_F.pdf', 'page': 12, 'total_pages': 23, 'Author': 'dj', 'Creator': 'Hwp 2018 10.0.0.13462', 'Producer': 'Hancom PDF 1.3.0.542', 'CreationDate': \"D:20231208132838+09'00'\", 'ModDate': \"D:20231208132838+09'00'\", 'PDFVersion': '1.4'}, page_content='처리를 지원\\n∙ 코드 모델 기반의 AI 코딩 어시스턴트 ‘코드아이(code.i)’는 대화형 인터페이스로 서비스를 제공하며\\n사내 소프트웨어 개발에 최적화\\n∙ 이미지 모델은 창의적인 이미지를 생성하고 기존 이미지를 원하는 대로 바꿀 수 있도록 지원하며\\n저해상도 이미지의 고해상도 전환도 지원\\nn IT 전문지 테크리퍼블릭(TechRepublic)은 온디바이스 AI가 주요 기술 트렌드로 부상했다며,\\n2024년부터 가우스를 탑재한 삼성 스마트폰이 메타의 라마(Llama)2를 탑재한 퀄컴 기기 및 구글'), Document(id='3a6f8ff7-603d-428d-aea6-9ab69f4bac14', metadata={'source': 'data/SPRI_AI_Brief_2023년12월호_F.pdf', 'file_path': 'data/SPRI_AI_Brief_2023년12월호_F.pdf', 'page': 12, 'total_pages': 23, 'Author': 'dj', 'Creator': 'Hwp 2018 10.0.0.13462', 'Producer': 'Hancom PDF 1.3.0.542', 'CreationDate': \"D:20231208132838+09'00'\", 'ModDate': \"D:20231208132838+09'00'\", 'PDFVersion': '1.4'}, page_content='온디바이스에서 작동하도록 설계되어 외부로 사용자의 정보가 유출되지 않는 장점을 보유\\n∙ 삼성전자는 삼성 가우스를 활용한 온디바이스 AI 기술도 소개했으며, 생성 AI 모델을 다양한 제품에\\n단계적으로 탑재할 계획\\nn 삼성 가우스는 △텍스트를 생성하는 언어모델 △코드를 생성하는 코드 모델 △이미지를 생성하는\\n이미지 모델의 3개 모델로 구성\\n∙ 언어 모델은 클라우드와 온디바이스 대상 다양한 모델로 구성되며, 메일 작성, 문서 요약, 번역 업무의\\n처리를 지원')]\n",
      "\n",
      "rag 실행 결과:\n",
      "삼성전자가 공개한 생성 AI 모델 '삼성 가우스'는 언어, 코드, 이미지의 3개 모델로 구성되어 있으며, 온디바이스에서 작동하도록 설계되어 사용자 정보 유출 위험이 없습니다. 이 모델은 2023년 11월 8일 '삼성 AI 포럼 2023'에서 처음 공개되었습니다.\n",
      "\n",
      "**Source**\n",
      "- data/SPRI_AI_Brief_2023년12월호_F.pdf (page 12)\n",
      "\n",
      "==========================================================================================\n",
      "\n",
      "[node_name]: generate\n",
      "[node_chunk]:\n",
      " {'generation': \"삼성전자가 공개한 생성 AI 모델 '삼성 가우스'는 언어, 코드, 이미지의 3개 모델로 구성되어 있으며, 온디바이스에서 작동하도록 설계되어 사용자 정보 유출 위험이 없습니다. 이 모델은 2023년 11월 8일 '삼성 AI 포럼 2023'에서 처음 공개되었습니다.\\n\\n**Source**\\n- data/SPRI_AI_Brief_2023년12월호_F.pdf (page 12)\"}\n"
     ]
    }
   ],
   "source": [
    "from langchain_core.runnables import RunnableConfig\n",
    "from langchain_teddynote.messages import stream_graph, invoke_graph, random_uuid\n",
    "\n",
    "# config 설정(재귀 최대 횟수, thread_id)\n",
    "config = RunnableConfig(recursion_limit=20, configurable={\"thread_id\": random_uuid()})\n",
    "\n",
    "# 질문 입력\n",
    "inputs = {\n",
    "    \"question\": \"삼성전자가 개발한 생성형 AI 의 이름은?\",\n",
    "}\n",
    "\n",
    "for event in app.stream(inputs, config=config):\n",
    "    for node_name, node_chunk in event.items():\n",
    "        print('[node_name]:', node_name)\n",
    "        print('[node_chunk]:\\n', node_chunk)"
   ]
  },
  {
   "cell_type": "code",
   "execution_count": 95,
   "metadata": {},
   "outputs": [
    {
     "name": "stdout",
     "output_type": "stream",
     "text": [
      "\n",
      "==========================================================================================\n",
      "===== [RETRIEVE] retieve() 노드 실행 =====\n",
      "문서 검색 결과: \n",
      "[Document(id='f7333c74-5762-4bbe-9a80-af7ebde9a002', metadata={'source': 'data/SPRI_AI_Brief_2023년12월호_F.pdf', 'file_path': 'data/SPRI_AI_Brief_2023년12월호_F.pdf', 'page': 12, 'total_pages': 23, 'Author': 'dj', 'Creator': 'Hwp 2018 10.0.0.13462', 'Producer': 'Hancom PDF 1.3.0.542', 'CreationDate': \"D:20231208132838+09'00'\", 'ModDate': \"D:20231208132838+09'00'\", 'PDFVersion': '1.4'}, page_content='SPRi AI Brief |\\n2023-12월호\\n삼성전자, 자체 개발 생성 AI ‘삼성 가우스’ 공개\\nKEY Contents\\nn 삼성전자가 온디바이스에서 작동 가능하며 언어, 코드, 이미지의 3개 모델로 구성된 자체 개발 생성\\nAI 모델 ‘삼성 가우스’를 공개\\nn 삼성전자는 삼성 가우스를 다양한 제품에 단계적으로 탑재할 계획으로, 온디바이스 작동이 가능한\\n삼성 가우스는 외부로 사용자 정보가 유출될 위험이 없다는 장점을 보유\\n£언어, 코드, 이미지의 3개 모델로 구성된 삼성 가우스, 온디바이스 작동 지원'), Document(id='1c88b53b-549e-401e-8939-34a058a46e8f', metadata={'source': 'data/SPRI_AI_Brief_2023년12월호_F.pdf', 'file_path': 'data/SPRI_AI_Brief_2023년12월호_F.pdf', 'page': 1, 'total_pages': 23, 'Author': 'dj', 'Creator': 'Hwp 2018 10.0.0.13462', 'Producer': 'Hancom PDF 1.3.0.542', 'CreationDate': \"D:20231208132838+09'00'\", 'ModDate': \"D:20231208132838+09'00'\", 'PDFVersion': '1.4'}, page_content='▹ 삼성전자, 자체 개발 생성 AI ‘삼성 가우스’ 공개 ···························································10\\n▹ 구글, 앤스로픽에 20억 달러 투자로 생성 AI 협력 강화 ················································11\\n▹ IDC, 2027년 AI 소프트웨어 매출 2,500억 달러 돌파 전망···········································12'), Document(id='4bdcf464-36c7-49b7-a2b3-5e4aff575c2a', metadata={'source': 'data/SPRI_AI_Brief_2023년12월호_F.pdf', 'file_path': 'data/SPRI_AI_Brief_2023년12월호_F.pdf', 'page': 12, 'total_pages': 23, 'Author': 'dj', 'Creator': 'Hwp 2018 10.0.0.13462', 'Producer': 'Hancom PDF 1.3.0.542', 'CreationDate': \"D:20231208132838+09'00'\", 'ModDate': \"D:20231208132838+09'00'\", 'PDFVersion': '1.4'}, page_content='£언어, 코드, 이미지의 3개 모델로 구성된 삼성 가우스, 온디바이스 작동 지원\\nn 삼성전자가 2023년 11월 8일 열린 ‘삼성 AI 포럼 2023’ 행사에서 자체 개발한 생성 AI 모델\\n‘삼성 가우스’를 최초 공개\\n∙ 정규분포 이론을 정립한 천재 수학자 가우스(Gauss)의 이름을 본뜬 삼성 가우스는 다양한 상황에\\n최적화된 크기의 모델 선택이 가능\\n∙ 삼성 가우스는 라이선스나 개인정보를 침해하지 않는 안전한 데이터를 통해 학습되었으며,\\n온디바이스에서 작동하도록 설계되어 외부로 사용자의 정보가 유출되지 않는 장점을 보유'), Document(id='60ae2cfa-371a-4423-a24d-8b3907832cc5', metadata={'source': 'data/SPRI_AI_Brief_2023년12월호_F.pdf', 'file_path': 'data/SPRI_AI_Brief_2023년12월호_F.pdf', 'page': 12, 'total_pages': 23, 'Author': 'dj', 'Creator': 'Hwp 2018 10.0.0.13462', 'Producer': 'Hancom PDF 1.3.0.542', 'CreationDate': \"D:20231208132838+09'00'\", 'ModDate': \"D:20231208132838+09'00'\", 'PDFVersion': '1.4'}, page_content='어시스턴트를 적용한 구글 픽셀(Pixel)과 경쟁할 것으로 예상\\n☞ 출처 : 삼성전자, ‘삼성 AI 포럼’서 자체 개발 생성형 AI ‘삼성 가우스’ 공개, 2023.11.08.\\n삼성전자, ‘삼성 개발자 콘퍼런스 코리아 2023’ 개최, 2023.11.14.\\nTechRepublic, Samsung Gauss: Samsung Research Reveals Generative AI, 2023.11.08.\\n10'), Document(id='a503d3fa-453f-41fb-bd21-6b2f75aa990f', metadata={'source': 'data/SPRI_AI_Brief_2023년12월호_F.pdf', 'file_path': 'data/SPRI_AI_Brief_2023년12월호_F.pdf', 'page': 18, 'total_pages': 23, 'Author': 'dj', 'Creator': 'Hwp 2018 10.0.0.13462', 'Producer': 'Hancom PDF 1.3.0.542', 'CreationDate': \"D:20231208132838+09'00'\", 'ModDate': \"D:20231208132838+09'00'\", 'PDFVersion': '1.4'}, page_content='<구글 딥마인드의 범용 AI 분류 프레임워크>\\n성능 특수 AI 예시 범용 AI 예시\\n0단계: AI 아님 계산기 소프트웨어, 컴파일러 아마존 메커니컬 터크\\n1단계: 신진(숙련되지 않은 인간) GOFAI(Good Old Fashioned Artificial Intelligence) 챗GPT, 바드, 라마2\\n스마트 스피커(애플 시리, 아마존 알렉사, 구글\\n2단계: 유능(숙련된 인간의 50% 이상) 미달성\\n어시스턴트), IBM 왓슨\\n3단계: 전문가(숙련된 인간의 90% 이상) 문법 교정기(그래머리), 생성 이미지 모델(달리2) 미달성'), Document(id='dc52c5ab-4285-4a2c-b6f2-c5089e8f43f9', metadata={'source': 'data/SPRI_AI_Brief_2023년12월호_F.pdf', 'file_path': 'data/SPRI_AI_Brief_2023년12월호_F.pdf', 'page': 11, 'total_pages': 23, 'Author': 'dj', 'Creator': 'Hwp 2018 10.0.0.13462', 'Producer': 'Hancom PDF 1.3.0.542', 'CreationDate': \"D:20231208132838+09'00'\", 'ModDate': \"D:20231208132838+09'00'\", 'PDFVersion': '1.4'}, page_content='제작을 포함\\nn 알리바바 클라우드는 급증하는 생성 AI 수요에 대응해 모델 개발과 애플리케이션 구축 절차를\\n간소화하는 올인원 AI 모델 구축 플랫폼 ‘젠AI(GenAI)’도 공개\\n∙ 이 플랫폼은 데이터 관리, 모델 배포와 평가, 신속한 엔지니어링을 위한 종합 도구 모음을 제공하여\\n다양한 기업들이 맞춤형 AI 모델을 한층 쉽게 개발할 수 있도록 지원\\n∙ 생성 AI 개발에 필요한 컴퓨팅과 데이터 처리 요구사항을 지원하기 위해 AI 플랫폼(PAI),\\n데이터베이스 솔루션, 컨테이너 서비스와 같은 클라우드 신제품도 발표'), Document(id='d4c666e9-1666-4cae-a379-0a278f4f90d1', metadata={'source': 'data/SPRI_AI_Brief_2023년12월호_F.pdf', 'file_path': 'data/SPRI_AI_Brief_2023년12월호_F.pdf', 'page': 12, 'total_pages': 23, 'Author': 'dj', 'Creator': 'Hwp 2018 10.0.0.13462', 'Producer': 'Hancom PDF 1.3.0.542', 'CreationDate': \"D:20231208132838+09'00'\", 'ModDate': \"D:20231208132838+09'00'\", 'PDFVersion': '1.4'}, page_content='처리를 지원\\n∙ 코드 모델 기반의 AI 코딩 어시스턴트 ‘코드아이(code.i)’는 대화형 인터페이스로 서비스를 제공하며\\n사내 소프트웨어 개발에 최적화\\n∙ 이미지 모델은 창의적인 이미지를 생성하고 기존 이미지를 원하는 대로 바꿀 수 있도록 지원하며\\n저해상도 이미지의 고해상도 전환도 지원\\nn IT 전문지 테크리퍼블릭(TechRepublic)은 온디바이스 AI가 주요 기술 트렌드로 부상했다며,\\n2024년부터 가우스를 탑재한 삼성 스마트폰이 메타의 라마(Llama)2를 탑재한 퀄컴 기기 및 구글'), Document(id='3a6f8ff7-603d-428d-aea6-9ab69f4bac14', metadata={'source': 'data/SPRI_AI_Brief_2023년12월호_F.pdf', 'file_path': 'data/SPRI_AI_Brief_2023년12월호_F.pdf', 'page': 12, 'total_pages': 23, 'Author': 'dj', 'Creator': 'Hwp 2018 10.0.0.13462', 'Producer': 'Hancom PDF 1.3.0.542', 'CreationDate': \"D:20231208132838+09'00'\", 'ModDate': \"D:20231208132838+09'00'\", 'PDFVersion': '1.4'}, page_content='온디바이스에서 작동하도록 설계되어 외부로 사용자의 정보가 유출되지 않는 장점을 보유\\n∙ 삼성전자는 삼성 가우스를 활용한 온디바이스 AI 기술도 소개했으며, 생성 AI 모델을 다양한 제품에\\n단계적으로 탑재할 계획\\nn 삼성 가우스는 △텍스트를 생성하는 언어모델 △코드를 생성하는 코드 모델 △이미지를 생성하는\\n이미지 모델의 3개 모델로 구성\\n∙ 언어 모델은 클라우드와 온디바이스 대상 다양한 모델로 구성되며, 메일 작성, 문서 요약, 번역 업무의\\n처리를 지원'), Document(id='713bffeb-ec82-4f3c-bbe0-e18ca5d21dc8', metadata={'source': 'data/SPRI_AI_Brief_2023년12월호_F.pdf', 'file_path': 'data/SPRI_AI_Brief_2023년12월호_F.pdf', 'page': 1, 'total_pages': 23, 'Author': 'dj', 'Creator': 'Hwp 2018 10.0.0.13462', 'Producer': 'Hancom PDF 1.3.0.542', 'CreationDate': \"D:20231208132838+09'00'\", 'ModDate': \"D:20231208132838+09'00'\", 'PDFVersion': '1.4'}, page_content='▹ 빌 게이츠, AI 에이전트로 인한 컴퓨터 사용의 패러다임 변화 전망································13\\n▹ 유튜브, 2024년부터 AI 생성 콘텐츠 표시 의무화····························································14\\n3. 기술/연구\\n▹ 영국 과학혁신기술부, AI 안전 연구소 설립 발표······························································15'), Document(id='0ff2c990-172f-4ead-adfc-cb1523472870', metadata={'source': 'data/SPRI_AI_Brief_2023년12월호_F.pdf', 'file_path': 'data/SPRI_AI_Brief_2023년12월호_F.pdf', 'page': 18, 'total_pages': 23, 'Author': 'dj', 'Creator': 'Hwp 2018 10.0.0.13462', 'Producer': 'Hancom PDF 1.3.0.542', 'CreationDate': \"D:20231208132838+09'00'\", 'ModDate': \"D:20231208132838+09'00'\", 'PDFVersion': '1.4'}, page_content='£챗GPT와 구글 바드와 같은 AI 챗봇은 범용 AI 1단계 수준\\nn 구글 딥마인드 연구진은 2023년 11월 4일 범용 AI(Artificial General Intelligence, AGI) 모델을 용도와\\n성능에 따라 분류하는 프레임워크를 제시한 논문을 발표\\n∙ 프레임워크의 목적은 AGI의 성능, 범용성, 자율성 수준을 정의하여 모델 간 비교와 위험 평가, AGI\\n달성까지의 진행 상황을 측정할 수 있는 공통 기준을 제공하기 위함\\nn 연구진은 AGI 개념 정의에 필요한 기준을 수립하기 위한 6가지 원칙을 아래와 같이 도출')]\n",
      "===== [RETRIEVE] retieve() 노드 실행 완료 =====\n",
      "==========================================================================================\n",
      "\n",
      "\n",
      "==========================================================================================\n",
      "===== [CHECK DOCUMENT RELEVANCE TO QUESTION] grade_documents() 함수 =====\n",
      "\n",
      "==================================================\n",
      "🔄 Node: \u001b[1;36mgrade_documents\u001b[0m 🔄\n",
      "- - - - - - - - - - - - - - - - - - - - - - - - - \n",
      "{\"binary_score\":\"yes\"}---GRADE: DOCUMENT RELEVANT---\n",
      "{\"binary_score\":\"yes\"}---GRADE: DOCUMENT RELEVANT---\n",
      "{\"binary_score\":\"yes\"}---GRADE: DOCUMENT RELEVANT---\n",
      "{\"binary_score\":\"yes---GRADE: DOCUMENT RELEVANT---\n",
      "\"}{\"binary_score\":\"no\"}---GRADE: DOCUMENT NOT RELEVANT---\n",
      "{\"---GRADE: DOCUMENT NOT RELEVANT---\n",
      "binary_score\":\"no\"}{\"binary_score\":\"yes\"}---GRADE: DOCUMENT RELEVANT---\n",
      "{\"binary_score\":\"yes\"}---GRADE: DOCUMENT RELEVANT---\n",
      "{\"binary_score\":\"no\"}---GRADE: DOCUMENT NOT RELEVANT---\n",
      "{\"binary_score\":\"no\"}---GRADE: DOCUMENT NOT RELEVANT---\n",
      "yes/no: No\n",
      "==========================================================================================\n",
      "\n",
      "\n",
      "==========================================================================================\n",
      "===== [ASSESS GRADED DOCUMENTS] decide_to_generate() 함수 =====\n",
      "==== [DECISION: GENERATE] ====\n",
      "generate\n",
      "==========================================================================================\n",
      "\n",
      "\n",
      "==========================================================================================\n",
      "===== [GENERATE] generate() 함수 =====\n",
      "\n",
      "==================================================\n",
      "🔄 Node: \u001b[1;36mgenerate\u001b[0m 🔄\n",
      "- - - - - - - - - - - - - - - - - - - - - - - - - \n",
      "삼성전자가 공개한 생성 AI 모델 '삼성 가우스'는 언어, 코드, 이미지의 3개 모델로 구성되어 있으며, 온디바이스에서 작동하도록 설계되어 사용자 정보 유출 위험이 없습니다. 이 모델은 2023년 11월 8일 '삼성 AI 포럼 2023'에서 처음 공개되었습니다.\n",
      "\n",
      "**Source**\n",
      "- data/SPRI_AI_Brief_2023년12월호_F.pdf (page 12)사용자 질문: 삼성전자가 개발한 생성형 AI 의 이름은?\n",
      "문서 검색 결과:\n",
      "[Document(id='f7333c74-5762-4bbe-9a80-af7ebde9a002', metadata={'source': 'data/SPRI_AI_Brief_2023년12월호_F.pdf', 'file_path': 'data/SPRI_AI_Brief_2023년12월호_F.pdf', 'page': 12, 'total_pages': 23, 'Author': 'dj', 'Creator': 'Hwp 2018 10.0.0.13462', 'Producer': 'Hancom PDF 1.3.0.542', 'CreationDate': \"D:20231208132838+09'00'\", 'ModDate': \"D:20231208132838+09'00'\", 'PDFVersion': '1.4'}, page_content='SPRi AI Brief |\\n2023-12월호\\n삼성전자, 자체 개발 생성 AI ‘삼성 가우스’ 공개\\nKEY Contents\\nn 삼성전자가 온디바이스에서 작동 가능하며 언어, 코드, 이미지의 3개 모델로 구성된 자체 개발 생성\\nAI 모델 ‘삼성 가우스’를 공개\\nn 삼성전자는 삼성 가우스를 다양한 제품에 단계적으로 탑재할 계획으로, 온디바이스 작동이 가능한\\n삼성 가우스는 외부로 사용자 정보가 유출될 위험이 없다는 장점을 보유\\n£언어, 코드, 이미지의 3개 모델로 구성된 삼성 가우스, 온디바이스 작동 지원'), Document(id='1c88b53b-549e-401e-8939-34a058a46e8f', metadata={'source': 'data/SPRI_AI_Brief_2023년12월호_F.pdf', 'file_path': 'data/SPRI_AI_Brief_2023년12월호_F.pdf', 'page': 1, 'total_pages': 23, 'Author': 'dj', 'Creator': 'Hwp 2018 10.0.0.13462', 'Producer': 'Hancom PDF 1.3.0.542', 'CreationDate': \"D:20231208132838+09'00'\", 'ModDate': \"D:20231208132838+09'00'\", 'PDFVersion': '1.4'}, page_content='▹ 삼성전자, 자체 개발 생성 AI ‘삼성 가우스’ 공개 ···························································10\\n▹ 구글, 앤스로픽에 20억 달러 투자로 생성 AI 협력 강화 ················································11\\n▹ IDC, 2027년 AI 소프트웨어 매출 2,500억 달러 돌파 전망···········································12'), Document(id='4bdcf464-36c7-49b7-a2b3-5e4aff575c2a', metadata={'source': 'data/SPRI_AI_Brief_2023년12월호_F.pdf', 'file_path': 'data/SPRI_AI_Brief_2023년12월호_F.pdf', 'page': 12, 'total_pages': 23, 'Author': 'dj', 'Creator': 'Hwp 2018 10.0.0.13462', 'Producer': 'Hancom PDF 1.3.0.542', 'CreationDate': \"D:20231208132838+09'00'\", 'ModDate': \"D:20231208132838+09'00'\", 'PDFVersion': '1.4'}, page_content='£언어, 코드, 이미지의 3개 모델로 구성된 삼성 가우스, 온디바이스 작동 지원\\nn 삼성전자가 2023년 11월 8일 열린 ‘삼성 AI 포럼 2023’ 행사에서 자체 개발한 생성 AI 모델\\n‘삼성 가우스’를 최초 공개\\n∙ 정규분포 이론을 정립한 천재 수학자 가우스(Gauss)의 이름을 본뜬 삼성 가우스는 다양한 상황에\\n최적화된 크기의 모델 선택이 가능\\n∙ 삼성 가우스는 라이선스나 개인정보를 침해하지 않는 안전한 데이터를 통해 학습되었으며,\\n온디바이스에서 작동하도록 설계되어 외부로 사용자의 정보가 유출되지 않는 장점을 보유'), Document(id='60ae2cfa-371a-4423-a24d-8b3907832cc5', metadata={'source': 'data/SPRI_AI_Brief_2023년12월호_F.pdf', 'file_path': 'data/SPRI_AI_Brief_2023년12월호_F.pdf', 'page': 12, 'total_pages': 23, 'Author': 'dj', 'Creator': 'Hwp 2018 10.0.0.13462', 'Producer': 'Hancom PDF 1.3.0.542', 'CreationDate': \"D:20231208132838+09'00'\", 'ModDate': \"D:20231208132838+09'00'\", 'PDFVersion': '1.4'}, page_content='어시스턴트를 적용한 구글 픽셀(Pixel)과 경쟁할 것으로 예상\\n☞ 출처 : 삼성전자, ‘삼성 AI 포럼’서 자체 개발 생성형 AI ‘삼성 가우스’ 공개, 2023.11.08.\\n삼성전자, ‘삼성 개발자 콘퍼런스 코리아 2023’ 개최, 2023.11.14.\\nTechRepublic, Samsung Gauss: Samsung Research Reveals Generative AI, 2023.11.08.\\n10'), Document(id='d4c666e9-1666-4cae-a379-0a278f4f90d1', metadata={'source': 'data/SPRI_AI_Brief_2023년12월호_F.pdf', 'file_path': 'data/SPRI_AI_Brief_2023년12월호_F.pdf', 'page': 12, 'total_pages': 23, 'Author': 'dj', 'Creator': 'Hwp 2018 10.0.0.13462', 'Producer': 'Hancom PDF 1.3.0.542', 'CreationDate': \"D:20231208132838+09'00'\", 'ModDate': \"D:20231208132838+09'00'\", 'PDFVersion': '1.4'}, page_content='처리를 지원\\n∙ 코드 모델 기반의 AI 코딩 어시스턴트 ‘코드아이(code.i)’는 대화형 인터페이스로 서비스를 제공하며\\n사내 소프트웨어 개발에 최적화\\n∙ 이미지 모델은 창의적인 이미지를 생성하고 기존 이미지를 원하는 대로 바꿀 수 있도록 지원하며\\n저해상도 이미지의 고해상도 전환도 지원\\nn IT 전문지 테크리퍼블릭(TechRepublic)은 온디바이스 AI가 주요 기술 트렌드로 부상했다며,\\n2024년부터 가우스를 탑재한 삼성 스마트폰이 메타의 라마(Llama)2를 탑재한 퀄컴 기기 및 구글'), Document(id='3a6f8ff7-603d-428d-aea6-9ab69f4bac14', metadata={'source': 'data/SPRI_AI_Brief_2023년12월호_F.pdf', 'file_path': 'data/SPRI_AI_Brief_2023년12월호_F.pdf', 'page': 12, 'total_pages': 23, 'Author': 'dj', 'Creator': 'Hwp 2018 10.0.0.13462', 'Producer': 'Hancom PDF 1.3.0.542', 'CreationDate': \"D:20231208132838+09'00'\", 'ModDate': \"D:20231208132838+09'00'\", 'PDFVersion': '1.4'}, page_content='온디바이스에서 작동하도록 설계되어 외부로 사용자의 정보가 유출되지 않는 장점을 보유\\n∙ 삼성전자는 삼성 가우스를 활용한 온디바이스 AI 기술도 소개했으며, 생성 AI 모델을 다양한 제품에\\n단계적으로 탑재할 계획\\nn 삼성 가우스는 △텍스트를 생성하는 언어모델 △코드를 생성하는 코드 모델 △이미지를 생성하는\\n이미지 모델의 3개 모델로 구성\\n∙ 언어 모델은 클라우드와 온디바이스 대상 다양한 모델로 구성되며, 메일 작성, 문서 요약, 번역 업무의\\n처리를 지원')]\n",
      "\n",
      "rag 실행 결과:\n",
      "삼성전자가 공개한 생성 AI 모델 '삼성 가우스'는 언어, 코드, 이미지의 3개 모델로 구성되어 있으며, 온디바이스에서 작동하도록 설계되어 사용자 정보 유출 위험이 없습니다. 이 모델은 2023년 11월 8일 '삼성 AI 포럼 2023'에서 처음 공개되었습니다.\n",
      "\n",
      "**Source**\n",
      "- data/SPRI_AI_Brief_2023년12월호_F.pdf (page 12)\n",
      "\n",
      "==========================================================================================\n",
      "\n"
     ]
    }
   ],
   "source": [
    "config = RunnableConfig(recursion_limit=20, configurable={\"thread_id\": random_uuid()})\n",
    "\n",
    "# 질문 입력\n",
    "inputs = {\n",
    "    \"question\": \"삼성전자가 개발한 생성형 AI 의 이름은?\",\n",
    "}\n",
    "\n",
    "# 스트리밍 형식으로 그래프 실행\n",
    "stream_graph(\n",
    "    app,\n",
    "    inputs,\n",
    "    config,\n",
    "    [\"retrieve\", \"grade_documents\", \"query_rewrite\", \"web_search_node\", \"generate\"],\n",
    ")"
   ]
  },
  {
   "cell_type": "code",
   "execution_count": null,
   "metadata": {},
   "outputs": [
    {
     "name": "stdout",
     "output_type": "stream",
     "text": [
      "\n",
      "==========================================================================================\n",
      "===== [RETRIEVE] retieve() 노드 실행 =====\n",
      "문서 검색 결과: \n",
      "[Document(id='e803c393-8124-4669-8169-b347113c68a9', metadata={'source': 'data/SPRI_AI_Brief_2023년12월호_F.pdf', 'file_path': 'data/SPRI_AI_Brief_2023년12월호_F.pdf', 'page': 21, 'total_pages': 23, 'Author': 'dj', 'Creator': 'Hwp 2018 10.0.0.13462', 'Producer': 'Hancom PDF 1.3.0.542', 'CreationDate': \"D:20231208132838+09'00'\", 'ModDate': \"D:20231208132838+09'00'\", 'PDFVersion': '1.4'}, page_content='CES 2024\\n이번 전시에는 500곳 이상의 한국기업 참가 예정\\n기간 장소 홈페이지\\n2024.1.9~12 미국, 라스베가스 https://www.ces.tech/\\n- 머신러닝 및 응용에 관한 국제 컨퍼런스(AIMLA 2024)는\\n인공지능 및 머신러닝의 이론, 방법론 및 실용적 접근에 관한\\n지식과 최신 연구 결과 공유\\n- 이론 및 실무 측면에서 인공지능, 기계학습의 주요 분야를\\n논의하고, 학계, 산업계의 연구자와 실무자들에게 해당 분\\nAIMLA 2024\\n야의 최첨단 개발 소식 공유\\n기간 장소 홈페이지'), Document(id='5e3463ba-a051-4b32-9542-d92031456d8f', metadata={'source': 'data/SPRI_AI_Brief_2023년12월호_F.pdf', 'file_path': 'data/SPRI_AI_Brief_2023년12월호_F.pdf', 'page': 5, 'total_pages': 23, 'Author': 'dj', 'Creator': 'Hwp 2018 10.0.0.13462', 'Producer': 'Hancom PDF 1.3.0.542', 'CreationDate': \"D:20231208132838+09'00'\", 'ModDate': \"D:20231208132838+09'00'\", 'PDFVersion': '1.4'}, page_content='n 참가국들은 튜링상을 수상한 AI 학자인 요슈아 벤지오 교수가 주도하는 ‘과학의 현황(State of\\nthe Science)’ 보고서 작성에도 합의했으며, 보고서를 통해 첨단 AI의 위험과 가능성에 관한\\n기존 연구를 과학적으로 평가하고 향후 AI 안전 연구를 위한 우선순위를 제시할 계획\\nn 한국은 영국 정부와 6개월 뒤에 온라인으로 AI 미니 정상회의를 공동 개최하기로 합의했으며,\\n프랑스 정부와는 1년 후 대면 정상회의를 개최할 예정'), Document(id='d890a7fa-3f34-4f77-ac3e-92a13c9085a1', metadata={'source': 'data/SPRI_AI_Brief_2023년12월호_F.pdf', 'file_path': 'data/SPRI_AI_Brief_2023년12월호_F.pdf', 'page': 6, 'total_pages': 23, 'Author': 'dj', 'Creator': 'Hwp 2018 10.0.0.13462', 'Producer': 'Hancom PDF 1.3.0.542', 'CreationDate': \"D:20231208132838+09'00'\", 'ModDate': \"D:20231208132838+09'00'\", 'PDFVersion': '1.4'}, page_content='£예술가들의 AI 저작권 침해 소송, 저작권 미등록과 증거불충분으로 기각\\nn 미국 캘리포니아 북부지방법원의 윌리엄 오릭(William Orrick) 판사는 2023년 10월 30일 미드저니\\n(Midjourney), 스태빌리티AI(Stability AI), 디비언트아트(DeviantArt)에 제기된 저작권 침해 소송을 기각\\n∙ 2023년 1월 예술가 사라 앤더슨(Sarah Anderson), 캘리 맥커넌(Kelly McKernan), 칼라'), Document(id='36a5833f-98ff-46d7-add9-17cc8e7c6f01', metadata={'source': 'data/SPRI_AI_Brief_2023년12월호_F.pdf', 'file_path': 'data/SPRI_AI_Brief_2023년12월호_F.pdf', 'page': 20, 'total_pages': 23, 'Author': 'dj', 'Creator': 'Hwp 2018 10.0.0.13462', 'Producer': 'Hancom PDF 1.3.0.542', 'CreationDate': \"D:20231208132838+09'00'\", 'ModDate': \"D:20231208132838+09'00'\", 'PDFVersion': '1.4'}, page_content='£AI 기술 중 머신러닝, 텐서플로우, 딥러닝의 임금 프리미엄이 높게 평가\\nn 옥스퍼드 인터넷 연구소(Oxford Internet Institute)가 2023년 10월 24일 962개 기술과 2만 5천\\n명을 대상으로 한 연구에서 AI를 포함한 주요 기술의 경제적 가치를 분석한 결과를 발표\\n∙ 연구에 따르면 한 기술의 경제적 가치는 근로자의 여타 역량과 얼마나 잘 결합하는지를 보여주는\\n‘상보성(complementarity)’에 따라 결정됨'), Document(id='54a54080-50f9-4f3c-813f-a493a9227094', metadata={'source': 'data/SPRI_AI_Brief_2023년12월호_F.pdf', 'file_path': 'data/SPRI_AI_Brief_2023년12월호_F.pdf', 'page': 6, 'total_pages': 23, 'Author': 'dj', 'Creator': 'Hwp 2018 10.0.0.13462', 'Producer': 'Hancom PDF 1.3.0.542', 'CreationDate': \"D:20231208132838+09'00'\", 'ModDate': \"D:20231208132838+09'00'\", 'PDFVersion': '1.4'}, page_content='오르티즈(Karla Ortiz)는 이미지 생성 AI 서비스를 개발한 3개 기업을 상대로 저작권 침해 소송을 제기\\n∙ 예술가들은 3개 기업이 AI 모델을 학습시키기 위해 원작자 동의 없이 작품을 학습 데이터셋에\\n포함하여 저작권을 침해했다고 주장했으며, 법원은 지난 4월 피소 기업들이 제출한 기각 신청을\\n수용해 소송을 기각\\nn 오릭 판사는 판결문에서 소송을 기각한 핵심 이유로 예술가들의 저작권 미등록을 제시\\n∙ 판결문은 소송을 제기한 캘리 맥커넌과 칼라 오르티즈가 미국 저작권청에 예술 작품에 대한 저작권을'), Document(id='21728617-649b-4187-952d-fb084681fc1c', metadata={'source': 'data/SPRI_AI_Brief_2023년12월호_F.pdf', 'file_path': 'data/SPRI_AI_Brief_2023년12월호_F.pdf', 'page': 1, 'total_pages': 23, 'Author': 'dj', 'Creator': 'Hwp 2018 10.0.0.13462', 'Producer': 'Hancom PDF 1.3.0.542', 'CreationDate': \"D:20231208132838+09'00'\", 'ModDate': \"D:20231208132838+09'00'\", 'PDFVersion': '1.4'}, page_content='▹ 구글 딥마인드, 범용 AI 모델의 기능과 동작에 대한 분류 체계 발표······························16\\n▹ 갈릴레오의 LLM 환각 지수 평가에서 GPT-4가 가장 우수 ···········································17\\n4. 인력/교육\\n▹ 영국 옥스퍼드 인터넷 연구소, AI 기술자의 임금이 평균 21% 높아·······························18\\nⅡ\\n. 주요 행사'), Document(id='7d34f7dc-71ea-44f8-9471-55a088d02028', metadata={'source': 'data/SPRI_AI_Brief_2023년12월호_F.pdf', 'file_path': 'data/SPRI_AI_Brief_2023년12월호_F.pdf', 'page': 6, 'total_pages': 23, 'Author': 'dj', 'Creator': 'Hwp 2018 10.0.0.13462', 'Producer': 'Hancom PDF 1.3.0.542', 'CreationDate': \"D:20231208132838+09'00'\", 'ModDate': \"D:20231208132838+09'00'\", 'PDFVersion': '1.4'}, page_content='소송은 인정되어 계속 진행됨\\n☞ 출처: Venturebeat, Midjourney, Stability AI and DeviantArt win a victory in copyright case by artists- but the\\nfight continues, 2023.10.30.\\n4'), Document(id='a0f15ef1-1c5d-4ec2-be03-d36bf71a1440', metadata={'source': 'data/SPRI_AI_Brief_2023년12월호_F.pdf', 'file_path': 'data/SPRI_AI_Brief_2023년12월호_F.pdf', 'page': 9, 'total_pages': 23, 'Author': 'dj', 'Creator': 'Hwp 2018 10.0.0.13462', 'Producer': 'Hancom PDF 1.3.0.542', 'CreationDate': \"D:20231208132838+09'00'\", 'ModDate': \"D:20231208132838+09'00'\", 'PDFVersion': '1.4'}, page_content='달 안에 기금 지원을 위한 제안 요청을 받을 계획\\nn 프런티어 모델 포럼은 출범 이후 업계 전반에 걸쳐 AI 레드팀 구성에 관한 모범사례 공유를 추진하는\\n한편, 첨단 AI 모델의 취약점이나 잠재적으로 위험한 기능 및 위험 완화 관련 정보를 공유할 수\\n있는 공개 절차도 개발 중\\n☞ 출처: Google, Anthropic, Google, Microsoft and OpenAI announce Executive Director of the Frontier Model'), Document(id='2f7f8dfe-7c05-42ec-86c6-a078a418be88', metadata={'source': 'data/SPRI_AI_Brief_2023년12월호_F.pdf', 'file_path': 'data/SPRI_AI_Brief_2023년12월호_F.pdf', 'page': 0, 'total_pages': 23, 'Author': 'dj', 'Creator': 'Hwp 2018 10.0.0.13462', 'Producer': 'Hancom PDF 1.3.0.542', 'CreationDate': \"D:20231208132838+09'00'\", 'ModDate': \"D:20231208132838+09'00'\", 'PDFVersion': '1.4'}, page_content='12\\n2023년 월호'), Document(id='2fa7e1c6-5810-481f-805c-42d56f20d80e', metadata={'source': 'data/SPRI_AI_Brief_2023년12월호_F.pdf', 'file_path': 'data/SPRI_AI_Brief_2023년12월호_F.pdf', 'page': 9, 'total_pages': 23, 'Author': 'dj', 'Creator': 'Hwp 2018 10.0.0.13462', 'Producer': 'Hancom PDF 1.3.0.542', 'CreationDate': \"D:20231208132838+09'00'\", 'ModDate': \"D:20231208132838+09'00'\", 'PDFVersion': '1.4'}, page_content='1,000만 달러 이상을 기부\\n∙ 또한 신기술의 거버넌스와 안전 분야에서 전문성을 갖춘 브루킹스 연구소 출신의 크리스 메서롤(Chris\\nMeserole)을 포럼의 상무이사로 임명\\nn 최근 AI 기술이 급속히 발전하면서 AI 안전에 관한 연구가 부족한 시점에, 포럼은 이러한 격차를 해소\\n하기 위해 AI 안전 기금을 조성\\n∙ 참여사들은 지난 7월 백악관 주재의 AI 안전 서약에서 외부자의 AI 시스템 취약점 발견과 신고를\\n촉진하기로 약속했으며, 약속을 이행하기 위해 기금을 활용해 외부 연구집단의 AI 시스템 평가에\\n자금을 지원할 계획')]\n",
      "===== [RETRIEVE] retieve() 노드 실행 완료 =====\n",
      "==========================================================================================\n",
      "\n",
      "\n",
      "==================================================\n",
      "🔄 Node: \u001b[1;36mretrieve\u001b[0m 🔄\n",
      "- - - - - - - - - - - - - - - - - - - - - - - - - \n",
      "page_content='CES 2024\n",
      "이번 전시에는 500곳 이상의 한국기업 참가 예정\n",
      "기간 장소 홈페이지\n",
      "2024.1.9~12 미국, 라스베가스 https://www.ces.tech/\n",
      "- 머신러닝 및 응용에 관한 국제 컨퍼런스(AIMLA 2024)는\n",
      "인공지능 및 머신러닝의 이론, 방법론 및 실용적 접근에 관한\n",
      "지식과 최신 연구 결과 공유\n",
      "- 이론 및 실무 측면에서 인공지능, 기계학습의 주요 분야를\n",
      "논의하고, 학계, 산업계의 연구자와 실무자들에게 해당 분\n",
      "AIMLA 2024\n",
      "야의 최첨단 개발 소식 공유\n",
      "기간 장소 홈페이지' metadata={'source': 'data/SPRI_AI_Brief_2023년12월호_F.pdf', 'file_path': 'data/SPRI_AI_Brief_2023년12월호_F.pdf', 'page': 21, 'total_pages': 23, 'Author': 'dj', 'Creator': 'Hwp 2018 10.0.0.13462', 'Producer': 'Hancom PDF 1.3.0.542', 'CreationDate': \"D:20231208132838+09'00'\", 'ModDate': \"D:20231208132838+09'00'\", 'PDFVersion': '1.4'}\n",
      "page_content='n 참가국들은 튜링상을 수상한 AI 학자인 요슈아 벤지오 교수가 주도하는 ‘과학의 현황(State of\n",
      "the Science)’ 보고서 작성에도 합의했으며, 보고서를 통해 첨단 AI의 위험과 가능성에 관한\n",
      "기존 연구를 과학적으로 평가하고 향후 AI 안전 연구를 위한 우선순위를 제시할 계획\n",
      "n 한국은 영국 정부와 6개월 뒤에 온라인으로 AI 미니 정상회의를 공동 개최하기로 합의했으며,\n",
      "프랑스 정부와는 1년 후 대면 정상회의를 개최할 예정' metadata={'source': 'data/SPRI_AI_Brief_2023년12월호_F.pdf', 'file_path': 'data/SPRI_AI_Brief_2023년12월호_F.pdf', 'page': 5, 'total_pages': 23, 'Author': 'dj', 'Creator': 'Hwp 2018 10.0.0.13462', 'Producer': 'Hancom PDF 1.3.0.542', 'CreationDate': \"D:20231208132838+09'00'\", 'ModDate': \"D:20231208132838+09'00'\", 'PDFVersion': '1.4'}\n",
      "page_content='£예술가들의 AI 저작권 침해 소송, 저작권 미등록과 증거불충분으로 기각\n",
      "n 미국 캘리포니아 북부지방법원의 윌리엄 오릭(William Orrick) 판사는 2023년 10월 30일 미드저니\n",
      "(Midjourney), 스태빌리티AI(Stability AI), 디비언트아트(DeviantArt)에 제기된 저작권 침해 소송을 기각\n",
      "∙ 2023년 1월 예술가 사라 앤더슨(Sarah Anderson), 캘리 맥커넌(Kelly McKernan), 칼라' metadata={'source': 'data/SPRI_AI_Brief_2023년12월호_F.pdf', 'file_path': 'data/SPRI_AI_Brief_2023년12월호_F.pdf', 'page': 6, 'total_pages': 23, 'Author': 'dj', 'Creator': 'Hwp 2018 10.0.0.13462', 'Producer': 'Hancom PDF 1.3.0.542', 'CreationDate': \"D:20231208132838+09'00'\", 'ModDate': \"D:20231208132838+09'00'\", 'PDFVersion': '1.4'}\n",
      "page_content='£AI 기술 중 머신러닝, 텐서플로우, 딥러닝의 임금 프리미엄이 높게 평가\n",
      "n 옥스퍼드 인터넷 연구소(Oxford Internet Institute)가 2023년 10월 24일 962개 기술과 2만 5천\n",
      "명을 대상으로 한 연구에서 AI를 포함한 주요 기술의 경제적 가치를 분석한 결과를 발표\n",
      "∙ 연구에 따르면 한 기술의 경제적 가치는 근로자의 여타 역량과 얼마나 잘 결합하는지를 보여주는\n",
      "‘상보성(complementarity)’에 따라 결정됨' metadata={'source': 'data/SPRI_AI_Brief_2023년12월호_F.pdf', 'file_path': 'data/SPRI_AI_Brief_2023년12월호_F.pdf', 'page': 20, 'total_pages': 23, 'Author': 'dj', 'Creator': 'Hwp 2018 10.0.0.13462', 'Producer': 'Hancom PDF 1.3.0.542', 'CreationDate': \"D:20231208132838+09'00'\", 'ModDate': \"D:20231208132838+09'00'\", 'PDFVersion': '1.4'}\n",
      "page_content='오르티즈(Karla Ortiz)는 이미지 생성 AI 서비스를 개발한 3개 기업을 상대로 저작권 침해 소송을 제기\n",
      "∙ 예술가들은 3개 기업이 AI 모델을 학습시키기 위해 원작자 동의 없이 작품을 학습 데이터셋에\n",
      "포함하여 저작권을 침해했다고 주장했으며, 법원은 지난 4월 피소 기업들이 제출한 기각 신청을\n",
      "수용해 소송을 기각\n",
      "n 오릭 판사는 판결문에서 소송을 기각한 핵심 이유로 예술가들의 저작권 미등록을 제시\n",
      "∙ 판결문은 소송을 제기한 캘리 맥커넌과 칼라 오르티즈가 미국 저작권청에 예술 작품에 대한 저작권을' metadata={'source': 'data/SPRI_AI_Brief_2023년12월호_F.pdf', 'file_path': 'data/SPRI_AI_Brief_2023년12월호_F.pdf', 'page': 6, 'total_pages': 23, 'Author': 'dj', 'Creator': 'Hwp 2018 10.0.0.13462', 'Producer': 'Hancom PDF 1.3.0.542', 'CreationDate': \"D:20231208132838+09'00'\", 'ModDate': \"D:20231208132838+09'00'\", 'PDFVersion': '1.4'}\n",
      "page_content='▹ 구글 딥마인드, 범용 AI 모델의 기능과 동작에 대한 분류 체계 발표······························16\n",
      "▹ 갈릴레오의 LLM 환각 지수 평가에서 GPT-4가 가장 우수 ···········································17\n",
      "4. 인력/교육\n",
      "▹ 영국 옥스퍼드 인터넷 연구소, AI 기술자의 임금이 평균 21% 높아·······························18\n",
      "Ⅱ\n",
      ". 주요 행사' metadata={'source': 'data/SPRI_AI_Brief_2023년12월호_F.pdf', 'file_path': 'data/SPRI_AI_Brief_2023년12월호_F.pdf', 'page': 1, 'total_pages': 23, 'Author': 'dj', 'Creator': 'Hwp 2018 10.0.0.13462', 'Producer': 'Hancom PDF 1.3.0.542', 'CreationDate': \"D:20231208132838+09'00'\", 'ModDate': \"D:20231208132838+09'00'\", 'PDFVersion': '1.4'}\n",
      "page_content='소송은 인정되어 계속 진행됨\n",
      "☞ 출처: Venturebeat, Midjourney, Stability AI and DeviantArt win a victory in copyright case by artists- but the\n",
      "fight continues, 2023.10.30.\n",
      "4' metadata={'source': 'data/SPRI_AI_Brief_2023년12월호_F.pdf', 'file_path': 'data/SPRI_AI_Brief_2023년12월호_F.pdf', 'page': 6, 'total_pages': 23, 'Author': 'dj', 'Creator': 'Hwp 2018 10.0.0.13462', 'Producer': 'Hancom PDF 1.3.0.542', 'CreationDate': \"D:20231208132838+09'00'\", 'ModDate': \"D:20231208132838+09'00'\", 'PDFVersion': '1.4'}\n",
      "page_content='달 안에 기금 지원을 위한 제안 요청을 받을 계획\n",
      "n 프런티어 모델 포럼은 출범 이후 업계 전반에 걸쳐 AI 레드팀 구성에 관한 모범사례 공유를 추진하는\n",
      "한편, 첨단 AI 모델의 취약점이나 잠재적으로 위험한 기능 및 위험 완화 관련 정보를 공유할 수\n",
      "있는 공개 절차도 개발 중\n",
      "☞ 출처: Google, Anthropic, Google, Microsoft and OpenAI announce Executive Director of the Frontier Model' metadata={'source': 'data/SPRI_AI_Brief_2023년12월호_F.pdf', 'file_path': 'data/SPRI_AI_Brief_2023년12월호_F.pdf', 'page': 9, 'total_pages': 23, 'Author': 'dj', 'Creator': 'Hwp 2018 10.0.0.13462', 'Producer': 'Hancom PDF 1.3.0.542', 'CreationDate': \"D:20231208132838+09'00'\", 'ModDate': \"D:20231208132838+09'00'\", 'PDFVersion': '1.4'}\n",
      "page_content='12\n",
      "2023년 월호' metadata={'source': 'data/SPRI_AI_Brief_2023년12월호_F.pdf', 'file_path': 'data/SPRI_AI_Brief_2023년12월호_F.pdf', 'page': 0, 'total_pages': 23, 'Author': 'dj', 'Creator': 'Hwp 2018 10.0.0.13462', 'Producer': 'Hancom PDF 1.3.0.542', 'CreationDate': \"D:20231208132838+09'00'\", 'ModDate': \"D:20231208132838+09'00'\", 'PDFVersion': '1.4'}\n",
      "page_content='1,000만 달러 이상을 기부\n",
      "∙ 또한 신기술의 거버넌스와 안전 분야에서 전문성을 갖춘 브루킹스 연구소 출신의 크리스 메서롤(Chris\n",
      "Meserole)을 포럼의 상무이사로 임명\n",
      "n 최근 AI 기술이 급속히 발전하면서 AI 안전에 관한 연구가 부족한 시점에, 포럼은 이러한 격차를 해소\n",
      "하기 위해 AI 안전 기금을 조성\n",
      "∙ 참여사들은 지난 7월 백악관 주재의 AI 안전 서약에서 외부자의 AI 시스템 취약점 발견과 신고를\n",
      "촉진하기로 약속했으며, 약속을 이행하기 위해 기금을 활용해 외부 연구집단의 AI 시스템 평가에\n",
      "자금을 지원할 계획' metadata={'source': 'data/SPRI_AI_Brief_2023년12월호_F.pdf', 'file_path': 'data/SPRI_AI_Brief_2023년12월호_F.pdf', 'page': 9, 'total_pages': 23, 'Author': 'dj', 'Creator': 'Hwp 2018 10.0.0.13462', 'Producer': 'Hancom PDF 1.3.0.542', 'CreationDate': \"D:20231208132838+09'00'\", 'ModDate': \"D:20231208132838+09'00'\", 'PDFVersion': '1.4'}\n",
      "==================================================\n",
      "\n",
      "==========================================================================================\n",
      "===== [CHECK DOCUMENT RELEVANCE TO QUESTION] grade_documents() 함수 =====\n",
      "---GRADE: DOCUMENT NOT RELEVANT---\n",
      "---GRADE: DOCUMENT NOT RELEVANT---\n",
      "---GRADE: DOCUMENT NOT RELEVANT---\n",
      "---GRADE: DOCUMENT NOT RELEVANT---\n",
      "---GRADE: DOCUMENT NOT RELEVANT---\n",
      "---GRADE: DOCUMENT NOT RELEVANT---\n",
      "---GRADE: DOCUMENT NOT RELEVANT---\n",
      "---GRADE: DOCUMENT NOT RELEVANT---\n",
      "---GRADE: DOCUMENT NOT RELEVANT---\n",
      "---GRADE: DOCUMENT NOT RELEVANT---\n",
      "yes/no: Yes\n",
      "==========================================================================================\n",
      "\n",
      "\n",
      "==========================================================================================\n",
      "===== [ASSESS GRADED DOCUMENTS] decide_to_generate() 함수 =====\n",
      "==== [DECISION: ALL DOCUMENTS ARE NOT RELEVANT TO QUESTION, QUERY REWRITE] ====\n",
      "query_rewrite\n",
      "==========================================================================================\n",
      "\n",
      "\n",
      "==================================================\n",
      "🔄 Node: \u001b[1;36mgrade_documents\u001b[0m 🔄\n",
      "- - - - - - - - - - - - - - - - - - - - - - - - - \n",
      "\u001b[1;32mweb_search\u001b[0m:\n",
      "Yes\n",
      "==================================================\n",
      "\n",
      "==========================================================================================\n",
      "===== [TRANSFORM QUERY] query_rewrite() 함수 =====\n",
      "better_question: 2024년 노벨 문학상 수상자는 누구인가요?\n",
      "==========================================================================================\n",
      "\n",
      "\n",
      "==================================================\n",
      "🔄 Node: \u001b[1;36mquery_rewrite\u001b[0m 🔄\n",
      "- - - - - - - - - - - - - - - - - - - - - - - - - \n",
      "\u001b[1;32mquestion\u001b[0m:\n",
      "2024년 노벨 문학상 수상자는 누구인가요?\n",
      "==================================================\n",
      "\n",
      "==========================================================================================\n",
      "===== [WEB SEARCH] web_search() 함수 =====\n",
      "question: \n",
      "2024년 노벨 문학상 수상자는 누구인가요?\n",
      "\n",
      "web_results: \n",
      "[{'title': '노벨상 역사 124년, 처음으로 한국·아시아 여성 작가 호명됐다… \"문학상에 한강!\" | 한국일보', 'url': 'https://www.hankookilbo.com/News/Read/A2024121014420003976', 'content': '2024 노벨문학상 수상자인 한강(가운데) 작가가 10일 스웨덴 스톡홀름콘서트홀에서 칼 구스타프 16세 스웨덴 국왕으로부터 노벨상 증서와 메달을 받은 뒤, 자리로 돌아가 환하게 웃고 있다. 곧이어 한강 작가가 칼 구스타프 16세 스웨덴 국왕으로부터 노벨문학상 증서와 메달을 받았고, 장내에서는 기립 박수가 터졌다. 2024 노벨문학상 수상자인 한강(아래 왼쪽) 작가가 10일 스웨덴 스톡홀름콘서트홀에서 칼 구스타프 16세(오른쪽) 스웨덴 국왕으로부터 노벨문학상 증서와 메달을 받은 뒤 미소를 짓고 있다. 2024 노벨문학상 수상자인 한강(아래) 작가가 10일 스웨덴 스톡홀름콘서트홀에서 칼 구스타프 16세 스웨덴 국왕으로부터 노벨상 증서와 메달을 받은 뒤, 행사 참석자들로부터 축하의 기립 박수를 받고 있다. 스웨덴 국왕 부부가 무대에 오른 뒤, 한강 작가 등 올해 노벨상 수상자들도 오랜 전통에 따라 ‘블루 카펫’으로 덮인 단상에 올랐다. 스웨덴 스톡홀름 워터프런트 콘그레스센터에 스웨덴 화가 니클라스 엘메헤드가 그린 한강 작가(가운데 줄 맨 오른쪽) 등 2024 노벨상 수상자들의 초상화가 걸려 있다.', 'score': 0.91118777, 'raw_content': '읽는 재미의 발견\\n새로워진 한국일보로그인/회원가입\\n웹 알림 동의 (크롬브라우저만 가능)\\n\\n    노벨상 역사 124년, 처음으로 한국·아시아 여성 작가 호명됐다… \"문학상에 한강!\"\\n121번째 노벨문학상 수상자 한강10일 스톡홀름 시상식 참석해 수상헤밍웨이·에르노 등과 어깨 나란히\\n2024 노벨문학상 수상자인 한강(가운데) 작가가 10일 스웨덴 스톡홀름콘서트홀에서 칼 구스타프 16세 스웨덴 국왕으로부터 노벨상 증서와 메달을 받은 뒤, 자리로 돌아가 환하게 웃고 있다. 스톡홀름=연합뉴스\\n\\n“존경하는 한강, 당신의 2024년 노벨문학상을 진심으로 축하드리게 돼 영광입니다. 이제 국왕 폐하로부터 상을 받으시기 바랍니다.”\\n10일 오후 4시 49분(현지시간) 스웨덴 수도 스톡홀름의 스톡홀름콘서트홀. 스웨덴 한림원을 대표해 노벨문학상 시상 연설자로 나선 엘렌 맛손 한림원 종신위원은 연설을 마치며 이렇게 한강 작가를 호명했다. 곧이어 한강 작가가 칼 구스타프 16세 스웨덴 국왕으로부터 노벨문학상 증서와 메달을 받았고, 장내에서는 기립 박수가 터졌다. 올해로 124년째를 맞은 노벨문학상 역사에 마침내 한국은 물론, 아시아 여성 작가의 이름이 처음으로 새겨지는 순간이었다.\\n 2024 노벨문학상 수상자인 한강(아래 왼쪽) 작가가 10일 스웨덴 스톡홀름콘서트홀에서 칼 구스타프 16세(오른쪽) 스웨덴 국왕으로부터 노벨문학상 증서와 메달을 받은 뒤 미소를 짓고 있다. 시상식 참석자들도 기립 박수로 한강 작가의 수상을 축하하고 있다. 스톡홀름=연합뉴스 \\n\\n\"상처받고 연약한 인간, 그러나 질문하는 힘\"\\n‘노벨상의 도시’ 스톡홀름에서 이날 오후 4시 시작된 2024년 노벨상 시상식에서 한강 작가의 이름은 네 번째로 호명됐다. 한림원 종신위원(전체 18명)이자 노벨위원회 위원인 맛손은 연설에서 “한강의 세계에서 사람들은 상처받고 연약하며 어떤 의미에서는 약하지만, 한 단계 더 나아가거나 다른 질문을 하거나 다른 문서를 요청하거나 살아남은 다른 증인을 인터뷰하기에 충분한, 딱 그만큼의 힘을 갖고 있다”고 밝혔다. \\n이날 시상식에 한강 작가는 검은색 롱 드레스를 입고, 손에는 클러치백을 든 채 참석했다. 모든 참석자에 대해 \\'남성은 연미복, 여성은 드레스\\'를 원칙으로 하되, 자국 전통 의상은 허용하는 노벨상 시상식의 복장 규정을 따른 것이다. 노벨문학상 증서와 메달을 받는 순간, 스웨덴 국왕과 짧은 대화를 하며 미소를 짓기도 했다.\\n다만 관례에 따라 수상 소감을 밝히진 않았다. 노벨상 수락 연설에 해당하는 강연을 지난 7일 이미 한 데다, 시상식 직후 연회에서도 짧은 소감을 밝히는 자리가 예정돼 있었기 때문이다. 자리로 돌아간 뒤에는 증서를 무릎 위에 올려놓고선 두 손을 가지런히 모은 채 앉아 있었다.\\n2024 노벨문학상 수상자인 한강(아래) 작가가 10일 스웨덴 스톡홀름콘서트홀에서 칼 구스타프 16세 스웨덴 국왕으로부터 노벨상 증서와 메달을 받은 뒤, 행사 참석자들로부터 축하의 기립 박수를 받고 있다. 스톡홀름=연합뉴스\\n\\n스톡홀름 \\'블루 카펫\\', 한국인 최초로 밟아\\n시상식은 1시간가량 진행됐다. 스웨덴 국왕 부부가 무대에 오른 뒤, 한강 작가 등 올해 노벨상 수상자들도 오랜 전통에 따라 ‘블루 카펫’으로 덮인 단상에 올랐다. 이때 국왕 부부는 물론, 행사 참석자 1,300명도 일제히 자리에서 일어났다. 각 분야 수상자들이 이룬 성취에 경의를 표한 것이다. 행사장인 스톡홀름콘서트홀은 1926년 개관 이래 평화상을 제외한 5개 분야(물리학·화학·생리의학·문학·경제학) 시상식이 줄곧 열린 역사의 현장으로, 한국인이 ‘수상자’로 이곳에 선 것은 한강 작가가 처음이다. 2000년 노벨평화상 수상자인 김대중 당시 대통령은 노르웨이 오슬로에서 개최된 시상식에 참석했었다.\\n한강 작가는 올해 수상자 11명 중 유일한 여성이다. 역대 노벨문학상 수상자 121명 중 18번째 여성이기도 하다. 이로써 한강 작가는 미국 어니스트 헤밍웨이(1954년 수상), 일본 오에 겐자부로(1994년), 독일 귄터 그라스(1999년), 프랑스 아니 에르노(2022년) 등 세계적 작가 반열에 명실상부 이름을 올리게 됐다. 앞서 한림원은 지난 10월 “역사적 트라우마에 맞서고, 인간 생의 연약함을 드러낸 강력한 시적 산문”이라며 한강 작가를 선정한 이유를 밝힌 바 있다.\\n스웨덴 스톡홀름 워터프런트 콘그레스센터에 스웨덴 화가 니클라스 엘메헤드가 그린 한강 작가(가운데 줄 맨 오른쪽) 등 2024 노벨상 수상자들의 초상화가 걸려 있다. 스톡홀름=뉴스1 \\n\\n오슬로 노벨평화상 시상식서도 \\'한강\\' 언급\\n시상식이 끝난 뒤에는 스톡홀름콘서트홀과 약 1.4㎞ 떨어진 스톡홀름 시청에서 축하 연회가 이어졌다. 시청사 내 \\'블루홀\\'에서 열린 연회의 핵심은 특별 만찬으로, 올해 키워드는 \\'사과\\'와 \\'죽\\'이었다. 연회 시작 시간(오후 7시)까지 메뉴는 공개되지 않았다. 알프레드 노벨을 추모하는 국왕의 건배사로 막을 올린 연회는 4~5시간 진행되며, 한강 작가는 행사가 끝날 때쯤 수상 소감을 밝힐 것으로 전해졌다.\\n한강 작가는 이날 오슬로에서 개최된 2024년 노벨평화상 시상식에서도 언급됐다. 예르겐 바트네 프뤼드네스 노르웨이 노벨위원회 위원장은 시상 연설에서 “올해 평화상 수상자는 니혼히단쿄(일본원자폭탄피해자단체협의회), 문학상 수상자는 한국 소설가 한강”이라며 “트라우마와 기억에 관한 한강의 글은 그가 수상자로 선정된 이유 중 하나”라고 말했다. 그러면서 2016년 영국 문화예술잡지 화이트리뷰와의 인터뷰에서 한강 작가가 했던 “나는 트라우마가 치유되거나 회복되는 것이라기보다는 포용되는 것이라고 믿는다”는 발언을 인용했다. 니혼히단쿄는 수상 연설에서 “전쟁(제2차 세계대전)을 시작하고 수행한 국가(일본)가 원자폭탄 피해에 대해 희생자에게 보상해야 한다”며 한국인 피폭자들의 고통을 지적하기도 했다.\\n기사 URL이 복사되었습니다.\\n이 기사와 관련된 기사\\n노벨상 역사 124년, 처음으로 한국·아시아 여성 작가 호명됐다… \"문학상에 한강!\"\\n\"\\'소년이 온다\\' 읽고 계엄 집회에 나갔다\"... 한강 소설 처음 읽은 독자 10인\\n한강 작가 앞에 놓일 \\'노벨상 만찬\\'... \"서빙 전까지 메뉴는 톱시크릿!\"\\n당신이 관심 있을 만한 이슈\\n\\n국제 많이 본 뉴스\\nLIVE ISSUE\\n기사 URL이 복사되었습니다.\\n댓글0\\n\\n\\n                작성하신 글을 삭제하시겠습니까?\\n            \\n한국일보에\\n로그인하면 다양한\\n            편의 기능을\\n            제공 받을 수 있습니다.\\n        \\n아이디 또는 비밀번호를 잘못 입력했습니다.(연속 1회)\\n아래 이미지를 보이는 대로 입력해주세요.\\n스피커로 들리는 내용을 숫자로 입력해 주세요.\\n\\n            이미 가입된 회원입니다.\\n        \\n\\n            공공장소에서 사용하는 컴퓨터에서는로그인 유지 기능 사용에 유의 바랍니다.\\n        \\n손흥민/01012345678 으로 찾은 아이디 입니다.\\nuser@hankookilbo.com\\n인증방법 선택\\n\\n            입력하신 사용자가 존재하지 않습니다.\\n        \\n\\n            인증메일이 발송되었습니다. 해당 메일 계정 확인바랍니다. (유효시간:15분)\\n        \\n\\n            비밀번호를 찾으실 아이디를\\n            입력해주세요.\\n        \\n비밀번호가 일치합니다.\\n\\n            비밀번호가 변경되었습니다.\\n        \\n\\n            유효 시간이 종료되었습니다.\\n            다시 인증메일을 발송해주세요.\\n        \\n\\n            보안을 위해 비밀번호와 자동입력 방지문자를 함께 입력 바랍니다.\\n        \\n\\n            만 14세 이상만 회원으로 가입하실 수 있습니다.\\n        \\n\\n                        한국일보가 제공하는 다양한 형태의 이벤트 및 행사(포럼, 대회, 강연, 시상, 수상, 구독 등) 관련한 참여 정보를 추천·안내\\n                    \\n\\n                        한국일보가 회원을 위해 제공하는 뉴스레터 등 모든 뉴스 서비스(뉴스, 영상, 뉴스 서비스 기반 이벤트 및 프로모션, 새로운 포맷 콘텐츠) 등 추천·안내\\n                    \\n이용약관 및 개인정보 처리 방침은 필수 항목 입니다.\\n선택 항목 미동의 시 뉴스 추천서비스 혹은 이벤트/행사 당첨 혜택에서 제외될 수 있습니다.\\n\\n            이미 가입된 회원입니다.\\n        \\n사용 가능한 아이디 입니다.\\n이름\\n\\n댓글 작성 시 필명이 노출 됩니다.\\n사용 가능한 필명입니다.\\n댓글 작성 시 필명이 노출됩니다.\\n사용 가능한 필명입니다.\\n\\n            한국일보 회원가입이 완료 되었습니다.\\n        \\n\\n            로그인 한 후 이용 가능합니다.\\n            로그인 하시겠습니까?\\n        \\n보내는 기사\\n노벨상 역사 124년, 처음으로 한국·아시아 여성 작가 호명됐다… \"문학상에 한강!\"\\n여러사람에게 보낼 경우 메일주소는 세미콜론(;)으로 구분해 주세요.(최대 5개)\\n보내는 분의 이름을 입력해주세요.\\n올바른 이메일 형식이 아닙니다.\\n\\n            기사가 메일로 전송 되었습니다.\\n        \\n\\n            구독을 취소하시겠습니까?\\n        \\n\\n            해당 컨텐츠를 구독/취소 하실수 없습니다.\\n        \\n\\n            이미 공감 표현을 선택하신\\n            기사입니다. 변경을 원하시면 취소\\n            후 다시 선택해주세요.\\n        \\n보내주신 소중한 제보는 정상적으로 접수되었으며 뉴스 제작에 활용될 예정입니다.\\n이미지, 영상, 문서, 압축 형식의 파일만 첨부 가능합니다.\\njpg, jpeg, png, mp4, avi, hwp, doc, zip\\n신은별 기자\\n제보자의 신분은 한국일보 보도 준칙에 따라 철저히 보호되며, 제공하신 개인정보는 취재를 위해서만 사용됩니다.\\n이메일 문의 : webmaster@hankookilbo.com\\n개인 정보 수집 및 이용 목적 : 회사는 수집한 개인정보를 제보 내용에 관한 확인 및 처리 등의 업무를 위해 수집, 이용하고 있습니다. 수집하는 개인정보 항목 - 이름, 이메일, 전화번호\\n\\n                개인정보 보호를 위해 익명 제보가 가능하며 실명인증을 하지 않습니다.\\n                단, 제보자 연락 및 추가 취재가 필요하신 제보자는 연락처를 정확히 기입해주시기 바랍니다.\\n            \\n'}, {'title': '[영상] \"온몸에 전율, 소리 질렀다\"…한강, 첫 한국인 노벨 문학상 쾌거 | 연합뉴스', 'url': 'https://www.yna.co.kr/view/MYH20241010024300704', 'content': '[영상] \"온몸에 전율, 소리 질렀다\"…한강, 첫 한국인 노벨 문학상 쾌거 | 연합뉴스 뉴스, 포토, 영상, 그래픽을 검색하실 수 있습니다. 영상 영상 플레이어 닫기 [영상] \"온몸에 전율, 소리 질렀다\"…한강, 첫 한국인 노벨 문학상 쾌거 (서울=연합뉴스) \"2024년 노벨문학상 수상자는 한국 작가 한강입니다\" 한강은 한국 작가 최초로 노벨 문학상을 받게 됐으며 한국인으로는 지난 2000년 평화상을 탄 고(故) 김대중 전 대통령에 이어 두 번째 노벨상 수상자가 됐습니다. [속보] 스노보드 이채운, 하얼빈 아시안게임 남자 슬로프스타일 금메달 02-08 16:24 [속보] 김길리, 하얼빈 아시안게임 여자 쇼트트랙 1,500m 금메달 02-08 12:45 [속보] 한국 쇼트트랙 혼성계주, 하얼빈 아시안게임 첫 금메달 02-08 12:01 [아시안게임] 쇼트트랙 혼성 계주, 중국 린샤오쥔 실수로 대회 첫 금메달(종합) [아시안게임] 한국 상대한 린샤오쥔…계주 좌절 뒤 500ｍ서 감격의 눈물(종합) 영상 뉴스 영상 모바일 뉴스 연합뉴스', 'score': 0.8991304, 'raw_content': '[영상] \"온몸에 전율, 소리 질렀다\"…한강, 첫 한국인 노벨 문학상 쾌거 | 연합뉴스\\n연합뉴스 본문 바로가기 메뉴 바로가기 하단 메뉴 바로가기\\n국가기간뉴스통신사 연합뉴스\\n배너\\n검색 영역\\n뉴스, 포토, 영상, 그래픽을 검색하실 수 있습니다.  GO\\n\\n비주얼 뉴스홈\\n영상\\n영상홈\\n영상뉴스\\n통통컬처\\n현장영상\\n많이본영상\\n날짜별영상\\n\\n\\n포토\\n포토홈\\n정치\\n북한\\n경제\\n산업\\n사회\\n전국\\n세계\\n문화\\n연예\\n스포츠\\n모멘트\\n\\n\\n화보\\nD스토리\\n그래픽\\n\\n검색 열기 검색 닫기\\n광고\\n광고\\n영상 플레이어 닫기\\n[영상] \"온몸에 전율, 소리 질렀다\"…한강, 첫 한국인 노벨 문학상 쾌거\\n2024-10-10 22:19\\n공유\\n이 뉴스 공유하기 닫기 카카오톡 페이스북 X 카카오\\n스토리 페이스북\\n메신저 네이버\\n밴드 네이버\\n블로그 URL\\n복사\\nURL이 복사되었습니다.\\n댓글\\n글자크기조정\\n본문 글자 크기 조정 닫기 폰트 1단계 15px 폰트 2단계 16px 폰트 3단계 17px 폰트 4단계 18px (기본설정) 폰트 5단계 19px 폰트 6단계 20px 폰트 7단계 21px\\n인쇄\\n(서울=연합뉴스) \"2024년 노벨문학상 수상자는 한국 작가 한강입니다\"\\n올해 노벨 문학상의 영예는 \\'채식주의자\\', \\'소년이 온다\\'로 잘 알려진 우리나라 소설가 한강(53)에게 돌아갔습니다.\\n스웨덴 한림원은 10일(현지시간) 2024 노벨문학상 수상자로 한강을 선정했다고 발표했습니다.\\n한림원은 이날 홈페이지에 \"역사적 트라우마에 맞서고 인간 생의 연약함을 드러낸 강렬한 시적 산문\"이라며 선정 이유를 밝혔습니다.\\n한강은 한국 작가 최초로 노벨 문학상을 받게 됐으며 한국인으로는 지난 2000년 평화상을 탄 고(故) 김대중 전 대통령에 이어 두 번째 노벨상 수상자가 됐습니다.\\n1970년 11월 전라남도 광주에서 소설가 한승원의 딸로 태어난 그는 이후 서울로 올라와 풍문여고를 거쳐 연세대 국문과를 졸업했습니다.\\n한강은 지난 2016년 \\'채식주의자\\'로 세계적 권위의 맨부커상에서 영연방 이외 지역 작가에게 주는 인터내셔널 부문을 한국인 최초로 수상하면서 국제적인 명성을 쌓았습니다.\\n지난해에는 제주 4·3 사건의 비극을 다룬 장편 \\'작별하지 않는다\\'로 프랑스 4대 문학상 중 하나인 메디치 외국문학상을 수상하기도 했습니다.\\n노벨문학상 수상자에게는 약 14억 원에 달하는 상금 1천100만 크로나와 메달, 증서가 수여됩니다.\\n시민들은 한국 작가 최초 노벨 문학상 수상자 탄생에 \"온몸에 전율이 흘렀다\", \"퇴근길에 소리를 질렀다\", \"눈물이 고였다\"는 반응을 보이며 감격스러워했습니다.\\n제작: 진혜숙·한성은\\n영상: 로이터·AFP·연합뉴스TV·노벨상 홈페이지\\n제보는 카카오톡 okjebo <저작권자(c) 연합뉴스, 무단 전재-재배포, AI 학습 및 활용 금지> 2024/10/10 22:19 송고\\n\\n#한강\\n#노벨상\\n#한국인\\n#최초\\n#김대중\\n\\n함께 보면 좋은 콘텐츠\\n댓글쓰기\\n광고\\n함께 읽기 좋은 콘텐츠\\n최신 영상\\n\\n [속보] 스노보드 이채운, 하얼빈 아시안게임 남자 슬로프스타일 금메달 02-08 16:24\\n [속보] 김길리, 하얼빈 아시안게임 여자 쇼트트랙 1,500m 금메달 02-08 12:45\\n [속보] 한국 쇼트트랙 혼성계주, 하얼빈 아시안게임 첫 금메달 02-08 12:01\\n [속보] 컬링 믹스더블, 하얼빈 아시안게임 은메달 획득 02-08 11:46\\n [속보] 234명 성착취 \\'목사방\\' 총책은 33세 김녹완…신상공개 02-08 09:30\\n [영상] \\'시진핑\\' 입력하니 먹통?…보안 우려에 딥시크 줄차단 02-08 09:00\\n 검찰, \\'부당합병\\' 이재용 무죄에 대법 상고 02-07 18:32\\n [속보] 검찰, \\'부당합병\\' 이재용 무죄에 대법 상고 02-07 18:00\\n [영상] \\'동맹도 먹어치울 기세\\'…트럼프 무역전쟁의 시작은 02-07 17:58\\n\\n광고\\n광고\\n핫뉴스\\n\\n\\n\\n[아시안게임] 한국 상대한 린샤오쥔…계주 좌절 뒤 500ｍ서 감격의 눈물\\n\\n\\n\\n태국여성들, 조지아로 유인돼 \\'난자 적출\\'…\"100명 감금 추정\"\\n\\n\\n\\n우크라전쟁 비판 러 가수, 경찰 수색받던 중 추락사\\n\\n\\n\\n\"르망 몰고 일본 가요\"…대우차 유산 보존에 시동 건 MZ들\\n\\n\\n카녜이 웨스트 \"나는 나치…히틀러 사랑해\" 또 폭언 물의\\n\\n\\n트럼프, 비판 보도 WP 언론인 실명 저격…\"즉시 해고돼야\"\\n\\n\\n집트랙 타다 8ｍ 아래 추락해 숨진 30대…시설 관계자들 처벌\\n\\n\\n10년간 14억 뜯어 가정파탄 내놓고는…또 사기행각 벌인 40대\\n\\n\\n많이 본 뉴스\\n종합\\n정치\\n경제\\n사회\\n세계\\n스포츠\\n연예\\n이전 다음\\n\\n\\n\\n소시지 잘못 삼켰다 식물인간 된 아이…기적적으로 생환\\n\\n\\n234명 성착취 \\'목사방\\' 총책은 33세 김녹완…경찰, 신상공개\\n\\n\\n태국여성들, 조지아로 유인돼 \\'난자 적출\\'…\"100명 감금 추정\"\\n\\n\\n\"르망 몰고 일본 가요\"…대우차 유산 보존에 시동 건 MZ들\\n\\n\\n우크라전쟁 비판 러 가수, 경찰 수색받던 중 추락사\\n\\n\\n\\n강추위 속 주말 전국 곳곳서 尹 탄핵 찬반 집회\\n\\n\\n尹측, 헌재 진행 문제제기…\"시간제한·질문 미리 제출 불공정\"\\n\\n\\n북한 \"우리 핵은 흥정물 아닌 실전용\"…비핵화 협상에 선 그어\\n\\n\\n與 \"이재명, 개딸에 광화문 동원령…지지율 하락에 마음 급한가\"\\n\\n\\n칼바람에도 서울 도심 尹탄핵 찬반 집결…\"파면\" vs \"석방\"\\n\\n\\n\\n[다음주 경제] 작년 30조원 \\'세수펑크\\' 세부내역 공개\\n\\n\\n美연준인사 \"美노동시장 건강…트럼프 정책에 상당한 불확실성\"\\n\\n\\n천정부지 금값…돌 반지 진열대서 사라지고 골드바 문의 빗발\\n\\n\\n애플 연구진, 탁상형 램프 같은 가정용 로봇 공개\\n\\n\\n주유소 휘발윳값 17주만에 소폭 하락…\"다음주도 내릴 듯\"\\n\\n\\n\\n234명 성착취 \\'목사방\\' 총책은 33세 김녹완…경찰, 신상공개\\n\\n\\n집트랙 타다 8ｍ 아래 추락해 숨진 30대…시설 관계자들 처벌\\n\\n\\n대구 관문 동대구역 광장서 \"尹 탄핵 반대\" 대규모 집회\\n\\n\\n10년간 14억 뜯어 가정파탄 내놓고는…또 사기행각 벌인 40대\\n\\n\\n온라인 커뮤니티서 \\'헌재 폭동\\' 모의 정황…경찰, 작성자 추적\\n\\n\\n\\n태국여성들, 조지아로 유인돼 \\'난자 적출\\'…\"100명 감금 추정\"\\n\\n\\n우크라전쟁 비판 러 가수, 경찰 수색받던 중 추락사\\n\\n\\n이시바 \\'美관세 시 보복\\' 질문에 답피하자 트럼프 웃으며 \"와우\"\\n\\n\\n[아시안게임] 김길리는 왜 황금 헬멧을 쓸까…\\'세계 1위 특전\\'\\n\\n\\n카녜이 웨스트 \"나는 나치…히틀러 사랑해\" 또 폭언 물의\\n\\n\\n\\n[아시안게임] 김길리는 왜 황금 헬멧을 쓸까…\\'세계 1위 특전\\'\\n\\n\\n[아시안게임] 쇼트트랙 혼성 계주, 중국 린샤오쥔 실수로 대회 첫 금메달(종합)\\n\\n\\n[아시안게임] 한국 상대한 린샤오쥔…계주 좌절 뒤 500ｍ서 감격의 눈물(종합)\\n\\n\\n한국, 하얼빈 동계AG 메달 레이스 첫날 金 7개…\\'슈퍼 골든데이\\'\\n\\n\\n\\'이강인 교체 출전\\' PSG, 모나코에 4-1 완승…흐비차 이적 첫 골\\n\\n\\n\\n소시지 잘못 삼켰다 식물인간 된 아이…기적적으로 생환\\n\\n\\n\"가요계 텅 비어있는 느낌\"…송대관 빈소에 이틀째 추모 발길\\n\\n\\n이미배 \"밝은 칸초네와 차분한 샹송처럼 인생도 굴곡 있죠\"\\n\\n\\n로제 \\'아파트\\' 英싱글차트 6주 연속 2위…지민 23위·제니 64위\\n\\n\\n청각장애 김동준 신부 \"더 열심히 사는 농인에게서 용기 얻어\"\\n\\n\\n광고\\n광고\\n에디터스 픽Editor\\'s Picks\\n영상\\n영상 기사  \\n[영상] \\'시진핑\\' 입력하니 먹통?…보안 우려에 딥시크 줄차단\\n영상 기사  \\n[영상] 1천억 쓴 대왕고래 \"경제성 없다\"…오징어·명태 시추 가능성은?\\n영상 기사  \\n[영상] \\'쨍하고 해뜰날\\' 송대관 별세…\\'절친\\' 태진아 \"30년 내 동반자\"\\n뉴스\\n\\n\\n\\n강추위 속 주말 전국 곳곳서 尹 탄핵 찬반 집회\\n\\n\\n한국, 하얼빈 동계AG 메달 레이스 첫날 金 7개…\\'슈퍼 골든데이\\'\\n\\n\\n\\n이나현, 김민선 제치고 빙속 여자 100ｍ 금메달\\n\\n\\n트럼프, \\'완전한 北비핵화·한미일협력 중시\\' 재집권후 첫 천명\\n\\n\\n\\n[날씨] 한파에 찬바람 쌩쌩…서울 아침 최저 -10도\\n\\n\\n광고\\n광고\\n광고\\n맨위로\\n전체메뉴\\n뉴스 홈\\n최신기사\\n정치\\n북한\\n경제\\n마켓 +\\n산업\\n사회\\n전국\\n세계\\n문화\\n건강\\n연예\\n스포츠\\n오피니언\\n사람들\\n사람들\\n인사\\n부고\\n동정\\nCEO\\n인터뷰\\n비주얼뉴스\\n영상\\n포토\\n화보\\nD스토리\\n그래픽\\n이슈돋보기\\n이 시각 헤드라인\\n재난/북한 포털\\n재난포털\\n북한포털\\n날씨\\n테마별뉴스\\n핫뉴스\\n주요뉴스\\n긴급뉴스\\n단독뉴스\\n많이본뉴스\\n오래머문뉴스\\n모바일 뉴스\\n모바일앱\\n모바일웹\\n비주얼뉴스\\n외국어\\nEnglish\\n中文\\n日本語\\nعربي\\nEspañol\\nFrançais\\n뉴스 상품\\n프리미엄뉴스\\n뉴스리더\\n인터넷 맞춤형\\n보도자료 해외배포\\n보도자료 국내배포\\n출판물\\n이매진\\n연합연감\\n영문연감\\n단행본\\n월간 마이더스\\n광고\\nKTX열차\\nAREX 공항철도\\n모바일\\nPC/홈페이지\\n출판물\\n콘텐츠 판매\\n보도사진\\n이미지\\n그래픽\\n동영상\\n인물\\n관련사이트\\n한민족센터\\nK-VIBE\\n채용\\nIR 클럽\\n유튜브\\n연합뉴스\\n통통컬처\\nKorea Now\\n계약사/제휴문의\\n\\n회사소개\\n윤리헌장\\n저작권규약\\n수용자권익위원회\\n콘텐츠자문위원회\\n고충처리\\n이용약관\\n개인정보처리방침\\n독자게시판\\n기사제보(02-398-3000)\\nRSS\\n사이트맵\\n\\n연합뉴스 서울시 종로구 율곡로2길 25 | 등록번호 문화, 나00009 | 등록일자 1980.12.29 | 발행일자 1980.12.29 | Tel. 02-398-3114\\n\\n(C) Yonhapnews\\n[대표이사] 황대일\\n[편집인] 심인성\\n\\n연합뉴스 페이스북 연합뉴스 트위터\\n서비스안내 전체보기 서비스안내 전체보기 닫기\\n연합뉴스 연합뉴스TV 인포맥스\\nADVERTISEMENT\\nADVERTISEMENT'}]\n",
      "\n",
      "[Document(metadata={'source': 'https://www.hankookilbo.com/News/Read/A2024121014420003976'}, page_content='2024 노벨문학상 수상자인 한강(가운데) 작가가 10일 스웨덴 스톡홀름콘서트홀에서 칼 구스타프 16세 스웨덴 국왕으로부터 노벨상 증서와 메달을 받은 뒤, 자리로 돌아가 환하게 웃고 있다. 곧이어 한강 작가가 칼 구스타프 16세 스웨덴 국왕으로부터 노벨문학상 증서와 메달을 받았고, 장내에서는 기립 박수가 터졌다. 2024 노벨문학상 수상자인 한강(아래 왼쪽) 작가가 10일 스웨덴 스톡홀름콘서트홀에서 칼 구스타프 16세(오른쪽) 스웨덴 국왕으로부터 노벨문학상 증서와 메달을 받은 뒤 미소를 짓고 있다. 2024 노벨문학상 수상자인 한강(아래) 작가가 10일 스웨덴 스톡홀름콘서트홀에서 칼 구스타프 16세 스웨덴 국왕으로부터 노벨상 증서와 메달을 받은 뒤, 행사 참석자들로부터 축하의 기립 박수를 받고 있다. 스웨덴 국왕 부부가 무대에 오른 뒤, 한강 작가 등 올해 노벨상 수상자들도 오랜 전통에 따라 ‘블루 카펫’으로 덮인 단상에 올랐다. 스웨덴 스톡홀름 워터프런트 콘그레스센터에 스웨덴 화가 니클라스 엘메헤드가 그린 한강 작가(가운데 줄 맨 오른쪽) 등 2024 노벨상 수상자들의 초상화가 걸려 있다.'), Document(metadata={'source': 'https://www.yna.co.kr/view/MYH20241010024300704'}, page_content='[영상] \"온몸에 전율, 소리 질렀다\"…한강, 첫 한국인 노벨 문학상 쾌거 | 연합뉴스 뉴스, 포토, 영상, 그래픽을 검색하실 수 있습니다. 영상 영상 플레이어 닫기 [영상] \"온몸에 전율, 소리 질렀다\"…한강, 첫 한국인 노벨 문학상 쾌거 (서울=연합뉴스) \"2024년 노벨문학상 수상자는 한국 작가 한강입니다\" 한강은 한국 작가 최초로 노벨 문학상을 받게 됐으며 한국인으로는 지난 2000년 평화상을 탄 고(故) 김대중 전 대통령에 이어 두 번째 노벨상 수상자가 됐습니다. [속보] 스노보드 이채운, 하얼빈 아시안게임 남자 슬로프스타일 금메달 02-08 16:24 [속보] 김길리, 하얼빈 아시안게임 여자 쇼트트랙 1,500m 금메달 02-08 12:45 [속보] 한국 쇼트트랙 혼성계주, 하얼빈 아시안게임 첫 금메달 02-08 12:01 [아시안게임] 쇼트트랙 혼성 계주, 중국 린샤오쥔 실수로 대회 첫 금메달(종합) [아시안게임] 한국 상대한 린샤오쥔…계주 좌절 뒤 500ｍ서 감격의 눈물(종합) 영상 뉴스 영상 모바일 뉴스 연합뉴스')]\n",
      "==========================================================================================\n",
      "\n",
      "\n",
      "==================================================\n",
      "🔄 Node: \u001b[1;36mweb_search_node\u001b[0m 🔄\n",
      "- - - - - - - - - - - - - - - - - - - - - - - - - \n",
      "page_content='2024 노벨문학상 수상자인 한강(가운데) 작가가 10일 스웨덴 스톡홀름콘서트홀에서 칼 구스타프 16세 스웨덴 국왕으로부터 노벨상 증서와 메달을 받은 뒤, 자리로 돌아가 환하게 웃고 있다. 곧이어 한강 작가가 칼 구스타프 16세 스웨덴 국왕으로부터 노벨문학상 증서와 메달을 받았고, 장내에서는 기립 박수가 터졌다. 2024 노벨문학상 수상자인 한강(아래 왼쪽) 작가가 10일 스웨덴 스톡홀름콘서트홀에서 칼 구스타프 16세(오른쪽) 스웨덴 국왕으로부터 노벨문학상 증서와 메달을 받은 뒤 미소를 짓고 있다. 2024 노벨문학상 수상자인 한강(아래) 작가가 10일 스웨덴 스톡홀름콘서트홀에서 칼 구스타프 16세 스웨덴 국왕으로부터 노벨상 증서와 메달을 받은 뒤, 행사 참석자들로부터 축하의 기립 박수를 받고 있다. 스웨덴 국왕 부부가 무대에 오른 뒤, 한강 작가 등 올해 노벨상 수상자들도 오랜 전통에 따라 ‘블루 카펫’으로 덮인 단상에 올랐다. 스웨덴 스톡홀름 워터프런트 콘그레스센터에 스웨덴 화가 니클라스 엘메헤드가 그린 한강 작가(가운데 줄 맨 오른쪽) 등 2024 노벨상 수상자들의 초상화가 걸려 있다.' metadata={'source': 'https://www.hankookilbo.com/News/Read/A2024121014420003976'}\n",
      "page_content='[영상] \"온몸에 전율, 소리 질렀다\"…한강, 첫 한국인 노벨 문학상 쾌거 | 연합뉴스 뉴스, 포토, 영상, 그래픽을 검색하실 수 있습니다. 영상 영상 플레이어 닫기 [영상] \"온몸에 전율, 소리 질렀다\"…한강, 첫 한국인 노벨 문학상 쾌거 (서울=연합뉴스) \"2024년 노벨문학상 수상자는 한국 작가 한강입니다\" 한강은 한국 작가 최초로 노벨 문학상을 받게 됐으며 한국인으로는 지난 2000년 평화상을 탄 고(故) 김대중 전 대통령에 이어 두 번째 노벨상 수상자가 됐습니다. [속보] 스노보드 이채운, 하얼빈 아시안게임 남자 슬로프스타일 금메달 02-08 16:24 [속보] 김길리, 하얼빈 아시안게임 여자 쇼트트랙 1,500m 금메달 02-08 12:45 [속보] 한국 쇼트트랙 혼성계주, 하얼빈 아시안게임 첫 금메달 02-08 12:01 [아시안게임] 쇼트트랙 혼성 계주, 중국 린샤오쥔 실수로 대회 첫 금메달(종합) [아시안게임] 한국 상대한 린샤오쥔…계주 좌절 뒤 500ｍ서 감격의 눈물(종합) 영상 뉴스 영상 모바일 뉴스 연합뉴스' metadata={'source': 'https://www.yna.co.kr/view/MYH20241010024300704'}\n",
      "==================================================\n",
      "\n",
      "==========================================================================================\n",
      "===== [GENERATE] generate() 함수 =====\n",
      "사용자 질문: 2024년 노벨 문학상 수상자는 누구인가요?\n",
      "문서 검색 결과:\n",
      "[Document(metadata={'source': 'https://www.hankookilbo.com/News/Read/A2024121014420003976'}, page_content='2024 노벨문학상 수상자인 한강(가운데) 작가가 10일 스웨덴 스톡홀름콘서트홀에서 칼 구스타프 16세 스웨덴 국왕으로부터 노벨상 증서와 메달을 받은 뒤, 자리로 돌아가 환하게 웃고 있다. 곧이어 한강 작가가 칼 구스타프 16세 스웨덴 국왕으로부터 노벨문학상 증서와 메달을 받았고, 장내에서는 기립 박수가 터졌다. 2024 노벨문학상 수상자인 한강(아래 왼쪽) 작가가 10일 스웨덴 스톡홀름콘서트홀에서 칼 구스타프 16세(오른쪽) 스웨덴 국왕으로부터 노벨문학상 증서와 메달을 받은 뒤 미소를 짓고 있다. 2024 노벨문학상 수상자인 한강(아래) 작가가 10일 스웨덴 스톡홀름콘서트홀에서 칼 구스타프 16세 스웨덴 국왕으로부터 노벨상 증서와 메달을 받은 뒤, 행사 참석자들로부터 축하의 기립 박수를 받고 있다. 스웨덴 국왕 부부가 무대에 오른 뒤, 한강 작가 등 올해 노벨상 수상자들도 오랜 전통에 따라 ‘블루 카펫’으로 덮인 단상에 올랐다. 스웨덴 스톡홀름 워터프런트 콘그레스센터에 스웨덴 화가 니클라스 엘메헤드가 그린 한강 작가(가운데 줄 맨 오른쪽) 등 2024 노벨상 수상자들의 초상화가 걸려 있다.'), Document(metadata={'source': 'https://www.yna.co.kr/view/MYH20241010024300704'}, page_content='[영상] \"온몸에 전율, 소리 질렀다\"…한강, 첫 한국인 노벨 문학상 쾌거 | 연합뉴스 뉴스, 포토, 영상, 그래픽을 검색하실 수 있습니다. 영상 영상 플레이어 닫기 [영상] \"온몸에 전율, 소리 질렀다\"…한강, 첫 한국인 노벨 문학상 쾌거 (서울=연합뉴스) \"2024년 노벨문학상 수상자는 한국 작가 한강입니다\" 한강은 한국 작가 최초로 노벨 문학상을 받게 됐으며 한국인으로는 지난 2000년 평화상을 탄 고(故) 김대중 전 대통령에 이어 두 번째 노벨상 수상자가 됐습니다. [속보] 스노보드 이채운, 하얼빈 아시안게임 남자 슬로프스타일 금메달 02-08 16:24 [속보] 김길리, 하얼빈 아시안게임 여자 쇼트트랙 1,500m 금메달 02-08 12:45 [속보] 한국 쇼트트랙 혼성계주, 하얼빈 아시안게임 첫 금메달 02-08 12:01 [아시안게임] 쇼트트랙 혼성 계주, 중국 린샤오쥔 실수로 대회 첫 금메달(종합) [아시안게임] 한국 상대한 린샤오쥔…계주 좌절 뒤 500ｍ서 감격의 눈물(종합) 영상 뉴스 영상 모바일 뉴스 연합뉴스')]\n",
      "\n",
      "rag 실행 결과:\n",
      "2024년 노벨문학상 수상자는 한국 작가 한강이며, 그는 한국 작가 최초로 이 상을 수상했습니다. \n",
      "\n",
      "**Source**\n",
      "- https://www.hankookilbo.com/News/Read/A2024121014420003976\n",
      "- https://www.yna.co.kr/view/MYH20241010024300704\n",
      "\n",
      "==========================================================================================\n",
      "\n",
      "\n",
      "==================================================\n",
      "🔄 Node: \u001b[1;36mgenerate\u001b[0m 🔄\n",
      "- - - - - - - - - - - - - - - - - - - - - - - - - \n",
      "\u001b[1;32mgeneration\u001b[0m:\n",
      "2024년 노벨문학상 수상자는 한국 작가 한강이며, 그는 한국 작가 최초로 이 상을 수상했습니다. \n",
      "\n",
      "**Source**\n",
      "- https://www.hankookilbo.com/News/Read/A2024121014420003976\n",
      "- https://www.yna.co.kr/view/MYH20241010024300704\n",
      "==================================================\n"
     ]
    }
   ],
   "source": [
    "# config 설정(재귀 최대 횟수, thread_id)\n",
    "config = RunnableConfig(recursion_limit=20, configurable={\"thread_id\": random_uuid()})\n",
    "\n",
    "# 질문 입력\n",
    "inputs = {\n",
    "    \"question\": \"2024년 노벨문학상 수상자의 이름은?\",\n",
    "}\n",
    "\n",
    "# 그래프 실행\n",
    "invoke_graph(app, inputs, config)"
   ]
  }
 ],
 "metadata": {
  "kernelspec": {
   "display_name": "venv",
   "language": "python",
   "name": "python3"
  },
  "language_info": {
   "codemirror_mode": {
    "name": "ipython",
    "version": 3
   },
   "file_extension": ".py",
   "mimetype": "text/x-python",
   "name": "python",
   "nbconvert_exporter": "python",
   "pygments_lexer": "ipython3",
   "version": "3.11.9"
  }
 },
 "nbformat": 4,
 "nbformat_minor": 2
}
