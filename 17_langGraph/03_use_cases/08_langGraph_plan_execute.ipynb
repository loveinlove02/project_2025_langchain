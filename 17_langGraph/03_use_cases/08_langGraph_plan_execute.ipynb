{
 "cells": [
  {
   "cell_type": "code",
   "execution_count": 53,
   "metadata": {},
   "outputs": [],
   "source": [
    "from dotenv import load_dotenv\n",
    "import os\n",
    "\n",
    "load_dotenv(verbose=True)\n",
    "key = os.getenv('OPENAI_API_KEY')"
   ]
  },
  {
   "cell_type": "markdown",
   "metadata": {},
   "source": [
    "### State"
   ]
  },
  {
   "cell_type": "code",
   "execution_count": 54,
   "metadata": {},
   "outputs": [],
   "source": [
    "import operator\n",
    "from typing import Annotated, List, Tuple\n",
    "from typing_extensions import TypedDict\n",
    "\n",
    "class PlanExecute(TypedDict):\n",
    "    input: Annotated[str, \"User's input\"]               # 사용자 입력     \n",
    "    plan: Annotated[List[str], \"Current plan\"]          # 현재 계획\n",
    "    past_steps: Annotated[List[Tuple], operator.add]    # 이전에 실행한 계획과 실행 결과\n",
    "    response: Annotated[str, \"Final response\"]          # 답변"
   ]
  },
  {
   "cell_type": "code",
   "execution_count": 55,
   "metadata": {},
   "outputs": [
    {
     "data": {
      "text/plain": [
       "{'input': '겔럭시폰을 만든 회사는?', 'plan': [], 'past_steps': [], 'response': ''}"
      ]
     },
     "execution_count": 55,
     "metadata": {},
     "output_type": "execute_result"
    }
   ],
   "source": [
    "state1_PlanExecute = PlanExecute(\n",
    "    input='겔럭시폰을 만든 회사는?',\n",
    "    plan=[] ,\n",
    "    past_steps=[],\n",
    "    response=''\n",
    ")\n",
    "\n",
    "state1_PlanExecute"
   ]
  },
  {
   "cell_type": "markdown",
   "metadata": {},
   "source": [
    "### 계획 모델"
   ]
  },
  {
   "cell_type": "code",
   "execution_count": 56,
   "metadata": {},
   "outputs": [],
   "source": [
    "from pydantic import BaseModel, Field\n",
    "from typing import List\n",
    "\n",
    "class Plan(BaseModel):                                  # Plan 모델 정의\n",
    "    \"\"\"Sorted steps to execute the plan\"\"\"          \n",
    "\n",
    "    steps: Annotated[List[str], \"Different steps to follow, should be in sorted order\"]"
   ]
  },
  {
   "cell_type": "code",
   "execution_count": 57,
   "metadata": {},
   "outputs": [],
   "source": [
    "# Different steps to follow, should be in sorted order\n",
    "# 따라야 할 다양한 단계들로, 정렬된 순서로 있어야 합니다."
   ]
  },
  {
   "cell_type": "code",
   "execution_count": 58,
   "metadata": {},
   "outputs": [
    {
     "data": {
      "text/plain": [
       "Plan(steps=[\"'겔럭시폰'이라는 이름을 확인한다\", \"'겔럭시폰'이 삼성전자의 제품임을 확인한다.\", '삼성전자가 겔럭시폰을 만든 회사임을 결론짓는다.'])"
      ]
     },
     "execution_count": 58,
     "metadata": {},
     "output_type": "execute_result"
    }
   ],
   "source": [
    "plan = Plan(\n",
    "    steps=[\n",
    "        \"'겔럭시폰'이라는 이름을 확인한다\", \n",
    "        \"'겔럭시폰'이 삼성전자의 제품임을 확인한다.\", \n",
    "        \"삼성전자가 겔럭시폰을 만든 회사임을 결론짓는다.\"\n",
    "    ]\n",
    ")\n",
    "\n",
    "plan"
   ]
  },
  {
   "cell_type": "markdown",
   "metadata": {},
   "source": [
    "### 사용자 답변 모델"
   ]
  },
  {
   "cell_type": "code",
   "execution_count": 59,
   "metadata": {},
   "outputs": [],
   "source": [
    "from pydantic import BaseModel\n",
    "\n",
    "class Response(BaseModel):\n",
    "    \"\"\"Response to user.\"\"\"\n",
    "\n",
    "    # 사용자 응답\n",
    "    response: str"
   ]
  },
  {
   "cell_type": "markdown",
   "metadata": {},
   "source": [
    "### Re-Plan 모델"
   ]
  },
  {
   "cell_type": "code",
   "execution_count": 60,
   "metadata": {},
   "outputs": [],
   "source": [
    "from typing import Union\n",
    "from pydantic import BaseModel, Field\n",
    "\n",
    "class Act(BaseModel):\n",
    "    \"\"\"Action to perform.\"\"\"\n",
    "\n",
    "    # 수행할 작업: \"Response\", \"Plan\". 사용자에게 응답할 경우 Response 사용, 추가 도구 사용이 필요할 경우 Plan 사용\n",
    "    action: Union[Response, Plan] = Field(\n",
    "        description=\"Action to perform. If you want to respond to user, use Response. \"\n",
    "        \"If you need to further use tools to get the answer, use Plan.\"\n",
    "    )"
   ]
  },
  {
   "cell_type": "code",
   "execution_count": 61,
   "metadata": {},
   "outputs": [],
   "source": [
    "# Action to perform. If you want to respond to user, use Response.\n",
    "# 수행할 작업. 사용자에게 응답하려면 Response를 사용하세요.\n",
    "\n",
    "# If you need to further use tools to get the answer, use Plan.\n",
    "# 답변을 얻기 위해 추가적으로 도구를 사용해야 한다면 Plan을 사용하세요.\n"
   ]
  },
  {
   "cell_type": "code",
   "execution_count": 62,
   "metadata": {},
   "outputs": [],
   "source": [
    "from langchain_openai import ChatOpenAI\n",
    "from langchain_core.prompts import ChatPromptTemplate\n",
    "from langchain_core.output_parsers import StrOutputParser\n",
    "\n",
    "from langgraph.prebuilt import create_react_agent"
   ]
  },
  {
   "cell_type": "markdown",
   "metadata": {},
   "source": [
    "### 도구 정의 (웹 검색)"
   ]
  },
  {
   "cell_type": "code",
   "execution_count": 63,
   "metadata": {},
   "outputs": [],
   "source": [
    "from langchain_teddynote.tools import TavilySearch\n",
    "\n",
    "tools = [TavilySearch(max_results=1)]"
   ]
  },
  {
   "cell_type": "markdown",
   "metadata": {},
   "source": [
    "### 계획 단계"
   ]
  },
  {
   "cell_type": "code",
   "execution_count": 64,
   "metadata": {},
   "outputs": [],
   "source": [
    "# 계획 수립을 위한 프롬프트 템플릿 생성\n",
    "planner_prompt = ChatPromptTemplate.from_messages(\n",
    "    [\n",
    "        (\n",
    "            \"system\",\n",
    "            \"\"\"For the given objective, come up with a simple step by step plan. \\\n",
    "This plan should involve individual tasks, that if executed correctly will yield the correct answer. Do not add any superfluous steps. \\\n",
    "The result of the final step should be the final answer. Make sure that each step has all the information needed - do not skip steps.\n",
    "Answer in Korean.\"\"\",\n",
    "        ),\n",
    "        (\"placeholder\", \"{messages}\"),\n",
    "    ]\n",
    ")\n",
    "\n",
    "llm = ChatOpenAI(\n",
    "    api_key=key, \n",
    "    model='gpt-4o', \n",
    "    temperature=0\n",
    ")\n",
    "\n",
    "planner = planner_prompt | llm.with_structured_output(Plan)"
   ]
  },
  {
   "cell_type": "code",
   "execution_count": 65,
   "metadata": {},
   "outputs": [],
   "source": [
    "\n",
    "# For the given objective, come up with a simple step by step plan.\n",
    "# 주어진 목표를 위해 간단한 단계별 계획을 세우세요.\n",
    "\n",
    "# This plan should involve individual tasks, that if executed correctly will yield the correct answer.\n",
    "# 이 계획은 개별 작업을 포함해야 하며, 올바르게 실행하면 정확한 답을 도출할 수 있어야 합니다.\n",
    "\n",
    "# Do not add any superfluous steps.\n",
    "# 불필요한 단계를 추가하지 마세요.\n",
    "\n",
    "# The result of the final step should be the final answer.\n",
    "# 최종 단계의 결과는 최종 답이어야 합니다.\n",
    "\n",
    "# Make sure that each step has all the information needed - do not skip steps.\n",
    "# 각 단계가 필요한 모든 정보를 포함하도록 하세요 - 단계를 생략하지 마세요.\n"
   ]
  },
  {
   "cell_type": "code",
   "execution_count": 66,
   "metadata": {},
   "outputs": [
    {
     "data": {
      "text/plain": [
       "Plan(steps=[\"'겔럭시폰'이라는 이름을 확인한다.\", \"'겔럭시폰'이 삼성전자의 제품임을 확인한다.\", '삼성전자가 겔럭시폰을 만든 회사임을 결론짓는다.'])"
      ]
     },
     "execution_count": 66,
     "metadata": {},
     "output_type": "execute_result"
    }
   ],
   "source": [
    "# Planner 실행\n",
    "planner.invoke({\"messages\": [(\"user\", \"겔럭시폰을 만든 회사는?\")]})"
   ]
  },
  {
   "cell_type": "markdown",
   "metadata": {},
   "source": [
    "### Agent (작업 실행 에이전트)"
   ]
  },
  {
   "cell_type": "code",
   "execution_count": 67,
   "metadata": {},
   "outputs": [],
   "source": [
    "# 프롬프트 정의\n",
    "prompt = ChatPromptTemplate.from_messages(\n",
    "    [\n",
    "        (\n",
    "            \"system\",\n",
    "            \"You are a helpful assistant. Answer in Korean.\",\n",
    "        ),\n",
    "        (\"human\", \"{messages}\"),\n",
    "    ]\n",
    ")\n",
    "\n",
    "llm = ChatOpenAI(\n",
    "    api_key=key, \n",
    "    model='gpt-4o', \n",
    "    temperature=0\n",
    ")\n",
    "\n",
    "# ReAct 에이전트 생성\n",
    "agent_executor = create_react_agent(llm, tools, state_modifier=prompt)"
   ]
  },
  {
   "cell_type": "code",
   "execution_count": 68,
   "metadata": {},
   "outputs": [
    {
     "data": {
      "text/plain": [
       "{'messages': [HumanMessage(content='겔럭시폰을 만든 회사는?', additional_kwargs={}, response_metadata={}, id='e5e49d16-f481-40ee-805b-a11a164742bd'),\n",
       "  AIMessage(content='겔럭시폰을 만든 회사는 삼성전자입니다. 삼성전자는 한국에 본사를 두고 있는 글로벌 전자제품 제조업체로, 갤럭시 시리즈 스마트폰을 포함한 다양한 전자제품을 생산하고 있습니다.', additional_kwargs={'refusal': None}, response_metadata={'token_usage': {'completion_tokens': 54, 'prompt_tokens': 145, 'total_tokens': 199, 'completion_tokens_details': {'accepted_prediction_tokens': 0, 'audio_tokens': 0, 'reasoning_tokens': 0, 'rejected_prediction_tokens': 0}, 'prompt_tokens_details': {'audio_tokens': 0, 'cached_tokens': 0}}, 'model_name': 'gpt-4o-2024-08-06', 'system_fingerprint': 'fp_de57b65c90', 'finish_reason': 'stop', 'logprobs': None}, id='run-4922eee3-1304-4f76-a6bf-4ef9c9d4431f-0', usage_metadata={'input_tokens': 145, 'output_tokens': 54, 'total_tokens': 199, 'input_token_details': {'audio': 0, 'cache_read': 0}, 'output_token_details': {'audio': 0, 'reasoning': 0}})]}"
      ]
     },
     "execution_count": 68,
     "metadata": {},
     "output_type": "execute_result"
    }
   ],
   "source": [
    "agent_executor.invoke(\n",
    "    {\"messages\": [(\"user\", \"겔럭시폰을 만든 회사는?\")]}\n",
    ")"
   ]
  },
  {
   "cell_type": "markdown",
   "metadata": {},
   "source": [
    "### 계획 노드"
   ]
  },
  {
   "cell_type": "code",
   "execution_count": 69,
   "metadata": {},
   "outputs": [],
   "source": [
    "# 사용자 입력을 기반으로 계획을 생성하고 리턴\n",
    "def plan_step(state: PlanExecute):\n",
    "    print('=================================================================================')\n",
    "    print(f\"🔄 [Node] 계획 노드 🔄\")\n",
    "    \n",
    "    print(f\"[1] 사용자 입력: {state['input']}\")\n",
    "\n",
    "    plan = planner.invoke({\"messages\": [(\"user\", state[\"input\"])]})\n",
    "    \n",
    "    print('[2] planner 체인 실행: ')\n",
    "    print(plan.steps)\n",
    "\n",
    "    print('=================================================================================')\n",
    "\n",
    "    # 생성된 계획의 단계 리스트 리턴\n",
    "    return {\"plan\": plan.steps}             "
   ]
  },
  {
   "cell_type": "code",
   "execution_count": 70,
   "metadata": {},
   "outputs": [
    {
     "data": {
      "text/plain": [
       "{'input': '겔럭시폰을 만든 회사는?', 'plan': [], 'past_steps': [], 'response': ''}"
      ]
     },
     "execution_count": 70,
     "metadata": {},
     "output_type": "execute_result"
    }
   ],
   "source": [
    "state1_PlanExecute = PlanExecute(\n",
    "    input='겔럭시폰을 만든 회사는?',\n",
    "    plan=[] ,\n",
    "    past_steps=[],\n",
    "    response=''\n",
    ")\n",
    "\n",
    "state1_PlanExecute"
   ]
  },
  {
   "cell_type": "code",
   "execution_count": 71,
   "metadata": {},
   "outputs": [
    {
     "data": {
      "text/plain": [
       "{'input': '대구 동성로떡볶이?', 'plan': [], 'past_steps': [], 'response': ''}"
      ]
     },
     "execution_count": 71,
     "metadata": {},
     "output_type": "execute_result"
    }
   ],
   "source": [
    "state2_PlanExecute = PlanExecute(\n",
    "    input='대구 동성로떡볶이?',\n",
    "    plan=[] ,\n",
    "    past_steps=[],\n",
    "    response=''\n",
    ")\n",
    "\n",
    "state2_PlanExecute"
   ]
  },
  {
   "cell_type": "code",
   "execution_count": 72,
   "metadata": {},
   "outputs": [
    {
     "name": "stdout",
     "output_type": "stream",
     "text": [
      "=================================================================================\n",
      "🔄 [Node] 계획 노드 🔄\n",
      "[1] 사용자 입력: 겔럭시폰을 만든 회사는?\n",
      "[2] planner 체인 실행: \n",
      "[\"'겔럭시폰'이라는 이름을 가진 제품이 어떤 회사에서 제조하는지 확인한다.\", \"'겔럭시폰'은 삼성전자가 제조하는 스마트폰 브랜드임을 확인한다.\", '따라서, 겔럭시폰을 만든 회사는 삼성전자이다.']\n",
      "=================================================================================\n"
     ]
    }
   ],
   "source": [
    "result1 = plan_step(state1_PlanExecute)     # 계획 노드 실행"
   ]
  },
  {
   "cell_type": "code",
   "execution_count": 73,
   "metadata": {},
   "outputs": [
    {
     "name": "stdout",
     "output_type": "stream",
     "text": [
      "=================================================================================\n",
      "🔄 [Node] 계획 노드 🔄\n",
      "[1] 사용자 입력: 대구 동성로떡볶이?\n",
      "[2] planner 체인 실행: \n",
      "['인터넷 브라우저를 엽니다.', \"검색 엔진에 '대구 동성로 떡볶이'를 입력합니다.\", '검색 결과에서 관련 정보를 찾습니다.', '리뷰나 블로그 글을 통해 동성로 떡볶이의 위치와 맛에 대한 정보를 확인합니다.', '필요한 경우 지도 서비스를 이용해 동성로 떡볶이의 정확한 위치를 확인합니다.']\n",
      "=================================================================================\n"
     ]
    }
   ],
   "source": [
    "result2 = plan_step(state2_PlanExecute)     # 계획 노드 실행"
   ]
  },
  {
   "cell_type": "code",
   "execution_count": 74,
   "metadata": {},
   "outputs": [
    {
     "data": {
      "text/plain": [
       "{'input': '겔럭시폰을 만든 회사는?',\n",
       " 'plan': [\"'겔럭시폰'이라는 이름을 가진 제품이 어떤 회사에서 제조하는지 확인한다.\",\n",
       "  \"'겔럭시폰'은 삼성전자가 제조하는 스마트폰 브랜드임을 확인한다.\",\n",
       "  '따라서, 겔럭시폰을 만든 회사는 삼성전자이다.'],\n",
       " 'past_steps': [],\n",
       " 'response': ''}"
      ]
     },
     "execution_count": 74,
     "metadata": {},
     "output_type": "execute_result"
    }
   ],
   "source": [
    "state1_PlanExecute['plan'] = result1['plan']\n",
    "state1_PlanExecute"
   ]
  },
  {
   "cell_type": "code",
   "execution_count": 75,
   "metadata": {},
   "outputs": [
    {
     "data": {
      "text/plain": [
       "{'input': '대구 동성로떡볶이?',\n",
       " 'plan': ['인터넷 브라우저를 엽니다.',\n",
       "  \"검색 엔진에 '대구 동성로 떡볶이'를 입력합니다.\",\n",
       "  '검색 결과에서 관련 정보를 찾습니다.',\n",
       "  '리뷰나 블로그 글을 통해 동성로 떡볶이의 위치와 맛에 대한 정보를 확인합니다.',\n",
       "  '필요한 경우 지도 서비스를 이용해 동성로 떡볶이의 정확한 위치를 확인합니다.'],\n",
       " 'past_steps': [],\n",
       " 'response': ''}"
      ]
     },
     "execution_count": 75,
     "metadata": {},
     "output_type": "execute_result"
    }
   ],
   "source": [
    "state2_PlanExecute['plan'] = result2['plan']\n",
    "state2_PlanExecute"
   ]
  },
  {
   "cell_type": "markdown",
   "metadata": {},
   "source": [
    "### Agent 노드"
   ]
  },
  {
   "cell_type": "code",
   "execution_count": 76,
   "metadata": {},
   "outputs": [],
   "source": [
    "# 에이전트 실행기를 사용하여 주어진 작업을 수행하고 결과를 반환\n",
    "def execute_step(state: PlanExecute):\n",
    "    print('=================================================================================')\n",
    "    print(f\"🔄 [Node] 에이전트 노드 execute_step() 🔄\")\n",
    "    \n",
    "    plan = state[\"plan\"]\n",
    "\n",
    "    # 계획을 문자열로 변환하여 각 단계에 번호를 매김\n",
    "    plan_str = ''\n",
    "\n",
    "    for i, step in enumerate(plan):\n",
    "        plan_str = plan_str + f\"{i+1}. {step}\" + '\\n'\n",
    "    \n",
    "    plan_str.rstrip('\\n')\n",
    "\n",
    "    # print(f'plan 문자열')\n",
    "    # print(plan_str)\n",
    "    \n",
    "    task = plan[0]\n",
    "\n",
    "    # print('실행할 task: ')\n",
    "    # print(task)\n",
    "\n",
    "    task_formatted = f\"\"\"For the following plan:\n",
    "{plan_str}\\n\\nYou are tasked with executing [step 1. {task}].\"\"\"\n",
    "    \n",
    "    print('실행할 task: ')\n",
    "    print(task_formatted)\n",
    "\n",
    "    # 에이전트 실행기를 통해 작업 수행 및 결과 수신\n",
    "    agent_response = agent_executor.invoke({\"messages\": [(\"user\", task_formatted)]})\n",
    "\n",
    "    print('\\nagent_executor 실행: ')\n",
    "    print([(task, agent_response[\"messages\"][-1].content)])\n",
    "    print('=================================================================================')\n",
    "\n",
    "\n",
    "\n",
    "    # 이전 단계와 그 결과를 포함하는 딕셔너리 반환\n",
    "    return {\n",
    "        \"past_steps\": [(task, agent_response[\"messages\"][-1].content)],\n",
    "    }"
   ]
  },
  {
   "cell_type": "code",
   "execution_count": 77,
   "metadata": {},
   "outputs": [
    {
     "name": "stdout",
     "output_type": "stream",
     "text": [
      "=================================================================================\n",
      "🔄 [Node] 에이전트 노드 execute_step() 🔄\n",
      "실행할 task: \n",
      "For the following plan:\n",
      "1. '겔럭시폰'이라는 이름을 가진 제품이 어떤 회사에서 제조하는지 확인한다.\n",
      "2. '겔럭시폰'은 삼성전자가 제조하는 스마트폰 브랜드임을 확인한다.\n",
      "3. 따라서, 겔럭시폰을 만든 회사는 삼성전자이다.\n",
      "\n",
      "\n",
      "You are tasked with executing [step 1. '겔럭시폰'이라는 이름을 가진 제품이 어떤 회사에서 제조하는지 확인한다.].\n",
      "\n",
      "agent_executor 실행: \n",
      "[(\"'겔럭시폰'이라는 이름을 가진 제품이 어떤 회사에서 제조하는지 확인한다.\", \"'겔럭시폰'이라는 이름을 가진 제품은 삼성전자에서 제조하는 것으로 확인되었습니다. 삼성 갤럭시는 삼성전자의 모바일 제품 브랜드입니다.\")]\n",
      "=================================================================================\n"
     ]
    }
   ],
   "source": [
    "result2 = execute_step(state1_PlanExecute)"
   ]
  },
  {
   "cell_type": "code",
   "execution_count": 78,
   "metadata": {},
   "outputs": [
    {
     "name": "stdout",
     "output_type": "stream",
     "text": [
      "=================================================================================\n",
      "🔄 [Node] 에이전트 노드 execute_step() 🔄\n",
      "실행할 task: \n",
      "For the following plan:\n",
      "1. 인터넷 브라우저를 엽니다.\n",
      "2. 검색 엔진에 '대구 동성로 떡볶이'를 입력합니다.\n",
      "3. 검색 결과에서 관련 정보를 찾습니다.\n",
      "4. 리뷰나 블로그 글을 통해 동성로 떡볶이의 위치와 맛에 대한 정보를 확인합니다.\n",
      "5. 필요한 경우 지도 서비스를 이용해 동성로 떡볶이의 정확한 위치를 확인합니다.\n",
      "\n",
      "\n",
      "You are tasked with executing [step 1. 인터넷 브라우저를 엽니다.].\n",
      "\n",
      "agent_executor 실행: \n",
      "[('인터넷 브라우저를 엽니다.', \"죄송하지만, 저는 인터넷 브라우저를 직접 열 수 없습니다. 대신, 제가 검색을 도와드릴 수 있습니다. '대구 동성로 떡볶이'에 대한 정보를 검색해드릴까요?\")]\n",
      "=================================================================================\n"
     ]
    }
   ],
   "source": [
    "result2_2 = execute_step(state2_PlanExecute)"
   ]
  },
  {
   "cell_type": "code",
   "execution_count": 79,
   "metadata": {},
   "outputs": [
    {
     "data": {
      "text/plain": [
       "{'input': '겔럭시폰을 만든 회사는?',\n",
       " 'plan': [\"'겔럭시폰'이라는 이름을 가진 제품이 어떤 회사에서 제조하는지 확인한다.\",\n",
       "  \"'겔럭시폰'은 삼성전자가 제조하는 스마트폰 브랜드임을 확인한다.\",\n",
       "  '따라서, 겔럭시폰을 만든 회사는 삼성전자이다.'],\n",
       " 'past_steps': [(\"'겔럭시폰'이라는 이름을 가진 제품이 어떤 회사에서 제조하는지 확인한다.\",\n",
       "   \"'겔럭시폰'이라는 이름을 가진 제품은 삼성전자에서 제조하는 것으로 확인되었습니다. 삼성 갤럭시는 삼성전자의 모바일 제품 브랜드입니다.\")],\n",
       " 'response': ''}"
      ]
     },
     "execution_count": 79,
     "metadata": {},
     "output_type": "execute_result"
    }
   ],
   "source": [
    "state1_PlanExecute['past_steps'] = result2['past_steps']\n",
    "state1_PlanExecute"
   ]
  },
  {
   "cell_type": "code",
   "execution_count": 80,
   "metadata": {},
   "outputs": [
    {
     "data": {
      "text/plain": [
       "{'input': '대구 동성로떡볶이?',\n",
       " 'plan': ['인터넷 브라우저를 엽니다.',\n",
       "  \"검색 엔진에 '대구 동성로 떡볶이'를 입력합니다.\",\n",
       "  '검색 결과에서 관련 정보를 찾습니다.',\n",
       "  '리뷰나 블로그 글을 통해 동성로 떡볶이의 위치와 맛에 대한 정보를 확인합니다.',\n",
       "  '필요한 경우 지도 서비스를 이용해 동성로 떡볶이의 정확한 위치를 확인합니다.'],\n",
       " 'past_steps': [('인터넷 브라우저를 엽니다.',\n",
       "   \"죄송하지만, 저는 인터넷 브라우저를 직접 열 수 없습니다. 대신, 제가 검색을 도와드릴 수 있습니다. '대구 동성로 떡볶이'에 대한 정보를 검색해드릴까요?\")],\n",
       " 'response': ''}"
      ]
     },
     "execution_count": 80,
     "metadata": {},
     "output_type": "execute_result"
    }
   ],
   "source": [
    "state2_PlanExecute['past_steps'] = result2_2['past_steps']\n",
    "state2_PlanExecute"
   ]
  },
  {
   "cell_type": "markdown",
   "metadata": {},
   "source": [
    "### re-plan 단계"
   ]
  },
  {
   "cell_type": "code",
   "execution_count": 81,
   "metadata": {},
   "outputs": [],
   "source": [
    "# 계획을 재수립하기 위한 프롬프트 정의\n",
    "replanner_prompt = ChatPromptTemplate.from_template(\n",
    "    \"\"\"For the given objective, come up with a simple step by step plan. \\\n",
    "This plan should involve individual tasks, that if executed correctly will yield the correct answer. Do not add any superfluous steps. \\\n",
    "The result of the final step should be the final answer. Make sure that each step has all the information needed - do not skip steps.\n",
    "\n",
    "Your objective was this:\n",
    "{input}\n",
    "\n",
    "Your original plan was this:\n",
    "{plan}\n",
    "\n",
    "You have currently done the follow steps:\n",
    "{past_steps}\n",
    "\n",
    "Update your plan accordingly. If no more steps are needed and you can return to the user, then respond with that. Otherwise, fill out the plan. Only add steps to the plan that still NEED to be done. Do not return previously done steps as part of the plan.\n",
    "\n",
    "Answer in Korean.\"\"\"\n",
    ")\n",
    "\n",
    "\n",
    "llm = ChatOpenAI(\n",
    "    api_key=key, \n",
    "    model='gpt-4o', \n",
    "    temperature=0\n",
    ")\n",
    "\n",
    "# Replanner 생성\n",
    "replanner = replanner_prompt | llm.with_structured_output(Act)"
   ]
  },
  {
   "cell_type": "code",
   "execution_count": 82,
   "metadata": {},
   "outputs": [],
   "source": [
    "replanner_res = replanner.invoke(state1_PlanExecute)"
   ]
  },
  {
   "cell_type": "code",
   "execution_count": 83,
   "metadata": {},
   "outputs": [
    {
     "data": {
      "text/plain": [
       "Act(action=Response(response='현재까지 수행된 단계에 따라, 추가적인 단계는 필요하지 않습니다. \\n\\n최종 답변: 겔럭시폰을 만든 회사는 삼성전자입니다.'))"
      ]
     },
     "execution_count": 83,
     "metadata": {},
     "output_type": "execute_result"
    }
   ],
   "source": [
    "replanner_res"
   ]
  },
  {
   "cell_type": "markdown",
   "metadata": {},
   "source": [
    "### Re-Plan (재계획) 노드"
   ]
  },
  {
   "cell_type": "code",
   "execution_count": 84,
   "metadata": {},
   "outputs": [],
   "source": [
    "# 이전 단계의 결과를 바탕으로 계획을 업데이트하거나 최종 응답을 반환\n",
    "def replan_step(state: PlanExecute):\n",
    "    print('=================================================================================')\n",
    "    print(f\"🔄 [Node] Re-Plan (재계획) 노드 replan_step() 🔄\")\n",
    "\n",
    "    output = replanner.invoke(state)\n",
    "\n",
    "    print(f'replanner.invoke() 실행: ')\n",
    "    print(output)\n",
    "\n",
    "    if isinstance(output.action, Response):                 # 응답이 사용자에게 리턴한 경우\n",
    "        print('[리턴] Response: ')\n",
    "        print( output.action.response)\n",
    "        print('=================================================================================')\n",
    "\n",
    "        return {\"response\": output.action.response}\n",
    "    else:\n",
    "        next_plan = output.action.steps\n",
    "        \n",
    "        if len(next_plan) == 0:\n",
    "            print('실행할 단계가 없는 경우: No more steps needed')            \n",
    "            print('=================================================================================')\n",
    "\n",
    "            return {\"response\": \"No more steps needed.\"}\n",
    "        else:\n",
    "            print('실행할 단계가 남은 경우: ')\n",
    "            print(next_plan)\n",
    "            print('=================================================================================')\n",
    "\n",
    "            return {\"plan\": next_plan}"
   ]
  },
  {
   "cell_type": "code",
   "execution_count": 85,
   "metadata": {},
   "outputs": [
    {
     "name": "stdout",
     "output_type": "stream",
     "text": [
      "=================================================================================\n",
      "🔄 [Node] Re-Plan (재계획) 노드 replan_step() 🔄\n",
      "replanner.invoke() 실행: \n",
      "action=Response(response=\"현재까지의 진행 상황에 따르면, 이미 '겔럭시폰'이 삼성전자에서 제조된다는 사실을 확인하였습니다. 따라서 추가적인 단계는 필요하지 않으며, 최종 답변을 사용자에게 제공할 수 있습니다.\\n\\n최종 답변: 겔럭시폰을 만든 회사는 삼성전자입니다.\")\n",
      "[리턴] Response: \n",
      "현재까지의 진행 상황에 따르면, 이미 '겔럭시폰'이 삼성전자에서 제조된다는 사실을 확인하였습니다. 따라서 추가적인 단계는 필요하지 않으며, 최종 답변을 사용자에게 제공할 수 있습니다.\n",
      "\n",
      "최종 답변: 겔럭시폰을 만든 회사는 삼성전자입니다.\n",
      "=================================================================================\n"
     ]
    }
   ],
   "source": [
    "state1_PlanExecute_replain_res = replan_step(state1_PlanExecute)"
   ]
  },
  {
   "cell_type": "code",
   "execution_count": 86,
   "metadata": {},
   "outputs": [
    {
     "data": {
      "text/plain": [
       "{'response': \"현재까지의 진행 상황에 따르면, 이미 '겔럭시폰'이 삼성전자에서 제조된다는 사실을 확인하였습니다. 따라서 추가적인 단계는 필요하지 않으며, 최종 답변을 사용자에게 제공할 수 있습니다.\\n\\n최종 답변: 겔럭시폰을 만든 회사는 삼성전자입니다.\"}"
      ]
     },
     "execution_count": 86,
     "metadata": {},
     "output_type": "execute_result"
    }
   ],
   "source": [
    "state1_PlanExecute_replain_res"
   ]
  },
  {
   "cell_type": "code",
   "execution_count": 87,
   "metadata": {},
   "outputs": [],
   "source": [
    "state1_PlanExecute['response'] = state1_PlanExecute_replain_res['response']"
   ]
  },
  {
   "cell_type": "code",
   "execution_count": 88,
   "metadata": {},
   "outputs": [
    {
     "data": {
      "text/plain": [
       "{'input': '겔럭시폰을 만든 회사는?',\n",
       " 'plan': [\"'겔럭시폰'이라는 이름을 가진 제품이 어떤 회사에서 제조하는지 확인한다.\",\n",
       "  \"'겔럭시폰'은 삼성전자가 제조하는 스마트폰 브랜드임을 확인한다.\",\n",
       "  '따라서, 겔럭시폰을 만든 회사는 삼성전자이다.'],\n",
       " 'past_steps': [(\"'겔럭시폰'이라는 이름을 가진 제품이 어떤 회사에서 제조하는지 확인한다.\",\n",
       "   \"'겔럭시폰'이라는 이름을 가진 제품은 삼성전자에서 제조하는 것으로 확인되었습니다. 삼성 갤럭시는 삼성전자의 모바일 제품 브랜드입니다.\")],\n",
       " 'response': \"현재까지의 진행 상황에 따르면, 이미 '겔럭시폰'이 삼성전자에서 제조된다는 사실을 확인하였습니다. 따라서 추가적인 단계는 필요하지 않으며, 최종 답변을 사용자에게 제공할 수 있습니다.\\n\\n최종 답변: 겔럭시폰을 만든 회사는 삼성전자입니다.\"}"
      ]
     },
     "execution_count": 88,
     "metadata": {},
     "output_type": "execute_result"
    }
   ],
   "source": [
    "state1_PlanExecute"
   ]
  },
  {
   "cell_type": "markdown",
   "metadata": {},
   "source": [
    "### Agent 실행을 계속할지 결정하는 함수"
   ]
  },
  {
   "cell_type": "code",
   "execution_count": 89,
   "metadata": {},
   "outputs": [],
   "source": [
    "def should_end(state: PlanExecute):\n",
    "    print('=================================================================================')\n",
    "    print(f\"🔄 [함수] 에이전트 실행을 계속할지 결정 should_end() 🔄\")\n",
    "\n",
    "    if \"response\" in state and state[\"response\"]:\n",
    "        print('결과: final_report')\n",
    "        print('=================================================================================')\n",
    "        return \"final_report\"\n",
    "    else:\n",
    "        print('결과: execute')\n",
    "        print('=================================================================================')\n",
    "        return \"execute\""
   ]
  },
  {
   "cell_type": "code",
   "execution_count": 90,
   "metadata": {},
   "outputs": [
    {
     "name": "stdout",
     "output_type": "stream",
     "text": [
      "=================================================================================\n",
      "🔄 [함수] 에이전트 실행을 계속할지 결정 should_end() 🔄\n",
      "결과: final_report\n",
      "=================================================================================\n"
     ]
    },
    {
     "data": {
      "text/plain": [
       "'final_report'"
      ]
     },
     "execution_count": 90,
     "metadata": {},
     "output_type": "execute_result"
    }
   ],
   "source": [
    "should_end(state1_PlanExecute)"
   ]
  },
  {
   "cell_type": "code",
   "execution_count": 98,
   "metadata": {},
   "outputs": [],
   "source": [
    "final_report_prompt = ChatPromptTemplate.from_template(\n",
    "    \"\"\"You are given the objective and the previously done steps. Your task is to generate a final report in markdown format.\n",
    "Final report should be written in professional tone.\n",
    "\n",
    "Your objective was this:\n",
    "\n",
    "{input}\n",
    "\n",
    "Your previously done steps(question and answer pairs):\n",
    "\n",
    "{past_steps}\n",
    "\n",
    "Generate a final report in markdown format. Write your response in Korean.\"\"\"\n",
    ")\n",
    "\n",
    "\n",
    "llm = ChatOpenAI(\n",
    "    api_key=key, \n",
    "    model='gpt-4o', \n",
    "    temperature=0\n",
    ")\n",
    "\n",
    "output_parer = StrOutputParser()\n",
    "\n",
    "final_report = final_report_prompt | llm | output_parer "
   ]
  },
  {
   "cell_type": "code",
   "execution_count": 102,
   "metadata": {},
   "outputs": [],
   "source": [
    "def generate_final_report(state: PlanExecute):\n",
    "    print('=================================================================================')\n",
    "    print(f\"🔄 [함수] 리포트 생성 노드 generate_final_report() 🔄\")\n",
    "\n",
    "    past_steps  = ''\n",
    "\n",
    "\n",
    "    for past_step in state[\"past_steps\"]:\n",
    "        question = past_step[0]                 # 첫 번째 요소는 질문\n",
    "        answer = past_step[1]                   # 두 번째 요소는 답변\n",
    "        \n",
    "        # 현재 질문과 답변을 포맷팅하여 `past_steps`에 추가\n",
    "        formatted_step = f\"Question: {question}\\n\\nAnswer: {answer}\\n\\n####\"\n",
    "\n",
    "        past_steps = past_steps + formatted_step + \"\\n\\n\"  # 각 단계 사이에 두 줄 띄우기\n",
    "\n",
    "\n",
    "    print('past_steps:')\n",
    "    print(past_steps)\n",
    "\n",
    "    response = final_report.invoke({\"input\": state[\"input\"], \"past_steps\": past_steps})\n",
    "\n",
    "    print('final_report 실행: ')\n",
    "    print(response)\n",
    "    print('=================================================================================')\n",
    "\n",
    "\n",
    "    return {\"response\": response}"
   ]
  },
  {
   "cell_type": "code",
   "execution_count": 103,
   "metadata": {},
   "outputs": [
    {
     "name": "stdout",
     "output_type": "stream",
     "text": [
      "=================================================================================\n",
      "🔄 [함수] 리포트 생성 노드 generate_final_report() 🔄\n",
      "past_steps:\n",
      "Question: '겔럭시폰'이라는 이름을 가진 제품이 어떤 회사에서 제조하는지 확인한다.\n",
      "\n",
      "Answer: '겔럭시폰'이라는 이름을 가진 제품은 삼성전자에서 제조하는 것으로 확인되었습니다. 삼성 갤럭시는 삼성전자의 모바일 제품 브랜드입니다.\n",
      "\n",
      "####\n",
      "\n",
      "\n",
      "final_report 실행: \n",
      "# 최종 보고서\n",
      "\n",
      "## 개요\n",
      "\n",
      "본 보고서는 \"겔럭시폰을 만든 회사는?\"이라는 질문에 대한 조사 결과를 제공합니다. 이 보고서는 겔럭시폰의 제조사를 확인하기 위한 일련의 조사 단계를 통해 얻어진 정보를 바탕으로 작성되었습니다.\n",
      "\n",
      "## 조사 결과\n",
      "\n",
      "### 질문\n",
      "\n",
      "- **질문:** '겔럭시폰'이라는 이름을 가진 제품이 어떤 회사에서 제조하는지 확인한다.\n",
      "\n",
      "### 답변\n",
      "\n",
      "- **답변:** '겔럭시폰'이라는 이름을 가진 제품은 삼성전자에서 제조하는 것으로 확인되었습니다. 삼성 갤럭시는 삼성전자의 모바일 제품 브랜드입니다.\n",
      "\n",
      "## 결론\n",
      "\n",
      "조사 결과, 겔럭시폰은 삼성전자에서 제조하는 제품임이 명확히 확인되었습니다. 삼성 갤럭시는 삼성전자의 대표적인 모바일 제품 브랜드로, 전 세계적으로 널리 알려져 있습니다. 본 보고서는 겔럭시폰의 제조사를 명확히 밝히는 데 성공하였습니다.\n",
      "\n",
      "## 참고 문헌\n",
      "\n",
      "- 삼성전자 공식 웹사이트\n",
      "- 관련 산업 보고서 및 뉴스 기사\n",
      "\n",
      "본 보고서는 겔럭시폰의 제조사에 대한 명확한 정보를 제공하며, 관련된 추가적인 질문이나 논의가 필요할 경우, 추가 조사를 통해 더 깊이 있는 정보를 제공할 수 있습니다.\n",
      "=================================================================================\n"
     ]
    }
   ],
   "source": [
    "state1_PlanExecute_final_prompt = generate_final_report(state1_PlanExecute)"
   ]
  },
  {
   "cell_type": "code",
   "execution_count": 104,
   "metadata": {},
   "outputs": [],
   "source": [
    "from langgraph.graph import StateGraph, START, END\n",
    "from langgraph.checkpoint.memory import MemorySaver\n",
    "\n",
    "\n",
    "# 그래프 생성\n",
    "workflow = StateGraph(PlanExecute)\n",
    "\n",
    "# 노드 정의\n",
    "workflow.add_node(\"planner\", plan_step)                         # 계획 노드\n",
    "workflow.add_node(\"execute\", execute_step)                      # 에이전트 노드\n",
    "workflow.add_node(\"replan\", replan_step)                        # 재계획 노드\n",
    "workflow.add_node(\"final_report\", generate_final_report)        # 리포트 생성 노드\n",
    "\n",
    "# 엣지 정의\n",
    "workflow.add_edge(START, \"planner\")                             # START                          에서   계획(planner)     노드\n",
    "workflow.add_edge(\"planner\", \"execute\")                         # 계획(planner) 노드             에서   에이전트(execute) 노드 \n",
    "workflow.add_edge(\"execute\", \"replan\")                          # 에이전트(execute) 노드         에서   재계획(replan)    노드\n",
    "workflow.add_edge(\"final_report\", END)                          # 리포트 생성(final_report) 노드 에서   END\n",
    "\n",
    "# 조건부 엣지: replan 후 종료 여부를 결정하는 함수 사용\n",
    "workflow.add_conditional_edges(\n",
    "    \"replan\",\n",
    "    should_end,\n",
    "    {\"execute\": \"execute\", \"final_report\": \"final_report\"},\n",
    ")\n",
    "\n",
    "# 그래프 컴파일\n",
    "app = workflow.compile(checkpointer=MemorySaver())"
   ]
  },
  {
   "cell_type": "code",
   "execution_count": 105,
   "metadata": {},
   "outputs": [
    {
     "data": {
      "image/png": "[encoded data removed]",
      "text/plain": [
       "<IPython.core.display.Image object>"
      ]
     },
     "metadata": {},
     "output_type": "display_data"
    }
   ],
   "source": [
    "from langchain_teddynote.graphs import visualize_graph\n",
    "\n",
    "visualize_graph(app, xray=True)"
   ]
  },
  {
   "cell_type": "code",
   "execution_count": 106,
   "metadata": {},
   "outputs": [
    {
     "name": "stdout",
     "output_type": "stream",
     "text": [
      "=================================================================================\n",
      "🔄 [Node] 계획 노드 🔄\n",
      "[1] 사용자 입력: 겔럭시폰을 만든 회사는?\n",
      "[2] planner 체인 실행: \n",
      "[\"'겔럭시폰'이라는 제품명을 확인한다.\", \"'겔럭시폰'이 삼성전자의 제품임을 확인한다.\", \"삼성전자가 '겔럭시폰'을 만든 회사임을 결론짓는다.\"]\n",
      "=================================================================================\n",
      "[node_name]: planner\n",
      "[node_chunk]:\n",
      " {'plan': [\"'겔럭시폰'이라는 제품명을 확인한다.\", \"'겔럭시폰'이 삼성전자의 제품임을 확인한다.\", \"삼성전자가 '겔럭시폰'을 만든 회사임을 결론짓는다.\"]}\n",
      "=================================================================================\n",
      "🔄 [Node] 에이전트 노드 execute_step() 🔄\n",
      "실행할 task: \n",
      "For the following plan:\n",
      "1. '겔럭시폰'이라는 제품명을 확인한다.\n",
      "2. '겔럭시폰'이 삼성전자의 제품임을 확인한다.\n",
      "3. 삼성전자가 '겔럭시폰'을 만든 회사임을 결론짓는다.\n",
      "\n",
      "\n",
      "You are tasked with executing [step 1. '겔럭시폰'이라는 제품명을 확인한다.].\n",
      "\n",
      "agent_executor 실행: \n",
      "[(\"'겔럭시폰'이라는 제품명을 확인한다.\", \"'겔럭시폰'은 삼성전자의 제품명으로 확인되었습니다. 삼성 갤럭시 핸드폰은 다양한 모델명과 함께 시리얼 넘버, 일련번호, IMEI 등을 확인할 수 있는 방법이 제공되고 있습니다.\")]\n",
      "=================================================================================\n",
      "[node_name]: execute\n",
      "[node_chunk]:\n",
      " {'past_steps': [(\"'겔럭시폰'이라는 제품명을 확인한다.\", \"'겔럭시폰'은 삼성전자의 제품명으로 확인되었습니다. 삼성 갤럭시 핸드폰은 다양한 모델명과 함께 시리얼 넘버, 일련번호, IMEI 등을 확인할 수 있는 방법이 제공되고 있습니다.\")]}\n",
      "=================================================================================\n",
      "🔄 [Node] Re-Plan (재계획) 노드 replan_step() 🔄\n",
      "replanner.invoke() 실행: \n",
      "action=Response(response=\"삼성전자가 '겔럭시폰'을 만든 회사임을 결론짓는다.\")\n",
      "[리턴] Response: \n",
      "삼성전자가 '겔럭시폰'을 만든 회사임을 결론짓는다.\n",
      "=================================================================================\n",
      "=================================================================================\n",
      "🔄 [함수] 에이전트 실행을 계속할지 결정 should_end() 🔄\n",
      "결과: final_report\n",
      "=================================================================================\n",
      "[node_name]: replan\n",
      "[node_chunk]:\n",
      " {'response': \"삼성전자가 '겔럭시폰'을 만든 회사임을 결론짓는다.\"}\n",
      "=================================================================================\n",
      "🔄 [함수] 리포트 생성 노드 generate_final_report() 🔄\n",
      "past_steps:\n",
      "Question: '겔럭시폰'이라는 제품명을 확인한다.\n",
      "\n",
      "Answer: '겔럭시폰'은 삼성전자의 제품명으로 확인되었습니다. 삼성 갤럭시 핸드폰은 다양한 모델명과 함께 시리얼 넘버, 일련번호, IMEI 등을 확인할 수 있는 방법이 제공되고 있습니다.\n",
      "\n",
      "####\n",
      "\n",
      "\n",
      "final_report 실행: \n",
      "# 최종 보고서\n",
      "\n",
      "## 목적\n",
      "\n",
      "본 보고서의 목적은 \"겔럭시폰을 만든 회사는?\"이라는 질문에 대한 답변을 제공하는 것입니다.\n",
      "\n",
      "## 조사 과정\n",
      "\n",
      "### 질문 1: '겔럭시폰'이라는 제품명을 확인한다.\n",
      "\n",
      "- **답변:** '겔럭시폰'은 삼성전자의 제품명으로 확인되었습니다. 삼성 갤럭시 핸드폰은 다양한 모델명과 함께 시리얼 넘버, 일련번호, IMEI 등을 확인할 수 있는 방법이 제공되고 있습니다.\n",
      "\n",
      "## 결론\n",
      "\n",
      "조사 결과, '겔럭시폰'은 삼성전자에서 제조한 제품임을 확인하였습니다. 삼성전자는 다양한 모델의 갤럭시 핸드폰을 출시하고 있으며, 각 모델에 대한 세부 정보는 시리얼 넘버, 일련번호, IMEI 등을 통해 확인할 수 있습니다.\n",
      "\n",
      "본 보고서는 '겔럭시폰'의 제조사를 명확히 밝히는 데 목적이 있으며, 삼성전자가 해당 제품의 제조사임을 확정하였습니다. 추가적인 정보가 필요할 경우, 삼성전자의 공식 웹사이트나 고객 지원 센터를 통해 확인할 수 있습니다.\n",
      "=================================================================================\n",
      "[node_name]: final_report\n",
      "[node_chunk]:\n",
      " {'response': '# 최종 보고서\\n\\n## 목적\\n\\n본 보고서의 목적은 \"겔럭시폰을 만든 회사는?\"이라는 질문에 대한 답변을 제공하는 것입니다.\\n\\n## 조사 과정\\n\\n### 질문 1: \\'겔럭시폰\\'이라는 제품명을 확인한다.\\n\\n- **답변:** \\'겔럭시폰\\'은 삼성전자의 제품명으로 확인되었습니다. 삼성 갤럭시 핸드폰은 다양한 모델명과 함께 시리얼 넘버, 일련번호, IMEI 등을 확인할 수 있는 방법이 제공되고 있습니다.\\n\\n## 결론\\n\\n조사 결과, \\'겔럭시폰\\'은 삼성전자에서 제조한 제품임을 확인하였습니다. 삼성전자는 다양한 모델의 갤럭시 핸드폰을 출시하고 있으며, 각 모델에 대한 세부 정보는 시리얼 넘버, 일련번호, IMEI 등을 통해 확인할 수 있습니다.\\n\\n본 보고서는 \\'겔럭시폰\\'의 제조사를 명확히 밝히는 데 목적이 있으며, 삼성전자가 해당 제품의 제조사임을 확정하였습니다. 추가적인 정보가 필요할 경우, 삼성전자의 공식 웹사이트나 고객 지원 센터를 통해 확인할 수 있습니다.'}\n"
     ]
    }
   ],
   "source": [
    "from langchain_teddynote.messages import invoke_graph, random_uuid\n",
    "from langchain_core.runnables import RunnableConfig\n",
    "\n",
    "config = RunnableConfig(recursion_limit=50, configurable={\"thread_id\": random_uuid()})\n",
    "\n",
    "inputs = {\n",
    "    \"input\": \"겔럭시폰을 만든 회사는?\"\n",
    "}\n",
    "\n",
    "for event in app.stream(inputs, config=config):\n",
    "    for node_name, node_chunk in event.items():\n",
    "        print('[node_name]:', node_name)\n",
    "        print('[node_chunk]:\\n', node_chunk)"
   ]
  },
  {
   "cell_type": "code",
   "execution_count": 97,
   "metadata": {},
   "outputs": [
    {
     "name": "stdout",
     "output_type": "stream",
     "text": [
      "=================================================================================\n",
      "🔄 [Node] 계획 노드 🔄\n",
      "[1] 사용자 입력: 겔럭시폰을 만든 회사는?\n",
      "[2] planner 체인 실행: \n",
      "[\"'겔럭시폰'이라는 이름의 제품을 만든 회사의 이름을 찾는다.\", \"'겔럭시폰'은 삼성전자가 만든 제품임을 확인한다.\", '따라서, 겔럭시폰을 만든 회사는 삼성전자이다.']\n",
      "=================================================================================\n",
      "[node_name]: planner\n",
      "[node_chunk]:\n",
      " {'plan': [\"'겔럭시폰'이라는 이름의 제품을 만든 회사의 이름을 찾는다.\", \"'겔럭시폰'은 삼성전자가 만든 제품임을 확인한다.\", '따라서, 겔럭시폰을 만든 회사는 삼성전자이다.']}\n",
      "=================================================================================\n",
      "🔄 [Node] 에이전트 노드 execute_step() 🔄\n",
      "실행할 task: \n",
      "For the following plan:\n",
      "1. '겔럭시폰'이라는 이름의 제품을 만든 회사의 이름을 찾는다.\n",
      "2. '겔럭시폰'은 삼성전자가 만든 제품임을 확인한다.\n",
      "3. 따라서, 겔럭시폰을 만든 회사는 삼성전자이다.\n",
      "\n",
      "\n",
      "You are tasked with executing [step 1. '겔럭시폰'이라는 이름의 제품을 만든 회사의 이름을 찾는다.].\n",
      "\n",
      "agent_executor 실행: \n",
      "[(\"'겔럭시폰'이라는 이름의 제품을 만든 회사의 이름을 찾는다.\", \"'겔럭시폰'이라는 이름의 제품을 만든 회사는 삼성전자입니다.\")]\n",
      "=================================================================================\n",
      "[node_name]: execute\n",
      "[node_chunk]:\n",
      " {'past_steps': [(\"'겔럭시폰'이라는 이름의 제품을 만든 회사의 이름을 찾는다.\", \"'겔럭시폰'이라는 이름의 제품을 만든 회사는 삼성전자입니다.\")]}\n",
      "=================================================================================\n",
      "🔄 [Node] Re-Plan (재계획) 노드 replan_step() 🔄\n",
      "replanner.invoke() 실행: \n",
      "action=Response(response='겔럭시폰을 만든 회사는 삼성전자입니다. 더 이상의 단계는 필요하지 않습니다.')\n",
      "[리턴] Response: \n",
      "겔럭시폰을 만든 회사는 삼성전자입니다. 더 이상의 단계는 필요하지 않습니다.\n",
      "=================================================================================\n",
      "=================================================================================\n",
      "🔄 [함수] 에이전트 실행을 계속할지 결정 should_end() 🔄\n",
      "결과: final_report\n",
      "=================================================================================\n",
      "[node_name]: replan\n",
      "[node_chunk]:\n",
      " {'response': '겔럭시폰을 만든 회사는 삼성전자입니다. 더 이상의 단계는 필요하지 않습니다.'}\n",
      "=================================================================================\n",
      "🔄 [함수] 리포트 생성 노드 generate_final_report() 🔄\n",
      "past_steps:\n",
      "Question: '겔럭시폰'이라는 이름의 제품을 만든 회사의 이름을 찾는다.\n",
      "\n",
      "Answer: '겔럭시폰'이라는 이름의 제품을 만든 회사는 삼성전자입니다.\n",
      "\n",
      "####\n",
      "\n",
      "\n",
      "final_report 실행: \n",
      "# 최종 보고서\n",
      "\n",
      "## 개요\n",
      "\n",
      "본 보고서는 \"겔럭시폰을 만든 회사는?\"이라는 질문에 대한 답을 찾기 위한 조사 결과를 담고 있습니다. 이 질문은 특정 제품의 제조사를 식별하는 것을 목표로 하였습니다.\n",
      "\n",
      "## 조사 과정\n",
      "\n",
      "조사 과정은 다음과 같은 질문과 답변의 형태로 진행되었습니다:\n",
      "\n",
      "- **질문:** '겔럭시폰'이라는 이름의 제품을 만든 회사의 이름을 찾는다.\n",
      "- **답변:** '겔럭시폰'이라는 이름의 제품을 만든 회사는 삼성전자입니다.\n",
      "\n",
      "## 결론\n",
      "\n",
      "조사 결과, '겔럭시폰'이라는 제품은 삼성전자에서 제조한 것으로 확인되었습니다. 삼성전자는 전 세계적으로 잘 알려진 전자제품 제조사로, 다양한 전자기기와 스마트폰을 생산하고 있습니다. 겔럭시폰은 삼성전자의 대표적인 스마트폰 브랜드로, 다양한 모델과 혁신적인 기술로 시장에서 높은 평가를 받고 있습니다.\n",
      "\n",
      "## 참고 문헌\n",
      "\n",
      "- 삼성전자 공식 웹사이트\n",
      "- 관련 산업 보고서 및 뉴스 기사\n",
      "\n",
      "본 보고서는 위의 자료를 바탕으로 작성되었습니다. 추가적인 정보가 필요할 경우, 관련 문헌을 참조하시기 바랍니다.\n",
      "=================================================================================\n",
      "[node_name]: final_report\n",
      "[node_chunk]:\n",
      " {'response': '# 최종 보고서\\n\\n## 개요\\n\\n본 보고서는 \"겔럭시폰을 만든 회사는?\"이라는 질문에 대한 답을 찾기 위한 조사 결과를 담고 있습니다. 이 질문은 특정 제품의 제조사를 식별하는 것을 목표로 하였습니다.\\n\\n## 조사 과정\\n\\n조사 과정은 다음과 같은 질문과 답변의 형태로 진행되었습니다:\\n\\n- **질문:** \\'겔럭시폰\\'이라는 이름의 제품을 만든 회사의 이름을 찾는다.\\n- **답변:** \\'겔럭시폰\\'이라는 이름의 제품을 만든 회사는 삼성전자입니다.\\n\\n## 결론\\n\\n조사 결과, \\'겔럭시폰\\'이라는 제품은 삼성전자에서 제조한 것으로 확인되었습니다. 삼성전자는 전 세계적으로 잘 알려진 전자제품 제조사로, 다양한 전자기기와 스마트폰을 생산하고 있습니다. 겔럭시폰은 삼성전자의 대표적인 스마트폰 브랜드로, 다양한 모델과 혁신적인 기술로 시장에서 높은 평가를 받고 있습니다.\\n\\n## 참고 문헌\\n\\n- 삼성전자 공식 웹사이트\\n- 관련 산업 보고서 및 뉴스 기사\\n\\n본 보고서는 위의 자료를 바탕으로 작성되었습니다. 추가적인 정보가 필요할 경우, 관련 문헌을 참조하시기 바랍니다.'}\n"
     ]
    }
   ],
   "source": [
    "from langchain_teddynote.messages import invoke_graph, random_uuid\n",
    "from langchain_core.runnables import RunnableConfig\n",
    "\n",
    "config = RunnableConfig(recursion_limit=50, configurable={\"thread_id\": random_uuid()})\n",
    "\n",
    "inputs = {\n",
    "    \"input\": \"겔럭시폰을 만든 회사는?\"\n",
    "}\n",
    "\n",
    "for event in app.stream(inputs, config=config, stream_mode='updates'):\n",
    "    for node_name, node_chunk in event.items():\n",
    "        print('[node_name]:', node_name)\n",
    "        print('[node_chunk]:\\n', node_chunk)"
   ]
  }
 ],
 "metadata": {
  "kernelspec": {
   "display_name": "venv",
   "language": "python",
   "name": "python3"
  },
  "language_info": {
   "codemirror_mode": {
    "name": "ipython",
    "version": 3
   },
   "file_extension": ".py",
   "mimetype": "text/x-python",
   "name": "python",
   "nbconvert_exporter": "python",
   "pygments_lexer": "ipython3",
   "version": "3.11.9"
  }
 },
 "nbformat": 4,
 "nbformat_minor": 2
}
