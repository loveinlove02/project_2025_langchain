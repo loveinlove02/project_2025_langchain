{
 "cells": [
  {
   "cell_type": "code",
   "execution_count": 1,
   "metadata": {},
   "outputs": [],
   "source": [
    "from dotenv import load_dotenv\n",
    "import os\n",
    "\n",
    "load_dotenv(verbose=True)\n",
    "key = os.getenv('OPENAI_API_KEY')"
   ]
  },
  {
   "cell_type": "markdown",
   "metadata": {},
   "source": [
    "### 기본 그래프 생성\n",
    "\n",
    "LangGraph의 그래프 정의하기\n",
    "\n",
    "1. State 정의\n",
    "2. 노드 정의\n",
    "3. 그래프 정의\n",
    "4. 그래프 컴파일\n",
    "5. 그래프 시작화\n",
    "\n",
    "단계를 거칩니다."
   ]
  },
  {
   "cell_type": "markdown",
   "metadata": {},
   "source": [
    "### State 정의\n",
    "\n",
    "`State`: Graph 의 노드와 노드들을 끼리 공유하는 상태를 정의합니다."
   ]
  },
  {
   "cell_type": "code",
   "execution_count": 4,
   "metadata": {},
   "outputs": [],
   "source": [
    "from typing import Annotated, List, TypedDict\n",
    "from langchain_core.documents import Document\n",
    "import operator\n",
    "\n",
    "class GraphState(TypedDict):\n",
    "    context: Annotated[List[Document], operator.add]        # 문서의 검색 결과\n",
    "    answer: Annotated[List[Document], operator.add]         # 답변\n",
    "    question: Annotated[str, 'user question']               # 질문\n",
    "    sql_query: Annotated[str, 'sql query']                  \n",
    "    binary_score: Annotated[str, 'binary score yes or no']"
   ]
  },
  {
   "cell_type": "markdown",
   "metadata": {},
   "source": [
    "### 노드 정의\n",
    "\n",
    "`Nodes`: 각 단계를 처리하는 노드입니다. Python 함수로 만들게 되고 함수의 입력과 출력이 상태(State) 값입니다. <br>\n",
    "\n",
    "`State` 를 입력으로 받아 정의된 로직을 수행한 후 업데이트된 State를 반환합니다."
   ]
  },
  {
   "cell_type": "code",
   "execution_count": null,
   "metadata": {},
   "outputs": [],
   "source": [
    "def retrieve(state: GraphState) -> GraphState:          # 문서 검색 노드\n",
    "    # retrieve: 검색\n",
    "    \n",
    "    documents = '검색된 문서'\n",
    "    return {'context': documents}"
   ]
  },
  {
   "cell_type": "code",
   "execution_count": 6,
   "metadata": {},
   "outputs": [],
   "source": [
    "def llm_gpt_execute(state: GraphState) -> GraphState:   # 답변 생성 노드\n",
    "    # LLM 실행\n",
    "\n",
    "    answer = 'GPT에서 생성된 답변'\n",
    "    return GraphState(answer=answer)"
   ]
  },
  {
   "cell_type": "code",
   "execution_count": 8,
   "metadata": {},
   "outputs": [],
   "source": [
    "def relevance_check(state: GraphState) -> GraphState:   # 관련성 체크 노드\n",
    "    # Relevance Check: 관련성 확인\n",
    "\n",
    "    binary_score = 'yes'\n",
    "    return GraphState(binary_score=binary_score)"
   ]
  },
  {
   "cell_type": "code",
   "execution_count": 9,
   "metadata": {},
   "outputs": [],
   "source": [
    "def sum_up(state: GraphState) -> GraphState:\n",
    "    # sum_up: 결과 종합\n",
    "\n",
    "    answer = '종합된 답변'\n",
    "    return GraphState(answer=answer)"
   ]
  },
  {
   "cell_type": "markdown",
   "metadata": {},
   "source": [
    "### 그래프 정의\n",
    "\n",
    "`Edges`: 현재 State를 기반으로 다음에 실행할 Node를 결정하는 Python 함수.<br>\n",
    "\n",
    "일반 엣지, 조건부 엣지 등이 있습니다."
   ]
  },
  {
   "cell_type": "code",
   "execution_count": 20,
   "metadata": {},
   "outputs": [],
   "source": [
    "from langgraph.checkpoint.memory import MemorySaver\n",
    "from langchain_teddynote.graphs import visualize_graph\n",
    "from langgraph.graph import StateGraph, END"
   ]
  },
  {
   "cell_type": "code",
   "execution_count": 12,
   "metadata": {},
   "outputs": [],
   "source": [
    "######### 1. 그래프 생성 #########\n",
    "\n",
    "workflow = StateGraph(GraphState)"
   ]
  },
  {
   "cell_type": "code",
   "execution_count": 13,
   "metadata": {},
   "outputs": [
    {
     "data": {
      "text/plain": [
       "<langgraph.graph.state.StateGraph at 0x23b40d4dd50>"
      ]
     },
     "execution_count": 13,
     "metadata": {},
     "output_type": "execute_result"
    }
   ],
   "source": [
    "######### 2. 노드 정의  #########\n",
    "\n",
    "# 노드 이름, 함수 이름을 넣으서 노트를 추가\n",
    "workflow.add_node('retrieve', retrieve)\n",
    "workflow.add_node('GPT 요청', llm_gpt_execute)\n",
    "workflow.add_node('GPT_relevance_ckeck', relevance_check)\n",
    "workflow.add_node('결과 종합', sum_up)"
   ]
  },
  {
   "cell_type": "code",
   "execution_count": 14,
   "metadata": {},
   "outputs": [
    {
     "data": {
      "text/plain": [
       "<langgraph.graph.state.StateGraph at 0x23b40d4dd50>"
      ]
     },
     "execution_count": 14,
     "metadata": {},
     "output_type": "execute_result"
    }
   ],
   "source": [
    "######### 3. 그래프 엣지(Edge) 추가  #########\n",
    "\n",
    "workflow.add_edge('retrieve', 'GPT 요청')\n",
    "workflow.add_edge('GPT 요청', 'GPT_relevance_ckeck')\n",
    "workflow.add_edge('GPT_relevance_ckeck', '결과 종합')\n",
    "workflow.add_edge('결과 종합', END)"
   ]
  },
  {
   "cell_type": "code",
   "execution_count": 15,
   "metadata": {},
   "outputs": [
    {
     "data": {
      "text/plain": [
       "<langgraph.graph.state.StateGraph at 0x23b40d4dd50>"
      ]
     },
     "execution_count": 15,
     "metadata": {},
     "output_type": "execute_result"
    }
   ],
   "source": [
    "######### 4. 그래프 진입점  #########\n",
    "\n",
    "workflow.set_entry_point('retrieve')"
   ]
  },
  {
   "cell_type": "code",
   "execution_count": 16,
   "metadata": {},
   "outputs": [],
   "source": [
    "######### 5. 체크 포인터 설정  #########\n",
    "\n",
    "memory = MemorySaver()"
   ]
  },
  {
   "cell_type": "code",
   "execution_count": null,
   "metadata": {},
   "outputs": [],
   "source": [
    "######### 6. 그래프 컴파일(compile)  #########\n",
    "\n",
    "app = workflow.compile(checkpointer=memory)"
   ]
  },
  {
   "cell_type": "code",
   "execution_count": 21,
   "metadata": {},
   "outputs": [
    {
     "data": {
      "image/png": "[encoded data removed]",
      "text/plain": [
       "<IPython.core.display.Image object>"
      ]
     },
     "metadata": {},
     "output_type": "display_data"
    }
   ],
   "source": [
    "visualize_graph(app)"
   ]
  },
  {
   "cell_type": "code",
   "execution_count": 22,
   "metadata": {},
   "outputs": [
    {
     "data": {
      "image/png": "[encoded data removed]",
      "text/plain": [
       "<IPython.core.display.Image object>"
      ]
     },
     "metadata": {},
     "output_type": "display_data"
    }
   ],
   "source": [
    "from IPython.display import Image, display\n",
    "\n",
    "display(Image(app.get_graph().draw_mermaid_png()))"
   ]
  }
 ],
 "metadata": {
  "kernelspec": {
   "display_name": "venv",
   "language": "python",
   "name": "python3"
  },
  "language_info": {
   "codemirror_mode": {
    "name": "ipython",
    "version": 3
   },
   "file_extension": ".py",
   "mimetype": "text/x-python",
   "name": "python",
   "nbconvert_exporter": "python",
   "pygments_lexer": "ipython3",
   "version": "3.11.9"
  }
 },
 "nbformat": 4,
 "nbformat_minor": 2
}
