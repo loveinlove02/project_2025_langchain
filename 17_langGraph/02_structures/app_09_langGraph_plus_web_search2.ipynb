{
 "cells": [
  {
   "cell_type": "code",
   "execution_count": 1,
   "metadata": {},
   "outputs": [],
   "source": [
    "from dotenv import load_dotenv\n",
    "import os\n",
    "\n",
    "load_dotenv(verbose=True)\n",
    "key = os.getenv('OPENAI_API_KEY')"
   ]
  },
  {
   "cell_type": "markdown",
   "metadata": {},
   "source": [
    "### PDF 문서 검색 Retrieval Chain 생성"
   ]
  },
  {
   "cell_type": "code",
   "execution_count": 2,
   "metadata": {},
   "outputs": [],
   "source": [
    "from rag.pdf import PDFRetrievalChain\n",
    "\n",
    "\n",
    "pdf = PDFRetrievalChain(['data/SPRI_AI_Brief_2023년12월호_F.pdf']).create_chain()           # PDF 문서를 로드\n",
    "\n",
    "pdf_retriever = pdf.retriever       # retriever 생성\n",
    "pdf_chain = pdf.chain               # pdf retriever chain 생성"
   ]
  },
  {
   "cell_type": "markdown",
   "metadata": {},
   "source": [
    "### State 정의\n",
    "\n",
    "`State`: Graph 의 노드와 노드들을 끼리 공유하는 상태를 정의합니다.\n",
    "<br>\n",
    "\n",
    "State에 관련성(relevance) 체크 결과를 추가합니다."
   ]
  },
  {
   "cell_type": "code",
   "execution_count": 3,
   "metadata": {},
   "outputs": [],
   "source": [
    "from typing import Annotated, TypedDict\n",
    "from langgraph.graph.message import add_messages\n",
    "\n",
    "class GraphState(TypedDict):               \n",
    "    question: Annotated[str, 'question']            # 질문\n",
    "    context: Annotated[str, 'context']              # 문서의 검색 결과\n",
    "    answer: Annotated[str, 'Answer']                # 답변\n",
    "    messages: Annotated[list, add_messages ]        # 메시지\n",
    "    relevance: Annotated[str, 'Relevance']          # 관련성"
   ]
  },
  {
   "cell_type": "markdown",
   "metadata": {},
   "source": [
    "### 노드 정의\n",
    "\n",
    "`Nodes`: 각 단계를 처리하는 노드입니다. Python 함수로 만들게 되고 함수의 입력과 출력이 상태(State) 값입니다. <br>\n",
    "\n",
    "`State` 를 입력으로 받아 정의된 로직을 수행한 후 업데이트된 State를 반환합니다."
   ]
  },
  {
   "cell_type": "code",
   "execution_count": 4,
   "metadata": {},
   "outputs": [],
   "source": [
    "from langchain_teddynote.messages import messages_to_history\n",
    "from rag.utils import format_docs"
   ]
  },
  {
   "cell_type": "code",
   "execution_count": 5,
   "metadata": {},
   "outputs": [],
   "source": [
    "from langchain_teddynote.evaluator import GroundednessChecker\n",
    "from langchain_openai import ChatOpenAI"
   ]
  },
  {
   "cell_type": "code",
   "execution_count": 6,
   "metadata": {},
   "outputs": [],
   "source": [
    "def retrieve_document(state: GraphState) -> GraphState:             # 문서 검색 노드 \n",
    "\n",
    "    latest_question = state['question']                             # state 에서 질문(question)을 가져온다.\n",
    "\n",
    "    retrieve_docs = pdf_retriever.invoke(latest_question)           # pdf_retriever를 사용해서 문서 검색하여 관련성 있는 문서를 찾습니다.\n",
    "    retrieve_docs = format_docs(retrieve_docs)                      # 검색된 문서를 모두 문자열로 변경 (프롬프트의 입력이 된다)\n",
    "    \n",
    "    return {'context': retrieve_docs}                               "
   ]
  },
  {
   "cell_type": "code",
   "execution_count": 7,
   "metadata": {},
   "outputs": [],
   "source": [
    "def llm_answer(state: GraphState) -> GraphState:\n",
    "    \n",
    "    latest_question = state['question']                             # state 에서 질문(question)을 가져온다.\n",
    "    context = state['context']                                      # state 에서 검색된 문서의 내용(context)을 가져온다.\n",
    "\n",
    "    response = pdf_chain.invoke(                                    # pdf_chain을 호출해서 대답을 만듭니다.\n",
    "        {\n",
    "            'question': latest_question,                            # 질문      \n",
    "            'context': context,                                     # 검색된 문서의 내용\n",
    "            'chat_history': messages_to_history(state['messages'])  \n",
    "        }\n",
    "    )\n",
    "\n",
    "\n",
    "    return {                                                       \n",
    "        'answer': response,                                                 # 생성된 답변을 answer에 저장\n",
    "        'messages': [('user', latest_question), ('assistant', response)]    # user의 질문과 생성된 답변을 messages에 저장\n",
    "    }"
   ]
  },
  {
   "cell_type": "code",
   "execution_count": 8,
   "metadata": {},
   "outputs": [],
   "source": [
    "def relevance_check(state: GraphState) -> GraphState:                       # 관련성 평가 노드\n",
    "    \n",
    "    question_retrival_relevat = GroundednessChecker(                        # 관련성 평가기를 생성. \n",
    "        llm = ChatOpenAI(api_key=key, model_name='gpt-4o-mini'), \n",
    "        target='question-retrieval'                                         # 검색된 문서와 질문을 관성성 평가한다.검색된 문서가 질문에 답변하기 위한 내용이 포함되어 있는지 체크하는 평가기.\n",
    "    ).create()                                                              \n",
    "\n",
    "    response = question_retrival_relevat.invoke(                            # 관련성 체크 실행 (yes or no)\n",
    "        {'question': state['question'], 'context': state['context']}\n",
    "    )\n",
    "\n",
    "    return {\"relevance\": response.score}"
   ]
  },
  {
   "cell_type": "code",
   "execution_count": 10,
   "metadata": {},
   "outputs": [],
   "source": [
    "def is_relevant(state: GraphState) -> GraphState:\n",
    "    \n",
    "    if state['relevance']=='yes':\n",
    "        return 'relevant'\n",
    "    else:\n",
    "        return 'not relevant'"
   ]
  },
  {
   "cell_type": "code",
   "execution_count": 11,
   "metadata": {},
   "outputs": [],
   "source": [
    "from langchain_teddynote.tools.tavily import TavilySearch\n",
    "\n",
    "def web_search(state: GraphState) -> GraphState:\n",
    "\n",
    "    tavily_tool = TavilySearch()                # 검색 도구 생성\n",
    "    search_query = state['question']\n",
    "\n",
    "    search_result = tavily_tool.search(\n",
    "        query=search_query,                     # 검색 쿼리\n",
    "        topic='general',                        # 일반 주제\n",
    "        max_results=1,                          # 최대 검색 결과\n",
    "        format_output=True,                     # 결과 포맷팅\n",
    "    )\n",
    "    \n",
    "    \n",
    "    return {'context': search_result}"
   ]
  },
  {
   "cell_type": "markdown",
   "metadata": {},
   "source": [
    "### 그래프 정의\n",
    "\n",
    "`Edges`: 현재 State를 기반으로 다음에 실행할 Node를 결정하는 Python 함수.<br>\n",
    "\n",
    "일반 엣지, 조건부 엣지 등이 있습니다."
   ]
  },
  {
   "cell_type": "code",
   "execution_count": 12,
   "metadata": {},
   "outputs": [],
   "source": [
    "from langgraph.graph import StateGraph, END\n",
    "from langgraph.checkpoint.memory import MemorySaver\n",
    "from langchain_teddynote.graphs import visualize_graph"
   ]
  },
  {
   "cell_type": "code",
   "execution_count": 13,
   "metadata": {},
   "outputs": [],
   "source": [
    "######### 1. 그래프 생성 #########\n",
    "\n",
    "workflow = StateGraph(GraphState)"
   ]
  },
  {
   "cell_type": "code",
   "execution_count": 14,
   "metadata": {},
   "outputs": [
    {
     "data": {
      "text/plain": [
       "<langgraph.graph.state.StateGraph at 0x21d5069ae90>"
      ]
     },
     "execution_count": 14,
     "metadata": {},
     "output_type": "execute_result"
    }
   ],
   "source": [
    "######### 2. 노드 정의  #########\n",
    "\n",
    "# 노드 이름, 함수 이름을 넣으서 노트를 추가\n",
    "workflow.add_node('retrieve', retrieve_document)        # 문서 검색 노드\n",
    "workflow.add_node('llm_answer', llm_answer)             # 답변 생성 노드\n",
    "workflow.add_node(\"relevance_check\", relevance_check)   # 관련성 체크 노드 추가\n",
    "\n",
    "workflow.add_node('web_search', web_search)             # Web Search 노드 추가"
   ]
  },
  {
   "cell_type": "code",
   "execution_count": 15,
   "metadata": {},
   "outputs": [
    {
     "data": {
      "text/plain": [
       "<langgraph.graph.state.StateGraph at 0x21d5069ae90>"
      ]
     },
     "execution_count": 15,
     "metadata": {},
     "output_type": "execute_result"
    }
   ],
   "source": [
    "######### 3. 그래프 엣지(Edge) 추가  #########\n",
    "\n",
    "workflow.add_edge('retrieve', 'relevance_check')        # 검색(retrieve) 에서 관련성 체크\n",
    "\n",
    "workflow.add_conditional_edges(                         # 조건부 엣지\n",
    "    'relevance_check',                                  # 관련성 체크 노드에서 나온 결과를 is_relevant 함수에 전달\n",
    "    is_relevant,                                        # 분기 함수(yse: relevant, no: not relevant)\n",
    "    {\n",
    "        'relevant': 'llm_answer',                       # 관련성이 있으면 답변을 생성합니다. llm_answer 실행\n",
    "        'not relevant': 'web_search',                   # 관련성이 없으면 다시 검색합니다.   retrieve 실행\n",
    "    },\n",
    ")\n",
    "\n",
    "workflow.add_edge(\"web_search\", \"llm_answer\")           # 웹 검색(web_search) 에서 답변(llm_answer)\n",
    "workflow.add_edge('llm_answer', END)                    # 답변(llm_answer) 에서 종료(END)"
   ]
  },
  {
   "cell_type": "code",
   "execution_count": 16,
   "metadata": {},
   "outputs": [
    {
     "data": {
      "text/plain": [
       "<langgraph.graph.state.StateGraph at 0x21d5069ae90>"
      ]
     },
     "execution_count": 16,
     "metadata": {},
     "output_type": "execute_result"
    }
   ],
   "source": [
    "######### 4. 그래프 진입점  #########\n",
    "\n",
    "workflow.set_entry_point('retrieve')"
   ]
  },
  {
   "cell_type": "code",
   "execution_count": 17,
   "metadata": {},
   "outputs": [],
   "source": [
    "######### 5. 체크 포인터 설정  #########\n",
    "\n",
    "memory = MemorySaver()"
   ]
  },
  {
   "cell_type": "code",
   "execution_count": 18,
   "metadata": {},
   "outputs": [],
   "source": [
    "######### 6. 그래프 컴파일(compile)  #########\n",
    "\n",
    "app = workflow.compile(checkpointer=memory)"
   ]
  },
  {
   "cell_type": "code",
   "execution_count": 19,
   "metadata": {},
   "outputs": [
    {
     "data": {
      "image/png": "[encoded data removed]",
      "text/plain": [
       "<IPython.core.display.Image object>"
      ]
     },
     "metadata": {},
     "output_type": "display_data"
    }
   ],
   "source": [
    "visualize_graph(app)"
   ]
  },
  {
   "cell_type": "markdown",
   "metadata": {},
   "source": [
    "### 그래프 실행\n",
    "\n",
    "- `config` 파라미터는 그래프 실행 시 필요한 정보를 전달.\n",
    "\n",
    "    - `recursion_limit`: 그래프 실행 시 노드 반복의 횟수를 설정.\n",
    "    - `thread_id`: 대화 세션을 구분하는 데 사용. \n",
    "\n",
    "<br>\n",
    "\n",
    "- `inputs`: 그래프 실행 시 필요한 입력정보를 전달."
   ]
  },
  {
   "cell_type": "code",
   "execution_count": 20,
   "metadata": {},
   "outputs": [],
   "source": [
    "from langchain_core.runnables import RunnableConfig\n",
    "from langchain_teddynote.messages import invoke_graph, stream_graph, random_uuid"
   ]
  },
  {
   "cell_type": "code",
   "execution_count": 21,
   "metadata": {},
   "outputs": [
    {
     "name": "stdout",
     "output_type": "stream",
     "text": [
      "===== for 시작 1 =====\n",
      "== for 시작 1 - 1 ==\n",
      "state_key : retrieve\n",
      "------------------------------\n",
      "🔄 [Node] 문서 검색 노드 🔄\n",
      "<document><content>CES 2024\n",
      "이번 전시에는 500곳 이상의 한국기업 참가 예정\n",
      "기간 장소 홈페이지\n",
      "2024.1.9~12 미국, 라스베가스 https://www.ces.tech/\n",
      "- 머신러닝 및 응용에 관한 국제 컨퍼런스(AIMLA 2024)는\n",
      "인공지능 및 머신러닝의 이론, 방법론 및 실용적 접근에 관한\n",
      "지식과 최신 연구 결과 공유\n",
      "- 이론 및 실무 측면에서 인공지능, 기계학습의 주요 분야를\n",
      "논의하고, 학계, 산업계의 연구자와 실무자들에게 해당 분\n",
      "AIMLA 2024\n",
      "야의 최첨단 개발 소식 공유\n",
      "기간 장소 홈페이지</content><source>data/SPRI_AI_Brief_2023년12월호_F.pdf</source><page>22</page></document>\n",
      "<document><content>n 참가국들은 튜링상을 수상한 AI 학자인 요슈아 벤지오 교수가 주도하는 ‘과학의 현황(State of\n",
      "the Science)’ 보고서 작성에도 합의했으며, 보고서를 통해 첨단 AI의 위험과 가능성에 관한\n",
      "기존 연구를 과학적으로 평가하고 향후 AI 안전 연구를 위한 우선순위를 제시할 계획\n",
      "n 한국은 영국 정부와 6개월 뒤에 온라인으로 AI 미니 정상회의를 공동 개최하기로 합의했으며,\n",
      "프랑스 정부와는 1년 후 대면 정상회의를 개최할 예정</content><source>data/SPRI_AI_Brief_2023년12월호_F.pdf</source><page>6</page></document>\n",
      "<document><content>12\n",
      "2023년 월호</content><source>data/SPRI_AI_Brief_2023년12월호_F.pdf</source><page>1</page></document>\n",
      "<document><content>£AI 기술 중 머신러닝, 텐서플로우, 딥러닝의 임금 프리미엄이 높게 평가\n",
      "n 옥스퍼드 인터넷 연구소(Oxford Internet Institute)가 2023년 10월 24일 962개 기술과 2만 5천\n",
      "명을 대상으로 한 연구에서 AI를 포함한 주요 기술의 경제적 가치를 분석한 결과를 발표\n",
      "∙ 연구에 따르면 한 기술의 경제적 가치는 근로자의 여타 역량과 얼마나 잘 결합하는지를 보여주는\n",
      "‘상보성(complementarity)’에 따라 결정됨</content><source>data/SPRI_AI_Brief_2023년12월호_F.pdf</source><page>21</page></document>\n",
      "<document><content>신기술 간 상보성을 극대화할 필요\n",
      "n AI의 확산은 기술의 경제적 가치에 크게 영향을 미치는 요소로, AI 기술을 가진 근로자는 평균적으로\n",
      "21% 높은 임금을 획득 가능\n",
      "∙ AI 기술 중 근로자에 대한 경제적 가치(시간당 임금 증가율 기준) 측면에서 상위 5개 기술은\n",
      "머신러닝(+40%), 텐서플로우(+38%), 딥러닝(+27%), 자연어처리(+19%), 데이터 과학(+17%) 순\n",
      "<AI 기술 유형 평균 기술 대비 갖는 임금 프리미엄></content><source>data/SPRI_AI_Brief_2023년12월호_F.pdf</source><page>21</page></document>\n",
      "<document><content>소송은 인정되어 계속 진행됨\n",
      "☞ 출처: Venturebeat, Midjourney, Stability AI and DeviantArt win a victory in copyright case by artists- but the\n",
      "fight continues, 2023.10.30.\n",
      "4</content><source>data/SPRI_AI_Brief_2023년12월호_F.pdf</source><page>7</page></document>\n",
      "<document><content>AIMLA 2024\n",
      "야의 최첨단 개발 소식 공유\n",
      "기간 장소 홈페이지\n",
      "https://ccnet2024.org/aimla\n",
      "2024.1.27~28 덴마크, 코펜하겐\n",
      "/index\n",
      "- AI 발전 협회 컨퍼런스(AAAI)는 AI 연구를 촉진하고, AI 분야\n",
      "연구원, 실무자, 과학자, 학생 및 공학자 간 교류의 기회 제공\n",
      "- 컨퍼런스에서 AI 관련 기술 발표, 특별 트랙, 초청 연사,\n",
      "AAAI Conference\n",
      "워크숍, 튜토리얼, 포스터 세션, 주제 발표, 대회, 전시 프\n",
      "on Artificial\n",
      "로그램 등 진행\n",
      "Intelligence</content><source>data/SPRI_AI_Brief_2023년12월호_F.pdf</source><page>22</page></document>\n",
      "<document><content>달 안에 기금 지원을 위한 제안 요청을 받을 계획\n",
      "n 프런티어 모델 포럼은 출범 이후 업계 전반에 걸쳐 AI 레드팀 구성에 관한 모범사례 공유를 추진하는\n",
      "한편, 첨단 AI 모델의 취약점이나 잠재적으로 위험한 기능 및 위험 완화 관련 정보를 공유할 수\n",
      "있는 공개 절차도 개발 중\n",
      "☞ 출처: Google, Anthropic, Google, Microsoft and OpenAI announce Executive Director of the Frontier Model</content><source>data/SPRI_AI_Brief_2023년12월호_F.pdf</source><page>10</page></document>\n",
      "<document><content>▹ 빌 게이츠, AI 에이전트로 인한 컴퓨터 사용의 패러다임 변화 전망································13\n",
      "▹ 유튜브, 2024년부터 AI 생성 콘텐츠 표시 의무화····························································14\n",
      "3. 기술/연구\n",
      "▹ 영국 과학혁신기술부, AI 안전 연구소 설립 발표······························································15</content><source>data/SPRI_AI_Brief_2023년12월호_F.pdf</source><page>2</page></document>\n",
      "<document><content>Ⅱ\n",
      ". 주요 행사\n",
      "▹CES 2024·····························································································································19\n",
      "▹AIMLA 2024·························································································································19</content><source>data/SPRI_AI_Brief_2023년12월호_F.pdf</source><page>2</page></document>\n",
      "------------------------------\n",
      "\n",
      "== for  끝 1 - 1==\n",
      "===== for 끝 1 =====\n",
      "===== for 시작 2 =====\n",
      "== for 시작 2 - 1 ==\n",
      "state_key : relevance_check\n",
      "------------------------------\n",
      "🔄 [Node] 관련성 평가 노드 🔄\n",
      "no\n",
      "------------------------------\n",
      "\n",
      "== for  끝 2 - 1==\n",
      "===== for 끝 2 =====\n",
      "===== for 시작 3 =====\n",
      "== for 시작 3 - 1 ==\n",
      "state_key : web_search\n",
      "------------------------------\n",
      "🔄 [Node] 웹 검색 노드 🔄\n",
      "['<document><title>\\\\\"사우스 코리아, 한강\\\\\"…韓 최초 노벨문학상 탄생 역사적 순간 (종합) | 연합뉴스</title><url>https://www.yna.co.kr/view/AKR20241010167651009</url><content>(서울=연합뉴스) 소설가 한강이 한국 작가로 최초로 10일 노벨 문학상 수상의 영예를 안았다. 2016년 5월 한국 작가 최초로 세계 3대 문학상인 \\'맨부커상\\'을 수상한 소설가 한강이 서울 마포구 서교동 한 카페에서 열린 신작 소설 \\'흰\\' 출간 기자간담회에서 취재진의 질문에 답하고 있다. 2024.10.10 [연합뉴스 자료사진] photo@yna.co.kr (서울=연합뉴스) 임지우 기자 = \\\\\"2024년 노벨 문학상 수상자는…한국의 작가, 한강(South Korean author HanKang\\\\\" 10일 현지시간 오후 1시(한국시간 오후 8시) 스웨덴 스톡홀롬 한림원 발표장에 들어선 마츠 말름 한림원 상무이사는 \\\\\"한림원은 이제 노벨 문학상 결정을 발표할 수 있게 됐다\\\\\"고 말문을 연 뒤 차분히 발표문을 읽어내렸다. 한국인 최초의 노벨 문학상 수상자가 탄생하는 역사적 순간이었다. 말름 이사는 이날 한강과 전화 통화를 한 내용도 전했다. 소설 \\'채식주의자\\' 등을 쓴 한강은 이날 한국 작가 최초로 노벨 문학상 수상의 영예를 안았다. https://youtu.be/esM8d2QhhD4 https://youtu.be/Wx4dyjxww7c <저작권자(c) 연합뉴스,</content><raw>자동완성 기능이 켜져 있습니다.\\n\"사우스 코리아, 한강\"…韓 최초 노벨문학상 탄생 역사적 순간(종합)\\n\\n송고시간2024-10-10 22:32\\n\\n\"한강, 노벨상 연락에 예상못해…아들과 저녁식사 평범한 하루\"\\n(서울=연합뉴스) 소설가 한강이 한국 작가로 최초로 10일 노벨 문학상 수상의 영예를 안았다. 2016년 5월 한국 작가 최초로 세계 3대 문학상인 \\'맨부커상\\'을 수상한 소설가 한강이 서울 마포구 서교동 한 카페에서 열린 신작 소설 \\'흰\\' 출간 기자간담회에서 취재진의 질문에 답하고 있다. 2024.10.10 [연합뉴스 자료사진] photo@yna.co.kr\\n\\n (서울=연합뉴스) 임지우 기자 = \"2024년 노벨 문학상 수상자는…한국의 작가, 한강(South Korean author HanKang\"\\n 10일 현지시간 오후 1시(한국시간 오후 8시) 스웨덴 스톡홀롬 한림원 발표장에 들어선 마츠 말름 한림원 상무이사는 \"한림원은 이제 노벨 문학상 결정을 발표할 수 있게 됐다\"고 말문을 연 뒤 차분히 발표문을 읽어내렸다.\\n 먼저 스웨덴어로 수상자를 발표한 말름 이사는 이어 영어로도 수상자를 발표한 뒤 \"역사적 트라우마에 맞서고 인간의 삶의 연약함을 드러낸 강렬한 시적 산문\"이라며 선정 이유를 밝혔다.\\n 한국인 최초의 노벨 문학상 수상자가 탄생하는 역사적 순간이었다.\\n한강의 노벨문학상 수상을 발표하는 스웨덴 한림원 마츠 말름 이사. 2024.10.10 [AP=연합뉴스]\\n\\n 말름 이사는 이날 한강과 전화 통화를 한 내용도 전했다.\\n 그는 \"한강과 전화로 얘기할 수 있었다\"며 \"그는 평범한 하루를 보내고 있는 것처럼 보였다. 아들과 막 저녁 식사를 마친 참이었다\"고 말했다.\\n 그러면서 \"그는 (수상에) 준비가 되어 있지 않았다\"면서 한강과 오는 12월 열릴 노벨상 시상식 준비에 대해 논의했다고 덧붙였다.\\n 소설 \\'채식주의자\\' 등을 쓴 한강은 이날 한국 작가 최초로 노벨 문학상 수상의 영예를 안았다.\\n 아시아 여성이 123년 역사의 노벨 문학상을 받은 것도 이번이 처음이다. \\n 한국인의 노벨상 수상은 지난 2000년 평화상을 탄 고(故) 김대중 전 대통령에 이어 두 번째로, 24년 만이다. \\n wisefool@yna.co.kr\\n\\nhttps://youtu.be/esM8d2QhhD4\\n\\nhttps://youtu.be/Wx4dyjxww7c\\n\\n\\n제보는 카카오톡 okjebo\\n<저작권자(c) 연합뉴스,\\n무단 전재-재배포, AI 학습 및 활용 금지>\\n2024/10/10 22:32 송고\\n\\n(C) Yonhapnews[대표이사] 황대일\\n\\n</raw></document>', '<document><title>\\\\\"사우스 코리아, 한강\\\\\"…韓 최초 노벨문학상 탄생 역사적 순간 (종합) | 연합뉴스</title><url>https://www.yna.co.kr/view/AKR20241010167651009</url><content>(서울=연합뉴스) 소설가 한강이 한국 작가로 최초로 10일 노벨 문학상 수상의 영예를 안았다. 2016년 5월 한국 작가 최초로 세계 3대 문학상인 \\'맨부커상\\'을 수상한 소설가 한강이 서울 마포구 서교동 한 카페에서 열린 신작 소설 \\'흰\\' 출간 기자간담회에서 취재진의 질문에 답하고 있다. 2024.10.10 [연합뉴스 자료사진] photo@yna.co.kr (서울=연합뉴스) 임지우 기자 = \\\\\"2024년 노벨 문학상 수상자는…한국의 작가, 한강(South Korean author HanKang\\\\\" 10일 현지시간 오후 1시(한국시간 오후 8시) 스웨덴 스톡홀롬 한림원 발표장에 들어선 마츠 말름 한림원 상무이사는 \\\\\"한림원은 이제 노벨 문학상 결정을 발표할 수 있게 됐다\\\\\"고 말문을 연 뒤 차분히 발표문을 읽어내렸다. 한국인 최초의 노벨 문학상 수상자가 탄생하는 역사적 순간이었다. 말름 이사는 이날 한강과 전화 통화를 한 내용도 전했다. 소설 \\'채식주의자\\' 등을 쓴 한강은 이날 한국 작가 최초로 노벨 문학상 수상의 영예를 안았다. https://youtu.be/esM8d2QhhD4 https://youtu.be/Wx4dyjxww7c <저작권자(c) 연합뉴스,</content><raw>자동완성 기능이 켜져 있습니다.\\n\"사우스 코리아, 한강\"…韓 최초 노벨문학상 탄생 역사적 순간(종합)\\n\\n송고시간2024-10-10 22:32\\n\\n\"한강, 노벨상 연락에 예상못해…아들과 저녁식사 평범한 하루\"\\n(서울=연합뉴스) 소설가 한강이 한국 작가로 최초로 10일 노벨 문학상 수상의 영예를 안았다. 2016년 5월 한국 작가 최초로 세계 3대 문학상인 \\'맨부커상\\'을 수상한 소설가 한강이 서울 마포구 서교동 한 카페에서 열린 신작 소설 \\'흰\\' 출간 기자간담회에서 취재진의 질문에 답하고 있다. 2024.10.10 [연합뉴스 자료사진] photo@yna.co.kr\\n\\n (서울=연합뉴스) 임지우 기자 = \"2024년 노벨 문학상 수상자는…한국의 작가, 한강(South Korean author HanKang\"\\n 10일 현지시간 오후 1시(한국시간 오후 8시) 스웨덴 스톡홀롬 한림원 발표장에 들어선 마츠 말름 한림원 상무이사는 \"한림원은 이제 노벨 문학상 결정을 발표할 수 있게 됐다\"고 말문을 연 뒤 차분히 발표문을 읽어내렸다.\\n 먼저 스웨덴어로 수상자를 발표한 말름 이사는 이어 영어로도 수상자를 발표한 뒤 \"역사적 트라우마에 맞서고 인간의 삶의 연약함을 드러낸 강렬한 시적 산문\"이라며 선정 이유를 밝혔다.\\n 한국인 최초의 노벨 문학상 수상자가 탄생하는 역사적 순간이었다.\\n한강의 노벨문학상 수상을 발표하는 스웨덴 한림원 마츠 말름 이사. 2024.10.10 [AP=연합뉴스]\\n\\n 말름 이사는 이날 한강과 전화 통화를 한 내용도 전했다.\\n 그는 \"한강과 전화로 얘기할 수 있었다\"며 \"그는 평범한 하루를 보내고 있는 것처럼 보였다. 아들과 막 저녁 식사를 마친 참이었다\"고 말했다.\\n 그러면서 \"그는 (수상에) 준비가 되어 있지 않았다\"면서 한강과 오는 12월 열릴 노벨상 시상식 준비에 대해 논의했다고 덧붙였다.\\n 소설 \\'채식주의자\\' 등을 쓴 한강은 이날 한국 작가 최초로 노벨 문학상 수상의 영예를 안았다.\\n 아시아 여성이 123년 역사의 노벨 문학상을 받은 것도 이번이 처음이다. \\n 한국인의 노벨상 수상은 지난 2000년 평화상을 탄 고(故) 김대중 전 대통령에 이어 두 번째로, 24년 만이다. \\n wisefool@yna.co.kr\\n\\nhttps://youtu.be/esM8d2QhhD4\\n\\nhttps://youtu.be/Wx4dyjxww7c\\n\\n\\n제보는 카카오톡 okjebo\\n<저작권자(c) 연합뉴스,\\n무단 전재-재배포, AI 학습 및 활용 금지>\\n2024/10/10 22:32 송고\\n\\n(C) Yonhapnews[대표이사] 황대일\\n\\n</raw></document>']\n",
      "------------------------------\n",
      "\n",
      "== for  끝 3 - 1==\n",
      "===== for 끝 3 =====\n",
      "===== for 시작 4 =====\n",
      "== for 시작 4 - 1 ==\n",
      "state_key : llm_answer\n",
      "------------------------------\n",
      "🔄 [Node] 답변 생성 노드 🔄\n",
      "2024년 노벨 문학상 수상자는 한국의 작가 한강(South Korean author HanKang)입니다.\n",
      "\n",
      "**Source**\n",
      "- https://www.yna.co.kr/view/AKR20241010167651009\n",
      "------------------------------\n",
      "\n",
      "== for  끝 4 - 1==\n",
      "===== for 끝 4 =====\n"
     ]
    }
   ],
   "source": [
    "config = RunnableConfig(                        # config 설정\n",
    "    recursion_limit=20,                         # 최대 20개의 노드까지 방문.\n",
    "    configurable={'thread_id': random_uuid()}   # thread_id 설정\n",
    ")\n",
    "\n",
    "# 질문\n",
    "inputs = GraphState(question='2024년 노벨 문학상 수상자는')\n",
    "\n",
    "i = 1\n",
    "\n",
    "for chunk in app.stream(inputs, config=config, stream_mode=\"updates\"):\n",
    "    print(f\"===== for 시작 {i} =====\")\n",
    "\n",
    "    j = 1\n",
    "\n",
    "    for state_key, state_value in chunk.items():\n",
    "        print(f\"== for 시작 {i} - {j} ==\")\n",
    "        print(f\"state_key : {state_key }\")\n",
    "        \n",
    "        if state_key == 'retrieve':\n",
    "            print('------------------------------')\n",
    "            print(f\"🔄 [Node] 문서 검색 노드 🔄\")\n",
    "            print(f\"{state_value['context']}\")\n",
    "            print('------------------------------')\n",
    "            print()\n",
    "        elif state_key == 'llm_answer':\n",
    "            print('------------------------------')\n",
    "            print(f\"🔄 [Node] 답변 생성 노드 🔄\")\n",
    "            print(f\"{state_value['answer']}\")\n",
    "            print('------------------------------')\n",
    "            print()\n",
    "        elif state_key == 'relevance_check':\n",
    "            print('------------------------------')\n",
    "            print(f\"🔄 [Node] 관련성 평가 노드 🔄\")\n",
    "            print(f\"{state_value['relevance']}\")\n",
    "            print('------------------------------')\n",
    "            print()\n",
    "        elif state_key == 'web_search':\n",
    "            print('------------------------------')\n",
    "            print(f\"🔄 [Node] 웹 검색 노드 🔄\")\n",
    "            print(f\"{state_value['context']}\")\n",
    "            print('------------------------------')\n",
    "            print()\n",
    "\n",
    "        # print(f\"state_value: \\n {state_value}\")\n",
    "        print(f\"== for  끝 {i} - {j}==\")\n",
    "\n",
    "        j=j+1\n",
    "    \n",
    "    print(f\"===== for 끝 {i} =====\")\n",
    "    i=i+1"
   ]
  },
  {
   "cell_type": "code",
   "execution_count": 22,
   "metadata": {},
   "outputs": [],
   "source": [
    "def invoke_graph_(graph=app, inputs=inputs, config=config):\n",
    "    for chunk in app.stream(inputs, config=config, stream_mode=\"updates\"):\n",
    "        print(f\"==\" * 50)\n",
    "        \n",
    "        for state_key, state_value in chunk.items():      \n",
    "            if state_key == 'retrieve':\n",
    "                print('------------------------------')\n",
    "                print(f\"🔄 [Node] 문서 검색 노드 🔄\")\n",
    "                print(f\"{state_value['context']}\")\n",
    "                print('------------------------------')\n",
    "            elif state_key == 'llm_answer':\n",
    "                print('------------------------------')\n",
    "                print(f\"🔄 [Node] 답변 생성 노드 🔄\")\n",
    "                print(f\"{state_value['answer']}\")\n",
    "                print('------------------------------')\n",
    "            elif state_key == 'relevance_check':\n",
    "                print('------------------------------')\n",
    "                print(f\"🔄 [Node] 관련성 평가 노드 🔄\")\n",
    "                print(f\"{state_value['relevance']}\")\n",
    "                print('------------------------------')\n",
    "            elif state_key == 'web_search':\n",
    "                print('------------------------------')\n",
    "                print(f\"🔄 [Node] 웹 검색 노드 🔄\")\n",
    "                print(f\"{state_value['context']}\")\n",
    "                print('------------------------------')\n",
    "            \n",
    "        print(f\"==\" * 50)\n",
    "        print()"
   ]
  },
  {
   "cell_type": "code",
   "execution_count": 23,
   "metadata": {},
   "outputs": [
    {
     "name": "stdout",
     "output_type": "stream",
     "text": [
      "====================================================================================================\n",
      "------------------------------\n",
      "🔄 [Node] 문서 검색 노드 🔄\n",
      "<document><content>CES 2024\n",
      "이번 전시에는 500곳 이상의 한국기업 참가 예정\n",
      "기간 장소 홈페이지\n",
      "2024.1.9~12 미국, 라스베가스 https://www.ces.tech/\n",
      "- 머신러닝 및 응용에 관한 국제 컨퍼런스(AIMLA 2024)는\n",
      "인공지능 및 머신러닝의 이론, 방법론 및 실용적 접근에 관한\n",
      "지식과 최신 연구 결과 공유\n",
      "- 이론 및 실무 측면에서 인공지능, 기계학습의 주요 분야를\n",
      "논의하고, 학계, 산업계의 연구자와 실무자들에게 해당 분\n",
      "AIMLA 2024\n",
      "야의 최첨단 개발 소식 공유\n",
      "기간 장소 홈페이지</content><source>data/SPRI_AI_Brief_2023년12월호_F.pdf</source><page>22</page></document>\n",
      "<document><content>n 참가국들은 튜링상을 수상한 AI 학자인 요슈아 벤지오 교수가 주도하는 ‘과학의 현황(State of\n",
      "the Science)’ 보고서 작성에도 합의했으며, 보고서를 통해 첨단 AI의 위험과 가능성에 관한\n",
      "기존 연구를 과학적으로 평가하고 향후 AI 안전 연구를 위한 우선순위를 제시할 계획\n",
      "n 한국은 영국 정부와 6개월 뒤에 온라인으로 AI 미니 정상회의를 공동 개최하기로 합의했으며,\n",
      "프랑스 정부와는 1년 후 대면 정상회의를 개최할 예정</content><source>data/SPRI_AI_Brief_2023년12월호_F.pdf</source><page>6</page></document>\n",
      "<document><content>12\n",
      "2023년 월호</content><source>data/SPRI_AI_Brief_2023년12월호_F.pdf</source><page>1</page></document>\n",
      "<document><content>£AI 기술 중 머신러닝, 텐서플로우, 딥러닝의 임금 프리미엄이 높게 평가\n",
      "n 옥스퍼드 인터넷 연구소(Oxford Internet Institute)가 2023년 10월 24일 962개 기술과 2만 5천\n",
      "명을 대상으로 한 연구에서 AI를 포함한 주요 기술의 경제적 가치를 분석한 결과를 발표\n",
      "∙ 연구에 따르면 한 기술의 경제적 가치는 근로자의 여타 역량과 얼마나 잘 결합하는지를 보여주는\n",
      "‘상보성(complementarity)’에 따라 결정됨</content><source>data/SPRI_AI_Brief_2023년12월호_F.pdf</source><page>21</page></document>\n",
      "<document><content>신기술 간 상보성을 극대화할 필요\n",
      "n AI의 확산은 기술의 경제적 가치에 크게 영향을 미치는 요소로, AI 기술을 가진 근로자는 평균적으로\n",
      "21% 높은 임금을 획득 가능\n",
      "∙ AI 기술 중 근로자에 대한 경제적 가치(시간당 임금 증가율 기준) 측면에서 상위 5개 기술은\n",
      "머신러닝(+40%), 텐서플로우(+38%), 딥러닝(+27%), 자연어처리(+19%), 데이터 과학(+17%) 순\n",
      "<AI 기술 유형 평균 기술 대비 갖는 임금 프리미엄></content><source>data/SPRI_AI_Brief_2023년12월호_F.pdf</source><page>21</page></document>\n",
      "<document><content>소송은 인정되어 계속 진행됨\n",
      "☞ 출처: Venturebeat, Midjourney, Stability AI and DeviantArt win a victory in copyright case by artists- but the\n",
      "fight continues, 2023.10.30.\n",
      "4</content><source>data/SPRI_AI_Brief_2023년12월호_F.pdf</source><page>7</page></document>\n",
      "<document><content>AIMLA 2024\n",
      "야의 최첨단 개발 소식 공유\n",
      "기간 장소 홈페이지\n",
      "https://ccnet2024.org/aimla\n",
      "2024.1.27~28 덴마크, 코펜하겐\n",
      "/index\n",
      "- AI 발전 협회 컨퍼런스(AAAI)는 AI 연구를 촉진하고, AI 분야\n",
      "연구원, 실무자, 과학자, 학생 및 공학자 간 교류의 기회 제공\n",
      "- 컨퍼런스에서 AI 관련 기술 발표, 특별 트랙, 초청 연사,\n",
      "AAAI Conference\n",
      "워크숍, 튜토리얼, 포스터 세션, 주제 발표, 대회, 전시 프\n",
      "on Artificial\n",
      "로그램 등 진행\n",
      "Intelligence</content><source>data/SPRI_AI_Brief_2023년12월호_F.pdf</source><page>22</page></document>\n",
      "<document><content>달 안에 기금 지원을 위한 제안 요청을 받을 계획\n",
      "n 프런티어 모델 포럼은 출범 이후 업계 전반에 걸쳐 AI 레드팀 구성에 관한 모범사례 공유를 추진하는\n",
      "한편, 첨단 AI 모델의 취약점이나 잠재적으로 위험한 기능 및 위험 완화 관련 정보를 공유할 수\n",
      "있는 공개 절차도 개발 중\n",
      "☞ 출처: Google, Anthropic, Google, Microsoft and OpenAI announce Executive Director of the Frontier Model</content><source>data/SPRI_AI_Brief_2023년12월호_F.pdf</source><page>10</page></document>\n",
      "<document><content>▹ 빌 게이츠, AI 에이전트로 인한 컴퓨터 사용의 패러다임 변화 전망································13\n",
      "▹ 유튜브, 2024년부터 AI 생성 콘텐츠 표시 의무화····························································14\n",
      "3. 기술/연구\n",
      "▹ 영국 과학혁신기술부, AI 안전 연구소 설립 발표······························································15</content><source>data/SPRI_AI_Brief_2023년12월호_F.pdf</source><page>2</page></document>\n",
      "<document><content>Ⅱ\n",
      ". 주요 행사\n",
      "▹CES 2024·····························································································································19\n",
      "▹AIMLA 2024·························································································································19</content><source>data/SPRI_AI_Brief_2023년12월호_F.pdf</source><page>2</page></document>\n",
      "------------------------------\n",
      "====================================================================================================\n",
      "\n",
      "====================================================================================================\n",
      "------------------------------\n",
      "🔄 [Node] 관련성 평가 노드 🔄\n",
      "no\n",
      "------------------------------\n",
      "====================================================================================================\n",
      "\n",
      "====================================================================================================\n",
      "------------------------------\n",
      "🔄 [Node] 웹 검색 노드 🔄\n",
      "['<document><title>\\\\\"사우스 코리아, 한강\\\\\"…韓 최초 노벨문학상 탄생 역사적 순간 (종합) | 연합뉴스</title><url>https://www.yna.co.kr/view/AKR20241010167651009</url><content>(서울=연합뉴스) 소설가 한강이 한국 작가로 최초로 10일 노벨 문학상 수상의 영예를 안았다. 2016년 5월 한국 작가 최초로 세계 3대 문학상인 \\'맨부커상\\'을 수상한 소설가 한강이 서울 마포구 서교동 한 카페에서 열린 신작 소설 \\'흰\\' 출간 기자간담회에서 취재진의 질문에 답하고 있다. 2024.10.10 [연합뉴스 자료사진] photo@yna.co.kr (서울=연합뉴스) 임지우 기자 = \\\\\"2024년 노벨 문학상 수상자는…한국의 작가, 한강(South Korean author HanKang\\\\\" 10일 현지시간 오후 1시(한국시간 오후 8시) 스웨덴 스톡홀롬 한림원 발표장에 들어선 마츠 말름 한림원 상무이사는 \\\\\"한림원은 이제 노벨 문학상 결정을 발표할 수 있게 됐다\\\\\"고 말문을 연 뒤 차분히 발표문을 읽어내렸다. 한국인 최초의 노벨 문학상 수상자가 탄생하는 역사적 순간이었다. 말름 이사는 이날 한강과 전화 통화를 한 내용도 전했다. 소설 \\'채식주의자\\' 등을 쓴 한강은 이날 한국 작가 최초로 노벨 문학상 수상의 영예를 안았다. https://youtu.be/esM8d2QhhD4 https://youtu.be/Wx4dyjxww7c <저작권자(c) 연합뉴스,</content><raw>자동완성 기능이 켜져 있습니다.\\n\"사우스 코리아, 한강\"…韓 최초 노벨문학상 탄생 역사적 순간(종합)\\n\\n송고시간2024-10-10 22:32\\n\\n\"한강, 노벨상 연락에 예상못해…아들과 저녁식사 평범한 하루\"\\n(서울=연합뉴스) 소설가 한강이 한국 작가로 최초로 10일 노벨 문학상 수상의 영예를 안았다. 2016년 5월 한국 작가 최초로 세계 3대 문학상인 \\'맨부커상\\'을 수상한 소설가 한강이 서울 마포구 서교동 한 카페에서 열린 신작 소설 \\'흰\\' 출간 기자간담회에서 취재진의 질문에 답하고 있다. 2024.10.10 [연합뉴스 자료사진] photo@yna.co.kr\\n\\n (서울=연합뉴스) 임지우 기자 = \"2024년 노벨 문학상 수상자는…한국의 작가, 한강(South Korean author HanKang\"\\n 10일 현지시간 오후 1시(한국시간 오후 8시) 스웨덴 스톡홀롬 한림원 발표장에 들어선 마츠 말름 한림원 상무이사는 \"한림원은 이제 노벨 문학상 결정을 발표할 수 있게 됐다\"고 말문을 연 뒤 차분히 발표문을 읽어내렸다.\\n 먼저 스웨덴어로 수상자를 발표한 말름 이사는 이어 영어로도 수상자를 발표한 뒤 \"역사적 트라우마에 맞서고 인간의 삶의 연약함을 드러낸 강렬한 시적 산문\"이라며 선정 이유를 밝혔다.\\n 한국인 최초의 노벨 문학상 수상자가 탄생하는 역사적 순간이었다.\\n한강의 노벨문학상 수상을 발표하는 스웨덴 한림원 마츠 말름 이사. 2024.10.10 [AP=연합뉴스]\\n\\n 말름 이사는 이날 한강과 전화 통화를 한 내용도 전했다.\\n 그는 \"한강과 전화로 얘기할 수 있었다\"며 \"그는 평범한 하루를 보내고 있는 것처럼 보였다. 아들과 막 저녁 식사를 마친 참이었다\"고 말했다.\\n 그러면서 \"그는 (수상에) 준비가 되어 있지 않았다\"면서 한강과 오는 12월 열릴 노벨상 시상식 준비에 대해 논의했다고 덧붙였다.\\n 소설 \\'채식주의자\\' 등을 쓴 한강은 이날 한국 작가 최초로 노벨 문학상 수상의 영예를 안았다.\\n 아시아 여성이 123년 역사의 노벨 문학상을 받은 것도 이번이 처음이다. \\n 한국인의 노벨상 수상은 지난 2000년 평화상을 탄 고(故) 김대중 전 대통령에 이어 두 번째로, 24년 만이다. \\n wisefool@yna.co.kr\\n\\nhttps://youtu.be/esM8d2QhhD4\\n\\nhttps://youtu.be/Wx4dyjxww7c\\n\\n\\n제보는 카카오톡 okjebo\\n<저작권자(c) 연합뉴스,\\n무단 전재-재배포, AI 학습 및 활용 금지>\\n2024/10/10 22:32 송고\\n\\n(C) Yonhapnews[대표이사] 황대일\\n\\n</raw></document>', '<document><title>\\\\\"사우스 코리아, 한강\\\\\"…韓 최초 노벨문학상 탄생 역사적 순간 (종합) | 연합뉴스</title><url>https://www.yna.co.kr/view/AKR20241010167651009</url><content>(서울=연합뉴스) 소설가 한강이 한국 작가로 최초로 10일 노벨 문학상 수상의 영예를 안았다. 2016년 5월 한국 작가 최초로 세계 3대 문학상인 \\'맨부커상\\'을 수상한 소설가 한강이 서울 마포구 서교동 한 카페에서 열린 신작 소설 \\'흰\\' 출간 기자간담회에서 취재진의 질문에 답하고 있다. 2024.10.10 [연합뉴스 자료사진] photo@yna.co.kr (서울=연합뉴스) 임지우 기자 = \\\\\"2024년 노벨 문학상 수상자는…한국의 작가, 한강(South Korean author HanKang\\\\\" 10일 현지시간 오후 1시(한국시간 오후 8시) 스웨덴 스톡홀롬 한림원 발표장에 들어선 마츠 말름 한림원 상무이사는 \\\\\"한림원은 이제 노벨 문학상 결정을 발표할 수 있게 됐다\\\\\"고 말문을 연 뒤 차분히 발표문을 읽어내렸다. 한국인 최초의 노벨 문학상 수상자가 탄생하는 역사적 순간이었다. 말름 이사는 이날 한강과 전화 통화를 한 내용도 전했다. 소설 \\'채식주의자\\' 등을 쓴 한강은 이날 한국 작가 최초로 노벨 문학상 수상의 영예를 안았다. https://youtu.be/esM8d2QhhD4 https://youtu.be/Wx4dyjxww7c <저작권자(c) 연합뉴스,</content><raw>자동완성 기능이 켜져 있습니다.\\n\"사우스 코리아, 한강\"…韓 최초 노벨문학상 탄생 역사적 순간(종합)\\n\\n송고시간2024-10-10 22:32\\n\\n\"한강, 노벨상 연락에 예상못해…아들과 저녁식사 평범한 하루\"\\n(서울=연합뉴스) 소설가 한강이 한국 작가로 최초로 10일 노벨 문학상 수상의 영예를 안았다. 2016년 5월 한국 작가 최초로 세계 3대 문학상인 \\'맨부커상\\'을 수상한 소설가 한강이 서울 마포구 서교동 한 카페에서 열린 신작 소설 \\'흰\\' 출간 기자간담회에서 취재진의 질문에 답하고 있다. 2024.10.10 [연합뉴스 자료사진] photo@yna.co.kr\\n\\n (서울=연합뉴스) 임지우 기자 = \"2024년 노벨 문학상 수상자는…한국의 작가, 한강(South Korean author HanKang\"\\n 10일 현지시간 오후 1시(한국시간 오후 8시) 스웨덴 스톡홀롬 한림원 발표장에 들어선 마츠 말름 한림원 상무이사는 \"한림원은 이제 노벨 문학상 결정을 발표할 수 있게 됐다\"고 말문을 연 뒤 차분히 발표문을 읽어내렸다.\\n 먼저 스웨덴어로 수상자를 발표한 말름 이사는 이어 영어로도 수상자를 발표한 뒤 \"역사적 트라우마에 맞서고 인간의 삶의 연약함을 드러낸 강렬한 시적 산문\"이라며 선정 이유를 밝혔다.\\n 한국인 최초의 노벨 문학상 수상자가 탄생하는 역사적 순간이었다.\\n한강의 노벨문학상 수상을 발표하는 스웨덴 한림원 마츠 말름 이사. 2024.10.10 [AP=연합뉴스]\\n\\n 말름 이사는 이날 한강과 전화 통화를 한 내용도 전했다.\\n 그는 \"한강과 전화로 얘기할 수 있었다\"며 \"그는 평범한 하루를 보내고 있는 것처럼 보였다. 아들과 막 저녁 식사를 마친 참이었다\"고 말했다.\\n 그러면서 \"그는 (수상에) 준비가 되어 있지 않았다\"면서 한강과 오는 12월 열릴 노벨상 시상식 준비에 대해 논의했다고 덧붙였다.\\n 소설 \\'채식주의자\\' 등을 쓴 한강은 이날 한국 작가 최초로 노벨 문학상 수상의 영예를 안았다.\\n 아시아 여성이 123년 역사의 노벨 문학상을 받은 것도 이번이 처음이다. \\n 한국인의 노벨상 수상은 지난 2000년 평화상을 탄 고(故) 김대중 전 대통령에 이어 두 번째로, 24년 만이다. \\n wisefool@yna.co.kr\\n\\nhttps://youtu.be/esM8d2QhhD4\\n\\nhttps://youtu.be/Wx4dyjxww7c\\n\\n\\n제보는 카카오톡 okjebo\\n<저작권자(c) 연합뉴스,\\n무단 전재-재배포, AI 학습 및 활용 금지>\\n2024/10/10 22:32 송고\\n\\n(C) Yonhapnews[대표이사] 황대일\\n\\n</raw></document>']\n",
      "------------------------------\n",
      "====================================================================================================\n",
      "\n",
      "====================================================================================================\n",
      "------------------------------\n",
      "🔄 [Node] 답변 생성 노드 🔄\n",
      "2024년 노벨 문학상 수상자는 한국의 작가 한강(South Korean author HanKang)입니다.\n",
      "\n",
      "**Source**\n",
      "- 연합뉴스, \"사우스 코리아, 한강…韓 최초 노벨문학상 탄생 역사적 순간 (종합)\" (2024년 10월 10일) [https://www.yna.co.kr/view/AKR20241010167651009](https://www.yna.co.kr/view/AKR20241010167651009)\n",
      "------------------------------\n",
      "====================================================================================================\n",
      "\n"
     ]
    }
   ],
   "source": [
    "config = RunnableConfig(                        # config 설정\n",
    "    recursion_limit=20,                         # 최대 20개의 노드까지 방문.\n",
    "    configurable={'thread_id': random_uuid()}   # thread_id 설정\n",
    ")\n",
    "\n",
    "# 질문\n",
    "inputs = GraphState(question='2024년 노벨 문학상 수상자는')\n",
    "\n",
    "invoke_graph_(graph=app, inputs=inputs, config=config)"
   ]
  },
  {
   "cell_type": "code",
   "execution_count": 24,
   "metadata": {},
   "outputs": [],
   "source": [
    "import sys\n",
    "import time\n",
    "\n",
    "def stream_graph_(graph=app, inputs=inputs, config=config):\n",
    "    for chunk in app.stream(inputs, config=config, stream_mode=\"updates\"):\n",
    "        print(f\"==\" * 50)\n",
    "        \n",
    "        for state_key, state_value in chunk.items():      \n",
    "            if state_key == 'retrieve':\n",
    "                print('------------------------------')\n",
    "                print(f\"🔄 [Node] 문서 검색 노드 🔄\")\n",
    "                print(f\"{state_value['context']}\")\n",
    "                print('------------------------------')\n",
    "            elif state_key == 'llm_answer':\n",
    "                print('------------------------------')\n",
    "                print(f\"🔄 [Node] 답변 생성 노드 🔄\")\n",
    "                \n",
    "                for char in state_value['answer']:\n",
    "                    sys.stdout.write(char)\n",
    "                    sys.stdout.flush()\n",
    "                    time.sleep(0.01)\n",
    "\n",
    "                print('------------------------------')\n",
    "            elif state_key == 'relevance_check':\n",
    "                print('------------------------------')\n",
    "                print(f\"🔄 [Node] 관련성 평가 노드 🔄\")\n",
    "                print(f\"{state_value['relevance']}\")\n",
    "                print('------------------------------')\n",
    "\n",
    "            elif state_key == 'web_search':\n",
    "                print('------------------------------')\n",
    "                print(f\"🔄 [Node] 웹 검색 노드 🔄\")\n",
    "                print(f\"{state_value['context']}\")\n",
    "                print('------------------------------')\n",
    "                \n",
    "        print(f\"==\" * 50)\n",
    "        print()"
   ]
  },
  {
   "cell_type": "code",
   "execution_count": 25,
   "metadata": {},
   "outputs": [
    {
     "name": "stdout",
     "output_type": "stream",
     "text": [
      "====================================================================================================\n",
      "------------------------------\n",
      "🔄 [Node] 문서 검색 노드 🔄\n",
      "<document><content>CES 2024\n",
      "이번 전시에는 500곳 이상의 한국기업 참가 예정\n",
      "기간 장소 홈페이지\n",
      "2024.1.9~12 미국, 라스베가스 https://www.ces.tech/\n",
      "- 머신러닝 및 응용에 관한 국제 컨퍼런스(AIMLA 2024)는\n",
      "인공지능 및 머신러닝의 이론, 방법론 및 실용적 접근에 관한\n",
      "지식과 최신 연구 결과 공유\n",
      "- 이론 및 실무 측면에서 인공지능, 기계학습의 주요 분야를\n",
      "논의하고, 학계, 산업계의 연구자와 실무자들에게 해당 분\n",
      "AIMLA 2024\n",
      "야의 최첨단 개발 소식 공유\n",
      "기간 장소 홈페이지</content><source>data/SPRI_AI_Brief_2023년12월호_F.pdf</source><page>22</page></document>\n",
      "<document><content>n 참가국들은 튜링상을 수상한 AI 학자인 요슈아 벤지오 교수가 주도하는 ‘과학의 현황(State of\n",
      "the Science)’ 보고서 작성에도 합의했으며, 보고서를 통해 첨단 AI의 위험과 가능성에 관한\n",
      "기존 연구를 과학적으로 평가하고 향후 AI 안전 연구를 위한 우선순위를 제시할 계획\n",
      "n 한국은 영국 정부와 6개월 뒤에 온라인으로 AI 미니 정상회의를 공동 개최하기로 합의했으며,\n",
      "프랑스 정부와는 1년 후 대면 정상회의를 개최할 예정</content><source>data/SPRI_AI_Brief_2023년12월호_F.pdf</source><page>6</page></document>\n",
      "<document><content>12\n",
      "2023년 월호</content><source>data/SPRI_AI_Brief_2023년12월호_F.pdf</source><page>1</page></document>\n",
      "<document><content>£AI 기술 중 머신러닝, 텐서플로우, 딥러닝의 임금 프리미엄이 높게 평가\n",
      "n 옥스퍼드 인터넷 연구소(Oxford Internet Institute)가 2023년 10월 24일 962개 기술과 2만 5천\n",
      "명을 대상으로 한 연구에서 AI를 포함한 주요 기술의 경제적 가치를 분석한 결과를 발표\n",
      "∙ 연구에 따르면 한 기술의 경제적 가치는 근로자의 여타 역량과 얼마나 잘 결합하는지를 보여주는\n",
      "‘상보성(complementarity)’에 따라 결정됨</content><source>data/SPRI_AI_Brief_2023년12월호_F.pdf</source><page>21</page></document>\n",
      "<document><content>신기술 간 상보성을 극대화할 필요\n",
      "n AI의 확산은 기술의 경제적 가치에 크게 영향을 미치는 요소로, AI 기술을 가진 근로자는 평균적으로\n",
      "21% 높은 임금을 획득 가능\n",
      "∙ AI 기술 중 근로자에 대한 경제적 가치(시간당 임금 증가율 기준) 측면에서 상위 5개 기술은\n",
      "머신러닝(+40%), 텐서플로우(+38%), 딥러닝(+27%), 자연어처리(+19%), 데이터 과학(+17%) 순\n",
      "<AI 기술 유형 평균 기술 대비 갖는 임금 프리미엄></content><source>data/SPRI_AI_Brief_2023년12월호_F.pdf</source><page>21</page></document>\n",
      "<document><content>소송은 인정되어 계속 진행됨\n",
      "☞ 출처: Venturebeat, Midjourney, Stability AI and DeviantArt win a victory in copyright case by artists- but the\n",
      "fight continues, 2023.10.30.\n",
      "4</content><source>data/SPRI_AI_Brief_2023년12월호_F.pdf</source><page>7</page></document>\n",
      "<document><content>AIMLA 2024\n",
      "야의 최첨단 개발 소식 공유\n",
      "기간 장소 홈페이지\n",
      "https://ccnet2024.org/aimla\n",
      "2024.1.27~28 덴마크, 코펜하겐\n",
      "/index\n",
      "- AI 발전 협회 컨퍼런스(AAAI)는 AI 연구를 촉진하고, AI 분야\n",
      "연구원, 실무자, 과학자, 학생 및 공학자 간 교류의 기회 제공\n",
      "- 컨퍼런스에서 AI 관련 기술 발표, 특별 트랙, 초청 연사,\n",
      "AAAI Conference\n",
      "워크숍, 튜토리얼, 포스터 세션, 주제 발표, 대회, 전시 프\n",
      "on Artificial\n",
      "로그램 등 진행\n",
      "Intelligence</content><source>data/SPRI_AI_Brief_2023년12월호_F.pdf</source><page>22</page></document>\n",
      "<document><content>달 안에 기금 지원을 위한 제안 요청을 받을 계획\n",
      "n 프런티어 모델 포럼은 출범 이후 업계 전반에 걸쳐 AI 레드팀 구성에 관한 모범사례 공유를 추진하는\n",
      "한편, 첨단 AI 모델의 취약점이나 잠재적으로 위험한 기능 및 위험 완화 관련 정보를 공유할 수\n",
      "있는 공개 절차도 개발 중\n",
      "☞ 출처: Google, Anthropic, Google, Microsoft and OpenAI announce Executive Director of the Frontier Model</content><source>data/SPRI_AI_Brief_2023년12월호_F.pdf</source><page>10</page></document>\n",
      "<document><content>▹ 빌 게이츠, AI 에이전트로 인한 컴퓨터 사용의 패러다임 변화 전망································13\n",
      "▹ 유튜브, 2024년부터 AI 생성 콘텐츠 표시 의무화····························································14\n",
      "3. 기술/연구\n",
      "▹ 영국 과학혁신기술부, AI 안전 연구소 설립 발표······························································15</content><source>data/SPRI_AI_Brief_2023년12월호_F.pdf</source><page>2</page></document>\n",
      "<document><content>Ⅱ\n",
      ". 주요 행사\n",
      "▹CES 2024·····························································································································19\n",
      "▹AIMLA 2024·························································································································19</content><source>data/SPRI_AI_Brief_2023년12월호_F.pdf</source><page>2</page></document>\n",
      "------------------------------\n",
      "====================================================================================================\n",
      "\n",
      "====================================================================================================\n",
      "------------------------------\n",
      "🔄 [Node] 관련성 평가 노드 🔄\n",
      "no\n",
      "------------------------------\n",
      "====================================================================================================\n",
      "\n",
      "====================================================================================================\n",
      "------------------------------\n",
      "🔄 [Node] 웹 검색 노드 🔄\n",
      "['<document><title>\\\\\"사우스 코리아, 한강\\\\\"…韓 최초 노벨문학상 탄생 역사적 순간 (종합) | 연합뉴스</title><url>https://www.yna.co.kr/view/AKR20241010167651009</url><content>(서울=연합뉴스) 소설가 한강이 한국 작가로 최초로 10일 노벨 문학상 수상의 영예를 안았다. 2016년 5월 한국 작가 최초로 세계 3대 문학상인 \\'맨부커상\\'을 수상한 소설가 한강이 서울 마포구 서교동 한 카페에서 열린 신작 소설 \\'흰\\' 출간 기자간담회에서 취재진의 질문에 답하고 있다. 2024.10.10 [연합뉴스 자료사진] photo@yna.co.kr (서울=연합뉴스) 임지우 기자 = \\\\\"2024년 노벨 문학상 수상자는…한국의 작가, 한강(South Korean author HanKang\\\\\" 10일 현지시간 오후 1시(한국시간 오후 8시) 스웨덴 스톡홀롬 한림원 발표장에 들어선 마츠 말름 한림원 상무이사는 \\\\\"한림원은 이제 노벨 문학상 결정을 발표할 수 있게 됐다\\\\\"고 말문을 연 뒤 차분히 발표문을 읽어내렸다. 한국인 최초의 노벨 문학상 수상자가 탄생하는 역사적 순간이었다. 말름 이사는 이날 한강과 전화 통화를 한 내용도 전했다. 소설 \\'채식주의자\\' 등을 쓴 한강은 이날 한국 작가 최초로 노벨 문학상 수상의 영예를 안았다. https://youtu.be/esM8d2QhhD4 https://youtu.be/Wx4dyjxww7c <저작권자(c) 연합뉴스,</content><raw>자동완성 기능이 켜져 있습니다.\\n\"사우스 코리아, 한강\"…韓 최초 노벨문학상 탄생 역사적 순간(종합)\\n\\n송고시간2024-10-10 22:32\\n\\n\"한강, 노벨상 연락에 예상못해…아들과 저녁식사 평범한 하루\"\\n(서울=연합뉴스) 소설가 한강이 한국 작가로 최초로 10일 노벨 문학상 수상의 영예를 안았다. 2016년 5월 한국 작가 최초로 세계 3대 문학상인 \\'맨부커상\\'을 수상한 소설가 한강이 서울 마포구 서교동 한 카페에서 열린 신작 소설 \\'흰\\' 출간 기자간담회에서 취재진의 질문에 답하고 있다. 2024.10.10 [연합뉴스 자료사진] photo@yna.co.kr\\n\\n (서울=연합뉴스) 임지우 기자 = \"2024년 노벨 문학상 수상자는…한국의 작가, 한강(South Korean author HanKang\"\\n 10일 현지시간 오후 1시(한국시간 오후 8시) 스웨덴 스톡홀롬 한림원 발표장에 들어선 마츠 말름 한림원 상무이사는 \"한림원은 이제 노벨 문학상 결정을 발표할 수 있게 됐다\"고 말문을 연 뒤 차분히 발표문을 읽어내렸다.\\n 먼저 스웨덴어로 수상자를 발표한 말름 이사는 이어 영어로도 수상자를 발표한 뒤 \"역사적 트라우마에 맞서고 인간의 삶의 연약함을 드러낸 강렬한 시적 산문\"이라며 선정 이유를 밝혔다.\\n 한국인 최초의 노벨 문학상 수상자가 탄생하는 역사적 순간이었다.\\n한강의 노벨문학상 수상을 발표하는 스웨덴 한림원 마츠 말름 이사. 2024.10.10 [AP=연합뉴스]\\n\\n 말름 이사는 이날 한강과 전화 통화를 한 내용도 전했다.\\n 그는 \"한강과 전화로 얘기할 수 있었다\"며 \"그는 평범한 하루를 보내고 있는 것처럼 보였다. 아들과 막 저녁 식사를 마친 참이었다\"고 말했다.\\n 그러면서 \"그는 (수상에) 준비가 되어 있지 않았다\"면서 한강과 오는 12월 열릴 노벨상 시상식 준비에 대해 논의했다고 덧붙였다.\\n 소설 \\'채식주의자\\' 등을 쓴 한강은 이날 한국 작가 최초로 노벨 문학상 수상의 영예를 안았다.\\n 아시아 여성이 123년 역사의 노벨 문학상을 받은 것도 이번이 처음이다. \\n 한국인의 노벨상 수상은 지난 2000년 평화상을 탄 고(故) 김대중 전 대통령에 이어 두 번째로, 24년 만이다. \\n wisefool@yna.co.kr\\n\\nhttps://youtu.be/esM8d2QhhD4\\n\\nhttps://youtu.be/Wx4dyjxww7c\\n\\n\\n제보는 카카오톡 okjebo\\n<저작권자(c) 연합뉴스,\\n무단 전재-재배포, AI 학습 및 활용 금지>\\n2024/10/10 22:32 송고\\n\\n(C) Yonhapnews[대표이사] 황대일\\n\\n</raw></document>', '<document><title>\\\\\"사우스 코리아, 한강\\\\\"…韓 최초 노벨문학상 탄생 역사적 순간 (종합) | 연합뉴스</title><url>https://www.yna.co.kr/view/AKR20241010167651009</url><content>(서울=연합뉴스) 소설가 한강이 한국 작가로 최초로 10일 노벨 문학상 수상의 영예를 안았다. 2016년 5월 한국 작가 최초로 세계 3대 문학상인 \\'맨부커상\\'을 수상한 소설가 한강이 서울 마포구 서교동 한 카페에서 열린 신작 소설 \\'흰\\' 출간 기자간담회에서 취재진의 질문에 답하고 있다. 2024.10.10 [연합뉴스 자료사진] photo@yna.co.kr (서울=연합뉴스) 임지우 기자 = \\\\\"2024년 노벨 문학상 수상자는…한국의 작가, 한강(South Korean author HanKang\\\\\" 10일 현지시간 오후 1시(한국시간 오후 8시) 스웨덴 스톡홀롬 한림원 발표장에 들어선 마츠 말름 한림원 상무이사는 \\\\\"한림원은 이제 노벨 문학상 결정을 발표할 수 있게 됐다\\\\\"고 말문을 연 뒤 차분히 발표문을 읽어내렸다. 한국인 최초의 노벨 문학상 수상자가 탄생하는 역사적 순간이었다. 말름 이사는 이날 한강과 전화 통화를 한 내용도 전했다. 소설 \\'채식주의자\\' 등을 쓴 한강은 이날 한국 작가 최초로 노벨 문학상 수상의 영예를 안았다. https://youtu.be/esM8d2QhhD4 https://youtu.be/Wx4dyjxww7c <저작권자(c) 연합뉴스,</content><raw>자동완성 기능이 켜져 있습니다.\\n\"사우스 코리아, 한강\"…韓 최초 노벨문학상 탄생 역사적 순간(종합)\\n\\n송고시간2024-10-10 22:32\\n\\n\"한강, 노벨상 연락에 예상못해…아들과 저녁식사 평범한 하루\"\\n(서울=연합뉴스) 소설가 한강이 한국 작가로 최초로 10일 노벨 문학상 수상의 영예를 안았다. 2016년 5월 한국 작가 최초로 세계 3대 문학상인 \\'맨부커상\\'을 수상한 소설가 한강이 서울 마포구 서교동 한 카페에서 열린 신작 소설 \\'흰\\' 출간 기자간담회에서 취재진의 질문에 답하고 있다. 2024.10.10 [연합뉴스 자료사진] photo@yna.co.kr\\n\\n (서울=연합뉴스) 임지우 기자 = \"2024년 노벨 문학상 수상자는…한국의 작가, 한강(South Korean author HanKang\"\\n 10일 현지시간 오후 1시(한국시간 오후 8시) 스웨덴 스톡홀롬 한림원 발표장에 들어선 마츠 말름 한림원 상무이사는 \"한림원은 이제 노벨 문학상 결정을 발표할 수 있게 됐다\"고 말문을 연 뒤 차분히 발표문을 읽어내렸다.\\n 먼저 스웨덴어로 수상자를 발표한 말름 이사는 이어 영어로도 수상자를 발표한 뒤 \"역사적 트라우마에 맞서고 인간의 삶의 연약함을 드러낸 강렬한 시적 산문\"이라며 선정 이유를 밝혔다.\\n 한국인 최초의 노벨 문학상 수상자가 탄생하는 역사적 순간이었다.\\n한강의 노벨문학상 수상을 발표하는 스웨덴 한림원 마츠 말름 이사. 2024.10.10 [AP=연합뉴스]\\n\\n 말름 이사는 이날 한강과 전화 통화를 한 내용도 전했다.\\n 그는 \"한강과 전화로 얘기할 수 있었다\"며 \"그는 평범한 하루를 보내고 있는 것처럼 보였다. 아들과 막 저녁 식사를 마친 참이었다\"고 말했다.\\n 그러면서 \"그는 (수상에) 준비가 되어 있지 않았다\"면서 한강과 오는 12월 열릴 노벨상 시상식 준비에 대해 논의했다고 덧붙였다.\\n 소설 \\'채식주의자\\' 등을 쓴 한강은 이날 한국 작가 최초로 노벨 문학상 수상의 영예를 안았다.\\n 아시아 여성이 123년 역사의 노벨 문학상을 받은 것도 이번이 처음이다. \\n 한국인의 노벨상 수상은 지난 2000년 평화상을 탄 고(故) 김대중 전 대통령에 이어 두 번째로, 24년 만이다. \\n wisefool@yna.co.kr\\n\\nhttps://youtu.be/esM8d2QhhD4\\n\\nhttps://youtu.be/Wx4dyjxww7c\\n\\n\\n제보는 카카오톡 okjebo\\n<저작권자(c) 연합뉴스,\\n무단 전재-재배포, AI 학습 및 활용 금지>\\n2024/10/10 22:32 송고\\n\\n(C) Yonhapnews[대표이사] 황대일\\n\\n</raw></document>']\n",
      "------------------------------\n",
      "====================================================================================================\n",
      "\n",
      "====================================================================================================\n",
      "------------------------------\n",
      "🔄 [Node] 답변 생성 노드 🔄\n",
      "2024년 노벨 문학상 수상자는 한국의 작가 한강(South Korean author HanKang)입니다.\n",
      "\n",
      "**Source**\n",
      "- https://www.yna.co.kr/view/AKR20241010167651009------------------------------\n",
      "====================================================================================================\n",
      "\n"
     ]
    }
   ],
   "source": [
    "config = RunnableConfig(                        # config 설정\n",
    "    recursion_limit=20,                         # 최대 20개의 노드까지 방문.\n",
    "    configurable={'thread_id': random_uuid()}   # thread_id 설정\n",
    ")\n",
    "\n",
    "# 질문\n",
    "inputs = GraphState(question='2024년 노벨 문학상 수상자는')\n",
    "\n",
    "stream_graph_(graph=app, inputs=inputs, config=config)"
   ]
  }
 ],
 "metadata": {
  "kernelspec": {
   "display_name": "venv",
   "language": "python",
   "name": "python3"
  },
  "language_info": {
   "codemirror_mode": {
    "name": "ipython",
    "version": 3
   },
   "file_extension": ".py",
   "mimetype": "text/x-python",
   "name": "python",
   "nbconvert_exporter": "python",
   "pygments_lexer": "ipython3",
   "version": "3.11.9"
  }
 },
 "nbformat": 4,
 "nbformat_minor": 2
}
