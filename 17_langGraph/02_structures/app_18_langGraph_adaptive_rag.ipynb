{
 "cells": [
  {
   "cell_type": "code",
   "execution_count": 2,
   "metadata": {},
   "outputs": [],
   "source": [
    "from dotenv import load_dotenv\n",
    "import os\n",
    "\n",
    "load_dotenv(verbose=True)\n",
    "key = os.getenv('OPENAI_API_KEY')"
   ]
  },
  {
   "cell_type": "code",
   "execution_count": 3,
   "metadata": {},
   "outputs": [],
   "source": [
    "from langchain_openai import ChatOpenAI\n",
    "from langchain_core.prompts import ChatPromptTemplate\n",
    "from langchain_core.output_parsers import StrOutputParser\n",
    "\n",
    "from rag.pdf import PDFRetrievalChain\n",
    "from langchain_teddynote.tools.tavily import TavilySearch\n",
    "\n",
    "from typing import List, Literal\n",
    "from typing_extensions import TypedDict, Annotated\n",
    "from pydantic import BaseModel, Field\n",
    "from langchain_core.documents import Document"
   ]
  },
  {
   "cell_type": "code",
   "execution_count": 4,
   "metadata": {},
   "outputs": [],
   "source": [
    "class GraphState(TypedDict):\n",
    "    \"\"\"\n",
    "    그래프의 상태를 나타내는 데이터 모델\n",
    "\n",
    "    Attributes:\n",
    "        question: 질문\n",
    "        generation: LLM 생성된 답변\n",
    "        documents: 도큐먼트 리스트\n",
    "    \"\"\"\n",
    "\n",
    "    question: Annotated[str, \"User question\"]\n",
    "    generation: Annotated[str, \"LLM generated answer\"]\n",
    "    documents: Annotated[List[str], \"List of documents\"]"
   ]
  },
  {
   "cell_type": "markdown",
   "metadata": {},
   "source": [
    "### PDF 기반 문서 검색기 (Retrieval chain) 생성"
   ]
  },
  {
   "cell_type": "code",
   "execution_count": 5,
   "metadata": {},
   "outputs": [],
   "source": [
    "from rag.pdf import PDFRetrievalChain\n",
    "\n",
    "# PDF 문서를 로드\n",
    "pdf = PDFRetrievalChain(['data/SPRI_AI_Brief_2023년12월호_F.pdf']).create_chain()\n",
    "\n",
    "pdf_retriever = pdf.retriever       # retriever 생성\n",
    "pdf_chain = pdf.chain               # pdf retriever chain 생성"
   ]
  },
  {
   "cell_type": "markdown",
   "metadata": {},
   "source": [
    "### PDF 기반 문서 검색기 (Retrieval chain) : 사용자 질문에 대한 PDF 문서를 검색"
   ]
  },
  {
   "cell_type": "code",
   "execution_count": 6,
   "metadata": {},
   "outputs": [],
   "source": [
    "# 문서 검색 노드\n",
    "def retrieve(state: GraphState):\n",
    "    print('\\n==========================================================================================')\n",
    "    print('===== [RETRIEVE] retieve() 노드 실행 =====')\n",
    "\n",
    "    # 사용자 질문\n",
    "    question = state['question']        \n",
    "\n",
    "    # 문서 검색 (pdf_retriever 에 사용자 입력을 인자로 넣어서 문서를 검색)\n",
    "    documents = pdf_retriever.invoke(question)\n",
    "    \n",
    "    print(f'문서 검색 결과: ')\n",
    "    print(documents)\n",
    "    print('==========================================================================================\\n')\n",
    "    \n",
    "    return {'documents': documents}"
   ]
  },
  {
   "cell_type": "markdown",
   "metadata": {},
   "source": [
    "### 답변 생성을 위한 RAG 체인"
   ]
  },
  {
   "cell_type": "code",
   "execution_count": 7,
   "metadata": {},
   "outputs": [],
   "source": [
    "from langchain_core.output_parsers import StrOutputParser\n",
    "from langchain_openai import ChatOpenAI\n",
    "from langchain import hub\n",
    "\n",
    "# prompt = hub.pull(\"teddynote/rag-prompt\")\n",
    "\n",
    "template = \"\"\"You are an AI assistant specializing in Question-Answering (QA) tasks within a Retrieval-Augmented Generation (RAG) system. \n",
    "Your primary mission is to answer questions based on provided context or chat history.\n",
    "Ensure your response is concise and directly addresses the question without any additional narration.\n",
    "\n",
    "###\n",
    "\n",
    "Your final answer should be written concisely (but include important numerical values, technical terms, jargon, and names), followed by the source of the information.\n",
    "\n",
    "# Steps\n",
    "\n",
    "1. Carefully read and understand the context provided.\n",
    "2. Identify the key information related to the question within the context.\n",
    "3. Formulate a concise answer based on the relevant information.\n",
    "4. Ensure your final answer directly addresses the question.\n",
    "5. List the source of the answer in bullet points, which must be a file name (with a page number) or URL from the context. Omit if the source cannot be found.\n",
    "\n",
    "# Output Format:\n",
    "[Your final answer here, with numerical values, technical terms, jargon, and names in their original language]\n",
    "\n",
    "**Source**(Optional)\n",
    "- (Source of the answer, must be a file name(with a page number) or URL from the context. Omit if you can't find the source of the answer.)\n",
    "- (list more if there are multiple sources)\n",
    "- ...\n",
    "\n",
    "###\n",
    "\n",
    "Remember:\n",
    "- It's crucial to base your answer solely on the **PROVIDED CONTEXT**. \n",
    "- DO NOT use any external knowledge or information not present in the given materials.\n",
    "- If you can't find the source of the answer, you should answer that you don't know.\n",
    "\n",
    "###\n",
    "\n",
    "# Here is the user's QUESTION that you should answer:\n",
    "{question}\n",
    "\n",
    "# Here is the CONTEXT that you should use to answer the question:\n",
    "{context}\n",
    "\n",
    "# Your final ANSWER to the user's QUESTION:\"\"\"\n",
    "\n",
    "prompt = ChatPromptTemplate.from_template(template)\n",
    "\n",
    "llm = ChatOpenAI(\n",
    "    api_key=key, \n",
    "    model='gpt-4o-mini', \n",
    "    temperature=0\n",
    ")\n",
    "\n",
    "def format_docs(docs):\n",
    "    return \"\\n\\n\".join(\n",
    "        [\n",
    "            f'<document><content>{doc.page_content}</content><source>{doc.metadata[\"source\"]}</source><page>{doc.metadata[\"page\"]+1}</page></document>'\n",
    "            for doc in docs\n",
    "        ]\n",
    "    )\n",
    "\n",
    "output_parser = StrOutputParser()\n",
    "\n",
    "# RAG 체인 생성 (pdf_retriever 문서 검색기를 사용해서 얻은 문서와 사용자 질문을 넣어서 결과)\n",
    "rag_chain = prompt | llm | output_parser"
   ]
  },
  {
   "cell_type": "markdown",
   "metadata": {},
   "source": [
    "### 답변 생성을 위한 RAG 체인을 실행하여 사용자 질문에 대한 답변을 생성하는 노드"
   ]
  },
  {
   "cell_type": "code",
   "execution_count": 8,
   "metadata": {},
   "outputs": [],
   "source": [
    "# 답변 생성 노드\n",
    "def generate(state: GraphState):\n",
    "    print('\\n==========================================================================================')\n",
    "    print('===== [GENERATE] generate() 함수 =====')\n",
    "\n",
    "    # 사용자 질문\n",
    "    question = state['question']  \n",
    "\n",
    "    # 문서 검색 결과\n",
    "    documents = state['documents']\n",
    "\n",
    "    # RAG 실행 결과\n",
    "    generation = rag_chain.invoke({'context': documents , 'question': 'question'})\n",
    "\n",
    "    print(f'사용자 질문: {question}')\n",
    "    print(f'문서 검색 결과:')\n",
    "    print(documents)\n",
    "    print()\n",
    "    print(f'rag 실행 결과:')\n",
    "    print(generation)\n",
    "    print()\n",
    "    print('==========================================================================================\\n')    \n",
    "\n",
    "    return {'generation': generation}"
   ]
  },
  {
   "cell_type": "markdown",
   "metadata": {},
   "source": [
    "### 문서 검색 평가기 (Retrieval Grader)"
   ]
  },
  {
   "cell_type": "code",
   "execution_count": 9,
   "metadata": {},
   "outputs": [],
   "source": [
    "class GradeDocuments(BaseModel):        # 문서 평가를 위한 데이터 모델\n",
    "    \"\"\"Binary score for relevance check on retrieved documents.\"\"\"\n",
    "\n",
    "    # 사용자 질문에 대한 pdf 문서 검색 결과를 평가하는 문서 검색 평가기(retrieval_grader)를 사용해서 \n",
    "    # 사용자 질문과 검색 결과문서가 관련성이 있는지 본다\n",
    "\n",
    "    binary_score: str = Field(\n",
    "        description=\"Documents are relevant to the question, 'yes' or 'no'\"\n",
    "    )\n",
    "\n",
    "llm = ChatOpenAI(\n",
    "    api_key=key, \n",
    "    model='gpt-4o-mini', \n",
    "    temperature=0\n",
    ")\n",
    "\n",
    "structured_llm_grader = llm.with_structured_output(GradeDocuments)\n",
    "\n",
    "# 시스템 메시지\n",
    "system = \"\"\"You are a grader assessing relevance of a retrieved document to a user question. \\n \n",
    "    If the document contains keyword(s) or semantic meaning related to the user question, grade it as relevant. \\n\n",
    "    It does not need to be a stringent test. The goal is to filter out erroneous retrievals. \\n\n",
    "    Give a binary score 'yes' or 'no' score to indicate whether the document is relevant to the question.\"\"\"\n",
    "\n",
    "# 프롬프트 템플릿\n",
    "grade_prompt = ChatPromptTemplate.from_messages(\n",
    "    [\n",
    "        (\"system\", system),\n",
    "        (\"human\", \"Retrieved document: \\n\\n {document} \\n\\n User question: {question}\"),\n",
    "    ]\n",
    ")\n",
    "\n",
    "# 문서 검색결과 평가기\n",
    "retrieval_grader = grade_prompt | structured_llm_grader"
   ]
  },
  {
   "cell_type": "markdown",
   "metadata": {},
   "source": [
    "### 사용자 질문에 대한 pdf 문서 검색 결과의 관련성을 평가하는 문서 검색 평가기(retrieval_grader) 노드"
   ]
  },
  {
   "cell_type": "code",
   "execution_count": 10,
   "metadata": {},
   "outputs": [],
   "source": [
    "# 문서 검색 결과와 질문 관련성 평가 노드\n",
    "def grade_documents(state: GraphState):\n",
    "    print('\\n==========================================================================================')\n",
    "    print('===== [CHECK DOCUMENT RELEVANCE TO QUESTION] grade_documents() 함수 =====')\n",
    "\n",
    "    # 사용자 질문\n",
    "    question = state['question']  \n",
    "\n",
    "    # 문서 검색 결과\n",
    "    documents = state['documents']\n",
    "\n",
    "    # 문서 검색 평가기를 통과한 문서들만 필터링\n",
    "    filtered_docs = []\n",
    "\n",
    "    for doc in documents:\n",
    "        score = retrieval_grader.invoke({'question': question, 'document': doc.page_content})\n",
    "\n",
    "        grade = score.binary_score\n",
    "\n",
    "        if grade == 'yes':\n",
    "            print(\"---GRADE: DOCUMENT RELEVANT---\")     \n",
    "            filtered_docs.append(doc)                   \n",
    "        else:\n",
    "            print(\"---GRADE: DOCUMENT NOT RELEVANT---\") \n",
    "            continue     \n",
    "\n",
    "    print('==========================================================================================\\n')\n",
    "    return {'documents': filtered_docs}"
   ]
  },
  {
   "cell_type": "markdown",
   "metadata": {},
   "source": [
    "### 쿼리 재작성 (Query Rewriter)"
   ]
  },
  {
   "cell_type": "code",
   "execution_count": 11,
   "metadata": {},
   "outputs": [],
   "source": [
    "from langchain_openai import ChatOpenAI\n",
    "from langchain_core.prompts import ChatPromptTemplate\n",
    "from langchain_core.output_parsers import StrOutputParser\n",
    "\n",
    "\n",
    "llm = ChatOpenAI(\n",
    "    api_key=key, \n",
    "    model='gpt-4o-mini', \n",
    "    temperature=0\n",
    ")\n",
    "\n",
    "# Query Rewriter 프롬프트\n",
    "system = \"\"\"You a question re-writer that converts an input question to a better version that is optimized \\n \n",
    "for vectorstore retrieval. Look at the input and try to reason about the underlying semantic intent / meaning.\"\"\"\n",
    "\n",
    "re_writer_prompt = ChatPromptTemplate.from_messages(\n",
    "    [\n",
    "        ('system', system), \n",
    "        ('human', 'Here is the initial question: \\n\\n {question} \\n Formulate an improved question')\n",
    "    ]\n",
    ")\n",
    "\n",
    "# Query Rewriter 생성\n",
    "question_rewriter = re_writer_prompt | llm | StrOutputParser()"
   ]
  },
  {
   "cell_type": "markdown",
   "metadata": {},
   "source": [
    "### Query Rewrite 노드"
   ]
  },
  {
   "cell_type": "code",
   "execution_count": 12,
   "metadata": {},
   "outputs": [],
   "source": [
    "# Query Rewrite 노드\n",
    "def transform_query(state: GraphState):\n",
    "    print('\\n==========================================================================================')\n",
    "    print('===== [TRANSFORM QUERY] transform_query() 함수 =====')\n",
    "\n",
    "    # 사용자 질문\n",
    "    question = state['question']\n",
    "\n",
    "    # 문서 검색 결과\n",
    "    documents = state['documents']\n",
    "\n",
    "    \n",
    "    # 쿼리 재작성\n",
    "    better_question = question_rewriter.invoke({'question': question})\n",
    "    print(f\"better_question: {better_question}\")\n",
    "    print('==========================================================================================\\n')\n",
    "\n",
    "    return {'question': better_question}"
   ]
  },
  {
   "cell_type": "markdown",
   "metadata": {},
   "source": [
    "### 웹 검색 도구"
   ]
  },
  {
   "cell_type": "code",
   "execution_count": 13,
   "metadata": {},
   "outputs": [],
   "source": [
    "from langchain_teddynote.tools.tavily import TavilySearch\n",
    "\n",
    "# 웹 검색 도구 생성\n",
    "web_search_tool = TavilySearch(max_results=2)"
   ]
  },
  {
   "cell_type": "markdown",
   "metadata": {},
   "source": [
    "### 웹 검색 노드"
   ]
  },
  {
   "cell_type": "code",
   "execution_count": 14,
   "metadata": {},
   "outputs": [],
   "source": [
    "# 웹 검색 노드\n",
    "def web_search(state):\n",
    "    print('\\n==========================================================================================')\n",
    "    print('===== [WEB SEARCH] web_search() 함수 =====')\n",
    "\n",
    "    # 사용자 질문\n",
    "    question = state['question']\n",
    "    \n",
    "    print(f\"question: \")\n",
    "    print(question)\n",
    "    print()\n",
    "\n",
    "    # 웹 검색 수행\n",
    "    web_results = web_search_tool.invoke({\"query\": question})\n",
    "\n",
    "    print('web_results: ')\n",
    "    print(web_results)\n",
    "    print()\n",
    "\n",
    "    web_results_docs = []\n",
    "    \n",
    "    for result in web_results:\n",
    "        doc = Document(\n",
    "            page_content=result[\"content\"],\n",
    "            metadata={\"source\": result[\"url\"]}\n",
    "        )\n",
    "        web_results_docs.append(doc)\n",
    "\n",
    "    print(web_results_docs)\n",
    "    print('==========================================================================================\\n')\n",
    "\n",
    "    return {\"documents\": web_results_docs}"
   ]
  },
  {
   "cell_type": "markdown",
   "metadata": {},
   "source": [
    "### 질문 라우팅 노드"
   ]
  },
  {
   "cell_type": "code",
   "execution_count": 15,
   "metadata": {},
   "outputs": [],
   "source": [
    "class RouteQuery(BaseModel):    \n",
    "    \"\"\"Route a user query to the most relevant datasource.\"\"\"\n",
    "\n",
    "    datasource: Literal[\"vectorstore\", \"web_search\"] = Field(\n",
    "        ...,\n",
    "        description=\"Given a user question choose to route it to web search or a vectorstore.\",\n",
    "    )\n",
    "\n",
    "\n",
    "llm = ChatOpenAI(\n",
    "    api_key=key, \n",
    "    model='gpt-4o-mini', \n",
    "    temperature=0\n",
    ")\n",
    "\n",
    "# 구조화된 출력을 결과로 가젼온다 (vectorstore, web_search)\n",
    "structured_llm_router = llm.with_structured_output(RouteQuery)\n",
    "\n",
    "# 시스템 메시지\n",
    "system = \"\"\"You are an expert at routing a user question to a vectorstore or web search.\n",
    "The vectorstore contains documents related to DEC 2023 AI Brief Report(SPRI) with Samsung Gause, Anthropic, etc.\n",
    "Use the vectorstore for questions on these topics. Otherwise, use web-search.\"\"\"\n",
    "\n",
    "# 프롬프트\n",
    "route_prompt = ChatPromptTemplate.from_messages(\n",
    "    [\n",
    "        ('system', system), \n",
    "        ('human', '{question}')\n",
    "    ]\n",
    ")\n",
    "\n",
    "question_router = route_prompt | structured_llm_router"
   ]
  },
  {
   "cell_type": "markdown",
   "metadata": {},
   "source": [
    "### 질문 라우팅 노드"
   ]
  },
  {
   "cell_type": "code",
   "execution_count": 16,
   "metadata": {},
   "outputs": [],
   "source": [
    "# 질문 라우팅 노드\n",
    "def route_question(state: GraphState):\n",
    "    print('\\n==========================================================================================')\n",
    "    print('===== [ROUTE QUESTION] route_question() 함수 =====')\n",
    "\n",
    "    # 사용자 질문\n",
    "    question = state['question']\n",
    "\n",
    "    # 질문 라우팅\n",
    "    source = question_router.invoke({'question': question})\n",
    "\n",
    "    if source.datasource == \"web_search\":\n",
    "        print(\"==== [ROUTE QUESTION TO WEB SEARCH] ====\")\n",
    "        print('==========================================================================================\\n')\n",
    "        return \"web_search\"\n",
    "    elif source.datasource == \"vectorstore\":\n",
    "        print(\"==== [ROUTE QUESTION TO VECTORSTORE] ====\")\n",
    "        print('==========================================================================================\\n')\n",
    "        return \"vectorstore\""
   ]
  },
  {
   "cell_type": "markdown",
   "metadata": {},
   "source": [
    "### 문서 관련성 평가 노드"
   ]
  },
  {
   "cell_type": "code",
   "execution_count": 17,
   "metadata": {},
   "outputs": [],
   "source": [
    "# 문서 관련성 평가 노드\n",
    "def decide_to_generate(state: GraphState):\n",
    "    print('\\n==========================================================================================')\n",
    "    print('===== [DECISION TO GENERATE] decide_to_generate() 함수 =====')\n",
    "\n",
    "    # 문서 검색 결과 가져오기\n",
    "    filtered_documents = state['documents']\n",
    "\n",
    "    if not filtered_documents:                              # 문서가 없는 경우 (모든 문서가 관련성 없는 문서)\n",
    "        print(f'===== [DECISION: ALL DOCUMENTS ARE NOT RELEVANT TO QUESTION, TRANSFORM QUERY] =====')\n",
    "        print('==========================================================================================\\n')\n",
    "        return \"transform_query\"        \n",
    "    else:                                                   # 관련성 있는 문서가 있는 경우\n",
    "        print(f\"===== [DECISION: GENERATE] =====\")\n",
    "        print('==========================================================================================\\n')\n",
    "        return \"generate\""
   ]
  },
  {
   "cell_type": "markdown",
   "metadata": {},
   "source": [
    "# 답변에 대한 Hallucination checker 추가"
   ]
  },
  {
   "cell_type": "code",
   "execution_count": 18,
   "metadata": {},
   "outputs": [],
   "source": [
    "from langchain_openai import ChatOpenAI\n",
    "from langchain_core.prompts import ChatPromptTemplate\n",
    "from langchain_core.output_parsers import StrOutputParser\n",
    "\n",
    "class GradeHallucinations(BaseModel):\n",
    "    \"\"\"Binary score for hallucination present in generation answer.\"\"\"\n",
    "\n",
    "    binary_score: str = Field(\n",
    "        description=\"Answer is grounded in the facts, 'yes' or 'no'\"\n",
    "    )\n",
    "\n",
    "\n",
    "llm = ChatOpenAI(\n",
    "    api_key=key, \n",
    "    model='gpt-4o-mini', \n",
    "    temperature=0\n",
    ")\n",
    "\n",
    "structured_hallucination_grader = llm.with_structured_output(GradeHallucinations)\n",
    "\n",
    "# system\n",
    "system = \"\"\"You are a grader assessing whether an LLM generation is grounded in / supported by a set of retrieved facts. \\n \n",
    "    Give a binary score 'yes' or 'no'. 'Yes' means that the answer is grounded in / supported by the set of facts.\"\"\"\n",
    "\n",
    "# 프롬프트\n",
    "hallucination_prompt = ChatPromptTemplate.from_messages(\n",
    "    [\n",
    "        (\"system\", system),\n",
    "        (\"human\", \"Set of facts: \\n\\n {documents} \\n\\n LLM generation: {generation}\"),\n",
    "    ]\n",
    ") \n",
    "\n",
    "# hallucination 평가기 생성\n",
    "hallucination_grader = hallucination_prompt | structured_hallucination_grader"
   ]
  },
  {
   "cell_type": "code",
   "execution_count": 19,
   "metadata": {},
   "outputs": [],
   "source": [
    "class GradeAnswer(BaseModel):\n",
    "    \"\"\"Binary scoring to evaluate the appropriateness of answers to questions\"\"\"\n",
    "\n",
    "    binary_score: str = Field(\n",
    "        description=\"Indicate 'yes' or 'no' whether the answer solves the question\"\n",
    "    )\n",
    "\n",
    "llm = ChatOpenAI(\n",
    "    api_key=key, \n",
    "    model='gpt-4o-mini', \n",
    "    temperature=0\n",
    ")\n",
    "\n",
    "structured_llm_grader = llm.with_structured_output(GradeAnswer)\n",
    "\n",
    "# system\n",
    "system = \"\"\"You are a grader assessing whether an answer addresses / resolves a question \\n \n",
    "     Give a binary score 'yes' or 'no'. Yes' means that the answer resolves the question.\"\"\"\n",
    "\n",
    "# 프롬프트 템플릿\n",
    "answer_prompt = ChatPromptTemplate.from_messages(\n",
    "    [\n",
    "        (\"system\", system),\n",
    "        (\"human\", \"User question: \\n\\n {question} \\n\\n LLM generation: {generation}\"),\n",
    "    ]\n",
    ")\n",
    "\n",
    "# 프롬프트 템플릿과 구조화된 LLM 평가기를 결합하여 답변 평가기 생성\n",
    "answer_grader = answer_prompt | structured_llm_grader"
   ]
  },
  {
   "cell_type": "markdown",
   "metadata": {},
   "source": [
    "### hallucination_check"
   ]
  },
  {
   "cell_type": "code",
   "execution_count": 20,
   "metadata": {},
   "outputs": [],
   "source": [
    "# Hallucination 평가 노드\n",
    "def hallucination_check(state: GraphState):\n",
    "    print('\\n==========================================================================================')\n",
    "    print('===== [CHECK hallucination] hallucination_check() 함수 =====')\n",
    "\n",
    "    # 사용자 질문\n",
    "    qestion = state['question']\n",
    "\n",
    "    # 문서 검색 결과\n",
    "    documents = state['documents']\n",
    "\n",
    "    # 생성된 답변\n",
    "    generation = state['generation']\n",
    "\n",
    "    # 평가\n",
    "    score = hallucination_grader.invoke({'documents': documents, 'generation': generation})\n",
    "    grade = score.binary_score\n",
    "\n",
    "    print(f\"===== [평가 결과] =====\")\n",
    "    print(grade)\n",
    "\n",
    "    if grade == 'yes':     # hallucination 없음\n",
    "        print(\"===== [DECISION: GENERATION IS GROUNDED IN DOCUMENTS] =====\")\n",
    "        print(\"no hallucination\")\n",
    "\n",
    "        # 답변에 대한 관련성 평가\n",
    "        print(\"===== [GRADE GENERATED ANSWER vs QUESTION] =====\")\n",
    "\n",
    "        score = answer_grader.invoke({'question': state['question'], 'generation': generation})\n",
    "        grade = score.binary_score\n",
    "\n",
    "        if grade == 'yes':          # 관련성 있는 답변\n",
    "            print(\"==== [DECISION: GENERATED ANSWER ADDRESSES QUESTION] ====\")\n",
    "            print(\"relevant\")\n",
    "            print('==========================================================================================\\n')\n",
    "            return \"relevant\"\n",
    "        else:                       # 관련성 없는 답변\n",
    "            print(\"==== [DECISION: GENERATED ANSWER DOES NOT ADDRESS QUESTION] ====\")\n",
    "            print(\"not relevant\")\n",
    "            print('==========================================================================================\\n')\n",
    "            return \"not relevant\"\n",
    "\n",
    "    else:                   # hallucination 있음\n",
    "        print(\"===== [DECISION: GENERATION IS NOT GROUNDED IN DOCUMENTS, RE-TRY] =====\")\n",
    "        print(\"hallucination\")\n",
    "        print('==========================================================================================\\n')\n",
    "        return \"hallucination\""
   ]
  },
  {
   "cell_type": "markdown",
   "metadata": {},
   "source": [
    "# 테스트"
   ]
  },
  {
   "cell_type": "code",
   "execution_count": 21,
   "metadata": {},
   "outputs": [
    {
     "data": {
      "text/plain": [
       "{'question': '대구 중앙떡볶이', 'generation': '', 'documents': []}"
      ]
     },
     "execution_count": 21,
     "metadata": {},
     "output_type": "execute_result"
    }
   ],
   "source": [
    "state = GraphState(\n",
    "    question='대구 중앙떡볶이',\n",
    "    generation = '', \n",
    "    documents = []\n",
    ")\n",
    "\n",
    "state"
   ]
  },
  {
   "cell_type": "code",
   "execution_count": 22,
   "metadata": {},
   "outputs": [
    {
     "name": "stdout",
     "output_type": "stream",
     "text": [
      "\n",
      "==========================================================================================\n",
      "===== [ROUTE QUESTION] route_question() 함수 =====\n",
      "==== [ROUTE QUESTION TO WEB SEARCH] ====\n",
      "==========================================================================================\n",
      "\n"
     ]
    },
    {
     "data": {
      "text/plain": [
       "'web_search'"
      ]
     },
     "execution_count": 22,
     "metadata": {},
     "output_type": "execute_result"
    }
   ],
   "source": [
    "route_question(state)"
   ]
  },
  {
   "cell_type": "code",
   "execution_count": 23,
   "metadata": {},
   "outputs": [
    {
     "name": "stdout",
     "output_type": "stream",
     "text": [
      "\n",
      "==========================================================================================\n",
      "===== [WEB SEARCH] web_search() 함수 =====\n",
      "question: \n",
      "대구 중앙떡볶이\n",
      "\n",
      "web_results: \n",
      "[{'title': '대구 맛집 백종원 3대 천왕 :: 중앙떡볶이 솔직 후기 : 네이버 블로그', 'url': 'https://m.blog.naver.com/ryu8145/223424913321', 'content': '대구 떡볶이 맛집 중앙떡볶이. 포장도 많이 해가시던데 떡볶이 국물을 따뜻한 밥위에. 부은 후 전자렌지 돌려 먹어도. 넘 맛있다고 합니다 그럼 지금까지 대구 동성로. 떡볶이 맛집 백종원 3대천왕. 중앙떡볶이 후기를 마칠께요 긴글 읽어주셔서 감사드리고 오늘도', 'score': 0.75290436, 'raw_content': '블로그\\n\\n카테고리 이동\\n\\n\\n\\n\\n루피의 지구별 여행중✈️\\n\\n대구 맛집 백종원 3대 천왕 :: 중앙떡볶이 솔직 후기\\n\\n2024. 4. 23. 20:06\\n\\n안녕하세요\\n\\n대구 맛집 리뷰하는\\n\\n블로거 루피입니다\\n\\n\\u200b\\n\\n오늘은 대구 떡볶이\\n\\n하면 떠오르는곳\\n\\n\\u200b\\n\\n백종원 3대천왕\\n\\n중앙떡볶이를 소개할께요\\u200b\\u200b\\n\\n\\u200b\\n\\n대구광역시 중구 동성로2길 81 중앙떡볶이\\n\\n\\u200b\\n\\n⏰️ 영업시간 11:30~19:00\\n\\n(매주 일요일 휴무)\\n\\n\\u200b\\n\\n📌 재료소진시 조기마감\\n\\n\\u200b\\n\\n🚘 주차 주차장 없음\\n\\n(바로 앞 2.28 공영주차장 가능 )\\n\\n\\u200b\\n\\n포장가능\\u200b\\u200b\\n\\n\\u200b\\n\\n\\u200b\\n\\n대구 동성로 맛집\\n\\n중앙떡볶이 외관\\n\\n모습 이구요\\n\\n\\u200b\\n\\n대구 맛집으로 오래\\n\\n사랑받고 있는 중앙떡볶이는\\n\\n\\u200b\\n\\n직영점 체인점이 없는 오직\\n\\n이곳에서만 맛 볼수 있답니다\\u200b\\n\\n\\u200b\\n\\n\\u200b\\n\\n제 짝꿍과 오랜만에\\n\\n중앙떡볶이를 찾았는데요\\u200b\\u200b\\n\\n\\u200b\\n\\n\\u200b\\n\\n여전히 손님들로\\n\\n북적였고 앞에\\n\\n\\u200b\\n\\n퀵서비스 기사님도\\n\\n포장대기 하고 있었구요\\u200b\\u200b\\n\\n\\u200b\\n\\n\\u200b\\n\\n중앙떡볶이 납작만두는\\n\\n기름에 바싹 굽는게 아닌\\n\\n\\u200b\\n\\n촉촉하게 살짝 익혀낸\\n\\n다는게 어울리것 같았어요\\n\\n\\u200b\\n\\n저 많은 블루리본과\\n\\n빛 바랜 사진들이\\u200b\\u200b\\n\\n\\u200b\\n\\n\\u200b\\n\\n대구 오랜 맛집을\\n\\n검증해주고 있었어요\\n\\n\\u200b\\n\\n음식점 내부에는\\n\\n수많은 유명 연예인들의\\n\\n사인과 사진으로 도배\\u200b\\u200b\\n\\n\\u200b\\n\\n\\u200b\\n\\n되어 있었고 그 중에\\n\\n백종원 3대천왕 사진과\\n\\n\\u200b\\n\\n백종원님 싸인이\\n\\n눈에 띄더라구요\\n\\n\\u200b\\n\\n맛집이라 그런지 솔직히\\n\\n이모님들의 손님 응대하는\\n\\n모습에 친절함은 없어 보였어요\\u200b\\n\\n\\u200b\\n\\n\\u200b\\n\\n저희는 떡볶이와 만두를\\n\\n섞어서 주문하면 만두가\\n\\n좀 적다고 하셔서\\n\\n\\u200b\\n\\n쌀 떡볶이 납작만두\\n\\n순대를 주문하였구요\\n\\n\\u200b\\n\\n중앙떡볶이는 밀떡이\\n\\n아닌 큰 쌀가래떡을\\n\\n베이스로 하고 있었어요\\n\\n\\u200b\\n\\n\\u200b\\n\\n떡볶이 4500원\\n\\n납작만두 4500원\\n\\n순대 4500원이였어요\\n\\n\\u200b\\n\\n\\u200b\\n\\n솔직히 보시면 양은 그렇게\\n\\n많다고 느껴지진 않았어요\\n\\n\\u200b\\n\\n\\u200b\\n\\n순대는 간 허파와\\n\\n같이 소금이 나왔구요\\n\\n\\u200b\\n\\n\\u200b\\n\\n다른 분식점과 달리\\n\\n특색있는건 아니였구요\\n\\n\\u200b\\n\\n\\u200b\\n\\n납작만두는 앞에서\\n\\n언급했듯이 기름에\\n\\n\\u200b\\n\\n촉촉하게 익혀 떡볶이\\n\\n국물을 부어 나왔구요\\n\\n\\u200b\\n\\n\\u200b\\n\\n저희 부부는 밀떡파인데도\\n\\n큼지막한 쌀 가래떡이\\n\\n\\u200b\\n\\n\\u200b\\n\\n굉장히 쫀득쫀득하고\\n\\n식감이 괜찮았구요\\n\\n\\u200b\\n\\n\\u200b\\n\\n단점은 큰 쌀 가래떡이라\\n\\n그런지 떡볶이 국물이 베어\\n\\n들지 않아 따로 노는 느낌이\\n\\n\\u200b\\n\\n있었지만 한입먹고 국물\\n\\n무쳐서 먹음 맛있었구요\\n\\n\\u200b\\n\\n\\u200b\\n\\n중앙떡볶이 수저통엔 젓가락\\n\\n밖에 없어 진득하고 달달 칼칼한\\n\\n국물을 떠 먹고 싶었는데 그러질 못했어요\\n\\n\\u200b\\n\\n어릴적부터 먹어왔던 그 맛\\n\\n그대로라 웃음이 났고 한번쯤\\n\\n생각나는 달큰한 떡볶이랍니다\\n\\n\\u200b\\n\\n\\u200b\\n\\n납작만두도 촉촉 야들야들\\n\\n해서 떡볶이 국물과 궁합이\\n\\n너무 잘 맞았구요\\n\\n\\u200b\\n\\n순대는 소금에 찍어\\n\\n먹어도 맛있지만 이렇게\\n\\n\\u200b\\n\\n\\u200b\\n\\n중앙떡볶이 국물에 푹\\n\\n찍어 먹어도 넘 맛있답니다\\n\\n\\u200b\\n\\n솔직히 멀리서 찾아올 엄청\\n\\n맛있는 맛은 아니지만 옛\\n\\n생각이 나고 한번쯤 생각나는\\n\\n맛있는 쌀 떡볶이랍니다\\n\\n\\u200b\\n\\n\\u200b\\n\\n대구 떡볶이 맛집 중앙떡볶이\\n\\n포장도 많이 해가시던데\\n\\n\\u200b\\n\\n떡볶이 국물을 따뜻한 밥위에\\n\\n부은 후 전자렌지 돌려 먹어도\\n\\n넘 맛있다고 합니다\\n\\n\\u200b\\n\\n그럼 지금까지 대구 동성로\\n\\n떡볶이 맛집 백종원 3대천왕\\n\\n중앙떡볶이 후기를 마칠께요\\n\\n\\u200b\\n\\n긴글 읽어주셔서 감사드리고 오늘도\\n\\n행복한 기억들로 가득채우시길 바래요\\n\\n#대구맛집 #대구동성로맛집 #동성로맛집 #떡볶이맛집 #대구떡볶이맛집 #대구3대천왕 #백종원3대천왕 #백종원떡볶이 #대구동성로떡볶이 #중앙떡볶이 #대구3대떡볶이 #대구떡볶이페스티벌 #중앙로떡볶이\\n\\n카테고리\\n\\n'}, {'title': '대구 동성로 떡볶이 맛집 \" 중앙떡볶이 \" 현지인 솔직후기 : 네이버 블로그', 'url': 'https://m.blog.naver.com/tb06081/223042140850', 'content': '대구 동성로 떡볶이 맛집 중앙떡볶이 예전부터 대구 떡볶이 맛집으로 유명했는데 떡볶이를. 별로 안 좋아해서 몇년 전에 딱 한 번 먹어봤는데. 그렇게 맛있단 생각을 못 해서. 계속 안 가고 있다가 지금까지도 쭉. 지나가면. 항상 웨이팅 있거나 사람 많고', 'score': 0.73914057, 'raw_content': \"블로그\\n\\n카테고리 이동\\n\\n\\n\\n\\nBe myself ღ'ᴗ'ღ\\n\\n대구 동성로 떡볶이 맛집 “ 중앙떡볶이 ” 현지인 솔직후기\\n\\n2023. 3. 12. 15:06\\n\\n오늘은\\n\\n대구 동성로 떡볶이 맛집 “ 중앙떡볶이 ”에 다녀왔어용\\n\\n\\u200b\\n\\n\\u200b\\n\\n대구광역시 중구 동성로2길 81 중앙떡볶이\\n\\n대구 동성로 228공원 앞에 위치한\\n\\n대구 동성로 떡볶이 맛집 중앙떡볶이\\n\\n\\u200b\\n\\n예전부터 대구 떡볶이 맛집으로 유명했는데\\n\\n\\u200b\\n\\n떡볶이를\\n\\n별로 안 좋아해서\\n\\n\\u200b\\n\\n몇년 전에 딱 한 번 먹어봤는데\\n\\n그렇게 맛있단 생각을 못 해서\\n\\n계속 안 가고 있다가\\n\\n\\u200b\\n\\n지금까지도 쭉\\n\\n지나가면\\n\\n항상 웨이팅 있거나 사람 많고\\n\\n여전히 북적북적 거려서\\n\\n\\u200b\\n\\n대구여행 온 친구랑\\n\\n이번에 다시 재방문 !\\n\\n\\u200b\\n\\n\\u200b\\n\\n\\u200b\\n\\n매일 11:30~19:00\\n\\n\\u200b\\n\\n\\u200b\\n\\n일요일 휴무\\n\\n\\u200b\\n\\n\\u200b\\n\\n\\u200b\\n\\n\\u200b\\n\\n\\u200b\\n\\n\\u200b\\n\\n중앙떡볶이 서치해봤을 때\\n\\n떡볶이 한판 다 팔리면\\n\\n새로 만들 때까지\\n\\n40분 기다려야한다고 했는데\\n\\n\\u200b\\n\\n평일 1시30분쯤 도착하니\\n\\n대기줄 아무것도 없길래\\n\\n설마 ,, 했는데\\n\\n\\u200b\\n\\n방금 딱 다 팔려서\\n\\n40분 후에 오라고 하셨다\\n\\n🥹🥹\\n\\n\\u200b\\n\\n점심 먹고 방문한거라\\n\\n소화 좀 시키고\\n\\n30분 뒤에 다시가니\\n\\n\\u200b\\n\\n내부 자리도 별로\\n\\n안 남아있고\\n\\n웨이팅으로 북적거리던 중앙떡볶이\\n\\n\\u200b\\n\\n자리는\\n\\n테이블 자리 3개 , 거울 앞 자리\\n\\n이렇게 있었는데\\n\\n\\u200b\\n\\n먹고 가시는 손님들보단\\n\\n포장 손님이 더 많은 것 같았다\\n\\n\\u200b\\n\\n\\u200b\\n\\n안이랑 밖까지\\n\\n쭉 있던 포장 손님 !\\n\\n\\u200b\\n\\n평일인데도\\n\\n줄이 이렇게 많아서\\n\\n\\u200b\\n\\n시간 잘 맞춰서 방문해야할 듯\\n\\n\\u200b\\n\\n주말엔\\n\\n내부 자리도\\n\\n웨이팅 해야할 것 같았다\\n\\n\\u200b\\n\\n먹고 간다고 하면\\n\\n번호표를 주시고\\n\\n\\u200b\\n\\n차례대로\\n\\n주문을 받으셨다\\n\\n\\u200b\\n\\n\\u200b\\n\\n우리는\\n\\n간단하게 맛만 볼거라\\n\\n\\u200b\\n\\n쌀떡볶이 (₩4.5) 주문 !\\n\\n\\u200b\\n\\n\\u200b\\n\\n\\u200b\\n\\n⭐️⭐\\n\\n\\u200b\\n\\n중앙떡볶이는\\n\\n대구에 직영점 , 분점을 내준 적이 없고\\n\\n동성로에만 있다\\n\\n\\u200b\\n\\n기다리면서 찍어본\\n\\n떡볶이 / 납작만두\\n\\n\\u200b\\n\\n보통 방문하시면\\n\\n\\u200b\\n\\n쌀떡+만두 조합을\\n\\n가장 많이 시키시는 듯\\n\\n\\u200b\\n\\n\\u200b\\n\\n테이블 기본 세팅\\n\\n\\u200b\\n\\n수저\\n\\n\\u200b\\n\\n이외에\\n\\n앞접시나 물은 셀프 !\\n\\n\\u200b\\n\\n\\u200b\\n\\n맛집 인증\\n\\n벽에 붙은 유명인들 싸인 ✨\\n\\n\\u200b\\n\\n예전엔\\n\\n그렇게 사람이 많지 않았던 것 같은데\\n\\n\\u200b\\n\\n백종원 3대천왕이나\\n\\n다른 방송들 출연하면서\\n\\n\\u200b\\n\\n다른 지역사람들까지 와서\\n\\n더 유명해진 것 같았다\\n\\n\\u200b\\n\\n\\u200b\\n\\n전에 한 번 먹어봤을 때\\n\\n그 정돈 아니었던 것 같은데 ,, ㅎ\\n\\n\\u200b\\n\\n\\u200b\\n\\n떡볶이는\\n\\n먹고 가는 손님 / 포장 손님까지해서\\n\\n몇 분 기다려야 나왔다\\n\\n\\u200b\\n\\n\\u200b\\n\\n쌀떡볶이\\n\\n\\u200b\\n\\n쌀떡 3개 , 어묵 3개 , 양배추까지\\n\\n\\u200b\\n\\n간단하게 구성\\n\\n\\u200b\\n\\n일단\\n\\n나오자마자 소스 냄새는\\n\\n엄청 자극적이고 좋았고\\n\\n\\u200b\\n\\n떡이나 어묵도\\n\\n엄청 큼지막하게 들어있어서\\n\\n\\u200b\\n\\n첨엔\\n\\n양이 좀 적다 싶었는데\\n\\n나중엔 충분했다\\n\\n\\u200b\\n\\n일단\\n\\n쌀떡이라\\n\\n엄청 쫠깃쫠깃하고\\n\\n\\u200b\\n\\n양념 자체는\\n\\n엄청 매콤달달하고 자극적인 맛 !\\n\\n\\u200b\\n\\n난\\n\\n안까지 양념도 잘 안 배이고\\n\\n쌀떡 자체를 그렇게 안 좋아해서\\n\\n\\u200b\\n\\n양배추가 젤 맛있었다\\n\\n\\u200b\\n\\n\\u200b\\n\\n역시\\n\\n왜 웨이팅 있는 지는\\n\\n잘 모르겠는 ,, ㅎㅎ\\n\\n\\u200b\\n\\n친구도\\n\\n딱 한 번쯤은 먹어볼 만하다고 했다\\n\\n\\u200b\\n\\n\\u200b\\n\\n갯수는 적지만\\n\\n다 큼직큼직해서\\n\\n\\u200b\\n\\n두명이서 갈라먹어도\\n\\n충분히 포만감 들던 떡볶이 !\\n\\n\\u200b\\n\\n우린\\n\\n점심 먹고 방문한거라\\n\\n\\u200b\\n\\n떡이랑 어묵은 조금 남겨따\\n\\n\\u200b\\n\\n\\u200b\\n\\n떡볶이 국물을\\n\\n밥에 부은 후\\n\\n전자레인지에 2분간 데워 먹으라고 하시는데\\n\\n\\u200b\\n\\n포장해서 간다면\\n\\n양념에 밥 볶아 먹으면\\n\\n존맛탱일 듯🌟\\n\\n\\u200b\\n\\n\\u200b\\n\\n오랜만에\\n\\n다시 먹어본 중앙떡볶이\\n\\n\\u200b\\n\\n양념 자체는 맛있어서\\n\\n쌀떡 좋아하시는 분들은\\n\\n좋아하실수도 ,,?\\n\\n\\u200b\\n\\n양념이 매운 편이라\\n\\n맵찔이들은\\n\\n좀 매워할 것 같았다\\n\\n\\u200b\\n\\n\\u200b\\n\\n\\u200b\\n\\n\\u200b\\n\\n대구 동성로 떡볶이 맛집\\n\\n“ 중앙떡볶이 ”\\n\\n한번쯤 방문 추천이용\\n\\n\\u200b\\n\\n\\u200b\\n\\n\\u200b\\n\\n\\u200b\\n\\n#대구맛집 #대구떡볶이맛집 #대구동성로맛집 #대구동성로떡볶이 #대구여행 #대구여행맛집 #대구동성로떡볶이맛집 #동성로맛집 #동성로떡볶이맛집 #동성로떡볶이 #동성로중앙떡볶이 #대구중앙떡볶이 #중앙떡볶이\\n\\n카테고리\\n\\n\"}]\n",
      "\n",
      "[Document(metadata={'source': 'https://m.blog.naver.com/ryu8145/223424913321'}, page_content='대구 떡볶이 맛집 중앙떡볶이. 포장도 많이 해가시던데 떡볶이 국물을 따뜻한 밥위에. 부은 후 전자렌지 돌려 먹어도. 넘 맛있다고 합니다 그럼 지금까지 대구 동성로. 떡볶이 맛집 백종원 3대천왕. 중앙떡볶이 후기를 마칠께요 긴글 읽어주셔서 감사드리고 오늘도'), Document(metadata={'source': 'https://m.blog.naver.com/tb06081/223042140850'}, page_content='대구 동성로 떡볶이 맛집 중앙떡볶이 예전부터 대구 떡볶이 맛집으로 유명했는데 떡볶이를. 별로 안 좋아해서 몇년 전에 딱 한 번 먹어봤는데. 그렇게 맛있단 생각을 못 해서. 계속 안 가고 있다가 지금까지도 쭉. 지나가면. 항상 웨이팅 있거나 사람 많고')]\n",
      "==========================================================================================\n",
      "\n"
     ]
    },
    {
     "data": {
      "text/plain": [
       "{'documents': [Document(metadata={'source': 'https://m.blog.naver.com/ryu8145/223424913321'}, page_content='대구 떡볶이 맛집 중앙떡볶이. 포장도 많이 해가시던데 떡볶이 국물을 따뜻한 밥위에. 부은 후 전자렌지 돌려 먹어도. 넘 맛있다고 합니다 그럼 지금까지 대구 동성로. 떡볶이 맛집 백종원 3대천왕. 중앙떡볶이 후기를 마칠께요 긴글 읽어주셔서 감사드리고 오늘도'),\n",
       "  Document(metadata={'source': 'https://m.blog.naver.com/tb06081/223042140850'}, page_content='대구 동성로 떡볶이 맛집 중앙떡볶이 예전부터 대구 떡볶이 맛집으로 유명했는데 떡볶이를. 별로 안 좋아해서 몇년 전에 딱 한 번 먹어봤는데. 그렇게 맛있단 생각을 못 해서. 계속 안 가고 있다가 지금까지도 쭉. 지나가면. 항상 웨이팅 있거나 사람 많고')]}"
      ]
     },
     "execution_count": 23,
     "metadata": {},
     "output_type": "execute_result"
    }
   ],
   "source": [
    "web_search(state)"
   ]
  },
  {
   "cell_type": "code",
   "execution_count": 24,
   "metadata": {},
   "outputs": [
    {
     "data": {
      "text/plain": [
       "{'question': '삼성전자가 만든 생성형 AI 이름은?', 'generation': '', 'documents': []}"
      ]
     },
     "execution_count": 24,
     "metadata": {},
     "output_type": "execute_result"
    }
   ],
   "source": [
    "state = GraphState(\n",
    "    question='삼성전자가 만든 생성형 AI 이름은?',\n",
    "    generation = '', \n",
    "    documents = []\n",
    ")\n",
    "\n",
    "state"
   ]
  },
  {
   "cell_type": "code",
   "execution_count": 25,
   "metadata": {},
   "outputs": [
    {
     "name": "stdout",
     "output_type": "stream",
     "text": [
      "\n",
      "==========================================================================================\n",
      "===== [ROUTE QUESTION] route_question() 함수 =====\n",
      "==== [ROUTE QUESTION TO VECTORSTORE] ====\n",
      "==========================================================================================\n",
      "\n"
     ]
    },
    {
     "data": {
      "text/plain": [
       "'vectorstore'"
      ]
     },
     "execution_count": 25,
     "metadata": {},
     "output_type": "execute_result"
    }
   ],
   "source": [
    "route_question(state)"
   ]
  },
  {
   "cell_type": "code",
   "execution_count": 26,
   "metadata": {},
   "outputs": [
    {
     "name": "stdout",
     "output_type": "stream",
     "text": [
      "\n",
      "==========================================================================================\n",
      "===== [RETRIEVE] retieve() 노드 실행 =====\n",
      "문서 검색 결과: \n",
      "[Document(id='7caf4f89-ef25-4ffb-bc18-8426d0296be9', metadata={'source': 'data/SPRI_AI_Brief_2023년12월호_F.pdf', 'file_path': 'data/SPRI_AI_Brief_2023년12월호_F.pdf', 'page': 1, 'total_pages': 23, 'Author': 'dj', 'Creator': 'Hwp 2018 10.0.0.13462', 'Producer': 'Hancom PDF 1.3.0.542', 'CreationDate': \"D:20231208132838+09'00'\", 'ModDate': \"D:20231208132838+09'00'\", 'PDFVersion': '1.4'}, page_content='▹ 삼성전자, 자체 개발 생성 AI ‘삼성 가우스’ 공개 ···························································10\\n▹ 구글, 앤스로픽에 20억 달러 투자로 생성 AI 협력 강화 ················································11\\n▹ IDC, 2027년 AI 소프트웨어 매출 2,500억 달러 돌파 전망···········································12'), Document(id='3cf9a215-1701-42d5-bab0-fcc18534266f', metadata={'source': 'data/SPRI_AI_Brief_2023년12월호_F.pdf', 'file_path': 'data/SPRI_AI_Brief_2023년12월호_F.pdf', 'page': 12, 'total_pages': 23, 'Author': 'dj', 'Creator': 'Hwp 2018 10.0.0.13462', 'Producer': 'Hancom PDF 1.3.0.542', 'CreationDate': \"D:20231208132838+09'00'\", 'ModDate': \"D:20231208132838+09'00'\", 'PDFVersion': '1.4'}, page_content='SPRi AI Brief |\\n2023-12월호\\n삼성전자, 자체 개발 생성 AI ‘삼성 가우스’ 공개\\nKEY Contents\\nn 삼성전자가 온디바이스에서 작동 가능하며 언어, 코드, 이미지의 3개 모델로 구성된 자체 개발 생성\\nAI 모델 ‘삼성 가우스’를 공개\\nn 삼성전자는 삼성 가우스를 다양한 제품에 단계적으로 탑재할 계획으로, 온디바이스 작동이 가능한\\n삼성 가우스는 외부로 사용자 정보가 유출될 위험이 없다는 장점을 보유\\n£언어, 코드, 이미지의 3개 모델로 구성된 삼성 가우스, 온디바이스 작동 지원'), Document(id='9e69159e-e163-4f2f-aedf-e9f47a9f692a', metadata={'source': 'data/SPRI_AI_Brief_2023년12월호_F.pdf', 'file_path': 'data/SPRI_AI_Brief_2023년12월호_F.pdf', 'page': 12, 'total_pages': 23, 'Author': 'dj', 'Creator': 'Hwp 2018 10.0.0.13462', 'Producer': 'Hancom PDF 1.3.0.542', 'CreationDate': \"D:20231208132838+09'00'\", 'ModDate': \"D:20231208132838+09'00'\", 'PDFVersion': '1.4'}, page_content='£언어, 코드, 이미지의 3개 모델로 구성된 삼성 가우스, 온디바이스 작동 지원\\nn 삼성전자가 2023년 11월 8일 열린 ‘삼성 AI 포럼 2023’ 행사에서 자체 개발한 생성 AI 모델\\n‘삼성 가우스’를 최초 공개\\n∙ 정규분포 이론을 정립한 천재 수학자 가우스(Gauss)의 이름을 본뜬 삼성 가우스는 다양한 상황에\\n최적화된 크기의 모델 선택이 가능\\n∙ 삼성 가우스는 라이선스나 개인정보를 침해하지 않는 안전한 데이터를 통해 학습되었으며,\\n온디바이스에서 작동하도록 설계되어 외부로 사용자의 정보가 유출되지 않는 장점을 보유'), Document(id='b2aa3253-66a1-47e3-aebb-36e06e9f07c0', metadata={'source': 'data/SPRI_AI_Brief_2023년12월호_F.pdf', 'file_path': 'data/SPRI_AI_Brief_2023년12월호_F.pdf', 'page': 12, 'total_pages': 23, 'Author': 'dj', 'Creator': 'Hwp 2018 10.0.0.13462', 'Producer': 'Hancom PDF 1.3.0.542', 'CreationDate': \"D:20231208132838+09'00'\", 'ModDate': \"D:20231208132838+09'00'\", 'PDFVersion': '1.4'}, page_content='어시스턴트를 적용한 구글 픽셀(Pixel)과 경쟁할 것으로 예상\\n☞ 출처 : 삼성전자, ‘삼성 AI 포럼’서 자체 개발 생성형 AI ‘삼성 가우스’ 공개, 2023.11.08.\\n삼성전자, ‘삼성 개발자 콘퍼런스 코리아 2023’ 개최, 2023.11.14.\\nTechRepublic, Samsung Gauss: Samsung Research Reveals Generative AI, 2023.11.08.\\n10'), Document(id='0a12047c-3263-4722-a663-6d5d0ddb1052', metadata={'source': 'data/SPRI_AI_Brief_2023년12월호_F.pdf', 'file_path': 'data/SPRI_AI_Brief_2023년12월호_F.pdf', 'page': 18, 'total_pages': 23, 'Author': 'dj', 'Creator': 'Hwp 2018 10.0.0.13462', 'Producer': 'Hancom PDF 1.3.0.542', 'CreationDate': \"D:20231208132838+09'00'\", 'ModDate': \"D:20231208132838+09'00'\", 'PDFVersion': '1.4'}, page_content='<구글 딥마인드의 범용 AI 분류 프레임워크>\\n성능 특수 AI 예시 범용 AI 예시\\n0단계: AI 아님 계산기 소프트웨어, 컴파일러 아마존 메커니컬 터크\\n1단계: 신진(숙련되지 않은 인간) GOFAI(Good Old Fashioned Artificial Intelligence) 챗GPT, 바드, 라마2\\n스마트 스피커(애플 시리, 아마존 알렉사, 구글\\n2단계: 유능(숙련된 인간의 50% 이상) 미달성\\n어시스턴트), IBM 왓슨\\n3단계: 전문가(숙련된 인간의 90% 이상) 문법 교정기(그래머리), 생성 이미지 모델(달리2) 미달성'), Document(id='9091c6b4-5b3f-452e-9036-9792b7bf5699', metadata={'source': 'data/SPRI_AI_Brief_2023년12월호_F.pdf', 'file_path': 'data/SPRI_AI_Brief_2023년12월호_F.pdf', 'page': 12, 'total_pages': 23, 'Author': 'dj', 'Creator': 'Hwp 2018 10.0.0.13462', 'Producer': 'Hancom PDF 1.3.0.542', 'CreationDate': \"D:20231208132838+09'00'\", 'ModDate': \"D:20231208132838+09'00'\", 'PDFVersion': '1.4'}, page_content='처리를 지원\\n∙ 코드 모델 기반의 AI 코딩 어시스턴트 ‘코드아이(code.i)’는 대화형 인터페이스로 서비스를 제공하며\\n사내 소프트웨어 개발에 최적화\\n∙ 이미지 모델은 창의적인 이미지를 생성하고 기존 이미지를 원하는 대로 바꿀 수 있도록 지원하며\\n저해상도 이미지의 고해상도 전환도 지원\\nn IT 전문지 테크리퍼블릭(TechRepublic)은 온디바이스 AI가 주요 기술 트렌드로 부상했다며,\\n2024년부터 가우스를 탑재한 삼성 스마트폰이 메타의 라마(Llama)2를 탑재한 퀄컴 기기 및 구글'), Document(id='844815a6-6329-4520-acb7-d4d68d58e7b7', metadata={'source': 'data/SPRI_AI_Brief_2023년12월호_F.pdf', 'file_path': 'data/SPRI_AI_Brief_2023년12월호_F.pdf', 'page': 12, 'total_pages': 23, 'Author': 'dj', 'Creator': 'Hwp 2018 10.0.0.13462', 'Producer': 'Hancom PDF 1.3.0.542', 'CreationDate': \"D:20231208132838+09'00'\", 'ModDate': \"D:20231208132838+09'00'\", 'PDFVersion': '1.4'}, page_content='온디바이스에서 작동하도록 설계되어 외부로 사용자의 정보가 유출되지 않는 장점을 보유\\n∙ 삼성전자는 삼성 가우스를 활용한 온디바이스 AI 기술도 소개했으며, 생성 AI 모델을 다양한 제품에\\n단계적으로 탑재할 계획\\nn 삼성 가우스는 △텍스트를 생성하는 언어모델 △코드를 생성하는 코드 모델 △이미지를 생성하는\\n이미지 모델의 3개 모델로 구성\\n∙ 언어 모델은 클라우드와 온디바이스 대상 다양한 모델로 구성되며, 메일 작성, 문서 요약, 번역 업무의\\n처리를 지원'), Document(id='a040618e-6751-4ecc-be9e-fe884eababa4', metadata={'source': 'data/SPRI_AI_Brief_2023년12월호_F.pdf', 'file_path': 'data/SPRI_AI_Brief_2023년12월호_F.pdf', 'page': 11, 'total_pages': 23, 'Author': 'dj', 'Creator': 'Hwp 2018 10.0.0.13462', 'Producer': 'Hancom PDF 1.3.0.542', 'CreationDate': \"D:20231208132838+09'00'\", 'ModDate': \"D:20231208132838+09'00'\", 'PDFVersion': '1.4'}, page_content='제작을 포함\\nn 알리바바 클라우드는 급증하는 생성 AI 수요에 대응해 모델 개발과 애플리케이션 구축 절차를\\n간소화하는 올인원 AI 모델 구축 플랫폼 ‘젠AI(GenAI)’도 공개\\n∙ 이 플랫폼은 데이터 관리, 모델 배포와 평가, 신속한 엔지니어링을 위한 종합 도구 모음을 제공하여\\n다양한 기업들이 맞춤형 AI 모델을 한층 쉽게 개발할 수 있도록 지원\\n∙ 생성 AI 개발에 필요한 컴퓨팅과 데이터 처리 요구사항을 지원하기 위해 AI 플랫폼(PAI),\\n데이터베이스 솔루션, 컨테이너 서비스와 같은 클라우드 신제품도 발표'), Document(id='5915d727-5705-4b01-bcf3-ffcc40a9293f', metadata={'source': 'data/SPRI_AI_Brief_2023년12월호_F.pdf', 'file_path': 'data/SPRI_AI_Brief_2023년12월호_F.pdf', 'page': 1, 'total_pages': 23, 'Author': 'dj', 'Creator': 'Hwp 2018 10.0.0.13462', 'Producer': 'Hancom PDF 1.3.0.542', 'CreationDate': \"D:20231208132838+09'00'\", 'ModDate': \"D:20231208132838+09'00'\", 'PDFVersion': '1.4'}, page_content='▹ 빌 게이츠, AI 에이전트로 인한 컴퓨터 사용의 패러다임 변화 전망································13\\n▹ 유튜브, 2024년부터 AI 생성 콘텐츠 표시 의무화····························································14\\n3. 기술/연구\\n▹ 영국 과학혁신기술부, AI 안전 연구소 설립 발표······························································15'), Document(id='b1c4ed85-afd4-43a6-b585-adca78746cce', metadata={'source': 'data/SPRI_AI_Brief_2023년12월호_F.pdf', 'file_path': 'data/SPRI_AI_Brief_2023년12월호_F.pdf', 'page': 7, 'total_pages': 23, 'Author': 'dj', 'Creator': 'Hwp 2018 10.0.0.13462', 'Producer': 'Hancom PDF 1.3.0.542', 'CreationDate': \"D:20231208132838+09'00'\", 'ModDate': \"D:20231208132838+09'00'\", 'PDFVersion': '1.4'}, page_content='만들었다고 오해할 소지가 있다고 지적\\n∙ 저작권법에 저촉되는 행위는 불공정 경쟁이나 기만행위에도 해당될 수 있으며, 창작자의 평판 악화,\\n저작물의 가치 저하나 개인정보 유출로 소비자에 상당한 피해를 초래 가능\\nn FTC는 일부 빅테크가 막대한 재원을 활용해 생성 AI 사용자의 이탈을 막고 저작권이 있는 상용\\n데이터에 대한 독점 라이선스를 확보해 시장 지배력을 더욱 강화할 수 있다는 우려도 제기\\n∙ 이와 관련 FTC는 아마존 AI 비서 ‘알렉사(Alexa)’와 스마트홈 보안 기기 ‘링(Ring)’이 소비자의 사적')]\n",
      "==========================================================================================\n",
      "\n"
     ]
    }
   ],
   "source": [
    "answer = retrieve(state)                        # 사용자 질문에 대해서 관련 문서를 검색한다.\n",
    "state['documents'] = answer['documents']"
   ]
  },
  {
   "cell_type": "code",
   "execution_count": 27,
   "metadata": {},
   "outputs": [
    {
     "data": {
      "text/plain": [
       "{'question': '삼성전자가 만든 생성형 AI 이름은?',\n",
       " 'generation': '',\n",
       " 'documents': [Document(id='7caf4f89-ef25-4ffb-bc18-8426d0296be9', metadata={'source': 'data/SPRI_AI_Brief_2023년12월호_F.pdf', 'file_path': 'data/SPRI_AI_Brief_2023년12월호_F.pdf', 'page': 1, 'total_pages': 23, 'Author': 'dj', 'Creator': 'Hwp 2018 10.0.0.13462', 'Producer': 'Hancom PDF 1.3.0.542', 'CreationDate': \"D:20231208132838+09'00'\", 'ModDate': \"D:20231208132838+09'00'\", 'PDFVersion': '1.4'}, page_content='▹ 삼성전자, 자체 개발 생성 AI ‘삼성 가우스’ 공개 ···························································10\\n▹ 구글, 앤스로픽에 20억 달러 투자로 생성 AI 협력 강화 ················································11\\n▹ IDC, 2027년 AI 소프트웨어 매출 2,500억 달러 돌파 전망···········································12'),\n",
       "  Document(id='3cf9a215-1701-42d5-bab0-fcc18534266f', metadata={'source': 'data/SPRI_AI_Brief_2023년12월호_F.pdf', 'file_path': 'data/SPRI_AI_Brief_2023년12월호_F.pdf', 'page': 12, 'total_pages': 23, 'Author': 'dj', 'Creator': 'Hwp 2018 10.0.0.13462', 'Producer': 'Hancom PDF 1.3.0.542', 'CreationDate': \"D:20231208132838+09'00'\", 'ModDate': \"D:20231208132838+09'00'\", 'PDFVersion': '1.4'}, page_content='SPRi AI Brief |\\n2023-12월호\\n삼성전자, 자체 개발 생성 AI ‘삼성 가우스’ 공개\\nKEY Contents\\nn 삼성전자가 온디바이스에서 작동 가능하며 언어, 코드, 이미지의 3개 모델로 구성된 자체 개발 생성\\nAI 모델 ‘삼성 가우스’를 공개\\nn 삼성전자는 삼성 가우스를 다양한 제품에 단계적으로 탑재할 계획으로, 온디바이스 작동이 가능한\\n삼성 가우스는 외부로 사용자 정보가 유출될 위험이 없다는 장점을 보유\\n£언어, 코드, 이미지의 3개 모델로 구성된 삼성 가우스, 온디바이스 작동 지원'),\n",
       "  Document(id='9e69159e-e163-4f2f-aedf-e9f47a9f692a', metadata={'source': 'data/SPRI_AI_Brief_2023년12월호_F.pdf', 'file_path': 'data/SPRI_AI_Brief_2023년12월호_F.pdf', 'page': 12, 'total_pages': 23, 'Author': 'dj', 'Creator': 'Hwp 2018 10.0.0.13462', 'Producer': 'Hancom PDF 1.3.0.542', 'CreationDate': \"D:20231208132838+09'00'\", 'ModDate': \"D:20231208132838+09'00'\", 'PDFVersion': '1.4'}, page_content='£언어, 코드, 이미지의 3개 모델로 구성된 삼성 가우스, 온디바이스 작동 지원\\nn 삼성전자가 2023년 11월 8일 열린 ‘삼성 AI 포럼 2023’ 행사에서 자체 개발한 생성 AI 모델\\n‘삼성 가우스’를 최초 공개\\n∙ 정규분포 이론을 정립한 천재 수학자 가우스(Gauss)의 이름을 본뜬 삼성 가우스는 다양한 상황에\\n최적화된 크기의 모델 선택이 가능\\n∙ 삼성 가우스는 라이선스나 개인정보를 침해하지 않는 안전한 데이터를 통해 학습되었으며,\\n온디바이스에서 작동하도록 설계되어 외부로 사용자의 정보가 유출되지 않는 장점을 보유'),\n",
       "  Document(id='b2aa3253-66a1-47e3-aebb-36e06e9f07c0', metadata={'source': 'data/SPRI_AI_Brief_2023년12월호_F.pdf', 'file_path': 'data/SPRI_AI_Brief_2023년12월호_F.pdf', 'page': 12, 'total_pages': 23, 'Author': 'dj', 'Creator': 'Hwp 2018 10.0.0.13462', 'Producer': 'Hancom PDF 1.3.0.542', 'CreationDate': \"D:20231208132838+09'00'\", 'ModDate': \"D:20231208132838+09'00'\", 'PDFVersion': '1.4'}, page_content='어시스턴트를 적용한 구글 픽셀(Pixel)과 경쟁할 것으로 예상\\n☞ 출처 : 삼성전자, ‘삼성 AI 포럼’서 자체 개발 생성형 AI ‘삼성 가우스’ 공개, 2023.11.08.\\n삼성전자, ‘삼성 개발자 콘퍼런스 코리아 2023’ 개최, 2023.11.14.\\nTechRepublic, Samsung Gauss: Samsung Research Reveals Generative AI, 2023.11.08.\\n10'),\n",
       "  Document(id='0a12047c-3263-4722-a663-6d5d0ddb1052', metadata={'source': 'data/SPRI_AI_Brief_2023년12월호_F.pdf', 'file_path': 'data/SPRI_AI_Brief_2023년12월호_F.pdf', 'page': 18, 'total_pages': 23, 'Author': 'dj', 'Creator': 'Hwp 2018 10.0.0.13462', 'Producer': 'Hancom PDF 1.3.0.542', 'CreationDate': \"D:20231208132838+09'00'\", 'ModDate': \"D:20231208132838+09'00'\", 'PDFVersion': '1.4'}, page_content='<구글 딥마인드의 범용 AI 분류 프레임워크>\\n성능 특수 AI 예시 범용 AI 예시\\n0단계: AI 아님 계산기 소프트웨어, 컴파일러 아마존 메커니컬 터크\\n1단계: 신진(숙련되지 않은 인간) GOFAI(Good Old Fashioned Artificial Intelligence) 챗GPT, 바드, 라마2\\n스마트 스피커(애플 시리, 아마존 알렉사, 구글\\n2단계: 유능(숙련된 인간의 50% 이상) 미달성\\n어시스턴트), IBM 왓슨\\n3단계: 전문가(숙련된 인간의 90% 이상) 문법 교정기(그래머리), 생성 이미지 모델(달리2) 미달성'),\n",
       "  Document(id='9091c6b4-5b3f-452e-9036-9792b7bf5699', metadata={'source': 'data/SPRI_AI_Brief_2023년12월호_F.pdf', 'file_path': 'data/SPRI_AI_Brief_2023년12월호_F.pdf', 'page': 12, 'total_pages': 23, 'Author': 'dj', 'Creator': 'Hwp 2018 10.0.0.13462', 'Producer': 'Hancom PDF 1.3.0.542', 'CreationDate': \"D:20231208132838+09'00'\", 'ModDate': \"D:20231208132838+09'00'\", 'PDFVersion': '1.4'}, page_content='처리를 지원\\n∙ 코드 모델 기반의 AI 코딩 어시스턴트 ‘코드아이(code.i)’는 대화형 인터페이스로 서비스를 제공하며\\n사내 소프트웨어 개발에 최적화\\n∙ 이미지 모델은 창의적인 이미지를 생성하고 기존 이미지를 원하는 대로 바꿀 수 있도록 지원하며\\n저해상도 이미지의 고해상도 전환도 지원\\nn IT 전문지 테크리퍼블릭(TechRepublic)은 온디바이스 AI가 주요 기술 트렌드로 부상했다며,\\n2024년부터 가우스를 탑재한 삼성 스마트폰이 메타의 라마(Llama)2를 탑재한 퀄컴 기기 및 구글'),\n",
       "  Document(id='844815a6-6329-4520-acb7-d4d68d58e7b7', metadata={'source': 'data/SPRI_AI_Brief_2023년12월호_F.pdf', 'file_path': 'data/SPRI_AI_Brief_2023년12월호_F.pdf', 'page': 12, 'total_pages': 23, 'Author': 'dj', 'Creator': 'Hwp 2018 10.0.0.13462', 'Producer': 'Hancom PDF 1.3.0.542', 'CreationDate': \"D:20231208132838+09'00'\", 'ModDate': \"D:20231208132838+09'00'\", 'PDFVersion': '1.4'}, page_content='온디바이스에서 작동하도록 설계되어 외부로 사용자의 정보가 유출되지 않는 장점을 보유\\n∙ 삼성전자는 삼성 가우스를 활용한 온디바이스 AI 기술도 소개했으며, 생성 AI 모델을 다양한 제품에\\n단계적으로 탑재할 계획\\nn 삼성 가우스는 △텍스트를 생성하는 언어모델 △코드를 생성하는 코드 모델 △이미지를 생성하는\\n이미지 모델의 3개 모델로 구성\\n∙ 언어 모델은 클라우드와 온디바이스 대상 다양한 모델로 구성되며, 메일 작성, 문서 요약, 번역 업무의\\n처리를 지원'),\n",
       "  Document(id='a040618e-6751-4ecc-be9e-fe884eababa4', metadata={'source': 'data/SPRI_AI_Brief_2023년12월호_F.pdf', 'file_path': 'data/SPRI_AI_Brief_2023년12월호_F.pdf', 'page': 11, 'total_pages': 23, 'Author': 'dj', 'Creator': 'Hwp 2018 10.0.0.13462', 'Producer': 'Hancom PDF 1.3.0.542', 'CreationDate': \"D:20231208132838+09'00'\", 'ModDate': \"D:20231208132838+09'00'\", 'PDFVersion': '1.4'}, page_content='제작을 포함\\nn 알리바바 클라우드는 급증하는 생성 AI 수요에 대응해 모델 개발과 애플리케이션 구축 절차를\\n간소화하는 올인원 AI 모델 구축 플랫폼 ‘젠AI(GenAI)’도 공개\\n∙ 이 플랫폼은 데이터 관리, 모델 배포와 평가, 신속한 엔지니어링을 위한 종합 도구 모음을 제공하여\\n다양한 기업들이 맞춤형 AI 모델을 한층 쉽게 개발할 수 있도록 지원\\n∙ 생성 AI 개발에 필요한 컴퓨팅과 데이터 처리 요구사항을 지원하기 위해 AI 플랫폼(PAI),\\n데이터베이스 솔루션, 컨테이너 서비스와 같은 클라우드 신제품도 발표'),\n",
       "  Document(id='5915d727-5705-4b01-bcf3-ffcc40a9293f', metadata={'source': 'data/SPRI_AI_Brief_2023년12월호_F.pdf', 'file_path': 'data/SPRI_AI_Brief_2023년12월호_F.pdf', 'page': 1, 'total_pages': 23, 'Author': 'dj', 'Creator': 'Hwp 2018 10.0.0.13462', 'Producer': 'Hancom PDF 1.3.0.542', 'CreationDate': \"D:20231208132838+09'00'\", 'ModDate': \"D:20231208132838+09'00'\", 'PDFVersion': '1.4'}, page_content='▹ 빌 게이츠, AI 에이전트로 인한 컴퓨터 사용의 패러다임 변화 전망································13\\n▹ 유튜브, 2024년부터 AI 생성 콘텐츠 표시 의무화····························································14\\n3. 기술/연구\\n▹ 영국 과학혁신기술부, AI 안전 연구소 설립 발표······························································15'),\n",
       "  Document(id='b1c4ed85-afd4-43a6-b585-adca78746cce', metadata={'source': 'data/SPRI_AI_Brief_2023년12월호_F.pdf', 'file_path': 'data/SPRI_AI_Brief_2023년12월호_F.pdf', 'page': 7, 'total_pages': 23, 'Author': 'dj', 'Creator': 'Hwp 2018 10.0.0.13462', 'Producer': 'Hancom PDF 1.3.0.542', 'CreationDate': \"D:20231208132838+09'00'\", 'ModDate': \"D:20231208132838+09'00'\", 'PDFVersion': '1.4'}, page_content='만들었다고 오해할 소지가 있다고 지적\\n∙ 저작권법에 저촉되는 행위는 불공정 경쟁이나 기만행위에도 해당될 수 있으며, 창작자의 평판 악화,\\n저작물의 가치 저하나 개인정보 유출로 소비자에 상당한 피해를 초래 가능\\nn FTC는 일부 빅테크가 막대한 재원을 활용해 생성 AI 사용자의 이탈을 막고 저작권이 있는 상용\\n데이터에 대한 독점 라이선스를 확보해 시장 지배력을 더욱 강화할 수 있다는 우려도 제기\\n∙ 이와 관련 FTC는 아마존 AI 비서 ‘알렉사(Alexa)’와 스마트홈 보안 기기 ‘링(Ring)’이 소비자의 사적')]}"
      ]
     },
     "execution_count": 27,
     "metadata": {},
     "output_type": "execute_result"
    }
   ],
   "source": [
    "state"
   ]
  },
  {
   "cell_type": "code",
   "execution_count": 28,
   "metadata": {},
   "outputs": [
    {
     "name": "stdout",
     "output_type": "stream",
     "text": [
      "\n",
      "==========================================================================================\n",
      "===== [CHECK DOCUMENT RELEVANCE TO QUESTION] grade_documents() 함수 =====\n",
      "---GRADE: DOCUMENT RELEVANT---\n",
      "---GRADE: DOCUMENT RELEVANT---\n",
      "---GRADE: DOCUMENT RELEVANT---\n",
      "---GRADE: DOCUMENT RELEVANT---\n",
      "---GRADE: DOCUMENT NOT RELEVANT---\n",
      "---GRADE: DOCUMENT RELEVANT---\n",
      "---GRADE: DOCUMENT RELEVANT---\n",
      "---GRADE: DOCUMENT NOT RELEVANT---\n",
      "---GRADE: DOCUMENT NOT RELEVANT---\n",
      "---GRADE: DOCUMENT NOT RELEVANT---\n",
      "==========================================================================================\n",
      "\n"
     ]
    }
   ],
   "source": [
    "state['documents'] = grade_documents(state)['documents']"
   ]
  },
  {
   "cell_type": "code",
   "execution_count": 29,
   "metadata": {},
   "outputs": [
    {
     "data": {
      "text/plain": [
       "{'question': '삼성전자가 만든 생성형 AI 이름은?',\n",
       " 'generation': '',\n",
       " 'documents': [Document(id='7caf4f89-ef25-4ffb-bc18-8426d0296be9', metadata={'source': 'data/SPRI_AI_Brief_2023년12월호_F.pdf', 'file_path': 'data/SPRI_AI_Brief_2023년12월호_F.pdf', 'page': 1, 'total_pages': 23, 'Author': 'dj', 'Creator': 'Hwp 2018 10.0.0.13462', 'Producer': 'Hancom PDF 1.3.0.542', 'CreationDate': \"D:20231208132838+09'00'\", 'ModDate': \"D:20231208132838+09'00'\", 'PDFVersion': '1.4'}, page_content='▹ 삼성전자, 자체 개발 생성 AI ‘삼성 가우스’ 공개 ···························································10\\n▹ 구글, 앤스로픽에 20억 달러 투자로 생성 AI 협력 강화 ················································11\\n▹ IDC, 2027년 AI 소프트웨어 매출 2,500억 달러 돌파 전망···········································12'),\n",
       "  Document(id='3cf9a215-1701-42d5-bab0-fcc18534266f', metadata={'source': 'data/SPRI_AI_Brief_2023년12월호_F.pdf', 'file_path': 'data/SPRI_AI_Brief_2023년12월호_F.pdf', 'page': 12, 'total_pages': 23, 'Author': 'dj', 'Creator': 'Hwp 2018 10.0.0.13462', 'Producer': 'Hancom PDF 1.3.0.542', 'CreationDate': \"D:20231208132838+09'00'\", 'ModDate': \"D:20231208132838+09'00'\", 'PDFVersion': '1.4'}, page_content='SPRi AI Brief |\\n2023-12월호\\n삼성전자, 자체 개발 생성 AI ‘삼성 가우스’ 공개\\nKEY Contents\\nn 삼성전자가 온디바이스에서 작동 가능하며 언어, 코드, 이미지의 3개 모델로 구성된 자체 개발 생성\\nAI 모델 ‘삼성 가우스’를 공개\\nn 삼성전자는 삼성 가우스를 다양한 제품에 단계적으로 탑재할 계획으로, 온디바이스 작동이 가능한\\n삼성 가우스는 외부로 사용자 정보가 유출될 위험이 없다는 장점을 보유\\n£언어, 코드, 이미지의 3개 모델로 구성된 삼성 가우스, 온디바이스 작동 지원'),\n",
       "  Document(id='9e69159e-e163-4f2f-aedf-e9f47a9f692a', metadata={'source': 'data/SPRI_AI_Brief_2023년12월호_F.pdf', 'file_path': 'data/SPRI_AI_Brief_2023년12월호_F.pdf', 'page': 12, 'total_pages': 23, 'Author': 'dj', 'Creator': 'Hwp 2018 10.0.0.13462', 'Producer': 'Hancom PDF 1.3.0.542', 'CreationDate': \"D:20231208132838+09'00'\", 'ModDate': \"D:20231208132838+09'00'\", 'PDFVersion': '1.4'}, page_content='£언어, 코드, 이미지의 3개 모델로 구성된 삼성 가우스, 온디바이스 작동 지원\\nn 삼성전자가 2023년 11월 8일 열린 ‘삼성 AI 포럼 2023’ 행사에서 자체 개발한 생성 AI 모델\\n‘삼성 가우스’를 최초 공개\\n∙ 정규분포 이론을 정립한 천재 수학자 가우스(Gauss)의 이름을 본뜬 삼성 가우스는 다양한 상황에\\n최적화된 크기의 모델 선택이 가능\\n∙ 삼성 가우스는 라이선스나 개인정보를 침해하지 않는 안전한 데이터를 통해 학습되었으며,\\n온디바이스에서 작동하도록 설계되어 외부로 사용자의 정보가 유출되지 않는 장점을 보유'),\n",
       "  Document(id='b2aa3253-66a1-47e3-aebb-36e06e9f07c0', metadata={'source': 'data/SPRI_AI_Brief_2023년12월호_F.pdf', 'file_path': 'data/SPRI_AI_Brief_2023년12월호_F.pdf', 'page': 12, 'total_pages': 23, 'Author': 'dj', 'Creator': 'Hwp 2018 10.0.0.13462', 'Producer': 'Hancom PDF 1.3.0.542', 'CreationDate': \"D:20231208132838+09'00'\", 'ModDate': \"D:20231208132838+09'00'\", 'PDFVersion': '1.4'}, page_content='어시스턴트를 적용한 구글 픽셀(Pixel)과 경쟁할 것으로 예상\\n☞ 출처 : 삼성전자, ‘삼성 AI 포럼’서 자체 개발 생성형 AI ‘삼성 가우스’ 공개, 2023.11.08.\\n삼성전자, ‘삼성 개발자 콘퍼런스 코리아 2023’ 개최, 2023.11.14.\\nTechRepublic, Samsung Gauss: Samsung Research Reveals Generative AI, 2023.11.08.\\n10'),\n",
       "  Document(id='9091c6b4-5b3f-452e-9036-9792b7bf5699', metadata={'source': 'data/SPRI_AI_Brief_2023년12월호_F.pdf', 'file_path': 'data/SPRI_AI_Brief_2023년12월호_F.pdf', 'page': 12, 'total_pages': 23, 'Author': 'dj', 'Creator': 'Hwp 2018 10.0.0.13462', 'Producer': 'Hancom PDF 1.3.0.542', 'CreationDate': \"D:20231208132838+09'00'\", 'ModDate': \"D:20231208132838+09'00'\", 'PDFVersion': '1.4'}, page_content='처리를 지원\\n∙ 코드 모델 기반의 AI 코딩 어시스턴트 ‘코드아이(code.i)’는 대화형 인터페이스로 서비스를 제공하며\\n사내 소프트웨어 개발에 최적화\\n∙ 이미지 모델은 창의적인 이미지를 생성하고 기존 이미지를 원하는 대로 바꿀 수 있도록 지원하며\\n저해상도 이미지의 고해상도 전환도 지원\\nn IT 전문지 테크리퍼블릭(TechRepublic)은 온디바이스 AI가 주요 기술 트렌드로 부상했다며,\\n2024년부터 가우스를 탑재한 삼성 스마트폰이 메타의 라마(Llama)2를 탑재한 퀄컴 기기 및 구글'),\n",
       "  Document(id='844815a6-6329-4520-acb7-d4d68d58e7b7', metadata={'source': 'data/SPRI_AI_Brief_2023년12월호_F.pdf', 'file_path': 'data/SPRI_AI_Brief_2023년12월호_F.pdf', 'page': 12, 'total_pages': 23, 'Author': 'dj', 'Creator': 'Hwp 2018 10.0.0.13462', 'Producer': 'Hancom PDF 1.3.0.542', 'CreationDate': \"D:20231208132838+09'00'\", 'ModDate': \"D:20231208132838+09'00'\", 'PDFVersion': '1.4'}, page_content='온디바이스에서 작동하도록 설계되어 외부로 사용자의 정보가 유출되지 않는 장점을 보유\\n∙ 삼성전자는 삼성 가우스를 활용한 온디바이스 AI 기술도 소개했으며, 생성 AI 모델을 다양한 제품에\\n단계적으로 탑재할 계획\\nn 삼성 가우스는 △텍스트를 생성하는 언어모델 △코드를 생성하는 코드 모델 △이미지를 생성하는\\n이미지 모델의 3개 모델로 구성\\n∙ 언어 모델은 클라우드와 온디바이스 대상 다양한 모델로 구성되며, 메일 작성, 문서 요약, 번역 업무의\\n처리를 지원')]}"
      ]
     },
     "execution_count": 29,
     "metadata": {},
     "output_type": "execute_result"
    }
   ],
   "source": [
    "state"
   ]
  },
  {
   "cell_type": "code",
   "execution_count": 30,
   "metadata": {},
   "outputs": [],
   "source": [
    "# state['generation'] = generate(state)['generation']\n",
    "# 문서 검색 결과를 평가하는 평가기(retrieval_grader)를 사용해서 사용자 질문과 검색 결과문서가 관련성이 있는지 평가한다.\n",
    "# retrieval_grader.invoke({'question': state['question'], 'document': state['documents']})"
   ]
  },
  {
   "cell_type": "code",
   "execution_count": 31,
   "metadata": {},
   "outputs": [
    {
     "data": {
      "text/plain": [
       "{'question': '삼성전자가 만든 생성형 AI 이름은?',\n",
       " 'generation': '',\n",
       " 'documents': [Document(id='7caf4f89-ef25-4ffb-bc18-8426d0296be9', metadata={'source': 'data/SPRI_AI_Brief_2023년12월호_F.pdf', 'file_path': 'data/SPRI_AI_Brief_2023년12월호_F.pdf', 'page': 1, 'total_pages': 23, 'Author': 'dj', 'Creator': 'Hwp 2018 10.0.0.13462', 'Producer': 'Hancom PDF 1.3.0.542', 'CreationDate': \"D:20231208132838+09'00'\", 'ModDate': \"D:20231208132838+09'00'\", 'PDFVersion': '1.4'}, page_content='▹ 삼성전자, 자체 개발 생성 AI ‘삼성 가우스’ 공개 ···························································10\\n▹ 구글, 앤스로픽에 20억 달러 투자로 생성 AI 협력 강화 ················································11\\n▹ IDC, 2027년 AI 소프트웨어 매출 2,500억 달러 돌파 전망···········································12'),\n",
       "  Document(id='3cf9a215-1701-42d5-bab0-fcc18534266f', metadata={'source': 'data/SPRI_AI_Brief_2023년12월호_F.pdf', 'file_path': 'data/SPRI_AI_Brief_2023년12월호_F.pdf', 'page': 12, 'total_pages': 23, 'Author': 'dj', 'Creator': 'Hwp 2018 10.0.0.13462', 'Producer': 'Hancom PDF 1.3.0.542', 'CreationDate': \"D:20231208132838+09'00'\", 'ModDate': \"D:20231208132838+09'00'\", 'PDFVersion': '1.4'}, page_content='SPRi AI Brief |\\n2023-12월호\\n삼성전자, 자체 개발 생성 AI ‘삼성 가우스’ 공개\\nKEY Contents\\nn 삼성전자가 온디바이스에서 작동 가능하며 언어, 코드, 이미지의 3개 모델로 구성된 자체 개발 생성\\nAI 모델 ‘삼성 가우스’를 공개\\nn 삼성전자는 삼성 가우스를 다양한 제품에 단계적으로 탑재할 계획으로, 온디바이스 작동이 가능한\\n삼성 가우스는 외부로 사용자 정보가 유출될 위험이 없다는 장점을 보유\\n£언어, 코드, 이미지의 3개 모델로 구성된 삼성 가우스, 온디바이스 작동 지원'),\n",
       "  Document(id='9e69159e-e163-4f2f-aedf-e9f47a9f692a', metadata={'source': 'data/SPRI_AI_Brief_2023년12월호_F.pdf', 'file_path': 'data/SPRI_AI_Brief_2023년12월호_F.pdf', 'page': 12, 'total_pages': 23, 'Author': 'dj', 'Creator': 'Hwp 2018 10.0.0.13462', 'Producer': 'Hancom PDF 1.3.0.542', 'CreationDate': \"D:20231208132838+09'00'\", 'ModDate': \"D:20231208132838+09'00'\", 'PDFVersion': '1.4'}, page_content='£언어, 코드, 이미지의 3개 모델로 구성된 삼성 가우스, 온디바이스 작동 지원\\nn 삼성전자가 2023년 11월 8일 열린 ‘삼성 AI 포럼 2023’ 행사에서 자체 개발한 생성 AI 모델\\n‘삼성 가우스’를 최초 공개\\n∙ 정규분포 이론을 정립한 천재 수학자 가우스(Gauss)의 이름을 본뜬 삼성 가우스는 다양한 상황에\\n최적화된 크기의 모델 선택이 가능\\n∙ 삼성 가우스는 라이선스나 개인정보를 침해하지 않는 안전한 데이터를 통해 학습되었으며,\\n온디바이스에서 작동하도록 설계되어 외부로 사용자의 정보가 유출되지 않는 장점을 보유'),\n",
       "  Document(id='b2aa3253-66a1-47e3-aebb-36e06e9f07c0', metadata={'source': 'data/SPRI_AI_Brief_2023년12월호_F.pdf', 'file_path': 'data/SPRI_AI_Brief_2023년12월호_F.pdf', 'page': 12, 'total_pages': 23, 'Author': 'dj', 'Creator': 'Hwp 2018 10.0.0.13462', 'Producer': 'Hancom PDF 1.3.0.542', 'CreationDate': \"D:20231208132838+09'00'\", 'ModDate': \"D:20231208132838+09'00'\", 'PDFVersion': '1.4'}, page_content='어시스턴트를 적용한 구글 픽셀(Pixel)과 경쟁할 것으로 예상\\n☞ 출처 : 삼성전자, ‘삼성 AI 포럼’서 자체 개발 생성형 AI ‘삼성 가우스’ 공개, 2023.11.08.\\n삼성전자, ‘삼성 개발자 콘퍼런스 코리아 2023’ 개최, 2023.11.14.\\nTechRepublic, Samsung Gauss: Samsung Research Reveals Generative AI, 2023.11.08.\\n10'),\n",
       "  Document(id='9091c6b4-5b3f-452e-9036-9792b7bf5699', metadata={'source': 'data/SPRI_AI_Brief_2023년12월호_F.pdf', 'file_path': 'data/SPRI_AI_Brief_2023년12월호_F.pdf', 'page': 12, 'total_pages': 23, 'Author': 'dj', 'Creator': 'Hwp 2018 10.0.0.13462', 'Producer': 'Hancom PDF 1.3.0.542', 'CreationDate': \"D:20231208132838+09'00'\", 'ModDate': \"D:20231208132838+09'00'\", 'PDFVersion': '1.4'}, page_content='처리를 지원\\n∙ 코드 모델 기반의 AI 코딩 어시스턴트 ‘코드아이(code.i)’는 대화형 인터페이스로 서비스를 제공하며\\n사내 소프트웨어 개발에 최적화\\n∙ 이미지 모델은 창의적인 이미지를 생성하고 기존 이미지를 원하는 대로 바꿀 수 있도록 지원하며\\n저해상도 이미지의 고해상도 전환도 지원\\nn IT 전문지 테크리퍼블릭(TechRepublic)은 온디바이스 AI가 주요 기술 트렌드로 부상했다며,\\n2024년부터 가우스를 탑재한 삼성 스마트폰이 메타의 라마(Llama)2를 탑재한 퀄컴 기기 및 구글'),\n",
       "  Document(id='844815a6-6329-4520-acb7-d4d68d58e7b7', metadata={'source': 'data/SPRI_AI_Brief_2023년12월호_F.pdf', 'file_path': 'data/SPRI_AI_Brief_2023년12월호_F.pdf', 'page': 12, 'total_pages': 23, 'Author': 'dj', 'Creator': 'Hwp 2018 10.0.0.13462', 'Producer': 'Hancom PDF 1.3.0.542', 'CreationDate': \"D:20231208132838+09'00'\", 'ModDate': \"D:20231208132838+09'00'\", 'PDFVersion': '1.4'}, page_content='온디바이스에서 작동하도록 설계되어 외부로 사용자의 정보가 유출되지 않는 장점을 보유\\n∙ 삼성전자는 삼성 가우스를 활용한 온디바이스 AI 기술도 소개했으며, 생성 AI 모델을 다양한 제품에\\n단계적으로 탑재할 계획\\nn 삼성 가우스는 △텍스트를 생성하는 언어모델 △코드를 생성하는 코드 모델 △이미지를 생성하는\\n이미지 모델의 3개 모델로 구성\\n∙ 언어 모델은 클라우드와 온디바이스 대상 다양한 모델로 구성되며, 메일 작성, 문서 요약, 번역 업무의\\n처리를 지원')]}"
      ]
     },
     "execution_count": 31,
     "metadata": {},
     "output_type": "execute_result"
    }
   ],
   "source": [
    "state"
   ]
  },
  {
   "cell_type": "code",
   "execution_count": 32,
   "metadata": {},
   "outputs": [
    {
     "name": "stdout",
     "output_type": "stream",
     "text": [
      "\n",
      "==========================================================================================\n",
      "===== [CHECK DOCUMENT RELEVANCE TO QUESTION] grade_documents() 함수 =====\n",
      "---GRADE: DOCUMENT RELEVANT---\n",
      "---GRADE: DOCUMENT RELEVANT---\n",
      "---GRADE: DOCUMENT RELEVANT---\n",
      "---GRADE: DOCUMENT RELEVANT---\n",
      "---GRADE: DOCUMENT RELEVANT---\n",
      "---GRADE: DOCUMENT RELEVANT---\n",
      "==========================================================================================\n",
      "\n"
     ]
    }
   ],
   "source": [
    "state['documents'] = grade_documents(state)['documents']"
   ]
  },
  {
   "cell_type": "code",
   "execution_count": 33,
   "metadata": {},
   "outputs": [
    {
     "data": {
      "text/plain": [
       "{'question': '삼성전자가 만든 생성형 AI 이름은?',\n",
       " 'generation': '',\n",
       " 'documents': [Document(id='7caf4f89-ef25-4ffb-bc18-8426d0296be9', metadata={'source': 'data/SPRI_AI_Brief_2023년12월호_F.pdf', 'file_path': 'data/SPRI_AI_Brief_2023년12월호_F.pdf', 'page': 1, 'total_pages': 23, 'Author': 'dj', 'Creator': 'Hwp 2018 10.0.0.13462', 'Producer': 'Hancom PDF 1.3.0.542', 'CreationDate': \"D:20231208132838+09'00'\", 'ModDate': \"D:20231208132838+09'00'\", 'PDFVersion': '1.4'}, page_content='▹ 삼성전자, 자체 개발 생성 AI ‘삼성 가우스’ 공개 ···························································10\\n▹ 구글, 앤스로픽에 20억 달러 투자로 생성 AI 협력 강화 ················································11\\n▹ IDC, 2027년 AI 소프트웨어 매출 2,500억 달러 돌파 전망···········································12'),\n",
       "  Document(id='3cf9a215-1701-42d5-bab0-fcc18534266f', metadata={'source': 'data/SPRI_AI_Brief_2023년12월호_F.pdf', 'file_path': 'data/SPRI_AI_Brief_2023년12월호_F.pdf', 'page': 12, 'total_pages': 23, 'Author': 'dj', 'Creator': 'Hwp 2018 10.0.0.13462', 'Producer': 'Hancom PDF 1.3.0.542', 'CreationDate': \"D:20231208132838+09'00'\", 'ModDate': \"D:20231208132838+09'00'\", 'PDFVersion': '1.4'}, page_content='SPRi AI Brief |\\n2023-12월호\\n삼성전자, 자체 개발 생성 AI ‘삼성 가우스’ 공개\\nKEY Contents\\nn 삼성전자가 온디바이스에서 작동 가능하며 언어, 코드, 이미지의 3개 모델로 구성된 자체 개발 생성\\nAI 모델 ‘삼성 가우스’를 공개\\nn 삼성전자는 삼성 가우스를 다양한 제품에 단계적으로 탑재할 계획으로, 온디바이스 작동이 가능한\\n삼성 가우스는 외부로 사용자 정보가 유출될 위험이 없다는 장점을 보유\\n£언어, 코드, 이미지의 3개 모델로 구성된 삼성 가우스, 온디바이스 작동 지원'),\n",
       "  Document(id='9e69159e-e163-4f2f-aedf-e9f47a9f692a', metadata={'source': 'data/SPRI_AI_Brief_2023년12월호_F.pdf', 'file_path': 'data/SPRI_AI_Brief_2023년12월호_F.pdf', 'page': 12, 'total_pages': 23, 'Author': 'dj', 'Creator': 'Hwp 2018 10.0.0.13462', 'Producer': 'Hancom PDF 1.3.0.542', 'CreationDate': \"D:20231208132838+09'00'\", 'ModDate': \"D:20231208132838+09'00'\", 'PDFVersion': '1.4'}, page_content='£언어, 코드, 이미지의 3개 모델로 구성된 삼성 가우스, 온디바이스 작동 지원\\nn 삼성전자가 2023년 11월 8일 열린 ‘삼성 AI 포럼 2023’ 행사에서 자체 개발한 생성 AI 모델\\n‘삼성 가우스’를 최초 공개\\n∙ 정규분포 이론을 정립한 천재 수학자 가우스(Gauss)의 이름을 본뜬 삼성 가우스는 다양한 상황에\\n최적화된 크기의 모델 선택이 가능\\n∙ 삼성 가우스는 라이선스나 개인정보를 침해하지 않는 안전한 데이터를 통해 학습되었으며,\\n온디바이스에서 작동하도록 설계되어 외부로 사용자의 정보가 유출되지 않는 장점을 보유'),\n",
       "  Document(id='b2aa3253-66a1-47e3-aebb-36e06e9f07c0', metadata={'source': 'data/SPRI_AI_Brief_2023년12월호_F.pdf', 'file_path': 'data/SPRI_AI_Brief_2023년12월호_F.pdf', 'page': 12, 'total_pages': 23, 'Author': 'dj', 'Creator': 'Hwp 2018 10.0.0.13462', 'Producer': 'Hancom PDF 1.3.0.542', 'CreationDate': \"D:20231208132838+09'00'\", 'ModDate': \"D:20231208132838+09'00'\", 'PDFVersion': '1.4'}, page_content='어시스턴트를 적용한 구글 픽셀(Pixel)과 경쟁할 것으로 예상\\n☞ 출처 : 삼성전자, ‘삼성 AI 포럼’서 자체 개발 생성형 AI ‘삼성 가우스’ 공개, 2023.11.08.\\n삼성전자, ‘삼성 개발자 콘퍼런스 코리아 2023’ 개최, 2023.11.14.\\nTechRepublic, Samsung Gauss: Samsung Research Reveals Generative AI, 2023.11.08.\\n10'),\n",
       "  Document(id='9091c6b4-5b3f-452e-9036-9792b7bf5699', metadata={'source': 'data/SPRI_AI_Brief_2023년12월호_F.pdf', 'file_path': 'data/SPRI_AI_Brief_2023년12월호_F.pdf', 'page': 12, 'total_pages': 23, 'Author': 'dj', 'Creator': 'Hwp 2018 10.0.0.13462', 'Producer': 'Hancom PDF 1.3.0.542', 'CreationDate': \"D:20231208132838+09'00'\", 'ModDate': \"D:20231208132838+09'00'\", 'PDFVersion': '1.4'}, page_content='처리를 지원\\n∙ 코드 모델 기반의 AI 코딩 어시스턴트 ‘코드아이(code.i)’는 대화형 인터페이스로 서비스를 제공하며\\n사내 소프트웨어 개발에 최적화\\n∙ 이미지 모델은 창의적인 이미지를 생성하고 기존 이미지를 원하는 대로 바꿀 수 있도록 지원하며\\n저해상도 이미지의 고해상도 전환도 지원\\nn IT 전문지 테크리퍼블릭(TechRepublic)은 온디바이스 AI가 주요 기술 트렌드로 부상했다며,\\n2024년부터 가우스를 탑재한 삼성 스마트폰이 메타의 라마(Llama)2를 탑재한 퀄컴 기기 및 구글'),\n",
       "  Document(id='844815a6-6329-4520-acb7-d4d68d58e7b7', metadata={'source': 'data/SPRI_AI_Brief_2023년12월호_F.pdf', 'file_path': 'data/SPRI_AI_Brief_2023년12월호_F.pdf', 'page': 12, 'total_pages': 23, 'Author': 'dj', 'Creator': 'Hwp 2018 10.0.0.13462', 'Producer': 'Hancom PDF 1.3.0.542', 'CreationDate': \"D:20231208132838+09'00'\", 'ModDate': \"D:20231208132838+09'00'\", 'PDFVersion': '1.4'}, page_content='온디바이스에서 작동하도록 설계되어 외부로 사용자의 정보가 유출되지 않는 장점을 보유\\n∙ 삼성전자는 삼성 가우스를 활용한 온디바이스 AI 기술도 소개했으며, 생성 AI 모델을 다양한 제품에\\n단계적으로 탑재할 계획\\nn 삼성 가우스는 △텍스트를 생성하는 언어모델 △코드를 생성하는 코드 모델 △이미지를 생성하는\\n이미지 모델의 3개 모델로 구성\\n∙ 언어 모델은 클라우드와 온디바이스 대상 다양한 모델로 구성되며, 메일 작성, 문서 요약, 번역 업무의\\n처리를 지원')]}"
      ]
     },
     "execution_count": 33,
     "metadata": {},
     "output_type": "execute_result"
    }
   ],
   "source": [
    "state"
   ]
  },
  {
   "cell_type": "code",
   "execution_count": 34,
   "metadata": {},
   "outputs": [
    {
     "name": "stdout",
     "output_type": "stream",
     "text": [
      "\n",
      "==========================================================================================\n",
      "===== [GENERATE] generate() 함수 =====\n",
      "사용자 질문: 삼성전자가 만든 생성형 AI 이름은?\n",
      "문서 검색 결과:\n",
      "[Document(id='7caf4f89-ef25-4ffb-bc18-8426d0296be9', metadata={'source': 'data/SPRI_AI_Brief_2023년12월호_F.pdf', 'file_path': 'data/SPRI_AI_Brief_2023년12월호_F.pdf', 'page': 1, 'total_pages': 23, 'Author': 'dj', 'Creator': 'Hwp 2018 10.0.0.13462', 'Producer': 'Hancom PDF 1.3.0.542', 'CreationDate': \"D:20231208132838+09'00'\", 'ModDate': \"D:20231208132838+09'00'\", 'PDFVersion': '1.4'}, page_content='▹ 삼성전자, 자체 개발 생성 AI ‘삼성 가우스’ 공개 ···························································10\\n▹ 구글, 앤스로픽에 20억 달러 투자로 생성 AI 협력 강화 ················································11\\n▹ IDC, 2027년 AI 소프트웨어 매출 2,500억 달러 돌파 전망···········································12'), Document(id='3cf9a215-1701-42d5-bab0-fcc18534266f', metadata={'source': 'data/SPRI_AI_Brief_2023년12월호_F.pdf', 'file_path': 'data/SPRI_AI_Brief_2023년12월호_F.pdf', 'page': 12, 'total_pages': 23, 'Author': 'dj', 'Creator': 'Hwp 2018 10.0.0.13462', 'Producer': 'Hancom PDF 1.3.0.542', 'CreationDate': \"D:20231208132838+09'00'\", 'ModDate': \"D:20231208132838+09'00'\", 'PDFVersion': '1.4'}, page_content='SPRi AI Brief |\\n2023-12월호\\n삼성전자, 자체 개발 생성 AI ‘삼성 가우스’ 공개\\nKEY Contents\\nn 삼성전자가 온디바이스에서 작동 가능하며 언어, 코드, 이미지의 3개 모델로 구성된 자체 개발 생성\\nAI 모델 ‘삼성 가우스’를 공개\\nn 삼성전자는 삼성 가우스를 다양한 제품에 단계적으로 탑재할 계획으로, 온디바이스 작동이 가능한\\n삼성 가우스는 외부로 사용자 정보가 유출될 위험이 없다는 장점을 보유\\n£언어, 코드, 이미지의 3개 모델로 구성된 삼성 가우스, 온디바이스 작동 지원'), Document(id='9e69159e-e163-4f2f-aedf-e9f47a9f692a', metadata={'source': 'data/SPRI_AI_Brief_2023년12월호_F.pdf', 'file_path': 'data/SPRI_AI_Brief_2023년12월호_F.pdf', 'page': 12, 'total_pages': 23, 'Author': 'dj', 'Creator': 'Hwp 2018 10.0.0.13462', 'Producer': 'Hancom PDF 1.3.0.542', 'CreationDate': \"D:20231208132838+09'00'\", 'ModDate': \"D:20231208132838+09'00'\", 'PDFVersion': '1.4'}, page_content='£언어, 코드, 이미지의 3개 모델로 구성된 삼성 가우스, 온디바이스 작동 지원\\nn 삼성전자가 2023년 11월 8일 열린 ‘삼성 AI 포럼 2023’ 행사에서 자체 개발한 생성 AI 모델\\n‘삼성 가우스’를 최초 공개\\n∙ 정규분포 이론을 정립한 천재 수학자 가우스(Gauss)의 이름을 본뜬 삼성 가우스는 다양한 상황에\\n최적화된 크기의 모델 선택이 가능\\n∙ 삼성 가우스는 라이선스나 개인정보를 침해하지 않는 안전한 데이터를 통해 학습되었으며,\\n온디바이스에서 작동하도록 설계되어 외부로 사용자의 정보가 유출되지 않는 장점을 보유'), Document(id='b2aa3253-66a1-47e3-aebb-36e06e9f07c0', metadata={'source': 'data/SPRI_AI_Brief_2023년12월호_F.pdf', 'file_path': 'data/SPRI_AI_Brief_2023년12월호_F.pdf', 'page': 12, 'total_pages': 23, 'Author': 'dj', 'Creator': 'Hwp 2018 10.0.0.13462', 'Producer': 'Hancom PDF 1.3.0.542', 'CreationDate': \"D:20231208132838+09'00'\", 'ModDate': \"D:20231208132838+09'00'\", 'PDFVersion': '1.4'}, page_content='어시스턴트를 적용한 구글 픽셀(Pixel)과 경쟁할 것으로 예상\\n☞ 출처 : 삼성전자, ‘삼성 AI 포럼’서 자체 개발 생성형 AI ‘삼성 가우스’ 공개, 2023.11.08.\\n삼성전자, ‘삼성 개발자 콘퍼런스 코리아 2023’ 개최, 2023.11.14.\\nTechRepublic, Samsung Gauss: Samsung Research Reveals Generative AI, 2023.11.08.\\n10'), Document(id='9091c6b4-5b3f-452e-9036-9792b7bf5699', metadata={'source': 'data/SPRI_AI_Brief_2023년12월호_F.pdf', 'file_path': 'data/SPRI_AI_Brief_2023년12월호_F.pdf', 'page': 12, 'total_pages': 23, 'Author': 'dj', 'Creator': 'Hwp 2018 10.0.0.13462', 'Producer': 'Hancom PDF 1.3.0.542', 'CreationDate': \"D:20231208132838+09'00'\", 'ModDate': \"D:20231208132838+09'00'\", 'PDFVersion': '1.4'}, page_content='처리를 지원\\n∙ 코드 모델 기반의 AI 코딩 어시스턴트 ‘코드아이(code.i)’는 대화형 인터페이스로 서비스를 제공하며\\n사내 소프트웨어 개발에 최적화\\n∙ 이미지 모델은 창의적인 이미지를 생성하고 기존 이미지를 원하는 대로 바꿀 수 있도록 지원하며\\n저해상도 이미지의 고해상도 전환도 지원\\nn IT 전문지 테크리퍼블릭(TechRepublic)은 온디바이스 AI가 주요 기술 트렌드로 부상했다며,\\n2024년부터 가우스를 탑재한 삼성 스마트폰이 메타의 라마(Llama)2를 탑재한 퀄컴 기기 및 구글'), Document(id='844815a6-6329-4520-acb7-d4d68d58e7b7', metadata={'source': 'data/SPRI_AI_Brief_2023년12월호_F.pdf', 'file_path': 'data/SPRI_AI_Brief_2023년12월호_F.pdf', 'page': 12, 'total_pages': 23, 'Author': 'dj', 'Creator': 'Hwp 2018 10.0.0.13462', 'Producer': 'Hancom PDF 1.3.0.542', 'CreationDate': \"D:20231208132838+09'00'\", 'ModDate': \"D:20231208132838+09'00'\", 'PDFVersion': '1.4'}, page_content='온디바이스에서 작동하도록 설계되어 외부로 사용자의 정보가 유출되지 않는 장점을 보유\\n∙ 삼성전자는 삼성 가우스를 활용한 온디바이스 AI 기술도 소개했으며, 생성 AI 모델을 다양한 제품에\\n단계적으로 탑재할 계획\\nn 삼성 가우스는 △텍스트를 생성하는 언어모델 △코드를 생성하는 코드 모델 △이미지를 생성하는\\n이미지 모델의 3개 모델로 구성\\n∙ 언어 모델은 클라우드와 온디바이스 대상 다양한 모델로 구성되며, 메일 작성, 문서 요약, 번역 업무의\\n처리를 지원')]\n",
      "\n",
      "rag 실행 결과:\n",
      "삼성전자가 공개한 생성 AI 모델 ‘삼성 가우스’는 언어, 코드, 이미지의 3개 모델로 구성되어 있으며, 온디바이스에서 작동하도록 설계되어 사용자 정보 유출 위험이 없다. 이 모델은 2023년 11월 8일 ‘삼성 AI 포럼 2023’에서 처음 공개되었다.\n",
      "\n",
      "**Source**\n",
      "- data/SPRI_AI_Brief_2023년12월호_F.pdf (page 12)\n",
      "\n",
      "==========================================================================================\n",
      "\n"
     ]
    }
   ],
   "source": [
    "state['generation'] = generate(state)['generation']"
   ]
  },
  {
   "cell_type": "code",
   "execution_count": 35,
   "metadata": {},
   "outputs": [
    {
     "data": {
      "text/plain": [
       "{'question': '삼성전자가 만든 생성형 AI 이름은?',\n",
       " 'generation': '삼성전자가 공개한 생성 AI 모델 ‘삼성 가우스’는 언어, 코드, 이미지의 3개 모델로 구성되어 있으며, 온디바이스에서 작동하도록 설계되어 사용자 정보 유출 위험이 없다. 이 모델은 2023년 11월 8일 ‘삼성 AI 포럼 2023’에서 처음 공개되었다.\\n\\n**Source**\\n- data/SPRI_AI_Brief_2023년12월호_F.pdf (page 12)',\n",
       " 'documents': [Document(id='7caf4f89-ef25-4ffb-bc18-8426d0296be9', metadata={'source': 'data/SPRI_AI_Brief_2023년12월호_F.pdf', 'file_path': 'data/SPRI_AI_Brief_2023년12월호_F.pdf', 'page': 1, 'total_pages': 23, 'Author': 'dj', 'Creator': 'Hwp 2018 10.0.0.13462', 'Producer': 'Hancom PDF 1.3.0.542', 'CreationDate': \"D:20231208132838+09'00'\", 'ModDate': \"D:20231208132838+09'00'\", 'PDFVersion': '1.4'}, page_content='▹ 삼성전자, 자체 개발 생성 AI ‘삼성 가우스’ 공개 ···························································10\\n▹ 구글, 앤스로픽에 20억 달러 투자로 생성 AI 협력 강화 ················································11\\n▹ IDC, 2027년 AI 소프트웨어 매출 2,500억 달러 돌파 전망···········································12'),\n",
       "  Document(id='3cf9a215-1701-42d5-bab0-fcc18534266f', metadata={'source': 'data/SPRI_AI_Brief_2023년12월호_F.pdf', 'file_path': 'data/SPRI_AI_Brief_2023년12월호_F.pdf', 'page': 12, 'total_pages': 23, 'Author': 'dj', 'Creator': 'Hwp 2018 10.0.0.13462', 'Producer': 'Hancom PDF 1.3.0.542', 'CreationDate': \"D:20231208132838+09'00'\", 'ModDate': \"D:20231208132838+09'00'\", 'PDFVersion': '1.4'}, page_content='SPRi AI Brief |\\n2023-12월호\\n삼성전자, 자체 개발 생성 AI ‘삼성 가우스’ 공개\\nKEY Contents\\nn 삼성전자가 온디바이스에서 작동 가능하며 언어, 코드, 이미지의 3개 모델로 구성된 자체 개발 생성\\nAI 모델 ‘삼성 가우스’를 공개\\nn 삼성전자는 삼성 가우스를 다양한 제품에 단계적으로 탑재할 계획으로, 온디바이스 작동이 가능한\\n삼성 가우스는 외부로 사용자 정보가 유출될 위험이 없다는 장점을 보유\\n£언어, 코드, 이미지의 3개 모델로 구성된 삼성 가우스, 온디바이스 작동 지원'),\n",
       "  Document(id='9e69159e-e163-4f2f-aedf-e9f47a9f692a', metadata={'source': 'data/SPRI_AI_Brief_2023년12월호_F.pdf', 'file_path': 'data/SPRI_AI_Brief_2023년12월호_F.pdf', 'page': 12, 'total_pages': 23, 'Author': 'dj', 'Creator': 'Hwp 2018 10.0.0.13462', 'Producer': 'Hancom PDF 1.3.0.542', 'CreationDate': \"D:20231208132838+09'00'\", 'ModDate': \"D:20231208132838+09'00'\", 'PDFVersion': '1.4'}, page_content='£언어, 코드, 이미지의 3개 모델로 구성된 삼성 가우스, 온디바이스 작동 지원\\nn 삼성전자가 2023년 11월 8일 열린 ‘삼성 AI 포럼 2023’ 행사에서 자체 개발한 생성 AI 모델\\n‘삼성 가우스’를 최초 공개\\n∙ 정규분포 이론을 정립한 천재 수학자 가우스(Gauss)의 이름을 본뜬 삼성 가우스는 다양한 상황에\\n최적화된 크기의 모델 선택이 가능\\n∙ 삼성 가우스는 라이선스나 개인정보를 침해하지 않는 안전한 데이터를 통해 학습되었으며,\\n온디바이스에서 작동하도록 설계되어 외부로 사용자의 정보가 유출되지 않는 장점을 보유'),\n",
       "  Document(id='b2aa3253-66a1-47e3-aebb-36e06e9f07c0', metadata={'source': 'data/SPRI_AI_Brief_2023년12월호_F.pdf', 'file_path': 'data/SPRI_AI_Brief_2023년12월호_F.pdf', 'page': 12, 'total_pages': 23, 'Author': 'dj', 'Creator': 'Hwp 2018 10.0.0.13462', 'Producer': 'Hancom PDF 1.3.0.542', 'CreationDate': \"D:20231208132838+09'00'\", 'ModDate': \"D:20231208132838+09'00'\", 'PDFVersion': '1.4'}, page_content='어시스턴트를 적용한 구글 픽셀(Pixel)과 경쟁할 것으로 예상\\n☞ 출처 : 삼성전자, ‘삼성 AI 포럼’서 자체 개발 생성형 AI ‘삼성 가우스’ 공개, 2023.11.08.\\n삼성전자, ‘삼성 개발자 콘퍼런스 코리아 2023’ 개최, 2023.11.14.\\nTechRepublic, Samsung Gauss: Samsung Research Reveals Generative AI, 2023.11.08.\\n10'),\n",
       "  Document(id='9091c6b4-5b3f-452e-9036-9792b7bf5699', metadata={'source': 'data/SPRI_AI_Brief_2023년12월호_F.pdf', 'file_path': 'data/SPRI_AI_Brief_2023년12월호_F.pdf', 'page': 12, 'total_pages': 23, 'Author': 'dj', 'Creator': 'Hwp 2018 10.0.0.13462', 'Producer': 'Hancom PDF 1.3.0.542', 'CreationDate': \"D:20231208132838+09'00'\", 'ModDate': \"D:20231208132838+09'00'\", 'PDFVersion': '1.4'}, page_content='처리를 지원\\n∙ 코드 모델 기반의 AI 코딩 어시스턴트 ‘코드아이(code.i)’는 대화형 인터페이스로 서비스를 제공하며\\n사내 소프트웨어 개발에 최적화\\n∙ 이미지 모델은 창의적인 이미지를 생성하고 기존 이미지를 원하는 대로 바꿀 수 있도록 지원하며\\n저해상도 이미지의 고해상도 전환도 지원\\nn IT 전문지 테크리퍼블릭(TechRepublic)은 온디바이스 AI가 주요 기술 트렌드로 부상했다며,\\n2024년부터 가우스를 탑재한 삼성 스마트폰이 메타의 라마(Llama)2를 탑재한 퀄컴 기기 및 구글'),\n",
       "  Document(id='844815a6-6329-4520-acb7-d4d68d58e7b7', metadata={'source': 'data/SPRI_AI_Brief_2023년12월호_F.pdf', 'file_path': 'data/SPRI_AI_Brief_2023년12월호_F.pdf', 'page': 12, 'total_pages': 23, 'Author': 'dj', 'Creator': 'Hwp 2018 10.0.0.13462', 'Producer': 'Hancom PDF 1.3.0.542', 'CreationDate': \"D:20231208132838+09'00'\", 'ModDate': \"D:20231208132838+09'00'\", 'PDFVersion': '1.4'}, page_content='온디바이스에서 작동하도록 설계되어 외부로 사용자의 정보가 유출되지 않는 장점을 보유\\n∙ 삼성전자는 삼성 가우스를 활용한 온디바이스 AI 기술도 소개했으며, 생성 AI 모델을 다양한 제품에\\n단계적으로 탑재할 계획\\nn 삼성 가우스는 △텍스트를 생성하는 언어모델 △코드를 생성하는 코드 모델 △이미지를 생성하는\\n이미지 모델의 3개 모델로 구성\\n∙ 언어 모델은 클라우드와 온디바이스 대상 다양한 모델로 구성되며, 메일 작성, 문서 요약, 번역 업무의\\n처리를 지원')]}"
      ]
     },
     "execution_count": 35,
     "metadata": {},
     "output_type": "execute_result"
    }
   ],
   "source": [
    "state"
   ]
  },
  {
   "cell_type": "code",
   "execution_count": 36,
   "metadata": {},
   "outputs": [
    {
     "name": "stdout",
     "output_type": "stream",
     "text": [
      "\n",
      "==========================================================================================\n",
      "===== [CHECK hallucination] hallucination_check() 함수 =====\n",
      "===== [평가 결과] =====\n",
      "yes\n",
      "===== [DECISION: GENERATION IS GROUNDED IN DOCUMENTS] =====\n",
      "no hallucination\n",
      "===== [GRADE GENERATED ANSWER vs QUESTION] =====\n",
      "==== [DECISION: GENERATED ANSWER ADDRESSES QUESTION] ====\n",
      "relevant\n",
      "==========================================================================================\n",
      "\n"
     ]
    },
    {
     "data": {
      "text/plain": [
       "'relevant'"
      ]
     },
     "execution_count": 36,
     "metadata": {},
     "output_type": "execute_result"
    }
   ],
   "source": [
    "hallucination_check(state)"
   ]
  },
  {
   "cell_type": "code",
   "execution_count": 37,
   "metadata": {},
   "outputs": [],
   "source": [
    "from langgraph.graph import StateGraph, END, START\n",
    "from langgraph.checkpoint.memory import MemorySaver\n",
    "from langchain_teddynote.graphs import visualize_graph"
   ]
  },
  {
   "cell_type": "code",
   "execution_count": 38,
   "metadata": {},
   "outputs": [],
   "source": [
    "######### 1. 그래프 생성 #########\n",
    "\n",
    "workflow = StateGraph(GraphState)"
   ]
  },
  {
   "cell_type": "code",
   "execution_count": 39,
   "metadata": {},
   "outputs": [
    {
     "data": {
      "text/plain": [
       "<langgraph.graph.state.StateGraph at 0x24f1c3cb950>"
      ]
     },
     "execution_count": 39,
     "metadata": {},
     "output_type": "execute_result"
    }
   ],
   "source": [
    "######### 2. 노드 정의  #########\n",
    "\n",
    "workflow.add_node('web_search', web_search)                 # 웹 검색  \n",
    "workflow.add_node('retrieve', retrieve)                     # 문서 검색 노드\n",
    "workflow.add_node('grade_documents', grade_documents)       # 문서 검색으로 가져온 결과와 사용자 질문의 관련성을 평가하는 노드\n",
    "workflow.add_node('generate', generate)                     # 사용자 질문과 문서 검색결과를 가지고 답변 생성하는 노드\n",
    "workflow.add_node('transform_query', transform_query)       # 사용자 질문(쿼리)를 재작성하는 노드"
   ]
  },
  {
   "cell_type": "code",
   "execution_count": 40,
   "metadata": {},
   "outputs": [
    {
     "data": {
      "text/plain": [
       "<langgraph.graph.state.StateGraph at 0x24f1c3cb950>"
      ]
     },
     "execution_count": 40,
     "metadata": {},
     "output_type": "execute_result"
    }
   ],
   "source": [
    "######### 3. 그래프 엣지(Edge) 추가  #########\n",
    "\n",
    "workflow.add_conditional_edges(\n",
    "    START, \n",
    "    route_question,                     # 질문 라우팅 노드  \n",
    "    {\n",
    "        'web_search': 'web_search',     # 웹 검색으로 라우팅\n",
    "        'vectorstore': 'retrieve'       # retrieve (PDF 문서 검색)로 라우팅\n",
    "    }\n",
    ")"
   ]
  },
  {
   "cell_type": "code",
   "execution_count": 41,
   "metadata": {},
   "outputs": [
    {
     "data": {
      "text/plain": [
       "<langgraph.graph.state.StateGraph at 0x24f1c3cb950>"
      ]
     },
     "execution_count": 41,
     "metadata": {},
     "output_type": "execute_result"
    }
   ],
   "source": [
    "workflow.add_edge('web_search', 'generate')         # 웹 검색하고 답변 생성\n",
    "workflow.add_edge('retrieve', 'grade_documents')    # retrieve 노드에서 PDF 문서 검색실행 하고 결과를 문서 검색 평가기로 가서 평가"
   ]
  },
  {
   "cell_type": "code",
   "execution_count": 42,
   "metadata": {},
   "outputs": [
    {
     "data": {
      "text/plain": [
       "<langgraph.graph.state.StateGraph at 0x24f1c3cb950>"
      ]
     },
     "execution_count": 42,
     "metadata": {},
     "output_type": "execute_result"
    }
   ],
   "source": [
    "workflow.add_conditional_edges(\n",
    "    'grade_documents',                              # 문서 검색으로 가져온 결과와 사용자 질문의 관련성을 평가하는 노드\n",
    "    decide_to_generate,                             # 문서 관련성 평가\n",
    "    {\n",
    "        'transform_query': 'transform_query',       # 사용자 입력 다시 작성 필요\n",
    "        'generate': 'generate'                      # 답변 생성\n",
    "    }\n",
    ")"
   ]
  },
  {
   "cell_type": "code",
   "execution_count": 43,
   "metadata": {},
   "outputs": [
    {
     "data": {
      "text/plain": [
       "<langgraph.graph.state.StateGraph at 0x24f1c3cb950>"
      ]
     },
     "execution_count": 43,
     "metadata": {},
     "output_type": "execute_result"
    }
   ],
   "source": [
    "workflow.add_edge('transform_query', 'retrieve')    # 쿼리 다시 작성한 뒤 문서 검색"
   ]
  },
  {
   "cell_type": "code",
   "execution_count": 44,
   "metadata": {},
   "outputs": [
    {
     "data": {
      "text/plain": [
       "<langgraph.graph.state.StateGraph at 0x24f1c3cb950>"
      ]
     },
     "execution_count": 44,
     "metadata": {},
     "output_type": "execute_result"
    }
   ],
   "source": [
    "workflow.add_conditional_edges(\n",
    "    'generate',\n",
    "    hallucination_check,\n",
    "    {\n",
    "        'hallucination': 'generate',                # Hallucination 발생 시 재생성\n",
    "        'relevant': END,                            # 답변 관련성 통과     \n",
    "        'not relevant': 'transform_query'           # 딥변 관련성 통과 못하는 경우. 쿼리 다시 작성\n",
    "    }\n",
    ")"
   ]
  },
  {
   "cell_type": "code",
   "execution_count": 45,
   "metadata": {},
   "outputs": [],
   "source": [
    "######### 4. 체크 포인터 설정  #########\n",
    "\n",
    "memory = MemorySaver()"
   ]
  },
  {
   "cell_type": "code",
   "execution_count": 46,
   "metadata": {},
   "outputs": [],
   "source": [
    "######### 5. 그래프 컴파일(compile)  #########\n",
    "\n",
    "app = workflow.compile(checkpointer=memory)"
   ]
  },
  {
   "cell_type": "code",
   "execution_count": 47,
   "metadata": {},
   "outputs": [
    {
     "data": {
      "image/png": "[encoded data removed]",
      "text/plain": [
       "<IPython.core.display.Image object>"
      ]
     },
     "metadata": {},
     "output_type": "display_data"
    }
   ],
   "source": [
    "visualize_graph(app)"
   ]
  },
  {
   "cell_type": "code",
   "execution_count": 48,
   "metadata": {},
   "outputs": [],
   "source": [
    "from langchain_core.runnables import RunnableConfig\n",
    "from langchain_teddynote.messages import invoke_graph, stream_graph, random_uuid"
   ]
  },
  {
   "cell_type": "code",
   "execution_count": 49,
   "metadata": {},
   "outputs": [
    {
     "name": "stdout",
     "output_type": "stream",
     "text": [
      "\n",
      "==========================================================================================\n",
      "===== [ROUTE QUESTION] route_question() 함수 =====\n",
      "==== [ROUTE QUESTION TO VECTORSTORE] ====\n",
      "==========================================================================================\n",
      "\n",
      "\n",
      "==========================================================================================\n",
      "===== [RETRIEVE] retieve() 노드 실행 =====\n",
      "문서 검색 결과: \n",
      "[Document(id='3cf9a215-1701-42d5-bab0-fcc18534266f', metadata={'source': 'data/SPRI_AI_Brief_2023년12월호_F.pdf', 'file_path': 'data/SPRI_AI_Brief_2023년12월호_F.pdf', 'page': 12, 'total_pages': 23, 'Author': 'dj', 'Creator': 'Hwp 2018 10.0.0.13462', 'Producer': 'Hancom PDF 1.3.0.542', 'CreationDate': \"D:20231208132838+09'00'\", 'ModDate': \"D:20231208132838+09'00'\", 'PDFVersion': '1.4'}, page_content='SPRi AI Brief |\\n2023-12월호\\n삼성전자, 자체 개발 생성 AI ‘삼성 가우스’ 공개\\nKEY Contents\\nn 삼성전자가 온디바이스에서 작동 가능하며 언어, 코드, 이미지의 3개 모델로 구성된 자체 개발 생성\\nAI 모델 ‘삼성 가우스’를 공개\\nn 삼성전자는 삼성 가우스를 다양한 제품에 단계적으로 탑재할 계획으로, 온디바이스 작동이 가능한\\n삼성 가우스는 외부로 사용자 정보가 유출될 위험이 없다는 장점을 보유\\n£언어, 코드, 이미지의 3개 모델로 구성된 삼성 가우스, 온디바이스 작동 지원'), Document(id='7caf4f89-ef25-4ffb-bc18-8426d0296be9', metadata={'source': 'data/SPRI_AI_Brief_2023년12월호_F.pdf', 'file_path': 'data/SPRI_AI_Brief_2023년12월호_F.pdf', 'page': 1, 'total_pages': 23, 'Author': 'dj', 'Creator': 'Hwp 2018 10.0.0.13462', 'Producer': 'Hancom PDF 1.3.0.542', 'CreationDate': \"D:20231208132838+09'00'\", 'ModDate': \"D:20231208132838+09'00'\", 'PDFVersion': '1.4'}, page_content='▹ 삼성전자, 자체 개발 생성 AI ‘삼성 가우스’ 공개 ···························································10\\n▹ 구글, 앤스로픽에 20억 달러 투자로 생성 AI 협력 강화 ················································11\\n▹ IDC, 2027년 AI 소프트웨어 매출 2,500억 달러 돌파 전망···········································12'), Document(id='9e69159e-e163-4f2f-aedf-e9f47a9f692a', metadata={'source': 'data/SPRI_AI_Brief_2023년12월호_F.pdf', 'file_path': 'data/SPRI_AI_Brief_2023년12월호_F.pdf', 'page': 12, 'total_pages': 23, 'Author': 'dj', 'Creator': 'Hwp 2018 10.0.0.13462', 'Producer': 'Hancom PDF 1.3.0.542', 'CreationDate': \"D:20231208132838+09'00'\", 'ModDate': \"D:20231208132838+09'00'\", 'PDFVersion': '1.4'}, page_content='£언어, 코드, 이미지의 3개 모델로 구성된 삼성 가우스, 온디바이스 작동 지원\\nn 삼성전자가 2023년 11월 8일 열린 ‘삼성 AI 포럼 2023’ 행사에서 자체 개발한 생성 AI 모델\\n‘삼성 가우스’를 최초 공개\\n∙ 정규분포 이론을 정립한 천재 수학자 가우스(Gauss)의 이름을 본뜬 삼성 가우스는 다양한 상황에\\n최적화된 크기의 모델 선택이 가능\\n∙ 삼성 가우스는 라이선스나 개인정보를 침해하지 않는 안전한 데이터를 통해 학습되었으며,\\n온디바이스에서 작동하도록 설계되어 외부로 사용자의 정보가 유출되지 않는 장점을 보유'), Document(id='b2aa3253-66a1-47e3-aebb-36e06e9f07c0', metadata={'source': 'data/SPRI_AI_Brief_2023년12월호_F.pdf', 'file_path': 'data/SPRI_AI_Brief_2023년12월호_F.pdf', 'page': 12, 'total_pages': 23, 'Author': 'dj', 'Creator': 'Hwp 2018 10.0.0.13462', 'Producer': 'Hancom PDF 1.3.0.542', 'CreationDate': \"D:20231208132838+09'00'\", 'ModDate': \"D:20231208132838+09'00'\", 'PDFVersion': '1.4'}, page_content='어시스턴트를 적용한 구글 픽셀(Pixel)과 경쟁할 것으로 예상\\n☞ 출처 : 삼성전자, ‘삼성 AI 포럼’서 자체 개발 생성형 AI ‘삼성 가우스’ 공개, 2023.11.08.\\n삼성전자, ‘삼성 개발자 콘퍼런스 코리아 2023’ 개최, 2023.11.14.\\nTechRepublic, Samsung Gauss: Samsung Research Reveals Generative AI, 2023.11.08.\\n10'), Document(id='0a12047c-3263-4722-a663-6d5d0ddb1052', metadata={'source': 'data/SPRI_AI_Brief_2023년12월호_F.pdf', 'file_path': 'data/SPRI_AI_Brief_2023년12월호_F.pdf', 'page': 18, 'total_pages': 23, 'Author': 'dj', 'Creator': 'Hwp 2018 10.0.0.13462', 'Producer': 'Hancom PDF 1.3.0.542', 'CreationDate': \"D:20231208132838+09'00'\", 'ModDate': \"D:20231208132838+09'00'\", 'PDFVersion': '1.4'}, page_content='<구글 딥마인드의 범용 AI 분류 프레임워크>\\n성능 특수 AI 예시 범용 AI 예시\\n0단계: AI 아님 계산기 소프트웨어, 컴파일러 아마존 메커니컬 터크\\n1단계: 신진(숙련되지 않은 인간) GOFAI(Good Old Fashioned Artificial Intelligence) 챗GPT, 바드, 라마2\\n스마트 스피커(애플 시리, 아마존 알렉사, 구글\\n2단계: 유능(숙련된 인간의 50% 이상) 미달성\\n어시스턴트), IBM 왓슨\\n3단계: 전문가(숙련된 인간의 90% 이상) 문법 교정기(그래머리), 생성 이미지 모델(달리2) 미달성'), Document(id='9091c6b4-5b3f-452e-9036-9792b7bf5699', metadata={'source': 'data/SPRI_AI_Brief_2023년12월호_F.pdf', 'file_path': 'data/SPRI_AI_Brief_2023년12월호_F.pdf', 'page': 12, 'total_pages': 23, 'Author': 'dj', 'Creator': 'Hwp 2018 10.0.0.13462', 'Producer': 'Hancom PDF 1.3.0.542', 'CreationDate': \"D:20231208132838+09'00'\", 'ModDate': \"D:20231208132838+09'00'\", 'PDFVersion': '1.4'}, page_content='처리를 지원\\n∙ 코드 모델 기반의 AI 코딩 어시스턴트 ‘코드아이(code.i)’는 대화형 인터페이스로 서비스를 제공하며\\n사내 소프트웨어 개발에 최적화\\n∙ 이미지 모델은 창의적인 이미지를 생성하고 기존 이미지를 원하는 대로 바꿀 수 있도록 지원하며\\n저해상도 이미지의 고해상도 전환도 지원\\nn IT 전문지 테크리퍼블릭(TechRepublic)은 온디바이스 AI가 주요 기술 트렌드로 부상했다며,\\n2024년부터 가우스를 탑재한 삼성 스마트폰이 메타의 라마(Llama)2를 탑재한 퀄컴 기기 및 구글'), Document(id='844815a6-6329-4520-acb7-d4d68d58e7b7', metadata={'source': 'data/SPRI_AI_Brief_2023년12월호_F.pdf', 'file_path': 'data/SPRI_AI_Brief_2023년12월호_F.pdf', 'page': 12, 'total_pages': 23, 'Author': 'dj', 'Creator': 'Hwp 2018 10.0.0.13462', 'Producer': 'Hancom PDF 1.3.0.542', 'CreationDate': \"D:20231208132838+09'00'\", 'ModDate': \"D:20231208132838+09'00'\", 'PDFVersion': '1.4'}, page_content='온디바이스에서 작동하도록 설계되어 외부로 사용자의 정보가 유출되지 않는 장점을 보유\\n∙ 삼성전자는 삼성 가우스를 활용한 온디바이스 AI 기술도 소개했으며, 생성 AI 모델을 다양한 제품에\\n단계적으로 탑재할 계획\\nn 삼성 가우스는 △텍스트를 생성하는 언어모델 △코드를 생성하는 코드 모델 △이미지를 생성하는\\n이미지 모델의 3개 모델로 구성\\n∙ 언어 모델은 클라우드와 온디바이스 대상 다양한 모델로 구성되며, 메일 작성, 문서 요약, 번역 업무의\\n처리를 지원'), Document(id='a040618e-6751-4ecc-be9e-fe884eababa4', metadata={'source': 'data/SPRI_AI_Brief_2023년12월호_F.pdf', 'file_path': 'data/SPRI_AI_Brief_2023년12월호_F.pdf', 'page': 11, 'total_pages': 23, 'Author': 'dj', 'Creator': 'Hwp 2018 10.0.0.13462', 'Producer': 'Hancom PDF 1.3.0.542', 'CreationDate': \"D:20231208132838+09'00'\", 'ModDate': \"D:20231208132838+09'00'\", 'PDFVersion': '1.4'}, page_content='제작을 포함\\nn 알리바바 클라우드는 급증하는 생성 AI 수요에 대응해 모델 개발과 애플리케이션 구축 절차를\\n간소화하는 올인원 AI 모델 구축 플랫폼 ‘젠AI(GenAI)’도 공개\\n∙ 이 플랫폼은 데이터 관리, 모델 배포와 평가, 신속한 엔지니어링을 위한 종합 도구 모음을 제공하여\\n다양한 기업들이 맞춤형 AI 모델을 한층 쉽게 개발할 수 있도록 지원\\n∙ 생성 AI 개발에 필요한 컴퓨팅과 데이터 처리 요구사항을 지원하기 위해 AI 플랫폼(PAI),\\n데이터베이스 솔루션, 컨테이너 서비스와 같은 클라우드 신제품도 발표'), Document(id='5915d727-5705-4b01-bcf3-ffcc40a9293f', metadata={'source': 'data/SPRI_AI_Brief_2023년12월호_F.pdf', 'file_path': 'data/SPRI_AI_Brief_2023년12월호_F.pdf', 'page': 1, 'total_pages': 23, 'Author': 'dj', 'Creator': 'Hwp 2018 10.0.0.13462', 'Producer': 'Hancom PDF 1.3.0.542', 'CreationDate': \"D:20231208132838+09'00'\", 'ModDate': \"D:20231208132838+09'00'\", 'PDFVersion': '1.4'}, page_content='▹ 빌 게이츠, AI 에이전트로 인한 컴퓨터 사용의 패러다임 변화 전망································13\\n▹ 유튜브, 2024년부터 AI 생성 콘텐츠 표시 의무화····························································14\\n3. 기술/연구\\n▹ 영국 과학혁신기술부, AI 안전 연구소 설립 발표······························································15'), Document(id='198a78fe-f96b-4a72-9733-b0722ce06e1b', metadata={'source': 'data/SPRI_AI_Brief_2023년12월호_F.pdf', 'file_path': 'data/SPRI_AI_Brief_2023년12월호_F.pdf', 'page': 18, 'total_pages': 23, 'Author': 'dj', 'Creator': 'Hwp 2018 10.0.0.13462', 'Producer': 'Hancom PDF 1.3.0.542', 'CreationDate': \"D:20231208132838+09'00'\", 'ModDate': \"D:20231208132838+09'00'\", 'PDFVersion': '1.4'}, page_content='£챗GPT와 구글 바드와 같은 AI 챗봇은 범용 AI 1단계 수준\\nn 구글 딥마인드 연구진은 2023년 11월 4일 범용 AI(Artificial General Intelligence, AGI) 모델을 용도와\\n성능에 따라 분류하는 프레임워크를 제시한 논문을 발표\\n∙ 프레임워크의 목적은 AGI의 성능, 범용성, 자율성 수준을 정의하여 모델 간 비교와 위험 평가, AGI\\n달성까지의 진행 상황을 측정할 수 있는 공통 기준을 제공하기 위함\\nn 연구진은 AGI 개념 정의에 필요한 기준을 수립하기 위한 6가지 원칙을 아래와 같이 도출')]\n",
      "==========================================================================================\n",
      "\n",
      "[node_name]: retrieve\n",
      "[node_chunk]:\n",
      " {'documents': [Document(id='3cf9a215-1701-42d5-bab0-fcc18534266f', metadata={'source': 'data/SPRI_AI_Brief_2023년12월호_F.pdf', 'file_path': 'data/SPRI_AI_Brief_2023년12월호_F.pdf', 'page': 12, 'total_pages': 23, 'Author': 'dj', 'Creator': 'Hwp 2018 10.0.0.13462', 'Producer': 'Hancom PDF 1.3.0.542', 'CreationDate': \"D:20231208132838+09'00'\", 'ModDate': \"D:20231208132838+09'00'\", 'PDFVersion': '1.4'}, page_content='SPRi AI Brief |\\n2023-12월호\\n삼성전자, 자체 개발 생성 AI ‘삼성 가우스’ 공개\\nKEY Contents\\nn 삼성전자가 온디바이스에서 작동 가능하며 언어, 코드, 이미지의 3개 모델로 구성된 자체 개발 생성\\nAI 모델 ‘삼성 가우스’를 공개\\nn 삼성전자는 삼성 가우스를 다양한 제품에 단계적으로 탑재할 계획으로, 온디바이스 작동이 가능한\\n삼성 가우스는 외부로 사용자 정보가 유출될 위험이 없다는 장점을 보유\\n£언어, 코드, 이미지의 3개 모델로 구성된 삼성 가우스, 온디바이스 작동 지원'), Document(id='7caf4f89-ef25-4ffb-bc18-8426d0296be9', metadata={'source': 'data/SPRI_AI_Brief_2023년12월호_F.pdf', 'file_path': 'data/SPRI_AI_Brief_2023년12월호_F.pdf', 'page': 1, 'total_pages': 23, 'Author': 'dj', 'Creator': 'Hwp 2018 10.0.0.13462', 'Producer': 'Hancom PDF 1.3.0.542', 'CreationDate': \"D:20231208132838+09'00'\", 'ModDate': \"D:20231208132838+09'00'\", 'PDFVersion': '1.4'}, page_content='▹ 삼성전자, 자체 개발 생성 AI ‘삼성 가우스’ 공개 ···························································10\\n▹ 구글, 앤스로픽에 20억 달러 투자로 생성 AI 협력 강화 ················································11\\n▹ IDC, 2027년 AI 소프트웨어 매출 2,500억 달러 돌파 전망···········································12'), Document(id='9e69159e-e163-4f2f-aedf-e9f47a9f692a', metadata={'source': 'data/SPRI_AI_Brief_2023년12월호_F.pdf', 'file_path': 'data/SPRI_AI_Brief_2023년12월호_F.pdf', 'page': 12, 'total_pages': 23, 'Author': 'dj', 'Creator': 'Hwp 2018 10.0.0.13462', 'Producer': 'Hancom PDF 1.3.0.542', 'CreationDate': \"D:20231208132838+09'00'\", 'ModDate': \"D:20231208132838+09'00'\", 'PDFVersion': '1.4'}, page_content='£언어, 코드, 이미지의 3개 모델로 구성된 삼성 가우스, 온디바이스 작동 지원\\nn 삼성전자가 2023년 11월 8일 열린 ‘삼성 AI 포럼 2023’ 행사에서 자체 개발한 생성 AI 모델\\n‘삼성 가우스’를 최초 공개\\n∙ 정규분포 이론을 정립한 천재 수학자 가우스(Gauss)의 이름을 본뜬 삼성 가우스는 다양한 상황에\\n최적화된 크기의 모델 선택이 가능\\n∙ 삼성 가우스는 라이선스나 개인정보를 침해하지 않는 안전한 데이터를 통해 학습되었으며,\\n온디바이스에서 작동하도록 설계되어 외부로 사용자의 정보가 유출되지 않는 장점을 보유'), Document(id='b2aa3253-66a1-47e3-aebb-36e06e9f07c0', metadata={'source': 'data/SPRI_AI_Brief_2023년12월호_F.pdf', 'file_path': 'data/SPRI_AI_Brief_2023년12월호_F.pdf', 'page': 12, 'total_pages': 23, 'Author': 'dj', 'Creator': 'Hwp 2018 10.0.0.13462', 'Producer': 'Hancom PDF 1.3.0.542', 'CreationDate': \"D:20231208132838+09'00'\", 'ModDate': \"D:20231208132838+09'00'\", 'PDFVersion': '1.4'}, page_content='어시스턴트를 적용한 구글 픽셀(Pixel)과 경쟁할 것으로 예상\\n☞ 출처 : 삼성전자, ‘삼성 AI 포럼’서 자체 개발 생성형 AI ‘삼성 가우스’ 공개, 2023.11.08.\\n삼성전자, ‘삼성 개발자 콘퍼런스 코리아 2023’ 개최, 2023.11.14.\\nTechRepublic, Samsung Gauss: Samsung Research Reveals Generative AI, 2023.11.08.\\n10'), Document(id='0a12047c-3263-4722-a663-6d5d0ddb1052', metadata={'source': 'data/SPRI_AI_Brief_2023년12월호_F.pdf', 'file_path': 'data/SPRI_AI_Brief_2023년12월호_F.pdf', 'page': 18, 'total_pages': 23, 'Author': 'dj', 'Creator': 'Hwp 2018 10.0.0.13462', 'Producer': 'Hancom PDF 1.3.0.542', 'CreationDate': \"D:20231208132838+09'00'\", 'ModDate': \"D:20231208132838+09'00'\", 'PDFVersion': '1.4'}, page_content='<구글 딥마인드의 범용 AI 분류 프레임워크>\\n성능 특수 AI 예시 범용 AI 예시\\n0단계: AI 아님 계산기 소프트웨어, 컴파일러 아마존 메커니컬 터크\\n1단계: 신진(숙련되지 않은 인간) GOFAI(Good Old Fashioned Artificial Intelligence) 챗GPT, 바드, 라마2\\n스마트 스피커(애플 시리, 아마존 알렉사, 구글\\n2단계: 유능(숙련된 인간의 50% 이상) 미달성\\n어시스턴트), IBM 왓슨\\n3단계: 전문가(숙련된 인간의 90% 이상) 문법 교정기(그래머리), 생성 이미지 모델(달리2) 미달성'), Document(id='9091c6b4-5b3f-452e-9036-9792b7bf5699', metadata={'source': 'data/SPRI_AI_Brief_2023년12월호_F.pdf', 'file_path': 'data/SPRI_AI_Brief_2023년12월호_F.pdf', 'page': 12, 'total_pages': 23, 'Author': 'dj', 'Creator': 'Hwp 2018 10.0.0.13462', 'Producer': 'Hancom PDF 1.3.0.542', 'CreationDate': \"D:20231208132838+09'00'\", 'ModDate': \"D:20231208132838+09'00'\", 'PDFVersion': '1.4'}, page_content='처리를 지원\\n∙ 코드 모델 기반의 AI 코딩 어시스턴트 ‘코드아이(code.i)’는 대화형 인터페이스로 서비스를 제공하며\\n사내 소프트웨어 개발에 최적화\\n∙ 이미지 모델은 창의적인 이미지를 생성하고 기존 이미지를 원하는 대로 바꿀 수 있도록 지원하며\\n저해상도 이미지의 고해상도 전환도 지원\\nn IT 전문지 테크리퍼블릭(TechRepublic)은 온디바이스 AI가 주요 기술 트렌드로 부상했다며,\\n2024년부터 가우스를 탑재한 삼성 스마트폰이 메타의 라마(Llama)2를 탑재한 퀄컴 기기 및 구글'), Document(id='844815a6-6329-4520-acb7-d4d68d58e7b7', metadata={'source': 'data/SPRI_AI_Brief_2023년12월호_F.pdf', 'file_path': 'data/SPRI_AI_Brief_2023년12월호_F.pdf', 'page': 12, 'total_pages': 23, 'Author': 'dj', 'Creator': 'Hwp 2018 10.0.0.13462', 'Producer': 'Hancom PDF 1.3.0.542', 'CreationDate': \"D:20231208132838+09'00'\", 'ModDate': \"D:20231208132838+09'00'\", 'PDFVersion': '1.4'}, page_content='온디바이스에서 작동하도록 설계되어 외부로 사용자의 정보가 유출되지 않는 장점을 보유\\n∙ 삼성전자는 삼성 가우스를 활용한 온디바이스 AI 기술도 소개했으며, 생성 AI 모델을 다양한 제품에\\n단계적으로 탑재할 계획\\nn 삼성 가우스는 △텍스트를 생성하는 언어모델 △코드를 생성하는 코드 모델 △이미지를 생성하는\\n이미지 모델의 3개 모델로 구성\\n∙ 언어 모델은 클라우드와 온디바이스 대상 다양한 모델로 구성되며, 메일 작성, 문서 요약, 번역 업무의\\n처리를 지원'), Document(id='a040618e-6751-4ecc-be9e-fe884eababa4', metadata={'source': 'data/SPRI_AI_Brief_2023년12월호_F.pdf', 'file_path': 'data/SPRI_AI_Brief_2023년12월호_F.pdf', 'page': 11, 'total_pages': 23, 'Author': 'dj', 'Creator': 'Hwp 2018 10.0.0.13462', 'Producer': 'Hancom PDF 1.3.0.542', 'CreationDate': \"D:20231208132838+09'00'\", 'ModDate': \"D:20231208132838+09'00'\", 'PDFVersion': '1.4'}, page_content='제작을 포함\\nn 알리바바 클라우드는 급증하는 생성 AI 수요에 대응해 모델 개발과 애플리케이션 구축 절차를\\n간소화하는 올인원 AI 모델 구축 플랫폼 ‘젠AI(GenAI)’도 공개\\n∙ 이 플랫폼은 데이터 관리, 모델 배포와 평가, 신속한 엔지니어링을 위한 종합 도구 모음을 제공하여\\n다양한 기업들이 맞춤형 AI 모델을 한층 쉽게 개발할 수 있도록 지원\\n∙ 생성 AI 개발에 필요한 컴퓨팅과 데이터 처리 요구사항을 지원하기 위해 AI 플랫폼(PAI),\\n데이터베이스 솔루션, 컨테이너 서비스와 같은 클라우드 신제품도 발표'), Document(id='5915d727-5705-4b01-bcf3-ffcc40a9293f', metadata={'source': 'data/SPRI_AI_Brief_2023년12월호_F.pdf', 'file_path': 'data/SPRI_AI_Brief_2023년12월호_F.pdf', 'page': 1, 'total_pages': 23, 'Author': 'dj', 'Creator': 'Hwp 2018 10.0.0.13462', 'Producer': 'Hancom PDF 1.3.0.542', 'CreationDate': \"D:20231208132838+09'00'\", 'ModDate': \"D:20231208132838+09'00'\", 'PDFVersion': '1.4'}, page_content='▹ 빌 게이츠, AI 에이전트로 인한 컴퓨터 사용의 패러다임 변화 전망································13\\n▹ 유튜브, 2024년부터 AI 생성 콘텐츠 표시 의무화····························································14\\n3. 기술/연구\\n▹ 영국 과학혁신기술부, AI 안전 연구소 설립 발표······························································15'), Document(id='198a78fe-f96b-4a72-9733-b0722ce06e1b', metadata={'source': 'data/SPRI_AI_Brief_2023년12월호_F.pdf', 'file_path': 'data/SPRI_AI_Brief_2023년12월호_F.pdf', 'page': 18, 'total_pages': 23, 'Author': 'dj', 'Creator': 'Hwp 2018 10.0.0.13462', 'Producer': 'Hancom PDF 1.3.0.542', 'CreationDate': \"D:20231208132838+09'00'\", 'ModDate': \"D:20231208132838+09'00'\", 'PDFVersion': '1.4'}, page_content='£챗GPT와 구글 바드와 같은 AI 챗봇은 범용 AI 1단계 수준\\nn 구글 딥마인드 연구진은 2023년 11월 4일 범용 AI(Artificial General Intelligence, AGI) 모델을 용도와\\n성능에 따라 분류하는 프레임워크를 제시한 논문을 발표\\n∙ 프레임워크의 목적은 AGI의 성능, 범용성, 자율성 수준을 정의하여 모델 간 비교와 위험 평가, AGI\\n달성까지의 진행 상황을 측정할 수 있는 공통 기준을 제공하기 위함\\nn 연구진은 AGI 개념 정의에 필요한 기준을 수립하기 위한 6가지 원칙을 아래와 같이 도출')]}\n",
      "\n",
      "==========================================================================================\n",
      "===== [CHECK DOCUMENT RELEVANCE TO QUESTION] grade_documents() 함수 =====\n",
      "---GRADE: DOCUMENT RELEVANT---\n",
      "---GRADE: DOCUMENT RELEVANT---\n",
      "---GRADE: DOCUMENT RELEVANT---\n",
      "---GRADE: DOCUMENT RELEVANT---\n",
      "---GRADE: DOCUMENT NOT RELEVANT---\n",
      "---GRADE: DOCUMENT RELEVANT---\n",
      "---GRADE: DOCUMENT RELEVANT---\n",
      "---GRADE: DOCUMENT NOT RELEVANT---\n",
      "---GRADE: DOCUMENT NOT RELEVANT---\n",
      "---GRADE: DOCUMENT NOT RELEVANT---\n",
      "==========================================================================================\n",
      "\n",
      "\n",
      "==========================================================================================\n",
      "===== [DECISION TO GENERATE] decide_to_generate() 함수 =====\n",
      "===== [DECISION: GENERATE] =====\n",
      "==========================================================================================\n",
      "\n",
      "[node_name]: grade_documents\n",
      "[node_chunk]:\n",
      " {'documents': [Document(id='3cf9a215-1701-42d5-bab0-fcc18534266f', metadata={'source': 'data/SPRI_AI_Brief_2023년12월호_F.pdf', 'file_path': 'data/SPRI_AI_Brief_2023년12월호_F.pdf', 'page': 12, 'total_pages': 23, 'Author': 'dj', 'Creator': 'Hwp 2018 10.0.0.13462', 'Producer': 'Hancom PDF 1.3.0.542', 'CreationDate': \"D:20231208132838+09'00'\", 'ModDate': \"D:20231208132838+09'00'\", 'PDFVersion': '1.4'}, page_content='SPRi AI Brief |\\n2023-12월호\\n삼성전자, 자체 개발 생성 AI ‘삼성 가우스’ 공개\\nKEY Contents\\nn 삼성전자가 온디바이스에서 작동 가능하며 언어, 코드, 이미지의 3개 모델로 구성된 자체 개발 생성\\nAI 모델 ‘삼성 가우스’를 공개\\nn 삼성전자는 삼성 가우스를 다양한 제품에 단계적으로 탑재할 계획으로, 온디바이스 작동이 가능한\\n삼성 가우스는 외부로 사용자 정보가 유출될 위험이 없다는 장점을 보유\\n£언어, 코드, 이미지의 3개 모델로 구성된 삼성 가우스, 온디바이스 작동 지원'), Document(id='7caf4f89-ef25-4ffb-bc18-8426d0296be9', metadata={'source': 'data/SPRI_AI_Brief_2023년12월호_F.pdf', 'file_path': 'data/SPRI_AI_Brief_2023년12월호_F.pdf', 'page': 1, 'total_pages': 23, 'Author': 'dj', 'Creator': 'Hwp 2018 10.0.0.13462', 'Producer': 'Hancom PDF 1.3.0.542', 'CreationDate': \"D:20231208132838+09'00'\", 'ModDate': \"D:20231208132838+09'00'\", 'PDFVersion': '1.4'}, page_content='▹ 삼성전자, 자체 개발 생성 AI ‘삼성 가우스’ 공개 ···························································10\\n▹ 구글, 앤스로픽에 20억 달러 투자로 생성 AI 협력 강화 ················································11\\n▹ IDC, 2027년 AI 소프트웨어 매출 2,500억 달러 돌파 전망···········································12'), Document(id='9e69159e-e163-4f2f-aedf-e9f47a9f692a', metadata={'source': 'data/SPRI_AI_Brief_2023년12월호_F.pdf', 'file_path': 'data/SPRI_AI_Brief_2023년12월호_F.pdf', 'page': 12, 'total_pages': 23, 'Author': 'dj', 'Creator': 'Hwp 2018 10.0.0.13462', 'Producer': 'Hancom PDF 1.3.0.542', 'CreationDate': \"D:20231208132838+09'00'\", 'ModDate': \"D:20231208132838+09'00'\", 'PDFVersion': '1.4'}, page_content='£언어, 코드, 이미지의 3개 모델로 구성된 삼성 가우스, 온디바이스 작동 지원\\nn 삼성전자가 2023년 11월 8일 열린 ‘삼성 AI 포럼 2023’ 행사에서 자체 개발한 생성 AI 모델\\n‘삼성 가우스’를 최초 공개\\n∙ 정규분포 이론을 정립한 천재 수학자 가우스(Gauss)의 이름을 본뜬 삼성 가우스는 다양한 상황에\\n최적화된 크기의 모델 선택이 가능\\n∙ 삼성 가우스는 라이선스나 개인정보를 침해하지 않는 안전한 데이터를 통해 학습되었으며,\\n온디바이스에서 작동하도록 설계되어 외부로 사용자의 정보가 유출되지 않는 장점을 보유'), Document(id='b2aa3253-66a1-47e3-aebb-36e06e9f07c0', metadata={'source': 'data/SPRI_AI_Brief_2023년12월호_F.pdf', 'file_path': 'data/SPRI_AI_Brief_2023년12월호_F.pdf', 'page': 12, 'total_pages': 23, 'Author': 'dj', 'Creator': 'Hwp 2018 10.0.0.13462', 'Producer': 'Hancom PDF 1.3.0.542', 'CreationDate': \"D:20231208132838+09'00'\", 'ModDate': \"D:20231208132838+09'00'\", 'PDFVersion': '1.4'}, page_content='어시스턴트를 적용한 구글 픽셀(Pixel)과 경쟁할 것으로 예상\\n☞ 출처 : 삼성전자, ‘삼성 AI 포럼’서 자체 개발 생성형 AI ‘삼성 가우스’ 공개, 2023.11.08.\\n삼성전자, ‘삼성 개발자 콘퍼런스 코리아 2023’ 개최, 2023.11.14.\\nTechRepublic, Samsung Gauss: Samsung Research Reveals Generative AI, 2023.11.08.\\n10'), Document(id='9091c6b4-5b3f-452e-9036-9792b7bf5699', metadata={'source': 'data/SPRI_AI_Brief_2023년12월호_F.pdf', 'file_path': 'data/SPRI_AI_Brief_2023년12월호_F.pdf', 'page': 12, 'total_pages': 23, 'Author': 'dj', 'Creator': 'Hwp 2018 10.0.0.13462', 'Producer': 'Hancom PDF 1.3.0.542', 'CreationDate': \"D:20231208132838+09'00'\", 'ModDate': \"D:20231208132838+09'00'\", 'PDFVersion': '1.4'}, page_content='처리를 지원\\n∙ 코드 모델 기반의 AI 코딩 어시스턴트 ‘코드아이(code.i)’는 대화형 인터페이스로 서비스를 제공하며\\n사내 소프트웨어 개발에 최적화\\n∙ 이미지 모델은 창의적인 이미지를 생성하고 기존 이미지를 원하는 대로 바꿀 수 있도록 지원하며\\n저해상도 이미지의 고해상도 전환도 지원\\nn IT 전문지 테크리퍼블릭(TechRepublic)은 온디바이스 AI가 주요 기술 트렌드로 부상했다며,\\n2024년부터 가우스를 탑재한 삼성 스마트폰이 메타의 라마(Llama)2를 탑재한 퀄컴 기기 및 구글'), Document(id='844815a6-6329-4520-acb7-d4d68d58e7b7', metadata={'source': 'data/SPRI_AI_Brief_2023년12월호_F.pdf', 'file_path': 'data/SPRI_AI_Brief_2023년12월호_F.pdf', 'page': 12, 'total_pages': 23, 'Author': 'dj', 'Creator': 'Hwp 2018 10.0.0.13462', 'Producer': 'Hancom PDF 1.3.0.542', 'CreationDate': \"D:20231208132838+09'00'\", 'ModDate': \"D:20231208132838+09'00'\", 'PDFVersion': '1.4'}, page_content='온디바이스에서 작동하도록 설계되어 외부로 사용자의 정보가 유출되지 않는 장점을 보유\\n∙ 삼성전자는 삼성 가우스를 활용한 온디바이스 AI 기술도 소개했으며, 생성 AI 모델을 다양한 제품에\\n단계적으로 탑재할 계획\\nn 삼성 가우스는 △텍스트를 생성하는 언어모델 △코드를 생성하는 코드 모델 △이미지를 생성하는\\n이미지 모델의 3개 모델로 구성\\n∙ 언어 모델은 클라우드와 온디바이스 대상 다양한 모델로 구성되며, 메일 작성, 문서 요약, 번역 업무의\\n처리를 지원')]}\n",
      "\n",
      "==========================================================================================\n",
      "===== [GENERATE] generate() 함수 =====\n",
      "사용자 질문: 삼성전자가 개발한 생성형 AI 이름은?\n",
      "문서 검색 결과:\n",
      "[Document(id='3cf9a215-1701-42d5-bab0-fcc18534266f', metadata={'source': 'data/SPRI_AI_Brief_2023년12월호_F.pdf', 'file_path': 'data/SPRI_AI_Brief_2023년12월호_F.pdf', 'page': 12, 'total_pages': 23, 'Author': 'dj', 'Creator': 'Hwp 2018 10.0.0.13462', 'Producer': 'Hancom PDF 1.3.0.542', 'CreationDate': \"D:20231208132838+09'00'\", 'ModDate': \"D:20231208132838+09'00'\", 'PDFVersion': '1.4'}, page_content='SPRi AI Brief |\\n2023-12월호\\n삼성전자, 자체 개발 생성 AI ‘삼성 가우스’ 공개\\nKEY Contents\\nn 삼성전자가 온디바이스에서 작동 가능하며 언어, 코드, 이미지의 3개 모델로 구성된 자체 개발 생성\\nAI 모델 ‘삼성 가우스’를 공개\\nn 삼성전자는 삼성 가우스를 다양한 제품에 단계적으로 탑재할 계획으로, 온디바이스 작동이 가능한\\n삼성 가우스는 외부로 사용자 정보가 유출될 위험이 없다는 장점을 보유\\n£언어, 코드, 이미지의 3개 모델로 구성된 삼성 가우스, 온디바이스 작동 지원'), Document(id='7caf4f89-ef25-4ffb-bc18-8426d0296be9', metadata={'source': 'data/SPRI_AI_Brief_2023년12월호_F.pdf', 'file_path': 'data/SPRI_AI_Brief_2023년12월호_F.pdf', 'page': 1, 'total_pages': 23, 'Author': 'dj', 'Creator': 'Hwp 2018 10.0.0.13462', 'Producer': 'Hancom PDF 1.3.0.542', 'CreationDate': \"D:20231208132838+09'00'\", 'ModDate': \"D:20231208132838+09'00'\", 'PDFVersion': '1.4'}, page_content='▹ 삼성전자, 자체 개발 생성 AI ‘삼성 가우스’ 공개 ···························································10\\n▹ 구글, 앤스로픽에 20억 달러 투자로 생성 AI 협력 강화 ················································11\\n▹ IDC, 2027년 AI 소프트웨어 매출 2,500억 달러 돌파 전망···········································12'), Document(id='9e69159e-e163-4f2f-aedf-e9f47a9f692a', metadata={'source': 'data/SPRI_AI_Brief_2023년12월호_F.pdf', 'file_path': 'data/SPRI_AI_Brief_2023년12월호_F.pdf', 'page': 12, 'total_pages': 23, 'Author': 'dj', 'Creator': 'Hwp 2018 10.0.0.13462', 'Producer': 'Hancom PDF 1.3.0.542', 'CreationDate': \"D:20231208132838+09'00'\", 'ModDate': \"D:20231208132838+09'00'\", 'PDFVersion': '1.4'}, page_content='£언어, 코드, 이미지의 3개 모델로 구성된 삼성 가우스, 온디바이스 작동 지원\\nn 삼성전자가 2023년 11월 8일 열린 ‘삼성 AI 포럼 2023’ 행사에서 자체 개발한 생성 AI 모델\\n‘삼성 가우스’를 최초 공개\\n∙ 정규분포 이론을 정립한 천재 수학자 가우스(Gauss)의 이름을 본뜬 삼성 가우스는 다양한 상황에\\n최적화된 크기의 모델 선택이 가능\\n∙ 삼성 가우스는 라이선스나 개인정보를 침해하지 않는 안전한 데이터를 통해 학습되었으며,\\n온디바이스에서 작동하도록 설계되어 외부로 사용자의 정보가 유출되지 않는 장점을 보유'), Document(id='b2aa3253-66a1-47e3-aebb-36e06e9f07c0', metadata={'source': 'data/SPRI_AI_Brief_2023년12월호_F.pdf', 'file_path': 'data/SPRI_AI_Brief_2023년12월호_F.pdf', 'page': 12, 'total_pages': 23, 'Author': 'dj', 'Creator': 'Hwp 2018 10.0.0.13462', 'Producer': 'Hancom PDF 1.3.0.542', 'CreationDate': \"D:20231208132838+09'00'\", 'ModDate': \"D:20231208132838+09'00'\", 'PDFVersion': '1.4'}, page_content='어시스턴트를 적용한 구글 픽셀(Pixel)과 경쟁할 것으로 예상\\n☞ 출처 : 삼성전자, ‘삼성 AI 포럼’서 자체 개발 생성형 AI ‘삼성 가우스’ 공개, 2023.11.08.\\n삼성전자, ‘삼성 개발자 콘퍼런스 코리아 2023’ 개최, 2023.11.14.\\nTechRepublic, Samsung Gauss: Samsung Research Reveals Generative AI, 2023.11.08.\\n10'), Document(id='9091c6b4-5b3f-452e-9036-9792b7bf5699', metadata={'source': 'data/SPRI_AI_Brief_2023년12월호_F.pdf', 'file_path': 'data/SPRI_AI_Brief_2023년12월호_F.pdf', 'page': 12, 'total_pages': 23, 'Author': 'dj', 'Creator': 'Hwp 2018 10.0.0.13462', 'Producer': 'Hancom PDF 1.3.0.542', 'CreationDate': \"D:20231208132838+09'00'\", 'ModDate': \"D:20231208132838+09'00'\", 'PDFVersion': '1.4'}, page_content='처리를 지원\\n∙ 코드 모델 기반의 AI 코딩 어시스턴트 ‘코드아이(code.i)’는 대화형 인터페이스로 서비스를 제공하며\\n사내 소프트웨어 개발에 최적화\\n∙ 이미지 모델은 창의적인 이미지를 생성하고 기존 이미지를 원하는 대로 바꿀 수 있도록 지원하며\\n저해상도 이미지의 고해상도 전환도 지원\\nn IT 전문지 테크리퍼블릭(TechRepublic)은 온디바이스 AI가 주요 기술 트렌드로 부상했다며,\\n2024년부터 가우스를 탑재한 삼성 스마트폰이 메타의 라마(Llama)2를 탑재한 퀄컴 기기 및 구글'), Document(id='844815a6-6329-4520-acb7-d4d68d58e7b7', metadata={'source': 'data/SPRI_AI_Brief_2023년12월호_F.pdf', 'file_path': 'data/SPRI_AI_Brief_2023년12월호_F.pdf', 'page': 12, 'total_pages': 23, 'Author': 'dj', 'Creator': 'Hwp 2018 10.0.0.13462', 'Producer': 'Hancom PDF 1.3.0.542', 'CreationDate': \"D:20231208132838+09'00'\", 'ModDate': \"D:20231208132838+09'00'\", 'PDFVersion': '1.4'}, page_content='온디바이스에서 작동하도록 설계되어 외부로 사용자의 정보가 유출되지 않는 장점을 보유\\n∙ 삼성전자는 삼성 가우스를 활용한 온디바이스 AI 기술도 소개했으며, 생성 AI 모델을 다양한 제품에\\n단계적으로 탑재할 계획\\nn 삼성 가우스는 △텍스트를 생성하는 언어모델 △코드를 생성하는 코드 모델 △이미지를 생성하는\\n이미지 모델의 3개 모델로 구성\\n∙ 언어 모델은 클라우드와 온디바이스 대상 다양한 모델로 구성되며, 메일 작성, 문서 요약, 번역 업무의\\n처리를 지원')]\n",
      "\n",
      "rag 실행 결과:\n",
      "삼성전자가 공개한 생성 AI 모델 ‘삼성 가우스’는 언어, 코드, 이미지의 3개 모델로 구성되어 있으며, 온디바이스에서 작동하도록 설계되어 사용자 정보 유출 위험이 없다. 이 모델은 2023년 11월 8일 ‘삼성 AI 포럼 2023’에서 처음 공개되었다.\n",
      "\n",
      "**Source**\n",
      "- data/SPRI_AI_Brief_2023년12월호_F.pdf (page 12)\n",
      "\n",
      "==========================================================================================\n",
      "\n",
      "\n",
      "==========================================================================================\n",
      "===== [CHECK hallucination] hallucination_check() 함수 =====\n",
      "===== [평가 결과] =====\n",
      "yes\n",
      "===== [DECISION: GENERATION IS GROUNDED IN DOCUMENTS] =====\n",
      "no hallucination\n",
      "===== [GRADE GENERATED ANSWER vs QUESTION] =====\n",
      "==== [DECISION: GENERATED ANSWER ADDRESSES QUESTION] ====\n",
      "relevant\n",
      "==========================================================================================\n",
      "\n",
      "[node_name]: generate\n",
      "[node_chunk]:\n",
      " {'generation': '삼성전자가 공개한 생성 AI 모델 ‘삼성 가우스’는 언어, 코드, 이미지의 3개 모델로 구성되어 있으며, 온디바이스에서 작동하도록 설계되어 사용자 정보 유출 위험이 없다. 이 모델은 2023년 11월 8일 ‘삼성 AI 포럼 2023’에서 처음 공개되었다.\\n\\n**Source**\\n- data/SPRI_AI_Brief_2023년12월호_F.pdf (page 12)'}\n"
     ]
    }
   ],
   "source": [
    "config = RunnableConfig(                        # config 설정\n",
    "    recursion_limit=20,                         # 최대 20개의 노드까지 방문.\n",
    "    configurable={'thread_id': random_uuid()}   # thread_id 설정\n",
    ")\n",
    "\n",
    "inputs = GraphState(question='삼성전자가 개발한 생성형 AI 이름은?')\n",
    "\n",
    "for event in app.stream(inputs, config=config):\n",
    "    for node_name, node_chunk in event.items():\n",
    "        print('[node_name]:', node_name)\n",
    "        print('[node_chunk]:\\n', node_chunk)"
   ]
  },
  {
   "cell_type": "code",
   "execution_count": 50,
   "metadata": {},
   "outputs": [
    {
     "name": "stdout",
     "output_type": "stream",
     "text": [
      "\n",
      "==========================================================================================\n",
      "===== [ROUTE QUESTION] route_question() 함수 =====\n",
      "==== [ROUTE QUESTION TO WEB SEARCH] ====\n",
      "==========================================================================================\n",
      "\n",
      "\n",
      "==========================================================================================\n",
      "===== [WEB SEARCH] web_search() 함수 =====\n",
      "question: \n",
      "대구 동성로\n",
      "\n",
      "web_results: \n",
      "[{'title': '대구 동성로 가볼만한곳 실내 놀거리 맛집 포함 : 네이버 블로그', 'url': 'https://m.blog.naver.com/kyui1/223576188105', 'content': '첫 번째 대구 동성로 가볼만한곳은. 바로 더 현대 대구지점이랍니다. 시기마다 다양한 팝업도 진행되고. 특히 먹거리 구경하는 재미가 있어요. 3만 원 이상 1시간, 5만 원 이상 2시간, 10만 원 이상 3시간 동안은 무료 주차가. 가능하다고 하니 이 부분 참고하세요.', 'score': 0.6461259, 'raw_content': '블로그\\n\\n카테고리 이동\\n\\n\\n\\n\\n경상도 여행가 규이✈️\\n\\n대구 동성로 가볼만한곳 실내 놀거리 맛집 포함\\n\\n2024. 9. 8. 2:54\\n\\n대구에 거주하고 있는 분들이라면\\n\\n동성로 다들 한 번쯤은 들어보셨죠?\\n\\n\\u200b\\n\\n오늘 실내  놀거리를 포함해 맛집,\\n\\n카페까지 다양한 정보 알려드릴게요.\\n\\n대구 동성로 가볼만한곳\\n\\n동성로 실내 놀거리 포함\\n\\n\\u200b\\n\\n글, 사진: 규이\\n\\n\\u200b\\n\\n1. 더 현대 대구\\n\\n주소: 대구 중구 달구벌 대로 2077\\n\\n운영시간: 10:30-20:00 / 백화점 휴무일 휴무\\n\\n첫 번째 대구 동성로 가볼만한곳은\\n\\n바로 더 현대 대구지점이랍니다.\\n\\n\\u200b\\n\\n시기마다 다양한 팝업도 진행되고\\n\\n특히 먹거리 구경하는 재미가 있어요.\\n\\n\\u200b\\n\\n3만 원 이상 1시간, 5만 원 이상 2시간,\\n\\n10만 원 이상 3시간 동안은 무료 주차가\\n\\n가능하다고 하니 이 부분 참고하세요.\\n\\n\\u200b\\n\\n\\u200b\\n\\n\\u200b\\n\\n고민할 필요도 없이 지하 1층으로\\n\\n바로 이동해 먹거리를 둘러봤어요.\\n\\n\\u200b\\n\\n더운 날씨에는 시원하게, 추운 날씨에는\\n\\n따뜻하게 즐기기 좋고 동성로 실내 놀거리\\n\\n하면 빠질 수 없는 장소 중 하나인데요.\\n\\n\\u200b\\n\\n정말 수도 없이 많은 식당, 푸드코트,\\n\\n간식들까지 종류가 정말 다양했어요\\n\\n\\u200b\\n\\n취향에 맞춰서 음식을 선택할 수 있다는\\n\\n부분이 좋았고 특히나 곳곳을 둘러보다\\n\\n발견한 이 모찌가 신의 한 수였어요.\\n\\n\\u200b\\n\\n내용물도 알차고 맛있어서 어른들\\n\\n선물용으로도 좋을 것 같더라고요.\\n\\n\\u200b\\n\\n\\u200b\\n\\n\\u200b\\n\\n1층에는 히페리온의 속도라는\\n\\nAI 기반의 작품도 있더라고요.\\n\\n\\u200b\\n\\n인간화 되어가고 있는 기계들의\\n\\n입장을 대변하여 사람들과 대화를\\n\\n한다고 하는데 꽤나 흥미로웠어요.\\n\\n\\u200b\\n\\n실제 소통이 되는 게 신기했고 워낙\\n\\n외관부터 독특함을 자랑하는 작품이라\\n\\n같이 사진 찍기에도 제법 괜찮았어요.\\n\\n\\u200b\\n\\n히페리온의 속도는 9월 18일까지\\n\\n전시될 예정이니 참고하세요.\\n\\n\\u200b\\n\\n2. 오드피쉬\\n\\n주소: 대구 중앙대로 432-1\\n\\n운영시간: 매일 13:00-20:30\\n\\n대구 동성로 가볼만한곳을 찾는다면\\n\\n소품샵도 빠질 수 없다고 생각됩니다.\\n\\n\\u200b\\n\\n그중에서도 오늘은 개성 있는 소품을\\n\\n많이 취급하고 있는 곳을 알려드릴게요.\\n\\n\\u200b\\n\\n“오드피쉬”라는 매장인데 감성 넘치는\\n\\n외관에서 인물 사진 촬영은 선택이 아닌\\n\\n필수라고 이야기할 수 있겠어요.\\n\\n\\u200b\\n\\n\\u200b\\n\\n\\u200b\\n\\n아기자기한 매장 안에 은은한 노란\\n\\n조명들이 분위기를 한껏 올려줘요.\\n\\n\\u200b\\n\\n홈페이지도 함께 운영하고 있을 만큼\\n\\n귀여움에 진심인 매장이더라고요.\\n\\n\\u200b\\n\\n흔하지 않고 특색 있는 소품들 종류가\\n\\n많았고 트렌디함이 느껴지는 공간이라\\n\\n동성로 실내 놀거리로 한 번쯤은\\n\\n가볼 만한 공간이라고 생각됩니다.\\n\\n\\u200b\\n\\n3. 펀앤챌린지\\n\\n주소: 대구 중구 동성로 6길 61, 5층\\n\\n운영시간: 평일 12:00-22:00 / 주말 11:30-22:00\\n\\n입장료: 평일 21,000 / 주말 25,000\\n\\n원래 입장료는 주말, 평일 30,000원이지만\\n\\n12월 1일 까지는 할인이 진행되고 있어요.\\n\\n\\u200b\\n\\n스파크 랜드, 스파크 필드와 함께 올 데이 패스\\n\\n라는 패키지권도 있으니 참고하시면 되겠죠.\\n\\n\\u200b\\n\\n\\u200b\\n\\n\\u200b\\n\\n어디에서 쉽게 느껴볼 수 있는 공간은\\n\\n아니라고 자신 있게 이야기할 수 있어요.\\n\\n\\u200b\\n\\n놀이와 스포츠를 접목한 공간으로\\n\\n다양한 스포츠를 즐기면서 도전해\\n\\n볼 수 있는 매력적인 공간인데요.\\n\\n\\u200b\\n\\n가족 단위, 커플, 친구들 할 것 없이\\n\\n굵은 땀 방울 흘리면서 좋은 추억을\\n\\n만들어 볼 수 있는 장소인 것 같아요.\\n\\n\\u200b\\n\\n오픈한 지 얼마 되지 않았기도 하고\\n\\n앞으로 대구 동성로 가볼만한곳 하면\\n\\n빠지지 않고 떠오르는 장소가 될 것 같아요.\\n\\n\\u200b\\n\\n3. 공방\\n\\n주소: 대구 중구 중앙대로 413\\n\\n운영시간: 매일 09:00-18:00\\n\\n캐릭터 비누 체험 35,000 / 향수 체험 32,000\\n\\n동성로 가볼만한곳을 찾으시는 분들이라면\\n\\n매력적인 공방도 한번 즐겨보시면 어떨까요?\\n\\n\\u200b\\n\\n첫 번째는 호랑이 공방이라는 장소에요.\\n\\n귀여운 캐릭터 비누, 향수 만들기 체험까지\\n\\n한 공간에서 즐길 수 있다는 장점이 있어요.\\n\\n\\u200b\\n\\n\\u200b\\n\\n\\u200b\\n\\n공방의 매력이라고 한다면 사장님들의\\n\\n친절도가 상당히 중요하다고 생각되는데\\n\\n호랑이 공방 사장님 정말 친절하셨어요.\\n\\n\\u200b\\n\\n내부에 SNS 감성을 제대로 뽐낼 수 있는\\n\\n매력적인 포토존도 만들어져 있더라고요.\\n\\n\\u200b\\n\\n치명적인 귀여움을 자랑하는 캐릭터 비누는\\n\\n사용하기 아까워 관상용으로 즐기고 있어요.\\n\\n\\u200b\\n\\n\\u200b\\n\\n주소: 대구 중구 동성로 12길 3-10\\n\\n운영시간: 매일 11:00-20:00\\n\\n두 번째 공방은 “에프오엠”이라는 공간이에요.\\n\\n커플 반지 맞추기 안성맞춤이라 생각되고\\n\\n사장님이 맞춤 수업을 정말 잘해주셨어요.\\n\\n\\u200b\\n\\n무엇보다 귀여운 강아지 프렌치 불독이 있는데\\n\\n정말 귀엽고 순해서 강아지 좋아하시는 분들은\\n\\n쉽게 헤어 나오지 못하실 거니 각오하세요.\\n\\n\\u200b\\n\\n\\u200b\\n\\n\\u200b\\n\\n만들어진 커플 반지인데 너무 예쁘죠?\\n\\n원하는 디자인에 맞춰서 만들어볼 수 있고\\n\\n퀄리티가 정말 좋은 편이라서 흡족했어요.\\n\\n\\u200b\\n\\n친구들끼리 함께 우정 반지 만들기도 좋고\\n\\n커플분들은 서로 바꿔서 만들어 주는 시간을\\n\\n가진다면 조금 더 의미 있는 커플 반지가 되겠죠\\n\\n\\u200b\\n\\n4. 김광석 다시 그리기 길\\n\\n\\u200b\\n\\n동성로 메인 길목에서는 약 2km\\n\\n정도 떨어진 거리에 위치해 있어요.\\n\\n\\u200b\\n\\n포크 가수 김광석 님을 기리기 위해서\\n\\n만들어진 공간인데 그가 불렀던 노래 가사,\\n\\n이미지를 중심으로 꾸며져 있답니다.\\n\\n\\u200b\\n\\n방천 시장 옆 약 350m 정도의 짧은\\n\\n길목이지만 아직도 대중들에게 사랑받는\\n\\n가수 김광석 님을 기리며 산책하기 좋아요.\\n\\n\\u200b\\n\\n\\u200b\\n\\n\\u200b\\n\\n레트로함이 느껴지는 오락기, 곳곳에\\n\\n카페들도 있어서 쉬어가기 좋았어요.\\n\\n\\u200b\\n\\n조용히 산책하며 감성 넘치는 사진을\\n\\n찍기에도 좋고 특히나 밤에 방문하면\\n\\n조명이 켜져 더욱 운치 있는 장소가 되죠.\\n\\n\\u200b\\n\\n거창한 볼거리가 있는 건 아니지만\\n\\n전국 유일무이하고 대구에서만이 느낄 수\\n\\n있는 장소이기 때문에 추천드립니다.\\n\\n\\u200b\\n\\n5. 맛집\\n\\n주소: 대구 중구 달구벌 대로 2125-7\\n\\n운영시간: 매일 11:30-20:45 / 브레이크 타임 확인\\n\\n대구 동성로 가볼만한곳 찾는다면\\n\\n맛집도 소개를 해드리는 게 맞겠죠.\\n\\n첫 번째 맛집 디쉬업이에요.\\n\\n\\u200b\\n\\n반월당 근처 통신 골목에 있어 찾기 쉽고\\n\\n가게 분위기가 아기자기하고 깔끔해서\\n\\n데이트, 친구들하고 가기도 좋겠어요.\\n\\n\\u200b\\n\\n\\u200b\\n\\n\\u200b\\n\\n스테이크 트러플 리조또 17.8\\n\\n클래식 봉골레 파스타 12.8\\n\\n유린기 0.8\\n\\n\\u200b\\n\\n개인적으로 좋아하는 동성로 맛집이라\\n\\n벌써 몇 번이나 방문하고 소개 드려요.\\n\\n\\u200b\\n\\n리조또에서 나는 과하지 않는 트러플 향,\\n\\n스테이크도 넉넉해서 정말 좋았어요.\\n\\n\\u200b\\n\\n파스타는 다소 호불호가 갈릴 수 있을 것\\n\\n같은데 디쉬업만의 색깔이 담겨 있었고\\n\\n담백하고 자극적이지 않는 맛이 좋았어요.\\n\\n\\u200b\\n\\n유린기는 그냥 꼭 한번 드셔보세요.\\n\\n고기 너무 부드럽고 새콤, 매콤한 소스가\\n\\n정말 일품이라서 계속 들어가더라고요.\\n\\n\\u200b\\n\\n\\u200b\\n\\n주소: 대구 중구 중앙대로 398-1\\n\\n운영시간: 매일 11:30-21:30 / 15:30-17:00 브레이크 타임\\n\\n이미 너무나도 유명한 동성로 칸다소바인데\\n\\n단조로운 메뉴도 그렇고 여기 정말 현지인이\\n\\n추천하는 찐 맛집이라서 소개 드립니다.\\n\\n\\u200b\\n\\n특히나 방문할 때마다 마제 소바를 먹는데\\n\\n단골손님도 정말 많은 곳이고 식사 시간에\\n\\n맞춰 방문한다면 대기는 거의 필수였어요.\\n\\n\\u200b\\n\\n\\u200b\\n\\n\\u200b\\n\\n특히나 저는 항상 돼지껍데기를 추가해\\n\\n먹는데 쫀득하고 도톰한 껍데기가 식감의\\n\\n재미를 더 해주고 풍부한 맛을 느낄 수 있어요.\\n\\n\\u200b\\n\\n자극적인 비주얼이지만 짜지 않고 간이\\n\\n딱 맞아떨어지면서 묵직한 맛을 느낄 수\\n\\n있었고 마지막 밥 추가는 필수에요.\\n\\n\\u200b\\n\\n6. 카페\\n\\n주소: 대구 중구 동성로 4길 109\\n\\n운영시간: 매일 12:00-21:00\\n\\n카페도 대구 시내 동성로 가볼만한곳을\\n\\n생각한다면 떠오르지 않을 수 없는 부분이죠.\\n\\n\\u200b\\n\\n그중에서도 첫 번째 소개할 카페 “힙스”에요.\\n\\n넓지는 않지만 감각적인 인테리어에 편안한\\n\\n분위기가 좋았던 카페라 할 수 있어요.\\n\\n\\u200b\\n\\n\\u200b\\n\\n\\u200b\\n\\n곳곳에 보이는 소품들과 벽면에 붙은\\n\\n포스터들은 이곳만의 색깔을 보여줘요.\\n\\n\\u200b\\n\\n\\u200b\\n\\n\\u200b\\n\\n특히나 힙스의 독보적인 매력이라고 하면\\n\\n후르츠 산도를 먹어 볼 수 있다는 점인데\\n\\n상큼한 과일, 크림이 조화롭게 어우러져\\n\\n기분 좋은 산뜻한 맛을 느낄 수 있답니다.\\n\\n\\u200b\\n\\n\\u200b\\n\\n주소: 대구 중구 달구벌 대로 2113-2\\n\\n운영시간: 매일 12:00-22:00 / 화요일 12:00-21:00\\n\\n대구 동성로 가볼만한곳 마지막 추천은\\n\\n감성 카페 글루미로 마무리해 볼게요.\\n\\n\\u200b\\n\\n감성의 끝판왕이라고 말씀을 드려도\\n\\n손색없을 것 같은 내부 인테리어에요.\\n\\n\\u200b\\n\\n화사한 느낌이라기보다는 조금 어두운\\n\\n편이었고 잔잔한 인디음악 들으면서\\n\\n지친 마음을 달래 주는 공간 같아요.\\n\\n\\u200b\\n\\n\\u200b\\n\\n\\u200b\\n\\n다만 내부에 앉을 수 있는 테이블이 많지\\n\\n않았다는 점은 아쉬움으로 남는듯한데\\n\\n규모가 컸다면 이런 감성이 안 나왔겠죠.\\n\\n\\u200b\\n\\n개인적으로 낮 시간보다는 저녁 시간에\\n\\n높은 가치를 보여주는 글루미인 것 같아요.\\n\\n\\u200b\\n\\n\\u200b\\n\\n\\u200b\\n\\n작은 루프탑이 하나 있는데 번잡한\\n\\n대구 시내 도로가에서 달리는 차들을\\n\\n보면서 하루를 마무리하기 좋더라고요.\\n\\n\\u200b\\n\\n복잡한 도시 속도와 현대적인 감각을\\n\\n몸소 직접 느껴 볼 수 있다고 할까요?\\n\\n\\u200b\\n\\n마무리\\n\\n\\u200b\\n\\n현지인으로서 대구 동성로는 정말\\n\\n셀 수 없을 정도로 많이 방문했어요.\\n\\n\\u200b\\n\\n실내 놀거리, 맛집, 카페까지 참고 정도\\n\\n하셔서 즐거운 시간 보내시기를 바랄게요.\\n\\n대구광역시 중구 동성로6길 61 5층\\n\\n대구광역시 중구 중앙대로 432-1\\n\\n대구광역시 중구 중앙대로 398-1\\n\\n대구광역시 중구 달구벌대로 2113-2\\n\\n대구광역시 중구 달구벌대로 2077 더현대 대구\\n\\n카테고리\\n\\n'}, {'title': '대구 동성로 놀거리 가득한 가볼만한곳들 한번에 정리 끝! : 네이버 블로그', 'url': 'https://m.blog.naver.com/seouldatepop/222753244882', 'content': '화려한 조명이 대구를 비추네 스파크랜드 는 대구 동성로 가볼만한곳하면 가장 먼저 떠오르는 랜드마크 에요. 대관람차를 비롯해 다양한 놀이시설이 있는 테마파크 에요. 스파크랜드는 낮에 가도 좋지만 저희는 밤에 가는걸 더 좋아해요.', 'score': 0.5637388, 'raw_content': \"블로그\\n\\n카테고리 이동\\n\\n\\n\\n\\n데이트팝\\n\\n대구 동성로 놀거리 가득한 가볼만한곳들 한번에 정리\\x08끝!\\n\\n2022. 5. 31. 13:40\\n\\n동성로 재밌게 노는 법 총정리\\n\\n\\u200b\\n\\n대구 커플의 '단골 데이트 동네'하면 동성로가 가장 먼저 떠올라요. 하도 많이 다니다보니 동성로에서 할게 없는게 친구 커플의 고민이래요. 하지만 저희는 그런 고민 1도 없어요. 동성로의 숨겨진 데이트 맛집을 찾아다니느라 지겨울 틈이 없거든요.\\n\\n\\u200b\\n\\n친구한테도 안 알려준 저희 커플의 대구 동성로 가볼만한곳 비결, 대구 동성로 놀거리 BEST8로 정리했어요!\\n\\n반짝반짝★ 대구가 빛나는 이유 지금 알려줌~!\\n\\n제 기준 대구는 가장 빛나는 도시에요. 제 고향에 애정이 많은 것도 있지만 야경, 조명 등이 또 예쁜 도시거든요. 이번에 모모랑 대구의 가장 빛나는 곳을 찾아보기로 했어요. 제가 생각하는 대구의 가장 반짝이는 곳은 스파크랜드인데요. 모모는 가장 반짝이는 곳으로 의외의 장소를 찾아왔답니다.\\n\\n\\u200b\\n\\n1. 스파크랜드\\n\\n화려한 조명이 대구를 비추네\\n\\n\\u200b\\n\\n스파크랜드는 대구 동성로 가볼만한곳하면 가장 먼저 떠오르는 랜드마크에요. 대관람차를 비롯해 다양한 놀이시설이 있는 테마파크에요. 스파크랜드는 낮에 가도 좋지만 저희는 밤에 가는걸 더 좋아해요. 화려한 조명이 분위기를 한층 업! 시켜주거든요. 저희는 네이버 할인가로 big2(9,000원) 이용권을 구매했어요. 같은 건물 아랫층에서 식사를 하고 대관람차가 있는 9층으로 갔어요. 물론 9층 외에도 실내 볼링장, 롤러장 등 다양한 놀이시설이 있고 대관람차 옆에는 바이킹 등 놀이기구가 있어요.\\n\\n대관람차를 타기 전 같은 층에 있는 회전목마도 탔어요. 같은 공간 오락실에 모모가 자꾸 눈독을 들이는거에요. 입장마감 9시가 다가오니.. 모모를 끌고 대관람차로 향했어요. 기본적으로 스파크랜드의 조명이 화려하기 때문에 대관람차에서 보는 야경도 화려하고 로맨틱했어요. 투명 바닥\\x08때문에 발밑으로 귀여운 차들이 돌아다는 것도 보였어요. 모모랑 꽁냥대다보니 10분이 후딱 지나가버렸어요. 또 탈까 했는데 입장시간이 마감되었대요. 아쉬운 마음에 근처 벽화와 네온사인에서 사진이라도 남겼어요.\\n\\n대구광역시 중구 동성로6길 61\\n\\n\\u200b\\n\\n2. 글레어\\n\\n뚜껑 열리는 와인바는 처음이지?\\n\\n\\u200b\\n\\n글레어는 스파크랜드 관람차 뷰의 핫한 와인바에요. 제 친구 생일 파티로 갔다가 좋길래 모모를 데려갔어요. 친구 생일파티는 1월이라 천장이 닫혀 있었는데요. 이번엔 날씨가 좋아서인지 천장이 오픈되어 있었어요. 대관람차가 더 반짝이게 보이고 살랑살랑 바람이 불어 야외 테라스에 온 기분이었어요. 힙한 분위기에 사진이 빠질 수가 없죠? 와인이 나오기도 전에 거울샷, 전신샷, 상반신샷, 셀카 총 100장 깔끔하게 클리어해주었어요.\\n\\n모모랑 수다 떨고 있는데 뒷자리에서 갑자기 폭죽소리가 들렸어요. 글레어는 생일에 방문하면 폭죽초를 활용한 신박한 생일파티를 해주거든요. 저는 친구 생일에서도 봤던 풍경이라 그려러니 했는데 모모는 놀랐나봐요. 이번 자기 생일에는 꼭 폭죽초를 하자며, 노래를 부르고 있어요. 다른 후기에서 보니 10만원 이상의 와인을 주문했을때 폭죽초 이벤트를 해주는거 같아요. 오키 접수! 모모는 폭죽초, 저는 관람차 인생샷. 우리 둘의 니즈를 모두 충족할 수 있겠어요.\\n\\n대구광역시 중구 동성로3길 58-9 4층\\n\\n\\u200b\\n\\n3. 그리니공방\\n\\n등잔 밑도 두번 보자\\n\\n\\u200b\\n\\n모모가 대구의 가장 반짝이는 대구 동성로 가볼만한곳은 영롱하고 빈티지한 매력의 스테인드글라스 소품을 만들 수 있는 원데이 클래스 공방 그리니공방이에요. 데이트팝을 보다가 팝딜을 발견하고 바로 예약했대요. 저희가 예약한 클래스는 스테인드글라스 썬캐쳐 수업이에요. 딱 친구 생일선물로 주면 좋아할거 같았어요. 먼저 도안대로 유리를 재단했어요. 처음엔 유리를 다루는게 무서웠는데, 유리가 깨끗하게 잘릴때마다 은근 희열이 느껴지더라고요. 그라인더로 가는 작업까지 무사히 따라갔답니다.\\n\\n복병은 유리 조각을 땜질로 붙이는 조립작업이었어요. 한 조각을 잃어버려 멘붕이 왔거든요. 어떡하지 발만 동동 구르고 있었는데, 알고보니 제 휴대폰 밑에 깔려있던 거에요;; 완성한 작품은 밤에 조명 키고 보면 영롱보스 그 자체인데 동테이프를 두르니 빈티지한 느낌까지 난답니다. 친구가 좋아했음 좋겠어요. 평균 3시간 정도 소요된다는데 저희는 손이 느려 4시간 정도 걸렸어요. 뒤에 계획했던 카페는 못갔지만 성과물이 좋아 괜찮아요. 다음엔 제 방에 둘 조명도 만들어보고 싶어요.\\n\\n대구광역시 중구 남성로 4-1 2층\\n\\n\\u200b\\n\\n아니 벌써!? 시간가는줄 모르고 놀았다를 방금 겪었어~\\n\\n대구 동성로 놀거리는 시간 순삭은 기본, 2시간 커버까지 가능한게 얼마나 많은데요. 카페, 맛집 데이트에 지쳐 데이트팝을 찾아봤더니 재밌는 대구 동성로 가볼만한곳 가득이었어요. 더운 야외말고 시원한 실내에서 알차게 데이트했답니다.\\n\\n\\u200b\\n\\n4. 코드네임블랙\\n\\n우당탕탕 방탈출 도전기\\n\\n\\u200b\\n\\n코드네임블랙은 공포, 판타지, 19금 등 다양한 테마가 있는 방탈출 카페에요. 오감을 활용한 활동적인 테마가 많다는 후기에 모모의 호기심 발동이었어요. 저희는 둘 다 처음이라서 너무 무섭기만 할까봐 걱정되더라고요. 모모와 저 모두 귀신을 특히 무서워하거든요. 직원분께서 공포도는 낮으면서 활동성은 높은 스페이스 쉽 테마를 추천해주셨어요. 미래의 우주선에서 동면에 깨버린 주인공의 이야기래요. 과연 60분 안에 탈출할 수 있을지 긴장 100이었어요.\\n\\n생각보다 해결해야할 단서가 많아서 놀랐어요. 코난을 열심히 보았지만 만화와 실제는 역시 다른가봐요. 모모는 갑자기 나오는 안내 방송에 깜짝 놀라기도 했어요. 하지만 알파벳 단서로 힌트가 풀리기 시작하면서 게임에 점점 적응했어요. 나중엔 갑자기 등장한 물체에도 꿈쩍도 하지 않을 정도로요(모모는 여전히 무서워했지만). 뒤에 타임이 비어서 직원분께서 시간을 더 주셨어요. 덕분에 60분은 쪼오끔 넘었지만 탈출에 성공했어요! 팝딜로 할인까지 받아서 기분이 더 좋았던거 같아요.\\n\\n대구광역시 중구 동성로 25 지하2층\\n\\n\\u200b\\n\\n5. 미스터힐링\\n\\n잠시 천국 다녀오겠습니다\\n\\n\\u200b\\n\\n미스터힐링은 고급 안마의자에서 마사지와 휴식을 취할 수 있는 안마카페에요. 할머니댁에 있는 안마의자가 가끔 생각날때가 있는데요. 데이트팝에서 미스터힐링을 발견하고 얼마나 반가웠는지 몰라요. 모모는 안마의자가 처음이래요. 제가 한번 모모를 천국에 데려갔다 오려고요. 저희는 2인 프리미엄 바디케어 50분에 음료 2잔 이용권을 이용했어요. 안마 의자가 있는 곳은 산소까지 관리되어 꼭 쾌적한 숲 속에 있는 느낌인 대구 동성로 가볼만한곳이었어요.\\n\\n다른 사람들에게 제 얼굴이 찌뿌되는걸 안보여줬음 했는데, 의자별로 파티션이 있어서 다행이었어요. 최근 잠이 모자랐던 모모는 수면모드로 설정해줬더니 5분만에 곯아떨어졌어요. 저는 안마의자 단골 코스인 스트레칭 모드로 했어요. 요즘 과제 때문에 움츠러든 어깨가 쫙 펴지는게 엄청 시원했어요. 전날 꿀잠 잤지만, 저도 마사지의 노곤함은 피할 수 없었나봐요. 모모 말로는 제가 코고는 소리에 깼다고 하던데 1도 기억나지 않아요. 그렇게 저희는 무려 100분이나 있다 나왔답니다.\\n\\n대구광역시 중구 동성로5길 43\\n\\n\\u200b\\n\\n6. 호랑이공방\\n\\n여름이니까 관리해야죠\\n\\n\\u200b\\n\\n호랑이공방은 천연 재료로 향수와 캐릭터 비누를 만들 수 있는 대구 동성로 놀거리 공방이에요. 여름이니까 땀냄새 신경이 쓰여서 향수를 만들어보기로 했어요. 요즘 향수 클래스를 찾는 사람들이 많아졌나봐요. 의외로 예약이 꽉 차있었어요. 한 타임에 한 팀씩, 하루 딱 6팀만 받아서 예약이 필수에요. 향수는 오일을 베이스로 만들어지는데요. 60가지 오일을 조합해서 원하는 향을 만드는 식이었어요. 저는 두어개 맡았더니 코가 얼얼해서 무엇이 어떤 향인지 가늠이 안되더라고요.\\n\\n선생님께서 도와주셔서 여름과 어울리는 우디향의 향수를 만들기로 했어요. 스포이드로 양을 재어가며 조합하는게 과학 실험하는 기분이었어요. 향알못 모모에게는 데일리에서 쓰기 좋은 은은한 향을 추천해주셨어요. 향수는 알코올이 날아가고, 향이 안정적으로 조화되는 2주의 숙성 기간 이후 마음껏 사용하면 된대요. 저희는 1시간에서 1시간 반 정도 걸린거 같아요. 체감은 거의 10분컷이었는데 말이죠. 오전에 방문했는데 배꼽시계로 점심때가 되었다는걸 깨달았어요ㅎㅎ\\n\\n대구광역시 중구 중앙대로 413 3층 (대구광역시 중구 남일동 59-3)\\n\\n\\u200b\\n\\n\\u200b\\n\\n오늘 슬기로운 문화생활 좀 즐기러 가볼까??\\n\\n대구에서 문화생활을 하기 어렵다는 이야기는 옛날 말이에요. 요즘은 다양한 전시와 문화 공간이 생겨, 대구에서도 충분히 문화생활할 수 있거든요. 문화생활에 관심많은 모모가 부지런히 찾아서 다녀온 대구 동성로 놀거리 스팟을 정리해볼게요.\\n\\n\\u200b\\n\\n7. 동성로미술관\\n\\n인사해 내 남친 모흐야\\n\\n\\u200b\\n\\n동성로미술관은 이색 미술 체험을 할 수 있는 드로잉 카페에요. 스케치부터 색칠까지 전부 그리는게 아니라, 도안이 그려진 도화지에 색칠만 하면 되는, 어른이용 색칠공부랍니다. 똥손에게 가장 어려운 스케치가 없어서 훨씬 부담이 덜했어요. 그림 체험은 인당 19,000원이고 네이버로 편하게 예약했어요. 수십가지 도안 중 저는 디즈니 감성 물씬인 인어공주 도안을, 모모는 짱구 도안을 선택했어요. 도안 선택부터 서로의 성격이 나오는거 같아요.\\n\\n이젤 앞에서 그림을 그리니 진짜 화가가 된거 같았어요. 모모는 벌써 부캐까지 만들었어요. 앞으로 자기를 '모흐'라 불러달라나 뭐라나. 확실히 폰을 잠시 멀리하고 그림에만 집중하니 마음도 힐링되고 눈도 덜 피곤한 느낌이었어요. 요즘 폰을 너무 많이 봐서 눈이 늘 피곤했거든요. 도안 덕분에 힘 덜 들이고 만족스런 결과물을 얻을 수 있었고요. 수다쟁이 모모도 웬일로 입 꾹 다물고 그림에만 집중하더니 꽤 명작을 완성했어요. 직원분께서 잘 그렸다며 칭찬까지 해주셨어요. 제 남친 앞으로 모흐라 불러주세요.\\n\\n대구광역시 중구 동성로3길 68 4층\\n\\n\\u200b\\n\\n8. 향촌문화관\\n\\n천원으로 다녀오는 시간 여행\\n\\n\\u200b\\n\\n갑분 응팔에 빠진 모모가 향촌문화관을 찾아왔어요. 대구 근대 역사를 주제로 생활품과 풍경을 재현한 대구 동성로 놀거리에요. 문화관 건물은 이전에 상업은행으로 사용되었대요. 어쩐지 중앙로역 바로 앞에 있었는데도 연식이 있는 건물 외관 탓에 그동안 전시관이 있는줄 몰랐어요. 더 놀라운건 입장료가 무려 1,000원이라는 거에요. 천원으로 인생샷도 건지고 기본 한시간을 데이트할 수 있어요. 아쉽게도 1층 교복 대여는 코로나로 중단된 상태래요.\\n\\n향토문화관에서 모모의 눈을 사로잡은건 응팔의 봉황당과 비슷한 미성당, 황금당 등 7080st 금은방들이었어요. 저는 초등학생 때 친구들과 자주했던 말뚝박기 그림이 기억에 남아요. 말뚝박기하다 허리를 다쳤던 제 베프도 생각났어요. 넷플릭스 오징어 게임으로 더 유명한 땅따먹기 게임도 있었답니다. 이번엔 모모랑 데이트로 갔지만 엄빠를 모시고 와도 좋겠단 생각이 들어요. 운영시간은 9시-19시로 매주 월요일은 휴무에요.\\n\\n대구광역시 중구 중앙대로 449\\n\\n지금까지 모모와 다녀온 대구 동성로 놀거리 BEST8을 정리했어요. 골목 곳곳에 재밌는 놀거리가 숨겨져있어 보물찾기를 하는 기분이에요. 요즘 모모는 조금만 피곤해도 미스터힐링을 찾을 정도로 안마의자 덕후가 되었어요. 저는 코드네임블랙 방탈출에 또 도전하고 싶어요. 다음엔 공포 테마로 도전해볼까 모모?\\n\\n\\u200b\\n\\n데이트팝이 추천하는 또 다른 다양한 장소가 궁금하다면? 구글 플레이스토어, 앱스토어에서 지금 무료로 다운받으실 수 있어요!\\n\\n\\u200b\\n\\n카테고리\\n\\n\"}]\n",
      "\n",
      "[Document(metadata={'source': 'https://m.blog.naver.com/kyui1/223576188105'}, page_content='첫 번째 대구 동성로 가볼만한곳은. 바로 더 현대 대구지점이랍니다. 시기마다 다양한 팝업도 진행되고. 특히 먹거리 구경하는 재미가 있어요. 3만 원 이상 1시간, 5만 원 이상 2시간, 10만 원 이상 3시간 동안은 무료 주차가. 가능하다고 하니 이 부분 참고하세요.'), Document(metadata={'source': 'https://m.blog.naver.com/seouldatepop/222753244882'}, page_content='화려한 조명이 대구를 비추네 스파크랜드 는 대구 동성로 가볼만한곳하면 가장 먼저 떠오르는 랜드마크 에요. 대관람차를 비롯해 다양한 놀이시설이 있는 테마파크 에요. 스파크랜드는 낮에 가도 좋지만 저희는 밤에 가는걸 더 좋아해요.')]\n",
      "==========================================================================================\n",
      "\n",
      "[node_name]: web_search\n",
      "[node_chunk]:\n",
      " {'documents': [Document(metadata={'source': 'https://m.blog.naver.com/kyui1/223576188105'}, page_content='첫 번째 대구 동성로 가볼만한곳은. 바로 더 현대 대구지점이랍니다. 시기마다 다양한 팝업도 진행되고. 특히 먹거리 구경하는 재미가 있어요. 3만 원 이상 1시간, 5만 원 이상 2시간, 10만 원 이상 3시간 동안은 무료 주차가. 가능하다고 하니 이 부분 참고하세요.'), Document(metadata={'source': 'https://m.blog.naver.com/seouldatepop/222753244882'}, page_content='화려한 조명이 대구를 비추네 스파크랜드 는 대구 동성로 가볼만한곳하면 가장 먼저 떠오르는 랜드마크 에요. 대관람차를 비롯해 다양한 놀이시설이 있는 테마파크 에요. 스파크랜드는 낮에 가도 좋지만 저희는 밤에 가는걸 더 좋아해요.')]}\n",
      "\n",
      "==========================================================================================\n",
      "===== [GENERATE] generate() 함수 =====\n",
      "사용자 질문: 대구 동성로\n",
      "문서 검색 결과:\n",
      "[Document(metadata={'source': 'https://m.blog.naver.com/kyui1/223576188105'}, page_content='첫 번째 대구 동성로 가볼만한곳은. 바로 더 현대 대구지점이랍니다. 시기마다 다양한 팝업도 진행되고. 특히 먹거리 구경하는 재미가 있어요. 3만 원 이상 1시간, 5만 원 이상 2시간, 10만 원 이상 3시간 동안은 무료 주차가. 가능하다고 하니 이 부분 참고하세요.'), Document(metadata={'source': 'https://m.blog.naver.com/seouldatepop/222753244882'}, page_content='화려한 조명이 대구를 비추네 스파크랜드 는 대구 동성로 가볼만한곳하면 가장 먼저 떠오르는 랜드마크 에요. 대관람차를 비롯해 다양한 놀이시설이 있는 테마파크 에요. 스파크랜드는 낮에 가도 좋지만 저희는 밤에 가는걸 더 좋아해요.')]\n",
      "\n",
      "rag 실행 결과:\n",
      "대구 동성로에서 가볼 만한 곳으로는 '더 현대 대구'와 '스파크랜드'가 있습니다. 더 현대 대구는 다양한 팝업과 먹거리를 즐길 수 있으며, 3만 원 이상 구매 시 1시간, 5만 원 이상 시 2시간, 10만 원 이상 시 3시간 무료 주차가 가능합니다. 스파크랜드는 대관람차와 다양한 놀이시설이 있는 테마파크로, 특히 밤에 방문하기 좋습니다.\n",
      "\n",
      "**Source**\n",
      "- https://m.blog.naver.com/kyui1/223576188105\n",
      "- https://m.blog.naver.com/seouldatepop/222753244882\n",
      "\n",
      "==========================================================================================\n",
      "\n",
      "\n",
      "==========================================================================================\n",
      "===== [CHECK hallucination] hallucination_check() 함수 =====\n",
      "===== [평가 결과] =====\n",
      "yes\n",
      "===== [DECISION: GENERATION IS GROUNDED IN DOCUMENTS] =====\n",
      "no hallucination\n",
      "===== [GRADE GENERATED ANSWER vs QUESTION] =====\n",
      "==== [DECISION: GENERATED ANSWER ADDRESSES QUESTION] ====\n",
      "relevant\n",
      "==========================================================================================\n",
      "\n",
      "[node_name]: generate\n",
      "[node_chunk]:\n",
      " {'generation': \"대구 동성로에서 가볼 만한 곳으로는 '더 현대 대구'와 '스파크랜드'가 있습니다. 더 현대 대구는 다양한 팝업과 먹거리를 즐길 수 있으며, 3만 원 이상 구매 시 1시간, 5만 원 이상 시 2시간, 10만 원 이상 시 3시간 무료 주차가 가능합니다. 스파크랜드는 대관람차와 다양한 놀이시설이 있는 테마파크로, 특히 밤에 방문하기 좋습니다.\\n\\n**Source**\\n- https://m.blog.naver.com/kyui1/223576188105\\n- https://m.blog.naver.com/seouldatepop/222753244882\"}\n"
     ]
    }
   ],
   "source": [
    "config = RunnableConfig(                        # config 설정\n",
    "    recursion_limit=20,                         # 최대 20개의 노드까지 방문.\n",
    "    configurable={'thread_id': random_uuid()}   # thread_id 설정\n",
    ")\n",
    "\n",
    "inputs = GraphState(question='대구 동성로')\n",
    "\n",
    "for event in app.stream(inputs, config=config):\n",
    "    for node_name, node_chunk in event.items():\n",
    "        print('[node_name]:', node_name)\n",
    "        print('[node_chunk]:\\n', node_chunk)"
   ]
  }
 ],
 "metadata": {
  "kernelspec": {
   "display_name": "venv",
   "language": "python",
   "name": "python3"
  },
  "language_info": {
   "codemirror_mode": {
    "name": "ipython",
    "version": 3
   },
   "file_extension": ".py",
   "mimetype": "text/x-python",
   "name": "python",
   "nbconvert_exporter": "python",
   "pygments_lexer": "ipython3",
   "version": "3.11.9"
  }
 },
 "nbformat": 4,
 "nbformat_minor": 2
}
