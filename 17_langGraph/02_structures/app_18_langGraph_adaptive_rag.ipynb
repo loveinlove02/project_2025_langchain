{
 "cells": [
  {
   "cell_type": "code",
   "execution_count": 3,
   "metadata": {},
   "outputs": [],
   "source": [
    "from dotenv import load_dotenv\n",
    "import os\n",
    "\n",
    "load_dotenv(verbose=True)\n",
    "key = os.getenv('OPENAI_API_KEY')"
   ]
  },
  {
   "cell_type": "code",
   "execution_count": 4,
   "metadata": {},
   "outputs": [],
   "source": [
    "from langchain_openai import ChatOpenAI\n",
    "from langchain_core.prompts import ChatPromptTemplate\n",
    "from langchain_core.output_parsers import StrOutputParser\n",
    "\n",
    "from rag.pdf import PDFRetrievalChain\n",
    "from langchain_teddynote.tools.tavily import TavilySearch\n",
    "\n",
    "from typing import List, Literal\n",
    "from typing_extensions import TypedDict, Annotated\n",
    "from pydantic import BaseModel, Field\n",
    "from langchain_core.documents import Document"
   ]
  },
  {
   "cell_type": "code",
   "execution_count": 5,
   "metadata": {},
   "outputs": [],
   "source": [
    "class GraphState(TypedDict):\n",
    "    \"\"\"\n",
    "    그래프의 상태를 나타내는 데이터 모델\n",
    "\n",
    "    Attributes:\n",
    "        question: 질문\n",
    "        generation: LLM 생성된 답변\n",
    "        documents: 도큐먼트 리스트\n",
    "    \"\"\"\n",
    "\n",
    "    question: Annotated[str, \"User question\"]\n",
    "    generation: Annotated[str, \"LLM generated answer\"]\n",
    "    documents: Annotated[List[str], \"List of documents\"]"
   ]
  },
  {
   "cell_type": "code",
   "execution_count": 6,
   "metadata": {},
   "outputs": [],
   "source": [
    "state = GraphState(\n",
    "    question='삼성전자가 만든 생성형 AI 이름은?',\n",
    "    generation = '', \n",
    "    documents = []\n",
    ")"
   ]
  },
  {
   "cell_type": "markdown",
   "metadata": {},
   "source": [
    "### PDF 기반 문서 검색기 (Retrieval chain) 생성"
   ]
  },
  {
   "cell_type": "code",
   "execution_count": 7,
   "metadata": {},
   "outputs": [],
   "source": [
    "from rag.pdf import PDFRetrievalChain\n",
    "\n",
    "# PDF 문서를 로드\n",
    "pdf = PDFRetrievalChain(['data/SPRI_AI_Brief_2023년12월호_F.pdf']).create_chain()\n",
    "\n",
    "pdf_retriever = pdf.retriever       # retriever 생성\n",
    "pdf_chain = pdf.chain               # pdf retriever chain 생성"
   ]
  },
  {
   "cell_type": "markdown",
   "metadata": {},
   "source": [
    "### PDF 기반 문서 검색기 (Retrieval chain) : 사용자 질문에 대한 PDF 문서를 검색"
   ]
  },
  {
   "cell_type": "code",
   "execution_count": 8,
   "metadata": {},
   "outputs": [],
   "source": [
    "# 문서 검색 노드\n",
    "def retrieve(state: GraphState):\n",
    "    print('\\n==========================================================================================')\n",
    "    print(f\"🔄 [Node] 문서 검색 노드 🔄\")\n",
    "    \n",
    "    # 사용자 질문\n",
    "    question = state['question']        \n",
    "\n",
    "    # 문서 검색 (pdf_retriever 에 사용자 입력을 인자로 넣어서 문서를 검색)\n",
    "    documents = pdf_retriever.invoke(question)\n",
    "    \n",
    "    print(f'문서 검색 결과: ')\n",
    "    print('-------------------')\n",
    "    print(documents)\n",
    "    print('-------------------')\n",
    "    print('==========================================================================================\\n')\n",
    "    \n",
    "    return {'documents': documents}"
   ]
  },
  {
   "cell_type": "code",
   "execution_count": 9,
   "metadata": {},
   "outputs": [
    {
     "name": "stdout",
     "output_type": "stream",
     "text": [
      "\n",
      "==========================================================================================\n",
      "🔄 [Node] 문서 검색 노드 🔄\n",
      "문서 검색 결과: \n",
      "-------------------\n",
      "[Document(id='2be8b6fb-b31a-4729-b392-22770b9a366f', metadata={'source': 'data/SPRI_AI_Brief_2023년12월호_F.pdf', 'file_path': 'data/SPRI_AI_Brief_2023년12월호_F.pdf', 'page': 1, 'total_pages': 23, 'Author': 'dj', 'Creator': 'Hwp 2018 10.0.0.13462', 'Producer': 'Hancom PDF 1.3.0.542', 'CreationDate': \"D:20231208132838+09'00'\", 'ModDate': \"D:20231208132838+09'00'\", 'PDFVersion': '1.4'}, page_content='▹ 삼성전자, 자체 개발 생성 AI ‘삼성 가우스’ 공개 ···························································10\\n▹ 구글, 앤스로픽에 20억 달러 투자로 생성 AI 협력 강화 ················································11\\n▹ IDC, 2027년 AI 소프트웨어 매출 2,500억 달러 돌파 전망···········································12'), Document(id='e0c2c7c1-ce9f-4f28-9dad-049e0a0bb529', metadata={'source': 'data/SPRI_AI_Brief_2023년12월호_F.pdf', 'file_path': 'data/SPRI_AI_Brief_2023년12월호_F.pdf', 'page': 12, 'total_pages': 23, 'Author': 'dj', 'Creator': 'Hwp 2018 10.0.0.13462', 'Producer': 'Hancom PDF 1.3.0.542', 'CreationDate': \"D:20231208132838+09'00'\", 'ModDate': \"D:20231208132838+09'00'\", 'PDFVersion': '1.4'}, page_content='SPRi AI Brief |\\n2023-12월호\\n삼성전자, 자체 개발 생성 AI ‘삼성 가우스’ 공개\\nKEY Contents\\nn 삼성전자가 온디바이스에서 작동 가능하며 언어, 코드, 이미지의 3개 모델로 구성된 자체 개발 생성\\nAI 모델 ‘삼성 가우스’를 공개\\nn 삼성전자는 삼성 가우스를 다양한 제품에 단계적으로 탑재할 계획으로, 온디바이스 작동이 가능한\\n삼성 가우스는 외부로 사용자 정보가 유출될 위험이 없다는 장점을 보유\\n£언어, 코드, 이미지의 3개 모델로 구성된 삼성 가우스, 온디바이스 작동 지원'), Document(id='6924b616-aa84-4b6a-a4b5-b93ad942e9ee', metadata={'source': 'data/SPRI_AI_Brief_2023년12월호_F.pdf', 'file_path': 'data/SPRI_AI_Brief_2023년12월호_F.pdf', 'page': 12, 'total_pages': 23, 'Author': 'dj', 'Creator': 'Hwp 2018 10.0.0.13462', 'Producer': 'Hancom PDF 1.3.0.542', 'CreationDate': \"D:20231208132838+09'00'\", 'ModDate': \"D:20231208132838+09'00'\", 'PDFVersion': '1.4'}, page_content='£언어, 코드, 이미지의 3개 모델로 구성된 삼성 가우스, 온디바이스 작동 지원\\nn 삼성전자가 2023년 11월 8일 열린 ‘삼성 AI 포럼 2023’ 행사에서 자체 개발한 생성 AI 모델\\n‘삼성 가우스’를 최초 공개\\n∙ 정규분포 이론을 정립한 천재 수학자 가우스(Gauss)의 이름을 본뜬 삼성 가우스는 다양한 상황에\\n최적화된 크기의 모델 선택이 가능\\n∙ 삼성 가우스는 라이선스나 개인정보를 침해하지 않는 안전한 데이터를 통해 학습되었으며,\\n온디바이스에서 작동하도록 설계되어 외부로 사용자의 정보가 유출되지 않는 장점을 보유'), Document(id='a75f7e74-6ff4-4c59-8b99-f2e02ce228dd', metadata={'source': 'data/SPRI_AI_Brief_2023년12월호_F.pdf', 'file_path': 'data/SPRI_AI_Brief_2023년12월호_F.pdf', 'page': 12, 'total_pages': 23, 'Author': 'dj', 'Creator': 'Hwp 2018 10.0.0.13462', 'Producer': 'Hancom PDF 1.3.0.542', 'CreationDate': \"D:20231208132838+09'00'\", 'ModDate': \"D:20231208132838+09'00'\", 'PDFVersion': '1.4'}, page_content='어시스턴트를 적용한 구글 픽셀(Pixel)과 경쟁할 것으로 예상\\n☞ 출처 : 삼성전자, ‘삼성 AI 포럼’서 자체 개발 생성형 AI ‘삼성 가우스’ 공개, 2023.11.08.\\n삼성전자, ‘삼성 개발자 콘퍼런스 코리아 2023’ 개최, 2023.11.14.\\nTechRepublic, Samsung Gauss: Samsung Research Reveals Generative AI, 2023.11.08.\\n10'), Document(id='340ab211-d8c8-40c4-a4b5-85321a078668', metadata={'source': 'data/SPRI_AI_Brief_2023년12월호_F.pdf', 'file_path': 'data/SPRI_AI_Brief_2023년12월호_F.pdf', 'page': 18, 'total_pages': 23, 'Author': 'dj', 'Creator': 'Hwp 2018 10.0.0.13462', 'Producer': 'Hancom PDF 1.3.0.542', 'CreationDate': \"D:20231208132838+09'00'\", 'ModDate': \"D:20231208132838+09'00'\", 'PDFVersion': '1.4'}, page_content='<구글 딥마인드의 범용 AI 분류 프레임워크>\\n성능 특수 AI 예시 범용 AI 예시\\n0단계: AI 아님 계산기 소프트웨어, 컴파일러 아마존 메커니컬 터크\\n1단계: 신진(숙련되지 않은 인간) GOFAI(Good Old Fashioned Artificial Intelligence) 챗GPT, 바드, 라마2\\n스마트 스피커(애플 시리, 아마존 알렉사, 구글\\n2단계: 유능(숙련된 인간의 50% 이상) 미달성\\n어시스턴트), IBM 왓슨\\n3단계: 전문가(숙련된 인간의 90% 이상) 문법 교정기(그래머리), 생성 이미지 모델(달리2) 미달성'), Document(id='b7051f97-42d5-4f66-9da7-249639b8d9cd', metadata={'source': 'data/SPRI_AI_Brief_2023년12월호_F.pdf', 'file_path': 'data/SPRI_AI_Brief_2023년12월호_F.pdf', 'page': 12, 'total_pages': 23, 'Author': 'dj', 'Creator': 'Hwp 2018 10.0.0.13462', 'Producer': 'Hancom PDF 1.3.0.542', 'CreationDate': \"D:20231208132838+09'00'\", 'ModDate': \"D:20231208132838+09'00'\", 'PDFVersion': '1.4'}, page_content='처리를 지원\\n∙ 코드 모델 기반의 AI 코딩 어시스턴트 ‘코드아이(code.i)’는 대화형 인터페이스로 서비스를 제공하며\\n사내 소프트웨어 개발에 최적화\\n∙ 이미지 모델은 창의적인 이미지를 생성하고 기존 이미지를 원하는 대로 바꿀 수 있도록 지원하며\\n저해상도 이미지의 고해상도 전환도 지원\\nn IT 전문지 테크리퍼블릭(TechRepublic)은 온디바이스 AI가 주요 기술 트렌드로 부상했다며,\\n2024년부터 가우스를 탑재한 삼성 스마트폰이 메타의 라마(Llama)2를 탑재한 퀄컴 기기 및 구글'), Document(id='6ac9fa9b-f6eb-44aa-9823-cd539361545e', metadata={'source': 'data/SPRI_AI_Brief_2023년12월호_F.pdf', 'file_path': 'data/SPRI_AI_Brief_2023년12월호_F.pdf', 'page': 12, 'total_pages': 23, 'Author': 'dj', 'Creator': 'Hwp 2018 10.0.0.13462', 'Producer': 'Hancom PDF 1.3.0.542', 'CreationDate': \"D:20231208132838+09'00'\", 'ModDate': \"D:20231208132838+09'00'\", 'PDFVersion': '1.4'}, page_content='온디바이스에서 작동하도록 설계되어 외부로 사용자의 정보가 유출되지 않는 장점을 보유\\n∙ 삼성전자는 삼성 가우스를 활용한 온디바이스 AI 기술도 소개했으며, 생성 AI 모델을 다양한 제품에\\n단계적으로 탑재할 계획\\nn 삼성 가우스는 △텍스트를 생성하는 언어모델 △코드를 생성하는 코드 모델 △이미지를 생성하는\\n이미지 모델의 3개 모델로 구성\\n∙ 언어 모델은 클라우드와 온디바이스 대상 다양한 모델로 구성되며, 메일 작성, 문서 요약, 번역 업무의\\n처리를 지원'), Document(id='3961e8a3-52a5-4089-a800-ea62522c9a0f', metadata={'source': 'data/SPRI_AI_Brief_2023년12월호_F.pdf', 'file_path': 'data/SPRI_AI_Brief_2023년12월호_F.pdf', 'page': 11, 'total_pages': 23, 'Author': 'dj', 'Creator': 'Hwp 2018 10.0.0.13462', 'Producer': 'Hancom PDF 1.3.0.542', 'CreationDate': \"D:20231208132838+09'00'\", 'ModDate': \"D:20231208132838+09'00'\", 'PDFVersion': '1.4'}, page_content='제작을 포함\\nn 알리바바 클라우드는 급증하는 생성 AI 수요에 대응해 모델 개발과 애플리케이션 구축 절차를\\n간소화하는 올인원 AI 모델 구축 플랫폼 ‘젠AI(GenAI)’도 공개\\n∙ 이 플랫폼은 데이터 관리, 모델 배포와 평가, 신속한 엔지니어링을 위한 종합 도구 모음을 제공하여\\n다양한 기업들이 맞춤형 AI 모델을 한층 쉽게 개발할 수 있도록 지원\\n∙ 생성 AI 개발에 필요한 컴퓨팅과 데이터 처리 요구사항을 지원하기 위해 AI 플랫폼(PAI),\\n데이터베이스 솔루션, 컨테이너 서비스와 같은 클라우드 신제품도 발표'), Document(id='8343f4be-2f05-4dec-af17-f8ae6657c39d', metadata={'source': 'data/SPRI_AI_Brief_2023년12월호_F.pdf', 'file_path': 'data/SPRI_AI_Brief_2023년12월호_F.pdf', 'page': 1, 'total_pages': 23, 'Author': 'dj', 'Creator': 'Hwp 2018 10.0.0.13462', 'Producer': 'Hancom PDF 1.3.0.542', 'CreationDate': \"D:20231208132838+09'00'\", 'ModDate': \"D:20231208132838+09'00'\", 'PDFVersion': '1.4'}, page_content='▹ 빌 게이츠, AI 에이전트로 인한 컴퓨터 사용의 패러다임 변화 전망································13\\n▹ 유튜브, 2024년부터 AI 생성 콘텐츠 표시 의무화····························································14\\n3. 기술/연구\\n▹ 영국 과학혁신기술부, AI 안전 연구소 설립 발표······························································15'), Document(id='88879b05-2345-4264-9ae9-6035f506f068', metadata={'source': 'data/SPRI_AI_Brief_2023년12월호_F.pdf', 'file_path': 'data/SPRI_AI_Brief_2023년12월호_F.pdf', 'page': 7, 'total_pages': 23, 'Author': 'dj', 'Creator': 'Hwp 2018 10.0.0.13462', 'Producer': 'Hancom PDF 1.3.0.542', 'CreationDate': \"D:20231208132838+09'00'\", 'ModDate': \"D:20231208132838+09'00'\", 'PDFVersion': '1.4'}, page_content='만들었다고 오해할 소지가 있다고 지적\\n∙ 저작권법에 저촉되는 행위는 불공정 경쟁이나 기만행위에도 해당될 수 있으며, 창작자의 평판 악화,\\n저작물의 가치 저하나 개인정보 유출로 소비자에 상당한 피해를 초래 가능\\nn FTC는 일부 빅테크가 막대한 재원을 활용해 생성 AI 사용자의 이탈을 막고 저작권이 있는 상용\\n데이터에 대한 독점 라이선스를 확보해 시장 지배력을 더욱 강화할 수 있다는 우려도 제기\\n∙ 이와 관련 FTC는 아마존 AI 비서 ‘알렉사(Alexa)’와 스마트홈 보안 기기 ‘링(Ring)’이 소비자의 사적')]\n",
      "-------------------\n",
      "==========================================================================================\n",
      "\n"
     ]
    }
   ],
   "source": [
    "answer = retrieve(state)"
   ]
  },
  {
   "cell_type": "code",
   "execution_count": 10,
   "metadata": {},
   "outputs": [],
   "source": [
    "state['documents'] = answer['documents']"
   ]
  },
  {
   "cell_type": "code",
   "execution_count": 11,
   "metadata": {},
   "outputs": [
    {
     "data": {
      "text/plain": [
       "{'question': '삼성전자가 만든 생성형 AI 이름은?',\n",
       " 'generation': '',\n",
       " 'documents': [Document(id='2be8b6fb-b31a-4729-b392-22770b9a366f', metadata={'source': 'data/SPRI_AI_Brief_2023년12월호_F.pdf', 'file_path': 'data/SPRI_AI_Brief_2023년12월호_F.pdf', 'page': 1, 'total_pages': 23, 'Author': 'dj', 'Creator': 'Hwp 2018 10.0.0.13462', 'Producer': 'Hancom PDF 1.3.0.542', 'CreationDate': \"D:20231208132838+09'00'\", 'ModDate': \"D:20231208132838+09'00'\", 'PDFVersion': '1.4'}, page_content='▹ 삼성전자, 자체 개발 생성 AI ‘삼성 가우스’ 공개 ···························································10\\n▹ 구글, 앤스로픽에 20억 달러 투자로 생성 AI 협력 강화 ················································11\\n▹ IDC, 2027년 AI 소프트웨어 매출 2,500억 달러 돌파 전망···········································12'),\n",
       "  Document(id='e0c2c7c1-ce9f-4f28-9dad-049e0a0bb529', metadata={'source': 'data/SPRI_AI_Brief_2023년12월호_F.pdf', 'file_path': 'data/SPRI_AI_Brief_2023년12월호_F.pdf', 'page': 12, 'total_pages': 23, 'Author': 'dj', 'Creator': 'Hwp 2018 10.0.0.13462', 'Producer': 'Hancom PDF 1.3.0.542', 'CreationDate': \"D:20231208132838+09'00'\", 'ModDate': \"D:20231208132838+09'00'\", 'PDFVersion': '1.4'}, page_content='SPRi AI Brief |\\n2023-12월호\\n삼성전자, 자체 개발 생성 AI ‘삼성 가우스’ 공개\\nKEY Contents\\nn 삼성전자가 온디바이스에서 작동 가능하며 언어, 코드, 이미지의 3개 모델로 구성된 자체 개발 생성\\nAI 모델 ‘삼성 가우스’를 공개\\nn 삼성전자는 삼성 가우스를 다양한 제품에 단계적으로 탑재할 계획으로, 온디바이스 작동이 가능한\\n삼성 가우스는 외부로 사용자 정보가 유출될 위험이 없다는 장점을 보유\\n£언어, 코드, 이미지의 3개 모델로 구성된 삼성 가우스, 온디바이스 작동 지원'),\n",
       "  Document(id='6924b616-aa84-4b6a-a4b5-b93ad942e9ee', metadata={'source': 'data/SPRI_AI_Brief_2023년12월호_F.pdf', 'file_path': 'data/SPRI_AI_Brief_2023년12월호_F.pdf', 'page': 12, 'total_pages': 23, 'Author': 'dj', 'Creator': 'Hwp 2018 10.0.0.13462', 'Producer': 'Hancom PDF 1.3.0.542', 'CreationDate': \"D:20231208132838+09'00'\", 'ModDate': \"D:20231208132838+09'00'\", 'PDFVersion': '1.4'}, page_content='£언어, 코드, 이미지의 3개 모델로 구성된 삼성 가우스, 온디바이스 작동 지원\\nn 삼성전자가 2023년 11월 8일 열린 ‘삼성 AI 포럼 2023’ 행사에서 자체 개발한 생성 AI 모델\\n‘삼성 가우스’를 최초 공개\\n∙ 정규분포 이론을 정립한 천재 수학자 가우스(Gauss)의 이름을 본뜬 삼성 가우스는 다양한 상황에\\n최적화된 크기의 모델 선택이 가능\\n∙ 삼성 가우스는 라이선스나 개인정보를 침해하지 않는 안전한 데이터를 통해 학습되었으며,\\n온디바이스에서 작동하도록 설계되어 외부로 사용자의 정보가 유출되지 않는 장점을 보유'),\n",
       "  Document(id='a75f7e74-6ff4-4c59-8b99-f2e02ce228dd', metadata={'source': 'data/SPRI_AI_Brief_2023년12월호_F.pdf', 'file_path': 'data/SPRI_AI_Brief_2023년12월호_F.pdf', 'page': 12, 'total_pages': 23, 'Author': 'dj', 'Creator': 'Hwp 2018 10.0.0.13462', 'Producer': 'Hancom PDF 1.3.0.542', 'CreationDate': \"D:20231208132838+09'00'\", 'ModDate': \"D:20231208132838+09'00'\", 'PDFVersion': '1.4'}, page_content='어시스턴트를 적용한 구글 픽셀(Pixel)과 경쟁할 것으로 예상\\n☞ 출처 : 삼성전자, ‘삼성 AI 포럼’서 자체 개발 생성형 AI ‘삼성 가우스’ 공개, 2023.11.08.\\n삼성전자, ‘삼성 개발자 콘퍼런스 코리아 2023’ 개최, 2023.11.14.\\nTechRepublic, Samsung Gauss: Samsung Research Reveals Generative AI, 2023.11.08.\\n10'),\n",
       "  Document(id='340ab211-d8c8-40c4-a4b5-85321a078668', metadata={'source': 'data/SPRI_AI_Brief_2023년12월호_F.pdf', 'file_path': 'data/SPRI_AI_Brief_2023년12월호_F.pdf', 'page': 18, 'total_pages': 23, 'Author': 'dj', 'Creator': 'Hwp 2018 10.0.0.13462', 'Producer': 'Hancom PDF 1.3.0.542', 'CreationDate': \"D:20231208132838+09'00'\", 'ModDate': \"D:20231208132838+09'00'\", 'PDFVersion': '1.4'}, page_content='<구글 딥마인드의 범용 AI 분류 프레임워크>\\n성능 특수 AI 예시 범용 AI 예시\\n0단계: AI 아님 계산기 소프트웨어, 컴파일러 아마존 메커니컬 터크\\n1단계: 신진(숙련되지 않은 인간) GOFAI(Good Old Fashioned Artificial Intelligence) 챗GPT, 바드, 라마2\\n스마트 스피커(애플 시리, 아마존 알렉사, 구글\\n2단계: 유능(숙련된 인간의 50% 이상) 미달성\\n어시스턴트), IBM 왓슨\\n3단계: 전문가(숙련된 인간의 90% 이상) 문법 교정기(그래머리), 생성 이미지 모델(달리2) 미달성'),\n",
       "  Document(id='b7051f97-42d5-4f66-9da7-249639b8d9cd', metadata={'source': 'data/SPRI_AI_Brief_2023년12월호_F.pdf', 'file_path': 'data/SPRI_AI_Brief_2023년12월호_F.pdf', 'page': 12, 'total_pages': 23, 'Author': 'dj', 'Creator': 'Hwp 2018 10.0.0.13462', 'Producer': 'Hancom PDF 1.3.0.542', 'CreationDate': \"D:20231208132838+09'00'\", 'ModDate': \"D:20231208132838+09'00'\", 'PDFVersion': '1.4'}, page_content='처리를 지원\\n∙ 코드 모델 기반의 AI 코딩 어시스턴트 ‘코드아이(code.i)’는 대화형 인터페이스로 서비스를 제공하며\\n사내 소프트웨어 개발에 최적화\\n∙ 이미지 모델은 창의적인 이미지를 생성하고 기존 이미지를 원하는 대로 바꿀 수 있도록 지원하며\\n저해상도 이미지의 고해상도 전환도 지원\\nn IT 전문지 테크리퍼블릭(TechRepublic)은 온디바이스 AI가 주요 기술 트렌드로 부상했다며,\\n2024년부터 가우스를 탑재한 삼성 스마트폰이 메타의 라마(Llama)2를 탑재한 퀄컴 기기 및 구글'),\n",
       "  Document(id='6ac9fa9b-f6eb-44aa-9823-cd539361545e', metadata={'source': 'data/SPRI_AI_Brief_2023년12월호_F.pdf', 'file_path': 'data/SPRI_AI_Brief_2023년12월호_F.pdf', 'page': 12, 'total_pages': 23, 'Author': 'dj', 'Creator': 'Hwp 2018 10.0.0.13462', 'Producer': 'Hancom PDF 1.3.0.542', 'CreationDate': \"D:20231208132838+09'00'\", 'ModDate': \"D:20231208132838+09'00'\", 'PDFVersion': '1.4'}, page_content='온디바이스에서 작동하도록 설계되어 외부로 사용자의 정보가 유출되지 않는 장점을 보유\\n∙ 삼성전자는 삼성 가우스를 활용한 온디바이스 AI 기술도 소개했으며, 생성 AI 모델을 다양한 제품에\\n단계적으로 탑재할 계획\\nn 삼성 가우스는 △텍스트를 생성하는 언어모델 △코드를 생성하는 코드 모델 △이미지를 생성하는\\n이미지 모델의 3개 모델로 구성\\n∙ 언어 모델은 클라우드와 온디바이스 대상 다양한 모델로 구성되며, 메일 작성, 문서 요약, 번역 업무의\\n처리를 지원'),\n",
       "  Document(id='3961e8a3-52a5-4089-a800-ea62522c9a0f', metadata={'source': 'data/SPRI_AI_Brief_2023년12월호_F.pdf', 'file_path': 'data/SPRI_AI_Brief_2023년12월호_F.pdf', 'page': 11, 'total_pages': 23, 'Author': 'dj', 'Creator': 'Hwp 2018 10.0.0.13462', 'Producer': 'Hancom PDF 1.3.0.542', 'CreationDate': \"D:20231208132838+09'00'\", 'ModDate': \"D:20231208132838+09'00'\", 'PDFVersion': '1.4'}, page_content='제작을 포함\\nn 알리바바 클라우드는 급증하는 생성 AI 수요에 대응해 모델 개발과 애플리케이션 구축 절차를\\n간소화하는 올인원 AI 모델 구축 플랫폼 ‘젠AI(GenAI)’도 공개\\n∙ 이 플랫폼은 데이터 관리, 모델 배포와 평가, 신속한 엔지니어링을 위한 종합 도구 모음을 제공하여\\n다양한 기업들이 맞춤형 AI 모델을 한층 쉽게 개발할 수 있도록 지원\\n∙ 생성 AI 개발에 필요한 컴퓨팅과 데이터 처리 요구사항을 지원하기 위해 AI 플랫폼(PAI),\\n데이터베이스 솔루션, 컨테이너 서비스와 같은 클라우드 신제품도 발표'),\n",
       "  Document(id='8343f4be-2f05-4dec-af17-f8ae6657c39d', metadata={'source': 'data/SPRI_AI_Brief_2023년12월호_F.pdf', 'file_path': 'data/SPRI_AI_Brief_2023년12월호_F.pdf', 'page': 1, 'total_pages': 23, 'Author': 'dj', 'Creator': 'Hwp 2018 10.0.0.13462', 'Producer': 'Hancom PDF 1.3.0.542', 'CreationDate': \"D:20231208132838+09'00'\", 'ModDate': \"D:20231208132838+09'00'\", 'PDFVersion': '1.4'}, page_content='▹ 빌 게이츠, AI 에이전트로 인한 컴퓨터 사용의 패러다임 변화 전망································13\\n▹ 유튜브, 2024년부터 AI 생성 콘텐츠 표시 의무화····························································14\\n3. 기술/연구\\n▹ 영국 과학혁신기술부, AI 안전 연구소 설립 발표······························································15'),\n",
       "  Document(id='88879b05-2345-4264-9ae9-6035f506f068', metadata={'source': 'data/SPRI_AI_Brief_2023년12월호_F.pdf', 'file_path': 'data/SPRI_AI_Brief_2023년12월호_F.pdf', 'page': 7, 'total_pages': 23, 'Author': 'dj', 'Creator': 'Hwp 2018 10.0.0.13462', 'Producer': 'Hancom PDF 1.3.0.542', 'CreationDate': \"D:20231208132838+09'00'\", 'ModDate': \"D:20231208132838+09'00'\", 'PDFVersion': '1.4'}, page_content='만들었다고 오해할 소지가 있다고 지적\\n∙ 저작권법에 저촉되는 행위는 불공정 경쟁이나 기만행위에도 해당될 수 있으며, 창작자의 평판 악화,\\n저작물의 가치 저하나 개인정보 유출로 소비자에 상당한 피해를 초래 가능\\nn FTC는 일부 빅테크가 막대한 재원을 활용해 생성 AI 사용자의 이탈을 막고 저작권이 있는 상용\\n데이터에 대한 독점 라이선스를 확보해 시장 지배력을 더욱 강화할 수 있다는 우려도 제기\\n∙ 이와 관련 FTC는 아마존 AI 비서 ‘알렉사(Alexa)’와 스마트홈 보안 기기 ‘링(Ring)’이 소비자의 사적')]}"
      ]
     },
     "execution_count": 11,
     "metadata": {},
     "output_type": "execute_result"
    }
   ],
   "source": [
    "state"
   ]
  },
  {
   "cell_type": "markdown",
   "metadata": {},
   "source": [
    "### 답변 생성을 위한 RAG 체인"
   ]
  },
  {
   "cell_type": "code",
   "execution_count": 12,
   "metadata": {},
   "outputs": [],
   "source": [
    "from langchain_core.output_parsers import StrOutputParser\n",
    "from langchain_openai import ChatOpenAI\n",
    "from langchain import hub\n",
    "\n",
    "# prompt = hub.pull(\"teddynote/rag-prompt\")\n",
    "\n",
    "template = \"\"\"You are an AI assistant specializing in Question-Answering (QA) tasks within a Retrieval-Augmented Generation (RAG) system. \n",
    "Your primary mission is to answer questions based on provided context or chat history.\n",
    "Ensure your response is concise and directly addresses the question without any additional narration.\n",
    "\n",
    "###\n",
    "\n",
    "Your final answer should be written concisely (but include important numerical values, technical terms, jargon, and names), followed by the source of the information.\n",
    "\n",
    "# Steps\n",
    "\n",
    "1. Carefully read and understand the context provided.\n",
    "2. Identify the key information related to the question within the context.\n",
    "3. Formulate a concise answer based on the relevant information.\n",
    "4. Ensure your final answer directly addresses the question.\n",
    "5. List the source of the answer in bullet points, which must be a file name (with a page number) or URL from the context. Omit if the source cannot be found.\n",
    "\n",
    "# Output Format:\n",
    "[Your final answer here, with numerical values, technical terms, jargon, and names in their original language]\n",
    "\n",
    "**Source**(Optional)\n",
    "- (Source of the answer, must be a file name(with a page number) or URL from the context. Omit if you can't find the source of the answer.)\n",
    "- (list more if there are multiple sources)\n",
    "- ...\n",
    "\n",
    "###\n",
    "\n",
    "Remember:\n",
    "- It's crucial to base your answer solely on the **PROVIDED CONTEXT**. \n",
    "- DO NOT use any external knowledge or information not present in the given materials.\n",
    "- If you can't find the source of the answer, you should answer that you don't know.\n",
    "\n",
    "###\n",
    "\n",
    "# Here is the user's QUESTION that you should answer:\n",
    "{question}\n",
    "\n",
    "# Here is the CONTEXT that you should use to answer the question:\n",
    "{context}\n",
    "\n",
    "# Your final ANSWER to the user's QUESTION:\"\"\"\n",
    "\n",
    "prompt = ChatPromptTemplate.from_template(template)\n",
    "\n",
    "llm = ChatOpenAI(\n",
    "    api_key=key, \n",
    "    model='gpt-4o-mini', \n",
    "    temperature=0\n",
    ")\n",
    "\n",
    "def format_docs(docs):\n",
    "    return \"\\n\\n\".join(\n",
    "        [\n",
    "            f'<document><content>{doc.page_content}</content><source>{doc.metadata[\"source\"]}</source><page>{doc.metadata[\"page\"]+1}</page></document>'\n",
    "            for doc in docs\n",
    "        ]\n",
    "    )\n",
    "\n",
    "output_parser = StrOutputParser()\n",
    "\n",
    "# RAG 체인 생성 (pdf_retriever 문서 검색기를 사용해서 얻은 문서와 사용자 질문을 넣어서 결과)\n",
    "rag_chain = prompt | llm | output_parser"
   ]
  },
  {
   "cell_type": "code",
   "execution_count": 13,
   "metadata": {},
   "outputs": [
    {
     "name": "stdout",
     "output_type": "stream",
     "text": [
      "question: 삼성전자가 만든 생성형 AI 이름은?\n",
      "format_docs(docs): <document><content>▹ 삼성전자, 자체 개발 생성 AI ‘삼성 가우스’ 공개 ···························································10\n",
      "▹ 구글, 앤스로픽에 20억 달러 투자로 생성 AI 협력 강화 ················································11\n",
      "▹ IDC, 2027년 AI 소프트웨어 매출 2,500억 달러 돌파 전망···········································12</content><source>data/SPRI_AI_Brief_2023년12월호_F.pdf</source><page>2</page></document>\n",
      "\n",
      "<document><content>SPRi AI Brief |\n",
      "2023-12월호\n",
      "삼성전자, 자체 개발 생성 AI ‘삼성 가우스’ 공개\n",
      "KEY Contents\n",
      "n 삼성전자가 온디바이스에서 작동 가능하며 언어, 코드, 이미지의 3개 모델로 구성된 자체 개발 생성\n",
      "AI 모델 ‘삼성 가우스’를 공개\n",
      "n 삼성전자는 삼성 가우스를 다양한 제품에 단계적으로 탑재할 계획으로, 온디바이스 작동이 가능한\n",
      "삼성 가우스는 외부로 사용자 정보가 유출될 위험이 없다는 장점을 보유\n",
      "£언어, 코드, 이미지의 3개 모델로 구성된 삼성 가우스, 온디바이스 작동 지원</content><source>data/SPRI_AI_Brief_2023년12월호_F.pdf</source><page>13</page></document>\n",
      "\n",
      "<document><content>£언어, 코드, 이미지의 3개 모델로 구성된 삼성 가우스, 온디바이스 작동 지원\n",
      "n 삼성전자가 2023년 11월 8일 열린 ‘삼성 AI 포럼 2023’ 행사에서 자체 개발한 생성 AI 모델\n",
      "‘삼성 가우스’를 최초 공개\n",
      "∙ 정규분포 이론을 정립한 천재 수학자 가우스(Gauss)의 이름을 본뜬 삼성 가우스는 다양한 상황에\n",
      "최적화된 크기의 모델 선택이 가능\n",
      "∙ 삼성 가우스는 라이선스나 개인정보를 침해하지 않는 안전한 데이터를 통해 학습되었으며,\n",
      "온디바이스에서 작동하도록 설계되어 외부로 사용자의 정보가 유출되지 않는 장점을 보유</content><source>data/SPRI_AI_Brief_2023년12월호_F.pdf</source><page>13</page></document>\n",
      "\n",
      "<document><content>어시스턴트를 적용한 구글 픽셀(Pixel)과 경쟁할 것으로 예상\n",
      "☞ 출처 : 삼성전자, ‘삼성 AI 포럼’서 자체 개발 생성형 AI ‘삼성 가우스’ 공개, 2023.11.08.\n",
      "삼성전자, ‘삼성 개발자 콘퍼런스 코리아 2023’ 개최, 2023.11.14.\n",
      "TechRepublic, Samsung Gauss: Samsung Research Reveals Generative AI, 2023.11.08.\n",
      "10</content><source>data/SPRI_AI_Brief_2023년12월호_F.pdf</source><page>13</page></document>\n",
      "\n",
      "<document><content><구글 딥마인드의 범용 AI 분류 프레임워크>\n",
      "성능 특수 AI 예시 범용 AI 예시\n",
      "0단계: AI 아님 계산기 소프트웨어, 컴파일러 아마존 메커니컬 터크\n",
      "1단계: 신진(숙련되지 않은 인간) GOFAI(Good Old Fashioned Artificial Intelligence) 챗GPT, 바드, 라마2\n",
      "스마트 스피커(애플 시리, 아마존 알렉사, 구글\n",
      "2단계: 유능(숙련된 인간의 50% 이상) 미달성\n",
      "어시스턴트), IBM 왓슨\n",
      "3단계: 전문가(숙련된 인간의 90% 이상) 문법 교정기(그래머리), 생성 이미지 모델(달리2) 미달성</content><source>data/SPRI_AI_Brief_2023년12월호_F.pdf</source><page>19</page></document>\n",
      "\n",
      "<document><content>처리를 지원\n",
      "∙ 코드 모델 기반의 AI 코딩 어시스턴트 ‘코드아이(code.i)’는 대화형 인터페이스로 서비스를 제공하며\n",
      "사내 소프트웨어 개발에 최적화\n",
      "∙ 이미지 모델은 창의적인 이미지를 생성하고 기존 이미지를 원하는 대로 바꿀 수 있도록 지원하며\n",
      "저해상도 이미지의 고해상도 전환도 지원\n",
      "n IT 전문지 테크리퍼블릭(TechRepublic)은 온디바이스 AI가 주요 기술 트렌드로 부상했다며,\n",
      "2024년부터 가우스를 탑재한 삼성 스마트폰이 메타의 라마(Llama)2를 탑재한 퀄컴 기기 및 구글</content><source>data/SPRI_AI_Brief_2023년12월호_F.pdf</source><page>13</page></document>\n",
      "\n",
      "<document><content>온디바이스에서 작동하도록 설계되어 외부로 사용자의 정보가 유출되지 않는 장점을 보유\n",
      "∙ 삼성전자는 삼성 가우스를 활용한 온디바이스 AI 기술도 소개했으며, 생성 AI 모델을 다양한 제품에\n",
      "단계적으로 탑재할 계획\n",
      "n 삼성 가우스는 △텍스트를 생성하는 언어모델 △코드를 생성하는 코드 모델 △이미지를 생성하는\n",
      "이미지 모델의 3개 모델로 구성\n",
      "∙ 언어 모델은 클라우드와 온디바이스 대상 다양한 모델로 구성되며, 메일 작성, 문서 요약, 번역 업무의\n",
      "처리를 지원</content><source>data/SPRI_AI_Brief_2023년12월호_F.pdf</source><page>13</page></document>\n",
      "\n",
      "<document><content>제작을 포함\n",
      "n 알리바바 클라우드는 급증하는 생성 AI 수요에 대응해 모델 개발과 애플리케이션 구축 절차를\n",
      "간소화하는 올인원 AI 모델 구축 플랫폼 ‘젠AI(GenAI)’도 공개\n",
      "∙ 이 플랫폼은 데이터 관리, 모델 배포와 평가, 신속한 엔지니어링을 위한 종합 도구 모음을 제공하여\n",
      "다양한 기업들이 맞춤형 AI 모델을 한층 쉽게 개발할 수 있도록 지원\n",
      "∙ 생성 AI 개발에 필요한 컴퓨팅과 데이터 처리 요구사항을 지원하기 위해 AI 플랫폼(PAI),\n",
      "데이터베이스 솔루션, 컨테이너 서비스와 같은 클라우드 신제품도 발표</content><source>data/SPRI_AI_Brief_2023년12월호_F.pdf</source><page>12</page></document>\n",
      "\n",
      "<document><content>▹ 빌 게이츠, AI 에이전트로 인한 컴퓨터 사용의 패러다임 변화 전망································13\n",
      "▹ 유튜브, 2024년부터 AI 생성 콘텐츠 표시 의무화····························································14\n",
      "3. 기술/연구\n",
      "▹ 영국 과학혁신기술부, AI 안전 연구소 설립 발표······························································15</content><source>data/SPRI_AI_Brief_2023년12월호_F.pdf</source><page>2</page></document>\n",
      "\n",
      "<document><content>만들었다고 오해할 소지가 있다고 지적\n",
      "∙ 저작권법에 저촉되는 행위는 불공정 경쟁이나 기만행위에도 해당될 수 있으며, 창작자의 평판 악화,\n",
      "저작물의 가치 저하나 개인정보 유출로 소비자에 상당한 피해를 초래 가능\n",
      "n FTC는 일부 빅테크가 막대한 재원을 활용해 생성 AI 사용자의 이탈을 막고 저작권이 있는 상용\n",
      "데이터에 대한 독점 라이선스를 확보해 시장 지배력을 더욱 강화할 수 있다는 우려도 제기\n",
      "∙ 이와 관련 FTC는 아마존 AI 비서 ‘알렉사(Alexa)’와 스마트홈 보안 기기 ‘링(Ring)’이 소비자의 사적</content><source>data/SPRI_AI_Brief_2023년12월호_F.pdf</source><page>8</page></document>\n"
     ]
    }
   ],
   "source": [
    "# RAG 체인에 질문을 전달하여 답변 생성 테스트\n",
    "print(f\"question: {state['question']}\")\n",
    "print(f\"format_docs(docs): {format_docs(state['documents'])}\")"
   ]
  },
  {
   "cell_type": "code",
   "execution_count": 14,
   "metadata": {},
   "outputs": [
    {
     "data": {
      "text/plain": [
       "\"삼성전자가 만든 생성형 AI의 이름은 '삼성 가우스'입니다.\\n\\n**Source**\\n- data/SPRI_AI_Brief_2023년12월호_F.pdf (page 13)\""
      ]
     },
     "execution_count": 14,
     "metadata": {},
     "output_type": "execute_result"
    }
   ],
   "source": [
    "generation = rag_chain.invoke({'context': format_docs(state['documents']), 'question': state['question']})\n",
    "generation"
   ]
  },
  {
   "cell_type": "markdown",
   "metadata": {},
   "source": [
    "### 답변 생성을 위한 RAG 체인을 실행하여 사용자 질문에 대한 답변을 생성하는 노드"
   ]
  },
  {
   "cell_type": "code",
   "execution_count": 15,
   "metadata": {},
   "outputs": [],
   "source": [
    "# 답변 생성 노드\n",
    "def generate(state: GraphState):\n",
    "    print('\\n==========================================================================================')\n",
    "    print('🔄 [Node] 답변 생성 노드 🔄')\n",
    "\n",
    "    # 사용자 질문\n",
    "    question = state['question']  \n",
    "\n",
    "    # 문서 검색 결과\n",
    "    documents = state['documents']\n",
    "\n",
    "    # RAG 실행 결과\n",
    "    generation = rag_chain.invoke({'context': documents , 'question': 'question'})\n",
    "\n",
    "    print('-------------------')\n",
    "    print(f'(1) 사용자 질문: {question}')\n",
    "    print(f'(2) 문서 검색 결과:')\n",
    "    print(documents)\n",
    "    print()\n",
    "    print(f'(3) rag 실행 결과:')\n",
    "    print(generation)\n",
    "    print('-------------------')\n",
    "\n",
    "    print()\n",
    "    print('==========================================================================================\\n')    \n",
    "\n",
    "    return {'generation': generation}"
   ]
  },
  {
   "cell_type": "code",
   "execution_count": 16,
   "metadata": {},
   "outputs": [
    {
     "name": "stdout",
     "output_type": "stream",
     "text": [
      "\n",
      "==========================================================================================\n",
      "🔄 [Node] 답변 생성 노드 🔄\n",
      "-------------------\n",
      "(1) 사용자 질문: 삼성전자가 만든 생성형 AI 이름은?\n",
      "(2) 문서 검색 결과:\n",
      "[Document(id='2be8b6fb-b31a-4729-b392-22770b9a366f', metadata={'source': 'data/SPRI_AI_Brief_2023년12월호_F.pdf', 'file_path': 'data/SPRI_AI_Brief_2023년12월호_F.pdf', 'page': 1, 'total_pages': 23, 'Author': 'dj', 'Creator': 'Hwp 2018 10.0.0.13462', 'Producer': 'Hancom PDF 1.3.0.542', 'CreationDate': \"D:20231208132838+09'00'\", 'ModDate': \"D:20231208132838+09'00'\", 'PDFVersion': '1.4'}, page_content='▹ 삼성전자, 자체 개발 생성 AI ‘삼성 가우스’ 공개 ···························································10\\n▹ 구글, 앤스로픽에 20억 달러 투자로 생성 AI 협력 강화 ················································11\\n▹ IDC, 2027년 AI 소프트웨어 매출 2,500억 달러 돌파 전망···········································12'), Document(id='e0c2c7c1-ce9f-4f28-9dad-049e0a0bb529', metadata={'source': 'data/SPRI_AI_Brief_2023년12월호_F.pdf', 'file_path': 'data/SPRI_AI_Brief_2023년12월호_F.pdf', 'page': 12, 'total_pages': 23, 'Author': 'dj', 'Creator': 'Hwp 2018 10.0.0.13462', 'Producer': 'Hancom PDF 1.3.0.542', 'CreationDate': \"D:20231208132838+09'00'\", 'ModDate': \"D:20231208132838+09'00'\", 'PDFVersion': '1.4'}, page_content='SPRi AI Brief |\\n2023-12월호\\n삼성전자, 자체 개발 생성 AI ‘삼성 가우스’ 공개\\nKEY Contents\\nn 삼성전자가 온디바이스에서 작동 가능하며 언어, 코드, 이미지의 3개 모델로 구성된 자체 개발 생성\\nAI 모델 ‘삼성 가우스’를 공개\\nn 삼성전자는 삼성 가우스를 다양한 제품에 단계적으로 탑재할 계획으로, 온디바이스 작동이 가능한\\n삼성 가우스는 외부로 사용자 정보가 유출될 위험이 없다는 장점을 보유\\n£언어, 코드, 이미지의 3개 모델로 구성된 삼성 가우스, 온디바이스 작동 지원'), Document(id='6924b616-aa84-4b6a-a4b5-b93ad942e9ee', metadata={'source': 'data/SPRI_AI_Brief_2023년12월호_F.pdf', 'file_path': 'data/SPRI_AI_Brief_2023년12월호_F.pdf', 'page': 12, 'total_pages': 23, 'Author': 'dj', 'Creator': 'Hwp 2018 10.0.0.13462', 'Producer': 'Hancom PDF 1.3.0.542', 'CreationDate': \"D:20231208132838+09'00'\", 'ModDate': \"D:20231208132838+09'00'\", 'PDFVersion': '1.4'}, page_content='£언어, 코드, 이미지의 3개 모델로 구성된 삼성 가우스, 온디바이스 작동 지원\\nn 삼성전자가 2023년 11월 8일 열린 ‘삼성 AI 포럼 2023’ 행사에서 자체 개발한 생성 AI 모델\\n‘삼성 가우스’를 최초 공개\\n∙ 정규분포 이론을 정립한 천재 수학자 가우스(Gauss)의 이름을 본뜬 삼성 가우스는 다양한 상황에\\n최적화된 크기의 모델 선택이 가능\\n∙ 삼성 가우스는 라이선스나 개인정보를 침해하지 않는 안전한 데이터를 통해 학습되었으며,\\n온디바이스에서 작동하도록 설계되어 외부로 사용자의 정보가 유출되지 않는 장점을 보유'), Document(id='a75f7e74-6ff4-4c59-8b99-f2e02ce228dd', metadata={'source': 'data/SPRI_AI_Brief_2023년12월호_F.pdf', 'file_path': 'data/SPRI_AI_Brief_2023년12월호_F.pdf', 'page': 12, 'total_pages': 23, 'Author': 'dj', 'Creator': 'Hwp 2018 10.0.0.13462', 'Producer': 'Hancom PDF 1.3.0.542', 'CreationDate': \"D:20231208132838+09'00'\", 'ModDate': \"D:20231208132838+09'00'\", 'PDFVersion': '1.4'}, page_content='어시스턴트를 적용한 구글 픽셀(Pixel)과 경쟁할 것으로 예상\\n☞ 출처 : 삼성전자, ‘삼성 AI 포럼’서 자체 개발 생성형 AI ‘삼성 가우스’ 공개, 2023.11.08.\\n삼성전자, ‘삼성 개발자 콘퍼런스 코리아 2023’ 개최, 2023.11.14.\\nTechRepublic, Samsung Gauss: Samsung Research Reveals Generative AI, 2023.11.08.\\n10'), Document(id='340ab211-d8c8-40c4-a4b5-85321a078668', metadata={'source': 'data/SPRI_AI_Brief_2023년12월호_F.pdf', 'file_path': 'data/SPRI_AI_Brief_2023년12월호_F.pdf', 'page': 18, 'total_pages': 23, 'Author': 'dj', 'Creator': 'Hwp 2018 10.0.0.13462', 'Producer': 'Hancom PDF 1.3.0.542', 'CreationDate': \"D:20231208132838+09'00'\", 'ModDate': \"D:20231208132838+09'00'\", 'PDFVersion': '1.4'}, page_content='<구글 딥마인드의 범용 AI 분류 프레임워크>\\n성능 특수 AI 예시 범용 AI 예시\\n0단계: AI 아님 계산기 소프트웨어, 컴파일러 아마존 메커니컬 터크\\n1단계: 신진(숙련되지 않은 인간) GOFAI(Good Old Fashioned Artificial Intelligence) 챗GPT, 바드, 라마2\\n스마트 스피커(애플 시리, 아마존 알렉사, 구글\\n2단계: 유능(숙련된 인간의 50% 이상) 미달성\\n어시스턴트), IBM 왓슨\\n3단계: 전문가(숙련된 인간의 90% 이상) 문법 교정기(그래머리), 생성 이미지 모델(달리2) 미달성'), Document(id='b7051f97-42d5-4f66-9da7-249639b8d9cd', metadata={'source': 'data/SPRI_AI_Brief_2023년12월호_F.pdf', 'file_path': 'data/SPRI_AI_Brief_2023년12월호_F.pdf', 'page': 12, 'total_pages': 23, 'Author': 'dj', 'Creator': 'Hwp 2018 10.0.0.13462', 'Producer': 'Hancom PDF 1.3.0.542', 'CreationDate': \"D:20231208132838+09'00'\", 'ModDate': \"D:20231208132838+09'00'\", 'PDFVersion': '1.4'}, page_content='처리를 지원\\n∙ 코드 모델 기반의 AI 코딩 어시스턴트 ‘코드아이(code.i)’는 대화형 인터페이스로 서비스를 제공하며\\n사내 소프트웨어 개발에 최적화\\n∙ 이미지 모델은 창의적인 이미지를 생성하고 기존 이미지를 원하는 대로 바꿀 수 있도록 지원하며\\n저해상도 이미지의 고해상도 전환도 지원\\nn IT 전문지 테크리퍼블릭(TechRepublic)은 온디바이스 AI가 주요 기술 트렌드로 부상했다며,\\n2024년부터 가우스를 탑재한 삼성 스마트폰이 메타의 라마(Llama)2를 탑재한 퀄컴 기기 및 구글'), Document(id='6ac9fa9b-f6eb-44aa-9823-cd539361545e', metadata={'source': 'data/SPRI_AI_Brief_2023년12월호_F.pdf', 'file_path': 'data/SPRI_AI_Brief_2023년12월호_F.pdf', 'page': 12, 'total_pages': 23, 'Author': 'dj', 'Creator': 'Hwp 2018 10.0.0.13462', 'Producer': 'Hancom PDF 1.3.0.542', 'CreationDate': \"D:20231208132838+09'00'\", 'ModDate': \"D:20231208132838+09'00'\", 'PDFVersion': '1.4'}, page_content='온디바이스에서 작동하도록 설계되어 외부로 사용자의 정보가 유출되지 않는 장점을 보유\\n∙ 삼성전자는 삼성 가우스를 활용한 온디바이스 AI 기술도 소개했으며, 생성 AI 모델을 다양한 제품에\\n단계적으로 탑재할 계획\\nn 삼성 가우스는 △텍스트를 생성하는 언어모델 △코드를 생성하는 코드 모델 △이미지를 생성하는\\n이미지 모델의 3개 모델로 구성\\n∙ 언어 모델은 클라우드와 온디바이스 대상 다양한 모델로 구성되며, 메일 작성, 문서 요약, 번역 업무의\\n처리를 지원'), Document(id='3961e8a3-52a5-4089-a800-ea62522c9a0f', metadata={'source': 'data/SPRI_AI_Brief_2023년12월호_F.pdf', 'file_path': 'data/SPRI_AI_Brief_2023년12월호_F.pdf', 'page': 11, 'total_pages': 23, 'Author': 'dj', 'Creator': 'Hwp 2018 10.0.0.13462', 'Producer': 'Hancom PDF 1.3.0.542', 'CreationDate': \"D:20231208132838+09'00'\", 'ModDate': \"D:20231208132838+09'00'\", 'PDFVersion': '1.4'}, page_content='제작을 포함\\nn 알리바바 클라우드는 급증하는 생성 AI 수요에 대응해 모델 개발과 애플리케이션 구축 절차를\\n간소화하는 올인원 AI 모델 구축 플랫폼 ‘젠AI(GenAI)’도 공개\\n∙ 이 플랫폼은 데이터 관리, 모델 배포와 평가, 신속한 엔지니어링을 위한 종합 도구 모음을 제공하여\\n다양한 기업들이 맞춤형 AI 모델을 한층 쉽게 개발할 수 있도록 지원\\n∙ 생성 AI 개발에 필요한 컴퓨팅과 데이터 처리 요구사항을 지원하기 위해 AI 플랫폼(PAI),\\n데이터베이스 솔루션, 컨테이너 서비스와 같은 클라우드 신제품도 발표'), Document(id='8343f4be-2f05-4dec-af17-f8ae6657c39d', metadata={'source': 'data/SPRI_AI_Brief_2023년12월호_F.pdf', 'file_path': 'data/SPRI_AI_Brief_2023년12월호_F.pdf', 'page': 1, 'total_pages': 23, 'Author': 'dj', 'Creator': 'Hwp 2018 10.0.0.13462', 'Producer': 'Hancom PDF 1.3.0.542', 'CreationDate': \"D:20231208132838+09'00'\", 'ModDate': \"D:20231208132838+09'00'\", 'PDFVersion': '1.4'}, page_content='▹ 빌 게이츠, AI 에이전트로 인한 컴퓨터 사용의 패러다임 변화 전망································13\\n▹ 유튜브, 2024년부터 AI 생성 콘텐츠 표시 의무화····························································14\\n3. 기술/연구\\n▹ 영국 과학혁신기술부, AI 안전 연구소 설립 발표······························································15'), Document(id='88879b05-2345-4264-9ae9-6035f506f068', metadata={'source': 'data/SPRI_AI_Brief_2023년12월호_F.pdf', 'file_path': 'data/SPRI_AI_Brief_2023년12월호_F.pdf', 'page': 7, 'total_pages': 23, 'Author': 'dj', 'Creator': 'Hwp 2018 10.0.0.13462', 'Producer': 'Hancom PDF 1.3.0.542', 'CreationDate': \"D:20231208132838+09'00'\", 'ModDate': \"D:20231208132838+09'00'\", 'PDFVersion': '1.4'}, page_content='만들었다고 오해할 소지가 있다고 지적\\n∙ 저작권법에 저촉되는 행위는 불공정 경쟁이나 기만행위에도 해당될 수 있으며, 창작자의 평판 악화,\\n저작물의 가치 저하나 개인정보 유출로 소비자에 상당한 피해를 초래 가능\\nn FTC는 일부 빅테크가 막대한 재원을 활용해 생성 AI 사용자의 이탈을 막고 저작권이 있는 상용\\n데이터에 대한 독점 라이선스를 확보해 시장 지배력을 더욱 강화할 수 있다는 우려도 제기\\n∙ 이와 관련 FTC는 아마존 AI 비서 ‘알렉사(Alexa)’와 스마트홈 보안 기기 ‘링(Ring)’이 소비자의 사적')]\n",
      "\n",
      "(3) rag 실행 결과:\n",
      "삼성전자가 공개한 생성 AI 모델 ‘삼성 가우스’는 언어, 코드, 이미지의 3개 모델로 구성되어 있으며, 온디바이스에서 작동 가능하여 사용자 정보 유출 위험이 없다. 이 모델은 2023년 11월 8일 ‘삼성 AI 포럼 2023’에서 처음 공개되었다.\n",
      "\n",
      "**Source**\n",
      "- data/SPRI_AI_Brief_2023년12월호_F.pdf (page 12)\n",
      "-------------------\n",
      "\n",
      "==========================================================================================\n",
      "\n"
     ]
    }
   ],
   "source": [
    "state['generation'] = generate(state)['generation']"
   ]
  },
  {
   "cell_type": "code",
   "execution_count": 17,
   "metadata": {},
   "outputs": [
    {
     "data": {
      "text/plain": [
       "{'question': '삼성전자가 만든 생성형 AI 이름은?',\n",
       " 'generation': '삼성전자가 공개한 생성 AI 모델 ‘삼성 가우스’는 언어, 코드, 이미지의 3개 모델로 구성되어 있으며, 온디바이스에서 작동 가능하여 사용자 정보 유출 위험이 없다. 이 모델은 2023년 11월 8일 ‘삼성 AI 포럼 2023’에서 처음 공개되었다.\\n\\n**Source**\\n- data/SPRI_AI_Brief_2023년12월호_F.pdf (page 12)',\n",
       " 'documents': [Document(id='2be8b6fb-b31a-4729-b392-22770b9a366f', metadata={'source': 'data/SPRI_AI_Brief_2023년12월호_F.pdf', 'file_path': 'data/SPRI_AI_Brief_2023년12월호_F.pdf', 'page': 1, 'total_pages': 23, 'Author': 'dj', 'Creator': 'Hwp 2018 10.0.0.13462', 'Producer': 'Hancom PDF 1.3.0.542', 'CreationDate': \"D:20231208132838+09'00'\", 'ModDate': \"D:20231208132838+09'00'\", 'PDFVersion': '1.4'}, page_content='▹ 삼성전자, 자체 개발 생성 AI ‘삼성 가우스’ 공개 ···························································10\\n▹ 구글, 앤스로픽에 20억 달러 투자로 생성 AI 협력 강화 ················································11\\n▹ IDC, 2027년 AI 소프트웨어 매출 2,500억 달러 돌파 전망···········································12'),\n",
       "  Document(id='e0c2c7c1-ce9f-4f28-9dad-049e0a0bb529', metadata={'source': 'data/SPRI_AI_Brief_2023년12월호_F.pdf', 'file_path': 'data/SPRI_AI_Brief_2023년12월호_F.pdf', 'page': 12, 'total_pages': 23, 'Author': 'dj', 'Creator': 'Hwp 2018 10.0.0.13462', 'Producer': 'Hancom PDF 1.3.0.542', 'CreationDate': \"D:20231208132838+09'00'\", 'ModDate': \"D:20231208132838+09'00'\", 'PDFVersion': '1.4'}, page_content='SPRi AI Brief |\\n2023-12월호\\n삼성전자, 자체 개발 생성 AI ‘삼성 가우스’ 공개\\nKEY Contents\\nn 삼성전자가 온디바이스에서 작동 가능하며 언어, 코드, 이미지의 3개 모델로 구성된 자체 개발 생성\\nAI 모델 ‘삼성 가우스’를 공개\\nn 삼성전자는 삼성 가우스를 다양한 제품에 단계적으로 탑재할 계획으로, 온디바이스 작동이 가능한\\n삼성 가우스는 외부로 사용자 정보가 유출될 위험이 없다는 장점을 보유\\n£언어, 코드, 이미지의 3개 모델로 구성된 삼성 가우스, 온디바이스 작동 지원'),\n",
       "  Document(id='6924b616-aa84-4b6a-a4b5-b93ad942e9ee', metadata={'source': 'data/SPRI_AI_Brief_2023년12월호_F.pdf', 'file_path': 'data/SPRI_AI_Brief_2023년12월호_F.pdf', 'page': 12, 'total_pages': 23, 'Author': 'dj', 'Creator': 'Hwp 2018 10.0.0.13462', 'Producer': 'Hancom PDF 1.3.0.542', 'CreationDate': \"D:20231208132838+09'00'\", 'ModDate': \"D:20231208132838+09'00'\", 'PDFVersion': '1.4'}, page_content='£언어, 코드, 이미지의 3개 모델로 구성된 삼성 가우스, 온디바이스 작동 지원\\nn 삼성전자가 2023년 11월 8일 열린 ‘삼성 AI 포럼 2023’ 행사에서 자체 개발한 생성 AI 모델\\n‘삼성 가우스’를 최초 공개\\n∙ 정규분포 이론을 정립한 천재 수학자 가우스(Gauss)의 이름을 본뜬 삼성 가우스는 다양한 상황에\\n최적화된 크기의 모델 선택이 가능\\n∙ 삼성 가우스는 라이선스나 개인정보를 침해하지 않는 안전한 데이터를 통해 학습되었으며,\\n온디바이스에서 작동하도록 설계되어 외부로 사용자의 정보가 유출되지 않는 장점을 보유'),\n",
       "  Document(id='a75f7e74-6ff4-4c59-8b99-f2e02ce228dd', metadata={'source': 'data/SPRI_AI_Brief_2023년12월호_F.pdf', 'file_path': 'data/SPRI_AI_Brief_2023년12월호_F.pdf', 'page': 12, 'total_pages': 23, 'Author': 'dj', 'Creator': 'Hwp 2018 10.0.0.13462', 'Producer': 'Hancom PDF 1.3.0.542', 'CreationDate': \"D:20231208132838+09'00'\", 'ModDate': \"D:20231208132838+09'00'\", 'PDFVersion': '1.4'}, page_content='어시스턴트를 적용한 구글 픽셀(Pixel)과 경쟁할 것으로 예상\\n☞ 출처 : 삼성전자, ‘삼성 AI 포럼’서 자체 개발 생성형 AI ‘삼성 가우스’ 공개, 2023.11.08.\\n삼성전자, ‘삼성 개발자 콘퍼런스 코리아 2023’ 개최, 2023.11.14.\\nTechRepublic, Samsung Gauss: Samsung Research Reveals Generative AI, 2023.11.08.\\n10'),\n",
       "  Document(id='340ab211-d8c8-40c4-a4b5-85321a078668', metadata={'source': 'data/SPRI_AI_Brief_2023년12월호_F.pdf', 'file_path': 'data/SPRI_AI_Brief_2023년12월호_F.pdf', 'page': 18, 'total_pages': 23, 'Author': 'dj', 'Creator': 'Hwp 2018 10.0.0.13462', 'Producer': 'Hancom PDF 1.3.0.542', 'CreationDate': \"D:20231208132838+09'00'\", 'ModDate': \"D:20231208132838+09'00'\", 'PDFVersion': '1.4'}, page_content='<구글 딥마인드의 범용 AI 분류 프레임워크>\\n성능 특수 AI 예시 범용 AI 예시\\n0단계: AI 아님 계산기 소프트웨어, 컴파일러 아마존 메커니컬 터크\\n1단계: 신진(숙련되지 않은 인간) GOFAI(Good Old Fashioned Artificial Intelligence) 챗GPT, 바드, 라마2\\n스마트 스피커(애플 시리, 아마존 알렉사, 구글\\n2단계: 유능(숙련된 인간의 50% 이상) 미달성\\n어시스턴트), IBM 왓슨\\n3단계: 전문가(숙련된 인간의 90% 이상) 문법 교정기(그래머리), 생성 이미지 모델(달리2) 미달성'),\n",
       "  Document(id='b7051f97-42d5-4f66-9da7-249639b8d9cd', metadata={'source': 'data/SPRI_AI_Brief_2023년12월호_F.pdf', 'file_path': 'data/SPRI_AI_Brief_2023년12월호_F.pdf', 'page': 12, 'total_pages': 23, 'Author': 'dj', 'Creator': 'Hwp 2018 10.0.0.13462', 'Producer': 'Hancom PDF 1.3.0.542', 'CreationDate': \"D:20231208132838+09'00'\", 'ModDate': \"D:20231208132838+09'00'\", 'PDFVersion': '1.4'}, page_content='처리를 지원\\n∙ 코드 모델 기반의 AI 코딩 어시스턴트 ‘코드아이(code.i)’는 대화형 인터페이스로 서비스를 제공하며\\n사내 소프트웨어 개발에 최적화\\n∙ 이미지 모델은 창의적인 이미지를 생성하고 기존 이미지를 원하는 대로 바꿀 수 있도록 지원하며\\n저해상도 이미지의 고해상도 전환도 지원\\nn IT 전문지 테크리퍼블릭(TechRepublic)은 온디바이스 AI가 주요 기술 트렌드로 부상했다며,\\n2024년부터 가우스를 탑재한 삼성 스마트폰이 메타의 라마(Llama)2를 탑재한 퀄컴 기기 및 구글'),\n",
       "  Document(id='6ac9fa9b-f6eb-44aa-9823-cd539361545e', metadata={'source': 'data/SPRI_AI_Brief_2023년12월호_F.pdf', 'file_path': 'data/SPRI_AI_Brief_2023년12월호_F.pdf', 'page': 12, 'total_pages': 23, 'Author': 'dj', 'Creator': 'Hwp 2018 10.0.0.13462', 'Producer': 'Hancom PDF 1.3.0.542', 'CreationDate': \"D:20231208132838+09'00'\", 'ModDate': \"D:20231208132838+09'00'\", 'PDFVersion': '1.4'}, page_content='온디바이스에서 작동하도록 설계되어 외부로 사용자의 정보가 유출되지 않는 장점을 보유\\n∙ 삼성전자는 삼성 가우스를 활용한 온디바이스 AI 기술도 소개했으며, 생성 AI 모델을 다양한 제품에\\n단계적으로 탑재할 계획\\nn 삼성 가우스는 △텍스트를 생성하는 언어모델 △코드를 생성하는 코드 모델 △이미지를 생성하는\\n이미지 모델의 3개 모델로 구성\\n∙ 언어 모델은 클라우드와 온디바이스 대상 다양한 모델로 구성되며, 메일 작성, 문서 요약, 번역 업무의\\n처리를 지원'),\n",
       "  Document(id='3961e8a3-52a5-4089-a800-ea62522c9a0f', metadata={'source': 'data/SPRI_AI_Brief_2023년12월호_F.pdf', 'file_path': 'data/SPRI_AI_Brief_2023년12월호_F.pdf', 'page': 11, 'total_pages': 23, 'Author': 'dj', 'Creator': 'Hwp 2018 10.0.0.13462', 'Producer': 'Hancom PDF 1.3.0.542', 'CreationDate': \"D:20231208132838+09'00'\", 'ModDate': \"D:20231208132838+09'00'\", 'PDFVersion': '1.4'}, page_content='제작을 포함\\nn 알리바바 클라우드는 급증하는 생성 AI 수요에 대응해 모델 개발과 애플리케이션 구축 절차를\\n간소화하는 올인원 AI 모델 구축 플랫폼 ‘젠AI(GenAI)’도 공개\\n∙ 이 플랫폼은 데이터 관리, 모델 배포와 평가, 신속한 엔지니어링을 위한 종합 도구 모음을 제공하여\\n다양한 기업들이 맞춤형 AI 모델을 한층 쉽게 개발할 수 있도록 지원\\n∙ 생성 AI 개발에 필요한 컴퓨팅과 데이터 처리 요구사항을 지원하기 위해 AI 플랫폼(PAI),\\n데이터베이스 솔루션, 컨테이너 서비스와 같은 클라우드 신제품도 발표'),\n",
       "  Document(id='8343f4be-2f05-4dec-af17-f8ae6657c39d', metadata={'source': 'data/SPRI_AI_Brief_2023년12월호_F.pdf', 'file_path': 'data/SPRI_AI_Brief_2023년12월호_F.pdf', 'page': 1, 'total_pages': 23, 'Author': 'dj', 'Creator': 'Hwp 2018 10.0.0.13462', 'Producer': 'Hancom PDF 1.3.0.542', 'CreationDate': \"D:20231208132838+09'00'\", 'ModDate': \"D:20231208132838+09'00'\", 'PDFVersion': '1.4'}, page_content='▹ 빌 게이츠, AI 에이전트로 인한 컴퓨터 사용의 패러다임 변화 전망································13\\n▹ 유튜브, 2024년부터 AI 생성 콘텐츠 표시 의무화····························································14\\n3. 기술/연구\\n▹ 영국 과학혁신기술부, AI 안전 연구소 설립 발표······························································15'),\n",
       "  Document(id='88879b05-2345-4264-9ae9-6035f506f068', metadata={'source': 'data/SPRI_AI_Brief_2023년12월호_F.pdf', 'file_path': 'data/SPRI_AI_Brief_2023년12월호_F.pdf', 'page': 7, 'total_pages': 23, 'Author': 'dj', 'Creator': 'Hwp 2018 10.0.0.13462', 'Producer': 'Hancom PDF 1.3.0.542', 'CreationDate': \"D:20231208132838+09'00'\", 'ModDate': \"D:20231208132838+09'00'\", 'PDFVersion': '1.4'}, page_content='만들었다고 오해할 소지가 있다고 지적\\n∙ 저작권법에 저촉되는 행위는 불공정 경쟁이나 기만행위에도 해당될 수 있으며, 창작자의 평판 악화,\\n저작물의 가치 저하나 개인정보 유출로 소비자에 상당한 피해를 초래 가능\\nn FTC는 일부 빅테크가 막대한 재원을 활용해 생성 AI 사용자의 이탈을 막고 저작권이 있는 상용\\n데이터에 대한 독점 라이선스를 확보해 시장 지배력을 더욱 강화할 수 있다는 우려도 제기\\n∙ 이와 관련 FTC는 아마존 AI 비서 ‘알렉사(Alexa)’와 스마트홈 보안 기기 ‘링(Ring)’이 소비자의 사적')]}"
      ]
     },
     "execution_count": 17,
     "metadata": {},
     "output_type": "execute_result"
    }
   ],
   "source": [
    "state"
   ]
  },
  {
   "cell_type": "markdown",
   "metadata": {},
   "source": [
    "### 문서 검색 평가기 (Retrieval Grader)"
   ]
  },
  {
   "cell_type": "code",
   "execution_count": 18,
   "metadata": {},
   "outputs": [],
   "source": [
    "class GradeDocuments(BaseModel):        # 문서 평가를 위한 데이터 모델\n",
    "    \"\"\"Binary score for relevance check on retrieved documents.\"\"\"\n",
    "\n",
    "    # 사용자 질문에 대한 pdf 문서 검색 결과를 평가하는 문서 검색 평가기(retrieval_grader)를 사용해서 \n",
    "    # 사용자 질문과 검색 결과문서가 관련성이 있는지 본다\n",
    "\n",
    "    binary_score: str = Field(\n",
    "        description=\"Documents are relevant to the question, 'yes' or 'no'\"\n",
    "    )\n",
    "\n",
    "llm = ChatOpenAI(\n",
    "    api_key=key, \n",
    "    model='gpt-4o-mini', \n",
    "    temperature=0\n",
    ")\n",
    "\n",
    "structured_llm_grader = llm.with_structured_output(GradeDocuments)\n",
    "\n",
    "# 시스템 메시지\n",
    "system = \"\"\"You are a grader assessing relevance of a retrieved document to a user question. \\n \n",
    "    If the document contains keyword(s) or semantic meaning related to the user question, grade it as relevant. \\n\n",
    "    It does not need to be a stringent test. The goal is to filter out erroneous retrievals. \\n\n",
    "    Give a binary score 'yes' or 'no' score to indicate whether the document is relevant to the question.\"\"\"\n",
    "\n",
    "# 프롬프트 템플릿\n",
    "grade_prompt = ChatPromptTemplate.from_messages(\n",
    "    [\n",
    "        (\"system\", system),\n",
    "        (\"human\", \"Retrieved document: \\n\\n {document} \\n\\n User question: {question}\"),\n",
    "    ]\n",
    ")\n",
    "\n",
    "# 문서 검색결과 평가기\n",
    "retrieval_grader = grade_prompt | structured_llm_grader"
   ]
  },
  {
   "cell_type": "code",
   "execution_count": 19,
   "metadata": {},
   "outputs": [
    {
     "name": "stdout",
     "output_type": "stream",
     "text": [
      "result.binary_score: yes\n",
      "result.binary_score: yes\n",
      "result.binary_score: yes\n",
      "result.binary_score: yes\n",
      "result.binary_score: no\n",
      "result.binary_score: yes\n",
      "result.binary_score: yes\n",
      "result.binary_score: no\n",
      "result.binary_score: no\n",
      "result.binary_score: no\n"
     ]
    }
   ],
   "source": [
    "filtered_docs = []                                    # 문서 검색 평가기를 통과한 문서들만 필터링\n",
    "\n",
    "for doc in state['documents']:\n",
    "    result = retrieval_grader.invoke({'question': state['question'], 'document': doc.page_content})\n",
    "    print(f\"result.binary_score: {result.binary_score}\")\n",
    "    \n",
    "    if result.binary_score == 'yes':\n",
    "        filtered_docs.append(doc)"
   ]
  },
  {
   "cell_type": "markdown",
   "metadata": {},
   "source": [
    "### 사용자 질문에 대한 pdf 문서 검색 결과의 관련성을 평가하는 문서 검색 평가기(retrieval_grader) 노드"
   ]
  },
  {
   "cell_type": "code",
   "execution_count": 20,
   "metadata": {},
   "outputs": [],
   "source": [
    "# 문서 검색 결과와 질문 관련성 평가 노드\n",
    "def grade_documents(state: GraphState):\n",
    "    print('\\n==========================================================================================')\n",
    "    print('🔄 [Node] 문서 검색 결과와 질문 관련성 평가 노드 🔄')\n",
    "\n",
    "    # 사용자 질문\n",
    "    question = state['question']  \n",
    "\n",
    "    # 문서 검색 결과\n",
    "    documents = state['documents']\n",
    "\n",
    "    # 문서 검색 평가기를 통과한 문서들만 필터링\n",
    "    filtered_docs = []\n",
    "\n",
    "    for doc in documents:\n",
    "        score = retrieval_grader.invoke({'question': question, 'document': doc.page_content})\n",
    "\n",
    "        grade = score.binary_score\n",
    "\n",
    "        if grade == 'yes':\n",
    "            print(\"---GRADE: DOCUMENT RELEVANT---\")     \n",
    "            filtered_docs.append(doc)                   \n",
    "        else:\n",
    "            print(\"---GRADE: DOCUMENT NOT RELEVANT---\") \n",
    "            continue     \n",
    "\n",
    "    print('==========================================================================================\\n')\n",
    "    return {'documents': filtered_docs}"
   ]
  },
  {
   "cell_type": "code",
   "execution_count": 21,
   "metadata": {},
   "outputs": [
    {
     "name": "stdout",
     "output_type": "stream",
     "text": [
      "\n",
      "==========================================================================================\n",
      "🔄 [Node] 문서 검색 결과와 질문 관련성 평가 노드 🔄\n",
      "---GRADE: DOCUMENT RELEVANT---\n",
      "---GRADE: DOCUMENT RELEVANT---\n",
      "---GRADE: DOCUMENT RELEVANT---\n",
      "---GRADE: DOCUMENT RELEVANT---\n",
      "---GRADE: DOCUMENT NOT RELEVANT---\n",
      "---GRADE: DOCUMENT RELEVANT---\n",
      "---GRADE: DOCUMENT RELEVANT---\n",
      "---GRADE: DOCUMENT NOT RELEVANT---\n",
      "---GRADE: DOCUMENT NOT RELEVANT---\n",
      "---GRADE: DOCUMENT NOT RELEVANT---\n",
      "==========================================================================================\n",
      "\n"
     ]
    }
   ],
   "source": [
    "return_documents = grade_documents(state)"
   ]
  },
  {
   "cell_type": "code",
   "execution_count": 22,
   "metadata": {},
   "outputs": [
    {
     "data": {
      "text/plain": [
       "{'question': '삼성전자가 만든 생성형 AI 이름은?',\n",
       " 'generation': '삼성전자가 공개한 생성 AI 모델 ‘삼성 가우스’는 언어, 코드, 이미지의 3개 모델로 구성되어 있으며, 온디바이스에서 작동 가능하여 사용자 정보 유출 위험이 없다. 이 모델은 2023년 11월 8일 ‘삼성 AI 포럼 2023’에서 처음 공개되었다.\\n\\n**Source**\\n- data/SPRI_AI_Brief_2023년12월호_F.pdf (page 12)',\n",
       " 'documents': [Document(id='2be8b6fb-b31a-4729-b392-22770b9a366f', metadata={'source': 'data/SPRI_AI_Brief_2023년12월호_F.pdf', 'file_path': 'data/SPRI_AI_Brief_2023년12월호_F.pdf', 'page': 1, 'total_pages': 23, 'Author': 'dj', 'Creator': 'Hwp 2018 10.0.0.13462', 'Producer': 'Hancom PDF 1.3.0.542', 'CreationDate': \"D:20231208132838+09'00'\", 'ModDate': \"D:20231208132838+09'00'\", 'PDFVersion': '1.4'}, page_content='▹ 삼성전자, 자체 개발 생성 AI ‘삼성 가우스’ 공개 ···························································10\\n▹ 구글, 앤스로픽에 20억 달러 투자로 생성 AI 협력 강화 ················································11\\n▹ IDC, 2027년 AI 소프트웨어 매출 2,500억 달러 돌파 전망···········································12'),\n",
       "  Document(id='e0c2c7c1-ce9f-4f28-9dad-049e0a0bb529', metadata={'source': 'data/SPRI_AI_Brief_2023년12월호_F.pdf', 'file_path': 'data/SPRI_AI_Brief_2023년12월호_F.pdf', 'page': 12, 'total_pages': 23, 'Author': 'dj', 'Creator': 'Hwp 2018 10.0.0.13462', 'Producer': 'Hancom PDF 1.3.0.542', 'CreationDate': \"D:20231208132838+09'00'\", 'ModDate': \"D:20231208132838+09'00'\", 'PDFVersion': '1.4'}, page_content='SPRi AI Brief |\\n2023-12월호\\n삼성전자, 자체 개발 생성 AI ‘삼성 가우스’ 공개\\nKEY Contents\\nn 삼성전자가 온디바이스에서 작동 가능하며 언어, 코드, 이미지의 3개 모델로 구성된 자체 개발 생성\\nAI 모델 ‘삼성 가우스’를 공개\\nn 삼성전자는 삼성 가우스를 다양한 제품에 단계적으로 탑재할 계획으로, 온디바이스 작동이 가능한\\n삼성 가우스는 외부로 사용자 정보가 유출될 위험이 없다는 장점을 보유\\n£언어, 코드, 이미지의 3개 모델로 구성된 삼성 가우스, 온디바이스 작동 지원'),\n",
       "  Document(id='6924b616-aa84-4b6a-a4b5-b93ad942e9ee', metadata={'source': 'data/SPRI_AI_Brief_2023년12월호_F.pdf', 'file_path': 'data/SPRI_AI_Brief_2023년12월호_F.pdf', 'page': 12, 'total_pages': 23, 'Author': 'dj', 'Creator': 'Hwp 2018 10.0.0.13462', 'Producer': 'Hancom PDF 1.3.0.542', 'CreationDate': \"D:20231208132838+09'00'\", 'ModDate': \"D:20231208132838+09'00'\", 'PDFVersion': '1.4'}, page_content='£언어, 코드, 이미지의 3개 모델로 구성된 삼성 가우스, 온디바이스 작동 지원\\nn 삼성전자가 2023년 11월 8일 열린 ‘삼성 AI 포럼 2023’ 행사에서 자체 개발한 생성 AI 모델\\n‘삼성 가우스’를 최초 공개\\n∙ 정규분포 이론을 정립한 천재 수학자 가우스(Gauss)의 이름을 본뜬 삼성 가우스는 다양한 상황에\\n최적화된 크기의 모델 선택이 가능\\n∙ 삼성 가우스는 라이선스나 개인정보를 침해하지 않는 안전한 데이터를 통해 학습되었으며,\\n온디바이스에서 작동하도록 설계되어 외부로 사용자의 정보가 유출되지 않는 장점을 보유'),\n",
       "  Document(id='a75f7e74-6ff4-4c59-8b99-f2e02ce228dd', metadata={'source': 'data/SPRI_AI_Brief_2023년12월호_F.pdf', 'file_path': 'data/SPRI_AI_Brief_2023년12월호_F.pdf', 'page': 12, 'total_pages': 23, 'Author': 'dj', 'Creator': 'Hwp 2018 10.0.0.13462', 'Producer': 'Hancom PDF 1.3.0.542', 'CreationDate': \"D:20231208132838+09'00'\", 'ModDate': \"D:20231208132838+09'00'\", 'PDFVersion': '1.4'}, page_content='어시스턴트를 적용한 구글 픽셀(Pixel)과 경쟁할 것으로 예상\\n☞ 출처 : 삼성전자, ‘삼성 AI 포럼’서 자체 개발 생성형 AI ‘삼성 가우스’ 공개, 2023.11.08.\\n삼성전자, ‘삼성 개발자 콘퍼런스 코리아 2023’ 개최, 2023.11.14.\\nTechRepublic, Samsung Gauss: Samsung Research Reveals Generative AI, 2023.11.08.\\n10'),\n",
       "  Document(id='b7051f97-42d5-4f66-9da7-249639b8d9cd', metadata={'source': 'data/SPRI_AI_Brief_2023년12월호_F.pdf', 'file_path': 'data/SPRI_AI_Brief_2023년12월호_F.pdf', 'page': 12, 'total_pages': 23, 'Author': 'dj', 'Creator': 'Hwp 2018 10.0.0.13462', 'Producer': 'Hancom PDF 1.3.0.542', 'CreationDate': \"D:20231208132838+09'00'\", 'ModDate': \"D:20231208132838+09'00'\", 'PDFVersion': '1.4'}, page_content='처리를 지원\\n∙ 코드 모델 기반의 AI 코딩 어시스턴트 ‘코드아이(code.i)’는 대화형 인터페이스로 서비스를 제공하며\\n사내 소프트웨어 개발에 최적화\\n∙ 이미지 모델은 창의적인 이미지를 생성하고 기존 이미지를 원하는 대로 바꿀 수 있도록 지원하며\\n저해상도 이미지의 고해상도 전환도 지원\\nn IT 전문지 테크리퍼블릭(TechRepublic)은 온디바이스 AI가 주요 기술 트렌드로 부상했다며,\\n2024년부터 가우스를 탑재한 삼성 스마트폰이 메타의 라마(Llama)2를 탑재한 퀄컴 기기 및 구글'),\n",
       "  Document(id='6ac9fa9b-f6eb-44aa-9823-cd539361545e', metadata={'source': 'data/SPRI_AI_Brief_2023년12월호_F.pdf', 'file_path': 'data/SPRI_AI_Brief_2023년12월호_F.pdf', 'page': 12, 'total_pages': 23, 'Author': 'dj', 'Creator': 'Hwp 2018 10.0.0.13462', 'Producer': 'Hancom PDF 1.3.0.542', 'CreationDate': \"D:20231208132838+09'00'\", 'ModDate': \"D:20231208132838+09'00'\", 'PDFVersion': '1.4'}, page_content='온디바이스에서 작동하도록 설계되어 외부로 사용자의 정보가 유출되지 않는 장점을 보유\\n∙ 삼성전자는 삼성 가우스를 활용한 온디바이스 AI 기술도 소개했으며, 생성 AI 모델을 다양한 제품에\\n단계적으로 탑재할 계획\\nn 삼성 가우스는 △텍스트를 생성하는 언어모델 △코드를 생성하는 코드 모델 △이미지를 생성하는\\n이미지 모델의 3개 모델로 구성\\n∙ 언어 모델은 클라우드와 온디바이스 대상 다양한 모델로 구성되며, 메일 작성, 문서 요약, 번역 업무의\\n처리를 지원')]}"
      ]
     },
     "execution_count": 22,
     "metadata": {},
     "output_type": "execute_result"
    }
   ],
   "source": [
    "state['documents'] = return_documents['documents']\n",
    "state"
   ]
  },
  {
   "cell_type": "markdown",
   "metadata": {},
   "source": [
    "### 쿼리 재작성 (Query Rewriter)"
   ]
  },
  {
   "cell_type": "code",
   "execution_count": 23,
   "metadata": {},
   "outputs": [],
   "source": [
    "from langchain_openai import ChatOpenAI\n",
    "from langchain_core.prompts import ChatPromptTemplate\n",
    "from langchain_core.output_parsers import StrOutputParser\n",
    "\n",
    "\n",
    "llm = ChatOpenAI(\n",
    "    api_key=key, \n",
    "    model='gpt-4o-mini', \n",
    "    temperature=0\n",
    ")\n",
    "\n",
    "# Query Rewriter 프롬프트\n",
    "system = \"\"\"You a question re-writer that converts an input question to a better version that is optimized \\n \n",
    "for vectorstore retrieval. Look at the input and try to reason about the underlying semantic intent / meaning.\"\"\"\n",
    "\n",
    "re_writer_prompt = ChatPromptTemplate.from_messages(\n",
    "    [\n",
    "        ('system', system), \n",
    "        ('human', 'Here is the initial question: \\n\\n {question} \\n Formulate an improved question')\n",
    "    ]\n",
    ")\n",
    "\n",
    "# Query Rewriter 생성\n",
    "question_rewriter = re_writer_prompt | llm | StrOutputParser()"
   ]
  },
  {
   "cell_type": "code",
   "execution_count": 24,
   "metadata": {},
   "outputs": [
    {
     "data": {
      "text/plain": [
       "'삼성전자가 개발한 생성형 AI의 이름은 무엇인가요?'"
      ]
     },
     "execution_count": 24,
     "metadata": {},
     "output_type": "execute_result"
    }
   ],
   "source": [
    "question_rewriter.invoke({'question': state['question']})"
   ]
  },
  {
   "cell_type": "markdown",
   "metadata": {},
   "source": [
    "### Query Rewrite 노드"
   ]
  },
  {
   "cell_type": "code",
   "execution_count": 25,
   "metadata": {},
   "outputs": [],
   "source": [
    "# Query Rewrite 노드\n",
    "def transform_query(state: GraphState):\n",
    "    print('\\n==========================================================================================')\n",
    "    print('🔄 [Node] 쿼리 재작성 노드 🔄')\n",
    "\n",
    "    # 사용자 질문\n",
    "    question = state['question']\n",
    "\n",
    "    # 문서 검색 결과\n",
    "    documents = state['documents']\n",
    "\n",
    "    \n",
    "    # 쿼리 재작성\n",
    "    better_question = question_rewriter.invoke({'question': question})\n",
    "    \n",
    "    print('-------------------')\n",
    "    print(f\"better_question: {better_question}\")\n",
    "    print('-------------------')\n",
    "    \n",
    "    print('==========================================================================================\\n')\n",
    "\n",
    "    return {'question': better_question}"
   ]
  },
  {
   "cell_type": "code",
   "execution_count": 26,
   "metadata": {},
   "outputs": [
    {
     "name": "stdout",
     "output_type": "stream",
     "text": [
      "\n",
      "==========================================================================================\n",
      "🔄 [Node] 쿼리 재작성 노드 🔄\n",
      "-------------------\n",
      "better_question: 삼성전자가 개발한 생성형 AI의 이름은 무엇인가요?\n",
      "-------------------\n",
      "==========================================================================================\n",
      "\n"
     ]
    }
   ],
   "source": [
    "question_rewriter_return = transform_query(state)\n",
    "state['question'] = question_rewriter_return['question']"
   ]
  },
  {
   "cell_type": "code",
   "execution_count": 27,
   "metadata": {},
   "outputs": [
    {
     "data": {
      "text/plain": [
       "{'question': '삼성전자가 개발한 생성형 AI의 이름은 무엇인가요?',\n",
       " 'generation': '삼성전자가 공개한 생성 AI 모델 ‘삼성 가우스’는 언어, 코드, 이미지의 3개 모델로 구성되어 있으며, 온디바이스에서 작동 가능하여 사용자 정보 유출 위험이 없다. 이 모델은 2023년 11월 8일 ‘삼성 AI 포럼 2023’에서 처음 공개되었다.\\n\\n**Source**\\n- data/SPRI_AI_Brief_2023년12월호_F.pdf (page 12)',\n",
       " 'documents': [Document(id='2be8b6fb-b31a-4729-b392-22770b9a366f', metadata={'source': 'data/SPRI_AI_Brief_2023년12월호_F.pdf', 'file_path': 'data/SPRI_AI_Brief_2023년12월호_F.pdf', 'page': 1, 'total_pages': 23, 'Author': 'dj', 'Creator': 'Hwp 2018 10.0.0.13462', 'Producer': 'Hancom PDF 1.3.0.542', 'CreationDate': \"D:20231208132838+09'00'\", 'ModDate': \"D:20231208132838+09'00'\", 'PDFVersion': '1.4'}, page_content='▹ 삼성전자, 자체 개발 생성 AI ‘삼성 가우스’ 공개 ···························································10\\n▹ 구글, 앤스로픽에 20억 달러 투자로 생성 AI 협력 강화 ················································11\\n▹ IDC, 2027년 AI 소프트웨어 매출 2,500억 달러 돌파 전망···········································12'),\n",
       "  Document(id='e0c2c7c1-ce9f-4f28-9dad-049e0a0bb529', metadata={'source': 'data/SPRI_AI_Brief_2023년12월호_F.pdf', 'file_path': 'data/SPRI_AI_Brief_2023년12월호_F.pdf', 'page': 12, 'total_pages': 23, 'Author': 'dj', 'Creator': 'Hwp 2018 10.0.0.13462', 'Producer': 'Hancom PDF 1.3.0.542', 'CreationDate': \"D:20231208132838+09'00'\", 'ModDate': \"D:20231208132838+09'00'\", 'PDFVersion': '1.4'}, page_content='SPRi AI Brief |\\n2023-12월호\\n삼성전자, 자체 개발 생성 AI ‘삼성 가우스’ 공개\\nKEY Contents\\nn 삼성전자가 온디바이스에서 작동 가능하며 언어, 코드, 이미지의 3개 모델로 구성된 자체 개발 생성\\nAI 모델 ‘삼성 가우스’를 공개\\nn 삼성전자는 삼성 가우스를 다양한 제품에 단계적으로 탑재할 계획으로, 온디바이스 작동이 가능한\\n삼성 가우스는 외부로 사용자 정보가 유출될 위험이 없다는 장점을 보유\\n£언어, 코드, 이미지의 3개 모델로 구성된 삼성 가우스, 온디바이스 작동 지원'),\n",
       "  Document(id='6924b616-aa84-4b6a-a4b5-b93ad942e9ee', metadata={'source': 'data/SPRI_AI_Brief_2023년12월호_F.pdf', 'file_path': 'data/SPRI_AI_Brief_2023년12월호_F.pdf', 'page': 12, 'total_pages': 23, 'Author': 'dj', 'Creator': 'Hwp 2018 10.0.0.13462', 'Producer': 'Hancom PDF 1.3.0.542', 'CreationDate': \"D:20231208132838+09'00'\", 'ModDate': \"D:20231208132838+09'00'\", 'PDFVersion': '1.4'}, page_content='£언어, 코드, 이미지의 3개 모델로 구성된 삼성 가우스, 온디바이스 작동 지원\\nn 삼성전자가 2023년 11월 8일 열린 ‘삼성 AI 포럼 2023’ 행사에서 자체 개발한 생성 AI 모델\\n‘삼성 가우스’를 최초 공개\\n∙ 정규분포 이론을 정립한 천재 수학자 가우스(Gauss)의 이름을 본뜬 삼성 가우스는 다양한 상황에\\n최적화된 크기의 모델 선택이 가능\\n∙ 삼성 가우스는 라이선스나 개인정보를 침해하지 않는 안전한 데이터를 통해 학습되었으며,\\n온디바이스에서 작동하도록 설계되어 외부로 사용자의 정보가 유출되지 않는 장점을 보유'),\n",
       "  Document(id='a75f7e74-6ff4-4c59-8b99-f2e02ce228dd', metadata={'source': 'data/SPRI_AI_Brief_2023년12월호_F.pdf', 'file_path': 'data/SPRI_AI_Brief_2023년12월호_F.pdf', 'page': 12, 'total_pages': 23, 'Author': 'dj', 'Creator': 'Hwp 2018 10.0.0.13462', 'Producer': 'Hancom PDF 1.3.0.542', 'CreationDate': \"D:20231208132838+09'00'\", 'ModDate': \"D:20231208132838+09'00'\", 'PDFVersion': '1.4'}, page_content='어시스턴트를 적용한 구글 픽셀(Pixel)과 경쟁할 것으로 예상\\n☞ 출처 : 삼성전자, ‘삼성 AI 포럼’서 자체 개발 생성형 AI ‘삼성 가우스’ 공개, 2023.11.08.\\n삼성전자, ‘삼성 개발자 콘퍼런스 코리아 2023’ 개최, 2023.11.14.\\nTechRepublic, Samsung Gauss: Samsung Research Reveals Generative AI, 2023.11.08.\\n10'),\n",
       "  Document(id='b7051f97-42d5-4f66-9da7-249639b8d9cd', metadata={'source': 'data/SPRI_AI_Brief_2023년12월호_F.pdf', 'file_path': 'data/SPRI_AI_Brief_2023년12월호_F.pdf', 'page': 12, 'total_pages': 23, 'Author': 'dj', 'Creator': 'Hwp 2018 10.0.0.13462', 'Producer': 'Hancom PDF 1.3.0.542', 'CreationDate': \"D:20231208132838+09'00'\", 'ModDate': \"D:20231208132838+09'00'\", 'PDFVersion': '1.4'}, page_content='처리를 지원\\n∙ 코드 모델 기반의 AI 코딩 어시스턴트 ‘코드아이(code.i)’는 대화형 인터페이스로 서비스를 제공하며\\n사내 소프트웨어 개발에 최적화\\n∙ 이미지 모델은 창의적인 이미지를 생성하고 기존 이미지를 원하는 대로 바꿀 수 있도록 지원하며\\n저해상도 이미지의 고해상도 전환도 지원\\nn IT 전문지 테크리퍼블릭(TechRepublic)은 온디바이스 AI가 주요 기술 트렌드로 부상했다며,\\n2024년부터 가우스를 탑재한 삼성 스마트폰이 메타의 라마(Llama)2를 탑재한 퀄컴 기기 및 구글'),\n",
       "  Document(id='6ac9fa9b-f6eb-44aa-9823-cd539361545e', metadata={'source': 'data/SPRI_AI_Brief_2023년12월호_F.pdf', 'file_path': 'data/SPRI_AI_Brief_2023년12월호_F.pdf', 'page': 12, 'total_pages': 23, 'Author': 'dj', 'Creator': 'Hwp 2018 10.0.0.13462', 'Producer': 'Hancom PDF 1.3.0.542', 'CreationDate': \"D:20231208132838+09'00'\", 'ModDate': \"D:20231208132838+09'00'\", 'PDFVersion': '1.4'}, page_content='온디바이스에서 작동하도록 설계되어 외부로 사용자의 정보가 유출되지 않는 장점을 보유\\n∙ 삼성전자는 삼성 가우스를 활용한 온디바이스 AI 기술도 소개했으며, 생성 AI 모델을 다양한 제품에\\n단계적으로 탑재할 계획\\nn 삼성 가우스는 △텍스트를 생성하는 언어모델 △코드를 생성하는 코드 모델 △이미지를 생성하는\\n이미지 모델의 3개 모델로 구성\\n∙ 언어 모델은 클라우드와 온디바이스 대상 다양한 모델로 구성되며, 메일 작성, 문서 요약, 번역 업무의\\n처리를 지원')]}"
      ]
     },
     "execution_count": 27,
     "metadata": {},
     "output_type": "execute_result"
    }
   ],
   "source": [
    "state"
   ]
  },
  {
   "cell_type": "markdown",
   "metadata": {},
   "source": [
    "### 웹 검색 도구"
   ]
  },
  {
   "cell_type": "code",
   "execution_count": 28,
   "metadata": {},
   "outputs": [],
   "source": [
    "from langchain_teddynote.tools.tavily import TavilySearch\n",
    "\n",
    "# 웹 검색 도구 생성\n",
    "web_search_tool = TavilySearch(max_results=3)"
   ]
  },
  {
   "cell_type": "code",
   "execution_count": 29,
   "metadata": {},
   "outputs": [
    {
     "data": {
      "text/plain": [
       "[{'title': '대구에 오면 꼭 들려야할 고기맛집 리스트 Best 5 : 네이버 블로그',\n",
       "  'url': 'https://m.blog.naver.com/lbb_log/223094209123',\n",
       "  'content': '대구에 오면 꼭 들려야할 고기맛집 리스트 Best 5 : 네이버 블로그 대구에 오면 꼭 들려야할 고기맛집 리스트 Best 5 [맛집투어]대구 월배 맛집 기린왕곱창(대구월배양대창,대구월배맛집추천)안녕하세요! [맛집투어]대구 월성동 맛집 미진삼겹살 월성점(대구월성삼겹살,대구삼겹살맛집)안녕하세요! 이빵입니다 :-) 오늘 소개해드릴 리뷰는 대구 월성동에 위치한 삼겹살 맛집 #미진삼겹살월성점... [맛집투어]대구 상인동 맛집 고기굽는 남자 상인점(대구상인맛집,대구고굽남)안녕하세요! 이빵입니다 :-) 오늘 소개해드릴 맛집은 지나다닐때마다 손님이 많아 너무 궁금했던 대구 상인... [맛집투어]대구 달서구 고기집 목구멍 대구점(대구미박삼겹살맛집,대구회식장소추천)안녕하세요! 목구멍 대구 월배점대구광역시 달서구 조암남로32길 22 가동 1층 [맛집투어]대구 진천동 맛집 궁뎅이막창(대구진천맛집,대구막창맛집)안녕하세요! 이빵입니다 :-) 오늘 소개해드릴 맛집은 진짜 오랜만에 먹었던 막창집! 삼겹살,대창,그리고 대구의 별미 막창까지! 대구고기맛집 #대구회식장소추천 #대구달서구맛집 #대구달서구고기집 #궁뎅이막창 #진천궁뎅이막창 #대구막창맛집 #목구멍대구점 #대구유천맛집 #고기굽는남자상인점 #상인동맛집 #대구상인고기집 #대구상인고깃집 #미진삼겹살월성점 #기린왕곱창 댓글 4 공유하기 {\"title\":\"대구에 오면 꼭 들려야할 고기맛집 리스트 Best 5\",\"source\":\"https://blog.naver.com/lbb_log/223094209123\",\"blogName\":\"이빵의 빵..\",\"domainIdOrBlogId\":\"lbb_log\",\"nicknameOrBlogId\":\"이빵\",\"logNo\":223094209123,\"smartEditorVersion\":4,\"meDisplay\":true,\"lineDisplay\":true,\"outsideDisplay\":true,\"cafeDisplay\":true,\"blogDisplay\":true} 댓글 4 공유하기',\n",
       "  'score': 0.6680367,\n",
       "  'raw_content': '대구에 오면 꼭 들려야할 고기맛집 리스트 Best 5 : 네이버 블로그\\n \\n본문 바로가기\\n블로그\\n카테고리 이동 이빵의 빵앗간\\n\\n검색 MY메뉴 열기\\n\\n먹거리\\n대구에 오면 꼭 들려야할 고기맛집 리스트 Best 5\\n\\n이빵\\n2023. 5. 5. 15:31\\n이웃추가\\n본문 기타 기능\\n\\n본문 폰트 크기 조정 본문 폰트 크기 작게 보기 본문 폰트 크기 크게 보기 가\\n\\n공감하기\\n\\n\\n공유하기\\n\\nURL복사\\n신고하기\\n\\n\\n내가 뽑은 고기맛집 BEST 5\\n\\u200b\\n어느날 나에게 달린 댓글\\n‘추천해주신곳 너무 맛있게 잘먹었습니다,\\n대구에 고기집맛있는곳 추천해줄수있을까요?’\\n라는 댓글에서 시작하게된 포스팅\\n곰곰히 이때동안 먹었던 고기들을 떠올리며\\n그래도 진짜 친구들에게 추천할수있는곳을\\n떠올렸을때 가격을 빼고 맛으로만\\n추천드리는 내가 고른 고기맛집 Best 5\\n지금 시작합니다!\\n\\u200b\\n\\n\\u200b\\n\\n기린왕곱창\\n화끈한 돌불판에 구워지는 모듬대창의 참맛\\n[맛집투어]대구 월배 맛집 기린왕곱창(대구월배양대창,대구월배맛집추천)안녕하세요! 이빵입니다 :-) 오늘 소개해드릴 곳은 정말 오랜만에 다녀온 모듬대창맛집! 가격대가 있는편이... m.blog.naver.com\\n\\n\\u200b\\n돌불판에 지글지글 구워져서 나오는\\n‘모듬 메뉴’\\n\\u200b\\n모듬이라는 이름에 걸맞게 대창,곱창,염통,양\\n그리고 각종 야채들이 올라가 기름에 튀기듯\\n구워지는게 이곳의 가장 큰 매력\\n같이 주시는 부추무침을 곁들여먹으면\\n느끼함을 잡아줘 무한정 들어가는 맛\\n맛도 맛이지만 여자사장님의 친절함때문에\\n양대창이 먹고싶을때마다 찾게되는 이곳,\\n\\u200b\\n기린왕곱창대구광역시 달서구 조암남로32길 20-4 비스타115호\\n이 블로그의 체크인\\n이 장소의 다른 글\\n\\n\\u200b\\n\\n미진 삼겹살 월성점\\n웨이팅 필수 월성맛집\\n\\u200b\\n[맛집투어]대구 월성동 맛집 미진삼겹살 월성점(대구월성삼겹살,대구삼겹살맛집)안녕하세요! 이빵입니다 :-) 오늘 소개해드릴 리뷰는 대구 월성동에 위치한 삼겹살 맛집 #미진삼겹살월성점... m.blog.naver.com\\n\\n\\n\\u200b\\n매번 웨이팅이 있길래 궁금함에 방문,\\n모듬메뉴를 주문하면 가브리살빼고 맛볼수있는데\\n비리지않고 감칠맛 도는 맬젓이 매력,\\n두툼한 삼겹살에 수분을 가득 머금어 육즙같이\\n느껴지는 새송이버섯,쫀득바삭한 껍데기,\\n맛깔나는 김치와 콩나물무침까지\\n정신차려보면 내 불판이 비워져있는걸 볼수있다\\n미진삼겹살에서만 맛볼수있는 비빔칼국수도\\n필수로 주문해야한다!\\n\\u200b\\n\\n미진삼겹살 월성점대구광역시 달서구 조암남로14길 62-2 미진삼겹살 월성점\\n이 블로그의 체크인\\n이 장소의 다른 글\\n\\n\\u200b\\n\\n고기굽는 남자 상인점\\n이미 너무 유명한 고기,사이드맛집\\n[맛집투어]대구 상인동 맛집 고기굽는 남자 상인점(대구상인맛집,대구고굽남)안녕하세요! 이빵입니다 :-) 오늘 소개해드릴 맛집은 지나다닐때마다 손님이 많아 너무 궁금했던 대구 상인... m.blog.naver.com\\n\\n\\n\\u200b\\n동네에 새로 생긴 고기집 탐방한다고\\n다녀온 ‘고기굽는남자 상인점’\\n엄청난 웨이팅에 지쳐 돌아갈뻔했지만\\n돌아갔으면 너무 후회했을것같은 고기맛집\\n직원이 처음부터 끝까지 구워주는데다가\\n고기 본연의 맛도 맛있지만 밑반찬과 양념장들이\\n하나하나 맛있어서 그맛이 더 배로 느는 맛집\\n특히 마무리로 사이드메뉴에 있는\\n‘김치말이냉국수’ 를 먹으면 그동안 먹은 기름이\\n싹다 씻겨내려가는 기분이라 추천!\\n\\u200b\\n고기굽는남자 상인점대구광역시 달서구 월곡로 186 1층 고기굽는남자\\n이 블로그의 체크인\\n이 장소의 다른 글\\n\\n\\u200b\\n\\n목구멍 대구월배점\\n추억의 솥뚜껑에 구워지는 미박삼겹살\\n[맛집투어]대구 달서구 고기집 목구멍 대구점(대구미박삼겹살맛집,대구회식장소추천)안녕하세요! 이빵입니다 :-) 오랜만에 오빠랑 두껍한 삼겹살이 너무 땡겨서 알아보고있던중 저희 동네에 삼... m.blog.naver.com\\n\\n\\n\\u200b\\n어린시절 우리 동네에 솥뚜껑에 삼겹살을 구워주는 삼겹살 맛집이 있었다.\\n세월이 지나 그 집이 사라진뒤\\n더이상 솥뚜껑에 구운 삼겹살을 먹을수없었는데\\n대구 월배에 위치한 초록색 간판의 목구멍\\n솥뚜껑에 구워 더 쫀득하고 육즙터지는 고기를\\n맛볼수있다\\n미나리철에 가면 청도 미나리도 같이 맛볼수있어\\n미나리 철에 다시 한번 방문하게되는 곳\\n특히 테이블위 옛날 쟁반이 놓여있어\\n아날로그적인 감성을 더해준다\\n\\n목구멍 대구 월배점대구광역시 달서구 조암남로32길 22 가동 1층\\n이 블로그의 체크인\\n이 장소의 다른 글\\n\\n\\u200b\\n\\n궁뎅이막창\\n대구하면 막창! 막창하면 궁뎅이막창\\n[맛집투어]대구 진천동 맛집 궁뎅이막창(대구진천맛집,대구막창맛집)안녕하세요! 이빵입니다 :-) 오늘 소개해드릴 맛집은 진짜 오랜만에 먹었던 막창집! 대구하면 막창일정도로... m.blog.naver.com\\n\\n\\n\\u200b\\n쫀득하고 고소한 막창은 이미 너무 유명해져버린 대구의 별미\\n안먹어본사람은 있어도 한번만 먹어본사람은 없다는 대구의 막창,\\n1인분에 8,000원이라는 불경기에 단비같은 가격\\n제일 좋은건 라면과 음료수가 무한리필이라는 사실!\\n공짜는 뭐든 좋은 법이다~\\n그외에도 황제쫀득살,삼겹살,양념갈비,닭발등\\n다양한 고기들이 준비되어있는데요!\\n\\u200b\\n다만 아쉬운 점이 있다면 라면코너의 위생,,!\\n\\u200b\\n궁뎅이대구광역시 달서구 진천로 31\\n이 블로그의 체크인\\n이 장소의 다른 글\\n\\n\\u200b\\n개인적인 기준으로\\n삼겹살,대창,그리고 대구의 별미 막창까지!\\n대구에서 먹은 고기집 BEST 5를 뽑아봤는데요!각자의 매력이 있어서\\n한번쯤 방문해보시는걸 추천드립니다!\\n저의 포스팅으로 맛있는 식사가 되셨으면 좋겠네요!\\n\\n\\u200b\\n\\u200b\\n\\u200b\\n\\u200b\\n대구고기맛집 #대구회식장소추천 #대구달서구맛집 #대구달서구고기집 #궁뎅이막창 #진천궁뎅이막창 #대구막창맛집 #목구멍대구점 #대구유천맛집 #고기굽는남자상인점 #상인동맛집 #대구상인고기집 #대구상인고깃집 #미진삼겹살월성점 #기린왕곱창\\n\\n#대구고기맛집\\n#대구회식장소추천\\n#대구달서구맛집\\n#대구달서구고기집\\n#궁뎅이막창\\n#진천궁뎅이막창\\n#대구막창맛집\\n#목구멍대구점\\n#대구유천맛집\\n#고기굽는남자상인점\\n#상인동맛집\\n#대구상인고기집\\n#대구상인고깃집\\n#미진삼겹살월성점\\n#기린왕곱창\\n\\n\\n공감한 사람 보러가기\\n댓글 4 공유하기\\n{\"title\":\"대구에 오면 꼭 들려야할 고기맛집 리스트 Best 5\",\"source\":\"https://blog.naver.com/lbb_log/223094209123\",\"blogName\":\"이빵의 빵..\",\"domainIdOrBlogId\":\"lbb_log\",\"nicknameOrBlogId\":\"이빵\",\"logNo\":223094209123,\"smartEditorVersion\":4,\"meDisplay\":true,\"lineDisplay\":true,\"outsideDisplay\":true,\"cafeDisplay\":true,\"blogDisplay\":true}\\n닫기\\n카테고리\\n이 블로그 홈\\n\\n공감한 사람 보러가기\\n댓글 4 공유하기\\n이빵(lbb_log) 님을 이웃추가하고 새글을 받아보세요\\n취소 이웃추가'},\n",
       " {'title': '대구에 오면 꼭 들려야할 고기맛집 리스트 Best 5 : 네이버 블로그',\n",
       "  'url': 'https://m.blog.naver.com/lbb_log/223094209123',\n",
       "  'content': '대구에 오면 꼭 들려야할 고기맛집 리스트 Best 5 : 네이버 블로그 대구에 오면 꼭 들려야할 고기맛집 리스트 Best 5 [맛집투어]대구 월배 맛집 기린왕곱창(대구월배양대창,대구월배맛집추천)안녕하세요! [맛집투어]대구 월성동 맛집 미진삼겹살 월성점(대구월성삼겹살,대구삼겹살맛집)안녕하세요! 이빵입니다 :-) 오늘 소개해드릴 리뷰는 대구 월성동에 위치한 삼겹살 맛집 #미진삼겹살월성점... [맛집투어]대구 상인동 맛집 고기굽는 남자 상인점(대구상인맛집,대구고굽남)안녕하세요! 이빵입니다 :-) 오늘 소개해드릴 맛집은 지나다닐때마다 손님이 많아 너무 궁금했던 대구 상인... [맛집투어]대구 달서구 고기집 목구멍 대구점(대구미박삼겹살맛집,대구회식장소추천)안녕하세요! 목구멍 대구 월배점대구광역시 달서구 조암남로32길 22 가동 1층 [맛집투어]대구 진천동 맛집 궁뎅이막창(대구진천맛집,대구막창맛집)안녕하세요! 이빵입니다 :-) 오늘 소개해드릴 맛집은 진짜 오랜만에 먹었던 막창집! 삼겹살,대창,그리고 대구의 별미 막창까지! 대구고기맛집 #대구회식장소추천 #대구달서구맛집 #대구달서구고기집 #궁뎅이막창 #진천궁뎅이막창 #대구막창맛집 #목구멍대구점 #대구유천맛집 #고기굽는남자상인점 #상인동맛집 #대구상인고기집 #대구상인고깃집 #미진삼겹살월성점 #기린왕곱창 댓글 4 공유하기 {\"title\":\"대구에 오면 꼭 들려야할 고기맛집 리스트 Best 5\",\"source\":\"https://blog.naver.com/lbb_log/223094209123\",\"blogName\":\"이빵의 빵..\",\"domainIdOrBlogId\":\"lbb_log\",\"nicknameOrBlogId\":\"이빵\",\"logNo\":223094209123,\"smartEditorVersion\":4,\"meDisplay\":true,\"lineDisplay\":true,\"outsideDisplay\":true,\"cafeDisplay\":true,\"blogDisplay\":true} 댓글 4 공유하기',\n",
       "  'score': 0.6680367,\n",
       "  'raw_content': '대구에 오면 꼭 들려야할 고기맛집 리스트 Best 5 : 네이버 블로그\\n \\n본문 바로가기\\n블로그\\n카테고리 이동 이빵의 빵앗간\\n\\n검색 MY메뉴 열기\\n\\n먹거리\\n대구에 오면 꼭 들려야할 고기맛집 리스트 Best 5\\n\\n이빵\\n2023. 5. 5. 15:31\\n이웃추가\\n본문 기타 기능\\n\\n본문 폰트 크기 조정 본문 폰트 크기 작게 보기 본문 폰트 크기 크게 보기 가\\n\\n공감하기\\n\\n\\n공유하기\\n\\nURL복사\\n신고하기\\n\\n\\n내가 뽑은 고기맛집 BEST 5\\n\\u200b\\n어느날 나에게 달린 댓글\\n‘추천해주신곳 너무 맛있게 잘먹었습니다,\\n대구에 고기집맛있는곳 추천해줄수있을까요?’\\n라는 댓글에서 시작하게된 포스팅\\n곰곰히 이때동안 먹었던 고기들을 떠올리며\\n그래도 진짜 친구들에게 추천할수있는곳을\\n떠올렸을때 가격을 빼고 맛으로만\\n추천드리는 내가 고른 고기맛집 Best 5\\n지금 시작합니다!\\n\\u200b\\n\\n\\u200b\\n\\n기린왕곱창\\n화끈한 돌불판에 구워지는 모듬대창의 참맛\\n[맛집투어]대구 월배 맛집 기린왕곱창(대구월배양대창,대구월배맛집추천)안녕하세요! 이빵입니다 :-) 오늘 소개해드릴 곳은 정말 오랜만에 다녀온 모듬대창맛집! 가격대가 있는편이... m.blog.naver.com\\n\\n\\u200b\\n돌불판에 지글지글 구워져서 나오는\\n‘모듬 메뉴’\\n\\u200b\\n모듬이라는 이름에 걸맞게 대창,곱창,염통,양\\n그리고 각종 야채들이 올라가 기름에 튀기듯\\n구워지는게 이곳의 가장 큰 매력\\n같이 주시는 부추무침을 곁들여먹으면\\n느끼함을 잡아줘 무한정 들어가는 맛\\n맛도 맛이지만 여자사장님의 친절함때문에\\n양대창이 먹고싶을때마다 찾게되는 이곳,\\n\\u200b\\n기린왕곱창대구광역시 달서구 조암남로32길 20-4 비스타115호\\n이 블로그의 체크인\\n이 장소의 다른 글\\n\\n\\u200b\\n\\n미진 삼겹살 월성점\\n웨이팅 필수 월성맛집\\n\\u200b\\n[맛집투어]대구 월성동 맛집 미진삼겹살 월성점(대구월성삼겹살,대구삼겹살맛집)안녕하세요! 이빵입니다 :-) 오늘 소개해드릴 리뷰는 대구 월성동에 위치한 삼겹살 맛집 #미진삼겹살월성점... m.blog.naver.com\\n\\n\\n\\u200b\\n매번 웨이팅이 있길래 궁금함에 방문,\\n모듬메뉴를 주문하면 가브리살빼고 맛볼수있는데\\n비리지않고 감칠맛 도는 맬젓이 매력,\\n두툼한 삼겹살에 수분을 가득 머금어 육즙같이\\n느껴지는 새송이버섯,쫀득바삭한 껍데기,\\n맛깔나는 김치와 콩나물무침까지\\n정신차려보면 내 불판이 비워져있는걸 볼수있다\\n미진삼겹살에서만 맛볼수있는 비빔칼국수도\\n필수로 주문해야한다!\\n\\u200b\\n\\n미진삼겹살 월성점대구광역시 달서구 조암남로14길 62-2 미진삼겹살 월성점\\n이 블로그의 체크인\\n이 장소의 다른 글\\n\\n\\u200b\\n\\n고기굽는 남자 상인점\\n이미 너무 유명한 고기,사이드맛집\\n[맛집투어]대구 상인동 맛집 고기굽는 남자 상인점(대구상인맛집,대구고굽남)안녕하세요! 이빵입니다 :-) 오늘 소개해드릴 맛집은 지나다닐때마다 손님이 많아 너무 궁금했던 대구 상인... m.blog.naver.com\\n\\n\\n\\u200b\\n동네에 새로 생긴 고기집 탐방한다고\\n다녀온 ‘고기굽는남자 상인점’\\n엄청난 웨이팅에 지쳐 돌아갈뻔했지만\\n돌아갔으면 너무 후회했을것같은 고기맛집\\n직원이 처음부터 끝까지 구워주는데다가\\n고기 본연의 맛도 맛있지만 밑반찬과 양념장들이\\n하나하나 맛있어서 그맛이 더 배로 느는 맛집\\n특히 마무리로 사이드메뉴에 있는\\n‘김치말이냉국수’ 를 먹으면 그동안 먹은 기름이\\n싹다 씻겨내려가는 기분이라 추천!\\n\\u200b\\n고기굽는남자 상인점대구광역시 달서구 월곡로 186 1층 고기굽는남자\\n이 블로그의 체크인\\n이 장소의 다른 글\\n\\n\\u200b\\n\\n목구멍 대구월배점\\n추억의 솥뚜껑에 구워지는 미박삼겹살\\n[맛집투어]대구 달서구 고기집 목구멍 대구점(대구미박삼겹살맛집,대구회식장소추천)안녕하세요! 이빵입니다 :-) 오랜만에 오빠랑 두껍한 삼겹살이 너무 땡겨서 알아보고있던중 저희 동네에 삼... m.blog.naver.com\\n\\n\\n\\u200b\\n어린시절 우리 동네에 솥뚜껑에 삼겹살을 구워주는 삼겹살 맛집이 있었다.\\n세월이 지나 그 집이 사라진뒤\\n더이상 솥뚜껑에 구운 삼겹살을 먹을수없었는데\\n대구 월배에 위치한 초록색 간판의 목구멍\\n솥뚜껑에 구워 더 쫀득하고 육즙터지는 고기를\\n맛볼수있다\\n미나리철에 가면 청도 미나리도 같이 맛볼수있어\\n미나리 철에 다시 한번 방문하게되는 곳\\n특히 테이블위 옛날 쟁반이 놓여있어\\n아날로그적인 감성을 더해준다\\n\\n목구멍 대구 월배점대구광역시 달서구 조암남로32길 22 가동 1층\\n이 블로그의 체크인\\n이 장소의 다른 글\\n\\n\\u200b\\n\\n궁뎅이막창\\n대구하면 막창! 막창하면 궁뎅이막창\\n[맛집투어]대구 진천동 맛집 궁뎅이막창(대구진천맛집,대구막창맛집)안녕하세요! 이빵입니다 :-) 오늘 소개해드릴 맛집은 진짜 오랜만에 먹었던 막창집! 대구하면 막창일정도로... m.blog.naver.com\\n\\n\\n\\u200b\\n쫀득하고 고소한 막창은 이미 너무 유명해져버린 대구의 별미\\n안먹어본사람은 있어도 한번만 먹어본사람은 없다는 대구의 막창,\\n1인분에 8,000원이라는 불경기에 단비같은 가격\\n제일 좋은건 라면과 음료수가 무한리필이라는 사실!\\n공짜는 뭐든 좋은 법이다~\\n그외에도 황제쫀득살,삼겹살,양념갈비,닭발등\\n다양한 고기들이 준비되어있는데요!\\n\\u200b\\n다만 아쉬운 점이 있다면 라면코너의 위생,,!\\n\\u200b\\n궁뎅이대구광역시 달서구 진천로 31\\n이 블로그의 체크인\\n이 장소의 다른 글\\n\\n\\u200b\\n개인적인 기준으로\\n삼겹살,대창,그리고 대구의 별미 막창까지!\\n대구에서 먹은 고기집 BEST 5를 뽑아봤는데요!각자의 매력이 있어서\\n한번쯤 방문해보시는걸 추천드립니다!\\n저의 포스팅으로 맛있는 식사가 되셨으면 좋겠네요!\\n\\n\\u200b\\n\\u200b\\n\\u200b\\n\\u200b\\n대구고기맛집 #대구회식장소추천 #대구달서구맛집 #대구달서구고기집 #궁뎅이막창 #진천궁뎅이막창 #대구막창맛집 #목구멍대구점 #대구유천맛집 #고기굽는남자상인점 #상인동맛집 #대구상인고기집 #대구상인고깃집 #미진삼겹살월성점 #기린왕곱창\\n\\n#대구고기맛집\\n#대구회식장소추천\\n#대구달서구맛집\\n#대구달서구고기집\\n#궁뎅이막창\\n#진천궁뎅이막창\\n#대구막창맛집\\n#목구멍대구점\\n#대구유천맛집\\n#고기굽는남자상인점\\n#상인동맛집\\n#대구상인고기집\\n#대구상인고깃집\\n#미진삼겹살월성점\\n#기린왕곱창\\n\\n\\n공감한 사람 보러가기\\n댓글 4 공유하기\\n{\"title\":\"대구에 오면 꼭 들려야할 고기맛집 리스트 Best 5\",\"source\":\"https://blog.naver.com/lbb_log/223094209123\",\"blogName\":\"이빵의 빵..\",\"domainIdOrBlogId\":\"lbb_log\",\"nicknameOrBlogId\":\"이빵\",\"logNo\":223094209123,\"smartEditorVersion\":4,\"meDisplay\":true,\"lineDisplay\":true,\"outsideDisplay\":true,\"cafeDisplay\":true,\"blogDisplay\":true}\\n닫기\\n카테고리\\n이 블로그 홈\\n\\n공감한 사람 보러가기\\n댓글 4 공유하기\\n이빵(lbb_log) 님을 이웃추가하고 새글을 받아보세요\\n취소 이웃추가'},\n",
       " {'title': '2023년 ver. 내 맘대로 대구고기맛집 BEST5 순위 정하기! 뒷고기맛집 포함(구워주는 곳)',\n",
       "  'url': 'https://m.blog.naver.com/siye9012/223303238391',\n",
       "  'content': '「대구 평리동맛집」 八一 /팔일- 서구청고기맛집, 대구목살찐맛집 찾았다~~서비스도 역대급!안녕하세요 션이입니다. 「대구 신천동맛집」 눈꽃을 나누다-동대구역 앞 눈꽃삼겹살맛집, 볶음밥 필수안녕하세요 션이입니다 :) 대구에 고기맛집 너무 많죠! 「대구 종로1가 맛집」 혜옥당- 동성로 목살 맛있게 구워주는 웨이팅맛집안녕하세요 션이입니다~ 저 드디어 요즘 인기 많은 동성로 고기맛집에 다녀왔어요!! 「대구 범어동맛집」 향돈촌- 숯불에 구워주는 흑돼지통구이맛집, 점심장사 시작!안녕하세요 션이입니다. 「대구 삼덕동1가맛집」 임대장 대구동성로점- 동성로 골목 안 다 구워서 나오는 고기맛집안녕하세요 션이입니다. 「대구 범어동맛집」 빡빡이숯불화로구이 본점-신천시장 새벽에도 하는 삼겹살맛집안녕하세요 션이입니다. 이제 여기 간지도 거의 1년 반 정도되어 가는데 고기 가격 착하고 고기 구워주고 사이드 다 맛있어요. 꽃돼지식당 수성점/ 대구 수성동4가 신천시장 삼겹살맛집 1달에 1번 꼭 가는 또간집안녕하세요 션이입니다. 구워주는 곳)안녕하세요 션이입니다. 올해는 마로랑 대구 삼겹살 맛집을 진짜 많이 찾아 다닌 것 같아요. 뒷고기맛집 포함(구워주는 곳)\",\"source\":\"https://blog.naver.com/siye9012/223303238391\",\"blogName\":\"션이는 못 ..\",\"domainIdOrBlogId\":\"siye9012\",\"nicknameOrBlogId\":\"션이\",\"logNo\":223303238391,\"smartEditorVersion\":4,\"blogDisplay\":true,\"meDisplay\":true,\"lineDisplay\":true,\"outsideDisplay\":true,\"cafeDisplay\":true}',\n",
       "  'score': 0.6453216,\n",
       "  'raw_content': '2023년 ver. 내 맘대로 대구고기맛집 BEST5 순위 정하기! 뒷고기맛집 포함(구워주는 곳) : 네이버 블로그\\n \\n본문 바로가기\\n블로그\\n카테고리 이동 션이는 못 말려\\n\\n검색 MY메뉴 열기\\n\\n션이 먹부림\\n2023년 ver. 내 맘대로 대구고기맛집 BEST5 순위 정하기! 뒷고기맛집 포함(구워주는 곳)\\n\\n션이\\n2023. 12. 26. 9:53\\n이웃추가\\n본문 기타 기능\\n\\n본문 폰트 크기 조정 본문 폰트 크기 작게 보기 본문 폰트 크기 크게 보기 가\\n\\n공감하기\\n\\n\\n공유하기\\n\\nURL복사\\n신고하기\\n\\n[네이버 인플루언서] 션이션이는 못 말려 블로그 주인 ❝션이❞ 입니다🤍 ✨여행 좋아하는 여행 멍청이 입니다✨ 협찬&협업 문의 siye9012@naver.com 대구근교여행 대구카페투어 경북여행 in.naver.com\\n안녕하세요 션이입니다.\\n\\u200b\\n또 한해가 끝나가고 있어요..\\n저는 올해도 참 많은 고기집을 다녀왔어요.\\n\\u200b\\n연말에 다른 여행인플님들 크리스마스 best5 올릴 때 전 대구고기맛집 best5 한번 정해 볼까 합니다!\\n\\u200b\\n\\u200b\\n~마지막에 찐단골 고기맛집도 있음~\\n\\u200b\\n\\n금돈미가\\n대구 중구 대봉로 190-1 1층\\n\\n\\n추천메뉴: 삼겹살\\n1인분 150g 15,000원\\n\\u200b\\n웨이팅 있음\\n주차장 현금지원\\n본점 (분점없음)\\n\\u200b\\n\\n\\n\\u200b\\n금돈미가는 처음 마로가 데려가줘서 알게된 곳인데요. 고기집 분위기부터 좋고 삼겹살은 진짜 올해 먹은 것 중에 최고였어요.\\n\\u200b\\n잊을 수 없는 맛이였는데 마침 협찬이 들어와 나이스~ 하고 먹었던 곳이랍니다.ㅋㅋ\\n\\u200b\\n\\n\\n\\u200b\\n사이드로는 갈치속젓볶음밥 꼭 무조건 입니다!!!\\n\\u200b\\n금돈미가 동성로 근처 고기집, 대봉동맛집으로 삼겹살 맛있는 또간집!안녕하세요 션이입니다. 예전에 마로가 동성로근처 삼겹살맛집이 데려가 줬는데 이번에 또 한번 방문하게 ... blog.naver.com\\n금돈미가 리뷰\\n\\u200b\\n\\u200b\\n\\u200b\\n\\u200b\\n\\n팔일\\n대구 서구 국채보상로 241\\n\\n\\n추천메뉴: 목살\\n1인분 130g 13,000원\\n\\u200b\\n웨이팅 있음\\n주차장 없음\\n본점 (분점없음)\\n\\u200b\\n\\n\\u200b\\n\\u200b\\n올해 초부터 삼겹살만큼 대구목살맛집이라고 하는 유명한 곳은 다 갔는데 마지막에 목살원탑맛집 발견~~\\n\\u200b\\n팔일은 사장님이 고기에 대한 자부심부터가 다르고\\n모든 직원분들이 고기를 너무 잘 구워주신답니다.\\n\\u200b\\n목살 아무리 먹어도 질리지 않고 부드러워서 여기는 꼭 가보세요!!\\n\\u200b\\n\\n\\u200b\\n돼지찌개는 처음에 서비스로 나옴.\\n\\u200b\\n\\n\\n\\u200b\\n목살이랑 같이 추천메뉴 늑간살도 먹어 봤는데\\n목살이랑은 식감이 많이 달라서 매력있어요.\\n\\u200b\\n마지막에 돼지껍데기도 주문했는데\\n이거 완전 술안주로 대박입니다!!\\n물론 저희는 술은 안 먹었어요.ㅋㅋㅋ\\n찔기지 않고 부드러우면서 쫠깃이에요 쫠깃!!\\n\\u200b\\n\\n\\u200b\\n물냉면이 땡겨서 사이드로 주문했는데\\n이 집 물냉 잘하네요.\\n\\u200b\\n돼지껍데기랑 같이 먹어보세요.\\n식감 너무 좋고 조합도 최고였어요~~\\n\\u200b\\n「대구 평리동맛집」 八一 /팔일- 서구청고기맛집, 대구목살찐맛집 찾았다~~서비스도 역대급!안녕하세요 션이입니다. 얼마 전에 마로 퇴근하고 대구 서구청근처에 돼지고기맛집에 다녀왔어요. 八一 주... m.blog.naver.com\\n팔일 리뷰\\n\\u200b\\n\\u200b\\n\\u200b\\n\\u200b\\n\\n눈꽃을 나누다 동대구역점\\n대구 동구 동부로32길 1\\n\\n\\n추천메뉴: 삼겹살\\n1인분 150g 12,000원\\n\\u200b\\n웨이팅 있음\\n주차장 없음\\n분점방문 (본점 수성동)\\n\\u200b\\n\\n\\n\\u200b\\n대구삼겹살 중에서도 유명한 곳이죠.\\n몇번을 갔던 곳이지만 올해 유독 맛있었던 삼겹살.\\n\\u200b\\n칼집이 엄청 화려한 삼겹살을 한번 초벌해서 나오고 고기도 직접 구워주십니다!\\n처음에 고기 맛있게 먹는 조합을 알려주시는데 진짜 중독성 있는 조합이라 끝까지 같은 조합으로 먹게 되더라구요.\\n\\u200b\\n이 조합 때문에 한번씩 눈꽃을나누다가 생각나요~\\n\\u200b\\n\\n\\u200b\\n식사로는 볶음밥을 먹었어요.\\n\\u200b\\n소스랑 비빈 밥을 불판에서 다시 한번 볶고\\n김가루랑 또 한번 볶아주는데 와 역대급 볶음밥!\\n\\u200b\\n된찌랑 꼭 같이 먹어 주세요~\\n\\u200b\\n「대구 신천동맛집」 눈꽃을 나누다-동대구역 앞 눈꽃삼겹살맛집, 볶음밥 필수안녕하세요 션이입니다 :) 대구에 고기맛집 너무 많죠! 오늘은 그 중 동대구역 앞 눈꽃삼겹살맛집 포스팅을... blog.naver.com\\n눈꽃을나누다 리뷰\\n\\u200b\\n\\u200b\\n\\u200b\\n\\n혜옥당 본점\\n대구 중구 중앙대로81길 28 지상1, 2층\\n\\n\\n추천메뉴: 목살\\n1인분 130g 12,000원\\n\\u200b\\n웨이팅 있음\\n주차장 없음\\n본점방문 (분점있음)\\n\\u200b\\n\\n\\u200b\\n혜옥당도 대구목살맛집으로 유명한 곳!\\n목살 고기도 좋지만 기본적으로 반찬이 너무 잘 나와요.\\n\\u200b\\n\\u200b\\n반찬이 다양할 수록 고기를 다양하게 먹을 수 있다는데 장점!\\n하지만 그것도 고기가 맛있어야 가능한 말이죠~\\n\\u200b\\n직원분들이 고기 너무 잘 구워주시는데\\n목살 드세요.. 삼겹살은 좀..ㅎ\\n\\u200b\\n\\n\\u200b\\n사이드에 깍두기볶음밥 있는데 꼭 드세요!\\n너무 맛있어서 요즘 가끔 생각나요.ㅋㅋ\\n\\u200b\\n\\u200b\\n「대구 종로1가 맛집」 혜옥당- 동성로 목살 맛있게 구워주는 웨이팅맛집안녕하세요 션이입니다~ 저 드디어 요즘 인기 많은 동성로 고기맛집에 다녀왔어요!! 혜옥당 위치는 고기굽... blog.naver.com\\n혜옥당 리뷰\\n\\u200b\\n\\u200b\\n\\u200b\\n\\n참숯불김해부추와뒷고기\\n대구 동구 동부로 13-1 신천LH상가 101동 103호\\n\\n\\n추천메뉴: 뒷고기\\n1인분 130g 8,000원\\n\\u200b\\n웨이팅 있음\\n주차장 아파트상가이용\\n노포맛집\\n\\u200b\\n\\n\\u200b\\n뒷고기는 싼맛에 먹기도 하지만 약간 꼬들하고 아삭한식감도 중요하고 생고기인지 냉동인지도 중요한편.. 뒷고기에도 까다롭네 나.ㅋㅋ\\n\\u200b\\n여튼 여기는 사장님 부부가 하시는 것 같은데 손님 몰리면 주문하고 음식 나오는데 시간이 좀 걸릴 수 있어서 미리 넉넉하게 주문하는 걸 추천합니다.\\n\\u200b\\n\\n\\u200b\\n식당 이름에 부추가 있는 만큼 쌈에도 생부추가 나오고 부추장아찌도 있어요.\\n추가로 다양한 장아찌종류가 진짜 많이 나와요. 처음 먹어보는 것도 있었어요.\\n\\u200b\\n\\u200b\\n고기도 맛있지만 반찬도 끝내주는 곳~\\n\\u200b\\n\\n\\u200b\\n사이드에 몇가지 없는데 라면 주문하면\\n안에 부추 가득 들어 있고 국물이 시원해요!\\n\\u200b\\n「대구 신천동맛집」 참숯불김해부추와뒷고기- 아파트사이에 숨어 있는 신천시장근처 찐노포맛집안녕하세요 션이입니다. 얼마 전에 운동을 갔는데 오랜만에 운동 전에 밥을 먹고 갔어요. 선 단백질 후 운... blog.naver.com\\n참숯불김해부추와뒷고기후기\\n\\u200b\\n\\u200b\\n\\u200b\\n여기까지 2023년도 고기맛집 Best5\\n\\u200b\\n작년에 먹어 본 곳, 아직 못 가본 곳 많지만,\\n올해 제가 먹어본 고기는 중에서는 앞에 소개해드릴 곳이 가장 맛있었어요.\\n\\u200b\\n협찬으로 간 곳이지만 가본 곳 중에 베스트 확실하고 추가 원고료 받은 적 없기 때문에 리얼 입니다!\\n\\u200b\\n\\u200b\\n\\n지금부터는 맛은 정말 좋았지만\\n순위권에서 밀려난 대구고기맛집들..\\n\\u200b\\n\\n향돈촌\\n대구 수성구 상록로 14\\n\\n\\n\\u200b\\n흑돼지통구이라는 고기가 정말 부드럽고 맛있어요.\\n안에 자리가 넓지만 식당이 오래된 것 같아요.\\n\\u200b\\n\\n\\n\\u200b\\n반찬이 다양한데 맛있음.\\n또 생각나면 갈 의향 있는 곳.\\n\\u200b\\n\\n\\u200b\\n녹차비냉에 고기 같이 먹으면 너무 맛있다구요~\\n\\u200b\\n「대구 범어동맛집」 향돈촌- 숯불에 구워주는 흑돼지통구이맛집, 점심장사 시작!안녕하세요 션이입니다. 마로랑 범어동고기맛집이 있어서 다녀왔는데요. 약간 노포 분위기에 넓은네 회식장... blog.naver.com\\n\\u200b\\n\\u200b\\n\\u200b\\n\\u200b\\n\\n윤봉근돼지고기전문점\\n대구 동구 동부로30길 30\\n\\n\\n\\n\\u200b\\n수족관에서 저온침식숙성을 한다는 윤봉근고기는 삼겹살을 추천합니다.\\n삼겹살 맛있고 다 좋은데 약간 어수선한 분위기.ㅎ\\n\\u200b\\n\\n\\u200b\\n최근에 다른 곳에서 갈비를 먹어보고 든 생각인데\\n여기 갈비 참 맛있어요!!\\n\\u200b\\n사이드는 다 무난무난했어요.\\n\\u200b\\n「대구 신천동맛집」 윤봉근 돼지고기전문점 동대구점 -수족관 숙성삼겹살 동대구역근처안녕하세요 션이입니다. 여긴 연말에 다녀 온 곳인데 이제서야 포스팅 하네요. 마로가 찾아본 삼겹살맛집인... blog.naver.com\\n\\u200b\\n\\u200b\\n\\u200b\\n\\u200b\\n\\n임대장 대구동성로점\\n대구 중구 동성로3길 32-12\\n\\n\\n\\n\\u200b\\n대장모듬한판 먹어봤는데 야채부터 고기 다양하게 다 구워서 한판에 나오는 건 진짜 편하고 맛있다.\\n\\u200b\\n하지만 고기를 눈 앞에서 굽는 건 다 이유가 있다~\\n\\u200b\\n\\u200b\\n여러명이 가서 안 굽고 굽는 걸 기다리지 않고\\n바로 먹을 수 있다는 장점은 있지만 딱 그 정도.\\n\\u200b\\n물론 고기는 맛있었음.\\n\\u200b\\n「대구 삼덕동1가맛집」 임대장 대구동성로점- 동성로 골목 안 다 구워서 나오는 고기맛집안녕하세요 션이입니다. 운동 후에는 역시 고기.. 요즘 운동 하고 갈 식당이 고깃집 뿐이에요. 조금 속상하... m.blog.naver.com\\n\\u200b\\n\\u200b\\n\\u200b\\n\\u200b\\n\\n빡빡이본점\\n대구 수성구 들안로 395\\n\\n\\n\\n\\u200b\\n고기 가성비도 좋은데 질도 훌륭한 곳\\n새벽에 늦게까지 하는 곳 찾는 다면 추천!\\n\\u200b\\n친절하고 다 좋지만 맛집 of 맛집들에 밀렸을 뿐..\\n\\u200b\\n「대구 범어동맛집」 빡빡이숯불화로구이 본점-신천시장 새벽에도 하는 삼겹살맛집안녕하세요 션이입니다. 이번 명절에 밤에 늦게 밥 먹을 곳을 찾으로 갔는데 결국 또 고기를 먹으로 갔어요... blog.naver.com\\n\\u200b\\n\\u200b\\n\\n꽃돼지식당 수성점\\n대구 수성구 들안로 382 1,2층 꽃돼지식당\\n\\n\\n\\u200b\\n사실 진짜 찐은 여기!\\n1달에 한번 1년 꼬박 방문한 곳이랍니다.\\n\\u200b\\n이제 여기 간지도 거의 1년 반 정도되어 가는데 고기 가격 착하고 고기 구워주고 사이드 다 맛있어요.\\n늦게까지 하는 점도.👍🏻\\n\\u200b\\n체인점이지만 다른 지점 가본 결과\\n여기가 가장 맛있음.\\n\\u200b\\n\\n\\u200b\\n사이드로 떠먹는 걸 좋아한다면 전골을\\n밥을 좋아한다면 꼭 볶음밥 추천~\\n\\u200b\\n볶음밥은 고기 먹은 후 전골 먹은 후 다 가능!!\\n\\u200b\\n꽃돼지식당 수성점/ 대구 수성동4가 신천시장 삼겹살맛집 1달에 1번 꼭 가는 또간집안녕하세요 션이입니다. 저랑 마로는 1달에 한번 꼭 방문하고 있는 대구고기집이 있어요. 여긴 처음에 본캐... blog.naver.com\\n후기를 본계 작성 했지만 최근에 부계에 올렸었음!\\n사진은 좀 대충 찍었지만 찐맛집 어디 안갑니다~\\n\\u200b\\n\\u200b\\n\\u200b\\n\\u200b\\n\\u200b\\n\\n고기에 진심인 여행인플 션이입니다.\\n많관부탁드리고 대구고기 맛집추천도 받아요~~\\n\\u200b\\n\\u200b\\n\\u200b\\n\\n2022년 버전 대구고기맛집 top5\\n내 맘대로 2022년 대구 삼겹살맛집 BEST5 순위 정하기! 대구고기맛집 모음(ft. 구워주는 곳)안녕하세요 션이입니다. 올해는 마로랑 대구 삼겹살 맛집을 진짜 많이 찾아 다닌 것 같아요. 거의 삼겹살맛... blog.naver.com\\n\\n\\n#대구고기맛집\\n#대구삼겹살맛집\\n#대구목살맛집\\n#대구고기맛집모음\\n#대구목살맛집추천\\n#대구삼겹살맛집추천\\n#대구삼겹살\\n#대구목살\\n\\n\\n공감한 사람 보러가기\\n댓글 27 공유하기\\n{\"title\":\"2023년 ver. 내 맘대로 대구고기맛집 BEST5 순위 정하기! 뒷고기맛집 포함(구워주는 곳)\",\"source\":\"https://blog.naver.com/siye9012/223303238391\",\"blogName\":\"션이는 못 ..\",\"domainIdOrBlogId\":\"siye9012\",\"nicknameOrBlogId\":\"션이\",\"logNo\":223303238391,\"smartEditorVersion\":4,\"blogDisplay\":true,\"meDisplay\":true,\"lineDisplay\":true,\"outsideDisplay\":true,\"cafeDisplay\":true}\\n닫기\\n카테고리\\n이 블로그 홈\\n\\n공감한 사람 보러가기\\n댓글 27 공유하기\\n션이(siye9012) 님을 이웃추가하고 새글을 받아보세요\\n취소 이웃추가'},\n",
       " {'title': '2023년 ver. 내 맘대로 대구고기맛집 BEST5 순위 정하기! 뒷고기맛집 포함(구워주는 곳)',\n",
       "  'url': 'https://m.blog.naver.com/siye9012/223303238391',\n",
       "  'content': '「대구 평리동맛집」 八一 /팔일- 서구청고기맛집, 대구목살찐맛집 찾았다~~서비스도 역대급!안녕하세요 션이입니다. 「대구 신천동맛집」 눈꽃을 나누다-동대구역 앞 눈꽃삼겹살맛집, 볶음밥 필수안녕하세요 션이입니다 :) 대구에 고기맛집 너무 많죠! 「대구 종로1가 맛집」 혜옥당- 동성로 목살 맛있게 구워주는 웨이팅맛집안녕하세요 션이입니다~ 저 드디어 요즘 인기 많은 동성로 고기맛집에 다녀왔어요!! 「대구 범어동맛집」 향돈촌- 숯불에 구워주는 흑돼지통구이맛집, 점심장사 시작!안녕하세요 션이입니다. 「대구 삼덕동1가맛집」 임대장 대구동성로점- 동성로 골목 안 다 구워서 나오는 고기맛집안녕하세요 션이입니다. 「대구 범어동맛집」 빡빡이숯불화로구이 본점-신천시장 새벽에도 하는 삼겹살맛집안녕하세요 션이입니다. 이제 여기 간지도 거의 1년 반 정도되어 가는데 고기 가격 착하고 고기 구워주고 사이드 다 맛있어요. 꽃돼지식당 수성점/ 대구 수성동4가 신천시장 삼겹살맛집 1달에 1번 꼭 가는 또간집안녕하세요 션이입니다. 구워주는 곳)안녕하세요 션이입니다. 올해는 마로랑 대구 삼겹살 맛집을 진짜 많이 찾아 다닌 것 같아요. 뒷고기맛집 포함(구워주는 곳)\",\"source\":\"https://blog.naver.com/siye9012/223303238391\",\"blogName\":\"션이는 못 ..\",\"domainIdOrBlogId\":\"siye9012\",\"nicknameOrBlogId\":\"션이\",\"logNo\":223303238391,\"smartEditorVersion\":4,\"blogDisplay\":true,\"meDisplay\":true,\"lineDisplay\":true,\"outsideDisplay\":true,\"cafeDisplay\":true}',\n",
       "  'score': 0.6453216,\n",
       "  'raw_content': '2023년 ver. 내 맘대로 대구고기맛집 BEST5 순위 정하기! 뒷고기맛집 포함(구워주는 곳) : 네이버 블로그\\n \\n본문 바로가기\\n블로그\\n카테고리 이동 션이는 못 말려\\n\\n검색 MY메뉴 열기\\n\\n션이 먹부림\\n2023년 ver. 내 맘대로 대구고기맛집 BEST5 순위 정하기! 뒷고기맛집 포함(구워주는 곳)\\n\\n션이\\n2023. 12. 26. 9:53\\n이웃추가\\n본문 기타 기능\\n\\n본문 폰트 크기 조정 본문 폰트 크기 작게 보기 본문 폰트 크기 크게 보기 가\\n\\n공감하기\\n\\n\\n공유하기\\n\\nURL복사\\n신고하기\\n\\n[네이버 인플루언서] 션이션이는 못 말려 블로그 주인 ❝션이❞ 입니다🤍 ✨여행 좋아하는 여행 멍청이 입니다✨ 협찬&협업 문의 siye9012@naver.com 대구근교여행 대구카페투어 경북여행 in.naver.com\\n안녕하세요 션이입니다.\\n\\u200b\\n또 한해가 끝나가고 있어요..\\n저는 올해도 참 많은 고기집을 다녀왔어요.\\n\\u200b\\n연말에 다른 여행인플님들 크리스마스 best5 올릴 때 전 대구고기맛집 best5 한번 정해 볼까 합니다!\\n\\u200b\\n\\u200b\\n~마지막에 찐단골 고기맛집도 있음~\\n\\u200b\\n\\n금돈미가\\n대구 중구 대봉로 190-1 1층\\n\\n\\n추천메뉴: 삼겹살\\n1인분 150g 15,000원\\n\\u200b\\n웨이팅 있음\\n주차장 현금지원\\n본점 (분점없음)\\n\\u200b\\n\\n\\n\\u200b\\n금돈미가는 처음 마로가 데려가줘서 알게된 곳인데요. 고기집 분위기부터 좋고 삼겹살은 진짜 올해 먹은 것 중에 최고였어요.\\n\\u200b\\n잊을 수 없는 맛이였는데 마침 협찬이 들어와 나이스~ 하고 먹었던 곳이랍니다.ㅋㅋ\\n\\u200b\\n\\n\\n\\u200b\\n사이드로는 갈치속젓볶음밥 꼭 무조건 입니다!!!\\n\\u200b\\n금돈미가 동성로 근처 고기집, 대봉동맛집으로 삼겹살 맛있는 또간집!안녕하세요 션이입니다. 예전에 마로가 동성로근처 삼겹살맛집이 데려가 줬는데 이번에 또 한번 방문하게 ... blog.naver.com\\n금돈미가 리뷰\\n\\u200b\\n\\u200b\\n\\u200b\\n\\u200b\\n\\n팔일\\n대구 서구 국채보상로 241\\n\\n\\n추천메뉴: 목살\\n1인분 130g 13,000원\\n\\u200b\\n웨이팅 있음\\n주차장 없음\\n본점 (분점없음)\\n\\u200b\\n\\n\\u200b\\n\\u200b\\n올해 초부터 삼겹살만큼 대구목살맛집이라고 하는 유명한 곳은 다 갔는데 마지막에 목살원탑맛집 발견~~\\n\\u200b\\n팔일은 사장님이 고기에 대한 자부심부터가 다르고\\n모든 직원분들이 고기를 너무 잘 구워주신답니다.\\n\\u200b\\n목살 아무리 먹어도 질리지 않고 부드러워서 여기는 꼭 가보세요!!\\n\\u200b\\n\\n\\u200b\\n돼지찌개는 처음에 서비스로 나옴.\\n\\u200b\\n\\n\\n\\u200b\\n목살이랑 같이 추천메뉴 늑간살도 먹어 봤는데\\n목살이랑은 식감이 많이 달라서 매력있어요.\\n\\u200b\\n마지막에 돼지껍데기도 주문했는데\\n이거 완전 술안주로 대박입니다!!\\n물론 저희는 술은 안 먹었어요.ㅋㅋㅋ\\n찔기지 않고 부드러우면서 쫠깃이에요 쫠깃!!\\n\\u200b\\n\\n\\u200b\\n물냉면이 땡겨서 사이드로 주문했는데\\n이 집 물냉 잘하네요.\\n\\u200b\\n돼지껍데기랑 같이 먹어보세요.\\n식감 너무 좋고 조합도 최고였어요~~\\n\\u200b\\n「대구 평리동맛집」 八一 /팔일- 서구청고기맛집, 대구목살찐맛집 찾았다~~서비스도 역대급!안녕하세요 션이입니다. 얼마 전에 마로 퇴근하고 대구 서구청근처에 돼지고기맛집에 다녀왔어요. 八一 주... m.blog.naver.com\\n팔일 리뷰\\n\\u200b\\n\\u200b\\n\\u200b\\n\\u200b\\n\\n눈꽃을 나누다 동대구역점\\n대구 동구 동부로32길 1\\n\\n\\n추천메뉴: 삼겹살\\n1인분 150g 12,000원\\n\\u200b\\n웨이팅 있음\\n주차장 없음\\n분점방문 (본점 수성동)\\n\\u200b\\n\\n\\n\\u200b\\n대구삼겹살 중에서도 유명한 곳이죠.\\n몇번을 갔던 곳이지만 올해 유독 맛있었던 삼겹살.\\n\\u200b\\n칼집이 엄청 화려한 삼겹살을 한번 초벌해서 나오고 고기도 직접 구워주십니다!\\n처음에 고기 맛있게 먹는 조합을 알려주시는데 진짜 중독성 있는 조합이라 끝까지 같은 조합으로 먹게 되더라구요.\\n\\u200b\\n이 조합 때문에 한번씩 눈꽃을나누다가 생각나요~\\n\\u200b\\n\\n\\u200b\\n식사로는 볶음밥을 먹었어요.\\n\\u200b\\n소스랑 비빈 밥을 불판에서 다시 한번 볶고\\n김가루랑 또 한번 볶아주는데 와 역대급 볶음밥!\\n\\u200b\\n된찌랑 꼭 같이 먹어 주세요~\\n\\u200b\\n「대구 신천동맛집」 눈꽃을 나누다-동대구역 앞 눈꽃삼겹살맛집, 볶음밥 필수안녕하세요 션이입니다 :) 대구에 고기맛집 너무 많죠! 오늘은 그 중 동대구역 앞 눈꽃삼겹살맛집 포스팅을... blog.naver.com\\n눈꽃을나누다 리뷰\\n\\u200b\\n\\u200b\\n\\u200b\\n\\n혜옥당 본점\\n대구 중구 중앙대로81길 28 지상1, 2층\\n\\n\\n추천메뉴: 목살\\n1인분 130g 12,000원\\n\\u200b\\n웨이팅 있음\\n주차장 없음\\n본점방문 (분점있음)\\n\\u200b\\n\\n\\u200b\\n혜옥당도 대구목살맛집으로 유명한 곳!\\n목살 고기도 좋지만 기본적으로 반찬이 너무 잘 나와요.\\n\\u200b\\n\\u200b\\n반찬이 다양할 수록 고기를 다양하게 먹을 수 있다는데 장점!\\n하지만 그것도 고기가 맛있어야 가능한 말이죠~\\n\\u200b\\n직원분들이 고기 너무 잘 구워주시는데\\n목살 드세요.. 삼겹살은 좀..ㅎ\\n\\u200b\\n\\n\\u200b\\n사이드에 깍두기볶음밥 있는데 꼭 드세요!\\n너무 맛있어서 요즘 가끔 생각나요.ㅋㅋ\\n\\u200b\\n\\u200b\\n「대구 종로1가 맛집」 혜옥당- 동성로 목살 맛있게 구워주는 웨이팅맛집안녕하세요 션이입니다~ 저 드디어 요즘 인기 많은 동성로 고기맛집에 다녀왔어요!! 혜옥당 위치는 고기굽... blog.naver.com\\n혜옥당 리뷰\\n\\u200b\\n\\u200b\\n\\u200b\\n\\n참숯불김해부추와뒷고기\\n대구 동구 동부로 13-1 신천LH상가 101동 103호\\n\\n\\n추천메뉴: 뒷고기\\n1인분 130g 8,000원\\n\\u200b\\n웨이팅 있음\\n주차장 아파트상가이용\\n노포맛집\\n\\u200b\\n\\n\\u200b\\n뒷고기는 싼맛에 먹기도 하지만 약간 꼬들하고 아삭한식감도 중요하고 생고기인지 냉동인지도 중요한편.. 뒷고기에도 까다롭네 나.ㅋㅋ\\n\\u200b\\n여튼 여기는 사장님 부부가 하시는 것 같은데 손님 몰리면 주문하고 음식 나오는데 시간이 좀 걸릴 수 있어서 미리 넉넉하게 주문하는 걸 추천합니다.\\n\\u200b\\n\\n\\u200b\\n식당 이름에 부추가 있는 만큼 쌈에도 생부추가 나오고 부추장아찌도 있어요.\\n추가로 다양한 장아찌종류가 진짜 많이 나와요. 처음 먹어보는 것도 있었어요.\\n\\u200b\\n\\u200b\\n고기도 맛있지만 반찬도 끝내주는 곳~\\n\\u200b\\n\\n\\u200b\\n사이드에 몇가지 없는데 라면 주문하면\\n안에 부추 가득 들어 있고 국물이 시원해요!\\n\\u200b\\n「대구 신천동맛집」 참숯불김해부추와뒷고기- 아파트사이에 숨어 있는 신천시장근처 찐노포맛집안녕하세요 션이입니다. 얼마 전에 운동을 갔는데 오랜만에 운동 전에 밥을 먹고 갔어요. 선 단백질 후 운... blog.naver.com\\n참숯불김해부추와뒷고기후기\\n\\u200b\\n\\u200b\\n\\u200b\\n여기까지 2023년도 고기맛집 Best5\\n\\u200b\\n작년에 먹어 본 곳, 아직 못 가본 곳 많지만,\\n올해 제가 먹어본 고기는 중에서는 앞에 소개해드릴 곳이 가장 맛있었어요.\\n\\u200b\\n협찬으로 간 곳이지만 가본 곳 중에 베스트 확실하고 추가 원고료 받은 적 없기 때문에 리얼 입니다!\\n\\u200b\\n\\u200b\\n\\n지금부터는 맛은 정말 좋았지만\\n순위권에서 밀려난 대구고기맛집들..\\n\\u200b\\n\\n향돈촌\\n대구 수성구 상록로 14\\n\\n\\n\\u200b\\n흑돼지통구이라는 고기가 정말 부드럽고 맛있어요.\\n안에 자리가 넓지만 식당이 오래된 것 같아요.\\n\\u200b\\n\\n\\n\\u200b\\n반찬이 다양한데 맛있음.\\n또 생각나면 갈 의향 있는 곳.\\n\\u200b\\n\\n\\u200b\\n녹차비냉에 고기 같이 먹으면 너무 맛있다구요~\\n\\u200b\\n「대구 범어동맛집」 향돈촌- 숯불에 구워주는 흑돼지통구이맛집, 점심장사 시작!안녕하세요 션이입니다. 마로랑 범어동고기맛집이 있어서 다녀왔는데요. 약간 노포 분위기에 넓은네 회식장... blog.naver.com\\n\\u200b\\n\\u200b\\n\\u200b\\n\\u200b\\n\\n윤봉근돼지고기전문점\\n대구 동구 동부로30길 30\\n\\n\\n\\n\\u200b\\n수족관에서 저온침식숙성을 한다는 윤봉근고기는 삼겹살을 추천합니다.\\n삼겹살 맛있고 다 좋은데 약간 어수선한 분위기.ㅎ\\n\\u200b\\n\\n\\u200b\\n최근에 다른 곳에서 갈비를 먹어보고 든 생각인데\\n여기 갈비 참 맛있어요!!\\n\\u200b\\n사이드는 다 무난무난했어요.\\n\\u200b\\n「대구 신천동맛집」 윤봉근 돼지고기전문점 동대구점 -수족관 숙성삼겹살 동대구역근처안녕하세요 션이입니다. 여긴 연말에 다녀 온 곳인데 이제서야 포스팅 하네요. 마로가 찾아본 삼겹살맛집인... blog.naver.com\\n\\u200b\\n\\u200b\\n\\u200b\\n\\u200b\\n\\n임대장 대구동성로점\\n대구 중구 동성로3길 32-12\\n\\n\\n\\n\\u200b\\n대장모듬한판 먹어봤는데 야채부터 고기 다양하게 다 구워서 한판에 나오는 건 진짜 편하고 맛있다.\\n\\u200b\\n하지만 고기를 눈 앞에서 굽는 건 다 이유가 있다~\\n\\u200b\\n\\u200b\\n여러명이 가서 안 굽고 굽는 걸 기다리지 않고\\n바로 먹을 수 있다는 장점은 있지만 딱 그 정도.\\n\\u200b\\n물론 고기는 맛있었음.\\n\\u200b\\n「대구 삼덕동1가맛집」 임대장 대구동성로점- 동성로 골목 안 다 구워서 나오는 고기맛집안녕하세요 션이입니다. 운동 후에는 역시 고기.. 요즘 운동 하고 갈 식당이 고깃집 뿐이에요. 조금 속상하... m.blog.naver.com\\n\\u200b\\n\\u200b\\n\\u200b\\n\\u200b\\n\\n빡빡이본점\\n대구 수성구 들안로 395\\n\\n\\n\\n\\u200b\\n고기 가성비도 좋은데 질도 훌륭한 곳\\n새벽에 늦게까지 하는 곳 찾는 다면 추천!\\n\\u200b\\n친절하고 다 좋지만 맛집 of 맛집들에 밀렸을 뿐..\\n\\u200b\\n「대구 범어동맛집」 빡빡이숯불화로구이 본점-신천시장 새벽에도 하는 삼겹살맛집안녕하세요 션이입니다. 이번 명절에 밤에 늦게 밥 먹을 곳을 찾으로 갔는데 결국 또 고기를 먹으로 갔어요... blog.naver.com\\n\\u200b\\n\\u200b\\n\\n꽃돼지식당 수성점\\n대구 수성구 들안로 382 1,2층 꽃돼지식당\\n\\n\\n\\u200b\\n사실 진짜 찐은 여기!\\n1달에 한번 1년 꼬박 방문한 곳이랍니다.\\n\\u200b\\n이제 여기 간지도 거의 1년 반 정도되어 가는데 고기 가격 착하고 고기 구워주고 사이드 다 맛있어요.\\n늦게까지 하는 점도.👍🏻\\n\\u200b\\n체인점이지만 다른 지점 가본 결과\\n여기가 가장 맛있음.\\n\\u200b\\n\\n\\u200b\\n사이드로 떠먹는 걸 좋아한다면 전골을\\n밥을 좋아한다면 꼭 볶음밥 추천~\\n\\u200b\\n볶음밥은 고기 먹은 후 전골 먹은 후 다 가능!!\\n\\u200b\\n꽃돼지식당 수성점/ 대구 수성동4가 신천시장 삼겹살맛집 1달에 1번 꼭 가는 또간집안녕하세요 션이입니다. 저랑 마로는 1달에 한번 꼭 방문하고 있는 대구고기집이 있어요. 여긴 처음에 본캐... blog.naver.com\\n후기를 본계 작성 했지만 최근에 부계에 올렸었음!\\n사진은 좀 대충 찍었지만 찐맛집 어디 안갑니다~\\n\\u200b\\n\\u200b\\n\\u200b\\n\\u200b\\n\\u200b\\n\\n고기에 진심인 여행인플 션이입니다.\\n많관부탁드리고 대구고기 맛집추천도 받아요~~\\n\\u200b\\n\\u200b\\n\\u200b\\n\\n2022년 버전 대구고기맛집 top5\\n내 맘대로 2022년 대구 삼겹살맛집 BEST5 순위 정하기! 대구고기맛집 모음(ft. 구워주는 곳)안녕하세요 션이입니다. 올해는 마로랑 대구 삼겹살 맛집을 진짜 많이 찾아 다닌 것 같아요. 거의 삼겹살맛... blog.naver.com\\n\\n\\n#대구고기맛집\\n#대구삼겹살맛집\\n#대구목살맛집\\n#대구고기맛집모음\\n#대구목살맛집추천\\n#대구삼겹살맛집추천\\n#대구삼겹살\\n#대구목살\\n\\n\\n공감한 사람 보러가기\\n댓글 27 공유하기\\n{\"title\":\"2023년 ver. 내 맘대로 대구고기맛집 BEST5 순위 정하기! 뒷고기맛집 포함(구워주는 곳)\",\"source\":\"https://blog.naver.com/siye9012/223303238391\",\"blogName\":\"션이는 못 ..\",\"domainIdOrBlogId\":\"siye9012\",\"nicknameOrBlogId\":\"션이\",\"logNo\":223303238391,\"smartEditorVersion\":4,\"blogDisplay\":true,\"meDisplay\":true,\"lineDisplay\":true,\"outsideDisplay\":true,\"cafeDisplay\":true}\\n닫기\\n카테고리\\n이 블로그 홈\\n\\n공감한 사람 보러가기\\n댓글 27 공유하기\\n션이(siye9012) 님을 이웃추가하고 새글을 받아보세요\\n취소 이웃추가'},\n",
       " {'title': '대구 맛집 추천 리스트 :: 고기편 (대구 고기 맛집) : 네이버 블로그',\n",
       "  'url': 'https://blog.naver.com/PostView.naver?blogId=ssopssop_couple&logNo=223312372541',\n",
       "  'content': '블로그 블로그 검색 블로그 블로그 대구 맛집 추천 리스트 :: 고기편 (대구 고기 맛집) 대구 고기 맛집 :: 삼겹살 대구 삼겹살 맛집 추천 대구 고기 맛집 :: 뒷고기 대구 뒷고기 맛집 추천 [해안역참숯뒷고기] 대구 뒷고기 맛집 (feat. 대구 고기 맛집 :: 찜갈비 대구 찜갈비 맛집 추천 [대구/여원찜갈비] 동인동식 찜갈비 대구갈비 맛집 (feat. 대구 고기 맛집 :: 갈비 대구 갈비 맛집 추천 ▫️  위치 : 대구 범어동 [대구/가창끝갈비] 가창 돼지갈비 맛집 (feat. [대구/일사이공] 대구LA갈비 맛집 (feat. 대구 고기 맛집 :: 곱창 대구 곱창 맛집 추천 대구 고기 맛집 :: 장어 대구 장어 맛집 추천 대구 고기 맛집 :: 고기뷔페 대구 고기뷔페 맛집 추천 [명륜진사갈비 대구 테크노폴리스점] 달성군 돼지갈비 맛집 (feat. 명륜진사갈비 대구 테크노폴리스점 안녕하세요! 대구 고기 맛집 추천 리스트였습니다!',\n",
       "  'score': 0.60386235,\n",
       "  'raw_content': 'NAVER\\n블로그\\nPOWER J, AMANDA\\n블로그 검색\\n이 블로그에서 검색\\n공감 \\n댓글 2\\n공유하기\\n메뉴 바로가기\\n본문 바로가기\\n내 블로그 \\n이웃블로그 \\n블로그 홈 \\n로그인\\n사용자 링크\\n블로그 메뉴\\n 프롤로그\\n 블로그\\n 생활정보\\n 리빙\\n 뷰티\\n 푸드\\n안부\\n블로그\\n전체보기 587개의 글\\n전체보기\\n목록열기\\n맛집\\n대구 맛집 추천 리스트 :: 고기편 (대구 고기 맛집)\\n아만다 ・ 2024. 1. 4. 16:07\\nURL 복사  이웃추가\\n본문 기타 기능\\n맛집 추천 리스트 :: 고기편\\n\\u200b\\n안녕하세요!\\n대구댁 아만다입니다👩🏻\\n\\u200b\\n2023년에 직접 먹어본  대구 고기집 중에\\n베스트 오브 베스트를 뽑아봤어요!\\n\\u200b\\n대구 고기 맛집을 추천해드릴게요 :)\\n\\u200b\\n대구에 고기 맛집이 많아\\n삼겹살, 뒷고기, 찜갈비, 갈비,\\n곱창, 장어, 고기뷔페로 나누어\\n맛집을 분야별로 선정해보았습니당.\\n\\u200b\\n직접 다녀와본 후기 링크도 걸어놓았으니\\n고기종류에 따라 맛집정보 참고하세요 :)\\n\\u200b\\n\\u200b\\n대구 고기 맛집 :: 삼겹살\\n대구 삼겹살 맛집 추천\\n\\u200b\\n🎤 김형제 고기의 철학\\n▫️  위치 : 대구 수성못, 대구 들안길\\n▫️  주요메뉴 : 이베리코\\n▫️  추천포인트\\n  - 예약시스템 잘되어있음 (반드시 예약 추천!)\\n\\n  - 주차가능 (6~8대 정도 주차 가능)\\n\\n  - 단체석보유 (6~12인석 룸 있음)\\n\\n  - 단체회식, 가족외식하기 좋음\\n\\n  - 직접구워줌\\n\\n  - 매장깔끔하고 인테리어 예쁨\\n\\n[대구/김형제고기의철학 대구수성못점] 구워주는 고기집 이베리코 후기\\n김형제고기의철학 대구수성못점 안녕하세요! 대구댁 아만다입니다👩🏻 세계미식가들의 선택 이베리코 ...\\nblog.naver.com\\n\\u200b\\n🎤 692왕소금구이 육구이왕소금구이\\n▫️  위치 : 대구 신천시장, 대구 범어동\\n▫️  주요메뉴 : 삼겹살\\n▫️  추천포인트\\n  - 단체석보유 (8인정도 수용가능 룸 있음)\\n\\n  - 직접구워줌\\n\\n  - 주문즉시 만드는 콩나물무침 맛있음\\n\\n  - 밑반찬과 고기가 정말 맛있음\\n\\n[대구/692왕소금구이] 수성구 삼겹살 (feat. 벌집삼겹살 소금구이)\\n692 왕소금구이 안녕하세요! 대구댁 아만다입니다👩🏻 남자들은 왜이렇게 고기를 좋아하는거죠? ㅋㅋㅋ...\\nblog.naver.com\\n\\u200b\\n🎤 옹고집\\n▫️  위치 : 대구 반야월, 대구 신기동\\n▫️  주요메뉴 : 삼겹살\\n▫️  추천포인트\\n  - 주차가능\\n\\n  - 맥주, 소주 4천원\\n\\n  - 가성비 좋은 맛집\\n\\n  - 고기 상태가 정말 좋음\\n\\n  - 점심 고기식사시 된장식사 또는 냉면 무료\\n\\n[대구/옹고집] 신기동맛집 반야월 삼겹살 회식장소 추천 (feat. 소주 맥주 4천원)\\n옹고집 안녕하세요! 대구댁 아만다입니다👩🏻 최근에 대구 안심뉴타운 쪽에 신축아파트랑 맛집이 많이 ...\\nblog.naver.com\\n\\u200b\\n🎤 열무밭에돈\\n▫️  위치 : 대구 수성못, 대구 들안길\\n▫️  주요메뉴 : 삼겹살, 열무국수\\n▫️  추천포인트\\n  - 주차가능 (전용주차장 2곳 보유)\\n\\n  - 직접구워줌\\n\\n  - 밑반찬이 한정식 맛집처럼 정갈하게 잘나옴\\n\\n  - 열무국수와 고기가 정말 맛있음\\n\\n  - 온누리상품권 사용 가능\\n\\n[대구/열무밭에돈] 열무김치와 삼겹살을 함께 먹는 상동삼겹살맛집 (feat. 열무국수까지 맛있어요)\\n열무밭에돈 안녕하세요! 대구댁 아만다입니다👩🏻 여러분! 김치와 삼겹살은 정말 잘어울리는 음식이지...\\nblog.naver.com\\n\\u200b\\n🎤 옛날삼겹살 본점\\n▫️  위치 : 대구 수성구, 대구 황금역\\n▫️  주요메뉴 : 삼겹살, 막창\\n▫️  추천포인트\\n  - 주차가능 (8~10대정도 주차 가능)\\n\\n  - 초벌로 구워서 나옴\\n\\n  - 대나무청강숯에 구움\\n\\n  - 막창을 키위로 숙성시켜 냄새 전혀 안남\\n\\n  - 삼겹살집인데 막창이 막창집보다 더 맛있음\\n\\n  - 해물듬뿍라면도 추천\\n\\n[대구/옛날삼겹살 본점] 수성구 삼겹살 막창 고기집 (feat. 대구막창 찾는다면 여기로)\\n옛날삼겹살 본점 안녕하세요! 대구댁 아만다입니다👩🏻 대구에는 요즘 비가 하루종일 내려요☔️ 비가 ...\\nblog.naver.com\\n\\u200b\\n\\u200b\\n대구 고기 맛집 :: 뒷고기\\n대구 뒷고기 맛집 추천\\n\\u200b\\n🎤 해안역참숯뒷고기\\n▫️  위치 : 대구 방촌동, 대구 해안역\\n▫️  주요메뉴 : 뒷고기\\n▫️  추천포인트\\n  - 대구에서 먹은 뒷고기 중에 가장 맛있음\\n\\n  - 사장님 매우 친절하심\\n\\n[해안역참숯뒷고기] 대구 뒷고기 맛집 (feat. 친절한 서비스까지)\\n해안역참숯뒷고기 안녕하세요! 대구댁 아만다입니다👩🏻 또간집 경주편 보신분🙌🏻 풍자님이 경주...\\nblog.naver.com\\n\\u200b\\n\\u200b\\n대구 고기 맛집 :: 찜갈비\\n대구 찜갈비 맛집 추천\\n\\u200b\\n🎤 여원찜갈비\\n▫️  위치 : 대구 엑스코, 대구 검단동\\n▫️  주요메뉴 : 찜갈비\\n▫️  추천포인트\\n  - 주차가능 (5~6대 정도 주차 가능)\\n\\n  - 적당한 매콤함에 중독성 최강\\n\\n  - 돼지고기 찜갈비 엄청 부드러움\\n\\n  - 볶음밥 1,000원으로 가성비 좋음\\n\\n[대구/여원찜갈비] 동인동식 찜갈비 대구갈비 맛집 (feat. 돼지찜갈비)\\n여원찜갈비 안녕하세요! 대구댁 아만다입니다👩🏻 대구10미에서 절대 빠질 수 없는 찜갈비! 그것도 동...\\nblog.naver.com\\n\\u200b\\n🎤 풍미향\\n▫️  위치 : 대구 신천동\\n▫️  주요메뉴 : 갈비찜, 갈비전골\\n▫️  추천포인트\\n  - 조미료가 안들어간 맛집\\n\\n  - 단맛을 설탕이 아닌 파인애플로 냄\\n\\n  - 건강 갈비찜 맛집\\n\\n[대구/풍미향] 대구갈비찜맛집 신천동모임장소추천 (feat. 간장맛 갈비찜)\\n풍미향 안녕하세요! 대구댁 아만다입니다👩🏻 대구 10미 중 하나인 갈비찜! 1년동안 대구에 살면서 매...\\nblog.naver.com\\n\\u200b\\n\\u200b\\n대구 고기 맛집 :: 갈비\\n대구 갈비 맛집 추천\\n\\u200b\\n🎤 동봉숯불갈비\\n▫️  위치 : 대구 범어동\\n▫️  주요메뉴 : 돼지갈비\\n▫️  추천포인트\\n  - 주차가능\\n\\n  - 연기가 안나 쾌적한 환경에서 식사 가능\\n\\n  - 김치, 된장, 간장 직접 담금\\n\\n  - 팔공산에서 야채 직접 기름\\n\\n  - 고기를 직접 굽지만 불조절은 직원이 해주심\\n\\n  - 부드러운 갈비 맛집\\n\\n[대구/동봉숯불구이 범어점] 범어동 돼지갈비 맛집 (feat. 연기안나는 갈비)\\n동봉숯불구이 범어점 안녕하세요! 대구댁 아만다입니다👩🏻 고기 중에 제일 맛있는 고기는 저에겐 돼지...\\nblog.naver.com\\n\\u200b\\n🎤 가창끝갈비\\n▫️  위치 : 대구 가창\\n▫️  주요메뉴 : 돼지갈비, 비빔칼국수\\n▫️  추천포인트\\n  - 주차가능 (주차장 엄청 넓음)\\n\\n  - 별도의 공간에서 직접 구워줌\\n\\n  - 전북 고창에서 직접 기른 돼지로 구움\\n\\n  - 고기, 칼국수 양이 정말 많아 가성비 좋음\\n\\n  - 부드러운 갈비 맛집\\n\\n  - 직원분들이 엄청 친절하심\\n\\n[대구/가창끝갈비] 가창 돼지갈비 맛집 (feat. 12월 31일까지 30% 할인)\\n가창끝갈비 안녕하세요! 대구댁 아만다입니다👩🏻 대구에 사시는 분들은 많이 좋아하실 동네! 가창에 ...\\nblog.naver.com\\n\\u200b\\n🎤 일사이공\\n▫️  위치 : 대구 율하동\\n▫️  주요메뉴 : LA갈비, 양념갈비\\n▫️  추천포인트\\n  - 주차가능 (인근 마트에 주차시 조건부 지원)\\n\\n  - 웨이팅 공간 넓고 예쁨\\n\\n  - 부드러운 갈비 맛집\\n\\n  - 테라스가 있고 공원과 연결되어 분위기 좋음\\n\\n  - 온누리상품권 사용 가능\\n\\n[대구/일사이공] 대구LA갈비 맛집 (feat. 찾았다! 갈비맛집!)\\n일사이공 안녕하세요! 대구댁 아만다입니다👩🏻 대구 율하는 갈때마다 느끼는건데요. 정말 사람살기 좋...\\nblog.naver.com\\n\\u200b\\n\\u200b\\n대구 고기 맛집 :: 곱창\\n대구 곱창 맛집 추천\\n\\u200b\\n🎤 율하황소돌곱창\\n▫️  위치 : 대구 율하동\\n▫️  주요메뉴 : 곱창, 대창, 막창\\n▫️  추천포인트\\n  - 초벌로 구워나오며 나머지도 직접 구워주심\\n\\n  - 선지해장국 무한리필\\n\\n  - 대창과 볶음밥 맛있음\\n\\n[대구/율하황소돌곱창] 대구율하맛집 곱창구이맛집 (feat. 모듬구이도 있어요)\\n율하황소돌곱창 안녕하세요! 대구댁 아만다입니다👩🏻 막창하면 대구, 대구하면 막창( ˃ᴗ˂ ) 대구 ...\\nblog.naver.com\\n\\u200b\\n\\u200b\\n대구 고기 맛집 :: 장어\\n대구 장어 맛집 추천\\n\\u200b\\n🎤 살아있네살아있어 먹장어붕장어\\n▫️  위치 : 대구 평리동\\n▫️  주요메뉴 : 장어(아나고), 꼼장어\\n▫️  추천포인트\\n  - 주차가능\\n\\n  - 직접 구워주심\\n\\n  - 산아나고 튼실하고 맛있음\\n\\n[대구/살아있네살아있어 먹장어붕장어] 대구 아나고 맛집 (feat. 진짜 살아있네!)\\n살아있네 살아있어 먹장어 붕장어 안녕하세요! 대구댁 아만다입니다👩🏻 영종도에 살때는 유명한 장어...\\nblog.naver.com\\n\\u200b\\n\\u200b\\n대구 고기 맛집 :: 고기뷔페\\n대구 고기뷔페 맛집 추천\\n\\u200b\\n🎤 명륜진사갈비 대구 테크노폴리스점\\n▫️  위치 : 대구 현풍, 대구 테크노폴리스\\n▫️  주요메뉴 : 갈비, 삼겹살\\n▫️  추천포인트\\n  - 주차가능 (건물 지하주차장)\\n\\n  - 가본 명륜진사갈비 중 제일 맛있음\\n\\n  - 어린이방(놀이공간) 있음\\n\\n[명륜진사갈비 대구 테크노폴리스점] 달성군 돼지갈비 맛집 (feat. 리뉴얼 후 사이드가 많은 현풍 맛집)\\n명륜진사갈비 대구 테크노폴리스점 안녕하세요! 대구댁 아만다입니다👩🏻 요즘 명륜진사갈비 셀프바가 ...\\nblog.naver.com\\n\\u200b\\n아만다가 직접 다녀와본 후기들 참고하셔서\\n대구 맛집에서 즐거운 식사하세요 :)\\n\\u200b\\n대구 고기 맛집 추천 리스트였습니다!\\n\\u200b\\n\\u200b\\n대구맛집 #대구고기맛집 #대구맛집고기 #대구삼겹살 #대구삼겹살맛집 #대구갈비 #대구갈비맛집 #대구이베리코 #대구이베리코맛집 #대구뒷고기 #대구뒷고기맛집 #대구찜갈비 #대구찜갈비맛집\\n공감\\n이 글에 공감한 블로거 열고 닫기\\n 댓글 2\\n이 글에 댓글 단 블로거 열고 닫기\\n인쇄\\n이 블로그 전체 카테고리 글\\n전체글 보기\\n화면 최상단으로 이동\\nRSS 2.0\\nRSS 1.0\\nATOM 0.3\\n검색\\n글 검색'},\n",
       " {'title': '대구 맛집 추천 리스트 :: 고기편 (대구 고기 맛집) : 네이버 블로그',\n",
       "  'url': 'https://blog.naver.com/PostView.naver?blogId=ssopssop_couple&logNo=223312372541',\n",
       "  'content': '블로그 블로그 검색 블로그 블로그 대구 맛집 추천 리스트 :: 고기편 (대구 고기 맛집) 대구 고기 맛집 :: 삼겹살 대구 삼겹살 맛집 추천 대구 고기 맛집 :: 뒷고기 대구 뒷고기 맛집 추천 [해안역참숯뒷고기] 대구 뒷고기 맛집 (feat. 대구 고기 맛집 :: 찜갈비 대구 찜갈비 맛집 추천 [대구/여원찜갈비] 동인동식 찜갈비 대구갈비 맛집 (feat. 대구 고기 맛집 :: 갈비 대구 갈비 맛집 추천 ▫️  위치 : 대구 범어동 [대구/가창끝갈비] 가창 돼지갈비 맛집 (feat. [대구/일사이공] 대구LA갈비 맛집 (feat. 대구 고기 맛집 :: 곱창 대구 곱창 맛집 추천 대구 고기 맛집 :: 장어 대구 장어 맛집 추천 대구 고기 맛집 :: 고기뷔페 대구 고기뷔페 맛집 추천 [명륜진사갈비 대구 테크노폴리스점] 달성군 돼지갈비 맛집 (feat. 명륜진사갈비 대구 테크노폴리스점 안녕하세요! 대구 고기 맛집 추천 리스트였습니다!',\n",
       "  'score': 0.60386235,\n",
       "  'raw_content': 'NAVER\\n블로그\\nPOWER J, AMANDA\\n블로그 검색\\n이 블로그에서 검색\\n공감 \\n댓글 2\\n공유하기\\n메뉴 바로가기\\n본문 바로가기\\n내 블로그 \\n이웃블로그 \\n블로그 홈 \\n로그인\\n사용자 링크\\n블로그 메뉴\\n 프롤로그\\n 블로그\\n 생활정보\\n 리빙\\n 뷰티\\n 푸드\\n안부\\n블로그\\n전체보기 587개의 글\\n전체보기\\n목록열기\\n맛집\\n대구 맛집 추천 리스트 :: 고기편 (대구 고기 맛집)\\n아만다 ・ 2024. 1. 4. 16:07\\nURL 복사  이웃추가\\n본문 기타 기능\\n맛집 추천 리스트 :: 고기편\\n\\u200b\\n안녕하세요!\\n대구댁 아만다입니다👩🏻\\n\\u200b\\n2023년에 직접 먹어본  대구 고기집 중에\\n베스트 오브 베스트를 뽑아봤어요!\\n\\u200b\\n대구 고기 맛집을 추천해드릴게요 :)\\n\\u200b\\n대구에 고기 맛집이 많아\\n삼겹살, 뒷고기, 찜갈비, 갈비,\\n곱창, 장어, 고기뷔페로 나누어\\n맛집을 분야별로 선정해보았습니당.\\n\\u200b\\n직접 다녀와본 후기 링크도 걸어놓았으니\\n고기종류에 따라 맛집정보 참고하세요 :)\\n\\u200b\\n\\u200b\\n대구 고기 맛집 :: 삼겹살\\n대구 삼겹살 맛집 추천\\n\\u200b\\n🎤 김형제 고기의 철학\\n▫️  위치 : 대구 수성못, 대구 들안길\\n▫️  주요메뉴 : 이베리코\\n▫️  추천포인트\\n  - 예약시스템 잘되어있음 (반드시 예약 추천!)\\n\\n  - 주차가능 (6~8대 정도 주차 가능)\\n\\n  - 단체석보유 (6~12인석 룸 있음)\\n\\n  - 단체회식, 가족외식하기 좋음\\n\\n  - 직접구워줌\\n\\n  - 매장깔끔하고 인테리어 예쁨\\n\\n[대구/김형제고기의철학 대구수성못점] 구워주는 고기집 이베리코 후기\\n김형제고기의철학 대구수성못점 안녕하세요! 대구댁 아만다입니다👩🏻 세계미식가들의 선택 이베리코 ...\\nblog.naver.com\\n\\u200b\\n🎤 692왕소금구이 육구이왕소금구이\\n▫️  위치 : 대구 신천시장, 대구 범어동\\n▫️  주요메뉴 : 삼겹살\\n▫️  추천포인트\\n  - 단체석보유 (8인정도 수용가능 룸 있음)\\n\\n  - 직접구워줌\\n\\n  - 주문즉시 만드는 콩나물무침 맛있음\\n\\n  - 밑반찬과 고기가 정말 맛있음\\n\\n[대구/692왕소금구이] 수성구 삼겹살 (feat. 벌집삼겹살 소금구이)\\n692 왕소금구이 안녕하세요! 대구댁 아만다입니다👩🏻 남자들은 왜이렇게 고기를 좋아하는거죠? ㅋㅋㅋ...\\nblog.naver.com\\n\\u200b\\n🎤 옹고집\\n▫️  위치 : 대구 반야월, 대구 신기동\\n▫️  주요메뉴 : 삼겹살\\n▫️  추천포인트\\n  - 주차가능\\n\\n  - 맥주, 소주 4천원\\n\\n  - 가성비 좋은 맛집\\n\\n  - 고기 상태가 정말 좋음\\n\\n  - 점심 고기식사시 된장식사 또는 냉면 무료\\n\\n[대구/옹고집] 신기동맛집 반야월 삼겹살 회식장소 추천 (feat. 소주 맥주 4천원)\\n옹고집 안녕하세요! 대구댁 아만다입니다👩🏻 최근에 대구 안심뉴타운 쪽에 신축아파트랑 맛집이 많이 ...\\nblog.naver.com\\n\\u200b\\n🎤 열무밭에돈\\n▫️  위치 : 대구 수성못, 대구 들안길\\n▫️  주요메뉴 : 삼겹살, 열무국수\\n▫️  추천포인트\\n  - 주차가능 (전용주차장 2곳 보유)\\n\\n  - 직접구워줌\\n\\n  - 밑반찬이 한정식 맛집처럼 정갈하게 잘나옴\\n\\n  - 열무국수와 고기가 정말 맛있음\\n\\n  - 온누리상품권 사용 가능\\n\\n[대구/열무밭에돈] 열무김치와 삼겹살을 함께 먹는 상동삼겹살맛집 (feat. 열무국수까지 맛있어요)\\n열무밭에돈 안녕하세요! 대구댁 아만다입니다👩🏻 여러분! 김치와 삼겹살은 정말 잘어울리는 음식이지...\\nblog.naver.com\\n\\u200b\\n🎤 옛날삼겹살 본점\\n▫️  위치 : 대구 수성구, 대구 황금역\\n▫️  주요메뉴 : 삼겹살, 막창\\n▫️  추천포인트\\n  - 주차가능 (8~10대정도 주차 가능)\\n\\n  - 초벌로 구워서 나옴\\n\\n  - 대나무청강숯에 구움\\n\\n  - 막창을 키위로 숙성시켜 냄새 전혀 안남\\n\\n  - 삼겹살집인데 막창이 막창집보다 더 맛있음\\n\\n  - 해물듬뿍라면도 추천\\n\\n[대구/옛날삼겹살 본점] 수성구 삼겹살 막창 고기집 (feat. 대구막창 찾는다면 여기로)\\n옛날삼겹살 본점 안녕하세요! 대구댁 아만다입니다👩🏻 대구에는 요즘 비가 하루종일 내려요☔️ 비가 ...\\nblog.naver.com\\n\\u200b\\n\\u200b\\n대구 고기 맛집 :: 뒷고기\\n대구 뒷고기 맛집 추천\\n\\u200b\\n🎤 해안역참숯뒷고기\\n▫️  위치 : 대구 방촌동, 대구 해안역\\n▫️  주요메뉴 : 뒷고기\\n▫️  추천포인트\\n  - 대구에서 먹은 뒷고기 중에 가장 맛있음\\n\\n  - 사장님 매우 친절하심\\n\\n[해안역참숯뒷고기] 대구 뒷고기 맛집 (feat. 친절한 서비스까지)\\n해안역참숯뒷고기 안녕하세요! 대구댁 아만다입니다👩🏻 또간집 경주편 보신분🙌🏻 풍자님이 경주...\\nblog.naver.com\\n\\u200b\\n\\u200b\\n대구 고기 맛집 :: 찜갈비\\n대구 찜갈비 맛집 추천\\n\\u200b\\n🎤 여원찜갈비\\n▫️  위치 : 대구 엑스코, 대구 검단동\\n▫️  주요메뉴 : 찜갈비\\n▫️  추천포인트\\n  - 주차가능 (5~6대 정도 주차 가능)\\n\\n  - 적당한 매콤함에 중독성 최강\\n\\n  - 돼지고기 찜갈비 엄청 부드러움\\n\\n  - 볶음밥 1,000원으로 가성비 좋음\\n\\n[대구/여원찜갈비] 동인동식 찜갈비 대구갈비 맛집 (feat. 돼지찜갈비)\\n여원찜갈비 안녕하세요! 대구댁 아만다입니다👩🏻 대구10미에서 절대 빠질 수 없는 찜갈비! 그것도 동...\\nblog.naver.com\\n\\u200b\\n🎤 풍미향\\n▫️  위치 : 대구 신천동\\n▫️  주요메뉴 : 갈비찜, 갈비전골\\n▫️  추천포인트\\n  - 조미료가 안들어간 맛집\\n\\n  - 단맛을 설탕이 아닌 파인애플로 냄\\n\\n  - 건강 갈비찜 맛집\\n\\n[대구/풍미향] 대구갈비찜맛집 신천동모임장소추천 (feat. 간장맛 갈비찜)\\n풍미향 안녕하세요! 대구댁 아만다입니다👩🏻 대구 10미 중 하나인 갈비찜! 1년동안 대구에 살면서 매...\\nblog.naver.com\\n\\u200b\\n\\u200b\\n대구 고기 맛집 :: 갈비\\n대구 갈비 맛집 추천\\n\\u200b\\n🎤 동봉숯불갈비\\n▫️  위치 : 대구 범어동\\n▫️  주요메뉴 : 돼지갈비\\n▫️  추천포인트\\n  - 주차가능\\n\\n  - 연기가 안나 쾌적한 환경에서 식사 가능\\n\\n  - 김치, 된장, 간장 직접 담금\\n\\n  - 팔공산에서 야채 직접 기름\\n\\n  - 고기를 직접 굽지만 불조절은 직원이 해주심\\n\\n  - 부드러운 갈비 맛집\\n\\n[대구/동봉숯불구이 범어점] 범어동 돼지갈비 맛집 (feat. 연기안나는 갈비)\\n동봉숯불구이 범어점 안녕하세요! 대구댁 아만다입니다👩🏻 고기 중에 제일 맛있는 고기는 저에겐 돼지...\\nblog.naver.com\\n\\u200b\\n🎤 가창끝갈비\\n▫️  위치 : 대구 가창\\n▫️  주요메뉴 : 돼지갈비, 비빔칼국수\\n▫️  추천포인트\\n  - 주차가능 (주차장 엄청 넓음)\\n\\n  - 별도의 공간에서 직접 구워줌\\n\\n  - 전북 고창에서 직접 기른 돼지로 구움\\n\\n  - 고기, 칼국수 양이 정말 많아 가성비 좋음\\n\\n  - 부드러운 갈비 맛집\\n\\n  - 직원분들이 엄청 친절하심\\n\\n[대구/가창끝갈비] 가창 돼지갈비 맛집 (feat. 12월 31일까지 30% 할인)\\n가창끝갈비 안녕하세요! 대구댁 아만다입니다👩🏻 대구에 사시는 분들은 많이 좋아하실 동네! 가창에 ...\\nblog.naver.com\\n\\u200b\\n🎤 일사이공\\n▫️  위치 : 대구 율하동\\n▫️  주요메뉴 : LA갈비, 양념갈비\\n▫️  추천포인트\\n  - 주차가능 (인근 마트에 주차시 조건부 지원)\\n\\n  - 웨이팅 공간 넓고 예쁨\\n\\n  - 부드러운 갈비 맛집\\n\\n  - 테라스가 있고 공원과 연결되어 분위기 좋음\\n\\n  - 온누리상품권 사용 가능\\n\\n[대구/일사이공] 대구LA갈비 맛집 (feat. 찾았다! 갈비맛집!)\\n일사이공 안녕하세요! 대구댁 아만다입니다👩🏻 대구 율하는 갈때마다 느끼는건데요. 정말 사람살기 좋...\\nblog.naver.com\\n\\u200b\\n\\u200b\\n대구 고기 맛집 :: 곱창\\n대구 곱창 맛집 추천\\n\\u200b\\n🎤 율하황소돌곱창\\n▫️  위치 : 대구 율하동\\n▫️  주요메뉴 : 곱창, 대창, 막창\\n▫️  추천포인트\\n  - 초벌로 구워나오며 나머지도 직접 구워주심\\n\\n  - 선지해장국 무한리필\\n\\n  - 대창과 볶음밥 맛있음\\n\\n[대구/율하황소돌곱창] 대구율하맛집 곱창구이맛집 (feat. 모듬구이도 있어요)\\n율하황소돌곱창 안녕하세요! 대구댁 아만다입니다👩🏻 막창하면 대구, 대구하면 막창( ˃ᴗ˂ ) 대구 ...\\nblog.naver.com\\n\\u200b\\n\\u200b\\n대구 고기 맛집 :: 장어\\n대구 장어 맛집 추천\\n\\u200b\\n🎤 살아있네살아있어 먹장어붕장어\\n▫️  위치 : 대구 평리동\\n▫️  주요메뉴 : 장어(아나고), 꼼장어\\n▫️  추천포인트\\n  - 주차가능\\n\\n  - 직접 구워주심\\n\\n  - 산아나고 튼실하고 맛있음\\n\\n[대구/살아있네살아있어 먹장어붕장어] 대구 아나고 맛집 (feat. 진짜 살아있네!)\\n살아있네 살아있어 먹장어 붕장어 안녕하세요! 대구댁 아만다입니다👩🏻 영종도에 살때는 유명한 장어...\\nblog.naver.com\\n\\u200b\\n\\u200b\\n대구 고기 맛집 :: 고기뷔페\\n대구 고기뷔페 맛집 추천\\n\\u200b\\n🎤 명륜진사갈비 대구 테크노폴리스점\\n▫️  위치 : 대구 현풍, 대구 테크노폴리스\\n▫️  주요메뉴 : 갈비, 삼겹살\\n▫️  추천포인트\\n  - 주차가능 (건물 지하주차장)\\n\\n  - 가본 명륜진사갈비 중 제일 맛있음\\n\\n  - 어린이방(놀이공간) 있음\\n\\n[명륜진사갈비 대구 테크노폴리스점] 달성군 돼지갈비 맛집 (feat. 리뉴얼 후 사이드가 많은 현풍 맛집)\\n명륜진사갈비 대구 테크노폴리스점 안녕하세요! 대구댁 아만다입니다👩🏻 요즘 명륜진사갈비 셀프바가 ...\\nblog.naver.com\\n\\u200b\\n아만다가 직접 다녀와본 후기들 참고하셔서\\n대구 맛집에서 즐거운 식사하세요 :)\\n\\u200b\\n대구 고기 맛집 추천 리스트였습니다!\\n\\u200b\\n\\u200b\\n대구맛집 #대구고기맛집 #대구맛집고기 #대구삼겹살 #대구삼겹살맛집 #대구갈비 #대구갈비맛집 #대구이베리코 #대구이베리코맛집 #대구뒷고기 #대구뒷고기맛집 #대구찜갈비 #대구찜갈비맛집\\n공감\\n이 글에 공감한 블로거 열고 닫기\\n 댓글 2\\n이 글에 댓글 단 블로거 열고 닫기\\n인쇄\\n이 블로그 전체 카테고리 글\\n전체글 보기\\n화면 최상단으로 이동\\nRSS 2.0\\nRSS 1.0\\nATOM 0.3\\n검색\\n글 검색'}]"
      ]
     },
     "execution_count": 29,
     "metadata": {},
     "output_type": "execute_result"
    }
   ],
   "source": [
    "# 웹 검색 도구 호출\n",
    "result = web_search_tool.search('대구 고깃집에 대해서 알려주세요')\n",
    "result"
   ]
  },
  {
   "cell_type": "markdown",
   "metadata": {},
   "source": [
    "### 웹 검색 노드"
   ]
  },
  {
   "cell_type": "code",
   "execution_count": 30,
   "metadata": {},
   "outputs": [],
   "source": [
    "# 웹 검색 노드\n",
    "def web_search(state):\n",
    "    print('\\n==========================================================================================')\n",
    "    print('🔄 [Node] 웹 검색 노드 🔄')\n",
    "\n",
    "    # 사용자 질문\n",
    "    question = state['question']\n",
    "    \n",
    "    print('-------------------')\n",
    "    print(f\"question: \")\n",
    "    print(question)\n",
    "    print('-------------------')\n",
    "    print()\n",
    "\n",
    "    # 웹 검색 수행\n",
    "    web_results = web_search_tool.invoke({\"query\": question})\n",
    "\n",
    "    print('-------------------')\n",
    "    print('web_results: ')\n",
    "    print(web_results)\n",
    "    print('-------------------')\n",
    "    print()\n",
    "\n",
    "    web_results_docs = []\n",
    "    \n",
    "    for result in web_results:\n",
    "        doc = Document(\n",
    "            page_content=result[\"content\"],\n",
    "            metadata={\"source\": result[\"url\"]}\n",
    "        )\n",
    "        web_results_docs.append(doc)\n",
    "\n",
    "    print('-------------------')\n",
    "    print(web_results_docs)\n",
    "    print('-------------------')\n",
    "    print()\n",
    "\n",
    "    print('==========================================================================================\\n')\n",
    "\n",
    "    return {\"documents\": web_results_docs}"
   ]
  },
  {
   "cell_type": "code",
   "execution_count": 31,
   "metadata": {},
   "outputs": [
    {
     "name": "stdout",
     "output_type": "stream",
     "text": [
      "\n",
      "==========================================================================================\n",
      "🔄 [Node] 웹 검색 노드 🔄\n",
      "-------------------\n",
      "question: \n",
      "삼성전자가 개발한 생성형 AI의 이름은 무엇인가요?\n",
      "-------------------\n",
      "\n",
      "-------------------\n",
      "web_results: \n",
      "[{'title': \"삼성이 자체 개발한 생성형 Ai '삼성 가우스' 첫 공개\", 'url': 'https://www.chosun.com/economy/tech_it/2023/11/08/IHCUCZUPXBCNDCCDYSA7NJFBHE/', 'content': \"삼성이 자체 개발한 생성형 AI ‘삼성 가우스’ 첫 공개 신문구독|中文|English|日本語 삼성이 자체 개발한 생성형 AI '삼성 가우스' 첫 공개 삼성전자가 자체 개발한 생성형 AI 삼성 가우스 소개 포스터. 삼성전자가 자체 개발한 생성형 인공지능(AI) ‘삼성 가우스’를 드디어 공개했다. 8일 삼성전자는 서울 서초구 서울R&D캠퍼스에서 열린 ‘삼성 AI 포럼 2023′ 행사에서 삼성리서치가 개발한 생성형 AI 모델 ‘삼성 가우스’를 처음으로 공개했다. 삼성의 첫 자체 제작 생성 AI ‘삼성 가우스’는 머신 러닝 기술을 기반으로 개발됐다. 이미지 모델은 달리 2(DALL·E), 미드저니, 스테이블 디퓨전 같은 생성형 AI 이미지 모델로 사진이나 그림 등 창의적인 이미지를 손쉽게 만들 수 있도록 돕는다. 한편 삼성전자 내 반도체 사업을 담당하는 DS 부문은 삼성 가우스 대신 지난 8월 출시한 네이버클라우드의 기업용 AI 서비스 ‘뉴로클라우드 포 하이퍼클로바X’를 쓰는 방안을 추진하는 것으로 알려졌다. 정치 일반\", 'score': 0.8783249, 'raw_content': '삼성이 자체 개발한 생성형 AI ‘삼성 가우스’ 첫 공개\\n2025년 2월 16일(일)\\n\\n신문구독|中文|English|日本語\\n\\n0\\n뉴스홈\\n조선경제\\n오피니언\\n정치\\n사회\\n국제\\n건강\\n재테크\\n스포츠\\n문화·연예\\n쇼핑의맛\\n콘텐츠판\\n땅집고BEMIL 군사세계헬스조선IT조선조선에듀어린이조선일보산&트래블이코노미조선신문은 선생님THE BOUTIQUE행복플러스주간조선여성조선월간조선민학수 올댓골프TopclassLife&Learning\\n\\n\\n\\n\\n\\n\\n\\n\\n\\n\\n\\n中文\\nEnglish\\n日本語\\n검색\\n조선경제테크\\n삼성이 자체 개발한 생성형 AI \\'삼성 가우스\\' 첫 공개\\n이해인 기자\\n입력 2023.11.08. 10:02업데이트\\xa02023.11.08. 10:04\\n0\\n0\\n\\n삼성전자가 자체 개발한 생성형 AI 삼성 가우스 소개 포스터. /삼성전자\\n삼성전자가 자체 개발한 생성형 인공지능(AI) ‘삼성 가우스’를 드디어 공개했다.\\n8일 삼성전자는 서울 서초구 서울R&D캠퍼스에서 열린 ‘삼성 AI 포럼 2023′ 행사에서 삼성리서치가 개발한 생성형 AI 모델 ‘삼성 가우스’를 처음으로 공개했다. 삼성 가우스라는 명칭은 정규분포 이론을 정립한 수학자 칼 프리드리히 가우스로부터 영감을 얻어 붙여졌다. 생성형 AI의 무한한 가능성을 의미한다고 삼성은 밝혔다.\\n삼성의 첫 자체 제작 생성 AI ‘삼성 가우스’는 머신 러닝 기술을 기반으로 개발됐다. 크게 텍스트를 생성하는 언어 모델과, 코드를 생성하는 코드 모델, 이미지를 생성하는 이미지 모델 등 3가지로 구성됐다.\\n언어 모델은 문서 요약, 번역 등 업무를 더 쉽고 빠르게 처리할 수 있게 해준다. 코드 모델을 기반으로 개발된 AI 코딩 어시스턴트 ‘코드아이’는 사내 소프트웨어 개발에 활용될 예정이다. 개발자들이 쉽고 빠르게 코딩할 수 있도록 도와주고 코드 설명이나 테스트 케이스 생성 등의 서비스도 제공한다.\\n이미지 모델은 달리 2(DALL·E), 미드저니, 스테이블 디퓨전 같은 생성형 AI 이미지 모델로 사진이나 그림 등 창의적인 이미지를 손쉽게 만들 수 있도록 돕는다. 기존 이미지를 원하는 대로 바꿀 수 있는 기능도 탑재돼 저해상도 이미지의 고해상도 전환 같은 기능도 지원한다.\\n삼성은 ‘삼성 가우스’를 내부 직원용으로 쓰되 향후 삼성이 만드는 각종 제품에도 이 모델을 단계적으로 적용해나가겠다는 계획이다.\\n실제 삼성은 당장 내년 스마트폰과 노트북에 생성 AI 기능을 탑재할 예정이다. 삼성전자는 지난달 31일 3분기 실적 발표에서 “내년 출시하는 스마트폰에 사용자들이 많이 쓰는 핵심 기능 위주로 생성형 AI 기술을 적용할 계획”이라고 밝혔다. 첫 적용 대상은 내년 초 출시할 프리미엄 스마트폰 신작 ‘갤럭시S24′가 될 예정이다.\\n한편 삼성전자 내 반도체 사업을 담당하는 DS 부문은 삼성 가우스 대신 지난 8월 출시한 네이버클라우드의 기업용 AI 서비스 ‘뉴로클라우드 포 하이퍼클로바X’를 쓰는 방안을 추진하는 것으로 알려졌다. 컴퓨터 프로그래밍·문서작성 등에 AI를 활용하는 것이 목적이다.\\n\\n이해인 기자\\xa0\\xa0\\n편집국 정치부 기자\\n\\n구독\\n구독수\\n146\\n \\n많이 본 뉴스\\n\\n공장은 TSMC, 설계는 브로드컴... \\'美 반도체 상징\\' 인텔 쪼개지나\\n미국 트럼프 정부가 자국 대표 반도체 기업 인텔을 설계와 제조 두 개로 나눠 매각하는 방안을 검토 중인 것으로 알려졌다. 막대한 적자...\\n\\n수백만원 건조기·스타일러 왜 필요? 스타트업의 기발한 아이디어\\n나만의 아이디어로 창업을 꿈꾸는 여러분에게 본보기가 될 ‘창업 노트 훔쳐보기’를 연재합니다. 그들의 이야기를 소개합니다. 본 콘텐츠는 ...\\n\\n\"직장 동료의 노출 심한 카톡 프사...누가 좀 말려줘요\"\\nWEEKLY BIZ 뉴스레터 구독하기 ☞ https://page.stibee.com/subscriptions/146096 “우리 회사 ...\\n\\n\"직장 동료의 노출 심한 카톡 프사...누가 좀 말려줘요\"\\nWEEKLY BIZ 뉴스레터 구독하기 ☞ https://page.stibee.com/subscriptions/146096 “우리 회사 ...\\nBy TaboolaBy Taboola\\n당신이 좋아할 만한 콘텐츠\\nADJackpot! Mountain View Men Won a Record Bonus On an Online Slot MachineMcLuck | Play Now Install Now\\nADTired Of Losing Muscle? Brooke Burke Says To Do This DailyPower Life Learn More\\nADDoctor\\'s Home Remedy Deactivates \\'Thin Hair Gene\\'Noor Hair Learn More\\n\\'62세\\' 톰 크루즈, 이번엔 26살 연하 ♥본드걸과 밸런타인 데이트[Oh!llywood]\\n구준엽, 故 서희원과 결혼전 재산분리 계약…160억 대저택 장모에 넘겨\\n\\'1400억 사우디 제안\\' \"기복있는 손흥민 팔아라!\" 토트넘 전 스카우트 \\'막말\\'... \"토트넘과 손흥민 방향 다를 수 있다\"\\nU.S. Privacy\\n100자평\\n도움말삭제기준\\nBy TaboolaBy Taboola\\n지금 뜨는 콘텐츠\\nADNew Land Rover Defender Is Breathtaking, Especially At This Price (Take A Look)SUVs | Top Search Now\\nADJackpot! Mountain View Women Won a Record Bonus On an Online Slot MachineMcLuck | Play Now\\nADType In Any Name, Wait 127 Seconds, See Instant ResultsFastest Search\\n‘61세’ 김일우, 진짜 장가가나… “♥박선영과 편해지고 가까워져\"\\n\\'퇴출수순\\' 김가영, 새국면 맞나..故오요안나 유가족 측 \"가해자 아냐\" (Oh!쎈 이슈)\\n‘50억 도쿄집 공개’ 후폭풍..추성훈 “야노시호가 유튜브 다 없애라고”\\n많이 본 뉴스\\n1\\n전한길 \"광주 반탄 집회로 지역 갈등 종식\" 박은식 \"野 지켜본 국민 결집\"\\n2\\n\\ufeff몸 아픈 60대 아들에게 부담될까… 바닥에 누워서만 생활한 80대母\\n3\\n美 \"희토류 50% 주면 파병 가능\"... 젤렌스키, 즉각 거부한 이유\\n4\\n일론 머스크, 13명째 아빠 됐다...\"아이 갖는게 부업이냐\" 댓글에 웃음만\\n5\\n공장은 TSMC, 설계는 브로드컴... \\'美 반도체 상징\\' 인텔 쪼개지나\\n6\\n서울대에서 尹탄핵 찬반 집회... 멱살잡이에 욕설까지\\n7\\n수백만원 건조기·스타일러 왜 필요? 스타트업의 기발한 아이디어\\n8\\n후원사 잃은 이소미, 사우디서 44만달러\\n9\\n목수 된 류호정 \"고생 모른다는 선입견 깨고 싶어... 정치 복귀 안해\"\\n10\\n봄 오는 줄 알았더니... 내일부터 또 한파\\n6\\n서울대에서 尹탄핵 찬반 집회... 멱살잡이에 욕설까지\\n7\\n수백만원 건조기·스타일러 왜 필요? 스타트업의 기발한 아이디어\\n8\\n후원사 잃은 이소미, 사우디서 44만달러\\n9\\n목수 된 류호정 \"고생 모른다는 선입견 깨고 싶어... 정치 복귀 안해\"\\n10\\n봄 오는 줄 알았더니... 내일부터 또 한파\\n오피니언\\n\\n사설\\n칼럼\\n朝鮮칼럼 The Column\\n태평로\\n동서남북\\n경제포커스\\n만물상\\n에스프레소\\n데스크에서\\n기자의 시각\\n특파원 칼럼\\n기자수첩\\n팔면봉\\nESSAY\\n전문가 칼럼\\n\\n정치\\n\\n정치 일반\\n대통령실\\n국회·정당\\n북한\\n외교·국방\\n행정\\n\\n국제\\n\\n국제 일반\\n미국\\n중국 | 일본\\n아시아\\n유럽\\n중동·아프리카·중남미\\n해외토픽\\n\\n사회\\n\\n사회 일반\\n사건사고\\n법조\\n교육\\n노동\\n교통·환경\\n복지·의료\\n취업\\n피플\\n부음·인사\\n아무튼, 주말\\n전국\\n\\n조선경제\\n\\nWEEKLY BIZ\\n테크\\n과학\\n산업·재계\\n자동차\\n부동산\\n생활경제\\n중기·벤처\\n스타트업 취중잡담\\n경제 일반\\n머니\\n증권·금융\\n국제경제\\n재테크\\n\\n스포츠\\n\\n스포츠 일반\\n야구\\n해외야구\\n축구\\n해외축구\\n농구\\n배구\\n골프\\n스포츠포토\\n\\n건강\\n쇼핑의맛\\n문화·연예\\n\\n연예 일반\\n스타 | 방송\\n영화 소식 | 음악\\n연예 포토\\n문화 일반\\n책 | 영화\\n음악 | 공연\\n미술·전시\\n종교·학술\\n방송·미디어\\n건축·디자인\\n패션·뷰티\\n여행 | 음식·맛집\\n리빙\\n\\n조선멤버스\\n\\n조선일보 구독신청\\n초판서비스\\n독자 멤버십\\n신문은 선생님\\n오늘의 운세\\n\\nDB조선\\n\\n지면 PDF보기\\n인물검색\\n사진검색\\n뉴스 라이브러리\\n뉴스Q\\n\\n뉴스레터\\n\\n\\n오피니언\\n\\n정치\\n국제\\n사회\\n\\n조선경제\\n\\n\\n스포츠\\n\\n건강\\n문화· 연예\\xa0\\n조선 멤버스\\n쇼핑의맛\\n\\n조선일보 공식 SNS\\n\\n페이스북\\n트위터\\n유튜브\\n인스타그램\\n\\n주소: 서울특별시 중구 세종대로21길 30, 4층(태평로1가) | 대표번호 02)724-5114\\n인터넷신문등록번호: 서울 아 01718\\n등록(발행)일자: 2011년 07월 26일\\n발행인·편집인: 홍준호\\n개인정보처리방침청소년보호정책(책임자: 나민수)\\nCopyright 조선일보 All rights reserved. 무단 전재 및 재배포 금지.\\n\\n회사소개기자채용고객센터독자권익보호위원회기사제보뉴지엄광고안내콘텐츠구매제휴문의사이트맵\\n조선미디어 관계사\\n개인정보처리방침사이트맵\\nCopyright 조선일보 All rights reserved. 무단 전재 및 재배포 금지.\\n로그인을 하시면 모든 기사를 읽을 수 있습니다\\n로그인\\n휴대폰 로그인이메일 로그인\\n이메일 혹은 아이디\\n비밀번호\\n로그인\\n로그인 상태 유지\\n아이디 찾기|비밀번호 재설정\\n\\n소셜 로그인\\n\\n\\n\\nSign in with Google\\n\\n로그인 아이디가 없으신가요? 회원가입\\n로그인이 어려우신가요?상세설명 보기'}, {'title': \"삼성이 자체 개발한 생성형 Ai '삼성 가우스' 첫 공개\", 'url': 'https://www.chosun.com/economy/tech_it/2023/11/08/IHCUCZUPXBCNDCCDYSA7NJFBHE/', 'content': \"삼성이 자체 개발한 생성형 AI ‘삼성 가우스’ 첫 공개 신문구독|中文|English|日本語 삼성이 자체 개발한 생성형 AI '삼성 가우스' 첫 공개 삼성전자가 자체 개발한 생성형 AI 삼성 가우스 소개 포스터. 삼성전자가 자체 개발한 생성형 인공지능(AI) ‘삼성 가우스’를 드디어 공개했다. 8일 삼성전자는 서울 서초구 서울R&D캠퍼스에서 열린 ‘삼성 AI 포럼 2023′ 행사에서 삼성리서치가 개발한 생성형 AI 모델 ‘삼성 가우스’를 처음으로 공개했다. 삼성의 첫 자체 제작 생성 AI ‘삼성 가우스’는 머신 러닝 기술을 기반으로 개발됐다. 이미지 모델은 달리 2(DALL·E), 미드저니, 스테이블 디퓨전 같은 생성형 AI 이미지 모델로 사진이나 그림 등 창의적인 이미지를 손쉽게 만들 수 있도록 돕는다. 한편 삼성전자 내 반도체 사업을 담당하는 DS 부문은 삼성 가우스 대신 지난 8월 출시한 네이버클라우드의 기업용 AI 서비스 ‘뉴로클라우드 포 하이퍼클로바X’를 쓰는 방안을 추진하는 것으로 알려졌다. 정치 일반\", 'score': 0.8783249, 'raw_content': '삼성이 자체 개발한 생성형 AI ‘삼성 가우스’ 첫 공개\\n2025년 2월 16일(일)\\n\\n신문구독|中文|English|日本語\\n\\n0\\n뉴스홈\\n조선경제\\n오피니언\\n정치\\n사회\\n국제\\n건강\\n재테크\\n스포츠\\n문화·연예\\n쇼핑의맛\\n콘텐츠판\\n땅집고BEMIL 군사세계헬스조선IT조선조선에듀어린이조선일보산&트래블이코노미조선신문은 선생님THE BOUTIQUE행복플러스주간조선여성조선월간조선민학수 올댓골프TopclassLife&Learning\\n\\n\\n\\n\\n\\n\\n\\n\\n\\n\\n\\n中文\\nEnglish\\n日本語\\n검색\\n조선경제테크\\n삼성이 자체 개발한 생성형 AI \\'삼성 가우스\\' 첫 공개\\n이해인 기자\\n입력 2023.11.08. 10:02업데이트\\xa02023.11.08. 10:04\\n0\\n0\\n\\n삼성전자가 자체 개발한 생성형 AI 삼성 가우스 소개 포스터. /삼성전자\\n삼성전자가 자체 개발한 생성형 인공지능(AI) ‘삼성 가우스’를 드디어 공개했다.\\n8일 삼성전자는 서울 서초구 서울R&D캠퍼스에서 열린 ‘삼성 AI 포럼 2023′ 행사에서 삼성리서치가 개발한 생성형 AI 모델 ‘삼성 가우스’를 처음으로 공개했다. 삼성 가우스라는 명칭은 정규분포 이론을 정립한 수학자 칼 프리드리히 가우스로부터 영감을 얻어 붙여졌다. 생성형 AI의 무한한 가능성을 의미한다고 삼성은 밝혔다.\\n삼성의 첫 자체 제작 생성 AI ‘삼성 가우스’는 머신 러닝 기술을 기반으로 개발됐다. 크게 텍스트를 생성하는 언어 모델과, 코드를 생성하는 코드 모델, 이미지를 생성하는 이미지 모델 등 3가지로 구성됐다.\\n언어 모델은 문서 요약, 번역 등 업무를 더 쉽고 빠르게 처리할 수 있게 해준다. 코드 모델을 기반으로 개발된 AI 코딩 어시스턴트 ‘코드아이’는 사내 소프트웨어 개발에 활용될 예정이다. 개발자들이 쉽고 빠르게 코딩할 수 있도록 도와주고 코드 설명이나 테스트 케이스 생성 등의 서비스도 제공한다.\\n이미지 모델은 달리 2(DALL·E), 미드저니, 스테이블 디퓨전 같은 생성형 AI 이미지 모델로 사진이나 그림 등 창의적인 이미지를 손쉽게 만들 수 있도록 돕는다. 기존 이미지를 원하는 대로 바꿀 수 있는 기능도 탑재돼 저해상도 이미지의 고해상도 전환 같은 기능도 지원한다.\\n삼성은 ‘삼성 가우스’를 내부 직원용으로 쓰되 향후 삼성이 만드는 각종 제품에도 이 모델을 단계적으로 적용해나가겠다는 계획이다.\\n실제 삼성은 당장 내년 스마트폰과 노트북에 생성 AI 기능을 탑재할 예정이다. 삼성전자는 지난달 31일 3분기 실적 발표에서 “내년 출시하는 스마트폰에 사용자들이 많이 쓰는 핵심 기능 위주로 생성형 AI 기술을 적용할 계획”이라고 밝혔다. 첫 적용 대상은 내년 초 출시할 프리미엄 스마트폰 신작 ‘갤럭시S24′가 될 예정이다.\\n한편 삼성전자 내 반도체 사업을 담당하는 DS 부문은 삼성 가우스 대신 지난 8월 출시한 네이버클라우드의 기업용 AI 서비스 ‘뉴로클라우드 포 하이퍼클로바X’를 쓰는 방안을 추진하는 것으로 알려졌다. 컴퓨터 프로그래밍·문서작성 등에 AI를 활용하는 것이 목적이다.\\n\\n이해인 기자\\xa0\\xa0\\n편집국 정치부 기자\\n\\n구독\\n구독수\\n146\\n \\n많이 본 뉴스\\n\\n공장은 TSMC, 설계는 브로드컴... \\'美 반도체 상징\\' 인텔 쪼개지나\\n미국 트럼프 정부가 자국 대표 반도체 기업 인텔을 설계와 제조 두 개로 나눠 매각하는 방안을 검토 중인 것으로 알려졌다. 막대한 적자...\\n\\n수백만원 건조기·스타일러 왜 필요? 스타트업의 기발한 아이디어\\n나만의 아이디어로 창업을 꿈꾸는 여러분에게 본보기가 될 ‘창업 노트 훔쳐보기’를 연재합니다. 그들의 이야기를 소개합니다. 본 콘텐츠는 ...\\n\\n\"직장 동료의 노출 심한 카톡 프사...누가 좀 말려줘요\"\\nWEEKLY BIZ 뉴스레터 구독하기 ☞ https://page.stibee.com/subscriptions/146096 “우리 회사 ...\\n\\n\"직장 동료의 노출 심한 카톡 프사...누가 좀 말려줘요\"\\nWEEKLY BIZ 뉴스레터 구독하기 ☞ https://page.stibee.com/subscriptions/146096 “우리 회사 ...\\nBy TaboolaBy Taboola\\n당신이 좋아할 만한 콘텐츠\\nADJackpot! Mountain View Men Won a Record Bonus On an Online Slot MachineMcLuck | Play Now Install Now\\nADTired Of Losing Muscle? Brooke Burke Says To Do This DailyPower Life Learn More\\nADDoctor\\'s Home Remedy Deactivates \\'Thin Hair Gene\\'Noor Hair Learn More\\n\\'62세\\' 톰 크루즈, 이번엔 26살 연하 ♥본드걸과 밸런타인 데이트[Oh!llywood]\\n구준엽, 故 서희원과 결혼전 재산분리 계약…160억 대저택 장모에 넘겨\\n\\'1400억 사우디 제안\\' \"기복있는 손흥민 팔아라!\" 토트넘 전 스카우트 \\'막말\\'... \"토트넘과 손흥민 방향 다를 수 있다\"\\nU.S. Privacy\\n100자평\\n도움말삭제기준\\nBy TaboolaBy Taboola\\n지금 뜨는 콘텐츠\\nADNew Land Rover Defender Is Breathtaking, Especially At This Price (Take A Look)SUVs | Top Search Now\\nADJackpot! Mountain View Women Won a Record Bonus On an Online Slot MachineMcLuck | Play Now\\nADType In Any Name, Wait 127 Seconds, See Instant ResultsFastest Search\\n‘61세’ 김일우, 진짜 장가가나… “♥박선영과 편해지고 가까워져\"\\n\\'퇴출수순\\' 김가영, 새국면 맞나..故오요안나 유가족 측 \"가해자 아냐\" (Oh!쎈 이슈)\\n‘50억 도쿄집 공개’ 후폭풍..추성훈 “야노시호가 유튜브 다 없애라고”\\n많이 본 뉴스\\n1\\n전한길 \"광주 반탄 집회로 지역 갈등 종식\" 박은식 \"野 지켜본 국민 결집\"\\n2\\n\\ufeff몸 아픈 60대 아들에게 부담될까… 바닥에 누워서만 생활한 80대母\\n3\\n美 \"희토류 50% 주면 파병 가능\"... 젤렌스키, 즉각 거부한 이유\\n4\\n일론 머스크, 13명째 아빠 됐다...\"아이 갖는게 부업이냐\" 댓글에 웃음만\\n5\\n공장은 TSMC, 설계는 브로드컴... \\'美 반도체 상징\\' 인텔 쪼개지나\\n6\\n서울대에서 尹탄핵 찬반 집회... 멱살잡이에 욕설까지\\n7\\n수백만원 건조기·스타일러 왜 필요? 스타트업의 기발한 아이디어\\n8\\n후원사 잃은 이소미, 사우디서 44만달러\\n9\\n목수 된 류호정 \"고생 모른다는 선입견 깨고 싶어... 정치 복귀 안해\"\\n10\\n봄 오는 줄 알았더니... 내일부터 또 한파\\n6\\n서울대에서 尹탄핵 찬반 집회... 멱살잡이에 욕설까지\\n7\\n수백만원 건조기·스타일러 왜 필요? 스타트업의 기발한 아이디어\\n8\\n후원사 잃은 이소미, 사우디서 44만달러\\n9\\n목수 된 류호정 \"고생 모른다는 선입견 깨고 싶어... 정치 복귀 안해\"\\n10\\n봄 오는 줄 알았더니... 내일부터 또 한파\\n오피니언\\n\\n사설\\n칼럼\\n朝鮮칼럼 The Column\\n태평로\\n동서남북\\n경제포커스\\n만물상\\n에스프레소\\n데스크에서\\n기자의 시각\\n특파원 칼럼\\n기자수첩\\n팔면봉\\nESSAY\\n전문가 칼럼\\n\\n정치\\n\\n정치 일반\\n대통령실\\n국회·정당\\n북한\\n외교·국방\\n행정\\n\\n국제\\n\\n국제 일반\\n미국\\n중국 | 일본\\n아시아\\n유럽\\n중동·아프리카·중남미\\n해외토픽\\n\\n사회\\n\\n사회 일반\\n사건사고\\n법조\\n교육\\n노동\\n교통·환경\\n복지·의료\\n취업\\n피플\\n부음·인사\\n아무튼, 주말\\n전국\\n\\n조선경제\\n\\nWEEKLY BIZ\\n테크\\n과학\\n산업·재계\\n자동차\\n부동산\\n생활경제\\n중기·벤처\\n스타트업 취중잡담\\n경제 일반\\n머니\\n증권·금융\\n국제경제\\n재테크\\n\\n스포츠\\n\\n스포츠 일반\\n야구\\n해외야구\\n축구\\n해외축구\\n농구\\n배구\\n골프\\n스포츠포토\\n\\n건강\\n쇼핑의맛\\n문화·연예\\n\\n연예 일반\\n스타 | 방송\\n영화 소식 | 음악\\n연예 포토\\n문화 일반\\n책 | 영화\\n음악 | 공연\\n미술·전시\\n종교·학술\\n방송·미디어\\n건축·디자인\\n패션·뷰티\\n여행 | 음식·맛집\\n리빙\\n\\n조선멤버스\\n\\n조선일보 구독신청\\n초판서비스\\n독자 멤버십\\n신문은 선생님\\n오늘의 운세\\n\\nDB조선\\n\\n지면 PDF보기\\n인물검색\\n사진검색\\n뉴스 라이브러리\\n뉴스Q\\n\\n뉴스레터\\n\\n\\n오피니언\\n\\n정치\\n국제\\n사회\\n\\n조선경제\\n\\n\\n스포츠\\n\\n건강\\n문화· 연예\\xa0\\n조선 멤버스\\n쇼핑의맛\\n\\n조선일보 공식 SNS\\n\\n페이스북\\n트위터\\n유튜브\\n인스타그램\\n\\n주소: 서울특별시 중구 세종대로21길 30, 4층(태평로1가) | 대표번호 02)724-5114\\n인터넷신문등록번호: 서울 아 01718\\n등록(발행)일자: 2011년 07월 26일\\n발행인·편집인: 홍준호\\n개인정보처리방침청소년보호정책(책임자: 나민수)\\nCopyright 조선일보 All rights reserved. 무단 전재 및 재배포 금지.\\n\\n회사소개기자채용고객센터독자권익보호위원회기사제보뉴지엄광고안내콘텐츠구매제휴문의사이트맵\\n조선미디어 관계사\\n개인정보처리방침사이트맵\\nCopyright 조선일보 All rights reserved. 무단 전재 및 재배포 금지.\\n로그인을 하시면 모든 기사를 읽을 수 있습니다\\n로그인\\n휴대폰 로그인이메일 로그인\\n이메일 혹은 아이디\\n비밀번호\\n로그인\\n로그인 상태 유지\\n아이디 찾기|비밀번호 재설정\\n\\n소셜 로그인\\n\\n\\n\\nSign in with Google\\n\\n로그인 아이디가 없으신가요? 회원가입\\n로그인이 어려우신가요?상세설명 보기'}, {'title': 'Gauss, 삼성의 생성형 AI (나도 있다 이 말이야) :: 바른it생활', 'url': 'https://baleun-it.tistory.com/188', 'content': 'Gauss, 삼성의 생성형 AI (나도 있다 이 말이야) :: 바른it생활 Gauss Image : 이미지 생성 및 편집 기능을 통해, 저해상도 이미지를 고해상도로 변환하거나 스타일 변환 등을 수행합니다\\u200b. Gauss Code는 코드 자동 생성 및 테스트 케이스 작성을 지원하여 개발자들이 빠르고 효율적으로 소프트웨어를 개발할 수 있도록 돕습니다. Gauss Image는 삼성의 다양한 디바이스에서 이미지 생성 및 편집 작업을 수행합니다. 여기에\\xa0Gauss\\xa0Image의\\xa0이미지\\xa0생성\\xa0및\\xa0편집\\xa0기능이\\xa0더해지면,\\xa0사용자는\\xa0촬영한\\xa0사진을\\xa0실시간으로\\xa0보정하고\\xa0원하는\\xa0스타일로\\xa0변환할\\xa0수\\xa0있습니다. 삼성\\xa0Gauss는\\xa0텍스트,\\xa0코드,\\xa0이미지\\xa0생성이라는\\xa03가지\\xa0핵심\\xa0기능을\\xa0바탕으로\\xa0사용자들의\\xa0생산성을\\xa0높이고,\\xa0더욱\\xa0안전한\\xa0AI\\xa0환경을\\xa0제공하려는\\xa0삼성의\\xa0전략을\\xa0잘\\xa0보여줍니다. Gauss의\\xa0로컬\\xa0실행\\xa0기능은\\xa0경쟁사\\xa0대비\\xa0차별화된\\xa0장점이며,\\xa0이를\\xa0통해\\xa0사용자는\\xa0보안에\\xa0대한\\xa0우려\\xa0없이\\xa0다양한\\xa0AI\\xa0기능을\\xa0활용할\\xa0수\\xa0있습니다.', 'score': 0.7557276, 'raw_content': \"Published Time: 2024-09-30T05:00:25+09:00\\nGauss, 삼성의 생성형 AI (나도 있다 이 말이야) :: 바른it생활\\n바른it생활\\n반응형\\n\\n\\n분류 전체보기 (209)  \\n\\nStuff info (95)\\nTips (25)  \\nStuff review (18)\\nStreaming Life (11)\\nFree Board (16)\\nBaleun-it info (44)\\n\\n\\n\\n홈\\n\\n태그\\n\\n방명록\\n\\n\\n방문 감사합니다 :)\\n\\n포스팅 잘 봤습니다😊\\n글 읽어주셔서 감사합니다 :)\\n포스팅 잘 보고 가요^^❤️\\n포스팅 잘 보고 가요^^❤️\\n\\n70 / 32 / 121,541\\nGauss, 삼성의 생성형 AI (나도 있다 이 말이야)\\n2024. 9. 30. 05:00\\n삼성 gauss, 생성형AI\\n반응형\\n최근 삼성은 자사의 최신 인공지능 기술인\\nGauss를 공개하며, 생성형 AI 시장에\\n본격적으로 뛰어들었습니다.\\n삼성 Gauss는 언어 처리,\\n이미지 생성, 그리고 코드 작성 등\\n다양한 작업을 수행할 수 있는\\n다목적 AI 모델로,\\n삼성의 스마트폰 및 기타 제품군에\\n통합될 예정입니다.\\nGauss의 주요 특징, 활용 사례,\\n다양한 서비스에서의\\n적용 가능성을 중심으로 살펴보겠습니다.\\n\\n1.\\xa0삼성\\xa0Gauss의\\xa0탄생\\xa0배경\\xa0및\\xa0구성\\xa0요소\\n삼성 Gauss는 2023년 삼성 AI 포럼에서 처음 공개된 모델로, 이름은 수학자 '카를 프리드리히 가우스(Carl Friedrich Gauss)'의 이름에서 따왔습니다. 가우스는 통계학에서 정상 분포를 확립한 것으로 잘 알려져 있으며, AI와 머신러닝의 기본 이론에도 널리 사용됩니다\\u200b.\\xa0삼성은\\xa0이러한\\xa0통계학적\\xa0접근을\\xa0바탕으로\\xa0Gauss를\\xa0설계하여,\\xa0다양한\\xa0기능을\\xa0가진\\xa0생성형\\xa0AI\\xa0모델을\\xa0개발했습니다.\\nGauss는 크게 세 가지 모듈로 나뉩니다.\\n\\nGauss Language : 자연어 처리 및 생성 기능을 담당하며, 이메일 작성, 문서 요약, 번역 등 텍스트 관련 작업에 활용됩니다.\\nGauss Code\\xa0:\\xa0코드\\xa0작성\\xa0및\\xa0분석에\\xa0특화된\\xa0기능을\\xa0제공하며,\\xa0코드\\xa0설명,\\xa0테스트\\xa0케이스\\xa0생성,\\xa0인터랙티브\\xa0코딩\\xa0지원을\\xa0제공합니다.\\nGauss Image : 이미지 생성 및 편집 기능을 통해, 저해상도 이미지를 고해상도로 변환하거나 스타일 변환 등을 수행합니다\\u200b.\\n\\n2.\\xa0Gauss의\\xa0활용\\xa0사례\\xa0및\\xa0주요\\xa0서비스\\n삼성은\\xa0Gauss\\xa0AI를\\xa0자사\\xa0제품과\\xa0서비스에\\xa0통합하여\\xa0사용자\\xa0경험을\\xa0혁신하고\\xa0있습니다.\\xa0이를\\xa0통해\\xa0단순한\\xa0음성\\xa0인식이나\\xa0스마트폰\\xa0내비게이션을\\xa0넘어,\\xa0생산성과\\xa0창의성을\\xa0높일\\xa0수\\xa0있는\\xa0다양한\\xa0기능을\\xa0제공합니다.  \\nGauss Language : 비즈니스 및 개인 생산성 도구\\nGauss Language는 사용자의 입력을 기반으로 다양한 텍스트 작업을 처리합니다. 예를 들어, 사용자가 길게 작성해야 하는 이메일을 간단한 요청으로 요약하여 자동 작성해주거나, 회의록을 요약해주는 서비스로도 사용할 수 있습니다. 삼성은 이 기능을 사내 직원들이 효율적으로 이메일을 작성하고 문서를 관리할 수 있도록 내부적으로 테스트하고 있습니다\\u200b.  \\n사례1 - 스마트폰 및 태블릿의 생산성 도구\\n삼성의\\xa0갤럭시\\xa0시리즈는\\xa0스마트폰에서\\xa0강력한\\xa0멀티태스킹을\\xa0제공하는\\xa0것으로\\xa0잘\\xa0알려져\\xa0있습니다.\\xa0여기에\\xa0Gauss\\xa0Language를\\xa0추가하면\\xa0사용자가\\xa0일상적인\\xa0작업을\\xa0빠르게\\xa0처리할\\xa0수\\xa0있습니다.\\xa0예를\\xa0들어,\\xa0문서를\\xa0스캔하여\\xa0핵심\\xa0내용을\\xa0요약하거나,\\xa0복잡한\\xa0대화를\\xa0요약하여\\xa0실시간으로\\xa0번역하는\\xa0기능이\\xa0탑재될\\xa0수\\xa0있습니다.\\xa0이는\\xa0특히\\xa0글로벌\\xa0비즈니스\\xa0환경에서\\xa0언어\\xa0장벽을\\xa0줄이고,\\xa0빠른\\xa0의사\\xa0결정을\\xa0지원하는\\xa0데\\xa0유용합니다.\\nGauss Code : 개발자들을 위한 강력한 코딩 보조\\nGauss Code는 코드 자동 생성 및 테스트 케이스 작성을 지원하여 개발자들이 빠르고 효율적으로 소프트웨어를 개발할 수 있도록 돕습니다. 이 기능은 삼성 내부에서 개발자들이 새로운 소프트웨어를 개발하거나 기존 코드를 유지보수하는 데 이미 활용되고 있습니다. 특히 'code.i'라는 인터랙티브 코딩 도구는 복잡한 알고리즘을 간단한 프롬프트를 통해 구현할 수 있도록 설계되어 있다고 합니다.  \\n사례2 - 삼성 R&D 부서의 AI 활용\\n삼성의 R&D 팀은 Gauss Code를 이용하여 새로운 애플리케이션의 프로토타입을 빠르게 개발하고 있습니다. 이를 통해 기존 코드 리뷰 과정에서 발생하는 오류를 최소화하고, 코드의 품질을 높이는 데 기여하고 있습니다. 특히 Gauss Code는 기계 학습 알고리즘을 통합하여, 더 나은 코드 최적화와 예측을 제공한다고 전해집니다.  \\nGauss Image : 이미지 생성 및 편집 기능\\nGauss Image는 삼성의 다양한 디바이스에서 이미지 생성 및 편집 작업을 수행합니다. 예를 들어, 사용자가 기존 이미지에 특정 요소를 추가하거나 스타일을 변경하는 작업을 손쉽게 처리할 수 있습니다. 이러한 기능은 기존의 이미지 생성 AI 모델인 OpenAI의 DALL-E와 유사하지만, 사용자가 로컬 기기에서 실행할 수 있다는 점에서 데이터 보안이 강화되었습니다\\u200b.  \\n사례3 - 스마트폰 카메라 및 갤러리 앱의 강화\\n삼성의\\xa0갤럭시\\xa0스마트폰에서는\\xa0이미\\xa0AI\\xa0기반의\\xa0카메라\\xa0기능을\\xa0제공하고\\xa0있습니다.\\xa0여기에\\xa0Gauss\\xa0Image의\\xa0이미지\\xa0생성\\xa0및\\xa0편집\\xa0기능이\\xa0더해지면,\\xa0사용자는\\xa0촬영한\\xa0사진을\\xa0실시간으로\\xa0보정하고\\xa0원하는\\xa0스타일로\\xa0변환할\\xa0수\\xa0있습니다.\\xa0예를\\xa0들어,\\xa0풍경\\xa0사진을\\xa0그림처럼\\xa0보정하거나,\\xa0특정\\xa0객체를\\xa0자동으로\\xa0삭제하는\\xa0등\\xa0사진\\xa0편집이\\xa0보다\\xa0직관적으로\\xa0이루어질\\xa0수\\xa0있습니다.\\n3.\\xa0삼성\\xa0Gauss의\\xa0시장\\xa0전망\\xa0및\\xa0차별점\\n삼성은 Gauss를 통해 기존의 AI 경쟁자들과 차별화된 기술적 우위를 확보하는 것을 목표로 삼고 있습니다. Gauss의 강력한 장점은 클라우드가 아닌 기기 자체에서 AI 작업을 처리할 수 있다는 점입니다. 대부분의 생성형 AI는 데이터 처리 시 클라우드를 사용하여 개인정보 유출 위험이 존재하는 반면, Gauss는 데이터를 기기 내에서 처리하여 보안성을 극대화했습니다\\u200b.  \\n삼성은 향후 자사의 다양한 제품군에 이 멋진 AI를 적용할 예정입니다. 갤럭시 S24 시리즈를 시작으로, 스마트폰, 태블릿, 심지어는 스마트 홈 기기까지 확장하여 생산성과 보안성을 동시에 강화할 계획입니다. 삼성은 단순한 하드웨어 제조사를 넘어, 소프트웨어와 AI를 통합한 종합 디지털 생태계로의 전환을 시도하고 있습니다.\\n4. 삼성 Gauss\\x08, AI 생태계에서의 위치\\n삼성\\xa0Gauss는\\xa0텍스트,\\xa0코드,\\xa0이미지\\xa0생성이라는\\xa03가지\\xa0핵심\\xa0기능을\\xa0바탕으로\\xa0사용자들의\\xa0생산성을\\xa0높이고,\\xa0더욱\\xa0안전한\\xa0AI\\xa0환경을\\xa0제공하려는\\xa0삼성의\\xa0전략을\\xa0잘\\xa0보여줍니다.\\xa0Gauss의\\xa0로컬\\xa0실행\\xa0기능은\\xa0경쟁사\\xa0대비\\xa0차별화된\\xa0장점이며,\\xa0이를\\xa0통해\\xa0사용자는\\xa0보안에\\xa0대한\\xa0우려\\xa0없이\\xa0다양한\\xa0AI\\xa0기능을\\xa0활용할\\xa0수\\xa0있습니다.  \\n앞으로 Gauss가 갤럭시 스마트폰 외에도 다양한 삼성 기기에 탑재된다면, 소비자들의 일상적인 경험이 더욱 스마트하고 효율적으로 바뀔 것입니다. 이처럼 Gauss는 단순한 AI 모델을 넘어, 삼성의 AI 생태계의 핵심 축으로 자리잡아, 경재사와 함께 디지털 혁신을 주도할 가능성을 보여줍니다.\\n반응형\\n공유하기\\n게시글 관리\\n바른it생활\\n저작자표시 비영리 변경금지\\n'Baleun-it info' 카테고리의 다른 글\\n갤럭시 에코시스템, 스마트한 라이프 스타일!\\xa0\\xa0(16)2024.10.08애플 인텔리전스(Apple Intelligence) 요약 & 미리보기\\xa0\\xa0(6)2024.10.06유통의 미래, Retail Media Network (RMN)의 모든 것\\xa0\\xa0(16)2024.09.28디지털 월렛(전자지갑)의 진화와 보안 기술\\xa0\\xa0(1)2024.09.13Generative AI를 활용한 웹 디자인 자동화\\xa0\\xa0(5)2024.09.11\\nNAME \\nPASSWORD \\nHOMEPAGE \\nSECRET \\n+ Recent posts\\n\\n 스마트폰 배터리 오래 쓰는 꿀팁 5가지\\n 2025년 메타버스와 가상 현실(VR) 전망, 새로운 ⋯\\n 엣지 컴퓨팅(Edge Computing), 새해 전망\\n 그 겨울, 바람이 분다. 빅 뒷북 시청후기\\n\\nPowered by Tistory, Designed by wallel\\nRss Feed and Twitter, Facebook, Youtube, Google+\\n티스토리툴바\\n바른it생활구독하기\"}, {'title': 'Gauss, 삼성의 생성형 AI (나도 있다 이 말이야) :: 바른it생활', 'url': 'https://baleun-it.tistory.com/188', 'content': 'Gauss, 삼성의 생성형 AI (나도 있다 이 말이야) :: 바른it생활 Gauss Image : 이미지 생성 및 편집 기능을 통해, 저해상도 이미지를 고해상도로 변환하거나 스타일 변환 등을 수행합니다\\u200b. Gauss Code는 코드 자동 생성 및 테스트 케이스 작성을 지원하여 개발자들이 빠르고 효율적으로 소프트웨어를 개발할 수 있도록 돕습니다. Gauss Image는 삼성의 다양한 디바이스에서 이미지 생성 및 편집 작업을 수행합니다. 여기에\\xa0Gauss\\xa0Image의\\xa0이미지\\xa0생성\\xa0및\\xa0편집\\xa0기능이\\xa0더해지면,\\xa0사용자는\\xa0촬영한\\xa0사진을\\xa0실시간으로\\xa0보정하고\\xa0원하는\\xa0스타일로\\xa0변환할\\xa0수\\xa0있습니다. 삼성\\xa0Gauss는\\xa0텍스트,\\xa0코드,\\xa0이미지\\xa0생성이라는\\xa03가지\\xa0핵심\\xa0기능을\\xa0바탕으로\\xa0사용자들의\\xa0생산성을\\xa0높이고,\\xa0더욱\\xa0안전한\\xa0AI\\xa0환경을\\xa0제공하려는\\xa0삼성의\\xa0전략을\\xa0잘\\xa0보여줍니다. Gauss의\\xa0로컬\\xa0실행\\xa0기능은\\xa0경쟁사\\xa0대비\\xa0차별화된\\xa0장점이며,\\xa0이를\\xa0통해\\xa0사용자는\\xa0보안에\\xa0대한\\xa0우려\\xa0없이\\xa0다양한\\xa0AI\\xa0기능을\\xa0활용할\\xa0수\\xa0있습니다.', 'score': 0.7557276, 'raw_content': \"Published Time: 2024-09-30T05:00:25+09:00\\nGauss, 삼성의 생성형 AI (나도 있다 이 말이야) :: 바른it생활\\n바른it생활\\n반응형\\n\\n\\n분류 전체보기 (209)  \\n\\nStuff info (95)\\nTips (25)  \\nStuff review (18)\\nStreaming Life (11)\\nFree Board (16)\\nBaleun-it info (44)\\n\\n\\n\\n홈\\n\\n태그\\n\\n방명록\\n\\n\\n방문 감사합니다 :)\\n\\n포스팅 잘 봤습니다😊\\n글 읽어주셔서 감사합니다 :)\\n포스팅 잘 보고 가요^^❤️\\n포스팅 잘 보고 가요^^❤️\\n\\n70 / 32 / 121,541\\nGauss, 삼성의 생성형 AI (나도 있다 이 말이야)\\n2024. 9. 30. 05:00\\n삼성 gauss, 생성형AI\\n반응형\\n최근 삼성은 자사의 최신 인공지능 기술인\\nGauss를 공개하며, 생성형 AI 시장에\\n본격적으로 뛰어들었습니다.\\n삼성 Gauss는 언어 처리,\\n이미지 생성, 그리고 코드 작성 등\\n다양한 작업을 수행할 수 있는\\n다목적 AI 모델로,\\n삼성의 스마트폰 및 기타 제품군에\\n통합될 예정입니다.\\nGauss의 주요 특징, 활용 사례,\\n다양한 서비스에서의\\n적용 가능성을 중심으로 살펴보겠습니다.\\n\\n1.\\xa0삼성\\xa0Gauss의\\xa0탄생\\xa0배경\\xa0및\\xa0구성\\xa0요소\\n삼성 Gauss는 2023년 삼성 AI 포럼에서 처음 공개된 모델로, 이름은 수학자 '카를 프리드리히 가우스(Carl Friedrich Gauss)'의 이름에서 따왔습니다. 가우스는 통계학에서 정상 분포를 확립한 것으로 잘 알려져 있으며, AI와 머신러닝의 기본 이론에도 널리 사용됩니다\\u200b.\\xa0삼성은\\xa0이러한\\xa0통계학적\\xa0접근을\\xa0바탕으로\\xa0Gauss를\\xa0설계하여,\\xa0다양한\\xa0기능을\\xa0가진\\xa0생성형\\xa0AI\\xa0모델을\\xa0개발했습니다.\\nGauss는 크게 세 가지 모듈로 나뉩니다.\\n\\nGauss Language : 자연어 처리 및 생성 기능을 담당하며, 이메일 작성, 문서 요약, 번역 등 텍스트 관련 작업에 활용됩니다.\\nGauss Code\\xa0:\\xa0코드\\xa0작성\\xa0및\\xa0분석에\\xa0특화된\\xa0기능을\\xa0제공하며,\\xa0코드\\xa0설명,\\xa0테스트\\xa0케이스\\xa0생성,\\xa0인터랙티브\\xa0코딩\\xa0지원을\\xa0제공합니다.\\nGauss Image : 이미지 생성 및 편집 기능을 통해, 저해상도 이미지를 고해상도로 변환하거나 스타일 변환 등을 수행합니다\\u200b.\\n\\n2.\\xa0Gauss의\\xa0활용\\xa0사례\\xa0및\\xa0주요\\xa0서비스\\n삼성은\\xa0Gauss\\xa0AI를\\xa0자사\\xa0제품과\\xa0서비스에\\xa0통합하여\\xa0사용자\\xa0경험을\\xa0혁신하고\\xa0있습니다.\\xa0이를\\xa0통해\\xa0단순한\\xa0음성\\xa0인식이나\\xa0스마트폰\\xa0내비게이션을\\xa0넘어,\\xa0생산성과\\xa0창의성을\\xa0높일\\xa0수\\xa0있는\\xa0다양한\\xa0기능을\\xa0제공합니다.  \\nGauss Language : 비즈니스 및 개인 생산성 도구\\nGauss Language는 사용자의 입력을 기반으로 다양한 텍스트 작업을 처리합니다. 예를 들어, 사용자가 길게 작성해야 하는 이메일을 간단한 요청으로 요약하여 자동 작성해주거나, 회의록을 요약해주는 서비스로도 사용할 수 있습니다. 삼성은 이 기능을 사내 직원들이 효율적으로 이메일을 작성하고 문서를 관리할 수 있도록 내부적으로 테스트하고 있습니다\\u200b.  \\n사례1 - 스마트폰 및 태블릿의 생산성 도구\\n삼성의\\xa0갤럭시\\xa0시리즈는\\xa0스마트폰에서\\xa0강력한\\xa0멀티태스킹을\\xa0제공하는\\xa0것으로\\xa0잘\\xa0알려져\\xa0있습니다.\\xa0여기에\\xa0Gauss\\xa0Language를\\xa0추가하면\\xa0사용자가\\xa0일상적인\\xa0작업을\\xa0빠르게\\xa0처리할\\xa0수\\xa0있습니다.\\xa0예를\\xa0들어,\\xa0문서를\\xa0스캔하여\\xa0핵심\\xa0내용을\\xa0요약하거나,\\xa0복잡한\\xa0대화를\\xa0요약하여\\xa0실시간으로\\xa0번역하는\\xa0기능이\\xa0탑재될\\xa0수\\xa0있습니다.\\xa0이는\\xa0특히\\xa0글로벌\\xa0비즈니스\\xa0환경에서\\xa0언어\\xa0장벽을\\xa0줄이고,\\xa0빠른\\xa0의사\\xa0결정을\\xa0지원하는\\xa0데\\xa0유용합니다.\\nGauss Code : 개발자들을 위한 강력한 코딩 보조\\nGauss Code는 코드 자동 생성 및 테스트 케이스 작성을 지원하여 개발자들이 빠르고 효율적으로 소프트웨어를 개발할 수 있도록 돕습니다. 이 기능은 삼성 내부에서 개발자들이 새로운 소프트웨어를 개발하거나 기존 코드를 유지보수하는 데 이미 활용되고 있습니다. 특히 'code.i'라는 인터랙티브 코딩 도구는 복잡한 알고리즘을 간단한 프롬프트를 통해 구현할 수 있도록 설계되어 있다고 합니다.  \\n사례2 - 삼성 R&D 부서의 AI 활용\\n삼성의 R&D 팀은 Gauss Code를 이용하여 새로운 애플리케이션의 프로토타입을 빠르게 개발하고 있습니다. 이를 통해 기존 코드 리뷰 과정에서 발생하는 오류를 최소화하고, 코드의 품질을 높이는 데 기여하고 있습니다. 특히 Gauss Code는 기계 학습 알고리즘을 통합하여, 더 나은 코드 최적화와 예측을 제공한다고 전해집니다.  \\nGauss Image : 이미지 생성 및 편집 기능\\nGauss Image는 삼성의 다양한 디바이스에서 이미지 생성 및 편집 작업을 수행합니다. 예를 들어, 사용자가 기존 이미지에 특정 요소를 추가하거나 스타일을 변경하는 작업을 손쉽게 처리할 수 있습니다. 이러한 기능은 기존의 이미지 생성 AI 모델인 OpenAI의 DALL-E와 유사하지만, 사용자가 로컬 기기에서 실행할 수 있다는 점에서 데이터 보안이 강화되었습니다\\u200b.  \\n사례3 - 스마트폰 카메라 및 갤러리 앱의 강화\\n삼성의\\xa0갤럭시\\xa0스마트폰에서는\\xa0이미\\xa0AI\\xa0기반의\\xa0카메라\\xa0기능을\\xa0제공하고\\xa0있습니다.\\xa0여기에\\xa0Gauss\\xa0Image의\\xa0이미지\\xa0생성\\xa0및\\xa0편집\\xa0기능이\\xa0더해지면,\\xa0사용자는\\xa0촬영한\\xa0사진을\\xa0실시간으로\\xa0보정하고\\xa0원하는\\xa0스타일로\\xa0변환할\\xa0수\\xa0있습니다.\\xa0예를\\xa0들어,\\xa0풍경\\xa0사진을\\xa0그림처럼\\xa0보정하거나,\\xa0특정\\xa0객체를\\xa0자동으로\\xa0삭제하는\\xa0등\\xa0사진\\xa0편집이\\xa0보다\\xa0직관적으로\\xa0이루어질\\xa0수\\xa0있습니다.\\n3.\\xa0삼성\\xa0Gauss의\\xa0시장\\xa0전망\\xa0및\\xa0차별점\\n삼성은 Gauss를 통해 기존의 AI 경쟁자들과 차별화된 기술적 우위를 확보하는 것을 목표로 삼고 있습니다. Gauss의 강력한 장점은 클라우드가 아닌 기기 자체에서 AI 작업을 처리할 수 있다는 점입니다. 대부분의 생성형 AI는 데이터 처리 시 클라우드를 사용하여 개인정보 유출 위험이 존재하는 반면, Gauss는 데이터를 기기 내에서 처리하여 보안성을 극대화했습니다\\u200b.  \\n삼성은 향후 자사의 다양한 제품군에 이 멋진 AI를 적용할 예정입니다. 갤럭시 S24 시리즈를 시작으로, 스마트폰, 태블릿, 심지어는 스마트 홈 기기까지 확장하여 생산성과 보안성을 동시에 강화할 계획입니다. 삼성은 단순한 하드웨어 제조사를 넘어, 소프트웨어와 AI를 통합한 종합 디지털 생태계로의 전환을 시도하고 있습니다.\\n4. 삼성 Gauss\\x08, AI 생태계에서의 위치\\n삼성\\xa0Gauss는\\xa0텍스트,\\xa0코드,\\xa0이미지\\xa0생성이라는\\xa03가지\\xa0핵심\\xa0기능을\\xa0바탕으로\\xa0사용자들의\\xa0생산성을\\xa0높이고,\\xa0더욱\\xa0안전한\\xa0AI\\xa0환경을\\xa0제공하려는\\xa0삼성의\\xa0전략을\\xa0잘\\xa0보여줍니다.\\xa0Gauss의\\xa0로컬\\xa0실행\\xa0기능은\\xa0경쟁사\\xa0대비\\xa0차별화된\\xa0장점이며,\\xa0이를\\xa0통해\\xa0사용자는\\xa0보안에\\xa0대한\\xa0우려\\xa0없이\\xa0다양한\\xa0AI\\xa0기능을\\xa0활용할\\xa0수\\xa0있습니다.  \\n앞으로 Gauss가 갤럭시 스마트폰 외에도 다양한 삼성 기기에 탑재된다면, 소비자들의 일상적인 경험이 더욱 스마트하고 효율적으로 바뀔 것입니다. 이처럼 Gauss는 단순한 AI 모델을 넘어, 삼성의 AI 생태계의 핵심 축으로 자리잡아, 경재사와 함께 디지털 혁신을 주도할 가능성을 보여줍니다.\\n반응형\\n공유하기\\n게시글 관리\\n바른it생활\\n저작자표시 비영리 변경금지\\n'Baleun-it info' 카테고리의 다른 글\\n갤럭시 에코시스템, 스마트한 라이프 스타일!\\xa0\\xa0(16)2024.10.08애플 인텔리전스(Apple Intelligence) 요약 & 미리보기\\xa0\\xa0(6)2024.10.06유통의 미래, Retail Media Network (RMN)의 모든 것\\xa0\\xa0(16)2024.09.28디지털 월렛(전자지갑)의 진화와 보안 기술\\xa0\\xa0(1)2024.09.13Generative AI를 활용한 웹 디자인 자동화\\xa0\\xa0(5)2024.09.11\\nNAME \\nPASSWORD \\nHOMEPAGE \\nSECRET \\n+ Recent posts\\n\\n 스마트폰 배터리 오래 쓰는 꿀팁 5가지\\n 2025년 메타버스와 가상 현실(VR) 전망, 새로운 ⋯\\n 엣지 컴퓨팅(Edge Computing), 새해 전망\\n 그 겨울, 바람이 분다. 빅 뒷북 시청후기\\n\\nPowered by Tistory, Designed by wallel\\nRss Feed and Twitter, Facebook, Youtube, Google+\\n티스토리툴바\\n바른it생활구독하기\"}, {'title': '삼성전자와 Tsmc의 생성형 Ai 활용 업무혁신 경쟁 - 브런치', 'url': 'https://brunch.co.kr/@brunchk1wj/225', 'content': \"이 AI 챗봇은 반도체 사업부(DS)의 특성을 고려하여 구축된 시스템으로, 구매 및 경비 처리, 공정·설계·제조 관련 전문 지식 검색, 제조 및 공정 데이터 요약, 번역, 문서 작성, 회의록 작성 및 요약, 시장 및 기업 분석, 코드 생성 및 검토, 고객 피드백 등 다양한 업무 프로세스를 자동화하여 지원합니다. TSMC는 2023년 5월 자체 개발한 대규모 언어 모델(LLM) 기반의 AI 챗봇 'tGenie'를 공개하여 기업 내 디지털 혁신을 가속화하고 있습니다. 이 AI 시스템은 실시간 대화, 다국어 번역, 전문 보고서 작성, 소프트웨어 프로그래밍, 복잡한 디버깅 작업 등 다양한 기능을 제공하며 직원들의 업무 효율성을 크게 향상시키고 있습니다. 이 AI 시스템은 복잡한 관리 업무를 효율화하고, 의사결정 과정을 가속화하며, 전반적인 업무 프로세스를 최적화하는 데 중요한 역할을 하고 있습니다. 두 기업 모두 AI 챗봇을 통해 생산성 향상, 비용 절감, 의사결정 가속화 등 다양한 이점을 얻고 있습니다.\", 'score': 0.7004242, 'raw_content': \"삼성전자와 TSMC의 생성형 AI 활용 업무혁신 경쟁\\n메뉴\\nbrunch\\n매거진 AI개발기업 디피니트 콘텐츠\\n실행\\n신고\\n라이킷 7 댓글 공유\\n닫기\\nYou can make anything\\nby writing\\nC.S.Lewis\\n브런치스토리 시작하기\\n\\n브런치스토리 홈\\n브런치스토리 나우\\n브런치스토리 책방\\n\\n\\n계정을 잊어버리셨나요?\\n삼성전자와 TSMC의 생성형 AI 활용 업무혁신 경쟁\\nby 김도환 Jan 08. 2025\\n안녕하세요.\\nAI를 활용한 업무혁신 사례를 소개해드리는 디피니트입니다.\\n\\n오늘은 글로벌 반도체 시장을 주도하는\\n삼성전자와 TSMC의\\xa0업무혁신 경쟁을\\n소개해 보겠습니다.  \\n챗봇을 활용해 어떻게\\xa0업무 효율성을 높이는지\\n그 성과를 심층적으로 살펴보겠습니다.  \\n함께 보시죠.\\n\\n\\n\\n오늘의 목차입니다.\\n\\n먼저\\xa0반도체 제조기업의\\xa0내부 직원들이 담당하는\\xa0주요 업무들을 살펴보겠습니다.\\n\\n다양한 업무들 중 직원들은 기술 문서 번역 작업에 많은 시간을 할애해야하는데요.\\n글로벌 반도체 기업들은 이 작업들을 챗봇으로 해결하고 있습니다.\\n그럼 삼성전자의 사례부터 살펴볼게요.\\n01. 삼성전자 DS 부문, DS 어시스턴트 도입\\n\\n\\n삼성전자가 자체 개발한 생성형 AI 솔루션인 '삼성 가우스'를 기반으로 한 'DS Assistant'를 출시했습니다.\\n이 AI 챗봇은 반도체 사업부(DS)의 특성을 고려하여 구축된 시스템으로, 구매 및 경비 처리, 공정·설계·제조 관련 전문 지식 검색, 제조 및 공정 데이터 요약, 번역, 문서 작성, 회의록 작성 및 요약, 시장 및 기업 분석, 코드 생성 및 검토, 고객 피드백 등 다양한 업무 프로세스를 자동화하여 지원합니다.\\n삼성전자는 이를 통해 임직원의 업무 생산성을 향상시키고, 향후 모바일 기기와 노트북 등의 제품에도 이 AI 모델을 확대 적용하여 새로운 사용자 경험을 제공할 계획입니다.\\n\\nDS 어시스턴트의 주요 도입 목적은 다음과 같습니다.\\n반도체 사업부에 첨단 생성형 AI 기술에 대한 광범위한 접근 권한을 제공함으로써 기업의 디지털 혁신을 가속화하는 데 중추적인 역할을 하고 있습니다.\\n이 AI 시스템은 시간 소모적이고 복잡한 업무들, 특히 심층적인 시장 및 기업 분석, 다국어 번역, 소프트웨어 코드 생성, 그리고 전문적인 문서 작성 등의 내부 프로세스를 효율적으로 자동화했습니다.\\n이를 통해 직원들은 반복적이고 시간이 많이 소요되는 작업에서 벗어나 더 창의적이고 전략적인 업무에 집중할 수 있게 되었습니다.\\n결과적으로 DS 어시스턴트는 기업 전반의 생산성을 크게 향상시키고, 의사결정 과정을 가속화하며, 혁신적인 아이디어 창출을 촉진함으로써 삼성전자의 글로벌 경쟁력 강화에 실질적인 기여를 하고 있습니다.\\n업무 프로세스 최적화를 통한 임직원 생산성 극대화\\n내부 데이터 보안 강화 및 정보 유출 리스크 최소화\\n외부 AI 서비스 의존도 감소를 통한 기업 보안 체계 강화\\n02. TSMC의 t지니 도입\\n\\n다음으로 TSMC의 직원 도우미 AI 비서, t지니에 대해 살펴볼게요.\\n\\nTSMC는 2023년 5월 자체 개발한 대규모 언어 모델(LLM) 기반의 AI 챗봇 'tGenie'를 공개하여 기업 내 디지털 혁신을 가속화하고 있습니다. 이 AI 시스템은 실시간 대화, 다국어 번역, 전문 보고서 작성, 소프트웨어 프로그래밍, 복잡한 디버깅 작업 등 다양한 기능을 제공하며 직원들의 업무 효율성을 크게 향상시키고 있습니다.\\ntGenie의 도입으로 TSMC는 특히 번역 업무에서 큰 비용 절감 효과를 거두고 있습니다. 2023년 한 해 동안 아웃소싱 번역 비용만 1억 대만 달러(약 41억 7천200만 원) 가량을 절감했으며, 이는 기업의 운영 비용 최적화에 상당한 기여를 하고 있습니다.\\n\\n또한, tGenie는 TSMC의 생산, 물류, 판매, 인사 및 관리 등 다양한 부서에서 폭넓게 활용되고 있습니다. 이 AI 시스템은 복잡한 관리 업무를 효율화하고, 의사결정 과정을 가속화하며, 전반적인 업무 프로세스를 최적화하는 데 중요한 역할을 하고 있습니다.\\nTSMC는 tGenie의 기능을 지속적으로 확장하고 있으며, 향후 재고 관리, 가격 책정, 직원 이직률 예측 등 다양한 예측 업무에도 활용할 계획입니다. 이를 통해 데이터 기반의 정확한 의사결정과 전략 수립이 가능해질 것으로 기대되고 있습니다.\\ntGenie의 개발에는 TSMC의 린홍다 최고정보책임자(CIO) 겸 부사장이 이끄는 100명 규모의 AI 전담팀이 참여했으며, 엔비디아의 AI 칩을 기반으로 한 고성능 AI 서버를 활용하여 약 5개월 만에 완성되었습니다. 이 AI 시스템은 TSMC의 특수한 경영 환경과 파운드리 공장 운영에 최적화된 지식 관리 시스템으로, 높은 수준의 정보 보안을 갖춘 대화형 비서 기능을 제공합니다.\\n\\n\\n오늘 우리는 삼성전자와 TSMC의 AI 챗봇 활용한\\xa0업무 환경 혁신\\xa0사례를 심층적으로 살펴보았습니다.\\n두 기업 모두 AI 챗봇을 통해 생산성 향상, 비용 절감, 의사결정 가속화 등 다양한 이점을 얻고 있습니다.\\n특히, 기술문서 번역에 큰 효과가 있다는 것을 알 수 있었습니다.\\n이는 치열한 글로벌 반도체 경쟁에서 우위를 점하기 위한 전략적 움직임입니다.\\n\\n이러한 추세는 업무용 AI 챗봇이 현대 기업 환경에서\\n필수적인 도구로 자리잡고 있음을 보여줍니다.\\xa0\\n\\n귀사도 이러한 혁신을 더 이상 미루기 어려운 시점에 와 있습니다. 디피니트의 다비스(DARVIS) 챗봇은 sLLM과 RAG 기술을 기반으로 개발되어 뛰어난 정확도와 성능을 제공합니다.\\xa0특히 다비스는 다음과 같은 장점을 갖고 있습니다.\\n기업의 다양한 시스템(ERP, MES, 그룹웨어 등)과 완벽하게 연동\\n사용자 친화적인 인터페이스 제공\\n기업 특성에 맞는 맞춤형 기능과 관리자 옵션 제공\\n아래 영상은 ERP, MES 시스템 속 데이터를 통합으로 추출하는 장면입니다.\\n재생버튼을 클릭해 확인해주세요.\\n직원을 위한 AI 비서, 다비스\\xa0\\n아래 영상은 비정형 데이터인 문서 파일을 검색하는 장면입니다.\\n직원을 위한 AI 비서, 다비스\\n다비스 챗봇은 실시간으로 사내 데이터를 추출하고 활용할 수 있도록 지원하여, 귀사의 업무 효율성을 크게 향상시키고 경쟁력을 강화할 수 있습니다.\\n이제는 귀사도 AI 챗봇의 도입을 통해 비즈니스 혁신을 이룰 때입니다. 디피니트의 다비스 솔루션을 통해 귀사의 비즈니스가 한 단계 도약할 수 있는 기회를 잡으시기 바랍니다.\\n디피니트와 다비스 챗봇이 궁금하신 분들은 아래 포스팅에서 자세히 확인하실 수 있습니다.\\nhttps://blog.naver.com/dfinite-ai/223700355449\\n기술력 높은 LLM 기반 RAG 챗봇 구축 파트너 외주개발업체, 찾고 계신가요?안녕하세요. 기술력과 합리적인 비용으로 LLM 기반 RAG 챗봇 구축해드리는 디피니트입니다. 많은 기... blog.naver.com\\xa0\\n성공적인 다비스 도입 사례가 궁금하신 분들은 아래 링크를 클릭해 자세히 확인해주세요.\\nhttps://blog.dfinite.ai/\\n사내용 AI 챗봇 DARVISAI 챗봇 DARVIS로 기업의 업무 프로세스를 개선한 실제 사례를 소개합니다. 챗봇, LLM, 비전 AI 등 디피니트의 AI 기술이 다양한 산업 현장에서 만들어낸 변화와 성과를 공유합니다. 고객들의 생생한 blog.dfinite.ai\\xa0\\n감사합니다.\\nkeyword\\n\\nAI\\n업무\\n챗봇\\n\\n김도환 IT 분야 크리에이터 소속 디피니트 직업 CEO \\n매출 올리는 데이터 사이언티스트 저자 AI 솔루션 스타트업, 디피니트 대표 김도환입니다.\\n구독자 92 제안하기 구독\\n\\n매거진의 이전글 LLM, RAG 기반 챗봇, 기술력 높은 개발업체는?\\n브런치 로그인\\n브런치\\n\\n 브런치스토리 작가로 데뷔하세요. 진솔한 에세이부터 업계 전문 지식까지, 당신의 이야기를 세상에 선보이세요.\\n 브런치스토리로 제안받는 새로운 기회 다양한 프로젝트와 파트너를 통해 작가님의 작품이 책·강연 등으로 확장됩니다.\\n 글로 만나는 작가의 경험 작가를 구독하고, 새 글을 받아보세요. 당신에게 영감을 주는 작품을 추천합니다.\\n\\n이전\\n\\n1\\n2\\n3\\n\\n다음\\n브런치스토리 시작하기 카카오계정으로 로그인\\n내 브런치스토리 찾기 내 브런치스토리의 카카오계정을 모르겠어요 페이스북·트위터로만 로그인 했었나요? 로그인 관련 상세 도움말\\n창 닫기\\n브런치는 최신 브라우저에 최적화 되어있습니다. IE chrome safari\\n작가 구독을 취소하시겠습니까?\\n작가의 글을 더 이상 구독하지 않고,\\n새 글 알림도 받아볼 수 없습니다.\\n계속 구독하기 구독 취소하기\"}, {'title': '삼성전자와 Tsmc의 생성형 Ai 활용 업무혁신 경쟁 - 브런치', 'url': 'https://brunch.co.kr/@brunchk1wj/225', 'content': \"이 AI 챗봇은 반도체 사업부(DS)의 특성을 고려하여 구축된 시스템으로, 구매 및 경비 처리, 공정·설계·제조 관련 전문 지식 검색, 제조 및 공정 데이터 요약, 번역, 문서 작성, 회의록 작성 및 요약, 시장 및 기업 분석, 코드 생성 및 검토, 고객 피드백 등 다양한 업무 프로세스를 자동화하여 지원합니다. TSMC는 2023년 5월 자체 개발한 대규모 언어 모델(LLM) 기반의 AI 챗봇 'tGenie'를 공개하여 기업 내 디지털 혁신을 가속화하고 있습니다. 이 AI 시스템은 실시간 대화, 다국어 번역, 전문 보고서 작성, 소프트웨어 프로그래밍, 복잡한 디버깅 작업 등 다양한 기능을 제공하며 직원들의 업무 효율성을 크게 향상시키고 있습니다. 이 AI 시스템은 복잡한 관리 업무를 효율화하고, 의사결정 과정을 가속화하며, 전반적인 업무 프로세스를 최적화하는 데 중요한 역할을 하고 있습니다. 두 기업 모두 AI 챗봇을 통해 생산성 향상, 비용 절감, 의사결정 가속화 등 다양한 이점을 얻고 있습니다.\", 'score': 0.7004242, 'raw_content': \"삼성전자와 TSMC의 생성형 AI 활용 업무혁신 경쟁\\n메뉴\\nbrunch\\n매거진 AI개발기업 디피니트 콘텐츠\\n실행\\n신고\\n라이킷 7 댓글 공유\\n닫기\\nYou can make anything\\nby writing\\nC.S.Lewis\\n브런치스토리 시작하기\\n\\n브런치스토리 홈\\n브런치스토리 나우\\n브런치스토리 책방\\n\\n\\n계정을 잊어버리셨나요?\\n삼성전자와 TSMC의 생성형 AI 활용 업무혁신 경쟁\\nby 김도환 Jan 08. 2025\\n안녕하세요.\\nAI를 활용한 업무혁신 사례를 소개해드리는 디피니트입니다.\\n\\n오늘은 글로벌 반도체 시장을 주도하는\\n삼성전자와 TSMC의\\xa0업무혁신 경쟁을\\n소개해 보겠습니다.  \\n챗봇을 활용해 어떻게\\xa0업무 효율성을 높이는지\\n그 성과를 심층적으로 살펴보겠습니다.  \\n함께 보시죠.\\n\\n\\n\\n오늘의 목차입니다.\\n\\n먼저\\xa0반도체 제조기업의\\xa0내부 직원들이 담당하는\\xa0주요 업무들을 살펴보겠습니다.\\n\\n다양한 업무들 중 직원들은 기술 문서 번역 작업에 많은 시간을 할애해야하는데요.\\n글로벌 반도체 기업들은 이 작업들을 챗봇으로 해결하고 있습니다.\\n그럼 삼성전자의 사례부터 살펴볼게요.\\n01. 삼성전자 DS 부문, DS 어시스턴트 도입\\n\\n\\n삼성전자가 자체 개발한 생성형 AI 솔루션인 '삼성 가우스'를 기반으로 한 'DS Assistant'를 출시했습니다.\\n이 AI 챗봇은 반도체 사업부(DS)의 특성을 고려하여 구축된 시스템으로, 구매 및 경비 처리, 공정·설계·제조 관련 전문 지식 검색, 제조 및 공정 데이터 요약, 번역, 문서 작성, 회의록 작성 및 요약, 시장 및 기업 분석, 코드 생성 및 검토, 고객 피드백 등 다양한 업무 프로세스를 자동화하여 지원합니다.\\n삼성전자는 이를 통해 임직원의 업무 생산성을 향상시키고, 향후 모바일 기기와 노트북 등의 제품에도 이 AI 모델을 확대 적용하여 새로운 사용자 경험을 제공할 계획입니다.\\n\\nDS 어시스턴트의 주요 도입 목적은 다음과 같습니다.\\n반도체 사업부에 첨단 생성형 AI 기술에 대한 광범위한 접근 권한을 제공함으로써 기업의 디지털 혁신을 가속화하는 데 중추적인 역할을 하고 있습니다.\\n이 AI 시스템은 시간 소모적이고 복잡한 업무들, 특히 심층적인 시장 및 기업 분석, 다국어 번역, 소프트웨어 코드 생성, 그리고 전문적인 문서 작성 등의 내부 프로세스를 효율적으로 자동화했습니다.\\n이를 통해 직원들은 반복적이고 시간이 많이 소요되는 작업에서 벗어나 더 창의적이고 전략적인 업무에 집중할 수 있게 되었습니다.\\n결과적으로 DS 어시스턴트는 기업 전반의 생산성을 크게 향상시키고, 의사결정 과정을 가속화하며, 혁신적인 아이디어 창출을 촉진함으로써 삼성전자의 글로벌 경쟁력 강화에 실질적인 기여를 하고 있습니다.\\n업무 프로세스 최적화를 통한 임직원 생산성 극대화\\n내부 데이터 보안 강화 및 정보 유출 리스크 최소화\\n외부 AI 서비스 의존도 감소를 통한 기업 보안 체계 강화\\n02. TSMC의 t지니 도입\\n\\n다음으로 TSMC의 직원 도우미 AI 비서, t지니에 대해 살펴볼게요.\\n\\nTSMC는 2023년 5월 자체 개발한 대규모 언어 모델(LLM) 기반의 AI 챗봇 'tGenie'를 공개하여 기업 내 디지털 혁신을 가속화하고 있습니다. 이 AI 시스템은 실시간 대화, 다국어 번역, 전문 보고서 작성, 소프트웨어 프로그래밍, 복잡한 디버깅 작업 등 다양한 기능을 제공하며 직원들의 업무 효율성을 크게 향상시키고 있습니다.\\ntGenie의 도입으로 TSMC는 특히 번역 업무에서 큰 비용 절감 효과를 거두고 있습니다. 2023년 한 해 동안 아웃소싱 번역 비용만 1억 대만 달러(약 41억 7천200만 원) 가량을 절감했으며, 이는 기업의 운영 비용 최적화에 상당한 기여를 하고 있습니다.\\n\\n또한, tGenie는 TSMC의 생산, 물류, 판매, 인사 및 관리 등 다양한 부서에서 폭넓게 활용되고 있습니다. 이 AI 시스템은 복잡한 관리 업무를 효율화하고, 의사결정 과정을 가속화하며, 전반적인 업무 프로세스를 최적화하는 데 중요한 역할을 하고 있습니다.\\nTSMC는 tGenie의 기능을 지속적으로 확장하고 있으며, 향후 재고 관리, 가격 책정, 직원 이직률 예측 등 다양한 예측 업무에도 활용할 계획입니다. 이를 통해 데이터 기반의 정확한 의사결정과 전략 수립이 가능해질 것으로 기대되고 있습니다.\\ntGenie의 개발에는 TSMC의 린홍다 최고정보책임자(CIO) 겸 부사장이 이끄는 100명 규모의 AI 전담팀이 참여했으며, 엔비디아의 AI 칩을 기반으로 한 고성능 AI 서버를 활용하여 약 5개월 만에 완성되었습니다. 이 AI 시스템은 TSMC의 특수한 경영 환경과 파운드리 공장 운영에 최적화된 지식 관리 시스템으로, 높은 수준의 정보 보안을 갖춘 대화형 비서 기능을 제공합니다.\\n\\n\\n오늘 우리는 삼성전자와 TSMC의 AI 챗봇 활용한\\xa0업무 환경 혁신\\xa0사례를 심층적으로 살펴보았습니다.\\n두 기업 모두 AI 챗봇을 통해 생산성 향상, 비용 절감, 의사결정 가속화 등 다양한 이점을 얻고 있습니다.\\n특히, 기술문서 번역에 큰 효과가 있다는 것을 알 수 있었습니다.\\n이는 치열한 글로벌 반도체 경쟁에서 우위를 점하기 위한 전략적 움직임입니다.\\n\\n이러한 추세는 업무용 AI 챗봇이 현대 기업 환경에서\\n필수적인 도구로 자리잡고 있음을 보여줍니다.\\xa0\\n\\n귀사도 이러한 혁신을 더 이상 미루기 어려운 시점에 와 있습니다. 디피니트의 다비스(DARVIS) 챗봇은 sLLM과 RAG 기술을 기반으로 개발되어 뛰어난 정확도와 성능을 제공합니다.\\xa0특히 다비스는 다음과 같은 장점을 갖고 있습니다.\\n기업의 다양한 시스템(ERP, MES, 그룹웨어 등)과 완벽하게 연동\\n사용자 친화적인 인터페이스 제공\\n기업 특성에 맞는 맞춤형 기능과 관리자 옵션 제공\\n아래 영상은 ERP, MES 시스템 속 데이터를 통합으로 추출하는 장면입니다.\\n재생버튼을 클릭해 확인해주세요.\\n직원을 위한 AI 비서, 다비스\\xa0\\n아래 영상은 비정형 데이터인 문서 파일을 검색하는 장면입니다.\\n직원을 위한 AI 비서, 다비스\\n다비스 챗봇은 실시간으로 사내 데이터를 추출하고 활용할 수 있도록 지원하여, 귀사의 업무 효율성을 크게 향상시키고 경쟁력을 강화할 수 있습니다.\\n이제는 귀사도 AI 챗봇의 도입을 통해 비즈니스 혁신을 이룰 때입니다. 디피니트의 다비스 솔루션을 통해 귀사의 비즈니스가 한 단계 도약할 수 있는 기회를 잡으시기 바랍니다.\\n디피니트와 다비스 챗봇이 궁금하신 분들은 아래 포스팅에서 자세히 확인하실 수 있습니다.\\nhttps://blog.naver.com/dfinite-ai/223700355449\\n기술력 높은 LLM 기반 RAG 챗봇 구축 파트너 외주개발업체, 찾고 계신가요?안녕하세요. 기술력과 합리적인 비용으로 LLM 기반 RAG 챗봇 구축해드리는 디피니트입니다. 많은 기... blog.naver.com\\xa0\\n성공적인 다비스 도입 사례가 궁금하신 분들은 아래 링크를 클릭해 자세히 확인해주세요.\\nhttps://blog.dfinite.ai/\\n사내용 AI 챗봇 DARVISAI 챗봇 DARVIS로 기업의 업무 프로세스를 개선한 실제 사례를 소개합니다. 챗봇, LLM, 비전 AI 등 디피니트의 AI 기술이 다양한 산업 현장에서 만들어낸 변화와 성과를 공유합니다. 고객들의 생생한 blog.dfinite.ai\\xa0\\n감사합니다.\\nkeyword\\n\\nAI\\n업무\\n챗봇\\n\\n김도환 IT 분야 크리에이터 소속 디피니트 직업 CEO \\n매출 올리는 데이터 사이언티스트 저자 AI 솔루션 스타트업, 디피니트 대표 김도환입니다.\\n구독자 92 제안하기 구독\\n\\n매거진의 이전글 LLM, RAG 기반 챗봇, 기술력 높은 개발업체는?\\n브런치 로그인\\n브런치\\n\\n 브런치스토리 작가로 데뷔하세요. 진솔한 에세이부터 업계 전문 지식까지, 당신의 이야기를 세상에 선보이세요.\\n 브런치스토리로 제안받는 새로운 기회 다양한 프로젝트와 파트너를 통해 작가님의 작품이 책·강연 등으로 확장됩니다.\\n 글로 만나는 작가의 경험 작가를 구독하고, 새 글을 받아보세요. 당신에게 영감을 주는 작품을 추천합니다.\\n\\n이전\\n\\n1\\n2\\n3\\n\\n다음\\n브런치스토리 시작하기 카카오계정으로 로그인\\n내 브런치스토리 찾기 내 브런치스토리의 카카오계정을 모르겠어요 페이스북·트위터로만 로그인 했었나요? 로그인 관련 상세 도움말\\n창 닫기\\n브런치는 최신 브라우저에 최적화 되어있습니다. IE chrome safari\\n작가 구독을 취소하시겠습니까?\\n작가의 글을 더 이상 구독하지 않고,\\n새 글 알림도 받아볼 수 없습니다.\\n계속 구독하기 구독 취소하기\"}]\n",
      "-------------------\n",
      "\n",
      "-------------------\n",
      "[Document(metadata={'source': 'https://www.chosun.com/economy/tech_it/2023/11/08/IHCUCZUPXBCNDCCDYSA7NJFBHE/'}, page_content=\"삼성이 자체 개발한 생성형 AI ‘삼성 가우스’ 첫 공개 신문구독|中文|English|日本語 삼성이 자체 개발한 생성형 AI '삼성 가우스' 첫 공개 삼성전자가 자체 개발한 생성형 AI 삼성 가우스 소개 포스터. 삼성전자가 자체 개발한 생성형 인공지능(AI) ‘삼성 가우스’를 드디어 공개했다. 8일 삼성전자는 서울 서초구 서울R&D캠퍼스에서 열린 ‘삼성 AI 포럼 2023′ 행사에서 삼성리서치가 개발한 생성형 AI 모델 ‘삼성 가우스’를 처음으로 공개했다. 삼성의 첫 자체 제작 생성 AI ‘삼성 가우스’는 머신 러닝 기술을 기반으로 개발됐다. 이미지 모델은 달리 2(DALL·E), 미드저니, 스테이블 디퓨전 같은 생성형 AI 이미지 모델로 사진이나 그림 등 창의적인 이미지를 손쉽게 만들 수 있도록 돕는다. 한편 삼성전자 내 반도체 사업을 담당하는 DS 부문은 삼성 가우스 대신 지난 8월 출시한 네이버클라우드의 기업용 AI 서비스 ‘뉴로클라우드 포 하이퍼클로바X’를 쓰는 방안을 추진하는 것으로 알려졌다. 정치 일반\"), Document(metadata={'source': 'https://www.chosun.com/economy/tech_it/2023/11/08/IHCUCZUPXBCNDCCDYSA7NJFBHE/'}, page_content=\"삼성이 자체 개발한 생성형 AI ‘삼성 가우스’ 첫 공개 신문구독|中文|English|日本語 삼성이 자체 개발한 생성형 AI '삼성 가우스' 첫 공개 삼성전자가 자체 개발한 생성형 AI 삼성 가우스 소개 포스터. 삼성전자가 자체 개발한 생성형 인공지능(AI) ‘삼성 가우스’를 드디어 공개했다. 8일 삼성전자는 서울 서초구 서울R&D캠퍼스에서 열린 ‘삼성 AI 포럼 2023′ 행사에서 삼성리서치가 개발한 생성형 AI 모델 ‘삼성 가우스’를 처음으로 공개했다. 삼성의 첫 자체 제작 생성 AI ‘삼성 가우스’는 머신 러닝 기술을 기반으로 개발됐다. 이미지 모델은 달리 2(DALL·E), 미드저니, 스테이블 디퓨전 같은 생성형 AI 이미지 모델로 사진이나 그림 등 창의적인 이미지를 손쉽게 만들 수 있도록 돕는다. 한편 삼성전자 내 반도체 사업을 담당하는 DS 부문은 삼성 가우스 대신 지난 8월 출시한 네이버클라우드의 기업용 AI 서비스 ‘뉴로클라우드 포 하이퍼클로바X’를 쓰는 방안을 추진하는 것으로 알려졌다. 정치 일반\"), Document(metadata={'source': 'https://baleun-it.tistory.com/188'}, page_content='Gauss, 삼성의 생성형 AI (나도 있다 이 말이야) :: 바른it생활 Gauss Image : 이미지 생성 및 편집 기능을 통해, 저해상도 이미지를 고해상도로 변환하거나 스타일 변환 등을 수행합니다\\u200b. Gauss Code는 코드 자동 생성 및 테스트 케이스 작성을 지원하여 개발자들이 빠르고 효율적으로 소프트웨어를 개발할 수 있도록 돕습니다. Gauss Image는 삼성의 다양한 디바이스에서 이미지 생성 및 편집 작업을 수행합니다. 여기에\\xa0Gauss\\xa0Image의\\xa0이미지\\xa0생성\\xa0및\\xa0편집\\xa0기능이\\xa0더해지면,\\xa0사용자는\\xa0촬영한\\xa0사진을\\xa0실시간으로\\xa0보정하고\\xa0원하는\\xa0스타일로\\xa0변환할\\xa0수\\xa0있습니다. 삼성\\xa0Gauss는\\xa0텍스트,\\xa0코드,\\xa0이미지\\xa0생성이라는\\xa03가지\\xa0핵심\\xa0기능을\\xa0바탕으로\\xa0사용자들의\\xa0생산성을\\xa0높이고,\\xa0더욱\\xa0안전한\\xa0AI\\xa0환경을\\xa0제공하려는\\xa0삼성의\\xa0전략을\\xa0잘\\xa0보여줍니다. Gauss의\\xa0로컬\\xa0실행\\xa0기능은\\xa0경쟁사\\xa0대비\\xa0차별화된\\xa0장점이며,\\xa0이를\\xa0통해\\xa0사용자는\\xa0보안에\\xa0대한\\xa0우려\\xa0없이\\xa0다양한\\xa0AI\\xa0기능을\\xa0활용할\\xa0수\\xa0있습니다.'), Document(metadata={'source': 'https://baleun-it.tistory.com/188'}, page_content='Gauss, 삼성의 생성형 AI (나도 있다 이 말이야) :: 바른it생활 Gauss Image : 이미지 생성 및 편집 기능을 통해, 저해상도 이미지를 고해상도로 변환하거나 스타일 변환 등을 수행합니다\\u200b. Gauss Code는 코드 자동 생성 및 테스트 케이스 작성을 지원하여 개발자들이 빠르고 효율적으로 소프트웨어를 개발할 수 있도록 돕습니다. Gauss Image는 삼성의 다양한 디바이스에서 이미지 생성 및 편집 작업을 수행합니다. 여기에\\xa0Gauss\\xa0Image의\\xa0이미지\\xa0생성\\xa0및\\xa0편집\\xa0기능이\\xa0더해지면,\\xa0사용자는\\xa0촬영한\\xa0사진을\\xa0실시간으로\\xa0보정하고\\xa0원하는\\xa0스타일로\\xa0변환할\\xa0수\\xa0있습니다. 삼성\\xa0Gauss는\\xa0텍스트,\\xa0코드,\\xa0이미지\\xa0생성이라는\\xa03가지\\xa0핵심\\xa0기능을\\xa0바탕으로\\xa0사용자들의\\xa0생산성을\\xa0높이고,\\xa0더욱\\xa0안전한\\xa0AI\\xa0환경을\\xa0제공하려는\\xa0삼성의\\xa0전략을\\xa0잘\\xa0보여줍니다. Gauss의\\xa0로컬\\xa0실행\\xa0기능은\\xa0경쟁사\\xa0대비\\xa0차별화된\\xa0장점이며,\\xa0이를\\xa0통해\\xa0사용자는\\xa0보안에\\xa0대한\\xa0우려\\xa0없이\\xa0다양한\\xa0AI\\xa0기능을\\xa0활용할\\xa0수\\xa0있습니다.'), Document(metadata={'source': 'https://brunch.co.kr/@brunchk1wj/225'}, page_content=\"이 AI 챗봇은 반도체 사업부(DS)의 특성을 고려하여 구축된 시스템으로, 구매 및 경비 처리, 공정·설계·제조 관련 전문 지식 검색, 제조 및 공정 데이터 요약, 번역, 문서 작성, 회의록 작성 및 요약, 시장 및 기업 분석, 코드 생성 및 검토, 고객 피드백 등 다양한 업무 프로세스를 자동화하여 지원합니다. TSMC는 2023년 5월 자체 개발한 대규모 언어 모델(LLM) 기반의 AI 챗봇 'tGenie'를 공개하여 기업 내 디지털 혁신을 가속화하고 있습니다. 이 AI 시스템은 실시간 대화, 다국어 번역, 전문 보고서 작성, 소프트웨어 프로그래밍, 복잡한 디버깅 작업 등 다양한 기능을 제공하며 직원들의 업무 효율성을 크게 향상시키고 있습니다. 이 AI 시스템은 복잡한 관리 업무를 효율화하고, 의사결정 과정을 가속화하며, 전반적인 업무 프로세스를 최적화하는 데 중요한 역할을 하고 있습니다. 두 기업 모두 AI 챗봇을 통해 생산성 향상, 비용 절감, 의사결정 가속화 등 다양한 이점을 얻고 있습니다.\"), Document(metadata={'source': 'https://brunch.co.kr/@brunchk1wj/225'}, page_content=\"이 AI 챗봇은 반도체 사업부(DS)의 특성을 고려하여 구축된 시스템으로, 구매 및 경비 처리, 공정·설계·제조 관련 전문 지식 검색, 제조 및 공정 데이터 요약, 번역, 문서 작성, 회의록 작성 및 요약, 시장 및 기업 분석, 코드 생성 및 검토, 고객 피드백 등 다양한 업무 프로세스를 자동화하여 지원합니다. TSMC는 2023년 5월 자체 개발한 대규모 언어 모델(LLM) 기반의 AI 챗봇 'tGenie'를 공개하여 기업 내 디지털 혁신을 가속화하고 있습니다. 이 AI 시스템은 실시간 대화, 다국어 번역, 전문 보고서 작성, 소프트웨어 프로그래밍, 복잡한 디버깅 작업 등 다양한 기능을 제공하며 직원들의 업무 효율성을 크게 향상시키고 있습니다. 이 AI 시스템은 복잡한 관리 업무를 효율화하고, 의사결정 과정을 가속화하며, 전반적인 업무 프로세스를 최적화하는 데 중요한 역할을 하고 있습니다. 두 기업 모두 AI 챗봇을 통해 생산성 향상, 비용 절감, 의사결정 가속화 등 다양한 이점을 얻고 있습니다.\")]\n",
      "-------------------\n",
      "\n",
      "==========================================================================================\n",
      "\n"
     ]
    },
    {
     "data": {
      "text/plain": [
       "{'documents': [Document(metadata={'source': 'https://www.chosun.com/economy/tech_it/2023/11/08/IHCUCZUPXBCNDCCDYSA7NJFBHE/'}, page_content=\"삼성이 자체 개발한 생성형 AI ‘삼성 가우스’ 첫 공개 신문구독|中文|English|日本語 삼성이 자체 개발한 생성형 AI '삼성 가우스' 첫 공개 삼성전자가 자체 개발한 생성형 AI 삼성 가우스 소개 포스터. 삼성전자가 자체 개발한 생성형 인공지능(AI) ‘삼성 가우스’를 드디어 공개했다. 8일 삼성전자는 서울 서초구 서울R&D캠퍼스에서 열린 ‘삼성 AI 포럼 2023′ 행사에서 삼성리서치가 개발한 생성형 AI 모델 ‘삼성 가우스’를 처음으로 공개했다. 삼성의 첫 자체 제작 생성 AI ‘삼성 가우스’는 머신 러닝 기술을 기반으로 개발됐다. 이미지 모델은 달리 2(DALL·E), 미드저니, 스테이블 디퓨전 같은 생성형 AI 이미지 모델로 사진이나 그림 등 창의적인 이미지를 손쉽게 만들 수 있도록 돕는다. 한편 삼성전자 내 반도체 사업을 담당하는 DS 부문은 삼성 가우스 대신 지난 8월 출시한 네이버클라우드의 기업용 AI 서비스 ‘뉴로클라우드 포 하이퍼클로바X’를 쓰는 방안을 추진하는 것으로 알려졌다. 정치 일반\"),\n",
       "  Document(metadata={'source': 'https://www.chosun.com/economy/tech_it/2023/11/08/IHCUCZUPXBCNDCCDYSA7NJFBHE/'}, page_content=\"삼성이 자체 개발한 생성형 AI ‘삼성 가우스’ 첫 공개 신문구독|中文|English|日本語 삼성이 자체 개발한 생성형 AI '삼성 가우스' 첫 공개 삼성전자가 자체 개발한 생성형 AI 삼성 가우스 소개 포스터. 삼성전자가 자체 개발한 생성형 인공지능(AI) ‘삼성 가우스’를 드디어 공개했다. 8일 삼성전자는 서울 서초구 서울R&D캠퍼스에서 열린 ‘삼성 AI 포럼 2023′ 행사에서 삼성리서치가 개발한 생성형 AI 모델 ‘삼성 가우스’를 처음으로 공개했다. 삼성의 첫 자체 제작 생성 AI ‘삼성 가우스’는 머신 러닝 기술을 기반으로 개발됐다. 이미지 모델은 달리 2(DALL·E), 미드저니, 스테이블 디퓨전 같은 생성형 AI 이미지 모델로 사진이나 그림 등 창의적인 이미지를 손쉽게 만들 수 있도록 돕는다. 한편 삼성전자 내 반도체 사업을 담당하는 DS 부문은 삼성 가우스 대신 지난 8월 출시한 네이버클라우드의 기업용 AI 서비스 ‘뉴로클라우드 포 하이퍼클로바X’를 쓰는 방안을 추진하는 것으로 알려졌다. 정치 일반\"),\n",
       "  Document(metadata={'source': 'https://baleun-it.tistory.com/188'}, page_content='Gauss, 삼성의 생성형 AI (나도 있다 이 말이야) :: 바른it생활 Gauss Image : 이미지 생성 및 편집 기능을 통해, 저해상도 이미지를 고해상도로 변환하거나 스타일 변환 등을 수행합니다\\u200b. Gauss Code는 코드 자동 생성 및 테스트 케이스 작성을 지원하여 개발자들이 빠르고 효율적으로 소프트웨어를 개발할 수 있도록 돕습니다. Gauss Image는 삼성의 다양한 디바이스에서 이미지 생성 및 편집 작업을 수행합니다. 여기에\\xa0Gauss\\xa0Image의\\xa0이미지\\xa0생성\\xa0및\\xa0편집\\xa0기능이\\xa0더해지면,\\xa0사용자는\\xa0촬영한\\xa0사진을\\xa0실시간으로\\xa0보정하고\\xa0원하는\\xa0스타일로\\xa0변환할\\xa0수\\xa0있습니다. 삼성\\xa0Gauss는\\xa0텍스트,\\xa0코드,\\xa0이미지\\xa0생성이라는\\xa03가지\\xa0핵심\\xa0기능을\\xa0바탕으로\\xa0사용자들의\\xa0생산성을\\xa0높이고,\\xa0더욱\\xa0안전한\\xa0AI\\xa0환경을\\xa0제공하려는\\xa0삼성의\\xa0전략을\\xa0잘\\xa0보여줍니다. Gauss의\\xa0로컬\\xa0실행\\xa0기능은\\xa0경쟁사\\xa0대비\\xa0차별화된\\xa0장점이며,\\xa0이를\\xa0통해\\xa0사용자는\\xa0보안에\\xa0대한\\xa0우려\\xa0없이\\xa0다양한\\xa0AI\\xa0기능을\\xa0활용할\\xa0수\\xa0있습니다.'),\n",
       "  Document(metadata={'source': 'https://baleun-it.tistory.com/188'}, page_content='Gauss, 삼성의 생성형 AI (나도 있다 이 말이야) :: 바른it생활 Gauss Image : 이미지 생성 및 편집 기능을 통해, 저해상도 이미지를 고해상도로 변환하거나 스타일 변환 등을 수행합니다\\u200b. Gauss Code는 코드 자동 생성 및 테스트 케이스 작성을 지원하여 개발자들이 빠르고 효율적으로 소프트웨어를 개발할 수 있도록 돕습니다. Gauss Image는 삼성의 다양한 디바이스에서 이미지 생성 및 편집 작업을 수행합니다. 여기에\\xa0Gauss\\xa0Image의\\xa0이미지\\xa0생성\\xa0및\\xa0편집\\xa0기능이\\xa0더해지면,\\xa0사용자는\\xa0촬영한\\xa0사진을\\xa0실시간으로\\xa0보정하고\\xa0원하는\\xa0스타일로\\xa0변환할\\xa0수\\xa0있습니다. 삼성\\xa0Gauss는\\xa0텍스트,\\xa0코드,\\xa0이미지\\xa0생성이라는\\xa03가지\\xa0핵심\\xa0기능을\\xa0바탕으로\\xa0사용자들의\\xa0생산성을\\xa0높이고,\\xa0더욱\\xa0안전한\\xa0AI\\xa0환경을\\xa0제공하려는\\xa0삼성의\\xa0전략을\\xa0잘\\xa0보여줍니다. Gauss의\\xa0로컬\\xa0실행\\xa0기능은\\xa0경쟁사\\xa0대비\\xa0차별화된\\xa0장점이며,\\xa0이를\\xa0통해\\xa0사용자는\\xa0보안에\\xa0대한\\xa0우려\\xa0없이\\xa0다양한\\xa0AI\\xa0기능을\\xa0활용할\\xa0수\\xa0있습니다.'),\n",
       "  Document(metadata={'source': 'https://brunch.co.kr/@brunchk1wj/225'}, page_content=\"이 AI 챗봇은 반도체 사업부(DS)의 특성을 고려하여 구축된 시스템으로, 구매 및 경비 처리, 공정·설계·제조 관련 전문 지식 검색, 제조 및 공정 데이터 요약, 번역, 문서 작성, 회의록 작성 및 요약, 시장 및 기업 분석, 코드 생성 및 검토, 고객 피드백 등 다양한 업무 프로세스를 자동화하여 지원합니다. TSMC는 2023년 5월 자체 개발한 대규모 언어 모델(LLM) 기반의 AI 챗봇 'tGenie'를 공개하여 기업 내 디지털 혁신을 가속화하고 있습니다. 이 AI 시스템은 실시간 대화, 다국어 번역, 전문 보고서 작성, 소프트웨어 프로그래밍, 복잡한 디버깅 작업 등 다양한 기능을 제공하며 직원들의 업무 효율성을 크게 향상시키고 있습니다. 이 AI 시스템은 복잡한 관리 업무를 효율화하고, 의사결정 과정을 가속화하며, 전반적인 업무 프로세스를 최적화하는 데 중요한 역할을 하고 있습니다. 두 기업 모두 AI 챗봇을 통해 생산성 향상, 비용 절감, 의사결정 가속화 등 다양한 이점을 얻고 있습니다.\"),\n",
       "  Document(metadata={'source': 'https://brunch.co.kr/@brunchk1wj/225'}, page_content=\"이 AI 챗봇은 반도체 사업부(DS)의 특성을 고려하여 구축된 시스템으로, 구매 및 경비 처리, 공정·설계·제조 관련 전문 지식 검색, 제조 및 공정 데이터 요약, 번역, 문서 작성, 회의록 작성 및 요약, 시장 및 기업 분석, 코드 생성 및 검토, 고객 피드백 등 다양한 업무 프로세스를 자동화하여 지원합니다. TSMC는 2023년 5월 자체 개발한 대규모 언어 모델(LLM) 기반의 AI 챗봇 'tGenie'를 공개하여 기업 내 디지털 혁신을 가속화하고 있습니다. 이 AI 시스템은 실시간 대화, 다국어 번역, 전문 보고서 작성, 소프트웨어 프로그래밍, 복잡한 디버깅 작업 등 다양한 기능을 제공하며 직원들의 업무 효율성을 크게 향상시키고 있습니다. 이 AI 시스템은 복잡한 관리 업무를 효율화하고, 의사결정 과정을 가속화하며, 전반적인 업무 프로세스를 최적화하는 데 중요한 역할을 하고 있습니다. 두 기업 모두 AI 챗봇을 통해 생산성 향상, 비용 절감, 의사결정 가속화 등 다양한 이점을 얻고 있습니다.\")]}"
      ]
     },
     "execution_count": 31,
     "metadata": {},
     "output_type": "execute_result"
    }
   ],
   "source": [
    "web_search(state)"
   ]
  },
  {
   "cell_type": "markdown",
   "metadata": {},
   "source": [
    "### 질문 라우팅 노드"
   ]
  },
  {
   "cell_type": "code",
   "execution_count": 32,
   "metadata": {},
   "outputs": [],
   "source": [
    "class RouteQuery(BaseModel):    \n",
    "    \"\"\"Route a user query to the most relevant datasource.\"\"\"\n",
    "\n",
    "    datasource: Literal[\"vectorstore\", \"web_search\"] = Field(\n",
    "        ...,\n",
    "        description=\"Given a user question choose to route it to web search or a vectorstore.\",\n",
    "    )\n",
    "\n",
    "\n",
    "llm = ChatOpenAI(\n",
    "    api_key=key, \n",
    "    model='gpt-4o-mini', \n",
    "    temperature=0\n",
    ")\n",
    "\n",
    "# 구조화된 출력을 결과로 가젼온다 (vectorstore, web_search)\n",
    "structured_llm_router = llm.with_structured_output(RouteQuery)\n",
    "\n",
    "# 시스템 메시지\n",
    "system = \"\"\"You are an expert at routing a user question to a vectorstore or web search.\n",
    "The vectorstore contains documents related to DEC 2023 AI Brief Report(SPRI) with Samsung Gause, Anthropic, etc.\n",
    "Use the vectorstore for questions on these topics. Otherwise, use web-search.\"\"\"\n",
    "\n",
    "# 프롬프트\n",
    "route_prompt = ChatPromptTemplate.from_messages(\n",
    "    [\n",
    "        ('system', system), \n",
    "        ('human', '{question}')\n",
    "    ]\n",
    ")\n",
    "\n",
    "question_router = route_prompt | structured_llm_router"
   ]
  },
  {
   "cell_type": "code",
   "execution_count": 33,
   "metadata": {},
   "outputs": [
    {
     "data": {
      "text/plain": [
       "RouteQuery(datasource='vectorstore')"
      ]
     },
     "execution_count": 33,
     "metadata": {},
     "output_type": "execute_result"
    }
   ],
   "source": [
    "# 쿼리 라우팅 테스트 (문서 검색이 필요한 질문)\n",
    "result = question_router.invoke({'question': 'AI Brief 에서 삼성전자가 만든 생성형 AI 이름은?'})\n",
    "result"
   ]
  },
  {
   "cell_type": "code",
   "execution_count": 34,
   "metadata": {},
   "outputs": [
    {
     "data": {
      "text/plain": [
       "RouteQuery(datasource='web_search')"
      ]
     },
     "execution_count": 34,
     "metadata": {},
     "output_type": "execute_result"
    }
   ],
   "source": [
    "# 쿼리 라우팅 테스트 (웹 검색이 필요한)\n",
    "result = question_router.invoke({'question': '대구 중앙떡볶이에 대해서 알려줘.'})\n",
    "result"
   ]
  },
  {
   "cell_type": "markdown",
   "metadata": {},
   "source": [
    "### 질문 라우팅 노드"
   ]
  },
  {
   "cell_type": "code",
   "execution_count": 35,
   "metadata": {},
   "outputs": [],
   "source": [
    "# 질문 라우팅 노드\n",
    "def route_question(state: GraphState):\n",
    "    print('\\n==========================================================================================')\n",
    "    print('🔄 [Node] 질문 라우팅 노드 🔄')\n",
    "\n",
    "    # 사용자 질문\n",
    "    question = state['question']\n",
    "\n",
    "    # 질문 라우팅\n",
    "    source = question_router.invoke({'question': question})\n",
    "\n",
    "    if source.datasource == \"web_search\":\n",
    "        print(\"==== [ROUTE QUESTION TO WEB SEARCH] ====\")\n",
    "        print('==========================================================================================\\n')\n",
    "        return \"web_search\"\n",
    "    elif source.datasource == \"vectorstore\":\n",
    "        print(\"==== [ROUTE QUESTION TO VECTORSTORE] ====\")\n",
    "        print('==========================================================================================\\n')\n",
    "        return \"vectorstore\""
   ]
  },
  {
   "cell_type": "code",
   "execution_count": 36,
   "metadata": {},
   "outputs": [
    {
     "name": "stdout",
     "output_type": "stream",
     "text": [
      "\n",
      "==========================================================================================\n",
      "🔄 [Node] 질문 라우팅 노드 🔄\n",
      "==== [ROUTE QUESTION TO VECTORSTORE] ====\n",
      "==========================================================================================\n",
      "\n"
     ]
    },
    {
     "data": {
      "text/plain": [
       "'vectorstore'"
      ]
     },
     "execution_count": 36,
     "metadata": {},
     "output_type": "execute_result"
    }
   ],
   "source": [
    "route_question(state)"
   ]
  },
  {
   "cell_type": "markdown",
   "metadata": {},
   "source": [
    "### 문서 관련성 평가 노드"
   ]
  },
  {
   "cell_type": "code",
   "execution_count": 37,
   "metadata": {},
   "outputs": [],
   "source": [
    "# 문서 관련성 평가 노드\n",
    "def decide_to_generate(state: GraphState):\n",
    "    print('\\n==========================================================================================')\n",
    "    print('🔄 [Node] 문서 관련성 평가 노드 🔄')\n",
    "\n",
    "    # 문서 검색 결과 가져오기\n",
    "    filtered_documents = state['documents']\n",
    "\n",
    "    if not filtered_documents:                              # 문서가 없는 경우 (모든 문서가 관련성 없는 문서)\n",
    "        print(f'===== [DECISION: ALL DOCUMENTS ARE NOT RELEVANT TO QUESTION, TRANSFORM QUERY] =====')\n",
    "        print('==========================================================================================\\n')\n",
    "        return \"transform_query\"        \n",
    "    else:                                                   # 관련성 있는 문서가 있는 경우\n",
    "        print(f\"===== [DECISION: GENERATE] =====\")\n",
    "        print('==========================================================================================\\n')\n",
    "        return \"generate\""
   ]
  },
  {
   "cell_type": "code",
   "execution_count": 38,
   "metadata": {},
   "outputs": [
    {
     "name": "stdout",
     "output_type": "stream",
     "text": [
      "\n",
      "==========================================================================================\n",
      "🔄 [Node] 문서 관련성 평가 노드 🔄\n",
      "===== [DECISION: GENERATE] =====\n",
      "==========================================================================================\n",
      "\n"
     ]
    },
    {
     "data": {
      "text/plain": [
       "'generate'"
      ]
     },
     "execution_count": 38,
     "metadata": {},
     "output_type": "execute_result"
    }
   ],
   "source": [
    "decide_to_generate(state)"
   ]
  },
  {
   "cell_type": "markdown",
   "metadata": {},
   "source": [
    "# 답변에 대한 Hallucination checker 추가"
   ]
  },
  {
   "cell_type": "code",
   "execution_count": 39,
   "metadata": {},
   "outputs": [],
   "source": [
    "from langchain_openai import ChatOpenAI\n",
    "from langchain_core.prompts import ChatPromptTemplate\n",
    "from langchain_core.output_parsers import StrOutputParser\n",
    "\n",
    "class GradeHallucinations(BaseModel):\n",
    "    \"\"\"Binary score for hallucination present in generation answer.\"\"\"\n",
    "\n",
    "    binary_score: str = Field(\n",
    "        description=\"Answer is grounded in the facts, 'yes' or 'no'\"\n",
    "    )\n",
    "\n",
    "\n",
    "llm = ChatOpenAI(\n",
    "    api_key=key, \n",
    "    model='gpt-4o-mini', \n",
    "    temperature=0\n",
    ")\n",
    "\n",
    "structured_hallucination_grader = llm.with_structured_output(GradeHallucinations)\n",
    "\n",
    "# system\n",
    "system = \"\"\"You are a grader assessing whether an LLM generation is grounded in / supported by a set of retrieved facts. \\n \n",
    "    Give a binary score 'yes' or 'no'. 'Yes' means that the answer is grounded in / supported by the set of facts.\"\"\"\n",
    "\n",
    "# 프롬프트\n",
    "hallucination_prompt = ChatPromptTemplate.from_messages(\n",
    "    [\n",
    "        (\"system\", system),\n",
    "        (\"human\", \"Set of facts: \\n\\n {documents} \\n\\n LLM generation: {generation}\"),\n",
    "    ]\n",
    ") \n",
    "\n",
    "# hallucination 평가기 생성\n",
    "hallucination_grader = hallucination_prompt | structured_hallucination_grader"
   ]
  },
  {
   "cell_type": "code",
   "execution_count": 40,
   "metadata": {},
   "outputs": [
    {
     "data": {
      "text/plain": [
       "GradeHallucinations(binary_score='yes')"
      ]
     },
     "execution_count": 40,
     "metadata": {},
     "output_type": "execute_result"
    }
   ],
   "source": [
    "# hallucination 평가기 테스트 (생성된 답변과 질문에 대한 평가)\n",
    "hallucination_grader.invoke({\"documents\": format_docs(state['documents']), \"generation\": generation})"
   ]
  },
  {
   "cell_type": "code",
   "execution_count": 41,
   "metadata": {},
   "outputs": [],
   "source": [
    "class GradeAnswer(BaseModel):\n",
    "    \"\"\"Binary scoring to evaluate the appropriateness of answers to questions\"\"\"\n",
    "\n",
    "    binary_score: str = Field(\n",
    "        description=\"Indicate 'yes' or 'no' whether the answer solves the question\"\n",
    "    )\n",
    "\n",
    "llm = ChatOpenAI(\n",
    "    api_key=key, \n",
    "    model='gpt-4o-mini', \n",
    "    temperature=0\n",
    ")\n",
    "\n",
    "structured_llm_grader = llm.with_structured_output(GradeAnswer)\n",
    "\n",
    "# system\n",
    "system = \"\"\"You are a grader assessing whether an answer addresses / resolves a question \\n \n",
    "     Give a binary score 'yes' or 'no'. Yes' means that the answer resolves the question.\"\"\"\n",
    "\n",
    "# 프롬프트 템플릿\n",
    "answer_prompt = ChatPromptTemplate.from_messages(\n",
    "    [\n",
    "        (\"system\", system),\n",
    "        (\"human\", \"User question: \\n\\n {question} \\n\\n LLM generation: {generation}\"),\n",
    "    ]\n",
    ")\n",
    "\n",
    "# 프롬프트 템플릿과 구조화된 LLM 평가기를 결합하여 답변 평가기 생성\n",
    "answer_grader = answer_prompt | structured_llm_grader"
   ]
  },
  {
   "cell_type": "code",
   "execution_count": 42,
   "metadata": {},
   "outputs": [
    {
     "data": {
      "text/plain": [
       "GradeAnswer(binary_score='yes')"
      ]
     },
     "execution_count": 42,
     "metadata": {},
     "output_type": "execute_result"
    }
   ],
   "source": [
    "answer_grader.invoke({'question': state['question'], 'generation': generation})"
   ]
  },
  {
   "cell_type": "markdown",
   "metadata": {},
   "source": [
    "### hallucination_check"
   ]
  },
  {
   "cell_type": "code",
   "execution_count": 43,
   "metadata": {},
   "outputs": [],
   "source": [
    "# Hallucination 평가 노드\n",
    "def hallucination_check(state: GraphState):\n",
    "    print('\\n==========================================================================================')\n",
    "    print('🔄 [Node] hallucination 평가 노드 🔄')\n",
    "\n",
    "    # 사용자 질문\n",
    "    qestion = state['question']\n",
    "\n",
    "    # 문서 검색 결과\n",
    "    documents = state['documents']\n",
    "\n",
    "    # 생성된 답변\n",
    "    generation = state['generation']\n",
    "\n",
    "    # 평가\n",
    "    score = hallucination_grader.invoke({'documents': documents, 'generation': generation})\n",
    "    grade = score.binary_score\n",
    "\n",
    "    print(f\"===== [평가 결과] =====\")\n",
    "    print(grade)\n",
    "\n",
    "    if grade == 'yes':     # hallucination 없음\n",
    "        print(\"===== [DECISION: GENERATION IS GROUNDED IN DOCUMENTS] =====\")\n",
    "        print(\"no hallucination\")\n",
    "\n",
    "        # 답변에 대한 관련성 평가\n",
    "        print(\"===== [GRADE GENERATED ANSWER vs QUESTION] =====\")\n",
    "\n",
    "        score = answer_grader.invoke({'question': state['question'], 'generation': generation})\n",
    "        grade = score.binary_score\n",
    "\n",
    "        if grade == 'yes':          # 관련성 있는 답변\n",
    "            print(\"==== [DECISION: GENERATED ANSWER ADDRESSES QUESTION] ====\")\n",
    "            print(\"relevant\")\n",
    "            print('==========================================================================================\\n')\n",
    "            return \"relevant\"\n",
    "        else:                       # 관련성 없는 답변\n",
    "            print(\"==== [DECISION: GENERATED ANSWER DOES NOT ADDRESS QUESTION] ====\")\n",
    "            print(\"not relevant\")\n",
    "            print('==========================================================================================\\n')\n",
    "            return \"not relevant\"\n",
    "\n",
    "    else:                   # hallucination 있음\n",
    "        print(\"===== [DECISION: GENERATION IS NOT GROUNDED IN DOCUMENTS, RE-TRY] =====\")\n",
    "        print(\"hallucination\")\n",
    "        print('==========================================================================================\\n')\n",
    "        return \"hallucination\""
   ]
  },
  {
   "cell_type": "code",
   "execution_count": 44,
   "metadata": {},
   "outputs": [
    {
     "name": "stdout",
     "output_type": "stream",
     "text": [
      "\n",
      "==========================================================================================\n",
      "🔄 [Node] hallucination 평가 노드 🔄\n",
      "===== [평가 결과] =====\n",
      "yes\n",
      "===== [DECISION: GENERATION IS GROUNDED IN DOCUMENTS] =====\n",
      "no hallucination\n",
      "===== [GRADE GENERATED ANSWER vs QUESTION] =====\n",
      "==== [DECISION: GENERATED ANSWER ADDRESSES QUESTION] ====\n",
      "relevant\n",
      "==========================================================================================\n",
      "\n"
     ]
    },
    {
     "data": {
      "text/plain": [
       "'relevant'"
      ]
     },
     "execution_count": 44,
     "metadata": {},
     "output_type": "execute_result"
    }
   ],
   "source": [
    "hallucination_check(state)"
   ]
  },
  {
   "cell_type": "markdown",
   "metadata": {},
   "source": [
    "# 테스트"
   ]
  },
  {
   "cell_type": "code",
   "execution_count": 45,
   "metadata": {},
   "outputs": [
    {
     "data": {
      "text/plain": [
       "{'question': '대구 중앙떡볶이', 'generation': '', 'documents': []}"
      ]
     },
     "execution_count": 45,
     "metadata": {},
     "output_type": "execute_result"
    }
   ],
   "source": [
    "state1 = GraphState(\n",
    "    question='대구 중앙떡볶이',\n",
    "    generation = '', \n",
    "    documents = []\n",
    ")\n",
    "\n",
    "state1"
   ]
  },
  {
   "cell_type": "code",
   "execution_count": 46,
   "metadata": {},
   "outputs": [
    {
     "name": "stdout",
     "output_type": "stream",
     "text": [
      "\n",
      "==========================================================================================\n",
      "🔄 [Node] 질문 라우팅 노드 🔄\n",
      "==== [ROUTE QUESTION TO WEB SEARCH] ====\n",
      "==========================================================================================\n",
      "\n"
     ]
    },
    {
     "data": {
      "text/plain": [
       "'web_search'"
      ]
     },
     "execution_count": 46,
     "metadata": {},
     "output_type": "execute_result"
    }
   ],
   "source": [
    "route_question(state1)"
   ]
  },
  {
   "cell_type": "code",
   "execution_count": 47,
   "metadata": {},
   "outputs": [
    {
     "name": "stdout",
     "output_type": "stream",
     "text": [
      "\n",
      "==========================================================================================\n",
      "🔄 [Node] 웹 검색 노드 🔄\n",
      "-------------------\n",
      "question: \n",
      "대구 중앙떡볶이\n",
      "-------------------\n",
      "\n",
      "-------------------\n",
      "web_results: \n",
      "[{'title': '대구 동성로 떡볶이 맛집 \" 중앙떡볶이 \" 현지인 솔직후기 : 네이버 블로그', 'url': 'https://m.blog.naver.com/tb06081/223042140850', 'content': '대구 동성로 228공원 앞에 위치한 . 대구 동성로 떡볶이 맛집 중앙떡볶이 예전부터 대구 떡볶이 맛집으로 유명했는데 떡볶이를. 별로 안 좋아해서 몇년 전에 딱 한 번 먹어봤는데. 그렇게 맛있단 생각을 못 해서. 계속 안 가고 있다가 지금까지도 쭉. 지나가면', 'score': 0.7703443, 'raw_content': \"블로그\\n\\n카테고리 이동\\n\\n\\n\\n\\nBe myself ღ'ᴗ'ღ\\n\\n대구 동성로 떡볶이 맛집 “ 중앙떡볶이 ” 현지인 솔직후기\\n\\n2023. 3. 12. 15:06\\n\\n오늘은\\n\\n대구 동성로 떡볶이 맛집 “ 중앙떡볶이 ”에 다녀왔어용\\n\\n\\u200b\\n\\n\\u200b\\n\\n대구광역시 중구 동성로2길 81 중앙떡볶이\\n\\n대구 동성로 228공원 앞에 위치한\\n\\n대구 동성로 떡볶이 맛집 중앙떡볶이\\n\\n\\u200b\\n\\n예전부터 대구 떡볶이 맛집으로 유명했는데\\n\\n\\u200b\\n\\n떡볶이를\\n\\n별로 안 좋아해서\\n\\n\\u200b\\n\\n몇년 전에 딱 한 번 먹어봤는데\\n\\n그렇게 맛있단 생각을 못 해서\\n\\n계속 안 가고 있다가\\n\\n\\u200b\\n\\n지금까지도 쭉\\n\\n지나가면\\n\\n항상 웨이팅 있거나 사람 많고\\n\\n여전히 북적북적 거려서\\n\\n\\u200b\\n\\n대구여행 온 친구랑\\n\\n이번에 다시 재방문 !\\n\\n\\u200b\\n\\n\\u200b\\n\\n\\u200b\\n\\n매일 11:30~19:00\\n\\n\\u200b\\n\\n\\u200b\\n\\n일요일 휴무\\n\\n\\u200b\\n\\n\\u200b\\n\\n\\u200b\\n\\n\\u200b\\n\\n\\u200b\\n\\n\\u200b\\n\\n중앙떡볶이 서치해봤을 때\\n\\n떡볶이 한판 다 팔리면\\n\\n새로 만들 때까지\\n\\n40분 기다려야한다고 했는데\\n\\n\\u200b\\n\\n평일 1시30분쯤 도착하니\\n\\n대기줄 아무것도 없길래\\n\\n설마 ,, 했는데\\n\\n\\u200b\\n\\n방금 딱 다 팔려서\\n\\n40분 후에 오라고 하셨다\\n\\n🥹🥹\\n\\n\\u200b\\n\\n점심 먹고 방문한거라\\n\\n소화 좀 시키고\\n\\n30분 뒤에 다시가니\\n\\n\\u200b\\n\\n내부 자리도 별로\\n\\n안 남아있고\\n\\n웨이팅으로 북적거리던 중앙떡볶이\\n\\n\\u200b\\n\\n자리는\\n\\n테이블 자리 3개 , 거울 앞 자리\\n\\n이렇게 있었는데\\n\\n\\u200b\\n\\n먹고 가시는 손님들보단\\n\\n포장 손님이 더 많은 것 같았다\\n\\n\\u200b\\n\\n\\u200b\\n\\n안이랑 밖까지\\n\\n쭉 있던 포장 손님 !\\n\\n\\u200b\\n\\n평일인데도\\n\\n줄이 이렇게 많아서\\n\\n\\u200b\\n\\n시간 잘 맞춰서 방문해야할 듯\\n\\n\\u200b\\n\\n주말엔\\n\\n내부 자리도\\n\\n웨이팅 해야할 것 같았다\\n\\n\\u200b\\n\\n먹고 간다고 하면\\n\\n번호표를 주시고\\n\\n\\u200b\\n\\n차례대로\\n\\n주문을 받으셨다\\n\\n\\u200b\\n\\n\\u200b\\n\\n우리는\\n\\n간단하게 맛만 볼거라\\n\\n\\u200b\\n\\n쌀떡볶이 (₩4.5) 주문 !\\n\\n\\u200b\\n\\n\\u200b\\n\\n\\u200b\\n\\n⭐️⭐\\n\\n\\u200b\\n\\n중앙떡볶이는\\n\\n대구에 직영점 , 분점을 내준 적이 없고\\n\\n동성로에만 있다\\n\\n\\u200b\\n\\n기다리면서 찍어본\\n\\n떡볶이 / 납작만두\\n\\n\\u200b\\n\\n보통 방문하시면\\n\\n\\u200b\\n\\n쌀떡+만두 조합을\\n\\n가장 많이 시키시는 듯\\n\\n\\u200b\\n\\n\\u200b\\n\\n테이블 기본 세팅\\n\\n\\u200b\\n\\n수저\\n\\n\\u200b\\n\\n이외에\\n\\n앞접시나 물은 셀프 !\\n\\n\\u200b\\n\\n\\u200b\\n\\n맛집 인증\\n\\n벽에 붙은 유명인들 싸인 ✨\\n\\n\\u200b\\n\\n예전엔\\n\\n그렇게 사람이 많지 않았던 것 같은데\\n\\n\\u200b\\n\\n백종원 3대천왕이나\\n\\n다른 방송들 출연하면서\\n\\n\\u200b\\n\\n다른 지역사람들까지 와서\\n\\n더 유명해진 것 같았다\\n\\n\\u200b\\n\\n\\u200b\\n\\n전에 한 번 먹어봤을 때\\n\\n그 정돈 아니었던 것 같은데 ,, ㅎ\\n\\n\\u200b\\n\\n\\u200b\\n\\n떡볶이는\\n\\n먹고 가는 손님 / 포장 손님까지해서\\n\\n몇 분 기다려야 나왔다\\n\\n\\u200b\\n\\n\\u200b\\n\\n쌀떡볶이\\n\\n\\u200b\\n\\n쌀떡 3개 , 어묵 3개 , 양배추까지\\n\\n\\u200b\\n\\n간단하게 구성\\n\\n\\u200b\\n\\n일단\\n\\n나오자마자 소스 냄새는\\n\\n엄청 자극적이고 좋았고\\n\\n\\u200b\\n\\n떡이나 어묵도\\n\\n엄청 큼지막하게 들어있어서\\n\\n\\u200b\\n\\n첨엔\\n\\n양이 좀 적다 싶었는데\\n\\n나중엔 충분했다\\n\\n\\u200b\\n\\n일단\\n\\n쌀떡이라\\n\\n엄청 쫠깃쫠깃하고\\n\\n\\u200b\\n\\n양념 자체는\\n\\n엄청 매콤달달하고 자극적인 맛 !\\n\\n\\u200b\\n\\n난\\n\\n안까지 양념도 잘 안 배이고\\n\\n쌀떡 자체를 그렇게 안 좋아해서\\n\\n\\u200b\\n\\n양배추가 젤 맛있었다\\n\\n\\u200b\\n\\n\\u200b\\n\\n역시\\n\\n왜 웨이팅 있는 지는\\n\\n잘 모르겠는 ,, ㅎㅎ\\n\\n\\u200b\\n\\n친구도\\n\\n딱 한 번쯤은 먹어볼 만하다고 했다\\n\\n\\u200b\\n\\n\\u200b\\n\\n갯수는 적지만\\n\\n다 큼직큼직해서\\n\\n\\u200b\\n\\n두명이서 갈라먹어도\\n\\n충분히 포만감 들던 떡볶이 !\\n\\n\\u200b\\n\\n우린\\n\\n점심 먹고 방문한거라\\n\\n\\u200b\\n\\n떡이랑 어묵은 조금 남겨따\\n\\n\\u200b\\n\\n\\u200b\\n\\n떡볶이 국물을\\n\\n밥에 부은 후\\n\\n전자레인지에 2분간 데워 먹으라고 하시는데\\n\\n\\u200b\\n\\n포장해서 간다면\\n\\n양념에 밥 볶아 먹으면\\n\\n존맛탱일 듯🌟\\n\\n\\u200b\\n\\n\\u200b\\n\\n오랜만에\\n\\n다시 먹어본 중앙떡볶이\\n\\n\\u200b\\n\\n양념 자체는 맛있어서\\n\\n쌀떡 좋아하시는 분들은\\n\\n좋아하실수도 ,,?\\n\\n\\u200b\\n\\n양념이 매운 편이라\\n\\n맵찔이들은\\n\\n좀 매워할 것 같았다\\n\\n\\u200b\\n\\n\\u200b\\n\\n\\u200b\\n\\n\\u200b\\n\\n대구 동성로 떡볶이 맛집\\n\\n“ 중앙떡볶이 ”\\n\\n한번쯤 방문 추천이용\\n\\n\\u200b\\n\\n\\u200b\\n\\n\\u200b\\n\\n\\u200b\\n\\n#대구맛집 #대구떡볶이맛집 #대구동성로맛집 #대구동성로떡볶이 #대구여행 #대구여행맛집 #대구동성로떡볶이맛집 #동성로맛집 #동성로떡볶이맛집 #동성로떡볶이 #동성로중앙떡볶이 #대구중앙떡볶이 #중앙떡볶이\\n\\n카테고리\\n\\n\"}, {'title': '대구 동성로 떡볶이 맛집 \" 중앙떡볶이 \" 현지인 솔직후기 : 네이버 블로그', 'url': 'https://m.blog.naver.com/tb06081/223042140850', 'content': '대구 동성로 228공원 앞에 위치한 . 대구 동성로 떡볶이 맛집 중앙떡볶이 예전부터 대구 떡볶이 맛집으로 유명했는데 떡볶이를. 별로 안 좋아해서 몇년 전에 딱 한 번 먹어봤는데. 그렇게 맛있단 생각을 못 해서. 계속 안 가고 있다가 지금까지도 쭉. 지나가면', 'score': 0.7703443, 'raw_content': \"블로그\\n\\n카테고리 이동\\n\\n\\n\\n\\nBe myself ღ'ᴗ'ღ\\n\\n대구 동성로 떡볶이 맛집 “ 중앙떡볶이 ” 현지인 솔직후기\\n\\n2023. 3. 12. 15:06\\n\\n오늘은\\n\\n대구 동성로 떡볶이 맛집 “ 중앙떡볶이 ”에 다녀왔어용\\n\\n\\u200b\\n\\n\\u200b\\n\\n대구광역시 중구 동성로2길 81 중앙떡볶이\\n\\n대구 동성로 228공원 앞에 위치한\\n\\n대구 동성로 떡볶이 맛집 중앙떡볶이\\n\\n\\u200b\\n\\n예전부터 대구 떡볶이 맛집으로 유명했는데\\n\\n\\u200b\\n\\n떡볶이를\\n\\n별로 안 좋아해서\\n\\n\\u200b\\n\\n몇년 전에 딱 한 번 먹어봤는데\\n\\n그렇게 맛있단 생각을 못 해서\\n\\n계속 안 가고 있다가\\n\\n\\u200b\\n\\n지금까지도 쭉\\n\\n지나가면\\n\\n항상 웨이팅 있거나 사람 많고\\n\\n여전히 북적북적 거려서\\n\\n\\u200b\\n\\n대구여행 온 친구랑\\n\\n이번에 다시 재방문 !\\n\\n\\u200b\\n\\n\\u200b\\n\\n\\u200b\\n\\n매일 11:30~19:00\\n\\n\\u200b\\n\\n\\u200b\\n\\n일요일 휴무\\n\\n\\u200b\\n\\n\\u200b\\n\\n\\u200b\\n\\n\\u200b\\n\\n\\u200b\\n\\n\\u200b\\n\\n중앙떡볶이 서치해봤을 때\\n\\n떡볶이 한판 다 팔리면\\n\\n새로 만들 때까지\\n\\n40분 기다려야한다고 했는데\\n\\n\\u200b\\n\\n평일 1시30분쯤 도착하니\\n\\n대기줄 아무것도 없길래\\n\\n설마 ,, 했는데\\n\\n\\u200b\\n\\n방금 딱 다 팔려서\\n\\n40분 후에 오라고 하셨다\\n\\n🥹🥹\\n\\n\\u200b\\n\\n점심 먹고 방문한거라\\n\\n소화 좀 시키고\\n\\n30분 뒤에 다시가니\\n\\n\\u200b\\n\\n내부 자리도 별로\\n\\n안 남아있고\\n\\n웨이팅으로 북적거리던 중앙떡볶이\\n\\n\\u200b\\n\\n자리는\\n\\n테이블 자리 3개 , 거울 앞 자리\\n\\n이렇게 있었는데\\n\\n\\u200b\\n\\n먹고 가시는 손님들보단\\n\\n포장 손님이 더 많은 것 같았다\\n\\n\\u200b\\n\\n\\u200b\\n\\n안이랑 밖까지\\n\\n쭉 있던 포장 손님 !\\n\\n\\u200b\\n\\n평일인데도\\n\\n줄이 이렇게 많아서\\n\\n\\u200b\\n\\n시간 잘 맞춰서 방문해야할 듯\\n\\n\\u200b\\n\\n주말엔\\n\\n내부 자리도\\n\\n웨이팅 해야할 것 같았다\\n\\n\\u200b\\n\\n먹고 간다고 하면\\n\\n번호표를 주시고\\n\\n\\u200b\\n\\n차례대로\\n\\n주문을 받으셨다\\n\\n\\u200b\\n\\n\\u200b\\n\\n우리는\\n\\n간단하게 맛만 볼거라\\n\\n\\u200b\\n\\n쌀떡볶이 (₩4.5) 주문 !\\n\\n\\u200b\\n\\n\\u200b\\n\\n\\u200b\\n\\n⭐️⭐\\n\\n\\u200b\\n\\n중앙떡볶이는\\n\\n대구에 직영점 , 분점을 내준 적이 없고\\n\\n동성로에만 있다\\n\\n\\u200b\\n\\n기다리면서 찍어본\\n\\n떡볶이 / 납작만두\\n\\n\\u200b\\n\\n보통 방문하시면\\n\\n\\u200b\\n\\n쌀떡+만두 조합을\\n\\n가장 많이 시키시는 듯\\n\\n\\u200b\\n\\n\\u200b\\n\\n테이블 기본 세팅\\n\\n\\u200b\\n\\n수저\\n\\n\\u200b\\n\\n이외에\\n\\n앞접시나 물은 셀프 !\\n\\n\\u200b\\n\\n\\u200b\\n\\n맛집 인증\\n\\n벽에 붙은 유명인들 싸인 ✨\\n\\n\\u200b\\n\\n예전엔\\n\\n그렇게 사람이 많지 않았던 것 같은데\\n\\n\\u200b\\n\\n백종원 3대천왕이나\\n\\n다른 방송들 출연하면서\\n\\n\\u200b\\n\\n다른 지역사람들까지 와서\\n\\n더 유명해진 것 같았다\\n\\n\\u200b\\n\\n\\u200b\\n\\n전에 한 번 먹어봤을 때\\n\\n그 정돈 아니었던 것 같은데 ,, ㅎ\\n\\n\\u200b\\n\\n\\u200b\\n\\n떡볶이는\\n\\n먹고 가는 손님 / 포장 손님까지해서\\n\\n몇 분 기다려야 나왔다\\n\\n\\u200b\\n\\n\\u200b\\n\\n쌀떡볶이\\n\\n\\u200b\\n\\n쌀떡 3개 , 어묵 3개 , 양배추까지\\n\\n\\u200b\\n\\n간단하게 구성\\n\\n\\u200b\\n\\n일단\\n\\n나오자마자 소스 냄새는\\n\\n엄청 자극적이고 좋았고\\n\\n\\u200b\\n\\n떡이나 어묵도\\n\\n엄청 큼지막하게 들어있어서\\n\\n\\u200b\\n\\n첨엔\\n\\n양이 좀 적다 싶었는데\\n\\n나중엔 충분했다\\n\\n\\u200b\\n\\n일단\\n\\n쌀떡이라\\n\\n엄청 쫠깃쫠깃하고\\n\\n\\u200b\\n\\n양념 자체는\\n\\n엄청 매콤달달하고 자극적인 맛 !\\n\\n\\u200b\\n\\n난\\n\\n안까지 양념도 잘 안 배이고\\n\\n쌀떡 자체를 그렇게 안 좋아해서\\n\\n\\u200b\\n\\n양배추가 젤 맛있었다\\n\\n\\u200b\\n\\n\\u200b\\n\\n역시\\n\\n왜 웨이팅 있는 지는\\n\\n잘 모르겠는 ,, ㅎㅎ\\n\\n\\u200b\\n\\n친구도\\n\\n딱 한 번쯤은 먹어볼 만하다고 했다\\n\\n\\u200b\\n\\n\\u200b\\n\\n갯수는 적지만\\n\\n다 큼직큼직해서\\n\\n\\u200b\\n\\n두명이서 갈라먹어도\\n\\n충분히 포만감 들던 떡볶이 !\\n\\n\\u200b\\n\\n우린\\n\\n점심 먹고 방문한거라\\n\\n\\u200b\\n\\n떡이랑 어묵은 조금 남겨따\\n\\n\\u200b\\n\\n\\u200b\\n\\n떡볶이 국물을\\n\\n밥에 부은 후\\n\\n전자레인지에 2분간 데워 먹으라고 하시는데\\n\\n\\u200b\\n\\n포장해서 간다면\\n\\n양념에 밥 볶아 먹으면\\n\\n존맛탱일 듯🌟\\n\\n\\u200b\\n\\n\\u200b\\n\\n오랜만에\\n\\n다시 먹어본 중앙떡볶이\\n\\n\\u200b\\n\\n양념 자체는 맛있어서\\n\\n쌀떡 좋아하시는 분들은\\n\\n좋아하실수도 ,,?\\n\\n\\u200b\\n\\n양념이 매운 편이라\\n\\n맵찔이들은\\n\\n좀 매워할 것 같았다\\n\\n\\u200b\\n\\n\\u200b\\n\\n\\u200b\\n\\n\\u200b\\n\\n대구 동성로 떡볶이 맛집\\n\\n“ 중앙떡볶이 ”\\n\\n한번쯤 방문 추천이용\\n\\n\\u200b\\n\\n\\u200b\\n\\n\\u200b\\n\\n\\u200b\\n\\n#대구맛집 #대구떡볶이맛집 #대구동성로맛집 #대구동성로떡볶이 #대구여행 #대구여행맛집 #대구동성로떡볶이맛집 #동성로맛집 #동성로떡볶이맛집 #동성로떡볶이 #동성로중앙떡볶이 #대구중앙떡볶이 #중앙떡볶이\\n\\n카테고리\\n\\n\"}, {'title': '대구 맛집 백종원 3대 천왕 :: 중앙떡볶이 솔직 후기 : 네이버 블로그', 'url': 'https://m.blog.naver.com/ryu8145/223424913321', 'content': '대구 떡볶이 맛집 중앙떡볶이. 포장도 많이 해가시던데 떡볶이 국물을 따뜻한 밥위에. 부은 후 전자렌지 돌려 먹어도. 넘 맛있다고 합니다 그럼 지금까지 대구 동성로. 떡볶이 맛집 백종원 3대천왕. 중앙떡볶이 후기를 마칠께요 긴글 읽어주셔서 감사드리고 오늘도', 'score': 0.75290436, 'raw_content': '블로그\\n\\n카테고리 이동\\n\\n\\n\\n\\n루피의 지구별 여행중✈️\\n\\n대구 맛집 백종원 3대 천왕 :: 중앙떡볶이 솔직 후기\\n\\n2024. 4. 23. 20:06\\n\\n안녕하세요\\n\\n대구 맛집 리뷰하는\\n\\n블로거 루피입니다\\n\\n\\u200b\\n\\n오늘은 대구 떡볶이\\n\\n하면 떠오르는곳\\n\\n\\u200b\\n\\n백종원 3대천왕\\n\\n중앙떡볶이를 소개할께요\\u200b\\u200b\\n\\n\\u200b\\n\\n대구광역시 중구 동성로2길 81 중앙떡볶이\\n\\n\\u200b\\n\\n⏰️ 영업시간 11:30~19:00\\n\\n(매주 일요일 휴무)\\n\\n\\u200b\\n\\n📌 재료소진시 조기마감\\n\\n\\u200b\\n\\n🚘 주차 주차장 없음\\n\\n(바로 앞 2.28 공영주차장 가능 )\\n\\n\\u200b\\n\\n포장가능\\u200b\\u200b\\n\\n\\u200b\\n\\n\\u200b\\n\\n대구 동성로 맛집\\n\\n중앙떡볶이 외관\\n\\n모습 이구요\\n\\n\\u200b\\n\\n대구 맛집으로 오래\\n\\n사랑받고 있는 중앙떡볶이는\\n\\n\\u200b\\n\\n직영점 체인점이 없는 오직\\n\\n이곳에서만 맛 볼수 있답니다\\u200b\\n\\n\\u200b\\n\\n\\u200b\\n\\n제 짝꿍과 오랜만에\\n\\n중앙떡볶이를 찾았는데요\\u200b\\u200b\\n\\n\\u200b\\n\\n\\u200b\\n\\n여전히 손님들로\\n\\n북적였고 앞에\\n\\n\\u200b\\n\\n퀵서비스 기사님도\\n\\n포장대기 하고 있었구요\\u200b\\u200b\\n\\n\\u200b\\n\\n\\u200b\\n\\n중앙떡볶이 납작만두는\\n\\n기름에 바싹 굽는게 아닌\\n\\n\\u200b\\n\\n촉촉하게 살짝 익혀낸\\n\\n다는게 어울리것 같았어요\\n\\n\\u200b\\n\\n저 많은 블루리본과\\n\\n빛 바랜 사진들이\\u200b\\u200b\\n\\n\\u200b\\n\\n\\u200b\\n\\n대구 오랜 맛집을\\n\\n검증해주고 있었어요\\n\\n\\u200b\\n\\n음식점 내부에는\\n\\n수많은 유명 연예인들의\\n\\n사인과 사진으로 도배\\u200b\\u200b\\n\\n\\u200b\\n\\n\\u200b\\n\\n되어 있었고 그 중에\\n\\n백종원 3대천왕 사진과\\n\\n\\u200b\\n\\n백종원님 싸인이\\n\\n눈에 띄더라구요\\n\\n\\u200b\\n\\n맛집이라 그런지 솔직히\\n\\n이모님들의 손님 응대하는\\n\\n모습에 친절함은 없어 보였어요\\u200b\\n\\n\\u200b\\n\\n\\u200b\\n\\n저희는 떡볶이와 만두를\\n\\n섞어서 주문하면 만두가\\n\\n좀 적다고 하셔서\\n\\n\\u200b\\n\\n쌀 떡볶이 납작만두\\n\\n순대를 주문하였구요\\n\\n\\u200b\\n\\n중앙떡볶이는 밀떡이\\n\\n아닌 큰 쌀가래떡을\\n\\n베이스로 하고 있었어요\\n\\n\\u200b\\n\\n\\u200b\\n\\n떡볶이 4500원\\n\\n납작만두 4500원\\n\\n순대 4500원이였어요\\n\\n\\u200b\\n\\n\\u200b\\n\\n솔직히 보시면 양은 그렇게\\n\\n많다고 느껴지진 않았어요\\n\\n\\u200b\\n\\n\\u200b\\n\\n순대는 간 허파와\\n\\n같이 소금이 나왔구요\\n\\n\\u200b\\n\\n\\u200b\\n\\n다른 분식점과 달리\\n\\n특색있는건 아니였구요\\n\\n\\u200b\\n\\n\\u200b\\n\\n납작만두는 앞에서\\n\\n언급했듯이 기름에\\n\\n\\u200b\\n\\n촉촉하게 익혀 떡볶이\\n\\n국물을 부어 나왔구요\\n\\n\\u200b\\n\\n\\u200b\\n\\n저희 부부는 밀떡파인데도\\n\\n큼지막한 쌀 가래떡이\\n\\n\\u200b\\n\\n\\u200b\\n\\n굉장히 쫀득쫀득하고\\n\\n식감이 괜찮았구요\\n\\n\\u200b\\n\\n\\u200b\\n\\n단점은 큰 쌀 가래떡이라\\n\\n그런지 떡볶이 국물이 베어\\n\\n들지 않아 따로 노는 느낌이\\n\\n\\u200b\\n\\n있었지만 한입먹고 국물\\n\\n무쳐서 먹음 맛있었구요\\n\\n\\u200b\\n\\n\\u200b\\n\\n중앙떡볶이 수저통엔 젓가락\\n\\n밖에 없어 진득하고 달달 칼칼한\\n\\n국물을 떠 먹고 싶었는데 그러질 못했어요\\n\\n\\u200b\\n\\n어릴적부터 먹어왔던 그 맛\\n\\n그대로라 웃음이 났고 한번쯤\\n\\n생각나는 달큰한 떡볶이랍니다\\n\\n\\u200b\\n\\n\\u200b\\n\\n납작만두도 촉촉 야들야들\\n\\n해서 떡볶이 국물과 궁합이\\n\\n너무 잘 맞았구요\\n\\n\\u200b\\n\\n순대는 소금에 찍어\\n\\n먹어도 맛있지만 이렇게\\n\\n\\u200b\\n\\n\\u200b\\n\\n중앙떡볶이 국물에 푹\\n\\n찍어 먹어도 넘 맛있답니다\\n\\n\\u200b\\n\\n솔직히 멀리서 찾아올 엄청\\n\\n맛있는 맛은 아니지만 옛\\n\\n생각이 나고 한번쯤 생각나는\\n\\n맛있는 쌀 떡볶이랍니다\\n\\n\\u200b\\n\\n\\u200b\\n\\n대구 떡볶이 맛집 중앙떡볶이\\n\\n포장도 많이 해가시던데\\n\\n\\u200b\\n\\n떡볶이 국물을 따뜻한 밥위에\\n\\n부은 후 전자렌지 돌려 먹어도\\n\\n넘 맛있다고 합니다\\n\\n\\u200b\\n\\n그럼 지금까지 대구 동성로\\n\\n떡볶이 맛집 백종원 3대천왕\\n\\n중앙떡볶이 후기를 마칠께요\\n\\n\\u200b\\n\\n긴글 읽어주셔서 감사드리고 오늘도\\n\\n행복한 기억들로 가득채우시길 바래요\\n\\n#대구맛집 #대구동성로맛집 #동성로맛집 #떡볶이맛집 #대구떡볶이맛집 #대구3대천왕 #백종원3대천왕 #백종원떡볶이 #대구동성로떡볶이 #중앙떡볶이 #대구3대떡볶이 #대구떡볶이페스티벌 #중앙로떡볶이\\n\\n카테고리\\n\\n'}, {'title': '대구 맛집 백종원 3대 천왕 :: 중앙떡볶이 솔직 후기 : 네이버 블로그', 'url': 'https://m.blog.naver.com/ryu8145/223424913321', 'content': '대구 떡볶이 맛집 중앙떡볶이. 포장도 많이 해가시던데 떡볶이 국물을 따뜻한 밥위에. 부은 후 전자렌지 돌려 먹어도. 넘 맛있다고 합니다 그럼 지금까지 대구 동성로. 떡볶이 맛집 백종원 3대천왕. 중앙떡볶이 후기를 마칠께요 긴글 읽어주셔서 감사드리고 오늘도', 'score': 0.75290436, 'raw_content': '블로그\\n\\n카테고리 이동\\n\\n\\n\\n\\n루피의 지구별 여행중✈️\\n\\n대구 맛집 백종원 3대 천왕 :: 중앙떡볶이 솔직 후기\\n\\n2024. 4. 23. 20:06\\n\\n안녕하세요\\n\\n대구 맛집 리뷰하는\\n\\n블로거 루피입니다\\n\\n\\u200b\\n\\n오늘은 대구 떡볶이\\n\\n하면 떠오르는곳\\n\\n\\u200b\\n\\n백종원 3대천왕\\n\\n중앙떡볶이를 소개할께요\\u200b\\u200b\\n\\n\\u200b\\n\\n대구광역시 중구 동성로2길 81 중앙떡볶이\\n\\n\\u200b\\n\\n⏰️ 영업시간 11:30~19:00\\n\\n(매주 일요일 휴무)\\n\\n\\u200b\\n\\n📌 재료소진시 조기마감\\n\\n\\u200b\\n\\n🚘 주차 주차장 없음\\n\\n(바로 앞 2.28 공영주차장 가능 )\\n\\n\\u200b\\n\\n포장가능\\u200b\\u200b\\n\\n\\u200b\\n\\n\\u200b\\n\\n대구 동성로 맛집\\n\\n중앙떡볶이 외관\\n\\n모습 이구요\\n\\n\\u200b\\n\\n대구 맛집으로 오래\\n\\n사랑받고 있는 중앙떡볶이는\\n\\n\\u200b\\n\\n직영점 체인점이 없는 오직\\n\\n이곳에서만 맛 볼수 있답니다\\u200b\\n\\n\\u200b\\n\\n\\u200b\\n\\n제 짝꿍과 오랜만에\\n\\n중앙떡볶이를 찾았는데요\\u200b\\u200b\\n\\n\\u200b\\n\\n\\u200b\\n\\n여전히 손님들로\\n\\n북적였고 앞에\\n\\n\\u200b\\n\\n퀵서비스 기사님도\\n\\n포장대기 하고 있었구요\\u200b\\u200b\\n\\n\\u200b\\n\\n\\u200b\\n\\n중앙떡볶이 납작만두는\\n\\n기름에 바싹 굽는게 아닌\\n\\n\\u200b\\n\\n촉촉하게 살짝 익혀낸\\n\\n다는게 어울리것 같았어요\\n\\n\\u200b\\n\\n저 많은 블루리본과\\n\\n빛 바랜 사진들이\\u200b\\u200b\\n\\n\\u200b\\n\\n\\u200b\\n\\n대구 오랜 맛집을\\n\\n검증해주고 있었어요\\n\\n\\u200b\\n\\n음식점 내부에는\\n\\n수많은 유명 연예인들의\\n\\n사인과 사진으로 도배\\u200b\\u200b\\n\\n\\u200b\\n\\n\\u200b\\n\\n되어 있었고 그 중에\\n\\n백종원 3대천왕 사진과\\n\\n\\u200b\\n\\n백종원님 싸인이\\n\\n눈에 띄더라구요\\n\\n\\u200b\\n\\n맛집이라 그런지 솔직히\\n\\n이모님들의 손님 응대하는\\n\\n모습에 친절함은 없어 보였어요\\u200b\\n\\n\\u200b\\n\\n\\u200b\\n\\n저희는 떡볶이와 만두를\\n\\n섞어서 주문하면 만두가\\n\\n좀 적다고 하셔서\\n\\n\\u200b\\n\\n쌀 떡볶이 납작만두\\n\\n순대를 주문하였구요\\n\\n\\u200b\\n\\n중앙떡볶이는 밀떡이\\n\\n아닌 큰 쌀가래떡을\\n\\n베이스로 하고 있었어요\\n\\n\\u200b\\n\\n\\u200b\\n\\n떡볶이 4500원\\n\\n납작만두 4500원\\n\\n순대 4500원이였어요\\n\\n\\u200b\\n\\n\\u200b\\n\\n솔직히 보시면 양은 그렇게\\n\\n많다고 느껴지진 않았어요\\n\\n\\u200b\\n\\n\\u200b\\n\\n순대는 간 허파와\\n\\n같이 소금이 나왔구요\\n\\n\\u200b\\n\\n\\u200b\\n\\n다른 분식점과 달리\\n\\n특색있는건 아니였구요\\n\\n\\u200b\\n\\n\\u200b\\n\\n납작만두는 앞에서\\n\\n언급했듯이 기름에\\n\\n\\u200b\\n\\n촉촉하게 익혀 떡볶이\\n\\n국물을 부어 나왔구요\\n\\n\\u200b\\n\\n\\u200b\\n\\n저희 부부는 밀떡파인데도\\n\\n큼지막한 쌀 가래떡이\\n\\n\\u200b\\n\\n\\u200b\\n\\n굉장히 쫀득쫀득하고\\n\\n식감이 괜찮았구요\\n\\n\\u200b\\n\\n\\u200b\\n\\n단점은 큰 쌀 가래떡이라\\n\\n그런지 떡볶이 국물이 베어\\n\\n들지 않아 따로 노는 느낌이\\n\\n\\u200b\\n\\n있었지만 한입먹고 국물\\n\\n무쳐서 먹음 맛있었구요\\n\\n\\u200b\\n\\n\\u200b\\n\\n중앙떡볶이 수저통엔 젓가락\\n\\n밖에 없어 진득하고 달달 칼칼한\\n\\n국물을 떠 먹고 싶었는데 그러질 못했어요\\n\\n\\u200b\\n\\n어릴적부터 먹어왔던 그 맛\\n\\n그대로라 웃음이 났고 한번쯤\\n\\n생각나는 달큰한 떡볶이랍니다\\n\\n\\u200b\\n\\n\\u200b\\n\\n납작만두도 촉촉 야들야들\\n\\n해서 떡볶이 국물과 궁합이\\n\\n너무 잘 맞았구요\\n\\n\\u200b\\n\\n순대는 소금에 찍어\\n\\n먹어도 맛있지만 이렇게\\n\\n\\u200b\\n\\n\\u200b\\n\\n중앙떡볶이 국물에 푹\\n\\n찍어 먹어도 넘 맛있답니다\\n\\n\\u200b\\n\\n솔직히 멀리서 찾아올 엄청\\n\\n맛있는 맛은 아니지만 옛\\n\\n생각이 나고 한번쯤 생각나는\\n\\n맛있는 쌀 떡볶이랍니다\\n\\n\\u200b\\n\\n\\u200b\\n\\n대구 떡볶이 맛집 중앙떡볶이\\n\\n포장도 많이 해가시던데\\n\\n\\u200b\\n\\n떡볶이 국물을 따뜻한 밥위에\\n\\n부은 후 전자렌지 돌려 먹어도\\n\\n넘 맛있다고 합니다\\n\\n\\u200b\\n\\n그럼 지금까지 대구 동성로\\n\\n떡볶이 맛집 백종원 3대천왕\\n\\n중앙떡볶이 후기를 마칠께요\\n\\n\\u200b\\n\\n긴글 읽어주셔서 감사드리고 오늘도\\n\\n행복한 기억들로 가득채우시길 바래요\\n\\n#대구맛집 #대구동성로맛집 #동성로맛집 #떡볶이맛집 #대구떡볶이맛집 #대구3대천왕 #백종원3대천왕 #백종원떡볶이 #대구동성로떡볶이 #중앙떡볶이 #대구3대떡볶이 #대구떡볶이페스티벌 #중앙로떡볶이\\n\\n카테고리\\n\\n'}, {'title': '대구 동성로 맛집 중앙떡볶이 내돈내산 솔직후기 : 네이버 블로그', 'url': 'https://m.blog.naver.com/wndi2132/223794542345', 'content': '대구여행 가면 꼭 먹어봐야 한다는 . 대구 동성로 맛집 중앙떡볶이 평소에도 떡볶이를 좋아하는데 이곳은. 백종원 3대천왕에서 소개된 . 체인점이 전혀 없는 여기 하나밖에 없는 더더욱 궁금해 지는. 간식타임 하러 방문하고 . 먹어본 후기 남겨볼께요', 'score': 0.7251239, 'raw_content': '블로그\\n\\n카테고리 이동\\n\\n\\n\\n\\n행복가득한 일상♡\\n\\n대구 동성로 맛집 중앙떡볶이 내돈내산 솔직후기\\n\\n2025. 3. 13. 13:16\\n\\n\\u200b\\n\\n\\u200b\\n\\n대구 동성로 맛집\\n\\n중앙떡볶이\\n\\n\\u200b\\n\\n영업시간 : 11시30분 ~ 18시\\n\\n브레이크타임 : 2시~3시, 4~5시\\n\\n휴무 : 매주 일요일\\n\\n위치 : 대구 중구 동성로 2길 81\\n\\n주차 : 근처 공영주차장 이용\\n\\n\\u200b\\n\\n\\u200b\\n\\n대구여행 가면 꼭 먹어봐야 한다는\\n\\n대구 동성로 맛집 중앙떡볶이\\n\\n\\u200b\\n\\n평소에도 떡볶이를 좋아하는데 이곳은\\n\\n백종원 3대천왕에서 소개된\\n\\n체인점이 전혀 없는\\n\\n\\u200b\\n\\n여기 하나밖에 없는 더더욱 궁금해 지는\\n\\n간식타임 하러 방문하고\\n\\n먹어본 후기 남겨볼께요\\n\\n\\u200b\\n\\n\\u200b\\n\\n역시나 와 엄청난 웨이팅 줄을 자랑하는\\n\\n대구 동성로 맛집 중앙떡볶이네요\\n\\n\\u200b\\n\\n\\u200b\\n\\n줄이 양쪽으로 있길래 먼가 했더니\\n\\n매장에서 먹는 줄과 포장해서 가는 줄이\\n\\n나눠져 있더라구요 웨이팅이\\n\\n많으니 더 궁금해지는\\n\\n\\u200b\\n\\n\\u200b\\n\\n언제부터 요기는 인기집이었던 걸까요?\\n\\n백종원의 3대천왕 나오기\\n\\n전부터 인기였겠쥬?\\n\\n\\u200b\\n\\n\\u200b\\n\\n블루리본을 몇년을 받았고\\n\\n무슨 인기 맛집 인증 같은것도 많이 받았네요\\n\\n\\u200b\\n\\n\\u200b\\n\\n이렇게 인기있는 집이면 체인점 분점 같은걸\\n\\n내어줄만도 할텐데 사장님 대단하십니다용\\n\\n\\u200b\\n\\n\\u200b\\n\\n기다리면서 만두 만드는 모습도 한컷\\n\\n뒤집는 손놀림이 아주 빨라서\\n\\n보통이 아니구나 싶더라구요\\n\\n하루에 몇장을 구워 내시는걸까\\n\\n\\u200b\\n\\n만두 만드는 모습을 찍었다는건\\n\\n내 줄이 이제 꽤나\\n\\n가게 앞쪽으로 왔다는 겁니다 크크\\n\\n\\u200b\\n\\n\\u200b\\n\\n대구 동성로 맛집 중앙떡볶이\\n\\n메뉴 스캔해보기\\n\\n아주 간단한 메뉴판 이네요\\n\\n떡볶이와 납작만두,그리고 순대\\n\\n이렇게 3가지네요\\n\\n\\u200b\\n\\n\\u200b\\n\\n매장은 역시나 빈자리 하나없는 빼곡한\\n\\n2인 자리부터 4인자리들까지 있구요\\n\\n혼자 드시는 분들부터 가족,친구,연인 등\\n\\n다들 힘들게 웨이팅 해서 맛 보는\\n\\n\\u200b\\n\\n\\u200b\\n\\n번호표 뽑아서 앉아 있으면\\n\\n직원분이 번호 부르시고\\n\\n자리에 와서 주문 받으십니다\\n\\n결제는 나가면서 하면 되구요\\n\\n\\u200b\\n\\n주문한 메뉴\\n\\n\\u200b\\n\\n떡볶이 4.500원\\n\\n납작만두 4.500원\\n\\n\\u200b\\n\\n\\u200b\\n\\n우와아 주문한 떡볶이와\\n\\n납작만두가 나왔어요오\\n\\n\\u200b\\n\\n\\u200b\\n\\n기름에 구워진 납작만두에\\n\\n내가 제일 좋아하는 쌀떡\\n\\n그리고 어묵이 나옵니다\\n\\n\\u200b\\n\\n\\u200b\\n\\n아주 두꺼운 쌀떡이 진짜 너무\\n\\n쫄깃해 보인다는\\n\\n\\u200b\\n\\n\\u200b\\n\\n가위로 한입에 먹기 좋게 잘라서\\n\\n양념 듬뿍 묻혀서 먹으니 아주 쫀득\\n\\n\\u200b\\n\\n\\u200b\\n\\n음,,,납작만두는 바삭하게 튀겨낸게 아니라\\n\\n그냥 기름맛이 과한 흐물흐물한\\n\\n만두더라구요\\n\\n\\u200b\\n\\n식감이 좋은건지도 모르겠구,,\\n\\n무슨 맛인지를 모르겠더라구요\\n\\n쌀떡은 너무 맛있는데 만두는 아쉬워 흑\\n\\n\\u200b\\n\\n\\u200b\\n\\n다 먹고 나갈때 또 봐도 끝없는 사람들입니다\\n\\n\\u200b\\n\\n\\u200b\\n\\n대구 동성로 맛집 중앙떡볶이\\n\\n대구는 맛집이 참 많아서 여행 올때마다\\n\\n맛집 투어 하는데 떡볶이 러버라면\\n\\n누구나 궁금할곳\\n\\n\\u200b\\n\\n쌀떡을 좋아하는 저는 만족하고 왔어요\\n\\n만두가 조금 아쉬웠지만 쌀떡볶이는 굿\\n\\n대구광역시 중구 동성로2길 81 중앙떡볶이\\n\\n#대구맛집#대구동성로맛집\\n\\n#대구떡볶이맛집#대구중앙떡볶이\\n\\n#대구동성로떡볶이#대구핫플#내돈내산\\n\\n카테고리\\n\\n'}, {'title': '대구 동성로 맛집 중앙떡볶이 내돈내산 솔직후기 : 네이버 블로그', 'url': 'https://m.blog.naver.com/wndi2132/223794542345', 'content': '대구여행 가면 꼭 먹어봐야 한다는 . 대구 동성로 맛집 중앙떡볶이 평소에도 떡볶이를 좋아하는데 이곳은. 백종원 3대천왕에서 소개된 . 체인점이 전혀 없는 여기 하나밖에 없는 더더욱 궁금해 지는. 간식타임 하러 방문하고 . 먹어본 후기 남겨볼께요', 'score': 0.7251239, 'raw_content': '블로그\\n\\n카테고리 이동\\n\\n\\n\\n\\n행복가득한 일상♡\\n\\n대구 동성로 맛집 중앙떡볶이 내돈내산 솔직후기\\n\\n2025. 3. 13. 13:16\\n\\n\\u200b\\n\\n\\u200b\\n\\n대구 동성로 맛집\\n\\n중앙떡볶이\\n\\n\\u200b\\n\\n영업시간 : 11시30분 ~ 18시\\n\\n브레이크타임 : 2시~3시, 4~5시\\n\\n휴무 : 매주 일요일\\n\\n위치 : 대구 중구 동성로 2길 81\\n\\n주차 : 근처 공영주차장 이용\\n\\n\\u200b\\n\\n\\u200b\\n\\n대구여행 가면 꼭 먹어봐야 한다는\\n\\n대구 동성로 맛집 중앙떡볶이\\n\\n\\u200b\\n\\n평소에도 떡볶이를 좋아하는데 이곳은\\n\\n백종원 3대천왕에서 소개된\\n\\n체인점이 전혀 없는\\n\\n\\u200b\\n\\n여기 하나밖에 없는 더더욱 궁금해 지는\\n\\n간식타임 하러 방문하고\\n\\n먹어본 후기 남겨볼께요\\n\\n\\u200b\\n\\n\\u200b\\n\\n역시나 와 엄청난 웨이팅 줄을 자랑하는\\n\\n대구 동성로 맛집 중앙떡볶이네요\\n\\n\\u200b\\n\\n\\u200b\\n\\n줄이 양쪽으로 있길래 먼가 했더니\\n\\n매장에서 먹는 줄과 포장해서 가는 줄이\\n\\n나눠져 있더라구요 웨이팅이\\n\\n많으니 더 궁금해지는\\n\\n\\u200b\\n\\n\\u200b\\n\\n언제부터 요기는 인기집이었던 걸까요?\\n\\n백종원의 3대천왕 나오기\\n\\n전부터 인기였겠쥬?\\n\\n\\u200b\\n\\n\\u200b\\n\\n블루리본을 몇년을 받았고\\n\\n무슨 인기 맛집 인증 같은것도 많이 받았네요\\n\\n\\u200b\\n\\n\\u200b\\n\\n이렇게 인기있는 집이면 체인점 분점 같은걸\\n\\n내어줄만도 할텐데 사장님 대단하십니다용\\n\\n\\u200b\\n\\n\\u200b\\n\\n기다리면서 만두 만드는 모습도 한컷\\n\\n뒤집는 손놀림이 아주 빨라서\\n\\n보통이 아니구나 싶더라구요\\n\\n하루에 몇장을 구워 내시는걸까\\n\\n\\u200b\\n\\n만두 만드는 모습을 찍었다는건\\n\\n내 줄이 이제 꽤나\\n\\n가게 앞쪽으로 왔다는 겁니다 크크\\n\\n\\u200b\\n\\n\\u200b\\n\\n대구 동성로 맛집 중앙떡볶이\\n\\n메뉴 스캔해보기\\n\\n아주 간단한 메뉴판 이네요\\n\\n떡볶이와 납작만두,그리고 순대\\n\\n이렇게 3가지네요\\n\\n\\u200b\\n\\n\\u200b\\n\\n매장은 역시나 빈자리 하나없는 빼곡한\\n\\n2인 자리부터 4인자리들까지 있구요\\n\\n혼자 드시는 분들부터 가족,친구,연인 등\\n\\n다들 힘들게 웨이팅 해서 맛 보는\\n\\n\\u200b\\n\\n\\u200b\\n\\n번호표 뽑아서 앉아 있으면\\n\\n직원분이 번호 부르시고\\n\\n자리에 와서 주문 받으십니다\\n\\n결제는 나가면서 하면 되구요\\n\\n\\u200b\\n\\n주문한 메뉴\\n\\n\\u200b\\n\\n떡볶이 4.500원\\n\\n납작만두 4.500원\\n\\n\\u200b\\n\\n\\u200b\\n\\n우와아 주문한 떡볶이와\\n\\n납작만두가 나왔어요오\\n\\n\\u200b\\n\\n\\u200b\\n\\n기름에 구워진 납작만두에\\n\\n내가 제일 좋아하는 쌀떡\\n\\n그리고 어묵이 나옵니다\\n\\n\\u200b\\n\\n\\u200b\\n\\n아주 두꺼운 쌀떡이 진짜 너무\\n\\n쫄깃해 보인다는\\n\\n\\u200b\\n\\n\\u200b\\n\\n가위로 한입에 먹기 좋게 잘라서\\n\\n양념 듬뿍 묻혀서 먹으니 아주 쫀득\\n\\n\\u200b\\n\\n\\u200b\\n\\n음,,,납작만두는 바삭하게 튀겨낸게 아니라\\n\\n그냥 기름맛이 과한 흐물흐물한\\n\\n만두더라구요\\n\\n\\u200b\\n\\n식감이 좋은건지도 모르겠구,,\\n\\n무슨 맛인지를 모르겠더라구요\\n\\n쌀떡은 너무 맛있는데 만두는 아쉬워 흑\\n\\n\\u200b\\n\\n\\u200b\\n\\n다 먹고 나갈때 또 봐도 끝없는 사람들입니다\\n\\n\\u200b\\n\\n\\u200b\\n\\n대구 동성로 맛집 중앙떡볶이\\n\\n대구는 맛집이 참 많아서 여행 올때마다\\n\\n맛집 투어 하는데 떡볶이 러버라면\\n\\n누구나 궁금할곳\\n\\n\\u200b\\n\\n쌀떡을 좋아하는 저는 만족하고 왔어요\\n\\n만두가 조금 아쉬웠지만 쌀떡볶이는 굿\\n\\n대구광역시 중구 동성로2길 81 중앙떡볶이\\n\\n#대구맛집#대구동성로맛집\\n\\n#대구떡볶이맛집#대구중앙떡볶이\\n\\n#대구동성로떡볶이#대구핫플#내돈내산\\n\\n카테고리\\n\\n'}]\n",
      "-------------------\n",
      "\n",
      "-------------------\n",
      "[Document(metadata={'source': 'https://m.blog.naver.com/tb06081/223042140850'}, page_content='대구 동성로 228공원 앞에 위치한 . 대구 동성로 떡볶이 맛집 중앙떡볶이 예전부터 대구 떡볶이 맛집으로 유명했는데 떡볶이를. 별로 안 좋아해서 몇년 전에 딱 한 번 먹어봤는데. 그렇게 맛있단 생각을 못 해서. 계속 안 가고 있다가 지금까지도 쭉. 지나가면'), Document(metadata={'source': 'https://m.blog.naver.com/tb06081/223042140850'}, page_content='대구 동성로 228공원 앞에 위치한 . 대구 동성로 떡볶이 맛집 중앙떡볶이 예전부터 대구 떡볶이 맛집으로 유명했는데 떡볶이를. 별로 안 좋아해서 몇년 전에 딱 한 번 먹어봤는데. 그렇게 맛있단 생각을 못 해서. 계속 안 가고 있다가 지금까지도 쭉. 지나가면'), Document(metadata={'source': 'https://m.blog.naver.com/ryu8145/223424913321'}, page_content='대구 떡볶이 맛집 중앙떡볶이. 포장도 많이 해가시던데 떡볶이 국물을 따뜻한 밥위에. 부은 후 전자렌지 돌려 먹어도. 넘 맛있다고 합니다 그럼 지금까지 대구 동성로. 떡볶이 맛집 백종원 3대천왕. 중앙떡볶이 후기를 마칠께요 긴글 읽어주셔서 감사드리고 오늘도'), Document(metadata={'source': 'https://m.blog.naver.com/ryu8145/223424913321'}, page_content='대구 떡볶이 맛집 중앙떡볶이. 포장도 많이 해가시던데 떡볶이 국물을 따뜻한 밥위에. 부은 후 전자렌지 돌려 먹어도. 넘 맛있다고 합니다 그럼 지금까지 대구 동성로. 떡볶이 맛집 백종원 3대천왕. 중앙떡볶이 후기를 마칠께요 긴글 읽어주셔서 감사드리고 오늘도'), Document(metadata={'source': 'https://m.blog.naver.com/wndi2132/223794542345'}, page_content='대구여행 가면 꼭 먹어봐야 한다는 . 대구 동성로 맛집 중앙떡볶이 평소에도 떡볶이를 좋아하는데 이곳은. 백종원 3대천왕에서 소개된 . 체인점이 전혀 없는 여기 하나밖에 없는 더더욱 궁금해 지는. 간식타임 하러 방문하고 . 먹어본 후기 남겨볼께요'), Document(metadata={'source': 'https://m.blog.naver.com/wndi2132/223794542345'}, page_content='대구여행 가면 꼭 먹어봐야 한다는 . 대구 동성로 맛집 중앙떡볶이 평소에도 떡볶이를 좋아하는데 이곳은. 백종원 3대천왕에서 소개된 . 체인점이 전혀 없는 여기 하나밖에 없는 더더욱 궁금해 지는. 간식타임 하러 방문하고 . 먹어본 후기 남겨볼께요')]\n",
      "-------------------\n",
      "\n",
      "==========================================================================================\n",
      "\n"
     ]
    },
    {
     "data": {
      "text/plain": [
       "{'documents': [Document(metadata={'source': 'https://m.blog.naver.com/tb06081/223042140850'}, page_content='대구 동성로 228공원 앞에 위치한 . 대구 동성로 떡볶이 맛집 중앙떡볶이 예전부터 대구 떡볶이 맛집으로 유명했는데 떡볶이를. 별로 안 좋아해서 몇년 전에 딱 한 번 먹어봤는데. 그렇게 맛있단 생각을 못 해서. 계속 안 가고 있다가 지금까지도 쭉. 지나가면'),\n",
       "  Document(metadata={'source': 'https://m.blog.naver.com/tb06081/223042140850'}, page_content='대구 동성로 228공원 앞에 위치한 . 대구 동성로 떡볶이 맛집 중앙떡볶이 예전부터 대구 떡볶이 맛집으로 유명했는데 떡볶이를. 별로 안 좋아해서 몇년 전에 딱 한 번 먹어봤는데. 그렇게 맛있단 생각을 못 해서. 계속 안 가고 있다가 지금까지도 쭉. 지나가면'),\n",
       "  Document(metadata={'source': 'https://m.blog.naver.com/ryu8145/223424913321'}, page_content='대구 떡볶이 맛집 중앙떡볶이. 포장도 많이 해가시던데 떡볶이 국물을 따뜻한 밥위에. 부은 후 전자렌지 돌려 먹어도. 넘 맛있다고 합니다 그럼 지금까지 대구 동성로. 떡볶이 맛집 백종원 3대천왕. 중앙떡볶이 후기를 마칠께요 긴글 읽어주셔서 감사드리고 오늘도'),\n",
       "  Document(metadata={'source': 'https://m.blog.naver.com/ryu8145/223424913321'}, page_content='대구 떡볶이 맛집 중앙떡볶이. 포장도 많이 해가시던데 떡볶이 국물을 따뜻한 밥위에. 부은 후 전자렌지 돌려 먹어도. 넘 맛있다고 합니다 그럼 지금까지 대구 동성로. 떡볶이 맛집 백종원 3대천왕. 중앙떡볶이 후기를 마칠께요 긴글 읽어주셔서 감사드리고 오늘도'),\n",
       "  Document(metadata={'source': 'https://m.blog.naver.com/wndi2132/223794542345'}, page_content='대구여행 가면 꼭 먹어봐야 한다는 . 대구 동성로 맛집 중앙떡볶이 평소에도 떡볶이를 좋아하는데 이곳은. 백종원 3대천왕에서 소개된 . 체인점이 전혀 없는 여기 하나밖에 없는 더더욱 궁금해 지는. 간식타임 하러 방문하고 . 먹어본 후기 남겨볼께요'),\n",
       "  Document(metadata={'source': 'https://m.blog.naver.com/wndi2132/223794542345'}, page_content='대구여행 가면 꼭 먹어봐야 한다는 . 대구 동성로 맛집 중앙떡볶이 평소에도 떡볶이를 좋아하는데 이곳은. 백종원 3대천왕에서 소개된 . 체인점이 전혀 없는 여기 하나밖에 없는 더더욱 궁금해 지는. 간식타임 하러 방문하고 . 먹어본 후기 남겨볼께요')]}"
      ]
     },
     "execution_count": 47,
     "metadata": {},
     "output_type": "execute_result"
    }
   ],
   "source": [
    "web_search(state1)"
   ]
  },
  {
   "cell_type": "code",
   "execution_count": 48,
   "metadata": {},
   "outputs": [
    {
     "data": {
      "text/plain": [
       "{'question': '삼성전자가 만든 생성형 AI 이름은?', 'generation': '', 'documents': []}"
      ]
     },
     "execution_count": 48,
     "metadata": {},
     "output_type": "execute_result"
    }
   ],
   "source": [
    "state2 = GraphState(\n",
    "    question='삼성전자가 만든 생성형 AI 이름은?',\n",
    "    generation = '', \n",
    "    documents = []\n",
    ")\n",
    "\n",
    "state2"
   ]
  },
  {
   "cell_type": "code",
   "execution_count": 49,
   "metadata": {},
   "outputs": [
    {
     "name": "stdout",
     "output_type": "stream",
     "text": [
      "\n",
      "==========================================================================================\n",
      "🔄 [Node] 질문 라우팅 노드 🔄\n",
      "==== [ROUTE QUESTION TO VECTORSTORE] ====\n",
      "==========================================================================================\n",
      "\n"
     ]
    },
    {
     "data": {
      "text/plain": [
       "'vectorstore'"
      ]
     },
     "execution_count": 49,
     "metadata": {},
     "output_type": "execute_result"
    }
   ],
   "source": [
    "route_question(state2)"
   ]
  },
  {
   "cell_type": "code",
   "execution_count": 50,
   "metadata": {},
   "outputs": [
    {
     "name": "stdout",
     "output_type": "stream",
     "text": [
      "\n",
      "==========================================================================================\n",
      "🔄 [Node] 문서 검색 노드 🔄\n",
      "문서 검색 결과: \n",
      "-------------------\n",
      "[Document(id='2be8b6fb-b31a-4729-b392-22770b9a366f', metadata={'source': 'data/SPRI_AI_Brief_2023년12월호_F.pdf', 'file_path': 'data/SPRI_AI_Brief_2023년12월호_F.pdf', 'page': 1, 'total_pages': 23, 'Author': 'dj', 'Creator': 'Hwp 2018 10.0.0.13462', 'Producer': 'Hancom PDF 1.3.0.542', 'CreationDate': \"D:20231208132838+09'00'\", 'ModDate': \"D:20231208132838+09'00'\", 'PDFVersion': '1.4'}, page_content='▹ 삼성전자, 자체 개발 생성 AI ‘삼성 가우스’ 공개 ···························································10\\n▹ 구글, 앤스로픽에 20억 달러 투자로 생성 AI 협력 강화 ················································11\\n▹ IDC, 2027년 AI 소프트웨어 매출 2,500억 달러 돌파 전망···········································12'), Document(id='e0c2c7c1-ce9f-4f28-9dad-049e0a0bb529', metadata={'source': 'data/SPRI_AI_Brief_2023년12월호_F.pdf', 'file_path': 'data/SPRI_AI_Brief_2023년12월호_F.pdf', 'page': 12, 'total_pages': 23, 'Author': 'dj', 'Creator': 'Hwp 2018 10.0.0.13462', 'Producer': 'Hancom PDF 1.3.0.542', 'CreationDate': \"D:20231208132838+09'00'\", 'ModDate': \"D:20231208132838+09'00'\", 'PDFVersion': '1.4'}, page_content='SPRi AI Brief |\\n2023-12월호\\n삼성전자, 자체 개발 생성 AI ‘삼성 가우스’ 공개\\nKEY Contents\\nn 삼성전자가 온디바이스에서 작동 가능하며 언어, 코드, 이미지의 3개 모델로 구성된 자체 개발 생성\\nAI 모델 ‘삼성 가우스’를 공개\\nn 삼성전자는 삼성 가우스를 다양한 제품에 단계적으로 탑재할 계획으로, 온디바이스 작동이 가능한\\n삼성 가우스는 외부로 사용자 정보가 유출될 위험이 없다는 장점을 보유\\n£언어, 코드, 이미지의 3개 모델로 구성된 삼성 가우스, 온디바이스 작동 지원'), Document(id='6924b616-aa84-4b6a-a4b5-b93ad942e9ee', metadata={'source': 'data/SPRI_AI_Brief_2023년12월호_F.pdf', 'file_path': 'data/SPRI_AI_Brief_2023년12월호_F.pdf', 'page': 12, 'total_pages': 23, 'Author': 'dj', 'Creator': 'Hwp 2018 10.0.0.13462', 'Producer': 'Hancom PDF 1.3.0.542', 'CreationDate': \"D:20231208132838+09'00'\", 'ModDate': \"D:20231208132838+09'00'\", 'PDFVersion': '1.4'}, page_content='£언어, 코드, 이미지의 3개 모델로 구성된 삼성 가우스, 온디바이스 작동 지원\\nn 삼성전자가 2023년 11월 8일 열린 ‘삼성 AI 포럼 2023’ 행사에서 자체 개발한 생성 AI 모델\\n‘삼성 가우스’를 최초 공개\\n∙ 정규분포 이론을 정립한 천재 수학자 가우스(Gauss)의 이름을 본뜬 삼성 가우스는 다양한 상황에\\n최적화된 크기의 모델 선택이 가능\\n∙ 삼성 가우스는 라이선스나 개인정보를 침해하지 않는 안전한 데이터를 통해 학습되었으며,\\n온디바이스에서 작동하도록 설계되어 외부로 사용자의 정보가 유출되지 않는 장점을 보유'), Document(id='a75f7e74-6ff4-4c59-8b99-f2e02ce228dd', metadata={'source': 'data/SPRI_AI_Brief_2023년12월호_F.pdf', 'file_path': 'data/SPRI_AI_Brief_2023년12월호_F.pdf', 'page': 12, 'total_pages': 23, 'Author': 'dj', 'Creator': 'Hwp 2018 10.0.0.13462', 'Producer': 'Hancom PDF 1.3.0.542', 'CreationDate': \"D:20231208132838+09'00'\", 'ModDate': \"D:20231208132838+09'00'\", 'PDFVersion': '1.4'}, page_content='어시스턴트를 적용한 구글 픽셀(Pixel)과 경쟁할 것으로 예상\\n☞ 출처 : 삼성전자, ‘삼성 AI 포럼’서 자체 개발 생성형 AI ‘삼성 가우스’ 공개, 2023.11.08.\\n삼성전자, ‘삼성 개발자 콘퍼런스 코리아 2023’ 개최, 2023.11.14.\\nTechRepublic, Samsung Gauss: Samsung Research Reveals Generative AI, 2023.11.08.\\n10'), Document(id='340ab211-d8c8-40c4-a4b5-85321a078668', metadata={'source': 'data/SPRI_AI_Brief_2023년12월호_F.pdf', 'file_path': 'data/SPRI_AI_Brief_2023년12월호_F.pdf', 'page': 18, 'total_pages': 23, 'Author': 'dj', 'Creator': 'Hwp 2018 10.0.0.13462', 'Producer': 'Hancom PDF 1.3.0.542', 'CreationDate': \"D:20231208132838+09'00'\", 'ModDate': \"D:20231208132838+09'00'\", 'PDFVersion': '1.4'}, page_content='<구글 딥마인드의 범용 AI 분류 프레임워크>\\n성능 특수 AI 예시 범용 AI 예시\\n0단계: AI 아님 계산기 소프트웨어, 컴파일러 아마존 메커니컬 터크\\n1단계: 신진(숙련되지 않은 인간) GOFAI(Good Old Fashioned Artificial Intelligence) 챗GPT, 바드, 라마2\\n스마트 스피커(애플 시리, 아마존 알렉사, 구글\\n2단계: 유능(숙련된 인간의 50% 이상) 미달성\\n어시스턴트), IBM 왓슨\\n3단계: 전문가(숙련된 인간의 90% 이상) 문법 교정기(그래머리), 생성 이미지 모델(달리2) 미달성'), Document(id='b7051f97-42d5-4f66-9da7-249639b8d9cd', metadata={'source': 'data/SPRI_AI_Brief_2023년12월호_F.pdf', 'file_path': 'data/SPRI_AI_Brief_2023년12월호_F.pdf', 'page': 12, 'total_pages': 23, 'Author': 'dj', 'Creator': 'Hwp 2018 10.0.0.13462', 'Producer': 'Hancom PDF 1.3.0.542', 'CreationDate': \"D:20231208132838+09'00'\", 'ModDate': \"D:20231208132838+09'00'\", 'PDFVersion': '1.4'}, page_content='처리를 지원\\n∙ 코드 모델 기반의 AI 코딩 어시스턴트 ‘코드아이(code.i)’는 대화형 인터페이스로 서비스를 제공하며\\n사내 소프트웨어 개발에 최적화\\n∙ 이미지 모델은 창의적인 이미지를 생성하고 기존 이미지를 원하는 대로 바꿀 수 있도록 지원하며\\n저해상도 이미지의 고해상도 전환도 지원\\nn IT 전문지 테크리퍼블릭(TechRepublic)은 온디바이스 AI가 주요 기술 트렌드로 부상했다며,\\n2024년부터 가우스를 탑재한 삼성 스마트폰이 메타의 라마(Llama)2를 탑재한 퀄컴 기기 및 구글'), Document(id='6ac9fa9b-f6eb-44aa-9823-cd539361545e', metadata={'source': 'data/SPRI_AI_Brief_2023년12월호_F.pdf', 'file_path': 'data/SPRI_AI_Brief_2023년12월호_F.pdf', 'page': 12, 'total_pages': 23, 'Author': 'dj', 'Creator': 'Hwp 2018 10.0.0.13462', 'Producer': 'Hancom PDF 1.3.0.542', 'CreationDate': \"D:20231208132838+09'00'\", 'ModDate': \"D:20231208132838+09'00'\", 'PDFVersion': '1.4'}, page_content='온디바이스에서 작동하도록 설계되어 외부로 사용자의 정보가 유출되지 않는 장점을 보유\\n∙ 삼성전자는 삼성 가우스를 활용한 온디바이스 AI 기술도 소개했으며, 생성 AI 모델을 다양한 제품에\\n단계적으로 탑재할 계획\\nn 삼성 가우스는 △텍스트를 생성하는 언어모델 △코드를 생성하는 코드 모델 △이미지를 생성하는\\n이미지 모델의 3개 모델로 구성\\n∙ 언어 모델은 클라우드와 온디바이스 대상 다양한 모델로 구성되며, 메일 작성, 문서 요약, 번역 업무의\\n처리를 지원'), Document(id='3961e8a3-52a5-4089-a800-ea62522c9a0f', metadata={'source': 'data/SPRI_AI_Brief_2023년12월호_F.pdf', 'file_path': 'data/SPRI_AI_Brief_2023년12월호_F.pdf', 'page': 11, 'total_pages': 23, 'Author': 'dj', 'Creator': 'Hwp 2018 10.0.0.13462', 'Producer': 'Hancom PDF 1.3.0.542', 'CreationDate': \"D:20231208132838+09'00'\", 'ModDate': \"D:20231208132838+09'00'\", 'PDFVersion': '1.4'}, page_content='제작을 포함\\nn 알리바바 클라우드는 급증하는 생성 AI 수요에 대응해 모델 개발과 애플리케이션 구축 절차를\\n간소화하는 올인원 AI 모델 구축 플랫폼 ‘젠AI(GenAI)’도 공개\\n∙ 이 플랫폼은 데이터 관리, 모델 배포와 평가, 신속한 엔지니어링을 위한 종합 도구 모음을 제공하여\\n다양한 기업들이 맞춤형 AI 모델을 한층 쉽게 개발할 수 있도록 지원\\n∙ 생성 AI 개발에 필요한 컴퓨팅과 데이터 처리 요구사항을 지원하기 위해 AI 플랫폼(PAI),\\n데이터베이스 솔루션, 컨테이너 서비스와 같은 클라우드 신제품도 발표'), Document(id='8343f4be-2f05-4dec-af17-f8ae6657c39d', metadata={'source': 'data/SPRI_AI_Brief_2023년12월호_F.pdf', 'file_path': 'data/SPRI_AI_Brief_2023년12월호_F.pdf', 'page': 1, 'total_pages': 23, 'Author': 'dj', 'Creator': 'Hwp 2018 10.0.0.13462', 'Producer': 'Hancom PDF 1.3.0.542', 'CreationDate': \"D:20231208132838+09'00'\", 'ModDate': \"D:20231208132838+09'00'\", 'PDFVersion': '1.4'}, page_content='▹ 빌 게이츠, AI 에이전트로 인한 컴퓨터 사용의 패러다임 변화 전망································13\\n▹ 유튜브, 2024년부터 AI 생성 콘텐츠 표시 의무화····························································14\\n3. 기술/연구\\n▹ 영국 과학혁신기술부, AI 안전 연구소 설립 발표······························································15'), Document(id='88879b05-2345-4264-9ae9-6035f506f068', metadata={'source': 'data/SPRI_AI_Brief_2023년12월호_F.pdf', 'file_path': 'data/SPRI_AI_Brief_2023년12월호_F.pdf', 'page': 7, 'total_pages': 23, 'Author': 'dj', 'Creator': 'Hwp 2018 10.0.0.13462', 'Producer': 'Hancom PDF 1.3.0.542', 'CreationDate': \"D:20231208132838+09'00'\", 'ModDate': \"D:20231208132838+09'00'\", 'PDFVersion': '1.4'}, page_content='만들었다고 오해할 소지가 있다고 지적\\n∙ 저작권법에 저촉되는 행위는 불공정 경쟁이나 기만행위에도 해당될 수 있으며, 창작자의 평판 악화,\\n저작물의 가치 저하나 개인정보 유출로 소비자에 상당한 피해를 초래 가능\\nn FTC는 일부 빅테크가 막대한 재원을 활용해 생성 AI 사용자의 이탈을 막고 저작권이 있는 상용\\n데이터에 대한 독점 라이선스를 확보해 시장 지배력을 더욱 강화할 수 있다는 우려도 제기\\n∙ 이와 관련 FTC는 아마존 AI 비서 ‘알렉사(Alexa)’와 스마트홈 보안 기기 ‘링(Ring)’이 소비자의 사적')]\n",
      "-------------------\n",
      "==========================================================================================\n",
      "\n"
     ]
    }
   ],
   "source": [
    "answer = retrieve(state2)                        # 사용자 질문에 대해서 관련 문서를 검색한다.\n",
    "state2['documents'] = answer['documents']"
   ]
  },
  {
   "cell_type": "code",
   "execution_count": 51,
   "metadata": {},
   "outputs": [
    {
     "data": {
      "text/plain": [
       "{'question': '삼성전자가 만든 생성형 AI 이름은?',\n",
       " 'generation': '',\n",
       " 'documents': [Document(id='2be8b6fb-b31a-4729-b392-22770b9a366f', metadata={'source': 'data/SPRI_AI_Brief_2023년12월호_F.pdf', 'file_path': 'data/SPRI_AI_Brief_2023년12월호_F.pdf', 'page': 1, 'total_pages': 23, 'Author': 'dj', 'Creator': 'Hwp 2018 10.0.0.13462', 'Producer': 'Hancom PDF 1.3.0.542', 'CreationDate': \"D:20231208132838+09'00'\", 'ModDate': \"D:20231208132838+09'00'\", 'PDFVersion': '1.4'}, page_content='▹ 삼성전자, 자체 개발 생성 AI ‘삼성 가우스’ 공개 ···························································10\\n▹ 구글, 앤스로픽에 20억 달러 투자로 생성 AI 협력 강화 ················································11\\n▹ IDC, 2027년 AI 소프트웨어 매출 2,500억 달러 돌파 전망···········································12'),\n",
       "  Document(id='e0c2c7c1-ce9f-4f28-9dad-049e0a0bb529', metadata={'source': 'data/SPRI_AI_Brief_2023년12월호_F.pdf', 'file_path': 'data/SPRI_AI_Brief_2023년12월호_F.pdf', 'page': 12, 'total_pages': 23, 'Author': 'dj', 'Creator': 'Hwp 2018 10.0.0.13462', 'Producer': 'Hancom PDF 1.3.0.542', 'CreationDate': \"D:20231208132838+09'00'\", 'ModDate': \"D:20231208132838+09'00'\", 'PDFVersion': '1.4'}, page_content='SPRi AI Brief |\\n2023-12월호\\n삼성전자, 자체 개발 생성 AI ‘삼성 가우스’ 공개\\nKEY Contents\\nn 삼성전자가 온디바이스에서 작동 가능하며 언어, 코드, 이미지의 3개 모델로 구성된 자체 개발 생성\\nAI 모델 ‘삼성 가우스’를 공개\\nn 삼성전자는 삼성 가우스를 다양한 제품에 단계적으로 탑재할 계획으로, 온디바이스 작동이 가능한\\n삼성 가우스는 외부로 사용자 정보가 유출될 위험이 없다는 장점을 보유\\n£언어, 코드, 이미지의 3개 모델로 구성된 삼성 가우스, 온디바이스 작동 지원'),\n",
       "  Document(id='6924b616-aa84-4b6a-a4b5-b93ad942e9ee', metadata={'source': 'data/SPRI_AI_Brief_2023년12월호_F.pdf', 'file_path': 'data/SPRI_AI_Brief_2023년12월호_F.pdf', 'page': 12, 'total_pages': 23, 'Author': 'dj', 'Creator': 'Hwp 2018 10.0.0.13462', 'Producer': 'Hancom PDF 1.3.0.542', 'CreationDate': \"D:20231208132838+09'00'\", 'ModDate': \"D:20231208132838+09'00'\", 'PDFVersion': '1.4'}, page_content='£언어, 코드, 이미지의 3개 모델로 구성된 삼성 가우스, 온디바이스 작동 지원\\nn 삼성전자가 2023년 11월 8일 열린 ‘삼성 AI 포럼 2023’ 행사에서 자체 개발한 생성 AI 모델\\n‘삼성 가우스’를 최초 공개\\n∙ 정규분포 이론을 정립한 천재 수학자 가우스(Gauss)의 이름을 본뜬 삼성 가우스는 다양한 상황에\\n최적화된 크기의 모델 선택이 가능\\n∙ 삼성 가우스는 라이선스나 개인정보를 침해하지 않는 안전한 데이터를 통해 학습되었으며,\\n온디바이스에서 작동하도록 설계되어 외부로 사용자의 정보가 유출되지 않는 장점을 보유'),\n",
       "  Document(id='a75f7e74-6ff4-4c59-8b99-f2e02ce228dd', metadata={'source': 'data/SPRI_AI_Brief_2023년12월호_F.pdf', 'file_path': 'data/SPRI_AI_Brief_2023년12월호_F.pdf', 'page': 12, 'total_pages': 23, 'Author': 'dj', 'Creator': 'Hwp 2018 10.0.0.13462', 'Producer': 'Hancom PDF 1.3.0.542', 'CreationDate': \"D:20231208132838+09'00'\", 'ModDate': \"D:20231208132838+09'00'\", 'PDFVersion': '1.4'}, page_content='어시스턴트를 적용한 구글 픽셀(Pixel)과 경쟁할 것으로 예상\\n☞ 출처 : 삼성전자, ‘삼성 AI 포럼’서 자체 개발 생성형 AI ‘삼성 가우스’ 공개, 2023.11.08.\\n삼성전자, ‘삼성 개발자 콘퍼런스 코리아 2023’ 개최, 2023.11.14.\\nTechRepublic, Samsung Gauss: Samsung Research Reveals Generative AI, 2023.11.08.\\n10'),\n",
       "  Document(id='340ab211-d8c8-40c4-a4b5-85321a078668', metadata={'source': 'data/SPRI_AI_Brief_2023년12월호_F.pdf', 'file_path': 'data/SPRI_AI_Brief_2023년12월호_F.pdf', 'page': 18, 'total_pages': 23, 'Author': 'dj', 'Creator': 'Hwp 2018 10.0.0.13462', 'Producer': 'Hancom PDF 1.3.0.542', 'CreationDate': \"D:20231208132838+09'00'\", 'ModDate': \"D:20231208132838+09'00'\", 'PDFVersion': '1.4'}, page_content='<구글 딥마인드의 범용 AI 분류 프레임워크>\\n성능 특수 AI 예시 범용 AI 예시\\n0단계: AI 아님 계산기 소프트웨어, 컴파일러 아마존 메커니컬 터크\\n1단계: 신진(숙련되지 않은 인간) GOFAI(Good Old Fashioned Artificial Intelligence) 챗GPT, 바드, 라마2\\n스마트 스피커(애플 시리, 아마존 알렉사, 구글\\n2단계: 유능(숙련된 인간의 50% 이상) 미달성\\n어시스턴트), IBM 왓슨\\n3단계: 전문가(숙련된 인간의 90% 이상) 문법 교정기(그래머리), 생성 이미지 모델(달리2) 미달성'),\n",
       "  Document(id='b7051f97-42d5-4f66-9da7-249639b8d9cd', metadata={'source': 'data/SPRI_AI_Brief_2023년12월호_F.pdf', 'file_path': 'data/SPRI_AI_Brief_2023년12월호_F.pdf', 'page': 12, 'total_pages': 23, 'Author': 'dj', 'Creator': 'Hwp 2018 10.0.0.13462', 'Producer': 'Hancom PDF 1.3.0.542', 'CreationDate': \"D:20231208132838+09'00'\", 'ModDate': \"D:20231208132838+09'00'\", 'PDFVersion': '1.4'}, page_content='처리를 지원\\n∙ 코드 모델 기반의 AI 코딩 어시스턴트 ‘코드아이(code.i)’는 대화형 인터페이스로 서비스를 제공하며\\n사내 소프트웨어 개발에 최적화\\n∙ 이미지 모델은 창의적인 이미지를 생성하고 기존 이미지를 원하는 대로 바꿀 수 있도록 지원하며\\n저해상도 이미지의 고해상도 전환도 지원\\nn IT 전문지 테크리퍼블릭(TechRepublic)은 온디바이스 AI가 주요 기술 트렌드로 부상했다며,\\n2024년부터 가우스를 탑재한 삼성 스마트폰이 메타의 라마(Llama)2를 탑재한 퀄컴 기기 및 구글'),\n",
       "  Document(id='6ac9fa9b-f6eb-44aa-9823-cd539361545e', metadata={'source': 'data/SPRI_AI_Brief_2023년12월호_F.pdf', 'file_path': 'data/SPRI_AI_Brief_2023년12월호_F.pdf', 'page': 12, 'total_pages': 23, 'Author': 'dj', 'Creator': 'Hwp 2018 10.0.0.13462', 'Producer': 'Hancom PDF 1.3.0.542', 'CreationDate': \"D:20231208132838+09'00'\", 'ModDate': \"D:20231208132838+09'00'\", 'PDFVersion': '1.4'}, page_content='온디바이스에서 작동하도록 설계되어 외부로 사용자의 정보가 유출되지 않는 장점을 보유\\n∙ 삼성전자는 삼성 가우스를 활용한 온디바이스 AI 기술도 소개했으며, 생성 AI 모델을 다양한 제품에\\n단계적으로 탑재할 계획\\nn 삼성 가우스는 △텍스트를 생성하는 언어모델 △코드를 생성하는 코드 모델 △이미지를 생성하는\\n이미지 모델의 3개 모델로 구성\\n∙ 언어 모델은 클라우드와 온디바이스 대상 다양한 모델로 구성되며, 메일 작성, 문서 요약, 번역 업무의\\n처리를 지원'),\n",
       "  Document(id='3961e8a3-52a5-4089-a800-ea62522c9a0f', metadata={'source': 'data/SPRI_AI_Brief_2023년12월호_F.pdf', 'file_path': 'data/SPRI_AI_Brief_2023년12월호_F.pdf', 'page': 11, 'total_pages': 23, 'Author': 'dj', 'Creator': 'Hwp 2018 10.0.0.13462', 'Producer': 'Hancom PDF 1.3.0.542', 'CreationDate': \"D:20231208132838+09'00'\", 'ModDate': \"D:20231208132838+09'00'\", 'PDFVersion': '1.4'}, page_content='제작을 포함\\nn 알리바바 클라우드는 급증하는 생성 AI 수요에 대응해 모델 개발과 애플리케이션 구축 절차를\\n간소화하는 올인원 AI 모델 구축 플랫폼 ‘젠AI(GenAI)’도 공개\\n∙ 이 플랫폼은 데이터 관리, 모델 배포와 평가, 신속한 엔지니어링을 위한 종합 도구 모음을 제공하여\\n다양한 기업들이 맞춤형 AI 모델을 한층 쉽게 개발할 수 있도록 지원\\n∙ 생성 AI 개발에 필요한 컴퓨팅과 데이터 처리 요구사항을 지원하기 위해 AI 플랫폼(PAI),\\n데이터베이스 솔루션, 컨테이너 서비스와 같은 클라우드 신제품도 발표'),\n",
       "  Document(id='8343f4be-2f05-4dec-af17-f8ae6657c39d', metadata={'source': 'data/SPRI_AI_Brief_2023년12월호_F.pdf', 'file_path': 'data/SPRI_AI_Brief_2023년12월호_F.pdf', 'page': 1, 'total_pages': 23, 'Author': 'dj', 'Creator': 'Hwp 2018 10.0.0.13462', 'Producer': 'Hancom PDF 1.3.0.542', 'CreationDate': \"D:20231208132838+09'00'\", 'ModDate': \"D:20231208132838+09'00'\", 'PDFVersion': '1.4'}, page_content='▹ 빌 게이츠, AI 에이전트로 인한 컴퓨터 사용의 패러다임 변화 전망································13\\n▹ 유튜브, 2024년부터 AI 생성 콘텐츠 표시 의무화····························································14\\n3. 기술/연구\\n▹ 영국 과학혁신기술부, AI 안전 연구소 설립 발표······························································15'),\n",
       "  Document(id='88879b05-2345-4264-9ae9-6035f506f068', metadata={'source': 'data/SPRI_AI_Brief_2023년12월호_F.pdf', 'file_path': 'data/SPRI_AI_Brief_2023년12월호_F.pdf', 'page': 7, 'total_pages': 23, 'Author': 'dj', 'Creator': 'Hwp 2018 10.0.0.13462', 'Producer': 'Hancom PDF 1.3.0.542', 'CreationDate': \"D:20231208132838+09'00'\", 'ModDate': \"D:20231208132838+09'00'\", 'PDFVersion': '1.4'}, page_content='만들었다고 오해할 소지가 있다고 지적\\n∙ 저작권법에 저촉되는 행위는 불공정 경쟁이나 기만행위에도 해당될 수 있으며, 창작자의 평판 악화,\\n저작물의 가치 저하나 개인정보 유출로 소비자에 상당한 피해를 초래 가능\\nn FTC는 일부 빅테크가 막대한 재원을 활용해 생성 AI 사용자의 이탈을 막고 저작권이 있는 상용\\n데이터에 대한 독점 라이선스를 확보해 시장 지배력을 더욱 강화할 수 있다는 우려도 제기\\n∙ 이와 관련 FTC는 아마존 AI 비서 ‘알렉사(Alexa)’와 스마트홈 보안 기기 ‘링(Ring)’이 소비자의 사적')]}"
      ]
     },
     "execution_count": 51,
     "metadata": {},
     "output_type": "execute_result"
    }
   ],
   "source": [
    "state2"
   ]
  },
  {
   "cell_type": "code",
   "execution_count": 52,
   "metadata": {},
   "outputs": [
    {
     "name": "stdout",
     "output_type": "stream",
     "text": [
      "\n",
      "==========================================================================================\n",
      "🔄 [Node] 문서 검색 결과와 질문 관련성 평가 노드 🔄\n",
      "---GRADE: DOCUMENT RELEVANT---\n",
      "---GRADE: DOCUMENT RELEVANT---\n",
      "---GRADE: DOCUMENT RELEVANT---\n",
      "---GRADE: DOCUMENT RELEVANT---\n",
      "---GRADE: DOCUMENT NOT RELEVANT---\n",
      "---GRADE: DOCUMENT RELEVANT---\n",
      "---GRADE: DOCUMENT RELEVANT---\n",
      "---GRADE: DOCUMENT NOT RELEVANT---\n",
      "---GRADE: DOCUMENT NOT RELEVANT---\n",
      "---GRADE: DOCUMENT NOT RELEVANT---\n",
      "==========================================================================================\n",
      "\n"
     ]
    }
   ],
   "source": [
    "state2['documents'] = grade_documents(state2)['documents']"
   ]
  },
  {
   "cell_type": "code",
   "execution_count": 53,
   "metadata": {},
   "outputs": [
    {
     "data": {
      "text/plain": [
       "{'question': '삼성전자가 만든 생성형 AI 이름은?',\n",
       " 'generation': '',\n",
       " 'documents': [Document(id='2be8b6fb-b31a-4729-b392-22770b9a366f', metadata={'source': 'data/SPRI_AI_Brief_2023년12월호_F.pdf', 'file_path': 'data/SPRI_AI_Brief_2023년12월호_F.pdf', 'page': 1, 'total_pages': 23, 'Author': 'dj', 'Creator': 'Hwp 2018 10.0.0.13462', 'Producer': 'Hancom PDF 1.3.0.542', 'CreationDate': \"D:20231208132838+09'00'\", 'ModDate': \"D:20231208132838+09'00'\", 'PDFVersion': '1.4'}, page_content='▹ 삼성전자, 자체 개발 생성 AI ‘삼성 가우스’ 공개 ···························································10\\n▹ 구글, 앤스로픽에 20억 달러 투자로 생성 AI 협력 강화 ················································11\\n▹ IDC, 2027년 AI 소프트웨어 매출 2,500억 달러 돌파 전망···········································12'),\n",
       "  Document(id='e0c2c7c1-ce9f-4f28-9dad-049e0a0bb529', metadata={'source': 'data/SPRI_AI_Brief_2023년12월호_F.pdf', 'file_path': 'data/SPRI_AI_Brief_2023년12월호_F.pdf', 'page': 12, 'total_pages': 23, 'Author': 'dj', 'Creator': 'Hwp 2018 10.0.0.13462', 'Producer': 'Hancom PDF 1.3.0.542', 'CreationDate': \"D:20231208132838+09'00'\", 'ModDate': \"D:20231208132838+09'00'\", 'PDFVersion': '1.4'}, page_content='SPRi AI Brief |\\n2023-12월호\\n삼성전자, 자체 개발 생성 AI ‘삼성 가우스’ 공개\\nKEY Contents\\nn 삼성전자가 온디바이스에서 작동 가능하며 언어, 코드, 이미지의 3개 모델로 구성된 자체 개발 생성\\nAI 모델 ‘삼성 가우스’를 공개\\nn 삼성전자는 삼성 가우스를 다양한 제품에 단계적으로 탑재할 계획으로, 온디바이스 작동이 가능한\\n삼성 가우스는 외부로 사용자 정보가 유출될 위험이 없다는 장점을 보유\\n£언어, 코드, 이미지의 3개 모델로 구성된 삼성 가우스, 온디바이스 작동 지원'),\n",
       "  Document(id='6924b616-aa84-4b6a-a4b5-b93ad942e9ee', metadata={'source': 'data/SPRI_AI_Brief_2023년12월호_F.pdf', 'file_path': 'data/SPRI_AI_Brief_2023년12월호_F.pdf', 'page': 12, 'total_pages': 23, 'Author': 'dj', 'Creator': 'Hwp 2018 10.0.0.13462', 'Producer': 'Hancom PDF 1.3.0.542', 'CreationDate': \"D:20231208132838+09'00'\", 'ModDate': \"D:20231208132838+09'00'\", 'PDFVersion': '1.4'}, page_content='£언어, 코드, 이미지의 3개 모델로 구성된 삼성 가우스, 온디바이스 작동 지원\\nn 삼성전자가 2023년 11월 8일 열린 ‘삼성 AI 포럼 2023’ 행사에서 자체 개발한 생성 AI 모델\\n‘삼성 가우스’를 최초 공개\\n∙ 정규분포 이론을 정립한 천재 수학자 가우스(Gauss)의 이름을 본뜬 삼성 가우스는 다양한 상황에\\n최적화된 크기의 모델 선택이 가능\\n∙ 삼성 가우스는 라이선스나 개인정보를 침해하지 않는 안전한 데이터를 통해 학습되었으며,\\n온디바이스에서 작동하도록 설계되어 외부로 사용자의 정보가 유출되지 않는 장점을 보유'),\n",
       "  Document(id='a75f7e74-6ff4-4c59-8b99-f2e02ce228dd', metadata={'source': 'data/SPRI_AI_Brief_2023년12월호_F.pdf', 'file_path': 'data/SPRI_AI_Brief_2023년12월호_F.pdf', 'page': 12, 'total_pages': 23, 'Author': 'dj', 'Creator': 'Hwp 2018 10.0.0.13462', 'Producer': 'Hancom PDF 1.3.0.542', 'CreationDate': \"D:20231208132838+09'00'\", 'ModDate': \"D:20231208132838+09'00'\", 'PDFVersion': '1.4'}, page_content='어시스턴트를 적용한 구글 픽셀(Pixel)과 경쟁할 것으로 예상\\n☞ 출처 : 삼성전자, ‘삼성 AI 포럼’서 자체 개발 생성형 AI ‘삼성 가우스’ 공개, 2023.11.08.\\n삼성전자, ‘삼성 개발자 콘퍼런스 코리아 2023’ 개최, 2023.11.14.\\nTechRepublic, Samsung Gauss: Samsung Research Reveals Generative AI, 2023.11.08.\\n10'),\n",
       "  Document(id='b7051f97-42d5-4f66-9da7-249639b8d9cd', metadata={'source': 'data/SPRI_AI_Brief_2023년12월호_F.pdf', 'file_path': 'data/SPRI_AI_Brief_2023년12월호_F.pdf', 'page': 12, 'total_pages': 23, 'Author': 'dj', 'Creator': 'Hwp 2018 10.0.0.13462', 'Producer': 'Hancom PDF 1.3.0.542', 'CreationDate': \"D:20231208132838+09'00'\", 'ModDate': \"D:20231208132838+09'00'\", 'PDFVersion': '1.4'}, page_content='처리를 지원\\n∙ 코드 모델 기반의 AI 코딩 어시스턴트 ‘코드아이(code.i)’는 대화형 인터페이스로 서비스를 제공하며\\n사내 소프트웨어 개발에 최적화\\n∙ 이미지 모델은 창의적인 이미지를 생성하고 기존 이미지를 원하는 대로 바꿀 수 있도록 지원하며\\n저해상도 이미지의 고해상도 전환도 지원\\nn IT 전문지 테크리퍼블릭(TechRepublic)은 온디바이스 AI가 주요 기술 트렌드로 부상했다며,\\n2024년부터 가우스를 탑재한 삼성 스마트폰이 메타의 라마(Llama)2를 탑재한 퀄컴 기기 및 구글'),\n",
       "  Document(id='6ac9fa9b-f6eb-44aa-9823-cd539361545e', metadata={'source': 'data/SPRI_AI_Brief_2023년12월호_F.pdf', 'file_path': 'data/SPRI_AI_Brief_2023년12월호_F.pdf', 'page': 12, 'total_pages': 23, 'Author': 'dj', 'Creator': 'Hwp 2018 10.0.0.13462', 'Producer': 'Hancom PDF 1.3.0.542', 'CreationDate': \"D:20231208132838+09'00'\", 'ModDate': \"D:20231208132838+09'00'\", 'PDFVersion': '1.4'}, page_content='온디바이스에서 작동하도록 설계되어 외부로 사용자의 정보가 유출되지 않는 장점을 보유\\n∙ 삼성전자는 삼성 가우스를 활용한 온디바이스 AI 기술도 소개했으며, 생성 AI 모델을 다양한 제품에\\n단계적으로 탑재할 계획\\nn 삼성 가우스는 △텍스트를 생성하는 언어모델 △코드를 생성하는 코드 모델 △이미지를 생성하는\\n이미지 모델의 3개 모델로 구성\\n∙ 언어 모델은 클라우드와 온디바이스 대상 다양한 모델로 구성되며, 메일 작성, 문서 요약, 번역 업무의\\n처리를 지원')]}"
      ]
     },
     "execution_count": 53,
     "metadata": {},
     "output_type": "execute_result"
    }
   ],
   "source": [
    "state2"
   ]
  },
  {
   "cell_type": "code",
   "execution_count": 54,
   "metadata": {},
   "outputs": [
    {
     "data": {
      "text/plain": [
       "{'question': '삼성전자가 만든 생성형 AI 이름은?',\n",
       " 'generation': '',\n",
       " 'documents': [Document(id='2be8b6fb-b31a-4729-b392-22770b9a366f', metadata={'source': 'data/SPRI_AI_Brief_2023년12월호_F.pdf', 'file_path': 'data/SPRI_AI_Brief_2023년12월호_F.pdf', 'page': 1, 'total_pages': 23, 'Author': 'dj', 'Creator': 'Hwp 2018 10.0.0.13462', 'Producer': 'Hancom PDF 1.3.0.542', 'CreationDate': \"D:20231208132838+09'00'\", 'ModDate': \"D:20231208132838+09'00'\", 'PDFVersion': '1.4'}, page_content='▹ 삼성전자, 자체 개발 생성 AI ‘삼성 가우스’ 공개 ···························································10\\n▹ 구글, 앤스로픽에 20억 달러 투자로 생성 AI 협력 강화 ················································11\\n▹ IDC, 2027년 AI 소프트웨어 매출 2,500억 달러 돌파 전망···········································12'),\n",
       "  Document(id='e0c2c7c1-ce9f-4f28-9dad-049e0a0bb529', metadata={'source': 'data/SPRI_AI_Brief_2023년12월호_F.pdf', 'file_path': 'data/SPRI_AI_Brief_2023년12월호_F.pdf', 'page': 12, 'total_pages': 23, 'Author': 'dj', 'Creator': 'Hwp 2018 10.0.0.13462', 'Producer': 'Hancom PDF 1.3.0.542', 'CreationDate': \"D:20231208132838+09'00'\", 'ModDate': \"D:20231208132838+09'00'\", 'PDFVersion': '1.4'}, page_content='SPRi AI Brief |\\n2023-12월호\\n삼성전자, 자체 개발 생성 AI ‘삼성 가우스’ 공개\\nKEY Contents\\nn 삼성전자가 온디바이스에서 작동 가능하며 언어, 코드, 이미지의 3개 모델로 구성된 자체 개발 생성\\nAI 모델 ‘삼성 가우스’를 공개\\nn 삼성전자는 삼성 가우스를 다양한 제품에 단계적으로 탑재할 계획으로, 온디바이스 작동이 가능한\\n삼성 가우스는 외부로 사용자 정보가 유출될 위험이 없다는 장점을 보유\\n£언어, 코드, 이미지의 3개 모델로 구성된 삼성 가우스, 온디바이스 작동 지원'),\n",
       "  Document(id='6924b616-aa84-4b6a-a4b5-b93ad942e9ee', metadata={'source': 'data/SPRI_AI_Brief_2023년12월호_F.pdf', 'file_path': 'data/SPRI_AI_Brief_2023년12월호_F.pdf', 'page': 12, 'total_pages': 23, 'Author': 'dj', 'Creator': 'Hwp 2018 10.0.0.13462', 'Producer': 'Hancom PDF 1.3.0.542', 'CreationDate': \"D:20231208132838+09'00'\", 'ModDate': \"D:20231208132838+09'00'\", 'PDFVersion': '1.4'}, page_content='£언어, 코드, 이미지의 3개 모델로 구성된 삼성 가우스, 온디바이스 작동 지원\\nn 삼성전자가 2023년 11월 8일 열린 ‘삼성 AI 포럼 2023’ 행사에서 자체 개발한 생성 AI 모델\\n‘삼성 가우스’를 최초 공개\\n∙ 정규분포 이론을 정립한 천재 수학자 가우스(Gauss)의 이름을 본뜬 삼성 가우스는 다양한 상황에\\n최적화된 크기의 모델 선택이 가능\\n∙ 삼성 가우스는 라이선스나 개인정보를 침해하지 않는 안전한 데이터를 통해 학습되었으며,\\n온디바이스에서 작동하도록 설계되어 외부로 사용자의 정보가 유출되지 않는 장점을 보유'),\n",
       "  Document(id='a75f7e74-6ff4-4c59-8b99-f2e02ce228dd', metadata={'source': 'data/SPRI_AI_Brief_2023년12월호_F.pdf', 'file_path': 'data/SPRI_AI_Brief_2023년12월호_F.pdf', 'page': 12, 'total_pages': 23, 'Author': 'dj', 'Creator': 'Hwp 2018 10.0.0.13462', 'Producer': 'Hancom PDF 1.3.0.542', 'CreationDate': \"D:20231208132838+09'00'\", 'ModDate': \"D:20231208132838+09'00'\", 'PDFVersion': '1.4'}, page_content='어시스턴트를 적용한 구글 픽셀(Pixel)과 경쟁할 것으로 예상\\n☞ 출처 : 삼성전자, ‘삼성 AI 포럼’서 자체 개발 생성형 AI ‘삼성 가우스’ 공개, 2023.11.08.\\n삼성전자, ‘삼성 개발자 콘퍼런스 코리아 2023’ 개최, 2023.11.14.\\nTechRepublic, Samsung Gauss: Samsung Research Reveals Generative AI, 2023.11.08.\\n10'),\n",
       "  Document(id='b7051f97-42d5-4f66-9da7-249639b8d9cd', metadata={'source': 'data/SPRI_AI_Brief_2023년12월호_F.pdf', 'file_path': 'data/SPRI_AI_Brief_2023년12월호_F.pdf', 'page': 12, 'total_pages': 23, 'Author': 'dj', 'Creator': 'Hwp 2018 10.0.0.13462', 'Producer': 'Hancom PDF 1.3.0.542', 'CreationDate': \"D:20231208132838+09'00'\", 'ModDate': \"D:20231208132838+09'00'\", 'PDFVersion': '1.4'}, page_content='처리를 지원\\n∙ 코드 모델 기반의 AI 코딩 어시스턴트 ‘코드아이(code.i)’는 대화형 인터페이스로 서비스를 제공하며\\n사내 소프트웨어 개발에 최적화\\n∙ 이미지 모델은 창의적인 이미지를 생성하고 기존 이미지를 원하는 대로 바꿀 수 있도록 지원하며\\n저해상도 이미지의 고해상도 전환도 지원\\nn IT 전문지 테크리퍼블릭(TechRepublic)은 온디바이스 AI가 주요 기술 트렌드로 부상했다며,\\n2024년부터 가우스를 탑재한 삼성 스마트폰이 메타의 라마(Llama)2를 탑재한 퀄컴 기기 및 구글'),\n",
       "  Document(id='6ac9fa9b-f6eb-44aa-9823-cd539361545e', metadata={'source': 'data/SPRI_AI_Brief_2023년12월호_F.pdf', 'file_path': 'data/SPRI_AI_Brief_2023년12월호_F.pdf', 'page': 12, 'total_pages': 23, 'Author': 'dj', 'Creator': 'Hwp 2018 10.0.0.13462', 'Producer': 'Hancom PDF 1.3.0.542', 'CreationDate': \"D:20231208132838+09'00'\", 'ModDate': \"D:20231208132838+09'00'\", 'PDFVersion': '1.4'}, page_content='온디바이스에서 작동하도록 설계되어 외부로 사용자의 정보가 유출되지 않는 장점을 보유\\n∙ 삼성전자는 삼성 가우스를 활용한 온디바이스 AI 기술도 소개했으며, 생성 AI 모델을 다양한 제품에\\n단계적으로 탑재할 계획\\nn 삼성 가우스는 △텍스트를 생성하는 언어모델 △코드를 생성하는 코드 모델 △이미지를 생성하는\\n이미지 모델의 3개 모델로 구성\\n∙ 언어 모델은 클라우드와 온디바이스 대상 다양한 모델로 구성되며, 메일 작성, 문서 요약, 번역 업무의\\n처리를 지원')]}"
      ]
     },
     "execution_count": 54,
     "metadata": {},
     "output_type": "execute_result"
    }
   ],
   "source": [
    "state2"
   ]
  },
  {
   "cell_type": "code",
   "execution_count": 55,
   "metadata": {},
   "outputs": [
    {
     "name": "stdout",
     "output_type": "stream",
     "text": [
      "\n",
      "==========================================================================================\n",
      "🔄 [Node] 문서 검색 결과와 질문 관련성 평가 노드 🔄\n",
      "---GRADE: DOCUMENT RELEVANT---\n",
      "---GRADE: DOCUMENT RELEVANT---\n",
      "---GRADE: DOCUMENT RELEVANT---\n",
      "---GRADE: DOCUMENT RELEVANT---\n",
      "---GRADE: DOCUMENT RELEVANT---\n",
      "---GRADE: DOCUMENT RELEVANT---\n",
      "==========================================================================================\n",
      "\n"
     ]
    }
   ],
   "source": [
    "state2['documents'] = grade_documents(state2)['documents']"
   ]
  },
  {
   "cell_type": "code",
   "execution_count": 56,
   "metadata": {},
   "outputs": [
    {
     "data": {
      "text/plain": [
       "{'question': '삼성전자가 만든 생성형 AI 이름은?',\n",
       " 'generation': '',\n",
       " 'documents': [Document(id='2be8b6fb-b31a-4729-b392-22770b9a366f', metadata={'source': 'data/SPRI_AI_Brief_2023년12월호_F.pdf', 'file_path': 'data/SPRI_AI_Brief_2023년12월호_F.pdf', 'page': 1, 'total_pages': 23, 'Author': 'dj', 'Creator': 'Hwp 2018 10.0.0.13462', 'Producer': 'Hancom PDF 1.3.0.542', 'CreationDate': \"D:20231208132838+09'00'\", 'ModDate': \"D:20231208132838+09'00'\", 'PDFVersion': '1.4'}, page_content='▹ 삼성전자, 자체 개발 생성 AI ‘삼성 가우스’ 공개 ···························································10\\n▹ 구글, 앤스로픽에 20억 달러 투자로 생성 AI 협력 강화 ················································11\\n▹ IDC, 2027년 AI 소프트웨어 매출 2,500억 달러 돌파 전망···········································12'),\n",
       "  Document(id='e0c2c7c1-ce9f-4f28-9dad-049e0a0bb529', metadata={'source': 'data/SPRI_AI_Brief_2023년12월호_F.pdf', 'file_path': 'data/SPRI_AI_Brief_2023년12월호_F.pdf', 'page': 12, 'total_pages': 23, 'Author': 'dj', 'Creator': 'Hwp 2018 10.0.0.13462', 'Producer': 'Hancom PDF 1.3.0.542', 'CreationDate': \"D:20231208132838+09'00'\", 'ModDate': \"D:20231208132838+09'00'\", 'PDFVersion': '1.4'}, page_content='SPRi AI Brief |\\n2023-12월호\\n삼성전자, 자체 개발 생성 AI ‘삼성 가우스’ 공개\\nKEY Contents\\nn 삼성전자가 온디바이스에서 작동 가능하며 언어, 코드, 이미지의 3개 모델로 구성된 자체 개발 생성\\nAI 모델 ‘삼성 가우스’를 공개\\nn 삼성전자는 삼성 가우스를 다양한 제품에 단계적으로 탑재할 계획으로, 온디바이스 작동이 가능한\\n삼성 가우스는 외부로 사용자 정보가 유출될 위험이 없다는 장점을 보유\\n£언어, 코드, 이미지의 3개 모델로 구성된 삼성 가우스, 온디바이스 작동 지원'),\n",
       "  Document(id='6924b616-aa84-4b6a-a4b5-b93ad942e9ee', metadata={'source': 'data/SPRI_AI_Brief_2023년12월호_F.pdf', 'file_path': 'data/SPRI_AI_Brief_2023년12월호_F.pdf', 'page': 12, 'total_pages': 23, 'Author': 'dj', 'Creator': 'Hwp 2018 10.0.0.13462', 'Producer': 'Hancom PDF 1.3.0.542', 'CreationDate': \"D:20231208132838+09'00'\", 'ModDate': \"D:20231208132838+09'00'\", 'PDFVersion': '1.4'}, page_content='£언어, 코드, 이미지의 3개 모델로 구성된 삼성 가우스, 온디바이스 작동 지원\\nn 삼성전자가 2023년 11월 8일 열린 ‘삼성 AI 포럼 2023’ 행사에서 자체 개발한 생성 AI 모델\\n‘삼성 가우스’를 최초 공개\\n∙ 정규분포 이론을 정립한 천재 수학자 가우스(Gauss)의 이름을 본뜬 삼성 가우스는 다양한 상황에\\n최적화된 크기의 모델 선택이 가능\\n∙ 삼성 가우스는 라이선스나 개인정보를 침해하지 않는 안전한 데이터를 통해 학습되었으며,\\n온디바이스에서 작동하도록 설계되어 외부로 사용자의 정보가 유출되지 않는 장점을 보유'),\n",
       "  Document(id='a75f7e74-6ff4-4c59-8b99-f2e02ce228dd', metadata={'source': 'data/SPRI_AI_Brief_2023년12월호_F.pdf', 'file_path': 'data/SPRI_AI_Brief_2023년12월호_F.pdf', 'page': 12, 'total_pages': 23, 'Author': 'dj', 'Creator': 'Hwp 2018 10.0.0.13462', 'Producer': 'Hancom PDF 1.3.0.542', 'CreationDate': \"D:20231208132838+09'00'\", 'ModDate': \"D:20231208132838+09'00'\", 'PDFVersion': '1.4'}, page_content='어시스턴트를 적용한 구글 픽셀(Pixel)과 경쟁할 것으로 예상\\n☞ 출처 : 삼성전자, ‘삼성 AI 포럼’서 자체 개발 생성형 AI ‘삼성 가우스’ 공개, 2023.11.08.\\n삼성전자, ‘삼성 개발자 콘퍼런스 코리아 2023’ 개최, 2023.11.14.\\nTechRepublic, Samsung Gauss: Samsung Research Reveals Generative AI, 2023.11.08.\\n10'),\n",
       "  Document(id='b7051f97-42d5-4f66-9da7-249639b8d9cd', metadata={'source': 'data/SPRI_AI_Brief_2023년12월호_F.pdf', 'file_path': 'data/SPRI_AI_Brief_2023년12월호_F.pdf', 'page': 12, 'total_pages': 23, 'Author': 'dj', 'Creator': 'Hwp 2018 10.0.0.13462', 'Producer': 'Hancom PDF 1.3.0.542', 'CreationDate': \"D:20231208132838+09'00'\", 'ModDate': \"D:20231208132838+09'00'\", 'PDFVersion': '1.4'}, page_content='처리를 지원\\n∙ 코드 모델 기반의 AI 코딩 어시스턴트 ‘코드아이(code.i)’는 대화형 인터페이스로 서비스를 제공하며\\n사내 소프트웨어 개발에 최적화\\n∙ 이미지 모델은 창의적인 이미지를 생성하고 기존 이미지를 원하는 대로 바꿀 수 있도록 지원하며\\n저해상도 이미지의 고해상도 전환도 지원\\nn IT 전문지 테크리퍼블릭(TechRepublic)은 온디바이스 AI가 주요 기술 트렌드로 부상했다며,\\n2024년부터 가우스를 탑재한 삼성 스마트폰이 메타의 라마(Llama)2를 탑재한 퀄컴 기기 및 구글'),\n",
       "  Document(id='6ac9fa9b-f6eb-44aa-9823-cd539361545e', metadata={'source': 'data/SPRI_AI_Brief_2023년12월호_F.pdf', 'file_path': 'data/SPRI_AI_Brief_2023년12월호_F.pdf', 'page': 12, 'total_pages': 23, 'Author': 'dj', 'Creator': 'Hwp 2018 10.0.0.13462', 'Producer': 'Hancom PDF 1.3.0.542', 'CreationDate': \"D:20231208132838+09'00'\", 'ModDate': \"D:20231208132838+09'00'\", 'PDFVersion': '1.4'}, page_content='온디바이스에서 작동하도록 설계되어 외부로 사용자의 정보가 유출되지 않는 장점을 보유\\n∙ 삼성전자는 삼성 가우스를 활용한 온디바이스 AI 기술도 소개했으며, 생성 AI 모델을 다양한 제품에\\n단계적으로 탑재할 계획\\nn 삼성 가우스는 △텍스트를 생성하는 언어모델 △코드를 생성하는 코드 모델 △이미지를 생성하는\\n이미지 모델의 3개 모델로 구성\\n∙ 언어 모델은 클라우드와 온디바이스 대상 다양한 모델로 구성되며, 메일 작성, 문서 요약, 번역 업무의\\n처리를 지원')]}"
      ]
     },
     "execution_count": 56,
     "metadata": {},
     "output_type": "execute_result"
    }
   ],
   "source": [
    "state2"
   ]
  },
  {
   "cell_type": "code",
   "execution_count": 57,
   "metadata": {},
   "outputs": [
    {
     "name": "stdout",
     "output_type": "stream",
     "text": [
      "\n",
      "==========================================================================================\n",
      "🔄 [Node] 답변 생성 노드 🔄\n",
      "-------------------\n",
      "(1) 사용자 질문: 삼성전자가 만든 생성형 AI 이름은?\n",
      "(2) 문서 검색 결과:\n",
      "[Document(id='2be8b6fb-b31a-4729-b392-22770b9a366f', metadata={'source': 'data/SPRI_AI_Brief_2023년12월호_F.pdf', 'file_path': 'data/SPRI_AI_Brief_2023년12월호_F.pdf', 'page': 1, 'total_pages': 23, 'Author': 'dj', 'Creator': 'Hwp 2018 10.0.0.13462', 'Producer': 'Hancom PDF 1.3.0.542', 'CreationDate': \"D:20231208132838+09'00'\", 'ModDate': \"D:20231208132838+09'00'\", 'PDFVersion': '1.4'}, page_content='▹ 삼성전자, 자체 개발 생성 AI ‘삼성 가우스’ 공개 ···························································10\\n▹ 구글, 앤스로픽에 20억 달러 투자로 생성 AI 협력 강화 ················································11\\n▹ IDC, 2027년 AI 소프트웨어 매출 2,500억 달러 돌파 전망···········································12'), Document(id='e0c2c7c1-ce9f-4f28-9dad-049e0a0bb529', metadata={'source': 'data/SPRI_AI_Brief_2023년12월호_F.pdf', 'file_path': 'data/SPRI_AI_Brief_2023년12월호_F.pdf', 'page': 12, 'total_pages': 23, 'Author': 'dj', 'Creator': 'Hwp 2018 10.0.0.13462', 'Producer': 'Hancom PDF 1.3.0.542', 'CreationDate': \"D:20231208132838+09'00'\", 'ModDate': \"D:20231208132838+09'00'\", 'PDFVersion': '1.4'}, page_content='SPRi AI Brief |\\n2023-12월호\\n삼성전자, 자체 개발 생성 AI ‘삼성 가우스’ 공개\\nKEY Contents\\nn 삼성전자가 온디바이스에서 작동 가능하며 언어, 코드, 이미지의 3개 모델로 구성된 자체 개발 생성\\nAI 모델 ‘삼성 가우스’를 공개\\nn 삼성전자는 삼성 가우스를 다양한 제품에 단계적으로 탑재할 계획으로, 온디바이스 작동이 가능한\\n삼성 가우스는 외부로 사용자 정보가 유출될 위험이 없다는 장점을 보유\\n£언어, 코드, 이미지의 3개 모델로 구성된 삼성 가우스, 온디바이스 작동 지원'), Document(id='6924b616-aa84-4b6a-a4b5-b93ad942e9ee', metadata={'source': 'data/SPRI_AI_Brief_2023년12월호_F.pdf', 'file_path': 'data/SPRI_AI_Brief_2023년12월호_F.pdf', 'page': 12, 'total_pages': 23, 'Author': 'dj', 'Creator': 'Hwp 2018 10.0.0.13462', 'Producer': 'Hancom PDF 1.3.0.542', 'CreationDate': \"D:20231208132838+09'00'\", 'ModDate': \"D:20231208132838+09'00'\", 'PDFVersion': '1.4'}, page_content='£언어, 코드, 이미지의 3개 모델로 구성된 삼성 가우스, 온디바이스 작동 지원\\nn 삼성전자가 2023년 11월 8일 열린 ‘삼성 AI 포럼 2023’ 행사에서 자체 개발한 생성 AI 모델\\n‘삼성 가우스’를 최초 공개\\n∙ 정규분포 이론을 정립한 천재 수학자 가우스(Gauss)의 이름을 본뜬 삼성 가우스는 다양한 상황에\\n최적화된 크기의 모델 선택이 가능\\n∙ 삼성 가우스는 라이선스나 개인정보를 침해하지 않는 안전한 데이터를 통해 학습되었으며,\\n온디바이스에서 작동하도록 설계되어 외부로 사용자의 정보가 유출되지 않는 장점을 보유'), Document(id='a75f7e74-6ff4-4c59-8b99-f2e02ce228dd', metadata={'source': 'data/SPRI_AI_Brief_2023년12월호_F.pdf', 'file_path': 'data/SPRI_AI_Brief_2023년12월호_F.pdf', 'page': 12, 'total_pages': 23, 'Author': 'dj', 'Creator': 'Hwp 2018 10.0.0.13462', 'Producer': 'Hancom PDF 1.3.0.542', 'CreationDate': \"D:20231208132838+09'00'\", 'ModDate': \"D:20231208132838+09'00'\", 'PDFVersion': '1.4'}, page_content='어시스턴트를 적용한 구글 픽셀(Pixel)과 경쟁할 것으로 예상\\n☞ 출처 : 삼성전자, ‘삼성 AI 포럼’서 자체 개발 생성형 AI ‘삼성 가우스’ 공개, 2023.11.08.\\n삼성전자, ‘삼성 개발자 콘퍼런스 코리아 2023’ 개최, 2023.11.14.\\nTechRepublic, Samsung Gauss: Samsung Research Reveals Generative AI, 2023.11.08.\\n10'), Document(id='b7051f97-42d5-4f66-9da7-249639b8d9cd', metadata={'source': 'data/SPRI_AI_Brief_2023년12월호_F.pdf', 'file_path': 'data/SPRI_AI_Brief_2023년12월호_F.pdf', 'page': 12, 'total_pages': 23, 'Author': 'dj', 'Creator': 'Hwp 2018 10.0.0.13462', 'Producer': 'Hancom PDF 1.3.0.542', 'CreationDate': \"D:20231208132838+09'00'\", 'ModDate': \"D:20231208132838+09'00'\", 'PDFVersion': '1.4'}, page_content='처리를 지원\\n∙ 코드 모델 기반의 AI 코딩 어시스턴트 ‘코드아이(code.i)’는 대화형 인터페이스로 서비스를 제공하며\\n사내 소프트웨어 개발에 최적화\\n∙ 이미지 모델은 창의적인 이미지를 생성하고 기존 이미지를 원하는 대로 바꿀 수 있도록 지원하며\\n저해상도 이미지의 고해상도 전환도 지원\\nn IT 전문지 테크리퍼블릭(TechRepublic)은 온디바이스 AI가 주요 기술 트렌드로 부상했다며,\\n2024년부터 가우스를 탑재한 삼성 스마트폰이 메타의 라마(Llama)2를 탑재한 퀄컴 기기 및 구글'), Document(id='6ac9fa9b-f6eb-44aa-9823-cd539361545e', metadata={'source': 'data/SPRI_AI_Brief_2023년12월호_F.pdf', 'file_path': 'data/SPRI_AI_Brief_2023년12월호_F.pdf', 'page': 12, 'total_pages': 23, 'Author': 'dj', 'Creator': 'Hwp 2018 10.0.0.13462', 'Producer': 'Hancom PDF 1.3.0.542', 'CreationDate': \"D:20231208132838+09'00'\", 'ModDate': \"D:20231208132838+09'00'\", 'PDFVersion': '1.4'}, page_content='온디바이스에서 작동하도록 설계되어 외부로 사용자의 정보가 유출되지 않는 장점을 보유\\n∙ 삼성전자는 삼성 가우스를 활용한 온디바이스 AI 기술도 소개했으며, 생성 AI 모델을 다양한 제품에\\n단계적으로 탑재할 계획\\nn 삼성 가우스는 △텍스트를 생성하는 언어모델 △코드를 생성하는 코드 모델 △이미지를 생성하는\\n이미지 모델의 3개 모델로 구성\\n∙ 언어 모델은 클라우드와 온디바이스 대상 다양한 모델로 구성되며, 메일 작성, 문서 요약, 번역 업무의\\n처리를 지원')]\n",
      "\n",
      "(3) rag 실행 결과:\n",
      "삼성전자가 공개한 생성 AI 모델 ‘삼성 가우스’는 언어, 코드, 이미지의 3개 모델로 구성되어 있으며, 온디바이스에서 작동하도록 설계되어 사용자 정보 유출 위험이 없다. 이 모델은 2023년 11월 8일 ‘삼성 AI 포럼 2023’에서 처음 공개되었다.\n",
      "\n",
      "**Source**\n",
      "- data/SPRI_AI_Brief_2023년12월호_F.pdf (page 12)\n",
      "-------------------\n",
      "\n",
      "==========================================================================================\n",
      "\n"
     ]
    }
   ],
   "source": [
    "state2['generation'] = generate(state2)['generation']"
   ]
  },
  {
   "cell_type": "code",
   "execution_count": 58,
   "metadata": {},
   "outputs": [
    {
     "data": {
      "text/plain": [
       "{'question': '삼성전자가 만든 생성형 AI 이름은?',\n",
       " 'generation': '삼성전자가 공개한 생성 AI 모델 ‘삼성 가우스’는 언어, 코드, 이미지의 3개 모델로 구성되어 있으며, 온디바이스에서 작동하도록 설계되어 사용자 정보 유출 위험이 없다. 이 모델은 2023년 11월 8일 ‘삼성 AI 포럼 2023’에서 처음 공개되었다.\\n\\n**Source**\\n- data/SPRI_AI_Brief_2023년12월호_F.pdf (page 12)',\n",
       " 'documents': [Document(id='2be8b6fb-b31a-4729-b392-22770b9a366f', metadata={'source': 'data/SPRI_AI_Brief_2023년12월호_F.pdf', 'file_path': 'data/SPRI_AI_Brief_2023년12월호_F.pdf', 'page': 1, 'total_pages': 23, 'Author': 'dj', 'Creator': 'Hwp 2018 10.0.0.13462', 'Producer': 'Hancom PDF 1.3.0.542', 'CreationDate': \"D:20231208132838+09'00'\", 'ModDate': \"D:20231208132838+09'00'\", 'PDFVersion': '1.4'}, page_content='▹ 삼성전자, 자체 개발 생성 AI ‘삼성 가우스’ 공개 ···························································10\\n▹ 구글, 앤스로픽에 20억 달러 투자로 생성 AI 협력 강화 ················································11\\n▹ IDC, 2027년 AI 소프트웨어 매출 2,500억 달러 돌파 전망···········································12'),\n",
       "  Document(id='e0c2c7c1-ce9f-4f28-9dad-049e0a0bb529', metadata={'source': 'data/SPRI_AI_Brief_2023년12월호_F.pdf', 'file_path': 'data/SPRI_AI_Brief_2023년12월호_F.pdf', 'page': 12, 'total_pages': 23, 'Author': 'dj', 'Creator': 'Hwp 2018 10.0.0.13462', 'Producer': 'Hancom PDF 1.3.0.542', 'CreationDate': \"D:20231208132838+09'00'\", 'ModDate': \"D:20231208132838+09'00'\", 'PDFVersion': '1.4'}, page_content='SPRi AI Brief |\\n2023-12월호\\n삼성전자, 자체 개발 생성 AI ‘삼성 가우스’ 공개\\nKEY Contents\\nn 삼성전자가 온디바이스에서 작동 가능하며 언어, 코드, 이미지의 3개 모델로 구성된 자체 개발 생성\\nAI 모델 ‘삼성 가우스’를 공개\\nn 삼성전자는 삼성 가우스를 다양한 제품에 단계적으로 탑재할 계획으로, 온디바이스 작동이 가능한\\n삼성 가우스는 외부로 사용자 정보가 유출될 위험이 없다는 장점을 보유\\n£언어, 코드, 이미지의 3개 모델로 구성된 삼성 가우스, 온디바이스 작동 지원'),\n",
       "  Document(id='6924b616-aa84-4b6a-a4b5-b93ad942e9ee', metadata={'source': 'data/SPRI_AI_Brief_2023년12월호_F.pdf', 'file_path': 'data/SPRI_AI_Brief_2023년12월호_F.pdf', 'page': 12, 'total_pages': 23, 'Author': 'dj', 'Creator': 'Hwp 2018 10.0.0.13462', 'Producer': 'Hancom PDF 1.3.0.542', 'CreationDate': \"D:20231208132838+09'00'\", 'ModDate': \"D:20231208132838+09'00'\", 'PDFVersion': '1.4'}, page_content='£언어, 코드, 이미지의 3개 모델로 구성된 삼성 가우스, 온디바이스 작동 지원\\nn 삼성전자가 2023년 11월 8일 열린 ‘삼성 AI 포럼 2023’ 행사에서 자체 개발한 생성 AI 모델\\n‘삼성 가우스’를 최초 공개\\n∙ 정규분포 이론을 정립한 천재 수학자 가우스(Gauss)의 이름을 본뜬 삼성 가우스는 다양한 상황에\\n최적화된 크기의 모델 선택이 가능\\n∙ 삼성 가우스는 라이선스나 개인정보를 침해하지 않는 안전한 데이터를 통해 학습되었으며,\\n온디바이스에서 작동하도록 설계되어 외부로 사용자의 정보가 유출되지 않는 장점을 보유'),\n",
       "  Document(id='a75f7e74-6ff4-4c59-8b99-f2e02ce228dd', metadata={'source': 'data/SPRI_AI_Brief_2023년12월호_F.pdf', 'file_path': 'data/SPRI_AI_Brief_2023년12월호_F.pdf', 'page': 12, 'total_pages': 23, 'Author': 'dj', 'Creator': 'Hwp 2018 10.0.0.13462', 'Producer': 'Hancom PDF 1.3.0.542', 'CreationDate': \"D:20231208132838+09'00'\", 'ModDate': \"D:20231208132838+09'00'\", 'PDFVersion': '1.4'}, page_content='어시스턴트를 적용한 구글 픽셀(Pixel)과 경쟁할 것으로 예상\\n☞ 출처 : 삼성전자, ‘삼성 AI 포럼’서 자체 개발 생성형 AI ‘삼성 가우스’ 공개, 2023.11.08.\\n삼성전자, ‘삼성 개발자 콘퍼런스 코리아 2023’ 개최, 2023.11.14.\\nTechRepublic, Samsung Gauss: Samsung Research Reveals Generative AI, 2023.11.08.\\n10'),\n",
       "  Document(id='b7051f97-42d5-4f66-9da7-249639b8d9cd', metadata={'source': 'data/SPRI_AI_Brief_2023년12월호_F.pdf', 'file_path': 'data/SPRI_AI_Brief_2023년12월호_F.pdf', 'page': 12, 'total_pages': 23, 'Author': 'dj', 'Creator': 'Hwp 2018 10.0.0.13462', 'Producer': 'Hancom PDF 1.3.0.542', 'CreationDate': \"D:20231208132838+09'00'\", 'ModDate': \"D:20231208132838+09'00'\", 'PDFVersion': '1.4'}, page_content='처리를 지원\\n∙ 코드 모델 기반의 AI 코딩 어시스턴트 ‘코드아이(code.i)’는 대화형 인터페이스로 서비스를 제공하며\\n사내 소프트웨어 개발에 최적화\\n∙ 이미지 모델은 창의적인 이미지를 생성하고 기존 이미지를 원하는 대로 바꿀 수 있도록 지원하며\\n저해상도 이미지의 고해상도 전환도 지원\\nn IT 전문지 테크리퍼블릭(TechRepublic)은 온디바이스 AI가 주요 기술 트렌드로 부상했다며,\\n2024년부터 가우스를 탑재한 삼성 스마트폰이 메타의 라마(Llama)2를 탑재한 퀄컴 기기 및 구글'),\n",
       "  Document(id='6ac9fa9b-f6eb-44aa-9823-cd539361545e', metadata={'source': 'data/SPRI_AI_Brief_2023년12월호_F.pdf', 'file_path': 'data/SPRI_AI_Brief_2023년12월호_F.pdf', 'page': 12, 'total_pages': 23, 'Author': 'dj', 'Creator': 'Hwp 2018 10.0.0.13462', 'Producer': 'Hancom PDF 1.3.0.542', 'CreationDate': \"D:20231208132838+09'00'\", 'ModDate': \"D:20231208132838+09'00'\", 'PDFVersion': '1.4'}, page_content='온디바이스에서 작동하도록 설계되어 외부로 사용자의 정보가 유출되지 않는 장점을 보유\\n∙ 삼성전자는 삼성 가우스를 활용한 온디바이스 AI 기술도 소개했으며, 생성 AI 모델을 다양한 제품에\\n단계적으로 탑재할 계획\\nn 삼성 가우스는 △텍스트를 생성하는 언어모델 △코드를 생성하는 코드 모델 △이미지를 생성하는\\n이미지 모델의 3개 모델로 구성\\n∙ 언어 모델은 클라우드와 온디바이스 대상 다양한 모델로 구성되며, 메일 작성, 문서 요약, 번역 업무의\\n처리를 지원')]}"
      ]
     },
     "execution_count": 58,
     "metadata": {},
     "output_type": "execute_result"
    }
   ],
   "source": [
    "state2"
   ]
  },
  {
   "cell_type": "code",
   "execution_count": 59,
   "metadata": {},
   "outputs": [
    {
     "name": "stdout",
     "output_type": "stream",
     "text": [
      "\n",
      "==========================================================================================\n",
      "🔄 [Node] hallucination 평가 노드 🔄\n",
      "===== [평가 결과] =====\n",
      "yes\n",
      "===== [DECISION: GENERATION IS GROUNDED IN DOCUMENTS] =====\n",
      "no hallucination\n",
      "===== [GRADE GENERATED ANSWER vs QUESTION] =====\n",
      "==== [DECISION: GENERATED ANSWER ADDRESSES QUESTION] ====\n",
      "relevant\n",
      "==========================================================================================\n",
      "\n"
     ]
    },
    {
     "data": {
      "text/plain": [
       "'relevant'"
      ]
     },
     "execution_count": 59,
     "metadata": {},
     "output_type": "execute_result"
    }
   ],
   "source": [
    "hallucination_check(state2)"
   ]
  },
  {
   "cell_type": "code",
   "execution_count": 60,
   "metadata": {},
   "outputs": [],
   "source": [
    "from langgraph.graph import StateGraph, END, START\n",
    "from langgraph.checkpoint.memory import MemorySaver\n",
    "from langchain_teddynote.graphs import visualize_graph"
   ]
  },
  {
   "cell_type": "code",
   "execution_count": 61,
   "metadata": {},
   "outputs": [],
   "source": [
    "######### 1. 그래프 생성 #########\n",
    "\n",
    "workflow = StateGraph(GraphState)"
   ]
  },
  {
   "cell_type": "code",
   "execution_count": 62,
   "metadata": {},
   "outputs": [
    {
     "data": {
      "text/plain": [
       "<langgraph.graph.state.StateGraph at 0x2688974c210>"
      ]
     },
     "execution_count": 62,
     "metadata": {},
     "output_type": "execute_result"
    }
   ],
   "source": [
    "######### 2. 노드 정의  #########\n",
    "\n",
    "workflow.add_node('web_search', web_search)                 # 웹 검색  \n",
    "workflow.add_node('retrieve', retrieve)                     # 문서 검색 노드\n",
    "workflow.add_node('grade_documents', grade_documents)       # 문서 검색으로 가져온 결과와 사용자 질문의 관련성을 평가하는 노드\n",
    "workflow.add_node('generate', generate)                     # 사용자 질문과 문서 검색결과를 가지고 답변 생성하는 노드\n",
    "workflow.add_node('transform_query', transform_query)       # 사용자 질문(쿼리)를 재작성하는 노드"
   ]
  },
  {
   "cell_type": "code",
   "execution_count": 63,
   "metadata": {},
   "outputs": [
    {
     "data": {
      "text/plain": [
       "<langgraph.graph.state.StateGraph at 0x2688974c210>"
      ]
     },
     "execution_count": 63,
     "metadata": {},
     "output_type": "execute_result"
    }
   ],
   "source": [
    "######### 3. 그래프 엣지(Edge) 추가  #########\n",
    "\n",
    "workflow.add_conditional_edges(\n",
    "    START, \n",
    "    route_question,                     # 질문 라우팅 노드  \n",
    "    {\n",
    "        'web_search': 'web_search',     # 웹 검색으로 라우팅\n",
    "        'vectorstore': 'retrieve'       # retrieve (PDF 문서 검색)로 라우팅\n",
    "    }\n",
    ")"
   ]
  },
  {
   "cell_type": "code",
   "execution_count": 64,
   "metadata": {},
   "outputs": [
    {
     "data": {
      "text/plain": [
       "<langgraph.graph.state.StateGraph at 0x2688974c210>"
      ]
     },
     "execution_count": 64,
     "metadata": {},
     "output_type": "execute_result"
    }
   ],
   "source": [
    "workflow.add_edge('web_search', 'generate')         # 웹 검색하고 답변 생성\n",
    "workflow.add_edge('retrieve', 'grade_documents')    # retrieve 노드에서 PDF 문서 검색실행 하고 결과를 문서 검색 평가기로 가서 평가"
   ]
  },
  {
   "cell_type": "code",
   "execution_count": 65,
   "metadata": {},
   "outputs": [
    {
     "data": {
      "text/plain": [
       "<langgraph.graph.state.StateGraph at 0x2688974c210>"
      ]
     },
     "execution_count": 65,
     "metadata": {},
     "output_type": "execute_result"
    }
   ],
   "source": [
    "workflow.add_conditional_edges(\n",
    "    'grade_documents',                              # 문서 검색으로 가져온 결과와 사용자 질문의 관련성을 평가하는 노드\n",
    "    decide_to_generate,                             # 문서 관련성 평가\n",
    "    {\n",
    "        'transform_query': 'transform_query',       # 사용자 입력 다시 작성 필요\n",
    "        'generate': 'generate'                      # 답변 생성\n",
    "    }\n",
    ")"
   ]
  },
  {
   "cell_type": "code",
   "execution_count": 66,
   "metadata": {},
   "outputs": [
    {
     "data": {
      "text/plain": [
       "<langgraph.graph.state.StateGraph at 0x2688974c210>"
      ]
     },
     "execution_count": 66,
     "metadata": {},
     "output_type": "execute_result"
    }
   ],
   "source": [
    "workflow.add_edge('transform_query', 'retrieve')    # 쿼리 다시 작성한 뒤 문서 검색"
   ]
  },
  {
   "cell_type": "code",
   "execution_count": 67,
   "metadata": {},
   "outputs": [
    {
     "data": {
      "text/plain": [
       "<langgraph.graph.state.StateGraph at 0x2688974c210>"
      ]
     },
     "execution_count": 67,
     "metadata": {},
     "output_type": "execute_result"
    }
   ],
   "source": [
    "workflow.add_conditional_edges(\n",
    "    'generate',\n",
    "    hallucination_check,\n",
    "    {\n",
    "        'hallucination': 'generate',                # Hallucination 발생 시 재생성\n",
    "        'relevant': END,                            # 답변 관련성 통과     \n",
    "        'not relevant': 'transform_query'           # 딥변 관련성 통과 못하는 경우. 쿼리 다시 작성\n",
    "    }\n",
    ")"
   ]
  },
  {
   "cell_type": "code",
   "execution_count": 68,
   "metadata": {},
   "outputs": [],
   "source": [
    "######### 4. 체크 포인터 설정  #########\n",
    "\n",
    "memory = MemorySaver()"
   ]
  },
  {
   "cell_type": "code",
   "execution_count": 69,
   "metadata": {},
   "outputs": [],
   "source": [
    "######### 5. 그래프 컴파일(compile)  #########\n",
    "\n",
    "app = workflow.compile(checkpointer=memory)"
   ]
  },
  {
   "cell_type": "code",
   "execution_count": 70,
   "metadata": {},
   "outputs": [
    {
     "data": {
      "image/png": "[encoded data removed]",
      "text/plain": [
       "<IPython.core.display.Image object>"
      ]
     },
     "metadata": {},
     "output_type": "display_data"
    }
   ],
   "source": [
    "visualize_graph(app)"
   ]
  },
  {
   "cell_type": "code",
   "execution_count": 71,
   "metadata": {},
   "outputs": [],
   "source": [
    "from langchain_core.runnables import RunnableConfig\n",
    "from langchain_teddynote.messages import invoke_graph, stream_graph, random_uuid"
   ]
  },
  {
   "cell_type": "code",
   "execution_count": 72,
   "metadata": {},
   "outputs": [
    {
     "name": "stdout",
     "output_type": "stream",
     "text": [
      "\n",
      "==========================================================================================\n",
      "🔄 [Node] 질문 라우팅 노드 🔄\n",
      "==== [ROUTE QUESTION TO VECTORSTORE] ====\n",
      "==========================================================================================\n",
      "\n",
      "\n",
      "==========================================================================================\n",
      "🔄 [Node] 문서 검색 노드 🔄\n",
      "문서 검색 결과: \n",
      "-------------------\n",
      "[Document(id='e0c2c7c1-ce9f-4f28-9dad-049e0a0bb529', metadata={'source': 'data/SPRI_AI_Brief_2023년12월호_F.pdf', 'file_path': 'data/SPRI_AI_Brief_2023년12월호_F.pdf', 'page': 12, 'total_pages': 23, 'Author': 'dj', 'Creator': 'Hwp 2018 10.0.0.13462', 'Producer': 'Hancom PDF 1.3.0.542', 'CreationDate': \"D:20231208132838+09'00'\", 'ModDate': \"D:20231208132838+09'00'\", 'PDFVersion': '1.4'}, page_content='SPRi AI Brief |\\n2023-12월호\\n삼성전자, 자체 개발 생성 AI ‘삼성 가우스’ 공개\\nKEY Contents\\nn 삼성전자가 온디바이스에서 작동 가능하며 언어, 코드, 이미지의 3개 모델로 구성된 자체 개발 생성\\nAI 모델 ‘삼성 가우스’를 공개\\nn 삼성전자는 삼성 가우스를 다양한 제품에 단계적으로 탑재할 계획으로, 온디바이스 작동이 가능한\\n삼성 가우스는 외부로 사용자 정보가 유출될 위험이 없다는 장점을 보유\\n£언어, 코드, 이미지의 3개 모델로 구성된 삼성 가우스, 온디바이스 작동 지원'), Document(id='2be8b6fb-b31a-4729-b392-22770b9a366f', metadata={'source': 'data/SPRI_AI_Brief_2023년12월호_F.pdf', 'file_path': 'data/SPRI_AI_Brief_2023년12월호_F.pdf', 'page': 1, 'total_pages': 23, 'Author': 'dj', 'Creator': 'Hwp 2018 10.0.0.13462', 'Producer': 'Hancom PDF 1.3.0.542', 'CreationDate': \"D:20231208132838+09'00'\", 'ModDate': \"D:20231208132838+09'00'\", 'PDFVersion': '1.4'}, page_content='▹ 삼성전자, 자체 개발 생성 AI ‘삼성 가우스’ 공개 ···························································10\\n▹ 구글, 앤스로픽에 20억 달러 투자로 생성 AI 협력 강화 ················································11\\n▹ IDC, 2027년 AI 소프트웨어 매출 2,500억 달러 돌파 전망···········································12'), Document(id='6924b616-aa84-4b6a-a4b5-b93ad942e9ee', metadata={'source': 'data/SPRI_AI_Brief_2023년12월호_F.pdf', 'file_path': 'data/SPRI_AI_Brief_2023년12월호_F.pdf', 'page': 12, 'total_pages': 23, 'Author': 'dj', 'Creator': 'Hwp 2018 10.0.0.13462', 'Producer': 'Hancom PDF 1.3.0.542', 'CreationDate': \"D:20231208132838+09'00'\", 'ModDate': \"D:20231208132838+09'00'\", 'PDFVersion': '1.4'}, page_content='£언어, 코드, 이미지의 3개 모델로 구성된 삼성 가우스, 온디바이스 작동 지원\\nn 삼성전자가 2023년 11월 8일 열린 ‘삼성 AI 포럼 2023’ 행사에서 자체 개발한 생성 AI 모델\\n‘삼성 가우스’를 최초 공개\\n∙ 정규분포 이론을 정립한 천재 수학자 가우스(Gauss)의 이름을 본뜬 삼성 가우스는 다양한 상황에\\n최적화된 크기의 모델 선택이 가능\\n∙ 삼성 가우스는 라이선스나 개인정보를 침해하지 않는 안전한 데이터를 통해 학습되었으며,\\n온디바이스에서 작동하도록 설계되어 외부로 사용자의 정보가 유출되지 않는 장점을 보유'), Document(id='a75f7e74-6ff4-4c59-8b99-f2e02ce228dd', metadata={'source': 'data/SPRI_AI_Brief_2023년12월호_F.pdf', 'file_path': 'data/SPRI_AI_Brief_2023년12월호_F.pdf', 'page': 12, 'total_pages': 23, 'Author': 'dj', 'Creator': 'Hwp 2018 10.0.0.13462', 'Producer': 'Hancom PDF 1.3.0.542', 'CreationDate': \"D:20231208132838+09'00'\", 'ModDate': \"D:20231208132838+09'00'\", 'PDFVersion': '1.4'}, page_content='어시스턴트를 적용한 구글 픽셀(Pixel)과 경쟁할 것으로 예상\\n☞ 출처 : 삼성전자, ‘삼성 AI 포럼’서 자체 개발 생성형 AI ‘삼성 가우스’ 공개, 2023.11.08.\\n삼성전자, ‘삼성 개발자 콘퍼런스 코리아 2023’ 개최, 2023.11.14.\\nTechRepublic, Samsung Gauss: Samsung Research Reveals Generative AI, 2023.11.08.\\n10'), Document(id='340ab211-d8c8-40c4-a4b5-85321a078668', metadata={'source': 'data/SPRI_AI_Brief_2023년12월호_F.pdf', 'file_path': 'data/SPRI_AI_Brief_2023년12월호_F.pdf', 'page': 18, 'total_pages': 23, 'Author': 'dj', 'Creator': 'Hwp 2018 10.0.0.13462', 'Producer': 'Hancom PDF 1.3.0.542', 'CreationDate': \"D:20231208132838+09'00'\", 'ModDate': \"D:20231208132838+09'00'\", 'PDFVersion': '1.4'}, page_content='<구글 딥마인드의 범용 AI 분류 프레임워크>\\n성능 특수 AI 예시 범용 AI 예시\\n0단계: AI 아님 계산기 소프트웨어, 컴파일러 아마존 메커니컬 터크\\n1단계: 신진(숙련되지 않은 인간) GOFAI(Good Old Fashioned Artificial Intelligence) 챗GPT, 바드, 라마2\\n스마트 스피커(애플 시리, 아마존 알렉사, 구글\\n2단계: 유능(숙련된 인간의 50% 이상) 미달성\\n어시스턴트), IBM 왓슨\\n3단계: 전문가(숙련된 인간의 90% 이상) 문법 교정기(그래머리), 생성 이미지 모델(달리2) 미달성'), Document(id='b7051f97-42d5-4f66-9da7-249639b8d9cd', metadata={'source': 'data/SPRI_AI_Brief_2023년12월호_F.pdf', 'file_path': 'data/SPRI_AI_Brief_2023년12월호_F.pdf', 'page': 12, 'total_pages': 23, 'Author': 'dj', 'Creator': 'Hwp 2018 10.0.0.13462', 'Producer': 'Hancom PDF 1.3.0.542', 'CreationDate': \"D:20231208132838+09'00'\", 'ModDate': \"D:20231208132838+09'00'\", 'PDFVersion': '1.4'}, page_content='처리를 지원\\n∙ 코드 모델 기반의 AI 코딩 어시스턴트 ‘코드아이(code.i)’는 대화형 인터페이스로 서비스를 제공하며\\n사내 소프트웨어 개발에 최적화\\n∙ 이미지 모델은 창의적인 이미지를 생성하고 기존 이미지를 원하는 대로 바꿀 수 있도록 지원하며\\n저해상도 이미지의 고해상도 전환도 지원\\nn IT 전문지 테크리퍼블릭(TechRepublic)은 온디바이스 AI가 주요 기술 트렌드로 부상했다며,\\n2024년부터 가우스를 탑재한 삼성 스마트폰이 메타의 라마(Llama)2를 탑재한 퀄컴 기기 및 구글'), Document(id='6ac9fa9b-f6eb-44aa-9823-cd539361545e', metadata={'source': 'data/SPRI_AI_Brief_2023년12월호_F.pdf', 'file_path': 'data/SPRI_AI_Brief_2023년12월호_F.pdf', 'page': 12, 'total_pages': 23, 'Author': 'dj', 'Creator': 'Hwp 2018 10.0.0.13462', 'Producer': 'Hancom PDF 1.3.0.542', 'CreationDate': \"D:20231208132838+09'00'\", 'ModDate': \"D:20231208132838+09'00'\", 'PDFVersion': '1.4'}, page_content='온디바이스에서 작동하도록 설계되어 외부로 사용자의 정보가 유출되지 않는 장점을 보유\\n∙ 삼성전자는 삼성 가우스를 활용한 온디바이스 AI 기술도 소개했으며, 생성 AI 모델을 다양한 제품에\\n단계적으로 탑재할 계획\\nn 삼성 가우스는 △텍스트를 생성하는 언어모델 △코드를 생성하는 코드 모델 △이미지를 생성하는\\n이미지 모델의 3개 모델로 구성\\n∙ 언어 모델은 클라우드와 온디바이스 대상 다양한 모델로 구성되며, 메일 작성, 문서 요약, 번역 업무의\\n처리를 지원'), Document(id='3961e8a3-52a5-4089-a800-ea62522c9a0f', metadata={'source': 'data/SPRI_AI_Brief_2023년12월호_F.pdf', 'file_path': 'data/SPRI_AI_Brief_2023년12월호_F.pdf', 'page': 11, 'total_pages': 23, 'Author': 'dj', 'Creator': 'Hwp 2018 10.0.0.13462', 'Producer': 'Hancom PDF 1.3.0.542', 'CreationDate': \"D:20231208132838+09'00'\", 'ModDate': \"D:20231208132838+09'00'\", 'PDFVersion': '1.4'}, page_content='제작을 포함\\nn 알리바바 클라우드는 급증하는 생성 AI 수요에 대응해 모델 개발과 애플리케이션 구축 절차를\\n간소화하는 올인원 AI 모델 구축 플랫폼 ‘젠AI(GenAI)’도 공개\\n∙ 이 플랫폼은 데이터 관리, 모델 배포와 평가, 신속한 엔지니어링을 위한 종합 도구 모음을 제공하여\\n다양한 기업들이 맞춤형 AI 모델을 한층 쉽게 개발할 수 있도록 지원\\n∙ 생성 AI 개발에 필요한 컴퓨팅과 데이터 처리 요구사항을 지원하기 위해 AI 플랫폼(PAI),\\n데이터베이스 솔루션, 컨테이너 서비스와 같은 클라우드 신제품도 발표'), Document(id='8343f4be-2f05-4dec-af17-f8ae6657c39d', metadata={'source': 'data/SPRI_AI_Brief_2023년12월호_F.pdf', 'file_path': 'data/SPRI_AI_Brief_2023년12월호_F.pdf', 'page': 1, 'total_pages': 23, 'Author': 'dj', 'Creator': 'Hwp 2018 10.0.0.13462', 'Producer': 'Hancom PDF 1.3.0.542', 'CreationDate': \"D:20231208132838+09'00'\", 'ModDate': \"D:20231208132838+09'00'\", 'PDFVersion': '1.4'}, page_content='▹ 빌 게이츠, AI 에이전트로 인한 컴퓨터 사용의 패러다임 변화 전망································13\\n▹ 유튜브, 2024년부터 AI 생성 콘텐츠 표시 의무화····························································14\\n3. 기술/연구\\n▹ 영국 과학혁신기술부, AI 안전 연구소 설립 발표······························································15'), Document(id='f5763ae6-4361-4deb-9e0f-5b81a7380740', metadata={'source': 'data/SPRI_AI_Brief_2023년12월호_F.pdf', 'file_path': 'data/SPRI_AI_Brief_2023년12월호_F.pdf', 'page': 18, 'total_pages': 23, 'Author': 'dj', 'Creator': 'Hwp 2018 10.0.0.13462', 'Producer': 'Hancom PDF 1.3.0.542', 'CreationDate': \"D:20231208132838+09'00'\", 'ModDate': \"D:20231208132838+09'00'\", 'PDFVersion': '1.4'}, page_content='£챗GPT와 구글 바드와 같은 AI 챗봇은 범용 AI 1단계 수준\\nn 구글 딥마인드 연구진은 2023년 11월 4일 범용 AI(Artificial General Intelligence, AGI) 모델을 용도와\\n성능에 따라 분류하는 프레임워크를 제시한 논문을 발표\\n∙ 프레임워크의 목적은 AGI의 성능, 범용성, 자율성 수준을 정의하여 모델 간 비교와 위험 평가, AGI\\n달성까지의 진행 상황을 측정할 수 있는 공통 기준을 제공하기 위함\\nn 연구진은 AGI 개념 정의에 필요한 기준을 수립하기 위한 6가지 원칙을 아래와 같이 도출')]\n",
      "-------------------\n",
      "==========================================================================================\n",
      "\n",
      "[node_name]: retrieve\n",
      "[node_chunk]:\n",
      " {'documents': [Document(id='e0c2c7c1-ce9f-4f28-9dad-049e0a0bb529', metadata={'source': 'data/SPRI_AI_Brief_2023년12월호_F.pdf', 'file_path': 'data/SPRI_AI_Brief_2023년12월호_F.pdf', 'page': 12, 'total_pages': 23, 'Author': 'dj', 'Creator': 'Hwp 2018 10.0.0.13462', 'Producer': 'Hancom PDF 1.3.0.542', 'CreationDate': \"D:20231208132838+09'00'\", 'ModDate': \"D:20231208132838+09'00'\", 'PDFVersion': '1.4'}, page_content='SPRi AI Brief |\\n2023-12월호\\n삼성전자, 자체 개발 생성 AI ‘삼성 가우스’ 공개\\nKEY Contents\\nn 삼성전자가 온디바이스에서 작동 가능하며 언어, 코드, 이미지의 3개 모델로 구성된 자체 개발 생성\\nAI 모델 ‘삼성 가우스’를 공개\\nn 삼성전자는 삼성 가우스를 다양한 제품에 단계적으로 탑재할 계획으로, 온디바이스 작동이 가능한\\n삼성 가우스는 외부로 사용자 정보가 유출될 위험이 없다는 장점을 보유\\n£언어, 코드, 이미지의 3개 모델로 구성된 삼성 가우스, 온디바이스 작동 지원'), Document(id='2be8b6fb-b31a-4729-b392-22770b9a366f', metadata={'source': 'data/SPRI_AI_Brief_2023년12월호_F.pdf', 'file_path': 'data/SPRI_AI_Brief_2023년12월호_F.pdf', 'page': 1, 'total_pages': 23, 'Author': 'dj', 'Creator': 'Hwp 2018 10.0.0.13462', 'Producer': 'Hancom PDF 1.3.0.542', 'CreationDate': \"D:20231208132838+09'00'\", 'ModDate': \"D:20231208132838+09'00'\", 'PDFVersion': '1.4'}, page_content='▹ 삼성전자, 자체 개발 생성 AI ‘삼성 가우스’ 공개 ···························································10\\n▹ 구글, 앤스로픽에 20억 달러 투자로 생성 AI 협력 강화 ················································11\\n▹ IDC, 2027년 AI 소프트웨어 매출 2,500억 달러 돌파 전망···········································12'), Document(id='6924b616-aa84-4b6a-a4b5-b93ad942e9ee', metadata={'source': 'data/SPRI_AI_Brief_2023년12월호_F.pdf', 'file_path': 'data/SPRI_AI_Brief_2023년12월호_F.pdf', 'page': 12, 'total_pages': 23, 'Author': 'dj', 'Creator': 'Hwp 2018 10.0.0.13462', 'Producer': 'Hancom PDF 1.3.0.542', 'CreationDate': \"D:20231208132838+09'00'\", 'ModDate': \"D:20231208132838+09'00'\", 'PDFVersion': '1.4'}, page_content='£언어, 코드, 이미지의 3개 모델로 구성된 삼성 가우스, 온디바이스 작동 지원\\nn 삼성전자가 2023년 11월 8일 열린 ‘삼성 AI 포럼 2023’ 행사에서 자체 개발한 생성 AI 모델\\n‘삼성 가우스’를 최초 공개\\n∙ 정규분포 이론을 정립한 천재 수학자 가우스(Gauss)의 이름을 본뜬 삼성 가우스는 다양한 상황에\\n최적화된 크기의 모델 선택이 가능\\n∙ 삼성 가우스는 라이선스나 개인정보를 침해하지 않는 안전한 데이터를 통해 학습되었으며,\\n온디바이스에서 작동하도록 설계되어 외부로 사용자의 정보가 유출되지 않는 장점을 보유'), Document(id='a75f7e74-6ff4-4c59-8b99-f2e02ce228dd', metadata={'source': 'data/SPRI_AI_Brief_2023년12월호_F.pdf', 'file_path': 'data/SPRI_AI_Brief_2023년12월호_F.pdf', 'page': 12, 'total_pages': 23, 'Author': 'dj', 'Creator': 'Hwp 2018 10.0.0.13462', 'Producer': 'Hancom PDF 1.3.0.542', 'CreationDate': \"D:20231208132838+09'00'\", 'ModDate': \"D:20231208132838+09'00'\", 'PDFVersion': '1.4'}, page_content='어시스턴트를 적용한 구글 픽셀(Pixel)과 경쟁할 것으로 예상\\n☞ 출처 : 삼성전자, ‘삼성 AI 포럼’서 자체 개발 생성형 AI ‘삼성 가우스’ 공개, 2023.11.08.\\n삼성전자, ‘삼성 개발자 콘퍼런스 코리아 2023’ 개최, 2023.11.14.\\nTechRepublic, Samsung Gauss: Samsung Research Reveals Generative AI, 2023.11.08.\\n10'), Document(id='340ab211-d8c8-40c4-a4b5-85321a078668', metadata={'source': 'data/SPRI_AI_Brief_2023년12월호_F.pdf', 'file_path': 'data/SPRI_AI_Brief_2023년12월호_F.pdf', 'page': 18, 'total_pages': 23, 'Author': 'dj', 'Creator': 'Hwp 2018 10.0.0.13462', 'Producer': 'Hancom PDF 1.3.0.542', 'CreationDate': \"D:20231208132838+09'00'\", 'ModDate': \"D:20231208132838+09'00'\", 'PDFVersion': '1.4'}, page_content='<구글 딥마인드의 범용 AI 분류 프레임워크>\\n성능 특수 AI 예시 범용 AI 예시\\n0단계: AI 아님 계산기 소프트웨어, 컴파일러 아마존 메커니컬 터크\\n1단계: 신진(숙련되지 않은 인간) GOFAI(Good Old Fashioned Artificial Intelligence) 챗GPT, 바드, 라마2\\n스마트 스피커(애플 시리, 아마존 알렉사, 구글\\n2단계: 유능(숙련된 인간의 50% 이상) 미달성\\n어시스턴트), IBM 왓슨\\n3단계: 전문가(숙련된 인간의 90% 이상) 문법 교정기(그래머리), 생성 이미지 모델(달리2) 미달성'), Document(id='b7051f97-42d5-4f66-9da7-249639b8d9cd', metadata={'source': 'data/SPRI_AI_Brief_2023년12월호_F.pdf', 'file_path': 'data/SPRI_AI_Brief_2023년12월호_F.pdf', 'page': 12, 'total_pages': 23, 'Author': 'dj', 'Creator': 'Hwp 2018 10.0.0.13462', 'Producer': 'Hancom PDF 1.3.0.542', 'CreationDate': \"D:20231208132838+09'00'\", 'ModDate': \"D:20231208132838+09'00'\", 'PDFVersion': '1.4'}, page_content='처리를 지원\\n∙ 코드 모델 기반의 AI 코딩 어시스턴트 ‘코드아이(code.i)’는 대화형 인터페이스로 서비스를 제공하며\\n사내 소프트웨어 개발에 최적화\\n∙ 이미지 모델은 창의적인 이미지를 생성하고 기존 이미지를 원하는 대로 바꿀 수 있도록 지원하며\\n저해상도 이미지의 고해상도 전환도 지원\\nn IT 전문지 테크리퍼블릭(TechRepublic)은 온디바이스 AI가 주요 기술 트렌드로 부상했다며,\\n2024년부터 가우스를 탑재한 삼성 스마트폰이 메타의 라마(Llama)2를 탑재한 퀄컴 기기 및 구글'), Document(id='6ac9fa9b-f6eb-44aa-9823-cd539361545e', metadata={'source': 'data/SPRI_AI_Brief_2023년12월호_F.pdf', 'file_path': 'data/SPRI_AI_Brief_2023년12월호_F.pdf', 'page': 12, 'total_pages': 23, 'Author': 'dj', 'Creator': 'Hwp 2018 10.0.0.13462', 'Producer': 'Hancom PDF 1.3.0.542', 'CreationDate': \"D:20231208132838+09'00'\", 'ModDate': \"D:20231208132838+09'00'\", 'PDFVersion': '1.4'}, page_content='온디바이스에서 작동하도록 설계되어 외부로 사용자의 정보가 유출되지 않는 장점을 보유\\n∙ 삼성전자는 삼성 가우스를 활용한 온디바이스 AI 기술도 소개했으며, 생성 AI 모델을 다양한 제품에\\n단계적으로 탑재할 계획\\nn 삼성 가우스는 △텍스트를 생성하는 언어모델 △코드를 생성하는 코드 모델 △이미지를 생성하는\\n이미지 모델의 3개 모델로 구성\\n∙ 언어 모델은 클라우드와 온디바이스 대상 다양한 모델로 구성되며, 메일 작성, 문서 요약, 번역 업무의\\n처리를 지원'), Document(id='3961e8a3-52a5-4089-a800-ea62522c9a0f', metadata={'source': 'data/SPRI_AI_Brief_2023년12월호_F.pdf', 'file_path': 'data/SPRI_AI_Brief_2023년12월호_F.pdf', 'page': 11, 'total_pages': 23, 'Author': 'dj', 'Creator': 'Hwp 2018 10.0.0.13462', 'Producer': 'Hancom PDF 1.3.0.542', 'CreationDate': \"D:20231208132838+09'00'\", 'ModDate': \"D:20231208132838+09'00'\", 'PDFVersion': '1.4'}, page_content='제작을 포함\\nn 알리바바 클라우드는 급증하는 생성 AI 수요에 대응해 모델 개발과 애플리케이션 구축 절차를\\n간소화하는 올인원 AI 모델 구축 플랫폼 ‘젠AI(GenAI)’도 공개\\n∙ 이 플랫폼은 데이터 관리, 모델 배포와 평가, 신속한 엔지니어링을 위한 종합 도구 모음을 제공하여\\n다양한 기업들이 맞춤형 AI 모델을 한층 쉽게 개발할 수 있도록 지원\\n∙ 생성 AI 개발에 필요한 컴퓨팅과 데이터 처리 요구사항을 지원하기 위해 AI 플랫폼(PAI),\\n데이터베이스 솔루션, 컨테이너 서비스와 같은 클라우드 신제품도 발표'), Document(id='8343f4be-2f05-4dec-af17-f8ae6657c39d', metadata={'source': 'data/SPRI_AI_Brief_2023년12월호_F.pdf', 'file_path': 'data/SPRI_AI_Brief_2023년12월호_F.pdf', 'page': 1, 'total_pages': 23, 'Author': 'dj', 'Creator': 'Hwp 2018 10.0.0.13462', 'Producer': 'Hancom PDF 1.3.0.542', 'CreationDate': \"D:20231208132838+09'00'\", 'ModDate': \"D:20231208132838+09'00'\", 'PDFVersion': '1.4'}, page_content='▹ 빌 게이츠, AI 에이전트로 인한 컴퓨터 사용의 패러다임 변화 전망································13\\n▹ 유튜브, 2024년부터 AI 생성 콘텐츠 표시 의무화····························································14\\n3. 기술/연구\\n▹ 영국 과학혁신기술부, AI 안전 연구소 설립 발표······························································15'), Document(id='f5763ae6-4361-4deb-9e0f-5b81a7380740', metadata={'source': 'data/SPRI_AI_Brief_2023년12월호_F.pdf', 'file_path': 'data/SPRI_AI_Brief_2023년12월호_F.pdf', 'page': 18, 'total_pages': 23, 'Author': 'dj', 'Creator': 'Hwp 2018 10.0.0.13462', 'Producer': 'Hancom PDF 1.3.0.542', 'CreationDate': \"D:20231208132838+09'00'\", 'ModDate': \"D:20231208132838+09'00'\", 'PDFVersion': '1.4'}, page_content='£챗GPT와 구글 바드와 같은 AI 챗봇은 범용 AI 1단계 수준\\nn 구글 딥마인드 연구진은 2023년 11월 4일 범용 AI(Artificial General Intelligence, AGI) 모델을 용도와\\n성능에 따라 분류하는 프레임워크를 제시한 논문을 발표\\n∙ 프레임워크의 목적은 AGI의 성능, 범용성, 자율성 수준을 정의하여 모델 간 비교와 위험 평가, AGI\\n달성까지의 진행 상황을 측정할 수 있는 공통 기준을 제공하기 위함\\nn 연구진은 AGI 개념 정의에 필요한 기준을 수립하기 위한 6가지 원칙을 아래와 같이 도출')]}\n",
      "\n",
      "==========================================================================================\n",
      "🔄 [Node] 문서 검색 결과와 질문 관련성 평가 노드 🔄\n",
      "---GRADE: DOCUMENT RELEVANT---\n",
      "---GRADE: DOCUMENT RELEVANT---\n",
      "---GRADE: DOCUMENT RELEVANT---\n",
      "---GRADE: DOCUMENT RELEVANT---\n",
      "---GRADE: DOCUMENT NOT RELEVANT---\n",
      "---GRADE: DOCUMENT RELEVANT---\n",
      "---GRADE: DOCUMENT RELEVANT---\n",
      "---GRADE: DOCUMENT NOT RELEVANT---\n",
      "---GRADE: DOCUMENT NOT RELEVANT---\n",
      "---GRADE: DOCUMENT NOT RELEVANT---\n",
      "==========================================================================================\n",
      "\n",
      "\n",
      "==========================================================================================\n",
      "🔄 [Node] 문서 관련성 평가 노드 🔄\n",
      "===== [DECISION: GENERATE] =====\n",
      "==========================================================================================\n",
      "\n",
      "[node_name]: grade_documents\n",
      "[node_chunk]:\n",
      " {'documents': [Document(id='e0c2c7c1-ce9f-4f28-9dad-049e0a0bb529', metadata={'source': 'data/SPRI_AI_Brief_2023년12월호_F.pdf', 'file_path': 'data/SPRI_AI_Brief_2023년12월호_F.pdf', 'page': 12, 'total_pages': 23, 'Author': 'dj', 'Creator': 'Hwp 2018 10.0.0.13462', 'Producer': 'Hancom PDF 1.3.0.542', 'CreationDate': \"D:20231208132838+09'00'\", 'ModDate': \"D:20231208132838+09'00'\", 'PDFVersion': '1.4'}, page_content='SPRi AI Brief |\\n2023-12월호\\n삼성전자, 자체 개발 생성 AI ‘삼성 가우스’ 공개\\nKEY Contents\\nn 삼성전자가 온디바이스에서 작동 가능하며 언어, 코드, 이미지의 3개 모델로 구성된 자체 개발 생성\\nAI 모델 ‘삼성 가우스’를 공개\\nn 삼성전자는 삼성 가우스를 다양한 제품에 단계적으로 탑재할 계획으로, 온디바이스 작동이 가능한\\n삼성 가우스는 외부로 사용자 정보가 유출될 위험이 없다는 장점을 보유\\n£언어, 코드, 이미지의 3개 모델로 구성된 삼성 가우스, 온디바이스 작동 지원'), Document(id='2be8b6fb-b31a-4729-b392-22770b9a366f', metadata={'source': 'data/SPRI_AI_Brief_2023년12월호_F.pdf', 'file_path': 'data/SPRI_AI_Brief_2023년12월호_F.pdf', 'page': 1, 'total_pages': 23, 'Author': 'dj', 'Creator': 'Hwp 2018 10.0.0.13462', 'Producer': 'Hancom PDF 1.3.0.542', 'CreationDate': \"D:20231208132838+09'00'\", 'ModDate': \"D:20231208132838+09'00'\", 'PDFVersion': '1.4'}, page_content='▹ 삼성전자, 자체 개발 생성 AI ‘삼성 가우스’ 공개 ···························································10\\n▹ 구글, 앤스로픽에 20억 달러 투자로 생성 AI 협력 강화 ················································11\\n▹ IDC, 2027년 AI 소프트웨어 매출 2,500억 달러 돌파 전망···········································12'), Document(id='6924b616-aa84-4b6a-a4b5-b93ad942e9ee', metadata={'source': 'data/SPRI_AI_Brief_2023년12월호_F.pdf', 'file_path': 'data/SPRI_AI_Brief_2023년12월호_F.pdf', 'page': 12, 'total_pages': 23, 'Author': 'dj', 'Creator': 'Hwp 2018 10.0.0.13462', 'Producer': 'Hancom PDF 1.3.0.542', 'CreationDate': \"D:20231208132838+09'00'\", 'ModDate': \"D:20231208132838+09'00'\", 'PDFVersion': '1.4'}, page_content='£언어, 코드, 이미지의 3개 모델로 구성된 삼성 가우스, 온디바이스 작동 지원\\nn 삼성전자가 2023년 11월 8일 열린 ‘삼성 AI 포럼 2023’ 행사에서 자체 개발한 생성 AI 모델\\n‘삼성 가우스’를 최초 공개\\n∙ 정규분포 이론을 정립한 천재 수학자 가우스(Gauss)의 이름을 본뜬 삼성 가우스는 다양한 상황에\\n최적화된 크기의 모델 선택이 가능\\n∙ 삼성 가우스는 라이선스나 개인정보를 침해하지 않는 안전한 데이터를 통해 학습되었으며,\\n온디바이스에서 작동하도록 설계되어 외부로 사용자의 정보가 유출되지 않는 장점을 보유'), Document(id='a75f7e74-6ff4-4c59-8b99-f2e02ce228dd', metadata={'source': 'data/SPRI_AI_Brief_2023년12월호_F.pdf', 'file_path': 'data/SPRI_AI_Brief_2023년12월호_F.pdf', 'page': 12, 'total_pages': 23, 'Author': 'dj', 'Creator': 'Hwp 2018 10.0.0.13462', 'Producer': 'Hancom PDF 1.3.0.542', 'CreationDate': \"D:20231208132838+09'00'\", 'ModDate': \"D:20231208132838+09'00'\", 'PDFVersion': '1.4'}, page_content='어시스턴트를 적용한 구글 픽셀(Pixel)과 경쟁할 것으로 예상\\n☞ 출처 : 삼성전자, ‘삼성 AI 포럼’서 자체 개발 생성형 AI ‘삼성 가우스’ 공개, 2023.11.08.\\n삼성전자, ‘삼성 개발자 콘퍼런스 코리아 2023’ 개최, 2023.11.14.\\nTechRepublic, Samsung Gauss: Samsung Research Reveals Generative AI, 2023.11.08.\\n10'), Document(id='b7051f97-42d5-4f66-9da7-249639b8d9cd', metadata={'source': 'data/SPRI_AI_Brief_2023년12월호_F.pdf', 'file_path': 'data/SPRI_AI_Brief_2023년12월호_F.pdf', 'page': 12, 'total_pages': 23, 'Author': 'dj', 'Creator': 'Hwp 2018 10.0.0.13462', 'Producer': 'Hancom PDF 1.3.0.542', 'CreationDate': \"D:20231208132838+09'00'\", 'ModDate': \"D:20231208132838+09'00'\", 'PDFVersion': '1.4'}, page_content='처리를 지원\\n∙ 코드 모델 기반의 AI 코딩 어시스턴트 ‘코드아이(code.i)’는 대화형 인터페이스로 서비스를 제공하며\\n사내 소프트웨어 개발에 최적화\\n∙ 이미지 모델은 창의적인 이미지를 생성하고 기존 이미지를 원하는 대로 바꿀 수 있도록 지원하며\\n저해상도 이미지의 고해상도 전환도 지원\\nn IT 전문지 테크리퍼블릭(TechRepublic)은 온디바이스 AI가 주요 기술 트렌드로 부상했다며,\\n2024년부터 가우스를 탑재한 삼성 스마트폰이 메타의 라마(Llama)2를 탑재한 퀄컴 기기 및 구글'), Document(id='6ac9fa9b-f6eb-44aa-9823-cd539361545e', metadata={'source': 'data/SPRI_AI_Brief_2023년12월호_F.pdf', 'file_path': 'data/SPRI_AI_Brief_2023년12월호_F.pdf', 'page': 12, 'total_pages': 23, 'Author': 'dj', 'Creator': 'Hwp 2018 10.0.0.13462', 'Producer': 'Hancom PDF 1.3.0.542', 'CreationDate': \"D:20231208132838+09'00'\", 'ModDate': \"D:20231208132838+09'00'\", 'PDFVersion': '1.4'}, page_content='온디바이스에서 작동하도록 설계되어 외부로 사용자의 정보가 유출되지 않는 장점을 보유\\n∙ 삼성전자는 삼성 가우스를 활용한 온디바이스 AI 기술도 소개했으며, 생성 AI 모델을 다양한 제품에\\n단계적으로 탑재할 계획\\nn 삼성 가우스는 △텍스트를 생성하는 언어모델 △코드를 생성하는 코드 모델 △이미지를 생성하는\\n이미지 모델의 3개 모델로 구성\\n∙ 언어 모델은 클라우드와 온디바이스 대상 다양한 모델로 구성되며, 메일 작성, 문서 요약, 번역 업무의\\n처리를 지원')]}\n",
      "\n",
      "==========================================================================================\n",
      "🔄 [Node] 답변 생성 노드 🔄\n",
      "-------------------\n",
      "(1) 사용자 질문: 삼성전자가 개발한 생성형 AI 이름은?\n",
      "(2) 문서 검색 결과:\n",
      "[Document(id='e0c2c7c1-ce9f-4f28-9dad-049e0a0bb529', metadata={'source': 'data/SPRI_AI_Brief_2023년12월호_F.pdf', 'file_path': 'data/SPRI_AI_Brief_2023년12월호_F.pdf', 'page': 12, 'total_pages': 23, 'Author': 'dj', 'Creator': 'Hwp 2018 10.0.0.13462', 'Producer': 'Hancom PDF 1.3.0.542', 'CreationDate': \"D:20231208132838+09'00'\", 'ModDate': \"D:20231208132838+09'00'\", 'PDFVersion': '1.4'}, page_content='SPRi AI Brief |\\n2023-12월호\\n삼성전자, 자체 개발 생성 AI ‘삼성 가우스’ 공개\\nKEY Contents\\nn 삼성전자가 온디바이스에서 작동 가능하며 언어, 코드, 이미지의 3개 모델로 구성된 자체 개발 생성\\nAI 모델 ‘삼성 가우스’를 공개\\nn 삼성전자는 삼성 가우스를 다양한 제품에 단계적으로 탑재할 계획으로, 온디바이스 작동이 가능한\\n삼성 가우스는 외부로 사용자 정보가 유출될 위험이 없다는 장점을 보유\\n£언어, 코드, 이미지의 3개 모델로 구성된 삼성 가우스, 온디바이스 작동 지원'), Document(id='2be8b6fb-b31a-4729-b392-22770b9a366f', metadata={'source': 'data/SPRI_AI_Brief_2023년12월호_F.pdf', 'file_path': 'data/SPRI_AI_Brief_2023년12월호_F.pdf', 'page': 1, 'total_pages': 23, 'Author': 'dj', 'Creator': 'Hwp 2018 10.0.0.13462', 'Producer': 'Hancom PDF 1.3.0.542', 'CreationDate': \"D:20231208132838+09'00'\", 'ModDate': \"D:20231208132838+09'00'\", 'PDFVersion': '1.4'}, page_content='▹ 삼성전자, 자체 개발 생성 AI ‘삼성 가우스’ 공개 ···························································10\\n▹ 구글, 앤스로픽에 20억 달러 투자로 생성 AI 협력 강화 ················································11\\n▹ IDC, 2027년 AI 소프트웨어 매출 2,500억 달러 돌파 전망···········································12'), Document(id='6924b616-aa84-4b6a-a4b5-b93ad942e9ee', metadata={'source': 'data/SPRI_AI_Brief_2023년12월호_F.pdf', 'file_path': 'data/SPRI_AI_Brief_2023년12월호_F.pdf', 'page': 12, 'total_pages': 23, 'Author': 'dj', 'Creator': 'Hwp 2018 10.0.0.13462', 'Producer': 'Hancom PDF 1.3.0.542', 'CreationDate': \"D:20231208132838+09'00'\", 'ModDate': \"D:20231208132838+09'00'\", 'PDFVersion': '1.4'}, page_content='£언어, 코드, 이미지의 3개 모델로 구성된 삼성 가우스, 온디바이스 작동 지원\\nn 삼성전자가 2023년 11월 8일 열린 ‘삼성 AI 포럼 2023’ 행사에서 자체 개발한 생성 AI 모델\\n‘삼성 가우스’를 최초 공개\\n∙ 정규분포 이론을 정립한 천재 수학자 가우스(Gauss)의 이름을 본뜬 삼성 가우스는 다양한 상황에\\n최적화된 크기의 모델 선택이 가능\\n∙ 삼성 가우스는 라이선스나 개인정보를 침해하지 않는 안전한 데이터를 통해 학습되었으며,\\n온디바이스에서 작동하도록 설계되어 외부로 사용자의 정보가 유출되지 않는 장점을 보유'), Document(id='a75f7e74-6ff4-4c59-8b99-f2e02ce228dd', metadata={'source': 'data/SPRI_AI_Brief_2023년12월호_F.pdf', 'file_path': 'data/SPRI_AI_Brief_2023년12월호_F.pdf', 'page': 12, 'total_pages': 23, 'Author': 'dj', 'Creator': 'Hwp 2018 10.0.0.13462', 'Producer': 'Hancom PDF 1.3.0.542', 'CreationDate': \"D:20231208132838+09'00'\", 'ModDate': \"D:20231208132838+09'00'\", 'PDFVersion': '1.4'}, page_content='어시스턴트를 적용한 구글 픽셀(Pixel)과 경쟁할 것으로 예상\\n☞ 출처 : 삼성전자, ‘삼성 AI 포럼’서 자체 개발 생성형 AI ‘삼성 가우스’ 공개, 2023.11.08.\\n삼성전자, ‘삼성 개발자 콘퍼런스 코리아 2023’ 개최, 2023.11.14.\\nTechRepublic, Samsung Gauss: Samsung Research Reveals Generative AI, 2023.11.08.\\n10'), Document(id='b7051f97-42d5-4f66-9da7-249639b8d9cd', metadata={'source': 'data/SPRI_AI_Brief_2023년12월호_F.pdf', 'file_path': 'data/SPRI_AI_Brief_2023년12월호_F.pdf', 'page': 12, 'total_pages': 23, 'Author': 'dj', 'Creator': 'Hwp 2018 10.0.0.13462', 'Producer': 'Hancom PDF 1.3.0.542', 'CreationDate': \"D:20231208132838+09'00'\", 'ModDate': \"D:20231208132838+09'00'\", 'PDFVersion': '1.4'}, page_content='처리를 지원\\n∙ 코드 모델 기반의 AI 코딩 어시스턴트 ‘코드아이(code.i)’는 대화형 인터페이스로 서비스를 제공하며\\n사내 소프트웨어 개발에 최적화\\n∙ 이미지 모델은 창의적인 이미지를 생성하고 기존 이미지를 원하는 대로 바꿀 수 있도록 지원하며\\n저해상도 이미지의 고해상도 전환도 지원\\nn IT 전문지 테크리퍼블릭(TechRepublic)은 온디바이스 AI가 주요 기술 트렌드로 부상했다며,\\n2024년부터 가우스를 탑재한 삼성 스마트폰이 메타의 라마(Llama)2를 탑재한 퀄컴 기기 및 구글'), Document(id='6ac9fa9b-f6eb-44aa-9823-cd539361545e', metadata={'source': 'data/SPRI_AI_Brief_2023년12월호_F.pdf', 'file_path': 'data/SPRI_AI_Brief_2023년12월호_F.pdf', 'page': 12, 'total_pages': 23, 'Author': 'dj', 'Creator': 'Hwp 2018 10.0.0.13462', 'Producer': 'Hancom PDF 1.3.0.542', 'CreationDate': \"D:20231208132838+09'00'\", 'ModDate': \"D:20231208132838+09'00'\", 'PDFVersion': '1.4'}, page_content='온디바이스에서 작동하도록 설계되어 외부로 사용자의 정보가 유출되지 않는 장점을 보유\\n∙ 삼성전자는 삼성 가우스를 활용한 온디바이스 AI 기술도 소개했으며, 생성 AI 모델을 다양한 제품에\\n단계적으로 탑재할 계획\\nn 삼성 가우스는 △텍스트를 생성하는 언어모델 △코드를 생성하는 코드 모델 △이미지를 생성하는\\n이미지 모델의 3개 모델로 구성\\n∙ 언어 모델은 클라우드와 온디바이스 대상 다양한 모델로 구성되며, 메일 작성, 문서 요약, 번역 업무의\\n처리를 지원')]\n",
      "\n",
      "(3) rag 실행 결과:\n",
      "삼성전자가 공개한 생성 AI 모델 ‘삼성 가우스’는 언어, 코드, 이미지의 3개 모델로 구성되어 있으며, 온디바이스에서 작동하도록 설계되어 사용자 정보 유출 위험이 없다. 이 모델은 2023년 11월 8일 ‘삼성 AI 포럼 2023’에서 처음 공개되었다.\n",
      "\n",
      "**Source**\n",
      "- data/SPRI_AI_Brief_2023년12월호_F.pdf (page 12)\n",
      "-------------------\n",
      "\n",
      "==========================================================================================\n",
      "\n",
      "\n",
      "==========================================================================================\n",
      "🔄 [Node] hallucination 평가 노드 🔄\n",
      "===== [평가 결과] =====\n",
      "yes\n",
      "===== [DECISION: GENERATION IS GROUNDED IN DOCUMENTS] =====\n",
      "no hallucination\n",
      "===== [GRADE GENERATED ANSWER vs QUESTION] =====\n",
      "==== [DECISION: GENERATED ANSWER ADDRESSES QUESTION] ====\n",
      "relevant\n",
      "==========================================================================================\n",
      "\n",
      "[node_name]: generate\n",
      "[node_chunk]:\n",
      " {'generation': '삼성전자가 공개한 생성 AI 모델 ‘삼성 가우스’는 언어, 코드, 이미지의 3개 모델로 구성되어 있으며, 온디바이스에서 작동하도록 설계되어 사용자 정보 유출 위험이 없다. 이 모델은 2023년 11월 8일 ‘삼성 AI 포럼 2023’에서 처음 공개되었다.\\n\\n**Source**\\n- data/SPRI_AI_Brief_2023년12월호_F.pdf (page 12)'}\n"
     ]
    }
   ],
   "source": [
    "config = RunnableConfig(                        # config 설정\n",
    "    recursion_limit=20,                         # 최대 20개의 노드까지 방문.\n",
    "    configurable={'thread_id': random_uuid()}   # thread_id 설정\n",
    ")\n",
    "\n",
    "inputs = GraphState(question='삼성전자가 개발한 생성형 AI 이름은?')\n",
    "\n",
    "for event in app.stream(inputs, config=config):\n",
    "    for node_name, node_chunk in event.items():\n",
    "        print('[node_name]:', node_name)\n",
    "        print('[node_chunk]:\\n', node_chunk)"
   ]
  },
  {
   "cell_type": "code",
   "execution_count": 73,
   "metadata": {},
   "outputs": [
    {
     "name": "stdout",
     "output_type": "stream",
     "text": [
      "\n",
      "==========================================================================================\n",
      "🔄 [Node] 질문 라우팅 노드 🔄\n",
      "==== [ROUTE QUESTION TO WEB SEARCH] ====\n",
      "==========================================================================================\n",
      "\n",
      "\n",
      "==========================================================================================\n",
      "🔄 [Node] 웹 검색 노드 🔄\n",
      "-------------------\n",
      "question: \n",
      "대구 교보문고\n",
      "-------------------\n",
      "\n",
      "-------------------\n",
      "web_results: \n",
      "[{'title': '교보문고 대구점 - LocalView', 'url': 'https://www.localview.co.kr/store/detail.asp?seq=600977851', 'content': '국민정신문화 향상, 사회교육적 기능을 살린 문화공간을 창출하는 문고 대구광역시 중구 동성로2가 위치, 영업점, 이벤트, 행사 등 안내, 보유도서 검색 제공. 대구의 중심가 동성로에 있는 교보문고 대구점은 총 면적 1,900평의 넓은 매장과 15만 종 30만 권의 방대한 도서를 바탕으로 대구를 대표하는', 'score': 0.8488849, 'raw_content': ' |  |  |  |  |  |  |  |  | \\n\\n교보문고 대구점국민정신문화 향상, 사회교육적 기능을 살린 문화공간을 창출하는 문고패션쇼핑\\r\\n                                                        >쇼핑/유통\\r\\n                                                        >서점연 락 처053-425-3501홈페이지http://www.kyobobook.co.kr/storen/MainStore.laf?SITE=04주소대구광역시 중구 동성로2가 88-25도로명주소대구광역시 중구 국채보상로 586부가정보영업시간매일\\xa0\\r\\n\\t\\t\\t\\t\\t\\t\\t\\t\\t\\t\\t\\t\\tAM 10:00 \\r\\n\\t\\t\\t\\t\\t\\t\\t\\t\\t\\t\\t\\t\\t\\t~ \\r\\n\\t\\t\\t\\t\\t\\t\\t\\t\\t\\t\\t\\t\\t\\tPM 22:00카테고리패션쇼핑\\r\\n                                                    > 쇼핑/유통\\r\\n                                                    > 서점조회수 :866추천수 :0리뷰 :0국민정신문화 향상, 사회교육적 기능을 살린 문화공간을 창출하는 문고대구광역시 중구 동성로2가 위치, 영업점, 이벤트, 행사 등 안내, 보유도서 검색 제공.대구의 중심가 동성로에 있는 교보문고 대구점은 총 면적 1,900평의 넓은 매장과 15만 종 30만 권의 방대한 도서를 바탕으로 대구를 대표하는 서점이자 열린 문화공간으로 자리 잡고 있으며, 책을 사랑하시는 분들을 위한 북클럽회원 전용 라운지, 어린이 독자들의 만남의 장소 키즈가든, 다채로운 문화행사가 가득한 문화 이벤트홀 등은 독자 여러분께 더 큰 즐거움을 제공해드릴 것입니다.등록된 상품정보가 없습니다.등록된 동영상 정보가 없습니다.등록된 정보가 없습니다.1호선(중앙로)1호선(중앙로)2호선(반월당)2호선(반월당)1호선(반월당)1호선(반월당)1호선(대구역)1호선(대구역)주변버스CGV대구한일건너간선156\\r,\\r\\r309\\r,\\r\\r323\\r,\\r\\r425\\r,\\r\\r427\\r,\\r\\r521\\r,\\r\\r724\\r,\\r\\r939\\r,\\r\\r980CGV대구한일앞간선106\\r,\\r\\r156\\r,\\r\\r323-1\\r,\\r\\r521\\r,\\r\\r600약령시앞간선106\\r,\\r\\r202\\r,\\r\\r303-1\\r,\\r\\r349\\r,\\r\\r401\\r,\\r\\r410-1\\r,\\r\\r503\\r,\\r\\r518\\r,\\r\\r650\\r,\\r\\r704\\r,\\r\\r706\\r,\\r\\r730\\r,\\r\\r909지선동구1-1\\r,\\r\\r북구2급행급행2경상감영공원건너간선202-1\\r,\\r\\r303\\r,\\r\\r349\\r,\\r\\r401\\r,\\r\\r410\\r,\\r\\r503\\r,\\r\\r623\\r,\\r\\r704\\r,\\r\\r706\\r,\\r\\r730\\r,\\r\\r980지선동구1\\r,\\r\\r가창2\\r,\\r\\r동구2급행급행22.28기념중앙공원건너1간선508\\r,\\r\\r518\\r,\\r\\r600지선동구1\\r,\\r\\r가창2\\r,\\r\\r북구3급행급행1\\r,\\r\\r급행3약령시건너간선106\\r,\\r\\r202-1\\r,\\r\\r303\\r,\\r\\r349\\r,\\r\\r401\\r,\\r\\r410\\r,\\r\\r503\\r,\\r\\r518\\r,\\r\\r650\\r,\\r\\r704\\r,\\r\\r706\\r,\\r\\r730급행급행2지역상권시간대별 유동인구男10대男20대男30대男40대男50대女10대女20대女30대女40대女50대12시~13시까지(주중)18명42명68명60명32명16명52명48명32명24명19시~20시까지(주중)22명60명102명88명52명22명56명40명30명20명12시~13시까지(주말)24명62명50명48명30명18명56명42명24명20명19시~20시까지(주말)36명72명88명68명24명32명62명36명20명18명실내뷰등록된 실내 정보가 없습니다.near by좋은어린이서점 남산점교보문고 대구점모던북작성자내용점수이용하신 업체의 후기를 자유롭게 적어주세요.(욕설 및 상업적인 광고등은 사전통보없이 삭제됩니다.)작성자별점선택100 점90 점80 점70 점60 점50 점40 점30 점20 점10 점0 점비밀번호76644678보이는 도배방지키를 입력하세요. | 교보문고 대구점국민정신문화 향상, 사회교육적 기능을 살린 문화공간을 창출하는 문고패션쇼핑\\r\\n                                                        >쇼핑/유통\\r\\n                                                        >서점 | 교보문고 대구점 | 국민정신문화 향상, 사회교육적 기능을 살린 문화공간을 창출하는 문고패션쇼핑\\r\\n                                                        >쇼핑/유통\\r\\n                                                        >서점 |  |  |  |  | 연 락 처053-425-3501홈페이지http://www.kyobobook.co.kr/storen/MainStore.laf?SITE=04주소대구광역시 중구 동성로2가 88-25도로명주소대구광역시 중구 국채보상로 586부가정보영업시간매일\\xa0\\r\\n\\t\\t\\t\\t\\t\\t\\t\\t\\t\\t\\t\\t\\tAM 10:00 \\r\\n\\t\\t\\t\\t\\t\\t\\t\\t\\t\\t\\t\\t\\t\\t~ \\r\\n\\t\\t\\t\\t\\t\\t\\t\\t\\t\\t\\t\\t\\t\\tPM 22:00카테고리패션쇼핑\\r\\n                                                    > 쇼핑/유통\\r\\n                                                    > 서점조회수 :866추천수 :0리뷰 :0 | 연 락 처 | 053-425-3501 | 홈페이지 | http://www.kyobobook.co.kr/storen/MainStore.laf?SITE=04 | 주소 | 대구광역시 중구 동성로2가 88-25 | 도로명주소 | 대구광역시 중구 국채보상로 586 | 부가정보 |  | 영업시간 | 매일\\xa0\\r\\n\\t\\t\\t\\t\\t\\t\\t\\t\\t\\t\\t\\t\\tAM 10:00 \\r\\n\\t\\t\\t\\t\\t\\t\\t\\t\\t\\t\\t\\t\\t\\t~ \\r\\n\\t\\t\\t\\t\\t\\t\\t\\t\\t\\t\\t\\t\\t\\tPM 22:00 | 카테고리 | 패션쇼핑\\r\\n                                                    > 쇼핑/유통\\r\\n                                                    > 서점 | 조회수 :866추천수 :0리뷰 :0 |  | 조회수 :866추천수 :0리뷰 :0 |  | 조회수 :866추천수 :0리뷰 :0 |  | 등록된 상품정보가 없습니다.등록된 동영상 정보가 없습니다.등록된 정보가 없습니다.1호선(중앙로)1호선(중앙로)2호선(반월당)2호선(반월당)1호선(반월당)1호선(반월당)1호선(대구역)1호선(대구역) |  |  | CGV대구한일건너 | 간선156\\r,\\r\\r309\\r,\\r\\r323\\r,\\r\\r425\\r,\\r\\r427\\r,\\r\\r521\\r,\\r\\r724\\r,\\r\\r939\\r,\\r\\r980 | CGV대구한일앞 | 간선106\\r,\\r\\r156\\r,\\r\\r323-1\\r,\\r\\r521\\r,\\r\\r600 | 약령시앞 | 간선106\\r,\\r\\r202\\r,\\r\\r303-1\\r,\\r\\r349\\r,\\r\\r401\\r,\\r\\r410-1\\r,\\r\\r503\\r,\\r\\r518\\r,\\r\\r650\\r,\\r\\r704\\r,\\r\\r706\\r,\\r\\r730\\r,\\r\\r909지선동구1-1\\r,\\r\\r북구2급행급행2 | 경상감영공원건너 | 간선202-1\\r,\\r\\r303\\r,\\r\\r349\\r,\\r\\r401\\r,\\r\\r410\\r,\\r\\r503\\r,\\r\\r623\\r,\\r\\r704\\r,\\r\\r706\\r,\\r\\r730\\r,\\r\\r980지선동구1\\r,\\r\\r가창2\\r,\\r\\r동구2급행급행2 | 2.28기념중앙공원건너1 | 간선508\\r,\\r\\r518\\r,\\r\\r600지선동구1\\r,\\r\\r가창2\\r,\\r\\r북구3급행급행1\\r,\\r\\r급행3 | 약령시건너 | 간선106\\r,\\r\\r202-1\\r,\\r\\r303\\r,\\r\\r349\\r,\\r\\r401\\r,\\r\\r410\\r,\\r\\r503\\r,\\r\\r518\\r,\\r\\r650\\r,\\r\\r704\\r,\\r\\r706\\r,\\r\\r730급행급행2 | 시간대별 유동인구 | 男10대 | 男20대 | 男30대 | 男40대 | 男50대 | 女10대 | 女20대 | 女30대 | 女40대 | 女50대 | 12시~13시까지(주중) | 18명 | 42명 | 68명 | 60명 | 32명 | 16명 | 52명 | 48명 | 32명 | 24명 | 19시~20시까지(주중) | 22명 | 60명 | 102명 | 88명 | 52명 | 22명 | 56명 | 40명 | 30명 | 20명 | 12시~13시까지(주말) | 24명 | 62명 | 50명 | 48명 | 30명 | 18명 | 56명 | 42명 | 24명 | 20명 | 19시~20시까지(주말) | 36명 | 72명 | 88명 | 68명 | 24명 | 32명 | 62명 | 36명 | 20명 | 18명 | 좋은어린이서점 남산점 | 교보문고 대구점 | 모던북 |  |  | 작성자내용점수이용하신 업체의 후기를 자유롭게 적어주세요.(욕설 및 상업적인 광고등은 사전통보없이 삭제됩니다.)작성자별점선택100 점90 점80 점70 점60 점50 점40 점30 점20 점10 점0 점비밀번호76644678보이는 도배방지키를 입력하세요. | 작성자내용점수 | 작성자 | 내용 | 점수 | 이용하신 업체의 후기를 자유롭게 적어주세요.(욕설 및 상업적인 광고등은 사전통보없이 삭제됩니다.)작성자별점선택100 점90 점80 점70 점60 점50 점40 점30 점20 점10 점0 점비밀번호76644678보이는 도배방지키를 입력하세요. |  |  | 이용하신 업체의 후기를 자유롭게 적어주세요.(욕설 및 상업적인 광고등은 사전통보없이 삭제됩니다.) | 작성자별점선택100 점90 점80 점70 점60 점50 점40 점30 점20 점10 점0 점비밀번호 | 작성자 |  | 별점선택100 점90 점80 점70 점60 점50 점40 점30 점20 점10 점0 점 | 비밀번호 | 비밀번호 |  |  | 76644678보이는 도배방지키를 입력하세요. |  |  | 76644678 | 보이는 도배방지키를 입력하세요. |  |  |  | \\n교보문고 대구점국민정신문화 향상, 사회교육적 기능을 살린 문화공간을 창출하는 문고패션쇼핑\\r\\n                                                        >쇼핑/유통\\r\\n                                                        >서점 | 교보문고 대구점 | 국민정신문화 향상, 사회교육적 기능을 살린 문화공간을 창출하는 문고패션쇼핑\\r\\n                                                        >쇼핑/유통\\r\\n                                                        >서점\\n교보문고 대구점 | 국민정신문화 향상, 사회교육적 기능을 살린 문화공간을 창출하는 문고패션쇼핑\\r\\n                                                        >쇼핑/유통\\r\\n                                                        >서점\\n\\n |  |  | 연 락 처053-425-3501홈페이지http://www.kyobobook.co.kr/storen/MainStore.laf?SITE=04주소대구광역시 중구 동성로2가 88-25도로명주소대구광역시 중구 국채보상로 586부가정보영업시간매일\\xa0\\r\\n\\t\\t\\t\\t\\t\\t\\t\\t\\t\\t\\t\\t\\tAM 10:00 \\r\\n\\t\\t\\t\\t\\t\\t\\t\\t\\t\\t\\t\\t\\t\\t~ \\r\\n\\t\\t\\t\\t\\t\\t\\t\\t\\t\\t\\t\\t\\t\\tPM 22:00카테고리패션쇼핑\\r\\n                                                    > 쇼핑/유통\\r\\n                                                    > 서점조회수 :866추천수 :0리뷰 :0 | 연 락 처 | 053-425-3501 | 홈페이지 | http://www.kyobobook.co.kr/storen/MainStore.laf?SITE=04 | 주소 | 대구광역시 중구 동성로2가 88-25 | 도로명주소 | 대구광역시 중구 국채보상로 586 | 부가정보 |  | 영업시간 | 매일\\xa0\\r\\n\\t\\t\\t\\t\\t\\t\\t\\t\\t\\t\\t\\t\\tAM 10:00 \\r\\n\\t\\t\\t\\t\\t\\t\\t\\t\\t\\t\\t\\t\\t\\t~ \\r\\n\\t\\t\\t\\t\\t\\t\\t\\t\\t\\t\\t\\t\\t\\tPM 22:00 | 카테고리 | 패션쇼핑\\r\\n                                                    > 쇼핑/유통\\r\\n                                                    > 서점 | 조회수 :866추천수 :0리뷰 :0 |  | 조회수 :866추천수 :0리뷰 :0 |  | 조회수 :866추천수 :0리뷰 :0 | \\n\\n\\n연 락 처 | 053-425-3501\\n홈페이지 | http://www.kyobobook.co.kr/storen/MainStore.laf?SITE=04\\n주소 | 대구광역시 중구 동성로2가 88-25\\n도로명주소 | 대구광역시 중구 국채보상로 586\\n부가정보 | \\n영업시간 | 매일\\xa0\\r\\n\\t\\t\\t\\t\\t\\t\\t\\t\\t\\t\\t\\t\\tAM 10:00 \\r\\n\\t\\t\\t\\t\\t\\t\\t\\t\\t\\t\\t\\t\\t\\t~ \\r\\n\\t\\t\\t\\t\\t\\t\\t\\t\\t\\t\\t\\t\\t\\tPM 22:00\\n카테고리 | 패션쇼핑\\r\\n                                                    > 쇼핑/유통\\r\\n                                                    > 서점\\n조회수 :866추천수 :0리뷰 :0 |  | 조회수 :866추천수 :0리뷰 :0 |  | 조회수 :866추천수 :0리뷰 :0 | \\n | 조회수 :866추천수 :0리뷰 :0 |  | 조회수 :866추천수 :0리뷰 :0 | \\n | 조회수 :866추천수 :0리뷰 :0 | \\n등록된 상품정보가 없습니다.등록된 동영상 정보가 없습니다.등록된 정보가 없습니다.1호선(중앙로)1호선(중앙로)2호선(반월당)2호선(반월당)1호선(반월당)1호선(반월당)1호선(대구역)1호선(대구역) |  | \\nCGV대구한일건너 | 간선156\\r,\\r\\r309\\r,\\r\\r323\\r,\\r\\r425\\r,\\r\\r427\\r,\\r\\r521\\r,\\r\\r724\\r,\\r\\r939\\r,\\r\\r980\\nCGV대구한일앞 | 간선106\\r,\\r\\r156\\r,\\r\\r323-1\\r,\\r\\r521\\r,\\r\\r600\\n약령시앞 | 간선106\\r,\\r\\r202\\r,\\r\\r303-1\\r,\\r\\r349\\r,\\r\\r401\\r,\\r\\r410-1\\r,\\r\\r503\\r,\\r\\r518\\r,\\r\\r650\\r,\\r\\r704\\r,\\r\\r706\\r,\\r\\r730\\r,\\r\\r909지선동구1-1\\r,\\r\\r북구2급행급행2\\n경상감영공원건너 | 간선202-1\\r,\\r\\r303\\r,\\r\\r349\\r,\\r\\r401\\r,\\r\\r410\\r,\\r\\r503\\r,\\r\\r623\\r,\\r\\r704\\r,\\r\\r706\\r,\\r\\r730\\r,\\r\\r980지선동구1\\r,\\r\\r가창2\\r,\\r\\r동구2급행급행2\\n2.28기념중앙공원건너1 | 간선508\\r,\\r\\r518\\r,\\r\\r600지선동구1\\r,\\r\\r가창2\\r,\\r\\r북구3급행급행1\\r,\\r\\r급행3\\n약령시건너 | 간선106\\r,\\r\\r202-1\\r,\\r\\r303\\r,\\r\\r349\\r,\\r\\r401\\r,\\r\\r410\\r,\\r\\r503\\r,\\r\\r518\\r,\\r\\r650\\r,\\r\\r704\\r,\\r\\r706\\r,\\r\\r730급행급행2\\n시간대별 유동인구 | 男10대 | 男20대 | 男30대 | 男40대 | 男50대 | 女10대 | 女20대 | 女30대 | 女40대 | 女50대\\n12시~13시까지(주중) | 18명 | 42명 | 68명 | 60명 | 32명 | 16명 | 52명 | 48명 | 32명 | 24명\\n19시~20시까지(주중) | 22명 | 60명 | 102명 | 88명 | 52명 | 22명 | 56명 | 40명 | 30명 | 20명\\n12시~13시까지(주말) | 24명 | 62명 | 50명 | 48명 | 30명 | 18명 | 56명 | 42명 | 24명 | 20명\\n19시~20시까지(주말) | 36명 | 72명 | 88명 | 68명 | 24명 | 32명 | 62명 | 36명 | 20명 | 18명\\n좋은어린이서점 남산점 | 교보문고 대구점 | 모던북\\n | \\n작성자내용점수이용하신 업체의 후기를 자유롭게 적어주세요.(욕설 및 상업적인 광고등은 사전통보없이 삭제됩니다.)작성자별점선택100 점90 점80 점70 점60 점50 점40 점30 점20 점10 점0 점비밀번호76644678보이는 도배방지키를 입력하세요. | 작성자내용점수 | 작성자 | 내용 | 점수 | 이용하신 업체의 후기를 자유롭게 적어주세요.(욕설 및 상업적인 광고등은 사전통보없이 삭제됩니다.)작성자별점선택100 점90 점80 점70 점60 점50 점40 점30 점20 점10 점0 점비밀번호76644678보이는 도배방지키를 입력하세요. |  |  | 이용하신 업체의 후기를 자유롭게 적어주세요.(욕설 및 상업적인 광고등은 사전통보없이 삭제됩니다.) | 작성자별점선택100 점90 점80 점70 점60 점50 점40 점30 점20 점10 점0 점비밀번호 | 작성자 |  | 별점선택100 점90 점80 점70 점60 점50 점40 점30 점20 점10 점0 점 | 비밀번호 | 비밀번호 |  |  | 76644678보이는 도배방지키를 입력하세요. |  |  | 76644678 | 보이는 도배방지키를 입력하세요. |  | \\n작성자내용점수 | 작성자 | 내용 | 점수\\n작성자 | 내용 | 점수\\n이용하신 업체의 후기를 자유롭게 적어주세요.(욕설 및 상업적인 광고등은 사전통보없이 삭제됩니다.)작성자별점선택100 점90 점80 점70 점60 점50 점40 점30 점20 점10 점0 점비밀번호76644678보이는 도배방지키를 입력하세요. |  |  | 이용하신 업체의 후기를 자유롭게 적어주세요.(욕설 및 상업적인 광고등은 사전통보없이 삭제됩니다.) | 작성자별점선택100 점90 점80 점70 점60 점50 점40 점30 점20 점10 점0 점비밀번호 | 작성자 |  | 별점선택100 점90 점80 점70 점60 점50 점40 점30 점20 점10 점0 점 | 비밀번호 | 비밀번호 |  |  | 76644678보이는 도배방지키를 입력하세요. |  |  | 76644678 | 보이는 도배방지키를 입력하세요.\\n | \\n\\n이용하신 업체의 후기를 자유롭게 적어주세요.(욕설 및 상업적인 광고등은 사전통보없이 삭제됩니다.)\\n작성자별점선택100 점90 점80 점70 점60 점50 점40 점30 점20 점10 점0 점비밀번호 | 작성자 |  | 별점선택100 점90 점80 점70 점60 점50 점40 점30 점20 점10 점0 점 | 비밀번호 | 비밀번호 | \\n작성자 |  | 별점선택100 점90 점80 점70 점60 점50 점40 점30 점20 점10 점0 점 | 비밀번호 | 비밀번호 | \\n비밀번호 | \\n\\n76644678보이는 도배방지키를 입력하세요. |  |  | 76644678 | 보이는 도배방지키를 입력하세요.\\n |  | 76644678 | 보이는 도배방지키를 입력하세요.\\n\\n\\n교보문고 대구점국민정신문화 향상, 사회교육적 기능을 살린 문화공간을 창출하는 문고패션쇼핑\\r\\n                                                        >쇼핑/유통\\r\\n                                                        >서점 | 교보문고 대구점 | 국민정신문화 향상, 사회교육적 기능을 살린 문화공간을 창출하는 문고패션쇼핑\\r\\n                                                        >쇼핑/유통\\r\\n                                                        >서점\\n교보문고 대구점 | 국민정신문화 향상, 사회교육적 기능을 살린 문화공간을 창출하는 문고패션쇼핑\\r\\n                                                        >쇼핑/유통\\r\\n                                                        >서점\\n\\n |  |  | 연 락 처053-425-3501홈페이지http://www.kyobobook.co.kr/storen/MainStore.laf?SITE=04주소대구광역시 중구 동성로2가 88-25도로명주소대구광역시 중구 국채보상로 586부가정보영업시간매일\\xa0\\r\\n\\t\\t\\t\\t\\t\\t\\t\\t\\t\\t\\t\\t\\tAM 10:00 \\r\\n\\t\\t\\t\\t\\t\\t\\t\\t\\t\\t\\t\\t\\t\\t~ \\r\\n\\t\\t\\t\\t\\t\\t\\t\\t\\t\\t\\t\\t\\t\\tPM 22:00카테고리패션쇼핑\\r\\n                                                    > 쇼핑/유통\\r\\n                                                    > 서점조회수 :866추천수 :0리뷰 :0 | 연 락 처 | 053-425-3501 | 홈페이지 | http://www.kyobobook.co.kr/storen/MainStore.laf?SITE=04 | 주소 | 대구광역시 중구 동성로2가 88-25 | 도로명주소 | 대구광역시 중구 국채보상로 586 | 부가정보 |  | 영업시간 | 매일\\xa0\\r\\n\\t\\t\\t\\t\\t\\t\\t\\t\\t\\t\\t\\t\\tAM 10:00 \\r\\n\\t\\t\\t\\t\\t\\t\\t\\t\\t\\t\\t\\t\\t\\t~ \\r\\n\\t\\t\\t\\t\\t\\t\\t\\t\\t\\t\\t\\t\\t\\tPM 22:00 | 카테고리 | 패션쇼핑\\r\\n                                                    > 쇼핑/유통\\r\\n                                                    > 서점 | 조회수 :866추천수 :0리뷰 :0 |  | 조회수 :866추천수 :0리뷰 :0 |  | 조회수 :866추천수 :0리뷰 :0 | \\n\\n\\n연 락 처 | 053-425-3501\\n홈페이지 | http://www.kyobobook.co.kr/storen/MainStore.laf?SITE=04\\n주소 | 대구광역시 중구 동성로2가 88-25\\n도로명주소 | 대구광역시 중구 국채보상로 586\\n부가정보 | \\n영업시간 | 매일\\xa0\\r\\n\\t\\t\\t\\t\\t\\t\\t\\t\\t\\t\\t\\t\\tAM 10:00 \\r\\n\\t\\t\\t\\t\\t\\t\\t\\t\\t\\t\\t\\t\\t\\t~ \\r\\n\\t\\t\\t\\t\\t\\t\\t\\t\\t\\t\\t\\t\\t\\tPM 22:00\\n카테고리 | 패션쇼핑\\r\\n                                                    > 쇼핑/유통\\r\\n                                                    > 서점\\n조회수 :866추천수 :0리뷰 :0 |  | 조회수 :866추천수 :0리뷰 :0 |  | 조회수 :866추천수 :0리뷰 :0 | \\n | 조회수 :866추천수 :0리뷰 :0 |  | 조회수 :866추천수 :0리뷰 :0 | \\n | 조회수 :866추천수 :0리뷰 :0 | \\n교보문고 대구점 | 국민정신문화 향상, 사회교육적 기능을 살린 문화공간을 창출하는 문고패션쇼핑\\r\\n                                                        >쇼핑/유통\\r\\n                                                        >서점\\n교보문고 대구점\\n\\n\\n\\n연 락 처 | 053-425-3501\\n홈페이지 | http://www.kyobobook.co.kr/storen/MainStore.laf?SITE=04\\n주소 | 대구광역시 중구 동성로2가 88-25\\n도로명주소 | 대구광역시 중구 국채보상로 586\\n부가정보 | \\n영업시간 | 매일\\xa0\\r\\n\\t\\t\\t\\t\\t\\t\\t\\t\\t\\t\\t\\t\\tAM 10:00 \\r\\n\\t\\t\\t\\t\\t\\t\\t\\t\\t\\t\\t\\t\\t\\t~ \\r\\n\\t\\t\\t\\t\\t\\t\\t\\t\\t\\t\\t\\t\\t\\tPM 22:00\\n카테고리 | 패션쇼핑\\r\\n                                                    > 쇼핑/유통\\r\\n                                                    > 서점\\n조회수 :866추천수 :0리뷰 :0 |  | 조회수 :866추천수 :0리뷰 :0 |  | 조회수 :866추천수 :0리뷰 :0 | \\n | 조회수 :866추천수 :0리뷰 :0 |  | 조회수 :866추천수 :0리뷰 :0 | \\n | 조회수 :866추천수 :0리뷰 :0 | \\n | 조회수 :866추천수 :0리뷰 :0 |  | 조회수 :866추천수 :0리뷰 :0 | \\n | 조회수 :866추천수 :0리뷰 :0 | \\n | 조회수 :866추천수 :0리뷰 :0 | \\n\\n\\n\\n\\n등록된 상품정보가 없습니다.등록된 동영상 정보가 없습니다.등록된 정보가 없습니다.1호선(중앙로)1호선(중앙로)2호선(반월당)2호선(반월당)1호선(반월당)1호선(반월당)1호선(대구역)1호선(대구역) |  | \\n\\n\\n\\n\\n\\n\\n\\n\\n\\n\\nCGV대구한일건너 | 간선156\\r,\\r\\r309\\r,\\r\\r323\\r,\\r\\r425\\r,\\r\\r427\\r,\\r\\r521\\r,\\r\\r724\\r,\\r\\r939\\r,\\r\\r980\\nCGV대구한일앞 | 간선106\\r,\\r\\r156\\r,\\r\\r323-1\\r,\\r\\r521\\r,\\r\\r600\\n약령시앞 | 간선106\\r,\\r\\r202\\r,\\r\\r303-1\\r,\\r\\r349\\r,\\r\\r401\\r,\\r\\r410-1\\r,\\r\\r503\\r,\\r\\r518\\r,\\r\\r650\\r,\\r\\r704\\r,\\r\\r706\\r,\\r\\r730\\r,\\r\\r909지선동구1-1\\r,\\r\\r북구2급행급행2\\n경상감영공원건너 | 간선202-1\\r,\\r\\r303\\r,\\r\\r349\\r,\\r\\r401\\r,\\r\\r410\\r,\\r\\r503\\r,\\r\\r623\\r,\\r\\r704\\r,\\r\\r706\\r,\\r\\r730\\r,\\r\\r980지선동구1\\r,\\r\\r가창2\\r,\\r\\r동구2급행급행2\\n2.28기념중앙공원건너1 | 간선508\\r,\\r\\r518\\r,\\r\\r600지선동구1\\r,\\r\\r가창2\\r,\\r\\r북구3급행급행1\\r,\\r\\r급행3\\n약령시건너 | 간선106\\r,\\r\\r202-1\\r,\\r\\r303\\r,\\r\\r349\\r,\\r\\r401\\r,\\r\\r410\\r,\\r\\r503\\r,\\r\\r518\\r,\\r\\r650\\r,\\r\\r704\\r,\\r\\r706\\r,\\r\\r730급행급행2\\n시간대별 유동인구 | 男10대 | 男20대 | 男30대 | 男40대 | 男50대 | 女10대 | 女20대 | 女30대 | 女40대 | 女50대\\n12시~13시까지(주중) | 18명 | 42명 | 68명 | 60명 | 32명 | 16명 | 52명 | 48명 | 32명 | 24명\\n19시~20시까지(주중) | 22명 | 60명 | 102명 | 88명 | 52명 | 22명 | 56명 | 40명 | 30명 | 20명\\n12시~13시까지(주말) | 24명 | 62명 | 50명 | 48명 | 30명 | 18명 | 56명 | 42명 | 24명 | 20명\\n19시~20시까지(주말) | 36명 | 72명 | 88명 | 68명 | 24명 | 32명 | 62명 | 36명 | 20명 | 18명\\n\\n\\n\\n\\n좋은어린이서점 남산점 | 교보문고 대구점 | 모던북\\n | \\n작성자내용점수이용하신 업체의 후기를 자유롭게 적어주세요.(욕설 및 상업적인 광고등은 사전통보없이 삭제됩니다.)작성자별점선택100 점90 점80 점70 점60 점50 점40 점30 점20 점10 점0 점비밀번호76644678보이는 도배방지키를 입력하세요. | 작성자내용점수 | 작성자 | 내용 | 점수 | 이용하신 업체의 후기를 자유롭게 적어주세요.(욕설 및 상업적인 광고등은 사전통보없이 삭제됩니다.)작성자별점선택100 점90 점80 점70 점60 점50 점40 점30 점20 점10 점0 점비밀번호76644678보이는 도배방지키를 입력하세요. |  |  | 이용하신 업체의 후기를 자유롭게 적어주세요.(욕설 및 상업적인 광고등은 사전통보없이 삭제됩니다.) | 작성자별점선택100 점90 점80 점70 점60 점50 점40 점30 점20 점10 점0 점비밀번호 | 작성자 |  | 별점선택100 점90 점80 점70 점60 점50 점40 점30 점20 점10 점0 점 | 비밀번호 | 비밀번호 |  |  | 76644678보이는 도배방지키를 입력하세요. |  |  | 76644678 | 보이는 도배방지키를 입력하세요. |  | \\n작성자내용점수 | 작성자 | 내용 | 점수\\n작성자 | 내용 | 점수\\n이용하신 업체의 후기를 자유롭게 적어주세요.(욕설 및 상업적인 광고등은 사전통보없이 삭제됩니다.)작성자별점선택100 점90 점80 점70 점60 점50 점40 점30 점20 점10 점0 점비밀번호76644678보이는 도배방지키를 입력하세요. |  |  | 이용하신 업체의 후기를 자유롭게 적어주세요.(욕설 및 상업적인 광고등은 사전통보없이 삭제됩니다.) | 작성자별점선택100 점90 점80 점70 점60 점50 점40 점30 점20 점10 점0 점비밀번호 | 작성자 |  | 별점선택100 점90 점80 점70 점60 점50 점40 점30 점20 점10 점0 점 | 비밀번호 | 비밀번호 |  |  | 76644678보이는 도배방지키를 입력하세요. |  |  | 76644678 | 보이는 도배방지키를 입력하세요.\\n | \\n\\n이용하신 업체의 후기를 자유롭게 적어주세요.(욕설 및 상업적인 광고등은 사전통보없이 삭제됩니다.)\\n작성자별점선택100 점90 점80 점70 점60 점50 점40 점30 점20 점10 점0 점비밀번호 | 작성자 |  | 별점선택100 점90 점80 점70 점60 점50 점40 점30 점20 점10 점0 점 | 비밀번호 | 비밀번호 | \\n작성자 |  | 별점선택100 점90 점80 점70 점60 점50 점40 점30 점20 점10 점0 점 | 비밀번호 | 비밀번호 | \\n비밀번호 | \\n\\n76644678보이는 도배방지키를 입력하세요. |  |  | 76644678 | 보이는 도배방지키를 입력하세요.\\n |  | 76644678 | 보이는 도배방지키를 입력하세요.\\n\\n\\n작성자내용점수 | 작성자 | 내용 | 점수\\n작성자 | 내용 | 점수\\n작성자 | 내용 | 점수\\n이용하신 업체의 후기를 자유롭게 적어주세요.(욕설 및 상업적인 광고등은 사전통보없이 삭제됩니다.)작성자별점선택100 점90 점80 점70 점60 점50 점40 점30 점20 점10 점0 점비밀번호76644678보이는 도배방지키를 입력하세요. |  |  | 이용하신 업체의 후기를 자유롭게 적어주세요.(욕설 및 상업적인 광고등은 사전통보없이 삭제됩니다.) | 작성자별점선택100 점90 점80 점70 점60 점50 점40 점30 점20 점10 점0 점비밀번호 | 작성자 |  | 별점선택100 점90 점80 점70 점60 점50 점40 점30 점20 점10 점0 점 | 비밀번호 | 비밀번호 |  |  | 76644678보이는 도배방지키를 입력하세요. |  |  | 76644678 | 보이는 도배방지키를 입력하세요.\\n | \\n\\n이용하신 업체의 후기를 자유롭게 적어주세요.(욕설 및 상업적인 광고등은 사전통보없이 삭제됩니다.)\\n작성자별점선택100 점90 점80 점70 점60 점50 점40 점30 점20 점10 점0 점비밀번호 | 작성자 |  | 별점선택100 점90 점80 점70 점60 점50 점40 점30 점20 점10 점0 점 | 비밀번호 | 비밀번호 | \\n작성자 |  | 별점선택100 점90 점80 점70 점60 점50 점40 점30 점20 점10 점0 점 | 비밀번호 | 비밀번호 | \\n비밀번호 | \\n\\n76644678보이는 도배방지키를 입력하세요. |  |  | 76644678 | 보이는 도배방지키를 입력하세요.\\n |  | 76644678 | 보이는 도배방지키를 입력하세요.\\n\\n\\n | \\n\\n\\n이용하신 업체의 후기를 자유롭게 적어주세요.(욕설 및 상업적인 광고등은 사전통보없이 삭제됩니다.)\\n작성자별점선택100 점90 점80 점70 점60 점50 점40 점30 점20 점10 점0 점비밀번호 | 작성자 |  | 별점선택100 점90 점80 점70 점60 점50 점40 점30 점20 점10 점0 점 | 비밀번호 | 비밀번호 | \\n작성자 |  | 별점선택100 점90 점80 점70 점60 점50 점40 점30 점20 점10 점0 점 | 비밀번호 | 비밀번호 | \\n비밀번호 | \\n\\n76644678보이는 도배방지키를 입력하세요. |  |  | 76644678 | 보이는 도배방지키를 입력하세요.\\n |  | 76644678 | 보이는 도배방지키를 입력하세요.\\n작성자 |  | 별점선택100 점90 점80 점70 점60 점50 점40 점30 점20 점10 점0 점 | 비밀번호 | 비밀번호 | \\n비밀번호 | \\n비밀번호 | \\n |  | 76644678 | 보이는 도배방지키를 입력하세요.\\n로컬뷰는 지역내 업소(기업)정보를 제공하는 온라인 전화번호부 서비스입니다.로컬뷰는 개별업체로 부터 광고비 또는 중계수수료를 받지 않는 무료서비스 입니다Copyright(c) 2010 로컬뷰(LocalView) All Rights Reserved. |  | 로컬뷰는 지역내 업소(기업)정보를 제공하는 온라인 전화번호부 서비스입니다.로컬뷰는 개별업체로 부터 광고비 또는 중계수수료를 받지 않는 무료서비스 입니다Copyright(c) 2010 로컬뷰(LocalView) All Rights Reserved. |  |  |  |  |  |  | 로컬뷰는 지역내 업소(기업)정보를 제공하는 온라인 전화번호부 서비스입니다.로컬뷰는 개별업체로 부터 광고비 또는 중계수수료를 받지 않는 무료서비스 입니다Copyright(c) 2010 로컬뷰(LocalView) All Rights Reserved.\\n | 로컬뷰는 지역내 업소(기업)정보를 제공하는 온라인 전화번호부 서비스입니다.로컬뷰는 개별업체로 부터 광고비 또는 중계수수료를 받지 않는 무료서비스 입니다Copyright(c) 2010 로컬뷰(LocalView) All Rights Reserved. |  |  |  |  |  |  | 로컬뷰는 지역내 업소(기업)정보를 제공하는 온라인 전화번호부 서비스입니다.로컬뷰는 개별업체로 부터 광고비 또는 중계수수료를 받지 않는 무료서비스 입니다Copyright(c) 2010 로컬뷰(LocalView) All Rights Reserved.\\n |  |  |  |  | \\n |  |  |  | \\n로컬뷰는 지역내 업소(기업)정보를 제공하는 온라인 전화번호부 서비스입니다.로컬뷰는 개별업체로 부터 광고비 또는 중계수수료를 받지 않는 무료서비스 입니다Copyright(c) 2010 로컬뷰(LocalView) All Rights Reserved.\\n | 로컬뷰는 지역내 업소(기업)정보를 제공하는 온라인 전화번호부 서비스입니다.로컬뷰는 개별업체로 부터 광고비 또는 중계수수료를 받지 않는 무료서비스 입니다Copyright(c) 2010 로컬뷰(LocalView) All Rights Reserved. |  |  |  |  |  |  | 로컬뷰는 지역내 업소(기업)정보를 제공하는 온라인 전화번호부 서비스입니다.로컬뷰는 개별업체로 부터 광고비 또는 중계수수료를 받지 않는 무료서비스 입니다Copyright(c) 2010 로컬뷰(LocalView) All Rights Reserved.\\n |  |  |  |  | \\n |  |  |  | \\n로컬뷰는 지역내 업소(기업)정보를 제공하는 온라인 전화번호부 서비스입니다.로컬뷰는 개별업체로 부터 광고비 또는 중계수수료를 받지 않는 무료서비스 입니다Copyright(c) 2010 로컬뷰(LocalView) All Rights Reserved.\\n |  |  |  |  | \\n |  |  |  | \\n로컬뷰는 지역내 업소(기업)정보를 제공하는 온라인 전화번호부 서비스입니다.로컬뷰는 개별업체로 부터 광고비 또는 중계수수료를 받지 않는 무료서비스 입니다Copyright(c) 2010 로컬뷰(LocalView) All Rights Reserved.\\n |  |  |  | \\n'}, {'title': '교보문고 대구점 - LocalView', 'url': 'https://www.localview.co.kr/store/detail.asp?seq=600977851', 'content': '국민정신문화 향상, 사회교육적 기능을 살린 문화공간을 창출하는 문고 대구광역시 중구 동성로2가 위치, 영업점, 이벤트, 행사 등 안내, 보유도서 검색 제공. 대구의 중심가 동성로에 있는 교보문고 대구점은 총 면적 1,900평의 넓은 매장과 15만 종 30만 권의 방대한 도서를 바탕으로 대구를 대표하는', 'score': 0.8488849, 'raw_content': ' |  |  |  |  |  |  |  |  | \\n\\n교보문고 대구점국민정신문화 향상, 사회교육적 기능을 살린 문화공간을 창출하는 문고패션쇼핑\\r\\n                                                        >쇼핑/유통\\r\\n                                                        >서점연 락 처053-425-3501홈페이지http://www.kyobobook.co.kr/storen/MainStore.laf?SITE=04주소대구광역시 중구 동성로2가 88-25도로명주소대구광역시 중구 국채보상로 586부가정보영업시간매일\\xa0\\r\\n\\t\\t\\t\\t\\t\\t\\t\\t\\t\\t\\t\\t\\tAM 10:00 \\r\\n\\t\\t\\t\\t\\t\\t\\t\\t\\t\\t\\t\\t\\t\\t~ \\r\\n\\t\\t\\t\\t\\t\\t\\t\\t\\t\\t\\t\\t\\t\\tPM 22:00카테고리패션쇼핑\\r\\n                                                    > 쇼핑/유통\\r\\n                                                    > 서점조회수 :866추천수 :0리뷰 :0국민정신문화 향상, 사회교육적 기능을 살린 문화공간을 창출하는 문고대구광역시 중구 동성로2가 위치, 영업점, 이벤트, 행사 등 안내, 보유도서 검색 제공.대구의 중심가 동성로에 있는 교보문고 대구점은 총 면적 1,900평의 넓은 매장과 15만 종 30만 권의 방대한 도서를 바탕으로 대구를 대표하는 서점이자 열린 문화공간으로 자리 잡고 있으며, 책을 사랑하시는 분들을 위한 북클럽회원 전용 라운지, 어린이 독자들의 만남의 장소 키즈가든, 다채로운 문화행사가 가득한 문화 이벤트홀 등은 독자 여러분께 더 큰 즐거움을 제공해드릴 것입니다.등록된 상품정보가 없습니다.등록된 동영상 정보가 없습니다.등록된 정보가 없습니다.1호선(중앙로)1호선(중앙로)2호선(반월당)2호선(반월당)1호선(반월당)1호선(반월당)1호선(대구역)1호선(대구역)주변버스CGV대구한일건너간선156\\r,\\r\\r309\\r,\\r\\r323\\r,\\r\\r425\\r,\\r\\r427\\r,\\r\\r521\\r,\\r\\r724\\r,\\r\\r939\\r,\\r\\r980CGV대구한일앞간선106\\r,\\r\\r156\\r,\\r\\r323-1\\r,\\r\\r521\\r,\\r\\r600약령시앞간선106\\r,\\r\\r202\\r,\\r\\r303-1\\r,\\r\\r349\\r,\\r\\r401\\r,\\r\\r410-1\\r,\\r\\r503\\r,\\r\\r518\\r,\\r\\r650\\r,\\r\\r704\\r,\\r\\r706\\r,\\r\\r730\\r,\\r\\r909지선동구1-1\\r,\\r\\r북구2급행급행2경상감영공원건너간선202-1\\r,\\r\\r303\\r,\\r\\r349\\r,\\r\\r401\\r,\\r\\r410\\r,\\r\\r503\\r,\\r\\r623\\r,\\r\\r704\\r,\\r\\r706\\r,\\r\\r730\\r,\\r\\r980지선동구1\\r,\\r\\r가창2\\r,\\r\\r동구2급행급행22.28기념중앙공원건너1간선508\\r,\\r\\r518\\r,\\r\\r600지선동구1\\r,\\r\\r가창2\\r,\\r\\r북구3급행급행1\\r,\\r\\r급행3약령시건너간선106\\r,\\r\\r202-1\\r,\\r\\r303\\r,\\r\\r349\\r,\\r\\r401\\r,\\r\\r410\\r,\\r\\r503\\r,\\r\\r518\\r,\\r\\r650\\r,\\r\\r704\\r,\\r\\r706\\r,\\r\\r730급행급행2지역상권시간대별 유동인구男10대男20대男30대男40대男50대女10대女20대女30대女40대女50대12시~13시까지(주중)18명42명68명60명32명16명52명48명32명24명19시~20시까지(주중)22명60명102명88명52명22명56명40명30명20명12시~13시까지(주말)24명62명50명48명30명18명56명42명24명20명19시~20시까지(주말)36명72명88명68명24명32명62명36명20명18명실내뷰등록된 실내 정보가 없습니다.near by좋은어린이서점 남산점교보문고 대구점모던북작성자내용점수이용하신 업체의 후기를 자유롭게 적어주세요.(욕설 및 상업적인 광고등은 사전통보없이 삭제됩니다.)작성자별점선택100 점90 점80 점70 점60 점50 점40 점30 점20 점10 점0 점비밀번호76644678보이는 도배방지키를 입력하세요. | 교보문고 대구점국민정신문화 향상, 사회교육적 기능을 살린 문화공간을 창출하는 문고패션쇼핑\\r\\n                                                        >쇼핑/유통\\r\\n                                                        >서점 | 교보문고 대구점 | 국민정신문화 향상, 사회교육적 기능을 살린 문화공간을 창출하는 문고패션쇼핑\\r\\n                                                        >쇼핑/유통\\r\\n                                                        >서점 |  |  |  |  | 연 락 처053-425-3501홈페이지http://www.kyobobook.co.kr/storen/MainStore.laf?SITE=04주소대구광역시 중구 동성로2가 88-25도로명주소대구광역시 중구 국채보상로 586부가정보영업시간매일\\xa0\\r\\n\\t\\t\\t\\t\\t\\t\\t\\t\\t\\t\\t\\t\\tAM 10:00 \\r\\n\\t\\t\\t\\t\\t\\t\\t\\t\\t\\t\\t\\t\\t\\t~ \\r\\n\\t\\t\\t\\t\\t\\t\\t\\t\\t\\t\\t\\t\\t\\tPM 22:00카테고리패션쇼핑\\r\\n                                                    > 쇼핑/유통\\r\\n                                                    > 서점조회수 :866추천수 :0리뷰 :0 | 연 락 처 | 053-425-3501 | 홈페이지 | http://www.kyobobook.co.kr/storen/MainStore.laf?SITE=04 | 주소 | 대구광역시 중구 동성로2가 88-25 | 도로명주소 | 대구광역시 중구 국채보상로 586 | 부가정보 |  | 영업시간 | 매일\\xa0\\r\\n\\t\\t\\t\\t\\t\\t\\t\\t\\t\\t\\t\\t\\tAM 10:00 \\r\\n\\t\\t\\t\\t\\t\\t\\t\\t\\t\\t\\t\\t\\t\\t~ \\r\\n\\t\\t\\t\\t\\t\\t\\t\\t\\t\\t\\t\\t\\t\\tPM 22:00 | 카테고리 | 패션쇼핑\\r\\n                                                    > 쇼핑/유통\\r\\n                                                    > 서점 | 조회수 :866추천수 :0리뷰 :0 |  | 조회수 :866추천수 :0리뷰 :0 |  | 조회수 :866추천수 :0리뷰 :0 |  | 등록된 상품정보가 없습니다.등록된 동영상 정보가 없습니다.등록된 정보가 없습니다.1호선(중앙로)1호선(중앙로)2호선(반월당)2호선(반월당)1호선(반월당)1호선(반월당)1호선(대구역)1호선(대구역) |  |  | CGV대구한일건너 | 간선156\\r,\\r\\r309\\r,\\r\\r323\\r,\\r\\r425\\r,\\r\\r427\\r,\\r\\r521\\r,\\r\\r724\\r,\\r\\r939\\r,\\r\\r980 | CGV대구한일앞 | 간선106\\r,\\r\\r156\\r,\\r\\r323-1\\r,\\r\\r521\\r,\\r\\r600 | 약령시앞 | 간선106\\r,\\r\\r202\\r,\\r\\r303-1\\r,\\r\\r349\\r,\\r\\r401\\r,\\r\\r410-1\\r,\\r\\r503\\r,\\r\\r518\\r,\\r\\r650\\r,\\r\\r704\\r,\\r\\r706\\r,\\r\\r730\\r,\\r\\r909지선동구1-1\\r,\\r\\r북구2급행급행2 | 경상감영공원건너 | 간선202-1\\r,\\r\\r303\\r,\\r\\r349\\r,\\r\\r401\\r,\\r\\r410\\r,\\r\\r503\\r,\\r\\r623\\r,\\r\\r704\\r,\\r\\r706\\r,\\r\\r730\\r,\\r\\r980지선동구1\\r,\\r\\r가창2\\r,\\r\\r동구2급행급행2 | 2.28기념중앙공원건너1 | 간선508\\r,\\r\\r518\\r,\\r\\r600지선동구1\\r,\\r\\r가창2\\r,\\r\\r북구3급행급행1\\r,\\r\\r급행3 | 약령시건너 | 간선106\\r,\\r\\r202-1\\r,\\r\\r303\\r,\\r\\r349\\r,\\r\\r401\\r,\\r\\r410\\r,\\r\\r503\\r,\\r\\r518\\r,\\r\\r650\\r,\\r\\r704\\r,\\r\\r706\\r,\\r\\r730급행급행2 | 시간대별 유동인구 | 男10대 | 男20대 | 男30대 | 男40대 | 男50대 | 女10대 | 女20대 | 女30대 | 女40대 | 女50대 | 12시~13시까지(주중) | 18명 | 42명 | 68명 | 60명 | 32명 | 16명 | 52명 | 48명 | 32명 | 24명 | 19시~20시까지(주중) | 22명 | 60명 | 102명 | 88명 | 52명 | 22명 | 56명 | 40명 | 30명 | 20명 | 12시~13시까지(주말) | 24명 | 62명 | 50명 | 48명 | 30명 | 18명 | 56명 | 42명 | 24명 | 20명 | 19시~20시까지(주말) | 36명 | 72명 | 88명 | 68명 | 24명 | 32명 | 62명 | 36명 | 20명 | 18명 | 좋은어린이서점 남산점 | 교보문고 대구점 | 모던북 |  |  | 작성자내용점수이용하신 업체의 후기를 자유롭게 적어주세요.(욕설 및 상업적인 광고등은 사전통보없이 삭제됩니다.)작성자별점선택100 점90 점80 점70 점60 점50 점40 점30 점20 점10 점0 점비밀번호76644678보이는 도배방지키를 입력하세요. | 작성자내용점수 | 작성자 | 내용 | 점수 | 이용하신 업체의 후기를 자유롭게 적어주세요.(욕설 및 상업적인 광고등은 사전통보없이 삭제됩니다.)작성자별점선택100 점90 점80 점70 점60 점50 점40 점30 점20 점10 점0 점비밀번호76644678보이는 도배방지키를 입력하세요. |  |  | 이용하신 업체의 후기를 자유롭게 적어주세요.(욕설 및 상업적인 광고등은 사전통보없이 삭제됩니다.) | 작성자별점선택100 점90 점80 점70 점60 점50 점40 점30 점20 점10 점0 점비밀번호 | 작성자 |  | 별점선택100 점90 점80 점70 점60 점50 점40 점30 점20 점10 점0 점 | 비밀번호 | 비밀번호 |  |  | 76644678보이는 도배방지키를 입력하세요. |  |  | 76644678 | 보이는 도배방지키를 입력하세요. |  |  |  | \\n교보문고 대구점국민정신문화 향상, 사회교육적 기능을 살린 문화공간을 창출하는 문고패션쇼핑\\r\\n                                                        >쇼핑/유통\\r\\n                                                        >서점 | 교보문고 대구점 | 국민정신문화 향상, 사회교육적 기능을 살린 문화공간을 창출하는 문고패션쇼핑\\r\\n                                                        >쇼핑/유통\\r\\n                                                        >서점\\n교보문고 대구점 | 국민정신문화 향상, 사회교육적 기능을 살린 문화공간을 창출하는 문고패션쇼핑\\r\\n                                                        >쇼핑/유통\\r\\n                                                        >서점\\n\\n |  |  | 연 락 처053-425-3501홈페이지http://www.kyobobook.co.kr/storen/MainStore.laf?SITE=04주소대구광역시 중구 동성로2가 88-25도로명주소대구광역시 중구 국채보상로 586부가정보영업시간매일\\xa0\\r\\n\\t\\t\\t\\t\\t\\t\\t\\t\\t\\t\\t\\t\\tAM 10:00 \\r\\n\\t\\t\\t\\t\\t\\t\\t\\t\\t\\t\\t\\t\\t\\t~ \\r\\n\\t\\t\\t\\t\\t\\t\\t\\t\\t\\t\\t\\t\\t\\tPM 22:00카테고리패션쇼핑\\r\\n                                                    > 쇼핑/유통\\r\\n                                                    > 서점조회수 :866추천수 :0리뷰 :0 | 연 락 처 | 053-425-3501 | 홈페이지 | http://www.kyobobook.co.kr/storen/MainStore.laf?SITE=04 | 주소 | 대구광역시 중구 동성로2가 88-25 | 도로명주소 | 대구광역시 중구 국채보상로 586 | 부가정보 |  | 영업시간 | 매일\\xa0\\r\\n\\t\\t\\t\\t\\t\\t\\t\\t\\t\\t\\t\\t\\tAM 10:00 \\r\\n\\t\\t\\t\\t\\t\\t\\t\\t\\t\\t\\t\\t\\t\\t~ \\r\\n\\t\\t\\t\\t\\t\\t\\t\\t\\t\\t\\t\\t\\t\\tPM 22:00 | 카테고리 | 패션쇼핑\\r\\n                                                    > 쇼핑/유통\\r\\n                                                    > 서점 | 조회수 :866추천수 :0리뷰 :0 |  | 조회수 :866추천수 :0리뷰 :0 |  | 조회수 :866추천수 :0리뷰 :0 | \\n\\n\\n연 락 처 | 053-425-3501\\n홈페이지 | http://www.kyobobook.co.kr/storen/MainStore.laf?SITE=04\\n주소 | 대구광역시 중구 동성로2가 88-25\\n도로명주소 | 대구광역시 중구 국채보상로 586\\n부가정보 | \\n영업시간 | 매일\\xa0\\r\\n\\t\\t\\t\\t\\t\\t\\t\\t\\t\\t\\t\\t\\tAM 10:00 \\r\\n\\t\\t\\t\\t\\t\\t\\t\\t\\t\\t\\t\\t\\t\\t~ \\r\\n\\t\\t\\t\\t\\t\\t\\t\\t\\t\\t\\t\\t\\t\\tPM 22:00\\n카테고리 | 패션쇼핑\\r\\n                                                    > 쇼핑/유통\\r\\n                                                    > 서점\\n조회수 :866추천수 :0리뷰 :0 |  | 조회수 :866추천수 :0리뷰 :0 |  | 조회수 :866추천수 :0리뷰 :0 | \\n | 조회수 :866추천수 :0리뷰 :0 |  | 조회수 :866추천수 :0리뷰 :0 | \\n | 조회수 :866추천수 :0리뷰 :0 | \\n등록된 상품정보가 없습니다.등록된 동영상 정보가 없습니다.등록된 정보가 없습니다.1호선(중앙로)1호선(중앙로)2호선(반월당)2호선(반월당)1호선(반월당)1호선(반월당)1호선(대구역)1호선(대구역) |  | \\nCGV대구한일건너 | 간선156\\r,\\r\\r309\\r,\\r\\r323\\r,\\r\\r425\\r,\\r\\r427\\r,\\r\\r521\\r,\\r\\r724\\r,\\r\\r939\\r,\\r\\r980\\nCGV대구한일앞 | 간선106\\r,\\r\\r156\\r,\\r\\r323-1\\r,\\r\\r521\\r,\\r\\r600\\n약령시앞 | 간선106\\r,\\r\\r202\\r,\\r\\r303-1\\r,\\r\\r349\\r,\\r\\r401\\r,\\r\\r410-1\\r,\\r\\r503\\r,\\r\\r518\\r,\\r\\r650\\r,\\r\\r704\\r,\\r\\r706\\r,\\r\\r730\\r,\\r\\r909지선동구1-1\\r,\\r\\r북구2급행급행2\\n경상감영공원건너 | 간선202-1\\r,\\r\\r303\\r,\\r\\r349\\r,\\r\\r401\\r,\\r\\r410\\r,\\r\\r503\\r,\\r\\r623\\r,\\r\\r704\\r,\\r\\r706\\r,\\r\\r730\\r,\\r\\r980지선동구1\\r,\\r\\r가창2\\r,\\r\\r동구2급행급행2\\n2.28기념중앙공원건너1 | 간선508\\r,\\r\\r518\\r,\\r\\r600지선동구1\\r,\\r\\r가창2\\r,\\r\\r북구3급행급행1\\r,\\r\\r급행3\\n약령시건너 | 간선106\\r,\\r\\r202-1\\r,\\r\\r303\\r,\\r\\r349\\r,\\r\\r401\\r,\\r\\r410\\r,\\r\\r503\\r,\\r\\r518\\r,\\r\\r650\\r,\\r\\r704\\r,\\r\\r706\\r,\\r\\r730급행급행2\\n시간대별 유동인구 | 男10대 | 男20대 | 男30대 | 男40대 | 男50대 | 女10대 | 女20대 | 女30대 | 女40대 | 女50대\\n12시~13시까지(주중) | 18명 | 42명 | 68명 | 60명 | 32명 | 16명 | 52명 | 48명 | 32명 | 24명\\n19시~20시까지(주중) | 22명 | 60명 | 102명 | 88명 | 52명 | 22명 | 56명 | 40명 | 30명 | 20명\\n12시~13시까지(주말) | 24명 | 62명 | 50명 | 48명 | 30명 | 18명 | 56명 | 42명 | 24명 | 20명\\n19시~20시까지(주말) | 36명 | 72명 | 88명 | 68명 | 24명 | 32명 | 62명 | 36명 | 20명 | 18명\\n좋은어린이서점 남산점 | 교보문고 대구점 | 모던북\\n | \\n작성자내용점수이용하신 업체의 후기를 자유롭게 적어주세요.(욕설 및 상업적인 광고등은 사전통보없이 삭제됩니다.)작성자별점선택100 점90 점80 점70 점60 점50 점40 점30 점20 점10 점0 점비밀번호76644678보이는 도배방지키를 입력하세요. | 작성자내용점수 | 작성자 | 내용 | 점수 | 이용하신 업체의 후기를 자유롭게 적어주세요.(욕설 및 상업적인 광고등은 사전통보없이 삭제됩니다.)작성자별점선택100 점90 점80 점70 점60 점50 점40 점30 점20 점10 점0 점비밀번호76644678보이는 도배방지키를 입력하세요. |  |  | 이용하신 업체의 후기를 자유롭게 적어주세요.(욕설 및 상업적인 광고등은 사전통보없이 삭제됩니다.) | 작성자별점선택100 점90 점80 점70 점60 점50 점40 점30 점20 점10 점0 점비밀번호 | 작성자 |  | 별점선택100 점90 점80 점70 점60 점50 점40 점30 점20 점10 점0 점 | 비밀번호 | 비밀번호 |  |  | 76644678보이는 도배방지키를 입력하세요. |  |  | 76644678 | 보이는 도배방지키를 입력하세요. |  | \\n작성자내용점수 | 작성자 | 내용 | 점수\\n작성자 | 내용 | 점수\\n이용하신 업체의 후기를 자유롭게 적어주세요.(욕설 및 상업적인 광고등은 사전통보없이 삭제됩니다.)작성자별점선택100 점90 점80 점70 점60 점50 점40 점30 점20 점10 점0 점비밀번호76644678보이는 도배방지키를 입력하세요. |  |  | 이용하신 업체의 후기를 자유롭게 적어주세요.(욕설 및 상업적인 광고등은 사전통보없이 삭제됩니다.) | 작성자별점선택100 점90 점80 점70 점60 점50 점40 점30 점20 점10 점0 점비밀번호 | 작성자 |  | 별점선택100 점90 점80 점70 점60 점50 점40 점30 점20 점10 점0 점 | 비밀번호 | 비밀번호 |  |  | 76644678보이는 도배방지키를 입력하세요. |  |  | 76644678 | 보이는 도배방지키를 입력하세요.\\n | \\n\\n이용하신 업체의 후기를 자유롭게 적어주세요.(욕설 및 상업적인 광고등은 사전통보없이 삭제됩니다.)\\n작성자별점선택100 점90 점80 점70 점60 점50 점40 점30 점20 점10 점0 점비밀번호 | 작성자 |  | 별점선택100 점90 점80 점70 점60 점50 점40 점30 점20 점10 점0 점 | 비밀번호 | 비밀번호 | \\n작성자 |  | 별점선택100 점90 점80 점70 점60 점50 점40 점30 점20 점10 점0 점 | 비밀번호 | 비밀번호 | \\n비밀번호 | \\n\\n76644678보이는 도배방지키를 입력하세요. |  |  | 76644678 | 보이는 도배방지키를 입력하세요.\\n |  | 76644678 | 보이는 도배방지키를 입력하세요.\\n\\n\\n교보문고 대구점국민정신문화 향상, 사회교육적 기능을 살린 문화공간을 창출하는 문고패션쇼핑\\r\\n                                                        >쇼핑/유통\\r\\n                                                        >서점 | 교보문고 대구점 | 국민정신문화 향상, 사회교육적 기능을 살린 문화공간을 창출하는 문고패션쇼핑\\r\\n                                                        >쇼핑/유통\\r\\n                                                        >서점\\n교보문고 대구점 | 국민정신문화 향상, 사회교육적 기능을 살린 문화공간을 창출하는 문고패션쇼핑\\r\\n                                                        >쇼핑/유통\\r\\n                                                        >서점\\n\\n |  |  | 연 락 처053-425-3501홈페이지http://www.kyobobook.co.kr/storen/MainStore.laf?SITE=04주소대구광역시 중구 동성로2가 88-25도로명주소대구광역시 중구 국채보상로 586부가정보영업시간매일\\xa0\\r\\n\\t\\t\\t\\t\\t\\t\\t\\t\\t\\t\\t\\t\\tAM 10:00 \\r\\n\\t\\t\\t\\t\\t\\t\\t\\t\\t\\t\\t\\t\\t\\t~ \\r\\n\\t\\t\\t\\t\\t\\t\\t\\t\\t\\t\\t\\t\\t\\tPM 22:00카테고리패션쇼핑\\r\\n                                                    > 쇼핑/유통\\r\\n                                                    > 서점조회수 :866추천수 :0리뷰 :0 | 연 락 처 | 053-425-3501 | 홈페이지 | http://www.kyobobook.co.kr/storen/MainStore.laf?SITE=04 | 주소 | 대구광역시 중구 동성로2가 88-25 | 도로명주소 | 대구광역시 중구 국채보상로 586 | 부가정보 |  | 영업시간 | 매일\\xa0\\r\\n\\t\\t\\t\\t\\t\\t\\t\\t\\t\\t\\t\\t\\tAM 10:00 \\r\\n\\t\\t\\t\\t\\t\\t\\t\\t\\t\\t\\t\\t\\t\\t~ \\r\\n\\t\\t\\t\\t\\t\\t\\t\\t\\t\\t\\t\\t\\t\\tPM 22:00 | 카테고리 | 패션쇼핑\\r\\n                                                    > 쇼핑/유통\\r\\n                                                    > 서점 | 조회수 :866추천수 :0리뷰 :0 |  | 조회수 :866추천수 :0리뷰 :0 |  | 조회수 :866추천수 :0리뷰 :0 | \\n\\n\\n연 락 처 | 053-425-3501\\n홈페이지 | http://www.kyobobook.co.kr/storen/MainStore.laf?SITE=04\\n주소 | 대구광역시 중구 동성로2가 88-25\\n도로명주소 | 대구광역시 중구 국채보상로 586\\n부가정보 | \\n영업시간 | 매일\\xa0\\r\\n\\t\\t\\t\\t\\t\\t\\t\\t\\t\\t\\t\\t\\tAM 10:00 \\r\\n\\t\\t\\t\\t\\t\\t\\t\\t\\t\\t\\t\\t\\t\\t~ \\r\\n\\t\\t\\t\\t\\t\\t\\t\\t\\t\\t\\t\\t\\t\\tPM 22:00\\n카테고리 | 패션쇼핑\\r\\n                                                    > 쇼핑/유통\\r\\n                                                    > 서점\\n조회수 :866추천수 :0리뷰 :0 |  | 조회수 :866추천수 :0리뷰 :0 |  | 조회수 :866추천수 :0리뷰 :0 | \\n | 조회수 :866추천수 :0리뷰 :0 |  | 조회수 :866추천수 :0리뷰 :0 | \\n | 조회수 :866추천수 :0리뷰 :0 | \\n교보문고 대구점 | 국민정신문화 향상, 사회교육적 기능을 살린 문화공간을 창출하는 문고패션쇼핑\\r\\n                                                        >쇼핑/유통\\r\\n                                                        >서점\\n교보문고 대구점\\n\\n\\n\\n연 락 처 | 053-425-3501\\n홈페이지 | http://www.kyobobook.co.kr/storen/MainStore.laf?SITE=04\\n주소 | 대구광역시 중구 동성로2가 88-25\\n도로명주소 | 대구광역시 중구 국채보상로 586\\n부가정보 | \\n영업시간 | 매일\\xa0\\r\\n\\t\\t\\t\\t\\t\\t\\t\\t\\t\\t\\t\\t\\tAM 10:00 \\r\\n\\t\\t\\t\\t\\t\\t\\t\\t\\t\\t\\t\\t\\t\\t~ \\r\\n\\t\\t\\t\\t\\t\\t\\t\\t\\t\\t\\t\\t\\t\\tPM 22:00\\n카테고리 | 패션쇼핑\\r\\n                                                    > 쇼핑/유통\\r\\n                                                    > 서점\\n조회수 :866추천수 :0리뷰 :0 |  | 조회수 :866추천수 :0리뷰 :0 |  | 조회수 :866추천수 :0리뷰 :0 | \\n | 조회수 :866추천수 :0리뷰 :0 |  | 조회수 :866추천수 :0리뷰 :0 | \\n | 조회수 :866추천수 :0리뷰 :0 | \\n | 조회수 :866추천수 :0리뷰 :0 |  | 조회수 :866추천수 :0리뷰 :0 | \\n | 조회수 :866추천수 :0리뷰 :0 | \\n | 조회수 :866추천수 :0리뷰 :0 | \\n\\n\\n\\n\\n등록된 상품정보가 없습니다.등록된 동영상 정보가 없습니다.등록된 정보가 없습니다.1호선(중앙로)1호선(중앙로)2호선(반월당)2호선(반월당)1호선(반월당)1호선(반월당)1호선(대구역)1호선(대구역) |  | \\n\\n\\n\\n\\n\\n\\n\\n\\n\\n\\nCGV대구한일건너 | 간선156\\r,\\r\\r309\\r,\\r\\r323\\r,\\r\\r425\\r,\\r\\r427\\r,\\r\\r521\\r,\\r\\r724\\r,\\r\\r939\\r,\\r\\r980\\nCGV대구한일앞 | 간선106\\r,\\r\\r156\\r,\\r\\r323-1\\r,\\r\\r521\\r,\\r\\r600\\n약령시앞 | 간선106\\r,\\r\\r202\\r,\\r\\r303-1\\r,\\r\\r349\\r,\\r\\r401\\r,\\r\\r410-1\\r,\\r\\r503\\r,\\r\\r518\\r,\\r\\r650\\r,\\r\\r704\\r,\\r\\r706\\r,\\r\\r730\\r,\\r\\r909지선동구1-1\\r,\\r\\r북구2급행급행2\\n경상감영공원건너 | 간선202-1\\r,\\r\\r303\\r,\\r\\r349\\r,\\r\\r401\\r,\\r\\r410\\r,\\r\\r503\\r,\\r\\r623\\r,\\r\\r704\\r,\\r\\r706\\r,\\r\\r730\\r,\\r\\r980지선동구1\\r,\\r\\r가창2\\r,\\r\\r동구2급행급행2\\n2.28기념중앙공원건너1 | 간선508\\r,\\r\\r518\\r,\\r\\r600지선동구1\\r,\\r\\r가창2\\r,\\r\\r북구3급행급행1\\r,\\r\\r급행3\\n약령시건너 | 간선106\\r,\\r\\r202-1\\r,\\r\\r303\\r,\\r\\r349\\r,\\r\\r401\\r,\\r\\r410\\r,\\r\\r503\\r,\\r\\r518\\r,\\r\\r650\\r,\\r\\r704\\r,\\r\\r706\\r,\\r\\r730급행급행2\\n시간대별 유동인구 | 男10대 | 男20대 | 男30대 | 男40대 | 男50대 | 女10대 | 女20대 | 女30대 | 女40대 | 女50대\\n12시~13시까지(주중) | 18명 | 42명 | 68명 | 60명 | 32명 | 16명 | 52명 | 48명 | 32명 | 24명\\n19시~20시까지(주중) | 22명 | 60명 | 102명 | 88명 | 52명 | 22명 | 56명 | 40명 | 30명 | 20명\\n12시~13시까지(주말) | 24명 | 62명 | 50명 | 48명 | 30명 | 18명 | 56명 | 42명 | 24명 | 20명\\n19시~20시까지(주말) | 36명 | 72명 | 88명 | 68명 | 24명 | 32명 | 62명 | 36명 | 20명 | 18명\\n\\n\\n\\n\\n좋은어린이서점 남산점 | 교보문고 대구점 | 모던북\\n | \\n작성자내용점수이용하신 업체의 후기를 자유롭게 적어주세요.(욕설 및 상업적인 광고등은 사전통보없이 삭제됩니다.)작성자별점선택100 점90 점80 점70 점60 점50 점40 점30 점20 점10 점0 점비밀번호76644678보이는 도배방지키를 입력하세요. | 작성자내용점수 | 작성자 | 내용 | 점수 | 이용하신 업체의 후기를 자유롭게 적어주세요.(욕설 및 상업적인 광고등은 사전통보없이 삭제됩니다.)작성자별점선택100 점90 점80 점70 점60 점50 점40 점30 점20 점10 점0 점비밀번호76644678보이는 도배방지키를 입력하세요. |  |  | 이용하신 업체의 후기를 자유롭게 적어주세요.(욕설 및 상업적인 광고등은 사전통보없이 삭제됩니다.) | 작성자별점선택100 점90 점80 점70 점60 점50 점40 점30 점20 점10 점0 점비밀번호 | 작성자 |  | 별점선택100 점90 점80 점70 점60 점50 점40 점30 점20 점10 점0 점 | 비밀번호 | 비밀번호 |  |  | 76644678보이는 도배방지키를 입력하세요. |  |  | 76644678 | 보이는 도배방지키를 입력하세요. |  | \\n작성자내용점수 | 작성자 | 내용 | 점수\\n작성자 | 내용 | 점수\\n이용하신 업체의 후기를 자유롭게 적어주세요.(욕설 및 상업적인 광고등은 사전통보없이 삭제됩니다.)작성자별점선택100 점90 점80 점70 점60 점50 점40 점30 점20 점10 점0 점비밀번호76644678보이는 도배방지키를 입력하세요. |  |  | 이용하신 업체의 후기를 자유롭게 적어주세요.(욕설 및 상업적인 광고등은 사전통보없이 삭제됩니다.) | 작성자별점선택100 점90 점80 점70 점60 점50 점40 점30 점20 점10 점0 점비밀번호 | 작성자 |  | 별점선택100 점90 점80 점70 점60 점50 점40 점30 점20 점10 점0 점 | 비밀번호 | 비밀번호 |  |  | 76644678보이는 도배방지키를 입력하세요. |  |  | 76644678 | 보이는 도배방지키를 입력하세요.\\n | \\n\\n이용하신 업체의 후기를 자유롭게 적어주세요.(욕설 및 상업적인 광고등은 사전통보없이 삭제됩니다.)\\n작성자별점선택100 점90 점80 점70 점60 점50 점40 점30 점20 점10 점0 점비밀번호 | 작성자 |  | 별점선택100 점90 점80 점70 점60 점50 점40 점30 점20 점10 점0 점 | 비밀번호 | 비밀번호 | \\n작성자 |  | 별점선택100 점90 점80 점70 점60 점50 점40 점30 점20 점10 점0 점 | 비밀번호 | 비밀번호 | \\n비밀번호 | \\n\\n76644678보이는 도배방지키를 입력하세요. |  |  | 76644678 | 보이는 도배방지키를 입력하세요.\\n |  | 76644678 | 보이는 도배방지키를 입력하세요.\\n\\n\\n작성자내용점수 | 작성자 | 내용 | 점수\\n작성자 | 내용 | 점수\\n작성자 | 내용 | 점수\\n이용하신 업체의 후기를 자유롭게 적어주세요.(욕설 및 상업적인 광고등은 사전통보없이 삭제됩니다.)작성자별점선택100 점90 점80 점70 점60 점50 점40 점30 점20 점10 점0 점비밀번호76644678보이는 도배방지키를 입력하세요. |  |  | 이용하신 업체의 후기를 자유롭게 적어주세요.(욕설 및 상업적인 광고등은 사전통보없이 삭제됩니다.) | 작성자별점선택100 점90 점80 점70 점60 점50 점40 점30 점20 점10 점0 점비밀번호 | 작성자 |  | 별점선택100 점90 점80 점70 점60 점50 점40 점30 점20 점10 점0 점 | 비밀번호 | 비밀번호 |  |  | 76644678보이는 도배방지키를 입력하세요. |  |  | 76644678 | 보이는 도배방지키를 입력하세요.\\n | \\n\\n이용하신 업체의 후기를 자유롭게 적어주세요.(욕설 및 상업적인 광고등은 사전통보없이 삭제됩니다.)\\n작성자별점선택100 점90 점80 점70 점60 점50 점40 점30 점20 점10 점0 점비밀번호 | 작성자 |  | 별점선택100 점90 점80 점70 점60 점50 점40 점30 점20 점10 점0 점 | 비밀번호 | 비밀번호 | \\n작성자 |  | 별점선택100 점90 점80 점70 점60 점50 점40 점30 점20 점10 점0 점 | 비밀번호 | 비밀번호 | \\n비밀번호 | \\n\\n76644678보이는 도배방지키를 입력하세요. |  |  | 76644678 | 보이는 도배방지키를 입력하세요.\\n |  | 76644678 | 보이는 도배방지키를 입력하세요.\\n\\n\\n | \\n\\n\\n이용하신 업체의 후기를 자유롭게 적어주세요.(욕설 및 상업적인 광고등은 사전통보없이 삭제됩니다.)\\n작성자별점선택100 점90 점80 점70 점60 점50 점40 점30 점20 점10 점0 점비밀번호 | 작성자 |  | 별점선택100 점90 점80 점70 점60 점50 점40 점30 점20 점10 점0 점 | 비밀번호 | 비밀번호 | \\n작성자 |  | 별점선택100 점90 점80 점70 점60 점50 점40 점30 점20 점10 점0 점 | 비밀번호 | 비밀번호 | \\n비밀번호 | \\n\\n76644678보이는 도배방지키를 입력하세요. |  |  | 76644678 | 보이는 도배방지키를 입력하세요.\\n |  | 76644678 | 보이는 도배방지키를 입력하세요.\\n작성자 |  | 별점선택100 점90 점80 점70 점60 점50 점40 점30 점20 점10 점0 점 | 비밀번호 | 비밀번호 | \\n비밀번호 | \\n비밀번호 | \\n |  | 76644678 | 보이는 도배방지키를 입력하세요.\\n로컬뷰는 지역내 업소(기업)정보를 제공하는 온라인 전화번호부 서비스입니다.로컬뷰는 개별업체로 부터 광고비 또는 중계수수료를 받지 않는 무료서비스 입니다Copyright(c) 2010 로컬뷰(LocalView) All Rights Reserved. |  | 로컬뷰는 지역내 업소(기업)정보를 제공하는 온라인 전화번호부 서비스입니다.로컬뷰는 개별업체로 부터 광고비 또는 중계수수료를 받지 않는 무료서비스 입니다Copyright(c) 2010 로컬뷰(LocalView) All Rights Reserved. |  |  |  |  |  |  | 로컬뷰는 지역내 업소(기업)정보를 제공하는 온라인 전화번호부 서비스입니다.로컬뷰는 개별업체로 부터 광고비 또는 중계수수료를 받지 않는 무료서비스 입니다Copyright(c) 2010 로컬뷰(LocalView) All Rights Reserved.\\n | 로컬뷰는 지역내 업소(기업)정보를 제공하는 온라인 전화번호부 서비스입니다.로컬뷰는 개별업체로 부터 광고비 또는 중계수수료를 받지 않는 무료서비스 입니다Copyright(c) 2010 로컬뷰(LocalView) All Rights Reserved. |  |  |  |  |  |  | 로컬뷰는 지역내 업소(기업)정보를 제공하는 온라인 전화번호부 서비스입니다.로컬뷰는 개별업체로 부터 광고비 또는 중계수수료를 받지 않는 무료서비스 입니다Copyright(c) 2010 로컬뷰(LocalView) All Rights Reserved.\\n |  |  |  |  | \\n |  |  |  | \\n로컬뷰는 지역내 업소(기업)정보를 제공하는 온라인 전화번호부 서비스입니다.로컬뷰는 개별업체로 부터 광고비 또는 중계수수료를 받지 않는 무료서비스 입니다Copyright(c) 2010 로컬뷰(LocalView) All Rights Reserved.\\n | 로컬뷰는 지역내 업소(기업)정보를 제공하는 온라인 전화번호부 서비스입니다.로컬뷰는 개별업체로 부터 광고비 또는 중계수수료를 받지 않는 무료서비스 입니다Copyright(c) 2010 로컬뷰(LocalView) All Rights Reserved. |  |  |  |  |  |  | 로컬뷰는 지역내 업소(기업)정보를 제공하는 온라인 전화번호부 서비스입니다.로컬뷰는 개별업체로 부터 광고비 또는 중계수수료를 받지 않는 무료서비스 입니다Copyright(c) 2010 로컬뷰(LocalView) All Rights Reserved.\\n |  |  |  |  | \\n |  |  |  | \\n로컬뷰는 지역내 업소(기업)정보를 제공하는 온라인 전화번호부 서비스입니다.로컬뷰는 개별업체로 부터 광고비 또는 중계수수료를 받지 않는 무료서비스 입니다Copyright(c) 2010 로컬뷰(LocalView) All Rights Reserved.\\n |  |  |  |  | \\n |  |  |  | \\n로컬뷰는 지역내 업소(기업)정보를 제공하는 온라인 전화번호부 서비스입니다.로컬뷰는 개별업체로 부터 광고비 또는 중계수수료를 받지 않는 무료서비스 입니다Copyright(c) 2010 로컬뷰(LocalView) All Rights Reserved.\\n |  |  |  | \\n'}, {'title': '대구 교보문고 대구점 방문 후기 : 네이버 블로그', 'url': 'https://m.blog.naver.com/sh_baekwoon/223359878100', 'content': '대구 교보문고 대구점 방문 후기 : 네이버 블로그 대구 교보문고 대구점 방문 후기 며칠 전 동성로에 다녀오면서 교보문고 대구점도 방문하게 되어서 방문 후기도 포스팅! 대구에는 교보문고 대구점, 교보문고 칠곡점 이렇게 두 군데가 있어요~ 칠곡점은 아직 가보지 못했고 교보문고 대구점은 아이들과 책 구매를 위해 한 번씩 방문해요~ 아이들 키우는 부모들은 책 읽는 게 중요하다고 아이들에게 말하지만 실상은 그 부모들도 한 달에 책 한 권 읽지 않는 사람들이 \\x08상당히 많아요~ 저 또한 책과 친하진 않아요 ㅠㅠ 교보문고 대구점 그래서 도서검색을 할 수 있는 PC가 있는데 사람들도 워낙 많다 보니 사용하기 위해서는 대기를 해야 하지만~ 교보문고 대구점은 검색 PC들이 많이 구비되어 있어서 기다림 없이 검색할 수 있어요~ 혼자서도 필요한 책 잘 검색해요 ㅎ 책 산다고 해서 그냥 그림책 정도인 줄 알았더니 생각보다 글 양이 많더라고요 ㅎ 오랜만에 교보문고 대구점 다녀왔네요~ {\"title\":\"대구 교보문고 대구점 방문 후기\",\"source\":\"https://blog.naver.com/sh_baekwoon/223359878100\",\"blogName\":\"보상의 모..\",\"domainIdOrBlogId\":\"sh_baekwoon\",\"nicknameOrBlogId\":\"권 소장\",\"logNo\":223359878100,\"smartEditorVersion\":4,\"cafeDisplay\":true,\"outsideDisplay\":true,\"lineDisplay\":true,\"blogDisplay\":true,\"meDisplay\":true}', 'score': 0.79293, 'raw_content': '대구 교보문고 대구점 방문 후기 : 네이버 블로그\\n \\n본문 바로가기\\n블로그\\n카테고리 이동 보상의 모든 것\\n\\n검색 MY메뉴 열기\\n일상\\n대구 교보문고 대구점 방문 후기\\n\\n권 소장\\n2024. 2. 21. 0:00\\n이웃추가\\n본문 기타 기능\\n\\n본문 폰트 크기 조정 본문 폰트 크기 작게 보기 본문 폰트 크기 크게 보기 가\\n\\n공감하기\\n\\n\\n공유하기\\n\\nURL복사\\n신고하기\\n\\n안녕하세요. 권승혁 손해사정사입니다.\\n\\u200b\\n최근 업무 포스팅은 못하고 일상과 맛집들로 점점 도배가 되는 같아요~\\n\\u200b\\n업무보다 일상 포스팅이 쓰는 게 더 재미있네요 ㅎ\\n\\u200b\\n며칠 전 동성로에 다녀오면서 교보문고 대구점도 방문하게 되어서 방문 후기도 포스팅!\\n\\u200b\\n대구에는 교보문고 대구점, 교보문고 칠곡점 이렇게 두 군데가 있어요~ 칠곡점은 아직 가보지 못했고 교보문고 대구점은 아이들과 책 구매를 위해 한 번씩 방문해요~\\n\\u200b\\n\\n\\u200b\\n아이들 키우는 부모들은 책 읽는 게 중요하다고 아이들에게 말하지만 실상은 그 부모들도 한 달에 책 한 권 읽지 않는 사람들이 \\x08상당히 많아요~ 저 또한 책과 친하진 않아요 ㅠㅠ\\n\\u200b\\n그래도 아이들이 책을 많이 읽었으면 하죠!\\n그래서 아이들과 시간을 내서 도서관이나 교보문고에 자주 방문하려고 노력합니다!\\n\\n\\n교보문고 대구점\\n\\n\\n교보문고 대구점대구광역시 중구 국채보상로 586 교보생명 동성로사옥 지하2층~3층\\n이 블로그의 체크인\\n이 장소의 다른 글\\n\\u200b\\n대구 동성로에 위치해 있어서 시내 구경하고 놀다가 부담 없이 다녀오기 좋아요~\\n\\u200b\\nB1층이 핫트랙스가 있어서 더 자주 방문하게 되는 거 같아요~\\n\\u200b\\n저희 딸은 핫트랙스에서 정신을 놓고 구경해요~\\n\\u200b\\n\\n\\n\\n도서 검색\\n\\n교보문고에서 책 찾기가 쉽지가 않죠!?\\n(책이 엄청 많아서 찾기가 힘들어요)\\n\\u200b\\n그래서 도서검색을 할 수 있는 PC가 있는데 사람들도 워낙 많다 보니 사용하기 위해서는 대기를 해야 하지만~ 교보문고 대구점은 검색 PC들이 많이 구비되어 있어서 기다림 없이 검색할 수 있어요~\\n\\u200b\\n우리 딸내미도 검색~~\\n혼자서도 필요한 책 잘 검색해요 ㅎ\\n\\u200b\\n\\n\\n\\n\\n책 구매\\n\\n\\x08도서 검색하게 되면 책 위치를 작은 종이에 프린터 해줘요~ 위치까지 딸아이가 찾을 수 있게 옆에서 도와주고 따라다녔어요 ㅎ\\n\\u200b\\n\\n\\u200b\\n찾는 책을 정확하게 찾아왔어요 ㅎ\\n(대견 대견~)\\n\\u200b\\n\\n\\u200b\\n책 산다고 해서 그냥 그림책 정도인 줄 알았더니 생각보다 글 양이 많더라고요 ㅎ\\n\\u200b\\n얼마 전에 스즈메의 문단속 보더니 재미있다고 일본 애니메이션을 차례대로 보더니 너의 이름은까지!\\n\\u200b\\n\\n\\u200b\\n계산도 자기 용돈으로 계산!!\\n대단하다!! 우리 딸!!!\\n\\u200b\\n셀프 계산기도 있어요!\\n\\u200b\\n\\n\\u200b\\n제가 웹툰으로 재미있게 보고 있는 전지적 독자 시점이 소설책으로 상당히 많이 나왔길래 하나 집어 올려다가 핫트랙스 간다고 끌려 나왔어요 ㅎ\\n\\u200b\\n\\n\\u200b\\n소설 좋아하시면 한번 읽어보세요!\\n저도 조만간 읽어볼 예정이에요~\\n\\n\\n핫트랙스\\n\\n교보문고 B1층은 핫트랙스인데요~\\n\\u200b\\n딸내미는 여기도 그냥 지나칠 수 없다고 영혼 없이 핫트랙스로 빨려 들어가네요 ㅠㅠ\\n\\u200b\\n\\n\\u200b\\n맛있겠다~ 이쁘다~를 연발하시는...\\n(뭐가 그렇게 이쁜지 전 잘 모르겠는데..)\\n\\u200b\\n\\n\\u200b\\n요즘 유행이라고 하는 모루 인형 만들기!\\n\\u200b\\n\\n\\u200b\\n이건 비싸고~ 이러쿵저러쿵 ㅋㅋ\\n동네 아줌마 같은 모습을 봤어요ㅋㅋㅋ\\n\\n\\n마무리\\n\\n오랜만에 교보문고 대구점 다녀왔네요~\\n\\u200b\\n책이란 게 읽으면 좋다는 건 알지만 시간이 없다, 바쁘다는 핑계로 멀리하게 되지만~ 아이들과 시간 내서 한 번씩 보는 것도 힐링 되고 좋은 거 같아요~\\n\\u200b\\n전 안보지만 너희들은 읽어라!! ㅎㅎ\\n(아빠도 책 읽는 모습 많이 보여줄게~)\\n\\u200b\\n\\u200b\\n동성로 간식으로 마무리!\\n\\u200b\\n\\n\\n\\u200b\\n\\n#대구교보문고\\n#교보문고대구점\\n#핫트랙스\\n#교보문고주차\\n\\n\\n공감한 사람 보러가기\\n댓글 25 공유하기\\n{\"title\":\"대구 교보문고 대구점 방문 후기\",\"source\":\"https://blog.naver.com/sh_baekwoon/223359878100\",\"blogName\":\"보상의 모..\",\"domainIdOrBlogId\":\"sh_baekwoon\",\"nicknameOrBlogId\":\"권 소장\",\"logNo\":223359878100,\"smartEditorVersion\":4,\"cafeDisplay\":true,\"outsideDisplay\":true,\"lineDisplay\":true,\"blogDisplay\":true,\"meDisplay\":true}\\n닫기\\n카테고리\\n이 블로그 홈\\n\\n공감한 사람 보러가기\\n댓글 25 공유하기\\n권 소장(sh_baekwoon) 님을 이웃추가하고 새글을 받아보세요\\n취소 이웃추가'}, {'title': '대구 교보문고 대구점 방문 후기 : 네이버 블로그', 'url': 'https://m.blog.naver.com/sh_baekwoon/223359878100', 'content': '대구 교보문고 대구점 방문 후기 : 네이버 블로그 대구 교보문고 대구점 방문 후기 며칠 전 동성로에 다녀오면서 교보문고 대구점도 방문하게 되어서 방문 후기도 포스팅! 대구에는 교보문고 대구점, 교보문고 칠곡점 이렇게 두 군데가 있어요~ 칠곡점은 아직 가보지 못했고 교보문고 대구점은 아이들과 책 구매를 위해 한 번씩 방문해요~ 아이들 키우는 부모들은 책 읽는 게 중요하다고 아이들에게 말하지만 실상은 그 부모들도 한 달에 책 한 권 읽지 않는 사람들이 \\x08상당히 많아요~ 저 또한 책과 친하진 않아요 ㅠㅠ 교보문고 대구점 그래서 도서검색을 할 수 있는 PC가 있는데 사람들도 워낙 많다 보니 사용하기 위해서는 대기를 해야 하지만~ 교보문고 대구점은 검색 PC들이 많이 구비되어 있어서 기다림 없이 검색할 수 있어요~ 혼자서도 필요한 책 잘 검색해요 ㅎ 책 산다고 해서 그냥 그림책 정도인 줄 알았더니 생각보다 글 양이 많더라고요 ㅎ 오랜만에 교보문고 대구점 다녀왔네요~ {\"title\":\"대구 교보문고 대구점 방문 후기\",\"source\":\"https://blog.naver.com/sh_baekwoon/223359878100\",\"blogName\":\"보상의 모..\",\"domainIdOrBlogId\":\"sh_baekwoon\",\"nicknameOrBlogId\":\"권 소장\",\"logNo\":223359878100,\"smartEditorVersion\":4,\"cafeDisplay\":true,\"outsideDisplay\":true,\"lineDisplay\":true,\"blogDisplay\":true,\"meDisplay\":true}', 'score': 0.79293, 'raw_content': '대구 교보문고 대구점 방문 후기 : 네이버 블로그\\n \\n본문 바로가기\\n블로그\\n카테고리 이동 보상의 모든 것\\n\\n검색 MY메뉴 열기\\n일상\\n대구 교보문고 대구점 방문 후기\\n\\n권 소장\\n2024. 2. 21. 0:00\\n이웃추가\\n본문 기타 기능\\n\\n본문 폰트 크기 조정 본문 폰트 크기 작게 보기 본문 폰트 크기 크게 보기 가\\n\\n공감하기\\n\\n\\n공유하기\\n\\nURL복사\\n신고하기\\n\\n안녕하세요. 권승혁 손해사정사입니다.\\n\\u200b\\n최근 업무 포스팅은 못하고 일상과 맛집들로 점점 도배가 되는 같아요~\\n\\u200b\\n업무보다 일상 포스팅이 쓰는 게 더 재미있네요 ㅎ\\n\\u200b\\n며칠 전 동성로에 다녀오면서 교보문고 대구점도 방문하게 되어서 방문 후기도 포스팅!\\n\\u200b\\n대구에는 교보문고 대구점, 교보문고 칠곡점 이렇게 두 군데가 있어요~ 칠곡점은 아직 가보지 못했고 교보문고 대구점은 아이들과 책 구매를 위해 한 번씩 방문해요~\\n\\u200b\\n\\n\\u200b\\n아이들 키우는 부모들은 책 읽는 게 중요하다고 아이들에게 말하지만 실상은 그 부모들도 한 달에 책 한 권 읽지 않는 사람들이 \\x08상당히 많아요~ 저 또한 책과 친하진 않아요 ㅠㅠ\\n\\u200b\\n그래도 아이들이 책을 많이 읽었으면 하죠!\\n그래서 아이들과 시간을 내서 도서관이나 교보문고에 자주 방문하려고 노력합니다!\\n\\n\\n교보문고 대구점\\n\\n\\n교보문고 대구점대구광역시 중구 국채보상로 586 교보생명 동성로사옥 지하2층~3층\\n이 블로그의 체크인\\n이 장소의 다른 글\\n\\u200b\\n대구 동성로에 위치해 있어서 시내 구경하고 놀다가 부담 없이 다녀오기 좋아요~\\n\\u200b\\nB1층이 핫트랙스가 있어서 더 자주 방문하게 되는 거 같아요~\\n\\u200b\\n저희 딸은 핫트랙스에서 정신을 놓고 구경해요~\\n\\u200b\\n\\n\\n\\n도서 검색\\n\\n교보문고에서 책 찾기가 쉽지가 않죠!?\\n(책이 엄청 많아서 찾기가 힘들어요)\\n\\u200b\\n그래서 도서검색을 할 수 있는 PC가 있는데 사람들도 워낙 많다 보니 사용하기 위해서는 대기를 해야 하지만~ 교보문고 대구점은 검색 PC들이 많이 구비되어 있어서 기다림 없이 검색할 수 있어요~\\n\\u200b\\n우리 딸내미도 검색~~\\n혼자서도 필요한 책 잘 검색해요 ㅎ\\n\\u200b\\n\\n\\n\\n\\n책 구매\\n\\n\\x08도서 검색하게 되면 책 위치를 작은 종이에 프린터 해줘요~ 위치까지 딸아이가 찾을 수 있게 옆에서 도와주고 따라다녔어요 ㅎ\\n\\u200b\\n\\n\\u200b\\n찾는 책을 정확하게 찾아왔어요 ㅎ\\n(대견 대견~)\\n\\u200b\\n\\n\\u200b\\n책 산다고 해서 그냥 그림책 정도인 줄 알았더니 생각보다 글 양이 많더라고요 ㅎ\\n\\u200b\\n얼마 전에 스즈메의 문단속 보더니 재미있다고 일본 애니메이션을 차례대로 보더니 너의 이름은까지!\\n\\u200b\\n\\n\\u200b\\n계산도 자기 용돈으로 계산!!\\n대단하다!! 우리 딸!!!\\n\\u200b\\n셀프 계산기도 있어요!\\n\\u200b\\n\\n\\u200b\\n제가 웹툰으로 재미있게 보고 있는 전지적 독자 시점이 소설책으로 상당히 많이 나왔길래 하나 집어 올려다가 핫트랙스 간다고 끌려 나왔어요 ㅎ\\n\\u200b\\n\\n\\u200b\\n소설 좋아하시면 한번 읽어보세요!\\n저도 조만간 읽어볼 예정이에요~\\n\\n\\n핫트랙스\\n\\n교보문고 B1층은 핫트랙스인데요~\\n\\u200b\\n딸내미는 여기도 그냥 지나칠 수 없다고 영혼 없이 핫트랙스로 빨려 들어가네요 ㅠㅠ\\n\\u200b\\n\\n\\u200b\\n맛있겠다~ 이쁘다~를 연발하시는...\\n(뭐가 그렇게 이쁜지 전 잘 모르겠는데..)\\n\\u200b\\n\\n\\u200b\\n요즘 유행이라고 하는 모루 인형 만들기!\\n\\u200b\\n\\n\\u200b\\n이건 비싸고~ 이러쿵저러쿵 ㅋㅋ\\n동네 아줌마 같은 모습을 봤어요ㅋㅋㅋ\\n\\n\\n마무리\\n\\n오랜만에 교보문고 대구점 다녀왔네요~\\n\\u200b\\n책이란 게 읽으면 좋다는 건 알지만 시간이 없다, 바쁘다는 핑계로 멀리하게 되지만~ 아이들과 시간 내서 한 번씩 보는 것도 힐링 되고 좋은 거 같아요~\\n\\u200b\\n전 안보지만 너희들은 읽어라!! ㅎㅎ\\n(아빠도 책 읽는 모습 많이 보여줄게~)\\n\\u200b\\n\\u200b\\n동성로 간식으로 마무리!\\n\\u200b\\n\\n\\n\\u200b\\n\\n#대구교보문고\\n#교보문고대구점\\n#핫트랙스\\n#교보문고주차\\n\\n\\n공감한 사람 보러가기\\n댓글 25 공유하기\\n{\"title\":\"대구 교보문고 대구점 방문 후기\",\"source\":\"https://blog.naver.com/sh_baekwoon/223359878100\",\"blogName\":\"보상의 모..\",\"domainIdOrBlogId\":\"sh_baekwoon\",\"nicknameOrBlogId\":\"권 소장\",\"logNo\":223359878100,\"smartEditorVersion\":4,\"cafeDisplay\":true,\"outsideDisplay\":true,\"lineDisplay\":true,\"blogDisplay\":true,\"meDisplay\":true}\\n닫기\\n카테고리\\n이 블로그 홈\\n\\n공감한 사람 보러가기\\n댓글 25 공유하기\\n권 소장(sh_baekwoon) 님을 이웃추가하고 새글을 받아보세요\\n취소 이웃추가'}, {'title': '대구점 매장안내 - 교보문고 - kyobobook.co.kr', 'url': 'https://store.kyobobook.co.kr/store-info/004', 'content': \"대구점 매장안내 - 교보문고 브랜드 더보기 회원가입 로그인 회원혜택 주문배송 매장안내 고객센터 통합검색 search button 전체메뉴 책!책!책! 신학기혜택 베스트 신상품 이벤트 바로펀딩 PICKS CASTing 컬처라운지 오늘의 미션 할인혜택 드디어 책책책 공개! 대구점 MY매장 서울 경기/인천 수도권 외 로그인 후 MY매장을 설정해 보세요. 설정하기 대구점 마이매장 설정 매장주소 대구광역시 중구 국채보상로 586, 교보생명빌딩 1~3층 *   영업시간 *   휴점 설(당일), 추석(당일) 지도 보기매장 문의 053-425-3501 Notice 김재원 아나운서의 힐링 에세이 '엄마의 얼굴' 사인회 코미디언 이경규의 첫 에세이 '삶이라는 완벽한 농담' 출간 기념 사인회 [강연회] 김진구 저자, <수술실에서 보낸 3만 시간> 매장 안내도 이벤트&공지사항 매장 서비스 보유 도서를 검색해보세요 search button 이벤트&공지사항 매장 서비스 공지사항 서울특별시 종로구 종로1 서울특별시 통신판매업신고번호 : 제 653호사업자정보확인 정보보호관리체계 ISMS 인증획득[인증범위] 인터넷 교보문고 및 브랜드 서비스 운영 이벤트\", 'score': 0.72042775, 'raw_content': \"대구점 매장안내 - 교보문고\\n\\n\\n브랜드 더보기\\n\\n\\n회원가입\\n\\n로그인\\n\\n회원혜택\\n\\n\\n주문배송\\n\\n매장안내\\n고객센터\\n\\n\\n통합검색\\nsearch button\\n\\n\\n전체메뉴\\n\\n책!책!책!\\n신학기혜택\\n베스트\\n신상품\\n이벤트\\n바로펀딩\\nPICKS\\nCASTing\\n\\n컬처라운지\\n\\n\\n\\n오늘의 미션\\n\\n할인혜택\\n드디어 책책책 공개!\\n\\n대구점\\n\\nMY매장\\n서울\\n경기/인천\\n수도권 외\\n\\n로그인 후 MY매장을 설정해 보세요.\\n설정하기\\n대구점\\n마이매장 설정\\n\\n\\n매장주소\\n대구광역시 중구 국채보상로 586, 교보생명빌딩 1~3층\\n*   영업시간\\n10:00 ~ 22:00\\n*   휴점\\n설(당일), 추석(당일)\\n\\n\\n지도 보기매장 문의 053-425-3501\\n\\nNotice\\n김재원 아나운서의 힐링 에세이 '엄마의 얼굴' 사인회\\n코미디언 이경규의 첫 에세이 '삶이라는 완벽한 농담' 출간 기념 사인회\\n[강연회] 김진구 저자, <수술실에서 보낸 3만 시간>\\n\\n오시는길\\n매장 안내도\\n이벤트&공지사항\\n매장 서비스\\n\\n보유 도서를 검색해보세요 search button\\n오시는길\\n매장안내도\\n이벤트&공지사항\\n매장 서비스\\n\\n\\n공지사항\\n\\n\\n\\n당첨자발표\\n\\n\\n\\n회사소개\\n\\n이용약관\\n개인정보처리방침\\n청소년보호정책\\n대량주문안내\\n협력사여러분\\n채용정보\\n\\n광고소개\\n\\n\\n대표이사 : 안병현, 김상훈\\n\\n서울특별시 종로구 종로1\\n사업자등록번호 : 102-81-11670\\n대표전화 : 1544-1900(발신자 부담전화)\\nFAX : 0502-987-5711(지역번호 공통)\\n서울특별시 통신판매업신고번호 : 제 653호사업자정보확인\\n\\n© KYOBO BOOK CENTRE\\nFamily Site\\n\\n토스페이먼츠 구매안전서비스서비스가입확인\\n고객님은 안전거래를 위해 현금 등으로 결제시 저희 쇼핑몰에서 가입한\\n토스페이먼츠의 구매안전서비스를 이용하실 수 있습니다.\\n정보보호관리체계 ISMS 인증획득[인증범위] 인터넷 교보문고 및 브랜드 서비스 운영\\n[유효기간] 2023.11.15 ~ 2026.11.14\\n이벤트\\n쿠폰/혜택\"}, {'title': '대구점 매장안내 - 교보문고 - kyobobook.co.kr', 'url': 'https://store.kyobobook.co.kr/store-info/004', 'content': \"대구점 매장안내 - 교보문고 브랜드 더보기 회원가입 로그인 회원혜택 주문배송 매장안내 고객센터 통합검색 search button 전체메뉴 책!책!책! 신학기혜택 베스트 신상품 이벤트 바로펀딩 PICKS CASTing 컬처라운지 오늘의 미션 할인혜택 드디어 책책책 공개! 대구점 MY매장 서울 경기/인천 수도권 외 로그인 후 MY매장을 설정해 보세요. 설정하기 대구점 마이매장 설정 매장주소 대구광역시 중구 국채보상로 586, 교보생명빌딩 1~3층 *   영업시간 *   휴점 설(당일), 추석(당일) 지도 보기매장 문의 053-425-3501 Notice 김재원 아나운서의 힐링 에세이 '엄마의 얼굴' 사인회 코미디언 이경규의 첫 에세이 '삶이라는 완벽한 농담' 출간 기념 사인회 [강연회] 김진구 저자, <수술실에서 보낸 3만 시간> 매장 안내도 이벤트&공지사항 매장 서비스 보유 도서를 검색해보세요 search button 이벤트&공지사항 매장 서비스 공지사항 서울특별시 종로구 종로1 서울특별시 통신판매업신고번호 : 제 653호사업자정보확인 정보보호관리체계 ISMS 인증획득[인증범위] 인터넷 교보문고 및 브랜드 서비스 운영 이벤트\", 'score': 0.72042775, 'raw_content': \"대구점 매장안내 - 교보문고\\n\\n\\n브랜드 더보기\\n\\n\\n회원가입\\n\\n로그인\\n\\n회원혜택\\n\\n\\n주문배송\\n\\n매장안내\\n고객센터\\n\\n\\n통합검색\\nsearch button\\n\\n\\n전체메뉴\\n\\n책!책!책!\\n신학기혜택\\n베스트\\n신상품\\n이벤트\\n바로펀딩\\nPICKS\\nCASTing\\n\\n컬처라운지\\n\\n\\n\\n오늘의 미션\\n\\n할인혜택\\n드디어 책책책 공개!\\n\\n대구점\\n\\nMY매장\\n서울\\n경기/인천\\n수도권 외\\n\\n로그인 후 MY매장을 설정해 보세요.\\n설정하기\\n대구점\\n마이매장 설정\\n\\n\\n매장주소\\n대구광역시 중구 국채보상로 586, 교보생명빌딩 1~3층\\n*   영업시간\\n10:00 ~ 22:00\\n*   휴점\\n설(당일), 추석(당일)\\n\\n\\n지도 보기매장 문의 053-425-3501\\n\\nNotice\\n김재원 아나운서의 힐링 에세이 '엄마의 얼굴' 사인회\\n코미디언 이경규의 첫 에세이 '삶이라는 완벽한 농담' 출간 기념 사인회\\n[강연회] 김진구 저자, <수술실에서 보낸 3만 시간>\\n\\n오시는길\\n매장 안내도\\n이벤트&공지사항\\n매장 서비스\\n\\n보유 도서를 검색해보세요 search button\\n오시는길\\n매장안내도\\n이벤트&공지사항\\n매장 서비스\\n\\n\\n공지사항\\n\\n\\n\\n당첨자발표\\n\\n\\n\\n회사소개\\n\\n이용약관\\n개인정보처리방침\\n청소년보호정책\\n대량주문안내\\n협력사여러분\\n채용정보\\n\\n광고소개\\n\\n\\n대표이사 : 안병현, 김상훈\\n\\n서울특별시 종로구 종로1\\n사업자등록번호 : 102-81-11670\\n대표전화 : 1544-1900(발신자 부담전화)\\nFAX : 0502-987-5711(지역번호 공통)\\n서울특별시 통신판매업신고번호 : 제 653호사업자정보확인\\n\\n© KYOBO BOOK CENTRE\\nFamily Site\\n\\n토스페이먼츠 구매안전서비스서비스가입확인\\n고객님은 안전거래를 위해 현금 등으로 결제시 저희 쇼핑몰에서 가입한\\n토스페이먼츠의 구매안전서비스를 이용하실 수 있습니다.\\n정보보호관리체계 ISMS 인증획득[인증범위] 인터넷 교보문고 및 브랜드 서비스 운영\\n[유효기간] 2023.11.15 ~ 2026.11.14\\n이벤트\\n쿠폰/혜택\"}]\n",
      "-------------------\n",
      "\n",
      "-------------------\n",
      "[Document(metadata={'source': 'https://www.localview.co.kr/store/detail.asp?seq=600977851'}, page_content='국민정신문화 향상, 사회교육적 기능을 살린 문화공간을 창출하는 문고 대구광역시 중구 동성로2가 위치, 영업점, 이벤트, 행사 등 안내, 보유도서 검색 제공. 대구의 중심가 동성로에 있는 교보문고 대구점은 총 면적 1,900평의 넓은 매장과 15만 종 30만 권의 방대한 도서를 바탕으로 대구를 대표하는'), Document(metadata={'source': 'https://www.localview.co.kr/store/detail.asp?seq=600977851'}, page_content='국민정신문화 향상, 사회교육적 기능을 살린 문화공간을 창출하는 문고 대구광역시 중구 동성로2가 위치, 영업점, 이벤트, 행사 등 안내, 보유도서 검색 제공. 대구의 중심가 동성로에 있는 교보문고 대구점은 총 면적 1,900평의 넓은 매장과 15만 종 30만 권의 방대한 도서를 바탕으로 대구를 대표하는'), Document(metadata={'source': 'https://m.blog.naver.com/sh_baekwoon/223359878100'}, page_content='대구 교보문고 대구점 방문 후기 : 네이버 블로그 대구 교보문고 대구점 방문 후기 며칠 전 동성로에 다녀오면서 교보문고 대구점도 방문하게 되어서 방문 후기도 포스팅! 대구에는 교보문고 대구점, 교보문고 칠곡점 이렇게 두 군데가 있어요~ 칠곡점은 아직 가보지 못했고 교보문고 대구점은 아이들과 책 구매를 위해 한 번씩 방문해요~ 아이들 키우는 부모들은 책 읽는 게 중요하다고 아이들에게 말하지만 실상은 그 부모들도 한 달에 책 한 권 읽지 않는 사람들이 \\x08상당히 많아요~ 저 또한 책과 친하진 않아요 ㅠㅠ 교보문고 대구점 그래서 도서검색을 할 수 있는 PC가 있는데 사람들도 워낙 많다 보니 사용하기 위해서는 대기를 해야 하지만~ 교보문고 대구점은 검색 PC들이 많이 구비되어 있어서 기다림 없이 검색할 수 있어요~ 혼자서도 필요한 책 잘 검색해요 ㅎ 책 산다고 해서 그냥 그림책 정도인 줄 알았더니 생각보다 글 양이 많더라고요 ㅎ 오랜만에 교보문고 대구점 다녀왔네요~ {\"title\":\"대구 교보문고 대구점 방문 후기\",\"source\":\"https://blog.naver.com/sh_baekwoon/223359878100\",\"blogName\":\"보상의 모..\",\"domainIdOrBlogId\":\"sh_baekwoon\",\"nicknameOrBlogId\":\"권 소장\",\"logNo\":223359878100,\"smartEditorVersion\":4,\"cafeDisplay\":true,\"outsideDisplay\":true,\"lineDisplay\":true,\"blogDisplay\":true,\"meDisplay\":true}'), Document(metadata={'source': 'https://m.blog.naver.com/sh_baekwoon/223359878100'}, page_content='대구 교보문고 대구점 방문 후기 : 네이버 블로그 대구 교보문고 대구점 방문 후기 며칠 전 동성로에 다녀오면서 교보문고 대구점도 방문하게 되어서 방문 후기도 포스팅! 대구에는 교보문고 대구점, 교보문고 칠곡점 이렇게 두 군데가 있어요~ 칠곡점은 아직 가보지 못했고 교보문고 대구점은 아이들과 책 구매를 위해 한 번씩 방문해요~ 아이들 키우는 부모들은 책 읽는 게 중요하다고 아이들에게 말하지만 실상은 그 부모들도 한 달에 책 한 권 읽지 않는 사람들이 \\x08상당히 많아요~ 저 또한 책과 친하진 않아요 ㅠㅠ 교보문고 대구점 그래서 도서검색을 할 수 있는 PC가 있는데 사람들도 워낙 많다 보니 사용하기 위해서는 대기를 해야 하지만~ 교보문고 대구점은 검색 PC들이 많이 구비되어 있어서 기다림 없이 검색할 수 있어요~ 혼자서도 필요한 책 잘 검색해요 ㅎ 책 산다고 해서 그냥 그림책 정도인 줄 알았더니 생각보다 글 양이 많더라고요 ㅎ 오랜만에 교보문고 대구점 다녀왔네요~ {\"title\":\"대구 교보문고 대구점 방문 후기\",\"source\":\"https://blog.naver.com/sh_baekwoon/223359878100\",\"blogName\":\"보상의 모..\",\"domainIdOrBlogId\":\"sh_baekwoon\",\"nicknameOrBlogId\":\"권 소장\",\"logNo\":223359878100,\"smartEditorVersion\":4,\"cafeDisplay\":true,\"outsideDisplay\":true,\"lineDisplay\":true,\"blogDisplay\":true,\"meDisplay\":true}'), Document(metadata={'source': 'https://store.kyobobook.co.kr/store-info/004'}, page_content=\"대구점 매장안내 - 교보문고 브랜드 더보기 회원가입 로그인 회원혜택 주문배송 매장안내 고객센터 통합검색 search button 전체메뉴 책!책!책! 신학기혜택 베스트 신상품 이벤트 바로펀딩 PICKS CASTing 컬처라운지 오늘의 미션 할인혜택 드디어 책책책 공개! 대구점 MY매장 서울 경기/인천 수도권 외 로그인 후 MY매장을 설정해 보세요. 설정하기 대구점 마이매장 설정 매장주소 대구광역시 중구 국채보상로 586, 교보생명빌딩 1~3층 *   영업시간 *   휴점 설(당일), 추석(당일) 지도 보기매장 문의 053-425-3501 Notice 김재원 아나운서의 힐링 에세이 '엄마의 얼굴' 사인회 코미디언 이경규의 첫 에세이 '삶이라는 완벽한 농담' 출간 기념 사인회 [강연회] 김진구 저자, <수술실에서 보낸 3만 시간> 매장 안내도 이벤트&공지사항 매장 서비스 보유 도서를 검색해보세요 search button 이벤트&공지사항 매장 서비스 공지사항 서울특별시 종로구 종로1 서울특별시 통신판매업신고번호 : 제 653호사업자정보확인 정보보호관리체계 ISMS 인증획득[인증범위] 인터넷 교보문고 및 브랜드 서비스 운영 이벤트\"), Document(metadata={'source': 'https://store.kyobobook.co.kr/store-info/004'}, page_content=\"대구점 매장안내 - 교보문고 브랜드 더보기 회원가입 로그인 회원혜택 주문배송 매장안내 고객센터 통합검색 search button 전체메뉴 책!책!책! 신학기혜택 베스트 신상품 이벤트 바로펀딩 PICKS CASTing 컬처라운지 오늘의 미션 할인혜택 드디어 책책책 공개! 대구점 MY매장 서울 경기/인천 수도권 외 로그인 후 MY매장을 설정해 보세요. 설정하기 대구점 마이매장 설정 매장주소 대구광역시 중구 국채보상로 586, 교보생명빌딩 1~3층 *   영업시간 *   휴점 설(당일), 추석(당일) 지도 보기매장 문의 053-425-3501 Notice 김재원 아나운서의 힐링 에세이 '엄마의 얼굴' 사인회 코미디언 이경규의 첫 에세이 '삶이라는 완벽한 농담' 출간 기념 사인회 [강연회] 김진구 저자, <수술실에서 보낸 3만 시간> 매장 안내도 이벤트&공지사항 매장 서비스 보유 도서를 검색해보세요 search button 이벤트&공지사항 매장 서비스 공지사항 서울특별시 종로구 종로1 서울특별시 통신판매업신고번호 : 제 653호사업자정보확인 정보보호관리체계 ISMS 인증획득[인증범위] 인터넷 교보문고 및 브랜드 서비스 운영 이벤트\")]\n",
      "-------------------\n",
      "\n",
      "==========================================================================================\n",
      "\n",
      "===== for 시작 1 =====\n",
      "== for 시작 1 - 1 ==\n",
      "state_key : web_search\n",
      "state_value: \n",
      " {'documents': [Document(metadata={'source': 'https://www.localview.co.kr/store/detail.asp?seq=600977851'}, page_content='국민정신문화 향상, 사회교육적 기능을 살린 문화공간을 창출하는 문고 대구광역시 중구 동성로2가 위치, 영업점, 이벤트, 행사 등 안내, 보유도서 검색 제공. 대구의 중심가 동성로에 있는 교보문고 대구점은 총 면적 1,900평의 넓은 매장과 15만 종 30만 권의 방대한 도서를 바탕으로 대구를 대표하는'), Document(metadata={'source': 'https://www.localview.co.kr/store/detail.asp?seq=600977851'}, page_content='국민정신문화 향상, 사회교육적 기능을 살린 문화공간을 창출하는 문고 대구광역시 중구 동성로2가 위치, 영업점, 이벤트, 행사 등 안내, 보유도서 검색 제공. 대구의 중심가 동성로에 있는 교보문고 대구점은 총 면적 1,900평의 넓은 매장과 15만 종 30만 권의 방대한 도서를 바탕으로 대구를 대표하는'), Document(metadata={'source': 'https://m.blog.naver.com/sh_baekwoon/223359878100'}, page_content='대구 교보문고 대구점 방문 후기 : 네이버 블로그 대구 교보문고 대구점 방문 후기 며칠 전 동성로에 다녀오면서 교보문고 대구점도 방문하게 되어서 방문 후기도 포스팅! 대구에는 교보문고 대구점, 교보문고 칠곡점 이렇게 두 군데가 있어요~ 칠곡점은 아직 가보지 못했고 교보문고 대구점은 아이들과 책 구매를 위해 한 번씩 방문해요~ 아이들 키우는 부모들은 책 읽는 게 중요하다고 아이들에게 말하지만 실상은 그 부모들도 한 달에 책 한 권 읽지 않는 사람들이 \\x08상당히 많아요~ 저 또한 책과 친하진 않아요 ㅠㅠ 교보문고 대구점 그래서 도서검색을 할 수 있는 PC가 있는데 사람들도 워낙 많다 보니 사용하기 위해서는 대기를 해야 하지만~ 교보문고 대구점은 검색 PC들이 많이 구비되어 있어서 기다림 없이 검색할 수 있어요~ 혼자서도 필요한 책 잘 검색해요 ㅎ 책 산다고 해서 그냥 그림책 정도인 줄 알았더니 생각보다 글 양이 많더라고요 ㅎ 오랜만에 교보문고 대구점 다녀왔네요~ {\"title\":\"대구 교보문고 대구점 방문 후기\",\"source\":\"https://blog.naver.com/sh_baekwoon/223359878100\",\"blogName\":\"보상의 모..\",\"domainIdOrBlogId\":\"sh_baekwoon\",\"nicknameOrBlogId\":\"권 소장\",\"logNo\":223359878100,\"smartEditorVersion\":4,\"cafeDisplay\":true,\"outsideDisplay\":true,\"lineDisplay\":true,\"blogDisplay\":true,\"meDisplay\":true}'), Document(metadata={'source': 'https://m.blog.naver.com/sh_baekwoon/223359878100'}, page_content='대구 교보문고 대구점 방문 후기 : 네이버 블로그 대구 교보문고 대구점 방문 후기 며칠 전 동성로에 다녀오면서 교보문고 대구점도 방문하게 되어서 방문 후기도 포스팅! 대구에는 교보문고 대구점, 교보문고 칠곡점 이렇게 두 군데가 있어요~ 칠곡점은 아직 가보지 못했고 교보문고 대구점은 아이들과 책 구매를 위해 한 번씩 방문해요~ 아이들 키우는 부모들은 책 읽는 게 중요하다고 아이들에게 말하지만 실상은 그 부모들도 한 달에 책 한 권 읽지 않는 사람들이 \\x08상당히 많아요~ 저 또한 책과 친하진 않아요 ㅠㅠ 교보문고 대구점 그래서 도서검색을 할 수 있는 PC가 있는데 사람들도 워낙 많다 보니 사용하기 위해서는 대기를 해야 하지만~ 교보문고 대구점은 검색 PC들이 많이 구비되어 있어서 기다림 없이 검색할 수 있어요~ 혼자서도 필요한 책 잘 검색해요 ㅎ 책 산다고 해서 그냥 그림책 정도인 줄 알았더니 생각보다 글 양이 많더라고요 ㅎ 오랜만에 교보문고 대구점 다녀왔네요~ {\"title\":\"대구 교보문고 대구점 방문 후기\",\"source\":\"https://blog.naver.com/sh_baekwoon/223359878100\",\"blogName\":\"보상의 모..\",\"domainIdOrBlogId\":\"sh_baekwoon\",\"nicknameOrBlogId\":\"권 소장\",\"logNo\":223359878100,\"smartEditorVersion\":4,\"cafeDisplay\":true,\"outsideDisplay\":true,\"lineDisplay\":true,\"blogDisplay\":true,\"meDisplay\":true}'), Document(metadata={'source': 'https://store.kyobobook.co.kr/store-info/004'}, page_content=\"대구점 매장안내 - 교보문고 브랜드 더보기 회원가입 로그인 회원혜택 주문배송 매장안내 고객센터 통합검색 search button 전체메뉴 책!책!책! 신학기혜택 베스트 신상품 이벤트 바로펀딩 PICKS CASTing 컬처라운지 오늘의 미션 할인혜택 드디어 책책책 공개! 대구점 MY매장 서울 경기/인천 수도권 외 로그인 후 MY매장을 설정해 보세요. 설정하기 대구점 마이매장 설정 매장주소 대구광역시 중구 국채보상로 586, 교보생명빌딩 1~3층 *   영업시간 *   휴점 설(당일), 추석(당일) 지도 보기매장 문의 053-425-3501 Notice 김재원 아나운서의 힐링 에세이 '엄마의 얼굴' 사인회 코미디언 이경규의 첫 에세이 '삶이라는 완벽한 농담' 출간 기념 사인회 [강연회] 김진구 저자, <수술실에서 보낸 3만 시간> 매장 안내도 이벤트&공지사항 매장 서비스 보유 도서를 검색해보세요 search button 이벤트&공지사항 매장 서비스 공지사항 서울특별시 종로구 종로1 서울특별시 통신판매업신고번호 : 제 653호사업자정보확인 정보보호관리체계 ISMS 인증획득[인증범위] 인터넷 교보문고 및 브랜드 서비스 운영 이벤트\"), Document(metadata={'source': 'https://store.kyobobook.co.kr/store-info/004'}, page_content=\"대구점 매장안내 - 교보문고 브랜드 더보기 회원가입 로그인 회원혜택 주문배송 매장안내 고객센터 통합검색 search button 전체메뉴 책!책!책! 신학기혜택 베스트 신상품 이벤트 바로펀딩 PICKS CASTing 컬처라운지 오늘의 미션 할인혜택 드디어 책책책 공개! 대구점 MY매장 서울 경기/인천 수도권 외 로그인 후 MY매장을 설정해 보세요. 설정하기 대구점 마이매장 설정 매장주소 대구광역시 중구 국채보상로 586, 교보생명빌딩 1~3층 *   영업시간 *   휴점 설(당일), 추석(당일) 지도 보기매장 문의 053-425-3501 Notice 김재원 아나운서의 힐링 에세이 '엄마의 얼굴' 사인회 코미디언 이경규의 첫 에세이 '삶이라는 완벽한 농담' 출간 기념 사인회 [강연회] 김진구 저자, <수술실에서 보낸 3만 시간> 매장 안내도 이벤트&공지사항 매장 서비스 보유 도서를 검색해보세요 search button 이벤트&공지사항 매장 서비스 공지사항 서울특별시 종로구 종로1 서울특별시 통신판매업신고번호 : 제 653호사업자정보확인 정보보호관리체계 ISMS 인증획득[인증범위] 인터넷 교보문고 및 브랜드 서비스 운영 이벤트\")]}\n",
      "== for  끝 1 - 1==\n",
      "===== for 끝 1 =====\n",
      "\n",
      "==========================================================================================\n",
      "🔄 [Node] 답변 생성 노드 🔄\n",
      "-------------------\n",
      "(1) 사용자 질문: 대구 교보문고\n",
      "(2) 문서 검색 결과:\n",
      "[Document(metadata={'source': 'https://www.localview.co.kr/store/detail.asp?seq=600977851'}, page_content='국민정신문화 향상, 사회교육적 기능을 살린 문화공간을 창출하는 문고 대구광역시 중구 동성로2가 위치, 영업점, 이벤트, 행사 등 안내, 보유도서 검색 제공. 대구의 중심가 동성로에 있는 교보문고 대구점은 총 면적 1,900평의 넓은 매장과 15만 종 30만 권의 방대한 도서를 바탕으로 대구를 대표하는'), Document(metadata={'source': 'https://www.localview.co.kr/store/detail.asp?seq=600977851'}, page_content='국민정신문화 향상, 사회교육적 기능을 살린 문화공간을 창출하는 문고 대구광역시 중구 동성로2가 위치, 영업점, 이벤트, 행사 등 안내, 보유도서 검색 제공. 대구의 중심가 동성로에 있는 교보문고 대구점은 총 면적 1,900평의 넓은 매장과 15만 종 30만 권의 방대한 도서를 바탕으로 대구를 대표하는'), Document(metadata={'source': 'https://m.blog.naver.com/sh_baekwoon/223359878100'}, page_content='대구 교보문고 대구점 방문 후기 : 네이버 블로그 대구 교보문고 대구점 방문 후기 며칠 전 동성로에 다녀오면서 교보문고 대구점도 방문하게 되어서 방문 후기도 포스팅! 대구에는 교보문고 대구점, 교보문고 칠곡점 이렇게 두 군데가 있어요~ 칠곡점은 아직 가보지 못했고 교보문고 대구점은 아이들과 책 구매를 위해 한 번씩 방문해요~ 아이들 키우는 부모들은 책 읽는 게 중요하다고 아이들에게 말하지만 실상은 그 부모들도 한 달에 책 한 권 읽지 않는 사람들이 \\x08상당히 많아요~ 저 또한 책과 친하진 않아요 ㅠㅠ 교보문고 대구점 그래서 도서검색을 할 수 있는 PC가 있는데 사람들도 워낙 많다 보니 사용하기 위해서는 대기를 해야 하지만~ 교보문고 대구점은 검색 PC들이 많이 구비되어 있어서 기다림 없이 검색할 수 있어요~ 혼자서도 필요한 책 잘 검색해요 ㅎ 책 산다고 해서 그냥 그림책 정도인 줄 알았더니 생각보다 글 양이 많더라고요 ㅎ 오랜만에 교보문고 대구점 다녀왔네요~ {\"title\":\"대구 교보문고 대구점 방문 후기\",\"source\":\"https://blog.naver.com/sh_baekwoon/223359878100\",\"blogName\":\"보상의 모..\",\"domainIdOrBlogId\":\"sh_baekwoon\",\"nicknameOrBlogId\":\"권 소장\",\"logNo\":223359878100,\"smartEditorVersion\":4,\"cafeDisplay\":true,\"outsideDisplay\":true,\"lineDisplay\":true,\"blogDisplay\":true,\"meDisplay\":true}'), Document(metadata={'source': 'https://m.blog.naver.com/sh_baekwoon/223359878100'}, page_content='대구 교보문고 대구점 방문 후기 : 네이버 블로그 대구 교보문고 대구점 방문 후기 며칠 전 동성로에 다녀오면서 교보문고 대구점도 방문하게 되어서 방문 후기도 포스팅! 대구에는 교보문고 대구점, 교보문고 칠곡점 이렇게 두 군데가 있어요~ 칠곡점은 아직 가보지 못했고 교보문고 대구점은 아이들과 책 구매를 위해 한 번씩 방문해요~ 아이들 키우는 부모들은 책 읽는 게 중요하다고 아이들에게 말하지만 실상은 그 부모들도 한 달에 책 한 권 읽지 않는 사람들이 \\x08상당히 많아요~ 저 또한 책과 친하진 않아요 ㅠㅠ 교보문고 대구점 그래서 도서검색을 할 수 있는 PC가 있는데 사람들도 워낙 많다 보니 사용하기 위해서는 대기를 해야 하지만~ 교보문고 대구점은 검색 PC들이 많이 구비되어 있어서 기다림 없이 검색할 수 있어요~ 혼자서도 필요한 책 잘 검색해요 ㅎ 책 산다고 해서 그냥 그림책 정도인 줄 알았더니 생각보다 글 양이 많더라고요 ㅎ 오랜만에 교보문고 대구점 다녀왔네요~ {\"title\":\"대구 교보문고 대구점 방문 후기\",\"source\":\"https://blog.naver.com/sh_baekwoon/223359878100\",\"blogName\":\"보상의 모..\",\"domainIdOrBlogId\":\"sh_baekwoon\",\"nicknameOrBlogId\":\"권 소장\",\"logNo\":223359878100,\"smartEditorVersion\":4,\"cafeDisplay\":true,\"outsideDisplay\":true,\"lineDisplay\":true,\"blogDisplay\":true,\"meDisplay\":true}'), Document(metadata={'source': 'https://store.kyobobook.co.kr/store-info/004'}, page_content=\"대구점 매장안내 - 교보문고 브랜드 더보기 회원가입 로그인 회원혜택 주문배송 매장안내 고객센터 통합검색 search button 전체메뉴 책!책!책! 신학기혜택 베스트 신상품 이벤트 바로펀딩 PICKS CASTing 컬처라운지 오늘의 미션 할인혜택 드디어 책책책 공개! 대구점 MY매장 서울 경기/인천 수도권 외 로그인 후 MY매장을 설정해 보세요. 설정하기 대구점 마이매장 설정 매장주소 대구광역시 중구 국채보상로 586, 교보생명빌딩 1~3층 *   영업시간 *   휴점 설(당일), 추석(당일) 지도 보기매장 문의 053-425-3501 Notice 김재원 아나운서의 힐링 에세이 '엄마의 얼굴' 사인회 코미디언 이경규의 첫 에세이 '삶이라는 완벽한 농담' 출간 기념 사인회 [강연회] 김진구 저자, <수술실에서 보낸 3만 시간> 매장 안내도 이벤트&공지사항 매장 서비스 보유 도서를 검색해보세요 search button 이벤트&공지사항 매장 서비스 공지사항 서울특별시 종로구 종로1 서울특별시 통신판매업신고번호 : 제 653호사업자정보확인 정보보호관리체계 ISMS 인증획득[인증범위] 인터넷 교보문고 및 브랜드 서비스 운영 이벤트\"), Document(metadata={'source': 'https://store.kyobobook.co.kr/store-info/004'}, page_content=\"대구점 매장안내 - 교보문고 브랜드 더보기 회원가입 로그인 회원혜택 주문배송 매장안내 고객센터 통합검색 search button 전체메뉴 책!책!책! 신학기혜택 베스트 신상품 이벤트 바로펀딩 PICKS CASTing 컬처라운지 오늘의 미션 할인혜택 드디어 책책책 공개! 대구점 MY매장 서울 경기/인천 수도권 외 로그인 후 MY매장을 설정해 보세요. 설정하기 대구점 마이매장 설정 매장주소 대구광역시 중구 국채보상로 586, 교보생명빌딩 1~3층 *   영업시간 *   휴점 설(당일), 추석(당일) 지도 보기매장 문의 053-425-3501 Notice 김재원 아나운서의 힐링 에세이 '엄마의 얼굴' 사인회 코미디언 이경규의 첫 에세이 '삶이라는 완벽한 농담' 출간 기념 사인회 [강연회] 김진구 저자, <수술실에서 보낸 3만 시간> 매장 안내도 이벤트&공지사항 매장 서비스 보유 도서를 검색해보세요 search button 이벤트&공지사항 매장 서비스 공지사항 서울특별시 종로구 종로1 서울특별시 통신판매업신고번호 : 제 653호사업자정보확인 정보보호관리체계 ISMS 인증획득[인증범위] 인터넷 교보문고 및 브랜드 서비스 운영 이벤트\")]\n",
      "\n",
      "(3) rag 실행 결과:\n",
      "교보문고 대구점은 대구광역시 중구 동성로2가에 위치하며, 총 면적은 1,900평이고, 15만 종 30만 권의 도서를 보유하고 있습니다.\n",
      "\n",
      "**Source**\n",
      "- https://www.localview.co.kr/store/detail.asp?seq=600977851\n",
      "- https://store.kyobobook.co.kr/store-info/004\n",
      "-------------------\n",
      "\n",
      "==========================================================================================\n",
      "\n",
      "\n",
      "==========================================================================================\n",
      "🔄 [Node] hallucination 평가 노드 🔄\n",
      "===== [평가 결과] =====\n",
      "yes\n",
      "===== [DECISION: GENERATION IS GROUNDED IN DOCUMENTS] =====\n",
      "no hallucination\n",
      "===== [GRADE GENERATED ANSWER vs QUESTION] =====\n",
      "==== [DECISION: GENERATED ANSWER ADDRESSES QUESTION] ====\n",
      "relevant\n",
      "==========================================================================================\n",
      "\n",
      "===== for 시작 2 =====\n",
      "== for 시작 2 - 1 ==\n",
      "state_key : generate\n",
      "state_value: \n",
      " {'generation': '교보문고 대구점은 대구광역시 중구 동성로2가에 위치하며, 총 면적은 1,900평이고, 15만 종 30만 권의 도서를 보유하고 있습니다.\\n\\n**Source**\\n- https://www.localview.co.kr/store/detail.asp?seq=600977851\\n- https://store.kyobobook.co.kr/store-info/004'}\n",
      "== for  끝 2 - 1==\n",
      "===== for 끝 2 =====\n"
     ]
    }
   ],
   "source": [
    "config = RunnableConfig(                        # config 설정\n",
    "    recursion_limit=20,                         # 최대 20개의 노드까지 방문.\n",
    "    configurable={'thread_id': random_uuid()}   # thread_id 설정\n",
    ")\n",
    "\n",
    "inputs = GraphState(question='대구 교보문고')\n",
    "\n",
    "\n",
    "i = 1\n",
    "\n",
    "for chunk in app.stream(inputs, config=config, stream_mode=\"updates\"):\n",
    "    print(f\"===== for 시작 {i} =====\")\n",
    "\n",
    "    j = 1\n",
    "\n",
    "    # chunk 는 dictionary 형태(key: State 의 key, value: State 의 value)\n",
    "    for state_key, state_value in chunk.items():\n",
    "        print(f\"== for 시작 {i} - {j} ==\")\n",
    "        print(f\"state_key : {state_key }\")\n",
    "        print(f\"state_value: \\n {state_value}\")\n",
    "        print(f\"== for  끝 {i} - {j}==\")\n",
    "\n",
    "        j=j+1\n",
    "    \n",
    "    print(f\"===== for 끝 {i} =====\")\n",
    "    i=i+1"
   ]
  },
  {
   "cell_type": "code",
   "execution_count": 74,
   "metadata": {},
   "outputs": [
    {
     "name": "stdout",
     "output_type": "stream",
     "text": [
      "\n",
      "==========================================================================================\n",
      "🔄 [Node] 질문 라우팅 노드 🔄\n",
      "==== [ROUTE QUESTION TO VECTORSTORE] ====\n",
      "==========================================================================================\n",
      "\n",
      "\n",
      "==========================================================================================\n",
      "🔄 [Node] 문서 검색 노드 🔄\n",
      "문서 검색 결과: \n",
      "-------------------\n",
      "[Document(id='2be8b6fb-b31a-4729-b392-22770b9a366f', metadata={'source': 'data/SPRI_AI_Brief_2023년12월호_F.pdf', 'file_path': 'data/SPRI_AI_Brief_2023년12월호_F.pdf', 'page': 1, 'total_pages': 23, 'Author': 'dj', 'Creator': 'Hwp 2018 10.0.0.13462', 'Producer': 'Hancom PDF 1.3.0.542', 'CreationDate': \"D:20231208132838+09'00'\", 'ModDate': \"D:20231208132838+09'00'\", 'PDFVersion': '1.4'}, page_content='▹ 삼성전자, 자체 개발 생성 AI ‘삼성 가우스’ 공개 ···························································10\\n▹ 구글, 앤스로픽에 20억 달러 투자로 생성 AI 협력 강화 ················································11\\n▹ IDC, 2027년 AI 소프트웨어 매출 2,500억 달러 돌파 전망···········································12'), Document(id='e0c2c7c1-ce9f-4f28-9dad-049e0a0bb529', metadata={'source': 'data/SPRI_AI_Brief_2023년12월호_F.pdf', 'file_path': 'data/SPRI_AI_Brief_2023년12월호_F.pdf', 'page': 12, 'total_pages': 23, 'Author': 'dj', 'Creator': 'Hwp 2018 10.0.0.13462', 'Producer': 'Hancom PDF 1.3.0.542', 'CreationDate': \"D:20231208132838+09'00'\", 'ModDate': \"D:20231208132838+09'00'\", 'PDFVersion': '1.4'}, page_content='SPRi AI Brief |\\n2023-12월호\\n삼성전자, 자체 개발 생성 AI ‘삼성 가우스’ 공개\\nKEY Contents\\nn 삼성전자가 온디바이스에서 작동 가능하며 언어, 코드, 이미지의 3개 모델로 구성된 자체 개발 생성\\nAI 모델 ‘삼성 가우스’를 공개\\nn 삼성전자는 삼성 가우스를 다양한 제품에 단계적으로 탑재할 계획으로, 온디바이스 작동이 가능한\\n삼성 가우스는 외부로 사용자 정보가 유출될 위험이 없다는 장점을 보유\\n£언어, 코드, 이미지의 3개 모델로 구성된 삼성 가우스, 온디바이스 작동 지원'), Document(id='a75f7e74-6ff4-4c59-8b99-f2e02ce228dd', metadata={'source': 'data/SPRI_AI_Brief_2023년12월호_F.pdf', 'file_path': 'data/SPRI_AI_Brief_2023년12월호_F.pdf', 'page': 12, 'total_pages': 23, 'Author': 'dj', 'Creator': 'Hwp 2018 10.0.0.13462', 'Producer': 'Hancom PDF 1.3.0.542', 'CreationDate': \"D:20231208132838+09'00'\", 'ModDate': \"D:20231208132838+09'00'\", 'PDFVersion': '1.4'}, page_content='어시스턴트를 적용한 구글 픽셀(Pixel)과 경쟁할 것으로 예상\\n☞ 출처 : 삼성전자, ‘삼성 AI 포럼’서 자체 개발 생성형 AI ‘삼성 가우스’ 공개, 2023.11.08.\\n삼성전자, ‘삼성 개발자 콘퍼런스 코리아 2023’ 개최, 2023.11.14.\\nTechRepublic, Samsung Gauss: Samsung Research Reveals Generative AI, 2023.11.08.\\n10'), Document(id='6924b616-aa84-4b6a-a4b5-b93ad942e9ee', metadata={'source': 'data/SPRI_AI_Brief_2023년12월호_F.pdf', 'file_path': 'data/SPRI_AI_Brief_2023년12월호_F.pdf', 'page': 12, 'total_pages': 23, 'Author': 'dj', 'Creator': 'Hwp 2018 10.0.0.13462', 'Producer': 'Hancom PDF 1.3.0.542', 'CreationDate': \"D:20231208132838+09'00'\", 'ModDate': \"D:20231208132838+09'00'\", 'PDFVersion': '1.4'}, page_content='£언어, 코드, 이미지의 3개 모델로 구성된 삼성 가우스, 온디바이스 작동 지원\\nn 삼성전자가 2023년 11월 8일 열린 ‘삼성 AI 포럼 2023’ 행사에서 자체 개발한 생성 AI 모델\\n‘삼성 가우스’를 최초 공개\\n∙ 정규분포 이론을 정립한 천재 수학자 가우스(Gauss)의 이름을 본뜬 삼성 가우스는 다양한 상황에\\n최적화된 크기의 모델 선택이 가능\\n∙ 삼성 가우스는 라이선스나 개인정보를 침해하지 않는 안전한 데이터를 통해 학습되었으며,\\n온디바이스에서 작동하도록 설계되어 외부로 사용자의 정보가 유출되지 않는 장점을 보유'), Document(id='6ac9fa9b-f6eb-44aa-9823-cd539361545e', metadata={'source': 'data/SPRI_AI_Brief_2023년12월호_F.pdf', 'file_path': 'data/SPRI_AI_Brief_2023년12월호_F.pdf', 'page': 12, 'total_pages': 23, 'Author': 'dj', 'Creator': 'Hwp 2018 10.0.0.13462', 'Producer': 'Hancom PDF 1.3.0.542', 'CreationDate': \"D:20231208132838+09'00'\", 'ModDate': \"D:20231208132838+09'00'\", 'PDFVersion': '1.4'}, page_content='온디바이스에서 작동하도록 설계되어 외부로 사용자의 정보가 유출되지 않는 장점을 보유\\n∙ 삼성전자는 삼성 가우스를 활용한 온디바이스 AI 기술도 소개했으며, 생성 AI 모델을 다양한 제품에\\n단계적으로 탑재할 계획\\nn 삼성 가우스는 △텍스트를 생성하는 언어모델 △코드를 생성하는 코드 모델 △이미지를 생성하는\\n이미지 모델의 3개 모델로 구성\\n∙ 언어 모델은 클라우드와 온디바이스 대상 다양한 모델로 구성되며, 메일 작성, 문서 요약, 번역 업무의\\n처리를 지원'), Document(id='b7051f97-42d5-4f66-9da7-249639b8d9cd', metadata={'source': 'data/SPRI_AI_Brief_2023년12월호_F.pdf', 'file_path': 'data/SPRI_AI_Brief_2023년12월호_F.pdf', 'page': 12, 'total_pages': 23, 'Author': 'dj', 'Creator': 'Hwp 2018 10.0.0.13462', 'Producer': 'Hancom PDF 1.3.0.542', 'CreationDate': \"D:20231208132838+09'00'\", 'ModDate': \"D:20231208132838+09'00'\", 'PDFVersion': '1.4'}, page_content='처리를 지원\\n∙ 코드 모델 기반의 AI 코딩 어시스턴트 ‘코드아이(code.i)’는 대화형 인터페이스로 서비스를 제공하며\\n사내 소프트웨어 개발에 최적화\\n∙ 이미지 모델은 창의적인 이미지를 생성하고 기존 이미지를 원하는 대로 바꿀 수 있도록 지원하며\\n저해상도 이미지의 고해상도 전환도 지원\\nn IT 전문지 테크리퍼블릭(TechRepublic)은 온디바이스 AI가 주요 기술 트렌드로 부상했다며,\\n2024년부터 가우스를 탑재한 삼성 스마트폰이 메타의 라마(Llama)2를 탑재한 퀄컴 기기 및 구글'), Document(id='340ab211-d8c8-40c4-a4b5-85321a078668', metadata={'source': 'data/SPRI_AI_Brief_2023년12월호_F.pdf', 'file_path': 'data/SPRI_AI_Brief_2023년12월호_F.pdf', 'page': 18, 'total_pages': 23, 'Author': 'dj', 'Creator': 'Hwp 2018 10.0.0.13462', 'Producer': 'Hancom PDF 1.3.0.542', 'CreationDate': \"D:20231208132838+09'00'\", 'ModDate': \"D:20231208132838+09'00'\", 'PDFVersion': '1.4'}, page_content='<구글 딥마인드의 범용 AI 분류 프레임워크>\\n성능 특수 AI 예시 범용 AI 예시\\n0단계: AI 아님 계산기 소프트웨어, 컴파일러 아마존 메커니컬 터크\\n1단계: 신진(숙련되지 않은 인간) GOFAI(Good Old Fashioned Artificial Intelligence) 챗GPT, 바드, 라마2\\n스마트 스피커(애플 시리, 아마존 알렉사, 구글\\n2단계: 유능(숙련된 인간의 50% 이상) 미달성\\n어시스턴트), IBM 왓슨\\n3단계: 전문가(숙련된 인간의 90% 이상) 문법 교정기(그래머리), 생성 이미지 모델(달리2) 미달성'), Document(id='3961e8a3-52a5-4089-a800-ea62522c9a0f', metadata={'source': 'data/SPRI_AI_Brief_2023년12월호_F.pdf', 'file_path': 'data/SPRI_AI_Brief_2023년12월호_F.pdf', 'page': 11, 'total_pages': 23, 'Author': 'dj', 'Creator': 'Hwp 2018 10.0.0.13462', 'Producer': 'Hancom PDF 1.3.0.542', 'CreationDate': \"D:20231208132838+09'00'\", 'ModDate': \"D:20231208132838+09'00'\", 'PDFVersion': '1.4'}, page_content='제작을 포함\\nn 알리바바 클라우드는 급증하는 생성 AI 수요에 대응해 모델 개발과 애플리케이션 구축 절차를\\n간소화하는 올인원 AI 모델 구축 플랫폼 ‘젠AI(GenAI)’도 공개\\n∙ 이 플랫폼은 데이터 관리, 모델 배포와 평가, 신속한 엔지니어링을 위한 종합 도구 모음을 제공하여\\n다양한 기업들이 맞춤형 AI 모델을 한층 쉽게 개발할 수 있도록 지원\\n∙ 생성 AI 개발에 필요한 컴퓨팅과 데이터 처리 요구사항을 지원하기 위해 AI 플랫폼(PAI),\\n데이터베이스 솔루션, 컨테이너 서비스와 같은 클라우드 신제품도 발표'), Document(id='8343f4be-2f05-4dec-af17-f8ae6657c39d', metadata={'source': 'data/SPRI_AI_Brief_2023년12월호_F.pdf', 'file_path': 'data/SPRI_AI_Brief_2023년12월호_F.pdf', 'page': 1, 'total_pages': 23, 'Author': 'dj', 'Creator': 'Hwp 2018 10.0.0.13462', 'Producer': 'Hancom PDF 1.3.0.542', 'CreationDate': \"D:20231208132838+09'00'\", 'ModDate': \"D:20231208132838+09'00'\", 'PDFVersion': '1.4'}, page_content='▹ 빌 게이츠, AI 에이전트로 인한 컴퓨터 사용의 패러다임 변화 전망································13\\n▹ 유튜브, 2024년부터 AI 생성 콘텐츠 표시 의무화····························································14\\n3. 기술/연구\\n▹ 영국 과학혁신기술부, AI 안전 연구소 설립 발표······························································15'), Document(id='88879b05-2345-4264-9ae9-6035f506f068', metadata={'source': 'data/SPRI_AI_Brief_2023년12월호_F.pdf', 'file_path': 'data/SPRI_AI_Brief_2023년12월호_F.pdf', 'page': 7, 'total_pages': 23, 'Author': 'dj', 'Creator': 'Hwp 2018 10.0.0.13462', 'Producer': 'Hancom PDF 1.3.0.542', 'CreationDate': \"D:20231208132838+09'00'\", 'ModDate': \"D:20231208132838+09'00'\", 'PDFVersion': '1.4'}, page_content='만들었다고 오해할 소지가 있다고 지적\\n∙ 저작권법에 저촉되는 행위는 불공정 경쟁이나 기만행위에도 해당될 수 있으며, 창작자의 평판 악화,\\n저작물의 가치 저하나 개인정보 유출로 소비자에 상당한 피해를 초래 가능\\nn FTC는 일부 빅테크가 막대한 재원을 활용해 생성 AI 사용자의 이탈을 막고 저작권이 있는 상용\\n데이터에 대한 독점 라이선스를 확보해 시장 지배력을 더욱 강화할 수 있다는 우려도 제기\\n∙ 이와 관련 FTC는 아마존 AI 비서 ‘알렉사(Alexa)’와 스마트홈 보안 기기 ‘링(Ring)’이 소비자의 사적')]\n",
      "-------------------\n",
      "==========================================================================================\n",
      "\n",
      "===== for 시작 1 =====\n",
      "== for 시작 1 - 1 ==\n",
      "state_key : retrieve\n",
      "state_value: \n",
      " {'documents': [Document(id='2be8b6fb-b31a-4729-b392-22770b9a366f', metadata={'source': 'data/SPRI_AI_Brief_2023년12월호_F.pdf', 'file_path': 'data/SPRI_AI_Brief_2023년12월호_F.pdf', 'page': 1, 'total_pages': 23, 'Author': 'dj', 'Creator': 'Hwp 2018 10.0.0.13462', 'Producer': 'Hancom PDF 1.3.0.542', 'CreationDate': \"D:20231208132838+09'00'\", 'ModDate': \"D:20231208132838+09'00'\", 'PDFVersion': '1.4'}, page_content='▹ 삼성전자, 자체 개발 생성 AI ‘삼성 가우스’ 공개 ···························································10\\n▹ 구글, 앤스로픽에 20억 달러 투자로 생성 AI 협력 강화 ················································11\\n▹ IDC, 2027년 AI 소프트웨어 매출 2,500억 달러 돌파 전망···········································12'), Document(id='e0c2c7c1-ce9f-4f28-9dad-049e0a0bb529', metadata={'source': 'data/SPRI_AI_Brief_2023년12월호_F.pdf', 'file_path': 'data/SPRI_AI_Brief_2023년12월호_F.pdf', 'page': 12, 'total_pages': 23, 'Author': 'dj', 'Creator': 'Hwp 2018 10.0.0.13462', 'Producer': 'Hancom PDF 1.3.0.542', 'CreationDate': \"D:20231208132838+09'00'\", 'ModDate': \"D:20231208132838+09'00'\", 'PDFVersion': '1.4'}, page_content='SPRi AI Brief |\\n2023-12월호\\n삼성전자, 자체 개발 생성 AI ‘삼성 가우스’ 공개\\nKEY Contents\\nn 삼성전자가 온디바이스에서 작동 가능하며 언어, 코드, 이미지의 3개 모델로 구성된 자체 개발 생성\\nAI 모델 ‘삼성 가우스’를 공개\\nn 삼성전자는 삼성 가우스를 다양한 제품에 단계적으로 탑재할 계획으로, 온디바이스 작동이 가능한\\n삼성 가우스는 외부로 사용자 정보가 유출될 위험이 없다는 장점을 보유\\n£언어, 코드, 이미지의 3개 모델로 구성된 삼성 가우스, 온디바이스 작동 지원'), Document(id='a75f7e74-6ff4-4c59-8b99-f2e02ce228dd', metadata={'source': 'data/SPRI_AI_Brief_2023년12월호_F.pdf', 'file_path': 'data/SPRI_AI_Brief_2023년12월호_F.pdf', 'page': 12, 'total_pages': 23, 'Author': 'dj', 'Creator': 'Hwp 2018 10.0.0.13462', 'Producer': 'Hancom PDF 1.3.0.542', 'CreationDate': \"D:20231208132838+09'00'\", 'ModDate': \"D:20231208132838+09'00'\", 'PDFVersion': '1.4'}, page_content='어시스턴트를 적용한 구글 픽셀(Pixel)과 경쟁할 것으로 예상\\n☞ 출처 : 삼성전자, ‘삼성 AI 포럼’서 자체 개발 생성형 AI ‘삼성 가우스’ 공개, 2023.11.08.\\n삼성전자, ‘삼성 개발자 콘퍼런스 코리아 2023’ 개최, 2023.11.14.\\nTechRepublic, Samsung Gauss: Samsung Research Reveals Generative AI, 2023.11.08.\\n10'), Document(id='6924b616-aa84-4b6a-a4b5-b93ad942e9ee', metadata={'source': 'data/SPRI_AI_Brief_2023년12월호_F.pdf', 'file_path': 'data/SPRI_AI_Brief_2023년12월호_F.pdf', 'page': 12, 'total_pages': 23, 'Author': 'dj', 'Creator': 'Hwp 2018 10.0.0.13462', 'Producer': 'Hancom PDF 1.3.0.542', 'CreationDate': \"D:20231208132838+09'00'\", 'ModDate': \"D:20231208132838+09'00'\", 'PDFVersion': '1.4'}, page_content='£언어, 코드, 이미지의 3개 모델로 구성된 삼성 가우스, 온디바이스 작동 지원\\nn 삼성전자가 2023년 11월 8일 열린 ‘삼성 AI 포럼 2023’ 행사에서 자체 개발한 생성 AI 모델\\n‘삼성 가우스’를 최초 공개\\n∙ 정규분포 이론을 정립한 천재 수학자 가우스(Gauss)의 이름을 본뜬 삼성 가우스는 다양한 상황에\\n최적화된 크기의 모델 선택이 가능\\n∙ 삼성 가우스는 라이선스나 개인정보를 침해하지 않는 안전한 데이터를 통해 학습되었으며,\\n온디바이스에서 작동하도록 설계되어 외부로 사용자의 정보가 유출되지 않는 장점을 보유'), Document(id='6ac9fa9b-f6eb-44aa-9823-cd539361545e', metadata={'source': 'data/SPRI_AI_Brief_2023년12월호_F.pdf', 'file_path': 'data/SPRI_AI_Brief_2023년12월호_F.pdf', 'page': 12, 'total_pages': 23, 'Author': 'dj', 'Creator': 'Hwp 2018 10.0.0.13462', 'Producer': 'Hancom PDF 1.3.0.542', 'CreationDate': \"D:20231208132838+09'00'\", 'ModDate': \"D:20231208132838+09'00'\", 'PDFVersion': '1.4'}, page_content='온디바이스에서 작동하도록 설계되어 외부로 사용자의 정보가 유출되지 않는 장점을 보유\\n∙ 삼성전자는 삼성 가우스를 활용한 온디바이스 AI 기술도 소개했으며, 생성 AI 모델을 다양한 제품에\\n단계적으로 탑재할 계획\\nn 삼성 가우스는 △텍스트를 생성하는 언어모델 △코드를 생성하는 코드 모델 △이미지를 생성하는\\n이미지 모델의 3개 모델로 구성\\n∙ 언어 모델은 클라우드와 온디바이스 대상 다양한 모델로 구성되며, 메일 작성, 문서 요약, 번역 업무의\\n처리를 지원'), Document(id='b7051f97-42d5-4f66-9da7-249639b8d9cd', metadata={'source': 'data/SPRI_AI_Brief_2023년12월호_F.pdf', 'file_path': 'data/SPRI_AI_Brief_2023년12월호_F.pdf', 'page': 12, 'total_pages': 23, 'Author': 'dj', 'Creator': 'Hwp 2018 10.0.0.13462', 'Producer': 'Hancom PDF 1.3.0.542', 'CreationDate': \"D:20231208132838+09'00'\", 'ModDate': \"D:20231208132838+09'00'\", 'PDFVersion': '1.4'}, page_content='처리를 지원\\n∙ 코드 모델 기반의 AI 코딩 어시스턴트 ‘코드아이(code.i)’는 대화형 인터페이스로 서비스를 제공하며\\n사내 소프트웨어 개발에 최적화\\n∙ 이미지 모델은 창의적인 이미지를 생성하고 기존 이미지를 원하는 대로 바꿀 수 있도록 지원하며\\n저해상도 이미지의 고해상도 전환도 지원\\nn IT 전문지 테크리퍼블릭(TechRepublic)은 온디바이스 AI가 주요 기술 트렌드로 부상했다며,\\n2024년부터 가우스를 탑재한 삼성 스마트폰이 메타의 라마(Llama)2를 탑재한 퀄컴 기기 및 구글'), Document(id='340ab211-d8c8-40c4-a4b5-85321a078668', metadata={'source': 'data/SPRI_AI_Brief_2023년12월호_F.pdf', 'file_path': 'data/SPRI_AI_Brief_2023년12월호_F.pdf', 'page': 18, 'total_pages': 23, 'Author': 'dj', 'Creator': 'Hwp 2018 10.0.0.13462', 'Producer': 'Hancom PDF 1.3.0.542', 'CreationDate': \"D:20231208132838+09'00'\", 'ModDate': \"D:20231208132838+09'00'\", 'PDFVersion': '1.4'}, page_content='<구글 딥마인드의 범용 AI 분류 프레임워크>\\n성능 특수 AI 예시 범용 AI 예시\\n0단계: AI 아님 계산기 소프트웨어, 컴파일러 아마존 메커니컬 터크\\n1단계: 신진(숙련되지 않은 인간) GOFAI(Good Old Fashioned Artificial Intelligence) 챗GPT, 바드, 라마2\\n스마트 스피커(애플 시리, 아마존 알렉사, 구글\\n2단계: 유능(숙련된 인간의 50% 이상) 미달성\\n어시스턴트), IBM 왓슨\\n3단계: 전문가(숙련된 인간의 90% 이상) 문법 교정기(그래머리), 생성 이미지 모델(달리2) 미달성'), Document(id='3961e8a3-52a5-4089-a800-ea62522c9a0f', metadata={'source': 'data/SPRI_AI_Brief_2023년12월호_F.pdf', 'file_path': 'data/SPRI_AI_Brief_2023년12월호_F.pdf', 'page': 11, 'total_pages': 23, 'Author': 'dj', 'Creator': 'Hwp 2018 10.0.0.13462', 'Producer': 'Hancom PDF 1.3.0.542', 'CreationDate': \"D:20231208132838+09'00'\", 'ModDate': \"D:20231208132838+09'00'\", 'PDFVersion': '1.4'}, page_content='제작을 포함\\nn 알리바바 클라우드는 급증하는 생성 AI 수요에 대응해 모델 개발과 애플리케이션 구축 절차를\\n간소화하는 올인원 AI 모델 구축 플랫폼 ‘젠AI(GenAI)’도 공개\\n∙ 이 플랫폼은 데이터 관리, 모델 배포와 평가, 신속한 엔지니어링을 위한 종합 도구 모음을 제공하여\\n다양한 기업들이 맞춤형 AI 모델을 한층 쉽게 개발할 수 있도록 지원\\n∙ 생성 AI 개발에 필요한 컴퓨팅과 데이터 처리 요구사항을 지원하기 위해 AI 플랫폼(PAI),\\n데이터베이스 솔루션, 컨테이너 서비스와 같은 클라우드 신제품도 발표'), Document(id='8343f4be-2f05-4dec-af17-f8ae6657c39d', metadata={'source': 'data/SPRI_AI_Brief_2023년12월호_F.pdf', 'file_path': 'data/SPRI_AI_Brief_2023년12월호_F.pdf', 'page': 1, 'total_pages': 23, 'Author': 'dj', 'Creator': 'Hwp 2018 10.0.0.13462', 'Producer': 'Hancom PDF 1.3.0.542', 'CreationDate': \"D:20231208132838+09'00'\", 'ModDate': \"D:20231208132838+09'00'\", 'PDFVersion': '1.4'}, page_content='▹ 빌 게이츠, AI 에이전트로 인한 컴퓨터 사용의 패러다임 변화 전망································13\\n▹ 유튜브, 2024년부터 AI 생성 콘텐츠 표시 의무화····························································14\\n3. 기술/연구\\n▹ 영국 과학혁신기술부, AI 안전 연구소 설립 발표······························································15'), Document(id='88879b05-2345-4264-9ae9-6035f506f068', metadata={'source': 'data/SPRI_AI_Brief_2023년12월호_F.pdf', 'file_path': 'data/SPRI_AI_Brief_2023년12월호_F.pdf', 'page': 7, 'total_pages': 23, 'Author': 'dj', 'Creator': 'Hwp 2018 10.0.0.13462', 'Producer': 'Hancom PDF 1.3.0.542', 'CreationDate': \"D:20231208132838+09'00'\", 'ModDate': \"D:20231208132838+09'00'\", 'PDFVersion': '1.4'}, page_content='만들었다고 오해할 소지가 있다고 지적\\n∙ 저작권법에 저촉되는 행위는 불공정 경쟁이나 기만행위에도 해당될 수 있으며, 창작자의 평판 악화,\\n저작물의 가치 저하나 개인정보 유출로 소비자에 상당한 피해를 초래 가능\\nn FTC는 일부 빅테크가 막대한 재원을 활용해 생성 AI 사용자의 이탈을 막고 저작권이 있는 상용\\n데이터에 대한 독점 라이선스를 확보해 시장 지배력을 더욱 강화할 수 있다는 우려도 제기\\n∙ 이와 관련 FTC는 아마존 AI 비서 ‘알렉사(Alexa)’와 스마트홈 보안 기기 ‘링(Ring)’이 소비자의 사적')]}\n",
      "== for  끝 1 - 1==\n",
      "===== for 끝 1 =====\n",
      "\n",
      "==========================================================================================\n",
      "🔄 [Node] 문서 검색 결과와 질문 관련성 평가 노드 🔄\n",
      "---GRADE: DOCUMENT RELEVANT---\n",
      "---GRADE: DOCUMENT RELEVANT---\n",
      "---GRADE: DOCUMENT RELEVANT---\n",
      "---GRADE: DOCUMENT RELEVANT---\n",
      "---GRADE: DOCUMENT RELEVANT---\n",
      "---GRADE: DOCUMENT RELEVANT---\n",
      "---GRADE: DOCUMENT NOT RELEVANT---\n",
      "---GRADE: DOCUMENT NOT RELEVANT---\n",
      "---GRADE: DOCUMENT NOT RELEVANT---\n",
      "---GRADE: DOCUMENT NOT RELEVANT---\n",
      "==========================================================================================\n",
      "\n",
      "\n",
      "==========================================================================================\n",
      "🔄 [Node] 문서 관련성 평가 노드 🔄\n",
      "===== [DECISION: GENERATE] =====\n",
      "==========================================================================================\n",
      "\n",
      "===== for 시작 2 =====\n",
      "== for 시작 2 - 1 ==\n",
      "state_key : grade_documents\n",
      "state_value: \n",
      " {'documents': [Document(id='2be8b6fb-b31a-4729-b392-22770b9a366f', metadata={'source': 'data/SPRI_AI_Brief_2023년12월호_F.pdf', 'file_path': 'data/SPRI_AI_Brief_2023년12월호_F.pdf', 'page': 1, 'total_pages': 23, 'Author': 'dj', 'Creator': 'Hwp 2018 10.0.0.13462', 'Producer': 'Hancom PDF 1.3.0.542', 'CreationDate': \"D:20231208132838+09'00'\", 'ModDate': \"D:20231208132838+09'00'\", 'PDFVersion': '1.4'}, page_content='▹ 삼성전자, 자체 개발 생성 AI ‘삼성 가우스’ 공개 ···························································10\\n▹ 구글, 앤스로픽에 20억 달러 투자로 생성 AI 협력 강화 ················································11\\n▹ IDC, 2027년 AI 소프트웨어 매출 2,500억 달러 돌파 전망···········································12'), Document(id='e0c2c7c1-ce9f-4f28-9dad-049e0a0bb529', metadata={'source': 'data/SPRI_AI_Brief_2023년12월호_F.pdf', 'file_path': 'data/SPRI_AI_Brief_2023년12월호_F.pdf', 'page': 12, 'total_pages': 23, 'Author': 'dj', 'Creator': 'Hwp 2018 10.0.0.13462', 'Producer': 'Hancom PDF 1.3.0.542', 'CreationDate': \"D:20231208132838+09'00'\", 'ModDate': \"D:20231208132838+09'00'\", 'PDFVersion': '1.4'}, page_content='SPRi AI Brief |\\n2023-12월호\\n삼성전자, 자체 개발 생성 AI ‘삼성 가우스’ 공개\\nKEY Contents\\nn 삼성전자가 온디바이스에서 작동 가능하며 언어, 코드, 이미지의 3개 모델로 구성된 자체 개발 생성\\nAI 모델 ‘삼성 가우스’를 공개\\nn 삼성전자는 삼성 가우스를 다양한 제품에 단계적으로 탑재할 계획으로, 온디바이스 작동이 가능한\\n삼성 가우스는 외부로 사용자 정보가 유출될 위험이 없다는 장점을 보유\\n£언어, 코드, 이미지의 3개 모델로 구성된 삼성 가우스, 온디바이스 작동 지원'), Document(id='a75f7e74-6ff4-4c59-8b99-f2e02ce228dd', metadata={'source': 'data/SPRI_AI_Brief_2023년12월호_F.pdf', 'file_path': 'data/SPRI_AI_Brief_2023년12월호_F.pdf', 'page': 12, 'total_pages': 23, 'Author': 'dj', 'Creator': 'Hwp 2018 10.0.0.13462', 'Producer': 'Hancom PDF 1.3.0.542', 'CreationDate': \"D:20231208132838+09'00'\", 'ModDate': \"D:20231208132838+09'00'\", 'PDFVersion': '1.4'}, page_content='어시스턴트를 적용한 구글 픽셀(Pixel)과 경쟁할 것으로 예상\\n☞ 출처 : 삼성전자, ‘삼성 AI 포럼’서 자체 개발 생성형 AI ‘삼성 가우스’ 공개, 2023.11.08.\\n삼성전자, ‘삼성 개발자 콘퍼런스 코리아 2023’ 개최, 2023.11.14.\\nTechRepublic, Samsung Gauss: Samsung Research Reveals Generative AI, 2023.11.08.\\n10'), Document(id='6924b616-aa84-4b6a-a4b5-b93ad942e9ee', metadata={'source': 'data/SPRI_AI_Brief_2023년12월호_F.pdf', 'file_path': 'data/SPRI_AI_Brief_2023년12월호_F.pdf', 'page': 12, 'total_pages': 23, 'Author': 'dj', 'Creator': 'Hwp 2018 10.0.0.13462', 'Producer': 'Hancom PDF 1.3.0.542', 'CreationDate': \"D:20231208132838+09'00'\", 'ModDate': \"D:20231208132838+09'00'\", 'PDFVersion': '1.4'}, page_content='£언어, 코드, 이미지의 3개 모델로 구성된 삼성 가우스, 온디바이스 작동 지원\\nn 삼성전자가 2023년 11월 8일 열린 ‘삼성 AI 포럼 2023’ 행사에서 자체 개발한 생성 AI 모델\\n‘삼성 가우스’를 최초 공개\\n∙ 정규분포 이론을 정립한 천재 수학자 가우스(Gauss)의 이름을 본뜬 삼성 가우스는 다양한 상황에\\n최적화된 크기의 모델 선택이 가능\\n∙ 삼성 가우스는 라이선스나 개인정보를 침해하지 않는 안전한 데이터를 통해 학습되었으며,\\n온디바이스에서 작동하도록 설계되어 외부로 사용자의 정보가 유출되지 않는 장점을 보유'), Document(id='6ac9fa9b-f6eb-44aa-9823-cd539361545e', metadata={'source': 'data/SPRI_AI_Brief_2023년12월호_F.pdf', 'file_path': 'data/SPRI_AI_Brief_2023년12월호_F.pdf', 'page': 12, 'total_pages': 23, 'Author': 'dj', 'Creator': 'Hwp 2018 10.0.0.13462', 'Producer': 'Hancom PDF 1.3.0.542', 'CreationDate': \"D:20231208132838+09'00'\", 'ModDate': \"D:20231208132838+09'00'\", 'PDFVersion': '1.4'}, page_content='온디바이스에서 작동하도록 설계되어 외부로 사용자의 정보가 유출되지 않는 장점을 보유\\n∙ 삼성전자는 삼성 가우스를 활용한 온디바이스 AI 기술도 소개했으며, 생성 AI 모델을 다양한 제품에\\n단계적으로 탑재할 계획\\nn 삼성 가우스는 △텍스트를 생성하는 언어모델 △코드를 생성하는 코드 모델 △이미지를 생성하는\\n이미지 모델의 3개 모델로 구성\\n∙ 언어 모델은 클라우드와 온디바이스 대상 다양한 모델로 구성되며, 메일 작성, 문서 요약, 번역 업무의\\n처리를 지원'), Document(id='b7051f97-42d5-4f66-9da7-249639b8d9cd', metadata={'source': 'data/SPRI_AI_Brief_2023년12월호_F.pdf', 'file_path': 'data/SPRI_AI_Brief_2023년12월호_F.pdf', 'page': 12, 'total_pages': 23, 'Author': 'dj', 'Creator': 'Hwp 2018 10.0.0.13462', 'Producer': 'Hancom PDF 1.3.0.542', 'CreationDate': \"D:20231208132838+09'00'\", 'ModDate': \"D:20231208132838+09'00'\", 'PDFVersion': '1.4'}, page_content='처리를 지원\\n∙ 코드 모델 기반의 AI 코딩 어시스턴트 ‘코드아이(code.i)’는 대화형 인터페이스로 서비스를 제공하며\\n사내 소프트웨어 개발에 최적화\\n∙ 이미지 모델은 창의적인 이미지를 생성하고 기존 이미지를 원하는 대로 바꿀 수 있도록 지원하며\\n저해상도 이미지의 고해상도 전환도 지원\\nn IT 전문지 테크리퍼블릭(TechRepublic)은 온디바이스 AI가 주요 기술 트렌드로 부상했다며,\\n2024년부터 가우스를 탑재한 삼성 스마트폰이 메타의 라마(Llama)2를 탑재한 퀄컴 기기 및 구글')]}\n",
      "== for  끝 2 - 1==\n",
      "===== for 끝 2 =====\n",
      "\n",
      "==========================================================================================\n",
      "🔄 [Node] 답변 생성 노드 🔄\n",
      "-------------------\n",
      "(1) 사용자 질문: 삼성전자가 만든 생성형 AI\n",
      "(2) 문서 검색 결과:\n",
      "[Document(id='2be8b6fb-b31a-4729-b392-22770b9a366f', metadata={'source': 'data/SPRI_AI_Brief_2023년12월호_F.pdf', 'file_path': 'data/SPRI_AI_Brief_2023년12월호_F.pdf', 'page': 1, 'total_pages': 23, 'Author': 'dj', 'Creator': 'Hwp 2018 10.0.0.13462', 'Producer': 'Hancom PDF 1.3.0.542', 'CreationDate': \"D:20231208132838+09'00'\", 'ModDate': \"D:20231208132838+09'00'\", 'PDFVersion': '1.4'}, page_content='▹ 삼성전자, 자체 개발 생성 AI ‘삼성 가우스’ 공개 ···························································10\\n▹ 구글, 앤스로픽에 20억 달러 투자로 생성 AI 협력 강화 ················································11\\n▹ IDC, 2027년 AI 소프트웨어 매출 2,500억 달러 돌파 전망···········································12'), Document(id='e0c2c7c1-ce9f-4f28-9dad-049e0a0bb529', metadata={'source': 'data/SPRI_AI_Brief_2023년12월호_F.pdf', 'file_path': 'data/SPRI_AI_Brief_2023년12월호_F.pdf', 'page': 12, 'total_pages': 23, 'Author': 'dj', 'Creator': 'Hwp 2018 10.0.0.13462', 'Producer': 'Hancom PDF 1.3.0.542', 'CreationDate': \"D:20231208132838+09'00'\", 'ModDate': \"D:20231208132838+09'00'\", 'PDFVersion': '1.4'}, page_content='SPRi AI Brief |\\n2023-12월호\\n삼성전자, 자체 개발 생성 AI ‘삼성 가우스’ 공개\\nKEY Contents\\nn 삼성전자가 온디바이스에서 작동 가능하며 언어, 코드, 이미지의 3개 모델로 구성된 자체 개발 생성\\nAI 모델 ‘삼성 가우스’를 공개\\nn 삼성전자는 삼성 가우스를 다양한 제품에 단계적으로 탑재할 계획으로, 온디바이스 작동이 가능한\\n삼성 가우스는 외부로 사용자 정보가 유출될 위험이 없다는 장점을 보유\\n£언어, 코드, 이미지의 3개 모델로 구성된 삼성 가우스, 온디바이스 작동 지원'), Document(id='a75f7e74-6ff4-4c59-8b99-f2e02ce228dd', metadata={'source': 'data/SPRI_AI_Brief_2023년12월호_F.pdf', 'file_path': 'data/SPRI_AI_Brief_2023년12월호_F.pdf', 'page': 12, 'total_pages': 23, 'Author': 'dj', 'Creator': 'Hwp 2018 10.0.0.13462', 'Producer': 'Hancom PDF 1.3.0.542', 'CreationDate': \"D:20231208132838+09'00'\", 'ModDate': \"D:20231208132838+09'00'\", 'PDFVersion': '1.4'}, page_content='어시스턴트를 적용한 구글 픽셀(Pixel)과 경쟁할 것으로 예상\\n☞ 출처 : 삼성전자, ‘삼성 AI 포럼’서 자체 개발 생성형 AI ‘삼성 가우스’ 공개, 2023.11.08.\\n삼성전자, ‘삼성 개발자 콘퍼런스 코리아 2023’ 개최, 2023.11.14.\\nTechRepublic, Samsung Gauss: Samsung Research Reveals Generative AI, 2023.11.08.\\n10'), Document(id='6924b616-aa84-4b6a-a4b5-b93ad942e9ee', metadata={'source': 'data/SPRI_AI_Brief_2023년12월호_F.pdf', 'file_path': 'data/SPRI_AI_Brief_2023년12월호_F.pdf', 'page': 12, 'total_pages': 23, 'Author': 'dj', 'Creator': 'Hwp 2018 10.0.0.13462', 'Producer': 'Hancom PDF 1.3.0.542', 'CreationDate': \"D:20231208132838+09'00'\", 'ModDate': \"D:20231208132838+09'00'\", 'PDFVersion': '1.4'}, page_content='£언어, 코드, 이미지의 3개 모델로 구성된 삼성 가우스, 온디바이스 작동 지원\\nn 삼성전자가 2023년 11월 8일 열린 ‘삼성 AI 포럼 2023’ 행사에서 자체 개발한 생성 AI 모델\\n‘삼성 가우스’를 최초 공개\\n∙ 정규분포 이론을 정립한 천재 수학자 가우스(Gauss)의 이름을 본뜬 삼성 가우스는 다양한 상황에\\n최적화된 크기의 모델 선택이 가능\\n∙ 삼성 가우스는 라이선스나 개인정보를 침해하지 않는 안전한 데이터를 통해 학습되었으며,\\n온디바이스에서 작동하도록 설계되어 외부로 사용자의 정보가 유출되지 않는 장점을 보유'), Document(id='6ac9fa9b-f6eb-44aa-9823-cd539361545e', metadata={'source': 'data/SPRI_AI_Brief_2023년12월호_F.pdf', 'file_path': 'data/SPRI_AI_Brief_2023년12월호_F.pdf', 'page': 12, 'total_pages': 23, 'Author': 'dj', 'Creator': 'Hwp 2018 10.0.0.13462', 'Producer': 'Hancom PDF 1.3.0.542', 'CreationDate': \"D:20231208132838+09'00'\", 'ModDate': \"D:20231208132838+09'00'\", 'PDFVersion': '1.4'}, page_content='온디바이스에서 작동하도록 설계되어 외부로 사용자의 정보가 유출되지 않는 장점을 보유\\n∙ 삼성전자는 삼성 가우스를 활용한 온디바이스 AI 기술도 소개했으며, 생성 AI 모델을 다양한 제품에\\n단계적으로 탑재할 계획\\nn 삼성 가우스는 △텍스트를 생성하는 언어모델 △코드를 생성하는 코드 모델 △이미지를 생성하는\\n이미지 모델의 3개 모델로 구성\\n∙ 언어 모델은 클라우드와 온디바이스 대상 다양한 모델로 구성되며, 메일 작성, 문서 요약, 번역 업무의\\n처리를 지원'), Document(id='b7051f97-42d5-4f66-9da7-249639b8d9cd', metadata={'source': 'data/SPRI_AI_Brief_2023년12월호_F.pdf', 'file_path': 'data/SPRI_AI_Brief_2023년12월호_F.pdf', 'page': 12, 'total_pages': 23, 'Author': 'dj', 'Creator': 'Hwp 2018 10.0.0.13462', 'Producer': 'Hancom PDF 1.3.0.542', 'CreationDate': \"D:20231208132838+09'00'\", 'ModDate': \"D:20231208132838+09'00'\", 'PDFVersion': '1.4'}, page_content='처리를 지원\\n∙ 코드 모델 기반의 AI 코딩 어시스턴트 ‘코드아이(code.i)’는 대화형 인터페이스로 서비스를 제공하며\\n사내 소프트웨어 개발에 최적화\\n∙ 이미지 모델은 창의적인 이미지를 생성하고 기존 이미지를 원하는 대로 바꿀 수 있도록 지원하며\\n저해상도 이미지의 고해상도 전환도 지원\\nn IT 전문지 테크리퍼블릭(TechRepublic)은 온디바이스 AI가 주요 기술 트렌드로 부상했다며,\\n2024년부터 가우스를 탑재한 삼성 스마트폰이 메타의 라마(Llama)2를 탑재한 퀄컴 기기 및 구글')]\n",
      "\n",
      "(3) rag 실행 결과:\n",
      "삼성전자가 공개한 생성 AI 모델 ‘삼성 가우스’는 언어, 코드, 이미지의 3개 모델로 구성되어 있으며, 온디바이스에서 작동하도록 설계되어 사용자 정보 유출 위험이 없다. 이 모델은 다양한 제품에 단계적으로 탑재될 계획이다.\n",
      "\n",
      "**Source**\n",
      "- data/SPRI_AI_Brief_2023년12월호_F.pdf (page 12)\n",
      "-------------------\n",
      "\n",
      "==========================================================================================\n",
      "\n",
      "\n",
      "==========================================================================================\n",
      "🔄 [Node] hallucination 평가 노드 🔄\n",
      "===== [평가 결과] =====\n",
      "yes\n",
      "===== [DECISION: GENERATION IS GROUNDED IN DOCUMENTS] =====\n",
      "no hallucination\n",
      "===== [GRADE GENERATED ANSWER vs QUESTION] =====\n",
      "==== [DECISION: GENERATED ANSWER ADDRESSES QUESTION] ====\n",
      "relevant\n",
      "==========================================================================================\n",
      "\n",
      "===== for 시작 3 =====\n",
      "== for 시작 3 - 1 ==\n",
      "state_key : generate\n",
      "state_value: \n",
      " {'generation': '삼성전자가 공개한 생성 AI 모델 ‘삼성 가우스’는 언어, 코드, 이미지의 3개 모델로 구성되어 있으며, 온디바이스에서 작동하도록 설계되어 사용자 정보 유출 위험이 없다. 이 모델은 다양한 제품에 단계적으로 탑재될 계획이다.\\n\\n**Source**\\n- data/SPRI_AI_Brief_2023년12월호_F.pdf (page 12)'}\n",
      "== for  끝 3 - 1==\n",
      "===== for 끝 3 =====\n"
     ]
    }
   ],
   "source": [
    "config = RunnableConfig(                        # config 설정\n",
    "    recursion_limit=20,                         # 최대 20개의 노드까지 방문.\n",
    "    configurable={'thread_id': random_uuid()}   # thread_id 설정\n",
    ")\n",
    "\n",
    "inputs = GraphState(question='삼성전자가 만든 생성형 AI')\n",
    "\n",
    "\n",
    "i = 1\n",
    "\n",
    "for chunk in app.stream(inputs, config=config, stream_mode=\"updates\"):\n",
    "    print(f\"===== for 시작 {i} =====\")\n",
    "\n",
    "    j = 1\n",
    "\n",
    "    # chunk 는 dictionary 형태(key: State 의 key, value: State 의 value)\n",
    "    for state_key, state_value in chunk.items():\n",
    "        print(f\"== for 시작 {i} - {j} ==\")\n",
    "        print(f\"state_key : {state_key }\")\n",
    "        print(f\"state_value: \\n {state_value}\")\n",
    "        print(f\"== for  끝 {i} - {j}==\")\n",
    "\n",
    "        j=j+1\n",
    "    \n",
    "    print(f\"===== for 끝 {i} =====\")\n",
    "    i=i+1"
   ]
  }
 ],
 "metadata": {
  "kernelspec": {
   "display_name": "venv",
   "language": "python",
   "name": "python3"
  },
  "language_info": {
   "codemirror_mode": {
    "name": "ipython",
    "version": 3
   },
   "file_extension": ".py",
   "mimetype": "text/x-python",
   "name": "python",
   "nbconvert_exporter": "python",
   "pygments_lexer": "ipython3",
   "version": "3.11.9"
  }
 },
 "nbformat": 4,
 "nbformat_minor": 2
}
