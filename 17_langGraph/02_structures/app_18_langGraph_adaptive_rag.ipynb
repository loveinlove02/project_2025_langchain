{
 "cells": [
  {
   "cell_type": "code",
   "execution_count": 46,
   "metadata": {},
   "outputs": [],
   "source": [
    "from dotenv import load_dotenv\n",
    "import os\n",
    "\n",
    "load_dotenv(verbose=True)\n",
    "key = os.getenv('OPENAI_API_KEY')"
   ]
  },
  {
   "cell_type": "code",
   "execution_count": 47,
   "metadata": {},
   "outputs": [],
   "source": [
    "from langchain_openai import ChatOpenAI\n",
    "from langchain_core.prompts import ChatPromptTemplate\n",
    "from langchain_core.output_parsers import StrOutputParser\n",
    "\n",
    "from rag.pdf import PDFRetrievalChain\n",
    "from langchain_teddynote.tools.tavily import TavilySearch\n",
    "\n",
    "from typing import List, Literal\n",
    "from typing_extensions import TypedDict, Annotated\n",
    "from pydantic import BaseModel, Field\n",
    "from langchain_core.documents import Document"
   ]
  },
  {
   "cell_type": "code",
   "execution_count": 48,
   "metadata": {},
   "outputs": [],
   "source": [
    "class GraphState(TypedDict):\n",
    "    \"\"\"\n",
    "    그래프의 상태를 나타내는 데이터 모델\n",
    "\n",
    "    Attributes:\n",
    "        question: 질문\n",
    "        generation: LLM 생성된 답변\n",
    "        documents: 도큐먼트 리스트\n",
    "    \"\"\"\n",
    "\n",
    "    question: Annotated[str, \"User question\"]\n",
    "    generation: Annotated[str, \"LLM generated answer\"]\n",
    "    documents: Annotated[List[str], \"List of documents\"]"
   ]
  },
  {
   "cell_type": "code",
   "execution_count": 49,
   "metadata": {},
   "outputs": [],
   "source": [
    "state = GraphState(\n",
    "    question='삼성전자가 만든 생성형 AI 이름은?',\n",
    "    generation = '', \n",
    "    documents = []\n",
    ")"
   ]
  },
  {
   "cell_type": "markdown",
   "metadata": {},
   "source": [
    "### PDF 기반 문서 검색기 (Retrieval chain) 생성"
   ]
  },
  {
   "cell_type": "code",
   "execution_count": 50,
   "metadata": {},
   "outputs": [],
   "source": [
    "from rag.pdf import PDFRetrievalChain\n",
    "\n",
    "# PDF 문서를 로드\n",
    "pdf = PDFRetrievalChain(['data/SPRI_AI_Brief_2023년12월호_F.pdf']).create_chain()\n",
    "\n",
    "pdf_retriever = pdf.retriever       # retriever 생성\n",
    "pdf_chain = pdf.chain               # pdf retriever chain 생성"
   ]
  },
  {
   "cell_type": "markdown",
   "metadata": {},
   "source": [
    "### PDF 기반 문서 검색기 (Retrieval chain) : 사용자 질문에 대한 PDF 문서를 검색"
   ]
  },
  {
   "cell_type": "code",
   "execution_count": 51,
   "metadata": {},
   "outputs": [],
   "source": [
    "# 문서 검색 노드\n",
    "def retrieve(state: GraphState):\n",
    "    \n",
    "    question = state['question']                    # 사용자 질문\n",
    "    \n",
    "    documents = pdf_retriever.invoke(question)      # 문서 검색 (pdf_retriever 에 사용자 입력을 인자로 넣어서 문서를 검색)\n",
    "    \n",
    "    return {'documents': documents}"
   ]
  },
  {
   "cell_type": "code",
   "execution_count": 52,
   "metadata": {},
   "outputs": [],
   "source": [
    "answer = retrieve(state)"
   ]
  },
  {
   "cell_type": "code",
   "execution_count": 53,
   "metadata": {},
   "outputs": [],
   "source": [
    "state['documents'] = answer['documents']"
   ]
  },
  {
   "cell_type": "code",
   "execution_count": 54,
   "metadata": {},
   "outputs": [
    {
     "data": {
      "text/plain": [
       "{'question': '삼성전자가 만든 생성형 AI 이름은?',\n",
       " 'generation': '',\n",
       " 'documents': [Document(id='4b593f8a-46a7-4bc0-a210-cc18bd0c1270', metadata={'source': 'data/SPRI_AI_Brief_2023년12월호_F.pdf', 'file_path': 'data/SPRI_AI_Brief_2023년12월호_F.pdf', 'page': 1, 'total_pages': 23, 'Author': 'dj', 'Creator': 'Hwp 2018 10.0.0.13462', 'Producer': 'Hancom PDF 1.3.0.542', 'CreationDate': \"D:20231208132838+09'00'\", 'ModDate': \"D:20231208132838+09'00'\", 'PDFVersion': '1.4'}, page_content='▹ 삼성전자, 자체 개발 생성 AI ‘삼성 가우스’ 공개 ···························································10\\n▹ 구글, 앤스로픽에 20억 달러 투자로 생성 AI 협력 강화 ················································11\\n▹ IDC, 2027년 AI 소프트웨어 매출 2,500억 달러 돌파 전망···········································12'),\n",
       "  Document(id='db624ef3-ca1d-43b8-be26-01d725200ff3', metadata={'source': 'data/SPRI_AI_Brief_2023년12월호_F.pdf', 'file_path': 'data/SPRI_AI_Brief_2023년12월호_F.pdf', 'page': 12, 'total_pages': 23, 'Author': 'dj', 'Creator': 'Hwp 2018 10.0.0.13462', 'Producer': 'Hancom PDF 1.3.0.542', 'CreationDate': \"D:20231208132838+09'00'\", 'ModDate': \"D:20231208132838+09'00'\", 'PDFVersion': '1.4'}, page_content='SPRi AI Brief |\\n2023-12월호\\n삼성전자, 자체 개발 생성 AI ‘삼성 가우스’ 공개\\nKEY Contents\\nn 삼성전자가 온디바이스에서 작동 가능하며 언어, 코드, 이미지의 3개 모델로 구성된 자체 개발 생성\\nAI 모델 ‘삼성 가우스’를 공개\\nn 삼성전자는 삼성 가우스를 다양한 제품에 단계적으로 탑재할 계획으로, 온디바이스 작동이 가능한\\n삼성 가우스는 외부로 사용자 정보가 유출될 위험이 없다는 장점을 보유\\n£언어, 코드, 이미지의 3개 모델로 구성된 삼성 가우스, 온디바이스 작동 지원'),\n",
       "  Document(id='5c2a4f06-7a5e-4038-96b6-0ca21f8db105', metadata={'source': 'data/SPRI_AI_Brief_2023년12월호_F.pdf', 'file_path': 'data/SPRI_AI_Brief_2023년12월호_F.pdf', 'page': 12, 'total_pages': 23, 'Author': 'dj', 'Creator': 'Hwp 2018 10.0.0.13462', 'Producer': 'Hancom PDF 1.3.0.542', 'CreationDate': \"D:20231208132838+09'00'\", 'ModDate': \"D:20231208132838+09'00'\", 'PDFVersion': '1.4'}, page_content='£언어, 코드, 이미지의 3개 모델로 구성된 삼성 가우스, 온디바이스 작동 지원\\nn 삼성전자가 2023년 11월 8일 열린 ‘삼성 AI 포럼 2023’ 행사에서 자체 개발한 생성 AI 모델\\n‘삼성 가우스’를 최초 공개\\n∙ 정규분포 이론을 정립한 천재 수학자 가우스(Gauss)의 이름을 본뜬 삼성 가우스는 다양한 상황에\\n최적화된 크기의 모델 선택이 가능\\n∙ 삼성 가우스는 라이선스나 개인정보를 침해하지 않는 안전한 데이터를 통해 학습되었으며,\\n온디바이스에서 작동하도록 설계되어 외부로 사용자의 정보가 유출되지 않는 장점을 보유'),\n",
       "  Document(id='b5403b84-ed04-4ff2-a0d0-c208265a40bf', metadata={'source': 'data/SPRI_AI_Brief_2023년12월호_F.pdf', 'file_path': 'data/SPRI_AI_Brief_2023년12월호_F.pdf', 'page': 12, 'total_pages': 23, 'Author': 'dj', 'Creator': 'Hwp 2018 10.0.0.13462', 'Producer': 'Hancom PDF 1.3.0.542', 'CreationDate': \"D:20231208132838+09'00'\", 'ModDate': \"D:20231208132838+09'00'\", 'PDFVersion': '1.4'}, page_content='어시스턴트를 적용한 구글 픽셀(Pixel)과 경쟁할 것으로 예상\\n☞ 출처 : 삼성전자, ‘삼성 AI 포럼’서 자체 개발 생성형 AI ‘삼성 가우스’ 공개, 2023.11.08.\\n삼성전자, ‘삼성 개발자 콘퍼런스 코리아 2023’ 개최, 2023.11.14.\\nTechRepublic, Samsung Gauss: Samsung Research Reveals Generative AI, 2023.11.08.\\n10'),\n",
       "  Document(id='3919cc35-38ff-437b-a887-95b14a57c60e', metadata={'source': 'data/SPRI_AI_Brief_2023년12월호_F.pdf', 'file_path': 'data/SPRI_AI_Brief_2023년12월호_F.pdf', 'page': 18, 'total_pages': 23, 'Author': 'dj', 'Creator': 'Hwp 2018 10.0.0.13462', 'Producer': 'Hancom PDF 1.3.0.542', 'CreationDate': \"D:20231208132838+09'00'\", 'ModDate': \"D:20231208132838+09'00'\", 'PDFVersion': '1.4'}, page_content='<구글 딥마인드의 범용 AI 분류 프레임워크>\\n성능 특수 AI 예시 범용 AI 예시\\n0단계: AI 아님 계산기 소프트웨어, 컴파일러 아마존 메커니컬 터크\\n1단계: 신진(숙련되지 않은 인간) GOFAI(Good Old Fashioned Artificial Intelligence) 챗GPT, 바드, 라마2\\n스마트 스피커(애플 시리, 아마존 알렉사, 구글\\n2단계: 유능(숙련된 인간의 50% 이상) 미달성\\n어시스턴트), IBM 왓슨\\n3단계: 전문가(숙련된 인간의 90% 이상) 문법 교정기(그래머리), 생성 이미지 모델(달리2) 미달성'),\n",
       "  Document(id='530f6e1a-6b7c-4360-add0-e35f4779d513', metadata={'source': 'data/SPRI_AI_Brief_2023년12월호_F.pdf', 'file_path': 'data/SPRI_AI_Brief_2023년12월호_F.pdf', 'page': 12, 'total_pages': 23, 'Author': 'dj', 'Creator': 'Hwp 2018 10.0.0.13462', 'Producer': 'Hancom PDF 1.3.0.542', 'CreationDate': \"D:20231208132838+09'00'\", 'ModDate': \"D:20231208132838+09'00'\", 'PDFVersion': '1.4'}, page_content='처리를 지원\\n∙ 코드 모델 기반의 AI 코딩 어시스턴트 ‘코드아이(code.i)’는 대화형 인터페이스로 서비스를 제공하며\\n사내 소프트웨어 개발에 최적화\\n∙ 이미지 모델은 창의적인 이미지를 생성하고 기존 이미지를 원하는 대로 바꿀 수 있도록 지원하며\\n저해상도 이미지의 고해상도 전환도 지원\\nn IT 전문지 테크리퍼블릭(TechRepublic)은 온디바이스 AI가 주요 기술 트렌드로 부상했다며,\\n2024년부터 가우스를 탑재한 삼성 스마트폰이 메타의 라마(Llama)2를 탑재한 퀄컴 기기 및 구글'),\n",
       "  Document(id='4ea9697a-f8f9-47c6-a186-e13430dbf95a', metadata={'source': 'data/SPRI_AI_Brief_2023년12월호_F.pdf', 'file_path': 'data/SPRI_AI_Brief_2023년12월호_F.pdf', 'page': 12, 'total_pages': 23, 'Author': 'dj', 'Creator': 'Hwp 2018 10.0.0.13462', 'Producer': 'Hancom PDF 1.3.0.542', 'CreationDate': \"D:20231208132838+09'00'\", 'ModDate': \"D:20231208132838+09'00'\", 'PDFVersion': '1.4'}, page_content='온디바이스에서 작동하도록 설계되어 외부로 사용자의 정보가 유출되지 않는 장점을 보유\\n∙ 삼성전자는 삼성 가우스를 활용한 온디바이스 AI 기술도 소개했으며, 생성 AI 모델을 다양한 제품에\\n단계적으로 탑재할 계획\\nn 삼성 가우스는 △텍스트를 생성하는 언어모델 △코드를 생성하는 코드 모델 △이미지를 생성하는\\n이미지 모델의 3개 모델로 구성\\n∙ 언어 모델은 클라우드와 온디바이스 대상 다양한 모델로 구성되며, 메일 작성, 문서 요약, 번역 업무의\\n처리를 지원'),\n",
       "  Document(id='334653c8-8430-47a7-94e9-e974d3dc8e59', metadata={'source': 'data/SPRI_AI_Brief_2023년12월호_F.pdf', 'file_path': 'data/SPRI_AI_Brief_2023년12월호_F.pdf', 'page': 11, 'total_pages': 23, 'Author': 'dj', 'Creator': 'Hwp 2018 10.0.0.13462', 'Producer': 'Hancom PDF 1.3.0.542', 'CreationDate': \"D:20231208132838+09'00'\", 'ModDate': \"D:20231208132838+09'00'\", 'PDFVersion': '1.4'}, page_content='제작을 포함\\nn 알리바바 클라우드는 급증하는 생성 AI 수요에 대응해 모델 개발과 애플리케이션 구축 절차를\\n간소화하는 올인원 AI 모델 구축 플랫폼 ‘젠AI(GenAI)’도 공개\\n∙ 이 플랫폼은 데이터 관리, 모델 배포와 평가, 신속한 엔지니어링을 위한 종합 도구 모음을 제공하여\\n다양한 기업들이 맞춤형 AI 모델을 한층 쉽게 개발할 수 있도록 지원\\n∙ 생성 AI 개발에 필요한 컴퓨팅과 데이터 처리 요구사항을 지원하기 위해 AI 플랫폼(PAI),\\n데이터베이스 솔루션, 컨테이너 서비스와 같은 클라우드 신제품도 발표'),\n",
       "  Document(id='b0574e4f-e0b4-409b-8408-0121d03379b2', metadata={'source': 'data/SPRI_AI_Brief_2023년12월호_F.pdf', 'file_path': 'data/SPRI_AI_Brief_2023년12월호_F.pdf', 'page': 1, 'total_pages': 23, 'Author': 'dj', 'Creator': 'Hwp 2018 10.0.0.13462', 'Producer': 'Hancom PDF 1.3.0.542', 'CreationDate': \"D:20231208132838+09'00'\", 'ModDate': \"D:20231208132838+09'00'\", 'PDFVersion': '1.4'}, page_content='▹ 빌 게이츠, AI 에이전트로 인한 컴퓨터 사용의 패러다임 변화 전망································13\\n▹ 유튜브, 2024년부터 AI 생성 콘텐츠 표시 의무화····························································14\\n3. 기술/연구\\n▹ 영국 과학혁신기술부, AI 안전 연구소 설립 발표······························································15'),\n",
       "  Document(id='7010d9a9-ca5a-401b-9f49-bc5998b1d355', metadata={'source': 'data/SPRI_AI_Brief_2023년12월호_F.pdf', 'file_path': 'data/SPRI_AI_Brief_2023년12월호_F.pdf', 'page': 7, 'total_pages': 23, 'Author': 'dj', 'Creator': 'Hwp 2018 10.0.0.13462', 'Producer': 'Hancom PDF 1.3.0.542', 'CreationDate': \"D:20231208132838+09'00'\", 'ModDate': \"D:20231208132838+09'00'\", 'PDFVersion': '1.4'}, page_content='만들었다고 오해할 소지가 있다고 지적\\n∙ 저작권법에 저촉되는 행위는 불공정 경쟁이나 기만행위에도 해당될 수 있으며, 창작자의 평판 악화,\\n저작물의 가치 저하나 개인정보 유출로 소비자에 상당한 피해를 초래 가능\\nn FTC는 일부 빅테크가 막대한 재원을 활용해 생성 AI 사용자의 이탈을 막고 저작권이 있는 상용\\n데이터에 대한 독점 라이선스를 확보해 시장 지배력을 더욱 강화할 수 있다는 우려도 제기\\n∙ 이와 관련 FTC는 아마존 AI 비서 ‘알렉사(Alexa)’와 스마트홈 보안 기기 ‘링(Ring)’이 소비자의 사적')]}"
      ]
     },
     "execution_count": 54,
     "metadata": {},
     "output_type": "execute_result"
    }
   ],
   "source": [
    "state"
   ]
  },
  {
   "cell_type": "markdown",
   "metadata": {},
   "source": [
    "### 답변 생성을 위한 RAG 체인"
   ]
  },
  {
   "cell_type": "code",
   "execution_count": 55,
   "metadata": {},
   "outputs": [],
   "source": [
    "from langchain_core.output_parsers import StrOutputParser\n",
    "from langchain_openai import ChatOpenAI\n",
    "from langchain import hub\n",
    "\n",
    "# prompt = hub.pull(\"teddynote/rag-prompt\")\n",
    "\n",
    "template = \"\"\"You are an AI assistant specializing in Question-Answering (QA) tasks within a Retrieval-Augmented Generation (RAG) system. \n",
    "Your primary mission is to answer questions based on provided context or chat history.\n",
    "Ensure your response is concise and directly addresses the question without any additional narration.\n",
    "\n",
    "###\n",
    "\n",
    "Your final answer should be written concisely (but include important numerical values, technical terms, jargon, and names), followed by the source of the information.\n",
    "\n",
    "# Steps\n",
    "\n",
    "1. Carefully read and understand the context provided.\n",
    "2. Identify the key information related to the question within the context.\n",
    "3. Formulate a concise answer based on the relevant information.\n",
    "4. Ensure your final answer directly addresses the question.\n",
    "5. List the source of the answer in bullet points, which must be a file name (with a page number) or URL from the context. Omit if the source cannot be found.\n",
    "\n",
    "# Output Format:\n",
    "[Your final answer here, with numerical values, technical terms, jargon, and names in their original language]\n",
    "\n",
    "**Source**(Optional)\n",
    "- (Source of the answer, must be a file name(with a page number) or URL from the context. Omit if you can't find the source of the answer.)\n",
    "- (list more if there are multiple sources)\n",
    "- ...\n",
    "\n",
    "###\n",
    "\n",
    "Remember:\n",
    "- It's crucial to base your answer solely on the **PROVIDED CONTEXT**. \n",
    "- DO NOT use any external knowledge or information not present in the given materials.\n",
    "- If you can't find the source of the answer, you should answer that you don't know.\n",
    "\n",
    "###\n",
    "\n",
    "# Here is the user's QUESTION that you should answer:\n",
    "{question}\n",
    "\n",
    "# Here is the CONTEXT that you should use to answer the question:\n",
    "{context}\n",
    "\n",
    "# Your final ANSWER to the user's QUESTION:\"\"\"\n",
    "\n",
    "prompt = ChatPromptTemplate.from_template(template)\n",
    "\n",
    "llm = ChatOpenAI(\n",
    "    api_key=key, \n",
    "    model='gpt-4o-mini', \n",
    "    temperature=0\n",
    ")\n",
    "\n",
    "def format_docs(docs):\n",
    "    return \"\\n\\n\".join(\n",
    "        [\n",
    "            f'<document><content>{doc.page_content}</content><source>{doc.metadata[\"source\"]}</source><page>{doc.metadata[\"page\"]+1}</page></document>'\n",
    "            for doc in docs\n",
    "        ]\n",
    "    )\n",
    "\n",
    "output_parser = StrOutputParser()\n",
    "\n",
    "# RAG 체인 생성 (pdf_retriever 문서 검색기를 사용해서 얻은 문서와 사용자 질문을 넣어서 결과)\n",
    "rag_chain = prompt | llm | output_parser"
   ]
  },
  {
   "cell_type": "code",
   "execution_count": 56,
   "metadata": {},
   "outputs": [
    {
     "name": "stdout",
     "output_type": "stream",
     "text": [
      "question: 삼성전자가 만든 생성형 AI 이름은?\n",
      "format_docs(docs): <document><content>▹ 삼성전자, 자체 개발 생성 AI ‘삼성 가우스’ 공개 ···························································10\n",
      "▹ 구글, 앤스로픽에 20억 달러 투자로 생성 AI 협력 강화 ················································11\n",
      "▹ IDC, 2027년 AI 소프트웨어 매출 2,500억 달러 돌파 전망···········································12</content><source>data/SPRI_AI_Brief_2023년12월호_F.pdf</source><page>2</page></document>\n",
      "\n",
      "<document><content>SPRi AI Brief |\n",
      "2023-12월호\n",
      "삼성전자, 자체 개발 생성 AI ‘삼성 가우스’ 공개\n",
      "KEY Contents\n",
      "n 삼성전자가 온디바이스에서 작동 가능하며 언어, 코드, 이미지의 3개 모델로 구성된 자체 개발 생성\n",
      "AI 모델 ‘삼성 가우스’를 공개\n",
      "n 삼성전자는 삼성 가우스를 다양한 제품에 단계적으로 탑재할 계획으로, 온디바이스 작동이 가능한\n",
      "삼성 가우스는 외부로 사용자 정보가 유출될 위험이 없다는 장점을 보유\n",
      "£언어, 코드, 이미지의 3개 모델로 구성된 삼성 가우스, 온디바이스 작동 지원</content><source>data/SPRI_AI_Brief_2023년12월호_F.pdf</source><page>13</page></document>\n",
      "\n",
      "<document><content>£언어, 코드, 이미지의 3개 모델로 구성된 삼성 가우스, 온디바이스 작동 지원\n",
      "n 삼성전자가 2023년 11월 8일 열린 ‘삼성 AI 포럼 2023’ 행사에서 자체 개발한 생성 AI 모델\n",
      "‘삼성 가우스’를 최초 공개\n",
      "∙ 정규분포 이론을 정립한 천재 수학자 가우스(Gauss)의 이름을 본뜬 삼성 가우스는 다양한 상황에\n",
      "최적화된 크기의 모델 선택이 가능\n",
      "∙ 삼성 가우스는 라이선스나 개인정보를 침해하지 않는 안전한 데이터를 통해 학습되었으며,\n",
      "온디바이스에서 작동하도록 설계되어 외부로 사용자의 정보가 유출되지 않는 장점을 보유</content><source>data/SPRI_AI_Brief_2023년12월호_F.pdf</source><page>13</page></document>\n",
      "\n",
      "<document><content>어시스턴트를 적용한 구글 픽셀(Pixel)과 경쟁할 것으로 예상\n",
      "☞ 출처 : 삼성전자, ‘삼성 AI 포럼’서 자체 개발 생성형 AI ‘삼성 가우스’ 공개, 2023.11.08.\n",
      "삼성전자, ‘삼성 개발자 콘퍼런스 코리아 2023’ 개최, 2023.11.14.\n",
      "TechRepublic, Samsung Gauss: Samsung Research Reveals Generative AI, 2023.11.08.\n",
      "10</content><source>data/SPRI_AI_Brief_2023년12월호_F.pdf</source><page>13</page></document>\n",
      "\n",
      "<document><content><구글 딥마인드의 범용 AI 분류 프레임워크>\n",
      "성능 특수 AI 예시 범용 AI 예시\n",
      "0단계: AI 아님 계산기 소프트웨어, 컴파일러 아마존 메커니컬 터크\n",
      "1단계: 신진(숙련되지 않은 인간) GOFAI(Good Old Fashioned Artificial Intelligence) 챗GPT, 바드, 라마2\n",
      "스마트 스피커(애플 시리, 아마존 알렉사, 구글\n",
      "2단계: 유능(숙련된 인간의 50% 이상) 미달성\n",
      "어시스턴트), IBM 왓슨\n",
      "3단계: 전문가(숙련된 인간의 90% 이상) 문법 교정기(그래머리), 생성 이미지 모델(달리2) 미달성</content><source>data/SPRI_AI_Brief_2023년12월호_F.pdf</source><page>19</page></document>\n",
      "\n",
      "<document><content>처리를 지원\n",
      "∙ 코드 모델 기반의 AI 코딩 어시스턴트 ‘코드아이(code.i)’는 대화형 인터페이스로 서비스를 제공하며\n",
      "사내 소프트웨어 개발에 최적화\n",
      "∙ 이미지 모델은 창의적인 이미지를 생성하고 기존 이미지를 원하는 대로 바꿀 수 있도록 지원하며\n",
      "저해상도 이미지의 고해상도 전환도 지원\n",
      "n IT 전문지 테크리퍼블릭(TechRepublic)은 온디바이스 AI가 주요 기술 트렌드로 부상했다며,\n",
      "2024년부터 가우스를 탑재한 삼성 스마트폰이 메타의 라마(Llama)2를 탑재한 퀄컴 기기 및 구글</content><source>data/SPRI_AI_Brief_2023년12월호_F.pdf</source><page>13</page></document>\n",
      "\n",
      "<document><content>온디바이스에서 작동하도록 설계되어 외부로 사용자의 정보가 유출되지 않는 장점을 보유\n",
      "∙ 삼성전자는 삼성 가우스를 활용한 온디바이스 AI 기술도 소개했으며, 생성 AI 모델을 다양한 제품에\n",
      "단계적으로 탑재할 계획\n",
      "n 삼성 가우스는 △텍스트를 생성하는 언어모델 △코드를 생성하는 코드 모델 △이미지를 생성하는\n",
      "이미지 모델의 3개 모델로 구성\n",
      "∙ 언어 모델은 클라우드와 온디바이스 대상 다양한 모델로 구성되며, 메일 작성, 문서 요약, 번역 업무의\n",
      "처리를 지원</content><source>data/SPRI_AI_Brief_2023년12월호_F.pdf</source><page>13</page></document>\n",
      "\n",
      "<document><content>제작을 포함\n",
      "n 알리바바 클라우드는 급증하는 생성 AI 수요에 대응해 모델 개발과 애플리케이션 구축 절차를\n",
      "간소화하는 올인원 AI 모델 구축 플랫폼 ‘젠AI(GenAI)’도 공개\n",
      "∙ 이 플랫폼은 데이터 관리, 모델 배포와 평가, 신속한 엔지니어링을 위한 종합 도구 모음을 제공하여\n",
      "다양한 기업들이 맞춤형 AI 모델을 한층 쉽게 개발할 수 있도록 지원\n",
      "∙ 생성 AI 개발에 필요한 컴퓨팅과 데이터 처리 요구사항을 지원하기 위해 AI 플랫폼(PAI),\n",
      "데이터베이스 솔루션, 컨테이너 서비스와 같은 클라우드 신제품도 발표</content><source>data/SPRI_AI_Brief_2023년12월호_F.pdf</source><page>12</page></document>\n",
      "\n",
      "<document><content>▹ 빌 게이츠, AI 에이전트로 인한 컴퓨터 사용의 패러다임 변화 전망································13\n",
      "▹ 유튜브, 2024년부터 AI 생성 콘텐츠 표시 의무화····························································14\n",
      "3. 기술/연구\n",
      "▹ 영국 과학혁신기술부, AI 안전 연구소 설립 발표······························································15</content><source>data/SPRI_AI_Brief_2023년12월호_F.pdf</source><page>2</page></document>\n",
      "\n",
      "<document><content>만들었다고 오해할 소지가 있다고 지적\n",
      "∙ 저작권법에 저촉되는 행위는 불공정 경쟁이나 기만행위에도 해당될 수 있으며, 창작자의 평판 악화,\n",
      "저작물의 가치 저하나 개인정보 유출로 소비자에 상당한 피해를 초래 가능\n",
      "n FTC는 일부 빅테크가 막대한 재원을 활용해 생성 AI 사용자의 이탈을 막고 저작권이 있는 상용\n",
      "데이터에 대한 독점 라이선스를 확보해 시장 지배력을 더욱 강화할 수 있다는 우려도 제기\n",
      "∙ 이와 관련 FTC는 아마존 AI 비서 ‘알렉사(Alexa)’와 스마트홈 보안 기기 ‘링(Ring)’이 소비자의 사적</content><source>data/SPRI_AI_Brief_2023년12월호_F.pdf</source><page>8</page></document>\n"
     ]
    }
   ],
   "source": [
    "# RAG 체인에 질문을 전달하여 답변 생성 테스트\n",
    "print(f\"question: {state['question']}\")\n",
    "print(f\"format_docs(docs): {format_docs(state['documents'])}\")"
   ]
  },
  {
   "cell_type": "code",
   "execution_count": 57,
   "metadata": {},
   "outputs": [
    {
     "data": {
      "text/plain": [
       "\"삼성전자가 만든 생성형 AI의 이름은 '삼성 가우스'입니다.\\n\\n**Source**\\n- data/SPRI_AI_Brief_2023년12월호_F.pdf (page 13)\""
      ]
     },
     "execution_count": 57,
     "metadata": {},
     "output_type": "execute_result"
    }
   ],
   "source": [
    "generation = rag_chain.invoke({'context': format_docs(state['documents']), 'question': state['question']})\n",
    "generation"
   ]
  },
  {
   "cell_type": "markdown",
   "metadata": {},
   "source": [
    "### 답변 생성을 위한 RAG 체인을 실행하여 사용자 질문에 대한 답변을 생성하는 노드"
   ]
  },
  {
   "cell_type": "code",
   "execution_count": 58,
   "metadata": {},
   "outputs": [],
   "source": [
    "# 답변 생성 노드\n",
    "def generate(state: GraphState):\n",
    "\n",
    "    question = state['question']            # 사용자 질문\n",
    "    \n",
    "    documents = state['documents']          # 문서 검색 결과\n",
    "\n",
    "    # RAG 실행 결과\n",
    "    generation = rag_chain.invoke({'context': documents , 'question': 'question'})\n",
    "\n",
    "    return {'generation': generation}"
   ]
  },
  {
   "cell_type": "code",
   "execution_count": 59,
   "metadata": {},
   "outputs": [],
   "source": [
    "state['generation'] = generate(state)['generation']"
   ]
  },
  {
   "cell_type": "code",
   "execution_count": 60,
   "metadata": {},
   "outputs": [
    {
     "data": {
      "text/plain": [
       "{'question': '삼성전자가 만든 생성형 AI 이름은?',\n",
       " 'generation': '삼성전자가 공개한 생성 AI 모델 ‘삼성 가우스’는 언어, 코드, 이미지의 3개 모델로 구성되어 있으며, 온디바이스에서 작동 가능하여 사용자 정보 유출 위험이 없다. 이 모델은 2023년 11월 8일 ‘삼성 AI 포럼 2023’에서 처음 공개되었다.\\n\\n**Source**\\n- data/SPRI_AI_Brief_2023년12월호_F.pdf (page 12)',\n",
       " 'documents': [Document(id='4b593f8a-46a7-4bc0-a210-cc18bd0c1270', metadata={'source': 'data/SPRI_AI_Brief_2023년12월호_F.pdf', 'file_path': 'data/SPRI_AI_Brief_2023년12월호_F.pdf', 'page': 1, 'total_pages': 23, 'Author': 'dj', 'Creator': 'Hwp 2018 10.0.0.13462', 'Producer': 'Hancom PDF 1.3.0.542', 'CreationDate': \"D:20231208132838+09'00'\", 'ModDate': \"D:20231208132838+09'00'\", 'PDFVersion': '1.4'}, page_content='▹ 삼성전자, 자체 개발 생성 AI ‘삼성 가우스’ 공개 ···························································10\\n▹ 구글, 앤스로픽에 20억 달러 투자로 생성 AI 협력 강화 ················································11\\n▹ IDC, 2027년 AI 소프트웨어 매출 2,500억 달러 돌파 전망···········································12'),\n",
       "  Document(id='db624ef3-ca1d-43b8-be26-01d725200ff3', metadata={'source': 'data/SPRI_AI_Brief_2023년12월호_F.pdf', 'file_path': 'data/SPRI_AI_Brief_2023년12월호_F.pdf', 'page': 12, 'total_pages': 23, 'Author': 'dj', 'Creator': 'Hwp 2018 10.0.0.13462', 'Producer': 'Hancom PDF 1.3.0.542', 'CreationDate': \"D:20231208132838+09'00'\", 'ModDate': \"D:20231208132838+09'00'\", 'PDFVersion': '1.4'}, page_content='SPRi AI Brief |\\n2023-12월호\\n삼성전자, 자체 개발 생성 AI ‘삼성 가우스’ 공개\\nKEY Contents\\nn 삼성전자가 온디바이스에서 작동 가능하며 언어, 코드, 이미지의 3개 모델로 구성된 자체 개발 생성\\nAI 모델 ‘삼성 가우스’를 공개\\nn 삼성전자는 삼성 가우스를 다양한 제품에 단계적으로 탑재할 계획으로, 온디바이스 작동이 가능한\\n삼성 가우스는 외부로 사용자 정보가 유출될 위험이 없다는 장점을 보유\\n£언어, 코드, 이미지의 3개 모델로 구성된 삼성 가우스, 온디바이스 작동 지원'),\n",
       "  Document(id='5c2a4f06-7a5e-4038-96b6-0ca21f8db105', metadata={'source': 'data/SPRI_AI_Brief_2023년12월호_F.pdf', 'file_path': 'data/SPRI_AI_Brief_2023년12월호_F.pdf', 'page': 12, 'total_pages': 23, 'Author': 'dj', 'Creator': 'Hwp 2018 10.0.0.13462', 'Producer': 'Hancom PDF 1.3.0.542', 'CreationDate': \"D:20231208132838+09'00'\", 'ModDate': \"D:20231208132838+09'00'\", 'PDFVersion': '1.4'}, page_content='£언어, 코드, 이미지의 3개 모델로 구성된 삼성 가우스, 온디바이스 작동 지원\\nn 삼성전자가 2023년 11월 8일 열린 ‘삼성 AI 포럼 2023’ 행사에서 자체 개발한 생성 AI 모델\\n‘삼성 가우스’를 최초 공개\\n∙ 정규분포 이론을 정립한 천재 수학자 가우스(Gauss)의 이름을 본뜬 삼성 가우스는 다양한 상황에\\n최적화된 크기의 모델 선택이 가능\\n∙ 삼성 가우스는 라이선스나 개인정보를 침해하지 않는 안전한 데이터를 통해 학습되었으며,\\n온디바이스에서 작동하도록 설계되어 외부로 사용자의 정보가 유출되지 않는 장점을 보유'),\n",
       "  Document(id='b5403b84-ed04-4ff2-a0d0-c208265a40bf', metadata={'source': 'data/SPRI_AI_Brief_2023년12월호_F.pdf', 'file_path': 'data/SPRI_AI_Brief_2023년12월호_F.pdf', 'page': 12, 'total_pages': 23, 'Author': 'dj', 'Creator': 'Hwp 2018 10.0.0.13462', 'Producer': 'Hancom PDF 1.3.0.542', 'CreationDate': \"D:20231208132838+09'00'\", 'ModDate': \"D:20231208132838+09'00'\", 'PDFVersion': '1.4'}, page_content='어시스턴트를 적용한 구글 픽셀(Pixel)과 경쟁할 것으로 예상\\n☞ 출처 : 삼성전자, ‘삼성 AI 포럼’서 자체 개발 생성형 AI ‘삼성 가우스’ 공개, 2023.11.08.\\n삼성전자, ‘삼성 개발자 콘퍼런스 코리아 2023’ 개최, 2023.11.14.\\nTechRepublic, Samsung Gauss: Samsung Research Reveals Generative AI, 2023.11.08.\\n10'),\n",
       "  Document(id='3919cc35-38ff-437b-a887-95b14a57c60e', metadata={'source': 'data/SPRI_AI_Brief_2023년12월호_F.pdf', 'file_path': 'data/SPRI_AI_Brief_2023년12월호_F.pdf', 'page': 18, 'total_pages': 23, 'Author': 'dj', 'Creator': 'Hwp 2018 10.0.0.13462', 'Producer': 'Hancom PDF 1.3.0.542', 'CreationDate': \"D:20231208132838+09'00'\", 'ModDate': \"D:20231208132838+09'00'\", 'PDFVersion': '1.4'}, page_content='<구글 딥마인드의 범용 AI 분류 프레임워크>\\n성능 특수 AI 예시 범용 AI 예시\\n0단계: AI 아님 계산기 소프트웨어, 컴파일러 아마존 메커니컬 터크\\n1단계: 신진(숙련되지 않은 인간) GOFAI(Good Old Fashioned Artificial Intelligence) 챗GPT, 바드, 라마2\\n스마트 스피커(애플 시리, 아마존 알렉사, 구글\\n2단계: 유능(숙련된 인간의 50% 이상) 미달성\\n어시스턴트), IBM 왓슨\\n3단계: 전문가(숙련된 인간의 90% 이상) 문법 교정기(그래머리), 생성 이미지 모델(달리2) 미달성'),\n",
       "  Document(id='530f6e1a-6b7c-4360-add0-e35f4779d513', metadata={'source': 'data/SPRI_AI_Brief_2023년12월호_F.pdf', 'file_path': 'data/SPRI_AI_Brief_2023년12월호_F.pdf', 'page': 12, 'total_pages': 23, 'Author': 'dj', 'Creator': 'Hwp 2018 10.0.0.13462', 'Producer': 'Hancom PDF 1.3.0.542', 'CreationDate': \"D:20231208132838+09'00'\", 'ModDate': \"D:20231208132838+09'00'\", 'PDFVersion': '1.4'}, page_content='처리를 지원\\n∙ 코드 모델 기반의 AI 코딩 어시스턴트 ‘코드아이(code.i)’는 대화형 인터페이스로 서비스를 제공하며\\n사내 소프트웨어 개발에 최적화\\n∙ 이미지 모델은 창의적인 이미지를 생성하고 기존 이미지를 원하는 대로 바꿀 수 있도록 지원하며\\n저해상도 이미지의 고해상도 전환도 지원\\nn IT 전문지 테크리퍼블릭(TechRepublic)은 온디바이스 AI가 주요 기술 트렌드로 부상했다며,\\n2024년부터 가우스를 탑재한 삼성 스마트폰이 메타의 라마(Llama)2를 탑재한 퀄컴 기기 및 구글'),\n",
       "  Document(id='4ea9697a-f8f9-47c6-a186-e13430dbf95a', metadata={'source': 'data/SPRI_AI_Brief_2023년12월호_F.pdf', 'file_path': 'data/SPRI_AI_Brief_2023년12월호_F.pdf', 'page': 12, 'total_pages': 23, 'Author': 'dj', 'Creator': 'Hwp 2018 10.0.0.13462', 'Producer': 'Hancom PDF 1.3.0.542', 'CreationDate': \"D:20231208132838+09'00'\", 'ModDate': \"D:20231208132838+09'00'\", 'PDFVersion': '1.4'}, page_content='온디바이스에서 작동하도록 설계되어 외부로 사용자의 정보가 유출되지 않는 장점을 보유\\n∙ 삼성전자는 삼성 가우스를 활용한 온디바이스 AI 기술도 소개했으며, 생성 AI 모델을 다양한 제품에\\n단계적으로 탑재할 계획\\nn 삼성 가우스는 △텍스트를 생성하는 언어모델 △코드를 생성하는 코드 모델 △이미지를 생성하는\\n이미지 모델의 3개 모델로 구성\\n∙ 언어 모델은 클라우드와 온디바이스 대상 다양한 모델로 구성되며, 메일 작성, 문서 요약, 번역 업무의\\n처리를 지원'),\n",
       "  Document(id='334653c8-8430-47a7-94e9-e974d3dc8e59', metadata={'source': 'data/SPRI_AI_Brief_2023년12월호_F.pdf', 'file_path': 'data/SPRI_AI_Brief_2023년12월호_F.pdf', 'page': 11, 'total_pages': 23, 'Author': 'dj', 'Creator': 'Hwp 2018 10.0.0.13462', 'Producer': 'Hancom PDF 1.3.0.542', 'CreationDate': \"D:20231208132838+09'00'\", 'ModDate': \"D:20231208132838+09'00'\", 'PDFVersion': '1.4'}, page_content='제작을 포함\\nn 알리바바 클라우드는 급증하는 생성 AI 수요에 대응해 모델 개발과 애플리케이션 구축 절차를\\n간소화하는 올인원 AI 모델 구축 플랫폼 ‘젠AI(GenAI)’도 공개\\n∙ 이 플랫폼은 데이터 관리, 모델 배포와 평가, 신속한 엔지니어링을 위한 종합 도구 모음을 제공하여\\n다양한 기업들이 맞춤형 AI 모델을 한층 쉽게 개발할 수 있도록 지원\\n∙ 생성 AI 개발에 필요한 컴퓨팅과 데이터 처리 요구사항을 지원하기 위해 AI 플랫폼(PAI),\\n데이터베이스 솔루션, 컨테이너 서비스와 같은 클라우드 신제품도 발표'),\n",
       "  Document(id='b0574e4f-e0b4-409b-8408-0121d03379b2', metadata={'source': 'data/SPRI_AI_Brief_2023년12월호_F.pdf', 'file_path': 'data/SPRI_AI_Brief_2023년12월호_F.pdf', 'page': 1, 'total_pages': 23, 'Author': 'dj', 'Creator': 'Hwp 2018 10.0.0.13462', 'Producer': 'Hancom PDF 1.3.0.542', 'CreationDate': \"D:20231208132838+09'00'\", 'ModDate': \"D:20231208132838+09'00'\", 'PDFVersion': '1.4'}, page_content='▹ 빌 게이츠, AI 에이전트로 인한 컴퓨터 사용의 패러다임 변화 전망································13\\n▹ 유튜브, 2024년부터 AI 생성 콘텐츠 표시 의무화····························································14\\n3. 기술/연구\\n▹ 영국 과학혁신기술부, AI 안전 연구소 설립 발표······························································15'),\n",
       "  Document(id='7010d9a9-ca5a-401b-9f49-bc5998b1d355', metadata={'source': 'data/SPRI_AI_Brief_2023년12월호_F.pdf', 'file_path': 'data/SPRI_AI_Brief_2023년12월호_F.pdf', 'page': 7, 'total_pages': 23, 'Author': 'dj', 'Creator': 'Hwp 2018 10.0.0.13462', 'Producer': 'Hancom PDF 1.3.0.542', 'CreationDate': \"D:20231208132838+09'00'\", 'ModDate': \"D:20231208132838+09'00'\", 'PDFVersion': '1.4'}, page_content='만들었다고 오해할 소지가 있다고 지적\\n∙ 저작권법에 저촉되는 행위는 불공정 경쟁이나 기만행위에도 해당될 수 있으며, 창작자의 평판 악화,\\n저작물의 가치 저하나 개인정보 유출로 소비자에 상당한 피해를 초래 가능\\nn FTC는 일부 빅테크가 막대한 재원을 활용해 생성 AI 사용자의 이탈을 막고 저작권이 있는 상용\\n데이터에 대한 독점 라이선스를 확보해 시장 지배력을 더욱 강화할 수 있다는 우려도 제기\\n∙ 이와 관련 FTC는 아마존 AI 비서 ‘알렉사(Alexa)’와 스마트홈 보안 기기 ‘링(Ring)’이 소비자의 사적')]}"
      ]
     },
     "execution_count": 60,
     "metadata": {},
     "output_type": "execute_result"
    }
   ],
   "source": [
    "state"
   ]
  },
  {
   "cell_type": "markdown",
   "metadata": {},
   "source": [
    "### 문서 검색 평가기 (Retrieval Grader)"
   ]
  },
  {
   "cell_type": "code",
   "execution_count": 61,
   "metadata": {},
   "outputs": [],
   "source": [
    "class GradeDocuments(BaseModel):        # 문서 평가를 위한 데이터 모델\n",
    "    \"\"\"Binary score for relevance check on retrieved documents.\"\"\"\n",
    "\n",
    "    # 사용자 질문에 대한 pdf 문서 검색 결과를 평가하는 문서 검색 평가기(retrieval_grader)를 사용해서 \n",
    "    # 사용자 질문과 검색 결과문서가 관련성이 있는지 본다\n",
    "\n",
    "    binary_score: str = Field(\n",
    "        description=\"Documents are relevant to the question, 'yes' or 'no'\"\n",
    "    )\n",
    "\n",
    "llm = ChatOpenAI(\n",
    "    api_key=key, \n",
    "    model='gpt-4o-mini', \n",
    "    temperature=0\n",
    ")\n",
    "\n",
    "structured_llm_grader = llm.with_structured_output(GradeDocuments)\n",
    "\n",
    "# 시스템 메시지\n",
    "system = \"\"\"You are a grader assessing relevance of a retrieved document to a user question. \\n \n",
    "    If the document contains keyword(s) or semantic meaning related to the user question, grade it as relevant. \\n\n",
    "    It does not need to be a stringent test. The goal is to filter out erroneous retrievals. \\n\n",
    "    Give a binary score 'yes' or 'no' score to indicate whether the document is relevant to the question.\"\"\"\n",
    "\n",
    "# 프롬프트 템플릿\n",
    "grade_prompt = ChatPromptTemplate.from_messages(\n",
    "    [\n",
    "        (\"system\", system),\n",
    "        (\"human\", \"Retrieved document: \\n\\n {document} \\n\\n User question: {question}\"),\n",
    "    ]\n",
    ")\n",
    "\n",
    "# 문서 검색결과 평가기\n",
    "retrieval_grader = grade_prompt | structured_llm_grader"
   ]
  },
  {
   "cell_type": "code",
   "execution_count": 62,
   "metadata": {},
   "outputs": [
    {
     "name": "stdout",
     "output_type": "stream",
     "text": [
      "result.binary_score: yes\n",
      "result.binary_score: yes\n",
      "result.binary_score: yes\n",
      "result.binary_score: yes\n",
      "result.binary_score: no\n",
      "result.binary_score: yes\n",
      "result.binary_score: yes\n",
      "result.binary_score: no\n",
      "result.binary_score: no\n",
      "result.binary_score: no\n"
     ]
    }
   ],
   "source": [
    "filtered_docs = []                                    # 문서 검색 평가기를 통과한 문서들만 필터링\n",
    "\n",
    "for doc in state['documents']:\n",
    "    result = retrieval_grader.invoke({'question': state['question'], 'document': doc.page_content})\n",
    "    print(f\"result.binary_score: {result.binary_score}\")\n",
    "    \n",
    "    if result.binary_score == 'yes':\n",
    "        filtered_docs.append(doc)"
   ]
  },
  {
   "cell_type": "markdown",
   "metadata": {},
   "source": [
    "### 사용자 질문에 대한 pdf 문서 검색 결과의 관련성을 평가하는 문서 검색 평가기(retrieval_grader) 노드"
   ]
  },
  {
   "cell_type": "code",
   "execution_count": 63,
   "metadata": {},
   "outputs": [],
   "source": [
    "# 문서 검색 결과와 질문 관련성 평가 노드\n",
    "def grade_documents(state: GraphState):\n",
    "\n",
    "    # 사용자 질문\n",
    "    question = state['question']  \n",
    "\n",
    "    # 문서 검색 결과\n",
    "    documents = state['documents']\n",
    "\n",
    "    # 문서 검색 평가기를 통과한 문서들만 필터링\n",
    "    filtered_docs = []\n",
    "\n",
    "    for doc in documents:\n",
    "        score = retrieval_grader.invoke({'question': question, 'document': doc.page_content})\n",
    "\n",
    "        grade = score.binary_score\n",
    "\n",
    "        if grade == 'yes':\n",
    "            print(\"---GRADE: DOCUMENT RELEVANT---\")     \n",
    "            filtered_docs.append(doc)                   \n",
    "        else:\n",
    "            print(\"---GRADE: DOCUMENT NOT RELEVANT---\") \n",
    "            continue     \n",
    "\n",
    "    return {'documents': filtered_docs}"
   ]
  },
  {
   "cell_type": "code",
   "execution_count": 64,
   "metadata": {},
   "outputs": [
    {
     "name": "stdout",
     "output_type": "stream",
     "text": [
      "---GRADE: DOCUMENT RELEVANT---\n",
      "---GRADE: DOCUMENT RELEVANT---\n",
      "---GRADE: DOCUMENT RELEVANT---\n",
      "---GRADE: DOCUMENT RELEVANT---\n",
      "---GRADE: DOCUMENT NOT RELEVANT---\n",
      "---GRADE: DOCUMENT RELEVANT---\n",
      "---GRADE: DOCUMENT RELEVANT---\n",
      "---GRADE: DOCUMENT NOT RELEVANT---\n",
      "---GRADE: DOCUMENT NOT RELEVANT---\n",
      "---GRADE: DOCUMENT NOT RELEVANT---\n"
     ]
    }
   ],
   "source": [
    "return_documents = grade_documents(state)"
   ]
  },
  {
   "cell_type": "code",
   "execution_count": 65,
   "metadata": {},
   "outputs": [
    {
     "data": {
      "text/plain": [
       "{'question': '삼성전자가 만든 생성형 AI 이름은?',\n",
       " 'generation': '삼성전자가 공개한 생성 AI 모델 ‘삼성 가우스’는 언어, 코드, 이미지의 3개 모델로 구성되어 있으며, 온디바이스에서 작동 가능하여 사용자 정보 유출 위험이 없다. 이 모델은 2023년 11월 8일 ‘삼성 AI 포럼 2023’에서 처음 공개되었다.\\n\\n**Source**\\n- data/SPRI_AI_Brief_2023년12월호_F.pdf (page 12)',\n",
       " 'documents': [Document(id='4b593f8a-46a7-4bc0-a210-cc18bd0c1270', metadata={'source': 'data/SPRI_AI_Brief_2023년12월호_F.pdf', 'file_path': 'data/SPRI_AI_Brief_2023년12월호_F.pdf', 'page': 1, 'total_pages': 23, 'Author': 'dj', 'Creator': 'Hwp 2018 10.0.0.13462', 'Producer': 'Hancom PDF 1.3.0.542', 'CreationDate': \"D:20231208132838+09'00'\", 'ModDate': \"D:20231208132838+09'00'\", 'PDFVersion': '1.4'}, page_content='▹ 삼성전자, 자체 개발 생성 AI ‘삼성 가우스’ 공개 ···························································10\\n▹ 구글, 앤스로픽에 20억 달러 투자로 생성 AI 협력 강화 ················································11\\n▹ IDC, 2027년 AI 소프트웨어 매출 2,500억 달러 돌파 전망···········································12'),\n",
       "  Document(id='db624ef3-ca1d-43b8-be26-01d725200ff3', metadata={'source': 'data/SPRI_AI_Brief_2023년12월호_F.pdf', 'file_path': 'data/SPRI_AI_Brief_2023년12월호_F.pdf', 'page': 12, 'total_pages': 23, 'Author': 'dj', 'Creator': 'Hwp 2018 10.0.0.13462', 'Producer': 'Hancom PDF 1.3.0.542', 'CreationDate': \"D:20231208132838+09'00'\", 'ModDate': \"D:20231208132838+09'00'\", 'PDFVersion': '1.4'}, page_content='SPRi AI Brief |\\n2023-12월호\\n삼성전자, 자체 개발 생성 AI ‘삼성 가우스’ 공개\\nKEY Contents\\nn 삼성전자가 온디바이스에서 작동 가능하며 언어, 코드, 이미지의 3개 모델로 구성된 자체 개발 생성\\nAI 모델 ‘삼성 가우스’를 공개\\nn 삼성전자는 삼성 가우스를 다양한 제품에 단계적으로 탑재할 계획으로, 온디바이스 작동이 가능한\\n삼성 가우스는 외부로 사용자 정보가 유출될 위험이 없다는 장점을 보유\\n£언어, 코드, 이미지의 3개 모델로 구성된 삼성 가우스, 온디바이스 작동 지원'),\n",
       "  Document(id='5c2a4f06-7a5e-4038-96b6-0ca21f8db105', metadata={'source': 'data/SPRI_AI_Brief_2023년12월호_F.pdf', 'file_path': 'data/SPRI_AI_Brief_2023년12월호_F.pdf', 'page': 12, 'total_pages': 23, 'Author': 'dj', 'Creator': 'Hwp 2018 10.0.0.13462', 'Producer': 'Hancom PDF 1.3.0.542', 'CreationDate': \"D:20231208132838+09'00'\", 'ModDate': \"D:20231208132838+09'00'\", 'PDFVersion': '1.4'}, page_content='£언어, 코드, 이미지의 3개 모델로 구성된 삼성 가우스, 온디바이스 작동 지원\\nn 삼성전자가 2023년 11월 8일 열린 ‘삼성 AI 포럼 2023’ 행사에서 자체 개발한 생성 AI 모델\\n‘삼성 가우스’를 최초 공개\\n∙ 정규분포 이론을 정립한 천재 수학자 가우스(Gauss)의 이름을 본뜬 삼성 가우스는 다양한 상황에\\n최적화된 크기의 모델 선택이 가능\\n∙ 삼성 가우스는 라이선스나 개인정보를 침해하지 않는 안전한 데이터를 통해 학습되었으며,\\n온디바이스에서 작동하도록 설계되어 외부로 사용자의 정보가 유출되지 않는 장점을 보유'),\n",
       "  Document(id='b5403b84-ed04-4ff2-a0d0-c208265a40bf', metadata={'source': 'data/SPRI_AI_Brief_2023년12월호_F.pdf', 'file_path': 'data/SPRI_AI_Brief_2023년12월호_F.pdf', 'page': 12, 'total_pages': 23, 'Author': 'dj', 'Creator': 'Hwp 2018 10.0.0.13462', 'Producer': 'Hancom PDF 1.3.0.542', 'CreationDate': \"D:20231208132838+09'00'\", 'ModDate': \"D:20231208132838+09'00'\", 'PDFVersion': '1.4'}, page_content='어시스턴트를 적용한 구글 픽셀(Pixel)과 경쟁할 것으로 예상\\n☞ 출처 : 삼성전자, ‘삼성 AI 포럼’서 자체 개발 생성형 AI ‘삼성 가우스’ 공개, 2023.11.08.\\n삼성전자, ‘삼성 개발자 콘퍼런스 코리아 2023’ 개최, 2023.11.14.\\nTechRepublic, Samsung Gauss: Samsung Research Reveals Generative AI, 2023.11.08.\\n10'),\n",
       "  Document(id='530f6e1a-6b7c-4360-add0-e35f4779d513', metadata={'source': 'data/SPRI_AI_Brief_2023년12월호_F.pdf', 'file_path': 'data/SPRI_AI_Brief_2023년12월호_F.pdf', 'page': 12, 'total_pages': 23, 'Author': 'dj', 'Creator': 'Hwp 2018 10.0.0.13462', 'Producer': 'Hancom PDF 1.3.0.542', 'CreationDate': \"D:20231208132838+09'00'\", 'ModDate': \"D:20231208132838+09'00'\", 'PDFVersion': '1.4'}, page_content='처리를 지원\\n∙ 코드 모델 기반의 AI 코딩 어시스턴트 ‘코드아이(code.i)’는 대화형 인터페이스로 서비스를 제공하며\\n사내 소프트웨어 개발에 최적화\\n∙ 이미지 모델은 창의적인 이미지를 생성하고 기존 이미지를 원하는 대로 바꿀 수 있도록 지원하며\\n저해상도 이미지의 고해상도 전환도 지원\\nn IT 전문지 테크리퍼블릭(TechRepublic)은 온디바이스 AI가 주요 기술 트렌드로 부상했다며,\\n2024년부터 가우스를 탑재한 삼성 스마트폰이 메타의 라마(Llama)2를 탑재한 퀄컴 기기 및 구글'),\n",
       "  Document(id='4ea9697a-f8f9-47c6-a186-e13430dbf95a', metadata={'source': 'data/SPRI_AI_Brief_2023년12월호_F.pdf', 'file_path': 'data/SPRI_AI_Brief_2023년12월호_F.pdf', 'page': 12, 'total_pages': 23, 'Author': 'dj', 'Creator': 'Hwp 2018 10.0.0.13462', 'Producer': 'Hancom PDF 1.3.0.542', 'CreationDate': \"D:20231208132838+09'00'\", 'ModDate': \"D:20231208132838+09'00'\", 'PDFVersion': '1.4'}, page_content='온디바이스에서 작동하도록 설계되어 외부로 사용자의 정보가 유출되지 않는 장점을 보유\\n∙ 삼성전자는 삼성 가우스를 활용한 온디바이스 AI 기술도 소개했으며, 생성 AI 모델을 다양한 제품에\\n단계적으로 탑재할 계획\\nn 삼성 가우스는 △텍스트를 생성하는 언어모델 △코드를 생성하는 코드 모델 △이미지를 생성하는\\n이미지 모델의 3개 모델로 구성\\n∙ 언어 모델은 클라우드와 온디바이스 대상 다양한 모델로 구성되며, 메일 작성, 문서 요약, 번역 업무의\\n처리를 지원')]}"
      ]
     },
     "execution_count": 65,
     "metadata": {},
     "output_type": "execute_result"
    }
   ],
   "source": [
    "state['documents'] = return_documents['documents']\n",
    "state"
   ]
  },
  {
   "cell_type": "markdown",
   "metadata": {},
   "source": [
    "### 쿼리 재작성 (Query Rewriter)"
   ]
  },
  {
   "cell_type": "code",
   "execution_count": 66,
   "metadata": {},
   "outputs": [],
   "source": [
    "from langchain_openai import ChatOpenAI\n",
    "from langchain_core.prompts import ChatPromptTemplate\n",
    "from langchain_core.output_parsers import StrOutputParser\n",
    "\n",
    "\n",
    "llm = ChatOpenAI(\n",
    "    api_key=key, \n",
    "    model='gpt-4o-mini', \n",
    "    temperature=0\n",
    ")\n",
    "\n",
    "# Query Rewriter 프롬프트\n",
    "system = \"\"\"You a question re-writer that converts an input question to a better version that is optimized \\n \n",
    "for vectorstore retrieval. Look at the input and try to reason about the underlying semantic intent / meaning.\"\"\"\n",
    "\n",
    "re_writer_prompt = ChatPromptTemplate.from_messages(\n",
    "    [\n",
    "        ('system', system), \n",
    "        ('human', 'Here is the initial question: \\n\\n {question} \\n Formulate an improved question')\n",
    "    ]\n",
    ")\n",
    "\n",
    "# Query Rewriter 생성\n",
    "question_rewriter = re_writer_prompt | llm | StrOutputParser()"
   ]
  },
  {
   "cell_type": "code",
   "execution_count": 67,
   "metadata": {},
   "outputs": [
    {
     "data": {
      "text/plain": [
       "'삼성전자가 개발한 생성형 AI의 이름은 무엇인가요?'"
      ]
     },
     "execution_count": 67,
     "metadata": {},
     "output_type": "execute_result"
    }
   ],
   "source": [
    "question_rewriter.invoke({'question': state['question']})"
   ]
  },
  {
   "cell_type": "markdown",
   "metadata": {},
   "source": [
    "### Query Rewrite 노드"
   ]
  },
  {
   "cell_type": "code",
   "execution_count": 68,
   "metadata": {},
   "outputs": [],
   "source": [
    "# Query Rewrite 노드\n",
    "def transform_query(state: GraphState):\n",
    "    print('\\n==========================================================================================')\n",
    "    print('🔄 [Node] 쿼리 재작성 노드 🔄')\n",
    "\n",
    "    # 사용자 질문\n",
    "    question = state['question']\n",
    "\n",
    "    # 문서 검색 결과\n",
    "    documents = state['documents']\n",
    "\n",
    "    \n",
    "    # 쿼리 재작성\n",
    "    better_question = question_rewriter.invoke({'question': question})\n",
    "    \n",
    "    print('-------------------')\n",
    "    print(f\"better_question: {better_question}\")\n",
    "    print('-------------------')\n",
    "    \n",
    "    print('==========================================================================================\\n')\n",
    "\n",
    "    return {'question': better_question}"
   ]
  },
  {
   "cell_type": "code",
   "execution_count": 69,
   "metadata": {},
   "outputs": [
    {
     "name": "stdout",
     "output_type": "stream",
     "text": [
      "\n",
      "==========================================================================================\n",
      "🔄 [Node] 쿼리 재작성 노드 🔄\n",
      "-------------------\n",
      "better_question: 삼성전자가 개발한 생성형 AI의 이름은 무엇인가요?\n",
      "-------------------\n",
      "==========================================================================================\n",
      "\n"
     ]
    }
   ],
   "source": [
    "question_rewriter_return = transform_query(state)\n",
    "state['question'] = question_rewriter_return['question']"
   ]
  },
  {
   "cell_type": "code",
   "execution_count": 70,
   "metadata": {},
   "outputs": [
    {
     "data": {
      "text/plain": [
       "{'question': '삼성전자가 개발한 생성형 AI의 이름은 무엇인가요?',\n",
       " 'generation': '삼성전자가 공개한 생성 AI 모델 ‘삼성 가우스’는 언어, 코드, 이미지의 3개 모델로 구성되어 있으며, 온디바이스에서 작동 가능하여 사용자 정보 유출 위험이 없다. 이 모델은 2023년 11월 8일 ‘삼성 AI 포럼 2023’에서 처음 공개되었다.\\n\\n**Source**\\n- data/SPRI_AI_Brief_2023년12월호_F.pdf (page 12)',\n",
       " 'documents': [Document(id='4b593f8a-46a7-4bc0-a210-cc18bd0c1270', metadata={'source': 'data/SPRI_AI_Brief_2023년12월호_F.pdf', 'file_path': 'data/SPRI_AI_Brief_2023년12월호_F.pdf', 'page': 1, 'total_pages': 23, 'Author': 'dj', 'Creator': 'Hwp 2018 10.0.0.13462', 'Producer': 'Hancom PDF 1.3.0.542', 'CreationDate': \"D:20231208132838+09'00'\", 'ModDate': \"D:20231208132838+09'00'\", 'PDFVersion': '1.4'}, page_content='▹ 삼성전자, 자체 개발 생성 AI ‘삼성 가우스’ 공개 ···························································10\\n▹ 구글, 앤스로픽에 20억 달러 투자로 생성 AI 협력 강화 ················································11\\n▹ IDC, 2027년 AI 소프트웨어 매출 2,500억 달러 돌파 전망···········································12'),\n",
       "  Document(id='db624ef3-ca1d-43b8-be26-01d725200ff3', metadata={'source': 'data/SPRI_AI_Brief_2023년12월호_F.pdf', 'file_path': 'data/SPRI_AI_Brief_2023년12월호_F.pdf', 'page': 12, 'total_pages': 23, 'Author': 'dj', 'Creator': 'Hwp 2018 10.0.0.13462', 'Producer': 'Hancom PDF 1.3.0.542', 'CreationDate': \"D:20231208132838+09'00'\", 'ModDate': \"D:20231208132838+09'00'\", 'PDFVersion': '1.4'}, page_content='SPRi AI Brief |\\n2023-12월호\\n삼성전자, 자체 개발 생성 AI ‘삼성 가우스’ 공개\\nKEY Contents\\nn 삼성전자가 온디바이스에서 작동 가능하며 언어, 코드, 이미지의 3개 모델로 구성된 자체 개발 생성\\nAI 모델 ‘삼성 가우스’를 공개\\nn 삼성전자는 삼성 가우스를 다양한 제품에 단계적으로 탑재할 계획으로, 온디바이스 작동이 가능한\\n삼성 가우스는 외부로 사용자 정보가 유출될 위험이 없다는 장점을 보유\\n£언어, 코드, 이미지의 3개 모델로 구성된 삼성 가우스, 온디바이스 작동 지원'),\n",
       "  Document(id='5c2a4f06-7a5e-4038-96b6-0ca21f8db105', metadata={'source': 'data/SPRI_AI_Brief_2023년12월호_F.pdf', 'file_path': 'data/SPRI_AI_Brief_2023년12월호_F.pdf', 'page': 12, 'total_pages': 23, 'Author': 'dj', 'Creator': 'Hwp 2018 10.0.0.13462', 'Producer': 'Hancom PDF 1.3.0.542', 'CreationDate': \"D:20231208132838+09'00'\", 'ModDate': \"D:20231208132838+09'00'\", 'PDFVersion': '1.4'}, page_content='£언어, 코드, 이미지의 3개 모델로 구성된 삼성 가우스, 온디바이스 작동 지원\\nn 삼성전자가 2023년 11월 8일 열린 ‘삼성 AI 포럼 2023’ 행사에서 자체 개발한 생성 AI 모델\\n‘삼성 가우스’를 최초 공개\\n∙ 정규분포 이론을 정립한 천재 수학자 가우스(Gauss)의 이름을 본뜬 삼성 가우스는 다양한 상황에\\n최적화된 크기의 모델 선택이 가능\\n∙ 삼성 가우스는 라이선스나 개인정보를 침해하지 않는 안전한 데이터를 통해 학습되었으며,\\n온디바이스에서 작동하도록 설계되어 외부로 사용자의 정보가 유출되지 않는 장점을 보유'),\n",
       "  Document(id='b5403b84-ed04-4ff2-a0d0-c208265a40bf', metadata={'source': 'data/SPRI_AI_Brief_2023년12월호_F.pdf', 'file_path': 'data/SPRI_AI_Brief_2023년12월호_F.pdf', 'page': 12, 'total_pages': 23, 'Author': 'dj', 'Creator': 'Hwp 2018 10.0.0.13462', 'Producer': 'Hancom PDF 1.3.0.542', 'CreationDate': \"D:20231208132838+09'00'\", 'ModDate': \"D:20231208132838+09'00'\", 'PDFVersion': '1.4'}, page_content='어시스턴트를 적용한 구글 픽셀(Pixel)과 경쟁할 것으로 예상\\n☞ 출처 : 삼성전자, ‘삼성 AI 포럼’서 자체 개발 생성형 AI ‘삼성 가우스’ 공개, 2023.11.08.\\n삼성전자, ‘삼성 개발자 콘퍼런스 코리아 2023’ 개최, 2023.11.14.\\nTechRepublic, Samsung Gauss: Samsung Research Reveals Generative AI, 2023.11.08.\\n10'),\n",
       "  Document(id='530f6e1a-6b7c-4360-add0-e35f4779d513', metadata={'source': 'data/SPRI_AI_Brief_2023년12월호_F.pdf', 'file_path': 'data/SPRI_AI_Brief_2023년12월호_F.pdf', 'page': 12, 'total_pages': 23, 'Author': 'dj', 'Creator': 'Hwp 2018 10.0.0.13462', 'Producer': 'Hancom PDF 1.3.0.542', 'CreationDate': \"D:20231208132838+09'00'\", 'ModDate': \"D:20231208132838+09'00'\", 'PDFVersion': '1.4'}, page_content='처리를 지원\\n∙ 코드 모델 기반의 AI 코딩 어시스턴트 ‘코드아이(code.i)’는 대화형 인터페이스로 서비스를 제공하며\\n사내 소프트웨어 개발에 최적화\\n∙ 이미지 모델은 창의적인 이미지를 생성하고 기존 이미지를 원하는 대로 바꿀 수 있도록 지원하며\\n저해상도 이미지의 고해상도 전환도 지원\\nn IT 전문지 테크리퍼블릭(TechRepublic)은 온디바이스 AI가 주요 기술 트렌드로 부상했다며,\\n2024년부터 가우스를 탑재한 삼성 스마트폰이 메타의 라마(Llama)2를 탑재한 퀄컴 기기 및 구글'),\n",
       "  Document(id='4ea9697a-f8f9-47c6-a186-e13430dbf95a', metadata={'source': 'data/SPRI_AI_Brief_2023년12월호_F.pdf', 'file_path': 'data/SPRI_AI_Brief_2023년12월호_F.pdf', 'page': 12, 'total_pages': 23, 'Author': 'dj', 'Creator': 'Hwp 2018 10.0.0.13462', 'Producer': 'Hancom PDF 1.3.0.542', 'CreationDate': \"D:20231208132838+09'00'\", 'ModDate': \"D:20231208132838+09'00'\", 'PDFVersion': '1.4'}, page_content='온디바이스에서 작동하도록 설계되어 외부로 사용자의 정보가 유출되지 않는 장점을 보유\\n∙ 삼성전자는 삼성 가우스를 활용한 온디바이스 AI 기술도 소개했으며, 생성 AI 모델을 다양한 제품에\\n단계적으로 탑재할 계획\\nn 삼성 가우스는 △텍스트를 생성하는 언어모델 △코드를 생성하는 코드 모델 △이미지를 생성하는\\n이미지 모델의 3개 모델로 구성\\n∙ 언어 모델은 클라우드와 온디바이스 대상 다양한 모델로 구성되며, 메일 작성, 문서 요약, 번역 업무의\\n처리를 지원')]}"
      ]
     },
     "execution_count": 70,
     "metadata": {},
     "output_type": "execute_result"
    }
   ],
   "source": [
    "state"
   ]
  },
  {
   "cell_type": "markdown",
   "metadata": {},
   "source": [
    "### 웹 검색 도구"
   ]
  },
  {
   "cell_type": "code",
   "execution_count": 71,
   "metadata": {},
   "outputs": [],
   "source": [
    "from langchain_teddynote.tools.tavily import TavilySearch\n",
    "\n",
    "# 웹 검색 도구 생성\n",
    "web_search_tool = TavilySearch(max_results=3)"
   ]
  },
  {
   "cell_type": "code",
   "execution_count": 72,
   "metadata": {},
   "outputs": [
    {
     "data": {
      "text/plain": [
       "[{'title': \"'대구 고깃집' 맛집 빅데이터 추천순위 Top100 - 다이닝코드\",\n",
       "  'url': 'https://www.diningcode.com/list.dc?query=대구++고깃집',\n",
       "  'content': '3. 육즙 대구 --------- 73점 5.0 (2명) 영업 중 삼겹살 회식,주차,예약,콜키지  \"직접 고기를 구워주시니 편했고 고기도 맛있는데 밑반찬이 진리입니댜\" 6. 고기굽는남자 본점 ------------- 72점 4.5 (12명) 영업 중 삼겹살 술모임,무료주차,시끌벅적한,단체석  \"제 최애 고깃집이에요\" 9. 은하수식당 삼덕동 ------------- 72점 4.9 (6명) 영업 중 삼겹살 술모임,주차,서민적인  \"대구 삼덕동에 위치한 고깃집입니다.\" 83해치 복현점 ------------- 69점 5.0 (2명) 영업 중 삼겹살 회식,예약,예약가능  \"복현동 먹자골목 고기 맛집, 직원들 텐션이 어마무시한 고깃집 😲 고기도 다 구워주고 편하게 먹기 좋은곳 매장도 넓어서 회식하기 좋을듯!\" 혜옥당 대구 ----------- 69점 4.9 (7명) 영업 중 삼겹살 술모임,캐주얼한  \"프라이빗한 느낌을 줘서 일반 고깃집보다 편안하게 즐길 수 있다 너무 시끌벅적한 느낌이 아니라 편안..레트로 인테리어가 정감있었던 구워주는 고깃집 맛있게 구워주셔서 좋은데 비계가 정말 많아서 마지막엔 살짝 느끼했다 그럴때 냉메밀면 먹으면 내려감\" 고기굽는남자 신세계점 ---------------- 69점 4.5 (11명) 영업 중 삼겹살 식사모임,무료주차,시끌벅적한,놀이방  \"오랜만에 방문했는데 역시 맛있어요!!!',\n",
       "  'score': 0.72814995,\n",
       "  'raw_content': '\\'대구 고깃집\\' 맛집 빅데이터 추천순위 Top100 - 다이닝코드\\n\\n\\n\\n이용자층\\n카테고리방문목적편의기능분위기인증맛집\\n\\n20대\\n30대\\n40대\\n50대\\n60대 이상\\n\\n\\n\\n여성\\n\\n남성\\n\\n\\n연관순\\n\\n평점순\\n리뷰많은순\\n좋아요많은순\\n거리순\\n\\n\\n대구 고깃집\\xa0맛집 (4,097곳)\\n\\n💁🏻 대구에서 많이 검색된 키워드\\n막창뭉티기뷔페24시간영업돈까스카페아침식사빵집더보기\\n1. 로산가옥 삼덕동 ------------ 75점 4.1 (14명) 영업 중 삼겹살 식사모임,시끌벅적한,콜키지  \"예쁜 고기집인 로산 가옥 웨이팅이 길고 안에가 생각보다 더워요\"\\n2. 상구네돼지구이 수성못점 ---------------- 75점 4.7 (23명) 영업 중 삼겹살 식사모임,무료주차,깔끔한,셀프바  \"외관도 고기집같지않고 패밀리 레스토랑 같아서 이쁩니다 직원들 친절한건 말할것도 없고 무엇보다 고기가 진짜 찐으로 맛있습니다\"\\n3. 육즙 대구 --------- 73점 5.0 (2명) 영업 중 삼겹살 회식,주차,예약,콜키지  \"직접 고기를 구워주시니 편했고 고기도 맛있는데 밑반찬이 진리입니댜\"\\n\\n4. 돼지만 본점 ---------- 72점 4.6 (9명) 영업 중 삼겹살 식사모임,무료주차,시끌벅적한,단체석  \"리모델링되어서 신축 제주도 돌담컨셉으로 리뉴얼되어서 깔끔해서 좋았다 단지 배가 부른상태로 2명이서 방문하였는데 저녁시간에는 3인분부터 주문가능임을 미리공지안하셔서 조금 당황했다\"\\n\\n5. 83해치 봉덕동 ------------ 71점 4.9 (4명) 영업 중 삼겹살 식사모임,주차,깔끔한  \"평소에 자주가는 맛집입니다 사장님 외에 다른 직원분들도 친절 하시고 직접 고기를 구워주시는 점에서 매우 마음에 들어요 이런저런 스몰토크나 여성분이 오시면 머리끈 혹은 춥다면 담요까\"\\n6. 고기굽는남자 본점 ------------- 72점 4.5 (12명) 영업 중 삼겹살 술모임,무료주차,시끌벅적한,단체석  \"제 최애 고깃집이에요\"\\n7. 미식가의구이 대구신월성점 ----------------- 71점 5.0 (6명) 영업 중 고깃집 술모임,발렛파킹,시끌벅적한  \"고기 상태가 좋아보였고 구워 먹었을 때 질기지않고 맛있었어요\"\\n8. 참한집 종로점 ----------- 72점 4.8 (11명) 영업 중 삼겹살 술모임,시끌벅적한  \"우연히 들렀다가 보물을 발견하고 꾸준히 가고 있는 고깃집이에요\"\\n9. 은하수식당 삼덕동 ------------- 72점 4.9 (6명) 영업 중 삼겹살 술모임,주차,서민적인  \"대구 삼덕동에 위치한 고깃집입니다.\"\\n10. 양파식당 대구 ------------ 76점 4.7 (13명) 영업 중 미국산소고기, 갈비살 술모임,무료주차,가성비좋은,놀이방  \"대구 24시간 고깃집, 가성비가 좋기로 유명한 양파식당...이 근처에 산다면 이만한 고깃집을 찾기는 힘들다...일반 고깃집에선 볼 수 없는 야끼니쿠를 먹을수 있다는것이 차별점이기도 하다...매번 사람이 친절할 순 없지만(알바가 잘못 걸리거나 사람이 워낙 많은 날)한 두번 이외에는 매우 친절했으며 밑반찬으로 처음에는 계란찜도 나오며 개인적으로는 고깃집에서 재래기를 고기\"\\n11. 돼지만왕 소금구이 진천동 ------------------ 69점 4.8 (6명) 영업 중 삼겹살 술모임,주차,캐주얼한  \"정말 맛 있는 삼겹살집. 굳이 흠을 잡자면 지역문화인 3인분 주문이 기본인 것, 하지만 기본반찬을 보면 그 마저도 용서가 된다. 최고\"\\n12. 83해치 복현점 ------------- 69점 5.0 (2명) 영업 중 삼겹살 회식,예약,예약가능  \"복현동 먹자골목 고기 맛집, 직원들 텐션이 어마무시한 고깃집 😲 고기도 다 구워주고 편하게 먹기 좋은곳 매장도 넓어서 회식하기 좋을듯!\"\\n13. 돼지싸다구 다사 ------------- 69점 4.6 (7명) 영업 중 돼지고기, 삼겹살 술모임,가성비좋은,단체석  \"직접 구워주시니 더 맛잇는거 같아요^^ 가족외식이나 회식자리에도 촣아요\"\\n14. 혜옥당 대구 ----------- 69점 4.9 (7명) 영업 중 삼겹살 술모임,캐주얼한  \"프라이빗한 느낌을 줘서 일반 고깃집보다 편안하게 즐길 수 있다 너무 시끌벅적한 느낌이 아니라 편안..레트로 인테리어가 정감있었던 구워주는 고깃집 맛있게 구워주셔서 좋은데 비계가 정말 많아서 마지막엔 살짝 느끼했다 그럴때 냉메밀면 먹으면 내려감\"\\n15. 고기굽는남자 신세계점 ---------------- 69점 4.5 (11명) 영업 중 삼겹살 식사모임,무료주차,시끌벅적한,놀이방  \"오랜만에 방문했는데 역시 맛있어요!!! 고기 구워주시니까 편하고 밑반찬도 많고 같이 구워먹을거리랑 멜젓도 나와서 좋아요. 술 시키니까 조개탕도 주네요 굿!!\"\\n16. 금돈미가 대구중구 -------------- 68점 5.0 (3명) 영업 중 삼겹살 데이트,주차,고급스러운,바테이블  \"여긴 진짜 오마카세 느낌이 가득한 고기집이였어요!..데이트 할때 가면 딱 좋을 고기집\"\\n17. 돼지만 왕소금구이 화원점 ------------------ 68점 5.0 (5명) 영업 중 삼겹살 가족외식,무료주차,지역주민이찾는,좌식테이블  \"삼겹살과 목살은 덩어리로 나오는데, 덩어리 고기가 육즙이 잘 잡힌다는 기본 상식이 확실한 맛집. 먹을수 있을때까지 구워주는 기가막힌 서비스로 자주 찾는 단골집이다. 콩나물 무침과 \"\\n18. 만재네 대구중구 ------------- 67점 4.5 (5명) 영업 중 삼겹살 술모임,주차,푸짐한,테라스  \"다른고기집보다 훨씬 깔끔하고 특히 목살이 너무 맛있고 된장술밥이랑 너무 잘어울려서 자주 방문합니다\"\\n19. 서민갈비 두산동 ------------- 72점 3.8 (15명) 영업 중 돼지갈비 회식,무료주차,시끌벅적한  \"돼지갈비 맛집이예요 직원분들이 고기 구워주셔서 편하게 먹을수 있습니다 주차장도 있어서 편리합니다\"\\n20. 박창우의소백산왕소금구이 율하 -------------------- 67점 5.0 (1명) 영업 중 삼겹살 모임장소,주차,숯불,테라스  \"가브리가 정말 미쳤음 지금껏 먹은 가브리중에 압도적 원탑임 된장찌개도 미침\"\\n\\n\\n\\n이 지역 재검색\\n맛집 20곳 더보기\\n1 로산가옥 삼덕동 삼겹살\\n2 상구네돼지구이 수성못점 삼겹살\\n3 육즙 대구 삼겹살\\n4 돼지만 본점 삼겹살\\n5 83해치 봉덕동 삼겹살\\n6 고기굽는남자 본점 삼겹살\\n7 미식가의구이 대구신월성점 고깃집\\n8 참한집 종로점 삼겹살\\n9 은하수식당 삼덕동 삼겹살\\n10 양파식당 대구 미국산소고기, 갈비살\\n11 돼지만왕 소금구이 진천동 삼겹살\\n12 83해치 복현점 삼겹살\\n13 돼지싸다구 다사 돼지고기, 삼겹살\\n14 혜옥당 대구 삼겹살\\n15 고기굽는남자 신세계점 삼겹살\\n16 금돈미가 대구중구 삼겹살\\n17 돼지만 왕소금구이 화원점 삼겹살\\n18 만재네 대구중구 삼겹살\\n19 서민갈비 두산동 돼지갈비\\n20 박창우의소백산왕소금구이 율하 삼겹살\\n\\n지도 확대 및 축소는 오른쪽 스크롤 바를 이용해 주세요.'},\n",
       " {'title': \"'대구 고깃집' 맛집 빅데이터 추천순위 Top100 - 다이닝코드\",\n",
       "  'url': 'https://www.diningcode.com/list.dc?query=대구++고깃집',\n",
       "  'content': '3. 육즙 대구 --------- 73점 5.0 (2명) 영업 중 삼겹살 회식,주차,예약,콜키지  \"직접 고기를 구워주시니 편했고 고기도 맛있는데 밑반찬이 진리입니댜\" 6. 고기굽는남자 본점 ------------- 72점 4.5 (12명) 영업 중 삼겹살 술모임,무료주차,시끌벅적한,단체석  \"제 최애 고깃집이에요\" 9. 은하수식당 삼덕동 ------------- 72점 4.9 (6명) 영업 중 삼겹살 술모임,주차,서민적인  \"대구 삼덕동에 위치한 고깃집입니다.\" 83해치 복현점 ------------- 69점 5.0 (2명) 영업 중 삼겹살 회식,예약,예약가능  \"복현동 먹자골목 고기 맛집, 직원들 텐션이 어마무시한 고깃집 😲 고기도 다 구워주고 편하게 먹기 좋은곳 매장도 넓어서 회식하기 좋을듯!\" 혜옥당 대구 ----------- 69점 4.9 (7명) 영업 중 삼겹살 술모임,캐주얼한  \"프라이빗한 느낌을 줘서 일반 고깃집보다 편안하게 즐길 수 있다 너무 시끌벅적한 느낌이 아니라 편안..레트로 인테리어가 정감있었던 구워주는 고깃집 맛있게 구워주셔서 좋은데 비계가 정말 많아서 마지막엔 살짝 느끼했다 그럴때 냉메밀면 먹으면 내려감\" 고기굽는남자 신세계점 ---------------- 69점 4.5 (11명) 영업 중 삼겹살 식사모임,무료주차,시끌벅적한,놀이방  \"오랜만에 방문했는데 역시 맛있어요!!!',\n",
       "  'score': 0.72814995,\n",
       "  'raw_content': '\\'대구 고깃집\\' 맛집 빅데이터 추천순위 Top100 - 다이닝코드\\n\\n\\n\\n이용자층\\n카테고리방문목적편의기능분위기인증맛집\\n\\n20대\\n30대\\n40대\\n50대\\n60대 이상\\n\\n\\n\\n여성\\n\\n남성\\n\\n\\n연관순\\n\\n평점순\\n리뷰많은순\\n좋아요많은순\\n거리순\\n\\n\\n대구 고깃집\\xa0맛집 (4,097곳)\\n\\n💁🏻 대구에서 많이 검색된 키워드\\n막창뭉티기뷔페24시간영업돈까스카페아침식사빵집더보기\\n1. 로산가옥 삼덕동 ------------ 75점 4.1 (14명) 영업 중 삼겹살 식사모임,시끌벅적한,콜키지  \"예쁜 고기집인 로산 가옥 웨이팅이 길고 안에가 생각보다 더워요\"\\n2. 상구네돼지구이 수성못점 ---------------- 75점 4.7 (23명) 영업 중 삼겹살 식사모임,무료주차,깔끔한,셀프바  \"외관도 고기집같지않고 패밀리 레스토랑 같아서 이쁩니다 직원들 친절한건 말할것도 없고 무엇보다 고기가 진짜 찐으로 맛있습니다\"\\n3. 육즙 대구 --------- 73점 5.0 (2명) 영업 중 삼겹살 회식,주차,예약,콜키지  \"직접 고기를 구워주시니 편했고 고기도 맛있는데 밑반찬이 진리입니댜\"\\n\\n4. 돼지만 본점 ---------- 72점 4.6 (9명) 영업 중 삼겹살 식사모임,무료주차,시끌벅적한,단체석  \"리모델링되어서 신축 제주도 돌담컨셉으로 리뉴얼되어서 깔끔해서 좋았다 단지 배가 부른상태로 2명이서 방문하였는데 저녁시간에는 3인분부터 주문가능임을 미리공지안하셔서 조금 당황했다\"\\n\\n5. 83해치 봉덕동 ------------ 71점 4.9 (4명) 영업 중 삼겹살 식사모임,주차,깔끔한  \"평소에 자주가는 맛집입니다 사장님 외에 다른 직원분들도 친절 하시고 직접 고기를 구워주시는 점에서 매우 마음에 들어요 이런저런 스몰토크나 여성분이 오시면 머리끈 혹은 춥다면 담요까\"\\n6. 고기굽는남자 본점 ------------- 72점 4.5 (12명) 영업 중 삼겹살 술모임,무료주차,시끌벅적한,단체석  \"제 최애 고깃집이에요\"\\n7. 미식가의구이 대구신월성점 ----------------- 71점 5.0 (6명) 영업 중 고깃집 술모임,발렛파킹,시끌벅적한  \"고기 상태가 좋아보였고 구워 먹었을 때 질기지않고 맛있었어요\"\\n8. 참한집 종로점 ----------- 72점 4.8 (11명) 영업 중 삼겹살 술모임,시끌벅적한  \"우연히 들렀다가 보물을 발견하고 꾸준히 가고 있는 고깃집이에요\"\\n9. 은하수식당 삼덕동 ------------- 72점 4.9 (6명) 영업 중 삼겹살 술모임,주차,서민적인  \"대구 삼덕동에 위치한 고깃집입니다.\"\\n10. 양파식당 대구 ------------ 76점 4.7 (13명) 영업 중 미국산소고기, 갈비살 술모임,무료주차,가성비좋은,놀이방  \"대구 24시간 고깃집, 가성비가 좋기로 유명한 양파식당...이 근처에 산다면 이만한 고깃집을 찾기는 힘들다...일반 고깃집에선 볼 수 없는 야끼니쿠를 먹을수 있다는것이 차별점이기도 하다...매번 사람이 친절할 순 없지만(알바가 잘못 걸리거나 사람이 워낙 많은 날)한 두번 이외에는 매우 친절했으며 밑반찬으로 처음에는 계란찜도 나오며 개인적으로는 고깃집에서 재래기를 고기\"\\n11. 돼지만왕 소금구이 진천동 ------------------ 69점 4.8 (6명) 영업 중 삼겹살 술모임,주차,캐주얼한  \"정말 맛 있는 삼겹살집. 굳이 흠을 잡자면 지역문화인 3인분 주문이 기본인 것, 하지만 기본반찬을 보면 그 마저도 용서가 된다. 최고\"\\n12. 83해치 복현점 ------------- 69점 5.0 (2명) 영업 중 삼겹살 회식,예약,예약가능  \"복현동 먹자골목 고기 맛집, 직원들 텐션이 어마무시한 고깃집 😲 고기도 다 구워주고 편하게 먹기 좋은곳 매장도 넓어서 회식하기 좋을듯!\"\\n13. 돼지싸다구 다사 ------------- 69점 4.6 (7명) 영업 중 돼지고기, 삼겹살 술모임,가성비좋은,단체석  \"직접 구워주시니 더 맛잇는거 같아요^^ 가족외식이나 회식자리에도 촣아요\"\\n14. 혜옥당 대구 ----------- 69점 4.9 (7명) 영업 중 삼겹살 술모임,캐주얼한  \"프라이빗한 느낌을 줘서 일반 고깃집보다 편안하게 즐길 수 있다 너무 시끌벅적한 느낌이 아니라 편안..레트로 인테리어가 정감있었던 구워주는 고깃집 맛있게 구워주셔서 좋은데 비계가 정말 많아서 마지막엔 살짝 느끼했다 그럴때 냉메밀면 먹으면 내려감\"\\n15. 고기굽는남자 신세계점 ---------------- 69점 4.5 (11명) 영업 중 삼겹살 식사모임,무료주차,시끌벅적한,놀이방  \"오랜만에 방문했는데 역시 맛있어요!!! 고기 구워주시니까 편하고 밑반찬도 많고 같이 구워먹을거리랑 멜젓도 나와서 좋아요. 술 시키니까 조개탕도 주네요 굿!!\"\\n16. 금돈미가 대구중구 -------------- 68점 5.0 (3명) 영업 중 삼겹살 데이트,주차,고급스러운,바테이블  \"여긴 진짜 오마카세 느낌이 가득한 고기집이였어요!..데이트 할때 가면 딱 좋을 고기집\"\\n17. 돼지만 왕소금구이 화원점 ------------------ 68점 5.0 (5명) 영업 중 삼겹살 가족외식,무료주차,지역주민이찾는,좌식테이블  \"삼겹살과 목살은 덩어리로 나오는데, 덩어리 고기가 육즙이 잘 잡힌다는 기본 상식이 확실한 맛집. 먹을수 있을때까지 구워주는 기가막힌 서비스로 자주 찾는 단골집이다. 콩나물 무침과 \"\\n18. 만재네 대구중구 ------------- 67점 4.5 (5명) 영업 중 삼겹살 술모임,주차,푸짐한,테라스  \"다른고기집보다 훨씬 깔끔하고 특히 목살이 너무 맛있고 된장술밥이랑 너무 잘어울려서 자주 방문합니다\"\\n19. 서민갈비 두산동 ------------- 72점 3.8 (15명) 영업 중 돼지갈비 회식,무료주차,시끌벅적한  \"돼지갈비 맛집이예요 직원분들이 고기 구워주셔서 편하게 먹을수 있습니다 주차장도 있어서 편리합니다\"\\n20. 박창우의소백산왕소금구이 율하 -------------------- 67점 5.0 (1명) 영업 중 삼겹살 모임장소,주차,숯불,테라스  \"가브리가 정말 미쳤음 지금껏 먹은 가브리중에 압도적 원탑임 된장찌개도 미침\"\\n\\n\\n\\n이 지역 재검색\\n맛집 20곳 더보기\\n1 로산가옥 삼덕동 삼겹살\\n2 상구네돼지구이 수성못점 삼겹살\\n3 육즙 대구 삼겹살\\n4 돼지만 본점 삼겹살\\n5 83해치 봉덕동 삼겹살\\n6 고기굽는남자 본점 삼겹살\\n7 미식가의구이 대구신월성점 고깃집\\n8 참한집 종로점 삼겹살\\n9 은하수식당 삼덕동 삼겹살\\n10 양파식당 대구 미국산소고기, 갈비살\\n11 돼지만왕 소금구이 진천동 삼겹살\\n12 83해치 복현점 삼겹살\\n13 돼지싸다구 다사 돼지고기, 삼겹살\\n14 혜옥당 대구 삼겹살\\n15 고기굽는남자 신세계점 삼겹살\\n16 금돈미가 대구중구 삼겹살\\n17 돼지만 왕소금구이 화원점 삼겹살\\n18 만재네 대구중구 삼겹살\\n19 서민갈비 두산동 돼지갈비\\n20 박창우의소백산왕소금구이 율하 삼겹살\\n\\n지도 확대 및 축소는 오른쪽 스크롤 바를 이용해 주세요.'},\n",
       " {'title': '2023년 ver. 내 맘대로 대구고기맛집 BEST5 순위 정하기! 뒷고기맛집 포함(구워주는 곳)',\n",
       "  'url': 'https://m.blog.naver.com/siye9012/223303238391',\n",
       "  'content': '「대구 평리동맛집」 八一 /팔일- 서구청고기맛집, 대구목살찐맛집 찾았다~~서비스도 역대급!안녕하세요 션이입니다. 「대구 신천동맛집」 눈꽃을 나누다-동대구역 앞 눈꽃삼겹살맛집, 볶음밥 필수안녕하세요 션이입니다 :) 대구에 고기맛집 너무 많죠! 「대구 종로1가 맛집」 혜옥당- 동성로 목살 맛있게 구워주는 웨이팅맛집안녕하세요 션이입니다~ 저 드디어 요즘 인기 많은 동성로 고기맛집에 다녀왔어요!! 「대구 범어동맛집」 향돈촌- 숯불에 구워주는 흑돼지통구이맛집, 점심장사 시작!안녕하세요 션이입니다. 「대구 삼덕동1가맛집」 임대장 대구동성로점- 동성로 골목 안 다 구워서 나오는 고기맛집안녕하세요 션이입니다. 「대구 범어동맛집」 빡빡이숯불화로구이 본점-신천시장 새벽에도 하는 삼겹살맛집안녕하세요 션이입니다. 이제 여기 간지도 거의 1년 반 정도되어 가는데 고기 가격 착하고 고기 구워주고 사이드 다 맛있어요. 꽃돼지식당 수성점/ 대구 수성동4가 신천시장 삼겹살맛집 1달에 1번 꼭 가는 또간집안녕하세요 션이입니다. 구워주는 곳)안녕하세요 션이입니다. 올해는 마로랑 대구 삼겹살 맛집을 진짜 많이 찾아 다닌 것 같아요. 뒷고기맛집 포함(구워주는 곳)\",\"source\":\"https://blog.naver.com/siye9012/223303238391\",\"blogName\":\"션이는 못 ..\",\"domainIdOrBlogId\":\"siye9012\",\"nicknameOrBlogId\":\"션이\",\"logNo\":223303238391,\"smartEditorVersion\":4,\"blogDisplay\":true,\"meDisplay\":true,\"lineDisplay\":true,\"outsideDisplay\":true,\"cafeDisplay\":true}',\n",
       "  'score': 0.6455898,\n",
       "  'raw_content': '2023년 ver. 내 맘대로 대구고기맛집 BEST5 순위 정하기! 뒷고기맛집 포함(구워주는 곳) : 네이버 블로그\\n \\n본문 바로가기\\n블로그\\n카테고리 이동 션이는 못 말려\\n\\n검색 MY메뉴 열기\\n\\n션이 먹부림\\n2023년 ver. 내 맘대로 대구고기맛집 BEST5 순위 정하기! 뒷고기맛집 포함(구워주는 곳)\\n\\n션이\\n2023. 12. 26. 9:53\\n이웃추가\\n본문 기타 기능\\n\\n본문 폰트 크기 조정 본문 폰트 크기 작게 보기 본문 폰트 크기 크게 보기 가\\n\\n공감하기\\n\\n\\n공유하기\\n\\nURL복사\\n신고하기\\n\\n[네이버 인플루언서] 션이션이는 못 말려 블로그 주인 ❝션이❞ 입니다🤍 ✨여행 좋아하는 여행 멍청이 입니다✨ 협찬&협업 문의 siye9012@naver.com 대구근교여행 대구카페투어 경북여행 in.naver.com\\n안녕하세요 션이입니다.\\n\\u200b\\n또 한해가 끝나가고 있어요..\\n저는 올해도 참 많은 고기집을 다녀왔어요.\\n\\u200b\\n연말에 다른 여행인플님들 크리스마스 best5 올릴 때 전 대구고기맛집 best5 한번 정해 볼까 합니다!\\n\\u200b\\n\\u200b\\n~마지막에 찐단골 고기맛집도 있음~\\n\\u200b\\n\\n금돈미가\\n대구 중구 대봉로 190-1 1층\\n\\n\\n추천메뉴: 삼겹살\\n1인분 150g 15,000원\\n\\u200b\\n웨이팅 있음\\n주차장 현금지원\\n본점 (분점없음)\\n\\u200b\\n\\n\\n\\u200b\\n금돈미가는 처음 마로가 데려가줘서 알게된 곳인데요. 고기집 분위기부터 좋고 삼겹살은 진짜 올해 먹은 것 중에 최고였어요.\\n\\u200b\\n잊을 수 없는 맛이였는데 마침 협찬이 들어와 나이스~ 하고 먹었던 곳이랍니다.ㅋㅋ\\n\\u200b\\n\\n\\n\\u200b\\n사이드로는 갈치속젓볶음밥 꼭 무조건 입니다!!!\\n\\u200b\\n금돈미가 동성로 근처 고기집, 대봉동맛집으로 삼겹살 맛있는 또간집!안녕하세요 션이입니다. 예전에 마로가 동성로근처 삼겹살맛집이 데려가 줬는데 이번에 또 한번 방문하게 ... blog.naver.com\\n금돈미가 리뷰\\n\\u200b\\n\\u200b\\n\\u200b\\n\\u200b\\n\\n팔일\\n대구 서구 국채보상로 241\\n\\n\\n추천메뉴: 목살\\n1인분 130g 13,000원\\n\\u200b\\n웨이팅 있음\\n주차장 없음\\n본점 (분점없음)\\n\\u200b\\n\\n\\u200b\\n\\u200b\\n올해 초부터 삼겹살만큼 대구목살맛집이라고 하는 유명한 곳은 다 갔는데 마지막에 목살원탑맛집 발견~~\\n\\u200b\\n팔일은 사장님이 고기에 대한 자부심부터가 다르고\\n모든 직원분들이 고기를 너무 잘 구워주신답니다.\\n\\u200b\\n목살 아무리 먹어도 질리지 않고 부드러워서 여기는 꼭 가보세요!!\\n\\u200b\\n\\n\\u200b\\n돼지찌개는 처음에 서비스로 나옴.\\n\\u200b\\n\\n\\n\\u200b\\n목살이랑 같이 추천메뉴 늑간살도 먹어 봤는데\\n목살이랑은 식감이 많이 달라서 매력있어요.\\n\\u200b\\n마지막에 돼지껍데기도 주문했는데\\n이거 완전 술안주로 대박입니다!!\\n물론 저희는 술은 안 먹었어요.ㅋㅋㅋ\\n찔기지 않고 부드러우면서 쫠깃이에요 쫠깃!!\\n\\u200b\\n\\n\\u200b\\n물냉면이 땡겨서 사이드로 주문했는데\\n이 집 물냉 잘하네요.\\n\\u200b\\n돼지껍데기랑 같이 먹어보세요.\\n식감 너무 좋고 조합도 최고였어요~~\\n\\u200b\\n「대구 평리동맛집」 八一 /팔일- 서구청고기맛집, 대구목살찐맛집 찾았다~~서비스도 역대급!안녕하세요 션이입니다. 얼마 전에 마로 퇴근하고 대구 서구청근처에 돼지고기맛집에 다녀왔어요. 八一 주... m.blog.naver.com\\n팔일 리뷰\\n\\u200b\\n\\u200b\\n\\u200b\\n\\u200b\\n\\n눈꽃을 나누다 동대구역점\\n대구 동구 동부로32길 1\\n\\n\\n추천메뉴: 삼겹살\\n1인분 150g 12,000원\\n\\u200b\\n웨이팅 있음\\n주차장 없음\\n분점방문 (본점 수성동)\\n\\u200b\\n\\n\\n\\u200b\\n대구삼겹살 중에서도 유명한 곳이죠.\\n몇번을 갔던 곳이지만 올해 유독 맛있었던 삼겹살.\\n\\u200b\\n칼집이 엄청 화려한 삼겹살을 한번 초벌해서 나오고 고기도 직접 구워주십니다!\\n처음에 고기 맛있게 먹는 조합을 알려주시는데 진짜 중독성 있는 조합이라 끝까지 같은 조합으로 먹게 되더라구요.\\n\\u200b\\n이 조합 때문에 한번씩 눈꽃을나누다가 생각나요~\\n\\u200b\\n\\n\\u200b\\n식사로는 볶음밥을 먹었어요.\\n\\u200b\\n소스랑 비빈 밥을 불판에서 다시 한번 볶고\\n김가루랑 또 한번 볶아주는데 와 역대급 볶음밥!\\n\\u200b\\n된찌랑 꼭 같이 먹어 주세요~\\n\\u200b\\n「대구 신천동맛집」 눈꽃을 나누다-동대구역 앞 눈꽃삼겹살맛집, 볶음밥 필수안녕하세요 션이입니다 :) 대구에 고기맛집 너무 많죠! 오늘은 그 중 동대구역 앞 눈꽃삼겹살맛집 포스팅을... blog.naver.com\\n눈꽃을나누다 리뷰\\n\\u200b\\n\\u200b\\n\\u200b\\n\\n혜옥당 본점\\n대구 중구 중앙대로81길 28 지상1, 2층\\n\\n\\n추천메뉴: 목살\\n1인분 130g 12,000원\\n\\u200b\\n웨이팅 있음\\n주차장 없음\\n본점방문 (분점있음)\\n\\u200b\\n\\n\\u200b\\n혜옥당도 대구목살맛집으로 유명한 곳!\\n목살 고기도 좋지만 기본적으로 반찬이 너무 잘 나와요.\\n\\u200b\\n\\u200b\\n반찬이 다양할 수록 고기를 다양하게 먹을 수 있다는데 장점!\\n하지만 그것도 고기가 맛있어야 가능한 말이죠~\\n\\u200b\\n직원분들이 고기 너무 잘 구워주시는데\\n목살 드세요.. 삼겹살은 좀..ㅎ\\n\\u200b\\n\\n\\u200b\\n사이드에 깍두기볶음밥 있는데 꼭 드세요!\\n너무 맛있어서 요즘 가끔 생각나요.ㅋㅋ\\n\\u200b\\n\\u200b\\n「대구 종로1가 맛집」 혜옥당- 동성로 목살 맛있게 구워주는 웨이팅맛집안녕하세요 션이입니다~ 저 드디어 요즘 인기 많은 동성로 고기맛집에 다녀왔어요!! 혜옥당 위치는 고기굽... blog.naver.com\\n혜옥당 리뷰\\n\\u200b\\n\\u200b\\n\\u200b\\n\\n참숯불김해부추와뒷고기\\n대구 동구 동부로 13-1 신천LH상가 101동 103호\\n\\n\\n추천메뉴: 뒷고기\\n1인분 130g 8,000원\\n\\u200b\\n웨이팅 있음\\n주차장 아파트상가이용\\n노포맛집\\n\\u200b\\n\\n\\u200b\\n뒷고기는 싼맛에 먹기도 하지만 약간 꼬들하고 아삭한식감도 중요하고 생고기인지 냉동인지도 중요한편.. 뒷고기에도 까다롭네 나.ㅋㅋ\\n\\u200b\\n여튼 여기는 사장님 부부가 하시는 것 같은데 손님 몰리면 주문하고 음식 나오는데 시간이 좀 걸릴 수 있어서 미리 넉넉하게 주문하는 걸 추천합니다.\\n\\u200b\\n\\n\\u200b\\n식당 이름에 부추가 있는 만큼 쌈에도 생부추가 나오고 부추장아찌도 있어요.\\n추가로 다양한 장아찌종류가 진짜 많이 나와요. 처음 먹어보는 것도 있었어요.\\n\\u200b\\n\\u200b\\n고기도 맛있지만 반찬도 끝내주는 곳~\\n\\u200b\\n\\n\\u200b\\n사이드에 몇가지 없는데 라면 주문하면\\n안에 부추 가득 들어 있고 국물이 시원해요!\\n\\u200b\\n「대구 신천동맛집」 참숯불김해부추와뒷고기- 아파트사이에 숨어 있는 신천시장근처 찐노포맛집안녕하세요 션이입니다. 얼마 전에 운동을 갔는데 오랜만에 운동 전에 밥을 먹고 갔어요. 선 단백질 후 운... blog.naver.com\\n참숯불김해부추와뒷고기후기\\n\\u200b\\n\\u200b\\n\\u200b\\n여기까지 2023년도 고기맛집 Best5\\n\\u200b\\n작년에 먹어 본 곳, 아직 못 가본 곳 많지만,\\n올해 제가 먹어본 고기는 중에서는 앞에 소개해드릴 곳이 가장 맛있었어요.\\n\\u200b\\n협찬으로 간 곳이지만 가본 곳 중에 베스트 확실하고 추가 원고료 받은 적 없기 때문에 리얼 입니다!\\n\\u200b\\n\\u200b\\n\\n지금부터는 맛은 정말 좋았지만\\n순위권에서 밀려난 대구고기맛집들..\\n\\u200b\\n\\n향돈촌\\n대구 수성구 상록로 14\\n\\n\\n\\u200b\\n흑돼지통구이라는 고기가 정말 부드럽고 맛있어요.\\n안에 자리가 넓지만 식당이 오래된 것 같아요.\\n\\u200b\\n\\n\\n\\u200b\\n반찬이 다양한데 맛있음.\\n또 생각나면 갈 의향 있는 곳.\\n\\u200b\\n\\n\\u200b\\n녹차비냉에 고기 같이 먹으면 너무 맛있다구요~\\n\\u200b\\n「대구 범어동맛집」 향돈촌- 숯불에 구워주는 흑돼지통구이맛집, 점심장사 시작!안녕하세요 션이입니다. 마로랑 범어동고기맛집이 있어서 다녀왔는데요. 약간 노포 분위기에 넓은네 회식장... blog.naver.com\\n\\u200b\\n\\u200b\\n\\u200b\\n\\u200b\\n\\n윤봉근돼지고기전문점\\n대구 동구 동부로30길 30\\n\\n\\n\\n\\u200b\\n수족관에서 저온침식숙성을 한다는 윤봉근고기는 삼겹살을 추천합니다.\\n삼겹살 맛있고 다 좋은데 약간 어수선한 분위기.ㅎ\\n\\u200b\\n\\n\\u200b\\n최근에 다른 곳에서 갈비를 먹어보고 든 생각인데\\n여기 갈비 참 맛있어요!!\\n\\u200b\\n사이드는 다 무난무난했어요.\\n\\u200b\\n「대구 신천동맛집」 윤봉근 돼지고기전문점 동대구점 -수족관 숙성삼겹살 동대구역근처안녕하세요 션이입니다. 여긴 연말에 다녀 온 곳인데 이제서야 포스팅 하네요. 마로가 찾아본 삼겹살맛집인... blog.naver.com\\n\\u200b\\n\\u200b\\n\\u200b\\n\\u200b\\n\\n임대장 대구동성로점\\n대구 중구 동성로3길 32-12\\n\\n\\n\\n\\u200b\\n대장모듬한판 먹어봤는데 야채부터 고기 다양하게 다 구워서 한판에 나오는 건 진짜 편하고 맛있다.\\n\\u200b\\n하지만 고기를 눈 앞에서 굽는 건 다 이유가 있다~\\n\\u200b\\n\\u200b\\n여러명이 가서 안 굽고 굽는 걸 기다리지 않고\\n바로 먹을 수 있다는 장점은 있지만 딱 그 정도.\\n\\u200b\\n물론 고기는 맛있었음.\\n\\u200b\\n「대구 삼덕동1가맛집」 임대장 대구동성로점- 동성로 골목 안 다 구워서 나오는 고기맛집안녕하세요 션이입니다. 운동 후에는 역시 고기.. 요즘 운동 하고 갈 식당이 고깃집 뿐이에요. 조금 속상하... m.blog.naver.com\\n\\u200b\\n\\u200b\\n\\u200b\\n\\u200b\\n\\n빡빡이본점\\n대구 수성구 들안로 395\\n\\n\\n\\n\\u200b\\n고기 가성비도 좋은데 질도 훌륭한 곳\\n새벽에 늦게까지 하는 곳 찾는 다면 추천!\\n\\u200b\\n친절하고 다 좋지만 맛집 of 맛집들에 밀렸을 뿐..\\n\\u200b\\n「대구 범어동맛집」 빡빡이숯불화로구이 본점-신천시장 새벽에도 하는 삼겹살맛집안녕하세요 션이입니다. 이번 명절에 밤에 늦게 밥 먹을 곳을 찾으로 갔는데 결국 또 고기를 먹으로 갔어요... blog.naver.com\\n\\u200b\\n\\u200b\\n\\n꽃돼지식당 수성점\\n대구 수성구 들안로 382 1,2층 꽃돼지식당\\n\\n\\n\\u200b\\n사실 진짜 찐은 여기!\\n1달에 한번 1년 꼬박 방문한 곳이랍니다.\\n\\u200b\\n이제 여기 간지도 거의 1년 반 정도되어 가는데 고기 가격 착하고 고기 구워주고 사이드 다 맛있어요.\\n늦게까지 하는 점도.👍🏻\\n\\u200b\\n체인점이지만 다른 지점 가본 결과\\n여기가 가장 맛있음.\\n\\u200b\\n\\n\\u200b\\n사이드로 떠먹는 걸 좋아한다면 전골을\\n밥을 좋아한다면 꼭 볶음밥 추천~\\n\\u200b\\n볶음밥은 고기 먹은 후 전골 먹은 후 다 가능!!\\n\\u200b\\n꽃돼지식당 수성점/ 대구 수성동4가 신천시장 삼겹살맛집 1달에 1번 꼭 가는 또간집안녕하세요 션이입니다. 저랑 마로는 1달에 한번 꼭 방문하고 있는 대구고기집이 있어요. 여긴 처음에 본캐... blog.naver.com\\n후기를 본계 작성 했지만 최근에 부계에 올렸었음!\\n사진은 좀 대충 찍었지만 찐맛집 어디 안갑니다~\\n\\u200b\\n\\u200b\\n\\u200b\\n\\u200b\\n\\u200b\\n\\n고기에 진심인 여행인플 션이입니다.\\n많관부탁드리고 대구고기 맛집추천도 받아요~~\\n\\u200b\\n\\u200b\\n\\u200b\\n\\n2022년 버전 대구고기맛집 top5\\n내 맘대로 2022년 대구 삼겹살맛집 BEST5 순위 정하기! 대구고기맛집 모음(ft. 구워주는 곳)안녕하세요 션이입니다. 올해는 마로랑 대구 삼겹살 맛집을 진짜 많이 찾아 다닌 것 같아요. 거의 삼겹살맛... blog.naver.com\\n\\n\\n#대구고기맛집\\n#대구삼겹살맛집\\n#대구목살맛집\\n#대구고기맛집모음\\n#대구목살맛집추천\\n#대구삼겹살맛집추천\\n#대구삼겹살\\n#대구목살\\n\\n\\n공감한 사람 보러가기\\n댓글 27 공유하기\\n{\"title\":\"2023년 ver. 내 맘대로 대구고기맛집 BEST5 순위 정하기! 뒷고기맛집 포함(구워주는 곳)\",\"source\":\"https://blog.naver.com/siye9012/223303238391\",\"blogName\":\"션이는 못 ..\",\"domainIdOrBlogId\":\"siye9012\",\"nicknameOrBlogId\":\"션이\",\"logNo\":223303238391,\"smartEditorVersion\":4,\"blogDisplay\":true,\"meDisplay\":true,\"lineDisplay\":true,\"outsideDisplay\":true,\"cafeDisplay\":true}\\n닫기\\n카테고리\\n이 블로그 홈\\n\\n공감한 사람 보러가기\\n댓글 27 공유하기\\n션이(siye9012) 님을 이웃추가하고 새글을 받아보세요\\n취소 이웃추가'},\n",
       " {'title': '2023년 ver. 내 맘대로 대구고기맛집 BEST5 순위 정하기! 뒷고기맛집 포함(구워주는 곳)',\n",
       "  'url': 'https://m.blog.naver.com/siye9012/223303238391',\n",
       "  'content': '「대구 평리동맛집」 八一 /팔일- 서구청고기맛집, 대구목살찐맛집 찾았다~~서비스도 역대급!안녕하세요 션이입니다. 「대구 신천동맛집」 눈꽃을 나누다-동대구역 앞 눈꽃삼겹살맛집, 볶음밥 필수안녕하세요 션이입니다 :) 대구에 고기맛집 너무 많죠! 「대구 종로1가 맛집」 혜옥당- 동성로 목살 맛있게 구워주는 웨이팅맛집안녕하세요 션이입니다~ 저 드디어 요즘 인기 많은 동성로 고기맛집에 다녀왔어요!! 「대구 범어동맛집」 향돈촌- 숯불에 구워주는 흑돼지통구이맛집, 점심장사 시작!안녕하세요 션이입니다. 「대구 삼덕동1가맛집」 임대장 대구동성로점- 동성로 골목 안 다 구워서 나오는 고기맛집안녕하세요 션이입니다. 「대구 범어동맛집」 빡빡이숯불화로구이 본점-신천시장 새벽에도 하는 삼겹살맛집안녕하세요 션이입니다. 이제 여기 간지도 거의 1년 반 정도되어 가는데 고기 가격 착하고 고기 구워주고 사이드 다 맛있어요. 꽃돼지식당 수성점/ 대구 수성동4가 신천시장 삼겹살맛집 1달에 1번 꼭 가는 또간집안녕하세요 션이입니다. 구워주는 곳)안녕하세요 션이입니다. 올해는 마로랑 대구 삼겹살 맛집을 진짜 많이 찾아 다닌 것 같아요. 뒷고기맛집 포함(구워주는 곳)\",\"source\":\"https://blog.naver.com/siye9012/223303238391\",\"blogName\":\"션이는 못 ..\",\"domainIdOrBlogId\":\"siye9012\",\"nicknameOrBlogId\":\"션이\",\"logNo\":223303238391,\"smartEditorVersion\":4,\"blogDisplay\":true,\"meDisplay\":true,\"lineDisplay\":true,\"outsideDisplay\":true,\"cafeDisplay\":true}',\n",
       "  'score': 0.6455898,\n",
       "  'raw_content': '2023년 ver. 내 맘대로 대구고기맛집 BEST5 순위 정하기! 뒷고기맛집 포함(구워주는 곳) : 네이버 블로그\\n \\n본문 바로가기\\n블로그\\n카테고리 이동 션이는 못 말려\\n\\n검색 MY메뉴 열기\\n\\n션이 먹부림\\n2023년 ver. 내 맘대로 대구고기맛집 BEST5 순위 정하기! 뒷고기맛집 포함(구워주는 곳)\\n\\n션이\\n2023. 12. 26. 9:53\\n이웃추가\\n본문 기타 기능\\n\\n본문 폰트 크기 조정 본문 폰트 크기 작게 보기 본문 폰트 크기 크게 보기 가\\n\\n공감하기\\n\\n\\n공유하기\\n\\nURL복사\\n신고하기\\n\\n[네이버 인플루언서] 션이션이는 못 말려 블로그 주인 ❝션이❞ 입니다🤍 ✨여행 좋아하는 여행 멍청이 입니다✨ 협찬&협업 문의 siye9012@naver.com 대구근교여행 대구카페투어 경북여행 in.naver.com\\n안녕하세요 션이입니다.\\n\\u200b\\n또 한해가 끝나가고 있어요..\\n저는 올해도 참 많은 고기집을 다녀왔어요.\\n\\u200b\\n연말에 다른 여행인플님들 크리스마스 best5 올릴 때 전 대구고기맛집 best5 한번 정해 볼까 합니다!\\n\\u200b\\n\\u200b\\n~마지막에 찐단골 고기맛집도 있음~\\n\\u200b\\n\\n금돈미가\\n대구 중구 대봉로 190-1 1층\\n\\n\\n추천메뉴: 삼겹살\\n1인분 150g 15,000원\\n\\u200b\\n웨이팅 있음\\n주차장 현금지원\\n본점 (분점없음)\\n\\u200b\\n\\n\\n\\u200b\\n금돈미가는 처음 마로가 데려가줘서 알게된 곳인데요. 고기집 분위기부터 좋고 삼겹살은 진짜 올해 먹은 것 중에 최고였어요.\\n\\u200b\\n잊을 수 없는 맛이였는데 마침 협찬이 들어와 나이스~ 하고 먹었던 곳이랍니다.ㅋㅋ\\n\\u200b\\n\\n\\n\\u200b\\n사이드로는 갈치속젓볶음밥 꼭 무조건 입니다!!!\\n\\u200b\\n금돈미가 동성로 근처 고기집, 대봉동맛집으로 삼겹살 맛있는 또간집!안녕하세요 션이입니다. 예전에 마로가 동성로근처 삼겹살맛집이 데려가 줬는데 이번에 또 한번 방문하게 ... blog.naver.com\\n금돈미가 리뷰\\n\\u200b\\n\\u200b\\n\\u200b\\n\\u200b\\n\\n팔일\\n대구 서구 국채보상로 241\\n\\n\\n추천메뉴: 목살\\n1인분 130g 13,000원\\n\\u200b\\n웨이팅 있음\\n주차장 없음\\n본점 (분점없음)\\n\\u200b\\n\\n\\u200b\\n\\u200b\\n올해 초부터 삼겹살만큼 대구목살맛집이라고 하는 유명한 곳은 다 갔는데 마지막에 목살원탑맛집 발견~~\\n\\u200b\\n팔일은 사장님이 고기에 대한 자부심부터가 다르고\\n모든 직원분들이 고기를 너무 잘 구워주신답니다.\\n\\u200b\\n목살 아무리 먹어도 질리지 않고 부드러워서 여기는 꼭 가보세요!!\\n\\u200b\\n\\n\\u200b\\n돼지찌개는 처음에 서비스로 나옴.\\n\\u200b\\n\\n\\n\\u200b\\n목살이랑 같이 추천메뉴 늑간살도 먹어 봤는데\\n목살이랑은 식감이 많이 달라서 매력있어요.\\n\\u200b\\n마지막에 돼지껍데기도 주문했는데\\n이거 완전 술안주로 대박입니다!!\\n물론 저희는 술은 안 먹었어요.ㅋㅋㅋ\\n찔기지 않고 부드러우면서 쫠깃이에요 쫠깃!!\\n\\u200b\\n\\n\\u200b\\n물냉면이 땡겨서 사이드로 주문했는데\\n이 집 물냉 잘하네요.\\n\\u200b\\n돼지껍데기랑 같이 먹어보세요.\\n식감 너무 좋고 조합도 최고였어요~~\\n\\u200b\\n「대구 평리동맛집」 八一 /팔일- 서구청고기맛집, 대구목살찐맛집 찾았다~~서비스도 역대급!안녕하세요 션이입니다. 얼마 전에 마로 퇴근하고 대구 서구청근처에 돼지고기맛집에 다녀왔어요. 八一 주... m.blog.naver.com\\n팔일 리뷰\\n\\u200b\\n\\u200b\\n\\u200b\\n\\u200b\\n\\n눈꽃을 나누다 동대구역점\\n대구 동구 동부로32길 1\\n\\n\\n추천메뉴: 삼겹살\\n1인분 150g 12,000원\\n\\u200b\\n웨이팅 있음\\n주차장 없음\\n분점방문 (본점 수성동)\\n\\u200b\\n\\n\\n\\u200b\\n대구삼겹살 중에서도 유명한 곳이죠.\\n몇번을 갔던 곳이지만 올해 유독 맛있었던 삼겹살.\\n\\u200b\\n칼집이 엄청 화려한 삼겹살을 한번 초벌해서 나오고 고기도 직접 구워주십니다!\\n처음에 고기 맛있게 먹는 조합을 알려주시는데 진짜 중독성 있는 조합이라 끝까지 같은 조합으로 먹게 되더라구요.\\n\\u200b\\n이 조합 때문에 한번씩 눈꽃을나누다가 생각나요~\\n\\u200b\\n\\n\\u200b\\n식사로는 볶음밥을 먹었어요.\\n\\u200b\\n소스랑 비빈 밥을 불판에서 다시 한번 볶고\\n김가루랑 또 한번 볶아주는데 와 역대급 볶음밥!\\n\\u200b\\n된찌랑 꼭 같이 먹어 주세요~\\n\\u200b\\n「대구 신천동맛집」 눈꽃을 나누다-동대구역 앞 눈꽃삼겹살맛집, 볶음밥 필수안녕하세요 션이입니다 :) 대구에 고기맛집 너무 많죠! 오늘은 그 중 동대구역 앞 눈꽃삼겹살맛집 포스팅을... blog.naver.com\\n눈꽃을나누다 리뷰\\n\\u200b\\n\\u200b\\n\\u200b\\n\\n혜옥당 본점\\n대구 중구 중앙대로81길 28 지상1, 2층\\n\\n\\n추천메뉴: 목살\\n1인분 130g 12,000원\\n\\u200b\\n웨이팅 있음\\n주차장 없음\\n본점방문 (분점있음)\\n\\u200b\\n\\n\\u200b\\n혜옥당도 대구목살맛집으로 유명한 곳!\\n목살 고기도 좋지만 기본적으로 반찬이 너무 잘 나와요.\\n\\u200b\\n\\u200b\\n반찬이 다양할 수록 고기를 다양하게 먹을 수 있다는데 장점!\\n하지만 그것도 고기가 맛있어야 가능한 말이죠~\\n\\u200b\\n직원분들이 고기 너무 잘 구워주시는데\\n목살 드세요.. 삼겹살은 좀..ㅎ\\n\\u200b\\n\\n\\u200b\\n사이드에 깍두기볶음밥 있는데 꼭 드세요!\\n너무 맛있어서 요즘 가끔 생각나요.ㅋㅋ\\n\\u200b\\n\\u200b\\n「대구 종로1가 맛집」 혜옥당- 동성로 목살 맛있게 구워주는 웨이팅맛집안녕하세요 션이입니다~ 저 드디어 요즘 인기 많은 동성로 고기맛집에 다녀왔어요!! 혜옥당 위치는 고기굽... blog.naver.com\\n혜옥당 리뷰\\n\\u200b\\n\\u200b\\n\\u200b\\n\\n참숯불김해부추와뒷고기\\n대구 동구 동부로 13-1 신천LH상가 101동 103호\\n\\n\\n추천메뉴: 뒷고기\\n1인분 130g 8,000원\\n\\u200b\\n웨이팅 있음\\n주차장 아파트상가이용\\n노포맛집\\n\\u200b\\n\\n\\u200b\\n뒷고기는 싼맛에 먹기도 하지만 약간 꼬들하고 아삭한식감도 중요하고 생고기인지 냉동인지도 중요한편.. 뒷고기에도 까다롭네 나.ㅋㅋ\\n\\u200b\\n여튼 여기는 사장님 부부가 하시는 것 같은데 손님 몰리면 주문하고 음식 나오는데 시간이 좀 걸릴 수 있어서 미리 넉넉하게 주문하는 걸 추천합니다.\\n\\u200b\\n\\n\\u200b\\n식당 이름에 부추가 있는 만큼 쌈에도 생부추가 나오고 부추장아찌도 있어요.\\n추가로 다양한 장아찌종류가 진짜 많이 나와요. 처음 먹어보는 것도 있었어요.\\n\\u200b\\n\\u200b\\n고기도 맛있지만 반찬도 끝내주는 곳~\\n\\u200b\\n\\n\\u200b\\n사이드에 몇가지 없는데 라면 주문하면\\n안에 부추 가득 들어 있고 국물이 시원해요!\\n\\u200b\\n「대구 신천동맛집」 참숯불김해부추와뒷고기- 아파트사이에 숨어 있는 신천시장근처 찐노포맛집안녕하세요 션이입니다. 얼마 전에 운동을 갔는데 오랜만에 운동 전에 밥을 먹고 갔어요. 선 단백질 후 운... blog.naver.com\\n참숯불김해부추와뒷고기후기\\n\\u200b\\n\\u200b\\n\\u200b\\n여기까지 2023년도 고기맛집 Best5\\n\\u200b\\n작년에 먹어 본 곳, 아직 못 가본 곳 많지만,\\n올해 제가 먹어본 고기는 중에서는 앞에 소개해드릴 곳이 가장 맛있었어요.\\n\\u200b\\n협찬으로 간 곳이지만 가본 곳 중에 베스트 확실하고 추가 원고료 받은 적 없기 때문에 리얼 입니다!\\n\\u200b\\n\\u200b\\n\\n지금부터는 맛은 정말 좋았지만\\n순위권에서 밀려난 대구고기맛집들..\\n\\u200b\\n\\n향돈촌\\n대구 수성구 상록로 14\\n\\n\\n\\u200b\\n흑돼지통구이라는 고기가 정말 부드럽고 맛있어요.\\n안에 자리가 넓지만 식당이 오래된 것 같아요.\\n\\u200b\\n\\n\\n\\u200b\\n반찬이 다양한데 맛있음.\\n또 생각나면 갈 의향 있는 곳.\\n\\u200b\\n\\n\\u200b\\n녹차비냉에 고기 같이 먹으면 너무 맛있다구요~\\n\\u200b\\n「대구 범어동맛집」 향돈촌- 숯불에 구워주는 흑돼지통구이맛집, 점심장사 시작!안녕하세요 션이입니다. 마로랑 범어동고기맛집이 있어서 다녀왔는데요. 약간 노포 분위기에 넓은네 회식장... blog.naver.com\\n\\u200b\\n\\u200b\\n\\u200b\\n\\u200b\\n\\n윤봉근돼지고기전문점\\n대구 동구 동부로30길 30\\n\\n\\n\\n\\u200b\\n수족관에서 저온침식숙성을 한다는 윤봉근고기는 삼겹살을 추천합니다.\\n삼겹살 맛있고 다 좋은데 약간 어수선한 분위기.ㅎ\\n\\u200b\\n\\n\\u200b\\n최근에 다른 곳에서 갈비를 먹어보고 든 생각인데\\n여기 갈비 참 맛있어요!!\\n\\u200b\\n사이드는 다 무난무난했어요.\\n\\u200b\\n「대구 신천동맛집」 윤봉근 돼지고기전문점 동대구점 -수족관 숙성삼겹살 동대구역근처안녕하세요 션이입니다. 여긴 연말에 다녀 온 곳인데 이제서야 포스팅 하네요. 마로가 찾아본 삼겹살맛집인... blog.naver.com\\n\\u200b\\n\\u200b\\n\\u200b\\n\\u200b\\n\\n임대장 대구동성로점\\n대구 중구 동성로3길 32-12\\n\\n\\n\\n\\u200b\\n대장모듬한판 먹어봤는데 야채부터 고기 다양하게 다 구워서 한판에 나오는 건 진짜 편하고 맛있다.\\n\\u200b\\n하지만 고기를 눈 앞에서 굽는 건 다 이유가 있다~\\n\\u200b\\n\\u200b\\n여러명이 가서 안 굽고 굽는 걸 기다리지 않고\\n바로 먹을 수 있다는 장점은 있지만 딱 그 정도.\\n\\u200b\\n물론 고기는 맛있었음.\\n\\u200b\\n「대구 삼덕동1가맛집」 임대장 대구동성로점- 동성로 골목 안 다 구워서 나오는 고기맛집안녕하세요 션이입니다. 운동 후에는 역시 고기.. 요즘 운동 하고 갈 식당이 고깃집 뿐이에요. 조금 속상하... m.blog.naver.com\\n\\u200b\\n\\u200b\\n\\u200b\\n\\u200b\\n\\n빡빡이본점\\n대구 수성구 들안로 395\\n\\n\\n\\n\\u200b\\n고기 가성비도 좋은데 질도 훌륭한 곳\\n새벽에 늦게까지 하는 곳 찾는 다면 추천!\\n\\u200b\\n친절하고 다 좋지만 맛집 of 맛집들에 밀렸을 뿐..\\n\\u200b\\n「대구 범어동맛집」 빡빡이숯불화로구이 본점-신천시장 새벽에도 하는 삼겹살맛집안녕하세요 션이입니다. 이번 명절에 밤에 늦게 밥 먹을 곳을 찾으로 갔는데 결국 또 고기를 먹으로 갔어요... blog.naver.com\\n\\u200b\\n\\u200b\\n\\n꽃돼지식당 수성점\\n대구 수성구 들안로 382 1,2층 꽃돼지식당\\n\\n\\n\\u200b\\n사실 진짜 찐은 여기!\\n1달에 한번 1년 꼬박 방문한 곳이랍니다.\\n\\u200b\\n이제 여기 간지도 거의 1년 반 정도되어 가는데 고기 가격 착하고 고기 구워주고 사이드 다 맛있어요.\\n늦게까지 하는 점도.👍🏻\\n\\u200b\\n체인점이지만 다른 지점 가본 결과\\n여기가 가장 맛있음.\\n\\u200b\\n\\n\\u200b\\n사이드로 떠먹는 걸 좋아한다면 전골을\\n밥을 좋아한다면 꼭 볶음밥 추천~\\n\\u200b\\n볶음밥은 고기 먹은 후 전골 먹은 후 다 가능!!\\n\\u200b\\n꽃돼지식당 수성점/ 대구 수성동4가 신천시장 삼겹살맛집 1달에 1번 꼭 가는 또간집안녕하세요 션이입니다. 저랑 마로는 1달에 한번 꼭 방문하고 있는 대구고기집이 있어요. 여긴 처음에 본캐... blog.naver.com\\n후기를 본계 작성 했지만 최근에 부계에 올렸었음!\\n사진은 좀 대충 찍었지만 찐맛집 어디 안갑니다~\\n\\u200b\\n\\u200b\\n\\u200b\\n\\u200b\\n\\u200b\\n\\n고기에 진심인 여행인플 션이입니다.\\n많관부탁드리고 대구고기 맛집추천도 받아요~~\\n\\u200b\\n\\u200b\\n\\u200b\\n\\n2022년 버전 대구고기맛집 top5\\n내 맘대로 2022년 대구 삼겹살맛집 BEST5 순위 정하기! 대구고기맛집 모음(ft. 구워주는 곳)안녕하세요 션이입니다. 올해는 마로랑 대구 삼겹살 맛집을 진짜 많이 찾아 다닌 것 같아요. 거의 삼겹살맛... blog.naver.com\\n\\n\\n#대구고기맛집\\n#대구삼겹살맛집\\n#대구목살맛집\\n#대구고기맛집모음\\n#대구목살맛집추천\\n#대구삼겹살맛집추천\\n#대구삼겹살\\n#대구목살\\n\\n\\n공감한 사람 보러가기\\n댓글 27 공유하기\\n{\"title\":\"2023년 ver. 내 맘대로 대구고기맛집 BEST5 순위 정하기! 뒷고기맛집 포함(구워주는 곳)\",\"source\":\"https://blog.naver.com/siye9012/223303238391\",\"blogName\":\"션이는 못 ..\",\"domainIdOrBlogId\":\"siye9012\",\"nicknameOrBlogId\":\"션이\",\"logNo\":223303238391,\"smartEditorVersion\":4,\"blogDisplay\":true,\"meDisplay\":true,\"lineDisplay\":true,\"outsideDisplay\":true,\"cafeDisplay\":true}\\n닫기\\n카테고리\\n이 블로그 홈\\n\\n공감한 사람 보러가기\\n댓글 27 공유하기\\n션이(siye9012) 님을 이웃추가하고 새글을 받아보세요\\n취소 이웃추가'},\n",
       " {'title': '대구에 오면 꼭 들려야할 고기맛집 리스트 Best 5 : 네이버 블로그',\n",
       "  'url': 'https://m.blog.naver.com/lbb_log/223094209123',\n",
       "  'content': '#대구고기맛집 #대구회식장소추천 #대구달서구맛집 #대구달서구고기집 #궁뎅이막창 #진천궁뎅이막창 #대구막창맛집 #목구멍대구점 #대구유천맛집 #고기굽는남자상인점 #상인동맛집 #대구상인고기집 #대구상인고깃집 #미진삼겹살월성점 #기린왕곱창',\n",
       "  'score': 0.5954225,\n",
       "  'raw_content': '블로그\\n\\n카테고리 이동\\n\\n\\n\\n\\n이빵의 빵앗간\\n\\n대구에 오면 꼭 들려야할 고기맛집 리스트 Best 5\\n\\n2023. 5. 5. 15:31\\n\\n\\n\\n내가 뽑은 고기맛집 BEST 5\\n\\n\\u200b\\n\\n어느날 나에게 달린 댓글\\n\\n‘추천해주신곳 너무 맛있게 잘먹었습니다,\\n\\n대구에 고기집맛있는곳 추천해줄수있을까요?’\\n\\n라는 댓글에서 시작하게된 포스팅\\n\\n곰곰히 이때동안 먹었던 고기들을 떠올리며\\n\\n그래도 진짜 친구들에게 추천할수있는곳을\\n\\n떠올렸을때 가격을 빼고 맛으로만\\n\\n추천드리는 내가 고른 고기맛집 Best 5\\n\\n지금 시작합니다!\\n\\n\\u200b\\n\\n\\u200b\\n\\n기린왕곱창\\n\\n화끈한 돌불판에 구워지는 모듬대창의 참맛\\n\\n안녕하세요! 이빵입니다 :-) 오늘 소개해드릴 곳은 정말 오랜만에 다녀온 모듬대창맛집! 가격대가 있는편이...\\n\\nm.blog.naver.com\\n\\n\\u200b\\n\\n돌불판에 지글지글 구워져서 나오는\\n\\n‘모듬 메뉴’\\n\\n\\u200b\\n\\n모듬이라는 이름에 걸맞게 대창,곱창,염통,양\\n\\n그리고 각종 야채들이 올라가 기름에 튀기듯\\n\\n구워지는게 이곳의 가장 큰 매력\\n\\n같이 주시는 부추무침을 곁들여먹으면\\n\\n느끼함을 잡아줘 무한정 들어가는 맛\\n\\n맛도 맛이지만 여자사장님의 친절함때문에\\n\\n양대창이 먹고싶을때마다 찾게되는 이곳,\\n\\n\\u200b\\n\\n대구광역시 달서구 조암남로32길 20-4 비스타115호\\n\\n\\u200b\\n\\n미진 삼겹살 월성점\\n\\n웨이팅 필수 월성맛집\\n\\n\\u200b\\n\\n안녕하세요! 이빵입니다 :-) 오늘 소개해드릴 리뷰는 대구 월성동에 위치한 삼겹살 맛집 #미진삼겹살월성점...\\n\\nm.blog.naver.com\\n\\n\\u200b\\n\\n매번 웨이팅이 있길래 궁금함에 방문,\\n\\n모듬메뉴를 주문하면 가브리살빼고 맛볼수있는데\\n\\n비리지않고 감칠맛 도는 맬젓이 매력,\\n\\n두툼한 삼겹살에 수분을 가득 머금어 육즙같이\\n\\n느껴지는 새송이버섯,쫀득바삭한 껍데기,\\n\\n맛깔나는 김치와 콩나물무침까지\\n\\n정신차려보면 내 불판이 비워져있는걸 볼수있다\\n\\n미진삼겹살에서만 맛볼수있는 비빔칼국수도\\n\\n필수로 주문해야한다!\\n\\n\\u200b\\n\\n대구광역시 달서구 조암남로14길 62-2 미진삼겹살 월성점\\n\\n\\u200b\\n\\n고기굽는 남자 상인점\\n\\n이미 너무 유명한 고기,사이드맛집\\n\\n안녕하세요! 이빵입니다 :-) 오늘 소개해드릴 맛집은 지나다닐때마다 손님이 많아 너무 궁금했던 대구 상인...\\n\\nm.blog.naver.com\\n\\n\\u200b\\n\\n동네에 새로 생긴 고기집 탐방한다고\\n\\n다녀온 ‘고기굽는남자 상인점’\\n\\n엄청난 웨이팅에 지쳐 돌아갈뻔했지만\\n\\n돌아갔으면 너무 후회했을것같은 고기맛집\\n\\n직원이 처음부터 끝까지 구워주는데다가\\n\\n고기 본연의 맛도 맛있지만 밑반찬과 양념장들이\\n\\n하나하나 맛있어서 그맛이 더 배로 느는 맛집\\n\\n특히 마무리로 사이드메뉴에 있는\\n\\n‘김치말이냉국수’ 를 먹으면 그동안 먹은 기름이\\n\\n싹다 씻겨내려가는 기분이라 추천!\\n\\n\\u200b\\n\\n대구광역시 달서구 월곡로 186 1층 고기굽는남자\\n\\n\\u200b\\n\\n목구멍 대구월배점\\n\\n추억의 솥뚜껑에 구워지는 미박삼겹살\\n\\n안녕하세요! 이빵입니다 :-) 오랜만에 오빠랑 두껍한 삼겹살이 너무 땡겨서 알아보고있던중 저희 동네에 삼...\\n\\nm.blog.naver.com\\n\\n\\u200b\\n\\n어린시절 우리 동네에 솥뚜껑에 삼겹살을 구워주는 삼겹살 맛집이 있었다.\\n\\n세월이 지나 그 집이 사라진뒤\\n\\n더이상 솥뚜껑에 구운 삼겹살을 먹을수없었는데\\n\\n대구 월배에 위치한 초록색 간판의 목구멍\\n\\n솥뚜껑에 구워 더 쫀득하고 육즙터지는 고기를\\n\\n맛볼수있다\\n\\n미나리철에 가면 청도 미나리도 같이 맛볼수있어\\n\\n미나리 철에 다시 한번 방문하게되는 곳\\n\\n특히 테이블위 옛날 쟁반이 놓여있어\\n\\n아날로그적인 감성을 더해준다\\n\\n대구광역시 달서구 조암남로32길 22 가동 1층\\n\\n\\u200b\\n\\n궁뎅이막창\\n\\n대구하면 막창! 막창하면 궁뎅이막창\\n\\n안녕하세요! 이빵입니다 :-) 오늘 소개해드릴 맛집은 진짜 오랜만에 먹었던 막창집! 대구하면 막창일정도로...\\n\\nm.blog.naver.com\\n\\n\\u200b\\n\\n쫀득하고 고소한 막창은 이미 너무 유명해져버린 대구의 별미\\n\\n안먹어본사람은 있어도 한번만 먹어본사람은 없다는 대구의 막창,\\n\\n1인분에 8,000원이라는 불경기에 단비같은 가격\\n\\n제일 좋은건 라면과 음료수가 무한리필이라는 사실!\\n\\n공짜는 뭐든 좋은 법이다~\\n\\n그외에도 황제쫀득살,삼겹살,양념갈비,닭발등\\n\\n다양한 고기들이 준비되어있는데요!\\n\\n\\u200b\\n\\n다만 아쉬운 점이 있다면 라면코너의 위생,,!\\n\\n\\u200b\\n\\n대구광역시 달서구 진천로 31\\n\\n\\u200b\\n\\n개인적인 기준으로\\n\\n삼겹살,대창,그리고 대구의 별미 막창까지!\\n\\n대구에서 먹은 고기집 BEST 5를 뽑아봤는데요!각자의 매력이 있어서\\n\\n한번쯤 방문해보시는걸 추천드립니다!\\n\\n저의 포스팅으로 맛있는 식사가 되셨으면 좋겠네요!\\n\\n\\u200b\\n\\n\\u200b\\n\\n\\u200b\\n\\n\\u200b\\n\\n#대구고기맛집 #대구회식장소추천 #대구달서구맛집 #대구달서구고기집 #궁뎅이막창 #진천궁뎅이막창 #대구막창맛집 #목구멍대구점 #대구유천맛집 #고기굽는남자상인점 #상인동맛집 #대구상인고기집 #대구상인고깃집 #미진삼겹살월성점 #기린왕곱창\\n\\n카테고리\\n\\n'},\n",
       " {'title': '대구에 오면 꼭 들려야할 고기맛집 리스트 Best 5 : 네이버 블로그',\n",
       "  'url': 'https://m.blog.naver.com/lbb_log/223094209123',\n",
       "  'content': '#대구고기맛집 #대구회식장소추천 #대구달서구맛집 #대구달서구고기집 #궁뎅이막창 #진천궁뎅이막창 #대구막창맛집 #목구멍대구점 #대구유천맛집 #고기굽는남자상인점 #상인동맛집 #대구상인고기집 #대구상인고깃집 #미진삼겹살월성점 #기린왕곱창',\n",
       "  'score': 0.5954225,\n",
       "  'raw_content': '블로그\\n\\n카테고리 이동\\n\\n\\n\\n\\n이빵의 빵앗간\\n\\n대구에 오면 꼭 들려야할 고기맛집 리스트 Best 5\\n\\n2023. 5. 5. 15:31\\n\\n\\n\\n내가 뽑은 고기맛집 BEST 5\\n\\n\\u200b\\n\\n어느날 나에게 달린 댓글\\n\\n‘추천해주신곳 너무 맛있게 잘먹었습니다,\\n\\n대구에 고기집맛있는곳 추천해줄수있을까요?’\\n\\n라는 댓글에서 시작하게된 포스팅\\n\\n곰곰히 이때동안 먹었던 고기들을 떠올리며\\n\\n그래도 진짜 친구들에게 추천할수있는곳을\\n\\n떠올렸을때 가격을 빼고 맛으로만\\n\\n추천드리는 내가 고른 고기맛집 Best 5\\n\\n지금 시작합니다!\\n\\n\\u200b\\n\\n\\u200b\\n\\n기린왕곱창\\n\\n화끈한 돌불판에 구워지는 모듬대창의 참맛\\n\\n안녕하세요! 이빵입니다 :-) 오늘 소개해드릴 곳은 정말 오랜만에 다녀온 모듬대창맛집! 가격대가 있는편이...\\n\\nm.blog.naver.com\\n\\n\\u200b\\n\\n돌불판에 지글지글 구워져서 나오는\\n\\n‘모듬 메뉴’\\n\\n\\u200b\\n\\n모듬이라는 이름에 걸맞게 대창,곱창,염통,양\\n\\n그리고 각종 야채들이 올라가 기름에 튀기듯\\n\\n구워지는게 이곳의 가장 큰 매력\\n\\n같이 주시는 부추무침을 곁들여먹으면\\n\\n느끼함을 잡아줘 무한정 들어가는 맛\\n\\n맛도 맛이지만 여자사장님의 친절함때문에\\n\\n양대창이 먹고싶을때마다 찾게되는 이곳,\\n\\n\\u200b\\n\\n대구광역시 달서구 조암남로32길 20-4 비스타115호\\n\\n\\u200b\\n\\n미진 삼겹살 월성점\\n\\n웨이팅 필수 월성맛집\\n\\n\\u200b\\n\\n안녕하세요! 이빵입니다 :-) 오늘 소개해드릴 리뷰는 대구 월성동에 위치한 삼겹살 맛집 #미진삼겹살월성점...\\n\\nm.blog.naver.com\\n\\n\\u200b\\n\\n매번 웨이팅이 있길래 궁금함에 방문,\\n\\n모듬메뉴를 주문하면 가브리살빼고 맛볼수있는데\\n\\n비리지않고 감칠맛 도는 맬젓이 매력,\\n\\n두툼한 삼겹살에 수분을 가득 머금어 육즙같이\\n\\n느껴지는 새송이버섯,쫀득바삭한 껍데기,\\n\\n맛깔나는 김치와 콩나물무침까지\\n\\n정신차려보면 내 불판이 비워져있는걸 볼수있다\\n\\n미진삼겹살에서만 맛볼수있는 비빔칼국수도\\n\\n필수로 주문해야한다!\\n\\n\\u200b\\n\\n대구광역시 달서구 조암남로14길 62-2 미진삼겹살 월성점\\n\\n\\u200b\\n\\n고기굽는 남자 상인점\\n\\n이미 너무 유명한 고기,사이드맛집\\n\\n안녕하세요! 이빵입니다 :-) 오늘 소개해드릴 맛집은 지나다닐때마다 손님이 많아 너무 궁금했던 대구 상인...\\n\\nm.blog.naver.com\\n\\n\\u200b\\n\\n동네에 새로 생긴 고기집 탐방한다고\\n\\n다녀온 ‘고기굽는남자 상인점’\\n\\n엄청난 웨이팅에 지쳐 돌아갈뻔했지만\\n\\n돌아갔으면 너무 후회했을것같은 고기맛집\\n\\n직원이 처음부터 끝까지 구워주는데다가\\n\\n고기 본연의 맛도 맛있지만 밑반찬과 양념장들이\\n\\n하나하나 맛있어서 그맛이 더 배로 느는 맛집\\n\\n특히 마무리로 사이드메뉴에 있는\\n\\n‘김치말이냉국수’ 를 먹으면 그동안 먹은 기름이\\n\\n싹다 씻겨내려가는 기분이라 추천!\\n\\n\\u200b\\n\\n대구광역시 달서구 월곡로 186 1층 고기굽는남자\\n\\n\\u200b\\n\\n목구멍 대구월배점\\n\\n추억의 솥뚜껑에 구워지는 미박삼겹살\\n\\n안녕하세요! 이빵입니다 :-) 오랜만에 오빠랑 두껍한 삼겹살이 너무 땡겨서 알아보고있던중 저희 동네에 삼...\\n\\nm.blog.naver.com\\n\\n\\u200b\\n\\n어린시절 우리 동네에 솥뚜껑에 삼겹살을 구워주는 삼겹살 맛집이 있었다.\\n\\n세월이 지나 그 집이 사라진뒤\\n\\n더이상 솥뚜껑에 구운 삼겹살을 먹을수없었는데\\n\\n대구 월배에 위치한 초록색 간판의 목구멍\\n\\n솥뚜껑에 구워 더 쫀득하고 육즙터지는 고기를\\n\\n맛볼수있다\\n\\n미나리철에 가면 청도 미나리도 같이 맛볼수있어\\n\\n미나리 철에 다시 한번 방문하게되는 곳\\n\\n특히 테이블위 옛날 쟁반이 놓여있어\\n\\n아날로그적인 감성을 더해준다\\n\\n대구광역시 달서구 조암남로32길 22 가동 1층\\n\\n\\u200b\\n\\n궁뎅이막창\\n\\n대구하면 막창! 막창하면 궁뎅이막창\\n\\n안녕하세요! 이빵입니다 :-) 오늘 소개해드릴 맛집은 진짜 오랜만에 먹었던 막창집! 대구하면 막창일정도로...\\n\\nm.blog.naver.com\\n\\n\\u200b\\n\\n쫀득하고 고소한 막창은 이미 너무 유명해져버린 대구의 별미\\n\\n안먹어본사람은 있어도 한번만 먹어본사람은 없다는 대구의 막창,\\n\\n1인분에 8,000원이라는 불경기에 단비같은 가격\\n\\n제일 좋은건 라면과 음료수가 무한리필이라는 사실!\\n\\n공짜는 뭐든 좋은 법이다~\\n\\n그외에도 황제쫀득살,삼겹살,양념갈비,닭발등\\n\\n다양한 고기들이 준비되어있는데요!\\n\\n\\u200b\\n\\n다만 아쉬운 점이 있다면 라면코너의 위생,,!\\n\\n\\u200b\\n\\n대구광역시 달서구 진천로 31\\n\\n\\u200b\\n\\n개인적인 기준으로\\n\\n삼겹살,대창,그리고 대구의 별미 막창까지!\\n\\n대구에서 먹은 고기집 BEST 5를 뽑아봤는데요!각자의 매력이 있어서\\n\\n한번쯤 방문해보시는걸 추천드립니다!\\n\\n저의 포스팅으로 맛있는 식사가 되셨으면 좋겠네요!\\n\\n\\u200b\\n\\n\\u200b\\n\\n\\u200b\\n\\n\\u200b\\n\\n#대구고기맛집 #대구회식장소추천 #대구달서구맛집 #대구달서구고기집 #궁뎅이막창 #진천궁뎅이막창 #대구막창맛집 #목구멍대구점 #대구유천맛집 #고기굽는남자상인점 #상인동맛집 #대구상인고기집 #대구상인고깃집 #미진삼겹살월성점 #기린왕곱창\\n\\n카테고리\\n\\n'}]"
      ]
     },
     "execution_count": 72,
     "metadata": {},
     "output_type": "execute_result"
    }
   ],
   "source": [
    "# 웹 검색 도구 호출\n",
    "result = web_search_tool.search('대구 고깃집에 대해서 알려주세요')\n",
    "result"
   ]
  },
  {
   "cell_type": "markdown",
   "metadata": {},
   "source": [
    "### 웹 검색 노드"
   ]
  },
  {
   "cell_type": "code",
   "execution_count": 73,
   "metadata": {},
   "outputs": [],
   "source": [
    "# 웹 검색 노드\n",
    "def web_search(state):\n",
    "\n",
    "    question = state['question']    # 사용자 질문\n",
    "\n",
    "    web_results = web_search_tool.invoke({\"query\": question})   # 웹 검색 수행\n",
    "\n",
    "    web_results_docs = []\n",
    "    \n",
    "    for result in web_results:\n",
    "        doc = Document(\n",
    "            page_content=result[\"content\"],\n",
    "            metadata={\"source\": result[\"url\"]}\n",
    "        )\n",
    "        web_results_docs.append(doc)\n",
    "        \n",
    "\n",
    "    return {\"documents\": web_results_docs}"
   ]
  },
  {
   "cell_type": "code",
   "execution_count": 74,
   "metadata": {},
   "outputs": [
    {
     "data": {
      "text/plain": [
       "{'documents': [Document(metadata={'source': 'https://www.fnnews.com/news/202309031940191378'}, page_content='삼성전자 생성형 AI 이름은 \\'삼성 가우스\\' \\'가이스\\' - 파이낸셜뉴스 삼성전자 생성형 AI 이름은 \\'삼성 가우스\\' \\'가이스\\' 삼성전자가 자체 생성형 인공지능(AI) 서비스 상표권을 출원하며 연내 상용화를 위해 속도를 내고 있다. 전경훈 삼성전자 DX부문 최고기술책임자(CTO) 겸 삼성리서치장(사장)은 최근 사내 타운홀 미팅에서 자체 생성형 AI 개발 방향성을 코딩 지원, 문서 요약, 이메일 전송 등 사내 생산성 향상과 삼성 디바이스 탑재 등 두 가지로 설명한 바 있다. 가출 후 2주 만에 실종된 남편, 숨진 채 발견 [속보]김현태 707단장 \"곽종근 자수서에 \\'국회의원\\' \\'끌어내라\\' 단어 없다\" [속보]김현태 707단장 \"尹지시가 단전 배경이란 건 내용 안 맞아\" 현대차 크레타 EV, 인도서 돌풍…2주 만에 1700대 판매 가출 후 2주 만에 실종된 남편, 숨진 채 발견 \"청소 아줌마, 당 떨어진다며 3만원 양갱 몰래 먹어…따지니 \\'엄마뻘한테?\\'\" [어떻게 생각하세요] \"9개월 만에 20kg 감량\" 20대 여성이 밝힌 놀라운 비법은'),\n",
       "  Document(metadata={'source': 'https://www.fnnews.com/news/202309031940191378'}, page_content='삼성전자 생성형 AI 이름은 \\'삼성 가우스\\' \\'가이스\\' - 파이낸셜뉴스 삼성전자 생성형 AI 이름은 \\'삼성 가우스\\' \\'가이스\\' 삼성전자가 자체 생성형 인공지능(AI) 서비스 상표권을 출원하며 연내 상용화를 위해 속도를 내고 있다. 전경훈 삼성전자 DX부문 최고기술책임자(CTO) 겸 삼성리서치장(사장)은 최근 사내 타운홀 미팅에서 자체 생성형 AI 개발 방향성을 코딩 지원, 문서 요약, 이메일 전송 등 사내 생산성 향상과 삼성 디바이스 탑재 등 두 가지로 설명한 바 있다. 가출 후 2주 만에 실종된 남편, 숨진 채 발견 [속보]김현태 707단장 \"곽종근 자수서에 \\'국회의원\\' \\'끌어내라\\' 단어 없다\" [속보]김현태 707단장 \"尹지시가 단전 배경이란 건 내용 안 맞아\" 현대차 크레타 EV, 인도서 돌풍…2주 만에 1700대 판매 가출 후 2주 만에 실종된 남편, 숨진 채 발견 \"청소 아줌마, 당 떨어진다며 3만원 양갱 몰래 먹어…따지니 \\'엄마뻘한테?\\'\" [어떻게 생각하세요] \"9개월 만에 20kg 감량\" 20대 여성이 밝힌 놀라운 비법은'),\n",
       "  Document(metadata={'source': 'https://www.yna.co.kr/view/AKR20231108041400003'}, page_content=\"삼성전자, 자체 개발한 생성형 AI '삼성 가우스' 첫 공개 | 연합뉴스 삼성전자, 자체 개발한 생성형 AI '삼성 가우스' 첫 공개 삼성전자, 자체 개발한 생성형 AI '삼성 가우스' 첫 공개 삼성전자[005930]가 자체 개발한 생성형 인공지능(AI) 모델 '삼성 가우스'(Samsung Gauss)가 처음 공개됐다. (서울=연합뉴스) 장하나 기자 = 삼성전자[005930]가 자체 개발한 생성형 인공지능(AI) 모델 '삼성 가우스'(Samsung Gauss)가 처음 공개됐다. 환영사 하는 김대현 부사장(서울=연합뉴스) 김대현 삼성전자 부사장이 8일 서울 서초구 삼성전자 서울R&D캠퍼스에서 열린 '삼성 AI 포럼 2023'에서 환영사를 하고 있다. 삼성전자가 자체 개발한 생성형 AI '삼성 가우스'[삼성전자 제공. 강연하는 제이슨 웨이 오픈AI 연구원(서울=연합뉴스) 제이슨 웨이 삼성 오픈AI 연구원이 8일 서울 서초구 삼성전자 서울R&D캠퍼스에서 열린 '삼성 AI 포럼 2023'에서 '대규모 언어 모델 르네상스의 새로운 패러다임'을 주제로 강연하고 있다.\"),\n",
       "  Document(metadata={'source': 'https://www.yna.co.kr/view/AKR20231108041400003'}, page_content=\"삼성전자, 자체 개발한 생성형 AI '삼성 가우스' 첫 공개 | 연합뉴스 삼성전자, 자체 개발한 생성형 AI '삼성 가우스' 첫 공개 삼성전자, 자체 개발한 생성형 AI '삼성 가우스' 첫 공개 삼성전자[005930]가 자체 개발한 생성형 인공지능(AI) 모델 '삼성 가우스'(Samsung Gauss)가 처음 공개됐다. (서울=연합뉴스) 장하나 기자 = 삼성전자[005930]가 자체 개발한 생성형 인공지능(AI) 모델 '삼성 가우스'(Samsung Gauss)가 처음 공개됐다. 환영사 하는 김대현 부사장(서울=연합뉴스) 김대현 삼성전자 부사장이 8일 서울 서초구 삼성전자 서울R&D캠퍼스에서 열린 '삼성 AI 포럼 2023'에서 환영사를 하고 있다. 삼성전자가 자체 개발한 생성형 AI '삼성 가우스'[삼성전자 제공. 강연하는 제이슨 웨이 오픈AI 연구원(서울=연합뉴스) 제이슨 웨이 삼성 오픈AI 연구원이 8일 서울 서초구 삼성전자 서울R&D캠퍼스에서 열린 '삼성 AI 포럼 2023'에서 '대규모 언어 모델 르네상스의 새로운 패러다임'을 주제로 강연하고 있다.\"),\n",
       "  Document(metadata={'source': 'https://www.chosun.com/economy/tech_it/2023/11/08/IHCUCZUPXBCNDCCDYSA7NJFBHE/'}, page_content=\"삼성이 자체 개발한 생성형 AI ‘삼성 가우스’ 첫 공개 신문구독|中文|English|日本語 삼성이 자체 개발한 생성형 AI '삼성 가우스' 첫 공개 삼성전자가 자체 개발한 생성형 AI 삼성 가우스 소개 포스터. 삼성전자가 자체 개발한 생성형 인공지능(AI) ‘삼성 가우스’를 드디어 공개했다. 8일 삼성전자는 서울 서초구 서울R&D캠퍼스에서 열린 ‘삼성 AI 포럼 2023′ 행사에서 삼성리서치가 개발한 생성형 AI 모델 ‘삼성 가우스’를 처음으로 공개했다. 삼성의 첫 자체 제작 생성 AI ‘삼성 가우스’는 머신 러닝 기술을 기반으로 개발됐다. 이미지 모델은 달리 2(DALL·E), 미드저니, 스테이블 디퓨전 같은 생성형 AI 이미지 모델로 사진이나 그림 등 창의적인 이미지를 손쉽게 만들 수 있도록 돕는다. 한편 삼성전자 내 반도체 사업을 담당하는 DS 부문은 삼성 가우스 대신 지난 8월 출시한 네이버클라우드의 기업용 AI 서비스 ‘뉴로클라우드 포 하이퍼클로바X’를 쓰는 방안을 추진하는 것으로 알려졌다. 정치 일반\"),\n",
       "  Document(metadata={'source': 'https://www.chosun.com/economy/tech_it/2023/11/08/IHCUCZUPXBCNDCCDYSA7NJFBHE/'}, page_content=\"삼성이 자체 개발한 생성형 AI ‘삼성 가우스’ 첫 공개 신문구독|中文|English|日本語 삼성이 자체 개발한 생성형 AI '삼성 가우스' 첫 공개 삼성전자가 자체 개발한 생성형 AI 삼성 가우스 소개 포스터. 삼성전자가 자체 개발한 생성형 인공지능(AI) ‘삼성 가우스’를 드디어 공개했다. 8일 삼성전자는 서울 서초구 서울R&D캠퍼스에서 열린 ‘삼성 AI 포럼 2023′ 행사에서 삼성리서치가 개발한 생성형 AI 모델 ‘삼성 가우스’를 처음으로 공개했다. 삼성의 첫 자체 제작 생성 AI ‘삼성 가우스’는 머신 러닝 기술을 기반으로 개발됐다. 이미지 모델은 달리 2(DALL·E), 미드저니, 스테이블 디퓨전 같은 생성형 AI 이미지 모델로 사진이나 그림 등 창의적인 이미지를 손쉽게 만들 수 있도록 돕는다. 한편 삼성전자 내 반도체 사업을 담당하는 DS 부문은 삼성 가우스 대신 지난 8월 출시한 네이버클라우드의 기업용 AI 서비스 ‘뉴로클라우드 포 하이퍼클로바X’를 쓰는 방안을 추진하는 것으로 알려졌다. 정치 일반\")]}"
      ]
     },
     "execution_count": 74,
     "metadata": {},
     "output_type": "execute_result"
    }
   ],
   "source": [
    "web_search(state)"
   ]
  },
  {
   "cell_type": "markdown",
   "metadata": {},
   "source": [
    "### 질문 라우팅 노드"
   ]
  },
  {
   "cell_type": "code",
   "execution_count": 75,
   "metadata": {},
   "outputs": [],
   "source": [
    "class RouteQuery(BaseModel):    \n",
    "    \"\"\"Route a user query to the most relevant datasource.\"\"\"\n",
    "\n",
    "    datasource: Literal[\"vectorstore\", \"web_search\"] = Field(\n",
    "        ...,\n",
    "        description=\"Given a user question choose to route it to web search or a vectorstore.\",\n",
    "    )\n",
    "\n",
    "\n",
    "llm = ChatOpenAI(\n",
    "    api_key=key, \n",
    "    model='gpt-4o-mini', \n",
    "    temperature=0\n",
    ")\n",
    "\n",
    "# 구조화된 출력을 결과로 가젼온다 (vectorstore, web_search)\n",
    "structured_llm_router = llm.with_structured_output(RouteQuery)\n",
    "\n",
    "# 시스템 메시지\n",
    "system = \"\"\"You are an expert at routing a user question to a vectorstore or web search.\n",
    "The vectorstore contains documents related to DEC 2023 AI Brief Report(SPRI) with Samsung Gause, Anthropic, etc.\n",
    "Use the vectorstore for questions on these topics. Otherwise, use web-search.\"\"\"\n",
    "\n",
    "# 프롬프트\n",
    "route_prompt = ChatPromptTemplate.from_messages(\n",
    "    [\n",
    "        ('system', system), \n",
    "        ('human', '{question}')\n",
    "    ]\n",
    ")\n",
    "\n",
    "question_router = route_prompt | structured_llm_router"
   ]
  },
  {
   "cell_type": "code",
   "execution_count": 76,
   "metadata": {},
   "outputs": [
    {
     "data": {
      "text/plain": [
       "RouteQuery(datasource='vectorstore')"
      ]
     },
     "execution_count": 76,
     "metadata": {},
     "output_type": "execute_result"
    }
   ],
   "source": [
    "# 쿼리 라우팅 테스트 (문서 검색이 필요한 질문)\n",
    "result = question_router.invoke({'question': 'AI Brief 에서 삼성전자가 만든 생성형 AI 이름은?'})\n",
    "result"
   ]
  },
  {
   "cell_type": "code",
   "execution_count": 77,
   "metadata": {},
   "outputs": [
    {
     "data": {
      "text/plain": [
       "RouteQuery(datasource='web_search')"
      ]
     },
     "execution_count": 77,
     "metadata": {},
     "output_type": "execute_result"
    }
   ],
   "source": [
    "# 쿼리 라우팅 테스트 (웹 검색이 필요한)\n",
    "result = question_router.invoke({'question': '대구 중앙떡볶이에 대해서 알려줘.'})\n",
    "result"
   ]
  },
  {
   "cell_type": "markdown",
   "metadata": {},
   "source": [
    "### 질문 라우팅 노드"
   ]
  },
  {
   "cell_type": "code",
   "execution_count": 78,
   "metadata": {},
   "outputs": [],
   "source": [
    "# 질문 라우팅 노드\n",
    "def route_question(state: GraphState):\n",
    "    print('\\n==========================================================================================')\n",
    "    print('🔄 [Node] 질문 라우팅 노드 🔄')\n",
    "\n",
    "    # 사용자 질문\n",
    "    question = state['question']\n",
    "\n",
    "    # 질문 라우팅\n",
    "    source = question_router.invoke({'question': question})\n",
    "\n",
    "    if source.datasource == \"web_search\":\n",
    "        print(\"==== [ROUTE QUESTION TO WEB SEARCH] ====\")\n",
    "        print('==========================================================================================\\n')\n",
    "        return \"web_search\"\n",
    "    elif source.datasource == \"vectorstore\":\n",
    "        print(\"==== [ROUTE QUESTION TO VECTORSTORE] ====\")\n",
    "        print('==========================================================================================\\n')\n",
    "        return \"vectorstore\""
   ]
  },
  {
   "cell_type": "code",
   "execution_count": 79,
   "metadata": {},
   "outputs": [
    {
     "name": "stdout",
     "output_type": "stream",
     "text": [
      "\n",
      "==========================================================================================\n",
      "🔄 [Node] 질문 라우팅 노드 🔄\n",
      "==== [ROUTE QUESTION TO VECTORSTORE] ====\n",
      "==========================================================================================\n",
      "\n"
     ]
    },
    {
     "data": {
      "text/plain": [
       "'vectorstore'"
      ]
     },
     "execution_count": 79,
     "metadata": {},
     "output_type": "execute_result"
    }
   ],
   "source": [
    "route_question(state)"
   ]
  },
  {
   "cell_type": "markdown",
   "metadata": {},
   "source": [
    "### 문서 관련성 평가 노드"
   ]
  },
  {
   "cell_type": "code",
   "execution_count": 80,
   "metadata": {},
   "outputs": [],
   "source": [
    "# 문서 관련성 평가 노드\n",
    "def decide_to_generate(state: GraphState):\n",
    "    print('\\n==========================================================================================')\n",
    "    print('🔄 [Node] 문서 관련성 평가 노드 🔄')\n",
    "\n",
    "    # 문서 검색 결과 가져오기\n",
    "    filtered_documents = state['documents']\n",
    "\n",
    "    if not filtered_documents:                              # 문서가 없는 경우 (모든 문서가 관련성 없는 문서)\n",
    "        print(f'===== [DECISION: ALL DOCUMENTS ARE NOT RELEVANT TO QUESTION, TRANSFORM QUERY] =====')\n",
    "        print('==========================================================================================\\n')\n",
    "        return \"transform_query\"        \n",
    "    else:                                                   # 관련성 있는 문서가 있는 경우\n",
    "        print(f\"===== [DECISION: GENERATE] =====\")\n",
    "        print('==========================================================================================\\n')\n",
    "        return \"generate\""
   ]
  },
  {
   "cell_type": "code",
   "execution_count": 81,
   "metadata": {},
   "outputs": [
    {
     "name": "stdout",
     "output_type": "stream",
     "text": [
      "\n",
      "==========================================================================================\n",
      "🔄 [Node] 문서 관련성 평가 노드 🔄\n",
      "===== [DECISION: GENERATE] =====\n",
      "==========================================================================================\n",
      "\n"
     ]
    },
    {
     "data": {
      "text/plain": [
       "'generate'"
      ]
     },
     "execution_count": 81,
     "metadata": {},
     "output_type": "execute_result"
    }
   ],
   "source": [
    "decide_to_generate(state)"
   ]
  },
  {
   "cell_type": "markdown",
   "metadata": {},
   "source": [
    "# 답변에 대한 Hallucination checker 추가"
   ]
  },
  {
   "cell_type": "code",
   "execution_count": 82,
   "metadata": {},
   "outputs": [],
   "source": [
    "from langchain_openai import ChatOpenAI\n",
    "from langchain_core.prompts import ChatPromptTemplate\n",
    "from langchain_core.output_parsers import StrOutputParser\n",
    "\n",
    "class GradeHallucinations(BaseModel):\n",
    "    \"\"\"Binary score for hallucination present in generation answer.\"\"\"\n",
    "\n",
    "    binary_score: str = Field(\n",
    "        description=\"Answer is grounded in the facts, 'yes' or 'no'\"\n",
    "    )\n",
    "\n",
    "\n",
    "llm = ChatOpenAI(\n",
    "    api_key=key, \n",
    "    model='gpt-4o-mini', \n",
    "    temperature=0\n",
    ")\n",
    "\n",
    "structured_hallucination_grader = llm.with_structured_output(GradeHallucinations)\n",
    "\n",
    "# system\n",
    "system = \"\"\"You are a grader assessing whether an LLM generation is grounded in / supported by a set of retrieved facts. \\n \n",
    "    Give a binary score 'yes' or 'no'. 'Yes' means that the answer is grounded in / supported by the set of facts.\"\"\"\n",
    "\n",
    "# 프롬프트\n",
    "hallucination_prompt = ChatPromptTemplate.from_messages(\n",
    "    [\n",
    "        (\"system\", system),\n",
    "        (\"human\", \"Set of facts: \\n\\n {documents} \\n\\n LLM generation: {generation}\"),\n",
    "    ]\n",
    ") \n",
    "\n",
    "# hallucination 평가기 생성\n",
    "hallucination_grader = hallucination_prompt | structured_hallucination_grader"
   ]
  },
  {
   "cell_type": "code",
   "execution_count": 83,
   "metadata": {},
   "outputs": [
    {
     "data": {
      "text/plain": [
       "GradeHallucinations(binary_score='yes')"
      ]
     },
     "execution_count": 83,
     "metadata": {},
     "output_type": "execute_result"
    }
   ],
   "source": [
    "# hallucination 평가기 테스트 (생성된 답변과 질문에 대한 평가)\n",
    "hallucination_grader.invoke({\"documents\": format_docs(state['documents']), \"generation\": generation})"
   ]
  },
  {
   "cell_type": "code",
   "execution_count": 84,
   "metadata": {},
   "outputs": [],
   "source": [
    "class GradeAnswer(BaseModel):\n",
    "    \"\"\"Binary scoring to evaluate the appropriateness of answers to questions\"\"\"\n",
    "\n",
    "    binary_score: str = Field(\n",
    "        description=\"Indicate 'yes' or 'no' whether the answer solves the question\"\n",
    "    )\n",
    "\n",
    "llm = ChatOpenAI(\n",
    "    api_key=key, \n",
    "    model='gpt-4o-mini', \n",
    "    temperature=0\n",
    ")\n",
    "\n",
    "structured_llm_grader = llm.with_structured_output(GradeAnswer)\n",
    "\n",
    "# system\n",
    "system = \"\"\"You are a grader assessing whether an answer addresses / resolves a question \\n \n",
    "     Give a binary score 'yes' or 'no'. Yes' means that the answer resolves the question.\"\"\"\n",
    "\n",
    "# 프롬프트 템플릿\n",
    "answer_prompt = ChatPromptTemplate.from_messages(\n",
    "    [\n",
    "        (\"system\", system),\n",
    "        (\"human\", \"User question: \\n\\n {question} \\n\\n LLM generation: {generation}\"),\n",
    "    ]\n",
    ")\n",
    "\n",
    "# 프롬프트 템플릿과 구조화된 LLM 평가기를 결합하여 답변 평가기 생성\n",
    "answer_grader = answer_prompt | structured_llm_grader"
   ]
  },
  {
   "cell_type": "code",
   "execution_count": 85,
   "metadata": {},
   "outputs": [
    {
     "data": {
      "text/plain": [
       "GradeAnswer(binary_score='yes')"
      ]
     },
     "execution_count": 85,
     "metadata": {},
     "output_type": "execute_result"
    }
   ],
   "source": [
    "answer_grader.invoke({'question': state['question'], 'generation': generation})"
   ]
  },
  {
   "cell_type": "markdown",
   "metadata": {},
   "source": [
    "### hallucination_check"
   ]
  },
  {
   "cell_type": "code",
   "execution_count": 86,
   "metadata": {},
   "outputs": [],
   "source": [
    "# Hallucination 평가 노드\n",
    "def hallucination_check(state: GraphState):\n",
    "    print('\\n==========================================================================================')\n",
    "    print('🔄 [Node] hallucination 평가 노드 🔄')\n",
    "\n",
    "    # 사용자 질문\n",
    "    qestion = state['question']\n",
    "\n",
    "    # 문서 검색 결과\n",
    "    documents = state['documents']\n",
    "\n",
    "    # 생성된 답변\n",
    "    generation = state['generation']\n",
    "\n",
    "    # 평가\n",
    "    score = hallucination_grader.invoke({'documents': documents, 'generation': generation})\n",
    "    grade = score.binary_score\n",
    "\n",
    "    print(f\"===== [평가 결과] =====\")\n",
    "    print(grade)\n",
    "\n",
    "    if grade == 'yes':     # hallucination 없음\n",
    "        print(\"===== [DECISION: GENERATION IS GROUNDED IN DOCUMENTS] =====\")\n",
    "        print(\"no hallucination\")\n",
    "\n",
    "        # 답변에 대한 관련성 평가\n",
    "        print(\"===== [GRADE GENERATED ANSWER vs QUESTION] =====\")\n",
    "\n",
    "        score = answer_grader.invoke({'question': state['question'], 'generation': generation})\n",
    "        grade = score.binary_score\n",
    "\n",
    "        if grade == 'yes':          # 관련성 있는 답변\n",
    "            print(\"==== [DECISION: GENERATED ANSWER ADDRESSES QUESTION] ====\")\n",
    "            print(\"relevant\")\n",
    "            print('==========================================================================================\\n')\n",
    "            return \"relevant\"\n",
    "        else:                       # 관련성 없는 답변\n",
    "            print(\"==== [DECISION: GENERATED ANSWER DOES NOT ADDRESS QUESTION] ====\")\n",
    "            print(\"not relevant\")\n",
    "            print('==========================================================================================\\n')\n",
    "            return \"not relevant\"\n",
    "\n",
    "    else:                   # hallucination 있음\n",
    "        print(\"===== [DECISION: GENERATION IS NOT GROUNDED IN DOCUMENTS, RE-TRY] =====\")\n",
    "        print(\"hallucination\")\n",
    "        print('==========================================================================================\\n')\n",
    "        return \"hallucination\""
   ]
  },
  {
   "cell_type": "code",
   "execution_count": 87,
   "metadata": {},
   "outputs": [
    {
     "name": "stdout",
     "output_type": "stream",
     "text": [
      "\n",
      "==========================================================================================\n",
      "🔄 [Node] hallucination 평가 노드 🔄\n",
      "===== [평가 결과] =====\n",
      "yes\n",
      "===== [DECISION: GENERATION IS GROUNDED IN DOCUMENTS] =====\n",
      "no hallucination\n",
      "===== [GRADE GENERATED ANSWER vs QUESTION] =====\n",
      "==== [DECISION: GENERATED ANSWER ADDRESSES QUESTION] ====\n",
      "relevant\n",
      "==========================================================================================\n",
      "\n"
     ]
    },
    {
     "data": {
      "text/plain": [
       "'relevant'"
      ]
     },
     "execution_count": 87,
     "metadata": {},
     "output_type": "execute_result"
    }
   ],
   "source": [
    "hallucination_check(state)"
   ]
  },
  {
   "cell_type": "markdown",
   "metadata": {},
   "source": [
    "# 테스트"
   ]
  },
  {
   "cell_type": "code",
   "execution_count": 88,
   "metadata": {},
   "outputs": [
    {
     "data": {
      "text/plain": [
       "{'question': '대구 중앙떡볶이', 'generation': '', 'documents': []}"
      ]
     },
     "execution_count": 88,
     "metadata": {},
     "output_type": "execute_result"
    }
   ],
   "source": [
    "state1 = GraphState(\n",
    "    question='대구 중앙떡볶이',\n",
    "    generation = '', \n",
    "    documents = []\n",
    ")\n",
    "\n",
    "state1"
   ]
  },
  {
   "cell_type": "code",
   "execution_count": 89,
   "metadata": {},
   "outputs": [
    {
     "name": "stdout",
     "output_type": "stream",
     "text": [
      "\n",
      "==========================================================================================\n",
      "🔄 [Node] 질문 라우팅 노드 🔄\n",
      "==== [ROUTE QUESTION TO WEB SEARCH] ====\n",
      "==========================================================================================\n",
      "\n"
     ]
    },
    {
     "data": {
      "text/plain": [
       "'web_search'"
      ]
     },
     "execution_count": 89,
     "metadata": {},
     "output_type": "execute_result"
    }
   ],
   "source": [
    "route_question(state1)"
   ]
  },
  {
   "cell_type": "code",
   "execution_count": 90,
   "metadata": {},
   "outputs": [
    {
     "data": {
      "text/plain": [
       "{'documents': [Document(metadata={'source': 'https://dtrip.salaitdaknit.com/entry/jungguk'}, page_content='대구 동성로는 늘 활기가 넘치는 곳이죠. 그중에서도 중앙떡볶이는 매콤달콤한 떡볶이와 대구의 명물 납작만두로 대구를 방문한 사람이라면 한 번쯤 꼭 들러야 할 맛집으로 꼽힙니다. 이번에 방문한 후기를 생생하게 전해드릴게요.중앙떡볶이 정보주소대구 중구 동성로2길 81 (중앙떡볶이)영업'),\n",
       "  Document(metadata={'source': 'https://m.blog.naver.com/tb06081/223042140850'}, page_content='대구 동성로 228공원 앞에 위치한 대구 동성로 떡볶이 맛집 중앙떡볶이 예전부터 대구 떡볶이 맛집으로 유명했는데 떡볶이를 별로 안 좋아해서 몇년 전에 딱 한 번 먹어봤는데 그렇게 맛있단 생각을 못 해서 계속 안 가고 있다가 지금까지도 쭉 지나가면 항상 웨이팅 있거나 사람 많고 여전히 북적'),\n",
       "  Document(metadata={'source': 'https://m.blog.naver.com/ryu8145/223424913321'}, page_content='대구 맛집 리뷰하는 블로거 루피입니다 오늘은 대구 떡볶이 하면 떠오르는곳 백종원 3대천왕 중앙떡볶이를 소개할께요')]}"
      ]
     },
     "execution_count": 90,
     "metadata": {},
     "output_type": "execute_result"
    }
   ],
   "source": [
    "web_search(state1)"
   ]
  },
  {
   "cell_type": "code",
   "execution_count": 91,
   "metadata": {},
   "outputs": [
    {
     "data": {
      "text/plain": [
       "{'question': '삼성전자가 만든 생성형 AI 이름은?', 'generation': '', 'documents': []}"
      ]
     },
     "execution_count": 91,
     "metadata": {},
     "output_type": "execute_result"
    }
   ],
   "source": [
    "state2 = GraphState(\n",
    "    question='삼성전자가 만든 생성형 AI 이름은?',\n",
    "    generation = '', \n",
    "    documents = []\n",
    ")\n",
    "\n",
    "state2"
   ]
  },
  {
   "cell_type": "code",
   "execution_count": 92,
   "metadata": {},
   "outputs": [
    {
     "name": "stdout",
     "output_type": "stream",
     "text": [
      "\n",
      "==========================================================================================\n",
      "🔄 [Node] 질문 라우팅 노드 🔄\n",
      "==== [ROUTE QUESTION TO VECTORSTORE] ====\n",
      "==========================================================================================\n",
      "\n"
     ]
    },
    {
     "data": {
      "text/plain": [
       "'vectorstore'"
      ]
     },
     "execution_count": 92,
     "metadata": {},
     "output_type": "execute_result"
    }
   ],
   "source": [
    "route_question(state2)"
   ]
  },
  {
   "cell_type": "code",
   "execution_count": 93,
   "metadata": {},
   "outputs": [],
   "source": [
    "answer = retrieve(state2)                        # 사용자 질문에 대해서 관련 문서를 검색한다.\n",
    "state2['documents'] = answer['documents']"
   ]
  },
  {
   "cell_type": "code",
   "execution_count": 94,
   "metadata": {},
   "outputs": [
    {
     "data": {
      "text/plain": [
       "{'question': '삼성전자가 만든 생성형 AI 이름은?',\n",
       " 'generation': '',\n",
       " 'documents': [Document(id='4b593f8a-46a7-4bc0-a210-cc18bd0c1270', metadata={'source': 'data/SPRI_AI_Brief_2023년12월호_F.pdf', 'file_path': 'data/SPRI_AI_Brief_2023년12월호_F.pdf', 'page': 1, 'total_pages': 23, 'Author': 'dj', 'Creator': 'Hwp 2018 10.0.0.13462', 'Producer': 'Hancom PDF 1.3.0.542', 'CreationDate': \"D:20231208132838+09'00'\", 'ModDate': \"D:20231208132838+09'00'\", 'PDFVersion': '1.4'}, page_content='▹ 삼성전자, 자체 개발 생성 AI ‘삼성 가우스’ 공개 ···························································10\\n▹ 구글, 앤스로픽에 20억 달러 투자로 생성 AI 협력 강화 ················································11\\n▹ IDC, 2027년 AI 소프트웨어 매출 2,500억 달러 돌파 전망···········································12'),\n",
       "  Document(id='db624ef3-ca1d-43b8-be26-01d725200ff3', metadata={'source': 'data/SPRI_AI_Brief_2023년12월호_F.pdf', 'file_path': 'data/SPRI_AI_Brief_2023년12월호_F.pdf', 'page': 12, 'total_pages': 23, 'Author': 'dj', 'Creator': 'Hwp 2018 10.0.0.13462', 'Producer': 'Hancom PDF 1.3.0.542', 'CreationDate': \"D:20231208132838+09'00'\", 'ModDate': \"D:20231208132838+09'00'\", 'PDFVersion': '1.4'}, page_content='SPRi AI Brief |\\n2023-12월호\\n삼성전자, 자체 개발 생성 AI ‘삼성 가우스’ 공개\\nKEY Contents\\nn 삼성전자가 온디바이스에서 작동 가능하며 언어, 코드, 이미지의 3개 모델로 구성된 자체 개발 생성\\nAI 모델 ‘삼성 가우스’를 공개\\nn 삼성전자는 삼성 가우스를 다양한 제품에 단계적으로 탑재할 계획으로, 온디바이스 작동이 가능한\\n삼성 가우스는 외부로 사용자 정보가 유출될 위험이 없다는 장점을 보유\\n£언어, 코드, 이미지의 3개 모델로 구성된 삼성 가우스, 온디바이스 작동 지원'),\n",
       "  Document(id='5c2a4f06-7a5e-4038-96b6-0ca21f8db105', metadata={'source': 'data/SPRI_AI_Brief_2023년12월호_F.pdf', 'file_path': 'data/SPRI_AI_Brief_2023년12월호_F.pdf', 'page': 12, 'total_pages': 23, 'Author': 'dj', 'Creator': 'Hwp 2018 10.0.0.13462', 'Producer': 'Hancom PDF 1.3.0.542', 'CreationDate': \"D:20231208132838+09'00'\", 'ModDate': \"D:20231208132838+09'00'\", 'PDFVersion': '1.4'}, page_content='£언어, 코드, 이미지의 3개 모델로 구성된 삼성 가우스, 온디바이스 작동 지원\\nn 삼성전자가 2023년 11월 8일 열린 ‘삼성 AI 포럼 2023’ 행사에서 자체 개발한 생성 AI 모델\\n‘삼성 가우스’를 최초 공개\\n∙ 정규분포 이론을 정립한 천재 수학자 가우스(Gauss)의 이름을 본뜬 삼성 가우스는 다양한 상황에\\n최적화된 크기의 모델 선택이 가능\\n∙ 삼성 가우스는 라이선스나 개인정보를 침해하지 않는 안전한 데이터를 통해 학습되었으며,\\n온디바이스에서 작동하도록 설계되어 외부로 사용자의 정보가 유출되지 않는 장점을 보유'),\n",
       "  Document(id='b5403b84-ed04-4ff2-a0d0-c208265a40bf', metadata={'source': 'data/SPRI_AI_Brief_2023년12월호_F.pdf', 'file_path': 'data/SPRI_AI_Brief_2023년12월호_F.pdf', 'page': 12, 'total_pages': 23, 'Author': 'dj', 'Creator': 'Hwp 2018 10.0.0.13462', 'Producer': 'Hancom PDF 1.3.0.542', 'CreationDate': \"D:20231208132838+09'00'\", 'ModDate': \"D:20231208132838+09'00'\", 'PDFVersion': '1.4'}, page_content='어시스턴트를 적용한 구글 픽셀(Pixel)과 경쟁할 것으로 예상\\n☞ 출처 : 삼성전자, ‘삼성 AI 포럼’서 자체 개발 생성형 AI ‘삼성 가우스’ 공개, 2023.11.08.\\n삼성전자, ‘삼성 개발자 콘퍼런스 코리아 2023’ 개최, 2023.11.14.\\nTechRepublic, Samsung Gauss: Samsung Research Reveals Generative AI, 2023.11.08.\\n10'),\n",
       "  Document(id='3919cc35-38ff-437b-a887-95b14a57c60e', metadata={'source': 'data/SPRI_AI_Brief_2023년12월호_F.pdf', 'file_path': 'data/SPRI_AI_Brief_2023년12월호_F.pdf', 'page': 18, 'total_pages': 23, 'Author': 'dj', 'Creator': 'Hwp 2018 10.0.0.13462', 'Producer': 'Hancom PDF 1.3.0.542', 'CreationDate': \"D:20231208132838+09'00'\", 'ModDate': \"D:20231208132838+09'00'\", 'PDFVersion': '1.4'}, page_content='<구글 딥마인드의 범용 AI 분류 프레임워크>\\n성능 특수 AI 예시 범용 AI 예시\\n0단계: AI 아님 계산기 소프트웨어, 컴파일러 아마존 메커니컬 터크\\n1단계: 신진(숙련되지 않은 인간) GOFAI(Good Old Fashioned Artificial Intelligence) 챗GPT, 바드, 라마2\\n스마트 스피커(애플 시리, 아마존 알렉사, 구글\\n2단계: 유능(숙련된 인간의 50% 이상) 미달성\\n어시스턴트), IBM 왓슨\\n3단계: 전문가(숙련된 인간의 90% 이상) 문법 교정기(그래머리), 생성 이미지 모델(달리2) 미달성'),\n",
       "  Document(id='530f6e1a-6b7c-4360-add0-e35f4779d513', metadata={'source': 'data/SPRI_AI_Brief_2023년12월호_F.pdf', 'file_path': 'data/SPRI_AI_Brief_2023년12월호_F.pdf', 'page': 12, 'total_pages': 23, 'Author': 'dj', 'Creator': 'Hwp 2018 10.0.0.13462', 'Producer': 'Hancom PDF 1.3.0.542', 'CreationDate': \"D:20231208132838+09'00'\", 'ModDate': \"D:20231208132838+09'00'\", 'PDFVersion': '1.4'}, page_content='처리를 지원\\n∙ 코드 모델 기반의 AI 코딩 어시스턴트 ‘코드아이(code.i)’는 대화형 인터페이스로 서비스를 제공하며\\n사내 소프트웨어 개발에 최적화\\n∙ 이미지 모델은 창의적인 이미지를 생성하고 기존 이미지를 원하는 대로 바꿀 수 있도록 지원하며\\n저해상도 이미지의 고해상도 전환도 지원\\nn IT 전문지 테크리퍼블릭(TechRepublic)은 온디바이스 AI가 주요 기술 트렌드로 부상했다며,\\n2024년부터 가우스를 탑재한 삼성 스마트폰이 메타의 라마(Llama)2를 탑재한 퀄컴 기기 및 구글'),\n",
       "  Document(id='4ea9697a-f8f9-47c6-a186-e13430dbf95a', metadata={'source': 'data/SPRI_AI_Brief_2023년12월호_F.pdf', 'file_path': 'data/SPRI_AI_Brief_2023년12월호_F.pdf', 'page': 12, 'total_pages': 23, 'Author': 'dj', 'Creator': 'Hwp 2018 10.0.0.13462', 'Producer': 'Hancom PDF 1.3.0.542', 'CreationDate': \"D:20231208132838+09'00'\", 'ModDate': \"D:20231208132838+09'00'\", 'PDFVersion': '1.4'}, page_content='온디바이스에서 작동하도록 설계되어 외부로 사용자의 정보가 유출되지 않는 장점을 보유\\n∙ 삼성전자는 삼성 가우스를 활용한 온디바이스 AI 기술도 소개했으며, 생성 AI 모델을 다양한 제품에\\n단계적으로 탑재할 계획\\nn 삼성 가우스는 △텍스트를 생성하는 언어모델 △코드를 생성하는 코드 모델 △이미지를 생성하는\\n이미지 모델의 3개 모델로 구성\\n∙ 언어 모델은 클라우드와 온디바이스 대상 다양한 모델로 구성되며, 메일 작성, 문서 요약, 번역 업무의\\n처리를 지원'),\n",
       "  Document(id='334653c8-8430-47a7-94e9-e974d3dc8e59', metadata={'source': 'data/SPRI_AI_Brief_2023년12월호_F.pdf', 'file_path': 'data/SPRI_AI_Brief_2023년12월호_F.pdf', 'page': 11, 'total_pages': 23, 'Author': 'dj', 'Creator': 'Hwp 2018 10.0.0.13462', 'Producer': 'Hancom PDF 1.3.0.542', 'CreationDate': \"D:20231208132838+09'00'\", 'ModDate': \"D:20231208132838+09'00'\", 'PDFVersion': '1.4'}, page_content='제작을 포함\\nn 알리바바 클라우드는 급증하는 생성 AI 수요에 대응해 모델 개발과 애플리케이션 구축 절차를\\n간소화하는 올인원 AI 모델 구축 플랫폼 ‘젠AI(GenAI)’도 공개\\n∙ 이 플랫폼은 데이터 관리, 모델 배포와 평가, 신속한 엔지니어링을 위한 종합 도구 모음을 제공하여\\n다양한 기업들이 맞춤형 AI 모델을 한층 쉽게 개발할 수 있도록 지원\\n∙ 생성 AI 개발에 필요한 컴퓨팅과 데이터 처리 요구사항을 지원하기 위해 AI 플랫폼(PAI),\\n데이터베이스 솔루션, 컨테이너 서비스와 같은 클라우드 신제품도 발표'),\n",
       "  Document(id='b0574e4f-e0b4-409b-8408-0121d03379b2', metadata={'source': 'data/SPRI_AI_Brief_2023년12월호_F.pdf', 'file_path': 'data/SPRI_AI_Brief_2023년12월호_F.pdf', 'page': 1, 'total_pages': 23, 'Author': 'dj', 'Creator': 'Hwp 2018 10.0.0.13462', 'Producer': 'Hancom PDF 1.3.0.542', 'CreationDate': \"D:20231208132838+09'00'\", 'ModDate': \"D:20231208132838+09'00'\", 'PDFVersion': '1.4'}, page_content='▹ 빌 게이츠, AI 에이전트로 인한 컴퓨터 사용의 패러다임 변화 전망································13\\n▹ 유튜브, 2024년부터 AI 생성 콘텐츠 표시 의무화····························································14\\n3. 기술/연구\\n▹ 영국 과학혁신기술부, AI 안전 연구소 설립 발표······························································15'),\n",
       "  Document(id='7010d9a9-ca5a-401b-9f49-bc5998b1d355', metadata={'source': 'data/SPRI_AI_Brief_2023년12월호_F.pdf', 'file_path': 'data/SPRI_AI_Brief_2023년12월호_F.pdf', 'page': 7, 'total_pages': 23, 'Author': 'dj', 'Creator': 'Hwp 2018 10.0.0.13462', 'Producer': 'Hancom PDF 1.3.0.542', 'CreationDate': \"D:20231208132838+09'00'\", 'ModDate': \"D:20231208132838+09'00'\", 'PDFVersion': '1.4'}, page_content='만들었다고 오해할 소지가 있다고 지적\\n∙ 저작권법에 저촉되는 행위는 불공정 경쟁이나 기만행위에도 해당될 수 있으며, 창작자의 평판 악화,\\n저작물의 가치 저하나 개인정보 유출로 소비자에 상당한 피해를 초래 가능\\nn FTC는 일부 빅테크가 막대한 재원을 활용해 생성 AI 사용자의 이탈을 막고 저작권이 있는 상용\\n데이터에 대한 독점 라이선스를 확보해 시장 지배력을 더욱 강화할 수 있다는 우려도 제기\\n∙ 이와 관련 FTC는 아마존 AI 비서 ‘알렉사(Alexa)’와 스마트홈 보안 기기 ‘링(Ring)’이 소비자의 사적')]}"
      ]
     },
     "execution_count": 94,
     "metadata": {},
     "output_type": "execute_result"
    }
   ],
   "source": [
    "state2"
   ]
  },
  {
   "cell_type": "code",
   "execution_count": 95,
   "metadata": {},
   "outputs": [
    {
     "name": "stdout",
     "output_type": "stream",
     "text": [
      "---GRADE: DOCUMENT RELEVANT---\n",
      "---GRADE: DOCUMENT RELEVANT---\n",
      "---GRADE: DOCUMENT RELEVANT---\n",
      "---GRADE: DOCUMENT RELEVANT---\n",
      "---GRADE: DOCUMENT NOT RELEVANT---\n",
      "---GRADE: DOCUMENT RELEVANT---\n",
      "---GRADE: DOCUMENT RELEVANT---\n",
      "---GRADE: DOCUMENT NOT RELEVANT---\n",
      "---GRADE: DOCUMENT NOT RELEVANT---\n",
      "---GRADE: DOCUMENT NOT RELEVANT---\n"
     ]
    }
   ],
   "source": [
    "state2['documents'] = grade_documents(state2)['documents']"
   ]
  },
  {
   "cell_type": "code",
   "execution_count": 96,
   "metadata": {},
   "outputs": [
    {
     "data": {
      "text/plain": [
       "{'question': '삼성전자가 만든 생성형 AI 이름은?',\n",
       " 'generation': '',\n",
       " 'documents': [Document(id='4b593f8a-46a7-4bc0-a210-cc18bd0c1270', metadata={'source': 'data/SPRI_AI_Brief_2023년12월호_F.pdf', 'file_path': 'data/SPRI_AI_Brief_2023년12월호_F.pdf', 'page': 1, 'total_pages': 23, 'Author': 'dj', 'Creator': 'Hwp 2018 10.0.0.13462', 'Producer': 'Hancom PDF 1.3.0.542', 'CreationDate': \"D:20231208132838+09'00'\", 'ModDate': \"D:20231208132838+09'00'\", 'PDFVersion': '1.4'}, page_content='▹ 삼성전자, 자체 개발 생성 AI ‘삼성 가우스’ 공개 ···························································10\\n▹ 구글, 앤스로픽에 20억 달러 투자로 생성 AI 협력 강화 ················································11\\n▹ IDC, 2027년 AI 소프트웨어 매출 2,500억 달러 돌파 전망···········································12'),\n",
       "  Document(id='db624ef3-ca1d-43b8-be26-01d725200ff3', metadata={'source': 'data/SPRI_AI_Brief_2023년12월호_F.pdf', 'file_path': 'data/SPRI_AI_Brief_2023년12월호_F.pdf', 'page': 12, 'total_pages': 23, 'Author': 'dj', 'Creator': 'Hwp 2018 10.0.0.13462', 'Producer': 'Hancom PDF 1.3.0.542', 'CreationDate': \"D:20231208132838+09'00'\", 'ModDate': \"D:20231208132838+09'00'\", 'PDFVersion': '1.4'}, page_content='SPRi AI Brief |\\n2023-12월호\\n삼성전자, 자체 개발 생성 AI ‘삼성 가우스’ 공개\\nKEY Contents\\nn 삼성전자가 온디바이스에서 작동 가능하며 언어, 코드, 이미지의 3개 모델로 구성된 자체 개발 생성\\nAI 모델 ‘삼성 가우스’를 공개\\nn 삼성전자는 삼성 가우스를 다양한 제품에 단계적으로 탑재할 계획으로, 온디바이스 작동이 가능한\\n삼성 가우스는 외부로 사용자 정보가 유출될 위험이 없다는 장점을 보유\\n£언어, 코드, 이미지의 3개 모델로 구성된 삼성 가우스, 온디바이스 작동 지원'),\n",
       "  Document(id='5c2a4f06-7a5e-4038-96b6-0ca21f8db105', metadata={'source': 'data/SPRI_AI_Brief_2023년12월호_F.pdf', 'file_path': 'data/SPRI_AI_Brief_2023년12월호_F.pdf', 'page': 12, 'total_pages': 23, 'Author': 'dj', 'Creator': 'Hwp 2018 10.0.0.13462', 'Producer': 'Hancom PDF 1.3.0.542', 'CreationDate': \"D:20231208132838+09'00'\", 'ModDate': \"D:20231208132838+09'00'\", 'PDFVersion': '1.4'}, page_content='£언어, 코드, 이미지의 3개 모델로 구성된 삼성 가우스, 온디바이스 작동 지원\\nn 삼성전자가 2023년 11월 8일 열린 ‘삼성 AI 포럼 2023’ 행사에서 자체 개발한 생성 AI 모델\\n‘삼성 가우스’를 최초 공개\\n∙ 정규분포 이론을 정립한 천재 수학자 가우스(Gauss)의 이름을 본뜬 삼성 가우스는 다양한 상황에\\n최적화된 크기의 모델 선택이 가능\\n∙ 삼성 가우스는 라이선스나 개인정보를 침해하지 않는 안전한 데이터를 통해 학습되었으며,\\n온디바이스에서 작동하도록 설계되어 외부로 사용자의 정보가 유출되지 않는 장점을 보유'),\n",
       "  Document(id='b5403b84-ed04-4ff2-a0d0-c208265a40bf', metadata={'source': 'data/SPRI_AI_Brief_2023년12월호_F.pdf', 'file_path': 'data/SPRI_AI_Brief_2023년12월호_F.pdf', 'page': 12, 'total_pages': 23, 'Author': 'dj', 'Creator': 'Hwp 2018 10.0.0.13462', 'Producer': 'Hancom PDF 1.3.0.542', 'CreationDate': \"D:20231208132838+09'00'\", 'ModDate': \"D:20231208132838+09'00'\", 'PDFVersion': '1.4'}, page_content='어시스턴트를 적용한 구글 픽셀(Pixel)과 경쟁할 것으로 예상\\n☞ 출처 : 삼성전자, ‘삼성 AI 포럼’서 자체 개발 생성형 AI ‘삼성 가우스’ 공개, 2023.11.08.\\n삼성전자, ‘삼성 개발자 콘퍼런스 코리아 2023’ 개최, 2023.11.14.\\nTechRepublic, Samsung Gauss: Samsung Research Reveals Generative AI, 2023.11.08.\\n10'),\n",
       "  Document(id='530f6e1a-6b7c-4360-add0-e35f4779d513', metadata={'source': 'data/SPRI_AI_Brief_2023년12월호_F.pdf', 'file_path': 'data/SPRI_AI_Brief_2023년12월호_F.pdf', 'page': 12, 'total_pages': 23, 'Author': 'dj', 'Creator': 'Hwp 2018 10.0.0.13462', 'Producer': 'Hancom PDF 1.3.0.542', 'CreationDate': \"D:20231208132838+09'00'\", 'ModDate': \"D:20231208132838+09'00'\", 'PDFVersion': '1.4'}, page_content='처리를 지원\\n∙ 코드 모델 기반의 AI 코딩 어시스턴트 ‘코드아이(code.i)’는 대화형 인터페이스로 서비스를 제공하며\\n사내 소프트웨어 개발에 최적화\\n∙ 이미지 모델은 창의적인 이미지를 생성하고 기존 이미지를 원하는 대로 바꿀 수 있도록 지원하며\\n저해상도 이미지의 고해상도 전환도 지원\\nn IT 전문지 테크리퍼블릭(TechRepublic)은 온디바이스 AI가 주요 기술 트렌드로 부상했다며,\\n2024년부터 가우스를 탑재한 삼성 스마트폰이 메타의 라마(Llama)2를 탑재한 퀄컴 기기 및 구글'),\n",
       "  Document(id='4ea9697a-f8f9-47c6-a186-e13430dbf95a', metadata={'source': 'data/SPRI_AI_Brief_2023년12월호_F.pdf', 'file_path': 'data/SPRI_AI_Brief_2023년12월호_F.pdf', 'page': 12, 'total_pages': 23, 'Author': 'dj', 'Creator': 'Hwp 2018 10.0.0.13462', 'Producer': 'Hancom PDF 1.3.0.542', 'CreationDate': \"D:20231208132838+09'00'\", 'ModDate': \"D:20231208132838+09'00'\", 'PDFVersion': '1.4'}, page_content='온디바이스에서 작동하도록 설계되어 외부로 사용자의 정보가 유출되지 않는 장점을 보유\\n∙ 삼성전자는 삼성 가우스를 활용한 온디바이스 AI 기술도 소개했으며, 생성 AI 모델을 다양한 제품에\\n단계적으로 탑재할 계획\\nn 삼성 가우스는 △텍스트를 생성하는 언어모델 △코드를 생성하는 코드 모델 △이미지를 생성하는\\n이미지 모델의 3개 모델로 구성\\n∙ 언어 모델은 클라우드와 온디바이스 대상 다양한 모델로 구성되며, 메일 작성, 문서 요약, 번역 업무의\\n처리를 지원')]}"
      ]
     },
     "execution_count": 96,
     "metadata": {},
     "output_type": "execute_result"
    }
   ],
   "source": [
    "state2"
   ]
  },
  {
   "cell_type": "code",
   "execution_count": 97,
   "metadata": {},
   "outputs": [
    {
     "data": {
      "text/plain": [
       "{'question': '삼성전자가 만든 생성형 AI 이름은?',\n",
       " 'generation': '',\n",
       " 'documents': [Document(id='4b593f8a-46a7-4bc0-a210-cc18bd0c1270', metadata={'source': 'data/SPRI_AI_Brief_2023년12월호_F.pdf', 'file_path': 'data/SPRI_AI_Brief_2023년12월호_F.pdf', 'page': 1, 'total_pages': 23, 'Author': 'dj', 'Creator': 'Hwp 2018 10.0.0.13462', 'Producer': 'Hancom PDF 1.3.0.542', 'CreationDate': \"D:20231208132838+09'00'\", 'ModDate': \"D:20231208132838+09'00'\", 'PDFVersion': '1.4'}, page_content='▹ 삼성전자, 자체 개발 생성 AI ‘삼성 가우스’ 공개 ···························································10\\n▹ 구글, 앤스로픽에 20억 달러 투자로 생성 AI 협력 강화 ················································11\\n▹ IDC, 2027년 AI 소프트웨어 매출 2,500억 달러 돌파 전망···········································12'),\n",
       "  Document(id='db624ef3-ca1d-43b8-be26-01d725200ff3', metadata={'source': 'data/SPRI_AI_Brief_2023년12월호_F.pdf', 'file_path': 'data/SPRI_AI_Brief_2023년12월호_F.pdf', 'page': 12, 'total_pages': 23, 'Author': 'dj', 'Creator': 'Hwp 2018 10.0.0.13462', 'Producer': 'Hancom PDF 1.3.0.542', 'CreationDate': \"D:20231208132838+09'00'\", 'ModDate': \"D:20231208132838+09'00'\", 'PDFVersion': '1.4'}, page_content='SPRi AI Brief |\\n2023-12월호\\n삼성전자, 자체 개발 생성 AI ‘삼성 가우스’ 공개\\nKEY Contents\\nn 삼성전자가 온디바이스에서 작동 가능하며 언어, 코드, 이미지의 3개 모델로 구성된 자체 개발 생성\\nAI 모델 ‘삼성 가우스’를 공개\\nn 삼성전자는 삼성 가우스를 다양한 제품에 단계적으로 탑재할 계획으로, 온디바이스 작동이 가능한\\n삼성 가우스는 외부로 사용자 정보가 유출될 위험이 없다는 장점을 보유\\n£언어, 코드, 이미지의 3개 모델로 구성된 삼성 가우스, 온디바이스 작동 지원'),\n",
       "  Document(id='5c2a4f06-7a5e-4038-96b6-0ca21f8db105', metadata={'source': 'data/SPRI_AI_Brief_2023년12월호_F.pdf', 'file_path': 'data/SPRI_AI_Brief_2023년12월호_F.pdf', 'page': 12, 'total_pages': 23, 'Author': 'dj', 'Creator': 'Hwp 2018 10.0.0.13462', 'Producer': 'Hancom PDF 1.3.0.542', 'CreationDate': \"D:20231208132838+09'00'\", 'ModDate': \"D:20231208132838+09'00'\", 'PDFVersion': '1.4'}, page_content='£언어, 코드, 이미지의 3개 모델로 구성된 삼성 가우스, 온디바이스 작동 지원\\nn 삼성전자가 2023년 11월 8일 열린 ‘삼성 AI 포럼 2023’ 행사에서 자체 개발한 생성 AI 모델\\n‘삼성 가우스’를 최초 공개\\n∙ 정규분포 이론을 정립한 천재 수학자 가우스(Gauss)의 이름을 본뜬 삼성 가우스는 다양한 상황에\\n최적화된 크기의 모델 선택이 가능\\n∙ 삼성 가우스는 라이선스나 개인정보를 침해하지 않는 안전한 데이터를 통해 학습되었으며,\\n온디바이스에서 작동하도록 설계되어 외부로 사용자의 정보가 유출되지 않는 장점을 보유'),\n",
       "  Document(id='b5403b84-ed04-4ff2-a0d0-c208265a40bf', metadata={'source': 'data/SPRI_AI_Brief_2023년12월호_F.pdf', 'file_path': 'data/SPRI_AI_Brief_2023년12월호_F.pdf', 'page': 12, 'total_pages': 23, 'Author': 'dj', 'Creator': 'Hwp 2018 10.0.0.13462', 'Producer': 'Hancom PDF 1.3.0.542', 'CreationDate': \"D:20231208132838+09'00'\", 'ModDate': \"D:20231208132838+09'00'\", 'PDFVersion': '1.4'}, page_content='어시스턴트를 적용한 구글 픽셀(Pixel)과 경쟁할 것으로 예상\\n☞ 출처 : 삼성전자, ‘삼성 AI 포럼’서 자체 개발 생성형 AI ‘삼성 가우스’ 공개, 2023.11.08.\\n삼성전자, ‘삼성 개발자 콘퍼런스 코리아 2023’ 개최, 2023.11.14.\\nTechRepublic, Samsung Gauss: Samsung Research Reveals Generative AI, 2023.11.08.\\n10'),\n",
       "  Document(id='530f6e1a-6b7c-4360-add0-e35f4779d513', metadata={'source': 'data/SPRI_AI_Brief_2023년12월호_F.pdf', 'file_path': 'data/SPRI_AI_Brief_2023년12월호_F.pdf', 'page': 12, 'total_pages': 23, 'Author': 'dj', 'Creator': 'Hwp 2018 10.0.0.13462', 'Producer': 'Hancom PDF 1.3.0.542', 'CreationDate': \"D:20231208132838+09'00'\", 'ModDate': \"D:20231208132838+09'00'\", 'PDFVersion': '1.4'}, page_content='처리를 지원\\n∙ 코드 모델 기반의 AI 코딩 어시스턴트 ‘코드아이(code.i)’는 대화형 인터페이스로 서비스를 제공하며\\n사내 소프트웨어 개발에 최적화\\n∙ 이미지 모델은 창의적인 이미지를 생성하고 기존 이미지를 원하는 대로 바꿀 수 있도록 지원하며\\n저해상도 이미지의 고해상도 전환도 지원\\nn IT 전문지 테크리퍼블릭(TechRepublic)은 온디바이스 AI가 주요 기술 트렌드로 부상했다며,\\n2024년부터 가우스를 탑재한 삼성 스마트폰이 메타의 라마(Llama)2를 탑재한 퀄컴 기기 및 구글'),\n",
       "  Document(id='4ea9697a-f8f9-47c6-a186-e13430dbf95a', metadata={'source': 'data/SPRI_AI_Brief_2023년12월호_F.pdf', 'file_path': 'data/SPRI_AI_Brief_2023년12월호_F.pdf', 'page': 12, 'total_pages': 23, 'Author': 'dj', 'Creator': 'Hwp 2018 10.0.0.13462', 'Producer': 'Hancom PDF 1.3.0.542', 'CreationDate': \"D:20231208132838+09'00'\", 'ModDate': \"D:20231208132838+09'00'\", 'PDFVersion': '1.4'}, page_content='온디바이스에서 작동하도록 설계되어 외부로 사용자의 정보가 유출되지 않는 장점을 보유\\n∙ 삼성전자는 삼성 가우스를 활용한 온디바이스 AI 기술도 소개했으며, 생성 AI 모델을 다양한 제품에\\n단계적으로 탑재할 계획\\nn 삼성 가우스는 △텍스트를 생성하는 언어모델 △코드를 생성하는 코드 모델 △이미지를 생성하는\\n이미지 모델의 3개 모델로 구성\\n∙ 언어 모델은 클라우드와 온디바이스 대상 다양한 모델로 구성되며, 메일 작성, 문서 요약, 번역 업무의\\n처리를 지원')]}"
      ]
     },
     "execution_count": 97,
     "metadata": {},
     "output_type": "execute_result"
    }
   ],
   "source": [
    "state2"
   ]
  },
  {
   "cell_type": "code",
   "execution_count": 98,
   "metadata": {},
   "outputs": [
    {
     "name": "stdout",
     "output_type": "stream",
     "text": [
      "---GRADE: DOCUMENT RELEVANT---\n",
      "---GRADE: DOCUMENT RELEVANT---\n",
      "---GRADE: DOCUMENT RELEVANT---\n",
      "---GRADE: DOCUMENT RELEVANT---\n",
      "---GRADE: DOCUMENT RELEVANT---\n",
      "---GRADE: DOCUMENT RELEVANT---\n"
     ]
    }
   ],
   "source": [
    "state2['documents'] = grade_documents(state2)['documents']"
   ]
  },
  {
   "cell_type": "code",
   "execution_count": 99,
   "metadata": {},
   "outputs": [
    {
     "data": {
      "text/plain": [
       "{'question': '삼성전자가 만든 생성형 AI 이름은?',\n",
       " 'generation': '',\n",
       " 'documents': [Document(id='4b593f8a-46a7-4bc0-a210-cc18bd0c1270', metadata={'source': 'data/SPRI_AI_Brief_2023년12월호_F.pdf', 'file_path': 'data/SPRI_AI_Brief_2023년12월호_F.pdf', 'page': 1, 'total_pages': 23, 'Author': 'dj', 'Creator': 'Hwp 2018 10.0.0.13462', 'Producer': 'Hancom PDF 1.3.0.542', 'CreationDate': \"D:20231208132838+09'00'\", 'ModDate': \"D:20231208132838+09'00'\", 'PDFVersion': '1.4'}, page_content='▹ 삼성전자, 자체 개발 생성 AI ‘삼성 가우스’ 공개 ···························································10\\n▹ 구글, 앤스로픽에 20억 달러 투자로 생성 AI 협력 강화 ················································11\\n▹ IDC, 2027년 AI 소프트웨어 매출 2,500억 달러 돌파 전망···········································12'),\n",
       "  Document(id='db624ef3-ca1d-43b8-be26-01d725200ff3', metadata={'source': 'data/SPRI_AI_Brief_2023년12월호_F.pdf', 'file_path': 'data/SPRI_AI_Brief_2023년12월호_F.pdf', 'page': 12, 'total_pages': 23, 'Author': 'dj', 'Creator': 'Hwp 2018 10.0.0.13462', 'Producer': 'Hancom PDF 1.3.0.542', 'CreationDate': \"D:20231208132838+09'00'\", 'ModDate': \"D:20231208132838+09'00'\", 'PDFVersion': '1.4'}, page_content='SPRi AI Brief |\\n2023-12월호\\n삼성전자, 자체 개발 생성 AI ‘삼성 가우스’ 공개\\nKEY Contents\\nn 삼성전자가 온디바이스에서 작동 가능하며 언어, 코드, 이미지의 3개 모델로 구성된 자체 개발 생성\\nAI 모델 ‘삼성 가우스’를 공개\\nn 삼성전자는 삼성 가우스를 다양한 제품에 단계적으로 탑재할 계획으로, 온디바이스 작동이 가능한\\n삼성 가우스는 외부로 사용자 정보가 유출될 위험이 없다는 장점을 보유\\n£언어, 코드, 이미지의 3개 모델로 구성된 삼성 가우스, 온디바이스 작동 지원'),\n",
       "  Document(id='5c2a4f06-7a5e-4038-96b6-0ca21f8db105', metadata={'source': 'data/SPRI_AI_Brief_2023년12월호_F.pdf', 'file_path': 'data/SPRI_AI_Brief_2023년12월호_F.pdf', 'page': 12, 'total_pages': 23, 'Author': 'dj', 'Creator': 'Hwp 2018 10.0.0.13462', 'Producer': 'Hancom PDF 1.3.0.542', 'CreationDate': \"D:20231208132838+09'00'\", 'ModDate': \"D:20231208132838+09'00'\", 'PDFVersion': '1.4'}, page_content='£언어, 코드, 이미지의 3개 모델로 구성된 삼성 가우스, 온디바이스 작동 지원\\nn 삼성전자가 2023년 11월 8일 열린 ‘삼성 AI 포럼 2023’ 행사에서 자체 개발한 생성 AI 모델\\n‘삼성 가우스’를 최초 공개\\n∙ 정규분포 이론을 정립한 천재 수학자 가우스(Gauss)의 이름을 본뜬 삼성 가우스는 다양한 상황에\\n최적화된 크기의 모델 선택이 가능\\n∙ 삼성 가우스는 라이선스나 개인정보를 침해하지 않는 안전한 데이터를 통해 학습되었으며,\\n온디바이스에서 작동하도록 설계되어 외부로 사용자의 정보가 유출되지 않는 장점을 보유'),\n",
       "  Document(id='b5403b84-ed04-4ff2-a0d0-c208265a40bf', metadata={'source': 'data/SPRI_AI_Brief_2023년12월호_F.pdf', 'file_path': 'data/SPRI_AI_Brief_2023년12월호_F.pdf', 'page': 12, 'total_pages': 23, 'Author': 'dj', 'Creator': 'Hwp 2018 10.0.0.13462', 'Producer': 'Hancom PDF 1.3.0.542', 'CreationDate': \"D:20231208132838+09'00'\", 'ModDate': \"D:20231208132838+09'00'\", 'PDFVersion': '1.4'}, page_content='어시스턴트를 적용한 구글 픽셀(Pixel)과 경쟁할 것으로 예상\\n☞ 출처 : 삼성전자, ‘삼성 AI 포럼’서 자체 개발 생성형 AI ‘삼성 가우스’ 공개, 2023.11.08.\\n삼성전자, ‘삼성 개발자 콘퍼런스 코리아 2023’ 개최, 2023.11.14.\\nTechRepublic, Samsung Gauss: Samsung Research Reveals Generative AI, 2023.11.08.\\n10'),\n",
       "  Document(id='530f6e1a-6b7c-4360-add0-e35f4779d513', metadata={'source': 'data/SPRI_AI_Brief_2023년12월호_F.pdf', 'file_path': 'data/SPRI_AI_Brief_2023년12월호_F.pdf', 'page': 12, 'total_pages': 23, 'Author': 'dj', 'Creator': 'Hwp 2018 10.0.0.13462', 'Producer': 'Hancom PDF 1.3.0.542', 'CreationDate': \"D:20231208132838+09'00'\", 'ModDate': \"D:20231208132838+09'00'\", 'PDFVersion': '1.4'}, page_content='처리를 지원\\n∙ 코드 모델 기반의 AI 코딩 어시스턴트 ‘코드아이(code.i)’는 대화형 인터페이스로 서비스를 제공하며\\n사내 소프트웨어 개발에 최적화\\n∙ 이미지 모델은 창의적인 이미지를 생성하고 기존 이미지를 원하는 대로 바꿀 수 있도록 지원하며\\n저해상도 이미지의 고해상도 전환도 지원\\nn IT 전문지 테크리퍼블릭(TechRepublic)은 온디바이스 AI가 주요 기술 트렌드로 부상했다며,\\n2024년부터 가우스를 탑재한 삼성 스마트폰이 메타의 라마(Llama)2를 탑재한 퀄컴 기기 및 구글'),\n",
       "  Document(id='4ea9697a-f8f9-47c6-a186-e13430dbf95a', metadata={'source': 'data/SPRI_AI_Brief_2023년12월호_F.pdf', 'file_path': 'data/SPRI_AI_Brief_2023년12월호_F.pdf', 'page': 12, 'total_pages': 23, 'Author': 'dj', 'Creator': 'Hwp 2018 10.0.0.13462', 'Producer': 'Hancom PDF 1.3.0.542', 'CreationDate': \"D:20231208132838+09'00'\", 'ModDate': \"D:20231208132838+09'00'\", 'PDFVersion': '1.4'}, page_content='온디바이스에서 작동하도록 설계되어 외부로 사용자의 정보가 유출되지 않는 장점을 보유\\n∙ 삼성전자는 삼성 가우스를 활용한 온디바이스 AI 기술도 소개했으며, 생성 AI 모델을 다양한 제품에\\n단계적으로 탑재할 계획\\nn 삼성 가우스는 △텍스트를 생성하는 언어모델 △코드를 생성하는 코드 모델 △이미지를 생성하는\\n이미지 모델의 3개 모델로 구성\\n∙ 언어 모델은 클라우드와 온디바이스 대상 다양한 모델로 구성되며, 메일 작성, 문서 요약, 번역 업무의\\n처리를 지원')]}"
      ]
     },
     "execution_count": 99,
     "metadata": {},
     "output_type": "execute_result"
    }
   ],
   "source": [
    "state2"
   ]
  },
  {
   "cell_type": "code",
   "execution_count": 100,
   "metadata": {},
   "outputs": [],
   "source": [
    "state2['generation'] = generate(state2)['generation']"
   ]
  },
  {
   "cell_type": "code",
   "execution_count": 101,
   "metadata": {},
   "outputs": [
    {
     "data": {
      "text/plain": [
       "{'question': '삼성전자가 만든 생성형 AI 이름은?',\n",
       " 'generation': '삼성전자가 공개한 생성 AI 모델 ‘삼성 가우스’는 언어, 코드, 이미지의 3개 모델로 구성되어 있으며, 온디바이스에서 작동하도록 설계되어 사용자 정보 유출 위험이 없습니다. 이 모델은 2023년 11월 8일 ‘삼성 AI 포럼 2023’에서 처음 공개되었습니다.\\n\\n**Source**\\n- data/SPRI_AI_Brief_2023년12월호_F.pdf (page 12)',\n",
       " 'documents': [Document(id='4b593f8a-46a7-4bc0-a210-cc18bd0c1270', metadata={'source': 'data/SPRI_AI_Brief_2023년12월호_F.pdf', 'file_path': 'data/SPRI_AI_Brief_2023년12월호_F.pdf', 'page': 1, 'total_pages': 23, 'Author': 'dj', 'Creator': 'Hwp 2018 10.0.0.13462', 'Producer': 'Hancom PDF 1.3.0.542', 'CreationDate': \"D:20231208132838+09'00'\", 'ModDate': \"D:20231208132838+09'00'\", 'PDFVersion': '1.4'}, page_content='▹ 삼성전자, 자체 개발 생성 AI ‘삼성 가우스’ 공개 ···························································10\\n▹ 구글, 앤스로픽에 20억 달러 투자로 생성 AI 협력 강화 ················································11\\n▹ IDC, 2027년 AI 소프트웨어 매출 2,500억 달러 돌파 전망···········································12'),\n",
       "  Document(id='db624ef3-ca1d-43b8-be26-01d725200ff3', metadata={'source': 'data/SPRI_AI_Brief_2023년12월호_F.pdf', 'file_path': 'data/SPRI_AI_Brief_2023년12월호_F.pdf', 'page': 12, 'total_pages': 23, 'Author': 'dj', 'Creator': 'Hwp 2018 10.0.0.13462', 'Producer': 'Hancom PDF 1.3.0.542', 'CreationDate': \"D:20231208132838+09'00'\", 'ModDate': \"D:20231208132838+09'00'\", 'PDFVersion': '1.4'}, page_content='SPRi AI Brief |\\n2023-12월호\\n삼성전자, 자체 개발 생성 AI ‘삼성 가우스’ 공개\\nKEY Contents\\nn 삼성전자가 온디바이스에서 작동 가능하며 언어, 코드, 이미지의 3개 모델로 구성된 자체 개발 생성\\nAI 모델 ‘삼성 가우스’를 공개\\nn 삼성전자는 삼성 가우스를 다양한 제품에 단계적으로 탑재할 계획으로, 온디바이스 작동이 가능한\\n삼성 가우스는 외부로 사용자 정보가 유출될 위험이 없다는 장점을 보유\\n£언어, 코드, 이미지의 3개 모델로 구성된 삼성 가우스, 온디바이스 작동 지원'),\n",
       "  Document(id='5c2a4f06-7a5e-4038-96b6-0ca21f8db105', metadata={'source': 'data/SPRI_AI_Brief_2023년12월호_F.pdf', 'file_path': 'data/SPRI_AI_Brief_2023년12월호_F.pdf', 'page': 12, 'total_pages': 23, 'Author': 'dj', 'Creator': 'Hwp 2018 10.0.0.13462', 'Producer': 'Hancom PDF 1.3.0.542', 'CreationDate': \"D:20231208132838+09'00'\", 'ModDate': \"D:20231208132838+09'00'\", 'PDFVersion': '1.4'}, page_content='£언어, 코드, 이미지의 3개 모델로 구성된 삼성 가우스, 온디바이스 작동 지원\\nn 삼성전자가 2023년 11월 8일 열린 ‘삼성 AI 포럼 2023’ 행사에서 자체 개발한 생성 AI 모델\\n‘삼성 가우스’를 최초 공개\\n∙ 정규분포 이론을 정립한 천재 수학자 가우스(Gauss)의 이름을 본뜬 삼성 가우스는 다양한 상황에\\n최적화된 크기의 모델 선택이 가능\\n∙ 삼성 가우스는 라이선스나 개인정보를 침해하지 않는 안전한 데이터를 통해 학습되었으며,\\n온디바이스에서 작동하도록 설계되어 외부로 사용자의 정보가 유출되지 않는 장점을 보유'),\n",
       "  Document(id='b5403b84-ed04-4ff2-a0d0-c208265a40bf', metadata={'source': 'data/SPRI_AI_Brief_2023년12월호_F.pdf', 'file_path': 'data/SPRI_AI_Brief_2023년12월호_F.pdf', 'page': 12, 'total_pages': 23, 'Author': 'dj', 'Creator': 'Hwp 2018 10.0.0.13462', 'Producer': 'Hancom PDF 1.3.0.542', 'CreationDate': \"D:20231208132838+09'00'\", 'ModDate': \"D:20231208132838+09'00'\", 'PDFVersion': '1.4'}, page_content='어시스턴트를 적용한 구글 픽셀(Pixel)과 경쟁할 것으로 예상\\n☞ 출처 : 삼성전자, ‘삼성 AI 포럼’서 자체 개발 생성형 AI ‘삼성 가우스’ 공개, 2023.11.08.\\n삼성전자, ‘삼성 개발자 콘퍼런스 코리아 2023’ 개최, 2023.11.14.\\nTechRepublic, Samsung Gauss: Samsung Research Reveals Generative AI, 2023.11.08.\\n10'),\n",
       "  Document(id='530f6e1a-6b7c-4360-add0-e35f4779d513', metadata={'source': 'data/SPRI_AI_Brief_2023년12월호_F.pdf', 'file_path': 'data/SPRI_AI_Brief_2023년12월호_F.pdf', 'page': 12, 'total_pages': 23, 'Author': 'dj', 'Creator': 'Hwp 2018 10.0.0.13462', 'Producer': 'Hancom PDF 1.3.0.542', 'CreationDate': \"D:20231208132838+09'00'\", 'ModDate': \"D:20231208132838+09'00'\", 'PDFVersion': '1.4'}, page_content='처리를 지원\\n∙ 코드 모델 기반의 AI 코딩 어시스턴트 ‘코드아이(code.i)’는 대화형 인터페이스로 서비스를 제공하며\\n사내 소프트웨어 개발에 최적화\\n∙ 이미지 모델은 창의적인 이미지를 생성하고 기존 이미지를 원하는 대로 바꿀 수 있도록 지원하며\\n저해상도 이미지의 고해상도 전환도 지원\\nn IT 전문지 테크리퍼블릭(TechRepublic)은 온디바이스 AI가 주요 기술 트렌드로 부상했다며,\\n2024년부터 가우스를 탑재한 삼성 스마트폰이 메타의 라마(Llama)2를 탑재한 퀄컴 기기 및 구글'),\n",
       "  Document(id='4ea9697a-f8f9-47c6-a186-e13430dbf95a', metadata={'source': 'data/SPRI_AI_Brief_2023년12월호_F.pdf', 'file_path': 'data/SPRI_AI_Brief_2023년12월호_F.pdf', 'page': 12, 'total_pages': 23, 'Author': 'dj', 'Creator': 'Hwp 2018 10.0.0.13462', 'Producer': 'Hancom PDF 1.3.0.542', 'CreationDate': \"D:20231208132838+09'00'\", 'ModDate': \"D:20231208132838+09'00'\", 'PDFVersion': '1.4'}, page_content='온디바이스에서 작동하도록 설계되어 외부로 사용자의 정보가 유출되지 않는 장점을 보유\\n∙ 삼성전자는 삼성 가우스를 활용한 온디바이스 AI 기술도 소개했으며, 생성 AI 모델을 다양한 제품에\\n단계적으로 탑재할 계획\\nn 삼성 가우스는 △텍스트를 생성하는 언어모델 △코드를 생성하는 코드 모델 △이미지를 생성하는\\n이미지 모델의 3개 모델로 구성\\n∙ 언어 모델은 클라우드와 온디바이스 대상 다양한 모델로 구성되며, 메일 작성, 문서 요약, 번역 업무의\\n처리를 지원')]}"
      ]
     },
     "execution_count": 101,
     "metadata": {},
     "output_type": "execute_result"
    }
   ],
   "source": [
    "state2"
   ]
  },
  {
   "cell_type": "code",
   "execution_count": 102,
   "metadata": {},
   "outputs": [
    {
     "name": "stdout",
     "output_type": "stream",
     "text": [
      "\n",
      "==========================================================================================\n",
      "🔄 [Node] hallucination 평가 노드 🔄\n",
      "===== [평가 결과] =====\n",
      "yes\n",
      "===== [DECISION: GENERATION IS GROUNDED IN DOCUMENTS] =====\n",
      "no hallucination\n",
      "===== [GRADE GENERATED ANSWER vs QUESTION] =====\n",
      "==== [DECISION: GENERATED ANSWER ADDRESSES QUESTION] ====\n",
      "relevant\n",
      "==========================================================================================\n",
      "\n"
     ]
    },
    {
     "data": {
      "text/plain": [
       "'relevant'"
      ]
     },
     "execution_count": 102,
     "metadata": {},
     "output_type": "execute_result"
    }
   ],
   "source": [
    "hallucination_check(state2)"
   ]
  },
  {
   "cell_type": "code",
   "execution_count": 103,
   "metadata": {},
   "outputs": [],
   "source": [
    "from langgraph.graph import StateGraph, END, START\n",
    "from langgraph.checkpoint.memory import MemorySaver\n",
    "from langchain_teddynote.graphs import visualize_graph"
   ]
  },
  {
   "cell_type": "code",
   "execution_count": 104,
   "metadata": {},
   "outputs": [],
   "source": [
    "######### 1. 그래프 생성 #########\n",
    "\n",
    "workflow = StateGraph(GraphState)"
   ]
  },
  {
   "cell_type": "code",
   "execution_count": 105,
   "metadata": {},
   "outputs": [
    {
     "data": {
      "text/plain": [
       "<langgraph.graph.state.StateGraph at 0x1cf50f94610>"
      ]
     },
     "execution_count": 105,
     "metadata": {},
     "output_type": "execute_result"
    }
   ],
   "source": [
    "######### 2. 노드 정의  #########\n",
    "\n",
    "workflow.add_node('web_search', web_search)                 # 웹 검색  \n",
    "workflow.add_node('retrieve', retrieve)                     # 문서 검색 노드\n",
    "workflow.add_node('grade_documents', grade_documents)       # 문서 검색으로 가져온 결과와 사용자 질문의 관련성을 평가하는 노드\n",
    "workflow.add_node('generate', generate)                     # 사용자 질문과 문서 검색결과를 가지고 답변 생성하는 노드\n",
    "workflow.add_node('transform_query', transform_query)       # 사용자 질문(쿼리)를 재작성하는 노드"
   ]
  },
  {
   "cell_type": "code",
   "execution_count": 106,
   "metadata": {},
   "outputs": [
    {
     "data": {
      "text/plain": [
       "<langgraph.graph.state.StateGraph at 0x1cf50f94610>"
      ]
     },
     "execution_count": 106,
     "metadata": {},
     "output_type": "execute_result"
    }
   ],
   "source": [
    "######### 3. 그래프 엣지(Edge) 추가  #########\n",
    "\n",
    "workflow.add_conditional_edges(\n",
    "    START, \n",
    "    route_question,                     # 질문 라우팅 노드  \n",
    "    {\n",
    "        'web_search': 'web_search',     # 웹 검색으로 라우팅\n",
    "        'vectorstore': 'retrieve'       # retrieve (PDF 문서 검색)로 라우팅\n",
    "    }\n",
    ")"
   ]
  },
  {
   "cell_type": "code",
   "execution_count": 107,
   "metadata": {},
   "outputs": [
    {
     "data": {
      "text/plain": [
       "<langgraph.graph.state.StateGraph at 0x1cf50f94610>"
      ]
     },
     "execution_count": 107,
     "metadata": {},
     "output_type": "execute_result"
    }
   ],
   "source": [
    "workflow.add_edge('web_search', 'generate')         # 웹 검색하고 답변 생성\n",
    "workflow.add_edge('retrieve', 'grade_documents')    # retrieve 노드에서 PDF 문서 검색실행 하고 결과를 문서 검색 평가기로 가서 평가"
   ]
  },
  {
   "cell_type": "code",
   "execution_count": 108,
   "metadata": {},
   "outputs": [
    {
     "data": {
      "text/plain": [
       "<langgraph.graph.state.StateGraph at 0x1cf50f94610>"
      ]
     },
     "execution_count": 108,
     "metadata": {},
     "output_type": "execute_result"
    }
   ],
   "source": [
    "workflow.add_conditional_edges(\n",
    "    'grade_documents',                              # 문서 검색으로 가져온 결과와 사용자 질문의 관련성을 평가하는 노드\n",
    "    decide_to_generate,                             # 문서 관련성 평가\n",
    "    {\n",
    "        'transform_query': 'transform_query',       # 사용자 입력 다시 작성 필요\n",
    "        'generate': 'generate'                      # 답변 생성\n",
    "    }\n",
    ")"
   ]
  },
  {
   "cell_type": "code",
   "execution_count": 109,
   "metadata": {},
   "outputs": [
    {
     "data": {
      "text/plain": [
       "<langgraph.graph.state.StateGraph at 0x1cf50f94610>"
      ]
     },
     "execution_count": 109,
     "metadata": {},
     "output_type": "execute_result"
    }
   ],
   "source": [
    "workflow.add_edge('transform_query', 'retrieve')    # 쿼리 다시 작성한 뒤 문서 검색"
   ]
  },
  {
   "cell_type": "code",
   "execution_count": 110,
   "metadata": {},
   "outputs": [
    {
     "data": {
      "text/plain": [
       "<langgraph.graph.state.StateGraph at 0x1cf50f94610>"
      ]
     },
     "execution_count": 110,
     "metadata": {},
     "output_type": "execute_result"
    }
   ],
   "source": [
    "workflow.add_conditional_edges(\n",
    "    'generate',\n",
    "    hallucination_check,\n",
    "    {\n",
    "        'hallucination': 'generate',                # Hallucination 발생 시 재생성\n",
    "        'relevant': END,                            # 답변 관련성 통과     \n",
    "        'not relevant': 'transform_query'           # 딥변 관련성 통과 못하는 경우. 쿼리 다시 작성\n",
    "    }\n",
    ")"
   ]
  },
  {
   "cell_type": "code",
   "execution_count": 111,
   "metadata": {},
   "outputs": [],
   "source": [
    "######### 4. 체크 포인터 설정  #########\n",
    "\n",
    "memory = MemorySaver()"
   ]
  },
  {
   "cell_type": "code",
   "execution_count": 112,
   "metadata": {},
   "outputs": [],
   "source": [
    "######### 5. 그래프 컴파일(compile)  #########\n",
    "\n",
    "app = workflow.compile(checkpointer=memory)"
   ]
  },
  {
   "cell_type": "code",
   "execution_count": 113,
   "metadata": {},
   "outputs": [
    {
     "data": {
      "image/png": "[encoded data removed]",
      "text/plain": [
       "<IPython.core.display.Image object>"
      ]
     },
     "metadata": {},
     "output_type": "display_data"
    }
   ],
   "source": [
    "visualize_graph(app)"
   ]
  },
  {
   "cell_type": "code",
   "execution_count": 114,
   "metadata": {},
   "outputs": [],
   "source": [
    "from langchain_core.runnables import RunnableConfig\n",
    "from langchain_teddynote.messages import invoke_graph, stream_graph, random_uuid"
   ]
  },
  {
   "cell_type": "code",
   "execution_count": 115,
   "metadata": {},
   "outputs": [
    {
     "name": "stdout",
     "output_type": "stream",
     "text": [
      "\n",
      "==========================================================================================\n",
      "🔄 [Node] 질문 라우팅 노드 🔄\n",
      "==== [ROUTE QUESTION TO VECTORSTORE] ====\n",
      "==========================================================================================\n",
      "\n",
      "[node_name]: retrieve\n",
      "[node_chunk]:\n",
      " {'documents': [Document(id='db624ef3-ca1d-43b8-be26-01d725200ff3', metadata={'source': 'data/SPRI_AI_Brief_2023년12월호_F.pdf', 'file_path': 'data/SPRI_AI_Brief_2023년12월호_F.pdf', 'page': 12, 'total_pages': 23, 'Author': 'dj', 'Creator': 'Hwp 2018 10.0.0.13462', 'Producer': 'Hancom PDF 1.3.0.542', 'CreationDate': \"D:20231208132838+09'00'\", 'ModDate': \"D:20231208132838+09'00'\", 'PDFVersion': '1.4'}, page_content='SPRi AI Brief |\\n2023-12월호\\n삼성전자, 자체 개발 생성 AI ‘삼성 가우스’ 공개\\nKEY Contents\\nn 삼성전자가 온디바이스에서 작동 가능하며 언어, 코드, 이미지의 3개 모델로 구성된 자체 개발 생성\\nAI 모델 ‘삼성 가우스’를 공개\\nn 삼성전자는 삼성 가우스를 다양한 제품에 단계적으로 탑재할 계획으로, 온디바이스 작동이 가능한\\n삼성 가우스는 외부로 사용자 정보가 유출될 위험이 없다는 장점을 보유\\n£언어, 코드, 이미지의 3개 모델로 구성된 삼성 가우스, 온디바이스 작동 지원'), Document(id='4b593f8a-46a7-4bc0-a210-cc18bd0c1270', metadata={'source': 'data/SPRI_AI_Brief_2023년12월호_F.pdf', 'file_path': 'data/SPRI_AI_Brief_2023년12월호_F.pdf', 'page': 1, 'total_pages': 23, 'Author': 'dj', 'Creator': 'Hwp 2018 10.0.0.13462', 'Producer': 'Hancom PDF 1.3.0.542', 'CreationDate': \"D:20231208132838+09'00'\", 'ModDate': \"D:20231208132838+09'00'\", 'PDFVersion': '1.4'}, page_content='▹ 삼성전자, 자체 개발 생성 AI ‘삼성 가우스’ 공개 ···························································10\\n▹ 구글, 앤스로픽에 20억 달러 투자로 생성 AI 협력 강화 ················································11\\n▹ IDC, 2027년 AI 소프트웨어 매출 2,500억 달러 돌파 전망···········································12'), Document(id='5c2a4f06-7a5e-4038-96b6-0ca21f8db105', metadata={'source': 'data/SPRI_AI_Brief_2023년12월호_F.pdf', 'file_path': 'data/SPRI_AI_Brief_2023년12월호_F.pdf', 'page': 12, 'total_pages': 23, 'Author': 'dj', 'Creator': 'Hwp 2018 10.0.0.13462', 'Producer': 'Hancom PDF 1.3.0.542', 'CreationDate': \"D:20231208132838+09'00'\", 'ModDate': \"D:20231208132838+09'00'\", 'PDFVersion': '1.4'}, page_content='£언어, 코드, 이미지의 3개 모델로 구성된 삼성 가우스, 온디바이스 작동 지원\\nn 삼성전자가 2023년 11월 8일 열린 ‘삼성 AI 포럼 2023’ 행사에서 자체 개발한 생성 AI 모델\\n‘삼성 가우스’를 최초 공개\\n∙ 정규분포 이론을 정립한 천재 수학자 가우스(Gauss)의 이름을 본뜬 삼성 가우스는 다양한 상황에\\n최적화된 크기의 모델 선택이 가능\\n∙ 삼성 가우스는 라이선스나 개인정보를 침해하지 않는 안전한 데이터를 통해 학습되었으며,\\n온디바이스에서 작동하도록 설계되어 외부로 사용자의 정보가 유출되지 않는 장점을 보유'), Document(id='b5403b84-ed04-4ff2-a0d0-c208265a40bf', metadata={'source': 'data/SPRI_AI_Brief_2023년12월호_F.pdf', 'file_path': 'data/SPRI_AI_Brief_2023년12월호_F.pdf', 'page': 12, 'total_pages': 23, 'Author': 'dj', 'Creator': 'Hwp 2018 10.0.0.13462', 'Producer': 'Hancom PDF 1.3.0.542', 'CreationDate': \"D:20231208132838+09'00'\", 'ModDate': \"D:20231208132838+09'00'\", 'PDFVersion': '1.4'}, page_content='어시스턴트를 적용한 구글 픽셀(Pixel)과 경쟁할 것으로 예상\\n☞ 출처 : 삼성전자, ‘삼성 AI 포럼’서 자체 개발 생성형 AI ‘삼성 가우스’ 공개, 2023.11.08.\\n삼성전자, ‘삼성 개발자 콘퍼런스 코리아 2023’ 개최, 2023.11.14.\\nTechRepublic, Samsung Gauss: Samsung Research Reveals Generative AI, 2023.11.08.\\n10'), Document(id='3919cc35-38ff-437b-a887-95b14a57c60e', metadata={'source': 'data/SPRI_AI_Brief_2023년12월호_F.pdf', 'file_path': 'data/SPRI_AI_Brief_2023년12월호_F.pdf', 'page': 18, 'total_pages': 23, 'Author': 'dj', 'Creator': 'Hwp 2018 10.0.0.13462', 'Producer': 'Hancom PDF 1.3.0.542', 'CreationDate': \"D:20231208132838+09'00'\", 'ModDate': \"D:20231208132838+09'00'\", 'PDFVersion': '1.4'}, page_content='<구글 딥마인드의 범용 AI 분류 프레임워크>\\n성능 특수 AI 예시 범용 AI 예시\\n0단계: AI 아님 계산기 소프트웨어, 컴파일러 아마존 메커니컬 터크\\n1단계: 신진(숙련되지 않은 인간) GOFAI(Good Old Fashioned Artificial Intelligence) 챗GPT, 바드, 라마2\\n스마트 스피커(애플 시리, 아마존 알렉사, 구글\\n2단계: 유능(숙련된 인간의 50% 이상) 미달성\\n어시스턴트), IBM 왓슨\\n3단계: 전문가(숙련된 인간의 90% 이상) 문법 교정기(그래머리), 생성 이미지 모델(달리2) 미달성'), Document(id='530f6e1a-6b7c-4360-add0-e35f4779d513', metadata={'source': 'data/SPRI_AI_Brief_2023년12월호_F.pdf', 'file_path': 'data/SPRI_AI_Brief_2023년12월호_F.pdf', 'page': 12, 'total_pages': 23, 'Author': 'dj', 'Creator': 'Hwp 2018 10.0.0.13462', 'Producer': 'Hancom PDF 1.3.0.542', 'CreationDate': \"D:20231208132838+09'00'\", 'ModDate': \"D:20231208132838+09'00'\", 'PDFVersion': '1.4'}, page_content='처리를 지원\\n∙ 코드 모델 기반의 AI 코딩 어시스턴트 ‘코드아이(code.i)’는 대화형 인터페이스로 서비스를 제공하며\\n사내 소프트웨어 개발에 최적화\\n∙ 이미지 모델은 창의적인 이미지를 생성하고 기존 이미지를 원하는 대로 바꿀 수 있도록 지원하며\\n저해상도 이미지의 고해상도 전환도 지원\\nn IT 전문지 테크리퍼블릭(TechRepublic)은 온디바이스 AI가 주요 기술 트렌드로 부상했다며,\\n2024년부터 가우스를 탑재한 삼성 스마트폰이 메타의 라마(Llama)2를 탑재한 퀄컴 기기 및 구글'), Document(id='4ea9697a-f8f9-47c6-a186-e13430dbf95a', metadata={'source': 'data/SPRI_AI_Brief_2023년12월호_F.pdf', 'file_path': 'data/SPRI_AI_Brief_2023년12월호_F.pdf', 'page': 12, 'total_pages': 23, 'Author': 'dj', 'Creator': 'Hwp 2018 10.0.0.13462', 'Producer': 'Hancom PDF 1.3.0.542', 'CreationDate': \"D:20231208132838+09'00'\", 'ModDate': \"D:20231208132838+09'00'\", 'PDFVersion': '1.4'}, page_content='온디바이스에서 작동하도록 설계되어 외부로 사용자의 정보가 유출되지 않는 장점을 보유\\n∙ 삼성전자는 삼성 가우스를 활용한 온디바이스 AI 기술도 소개했으며, 생성 AI 모델을 다양한 제품에\\n단계적으로 탑재할 계획\\nn 삼성 가우스는 △텍스트를 생성하는 언어모델 △코드를 생성하는 코드 모델 △이미지를 생성하는\\n이미지 모델의 3개 모델로 구성\\n∙ 언어 모델은 클라우드와 온디바이스 대상 다양한 모델로 구성되며, 메일 작성, 문서 요약, 번역 업무의\\n처리를 지원'), Document(id='334653c8-8430-47a7-94e9-e974d3dc8e59', metadata={'source': 'data/SPRI_AI_Brief_2023년12월호_F.pdf', 'file_path': 'data/SPRI_AI_Brief_2023년12월호_F.pdf', 'page': 11, 'total_pages': 23, 'Author': 'dj', 'Creator': 'Hwp 2018 10.0.0.13462', 'Producer': 'Hancom PDF 1.3.0.542', 'CreationDate': \"D:20231208132838+09'00'\", 'ModDate': \"D:20231208132838+09'00'\", 'PDFVersion': '1.4'}, page_content='제작을 포함\\nn 알리바바 클라우드는 급증하는 생성 AI 수요에 대응해 모델 개발과 애플리케이션 구축 절차를\\n간소화하는 올인원 AI 모델 구축 플랫폼 ‘젠AI(GenAI)’도 공개\\n∙ 이 플랫폼은 데이터 관리, 모델 배포와 평가, 신속한 엔지니어링을 위한 종합 도구 모음을 제공하여\\n다양한 기업들이 맞춤형 AI 모델을 한층 쉽게 개발할 수 있도록 지원\\n∙ 생성 AI 개발에 필요한 컴퓨팅과 데이터 처리 요구사항을 지원하기 위해 AI 플랫폼(PAI),\\n데이터베이스 솔루션, 컨테이너 서비스와 같은 클라우드 신제품도 발표'), Document(id='b0574e4f-e0b4-409b-8408-0121d03379b2', metadata={'source': 'data/SPRI_AI_Brief_2023년12월호_F.pdf', 'file_path': 'data/SPRI_AI_Brief_2023년12월호_F.pdf', 'page': 1, 'total_pages': 23, 'Author': 'dj', 'Creator': 'Hwp 2018 10.0.0.13462', 'Producer': 'Hancom PDF 1.3.0.542', 'CreationDate': \"D:20231208132838+09'00'\", 'ModDate': \"D:20231208132838+09'00'\", 'PDFVersion': '1.4'}, page_content='▹ 빌 게이츠, AI 에이전트로 인한 컴퓨터 사용의 패러다임 변화 전망································13\\n▹ 유튜브, 2024년부터 AI 생성 콘텐츠 표시 의무화····························································14\\n3. 기술/연구\\n▹ 영국 과학혁신기술부, AI 안전 연구소 설립 발표······························································15'), Document(id='2c542c28-5fa9-4715-8118-9292b81cbeed', metadata={'source': 'data/SPRI_AI_Brief_2023년12월호_F.pdf', 'file_path': 'data/SPRI_AI_Brief_2023년12월호_F.pdf', 'page': 18, 'total_pages': 23, 'Author': 'dj', 'Creator': 'Hwp 2018 10.0.0.13462', 'Producer': 'Hancom PDF 1.3.0.542', 'CreationDate': \"D:20231208132838+09'00'\", 'ModDate': \"D:20231208132838+09'00'\", 'PDFVersion': '1.4'}, page_content='£챗GPT와 구글 바드와 같은 AI 챗봇은 범용 AI 1단계 수준\\nn 구글 딥마인드 연구진은 2023년 11월 4일 범용 AI(Artificial General Intelligence, AGI) 모델을 용도와\\n성능에 따라 분류하는 프레임워크를 제시한 논문을 발표\\n∙ 프레임워크의 목적은 AGI의 성능, 범용성, 자율성 수준을 정의하여 모델 간 비교와 위험 평가, AGI\\n달성까지의 진행 상황을 측정할 수 있는 공통 기준을 제공하기 위함\\nn 연구진은 AGI 개념 정의에 필요한 기준을 수립하기 위한 6가지 원칙을 아래와 같이 도출')]}\n",
      "---GRADE: DOCUMENT RELEVANT---\n",
      "---GRADE: DOCUMENT RELEVANT---\n",
      "---GRADE: DOCUMENT RELEVANT---\n",
      "---GRADE: DOCUMENT RELEVANT---\n",
      "---GRADE: DOCUMENT NOT RELEVANT---\n",
      "---GRADE: DOCUMENT RELEVANT---\n",
      "---GRADE: DOCUMENT RELEVANT---\n",
      "---GRADE: DOCUMENT NOT RELEVANT---\n",
      "---GRADE: DOCUMENT NOT RELEVANT---\n",
      "---GRADE: DOCUMENT NOT RELEVANT---\n",
      "\n",
      "==========================================================================================\n",
      "🔄 [Node] 문서 관련성 평가 노드 🔄\n",
      "===== [DECISION: GENERATE] =====\n",
      "==========================================================================================\n",
      "\n",
      "[node_name]: grade_documents\n",
      "[node_chunk]:\n",
      " {'documents': [Document(id='db624ef3-ca1d-43b8-be26-01d725200ff3', metadata={'source': 'data/SPRI_AI_Brief_2023년12월호_F.pdf', 'file_path': 'data/SPRI_AI_Brief_2023년12월호_F.pdf', 'page': 12, 'total_pages': 23, 'Author': 'dj', 'Creator': 'Hwp 2018 10.0.0.13462', 'Producer': 'Hancom PDF 1.3.0.542', 'CreationDate': \"D:20231208132838+09'00'\", 'ModDate': \"D:20231208132838+09'00'\", 'PDFVersion': '1.4'}, page_content='SPRi AI Brief |\\n2023-12월호\\n삼성전자, 자체 개발 생성 AI ‘삼성 가우스’ 공개\\nKEY Contents\\nn 삼성전자가 온디바이스에서 작동 가능하며 언어, 코드, 이미지의 3개 모델로 구성된 자체 개발 생성\\nAI 모델 ‘삼성 가우스’를 공개\\nn 삼성전자는 삼성 가우스를 다양한 제품에 단계적으로 탑재할 계획으로, 온디바이스 작동이 가능한\\n삼성 가우스는 외부로 사용자 정보가 유출될 위험이 없다는 장점을 보유\\n£언어, 코드, 이미지의 3개 모델로 구성된 삼성 가우스, 온디바이스 작동 지원'), Document(id='4b593f8a-46a7-4bc0-a210-cc18bd0c1270', metadata={'source': 'data/SPRI_AI_Brief_2023년12월호_F.pdf', 'file_path': 'data/SPRI_AI_Brief_2023년12월호_F.pdf', 'page': 1, 'total_pages': 23, 'Author': 'dj', 'Creator': 'Hwp 2018 10.0.0.13462', 'Producer': 'Hancom PDF 1.3.0.542', 'CreationDate': \"D:20231208132838+09'00'\", 'ModDate': \"D:20231208132838+09'00'\", 'PDFVersion': '1.4'}, page_content='▹ 삼성전자, 자체 개발 생성 AI ‘삼성 가우스’ 공개 ···························································10\\n▹ 구글, 앤스로픽에 20억 달러 투자로 생성 AI 협력 강화 ················································11\\n▹ IDC, 2027년 AI 소프트웨어 매출 2,500억 달러 돌파 전망···········································12'), Document(id='5c2a4f06-7a5e-4038-96b6-0ca21f8db105', metadata={'source': 'data/SPRI_AI_Brief_2023년12월호_F.pdf', 'file_path': 'data/SPRI_AI_Brief_2023년12월호_F.pdf', 'page': 12, 'total_pages': 23, 'Author': 'dj', 'Creator': 'Hwp 2018 10.0.0.13462', 'Producer': 'Hancom PDF 1.3.0.542', 'CreationDate': \"D:20231208132838+09'00'\", 'ModDate': \"D:20231208132838+09'00'\", 'PDFVersion': '1.4'}, page_content='£언어, 코드, 이미지의 3개 모델로 구성된 삼성 가우스, 온디바이스 작동 지원\\nn 삼성전자가 2023년 11월 8일 열린 ‘삼성 AI 포럼 2023’ 행사에서 자체 개발한 생성 AI 모델\\n‘삼성 가우스’를 최초 공개\\n∙ 정규분포 이론을 정립한 천재 수학자 가우스(Gauss)의 이름을 본뜬 삼성 가우스는 다양한 상황에\\n최적화된 크기의 모델 선택이 가능\\n∙ 삼성 가우스는 라이선스나 개인정보를 침해하지 않는 안전한 데이터를 통해 학습되었으며,\\n온디바이스에서 작동하도록 설계되어 외부로 사용자의 정보가 유출되지 않는 장점을 보유'), Document(id='b5403b84-ed04-4ff2-a0d0-c208265a40bf', metadata={'source': 'data/SPRI_AI_Brief_2023년12월호_F.pdf', 'file_path': 'data/SPRI_AI_Brief_2023년12월호_F.pdf', 'page': 12, 'total_pages': 23, 'Author': 'dj', 'Creator': 'Hwp 2018 10.0.0.13462', 'Producer': 'Hancom PDF 1.3.0.542', 'CreationDate': \"D:20231208132838+09'00'\", 'ModDate': \"D:20231208132838+09'00'\", 'PDFVersion': '1.4'}, page_content='어시스턴트를 적용한 구글 픽셀(Pixel)과 경쟁할 것으로 예상\\n☞ 출처 : 삼성전자, ‘삼성 AI 포럼’서 자체 개발 생성형 AI ‘삼성 가우스’ 공개, 2023.11.08.\\n삼성전자, ‘삼성 개발자 콘퍼런스 코리아 2023’ 개최, 2023.11.14.\\nTechRepublic, Samsung Gauss: Samsung Research Reveals Generative AI, 2023.11.08.\\n10'), Document(id='530f6e1a-6b7c-4360-add0-e35f4779d513', metadata={'source': 'data/SPRI_AI_Brief_2023년12월호_F.pdf', 'file_path': 'data/SPRI_AI_Brief_2023년12월호_F.pdf', 'page': 12, 'total_pages': 23, 'Author': 'dj', 'Creator': 'Hwp 2018 10.0.0.13462', 'Producer': 'Hancom PDF 1.3.0.542', 'CreationDate': \"D:20231208132838+09'00'\", 'ModDate': \"D:20231208132838+09'00'\", 'PDFVersion': '1.4'}, page_content='처리를 지원\\n∙ 코드 모델 기반의 AI 코딩 어시스턴트 ‘코드아이(code.i)’는 대화형 인터페이스로 서비스를 제공하며\\n사내 소프트웨어 개발에 최적화\\n∙ 이미지 모델은 창의적인 이미지를 생성하고 기존 이미지를 원하는 대로 바꿀 수 있도록 지원하며\\n저해상도 이미지의 고해상도 전환도 지원\\nn IT 전문지 테크리퍼블릭(TechRepublic)은 온디바이스 AI가 주요 기술 트렌드로 부상했다며,\\n2024년부터 가우스를 탑재한 삼성 스마트폰이 메타의 라마(Llama)2를 탑재한 퀄컴 기기 및 구글'), Document(id='4ea9697a-f8f9-47c6-a186-e13430dbf95a', metadata={'source': 'data/SPRI_AI_Brief_2023년12월호_F.pdf', 'file_path': 'data/SPRI_AI_Brief_2023년12월호_F.pdf', 'page': 12, 'total_pages': 23, 'Author': 'dj', 'Creator': 'Hwp 2018 10.0.0.13462', 'Producer': 'Hancom PDF 1.3.0.542', 'CreationDate': \"D:20231208132838+09'00'\", 'ModDate': \"D:20231208132838+09'00'\", 'PDFVersion': '1.4'}, page_content='온디바이스에서 작동하도록 설계되어 외부로 사용자의 정보가 유출되지 않는 장점을 보유\\n∙ 삼성전자는 삼성 가우스를 활용한 온디바이스 AI 기술도 소개했으며, 생성 AI 모델을 다양한 제품에\\n단계적으로 탑재할 계획\\nn 삼성 가우스는 △텍스트를 생성하는 언어모델 △코드를 생성하는 코드 모델 △이미지를 생성하는\\n이미지 모델의 3개 모델로 구성\\n∙ 언어 모델은 클라우드와 온디바이스 대상 다양한 모델로 구성되며, 메일 작성, 문서 요약, 번역 업무의\\n처리를 지원')]}\n",
      "\n",
      "==========================================================================================\n",
      "🔄 [Node] hallucination 평가 노드 🔄\n",
      "===== [평가 결과] =====\n",
      "yes\n",
      "===== [DECISION: GENERATION IS GROUNDED IN DOCUMENTS] =====\n",
      "no hallucination\n",
      "===== [GRADE GENERATED ANSWER vs QUESTION] =====\n",
      "==== [DECISION: GENERATED ANSWER ADDRESSES QUESTION] ====\n",
      "relevant\n",
      "==========================================================================================\n",
      "\n",
      "[node_name]: generate\n",
      "[node_chunk]:\n",
      " {'generation': '삼성전자가 공개한 생성 AI 모델 ‘삼성 가우스’는 언어, 코드, 이미지의 3개 모델로 구성되어 있으며, 온디바이스에서 작동하도록 설계되어 사용자 정보 유출 위험이 없다. 이 모델은 2023년 11월 8일 ‘삼성 AI 포럼 2023’에서 처음 공개되었다.\\n\\n**Source**\\n- data/SPRI_AI_Brief_2023년12월호_F.pdf (page 12)'}\n"
     ]
    }
   ],
   "source": [
    "config = RunnableConfig(                        # config 설정\n",
    "    recursion_limit=20,                         # 최대 20개의 노드까지 방문.\n",
    "    configurable={'thread_id': random_uuid()}   # thread_id 설정\n",
    ")\n",
    "\n",
    "inputs = GraphState(question='삼성전자가 개발한 생성형 AI 이름은?')\n",
    "\n",
    "for event in app.stream(inputs, config=config):\n",
    "    for node_name, node_chunk in event.items():\n",
    "        print('[node_name]:', node_name)\n",
    "        print('[node_chunk]:\\n', node_chunk)"
   ]
  },
  {
   "cell_type": "code",
   "execution_count": 119,
   "metadata": {},
   "outputs": [
    {
     "name": "stdout",
     "output_type": "stream",
     "text": [
      "\n",
      "==========================================================================================\n",
      "🔄 [Node] 질문 라우팅 노드 🔄\n",
      "==== [ROUTE QUESTION TO WEB SEARCH] ====\n",
      "==========================================================================================\n",
      "\n",
      "[node_name]: web_search\n",
      "[node_chunk]:\n",
      " {'documents': [Document(metadata={'source': 'https://www.localview.co.kr/store/detail.asp?seq=600977851'}, page_content='국민정신문화 향상, 사회교육적 기능을 살린 문화공간을 창출하는 문고 대구광역시 중구 동성로2가 위치, 영업점, 이벤트, 행사 등 안내, 보유도서 검색 제공. 대구의 중심가 동성로에 있는 교보문고 대구점은 총 면적 1,900평의 넓은 매장과 15만 종 30만 권의 방대한 도서를 바탕으로 대구를 대표하는'), Document(metadata={'source': 'https://www.localview.co.kr/store/detail.asp?seq=600977851'}, page_content='국민정신문화 향상, 사회교육적 기능을 살린 문화공간을 창출하는 문고 대구광역시 중구 동성로2가 위치, 영업점, 이벤트, 행사 등 안내, 보유도서 검색 제공. 대구의 중심가 동성로에 있는 교보문고 대구점은 총 면적 1,900평의 넓은 매장과 15만 종 30만 권의 방대한 도서를 바탕으로 대구를 대표하는'), Document(metadata={'source': 'https://m.blog.naver.com/sh_baekwoon/223359878100'}, page_content='대구 교보문고 대구점 방문 후기 : 네이버 블로그 대구 교보문고 대구점 방문 후기 며칠 전 동성로에 다녀오면서 교보문고 대구점도 방문하게 되어서 방문 후기도 포스팅! 대구에는 교보문고 대구점, 교보문고 칠곡점 이렇게 두 군데가 있어요~ 칠곡점은 아직 가보지 못했고 교보문고 대구점은 아이들과 책 구매를 위해 한 번씩 방문해요~ 아이들 키우는 부모들은 책 읽는 게 중요하다고 아이들에게 말하지만 실상은 그 부모들도 한 달에 책 한 권 읽지 않는 사람들이 \\x08상당히 많아요~ 저 또한 책과 친하진 않아요 ㅠㅠ 교보문고 대구점 그래서 도서검색을 할 수 있는 PC가 있는데 사람들도 워낙 많다 보니 사용하기 위해서는 대기를 해야 하지만~ 교보문고 대구점은 검색 PC들이 많이 구비되어 있어서 기다림 없이 검색할 수 있어요~ 혼자서도 필요한 책 잘 검색해요 ㅎ 책 산다고 해서 그냥 그림책 정도인 줄 알았더니 생각보다 글 양이 많더라고요 ㅎ 오랜만에 교보문고 대구점 다녀왔네요~ {\"title\":\"대구 교보문고 대구점 방문 후기\",\"source\":\"https://blog.naver.com/sh_baekwoon/223359878100\",\"blogName\":\"보상의 모..\",\"domainIdOrBlogId\":\"sh_baekwoon\",\"nicknameOrBlogId\":\"권 소장\",\"logNo\":223359878100,\"smartEditorVersion\":4,\"cafeDisplay\":true,\"outsideDisplay\":true,\"lineDisplay\":true,\"blogDisplay\":true,\"meDisplay\":true}'), Document(metadata={'source': 'https://m.blog.naver.com/sh_baekwoon/223359878100'}, page_content='대구 교보문고 대구점 방문 후기 : 네이버 블로그 대구 교보문고 대구점 방문 후기 며칠 전 동성로에 다녀오면서 교보문고 대구점도 방문하게 되어서 방문 후기도 포스팅! 대구에는 교보문고 대구점, 교보문고 칠곡점 이렇게 두 군데가 있어요~ 칠곡점은 아직 가보지 못했고 교보문고 대구점은 아이들과 책 구매를 위해 한 번씩 방문해요~ 아이들 키우는 부모들은 책 읽는 게 중요하다고 아이들에게 말하지만 실상은 그 부모들도 한 달에 책 한 권 읽지 않는 사람들이 \\x08상당히 많아요~ 저 또한 책과 친하진 않아요 ㅠㅠ 교보문고 대구점 그래서 도서검색을 할 수 있는 PC가 있는데 사람들도 워낙 많다 보니 사용하기 위해서는 대기를 해야 하지만~ 교보문고 대구점은 검색 PC들이 많이 구비되어 있어서 기다림 없이 검색할 수 있어요~ 혼자서도 필요한 책 잘 검색해요 ㅎ 책 산다고 해서 그냥 그림책 정도인 줄 알았더니 생각보다 글 양이 많더라고요 ㅎ 오랜만에 교보문고 대구점 다녀왔네요~ {\"title\":\"대구 교보문고 대구점 방문 후기\",\"source\":\"https://blog.naver.com/sh_baekwoon/223359878100\",\"blogName\":\"보상의 모..\",\"domainIdOrBlogId\":\"sh_baekwoon\",\"nicknameOrBlogId\":\"권 소장\",\"logNo\":223359878100,\"smartEditorVersion\":4,\"cafeDisplay\":true,\"outsideDisplay\":true,\"lineDisplay\":true,\"blogDisplay\":true,\"meDisplay\":true}'), Document(metadata={'source': 'https://store.kyobobook.co.kr/store-info/004'}, page_content=\"대구점 매장안내 - 교보문고 브랜드 더보기 회원가입 로그인 회원혜택 주문배송 매장안내 고객센터 통합검색 search button 전체메뉴 책!책!책! 신학기혜택 베스트 신상품 이벤트 바로펀딩 PICKS CASTing 컬처라운지 오늘의 미션 할인혜택 드디어 책책책 공개! 대구점 MY매장 서울 경기/인천 수도권 외 로그인 후 MY매장을 설정해 보세요. 설정하기 대구점 마이매장 설정 매장주소 대구광역시 중구 국채보상로 586, 교보생명빌딩 1~3층 *   영업시간 *   휴점 설(당일), 추석(당일) 지도 보기매장 문의 053-425-3501 Notice 김재원 아나운서의 힐링 에세이 '엄마의 얼굴' 사인회 코미디언 이경규의 첫 에세이 '삶이라는 완벽한 농담' 출간 기념 사인회 [강연회] 김진구 저자, <수술실에서 보낸 3만 시간> 매장 안내도 이벤트&공지사항 매장 서비스 보유 도서를 검색해보세요 search button 이벤트&공지사항 매장 서비스 공지사항 서울특별시 종로구 종로1 서울특별시 통신판매업신고번호 : 제 653호사업자정보확인 정보보호관리체계 ISMS 인증획득[인증범위] 인터넷 교보문고 및 브랜드 서비스 운영 이벤트\"), Document(metadata={'source': 'https://store.kyobobook.co.kr/store-info/004'}, page_content=\"대구점 매장안내 - 교보문고 브랜드 더보기 회원가입 로그인 회원혜택 주문배송 매장안내 고객센터 통합검색 search button 전체메뉴 책!책!책! 신학기혜택 베스트 신상품 이벤트 바로펀딩 PICKS CASTing 컬처라운지 오늘의 미션 할인혜택 드디어 책책책 공개! 대구점 MY매장 서울 경기/인천 수도권 외 로그인 후 MY매장을 설정해 보세요. 설정하기 대구점 마이매장 설정 매장주소 대구광역시 중구 국채보상로 586, 교보생명빌딩 1~3층 *   영업시간 *   휴점 설(당일), 추석(당일) 지도 보기매장 문의 053-425-3501 Notice 김재원 아나운서의 힐링 에세이 '엄마의 얼굴' 사인회 코미디언 이경규의 첫 에세이 '삶이라는 완벽한 농담' 출간 기념 사인회 [강연회] 김진구 저자, <수술실에서 보낸 3만 시간> 매장 안내도 이벤트&공지사항 매장 서비스 보유 도서를 검색해보세요 search button 이벤트&공지사항 매장 서비스 공지사항 서울특별시 종로구 종로1 서울특별시 통신판매업신고번호 : 제 653호사업자정보확인 정보보호관리체계 ISMS 인증획득[인증범위] 인터넷 교보문고 및 브랜드 서비스 운영 이벤트\")]}\n",
      "\n",
      "==========================================================================================\n",
      "🔄 [Node] hallucination 평가 노드 🔄\n",
      "===== [평가 결과] =====\n",
      "yes\n",
      "===== [DECISION: GENERATION IS GROUNDED IN DOCUMENTS] =====\n",
      "no hallucination\n",
      "===== [GRADE GENERATED ANSWER vs QUESTION] =====\n",
      "==== [DECISION: GENERATED ANSWER ADDRESSES QUESTION] ====\n",
      "relevant\n",
      "==========================================================================================\n",
      "\n",
      "[node_name]: generate\n",
      "[node_chunk]:\n",
      " {'generation': '교보문고 대구점은 대구광역시 중구 동성로2가에 위치하며, 총 면적은 1,900평이고, 15만 종 30만 권의 도서를 보유하고 있습니다.\\n\\n**Source**\\n- https://www.localview.co.kr/store/detail.asp?seq=600977851\\n- https://store.kyobobook.co.kr/store-info/004'}\n"
     ]
    }
   ],
   "source": [
    "config = RunnableConfig(                        # config 설정\n",
    "    recursion_limit=20,                         # 최대 20개의 노드까지 방문.\n",
    "    configurable={'thread_id': random_uuid()}   # thread_id 설정\n",
    ")\n",
    "\n",
    "inputs = GraphState(question='대구 교보문고')\n",
    "\n",
    "for event in app.stream(inputs, config=config):\n",
    "    for node_name, node_chunk in event.items():\n",
    "        print('[node_name]:', node_name)\n",
    "        print('[node_chunk]:\\n', node_chunk)"
   ]
  },
  {
   "cell_type": "code",
   "execution_count": 120,
   "metadata": {},
   "outputs": [
    {
     "name": "stdout",
     "output_type": "stream",
     "text": [
      "\n",
      "==========================================================================================\n",
      "🔄 [Node] 질문 라우팅 노드 🔄\n",
      "==== [ROUTE QUESTION TO WEB SEARCH] ====\n",
      "==========================================================================================\n",
      "\n",
      "===== for 시작 1 =====\n",
      "== for 시작 1 - 1 ==\n",
      "state_key : web_search\n",
      "state_value: \n",
      " {'documents': [Document(metadata={'source': 'https://www.localview.co.kr/store/detail.asp?seq=600977851'}, page_content='국민정신문화 향상, 사회교육적 기능을 살린 문화공간을 창출하는 문고 대구광역시 중구 동성로2가 위치, 영업점, 이벤트, 행사 등 안내, 보유도서 검색 제공. 대구의 중심가 동성로에 있는 교보문고 대구점은 총 면적 1,900평의 넓은 매장과 15만 종 30만 권의 방대한 도서를 바탕으로 대구를 대표하는'), Document(metadata={'source': 'https://www.localview.co.kr/store/detail.asp?seq=600977851'}, page_content='국민정신문화 향상, 사회교육적 기능을 살린 문화공간을 창출하는 문고 대구광역시 중구 동성로2가 위치, 영업점, 이벤트, 행사 등 안내, 보유도서 검색 제공. 대구의 중심가 동성로에 있는 교보문고 대구점은 총 면적 1,900평의 넓은 매장과 15만 종 30만 권의 방대한 도서를 바탕으로 대구를 대표하는'), Document(metadata={'source': 'https://m.blog.naver.com/sh_baekwoon/223359878100'}, page_content='대구 교보문고 대구점 방문 후기 : 네이버 블로그 대구 교보문고 대구점 방문 후기 며칠 전 동성로에 다녀오면서 교보문고 대구점도 방문하게 되어서 방문 후기도 포스팅! 대구에는 교보문고 대구점, 교보문고 칠곡점 이렇게 두 군데가 있어요~ 칠곡점은 아직 가보지 못했고 교보문고 대구점은 아이들과 책 구매를 위해 한 번씩 방문해요~ 아이들 키우는 부모들은 책 읽는 게 중요하다고 아이들에게 말하지만 실상은 그 부모들도 한 달에 책 한 권 읽지 않는 사람들이 \\x08상당히 많아요~ 저 또한 책과 친하진 않아요 ㅠㅠ 교보문고 대구점 그래서 도서검색을 할 수 있는 PC가 있는데 사람들도 워낙 많다 보니 사용하기 위해서는 대기를 해야 하지만~ 교보문고 대구점은 검색 PC들이 많이 구비되어 있어서 기다림 없이 검색할 수 있어요~ 혼자서도 필요한 책 잘 검색해요 ㅎ 책 산다고 해서 그냥 그림책 정도인 줄 알았더니 생각보다 글 양이 많더라고요 ㅎ 오랜만에 교보문고 대구점 다녀왔네요~ {\"title\":\"대구 교보문고 대구점 방문 후기\",\"source\":\"https://blog.naver.com/sh_baekwoon/223359878100\",\"blogName\":\"보상의 모..\",\"domainIdOrBlogId\":\"sh_baekwoon\",\"nicknameOrBlogId\":\"권 소장\",\"logNo\":223359878100,\"smartEditorVersion\":4,\"cafeDisplay\":true,\"outsideDisplay\":true,\"lineDisplay\":true,\"blogDisplay\":true,\"meDisplay\":true}'), Document(metadata={'source': 'https://m.blog.naver.com/sh_baekwoon/223359878100'}, page_content='대구 교보문고 대구점 방문 후기 : 네이버 블로그 대구 교보문고 대구점 방문 후기 며칠 전 동성로에 다녀오면서 교보문고 대구점도 방문하게 되어서 방문 후기도 포스팅! 대구에는 교보문고 대구점, 교보문고 칠곡점 이렇게 두 군데가 있어요~ 칠곡점은 아직 가보지 못했고 교보문고 대구점은 아이들과 책 구매를 위해 한 번씩 방문해요~ 아이들 키우는 부모들은 책 읽는 게 중요하다고 아이들에게 말하지만 실상은 그 부모들도 한 달에 책 한 권 읽지 않는 사람들이 \\x08상당히 많아요~ 저 또한 책과 친하진 않아요 ㅠㅠ 교보문고 대구점 그래서 도서검색을 할 수 있는 PC가 있는데 사람들도 워낙 많다 보니 사용하기 위해서는 대기를 해야 하지만~ 교보문고 대구점은 검색 PC들이 많이 구비되어 있어서 기다림 없이 검색할 수 있어요~ 혼자서도 필요한 책 잘 검색해요 ㅎ 책 산다고 해서 그냥 그림책 정도인 줄 알았더니 생각보다 글 양이 많더라고요 ㅎ 오랜만에 교보문고 대구점 다녀왔네요~ {\"title\":\"대구 교보문고 대구점 방문 후기\",\"source\":\"https://blog.naver.com/sh_baekwoon/223359878100\",\"blogName\":\"보상의 모..\",\"domainIdOrBlogId\":\"sh_baekwoon\",\"nicknameOrBlogId\":\"권 소장\",\"logNo\":223359878100,\"smartEditorVersion\":4,\"cafeDisplay\":true,\"outsideDisplay\":true,\"lineDisplay\":true,\"blogDisplay\":true,\"meDisplay\":true}'), Document(metadata={'source': 'https://store.kyobobook.co.kr/store-info/004'}, page_content=\"대구점 매장안내 - 교보문고 브랜드 더보기 회원가입 로그인 회원혜택 주문배송 매장안내 고객센터 통합검색 search button 전체메뉴 책!책!책! 신학기혜택 베스트 신상품 이벤트 바로펀딩 PICKS CASTing 컬처라운지 오늘의 미션 할인혜택 드디어 책책책 공개! 대구점 MY매장 서울 경기/인천 수도권 외 로그인 후 MY매장을 설정해 보세요. 설정하기 대구점 마이매장 설정 매장주소 대구광역시 중구 국채보상로 586, 교보생명빌딩 1~3층 *   영업시간 *   휴점 설(당일), 추석(당일) 지도 보기매장 문의 053-425-3501 Notice 김재원 아나운서의 힐링 에세이 '엄마의 얼굴' 사인회 코미디언 이경규의 첫 에세이 '삶이라는 완벽한 농담' 출간 기념 사인회 [강연회] 김진구 저자, <수술실에서 보낸 3만 시간> 매장 안내도 이벤트&공지사항 매장 서비스 보유 도서를 검색해보세요 search button 이벤트&공지사항 매장 서비스 공지사항 서울특별시 종로구 종로1 서울특별시 통신판매업신고번호 : 제 653호사업자정보확인 정보보호관리체계 ISMS 인증획득[인증범위] 인터넷 교보문고 및 브랜드 서비스 운영 이벤트\"), Document(metadata={'source': 'https://store.kyobobook.co.kr/store-info/004'}, page_content=\"대구점 매장안내 - 교보문고 브랜드 더보기 회원가입 로그인 회원혜택 주문배송 매장안내 고객센터 통합검색 search button 전체메뉴 책!책!책! 신학기혜택 베스트 신상품 이벤트 바로펀딩 PICKS CASTing 컬처라운지 오늘의 미션 할인혜택 드디어 책책책 공개! 대구점 MY매장 서울 경기/인천 수도권 외 로그인 후 MY매장을 설정해 보세요. 설정하기 대구점 마이매장 설정 매장주소 대구광역시 중구 국채보상로 586, 교보생명빌딩 1~3층 *   영업시간 *   휴점 설(당일), 추석(당일) 지도 보기매장 문의 053-425-3501 Notice 김재원 아나운서의 힐링 에세이 '엄마의 얼굴' 사인회 코미디언 이경규의 첫 에세이 '삶이라는 완벽한 농담' 출간 기념 사인회 [강연회] 김진구 저자, <수술실에서 보낸 3만 시간> 매장 안내도 이벤트&공지사항 매장 서비스 보유 도서를 검색해보세요 search button 이벤트&공지사항 매장 서비스 공지사항 서울특별시 종로구 종로1 서울특별시 통신판매업신고번호 : 제 653호사업자정보확인 정보보호관리체계 ISMS 인증획득[인증범위] 인터넷 교보문고 및 브랜드 서비스 운영 이벤트\")]}\n",
      "== for  끝 1 - 1==\n",
      "===== for 끝 1 =====\n",
      "\n",
      "==========================================================================================\n",
      "🔄 [Node] hallucination 평가 노드 🔄\n",
      "===== [평가 결과] =====\n",
      "yes\n",
      "===== [DECISION: GENERATION IS GROUNDED IN DOCUMENTS] =====\n",
      "no hallucination\n",
      "===== [GRADE GENERATED ANSWER vs QUESTION] =====\n",
      "==== [DECISION: GENERATED ANSWER ADDRESSES QUESTION] ====\n",
      "relevant\n",
      "==========================================================================================\n",
      "\n",
      "===== for 시작 2 =====\n",
      "== for 시작 2 - 1 ==\n",
      "state_key : generate\n",
      "state_value: \n",
      " {'generation': '교보문고 대구점은 대구광역시 중구 동성로2가에 위치하며, 총 면적은 1,900평이고, 15만 종 30만 권의 도서를 보유하고 있습니다.\\n\\n**Source**\\n- https://www.localview.co.kr/store/detail.asp?seq=600977851\\n- https://store.kyobobook.co.kr/store-info/004'}\n",
      "== for  끝 2 - 1==\n",
      "===== for 끝 2 =====\n"
     ]
    }
   ],
   "source": [
    "config = RunnableConfig(                        # config 설정\n",
    "    recursion_limit=20,                         # 최대 20개의 노드까지 방문.\n",
    "    configurable={'thread_id': random_uuid()}   # thread_id 설정\n",
    ")\n",
    "\n",
    "inputs = GraphState(question='대구 교보문고')\n",
    "\n",
    "\n",
    "i = 1\n",
    "\n",
    "for chunk in app.stream(inputs, config=config, stream_mode=\"updates\"):\n",
    "    print(f\"===== for 시작 {i} =====\")\n",
    "\n",
    "    j = 1\n",
    "\n",
    "    # chunk 는 dictionary 형태(key: State 의 key, value: State 의 value)\n",
    "    for state_key, state_value in chunk.items():\n",
    "        print(f\"== for 시작 {i} - {j} ==\")\n",
    "        print(f\"state_key : {state_key }\")\n",
    "        print(f\"state_value: \\n {state_value}\")\n",
    "        print(f\"== for  끝 {i} - {j}==\")\n",
    "\n",
    "        j=j+1\n",
    "    \n",
    "    print(f\"===== for 끝 {i} =====\")\n",
    "    i=i+1"
   ]
  },
  {
   "cell_type": "code",
   "execution_count": 122,
   "metadata": {},
   "outputs": [
    {
     "name": "stdout",
     "output_type": "stream",
     "text": [
      "\n",
      "==========================================================================================\n",
      "🔄 [Node] 질문 라우팅 노드 🔄\n",
      "==== [ROUTE QUESTION TO VECTORSTORE] ====\n",
      "==========================================================================================\n",
      "\n",
      "===== for 시작 1 =====\n",
      "== for 시작 1 - 1 ==\n",
      "state_key : retrieve\n",
      "------------------------------\n",
      "🔄 [Node] 문서 검색 노드 🔄\n",
      "[Document(id='4b593f8a-46a7-4bc0-a210-cc18bd0c1270', metadata={'source': 'data/SPRI_AI_Brief_2023년12월호_F.pdf', 'file_path': 'data/SPRI_AI_Brief_2023년12월호_F.pdf', 'page': 1, 'total_pages': 23, 'Author': 'dj', 'Creator': 'Hwp 2018 10.0.0.13462', 'Producer': 'Hancom PDF 1.3.0.542', 'CreationDate': \"D:20231208132838+09'00'\", 'ModDate': \"D:20231208132838+09'00'\", 'PDFVersion': '1.4'}, page_content='▹ 삼성전자, 자체 개발 생성 AI ‘삼성 가우스’ 공개 ···························································10\\n▹ 구글, 앤스로픽에 20억 달러 투자로 생성 AI 협력 강화 ················································11\\n▹ IDC, 2027년 AI 소프트웨어 매출 2,500억 달러 돌파 전망···········································12'), Document(id='db624ef3-ca1d-43b8-be26-01d725200ff3', metadata={'source': 'data/SPRI_AI_Brief_2023년12월호_F.pdf', 'file_path': 'data/SPRI_AI_Brief_2023년12월호_F.pdf', 'page': 12, 'total_pages': 23, 'Author': 'dj', 'Creator': 'Hwp 2018 10.0.0.13462', 'Producer': 'Hancom PDF 1.3.0.542', 'CreationDate': \"D:20231208132838+09'00'\", 'ModDate': \"D:20231208132838+09'00'\", 'PDFVersion': '1.4'}, page_content='SPRi AI Brief |\\n2023-12월호\\n삼성전자, 자체 개발 생성 AI ‘삼성 가우스’ 공개\\nKEY Contents\\nn 삼성전자가 온디바이스에서 작동 가능하며 언어, 코드, 이미지의 3개 모델로 구성된 자체 개발 생성\\nAI 모델 ‘삼성 가우스’를 공개\\nn 삼성전자는 삼성 가우스를 다양한 제품에 단계적으로 탑재할 계획으로, 온디바이스 작동이 가능한\\n삼성 가우스는 외부로 사용자 정보가 유출될 위험이 없다는 장점을 보유\\n£언어, 코드, 이미지의 3개 모델로 구성된 삼성 가우스, 온디바이스 작동 지원'), Document(id='b5403b84-ed04-4ff2-a0d0-c208265a40bf', metadata={'source': 'data/SPRI_AI_Brief_2023년12월호_F.pdf', 'file_path': 'data/SPRI_AI_Brief_2023년12월호_F.pdf', 'page': 12, 'total_pages': 23, 'Author': 'dj', 'Creator': 'Hwp 2018 10.0.0.13462', 'Producer': 'Hancom PDF 1.3.0.542', 'CreationDate': \"D:20231208132838+09'00'\", 'ModDate': \"D:20231208132838+09'00'\", 'PDFVersion': '1.4'}, page_content='어시스턴트를 적용한 구글 픽셀(Pixel)과 경쟁할 것으로 예상\\n☞ 출처 : 삼성전자, ‘삼성 AI 포럼’서 자체 개발 생성형 AI ‘삼성 가우스’ 공개, 2023.11.08.\\n삼성전자, ‘삼성 개발자 콘퍼런스 코리아 2023’ 개최, 2023.11.14.\\nTechRepublic, Samsung Gauss: Samsung Research Reveals Generative AI, 2023.11.08.\\n10'), Document(id='5c2a4f06-7a5e-4038-96b6-0ca21f8db105', metadata={'source': 'data/SPRI_AI_Brief_2023년12월호_F.pdf', 'file_path': 'data/SPRI_AI_Brief_2023년12월호_F.pdf', 'page': 12, 'total_pages': 23, 'Author': 'dj', 'Creator': 'Hwp 2018 10.0.0.13462', 'Producer': 'Hancom PDF 1.3.0.542', 'CreationDate': \"D:20231208132838+09'00'\", 'ModDate': \"D:20231208132838+09'00'\", 'PDFVersion': '1.4'}, page_content='£언어, 코드, 이미지의 3개 모델로 구성된 삼성 가우스, 온디바이스 작동 지원\\nn 삼성전자가 2023년 11월 8일 열린 ‘삼성 AI 포럼 2023’ 행사에서 자체 개발한 생성 AI 모델\\n‘삼성 가우스’를 최초 공개\\n∙ 정규분포 이론을 정립한 천재 수학자 가우스(Gauss)의 이름을 본뜬 삼성 가우스는 다양한 상황에\\n최적화된 크기의 모델 선택이 가능\\n∙ 삼성 가우스는 라이선스나 개인정보를 침해하지 않는 안전한 데이터를 통해 학습되었으며,\\n온디바이스에서 작동하도록 설계되어 외부로 사용자의 정보가 유출되지 않는 장점을 보유'), Document(id='4ea9697a-f8f9-47c6-a186-e13430dbf95a', metadata={'source': 'data/SPRI_AI_Brief_2023년12월호_F.pdf', 'file_path': 'data/SPRI_AI_Brief_2023년12월호_F.pdf', 'page': 12, 'total_pages': 23, 'Author': 'dj', 'Creator': 'Hwp 2018 10.0.0.13462', 'Producer': 'Hancom PDF 1.3.0.542', 'CreationDate': \"D:20231208132838+09'00'\", 'ModDate': \"D:20231208132838+09'00'\", 'PDFVersion': '1.4'}, page_content='온디바이스에서 작동하도록 설계되어 외부로 사용자의 정보가 유출되지 않는 장점을 보유\\n∙ 삼성전자는 삼성 가우스를 활용한 온디바이스 AI 기술도 소개했으며, 생성 AI 모델을 다양한 제품에\\n단계적으로 탑재할 계획\\nn 삼성 가우스는 △텍스트를 생성하는 언어모델 △코드를 생성하는 코드 모델 △이미지를 생성하는\\n이미지 모델의 3개 모델로 구성\\n∙ 언어 모델은 클라우드와 온디바이스 대상 다양한 모델로 구성되며, 메일 작성, 문서 요약, 번역 업무의\\n처리를 지원'), Document(id='530f6e1a-6b7c-4360-add0-e35f4779d513', metadata={'source': 'data/SPRI_AI_Brief_2023년12월호_F.pdf', 'file_path': 'data/SPRI_AI_Brief_2023년12월호_F.pdf', 'page': 12, 'total_pages': 23, 'Author': 'dj', 'Creator': 'Hwp 2018 10.0.0.13462', 'Producer': 'Hancom PDF 1.3.0.542', 'CreationDate': \"D:20231208132838+09'00'\", 'ModDate': \"D:20231208132838+09'00'\", 'PDFVersion': '1.4'}, page_content='처리를 지원\\n∙ 코드 모델 기반의 AI 코딩 어시스턴트 ‘코드아이(code.i)’는 대화형 인터페이스로 서비스를 제공하며\\n사내 소프트웨어 개발에 최적화\\n∙ 이미지 모델은 창의적인 이미지를 생성하고 기존 이미지를 원하는 대로 바꿀 수 있도록 지원하며\\n저해상도 이미지의 고해상도 전환도 지원\\nn IT 전문지 테크리퍼블릭(TechRepublic)은 온디바이스 AI가 주요 기술 트렌드로 부상했다며,\\n2024년부터 가우스를 탑재한 삼성 스마트폰이 메타의 라마(Llama)2를 탑재한 퀄컴 기기 및 구글'), Document(id='3919cc35-38ff-437b-a887-95b14a57c60e', metadata={'source': 'data/SPRI_AI_Brief_2023년12월호_F.pdf', 'file_path': 'data/SPRI_AI_Brief_2023년12월호_F.pdf', 'page': 18, 'total_pages': 23, 'Author': 'dj', 'Creator': 'Hwp 2018 10.0.0.13462', 'Producer': 'Hancom PDF 1.3.0.542', 'CreationDate': \"D:20231208132838+09'00'\", 'ModDate': \"D:20231208132838+09'00'\", 'PDFVersion': '1.4'}, page_content='<구글 딥마인드의 범용 AI 분류 프레임워크>\\n성능 특수 AI 예시 범용 AI 예시\\n0단계: AI 아님 계산기 소프트웨어, 컴파일러 아마존 메커니컬 터크\\n1단계: 신진(숙련되지 않은 인간) GOFAI(Good Old Fashioned Artificial Intelligence) 챗GPT, 바드, 라마2\\n스마트 스피커(애플 시리, 아마존 알렉사, 구글\\n2단계: 유능(숙련된 인간의 50% 이상) 미달성\\n어시스턴트), IBM 왓슨\\n3단계: 전문가(숙련된 인간의 90% 이상) 문법 교정기(그래머리), 생성 이미지 모델(달리2) 미달성'), Document(id='334653c8-8430-47a7-94e9-e974d3dc8e59', metadata={'source': 'data/SPRI_AI_Brief_2023년12월호_F.pdf', 'file_path': 'data/SPRI_AI_Brief_2023년12월호_F.pdf', 'page': 11, 'total_pages': 23, 'Author': 'dj', 'Creator': 'Hwp 2018 10.0.0.13462', 'Producer': 'Hancom PDF 1.3.0.542', 'CreationDate': \"D:20231208132838+09'00'\", 'ModDate': \"D:20231208132838+09'00'\", 'PDFVersion': '1.4'}, page_content='제작을 포함\\nn 알리바바 클라우드는 급증하는 생성 AI 수요에 대응해 모델 개발과 애플리케이션 구축 절차를\\n간소화하는 올인원 AI 모델 구축 플랫폼 ‘젠AI(GenAI)’도 공개\\n∙ 이 플랫폼은 데이터 관리, 모델 배포와 평가, 신속한 엔지니어링을 위한 종합 도구 모음을 제공하여\\n다양한 기업들이 맞춤형 AI 모델을 한층 쉽게 개발할 수 있도록 지원\\n∙ 생성 AI 개발에 필요한 컴퓨팅과 데이터 처리 요구사항을 지원하기 위해 AI 플랫폼(PAI),\\n데이터베이스 솔루션, 컨테이너 서비스와 같은 클라우드 신제품도 발표'), Document(id='b0574e4f-e0b4-409b-8408-0121d03379b2', metadata={'source': 'data/SPRI_AI_Brief_2023년12월호_F.pdf', 'file_path': 'data/SPRI_AI_Brief_2023년12월호_F.pdf', 'page': 1, 'total_pages': 23, 'Author': 'dj', 'Creator': 'Hwp 2018 10.0.0.13462', 'Producer': 'Hancom PDF 1.3.0.542', 'CreationDate': \"D:20231208132838+09'00'\", 'ModDate': \"D:20231208132838+09'00'\", 'PDFVersion': '1.4'}, page_content='▹ 빌 게이츠, AI 에이전트로 인한 컴퓨터 사용의 패러다임 변화 전망································13\\n▹ 유튜브, 2024년부터 AI 생성 콘텐츠 표시 의무화····························································14\\n3. 기술/연구\\n▹ 영국 과학혁신기술부, AI 안전 연구소 설립 발표······························································15'), Document(id='7010d9a9-ca5a-401b-9f49-bc5998b1d355', metadata={'source': 'data/SPRI_AI_Brief_2023년12월호_F.pdf', 'file_path': 'data/SPRI_AI_Brief_2023년12월호_F.pdf', 'page': 7, 'total_pages': 23, 'Author': 'dj', 'Creator': 'Hwp 2018 10.0.0.13462', 'Producer': 'Hancom PDF 1.3.0.542', 'CreationDate': \"D:20231208132838+09'00'\", 'ModDate': \"D:20231208132838+09'00'\", 'PDFVersion': '1.4'}, page_content='만들었다고 오해할 소지가 있다고 지적\\n∙ 저작권법에 저촉되는 행위는 불공정 경쟁이나 기만행위에도 해당될 수 있으며, 창작자의 평판 악화,\\n저작물의 가치 저하나 개인정보 유출로 소비자에 상당한 피해를 초래 가능\\nn FTC는 일부 빅테크가 막대한 재원을 활용해 생성 AI 사용자의 이탈을 막고 저작권이 있는 상용\\n데이터에 대한 독점 라이선스를 확보해 시장 지배력을 더욱 강화할 수 있다는 우려도 제기\\n∙ 이와 관련 FTC는 아마존 AI 비서 ‘알렉사(Alexa)’와 스마트홈 보안 기기 ‘링(Ring)’이 소비자의 사적')]\n",
      "------------------------------\n",
      "\n",
      "== for  끝 1 - 1==\n",
      "===== for 끝 1 =====\n",
      "---GRADE: DOCUMENT RELEVANT---\n",
      "---GRADE: DOCUMENT RELEVANT---\n",
      "---GRADE: DOCUMENT RELEVANT---\n",
      "---GRADE: DOCUMENT RELEVANT---\n",
      "---GRADE: DOCUMENT RELEVANT---\n",
      "---GRADE: DOCUMENT RELEVANT---\n",
      "---GRADE: DOCUMENT NOT RELEVANT---\n",
      "---GRADE: DOCUMENT NOT RELEVANT---\n",
      "---GRADE: DOCUMENT NOT RELEVANT---\n",
      "---GRADE: DOCUMENT NOT RELEVANT---\n",
      "\n",
      "==========================================================================================\n",
      "🔄 [Node] 문서 관련성 평가 노드 🔄\n",
      "===== [DECISION: GENERATE] =====\n",
      "==========================================================================================\n",
      "\n",
      "===== for 시작 2 =====\n",
      "== for 시작 2 - 1 ==\n",
      "state_key : grade_documents\n",
      "------------------------------\n",
      "🔄 [Node] 문서 검색 결과와 질문 관련성 평가 노드 🔄\n",
      "[Document(id='4b593f8a-46a7-4bc0-a210-cc18bd0c1270', metadata={'source': 'data/SPRI_AI_Brief_2023년12월호_F.pdf', 'file_path': 'data/SPRI_AI_Brief_2023년12월호_F.pdf', 'page': 1, 'total_pages': 23, 'Author': 'dj', 'Creator': 'Hwp 2018 10.0.0.13462', 'Producer': 'Hancom PDF 1.3.0.542', 'CreationDate': \"D:20231208132838+09'00'\", 'ModDate': \"D:20231208132838+09'00'\", 'PDFVersion': '1.4'}, page_content='▹ 삼성전자, 자체 개발 생성 AI ‘삼성 가우스’ 공개 ···························································10\\n▹ 구글, 앤스로픽에 20억 달러 투자로 생성 AI 협력 강화 ················································11\\n▹ IDC, 2027년 AI 소프트웨어 매출 2,500억 달러 돌파 전망···········································12'), Document(id='db624ef3-ca1d-43b8-be26-01d725200ff3', metadata={'source': 'data/SPRI_AI_Brief_2023년12월호_F.pdf', 'file_path': 'data/SPRI_AI_Brief_2023년12월호_F.pdf', 'page': 12, 'total_pages': 23, 'Author': 'dj', 'Creator': 'Hwp 2018 10.0.0.13462', 'Producer': 'Hancom PDF 1.3.0.542', 'CreationDate': \"D:20231208132838+09'00'\", 'ModDate': \"D:20231208132838+09'00'\", 'PDFVersion': '1.4'}, page_content='SPRi AI Brief |\\n2023-12월호\\n삼성전자, 자체 개발 생성 AI ‘삼성 가우스’ 공개\\nKEY Contents\\nn 삼성전자가 온디바이스에서 작동 가능하며 언어, 코드, 이미지의 3개 모델로 구성된 자체 개발 생성\\nAI 모델 ‘삼성 가우스’를 공개\\nn 삼성전자는 삼성 가우스를 다양한 제품에 단계적으로 탑재할 계획으로, 온디바이스 작동이 가능한\\n삼성 가우스는 외부로 사용자 정보가 유출될 위험이 없다는 장점을 보유\\n£언어, 코드, 이미지의 3개 모델로 구성된 삼성 가우스, 온디바이스 작동 지원'), Document(id='b5403b84-ed04-4ff2-a0d0-c208265a40bf', metadata={'source': 'data/SPRI_AI_Brief_2023년12월호_F.pdf', 'file_path': 'data/SPRI_AI_Brief_2023년12월호_F.pdf', 'page': 12, 'total_pages': 23, 'Author': 'dj', 'Creator': 'Hwp 2018 10.0.0.13462', 'Producer': 'Hancom PDF 1.3.0.542', 'CreationDate': \"D:20231208132838+09'00'\", 'ModDate': \"D:20231208132838+09'00'\", 'PDFVersion': '1.4'}, page_content='어시스턴트를 적용한 구글 픽셀(Pixel)과 경쟁할 것으로 예상\\n☞ 출처 : 삼성전자, ‘삼성 AI 포럼’서 자체 개발 생성형 AI ‘삼성 가우스’ 공개, 2023.11.08.\\n삼성전자, ‘삼성 개발자 콘퍼런스 코리아 2023’ 개최, 2023.11.14.\\nTechRepublic, Samsung Gauss: Samsung Research Reveals Generative AI, 2023.11.08.\\n10'), Document(id='5c2a4f06-7a5e-4038-96b6-0ca21f8db105', metadata={'source': 'data/SPRI_AI_Brief_2023년12월호_F.pdf', 'file_path': 'data/SPRI_AI_Brief_2023년12월호_F.pdf', 'page': 12, 'total_pages': 23, 'Author': 'dj', 'Creator': 'Hwp 2018 10.0.0.13462', 'Producer': 'Hancom PDF 1.3.0.542', 'CreationDate': \"D:20231208132838+09'00'\", 'ModDate': \"D:20231208132838+09'00'\", 'PDFVersion': '1.4'}, page_content='£언어, 코드, 이미지의 3개 모델로 구성된 삼성 가우스, 온디바이스 작동 지원\\nn 삼성전자가 2023년 11월 8일 열린 ‘삼성 AI 포럼 2023’ 행사에서 자체 개발한 생성 AI 모델\\n‘삼성 가우스’를 최초 공개\\n∙ 정규분포 이론을 정립한 천재 수학자 가우스(Gauss)의 이름을 본뜬 삼성 가우스는 다양한 상황에\\n최적화된 크기의 모델 선택이 가능\\n∙ 삼성 가우스는 라이선스나 개인정보를 침해하지 않는 안전한 데이터를 통해 학습되었으며,\\n온디바이스에서 작동하도록 설계되어 외부로 사용자의 정보가 유출되지 않는 장점을 보유'), Document(id='4ea9697a-f8f9-47c6-a186-e13430dbf95a', metadata={'source': 'data/SPRI_AI_Brief_2023년12월호_F.pdf', 'file_path': 'data/SPRI_AI_Brief_2023년12월호_F.pdf', 'page': 12, 'total_pages': 23, 'Author': 'dj', 'Creator': 'Hwp 2018 10.0.0.13462', 'Producer': 'Hancom PDF 1.3.0.542', 'CreationDate': \"D:20231208132838+09'00'\", 'ModDate': \"D:20231208132838+09'00'\", 'PDFVersion': '1.4'}, page_content='온디바이스에서 작동하도록 설계되어 외부로 사용자의 정보가 유출되지 않는 장점을 보유\\n∙ 삼성전자는 삼성 가우스를 활용한 온디바이스 AI 기술도 소개했으며, 생성 AI 모델을 다양한 제품에\\n단계적으로 탑재할 계획\\nn 삼성 가우스는 △텍스트를 생성하는 언어모델 △코드를 생성하는 코드 모델 △이미지를 생성하는\\n이미지 모델의 3개 모델로 구성\\n∙ 언어 모델은 클라우드와 온디바이스 대상 다양한 모델로 구성되며, 메일 작성, 문서 요약, 번역 업무의\\n처리를 지원'), Document(id='530f6e1a-6b7c-4360-add0-e35f4779d513', metadata={'source': 'data/SPRI_AI_Brief_2023년12월호_F.pdf', 'file_path': 'data/SPRI_AI_Brief_2023년12월호_F.pdf', 'page': 12, 'total_pages': 23, 'Author': 'dj', 'Creator': 'Hwp 2018 10.0.0.13462', 'Producer': 'Hancom PDF 1.3.0.542', 'CreationDate': \"D:20231208132838+09'00'\", 'ModDate': \"D:20231208132838+09'00'\", 'PDFVersion': '1.4'}, page_content='처리를 지원\\n∙ 코드 모델 기반의 AI 코딩 어시스턴트 ‘코드아이(code.i)’는 대화형 인터페이스로 서비스를 제공하며\\n사내 소프트웨어 개발에 최적화\\n∙ 이미지 모델은 창의적인 이미지를 생성하고 기존 이미지를 원하는 대로 바꿀 수 있도록 지원하며\\n저해상도 이미지의 고해상도 전환도 지원\\nn IT 전문지 테크리퍼블릭(TechRepublic)은 온디바이스 AI가 주요 기술 트렌드로 부상했다며,\\n2024년부터 가우스를 탑재한 삼성 스마트폰이 메타의 라마(Llama)2를 탑재한 퀄컴 기기 및 구글')]\n",
      "------------------------------\n",
      "\n",
      "== for  끝 2 - 1==\n",
      "===== for 끝 2 =====\n",
      "\n",
      "==========================================================================================\n",
      "🔄 [Node] hallucination 평가 노드 🔄\n",
      "===== [평가 결과] =====\n",
      "yes\n",
      "===== [DECISION: GENERATION IS GROUNDED IN DOCUMENTS] =====\n",
      "no hallucination\n",
      "===== [GRADE GENERATED ANSWER vs QUESTION] =====\n",
      "==== [DECISION: GENERATED ANSWER ADDRESSES QUESTION] ====\n",
      "relevant\n",
      "==========================================================================================\n",
      "\n",
      "===== for 시작 3 =====\n",
      "== for 시작 3 - 1 ==\n",
      "state_key : generate\n",
      "------------------------------\n",
      "🔄 [Node] 답변 생성 노드 🔄\n",
      "삼성전자가 공개한 생성 AI 모델 ‘삼성 가우스’는 언어, 코드, 이미지의 3개 모델로 구성되어 있으며, 온디바이스에서 작동하도록 설계되어 사용자 정보 유출 위험이 없다. 이 모델은 다양한 제품에 단계적으로 탑재될 계획이다.\n",
      "\n",
      "**Source**\n",
      "- data/SPRI_AI_Brief_2023년12월호_F.pdf (page 12)\n",
      "------------------------------\n",
      "\n",
      "== for  끝 3 - 1==\n",
      "===== for 끝 3 =====\n"
     ]
    }
   ],
   "source": [
    "config = RunnableConfig(                        # config 설정\n",
    "    recursion_limit=20,                         # 최대 20개의 노드까지 방문.\n",
    "    configurable={'thread_id': random_uuid()}   # thread_id 설정\n",
    ")\n",
    "\n",
    "inputs = GraphState(question='삼성전자가 만든 생성형 AI')\n",
    "\n",
    "\n",
    "i = 1\n",
    "\n",
    "for event in app.stream(inputs, config=config, stream_mode=\"updates\"):\n",
    "\n",
    "    print(f\"===== for 시작 {i} =====\")\n",
    "\n",
    "    j = 1\n",
    "\n",
    "    for state_key, state_value in event.items():\n",
    "        print(f\"== for 시작 {i} - {j} ==\")\n",
    "        print(f\"state_key : {state_key }\")\n",
    "\n",
    "        if state_key == 'web_search':\n",
    "            print('------------------------------')\n",
    "            print(f\"🔄 [Node] 웹 검색 노드 🔄\")\n",
    "            print(f\"{state_value['documents']}\")\n",
    "            print('------------------------------')\n",
    "            print()\n",
    "        elif state_key == 'retrieve':\n",
    "            print('------------------------------')\n",
    "            print(f\"🔄 [Node] 문서 검색 노드 🔄\")\n",
    "            print(f\"{state_value['documents']}\")\n",
    "            print('------------------------------')\n",
    "            print()\n",
    "        elif state_key == 'generate':\n",
    "            print('------------------------------')\n",
    "            print(f\"🔄 [Node] 답변 생성 노드 🔄\")\n",
    "            print(f\"{state_value['generation']}\")\n",
    "            print('------------------------------')\n",
    "            print()\n",
    "        elif state_key == 'grade_documents':\n",
    "            print('------------------------------')\n",
    "            print(f\"🔄 [Node] 문서 검색 결과와 질문 관련성 평가 노드 🔄\")\n",
    "            print(f\"{state_value['documents']}\")\n",
    "            print('------------------------------')\n",
    "            print()\n",
    "            \n",
    "        elif state_key == 'generate':\n",
    "            print('------------------------------')\n",
    "            print(f\"🔄 [Node] 답변 생성 노드 🔄\")\n",
    "            print(f\"{state_value['generation']}\")\n",
    "            print('------------------------------')\n",
    "            print()\n",
    "\n",
    "        print(f\"== for  끝 {i} - {j}==\")\n",
    "\n",
    "        j=j+1\n",
    "    \n",
    "    print(f\"===== for 끝 {i} =====\")\n",
    "    i=i+1"
   ]
  },
  {
   "cell_type": "code",
   "execution_count": 123,
   "metadata": {},
   "outputs": [
    {
     "name": "stdout",
     "output_type": "stream",
     "text": [
      "\n",
      "==========================================================================================\n",
      "🔄 [Node] 질문 라우팅 노드 🔄\n",
      "==== [ROUTE QUESTION TO WEB SEARCH] ====\n",
      "==========================================================================================\n",
      "\n",
      "===== for 시작 1 =====\n",
      "== for 시작 1 - 1 ==\n",
      "state_key : web_search\n",
      "------------------------------\n",
      "🔄 [Node] 웹 검색 노드 🔄\n",
      "[Document(metadata={'source': 'https://www.localview.co.kr/store/detail.asp?seq=600977851'}, page_content='국민정신문화 향상, 사회교육적 기능을 살린 문화공간을 창출하는 문고 대구광역시 중구 동성로2가 위치, 영업점, 이벤트, 행사 등 안내, 보유도서 검색 제공. 대구의 중심가 동성로에 있는 교보문고 대구점은 총 면적 1,900평의 넓은 매장과 15만 종 30만 권의 방대한 도서를 바탕으로 대구를 대표하는'), Document(metadata={'source': 'https://www.localview.co.kr/store/detail.asp?seq=600977851'}, page_content='국민정신문화 향상, 사회교육적 기능을 살린 문화공간을 창출하는 문고 대구광역시 중구 동성로2가 위치, 영업점, 이벤트, 행사 등 안내, 보유도서 검색 제공. 대구의 중심가 동성로에 있는 교보문고 대구점은 총 면적 1,900평의 넓은 매장과 15만 종 30만 권의 방대한 도서를 바탕으로 대구를 대표하는'), Document(metadata={'source': 'https://m.blog.naver.com/sh_baekwoon/223359878100'}, page_content='대구 교보문고 대구점 방문 후기 : 네이버 블로그 대구 교보문고 대구점 방문 후기 며칠 전 동성로에 다녀오면서 교보문고 대구점도 방문하게 되어서 방문 후기도 포스팅! 대구에는 교보문고 대구점, 교보문고 칠곡점 이렇게 두 군데가 있어요~ 칠곡점은 아직 가보지 못했고 교보문고 대구점은 아이들과 책 구매를 위해 한 번씩 방문해요~ 아이들 키우는 부모들은 책 읽는 게 중요하다고 아이들에게 말하지만 실상은 그 부모들도 한 달에 책 한 권 읽지 않는 사람들이 \\x08상당히 많아요~ 저 또한 책과 친하진 않아요 ㅠㅠ 교보문고 대구점 그래서 도서검색을 할 수 있는 PC가 있는데 사람들도 워낙 많다 보니 사용하기 위해서는 대기를 해야 하지만~ 교보문고 대구점은 검색 PC들이 많이 구비되어 있어서 기다림 없이 검색할 수 있어요~ 혼자서도 필요한 책 잘 검색해요 ㅎ 책 산다고 해서 그냥 그림책 정도인 줄 알았더니 생각보다 글 양이 많더라고요 ㅎ 오랜만에 교보문고 대구점 다녀왔네요~ {\"title\":\"대구 교보문고 대구점 방문 후기\",\"source\":\"https://blog.naver.com/sh_baekwoon/223359878100\",\"blogName\":\"보상의 모..\",\"domainIdOrBlogId\":\"sh_baekwoon\",\"nicknameOrBlogId\":\"권 소장\",\"logNo\":223359878100,\"smartEditorVersion\":4,\"cafeDisplay\":true,\"outsideDisplay\":true,\"lineDisplay\":true,\"blogDisplay\":true,\"meDisplay\":true}'), Document(metadata={'source': 'https://m.blog.naver.com/sh_baekwoon/223359878100'}, page_content='대구 교보문고 대구점 방문 후기 : 네이버 블로그 대구 교보문고 대구점 방문 후기 며칠 전 동성로에 다녀오면서 교보문고 대구점도 방문하게 되어서 방문 후기도 포스팅! 대구에는 교보문고 대구점, 교보문고 칠곡점 이렇게 두 군데가 있어요~ 칠곡점은 아직 가보지 못했고 교보문고 대구점은 아이들과 책 구매를 위해 한 번씩 방문해요~ 아이들 키우는 부모들은 책 읽는 게 중요하다고 아이들에게 말하지만 실상은 그 부모들도 한 달에 책 한 권 읽지 않는 사람들이 \\x08상당히 많아요~ 저 또한 책과 친하진 않아요 ㅠㅠ 교보문고 대구점 그래서 도서검색을 할 수 있는 PC가 있는데 사람들도 워낙 많다 보니 사용하기 위해서는 대기를 해야 하지만~ 교보문고 대구점은 검색 PC들이 많이 구비되어 있어서 기다림 없이 검색할 수 있어요~ 혼자서도 필요한 책 잘 검색해요 ㅎ 책 산다고 해서 그냥 그림책 정도인 줄 알았더니 생각보다 글 양이 많더라고요 ㅎ 오랜만에 교보문고 대구점 다녀왔네요~ {\"title\":\"대구 교보문고 대구점 방문 후기\",\"source\":\"https://blog.naver.com/sh_baekwoon/223359878100\",\"blogName\":\"보상의 모..\",\"domainIdOrBlogId\":\"sh_baekwoon\",\"nicknameOrBlogId\":\"권 소장\",\"logNo\":223359878100,\"smartEditorVersion\":4,\"cafeDisplay\":true,\"outsideDisplay\":true,\"lineDisplay\":true,\"blogDisplay\":true,\"meDisplay\":true}'), Document(metadata={'source': 'https://store.kyobobook.co.kr/store-info/004'}, page_content=\"대구점 매장안내 - 교보문고 브랜드 더보기 회원가입 로그인 회원혜택 주문배송 매장안내 고객센터 통합검색 search button 전체메뉴 책!책!책! 신학기혜택 베스트 신상품 이벤트 바로펀딩 PICKS CASTing 컬처라운지 오늘의 미션 할인혜택 드디어 책책책 공개! 대구점 MY매장 서울 경기/인천 수도권 외 로그인 후 MY매장을 설정해 보세요. 설정하기 대구점 마이매장 설정 매장주소 대구광역시 중구 국채보상로 586, 교보생명빌딩 1~3층 *   영업시간 *   휴점 설(당일), 추석(당일) 지도 보기매장 문의 053-425-3501 Notice 김재원 아나운서의 힐링 에세이 '엄마의 얼굴' 사인회 코미디언 이경규의 첫 에세이 '삶이라는 완벽한 농담' 출간 기념 사인회 [강연회] 김진구 저자, <수술실에서 보낸 3만 시간> 매장 안내도 이벤트&공지사항 매장 서비스 보유 도서를 검색해보세요 search button 이벤트&공지사항 매장 서비스 공지사항 서울특별시 종로구 종로1 서울특별시 통신판매업신고번호 : 제 653호사업자정보확인 정보보호관리체계 ISMS 인증획득[인증범위] 인터넷 교보문고 및 브랜드 서비스 운영 이벤트\"), Document(metadata={'source': 'https://store.kyobobook.co.kr/store-info/004'}, page_content=\"대구점 매장안내 - 교보문고 브랜드 더보기 회원가입 로그인 회원혜택 주문배송 매장안내 고객센터 통합검색 search button 전체메뉴 책!책!책! 신학기혜택 베스트 신상품 이벤트 바로펀딩 PICKS CASTing 컬처라운지 오늘의 미션 할인혜택 드디어 책책책 공개! 대구점 MY매장 서울 경기/인천 수도권 외 로그인 후 MY매장을 설정해 보세요. 설정하기 대구점 마이매장 설정 매장주소 대구광역시 중구 국채보상로 586, 교보생명빌딩 1~3층 *   영업시간 *   휴점 설(당일), 추석(당일) 지도 보기매장 문의 053-425-3501 Notice 김재원 아나운서의 힐링 에세이 '엄마의 얼굴' 사인회 코미디언 이경규의 첫 에세이 '삶이라는 완벽한 농담' 출간 기념 사인회 [강연회] 김진구 저자, <수술실에서 보낸 3만 시간> 매장 안내도 이벤트&공지사항 매장 서비스 보유 도서를 검색해보세요 search button 이벤트&공지사항 매장 서비스 공지사항 서울특별시 종로구 종로1 서울특별시 통신판매업신고번호 : 제 653호사업자정보확인 정보보호관리체계 ISMS 인증획득[인증범위] 인터넷 교보문고 및 브랜드 서비스 운영 이벤트\")]\n",
      "------------------------------\n",
      "\n",
      "== for  끝 1 - 1==\n",
      "===== for 끝 1 =====\n",
      "\n",
      "==========================================================================================\n",
      "🔄 [Node] hallucination 평가 노드 🔄\n",
      "===== [평가 결과] =====\n",
      "yes\n",
      "===== [DECISION: GENERATION IS GROUNDED IN DOCUMENTS] =====\n",
      "no hallucination\n",
      "===== [GRADE GENERATED ANSWER vs QUESTION] =====\n",
      "==== [DECISION: GENERATED ANSWER ADDRESSES QUESTION] ====\n",
      "relevant\n",
      "==========================================================================================\n",
      "\n",
      "===== for 시작 2 =====\n",
      "== for 시작 2 - 1 ==\n",
      "state_key : generate\n",
      "------------------------------\n",
      "🔄 [Node] 답변 생성 노드 🔄\n",
      "교보문고 대구점은 대구광역시 중구 동성로2가에 위치하며, 총 면적은 1,900평이고, 15만 종 30만 권의 도서를 보유하고 있습니다.\n",
      "\n",
      "**Source**\n",
      "- https://www.localview.co.kr/store/detail.asp?seq=600977851\n",
      "- https://store.kyobobook.co.kr/store-info/004\n",
      "------------------------------\n",
      "\n",
      "== for  끝 2 - 1==\n",
      "===== for 끝 2 =====\n"
     ]
    }
   ],
   "source": [
    "config = RunnableConfig(                        # config 설정\n",
    "    recursion_limit=20,                         # 최대 20개의 노드까지 방문.\n",
    "    configurable={'thread_id': random_uuid()}   # thread_id 설정\n",
    ")\n",
    "\n",
    "inputs = GraphState(question='대구 교보문고')\n",
    "\n",
    "\n",
    "i = 1\n",
    "\n",
    "for event in app.stream(inputs, config=config, stream_mode=\"updates\"):\n",
    "\n",
    "    print(f\"===== for 시작 {i} =====\")\n",
    "\n",
    "    j = 1\n",
    "\n",
    "    for state_key, state_value in event.items():\n",
    "        print(f\"== for 시작 {i} - {j} ==\")\n",
    "        print(f\"state_key : {state_key }\")\n",
    "\n",
    "        if state_key == 'web_search':\n",
    "            print('------------------------------')\n",
    "            print(f\"🔄 [Node] 웹 검색 노드 🔄\")\n",
    "            print(f\"{state_value['documents']}\")\n",
    "            print('------------------------------')\n",
    "            print()\n",
    "        elif state_key == 'retrieve':\n",
    "            print('------------------------------')\n",
    "            print(f\"🔄 [Node] 문서 검색 노드 🔄\")\n",
    "            print(f\"{state_value['documents']}\")\n",
    "            print('------------------------------')\n",
    "            print()\n",
    "        elif state_key == 'generate':\n",
    "            print('------------------------------')\n",
    "            print(f\"🔄 [Node] 답변 생성 노드 🔄\")\n",
    "            print(f\"{state_value['generation']}\")\n",
    "            print('------------------------------')\n",
    "            print()\n",
    "        elif state_key == 'grade_documents':\n",
    "            print('------------------------------')\n",
    "            print(f\"🔄 [Node] 문서 검색 결과와 질문 관련성 평가 노드 🔄\")\n",
    "            print(f\"{state_value['documents']}\")\n",
    "            print('------------------------------')\n",
    "            print()\n",
    "            \n",
    "        elif state_key == 'generate':\n",
    "            print('------------------------------')\n",
    "            print(f\"🔄 [Node] 답변 생성 노드 🔄\")\n",
    "            print(f\"{state_value['generation']}\")\n",
    "            print('------------------------------')\n",
    "            print()\n",
    "\n",
    "        print(f\"== for  끝 {i} - {j}==\")\n",
    "\n",
    "        j=j+1\n",
    "    \n",
    "    print(f\"===== for 끝 {i} =====\")\n",
    "    i=i+1"
   ]
  }
 ],
 "metadata": {
  "kernelspec": {
   "display_name": "venv",
   "language": "python",
   "name": "python3"
  },
  "language_info": {
   "codemirror_mode": {
    "name": "ipython",
    "version": 3
   },
   "file_extension": ".py",
   "mimetype": "text/x-python",
   "name": "python",
   "nbconvert_exporter": "python",
   "pygments_lexer": "ipython3",
   "version": "3.11.9"
  }
 },
 "nbformat": 4,
 "nbformat_minor": 2
}
