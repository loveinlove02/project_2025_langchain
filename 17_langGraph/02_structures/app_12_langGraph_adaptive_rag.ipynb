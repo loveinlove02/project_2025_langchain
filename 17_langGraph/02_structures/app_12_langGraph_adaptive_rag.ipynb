{
 "cells": [
  {
   "cell_type": "code",
   "execution_count": 198,
   "metadata": {},
   "outputs": [],
   "source": [
    "from dotenv import load_dotenv\n",
    "import os\n",
    "\n",
    "load_dotenv(verbose=True)\n",
    "key = os.getenv('OPENAI_API_KEY')"
   ]
  },
  {
   "cell_type": "markdown",
   "metadata": {},
   "source": [
    "### PDF 기반 문서 검색기 (Retrieval chain) 생성"
   ]
  },
  {
   "cell_type": "code",
   "execution_count": 199,
   "metadata": {},
   "outputs": [],
   "source": [
    "from rag.pdf import PDFRetrievalChain\n",
    "\n",
    "# PDF 문서를 로드\n",
    "pdf = PDFRetrievalChain(['data/SPRI_AI_Brief_2023년12월호_F.pdf']).create_chain()\n",
    "\n",
    "pdf_retriever = pdf.retriever       # retriever 생성\n",
    "pdf_chain = pdf.chain               # pdf retriever chain 생성"
   ]
  },
  {
   "cell_type": "markdown",
   "metadata": {},
   "source": [
    "### GraphState"
   ]
  },
  {
   "cell_type": "code",
   "execution_count": 200,
   "metadata": {},
   "outputs": [],
   "source": [
    "from typing import List\n",
    "from typing_extensions import TypedDict, Annotated\n",
    "\n",
    "\n",
    "class GraphState(TypedDict):\n",
    "    \"\"\"\n",
    "    그래프의 상태를 나타내는 데이터 모델\n",
    "\n",
    "    Attributes:\n",
    "        question: 질문\n",
    "        generation: LLM 생성된 답변\n",
    "        documents: 도큐먼트 리스트\n",
    "    \"\"\"\n",
    "\n",
    "    question: Annotated[str, \"User question\"]\n",
    "    generation: Annotated[str, \"LLM generated answer\"]\n",
    "    documents: Annotated[List[str], \"List of documents\"]"
   ]
  },
  {
   "cell_type": "code",
   "execution_count": 201,
   "metadata": {},
   "outputs": [],
   "source": [
    "state = GraphState(\n",
    "    question='삼성전자가 만든 생성형 AI 이름은?',\n",
    "    generation = '', \n",
    "    documents = []\n",
    ")"
   ]
  },
  {
   "cell_type": "markdown",
   "metadata": {},
   "source": [
    "### 쿼리 라우터"
   ]
  },
  {
   "cell_type": "code",
   "execution_count": 202,
   "metadata": {},
   "outputs": [],
   "source": [
    "from pydantic import BaseModel, Field\n",
    "from typing import Literal\n",
    "\n",
    "from langchain_openai import ChatOpenAI\n",
    "from langchain_core.prompts import ChatPromptTemplate\n",
    "\n",
    "\n",
    "class RouteQuery(BaseModel):    \n",
    "    \"\"\"Route a user query to the most relevant datasource.\"\"\"\n",
    "\n",
    "    datasource: Literal[\"vectorstore\", \"web_search\"] = Field(\n",
    "        ...,\n",
    "        description=\"Given a user question choose to route it to web search or a vectorstore.\",\n",
    "    )\n",
    "\n",
    "\n",
    "llm = ChatOpenAI(\n",
    "    api_key=key, \n",
    "    model='gpt-4o-mini', \n",
    "    temperature=0\n",
    ")\n",
    "\n",
    "# 구조화된 출력을 결과로 가젼온다 (vectorstore, web_search)\n",
    "structured_llm_router = llm.with_structured_output(RouteQuery)\n",
    "\n",
    "# 시스템 메시지\n",
    "system = \"\"\"You are an expert at routing a user question to a vectorstore or web search.\n",
    "The vectorstore contains documents related to DEC 2023 AI Brief Report(SPRI) with Samsung Gause, Anthropic, etc.\n",
    "Use the vectorstore for questions on these topics. Otherwise, use web-search.\"\"\"\n",
    "\n",
    "# 프롬프트\n",
    "route_prompt = ChatPromptTemplate.from_messages(\n",
    "    [\n",
    "        ('system', system), \n",
    "        ('human', '{question}')\n",
    "    ]\n",
    ")\n",
    "\n",
    "question_router = route_prompt | structured_llm_router"
   ]
  },
  {
   "cell_type": "code",
   "execution_count": 203,
   "metadata": {},
   "outputs": [
    {
     "data": {
      "text/plain": [
       "RouteQuery(datasource='vectorstore')"
      ]
     },
     "execution_count": 203,
     "metadata": {},
     "output_type": "execute_result"
    }
   ],
   "source": [
    "# 쿼리 라우팅 테스트 (문서 검색이 필요한 질문)\n",
    "result = question_router.invoke({'question': 'AI Brief 에서 삼성전자가 만든 생성형 AI 이름은?'})\n",
    "result"
   ]
  },
  {
   "cell_type": "code",
   "execution_count": 204,
   "metadata": {},
   "outputs": [
    {
     "data": {
      "text/plain": [
       "RouteQuery(datasource='web_search')"
      ]
     },
     "execution_count": 204,
     "metadata": {},
     "output_type": "execute_result"
    }
   ],
   "source": [
    "# 쿼리 라우팅 테스트 (웹 검색이 필요한)\n",
    "result = question_router.invoke({'question': '대구 중앙떡볶이에 대해서 알려줘.'})\n",
    "result"
   ]
  },
  {
   "cell_type": "code",
   "execution_count": 205,
   "metadata": {},
   "outputs": [
    {
     "data": {
      "text/plain": [
       "RouteQuery(datasource='vectorstore')"
      ]
     },
     "execution_count": 205,
     "metadata": {},
     "output_type": "execute_result"
    }
   ],
   "source": [
    "# 쿼리 라우팅 테스트\n",
    "result = question_router.invoke({'question': state['question']})\n",
    "result"
   ]
  },
  {
   "cell_type": "markdown",
   "metadata": {},
   "source": [
    "### 검색 평가기 (Retrieval Grader)"
   ]
  },
  {
   "cell_type": "code",
   "execution_count": 206,
   "metadata": {},
   "outputs": [],
   "source": [
    "from pydantic import BaseModel, Field\n",
    "from langchain_openai import ChatOpenAI\n",
    "from langchain_core.prompts import ChatPromptTemplate\n",
    "\n",
    "class GradeDocuments(BaseModel):        # 문서 평가를 위한 데이터 모델\n",
    "    \"\"\"Binary score for relevance check on retrieved documents.\"\"\"\n",
    "\n",
    "    binary_score: str = Field(\n",
    "        description=\"Documents are relevant to the question, 'yes' or 'no'\"\n",
    "    )\n",
    "\n",
    "llm = ChatOpenAI(\n",
    "    api_key=key, \n",
    "    model='gpt-4o-mini', \n",
    "    temperature=0\n",
    ")\n",
    "\n",
    "structured_llm_grader = llm.with_structured_output(GradeDocuments)\n",
    "\n",
    "# 시스템 메시지\n",
    "system = \"\"\"You are a grader assessing relevance of a retrieved document to a user question. \\n \n",
    "    If the document contains keyword(s) or semantic meaning related to the user question, grade it as relevant. \\n\n",
    "    It does not need to be a stringent test. The goal is to filter out erroneous retrievals. \\n\n",
    "    Give a binary score 'yes' or 'no' score to indicate whether the document is relevant to the question.\"\"\"\n",
    "\n",
    "# 프롬프트 템플릿\n",
    "grade_prompt = ChatPromptTemplate.from_messages(\n",
    "    [\n",
    "        (\"system\", system),\n",
    "        (\"human\", \"Retrieved document: \\n\\n {document} \\n\\n User question: {question}\"),\n",
    "    ]\n",
    ")\n",
    "\n",
    "# 문서 검색결과 평가기\n",
    "retrieval_grader = grade_prompt | structured_llm_grader"
   ]
  },
  {
   "cell_type": "code",
   "execution_count": 207,
   "metadata": {},
   "outputs": [],
   "source": [
    "# 문서 검색 결과 평가기 테스트\n",
    "\n",
    "# question = '삼성전자가 만든 생성형 AI 이름은?'          # 사용자 질문\n",
    "# docs = pdf_retriever.invoke(question)                   # 질문에 대해서 관련 문서를 검색한다."
   ]
  },
  {
   "cell_type": "code",
   "execution_count": 208,
   "metadata": {},
   "outputs": [
    {
     "data": {
      "text/plain": [
       "[Document(id='083d7b17-a8ea-4f04-8e9b-1043b25af5a6', metadata={'source': 'data/SPRI_AI_Brief_2023년12월호_F.pdf', 'file_path': 'data/SPRI_AI_Brief_2023년12월호_F.pdf', 'page': 1, 'total_pages': 23, 'Author': 'dj', 'Creator': 'Hwp 2018 10.0.0.13462', 'Producer': 'Hancom PDF 1.3.0.542', 'CreationDate': \"D:20231208132838+09'00'\", 'ModDate': \"D:20231208132838+09'00'\", 'PDFVersion': '1.4'}, page_content='▹ 삼성전자, 자체 개발 생성 AI ‘삼성 가우스’ 공개 ···························································10\\n▹ 구글, 앤스로픽에 20억 달러 투자로 생성 AI 협력 강화 ················································11\\n▹ IDC, 2027년 AI 소프트웨어 매출 2,500억 달러 돌파 전망···········································12'),\n",
       " Document(id='9914ced1-730f-451a-8472-eda20b320389', metadata={'source': 'data/SPRI_AI_Brief_2023년12월호_F.pdf', 'file_path': 'data/SPRI_AI_Brief_2023년12월호_F.pdf', 'page': 12, 'total_pages': 23, 'Author': 'dj', 'Creator': 'Hwp 2018 10.0.0.13462', 'Producer': 'Hancom PDF 1.3.0.542', 'CreationDate': \"D:20231208132838+09'00'\", 'ModDate': \"D:20231208132838+09'00'\", 'PDFVersion': '1.4'}, page_content='SPRi AI Brief |\\n2023-12월호\\n삼성전자, 자체 개발 생성 AI ‘삼성 가우스’ 공개\\nKEY Contents\\nn 삼성전자가 온디바이스에서 작동 가능하며 언어, 코드, 이미지의 3개 모델로 구성된 자체 개발 생성\\nAI 모델 ‘삼성 가우스’를 공개\\nn 삼성전자는 삼성 가우스를 다양한 제품에 단계적으로 탑재할 계획으로, 온디바이스 작동이 가능한\\n삼성 가우스는 외부로 사용자 정보가 유출될 위험이 없다는 장점을 보유\\n£언어, 코드, 이미지의 3개 모델로 구성된 삼성 가우스, 온디바이스 작동 지원'),\n",
       " Document(id='777f6157-254f-4386-8b9d-cb6f6b0cdb99', metadata={'source': 'data/SPRI_AI_Brief_2023년12월호_F.pdf', 'file_path': 'data/SPRI_AI_Brief_2023년12월호_F.pdf', 'page': 12, 'total_pages': 23, 'Author': 'dj', 'Creator': 'Hwp 2018 10.0.0.13462', 'Producer': 'Hancom PDF 1.3.0.542', 'CreationDate': \"D:20231208132838+09'00'\", 'ModDate': \"D:20231208132838+09'00'\", 'PDFVersion': '1.4'}, page_content='£언어, 코드, 이미지의 3개 모델로 구성된 삼성 가우스, 온디바이스 작동 지원\\nn 삼성전자가 2023년 11월 8일 열린 ‘삼성 AI 포럼 2023’ 행사에서 자체 개발한 생성 AI 모델\\n‘삼성 가우스’를 최초 공개\\n∙ 정규분포 이론을 정립한 천재 수학자 가우스(Gauss)의 이름을 본뜬 삼성 가우스는 다양한 상황에\\n최적화된 크기의 모델 선택이 가능\\n∙ 삼성 가우스는 라이선스나 개인정보를 침해하지 않는 안전한 데이터를 통해 학습되었으며,\\n온디바이스에서 작동하도록 설계되어 외부로 사용자의 정보가 유출되지 않는 장점을 보유'),\n",
       " Document(id='b1ae4676-7a2e-40db-81f7-5f01bb4fe361', metadata={'source': 'data/SPRI_AI_Brief_2023년12월호_F.pdf', 'file_path': 'data/SPRI_AI_Brief_2023년12월호_F.pdf', 'page': 12, 'total_pages': 23, 'Author': 'dj', 'Creator': 'Hwp 2018 10.0.0.13462', 'Producer': 'Hancom PDF 1.3.0.542', 'CreationDate': \"D:20231208132838+09'00'\", 'ModDate': \"D:20231208132838+09'00'\", 'PDFVersion': '1.4'}, page_content='어시스턴트를 적용한 구글 픽셀(Pixel)과 경쟁할 것으로 예상\\n☞ 출처 : 삼성전자, ‘삼성 AI 포럼’서 자체 개발 생성형 AI ‘삼성 가우스’ 공개, 2023.11.08.\\n삼성전자, ‘삼성 개발자 콘퍼런스 코리아 2023’ 개최, 2023.11.14.\\nTechRepublic, Samsung Gauss: Samsung Research Reveals Generative AI, 2023.11.08.\\n10'),\n",
       " Document(id='34140545-e75c-4b43-8b6e-9bc08fc84a0e', metadata={'source': 'data/SPRI_AI_Brief_2023년12월호_F.pdf', 'file_path': 'data/SPRI_AI_Brief_2023년12월호_F.pdf', 'page': 18, 'total_pages': 23, 'Author': 'dj', 'Creator': 'Hwp 2018 10.0.0.13462', 'Producer': 'Hancom PDF 1.3.0.542', 'CreationDate': \"D:20231208132838+09'00'\", 'ModDate': \"D:20231208132838+09'00'\", 'PDFVersion': '1.4'}, page_content='<구글 딥마인드의 범용 AI 분류 프레임워크>\\n성능 특수 AI 예시 범용 AI 예시\\n0단계: AI 아님 계산기 소프트웨어, 컴파일러 아마존 메커니컬 터크\\n1단계: 신진(숙련되지 않은 인간) GOFAI(Good Old Fashioned Artificial Intelligence) 챗GPT, 바드, 라마2\\n스마트 스피커(애플 시리, 아마존 알렉사, 구글\\n2단계: 유능(숙련된 인간의 50% 이상) 미달성\\n어시스턴트), IBM 왓슨\\n3단계: 전문가(숙련된 인간의 90% 이상) 문법 교정기(그래머리), 생성 이미지 모델(달리2) 미달성'),\n",
       " Document(id='c5d2bce3-198e-42a4-a419-abd8ed2f0d23', metadata={'source': 'data/SPRI_AI_Brief_2023년12월호_F.pdf', 'file_path': 'data/SPRI_AI_Brief_2023년12월호_F.pdf', 'page': 12, 'total_pages': 23, 'Author': 'dj', 'Creator': 'Hwp 2018 10.0.0.13462', 'Producer': 'Hancom PDF 1.3.0.542', 'CreationDate': \"D:20231208132838+09'00'\", 'ModDate': \"D:20231208132838+09'00'\", 'PDFVersion': '1.4'}, page_content='처리를 지원\\n∙ 코드 모델 기반의 AI 코딩 어시스턴트 ‘코드아이(code.i)’는 대화형 인터페이스로 서비스를 제공하며\\n사내 소프트웨어 개발에 최적화\\n∙ 이미지 모델은 창의적인 이미지를 생성하고 기존 이미지를 원하는 대로 바꿀 수 있도록 지원하며\\n저해상도 이미지의 고해상도 전환도 지원\\nn IT 전문지 테크리퍼블릭(TechRepublic)은 온디바이스 AI가 주요 기술 트렌드로 부상했다며,\\n2024년부터 가우스를 탑재한 삼성 스마트폰이 메타의 라마(Llama)2를 탑재한 퀄컴 기기 및 구글'),\n",
       " Document(id='197590be-25f2-4491-a220-2fe8dff183df', metadata={'source': 'data/SPRI_AI_Brief_2023년12월호_F.pdf', 'file_path': 'data/SPRI_AI_Brief_2023년12월호_F.pdf', 'page': 12, 'total_pages': 23, 'Author': 'dj', 'Creator': 'Hwp 2018 10.0.0.13462', 'Producer': 'Hancom PDF 1.3.0.542', 'CreationDate': \"D:20231208132838+09'00'\", 'ModDate': \"D:20231208132838+09'00'\", 'PDFVersion': '1.4'}, page_content='온디바이스에서 작동하도록 설계되어 외부로 사용자의 정보가 유출되지 않는 장점을 보유\\n∙ 삼성전자는 삼성 가우스를 활용한 온디바이스 AI 기술도 소개했으며, 생성 AI 모델을 다양한 제품에\\n단계적으로 탑재할 계획\\nn 삼성 가우스는 △텍스트를 생성하는 언어모델 △코드를 생성하는 코드 모델 △이미지를 생성하는\\n이미지 모델의 3개 모델로 구성\\n∙ 언어 모델은 클라우드와 온디바이스 대상 다양한 모델로 구성되며, 메일 작성, 문서 요약, 번역 업무의\\n처리를 지원'),\n",
       " Document(id='6ae8e820-5e92-41fc-8369-5aa43f7933c3', metadata={'source': 'data/SPRI_AI_Brief_2023년12월호_F.pdf', 'file_path': 'data/SPRI_AI_Brief_2023년12월호_F.pdf', 'page': 11, 'total_pages': 23, 'Author': 'dj', 'Creator': 'Hwp 2018 10.0.0.13462', 'Producer': 'Hancom PDF 1.3.0.542', 'CreationDate': \"D:20231208132838+09'00'\", 'ModDate': \"D:20231208132838+09'00'\", 'PDFVersion': '1.4'}, page_content='제작을 포함\\nn 알리바바 클라우드는 급증하는 생성 AI 수요에 대응해 모델 개발과 애플리케이션 구축 절차를\\n간소화하는 올인원 AI 모델 구축 플랫폼 ‘젠AI(GenAI)’도 공개\\n∙ 이 플랫폼은 데이터 관리, 모델 배포와 평가, 신속한 엔지니어링을 위한 종합 도구 모음을 제공하여\\n다양한 기업들이 맞춤형 AI 모델을 한층 쉽게 개발할 수 있도록 지원\\n∙ 생성 AI 개발에 필요한 컴퓨팅과 데이터 처리 요구사항을 지원하기 위해 AI 플랫폼(PAI),\\n데이터베이스 솔루션, 컨테이너 서비스와 같은 클라우드 신제품도 발표'),\n",
       " Document(id='8a6da548-7ee1-48b0-9513-ecb9687cdd77', metadata={'source': 'data/SPRI_AI_Brief_2023년12월호_F.pdf', 'file_path': 'data/SPRI_AI_Brief_2023년12월호_F.pdf', 'page': 1, 'total_pages': 23, 'Author': 'dj', 'Creator': 'Hwp 2018 10.0.0.13462', 'Producer': 'Hancom PDF 1.3.0.542', 'CreationDate': \"D:20231208132838+09'00'\", 'ModDate': \"D:20231208132838+09'00'\", 'PDFVersion': '1.4'}, page_content='▹ 빌 게이츠, AI 에이전트로 인한 컴퓨터 사용의 패러다임 변화 전망································13\\n▹ 유튜브, 2024년부터 AI 생성 콘텐츠 표시 의무화····························································14\\n3. 기술/연구\\n▹ 영국 과학혁신기술부, AI 안전 연구소 설립 발표······························································15'),\n",
       " Document(id='39bc7f15-a8dc-4cc2-ba78-0c8f85677ab2', metadata={'source': 'data/SPRI_AI_Brief_2023년12월호_F.pdf', 'file_path': 'data/SPRI_AI_Brief_2023년12월호_F.pdf', 'page': 7, 'total_pages': 23, 'Author': 'dj', 'Creator': 'Hwp 2018 10.0.0.13462', 'Producer': 'Hancom PDF 1.3.0.542', 'CreationDate': \"D:20231208132838+09'00'\", 'ModDate': \"D:20231208132838+09'00'\", 'PDFVersion': '1.4'}, page_content='만들었다고 오해할 소지가 있다고 지적\\n∙ 저작권법에 저촉되는 행위는 불공정 경쟁이나 기만행위에도 해당될 수 있으며, 창작자의 평판 악화,\\n저작물의 가치 저하나 개인정보 유출로 소비자에 상당한 피해를 초래 가능\\nn FTC는 일부 빅테크가 막대한 재원을 활용해 생성 AI 사용자의 이탈을 막고 저작권이 있는 상용\\n데이터에 대한 독점 라이선스를 확보해 시장 지배력을 더욱 강화할 수 있다는 우려도 제기\\n∙ 이와 관련 FTC는 아마존 AI 비서 ‘알렉사(Alexa)’와 스마트홈 보안 기기 ‘링(Ring)’이 소비자의 사적')]"
      ]
     },
     "execution_count": 208,
     "metadata": {},
     "output_type": "execute_result"
    }
   ],
   "source": [
    "docs = pdf.retriever.invoke(state['question'])              # 사용자 질문에 대해서 관련 문서를 검색한다.\n",
    "docs"
   ]
  },
  {
   "cell_type": "code",
   "execution_count": 209,
   "metadata": {},
   "outputs": [
    {
     "data": {
      "text/plain": [
       "'SPRi AI Brief |\\n2023-12월호\\n삼성전자, 자체 개발 생성 AI ‘삼성 가우스’ 공개\\nKEY Contents\\nn 삼성전자가 온디바이스에서 작동 가능하며 언어, 코드, 이미지의 3개 모델로 구성된 자체 개발 생성\\nAI 모델 ‘삼성 가우스’를 공개\\nn 삼성전자는 삼성 가우스를 다양한 제품에 단계적으로 탑재할 계획으로, 온디바이스 작동이 가능한\\n삼성 가우스는 외부로 사용자 정보가 유출될 위험이 없다는 장점을 보유\\n£언어, 코드, 이미지의 3개 모델로 구성된 삼성 가우스, 온디바이스 작동 지원'"
      ]
     },
     "execution_count": 209,
     "metadata": {},
     "output_type": "execute_result"
    }
   ],
   "source": [
    "retrieved_doc = docs[1].page_content                        # 검색된 문서의 내용 가져오기\n",
    "retrieved_doc"
   ]
  },
  {
   "cell_type": "code",
   "execution_count": 210,
   "metadata": {},
   "outputs": [
    {
     "data": {
      "text/plain": [
       "GradeDocuments(binary_score='yes')"
      ]
     },
     "execution_count": 210,
     "metadata": {},
     "output_type": "execute_result"
    }
   ],
   "source": [
    "# 문서 검색 평가기를 사용해서 평가 결과 출력\n",
    "# retrieval_grader.invoke({'question': question, 'document': retrieved_doc})\n",
    "\n",
    "# 문서 검색 결과를 평가하는 평가기(retrieval_grader)를 사용해서 사용자 질문과 검색 결과문서가 관련성이 있는지 평가한다.\n",
    "retrieval_grader.invoke({'question': state['question'], 'document': retrieved_doc})"
   ]
  },
  {
   "cell_type": "code",
   "execution_count": 211,
   "metadata": {},
   "outputs": [
    {
     "name": "stdout",
     "output_type": "stream",
     "text": [
      "result.binary_score: yes\n",
      "result.binary_score: yes\n",
      "result.binary_score: yes\n",
      "result.binary_score: yes\n",
      "result.binary_score: no\n",
      "result.binary_score: yes\n",
      "result.binary_score: yes\n",
      "result.binary_score: no\n",
      "result.binary_score: no\n",
      "result.binary_score: no\n"
     ]
    }
   ],
   "source": [
    "# 문서 검색 결과를 평가하는 평가기(retrieval_grader)를 사용해서 테스트를 다시 실행\n",
    "\n",
    "# question = '삼성전자가 만든 생성형 AI 이름은?'      # 사용자 질문\n",
    "# docs = pdf_retriever.invoke(question)               # 질문에 대해서 관련 문서를 검색한다.\n",
    "\n",
    "docs = pdf_retriever.invoke(state['question'])        # 질문에 대해서 관련 문서를 검색한다.\n",
    "\n",
    "filtered_docs = []                                    # 문서 검색 평가기를 통과한 문서들만 필터링\n",
    "\n",
    "for doc in docs:\n",
    "    result = retrieval_grader.invoke({'question': state['question'], 'document': doc.page_content})\n",
    "    print(f\"result.binary_score: {result.binary_score}\")\n",
    "    \n",
    "    if result.binary_score == 'yes':\n",
    "        filtered_docs.append(doc)"
   ]
  },
  {
   "cell_type": "markdown",
   "metadata": {},
   "source": [
    "### 답변 생성을 위한 RAG 체인"
   ]
  },
  {
   "cell_type": "code",
   "execution_count": 212,
   "metadata": {},
   "outputs": [],
   "source": [
    "from langchain_core.output_parsers import StrOutputParser\n",
    "from langchain_openai import ChatOpenAI\n",
    "from langchain import hub\n",
    "\n",
    "# prompt = hub.pull(\"teddynote/rag-prompt\")\n",
    "\n",
    "template = \"\"\"You are an AI assistant specializing in Question-Answering (QA) tasks within a Retrieval-Augmented Generation (RAG) system. \n",
    "Your primary mission is to answer questions based on provided context or chat history.\n",
    "Ensure your response is concise and directly addresses the question without any additional narration.\n",
    "\n",
    "###\n",
    "\n",
    "Your final answer should be written concisely (but include important numerical values, technical terms, jargon, and names), followed by the source of the information.\n",
    "\n",
    "# Steps\n",
    "\n",
    "1. Carefully read and understand the context provided.\n",
    "2. Identify the key information related to the question within the context.\n",
    "3. Formulate a concise answer based on the relevant information.\n",
    "4. Ensure your final answer directly addresses the question.\n",
    "5. List the source of the answer in bullet points, which must be a file name (with a page number) or URL from the context. Omit if the source cannot be found.\n",
    "\n",
    "# Output Format:\n",
    "[Your final answer here, with numerical values, technical terms, jargon, and names in their original language]\n",
    "\n",
    "**Source**(Optional)\n",
    "- (Source of the answer, must be a file name(with a page number) or URL from the context. Omit if you can't find the source of the answer.)\n",
    "- (list more if there are multiple sources)\n",
    "- ...\n",
    "\n",
    "###\n",
    "\n",
    "Remember:\n",
    "- It's crucial to base your answer solely on the **PROVIDED CONTEXT**. \n",
    "- DO NOT use any external knowledge or information not present in the given materials.\n",
    "- If you can't find the source of the answer, you should answer that you don't know.\n",
    "\n",
    "###\n",
    "\n",
    "# Here is the user's QUESTION that you should answer:\n",
    "{question}\n",
    "\n",
    "# Here is the CONTEXT that you should use to answer the question:\n",
    "{context}\n",
    "\n",
    "# Your final ANSWER to the user's QUESTION:\"\"\"\n",
    "\n",
    "prompt = ChatPromptTemplate.from_template(template)\n",
    "\n",
    "llm = ChatOpenAI(\n",
    "    api_key=key, \n",
    "    model='gpt-4o-mini', \n",
    "    temperature=0\n",
    ")\n",
    "\n",
    "def format_docs(docs):\n",
    "    return \"\\n\\n\".join(\n",
    "        [\n",
    "            f'<document><content>{doc.page_content}</content><source>{doc.metadata[\"source\"]}</source><page>{doc.metadata[\"page\"]+1}</page></document>'\n",
    "            for doc in docs\n",
    "        ]\n",
    "    )\n",
    "\n",
    "output_parser = StrOutputParser()\n",
    "\n",
    "# RAG 체인 생성 (pdf_retriever 문서 검색기를 사용해서 얻은 문서와 사용자 질문을 넣어서 결과)\n",
    "rag_chain = prompt | llm | output_parser"
   ]
  },
  {
   "cell_type": "code",
   "execution_count": 213,
   "metadata": {},
   "outputs": [
    {
     "name": "stdout",
     "output_type": "stream",
     "text": [
      "question: 삼성전자가 만든 생성형 AI 이름은?\n",
      "format_docs(docs): <document><content>▹ 삼성전자, 자체 개발 생성 AI ‘삼성 가우스’ 공개 ···························································10\n",
      "▹ 구글, 앤스로픽에 20억 달러 투자로 생성 AI 협력 강화 ················································11\n",
      "▹ IDC, 2027년 AI 소프트웨어 매출 2,500억 달러 돌파 전망···········································12</content><source>data/SPRI_AI_Brief_2023년12월호_F.pdf</source><page>2</page></document>\n",
      "\n",
      "<document><content>SPRi AI Brief |\n",
      "2023-12월호\n",
      "삼성전자, 자체 개발 생성 AI ‘삼성 가우스’ 공개\n",
      "KEY Contents\n",
      "n 삼성전자가 온디바이스에서 작동 가능하며 언어, 코드, 이미지의 3개 모델로 구성된 자체 개발 생성\n",
      "AI 모델 ‘삼성 가우스’를 공개\n",
      "n 삼성전자는 삼성 가우스를 다양한 제품에 단계적으로 탑재할 계획으로, 온디바이스 작동이 가능한\n",
      "삼성 가우스는 외부로 사용자 정보가 유출될 위험이 없다는 장점을 보유\n",
      "£언어, 코드, 이미지의 3개 모델로 구성된 삼성 가우스, 온디바이스 작동 지원</content><source>data/SPRI_AI_Brief_2023년12월호_F.pdf</source><page>13</page></document>\n",
      "\n",
      "<document><content>£언어, 코드, 이미지의 3개 모델로 구성된 삼성 가우스, 온디바이스 작동 지원\n",
      "n 삼성전자가 2023년 11월 8일 열린 ‘삼성 AI 포럼 2023’ 행사에서 자체 개발한 생성 AI 모델\n",
      "‘삼성 가우스’를 최초 공개\n",
      "∙ 정규분포 이론을 정립한 천재 수학자 가우스(Gauss)의 이름을 본뜬 삼성 가우스는 다양한 상황에\n",
      "최적화된 크기의 모델 선택이 가능\n",
      "∙ 삼성 가우스는 라이선스나 개인정보를 침해하지 않는 안전한 데이터를 통해 학습되었으며,\n",
      "온디바이스에서 작동하도록 설계되어 외부로 사용자의 정보가 유출되지 않는 장점을 보유</content><source>data/SPRI_AI_Brief_2023년12월호_F.pdf</source><page>13</page></document>\n",
      "\n",
      "<document><content>어시스턴트를 적용한 구글 픽셀(Pixel)과 경쟁할 것으로 예상\n",
      "☞ 출처 : 삼성전자, ‘삼성 AI 포럼’서 자체 개발 생성형 AI ‘삼성 가우스’ 공개, 2023.11.08.\n",
      "삼성전자, ‘삼성 개발자 콘퍼런스 코리아 2023’ 개최, 2023.11.14.\n",
      "TechRepublic, Samsung Gauss: Samsung Research Reveals Generative AI, 2023.11.08.\n",
      "10</content><source>data/SPRI_AI_Brief_2023년12월호_F.pdf</source><page>13</page></document>\n",
      "\n",
      "<document><content><구글 딥마인드의 범용 AI 분류 프레임워크>\n",
      "성능 특수 AI 예시 범용 AI 예시\n",
      "0단계: AI 아님 계산기 소프트웨어, 컴파일러 아마존 메커니컬 터크\n",
      "1단계: 신진(숙련되지 않은 인간) GOFAI(Good Old Fashioned Artificial Intelligence) 챗GPT, 바드, 라마2\n",
      "스마트 스피커(애플 시리, 아마존 알렉사, 구글\n",
      "2단계: 유능(숙련된 인간의 50% 이상) 미달성\n",
      "어시스턴트), IBM 왓슨\n",
      "3단계: 전문가(숙련된 인간의 90% 이상) 문법 교정기(그래머리), 생성 이미지 모델(달리2) 미달성</content><source>data/SPRI_AI_Brief_2023년12월호_F.pdf</source><page>19</page></document>\n",
      "\n",
      "<document><content>처리를 지원\n",
      "∙ 코드 모델 기반의 AI 코딩 어시스턴트 ‘코드아이(code.i)’는 대화형 인터페이스로 서비스를 제공하며\n",
      "사내 소프트웨어 개발에 최적화\n",
      "∙ 이미지 모델은 창의적인 이미지를 생성하고 기존 이미지를 원하는 대로 바꿀 수 있도록 지원하며\n",
      "저해상도 이미지의 고해상도 전환도 지원\n",
      "n IT 전문지 테크리퍼블릭(TechRepublic)은 온디바이스 AI가 주요 기술 트렌드로 부상했다며,\n",
      "2024년부터 가우스를 탑재한 삼성 스마트폰이 메타의 라마(Llama)2를 탑재한 퀄컴 기기 및 구글</content><source>data/SPRI_AI_Brief_2023년12월호_F.pdf</source><page>13</page></document>\n",
      "\n",
      "<document><content>온디바이스에서 작동하도록 설계되어 외부로 사용자의 정보가 유출되지 않는 장점을 보유\n",
      "∙ 삼성전자는 삼성 가우스를 활용한 온디바이스 AI 기술도 소개했으며, 생성 AI 모델을 다양한 제품에\n",
      "단계적으로 탑재할 계획\n",
      "n 삼성 가우스는 △텍스트를 생성하는 언어모델 △코드를 생성하는 코드 모델 △이미지를 생성하는\n",
      "이미지 모델의 3개 모델로 구성\n",
      "∙ 언어 모델은 클라우드와 온디바이스 대상 다양한 모델로 구성되며, 메일 작성, 문서 요약, 번역 업무의\n",
      "처리를 지원</content><source>data/SPRI_AI_Brief_2023년12월호_F.pdf</source><page>13</page></document>\n",
      "\n",
      "<document><content>제작을 포함\n",
      "n 알리바바 클라우드는 급증하는 생성 AI 수요에 대응해 모델 개발과 애플리케이션 구축 절차를\n",
      "간소화하는 올인원 AI 모델 구축 플랫폼 ‘젠AI(GenAI)’도 공개\n",
      "∙ 이 플랫폼은 데이터 관리, 모델 배포와 평가, 신속한 엔지니어링을 위한 종합 도구 모음을 제공하여\n",
      "다양한 기업들이 맞춤형 AI 모델을 한층 쉽게 개발할 수 있도록 지원\n",
      "∙ 생성 AI 개발에 필요한 컴퓨팅과 데이터 처리 요구사항을 지원하기 위해 AI 플랫폼(PAI),\n",
      "데이터베이스 솔루션, 컨테이너 서비스와 같은 클라우드 신제품도 발표</content><source>data/SPRI_AI_Brief_2023년12월호_F.pdf</source><page>12</page></document>\n",
      "\n",
      "<document><content>▹ 빌 게이츠, AI 에이전트로 인한 컴퓨터 사용의 패러다임 변화 전망································13\n",
      "▹ 유튜브, 2024년부터 AI 생성 콘텐츠 표시 의무화····························································14\n",
      "3. 기술/연구\n",
      "▹ 영국 과학혁신기술부, AI 안전 연구소 설립 발표······························································15</content><source>data/SPRI_AI_Brief_2023년12월호_F.pdf</source><page>2</page></document>\n",
      "\n",
      "<document><content>만들었다고 오해할 소지가 있다고 지적\n",
      "∙ 저작권법에 저촉되는 행위는 불공정 경쟁이나 기만행위에도 해당될 수 있으며, 창작자의 평판 악화,\n",
      "저작물의 가치 저하나 개인정보 유출로 소비자에 상당한 피해를 초래 가능\n",
      "n FTC는 일부 빅테크가 막대한 재원을 활용해 생성 AI 사용자의 이탈을 막고 저작권이 있는 상용\n",
      "데이터에 대한 독점 라이선스를 확보해 시장 지배력을 더욱 강화할 수 있다는 우려도 제기\n",
      "∙ 이와 관련 FTC는 아마존 AI 비서 ‘알렉사(Alexa)’와 스마트홈 보안 기기 ‘링(Ring)’이 소비자의 사적</content><source>data/SPRI_AI_Brief_2023년12월호_F.pdf</source><page>8</page></document>\n"
     ]
    }
   ],
   "source": [
    "# RAG 체인에 질문을 전달하여 답변 생성 테스트\n",
    "print(f\"question: {state['question']}\")\n",
    "print(f'format_docs(docs): {format_docs(docs)}')"
   ]
  },
  {
   "cell_type": "code",
   "execution_count": 214,
   "metadata": {},
   "outputs": [
    {
     "data": {
      "text/plain": [
       "\"삼성전자가 만든 생성형 AI의 이름은 '삼성 가우스'입니다.\\n\\n**Source**\\n- data/SPRI_AI_Brief_2023년12월호_F.pdf (page 13)\""
      ]
     },
     "execution_count": 214,
     "metadata": {},
     "output_type": "execute_result"
    }
   ],
   "source": [
    "generation = rag_chain.invoke({'context': format_docs(docs), 'question': state['question']})\n",
    "generation"
   ]
  },
  {
   "cell_type": "markdown",
   "metadata": {},
   "source": [
    "# 답변에 대한 Hallucination checker 추가"
   ]
  },
  {
   "cell_type": "code",
   "execution_count": 215,
   "metadata": {},
   "outputs": [],
   "source": [
    "from langchain_openai import ChatOpenAI\n",
    "from langchain_core.prompts import ChatPromptTemplate\n",
    "from langchain_core.output_parsers import StrOutputParser\n",
    "\n",
    "class GradeHallucinations(BaseModel):\n",
    "    \"\"\"Binary score for hallucination present in generation answer.\"\"\"\n",
    "\n",
    "    binary_score: str = Field(\n",
    "        description=\"Answer is grounded in the facts, 'yes' or 'no'\"\n",
    "    )\n",
    "\n",
    "\n",
    "llm = ChatOpenAI(\n",
    "    api_key=key, \n",
    "    model='gpt-4o-mini', \n",
    "    temperature=0\n",
    ")\n",
    "\n",
    "structured_hallucination_grader = llm.with_structured_output(GradeHallucinations)\n",
    "\n",
    "# system\n",
    "system = \"\"\"You are a grader assessing whether an LLM generation is grounded in / supported by a set of retrieved facts. \\n \n",
    "    Give a binary score 'yes' or 'no'. 'Yes' means that the answer is grounded in / supported by the set of facts.\"\"\"\n",
    "\n",
    "# 프롬프트\n",
    "hallucination_prompt = ChatPromptTemplate.from_messages(\n",
    "    [\n",
    "        (\"system\", system),\n",
    "        (\"human\", \"Set of facts: \\n\\n {documents} \\n\\n LLM generation: {generation}\"),\n",
    "    ]\n",
    ") \n",
    "\n",
    "# hallucination 평가기 생성\n",
    "hallucination_grader = hallucination_prompt | structured_hallucination_grader"
   ]
  },
  {
   "cell_type": "code",
   "execution_count": 216,
   "metadata": {},
   "outputs": [
    {
     "data": {
      "text/plain": [
       "GradeHallucinations(binary_score='yes')"
      ]
     },
     "execution_count": 216,
     "metadata": {},
     "output_type": "execute_result"
    }
   ],
   "source": [
    "# hallucination 평가기 테스트 (생성된 답변과 질문에 대한 평가)\n",
    "hallucination_grader.invoke({\"documents\": format_docs(docs), \"generation\": generation})"
   ]
  },
  {
   "cell_type": "code",
   "execution_count": 217,
   "metadata": {},
   "outputs": [],
   "source": [
    "class GradeAnswer(BaseModel):                       # 사용자 질문과 RAG 실행 결과의 답변에 대한 평가  \n",
    "    \"\"\"Binary scoring to evaluate the appropriateness of answers to questions\"\"\"\n",
    "\n",
    "    binary_score: str = Field(\n",
    "        description=\"Indicate 'yes' or 'no' whether the answer solves the question\"\n",
    "    )\n",
    "\n",
    "llm = ChatOpenAI(\n",
    "    api_key=key, \n",
    "    model='gpt-4o-mini', \n",
    "    temperature=0\n",
    ")\n",
    "\n",
    "structured_llm_grader = llm.with_structured_output(GradeAnswer)\n",
    "\n",
    "# system\n",
    "system = \"\"\"You are a grader assessing whether an answer addresses / resolves a question \\n \n",
    "     Give a binary score 'yes' or 'no'. Yes' means that the answer resolves the question.\"\"\"\n",
    "\n",
    "# 프롬프트 템플릿\n",
    "answer_prompt = ChatPromptTemplate.from_messages(\n",
    "    [\n",
    "        (\"system\", system),\n",
    "        (\"human\", \"User question: \\n\\n {question} \\n\\n LLM generation: {generation}\"),\n",
    "    ]\n",
    ")\n",
    "\n",
    "# 프롬프트 템플릿과 구조화된 LLM 평가기를 결합하여 답변 평가기 생성\n",
    "answer_grader = answer_prompt | structured_llm_grader"
   ]
  },
  {
   "cell_type": "markdown",
   "metadata": {},
   "source": [
    "### 쿼리 재작성 (Query Rewriter)"
   ]
  },
  {
   "cell_type": "code",
   "execution_count": 218,
   "metadata": {},
   "outputs": [],
   "source": [
    "from langchain_openai import ChatOpenAI\n",
    "from langchain_core.prompts import ChatPromptTemplate\n",
    "from langchain_core.output_parsers import StrOutputParser\n",
    "\n",
    "\n",
    "llm = ChatOpenAI(\n",
    "    api_key=key, \n",
    "    model='gpt-4o-mini', \n",
    "    temperature=0\n",
    ")\n",
    "\n",
    "# Query Rewriter 프롬프트\n",
    "system = \"\"\"You a question re-writer that converts an input question to a better version that is optimized \\n \n",
    "for vectorstore retrieval. Look at the input and try to reason about the underlying semantic intent / meaning.\"\"\"\n",
    "\n",
    "re_writer_prompt = ChatPromptTemplate.from_messages(\n",
    "    [\n",
    "        ('system', system), \n",
    "        ('human', 'Here is the initial question: \\n\\n {question} \\n Formulate an improved question')\n",
    "    ]\n",
    ")\n",
    "\n",
    "# Query Rewriter 생성\n",
    "question_rewriter = re_writer_prompt | llm | StrOutputParser()"
   ]
  },
  {
   "cell_type": "code",
   "execution_count": 219,
   "metadata": {},
   "outputs": [
    {
     "data": {
      "text/plain": [
       "'삼성전자가 개발한 생성형 AI의 이름은 무엇인가요?'"
      ]
     },
     "execution_count": 219,
     "metadata": {},
     "output_type": "execute_result"
    }
   ],
   "source": [
    "# 테스트\n",
    "question_rewriter.invoke({'question': state['question']})"
   ]
  },
  {
   "cell_type": "code",
   "execution_count": 220,
   "metadata": {},
   "outputs": [],
   "source": [
    "from langchain_teddynote.tools.tavily import TavilySearch\n",
    "\n",
    "# 웹 검색 도구 생성\n",
    "web_search_tool = TavilySearch(max_results=2)"
   ]
  },
  {
   "cell_type": "code",
   "execution_count": 221,
   "metadata": {},
   "outputs": [
    {
     "data": {
      "text/plain": [
       "[{'title': \"'대구 고깃집' 맛집 빅데이터 추천순위 Top100 - 다이닝코드\",\n",
       "  'url': 'https://www.diningcode.com/list.dc?query=대구++고깃집',\n",
       "  'content': '3. 육즙 대구 --------- 73점 5.0 (2명) 영업 중 삼겹살 회식,주차,예약,콜키지  \"직접 고기를 구워주시니 편했고 고기도 맛있는데 밑반찬이 진리입니댜\" 6. 고기굽는남자 본점 ------------- 72점 4.5 (12명) 영업 중 삼겹살 술모임,무료주차,시끌벅적한,단체석  \"제 최애 고깃집이에요\" 9. 은하수식당 삼덕동 ------------- 72점 4.9 (6명) 영업 중 삼겹살 술모임,주차,서민적인  \"대구 삼덕동에 위치한 고깃집입니다.\" 83해치 복현점 ------------- 69점 5.0 (2명) 영업 중 삼겹살 회식,예약,예약가능  \"복현동 먹자골목 고기 맛집, 직원들 텐션이 어마무시한 고깃집 😲 고기도 다 구워주고 편하게 먹기 좋은곳 매장도 넓어서 회식하기 좋을듯!\" 혜옥당 대구 ----------- 69점 4.9 (7명) 영업 중 삼겹살 술모임,캐주얼한  \"프라이빗한 느낌을 줘서 일반 고깃집보다 편안하게 즐길 수 있다 너무 시끌벅적한 느낌이 아니라 편안..레트로 인테리어가 정감있었던 구워주는 고깃집 맛있게 구워주셔서 좋은데 비계가 정말 많아서 마지막엔 살짝 느끼했다 그럴때 냉메밀면 먹으면 내려감\" 고기굽는남자 신세계점 ---------------- 69점 4.5 (11명) 영업 중 삼겹살 식사모임,무료주차,시끌벅적한,놀이방  \"오랜만에 방문했는데 역시 맛있어요!!!',\n",
       "  'score': 0.72814995,\n",
       "  'raw_content': '\\'대구 고깃집\\' 맛집 빅데이터 추천순위 Top100 - 다이닝코드\\n\\n\\n\\n이용자층\\n카테고리방문목적편의기능분위기인증맛집\\n\\n20대\\n30대\\n40대\\n50대\\n60대 이상\\n\\n\\n\\n여성\\n\\n남성\\n\\n\\n연관순\\n\\n평점순\\n리뷰많은순\\n좋아요많은순\\n거리순\\n\\n\\n대구 고깃집\\xa0맛집 (4,097곳)\\n\\n💁🏻 대구에서 많이 검색된 키워드\\n막창뭉티기뷔페24시간영업돈까스카페아침식사빵집더보기\\n1. 로산가옥 삼덕동 ------------ 75점 4.1 (14명) 영업 중 삼겹살 식사모임,시끌벅적한,콜키지  \"예쁜 고기집인 로산 가옥 웨이팅이 길고 안에가 생각보다 더워요\"\\n2. 상구네돼지구이 수성못점 ---------------- 75점 4.7 (23명) 영업 중 삼겹살 식사모임,무료주차,깔끔한,셀프바  \"외관도 고기집같지않고 패밀리 레스토랑 같아서 이쁩니다 직원들 친절한건 말할것도 없고 무엇보다 고기가 진짜 찐으로 맛있습니다\"\\n3. 육즙 대구 --------- 73점 5.0 (2명) 영업 중 삼겹살 회식,주차,예약,콜키지  \"직접 고기를 구워주시니 편했고 고기도 맛있는데 밑반찬이 진리입니댜\"\\n\\n4. 돼지만 본점 ---------- 72점 4.6 (9명) 영업 중 삼겹살 식사모임,무료주차,시끌벅적한,단체석  \"리모델링되어서 신축 제주도 돌담컨셉으로 리뉴얼되어서 깔끔해서 좋았다 단지 배가 부른상태로 2명이서 방문하였는데 저녁시간에는 3인분부터 주문가능임을 미리공지안하셔서 조금 당황했다\"\\n\\n5. 83해치 봉덕동 ------------ 71점 4.9 (4명) 영업 중 삼겹살 식사모임,주차,깔끔한  \"평소에 자주가는 맛집입니다 사장님 외에 다른 직원분들도 친절 하시고 직접 고기를 구워주시는 점에서 매우 마음에 들어요 이런저런 스몰토크나 여성분이 오시면 머리끈 혹은 춥다면 담요까\"\\n6. 고기굽는남자 본점 ------------- 72점 4.5 (12명) 영업 중 삼겹살 술모임,무료주차,시끌벅적한,단체석  \"제 최애 고깃집이에요\"\\n7. 미식가의구이 대구신월성점 ----------------- 71점 5.0 (6명) 영업 중 고깃집 술모임,발렛파킹,시끌벅적한  \"고기 상태가 좋아보였고 구워 먹었을 때 질기지않고 맛있었어요\"\\n8. 참한집 종로점 ----------- 72점 4.8 (11명) 영업 중 삼겹살 술모임,시끌벅적한  \"우연히 들렀다가 보물을 발견하고 꾸준히 가고 있는 고깃집이에요\"\\n9. 은하수식당 삼덕동 ------------- 72점 4.9 (6명) 영업 중 삼겹살 술모임,주차,서민적인  \"대구 삼덕동에 위치한 고깃집입니다.\"\\n10. 양파식당 대구 ------------ 76점 4.7 (13명) 영업 중 미국산소고기, 갈비살 술모임,무료주차,가성비좋은,놀이방  \"대구 24시간 고깃집, 가성비가 좋기로 유명한 양파식당...이 근처에 산다면 이만한 고깃집을 찾기는 힘들다...일반 고깃집에선 볼 수 없는 야끼니쿠를 먹을수 있다는것이 차별점이기도 하다...매번 사람이 친절할 순 없지만(알바가 잘못 걸리거나 사람이 워낙 많은 날)한 두번 이외에는 매우 친절했으며 밑반찬으로 처음에는 계란찜도 나오며 개인적으로는 고깃집에서 재래기를 고기\"\\n11. 돼지만왕 소금구이 진천동 ------------------ 69점 4.8 (6명) 영업 중 삼겹살 술모임,주차,캐주얼한  \"정말 맛 있는 삼겹살집. 굳이 흠을 잡자면 지역문화인 3인분 주문이 기본인 것, 하지만 기본반찬을 보면 그 마저도 용서가 된다. 최고\"\\n12. 83해치 복현점 ------------- 69점 5.0 (2명) 영업 중 삼겹살 회식,예약,예약가능  \"복현동 먹자골목 고기 맛집, 직원들 텐션이 어마무시한 고깃집 😲 고기도 다 구워주고 편하게 먹기 좋은곳 매장도 넓어서 회식하기 좋을듯!\"\\n13. 돼지싸다구 다사 ------------- 69점 4.6 (7명) 영업 중 돼지고기, 삼겹살 술모임,가성비좋은,단체석  \"직접 구워주시니 더 맛잇는거 같아요^^ 가족외식이나 회식자리에도 촣아요\"\\n14. 혜옥당 대구 ----------- 69점 4.9 (7명) 영업 중 삼겹살 술모임,캐주얼한  \"프라이빗한 느낌을 줘서 일반 고깃집보다 편안하게 즐길 수 있다 너무 시끌벅적한 느낌이 아니라 편안..레트로 인테리어가 정감있었던 구워주는 고깃집 맛있게 구워주셔서 좋은데 비계가 정말 많아서 마지막엔 살짝 느끼했다 그럴때 냉메밀면 먹으면 내려감\"\\n15. 고기굽는남자 신세계점 ---------------- 69점 4.5 (11명) 영업 중 삼겹살 식사모임,무료주차,시끌벅적한,놀이방  \"오랜만에 방문했는데 역시 맛있어요!!! 고기 구워주시니까 편하고 밑반찬도 많고 같이 구워먹을거리랑 멜젓도 나와서 좋아요. 술 시키니까 조개탕도 주네요 굿!!\"\\n16. 금돈미가 대구중구 -------------- 68점 5.0 (3명) 영업 중 삼겹살 데이트,주차,고급스러운,바테이블  \"여긴 진짜 오마카세 느낌이 가득한 고기집이였어요!..데이트 할때 가면 딱 좋을 고기집\"\\n17. 돼지만 왕소금구이 화원점 ------------------ 68점 5.0 (5명) 영업 중 삼겹살 가족외식,무료주차,지역주민이찾는,좌식테이블  \"삼겹살과 목살은 덩어리로 나오는데, 덩어리 고기가 육즙이 잘 잡힌다는 기본 상식이 확실한 맛집. 먹을수 있을때까지 구워주는 기가막힌 서비스로 자주 찾는 단골집이다. 콩나물 무침과 \"\\n18. 만재네 대구중구 ------------- 67점 4.5 (5명) 영업 중 삼겹살 술모임,주차,푸짐한,테라스  \"다른고기집보다 훨씬 깔끔하고 특히 목살이 너무 맛있고 된장술밥이랑 너무 잘어울려서 자주 방문합니다\"\\n19. 서민갈비 두산동 ------------- 72점 3.8 (15명) 영업 중 돼지갈비 회식,무료주차,시끌벅적한  \"돼지갈비 맛집이예요 직원분들이 고기 구워주셔서 편하게 먹을수 있습니다 주차장도 있어서 편리합니다\"\\n20. 박창우의소백산왕소금구이 율하 -------------------- 67점 5.0 (1명) 영업 중 삼겹살 모임장소,주차,숯불,테라스  \"가브리가 정말 미쳤음 지금껏 먹은 가브리중에 압도적 원탑임 된장찌개도 미침\"\\n\\n\\n\\n이 지역 재검색\\n맛집 20곳 더보기\\n1 로산가옥 삼덕동 삼겹살\\n2 상구네돼지구이 수성못점 삼겹살\\n3 육즙 대구 삼겹살\\n4 돼지만 본점 삼겹살\\n5 83해치 봉덕동 삼겹살\\n6 고기굽는남자 본점 삼겹살\\n7 미식가의구이 대구신월성점 고깃집\\n8 참한집 종로점 삼겹살\\n9 은하수식당 삼덕동 삼겹살\\n10 양파식당 대구 미국산소고기, 갈비살\\n11 돼지만왕 소금구이 진천동 삼겹살\\n12 83해치 복현점 삼겹살\\n13 돼지싸다구 다사 돼지고기, 삼겹살\\n14 혜옥당 대구 삼겹살\\n15 고기굽는남자 신세계점 삼겹살\\n16 금돈미가 대구중구 삼겹살\\n17 돼지만 왕소금구이 화원점 삼겹살\\n18 만재네 대구중구 삼겹살\\n19 서민갈비 두산동 돼지갈비\\n20 박창우의소백산왕소금구이 율하 삼겹살\\n\\n지도 확대 및 축소는 오른쪽 스크롤 바를 이용해 주세요.'},\n",
       " {'title': '대구 남구 명덕역 근처 고깃집 우리고기 - 네이버 블로그',\n",
       "  'url': 'https://m.blog.naver.com/daily_g_/223257399809',\n",
       "  'content': '대구 남구 명덕역 근처 고깃집 우리고기 : 네이버 블로그 본문 바로가기 카테고리 이동 데일리지 대구 남구 명덕역 근처 고깃집 우리고기 본문 기타 기능 대구 남구 명덕에 위치한 고깃집 직접 썬 눈꽃 삼겹살이 있는 고깃집이에요 명덕역과도 가까이에 위치해 있어 매장 앞에는 주차장도 있어 주차장은 가게 앞에 위치해 있어 아베리코 갈비살 등 고기 메뉴가 있고 돼지찌개와 다른 식사류도 있어요 확인해 주시면서 더 맛있게 먹는 방법까지 알려주세요 고깃기름에 더 맛있게 익도록 그냥 구워 먹어도 맛있는 김치 구운 김치와 콩나물을 너무 잘 먹어서 인지 중간에 고기 확인하고 구워주시던 사장님이 고기만큼이나 같이 구워 먹는 김치 사장님 덜 바쁘실 때 고기 먹기 좋게 구워주시고 푹 삶아진 된장말이를 맛볼 수 있어요 대구고깃집 #대구맛집 #대구남구고기집 #명덕맛집 #명덕고기집 #대구우리고기 #우리고기 {\"title\":\"대구 남구 명덕역 근처 고깃집 우리고기\",\"source\":\"https://blog.naver.com/daily_g_/223257399809\",\"blogName\":\"데일리지\",\"domainIdOrBlogId\":\"daily_g_\",\"nicknameOrBlogId\":\"데일리지\",\"logNo\":223257399809,\"smartEditorVersion\":4,\"meDisplay\":true,\"lineDisplay\":true,\"outsideDisplay\":true,\"cafeDisplay\":true,\"blogDisplay\":true} 이 블로그 홈',\n",
       "  'score': 0.70336664,\n",
       "  'raw_content': '대구 남구 명덕역 근처 고깃집 우리고기 : 네이버 블로그\\n \\n본문 바로가기\\n블로그\\n카테고리 이동 데일리지\\n\\n검색 MY메뉴 열기\\nFood\\n대구 남구 명덕역 근처 고깃집 우리고기\\n\\n데일리지\\n2023. 11. 6. 20:03\\n이웃추가\\n본문 기타 기능\\n\\n본문 폰트 크기 조정 본문 폰트 크기 작게 보기 본문 폰트 크기 크게 보기 가\\n\\n공감하기\\n\\n\\n공유하기\\n\\nURL복사\\n신고하기\\n\\n위치우리고기\\n\\u200b\\n\\u200b\\n대구 남구 명덕에 위치한 고깃집\\n우리 고기에 방문했어요\\n직접 썬 눈꽃 삼겹살이 있는 고깃집이에요\\n친절하신 사장님과 구워주시는 서비스에\\n맛집 제대로 찾은 느낌~\\n\\u200b\\n\\n\\u200b\\n매장은 단체 손님도 가능할 만큼의 공간과\\n테이블이 있어요\\n근처 회식자리로도 딱인데요?!\\n명덕역과도 가까이에 위치해 있어\\n방문하기에 어려움이 없어요\\n매장 앞에는 주차장도 있어\\n일찍 방문하시면 주차도 가능해 보여요\\n주차장은 가게 앞에 위치해 있어\\n넓진 않고 몇 대 만 가능한 정도예요\\n\\u200b\\n\\n\\u200b\\n깔끔하고 넓은 매장!\\n항상 지나갈 때마다 고기 냄새 맡으며\\n한번 와봐야지 했는데 이제야 방문해 보네요\\n창가 쪽 자리도 있어서 더 맛있는 냄새가\\n폴폴 났었나 봐요~\\n메뉴는 눈꽃 삼겹, 눈꽃 목살, 눈꽃 소 갈비살,\\n아베리코 갈비살 등 고기 메뉴가 있고\\n돼지찌개와 다른 식사류도 있어요\\n고기를 구워 먹지 않아도\\n식사하러 방문해도 좋겠어요!\\n\\u200b\\n\\n\\u200b\\n기본으로 나오는 싱싱한 야채들!\\n상추, 깻잎, 고추까지\\n다 너무 신선함이 느껴져서\\n안 먹을 수 없더라고요!\\n싱싱한 야채가 보이니 저절이 손이 가요\\n\\u200b\\n\\n\\u200b\\n쌈장과 마을 슬라이스,\\n쌈무와 명이나물까지!\\n기본 반찬으로 이렇게 나온답니다\\n사장님이 중간중간 구워주시고\\n확인해 주시면서 더 맛있게 먹는 방법까지 알려주세요\\n쌈무에 고기 쌈장 바르고\\n구운 김치 올려서 한입 왕-!\\n그냥 먹어도 맛있지만\\n알려주신 방법으로 싸먹어도 맛있어요\\n\\u200b\\n\\n\\u200b\\n직접 칼집 낸 눈꽃 삼겹살~\\n지글 지글 불판에 올려봐요\\n먼지 김지와 콩나물을 올려주시고\\n고깃기름에 더 맛있게 익도록\\n위치를 잡고 올려주세요\\n그냥 구워 먹어도 맛있는 김치\\n고깃기름에 구워지면 더 맛있을수밖에 없죠!!\\n\\u200b\\n\\n\\u200b\\n콩나물과 김치 수시로 뒤집어 주기~\\n구운 김치와 콩나물을 너무 잘 먹어서 인지\\n중간에 고기 확인하고 구워주시던 사장님이\\n2번이나 리필해 주셨어요\\n마지막 리필은 2번 리필할 양으로\\n넉넉하게 추가해 주셨어요\\n그것마저 다 구워먹었다...ㅎㅎ\\n고기만큼이나 같이 구워 먹는 김치\\n포기 못해~\\n\\u200b\\n\\n\\u200b\\n사장님 덜 바쁘실 때 고기 먹기 좋게 구워주시고\\n잘라주시고 맛있게 먹는 방법까지\\n전주해주시고 가세요\\n저녁 식사시간에 방문해서\\n손님이 많아지니 계속 구워주시진 못해서\\n굽는 방법 전수받고 구워 먹었어요\\n눈꽃 삼겹살은 정갈하게 잘려\\n나열된 모습 보는 맛도 있죠\\n\\u200b\\n\\n\\u200b\\n마무리로 된장찌개에 밥 먹을까 하다가\\n된장말이가 있더라고요!\\n된장찌개에 밥이 말아져서 나와요\\n따로 시키는 것보다 가격이 있지만\\n된장말이는 안 먹어봐서\\n궁금하기도 하고 주문해 봤어요\\n보글보글\\n버섯이 많이 들어가 있는 모습이죠\\n\\u200b\\n\\n\\u200b\\n멸치 베이스의 국물이 느껴져요\\n진하고 깊은 맛!\\n버섯도 많이 들어 있고\\n진득하고 멸치육수의 진한 된장찌개 맛이에요\\n맛과 함께 끓여져서 나와\\n푹 삶아진 된장말이를 맛볼 수 있어요\\n\\u200b\\n\\n우리고기대구광역시 남구 명덕로 178 1층\\n이 블로그의 체크인\\n이 장소의 다른 글\\n\\n우리고기\\n\\n영업시간\\n10:00 - 23:00\\n\\u200b\\n매주 일요일 휴무\\n\\u200b\\n\\u200b\\n\\u200b\\n\\u200b\\n\\u200b\\n대구고깃집 #대구맛집 #대구남구고기집 #명덕맛집 #명덕고기집 #대구우리고기 #우리고기\\n\\n#대구고깃집\\n#대구맛집\\n#대구남구고기집\\n#명덕맛집\\n#명덕고기집\\n#대구우리고기\\n#우리고기\\n\\n\\n공감한 사람 보러가기\\n댓글 6 공유하기\\n{\"title\":\"대구 남구 명덕역 근처 고깃집 우리고기\",\"source\":\"https://blog.naver.com/daily_g_/223257399809\",\"blogName\":\"데일리지\",\"domainIdOrBlogId\":\"daily_g_\",\"nicknameOrBlogId\":\"데일리지\",\"logNo\":223257399809,\"smartEditorVersion\":4,\"meDisplay\":true,\"lineDisplay\":true,\"outsideDisplay\":true,\"cafeDisplay\":true,\"blogDisplay\":true}\\n닫기\\n카테고리\\n이 블로그 홈\\n\\n공감한 사람 보러가기\\n댓글 6 공유하기\\n데일리지(daily_g_) 님을 이웃추가하고 새글을 받아보세요\\n취소 이웃추가'}]"
      ]
     },
     "execution_count": 221,
     "metadata": {},
     "output_type": "execute_result"
    }
   ],
   "source": [
    "# 웹 검색 도구 호출\n",
    "result = web_search_tool.search('대구 고깃집에 대해서 알려주세요')\n",
    "result"
   ]
  },
  {
   "cell_type": "code",
   "execution_count": 222,
   "metadata": {},
   "outputs": [],
   "source": [
    "from langchain_core.documents import Document"
   ]
  },
  {
   "cell_type": "code",
   "execution_count": 223,
   "metadata": {},
   "outputs": [],
   "source": [
    "# 문서 검색 노드\n",
    "def retrieve(state: GraphState):\n",
    "    print('\\n==========================================================================================')\n",
    "    print('===== [RETRIEVE] retieve() 노드 실행 =====')\n",
    "\n",
    "    # 사용자 질문\n",
    "    question = state['question']        \n",
    "\n",
    "    # 문서 검색\n",
    "    documents = pdf_retriever.invoke(question)\n",
    "    \n",
    "    print(f'문서 검색 결과: ')\n",
    "    print(documents)\n",
    "    print('==========================================================================================\\n')\n",
    "    \n",
    "    return {'documents': documents}"
   ]
  },
  {
   "cell_type": "code",
   "execution_count": 224,
   "metadata": {},
   "outputs": [],
   "source": [
    "# state   \n",
    "# {'question': '삼성전자가 만든 생성형 AI 이름은?', 'generation': '', 'documents': []}"
   ]
  },
  {
   "cell_type": "code",
   "execution_count": 225,
   "metadata": {},
   "outputs": [
    {
     "name": "stdout",
     "output_type": "stream",
     "text": [
      "\n",
      "==========================================================================================\n",
      "===== [RETRIEVE] retieve() 노드 실행 =====\n",
      "문서 검색 결과: \n",
      "[Document(id='083d7b17-a8ea-4f04-8e9b-1043b25af5a6', metadata={'source': 'data/SPRI_AI_Brief_2023년12월호_F.pdf', 'file_path': 'data/SPRI_AI_Brief_2023년12월호_F.pdf', 'page': 1, 'total_pages': 23, 'Author': 'dj', 'Creator': 'Hwp 2018 10.0.0.13462', 'Producer': 'Hancom PDF 1.3.0.542', 'CreationDate': \"D:20231208132838+09'00'\", 'ModDate': \"D:20231208132838+09'00'\", 'PDFVersion': '1.4'}, page_content='▹ 삼성전자, 자체 개발 생성 AI ‘삼성 가우스’ 공개 ···························································10\\n▹ 구글, 앤스로픽에 20억 달러 투자로 생성 AI 협력 강화 ················································11\\n▹ IDC, 2027년 AI 소프트웨어 매출 2,500억 달러 돌파 전망···········································12'), Document(id='9914ced1-730f-451a-8472-eda20b320389', metadata={'source': 'data/SPRI_AI_Brief_2023년12월호_F.pdf', 'file_path': 'data/SPRI_AI_Brief_2023년12월호_F.pdf', 'page': 12, 'total_pages': 23, 'Author': 'dj', 'Creator': 'Hwp 2018 10.0.0.13462', 'Producer': 'Hancom PDF 1.3.0.542', 'CreationDate': \"D:20231208132838+09'00'\", 'ModDate': \"D:20231208132838+09'00'\", 'PDFVersion': '1.4'}, page_content='SPRi AI Brief |\\n2023-12월호\\n삼성전자, 자체 개발 생성 AI ‘삼성 가우스’ 공개\\nKEY Contents\\nn 삼성전자가 온디바이스에서 작동 가능하며 언어, 코드, 이미지의 3개 모델로 구성된 자체 개발 생성\\nAI 모델 ‘삼성 가우스’를 공개\\nn 삼성전자는 삼성 가우스를 다양한 제품에 단계적으로 탑재할 계획으로, 온디바이스 작동이 가능한\\n삼성 가우스는 외부로 사용자 정보가 유출될 위험이 없다는 장점을 보유\\n£언어, 코드, 이미지의 3개 모델로 구성된 삼성 가우스, 온디바이스 작동 지원'), Document(id='777f6157-254f-4386-8b9d-cb6f6b0cdb99', metadata={'source': 'data/SPRI_AI_Brief_2023년12월호_F.pdf', 'file_path': 'data/SPRI_AI_Brief_2023년12월호_F.pdf', 'page': 12, 'total_pages': 23, 'Author': 'dj', 'Creator': 'Hwp 2018 10.0.0.13462', 'Producer': 'Hancom PDF 1.3.0.542', 'CreationDate': \"D:20231208132838+09'00'\", 'ModDate': \"D:20231208132838+09'00'\", 'PDFVersion': '1.4'}, page_content='£언어, 코드, 이미지의 3개 모델로 구성된 삼성 가우스, 온디바이스 작동 지원\\nn 삼성전자가 2023년 11월 8일 열린 ‘삼성 AI 포럼 2023’ 행사에서 자체 개발한 생성 AI 모델\\n‘삼성 가우스’를 최초 공개\\n∙ 정규분포 이론을 정립한 천재 수학자 가우스(Gauss)의 이름을 본뜬 삼성 가우스는 다양한 상황에\\n최적화된 크기의 모델 선택이 가능\\n∙ 삼성 가우스는 라이선스나 개인정보를 침해하지 않는 안전한 데이터를 통해 학습되었으며,\\n온디바이스에서 작동하도록 설계되어 외부로 사용자의 정보가 유출되지 않는 장점을 보유'), Document(id='b1ae4676-7a2e-40db-81f7-5f01bb4fe361', metadata={'source': 'data/SPRI_AI_Brief_2023년12월호_F.pdf', 'file_path': 'data/SPRI_AI_Brief_2023년12월호_F.pdf', 'page': 12, 'total_pages': 23, 'Author': 'dj', 'Creator': 'Hwp 2018 10.0.0.13462', 'Producer': 'Hancom PDF 1.3.0.542', 'CreationDate': \"D:20231208132838+09'00'\", 'ModDate': \"D:20231208132838+09'00'\", 'PDFVersion': '1.4'}, page_content='어시스턴트를 적용한 구글 픽셀(Pixel)과 경쟁할 것으로 예상\\n☞ 출처 : 삼성전자, ‘삼성 AI 포럼’서 자체 개발 생성형 AI ‘삼성 가우스’ 공개, 2023.11.08.\\n삼성전자, ‘삼성 개발자 콘퍼런스 코리아 2023’ 개최, 2023.11.14.\\nTechRepublic, Samsung Gauss: Samsung Research Reveals Generative AI, 2023.11.08.\\n10'), Document(id='34140545-e75c-4b43-8b6e-9bc08fc84a0e', metadata={'source': 'data/SPRI_AI_Brief_2023년12월호_F.pdf', 'file_path': 'data/SPRI_AI_Brief_2023년12월호_F.pdf', 'page': 18, 'total_pages': 23, 'Author': 'dj', 'Creator': 'Hwp 2018 10.0.0.13462', 'Producer': 'Hancom PDF 1.3.0.542', 'CreationDate': \"D:20231208132838+09'00'\", 'ModDate': \"D:20231208132838+09'00'\", 'PDFVersion': '1.4'}, page_content='<구글 딥마인드의 범용 AI 분류 프레임워크>\\n성능 특수 AI 예시 범용 AI 예시\\n0단계: AI 아님 계산기 소프트웨어, 컴파일러 아마존 메커니컬 터크\\n1단계: 신진(숙련되지 않은 인간) GOFAI(Good Old Fashioned Artificial Intelligence) 챗GPT, 바드, 라마2\\n스마트 스피커(애플 시리, 아마존 알렉사, 구글\\n2단계: 유능(숙련된 인간의 50% 이상) 미달성\\n어시스턴트), IBM 왓슨\\n3단계: 전문가(숙련된 인간의 90% 이상) 문법 교정기(그래머리), 생성 이미지 모델(달리2) 미달성'), Document(id='c5d2bce3-198e-42a4-a419-abd8ed2f0d23', metadata={'source': 'data/SPRI_AI_Brief_2023년12월호_F.pdf', 'file_path': 'data/SPRI_AI_Brief_2023년12월호_F.pdf', 'page': 12, 'total_pages': 23, 'Author': 'dj', 'Creator': 'Hwp 2018 10.0.0.13462', 'Producer': 'Hancom PDF 1.3.0.542', 'CreationDate': \"D:20231208132838+09'00'\", 'ModDate': \"D:20231208132838+09'00'\", 'PDFVersion': '1.4'}, page_content='처리를 지원\\n∙ 코드 모델 기반의 AI 코딩 어시스턴트 ‘코드아이(code.i)’는 대화형 인터페이스로 서비스를 제공하며\\n사내 소프트웨어 개발에 최적화\\n∙ 이미지 모델은 창의적인 이미지를 생성하고 기존 이미지를 원하는 대로 바꿀 수 있도록 지원하며\\n저해상도 이미지의 고해상도 전환도 지원\\nn IT 전문지 테크리퍼블릭(TechRepublic)은 온디바이스 AI가 주요 기술 트렌드로 부상했다며,\\n2024년부터 가우스를 탑재한 삼성 스마트폰이 메타의 라마(Llama)2를 탑재한 퀄컴 기기 및 구글'), Document(id='197590be-25f2-4491-a220-2fe8dff183df', metadata={'source': 'data/SPRI_AI_Brief_2023년12월호_F.pdf', 'file_path': 'data/SPRI_AI_Brief_2023년12월호_F.pdf', 'page': 12, 'total_pages': 23, 'Author': 'dj', 'Creator': 'Hwp 2018 10.0.0.13462', 'Producer': 'Hancom PDF 1.3.0.542', 'CreationDate': \"D:20231208132838+09'00'\", 'ModDate': \"D:20231208132838+09'00'\", 'PDFVersion': '1.4'}, page_content='온디바이스에서 작동하도록 설계되어 외부로 사용자의 정보가 유출되지 않는 장점을 보유\\n∙ 삼성전자는 삼성 가우스를 활용한 온디바이스 AI 기술도 소개했으며, 생성 AI 모델을 다양한 제품에\\n단계적으로 탑재할 계획\\nn 삼성 가우스는 △텍스트를 생성하는 언어모델 △코드를 생성하는 코드 모델 △이미지를 생성하는\\n이미지 모델의 3개 모델로 구성\\n∙ 언어 모델은 클라우드와 온디바이스 대상 다양한 모델로 구성되며, 메일 작성, 문서 요약, 번역 업무의\\n처리를 지원'), Document(id='6ae8e820-5e92-41fc-8369-5aa43f7933c3', metadata={'source': 'data/SPRI_AI_Brief_2023년12월호_F.pdf', 'file_path': 'data/SPRI_AI_Brief_2023년12월호_F.pdf', 'page': 11, 'total_pages': 23, 'Author': 'dj', 'Creator': 'Hwp 2018 10.0.0.13462', 'Producer': 'Hancom PDF 1.3.0.542', 'CreationDate': \"D:20231208132838+09'00'\", 'ModDate': \"D:20231208132838+09'00'\", 'PDFVersion': '1.4'}, page_content='제작을 포함\\nn 알리바바 클라우드는 급증하는 생성 AI 수요에 대응해 모델 개발과 애플리케이션 구축 절차를\\n간소화하는 올인원 AI 모델 구축 플랫폼 ‘젠AI(GenAI)’도 공개\\n∙ 이 플랫폼은 데이터 관리, 모델 배포와 평가, 신속한 엔지니어링을 위한 종합 도구 모음을 제공하여\\n다양한 기업들이 맞춤형 AI 모델을 한층 쉽게 개발할 수 있도록 지원\\n∙ 생성 AI 개발에 필요한 컴퓨팅과 데이터 처리 요구사항을 지원하기 위해 AI 플랫폼(PAI),\\n데이터베이스 솔루션, 컨테이너 서비스와 같은 클라우드 신제품도 발표'), Document(id='8a6da548-7ee1-48b0-9513-ecb9687cdd77', metadata={'source': 'data/SPRI_AI_Brief_2023년12월호_F.pdf', 'file_path': 'data/SPRI_AI_Brief_2023년12월호_F.pdf', 'page': 1, 'total_pages': 23, 'Author': 'dj', 'Creator': 'Hwp 2018 10.0.0.13462', 'Producer': 'Hancom PDF 1.3.0.542', 'CreationDate': \"D:20231208132838+09'00'\", 'ModDate': \"D:20231208132838+09'00'\", 'PDFVersion': '1.4'}, page_content='▹ 빌 게이츠, AI 에이전트로 인한 컴퓨터 사용의 패러다임 변화 전망································13\\n▹ 유튜브, 2024년부터 AI 생성 콘텐츠 표시 의무화····························································14\\n3. 기술/연구\\n▹ 영국 과학혁신기술부, AI 안전 연구소 설립 발표······························································15'), Document(id='39bc7f15-a8dc-4cc2-ba78-0c8f85677ab2', metadata={'source': 'data/SPRI_AI_Brief_2023년12월호_F.pdf', 'file_path': 'data/SPRI_AI_Brief_2023년12월호_F.pdf', 'page': 7, 'total_pages': 23, 'Author': 'dj', 'Creator': 'Hwp 2018 10.0.0.13462', 'Producer': 'Hancom PDF 1.3.0.542', 'CreationDate': \"D:20231208132838+09'00'\", 'ModDate': \"D:20231208132838+09'00'\", 'PDFVersion': '1.4'}, page_content='만들었다고 오해할 소지가 있다고 지적\\n∙ 저작권법에 저촉되는 행위는 불공정 경쟁이나 기만행위에도 해당될 수 있으며, 창작자의 평판 악화,\\n저작물의 가치 저하나 개인정보 유출로 소비자에 상당한 피해를 초래 가능\\nn FTC는 일부 빅테크가 막대한 재원을 활용해 생성 AI 사용자의 이탈을 막고 저작권이 있는 상용\\n데이터에 대한 독점 라이선스를 확보해 시장 지배력을 더욱 강화할 수 있다는 우려도 제기\\n∙ 이와 관련 FTC는 아마존 AI 비서 ‘알렉사(Alexa)’와 스마트홈 보안 기기 ‘링(Ring)’이 소비자의 사적')]\n",
      "==========================================================================================\n",
      "\n"
     ]
    }
   ],
   "source": [
    "answer = retrieve(state)"
   ]
  },
  {
   "cell_type": "code",
   "execution_count": 226,
   "metadata": {},
   "outputs": [],
   "source": [
    "state['documents'] = answer['documents']"
   ]
  },
  {
   "cell_type": "code",
   "execution_count": 227,
   "metadata": {},
   "outputs": [
    {
     "data": {
      "text/plain": [
       "{'question': '삼성전자가 만든 생성형 AI 이름은?',\n",
       " 'generation': '',\n",
       " 'documents': [Document(id='083d7b17-a8ea-4f04-8e9b-1043b25af5a6', metadata={'source': 'data/SPRI_AI_Brief_2023년12월호_F.pdf', 'file_path': 'data/SPRI_AI_Brief_2023년12월호_F.pdf', 'page': 1, 'total_pages': 23, 'Author': 'dj', 'Creator': 'Hwp 2018 10.0.0.13462', 'Producer': 'Hancom PDF 1.3.0.542', 'CreationDate': \"D:20231208132838+09'00'\", 'ModDate': \"D:20231208132838+09'00'\", 'PDFVersion': '1.4'}, page_content='▹ 삼성전자, 자체 개발 생성 AI ‘삼성 가우스’ 공개 ···························································10\\n▹ 구글, 앤스로픽에 20억 달러 투자로 생성 AI 협력 강화 ················································11\\n▹ IDC, 2027년 AI 소프트웨어 매출 2,500억 달러 돌파 전망···········································12'),\n",
       "  Document(id='9914ced1-730f-451a-8472-eda20b320389', metadata={'source': 'data/SPRI_AI_Brief_2023년12월호_F.pdf', 'file_path': 'data/SPRI_AI_Brief_2023년12월호_F.pdf', 'page': 12, 'total_pages': 23, 'Author': 'dj', 'Creator': 'Hwp 2018 10.0.0.13462', 'Producer': 'Hancom PDF 1.3.0.542', 'CreationDate': \"D:20231208132838+09'00'\", 'ModDate': \"D:20231208132838+09'00'\", 'PDFVersion': '1.4'}, page_content='SPRi AI Brief |\\n2023-12월호\\n삼성전자, 자체 개발 생성 AI ‘삼성 가우스’ 공개\\nKEY Contents\\nn 삼성전자가 온디바이스에서 작동 가능하며 언어, 코드, 이미지의 3개 모델로 구성된 자체 개발 생성\\nAI 모델 ‘삼성 가우스’를 공개\\nn 삼성전자는 삼성 가우스를 다양한 제품에 단계적으로 탑재할 계획으로, 온디바이스 작동이 가능한\\n삼성 가우스는 외부로 사용자 정보가 유출될 위험이 없다는 장점을 보유\\n£언어, 코드, 이미지의 3개 모델로 구성된 삼성 가우스, 온디바이스 작동 지원'),\n",
       "  Document(id='777f6157-254f-4386-8b9d-cb6f6b0cdb99', metadata={'source': 'data/SPRI_AI_Brief_2023년12월호_F.pdf', 'file_path': 'data/SPRI_AI_Brief_2023년12월호_F.pdf', 'page': 12, 'total_pages': 23, 'Author': 'dj', 'Creator': 'Hwp 2018 10.0.0.13462', 'Producer': 'Hancom PDF 1.3.0.542', 'CreationDate': \"D:20231208132838+09'00'\", 'ModDate': \"D:20231208132838+09'00'\", 'PDFVersion': '1.4'}, page_content='£언어, 코드, 이미지의 3개 모델로 구성된 삼성 가우스, 온디바이스 작동 지원\\nn 삼성전자가 2023년 11월 8일 열린 ‘삼성 AI 포럼 2023’ 행사에서 자체 개발한 생성 AI 모델\\n‘삼성 가우스’를 최초 공개\\n∙ 정규분포 이론을 정립한 천재 수학자 가우스(Gauss)의 이름을 본뜬 삼성 가우스는 다양한 상황에\\n최적화된 크기의 모델 선택이 가능\\n∙ 삼성 가우스는 라이선스나 개인정보를 침해하지 않는 안전한 데이터를 통해 학습되었으며,\\n온디바이스에서 작동하도록 설계되어 외부로 사용자의 정보가 유출되지 않는 장점을 보유'),\n",
       "  Document(id='b1ae4676-7a2e-40db-81f7-5f01bb4fe361', metadata={'source': 'data/SPRI_AI_Brief_2023년12월호_F.pdf', 'file_path': 'data/SPRI_AI_Brief_2023년12월호_F.pdf', 'page': 12, 'total_pages': 23, 'Author': 'dj', 'Creator': 'Hwp 2018 10.0.0.13462', 'Producer': 'Hancom PDF 1.3.0.542', 'CreationDate': \"D:20231208132838+09'00'\", 'ModDate': \"D:20231208132838+09'00'\", 'PDFVersion': '1.4'}, page_content='어시스턴트를 적용한 구글 픽셀(Pixel)과 경쟁할 것으로 예상\\n☞ 출처 : 삼성전자, ‘삼성 AI 포럼’서 자체 개발 생성형 AI ‘삼성 가우스’ 공개, 2023.11.08.\\n삼성전자, ‘삼성 개발자 콘퍼런스 코리아 2023’ 개최, 2023.11.14.\\nTechRepublic, Samsung Gauss: Samsung Research Reveals Generative AI, 2023.11.08.\\n10'),\n",
       "  Document(id='34140545-e75c-4b43-8b6e-9bc08fc84a0e', metadata={'source': 'data/SPRI_AI_Brief_2023년12월호_F.pdf', 'file_path': 'data/SPRI_AI_Brief_2023년12월호_F.pdf', 'page': 18, 'total_pages': 23, 'Author': 'dj', 'Creator': 'Hwp 2018 10.0.0.13462', 'Producer': 'Hancom PDF 1.3.0.542', 'CreationDate': \"D:20231208132838+09'00'\", 'ModDate': \"D:20231208132838+09'00'\", 'PDFVersion': '1.4'}, page_content='<구글 딥마인드의 범용 AI 분류 프레임워크>\\n성능 특수 AI 예시 범용 AI 예시\\n0단계: AI 아님 계산기 소프트웨어, 컴파일러 아마존 메커니컬 터크\\n1단계: 신진(숙련되지 않은 인간) GOFAI(Good Old Fashioned Artificial Intelligence) 챗GPT, 바드, 라마2\\n스마트 스피커(애플 시리, 아마존 알렉사, 구글\\n2단계: 유능(숙련된 인간의 50% 이상) 미달성\\n어시스턴트), IBM 왓슨\\n3단계: 전문가(숙련된 인간의 90% 이상) 문법 교정기(그래머리), 생성 이미지 모델(달리2) 미달성'),\n",
       "  Document(id='c5d2bce3-198e-42a4-a419-abd8ed2f0d23', metadata={'source': 'data/SPRI_AI_Brief_2023년12월호_F.pdf', 'file_path': 'data/SPRI_AI_Brief_2023년12월호_F.pdf', 'page': 12, 'total_pages': 23, 'Author': 'dj', 'Creator': 'Hwp 2018 10.0.0.13462', 'Producer': 'Hancom PDF 1.3.0.542', 'CreationDate': \"D:20231208132838+09'00'\", 'ModDate': \"D:20231208132838+09'00'\", 'PDFVersion': '1.4'}, page_content='처리를 지원\\n∙ 코드 모델 기반의 AI 코딩 어시스턴트 ‘코드아이(code.i)’는 대화형 인터페이스로 서비스를 제공하며\\n사내 소프트웨어 개발에 최적화\\n∙ 이미지 모델은 창의적인 이미지를 생성하고 기존 이미지를 원하는 대로 바꿀 수 있도록 지원하며\\n저해상도 이미지의 고해상도 전환도 지원\\nn IT 전문지 테크리퍼블릭(TechRepublic)은 온디바이스 AI가 주요 기술 트렌드로 부상했다며,\\n2024년부터 가우스를 탑재한 삼성 스마트폰이 메타의 라마(Llama)2를 탑재한 퀄컴 기기 및 구글'),\n",
       "  Document(id='197590be-25f2-4491-a220-2fe8dff183df', metadata={'source': 'data/SPRI_AI_Brief_2023년12월호_F.pdf', 'file_path': 'data/SPRI_AI_Brief_2023년12월호_F.pdf', 'page': 12, 'total_pages': 23, 'Author': 'dj', 'Creator': 'Hwp 2018 10.0.0.13462', 'Producer': 'Hancom PDF 1.3.0.542', 'CreationDate': \"D:20231208132838+09'00'\", 'ModDate': \"D:20231208132838+09'00'\", 'PDFVersion': '1.4'}, page_content='온디바이스에서 작동하도록 설계되어 외부로 사용자의 정보가 유출되지 않는 장점을 보유\\n∙ 삼성전자는 삼성 가우스를 활용한 온디바이스 AI 기술도 소개했으며, 생성 AI 모델을 다양한 제품에\\n단계적으로 탑재할 계획\\nn 삼성 가우스는 △텍스트를 생성하는 언어모델 △코드를 생성하는 코드 모델 △이미지를 생성하는\\n이미지 모델의 3개 모델로 구성\\n∙ 언어 모델은 클라우드와 온디바이스 대상 다양한 모델로 구성되며, 메일 작성, 문서 요약, 번역 업무의\\n처리를 지원'),\n",
       "  Document(id='6ae8e820-5e92-41fc-8369-5aa43f7933c3', metadata={'source': 'data/SPRI_AI_Brief_2023년12월호_F.pdf', 'file_path': 'data/SPRI_AI_Brief_2023년12월호_F.pdf', 'page': 11, 'total_pages': 23, 'Author': 'dj', 'Creator': 'Hwp 2018 10.0.0.13462', 'Producer': 'Hancom PDF 1.3.0.542', 'CreationDate': \"D:20231208132838+09'00'\", 'ModDate': \"D:20231208132838+09'00'\", 'PDFVersion': '1.4'}, page_content='제작을 포함\\nn 알리바바 클라우드는 급증하는 생성 AI 수요에 대응해 모델 개발과 애플리케이션 구축 절차를\\n간소화하는 올인원 AI 모델 구축 플랫폼 ‘젠AI(GenAI)’도 공개\\n∙ 이 플랫폼은 데이터 관리, 모델 배포와 평가, 신속한 엔지니어링을 위한 종합 도구 모음을 제공하여\\n다양한 기업들이 맞춤형 AI 모델을 한층 쉽게 개발할 수 있도록 지원\\n∙ 생성 AI 개발에 필요한 컴퓨팅과 데이터 처리 요구사항을 지원하기 위해 AI 플랫폼(PAI),\\n데이터베이스 솔루션, 컨테이너 서비스와 같은 클라우드 신제품도 발표'),\n",
       "  Document(id='8a6da548-7ee1-48b0-9513-ecb9687cdd77', metadata={'source': 'data/SPRI_AI_Brief_2023년12월호_F.pdf', 'file_path': 'data/SPRI_AI_Brief_2023년12월호_F.pdf', 'page': 1, 'total_pages': 23, 'Author': 'dj', 'Creator': 'Hwp 2018 10.0.0.13462', 'Producer': 'Hancom PDF 1.3.0.542', 'CreationDate': \"D:20231208132838+09'00'\", 'ModDate': \"D:20231208132838+09'00'\", 'PDFVersion': '1.4'}, page_content='▹ 빌 게이츠, AI 에이전트로 인한 컴퓨터 사용의 패러다임 변화 전망································13\\n▹ 유튜브, 2024년부터 AI 생성 콘텐츠 표시 의무화····························································14\\n3. 기술/연구\\n▹ 영국 과학혁신기술부, AI 안전 연구소 설립 발표······························································15'),\n",
       "  Document(id='39bc7f15-a8dc-4cc2-ba78-0c8f85677ab2', metadata={'source': 'data/SPRI_AI_Brief_2023년12월호_F.pdf', 'file_path': 'data/SPRI_AI_Brief_2023년12월호_F.pdf', 'page': 7, 'total_pages': 23, 'Author': 'dj', 'Creator': 'Hwp 2018 10.0.0.13462', 'Producer': 'Hancom PDF 1.3.0.542', 'CreationDate': \"D:20231208132838+09'00'\", 'ModDate': \"D:20231208132838+09'00'\", 'PDFVersion': '1.4'}, page_content='만들었다고 오해할 소지가 있다고 지적\\n∙ 저작권법에 저촉되는 행위는 불공정 경쟁이나 기만행위에도 해당될 수 있으며, 창작자의 평판 악화,\\n저작물의 가치 저하나 개인정보 유출로 소비자에 상당한 피해를 초래 가능\\nn FTC는 일부 빅테크가 막대한 재원을 활용해 생성 AI 사용자의 이탈을 막고 저작권이 있는 상용\\n데이터에 대한 독점 라이선스를 확보해 시장 지배력을 더욱 강화할 수 있다는 우려도 제기\\n∙ 이와 관련 FTC는 아마존 AI 비서 ‘알렉사(Alexa)’와 스마트홈 보안 기기 ‘링(Ring)’이 소비자의 사적')]}"
      ]
     },
     "execution_count": 227,
     "metadata": {},
     "output_type": "execute_result"
    }
   ],
   "source": [
    "state"
   ]
  },
  {
   "cell_type": "code",
   "execution_count": 228,
   "metadata": {},
   "outputs": [],
   "source": [
    "# 답변 생성 노드\n",
    "def generate(state: GraphState):\n",
    "    print('\\n==========================================================================================')\n",
    "    print('===== [GENERATE] generate() 함수 =====')\n",
    "\n",
    "    # 사용자 질문\n",
    "    question = state['question']  \n",
    "\n",
    "    # 문서 검색 결과\n",
    "    documents = state['documents']\n",
    "\n",
    "    # RAG 실행 결과\n",
    "    generation = rag_chain.invoke({'context': documents , 'question': 'question'})\n",
    "\n",
    "    print(f'사용자 질문: {question}')\n",
    "    print(f'문서 검색 결과:')\n",
    "    print(documents)\n",
    "    print()\n",
    "    print(f'rag 실행 결과:')\n",
    "    print(generation)\n",
    "    print()\n",
    "    print('==========================================================================================\\n')    \n",
    "\n",
    "    return {'generation': generation}"
   ]
  },
  {
   "cell_type": "code",
   "execution_count": 229,
   "metadata": {},
   "outputs": [
    {
     "name": "stdout",
     "output_type": "stream",
     "text": [
      "\n",
      "==========================================================================================\n",
      "===== [GENERATE] generate() 함수 =====\n",
      "사용자 질문: 삼성전자가 만든 생성형 AI 이름은?\n",
      "문서 검색 결과:\n",
      "[Document(id='083d7b17-a8ea-4f04-8e9b-1043b25af5a6', metadata={'source': 'data/SPRI_AI_Brief_2023년12월호_F.pdf', 'file_path': 'data/SPRI_AI_Brief_2023년12월호_F.pdf', 'page': 1, 'total_pages': 23, 'Author': 'dj', 'Creator': 'Hwp 2018 10.0.0.13462', 'Producer': 'Hancom PDF 1.3.0.542', 'CreationDate': \"D:20231208132838+09'00'\", 'ModDate': \"D:20231208132838+09'00'\", 'PDFVersion': '1.4'}, page_content='▹ 삼성전자, 자체 개발 생성 AI ‘삼성 가우스’ 공개 ···························································10\\n▹ 구글, 앤스로픽에 20억 달러 투자로 생성 AI 협력 강화 ················································11\\n▹ IDC, 2027년 AI 소프트웨어 매출 2,500억 달러 돌파 전망···········································12'), Document(id='9914ced1-730f-451a-8472-eda20b320389', metadata={'source': 'data/SPRI_AI_Brief_2023년12월호_F.pdf', 'file_path': 'data/SPRI_AI_Brief_2023년12월호_F.pdf', 'page': 12, 'total_pages': 23, 'Author': 'dj', 'Creator': 'Hwp 2018 10.0.0.13462', 'Producer': 'Hancom PDF 1.3.0.542', 'CreationDate': \"D:20231208132838+09'00'\", 'ModDate': \"D:20231208132838+09'00'\", 'PDFVersion': '1.4'}, page_content='SPRi AI Brief |\\n2023-12월호\\n삼성전자, 자체 개발 생성 AI ‘삼성 가우스’ 공개\\nKEY Contents\\nn 삼성전자가 온디바이스에서 작동 가능하며 언어, 코드, 이미지의 3개 모델로 구성된 자체 개발 생성\\nAI 모델 ‘삼성 가우스’를 공개\\nn 삼성전자는 삼성 가우스를 다양한 제품에 단계적으로 탑재할 계획으로, 온디바이스 작동이 가능한\\n삼성 가우스는 외부로 사용자 정보가 유출될 위험이 없다는 장점을 보유\\n£언어, 코드, 이미지의 3개 모델로 구성된 삼성 가우스, 온디바이스 작동 지원'), Document(id='777f6157-254f-4386-8b9d-cb6f6b0cdb99', metadata={'source': 'data/SPRI_AI_Brief_2023년12월호_F.pdf', 'file_path': 'data/SPRI_AI_Brief_2023년12월호_F.pdf', 'page': 12, 'total_pages': 23, 'Author': 'dj', 'Creator': 'Hwp 2018 10.0.0.13462', 'Producer': 'Hancom PDF 1.3.0.542', 'CreationDate': \"D:20231208132838+09'00'\", 'ModDate': \"D:20231208132838+09'00'\", 'PDFVersion': '1.4'}, page_content='£언어, 코드, 이미지의 3개 모델로 구성된 삼성 가우스, 온디바이스 작동 지원\\nn 삼성전자가 2023년 11월 8일 열린 ‘삼성 AI 포럼 2023’ 행사에서 자체 개발한 생성 AI 모델\\n‘삼성 가우스’를 최초 공개\\n∙ 정규분포 이론을 정립한 천재 수학자 가우스(Gauss)의 이름을 본뜬 삼성 가우스는 다양한 상황에\\n최적화된 크기의 모델 선택이 가능\\n∙ 삼성 가우스는 라이선스나 개인정보를 침해하지 않는 안전한 데이터를 통해 학습되었으며,\\n온디바이스에서 작동하도록 설계되어 외부로 사용자의 정보가 유출되지 않는 장점을 보유'), Document(id='b1ae4676-7a2e-40db-81f7-5f01bb4fe361', metadata={'source': 'data/SPRI_AI_Brief_2023년12월호_F.pdf', 'file_path': 'data/SPRI_AI_Brief_2023년12월호_F.pdf', 'page': 12, 'total_pages': 23, 'Author': 'dj', 'Creator': 'Hwp 2018 10.0.0.13462', 'Producer': 'Hancom PDF 1.3.0.542', 'CreationDate': \"D:20231208132838+09'00'\", 'ModDate': \"D:20231208132838+09'00'\", 'PDFVersion': '1.4'}, page_content='어시스턴트를 적용한 구글 픽셀(Pixel)과 경쟁할 것으로 예상\\n☞ 출처 : 삼성전자, ‘삼성 AI 포럼’서 자체 개발 생성형 AI ‘삼성 가우스’ 공개, 2023.11.08.\\n삼성전자, ‘삼성 개발자 콘퍼런스 코리아 2023’ 개최, 2023.11.14.\\nTechRepublic, Samsung Gauss: Samsung Research Reveals Generative AI, 2023.11.08.\\n10'), Document(id='34140545-e75c-4b43-8b6e-9bc08fc84a0e', metadata={'source': 'data/SPRI_AI_Brief_2023년12월호_F.pdf', 'file_path': 'data/SPRI_AI_Brief_2023년12월호_F.pdf', 'page': 18, 'total_pages': 23, 'Author': 'dj', 'Creator': 'Hwp 2018 10.0.0.13462', 'Producer': 'Hancom PDF 1.3.0.542', 'CreationDate': \"D:20231208132838+09'00'\", 'ModDate': \"D:20231208132838+09'00'\", 'PDFVersion': '1.4'}, page_content='<구글 딥마인드의 범용 AI 분류 프레임워크>\\n성능 특수 AI 예시 범용 AI 예시\\n0단계: AI 아님 계산기 소프트웨어, 컴파일러 아마존 메커니컬 터크\\n1단계: 신진(숙련되지 않은 인간) GOFAI(Good Old Fashioned Artificial Intelligence) 챗GPT, 바드, 라마2\\n스마트 스피커(애플 시리, 아마존 알렉사, 구글\\n2단계: 유능(숙련된 인간의 50% 이상) 미달성\\n어시스턴트), IBM 왓슨\\n3단계: 전문가(숙련된 인간의 90% 이상) 문법 교정기(그래머리), 생성 이미지 모델(달리2) 미달성'), Document(id='c5d2bce3-198e-42a4-a419-abd8ed2f0d23', metadata={'source': 'data/SPRI_AI_Brief_2023년12월호_F.pdf', 'file_path': 'data/SPRI_AI_Brief_2023년12월호_F.pdf', 'page': 12, 'total_pages': 23, 'Author': 'dj', 'Creator': 'Hwp 2018 10.0.0.13462', 'Producer': 'Hancom PDF 1.3.0.542', 'CreationDate': \"D:20231208132838+09'00'\", 'ModDate': \"D:20231208132838+09'00'\", 'PDFVersion': '1.4'}, page_content='처리를 지원\\n∙ 코드 모델 기반의 AI 코딩 어시스턴트 ‘코드아이(code.i)’는 대화형 인터페이스로 서비스를 제공하며\\n사내 소프트웨어 개발에 최적화\\n∙ 이미지 모델은 창의적인 이미지를 생성하고 기존 이미지를 원하는 대로 바꿀 수 있도록 지원하며\\n저해상도 이미지의 고해상도 전환도 지원\\nn IT 전문지 테크리퍼블릭(TechRepublic)은 온디바이스 AI가 주요 기술 트렌드로 부상했다며,\\n2024년부터 가우스를 탑재한 삼성 스마트폰이 메타의 라마(Llama)2를 탑재한 퀄컴 기기 및 구글'), Document(id='197590be-25f2-4491-a220-2fe8dff183df', metadata={'source': 'data/SPRI_AI_Brief_2023년12월호_F.pdf', 'file_path': 'data/SPRI_AI_Brief_2023년12월호_F.pdf', 'page': 12, 'total_pages': 23, 'Author': 'dj', 'Creator': 'Hwp 2018 10.0.0.13462', 'Producer': 'Hancom PDF 1.3.0.542', 'CreationDate': \"D:20231208132838+09'00'\", 'ModDate': \"D:20231208132838+09'00'\", 'PDFVersion': '1.4'}, page_content='온디바이스에서 작동하도록 설계되어 외부로 사용자의 정보가 유출되지 않는 장점을 보유\\n∙ 삼성전자는 삼성 가우스를 활용한 온디바이스 AI 기술도 소개했으며, 생성 AI 모델을 다양한 제품에\\n단계적으로 탑재할 계획\\nn 삼성 가우스는 △텍스트를 생성하는 언어모델 △코드를 생성하는 코드 모델 △이미지를 생성하는\\n이미지 모델의 3개 모델로 구성\\n∙ 언어 모델은 클라우드와 온디바이스 대상 다양한 모델로 구성되며, 메일 작성, 문서 요약, 번역 업무의\\n처리를 지원'), Document(id='6ae8e820-5e92-41fc-8369-5aa43f7933c3', metadata={'source': 'data/SPRI_AI_Brief_2023년12월호_F.pdf', 'file_path': 'data/SPRI_AI_Brief_2023년12월호_F.pdf', 'page': 11, 'total_pages': 23, 'Author': 'dj', 'Creator': 'Hwp 2018 10.0.0.13462', 'Producer': 'Hancom PDF 1.3.0.542', 'CreationDate': \"D:20231208132838+09'00'\", 'ModDate': \"D:20231208132838+09'00'\", 'PDFVersion': '1.4'}, page_content='제작을 포함\\nn 알리바바 클라우드는 급증하는 생성 AI 수요에 대응해 모델 개발과 애플리케이션 구축 절차를\\n간소화하는 올인원 AI 모델 구축 플랫폼 ‘젠AI(GenAI)’도 공개\\n∙ 이 플랫폼은 데이터 관리, 모델 배포와 평가, 신속한 엔지니어링을 위한 종합 도구 모음을 제공하여\\n다양한 기업들이 맞춤형 AI 모델을 한층 쉽게 개발할 수 있도록 지원\\n∙ 생성 AI 개발에 필요한 컴퓨팅과 데이터 처리 요구사항을 지원하기 위해 AI 플랫폼(PAI),\\n데이터베이스 솔루션, 컨테이너 서비스와 같은 클라우드 신제품도 발표'), Document(id='8a6da548-7ee1-48b0-9513-ecb9687cdd77', metadata={'source': 'data/SPRI_AI_Brief_2023년12월호_F.pdf', 'file_path': 'data/SPRI_AI_Brief_2023년12월호_F.pdf', 'page': 1, 'total_pages': 23, 'Author': 'dj', 'Creator': 'Hwp 2018 10.0.0.13462', 'Producer': 'Hancom PDF 1.3.0.542', 'CreationDate': \"D:20231208132838+09'00'\", 'ModDate': \"D:20231208132838+09'00'\", 'PDFVersion': '1.4'}, page_content='▹ 빌 게이츠, AI 에이전트로 인한 컴퓨터 사용의 패러다임 변화 전망································13\\n▹ 유튜브, 2024년부터 AI 생성 콘텐츠 표시 의무화····························································14\\n3. 기술/연구\\n▹ 영국 과학혁신기술부, AI 안전 연구소 설립 발표······························································15'), Document(id='39bc7f15-a8dc-4cc2-ba78-0c8f85677ab2', metadata={'source': 'data/SPRI_AI_Brief_2023년12월호_F.pdf', 'file_path': 'data/SPRI_AI_Brief_2023년12월호_F.pdf', 'page': 7, 'total_pages': 23, 'Author': 'dj', 'Creator': 'Hwp 2018 10.0.0.13462', 'Producer': 'Hancom PDF 1.3.0.542', 'CreationDate': \"D:20231208132838+09'00'\", 'ModDate': \"D:20231208132838+09'00'\", 'PDFVersion': '1.4'}, page_content='만들었다고 오해할 소지가 있다고 지적\\n∙ 저작권법에 저촉되는 행위는 불공정 경쟁이나 기만행위에도 해당될 수 있으며, 창작자의 평판 악화,\\n저작물의 가치 저하나 개인정보 유출로 소비자에 상당한 피해를 초래 가능\\nn FTC는 일부 빅테크가 막대한 재원을 활용해 생성 AI 사용자의 이탈을 막고 저작권이 있는 상용\\n데이터에 대한 독점 라이선스를 확보해 시장 지배력을 더욱 강화할 수 있다는 우려도 제기\\n∙ 이와 관련 FTC는 아마존 AI 비서 ‘알렉사(Alexa)’와 스마트홈 보안 기기 ‘링(Ring)’이 소비자의 사적')]\n",
      "\n",
      "rag 실행 결과:\n",
      "삼성전자가 공개한 생성 AI 모델 ‘삼성 가우스’는 언어, 코드, 이미지의 3개 모델로 구성되어 있으며, 온디바이스에서 작동하도록 설계되어 사용자 정보 유출 위험이 없다. 이 모델은 2023년 11월 8일 ‘삼성 AI 포럼 2023’에서 처음 공개되었다.\n",
      "\n",
      "**Source**\n",
      "- data/SPRI_AI_Brief_2023년12월호_F.pdf (page 12)\n",
      "\n",
      "==========================================================================================\n",
      "\n"
     ]
    }
   ],
   "source": [
    "state['generation'] = generate(state)['generation']"
   ]
  },
  {
   "cell_type": "code",
   "execution_count": 230,
   "metadata": {},
   "outputs": [
    {
     "data": {
      "text/plain": [
       "{'question': '삼성전자가 만든 생성형 AI 이름은?',\n",
       " 'generation': '삼성전자가 공개한 생성 AI 모델 ‘삼성 가우스’는 언어, 코드, 이미지의 3개 모델로 구성되어 있으며, 온디바이스에서 작동하도록 설계되어 사용자 정보 유출 위험이 없다. 이 모델은 2023년 11월 8일 ‘삼성 AI 포럼 2023’에서 처음 공개되었다.\\n\\n**Source**\\n- data/SPRI_AI_Brief_2023년12월호_F.pdf (page 12)',\n",
       " 'documents': [Document(id='083d7b17-a8ea-4f04-8e9b-1043b25af5a6', metadata={'source': 'data/SPRI_AI_Brief_2023년12월호_F.pdf', 'file_path': 'data/SPRI_AI_Brief_2023년12월호_F.pdf', 'page': 1, 'total_pages': 23, 'Author': 'dj', 'Creator': 'Hwp 2018 10.0.0.13462', 'Producer': 'Hancom PDF 1.3.0.542', 'CreationDate': \"D:20231208132838+09'00'\", 'ModDate': \"D:20231208132838+09'00'\", 'PDFVersion': '1.4'}, page_content='▹ 삼성전자, 자체 개발 생성 AI ‘삼성 가우스’ 공개 ···························································10\\n▹ 구글, 앤스로픽에 20억 달러 투자로 생성 AI 협력 강화 ················································11\\n▹ IDC, 2027년 AI 소프트웨어 매출 2,500억 달러 돌파 전망···········································12'),\n",
       "  Document(id='9914ced1-730f-451a-8472-eda20b320389', metadata={'source': 'data/SPRI_AI_Brief_2023년12월호_F.pdf', 'file_path': 'data/SPRI_AI_Brief_2023년12월호_F.pdf', 'page': 12, 'total_pages': 23, 'Author': 'dj', 'Creator': 'Hwp 2018 10.0.0.13462', 'Producer': 'Hancom PDF 1.3.0.542', 'CreationDate': \"D:20231208132838+09'00'\", 'ModDate': \"D:20231208132838+09'00'\", 'PDFVersion': '1.4'}, page_content='SPRi AI Brief |\\n2023-12월호\\n삼성전자, 자체 개발 생성 AI ‘삼성 가우스’ 공개\\nKEY Contents\\nn 삼성전자가 온디바이스에서 작동 가능하며 언어, 코드, 이미지의 3개 모델로 구성된 자체 개발 생성\\nAI 모델 ‘삼성 가우스’를 공개\\nn 삼성전자는 삼성 가우스를 다양한 제품에 단계적으로 탑재할 계획으로, 온디바이스 작동이 가능한\\n삼성 가우스는 외부로 사용자 정보가 유출될 위험이 없다는 장점을 보유\\n£언어, 코드, 이미지의 3개 모델로 구성된 삼성 가우스, 온디바이스 작동 지원'),\n",
       "  Document(id='777f6157-254f-4386-8b9d-cb6f6b0cdb99', metadata={'source': 'data/SPRI_AI_Brief_2023년12월호_F.pdf', 'file_path': 'data/SPRI_AI_Brief_2023년12월호_F.pdf', 'page': 12, 'total_pages': 23, 'Author': 'dj', 'Creator': 'Hwp 2018 10.0.0.13462', 'Producer': 'Hancom PDF 1.3.0.542', 'CreationDate': \"D:20231208132838+09'00'\", 'ModDate': \"D:20231208132838+09'00'\", 'PDFVersion': '1.4'}, page_content='£언어, 코드, 이미지의 3개 모델로 구성된 삼성 가우스, 온디바이스 작동 지원\\nn 삼성전자가 2023년 11월 8일 열린 ‘삼성 AI 포럼 2023’ 행사에서 자체 개발한 생성 AI 모델\\n‘삼성 가우스’를 최초 공개\\n∙ 정규분포 이론을 정립한 천재 수학자 가우스(Gauss)의 이름을 본뜬 삼성 가우스는 다양한 상황에\\n최적화된 크기의 모델 선택이 가능\\n∙ 삼성 가우스는 라이선스나 개인정보를 침해하지 않는 안전한 데이터를 통해 학습되었으며,\\n온디바이스에서 작동하도록 설계되어 외부로 사용자의 정보가 유출되지 않는 장점을 보유'),\n",
       "  Document(id='b1ae4676-7a2e-40db-81f7-5f01bb4fe361', metadata={'source': 'data/SPRI_AI_Brief_2023년12월호_F.pdf', 'file_path': 'data/SPRI_AI_Brief_2023년12월호_F.pdf', 'page': 12, 'total_pages': 23, 'Author': 'dj', 'Creator': 'Hwp 2018 10.0.0.13462', 'Producer': 'Hancom PDF 1.3.0.542', 'CreationDate': \"D:20231208132838+09'00'\", 'ModDate': \"D:20231208132838+09'00'\", 'PDFVersion': '1.4'}, page_content='어시스턴트를 적용한 구글 픽셀(Pixel)과 경쟁할 것으로 예상\\n☞ 출처 : 삼성전자, ‘삼성 AI 포럼’서 자체 개발 생성형 AI ‘삼성 가우스’ 공개, 2023.11.08.\\n삼성전자, ‘삼성 개발자 콘퍼런스 코리아 2023’ 개최, 2023.11.14.\\nTechRepublic, Samsung Gauss: Samsung Research Reveals Generative AI, 2023.11.08.\\n10'),\n",
       "  Document(id='34140545-e75c-4b43-8b6e-9bc08fc84a0e', metadata={'source': 'data/SPRI_AI_Brief_2023년12월호_F.pdf', 'file_path': 'data/SPRI_AI_Brief_2023년12월호_F.pdf', 'page': 18, 'total_pages': 23, 'Author': 'dj', 'Creator': 'Hwp 2018 10.0.0.13462', 'Producer': 'Hancom PDF 1.3.0.542', 'CreationDate': \"D:20231208132838+09'00'\", 'ModDate': \"D:20231208132838+09'00'\", 'PDFVersion': '1.4'}, page_content='<구글 딥마인드의 범용 AI 분류 프레임워크>\\n성능 특수 AI 예시 범용 AI 예시\\n0단계: AI 아님 계산기 소프트웨어, 컴파일러 아마존 메커니컬 터크\\n1단계: 신진(숙련되지 않은 인간) GOFAI(Good Old Fashioned Artificial Intelligence) 챗GPT, 바드, 라마2\\n스마트 스피커(애플 시리, 아마존 알렉사, 구글\\n2단계: 유능(숙련된 인간의 50% 이상) 미달성\\n어시스턴트), IBM 왓슨\\n3단계: 전문가(숙련된 인간의 90% 이상) 문법 교정기(그래머리), 생성 이미지 모델(달리2) 미달성'),\n",
       "  Document(id='c5d2bce3-198e-42a4-a419-abd8ed2f0d23', metadata={'source': 'data/SPRI_AI_Brief_2023년12월호_F.pdf', 'file_path': 'data/SPRI_AI_Brief_2023년12월호_F.pdf', 'page': 12, 'total_pages': 23, 'Author': 'dj', 'Creator': 'Hwp 2018 10.0.0.13462', 'Producer': 'Hancom PDF 1.3.0.542', 'CreationDate': \"D:20231208132838+09'00'\", 'ModDate': \"D:20231208132838+09'00'\", 'PDFVersion': '1.4'}, page_content='처리를 지원\\n∙ 코드 모델 기반의 AI 코딩 어시스턴트 ‘코드아이(code.i)’는 대화형 인터페이스로 서비스를 제공하며\\n사내 소프트웨어 개발에 최적화\\n∙ 이미지 모델은 창의적인 이미지를 생성하고 기존 이미지를 원하는 대로 바꿀 수 있도록 지원하며\\n저해상도 이미지의 고해상도 전환도 지원\\nn IT 전문지 테크리퍼블릭(TechRepublic)은 온디바이스 AI가 주요 기술 트렌드로 부상했다며,\\n2024년부터 가우스를 탑재한 삼성 스마트폰이 메타의 라마(Llama)2를 탑재한 퀄컴 기기 및 구글'),\n",
       "  Document(id='197590be-25f2-4491-a220-2fe8dff183df', metadata={'source': 'data/SPRI_AI_Brief_2023년12월호_F.pdf', 'file_path': 'data/SPRI_AI_Brief_2023년12월호_F.pdf', 'page': 12, 'total_pages': 23, 'Author': 'dj', 'Creator': 'Hwp 2018 10.0.0.13462', 'Producer': 'Hancom PDF 1.3.0.542', 'CreationDate': \"D:20231208132838+09'00'\", 'ModDate': \"D:20231208132838+09'00'\", 'PDFVersion': '1.4'}, page_content='온디바이스에서 작동하도록 설계되어 외부로 사용자의 정보가 유출되지 않는 장점을 보유\\n∙ 삼성전자는 삼성 가우스를 활용한 온디바이스 AI 기술도 소개했으며, 생성 AI 모델을 다양한 제품에\\n단계적으로 탑재할 계획\\nn 삼성 가우스는 △텍스트를 생성하는 언어모델 △코드를 생성하는 코드 모델 △이미지를 생성하는\\n이미지 모델의 3개 모델로 구성\\n∙ 언어 모델은 클라우드와 온디바이스 대상 다양한 모델로 구성되며, 메일 작성, 문서 요약, 번역 업무의\\n처리를 지원'),\n",
       "  Document(id='6ae8e820-5e92-41fc-8369-5aa43f7933c3', metadata={'source': 'data/SPRI_AI_Brief_2023년12월호_F.pdf', 'file_path': 'data/SPRI_AI_Brief_2023년12월호_F.pdf', 'page': 11, 'total_pages': 23, 'Author': 'dj', 'Creator': 'Hwp 2018 10.0.0.13462', 'Producer': 'Hancom PDF 1.3.0.542', 'CreationDate': \"D:20231208132838+09'00'\", 'ModDate': \"D:20231208132838+09'00'\", 'PDFVersion': '1.4'}, page_content='제작을 포함\\nn 알리바바 클라우드는 급증하는 생성 AI 수요에 대응해 모델 개발과 애플리케이션 구축 절차를\\n간소화하는 올인원 AI 모델 구축 플랫폼 ‘젠AI(GenAI)’도 공개\\n∙ 이 플랫폼은 데이터 관리, 모델 배포와 평가, 신속한 엔지니어링을 위한 종합 도구 모음을 제공하여\\n다양한 기업들이 맞춤형 AI 모델을 한층 쉽게 개발할 수 있도록 지원\\n∙ 생성 AI 개발에 필요한 컴퓨팅과 데이터 처리 요구사항을 지원하기 위해 AI 플랫폼(PAI),\\n데이터베이스 솔루션, 컨테이너 서비스와 같은 클라우드 신제품도 발표'),\n",
       "  Document(id='8a6da548-7ee1-48b0-9513-ecb9687cdd77', metadata={'source': 'data/SPRI_AI_Brief_2023년12월호_F.pdf', 'file_path': 'data/SPRI_AI_Brief_2023년12월호_F.pdf', 'page': 1, 'total_pages': 23, 'Author': 'dj', 'Creator': 'Hwp 2018 10.0.0.13462', 'Producer': 'Hancom PDF 1.3.0.542', 'CreationDate': \"D:20231208132838+09'00'\", 'ModDate': \"D:20231208132838+09'00'\", 'PDFVersion': '1.4'}, page_content='▹ 빌 게이츠, AI 에이전트로 인한 컴퓨터 사용의 패러다임 변화 전망································13\\n▹ 유튜브, 2024년부터 AI 생성 콘텐츠 표시 의무화····························································14\\n3. 기술/연구\\n▹ 영국 과학혁신기술부, AI 안전 연구소 설립 발표······························································15'),\n",
       "  Document(id='39bc7f15-a8dc-4cc2-ba78-0c8f85677ab2', metadata={'source': 'data/SPRI_AI_Brief_2023년12월호_F.pdf', 'file_path': 'data/SPRI_AI_Brief_2023년12월호_F.pdf', 'page': 7, 'total_pages': 23, 'Author': 'dj', 'Creator': 'Hwp 2018 10.0.0.13462', 'Producer': 'Hancom PDF 1.3.0.542', 'CreationDate': \"D:20231208132838+09'00'\", 'ModDate': \"D:20231208132838+09'00'\", 'PDFVersion': '1.4'}, page_content='만들었다고 오해할 소지가 있다고 지적\\n∙ 저작권법에 저촉되는 행위는 불공정 경쟁이나 기만행위에도 해당될 수 있으며, 창작자의 평판 악화,\\n저작물의 가치 저하나 개인정보 유출로 소비자에 상당한 피해를 초래 가능\\nn FTC는 일부 빅테크가 막대한 재원을 활용해 생성 AI 사용자의 이탈을 막고 저작권이 있는 상용\\n데이터에 대한 독점 라이선스를 확보해 시장 지배력을 더욱 강화할 수 있다는 우려도 제기\\n∙ 이와 관련 FTC는 아마존 AI 비서 ‘알렉사(Alexa)’와 스마트홈 보안 기기 ‘링(Ring)’이 소비자의 사적')]}"
      ]
     },
     "execution_count": 230,
     "metadata": {},
     "output_type": "execute_result"
    }
   ],
   "source": [
    "state"
   ]
  },
  {
   "cell_type": "code",
   "execution_count": 231,
   "metadata": {},
   "outputs": [],
   "source": [
    "# 문서 검색 결과와 질문 관련성 평가 노드\n",
    "def grade_documents(state: GraphState):\n",
    "    print('\\n==========================================================================================')\n",
    "    print('===== [CHECK DOCUMENT RELEVANCE TO QUESTION] grade_documents() 함수 =====')\n",
    "\n",
    "    # 사용자 질문\n",
    "    question = state['question']  \n",
    "\n",
    "    # 문서 검색 결과\n",
    "    documents = state['documents']\n",
    "\n",
    "    # 문서 검색 평가기를 통과한 문서들만 필터링\n",
    "    filtered_docs = []\n",
    "\n",
    "    for doc in documents:\n",
    "        score = retrieval_grader.invoke({'question': question, 'document': doc.page_content})\n",
    "\n",
    "        grade = score.binary_score\n",
    "\n",
    "        if grade == 'yes':\n",
    "            print(\"---GRADE: DOCUMENT RELEVANT---\")     \n",
    "            filtered_docs.append(doc)                   \n",
    "        else:\n",
    "            print(\"---GRADE: DOCUMENT NOT RELEVANT---\") \n",
    "            continue     \n",
    "\n",
    "    print('==========================================================================================\\n')\n",
    "    return {'documents': filtered_docs}"
   ]
  },
  {
   "cell_type": "code",
   "execution_count": 232,
   "metadata": {},
   "outputs": [
    {
     "data": {
      "text/plain": [
       "{'question': '삼성전자가 만든 생성형 AI 이름은?',\n",
       " 'generation': '삼성전자가 공개한 생성 AI 모델 ‘삼성 가우스’는 언어, 코드, 이미지의 3개 모델로 구성되어 있으며, 온디바이스에서 작동하도록 설계되어 사용자 정보 유출 위험이 없다. 이 모델은 2023년 11월 8일 ‘삼성 AI 포럼 2023’에서 처음 공개되었다.\\n\\n**Source**\\n- data/SPRI_AI_Brief_2023년12월호_F.pdf (page 12)',\n",
       " 'documents': [Document(id='083d7b17-a8ea-4f04-8e9b-1043b25af5a6', metadata={'source': 'data/SPRI_AI_Brief_2023년12월호_F.pdf', 'file_path': 'data/SPRI_AI_Brief_2023년12월호_F.pdf', 'page': 1, 'total_pages': 23, 'Author': 'dj', 'Creator': 'Hwp 2018 10.0.0.13462', 'Producer': 'Hancom PDF 1.3.0.542', 'CreationDate': \"D:20231208132838+09'00'\", 'ModDate': \"D:20231208132838+09'00'\", 'PDFVersion': '1.4'}, page_content='▹ 삼성전자, 자체 개발 생성 AI ‘삼성 가우스’ 공개 ···························································10\\n▹ 구글, 앤스로픽에 20억 달러 투자로 생성 AI 협력 강화 ················································11\\n▹ IDC, 2027년 AI 소프트웨어 매출 2,500억 달러 돌파 전망···········································12'),\n",
       "  Document(id='9914ced1-730f-451a-8472-eda20b320389', metadata={'source': 'data/SPRI_AI_Brief_2023년12월호_F.pdf', 'file_path': 'data/SPRI_AI_Brief_2023년12월호_F.pdf', 'page': 12, 'total_pages': 23, 'Author': 'dj', 'Creator': 'Hwp 2018 10.0.0.13462', 'Producer': 'Hancom PDF 1.3.0.542', 'CreationDate': \"D:20231208132838+09'00'\", 'ModDate': \"D:20231208132838+09'00'\", 'PDFVersion': '1.4'}, page_content='SPRi AI Brief |\\n2023-12월호\\n삼성전자, 자체 개발 생성 AI ‘삼성 가우스’ 공개\\nKEY Contents\\nn 삼성전자가 온디바이스에서 작동 가능하며 언어, 코드, 이미지의 3개 모델로 구성된 자체 개발 생성\\nAI 모델 ‘삼성 가우스’를 공개\\nn 삼성전자는 삼성 가우스를 다양한 제품에 단계적으로 탑재할 계획으로, 온디바이스 작동이 가능한\\n삼성 가우스는 외부로 사용자 정보가 유출될 위험이 없다는 장점을 보유\\n£언어, 코드, 이미지의 3개 모델로 구성된 삼성 가우스, 온디바이스 작동 지원'),\n",
       "  Document(id='777f6157-254f-4386-8b9d-cb6f6b0cdb99', metadata={'source': 'data/SPRI_AI_Brief_2023년12월호_F.pdf', 'file_path': 'data/SPRI_AI_Brief_2023년12월호_F.pdf', 'page': 12, 'total_pages': 23, 'Author': 'dj', 'Creator': 'Hwp 2018 10.0.0.13462', 'Producer': 'Hancom PDF 1.3.0.542', 'CreationDate': \"D:20231208132838+09'00'\", 'ModDate': \"D:20231208132838+09'00'\", 'PDFVersion': '1.4'}, page_content='£언어, 코드, 이미지의 3개 모델로 구성된 삼성 가우스, 온디바이스 작동 지원\\nn 삼성전자가 2023년 11월 8일 열린 ‘삼성 AI 포럼 2023’ 행사에서 자체 개발한 생성 AI 모델\\n‘삼성 가우스’를 최초 공개\\n∙ 정규분포 이론을 정립한 천재 수학자 가우스(Gauss)의 이름을 본뜬 삼성 가우스는 다양한 상황에\\n최적화된 크기의 모델 선택이 가능\\n∙ 삼성 가우스는 라이선스나 개인정보를 침해하지 않는 안전한 데이터를 통해 학습되었으며,\\n온디바이스에서 작동하도록 설계되어 외부로 사용자의 정보가 유출되지 않는 장점을 보유'),\n",
       "  Document(id='b1ae4676-7a2e-40db-81f7-5f01bb4fe361', metadata={'source': 'data/SPRI_AI_Brief_2023년12월호_F.pdf', 'file_path': 'data/SPRI_AI_Brief_2023년12월호_F.pdf', 'page': 12, 'total_pages': 23, 'Author': 'dj', 'Creator': 'Hwp 2018 10.0.0.13462', 'Producer': 'Hancom PDF 1.3.0.542', 'CreationDate': \"D:20231208132838+09'00'\", 'ModDate': \"D:20231208132838+09'00'\", 'PDFVersion': '1.4'}, page_content='어시스턴트를 적용한 구글 픽셀(Pixel)과 경쟁할 것으로 예상\\n☞ 출처 : 삼성전자, ‘삼성 AI 포럼’서 자체 개발 생성형 AI ‘삼성 가우스’ 공개, 2023.11.08.\\n삼성전자, ‘삼성 개발자 콘퍼런스 코리아 2023’ 개최, 2023.11.14.\\nTechRepublic, Samsung Gauss: Samsung Research Reveals Generative AI, 2023.11.08.\\n10'),\n",
       "  Document(id='34140545-e75c-4b43-8b6e-9bc08fc84a0e', metadata={'source': 'data/SPRI_AI_Brief_2023년12월호_F.pdf', 'file_path': 'data/SPRI_AI_Brief_2023년12월호_F.pdf', 'page': 18, 'total_pages': 23, 'Author': 'dj', 'Creator': 'Hwp 2018 10.0.0.13462', 'Producer': 'Hancom PDF 1.3.0.542', 'CreationDate': \"D:20231208132838+09'00'\", 'ModDate': \"D:20231208132838+09'00'\", 'PDFVersion': '1.4'}, page_content='<구글 딥마인드의 범용 AI 분류 프레임워크>\\n성능 특수 AI 예시 범용 AI 예시\\n0단계: AI 아님 계산기 소프트웨어, 컴파일러 아마존 메커니컬 터크\\n1단계: 신진(숙련되지 않은 인간) GOFAI(Good Old Fashioned Artificial Intelligence) 챗GPT, 바드, 라마2\\n스마트 스피커(애플 시리, 아마존 알렉사, 구글\\n2단계: 유능(숙련된 인간의 50% 이상) 미달성\\n어시스턴트), IBM 왓슨\\n3단계: 전문가(숙련된 인간의 90% 이상) 문법 교정기(그래머리), 생성 이미지 모델(달리2) 미달성'),\n",
       "  Document(id='c5d2bce3-198e-42a4-a419-abd8ed2f0d23', metadata={'source': 'data/SPRI_AI_Brief_2023년12월호_F.pdf', 'file_path': 'data/SPRI_AI_Brief_2023년12월호_F.pdf', 'page': 12, 'total_pages': 23, 'Author': 'dj', 'Creator': 'Hwp 2018 10.0.0.13462', 'Producer': 'Hancom PDF 1.3.0.542', 'CreationDate': \"D:20231208132838+09'00'\", 'ModDate': \"D:20231208132838+09'00'\", 'PDFVersion': '1.4'}, page_content='처리를 지원\\n∙ 코드 모델 기반의 AI 코딩 어시스턴트 ‘코드아이(code.i)’는 대화형 인터페이스로 서비스를 제공하며\\n사내 소프트웨어 개발에 최적화\\n∙ 이미지 모델은 창의적인 이미지를 생성하고 기존 이미지를 원하는 대로 바꿀 수 있도록 지원하며\\n저해상도 이미지의 고해상도 전환도 지원\\nn IT 전문지 테크리퍼블릭(TechRepublic)은 온디바이스 AI가 주요 기술 트렌드로 부상했다며,\\n2024년부터 가우스를 탑재한 삼성 스마트폰이 메타의 라마(Llama)2를 탑재한 퀄컴 기기 및 구글'),\n",
       "  Document(id='197590be-25f2-4491-a220-2fe8dff183df', metadata={'source': 'data/SPRI_AI_Brief_2023년12월호_F.pdf', 'file_path': 'data/SPRI_AI_Brief_2023년12월호_F.pdf', 'page': 12, 'total_pages': 23, 'Author': 'dj', 'Creator': 'Hwp 2018 10.0.0.13462', 'Producer': 'Hancom PDF 1.3.0.542', 'CreationDate': \"D:20231208132838+09'00'\", 'ModDate': \"D:20231208132838+09'00'\", 'PDFVersion': '1.4'}, page_content='온디바이스에서 작동하도록 설계되어 외부로 사용자의 정보가 유출되지 않는 장점을 보유\\n∙ 삼성전자는 삼성 가우스를 활용한 온디바이스 AI 기술도 소개했으며, 생성 AI 모델을 다양한 제품에\\n단계적으로 탑재할 계획\\nn 삼성 가우스는 △텍스트를 생성하는 언어모델 △코드를 생성하는 코드 모델 △이미지를 생성하는\\n이미지 모델의 3개 모델로 구성\\n∙ 언어 모델은 클라우드와 온디바이스 대상 다양한 모델로 구성되며, 메일 작성, 문서 요약, 번역 업무의\\n처리를 지원'),\n",
       "  Document(id='6ae8e820-5e92-41fc-8369-5aa43f7933c3', metadata={'source': 'data/SPRI_AI_Brief_2023년12월호_F.pdf', 'file_path': 'data/SPRI_AI_Brief_2023년12월호_F.pdf', 'page': 11, 'total_pages': 23, 'Author': 'dj', 'Creator': 'Hwp 2018 10.0.0.13462', 'Producer': 'Hancom PDF 1.3.0.542', 'CreationDate': \"D:20231208132838+09'00'\", 'ModDate': \"D:20231208132838+09'00'\", 'PDFVersion': '1.4'}, page_content='제작을 포함\\nn 알리바바 클라우드는 급증하는 생성 AI 수요에 대응해 모델 개발과 애플리케이션 구축 절차를\\n간소화하는 올인원 AI 모델 구축 플랫폼 ‘젠AI(GenAI)’도 공개\\n∙ 이 플랫폼은 데이터 관리, 모델 배포와 평가, 신속한 엔지니어링을 위한 종합 도구 모음을 제공하여\\n다양한 기업들이 맞춤형 AI 모델을 한층 쉽게 개발할 수 있도록 지원\\n∙ 생성 AI 개발에 필요한 컴퓨팅과 데이터 처리 요구사항을 지원하기 위해 AI 플랫폼(PAI),\\n데이터베이스 솔루션, 컨테이너 서비스와 같은 클라우드 신제품도 발표'),\n",
       "  Document(id='8a6da548-7ee1-48b0-9513-ecb9687cdd77', metadata={'source': 'data/SPRI_AI_Brief_2023년12월호_F.pdf', 'file_path': 'data/SPRI_AI_Brief_2023년12월호_F.pdf', 'page': 1, 'total_pages': 23, 'Author': 'dj', 'Creator': 'Hwp 2018 10.0.0.13462', 'Producer': 'Hancom PDF 1.3.0.542', 'CreationDate': \"D:20231208132838+09'00'\", 'ModDate': \"D:20231208132838+09'00'\", 'PDFVersion': '1.4'}, page_content='▹ 빌 게이츠, AI 에이전트로 인한 컴퓨터 사용의 패러다임 변화 전망································13\\n▹ 유튜브, 2024년부터 AI 생성 콘텐츠 표시 의무화····························································14\\n3. 기술/연구\\n▹ 영국 과학혁신기술부, AI 안전 연구소 설립 발표······························································15'),\n",
       "  Document(id='39bc7f15-a8dc-4cc2-ba78-0c8f85677ab2', metadata={'source': 'data/SPRI_AI_Brief_2023년12월호_F.pdf', 'file_path': 'data/SPRI_AI_Brief_2023년12월호_F.pdf', 'page': 7, 'total_pages': 23, 'Author': 'dj', 'Creator': 'Hwp 2018 10.0.0.13462', 'Producer': 'Hancom PDF 1.3.0.542', 'CreationDate': \"D:20231208132838+09'00'\", 'ModDate': \"D:20231208132838+09'00'\", 'PDFVersion': '1.4'}, page_content='만들었다고 오해할 소지가 있다고 지적\\n∙ 저작권법에 저촉되는 행위는 불공정 경쟁이나 기만행위에도 해당될 수 있으며, 창작자의 평판 악화,\\n저작물의 가치 저하나 개인정보 유출로 소비자에 상당한 피해를 초래 가능\\nn FTC는 일부 빅테크가 막대한 재원을 활용해 생성 AI 사용자의 이탈을 막고 저작권이 있는 상용\\n데이터에 대한 독점 라이선스를 확보해 시장 지배력을 더욱 강화할 수 있다는 우려도 제기\\n∙ 이와 관련 FTC는 아마존 AI 비서 ‘알렉사(Alexa)’와 스마트홈 보안 기기 ‘링(Ring)’이 소비자의 사적')]}"
      ]
     },
     "execution_count": 232,
     "metadata": {},
     "output_type": "execute_result"
    }
   ],
   "source": [
    "state"
   ]
  },
  {
   "cell_type": "code",
   "execution_count": 233,
   "metadata": {},
   "outputs": [
    {
     "name": "stdout",
     "output_type": "stream",
     "text": [
      "\n",
      "==========================================================================================\n",
      "===== [CHECK DOCUMENT RELEVANCE TO QUESTION] grade_documents() 함수 =====\n",
      "---GRADE: DOCUMENT RELEVANT---\n",
      "---GRADE: DOCUMENT RELEVANT---\n",
      "---GRADE: DOCUMENT RELEVANT---\n",
      "---GRADE: DOCUMENT RELEVANT---\n",
      "---GRADE: DOCUMENT NOT RELEVANT---\n",
      "---GRADE: DOCUMENT RELEVANT---\n",
      "---GRADE: DOCUMENT RELEVANT---\n",
      "---GRADE: DOCUMENT NOT RELEVANT---\n",
      "---GRADE: DOCUMENT NOT RELEVANT---\n",
      "---GRADE: DOCUMENT NOT RELEVANT---\n",
      "==========================================================================================\n",
      "\n"
     ]
    }
   ],
   "source": [
    "return_documents = grade_documents(state)"
   ]
  },
  {
   "cell_type": "code",
   "execution_count": 234,
   "metadata": {},
   "outputs": [],
   "source": [
    "state['documents'] = return_documents['documents']"
   ]
  },
  {
   "cell_type": "code",
   "execution_count": 235,
   "metadata": {},
   "outputs": [
    {
     "data": {
      "text/plain": [
       "{'question': '삼성전자가 만든 생성형 AI 이름은?',\n",
       " 'generation': '삼성전자가 공개한 생성 AI 모델 ‘삼성 가우스’는 언어, 코드, 이미지의 3개 모델로 구성되어 있으며, 온디바이스에서 작동하도록 설계되어 사용자 정보 유출 위험이 없다. 이 모델은 2023년 11월 8일 ‘삼성 AI 포럼 2023’에서 처음 공개되었다.\\n\\n**Source**\\n- data/SPRI_AI_Brief_2023년12월호_F.pdf (page 12)',\n",
       " 'documents': [Document(id='083d7b17-a8ea-4f04-8e9b-1043b25af5a6', metadata={'source': 'data/SPRI_AI_Brief_2023년12월호_F.pdf', 'file_path': 'data/SPRI_AI_Brief_2023년12월호_F.pdf', 'page': 1, 'total_pages': 23, 'Author': 'dj', 'Creator': 'Hwp 2018 10.0.0.13462', 'Producer': 'Hancom PDF 1.3.0.542', 'CreationDate': \"D:20231208132838+09'00'\", 'ModDate': \"D:20231208132838+09'00'\", 'PDFVersion': '1.4'}, page_content='▹ 삼성전자, 자체 개발 생성 AI ‘삼성 가우스’ 공개 ···························································10\\n▹ 구글, 앤스로픽에 20억 달러 투자로 생성 AI 협력 강화 ················································11\\n▹ IDC, 2027년 AI 소프트웨어 매출 2,500억 달러 돌파 전망···········································12'),\n",
       "  Document(id='9914ced1-730f-451a-8472-eda20b320389', metadata={'source': 'data/SPRI_AI_Brief_2023년12월호_F.pdf', 'file_path': 'data/SPRI_AI_Brief_2023년12월호_F.pdf', 'page': 12, 'total_pages': 23, 'Author': 'dj', 'Creator': 'Hwp 2018 10.0.0.13462', 'Producer': 'Hancom PDF 1.3.0.542', 'CreationDate': \"D:20231208132838+09'00'\", 'ModDate': \"D:20231208132838+09'00'\", 'PDFVersion': '1.4'}, page_content='SPRi AI Brief |\\n2023-12월호\\n삼성전자, 자체 개발 생성 AI ‘삼성 가우스’ 공개\\nKEY Contents\\nn 삼성전자가 온디바이스에서 작동 가능하며 언어, 코드, 이미지의 3개 모델로 구성된 자체 개발 생성\\nAI 모델 ‘삼성 가우스’를 공개\\nn 삼성전자는 삼성 가우스를 다양한 제품에 단계적으로 탑재할 계획으로, 온디바이스 작동이 가능한\\n삼성 가우스는 외부로 사용자 정보가 유출될 위험이 없다는 장점을 보유\\n£언어, 코드, 이미지의 3개 모델로 구성된 삼성 가우스, 온디바이스 작동 지원'),\n",
       "  Document(id='777f6157-254f-4386-8b9d-cb6f6b0cdb99', metadata={'source': 'data/SPRI_AI_Brief_2023년12월호_F.pdf', 'file_path': 'data/SPRI_AI_Brief_2023년12월호_F.pdf', 'page': 12, 'total_pages': 23, 'Author': 'dj', 'Creator': 'Hwp 2018 10.0.0.13462', 'Producer': 'Hancom PDF 1.3.0.542', 'CreationDate': \"D:20231208132838+09'00'\", 'ModDate': \"D:20231208132838+09'00'\", 'PDFVersion': '1.4'}, page_content='£언어, 코드, 이미지의 3개 모델로 구성된 삼성 가우스, 온디바이스 작동 지원\\nn 삼성전자가 2023년 11월 8일 열린 ‘삼성 AI 포럼 2023’ 행사에서 자체 개발한 생성 AI 모델\\n‘삼성 가우스’를 최초 공개\\n∙ 정규분포 이론을 정립한 천재 수학자 가우스(Gauss)의 이름을 본뜬 삼성 가우스는 다양한 상황에\\n최적화된 크기의 모델 선택이 가능\\n∙ 삼성 가우스는 라이선스나 개인정보를 침해하지 않는 안전한 데이터를 통해 학습되었으며,\\n온디바이스에서 작동하도록 설계되어 외부로 사용자의 정보가 유출되지 않는 장점을 보유'),\n",
       "  Document(id='b1ae4676-7a2e-40db-81f7-5f01bb4fe361', metadata={'source': 'data/SPRI_AI_Brief_2023년12월호_F.pdf', 'file_path': 'data/SPRI_AI_Brief_2023년12월호_F.pdf', 'page': 12, 'total_pages': 23, 'Author': 'dj', 'Creator': 'Hwp 2018 10.0.0.13462', 'Producer': 'Hancom PDF 1.3.0.542', 'CreationDate': \"D:20231208132838+09'00'\", 'ModDate': \"D:20231208132838+09'00'\", 'PDFVersion': '1.4'}, page_content='어시스턴트를 적용한 구글 픽셀(Pixel)과 경쟁할 것으로 예상\\n☞ 출처 : 삼성전자, ‘삼성 AI 포럼’서 자체 개발 생성형 AI ‘삼성 가우스’ 공개, 2023.11.08.\\n삼성전자, ‘삼성 개발자 콘퍼런스 코리아 2023’ 개최, 2023.11.14.\\nTechRepublic, Samsung Gauss: Samsung Research Reveals Generative AI, 2023.11.08.\\n10'),\n",
       "  Document(id='c5d2bce3-198e-42a4-a419-abd8ed2f0d23', metadata={'source': 'data/SPRI_AI_Brief_2023년12월호_F.pdf', 'file_path': 'data/SPRI_AI_Brief_2023년12월호_F.pdf', 'page': 12, 'total_pages': 23, 'Author': 'dj', 'Creator': 'Hwp 2018 10.0.0.13462', 'Producer': 'Hancom PDF 1.3.0.542', 'CreationDate': \"D:20231208132838+09'00'\", 'ModDate': \"D:20231208132838+09'00'\", 'PDFVersion': '1.4'}, page_content='처리를 지원\\n∙ 코드 모델 기반의 AI 코딩 어시스턴트 ‘코드아이(code.i)’는 대화형 인터페이스로 서비스를 제공하며\\n사내 소프트웨어 개발에 최적화\\n∙ 이미지 모델은 창의적인 이미지를 생성하고 기존 이미지를 원하는 대로 바꿀 수 있도록 지원하며\\n저해상도 이미지의 고해상도 전환도 지원\\nn IT 전문지 테크리퍼블릭(TechRepublic)은 온디바이스 AI가 주요 기술 트렌드로 부상했다며,\\n2024년부터 가우스를 탑재한 삼성 스마트폰이 메타의 라마(Llama)2를 탑재한 퀄컴 기기 및 구글'),\n",
       "  Document(id='197590be-25f2-4491-a220-2fe8dff183df', metadata={'source': 'data/SPRI_AI_Brief_2023년12월호_F.pdf', 'file_path': 'data/SPRI_AI_Brief_2023년12월호_F.pdf', 'page': 12, 'total_pages': 23, 'Author': 'dj', 'Creator': 'Hwp 2018 10.0.0.13462', 'Producer': 'Hancom PDF 1.3.0.542', 'CreationDate': \"D:20231208132838+09'00'\", 'ModDate': \"D:20231208132838+09'00'\", 'PDFVersion': '1.4'}, page_content='온디바이스에서 작동하도록 설계되어 외부로 사용자의 정보가 유출되지 않는 장점을 보유\\n∙ 삼성전자는 삼성 가우스를 활용한 온디바이스 AI 기술도 소개했으며, 생성 AI 모델을 다양한 제품에\\n단계적으로 탑재할 계획\\nn 삼성 가우스는 △텍스트를 생성하는 언어모델 △코드를 생성하는 코드 모델 △이미지를 생성하는\\n이미지 모델의 3개 모델로 구성\\n∙ 언어 모델은 클라우드와 온디바이스 대상 다양한 모델로 구성되며, 메일 작성, 문서 요약, 번역 업무의\\n처리를 지원')]}"
      ]
     },
     "execution_count": 235,
     "metadata": {},
     "output_type": "execute_result"
    }
   ],
   "source": [
    "state"
   ]
  },
  {
   "cell_type": "code",
   "execution_count": 236,
   "metadata": {},
   "outputs": [],
   "source": [
    "# Query Rewrite 노드\n",
    "def transform_query(state: GraphState):\n",
    "    print('\\n==========================================================================================')\n",
    "    print('===== [TRANSFORM QUERY] transform_query() 함수 =====')\n",
    "\n",
    "    # 사용자 질문\n",
    "    question = state['question']\n",
    "\n",
    "    # 문서 검색 결과\n",
    "    documents = state['documents']\n",
    "\n",
    "    \n",
    "    # 쿼리 재작성\n",
    "    better_question = question_rewriter.invoke({'question': question})\n",
    "    print(f\"better_question: {better_question}\")\n",
    "    print('==========================================================================================\\n')\n",
    "\n",
    "    return {'question': better_question}"
   ]
  },
  {
   "cell_type": "code",
   "execution_count": 237,
   "metadata": {},
   "outputs": [
    {
     "name": "stdout",
     "output_type": "stream",
     "text": [
      "\n",
      "==========================================================================================\n",
      "===== [TRANSFORM QUERY] transform_query() 함수 =====\n",
      "better_question: 삼성전자가 개발한 생성형 AI의 이름은 무엇인가요?\n",
      "==========================================================================================\n",
      "\n"
     ]
    }
   ],
   "source": [
    "question_rewriter_return = transform_query(state)\n",
    "state['question'] = question_rewriter_return['question']"
   ]
  },
  {
   "cell_type": "code",
   "execution_count": 238,
   "metadata": {},
   "outputs": [
    {
     "data": {
      "text/plain": [
       "{'question': '삼성전자가 개발한 생성형 AI의 이름은 무엇인가요?',\n",
       " 'generation': '삼성전자가 공개한 생성 AI 모델 ‘삼성 가우스’는 언어, 코드, 이미지의 3개 모델로 구성되어 있으며, 온디바이스에서 작동하도록 설계되어 사용자 정보 유출 위험이 없다. 이 모델은 2023년 11월 8일 ‘삼성 AI 포럼 2023’에서 처음 공개되었다.\\n\\n**Source**\\n- data/SPRI_AI_Brief_2023년12월호_F.pdf (page 12)',\n",
       " 'documents': [Document(id='083d7b17-a8ea-4f04-8e9b-1043b25af5a6', metadata={'source': 'data/SPRI_AI_Brief_2023년12월호_F.pdf', 'file_path': 'data/SPRI_AI_Brief_2023년12월호_F.pdf', 'page': 1, 'total_pages': 23, 'Author': 'dj', 'Creator': 'Hwp 2018 10.0.0.13462', 'Producer': 'Hancom PDF 1.3.0.542', 'CreationDate': \"D:20231208132838+09'00'\", 'ModDate': \"D:20231208132838+09'00'\", 'PDFVersion': '1.4'}, page_content='▹ 삼성전자, 자체 개발 생성 AI ‘삼성 가우스’ 공개 ···························································10\\n▹ 구글, 앤스로픽에 20억 달러 투자로 생성 AI 협력 강화 ················································11\\n▹ IDC, 2027년 AI 소프트웨어 매출 2,500억 달러 돌파 전망···········································12'),\n",
       "  Document(id='9914ced1-730f-451a-8472-eda20b320389', metadata={'source': 'data/SPRI_AI_Brief_2023년12월호_F.pdf', 'file_path': 'data/SPRI_AI_Brief_2023년12월호_F.pdf', 'page': 12, 'total_pages': 23, 'Author': 'dj', 'Creator': 'Hwp 2018 10.0.0.13462', 'Producer': 'Hancom PDF 1.3.0.542', 'CreationDate': \"D:20231208132838+09'00'\", 'ModDate': \"D:20231208132838+09'00'\", 'PDFVersion': '1.4'}, page_content='SPRi AI Brief |\\n2023-12월호\\n삼성전자, 자체 개발 생성 AI ‘삼성 가우스’ 공개\\nKEY Contents\\nn 삼성전자가 온디바이스에서 작동 가능하며 언어, 코드, 이미지의 3개 모델로 구성된 자체 개발 생성\\nAI 모델 ‘삼성 가우스’를 공개\\nn 삼성전자는 삼성 가우스를 다양한 제품에 단계적으로 탑재할 계획으로, 온디바이스 작동이 가능한\\n삼성 가우스는 외부로 사용자 정보가 유출될 위험이 없다는 장점을 보유\\n£언어, 코드, 이미지의 3개 모델로 구성된 삼성 가우스, 온디바이스 작동 지원'),\n",
       "  Document(id='777f6157-254f-4386-8b9d-cb6f6b0cdb99', metadata={'source': 'data/SPRI_AI_Brief_2023년12월호_F.pdf', 'file_path': 'data/SPRI_AI_Brief_2023년12월호_F.pdf', 'page': 12, 'total_pages': 23, 'Author': 'dj', 'Creator': 'Hwp 2018 10.0.0.13462', 'Producer': 'Hancom PDF 1.3.0.542', 'CreationDate': \"D:20231208132838+09'00'\", 'ModDate': \"D:20231208132838+09'00'\", 'PDFVersion': '1.4'}, page_content='£언어, 코드, 이미지의 3개 모델로 구성된 삼성 가우스, 온디바이스 작동 지원\\nn 삼성전자가 2023년 11월 8일 열린 ‘삼성 AI 포럼 2023’ 행사에서 자체 개발한 생성 AI 모델\\n‘삼성 가우스’를 최초 공개\\n∙ 정규분포 이론을 정립한 천재 수학자 가우스(Gauss)의 이름을 본뜬 삼성 가우스는 다양한 상황에\\n최적화된 크기의 모델 선택이 가능\\n∙ 삼성 가우스는 라이선스나 개인정보를 침해하지 않는 안전한 데이터를 통해 학습되었으며,\\n온디바이스에서 작동하도록 설계되어 외부로 사용자의 정보가 유출되지 않는 장점을 보유'),\n",
       "  Document(id='b1ae4676-7a2e-40db-81f7-5f01bb4fe361', metadata={'source': 'data/SPRI_AI_Brief_2023년12월호_F.pdf', 'file_path': 'data/SPRI_AI_Brief_2023년12월호_F.pdf', 'page': 12, 'total_pages': 23, 'Author': 'dj', 'Creator': 'Hwp 2018 10.0.0.13462', 'Producer': 'Hancom PDF 1.3.0.542', 'CreationDate': \"D:20231208132838+09'00'\", 'ModDate': \"D:20231208132838+09'00'\", 'PDFVersion': '1.4'}, page_content='어시스턴트를 적용한 구글 픽셀(Pixel)과 경쟁할 것으로 예상\\n☞ 출처 : 삼성전자, ‘삼성 AI 포럼’서 자체 개발 생성형 AI ‘삼성 가우스’ 공개, 2023.11.08.\\n삼성전자, ‘삼성 개발자 콘퍼런스 코리아 2023’ 개최, 2023.11.14.\\nTechRepublic, Samsung Gauss: Samsung Research Reveals Generative AI, 2023.11.08.\\n10'),\n",
       "  Document(id='c5d2bce3-198e-42a4-a419-abd8ed2f0d23', metadata={'source': 'data/SPRI_AI_Brief_2023년12월호_F.pdf', 'file_path': 'data/SPRI_AI_Brief_2023년12월호_F.pdf', 'page': 12, 'total_pages': 23, 'Author': 'dj', 'Creator': 'Hwp 2018 10.0.0.13462', 'Producer': 'Hancom PDF 1.3.0.542', 'CreationDate': \"D:20231208132838+09'00'\", 'ModDate': \"D:20231208132838+09'00'\", 'PDFVersion': '1.4'}, page_content='처리를 지원\\n∙ 코드 모델 기반의 AI 코딩 어시스턴트 ‘코드아이(code.i)’는 대화형 인터페이스로 서비스를 제공하며\\n사내 소프트웨어 개발에 최적화\\n∙ 이미지 모델은 창의적인 이미지를 생성하고 기존 이미지를 원하는 대로 바꿀 수 있도록 지원하며\\n저해상도 이미지의 고해상도 전환도 지원\\nn IT 전문지 테크리퍼블릭(TechRepublic)은 온디바이스 AI가 주요 기술 트렌드로 부상했다며,\\n2024년부터 가우스를 탑재한 삼성 스마트폰이 메타의 라마(Llama)2를 탑재한 퀄컴 기기 및 구글'),\n",
       "  Document(id='197590be-25f2-4491-a220-2fe8dff183df', metadata={'source': 'data/SPRI_AI_Brief_2023년12월호_F.pdf', 'file_path': 'data/SPRI_AI_Brief_2023년12월호_F.pdf', 'page': 12, 'total_pages': 23, 'Author': 'dj', 'Creator': 'Hwp 2018 10.0.0.13462', 'Producer': 'Hancom PDF 1.3.0.542', 'CreationDate': \"D:20231208132838+09'00'\", 'ModDate': \"D:20231208132838+09'00'\", 'PDFVersion': '1.4'}, page_content='온디바이스에서 작동하도록 설계되어 외부로 사용자의 정보가 유출되지 않는 장점을 보유\\n∙ 삼성전자는 삼성 가우스를 활용한 온디바이스 AI 기술도 소개했으며, 생성 AI 모델을 다양한 제품에\\n단계적으로 탑재할 계획\\nn 삼성 가우스는 △텍스트를 생성하는 언어모델 △코드를 생성하는 코드 모델 △이미지를 생성하는\\n이미지 모델의 3개 모델로 구성\\n∙ 언어 모델은 클라우드와 온디바이스 대상 다양한 모델로 구성되며, 메일 작성, 문서 요약, 번역 업무의\\n처리를 지원')]}"
      ]
     },
     "execution_count": 238,
     "metadata": {},
     "output_type": "execute_result"
    }
   ],
   "source": [
    "state"
   ]
  },
  {
   "cell_type": "code",
   "execution_count": 239,
   "metadata": {},
   "outputs": [],
   "source": [
    "# 웹 검색 노드\n",
    "def web_search(state):\n",
    "    print('\\n==========================================================================================')\n",
    "    print('===== [WEB SEARCH] web_search() 함수 =====')\n",
    "\n",
    "    # 사용자 질문\n",
    "    question = state['question']\n",
    "    \n",
    "    print(f\"question: \")\n",
    "    print(question)\n",
    "    print()\n",
    "\n",
    "    # 웹 검색 수행\n",
    "    web_results = web_search_tool.invoke({\"query\": question})\n",
    "\n",
    "    print('web_results: ')\n",
    "    print(web_results)\n",
    "    print()\n",
    "\n",
    "    web_results_docs = []\n",
    "    \n",
    "    for result in web_results:\n",
    "        doc = Document(\n",
    "            page_content=result[\"content\"],\n",
    "            metadata={\"source\": result[\"url\"]}\n",
    "        )\n",
    "        web_results_docs.append(doc)\n",
    "\n",
    "    print(web_results_docs)\n",
    "    print('==========================================================================================\\n')\n",
    "\n",
    "    return {\"documents\": web_results_docs}"
   ]
  },
  {
   "cell_type": "code",
   "execution_count": 240,
   "metadata": {},
   "outputs": [
    {
     "name": "stdout",
     "output_type": "stream",
     "text": [
      "\n",
      "==========================================================================================\n",
      "===== [WEB SEARCH] web_search() 함수 =====\n",
      "question: \n",
      "삼성전자가 개발한 생성형 AI의 이름은 무엇인가요?\n",
      "\n",
      "web_results: \n",
      "[{'title': \"삼성전자, 자체 개발한 생성형 Ai '삼성 가우스' 최초 공개\", 'url': 'https://www.hankyung.com/article/202311081442g', 'content': \"삼성전자, 자체 개발한 생성형 AI 삼성 가우스 최초 공개 | 한국경제 My한경 한경 AI 삼성전자, 자체 개발한 생성형 AI '삼성 가우스' 최초 공개 삼성전자가 서울R&D캠퍼스에서 '삼성 AI 포럼 2023' 2일차 일정을 진행하며 자체 개발한 생성형 AI '삼성 가우스'를 공개했다. 삼성전자가 자체 개발한 생성형 인공지능(AI) 모델 '삼성 가우스'(Samsung Gauss)가 최초로 공개했다. 삼성전자는 삼성 가우스를 활용해 임직원의 업무 생산성을 높이는 한편, 생성형 AI 모델을 단계적으로 제품에 탑재해 새로운 사용자 경험을 제공한다는 계획이다. 삼성전자는 7일 경기 수원컨벤션센터에서 ‘더 나은 내일을 위한 초거대 인공지능(AI)’을 주제로 ‘삼성 AI 포럼 2023’을 열었다. AI 추천 뉴스 팝업 닫기 한국경제TV KED Global 한국경제매거진 한경에이셀 한경arte TV 한경 arte 필하모닉 BOOK 한경아카데미 한경블루애드 텐아시아 생글생글 주니어 생글생글 TESAT 29초영화제 교육센터 블루밍비트 키즈맘 포천힐스\", 'score': 0.89053273, 'raw_content': '삼성전자, 자체 개발한 생성형 AI 삼성 가우스 최초 공개 | 한국경제\\n본문 바로가기\\n\\n\\n한경코리아마켓\\n한경글로벌마켓\\n집코노미\\n오피니언\\n경제\\n금융\\n산업\\n유통\\nIT\\n국제\\n\\n프리미엄\\n\\n마켓인사이트\\n한경Law&Biz\\n한경 BIO Insight\\n한경CHO Insight\\n한경ESG\\n한경Geeks\\n입법 익스플로러\\n아르떼\\n\\n한경만의 독자적인 프리미엄 콘텐츠입니다.\\n\\n\\n더보기\\n\\n정치\\n사회\\n골프\\n연예\\n스포츠\\n회원전용\\n\\n전체뉴스\\n\\n\\n한경트래블\\n\\n뉴스레터\\n스페셜 리포트\\nThe Moneyist\\nThe Lifeist\\n한경동영상\\n기자 코너\\nPOLL\\n랭킹뉴스\\n인사·부고\\n보도자료\\n데이터센터\\n한경용어사전\\n\\n한경행사\\n\\n\\n스타워즈\\n\\n한경유레카\\n한경운세\\n\\nPR Newswire\\n\\n\\n신문 전자판\\n\\n신문 구독신청\\n한경스토어\\n한경렌탈\\n\\n한경미디어\\n\\n한국경제TV\\nKED Global\\n한국경제매거진\\n한경에이셀\\n한경 arte TV\\n한경 arte 필하모닉\\nBOOK\\n한경아카데미\\n한경블루애드\\n텐아시아\\n생글생글\\n주니어 생글생글\\nTESAT\\n29초영화제\\n교육센터\\n블루밍비트\\n키즈맘\\n포천힐스\\n\\n빠른 메뉴 찾기\\n검색어 삭제\\n자동완성창 닫기\\n\\n\\n통합검색\\n한국경제 통합검색\\n검색어 삭제\\n검색\\n검색창 닫기\\n로그인 회원 메뉴\\n회원가입 로그인\\n한국경제 회원이 되어 보세요\\n지금 바로 한국경제 회원으로 가입하시고, 독점 혜택을 누려보세요\\n\\n특별한 뉴스와 분석 보고서 접근\\n주식 시장 및 경제 동향에 대한 최신 정보\\n한경만의 독자적인 콘텐츠에 대한 접근\\n이벤트 및 세미나 참가 기회\\n\\n이미 회원이시면 로그인을 클릭해 주세요\\n고객센터\\n계정관리\\nMy한경 한경 AI\\n한경 AI로 맞춤 뉴스와 빠른 검색을 경험하세요!\\n구독 유료 상품\\n로그아웃\\n고객센터\\n회원 메뉴 닫기\\n산업\\n\\n반도체·전자\\n자동차·배터리\\n조선·해운\\n철강·화학\\n로봇·미래\\n경영·재계\\n건설·기계\\n\\n삼성전자, 자체 개발한 생성형 AI \\'삼성 가우스\\' 최초 공개\\n조아라 기자 기자 구독\\n입력2023.11.08 12:51 수정2023.11.08 12:51\\n글자크기 조절\\n\\n\\n기사 스크랩\\n기사 스크랩\\n\\n\\n공유\\n공유\\n\\n\\n댓글 0\\n댓글\\n\\n\\n클린뷰\\n클린뷰\\n\\n\\n프린트\\n프린트\\n\\n\\n시범 테스트 중…연내 임직원 대상 공개\\n내년 1월 갤럭시S24 탑재 가능성 점쳐\\n\\n삼성전자가 서울R&D캠퍼스에서 \\'삼성 AI 포럼 2023\\' 2일차 일정을 진행하며 자체 개발한 생성형 AI \\'삼성 가우스\\'를 공개했다. 사진=삼성전자 제공\\n삼성전자가 자체 개발한 생성형 인공지능(AI) 모델 \\'삼성 가우스\\'(Samsung Gauss)가 최초로 공개했다. 삼성전자는 삼성 가우스를 활용해 임직원의 업무 생산성을 높이는 한편, 생성형 AI 모델을 단계적으로 제품에 탑재해 새로운 사용자 경험을 제공한다는 계획이다.  \\n삼성전자는 8일 서울R&D캠퍼스에서 \\'삼성 AI 포럼 2023\\' 2일차 행사를 개최하고 삼성 가우스를 처음 공개했다고 밝혔다.  \\n삼성리서치에서 개발한 삼성 가우스는 머신 러닝과 인공지능(AI) 기술 근본이 되는 정규분포 이론을 정립한 천재 수학자 칼 프리드리히 가우스의 이름에서 유래한다. 머신 러닝 기술을 기반으로 △언어 모델 △코드 모델 △이미지 모델 등 3가지 모델로 구성됐다.  \\n클라우드와 온디바이스(On-device)를 위한 다양한 모델로 이뤄진 언어 모델은 메일 작성과 문서 요약, 번역 등의 업무를 더 쉽고 빠르게 처리할 수 있게 돕는다. 코드 모델을 기반으로 개발된 AI 코딩 어시스턴트 \\'코드아이\\'(code.i)는 사내 소프트웨어 개발에 최적화돼 개발자들이 쉽고 빠르게 코딩할 수 있도록 도와준다. 대화형 인터페이스를 통해 코드 설명이나 테스트 케이스 생성 등의 서비스도 제공한다. 이미지 모델은 사진이나 그림 등 창의적인 이미지를 손쉽게 만들고 기존 이미지를 원하는 대로 바꿀 수 있도록 도와준다. 저해상도 이미지의 고해상도 전환도 쉽게 가능해진다.\\n\\n사진=삼성전자 제공\\n삼성전자는 현재 사내에서 삼성 가우스의 베타 테스트를 진행 중이다. 연내 임직원이 사용할 수 있도록 공개할 예정이다. 앞서 삼성전자는 챗GPT 등 외부 생성형 AI 사용 확대로 보안 우려가 커지자 번역과 문서 요약 등 임직원의 수요를 고려해 자체 생성형 AI를 개발해 왔다.  \\n삼성 가우스를 활용한 온디바이스 AI 기술도 소개했다. 삼성리서치가 개발한 다양한 온디바이스 AI 기술이 탑재된 제품을 사용할 경우 소비자는 개인정보 전송 없이 기기 제어, 문장 요약, 문법 교정 등을 더 쉽고 편리하게 이용할 수 있다.  \\n삼성전자는 이러한 생성형 AI 모델들을 다양한 제품에 단계적으로 탑재할 계획이다. 업계에서는 삼성전자가 이르면 내년 1월 공개할 갤럭시 S24에 생성형 AI 기능을 탑재할 것으로 전망하고 있다.  \\n이날 포럼에는 삼성전자의 AI 연구 인력과 학계·업계 AI 전문가 150여명이 참석해 생성형 AI 기술의 발전 방향을 논의하고 최신 기술 동향을 공유했다.  \\n\\'생각의 사슬\\' 논문의 저자인 한 오픈AI의 제이슨 웨이 연구원은 \\'대규모 언어 모델 르네상스의 새로운 패러다임\\'을 주제로 대규모 언어 모델로 인한 패러다임 변화와 AI 분야에 미치는 영향에 대해 강연했다.  \\n김대현 삼성리서치 글로벌AI센터 부센터장(부사장)은 \"삼성전자는 AI 기술 개발뿐만 아니라 AI 활용 시 보안과 안전성을 확보하기 위해 \\'AI 윤리 원칙\\'을 정해 이를 준수하기 위해 노력하고 있다\"며 \"생성형 AI에 대한 지속적 연구를 통해 소비자의 경험 가치를 높여 나갈 계획\"이라고 말했다.\\n\\n사진=삼성전자 제공\\n조아라 한경닷컴 기자 rrang123@hankyung.com\\n좋아요 싫어요 후속기사 원해요\\nⓒ 한경닷컴, 무단전재 및 재배포 금지\\n한국경제 구독신청 모바일한경 보기\\n관련 뉴스\\n\\n\\n1\\n경계현 \"AI·반도체로 새 미래 열자\"\\n삼성전자는 7일 경기 수원컨벤션센터에서 ‘더 나은 내일을 위한 초거대 인공지능(AI)’을 주제로 ‘삼성 AI 포럼 2023’을 열었다. 올해로 7회째를 맞은 삼성 AI 포럼은 AI·컴퓨터공학(CE) 분야 석학과 전문...\\n\\n\\n\\n2\\n투숙객만을 위한 위스키 클래스 선보여\\n23.11.7위스키의 국내 수입량이 매년 크게 늘며 전성기를 이어가는 가운데, 서울신라호텔이 프리미엄 싱글몰트 위스키 ‘맥캘란’과 손잡고 위스키 프라이빗 클래스를 연다.스카치 위스키 명가 맥캘란과 함께하는 프라이빗 ...\\n\\n\\n\\n3\\n노트북·폰도 AI 시대…삼성-퀄컴 각축전\\n“온디바이스 인공지능(AI)에 최적화된 신경망처리장치(NPU) 도입이 가속화하고 있다.”(박용인 삼성전자 시스템LSI사업부장) “AI 노트북의 확산은 산업의 변곡점이 될 것.”(팻 겔싱어 인텔 최고경영자) 최근 스마...\\n\\n\\n\\n많이 본 뉴스\\n\\n\\n1\\n\"왜 이렇게 싸?\" 전복 사 먹으려다 \\'깜짝\\'…이유 알고 보니\\n\\n\\n\\n2\\n수백억 적자인데 복지는 \\'최고\\'…\"매각도 안된다\" 버티기\\n\\n\\n\\n3\\n\"유럽 승무원들도 한국오면 싹쓸이\"…다이소 핫템 뭐길래\\n\\n\\n\\n4\\n\"여보, 지금 사야 해\"…7억 넘던 송도 아파트, 한 달 만에\\n\\n\\n\\n5\\n\\'러시아 출신\\' 압바꾸모바, 한국에 역사적 \\'금메달\\' 안겼다\\n\\n\\n\\n이 시각 관심정보 AD\\nAI 추천\\nAI 추천 뉴스 팝업 닫기\\n\\n\\n\\nK팝 업계에도 \\'친환경\\' 바람…폐기물 되는 앨범은 \\'골칫거리\\' [연계소문]\\n\\n\\n\\n대선 후 서울 아파트 거래 10곳 중 4곳 \\'신고가\\'…어딘가 봤더니\\n\\n\\n中, \\'제로 코로나\\'에 소비 억제하더니 \\'위축\\'…저축만 늘었다\\n\\n\\n\\n\"없어서 못 산다\"…보복소비 열풍에 스위스 명품시계 \\'대박\\'\\n\\n\\n\\n치킨값 2만원 시대…올해 외식품목 중 몸값 가장 많이 뛰었다\\n\\n\\n\\n팝업 닫기\\n\\n팝업 닫기\\n글자크기\\n\\n1단계\\n2단계\\n3단계\\n4단계\\n5단계\\n\\n글자행간\\n\\n1단계\\n2단계\\n3단계\\n\\n팝업 닫기\\n\\n카카오톡\\n페이스북\\n엑스\\nURL복사\\n네이버\\n밴드\\n메일\\n\\n팝업 닫기\\n로그인이 필요한 서비스 입니다.\\n로그인 하시겠습니까?\\n아니오 예\\n취소 확인\\n스크랩한 기사를 삭제 하시겠습니까?\\n취소 확인\\n삼성 우리은행 국민은행\\n\\n한경코리아마켓\\n한경글로벌마켓\\n집코노미\\n오피니언\\n경제\\n금융\\n산업\\n정치\\n사회\\n국제\\n회원전용\\n전체뉴스\\nIT·과학\\n한경 BIO Insight\\n유통\\n한경ESG\\n한경 Geeks\\n아르떼\\n한경트래블\\n한경Law&Biz\\n골프\\n연예\\n스포츠\\n뉴스레터\\n스페셜 리포트\\nThe Moneyist\\nThe Lifeist\\n한경동영상\\n기자 코너\\n데이터센터\\n인사·부고\\n보도자료\\n스타워즈\\n한경유레카\\n랭킹뉴스\\nPOLL\\n한경CHO Insight\\n한경용어사전\\n\\n한국경제신문\\n회사소개 구독신청 고충처리 광고안내 블루애드 대표번호: 02-3604-114\\n사업자등록번호: 110-81-07390 통신판매업신고번호: 중구 02559\\n한경닷컴\\n회사소개 제휴 / 콘텐츠구입 광고안내 사이트맵 고객센터 RSS 이용약관 개인정보처리방침 청소년보호정책(책임자: 이지연)\\n서울시 중구 청파로 463 한국경제신문사\\n대표번호: 02-3277-9900\\n사업자등록번호: 104-81-47984 통신판매업신고번호: 중구 00606 인터넷신문등록번호: 서울 아01035 등록(발행)일자: 2009.11.23 발행·편집인: 정종태\\nCopyright 1999-2025. 한경닷컴 All rights reserved.\\n한국경제 패밀리\\n한국경제TV KED Global 한국경제매거진 한경에이셀 한경arte TV 한경 arte 필하모닉 BOOK 한경아카데미 한경블루애드 텐아시아 생글생글 주니어 생글생글 TESAT 29초영화제 교육센터 블루밍비트 키즈맘 포천힐스\\n상단 바로가기\\n'}, {'title': '삼성, 자체 생성형ai \\'가우스2\\' 공개…\"사내 업무 생산성 향상\" - 전자신문', 'url': 'https://www.etnews.com/20241121000278', 'content': \"삼성전자가 자체 개발한 생성형 인공지능(AI) 모델 '삼성 가우스2(Samsung Gauss2)'를 공개했다. 전작(가우스1)과 달리 여러 데이터를 동시 처리할 수 있는\", 'score': 0.8795718, 'raw_content': \"\\n\\n\\n\\n삼성, 자체 생성형AI '가우스2' 공개…“사내 업무 생산성 향상”\\n\\n페이스북\\n\\nX(트위터)\\n\\n메일\\n\\nURL 복사\\n\\n작게\\n\\n보통\\n\\n크게\\n\\n삼성전자가 자체 개발한 생성형 인공지능(AI) 모델 '삼성 가우스2(Samsung Gauss2)'를 공개했다. 전작(가우스1)과 달리 여러 데이터를 동시 처리할 수 있는 게 특징이다. 삼성전자는 가우스2를 사내 업무에 적용해 임직원 생산성을 높일 계획이다. 또 전작이 갤럭시S24시리즈에 탑재된 만큼, 향후 갤럭시 제품군에도 적용될 전망이다.\\n\\n삼성전자는 21일 온라인에서 '삼성 개발자 콘퍼런스(SDC) 코리아 2024'를 열고 삼성리서치가 개발한 '삼성 가우스2'를 공개했다. 서비스 용도에 따라 '콤팩트', '밸런스드', '슈프림' 등 3가지 모델로 구분했다. 기존 삼성 가우스1과 달리 언어·코드·이미지 통합 멀티모달 모델로 구성돼 여러가지 데이터 유형을 동시 처리할 수 있다.\\n\\n콤팩트 모델은 삼성전자 디바이스에 탑재할 수 있는 온디바이스 모델, 밸런스드 모델은 효율성과 안정성에 초점을 맞춘 모델이다. 슈프림은 최고 성능을 목표로 하는 고성능 모델이다. 밸런스드 모델을 기반으로 '전문가 혼합(MoE·Mixture of Experts)' 기술을 이용해 학습과 추론 과정에서 계산량을 대폭 줄여 성능과 효율성을 높였다. 또, 모델에 따라 9~14개국 언어와 다양한 프로그래밍 언어를 지원해 사용성을 높였다.\\n\\n삼성전자는 밸런스드와 슈프림 모델이 현재 공개된 오픈소스 생성형 AI 모델과 동등하거나 우위에 있다고 강조했다. 밸런스드 모델과 슈프림모델 성능은 영어·한국어 등 다양한 언어 답변 생성, 코딩 등 주요 지표에서 오픈소스 AI모델과 비슷하다. 시간당 처리 속도는 1.5~3배 이상이다. 삼성전자는 “AI의 답변 생성이 빨라 사용자 대기시간이 줄고 효율적 일처리가 가능하다”고 소개했다.\\n\\n이주형 삼성전자 삼성리서치 부사장은 이날 “앞으로 더 많은 GPU와 데이터를 지속 확보해 모델 성능을 계속 개선할 계획”이라며 “이러한 자체 모델의 장점은 필요한 목적과 응용 분야에 맞춰 최고의 성능을 내도록 세분화가 가능해진다”고 말했다.\\n\\n삼성전자는 가우스2를 내부 서비스에 접목해 임직원 생산성 향상 효과를 거두고 있다.\\n\\n지난 해 출시한 삼성 가우스 모델 코딩 어시스턴트 서비스 '코드아이(code.i)'는 최근 가우스2 모델로 업그레이드해 성능 개선을 점검하고 있다. 월별 사용량은 약 4배 이상 증가했고, 삼성전자 DX부문 전체 SW 개발자의 약 60%가 사용 중이다.\\n\\n임직원 업무 생산성 향상 및 프로세스 개선을 위한 서비스 '삼성 가우스 포털'은 기본적인 이메일 작성, 문서 요약 번역 이외에도 모델 함수 호출 능력을 개선해 자연어 질의로부터 사내의 API 호출 등을 담당하고 있다. 또, 올해 8월부터 삼성 가우스를 콜센터에 적용해 상담 내용을 자동 분류하고 요약하는 등 상담원의 업무를 보조하고 있다.\\n\\n삼성전자는 향후 삼성 가우스2를 통해 코드아이 서비스의 성능 개선, 삼성 가우스 포탈 자연어 질의응답 성능 향상, 표와 차트의 이해, 이미지 생성 등 멀티모달 기능을 지원해 사내 생산성 향상에 기여한다는 계획이다.\\n\\n이 부사장은 “삼성 가우스2 모델을 통해서 생성형 AI 기술을 지속적으로 고도화하고 제품 경쟁력을 강화해 생산성을 향상시킬 것”이라고 말했다.\\n\\n남궁경 기자 nkk@etnews.com\\n\\n글로벌 1억 유저 中샤오미 '미스토어' 국내 상륙... 생태계 확장 본격화\\n\\nIT 많이 본 기사\\n\\n주요 행사 ❯\\n\\nBIZPLUS\\n\\nHOT 영상 ❯\\n\\n사업자명 : 전자신문인터넷\\n사업자번호 : 107-81-80959\\n발행·편집인: 심규호\\n청소년보호책임자: 김인기\\n\\nCopyright © Electronic Times Internet. All Rights Reserved.\\n\\n\"}]\n",
      "\n",
      "[Document(metadata={'source': 'https://www.hankyung.com/article/202311081442g'}, page_content=\"삼성전자, 자체 개발한 생성형 AI 삼성 가우스 최초 공개 | 한국경제 My한경 한경 AI 삼성전자, 자체 개발한 생성형 AI '삼성 가우스' 최초 공개 삼성전자가 서울R&D캠퍼스에서 '삼성 AI 포럼 2023' 2일차 일정을 진행하며 자체 개발한 생성형 AI '삼성 가우스'를 공개했다. 삼성전자가 자체 개발한 생성형 인공지능(AI) 모델 '삼성 가우스'(Samsung Gauss)가 최초로 공개했다. 삼성전자는 삼성 가우스를 활용해 임직원의 업무 생산성을 높이는 한편, 생성형 AI 모델을 단계적으로 제품에 탑재해 새로운 사용자 경험을 제공한다는 계획이다. 삼성전자는 7일 경기 수원컨벤션센터에서 ‘더 나은 내일을 위한 초거대 인공지능(AI)’을 주제로 ‘삼성 AI 포럼 2023’을 열었다. AI 추천 뉴스 팝업 닫기 한국경제TV KED Global 한국경제매거진 한경에이셀 한경arte TV 한경 arte 필하모닉 BOOK 한경아카데미 한경블루애드 텐아시아 생글생글 주니어 생글생글 TESAT 29초영화제 교육센터 블루밍비트 키즈맘 포천힐스\"), Document(metadata={'source': 'https://www.etnews.com/20241121000278'}, page_content=\"삼성전자가 자체 개발한 생성형 인공지능(AI) 모델 '삼성 가우스2(Samsung Gauss2)'를 공개했다. 전작(가우스1)과 달리 여러 데이터를 동시 처리할 수 있는\")]\n",
      "==========================================================================================\n",
      "\n"
     ]
    },
    {
     "data": {
      "text/plain": [
       "{'documents': [Document(metadata={'source': 'https://www.hankyung.com/article/202311081442g'}, page_content=\"삼성전자, 자체 개발한 생성형 AI 삼성 가우스 최초 공개 | 한국경제 My한경 한경 AI 삼성전자, 자체 개발한 생성형 AI '삼성 가우스' 최초 공개 삼성전자가 서울R&D캠퍼스에서 '삼성 AI 포럼 2023' 2일차 일정을 진행하며 자체 개발한 생성형 AI '삼성 가우스'를 공개했다. 삼성전자가 자체 개발한 생성형 인공지능(AI) 모델 '삼성 가우스'(Samsung Gauss)가 최초로 공개했다. 삼성전자는 삼성 가우스를 활용해 임직원의 업무 생산성을 높이는 한편, 생성형 AI 모델을 단계적으로 제품에 탑재해 새로운 사용자 경험을 제공한다는 계획이다. 삼성전자는 7일 경기 수원컨벤션센터에서 ‘더 나은 내일을 위한 초거대 인공지능(AI)’을 주제로 ‘삼성 AI 포럼 2023’을 열었다. AI 추천 뉴스 팝업 닫기 한국경제TV KED Global 한국경제매거진 한경에이셀 한경arte TV 한경 arte 필하모닉 BOOK 한경아카데미 한경블루애드 텐아시아 생글생글 주니어 생글생글 TESAT 29초영화제 교육센터 블루밍비트 키즈맘 포천힐스\"),\n",
       "  Document(metadata={'source': 'https://www.etnews.com/20241121000278'}, page_content=\"삼성전자가 자체 개발한 생성형 인공지능(AI) 모델 '삼성 가우스2(Samsung Gauss2)'를 공개했다. 전작(가우스1)과 달리 여러 데이터를 동시 처리할 수 있는\")]}"
      ]
     },
     "execution_count": 240,
     "metadata": {},
     "output_type": "execute_result"
    }
   ],
   "source": [
    "web_search(state)"
   ]
  },
  {
   "cell_type": "markdown",
   "metadata": {},
   "source": [
    "### 질문 라우팅 노드"
   ]
  },
  {
   "cell_type": "code",
   "execution_count": 241,
   "metadata": {},
   "outputs": [],
   "source": [
    "# 질문 라우팅 노드\n",
    "def route_question(state: GraphState):\n",
    "    print('\\n==========================================================================================')\n",
    "    print('===== [ROUTE QUESTION] route_question() 함수 =====')\n",
    "\n",
    "    # 사용자 질문\n",
    "    question = state['question']\n",
    "\n",
    "    # 질문 라우팅\n",
    "    source = question_router.invoke({'question': question})\n",
    "\n",
    "    if source.datasource == \"web_search\":\n",
    "        print(\"==== [ROUTE QUESTION TO WEB SEARCH] ====\")\n",
    "        print('==========================================================================================\\n')\n",
    "        return \"web_search\"\n",
    "    elif source.datasource == \"vectorstore\":\n",
    "        print(\"==== [ROUTE QUESTION TO VECTORSTORE] ====\")\n",
    "        print('==========================================================================================\\n')\n",
    "        return \"vectorstore\""
   ]
  },
  {
   "cell_type": "code",
   "execution_count": 242,
   "metadata": {},
   "outputs": [
    {
     "name": "stdout",
     "output_type": "stream",
     "text": [
      "\n",
      "==========================================================================================\n",
      "===== [ROUTE QUESTION] route_question() 함수 =====\n",
      "==== [ROUTE QUESTION TO VECTORSTORE] ====\n",
      "==========================================================================================\n",
      "\n"
     ]
    },
    {
     "data": {
      "text/plain": [
       "'vectorstore'"
      ]
     },
     "execution_count": 242,
     "metadata": {},
     "output_type": "execute_result"
    }
   ],
   "source": [
    "route_question(state)"
   ]
  },
  {
   "cell_type": "code",
   "execution_count": 243,
   "metadata": {},
   "outputs": [],
   "source": [
    "# 문서 관련성 평가 노드\n",
    "def decide_to_generate(state: GraphState):\n",
    "    print('\\n==========================================================================================')\n",
    "    print('===== [DECISION TO GENERATE] decide_to_generate() 함수 =====')\n",
    "\n",
    "    # 문서 검색 결과 가져오기\n",
    "    filtered_documents = state['documents']\n",
    "\n",
    "    if not filtered_documents:                              # 문서가 없는 경우 (모든 문서가 관련성 없는 문서)\n",
    "        print(f'===== [DECISION: ALL DOCUMENTS ARE NOT RELEVANT TO QUESTION, TRANSFORM QUERY] =====')\n",
    "        print('==========================================================================================\\n')\n",
    "        return \"transform_query\"        \n",
    "    else:                                                   # 관련성 있는 문서가 있는 경우\n",
    "        print(f\"===== [DECISION: GENERATE] =====\")\n",
    "        print('==========================================================================================\\n')\n",
    "        return \"generate\""
   ]
  },
  {
   "cell_type": "code",
   "execution_count": 244,
   "metadata": {},
   "outputs": [
    {
     "name": "stdout",
     "output_type": "stream",
     "text": [
      "\n",
      "==========================================================================================\n",
      "===== [DECISION TO GENERATE] decide_to_generate() 함수 =====\n",
      "===== [DECISION: GENERATE] =====\n",
      "==========================================================================================\n",
      "\n"
     ]
    },
    {
     "data": {
      "text/plain": [
       "'generate'"
      ]
     },
     "execution_count": 244,
     "metadata": {},
     "output_type": "execute_result"
    }
   ],
   "source": [
    "decide_to_generate(state)"
   ]
  },
  {
   "cell_type": "code",
   "execution_count": 245,
   "metadata": {},
   "outputs": [],
   "source": [
    "class GradeAnswer(BaseModel):\n",
    "    \"\"\"Binary scoring to evaluate the appropriateness of answers to questions\"\"\"\n",
    "\n",
    "    binary_score: str = Field(\n",
    "        description=\"Indicate 'yes' or 'no' whether the answer solves the question\"\n",
    "    )\n",
    "\n",
    "llm = ChatOpenAI(\n",
    "    api_key=key, \n",
    "    model='gpt-4o-mini', \n",
    "    temperature=0\n",
    ")\n",
    "\n",
    "structured_llm_grader = llm.with_structured_output(GradeAnswer)\n",
    "\n",
    "# system\n",
    "system = \"\"\"You are a grader assessing whether an answer addresses / resolves a question \\n \n",
    "     Give a binary score 'yes' or 'no'. Yes' means that the answer resolves the question.\"\"\"\n",
    "\n",
    "# 프롬프트 템플릿\n",
    "answer_prompt = ChatPromptTemplate.from_messages(\n",
    "    [\n",
    "        (\"system\", system),\n",
    "        (\"human\", \"User question: \\n\\n {question} \\n\\n LLM generation: {generation}\"),\n",
    "    ]\n",
    ")\n",
    "\n",
    "# 프롬프트 템플릿과 구조화된 LLM 평가기를 결합하여 답변 평가기 생성\n",
    "answer_grader = answer_prompt | structured_llm_grader"
   ]
  },
  {
   "cell_type": "code",
   "execution_count": 246,
   "metadata": {},
   "outputs": [
    {
     "data": {
      "text/plain": [
       "GradeAnswer(binary_score='yes')"
      ]
     },
     "execution_count": 246,
     "metadata": {},
     "output_type": "execute_result"
    }
   ],
   "source": [
    "answer_grader.invoke({'question': state['question'], 'generation': generation})"
   ]
  },
  {
   "cell_type": "code",
   "execution_count": 247,
   "metadata": {},
   "outputs": [],
   "source": [
    "# Hallucination 평가 노드\n",
    "def hallucination_check(state: GraphState):\n",
    "    print('\\n==========================================================================================')\n",
    "    print('===== [CHECK hallucination] hallucination_check() 함수 =====')\n",
    "\n",
    "    # 사용자 질문\n",
    "    qestion = state['question']\n",
    "\n",
    "    # 문서 검색 결과\n",
    "    documents = state['documents']\n",
    "\n",
    "    # 생성된 답변\n",
    "    generation = state['generation']\n",
    "\n",
    "    # 평가\n",
    "    score = hallucination_grader.invoke({'documents': documents, 'generation': generation})\n",
    "    grade = score.binary_score\n",
    "\n",
    "    print(f\"===== [평가 결과] =====\")\n",
    "    print(grade)\n",
    "\n",
    "    if grade == 'yes':     # hallucination 없음\n",
    "        print(\"===== [DECISION: GENERATION IS GROUNDED IN DOCUMENTS] =====\")\n",
    "        print(\"no hallucination\")\n",
    "\n",
    "        # 답변에 대한 관련성 평가\n",
    "        print(\"===== [GRADE GENERATED ANSWER vs QUESTION] =====\")\n",
    "\n",
    "        score = answer_grader.invoke({'question': state['question'], 'generation': generation})\n",
    "        grade = score.binary_score\n",
    "\n",
    "        if grade == 'yes':          # 관련성 있는 답변\n",
    "            print(\"==== [DECISION: GENERATED ANSWER ADDRESSES QUESTION] ====\")\n",
    "            print(\"relevant\")\n",
    "            print('==========================================================================================\\n')\n",
    "            return \"relevant\"\n",
    "        else:                       # 관련성 없는 답변\n",
    "            print(\"==== [DECISION: GENERATED ANSWER DOES NOT ADDRESS QUESTION] ====\")\n",
    "            print(\"not relevant\")\n",
    "            print('==========================================================================================\\n')\n",
    "            return \"not relevant\"\n",
    "\n",
    "    else:                   # hallucination 있음\n",
    "        print(\"===== [DECISION: GENERATION IS NOT GROUNDED IN DOCUMENTS, RE-TRY] =====\")\n",
    "        print(\"hallucination\")\n",
    "        print('==========================================================================================\\n')\n",
    "        return \"hallucination\""
   ]
  },
  {
   "cell_type": "code",
   "execution_count": 248,
   "metadata": {},
   "outputs": [
    {
     "name": "stdout",
     "output_type": "stream",
     "text": [
      "\n",
      "==========================================================================================\n",
      "===== [CHECK hallucination] hallucination_check() 함수 =====\n",
      "===== [평가 결과] =====\n",
      "yes\n",
      "===== [DECISION: GENERATION IS GROUNDED IN DOCUMENTS] =====\n",
      "no hallucination\n",
      "===== [GRADE GENERATED ANSWER vs QUESTION] =====\n",
      "==== [DECISION: GENERATED ANSWER ADDRESSES QUESTION] ====\n",
      "relevant\n",
      "==========================================================================================\n",
      "\n"
     ]
    },
    {
     "data": {
      "text/plain": [
       "'relevant'"
      ]
     },
     "execution_count": 248,
     "metadata": {},
     "output_type": "execute_result"
    }
   ],
   "source": [
    "hallucination_check(state)"
   ]
  },
  {
   "cell_type": "code",
   "execution_count": 249,
   "metadata": {},
   "outputs": [],
   "source": [
    "from langgraph.graph import StateGraph, END, START\n",
    "from langgraph.checkpoint.memory import MemorySaver\n",
    "from langchain_teddynote.graphs import visualize_graph"
   ]
  },
  {
   "cell_type": "code",
   "execution_count": 250,
   "metadata": {},
   "outputs": [],
   "source": [
    "######### 1. 그래프 생성 #########\n",
    "\n",
    "workflow = StateGraph(GraphState)"
   ]
  },
  {
   "cell_type": "code",
   "execution_count": 251,
   "metadata": {},
   "outputs": [
    {
     "data": {
      "text/plain": [
       "<langgraph.graph.state.StateGraph at 0x1e7e928d850>"
      ]
     },
     "execution_count": 251,
     "metadata": {},
     "output_type": "execute_result"
    }
   ],
   "source": [
    "######### 2. 노드 정의  #########\n",
    "\n",
    "workflow.add_node('web_search', web_search)                 # 웹 검색  \n",
    "workflow.add_node('retrieve', retrieve)                     # 문서 검색 노드\n",
    "workflow.add_node('grade_documents', grade_documents)       # 문서 검색으로 가져온 결과와 사용자 질문의 관련성을 평가하는 노드\n",
    "workflow.add_node('generate', generate)                     # 사용자 질문과 문서 검색결과를 가지고 답변 생성하는 노드\n",
    "workflow.add_node('transform_query', transform_query)       # 사용자 질문(쿼리)를 재작성하는 노드"
   ]
  },
  {
   "cell_type": "code",
   "execution_count": 252,
   "metadata": {},
   "outputs": [
    {
     "data": {
      "text/plain": [
       "<langgraph.graph.state.StateGraph at 0x1e7e928d850>"
      ]
     },
     "execution_count": 252,
     "metadata": {},
     "output_type": "execute_result"
    }
   ],
   "source": [
    "######### 3. 그래프 엣지(Edge) 추가  #########\n",
    "\n",
    "workflow.add_conditional_edges(\n",
    "    START, \n",
    "    route_question,                     # 질문 라우팅 노드  \n",
    "    {\n",
    "        'web_search': 'web_search',     # 웹 검색으로 라우팅\n",
    "        'vectorstore': 'retrieve'       # retrieve (PDF 문서 검색)로 라우팅\n",
    "    }\n",
    ")"
   ]
  },
  {
   "cell_type": "code",
   "execution_count": 253,
   "metadata": {},
   "outputs": [
    {
     "data": {
      "text/plain": [
       "<langgraph.graph.state.StateGraph at 0x1e7e928d850>"
      ]
     },
     "execution_count": 253,
     "metadata": {},
     "output_type": "execute_result"
    }
   ],
   "source": [
    "workflow.add_edge('web_search', 'generate')         # 웹 검색하고 답변 생성\n",
    "workflow.add_edge('retrieve', 'grade_documents')    # retrieve 노드에서 PDF 문서 검색실행 하고 결과를 문서 검색 평가기로 가서 평가"
   ]
  },
  {
   "cell_type": "code",
   "execution_count": 254,
   "metadata": {},
   "outputs": [
    {
     "data": {
      "text/plain": [
       "<langgraph.graph.state.StateGraph at 0x1e7e928d850>"
      ]
     },
     "execution_count": 254,
     "metadata": {},
     "output_type": "execute_result"
    }
   ],
   "source": [
    "workflow.add_conditional_edges(\n",
    "    'grade_documents',                              # 문서 검색으로 가져온 결과와 사용자 질문의 관련성을 평가하는 노드\n",
    "    decide_to_generate,                             # 문서 관련성 평가\n",
    "    {\n",
    "        'transform_query': 'transform_query',       # 사용자 입력 다시 작성 필요\n",
    "        'generate': 'generate'                      # 답변 생성\n",
    "    }\n",
    ")"
   ]
  },
  {
   "cell_type": "code",
   "execution_count": 255,
   "metadata": {},
   "outputs": [
    {
     "data": {
      "text/plain": [
       "<langgraph.graph.state.StateGraph at 0x1e7e928d850>"
      ]
     },
     "execution_count": 255,
     "metadata": {},
     "output_type": "execute_result"
    }
   ],
   "source": [
    "workflow.add_edge('transform_query', 'retrieve')    # 쿼리 다시 작성한 뒤 문서 검색"
   ]
  },
  {
   "cell_type": "code",
   "execution_count": 256,
   "metadata": {},
   "outputs": [
    {
     "data": {
      "text/plain": [
       "<langgraph.graph.state.StateGraph at 0x1e7e928d850>"
      ]
     },
     "execution_count": 256,
     "metadata": {},
     "output_type": "execute_result"
    }
   ],
   "source": [
    "workflow.add_conditional_edges(\n",
    "    'generate',\n",
    "    hallucination_check,\n",
    "    {\n",
    "        'hallucination': 'generate',                # Hallucination 발생 시 재생성\n",
    "        'relevant': END,                            # 답변 관련성 통과     \n",
    "        'not relevant': 'transform_query'           # 딥변 관련성 통과 못하는 경우. 쿼리 다시 작성\n",
    "    }\n",
    ")"
   ]
  },
  {
   "cell_type": "code",
   "execution_count": 257,
   "metadata": {},
   "outputs": [],
   "source": [
    "######### 4. 체크 포인터 설정  #########\n",
    "\n",
    "memory = MemorySaver()"
   ]
  },
  {
   "cell_type": "code",
   "execution_count": 258,
   "metadata": {},
   "outputs": [],
   "source": [
    "######### 5. 그래프 컴파일(compile)  #########\n",
    "\n",
    "app = workflow.compile(checkpointer=memory)"
   ]
  },
  {
   "cell_type": "code",
   "execution_count": 259,
   "metadata": {},
   "outputs": [
    {
     "data": {
      "image/png": "[encoded data removed]",
      "text/plain": [
       "<IPython.core.display.Image object>"
      ]
     },
     "metadata": {},
     "output_type": "display_data"
    }
   ],
   "source": [
    "visualize_graph(app)"
   ]
  },
  {
   "cell_type": "code",
   "execution_count": 260,
   "metadata": {},
   "outputs": [],
   "source": [
    "from langchain_core.runnables import RunnableConfig\n",
    "from langchain_teddynote.messages import invoke_graph, stream_graph, random_uuid"
   ]
  },
  {
   "cell_type": "code",
   "execution_count": 261,
   "metadata": {},
   "outputs": [
    {
     "name": "stdout",
     "output_type": "stream",
     "text": [
      "\n",
      "==========================================================================================\n",
      "===== [ROUTE QUESTION] route_question() 함수 =====\n",
      "==== [ROUTE QUESTION TO VECTORSTORE] ====\n",
      "==========================================================================================\n",
      "\n",
      "\n",
      "==========================================================================================\n",
      "===== [RETRIEVE] retieve() 노드 실행 =====\n",
      "문서 검색 결과: \n",
      "[Document(id='9914ced1-730f-451a-8472-eda20b320389', metadata={'source': 'data/SPRI_AI_Brief_2023년12월호_F.pdf', 'file_path': 'data/SPRI_AI_Brief_2023년12월호_F.pdf', 'page': 12, 'total_pages': 23, 'Author': 'dj', 'Creator': 'Hwp 2018 10.0.0.13462', 'Producer': 'Hancom PDF 1.3.0.542', 'CreationDate': \"D:20231208132838+09'00'\", 'ModDate': \"D:20231208132838+09'00'\", 'PDFVersion': '1.4'}, page_content='SPRi AI Brief |\\n2023-12월호\\n삼성전자, 자체 개발 생성 AI ‘삼성 가우스’ 공개\\nKEY Contents\\nn 삼성전자가 온디바이스에서 작동 가능하며 언어, 코드, 이미지의 3개 모델로 구성된 자체 개발 생성\\nAI 모델 ‘삼성 가우스’를 공개\\nn 삼성전자는 삼성 가우스를 다양한 제품에 단계적으로 탑재할 계획으로, 온디바이스 작동이 가능한\\n삼성 가우스는 외부로 사용자 정보가 유출될 위험이 없다는 장점을 보유\\n£언어, 코드, 이미지의 3개 모델로 구성된 삼성 가우스, 온디바이스 작동 지원'), Document(id='083d7b17-a8ea-4f04-8e9b-1043b25af5a6', metadata={'source': 'data/SPRI_AI_Brief_2023년12월호_F.pdf', 'file_path': 'data/SPRI_AI_Brief_2023년12월호_F.pdf', 'page': 1, 'total_pages': 23, 'Author': 'dj', 'Creator': 'Hwp 2018 10.0.0.13462', 'Producer': 'Hancom PDF 1.3.0.542', 'CreationDate': \"D:20231208132838+09'00'\", 'ModDate': \"D:20231208132838+09'00'\", 'PDFVersion': '1.4'}, page_content='▹ 삼성전자, 자체 개발 생성 AI ‘삼성 가우스’ 공개 ···························································10\\n▹ 구글, 앤스로픽에 20억 달러 투자로 생성 AI 협력 강화 ················································11\\n▹ IDC, 2027년 AI 소프트웨어 매출 2,500억 달러 돌파 전망···········································12'), Document(id='777f6157-254f-4386-8b9d-cb6f6b0cdb99', metadata={'source': 'data/SPRI_AI_Brief_2023년12월호_F.pdf', 'file_path': 'data/SPRI_AI_Brief_2023년12월호_F.pdf', 'page': 12, 'total_pages': 23, 'Author': 'dj', 'Creator': 'Hwp 2018 10.0.0.13462', 'Producer': 'Hancom PDF 1.3.0.542', 'CreationDate': \"D:20231208132838+09'00'\", 'ModDate': \"D:20231208132838+09'00'\", 'PDFVersion': '1.4'}, page_content='£언어, 코드, 이미지의 3개 모델로 구성된 삼성 가우스, 온디바이스 작동 지원\\nn 삼성전자가 2023년 11월 8일 열린 ‘삼성 AI 포럼 2023’ 행사에서 자체 개발한 생성 AI 모델\\n‘삼성 가우스’를 최초 공개\\n∙ 정규분포 이론을 정립한 천재 수학자 가우스(Gauss)의 이름을 본뜬 삼성 가우스는 다양한 상황에\\n최적화된 크기의 모델 선택이 가능\\n∙ 삼성 가우스는 라이선스나 개인정보를 침해하지 않는 안전한 데이터를 통해 학습되었으며,\\n온디바이스에서 작동하도록 설계되어 외부로 사용자의 정보가 유출되지 않는 장점을 보유'), Document(id='b1ae4676-7a2e-40db-81f7-5f01bb4fe361', metadata={'source': 'data/SPRI_AI_Brief_2023년12월호_F.pdf', 'file_path': 'data/SPRI_AI_Brief_2023년12월호_F.pdf', 'page': 12, 'total_pages': 23, 'Author': 'dj', 'Creator': 'Hwp 2018 10.0.0.13462', 'Producer': 'Hancom PDF 1.3.0.542', 'CreationDate': \"D:20231208132838+09'00'\", 'ModDate': \"D:20231208132838+09'00'\", 'PDFVersion': '1.4'}, page_content='어시스턴트를 적용한 구글 픽셀(Pixel)과 경쟁할 것으로 예상\\n☞ 출처 : 삼성전자, ‘삼성 AI 포럼’서 자체 개발 생성형 AI ‘삼성 가우스’ 공개, 2023.11.08.\\n삼성전자, ‘삼성 개발자 콘퍼런스 코리아 2023’ 개최, 2023.11.14.\\nTechRepublic, Samsung Gauss: Samsung Research Reveals Generative AI, 2023.11.08.\\n10'), Document(id='34140545-e75c-4b43-8b6e-9bc08fc84a0e', metadata={'source': 'data/SPRI_AI_Brief_2023년12월호_F.pdf', 'file_path': 'data/SPRI_AI_Brief_2023년12월호_F.pdf', 'page': 18, 'total_pages': 23, 'Author': 'dj', 'Creator': 'Hwp 2018 10.0.0.13462', 'Producer': 'Hancom PDF 1.3.0.542', 'CreationDate': \"D:20231208132838+09'00'\", 'ModDate': \"D:20231208132838+09'00'\", 'PDFVersion': '1.4'}, page_content='<구글 딥마인드의 범용 AI 분류 프레임워크>\\n성능 특수 AI 예시 범용 AI 예시\\n0단계: AI 아님 계산기 소프트웨어, 컴파일러 아마존 메커니컬 터크\\n1단계: 신진(숙련되지 않은 인간) GOFAI(Good Old Fashioned Artificial Intelligence) 챗GPT, 바드, 라마2\\n스마트 스피커(애플 시리, 아마존 알렉사, 구글\\n2단계: 유능(숙련된 인간의 50% 이상) 미달성\\n어시스턴트), IBM 왓슨\\n3단계: 전문가(숙련된 인간의 90% 이상) 문법 교정기(그래머리), 생성 이미지 모델(달리2) 미달성'), Document(id='c5d2bce3-198e-42a4-a419-abd8ed2f0d23', metadata={'source': 'data/SPRI_AI_Brief_2023년12월호_F.pdf', 'file_path': 'data/SPRI_AI_Brief_2023년12월호_F.pdf', 'page': 12, 'total_pages': 23, 'Author': 'dj', 'Creator': 'Hwp 2018 10.0.0.13462', 'Producer': 'Hancom PDF 1.3.0.542', 'CreationDate': \"D:20231208132838+09'00'\", 'ModDate': \"D:20231208132838+09'00'\", 'PDFVersion': '1.4'}, page_content='처리를 지원\\n∙ 코드 모델 기반의 AI 코딩 어시스턴트 ‘코드아이(code.i)’는 대화형 인터페이스로 서비스를 제공하며\\n사내 소프트웨어 개발에 최적화\\n∙ 이미지 모델은 창의적인 이미지를 생성하고 기존 이미지를 원하는 대로 바꿀 수 있도록 지원하며\\n저해상도 이미지의 고해상도 전환도 지원\\nn IT 전문지 테크리퍼블릭(TechRepublic)은 온디바이스 AI가 주요 기술 트렌드로 부상했다며,\\n2024년부터 가우스를 탑재한 삼성 스마트폰이 메타의 라마(Llama)2를 탑재한 퀄컴 기기 및 구글'), Document(id='197590be-25f2-4491-a220-2fe8dff183df', metadata={'source': 'data/SPRI_AI_Brief_2023년12월호_F.pdf', 'file_path': 'data/SPRI_AI_Brief_2023년12월호_F.pdf', 'page': 12, 'total_pages': 23, 'Author': 'dj', 'Creator': 'Hwp 2018 10.0.0.13462', 'Producer': 'Hancom PDF 1.3.0.542', 'CreationDate': \"D:20231208132838+09'00'\", 'ModDate': \"D:20231208132838+09'00'\", 'PDFVersion': '1.4'}, page_content='온디바이스에서 작동하도록 설계되어 외부로 사용자의 정보가 유출되지 않는 장점을 보유\\n∙ 삼성전자는 삼성 가우스를 활용한 온디바이스 AI 기술도 소개했으며, 생성 AI 모델을 다양한 제품에\\n단계적으로 탑재할 계획\\nn 삼성 가우스는 △텍스트를 생성하는 언어모델 △코드를 생성하는 코드 모델 △이미지를 생성하는\\n이미지 모델의 3개 모델로 구성\\n∙ 언어 모델은 클라우드와 온디바이스 대상 다양한 모델로 구성되며, 메일 작성, 문서 요약, 번역 업무의\\n처리를 지원'), Document(id='6ae8e820-5e92-41fc-8369-5aa43f7933c3', metadata={'source': 'data/SPRI_AI_Brief_2023년12월호_F.pdf', 'file_path': 'data/SPRI_AI_Brief_2023년12월호_F.pdf', 'page': 11, 'total_pages': 23, 'Author': 'dj', 'Creator': 'Hwp 2018 10.0.0.13462', 'Producer': 'Hancom PDF 1.3.0.542', 'CreationDate': \"D:20231208132838+09'00'\", 'ModDate': \"D:20231208132838+09'00'\", 'PDFVersion': '1.4'}, page_content='제작을 포함\\nn 알리바바 클라우드는 급증하는 생성 AI 수요에 대응해 모델 개발과 애플리케이션 구축 절차를\\n간소화하는 올인원 AI 모델 구축 플랫폼 ‘젠AI(GenAI)’도 공개\\n∙ 이 플랫폼은 데이터 관리, 모델 배포와 평가, 신속한 엔지니어링을 위한 종합 도구 모음을 제공하여\\n다양한 기업들이 맞춤형 AI 모델을 한층 쉽게 개발할 수 있도록 지원\\n∙ 생성 AI 개발에 필요한 컴퓨팅과 데이터 처리 요구사항을 지원하기 위해 AI 플랫폼(PAI),\\n데이터베이스 솔루션, 컨테이너 서비스와 같은 클라우드 신제품도 발표'), Document(id='8a6da548-7ee1-48b0-9513-ecb9687cdd77', metadata={'source': 'data/SPRI_AI_Brief_2023년12월호_F.pdf', 'file_path': 'data/SPRI_AI_Brief_2023년12월호_F.pdf', 'page': 1, 'total_pages': 23, 'Author': 'dj', 'Creator': 'Hwp 2018 10.0.0.13462', 'Producer': 'Hancom PDF 1.3.0.542', 'CreationDate': \"D:20231208132838+09'00'\", 'ModDate': \"D:20231208132838+09'00'\", 'PDFVersion': '1.4'}, page_content='▹ 빌 게이츠, AI 에이전트로 인한 컴퓨터 사용의 패러다임 변화 전망································13\\n▹ 유튜브, 2024년부터 AI 생성 콘텐츠 표시 의무화····························································14\\n3. 기술/연구\\n▹ 영국 과학혁신기술부, AI 안전 연구소 설립 발표······························································15'), Document(id='bc3faa67-84b8-4821-9ca4-f80a5d56af91', metadata={'source': 'data/SPRI_AI_Brief_2023년12월호_F.pdf', 'file_path': 'data/SPRI_AI_Brief_2023년12월호_F.pdf', 'page': 18, 'total_pages': 23, 'Author': 'dj', 'Creator': 'Hwp 2018 10.0.0.13462', 'Producer': 'Hancom PDF 1.3.0.542', 'CreationDate': \"D:20231208132838+09'00'\", 'ModDate': \"D:20231208132838+09'00'\", 'PDFVersion': '1.4'}, page_content='£챗GPT와 구글 바드와 같은 AI 챗봇은 범용 AI 1단계 수준\\nn 구글 딥마인드 연구진은 2023년 11월 4일 범용 AI(Artificial General Intelligence, AGI) 모델을 용도와\\n성능에 따라 분류하는 프레임워크를 제시한 논문을 발표\\n∙ 프레임워크의 목적은 AGI의 성능, 범용성, 자율성 수준을 정의하여 모델 간 비교와 위험 평가, AGI\\n달성까지의 진행 상황을 측정할 수 있는 공통 기준을 제공하기 위함\\nn 연구진은 AGI 개념 정의에 필요한 기준을 수립하기 위한 6가지 원칙을 아래와 같이 도출')]\n",
      "==========================================================================================\n",
      "\n",
      "[node_name]: retrieve\n",
      "[node_chunk]:\n",
      " {'documents': [Document(id='9914ced1-730f-451a-8472-eda20b320389', metadata={'source': 'data/SPRI_AI_Brief_2023년12월호_F.pdf', 'file_path': 'data/SPRI_AI_Brief_2023년12월호_F.pdf', 'page': 12, 'total_pages': 23, 'Author': 'dj', 'Creator': 'Hwp 2018 10.0.0.13462', 'Producer': 'Hancom PDF 1.3.0.542', 'CreationDate': \"D:20231208132838+09'00'\", 'ModDate': \"D:20231208132838+09'00'\", 'PDFVersion': '1.4'}, page_content='SPRi AI Brief |\\n2023-12월호\\n삼성전자, 자체 개발 생성 AI ‘삼성 가우스’ 공개\\nKEY Contents\\nn 삼성전자가 온디바이스에서 작동 가능하며 언어, 코드, 이미지의 3개 모델로 구성된 자체 개발 생성\\nAI 모델 ‘삼성 가우스’를 공개\\nn 삼성전자는 삼성 가우스를 다양한 제품에 단계적으로 탑재할 계획으로, 온디바이스 작동이 가능한\\n삼성 가우스는 외부로 사용자 정보가 유출될 위험이 없다는 장점을 보유\\n£언어, 코드, 이미지의 3개 모델로 구성된 삼성 가우스, 온디바이스 작동 지원'), Document(id='083d7b17-a8ea-4f04-8e9b-1043b25af5a6', metadata={'source': 'data/SPRI_AI_Brief_2023년12월호_F.pdf', 'file_path': 'data/SPRI_AI_Brief_2023년12월호_F.pdf', 'page': 1, 'total_pages': 23, 'Author': 'dj', 'Creator': 'Hwp 2018 10.0.0.13462', 'Producer': 'Hancom PDF 1.3.0.542', 'CreationDate': \"D:20231208132838+09'00'\", 'ModDate': \"D:20231208132838+09'00'\", 'PDFVersion': '1.4'}, page_content='▹ 삼성전자, 자체 개발 생성 AI ‘삼성 가우스’ 공개 ···························································10\\n▹ 구글, 앤스로픽에 20억 달러 투자로 생성 AI 협력 강화 ················································11\\n▹ IDC, 2027년 AI 소프트웨어 매출 2,500억 달러 돌파 전망···········································12'), Document(id='777f6157-254f-4386-8b9d-cb6f6b0cdb99', metadata={'source': 'data/SPRI_AI_Brief_2023년12월호_F.pdf', 'file_path': 'data/SPRI_AI_Brief_2023년12월호_F.pdf', 'page': 12, 'total_pages': 23, 'Author': 'dj', 'Creator': 'Hwp 2018 10.0.0.13462', 'Producer': 'Hancom PDF 1.3.0.542', 'CreationDate': \"D:20231208132838+09'00'\", 'ModDate': \"D:20231208132838+09'00'\", 'PDFVersion': '1.4'}, page_content='£언어, 코드, 이미지의 3개 모델로 구성된 삼성 가우스, 온디바이스 작동 지원\\nn 삼성전자가 2023년 11월 8일 열린 ‘삼성 AI 포럼 2023’ 행사에서 자체 개발한 생성 AI 모델\\n‘삼성 가우스’를 최초 공개\\n∙ 정규분포 이론을 정립한 천재 수학자 가우스(Gauss)의 이름을 본뜬 삼성 가우스는 다양한 상황에\\n최적화된 크기의 모델 선택이 가능\\n∙ 삼성 가우스는 라이선스나 개인정보를 침해하지 않는 안전한 데이터를 통해 학습되었으며,\\n온디바이스에서 작동하도록 설계되어 외부로 사용자의 정보가 유출되지 않는 장점을 보유'), Document(id='b1ae4676-7a2e-40db-81f7-5f01bb4fe361', metadata={'source': 'data/SPRI_AI_Brief_2023년12월호_F.pdf', 'file_path': 'data/SPRI_AI_Brief_2023년12월호_F.pdf', 'page': 12, 'total_pages': 23, 'Author': 'dj', 'Creator': 'Hwp 2018 10.0.0.13462', 'Producer': 'Hancom PDF 1.3.0.542', 'CreationDate': \"D:20231208132838+09'00'\", 'ModDate': \"D:20231208132838+09'00'\", 'PDFVersion': '1.4'}, page_content='어시스턴트를 적용한 구글 픽셀(Pixel)과 경쟁할 것으로 예상\\n☞ 출처 : 삼성전자, ‘삼성 AI 포럼’서 자체 개발 생성형 AI ‘삼성 가우스’ 공개, 2023.11.08.\\n삼성전자, ‘삼성 개발자 콘퍼런스 코리아 2023’ 개최, 2023.11.14.\\nTechRepublic, Samsung Gauss: Samsung Research Reveals Generative AI, 2023.11.08.\\n10'), Document(id='34140545-e75c-4b43-8b6e-9bc08fc84a0e', metadata={'source': 'data/SPRI_AI_Brief_2023년12월호_F.pdf', 'file_path': 'data/SPRI_AI_Brief_2023년12월호_F.pdf', 'page': 18, 'total_pages': 23, 'Author': 'dj', 'Creator': 'Hwp 2018 10.0.0.13462', 'Producer': 'Hancom PDF 1.3.0.542', 'CreationDate': \"D:20231208132838+09'00'\", 'ModDate': \"D:20231208132838+09'00'\", 'PDFVersion': '1.4'}, page_content='<구글 딥마인드의 범용 AI 분류 프레임워크>\\n성능 특수 AI 예시 범용 AI 예시\\n0단계: AI 아님 계산기 소프트웨어, 컴파일러 아마존 메커니컬 터크\\n1단계: 신진(숙련되지 않은 인간) GOFAI(Good Old Fashioned Artificial Intelligence) 챗GPT, 바드, 라마2\\n스마트 스피커(애플 시리, 아마존 알렉사, 구글\\n2단계: 유능(숙련된 인간의 50% 이상) 미달성\\n어시스턴트), IBM 왓슨\\n3단계: 전문가(숙련된 인간의 90% 이상) 문법 교정기(그래머리), 생성 이미지 모델(달리2) 미달성'), Document(id='c5d2bce3-198e-42a4-a419-abd8ed2f0d23', metadata={'source': 'data/SPRI_AI_Brief_2023년12월호_F.pdf', 'file_path': 'data/SPRI_AI_Brief_2023년12월호_F.pdf', 'page': 12, 'total_pages': 23, 'Author': 'dj', 'Creator': 'Hwp 2018 10.0.0.13462', 'Producer': 'Hancom PDF 1.3.0.542', 'CreationDate': \"D:20231208132838+09'00'\", 'ModDate': \"D:20231208132838+09'00'\", 'PDFVersion': '1.4'}, page_content='처리를 지원\\n∙ 코드 모델 기반의 AI 코딩 어시스턴트 ‘코드아이(code.i)’는 대화형 인터페이스로 서비스를 제공하며\\n사내 소프트웨어 개발에 최적화\\n∙ 이미지 모델은 창의적인 이미지를 생성하고 기존 이미지를 원하는 대로 바꿀 수 있도록 지원하며\\n저해상도 이미지의 고해상도 전환도 지원\\nn IT 전문지 테크리퍼블릭(TechRepublic)은 온디바이스 AI가 주요 기술 트렌드로 부상했다며,\\n2024년부터 가우스를 탑재한 삼성 스마트폰이 메타의 라마(Llama)2를 탑재한 퀄컴 기기 및 구글'), Document(id='197590be-25f2-4491-a220-2fe8dff183df', metadata={'source': 'data/SPRI_AI_Brief_2023년12월호_F.pdf', 'file_path': 'data/SPRI_AI_Brief_2023년12월호_F.pdf', 'page': 12, 'total_pages': 23, 'Author': 'dj', 'Creator': 'Hwp 2018 10.0.0.13462', 'Producer': 'Hancom PDF 1.3.0.542', 'CreationDate': \"D:20231208132838+09'00'\", 'ModDate': \"D:20231208132838+09'00'\", 'PDFVersion': '1.4'}, page_content='온디바이스에서 작동하도록 설계되어 외부로 사용자의 정보가 유출되지 않는 장점을 보유\\n∙ 삼성전자는 삼성 가우스를 활용한 온디바이스 AI 기술도 소개했으며, 생성 AI 모델을 다양한 제품에\\n단계적으로 탑재할 계획\\nn 삼성 가우스는 △텍스트를 생성하는 언어모델 △코드를 생성하는 코드 모델 △이미지를 생성하는\\n이미지 모델의 3개 모델로 구성\\n∙ 언어 모델은 클라우드와 온디바이스 대상 다양한 모델로 구성되며, 메일 작성, 문서 요약, 번역 업무의\\n처리를 지원'), Document(id='6ae8e820-5e92-41fc-8369-5aa43f7933c3', metadata={'source': 'data/SPRI_AI_Brief_2023년12월호_F.pdf', 'file_path': 'data/SPRI_AI_Brief_2023년12월호_F.pdf', 'page': 11, 'total_pages': 23, 'Author': 'dj', 'Creator': 'Hwp 2018 10.0.0.13462', 'Producer': 'Hancom PDF 1.3.0.542', 'CreationDate': \"D:20231208132838+09'00'\", 'ModDate': \"D:20231208132838+09'00'\", 'PDFVersion': '1.4'}, page_content='제작을 포함\\nn 알리바바 클라우드는 급증하는 생성 AI 수요에 대응해 모델 개발과 애플리케이션 구축 절차를\\n간소화하는 올인원 AI 모델 구축 플랫폼 ‘젠AI(GenAI)’도 공개\\n∙ 이 플랫폼은 데이터 관리, 모델 배포와 평가, 신속한 엔지니어링을 위한 종합 도구 모음을 제공하여\\n다양한 기업들이 맞춤형 AI 모델을 한층 쉽게 개발할 수 있도록 지원\\n∙ 생성 AI 개발에 필요한 컴퓨팅과 데이터 처리 요구사항을 지원하기 위해 AI 플랫폼(PAI),\\n데이터베이스 솔루션, 컨테이너 서비스와 같은 클라우드 신제품도 발표'), Document(id='8a6da548-7ee1-48b0-9513-ecb9687cdd77', metadata={'source': 'data/SPRI_AI_Brief_2023년12월호_F.pdf', 'file_path': 'data/SPRI_AI_Brief_2023년12월호_F.pdf', 'page': 1, 'total_pages': 23, 'Author': 'dj', 'Creator': 'Hwp 2018 10.0.0.13462', 'Producer': 'Hancom PDF 1.3.0.542', 'CreationDate': \"D:20231208132838+09'00'\", 'ModDate': \"D:20231208132838+09'00'\", 'PDFVersion': '1.4'}, page_content='▹ 빌 게이츠, AI 에이전트로 인한 컴퓨터 사용의 패러다임 변화 전망································13\\n▹ 유튜브, 2024년부터 AI 생성 콘텐츠 표시 의무화····························································14\\n3. 기술/연구\\n▹ 영국 과학혁신기술부, AI 안전 연구소 설립 발표······························································15'), Document(id='bc3faa67-84b8-4821-9ca4-f80a5d56af91', metadata={'source': 'data/SPRI_AI_Brief_2023년12월호_F.pdf', 'file_path': 'data/SPRI_AI_Brief_2023년12월호_F.pdf', 'page': 18, 'total_pages': 23, 'Author': 'dj', 'Creator': 'Hwp 2018 10.0.0.13462', 'Producer': 'Hancom PDF 1.3.0.542', 'CreationDate': \"D:20231208132838+09'00'\", 'ModDate': \"D:20231208132838+09'00'\", 'PDFVersion': '1.4'}, page_content='£챗GPT와 구글 바드와 같은 AI 챗봇은 범용 AI 1단계 수준\\nn 구글 딥마인드 연구진은 2023년 11월 4일 범용 AI(Artificial General Intelligence, AGI) 모델을 용도와\\n성능에 따라 분류하는 프레임워크를 제시한 논문을 발표\\n∙ 프레임워크의 목적은 AGI의 성능, 범용성, 자율성 수준을 정의하여 모델 간 비교와 위험 평가, AGI\\n달성까지의 진행 상황을 측정할 수 있는 공통 기준을 제공하기 위함\\nn 연구진은 AGI 개념 정의에 필요한 기준을 수립하기 위한 6가지 원칙을 아래와 같이 도출')]}\n",
      "\n",
      "==========================================================================================\n",
      "===== [CHECK DOCUMENT RELEVANCE TO QUESTION] grade_documents() 함수 =====\n",
      "---GRADE: DOCUMENT RELEVANT---\n",
      "---GRADE: DOCUMENT RELEVANT---\n",
      "---GRADE: DOCUMENT RELEVANT---\n",
      "---GRADE: DOCUMENT RELEVANT---\n",
      "---GRADE: DOCUMENT NOT RELEVANT---\n",
      "---GRADE: DOCUMENT RELEVANT---\n",
      "---GRADE: DOCUMENT RELEVANT---\n",
      "---GRADE: DOCUMENT NOT RELEVANT---\n",
      "---GRADE: DOCUMENT NOT RELEVANT---\n",
      "---GRADE: DOCUMENT NOT RELEVANT---\n",
      "==========================================================================================\n",
      "\n",
      "\n",
      "==========================================================================================\n",
      "===== [DECISION TO GENERATE] decide_to_generate() 함수 =====\n",
      "===== [DECISION: GENERATE] =====\n",
      "==========================================================================================\n",
      "\n",
      "[node_name]: grade_documents\n",
      "[node_chunk]:\n",
      " {'documents': [Document(id='9914ced1-730f-451a-8472-eda20b320389', metadata={'source': 'data/SPRI_AI_Brief_2023년12월호_F.pdf', 'file_path': 'data/SPRI_AI_Brief_2023년12월호_F.pdf', 'page': 12, 'total_pages': 23, 'Author': 'dj', 'Creator': 'Hwp 2018 10.0.0.13462', 'Producer': 'Hancom PDF 1.3.0.542', 'CreationDate': \"D:20231208132838+09'00'\", 'ModDate': \"D:20231208132838+09'00'\", 'PDFVersion': '1.4'}, page_content='SPRi AI Brief |\\n2023-12월호\\n삼성전자, 자체 개발 생성 AI ‘삼성 가우스’ 공개\\nKEY Contents\\nn 삼성전자가 온디바이스에서 작동 가능하며 언어, 코드, 이미지의 3개 모델로 구성된 자체 개발 생성\\nAI 모델 ‘삼성 가우스’를 공개\\nn 삼성전자는 삼성 가우스를 다양한 제품에 단계적으로 탑재할 계획으로, 온디바이스 작동이 가능한\\n삼성 가우스는 외부로 사용자 정보가 유출될 위험이 없다는 장점을 보유\\n£언어, 코드, 이미지의 3개 모델로 구성된 삼성 가우스, 온디바이스 작동 지원'), Document(id='083d7b17-a8ea-4f04-8e9b-1043b25af5a6', metadata={'source': 'data/SPRI_AI_Brief_2023년12월호_F.pdf', 'file_path': 'data/SPRI_AI_Brief_2023년12월호_F.pdf', 'page': 1, 'total_pages': 23, 'Author': 'dj', 'Creator': 'Hwp 2018 10.0.0.13462', 'Producer': 'Hancom PDF 1.3.0.542', 'CreationDate': \"D:20231208132838+09'00'\", 'ModDate': \"D:20231208132838+09'00'\", 'PDFVersion': '1.4'}, page_content='▹ 삼성전자, 자체 개발 생성 AI ‘삼성 가우스’ 공개 ···························································10\\n▹ 구글, 앤스로픽에 20억 달러 투자로 생성 AI 협력 강화 ················································11\\n▹ IDC, 2027년 AI 소프트웨어 매출 2,500억 달러 돌파 전망···········································12'), Document(id='777f6157-254f-4386-8b9d-cb6f6b0cdb99', metadata={'source': 'data/SPRI_AI_Brief_2023년12월호_F.pdf', 'file_path': 'data/SPRI_AI_Brief_2023년12월호_F.pdf', 'page': 12, 'total_pages': 23, 'Author': 'dj', 'Creator': 'Hwp 2018 10.0.0.13462', 'Producer': 'Hancom PDF 1.3.0.542', 'CreationDate': \"D:20231208132838+09'00'\", 'ModDate': \"D:20231208132838+09'00'\", 'PDFVersion': '1.4'}, page_content='£언어, 코드, 이미지의 3개 모델로 구성된 삼성 가우스, 온디바이스 작동 지원\\nn 삼성전자가 2023년 11월 8일 열린 ‘삼성 AI 포럼 2023’ 행사에서 자체 개발한 생성 AI 모델\\n‘삼성 가우스’를 최초 공개\\n∙ 정규분포 이론을 정립한 천재 수학자 가우스(Gauss)의 이름을 본뜬 삼성 가우스는 다양한 상황에\\n최적화된 크기의 모델 선택이 가능\\n∙ 삼성 가우스는 라이선스나 개인정보를 침해하지 않는 안전한 데이터를 통해 학습되었으며,\\n온디바이스에서 작동하도록 설계되어 외부로 사용자의 정보가 유출되지 않는 장점을 보유'), Document(id='b1ae4676-7a2e-40db-81f7-5f01bb4fe361', metadata={'source': 'data/SPRI_AI_Brief_2023년12월호_F.pdf', 'file_path': 'data/SPRI_AI_Brief_2023년12월호_F.pdf', 'page': 12, 'total_pages': 23, 'Author': 'dj', 'Creator': 'Hwp 2018 10.0.0.13462', 'Producer': 'Hancom PDF 1.3.0.542', 'CreationDate': \"D:20231208132838+09'00'\", 'ModDate': \"D:20231208132838+09'00'\", 'PDFVersion': '1.4'}, page_content='어시스턴트를 적용한 구글 픽셀(Pixel)과 경쟁할 것으로 예상\\n☞ 출처 : 삼성전자, ‘삼성 AI 포럼’서 자체 개발 생성형 AI ‘삼성 가우스’ 공개, 2023.11.08.\\n삼성전자, ‘삼성 개발자 콘퍼런스 코리아 2023’ 개최, 2023.11.14.\\nTechRepublic, Samsung Gauss: Samsung Research Reveals Generative AI, 2023.11.08.\\n10'), Document(id='c5d2bce3-198e-42a4-a419-abd8ed2f0d23', metadata={'source': 'data/SPRI_AI_Brief_2023년12월호_F.pdf', 'file_path': 'data/SPRI_AI_Brief_2023년12월호_F.pdf', 'page': 12, 'total_pages': 23, 'Author': 'dj', 'Creator': 'Hwp 2018 10.0.0.13462', 'Producer': 'Hancom PDF 1.3.0.542', 'CreationDate': \"D:20231208132838+09'00'\", 'ModDate': \"D:20231208132838+09'00'\", 'PDFVersion': '1.4'}, page_content='처리를 지원\\n∙ 코드 모델 기반의 AI 코딩 어시스턴트 ‘코드아이(code.i)’는 대화형 인터페이스로 서비스를 제공하며\\n사내 소프트웨어 개발에 최적화\\n∙ 이미지 모델은 창의적인 이미지를 생성하고 기존 이미지를 원하는 대로 바꿀 수 있도록 지원하며\\n저해상도 이미지의 고해상도 전환도 지원\\nn IT 전문지 테크리퍼블릭(TechRepublic)은 온디바이스 AI가 주요 기술 트렌드로 부상했다며,\\n2024년부터 가우스를 탑재한 삼성 스마트폰이 메타의 라마(Llama)2를 탑재한 퀄컴 기기 및 구글'), Document(id='197590be-25f2-4491-a220-2fe8dff183df', metadata={'source': 'data/SPRI_AI_Brief_2023년12월호_F.pdf', 'file_path': 'data/SPRI_AI_Brief_2023년12월호_F.pdf', 'page': 12, 'total_pages': 23, 'Author': 'dj', 'Creator': 'Hwp 2018 10.0.0.13462', 'Producer': 'Hancom PDF 1.3.0.542', 'CreationDate': \"D:20231208132838+09'00'\", 'ModDate': \"D:20231208132838+09'00'\", 'PDFVersion': '1.4'}, page_content='온디바이스에서 작동하도록 설계되어 외부로 사용자의 정보가 유출되지 않는 장점을 보유\\n∙ 삼성전자는 삼성 가우스를 활용한 온디바이스 AI 기술도 소개했으며, 생성 AI 모델을 다양한 제품에\\n단계적으로 탑재할 계획\\nn 삼성 가우스는 △텍스트를 생성하는 언어모델 △코드를 생성하는 코드 모델 △이미지를 생성하는\\n이미지 모델의 3개 모델로 구성\\n∙ 언어 모델은 클라우드와 온디바이스 대상 다양한 모델로 구성되며, 메일 작성, 문서 요약, 번역 업무의\\n처리를 지원')]}\n",
      "\n",
      "==========================================================================================\n",
      "===== [GENERATE] generate() 함수 =====\n",
      "사용자 질문: 삼성전자가 개발한 생성형 AI 이름은?\n",
      "문서 검색 결과:\n",
      "[Document(id='9914ced1-730f-451a-8472-eda20b320389', metadata={'source': 'data/SPRI_AI_Brief_2023년12월호_F.pdf', 'file_path': 'data/SPRI_AI_Brief_2023년12월호_F.pdf', 'page': 12, 'total_pages': 23, 'Author': 'dj', 'Creator': 'Hwp 2018 10.0.0.13462', 'Producer': 'Hancom PDF 1.3.0.542', 'CreationDate': \"D:20231208132838+09'00'\", 'ModDate': \"D:20231208132838+09'00'\", 'PDFVersion': '1.4'}, page_content='SPRi AI Brief |\\n2023-12월호\\n삼성전자, 자체 개발 생성 AI ‘삼성 가우스’ 공개\\nKEY Contents\\nn 삼성전자가 온디바이스에서 작동 가능하며 언어, 코드, 이미지의 3개 모델로 구성된 자체 개발 생성\\nAI 모델 ‘삼성 가우스’를 공개\\nn 삼성전자는 삼성 가우스를 다양한 제품에 단계적으로 탑재할 계획으로, 온디바이스 작동이 가능한\\n삼성 가우스는 외부로 사용자 정보가 유출될 위험이 없다는 장점을 보유\\n£언어, 코드, 이미지의 3개 모델로 구성된 삼성 가우스, 온디바이스 작동 지원'), Document(id='083d7b17-a8ea-4f04-8e9b-1043b25af5a6', metadata={'source': 'data/SPRI_AI_Brief_2023년12월호_F.pdf', 'file_path': 'data/SPRI_AI_Brief_2023년12월호_F.pdf', 'page': 1, 'total_pages': 23, 'Author': 'dj', 'Creator': 'Hwp 2018 10.0.0.13462', 'Producer': 'Hancom PDF 1.3.0.542', 'CreationDate': \"D:20231208132838+09'00'\", 'ModDate': \"D:20231208132838+09'00'\", 'PDFVersion': '1.4'}, page_content='▹ 삼성전자, 자체 개발 생성 AI ‘삼성 가우스’ 공개 ···························································10\\n▹ 구글, 앤스로픽에 20억 달러 투자로 생성 AI 협력 강화 ················································11\\n▹ IDC, 2027년 AI 소프트웨어 매출 2,500억 달러 돌파 전망···········································12'), Document(id='777f6157-254f-4386-8b9d-cb6f6b0cdb99', metadata={'source': 'data/SPRI_AI_Brief_2023년12월호_F.pdf', 'file_path': 'data/SPRI_AI_Brief_2023년12월호_F.pdf', 'page': 12, 'total_pages': 23, 'Author': 'dj', 'Creator': 'Hwp 2018 10.0.0.13462', 'Producer': 'Hancom PDF 1.3.0.542', 'CreationDate': \"D:20231208132838+09'00'\", 'ModDate': \"D:20231208132838+09'00'\", 'PDFVersion': '1.4'}, page_content='£언어, 코드, 이미지의 3개 모델로 구성된 삼성 가우스, 온디바이스 작동 지원\\nn 삼성전자가 2023년 11월 8일 열린 ‘삼성 AI 포럼 2023’ 행사에서 자체 개발한 생성 AI 모델\\n‘삼성 가우스’를 최초 공개\\n∙ 정규분포 이론을 정립한 천재 수학자 가우스(Gauss)의 이름을 본뜬 삼성 가우스는 다양한 상황에\\n최적화된 크기의 모델 선택이 가능\\n∙ 삼성 가우스는 라이선스나 개인정보를 침해하지 않는 안전한 데이터를 통해 학습되었으며,\\n온디바이스에서 작동하도록 설계되어 외부로 사용자의 정보가 유출되지 않는 장점을 보유'), Document(id='b1ae4676-7a2e-40db-81f7-5f01bb4fe361', metadata={'source': 'data/SPRI_AI_Brief_2023년12월호_F.pdf', 'file_path': 'data/SPRI_AI_Brief_2023년12월호_F.pdf', 'page': 12, 'total_pages': 23, 'Author': 'dj', 'Creator': 'Hwp 2018 10.0.0.13462', 'Producer': 'Hancom PDF 1.3.0.542', 'CreationDate': \"D:20231208132838+09'00'\", 'ModDate': \"D:20231208132838+09'00'\", 'PDFVersion': '1.4'}, page_content='어시스턴트를 적용한 구글 픽셀(Pixel)과 경쟁할 것으로 예상\\n☞ 출처 : 삼성전자, ‘삼성 AI 포럼’서 자체 개발 생성형 AI ‘삼성 가우스’ 공개, 2023.11.08.\\n삼성전자, ‘삼성 개발자 콘퍼런스 코리아 2023’ 개최, 2023.11.14.\\nTechRepublic, Samsung Gauss: Samsung Research Reveals Generative AI, 2023.11.08.\\n10'), Document(id='c5d2bce3-198e-42a4-a419-abd8ed2f0d23', metadata={'source': 'data/SPRI_AI_Brief_2023년12월호_F.pdf', 'file_path': 'data/SPRI_AI_Brief_2023년12월호_F.pdf', 'page': 12, 'total_pages': 23, 'Author': 'dj', 'Creator': 'Hwp 2018 10.0.0.13462', 'Producer': 'Hancom PDF 1.3.0.542', 'CreationDate': \"D:20231208132838+09'00'\", 'ModDate': \"D:20231208132838+09'00'\", 'PDFVersion': '1.4'}, page_content='처리를 지원\\n∙ 코드 모델 기반의 AI 코딩 어시스턴트 ‘코드아이(code.i)’는 대화형 인터페이스로 서비스를 제공하며\\n사내 소프트웨어 개발에 최적화\\n∙ 이미지 모델은 창의적인 이미지를 생성하고 기존 이미지를 원하는 대로 바꿀 수 있도록 지원하며\\n저해상도 이미지의 고해상도 전환도 지원\\nn IT 전문지 테크리퍼블릭(TechRepublic)은 온디바이스 AI가 주요 기술 트렌드로 부상했다며,\\n2024년부터 가우스를 탑재한 삼성 스마트폰이 메타의 라마(Llama)2를 탑재한 퀄컴 기기 및 구글'), Document(id='197590be-25f2-4491-a220-2fe8dff183df', metadata={'source': 'data/SPRI_AI_Brief_2023년12월호_F.pdf', 'file_path': 'data/SPRI_AI_Brief_2023년12월호_F.pdf', 'page': 12, 'total_pages': 23, 'Author': 'dj', 'Creator': 'Hwp 2018 10.0.0.13462', 'Producer': 'Hancom PDF 1.3.0.542', 'CreationDate': \"D:20231208132838+09'00'\", 'ModDate': \"D:20231208132838+09'00'\", 'PDFVersion': '1.4'}, page_content='온디바이스에서 작동하도록 설계되어 외부로 사용자의 정보가 유출되지 않는 장점을 보유\\n∙ 삼성전자는 삼성 가우스를 활용한 온디바이스 AI 기술도 소개했으며, 생성 AI 모델을 다양한 제품에\\n단계적으로 탑재할 계획\\nn 삼성 가우스는 △텍스트를 생성하는 언어모델 △코드를 생성하는 코드 모델 △이미지를 생성하는\\n이미지 모델의 3개 모델로 구성\\n∙ 언어 모델은 클라우드와 온디바이스 대상 다양한 모델로 구성되며, 메일 작성, 문서 요약, 번역 업무의\\n처리를 지원')]\n",
      "\n",
      "rag 실행 결과:\n",
      "삼성전자가 공개한 생성 AI 모델 '삼성 가우스'는 언어, 코드, 이미지의 3개 모델로 구성되어 있으며, 온디바이스에서 작동하도록 설계되어 사용자 정보 유출 위험이 없습니다. 이 모델은 2023년 11월 8일 '삼성 AI 포럼 2023'에서 처음 공개되었습니다.\n",
      "\n",
      "**Source**\n",
      "- data/SPRI_AI_Brief_2023년12월호_F.pdf (page 12)\n",
      "\n",
      "==========================================================================================\n",
      "\n",
      "\n",
      "==========================================================================================\n",
      "===== [CHECK hallucination] hallucination_check() 함수 =====\n",
      "===== [평가 결과] =====\n",
      "yes\n",
      "===== [DECISION: GENERATION IS GROUNDED IN DOCUMENTS] =====\n",
      "no hallucination\n",
      "===== [GRADE GENERATED ANSWER vs QUESTION] =====\n",
      "==== [DECISION: GENERATED ANSWER ADDRESSES QUESTION] ====\n",
      "relevant\n",
      "==========================================================================================\n",
      "\n",
      "[node_name]: generate\n",
      "[node_chunk]:\n",
      " {'generation': \"삼성전자가 공개한 생성 AI 모델 '삼성 가우스'는 언어, 코드, 이미지의 3개 모델로 구성되어 있으며, 온디바이스에서 작동하도록 설계되어 사용자 정보 유출 위험이 없습니다. 이 모델은 2023년 11월 8일 '삼성 AI 포럼 2023'에서 처음 공개되었습니다.\\n\\n**Source**\\n- data/SPRI_AI_Brief_2023년12월호_F.pdf (page 12)\"}\n"
     ]
    }
   ],
   "source": [
    "config = RunnableConfig(                        # config 설정\n",
    "    recursion_limit=20,                         # 최대 20개의 노드까지 방문.\n",
    "    configurable={'thread_id': random_uuid()}   # thread_id 설정\n",
    ")\n",
    "\n",
    "inputs = GraphState(question='삼성전자가 개발한 생성형 AI 이름은?')\n",
    "\n",
    "for event in app.stream(inputs, config=config):\n",
    "    for node_name, node_chunk in event.items():\n",
    "        print('[node_name]:', node_name)\n",
    "        print('[node_chunk]:\\n', node_chunk)"
   ]
  },
  {
   "cell_type": "code",
   "execution_count": 262,
   "metadata": {},
   "outputs": [
    {
     "name": "stdout",
     "output_type": "stream",
     "text": [
      "\n",
      "==========================================================================================\n",
      "===== [ROUTE QUESTION] route_question() 함수 =====\n",
      "==== [ROUTE QUESTION TO WEB SEARCH] ====\n",
      "==========================================================================================\n",
      "\n",
      "\n",
      "==========================================================================================\n",
      "===== [WEB SEARCH] web_search() 함수 =====\n",
      "question: \n",
      "대구 교보문고\n",
      "\n",
      "web_results: \n",
      "[{'title': '교보문고 대구점 - LocalView', 'url': 'https://www.localview.co.kr/store/detail.asp?seq=600977851', 'content': '국민정신문화 향상, 사회교육적 기능을 살린 문화공간을 창출하는 문고 대구광역시 중구 동성로2가 위치, 영업점, 이벤트, 행사 등 안내, 보유도서 검색 제공. 대구의 중심가 동성로에 있는 교보문고 대구점은 총 면적 1,900평의 넓은 매장과 15만 종 30만 권의 방대한 도서를 바탕으로 대구를 대표하는', 'score': 0.8488849, 'raw_content': ' |  |  |  |  |  |  |  |  | \\n\\n교보문고 대구점국민정신문화 향상, 사회교육적 기능을 살린 문화공간을 창출하는 문고패션쇼핑\\r\\n                                                        >쇼핑/유통\\r\\n                                                        >서점연 락 처053-425-3501홈페이지http://www.kyobobook.co.kr/storen/MainStore.laf?SITE=04주소대구광역시 중구 동성로2가 88-25도로명주소대구광역시 중구 국채보상로 586부가정보영업시간매일\\xa0\\r\\n\\t\\t\\t\\t\\t\\t\\t\\t\\t\\t\\t\\t\\tAM 10:00 \\r\\n\\t\\t\\t\\t\\t\\t\\t\\t\\t\\t\\t\\t\\t\\t~ \\r\\n\\t\\t\\t\\t\\t\\t\\t\\t\\t\\t\\t\\t\\t\\tPM 22:00카테고리패션쇼핑\\r\\n                                                    > 쇼핑/유통\\r\\n                                                    > 서점조회수 :866추천수 :0리뷰 :0국민정신문화 향상, 사회교육적 기능을 살린 문화공간을 창출하는 문고대구광역시 중구 동성로2가 위치, 영업점, 이벤트, 행사 등 안내, 보유도서 검색 제공.대구의 중심가 동성로에 있는 교보문고 대구점은 총 면적 1,900평의 넓은 매장과 15만 종 30만 권의 방대한 도서를 바탕으로 대구를 대표하는 서점이자 열린 문화공간으로 자리 잡고 있으며, 책을 사랑하시는 분들을 위한 북클럽회원 전용 라운지, 어린이 독자들의 만남의 장소 키즈가든, 다채로운 문화행사가 가득한 문화 이벤트홀 등은 독자 여러분께 더 큰 즐거움을 제공해드릴 것입니다.등록된 상품정보가 없습니다.등록된 동영상 정보가 없습니다.등록된 정보가 없습니다.1호선(중앙로)1호선(중앙로)2호선(반월당)2호선(반월당)1호선(반월당)1호선(반월당)1호선(대구역)1호선(대구역)주변버스CGV대구한일건너간선156\\r,\\r\\r309\\r,\\r\\r323\\r,\\r\\r425\\r,\\r\\r427\\r,\\r\\r521\\r,\\r\\r724\\r,\\r\\r939\\r,\\r\\r980CGV대구한일앞간선106\\r,\\r\\r156\\r,\\r\\r323-1\\r,\\r\\r521\\r,\\r\\r600약령시앞간선106\\r,\\r\\r202\\r,\\r\\r303-1\\r,\\r\\r349\\r,\\r\\r401\\r,\\r\\r410-1\\r,\\r\\r503\\r,\\r\\r518\\r,\\r\\r650\\r,\\r\\r704\\r,\\r\\r706\\r,\\r\\r730\\r,\\r\\r909지선동구1-1\\r,\\r\\r북구2급행급행2경상감영공원건너간선202-1\\r,\\r\\r303\\r,\\r\\r349\\r,\\r\\r401\\r,\\r\\r410\\r,\\r\\r503\\r,\\r\\r623\\r,\\r\\r704\\r,\\r\\r706\\r,\\r\\r730\\r,\\r\\r980지선동구1\\r,\\r\\r가창2\\r,\\r\\r동구2급행급행22.28기념중앙공원건너1간선508\\r,\\r\\r518\\r,\\r\\r600지선동구1\\r,\\r\\r가창2\\r,\\r\\r북구3급행급행1\\r,\\r\\r급행3약령시건너간선106\\r,\\r\\r202-1\\r,\\r\\r303\\r,\\r\\r349\\r,\\r\\r401\\r,\\r\\r410\\r,\\r\\r503\\r,\\r\\r518\\r,\\r\\r650\\r,\\r\\r704\\r,\\r\\r706\\r,\\r\\r730급행급행2지역상권시간대별 유동인구男10대男20대男30대男40대男50대女10대女20대女30대女40대女50대12시~13시까지(주중)18명42명68명60명32명16명52명48명32명24명19시~20시까지(주중)22명60명102명88명52명22명56명40명30명20명12시~13시까지(주말)24명62명50명48명30명18명56명42명24명20명19시~20시까지(주말)36명72명88명68명24명32명62명36명20명18명실내뷰등록된 실내 정보가 없습니다.near by좋은어린이서점 남산점교보문고 대구점모던북작성자내용점수이용하신 업체의 후기를 자유롭게 적어주세요.(욕설 및 상업적인 광고등은 사전통보없이 삭제됩니다.)작성자별점선택100 점90 점80 점70 점60 점50 점40 점30 점20 점10 점0 점비밀번호76644678보이는 도배방지키를 입력하세요. | 교보문고 대구점국민정신문화 향상, 사회교육적 기능을 살린 문화공간을 창출하는 문고패션쇼핑\\r\\n                                                        >쇼핑/유통\\r\\n                                                        >서점 | 교보문고 대구점 | 국민정신문화 향상, 사회교육적 기능을 살린 문화공간을 창출하는 문고패션쇼핑\\r\\n                                                        >쇼핑/유통\\r\\n                                                        >서점 |  |  |  |  | 연 락 처053-425-3501홈페이지http://www.kyobobook.co.kr/storen/MainStore.laf?SITE=04주소대구광역시 중구 동성로2가 88-25도로명주소대구광역시 중구 국채보상로 586부가정보영업시간매일\\xa0\\r\\n\\t\\t\\t\\t\\t\\t\\t\\t\\t\\t\\t\\t\\tAM 10:00 \\r\\n\\t\\t\\t\\t\\t\\t\\t\\t\\t\\t\\t\\t\\t\\t~ \\r\\n\\t\\t\\t\\t\\t\\t\\t\\t\\t\\t\\t\\t\\t\\tPM 22:00카테고리패션쇼핑\\r\\n                                                    > 쇼핑/유통\\r\\n                                                    > 서점조회수 :866추천수 :0리뷰 :0 | 연 락 처 | 053-425-3501 | 홈페이지 | http://www.kyobobook.co.kr/storen/MainStore.laf?SITE=04 | 주소 | 대구광역시 중구 동성로2가 88-25 | 도로명주소 | 대구광역시 중구 국채보상로 586 | 부가정보 |  | 영업시간 | 매일\\xa0\\r\\n\\t\\t\\t\\t\\t\\t\\t\\t\\t\\t\\t\\t\\tAM 10:00 \\r\\n\\t\\t\\t\\t\\t\\t\\t\\t\\t\\t\\t\\t\\t\\t~ \\r\\n\\t\\t\\t\\t\\t\\t\\t\\t\\t\\t\\t\\t\\t\\tPM 22:00 | 카테고리 | 패션쇼핑\\r\\n                                                    > 쇼핑/유통\\r\\n                                                    > 서점 | 조회수 :866추천수 :0리뷰 :0 |  | 조회수 :866추천수 :0리뷰 :0 |  | 조회수 :866추천수 :0리뷰 :0 |  | 등록된 상품정보가 없습니다.등록된 동영상 정보가 없습니다.등록된 정보가 없습니다.1호선(중앙로)1호선(중앙로)2호선(반월당)2호선(반월당)1호선(반월당)1호선(반월당)1호선(대구역)1호선(대구역) |  |  | CGV대구한일건너 | 간선156\\r,\\r\\r309\\r,\\r\\r323\\r,\\r\\r425\\r,\\r\\r427\\r,\\r\\r521\\r,\\r\\r724\\r,\\r\\r939\\r,\\r\\r980 | CGV대구한일앞 | 간선106\\r,\\r\\r156\\r,\\r\\r323-1\\r,\\r\\r521\\r,\\r\\r600 | 약령시앞 | 간선106\\r,\\r\\r202\\r,\\r\\r303-1\\r,\\r\\r349\\r,\\r\\r401\\r,\\r\\r410-1\\r,\\r\\r503\\r,\\r\\r518\\r,\\r\\r650\\r,\\r\\r704\\r,\\r\\r706\\r,\\r\\r730\\r,\\r\\r909지선동구1-1\\r,\\r\\r북구2급행급행2 | 경상감영공원건너 | 간선202-1\\r,\\r\\r303\\r,\\r\\r349\\r,\\r\\r401\\r,\\r\\r410\\r,\\r\\r503\\r,\\r\\r623\\r,\\r\\r704\\r,\\r\\r706\\r,\\r\\r730\\r,\\r\\r980지선동구1\\r,\\r\\r가창2\\r,\\r\\r동구2급행급행2 | 2.28기념중앙공원건너1 | 간선508\\r,\\r\\r518\\r,\\r\\r600지선동구1\\r,\\r\\r가창2\\r,\\r\\r북구3급행급행1\\r,\\r\\r급행3 | 약령시건너 | 간선106\\r,\\r\\r202-1\\r,\\r\\r303\\r,\\r\\r349\\r,\\r\\r401\\r,\\r\\r410\\r,\\r\\r503\\r,\\r\\r518\\r,\\r\\r650\\r,\\r\\r704\\r,\\r\\r706\\r,\\r\\r730급행급행2 | 시간대별 유동인구 | 男10대 | 男20대 | 男30대 | 男40대 | 男50대 | 女10대 | 女20대 | 女30대 | 女40대 | 女50대 | 12시~13시까지(주중) | 18명 | 42명 | 68명 | 60명 | 32명 | 16명 | 52명 | 48명 | 32명 | 24명 | 19시~20시까지(주중) | 22명 | 60명 | 102명 | 88명 | 52명 | 22명 | 56명 | 40명 | 30명 | 20명 | 12시~13시까지(주말) | 24명 | 62명 | 50명 | 48명 | 30명 | 18명 | 56명 | 42명 | 24명 | 20명 | 19시~20시까지(주말) | 36명 | 72명 | 88명 | 68명 | 24명 | 32명 | 62명 | 36명 | 20명 | 18명 | 좋은어린이서점 남산점 | 교보문고 대구점 | 모던북 |  |  | 작성자내용점수이용하신 업체의 후기를 자유롭게 적어주세요.(욕설 및 상업적인 광고등은 사전통보없이 삭제됩니다.)작성자별점선택100 점90 점80 점70 점60 점50 점40 점30 점20 점10 점0 점비밀번호76644678보이는 도배방지키를 입력하세요. | 작성자내용점수 | 작성자 | 내용 | 점수 | 이용하신 업체의 후기를 자유롭게 적어주세요.(욕설 및 상업적인 광고등은 사전통보없이 삭제됩니다.)작성자별점선택100 점90 점80 점70 점60 점50 점40 점30 점20 점10 점0 점비밀번호76644678보이는 도배방지키를 입력하세요. |  |  | 이용하신 업체의 후기를 자유롭게 적어주세요.(욕설 및 상업적인 광고등은 사전통보없이 삭제됩니다.) | 작성자별점선택100 점90 점80 점70 점60 점50 점40 점30 점20 점10 점0 점비밀번호 | 작성자 |  | 별점선택100 점90 점80 점70 점60 점50 점40 점30 점20 점10 점0 점 | 비밀번호 | 비밀번호 |  |  | 76644678보이는 도배방지키를 입력하세요. |  |  | 76644678 | 보이는 도배방지키를 입력하세요. |  |  |  | \\n교보문고 대구점국민정신문화 향상, 사회교육적 기능을 살린 문화공간을 창출하는 문고패션쇼핑\\r\\n                                                        >쇼핑/유통\\r\\n                                                        >서점 | 교보문고 대구점 | 국민정신문화 향상, 사회교육적 기능을 살린 문화공간을 창출하는 문고패션쇼핑\\r\\n                                                        >쇼핑/유통\\r\\n                                                        >서점\\n교보문고 대구점 | 국민정신문화 향상, 사회교육적 기능을 살린 문화공간을 창출하는 문고패션쇼핑\\r\\n                                                        >쇼핑/유통\\r\\n                                                        >서점\\n\\n |  |  | 연 락 처053-425-3501홈페이지http://www.kyobobook.co.kr/storen/MainStore.laf?SITE=04주소대구광역시 중구 동성로2가 88-25도로명주소대구광역시 중구 국채보상로 586부가정보영업시간매일\\xa0\\r\\n\\t\\t\\t\\t\\t\\t\\t\\t\\t\\t\\t\\t\\tAM 10:00 \\r\\n\\t\\t\\t\\t\\t\\t\\t\\t\\t\\t\\t\\t\\t\\t~ \\r\\n\\t\\t\\t\\t\\t\\t\\t\\t\\t\\t\\t\\t\\t\\tPM 22:00카테고리패션쇼핑\\r\\n                                                    > 쇼핑/유통\\r\\n                                                    > 서점조회수 :866추천수 :0리뷰 :0 | 연 락 처 | 053-425-3501 | 홈페이지 | http://www.kyobobook.co.kr/storen/MainStore.laf?SITE=04 | 주소 | 대구광역시 중구 동성로2가 88-25 | 도로명주소 | 대구광역시 중구 국채보상로 586 | 부가정보 |  | 영업시간 | 매일\\xa0\\r\\n\\t\\t\\t\\t\\t\\t\\t\\t\\t\\t\\t\\t\\tAM 10:00 \\r\\n\\t\\t\\t\\t\\t\\t\\t\\t\\t\\t\\t\\t\\t\\t~ \\r\\n\\t\\t\\t\\t\\t\\t\\t\\t\\t\\t\\t\\t\\t\\tPM 22:00 | 카테고리 | 패션쇼핑\\r\\n                                                    > 쇼핑/유통\\r\\n                                                    > 서점 | 조회수 :866추천수 :0리뷰 :0 |  | 조회수 :866추천수 :0리뷰 :0 |  | 조회수 :866추천수 :0리뷰 :0 | \\n\\n\\n연 락 처 | 053-425-3501\\n홈페이지 | http://www.kyobobook.co.kr/storen/MainStore.laf?SITE=04\\n주소 | 대구광역시 중구 동성로2가 88-25\\n도로명주소 | 대구광역시 중구 국채보상로 586\\n부가정보 | \\n영업시간 | 매일\\xa0\\r\\n\\t\\t\\t\\t\\t\\t\\t\\t\\t\\t\\t\\t\\tAM 10:00 \\r\\n\\t\\t\\t\\t\\t\\t\\t\\t\\t\\t\\t\\t\\t\\t~ \\r\\n\\t\\t\\t\\t\\t\\t\\t\\t\\t\\t\\t\\t\\t\\tPM 22:00\\n카테고리 | 패션쇼핑\\r\\n                                                    > 쇼핑/유통\\r\\n                                                    > 서점\\n조회수 :866추천수 :0리뷰 :0 |  | 조회수 :866추천수 :0리뷰 :0 |  | 조회수 :866추천수 :0리뷰 :0 | \\n | 조회수 :866추천수 :0리뷰 :0 |  | 조회수 :866추천수 :0리뷰 :0 | \\n | 조회수 :866추천수 :0리뷰 :0 | \\n등록된 상품정보가 없습니다.등록된 동영상 정보가 없습니다.등록된 정보가 없습니다.1호선(중앙로)1호선(중앙로)2호선(반월당)2호선(반월당)1호선(반월당)1호선(반월당)1호선(대구역)1호선(대구역) |  | \\nCGV대구한일건너 | 간선156\\r,\\r\\r309\\r,\\r\\r323\\r,\\r\\r425\\r,\\r\\r427\\r,\\r\\r521\\r,\\r\\r724\\r,\\r\\r939\\r,\\r\\r980\\nCGV대구한일앞 | 간선106\\r,\\r\\r156\\r,\\r\\r323-1\\r,\\r\\r521\\r,\\r\\r600\\n약령시앞 | 간선106\\r,\\r\\r202\\r,\\r\\r303-1\\r,\\r\\r349\\r,\\r\\r401\\r,\\r\\r410-1\\r,\\r\\r503\\r,\\r\\r518\\r,\\r\\r650\\r,\\r\\r704\\r,\\r\\r706\\r,\\r\\r730\\r,\\r\\r909지선동구1-1\\r,\\r\\r북구2급행급행2\\n경상감영공원건너 | 간선202-1\\r,\\r\\r303\\r,\\r\\r349\\r,\\r\\r401\\r,\\r\\r410\\r,\\r\\r503\\r,\\r\\r623\\r,\\r\\r704\\r,\\r\\r706\\r,\\r\\r730\\r,\\r\\r980지선동구1\\r,\\r\\r가창2\\r,\\r\\r동구2급행급행2\\n2.28기념중앙공원건너1 | 간선508\\r,\\r\\r518\\r,\\r\\r600지선동구1\\r,\\r\\r가창2\\r,\\r\\r북구3급행급행1\\r,\\r\\r급행3\\n약령시건너 | 간선106\\r,\\r\\r202-1\\r,\\r\\r303\\r,\\r\\r349\\r,\\r\\r401\\r,\\r\\r410\\r,\\r\\r503\\r,\\r\\r518\\r,\\r\\r650\\r,\\r\\r704\\r,\\r\\r706\\r,\\r\\r730급행급행2\\n시간대별 유동인구 | 男10대 | 男20대 | 男30대 | 男40대 | 男50대 | 女10대 | 女20대 | 女30대 | 女40대 | 女50대\\n12시~13시까지(주중) | 18명 | 42명 | 68명 | 60명 | 32명 | 16명 | 52명 | 48명 | 32명 | 24명\\n19시~20시까지(주중) | 22명 | 60명 | 102명 | 88명 | 52명 | 22명 | 56명 | 40명 | 30명 | 20명\\n12시~13시까지(주말) | 24명 | 62명 | 50명 | 48명 | 30명 | 18명 | 56명 | 42명 | 24명 | 20명\\n19시~20시까지(주말) | 36명 | 72명 | 88명 | 68명 | 24명 | 32명 | 62명 | 36명 | 20명 | 18명\\n좋은어린이서점 남산점 | 교보문고 대구점 | 모던북\\n | \\n작성자내용점수이용하신 업체의 후기를 자유롭게 적어주세요.(욕설 및 상업적인 광고등은 사전통보없이 삭제됩니다.)작성자별점선택100 점90 점80 점70 점60 점50 점40 점30 점20 점10 점0 점비밀번호76644678보이는 도배방지키를 입력하세요. | 작성자내용점수 | 작성자 | 내용 | 점수 | 이용하신 업체의 후기를 자유롭게 적어주세요.(욕설 및 상업적인 광고등은 사전통보없이 삭제됩니다.)작성자별점선택100 점90 점80 점70 점60 점50 점40 점30 점20 점10 점0 점비밀번호76644678보이는 도배방지키를 입력하세요. |  |  | 이용하신 업체의 후기를 자유롭게 적어주세요.(욕설 및 상업적인 광고등은 사전통보없이 삭제됩니다.) | 작성자별점선택100 점90 점80 점70 점60 점50 점40 점30 점20 점10 점0 점비밀번호 | 작성자 |  | 별점선택100 점90 점80 점70 점60 점50 점40 점30 점20 점10 점0 점 | 비밀번호 | 비밀번호 |  |  | 76644678보이는 도배방지키를 입력하세요. |  |  | 76644678 | 보이는 도배방지키를 입력하세요. |  | \\n작성자내용점수 | 작성자 | 내용 | 점수\\n작성자 | 내용 | 점수\\n이용하신 업체의 후기를 자유롭게 적어주세요.(욕설 및 상업적인 광고등은 사전통보없이 삭제됩니다.)작성자별점선택100 점90 점80 점70 점60 점50 점40 점30 점20 점10 점0 점비밀번호76644678보이는 도배방지키를 입력하세요. |  |  | 이용하신 업체의 후기를 자유롭게 적어주세요.(욕설 및 상업적인 광고등은 사전통보없이 삭제됩니다.) | 작성자별점선택100 점90 점80 점70 점60 점50 점40 점30 점20 점10 점0 점비밀번호 | 작성자 |  | 별점선택100 점90 점80 점70 점60 점50 점40 점30 점20 점10 점0 점 | 비밀번호 | 비밀번호 |  |  | 76644678보이는 도배방지키를 입력하세요. |  |  | 76644678 | 보이는 도배방지키를 입력하세요.\\n | \\n\\n이용하신 업체의 후기를 자유롭게 적어주세요.(욕설 및 상업적인 광고등은 사전통보없이 삭제됩니다.)\\n작성자별점선택100 점90 점80 점70 점60 점50 점40 점30 점20 점10 점0 점비밀번호 | 작성자 |  | 별점선택100 점90 점80 점70 점60 점50 점40 점30 점20 점10 점0 점 | 비밀번호 | 비밀번호 | \\n작성자 |  | 별점선택100 점90 점80 점70 점60 점50 점40 점30 점20 점10 점0 점 | 비밀번호 | 비밀번호 | \\n비밀번호 | \\n\\n76644678보이는 도배방지키를 입력하세요. |  |  | 76644678 | 보이는 도배방지키를 입력하세요.\\n |  | 76644678 | 보이는 도배방지키를 입력하세요.\\n\\n\\n교보문고 대구점국민정신문화 향상, 사회교육적 기능을 살린 문화공간을 창출하는 문고패션쇼핑\\r\\n                                                        >쇼핑/유통\\r\\n                                                        >서점 | 교보문고 대구점 | 국민정신문화 향상, 사회교육적 기능을 살린 문화공간을 창출하는 문고패션쇼핑\\r\\n                                                        >쇼핑/유통\\r\\n                                                        >서점\\n교보문고 대구점 | 국민정신문화 향상, 사회교육적 기능을 살린 문화공간을 창출하는 문고패션쇼핑\\r\\n                                                        >쇼핑/유통\\r\\n                                                        >서점\\n\\n |  |  | 연 락 처053-425-3501홈페이지http://www.kyobobook.co.kr/storen/MainStore.laf?SITE=04주소대구광역시 중구 동성로2가 88-25도로명주소대구광역시 중구 국채보상로 586부가정보영업시간매일\\xa0\\r\\n\\t\\t\\t\\t\\t\\t\\t\\t\\t\\t\\t\\t\\tAM 10:00 \\r\\n\\t\\t\\t\\t\\t\\t\\t\\t\\t\\t\\t\\t\\t\\t~ \\r\\n\\t\\t\\t\\t\\t\\t\\t\\t\\t\\t\\t\\t\\t\\tPM 22:00카테고리패션쇼핑\\r\\n                                                    > 쇼핑/유통\\r\\n                                                    > 서점조회수 :866추천수 :0리뷰 :0 | 연 락 처 | 053-425-3501 | 홈페이지 | http://www.kyobobook.co.kr/storen/MainStore.laf?SITE=04 | 주소 | 대구광역시 중구 동성로2가 88-25 | 도로명주소 | 대구광역시 중구 국채보상로 586 | 부가정보 |  | 영업시간 | 매일\\xa0\\r\\n\\t\\t\\t\\t\\t\\t\\t\\t\\t\\t\\t\\t\\tAM 10:00 \\r\\n\\t\\t\\t\\t\\t\\t\\t\\t\\t\\t\\t\\t\\t\\t~ \\r\\n\\t\\t\\t\\t\\t\\t\\t\\t\\t\\t\\t\\t\\t\\tPM 22:00 | 카테고리 | 패션쇼핑\\r\\n                                                    > 쇼핑/유통\\r\\n                                                    > 서점 | 조회수 :866추천수 :0리뷰 :0 |  | 조회수 :866추천수 :0리뷰 :0 |  | 조회수 :866추천수 :0리뷰 :0 | \\n\\n\\n연 락 처 | 053-425-3501\\n홈페이지 | http://www.kyobobook.co.kr/storen/MainStore.laf?SITE=04\\n주소 | 대구광역시 중구 동성로2가 88-25\\n도로명주소 | 대구광역시 중구 국채보상로 586\\n부가정보 | \\n영업시간 | 매일\\xa0\\r\\n\\t\\t\\t\\t\\t\\t\\t\\t\\t\\t\\t\\t\\tAM 10:00 \\r\\n\\t\\t\\t\\t\\t\\t\\t\\t\\t\\t\\t\\t\\t\\t~ \\r\\n\\t\\t\\t\\t\\t\\t\\t\\t\\t\\t\\t\\t\\t\\tPM 22:00\\n카테고리 | 패션쇼핑\\r\\n                                                    > 쇼핑/유통\\r\\n                                                    > 서점\\n조회수 :866추천수 :0리뷰 :0 |  | 조회수 :866추천수 :0리뷰 :0 |  | 조회수 :866추천수 :0리뷰 :0 | \\n | 조회수 :866추천수 :0리뷰 :0 |  | 조회수 :866추천수 :0리뷰 :0 | \\n | 조회수 :866추천수 :0리뷰 :0 | \\n교보문고 대구점 | 국민정신문화 향상, 사회교육적 기능을 살린 문화공간을 창출하는 문고패션쇼핑\\r\\n                                                        >쇼핑/유통\\r\\n                                                        >서점\\n교보문고 대구점\\n\\n\\n\\n연 락 처 | 053-425-3501\\n홈페이지 | http://www.kyobobook.co.kr/storen/MainStore.laf?SITE=04\\n주소 | 대구광역시 중구 동성로2가 88-25\\n도로명주소 | 대구광역시 중구 국채보상로 586\\n부가정보 | \\n영업시간 | 매일\\xa0\\r\\n\\t\\t\\t\\t\\t\\t\\t\\t\\t\\t\\t\\t\\tAM 10:00 \\r\\n\\t\\t\\t\\t\\t\\t\\t\\t\\t\\t\\t\\t\\t\\t~ \\r\\n\\t\\t\\t\\t\\t\\t\\t\\t\\t\\t\\t\\t\\t\\tPM 22:00\\n카테고리 | 패션쇼핑\\r\\n                                                    > 쇼핑/유통\\r\\n                                                    > 서점\\n조회수 :866추천수 :0리뷰 :0 |  | 조회수 :866추천수 :0리뷰 :0 |  | 조회수 :866추천수 :0리뷰 :0 | \\n | 조회수 :866추천수 :0리뷰 :0 |  | 조회수 :866추천수 :0리뷰 :0 | \\n | 조회수 :866추천수 :0리뷰 :0 | \\n | 조회수 :866추천수 :0리뷰 :0 |  | 조회수 :866추천수 :0리뷰 :0 | \\n | 조회수 :866추천수 :0리뷰 :0 | \\n | 조회수 :866추천수 :0리뷰 :0 | \\n\\n\\n\\n\\n등록된 상품정보가 없습니다.등록된 동영상 정보가 없습니다.등록된 정보가 없습니다.1호선(중앙로)1호선(중앙로)2호선(반월당)2호선(반월당)1호선(반월당)1호선(반월당)1호선(대구역)1호선(대구역) |  | \\n\\n\\n\\n\\n\\n\\n\\n\\n\\n\\nCGV대구한일건너 | 간선156\\r,\\r\\r309\\r,\\r\\r323\\r,\\r\\r425\\r,\\r\\r427\\r,\\r\\r521\\r,\\r\\r724\\r,\\r\\r939\\r,\\r\\r980\\nCGV대구한일앞 | 간선106\\r,\\r\\r156\\r,\\r\\r323-1\\r,\\r\\r521\\r,\\r\\r600\\n약령시앞 | 간선106\\r,\\r\\r202\\r,\\r\\r303-1\\r,\\r\\r349\\r,\\r\\r401\\r,\\r\\r410-1\\r,\\r\\r503\\r,\\r\\r518\\r,\\r\\r650\\r,\\r\\r704\\r,\\r\\r706\\r,\\r\\r730\\r,\\r\\r909지선동구1-1\\r,\\r\\r북구2급행급행2\\n경상감영공원건너 | 간선202-1\\r,\\r\\r303\\r,\\r\\r349\\r,\\r\\r401\\r,\\r\\r410\\r,\\r\\r503\\r,\\r\\r623\\r,\\r\\r704\\r,\\r\\r706\\r,\\r\\r730\\r,\\r\\r980지선동구1\\r,\\r\\r가창2\\r,\\r\\r동구2급행급행2\\n2.28기념중앙공원건너1 | 간선508\\r,\\r\\r518\\r,\\r\\r600지선동구1\\r,\\r\\r가창2\\r,\\r\\r북구3급행급행1\\r,\\r\\r급행3\\n약령시건너 | 간선106\\r,\\r\\r202-1\\r,\\r\\r303\\r,\\r\\r349\\r,\\r\\r401\\r,\\r\\r410\\r,\\r\\r503\\r,\\r\\r518\\r,\\r\\r650\\r,\\r\\r704\\r,\\r\\r706\\r,\\r\\r730급행급행2\\n시간대별 유동인구 | 男10대 | 男20대 | 男30대 | 男40대 | 男50대 | 女10대 | 女20대 | 女30대 | 女40대 | 女50대\\n12시~13시까지(주중) | 18명 | 42명 | 68명 | 60명 | 32명 | 16명 | 52명 | 48명 | 32명 | 24명\\n19시~20시까지(주중) | 22명 | 60명 | 102명 | 88명 | 52명 | 22명 | 56명 | 40명 | 30명 | 20명\\n12시~13시까지(주말) | 24명 | 62명 | 50명 | 48명 | 30명 | 18명 | 56명 | 42명 | 24명 | 20명\\n19시~20시까지(주말) | 36명 | 72명 | 88명 | 68명 | 24명 | 32명 | 62명 | 36명 | 20명 | 18명\\n\\n\\n\\n\\n좋은어린이서점 남산점 | 교보문고 대구점 | 모던북\\n | \\n작성자내용점수이용하신 업체의 후기를 자유롭게 적어주세요.(욕설 및 상업적인 광고등은 사전통보없이 삭제됩니다.)작성자별점선택100 점90 점80 점70 점60 점50 점40 점30 점20 점10 점0 점비밀번호76644678보이는 도배방지키를 입력하세요. | 작성자내용점수 | 작성자 | 내용 | 점수 | 이용하신 업체의 후기를 자유롭게 적어주세요.(욕설 및 상업적인 광고등은 사전통보없이 삭제됩니다.)작성자별점선택100 점90 점80 점70 점60 점50 점40 점30 점20 점10 점0 점비밀번호76644678보이는 도배방지키를 입력하세요. |  |  | 이용하신 업체의 후기를 자유롭게 적어주세요.(욕설 및 상업적인 광고등은 사전통보없이 삭제됩니다.) | 작성자별점선택100 점90 점80 점70 점60 점50 점40 점30 점20 점10 점0 점비밀번호 | 작성자 |  | 별점선택100 점90 점80 점70 점60 점50 점40 점30 점20 점10 점0 점 | 비밀번호 | 비밀번호 |  |  | 76644678보이는 도배방지키를 입력하세요. |  |  | 76644678 | 보이는 도배방지키를 입력하세요. |  | \\n작성자내용점수 | 작성자 | 내용 | 점수\\n작성자 | 내용 | 점수\\n이용하신 업체의 후기를 자유롭게 적어주세요.(욕설 및 상업적인 광고등은 사전통보없이 삭제됩니다.)작성자별점선택100 점90 점80 점70 점60 점50 점40 점30 점20 점10 점0 점비밀번호76644678보이는 도배방지키를 입력하세요. |  |  | 이용하신 업체의 후기를 자유롭게 적어주세요.(욕설 및 상업적인 광고등은 사전통보없이 삭제됩니다.) | 작성자별점선택100 점90 점80 점70 점60 점50 점40 점30 점20 점10 점0 점비밀번호 | 작성자 |  | 별점선택100 점90 점80 점70 점60 점50 점40 점30 점20 점10 점0 점 | 비밀번호 | 비밀번호 |  |  | 76644678보이는 도배방지키를 입력하세요. |  |  | 76644678 | 보이는 도배방지키를 입력하세요.\\n | \\n\\n이용하신 업체의 후기를 자유롭게 적어주세요.(욕설 및 상업적인 광고등은 사전통보없이 삭제됩니다.)\\n작성자별점선택100 점90 점80 점70 점60 점50 점40 점30 점20 점10 점0 점비밀번호 | 작성자 |  | 별점선택100 점90 점80 점70 점60 점50 점40 점30 점20 점10 점0 점 | 비밀번호 | 비밀번호 | \\n작성자 |  | 별점선택100 점90 점80 점70 점60 점50 점40 점30 점20 점10 점0 점 | 비밀번호 | 비밀번호 | \\n비밀번호 | \\n\\n76644678보이는 도배방지키를 입력하세요. |  |  | 76644678 | 보이는 도배방지키를 입력하세요.\\n |  | 76644678 | 보이는 도배방지키를 입력하세요.\\n\\n\\n작성자내용점수 | 작성자 | 내용 | 점수\\n작성자 | 내용 | 점수\\n작성자 | 내용 | 점수\\n이용하신 업체의 후기를 자유롭게 적어주세요.(욕설 및 상업적인 광고등은 사전통보없이 삭제됩니다.)작성자별점선택100 점90 점80 점70 점60 점50 점40 점30 점20 점10 점0 점비밀번호76644678보이는 도배방지키를 입력하세요. |  |  | 이용하신 업체의 후기를 자유롭게 적어주세요.(욕설 및 상업적인 광고등은 사전통보없이 삭제됩니다.) | 작성자별점선택100 점90 점80 점70 점60 점50 점40 점30 점20 점10 점0 점비밀번호 | 작성자 |  | 별점선택100 점90 점80 점70 점60 점50 점40 점30 점20 점10 점0 점 | 비밀번호 | 비밀번호 |  |  | 76644678보이는 도배방지키를 입력하세요. |  |  | 76644678 | 보이는 도배방지키를 입력하세요.\\n | \\n\\n이용하신 업체의 후기를 자유롭게 적어주세요.(욕설 및 상업적인 광고등은 사전통보없이 삭제됩니다.)\\n작성자별점선택100 점90 점80 점70 점60 점50 점40 점30 점20 점10 점0 점비밀번호 | 작성자 |  | 별점선택100 점90 점80 점70 점60 점50 점40 점30 점20 점10 점0 점 | 비밀번호 | 비밀번호 | \\n작성자 |  | 별점선택100 점90 점80 점70 점60 점50 점40 점30 점20 점10 점0 점 | 비밀번호 | 비밀번호 | \\n비밀번호 | \\n\\n76644678보이는 도배방지키를 입력하세요. |  |  | 76644678 | 보이는 도배방지키를 입력하세요.\\n |  | 76644678 | 보이는 도배방지키를 입력하세요.\\n\\n\\n | \\n\\n\\n이용하신 업체의 후기를 자유롭게 적어주세요.(욕설 및 상업적인 광고등은 사전통보없이 삭제됩니다.)\\n작성자별점선택100 점90 점80 점70 점60 점50 점40 점30 점20 점10 점0 점비밀번호 | 작성자 |  | 별점선택100 점90 점80 점70 점60 점50 점40 점30 점20 점10 점0 점 | 비밀번호 | 비밀번호 | \\n작성자 |  | 별점선택100 점90 점80 점70 점60 점50 점40 점30 점20 점10 점0 점 | 비밀번호 | 비밀번호 | \\n비밀번호 | \\n\\n76644678보이는 도배방지키를 입력하세요. |  |  | 76644678 | 보이는 도배방지키를 입력하세요.\\n |  | 76644678 | 보이는 도배방지키를 입력하세요.\\n작성자 |  | 별점선택100 점90 점80 점70 점60 점50 점40 점30 점20 점10 점0 점 | 비밀번호 | 비밀번호 | \\n비밀번호 | \\n비밀번호 | \\n |  | 76644678 | 보이는 도배방지키를 입력하세요.\\n로컬뷰는 지역내 업소(기업)정보를 제공하는 온라인 전화번호부 서비스입니다.로컬뷰는 개별업체로 부터 광고비 또는 중계수수료를 받지 않는 무료서비스 입니다Copyright(c) 2010 로컬뷰(LocalView) All Rights Reserved. |  | 로컬뷰는 지역내 업소(기업)정보를 제공하는 온라인 전화번호부 서비스입니다.로컬뷰는 개별업체로 부터 광고비 또는 중계수수료를 받지 않는 무료서비스 입니다Copyright(c) 2010 로컬뷰(LocalView) All Rights Reserved. |  |  |  |  |  |  | 로컬뷰는 지역내 업소(기업)정보를 제공하는 온라인 전화번호부 서비스입니다.로컬뷰는 개별업체로 부터 광고비 또는 중계수수료를 받지 않는 무료서비스 입니다Copyright(c) 2010 로컬뷰(LocalView) All Rights Reserved.\\n | 로컬뷰는 지역내 업소(기업)정보를 제공하는 온라인 전화번호부 서비스입니다.로컬뷰는 개별업체로 부터 광고비 또는 중계수수료를 받지 않는 무료서비스 입니다Copyright(c) 2010 로컬뷰(LocalView) All Rights Reserved. |  |  |  |  |  |  | 로컬뷰는 지역내 업소(기업)정보를 제공하는 온라인 전화번호부 서비스입니다.로컬뷰는 개별업체로 부터 광고비 또는 중계수수료를 받지 않는 무료서비스 입니다Copyright(c) 2010 로컬뷰(LocalView) All Rights Reserved.\\n |  |  |  |  | \\n |  |  |  | \\n로컬뷰는 지역내 업소(기업)정보를 제공하는 온라인 전화번호부 서비스입니다.로컬뷰는 개별업체로 부터 광고비 또는 중계수수료를 받지 않는 무료서비스 입니다Copyright(c) 2010 로컬뷰(LocalView) All Rights Reserved.\\n | 로컬뷰는 지역내 업소(기업)정보를 제공하는 온라인 전화번호부 서비스입니다.로컬뷰는 개별업체로 부터 광고비 또는 중계수수료를 받지 않는 무료서비스 입니다Copyright(c) 2010 로컬뷰(LocalView) All Rights Reserved. |  |  |  |  |  |  | 로컬뷰는 지역내 업소(기업)정보를 제공하는 온라인 전화번호부 서비스입니다.로컬뷰는 개별업체로 부터 광고비 또는 중계수수료를 받지 않는 무료서비스 입니다Copyright(c) 2010 로컬뷰(LocalView) All Rights Reserved.\\n |  |  |  |  | \\n |  |  |  | \\n로컬뷰는 지역내 업소(기업)정보를 제공하는 온라인 전화번호부 서비스입니다.로컬뷰는 개별업체로 부터 광고비 또는 중계수수료를 받지 않는 무료서비스 입니다Copyright(c) 2010 로컬뷰(LocalView) All Rights Reserved.\\n |  |  |  |  | \\n |  |  |  | \\n로컬뷰는 지역내 업소(기업)정보를 제공하는 온라인 전화번호부 서비스입니다.로컬뷰는 개별업체로 부터 광고비 또는 중계수수료를 받지 않는 무료서비스 입니다Copyright(c) 2010 로컬뷰(LocalView) All Rights Reserved.\\n |  |  |  | \\n'}, {'title': '대구 교보문고 대구점 방문 후기 : 네이버 블로그', 'url': 'https://m.blog.naver.com/sh_baekwoon/223359878100', 'content': '대구 교보문고 대구점 방문 후기 : 네이버 블로그 대구 교보문고 대구점 방문 후기 며칠 전 동성로에 다녀오면서 교보문고 대구점도 방문하게 되어서 방문 후기도 포스팅! 대구에는 교보문고 대구점, 교보문고 칠곡점 이렇게 두 군데가 있어요~ 칠곡점은 아직 가보지 못했고 교보문고 대구점은 아이들과 책 구매를 위해 한 번씩 방문해요~ 아이들 키우는 부모들은 책 읽는 게 중요하다고 아이들에게 말하지만 실상은 그 부모들도 한 달에 책 한 권 읽지 않는 사람들이 \\x08상당히 많아요~ 저 또한 책과 친하진 않아요 ㅠㅠ 교보문고 대구점 그래서 도서검색을 할 수 있는 PC가 있는데 사람들도 워낙 많다 보니 사용하기 위해서는 대기를 해야 하지만~ 교보문고 대구점은 검색 PC들이 많이 구비되어 있어서 기다림 없이 검색할 수 있어요~ 혼자서도 필요한 책 잘 검색해요 ㅎ 책 산다고 해서 그냥 그림책 정도인 줄 알았더니 생각보다 글 양이 많더라고요 ㅎ 오랜만에 교보문고 대구점 다녀왔네요~ {\"title\":\"대구 교보문고 대구점 방문 후기\",\"source\":\"https://blog.naver.com/sh_baekwoon/223359878100\",\"blogName\":\"보상의 모..\",\"domainIdOrBlogId\":\"sh_baekwoon\",\"nicknameOrBlogId\":\"권 소장\",\"logNo\":223359878100,\"smartEditorVersion\":4,\"cafeDisplay\":true,\"outsideDisplay\":true,\"lineDisplay\":true,\"blogDisplay\":true,\"meDisplay\":true}', 'score': 0.79293, 'raw_content': '대구 교보문고 대구점 방문 후기 : 네이버 블로그\\n \\n본문 바로가기\\n블로그\\n카테고리 이동 보상의 모든 것\\n\\n검색 MY메뉴 열기\\n일상\\n대구 교보문고 대구점 방문 후기\\n\\n권 소장\\n2024. 2. 21. 0:00\\n이웃추가\\n본문 기타 기능\\n\\n본문 폰트 크기 조정 본문 폰트 크기 작게 보기 본문 폰트 크기 크게 보기 가\\n\\n공감하기\\n\\n\\n공유하기\\n\\nURL복사\\n신고하기\\n\\n안녕하세요. 권승혁 손해사정사입니다.\\n\\u200b\\n최근 업무 포스팅은 못하고 일상과 맛집들로 점점 도배가 되는 같아요~\\n\\u200b\\n업무보다 일상 포스팅이 쓰는 게 더 재미있네요 ㅎ\\n\\u200b\\n며칠 전 동성로에 다녀오면서 교보문고 대구점도 방문하게 되어서 방문 후기도 포스팅!\\n\\u200b\\n대구에는 교보문고 대구점, 교보문고 칠곡점 이렇게 두 군데가 있어요~ 칠곡점은 아직 가보지 못했고 교보문고 대구점은 아이들과 책 구매를 위해 한 번씩 방문해요~\\n\\u200b\\n\\n\\u200b\\n아이들 키우는 부모들은 책 읽는 게 중요하다고 아이들에게 말하지만 실상은 그 부모들도 한 달에 책 한 권 읽지 않는 사람들이 \\x08상당히 많아요~ 저 또한 책과 친하진 않아요 ㅠㅠ\\n\\u200b\\n그래도 아이들이 책을 많이 읽었으면 하죠!\\n그래서 아이들과 시간을 내서 도서관이나 교보문고에 자주 방문하려고 노력합니다!\\n\\n\\n교보문고 대구점\\n\\n\\n교보문고 대구점대구광역시 중구 국채보상로 586 교보생명 동성로사옥 지하2층~3층\\n이 블로그의 체크인\\n이 장소의 다른 글\\n\\u200b\\n대구 동성로에 위치해 있어서 시내 구경하고 놀다가 부담 없이 다녀오기 좋아요~\\n\\u200b\\nB1층이 핫트랙스가 있어서 더 자주 방문하게 되는 거 같아요~\\n\\u200b\\n저희 딸은 핫트랙스에서 정신을 놓고 구경해요~\\n\\u200b\\n\\n\\n\\n도서 검색\\n\\n교보문고에서 책 찾기가 쉽지가 않죠!?\\n(책이 엄청 많아서 찾기가 힘들어요)\\n\\u200b\\n그래서 도서검색을 할 수 있는 PC가 있는데 사람들도 워낙 많다 보니 사용하기 위해서는 대기를 해야 하지만~ 교보문고 대구점은 검색 PC들이 많이 구비되어 있어서 기다림 없이 검색할 수 있어요~\\n\\u200b\\n우리 딸내미도 검색~~\\n혼자서도 필요한 책 잘 검색해요 ㅎ\\n\\u200b\\n\\n\\n\\n\\n책 구매\\n\\n\\x08도서 검색하게 되면 책 위치를 작은 종이에 프린터 해줘요~ 위치까지 딸아이가 찾을 수 있게 옆에서 도와주고 따라다녔어요 ㅎ\\n\\u200b\\n\\n\\u200b\\n찾는 책을 정확하게 찾아왔어요 ㅎ\\n(대견 대견~)\\n\\u200b\\n\\n\\u200b\\n책 산다고 해서 그냥 그림책 정도인 줄 알았더니 생각보다 글 양이 많더라고요 ㅎ\\n\\u200b\\n얼마 전에 스즈메의 문단속 보더니 재미있다고 일본 애니메이션을 차례대로 보더니 너의 이름은까지!\\n\\u200b\\n\\n\\u200b\\n계산도 자기 용돈으로 계산!!\\n대단하다!! 우리 딸!!!\\n\\u200b\\n셀프 계산기도 있어요!\\n\\u200b\\n\\n\\u200b\\n제가 웹툰으로 재미있게 보고 있는 전지적 독자 시점이 소설책으로 상당히 많이 나왔길래 하나 집어 올려다가 핫트랙스 간다고 끌려 나왔어요 ㅎ\\n\\u200b\\n\\n\\u200b\\n소설 좋아하시면 한번 읽어보세요!\\n저도 조만간 읽어볼 예정이에요~\\n\\n\\n핫트랙스\\n\\n교보문고 B1층은 핫트랙스인데요~\\n\\u200b\\n딸내미는 여기도 그냥 지나칠 수 없다고 영혼 없이 핫트랙스로 빨려 들어가네요 ㅠㅠ\\n\\u200b\\n\\n\\u200b\\n맛있겠다~ 이쁘다~를 연발하시는...\\n(뭐가 그렇게 이쁜지 전 잘 모르겠는데..)\\n\\u200b\\n\\n\\u200b\\n요즘 유행이라고 하는 모루 인형 만들기!\\n\\u200b\\n\\n\\u200b\\n이건 비싸고~ 이러쿵저러쿵 ㅋㅋ\\n동네 아줌마 같은 모습을 봤어요ㅋㅋㅋ\\n\\n\\n마무리\\n\\n오랜만에 교보문고 대구점 다녀왔네요~\\n\\u200b\\n책이란 게 읽으면 좋다는 건 알지만 시간이 없다, 바쁘다는 핑계로 멀리하게 되지만~ 아이들과 시간 내서 한 번씩 보는 것도 힐링 되고 좋은 거 같아요~\\n\\u200b\\n전 안보지만 너희들은 읽어라!! ㅎㅎ\\n(아빠도 책 읽는 모습 많이 보여줄게~)\\n\\u200b\\n\\u200b\\n동성로 간식으로 마무리!\\n\\u200b\\n\\n\\n\\u200b\\n\\n#대구교보문고\\n#교보문고대구점\\n#핫트랙스\\n#교보문고주차\\n\\n\\n공감한 사람 보러가기\\n댓글 25 공유하기\\n{\"title\":\"대구 교보문고 대구점 방문 후기\",\"source\":\"https://blog.naver.com/sh_baekwoon/223359878100\",\"blogName\":\"보상의 모..\",\"domainIdOrBlogId\":\"sh_baekwoon\",\"nicknameOrBlogId\":\"권 소장\",\"logNo\":223359878100,\"smartEditorVersion\":4,\"cafeDisplay\":true,\"outsideDisplay\":true,\"lineDisplay\":true,\"blogDisplay\":true,\"meDisplay\":true}\\n닫기\\n카테고리\\n이 블로그 홈\\n\\n공감한 사람 보러가기\\n댓글 25 공유하기\\n권 소장(sh_baekwoon) 님을 이웃추가하고 새글을 받아보세요\\n취소 이웃추가'}]\n",
      "\n",
      "[Document(metadata={'source': 'https://www.localview.co.kr/store/detail.asp?seq=600977851'}, page_content='국민정신문화 향상, 사회교육적 기능을 살린 문화공간을 창출하는 문고 대구광역시 중구 동성로2가 위치, 영업점, 이벤트, 행사 등 안내, 보유도서 검색 제공. 대구의 중심가 동성로에 있는 교보문고 대구점은 총 면적 1,900평의 넓은 매장과 15만 종 30만 권의 방대한 도서를 바탕으로 대구를 대표하는'), Document(metadata={'source': 'https://m.blog.naver.com/sh_baekwoon/223359878100'}, page_content='대구 교보문고 대구점 방문 후기 : 네이버 블로그 대구 교보문고 대구점 방문 후기 며칠 전 동성로에 다녀오면서 교보문고 대구점도 방문하게 되어서 방문 후기도 포스팅! 대구에는 교보문고 대구점, 교보문고 칠곡점 이렇게 두 군데가 있어요~ 칠곡점은 아직 가보지 못했고 교보문고 대구점은 아이들과 책 구매를 위해 한 번씩 방문해요~ 아이들 키우는 부모들은 책 읽는 게 중요하다고 아이들에게 말하지만 실상은 그 부모들도 한 달에 책 한 권 읽지 않는 사람들이 \\x08상당히 많아요~ 저 또한 책과 친하진 않아요 ㅠㅠ 교보문고 대구점 그래서 도서검색을 할 수 있는 PC가 있는데 사람들도 워낙 많다 보니 사용하기 위해서는 대기를 해야 하지만~ 교보문고 대구점은 검색 PC들이 많이 구비되어 있어서 기다림 없이 검색할 수 있어요~ 혼자서도 필요한 책 잘 검색해요 ㅎ 책 산다고 해서 그냥 그림책 정도인 줄 알았더니 생각보다 글 양이 많더라고요 ㅎ 오랜만에 교보문고 대구점 다녀왔네요~ {\"title\":\"대구 교보문고 대구점 방문 후기\",\"source\":\"https://blog.naver.com/sh_baekwoon/223359878100\",\"blogName\":\"보상의 모..\",\"domainIdOrBlogId\":\"sh_baekwoon\",\"nicknameOrBlogId\":\"권 소장\",\"logNo\":223359878100,\"smartEditorVersion\":4,\"cafeDisplay\":true,\"outsideDisplay\":true,\"lineDisplay\":true,\"blogDisplay\":true,\"meDisplay\":true}')]\n",
      "==========================================================================================\n",
      "\n",
      "[node_name]: web_search\n",
      "[node_chunk]:\n",
      " {'documents': [Document(metadata={'source': 'https://www.localview.co.kr/store/detail.asp?seq=600977851'}, page_content='국민정신문화 향상, 사회교육적 기능을 살린 문화공간을 창출하는 문고 대구광역시 중구 동성로2가 위치, 영업점, 이벤트, 행사 등 안내, 보유도서 검색 제공. 대구의 중심가 동성로에 있는 교보문고 대구점은 총 면적 1,900평의 넓은 매장과 15만 종 30만 권의 방대한 도서를 바탕으로 대구를 대표하는'), Document(metadata={'source': 'https://m.blog.naver.com/sh_baekwoon/223359878100'}, page_content='대구 교보문고 대구점 방문 후기 : 네이버 블로그 대구 교보문고 대구점 방문 후기 며칠 전 동성로에 다녀오면서 교보문고 대구점도 방문하게 되어서 방문 후기도 포스팅! 대구에는 교보문고 대구점, 교보문고 칠곡점 이렇게 두 군데가 있어요~ 칠곡점은 아직 가보지 못했고 교보문고 대구점은 아이들과 책 구매를 위해 한 번씩 방문해요~ 아이들 키우는 부모들은 책 읽는 게 중요하다고 아이들에게 말하지만 실상은 그 부모들도 한 달에 책 한 권 읽지 않는 사람들이 \\x08상당히 많아요~ 저 또한 책과 친하진 않아요 ㅠㅠ 교보문고 대구점 그래서 도서검색을 할 수 있는 PC가 있는데 사람들도 워낙 많다 보니 사용하기 위해서는 대기를 해야 하지만~ 교보문고 대구점은 검색 PC들이 많이 구비되어 있어서 기다림 없이 검색할 수 있어요~ 혼자서도 필요한 책 잘 검색해요 ㅎ 책 산다고 해서 그냥 그림책 정도인 줄 알았더니 생각보다 글 양이 많더라고요 ㅎ 오랜만에 교보문고 대구점 다녀왔네요~ {\"title\":\"대구 교보문고 대구점 방문 후기\",\"source\":\"https://blog.naver.com/sh_baekwoon/223359878100\",\"blogName\":\"보상의 모..\",\"domainIdOrBlogId\":\"sh_baekwoon\",\"nicknameOrBlogId\":\"권 소장\",\"logNo\":223359878100,\"smartEditorVersion\":4,\"cafeDisplay\":true,\"outsideDisplay\":true,\"lineDisplay\":true,\"blogDisplay\":true,\"meDisplay\":true}')]}\n",
      "\n",
      "==========================================================================================\n",
      "===== [GENERATE] generate() 함수 =====\n",
      "사용자 질문: 대구 교보문고\n",
      "문서 검색 결과:\n",
      "[Document(metadata={'source': 'https://www.localview.co.kr/store/detail.asp?seq=600977851'}, page_content='국민정신문화 향상, 사회교육적 기능을 살린 문화공간을 창출하는 문고 대구광역시 중구 동성로2가 위치, 영업점, 이벤트, 행사 등 안내, 보유도서 검색 제공. 대구의 중심가 동성로에 있는 교보문고 대구점은 총 면적 1,900평의 넓은 매장과 15만 종 30만 권의 방대한 도서를 바탕으로 대구를 대표하는'), Document(metadata={'source': 'https://m.blog.naver.com/sh_baekwoon/223359878100'}, page_content='대구 교보문고 대구점 방문 후기 : 네이버 블로그 대구 교보문고 대구점 방문 후기 며칠 전 동성로에 다녀오면서 교보문고 대구점도 방문하게 되어서 방문 후기도 포스팅! 대구에는 교보문고 대구점, 교보문고 칠곡점 이렇게 두 군데가 있어요~ 칠곡점은 아직 가보지 못했고 교보문고 대구점은 아이들과 책 구매를 위해 한 번씩 방문해요~ 아이들 키우는 부모들은 책 읽는 게 중요하다고 아이들에게 말하지만 실상은 그 부모들도 한 달에 책 한 권 읽지 않는 사람들이 \\x08상당히 많아요~ 저 또한 책과 친하진 않아요 ㅠㅠ 교보문고 대구점 그래서 도서검색을 할 수 있는 PC가 있는데 사람들도 워낙 많다 보니 사용하기 위해서는 대기를 해야 하지만~ 교보문고 대구점은 검색 PC들이 많이 구비되어 있어서 기다림 없이 검색할 수 있어요~ 혼자서도 필요한 책 잘 검색해요 ㅎ 책 산다고 해서 그냥 그림책 정도인 줄 알았더니 생각보다 글 양이 많더라고요 ㅎ 오랜만에 교보문고 대구점 다녀왔네요~ {\"title\":\"대구 교보문고 대구점 방문 후기\",\"source\":\"https://blog.naver.com/sh_baekwoon/223359878100\",\"blogName\":\"보상의 모..\",\"domainIdOrBlogId\":\"sh_baekwoon\",\"nicknameOrBlogId\":\"권 소장\",\"logNo\":223359878100,\"smartEditorVersion\":4,\"cafeDisplay\":true,\"outsideDisplay\":true,\"lineDisplay\":true,\"blogDisplay\":true,\"meDisplay\":true}')]\n",
      "\n",
      "rag 실행 결과:\n",
      "대구 교보문고 대구점은 총 면적 1,900평이며, 15만 종 30만 권의 방대한 도서를 보유하고 있습니다. \n",
      "\n",
      "**Source**\n",
      "- https://www.localview.co.kr/store/detail.asp?seq=600977851\n",
      "- https://m.blog.naver.com/sh_baekwoon/223359878100\n",
      "\n",
      "==========================================================================================\n",
      "\n",
      "\n",
      "==========================================================================================\n",
      "===== [CHECK hallucination] hallucination_check() 함수 =====\n",
      "===== [평가 결과] =====\n",
      "yes\n",
      "===== [DECISION: GENERATION IS GROUNDED IN DOCUMENTS] =====\n",
      "no hallucination\n",
      "===== [GRADE GENERATED ANSWER vs QUESTION] =====\n",
      "==== [DECISION: GENERATED ANSWER ADDRESSES QUESTION] ====\n",
      "relevant\n",
      "==========================================================================================\n",
      "\n",
      "[node_name]: generate\n",
      "[node_chunk]:\n",
      " {'generation': '대구 교보문고 대구점은 총 면적 1,900평이며, 15만 종 30만 권의 방대한 도서를 보유하고 있습니다. \\n\\n**Source**\\n- https://www.localview.co.kr/store/detail.asp?seq=600977851\\n- https://m.blog.naver.com/sh_baekwoon/223359878100'}\n"
     ]
    }
   ],
   "source": [
    "config = RunnableConfig(                        # config 설정\n",
    "    recursion_limit=20,                         # 최대 20개의 노드까지 방문.\n",
    "    configurable={'thread_id': random_uuid()}   # thread_id 설정\n",
    ")\n",
    "\n",
    "inputs = GraphState(question='대구 교보문고')\n",
    "\n",
    "for event in app.stream(inputs, config=config):\n",
    "    for node_name, node_chunk in event.items():\n",
    "        print('[node_name]:', node_name)\n",
    "        print('[node_chunk]:\\n', node_chunk)"
   ]
  }
 ],
 "metadata": {
  "kernelspec": {
   "display_name": "venv",
   "language": "python",
   "name": "python3"
  },
  "language_info": {
   "codemirror_mode": {
    "name": "ipython",
    "version": 3
   },
   "file_extension": ".py",
   "mimetype": "text/x-python",
   "name": "python",
   "nbconvert_exporter": "python",
   "pygments_lexer": "ipython3",
   "version": "3.11.9"
  }
 },
 "nbformat": 4,
 "nbformat_minor": 2
}
