{
 "cells": [
  {
   "cell_type": "code",
   "execution_count": 1,
   "metadata": {},
   "outputs": [],
   "source": [
    "from dotenv import load_dotenv\n",
    "import os\n",
    "\n",
    "load_dotenv(verbose=True)\n",
    "key = os.getenv('OPENAI_API_KEY')"
   ]
  },
  {
   "cell_type": "markdown",
   "metadata": {},
   "source": [
    "### PDF 기반 문서 검색기 (Retrieval chain) 생성"
   ]
  },
  {
   "cell_type": "code",
   "execution_count": 2,
   "metadata": {},
   "outputs": [],
   "source": [
    "from rag.pdf import PDFRetrievalChain\n",
    "\n",
    "# PDF 문서를 로드\n",
    "pdf = PDFRetrievalChain(['data/SPRI_AI_Brief_2023년12월호_F.pdf']).create_chain()\n",
    "\n",
    "pdf_retriever = pdf.retriever       # retriever 생성\n",
    "pdf_chain = pdf.chain               # pdf retriever chain 생성"
   ]
  },
  {
   "cell_type": "markdown",
   "metadata": {},
   "source": [
    "### GraphState"
   ]
  },
  {
   "cell_type": "code",
   "execution_count": 3,
   "metadata": {},
   "outputs": [],
   "source": [
    "from typing import List\n",
    "from typing_extensions import TypedDict, Annotated\n",
    "\n",
    "\n",
    "class GraphState(TypedDict):\n",
    "    \"\"\"\n",
    "    그래프의 상태를 나타내는 데이터 모델\n",
    "\n",
    "    Attributes:\n",
    "        question: 질문\n",
    "        generation: LLM 생성된 답변\n",
    "        documents: 도큐먼트 리스트\n",
    "    \"\"\"\n",
    "\n",
    "    question: Annotated[str, \"User question\"]\n",
    "    generation: Annotated[str, \"LLM generated answer\"]\n",
    "    documents: Annotated[List[str], \"List of documents\"]"
   ]
  },
  {
   "cell_type": "code",
   "execution_count": 4,
   "metadata": {},
   "outputs": [],
   "source": [
    "state = GraphState(\n",
    "    question='삼성전자가 만든 생성형 AI 이름은?',\n",
    "    generation = '', \n",
    "    documents = []\n",
    ")"
   ]
  },
  {
   "cell_type": "markdown",
   "metadata": {},
   "source": [
    "### 쿼리 라우터"
   ]
  },
  {
   "cell_type": "code",
   "execution_count": 5,
   "metadata": {},
   "outputs": [],
   "source": [
    "from pydantic import BaseModel, Field\n",
    "from typing import Literal\n",
    "\n",
    "from langchain_openai import ChatOpenAI\n",
    "from langchain_core.prompts import ChatPromptTemplate\n",
    "\n",
    "\n",
    "class RouteQuery(BaseModel):    \n",
    "    \"\"\"Route a user query to the most relevant datasource.\"\"\"\n",
    "\n",
    "    datasource: Literal[\"vectorstore\", \"web_search\"] = Field(\n",
    "        ...,\n",
    "        description=\"Given a user question choose to route it to web search or a vectorstore.\",\n",
    "    )\n",
    "\n",
    "\n",
    "llm = ChatOpenAI(\n",
    "    api_key=key, \n",
    "    model='gpt-4o-mini', \n",
    "    temperature=0\n",
    ")\n",
    "\n",
    "# 구조화된 출력을 결과로 가젼온다 (vectorstore, web_search)\n",
    "structured_llm_router = llm.with_structured_output(RouteQuery)\n",
    "\n",
    "# 시스템 메시지\n",
    "system = \"\"\"You are an expert at routing a user question to a vectorstore or web search.\n",
    "The vectorstore contains documents related to DEC 2023 AI Brief Report(SPRI) with Samsung Gause, Anthropic, etc.\n",
    "Use the vectorstore for questions on these topics. Otherwise, use web-search.\"\"\"\n",
    "\n",
    "# 프롬프트\n",
    "route_prompt = ChatPromptTemplate.from_messages(\n",
    "    [\n",
    "        ('system', system), \n",
    "        ('human', '{question}')\n",
    "    ]\n",
    ")\n",
    "\n",
    "question_router = route_prompt | structured_llm_router"
   ]
  },
  {
   "cell_type": "code",
   "execution_count": 6,
   "metadata": {},
   "outputs": [
    {
     "data": {
      "text/plain": [
       "RouteQuery(datasource='vectorstore')"
      ]
     },
     "execution_count": 6,
     "metadata": {},
     "output_type": "execute_result"
    }
   ],
   "source": [
    "# 쿼리 라우팅 테스트 (문서 검색이 필요한 질문)\n",
    "result = question_router.invoke({'question': 'AI Brief 에서 삼성전자가 만든 생성형 AI 이름은?'})\n",
    "result"
   ]
  },
  {
   "cell_type": "code",
   "execution_count": 7,
   "metadata": {},
   "outputs": [
    {
     "data": {
      "text/plain": [
       "RouteQuery(datasource='web_search')"
      ]
     },
     "execution_count": 7,
     "metadata": {},
     "output_type": "execute_result"
    }
   ],
   "source": [
    "# 쿼리 라우팅 테스트 (웹 검색이 필요한)\n",
    "result = question_router.invoke({'question': '대구 중앙떡볶이에 대해서 알려줘.'})\n",
    "result"
   ]
  },
  {
   "cell_type": "code",
   "execution_count": 8,
   "metadata": {},
   "outputs": [
    {
     "data": {
      "text/plain": [
       "RouteQuery(datasource='vectorstore')"
      ]
     },
     "execution_count": 8,
     "metadata": {},
     "output_type": "execute_result"
    }
   ],
   "source": [
    "state = GraphState(\n",
    "    question='삼성전자가 만든 생성형 AI 이름은?',\n",
    "    generation = '', \n",
    "    documents = []\n",
    ")\n",
    "\n",
    "# 쿼리 라우팅 테스트\n",
    "result = question_router.invoke({'question': state['question']})\n",
    "result"
   ]
  },
  {
   "cell_type": "markdown",
   "metadata": {},
   "source": [
    "### 검색 평가기 (Retrieval Grader)"
   ]
  },
  {
   "cell_type": "code",
   "execution_count": 9,
   "metadata": {},
   "outputs": [],
   "source": [
    "from pydantic import BaseModel, Field\n",
    "from langchain_openai import ChatOpenAI\n",
    "from langchain_core.prompts import ChatPromptTemplate\n",
    "\n",
    "class GradeDocuments(BaseModel):        # 문서 평가를 위한 데이터 모델\n",
    "    \"\"\"Binary score for relevance check on retrieved documents.\"\"\"\n",
    "\n",
    "    binary_score: str = Field(\n",
    "        description=\"Documents are relevant to the question, 'yes' or 'no'\"\n",
    "    )\n",
    "\n",
    "llm = ChatOpenAI(\n",
    "    api_key=key, \n",
    "    model='gpt-4o-mini', \n",
    "    temperature=0\n",
    ")\n",
    "\n",
    "structured_llm_grader = llm.with_structured_output(GradeDocuments)\n",
    "\n",
    "# 시스템 메시지\n",
    "system = \"\"\"You are a grader assessing relevance of a retrieved document to a user question. \\n \n",
    "    If the document contains keyword(s) or semantic meaning related to the user question, grade it as relevant. \\n\n",
    "    It does not need to be a stringent test. The goal is to filter out erroneous retrievals. \\n\n",
    "    Give a binary score 'yes' or 'no' score to indicate whether the document is relevant to the question.\"\"\"\n",
    "\n",
    "# 프롬프트 템플릿\n",
    "grade_prompt = ChatPromptTemplate.from_messages(\n",
    "    [\n",
    "        (\"system\", system),\n",
    "        (\"human\", \"Retrieved document: \\n\\n {document} \\n\\n User question: {question}\"),\n",
    "    ]\n",
    ")\n",
    "\n",
    "# 문서 검색결과 평가기\n",
    "retrieval_grader = grade_prompt | structured_llm_grader"
   ]
  },
  {
   "cell_type": "code",
   "execution_count": 10,
   "metadata": {},
   "outputs": [],
   "source": [
    "# 문서 검색 결과 평가기 테스트\n",
    "\n",
    "# question = '삼성전자가 만든 생성형 AI 이름은?'          # 사용자 질문\n",
    "# docs = pdf_retriever.invoke(question)                   # 질문에 대해서 관련 문서를 검색한다."
   ]
  },
  {
   "cell_type": "code",
   "execution_count": 12,
   "metadata": {},
   "outputs": [
    {
     "data": {
      "text/plain": [
       "[Document(id='c1407987-c24e-4f7b-9a9d-af8f87ee6bc0', metadata={'source': 'data/SPRI_AI_Brief_2023년12월호_F.pdf', 'file_path': 'data/SPRI_AI_Brief_2023년12월호_F.pdf', 'page': 1, 'total_pages': 23, 'Author': 'dj', 'Creator': 'Hwp 2018 10.0.0.13462', 'Producer': 'Hancom PDF 1.3.0.542', 'CreationDate': \"D:20231208132838+09'00'\", 'ModDate': \"D:20231208132838+09'00'\", 'PDFVersion': '1.4'}, page_content='▹ 삼성전자, 자체 개발 생성 AI ‘삼성 가우스’ 공개 ···························································10\\n▹ 구글, 앤스로픽에 20억 달러 투자로 생성 AI 협력 강화 ················································11\\n▹ IDC, 2027년 AI 소프트웨어 매출 2,500억 달러 돌파 전망···········································12'),\n",
       " Document(id='9d1c9684-6dd4-4f87-b719-b0cf7c8c4679', metadata={'source': 'data/SPRI_AI_Brief_2023년12월호_F.pdf', 'file_path': 'data/SPRI_AI_Brief_2023년12월호_F.pdf', 'page': 12, 'total_pages': 23, 'Author': 'dj', 'Creator': 'Hwp 2018 10.0.0.13462', 'Producer': 'Hancom PDF 1.3.0.542', 'CreationDate': \"D:20231208132838+09'00'\", 'ModDate': \"D:20231208132838+09'00'\", 'PDFVersion': '1.4'}, page_content='SPRi AI Brief |\\n2023-12월호\\n삼성전자, 자체 개발 생성 AI ‘삼성 가우스’ 공개\\nKEY Contents\\nn 삼성전자가 온디바이스에서 작동 가능하며 언어, 코드, 이미지의 3개 모델로 구성된 자체 개발 생성\\nAI 모델 ‘삼성 가우스’를 공개\\nn 삼성전자는 삼성 가우스를 다양한 제품에 단계적으로 탑재할 계획으로, 온디바이스 작동이 가능한\\n삼성 가우스는 외부로 사용자 정보가 유출될 위험이 없다는 장점을 보유\\n£언어, 코드, 이미지의 3개 모델로 구성된 삼성 가우스, 온디바이스 작동 지원'),\n",
       " Document(id='072c7184-421f-4b05-895b-053c001f4eee', metadata={'source': 'data/SPRI_AI_Brief_2023년12월호_F.pdf', 'file_path': 'data/SPRI_AI_Brief_2023년12월호_F.pdf', 'page': 12, 'total_pages': 23, 'Author': 'dj', 'Creator': 'Hwp 2018 10.0.0.13462', 'Producer': 'Hancom PDF 1.3.0.542', 'CreationDate': \"D:20231208132838+09'00'\", 'ModDate': \"D:20231208132838+09'00'\", 'PDFVersion': '1.4'}, page_content='£언어, 코드, 이미지의 3개 모델로 구성된 삼성 가우스, 온디바이스 작동 지원\\nn 삼성전자가 2023년 11월 8일 열린 ‘삼성 AI 포럼 2023’ 행사에서 자체 개발한 생성 AI 모델\\n‘삼성 가우스’를 최초 공개\\n∙ 정규분포 이론을 정립한 천재 수학자 가우스(Gauss)의 이름을 본뜬 삼성 가우스는 다양한 상황에\\n최적화된 크기의 모델 선택이 가능\\n∙ 삼성 가우스는 라이선스나 개인정보를 침해하지 않는 안전한 데이터를 통해 학습되었으며,\\n온디바이스에서 작동하도록 설계되어 외부로 사용자의 정보가 유출되지 않는 장점을 보유'),\n",
       " Document(id='b9ed246b-2d76-4e6c-b1c4-df10d228f9df', metadata={'source': 'data/SPRI_AI_Brief_2023년12월호_F.pdf', 'file_path': 'data/SPRI_AI_Brief_2023년12월호_F.pdf', 'page': 12, 'total_pages': 23, 'Author': 'dj', 'Creator': 'Hwp 2018 10.0.0.13462', 'Producer': 'Hancom PDF 1.3.0.542', 'CreationDate': \"D:20231208132838+09'00'\", 'ModDate': \"D:20231208132838+09'00'\", 'PDFVersion': '1.4'}, page_content='어시스턴트를 적용한 구글 픽셀(Pixel)과 경쟁할 것으로 예상\\n☞ 출처 : 삼성전자, ‘삼성 AI 포럼’서 자체 개발 생성형 AI ‘삼성 가우스’ 공개, 2023.11.08.\\n삼성전자, ‘삼성 개발자 콘퍼런스 코리아 2023’ 개최, 2023.11.14.\\nTechRepublic, Samsung Gauss: Samsung Research Reveals Generative AI, 2023.11.08.\\n10'),\n",
       " Document(id='3a4ee943-55d1-4b0c-8620-5a35a0898905', metadata={'source': 'data/SPRI_AI_Brief_2023년12월호_F.pdf', 'file_path': 'data/SPRI_AI_Brief_2023년12월호_F.pdf', 'page': 18, 'total_pages': 23, 'Author': 'dj', 'Creator': 'Hwp 2018 10.0.0.13462', 'Producer': 'Hancom PDF 1.3.0.542', 'CreationDate': \"D:20231208132838+09'00'\", 'ModDate': \"D:20231208132838+09'00'\", 'PDFVersion': '1.4'}, page_content='<구글 딥마인드의 범용 AI 분류 프레임워크>\\n성능 특수 AI 예시 범용 AI 예시\\n0단계: AI 아님 계산기 소프트웨어, 컴파일러 아마존 메커니컬 터크\\n1단계: 신진(숙련되지 않은 인간) GOFAI(Good Old Fashioned Artificial Intelligence) 챗GPT, 바드, 라마2\\n스마트 스피커(애플 시리, 아마존 알렉사, 구글\\n2단계: 유능(숙련된 인간의 50% 이상) 미달성\\n어시스턴트), IBM 왓슨\\n3단계: 전문가(숙련된 인간의 90% 이상) 문법 교정기(그래머리), 생성 이미지 모델(달리2) 미달성'),\n",
       " Document(id='d20c493a-1f0e-4ca5-8ff1-819dda28fd6f', metadata={'source': 'data/SPRI_AI_Brief_2023년12월호_F.pdf', 'file_path': 'data/SPRI_AI_Brief_2023년12월호_F.pdf', 'page': 12, 'total_pages': 23, 'Author': 'dj', 'Creator': 'Hwp 2018 10.0.0.13462', 'Producer': 'Hancom PDF 1.3.0.542', 'CreationDate': \"D:20231208132838+09'00'\", 'ModDate': \"D:20231208132838+09'00'\", 'PDFVersion': '1.4'}, page_content='처리를 지원\\n∙ 코드 모델 기반의 AI 코딩 어시스턴트 ‘코드아이(code.i)’는 대화형 인터페이스로 서비스를 제공하며\\n사내 소프트웨어 개발에 최적화\\n∙ 이미지 모델은 창의적인 이미지를 생성하고 기존 이미지를 원하는 대로 바꿀 수 있도록 지원하며\\n저해상도 이미지의 고해상도 전환도 지원\\nn IT 전문지 테크리퍼블릭(TechRepublic)은 온디바이스 AI가 주요 기술 트렌드로 부상했다며,\\n2024년부터 가우스를 탑재한 삼성 스마트폰이 메타의 라마(Llama)2를 탑재한 퀄컴 기기 및 구글'),\n",
       " Document(id='4bbc56cd-5e33-4347-a585-891f00bce829', metadata={'source': 'data/SPRI_AI_Brief_2023년12월호_F.pdf', 'file_path': 'data/SPRI_AI_Brief_2023년12월호_F.pdf', 'page': 12, 'total_pages': 23, 'Author': 'dj', 'Creator': 'Hwp 2018 10.0.0.13462', 'Producer': 'Hancom PDF 1.3.0.542', 'CreationDate': \"D:20231208132838+09'00'\", 'ModDate': \"D:20231208132838+09'00'\", 'PDFVersion': '1.4'}, page_content='온디바이스에서 작동하도록 설계되어 외부로 사용자의 정보가 유출되지 않는 장점을 보유\\n∙ 삼성전자는 삼성 가우스를 활용한 온디바이스 AI 기술도 소개했으며, 생성 AI 모델을 다양한 제품에\\n단계적으로 탑재할 계획\\nn 삼성 가우스는 △텍스트를 생성하는 언어모델 △코드를 생성하는 코드 모델 △이미지를 생성하는\\n이미지 모델의 3개 모델로 구성\\n∙ 언어 모델은 클라우드와 온디바이스 대상 다양한 모델로 구성되며, 메일 작성, 문서 요약, 번역 업무의\\n처리를 지원'),\n",
       " Document(id='a380b69c-8bdc-45b3-9dc6-befdc28cd6b9', metadata={'source': 'data/SPRI_AI_Brief_2023년12월호_F.pdf', 'file_path': 'data/SPRI_AI_Brief_2023년12월호_F.pdf', 'page': 11, 'total_pages': 23, 'Author': 'dj', 'Creator': 'Hwp 2018 10.0.0.13462', 'Producer': 'Hancom PDF 1.3.0.542', 'CreationDate': \"D:20231208132838+09'00'\", 'ModDate': \"D:20231208132838+09'00'\", 'PDFVersion': '1.4'}, page_content='제작을 포함\\nn 알리바바 클라우드는 급증하는 생성 AI 수요에 대응해 모델 개발과 애플리케이션 구축 절차를\\n간소화하는 올인원 AI 모델 구축 플랫폼 ‘젠AI(GenAI)’도 공개\\n∙ 이 플랫폼은 데이터 관리, 모델 배포와 평가, 신속한 엔지니어링을 위한 종합 도구 모음을 제공하여\\n다양한 기업들이 맞춤형 AI 모델을 한층 쉽게 개발할 수 있도록 지원\\n∙ 생성 AI 개발에 필요한 컴퓨팅과 데이터 처리 요구사항을 지원하기 위해 AI 플랫폼(PAI),\\n데이터베이스 솔루션, 컨테이너 서비스와 같은 클라우드 신제품도 발표'),\n",
       " Document(id='93383986-36e4-4d89-a57d-7685c8e81945', metadata={'source': 'data/SPRI_AI_Brief_2023년12월호_F.pdf', 'file_path': 'data/SPRI_AI_Brief_2023년12월호_F.pdf', 'page': 1, 'total_pages': 23, 'Author': 'dj', 'Creator': 'Hwp 2018 10.0.0.13462', 'Producer': 'Hancom PDF 1.3.0.542', 'CreationDate': \"D:20231208132838+09'00'\", 'ModDate': \"D:20231208132838+09'00'\", 'PDFVersion': '1.4'}, page_content='▹ 빌 게이츠, AI 에이전트로 인한 컴퓨터 사용의 패러다임 변화 전망································13\\n▹ 유튜브, 2024년부터 AI 생성 콘텐츠 표시 의무화····························································14\\n3. 기술/연구\\n▹ 영국 과학혁신기술부, AI 안전 연구소 설립 발표······························································15'),\n",
       " Document(id='fd2624fe-2cd5-441d-85a7-525aa9b9781f', metadata={'source': 'data/SPRI_AI_Brief_2023년12월호_F.pdf', 'file_path': 'data/SPRI_AI_Brief_2023년12월호_F.pdf', 'page': 7, 'total_pages': 23, 'Author': 'dj', 'Creator': 'Hwp 2018 10.0.0.13462', 'Producer': 'Hancom PDF 1.3.0.542', 'CreationDate': \"D:20231208132838+09'00'\", 'ModDate': \"D:20231208132838+09'00'\", 'PDFVersion': '1.4'}, page_content='만들었다고 오해할 소지가 있다고 지적\\n∙ 저작권법에 저촉되는 행위는 불공정 경쟁이나 기만행위에도 해당될 수 있으며, 창작자의 평판 악화,\\n저작물의 가치 저하나 개인정보 유출로 소비자에 상당한 피해를 초래 가능\\nn FTC는 일부 빅테크가 막대한 재원을 활용해 생성 AI 사용자의 이탈을 막고 저작권이 있는 상용\\n데이터에 대한 독점 라이선스를 확보해 시장 지배력을 더욱 강화할 수 있다는 우려도 제기\\n∙ 이와 관련 FTC는 아마존 AI 비서 ‘알렉사(Alexa)’와 스마트홈 보안 기기 ‘링(Ring)’이 소비자의 사적')]"
      ]
     },
     "execution_count": 12,
     "metadata": {},
     "output_type": "execute_result"
    }
   ],
   "source": [
    "state = GraphState(\n",
    "    question='삼성전자가 만든 생성형 AI 이름은?',\n",
    "    generation = '', \n",
    "    documents = []\n",
    ")\n",
    "\n",
    "docs = pdf_retriever.invoke(state['question'])              # 사용자 질문에 대해서 관련 문서를 검색한다.\n",
    "docs"
   ]
  },
  {
   "cell_type": "code",
   "execution_count": 13,
   "metadata": {},
   "outputs": [
    {
     "data": {
      "text/plain": [
       "'SPRi AI Brief |\\n2023-12월호\\n삼성전자, 자체 개발 생성 AI ‘삼성 가우스’ 공개\\nKEY Contents\\nn 삼성전자가 온디바이스에서 작동 가능하며 언어, 코드, 이미지의 3개 모델로 구성된 자체 개발 생성\\nAI 모델 ‘삼성 가우스’를 공개\\nn 삼성전자는 삼성 가우스를 다양한 제품에 단계적으로 탑재할 계획으로, 온디바이스 작동이 가능한\\n삼성 가우스는 외부로 사용자 정보가 유출될 위험이 없다는 장점을 보유\\n£언어, 코드, 이미지의 3개 모델로 구성된 삼성 가우스, 온디바이스 작동 지원'"
      ]
     },
     "execution_count": 13,
     "metadata": {},
     "output_type": "execute_result"
    }
   ],
   "source": [
    "retrieved_doc = docs[1].page_content                        # 검색된 문서의 내용 가져오기\n",
    "retrieved_doc"
   ]
  },
  {
   "cell_type": "code",
   "execution_count": 14,
   "metadata": {},
   "outputs": [
    {
     "data": {
      "text/plain": [
       "GradeDocuments(binary_score='yes')"
      ]
     },
     "execution_count": 14,
     "metadata": {},
     "output_type": "execute_result"
    }
   ],
   "source": [
    "# 문서 검색 결과를 평가하는 평가기(retrieval_grader)를 사용해서 사용자 질문과 검색 결과문서가 관련성이 있는지 평가한다.\n",
    "retrieval_grader.invoke({'question': state['question'], 'document': retrieved_doc})"
   ]
  },
  {
   "cell_type": "code",
   "execution_count": 15,
   "metadata": {},
   "outputs": [
    {
     "name": "stdout",
     "output_type": "stream",
     "text": [
      "result.binary_score: yes\n",
      "result.binary_score: yes\n",
      "result.binary_score: yes\n",
      "result.binary_score: yes\n",
      "result.binary_score: no\n",
      "result.binary_score: yes\n",
      "result.binary_score: yes\n",
      "result.binary_score: no\n",
      "result.binary_score: no\n",
      "result.binary_score: no\n"
     ]
    }
   ],
   "source": [
    "# 문서 검색 결과를 평가하는 평가기(retrieval_grader)를 사용해서 테스트를 다시 실행\n",
    "\n",
    "# question = '삼성전자가 만든 생성형 AI 이름은?'      # 사용자 질문\n",
    "# docs = pdf_retriever.invoke(question)               # 질문에 대해서 관련 문서를 검색한다.\n",
    "\n",
    "docs = pdf_retriever.invoke(state['question'])        # 질문에 대해서 관련 문서를 검색한다.\n",
    "\n",
    "filtered_docs = []                                    # 문서 검색 평가기를 통과한 문서들만 필터링\n",
    "\n",
    "for doc in docs:\n",
    "    result = retrieval_grader.invoke({'question': state['question'], 'document': doc.page_content})\n",
    "    print(f\"result.binary_score: {result.binary_score}\")\n",
    "    \n",
    "    if result.binary_score == 'yes':\n",
    "        filtered_docs.append(doc)"
   ]
  },
  {
   "cell_type": "markdown",
   "metadata": {},
   "source": [
    "### 답변 생성을 위한 RAG 체인"
   ]
  },
  {
   "cell_type": "code",
   "execution_count": 16,
   "metadata": {},
   "outputs": [],
   "source": [
    "from langchain_core.output_parsers import StrOutputParser\n",
    "from langchain_openai import ChatOpenAI\n",
    "from langchain import hub\n",
    "\n",
    "# prompt = hub.pull(\"teddynote/rag-prompt\")\n",
    "\n",
    "template = \"\"\"You are an AI assistant specializing in Question-Answering (QA) tasks within a Retrieval-Augmented Generation (RAG) system. \n",
    "Your primary mission is to answer questions based on provided context or chat history.\n",
    "Ensure your response is concise and directly addresses the question without any additional narration.\n",
    "\n",
    "###\n",
    "\n",
    "Your final answer should be written concisely (but include important numerical values, technical terms, jargon, and names), followed by the source of the information.\n",
    "\n",
    "# Steps\n",
    "\n",
    "1. Carefully read and understand the context provided.\n",
    "2. Identify the key information related to the question within the context.\n",
    "3. Formulate a concise answer based on the relevant information.\n",
    "4. Ensure your final answer directly addresses the question.\n",
    "5. List the source of the answer in bullet points, which must be a file name (with a page number) or URL from the context. Omit if the source cannot be found.\n",
    "\n",
    "# Output Format:\n",
    "[Your final answer here, with numerical values, technical terms, jargon, and names in their original language]\n",
    "\n",
    "**Source**(Optional)\n",
    "- (Source of the answer, must be a file name(with a page number) or URL from the context. Omit if you can't find the source of the answer.)\n",
    "- (list more if there are multiple sources)\n",
    "- ...\n",
    "\n",
    "###\n",
    "\n",
    "Remember:\n",
    "- It's crucial to base your answer solely on the **PROVIDED CONTEXT**. \n",
    "- DO NOT use any external knowledge or information not present in the given materials.\n",
    "- If you can't find the source of the answer, you should answer that you don't know.\n",
    "\n",
    "###\n",
    "\n",
    "# Here is the user's QUESTION that you should answer:\n",
    "{question}\n",
    "\n",
    "# Here is the CONTEXT that you should use to answer the question:\n",
    "{context}\n",
    "\n",
    "# Your final ANSWER to the user's QUESTION:\"\"\"\n",
    "\n",
    "prompt = ChatPromptTemplate.from_template(template)\n",
    "\n",
    "llm = ChatOpenAI(\n",
    "    api_key=key, \n",
    "    model='gpt-4o-mini', \n",
    "    temperature=0\n",
    ")\n",
    "\n",
    "def format_docs(docs):\n",
    "    return \"\\n\\n\".join(\n",
    "        [\n",
    "            f'<document><content>{doc.page_content}</content><source>{doc.metadata[\"source\"]}</source><page>{doc.metadata[\"page\"]+1}</page></document>'\n",
    "            for doc in docs\n",
    "        ]\n",
    "    )\n",
    "\n",
    "output_parser = StrOutputParser()\n",
    "\n",
    "# RAG 체인 생성 (pdf_retriever 문서 검색기를 사용해서 얻은 문서와 사용자 질문을 넣어서 결과)\n",
    "rag_chain = prompt | llm | output_parser"
   ]
  },
  {
   "cell_type": "code",
   "execution_count": 18,
   "metadata": {},
   "outputs": [
    {
     "name": "stdout",
     "output_type": "stream",
     "text": [
      "question: 삼성전자가 만든 생성형 AI 이름은?\n",
      "format_docs(docs): <document><content>▹ 삼성전자, 자체 개발 생성 AI ‘삼성 가우스’ 공개 ···························································10\n",
      "▹ 구글, 앤스로픽에 20억 달러 투자로 생성 AI 협력 강화 ················································11\n",
      "▹ IDC, 2027년 AI 소프트웨어 매출 2,500억 달러 돌파 전망···········································12</content><source>data/SPRI_AI_Brief_2023년12월호_F.pdf</source><page>2</page></document>\n",
      "\n",
      "<document><content>SPRi AI Brief |\n",
      "2023-12월호\n",
      "삼성전자, 자체 개발 생성 AI ‘삼성 가우스’ 공개\n",
      "KEY Contents\n",
      "n 삼성전자가 온디바이스에서 작동 가능하며 언어, 코드, 이미지의 3개 모델로 구성된 자체 개발 생성\n",
      "AI 모델 ‘삼성 가우스’를 공개\n",
      "n 삼성전자는 삼성 가우스를 다양한 제품에 단계적으로 탑재할 계획으로, 온디바이스 작동이 가능한\n",
      "삼성 가우스는 외부로 사용자 정보가 유출될 위험이 없다는 장점을 보유\n",
      "£언어, 코드, 이미지의 3개 모델로 구성된 삼성 가우스, 온디바이스 작동 지원</content><source>data/SPRI_AI_Brief_2023년12월호_F.pdf</source><page>13</page></document>\n",
      "\n",
      "<document><content>£언어, 코드, 이미지의 3개 모델로 구성된 삼성 가우스, 온디바이스 작동 지원\n",
      "n 삼성전자가 2023년 11월 8일 열린 ‘삼성 AI 포럼 2023’ 행사에서 자체 개발한 생성 AI 모델\n",
      "‘삼성 가우스’를 최초 공개\n",
      "∙ 정규분포 이론을 정립한 천재 수학자 가우스(Gauss)의 이름을 본뜬 삼성 가우스는 다양한 상황에\n",
      "최적화된 크기의 모델 선택이 가능\n",
      "∙ 삼성 가우스는 라이선스나 개인정보를 침해하지 않는 안전한 데이터를 통해 학습되었으며,\n",
      "온디바이스에서 작동하도록 설계되어 외부로 사용자의 정보가 유출되지 않는 장점을 보유</content><source>data/SPRI_AI_Brief_2023년12월호_F.pdf</source><page>13</page></document>\n",
      "\n",
      "<document><content>어시스턴트를 적용한 구글 픽셀(Pixel)과 경쟁할 것으로 예상\n",
      "☞ 출처 : 삼성전자, ‘삼성 AI 포럼’서 자체 개발 생성형 AI ‘삼성 가우스’ 공개, 2023.11.08.\n",
      "삼성전자, ‘삼성 개발자 콘퍼런스 코리아 2023’ 개최, 2023.11.14.\n",
      "TechRepublic, Samsung Gauss: Samsung Research Reveals Generative AI, 2023.11.08.\n",
      "10</content><source>data/SPRI_AI_Brief_2023년12월호_F.pdf</source><page>13</page></document>\n",
      "\n",
      "<document><content><구글 딥마인드의 범용 AI 분류 프레임워크>\n",
      "성능 특수 AI 예시 범용 AI 예시\n",
      "0단계: AI 아님 계산기 소프트웨어, 컴파일러 아마존 메커니컬 터크\n",
      "1단계: 신진(숙련되지 않은 인간) GOFAI(Good Old Fashioned Artificial Intelligence) 챗GPT, 바드, 라마2\n",
      "스마트 스피커(애플 시리, 아마존 알렉사, 구글\n",
      "2단계: 유능(숙련된 인간의 50% 이상) 미달성\n",
      "어시스턴트), IBM 왓슨\n",
      "3단계: 전문가(숙련된 인간의 90% 이상) 문법 교정기(그래머리), 생성 이미지 모델(달리2) 미달성</content><source>data/SPRI_AI_Brief_2023년12월호_F.pdf</source><page>19</page></document>\n",
      "\n",
      "<document><content>처리를 지원\n",
      "∙ 코드 모델 기반의 AI 코딩 어시스턴트 ‘코드아이(code.i)’는 대화형 인터페이스로 서비스를 제공하며\n",
      "사내 소프트웨어 개발에 최적화\n",
      "∙ 이미지 모델은 창의적인 이미지를 생성하고 기존 이미지를 원하는 대로 바꿀 수 있도록 지원하며\n",
      "저해상도 이미지의 고해상도 전환도 지원\n",
      "n IT 전문지 테크리퍼블릭(TechRepublic)은 온디바이스 AI가 주요 기술 트렌드로 부상했다며,\n",
      "2024년부터 가우스를 탑재한 삼성 스마트폰이 메타의 라마(Llama)2를 탑재한 퀄컴 기기 및 구글</content><source>data/SPRI_AI_Brief_2023년12월호_F.pdf</source><page>13</page></document>\n",
      "\n",
      "<document><content>온디바이스에서 작동하도록 설계되어 외부로 사용자의 정보가 유출되지 않는 장점을 보유\n",
      "∙ 삼성전자는 삼성 가우스를 활용한 온디바이스 AI 기술도 소개했으며, 생성 AI 모델을 다양한 제품에\n",
      "단계적으로 탑재할 계획\n",
      "n 삼성 가우스는 △텍스트를 생성하는 언어모델 △코드를 생성하는 코드 모델 △이미지를 생성하는\n",
      "이미지 모델의 3개 모델로 구성\n",
      "∙ 언어 모델은 클라우드와 온디바이스 대상 다양한 모델로 구성되며, 메일 작성, 문서 요약, 번역 업무의\n",
      "처리를 지원</content><source>data/SPRI_AI_Brief_2023년12월호_F.pdf</source><page>13</page></document>\n",
      "\n",
      "<document><content>제작을 포함\n",
      "n 알리바바 클라우드는 급증하는 생성 AI 수요에 대응해 모델 개발과 애플리케이션 구축 절차를\n",
      "간소화하는 올인원 AI 모델 구축 플랫폼 ‘젠AI(GenAI)’도 공개\n",
      "∙ 이 플랫폼은 데이터 관리, 모델 배포와 평가, 신속한 엔지니어링을 위한 종합 도구 모음을 제공하여\n",
      "다양한 기업들이 맞춤형 AI 모델을 한층 쉽게 개발할 수 있도록 지원\n",
      "∙ 생성 AI 개발에 필요한 컴퓨팅과 데이터 처리 요구사항을 지원하기 위해 AI 플랫폼(PAI),\n",
      "데이터베이스 솔루션, 컨테이너 서비스와 같은 클라우드 신제품도 발표</content><source>data/SPRI_AI_Brief_2023년12월호_F.pdf</source><page>12</page></document>\n",
      "\n",
      "<document><content>▹ 빌 게이츠, AI 에이전트로 인한 컴퓨터 사용의 패러다임 변화 전망································13\n",
      "▹ 유튜브, 2024년부터 AI 생성 콘텐츠 표시 의무화····························································14\n",
      "3. 기술/연구\n",
      "▹ 영국 과학혁신기술부, AI 안전 연구소 설립 발표······························································15</content><source>data/SPRI_AI_Brief_2023년12월호_F.pdf</source><page>2</page></document>\n",
      "\n",
      "<document><content>만들었다고 오해할 소지가 있다고 지적\n",
      "∙ 저작권법에 저촉되는 행위는 불공정 경쟁이나 기만행위에도 해당될 수 있으며, 창작자의 평판 악화,\n",
      "저작물의 가치 저하나 개인정보 유출로 소비자에 상당한 피해를 초래 가능\n",
      "n FTC는 일부 빅테크가 막대한 재원을 활용해 생성 AI 사용자의 이탈을 막고 저작권이 있는 상용\n",
      "데이터에 대한 독점 라이선스를 확보해 시장 지배력을 더욱 강화할 수 있다는 우려도 제기\n",
      "∙ 이와 관련 FTC는 아마존 AI 비서 ‘알렉사(Alexa)’와 스마트홈 보안 기기 ‘링(Ring)’이 소비자의 사적</content><source>data/SPRI_AI_Brief_2023년12월호_F.pdf</source><page>8</page></document>\n"
     ]
    }
   ],
   "source": [
    "# RAG 체인에 질문을 전달하여 답변 생성 테스트\n",
    "print(f\"question: {state['question']}\")\n",
    "print(f'format_docs(docs): {format_docs(docs)}')"
   ]
  },
  {
   "cell_type": "code",
   "execution_count": 19,
   "metadata": {},
   "outputs": [
    {
     "data": {
      "text/plain": [
       "\"삼성전자가 만든 생성형 AI의 이름은 '삼성 가우스'입니다.\\n\\n**Source**\\n- data/SPRI_AI_Brief_2023년12월호_F.pdf (page 13)\""
      ]
     },
     "execution_count": 19,
     "metadata": {},
     "output_type": "execute_result"
    }
   ],
   "source": [
    "generation = rag_chain.invoke({'context': format_docs(docs), 'question': state['question']})\n",
    "generation"
   ]
  },
  {
   "cell_type": "markdown",
   "metadata": {},
   "source": [
    "# 답변에 대한 Hallucination checker 추가"
   ]
  },
  {
   "cell_type": "code",
   "execution_count": 20,
   "metadata": {},
   "outputs": [],
   "source": [
    "from langchain_openai import ChatOpenAI\n",
    "from langchain_core.prompts import ChatPromptTemplate\n",
    "from langchain_core.output_parsers import StrOutputParser\n",
    "\n",
    "class GradeHallucinations(BaseModel):\n",
    "    \"\"\"Binary score for hallucination present in generation answer.\"\"\"\n",
    "\n",
    "    binary_score: str = Field(\n",
    "        description=\"Answer is grounded in the facts, 'yes' or 'no'\"\n",
    "    )\n",
    "\n",
    "\n",
    "llm = ChatOpenAI(\n",
    "    api_key=key, \n",
    "    model='gpt-4o-mini', \n",
    "    temperature=0\n",
    ")\n",
    "\n",
    "structured_hallucination_grader = llm.with_structured_output(GradeHallucinations)\n",
    "\n",
    "# system\n",
    "system = \"\"\"You are a grader assessing whether an LLM generation is grounded in / supported by a set of retrieved facts. \\n \n",
    "    Give a binary score 'yes' or 'no'. 'Yes' means that the answer is grounded in / supported by the set of facts.\"\"\"\n",
    "\n",
    "# 프롬프트\n",
    "hallucination_prompt = ChatPromptTemplate.from_messages(\n",
    "    [\n",
    "        (\"system\", system),\n",
    "        (\"human\", \"Set of facts: \\n\\n {documents} \\n\\n LLM generation: {generation}\"),\n",
    "    ]\n",
    ") \n",
    "\n",
    "# hallucination 평가기 생성\n",
    "hallucination_grader = hallucination_prompt | structured_hallucination_grader"
   ]
  },
  {
   "cell_type": "code",
   "execution_count": 21,
   "metadata": {},
   "outputs": [
    {
     "data": {
      "text/plain": [
       "GradeHallucinations(binary_score='yes')"
      ]
     },
     "execution_count": 21,
     "metadata": {},
     "output_type": "execute_result"
    }
   ],
   "source": [
    "# hallucination 평가기 테스트 (생성된 답변과 질문에 대한 평가)\n",
    "hallucination_grader.invoke({\"documents\": format_docs(docs), \"generation\": generation})"
   ]
  },
  {
   "cell_type": "code",
   "execution_count": 22,
   "metadata": {},
   "outputs": [],
   "source": [
    "class GradeAnswer(BaseModel):                       # 사용자 질문과 RAG 실행 결과의 답변에 대한 평가  \n",
    "    \"\"\"Binary scoring to evaluate the appropriateness of answers to questions\"\"\"\n",
    "\n",
    "    binary_score: str = Field(\n",
    "        description=\"Indicate 'yes' or 'no' whether the answer solves the question\"\n",
    "    )\n",
    "\n",
    "llm = ChatOpenAI(\n",
    "    api_key=key, \n",
    "    model='gpt-4o-mini', \n",
    "    temperature=0\n",
    ")\n",
    "\n",
    "structured_llm_grader = llm.with_structured_output(GradeAnswer)\n",
    "\n",
    "# system\n",
    "system = \"\"\"You are a grader assessing whether an answer addresses / resolves a question \\n \n",
    "     Give a binary score 'yes' or 'no'. Yes' means that the answer resolves the question.\"\"\"\n",
    "\n",
    "# 프롬프트 템플릿\n",
    "answer_prompt = ChatPromptTemplate.from_messages(\n",
    "    [\n",
    "        (\"system\", system),\n",
    "        (\"human\", \"User question: \\n\\n {question} \\n\\n LLM generation: {generation}\"),\n",
    "    ]\n",
    ")\n",
    "\n",
    "# 프롬프트 템플릿과 구조화된 LLM 평가기를 결합하여 답변 평가기 생성\n",
    "answer_grader = answer_prompt | structured_llm_grader"
   ]
  },
  {
   "cell_type": "markdown",
   "metadata": {},
   "source": [
    "### 쿼리 재작성 (Query Rewriter)"
   ]
  },
  {
   "cell_type": "code",
   "execution_count": 23,
   "metadata": {},
   "outputs": [],
   "source": [
    "from langchain_openai import ChatOpenAI\n",
    "from langchain_core.prompts import ChatPromptTemplate\n",
    "from langchain_core.output_parsers import StrOutputParser\n",
    "\n",
    "\n",
    "llm = ChatOpenAI(\n",
    "    api_key=key, \n",
    "    model='gpt-4o-mini', \n",
    "    temperature=0\n",
    ")\n",
    "\n",
    "# Query Rewriter 프롬프트\n",
    "system = \"\"\"You a question re-writer that converts an input question to a better version that is optimized \\n \n",
    "for vectorstore retrieval. Look at the input and try to reason about the underlying semantic intent / meaning.\"\"\"\n",
    "\n",
    "re_writer_prompt = ChatPromptTemplate.from_messages(\n",
    "    [\n",
    "        ('system', system), \n",
    "        ('human', 'Here is the initial question: \\n\\n {question} \\n Formulate an improved question')\n",
    "    ]\n",
    ")\n",
    "\n",
    "# Query Rewriter 생성\n",
    "question_rewriter = re_writer_prompt | llm | StrOutputParser()"
   ]
  },
  {
   "cell_type": "code",
   "execution_count": 24,
   "metadata": {},
   "outputs": [
    {
     "data": {
      "text/plain": [
       "'삼성전자가 개발한 생성형 AI의 이름은 무엇인가요?'"
      ]
     },
     "execution_count": 24,
     "metadata": {},
     "output_type": "execute_result"
    }
   ],
   "source": [
    "# 테스트\n",
    "question_rewriter.invoke({'question': state['question']})"
   ]
  },
  {
   "cell_type": "code",
   "execution_count": 25,
   "metadata": {},
   "outputs": [],
   "source": [
    "from langchain_teddynote.tools.tavily import TavilySearch\n",
    "\n",
    "# 웹 검색 도구 생성\n",
    "web_search_tool = TavilySearch(max_results=2)"
   ]
  },
  {
   "cell_type": "code",
   "execution_count": 26,
   "metadata": {},
   "outputs": [
    {
     "data": {
      "text/plain": [
       "[{'title': \"'대구 고깃집' 맛집 빅데이터 추천순위 Top100 - 다이닝코드\",\n",
       "  'url': 'https://www.diningcode.com/list.dc?query=대구++고깃집',\n",
       "  'content': '3. 육즙 대구 --------- 73점 5.0 (2명) 영업 중 삼겹살 회식,주차,예약,콜키지  \"직접 고기를 구워주시니 편했고 고기도 맛있는데 밑반찬이 진리입니댜\" 6. 고기굽는남자 본점 ------------- 72점 4.5 (12명) 영업 중 삼겹살 술모임,무료주차,시끌벅적한,단체석  \"제 최애 고깃집이에요\" 9. 은하수식당 삼덕동 ------------- 72점 4.9 (6명) 영업 중 삼겹살 술모임,주차,서민적인  \"대구 삼덕동에 위치한 고깃집입니다.\" 83해치 복현점 ------------- 69점 5.0 (2명) 영업 중 삼겹살 회식,예약,예약가능  \"복현동 먹자골목 고기 맛집, 직원들 텐션이 어마무시한 고깃집 😲 고기도 다 구워주고 편하게 먹기 좋은곳 매장도 넓어서 회식하기 좋을듯!\" 혜옥당 대구 ----------- 69점 4.9 (7명) 영업 중 삼겹살 술모임,캐주얼한  \"프라이빗한 느낌을 줘서 일반 고깃집보다 편안하게 즐길 수 있다 너무 시끌벅적한 느낌이 아니라 편안..레트로 인테리어가 정감있었던 구워주는 고깃집 맛있게 구워주셔서 좋은데 비계가 정말 많아서 마지막엔 살짝 느끼했다 그럴때 냉메밀면 먹으면 내려감\" 고기굽는남자 신세계점 ---------------- 69점 4.5 (11명) 영업 중 삼겹살 식사모임,무료주차,시끌벅적한,놀이방  \"오랜만에 방문했는데 역시 맛있어요!!!',\n",
       "  'score': 0.7283819,\n",
       "  'raw_content': '\\'대구 고깃집\\' 맛집 빅데이터 추천순위 Top100 - 다이닝코드\\n\\n\\n\\n이용자층\\n카테고리방문목적편의기능분위기인증맛집\\n\\n20대\\n30대\\n40대\\n50대\\n60대 이상\\n\\n\\n\\n여성\\n\\n남성\\n\\n\\n연관순\\n\\n평점순\\n리뷰많은순\\n좋아요많은순\\n거리순\\n\\n\\n대구 고깃집\\xa0맛집 (4,097곳)\\n\\n💁🏻 대구에서 많이 검색된 키워드\\n막창뭉티기뷔페24시간영업돈까스카페아침식사빵집더보기\\n1. 로산가옥 삼덕동 ------------ 75점 4.1 (14명) 영업 중 삼겹살 식사모임,시끌벅적한,콜키지  \"예쁜 고기집인 로산 가옥 웨이팅이 길고 안에가 생각보다 더워요\"\\n2. 상구네돼지구이 수성못점 ---------------- 75점 4.7 (23명) 영업 중 삼겹살 식사모임,무료주차,깔끔한,셀프바  \"외관도 고기집같지않고 패밀리 레스토랑 같아서 이쁩니다 직원들 친절한건 말할것도 없고 무엇보다 고기가 진짜 찐으로 맛있습니다\"\\n3. 육즙 대구 --------- 73점 5.0 (2명) 영업 중 삼겹살 회식,주차,예약,콜키지  \"직접 고기를 구워주시니 편했고 고기도 맛있는데 밑반찬이 진리입니댜\"\\n\\n4. 돼지만 본점 ---------- 72점 4.6 (9명) 영업 중 삼겹살 식사모임,무료주차,시끌벅적한,단체석  \"리모델링되어서 신축 제주도 돌담컨셉으로 리뉴얼되어서 깔끔해서 좋았다 단지 배가 부른상태로 2명이서 방문하였는데 저녁시간에는 3인분부터 주문가능임을 미리공지안하셔서 조금 당황했다\"\\n\\n5. 83해치 봉덕동 ------------ 71점 4.9 (4명) 영업 중 삼겹살 식사모임,주차,깔끔한  \"평소에 자주가는 맛집입니다 사장님 외에 다른 직원분들도 친절 하시고 직접 고기를 구워주시는 점에서 매우 마음에 들어요 이런저런 스몰토크나 여성분이 오시면 머리끈 혹은 춥다면 담요까\"\\n6. 고기굽는남자 본점 ------------- 72점 4.5 (12명) 영업 중 삼겹살 술모임,무료주차,시끌벅적한,단체석  \"제 최애 고깃집이에요\"\\n7. 미식가의구이 대구신월성점 ----------------- 71점 5.0 (6명) 영업 중 고깃집 술모임,발렛파킹,시끌벅적한  \"고기 상태가 좋아보였고 구워 먹었을 때 질기지않고 맛있었어요\"\\n8. 참한집 종로점 ----------- 72점 4.8 (11명) 영업 중 삼겹살 술모임,시끌벅적한  \"우연히 들렀다가 보물을 발견하고 꾸준히 가고 있는 고깃집이에요\"\\n9. 은하수식당 삼덕동 ------------- 72점 4.9 (6명) 영업 중 삼겹살 술모임,주차,서민적인  \"대구 삼덕동에 위치한 고깃집입니다.\"\\n10. 양파식당 대구 ------------ 76점 4.7 (13명) 영업 중 미국산소고기, 갈비살 술모임,무료주차,가성비좋은,놀이방  \"대구 24시간 고깃집, 가성비가 좋기로 유명한 양파식당...이 근처에 산다면 이만한 고깃집을 찾기는 힘들다...일반 고깃집에선 볼 수 없는 야끼니쿠를 먹을수 있다는것이 차별점이기도 하다...매번 사람이 친절할 순 없지만(알바가 잘못 걸리거나 사람이 워낙 많은 날)한 두번 이외에는 매우 친절했으며 밑반찬으로 처음에는 계란찜도 나오며 개인적으로는 고깃집에서 재래기를 고기\"\\n11. 돼지만왕 소금구이 진천동 ------------------ 69점 4.8 (6명) 영업 중 삼겹살 술모임,주차,캐주얼한  \"정말 맛 있는 삼겹살집. 굳이 흠을 잡자면 지역문화인 3인분 주문이 기본인 것, 하지만 기본반찬을 보면 그 마저도 용서가 된다. 최고\"\\n12. 83해치 복현점 ------------- 69점 5.0 (2명) 영업 중 삼겹살 회식,예약,예약가능  \"복현동 먹자골목 고기 맛집, 직원들 텐션이 어마무시한 고깃집 😲 고기도 다 구워주고 편하게 먹기 좋은곳 매장도 넓어서 회식하기 좋을듯!\"\\n13. 돼지싸다구 다사 ------------- 69점 4.6 (7명) 영업 중 돼지고기, 삼겹살 술모임,가성비좋은,단체석  \"직접 구워주시니 더 맛잇는거 같아요^^ 가족외식이나 회식자리에도 촣아요\"\\n14. 혜옥당 대구 ----------- 69점 4.9 (7명) 영업 중 삼겹살 술모임,캐주얼한  \"프라이빗한 느낌을 줘서 일반 고깃집보다 편안하게 즐길 수 있다 너무 시끌벅적한 느낌이 아니라 편안..레트로 인테리어가 정감있었던 구워주는 고깃집 맛있게 구워주셔서 좋은데 비계가 정말 많아서 마지막엔 살짝 느끼했다 그럴때 냉메밀면 먹으면 내려감\"\\n15. 고기굽는남자 신세계점 ---------------- 69점 4.5 (11명) 영업 중 삼겹살 식사모임,무료주차,시끌벅적한,놀이방  \"오랜만에 방문했는데 역시 맛있어요!!! 고기 구워주시니까 편하고 밑반찬도 많고 같이 구워먹을거리랑 멜젓도 나와서 좋아요. 술 시키니까 조개탕도 주네요 굿!!\"\\n16. 금돈미가 대구중구 -------------- 68점 5.0 (3명) 영업 중 삼겹살 데이트,주차,고급스러운,바테이블  \"여긴 진짜 오마카세 느낌이 가득한 고기집이였어요!..데이트 할때 가면 딱 좋을 고기집\"\\n17. 돼지만 왕소금구이 화원점 ------------------ 68점 5.0 (5명) 영업 중 삼겹살 가족외식,무료주차,지역주민이찾는,좌식테이블  \"삼겹살과 목살은 덩어리로 나오는데, 덩어리 고기가 육즙이 잘 잡힌다는 기본 상식이 확실한 맛집. 먹을수 있을때까지 구워주는 기가막힌 서비스로 자주 찾는 단골집이다. 콩나물 무침과 \"\\n18. 만재네 대구중구 ------------- 67점 4.5 (5명) 영업 중 삼겹살 술모임,주차,푸짐한,테라스  \"다른고기집보다 훨씬 깔끔하고 특히 목살이 너무 맛있고 된장술밥이랑 너무 잘어울려서 자주 방문합니다\"\\n19. 서민갈비 두산동 ------------- 72점 3.8 (15명) 영업 중 돼지갈비 회식,무료주차,시끌벅적한  \"돼지갈비 맛집이예요 직원분들이 고기 구워주셔서 편하게 먹을수 있습니다 주차장도 있어서 편리합니다\"\\n20. 박창우의소백산왕소금구이 율하 -------------------- 67점 5.0 (1명) 영업 중 삼겹살 모임장소,주차,숯불,테라스  \"가브리가 정말 미쳤음 지금껏 먹은 가브리중에 압도적 원탑임 된장찌개도 미침\"\\n\\n\\n\\n이 지역 재검색\\n맛집 20곳 더보기\\n1 로산가옥 삼덕동 삼겹살\\n2 상구네돼지구이 수성못점 삼겹살\\n3 육즙 대구 삼겹살\\n4 돼지만 본점 삼겹살\\n5 83해치 봉덕동 삼겹살\\n6 고기굽는남자 본점 삼겹살\\n7 미식가의구이 대구신월성점 고깃집\\n8 참한집 종로점 삼겹살\\n9 은하수식당 삼덕동 삼겹살\\n10 양파식당 대구 미국산소고기, 갈비살\\n11 돼지만왕 소금구이 진천동 삼겹살\\n12 83해치 복현점 삼겹살\\n13 돼지싸다구 다사 돼지고기, 삼겹살\\n14 혜옥당 대구 삼겹살\\n15 고기굽는남자 신세계점 삼겹살\\n16 금돈미가 대구중구 삼겹살\\n17 돼지만 왕소금구이 화원점 삼겹살\\n18 만재네 대구중구 삼겹살\\n19 서민갈비 두산동 돼지갈비\\n20 박창우의소백산왕소금구이 율하 삼겹살\\n\\n지도 확대 및 축소는 오른쪽 스크롤 바를 이용해 주세요.'},\n",
       " {'title': '대구 맛집 추천 리스트 :: 고기편 (대구 고기 맛집) : 네이버 블로그',\n",
       "  'url': 'https://blog.naver.com/PostView.naver?blogId=ssopssop_couple&logNo=223312372541',\n",
       "  'content': '블로그 블로그 검색 블로그 블로그 대구 맛집 추천 리스트 :: 고기편 (대구 고기 맛집) 대구 고기 맛집 :: 삼겹살 대구 삼겹살 맛집 추천 대구 고기 맛집 :: 뒷고기 대구 뒷고기 맛집 추천 [해안역참숯뒷고기] 대구 뒷고기 맛집 (feat. 대구 고기 맛집 :: 찜갈비 대구 찜갈비 맛집 추천 [대구/여원찜갈비] 동인동식 찜갈비 대구갈비 맛집 (feat. 대구 고기 맛집 :: 갈비 대구 갈비 맛집 추천 ▫️  위치 : 대구 범어동 [대구/가창끝갈비] 가창 돼지갈비 맛집 (feat. [대구/일사이공] 대구LA갈비 맛집 (feat. 대구 고기 맛집 :: 곱창 대구 곱창 맛집 추천 대구 고기 맛집 :: 장어 대구 장어 맛집 추천 대구 고기 맛집 :: 고기뷔페 대구 고기뷔페 맛집 추천 [명륜진사갈비 대구 테크노폴리스점] 달성군 돼지갈비 맛집 (feat. 명륜진사갈비 대구 테크노폴리스점 안녕하세요! 대구 고기 맛집 추천 리스트였습니다!',\n",
       "  'score': 0.60386235,\n",
       "  'raw_content': 'NAVER\\n블로그\\nPOWER J, AMANDA\\n블로그 검색\\n이 블로그에서 검색\\n공감 \\n댓글 2\\n공유하기\\n메뉴 바로가기\\n본문 바로가기\\n내 블로그 \\n이웃블로그 \\n블로그 홈 \\n로그인\\n사용자 링크\\n블로그 메뉴\\n 프롤로그\\n 블로그\\n 생활정보\\n 리빙\\n 뷰티\\n 푸드\\n안부\\n블로그\\n전체보기 587개의 글\\n전체보기\\n목록열기\\n맛집\\n대구 맛집 추천 리스트 :: 고기편 (대구 고기 맛집)\\n아만다 ・ 2024. 1. 4. 16:07\\nURL 복사  이웃추가\\n본문 기타 기능\\n맛집 추천 리스트 :: 고기편\\n\\u200b\\n안녕하세요!\\n대구댁 아만다입니다👩🏻\\n\\u200b\\n2023년에 직접 먹어본  대구 고기집 중에\\n베스트 오브 베스트를 뽑아봤어요!\\n\\u200b\\n대구 고기 맛집을 추천해드릴게요 :)\\n\\u200b\\n대구에 고기 맛집이 많아\\n삼겹살, 뒷고기, 찜갈비, 갈비,\\n곱창, 장어, 고기뷔페로 나누어\\n맛집을 분야별로 선정해보았습니당.\\n\\u200b\\n직접 다녀와본 후기 링크도 걸어놓았으니\\n고기종류에 따라 맛집정보 참고하세요 :)\\n\\u200b\\n\\u200b\\n대구 고기 맛집 :: 삼겹살\\n대구 삼겹살 맛집 추천\\n\\u200b\\n🎤 김형제 고기의 철학\\n▫️  위치 : 대구 수성못, 대구 들안길\\n▫️  주요메뉴 : 이베리코\\n▫️  추천포인트\\n  - 예약시스템 잘되어있음 (반드시 예약 추천!)\\n\\n  - 주차가능 (6~8대 정도 주차 가능)\\n\\n  - 단체석보유 (6~12인석 룸 있음)\\n\\n  - 단체회식, 가족외식하기 좋음\\n\\n  - 직접구워줌\\n\\n  - 매장깔끔하고 인테리어 예쁨\\n\\n[대구/김형제고기의철학 대구수성못점] 구워주는 고기집 이베리코 후기\\n김형제고기의철학 대구수성못점 안녕하세요! 대구댁 아만다입니다👩🏻 세계미식가들의 선택 이베리코 ...\\nblog.naver.com\\n\\u200b\\n🎤 692왕소금구이 육구이왕소금구이\\n▫️  위치 : 대구 신천시장, 대구 범어동\\n▫️  주요메뉴 : 삼겹살\\n▫️  추천포인트\\n  - 단체석보유 (8인정도 수용가능 룸 있음)\\n\\n  - 직접구워줌\\n\\n  - 주문즉시 만드는 콩나물무침 맛있음\\n\\n  - 밑반찬과 고기가 정말 맛있음\\n\\n[대구/692왕소금구이] 수성구 삼겹살 (feat. 벌집삼겹살 소금구이)\\n692 왕소금구이 안녕하세요! 대구댁 아만다입니다👩🏻 남자들은 왜이렇게 고기를 좋아하는거죠? ㅋㅋㅋ...\\nblog.naver.com\\n\\u200b\\n🎤 옹고집\\n▫️  위치 : 대구 반야월, 대구 신기동\\n▫️  주요메뉴 : 삼겹살\\n▫️  추천포인트\\n  - 주차가능\\n\\n  - 맥주, 소주 4천원\\n\\n  - 가성비 좋은 맛집\\n\\n  - 고기 상태가 정말 좋음\\n\\n  - 점심 고기식사시 된장식사 또는 냉면 무료\\n\\n[대구/옹고집] 신기동맛집 반야월 삼겹살 회식장소 추천 (feat. 소주 맥주 4천원)\\n옹고집 안녕하세요! 대구댁 아만다입니다👩🏻 최근에 대구 안심뉴타운 쪽에 신축아파트랑 맛집이 많이 ...\\nblog.naver.com\\n\\u200b\\n🎤 열무밭에돈\\n▫️  위치 : 대구 수성못, 대구 들안길\\n▫️  주요메뉴 : 삼겹살, 열무국수\\n▫️  추천포인트\\n  - 주차가능 (전용주차장 2곳 보유)\\n\\n  - 직접구워줌\\n\\n  - 밑반찬이 한정식 맛집처럼 정갈하게 잘나옴\\n\\n  - 열무국수와 고기가 정말 맛있음\\n\\n  - 온누리상품권 사용 가능\\n\\n[대구/열무밭에돈] 열무김치와 삼겹살을 함께 먹는 상동삼겹살맛집 (feat. 열무국수까지 맛있어요)\\n열무밭에돈 안녕하세요! 대구댁 아만다입니다👩🏻 여러분! 김치와 삼겹살은 정말 잘어울리는 음식이지...\\nblog.naver.com\\n\\u200b\\n🎤 옛날삼겹살 본점\\n▫️  위치 : 대구 수성구, 대구 황금역\\n▫️  주요메뉴 : 삼겹살, 막창\\n▫️  추천포인트\\n  - 주차가능 (8~10대정도 주차 가능)\\n\\n  - 초벌로 구워서 나옴\\n\\n  - 대나무청강숯에 구움\\n\\n  - 막창을 키위로 숙성시켜 냄새 전혀 안남\\n\\n  - 삼겹살집인데 막창이 막창집보다 더 맛있음\\n\\n  - 해물듬뿍라면도 추천\\n\\n[대구/옛날삼겹살 본점] 수성구 삼겹살 막창 고기집 (feat. 대구막창 찾는다면 여기로)\\n옛날삼겹살 본점 안녕하세요! 대구댁 아만다입니다👩🏻 대구에는 요즘 비가 하루종일 내려요☔️ 비가 ...\\nblog.naver.com\\n\\u200b\\n\\u200b\\n대구 고기 맛집 :: 뒷고기\\n대구 뒷고기 맛집 추천\\n\\u200b\\n🎤 해안역참숯뒷고기\\n▫️  위치 : 대구 방촌동, 대구 해안역\\n▫️  주요메뉴 : 뒷고기\\n▫️  추천포인트\\n  - 대구에서 먹은 뒷고기 중에 가장 맛있음\\n\\n  - 사장님 매우 친절하심\\n\\n[해안역참숯뒷고기] 대구 뒷고기 맛집 (feat. 친절한 서비스까지)\\n해안역참숯뒷고기 안녕하세요! 대구댁 아만다입니다👩🏻 또간집 경주편 보신분🙌🏻 풍자님이 경주...\\nblog.naver.com\\n\\u200b\\n\\u200b\\n대구 고기 맛집 :: 찜갈비\\n대구 찜갈비 맛집 추천\\n\\u200b\\n🎤 여원찜갈비\\n▫️  위치 : 대구 엑스코, 대구 검단동\\n▫️  주요메뉴 : 찜갈비\\n▫️  추천포인트\\n  - 주차가능 (5~6대 정도 주차 가능)\\n\\n  - 적당한 매콤함에 중독성 최강\\n\\n  - 돼지고기 찜갈비 엄청 부드러움\\n\\n  - 볶음밥 1,000원으로 가성비 좋음\\n\\n[대구/여원찜갈비] 동인동식 찜갈비 대구갈비 맛집 (feat. 돼지찜갈비)\\n여원찜갈비 안녕하세요! 대구댁 아만다입니다👩🏻 대구10미에서 절대 빠질 수 없는 찜갈비! 그것도 동...\\nblog.naver.com\\n\\u200b\\n🎤 풍미향\\n▫️  위치 : 대구 신천동\\n▫️  주요메뉴 : 갈비찜, 갈비전골\\n▫️  추천포인트\\n  - 조미료가 안들어간 맛집\\n\\n  - 단맛을 설탕이 아닌 파인애플로 냄\\n\\n  - 건강 갈비찜 맛집\\n\\n[대구/풍미향] 대구갈비찜맛집 신천동모임장소추천 (feat. 간장맛 갈비찜)\\n풍미향 안녕하세요! 대구댁 아만다입니다👩🏻 대구 10미 중 하나인 갈비찜! 1년동안 대구에 살면서 매...\\nblog.naver.com\\n\\u200b\\n\\u200b\\n대구 고기 맛집 :: 갈비\\n대구 갈비 맛집 추천\\n\\u200b\\n🎤 동봉숯불갈비\\n▫️  위치 : 대구 범어동\\n▫️  주요메뉴 : 돼지갈비\\n▫️  추천포인트\\n  - 주차가능\\n\\n  - 연기가 안나 쾌적한 환경에서 식사 가능\\n\\n  - 김치, 된장, 간장 직접 담금\\n\\n  - 팔공산에서 야채 직접 기름\\n\\n  - 고기를 직접 굽지만 불조절은 직원이 해주심\\n\\n  - 부드러운 갈비 맛집\\n\\n[대구/동봉숯불구이 범어점] 범어동 돼지갈비 맛집 (feat. 연기안나는 갈비)\\n동봉숯불구이 범어점 안녕하세요! 대구댁 아만다입니다👩🏻 고기 중에 제일 맛있는 고기는 저에겐 돼지...\\nblog.naver.com\\n\\u200b\\n🎤 가창끝갈비\\n▫️  위치 : 대구 가창\\n▫️  주요메뉴 : 돼지갈비, 비빔칼국수\\n▫️  추천포인트\\n  - 주차가능 (주차장 엄청 넓음)\\n\\n  - 별도의 공간에서 직접 구워줌\\n\\n  - 전북 고창에서 직접 기른 돼지로 구움\\n\\n  - 고기, 칼국수 양이 정말 많아 가성비 좋음\\n\\n  - 부드러운 갈비 맛집\\n\\n  - 직원분들이 엄청 친절하심\\n\\n[대구/가창끝갈비] 가창 돼지갈비 맛집 (feat. 12월 31일까지 30% 할인)\\n가창끝갈비 안녕하세요! 대구댁 아만다입니다👩🏻 대구에 사시는 분들은 많이 좋아하실 동네! 가창에 ...\\nblog.naver.com\\n\\u200b\\n🎤 일사이공\\n▫️  위치 : 대구 율하동\\n▫️  주요메뉴 : LA갈비, 양념갈비\\n▫️  추천포인트\\n  - 주차가능 (인근 마트에 주차시 조건부 지원)\\n\\n  - 웨이팅 공간 넓고 예쁨\\n\\n  - 부드러운 갈비 맛집\\n\\n  - 테라스가 있고 공원과 연결되어 분위기 좋음\\n\\n  - 온누리상품권 사용 가능\\n\\n[대구/일사이공] 대구LA갈비 맛집 (feat. 찾았다! 갈비맛집!)\\n일사이공 안녕하세요! 대구댁 아만다입니다👩🏻 대구 율하는 갈때마다 느끼는건데요. 정말 사람살기 좋...\\nblog.naver.com\\n\\u200b\\n\\u200b\\n대구 고기 맛집 :: 곱창\\n대구 곱창 맛집 추천\\n\\u200b\\n🎤 율하황소돌곱창\\n▫️  위치 : 대구 율하동\\n▫️  주요메뉴 : 곱창, 대창, 막창\\n▫️  추천포인트\\n  - 초벌로 구워나오며 나머지도 직접 구워주심\\n\\n  - 선지해장국 무한리필\\n\\n  - 대창과 볶음밥 맛있음\\n\\n[대구/율하황소돌곱창] 대구율하맛집 곱창구이맛집 (feat. 모듬구이도 있어요)\\n율하황소돌곱창 안녕하세요! 대구댁 아만다입니다👩🏻 막창하면 대구, 대구하면 막창( ˃ᴗ˂ ) 대구 ...\\nblog.naver.com\\n\\u200b\\n\\u200b\\n대구 고기 맛집 :: 장어\\n대구 장어 맛집 추천\\n\\u200b\\n🎤 살아있네살아있어 먹장어붕장어\\n▫️  위치 : 대구 평리동\\n▫️  주요메뉴 : 장어(아나고), 꼼장어\\n▫️  추천포인트\\n  - 주차가능\\n\\n  - 직접 구워주심\\n\\n  - 산아나고 튼실하고 맛있음\\n\\n[대구/살아있네살아있어 먹장어붕장어] 대구 아나고 맛집 (feat. 진짜 살아있네!)\\n살아있네 살아있어 먹장어 붕장어 안녕하세요! 대구댁 아만다입니다👩🏻 영종도에 살때는 유명한 장어...\\nblog.naver.com\\n\\u200b\\n\\u200b\\n대구 고기 맛집 :: 고기뷔페\\n대구 고기뷔페 맛집 추천\\n\\u200b\\n🎤 명륜진사갈비 대구 테크노폴리스점\\n▫️  위치 : 대구 현풍, 대구 테크노폴리스\\n▫️  주요메뉴 : 갈비, 삼겹살\\n▫️  추천포인트\\n  - 주차가능 (건물 지하주차장)\\n\\n  - 가본 명륜진사갈비 중 제일 맛있음\\n\\n  - 어린이방(놀이공간) 있음\\n\\n[명륜진사갈비 대구 테크노폴리스점] 달성군 돼지갈비 맛집 (feat. 리뉴얼 후 사이드가 많은 현풍 맛집)\\n명륜진사갈비 대구 테크노폴리스점 안녕하세요! 대구댁 아만다입니다👩🏻 요즘 명륜진사갈비 셀프바가 ...\\nblog.naver.com\\n\\u200b\\n아만다가 직접 다녀와본 후기들 참고하셔서\\n대구 맛집에서 즐거운 식사하세요 :)\\n\\u200b\\n대구 고기 맛집 추천 리스트였습니다!\\n\\u200b\\n\\u200b\\n대구맛집 #대구고기맛집 #대구맛집고기 #대구삼겹살 #대구삼겹살맛집 #대구갈비 #대구갈비맛집 #대구이베리코 #대구이베리코맛집 #대구뒷고기 #대구뒷고기맛집 #대구찜갈비 #대구찜갈비맛집\\n공감\\n이 글에 공감한 블로거 열고 닫기\\n 댓글 2\\n이 글에 댓글 단 블로거 열고 닫기\\n인쇄\\n이 블로그 전체 카테고리 글\\n전체글 보기\\n화면 최상단으로 이동\\nRSS 2.0\\nRSS 1.0\\nATOM 0.3\\n검색\\n글 검색'}]"
      ]
     },
     "execution_count": 26,
     "metadata": {},
     "output_type": "execute_result"
    }
   ],
   "source": [
    "# 웹 검색 도구 호출\n",
    "result = web_search_tool.search('대구 고깃집에 대해서 알려주세요')\n",
    "result"
   ]
  },
  {
   "cell_type": "code",
   "execution_count": 27,
   "metadata": {},
   "outputs": [],
   "source": [
    "from langchain_core.documents import Document"
   ]
  },
  {
   "cell_type": "code",
   "execution_count": 28,
   "metadata": {},
   "outputs": [],
   "source": [
    "# 문서 검색 노드\n",
    "def retrieve(state: GraphState):\n",
    "    print('\\n==========================================================================================')\n",
    "    print(f\"🔄 [Node] 문서 검색 노드 🔄\")\n",
    "\n",
    "    # 사용자 질문\n",
    "    question = state['question']        \n",
    "\n",
    "    # 문서 검색\n",
    "    documents = pdf_retriever.invoke(question)\n",
    "    \n",
    "    # print(f'문서 검색 결과: ')\n",
    "    print('-------------------')\n",
    "    print(documents)\n",
    "    print('-------------------')\n",
    "    print('==========================================================================================\\n')\n",
    "    \n",
    "    return {'documents': documents}"
   ]
  },
  {
   "cell_type": "code",
   "execution_count": 31,
   "metadata": {},
   "outputs": [],
   "source": [
    "# state   \n",
    "# {'question': '삼성전자가 만든 생성형 AI 이름은?', 'generation': '', 'documents': []}"
   ]
  },
  {
   "cell_type": "code",
   "execution_count": 32,
   "metadata": {},
   "outputs": [
    {
     "name": "stdout",
     "output_type": "stream",
     "text": [
      "\n",
      "==========================================================================================\n",
      "🔄 [Node] 문서 검색 노드 🔄\n",
      "-------------------\n",
      "[Document(id='c1407987-c24e-4f7b-9a9d-af8f87ee6bc0', metadata={'source': 'data/SPRI_AI_Brief_2023년12월호_F.pdf', 'file_path': 'data/SPRI_AI_Brief_2023년12월호_F.pdf', 'page': 1, 'total_pages': 23, 'Author': 'dj', 'Creator': 'Hwp 2018 10.0.0.13462', 'Producer': 'Hancom PDF 1.3.0.542', 'CreationDate': \"D:20231208132838+09'00'\", 'ModDate': \"D:20231208132838+09'00'\", 'PDFVersion': '1.4'}, page_content='▹ 삼성전자, 자체 개발 생성 AI ‘삼성 가우스’ 공개 ···························································10\\n▹ 구글, 앤스로픽에 20억 달러 투자로 생성 AI 협력 강화 ················································11\\n▹ IDC, 2027년 AI 소프트웨어 매출 2,500억 달러 돌파 전망···········································12'), Document(id='9d1c9684-6dd4-4f87-b719-b0cf7c8c4679', metadata={'source': 'data/SPRI_AI_Brief_2023년12월호_F.pdf', 'file_path': 'data/SPRI_AI_Brief_2023년12월호_F.pdf', 'page': 12, 'total_pages': 23, 'Author': 'dj', 'Creator': 'Hwp 2018 10.0.0.13462', 'Producer': 'Hancom PDF 1.3.0.542', 'CreationDate': \"D:20231208132838+09'00'\", 'ModDate': \"D:20231208132838+09'00'\", 'PDFVersion': '1.4'}, page_content='SPRi AI Brief |\\n2023-12월호\\n삼성전자, 자체 개발 생성 AI ‘삼성 가우스’ 공개\\nKEY Contents\\nn 삼성전자가 온디바이스에서 작동 가능하며 언어, 코드, 이미지의 3개 모델로 구성된 자체 개발 생성\\nAI 모델 ‘삼성 가우스’를 공개\\nn 삼성전자는 삼성 가우스를 다양한 제품에 단계적으로 탑재할 계획으로, 온디바이스 작동이 가능한\\n삼성 가우스는 외부로 사용자 정보가 유출될 위험이 없다는 장점을 보유\\n£언어, 코드, 이미지의 3개 모델로 구성된 삼성 가우스, 온디바이스 작동 지원'), Document(id='072c7184-421f-4b05-895b-053c001f4eee', metadata={'source': 'data/SPRI_AI_Brief_2023년12월호_F.pdf', 'file_path': 'data/SPRI_AI_Brief_2023년12월호_F.pdf', 'page': 12, 'total_pages': 23, 'Author': 'dj', 'Creator': 'Hwp 2018 10.0.0.13462', 'Producer': 'Hancom PDF 1.3.0.542', 'CreationDate': \"D:20231208132838+09'00'\", 'ModDate': \"D:20231208132838+09'00'\", 'PDFVersion': '1.4'}, page_content='£언어, 코드, 이미지의 3개 모델로 구성된 삼성 가우스, 온디바이스 작동 지원\\nn 삼성전자가 2023년 11월 8일 열린 ‘삼성 AI 포럼 2023’ 행사에서 자체 개발한 생성 AI 모델\\n‘삼성 가우스’를 최초 공개\\n∙ 정규분포 이론을 정립한 천재 수학자 가우스(Gauss)의 이름을 본뜬 삼성 가우스는 다양한 상황에\\n최적화된 크기의 모델 선택이 가능\\n∙ 삼성 가우스는 라이선스나 개인정보를 침해하지 않는 안전한 데이터를 통해 학습되었으며,\\n온디바이스에서 작동하도록 설계되어 외부로 사용자의 정보가 유출되지 않는 장점을 보유'), Document(id='b9ed246b-2d76-4e6c-b1c4-df10d228f9df', metadata={'source': 'data/SPRI_AI_Brief_2023년12월호_F.pdf', 'file_path': 'data/SPRI_AI_Brief_2023년12월호_F.pdf', 'page': 12, 'total_pages': 23, 'Author': 'dj', 'Creator': 'Hwp 2018 10.0.0.13462', 'Producer': 'Hancom PDF 1.3.0.542', 'CreationDate': \"D:20231208132838+09'00'\", 'ModDate': \"D:20231208132838+09'00'\", 'PDFVersion': '1.4'}, page_content='어시스턴트를 적용한 구글 픽셀(Pixel)과 경쟁할 것으로 예상\\n☞ 출처 : 삼성전자, ‘삼성 AI 포럼’서 자체 개발 생성형 AI ‘삼성 가우스’ 공개, 2023.11.08.\\n삼성전자, ‘삼성 개발자 콘퍼런스 코리아 2023’ 개최, 2023.11.14.\\nTechRepublic, Samsung Gauss: Samsung Research Reveals Generative AI, 2023.11.08.\\n10'), Document(id='3a4ee943-55d1-4b0c-8620-5a35a0898905', metadata={'source': 'data/SPRI_AI_Brief_2023년12월호_F.pdf', 'file_path': 'data/SPRI_AI_Brief_2023년12월호_F.pdf', 'page': 18, 'total_pages': 23, 'Author': 'dj', 'Creator': 'Hwp 2018 10.0.0.13462', 'Producer': 'Hancom PDF 1.3.0.542', 'CreationDate': \"D:20231208132838+09'00'\", 'ModDate': \"D:20231208132838+09'00'\", 'PDFVersion': '1.4'}, page_content='<구글 딥마인드의 범용 AI 분류 프레임워크>\\n성능 특수 AI 예시 범용 AI 예시\\n0단계: AI 아님 계산기 소프트웨어, 컴파일러 아마존 메커니컬 터크\\n1단계: 신진(숙련되지 않은 인간) GOFAI(Good Old Fashioned Artificial Intelligence) 챗GPT, 바드, 라마2\\n스마트 스피커(애플 시리, 아마존 알렉사, 구글\\n2단계: 유능(숙련된 인간의 50% 이상) 미달성\\n어시스턴트), IBM 왓슨\\n3단계: 전문가(숙련된 인간의 90% 이상) 문법 교정기(그래머리), 생성 이미지 모델(달리2) 미달성'), Document(id='d20c493a-1f0e-4ca5-8ff1-819dda28fd6f', metadata={'source': 'data/SPRI_AI_Brief_2023년12월호_F.pdf', 'file_path': 'data/SPRI_AI_Brief_2023년12월호_F.pdf', 'page': 12, 'total_pages': 23, 'Author': 'dj', 'Creator': 'Hwp 2018 10.0.0.13462', 'Producer': 'Hancom PDF 1.3.0.542', 'CreationDate': \"D:20231208132838+09'00'\", 'ModDate': \"D:20231208132838+09'00'\", 'PDFVersion': '1.4'}, page_content='처리를 지원\\n∙ 코드 모델 기반의 AI 코딩 어시스턴트 ‘코드아이(code.i)’는 대화형 인터페이스로 서비스를 제공하며\\n사내 소프트웨어 개발에 최적화\\n∙ 이미지 모델은 창의적인 이미지를 생성하고 기존 이미지를 원하는 대로 바꿀 수 있도록 지원하며\\n저해상도 이미지의 고해상도 전환도 지원\\nn IT 전문지 테크리퍼블릭(TechRepublic)은 온디바이스 AI가 주요 기술 트렌드로 부상했다며,\\n2024년부터 가우스를 탑재한 삼성 스마트폰이 메타의 라마(Llama)2를 탑재한 퀄컴 기기 및 구글'), Document(id='4bbc56cd-5e33-4347-a585-891f00bce829', metadata={'source': 'data/SPRI_AI_Brief_2023년12월호_F.pdf', 'file_path': 'data/SPRI_AI_Brief_2023년12월호_F.pdf', 'page': 12, 'total_pages': 23, 'Author': 'dj', 'Creator': 'Hwp 2018 10.0.0.13462', 'Producer': 'Hancom PDF 1.3.0.542', 'CreationDate': \"D:20231208132838+09'00'\", 'ModDate': \"D:20231208132838+09'00'\", 'PDFVersion': '1.4'}, page_content='온디바이스에서 작동하도록 설계되어 외부로 사용자의 정보가 유출되지 않는 장점을 보유\\n∙ 삼성전자는 삼성 가우스를 활용한 온디바이스 AI 기술도 소개했으며, 생성 AI 모델을 다양한 제품에\\n단계적으로 탑재할 계획\\nn 삼성 가우스는 △텍스트를 생성하는 언어모델 △코드를 생성하는 코드 모델 △이미지를 생성하는\\n이미지 모델의 3개 모델로 구성\\n∙ 언어 모델은 클라우드와 온디바이스 대상 다양한 모델로 구성되며, 메일 작성, 문서 요약, 번역 업무의\\n처리를 지원'), Document(id='a380b69c-8bdc-45b3-9dc6-befdc28cd6b9', metadata={'source': 'data/SPRI_AI_Brief_2023년12월호_F.pdf', 'file_path': 'data/SPRI_AI_Brief_2023년12월호_F.pdf', 'page': 11, 'total_pages': 23, 'Author': 'dj', 'Creator': 'Hwp 2018 10.0.0.13462', 'Producer': 'Hancom PDF 1.3.0.542', 'CreationDate': \"D:20231208132838+09'00'\", 'ModDate': \"D:20231208132838+09'00'\", 'PDFVersion': '1.4'}, page_content='제작을 포함\\nn 알리바바 클라우드는 급증하는 생성 AI 수요에 대응해 모델 개발과 애플리케이션 구축 절차를\\n간소화하는 올인원 AI 모델 구축 플랫폼 ‘젠AI(GenAI)’도 공개\\n∙ 이 플랫폼은 데이터 관리, 모델 배포와 평가, 신속한 엔지니어링을 위한 종합 도구 모음을 제공하여\\n다양한 기업들이 맞춤형 AI 모델을 한층 쉽게 개발할 수 있도록 지원\\n∙ 생성 AI 개발에 필요한 컴퓨팅과 데이터 처리 요구사항을 지원하기 위해 AI 플랫폼(PAI),\\n데이터베이스 솔루션, 컨테이너 서비스와 같은 클라우드 신제품도 발표'), Document(id='93383986-36e4-4d89-a57d-7685c8e81945', metadata={'source': 'data/SPRI_AI_Brief_2023년12월호_F.pdf', 'file_path': 'data/SPRI_AI_Brief_2023년12월호_F.pdf', 'page': 1, 'total_pages': 23, 'Author': 'dj', 'Creator': 'Hwp 2018 10.0.0.13462', 'Producer': 'Hancom PDF 1.3.0.542', 'CreationDate': \"D:20231208132838+09'00'\", 'ModDate': \"D:20231208132838+09'00'\", 'PDFVersion': '1.4'}, page_content='▹ 빌 게이츠, AI 에이전트로 인한 컴퓨터 사용의 패러다임 변화 전망································13\\n▹ 유튜브, 2024년부터 AI 생성 콘텐츠 표시 의무화····························································14\\n3. 기술/연구\\n▹ 영국 과학혁신기술부, AI 안전 연구소 설립 발표······························································15'), Document(id='fd2624fe-2cd5-441d-85a7-525aa9b9781f', metadata={'source': 'data/SPRI_AI_Brief_2023년12월호_F.pdf', 'file_path': 'data/SPRI_AI_Brief_2023년12월호_F.pdf', 'page': 7, 'total_pages': 23, 'Author': 'dj', 'Creator': 'Hwp 2018 10.0.0.13462', 'Producer': 'Hancom PDF 1.3.0.542', 'CreationDate': \"D:20231208132838+09'00'\", 'ModDate': \"D:20231208132838+09'00'\", 'PDFVersion': '1.4'}, page_content='만들었다고 오해할 소지가 있다고 지적\\n∙ 저작권법에 저촉되는 행위는 불공정 경쟁이나 기만행위에도 해당될 수 있으며, 창작자의 평판 악화,\\n저작물의 가치 저하나 개인정보 유출로 소비자에 상당한 피해를 초래 가능\\nn FTC는 일부 빅테크가 막대한 재원을 활용해 생성 AI 사용자의 이탈을 막고 저작권이 있는 상용\\n데이터에 대한 독점 라이선스를 확보해 시장 지배력을 더욱 강화할 수 있다는 우려도 제기\\n∙ 이와 관련 FTC는 아마존 AI 비서 ‘알렉사(Alexa)’와 스마트홈 보안 기기 ‘링(Ring)’이 소비자의 사적')]\n",
      "-------------------\n",
      "==========================================================================================\n",
      "\n"
     ]
    }
   ],
   "source": [
    "answer = retrieve(state)"
   ]
  },
  {
   "cell_type": "code",
   "execution_count": 33,
   "metadata": {},
   "outputs": [],
   "source": [
    "state['documents'] = answer['documents']"
   ]
  },
  {
   "cell_type": "code",
   "execution_count": 34,
   "metadata": {},
   "outputs": [
    {
     "data": {
      "text/plain": [
       "{'question': '삼성전자가 만든 생성형 AI 이름은?',\n",
       " 'generation': '',\n",
       " 'documents': [Document(id='c1407987-c24e-4f7b-9a9d-af8f87ee6bc0', metadata={'source': 'data/SPRI_AI_Brief_2023년12월호_F.pdf', 'file_path': 'data/SPRI_AI_Brief_2023년12월호_F.pdf', 'page': 1, 'total_pages': 23, 'Author': 'dj', 'Creator': 'Hwp 2018 10.0.0.13462', 'Producer': 'Hancom PDF 1.3.0.542', 'CreationDate': \"D:20231208132838+09'00'\", 'ModDate': \"D:20231208132838+09'00'\", 'PDFVersion': '1.4'}, page_content='▹ 삼성전자, 자체 개발 생성 AI ‘삼성 가우스’ 공개 ···························································10\\n▹ 구글, 앤스로픽에 20억 달러 투자로 생성 AI 협력 강화 ················································11\\n▹ IDC, 2027년 AI 소프트웨어 매출 2,500억 달러 돌파 전망···········································12'),\n",
       "  Document(id='9d1c9684-6dd4-4f87-b719-b0cf7c8c4679', metadata={'source': 'data/SPRI_AI_Brief_2023년12월호_F.pdf', 'file_path': 'data/SPRI_AI_Brief_2023년12월호_F.pdf', 'page': 12, 'total_pages': 23, 'Author': 'dj', 'Creator': 'Hwp 2018 10.0.0.13462', 'Producer': 'Hancom PDF 1.3.0.542', 'CreationDate': \"D:20231208132838+09'00'\", 'ModDate': \"D:20231208132838+09'00'\", 'PDFVersion': '1.4'}, page_content='SPRi AI Brief |\\n2023-12월호\\n삼성전자, 자체 개발 생성 AI ‘삼성 가우스’ 공개\\nKEY Contents\\nn 삼성전자가 온디바이스에서 작동 가능하며 언어, 코드, 이미지의 3개 모델로 구성된 자체 개발 생성\\nAI 모델 ‘삼성 가우스’를 공개\\nn 삼성전자는 삼성 가우스를 다양한 제품에 단계적으로 탑재할 계획으로, 온디바이스 작동이 가능한\\n삼성 가우스는 외부로 사용자 정보가 유출될 위험이 없다는 장점을 보유\\n£언어, 코드, 이미지의 3개 모델로 구성된 삼성 가우스, 온디바이스 작동 지원'),\n",
       "  Document(id='072c7184-421f-4b05-895b-053c001f4eee', metadata={'source': 'data/SPRI_AI_Brief_2023년12월호_F.pdf', 'file_path': 'data/SPRI_AI_Brief_2023년12월호_F.pdf', 'page': 12, 'total_pages': 23, 'Author': 'dj', 'Creator': 'Hwp 2018 10.0.0.13462', 'Producer': 'Hancom PDF 1.3.0.542', 'CreationDate': \"D:20231208132838+09'00'\", 'ModDate': \"D:20231208132838+09'00'\", 'PDFVersion': '1.4'}, page_content='£언어, 코드, 이미지의 3개 모델로 구성된 삼성 가우스, 온디바이스 작동 지원\\nn 삼성전자가 2023년 11월 8일 열린 ‘삼성 AI 포럼 2023’ 행사에서 자체 개발한 생성 AI 모델\\n‘삼성 가우스’를 최초 공개\\n∙ 정규분포 이론을 정립한 천재 수학자 가우스(Gauss)의 이름을 본뜬 삼성 가우스는 다양한 상황에\\n최적화된 크기의 모델 선택이 가능\\n∙ 삼성 가우스는 라이선스나 개인정보를 침해하지 않는 안전한 데이터를 통해 학습되었으며,\\n온디바이스에서 작동하도록 설계되어 외부로 사용자의 정보가 유출되지 않는 장점을 보유'),\n",
       "  Document(id='b9ed246b-2d76-4e6c-b1c4-df10d228f9df', metadata={'source': 'data/SPRI_AI_Brief_2023년12월호_F.pdf', 'file_path': 'data/SPRI_AI_Brief_2023년12월호_F.pdf', 'page': 12, 'total_pages': 23, 'Author': 'dj', 'Creator': 'Hwp 2018 10.0.0.13462', 'Producer': 'Hancom PDF 1.3.0.542', 'CreationDate': \"D:20231208132838+09'00'\", 'ModDate': \"D:20231208132838+09'00'\", 'PDFVersion': '1.4'}, page_content='어시스턴트를 적용한 구글 픽셀(Pixel)과 경쟁할 것으로 예상\\n☞ 출처 : 삼성전자, ‘삼성 AI 포럼’서 자체 개발 생성형 AI ‘삼성 가우스’ 공개, 2023.11.08.\\n삼성전자, ‘삼성 개발자 콘퍼런스 코리아 2023’ 개최, 2023.11.14.\\nTechRepublic, Samsung Gauss: Samsung Research Reveals Generative AI, 2023.11.08.\\n10'),\n",
       "  Document(id='3a4ee943-55d1-4b0c-8620-5a35a0898905', metadata={'source': 'data/SPRI_AI_Brief_2023년12월호_F.pdf', 'file_path': 'data/SPRI_AI_Brief_2023년12월호_F.pdf', 'page': 18, 'total_pages': 23, 'Author': 'dj', 'Creator': 'Hwp 2018 10.0.0.13462', 'Producer': 'Hancom PDF 1.3.0.542', 'CreationDate': \"D:20231208132838+09'00'\", 'ModDate': \"D:20231208132838+09'00'\", 'PDFVersion': '1.4'}, page_content='<구글 딥마인드의 범용 AI 분류 프레임워크>\\n성능 특수 AI 예시 범용 AI 예시\\n0단계: AI 아님 계산기 소프트웨어, 컴파일러 아마존 메커니컬 터크\\n1단계: 신진(숙련되지 않은 인간) GOFAI(Good Old Fashioned Artificial Intelligence) 챗GPT, 바드, 라마2\\n스마트 스피커(애플 시리, 아마존 알렉사, 구글\\n2단계: 유능(숙련된 인간의 50% 이상) 미달성\\n어시스턴트), IBM 왓슨\\n3단계: 전문가(숙련된 인간의 90% 이상) 문법 교정기(그래머리), 생성 이미지 모델(달리2) 미달성'),\n",
       "  Document(id='d20c493a-1f0e-4ca5-8ff1-819dda28fd6f', metadata={'source': 'data/SPRI_AI_Brief_2023년12월호_F.pdf', 'file_path': 'data/SPRI_AI_Brief_2023년12월호_F.pdf', 'page': 12, 'total_pages': 23, 'Author': 'dj', 'Creator': 'Hwp 2018 10.0.0.13462', 'Producer': 'Hancom PDF 1.3.0.542', 'CreationDate': \"D:20231208132838+09'00'\", 'ModDate': \"D:20231208132838+09'00'\", 'PDFVersion': '1.4'}, page_content='처리를 지원\\n∙ 코드 모델 기반의 AI 코딩 어시스턴트 ‘코드아이(code.i)’는 대화형 인터페이스로 서비스를 제공하며\\n사내 소프트웨어 개발에 최적화\\n∙ 이미지 모델은 창의적인 이미지를 생성하고 기존 이미지를 원하는 대로 바꿀 수 있도록 지원하며\\n저해상도 이미지의 고해상도 전환도 지원\\nn IT 전문지 테크리퍼블릭(TechRepublic)은 온디바이스 AI가 주요 기술 트렌드로 부상했다며,\\n2024년부터 가우스를 탑재한 삼성 스마트폰이 메타의 라마(Llama)2를 탑재한 퀄컴 기기 및 구글'),\n",
       "  Document(id='4bbc56cd-5e33-4347-a585-891f00bce829', metadata={'source': 'data/SPRI_AI_Brief_2023년12월호_F.pdf', 'file_path': 'data/SPRI_AI_Brief_2023년12월호_F.pdf', 'page': 12, 'total_pages': 23, 'Author': 'dj', 'Creator': 'Hwp 2018 10.0.0.13462', 'Producer': 'Hancom PDF 1.3.0.542', 'CreationDate': \"D:20231208132838+09'00'\", 'ModDate': \"D:20231208132838+09'00'\", 'PDFVersion': '1.4'}, page_content='온디바이스에서 작동하도록 설계되어 외부로 사용자의 정보가 유출되지 않는 장점을 보유\\n∙ 삼성전자는 삼성 가우스를 활용한 온디바이스 AI 기술도 소개했으며, 생성 AI 모델을 다양한 제품에\\n단계적으로 탑재할 계획\\nn 삼성 가우스는 △텍스트를 생성하는 언어모델 △코드를 생성하는 코드 모델 △이미지를 생성하는\\n이미지 모델의 3개 모델로 구성\\n∙ 언어 모델은 클라우드와 온디바이스 대상 다양한 모델로 구성되며, 메일 작성, 문서 요약, 번역 업무의\\n처리를 지원'),\n",
       "  Document(id='a380b69c-8bdc-45b3-9dc6-befdc28cd6b9', metadata={'source': 'data/SPRI_AI_Brief_2023년12월호_F.pdf', 'file_path': 'data/SPRI_AI_Brief_2023년12월호_F.pdf', 'page': 11, 'total_pages': 23, 'Author': 'dj', 'Creator': 'Hwp 2018 10.0.0.13462', 'Producer': 'Hancom PDF 1.3.0.542', 'CreationDate': \"D:20231208132838+09'00'\", 'ModDate': \"D:20231208132838+09'00'\", 'PDFVersion': '1.4'}, page_content='제작을 포함\\nn 알리바바 클라우드는 급증하는 생성 AI 수요에 대응해 모델 개발과 애플리케이션 구축 절차를\\n간소화하는 올인원 AI 모델 구축 플랫폼 ‘젠AI(GenAI)’도 공개\\n∙ 이 플랫폼은 데이터 관리, 모델 배포와 평가, 신속한 엔지니어링을 위한 종합 도구 모음을 제공하여\\n다양한 기업들이 맞춤형 AI 모델을 한층 쉽게 개발할 수 있도록 지원\\n∙ 생성 AI 개발에 필요한 컴퓨팅과 데이터 처리 요구사항을 지원하기 위해 AI 플랫폼(PAI),\\n데이터베이스 솔루션, 컨테이너 서비스와 같은 클라우드 신제품도 발표'),\n",
       "  Document(id='93383986-36e4-4d89-a57d-7685c8e81945', metadata={'source': 'data/SPRI_AI_Brief_2023년12월호_F.pdf', 'file_path': 'data/SPRI_AI_Brief_2023년12월호_F.pdf', 'page': 1, 'total_pages': 23, 'Author': 'dj', 'Creator': 'Hwp 2018 10.0.0.13462', 'Producer': 'Hancom PDF 1.3.0.542', 'CreationDate': \"D:20231208132838+09'00'\", 'ModDate': \"D:20231208132838+09'00'\", 'PDFVersion': '1.4'}, page_content='▹ 빌 게이츠, AI 에이전트로 인한 컴퓨터 사용의 패러다임 변화 전망································13\\n▹ 유튜브, 2024년부터 AI 생성 콘텐츠 표시 의무화····························································14\\n3. 기술/연구\\n▹ 영국 과학혁신기술부, AI 안전 연구소 설립 발표······························································15'),\n",
       "  Document(id='fd2624fe-2cd5-441d-85a7-525aa9b9781f', metadata={'source': 'data/SPRI_AI_Brief_2023년12월호_F.pdf', 'file_path': 'data/SPRI_AI_Brief_2023년12월호_F.pdf', 'page': 7, 'total_pages': 23, 'Author': 'dj', 'Creator': 'Hwp 2018 10.0.0.13462', 'Producer': 'Hancom PDF 1.3.0.542', 'CreationDate': \"D:20231208132838+09'00'\", 'ModDate': \"D:20231208132838+09'00'\", 'PDFVersion': '1.4'}, page_content='만들었다고 오해할 소지가 있다고 지적\\n∙ 저작권법에 저촉되는 행위는 불공정 경쟁이나 기만행위에도 해당될 수 있으며, 창작자의 평판 악화,\\n저작물의 가치 저하나 개인정보 유출로 소비자에 상당한 피해를 초래 가능\\nn FTC는 일부 빅테크가 막대한 재원을 활용해 생성 AI 사용자의 이탈을 막고 저작권이 있는 상용\\n데이터에 대한 독점 라이선스를 확보해 시장 지배력을 더욱 강화할 수 있다는 우려도 제기\\n∙ 이와 관련 FTC는 아마존 AI 비서 ‘알렉사(Alexa)’와 스마트홈 보안 기기 ‘링(Ring)’이 소비자의 사적')]}"
      ]
     },
     "execution_count": 34,
     "metadata": {},
     "output_type": "execute_result"
    }
   ],
   "source": [
    "state"
   ]
  },
  {
   "cell_type": "code",
   "execution_count": 35,
   "metadata": {},
   "outputs": [],
   "source": [
    "# 답변 생성 노드\n",
    "def generate(state: GraphState):\n",
    "    print('\\n==========================================================================================')\n",
    "    print('🔄 [Node] 답변 생성 노드 🔄')\n",
    "\n",
    "    # 사용자 질문\n",
    "    question = state['question']  \n",
    "\n",
    "    # 문서 검색 결과\n",
    "    documents = state['documents']\n",
    "\n",
    "    # RAG 실행 결과\n",
    "    generation = rag_chain.invoke({'context': documents , 'question': 'question'})\n",
    "\n",
    "    print('-------------------')\n",
    "    print(generation)\n",
    "    print('-------------------')\n",
    "    print()\n",
    "    print('==========================================================================================\\n')    \n",
    "\n",
    "    return {'generation': generation}"
   ]
  },
  {
   "cell_type": "code",
   "execution_count": 36,
   "metadata": {},
   "outputs": [
    {
     "name": "stdout",
     "output_type": "stream",
     "text": [
      "\n",
      "==========================================================================================\n",
      "🔄 [Node] 답변 생성 노드 🔄\n",
      "-------------------\n",
      "삼성전자가 공개한 생성 AI 모델 ‘삼성 가우스’는 언어, 코드, 이미지의 3개 모델로 구성되어 있으며, 온디바이스에서 작동 가능하여 사용자 정보 유출 위험이 없다. 이 모델은 2023년 11월 8일 ‘삼성 AI 포럼 2023’에서 처음 공개되었다.\n",
      "\n",
      "**Source**\n",
      "- data/SPRI_AI_Brief_2023년12월호_F.pdf (page 12)\n",
      "-------------------\n",
      "\n",
      "==========================================================================================\n",
      "\n"
     ]
    }
   ],
   "source": [
    "state['generation'] = generate(state)['generation']"
   ]
  },
  {
   "cell_type": "code",
   "execution_count": 37,
   "metadata": {},
   "outputs": [
    {
     "data": {
      "text/plain": [
       "{'question': '삼성전자가 만든 생성형 AI 이름은?',\n",
       " 'generation': '삼성전자가 공개한 생성 AI 모델 ‘삼성 가우스’는 언어, 코드, 이미지의 3개 모델로 구성되어 있으며, 온디바이스에서 작동 가능하여 사용자 정보 유출 위험이 없다. 이 모델은 2023년 11월 8일 ‘삼성 AI 포럼 2023’에서 처음 공개되었다.\\n\\n**Source**\\n- data/SPRI_AI_Brief_2023년12월호_F.pdf (page 12)',\n",
       " 'documents': [Document(id='c1407987-c24e-4f7b-9a9d-af8f87ee6bc0', metadata={'source': 'data/SPRI_AI_Brief_2023년12월호_F.pdf', 'file_path': 'data/SPRI_AI_Brief_2023년12월호_F.pdf', 'page': 1, 'total_pages': 23, 'Author': 'dj', 'Creator': 'Hwp 2018 10.0.0.13462', 'Producer': 'Hancom PDF 1.3.0.542', 'CreationDate': \"D:20231208132838+09'00'\", 'ModDate': \"D:20231208132838+09'00'\", 'PDFVersion': '1.4'}, page_content='▹ 삼성전자, 자체 개발 생성 AI ‘삼성 가우스’ 공개 ···························································10\\n▹ 구글, 앤스로픽에 20억 달러 투자로 생성 AI 협력 강화 ················································11\\n▹ IDC, 2027년 AI 소프트웨어 매출 2,500억 달러 돌파 전망···········································12'),\n",
       "  Document(id='9d1c9684-6dd4-4f87-b719-b0cf7c8c4679', metadata={'source': 'data/SPRI_AI_Brief_2023년12월호_F.pdf', 'file_path': 'data/SPRI_AI_Brief_2023년12월호_F.pdf', 'page': 12, 'total_pages': 23, 'Author': 'dj', 'Creator': 'Hwp 2018 10.0.0.13462', 'Producer': 'Hancom PDF 1.3.0.542', 'CreationDate': \"D:20231208132838+09'00'\", 'ModDate': \"D:20231208132838+09'00'\", 'PDFVersion': '1.4'}, page_content='SPRi AI Brief |\\n2023-12월호\\n삼성전자, 자체 개발 생성 AI ‘삼성 가우스’ 공개\\nKEY Contents\\nn 삼성전자가 온디바이스에서 작동 가능하며 언어, 코드, 이미지의 3개 모델로 구성된 자체 개발 생성\\nAI 모델 ‘삼성 가우스’를 공개\\nn 삼성전자는 삼성 가우스를 다양한 제품에 단계적으로 탑재할 계획으로, 온디바이스 작동이 가능한\\n삼성 가우스는 외부로 사용자 정보가 유출될 위험이 없다는 장점을 보유\\n£언어, 코드, 이미지의 3개 모델로 구성된 삼성 가우스, 온디바이스 작동 지원'),\n",
       "  Document(id='072c7184-421f-4b05-895b-053c001f4eee', metadata={'source': 'data/SPRI_AI_Brief_2023년12월호_F.pdf', 'file_path': 'data/SPRI_AI_Brief_2023년12월호_F.pdf', 'page': 12, 'total_pages': 23, 'Author': 'dj', 'Creator': 'Hwp 2018 10.0.0.13462', 'Producer': 'Hancom PDF 1.3.0.542', 'CreationDate': \"D:20231208132838+09'00'\", 'ModDate': \"D:20231208132838+09'00'\", 'PDFVersion': '1.4'}, page_content='£언어, 코드, 이미지의 3개 모델로 구성된 삼성 가우스, 온디바이스 작동 지원\\nn 삼성전자가 2023년 11월 8일 열린 ‘삼성 AI 포럼 2023’ 행사에서 자체 개발한 생성 AI 모델\\n‘삼성 가우스’를 최초 공개\\n∙ 정규분포 이론을 정립한 천재 수학자 가우스(Gauss)의 이름을 본뜬 삼성 가우스는 다양한 상황에\\n최적화된 크기의 모델 선택이 가능\\n∙ 삼성 가우스는 라이선스나 개인정보를 침해하지 않는 안전한 데이터를 통해 학습되었으며,\\n온디바이스에서 작동하도록 설계되어 외부로 사용자의 정보가 유출되지 않는 장점을 보유'),\n",
       "  Document(id='b9ed246b-2d76-4e6c-b1c4-df10d228f9df', metadata={'source': 'data/SPRI_AI_Brief_2023년12월호_F.pdf', 'file_path': 'data/SPRI_AI_Brief_2023년12월호_F.pdf', 'page': 12, 'total_pages': 23, 'Author': 'dj', 'Creator': 'Hwp 2018 10.0.0.13462', 'Producer': 'Hancom PDF 1.3.0.542', 'CreationDate': \"D:20231208132838+09'00'\", 'ModDate': \"D:20231208132838+09'00'\", 'PDFVersion': '1.4'}, page_content='어시스턴트를 적용한 구글 픽셀(Pixel)과 경쟁할 것으로 예상\\n☞ 출처 : 삼성전자, ‘삼성 AI 포럼’서 자체 개발 생성형 AI ‘삼성 가우스’ 공개, 2023.11.08.\\n삼성전자, ‘삼성 개발자 콘퍼런스 코리아 2023’ 개최, 2023.11.14.\\nTechRepublic, Samsung Gauss: Samsung Research Reveals Generative AI, 2023.11.08.\\n10'),\n",
       "  Document(id='3a4ee943-55d1-4b0c-8620-5a35a0898905', metadata={'source': 'data/SPRI_AI_Brief_2023년12월호_F.pdf', 'file_path': 'data/SPRI_AI_Brief_2023년12월호_F.pdf', 'page': 18, 'total_pages': 23, 'Author': 'dj', 'Creator': 'Hwp 2018 10.0.0.13462', 'Producer': 'Hancom PDF 1.3.0.542', 'CreationDate': \"D:20231208132838+09'00'\", 'ModDate': \"D:20231208132838+09'00'\", 'PDFVersion': '1.4'}, page_content='<구글 딥마인드의 범용 AI 분류 프레임워크>\\n성능 특수 AI 예시 범용 AI 예시\\n0단계: AI 아님 계산기 소프트웨어, 컴파일러 아마존 메커니컬 터크\\n1단계: 신진(숙련되지 않은 인간) GOFAI(Good Old Fashioned Artificial Intelligence) 챗GPT, 바드, 라마2\\n스마트 스피커(애플 시리, 아마존 알렉사, 구글\\n2단계: 유능(숙련된 인간의 50% 이상) 미달성\\n어시스턴트), IBM 왓슨\\n3단계: 전문가(숙련된 인간의 90% 이상) 문법 교정기(그래머리), 생성 이미지 모델(달리2) 미달성'),\n",
       "  Document(id='d20c493a-1f0e-4ca5-8ff1-819dda28fd6f', metadata={'source': 'data/SPRI_AI_Brief_2023년12월호_F.pdf', 'file_path': 'data/SPRI_AI_Brief_2023년12월호_F.pdf', 'page': 12, 'total_pages': 23, 'Author': 'dj', 'Creator': 'Hwp 2018 10.0.0.13462', 'Producer': 'Hancom PDF 1.3.0.542', 'CreationDate': \"D:20231208132838+09'00'\", 'ModDate': \"D:20231208132838+09'00'\", 'PDFVersion': '1.4'}, page_content='처리를 지원\\n∙ 코드 모델 기반의 AI 코딩 어시스턴트 ‘코드아이(code.i)’는 대화형 인터페이스로 서비스를 제공하며\\n사내 소프트웨어 개발에 최적화\\n∙ 이미지 모델은 창의적인 이미지를 생성하고 기존 이미지를 원하는 대로 바꿀 수 있도록 지원하며\\n저해상도 이미지의 고해상도 전환도 지원\\nn IT 전문지 테크리퍼블릭(TechRepublic)은 온디바이스 AI가 주요 기술 트렌드로 부상했다며,\\n2024년부터 가우스를 탑재한 삼성 스마트폰이 메타의 라마(Llama)2를 탑재한 퀄컴 기기 및 구글'),\n",
       "  Document(id='4bbc56cd-5e33-4347-a585-891f00bce829', metadata={'source': 'data/SPRI_AI_Brief_2023년12월호_F.pdf', 'file_path': 'data/SPRI_AI_Brief_2023년12월호_F.pdf', 'page': 12, 'total_pages': 23, 'Author': 'dj', 'Creator': 'Hwp 2018 10.0.0.13462', 'Producer': 'Hancom PDF 1.3.0.542', 'CreationDate': \"D:20231208132838+09'00'\", 'ModDate': \"D:20231208132838+09'00'\", 'PDFVersion': '1.4'}, page_content='온디바이스에서 작동하도록 설계되어 외부로 사용자의 정보가 유출되지 않는 장점을 보유\\n∙ 삼성전자는 삼성 가우스를 활용한 온디바이스 AI 기술도 소개했으며, 생성 AI 모델을 다양한 제품에\\n단계적으로 탑재할 계획\\nn 삼성 가우스는 △텍스트를 생성하는 언어모델 △코드를 생성하는 코드 모델 △이미지를 생성하는\\n이미지 모델의 3개 모델로 구성\\n∙ 언어 모델은 클라우드와 온디바이스 대상 다양한 모델로 구성되며, 메일 작성, 문서 요약, 번역 업무의\\n처리를 지원'),\n",
       "  Document(id='a380b69c-8bdc-45b3-9dc6-befdc28cd6b9', metadata={'source': 'data/SPRI_AI_Brief_2023년12월호_F.pdf', 'file_path': 'data/SPRI_AI_Brief_2023년12월호_F.pdf', 'page': 11, 'total_pages': 23, 'Author': 'dj', 'Creator': 'Hwp 2018 10.0.0.13462', 'Producer': 'Hancom PDF 1.3.0.542', 'CreationDate': \"D:20231208132838+09'00'\", 'ModDate': \"D:20231208132838+09'00'\", 'PDFVersion': '1.4'}, page_content='제작을 포함\\nn 알리바바 클라우드는 급증하는 생성 AI 수요에 대응해 모델 개발과 애플리케이션 구축 절차를\\n간소화하는 올인원 AI 모델 구축 플랫폼 ‘젠AI(GenAI)’도 공개\\n∙ 이 플랫폼은 데이터 관리, 모델 배포와 평가, 신속한 엔지니어링을 위한 종합 도구 모음을 제공하여\\n다양한 기업들이 맞춤형 AI 모델을 한층 쉽게 개발할 수 있도록 지원\\n∙ 생성 AI 개발에 필요한 컴퓨팅과 데이터 처리 요구사항을 지원하기 위해 AI 플랫폼(PAI),\\n데이터베이스 솔루션, 컨테이너 서비스와 같은 클라우드 신제품도 발표'),\n",
       "  Document(id='93383986-36e4-4d89-a57d-7685c8e81945', metadata={'source': 'data/SPRI_AI_Brief_2023년12월호_F.pdf', 'file_path': 'data/SPRI_AI_Brief_2023년12월호_F.pdf', 'page': 1, 'total_pages': 23, 'Author': 'dj', 'Creator': 'Hwp 2018 10.0.0.13462', 'Producer': 'Hancom PDF 1.3.0.542', 'CreationDate': \"D:20231208132838+09'00'\", 'ModDate': \"D:20231208132838+09'00'\", 'PDFVersion': '1.4'}, page_content='▹ 빌 게이츠, AI 에이전트로 인한 컴퓨터 사용의 패러다임 변화 전망································13\\n▹ 유튜브, 2024년부터 AI 생성 콘텐츠 표시 의무화····························································14\\n3. 기술/연구\\n▹ 영국 과학혁신기술부, AI 안전 연구소 설립 발표······························································15'),\n",
       "  Document(id='fd2624fe-2cd5-441d-85a7-525aa9b9781f', metadata={'source': 'data/SPRI_AI_Brief_2023년12월호_F.pdf', 'file_path': 'data/SPRI_AI_Brief_2023년12월호_F.pdf', 'page': 7, 'total_pages': 23, 'Author': 'dj', 'Creator': 'Hwp 2018 10.0.0.13462', 'Producer': 'Hancom PDF 1.3.0.542', 'CreationDate': \"D:20231208132838+09'00'\", 'ModDate': \"D:20231208132838+09'00'\", 'PDFVersion': '1.4'}, page_content='만들었다고 오해할 소지가 있다고 지적\\n∙ 저작권법에 저촉되는 행위는 불공정 경쟁이나 기만행위에도 해당될 수 있으며, 창작자의 평판 악화,\\n저작물의 가치 저하나 개인정보 유출로 소비자에 상당한 피해를 초래 가능\\nn FTC는 일부 빅테크가 막대한 재원을 활용해 생성 AI 사용자의 이탈을 막고 저작권이 있는 상용\\n데이터에 대한 독점 라이선스를 확보해 시장 지배력을 더욱 강화할 수 있다는 우려도 제기\\n∙ 이와 관련 FTC는 아마존 AI 비서 ‘알렉사(Alexa)’와 스마트홈 보안 기기 ‘링(Ring)’이 소비자의 사적')]}"
      ]
     },
     "execution_count": 37,
     "metadata": {},
     "output_type": "execute_result"
    }
   ],
   "source": [
    "state"
   ]
  },
  {
   "cell_type": "code",
   "execution_count": 38,
   "metadata": {},
   "outputs": [],
   "source": [
    "# 문서 검색 결과와 질문 관련성 평가 노드\n",
    "def grade_documents(state: GraphState):\n",
    "    print('\\n==========================================================================================')\n",
    "    print('===== [CHECK DOCUMENT RELEVANCE TO QUESTION] =====')\n",
    "\n",
    "    # 사용자 질문\n",
    "    question = state['question']  \n",
    "\n",
    "    # 문서 검색 결과\n",
    "    documents = state['documents']\n",
    "\n",
    "    # 문서 검색 평가기를 통과한 문서들만 필터링\n",
    "    filtered_docs = []\n",
    "\n",
    "    for doc in documents:\n",
    "        score = retrieval_grader.invoke({'question': question, 'document': doc.page_content})\n",
    "\n",
    "        grade = score.binary_score\n",
    "\n",
    "        if grade == 'yes':\n",
    "            print(\"---GRADE: DOCUMENT RELEVANT---\")     \n",
    "            filtered_docs.append(doc)                   \n",
    "        else:\n",
    "            print(\"---GRADE: DOCUMENT NOT RELEVANT---\") \n",
    "            continue     \n",
    "\n",
    "    print('==========================================================================================\\n')\n",
    "    return {'documents': filtered_docs}"
   ]
  },
  {
   "cell_type": "code",
   "execution_count": 39,
   "metadata": {},
   "outputs": [
    {
     "data": {
      "text/plain": [
       "{'question': '삼성전자가 만든 생성형 AI 이름은?',\n",
       " 'generation': '삼성전자가 공개한 생성 AI 모델 ‘삼성 가우스’는 언어, 코드, 이미지의 3개 모델로 구성되어 있으며, 온디바이스에서 작동 가능하여 사용자 정보 유출 위험이 없다. 이 모델은 2023년 11월 8일 ‘삼성 AI 포럼 2023’에서 처음 공개되었다.\\n\\n**Source**\\n- data/SPRI_AI_Brief_2023년12월호_F.pdf (page 12)',\n",
       " 'documents': [Document(id='c1407987-c24e-4f7b-9a9d-af8f87ee6bc0', metadata={'source': 'data/SPRI_AI_Brief_2023년12월호_F.pdf', 'file_path': 'data/SPRI_AI_Brief_2023년12월호_F.pdf', 'page': 1, 'total_pages': 23, 'Author': 'dj', 'Creator': 'Hwp 2018 10.0.0.13462', 'Producer': 'Hancom PDF 1.3.0.542', 'CreationDate': \"D:20231208132838+09'00'\", 'ModDate': \"D:20231208132838+09'00'\", 'PDFVersion': '1.4'}, page_content='▹ 삼성전자, 자체 개발 생성 AI ‘삼성 가우스’ 공개 ···························································10\\n▹ 구글, 앤스로픽에 20억 달러 투자로 생성 AI 협력 강화 ················································11\\n▹ IDC, 2027년 AI 소프트웨어 매출 2,500억 달러 돌파 전망···········································12'),\n",
       "  Document(id='9d1c9684-6dd4-4f87-b719-b0cf7c8c4679', metadata={'source': 'data/SPRI_AI_Brief_2023년12월호_F.pdf', 'file_path': 'data/SPRI_AI_Brief_2023년12월호_F.pdf', 'page': 12, 'total_pages': 23, 'Author': 'dj', 'Creator': 'Hwp 2018 10.0.0.13462', 'Producer': 'Hancom PDF 1.3.0.542', 'CreationDate': \"D:20231208132838+09'00'\", 'ModDate': \"D:20231208132838+09'00'\", 'PDFVersion': '1.4'}, page_content='SPRi AI Brief |\\n2023-12월호\\n삼성전자, 자체 개발 생성 AI ‘삼성 가우스’ 공개\\nKEY Contents\\nn 삼성전자가 온디바이스에서 작동 가능하며 언어, 코드, 이미지의 3개 모델로 구성된 자체 개발 생성\\nAI 모델 ‘삼성 가우스’를 공개\\nn 삼성전자는 삼성 가우스를 다양한 제품에 단계적으로 탑재할 계획으로, 온디바이스 작동이 가능한\\n삼성 가우스는 외부로 사용자 정보가 유출될 위험이 없다는 장점을 보유\\n£언어, 코드, 이미지의 3개 모델로 구성된 삼성 가우스, 온디바이스 작동 지원'),\n",
       "  Document(id='072c7184-421f-4b05-895b-053c001f4eee', metadata={'source': 'data/SPRI_AI_Brief_2023년12월호_F.pdf', 'file_path': 'data/SPRI_AI_Brief_2023년12월호_F.pdf', 'page': 12, 'total_pages': 23, 'Author': 'dj', 'Creator': 'Hwp 2018 10.0.0.13462', 'Producer': 'Hancom PDF 1.3.0.542', 'CreationDate': \"D:20231208132838+09'00'\", 'ModDate': \"D:20231208132838+09'00'\", 'PDFVersion': '1.4'}, page_content='£언어, 코드, 이미지의 3개 모델로 구성된 삼성 가우스, 온디바이스 작동 지원\\nn 삼성전자가 2023년 11월 8일 열린 ‘삼성 AI 포럼 2023’ 행사에서 자체 개발한 생성 AI 모델\\n‘삼성 가우스’를 최초 공개\\n∙ 정규분포 이론을 정립한 천재 수학자 가우스(Gauss)의 이름을 본뜬 삼성 가우스는 다양한 상황에\\n최적화된 크기의 모델 선택이 가능\\n∙ 삼성 가우스는 라이선스나 개인정보를 침해하지 않는 안전한 데이터를 통해 학습되었으며,\\n온디바이스에서 작동하도록 설계되어 외부로 사용자의 정보가 유출되지 않는 장점을 보유'),\n",
       "  Document(id='b9ed246b-2d76-4e6c-b1c4-df10d228f9df', metadata={'source': 'data/SPRI_AI_Brief_2023년12월호_F.pdf', 'file_path': 'data/SPRI_AI_Brief_2023년12월호_F.pdf', 'page': 12, 'total_pages': 23, 'Author': 'dj', 'Creator': 'Hwp 2018 10.0.0.13462', 'Producer': 'Hancom PDF 1.3.0.542', 'CreationDate': \"D:20231208132838+09'00'\", 'ModDate': \"D:20231208132838+09'00'\", 'PDFVersion': '1.4'}, page_content='어시스턴트를 적용한 구글 픽셀(Pixel)과 경쟁할 것으로 예상\\n☞ 출처 : 삼성전자, ‘삼성 AI 포럼’서 자체 개발 생성형 AI ‘삼성 가우스’ 공개, 2023.11.08.\\n삼성전자, ‘삼성 개발자 콘퍼런스 코리아 2023’ 개최, 2023.11.14.\\nTechRepublic, Samsung Gauss: Samsung Research Reveals Generative AI, 2023.11.08.\\n10'),\n",
       "  Document(id='3a4ee943-55d1-4b0c-8620-5a35a0898905', metadata={'source': 'data/SPRI_AI_Brief_2023년12월호_F.pdf', 'file_path': 'data/SPRI_AI_Brief_2023년12월호_F.pdf', 'page': 18, 'total_pages': 23, 'Author': 'dj', 'Creator': 'Hwp 2018 10.0.0.13462', 'Producer': 'Hancom PDF 1.3.0.542', 'CreationDate': \"D:20231208132838+09'00'\", 'ModDate': \"D:20231208132838+09'00'\", 'PDFVersion': '1.4'}, page_content='<구글 딥마인드의 범용 AI 분류 프레임워크>\\n성능 특수 AI 예시 범용 AI 예시\\n0단계: AI 아님 계산기 소프트웨어, 컴파일러 아마존 메커니컬 터크\\n1단계: 신진(숙련되지 않은 인간) GOFAI(Good Old Fashioned Artificial Intelligence) 챗GPT, 바드, 라마2\\n스마트 스피커(애플 시리, 아마존 알렉사, 구글\\n2단계: 유능(숙련된 인간의 50% 이상) 미달성\\n어시스턴트), IBM 왓슨\\n3단계: 전문가(숙련된 인간의 90% 이상) 문법 교정기(그래머리), 생성 이미지 모델(달리2) 미달성'),\n",
       "  Document(id='d20c493a-1f0e-4ca5-8ff1-819dda28fd6f', metadata={'source': 'data/SPRI_AI_Brief_2023년12월호_F.pdf', 'file_path': 'data/SPRI_AI_Brief_2023년12월호_F.pdf', 'page': 12, 'total_pages': 23, 'Author': 'dj', 'Creator': 'Hwp 2018 10.0.0.13462', 'Producer': 'Hancom PDF 1.3.0.542', 'CreationDate': \"D:20231208132838+09'00'\", 'ModDate': \"D:20231208132838+09'00'\", 'PDFVersion': '1.4'}, page_content='처리를 지원\\n∙ 코드 모델 기반의 AI 코딩 어시스턴트 ‘코드아이(code.i)’는 대화형 인터페이스로 서비스를 제공하며\\n사내 소프트웨어 개발에 최적화\\n∙ 이미지 모델은 창의적인 이미지를 생성하고 기존 이미지를 원하는 대로 바꿀 수 있도록 지원하며\\n저해상도 이미지의 고해상도 전환도 지원\\nn IT 전문지 테크리퍼블릭(TechRepublic)은 온디바이스 AI가 주요 기술 트렌드로 부상했다며,\\n2024년부터 가우스를 탑재한 삼성 스마트폰이 메타의 라마(Llama)2를 탑재한 퀄컴 기기 및 구글'),\n",
       "  Document(id='4bbc56cd-5e33-4347-a585-891f00bce829', metadata={'source': 'data/SPRI_AI_Brief_2023년12월호_F.pdf', 'file_path': 'data/SPRI_AI_Brief_2023년12월호_F.pdf', 'page': 12, 'total_pages': 23, 'Author': 'dj', 'Creator': 'Hwp 2018 10.0.0.13462', 'Producer': 'Hancom PDF 1.3.0.542', 'CreationDate': \"D:20231208132838+09'00'\", 'ModDate': \"D:20231208132838+09'00'\", 'PDFVersion': '1.4'}, page_content='온디바이스에서 작동하도록 설계되어 외부로 사용자의 정보가 유출되지 않는 장점을 보유\\n∙ 삼성전자는 삼성 가우스를 활용한 온디바이스 AI 기술도 소개했으며, 생성 AI 모델을 다양한 제품에\\n단계적으로 탑재할 계획\\nn 삼성 가우스는 △텍스트를 생성하는 언어모델 △코드를 생성하는 코드 모델 △이미지를 생성하는\\n이미지 모델의 3개 모델로 구성\\n∙ 언어 모델은 클라우드와 온디바이스 대상 다양한 모델로 구성되며, 메일 작성, 문서 요약, 번역 업무의\\n처리를 지원'),\n",
       "  Document(id='a380b69c-8bdc-45b3-9dc6-befdc28cd6b9', metadata={'source': 'data/SPRI_AI_Brief_2023년12월호_F.pdf', 'file_path': 'data/SPRI_AI_Brief_2023년12월호_F.pdf', 'page': 11, 'total_pages': 23, 'Author': 'dj', 'Creator': 'Hwp 2018 10.0.0.13462', 'Producer': 'Hancom PDF 1.3.0.542', 'CreationDate': \"D:20231208132838+09'00'\", 'ModDate': \"D:20231208132838+09'00'\", 'PDFVersion': '1.4'}, page_content='제작을 포함\\nn 알리바바 클라우드는 급증하는 생성 AI 수요에 대응해 모델 개발과 애플리케이션 구축 절차를\\n간소화하는 올인원 AI 모델 구축 플랫폼 ‘젠AI(GenAI)’도 공개\\n∙ 이 플랫폼은 데이터 관리, 모델 배포와 평가, 신속한 엔지니어링을 위한 종합 도구 모음을 제공하여\\n다양한 기업들이 맞춤형 AI 모델을 한층 쉽게 개발할 수 있도록 지원\\n∙ 생성 AI 개발에 필요한 컴퓨팅과 데이터 처리 요구사항을 지원하기 위해 AI 플랫폼(PAI),\\n데이터베이스 솔루션, 컨테이너 서비스와 같은 클라우드 신제품도 발표'),\n",
       "  Document(id='93383986-36e4-4d89-a57d-7685c8e81945', metadata={'source': 'data/SPRI_AI_Brief_2023년12월호_F.pdf', 'file_path': 'data/SPRI_AI_Brief_2023년12월호_F.pdf', 'page': 1, 'total_pages': 23, 'Author': 'dj', 'Creator': 'Hwp 2018 10.0.0.13462', 'Producer': 'Hancom PDF 1.3.0.542', 'CreationDate': \"D:20231208132838+09'00'\", 'ModDate': \"D:20231208132838+09'00'\", 'PDFVersion': '1.4'}, page_content='▹ 빌 게이츠, AI 에이전트로 인한 컴퓨터 사용의 패러다임 변화 전망································13\\n▹ 유튜브, 2024년부터 AI 생성 콘텐츠 표시 의무화····························································14\\n3. 기술/연구\\n▹ 영국 과학혁신기술부, AI 안전 연구소 설립 발표······························································15'),\n",
       "  Document(id='fd2624fe-2cd5-441d-85a7-525aa9b9781f', metadata={'source': 'data/SPRI_AI_Brief_2023년12월호_F.pdf', 'file_path': 'data/SPRI_AI_Brief_2023년12월호_F.pdf', 'page': 7, 'total_pages': 23, 'Author': 'dj', 'Creator': 'Hwp 2018 10.0.0.13462', 'Producer': 'Hancom PDF 1.3.0.542', 'CreationDate': \"D:20231208132838+09'00'\", 'ModDate': \"D:20231208132838+09'00'\", 'PDFVersion': '1.4'}, page_content='만들었다고 오해할 소지가 있다고 지적\\n∙ 저작권법에 저촉되는 행위는 불공정 경쟁이나 기만행위에도 해당될 수 있으며, 창작자의 평판 악화,\\n저작물의 가치 저하나 개인정보 유출로 소비자에 상당한 피해를 초래 가능\\nn FTC는 일부 빅테크가 막대한 재원을 활용해 생성 AI 사용자의 이탈을 막고 저작권이 있는 상용\\n데이터에 대한 독점 라이선스를 확보해 시장 지배력을 더욱 강화할 수 있다는 우려도 제기\\n∙ 이와 관련 FTC는 아마존 AI 비서 ‘알렉사(Alexa)’와 스마트홈 보안 기기 ‘링(Ring)’이 소비자의 사적')]}"
      ]
     },
     "execution_count": 39,
     "metadata": {},
     "output_type": "execute_result"
    }
   ],
   "source": [
    "state"
   ]
  },
  {
   "cell_type": "code",
   "execution_count": 40,
   "metadata": {},
   "outputs": [
    {
     "name": "stdout",
     "output_type": "stream",
     "text": [
      "\n",
      "==========================================================================================\n",
      "===== [CHECK DOCUMENT RELEVANCE TO QUESTION] =====\n",
      "---GRADE: DOCUMENT RELEVANT---\n",
      "---GRADE: DOCUMENT RELEVANT---\n",
      "---GRADE: DOCUMENT RELEVANT---\n",
      "---GRADE: DOCUMENT RELEVANT---\n",
      "---GRADE: DOCUMENT NOT RELEVANT---\n",
      "---GRADE: DOCUMENT RELEVANT---\n",
      "---GRADE: DOCUMENT RELEVANT---\n",
      "---GRADE: DOCUMENT NOT RELEVANT---\n",
      "---GRADE: DOCUMENT NOT RELEVANT---\n",
      "---GRADE: DOCUMENT NOT RELEVANT---\n",
      "==========================================================================================\n",
      "\n"
     ]
    }
   ],
   "source": [
    "return_documents = grade_documents(state)"
   ]
  },
  {
   "cell_type": "code",
   "execution_count": 41,
   "metadata": {},
   "outputs": [],
   "source": [
    "state['documents'] = return_documents['documents']"
   ]
  },
  {
   "cell_type": "code",
   "execution_count": 42,
   "metadata": {},
   "outputs": [
    {
     "data": {
      "text/plain": [
       "{'question': '삼성전자가 만든 생성형 AI 이름은?',\n",
       " 'generation': '삼성전자가 공개한 생성 AI 모델 ‘삼성 가우스’는 언어, 코드, 이미지의 3개 모델로 구성되어 있으며, 온디바이스에서 작동 가능하여 사용자 정보 유출 위험이 없다. 이 모델은 2023년 11월 8일 ‘삼성 AI 포럼 2023’에서 처음 공개되었다.\\n\\n**Source**\\n- data/SPRI_AI_Brief_2023년12월호_F.pdf (page 12)',\n",
       " 'documents': [Document(id='c1407987-c24e-4f7b-9a9d-af8f87ee6bc0', metadata={'source': 'data/SPRI_AI_Brief_2023년12월호_F.pdf', 'file_path': 'data/SPRI_AI_Brief_2023년12월호_F.pdf', 'page': 1, 'total_pages': 23, 'Author': 'dj', 'Creator': 'Hwp 2018 10.0.0.13462', 'Producer': 'Hancom PDF 1.3.0.542', 'CreationDate': \"D:20231208132838+09'00'\", 'ModDate': \"D:20231208132838+09'00'\", 'PDFVersion': '1.4'}, page_content='▹ 삼성전자, 자체 개발 생성 AI ‘삼성 가우스’ 공개 ···························································10\\n▹ 구글, 앤스로픽에 20억 달러 투자로 생성 AI 협력 강화 ················································11\\n▹ IDC, 2027년 AI 소프트웨어 매출 2,500억 달러 돌파 전망···········································12'),\n",
       "  Document(id='9d1c9684-6dd4-4f87-b719-b0cf7c8c4679', metadata={'source': 'data/SPRI_AI_Brief_2023년12월호_F.pdf', 'file_path': 'data/SPRI_AI_Brief_2023년12월호_F.pdf', 'page': 12, 'total_pages': 23, 'Author': 'dj', 'Creator': 'Hwp 2018 10.0.0.13462', 'Producer': 'Hancom PDF 1.3.0.542', 'CreationDate': \"D:20231208132838+09'00'\", 'ModDate': \"D:20231208132838+09'00'\", 'PDFVersion': '1.4'}, page_content='SPRi AI Brief |\\n2023-12월호\\n삼성전자, 자체 개발 생성 AI ‘삼성 가우스’ 공개\\nKEY Contents\\nn 삼성전자가 온디바이스에서 작동 가능하며 언어, 코드, 이미지의 3개 모델로 구성된 자체 개발 생성\\nAI 모델 ‘삼성 가우스’를 공개\\nn 삼성전자는 삼성 가우스를 다양한 제품에 단계적으로 탑재할 계획으로, 온디바이스 작동이 가능한\\n삼성 가우스는 외부로 사용자 정보가 유출될 위험이 없다는 장점을 보유\\n£언어, 코드, 이미지의 3개 모델로 구성된 삼성 가우스, 온디바이스 작동 지원'),\n",
       "  Document(id='072c7184-421f-4b05-895b-053c001f4eee', metadata={'source': 'data/SPRI_AI_Brief_2023년12월호_F.pdf', 'file_path': 'data/SPRI_AI_Brief_2023년12월호_F.pdf', 'page': 12, 'total_pages': 23, 'Author': 'dj', 'Creator': 'Hwp 2018 10.0.0.13462', 'Producer': 'Hancom PDF 1.3.0.542', 'CreationDate': \"D:20231208132838+09'00'\", 'ModDate': \"D:20231208132838+09'00'\", 'PDFVersion': '1.4'}, page_content='£언어, 코드, 이미지의 3개 모델로 구성된 삼성 가우스, 온디바이스 작동 지원\\nn 삼성전자가 2023년 11월 8일 열린 ‘삼성 AI 포럼 2023’ 행사에서 자체 개발한 생성 AI 모델\\n‘삼성 가우스’를 최초 공개\\n∙ 정규분포 이론을 정립한 천재 수학자 가우스(Gauss)의 이름을 본뜬 삼성 가우스는 다양한 상황에\\n최적화된 크기의 모델 선택이 가능\\n∙ 삼성 가우스는 라이선스나 개인정보를 침해하지 않는 안전한 데이터를 통해 학습되었으며,\\n온디바이스에서 작동하도록 설계되어 외부로 사용자의 정보가 유출되지 않는 장점을 보유'),\n",
       "  Document(id='b9ed246b-2d76-4e6c-b1c4-df10d228f9df', metadata={'source': 'data/SPRI_AI_Brief_2023년12월호_F.pdf', 'file_path': 'data/SPRI_AI_Brief_2023년12월호_F.pdf', 'page': 12, 'total_pages': 23, 'Author': 'dj', 'Creator': 'Hwp 2018 10.0.0.13462', 'Producer': 'Hancom PDF 1.3.0.542', 'CreationDate': \"D:20231208132838+09'00'\", 'ModDate': \"D:20231208132838+09'00'\", 'PDFVersion': '1.4'}, page_content='어시스턴트를 적용한 구글 픽셀(Pixel)과 경쟁할 것으로 예상\\n☞ 출처 : 삼성전자, ‘삼성 AI 포럼’서 자체 개발 생성형 AI ‘삼성 가우스’ 공개, 2023.11.08.\\n삼성전자, ‘삼성 개발자 콘퍼런스 코리아 2023’ 개최, 2023.11.14.\\nTechRepublic, Samsung Gauss: Samsung Research Reveals Generative AI, 2023.11.08.\\n10'),\n",
       "  Document(id='d20c493a-1f0e-4ca5-8ff1-819dda28fd6f', metadata={'source': 'data/SPRI_AI_Brief_2023년12월호_F.pdf', 'file_path': 'data/SPRI_AI_Brief_2023년12월호_F.pdf', 'page': 12, 'total_pages': 23, 'Author': 'dj', 'Creator': 'Hwp 2018 10.0.0.13462', 'Producer': 'Hancom PDF 1.3.0.542', 'CreationDate': \"D:20231208132838+09'00'\", 'ModDate': \"D:20231208132838+09'00'\", 'PDFVersion': '1.4'}, page_content='처리를 지원\\n∙ 코드 모델 기반의 AI 코딩 어시스턴트 ‘코드아이(code.i)’는 대화형 인터페이스로 서비스를 제공하며\\n사내 소프트웨어 개발에 최적화\\n∙ 이미지 모델은 창의적인 이미지를 생성하고 기존 이미지를 원하는 대로 바꿀 수 있도록 지원하며\\n저해상도 이미지의 고해상도 전환도 지원\\nn IT 전문지 테크리퍼블릭(TechRepublic)은 온디바이스 AI가 주요 기술 트렌드로 부상했다며,\\n2024년부터 가우스를 탑재한 삼성 스마트폰이 메타의 라마(Llama)2를 탑재한 퀄컴 기기 및 구글'),\n",
       "  Document(id='4bbc56cd-5e33-4347-a585-891f00bce829', metadata={'source': 'data/SPRI_AI_Brief_2023년12월호_F.pdf', 'file_path': 'data/SPRI_AI_Brief_2023년12월호_F.pdf', 'page': 12, 'total_pages': 23, 'Author': 'dj', 'Creator': 'Hwp 2018 10.0.0.13462', 'Producer': 'Hancom PDF 1.3.0.542', 'CreationDate': \"D:20231208132838+09'00'\", 'ModDate': \"D:20231208132838+09'00'\", 'PDFVersion': '1.4'}, page_content='온디바이스에서 작동하도록 설계되어 외부로 사용자의 정보가 유출되지 않는 장점을 보유\\n∙ 삼성전자는 삼성 가우스를 활용한 온디바이스 AI 기술도 소개했으며, 생성 AI 모델을 다양한 제품에\\n단계적으로 탑재할 계획\\nn 삼성 가우스는 △텍스트를 생성하는 언어모델 △코드를 생성하는 코드 모델 △이미지를 생성하는\\n이미지 모델의 3개 모델로 구성\\n∙ 언어 모델은 클라우드와 온디바이스 대상 다양한 모델로 구성되며, 메일 작성, 문서 요약, 번역 업무의\\n처리를 지원')]}"
      ]
     },
     "execution_count": 42,
     "metadata": {},
     "output_type": "execute_result"
    }
   ],
   "source": [
    "state"
   ]
  },
  {
   "cell_type": "code",
   "execution_count": 48,
   "metadata": {},
   "outputs": [],
   "source": [
    "# Query Rewrite 노드\n",
    "def transform_query(state: GraphState):\n",
    "    print('\\n==========================================================================================')\n",
    "    print('🔄 [Node] 쿼리 재작성 노드 🔄')\n",
    "\n",
    "    # 사용자 질문\n",
    "    question = state['question']\n",
    "\n",
    "    # 문서 검색 결과\n",
    "    documents = state['documents']\n",
    "\n",
    "    \n",
    "    # 쿼리 재작성\n",
    "    better_question = question_rewriter.invoke({'question': question})\n",
    "    print(f\"better_question: {better_question}\")\n",
    "    print('==========================================================================================\\n')\n",
    "\n",
    "    return {'question': better_question}"
   ]
  },
  {
   "cell_type": "code",
   "execution_count": 49,
   "metadata": {},
   "outputs": [
    {
     "name": "stdout",
     "output_type": "stream",
     "text": [
      "\n",
      "==========================================================================================\n",
      "🔄 [Node] 쿼리 재작성 노드 🔄\n",
      "better_question: 삼성전자가 개발한 생성형 인공지능의 이름은 무엇인가요?\n",
      "==========================================================================================\n",
      "\n"
     ]
    }
   ],
   "source": [
    "question_rewriter_return = transform_query(state)\n",
    "state['question'] = question_rewriter_return['question']"
   ]
  },
  {
   "cell_type": "code",
   "execution_count": 50,
   "metadata": {},
   "outputs": [
    {
     "data": {
      "text/plain": [
       "{'question': '삼성전자가 개발한 생성형 인공지능의 이름은 무엇인가요?',\n",
       " 'generation': '삼성전자가 공개한 생성 AI 모델 ‘삼성 가우스’는 언어, 코드, 이미지의 3개 모델로 구성되어 있으며, 온디바이스에서 작동 가능하여 사용자 정보 유출 위험이 없다. 이 모델은 2023년 11월 8일 ‘삼성 AI 포럼 2023’에서 처음 공개되었다.\\n\\n**Source**\\n- data/SPRI_AI_Brief_2023년12월호_F.pdf (page 12)',\n",
       " 'documents': [Document(id='c1407987-c24e-4f7b-9a9d-af8f87ee6bc0', metadata={'source': 'data/SPRI_AI_Brief_2023년12월호_F.pdf', 'file_path': 'data/SPRI_AI_Brief_2023년12월호_F.pdf', 'page': 1, 'total_pages': 23, 'Author': 'dj', 'Creator': 'Hwp 2018 10.0.0.13462', 'Producer': 'Hancom PDF 1.3.0.542', 'CreationDate': \"D:20231208132838+09'00'\", 'ModDate': \"D:20231208132838+09'00'\", 'PDFVersion': '1.4'}, page_content='▹ 삼성전자, 자체 개발 생성 AI ‘삼성 가우스’ 공개 ···························································10\\n▹ 구글, 앤스로픽에 20억 달러 투자로 생성 AI 협력 강화 ················································11\\n▹ IDC, 2027년 AI 소프트웨어 매출 2,500억 달러 돌파 전망···········································12'),\n",
       "  Document(id='9d1c9684-6dd4-4f87-b719-b0cf7c8c4679', metadata={'source': 'data/SPRI_AI_Brief_2023년12월호_F.pdf', 'file_path': 'data/SPRI_AI_Brief_2023년12월호_F.pdf', 'page': 12, 'total_pages': 23, 'Author': 'dj', 'Creator': 'Hwp 2018 10.0.0.13462', 'Producer': 'Hancom PDF 1.3.0.542', 'CreationDate': \"D:20231208132838+09'00'\", 'ModDate': \"D:20231208132838+09'00'\", 'PDFVersion': '1.4'}, page_content='SPRi AI Brief |\\n2023-12월호\\n삼성전자, 자체 개발 생성 AI ‘삼성 가우스’ 공개\\nKEY Contents\\nn 삼성전자가 온디바이스에서 작동 가능하며 언어, 코드, 이미지의 3개 모델로 구성된 자체 개발 생성\\nAI 모델 ‘삼성 가우스’를 공개\\nn 삼성전자는 삼성 가우스를 다양한 제품에 단계적으로 탑재할 계획으로, 온디바이스 작동이 가능한\\n삼성 가우스는 외부로 사용자 정보가 유출될 위험이 없다는 장점을 보유\\n£언어, 코드, 이미지의 3개 모델로 구성된 삼성 가우스, 온디바이스 작동 지원'),\n",
       "  Document(id='072c7184-421f-4b05-895b-053c001f4eee', metadata={'source': 'data/SPRI_AI_Brief_2023년12월호_F.pdf', 'file_path': 'data/SPRI_AI_Brief_2023년12월호_F.pdf', 'page': 12, 'total_pages': 23, 'Author': 'dj', 'Creator': 'Hwp 2018 10.0.0.13462', 'Producer': 'Hancom PDF 1.3.0.542', 'CreationDate': \"D:20231208132838+09'00'\", 'ModDate': \"D:20231208132838+09'00'\", 'PDFVersion': '1.4'}, page_content='£언어, 코드, 이미지의 3개 모델로 구성된 삼성 가우스, 온디바이스 작동 지원\\nn 삼성전자가 2023년 11월 8일 열린 ‘삼성 AI 포럼 2023’ 행사에서 자체 개발한 생성 AI 모델\\n‘삼성 가우스’를 최초 공개\\n∙ 정규분포 이론을 정립한 천재 수학자 가우스(Gauss)의 이름을 본뜬 삼성 가우스는 다양한 상황에\\n최적화된 크기의 모델 선택이 가능\\n∙ 삼성 가우스는 라이선스나 개인정보를 침해하지 않는 안전한 데이터를 통해 학습되었으며,\\n온디바이스에서 작동하도록 설계되어 외부로 사용자의 정보가 유출되지 않는 장점을 보유'),\n",
       "  Document(id='b9ed246b-2d76-4e6c-b1c4-df10d228f9df', metadata={'source': 'data/SPRI_AI_Brief_2023년12월호_F.pdf', 'file_path': 'data/SPRI_AI_Brief_2023년12월호_F.pdf', 'page': 12, 'total_pages': 23, 'Author': 'dj', 'Creator': 'Hwp 2018 10.0.0.13462', 'Producer': 'Hancom PDF 1.3.0.542', 'CreationDate': \"D:20231208132838+09'00'\", 'ModDate': \"D:20231208132838+09'00'\", 'PDFVersion': '1.4'}, page_content='어시스턴트를 적용한 구글 픽셀(Pixel)과 경쟁할 것으로 예상\\n☞ 출처 : 삼성전자, ‘삼성 AI 포럼’서 자체 개발 생성형 AI ‘삼성 가우스’ 공개, 2023.11.08.\\n삼성전자, ‘삼성 개발자 콘퍼런스 코리아 2023’ 개최, 2023.11.14.\\nTechRepublic, Samsung Gauss: Samsung Research Reveals Generative AI, 2023.11.08.\\n10'),\n",
       "  Document(id='d20c493a-1f0e-4ca5-8ff1-819dda28fd6f', metadata={'source': 'data/SPRI_AI_Brief_2023년12월호_F.pdf', 'file_path': 'data/SPRI_AI_Brief_2023년12월호_F.pdf', 'page': 12, 'total_pages': 23, 'Author': 'dj', 'Creator': 'Hwp 2018 10.0.0.13462', 'Producer': 'Hancom PDF 1.3.0.542', 'CreationDate': \"D:20231208132838+09'00'\", 'ModDate': \"D:20231208132838+09'00'\", 'PDFVersion': '1.4'}, page_content='처리를 지원\\n∙ 코드 모델 기반의 AI 코딩 어시스턴트 ‘코드아이(code.i)’는 대화형 인터페이스로 서비스를 제공하며\\n사내 소프트웨어 개발에 최적화\\n∙ 이미지 모델은 창의적인 이미지를 생성하고 기존 이미지를 원하는 대로 바꿀 수 있도록 지원하며\\n저해상도 이미지의 고해상도 전환도 지원\\nn IT 전문지 테크리퍼블릭(TechRepublic)은 온디바이스 AI가 주요 기술 트렌드로 부상했다며,\\n2024년부터 가우스를 탑재한 삼성 스마트폰이 메타의 라마(Llama)2를 탑재한 퀄컴 기기 및 구글'),\n",
       "  Document(id='4bbc56cd-5e33-4347-a585-891f00bce829', metadata={'source': 'data/SPRI_AI_Brief_2023년12월호_F.pdf', 'file_path': 'data/SPRI_AI_Brief_2023년12월호_F.pdf', 'page': 12, 'total_pages': 23, 'Author': 'dj', 'Creator': 'Hwp 2018 10.0.0.13462', 'Producer': 'Hancom PDF 1.3.0.542', 'CreationDate': \"D:20231208132838+09'00'\", 'ModDate': \"D:20231208132838+09'00'\", 'PDFVersion': '1.4'}, page_content='온디바이스에서 작동하도록 설계되어 외부로 사용자의 정보가 유출되지 않는 장점을 보유\\n∙ 삼성전자는 삼성 가우스를 활용한 온디바이스 AI 기술도 소개했으며, 생성 AI 모델을 다양한 제품에\\n단계적으로 탑재할 계획\\nn 삼성 가우스는 △텍스트를 생성하는 언어모델 △코드를 생성하는 코드 모델 △이미지를 생성하는\\n이미지 모델의 3개 모델로 구성\\n∙ 언어 모델은 클라우드와 온디바이스 대상 다양한 모델로 구성되며, 메일 작성, 문서 요약, 번역 업무의\\n처리를 지원')]}"
      ]
     },
     "execution_count": 50,
     "metadata": {},
     "output_type": "execute_result"
    }
   ],
   "source": [
    "state"
   ]
  },
  {
   "cell_type": "code",
   "execution_count": 51,
   "metadata": {},
   "outputs": [],
   "source": [
    "# 웹 검색 노드\n",
    "def web_search(state):\n",
    "    print('\\n==========================================================================================')\n",
    "    print('🔄 [Node] 웹 검색 노드 🔄')\n",
    "\n",
    "    # 사용자 질문\n",
    "    question = state['question']\n",
    "    \n",
    "    print('-------------------')\n",
    "    print(f\"question: \")\n",
    "    print(question)\n",
    "    print('-------------------')\n",
    "    print()\n",
    "\n",
    "    # 웹 검색 수행\n",
    "    web_results = web_search_tool.invoke({\"query\": question})\n",
    "\n",
    "    print('-------------------')\n",
    "    print('web_results: ')\n",
    "    print(web_results)\n",
    "    print('-------------------')\n",
    "    print()\n",
    "\n",
    "    web_results_docs = []\n",
    "    \n",
    "    for result in web_results:\n",
    "        doc = Document(\n",
    "            page_content=result[\"content\"],\n",
    "            metadata={\"source\": result[\"url\"]}\n",
    "        )\n",
    "        web_results_docs.append(doc)\n",
    "\n",
    "    print('-------------------')\n",
    "    print('web_results_docs: ')\n",
    "    print(web_results_docs)\n",
    "    print('-------------------')\n",
    "    print()\n",
    "    print('==========================================================================================\\n')\n",
    "\n",
    "    return {\"documents\": web_results_docs}"
   ]
  },
  {
   "cell_type": "code",
   "execution_count": 53,
   "metadata": {},
   "outputs": [
    {
     "name": "stdout",
     "output_type": "stream",
     "text": [
      "\n",
      "==========================================================================================\n",
      "🔄 [Node] 웹 검색 노드 🔄\n",
      "-------------------\n",
      "question: \n",
      "삼성전자가 개발한 생성형 인공지능의 이름은 무엇인가요?\n",
      "-------------------\n",
      "\n",
      "-------------------\n",
      "web_results: \n",
      "[{'title': \"삼성전자 생성형 Ai 이름은 '삼성 가우스' '가이스' - 파이낸셜뉴스\", 'url': 'https://www.fnnews.com/news/202309031940191378', 'content': '삼성전자 생성형 AI 이름은 \\'삼성 가우스\\' \\'가이스\\' - 파이낸셜뉴스 삼성전자 생성형 AI 이름은 \\'삼성 가우스\\' \\'가이스\\' 삼성전자가 자체 생성형 인공지능(AI) 서비스 상표권을 출원하며 연내 상용화를 위해 속도를 내고 있다. 전경훈 삼성전자 DX부문 최고기술책임자(CTO) 겸 삼성리서치장(사장)은 최근 사내 타운홀 미팅에서 자체 생성형 AI 개발 방향성을 코딩 지원, 문서 요약, 이메일 전송 등 사내 생산성 향상과 삼성 디바이스 탑재 등 두 가지로 설명한 바 있다. 가출 후 2주 만에 실종된 남편, 숨진 채 발견 [속보]김현태 707단장 \"곽종근 자수서에 \\'국회의원\\' \\'끌어내라\\' 단어 없다\" [속보]김현태 707단장 \"尹지시가 단전 배경이란 건 내용 안 맞아\" 현대차 크레타 EV, 인도서 돌풍…2주 만에 1700대 판매 가출 후 2주 만에 실종된 남편, 숨진 채 발견 \"청소 아줌마, 당 떨어진다며 3만원 양갱 몰래 먹어…따지니 \\'엄마뻘한테?\\'\" [어떻게 생각하세요] \"9개월 만에 20kg 감량\" 20대 여성이 밝힌 놀라운 비법은', 'score': 0.918663, 'raw_content': 'Published Time: 2023-09-03T19:40:15 +0900\\n삼성전자 생성형 AI 이름은 \\'삼성 가우스\\' \\'가이스\\' - 파이낸셜뉴스\\n파이낸셜뉴스>\\n전체메뉴 검색\\n\\n구독신청\\nFamily Site\\n\\n금융·증권\\n\\n금융\\n증권\\n\\n부동산\\n\\n정책\\n건설\\n철도·항공 ·선박\\n부동산 일반\\n\\n산업·IT\\n\\n산업\\n통신·방송\\n게임\\n인터넷\\n블록체인\\n의학·과학\\n\\n경제\\n\\n경제 일반\\n생활 경제\\n\\n정치\\n\\n대통령실\\n국회·정당\\n북한\\n외교·국방\\n\\n사회\\n\\n사건·사고\\n검찰·법원\\n행정·지자체\\n교육\\n전국\\n\\n국제\\n\\n국제 경제\\n국제 정치\\n국제 사회\\n\\n라이프\\n\\n연예\\n패션/뷰티\\n스포츠\\n푸드·리빙\\n레저·문화\\n\\n오피니언\\n\\n사설/칼럼\\n사외 칼럼\\n\\n기획·연재\\n\\nfn파인더\\nfn시리즈\\n핫이슈+\\n\\nfnEdition\\n\\n포토\\n뉴스레터\\n기자ON\\nfntv\\n신문보기\\nfnSurvey\\n\\n닫기\\n\\n회사소개\\n광고문의\\n제휴문의\\n개인정보취급방침\\n저작권규약\\n이메일주소무단수집거부\\n구독신청\\n고충처리\\n\\n검색\\n닫기\\n공유하기 공유\\n\\n카카오톡\\n페이스북\\n트위터\\n네이버블로그\\n주소복사\\n\\n산업 산업일반\\n삼성전자 생성형 AI 이름은 \\'삼성 가우스\\' \\'가이스\\'\\n파이낸셜뉴스\\n입력 2023.09.03 19:40\\n수정 2023.09.03 20:00\\n\\n확대\\n축소\\n출력\\n\\n관련종목▶\\n\\n삼성전자(005930),\\n삼성전자우(005935)\\n\\n상표권 출원…연내 사내용 상용화\\n\\n삼성전자가 자체 생성형 인공지능(AI) 서비스 상표권을 출원하며 연내 상용화를 위해 속도를 내고 있다. 삼성전자 반도체(DS)부문은 연내 GPT 3.5 수준 이상의 자체 거대언어모델(LLM) 도입을 추진 중이다.  \\n3일 특허정보서비스 키프러스와 업계에 따르면 삼성전자는 \\'삼성 가우스(Samsung Gauus)\\'와 \\'가이스(Gais)\\' 두 개의 AI 관련 상표를 출원했다. 삼성전자는 두 상표 모두 △기계학습 기반 언어 및 음성 처리용 컴퓨터 소프트웨어 △자연어 처리·생성·이해·분석용 컴퓨터 소프트웨어 △AI 소프트웨어라고 설명했다. 특허업계 관계자는 \"생성형 AI와 관련된 상표일 것으로 추정된다\"면서 \"통상 신제품의 경우 복수의 상표권을 출원하는 경우가 흔하다\"고 전했다.\\n삼성전자가 상표를 출원한 생성형 AI는 사내업무용으로 파악됐다. 다만 향후 사업화 등 외부까지 확대 가능성을 염두에 둔 것으로 전해졌다.  \\n앞서 삼성전자는 회사의 민감한 정보가 유출될 가능성을 우려해 사내에서 \\'챗GPT\\'를 비롯한 외부 생성형 AI 사용에 제동을 걸었다.\\n그 대신 삼성전자는 업무에 활용할 수 있는 자체 생성형 AI 서비스 개발 돌입을 선언했다. 전경훈 삼성전자 DX부문 최고기술책임자(CTO) 겸 삼성리서치장(사장)은 최근 사내 타운홀 미팅에서 자체 생성형 AI 개발 방향성을 코딩 지원, 문서 요약, 이메일 전송 등 사내 생산성 향상과 삼성 디바이스 탑재 등 두 가지로 설명한 바 있다.\\n삼성전자 측은 이번 상표권 출원과 관련, \"구체적인 확인이 어렵다\"고 밝혔다.  \\nrejune1112@fnnews.com 김준석 구자윤 기자\\n※ 저작권자 ⓒ 파이낸셜뉴스, 무단전재-재배포 금지\\n실시간_핫클릭 이슈_\\n\\n중고차 안 보고 사버리는 사람들이 믿는 구석은...\\n\"달걀 한 판에 1만 8000원\" 암탉 키우는 게 더 쌀까?\\n은퇴설 배용준 근황, 30억원 통큰 기부\\n기아 첫 전기 세단 EV4는 이런 모습…외관 디자인 공개\\n[단독] 흑자전환에 기본급 1000% 성과급 쏜 회사\\n\\n뉴스스탠드\\n집단으로 女봉사원들과 목욕탕서... 性접대에 북한이 \\'발칵\\'\\n\\n쿨 김성수 전처 사망 사건 때 채리나 남편도 간을..\\n\\'1회 충전 473㎞\\' 한국엔 없는 현대차 \\'대박\\' 조짐\\n“늙기 싫고 다시 젊어지고 싶다”, 이지혜가 극찬한 ‘이것’은?\\n\"아들아, 아파트 이름이 뭐라고?\" 라틴어까지 등장\\n\\n김대호 MBC 퇴사 직전 방송서 수상한 멘트 \"직장인들은..\"  \\n양갱 몰래 먹은 청소 아줌마 \"그깟 거 가지고...\"  \\n캐나다서 \\'당근\\' 깔아봤더니... 반전  \\n대장암 3기 유상무, 완치 후 재검했는데...  \\n[속보]헌재, 尹 기일변경 신청 불허…20일 10차 변론 진행\\n\\n나경원, \\'헌재·선관위 등 공무원 국적 검증 강화법\\' 발의\\n이게 짜장면 가격 맞나? 요즘 \\'면플레이션\\' 수준\\n손님이 10잔 시켰는데 불만인 카페 사장\\n목수된 女 前국회의원 \"사장님이...\"\\n\\n많이 본 뉴스\\n종합 정치 경제 사회\\n\\n김새론, 김수현 생일에 사망…열애설 재조명\\n부천 노래방서 여성 살해 시신 유기한 30대 구속…\"도주 우려\"(종합)\\n서정희 母 \"딸, 전남편 서세원에 갇혀 살아…지독하게 당했다\" [RE:TV]\\n女봉사원들 목욕탕 性접대 \\'특대형 범죄 사건\\'…김정은 분노\\n가출 후 2주 만에 실종된 남편, 숨진 채 발견\\n[단독]현대제철 자회사 희망퇴직 받는다...\\'삼중고\\' 철강업계 인력감축 현실화\\n이재성 \"지상파 아나운서 최초 베드신…아나운서실 발칵\"\\n논란된 \\'조태용-김 여사\\' 문자… 알고보니 윤 대통령 측에서 제출\\n707단장 ‘野 곽종근 회유’ 정황 증언..“지켜주겠다고 했다”\\n\\n\"참다 참다 글 올린다\" 권민아, 故김새론 사생활 폭로 유튜버 저격\\n\\n\\n女봉사원들 목욕탕 性접대 \\'특대형 범죄 사건\\'…김정은 분노\\n\\n707단장 ‘野 곽종근 회유’ 정황 증언..“지켜주겠다고 했다”\\n\\'목수\\'된 류호정 \"선입견 깨고 싶었다…현재로선 정치 생각 없어\"\\n[속보]김현태 707단장 \"곽종근 자수서에 \\'국회의원\\' \\'끌어내라\\' 단어 없다\"\\n[속보]김현태 707단장 \"尹지시가 단전 배경이란 건 내용 안 맞아\"\\n707단장 \"민주당 의원, 곽종근에 \\'당에서 믿는 변호사\\' 붙여주겠다 해\"\\n\\'82세\\' 박지원 \"이재명 혹시 안되면 나도 출마할 것\"\\n\"조국 수사한 검사 국회의원 되게 도와달라\"..김건희 여사 통화 복기록 공개한 명태균\\n나경원 \"이재명 민주당이 온갖 악담…국정 마비, 민생 외면\"\\n\\n권영세, 尹 조기하야설 부정..\"비상계엄은 잘못\"\\n\\n\\n[단독]현대제철 자회사 희망퇴직 받는다...\\'삼중고\\' 철강업계 인력감축 현실화\\n\\n[단독] 3년 만에 \\'흑자전환\\' 넷마블도 통 큰 성과급 쐈다\\n현대차 크레타 EV, 인도서 돌풍…2주 만에 1700대 판매\\n\"술·담배 세금 높여라\" 세수펑크때마다 증세 카드로 \\'만지작\\'… 기재부는 신중\\n“답답해도 참으세요” 면봉으로 귀 파면 안 되는 이유 [헬스톡]\\n월소득 810만원 맞벌이 신혼 \"이 돈으로 내집마련 될까요?\" [MZ부동산]\\n\"그건 어제 가격이고...\" 고삐 풀린 강남, 이제 아무도 못말린다\\n\"이자 부담 해소\"...주담대 변동금리 또 내린다\\n3.3㎡ 당 2억시대 주도… 강남불패 이어받은 \\'한강불패\\'\\n\\n반포 아파트 1채면 지방 국평 200채 사…상급지 갈아타기가 집값 양극화 키웠다\\n\\n\\n부천 노래방서 여성 살해 시신 유기한 30대 구속…\"도주 우려\"(종합)\\n\\n가출 후 2주 만에 실종된 남편, 숨진 채 발견\\n논란된 \\'조태용-김 여사\\' 문자… 알고보니 윤 대통령 측에서 제출\\n\"참다 참다 글 올린다\" 권민아, 故김새론 사생활 폭로 유튜버 저격\\n\"아저씨의 마지막 인사\"..원빈, 활동 공백 속 김새론 빈소 찾았다\\n\"청소 아줌마, 당 떨어진다며 3만원 양갱 몰래 먹어…따지니 \\'엄마뻘한테?\\'\" [어떻게 생각하세요]\\n부산 길거리서 친아들 흉기로 살해한 60대 男 긴급체포\\n초등생 자녀 2명과 극단선택 시도한 엄마...20억 빚 있었다\\n\\'男 1억벌고, 女는 무조건 어리고 예뻐야\\'..결정사 \\'최소 가입조건\\' [어떻게 생각하세요]\\n母앞 전 여친 55번 찔러 살해…서동하, 무기징역에 항소\\n\\n한 컷 뉴스\\n\\n심으뜸, 비현실적인 몸매\\n소유, 풍만한 몸매 드러낸 드레스 자태\\n김세정, 홀터넥 원피스로 뽐낸 청순 글래머\\n2NE1 씨엘, 레전드 미모 경신…화사한 미소\\n\\nfnSurvey\\n반도체 산업, 주52근무제 예외되나?반도체 산업의 경쟁력을 키우기 위한 \\'반도체특별법\\'에는 반도체 업종에 한해 주 52시간 근무제를 예외로 하자는 내용이 포함되어 있습니다. 이제 집단마다 의견이 갈려 아직까지 반도체특별법이 국회를 통과하지 못하고 있는데요. 경영계에서는 근무 시간 규제를 없애야 한다고 주장하지만 노동계에서는 이를 반대하는 입장입니다. 그렇다면 여러분은 주 52시간 근무제에서 반도체 산업을 예외로 규정하는 것에 대해 어떻게 생각하시나요?\\n투표기간 : 2025-02-11 ~ 2025-02-25 투표하러 가기\\n헉스\\n\\n\\'금메달\\' 린샤오쥔, 놀라운 고백 \"나는 중국인이기 때문에...\"\\n\"아들 걸고 가져간 11억 돌려줘\"... 모친 사기사건 휘말린 男아이돌\\n사진 한 번 찍으려다... 상어에 공격 당한 관광객 \\'대참사\\'\\n日 카페 사장, 한국인 관광객 행동에 감동 받은 사연 눈길\\n\"9개월 만에 20kg 감량\" 20대 여성이 밝힌 놀라운 비법은\\n\\nTop \\n금융·증권\\n\\n금융\\n증권\\n\\n부동산\\n\\n정책\\n건설\\n철도·항공 ·선박\\n부동산 일반\\n\\n산업·IT\\n\\n산업\\n통신·방송\\n게임\\n인터넷\\n블록체인\\n의학·과학\\n\\n경제\\n\\n경제 일반\\n생활 경제\\n\\n정치\\n\\n대통령실\\n국회·정당\\n북한\\n외교·국방\\n\\n사회\\n\\n사건·사고\\n검찰·법원\\n행정·지자체\\n교육\\n전국\\n\\n국제\\n\\n국제 경제\\n국제 정치\\n국제 사회\\n\\n라이프\\n\\n연예\\n패션/뷰티\\n스포츠\\n푸드·리빙\\n레저·문화\\n\\n오피니언\\n\\n사설/칼럼\\n사외 칼럼\\n\\n기획·연재\\n\\nfn파인더\\nfn시리즈\\n핫이슈+\\n\\nfnEdition\\n\\n포토\\n뉴스레터\\n기자ON\\nfntv\\n신문보기\\n\\nfnSurvey\\n\\n\\n회사소개\\n\\n광고문의\\n제휴문의\\n개인정보취급방침\\n저작권규약\\n이메일주소무단수집거부\\n구독신청\\n고충처리\\n사이트맵\\n\\nfn family\\n\\n부산파이낸셜뉴스\\n팩트블록\\n파이낸셜뉴스재팬\\nfn이벤트\\n\\nFinancial News\\n\\n\\n주소 : 서울 서초구 강남대로 315\\n\\n\\n전화 : 02-2003-7114\\n\\n\\n인터넷신문 등록번호 : 서울 아04510\\n\\n\\n등록일자 : 2017.05.08\\n\\n\\nCopyright ⓒ파이낸셜뉴스. All rights reserved.\\n\\n\\n회장 : 전재호\\n\\n\\n부회장·발행인 : 전선익\\n\\n\\n사장·인쇄인·편집인 : 변동식\\n\\n\\n편집국장 : 김홍재\\n\\n\\n청소년보호정책 (책임자 : 이대율)\\n\\n'}, {'title': \"삼성전자 생성형 Ai 이름은 '삼성 가우스' '가이스' - 파이낸셜뉴스\", 'url': 'https://www.fnnews.com/news/202309031940191378', 'content': '삼성전자 생성형 AI 이름은 \\'삼성 가우스\\' \\'가이스\\' - 파이낸셜뉴스 삼성전자 생성형 AI 이름은 \\'삼성 가우스\\' \\'가이스\\' 삼성전자가 자체 생성형 인공지능(AI) 서비스 상표권을 출원하며 연내 상용화를 위해 속도를 내고 있다. 전경훈 삼성전자 DX부문 최고기술책임자(CTO) 겸 삼성리서치장(사장)은 최근 사내 타운홀 미팅에서 자체 생성형 AI 개발 방향성을 코딩 지원, 문서 요약, 이메일 전송 등 사내 생산성 향상과 삼성 디바이스 탑재 등 두 가지로 설명한 바 있다. 가출 후 2주 만에 실종된 남편, 숨진 채 발견 [속보]김현태 707단장 \"곽종근 자수서에 \\'국회의원\\' \\'끌어내라\\' 단어 없다\" [속보]김현태 707단장 \"尹지시가 단전 배경이란 건 내용 안 맞아\" 현대차 크레타 EV, 인도서 돌풍…2주 만에 1700대 판매 가출 후 2주 만에 실종된 남편, 숨진 채 발견 \"청소 아줌마, 당 떨어진다며 3만원 양갱 몰래 먹어…따지니 \\'엄마뻘한테?\\'\" [어떻게 생각하세요] \"9개월 만에 20kg 감량\" 20대 여성이 밝힌 놀라운 비법은', 'score': 0.918663, 'raw_content': 'Published Time: 2023-09-03T19:40:15 +0900\\n삼성전자 생성형 AI 이름은 \\'삼성 가우스\\' \\'가이스\\' - 파이낸셜뉴스\\n파이낸셜뉴스>\\n전체메뉴 검색\\n\\n구독신청\\nFamily Site\\n\\n금융·증권\\n\\n금융\\n증권\\n\\n부동산\\n\\n정책\\n건설\\n철도·항공 ·선박\\n부동산 일반\\n\\n산업·IT\\n\\n산업\\n통신·방송\\n게임\\n인터넷\\n블록체인\\n의학·과학\\n\\n경제\\n\\n경제 일반\\n생활 경제\\n\\n정치\\n\\n대통령실\\n국회·정당\\n북한\\n외교·국방\\n\\n사회\\n\\n사건·사고\\n검찰·법원\\n행정·지자체\\n교육\\n전국\\n\\n국제\\n\\n국제 경제\\n국제 정치\\n국제 사회\\n\\n라이프\\n\\n연예\\n패션/뷰티\\n스포츠\\n푸드·리빙\\n레저·문화\\n\\n오피니언\\n\\n사설/칼럼\\n사외 칼럼\\n\\n기획·연재\\n\\nfn파인더\\nfn시리즈\\n핫이슈+\\n\\nfnEdition\\n\\n포토\\n뉴스레터\\n기자ON\\nfntv\\n신문보기\\nfnSurvey\\n\\n닫기\\n\\n회사소개\\n광고문의\\n제휴문의\\n개인정보취급방침\\n저작권규약\\n이메일주소무단수집거부\\n구독신청\\n고충처리\\n\\n검색\\n닫기\\n공유하기 공유\\n\\n카카오톡\\n페이스북\\n트위터\\n네이버블로그\\n주소복사\\n\\n산업 산업일반\\n삼성전자 생성형 AI 이름은 \\'삼성 가우스\\' \\'가이스\\'\\n파이낸셜뉴스\\n입력 2023.09.03 19:40\\n수정 2023.09.03 20:00\\n\\n확대\\n축소\\n출력\\n\\n관련종목▶\\n\\n삼성전자(005930),\\n삼성전자우(005935)\\n\\n상표권 출원…연내 사내용 상용화\\n\\n삼성전자가 자체 생성형 인공지능(AI) 서비스 상표권을 출원하며 연내 상용화를 위해 속도를 내고 있다. 삼성전자 반도체(DS)부문은 연내 GPT 3.5 수준 이상의 자체 거대언어모델(LLM) 도입을 추진 중이다.  \\n3일 특허정보서비스 키프러스와 업계에 따르면 삼성전자는 \\'삼성 가우스(Samsung Gauus)\\'와 \\'가이스(Gais)\\' 두 개의 AI 관련 상표를 출원했다. 삼성전자는 두 상표 모두 △기계학습 기반 언어 및 음성 처리용 컴퓨터 소프트웨어 △자연어 처리·생성·이해·분석용 컴퓨터 소프트웨어 △AI 소프트웨어라고 설명했다. 특허업계 관계자는 \"생성형 AI와 관련된 상표일 것으로 추정된다\"면서 \"통상 신제품의 경우 복수의 상표권을 출원하는 경우가 흔하다\"고 전했다.\\n삼성전자가 상표를 출원한 생성형 AI는 사내업무용으로 파악됐다. 다만 향후 사업화 등 외부까지 확대 가능성을 염두에 둔 것으로 전해졌다.  \\n앞서 삼성전자는 회사의 민감한 정보가 유출될 가능성을 우려해 사내에서 \\'챗GPT\\'를 비롯한 외부 생성형 AI 사용에 제동을 걸었다.\\n그 대신 삼성전자는 업무에 활용할 수 있는 자체 생성형 AI 서비스 개발 돌입을 선언했다. 전경훈 삼성전자 DX부문 최고기술책임자(CTO) 겸 삼성리서치장(사장)은 최근 사내 타운홀 미팅에서 자체 생성형 AI 개발 방향성을 코딩 지원, 문서 요약, 이메일 전송 등 사내 생산성 향상과 삼성 디바이스 탑재 등 두 가지로 설명한 바 있다.\\n삼성전자 측은 이번 상표권 출원과 관련, \"구체적인 확인이 어렵다\"고 밝혔다.  \\nrejune1112@fnnews.com 김준석 구자윤 기자\\n※ 저작권자 ⓒ 파이낸셜뉴스, 무단전재-재배포 금지\\n실시간_핫클릭 이슈_\\n\\n중고차 안 보고 사버리는 사람들이 믿는 구석은...\\n\"달걀 한 판에 1만 8000원\" 암탉 키우는 게 더 쌀까?\\n은퇴설 배용준 근황, 30억원 통큰 기부\\n기아 첫 전기 세단 EV4는 이런 모습…외관 디자인 공개\\n[단독] 흑자전환에 기본급 1000% 성과급 쏜 회사\\n\\n뉴스스탠드\\n집단으로 女봉사원들과 목욕탕서... 性접대에 북한이 \\'발칵\\'\\n\\n쿨 김성수 전처 사망 사건 때 채리나 남편도 간을..\\n\\'1회 충전 473㎞\\' 한국엔 없는 현대차 \\'대박\\' 조짐\\n“늙기 싫고 다시 젊어지고 싶다”, 이지혜가 극찬한 ‘이것’은?\\n\"아들아, 아파트 이름이 뭐라고?\" 라틴어까지 등장\\n\\n김대호 MBC 퇴사 직전 방송서 수상한 멘트 \"직장인들은..\"  \\n양갱 몰래 먹은 청소 아줌마 \"그깟 거 가지고...\"  \\n캐나다서 \\'당근\\' 깔아봤더니... 반전  \\n대장암 3기 유상무, 완치 후 재검했는데...  \\n[속보]헌재, 尹 기일변경 신청 불허…20일 10차 변론 진행\\n\\n나경원, \\'헌재·선관위 등 공무원 국적 검증 강화법\\' 발의\\n이게 짜장면 가격 맞나? 요즘 \\'면플레이션\\' 수준\\n손님이 10잔 시켰는데 불만인 카페 사장\\n목수된 女 前국회의원 \"사장님이...\"\\n\\n많이 본 뉴스\\n종합 정치 경제 사회\\n\\n김새론, 김수현 생일에 사망…열애설 재조명\\n부천 노래방서 여성 살해 시신 유기한 30대 구속…\"도주 우려\"(종합)\\n서정희 母 \"딸, 전남편 서세원에 갇혀 살아…지독하게 당했다\" [RE:TV]\\n女봉사원들 목욕탕 性접대 \\'특대형 범죄 사건\\'…김정은 분노\\n가출 후 2주 만에 실종된 남편, 숨진 채 발견\\n[단독]현대제철 자회사 희망퇴직 받는다...\\'삼중고\\' 철강업계 인력감축 현실화\\n이재성 \"지상파 아나운서 최초 베드신…아나운서실 발칵\"\\n논란된 \\'조태용-김 여사\\' 문자… 알고보니 윤 대통령 측에서 제출\\n707단장 ‘野 곽종근 회유’ 정황 증언..“지켜주겠다고 했다”\\n\\n\"참다 참다 글 올린다\" 권민아, 故김새론 사생활 폭로 유튜버 저격\\n\\n\\n女봉사원들 목욕탕 性접대 \\'특대형 범죄 사건\\'…김정은 분노\\n\\n707단장 ‘野 곽종근 회유’ 정황 증언..“지켜주겠다고 했다”\\n\\'목수\\'된 류호정 \"선입견 깨고 싶었다…현재로선 정치 생각 없어\"\\n[속보]김현태 707단장 \"곽종근 자수서에 \\'국회의원\\' \\'끌어내라\\' 단어 없다\"\\n[속보]김현태 707단장 \"尹지시가 단전 배경이란 건 내용 안 맞아\"\\n707단장 \"민주당 의원, 곽종근에 \\'당에서 믿는 변호사\\' 붙여주겠다 해\"\\n\\'82세\\' 박지원 \"이재명 혹시 안되면 나도 출마할 것\"\\n\"조국 수사한 검사 국회의원 되게 도와달라\"..김건희 여사 통화 복기록 공개한 명태균\\n나경원 \"이재명 민주당이 온갖 악담…국정 마비, 민생 외면\"\\n\\n권영세, 尹 조기하야설 부정..\"비상계엄은 잘못\"\\n\\n\\n[단독]현대제철 자회사 희망퇴직 받는다...\\'삼중고\\' 철강업계 인력감축 현실화\\n\\n[단독] 3년 만에 \\'흑자전환\\' 넷마블도 통 큰 성과급 쐈다\\n현대차 크레타 EV, 인도서 돌풍…2주 만에 1700대 판매\\n\"술·담배 세금 높여라\" 세수펑크때마다 증세 카드로 \\'만지작\\'… 기재부는 신중\\n“답답해도 참으세요” 면봉으로 귀 파면 안 되는 이유 [헬스톡]\\n월소득 810만원 맞벌이 신혼 \"이 돈으로 내집마련 될까요?\" [MZ부동산]\\n\"그건 어제 가격이고...\" 고삐 풀린 강남, 이제 아무도 못말린다\\n\"이자 부담 해소\"...주담대 변동금리 또 내린다\\n3.3㎡ 당 2억시대 주도… 강남불패 이어받은 \\'한강불패\\'\\n\\n반포 아파트 1채면 지방 국평 200채 사…상급지 갈아타기가 집값 양극화 키웠다\\n\\n\\n부천 노래방서 여성 살해 시신 유기한 30대 구속…\"도주 우려\"(종합)\\n\\n가출 후 2주 만에 실종된 남편, 숨진 채 발견\\n논란된 \\'조태용-김 여사\\' 문자… 알고보니 윤 대통령 측에서 제출\\n\"참다 참다 글 올린다\" 권민아, 故김새론 사생활 폭로 유튜버 저격\\n\"아저씨의 마지막 인사\"..원빈, 활동 공백 속 김새론 빈소 찾았다\\n\"청소 아줌마, 당 떨어진다며 3만원 양갱 몰래 먹어…따지니 \\'엄마뻘한테?\\'\" [어떻게 생각하세요]\\n부산 길거리서 친아들 흉기로 살해한 60대 男 긴급체포\\n초등생 자녀 2명과 극단선택 시도한 엄마...20억 빚 있었다\\n\\'男 1억벌고, 女는 무조건 어리고 예뻐야\\'..결정사 \\'최소 가입조건\\' [어떻게 생각하세요]\\n母앞 전 여친 55번 찔러 살해…서동하, 무기징역에 항소\\n\\n한 컷 뉴스\\n\\n심으뜸, 비현실적인 몸매\\n소유, 풍만한 몸매 드러낸 드레스 자태\\n김세정, 홀터넥 원피스로 뽐낸 청순 글래머\\n2NE1 씨엘, 레전드 미모 경신…화사한 미소\\n\\nfnSurvey\\n반도체 산업, 주52근무제 예외되나?반도체 산업의 경쟁력을 키우기 위한 \\'반도체특별법\\'에는 반도체 업종에 한해 주 52시간 근무제를 예외로 하자는 내용이 포함되어 있습니다. 이제 집단마다 의견이 갈려 아직까지 반도체특별법이 국회를 통과하지 못하고 있는데요. 경영계에서는 근무 시간 규제를 없애야 한다고 주장하지만 노동계에서는 이를 반대하는 입장입니다. 그렇다면 여러분은 주 52시간 근무제에서 반도체 산업을 예외로 규정하는 것에 대해 어떻게 생각하시나요?\\n투표기간 : 2025-02-11 ~ 2025-02-25 투표하러 가기\\n헉스\\n\\n\\'금메달\\' 린샤오쥔, 놀라운 고백 \"나는 중국인이기 때문에...\"\\n\"아들 걸고 가져간 11억 돌려줘\"... 모친 사기사건 휘말린 男아이돌\\n사진 한 번 찍으려다... 상어에 공격 당한 관광객 \\'대참사\\'\\n日 카페 사장, 한국인 관광객 행동에 감동 받은 사연 눈길\\n\"9개월 만에 20kg 감량\" 20대 여성이 밝힌 놀라운 비법은\\n\\nTop \\n금융·증권\\n\\n금융\\n증권\\n\\n부동산\\n\\n정책\\n건설\\n철도·항공 ·선박\\n부동산 일반\\n\\n산업·IT\\n\\n산업\\n통신·방송\\n게임\\n인터넷\\n블록체인\\n의학·과학\\n\\n경제\\n\\n경제 일반\\n생활 경제\\n\\n정치\\n\\n대통령실\\n국회·정당\\n북한\\n외교·국방\\n\\n사회\\n\\n사건·사고\\n검찰·법원\\n행정·지자체\\n교육\\n전국\\n\\n국제\\n\\n국제 경제\\n국제 정치\\n국제 사회\\n\\n라이프\\n\\n연예\\n패션/뷰티\\n스포츠\\n푸드·리빙\\n레저·문화\\n\\n오피니언\\n\\n사설/칼럼\\n사외 칼럼\\n\\n기획·연재\\n\\nfn파인더\\nfn시리즈\\n핫이슈+\\n\\nfnEdition\\n\\n포토\\n뉴스레터\\n기자ON\\nfntv\\n신문보기\\n\\nfnSurvey\\n\\n\\n회사소개\\n\\n광고문의\\n제휴문의\\n개인정보취급방침\\n저작권규약\\n이메일주소무단수집거부\\n구독신청\\n고충처리\\n사이트맵\\n\\nfn family\\n\\n부산파이낸셜뉴스\\n팩트블록\\n파이낸셜뉴스재팬\\nfn이벤트\\n\\nFinancial News\\n\\n\\n주소 : 서울 서초구 강남대로 315\\n\\n\\n전화 : 02-2003-7114\\n\\n\\n인터넷신문 등록번호 : 서울 아04510\\n\\n\\n등록일자 : 2017.05.08\\n\\n\\nCopyright ⓒ파이낸셜뉴스. All rights reserved.\\n\\n\\n회장 : 전재호\\n\\n\\n부회장·발행인 : 전선익\\n\\n\\n사장·인쇄인·편집인 : 변동식\\n\\n\\n편집국장 : 김홍재\\n\\n\\n청소년보호정책 (책임자 : 이대율)\\n\\n'}, {'title': \"삼성전자, 자체 개발한 생성형 Ai '삼성 가우스' 첫 공개 | 연합뉴스\", 'url': 'https://www.yna.co.kr/view/AKR20231108041400003', 'content': \"삼성전자, 자체 개발한 생성형 AI '삼성 가우스' 첫 공개 | 연합뉴스 삼성전자, 자체 개발한 생성형 AI '삼성 가우스' 첫 공개 삼성전자, 자체 개발한 생성형 AI '삼성 가우스' 첫 공개 삼성전자[005930]가 자체 개발한 생성형 인공지능(AI) 모델 '삼성 가우스'(Samsung Gauss)가 처음 공개됐다. (서울=연합뉴스) 장하나 기자 = 삼성전자[005930]가 자체 개발한 생성형 인공지능(AI) 모델 '삼성 가우스'(Samsung Gauss)가 처음 공개됐다. 환영사 하는 김대현 부사장(서울=연합뉴스) 김대현 삼성전자 부사장이 8일 서울 서초구 삼성전자 서울R&D캠퍼스에서 열린 '삼성 AI 포럼 2023'에서 환영사를 하고 있다. 삼성전자가 자체 개발한 생성형 AI '삼성 가우스'[삼성전자 제공. 강연하는 제이슨 웨이 오픈AI 연구원(서울=연합뉴스) 제이슨 웨이 삼성 오픈AI 연구원이 8일 서울 서초구 삼성전자 서울R&D캠퍼스에서 열린 '삼성 AI 포럼 2023'에서 '대규모 언어 모델 르네상스의 새로운 패러다임'을 주제로 강연하고 있다.\", 'score': 0.9092728, 'raw_content': '삼성전자, 자체 개발한 생성형 AI \\'삼성 가우스\\' 첫 공개 | 연합뉴스\\n연합뉴스 본문 바로가기 메뉴 바로가기\\n\\n국가기간뉴스 통신사 연합뉴스\\n\\n\\n최신기사\\n\\n\\n정치\\n정치\\n전체기사\\n대통령실/총리실\\n국회/정당\\n외교\\n국방\\n\\n\\n북한\\n\\n\\n경제\\n경제\\n전체기사\\n경제/정책\\n금융\\n부동산\\n취업/창업\\n소비자\\n\\n\\n마켓 +\\n마켓 +\\n전체기사\\n국내주식\\n해외주식\\n채권\\n펀드/ETF\\n글로벌시장\\n증권/운용사\\n리포트\\n공시\\n\\n\\n산업\\n산업\\n전체기사\\n산업/기업\\n전기전자\\n중화학\\n자동차\\n건설\\n에너지/자원\\nIT/과학\\n게임\\n유통/서비스\\n중기/벤처\\n바이오/헬스\\n농림축산\\n해양수산\\n\\n\\n사회\\n사회\\n전체기사\\n사건/사고\\n법원/검찰\\n교육\\n복지/노동\\n환경/기후변화\\n여성/아동\\n재외동포\\n다문화\\n\\n\\n전국\\n전국\\n전체기사\\n경기\\n인천\\n부산\\n울산\\n경남\\n대구/경북\\n광주/전남\\n전북\\n대전/충남/세종\\n충북\\n강원\\n제주\\n\\n\\n세계\\n세계\\n전체기사\\n특파원\\n미국/북미\\n중국\\n일본\\n아시아/호주\\n유럽\\n중남미\\n중동/아프리카\\n국제기구\\nPRNewswire/AsiaNet\\n\\n\\n문화\\n문화\\n전체기사\\n책/문학\\n만화/웹툰\\n종교\\n공연/전시\\n학술/문화재\\n미디어\\n여행/레저\\n생활\\n\\n\\n건강\\n건강\\n전체기사\\n김길원의 헬스노트\\n위클리 건강\\n더건강 영상\\n\\n\\n연예\\n연예\\n전체기사\\n방송\\n영화\\n가요\\n해외연예\\n\\n\\n스포츠\\n스포츠\\n전체기사\\n야구\\n축구\\n농구/배구\\n골프\\n\\n\\n오피니언\\n\\n\\n사람들\\n사람들\\n전체기사\\n인사\\n부고\\n동정/게시판\\nCEO\\n인터뷰\\n\\n\\n비주얼뉴스\\n비주얼뉴스\\n영상\\n포토\\n화보\\nD스토리\\n그래픽\\n\\n\\n제보\\n\\n\\n뉴스 검색어 입력 양식\\n검색어  검색어 자동 완성 목록 접기 검색 결과 보기\\n자동완성 기능이 켜져 있습니다.\\n자동완성기능 켜기\\n연합뉴스 TV Live 방송 검색창 열기 로그인 로그아웃 안내 로그아웃 정보수정\\n국가기간뉴스 통신사 연합뉴스\\n삼성전자, 자체 개발한 생성형 AI \\'삼성 가우스\\' 첫 공개\\n공유\\n이 뉴스 공유하기 닫기 카카오톡 페이스북 X 카카오\\n스토리 페이스북\\n메신저 네이버\\n밴드 네이버\\n블로그 URL\\n복사\\nURL이 복사되었습니다.\\n댓글\\n\\n\\n뉴스홈\\n최신기사\\n\\n삼성전자, 자체 개발한 생성형 AI \\'삼성 가우스\\' 첫 공개\\n송고시간2023-11-08 10:00\\n요약\\n세 줄 요약 닫기\\n삼성전자[005930]가 자체 개발한 생성형 인공지능(AI) 모델 \\'삼성 가우스\\'(Samsung Gauss)가 처음 공개됐다.\\n삼성전자는 삼성 가우스를 활용해 임직원의 업무 생산성을 높이는 한편, 생성형 AI 모델을 단계적으로 제품에 탑재해 새로운 사용자 경험을 제공한다는 계획이다.\\n삼성전자는 8일 삼성전자 서울R&D캠퍼스에서 \\'삼성 AI 포럼 2023\\' 2일차 행사를 열고 삼성리서치에서 개발한 삼성 가우스를 처음으로 공개했다고 밝혔다.\\n요약 정보 인공지능이 자동으로 줄인 \\'세 줄 요약\\' 기술을 사용합니다. 전체 내용을 이해하기 위해서는 기사 본문과 함께 읽어야 합니다.\\n공유\\n이 뉴스 공유하기 닫기 카카오톡 페이스북 X 카카오\\n스토리 페이스북\\n메신저 네이버\\n밴드 네이버\\n블로그 URL\\n복사\\nURL이 복사되었습니다.\\n댓글\\n글자크기조정\\n본문 글자 크기 조정 닫기 폰트 1단계 15px 폰트 2단계 16px 폰트 3단계 17px 폰트 4단계 18px (기본설정) 폰트 5단계 19px 폰트 6단계 20px 폰트 7단계 21px\\n인쇄\\n\\n장하나기자\\n\\'삼성 AI 포럼\\' 2일차…온디바이스 기반 AI 기술도 소개\\n임직원 업무생산성 향상…제품 탑재해 새로운 사용자 경험 제공\\n(서울=연합뉴스) 장하나 기자 = 삼성전자[005930]가 자체 개발한 생성형 인공지능(AI) 모델 \\'삼성 가우스\\'(Samsung Gauss)가 처음 공개됐다.\\n삼성전자는 삼성 가우스를 활용해 임직원의 업무 생산성을 높이는 한편, 생성형 AI 모델을 단계적으로 제품에 탑재해 새로운 사용자 경험을 제공한다는 계획이다.\\n\\n환영사 하는 김대현 부사장(서울=연합뉴스) 김대현 삼성전자 부사장이 8일 서울 서초구 삼성전자 서울R&D캠퍼스에서 열린 \\'삼성 AI 포럼 2023\\'에서 환영사를 하고 있다. 2023.11.8 [삼성전자 제공. 재판매 및 DB 금지] photo@yna.co.kr\\n삼성전자는 8일 삼성전자 서울R&D캠퍼스에서 \\'삼성 AI 포럼 2023\\' 2일차 행사를 열고 삼성리서치에서 개발한 삼성 가우스를 처음으로 공개했다고 밝혔다.\\n광고\\n머신 러닝과 AI 기술의 근본이 되는 정규분포 이론을 정립한 천재 수학자 칼 프리드리히 가우스의 이름을 딴 삼성 가우스는 머신 러닝 기술을 기반으로 ▲ 언어 모델 ▲ 코드 모델 ▲ 이미지 모델 등 3가지 모델로 구성됐다.\\n클라우드와 온디바이스(On-device)를 위한 다양한 모델로 이뤄진 언어 모델은 메일 작성과 문서 요약, 번역 등의 업무를 더 쉽고 빠르게 처리할 수 있게 해주며 기기를 더욱 스마트하게 제어해 소비자 경험을 향상시킬 수 있다.\\n코드 모델을 기반으로 개발된 AI 코딩 어시스턴트 \\'코드아이\\'(code.i)는 사내 소프트웨어 개발에 최적화돼 개발자들이 쉽고 빠르게 코딩할 수 있도록 도와준다. 대화형 인터페이스를 통해 코드 설명이나 테스트 케이스 생성 등의 서비스도 제공한다.\\n이미지 모델은 사진이나 그림 등 창의적인 이미지를 손쉽게 만들고 기존 이미지를 원하는 대로 바꿀 수 있도록 도와준다. 저해상도 이미지의 고해상도 전환도 쉽게 가능해진다.\\n\\n삼성전자가 자체 개발한 생성형 AI \\'삼성 가우스\\'[삼성전자 제공. 재판매 및 DB 금지]\\n삼성전자는 현재 사내에서 삼성 가우스의 베타 테스트를 진행 중이며, 연내에 임직원이 사용할 수 있도록 오픈할 예정이다.\\n앞서 삼성전자는 챗GPT 등 외부 생성형 AI 사용 확대로 보안 우려가 커지자 번역과 문서 요약 등 임직원의 수요를 고려해 자체 생성형 AI를 개발해 왔다.\\n삼성 가우스를 활용한 온디바이스 AI 기술도 소개했다.\\n삼성리서치가 개발한 다양한 온디바이스 AI 기술이 탑재된 제품을 사용할 경우 소비자는 개인정보 전송 없이 기기 제어, 문장 요약, 문법 교정 등을 더 쉽고 편리하게 이용할 수 있다.\\n삼성전자는 이러한 생성형 AI 모델들을 다양한 제품에 단계적으로 탑재할 계획이다.\\n업계에서는 삼성전자가 이르면 내년 1월 공개할 갤럭시 S24에 생성형 AI 기능을 탑재할 것으로 보고 있다.\\n\\n삼성 AI 포럼 포스터[삼성전자 제공. 재판매 및 DB 금지]\\n삼성리서치에서 주관한 이날 포럼에는 삼성전자의 AI 연구 인력과 학계·업계 AI 전문가 150여명이 참석해 생성형 AI 기술의 발전 방향을 논의하고 최신 기술 동향을 공유했다.\\n생성형 AI 기술이 발전하면서 인간의 삶이 어떻게 변화할지에 대한 깊이 있는 논의도 진행했다.\\n김대현 삼성리서치 글로벌AI센터 부센터장(부사장)은 \"삼성전자는 AI 기술 개발뿐만 아니라 AI 활용 시 보안과 안전성을 확보하기 위해 \\'AI 윤리 원칙\\'을 정해 이를 준수하기 위해 노력하고 있다\"며 \"생성형 AI에 대한 지속적 연구를 통해 소비자의 경험 가치를 높여 나갈 계획\"이라고 말했다.\\n\\n강연하는 제이슨 웨이 오픈AI 연구원(서울=연합뉴스) 제이슨 웨이 삼성 오픈AI 연구원이 8일 서울 서초구 삼성전자 서울R&D캠퍼스에서 열린 \\'삼성 AI 포럼 2023\\'에서 \\'대규모 언어 모델 르네상스의 새로운 패러다임\\'을 주제로 강연하고 있다. 2023.11.8 [삼성전자 제공. 재판매 및 DB 금지] photo@yna.co.kr\\n이밖에 \\'생각의 사슬\\' 논문의 저자이기도 한 오픈AI의 제이슨 웨이 연구원은 \\'대규모 언어 모델 르네상스의 새로운 패러다임\\'을 주제로 대규모 언어 모델로 인한 패러다임 변화와 AI 분야에 미치는 영향에 대해 강연했다.\\nhanajjang@yna.co.kr\\n제보는 카카오톡 okjebo <저작권자(c) 연합뉴스, 무단 전재-재배포, AI 학습 및 활용 금지> 2023/11/08 10:00 송고\\n\\n#삼성전자\\n\\n함께 보면 좋은 콘텐츠\\n댓글쓰기\\n광고\\n함께 읽기 좋은 콘텐츠\\n연합뉴스 Games\\n광고\\n광고\\n핫뉴스\\n\\n\\n\\n배우 배용준, 연세의료원에 30억원 기부\\n\\n\\n\\n2살 딸 폭행해 숨지자 집에 6개월간 유기…20대 아빠 구속\\n\\n\\n\\n머스크 13번째 자녀?…\"머스크 아이 낳았다\" 주장 여성 등장\\n\\n\\n\\n튀르키예, \\'운동화에 돼지 가죽\\' 알리지 않은 아디다스에 벌금\\n\\n\\n백악관 액자 속 노려보는 트럼프 사진…집무실 앞에 머그샷 전시\\n\\n\\n초등생 제자 상습 성추행하고 한국 떠난 태권도 관장 철창행\\n\\n\\n형 사망 사실 숨겨 예금 9억 찾고는 \"생전 증여\" 발뺌한 동생\\n\\n\\n스트레이 키즈 필릭스 교통사고로 골절상…오늘 팬미팅 불참\\n\\n\\n광고\\n많이 본 뉴스\\n종합\\n정치\\n경제\\n사회\\n세계\\n스포츠\\n연예\\n이전 다음\\n\\n\\n\\n초등생 제자 상습 성추행하고 한국 떠난 태권도 관장 철창행\\n\\n\\n인천 길상산서 10m 아래로 추락한 60대 사망…\"실족사 추정\"\\n\\n\\n급락 주식 제때 거래 못 해 폭언 듣고 숨진 증권맨…업무상 재해\\n\\n\\n머스크 13번째 자녀?…\"머스크 아이 낳았다\" 주장 여성 등장\\n\\n\\n매일 119원씩 모은 소방관들…피해자 지원금 5년 만에 12억\\n\\n\\n\\n노상원 수첩·홍장원 메모…계엄 수사·재판 뇌관으로\\n\\n\\n광주 5·18 역사 현장에서 탄핵 찬성·반대 집회 동시에 열려\\n\\n\\n디시가 \\'문형배 좌표\\' 찍자 유튜브가 퍼뜨리고 정치권 번져\\n\\n\\n尹대통령, 20일 헌재서 한덕수 총리 대면…형사재판도 시작\\n\\n\\n\\'윤석열 탄핵 촉구\\' 광주서 시민궐기대회…\"2만명 결집\"(종합)\\n\\n\\n\\n골드바·골드뱅킹 판매 사상 최대…실버바도 15배로↑\\n\\n\\n청년 고용한파 굳어지나…체감실업률·고용률 4년만에 최대 악화\\n\\n\\n[트럼프 스톰 한달] 동맹도 예외 없다…\\'관세 폭탄\\'에 한국 산업계도 비상\\n\\n\\n지난해 채무불이행 자영업자 35% 늘어…보유대출 30조 돌파\\n\\n\\n기세 꺾인 편의점…외형성장보다 수익·내실 경영체제로\\n\\n\\n\\n초등생 제자 상습 성추행하고 한국 떠난 태권도 관장 철창행\\n\\n\\n인천 길상산서 10m 아래로 추락한 60대 사망…\"실족사 추정\"\\n\\n\\n급락 주식 제때 거래 못 해 폭언 듣고 숨진 증권맨…업무상 재해\\n\\n\\n매일 119원씩 모은 소방관들…피해자 지원금 5년 만에 12억\\n\\n\\n형 사망 사실 숨겨 예금 9억 찾고는 \"생전 증여\" 발뺌한 동생\\n\\n\\n\\n머스크 13번째 자녀?…\"머스크 아이 낳았다\" 주장 여성 등장\\n\\n\\n\"제이지가 성폭행\" 주장한 여성 소송 취하…제이지 \"웃겼다\"\\n\\n\\n[트럼프 스톰 한달] \\'충격과 공포\\' 美마이웨이에 국제사회 초비상\\n\\n\\n트럼프 \"부가세, 대미관세와 동렬에 놓을것\"…韓에 직접 영향\\n\\n\\n美 가수, 테슬라車 판 뒤 \"머스크가 위협한 공영방송에 기부\"\\n\\n\\n\\n\\'하얼빈 2관왕\\' 쇼트트랙 장성우, 월드투어 남자 1,500ｍ 동메달\\n\\n\\nPSG, 툴루즈 1-0 잡고 22경기 무패행진…이강인이 결승골 끌어내\\n\\n\\nMLB 김하성, 탬파베이 캠프서 첫 타격 훈련…\"재활 순조로워\"(종합)\\n\\n\\n대전, K리그 개막전서 포항 완파…우승후보 서울은 제주에 완패(종합)\\n\\n\\nMLB 두 번째 시즌 앞둔 이정후 \"꿈같은 시간, 영원치 않다\"\\n\\n\\n\\n故송대관 생전 모습 담긴 \\'전국노래자랑\\'…\"한 세상 소풍 왔다\"\\n\\n\\n美 아카데미 2주 앞…데미 무어 생애 첫 여우주연상 품을까\\n\\n\\n스트레이 키즈 필릭스 교통사고로 골절상…오늘 팬미팅 불참\\n\\n\\n강풀 웹툰 원작 드라마 \\'마녀\\', 시청률 2.4% 출발\\n\\n\\n\\'오징어게임2\\' 채경선 미술감독, 3년만에 美미술감독조합상 수상\\n\\n\\n광고\\n광고\\n에디터스 픽Editor\\'s Picks\\n영상\\n영상 기사  \\n[영상] 체르노빌 원전서 폭발 화재…\"자작극\" vs \"드론 공격\" 책임 공방\\n영상 기사  \\n[영상] \\'우주 레이저로 미사일 잡는다\\' 미국판 아이언돔 실현 가능성은\\n영상 기사  \\n[영상] \"하늘아, 우리 애기\" 작은관 붙잡고 오열…가해교사 현재 회복중\\n뉴스\\n\\n\\n\\n부산 복합리조트 공사장 화재 합동감식 \"PT룸 배관 주변서 발화\"\\n\\n\\n尹측 \"대통령 단전 지시사실 없어…재탕·삼탕 의혹 중단하라\"\\n\\n\\n\\n광주 탄핵반대집회 공방…\"악마와 다를게 뭔가\" \"국민을 극우로 매도\"\\n\\n\\n트럼프 \"부가세=관세\" 언급…한국 수출에 불확실성 겹겹이\\n\\n\\n\\n대전 초등생 살해 교사 6일째 대면조사 못해…\"안정 취하는 중\"\\n\\n\\n광고\\n오래 머문 뉴스\\n광고\\n광고\\n광고\\n광고\\n\\n화면 상단으로 이동\\n유튜브 채널 연합뉴스 유튜브채널 통통컬쳐 유튜브채널 통통테크 유튜브채널 통통리빙 유튜브채널 코리아나우 유튜브채널 NK NOW K-VIBE\\nSNS 연합뉴스 페이스북 연합뉴스 트위터 연합뉴스 인스타그램\\n\\n최신기사\\n정치\\n전체기사\\n대통령실/총리실\\n국회/정당\\n외교\\n국방\\n\\n\\n북한\\n전체기사\\n학술·연구\\n북한 알아보기\\n인물\\n비주얼\\nNK NOW\\n\\n\\n경제\\n전체기사\\n경제/정책\\n금융\\n부동산\\n취업/창업\\n소비자\\n\\n\\n마켓+\\n전체기사\\n국내주식\\n해외주식\\n채권\\n펀드/ETF\\n글로벌시장\\n증권/운용사\\n리포트\\n공시\\n\\n\\n산업\\n전체기사\\n산업/기업\\n전기전자\\n중화학\\n자동차\\n건설\\n에너지/자원\\nIT/과학\\n게임\\n유통/서비스\\n중기/벤처\\n바이오/헬스\\n농림축산\\n해양수산\\n\\n\\n사회\\n전체기사\\n사건/사고\\n법원/검찰\\n교육\\n복지/노동\\n환경/기후변화\\n여성/아동\\n재외동포\\n다문화\\n\\n\\n전국\\n전체기사\\n경기\\n인천\\n부산\\n울산\\n경남\\n대구/경북\\n광주/전남\\n전북\\n대전/충남/세종\\n충북\\n강원\\n제주\\n\\n\\n세계\\n전체기사\\n특파원\\n미국/북미\\n중국\\n일본\\n아시아/호주\\n유럽\\n중남미\\n중동/아프리카\\n국제기구\\n\\n\\n\\n문화\\n\\n전체기사\\n책/문학\\n만화/웹툰\\n종교\\n공연/전시\\n학술/문화재\\n미디어\\n여행/레저\\n생활\\n\\n\\n\\n건강\\n\\n전체기사\\n헬스노트\\n위클리 건강\\n더건강 영상\\n\\n\\n연예\\n전체기사\\n방송\\n영화\\n가요\\n해외연예\\n\\n\\n스포츠\\n전체기사\\n야구\\n축구\\n농구/배구\\n골프\\n\\n\\n오피니언\\n\\n사람들\\n\\n전체기사\\n인사\\n부고\\n동정/게시판\\nCEO\\n인터뷰\\n\\n\\n\\n비주얼뉴스\\n\\n영상\\n포토\\n화보\\nD스토리\\n그래픽\\n\\n\\n테마별뉴스\\n핫뉴스\\n주요뉴스\\n긴급뉴스\\n단독뉴스\\n많이본뉴스\\n오래머문뉴스\\n\\n\\n뉴스+\\n이슈돋보기\\n팩트체크\\n재난포털\\n북한포털\\n날씨\\n이 시각 헤드라인\\n\\n\\n외국어\\nEnglish\\n中文\\n日本語\\nعربي\\nEspañol\\nFrançais\\n\\n\\n뉴스상품\\n프리미엄뉴스\\n뉴스리더\\n인터넷맞춤형\\n보도자료 해외배포\\n보도자료 국내배포\\n\\n\\n모바일뉴스\\n모바일앱\\n모바일웹\\n\\n\\n출판물\\n이매진\\n연합연감\\n영문연감\\n단행본\\n월간 마이더스\\n\\n\\n광고안내\\nKTX 고속열차\\nSRT 고속열차\\nAREX 공항철도\\n모바일\\nPC\\n출판물\\nLED전광판\\n사업제휴\\n\\n\\n콘텐츠판매\\n보도사진\\n이미지\\n그래픽\\n동영상\\n인물\\n\\n\\n관련사이트\\n연합뉴스TV\\n인포맥스\\n한민족센터\\nK-VIBE\\n채용\\nIR 클럽\\n\\n\\n\\n계약사/제휴문의\\n\\n회사소개\\n윤리헌장\\n저작권규약\\n수용자권익위원회\\n콘텐츠자문위원회\\n\\n고충처리\\n\\n\\n이용약관\\n\\n개인정보처리방침\\n독자게시판\\n기사제보(02-398-3000)\\nRSS\\n사이트맵\\n\\n연합뉴스 서울시 종로구 율곡로 2길 25등록번호 문화, 나00009등록일자 1980.12.29발행일자 1980.12.29Tel. 02-398-3114\\n(C) Yonhapnews[대표이사] 황대일[편집인] 심인성\\nADVERTISEMENT\\nADVERTISEMENT'}, {'title': \"삼성전자, 자체 개발한 생성형 Ai '삼성 가우스' 첫 공개 | 연합뉴스\", 'url': 'https://www.yna.co.kr/view/AKR20231108041400003', 'content': \"삼성전자, 자체 개발한 생성형 AI '삼성 가우스' 첫 공개 | 연합뉴스 삼성전자, 자체 개발한 생성형 AI '삼성 가우스' 첫 공개 삼성전자, 자체 개발한 생성형 AI '삼성 가우스' 첫 공개 삼성전자[005930]가 자체 개발한 생성형 인공지능(AI) 모델 '삼성 가우스'(Samsung Gauss)가 처음 공개됐다. (서울=연합뉴스) 장하나 기자 = 삼성전자[005930]가 자체 개발한 생성형 인공지능(AI) 모델 '삼성 가우스'(Samsung Gauss)가 처음 공개됐다. 환영사 하는 김대현 부사장(서울=연합뉴스) 김대현 삼성전자 부사장이 8일 서울 서초구 삼성전자 서울R&D캠퍼스에서 열린 '삼성 AI 포럼 2023'에서 환영사를 하고 있다. 삼성전자가 자체 개발한 생성형 AI '삼성 가우스'[삼성전자 제공. 강연하는 제이슨 웨이 오픈AI 연구원(서울=연합뉴스) 제이슨 웨이 삼성 오픈AI 연구원이 8일 서울 서초구 삼성전자 서울R&D캠퍼스에서 열린 '삼성 AI 포럼 2023'에서 '대규모 언어 모델 르네상스의 새로운 패러다임'을 주제로 강연하고 있다.\", 'score': 0.9092728, 'raw_content': '삼성전자, 자체 개발한 생성형 AI \\'삼성 가우스\\' 첫 공개 | 연합뉴스\\n연합뉴스 본문 바로가기 메뉴 바로가기\\n\\n국가기간뉴스 통신사 연합뉴스\\n\\n\\n최신기사\\n\\n\\n정치\\n정치\\n전체기사\\n대통령실/총리실\\n국회/정당\\n외교\\n국방\\n\\n\\n북한\\n\\n\\n경제\\n경제\\n전체기사\\n경제/정책\\n금융\\n부동산\\n취업/창업\\n소비자\\n\\n\\n마켓 +\\n마켓 +\\n전체기사\\n국내주식\\n해외주식\\n채권\\n펀드/ETF\\n글로벌시장\\n증권/운용사\\n리포트\\n공시\\n\\n\\n산업\\n산업\\n전체기사\\n산업/기업\\n전기전자\\n중화학\\n자동차\\n건설\\n에너지/자원\\nIT/과학\\n게임\\n유통/서비스\\n중기/벤처\\n바이오/헬스\\n농림축산\\n해양수산\\n\\n\\n사회\\n사회\\n전체기사\\n사건/사고\\n법원/검찰\\n교육\\n복지/노동\\n환경/기후변화\\n여성/아동\\n재외동포\\n다문화\\n\\n\\n전국\\n전국\\n전체기사\\n경기\\n인천\\n부산\\n울산\\n경남\\n대구/경북\\n광주/전남\\n전북\\n대전/충남/세종\\n충북\\n강원\\n제주\\n\\n\\n세계\\n세계\\n전체기사\\n특파원\\n미국/북미\\n중국\\n일본\\n아시아/호주\\n유럽\\n중남미\\n중동/아프리카\\n국제기구\\nPRNewswire/AsiaNet\\n\\n\\n문화\\n문화\\n전체기사\\n책/문학\\n만화/웹툰\\n종교\\n공연/전시\\n학술/문화재\\n미디어\\n여행/레저\\n생활\\n\\n\\n건강\\n건강\\n전체기사\\n김길원의 헬스노트\\n위클리 건강\\n더건강 영상\\n\\n\\n연예\\n연예\\n전체기사\\n방송\\n영화\\n가요\\n해외연예\\n\\n\\n스포츠\\n스포츠\\n전체기사\\n야구\\n축구\\n농구/배구\\n골프\\n\\n\\n오피니언\\n\\n\\n사람들\\n사람들\\n전체기사\\n인사\\n부고\\n동정/게시판\\nCEO\\n인터뷰\\n\\n\\n비주얼뉴스\\n비주얼뉴스\\n영상\\n포토\\n화보\\nD스토리\\n그래픽\\n\\n\\n제보\\n\\n\\n뉴스 검색어 입력 양식\\n검색어  검색어 자동 완성 목록 접기 검색 결과 보기\\n자동완성 기능이 켜져 있습니다.\\n자동완성기능 켜기\\n연합뉴스 TV Live 방송 검색창 열기 로그인 로그아웃 안내 로그아웃 정보수정\\n국가기간뉴스 통신사 연합뉴스\\n삼성전자, 자체 개발한 생성형 AI \\'삼성 가우스\\' 첫 공개\\n공유\\n이 뉴스 공유하기 닫기 카카오톡 페이스북 X 카카오\\n스토리 페이스북\\n메신저 네이버\\n밴드 네이버\\n블로그 URL\\n복사\\nURL이 복사되었습니다.\\n댓글\\n\\n\\n뉴스홈\\n최신기사\\n\\n삼성전자, 자체 개발한 생성형 AI \\'삼성 가우스\\' 첫 공개\\n송고시간2023-11-08 10:00\\n요약\\n세 줄 요약 닫기\\n삼성전자[005930]가 자체 개발한 생성형 인공지능(AI) 모델 \\'삼성 가우스\\'(Samsung Gauss)가 처음 공개됐다.\\n삼성전자는 삼성 가우스를 활용해 임직원의 업무 생산성을 높이는 한편, 생성형 AI 모델을 단계적으로 제품에 탑재해 새로운 사용자 경험을 제공한다는 계획이다.\\n삼성전자는 8일 삼성전자 서울R&D캠퍼스에서 \\'삼성 AI 포럼 2023\\' 2일차 행사를 열고 삼성리서치에서 개발한 삼성 가우스를 처음으로 공개했다고 밝혔다.\\n요약 정보 인공지능이 자동으로 줄인 \\'세 줄 요약\\' 기술을 사용합니다. 전체 내용을 이해하기 위해서는 기사 본문과 함께 읽어야 합니다.\\n공유\\n이 뉴스 공유하기 닫기 카카오톡 페이스북 X 카카오\\n스토리 페이스북\\n메신저 네이버\\n밴드 네이버\\n블로그 URL\\n복사\\nURL이 복사되었습니다.\\n댓글\\n글자크기조정\\n본문 글자 크기 조정 닫기 폰트 1단계 15px 폰트 2단계 16px 폰트 3단계 17px 폰트 4단계 18px (기본설정) 폰트 5단계 19px 폰트 6단계 20px 폰트 7단계 21px\\n인쇄\\n\\n장하나기자\\n\\'삼성 AI 포럼\\' 2일차…온디바이스 기반 AI 기술도 소개\\n임직원 업무생산성 향상…제품 탑재해 새로운 사용자 경험 제공\\n(서울=연합뉴스) 장하나 기자 = 삼성전자[005930]가 자체 개발한 생성형 인공지능(AI) 모델 \\'삼성 가우스\\'(Samsung Gauss)가 처음 공개됐다.\\n삼성전자는 삼성 가우스를 활용해 임직원의 업무 생산성을 높이는 한편, 생성형 AI 모델을 단계적으로 제품에 탑재해 새로운 사용자 경험을 제공한다는 계획이다.\\n\\n환영사 하는 김대현 부사장(서울=연합뉴스) 김대현 삼성전자 부사장이 8일 서울 서초구 삼성전자 서울R&D캠퍼스에서 열린 \\'삼성 AI 포럼 2023\\'에서 환영사를 하고 있다. 2023.11.8 [삼성전자 제공. 재판매 및 DB 금지] photo@yna.co.kr\\n삼성전자는 8일 삼성전자 서울R&D캠퍼스에서 \\'삼성 AI 포럼 2023\\' 2일차 행사를 열고 삼성리서치에서 개발한 삼성 가우스를 처음으로 공개했다고 밝혔다.\\n광고\\n머신 러닝과 AI 기술의 근본이 되는 정규분포 이론을 정립한 천재 수학자 칼 프리드리히 가우스의 이름을 딴 삼성 가우스는 머신 러닝 기술을 기반으로 ▲ 언어 모델 ▲ 코드 모델 ▲ 이미지 모델 등 3가지 모델로 구성됐다.\\n클라우드와 온디바이스(On-device)를 위한 다양한 모델로 이뤄진 언어 모델은 메일 작성과 문서 요약, 번역 등의 업무를 더 쉽고 빠르게 처리할 수 있게 해주며 기기를 더욱 스마트하게 제어해 소비자 경험을 향상시킬 수 있다.\\n코드 모델을 기반으로 개발된 AI 코딩 어시스턴트 \\'코드아이\\'(code.i)는 사내 소프트웨어 개발에 최적화돼 개발자들이 쉽고 빠르게 코딩할 수 있도록 도와준다. 대화형 인터페이스를 통해 코드 설명이나 테스트 케이스 생성 등의 서비스도 제공한다.\\n이미지 모델은 사진이나 그림 등 창의적인 이미지를 손쉽게 만들고 기존 이미지를 원하는 대로 바꿀 수 있도록 도와준다. 저해상도 이미지의 고해상도 전환도 쉽게 가능해진다.\\n\\n삼성전자가 자체 개발한 생성형 AI \\'삼성 가우스\\'[삼성전자 제공. 재판매 및 DB 금지]\\n삼성전자는 현재 사내에서 삼성 가우스의 베타 테스트를 진행 중이며, 연내에 임직원이 사용할 수 있도록 오픈할 예정이다.\\n앞서 삼성전자는 챗GPT 등 외부 생성형 AI 사용 확대로 보안 우려가 커지자 번역과 문서 요약 등 임직원의 수요를 고려해 자체 생성형 AI를 개발해 왔다.\\n삼성 가우스를 활용한 온디바이스 AI 기술도 소개했다.\\n삼성리서치가 개발한 다양한 온디바이스 AI 기술이 탑재된 제품을 사용할 경우 소비자는 개인정보 전송 없이 기기 제어, 문장 요약, 문법 교정 등을 더 쉽고 편리하게 이용할 수 있다.\\n삼성전자는 이러한 생성형 AI 모델들을 다양한 제품에 단계적으로 탑재할 계획이다.\\n업계에서는 삼성전자가 이르면 내년 1월 공개할 갤럭시 S24에 생성형 AI 기능을 탑재할 것으로 보고 있다.\\n\\n삼성 AI 포럼 포스터[삼성전자 제공. 재판매 및 DB 금지]\\n삼성리서치에서 주관한 이날 포럼에는 삼성전자의 AI 연구 인력과 학계·업계 AI 전문가 150여명이 참석해 생성형 AI 기술의 발전 방향을 논의하고 최신 기술 동향을 공유했다.\\n생성형 AI 기술이 발전하면서 인간의 삶이 어떻게 변화할지에 대한 깊이 있는 논의도 진행했다.\\n김대현 삼성리서치 글로벌AI센터 부센터장(부사장)은 \"삼성전자는 AI 기술 개발뿐만 아니라 AI 활용 시 보안과 안전성을 확보하기 위해 \\'AI 윤리 원칙\\'을 정해 이를 준수하기 위해 노력하고 있다\"며 \"생성형 AI에 대한 지속적 연구를 통해 소비자의 경험 가치를 높여 나갈 계획\"이라고 말했다.\\n\\n강연하는 제이슨 웨이 오픈AI 연구원(서울=연합뉴스) 제이슨 웨이 삼성 오픈AI 연구원이 8일 서울 서초구 삼성전자 서울R&D캠퍼스에서 열린 \\'삼성 AI 포럼 2023\\'에서 \\'대규모 언어 모델 르네상스의 새로운 패러다임\\'을 주제로 강연하고 있다. 2023.11.8 [삼성전자 제공. 재판매 및 DB 금지] photo@yna.co.kr\\n이밖에 \\'생각의 사슬\\' 논문의 저자이기도 한 오픈AI의 제이슨 웨이 연구원은 \\'대규모 언어 모델 르네상스의 새로운 패러다임\\'을 주제로 대규모 언어 모델로 인한 패러다임 변화와 AI 분야에 미치는 영향에 대해 강연했다.\\nhanajjang@yna.co.kr\\n제보는 카카오톡 okjebo <저작권자(c) 연합뉴스, 무단 전재-재배포, AI 학습 및 활용 금지> 2023/11/08 10:00 송고\\n\\n#삼성전자\\n\\n함께 보면 좋은 콘텐츠\\n댓글쓰기\\n광고\\n함께 읽기 좋은 콘텐츠\\n연합뉴스 Games\\n광고\\n광고\\n핫뉴스\\n\\n\\n\\n배우 배용준, 연세의료원에 30억원 기부\\n\\n\\n\\n2살 딸 폭행해 숨지자 집에 6개월간 유기…20대 아빠 구속\\n\\n\\n\\n머스크 13번째 자녀?…\"머스크 아이 낳았다\" 주장 여성 등장\\n\\n\\n\\n튀르키예, \\'운동화에 돼지 가죽\\' 알리지 않은 아디다스에 벌금\\n\\n\\n백악관 액자 속 노려보는 트럼프 사진…집무실 앞에 머그샷 전시\\n\\n\\n초등생 제자 상습 성추행하고 한국 떠난 태권도 관장 철창행\\n\\n\\n형 사망 사실 숨겨 예금 9억 찾고는 \"생전 증여\" 발뺌한 동생\\n\\n\\n스트레이 키즈 필릭스 교통사고로 골절상…오늘 팬미팅 불참\\n\\n\\n광고\\n많이 본 뉴스\\n종합\\n정치\\n경제\\n사회\\n세계\\n스포츠\\n연예\\n이전 다음\\n\\n\\n\\n초등생 제자 상습 성추행하고 한국 떠난 태권도 관장 철창행\\n\\n\\n인천 길상산서 10m 아래로 추락한 60대 사망…\"실족사 추정\"\\n\\n\\n급락 주식 제때 거래 못 해 폭언 듣고 숨진 증권맨…업무상 재해\\n\\n\\n머스크 13번째 자녀?…\"머스크 아이 낳았다\" 주장 여성 등장\\n\\n\\n매일 119원씩 모은 소방관들…피해자 지원금 5년 만에 12억\\n\\n\\n\\n노상원 수첩·홍장원 메모…계엄 수사·재판 뇌관으로\\n\\n\\n광주 5·18 역사 현장에서 탄핵 찬성·반대 집회 동시에 열려\\n\\n\\n디시가 \\'문형배 좌표\\' 찍자 유튜브가 퍼뜨리고 정치권 번져\\n\\n\\n尹대통령, 20일 헌재서 한덕수 총리 대면…형사재판도 시작\\n\\n\\n\\'윤석열 탄핵 촉구\\' 광주서 시민궐기대회…\"2만명 결집\"(종합)\\n\\n\\n\\n골드바·골드뱅킹 판매 사상 최대…실버바도 15배로↑\\n\\n\\n청년 고용한파 굳어지나…체감실업률·고용률 4년만에 최대 악화\\n\\n\\n[트럼프 스톰 한달] 동맹도 예외 없다…\\'관세 폭탄\\'에 한국 산업계도 비상\\n\\n\\n지난해 채무불이행 자영업자 35% 늘어…보유대출 30조 돌파\\n\\n\\n기세 꺾인 편의점…외형성장보다 수익·내실 경영체제로\\n\\n\\n\\n초등생 제자 상습 성추행하고 한국 떠난 태권도 관장 철창행\\n\\n\\n인천 길상산서 10m 아래로 추락한 60대 사망…\"실족사 추정\"\\n\\n\\n급락 주식 제때 거래 못 해 폭언 듣고 숨진 증권맨…업무상 재해\\n\\n\\n매일 119원씩 모은 소방관들…피해자 지원금 5년 만에 12억\\n\\n\\n형 사망 사실 숨겨 예금 9억 찾고는 \"생전 증여\" 발뺌한 동생\\n\\n\\n\\n머스크 13번째 자녀?…\"머스크 아이 낳았다\" 주장 여성 등장\\n\\n\\n\"제이지가 성폭행\" 주장한 여성 소송 취하…제이지 \"웃겼다\"\\n\\n\\n[트럼프 스톰 한달] \\'충격과 공포\\' 美마이웨이에 국제사회 초비상\\n\\n\\n트럼프 \"부가세, 대미관세와 동렬에 놓을것\"…韓에 직접 영향\\n\\n\\n美 가수, 테슬라車 판 뒤 \"머스크가 위협한 공영방송에 기부\"\\n\\n\\n\\n\\'하얼빈 2관왕\\' 쇼트트랙 장성우, 월드투어 남자 1,500ｍ 동메달\\n\\n\\nPSG, 툴루즈 1-0 잡고 22경기 무패행진…이강인이 결승골 끌어내\\n\\n\\nMLB 김하성, 탬파베이 캠프서 첫 타격 훈련…\"재활 순조로워\"(종합)\\n\\n\\n대전, K리그 개막전서 포항 완파…우승후보 서울은 제주에 완패(종합)\\n\\n\\nMLB 두 번째 시즌 앞둔 이정후 \"꿈같은 시간, 영원치 않다\"\\n\\n\\n\\n故송대관 생전 모습 담긴 \\'전국노래자랑\\'…\"한 세상 소풍 왔다\"\\n\\n\\n美 아카데미 2주 앞…데미 무어 생애 첫 여우주연상 품을까\\n\\n\\n스트레이 키즈 필릭스 교통사고로 골절상…오늘 팬미팅 불참\\n\\n\\n강풀 웹툰 원작 드라마 \\'마녀\\', 시청률 2.4% 출발\\n\\n\\n\\'오징어게임2\\' 채경선 미술감독, 3년만에 美미술감독조합상 수상\\n\\n\\n광고\\n광고\\n에디터스 픽Editor\\'s Picks\\n영상\\n영상 기사  \\n[영상] 체르노빌 원전서 폭발 화재…\"자작극\" vs \"드론 공격\" 책임 공방\\n영상 기사  \\n[영상] \\'우주 레이저로 미사일 잡는다\\' 미국판 아이언돔 실현 가능성은\\n영상 기사  \\n[영상] \"하늘아, 우리 애기\" 작은관 붙잡고 오열…가해교사 현재 회복중\\n뉴스\\n\\n\\n\\n부산 복합리조트 공사장 화재 합동감식 \"PT룸 배관 주변서 발화\"\\n\\n\\n尹측 \"대통령 단전 지시사실 없어…재탕·삼탕 의혹 중단하라\"\\n\\n\\n\\n광주 탄핵반대집회 공방…\"악마와 다를게 뭔가\" \"국민을 극우로 매도\"\\n\\n\\n트럼프 \"부가세=관세\" 언급…한국 수출에 불확실성 겹겹이\\n\\n\\n\\n대전 초등생 살해 교사 6일째 대면조사 못해…\"안정 취하는 중\"\\n\\n\\n광고\\n오래 머문 뉴스\\n광고\\n광고\\n광고\\n광고\\n\\n화면 상단으로 이동\\n유튜브 채널 연합뉴스 유튜브채널 통통컬쳐 유튜브채널 통통테크 유튜브채널 통통리빙 유튜브채널 코리아나우 유튜브채널 NK NOW K-VIBE\\nSNS 연합뉴스 페이스북 연합뉴스 트위터 연합뉴스 인스타그램\\n\\n최신기사\\n정치\\n전체기사\\n대통령실/총리실\\n국회/정당\\n외교\\n국방\\n\\n\\n북한\\n전체기사\\n학술·연구\\n북한 알아보기\\n인물\\n비주얼\\nNK NOW\\n\\n\\n경제\\n전체기사\\n경제/정책\\n금융\\n부동산\\n취업/창업\\n소비자\\n\\n\\n마켓+\\n전체기사\\n국내주식\\n해외주식\\n채권\\n펀드/ETF\\n글로벌시장\\n증권/운용사\\n리포트\\n공시\\n\\n\\n산업\\n전체기사\\n산업/기업\\n전기전자\\n중화학\\n자동차\\n건설\\n에너지/자원\\nIT/과학\\n게임\\n유통/서비스\\n중기/벤처\\n바이오/헬스\\n농림축산\\n해양수산\\n\\n\\n사회\\n전체기사\\n사건/사고\\n법원/검찰\\n교육\\n복지/노동\\n환경/기후변화\\n여성/아동\\n재외동포\\n다문화\\n\\n\\n전국\\n전체기사\\n경기\\n인천\\n부산\\n울산\\n경남\\n대구/경북\\n광주/전남\\n전북\\n대전/충남/세종\\n충북\\n강원\\n제주\\n\\n\\n세계\\n전체기사\\n특파원\\n미국/북미\\n중국\\n일본\\n아시아/호주\\n유럽\\n중남미\\n중동/아프리카\\n국제기구\\n\\n\\n\\n문화\\n\\n전체기사\\n책/문학\\n만화/웹툰\\n종교\\n공연/전시\\n학술/문화재\\n미디어\\n여행/레저\\n생활\\n\\n\\n\\n건강\\n\\n전체기사\\n헬스노트\\n위클리 건강\\n더건강 영상\\n\\n\\n연예\\n전체기사\\n방송\\n영화\\n가요\\n해외연예\\n\\n\\n스포츠\\n전체기사\\n야구\\n축구\\n농구/배구\\n골프\\n\\n\\n오피니언\\n\\n사람들\\n\\n전체기사\\n인사\\n부고\\n동정/게시판\\nCEO\\n인터뷰\\n\\n\\n\\n비주얼뉴스\\n\\n영상\\n포토\\n화보\\nD스토리\\n그래픽\\n\\n\\n테마별뉴스\\n핫뉴스\\n주요뉴스\\n긴급뉴스\\n단독뉴스\\n많이본뉴스\\n오래머문뉴스\\n\\n\\n뉴스+\\n이슈돋보기\\n팩트체크\\n재난포털\\n북한포털\\n날씨\\n이 시각 헤드라인\\n\\n\\n외국어\\nEnglish\\n中文\\n日本語\\nعربي\\nEspañol\\nFrançais\\n\\n\\n뉴스상품\\n프리미엄뉴스\\n뉴스리더\\n인터넷맞춤형\\n보도자료 해외배포\\n보도자료 국내배포\\n\\n\\n모바일뉴스\\n모바일앱\\n모바일웹\\n\\n\\n출판물\\n이매진\\n연합연감\\n영문연감\\n단행본\\n월간 마이더스\\n\\n\\n광고안내\\nKTX 고속열차\\nSRT 고속열차\\nAREX 공항철도\\n모바일\\nPC\\n출판물\\nLED전광판\\n사업제휴\\n\\n\\n콘텐츠판매\\n보도사진\\n이미지\\n그래픽\\n동영상\\n인물\\n\\n\\n관련사이트\\n연합뉴스TV\\n인포맥스\\n한민족센터\\nK-VIBE\\n채용\\nIR 클럽\\n\\n\\n\\n계약사/제휴문의\\n\\n회사소개\\n윤리헌장\\n저작권규약\\n수용자권익위원회\\n콘텐츠자문위원회\\n\\n고충처리\\n\\n\\n이용약관\\n\\n개인정보처리방침\\n독자게시판\\n기사제보(02-398-3000)\\nRSS\\n사이트맵\\n\\n연합뉴스 서울시 종로구 율곡로 2길 25등록번호 문화, 나00009등록일자 1980.12.29발행일자 1980.12.29Tel. 02-398-3114\\n(C) Yonhapnews[대표이사] 황대일[편집인] 심인성\\nADVERTISEMENT\\nADVERTISEMENT'}]\n",
      "-------------------\n",
      "\n",
      "-------------------\n",
      "web_results_docs: \n",
      "[Document(metadata={'source': 'https://www.fnnews.com/news/202309031940191378'}, page_content='삼성전자 생성형 AI 이름은 \\'삼성 가우스\\' \\'가이스\\' - 파이낸셜뉴스 삼성전자 생성형 AI 이름은 \\'삼성 가우스\\' \\'가이스\\' 삼성전자가 자체 생성형 인공지능(AI) 서비스 상표권을 출원하며 연내 상용화를 위해 속도를 내고 있다. 전경훈 삼성전자 DX부문 최고기술책임자(CTO) 겸 삼성리서치장(사장)은 최근 사내 타운홀 미팅에서 자체 생성형 AI 개발 방향성을 코딩 지원, 문서 요약, 이메일 전송 등 사내 생산성 향상과 삼성 디바이스 탑재 등 두 가지로 설명한 바 있다. 가출 후 2주 만에 실종된 남편, 숨진 채 발견 [속보]김현태 707단장 \"곽종근 자수서에 \\'국회의원\\' \\'끌어내라\\' 단어 없다\" [속보]김현태 707단장 \"尹지시가 단전 배경이란 건 내용 안 맞아\" 현대차 크레타 EV, 인도서 돌풍…2주 만에 1700대 판매 가출 후 2주 만에 실종된 남편, 숨진 채 발견 \"청소 아줌마, 당 떨어진다며 3만원 양갱 몰래 먹어…따지니 \\'엄마뻘한테?\\'\" [어떻게 생각하세요] \"9개월 만에 20kg 감량\" 20대 여성이 밝힌 놀라운 비법은'), Document(metadata={'source': 'https://www.fnnews.com/news/202309031940191378'}, page_content='삼성전자 생성형 AI 이름은 \\'삼성 가우스\\' \\'가이스\\' - 파이낸셜뉴스 삼성전자 생성형 AI 이름은 \\'삼성 가우스\\' \\'가이스\\' 삼성전자가 자체 생성형 인공지능(AI) 서비스 상표권을 출원하며 연내 상용화를 위해 속도를 내고 있다. 전경훈 삼성전자 DX부문 최고기술책임자(CTO) 겸 삼성리서치장(사장)은 최근 사내 타운홀 미팅에서 자체 생성형 AI 개발 방향성을 코딩 지원, 문서 요약, 이메일 전송 등 사내 생산성 향상과 삼성 디바이스 탑재 등 두 가지로 설명한 바 있다. 가출 후 2주 만에 실종된 남편, 숨진 채 발견 [속보]김현태 707단장 \"곽종근 자수서에 \\'국회의원\\' \\'끌어내라\\' 단어 없다\" [속보]김현태 707단장 \"尹지시가 단전 배경이란 건 내용 안 맞아\" 현대차 크레타 EV, 인도서 돌풍…2주 만에 1700대 판매 가출 후 2주 만에 실종된 남편, 숨진 채 발견 \"청소 아줌마, 당 떨어진다며 3만원 양갱 몰래 먹어…따지니 \\'엄마뻘한테?\\'\" [어떻게 생각하세요] \"9개월 만에 20kg 감량\" 20대 여성이 밝힌 놀라운 비법은'), Document(metadata={'source': 'https://www.yna.co.kr/view/AKR20231108041400003'}, page_content=\"삼성전자, 자체 개발한 생성형 AI '삼성 가우스' 첫 공개 | 연합뉴스 삼성전자, 자체 개발한 생성형 AI '삼성 가우스' 첫 공개 삼성전자, 자체 개발한 생성형 AI '삼성 가우스' 첫 공개 삼성전자[005930]가 자체 개발한 생성형 인공지능(AI) 모델 '삼성 가우스'(Samsung Gauss)가 처음 공개됐다. (서울=연합뉴스) 장하나 기자 = 삼성전자[005930]가 자체 개발한 생성형 인공지능(AI) 모델 '삼성 가우스'(Samsung Gauss)가 처음 공개됐다. 환영사 하는 김대현 부사장(서울=연합뉴스) 김대현 삼성전자 부사장이 8일 서울 서초구 삼성전자 서울R&D캠퍼스에서 열린 '삼성 AI 포럼 2023'에서 환영사를 하고 있다. 삼성전자가 자체 개발한 생성형 AI '삼성 가우스'[삼성전자 제공. 강연하는 제이슨 웨이 오픈AI 연구원(서울=연합뉴스) 제이슨 웨이 삼성 오픈AI 연구원이 8일 서울 서초구 삼성전자 서울R&D캠퍼스에서 열린 '삼성 AI 포럼 2023'에서 '대규모 언어 모델 르네상스의 새로운 패러다임'을 주제로 강연하고 있다.\"), Document(metadata={'source': 'https://www.yna.co.kr/view/AKR20231108041400003'}, page_content=\"삼성전자, 자체 개발한 생성형 AI '삼성 가우스' 첫 공개 | 연합뉴스 삼성전자, 자체 개발한 생성형 AI '삼성 가우스' 첫 공개 삼성전자, 자체 개발한 생성형 AI '삼성 가우스' 첫 공개 삼성전자[005930]가 자체 개발한 생성형 인공지능(AI) 모델 '삼성 가우스'(Samsung Gauss)가 처음 공개됐다. (서울=연합뉴스) 장하나 기자 = 삼성전자[005930]가 자체 개발한 생성형 인공지능(AI) 모델 '삼성 가우스'(Samsung Gauss)가 처음 공개됐다. 환영사 하는 김대현 부사장(서울=연합뉴스) 김대현 삼성전자 부사장이 8일 서울 서초구 삼성전자 서울R&D캠퍼스에서 열린 '삼성 AI 포럼 2023'에서 환영사를 하고 있다. 삼성전자가 자체 개발한 생성형 AI '삼성 가우스'[삼성전자 제공. 강연하는 제이슨 웨이 오픈AI 연구원(서울=연합뉴스) 제이슨 웨이 삼성 오픈AI 연구원이 8일 서울 서초구 삼성전자 서울R&D캠퍼스에서 열린 '삼성 AI 포럼 2023'에서 '대규모 언어 모델 르네상스의 새로운 패러다임'을 주제로 강연하고 있다.\")]\n",
      "-------------------\n",
      "\n",
      "==========================================================================================\n",
      "\n"
     ]
    },
    {
     "data": {
      "text/plain": [
       "{'documents': [Document(metadata={'source': 'https://www.fnnews.com/news/202309031940191378'}, page_content='삼성전자 생성형 AI 이름은 \\'삼성 가우스\\' \\'가이스\\' - 파이낸셜뉴스 삼성전자 생성형 AI 이름은 \\'삼성 가우스\\' \\'가이스\\' 삼성전자가 자체 생성형 인공지능(AI) 서비스 상표권을 출원하며 연내 상용화를 위해 속도를 내고 있다. 전경훈 삼성전자 DX부문 최고기술책임자(CTO) 겸 삼성리서치장(사장)은 최근 사내 타운홀 미팅에서 자체 생성형 AI 개발 방향성을 코딩 지원, 문서 요약, 이메일 전송 등 사내 생산성 향상과 삼성 디바이스 탑재 등 두 가지로 설명한 바 있다. 가출 후 2주 만에 실종된 남편, 숨진 채 발견 [속보]김현태 707단장 \"곽종근 자수서에 \\'국회의원\\' \\'끌어내라\\' 단어 없다\" [속보]김현태 707단장 \"尹지시가 단전 배경이란 건 내용 안 맞아\" 현대차 크레타 EV, 인도서 돌풍…2주 만에 1700대 판매 가출 후 2주 만에 실종된 남편, 숨진 채 발견 \"청소 아줌마, 당 떨어진다며 3만원 양갱 몰래 먹어…따지니 \\'엄마뻘한테?\\'\" [어떻게 생각하세요] \"9개월 만에 20kg 감량\" 20대 여성이 밝힌 놀라운 비법은'),\n",
       "  Document(metadata={'source': 'https://www.fnnews.com/news/202309031940191378'}, page_content='삼성전자 생성형 AI 이름은 \\'삼성 가우스\\' \\'가이스\\' - 파이낸셜뉴스 삼성전자 생성형 AI 이름은 \\'삼성 가우스\\' \\'가이스\\' 삼성전자가 자체 생성형 인공지능(AI) 서비스 상표권을 출원하며 연내 상용화를 위해 속도를 내고 있다. 전경훈 삼성전자 DX부문 최고기술책임자(CTO) 겸 삼성리서치장(사장)은 최근 사내 타운홀 미팅에서 자체 생성형 AI 개발 방향성을 코딩 지원, 문서 요약, 이메일 전송 등 사내 생산성 향상과 삼성 디바이스 탑재 등 두 가지로 설명한 바 있다. 가출 후 2주 만에 실종된 남편, 숨진 채 발견 [속보]김현태 707단장 \"곽종근 자수서에 \\'국회의원\\' \\'끌어내라\\' 단어 없다\" [속보]김현태 707단장 \"尹지시가 단전 배경이란 건 내용 안 맞아\" 현대차 크레타 EV, 인도서 돌풍…2주 만에 1700대 판매 가출 후 2주 만에 실종된 남편, 숨진 채 발견 \"청소 아줌마, 당 떨어진다며 3만원 양갱 몰래 먹어…따지니 \\'엄마뻘한테?\\'\" [어떻게 생각하세요] \"9개월 만에 20kg 감량\" 20대 여성이 밝힌 놀라운 비법은'),\n",
       "  Document(metadata={'source': 'https://www.yna.co.kr/view/AKR20231108041400003'}, page_content=\"삼성전자, 자체 개발한 생성형 AI '삼성 가우스' 첫 공개 | 연합뉴스 삼성전자, 자체 개발한 생성형 AI '삼성 가우스' 첫 공개 삼성전자, 자체 개발한 생성형 AI '삼성 가우스' 첫 공개 삼성전자[005930]가 자체 개발한 생성형 인공지능(AI) 모델 '삼성 가우스'(Samsung Gauss)가 처음 공개됐다. (서울=연합뉴스) 장하나 기자 = 삼성전자[005930]가 자체 개발한 생성형 인공지능(AI) 모델 '삼성 가우스'(Samsung Gauss)가 처음 공개됐다. 환영사 하는 김대현 부사장(서울=연합뉴스) 김대현 삼성전자 부사장이 8일 서울 서초구 삼성전자 서울R&D캠퍼스에서 열린 '삼성 AI 포럼 2023'에서 환영사를 하고 있다. 삼성전자가 자체 개발한 생성형 AI '삼성 가우스'[삼성전자 제공. 강연하는 제이슨 웨이 오픈AI 연구원(서울=연합뉴스) 제이슨 웨이 삼성 오픈AI 연구원이 8일 서울 서초구 삼성전자 서울R&D캠퍼스에서 열린 '삼성 AI 포럼 2023'에서 '대규모 언어 모델 르네상스의 새로운 패러다임'을 주제로 강연하고 있다.\"),\n",
       "  Document(metadata={'source': 'https://www.yna.co.kr/view/AKR20231108041400003'}, page_content=\"삼성전자, 자체 개발한 생성형 AI '삼성 가우스' 첫 공개 | 연합뉴스 삼성전자, 자체 개발한 생성형 AI '삼성 가우스' 첫 공개 삼성전자, 자체 개발한 생성형 AI '삼성 가우스' 첫 공개 삼성전자[005930]가 자체 개발한 생성형 인공지능(AI) 모델 '삼성 가우스'(Samsung Gauss)가 처음 공개됐다. (서울=연합뉴스) 장하나 기자 = 삼성전자[005930]가 자체 개발한 생성형 인공지능(AI) 모델 '삼성 가우스'(Samsung Gauss)가 처음 공개됐다. 환영사 하는 김대현 부사장(서울=연합뉴스) 김대현 삼성전자 부사장이 8일 서울 서초구 삼성전자 서울R&D캠퍼스에서 열린 '삼성 AI 포럼 2023'에서 환영사를 하고 있다. 삼성전자가 자체 개발한 생성형 AI '삼성 가우스'[삼성전자 제공. 강연하는 제이슨 웨이 오픈AI 연구원(서울=연합뉴스) 제이슨 웨이 삼성 오픈AI 연구원이 8일 서울 서초구 삼성전자 서울R&D캠퍼스에서 열린 '삼성 AI 포럼 2023'에서 '대규모 언어 모델 르네상스의 새로운 패러다임'을 주제로 강연하고 있다.\")]}"
      ]
     },
     "execution_count": 53,
     "metadata": {},
     "output_type": "execute_result"
    }
   ],
   "source": [
    "web_search(state)"
   ]
  },
  {
   "cell_type": "markdown",
   "metadata": {},
   "source": [
    "### 질문 라우팅 노드"
   ]
  },
  {
   "cell_type": "code",
   "execution_count": 56,
   "metadata": {},
   "outputs": [],
   "source": [
    "# 질문 라우팅 노드\n",
    "def route_question(state: GraphState):\n",
    "    print('\\n==========================================================================================')\n",
    "    print('🔄 [Node] 질문 라우팅 노드 🔄')\n",
    "\n",
    "    # 사용자 질문\n",
    "    question = state['question']\n",
    "\n",
    "    # 질문 라우팅\n",
    "    source = question_router.invoke({'question': question})\n",
    "\n",
    "    if source.datasource == \"web_search\":\n",
    "        print(\"==== [ROUTE QUESTION TO WEB SEARCH] ====\")\n",
    "        print('==========================================================================================\\n')\n",
    "        return \"web_search\"\n",
    "    elif source.datasource == \"vectorstore\":\n",
    "        print(\"==== [ROUTE QUESTION TO VECTORSTORE] ====\")\n",
    "        print('==========================================================================================\\n')\n",
    "        return \"vectorstore\""
   ]
  },
  {
   "cell_type": "code",
   "execution_count": 57,
   "metadata": {},
   "outputs": [
    {
     "name": "stdout",
     "output_type": "stream",
     "text": [
      "\n",
      "==========================================================================================\n",
      "🔄 [Node] 질문 라우팅 노드 🔄\n",
      "==== [ROUTE QUESTION TO VECTORSTORE] ====\n",
      "==========================================================================================\n",
      "\n"
     ]
    },
    {
     "data": {
      "text/plain": [
       "'vectorstore'"
      ]
     },
     "execution_count": 57,
     "metadata": {},
     "output_type": "execute_result"
    }
   ],
   "source": [
    "route_question(state)"
   ]
  },
  {
   "cell_type": "code",
   "execution_count": 58,
   "metadata": {},
   "outputs": [],
   "source": [
    "# 문서 관련성 평가 노드\n",
    "def decide_to_generate(state: GraphState):\n",
    "    print('\\n==========================================================================================')\n",
    "    print('🔄 [Node] 문서 관련성 평가 노드 🔄')\n",
    "\n",
    "    # 문서 검색 결과 가져오기\n",
    "    filtered_documents = state['documents']\n",
    "\n",
    "    if not filtered_documents:                              # 문서가 없는 경우 (모든 문서가 관련성 없는 문서)\n",
    "        print(f'===== [DECISION: ALL DOCUMENTS ARE NOT RELEVANT TO QUESTION, TRANSFORM QUERY] =====')\n",
    "        print('==========================================================================================\\n')\n",
    "        return \"transform_query\"        \n",
    "    else:                                                   # 관련성 있는 문서가 있는 경우\n",
    "        print(f\"===== [DECISION: GENERATE] =====\")\n",
    "        print('==========================================================================================\\n')\n",
    "        return \"generate\""
   ]
  },
  {
   "cell_type": "code",
   "execution_count": 59,
   "metadata": {},
   "outputs": [
    {
     "name": "stdout",
     "output_type": "stream",
     "text": [
      "\n",
      "==========================================================================================\n",
      "🔄 [Node] 문서 관련성 평가 노드 🔄\n",
      "===== [DECISION: GENERATE] =====\n",
      "==========================================================================================\n",
      "\n"
     ]
    },
    {
     "data": {
      "text/plain": [
       "'generate'"
      ]
     },
     "execution_count": 59,
     "metadata": {},
     "output_type": "execute_result"
    }
   ],
   "source": [
    "decide_to_generate(state)"
   ]
  },
  {
   "cell_type": "code",
   "execution_count": 60,
   "metadata": {},
   "outputs": [],
   "source": [
    "class GradeAnswer(BaseModel):\n",
    "    \"\"\"Binary scoring to evaluate the appropriateness of answers to questions\"\"\"\n",
    "\n",
    "    binary_score: str = Field(\n",
    "        description=\"Indicate 'yes' or 'no' whether the answer solves the question\"\n",
    "    )\n",
    "\n",
    "llm = ChatOpenAI(\n",
    "    api_key=key, \n",
    "    model='gpt-4o-mini', \n",
    "    temperature=0\n",
    ")\n",
    "\n",
    "structured_llm_grader = llm.with_structured_output(GradeAnswer)\n",
    "\n",
    "# system\n",
    "system = \"\"\"You are a grader assessing whether an answer addresses / resolves a question \\n \n",
    "     Give a binary score 'yes' or 'no'. Yes' means that the answer resolves the question.\"\"\"\n",
    "\n",
    "# 프롬프트 템플릿\n",
    "answer_prompt = ChatPromptTemplate.from_messages(\n",
    "    [\n",
    "        (\"system\", system),\n",
    "        (\"human\", \"User question: \\n\\n {question} \\n\\n LLM generation: {generation}\"),\n",
    "    ]\n",
    ")\n",
    "\n",
    "# 프롬프트 템플릿과 구조화된 LLM 평가기를 결합하여 답변 평가기 생성\n",
    "answer_grader = answer_prompt | structured_llm_grader"
   ]
  },
  {
   "cell_type": "code",
   "execution_count": 61,
   "metadata": {},
   "outputs": [
    {
     "data": {
      "text/plain": [
       "GradeAnswer(binary_score='yes')"
      ]
     },
     "execution_count": 61,
     "metadata": {},
     "output_type": "execute_result"
    }
   ],
   "source": [
    "answer_grader.invoke({'question': state['question'], 'generation': generation})"
   ]
  },
  {
   "cell_type": "code",
   "execution_count": 81,
   "metadata": {},
   "outputs": [],
   "source": [
    "# Hallucination 평가 노드\n",
    "def hallucination_check(state: GraphState):\n",
    "    print('\\n==========================================================================================')\n",
    "    print('🔄 [Node] Hallucination 평가 노드 🔄')\n",
    "\n",
    "    # 사용자 질문\n",
    "    qestion = state['question']\n",
    "\n",
    "    # 문서 검색 결과\n",
    "    documents = state['documents']\n",
    "\n",
    "    # 생성된 답변\n",
    "    generation = state['generation']\n",
    "\n",
    "    # 평가\n",
    "    score = hallucination_grader.invoke({'documents': documents, 'generation': generation})\n",
    "    grade = score.binary_score\n",
    "\n",
    "    print(f\"===== [평가 결과] =====\")\n",
    "    print(grade)\n",
    "    print()\n",
    "\n",
    "    if grade == 'yes':     # hallucination 없음\n",
    "        print(\"===== [DECISION: GENERATION IS GROUNDED IN DOCUMENTS] =====\")\n",
    "        print(\"no hallucination\\n\")\n",
    "\n",
    "        # 답변에 대한 관련성 평가\n",
    "        print(\"===== [GRADE GENERATED ANSWER vs QUESTION] =====\\n\")\n",
    "\n",
    "        score = answer_grader.invoke({'question': state['question'], 'generation': generation})\n",
    "        grade = score.binary_score\n",
    "\n",
    "        if grade == 'yes':          # 관련성 있는 답변\n",
    "            print(\"==== [DECISION: GENERATED ANSWER ADDRESSES QUESTION] ====\")\n",
    "            print(\"relevant\\n\")\n",
    "            print('==========================================================================================\\n')\n",
    "            return \"relevant\"\n",
    "        else:                       # 관련성 없는 답변\n",
    "            print(\"==== [DECISION: GENERATED ANSWER DOES NOT ADDRESS QUESTION] ====\")\n",
    "            print(\"not relevant\\n\")\n",
    "            print('==========================================================================================\\n')\n",
    "            return \"not relevant\"\n",
    "\n",
    "    else:                   # hallucination 있음\n",
    "        print(\"===== [DECISION: GENERATION IS NOT GROUNDED IN DOCUMENTS, RE-TRY] =====\")\n",
    "        print(\"hallucination\\n\")\n",
    "        print('==========================================================================================\\n')\n",
    "        return \"hallucination\""
   ]
  },
  {
   "cell_type": "code",
   "execution_count": 82,
   "metadata": {},
   "outputs": [
    {
     "name": "stdout",
     "output_type": "stream",
     "text": [
      "\n",
      "==========================================================================================\n",
      "🔄 [Node] Hallucination 평가 노드 🔄\n",
      "===== [평가 결과] =====\n",
      "yes\n",
      "\n",
      "===== [DECISION: GENERATION IS GROUNDED IN DOCUMENTS] =====\n",
      "no hallucination\n",
      "\n",
      "===== [GRADE GENERATED ANSWER vs QUESTION] =====\n",
      "\n",
      "==== [DECISION: GENERATED ANSWER ADDRESSES QUESTION] ====\n",
      "relevant\n",
      "\n",
      "==========================================================================================\n",
      "\n"
     ]
    },
    {
     "data": {
      "text/plain": [
       "'relevant'"
      ]
     },
     "execution_count": 82,
     "metadata": {},
     "output_type": "execute_result"
    }
   ],
   "source": [
    "hallucination_check(state)"
   ]
  },
  {
   "cell_type": "code",
   "execution_count": 83,
   "metadata": {},
   "outputs": [],
   "source": [
    "from langgraph.graph import StateGraph, END, START\n",
    "from langgraph.checkpoint.memory import MemorySaver\n",
    "from langchain_teddynote.graphs import visualize_graph"
   ]
  },
  {
   "cell_type": "code",
   "execution_count": 84,
   "metadata": {},
   "outputs": [],
   "source": [
    "######### 1. 그래프 생성 #########\n",
    "\n",
    "workflow = StateGraph(GraphState)"
   ]
  },
  {
   "cell_type": "code",
   "execution_count": 85,
   "metadata": {},
   "outputs": [
    {
     "data": {
      "text/plain": [
       "<langgraph.graph.state.StateGraph at 0x29717a2f110>"
      ]
     },
     "execution_count": 85,
     "metadata": {},
     "output_type": "execute_result"
    }
   ],
   "source": [
    "######### 2. 노드 정의  #########\n",
    "\n",
    "workflow.add_node('web_search', web_search)                 # 웹 검색  \n",
    "workflow.add_node('retrieve', retrieve)                     # 문서 검색 노드\n",
    "workflow.add_node('grade_documents', grade_documents)       # 문서 검색으로 가져온 결과와 사용자 질문의 관련성을 평가하는 노드\n",
    "workflow.add_node('generate', generate)                     # 사용자 질문과 문서 검색결과를 가지고 답변 생성하는 노드\n",
    "workflow.add_node('transform_query', transform_query)       # 사용자 질문(쿼리)를 재작성하는 노드"
   ]
  },
  {
   "cell_type": "code",
   "execution_count": 86,
   "metadata": {},
   "outputs": [
    {
     "data": {
      "text/plain": [
       "<langgraph.graph.state.StateGraph at 0x29717a2f110>"
      ]
     },
     "execution_count": 86,
     "metadata": {},
     "output_type": "execute_result"
    }
   ],
   "source": [
    "######### 3. 그래프 엣지(Edge) 추가  #########\n",
    "\n",
    "workflow.add_conditional_edges(\n",
    "    START, \n",
    "    route_question,                     # 질문 라우팅 노드  \n",
    "    {\n",
    "        'web_search': 'web_search',     # 웹 검색으로 라우팅\n",
    "        'vectorstore': 'retrieve'       # retrieve (PDF 문서 검색)로 라우팅\n",
    "    }\n",
    ")"
   ]
  },
  {
   "cell_type": "code",
   "execution_count": 87,
   "metadata": {},
   "outputs": [
    {
     "data": {
      "text/plain": [
       "<langgraph.graph.state.StateGraph at 0x29717a2f110>"
      ]
     },
     "execution_count": 87,
     "metadata": {},
     "output_type": "execute_result"
    }
   ],
   "source": [
    "workflow.add_edge('web_search', 'generate')         # 웹 검색하고 답변 생성\n",
    "workflow.add_edge('retrieve', 'grade_documents')    # retrieve 노드에서 PDF 문서 검색실행 하고 결과를 문서 검색 평가기로 가서 평가"
   ]
  },
  {
   "cell_type": "code",
   "execution_count": 88,
   "metadata": {},
   "outputs": [
    {
     "data": {
      "text/plain": [
       "<langgraph.graph.state.StateGraph at 0x29717a2f110>"
      ]
     },
     "execution_count": 88,
     "metadata": {},
     "output_type": "execute_result"
    }
   ],
   "source": [
    "workflow.add_conditional_edges(\n",
    "    'grade_documents',                              # 문서 검색으로 가져온 결과와 사용자 질문의 관련성을 평가하는 노드\n",
    "    decide_to_generate,                             # 문서 관련성 평가\n",
    "    {\n",
    "        'transform_query': 'transform_query',       # 사용자 입력 다시 작성 필요\n",
    "        'generate': 'generate'                      # 답변 생성\n",
    "    }\n",
    ")"
   ]
  },
  {
   "cell_type": "code",
   "execution_count": 89,
   "metadata": {},
   "outputs": [
    {
     "data": {
      "text/plain": [
       "<langgraph.graph.state.StateGraph at 0x29717a2f110>"
      ]
     },
     "execution_count": 89,
     "metadata": {},
     "output_type": "execute_result"
    }
   ],
   "source": [
    "workflow.add_edge('transform_query', 'retrieve')    # 쿼리 다시 작성한 뒤 문서 검색"
   ]
  },
  {
   "cell_type": "code",
   "execution_count": 90,
   "metadata": {},
   "outputs": [
    {
     "data": {
      "text/plain": [
       "<langgraph.graph.state.StateGraph at 0x29717a2f110>"
      ]
     },
     "execution_count": 90,
     "metadata": {},
     "output_type": "execute_result"
    }
   ],
   "source": [
    "workflow.add_conditional_edges(\n",
    "    'generate',\n",
    "    hallucination_check,\n",
    "    {\n",
    "        'hallucination': 'generate',                # Hallucination 발생 시 재생성\n",
    "        'relevant': END,                            # 답변 관련성 통과     \n",
    "        'not relevant': 'transform_query'           # 딥변 관련성 통과 못하는 경우. 쿼리 다시 작성\n",
    "    }\n",
    ")"
   ]
  },
  {
   "cell_type": "code",
   "execution_count": 91,
   "metadata": {},
   "outputs": [],
   "source": [
    "######### 4. 체크 포인터 설정  #########\n",
    "\n",
    "memory = MemorySaver()"
   ]
  },
  {
   "cell_type": "code",
   "execution_count": 92,
   "metadata": {},
   "outputs": [],
   "source": [
    "######### 5. 그래프 컴파일(compile)  #########\n",
    "\n",
    "app = workflow.compile(checkpointer=memory)"
   ]
  },
  {
   "cell_type": "code",
   "execution_count": 93,
   "metadata": {},
   "outputs": [
    {
     "data": {
      "image/png": "[encoded data removed]",
      "text/plain": [
       "<IPython.core.display.Image object>"
      ]
     },
     "metadata": {},
     "output_type": "display_data"
    }
   ],
   "source": [
    "visualize_graph(app)"
   ]
  },
  {
   "cell_type": "code",
   "execution_count": 94,
   "metadata": {},
   "outputs": [],
   "source": [
    "from langchain_core.runnables import RunnableConfig\n",
    "from langchain_teddynote.messages import invoke_graph, stream_graph, random_uuid"
   ]
  },
  {
   "cell_type": "code",
   "execution_count": 95,
   "metadata": {},
   "outputs": [
    {
     "name": "stdout",
     "output_type": "stream",
     "text": [
      "\n",
      "==========================================================================================\n",
      "🔄 [Node] 질문 라우팅 노드 🔄\n",
      "==== [ROUTE QUESTION TO VECTORSTORE] ====\n",
      "==========================================================================================\n",
      "\n",
      "\n",
      "==========================================================================================\n",
      "🔄 [Node] 문서 검색 노드 🔄\n",
      "-------------------\n",
      "[Document(id='9d1c9684-6dd4-4f87-b719-b0cf7c8c4679', metadata={'source': 'data/SPRI_AI_Brief_2023년12월호_F.pdf', 'file_path': 'data/SPRI_AI_Brief_2023년12월호_F.pdf', 'page': 12, 'total_pages': 23, 'Author': 'dj', 'Creator': 'Hwp 2018 10.0.0.13462', 'Producer': 'Hancom PDF 1.3.0.542', 'CreationDate': \"D:20231208132838+09'00'\", 'ModDate': \"D:20231208132838+09'00'\", 'PDFVersion': '1.4'}, page_content='SPRi AI Brief |\\n2023-12월호\\n삼성전자, 자체 개발 생성 AI ‘삼성 가우스’ 공개\\nKEY Contents\\nn 삼성전자가 온디바이스에서 작동 가능하며 언어, 코드, 이미지의 3개 모델로 구성된 자체 개발 생성\\nAI 모델 ‘삼성 가우스’를 공개\\nn 삼성전자는 삼성 가우스를 다양한 제품에 단계적으로 탑재할 계획으로, 온디바이스 작동이 가능한\\n삼성 가우스는 외부로 사용자 정보가 유출될 위험이 없다는 장점을 보유\\n£언어, 코드, 이미지의 3개 모델로 구성된 삼성 가우스, 온디바이스 작동 지원'), Document(id='c1407987-c24e-4f7b-9a9d-af8f87ee6bc0', metadata={'source': 'data/SPRI_AI_Brief_2023년12월호_F.pdf', 'file_path': 'data/SPRI_AI_Brief_2023년12월호_F.pdf', 'page': 1, 'total_pages': 23, 'Author': 'dj', 'Creator': 'Hwp 2018 10.0.0.13462', 'Producer': 'Hancom PDF 1.3.0.542', 'CreationDate': \"D:20231208132838+09'00'\", 'ModDate': \"D:20231208132838+09'00'\", 'PDFVersion': '1.4'}, page_content='▹ 삼성전자, 자체 개발 생성 AI ‘삼성 가우스’ 공개 ···························································10\\n▹ 구글, 앤스로픽에 20억 달러 투자로 생성 AI 협력 강화 ················································11\\n▹ IDC, 2027년 AI 소프트웨어 매출 2,500억 달러 돌파 전망···········································12'), Document(id='072c7184-421f-4b05-895b-053c001f4eee', metadata={'source': 'data/SPRI_AI_Brief_2023년12월호_F.pdf', 'file_path': 'data/SPRI_AI_Brief_2023년12월호_F.pdf', 'page': 12, 'total_pages': 23, 'Author': 'dj', 'Creator': 'Hwp 2018 10.0.0.13462', 'Producer': 'Hancom PDF 1.3.0.542', 'CreationDate': \"D:20231208132838+09'00'\", 'ModDate': \"D:20231208132838+09'00'\", 'PDFVersion': '1.4'}, page_content='£언어, 코드, 이미지의 3개 모델로 구성된 삼성 가우스, 온디바이스 작동 지원\\nn 삼성전자가 2023년 11월 8일 열린 ‘삼성 AI 포럼 2023’ 행사에서 자체 개발한 생성 AI 모델\\n‘삼성 가우스’를 최초 공개\\n∙ 정규분포 이론을 정립한 천재 수학자 가우스(Gauss)의 이름을 본뜬 삼성 가우스는 다양한 상황에\\n최적화된 크기의 모델 선택이 가능\\n∙ 삼성 가우스는 라이선스나 개인정보를 침해하지 않는 안전한 데이터를 통해 학습되었으며,\\n온디바이스에서 작동하도록 설계되어 외부로 사용자의 정보가 유출되지 않는 장점을 보유'), Document(id='b9ed246b-2d76-4e6c-b1c4-df10d228f9df', metadata={'source': 'data/SPRI_AI_Brief_2023년12월호_F.pdf', 'file_path': 'data/SPRI_AI_Brief_2023년12월호_F.pdf', 'page': 12, 'total_pages': 23, 'Author': 'dj', 'Creator': 'Hwp 2018 10.0.0.13462', 'Producer': 'Hancom PDF 1.3.0.542', 'CreationDate': \"D:20231208132838+09'00'\", 'ModDate': \"D:20231208132838+09'00'\", 'PDFVersion': '1.4'}, page_content='어시스턴트를 적용한 구글 픽셀(Pixel)과 경쟁할 것으로 예상\\n☞ 출처 : 삼성전자, ‘삼성 AI 포럼’서 자체 개발 생성형 AI ‘삼성 가우스’ 공개, 2023.11.08.\\n삼성전자, ‘삼성 개발자 콘퍼런스 코리아 2023’ 개최, 2023.11.14.\\nTechRepublic, Samsung Gauss: Samsung Research Reveals Generative AI, 2023.11.08.\\n10'), Document(id='3a4ee943-55d1-4b0c-8620-5a35a0898905', metadata={'source': 'data/SPRI_AI_Brief_2023년12월호_F.pdf', 'file_path': 'data/SPRI_AI_Brief_2023년12월호_F.pdf', 'page': 18, 'total_pages': 23, 'Author': 'dj', 'Creator': 'Hwp 2018 10.0.0.13462', 'Producer': 'Hancom PDF 1.3.0.542', 'CreationDate': \"D:20231208132838+09'00'\", 'ModDate': \"D:20231208132838+09'00'\", 'PDFVersion': '1.4'}, page_content='<구글 딥마인드의 범용 AI 분류 프레임워크>\\n성능 특수 AI 예시 범용 AI 예시\\n0단계: AI 아님 계산기 소프트웨어, 컴파일러 아마존 메커니컬 터크\\n1단계: 신진(숙련되지 않은 인간) GOFAI(Good Old Fashioned Artificial Intelligence) 챗GPT, 바드, 라마2\\n스마트 스피커(애플 시리, 아마존 알렉사, 구글\\n2단계: 유능(숙련된 인간의 50% 이상) 미달성\\n어시스턴트), IBM 왓슨\\n3단계: 전문가(숙련된 인간의 90% 이상) 문법 교정기(그래머리), 생성 이미지 모델(달리2) 미달성'), Document(id='d20c493a-1f0e-4ca5-8ff1-819dda28fd6f', metadata={'source': 'data/SPRI_AI_Brief_2023년12월호_F.pdf', 'file_path': 'data/SPRI_AI_Brief_2023년12월호_F.pdf', 'page': 12, 'total_pages': 23, 'Author': 'dj', 'Creator': 'Hwp 2018 10.0.0.13462', 'Producer': 'Hancom PDF 1.3.0.542', 'CreationDate': \"D:20231208132838+09'00'\", 'ModDate': \"D:20231208132838+09'00'\", 'PDFVersion': '1.4'}, page_content='처리를 지원\\n∙ 코드 모델 기반의 AI 코딩 어시스턴트 ‘코드아이(code.i)’는 대화형 인터페이스로 서비스를 제공하며\\n사내 소프트웨어 개발에 최적화\\n∙ 이미지 모델은 창의적인 이미지를 생성하고 기존 이미지를 원하는 대로 바꿀 수 있도록 지원하며\\n저해상도 이미지의 고해상도 전환도 지원\\nn IT 전문지 테크리퍼블릭(TechRepublic)은 온디바이스 AI가 주요 기술 트렌드로 부상했다며,\\n2024년부터 가우스를 탑재한 삼성 스마트폰이 메타의 라마(Llama)2를 탑재한 퀄컴 기기 및 구글'), Document(id='4bbc56cd-5e33-4347-a585-891f00bce829', metadata={'source': 'data/SPRI_AI_Brief_2023년12월호_F.pdf', 'file_path': 'data/SPRI_AI_Brief_2023년12월호_F.pdf', 'page': 12, 'total_pages': 23, 'Author': 'dj', 'Creator': 'Hwp 2018 10.0.0.13462', 'Producer': 'Hancom PDF 1.3.0.542', 'CreationDate': \"D:20231208132838+09'00'\", 'ModDate': \"D:20231208132838+09'00'\", 'PDFVersion': '1.4'}, page_content='온디바이스에서 작동하도록 설계되어 외부로 사용자의 정보가 유출되지 않는 장점을 보유\\n∙ 삼성전자는 삼성 가우스를 활용한 온디바이스 AI 기술도 소개했으며, 생성 AI 모델을 다양한 제품에\\n단계적으로 탑재할 계획\\nn 삼성 가우스는 △텍스트를 생성하는 언어모델 △코드를 생성하는 코드 모델 △이미지를 생성하는\\n이미지 모델의 3개 모델로 구성\\n∙ 언어 모델은 클라우드와 온디바이스 대상 다양한 모델로 구성되며, 메일 작성, 문서 요약, 번역 업무의\\n처리를 지원'), Document(id='a380b69c-8bdc-45b3-9dc6-befdc28cd6b9', metadata={'source': 'data/SPRI_AI_Brief_2023년12월호_F.pdf', 'file_path': 'data/SPRI_AI_Brief_2023년12월호_F.pdf', 'page': 11, 'total_pages': 23, 'Author': 'dj', 'Creator': 'Hwp 2018 10.0.0.13462', 'Producer': 'Hancom PDF 1.3.0.542', 'CreationDate': \"D:20231208132838+09'00'\", 'ModDate': \"D:20231208132838+09'00'\", 'PDFVersion': '1.4'}, page_content='제작을 포함\\nn 알리바바 클라우드는 급증하는 생성 AI 수요에 대응해 모델 개발과 애플리케이션 구축 절차를\\n간소화하는 올인원 AI 모델 구축 플랫폼 ‘젠AI(GenAI)’도 공개\\n∙ 이 플랫폼은 데이터 관리, 모델 배포와 평가, 신속한 엔지니어링을 위한 종합 도구 모음을 제공하여\\n다양한 기업들이 맞춤형 AI 모델을 한층 쉽게 개발할 수 있도록 지원\\n∙ 생성 AI 개발에 필요한 컴퓨팅과 데이터 처리 요구사항을 지원하기 위해 AI 플랫폼(PAI),\\n데이터베이스 솔루션, 컨테이너 서비스와 같은 클라우드 신제품도 발표'), Document(id='93383986-36e4-4d89-a57d-7685c8e81945', metadata={'source': 'data/SPRI_AI_Brief_2023년12월호_F.pdf', 'file_path': 'data/SPRI_AI_Brief_2023년12월호_F.pdf', 'page': 1, 'total_pages': 23, 'Author': 'dj', 'Creator': 'Hwp 2018 10.0.0.13462', 'Producer': 'Hancom PDF 1.3.0.542', 'CreationDate': \"D:20231208132838+09'00'\", 'ModDate': \"D:20231208132838+09'00'\", 'PDFVersion': '1.4'}, page_content='▹ 빌 게이츠, AI 에이전트로 인한 컴퓨터 사용의 패러다임 변화 전망································13\\n▹ 유튜브, 2024년부터 AI 생성 콘텐츠 표시 의무화····························································14\\n3. 기술/연구\\n▹ 영국 과학혁신기술부, AI 안전 연구소 설립 발표······························································15'), Document(id='c983c3f7-631a-4017-aad4-b6c24ebc98db', metadata={'source': 'data/SPRI_AI_Brief_2023년12월호_F.pdf', 'file_path': 'data/SPRI_AI_Brief_2023년12월호_F.pdf', 'page': 18, 'total_pages': 23, 'Author': 'dj', 'Creator': 'Hwp 2018 10.0.0.13462', 'Producer': 'Hancom PDF 1.3.0.542', 'CreationDate': \"D:20231208132838+09'00'\", 'ModDate': \"D:20231208132838+09'00'\", 'PDFVersion': '1.4'}, page_content='£챗GPT와 구글 바드와 같은 AI 챗봇은 범용 AI 1단계 수준\\nn 구글 딥마인드 연구진은 2023년 11월 4일 범용 AI(Artificial General Intelligence, AGI) 모델을 용도와\\n성능에 따라 분류하는 프레임워크를 제시한 논문을 발표\\n∙ 프레임워크의 목적은 AGI의 성능, 범용성, 자율성 수준을 정의하여 모델 간 비교와 위험 평가, AGI\\n달성까지의 진행 상황을 측정할 수 있는 공통 기준을 제공하기 위함\\nn 연구진은 AGI 개념 정의에 필요한 기준을 수립하기 위한 6가지 원칙을 아래와 같이 도출')]\n",
      "-------------------\n",
      "==========================================================================================\n",
      "\n",
      "[node_name]: retrieve\n",
      "[node_chunk]:\n",
      " {'documents': [Document(id='9d1c9684-6dd4-4f87-b719-b0cf7c8c4679', metadata={'source': 'data/SPRI_AI_Brief_2023년12월호_F.pdf', 'file_path': 'data/SPRI_AI_Brief_2023년12월호_F.pdf', 'page': 12, 'total_pages': 23, 'Author': 'dj', 'Creator': 'Hwp 2018 10.0.0.13462', 'Producer': 'Hancom PDF 1.3.0.542', 'CreationDate': \"D:20231208132838+09'00'\", 'ModDate': \"D:20231208132838+09'00'\", 'PDFVersion': '1.4'}, page_content='SPRi AI Brief |\\n2023-12월호\\n삼성전자, 자체 개발 생성 AI ‘삼성 가우스’ 공개\\nKEY Contents\\nn 삼성전자가 온디바이스에서 작동 가능하며 언어, 코드, 이미지의 3개 모델로 구성된 자체 개발 생성\\nAI 모델 ‘삼성 가우스’를 공개\\nn 삼성전자는 삼성 가우스를 다양한 제품에 단계적으로 탑재할 계획으로, 온디바이스 작동이 가능한\\n삼성 가우스는 외부로 사용자 정보가 유출될 위험이 없다는 장점을 보유\\n£언어, 코드, 이미지의 3개 모델로 구성된 삼성 가우스, 온디바이스 작동 지원'), Document(id='c1407987-c24e-4f7b-9a9d-af8f87ee6bc0', metadata={'source': 'data/SPRI_AI_Brief_2023년12월호_F.pdf', 'file_path': 'data/SPRI_AI_Brief_2023년12월호_F.pdf', 'page': 1, 'total_pages': 23, 'Author': 'dj', 'Creator': 'Hwp 2018 10.0.0.13462', 'Producer': 'Hancom PDF 1.3.0.542', 'CreationDate': \"D:20231208132838+09'00'\", 'ModDate': \"D:20231208132838+09'00'\", 'PDFVersion': '1.4'}, page_content='▹ 삼성전자, 자체 개발 생성 AI ‘삼성 가우스’ 공개 ···························································10\\n▹ 구글, 앤스로픽에 20억 달러 투자로 생성 AI 협력 강화 ················································11\\n▹ IDC, 2027년 AI 소프트웨어 매출 2,500억 달러 돌파 전망···········································12'), Document(id='072c7184-421f-4b05-895b-053c001f4eee', metadata={'source': 'data/SPRI_AI_Brief_2023년12월호_F.pdf', 'file_path': 'data/SPRI_AI_Brief_2023년12월호_F.pdf', 'page': 12, 'total_pages': 23, 'Author': 'dj', 'Creator': 'Hwp 2018 10.0.0.13462', 'Producer': 'Hancom PDF 1.3.0.542', 'CreationDate': \"D:20231208132838+09'00'\", 'ModDate': \"D:20231208132838+09'00'\", 'PDFVersion': '1.4'}, page_content='£언어, 코드, 이미지의 3개 모델로 구성된 삼성 가우스, 온디바이스 작동 지원\\nn 삼성전자가 2023년 11월 8일 열린 ‘삼성 AI 포럼 2023’ 행사에서 자체 개발한 생성 AI 모델\\n‘삼성 가우스’를 최초 공개\\n∙ 정규분포 이론을 정립한 천재 수학자 가우스(Gauss)의 이름을 본뜬 삼성 가우스는 다양한 상황에\\n최적화된 크기의 모델 선택이 가능\\n∙ 삼성 가우스는 라이선스나 개인정보를 침해하지 않는 안전한 데이터를 통해 학습되었으며,\\n온디바이스에서 작동하도록 설계되어 외부로 사용자의 정보가 유출되지 않는 장점을 보유'), Document(id='b9ed246b-2d76-4e6c-b1c4-df10d228f9df', metadata={'source': 'data/SPRI_AI_Brief_2023년12월호_F.pdf', 'file_path': 'data/SPRI_AI_Brief_2023년12월호_F.pdf', 'page': 12, 'total_pages': 23, 'Author': 'dj', 'Creator': 'Hwp 2018 10.0.0.13462', 'Producer': 'Hancom PDF 1.3.0.542', 'CreationDate': \"D:20231208132838+09'00'\", 'ModDate': \"D:20231208132838+09'00'\", 'PDFVersion': '1.4'}, page_content='어시스턴트를 적용한 구글 픽셀(Pixel)과 경쟁할 것으로 예상\\n☞ 출처 : 삼성전자, ‘삼성 AI 포럼’서 자체 개발 생성형 AI ‘삼성 가우스’ 공개, 2023.11.08.\\n삼성전자, ‘삼성 개발자 콘퍼런스 코리아 2023’ 개최, 2023.11.14.\\nTechRepublic, Samsung Gauss: Samsung Research Reveals Generative AI, 2023.11.08.\\n10'), Document(id='3a4ee943-55d1-4b0c-8620-5a35a0898905', metadata={'source': 'data/SPRI_AI_Brief_2023년12월호_F.pdf', 'file_path': 'data/SPRI_AI_Brief_2023년12월호_F.pdf', 'page': 18, 'total_pages': 23, 'Author': 'dj', 'Creator': 'Hwp 2018 10.0.0.13462', 'Producer': 'Hancom PDF 1.3.0.542', 'CreationDate': \"D:20231208132838+09'00'\", 'ModDate': \"D:20231208132838+09'00'\", 'PDFVersion': '1.4'}, page_content='<구글 딥마인드의 범용 AI 분류 프레임워크>\\n성능 특수 AI 예시 범용 AI 예시\\n0단계: AI 아님 계산기 소프트웨어, 컴파일러 아마존 메커니컬 터크\\n1단계: 신진(숙련되지 않은 인간) GOFAI(Good Old Fashioned Artificial Intelligence) 챗GPT, 바드, 라마2\\n스마트 스피커(애플 시리, 아마존 알렉사, 구글\\n2단계: 유능(숙련된 인간의 50% 이상) 미달성\\n어시스턴트), IBM 왓슨\\n3단계: 전문가(숙련된 인간의 90% 이상) 문법 교정기(그래머리), 생성 이미지 모델(달리2) 미달성'), Document(id='d20c493a-1f0e-4ca5-8ff1-819dda28fd6f', metadata={'source': 'data/SPRI_AI_Brief_2023년12월호_F.pdf', 'file_path': 'data/SPRI_AI_Brief_2023년12월호_F.pdf', 'page': 12, 'total_pages': 23, 'Author': 'dj', 'Creator': 'Hwp 2018 10.0.0.13462', 'Producer': 'Hancom PDF 1.3.0.542', 'CreationDate': \"D:20231208132838+09'00'\", 'ModDate': \"D:20231208132838+09'00'\", 'PDFVersion': '1.4'}, page_content='처리를 지원\\n∙ 코드 모델 기반의 AI 코딩 어시스턴트 ‘코드아이(code.i)’는 대화형 인터페이스로 서비스를 제공하며\\n사내 소프트웨어 개발에 최적화\\n∙ 이미지 모델은 창의적인 이미지를 생성하고 기존 이미지를 원하는 대로 바꿀 수 있도록 지원하며\\n저해상도 이미지의 고해상도 전환도 지원\\nn IT 전문지 테크리퍼블릭(TechRepublic)은 온디바이스 AI가 주요 기술 트렌드로 부상했다며,\\n2024년부터 가우스를 탑재한 삼성 스마트폰이 메타의 라마(Llama)2를 탑재한 퀄컴 기기 및 구글'), Document(id='4bbc56cd-5e33-4347-a585-891f00bce829', metadata={'source': 'data/SPRI_AI_Brief_2023년12월호_F.pdf', 'file_path': 'data/SPRI_AI_Brief_2023년12월호_F.pdf', 'page': 12, 'total_pages': 23, 'Author': 'dj', 'Creator': 'Hwp 2018 10.0.0.13462', 'Producer': 'Hancom PDF 1.3.0.542', 'CreationDate': \"D:20231208132838+09'00'\", 'ModDate': \"D:20231208132838+09'00'\", 'PDFVersion': '1.4'}, page_content='온디바이스에서 작동하도록 설계되어 외부로 사용자의 정보가 유출되지 않는 장점을 보유\\n∙ 삼성전자는 삼성 가우스를 활용한 온디바이스 AI 기술도 소개했으며, 생성 AI 모델을 다양한 제품에\\n단계적으로 탑재할 계획\\nn 삼성 가우스는 △텍스트를 생성하는 언어모델 △코드를 생성하는 코드 모델 △이미지를 생성하는\\n이미지 모델의 3개 모델로 구성\\n∙ 언어 모델은 클라우드와 온디바이스 대상 다양한 모델로 구성되며, 메일 작성, 문서 요약, 번역 업무의\\n처리를 지원'), Document(id='a380b69c-8bdc-45b3-9dc6-befdc28cd6b9', metadata={'source': 'data/SPRI_AI_Brief_2023년12월호_F.pdf', 'file_path': 'data/SPRI_AI_Brief_2023년12월호_F.pdf', 'page': 11, 'total_pages': 23, 'Author': 'dj', 'Creator': 'Hwp 2018 10.0.0.13462', 'Producer': 'Hancom PDF 1.3.0.542', 'CreationDate': \"D:20231208132838+09'00'\", 'ModDate': \"D:20231208132838+09'00'\", 'PDFVersion': '1.4'}, page_content='제작을 포함\\nn 알리바바 클라우드는 급증하는 생성 AI 수요에 대응해 모델 개발과 애플리케이션 구축 절차를\\n간소화하는 올인원 AI 모델 구축 플랫폼 ‘젠AI(GenAI)’도 공개\\n∙ 이 플랫폼은 데이터 관리, 모델 배포와 평가, 신속한 엔지니어링을 위한 종합 도구 모음을 제공하여\\n다양한 기업들이 맞춤형 AI 모델을 한층 쉽게 개발할 수 있도록 지원\\n∙ 생성 AI 개발에 필요한 컴퓨팅과 데이터 처리 요구사항을 지원하기 위해 AI 플랫폼(PAI),\\n데이터베이스 솔루션, 컨테이너 서비스와 같은 클라우드 신제품도 발표'), Document(id='93383986-36e4-4d89-a57d-7685c8e81945', metadata={'source': 'data/SPRI_AI_Brief_2023년12월호_F.pdf', 'file_path': 'data/SPRI_AI_Brief_2023년12월호_F.pdf', 'page': 1, 'total_pages': 23, 'Author': 'dj', 'Creator': 'Hwp 2018 10.0.0.13462', 'Producer': 'Hancom PDF 1.3.0.542', 'CreationDate': \"D:20231208132838+09'00'\", 'ModDate': \"D:20231208132838+09'00'\", 'PDFVersion': '1.4'}, page_content='▹ 빌 게이츠, AI 에이전트로 인한 컴퓨터 사용의 패러다임 변화 전망································13\\n▹ 유튜브, 2024년부터 AI 생성 콘텐츠 표시 의무화····························································14\\n3. 기술/연구\\n▹ 영국 과학혁신기술부, AI 안전 연구소 설립 발표······························································15'), Document(id='c983c3f7-631a-4017-aad4-b6c24ebc98db', metadata={'source': 'data/SPRI_AI_Brief_2023년12월호_F.pdf', 'file_path': 'data/SPRI_AI_Brief_2023년12월호_F.pdf', 'page': 18, 'total_pages': 23, 'Author': 'dj', 'Creator': 'Hwp 2018 10.0.0.13462', 'Producer': 'Hancom PDF 1.3.0.542', 'CreationDate': \"D:20231208132838+09'00'\", 'ModDate': \"D:20231208132838+09'00'\", 'PDFVersion': '1.4'}, page_content='£챗GPT와 구글 바드와 같은 AI 챗봇은 범용 AI 1단계 수준\\nn 구글 딥마인드 연구진은 2023년 11월 4일 범용 AI(Artificial General Intelligence, AGI) 모델을 용도와\\n성능에 따라 분류하는 프레임워크를 제시한 논문을 발표\\n∙ 프레임워크의 목적은 AGI의 성능, 범용성, 자율성 수준을 정의하여 모델 간 비교와 위험 평가, AGI\\n달성까지의 진행 상황을 측정할 수 있는 공통 기준을 제공하기 위함\\nn 연구진은 AGI 개념 정의에 필요한 기준을 수립하기 위한 6가지 원칙을 아래와 같이 도출')]}\n",
      "\n",
      "==========================================================================================\n",
      "===== [CHECK DOCUMENT RELEVANCE TO QUESTION] =====\n",
      "---GRADE: DOCUMENT RELEVANT---\n",
      "---GRADE: DOCUMENT RELEVANT---\n",
      "---GRADE: DOCUMENT RELEVANT---\n",
      "---GRADE: DOCUMENT RELEVANT---\n",
      "---GRADE: DOCUMENT NOT RELEVANT---\n",
      "---GRADE: DOCUMENT RELEVANT---\n",
      "---GRADE: DOCUMENT RELEVANT---\n",
      "---GRADE: DOCUMENT NOT RELEVANT---\n",
      "---GRADE: DOCUMENT NOT RELEVANT---\n",
      "---GRADE: DOCUMENT NOT RELEVANT---\n",
      "==========================================================================================\n",
      "\n",
      "\n",
      "==========================================================================================\n",
      "🔄 [Node] 문서 관련성 평가 노드 🔄\n",
      "===== [DECISION: GENERATE] =====\n",
      "==========================================================================================\n",
      "\n",
      "[node_name]: grade_documents\n",
      "[node_chunk]:\n",
      " {'documents': [Document(id='9d1c9684-6dd4-4f87-b719-b0cf7c8c4679', metadata={'source': 'data/SPRI_AI_Brief_2023년12월호_F.pdf', 'file_path': 'data/SPRI_AI_Brief_2023년12월호_F.pdf', 'page': 12, 'total_pages': 23, 'Author': 'dj', 'Creator': 'Hwp 2018 10.0.0.13462', 'Producer': 'Hancom PDF 1.3.0.542', 'CreationDate': \"D:20231208132838+09'00'\", 'ModDate': \"D:20231208132838+09'00'\", 'PDFVersion': '1.4'}, page_content='SPRi AI Brief |\\n2023-12월호\\n삼성전자, 자체 개발 생성 AI ‘삼성 가우스’ 공개\\nKEY Contents\\nn 삼성전자가 온디바이스에서 작동 가능하며 언어, 코드, 이미지의 3개 모델로 구성된 자체 개발 생성\\nAI 모델 ‘삼성 가우스’를 공개\\nn 삼성전자는 삼성 가우스를 다양한 제품에 단계적으로 탑재할 계획으로, 온디바이스 작동이 가능한\\n삼성 가우스는 외부로 사용자 정보가 유출될 위험이 없다는 장점을 보유\\n£언어, 코드, 이미지의 3개 모델로 구성된 삼성 가우스, 온디바이스 작동 지원'), Document(id='c1407987-c24e-4f7b-9a9d-af8f87ee6bc0', metadata={'source': 'data/SPRI_AI_Brief_2023년12월호_F.pdf', 'file_path': 'data/SPRI_AI_Brief_2023년12월호_F.pdf', 'page': 1, 'total_pages': 23, 'Author': 'dj', 'Creator': 'Hwp 2018 10.0.0.13462', 'Producer': 'Hancom PDF 1.3.0.542', 'CreationDate': \"D:20231208132838+09'00'\", 'ModDate': \"D:20231208132838+09'00'\", 'PDFVersion': '1.4'}, page_content='▹ 삼성전자, 자체 개발 생성 AI ‘삼성 가우스’ 공개 ···························································10\\n▹ 구글, 앤스로픽에 20억 달러 투자로 생성 AI 협력 강화 ················································11\\n▹ IDC, 2027년 AI 소프트웨어 매출 2,500억 달러 돌파 전망···········································12'), Document(id='072c7184-421f-4b05-895b-053c001f4eee', metadata={'source': 'data/SPRI_AI_Brief_2023년12월호_F.pdf', 'file_path': 'data/SPRI_AI_Brief_2023년12월호_F.pdf', 'page': 12, 'total_pages': 23, 'Author': 'dj', 'Creator': 'Hwp 2018 10.0.0.13462', 'Producer': 'Hancom PDF 1.3.0.542', 'CreationDate': \"D:20231208132838+09'00'\", 'ModDate': \"D:20231208132838+09'00'\", 'PDFVersion': '1.4'}, page_content='£언어, 코드, 이미지의 3개 모델로 구성된 삼성 가우스, 온디바이스 작동 지원\\nn 삼성전자가 2023년 11월 8일 열린 ‘삼성 AI 포럼 2023’ 행사에서 자체 개발한 생성 AI 모델\\n‘삼성 가우스’를 최초 공개\\n∙ 정규분포 이론을 정립한 천재 수학자 가우스(Gauss)의 이름을 본뜬 삼성 가우스는 다양한 상황에\\n최적화된 크기의 모델 선택이 가능\\n∙ 삼성 가우스는 라이선스나 개인정보를 침해하지 않는 안전한 데이터를 통해 학습되었으며,\\n온디바이스에서 작동하도록 설계되어 외부로 사용자의 정보가 유출되지 않는 장점을 보유'), Document(id='b9ed246b-2d76-4e6c-b1c4-df10d228f9df', metadata={'source': 'data/SPRI_AI_Brief_2023년12월호_F.pdf', 'file_path': 'data/SPRI_AI_Brief_2023년12월호_F.pdf', 'page': 12, 'total_pages': 23, 'Author': 'dj', 'Creator': 'Hwp 2018 10.0.0.13462', 'Producer': 'Hancom PDF 1.3.0.542', 'CreationDate': \"D:20231208132838+09'00'\", 'ModDate': \"D:20231208132838+09'00'\", 'PDFVersion': '1.4'}, page_content='어시스턴트를 적용한 구글 픽셀(Pixel)과 경쟁할 것으로 예상\\n☞ 출처 : 삼성전자, ‘삼성 AI 포럼’서 자체 개발 생성형 AI ‘삼성 가우스’ 공개, 2023.11.08.\\n삼성전자, ‘삼성 개발자 콘퍼런스 코리아 2023’ 개최, 2023.11.14.\\nTechRepublic, Samsung Gauss: Samsung Research Reveals Generative AI, 2023.11.08.\\n10'), Document(id='d20c493a-1f0e-4ca5-8ff1-819dda28fd6f', metadata={'source': 'data/SPRI_AI_Brief_2023년12월호_F.pdf', 'file_path': 'data/SPRI_AI_Brief_2023년12월호_F.pdf', 'page': 12, 'total_pages': 23, 'Author': 'dj', 'Creator': 'Hwp 2018 10.0.0.13462', 'Producer': 'Hancom PDF 1.3.0.542', 'CreationDate': \"D:20231208132838+09'00'\", 'ModDate': \"D:20231208132838+09'00'\", 'PDFVersion': '1.4'}, page_content='처리를 지원\\n∙ 코드 모델 기반의 AI 코딩 어시스턴트 ‘코드아이(code.i)’는 대화형 인터페이스로 서비스를 제공하며\\n사내 소프트웨어 개발에 최적화\\n∙ 이미지 모델은 창의적인 이미지를 생성하고 기존 이미지를 원하는 대로 바꿀 수 있도록 지원하며\\n저해상도 이미지의 고해상도 전환도 지원\\nn IT 전문지 테크리퍼블릭(TechRepublic)은 온디바이스 AI가 주요 기술 트렌드로 부상했다며,\\n2024년부터 가우스를 탑재한 삼성 스마트폰이 메타의 라마(Llama)2를 탑재한 퀄컴 기기 및 구글'), Document(id='4bbc56cd-5e33-4347-a585-891f00bce829', metadata={'source': 'data/SPRI_AI_Brief_2023년12월호_F.pdf', 'file_path': 'data/SPRI_AI_Brief_2023년12월호_F.pdf', 'page': 12, 'total_pages': 23, 'Author': 'dj', 'Creator': 'Hwp 2018 10.0.0.13462', 'Producer': 'Hancom PDF 1.3.0.542', 'CreationDate': \"D:20231208132838+09'00'\", 'ModDate': \"D:20231208132838+09'00'\", 'PDFVersion': '1.4'}, page_content='온디바이스에서 작동하도록 설계되어 외부로 사용자의 정보가 유출되지 않는 장점을 보유\\n∙ 삼성전자는 삼성 가우스를 활용한 온디바이스 AI 기술도 소개했으며, 생성 AI 모델을 다양한 제품에\\n단계적으로 탑재할 계획\\nn 삼성 가우스는 △텍스트를 생성하는 언어모델 △코드를 생성하는 코드 모델 △이미지를 생성하는\\n이미지 모델의 3개 모델로 구성\\n∙ 언어 모델은 클라우드와 온디바이스 대상 다양한 모델로 구성되며, 메일 작성, 문서 요약, 번역 업무의\\n처리를 지원')]}\n",
      "\n",
      "==========================================================================================\n",
      "🔄 [Node] 답변 생성 노드 🔄\n",
      "-------------------\n",
      "삼성전자가 공개한 생성 AI 모델 ‘삼성 가우스’는 언어, 코드, 이미지의 3개 모델로 구성되어 있으며, 온디바이스에서 작동하도록 설계되어 사용자 정보 유출 위험이 없다. 이 모델은 2023년 11월 8일 ‘삼성 AI 포럼 2023’에서 처음 공개되었다.\n",
      "\n",
      "**Source**\n",
      "- data/SPRI_AI_Brief_2023년12월호_F.pdf (page 12)\n",
      "-------------------\n",
      "\n",
      "==========================================================================================\n",
      "\n",
      "\n",
      "==========================================================================================\n",
      "🔄 [Node] Hallucination 평가 노드 🔄\n",
      "===== [평가 결과] =====\n",
      "yes\n",
      "\n",
      "===== [DECISION: GENERATION IS GROUNDED IN DOCUMENTS] =====\n",
      "no hallucination\n",
      "\n",
      "===== [GRADE GENERATED ANSWER vs QUESTION] =====\n",
      "\n",
      "==== [DECISION: GENERATED ANSWER ADDRESSES QUESTION] ====\n",
      "relevant\n",
      "\n",
      "==========================================================================================\n",
      "\n",
      "[node_name]: generate\n",
      "[node_chunk]:\n",
      " {'generation': '삼성전자가 공개한 생성 AI 모델 ‘삼성 가우스’는 언어, 코드, 이미지의 3개 모델로 구성되어 있으며, 온디바이스에서 작동하도록 설계되어 사용자 정보 유출 위험이 없다. 이 모델은 2023년 11월 8일 ‘삼성 AI 포럼 2023’에서 처음 공개되었다.\\n\\n**Source**\\n- data/SPRI_AI_Brief_2023년12월호_F.pdf (page 12)'}\n"
     ]
    }
   ],
   "source": [
    "config = RunnableConfig(                        # config 설정\n",
    "    recursion_limit=20,                         # 최대 20개의 노드까지 방문.\n",
    "    configurable={'thread_id': random_uuid()}   # thread_id 설정\n",
    ")\n",
    "\n",
    "inputs = GraphState(question='삼성전자가 개발한 생성형 AI 이름은?')\n",
    "\n",
    "for event in app.stream(inputs, config=config):\n",
    "    for node_name, node_chunk in event.items():\n",
    "        print('[node_name]:', node_name)\n",
    "        print('[node_chunk]:\\n', node_chunk)"
   ]
  },
  {
   "cell_type": "code",
   "execution_count": 96,
   "metadata": {},
   "outputs": [
    {
     "name": "stdout",
     "output_type": "stream",
     "text": [
      "\n",
      "==========================================================================================\n",
      "🔄 [Node] 질문 라우팅 노드 🔄\n",
      "==== [ROUTE QUESTION TO WEB SEARCH] ====\n",
      "==========================================================================================\n",
      "\n",
      "\n",
      "==========================================================================================\n",
      "🔄 [Node] 웹 검색 노드 🔄\n",
      "-------------------\n",
      "question: \n",
      "대구 교보문고\n",
      "-------------------\n",
      "\n",
      "-------------------\n",
      "web_results: \n",
      "[{'title': '교보문고 대구점 - LocalView', 'url': 'https://www.localview.co.kr/store/detail.asp?seq=600977851', 'content': '국민정신문화 향상, 사회교육적 기능을 살린 문화공간을 창출하는 문고 대구광역시 중구 동성로2가 위치, 영업점, 이벤트, 행사 등 안내, 보유도서 검색 제공. 대구의 중심가 동성로에 있는 교보문고 대구점은 총 면적 1,900평의 넓은 매장과 15만 종 30만 권의 방대한 도서를 바탕으로 대구를 대표하는', 'score': 0.8488849, 'raw_content': ' |  |  |  |  |  |  |  |  | \\n\\n교보문고 대구점국민정신문화 향상, 사회교육적 기능을 살린 문화공간을 창출하는 문고패션쇼핑\\r\\n                                                        >쇼핑/유통\\r\\n                                                        >서점연 락 처053-425-3501홈페이지http://www.kyobobook.co.kr/storen/MainStore.laf?SITE=04주소대구광역시 중구 동성로2가 88-25도로명주소대구광역시 중구 국채보상로 586부가정보영업시간매일\\xa0\\r\\n\\t\\t\\t\\t\\t\\t\\t\\t\\t\\t\\t\\t\\tAM 10:00 \\r\\n\\t\\t\\t\\t\\t\\t\\t\\t\\t\\t\\t\\t\\t\\t~ \\r\\n\\t\\t\\t\\t\\t\\t\\t\\t\\t\\t\\t\\t\\t\\tPM 22:00카테고리패션쇼핑\\r\\n                                                    > 쇼핑/유통\\r\\n                                                    > 서점조회수 :866추천수 :0리뷰 :0국민정신문화 향상, 사회교육적 기능을 살린 문화공간을 창출하는 문고대구광역시 중구 동성로2가 위치, 영업점, 이벤트, 행사 등 안내, 보유도서 검색 제공.대구의 중심가 동성로에 있는 교보문고 대구점은 총 면적 1,900평의 넓은 매장과 15만 종 30만 권의 방대한 도서를 바탕으로 대구를 대표하는 서점이자 열린 문화공간으로 자리 잡고 있으며, 책을 사랑하시는 분들을 위한 북클럽회원 전용 라운지, 어린이 독자들의 만남의 장소 키즈가든, 다채로운 문화행사가 가득한 문화 이벤트홀 등은 독자 여러분께 더 큰 즐거움을 제공해드릴 것입니다.등록된 상품정보가 없습니다.등록된 동영상 정보가 없습니다.등록된 정보가 없습니다.1호선(중앙로)1호선(중앙로)2호선(반월당)2호선(반월당)1호선(반월당)1호선(반월당)1호선(대구역)1호선(대구역)주변버스CGV대구한일건너간선156\\r,\\r\\r309\\r,\\r\\r323\\r,\\r\\r425\\r,\\r\\r427\\r,\\r\\r521\\r,\\r\\r724\\r,\\r\\r939\\r,\\r\\r980CGV대구한일앞간선106\\r,\\r\\r156\\r,\\r\\r323-1\\r,\\r\\r521\\r,\\r\\r600약령시앞간선106\\r,\\r\\r202\\r,\\r\\r303-1\\r,\\r\\r349\\r,\\r\\r401\\r,\\r\\r410-1\\r,\\r\\r503\\r,\\r\\r518\\r,\\r\\r650\\r,\\r\\r704\\r,\\r\\r706\\r,\\r\\r730\\r,\\r\\r909지선동구1-1\\r,\\r\\r북구2급행급행2경상감영공원건너간선202-1\\r,\\r\\r303\\r,\\r\\r349\\r,\\r\\r401\\r,\\r\\r410\\r,\\r\\r503\\r,\\r\\r623\\r,\\r\\r704\\r,\\r\\r706\\r,\\r\\r730\\r,\\r\\r980지선동구1\\r,\\r\\r가창2\\r,\\r\\r동구2급행급행22.28기념중앙공원건너1간선508\\r,\\r\\r518\\r,\\r\\r600지선동구1\\r,\\r\\r가창2\\r,\\r\\r북구3급행급행1\\r,\\r\\r급행3약령시건너간선106\\r,\\r\\r202-1\\r,\\r\\r303\\r,\\r\\r349\\r,\\r\\r401\\r,\\r\\r410\\r,\\r\\r503\\r,\\r\\r518\\r,\\r\\r650\\r,\\r\\r704\\r,\\r\\r706\\r,\\r\\r730급행급행2지역상권시간대별 유동인구男10대男20대男30대男40대男50대女10대女20대女30대女40대女50대12시~13시까지(주중)18명42명68명60명32명16명52명48명32명24명19시~20시까지(주중)22명60명102명88명52명22명56명40명30명20명12시~13시까지(주말)24명62명50명48명30명18명56명42명24명20명19시~20시까지(주말)36명72명88명68명24명32명62명36명20명18명실내뷰등록된 실내 정보가 없습니다.near by좋은어린이서점 남산점교보문고 대구점모던북작성자내용점수이용하신 업체의 후기를 자유롭게 적어주세요.(욕설 및 상업적인 광고등은 사전통보없이 삭제됩니다.)작성자별점선택100 점90 점80 점70 점60 점50 점40 점30 점20 점10 점0 점비밀번호76644678보이는 도배방지키를 입력하세요. | 교보문고 대구점국민정신문화 향상, 사회교육적 기능을 살린 문화공간을 창출하는 문고패션쇼핑\\r\\n                                                        >쇼핑/유통\\r\\n                                                        >서점 | 교보문고 대구점 | 국민정신문화 향상, 사회교육적 기능을 살린 문화공간을 창출하는 문고패션쇼핑\\r\\n                                                        >쇼핑/유통\\r\\n                                                        >서점 |  |  |  |  | 연 락 처053-425-3501홈페이지http://www.kyobobook.co.kr/storen/MainStore.laf?SITE=04주소대구광역시 중구 동성로2가 88-25도로명주소대구광역시 중구 국채보상로 586부가정보영업시간매일\\xa0\\r\\n\\t\\t\\t\\t\\t\\t\\t\\t\\t\\t\\t\\t\\tAM 10:00 \\r\\n\\t\\t\\t\\t\\t\\t\\t\\t\\t\\t\\t\\t\\t\\t~ \\r\\n\\t\\t\\t\\t\\t\\t\\t\\t\\t\\t\\t\\t\\t\\tPM 22:00카테고리패션쇼핑\\r\\n                                                    > 쇼핑/유통\\r\\n                                                    > 서점조회수 :866추천수 :0리뷰 :0 | 연 락 처 | 053-425-3501 | 홈페이지 | http://www.kyobobook.co.kr/storen/MainStore.laf?SITE=04 | 주소 | 대구광역시 중구 동성로2가 88-25 | 도로명주소 | 대구광역시 중구 국채보상로 586 | 부가정보 |  | 영업시간 | 매일\\xa0\\r\\n\\t\\t\\t\\t\\t\\t\\t\\t\\t\\t\\t\\t\\tAM 10:00 \\r\\n\\t\\t\\t\\t\\t\\t\\t\\t\\t\\t\\t\\t\\t\\t~ \\r\\n\\t\\t\\t\\t\\t\\t\\t\\t\\t\\t\\t\\t\\t\\tPM 22:00 | 카테고리 | 패션쇼핑\\r\\n                                                    > 쇼핑/유통\\r\\n                                                    > 서점 | 조회수 :866추천수 :0리뷰 :0 |  | 조회수 :866추천수 :0리뷰 :0 |  | 조회수 :866추천수 :0리뷰 :0 |  | 등록된 상품정보가 없습니다.등록된 동영상 정보가 없습니다.등록된 정보가 없습니다.1호선(중앙로)1호선(중앙로)2호선(반월당)2호선(반월당)1호선(반월당)1호선(반월당)1호선(대구역)1호선(대구역) |  |  | CGV대구한일건너 | 간선156\\r,\\r\\r309\\r,\\r\\r323\\r,\\r\\r425\\r,\\r\\r427\\r,\\r\\r521\\r,\\r\\r724\\r,\\r\\r939\\r,\\r\\r980 | CGV대구한일앞 | 간선106\\r,\\r\\r156\\r,\\r\\r323-1\\r,\\r\\r521\\r,\\r\\r600 | 약령시앞 | 간선106\\r,\\r\\r202\\r,\\r\\r303-1\\r,\\r\\r349\\r,\\r\\r401\\r,\\r\\r410-1\\r,\\r\\r503\\r,\\r\\r518\\r,\\r\\r650\\r,\\r\\r704\\r,\\r\\r706\\r,\\r\\r730\\r,\\r\\r909지선동구1-1\\r,\\r\\r북구2급행급행2 | 경상감영공원건너 | 간선202-1\\r,\\r\\r303\\r,\\r\\r349\\r,\\r\\r401\\r,\\r\\r410\\r,\\r\\r503\\r,\\r\\r623\\r,\\r\\r704\\r,\\r\\r706\\r,\\r\\r730\\r,\\r\\r980지선동구1\\r,\\r\\r가창2\\r,\\r\\r동구2급행급행2 | 2.28기념중앙공원건너1 | 간선508\\r,\\r\\r518\\r,\\r\\r600지선동구1\\r,\\r\\r가창2\\r,\\r\\r북구3급행급행1\\r,\\r\\r급행3 | 약령시건너 | 간선106\\r,\\r\\r202-1\\r,\\r\\r303\\r,\\r\\r349\\r,\\r\\r401\\r,\\r\\r410\\r,\\r\\r503\\r,\\r\\r518\\r,\\r\\r650\\r,\\r\\r704\\r,\\r\\r706\\r,\\r\\r730급행급행2 | 시간대별 유동인구 | 男10대 | 男20대 | 男30대 | 男40대 | 男50대 | 女10대 | 女20대 | 女30대 | 女40대 | 女50대 | 12시~13시까지(주중) | 18명 | 42명 | 68명 | 60명 | 32명 | 16명 | 52명 | 48명 | 32명 | 24명 | 19시~20시까지(주중) | 22명 | 60명 | 102명 | 88명 | 52명 | 22명 | 56명 | 40명 | 30명 | 20명 | 12시~13시까지(주말) | 24명 | 62명 | 50명 | 48명 | 30명 | 18명 | 56명 | 42명 | 24명 | 20명 | 19시~20시까지(주말) | 36명 | 72명 | 88명 | 68명 | 24명 | 32명 | 62명 | 36명 | 20명 | 18명 | 좋은어린이서점 남산점 | 교보문고 대구점 | 모던북 |  |  | 작성자내용점수이용하신 업체의 후기를 자유롭게 적어주세요.(욕설 및 상업적인 광고등은 사전통보없이 삭제됩니다.)작성자별점선택100 점90 점80 점70 점60 점50 점40 점30 점20 점10 점0 점비밀번호76644678보이는 도배방지키를 입력하세요. | 작성자내용점수 | 작성자 | 내용 | 점수 | 이용하신 업체의 후기를 자유롭게 적어주세요.(욕설 및 상업적인 광고등은 사전통보없이 삭제됩니다.)작성자별점선택100 점90 점80 점70 점60 점50 점40 점30 점20 점10 점0 점비밀번호76644678보이는 도배방지키를 입력하세요. |  |  | 이용하신 업체의 후기를 자유롭게 적어주세요.(욕설 및 상업적인 광고등은 사전통보없이 삭제됩니다.) | 작성자별점선택100 점90 점80 점70 점60 점50 점40 점30 점20 점10 점0 점비밀번호 | 작성자 |  | 별점선택100 점90 점80 점70 점60 점50 점40 점30 점20 점10 점0 점 | 비밀번호 | 비밀번호 |  |  | 76644678보이는 도배방지키를 입력하세요. |  |  | 76644678 | 보이는 도배방지키를 입력하세요. |  |  |  | \\n교보문고 대구점국민정신문화 향상, 사회교육적 기능을 살린 문화공간을 창출하는 문고패션쇼핑\\r\\n                                                        >쇼핑/유통\\r\\n                                                        >서점 | 교보문고 대구점 | 국민정신문화 향상, 사회교육적 기능을 살린 문화공간을 창출하는 문고패션쇼핑\\r\\n                                                        >쇼핑/유통\\r\\n                                                        >서점\\n교보문고 대구점 | 국민정신문화 향상, 사회교육적 기능을 살린 문화공간을 창출하는 문고패션쇼핑\\r\\n                                                        >쇼핑/유통\\r\\n                                                        >서점\\n\\n |  |  | 연 락 처053-425-3501홈페이지http://www.kyobobook.co.kr/storen/MainStore.laf?SITE=04주소대구광역시 중구 동성로2가 88-25도로명주소대구광역시 중구 국채보상로 586부가정보영업시간매일\\xa0\\r\\n\\t\\t\\t\\t\\t\\t\\t\\t\\t\\t\\t\\t\\tAM 10:00 \\r\\n\\t\\t\\t\\t\\t\\t\\t\\t\\t\\t\\t\\t\\t\\t~ \\r\\n\\t\\t\\t\\t\\t\\t\\t\\t\\t\\t\\t\\t\\t\\tPM 22:00카테고리패션쇼핑\\r\\n                                                    > 쇼핑/유통\\r\\n                                                    > 서점조회수 :866추천수 :0리뷰 :0 | 연 락 처 | 053-425-3501 | 홈페이지 | http://www.kyobobook.co.kr/storen/MainStore.laf?SITE=04 | 주소 | 대구광역시 중구 동성로2가 88-25 | 도로명주소 | 대구광역시 중구 국채보상로 586 | 부가정보 |  | 영업시간 | 매일\\xa0\\r\\n\\t\\t\\t\\t\\t\\t\\t\\t\\t\\t\\t\\t\\tAM 10:00 \\r\\n\\t\\t\\t\\t\\t\\t\\t\\t\\t\\t\\t\\t\\t\\t~ \\r\\n\\t\\t\\t\\t\\t\\t\\t\\t\\t\\t\\t\\t\\t\\tPM 22:00 | 카테고리 | 패션쇼핑\\r\\n                                                    > 쇼핑/유통\\r\\n                                                    > 서점 | 조회수 :866추천수 :0리뷰 :0 |  | 조회수 :866추천수 :0리뷰 :0 |  | 조회수 :866추천수 :0리뷰 :0 | \\n\\n\\n연 락 처 | 053-425-3501\\n홈페이지 | http://www.kyobobook.co.kr/storen/MainStore.laf?SITE=04\\n주소 | 대구광역시 중구 동성로2가 88-25\\n도로명주소 | 대구광역시 중구 국채보상로 586\\n부가정보 | \\n영업시간 | 매일\\xa0\\r\\n\\t\\t\\t\\t\\t\\t\\t\\t\\t\\t\\t\\t\\tAM 10:00 \\r\\n\\t\\t\\t\\t\\t\\t\\t\\t\\t\\t\\t\\t\\t\\t~ \\r\\n\\t\\t\\t\\t\\t\\t\\t\\t\\t\\t\\t\\t\\t\\tPM 22:00\\n카테고리 | 패션쇼핑\\r\\n                                                    > 쇼핑/유통\\r\\n                                                    > 서점\\n조회수 :866추천수 :0리뷰 :0 |  | 조회수 :866추천수 :0리뷰 :0 |  | 조회수 :866추천수 :0리뷰 :0 | \\n | 조회수 :866추천수 :0리뷰 :0 |  | 조회수 :866추천수 :0리뷰 :0 | \\n | 조회수 :866추천수 :0리뷰 :0 | \\n등록된 상품정보가 없습니다.등록된 동영상 정보가 없습니다.등록된 정보가 없습니다.1호선(중앙로)1호선(중앙로)2호선(반월당)2호선(반월당)1호선(반월당)1호선(반월당)1호선(대구역)1호선(대구역) |  | \\nCGV대구한일건너 | 간선156\\r,\\r\\r309\\r,\\r\\r323\\r,\\r\\r425\\r,\\r\\r427\\r,\\r\\r521\\r,\\r\\r724\\r,\\r\\r939\\r,\\r\\r980\\nCGV대구한일앞 | 간선106\\r,\\r\\r156\\r,\\r\\r323-1\\r,\\r\\r521\\r,\\r\\r600\\n약령시앞 | 간선106\\r,\\r\\r202\\r,\\r\\r303-1\\r,\\r\\r349\\r,\\r\\r401\\r,\\r\\r410-1\\r,\\r\\r503\\r,\\r\\r518\\r,\\r\\r650\\r,\\r\\r704\\r,\\r\\r706\\r,\\r\\r730\\r,\\r\\r909지선동구1-1\\r,\\r\\r북구2급행급행2\\n경상감영공원건너 | 간선202-1\\r,\\r\\r303\\r,\\r\\r349\\r,\\r\\r401\\r,\\r\\r410\\r,\\r\\r503\\r,\\r\\r623\\r,\\r\\r704\\r,\\r\\r706\\r,\\r\\r730\\r,\\r\\r980지선동구1\\r,\\r\\r가창2\\r,\\r\\r동구2급행급행2\\n2.28기념중앙공원건너1 | 간선508\\r,\\r\\r518\\r,\\r\\r600지선동구1\\r,\\r\\r가창2\\r,\\r\\r북구3급행급행1\\r,\\r\\r급행3\\n약령시건너 | 간선106\\r,\\r\\r202-1\\r,\\r\\r303\\r,\\r\\r349\\r,\\r\\r401\\r,\\r\\r410\\r,\\r\\r503\\r,\\r\\r518\\r,\\r\\r650\\r,\\r\\r704\\r,\\r\\r706\\r,\\r\\r730급행급행2\\n시간대별 유동인구 | 男10대 | 男20대 | 男30대 | 男40대 | 男50대 | 女10대 | 女20대 | 女30대 | 女40대 | 女50대\\n12시~13시까지(주중) | 18명 | 42명 | 68명 | 60명 | 32명 | 16명 | 52명 | 48명 | 32명 | 24명\\n19시~20시까지(주중) | 22명 | 60명 | 102명 | 88명 | 52명 | 22명 | 56명 | 40명 | 30명 | 20명\\n12시~13시까지(주말) | 24명 | 62명 | 50명 | 48명 | 30명 | 18명 | 56명 | 42명 | 24명 | 20명\\n19시~20시까지(주말) | 36명 | 72명 | 88명 | 68명 | 24명 | 32명 | 62명 | 36명 | 20명 | 18명\\n좋은어린이서점 남산점 | 교보문고 대구점 | 모던북\\n | \\n작성자내용점수이용하신 업체의 후기를 자유롭게 적어주세요.(욕설 및 상업적인 광고등은 사전통보없이 삭제됩니다.)작성자별점선택100 점90 점80 점70 점60 점50 점40 점30 점20 점10 점0 점비밀번호76644678보이는 도배방지키를 입력하세요. | 작성자내용점수 | 작성자 | 내용 | 점수 | 이용하신 업체의 후기를 자유롭게 적어주세요.(욕설 및 상업적인 광고등은 사전통보없이 삭제됩니다.)작성자별점선택100 점90 점80 점70 점60 점50 점40 점30 점20 점10 점0 점비밀번호76644678보이는 도배방지키를 입력하세요. |  |  | 이용하신 업체의 후기를 자유롭게 적어주세요.(욕설 및 상업적인 광고등은 사전통보없이 삭제됩니다.) | 작성자별점선택100 점90 점80 점70 점60 점50 점40 점30 점20 점10 점0 점비밀번호 | 작성자 |  | 별점선택100 점90 점80 점70 점60 점50 점40 점30 점20 점10 점0 점 | 비밀번호 | 비밀번호 |  |  | 76644678보이는 도배방지키를 입력하세요. |  |  | 76644678 | 보이는 도배방지키를 입력하세요. |  | \\n작성자내용점수 | 작성자 | 내용 | 점수\\n작성자 | 내용 | 점수\\n이용하신 업체의 후기를 자유롭게 적어주세요.(욕설 및 상업적인 광고등은 사전통보없이 삭제됩니다.)작성자별점선택100 점90 점80 점70 점60 점50 점40 점30 점20 점10 점0 점비밀번호76644678보이는 도배방지키를 입력하세요. |  |  | 이용하신 업체의 후기를 자유롭게 적어주세요.(욕설 및 상업적인 광고등은 사전통보없이 삭제됩니다.) | 작성자별점선택100 점90 점80 점70 점60 점50 점40 점30 점20 점10 점0 점비밀번호 | 작성자 |  | 별점선택100 점90 점80 점70 점60 점50 점40 점30 점20 점10 점0 점 | 비밀번호 | 비밀번호 |  |  | 76644678보이는 도배방지키를 입력하세요. |  |  | 76644678 | 보이는 도배방지키를 입력하세요.\\n | \\n\\n이용하신 업체의 후기를 자유롭게 적어주세요.(욕설 및 상업적인 광고등은 사전통보없이 삭제됩니다.)\\n작성자별점선택100 점90 점80 점70 점60 점50 점40 점30 점20 점10 점0 점비밀번호 | 작성자 |  | 별점선택100 점90 점80 점70 점60 점50 점40 점30 점20 점10 점0 점 | 비밀번호 | 비밀번호 | \\n작성자 |  | 별점선택100 점90 점80 점70 점60 점50 점40 점30 점20 점10 점0 점 | 비밀번호 | 비밀번호 | \\n비밀번호 | \\n\\n76644678보이는 도배방지키를 입력하세요. |  |  | 76644678 | 보이는 도배방지키를 입력하세요.\\n |  | 76644678 | 보이는 도배방지키를 입력하세요.\\n\\n\\n교보문고 대구점국민정신문화 향상, 사회교육적 기능을 살린 문화공간을 창출하는 문고패션쇼핑\\r\\n                                                        >쇼핑/유통\\r\\n                                                        >서점 | 교보문고 대구점 | 국민정신문화 향상, 사회교육적 기능을 살린 문화공간을 창출하는 문고패션쇼핑\\r\\n                                                        >쇼핑/유통\\r\\n                                                        >서점\\n교보문고 대구점 | 국민정신문화 향상, 사회교육적 기능을 살린 문화공간을 창출하는 문고패션쇼핑\\r\\n                                                        >쇼핑/유통\\r\\n                                                        >서점\\n\\n |  |  | 연 락 처053-425-3501홈페이지http://www.kyobobook.co.kr/storen/MainStore.laf?SITE=04주소대구광역시 중구 동성로2가 88-25도로명주소대구광역시 중구 국채보상로 586부가정보영업시간매일\\xa0\\r\\n\\t\\t\\t\\t\\t\\t\\t\\t\\t\\t\\t\\t\\tAM 10:00 \\r\\n\\t\\t\\t\\t\\t\\t\\t\\t\\t\\t\\t\\t\\t\\t~ \\r\\n\\t\\t\\t\\t\\t\\t\\t\\t\\t\\t\\t\\t\\t\\tPM 22:00카테고리패션쇼핑\\r\\n                                                    > 쇼핑/유통\\r\\n                                                    > 서점조회수 :866추천수 :0리뷰 :0 | 연 락 처 | 053-425-3501 | 홈페이지 | http://www.kyobobook.co.kr/storen/MainStore.laf?SITE=04 | 주소 | 대구광역시 중구 동성로2가 88-25 | 도로명주소 | 대구광역시 중구 국채보상로 586 | 부가정보 |  | 영업시간 | 매일\\xa0\\r\\n\\t\\t\\t\\t\\t\\t\\t\\t\\t\\t\\t\\t\\tAM 10:00 \\r\\n\\t\\t\\t\\t\\t\\t\\t\\t\\t\\t\\t\\t\\t\\t~ \\r\\n\\t\\t\\t\\t\\t\\t\\t\\t\\t\\t\\t\\t\\t\\tPM 22:00 | 카테고리 | 패션쇼핑\\r\\n                                                    > 쇼핑/유통\\r\\n                                                    > 서점 | 조회수 :866추천수 :0리뷰 :0 |  | 조회수 :866추천수 :0리뷰 :0 |  | 조회수 :866추천수 :0리뷰 :0 | \\n\\n\\n연 락 처 | 053-425-3501\\n홈페이지 | http://www.kyobobook.co.kr/storen/MainStore.laf?SITE=04\\n주소 | 대구광역시 중구 동성로2가 88-25\\n도로명주소 | 대구광역시 중구 국채보상로 586\\n부가정보 | \\n영업시간 | 매일\\xa0\\r\\n\\t\\t\\t\\t\\t\\t\\t\\t\\t\\t\\t\\t\\tAM 10:00 \\r\\n\\t\\t\\t\\t\\t\\t\\t\\t\\t\\t\\t\\t\\t\\t~ \\r\\n\\t\\t\\t\\t\\t\\t\\t\\t\\t\\t\\t\\t\\t\\tPM 22:00\\n카테고리 | 패션쇼핑\\r\\n                                                    > 쇼핑/유통\\r\\n                                                    > 서점\\n조회수 :866추천수 :0리뷰 :0 |  | 조회수 :866추천수 :0리뷰 :0 |  | 조회수 :866추천수 :0리뷰 :0 | \\n | 조회수 :866추천수 :0리뷰 :0 |  | 조회수 :866추천수 :0리뷰 :0 | \\n | 조회수 :866추천수 :0리뷰 :0 | \\n교보문고 대구점 | 국민정신문화 향상, 사회교육적 기능을 살린 문화공간을 창출하는 문고패션쇼핑\\r\\n                                                        >쇼핑/유통\\r\\n                                                        >서점\\n교보문고 대구점\\n\\n\\n\\n연 락 처 | 053-425-3501\\n홈페이지 | http://www.kyobobook.co.kr/storen/MainStore.laf?SITE=04\\n주소 | 대구광역시 중구 동성로2가 88-25\\n도로명주소 | 대구광역시 중구 국채보상로 586\\n부가정보 | \\n영업시간 | 매일\\xa0\\r\\n\\t\\t\\t\\t\\t\\t\\t\\t\\t\\t\\t\\t\\tAM 10:00 \\r\\n\\t\\t\\t\\t\\t\\t\\t\\t\\t\\t\\t\\t\\t\\t~ \\r\\n\\t\\t\\t\\t\\t\\t\\t\\t\\t\\t\\t\\t\\t\\tPM 22:00\\n카테고리 | 패션쇼핑\\r\\n                                                    > 쇼핑/유통\\r\\n                                                    > 서점\\n조회수 :866추천수 :0리뷰 :0 |  | 조회수 :866추천수 :0리뷰 :0 |  | 조회수 :866추천수 :0리뷰 :0 | \\n | 조회수 :866추천수 :0리뷰 :0 |  | 조회수 :866추천수 :0리뷰 :0 | \\n | 조회수 :866추천수 :0리뷰 :0 | \\n | 조회수 :866추천수 :0리뷰 :0 |  | 조회수 :866추천수 :0리뷰 :0 | \\n | 조회수 :866추천수 :0리뷰 :0 | \\n | 조회수 :866추천수 :0리뷰 :0 | \\n\\n\\n\\n\\n등록된 상품정보가 없습니다.등록된 동영상 정보가 없습니다.등록된 정보가 없습니다.1호선(중앙로)1호선(중앙로)2호선(반월당)2호선(반월당)1호선(반월당)1호선(반월당)1호선(대구역)1호선(대구역) |  | \\n\\n\\n\\n\\n\\n\\n\\n\\n\\n\\nCGV대구한일건너 | 간선156\\r,\\r\\r309\\r,\\r\\r323\\r,\\r\\r425\\r,\\r\\r427\\r,\\r\\r521\\r,\\r\\r724\\r,\\r\\r939\\r,\\r\\r980\\nCGV대구한일앞 | 간선106\\r,\\r\\r156\\r,\\r\\r323-1\\r,\\r\\r521\\r,\\r\\r600\\n약령시앞 | 간선106\\r,\\r\\r202\\r,\\r\\r303-1\\r,\\r\\r349\\r,\\r\\r401\\r,\\r\\r410-1\\r,\\r\\r503\\r,\\r\\r518\\r,\\r\\r650\\r,\\r\\r704\\r,\\r\\r706\\r,\\r\\r730\\r,\\r\\r909지선동구1-1\\r,\\r\\r북구2급행급행2\\n경상감영공원건너 | 간선202-1\\r,\\r\\r303\\r,\\r\\r349\\r,\\r\\r401\\r,\\r\\r410\\r,\\r\\r503\\r,\\r\\r623\\r,\\r\\r704\\r,\\r\\r706\\r,\\r\\r730\\r,\\r\\r980지선동구1\\r,\\r\\r가창2\\r,\\r\\r동구2급행급행2\\n2.28기념중앙공원건너1 | 간선508\\r,\\r\\r518\\r,\\r\\r600지선동구1\\r,\\r\\r가창2\\r,\\r\\r북구3급행급행1\\r,\\r\\r급행3\\n약령시건너 | 간선106\\r,\\r\\r202-1\\r,\\r\\r303\\r,\\r\\r349\\r,\\r\\r401\\r,\\r\\r410\\r,\\r\\r503\\r,\\r\\r518\\r,\\r\\r650\\r,\\r\\r704\\r,\\r\\r706\\r,\\r\\r730급행급행2\\n시간대별 유동인구 | 男10대 | 男20대 | 男30대 | 男40대 | 男50대 | 女10대 | 女20대 | 女30대 | 女40대 | 女50대\\n12시~13시까지(주중) | 18명 | 42명 | 68명 | 60명 | 32명 | 16명 | 52명 | 48명 | 32명 | 24명\\n19시~20시까지(주중) | 22명 | 60명 | 102명 | 88명 | 52명 | 22명 | 56명 | 40명 | 30명 | 20명\\n12시~13시까지(주말) | 24명 | 62명 | 50명 | 48명 | 30명 | 18명 | 56명 | 42명 | 24명 | 20명\\n19시~20시까지(주말) | 36명 | 72명 | 88명 | 68명 | 24명 | 32명 | 62명 | 36명 | 20명 | 18명\\n\\n\\n\\n\\n좋은어린이서점 남산점 | 교보문고 대구점 | 모던북\\n | \\n작성자내용점수이용하신 업체의 후기를 자유롭게 적어주세요.(욕설 및 상업적인 광고등은 사전통보없이 삭제됩니다.)작성자별점선택100 점90 점80 점70 점60 점50 점40 점30 점20 점10 점0 점비밀번호76644678보이는 도배방지키를 입력하세요. | 작성자내용점수 | 작성자 | 내용 | 점수 | 이용하신 업체의 후기를 자유롭게 적어주세요.(욕설 및 상업적인 광고등은 사전통보없이 삭제됩니다.)작성자별점선택100 점90 점80 점70 점60 점50 점40 점30 점20 점10 점0 점비밀번호76644678보이는 도배방지키를 입력하세요. |  |  | 이용하신 업체의 후기를 자유롭게 적어주세요.(욕설 및 상업적인 광고등은 사전통보없이 삭제됩니다.) | 작성자별점선택100 점90 점80 점70 점60 점50 점40 점30 점20 점10 점0 점비밀번호 | 작성자 |  | 별점선택100 점90 점80 점70 점60 점50 점40 점30 점20 점10 점0 점 | 비밀번호 | 비밀번호 |  |  | 76644678보이는 도배방지키를 입력하세요. |  |  | 76644678 | 보이는 도배방지키를 입력하세요. |  | \\n작성자내용점수 | 작성자 | 내용 | 점수\\n작성자 | 내용 | 점수\\n이용하신 업체의 후기를 자유롭게 적어주세요.(욕설 및 상업적인 광고등은 사전통보없이 삭제됩니다.)작성자별점선택100 점90 점80 점70 점60 점50 점40 점30 점20 점10 점0 점비밀번호76644678보이는 도배방지키를 입력하세요. |  |  | 이용하신 업체의 후기를 자유롭게 적어주세요.(욕설 및 상업적인 광고등은 사전통보없이 삭제됩니다.) | 작성자별점선택100 점90 점80 점70 점60 점50 점40 점30 점20 점10 점0 점비밀번호 | 작성자 |  | 별점선택100 점90 점80 점70 점60 점50 점40 점30 점20 점10 점0 점 | 비밀번호 | 비밀번호 |  |  | 76644678보이는 도배방지키를 입력하세요. |  |  | 76644678 | 보이는 도배방지키를 입력하세요.\\n | \\n\\n이용하신 업체의 후기를 자유롭게 적어주세요.(욕설 및 상업적인 광고등은 사전통보없이 삭제됩니다.)\\n작성자별점선택100 점90 점80 점70 점60 점50 점40 점30 점20 점10 점0 점비밀번호 | 작성자 |  | 별점선택100 점90 점80 점70 점60 점50 점40 점30 점20 점10 점0 점 | 비밀번호 | 비밀번호 | \\n작성자 |  | 별점선택100 점90 점80 점70 점60 점50 점40 점30 점20 점10 점0 점 | 비밀번호 | 비밀번호 | \\n비밀번호 | \\n\\n76644678보이는 도배방지키를 입력하세요. |  |  | 76644678 | 보이는 도배방지키를 입력하세요.\\n |  | 76644678 | 보이는 도배방지키를 입력하세요.\\n\\n\\n작성자내용점수 | 작성자 | 내용 | 점수\\n작성자 | 내용 | 점수\\n작성자 | 내용 | 점수\\n이용하신 업체의 후기를 자유롭게 적어주세요.(욕설 및 상업적인 광고등은 사전통보없이 삭제됩니다.)작성자별점선택100 점90 점80 점70 점60 점50 점40 점30 점20 점10 점0 점비밀번호76644678보이는 도배방지키를 입력하세요. |  |  | 이용하신 업체의 후기를 자유롭게 적어주세요.(욕설 및 상업적인 광고등은 사전통보없이 삭제됩니다.) | 작성자별점선택100 점90 점80 점70 점60 점50 점40 점30 점20 점10 점0 점비밀번호 | 작성자 |  | 별점선택100 점90 점80 점70 점60 점50 점40 점30 점20 점10 점0 점 | 비밀번호 | 비밀번호 |  |  | 76644678보이는 도배방지키를 입력하세요. |  |  | 76644678 | 보이는 도배방지키를 입력하세요.\\n | \\n\\n이용하신 업체의 후기를 자유롭게 적어주세요.(욕설 및 상업적인 광고등은 사전통보없이 삭제됩니다.)\\n작성자별점선택100 점90 점80 점70 점60 점50 점40 점30 점20 점10 점0 점비밀번호 | 작성자 |  | 별점선택100 점90 점80 점70 점60 점50 점40 점30 점20 점10 점0 점 | 비밀번호 | 비밀번호 | \\n작성자 |  | 별점선택100 점90 점80 점70 점60 점50 점40 점30 점20 점10 점0 점 | 비밀번호 | 비밀번호 | \\n비밀번호 | \\n\\n76644678보이는 도배방지키를 입력하세요. |  |  | 76644678 | 보이는 도배방지키를 입력하세요.\\n |  | 76644678 | 보이는 도배방지키를 입력하세요.\\n\\n\\n | \\n\\n\\n이용하신 업체의 후기를 자유롭게 적어주세요.(욕설 및 상업적인 광고등은 사전통보없이 삭제됩니다.)\\n작성자별점선택100 점90 점80 점70 점60 점50 점40 점30 점20 점10 점0 점비밀번호 | 작성자 |  | 별점선택100 점90 점80 점70 점60 점50 점40 점30 점20 점10 점0 점 | 비밀번호 | 비밀번호 | \\n작성자 |  | 별점선택100 점90 점80 점70 점60 점50 점40 점30 점20 점10 점0 점 | 비밀번호 | 비밀번호 | \\n비밀번호 | \\n\\n76644678보이는 도배방지키를 입력하세요. |  |  | 76644678 | 보이는 도배방지키를 입력하세요.\\n |  | 76644678 | 보이는 도배방지키를 입력하세요.\\n작성자 |  | 별점선택100 점90 점80 점70 점60 점50 점40 점30 점20 점10 점0 점 | 비밀번호 | 비밀번호 | \\n비밀번호 | \\n비밀번호 | \\n |  | 76644678 | 보이는 도배방지키를 입력하세요.\\n로컬뷰는 지역내 업소(기업)정보를 제공하는 온라인 전화번호부 서비스입니다.로컬뷰는 개별업체로 부터 광고비 또는 중계수수료를 받지 않는 무료서비스 입니다Copyright(c) 2010 로컬뷰(LocalView) All Rights Reserved. |  | 로컬뷰는 지역내 업소(기업)정보를 제공하는 온라인 전화번호부 서비스입니다.로컬뷰는 개별업체로 부터 광고비 또는 중계수수료를 받지 않는 무료서비스 입니다Copyright(c) 2010 로컬뷰(LocalView) All Rights Reserved. |  |  |  |  |  |  | 로컬뷰는 지역내 업소(기업)정보를 제공하는 온라인 전화번호부 서비스입니다.로컬뷰는 개별업체로 부터 광고비 또는 중계수수료를 받지 않는 무료서비스 입니다Copyright(c) 2010 로컬뷰(LocalView) All Rights Reserved.\\n | 로컬뷰는 지역내 업소(기업)정보를 제공하는 온라인 전화번호부 서비스입니다.로컬뷰는 개별업체로 부터 광고비 또는 중계수수료를 받지 않는 무료서비스 입니다Copyright(c) 2010 로컬뷰(LocalView) All Rights Reserved. |  |  |  |  |  |  | 로컬뷰는 지역내 업소(기업)정보를 제공하는 온라인 전화번호부 서비스입니다.로컬뷰는 개별업체로 부터 광고비 또는 중계수수료를 받지 않는 무료서비스 입니다Copyright(c) 2010 로컬뷰(LocalView) All Rights Reserved.\\n |  |  |  |  | \\n |  |  |  | \\n로컬뷰는 지역내 업소(기업)정보를 제공하는 온라인 전화번호부 서비스입니다.로컬뷰는 개별업체로 부터 광고비 또는 중계수수료를 받지 않는 무료서비스 입니다Copyright(c) 2010 로컬뷰(LocalView) All Rights Reserved.\\n | 로컬뷰는 지역내 업소(기업)정보를 제공하는 온라인 전화번호부 서비스입니다.로컬뷰는 개별업체로 부터 광고비 또는 중계수수료를 받지 않는 무료서비스 입니다Copyright(c) 2010 로컬뷰(LocalView) All Rights Reserved. |  |  |  |  |  |  | 로컬뷰는 지역내 업소(기업)정보를 제공하는 온라인 전화번호부 서비스입니다.로컬뷰는 개별업체로 부터 광고비 또는 중계수수료를 받지 않는 무료서비스 입니다Copyright(c) 2010 로컬뷰(LocalView) All Rights Reserved.\\n |  |  |  |  | \\n |  |  |  | \\n로컬뷰는 지역내 업소(기업)정보를 제공하는 온라인 전화번호부 서비스입니다.로컬뷰는 개별업체로 부터 광고비 또는 중계수수료를 받지 않는 무료서비스 입니다Copyright(c) 2010 로컬뷰(LocalView) All Rights Reserved.\\n |  |  |  |  | \\n |  |  |  | \\n로컬뷰는 지역내 업소(기업)정보를 제공하는 온라인 전화번호부 서비스입니다.로컬뷰는 개별업체로 부터 광고비 또는 중계수수료를 받지 않는 무료서비스 입니다Copyright(c) 2010 로컬뷰(LocalView) All Rights Reserved.\\n |  |  |  | \\n'}, {'title': '대구 교보문고 대구점 방문 후기 - 네이버 블로그', 'url': 'https://m.blog.naver.com/sh_baekwoon/223359878100', 'content': '대구 교보문고 대구점 방문 후기 : 네이버 블로그 대구 교보문고 대구점 방문 후기 며칠 전 동성로에 다녀오면서 교보문고 대구점도 방문하게 되어서 방문 후기도 포스팅! 대구에는 교보문고 대구점, 교보문고 칠곡점 이렇게 두 군데가 있어요~ 칠곡점은 아직 가보지 못했고 교보문고 대구점은 아이들과 책 구매를 위해 한 번씩 방문해요~ 아이들 키우는 부모들은 책 읽는 게 중요하다고 아이들에게 말하지만 실상은 그 부모들도 한 달에 책 한 권 읽지 않는 사람들이 \\x08상당히 많아요~ 저 또한 책과 친하진 않아요 ㅠㅠ 교보문고 대구점 그래서 도서검색을 할 수 있는 PC가 있는데 사람들도 워낙 많다 보니 사용하기 위해서는 대기를 해야 하지만~ 교보문고 대구점은 검색 PC들이 많이 구비되어 있어서 기다림 없이 검색할 수 있어요~ 혼자서도 필요한 책 잘 검색해요 ㅎ 책 산다고 해서 그냥 그림책 정도인 줄 알았더니 생각보다 글 양이 많더라고요 ㅎ 오랜만에 교보문고 대구점 다녀왔네요~ {\"title\":\"대구 교보문고 대구점 방문 후기\",\"source\":\"https://blog.naver.com/sh_baekwoon/223359878100\",\"blogName\":\"보상의 모..\",\"domainIdOrBlogId\":\"sh_baekwoon\",\"nicknameOrBlogId\":\"권 소장\",\"logNo\":223359878100,\"smartEditorVersion\":4,\"cafeDisplay\":true,\"outsideDisplay\":true,\"lineDisplay\":true,\"blogDisplay\":true,\"meDisplay\":true}', 'score': 0.7795405, 'raw_content': '대구 교보문고 대구점 방문 후기 : 네이버 블로그\\n \\n본문 바로가기\\n블로그\\n카테고리 이동 보상의 모든 것\\n\\n검색 MY메뉴 열기\\n일상\\n대구 교보문고 대구점 방문 후기\\n\\n권 소장\\n2024. 2. 21. 0:00\\n이웃추가\\n본문 기타 기능\\n\\n본문 폰트 크기 조정 본문 폰트 크기 작게 보기 본문 폰트 크기 크게 보기 가\\n\\n공감하기\\n\\n\\n공유하기\\n\\nURL복사\\n신고하기\\n\\n안녕하세요. 권승혁 손해사정사입니다.\\n\\u200b\\n최근 업무 포스팅은 못하고 일상과 맛집들로 점점 도배가 되는 같아요~\\n\\u200b\\n업무보다 일상 포스팅이 쓰는 게 더 재미있네요 ㅎ\\n\\u200b\\n며칠 전 동성로에 다녀오면서 교보문고 대구점도 방문하게 되어서 방문 후기도 포스팅!\\n\\u200b\\n대구에는 교보문고 대구점, 교보문고 칠곡점 이렇게 두 군데가 있어요~ 칠곡점은 아직 가보지 못했고 교보문고 대구점은 아이들과 책 구매를 위해 한 번씩 방문해요~\\n\\u200b\\n\\n\\u200b\\n아이들 키우는 부모들은 책 읽는 게 중요하다고 아이들에게 말하지만 실상은 그 부모들도 한 달에 책 한 권 읽지 않는 사람들이 \\x08상당히 많아요~ 저 또한 책과 친하진 않아요 ㅠㅠ\\n\\u200b\\n그래도 아이들이 책을 많이 읽었으면 하죠!\\n그래서 아이들과 시간을 내서 도서관이나 교보문고에 자주 방문하려고 노력합니다!\\n\\n\\n교보문고 대구점\\n\\n\\n교보문고 대구점대구광역시 중구 국채보상로 586 교보생명 동성로사옥 지하2층~3층\\n이 블로그의 체크인\\n이 장소의 다른 글\\n\\u200b\\n대구 동성로에 위치해 있어서 시내 구경하고 놀다가 부담 없이 다녀오기 좋아요~\\n\\u200b\\nB1층이 핫트랙스가 있어서 더 자주 방문하게 되는 거 같아요~\\n\\u200b\\n저희 딸은 핫트랙스에서 정신을 놓고 구경해요~\\n\\u200b\\n\\n\\n\\n도서 검색\\n\\n교보문고에서 책 찾기가 쉽지가 않죠!?\\n(책이 엄청 많아서 찾기가 힘들어요)\\n\\u200b\\n그래서 도서검색을 할 수 있는 PC가 있는데 사람들도 워낙 많다 보니 사용하기 위해서는 대기를 해야 하지만~ 교보문고 대구점은 검색 PC들이 많이 구비되어 있어서 기다림 없이 검색할 수 있어요~\\n\\u200b\\n우리 딸내미도 검색~~\\n혼자서도 필요한 책 잘 검색해요 ㅎ\\n\\u200b\\n\\n\\n\\n\\n책 구매\\n\\n\\x08도서 검색하게 되면 책 위치를 작은 종이에 프린터 해줘요~ 위치까지 딸아이가 찾을 수 있게 옆에서 도와주고 따라다녔어요 ㅎ\\n\\u200b\\n\\n\\u200b\\n찾는 책을 정확하게 찾아왔어요 ㅎ\\n(대견 대견~)\\n\\u200b\\n\\n\\u200b\\n책 산다고 해서 그냥 그림책 정도인 줄 알았더니 생각보다 글 양이 많더라고요 ㅎ\\n\\u200b\\n얼마 전에 스즈메의 문단속 보더니 재미있다고 일본 애니메이션을 차례대로 보더니 너의 이름은까지!\\n\\u200b\\n\\n\\u200b\\n계산도 자기 용돈으로 계산!!\\n대단하다!! 우리 딸!!!\\n\\u200b\\n셀프 계산기도 있어요!\\n\\u200b\\n\\n\\u200b\\n제가 웹툰으로 재미있게 보고 있는 전지적 독자 시점이 소설책으로 상당히 많이 나왔길래 하나 집어 올려다가 핫트랙스 간다고 끌려 나왔어요 ㅎ\\n\\u200b\\n\\n\\u200b\\n소설 좋아하시면 한번 읽어보세요!\\n저도 조만간 읽어볼 예정이에요~\\n\\n\\n핫트랙스\\n\\n교보문고 B1층은 핫트랙스인데요~\\n\\u200b\\n딸내미는 여기도 그냥 지나칠 수 없다고 영혼 없이 핫트랙스로 빨려 들어가네요 ㅠㅠ\\n\\u200b\\n\\n\\u200b\\n맛있겠다~ 이쁘다~를 연발하시는...\\n(뭐가 그렇게 이쁜지 전 잘 모르겠는데..)\\n\\u200b\\n\\n\\u200b\\n요즘 유행이라고 하는 모루 인형 만들기!\\n\\u200b\\n\\n\\u200b\\n이건 비싸고~ 이러쿵저러쿵 ㅋㅋ\\n동네 아줌마 같은 모습을 봤어요ㅋㅋㅋ\\n\\n\\n마무리\\n\\n오랜만에 교보문고 대구점 다녀왔네요~\\n\\u200b\\n책이란 게 읽으면 좋다는 건 알지만 시간이 없다, 바쁘다는 핑계로 멀리하게 되지만~ 아이들과 시간 내서 한 번씩 보는 것도 힐링 되고 좋은 거 같아요~\\n\\u200b\\n전 안보지만 너희들은 읽어라!! ㅎㅎ\\n(아빠도 책 읽는 모습 많이 보여줄게~)\\n\\u200b\\n\\u200b\\n동성로 간식으로 마무리!\\n\\u200b\\n\\n\\n\\u200b\\n\\n#대구교보문고\\n#교보문고대구점\\n#핫트랙스\\n#교보문고주차\\n\\n\\n공감한 사람 보러가기\\n댓글 25 공유하기\\n{\"title\":\"대구 교보문고 대구점 방문 후기\",\"source\":\"https://blog.naver.com/sh_baekwoon/223359878100\",\"blogName\":\"보상의 모..\",\"domainIdOrBlogId\":\"sh_baekwoon\",\"nicknameOrBlogId\":\"권 소장\",\"logNo\":223359878100,\"smartEditorVersion\":4,\"cafeDisplay\":true,\"outsideDisplay\":true,\"lineDisplay\":true,\"blogDisplay\":true,\"meDisplay\":true}\\n닫기\\n카테고리\\n이 블로그 홈\\n\\n공감한 사람 보러가기\\n댓글 25 공유하기\\n권 소장(sh_baekwoon) 님을 이웃추가하고 새글을 받아보세요\\n취소 이웃추가'}]\n",
      "-------------------\n",
      "\n",
      "-------------------\n",
      "web_results_docs: \n",
      "[Document(metadata={'source': 'https://www.localview.co.kr/store/detail.asp?seq=600977851'}, page_content='국민정신문화 향상, 사회교육적 기능을 살린 문화공간을 창출하는 문고 대구광역시 중구 동성로2가 위치, 영업점, 이벤트, 행사 등 안내, 보유도서 검색 제공. 대구의 중심가 동성로에 있는 교보문고 대구점은 총 면적 1,900평의 넓은 매장과 15만 종 30만 권의 방대한 도서를 바탕으로 대구를 대표하는'), Document(metadata={'source': 'https://m.blog.naver.com/sh_baekwoon/223359878100'}, page_content='대구 교보문고 대구점 방문 후기 : 네이버 블로그 대구 교보문고 대구점 방문 후기 며칠 전 동성로에 다녀오면서 교보문고 대구점도 방문하게 되어서 방문 후기도 포스팅! 대구에는 교보문고 대구점, 교보문고 칠곡점 이렇게 두 군데가 있어요~ 칠곡점은 아직 가보지 못했고 교보문고 대구점은 아이들과 책 구매를 위해 한 번씩 방문해요~ 아이들 키우는 부모들은 책 읽는 게 중요하다고 아이들에게 말하지만 실상은 그 부모들도 한 달에 책 한 권 읽지 않는 사람들이 \\x08상당히 많아요~ 저 또한 책과 친하진 않아요 ㅠㅠ 교보문고 대구점 그래서 도서검색을 할 수 있는 PC가 있는데 사람들도 워낙 많다 보니 사용하기 위해서는 대기를 해야 하지만~ 교보문고 대구점은 검색 PC들이 많이 구비되어 있어서 기다림 없이 검색할 수 있어요~ 혼자서도 필요한 책 잘 검색해요 ㅎ 책 산다고 해서 그냥 그림책 정도인 줄 알았더니 생각보다 글 양이 많더라고요 ㅎ 오랜만에 교보문고 대구점 다녀왔네요~ {\"title\":\"대구 교보문고 대구점 방문 후기\",\"source\":\"https://blog.naver.com/sh_baekwoon/223359878100\",\"blogName\":\"보상의 모..\",\"domainIdOrBlogId\":\"sh_baekwoon\",\"nicknameOrBlogId\":\"권 소장\",\"logNo\":223359878100,\"smartEditorVersion\":4,\"cafeDisplay\":true,\"outsideDisplay\":true,\"lineDisplay\":true,\"blogDisplay\":true,\"meDisplay\":true}')]\n",
      "-------------------\n",
      "\n",
      "==========================================================================================\n",
      "\n",
      "[node_name]: web_search\n",
      "[node_chunk]:\n",
      " {'documents': [Document(metadata={'source': 'https://www.localview.co.kr/store/detail.asp?seq=600977851'}, page_content='국민정신문화 향상, 사회교육적 기능을 살린 문화공간을 창출하는 문고 대구광역시 중구 동성로2가 위치, 영업점, 이벤트, 행사 등 안내, 보유도서 검색 제공. 대구의 중심가 동성로에 있는 교보문고 대구점은 총 면적 1,900평의 넓은 매장과 15만 종 30만 권의 방대한 도서를 바탕으로 대구를 대표하는'), Document(metadata={'source': 'https://m.blog.naver.com/sh_baekwoon/223359878100'}, page_content='대구 교보문고 대구점 방문 후기 : 네이버 블로그 대구 교보문고 대구점 방문 후기 며칠 전 동성로에 다녀오면서 교보문고 대구점도 방문하게 되어서 방문 후기도 포스팅! 대구에는 교보문고 대구점, 교보문고 칠곡점 이렇게 두 군데가 있어요~ 칠곡점은 아직 가보지 못했고 교보문고 대구점은 아이들과 책 구매를 위해 한 번씩 방문해요~ 아이들 키우는 부모들은 책 읽는 게 중요하다고 아이들에게 말하지만 실상은 그 부모들도 한 달에 책 한 권 읽지 않는 사람들이 \\x08상당히 많아요~ 저 또한 책과 친하진 않아요 ㅠㅠ 교보문고 대구점 그래서 도서검색을 할 수 있는 PC가 있는데 사람들도 워낙 많다 보니 사용하기 위해서는 대기를 해야 하지만~ 교보문고 대구점은 검색 PC들이 많이 구비되어 있어서 기다림 없이 검색할 수 있어요~ 혼자서도 필요한 책 잘 검색해요 ㅎ 책 산다고 해서 그냥 그림책 정도인 줄 알았더니 생각보다 글 양이 많더라고요 ㅎ 오랜만에 교보문고 대구점 다녀왔네요~ {\"title\":\"대구 교보문고 대구점 방문 후기\",\"source\":\"https://blog.naver.com/sh_baekwoon/223359878100\",\"blogName\":\"보상의 모..\",\"domainIdOrBlogId\":\"sh_baekwoon\",\"nicknameOrBlogId\":\"권 소장\",\"logNo\":223359878100,\"smartEditorVersion\":4,\"cafeDisplay\":true,\"outsideDisplay\":true,\"lineDisplay\":true,\"blogDisplay\":true,\"meDisplay\":true}')]}\n",
      "\n",
      "==========================================================================================\n",
      "🔄 [Node] 답변 생성 노드 🔄\n",
      "-------------------\n",
      "대구 교보문고 대구점은 총 면적 1,900평이며, 15만 종 30만 권의 방대한 도서를 보유하고 있습니다. \n",
      "\n",
      "**Source**\n",
      "- https://www.localview.co.kr/store/detail.asp?seq=600977851\n",
      "- https://m.blog.naver.com/sh_baekwoon/223359878100\n",
      "-------------------\n",
      "\n",
      "==========================================================================================\n",
      "\n",
      "\n",
      "==========================================================================================\n",
      "🔄 [Node] Hallucination 평가 노드 🔄\n",
      "===== [평가 결과] =====\n",
      "yes\n",
      "\n",
      "===== [DECISION: GENERATION IS GROUNDED IN DOCUMENTS] =====\n",
      "no hallucination\n",
      "\n",
      "===== [GRADE GENERATED ANSWER vs QUESTION] =====\n",
      "\n",
      "==== [DECISION: GENERATED ANSWER ADDRESSES QUESTION] ====\n",
      "relevant\n",
      "\n",
      "==========================================================================================\n",
      "\n",
      "[node_name]: generate\n",
      "[node_chunk]:\n",
      " {'generation': '대구 교보문고 대구점은 총 면적 1,900평이며, 15만 종 30만 권의 방대한 도서를 보유하고 있습니다. \\n\\n**Source**\\n- https://www.localview.co.kr/store/detail.asp?seq=600977851\\n- https://m.blog.naver.com/sh_baekwoon/223359878100'}\n"
     ]
    }
   ],
   "source": [
    "config = RunnableConfig(                        # config 설정\n",
    "    recursion_limit=20,                         # 최대 20개의 노드까지 방문.\n",
    "    configurable={'thread_id': random_uuid()}   # thread_id 설정\n",
    ")\n",
    "\n",
    "inputs = GraphState(question='대구 교보문고')\n",
    "\n",
    "for event in app.stream(inputs, config=config, stream_mode='updates'):\n",
    "    for node_name, node_chunk in event.items():\n",
    "        print('[node_name]:', node_name)\n",
    "        print('[node_chunk]:\\n', node_chunk)"
   ]
  },
  {
   "cell_type": "code",
   "execution_count": 100,
   "metadata": {},
   "outputs": [
    {
     "name": "stdout",
     "output_type": "stream",
     "text": [
      "\n",
      "==========================================================================================\n",
      "🔄 [Node] 질문 라우팅 노드 🔄\n",
      "==== [ROUTE QUESTION TO WEB SEARCH] ====\n",
      "==========================================================================================\n",
      "\n",
      "\n",
      "==========================================================================================\n",
      "🔄 [Node] 웹 검색 노드 🔄\n",
      "-------------------\n",
      "question: \n",
      "대구 교보문고\n",
      "-------------------\n",
      "\n",
      "-------------------\n",
      "web_results: \n",
      "[{'title': '교보문고 대구점 - LocalView', 'url': 'https://www.localview.co.kr/store/detail.asp?seq=600977851', 'content': '국민정신문화 향상, 사회교육적 기능을 살린 문화공간을 창출하는 문고 대구광역시 중구 동성로2가 위치, 영업점, 이벤트, 행사 등 안내, 보유도서 검색 제공. 대구의 중심가 동성로에 있는 교보문고 대구점은 총 면적 1,900평의 넓은 매장과 15만 종 30만 권의 방대한 도서를 바탕으로 대구를 대표하는', 'score': 0.8488849, 'raw_content': ' |  |  |  |  |  |  |  |  | \\n\\n교보문고 대구점국민정신문화 향상, 사회교육적 기능을 살린 문화공간을 창출하는 문고패션쇼핑\\r\\n                                                        >쇼핑/유통\\r\\n                                                        >서점연 락 처053-425-3501홈페이지http://www.kyobobook.co.kr/storen/MainStore.laf?SITE=04주소대구광역시 중구 동성로2가 88-25도로명주소대구광역시 중구 국채보상로 586부가정보영업시간매일\\xa0\\r\\n\\t\\t\\t\\t\\t\\t\\t\\t\\t\\t\\t\\t\\tAM 10:00 \\r\\n\\t\\t\\t\\t\\t\\t\\t\\t\\t\\t\\t\\t\\t\\t~ \\r\\n\\t\\t\\t\\t\\t\\t\\t\\t\\t\\t\\t\\t\\t\\tPM 22:00카테고리패션쇼핑\\r\\n                                                    > 쇼핑/유통\\r\\n                                                    > 서점조회수 :866추천수 :0리뷰 :0국민정신문화 향상, 사회교육적 기능을 살린 문화공간을 창출하는 문고대구광역시 중구 동성로2가 위치, 영업점, 이벤트, 행사 등 안내, 보유도서 검색 제공.대구의 중심가 동성로에 있는 교보문고 대구점은 총 면적 1,900평의 넓은 매장과 15만 종 30만 권의 방대한 도서를 바탕으로 대구를 대표하는 서점이자 열린 문화공간으로 자리 잡고 있으며, 책을 사랑하시는 분들을 위한 북클럽회원 전용 라운지, 어린이 독자들의 만남의 장소 키즈가든, 다채로운 문화행사가 가득한 문화 이벤트홀 등은 독자 여러분께 더 큰 즐거움을 제공해드릴 것입니다.등록된 상품정보가 없습니다.등록된 동영상 정보가 없습니다.등록된 정보가 없습니다.1호선(중앙로)1호선(중앙로)2호선(반월당)2호선(반월당)1호선(반월당)1호선(반월당)1호선(대구역)1호선(대구역)주변버스CGV대구한일건너간선156\\r,\\r\\r309\\r,\\r\\r323\\r,\\r\\r425\\r,\\r\\r427\\r,\\r\\r521\\r,\\r\\r724\\r,\\r\\r939\\r,\\r\\r980CGV대구한일앞간선106\\r,\\r\\r156\\r,\\r\\r323-1\\r,\\r\\r521\\r,\\r\\r600약령시앞간선106\\r,\\r\\r202\\r,\\r\\r303-1\\r,\\r\\r349\\r,\\r\\r401\\r,\\r\\r410-1\\r,\\r\\r503\\r,\\r\\r518\\r,\\r\\r650\\r,\\r\\r704\\r,\\r\\r706\\r,\\r\\r730\\r,\\r\\r909지선동구1-1\\r,\\r\\r북구2급행급행2경상감영공원건너간선202-1\\r,\\r\\r303\\r,\\r\\r349\\r,\\r\\r401\\r,\\r\\r410\\r,\\r\\r503\\r,\\r\\r623\\r,\\r\\r704\\r,\\r\\r706\\r,\\r\\r730\\r,\\r\\r980지선동구1\\r,\\r\\r가창2\\r,\\r\\r동구2급행급행22.28기념중앙공원건너1간선508\\r,\\r\\r518\\r,\\r\\r600지선동구1\\r,\\r\\r가창2\\r,\\r\\r북구3급행급행1\\r,\\r\\r급행3약령시건너간선106\\r,\\r\\r202-1\\r,\\r\\r303\\r,\\r\\r349\\r,\\r\\r401\\r,\\r\\r410\\r,\\r\\r503\\r,\\r\\r518\\r,\\r\\r650\\r,\\r\\r704\\r,\\r\\r706\\r,\\r\\r730급행급행2지역상권시간대별 유동인구男10대男20대男30대男40대男50대女10대女20대女30대女40대女50대12시~13시까지(주중)18명42명68명60명32명16명52명48명32명24명19시~20시까지(주중)22명60명102명88명52명22명56명40명30명20명12시~13시까지(주말)24명62명50명48명30명18명56명42명24명20명19시~20시까지(주말)36명72명88명68명24명32명62명36명20명18명실내뷰등록된 실내 정보가 없습니다.near by좋은어린이서점 남산점교보문고 대구점모던북작성자내용점수이용하신 업체의 후기를 자유롭게 적어주세요.(욕설 및 상업적인 광고등은 사전통보없이 삭제됩니다.)작성자별점선택100 점90 점80 점70 점60 점50 점40 점30 점20 점10 점0 점비밀번호76644678보이는 도배방지키를 입력하세요. | 교보문고 대구점국민정신문화 향상, 사회교육적 기능을 살린 문화공간을 창출하는 문고패션쇼핑\\r\\n                                                        >쇼핑/유통\\r\\n                                                        >서점 | 교보문고 대구점 | 국민정신문화 향상, 사회교육적 기능을 살린 문화공간을 창출하는 문고패션쇼핑\\r\\n                                                        >쇼핑/유통\\r\\n                                                        >서점 |  |  |  |  | 연 락 처053-425-3501홈페이지http://www.kyobobook.co.kr/storen/MainStore.laf?SITE=04주소대구광역시 중구 동성로2가 88-25도로명주소대구광역시 중구 국채보상로 586부가정보영업시간매일\\xa0\\r\\n\\t\\t\\t\\t\\t\\t\\t\\t\\t\\t\\t\\t\\tAM 10:00 \\r\\n\\t\\t\\t\\t\\t\\t\\t\\t\\t\\t\\t\\t\\t\\t~ \\r\\n\\t\\t\\t\\t\\t\\t\\t\\t\\t\\t\\t\\t\\t\\tPM 22:00카테고리패션쇼핑\\r\\n                                                    > 쇼핑/유통\\r\\n                                                    > 서점조회수 :866추천수 :0리뷰 :0 | 연 락 처 | 053-425-3501 | 홈페이지 | http://www.kyobobook.co.kr/storen/MainStore.laf?SITE=04 | 주소 | 대구광역시 중구 동성로2가 88-25 | 도로명주소 | 대구광역시 중구 국채보상로 586 | 부가정보 |  | 영업시간 | 매일\\xa0\\r\\n\\t\\t\\t\\t\\t\\t\\t\\t\\t\\t\\t\\t\\tAM 10:00 \\r\\n\\t\\t\\t\\t\\t\\t\\t\\t\\t\\t\\t\\t\\t\\t~ \\r\\n\\t\\t\\t\\t\\t\\t\\t\\t\\t\\t\\t\\t\\t\\tPM 22:00 | 카테고리 | 패션쇼핑\\r\\n                                                    > 쇼핑/유통\\r\\n                                                    > 서점 | 조회수 :866추천수 :0리뷰 :0 |  | 조회수 :866추천수 :0리뷰 :0 |  | 조회수 :866추천수 :0리뷰 :0 |  | 등록된 상품정보가 없습니다.등록된 동영상 정보가 없습니다.등록된 정보가 없습니다.1호선(중앙로)1호선(중앙로)2호선(반월당)2호선(반월당)1호선(반월당)1호선(반월당)1호선(대구역)1호선(대구역) |  |  | CGV대구한일건너 | 간선156\\r,\\r\\r309\\r,\\r\\r323\\r,\\r\\r425\\r,\\r\\r427\\r,\\r\\r521\\r,\\r\\r724\\r,\\r\\r939\\r,\\r\\r980 | CGV대구한일앞 | 간선106\\r,\\r\\r156\\r,\\r\\r323-1\\r,\\r\\r521\\r,\\r\\r600 | 약령시앞 | 간선106\\r,\\r\\r202\\r,\\r\\r303-1\\r,\\r\\r349\\r,\\r\\r401\\r,\\r\\r410-1\\r,\\r\\r503\\r,\\r\\r518\\r,\\r\\r650\\r,\\r\\r704\\r,\\r\\r706\\r,\\r\\r730\\r,\\r\\r909지선동구1-1\\r,\\r\\r북구2급행급행2 | 경상감영공원건너 | 간선202-1\\r,\\r\\r303\\r,\\r\\r349\\r,\\r\\r401\\r,\\r\\r410\\r,\\r\\r503\\r,\\r\\r623\\r,\\r\\r704\\r,\\r\\r706\\r,\\r\\r730\\r,\\r\\r980지선동구1\\r,\\r\\r가창2\\r,\\r\\r동구2급행급행2 | 2.28기념중앙공원건너1 | 간선508\\r,\\r\\r518\\r,\\r\\r600지선동구1\\r,\\r\\r가창2\\r,\\r\\r북구3급행급행1\\r,\\r\\r급행3 | 약령시건너 | 간선106\\r,\\r\\r202-1\\r,\\r\\r303\\r,\\r\\r349\\r,\\r\\r401\\r,\\r\\r410\\r,\\r\\r503\\r,\\r\\r518\\r,\\r\\r650\\r,\\r\\r704\\r,\\r\\r706\\r,\\r\\r730급행급행2 | 시간대별 유동인구 | 男10대 | 男20대 | 男30대 | 男40대 | 男50대 | 女10대 | 女20대 | 女30대 | 女40대 | 女50대 | 12시~13시까지(주중) | 18명 | 42명 | 68명 | 60명 | 32명 | 16명 | 52명 | 48명 | 32명 | 24명 | 19시~20시까지(주중) | 22명 | 60명 | 102명 | 88명 | 52명 | 22명 | 56명 | 40명 | 30명 | 20명 | 12시~13시까지(주말) | 24명 | 62명 | 50명 | 48명 | 30명 | 18명 | 56명 | 42명 | 24명 | 20명 | 19시~20시까지(주말) | 36명 | 72명 | 88명 | 68명 | 24명 | 32명 | 62명 | 36명 | 20명 | 18명 | 좋은어린이서점 남산점 | 교보문고 대구점 | 모던북 |  |  | 작성자내용점수이용하신 업체의 후기를 자유롭게 적어주세요.(욕설 및 상업적인 광고등은 사전통보없이 삭제됩니다.)작성자별점선택100 점90 점80 점70 점60 점50 점40 점30 점20 점10 점0 점비밀번호76644678보이는 도배방지키를 입력하세요. | 작성자내용점수 | 작성자 | 내용 | 점수 | 이용하신 업체의 후기를 자유롭게 적어주세요.(욕설 및 상업적인 광고등은 사전통보없이 삭제됩니다.)작성자별점선택100 점90 점80 점70 점60 점50 점40 점30 점20 점10 점0 점비밀번호76644678보이는 도배방지키를 입력하세요. |  |  | 이용하신 업체의 후기를 자유롭게 적어주세요.(욕설 및 상업적인 광고등은 사전통보없이 삭제됩니다.) | 작성자별점선택100 점90 점80 점70 점60 점50 점40 점30 점20 점10 점0 점비밀번호 | 작성자 |  | 별점선택100 점90 점80 점70 점60 점50 점40 점30 점20 점10 점0 점 | 비밀번호 | 비밀번호 |  |  | 76644678보이는 도배방지키를 입력하세요. |  |  | 76644678 | 보이는 도배방지키를 입력하세요. |  |  |  | \\n교보문고 대구점국민정신문화 향상, 사회교육적 기능을 살린 문화공간을 창출하는 문고패션쇼핑\\r\\n                                                        >쇼핑/유통\\r\\n                                                        >서점 | 교보문고 대구점 | 국민정신문화 향상, 사회교육적 기능을 살린 문화공간을 창출하는 문고패션쇼핑\\r\\n                                                        >쇼핑/유통\\r\\n                                                        >서점\\n교보문고 대구점 | 국민정신문화 향상, 사회교육적 기능을 살린 문화공간을 창출하는 문고패션쇼핑\\r\\n                                                        >쇼핑/유통\\r\\n                                                        >서점\\n\\n |  |  | 연 락 처053-425-3501홈페이지http://www.kyobobook.co.kr/storen/MainStore.laf?SITE=04주소대구광역시 중구 동성로2가 88-25도로명주소대구광역시 중구 국채보상로 586부가정보영업시간매일\\xa0\\r\\n\\t\\t\\t\\t\\t\\t\\t\\t\\t\\t\\t\\t\\tAM 10:00 \\r\\n\\t\\t\\t\\t\\t\\t\\t\\t\\t\\t\\t\\t\\t\\t~ \\r\\n\\t\\t\\t\\t\\t\\t\\t\\t\\t\\t\\t\\t\\t\\tPM 22:00카테고리패션쇼핑\\r\\n                                                    > 쇼핑/유통\\r\\n                                                    > 서점조회수 :866추천수 :0리뷰 :0 | 연 락 처 | 053-425-3501 | 홈페이지 | http://www.kyobobook.co.kr/storen/MainStore.laf?SITE=04 | 주소 | 대구광역시 중구 동성로2가 88-25 | 도로명주소 | 대구광역시 중구 국채보상로 586 | 부가정보 |  | 영업시간 | 매일\\xa0\\r\\n\\t\\t\\t\\t\\t\\t\\t\\t\\t\\t\\t\\t\\tAM 10:00 \\r\\n\\t\\t\\t\\t\\t\\t\\t\\t\\t\\t\\t\\t\\t\\t~ \\r\\n\\t\\t\\t\\t\\t\\t\\t\\t\\t\\t\\t\\t\\t\\tPM 22:00 | 카테고리 | 패션쇼핑\\r\\n                                                    > 쇼핑/유통\\r\\n                                                    > 서점 | 조회수 :866추천수 :0리뷰 :0 |  | 조회수 :866추천수 :0리뷰 :0 |  | 조회수 :866추천수 :0리뷰 :0 | \\n\\n\\n연 락 처 | 053-425-3501\\n홈페이지 | http://www.kyobobook.co.kr/storen/MainStore.laf?SITE=04\\n주소 | 대구광역시 중구 동성로2가 88-25\\n도로명주소 | 대구광역시 중구 국채보상로 586\\n부가정보 | \\n영업시간 | 매일\\xa0\\r\\n\\t\\t\\t\\t\\t\\t\\t\\t\\t\\t\\t\\t\\tAM 10:00 \\r\\n\\t\\t\\t\\t\\t\\t\\t\\t\\t\\t\\t\\t\\t\\t~ \\r\\n\\t\\t\\t\\t\\t\\t\\t\\t\\t\\t\\t\\t\\t\\tPM 22:00\\n카테고리 | 패션쇼핑\\r\\n                                                    > 쇼핑/유통\\r\\n                                                    > 서점\\n조회수 :866추천수 :0리뷰 :0 |  | 조회수 :866추천수 :0리뷰 :0 |  | 조회수 :866추천수 :0리뷰 :0 | \\n | 조회수 :866추천수 :0리뷰 :0 |  | 조회수 :866추천수 :0리뷰 :0 | \\n | 조회수 :866추천수 :0리뷰 :0 | \\n등록된 상품정보가 없습니다.등록된 동영상 정보가 없습니다.등록된 정보가 없습니다.1호선(중앙로)1호선(중앙로)2호선(반월당)2호선(반월당)1호선(반월당)1호선(반월당)1호선(대구역)1호선(대구역) |  | \\nCGV대구한일건너 | 간선156\\r,\\r\\r309\\r,\\r\\r323\\r,\\r\\r425\\r,\\r\\r427\\r,\\r\\r521\\r,\\r\\r724\\r,\\r\\r939\\r,\\r\\r980\\nCGV대구한일앞 | 간선106\\r,\\r\\r156\\r,\\r\\r323-1\\r,\\r\\r521\\r,\\r\\r600\\n약령시앞 | 간선106\\r,\\r\\r202\\r,\\r\\r303-1\\r,\\r\\r349\\r,\\r\\r401\\r,\\r\\r410-1\\r,\\r\\r503\\r,\\r\\r518\\r,\\r\\r650\\r,\\r\\r704\\r,\\r\\r706\\r,\\r\\r730\\r,\\r\\r909지선동구1-1\\r,\\r\\r북구2급행급행2\\n경상감영공원건너 | 간선202-1\\r,\\r\\r303\\r,\\r\\r349\\r,\\r\\r401\\r,\\r\\r410\\r,\\r\\r503\\r,\\r\\r623\\r,\\r\\r704\\r,\\r\\r706\\r,\\r\\r730\\r,\\r\\r980지선동구1\\r,\\r\\r가창2\\r,\\r\\r동구2급행급행2\\n2.28기념중앙공원건너1 | 간선508\\r,\\r\\r518\\r,\\r\\r600지선동구1\\r,\\r\\r가창2\\r,\\r\\r북구3급행급행1\\r,\\r\\r급행3\\n약령시건너 | 간선106\\r,\\r\\r202-1\\r,\\r\\r303\\r,\\r\\r349\\r,\\r\\r401\\r,\\r\\r410\\r,\\r\\r503\\r,\\r\\r518\\r,\\r\\r650\\r,\\r\\r704\\r,\\r\\r706\\r,\\r\\r730급행급행2\\n시간대별 유동인구 | 男10대 | 男20대 | 男30대 | 男40대 | 男50대 | 女10대 | 女20대 | 女30대 | 女40대 | 女50대\\n12시~13시까지(주중) | 18명 | 42명 | 68명 | 60명 | 32명 | 16명 | 52명 | 48명 | 32명 | 24명\\n19시~20시까지(주중) | 22명 | 60명 | 102명 | 88명 | 52명 | 22명 | 56명 | 40명 | 30명 | 20명\\n12시~13시까지(주말) | 24명 | 62명 | 50명 | 48명 | 30명 | 18명 | 56명 | 42명 | 24명 | 20명\\n19시~20시까지(주말) | 36명 | 72명 | 88명 | 68명 | 24명 | 32명 | 62명 | 36명 | 20명 | 18명\\n좋은어린이서점 남산점 | 교보문고 대구점 | 모던북\\n | \\n작성자내용점수이용하신 업체의 후기를 자유롭게 적어주세요.(욕설 및 상업적인 광고등은 사전통보없이 삭제됩니다.)작성자별점선택100 점90 점80 점70 점60 점50 점40 점30 점20 점10 점0 점비밀번호76644678보이는 도배방지키를 입력하세요. | 작성자내용점수 | 작성자 | 내용 | 점수 | 이용하신 업체의 후기를 자유롭게 적어주세요.(욕설 및 상업적인 광고등은 사전통보없이 삭제됩니다.)작성자별점선택100 점90 점80 점70 점60 점50 점40 점30 점20 점10 점0 점비밀번호76644678보이는 도배방지키를 입력하세요. |  |  | 이용하신 업체의 후기를 자유롭게 적어주세요.(욕설 및 상업적인 광고등은 사전통보없이 삭제됩니다.) | 작성자별점선택100 점90 점80 점70 점60 점50 점40 점30 점20 점10 점0 점비밀번호 | 작성자 |  | 별점선택100 점90 점80 점70 점60 점50 점40 점30 점20 점10 점0 점 | 비밀번호 | 비밀번호 |  |  | 76644678보이는 도배방지키를 입력하세요. |  |  | 76644678 | 보이는 도배방지키를 입력하세요. |  | \\n작성자내용점수 | 작성자 | 내용 | 점수\\n작성자 | 내용 | 점수\\n이용하신 업체의 후기를 자유롭게 적어주세요.(욕설 및 상업적인 광고등은 사전통보없이 삭제됩니다.)작성자별점선택100 점90 점80 점70 점60 점50 점40 점30 점20 점10 점0 점비밀번호76644678보이는 도배방지키를 입력하세요. |  |  | 이용하신 업체의 후기를 자유롭게 적어주세요.(욕설 및 상업적인 광고등은 사전통보없이 삭제됩니다.) | 작성자별점선택100 점90 점80 점70 점60 점50 점40 점30 점20 점10 점0 점비밀번호 | 작성자 |  | 별점선택100 점90 점80 점70 점60 점50 점40 점30 점20 점10 점0 점 | 비밀번호 | 비밀번호 |  |  | 76644678보이는 도배방지키를 입력하세요. |  |  | 76644678 | 보이는 도배방지키를 입력하세요.\\n | \\n\\n이용하신 업체의 후기를 자유롭게 적어주세요.(욕설 및 상업적인 광고등은 사전통보없이 삭제됩니다.)\\n작성자별점선택100 점90 점80 점70 점60 점50 점40 점30 점20 점10 점0 점비밀번호 | 작성자 |  | 별점선택100 점90 점80 점70 점60 점50 점40 점30 점20 점10 점0 점 | 비밀번호 | 비밀번호 | \\n작성자 |  | 별점선택100 점90 점80 점70 점60 점50 점40 점30 점20 점10 점0 점 | 비밀번호 | 비밀번호 | \\n비밀번호 | \\n\\n76644678보이는 도배방지키를 입력하세요. |  |  | 76644678 | 보이는 도배방지키를 입력하세요.\\n |  | 76644678 | 보이는 도배방지키를 입력하세요.\\n\\n\\n교보문고 대구점국민정신문화 향상, 사회교육적 기능을 살린 문화공간을 창출하는 문고패션쇼핑\\r\\n                                                        >쇼핑/유통\\r\\n                                                        >서점 | 교보문고 대구점 | 국민정신문화 향상, 사회교육적 기능을 살린 문화공간을 창출하는 문고패션쇼핑\\r\\n                                                        >쇼핑/유통\\r\\n                                                        >서점\\n교보문고 대구점 | 국민정신문화 향상, 사회교육적 기능을 살린 문화공간을 창출하는 문고패션쇼핑\\r\\n                                                        >쇼핑/유통\\r\\n                                                        >서점\\n\\n |  |  | 연 락 처053-425-3501홈페이지http://www.kyobobook.co.kr/storen/MainStore.laf?SITE=04주소대구광역시 중구 동성로2가 88-25도로명주소대구광역시 중구 국채보상로 586부가정보영업시간매일\\xa0\\r\\n\\t\\t\\t\\t\\t\\t\\t\\t\\t\\t\\t\\t\\tAM 10:00 \\r\\n\\t\\t\\t\\t\\t\\t\\t\\t\\t\\t\\t\\t\\t\\t~ \\r\\n\\t\\t\\t\\t\\t\\t\\t\\t\\t\\t\\t\\t\\t\\tPM 22:00카테고리패션쇼핑\\r\\n                                                    > 쇼핑/유통\\r\\n                                                    > 서점조회수 :866추천수 :0리뷰 :0 | 연 락 처 | 053-425-3501 | 홈페이지 | http://www.kyobobook.co.kr/storen/MainStore.laf?SITE=04 | 주소 | 대구광역시 중구 동성로2가 88-25 | 도로명주소 | 대구광역시 중구 국채보상로 586 | 부가정보 |  | 영업시간 | 매일\\xa0\\r\\n\\t\\t\\t\\t\\t\\t\\t\\t\\t\\t\\t\\t\\tAM 10:00 \\r\\n\\t\\t\\t\\t\\t\\t\\t\\t\\t\\t\\t\\t\\t\\t~ \\r\\n\\t\\t\\t\\t\\t\\t\\t\\t\\t\\t\\t\\t\\t\\tPM 22:00 | 카테고리 | 패션쇼핑\\r\\n                                                    > 쇼핑/유통\\r\\n                                                    > 서점 | 조회수 :866추천수 :0리뷰 :0 |  | 조회수 :866추천수 :0리뷰 :0 |  | 조회수 :866추천수 :0리뷰 :0 | \\n\\n\\n연 락 처 | 053-425-3501\\n홈페이지 | http://www.kyobobook.co.kr/storen/MainStore.laf?SITE=04\\n주소 | 대구광역시 중구 동성로2가 88-25\\n도로명주소 | 대구광역시 중구 국채보상로 586\\n부가정보 | \\n영업시간 | 매일\\xa0\\r\\n\\t\\t\\t\\t\\t\\t\\t\\t\\t\\t\\t\\t\\tAM 10:00 \\r\\n\\t\\t\\t\\t\\t\\t\\t\\t\\t\\t\\t\\t\\t\\t~ \\r\\n\\t\\t\\t\\t\\t\\t\\t\\t\\t\\t\\t\\t\\t\\tPM 22:00\\n카테고리 | 패션쇼핑\\r\\n                                                    > 쇼핑/유통\\r\\n                                                    > 서점\\n조회수 :866추천수 :0리뷰 :0 |  | 조회수 :866추천수 :0리뷰 :0 |  | 조회수 :866추천수 :0리뷰 :0 | \\n | 조회수 :866추천수 :0리뷰 :0 |  | 조회수 :866추천수 :0리뷰 :0 | \\n | 조회수 :866추천수 :0리뷰 :0 | \\n교보문고 대구점 | 국민정신문화 향상, 사회교육적 기능을 살린 문화공간을 창출하는 문고패션쇼핑\\r\\n                                                        >쇼핑/유통\\r\\n                                                        >서점\\n교보문고 대구점\\n\\n\\n\\n연 락 처 | 053-425-3501\\n홈페이지 | http://www.kyobobook.co.kr/storen/MainStore.laf?SITE=04\\n주소 | 대구광역시 중구 동성로2가 88-25\\n도로명주소 | 대구광역시 중구 국채보상로 586\\n부가정보 | \\n영업시간 | 매일\\xa0\\r\\n\\t\\t\\t\\t\\t\\t\\t\\t\\t\\t\\t\\t\\tAM 10:00 \\r\\n\\t\\t\\t\\t\\t\\t\\t\\t\\t\\t\\t\\t\\t\\t~ \\r\\n\\t\\t\\t\\t\\t\\t\\t\\t\\t\\t\\t\\t\\t\\tPM 22:00\\n카테고리 | 패션쇼핑\\r\\n                                                    > 쇼핑/유통\\r\\n                                                    > 서점\\n조회수 :866추천수 :0리뷰 :0 |  | 조회수 :866추천수 :0리뷰 :0 |  | 조회수 :866추천수 :0리뷰 :0 | \\n | 조회수 :866추천수 :0리뷰 :0 |  | 조회수 :866추천수 :0리뷰 :0 | \\n | 조회수 :866추천수 :0리뷰 :0 | \\n | 조회수 :866추천수 :0리뷰 :0 |  | 조회수 :866추천수 :0리뷰 :0 | \\n | 조회수 :866추천수 :0리뷰 :0 | \\n | 조회수 :866추천수 :0리뷰 :0 | \\n\\n\\n\\n\\n등록된 상품정보가 없습니다.등록된 동영상 정보가 없습니다.등록된 정보가 없습니다.1호선(중앙로)1호선(중앙로)2호선(반월당)2호선(반월당)1호선(반월당)1호선(반월당)1호선(대구역)1호선(대구역) |  | \\n\\n\\n\\n\\n\\n\\n\\n\\n\\n\\nCGV대구한일건너 | 간선156\\r,\\r\\r309\\r,\\r\\r323\\r,\\r\\r425\\r,\\r\\r427\\r,\\r\\r521\\r,\\r\\r724\\r,\\r\\r939\\r,\\r\\r980\\nCGV대구한일앞 | 간선106\\r,\\r\\r156\\r,\\r\\r323-1\\r,\\r\\r521\\r,\\r\\r600\\n약령시앞 | 간선106\\r,\\r\\r202\\r,\\r\\r303-1\\r,\\r\\r349\\r,\\r\\r401\\r,\\r\\r410-1\\r,\\r\\r503\\r,\\r\\r518\\r,\\r\\r650\\r,\\r\\r704\\r,\\r\\r706\\r,\\r\\r730\\r,\\r\\r909지선동구1-1\\r,\\r\\r북구2급행급행2\\n경상감영공원건너 | 간선202-1\\r,\\r\\r303\\r,\\r\\r349\\r,\\r\\r401\\r,\\r\\r410\\r,\\r\\r503\\r,\\r\\r623\\r,\\r\\r704\\r,\\r\\r706\\r,\\r\\r730\\r,\\r\\r980지선동구1\\r,\\r\\r가창2\\r,\\r\\r동구2급행급행2\\n2.28기념중앙공원건너1 | 간선508\\r,\\r\\r518\\r,\\r\\r600지선동구1\\r,\\r\\r가창2\\r,\\r\\r북구3급행급행1\\r,\\r\\r급행3\\n약령시건너 | 간선106\\r,\\r\\r202-1\\r,\\r\\r303\\r,\\r\\r349\\r,\\r\\r401\\r,\\r\\r410\\r,\\r\\r503\\r,\\r\\r518\\r,\\r\\r650\\r,\\r\\r704\\r,\\r\\r706\\r,\\r\\r730급행급행2\\n시간대별 유동인구 | 男10대 | 男20대 | 男30대 | 男40대 | 男50대 | 女10대 | 女20대 | 女30대 | 女40대 | 女50대\\n12시~13시까지(주중) | 18명 | 42명 | 68명 | 60명 | 32명 | 16명 | 52명 | 48명 | 32명 | 24명\\n19시~20시까지(주중) | 22명 | 60명 | 102명 | 88명 | 52명 | 22명 | 56명 | 40명 | 30명 | 20명\\n12시~13시까지(주말) | 24명 | 62명 | 50명 | 48명 | 30명 | 18명 | 56명 | 42명 | 24명 | 20명\\n19시~20시까지(주말) | 36명 | 72명 | 88명 | 68명 | 24명 | 32명 | 62명 | 36명 | 20명 | 18명\\n\\n\\n\\n\\n좋은어린이서점 남산점 | 교보문고 대구점 | 모던북\\n | \\n작성자내용점수이용하신 업체의 후기를 자유롭게 적어주세요.(욕설 및 상업적인 광고등은 사전통보없이 삭제됩니다.)작성자별점선택100 점90 점80 점70 점60 점50 점40 점30 점20 점10 점0 점비밀번호76644678보이는 도배방지키를 입력하세요. | 작성자내용점수 | 작성자 | 내용 | 점수 | 이용하신 업체의 후기를 자유롭게 적어주세요.(욕설 및 상업적인 광고등은 사전통보없이 삭제됩니다.)작성자별점선택100 점90 점80 점70 점60 점50 점40 점30 점20 점10 점0 점비밀번호76644678보이는 도배방지키를 입력하세요. |  |  | 이용하신 업체의 후기를 자유롭게 적어주세요.(욕설 및 상업적인 광고등은 사전통보없이 삭제됩니다.) | 작성자별점선택100 점90 점80 점70 점60 점50 점40 점30 점20 점10 점0 점비밀번호 | 작성자 |  | 별점선택100 점90 점80 점70 점60 점50 점40 점30 점20 점10 점0 점 | 비밀번호 | 비밀번호 |  |  | 76644678보이는 도배방지키를 입력하세요. |  |  | 76644678 | 보이는 도배방지키를 입력하세요. |  | \\n작성자내용점수 | 작성자 | 내용 | 점수\\n작성자 | 내용 | 점수\\n이용하신 업체의 후기를 자유롭게 적어주세요.(욕설 및 상업적인 광고등은 사전통보없이 삭제됩니다.)작성자별점선택100 점90 점80 점70 점60 점50 점40 점30 점20 점10 점0 점비밀번호76644678보이는 도배방지키를 입력하세요. |  |  | 이용하신 업체의 후기를 자유롭게 적어주세요.(욕설 및 상업적인 광고등은 사전통보없이 삭제됩니다.) | 작성자별점선택100 점90 점80 점70 점60 점50 점40 점30 점20 점10 점0 점비밀번호 | 작성자 |  | 별점선택100 점90 점80 점70 점60 점50 점40 점30 점20 점10 점0 점 | 비밀번호 | 비밀번호 |  |  | 76644678보이는 도배방지키를 입력하세요. |  |  | 76644678 | 보이는 도배방지키를 입력하세요.\\n | \\n\\n이용하신 업체의 후기를 자유롭게 적어주세요.(욕설 및 상업적인 광고등은 사전통보없이 삭제됩니다.)\\n작성자별점선택100 점90 점80 점70 점60 점50 점40 점30 점20 점10 점0 점비밀번호 | 작성자 |  | 별점선택100 점90 점80 점70 점60 점50 점40 점30 점20 점10 점0 점 | 비밀번호 | 비밀번호 | \\n작성자 |  | 별점선택100 점90 점80 점70 점60 점50 점40 점30 점20 점10 점0 점 | 비밀번호 | 비밀번호 | \\n비밀번호 | \\n\\n76644678보이는 도배방지키를 입력하세요. |  |  | 76644678 | 보이는 도배방지키를 입력하세요.\\n |  | 76644678 | 보이는 도배방지키를 입력하세요.\\n\\n\\n작성자내용점수 | 작성자 | 내용 | 점수\\n작성자 | 내용 | 점수\\n작성자 | 내용 | 점수\\n이용하신 업체의 후기를 자유롭게 적어주세요.(욕설 및 상업적인 광고등은 사전통보없이 삭제됩니다.)작성자별점선택100 점90 점80 점70 점60 점50 점40 점30 점20 점10 점0 점비밀번호76644678보이는 도배방지키를 입력하세요. |  |  | 이용하신 업체의 후기를 자유롭게 적어주세요.(욕설 및 상업적인 광고등은 사전통보없이 삭제됩니다.) | 작성자별점선택100 점90 점80 점70 점60 점50 점40 점30 점20 점10 점0 점비밀번호 | 작성자 |  | 별점선택100 점90 점80 점70 점60 점50 점40 점30 점20 점10 점0 점 | 비밀번호 | 비밀번호 |  |  | 76644678보이는 도배방지키를 입력하세요. |  |  | 76644678 | 보이는 도배방지키를 입력하세요.\\n | \\n\\n이용하신 업체의 후기를 자유롭게 적어주세요.(욕설 및 상업적인 광고등은 사전통보없이 삭제됩니다.)\\n작성자별점선택100 점90 점80 점70 점60 점50 점40 점30 점20 점10 점0 점비밀번호 | 작성자 |  | 별점선택100 점90 점80 점70 점60 점50 점40 점30 점20 점10 점0 점 | 비밀번호 | 비밀번호 | \\n작성자 |  | 별점선택100 점90 점80 점70 점60 점50 점40 점30 점20 점10 점0 점 | 비밀번호 | 비밀번호 | \\n비밀번호 | \\n\\n76644678보이는 도배방지키를 입력하세요. |  |  | 76644678 | 보이는 도배방지키를 입력하세요.\\n |  | 76644678 | 보이는 도배방지키를 입력하세요.\\n\\n\\n | \\n\\n\\n이용하신 업체의 후기를 자유롭게 적어주세요.(욕설 및 상업적인 광고등은 사전통보없이 삭제됩니다.)\\n작성자별점선택100 점90 점80 점70 점60 점50 점40 점30 점20 점10 점0 점비밀번호 | 작성자 |  | 별점선택100 점90 점80 점70 점60 점50 점40 점30 점20 점10 점0 점 | 비밀번호 | 비밀번호 | \\n작성자 |  | 별점선택100 점90 점80 점70 점60 점50 점40 점30 점20 점10 점0 점 | 비밀번호 | 비밀번호 | \\n비밀번호 | \\n\\n76644678보이는 도배방지키를 입력하세요. |  |  | 76644678 | 보이는 도배방지키를 입력하세요.\\n |  | 76644678 | 보이는 도배방지키를 입력하세요.\\n작성자 |  | 별점선택100 점90 점80 점70 점60 점50 점40 점30 점20 점10 점0 점 | 비밀번호 | 비밀번호 | \\n비밀번호 | \\n비밀번호 | \\n |  | 76644678 | 보이는 도배방지키를 입력하세요.\\n로컬뷰는 지역내 업소(기업)정보를 제공하는 온라인 전화번호부 서비스입니다.로컬뷰는 개별업체로 부터 광고비 또는 중계수수료를 받지 않는 무료서비스 입니다Copyright(c) 2010 로컬뷰(LocalView) All Rights Reserved. |  | 로컬뷰는 지역내 업소(기업)정보를 제공하는 온라인 전화번호부 서비스입니다.로컬뷰는 개별업체로 부터 광고비 또는 중계수수료를 받지 않는 무료서비스 입니다Copyright(c) 2010 로컬뷰(LocalView) All Rights Reserved. |  |  |  |  |  |  | 로컬뷰는 지역내 업소(기업)정보를 제공하는 온라인 전화번호부 서비스입니다.로컬뷰는 개별업체로 부터 광고비 또는 중계수수료를 받지 않는 무료서비스 입니다Copyright(c) 2010 로컬뷰(LocalView) All Rights Reserved.\\n | 로컬뷰는 지역내 업소(기업)정보를 제공하는 온라인 전화번호부 서비스입니다.로컬뷰는 개별업체로 부터 광고비 또는 중계수수료를 받지 않는 무료서비스 입니다Copyright(c) 2010 로컬뷰(LocalView) All Rights Reserved. |  |  |  |  |  |  | 로컬뷰는 지역내 업소(기업)정보를 제공하는 온라인 전화번호부 서비스입니다.로컬뷰는 개별업체로 부터 광고비 또는 중계수수료를 받지 않는 무료서비스 입니다Copyright(c) 2010 로컬뷰(LocalView) All Rights Reserved.\\n |  |  |  |  | \\n |  |  |  | \\n로컬뷰는 지역내 업소(기업)정보를 제공하는 온라인 전화번호부 서비스입니다.로컬뷰는 개별업체로 부터 광고비 또는 중계수수료를 받지 않는 무료서비스 입니다Copyright(c) 2010 로컬뷰(LocalView) All Rights Reserved.\\n | 로컬뷰는 지역내 업소(기업)정보를 제공하는 온라인 전화번호부 서비스입니다.로컬뷰는 개별업체로 부터 광고비 또는 중계수수료를 받지 않는 무료서비스 입니다Copyright(c) 2010 로컬뷰(LocalView) All Rights Reserved. |  |  |  |  |  |  | 로컬뷰는 지역내 업소(기업)정보를 제공하는 온라인 전화번호부 서비스입니다.로컬뷰는 개별업체로 부터 광고비 또는 중계수수료를 받지 않는 무료서비스 입니다Copyright(c) 2010 로컬뷰(LocalView) All Rights Reserved.\\n |  |  |  |  | \\n |  |  |  | \\n로컬뷰는 지역내 업소(기업)정보를 제공하는 온라인 전화번호부 서비스입니다.로컬뷰는 개별업체로 부터 광고비 또는 중계수수료를 받지 않는 무료서비스 입니다Copyright(c) 2010 로컬뷰(LocalView) All Rights Reserved.\\n |  |  |  |  | \\n |  |  |  | \\n로컬뷰는 지역내 업소(기업)정보를 제공하는 온라인 전화번호부 서비스입니다.로컬뷰는 개별업체로 부터 광고비 또는 중계수수료를 받지 않는 무료서비스 입니다Copyright(c) 2010 로컬뷰(LocalView) All Rights Reserved.\\n |  |  |  | \\n'}, {'title': '교보문고 대구점 - LocalView', 'url': 'https://www.localview.co.kr/store/detail.asp?seq=600977851', 'content': '국민정신문화 향상, 사회교육적 기능을 살린 문화공간을 창출하는 문고 대구광역시 중구 동성로2가 위치, 영업점, 이벤트, 행사 등 안내, 보유도서 검색 제공. 대구의 중심가 동성로에 있는 교보문고 대구점은 총 면적 1,900평의 넓은 매장과 15만 종 30만 권의 방대한 도서를 바탕으로 대구를 대표하는', 'score': 0.8488849, 'raw_content': ' |  |  |  |  |  |  |  |  | \\n\\n교보문고 대구점국민정신문화 향상, 사회교육적 기능을 살린 문화공간을 창출하는 문고패션쇼핑\\r\\n                                                        >쇼핑/유통\\r\\n                                                        >서점연 락 처053-425-3501홈페이지http://www.kyobobook.co.kr/storen/MainStore.laf?SITE=04주소대구광역시 중구 동성로2가 88-25도로명주소대구광역시 중구 국채보상로 586부가정보영업시간매일\\xa0\\r\\n\\t\\t\\t\\t\\t\\t\\t\\t\\t\\t\\t\\t\\tAM 10:00 \\r\\n\\t\\t\\t\\t\\t\\t\\t\\t\\t\\t\\t\\t\\t\\t~ \\r\\n\\t\\t\\t\\t\\t\\t\\t\\t\\t\\t\\t\\t\\t\\tPM 22:00카테고리패션쇼핑\\r\\n                                                    > 쇼핑/유통\\r\\n                                                    > 서점조회수 :866추천수 :0리뷰 :0국민정신문화 향상, 사회교육적 기능을 살린 문화공간을 창출하는 문고대구광역시 중구 동성로2가 위치, 영업점, 이벤트, 행사 등 안내, 보유도서 검색 제공.대구의 중심가 동성로에 있는 교보문고 대구점은 총 면적 1,900평의 넓은 매장과 15만 종 30만 권의 방대한 도서를 바탕으로 대구를 대표하는 서점이자 열린 문화공간으로 자리 잡고 있으며, 책을 사랑하시는 분들을 위한 북클럽회원 전용 라운지, 어린이 독자들의 만남의 장소 키즈가든, 다채로운 문화행사가 가득한 문화 이벤트홀 등은 독자 여러분께 더 큰 즐거움을 제공해드릴 것입니다.등록된 상품정보가 없습니다.등록된 동영상 정보가 없습니다.등록된 정보가 없습니다.1호선(중앙로)1호선(중앙로)2호선(반월당)2호선(반월당)1호선(반월당)1호선(반월당)1호선(대구역)1호선(대구역)주변버스CGV대구한일건너간선156\\r,\\r\\r309\\r,\\r\\r323\\r,\\r\\r425\\r,\\r\\r427\\r,\\r\\r521\\r,\\r\\r724\\r,\\r\\r939\\r,\\r\\r980CGV대구한일앞간선106\\r,\\r\\r156\\r,\\r\\r323-1\\r,\\r\\r521\\r,\\r\\r600약령시앞간선106\\r,\\r\\r202\\r,\\r\\r303-1\\r,\\r\\r349\\r,\\r\\r401\\r,\\r\\r410-1\\r,\\r\\r503\\r,\\r\\r518\\r,\\r\\r650\\r,\\r\\r704\\r,\\r\\r706\\r,\\r\\r730\\r,\\r\\r909지선동구1-1\\r,\\r\\r북구2급행급행2경상감영공원건너간선202-1\\r,\\r\\r303\\r,\\r\\r349\\r,\\r\\r401\\r,\\r\\r410\\r,\\r\\r503\\r,\\r\\r623\\r,\\r\\r704\\r,\\r\\r706\\r,\\r\\r730\\r,\\r\\r980지선동구1\\r,\\r\\r가창2\\r,\\r\\r동구2급행급행22.28기념중앙공원건너1간선508\\r,\\r\\r518\\r,\\r\\r600지선동구1\\r,\\r\\r가창2\\r,\\r\\r북구3급행급행1\\r,\\r\\r급행3약령시건너간선106\\r,\\r\\r202-1\\r,\\r\\r303\\r,\\r\\r349\\r,\\r\\r401\\r,\\r\\r410\\r,\\r\\r503\\r,\\r\\r518\\r,\\r\\r650\\r,\\r\\r704\\r,\\r\\r706\\r,\\r\\r730급행급행2지역상권시간대별 유동인구男10대男20대男30대男40대男50대女10대女20대女30대女40대女50대12시~13시까지(주중)18명42명68명60명32명16명52명48명32명24명19시~20시까지(주중)22명60명102명88명52명22명56명40명30명20명12시~13시까지(주말)24명62명50명48명30명18명56명42명24명20명19시~20시까지(주말)36명72명88명68명24명32명62명36명20명18명실내뷰등록된 실내 정보가 없습니다.near by좋은어린이서점 남산점교보문고 대구점모던북작성자내용점수이용하신 업체의 후기를 자유롭게 적어주세요.(욕설 및 상업적인 광고등은 사전통보없이 삭제됩니다.)작성자별점선택100 점90 점80 점70 점60 점50 점40 점30 점20 점10 점0 점비밀번호76644678보이는 도배방지키를 입력하세요. | 교보문고 대구점국민정신문화 향상, 사회교육적 기능을 살린 문화공간을 창출하는 문고패션쇼핑\\r\\n                                                        >쇼핑/유통\\r\\n                                                        >서점 | 교보문고 대구점 | 국민정신문화 향상, 사회교육적 기능을 살린 문화공간을 창출하는 문고패션쇼핑\\r\\n                                                        >쇼핑/유통\\r\\n                                                        >서점 |  |  |  |  | 연 락 처053-425-3501홈페이지http://www.kyobobook.co.kr/storen/MainStore.laf?SITE=04주소대구광역시 중구 동성로2가 88-25도로명주소대구광역시 중구 국채보상로 586부가정보영업시간매일\\xa0\\r\\n\\t\\t\\t\\t\\t\\t\\t\\t\\t\\t\\t\\t\\tAM 10:00 \\r\\n\\t\\t\\t\\t\\t\\t\\t\\t\\t\\t\\t\\t\\t\\t~ \\r\\n\\t\\t\\t\\t\\t\\t\\t\\t\\t\\t\\t\\t\\t\\tPM 22:00카테고리패션쇼핑\\r\\n                                                    > 쇼핑/유통\\r\\n                                                    > 서점조회수 :866추천수 :0리뷰 :0 | 연 락 처 | 053-425-3501 | 홈페이지 | http://www.kyobobook.co.kr/storen/MainStore.laf?SITE=04 | 주소 | 대구광역시 중구 동성로2가 88-25 | 도로명주소 | 대구광역시 중구 국채보상로 586 | 부가정보 |  | 영업시간 | 매일\\xa0\\r\\n\\t\\t\\t\\t\\t\\t\\t\\t\\t\\t\\t\\t\\tAM 10:00 \\r\\n\\t\\t\\t\\t\\t\\t\\t\\t\\t\\t\\t\\t\\t\\t~ \\r\\n\\t\\t\\t\\t\\t\\t\\t\\t\\t\\t\\t\\t\\t\\tPM 22:00 | 카테고리 | 패션쇼핑\\r\\n                                                    > 쇼핑/유통\\r\\n                                                    > 서점 | 조회수 :866추천수 :0리뷰 :0 |  | 조회수 :866추천수 :0리뷰 :0 |  | 조회수 :866추천수 :0리뷰 :0 |  | 등록된 상품정보가 없습니다.등록된 동영상 정보가 없습니다.등록된 정보가 없습니다.1호선(중앙로)1호선(중앙로)2호선(반월당)2호선(반월당)1호선(반월당)1호선(반월당)1호선(대구역)1호선(대구역) |  |  | CGV대구한일건너 | 간선156\\r,\\r\\r309\\r,\\r\\r323\\r,\\r\\r425\\r,\\r\\r427\\r,\\r\\r521\\r,\\r\\r724\\r,\\r\\r939\\r,\\r\\r980 | CGV대구한일앞 | 간선106\\r,\\r\\r156\\r,\\r\\r323-1\\r,\\r\\r521\\r,\\r\\r600 | 약령시앞 | 간선106\\r,\\r\\r202\\r,\\r\\r303-1\\r,\\r\\r349\\r,\\r\\r401\\r,\\r\\r410-1\\r,\\r\\r503\\r,\\r\\r518\\r,\\r\\r650\\r,\\r\\r704\\r,\\r\\r706\\r,\\r\\r730\\r,\\r\\r909지선동구1-1\\r,\\r\\r북구2급행급행2 | 경상감영공원건너 | 간선202-1\\r,\\r\\r303\\r,\\r\\r349\\r,\\r\\r401\\r,\\r\\r410\\r,\\r\\r503\\r,\\r\\r623\\r,\\r\\r704\\r,\\r\\r706\\r,\\r\\r730\\r,\\r\\r980지선동구1\\r,\\r\\r가창2\\r,\\r\\r동구2급행급행2 | 2.28기념중앙공원건너1 | 간선508\\r,\\r\\r518\\r,\\r\\r600지선동구1\\r,\\r\\r가창2\\r,\\r\\r북구3급행급행1\\r,\\r\\r급행3 | 약령시건너 | 간선106\\r,\\r\\r202-1\\r,\\r\\r303\\r,\\r\\r349\\r,\\r\\r401\\r,\\r\\r410\\r,\\r\\r503\\r,\\r\\r518\\r,\\r\\r650\\r,\\r\\r704\\r,\\r\\r706\\r,\\r\\r730급행급행2 | 시간대별 유동인구 | 男10대 | 男20대 | 男30대 | 男40대 | 男50대 | 女10대 | 女20대 | 女30대 | 女40대 | 女50대 | 12시~13시까지(주중) | 18명 | 42명 | 68명 | 60명 | 32명 | 16명 | 52명 | 48명 | 32명 | 24명 | 19시~20시까지(주중) | 22명 | 60명 | 102명 | 88명 | 52명 | 22명 | 56명 | 40명 | 30명 | 20명 | 12시~13시까지(주말) | 24명 | 62명 | 50명 | 48명 | 30명 | 18명 | 56명 | 42명 | 24명 | 20명 | 19시~20시까지(주말) | 36명 | 72명 | 88명 | 68명 | 24명 | 32명 | 62명 | 36명 | 20명 | 18명 | 좋은어린이서점 남산점 | 교보문고 대구점 | 모던북 |  |  | 작성자내용점수이용하신 업체의 후기를 자유롭게 적어주세요.(욕설 및 상업적인 광고등은 사전통보없이 삭제됩니다.)작성자별점선택100 점90 점80 점70 점60 점50 점40 점30 점20 점10 점0 점비밀번호76644678보이는 도배방지키를 입력하세요. | 작성자내용점수 | 작성자 | 내용 | 점수 | 이용하신 업체의 후기를 자유롭게 적어주세요.(욕설 및 상업적인 광고등은 사전통보없이 삭제됩니다.)작성자별점선택100 점90 점80 점70 점60 점50 점40 점30 점20 점10 점0 점비밀번호76644678보이는 도배방지키를 입력하세요. |  |  | 이용하신 업체의 후기를 자유롭게 적어주세요.(욕설 및 상업적인 광고등은 사전통보없이 삭제됩니다.) | 작성자별점선택100 점90 점80 점70 점60 점50 점40 점30 점20 점10 점0 점비밀번호 | 작성자 |  | 별점선택100 점90 점80 점70 점60 점50 점40 점30 점20 점10 점0 점 | 비밀번호 | 비밀번호 |  |  | 76644678보이는 도배방지키를 입력하세요. |  |  | 76644678 | 보이는 도배방지키를 입력하세요. |  |  |  | \\n교보문고 대구점국민정신문화 향상, 사회교육적 기능을 살린 문화공간을 창출하는 문고패션쇼핑\\r\\n                                                        >쇼핑/유통\\r\\n                                                        >서점 | 교보문고 대구점 | 국민정신문화 향상, 사회교육적 기능을 살린 문화공간을 창출하는 문고패션쇼핑\\r\\n                                                        >쇼핑/유통\\r\\n                                                        >서점\\n교보문고 대구점 | 국민정신문화 향상, 사회교육적 기능을 살린 문화공간을 창출하는 문고패션쇼핑\\r\\n                                                        >쇼핑/유통\\r\\n                                                        >서점\\n\\n |  |  | 연 락 처053-425-3501홈페이지http://www.kyobobook.co.kr/storen/MainStore.laf?SITE=04주소대구광역시 중구 동성로2가 88-25도로명주소대구광역시 중구 국채보상로 586부가정보영업시간매일\\xa0\\r\\n\\t\\t\\t\\t\\t\\t\\t\\t\\t\\t\\t\\t\\tAM 10:00 \\r\\n\\t\\t\\t\\t\\t\\t\\t\\t\\t\\t\\t\\t\\t\\t~ \\r\\n\\t\\t\\t\\t\\t\\t\\t\\t\\t\\t\\t\\t\\t\\tPM 22:00카테고리패션쇼핑\\r\\n                                                    > 쇼핑/유통\\r\\n                                                    > 서점조회수 :866추천수 :0리뷰 :0 | 연 락 처 | 053-425-3501 | 홈페이지 | http://www.kyobobook.co.kr/storen/MainStore.laf?SITE=04 | 주소 | 대구광역시 중구 동성로2가 88-25 | 도로명주소 | 대구광역시 중구 국채보상로 586 | 부가정보 |  | 영업시간 | 매일\\xa0\\r\\n\\t\\t\\t\\t\\t\\t\\t\\t\\t\\t\\t\\t\\tAM 10:00 \\r\\n\\t\\t\\t\\t\\t\\t\\t\\t\\t\\t\\t\\t\\t\\t~ \\r\\n\\t\\t\\t\\t\\t\\t\\t\\t\\t\\t\\t\\t\\t\\tPM 22:00 | 카테고리 | 패션쇼핑\\r\\n                                                    > 쇼핑/유통\\r\\n                                                    > 서점 | 조회수 :866추천수 :0리뷰 :0 |  | 조회수 :866추천수 :0리뷰 :0 |  | 조회수 :866추천수 :0리뷰 :0 | \\n\\n\\n연 락 처 | 053-425-3501\\n홈페이지 | http://www.kyobobook.co.kr/storen/MainStore.laf?SITE=04\\n주소 | 대구광역시 중구 동성로2가 88-25\\n도로명주소 | 대구광역시 중구 국채보상로 586\\n부가정보 | \\n영업시간 | 매일\\xa0\\r\\n\\t\\t\\t\\t\\t\\t\\t\\t\\t\\t\\t\\t\\tAM 10:00 \\r\\n\\t\\t\\t\\t\\t\\t\\t\\t\\t\\t\\t\\t\\t\\t~ \\r\\n\\t\\t\\t\\t\\t\\t\\t\\t\\t\\t\\t\\t\\t\\tPM 22:00\\n카테고리 | 패션쇼핑\\r\\n                                                    > 쇼핑/유통\\r\\n                                                    > 서점\\n조회수 :866추천수 :0리뷰 :0 |  | 조회수 :866추천수 :0리뷰 :0 |  | 조회수 :866추천수 :0리뷰 :0 | \\n | 조회수 :866추천수 :0리뷰 :0 |  | 조회수 :866추천수 :0리뷰 :0 | \\n | 조회수 :866추천수 :0리뷰 :0 | \\n등록된 상품정보가 없습니다.등록된 동영상 정보가 없습니다.등록된 정보가 없습니다.1호선(중앙로)1호선(중앙로)2호선(반월당)2호선(반월당)1호선(반월당)1호선(반월당)1호선(대구역)1호선(대구역) |  | \\nCGV대구한일건너 | 간선156\\r,\\r\\r309\\r,\\r\\r323\\r,\\r\\r425\\r,\\r\\r427\\r,\\r\\r521\\r,\\r\\r724\\r,\\r\\r939\\r,\\r\\r980\\nCGV대구한일앞 | 간선106\\r,\\r\\r156\\r,\\r\\r323-1\\r,\\r\\r521\\r,\\r\\r600\\n약령시앞 | 간선106\\r,\\r\\r202\\r,\\r\\r303-1\\r,\\r\\r349\\r,\\r\\r401\\r,\\r\\r410-1\\r,\\r\\r503\\r,\\r\\r518\\r,\\r\\r650\\r,\\r\\r704\\r,\\r\\r706\\r,\\r\\r730\\r,\\r\\r909지선동구1-1\\r,\\r\\r북구2급행급행2\\n경상감영공원건너 | 간선202-1\\r,\\r\\r303\\r,\\r\\r349\\r,\\r\\r401\\r,\\r\\r410\\r,\\r\\r503\\r,\\r\\r623\\r,\\r\\r704\\r,\\r\\r706\\r,\\r\\r730\\r,\\r\\r980지선동구1\\r,\\r\\r가창2\\r,\\r\\r동구2급행급행2\\n2.28기념중앙공원건너1 | 간선508\\r,\\r\\r518\\r,\\r\\r600지선동구1\\r,\\r\\r가창2\\r,\\r\\r북구3급행급행1\\r,\\r\\r급행3\\n약령시건너 | 간선106\\r,\\r\\r202-1\\r,\\r\\r303\\r,\\r\\r349\\r,\\r\\r401\\r,\\r\\r410\\r,\\r\\r503\\r,\\r\\r518\\r,\\r\\r650\\r,\\r\\r704\\r,\\r\\r706\\r,\\r\\r730급행급행2\\n시간대별 유동인구 | 男10대 | 男20대 | 男30대 | 男40대 | 男50대 | 女10대 | 女20대 | 女30대 | 女40대 | 女50대\\n12시~13시까지(주중) | 18명 | 42명 | 68명 | 60명 | 32명 | 16명 | 52명 | 48명 | 32명 | 24명\\n19시~20시까지(주중) | 22명 | 60명 | 102명 | 88명 | 52명 | 22명 | 56명 | 40명 | 30명 | 20명\\n12시~13시까지(주말) | 24명 | 62명 | 50명 | 48명 | 30명 | 18명 | 56명 | 42명 | 24명 | 20명\\n19시~20시까지(주말) | 36명 | 72명 | 88명 | 68명 | 24명 | 32명 | 62명 | 36명 | 20명 | 18명\\n좋은어린이서점 남산점 | 교보문고 대구점 | 모던북\\n | \\n작성자내용점수이용하신 업체의 후기를 자유롭게 적어주세요.(욕설 및 상업적인 광고등은 사전통보없이 삭제됩니다.)작성자별점선택100 점90 점80 점70 점60 점50 점40 점30 점20 점10 점0 점비밀번호76644678보이는 도배방지키를 입력하세요. | 작성자내용점수 | 작성자 | 내용 | 점수 | 이용하신 업체의 후기를 자유롭게 적어주세요.(욕설 및 상업적인 광고등은 사전통보없이 삭제됩니다.)작성자별점선택100 점90 점80 점70 점60 점50 점40 점30 점20 점10 점0 점비밀번호76644678보이는 도배방지키를 입력하세요. |  |  | 이용하신 업체의 후기를 자유롭게 적어주세요.(욕설 및 상업적인 광고등은 사전통보없이 삭제됩니다.) | 작성자별점선택100 점90 점80 점70 점60 점50 점40 점30 점20 점10 점0 점비밀번호 | 작성자 |  | 별점선택100 점90 점80 점70 점60 점50 점40 점30 점20 점10 점0 점 | 비밀번호 | 비밀번호 |  |  | 76644678보이는 도배방지키를 입력하세요. |  |  | 76644678 | 보이는 도배방지키를 입력하세요. |  | \\n작성자내용점수 | 작성자 | 내용 | 점수\\n작성자 | 내용 | 점수\\n이용하신 업체의 후기를 자유롭게 적어주세요.(욕설 및 상업적인 광고등은 사전통보없이 삭제됩니다.)작성자별점선택100 점90 점80 점70 점60 점50 점40 점30 점20 점10 점0 점비밀번호76644678보이는 도배방지키를 입력하세요. |  |  | 이용하신 업체의 후기를 자유롭게 적어주세요.(욕설 및 상업적인 광고등은 사전통보없이 삭제됩니다.) | 작성자별점선택100 점90 점80 점70 점60 점50 점40 점30 점20 점10 점0 점비밀번호 | 작성자 |  | 별점선택100 점90 점80 점70 점60 점50 점40 점30 점20 점10 점0 점 | 비밀번호 | 비밀번호 |  |  | 76644678보이는 도배방지키를 입력하세요. |  |  | 76644678 | 보이는 도배방지키를 입력하세요.\\n | \\n\\n이용하신 업체의 후기를 자유롭게 적어주세요.(욕설 및 상업적인 광고등은 사전통보없이 삭제됩니다.)\\n작성자별점선택100 점90 점80 점70 점60 점50 점40 점30 점20 점10 점0 점비밀번호 | 작성자 |  | 별점선택100 점90 점80 점70 점60 점50 점40 점30 점20 점10 점0 점 | 비밀번호 | 비밀번호 | \\n작성자 |  | 별점선택100 점90 점80 점70 점60 점50 점40 점30 점20 점10 점0 점 | 비밀번호 | 비밀번호 | \\n비밀번호 | \\n\\n76644678보이는 도배방지키를 입력하세요. |  |  | 76644678 | 보이는 도배방지키를 입력하세요.\\n |  | 76644678 | 보이는 도배방지키를 입력하세요.\\n\\n\\n교보문고 대구점국민정신문화 향상, 사회교육적 기능을 살린 문화공간을 창출하는 문고패션쇼핑\\r\\n                                                        >쇼핑/유통\\r\\n                                                        >서점 | 교보문고 대구점 | 국민정신문화 향상, 사회교육적 기능을 살린 문화공간을 창출하는 문고패션쇼핑\\r\\n                                                        >쇼핑/유통\\r\\n                                                        >서점\\n교보문고 대구점 | 국민정신문화 향상, 사회교육적 기능을 살린 문화공간을 창출하는 문고패션쇼핑\\r\\n                                                        >쇼핑/유통\\r\\n                                                        >서점\\n\\n |  |  | 연 락 처053-425-3501홈페이지http://www.kyobobook.co.kr/storen/MainStore.laf?SITE=04주소대구광역시 중구 동성로2가 88-25도로명주소대구광역시 중구 국채보상로 586부가정보영업시간매일\\xa0\\r\\n\\t\\t\\t\\t\\t\\t\\t\\t\\t\\t\\t\\t\\tAM 10:00 \\r\\n\\t\\t\\t\\t\\t\\t\\t\\t\\t\\t\\t\\t\\t\\t~ \\r\\n\\t\\t\\t\\t\\t\\t\\t\\t\\t\\t\\t\\t\\t\\tPM 22:00카테고리패션쇼핑\\r\\n                                                    > 쇼핑/유통\\r\\n                                                    > 서점조회수 :866추천수 :0리뷰 :0 | 연 락 처 | 053-425-3501 | 홈페이지 | http://www.kyobobook.co.kr/storen/MainStore.laf?SITE=04 | 주소 | 대구광역시 중구 동성로2가 88-25 | 도로명주소 | 대구광역시 중구 국채보상로 586 | 부가정보 |  | 영업시간 | 매일\\xa0\\r\\n\\t\\t\\t\\t\\t\\t\\t\\t\\t\\t\\t\\t\\tAM 10:00 \\r\\n\\t\\t\\t\\t\\t\\t\\t\\t\\t\\t\\t\\t\\t\\t~ \\r\\n\\t\\t\\t\\t\\t\\t\\t\\t\\t\\t\\t\\t\\t\\tPM 22:00 | 카테고리 | 패션쇼핑\\r\\n                                                    > 쇼핑/유통\\r\\n                                                    > 서점 | 조회수 :866추천수 :0리뷰 :0 |  | 조회수 :866추천수 :0리뷰 :0 |  | 조회수 :866추천수 :0리뷰 :0 | \\n\\n\\n연 락 처 | 053-425-3501\\n홈페이지 | http://www.kyobobook.co.kr/storen/MainStore.laf?SITE=04\\n주소 | 대구광역시 중구 동성로2가 88-25\\n도로명주소 | 대구광역시 중구 국채보상로 586\\n부가정보 | \\n영업시간 | 매일\\xa0\\r\\n\\t\\t\\t\\t\\t\\t\\t\\t\\t\\t\\t\\t\\tAM 10:00 \\r\\n\\t\\t\\t\\t\\t\\t\\t\\t\\t\\t\\t\\t\\t\\t~ \\r\\n\\t\\t\\t\\t\\t\\t\\t\\t\\t\\t\\t\\t\\t\\tPM 22:00\\n카테고리 | 패션쇼핑\\r\\n                                                    > 쇼핑/유통\\r\\n                                                    > 서점\\n조회수 :866추천수 :0리뷰 :0 |  | 조회수 :866추천수 :0리뷰 :0 |  | 조회수 :866추천수 :0리뷰 :0 | \\n | 조회수 :866추천수 :0리뷰 :0 |  | 조회수 :866추천수 :0리뷰 :0 | \\n | 조회수 :866추천수 :0리뷰 :0 | \\n교보문고 대구점 | 국민정신문화 향상, 사회교육적 기능을 살린 문화공간을 창출하는 문고패션쇼핑\\r\\n                                                        >쇼핑/유통\\r\\n                                                        >서점\\n교보문고 대구점\\n\\n\\n\\n연 락 처 | 053-425-3501\\n홈페이지 | http://www.kyobobook.co.kr/storen/MainStore.laf?SITE=04\\n주소 | 대구광역시 중구 동성로2가 88-25\\n도로명주소 | 대구광역시 중구 국채보상로 586\\n부가정보 | \\n영업시간 | 매일\\xa0\\r\\n\\t\\t\\t\\t\\t\\t\\t\\t\\t\\t\\t\\t\\tAM 10:00 \\r\\n\\t\\t\\t\\t\\t\\t\\t\\t\\t\\t\\t\\t\\t\\t~ \\r\\n\\t\\t\\t\\t\\t\\t\\t\\t\\t\\t\\t\\t\\t\\tPM 22:00\\n카테고리 | 패션쇼핑\\r\\n                                                    > 쇼핑/유통\\r\\n                                                    > 서점\\n조회수 :866추천수 :0리뷰 :0 |  | 조회수 :866추천수 :0리뷰 :0 |  | 조회수 :866추천수 :0리뷰 :0 | \\n | 조회수 :866추천수 :0리뷰 :0 |  | 조회수 :866추천수 :0리뷰 :0 | \\n | 조회수 :866추천수 :0리뷰 :0 | \\n | 조회수 :866추천수 :0리뷰 :0 |  | 조회수 :866추천수 :0리뷰 :0 | \\n | 조회수 :866추천수 :0리뷰 :0 | \\n | 조회수 :866추천수 :0리뷰 :0 | \\n\\n\\n\\n\\n등록된 상품정보가 없습니다.등록된 동영상 정보가 없습니다.등록된 정보가 없습니다.1호선(중앙로)1호선(중앙로)2호선(반월당)2호선(반월당)1호선(반월당)1호선(반월당)1호선(대구역)1호선(대구역) |  | \\n\\n\\n\\n\\n\\n\\n\\n\\n\\n\\nCGV대구한일건너 | 간선156\\r,\\r\\r309\\r,\\r\\r323\\r,\\r\\r425\\r,\\r\\r427\\r,\\r\\r521\\r,\\r\\r724\\r,\\r\\r939\\r,\\r\\r980\\nCGV대구한일앞 | 간선106\\r,\\r\\r156\\r,\\r\\r323-1\\r,\\r\\r521\\r,\\r\\r600\\n약령시앞 | 간선106\\r,\\r\\r202\\r,\\r\\r303-1\\r,\\r\\r349\\r,\\r\\r401\\r,\\r\\r410-1\\r,\\r\\r503\\r,\\r\\r518\\r,\\r\\r650\\r,\\r\\r704\\r,\\r\\r706\\r,\\r\\r730\\r,\\r\\r909지선동구1-1\\r,\\r\\r북구2급행급행2\\n경상감영공원건너 | 간선202-1\\r,\\r\\r303\\r,\\r\\r349\\r,\\r\\r401\\r,\\r\\r410\\r,\\r\\r503\\r,\\r\\r623\\r,\\r\\r704\\r,\\r\\r706\\r,\\r\\r730\\r,\\r\\r980지선동구1\\r,\\r\\r가창2\\r,\\r\\r동구2급행급행2\\n2.28기념중앙공원건너1 | 간선508\\r,\\r\\r518\\r,\\r\\r600지선동구1\\r,\\r\\r가창2\\r,\\r\\r북구3급행급행1\\r,\\r\\r급행3\\n약령시건너 | 간선106\\r,\\r\\r202-1\\r,\\r\\r303\\r,\\r\\r349\\r,\\r\\r401\\r,\\r\\r410\\r,\\r\\r503\\r,\\r\\r518\\r,\\r\\r650\\r,\\r\\r704\\r,\\r\\r706\\r,\\r\\r730급행급행2\\n시간대별 유동인구 | 男10대 | 男20대 | 男30대 | 男40대 | 男50대 | 女10대 | 女20대 | 女30대 | 女40대 | 女50대\\n12시~13시까지(주중) | 18명 | 42명 | 68명 | 60명 | 32명 | 16명 | 52명 | 48명 | 32명 | 24명\\n19시~20시까지(주중) | 22명 | 60명 | 102명 | 88명 | 52명 | 22명 | 56명 | 40명 | 30명 | 20명\\n12시~13시까지(주말) | 24명 | 62명 | 50명 | 48명 | 30명 | 18명 | 56명 | 42명 | 24명 | 20명\\n19시~20시까지(주말) | 36명 | 72명 | 88명 | 68명 | 24명 | 32명 | 62명 | 36명 | 20명 | 18명\\n\\n\\n\\n\\n좋은어린이서점 남산점 | 교보문고 대구점 | 모던북\\n | \\n작성자내용점수이용하신 업체의 후기를 자유롭게 적어주세요.(욕설 및 상업적인 광고등은 사전통보없이 삭제됩니다.)작성자별점선택100 점90 점80 점70 점60 점50 점40 점30 점20 점10 점0 점비밀번호76644678보이는 도배방지키를 입력하세요. | 작성자내용점수 | 작성자 | 내용 | 점수 | 이용하신 업체의 후기를 자유롭게 적어주세요.(욕설 및 상업적인 광고등은 사전통보없이 삭제됩니다.)작성자별점선택100 점90 점80 점70 점60 점50 점40 점30 점20 점10 점0 점비밀번호76644678보이는 도배방지키를 입력하세요. |  |  | 이용하신 업체의 후기를 자유롭게 적어주세요.(욕설 및 상업적인 광고등은 사전통보없이 삭제됩니다.) | 작성자별점선택100 점90 점80 점70 점60 점50 점40 점30 점20 점10 점0 점비밀번호 | 작성자 |  | 별점선택100 점90 점80 점70 점60 점50 점40 점30 점20 점10 점0 점 | 비밀번호 | 비밀번호 |  |  | 76644678보이는 도배방지키를 입력하세요. |  |  | 76644678 | 보이는 도배방지키를 입력하세요. |  | \\n작성자내용점수 | 작성자 | 내용 | 점수\\n작성자 | 내용 | 점수\\n이용하신 업체의 후기를 자유롭게 적어주세요.(욕설 및 상업적인 광고등은 사전통보없이 삭제됩니다.)작성자별점선택100 점90 점80 점70 점60 점50 점40 점30 점20 점10 점0 점비밀번호76644678보이는 도배방지키를 입력하세요. |  |  | 이용하신 업체의 후기를 자유롭게 적어주세요.(욕설 및 상업적인 광고등은 사전통보없이 삭제됩니다.) | 작성자별점선택100 점90 점80 점70 점60 점50 점40 점30 점20 점10 점0 점비밀번호 | 작성자 |  | 별점선택100 점90 점80 점70 점60 점50 점40 점30 점20 점10 점0 점 | 비밀번호 | 비밀번호 |  |  | 76644678보이는 도배방지키를 입력하세요. |  |  | 76644678 | 보이는 도배방지키를 입력하세요.\\n | \\n\\n이용하신 업체의 후기를 자유롭게 적어주세요.(욕설 및 상업적인 광고등은 사전통보없이 삭제됩니다.)\\n작성자별점선택100 점90 점80 점70 점60 점50 점40 점30 점20 점10 점0 점비밀번호 | 작성자 |  | 별점선택100 점90 점80 점70 점60 점50 점40 점30 점20 점10 점0 점 | 비밀번호 | 비밀번호 | \\n작성자 |  | 별점선택100 점90 점80 점70 점60 점50 점40 점30 점20 점10 점0 점 | 비밀번호 | 비밀번호 | \\n비밀번호 | \\n\\n76644678보이는 도배방지키를 입력하세요. |  |  | 76644678 | 보이는 도배방지키를 입력하세요.\\n |  | 76644678 | 보이는 도배방지키를 입력하세요.\\n\\n\\n작성자내용점수 | 작성자 | 내용 | 점수\\n작성자 | 내용 | 점수\\n작성자 | 내용 | 점수\\n이용하신 업체의 후기를 자유롭게 적어주세요.(욕설 및 상업적인 광고등은 사전통보없이 삭제됩니다.)작성자별점선택100 점90 점80 점70 점60 점50 점40 점30 점20 점10 점0 점비밀번호76644678보이는 도배방지키를 입력하세요. |  |  | 이용하신 업체의 후기를 자유롭게 적어주세요.(욕설 및 상업적인 광고등은 사전통보없이 삭제됩니다.) | 작성자별점선택100 점90 점80 점70 점60 점50 점40 점30 점20 점10 점0 점비밀번호 | 작성자 |  | 별점선택100 점90 점80 점70 점60 점50 점40 점30 점20 점10 점0 점 | 비밀번호 | 비밀번호 |  |  | 76644678보이는 도배방지키를 입력하세요. |  |  | 76644678 | 보이는 도배방지키를 입력하세요.\\n | \\n\\n이용하신 업체의 후기를 자유롭게 적어주세요.(욕설 및 상업적인 광고등은 사전통보없이 삭제됩니다.)\\n작성자별점선택100 점90 점80 점70 점60 점50 점40 점30 점20 점10 점0 점비밀번호 | 작성자 |  | 별점선택100 점90 점80 점70 점60 점50 점40 점30 점20 점10 점0 점 | 비밀번호 | 비밀번호 | \\n작성자 |  | 별점선택100 점90 점80 점70 점60 점50 점40 점30 점20 점10 점0 점 | 비밀번호 | 비밀번호 | \\n비밀번호 | \\n\\n76644678보이는 도배방지키를 입력하세요. |  |  | 76644678 | 보이는 도배방지키를 입력하세요.\\n |  | 76644678 | 보이는 도배방지키를 입력하세요.\\n\\n\\n | \\n\\n\\n이용하신 업체의 후기를 자유롭게 적어주세요.(욕설 및 상업적인 광고등은 사전통보없이 삭제됩니다.)\\n작성자별점선택100 점90 점80 점70 점60 점50 점40 점30 점20 점10 점0 점비밀번호 | 작성자 |  | 별점선택100 점90 점80 점70 점60 점50 점40 점30 점20 점10 점0 점 | 비밀번호 | 비밀번호 | \\n작성자 |  | 별점선택100 점90 점80 점70 점60 점50 점40 점30 점20 점10 점0 점 | 비밀번호 | 비밀번호 | \\n비밀번호 | \\n\\n76644678보이는 도배방지키를 입력하세요. |  |  | 76644678 | 보이는 도배방지키를 입력하세요.\\n |  | 76644678 | 보이는 도배방지키를 입력하세요.\\n작성자 |  | 별점선택100 점90 점80 점70 점60 점50 점40 점30 점20 점10 점0 점 | 비밀번호 | 비밀번호 | \\n비밀번호 | \\n비밀번호 | \\n |  | 76644678 | 보이는 도배방지키를 입력하세요.\\n로컬뷰는 지역내 업소(기업)정보를 제공하는 온라인 전화번호부 서비스입니다.로컬뷰는 개별업체로 부터 광고비 또는 중계수수료를 받지 않는 무료서비스 입니다Copyright(c) 2010 로컬뷰(LocalView) All Rights Reserved. |  | 로컬뷰는 지역내 업소(기업)정보를 제공하는 온라인 전화번호부 서비스입니다.로컬뷰는 개별업체로 부터 광고비 또는 중계수수료를 받지 않는 무료서비스 입니다Copyright(c) 2010 로컬뷰(LocalView) All Rights Reserved. |  |  |  |  |  |  | 로컬뷰는 지역내 업소(기업)정보를 제공하는 온라인 전화번호부 서비스입니다.로컬뷰는 개별업체로 부터 광고비 또는 중계수수료를 받지 않는 무료서비스 입니다Copyright(c) 2010 로컬뷰(LocalView) All Rights Reserved.\\n | 로컬뷰는 지역내 업소(기업)정보를 제공하는 온라인 전화번호부 서비스입니다.로컬뷰는 개별업체로 부터 광고비 또는 중계수수료를 받지 않는 무료서비스 입니다Copyright(c) 2010 로컬뷰(LocalView) All Rights Reserved. |  |  |  |  |  |  | 로컬뷰는 지역내 업소(기업)정보를 제공하는 온라인 전화번호부 서비스입니다.로컬뷰는 개별업체로 부터 광고비 또는 중계수수료를 받지 않는 무료서비스 입니다Copyright(c) 2010 로컬뷰(LocalView) All Rights Reserved.\\n |  |  |  |  | \\n |  |  |  | \\n로컬뷰는 지역내 업소(기업)정보를 제공하는 온라인 전화번호부 서비스입니다.로컬뷰는 개별업체로 부터 광고비 또는 중계수수료를 받지 않는 무료서비스 입니다Copyright(c) 2010 로컬뷰(LocalView) All Rights Reserved.\\n | 로컬뷰는 지역내 업소(기업)정보를 제공하는 온라인 전화번호부 서비스입니다.로컬뷰는 개별업체로 부터 광고비 또는 중계수수료를 받지 않는 무료서비스 입니다Copyright(c) 2010 로컬뷰(LocalView) All Rights Reserved. |  |  |  |  |  |  | 로컬뷰는 지역내 업소(기업)정보를 제공하는 온라인 전화번호부 서비스입니다.로컬뷰는 개별업체로 부터 광고비 또는 중계수수료를 받지 않는 무료서비스 입니다Copyright(c) 2010 로컬뷰(LocalView) All Rights Reserved.\\n |  |  |  |  | \\n |  |  |  | \\n로컬뷰는 지역내 업소(기업)정보를 제공하는 온라인 전화번호부 서비스입니다.로컬뷰는 개별업체로 부터 광고비 또는 중계수수료를 받지 않는 무료서비스 입니다Copyright(c) 2010 로컬뷰(LocalView) All Rights Reserved.\\n |  |  |  |  | \\n |  |  |  | \\n로컬뷰는 지역내 업소(기업)정보를 제공하는 온라인 전화번호부 서비스입니다.로컬뷰는 개별업체로 부터 광고비 또는 중계수수료를 받지 않는 무료서비스 입니다Copyright(c) 2010 로컬뷰(LocalView) All Rights Reserved.\\n |  |  |  | \\n'}, {'title': '대구 교보문고 대구점 방문 후기 - 네이버 블로그', 'url': 'https://m.blog.naver.com/sh_baekwoon/223359878100', 'content': '대구 교보문고 대구점 방문 후기 : 네이버 블로그 대구 교보문고 대구점 방문 후기 며칠 전 동성로에 다녀오면서 교보문고 대구점도 방문하게 되어서 방문 후기도 포스팅! 대구에는 교보문고 대구점, 교보문고 칠곡점 이렇게 두 군데가 있어요~ 칠곡점은 아직 가보지 못했고 교보문고 대구점은 아이들과 책 구매를 위해 한 번씩 방문해요~ 아이들 키우는 부모들은 책 읽는 게 중요하다고 아이들에게 말하지만 실상은 그 부모들도 한 달에 책 한 권 읽지 않는 사람들이 \\x08상당히 많아요~ 저 또한 책과 친하진 않아요 ㅠㅠ 교보문고 대구점 그래서 도서검색을 할 수 있는 PC가 있는데 사람들도 워낙 많다 보니 사용하기 위해서는 대기를 해야 하지만~ 교보문고 대구점은 검색 PC들이 많이 구비되어 있어서 기다림 없이 검색할 수 있어요~ 혼자서도 필요한 책 잘 검색해요 ㅎ 책 산다고 해서 그냥 그림책 정도인 줄 알았더니 생각보다 글 양이 많더라고요 ㅎ 오랜만에 교보문고 대구점 다녀왔네요~ {\"title\":\"대구 교보문고 대구점 방문 후기\",\"source\":\"https://blog.naver.com/sh_baekwoon/223359878100\",\"blogName\":\"보상의 모..\",\"domainIdOrBlogId\":\"sh_baekwoon\",\"nicknameOrBlogId\":\"권 소장\",\"logNo\":223359878100,\"smartEditorVersion\":4,\"cafeDisplay\":true,\"outsideDisplay\":true,\"lineDisplay\":true,\"blogDisplay\":true,\"meDisplay\":true}', 'score': 0.7795405, 'raw_content': '대구 교보문고 대구점 방문 후기 : 네이버 블로그\\n \\n본문 바로가기\\n블로그\\n카테고리 이동 보상의 모든 것\\n\\n검색 MY메뉴 열기\\n일상\\n대구 교보문고 대구점 방문 후기\\n\\n권 소장\\n2024. 2. 21. 0:00\\n이웃추가\\n본문 기타 기능\\n\\n본문 폰트 크기 조정 본문 폰트 크기 작게 보기 본문 폰트 크기 크게 보기 가\\n\\n공감하기\\n\\n\\n공유하기\\n\\nURL복사\\n신고하기\\n\\n안녕하세요. 권승혁 손해사정사입니다.\\n\\u200b\\n최근 업무 포스팅은 못하고 일상과 맛집들로 점점 도배가 되는 같아요~\\n\\u200b\\n업무보다 일상 포스팅이 쓰는 게 더 재미있네요 ㅎ\\n\\u200b\\n며칠 전 동성로에 다녀오면서 교보문고 대구점도 방문하게 되어서 방문 후기도 포스팅!\\n\\u200b\\n대구에는 교보문고 대구점, 교보문고 칠곡점 이렇게 두 군데가 있어요~ 칠곡점은 아직 가보지 못했고 교보문고 대구점은 아이들과 책 구매를 위해 한 번씩 방문해요~\\n\\u200b\\n\\n\\u200b\\n아이들 키우는 부모들은 책 읽는 게 중요하다고 아이들에게 말하지만 실상은 그 부모들도 한 달에 책 한 권 읽지 않는 사람들이 \\x08상당히 많아요~ 저 또한 책과 친하진 않아요 ㅠㅠ\\n\\u200b\\n그래도 아이들이 책을 많이 읽었으면 하죠!\\n그래서 아이들과 시간을 내서 도서관이나 교보문고에 자주 방문하려고 노력합니다!\\n\\n\\n교보문고 대구점\\n\\n\\n교보문고 대구점대구광역시 중구 국채보상로 586 교보생명 동성로사옥 지하2층~3층\\n이 블로그의 체크인\\n이 장소의 다른 글\\n\\u200b\\n대구 동성로에 위치해 있어서 시내 구경하고 놀다가 부담 없이 다녀오기 좋아요~\\n\\u200b\\nB1층이 핫트랙스가 있어서 더 자주 방문하게 되는 거 같아요~\\n\\u200b\\n저희 딸은 핫트랙스에서 정신을 놓고 구경해요~\\n\\u200b\\n\\n\\n\\n도서 검색\\n\\n교보문고에서 책 찾기가 쉽지가 않죠!?\\n(책이 엄청 많아서 찾기가 힘들어요)\\n\\u200b\\n그래서 도서검색을 할 수 있는 PC가 있는데 사람들도 워낙 많다 보니 사용하기 위해서는 대기를 해야 하지만~ 교보문고 대구점은 검색 PC들이 많이 구비되어 있어서 기다림 없이 검색할 수 있어요~\\n\\u200b\\n우리 딸내미도 검색~~\\n혼자서도 필요한 책 잘 검색해요 ㅎ\\n\\u200b\\n\\n\\n\\n\\n책 구매\\n\\n\\x08도서 검색하게 되면 책 위치를 작은 종이에 프린터 해줘요~ 위치까지 딸아이가 찾을 수 있게 옆에서 도와주고 따라다녔어요 ㅎ\\n\\u200b\\n\\n\\u200b\\n찾는 책을 정확하게 찾아왔어요 ㅎ\\n(대견 대견~)\\n\\u200b\\n\\n\\u200b\\n책 산다고 해서 그냥 그림책 정도인 줄 알았더니 생각보다 글 양이 많더라고요 ㅎ\\n\\u200b\\n얼마 전에 스즈메의 문단속 보더니 재미있다고 일본 애니메이션을 차례대로 보더니 너의 이름은까지!\\n\\u200b\\n\\n\\u200b\\n계산도 자기 용돈으로 계산!!\\n대단하다!! 우리 딸!!!\\n\\u200b\\n셀프 계산기도 있어요!\\n\\u200b\\n\\n\\u200b\\n제가 웹툰으로 재미있게 보고 있는 전지적 독자 시점이 소설책으로 상당히 많이 나왔길래 하나 집어 올려다가 핫트랙스 간다고 끌려 나왔어요 ㅎ\\n\\u200b\\n\\n\\u200b\\n소설 좋아하시면 한번 읽어보세요!\\n저도 조만간 읽어볼 예정이에요~\\n\\n\\n핫트랙스\\n\\n교보문고 B1층은 핫트랙스인데요~\\n\\u200b\\n딸내미는 여기도 그냥 지나칠 수 없다고 영혼 없이 핫트랙스로 빨려 들어가네요 ㅠㅠ\\n\\u200b\\n\\n\\u200b\\n맛있겠다~ 이쁘다~를 연발하시는...\\n(뭐가 그렇게 이쁜지 전 잘 모르겠는데..)\\n\\u200b\\n\\n\\u200b\\n요즘 유행이라고 하는 모루 인형 만들기!\\n\\u200b\\n\\n\\u200b\\n이건 비싸고~ 이러쿵저러쿵 ㅋㅋ\\n동네 아줌마 같은 모습을 봤어요ㅋㅋㅋ\\n\\n\\n마무리\\n\\n오랜만에 교보문고 대구점 다녀왔네요~\\n\\u200b\\n책이란 게 읽으면 좋다는 건 알지만 시간이 없다, 바쁘다는 핑계로 멀리하게 되지만~ 아이들과 시간 내서 한 번씩 보는 것도 힐링 되고 좋은 거 같아요~\\n\\u200b\\n전 안보지만 너희들은 읽어라!! ㅎㅎ\\n(아빠도 책 읽는 모습 많이 보여줄게~)\\n\\u200b\\n\\u200b\\n동성로 간식으로 마무리!\\n\\u200b\\n\\n\\n\\u200b\\n\\n#대구교보문고\\n#교보문고대구점\\n#핫트랙스\\n#교보문고주차\\n\\n\\n공감한 사람 보러가기\\n댓글 25 공유하기\\n{\"title\":\"대구 교보문고 대구점 방문 후기\",\"source\":\"https://blog.naver.com/sh_baekwoon/223359878100\",\"blogName\":\"보상의 모..\",\"domainIdOrBlogId\":\"sh_baekwoon\",\"nicknameOrBlogId\":\"권 소장\",\"logNo\":223359878100,\"smartEditorVersion\":4,\"cafeDisplay\":true,\"outsideDisplay\":true,\"lineDisplay\":true,\"blogDisplay\":true,\"meDisplay\":true}\\n닫기\\n카테고리\\n이 블로그 홈\\n\\n공감한 사람 보러가기\\n댓글 25 공유하기\\n권 소장(sh_baekwoon) 님을 이웃추가하고 새글을 받아보세요\\n취소 이웃추가'}, {'title': '대구 교보문고 대구점 방문 후기 - 네이버 블로그', 'url': 'https://m.blog.naver.com/sh_baekwoon/223359878100', 'content': '대구 교보문고 대구점 방문 후기 : 네이버 블로그 대구 교보문고 대구점 방문 후기 며칠 전 동성로에 다녀오면서 교보문고 대구점도 방문하게 되어서 방문 후기도 포스팅! 대구에는 교보문고 대구점, 교보문고 칠곡점 이렇게 두 군데가 있어요~ 칠곡점은 아직 가보지 못했고 교보문고 대구점은 아이들과 책 구매를 위해 한 번씩 방문해요~ 아이들 키우는 부모들은 책 읽는 게 중요하다고 아이들에게 말하지만 실상은 그 부모들도 한 달에 책 한 권 읽지 않는 사람들이 \\x08상당히 많아요~ 저 또한 책과 친하진 않아요 ㅠㅠ 교보문고 대구점 그래서 도서검색을 할 수 있는 PC가 있는데 사람들도 워낙 많다 보니 사용하기 위해서는 대기를 해야 하지만~ 교보문고 대구점은 검색 PC들이 많이 구비되어 있어서 기다림 없이 검색할 수 있어요~ 혼자서도 필요한 책 잘 검색해요 ㅎ 책 산다고 해서 그냥 그림책 정도인 줄 알았더니 생각보다 글 양이 많더라고요 ㅎ 오랜만에 교보문고 대구점 다녀왔네요~ {\"title\":\"대구 교보문고 대구점 방문 후기\",\"source\":\"https://blog.naver.com/sh_baekwoon/223359878100\",\"blogName\":\"보상의 모..\",\"domainIdOrBlogId\":\"sh_baekwoon\",\"nicknameOrBlogId\":\"권 소장\",\"logNo\":223359878100,\"smartEditorVersion\":4,\"cafeDisplay\":true,\"outsideDisplay\":true,\"lineDisplay\":true,\"blogDisplay\":true,\"meDisplay\":true}', 'score': 0.7795405, 'raw_content': '대구 교보문고 대구점 방문 후기 : 네이버 블로그\\n \\n본문 바로가기\\n블로그\\n카테고리 이동 보상의 모든 것\\n\\n검색 MY메뉴 열기\\n일상\\n대구 교보문고 대구점 방문 후기\\n\\n권 소장\\n2024. 2. 21. 0:00\\n이웃추가\\n본문 기타 기능\\n\\n본문 폰트 크기 조정 본문 폰트 크기 작게 보기 본문 폰트 크기 크게 보기 가\\n\\n공감하기\\n\\n\\n공유하기\\n\\nURL복사\\n신고하기\\n\\n안녕하세요. 권승혁 손해사정사입니다.\\n\\u200b\\n최근 업무 포스팅은 못하고 일상과 맛집들로 점점 도배가 되는 같아요~\\n\\u200b\\n업무보다 일상 포스팅이 쓰는 게 더 재미있네요 ㅎ\\n\\u200b\\n며칠 전 동성로에 다녀오면서 교보문고 대구점도 방문하게 되어서 방문 후기도 포스팅!\\n\\u200b\\n대구에는 교보문고 대구점, 교보문고 칠곡점 이렇게 두 군데가 있어요~ 칠곡점은 아직 가보지 못했고 교보문고 대구점은 아이들과 책 구매를 위해 한 번씩 방문해요~\\n\\u200b\\n\\n\\u200b\\n아이들 키우는 부모들은 책 읽는 게 중요하다고 아이들에게 말하지만 실상은 그 부모들도 한 달에 책 한 권 읽지 않는 사람들이 \\x08상당히 많아요~ 저 또한 책과 친하진 않아요 ㅠㅠ\\n\\u200b\\n그래도 아이들이 책을 많이 읽었으면 하죠!\\n그래서 아이들과 시간을 내서 도서관이나 교보문고에 자주 방문하려고 노력합니다!\\n\\n\\n교보문고 대구점\\n\\n\\n교보문고 대구점대구광역시 중구 국채보상로 586 교보생명 동성로사옥 지하2층~3층\\n이 블로그의 체크인\\n이 장소의 다른 글\\n\\u200b\\n대구 동성로에 위치해 있어서 시내 구경하고 놀다가 부담 없이 다녀오기 좋아요~\\n\\u200b\\nB1층이 핫트랙스가 있어서 더 자주 방문하게 되는 거 같아요~\\n\\u200b\\n저희 딸은 핫트랙스에서 정신을 놓고 구경해요~\\n\\u200b\\n\\n\\n\\n도서 검색\\n\\n교보문고에서 책 찾기가 쉽지가 않죠!?\\n(책이 엄청 많아서 찾기가 힘들어요)\\n\\u200b\\n그래서 도서검색을 할 수 있는 PC가 있는데 사람들도 워낙 많다 보니 사용하기 위해서는 대기를 해야 하지만~ 교보문고 대구점은 검색 PC들이 많이 구비되어 있어서 기다림 없이 검색할 수 있어요~\\n\\u200b\\n우리 딸내미도 검색~~\\n혼자서도 필요한 책 잘 검색해요 ㅎ\\n\\u200b\\n\\n\\n\\n\\n책 구매\\n\\n\\x08도서 검색하게 되면 책 위치를 작은 종이에 프린터 해줘요~ 위치까지 딸아이가 찾을 수 있게 옆에서 도와주고 따라다녔어요 ㅎ\\n\\u200b\\n\\n\\u200b\\n찾는 책을 정확하게 찾아왔어요 ㅎ\\n(대견 대견~)\\n\\u200b\\n\\n\\u200b\\n책 산다고 해서 그냥 그림책 정도인 줄 알았더니 생각보다 글 양이 많더라고요 ㅎ\\n\\u200b\\n얼마 전에 스즈메의 문단속 보더니 재미있다고 일본 애니메이션을 차례대로 보더니 너의 이름은까지!\\n\\u200b\\n\\n\\u200b\\n계산도 자기 용돈으로 계산!!\\n대단하다!! 우리 딸!!!\\n\\u200b\\n셀프 계산기도 있어요!\\n\\u200b\\n\\n\\u200b\\n제가 웹툰으로 재미있게 보고 있는 전지적 독자 시점이 소설책으로 상당히 많이 나왔길래 하나 집어 올려다가 핫트랙스 간다고 끌려 나왔어요 ㅎ\\n\\u200b\\n\\n\\u200b\\n소설 좋아하시면 한번 읽어보세요!\\n저도 조만간 읽어볼 예정이에요~\\n\\n\\n핫트랙스\\n\\n교보문고 B1층은 핫트랙스인데요~\\n\\u200b\\n딸내미는 여기도 그냥 지나칠 수 없다고 영혼 없이 핫트랙스로 빨려 들어가네요 ㅠㅠ\\n\\u200b\\n\\n\\u200b\\n맛있겠다~ 이쁘다~를 연발하시는...\\n(뭐가 그렇게 이쁜지 전 잘 모르겠는데..)\\n\\u200b\\n\\n\\u200b\\n요즘 유행이라고 하는 모루 인형 만들기!\\n\\u200b\\n\\n\\u200b\\n이건 비싸고~ 이러쿵저러쿵 ㅋㅋ\\n동네 아줌마 같은 모습을 봤어요ㅋㅋㅋ\\n\\n\\n마무리\\n\\n오랜만에 교보문고 대구점 다녀왔네요~\\n\\u200b\\n책이란 게 읽으면 좋다는 건 알지만 시간이 없다, 바쁘다는 핑계로 멀리하게 되지만~ 아이들과 시간 내서 한 번씩 보는 것도 힐링 되고 좋은 거 같아요~\\n\\u200b\\n전 안보지만 너희들은 읽어라!! ㅎㅎ\\n(아빠도 책 읽는 모습 많이 보여줄게~)\\n\\u200b\\n\\u200b\\n동성로 간식으로 마무리!\\n\\u200b\\n\\n\\n\\u200b\\n\\n#대구교보문고\\n#교보문고대구점\\n#핫트랙스\\n#교보문고주차\\n\\n\\n공감한 사람 보러가기\\n댓글 25 공유하기\\n{\"title\":\"대구 교보문고 대구점 방문 후기\",\"source\":\"https://blog.naver.com/sh_baekwoon/223359878100\",\"blogName\":\"보상의 모..\",\"domainIdOrBlogId\":\"sh_baekwoon\",\"nicknameOrBlogId\":\"권 소장\",\"logNo\":223359878100,\"smartEditorVersion\":4,\"cafeDisplay\":true,\"outsideDisplay\":true,\"lineDisplay\":true,\"blogDisplay\":true,\"meDisplay\":true}\\n닫기\\n카테고리\\n이 블로그 홈\\n\\n공감한 사람 보러가기\\n댓글 25 공유하기\\n권 소장(sh_baekwoon) 님을 이웃추가하고 새글을 받아보세요\\n취소 이웃추가'}]\n",
      "-------------------\n",
      "\n",
      "-------------------\n",
      "web_results_docs: \n",
      "[Document(metadata={'source': 'https://www.localview.co.kr/store/detail.asp?seq=600977851'}, page_content='국민정신문화 향상, 사회교육적 기능을 살린 문화공간을 창출하는 문고 대구광역시 중구 동성로2가 위치, 영업점, 이벤트, 행사 등 안내, 보유도서 검색 제공. 대구의 중심가 동성로에 있는 교보문고 대구점은 총 면적 1,900평의 넓은 매장과 15만 종 30만 권의 방대한 도서를 바탕으로 대구를 대표하는'), Document(metadata={'source': 'https://www.localview.co.kr/store/detail.asp?seq=600977851'}, page_content='국민정신문화 향상, 사회교육적 기능을 살린 문화공간을 창출하는 문고 대구광역시 중구 동성로2가 위치, 영업점, 이벤트, 행사 등 안내, 보유도서 검색 제공. 대구의 중심가 동성로에 있는 교보문고 대구점은 총 면적 1,900평의 넓은 매장과 15만 종 30만 권의 방대한 도서를 바탕으로 대구를 대표하는'), Document(metadata={'source': 'https://m.blog.naver.com/sh_baekwoon/223359878100'}, page_content='대구 교보문고 대구점 방문 후기 : 네이버 블로그 대구 교보문고 대구점 방문 후기 며칠 전 동성로에 다녀오면서 교보문고 대구점도 방문하게 되어서 방문 후기도 포스팅! 대구에는 교보문고 대구점, 교보문고 칠곡점 이렇게 두 군데가 있어요~ 칠곡점은 아직 가보지 못했고 교보문고 대구점은 아이들과 책 구매를 위해 한 번씩 방문해요~ 아이들 키우는 부모들은 책 읽는 게 중요하다고 아이들에게 말하지만 실상은 그 부모들도 한 달에 책 한 권 읽지 않는 사람들이 \\x08상당히 많아요~ 저 또한 책과 친하진 않아요 ㅠㅠ 교보문고 대구점 그래서 도서검색을 할 수 있는 PC가 있는데 사람들도 워낙 많다 보니 사용하기 위해서는 대기를 해야 하지만~ 교보문고 대구점은 검색 PC들이 많이 구비되어 있어서 기다림 없이 검색할 수 있어요~ 혼자서도 필요한 책 잘 검색해요 ㅎ 책 산다고 해서 그냥 그림책 정도인 줄 알았더니 생각보다 글 양이 많더라고요 ㅎ 오랜만에 교보문고 대구점 다녀왔네요~ {\"title\":\"대구 교보문고 대구점 방문 후기\",\"source\":\"https://blog.naver.com/sh_baekwoon/223359878100\",\"blogName\":\"보상의 모..\",\"domainIdOrBlogId\":\"sh_baekwoon\",\"nicknameOrBlogId\":\"권 소장\",\"logNo\":223359878100,\"smartEditorVersion\":4,\"cafeDisplay\":true,\"outsideDisplay\":true,\"lineDisplay\":true,\"blogDisplay\":true,\"meDisplay\":true}'), Document(metadata={'source': 'https://m.blog.naver.com/sh_baekwoon/223359878100'}, page_content='대구 교보문고 대구점 방문 후기 : 네이버 블로그 대구 교보문고 대구점 방문 후기 며칠 전 동성로에 다녀오면서 교보문고 대구점도 방문하게 되어서 방문 후기도 포스팅! 대구에는 교보문고 대구점, 교보문고 칠곡점 이렇게 두 군데가 있어요~ 칠곡점은 아직 가보지 못했고 교보문고 대구점은 아이들과 책 구매를 위해 한 번씩 방문해요~ 아이들 키우는 부모들은 책 읽는 게 중요하다고 아이들에게 말하지만 실상은 그 부모들도 한 달에 책 한 권 읽지 않는 사람들이 \\x08상당히 많아요~ 저 또한 책과 친하진 않아요 ㅠㅠ 교보문고 대구점 그래서 도서검색을 할 수 있는 PC가 있는데 사람들도 워낙 많다 보니 사용하기 위해서는 대기를 해야 하지만~ 교보문고 대구점은 검색 PC들이 많이 구비되어 있어서 기다림 없이 검색할 수 있어요~ 혼자서도 필요한 책 잘 검색해요 ㅎ 책 산다고 해서 그냥 그림책 정도인 줄 알았더니 생각보다 글 양이 많더라고요 ㅎ 오랜만에 교보문고 대구점 다녀왔네요~ {\"title\":\"대구 교보문고 대구점 방문 후기\",\"source\":\"https://blog.naver.com/sh_baekwoon/223359878100\",\"blogName\":\"보상의 모..\",\"domainIdOrBlogId\":\"sh_baekwoon\",\"nicknameOrBlogId\":\"권 소장\",\"logNo\":223359878100,\"smartEditorVersion\":4,\"cafeDisplay\":true,\"outsideDisplay\":true,\"lineDisplay\":true,\"blogDisplay\":true,\"meDisplay\":true}')]\n",
      "-------------------\n",
      "\n",
      "==========================================================================================\n",
      "\n",
      "===== for 시작 1 =====\n",
      "== for 시작 1 - 1 ==\n",
      "state_key : web_search\n",
      "state_value: \n",
      " {'documents': [Document(metadata={'source': 'https://www.localview.co.kr/store/detail.asp?seq=600977851'}, page_content='국민정신문화 향상, 사회교육적 기능을 살린 문화공간을 창출하는 문고 대구광역시 중구 동성로2가 위치, 영업점, 이벤트, 행사 등 안내, 보유도서 검색 제공. 대구의 중심가 동성로에 있는 교보문고 대구점은 총 면적 1,900평의 넓은 매장과 15만 종 30만 권의 방대한 도서를 바탕으로 대구를 대표하는'), Document(metadata={'source': 'https://www.localview.co.kr/store/detail.asp?seq=600977851'}, page_content='국민정신문화 향상, 사회교육적 기능을 살린 문화공간을 창출하는 문고 대구광역시 중구 동성로2가 위치, 영업점, 이벤트, 행사 등 안내, 보유도서 검색 제공. 대구의 중심가 동성로에 있는 교보문고 대구점은 총 면적 1,900평의 넓은 매장과 15만 종 30만 권의 방대한 도서를 바탕으로 대구를 대표하는'), Document(metadata={'source': 'https://m.blog.naver.com/sh_baekwoon/223359878100'}, page_content='대구 교보문고 대구점 방문 후기 : 네이버 블로그 대구 교보문고 대구점 방문 후기 며칠 전 동성로에 다녀오면서 교보문고 대구점도 방문하게 되어서 방문 후기도 포스팅! 대구에는 교보문고 대구점, 교보문고 칠곡점 이렇게 두 군데가 있어요~ 칠곡점은 아직 가보지 못했고 교보문고 대구점은 아이들과 책 구매를 위해 한 번씩 방문해요~ 아이들 키우는 부모들은 책 읽는 게 중요하다고 아이들에게 말하지만 실상은 그 부모들도 한 달에 책 한 권 읽지 않는 사람들이 \\x08상당히 많아요~ 저 또한 책과 친하진 않아요 ㅠㅠ 교보문고 대구점 그래서 도서검색을 할 수 있는 PC가 있는데 사람들도 워낙 많다 보니 사용하기 위해서는 대기를 해야 하지만~ 교보문고 대구점은 검색 PC들이 많이 구비되어 있어서 기다림 없이 검색할 수 있어요~ 혼자서도 필요한 책 잘 검색해요 ㅎ 책 산다고 해서 그냥 그림책 정도인 줄 알았더니 생각보다 글 양이 많더라고요 ㅎ 오랜만에 교보문고 대구점 다녀왔네요~ {\"title\":\"대구 교보문고 대구점 방문 후기\",\"source\":\"https://blog.naver.com/sh_baekwoon/223359878100\",\"blogName\":\"보상의 모..\",\"domainIdOrBlogId\":\"sh_baekwoon\",\"nicknameOrBlogId\":\"권 소장\",\"logNo\":223359878100,\"smartEditorVersion\":4,\"cafeDisplay\":true,\"outsideDisplay\":true,\"lineDisplay\":true,\"blogDisplay\":true,\"meDisplay\":true}'), Document(metadata={'source': 'https://m.blog.naver.com/sh_baekwoon/223359878100'}, page_content='대구 교보문고 대구점 방문 후기 : 네이버 블로그 대구 교보문고 대구점 방문 후기 며칠 전 동성로에 다녀오면서 교보문고 대구점도 방문하게 되어서 방문 후기도 포스팅! 대구에는 교보문고 대구점, 교보문고 칠곡점 이렇게 두 군데가 있어요~ 칠곡점은 아직 가보지 못했고 교보문고 대구점은 아이들과 책 구매를 위해 한 번씩 방문해요~ 아이들 키우는 부모들은 책 읽는 게 중요하다고 아이들에게 말하지만 실상은 그 부모들도 한 달에 책 한 권 읽지 않는 사람들이 \\x08상당히 많아요~ 저 또한 책과 친하진 않아요 ㅠㅠ 교보문고 대구점 그래서 도서검색을 할 수 있는 PC가 있는데 사람들도 워낙 많다 보니 사용하기 위해서는 대기를 해야 하지만~ 교보문고 대구점은 검색 PC들이 많이 구비되어 있어서 기다림 없이 검색할 수 있어요~ 혼자서도 필요한 책 잘 검색해요 ㅎ 책 산다고 해서 그냥 그림책 정도인 줄 알았더니 생각보다 글 양이 많더라고요 ㅎ 오랜만에 교보문고 대구점 다녀왔네요~ {\"title\":\"대구 교보문고 대구점 방문 후기\",\"source\":\"https://blog.naver.com/sh_baekwoon/223359878100\",\"blogName\":\"보상의 모..\",\"domainIdOrBlogId\":\"sh_baekwoon\",\"nicknameOrBlogId\":\"권 소장\",\"logNo\":223359878100,\"smartEditorVersion\":4,\"cafeDisplay\":true,\"outsideDisplay\":true,\"lineDisplay\":true,\"blogDisplay\":true,\"meDisplay\":true}')]}\n",
      "== for  끝 1 - 1==\n",
      "===== for 끝 1 =====\n",
      "\n",
      "==========================================================================================\n",
      "🔄 [Node] 답변 생성 노드 🔄\n",
      "-------------------\n",
      "교보문고 대구점은 대구광역시 중구 동성로2가에 위치하며, 총 면적은 1,900평이고, 15만 종 30만 권의 도서를 보유하고 있습니다.\n",
      "\n",
      "**Source**\n",
      "- https://www.localview.co.kr/store/detail.asp?seq=600977851\n",
      "- https://m.blog.naver.com/sh_baekwoon/223359878100\n",
      "-------------------\n",
      "\n",
      "==========================================================================================\n",
      "\n",
      "\n",
      "==========================================================================================\n",
      "🔄 [Node] Hallucination 평가 노드 🔄\n",
      "===== [평가 결과] =====\n",
      "yes\n",
      "\n",
      "===== [DECISION: GENERATION IS GROUNDED IN DOCUMENTS] =====\n",
      "no hallucination\n",
      "\n",
      "===== [GRADE GENERATED ANSWER vs QUESTION] =====\n",
      "\n",
      "==== [DECISION: GENERATED ANSWER ADDRESSES QUESTION] ====\n",
      "relevant\n",
      "\n",
      "==========================================================================================\n",
      "\n",
      "===== for 시작 2 =====\n",
      "== for 시작 2 - 1 ==\n",
      "state_key : generate\n",
      "state_value: \n",
      " {'generation': '교보문고 대구점은 대구광역시 중구 동성로2가에 위치하며, 총 면적은 1,900평이고, 15만 종 30만 권의 도서를 보유하고 있습니다.\\n\\n**Source**\\n- https://www.localview.co.kr/store/detail.asp?seq=600977851\\n- https://m.blog.naver.com/sh_baekwoon/223359878100'}\n",
      "== for  끝 2 - 1==\n",
      "===== for 끝 2 =====\n"
     ]
    }
   ],
   "source": [
    "config = RunnableConfig(                        # config 설정\n",
    "    recursion_limit=20,                         # 최대 20개의 노드까지 방문.\n",
    "    configurable={'thread_id': random_uuid()}   # thread_id 설정\n",
    ")\n",
    "\n",
    "inputs = GraphState(question='대구 교보문고')\n",
    "\n",
    "i = 1\n",
    "\n",
    "for chunk in app.stream(inputs, config=config, stream_mode=\"updates\"):\n",
    "    print(f\"===== for 시작 {i} =====\")\n",
    "\n",
    "    j = 1\n",
    "\n",
    "    # chunk 는 dictionary 형태(key: State 의 key, value: State 의 value)\n",
    "    for state_key, state_value in chunk.items():\n",
    "        print(f\"== for 시작 {i} - {j} ==\")\n",
    "        print(f\"state_key : {state_key }\")\n",
    "        print(f\"state_value: \\n {state_value}\")\n",
    "        print(f\"== for  끝 {i} - {j}==\")\n",
    "\n",
    "        j=j+1\n",
    "    \n",
    "    print(f\"===== for 끝 {i} =====\")\n",
    "    i=i+1"
   ]
  },
  {
   "cell_type": "code",
   "execution_count": 101,
   "metadata": {},
   "outputs": [
    {
     "name": "stdout",
     "output_type": "stream",
     "text": [
      "\n",
      "==========================================================================================\n",
      "🔄 [Node] 질문 라우팅 노드 🔄\n",
      "==== [ROUTE QUESTION TO VECTORSTORE] ====\n",
      "==========================================================================================\n",
      "\n",
      "\n",
      "==========================================================================================\n",
      "🔄 [Node] 문서 검색 노드 🔄\n",
      "-------------------\n",
      "[Document(id='c1407987-c24e-4f7b-9a9d-af8f87ee6bc0', metadata={'source': 'data/SPRI_AI_Brief_2023년12월호_F.pdf', 'file_path': 'data/SPRI_AI_Brief_2023년12월호_F.pdf', 'page': 1, 'total_pages': 23, 'Author': 'dj', 'Creator': 'Hwp 2018 10.0.0.13462', 'Producer': 'Hancom PDF 1.3.0.542', 'CreationDate': \"D:20231208132838+09'00'\", 'ModDate': \"D:20231208132838+09'00'\", 'PDFVersion': '1.4'}, page_content='▹ 삼성전자, 자체 개발 생성 AI ‘삼성 가우스’ 공개 ···························································10\\n▹ 구글, 앤스로픽에 20억 달러 투자로 생성 AI 협력 강화 ················································11\\n▹ IDC, 2027년 AI 소프트웨어 매출 2,500억 달러 돌파 전망···········································12'), Document(id='9d1c9684-6dd4-4f87-b719-b0cf7c8c4679', metadata={'source': 'data/SPRI_AI_Brief_2023년12월호_F.pdf', 'file_path': 'data/SPRI_AI_Brief_2023년12월호_F.pdf', 'page': 12, 'total_pages': 23, 'Author': 'dj', 'Creator': 'Hwp 2018 10.0.0.13462', 'Producer': 'Hancom PDF 1.3.0.542', 'CreationDate': \"D:20231208132838+09'00'\", 'ModDate': \"D:20231208132838+09'00'\", 'PDFVersion': '1.4'}, page_content='SPRi AI Brief |\\n2023-12월호\\n삼성전자, 자체 개발 생성 AI ‘삼성 가우스’ 공개\\nKEY Contents\\nn 삼성전자가 온디바이스에서 작동 가능하며 언어, 코드, 이미지의 3개 모델로 구성된 자체 개발 생성\\nAI 모델 ‘삼성 가우스’를 공개\\nn 삼성전자는 삼성 가우스를 다양한 제품에 단계적으로 탑재할 계획으로, 온디바이스 작동이 가능한\\n삼성 가우스는 외부로 사용자 정보가 유출될 위험이 없다는 장점을 보유\\n£언어, 코드, 이미지의 3개 모델로 구성된 삼성 가우스, 온디바이스 작동 지원'), Document(id='b9ed246b-2d76-4e6c-b1c4-df10d228f9df', metadata={'source': 'data/SPRI_AI_Brief_2023년12월호_F.pdf', 'file_path': 'data/SPRI_AI_Brief_2023년12월호_F.pdf', 'page': 12, 'total_pages': 23, 'Author': 'dj', 'Creator': 'Hwp 2018 10.0.0.13462', 'Producer': 'Hancom PDF 1.3.0.542', 'CreationDate': \"D:20231208132838+09'00'\", 'ModDate': \"D:20231208132838+09'00'\", 'PDFVersion': '1.4'}, page_content='어시스턴트를 적용한 구글 픽셀(Pixel)과 경쟁할 것으로 예상\\n☞ 출처 : 삼성전자, ‘삼성 AI 포럼’서 자체 개발 생성형 AI ‘삼성 가우스’ 공개, 2023.11.08.\\n삼성전자, ‘삼성 개발자 콘퍼런스 코리아 2023’ 개최, 2023.11.14.\\nTechRepublic, Samsung Gauss: Samsung Research Reveals Generative AI, 2023.11.08.\\n10'), Document(id='072c7184-421f-4b05-895b-053c001f4eee', metadata={'source': 'data/SPRI_AI_Brief_2023년12월호_F.pdf', 'file_path': 'data/SPRI_AI_Brief_2023년12월호_F.pdf', 'page': 12, 'total_pages': 23, 'Author': 'dj', 'Creator': 'Hwp 2018 10.0.0.13462', 'Producer': 'Hancom PDF 1.3.0.542', 'CreationDate': \"D:20231208132838+09'00'\", 'ModDate': \"D:20231208132838+09'00'\", 'PDFVersion': '1.4'}, page_content='£언어, 코드, 이미지의 3개 모델로 구성된 삼성 가우스, 온디바이스 작동 지원\\nn 삼성전자가 2023년 11월 8일 열린 ‘삼성 AI 포럼 2023’ 행사에서 자체 개발한 생성 AI 모델\\n‘삼성 가우스’를 최초 공개\\n∙ 정규분포 이론을 정립한 천재 수학자 가우스(Gauss)의 이름을 본뜬 삼성 가우스는 다양한 상황에\\n최적화된 크기의 모델 선택이 가능\\n∙ 삼성 가우스는 라이선스나 개인정보를 침해하지 않는 안전한 데이터를 통해 학습되었으며,\\n온디바이스에서 작동하도록 설계되어 외부로 사용자의 정보가 유출되지 않는 장점을 보유'), Document(id='d20c493a-1f0e-4ca5-8ff1-819dda28fd6f', metadata={'source': 'data/SPRI_AI_Brief_2023년12월호_F.pdf', 'file_path': 'data/SPRI_AI_Brief_2023년12월호_F.pdf', 'page': 12, 'total_pages': 23, 'Author': 'dj', 'Creator': 'Hwp 2018 10.0.0.13462', 'Producer': 'Hancom PDF 1.3.0.542', 'CreationDate': \"D:20231208132838+09'00'\", 'ModDate': \"D:20231208132838+09'00'\", 'PDFVersion': '1.4'}, page_content='처리를 지원\\n∙ 코드 모델 기반의 AI 코딩 어시스턴트 ‘코드아이(code.i)’는 대화형 인터페이스로 서비스를 제공하며\\n사내 소프트웨어 개발에 최적화\\n∙ 이미지 모델은 창의적인 이미지를 생성하고 기존 이미지를 원하는 대로 바꿀 수 있도록 지원하며\\n저해상도 이미지의 고해상도 전환도 지원\\nn IT 전문지 테크리퍼블릭(TechRepublic)은 온디바이스 AI가 주요 기술 트렌드로 부상했다며,\\n2024년부터 가우스를 탑재한 삼성 스마트폰이 메타의 라마(Llama)2를 탑재한 퀄컴 기기 및 구글'), Document(id='4bbc56cd-5e33-4347-a585-891f00bce829', metadata={'source': 'data/SPRI_AI_Brief_2023년12월호_F.pdf', 'file_path': 'data/SPRI_AI_Brief_2023년12월호_F.pdf', 'page': 12, 'total_pages': 23, 'Author': 'dj', 'Creator': 'Hwp 2018 10.0.0.13462', 'Producer': 'Hancom PDF 1.3.0.542', 'CreationDate': \"D:20231208132838+09'00'\", 'ModDate': \"D:20231208132838+09'00'\", 'PDFVersion': '1.4'}, page_content='온디바이스에서 작동하도록 설계되어 외부로 사용자의 정보가 유출되지 않는 장점을 보유\\n∙ 삼성전자는 삼성 가우스를 활용한 온디바이스 AI 기술도 소개했으며, 생성 AI 모델을 다양한 제품에\\n단계적으로 탑재할 계획\\nn 삼성 가우스는 △텍스트를 생성하는 언어모델 △코드를 생성하는 코드 모델 △이미지를 생성하는\\n이미지 모델의 3개 모델로 구성\\n∙ 언어 모델은 클라우드와 온디바이스 대상 다양한 모델로 구성되며, 메일 작성, 문서 요약, 번역 업무의\\n처리를 지원'), Document(id='93383986-36e4-4d89-a57d-7685c8e81945', metadata={'source': 'data/SPRI_AI_Brief_2023년12월호_F.pdf', 'file_path': 'data/SPRI_AI_Brief_2023년12월호_F.pdf', 'page': 1, 'total_pages': 23, 'Author': 'dj', 'Creator': 'Hwp 2018 10.0.0.13462', 'Producer': 'Hancom PDF 1.3.0.542', 'CreationDate': \"D:20231208132838+09'00'\", 'ModDate': \"D:20231208132838+09'00'\", 'PDFVersion': '1.4'}, page_content='▹ 빌 게이츠, AI 에이전트로 인한 컴퓨터 사용의 패러다임 변화 전망································13\\n▹ 유튜브, 2024년부터 AI 생성 콘텐츠 표시 의무화····························································14\\n3. 기술/연구\\n▹ 영국 과학혁신기술부, AI 안전 연구소 설립 발표······························································15'), Document(id='3a4ee943-55d1-4b0c-8620-5a35a0898905', metadata={'source': 'data/SPRI_AI_Brief_2023년12월호_F.pdf', 'file_path': 'data/SPRI_AI_Brief_2023년12월호_F.pdf', 'page': 18, 'total_pages': 23, 'Author': 'dj', 'Creator': 'Hwp 2018 10.0.0.13462', 'Producer': 'Hancom PDF 1.3.0.542', 'CreationDate': \"D:20231208132838+09'00'\", 'ModDate': \"D:20231208132838+09'00'\", 'PDFVersion': '1.4'}, page_content='<구글 딥마인드의 범용 AI 분류 프레임워크>\\n성능 특수 AI 예시 범용 AI 예시\\n0단계: AI 아님 계산기 소프트웨어, 컴파일러 아마존 메커니컬 터크\\n1단계: 신진(숙련되지 않은 인간) GOFAI(Good Old Fashioned Artificial Intelligence) 챗GPT, 바드, 라마2\\n스마트 스피커(애플 시리, 아마존 알렉사, 구글\\n2단계: 유능(숙련된 인간의 50% 이상) 미달성\\n어시스턴트), IBM 왓슨\\n3단계: 전문가(숙련된 인간의 90% 이상) 문법 교정기(그래머리), 생성 이미지 모델(달리2) 미달성'), Document(id='a380b69c-8bdc-45b3-9dc6-befdc28cd6b9', metadata={'source': 'data/SPRI_AI_Brief_2023년12월호_F.pdf', 'file_path': 'data/SPRI_AI_Brief_2023년12월호_F.pdf', 'page': 11, 'total_pages': 23, 'Author': 'dj', 'Creator': 'Hwp 2018 10.0.0.13462', 'Producer': 'Hancom PDF 1.3.0.542', 'CreationDate': \"D:20231208132838+09'00'\", 'ModDate': \"D:20231208132838+09'00'\", 'PDFVersion': '1.4'}, page_content='제작을 포함\\nn 알리바바 클라우드는 급증하는 생성 AI 수요에 대응해 모델 개발과 애플리케이션 구축 절차를\\n간소화하는 올인원 AI 모델 구축 플랫폼 ‘젠AI(GenAI)’도 공개\\n∙ 이 플랫폼은 데이터 관리, 모델 배포와 평가, 신속한 엔지니어링을 위한 종합 도구 모음을 제공하여\\n다양한 기업들이 맞춤형 AI 모델을 한층 쉽게 개발할 수 있도록 지원\\n∙ 생성 AI 개발에 필요한 컴퓨팅과 데이터 처리 요구사항을 지원하기 위해 AI 플랫폼(PAI),\\n데이터베이스 솔루션, 컨테이너 서비스와 같은 클라우드 신제품도 발표'), Document(id='fd2624fe-2cd5-441d-85a7-525aa9b9781f', metadata={'source': 'data/SPRI_AI_Brief_2023년12월호_F.pdf', 'file_path': 'data/SPRI_AI_Brief_2023년12월호_F.pdf', 'page': 7, 'total_pages': 23, 'Author': 'dj', 'Creator': 'Hwp 2018 10.0.0.13462', 'Producer': 'Hancom PDF 1.3.0.542', 'CreationDate': \"D:20231208132838+09'00'\", 'ModDate': \"D:20231208132838+09'00'\", 'PDFVersion': '1.4'}, page_content='만들었다고 오해할 소지가 있다고 지적\\n∙ 저작권법에 저촉되는 행위는 불공정 경쟁이나 기만행위에도 해당될 수 있으며, 창작자의 평판 악화,\\n저작물의 가치 저하나 개인정보 유출로 소비자에 상당한 피해를 초래 가능\\nn FTC는 일부 빅테크가 막대한 재원을 활용해 생성 AI 사용자의 이탈을 막고 저작권이 있는 상용\\n데이터에 대한 독점 라이선스를 확보해 시장 지배력을 더욱 강화할 수 있다는 우려도 제기\\n∙ 이와 관련 FTC는 아마존 AI 비서 ‘알렉사(Alexa)’와 스마트홈 보안 기기 ‘링(Ring)’이 소비자의 사적')]\n",
      "-------------------\n",
      "==========================================================================================\n",
      "\n",
      "===== for 시작 1 =====\n",
      "== for 시작 1 - 1 ==\n",
      "state_key : retrieve\n",
      "state_value: \n",
      " {'documents': [Document(id='c1407987-c24e-4f7b-9a9d-af8f87ee6bc0', metadata={'source': 'data/SPRI_AI_Brief_2023년12월호_F.pdf', 'file_path': 'data/SPRI_AI_Brief_2023년12월호_F.pdf', 'page': 1, 'total_pages': 23, 'Author': 'dj', 'Creator': 'Hwp 2018 10.0.0.13462', 'Producer': 'Hancom PDF 1.3.0.542', 'CreationDate': \"D:20231208132838+09'00'\", 'ModDate': \"D:20231208132838+09'00'\", 'PDFVersion': '1.4'}, page_content='▹ 삼성전자, 자체 개발 생성 AI ‘삼성 가우스’ 공개 ···························································10\\n▹ 구글, 앤스로픽에 20억 달러 투자로 생성 AI 협력 강화 ················································11\\n▹ IDC, 2027년 AI 소프트웨어 매출 2,500억 달러 돌파 전망···········································12'), Document(id='9d1c9684-6dd4-4f87-b719-b0cf7c8c4679', metadata={'source': 'data/SPRI_AI_Brief_2023년12월호_F.pdf', 'file_path': 'data/SPRI_AI_Brief_2023년12월호_F.pdf', 'page': 12, 'total_pages': 23, 'Author': 'dj', 'Creator': 'Hwp 2018 10.0.0.13462', 'Producer': 'Hancom PDF 1.3.0.542', 'CreationDate': \"D:20231208132838+09'00'\", 'ModDate': \"D:20231208132838+09'00'\", 'PDFVersion': '1.4'}, page_content='SPRi AI Brief |\\n2023-12월호\\n삼성전자, 자체 개발 생성 AI ‘삼성 가우스’ 공개\\nKEY Contents\\nn 삼성전자가 온디바이스에서 작동 가능하며 언어, 코드, 이미지의 3개 모델로 구성된 자체 개발 생성\\nAI 모델 ‘삼성 가우스’를 공개\\nn 삼성전자는 삼성 가우스를 다양한 제품에 단계적으로 탑재할 계획으로, 온디바이스 작동이 가능한\\n삼성 가우스는 외부로 사용자 정보가 유출될 위험이 없다는 장점을 보유\\n£언어, 코드, 이미지의 3개 모델로 구성된 삼성 가우스, 온디바이스 작동 지원'), Document(id='b9ed246b-2d76-4e6c-b1c4-df10d228f9df', metadata={'source': 'data/SPRI_AI_Brief_2023년12월호_F.pdf', 'file_path': 'data/SPRI_AI_Brief_2023년12월호_F.pdf', 'page': 12, 'total_pages': 23, 'Author': 'dj', 'Creator': 'Hwp 2018 10.0.0.13462', 'Producer': 'Hancom PDF 1.3.0.542', 'CreationDate': \"D:20231208132838+09'00'\", 'ModDate': \"D:20231208132838+09'00'\", 'PDFVersion': '1.4'}, page_content='어시스턴트를 적용한 구글 픽셀(Pixel)과 경쟁할 것으로 예상\\n☞ 출처 : 삼성전자, ‘삼성 AI 포럼’서 자체 개발 생성형 AI ‘삼성 가우스’ 공개, 2023.11.08.\\n삼성전자, ‘삼성 개발자 콘퍼런스 코리아 2023’ 개최, 2023.11.14.\\nTechRepublic, Samsung Gauss: Samsung Research Reveals Generative AI, 2023.11.08.\\n10'), Document(id='072c7184-421f-4b05-895b-053c001f4eee', metadata={'source': 'data/SPRI_AI_Brief_2023년12월호_F.pdf', 'file_path': 'data/SPRI_AI_Brief_2023년12월호_F.pdf', 'page': 12, 'total_pages': 23, 'Author': 'dj', 'Creator': 'Hwp 2018 10.0.0.13462', 'Producer': 'Hancom PDF 1.3.0.542', 'CreationDate': \"D:20231208132838+09'00'\", 'ModDate': \"D:20231208132838+09'00'\", 'PDFVersion': '1.4'}, page_content='£언어, 코드, 이미지의 3개 모델로 구성된 삼성 가우스, 온디바이스 작동 지원\\nn 삼성전자가 2023년 11월 8일 열린 ‘삼성 AI 포럼 2023’ 행사에서 자체 개발한 생성 AI 모델\\n‘삼성 가우스’를 최초 공개\\n∙ 정규분포 이론을 정립한 천재 수학자 가우스(Gauss)의 이름을 본뜬 삼성 가우스는 다양한 상황에\\n최적화된 크기의 모델 선택이 가능\\n∙ 삼성 가우스는 라이선스나 개인정보를 침해하지 않는 안전한 데이터를 통해 학습되었으며,\\n온디바이스에서 작동하도록 설계되어 외부로 사용자의 정보가 유출되지 않는 장점을 보유'), Document(id='d20c493a-1f0e-4ca5-8ff1-819dda28fd6f', metadata={'source': 'data/SPRI_AI_Brief_2023년12월호_F.pdf', 'file_path': 'data/SPRI_AI_Brief_2023년12월호_F.pdf', 'page': 12, 'total_pages': 23, 'Author': 'dj', 'Creator': 'Hwp 2018 10.0.0.13462', 'Producer': 'Hancom PDF 1.3.0.542', 'CreationDate': \"D:20231208132838+09'00'\", 'ModDate': \"D:20231208132838+09'00'\", 'PDFVersion': '1.4'}, page_content='처리를 지원\\n∙ 코드 모델 기반의 AI 코딩 어시스턴트 ‘코드아이(code.i)’는 대화형 인터페이스로 서비스를 제공하며\\n사내 소프트웨어 개발에 최적화\\n∙ 이미지 모델은 창의적인 이미지를 생성하고 기존 이미지를 원하는 대로 바꿀 수 있도록 지원하며\\n저해상도 이미지의 고해상도 전환도 지원\\nn IT 전문지 테크리퍼블릭(TechRepublic)은 온디바이스 AI가 주요 기술 트렌드로 부상했다며,\\n2024년부터 가우스를 탑재한 삼성 스마트폰이 메타의 라마(Llama)2를 탑재한 퀄컴 기기 및 구글'), Document(id='4bbc56cd-5e33-4347-a585-891f00bce829', metadata={'source': 'data/SPRI_AI_Brief_2023년12월호_F.pdf', 'file_path': 'data/SPRI_AI_Brief_2023년12월호_F.pdf', 'page': 12, 'total_pages': 23, 'Author': 'dj', 'Creator': 'Hwp 2018 10.0.0.13462', 'Producer': 'Hancom PDF 1.3.0.542', 'CreationDate': \"D:20231208132838+09'00'\", 'ModDate': \"D:20231208132838+09'00'\", 'PDFVersion': '1.4'}, page_content='온디바이스에서 작동하도록 설계되어 외부로 사용자의 정보가 유출되지 않는 장점을 보유\\n∙ 삼성전자는 삼성 가우스를 활용한 온디바이스 AI 기술도 소개했으며, 생성 AI 모델을 다양한 제품에\\n단계적으로 탑재할 계획\\nn 삼성 가우스는 △텍스트를 생성하는 언어모델 △코드를 생성하는 코드 모델 △이미지를 생성하는\\n이미지 모델의 3개 모델로 구성\\n∙ 언어 모델은 클라우드와 온디바이스 대상 다양한 모델로 구성되며, 메일 작성, 문서 요약, 번역 업무의\\n처리를 지원'), Document(id='93383986-36e4-4d89-a57d-7685c8e81945', metadata={'source': 'data/SPRI_AI_Brief_2023년12월호_F.pdf', 'file_path': 'data/SPRI_AI_Brief_2023년12월호_F.pdf', 'page': 1, 'total_pages': 23, 'Author': 'dj', 'Creator': 'Hwp 2018 10.0.0.13462', 'Producer': 'Hancom PDF 1.3.0.542', 'CreationDate': \"D:20231208132838+09'00'\", 'ModDate': \"D:20231208132838+09'00'\", 'PDFVersion': '1.4'}, page_content='▹ 빌 게이츠, AI 에이전트로 인한 컴퓨터 사용의 패러다임 변화 전망································13\\n▹ 유튜브, 2024년부터 AI 생성 콘텐츠 표시 의무화····························································14\\n3. 기술/연구\\n▹ 영국 과학혁신기술부, AI 안전 연구소 설립 발표······························································15'), Document(id='3a4ee943-55d1-4b0c-8620-5a35a0898905', metadata={'source': 'data/SPRI_AI_Brief_2023년12월호_F.pdf', 'file_path': 'data/SPRI_AI_Brief_2023년12월호_F.pdf', 'page': 18, 'total_pages': 23, 'Author': 'dj', 'Creator': 'Hwp 2018 10.0.0.13462', 'Producer': 'Hancom PDF 1.3.0.542', 'CreationDate': \"D:20231208132838+09'00'\", 'ModDate': \"D:20231208132838+09'00'\", 'PDFVersion': '1.4'}, page_content='<구글 딥마인드의 범용 AI 분류 프레임워크>\\n성능 특수 AI 예시 범용 AI 예시\\n0단계: AI 아님 계산기 소프트웨어, 컴파일러 아마존 메커니컬 터크\\n1단계: 신진(숙련되지 않은 인간) GOFAI(Good Old Fashioned Artificial Intelligence) 챗GPT, 바드, 라마2\\n스마트 스피커(애플 시리, 아마존 알렉사, 구글\\n2단계: 유능(숙련된 인간의 50% 이상) 미달성\\n어시스턴트), IBM 왓슨\\n3단계: 전문가(숙련된 인간의 90% 이상) 문법 교정기(그래머리), 생성 이미지 모델(달리2) 미달성'), Document(id='a380b69c-8bdc-45b3-9dc6-befdc28cd6b9', metadata={'source': 'data/SPRI_AI_Brief_2023년12월호_F.pdf', 'file_path': 'data/SPRI_AI_Brief_2023년12월호_F.pdf', 'page': 11, 'total_pages': 23, 'Author': 'dj', 'Creator': 'Hwp 2018 10.0.0.13462', 'Producer': 'Hancom PDF 1.3.0.542', 'CreationDate': \"D:20231208132838+09'00'\", 'ModDate': \"D:20231208132838+09'00'\", 'PDFVersion': '1.4'}, page_content='제작을 포함\\nn 알리바바 클라우드는 급증하는 생성 AI 수요에 대응해 모델 개발과 애플리케이션 구축 절차를\\n간소화하는 올인원 AI 모델 구축 플랫폼 ‘젠AI(GenAI)’도 공개\\n∙ 이 플랫폼은 데이터 관리, 모델 배포와 평가, 신속한 엔지니어링을 위한 종합 도구 모음을 제공하여\\n다양한 기업들이 맞춤형 AI 모델을 한층 쉽게 개발할 수 있도록 지원\\n∙ 생성 AI 개발에 필요한 컴퓨팅과 데이터 처리 요구사항을 지원하기 위해 AI 플랫폼(PAI),\\n데이터베이스 솔루션, 컨테이너 서비스와 같은 클라우드 신제품도 발표'), Document(id='fd2624fe-2cd5-441d-85a7-525aa9b9781f', metadata={'source': 'data/SPRI_AI_Brief_2023년12월호_F.pdf', 'file_path': 'data/SPRI_AI_Brief_2023년12월호_F.pdf', 'page': 7, 'total_pages': 23, 'Author': 'dj', 'Creator': 'Hwp 2018 10.0.0.13462', 'Producer': 'Hancom PDF 1.3.0.542', 'CreationDate': \"D:20231208132838+09'00'\", 'ModDate': \"D:20231208132838+09'00'\", 'PDFVersion': '1.4'}, page_content='만들었다고 오해할 소지가 있다고 지적\\n∙ 저작권법에 저촉되는 행위는 불공정 경쟁이나 기만행위에도 해당될 수 있으며, 창작자의 평판 악화,\\n저작물의 가치 저하나 개인정보 유출로 소비자에 상당한 피해를 초래 가능\\nn FTC는 일부 빅테크가 막대한 재원을 활용해 생성 AI 사용자의 이탈을 막고 저작권이 있는 상용\\n데이터에 대한 독점 라이선스를 확보해 시장 지배력을 더욱 강화할 수 있다는 우려도 제기\\n∙ 이와 관련 FTC는 아마존 AI 비서 ‘알렉사(Alexa)’와 스마트홈 보안 기기 ‘링(Ring)’이 소비자의 사적')]}\n",
      "== for  끝 1 - 1==\n",
      "===== for 끝 1 =====\n",
      "\n",
      "==========================================================================================\n",
      "===== [CHECK DOCUMENT RELEVANCE TO QUESTION] =====\n",
      "---GRADE: DOCUMENT RELEVANT---\n",
      "---GRADE: DOCUMENT RELEVANT---\n",
      "---GRADE: DOCUMENT RELEVANT---\n",
      "---GRADE: DOCUMENT RELEVANT---\n",
      "---GRADE: DOCUMENT RELEVANT---\n",
      "---GRADE: DOCUMENT RELEVANT---\n",
      "---GRADE: DOCUMENT NOT RELEVANT---\n",
      "---GRADE: DOCUMENT NOT RELEVANT---\n",
      "---GRADE: DOCUMENT NOT RELEVANT---\n",
      "---GRADE: DOCUMENT NOT RELEVANT---\n",
      "==========================================================================================\n",
      "\n",
      "\n",
      "==========================================================================================\n",
      "🔄 [Node] 문서 관련성 평가 노드 🔄\n",
      "===== [DECISION: GENERATE] =====\n",
      "==========================================================================================\n",
      "\n",
      "===== for 시작 2 =====\n",
      "== for 시작 2 - 1 ==\n",
      "state_key : grade_documents\n",
      "state_value: \n",
      " {'documents': [Document(id='c1407987-c24e-4f7b-9a9d-af8f87ee6bc0', metadata={'source': 'data/SPRI_AI_Brief_2023년12월호_F.pdf', 'file_path': 'data/SPRI_AI_Brief_2023년12월호_F.pdf', 'page': 1, 'total_pages': 23, 'Author': 'dj', 'Creator': 'Hwp 2018 10.0.0.13462', 'Producer': 'Hancom PDF 1.3.0.542', 'CreationDate': \"D:20231208132838+09'00'\", 'ModDate': \"D:20231208132838+09'00'\", 'PDFVersion': '1.4'}, page_content='▹ 삼성전자, 자체 개발 생성 AI ‘삼성 가우스’ 공개 ···························································10\\n▹ 구글, 앤스로픽에 20억 달러 투자로 생성 AI 협력 강화 ················································11\\n▹ IDC, 2027년 AI 소프트웨어 매출 2,500억 달러 돌파 전망···········································12'), Document(id='9d1c9684-6dd4-4f87-b719-b0cf7c8c4679', metadata={'source': 'data/SPRI_AI_Brief_2023년12월호_F.pdf', 'file_path': 'data/SPRI_AI_Brief_2023년12월호_F.pdf', 'page': 12, 'total_pages': 23, 'Author': 'dj', 'Creator': 'Hwp 2018 10.0.0.13462', 'Producer': 'Hancom PDF 1.3.0.542', 'CreationDate': \"D:20231208132838+09'00'\", 'ModDate': \"D:20231208132838+09'00'\", 'PDFVersion': '1.4'}, page_content='SPRi AI Brief |\\n2023-12월호\\n삼성전자, 자체 개발 생성 AI ‘삼성 가우스’ 공개\\nKEY Contents\\nn 삼성전자가 온디바이스에서 작동 가능하며 언어, 코드, 이미지의 3개 모델로 구성된 자체 개발 생성\\nAI 모델 ‘삼성 가우스’를 공개\\nn 삼성전자는 삼성 가우스를 다양한 제품에 단계적으로 탑재할 계획으로, 온디바이스 작동이 가능한\\n삼성 가우스는 외부로 사용자 정보가 유출될 위험이 없다는 장점을 보유\\n£언어, 코드, 이미지의 3개 모델로 구성된 삼성 가우스, 온디바이스 작동 지원'), Document(id='b9ed246b-2d76-4e6c-b1c4-df10d228f9df', metadata={'source': 'data/SPRI_AI_Brief_2023년12월호_F.pdf', 'file_path': 'data/SPRI_AI_Brief_2023년12월호_F.pdf', 'page': 12, 'total_pages': 23, 'Author': 'dj', 'Creator': 'Hwp 2018 10.0.0.13462', 'Producer': 'Hancom PDF 1.3.0.542', 'CreationDate': \"D:20231208132838+09'00'\", 'ModDate': \"D:20231208132838+09'00'\", 'PDFVersion': '1.4'}, page_content='어시스턴트를 적용한 구글 픽셀(Pixel)과 경쟁할 것으로 예상\\n☞ 출처 : 삼성전자, ‘삼성 AI 포럼’서 자체 개발 생성형 AI ‘삼성 가우스’ 공개, 2023.11.08.\\n삼성전자, ‘삼성 개발자 콘퍼런스 코리아 2023’ 개최, 2023.11.14.\\nTechRepublic, Samsung Gauss: Samsung Research Reveals Generative AI, 2023.11.08.\\n10'), Document(id='072c7184-421f-4b05-895b-053c001f4eee', metadata={'source': 'data/SPRI_AI_Brief_2023년12월호_F.pdf', 'file_path': 'data/SPRI_AI_Brief_2023년12월호_F.pdf', 'page': 12, 'total_pages': 23, 'Author': 'dj', 'Creator': 'Hwp 2018 10.0.0.13462', 'Producer': 'Hancom PDF 1.3.0.542', 'CreationDate': \"D:20231208132838+09'00'\", 'ModDate': \"D:20231208132838+09'00'\", 'PDFVersion': '1.4'}, page_content='£언어, 코드, 이미지의 3개 모델로 구성된 삼성 가우스, 온디바이스 작동 지원\\nn 삼성전자가 2023년 11월 8일 열린 ‘삼성 AI 포럼 2023’ 행사에서 자체 개발한 생성 AI 모델\\n‘삼성 가우스’를 최초 공개\\n∙ 정규분포 이론을 정립한 천재 수학자 가우스(Gauss)의 이름을 본뜬 삼성 가우스는 다양한 상황에\\n최적화된 크기의 모델 선택이 가능\\n∙ 삼성 가우스는 라이선스나 개인정보를 침해하지 않는 안전한 데이터를 통해 학습되었으며,\\n온디바이스에서 작동하도록 설계되어 외부로 사용자의 정보가 유출되지 않는 장점을 보유'), Document(id='d20c493a-1f0e-4ca5-8ff1-819dda28fd6f', metadata={'source': 'data/SPRI_AI_Brief_2023년12월호_F.pdf', 'file_path': 'data/SPRI_AI_Brief_2023년12월호_F.pdf', 'page': 12, 'total_pages': 23, 'Author': 'dj', 'Creator': 'Hwp 2018 10.0.0.13462', 'Producer': 'Hancom PDF 1.3.0.542', 'CreationDate': \"D:20231208132838+09'00'\", 'ModDate': \"D:20231208132838+09'00'\", 'PDFVersion': '1.4'}, page_content='처리를 지원\\n∙ 코드 모델 기반의 AI 코딩 어시스턴트 ‘코드아이(code.i)’는 대화형 인터페이스로 서비스를 제공하며\\n사내 소프트웨어 개발에 최적화\\n∙ 이미지 모델은 창의적인 이미지를 생성하고 기존 이미지를 원하는 대로 바꿀 수 있도록 지원하며\\n저해상도 이미지의 고해상도 전환도 지원\\nn IT 전문지 테크리퍼블릭(TechRepublic)은 온디바이스 AI가 주요 기술 트렌드로 부상했다며,\\n2024년부터 가우스를 탑재한 삼성 스마트폰이 메타의 라마(Llama)2를 탑재한 퀄컴 기기 및 구글'), Document(id='4bbc56cd-5e33-4347-a585-891f00bce829', metadata={'source': 'data/SPRI_AI_Brief_2023년12월호_F.pdf', 'file_path': 'data/SPRI_AI_Brief_2023년12월호_F.pdf', 'page': 12, 'total_pages': 23, 'Author': 'dj', 'Creator': 'Hwp 2018 10.0.0.13462', 'Producer': 'Hancom PDF 1.3.0.542', 'CreationDate': \"D:20231208132838+09'00'\", 'ModDate': \"D:20231208132838+09'00'\", 'PDFVersion': '1.4'}, page_content='온디바이스에서 작동하도록 설계되어 외부로 사용자의 정보가 유출되지 않는 장점을 보유\\n∙ 삼성전자는 삼성 가우스를 활용한 온디바이스 AI 기술도 소개했으며, 생성 AI 모델을 다양한 제품에\\n단계적으로 탑재할 계획\\nn 삼성 가우스는 △텍스트를 생성하는 언어모델 △코드를 생성하는 코드 모델 △이미지를 생성하는\\n이미지 모델의 3개 모델로 구성\\n∙ 언어 모델은 클라우드와 온디바이스 대상 다양한 모델로 구성되며, 메일 작성, 문서 요약, 번역 업무의\\n처리를 지원')]}\n",
      "== for  끝 2 - 1==\n",
      "===== for 끝 2 =====\n",
      "\n",
      "==========================================================================================\n",
      "🔄 [Node] 답변 생성 노드 🔄\n",
      "-------------------\n",
      "삼성전자가 공개한 생성 AI 모델 '삼성 가우스'는 언어, 코드, 이미지의 3개 모델로 구성되어 있으며, 온디바이스에서 작동하도록 설계되어 사용자 정보 유출 위험이 없다. 이 모델은 2023년 11월 8일 '삼성 AI 포럼 2023'에서 처음 공개되었다.\n",
      "\n",
      "**Source**\n",
      "- data/SPRI_AI_Brief_2023년12월호_F.pdf (page 12)\n",
      "-------------------\n",
      "\n",
      "==========================================================================================\n",
      "\n",
      "\n",
      "==========================================================================================\n",
      "🔄 [Node] Hallucination 평가 노드 🔄\n",
      "===== [평가 결과] =====\n",
      "yes\n",
      "\n",
      "===== [DECISION: GENERATION IS GROUNDED IN DOCUMENTS] =====\n",
      "no hallucination\n",
      "\n",
      "===== [GRADE GENERATED ANSWER vs QUESTION] =====\n",
      "\n",
      "==== [DECISION: GENERATED ANSWER ADDRESSES QUESTION] ====\n",
      "relevant\n",
      "\n",
      "==========================================================================================\n",
      "\n",
      "===== for 시작 3 =====\n",
      "== for 시작 3 - 1 ==\n",
      "state_key : generate\n",
      "state_value: \n",
      " {'generation': \"삼성전자가 공개한 생성 AI 모델 '삼성 가우스'는 언어, 코드, 이미지의 3개 모델로 구성되어 있으며, 온디바이스에서 작동하도록 설계되어 사용자 정보 유출 위험이 없다. 이 모델은 2023년 11월 8일 '삼성 AI 포럼 2023'에서 처음 공개되었다.\\n\\n**Source**\\n- data/SPRI_AI_Brief_2023년12월호_F.pdf (page 12)\"}\n",
      "== for  끝 3 - 1==\n",
      "===== for 끝 3 =====\n"
     ]
    }
   ],
   "source": [
    "config = RunnableConfig(                        # config 설정\n",
    "    recursion_limit=20,                         # 최대 20개의 노드까지 방문.\n",
    "    configurable={'thread_id': random_uuid()}   # thread_id 설정\n",
    ")\n",
    "\n",
    "inputs = GraphState(question='삼성전자가 생성한 AI')\n",
    "\n",
    "i = 1\n",
    "\n",
    "for chunk in app.stream(inputs, config=config, stream_mode=\"updates\"):\n",
    "    print(f\"===== for 시작 {i} =====\")\n",
    "\n",
    "    j = 1\n",
    "\n",
    "    # chunk 는 dictionary 형태(key: State 의 key, value: State 의 value)\n",
    "    for state_key, state_value in chunk.items():\n",
    "        print(f\"== for 시작 {i} - {j} ==\")\n",
    "        print(f\"state_key : {state_key }\")\n",
    "        print(f\"state_value: \\n {state_value}\")\n",
    "        print(f\"== for  끝 {i} - {j}==\")\n",
    "\n",
    "        j=j+1\n",
    "    \n",
    "    print(f\"===== for 끝 {i} =====\")\n",
    "    i=i+1"
   ]
  }
 ],
 "metadata": {
  "kernelspec": {
   "display_name": "venv",
   "language": "python",
   "name": "python3"
  },
  "language_info": {
   "codemirror_mode": {
    "name": "ipython",
    "version": 3
   },
   "file_extension": ".py",
   "mimetype": "text/x-python",
   "name": "python",
   "nbconvert_exporter": "python",
   "pygments_lexer": "ipython3",
   "version": "3.11.9"
  }
 },
 "nbformat": 4,
 "nbformat_minor": 2
}
