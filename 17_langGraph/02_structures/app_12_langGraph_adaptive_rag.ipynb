{
 "cells": [
  {
   "cell_type": "code",
   "execution_count": 1,
   "metadata": {},
   "outputs": [],
   "source": [
    "from dotenv import load_dotenv\n",
    "import os\n",
    "\n",
    "load_dotenv(verbose=True)\n",
    "key = os.getenv('OPENAI_API_KEY')"
   ]
  },
  {
   "cell_type": "markdown",
   "metadata": {},
   "source": [
    "### PDF 기반 문서 검색기 (Retrieval chain) 생성"
   ]
  },
  {
   "cell_type": "code",
   "execution_count": 2,
   "metadata": {},
   "outputs": [],
   "source": [
    "from rag.pdf import PDFRetrievalChain\n",
    "\n",
    "# PDF 문서를 로드\n",
    "pdf = PDFRetrievalChain(['data/SPRI_AI_Brief_2023년12월호_F.pdf']).create_chain()\n",
    "\n",
    "pdf_retriever = pdf.retriever       # retriever 생성\n",
    "pdf_chain = pdf.chain               # pdf retriever chain 생성"
   ]
  },
  {
   "cell_type": "markdown",
   "metadata": {},
   "source": [
    "### GraphState"
   ]
  },
  {
   "cell_type": "code",
   "execution_count": 3,
   "metadata": {},
   "outputs": [],
   "source": [
    "from typing import List\n",
    "from typing_extensions import TypedDict, Annotated\n",
    "\n",
    "\n",
    "class GraphState(TypedDict):\n",
    "    \"\"\"\n",
    "    그래프의 상태를 나타내는 데이터 모델\n",
    "\n",
    "    Attributes:\n",
    "        question: 질문\n",
    "        generation: LLM 생성된 답변\n",
    "        documents: 도큐먼트 리스트\n",
    "    \"\"\"\n",
    "\n",
    "    question: Annotated[str, \"User question\"]\n",
    "    generation: Annotated[str, \"LLM generated answer\"]\n",
    "    documents: Annotated[List[str], \"List of documents\"]"
   ]
  },
  {
   "cell_type": "code",
   "execution_count": 4,
   "metadata": {},
   "outputs": [],
   "source": [
    "state = GraphState(\n",
    "    question='삼성전자가 만든 생성형 AI 이름은?',\n",
    "    generation = '', \n",
    "    documents = []\n",
    ")"
   ]
  },
  {
   "cell_type": "markdown",
   "metadata": {},
   "source": [
    "### 쿼리 라우터"
   ]
  },
  {
   "cell_type": "code",
   "execution_count": 5,
   "metadata": {},
   "outputs": [],
   "source": [
    "from pydantic import BaseModel, Field\n",
    "from typing import Literal\n",
    "\n",
    "from langchain_openai import ChatOpenAI\n",
    "from langchain_core.prompts import ChatPromptTemplate\n",
    "\n",
    "\n",
    "class RouteQuery(BaseModel):    \n",
    "    \"\"\"Route a user query to the most relevant datasource.\"\"\"\n",
    "\n",
    "    datasource: Literal[\"vectorstore\", \"web_search\"] = Field(\n",
    "        ...,\n",
    "        description=\"Given a user question choose to route it to web search or a vectorstore.\",\n",
    "    )\n",
    "\n",
    "\n",
    "llm = ChatOpenAI(\n",
    "    api_key=key, \n",
    "    model='gpt-4o-mini', \n",
    "    temperature=0\n",
    ")\n",
    "\n",
    "# 구조화된 출력을 결과로 가젼온다 (vectorstore, web_search)\n",
    "structured_llm_router = llm.with_structured_output(RouteQuery)\n",
    "\n",
    "# 시스템 메시지\n",
    "system = \"\"\"You are an expert at routing a user question to a vectorstore or web search.\n",
    "The vectorstore contains documents related to DEC 2023 AI Brief Report(SPRI) with Samsung Gause, Anthropic, etc.\n",
    "Use the vectorstore for questions on these topics. Otherwise, use web-search.\"\"\"\n",
    "\n",
    "# 프롬프트\n",
    "route_prompt = ChatPromptTemplate.from_messages(\n",
    "    [\n",
    "        ('system', system), \n",
    "        ('human', '{question}')\n",
    "    ]\n",
    ")\n",
    "\n",
    "question_router = route_prompt | structured_llm_router"
   ]
  },
  {
   "cell_type": "code",
   "execution_count": 6,
   "metadata": {},
   "outputs": [
    {
     "data": {
      "text/plain": [
       "RouteQuery(datasource='vectorstore')"
      ]
     },
     "execution_count": 6,
     "metadata": {},
     "output_type": "execute_result"
    }
   ],
   "source": [
    "# 쿼리 라우팅 테스트 (문서 검색이 필요한 질문)\n",
    "result = question_router.invoke({'question': 'AI Brief 에서 삼성전자가 만든 생성형 AI 이름은?'})\n",
    "result"
   ]
  },
  {
   "cell_type": "code",
   "execution_count": 7,
   "metadata": {},
   "outputs": [
    {
     "data": {
      "text/plain": [
       "RouteQuery(datasource='web_search')"
      ]
     },
     "execution_count": 7,
     "metadata": {},
     "output_type": "execute_result"
    }
   ],
   "source": [
    "# 쿼리 라우팅 테스트 (웹 검색이 필요한)\n",
    "result = question_router.invoke({'question': '대구 중앙떡볶이에 대해서 알려줘.'})\n",
    "result"
   ]
  },
  {
   "cell_type": "code",
   "execution_count": 8,
   "metadata": {},
   "outputs": [
    {
     "data": {
      "text/plain": [
       "RouteQuery(datasource='vectorstore')"
      ]
     },
     "execution_count": 8,
     "metadata": {},
     "output_type": "execute_result"
    }
   ],
   "source": [
    "state = GraphState(\n",
    "    question='삼성전자가 만든 생성형 AI 이름은?',\n",
    "    generation = '', \n",
    "    documents = []\n",
    ")\n",
    "\n",
    "# 쿼리 라우팅 테스트\n",
    "result = question_router.invoke({'question': state['question']})\n",
    "result"
   ]
  },
  {
   "cell_type": "markdown",
   "metadata": {},
   "source": [
    "### 검색 평가기 (Retrieval Grader)"
   ]
  },
  {
   "cell_type": "code",
   "execution_count": 9,
   "metadata": {},
   "outputs": [],
   "source": [
    "from pydantic import BaseModel, Field\n",
    "from langchain_openai import ChatOpenAI\n",
    "from langchain_core.prompts import ChatPromptTemplate\n",
    "\n",
    "class GradeDocuments(BaseModel):        # 문서 평가를 위한 데이터 모델\n",
    "    \"\"\"Binary score for relevance check on retrieved documents.\"\"\"\n",
    "\n",
    "    binary_score: str = Field(\n",
    "        description=\"Documents are relevant to the question, 'yes' or 'no'\"\n",
    "    )\n",
    "\n",
    "llm = ChatOpenAI(\n",
    "    api_key=key, \n",
    "    model='gpt-4o-mini', \n",
    "    temperature=0\n",
    ")\n",
    "\n",
    "structured_llm_grader = llm.with_structured_output(GradeDocuments)\n",
    "\n",
    "# 시스템 메시지\n",
    "system = \"\"\"You are a grader assessing relevance of a retrieved document to a user question. \\n \n",
    "    If the document contains keyword(s) or semantic meaning related to the user question, grade it as relevant. \\n\n",
    "    It does not need to be a stringent test. The goal is to filter out erroneous retrievals. \\n\n",
    "    Give a binary score 'yes' or 'no' score to indicate whether the document is relevant to the question.\"\"\"\n",
    "\n",
    "# 프롬프트 템플릿\n",
    "grade_prompt = ChatPromptTemplate.from_messages(\n",
    "    [\n",
    "        (\"system\", system),\n",
    "        (\"human\", \"Retrieved document: \\n\\n {document} \\n\\n User question: {question}\"),\n",
    "    ]\n",
    ")\n",
    "\n",
    "# 문서 검색결과 평가기\n",
    "retrieval_grader = grade_prompt | structured_llm_grader"
   ]
  },
  {
   "cell_type": "code",
   "execution_count": 10,
   "metadata": {},
   "outputs": [],
   "source": [
    "# 문서 검색 결과 평가기 테스트\n",
    "\n",
    "# question = '삼성전자가 만든 생성형 AI 이름은?'          # 사용자 질문\n",
    "# docs = pdf_retriever.invoke(question)                   # 질문에 대해서 관련 문서를 검색한다."
   ]
  },
  {
   "cell_type": "code",
   "execution_count": 10,
   "metadata": {},
   "outputs": [
    {
     "data": {
      "text/plain": [
       "[Document(id='061f8c15-b18e-4e86-bf04-1c5536cdff30', metadata={'source': 'data/SPRI_AI_Brief_2023년12월호_F.pdf', 'file_path': 'data/SPRI_AI_Brief_2023년12월호_F.pdf', 'page': 1, 'total_pages': 23, 'Author': 'dj', 'Creator': 'Hwp 2018 10.0.0.13462', 'Producer': 'Hancom PDF 1.3.0.542', 'CreationDate': \"D:20231208132838+09'00'\", 'ModDate': \"D:20231208132838+09'00'\", 'PDFVersion': '1.4'}, page_content='▹ 삼성전자, 자체 개발 생성 AI ‘삼성 가우스’ 공개 ···························································10\\n▹ 구글, 앤스로픽에 20억 달러 투자로 생성 AI 협력 강화 ················································11\\n▹ IDC, 2027년 AI 소프트웨어 매출 2,500억 달러 돌파 전망···········································12'),\n",
       " Document(id='dbba97b5-24cf-419d-9b83-ad98675e3a51', metadata={'source': 'data/SPRI_AI_Brief_2023년12월호_F.pdf', 'file_path': 'data/SPRI_AI_Brief_2023년12월호_F.pdf', 'page': 12, 'total_pages': 23, 'Author': 'dj', 'Creator': 'Hwp 2018 10.0.0.13462', 'Producer': 'Hancom PDF 1.3.0.542', 'CreationDate': \"D:20231208132838+09'00'\", 'ModDate': \"D:20231208132838+09'00'\", 'PDFVersion': '1.4'}, page_content='SPRi AI Brief |\\n2023-12월호\\n삼성전자, 자체 개발 생성 AI ‘삼성 가우스’ 공개\\nKEY Contents\\nn 삼성전자가 온디바이스에서 작동 가능하며 언어, 코드, 이미지의 3개 모델로 구성된 자체 개발 생성\\nAI 모델 ‘삼성 가우스’를 공개\\nn 삼성전자는 삼성 가우스를 다양한 제품에 단계적으로 탑재할 계획으로, 온디바이스 작동이 가능한\\n삼성 가우스는 외부로 사용자 정보가 유출될 위험이 없다는 장점을 보유\\n£언어, 코드, 이미지의 3개 모델로 구성된 삼성 가우스, 온디바이스 작동 지원'),\n",
       " Document(id='59d1577e-2e28-441a-9467-1534308ec55f', metadata={'source': 'data/SPRI_AI_Brief_2023년12월호_F.pdf', 'file_path': 'data/SPRI_AI_Brief_2023년12월호_F.pdf', 'page': 12, 'total_pages': 23, 'Author': 'dj', 'Creator': 'Hwp 2018 10.0.0.13462', 'Producer': 'Hancom PDF 1.3.0.542', 'CreationDate': \"D:20231208132838+09'00'\", 'ModDate': \"D:20231208132838+09'00'\", 'PDFVersion': '1.4'}, page_content='£언어, 코드, 이미지의 3개 모델로 구성된 삼성 가우스, 온디바이스 작동 지원\\nn 삼성전자가 2023년 11월 8일 열린 ‘삼성 AI 포럼 2023’ 행사에서 자체 개발한 생성 AI 모델\\n‘삼성 가우스’를 최초 공개\\n∙ 정규분포 이론을 정립한 천재 수학자 가우스(Gauss)의 이름을 본뜬 삼성 가우스는 다양한 상황에\\n최적화된 크기의 모델 선택이 가능\\n∙ 삼성 가우스는 라이선스나 개인정보를 침해하지 않는 안전한 데이터를 통해 학습되었으며,\\n온디바이스에서 작동하도록 설계되어 외부로 사용자의 정보가 유출되지 않는 장점을 보유'),\n",
       " Document(id='1540f974-04f2-414f-a98c-d033b14298ef', metadata={'source': 'data/SPRI_AI_Brief_2023년12월호_F.pdf', 'file_path': 'data/SPRI_AI_Brief_2023년12월호_F.pdf', 'page': 12, 'total_pages': 23, 'Author': 'dj', 'Creator': 'Hwp 2018 10.0.0.13462', 'Producer': 'Hancom PDF 1.3.0.542', 'CreationDate': \"D:20231208132838+09'00'\", 'ModDate': \"D:20231208132838+09'00'\", 'PDFVersion': '1.4'}, page_content='어시스턴트를 적용한 구글 픽셀(Pixel)과 경쟁할 것으로 예상\\n☞ 출처 : 삼성전자, ‘삼성 AI 포럼’서 자체 개발 생성형 AI ‘삼성 가우스’ 공개, 2023.11.08.\\n삼성전자, ‘삼성 개발자 콘퍼런스 코리아 2023’ 개최, 2023.11.14.\\nTechRepublic, Samsung Gauss: Samsung Research Reveals Generative AI, 2023.11.08.\\n10'),\n",
       " Document(id='ba140011-233b-42b0-aeca-27a499f35c12', metadata={'source': 'data/SPRI_AI_Brief_2023년12월호_F.pdf', 'file_path': 'data/SPRI_AI_Brief_2023년12월호_F.pdf', 'page': 18, 'total_pages': 23, 'Author': 'dj', 'Creator': 'Hwp 2018 10.0.0.13462', 'Producer': 'Hancom PDF 1.3.0.542', 'CreationDate': \"D:20231208132838+09'00'\", 'ModDate': \"D:20231208132838+09'00'\", 'PDFVersion': '1.4'}, page_content='<구글 딥마인드의 범용 AI 분류 프레임워크>\\n성능 특수 AI 예시 범용 AI 예시\\n0단계: AI 아님 계산기 소프트웨어, 컴파일러 아마존 메커니컬 터크\\n1단계: 신진(숙련되지 않은 인간) GOFAI(Good Old Fashioned Artificial Intelligence) 챗GPT, 바드, 라마2\\n스마트 스피커(애플 시리, 아마존 알렉사, 구글\\n2단계: 유능(숙련된 인간의 50% 이상) 미달성\\n어시스턴트), IBM 왓슨\\n3단계: 전문가(숙련된 인간의 90% 이상) 문법 교정기(그래머리), 생성 이미지 모델(달리2) 미달성'),\n",
       " Document(id='8cb48f14-e480-4943-8092-f409c19dcc31', metadata={'source': 'data/SPRI_AI_Brief_2023년12월호_F.pdf', 'file_path': 'data/SPRI_AI_Brief_2023년12월호_F.pdf', 'page': 12, 'total_pages': 23, 'Author': 'dj', 'Creator': 'Hwp 2018 10.0.0.13462', 'Producer': 'Hancom PDF 1.3.0.542', 'CreationDate': \"D:20231208132838+09'00'\", 'ModDate': \"D:20231208132838+09'00'\", 'PDFVersion': '1.4'}, page_content='처리를 지원\\n∙ 코드 모델 기반의 AI 코딩 어시스턴트 ‘코드아이(code.i)’는 대화형 인터페이스로 서비스를 제공하며\\n사내 소프트웨어 개발에 최적화\\n∙ 이미지 모델은 창의적인 이미지를 생성하고 기존 이미지를 원하는 대로 바꿀 수 있도록 지원하며\\n저해상도 이미지의 고해상도 전환도 지원\\nn IT 전문지 테크리퍼블릭(TechRepublic)은 온디바이스 AI가 주요 기술 트렌드로 부상했다며,\\n2024년부터 가우스를 탑재한 삼성 스마트폰이 메타의 라마(Llama)2를 탑재한 퀄컴 기기 및 구글'),\n",
       " Document(id='a1406138-9bbf-4afa-a6cf-5412515a418d', metadata={'source': 'data/SPRI_AI_Brief_2023년12월호_F.pdf', 'file_path': 'data/SPRI_AI_Brief_2023년12월호_F.pdf', 'page': 12, 'total_pages': 23, 'Author': 'dj', 'Creator': 'Hwp 2018 10.0.0.13462', 'Producer': 'Hancom PDF 1.3.0.542', 'CreationDate': \"D:20231208132838+09'00'\", 'ModDate': \"D:20231208132838+09'00'\", 'PDFVersion': '1.4'}, page_content='온디바이스에서 작동하도록 설계되어 외부로 사용자의 정보가 유출되지 않는 장점을 보유\\n∙ 삼성전자는 삼성 가우스를 활용한 온디바이스 AI 기술도 소개했으며, 생성 AI 모델을 다양한 제품에\\n단계적으로 탑재할 계획\\nn 삼성 가우스는 △텍스트를 생성하는 언어모델 △코드를 생성하는 코드 모델 △이미지를 생성하는\\n이미지 모델의 3개 모델로 구성\\n∙ 언어 모델은 클라우드와 온디바이스 대상 다양한 모델로 구성되며, 메일 작성, 문서 요약, 번역 업무의\\n처리를 지원'),\n",
       " Document(id='2680571d-046d-4ce5-a07f-8fa7829bb397', metadata={'source': 'data/SPRI_AI_Brief_2023년12월호_F.pdf', 'file_path': 'data/SPRI_AI_Brief_2023년12월호_F.pdf', 'page': 11, 'total_pages': 23, 'Author': 'dj', 'Creator': 'Hwp 2018 10.0.0.13462', 'Producer': 'Hancom PDF 1.3.0.542', 'CreationDate': \"D:20231208132838+09'00'\", 'ModDate': \"D:20231208132838+09'00'\", 'PDFVersion': '1.4'}, page_content='제작을 포함\\nn 알리바바 클라우드는 급증하는 생성 AI 수요에 대응해 모델 개발과 애플리케이션 구축 절차를\\n간소화하는 올인원 AI 모델 구축 플랫폼 ‘젠AI(GenAI)’도 공개\\n∙ 이 플랫폼은 데이터 관리, 모델 배포와 평가, 신속한 엔지니어링을 위한 종합 도구 모음을 제공하여\\n다양한 기업들이 맞춤형 AI 모델을 한층 쉽게 개발할 수 있도록 지원\\n∙ 생성 AI 개발에 필요한 컴퓨팅과 데이터 처리 요구사항을 지원하기 위해 AI 플랫폼(PAI),\\n데이터베이스 솔루션, 컨테이너 서비스와 같은 클라우드 신제품도 발표'),\n",
       " Document(id='c1f68675-a1d0-4822-98d5-ffe82d243158', metadata={'source': 'data/SPRI_AI_Brief_2023년12월호_F.pdf', 'file_path': 'data/SPRI_AI_Brief_2023년12월호_F.pdf', 'page': 1, 'total_pages': 23, 'Author': 'dj', 'Creator': 'Hwp 2018 10.0.0.13462', 'Producer': 'Hancom PDF 1.3.0.542', 'CreationDate': \"D:20231208132838+09'00'\", 'ModDate': \"D:20231208132838+09'00'\", 'PDFVersion': '1.4'}, page_content='▹ 빌 게이츠, AI 에이전트로 인한 컴퓨터 사용의 패러다임 변화 전망································13\\n▹ 유튜브, 2024년부터 AI 생성 콘텐츠 표시 의무화····························································14\\n3. 기술/연구\\n▹ 영국 과학혁신기술부, AI 안전 연구소 설립 발표······························································15'),\n",
       " Document(id='d6457284-85e2-4d72-95c3-bc7c2d5a9ee9', metadata={'source': 'data/SPRI_AI_Brief_2023년12월호_F.pdf', 'file_path': 'data/SPRI_AI_Brief_2023년12월호_F.pdf', 'page': 7, 'total_pages': 23, 'Author': 'dj', 'Creator': 'Hwp 2018 10.0.0.13462', 'Producer': 'Hancom PDF 1.3.0.542', 'CreationDate': \"D:20231208132838+09'00'\", 'ModDate': \"D:20231208132838+09'00'\", 'PDFVersion': '1.4'}, page_content='만들었다고 오해할 소지가 있다고 지적\\n∙ 저작권법에 저촉되는 행위는 불공정 경쟁이나 기만행위에도 해당될 수 있으며, 창작자의 평판 악화,\\n저작물의 가치 저하나 개인정보 유출로 소비자에 상당한 피해를 초래 가능\\nn FTC는 일부 빅테크가 막대한 재원을 활용해 생성 AI 사용자의 이탈을 막고 저작권이 있는 상용\\n데이터에 대한 독점 라이선스를 확보해 시장 지배력을 더욱 강화할 수 있다는 우려도 제기\\n∙ 이와 관련 FTC는 아마존 AI 비서 ‘알렉사(Alexa)’와 스마트홈 보안 기기 ‘링(Ring)’이 소비자의 사적')]"
      ]
     },
     "execution_count": 10,
     "metadata": {},
     "output_type": "execute_result"
    }
   ],
   "source": [
    "state = GraphState(\n",
    "    question='삼성전자가 만든 생성형 AI 이름은?',\n",
    "    generation = '', \n",
    "    documents = []\n",
    ")\n",
    "\n",
    "docs = pdf_retriever.invoke(state['question'])              # 사용자 질문에 대해서 관련 문서를 검색한다.\n",
    "docs"
   ]
  },
  {
   "cell_type": "code",
   "execution_count": 11,
   "metadata": {},
   "outputs": [
    {
     "data": {
      "text/plain": [
       "'SPRi AI Brief |\\n2023-12월호\\n삼성전자, 자체 개발 생성 AI ‘삼성 가우스’ 공개\\nKEY Contents\\nn 삼성전자가 온디바이스에서 작동 가능하며 언어, 코드, 이미지의 3개 모델로 구성된 자체 개발 생성\\nAI 모델 ‘삼성 가우스’를 공개\\nn 삼성전자는 삼성 가우스를 다양한 제품에 단계적으로 탑재할 계획으로, 온디바이스 작동이 가능한\\n삼성 가우스는 외부로 사용자 정보가 유출될 위험이 없다는 장점을 보유\\n£언어, 코드, 이미지의 3개 모델로 구성된 삼성 가우스, 온디바이스 작동 지원'"
      ]
     },
     "execution_count": 11,
     "metadata": {},
     "output_type": "execute_result"
    }
   ],
   "source": [
    "retrieved_doc = docs[1].page_content                        # 검색된 문서의 내용 가져오기\n",
    "retrieved_doc"
   ]
  },
  {
   "cell_type": "code",
   "execution_count": 12,
   "metadata": {},
   "outputs": [
    {
     "data": {
      "text/plain": [
       "GradeDocuments(binary_score='yes')"
      ]
     },
     "execution_count": 12,
     "metadata": {},
     "output_type": "execute_result"
    }
   ],
   "source": [
    "# 문서 검색 결과를 평가하는 평가기(retrieval_grader)를 사용해서 사용자 질문과 검색 결과문서가 관련성이 있는지 평가한다.\n",
    "retrieval_grader.invoke({'question': state['question'], 'document': retrieved_doc})"
   ]
  },
  {
   "cell_type": "code",
   "execution_count": 13,
   "metadata": {},
   "outputs": [
    {
     "name": "stdout",
     "output_type": "stream",
     "text": [
      "result.binary_score: yes\n",
      "result.binary_score: yes\n",
      "result.binary_score: yes\n",
      "result.binary_score: yes\n",
      "result.binary_score: no\n",
      "result.binary_score: yes\n",
      "result.binary_score: yes\n",
      "result.binary_score: no\n",
      "result.binary_score: no\n",
      "result.binary_score: no\n"
     ]
    }
   ],
   "source": [
    "# 문서 검색 결과를 평가하는 평가기(retrieval_grader)를 사용해서 테스트를 다시 실행\n",
    "\n",
    "# question = '삼성전자가 만든 생성형 AI 이름은?'      # 사용자 질문\n",
    "# docs = pdf_retriever.invoke(question)               # 질문에 대해서 관련 문서를 검색한다.\n",
    "\n",
    "docs = pdf_retriever.invoke(state['question'])        # 질문에 대해서 관련 문서를 검색한다.\n",
    "\n",
    "filtered_docs = []                                    # 문서 검색 평가기를 통과한 문서들만 필터링\n",
    "\n",
    "for doc in docs:\n",
    "    result = retrieval_grader.invoke({'question': state['question'], 'document': doc.page_content})\n",
    "    print(f\"result.binary_score: {result.binary_score}\")\n",
    "    \n",
    "    if result.binary_score == 'yes':\n",
    "        filtered_docs.append(doc)"
   ]
  },
  {
   "cell_type": "markdown",
   "metadata": {},
   "source": [
    "### 답변 생성을 위한 RAG 체인"
   ]
  },
  {
   "cell_type": "code",
   "execution_count": 15,
   "metadata": {},
   "outputs": [],
   "source": [
    "from langchain_core.output_parsers import StrOutputParser\n",
    "from langchain_openai import ChatOpenAI\n",
    "from langchain import hub\n",
    "\n",
    "# prompt = hub.pull(\"teddynote/rag-prompt\")\n",
    "\n",
    "template = \"\"\"You are an AI assistant specializing in Question-Answering (QA) tasks within a Retrieval-Augmented Generation (RAG) system. \n",
    "Your primary mission is to answer questions based on provided context or chat history.\n",
    "Ensure your response is concise and directly addresses the question without any additional narration.\n",
    "\n",
    "###\n",
    "\n",
    "Your final answer should be written concisely (but include important numerical values, technical terms, jargon, and names), followed by the source of the information.\n",
    "\n",
    "# Steps\n",
    "\n",
    "1. Carefully read and understand the context provided.\n",
    "2. Identify the key information related to the question within the context.\n",
    "3. Formulate a concise answer based on the relevant information.\n",
    "4. Ensure your final answer directly addresses the question.\n",
    "5. List the source of the answer in bullet points, which must be a file name (with a page number) or URL from the context. Omit if the source cannot be found.\n",
    "\n",
    "# Output Format:\n",
    "[Your final answer here, with numerical values, technical terms, jargon, and names in their original language]\n",
    "\n",
    "**Source**(Optional)\n",
    "- (Source of the answer, must be a file name(with a page number) or URL from the context. Omit if you can't find the source of the answer.)\n",
    "- (list more if there are multiple sources)\n",
    "- ...\n",
    "\n",
    "###\n",
    "\n",
    "Remember:\n",
    "- It's crucial to base your answer solely on the **PROVIDED CONTEXT**. \n",
    "- DO NOT use any external knowledge or information not present in the given materials.\n",
    "- If you can't find the source of the answer, you should answer that you don't know.\n",
    "\n",
    "###\n",
    "\n",
    "# Here is the user's QUESTION that you should answer:\n",
    "{question}\n",
    "\n",
    "# Here is the CONTEXT that you should use to answer the question:\n",
    "{context}\n",
    "\n",
    "# Your final ANSWER to the user's QUESTION:\"\"\"\n",
    "\n",
    "prompt = ChatPromptTemplate.from_template(template)\n",
    "\n",
    "llm = ChatOpenAI(\n",
    "    api_key=key, \n",
    "    model='gpt-4o-mini', \n",
    "    temperature=0\n",
    ")\n",
    "\n",
    "def format_docs(docs):\n",
    "    return \"\\n\\n\".join(\n",
    "        [\n",
    "            f'<document><content>{doc.page_content}</content><source>{doc.metadata[\"source\"]}</source><page>{doc.metadata[\"page\"]+1}</page></document>'\n",
    "            for doc in docs\n",
    "        ]\n",
    "    )\n",
    "\n",
    "output_parser = StrOutputParser()\n",
    "\n",
    "# RAG 체인 생성 (pdf_retriever 문서 검색기를 사용해서 얻은 문서와 사용자 질문을 넣어서 결과)\n",
    "rag_chain = prompt | llm | output_parser"
   ]
  },
  {
   "cell_type": "code",
   "execution_count": 16,
   "metadata": {},
   "outputs": [
    {
     "name": "stdout",
     "output_type": "stream",
     "text": [
      "question: 삼성전자가 만든 생성형 AI 이름은?\n",
      "format_docs(docs): <document><content>▹ 삼성전자, 자체 개발 생성 AI ‘삼성 가우스’ 공개 ···························································10\n",
      "▹ 구글, 앤스로픽에 20억 달러 투자로 생성 AI 협력 강화 ················································11\n",
      "▹ IDC, 2027년 AI 소프트웨어 매출 2,500억 달러 돌파 전망···········································12</content><source>data/SPRI_AI_Brief_2023년12월호_F.pdf</source><page>2</page></document>\n",
      "\n",
      "<document><content>SPRi AI Brief |\n",
      "2023-12월호\n",
      "삼성전자, 자체 개발 생성 AI ‘삼성 가우스’ 공개\n",
      "KEY Contents\n",
      "n 삼성전자가 온디바이스에서 작동 가능하며 언어, 코드, 이미지의 3개 모델로 구성된 자체 개발 생성\n",
      "AI 모델 ‘삼성 가우스’를 공개\n",
      "n 삼성전자는 삼성 가우스를 다양한 제품에 단계적으로 탑재할 계획으로, 온디바이스 작동이 가능한\n",
      "삼성 가우스는 외부로 사용자 정보가 유출될 위험이 없다는 장점을 보유\n",
      "£언어, 코드, 이미지의 3개 모델로 구성된 삼성 가우스, 온디바이스 작동 지원</content><source>data/SPRI_AI_Brief_2023년12월호_F.pdf</source><page>13</page></document>\n",
      "\n",
      "<document><content>£언어, 코드, 이미지의 3개 모델로 구성된 삼성 가우스, 온디바이스 작동 지원\n",
      "n 삼성전자가 2023년 11월 8일 열린 ‘삼성 AI 포럼 2023’ 행사에서 자체 개발한 생성 AI 모델\n",
      "‘삼성 가우스’를 최초 공개\n",
      "∙ 정규분포 이론을 정립한 천재 수학자 가우스(Gauss)의 이름을 본뜬 삼성 가우스는 다양한 상황에\n",
      "최적화된 크기의 모델 선택이 가능\n",
      "∙ 삼성 가우스는 라이선스나 개인정보를 침해하지 않는 안전한 데이터를 통해 학습되었으며,\n",
      "온디바이스에서 작동하도록 설계되어 외부로 사용자의 정보가 유출되지 않는 장점을 보유</content><source>data/SPRI_AI_Brief_2023년12월호_F.pdf</source><page>13</page></document>\n",
      "\n",
      "<document><content>어시스턴트를 적용한 구글 픽셀(Pixel)과 경쟁할 것으로 예상\n",
      "☞ 출처 : 삼성전자, ‘삼성 AI 포럼’서 자체 개발 생성형 AI ‘삼성 가우스’ 공개, 2023.11.08.\n",
      "삼성전자, ‘삼성 개발자 콘퍼런스 코리아 2023’ 개최, 2023.11.14.\n",
      "TechRepublic, Samsung Gauss: Samsung Research Reveals Generative AI, 2023.11.08.\n",
      "10</content><source>data/SPRI_AI_Brief_2023년12월호_F.pdf</source><page>13</page></document>\n",
      "\n",
      "<document><content><구글 딥마인드의 범용 AI 분류 프레임워크>\n",
      "성능 특수 AI 예시 범용 AI 예시\n",
      "0단계: AI 아님 계산기 소프트웨어, 컴파일러 아마존 메커니컬 터크\n",
      "1단계: 신진(숙련되지 않은 인간) GOFAI(Good Old Fashioned Artificial Intelligence) 챗GPT, 바드, 라마2\n",
      "스마트 스피커(애플 시리, 아마존 알렉사, 구글\n",
      "2단계: 유능(숙련된 인간의 50% 이상) 미달성\n",
      "어시스턴트), IBM 왓슨\n",
      "3단계: 전문가(숙련된 인간의 90% 이상) 문법 교정기(그래머리), 생성 이미지 모델(달리2) 미달성</content><source>data/SPRI_AI_Brief_2023년12월호_F.pdf</source><page>19</page></document>\n",
      "\n",
      "<document><content>처리를 지원\n",
      "∙ 코드 모델 기반의 AI 코딩 어시스턴트 ‘코드아이(code.i)’는 대화형 인터페이스로 서비스를 제공하며\n",
      "사내 소프트웨어 개발에 최적화\n",
      "∙ 이미지 모델은 창의적인 이미지를 생성하고 기존 이미지를 원하는 대로 바꿀 수 있도록 지원하며\n",
      "저해상도 이미지의 고해상도 전환도 지원\n",
      "n IT 전문지 테크리퍼블릭(TechRepublic)은 온디바이스 AI가 주요 기술 트렌드로 부상했다며,\n",
      "2024년부터 가우스를 탑재한 삼성 스마트폰이 메타의 라마(Llama)2를 탑재한 퀄컴 기기 및 구글</content><source>data/SPRI_AI_Brief_2023년12월호_F.pdf</source><page>13</page></document>\n",
      "\n",
      "<document><content>온디바이스에서 작동하도록 설계되어 외부로 사용자의 정보가 유출되지 않는 장점을 보유\n",
      "∙ 삼성전자는 삼성 가우스를 활용한 온디바이스 AI 기술도 소개했으며, 생성 AI 모델을 다양한 제품에\n",
      "단계적으로 탑재할 계획\n",
      "n 삼성 가우스는 △텍스트를 생성하는 언어모델 △코드를 생성하는 코드 모델 △이미지를 생성하는\n",
      "이미지 모델의 3개 모델로 구성\n",
      "∙ 언어 모델은 클라우드와 온디바이스 대상 다양한 모델로 구성되며, 메일 작성, 문서 요약, 번역 업무의\n",
      "처리를 지원</content><source>data/SPRI_AI_Brief_2023년12월호_F.pdf</source><page>13</page></document>\n",
      "\n",
      "<document><content>제작을 포함\n",
      "n 알리바바 클라우드는 급증하는 생성 AI 수요에 대응해 모델 개발과 애플리케이션 구축 절차를\n",
      "간소화하는 올인원 AI 모델 구축 플랫폼 ‘젠AI(GenAI)’도 공개\n",
      "∙ 이 플랫폼은 데이터 관리, 모델 배포와 평가, 신속한 엔지니어링을 위한 종합 도구 모음을 제공하여\n",
      "다양한 기업들이 맞춤형 AI 모델을 한층 쉽게 개발할 수 있도록 지원\n",
      "∙ 생성 AI 개발에 필요한 컴퓨팅과 데이터 처리 요구사항을 지원하기 위해 AI 플랫폼(PAI),\n",
      "데이터베이스 솔루션, 컨테이너 서비스와 같은 클라우드 신제품도 발표</content><source>data/SPRI_AI_Brief_2023년12월호_F.pdf</source><page>12</page></document>\n",
      "\n",
      "<document><content>▹ 빌 게이츠, AI 에이전트로 인한 컴퓨터 사용의 패러다임 변화 전망································13\n",
      "▹ 유튜브, 2024년부터 AI 생성 콘텐츠 표시 의무화····························································14\n",
      "3. 기술/연구\n",
      "▹ 영국 과학혁신기술부, AI 안전 연구소 설립 발표······························································15</content><source>data/SPRI_AI_Brief_2023년12월호_F.pdf</source><page>2</page></document>\n",
      "\n",
      "<document><content>만들었다고 오해할 소지가 있다고 지적\n",
      "∙ 저작권법에 저촉되는 행위는 불공정 경쟁이나 기만행위에도 해당될 수 있으며, 창작자의 평판 악화,\n",
      "저작물의 가치 저하나 개인정보 유출로 소비자에 상당한 피해를 초래 가능\n",
      "n FTC는 일부 빅테크가 막대한 재원을 활용해 생성 AI 사용자의 이탈을 막고 저작권이 있는 상용\n",
      "데이터에 대한 독점 라이선스를 확보해 시장 지배력을 더욱 강화할 수 있다는 우려도 제기\n",
      "∙ 이와 관련 FTC는 아마존 AI 비서 ‘알렉사(Alexa)’와 스마트홈 보안 기기 ‘링(Ring)’이 소비자의 사적</content><source>data/SPRI_AI_Brief_2023년12월호_F.pdf</source><page>8</page></document>\n"
     ]
    }
   ],
   "source": [
    "# RAG 체인에 질문을 전달하여 답변 생성 테스트\n",
    "print(f\"question: {state['question']}\")\n",
    "print(f'format_docs(docs): {format_docs(docs)}')"
   ]
  },
  {
   "cell_type": "code",
   "execution_count": 17,
   "metadata": {},
   "outputs": [
    {
     "data": {
      "text/plain": [
       "\"삼성전자가 만든 생성형 AI의 이름은 '삼성 가우스'입니다.\\n\\n**Source**\\n- data/SPRI_AI_Brief_2023년12월호_F.pdf (page 13)\""
      ]
     },
     "execution_count": 17,
     "metadata": {},
     "output_type": "execute_result"
    }
   ],
   "source": [
    "generation = rag_chain.invoke({'context': format_docs(docs), 'question': state['question']})\n",
    "generation"
   ]
  },
  {
   "cell_type": "markdown",
   "metadata": {},
   "source": [
    "# 답변에 대한 Hallucination checker 추가"
   ]
  },
  {
   "cell_type": "code",
   "execution_count": 18,
   "metadata": {},
   "outputs": [],
   "source": [
    "from langchain_openai import ChatOpenAI\n",
    "from langchain_core.prompts import ChatPromptTemplate\n",
    "from langchain_core.output_parsers import StrOutputParser\n",
    "\n",
    "class GradeHallucinations(BaseModel):\n",
    "    \"\"\"Binary score for hallucination present in generation answer.\"\"\"\n",
    "\n",
    "    binary_score: str = Field(\n",
    "        description=\"Answer is grounded in the facts, 'yes' or 'no'\"\n",
    "    )\n",
    "\n",
    "\n",
    "llm = ChatOpenAI(\n",
    "    api_key=key, \n",
    "    model='gpt-4o-mini', \n",
    "    temperature=0\n",
    ")\n",
    "\n",
    "structured_hallucination_grader = llm.with_structured_output(GradeHallucinations)\n",
    "\n",
    "# system\n",
    "system = \"\"\"You are a grader assessing whether an LLM generation is grounded in / supported by a set of retrieved facts. \\n \n",
    "    Give a binary score 'yes' or 'no'. 'Yes' means that the answer is grounded in / supported by the set of facts.\"\"\"\n",
    "\n",
    "# 프롬프트\n",
    "hallucination_prompt = ChatPromptTemplate.from_messages(\n",
    "    [\n",
    "        (\"system\", system),\n",
    "        (\"human\", \"Set of facts: \\n\\n {documents} \\n\\n LLM generation: {generation}\"),\n",
    "    ]\n",
    ") \n",
    "\n",
    "# hallucination 평가기 생성\n",
    "hallucination_grader = hallucination_prompt | structured_hallucination_grader"
   ]
  },
  {
   "cell_type": "code",
   "execution_count": 19,
   "metadata": {},
   "outputs": [
    {
     "data": {
      "text/plain": [
       "GradeHallucinations(binary_score='yes')"
      ]
     },
     "execution_count": 19,
     "metadata": {},
     "output_type": "execute_result"
    }
   ],
   "source": [
    "# hallucination 평가기 테스트 (생성된 답변과 질문에 대한 평가)\n",
    "hallucination_grader.invoke({\"documents\": format_docs(docs), \"generation\": generation})"
   ]
  },
  {
   "cell_type": "code",
   "execution_count": 20,
   "metadata": {},
   "outputs": [],
   "source": [
    "class GradeAnswer(BaseModel):                       # 사용자 질문과 RAG 실행 결과의 답변에 대한 평가  \n",
    "    \"\"\"Binary scoring to evaluate the appropriateness of answers to questions\"\"\"\n",
    "\n",
    "    binary_score: str = Field(\n",
    "        description=\"Indicate 'yes' or 'no' whether the answer solves the question\"\n",
    "    )\n",
    "\n",
    "llm = ChatOpenAI(\n",
    "    api_key=key, \n",
    "    model='gpt-4o-mini', \n",
    "    temperature=0\n",
    ")\n",
    "\n",
    "structured_llm_grader = llm.with_structured_output(GradeAnswer)\n",
    "\n",
    "# system\n",
    "system = \"\"\"You are a grader assessing whether an answer addresses / resolves a question \\n \n",
    "     Give a binary score 'yes' or 'no'. Yes' means that the answer resolves the question.\"\"\"\n",
    "\n",
    "# 프롬프트 템플릿\n",
    "answer_prompt = ChatPromptTemplate.from_messages(\n",
    "    [\n",
    "        (\"system\", system),\n",
    "        (\"human\", \"User question: \\n\\n {question} \\n\\n LLM generation: {generation}\"),\n",
    "    ]\n",
    ")\n",
    "\n",
    "# 프롬프트 템플릿과 구조화된 LLM 평가기를 결합하여 답변 평가기 생성\n",
    "answer_grader = answer_prompt | structured_llm_grader"
   ]
  },
  {
   "cell_type": "markdown",
   "metadata": {},
   "source": [
    "### 쿼리 재작성 (Query Rewriter)"
   ]
  },
  {
   "cell_type": "code",
   "execution_count": 21,
   "metadata": {},
   "outputs": [],
   "source": [
    "from langchain_openai import ChatOpenAI\n",
    "from langchain_core.prompts import ChatPromptTemplate\n",
    "from langchain_core.output_parsers import StrOutputParser\n",
    "\n",
    "\n",
    "llm = ChatOpenAI(\n",
    "    api_key=key, \n",
    "    model='gpt-4o-mini', \n",
    "    temperature=0\n",
    ")\n",
    "\n",
    "# Query Rewriter 프롬프트\n",
    "system = \"\"\"You a question re-writer that converts an input question to a better version that is optimized \\n \n",
    "for vectorstore retrieval. Look at the input and try to reason about the underlying semantic intent / meaning.\"\"\"\n",
    "\n",
    "re_writer_prompt = ChatPromptTemplate.from_messages(\n",
    "    [\n",
    "        ('system', system), \n",
    "        ('human', 'Here is the initial question: \\n\\n {question} \\n Formulate an improved question')\n",
    "    ]\n",
    ")\n",
    "\n",
    "# Query Rewriter 생성\n",
    "question_rewriter = re_writer_prompt | llm | StrOutputParser()"
   ]
  },
  {
   "cell_type": "code",
   "execution_count": 22,
   "metadata": {},
   "outputs": [
    {
     "data": {
      "text/plain": [
       "'삼성전자가 개발한 생성형 AI의 이름은 무엇인가요?'"
      ]
     },
     "execution_count": 22,
     "metadata": {},
     "output_type": "execute_result"
    }
   ],
   "source": [
    "# 테스트\n",
    "question_rewriter.invoke({'question': state['question']})"
   ]
  },
  {
   "cell_type": "code",
   "execution_count": 23,
   "metadata": {},
   "outputs": [],
   "source": [
    "from langchain_teddynote.tools.tavily import TavilySearch\n",
    "\n",
    "# 웹 검색 도구 생성\n",
    "web_search_tool = TavilySearch(max_results=2)"
   ]
  },
  {
   "cell_type": "code",
   "execution_count": 24,
   "metadata": {},
   "outputs": [
    {
     "data": {
      "text/plain": [
       "[{'title': \"'대구 고깃집' 맛집 빅데이터 추천순위 Top100 - 다이닝코드\",\n",
       "  'url': 'https://www.diningcode.com/list.dc?query=대구++고깃집',\n",
       "  'content': '3. 육즙 대구 --------- 73점 5.0 (2명) 영업 중 삼겹살 회식,주차,예약,콜키지  \"직접 고기를 구워주시니 편했고 고기도 맛있는데 밑반찬이 진리입니댜\" 6. 고기굽는남자 본점 ------------- 72점 4.5 (12명) 영업 중 삼겹살 술모임,무료주차,시끌벅적한,단체석  \"제 최애 고깃집이에요\" 9. 은하수식당 삼덕동 ------------- 72점 4.9 (6명) 영업 중 삼겹살 술모임,주차,서민적인  \"대구 삼덕동에 위치한 고깃집입니다.\" 83해치 복현점 ------------- 69점 5.0 (2명) 영업 중 삼겹살 회식,예약,예약가능  \"복현동 먹자골목 고기 맛집, 직원들 텐션이 어마무시한 고깃집 😲 고기도 다 구워주고 편하게 먹기 좋은곳 매장도 넓어서 회식하기 좋을듯!\" 혜옥당 대구 ----------- 69점 4.9 (7명) 영업 중 삼겹살 술모임,캐주얼한  \"프라이빗한 느낌을 줘서 일반 고깃집보다 편안하게 즐길 수 있다 너무 시끌벅적한 느낌이 아니라 편안..레트로 인테리어가 정감있었던 구워주는 고깃집 맛있게 구워주셔서 좋은데 비계가 정말 많아서 마지막엔 살짝 느끼했다 그럴때 냉메밀면 먹으면 내려감\" 고기굽는남자 신세계점 ---------------- 69점 4.5 (11명) 영업 중 삼겹살 식사모임,무료주차,시끌벅적한,놀이방  \"오랜만에 방문했는데 역시 맛있어요!!!',\n",
       "  'score': 0.7283819,\n",
       "  'raw_content': '\\'대구 고깃집\\' 맛집 빅데이터 추천순위 Top100 - 다이닝코드\\n\\n\\n\\n이용자층\\n카테고리방문목적편의기능분위기인증맛집\\n\\n20대\\n30대\\n40대\\n50대\\n60대 이상\\n\\n\\n\\n여성\\n\\n남성\\n\\n\\n연관순\\n\\n평점순\\n리뷰많은순\\n좋아요많은순\\n거리순\\n\\n\\n대구 고깃집\\xa0맛집 (4,097곳)\\n\\n💁🏻 대구에서 많이 검색된 키워드\\n막창뭉티기뷔페24시간영업돈까스카페아침식사빵집더보기\\n1. 로산가옥 삼덕동 ------------ 75점 4.1 (14명) 영업 중 삼겹살 식사모임,시끌벅적한,콜키지  \"예쁜 고기집인 로산 가옥 웨이팅이 길고 안에가 생각보다 더워요\"\\n2. 상구네돼지구이 수성못점 ---------------- 75점 4.7 (23명) 영업 중 삼겹살 식사모임,무료주차,깔끔한,셀프바  \"외관도 고기집같지않고 패밀리 레스토랑 같아서 이쁩니다 직원들 친절한건 말할것도 없고 무엇보다 고기가 진짜 찐으로 맛있습니다\"\\n3. 육즙 대구 --------- 73점 5.0 (2명) 영업 중 삼겹살 회식,주차,예약,콜키지  \"직접 고기를 구워주시니 편했고 고기도 맛있는데 밑반찬이 진리입니댜\"\\n\\n4. 돼지만 본점 ---------- 72점 4.6 (9명) 영업 중 삼겹살 식사모임,무료주차,시끌벅적한,단체석  \"리모델링되어서 신축 제주도 돌담컨셉으로 리뉴얼되어서 깔끔해서 좋았다 단지 배가 부른상태로 2명이서 방문하였는데 저녁시간에는 3인분부터 주문가능임을 미리공지안하셔서 조금 당황했다\"\\n\\n5. 83해치 봉덕동 ------------ 71점 4.9 (4명) 영업 중 삼겹살 식사모임,주차,깔끔한  \"평소에 자주가는 맛집입니다 사장님 외에 다른 직원분들도 친절 하시고 직접 고기를 구워주시는 점에서 매우 마음에 들어요 이런저런 스몰토크나 여성분이 오시면 머리끈 혹은 춥다면 담요까\"\\n6. 고기굽는남자 본점 ------------- 72점 4.5 (12명) 영업 중 삼겹살 술모임,무료주차,시끌벅적한,단체석  \"제 최애 고깃집이에요\"\\n7. 미식가의구이 대구신월성점 ----------------- 71점 5.0 (6명) 영업 중 고깃집 술모임,발렛파킹,시끌벅적한  \"고기 상태가 좋아보였고 구워 먹었을 때 질기지않고 맛있었어요\"\\n8. 참한집 종로점 ----------- 72점 4.8 (11명) 영업 중 삼겹살 술모임,시끌벅적한  \"우연히 들렀다가 보물을 발견하고 꾸준히 가고 있는 고깃집이에요\"\\n9. 은하수식당 삼덕동 ------------- 72점 4.9 (6명) 영업 중 삼겹살 술모임,주차,서민적인  \"대구 삼덕동에 위치한 고깃집입니다.\"\\n10. 양파식당 대구 ------------ 76점 4.7 (13명) 영업 중 미국산소고기, 갈비살 술모임,무료주차,가성비좋은,놀이방  \"대구 24시간 고깃집, 가성비가 좋기로 유명한 양파식당...이 근처에 산다면 이만한 고깃집을 찾기는 힘들다...일반 고깃집에선 볼 수 없는 야끼니쿠를 먹을수 있다는것이 차별점이기도 하다...매번 사람이 친절할 순 없지만(알바가 잘못 걸리거나 사람이 워낙 많은 날)한 두번 이외에는 매우 친절했으며 밑반찬으로 처음에는 계란찜도 나오며 개인적으로는 고깃집에서 재래기를 고기\"\\n11. 돼지만왕 소금구이 진천동 ------------------ 69점 4.8 (6명) 영업 중 삼겹살 술모임,주차,캐주얼한  \"정말 맛 있는 삼겹살집. 굳이 흠을 잡자면 지역문화인 3인분 주문이 기본인 것, 하지만 기본반찬을 보면 그 마저도 용서가 된다. 최고\"\\n12. 83해치 복현점 ------------- 69점 5.0 (2명) 영업 중 삼겹살 회식,예약,예약가능  \"복현동 먹자골목 고기 맛집, 직원들 텐션이 어마무시한 고깃집 😲 고기도 다 구워주고 편하게 먹기 좋은곳 매장도 넓어서 회식하기 좋을듯!\"\\n13. 돼지싸다구 다사 ------------- 69점 4.6 (7명) 영업 중 돼지고기, 삼겹살 술모임,가성비좋은,단체석  \"직접 구워주시니 더 맛잇는거 같아요^^ 가족외식이나 회식자리에도 촣아요\"\\n14. 혜옥당 대구 ----------- 69점 4.9 (7명) 영업 중 삼겹살 술모임,캐주얼한  \"프라이빗한 느낌을 줘서 일반 고깃집보다 편안하게 즐길 수 있다 너무 시끌벅적한 느낌이 아니라 편안..레트로 인테리어가 정감있었던 구워주는 고깃집 맛있게 구워주셔서 좋은데 비계가 정말 많아서 마지막엔 살짝 느끼했다 그럴때 냉메밀면 먹으면 내려감\"\\n15. 고기굽는남자 신세계점 ---------------- 69점 4.5 (11명) 영업 중 삼겹살 식사모임,무료주차,시끌벅적한,놀이방  \"오랜만에 방문했는데 역시 맛있어요!!! 고기 구워주시니까 편하고 밑반찬도 많고 같이 구워먹을거리랑 멜젓도 나와서 좋아요. 술 시키니까 조개탕도 주네요 굿!!\"\\n16. 금돈미가 대구중구 -------------- 68점 5.0 (3명) 영업 중 삼겹살 데이트,주차,고급스러운,바테이블  \"여긴 진짜 오마카세 느낌이 가득한 고기집이였어요!..데이트 할때 가면 딱 좋을 고기집\"\\n17. 돼지만 왕소금구이 화원점 ------------------ 68점 5.0 (5명) 영업 중 삼겹살 가족외식,무료주차,지역주민이찾는,좌식테이블  \"삼겹살과 목살은 덩어리로 나오는데, 덩어리 고기가 육즙이 잘 잡힌다는 기본 상식이 확실한 맛집. 먹을수 있을때까지 구워주는 기가막힌 서비스로 자주 찾는 단골집이다. 콩나물 무침과 \"\\n18. 만재네 대구중구 ------------- 67점 4.5 (5명) 영업 중 삼겹살 술모임,주차,푸짐한,테라스  \"다른고기집보다 훨씬 깔끔하고 특히 목살이 너무 맛있고 된장술밥이랑 너무 잘어울려서 자주 방문합니다\"\\n19. 서민갈비 두산동 ------------- 72점 3.8 (15명) 영업 중 돼지갈비 회식,무료주차,시끌벅적한  \"돼지갈비 맛집이예요 직원분들이 고기 구워주셔서 편하게 먹을수 있습니다 주차장도 있어서 편리합니다\"\\n20. 박창우의소백산왕소금구이 율하 -------------------- 67점 5.0 (1명) 영업 중 삼겹살 모임장소,주차,숯불,테라스  \"가브리가 정말 미쳤음 지금껏 먹은 가브리중에 압도적 원탑임 된장찌개도 미침\"\\n\\n\\n\\n이 지역 재검색\\n맛집 20곳 더보기\\n1 로산가옥 삼덕동 삼겹살\\n2 상구네돼지구이 수성못점 삼겹살\\n3 육즙 대구 삼겹살\\n4 돼지만 본점 삼겹살\\n5 83해치 봉덕동 삼겹살\\n6 고기굽는남자 본점 삼겹살\\n7 미식가의구이 대구신월성점 고깃집\\n8 참한집 종로점 삼겹살\\n9 은하수식당 삼덕동 삼겹살\\n10 양파식당 대구 미국산소고기, 갈비살\\n11 돼지만왕 소금구이 진천동 삼겹살\\n12 83해치 복현점 삼겹살\\n13 돼지싸다구 다사 돼지고기, 삼겹살\\n14 혜옥당 대구 삼겹살\\n15 고기굽는남자 신세계점 삼겹살\\n16 금돈미가 대구중구 삼겹살\\n17 돼지만 왕소금구이 화원점 삼겹살\\n18 만재네 대구중구 삼겹살\\n19 서민갈비 두산동 돼지갈비\\n20 박창우의소백산왕소금구이 율하 삼겹살\\n\\n지도 확대 및 축소는 오른쪽 스크롤 바를 이용해 주세요.'},\n",
       " {'title': '대구 남구 명덕역 근처 고깃집 우리고기 - 네이버 블로그',\n",
       "  'url': 'https://m.blog.naver.com/daily_g_/223257399809',\n",
       "  'content': '대구 남구 명덕에 위치한 고깃집 ... 확인해 주시면서 더 맛있게 먹는 방법까지 알려주세요. 쌈무에 고기 쌈장 바르고. 구운 김치 올려서 한입 왕-! 그냥 먹어도 맛있지만. 알려주신 방법으로 싸먹어도 맛있어요',\n",
       "  'score': 0.685971,\n",
       "  'raw_content': '블로그\\n\\n카테고리 이동\\n\\n\\n\\n\\n데일리지\\n\\n대구 남구 명덕역 근처 고깃집 우리고기\\n\\n2023. 11. 6. 20:03\\n\\n\\u200b\\n\\n\\u200b\\n\\n대구 남구 명덕에 위치한 고깃집\\n\\n우리 고기에 방문했어요\\n\\n직접 썬 눈꽃 삼겹살이 있는 고깃집이에요\\n\\n친절하신 사장님과 구워주시는 서비스에\\n\\n맛집 제대로 찾은 느낌~\\n\\n\\u200b\\n\\n\\u200b\\n\\n매장은 단체 손님도 가능할 만큼의 공간과\\n\\n테이블이 있어요\\n\\n근처 회식자리로도 딱인데요?!\\n\\n명덕역과도 가까이에 위치해 있어\\n\\n방문하기에 어려움이 없어요\\n\\n매장 앞에는 주차장도 있어\\n\\n일찍 방문하시면 주차도 가능해 보여요\\n\\n주차장은 가게 앞에 위치해 있어\\n\\n넓진 않고 몇 대 만 가능한 정도예요\\n\\n\\u200b\\n\\n\\u200b\\n\\n깔끔하고 넓은 매장!\\n\\n항상 지나갈 때마다 고기 냄새 맡으며\\n\\n한번 와봐야지 했는데 이제야 방문해 보네요\\n\\n창가 쪽 자리도 있어서 더 맛있는 냄새가\\n\\n폴폴 났었나 봐요~\\n\\n메뉴는 눈꽃 삼겹, 눈꽃 목살, 눈꽃 소 갈비살,\\n\\n아베리코 갈비살 등 고기 메뉴가 있고\\n\\n돼지찌개와 다른 식사류도 있어요\\n\\n고기를 구워 먹지 않아도\\n\\n식사하러 방문해도 좋겠어요!\\n\\n\\u200b\\n\\n\\u200b\\n\\n기본으로 나오는 싱싱한 야채들!\\n\\n상추, 깻잎, 고추까지\\n\\n다 너무 신선함이 느껴져서\\n\\n안 먹을 수 없더라고요!\\n\\n싱싱한 야채가 보이니 저절이 손이 가요\\n\\n\\u200b\\n\\n\\u200b\\n\\n쌈장과 마을 슬라이스,\\n\\n쌈무와 명이나물까지!\\n\\n기본 반찬으로 이렇게 나온답니다\\n\\n사장님이 중간중간 구워주시고\\n\\n확인해 주시면서 더 맛있게 먹는 방법까지 알려주세요\\n\\n쌈무에 고기 쌈장 바르고\\n\\n구운 김치 올려서 한입 왕-!\\n\\n그냥 먹어도 맛있지만\\n\\n알려주신 방법으로 싸먹어도 맛있어요\\n\\n\\u200b\\n\\n\\u200b\\n\\n직접 칼집 낸 눈꽃 삼겹살~\\n\\n지글 지글 불판에 올려봐요\\n\\n먼지 김지와 콩나물을 올려주시고\\n\\n고깃기름에 더 맛있게 익도록\\n\\n위치를 잡고 올려주세요\\n\\n그냥 구워 먹어도 맛있는 김치\\n\\n고깃기름에 구워지면 더 맛있을수밖에 없죠!!\\n\\n\\u200b\\n\\n\\u200b\\n\\n콩나물과 김치 수시로 뒤집어 주기~\\n\\n구운 김치와 콩나물을 너무 잘 먹어서 인지\\n\\n중간에 고기 확인하고 구워주시던 사장님이\\n\\n2번이나 리필해 주셨어요\\n\\n마지막 리필은 2번 리필할 양으로\\n\\n넉넉하게 추가해 주셨어요\\n\\n그것마저 다 구워먹었다...ㅎㅎ\\n\\n고기만큼이나 같이 구워 먹는 김치\\n\\n포기 못해~\\n\\n\\u200b\\n\\n\\u200b\\n\\n사장님 덜 바쁘실 때 고기 먹기 좋게 구워주시고\\n\\n잘라주시고 맛있게 먹는 방법까지\\n\\n전주해주시고 가세요\\n\\n저녁 식사시간에 방문해서\\n\\n손님이 많아지니 계속 구워주시진 못해서\\n\\n굽는 방법 전수받고 구워 먹었어요\\n\\n눈꽃 삼겹살은 정갈하게 잘려\\n\\n나열된 모습 보는 맛도 있죠\\n\\n\\u200b\\n\\n\\u200b\\n\\n마무리로 된장찌개에 밥 먹을까 하다가\\n\\n된장말이가 있더라고요!\\n\\n된장찌개에 밥이 말아져서 나와요\\n\\n따로 시키는 것보다 가격이 있지만\\n\\n된장말이는 안 먹어봐서\\n\\n궁금하기도 하고 주문해 봤어요\\n\\n보글보글\\n\\n버섯이 많이 들어가 있는 모습이죠\\n\\n\\u200b\\n\\n\\u200b\\n\\n멸치 베이스의 국물이 느껴져요\\n\\n진하고 깊은 맛!\\n\\n버섯도 많이 들어 있고\\n\\n진득하고 멸치육수의 진한 된장찌개 맛이에요\\n\\n맛과 함께 끓여져서 나와\\n\\n푹 삶아진 된장말이를 맛볼 수 있어요\\n\\n\\u200b\\n\\n대구광역시 남구 명덕로 178 1층\\n\\n우리고기\\n\\n영업시간\\n\\n10:00 - 23:00\\n\\n\\u200b\\n\\n매주 일요일 휴무\\n\\n\\u200b\\n\\n\\u200b\\n\\n\\u200b\\n\\n\\u200b\\n\\n\\u200b\\n\\n#대구고깃집 #대구맛집 #대구남구고기집 #명덕맛집 #명덕고기집 #대구우리고기 #우리고기\\n\\n카테고리\\n\\n'}]"
      ]
     },
     "execution_count": 24,
     "metadata": {},
     "output_type": "execute_result"
    }
   ],
   "source": [
    "# 웹 검색 도구 호출\n",
    "result = web_search_tool.search('대구 고깃집에 대해서 알려주세요')\n",
    "result"
   ]
  },
  {
   "cell_type": "code",
   "execution_count": 25,
   "metadata": {},
   "outputs": [],
   "source": [
    "from langchain_core.documents import Document"
   ]
  },
  {
   "cell_type": "code",
   "execution_count": 26,
   "metadata": {},
   "outputs": [],
   "source": [
    "# 문서 검색 노드\n",
    "def retrieve(state: GraphState):\n",
    "    print('\\n==========================================================================================')\n",
    "    print(f\"🔄 [Node] 문서 검색 노드 🔄\")\n",
    "\n",
    "    # 사용자 질문\n",
    "    question = state['question']        \n",
    "\n",
    "    # 문서 검색\n",
    "    documents = pdf_retriever.invoke(question)\n",
    "    \n",
    "    # print(f'문서 검색 결과: ')\n",
    "    print('-------------------')\n",
    "    print(documents)\n",
    "    print('-------------------')\n",
    "    print('==========================================================================================\\n')\n",
    "    \n",
    "    return {'documents': documents}"
   ]
  },
  {
   "cell_type": "code",
   "execution_count": 31,
   "metadata": {},
   "outputs": [],
   "source": [
    "# state   \n",
    "# {'question': '삼성전자가 만든 생성형 AI 이름은?', 'generation': '', 'documents': []}"
   ]
  },
  {
   "cell_type": "code",
   "execution_count": 27,
   "metadata": {},
   "outputs": [
    {
     "name": "stdout",
     "output_type": "stream",
     "text": [
      "\n",
      "==========================================================================================\n",
      "🔄 [Node] 문서 검색 노드 🔄\n",
      "-------------------\n",
      "[Document(id='061f8c15-b18e-4e86-bf04-1c5536cdff30', metadata={'source': 'data/SPRI_AI_Brief_2023년12월호_F.pdf', 'file_path': 'data/SPRI_AI_Brief_2023년12월호_F.pdf', 'page': 1, 'total_pages': 23, 'Author': 'dj', 'Creator': 'Hwp 2018 10.0.0.13462', 'Producer': 'Hancom PDF 1.3.0.542', 'CreationDate': \"D:20231208132838+09'00'\", 'ModDate': \"D:20231208132838+09'00'\", 'PDFVersion': '1.4'}, page_content='▹ 삼성전자, 자체 개발 생성 AI ‘삼성 가우스’ 공개 ···························································10\\n▹ 구글, 앤스로픽에 20억 달러 투자로 생성 AI 협력 강화 ················································11\\n▹ IDC, 2027년 AI 소프트웨어 매출 2,500억 달러 돌파 전망···········································12'), Document(id='dbba97b5-24cf-419d-9b83-ad98675e3a51', metadata={'source': 'data/SPRI_AI_Brief_2023년12월호_F.pdf', 'file_path': 'data/SPRI_AI_Brief_2023년12월호_F.pdf', 'page': 12, 'total_pages': 23, 'Author': 'dj', 'Creator': 'Hwp 2018 10.0.0.13462', 'Producer': 'Hancom PDF 1.3.0.542', 'CreationDate': \"D:20231208132838+09'00'\", 'ModDate': \"D:20231208132838+09'00'\", 'PDFVersion': '1.4'}, page_content='SPRi AI Brief |\\n2023-12월호\\n삼성전자, 자체 개발 생성 AI ‘삼성 가우스’ 공개\\nKEY Contents\\nn 삼성전자가 온디바이스에서 작동 가능하며 언어, 코드, 이미지의 3개 모델로 구성된 자체 개발 생성\\nAI 모델 ‘삼성 가우스’를 공개\\nn 삼성전자는 삼성 가우스를 다양한 제품에 단계적으로 탑재할 계획으로, 온디바이스 작동이 가능한\\n삼성 가우스는 외부로 사용자 정보가 유출될 위험이 없다는 장점을 보유\\n£언어, 코드, 이미지의 3개 모델로 구성된 삼성 가우스, 온디바이스 작동 지원'), Document(id='59d1577e-2e28-441a-9467-1534308ec55f', metadata={'source': 'data/SPRI_AI_Brief_2023년12월호_F.pdf', 'file_path': 'data/SPRI_AI_Brief_2023년12월호_F.pdf', 'page': 12, 'total_pages': 23, 'Author': 'dj', 'Creator': 'Hwp 2018 10.0.0.13462', 'Producer': 'Hancom PDF 1.3.0.542', 'CreationDate': \"D:20231208132838+09'00'\", 'ModDate': \"D:20231208132838+09'00'\", 'PDFVersion': '1.4'}, page_content='£언어, 코드, 이미지의 3개 모델로 구성된 삼성 가우스, 온디바이스 작동 지원\\nn 삼성전자가 2023년 11월 8일 열린 ‘삼성 AI 포럼 2023’ 행사에서 자체 개발한 생성 AI 모델\\n‘삼성 가우스’를 최초 공개\\n∙ 정규분포 이론을 정립한 천재 수학자 가우스(Gauss)의 이름을 본뜬 삼성 가우스는 다양한 상황에\\n최적화된 크기의 모델 선택이 가능\\n∙ 삼성 가우스는 라이선스나 개인정보를 침해하지 않는 안전한 데이터를 통해 학습되었으며,\\n온디바이스에서 작동하도록 설계되어 외부로 사용자의 정보가 유출되지 않는 장점을 보유'), Document(id='1540f974-04f2-414f-a98c-d033b14298ef', metadata={'source': 'data/SPRI_AI_Brief_2023년12월호_F.pdf', 'file_path': 'data/SPRI_AI_Brief_2023년12월호_F.pdf', 'page': 12, 'total_pages': 23, 'Author': 'dj', 'Creator': 'Hwp 2018 10.0.0.13462', 'Producer': 'Hancom PDF 1.3.0.542', 'CreationDate': \"D:20231208132838+09'00'\", 'ModDate': \"D:20231208132838+09'00'\", 'PDFVersion': '1.4'}, page_content='어시스턴트를 적용한 구글 픽셀(Pixel)과 경쟁할 것으로 예상\\n☞ 출처 : 삼성전자, ‘삼성 AI 포럼’서 자체 개발 생성형 AI ‘삼성 가우스’ 공개, 2023.11.08.\\n삼성전자, ‘삼성 개발자 콘퍼런스 코리아 2023’ 개최, 2023.11.14.\\nTechRepublic, Samsung Gauss: Samsung Research Reveals Generative AI, 2023.11.08.\\n10'), Document(id='ba140011-233b-42b0-aeca-27a499f35c12', metadata={'source': 'data/SPRI_AI_Brief_2023년12월호_F.pdf', 'file_path': 'data/SPRI_AI_Brief_2023년12월호_F.pdf', 'page': 18, 'total_pages': 23, 'Author': 'dj', 'Creator': 'Hwp 2018 10.0.0.13462', 'Producer': 'Hancom PDF 1.3.0.542', 'CreationDate': \"D:20231208132838+09'00'\", 'ModDate': \"D:20231208132838+09'00'\", 'PDFVersion': '1.4'}, page_content='<구글 딥마인드의 범용 AI 분류 프레임워크>\\n성능 특수 AI 예시 범용 AI 예시\\n0단계: AI 아님 계산기 소프트웨어, 컴파일러 아마존 메커니컬 터크\\n1단계: 신진(숙련되지 않은 인간) GOFAI(Good Old Fashioned Artificial Intelligence) 챗GPT, 바드, 라마2\\n스마트 스피커(애플 시리, 아마존 알렉사, 구글\\n2단계: 유능(숙련된 인간의 50% 이상) 미달성\\n어시스턴트), IBM 왓슨\\n3단계: 전문가(숙련된 인간의 90% 이상) 문법 교정기(그래머리), 생성 이미지 모델(달리2) 미달성'), Document(id='8cb48f14-e480-4943-8092-f409c19dcc31', metadata={'source': 'data/SPRI_AI_Brief_2023년12월호_F.pdf', 'file_path': 'data/SPRI_AI_Brief_2023년12월호_F.pdf', 'page': 12, 'total_pages': 23, 'Author': 'dj', 'Creator': 'Hwp 2018 10.0.0.13462', 'Producer': 'Hancom PDF 1.3.0.542', 'CreationDate': \"D:20231208132838+09'00'\", 'ModDate': \"D:20231208132838+09'00'\", 'PDFVersion': '1.4'}, page_content='처리를 지원\\n∙ 코드 모델 기반의 AI 코딩 어시스턴트 ‘코드아이(code.i)’는 대화형 인터페이스로 서비스를 제공하며\\n사내 소프트웨어 개발에 최적화\\n∙ 이미지 모델은 창의적인 이미지를 생성하고 기존 이미지를 원하는 대로 바꿀 수 있도록 지원하며\\n저해상도 이미지의 고해상도 전환도 지원\\nn IT 전문지 테크리퍼블릭(TechRepublic)은 온디바이스 AI가 주요 기술 트렌드로 부상했다며,\\n2024년부터 가우스를 탑재한 삼성 스마트폰이 메타의 라마(Llama)2를 탑재한 퀄컴 기기 및 구글'), Document(id='a1406138-9bbf-4afa-a6cf-5412515a418d', metadata={'source': 'data/SPRI_AI_Brief_2023년12월호_F.pdf', 'file_path': 'data/SPRI_AI_Brief_2023년12월호_F.pdf', 'page': 12, 'total_pages': 23, 'Author': 'dj', 'Creator': 'Hwp 2018 10.0.0.13462', 'Producer': 'Hancom PDF 1.3.0.542', 'CreationDate': \"D:20231208132838+09'00'\", 'ModDate': \"D:20231208132838+09'00'\", 'PDFVersion': '1.4'}, page_content='온디바이스에서 작동하도록 설계되어 외부로 사용자의 정보가 유출되지 않는 장점을 보유\\n∙ 삼성전자는 삼성 가우스를 활용한 온디바이스 AI 기술도 소개했으며, 생성 AI 모델을 다양한 제품에\\n단계적으로 탑재할 계획\\nn 삼성 가우스는 △텍스트를 생성하는 언어모델 △코드를 생성하는 코드 모델 △이미지를 생성하는\\n이미지 모델의 3개 모델로 구성\\n∙ 언어 모델은 클라우드와 온디바이스 대상 다양한 모델로 구성되며, 메일 작성, 문서 요약, 번역 업무의\\n처리를 지원'), Document(id='2680571d-046d-4ce5-a07f-8fa7829bb397', metadata={'source': 'data/SPRI_AI_Brief_2023년12월호_F.pdf', 'file_path': 'data/SPRI_AI_Brief_2023년12월호_F.pdf', 'page': 11, 'total_pages': 23, 'Author': 'dj', 'Creator': 'Hwp 2018 10.0.0.13462', 'Producer': 'Hancom PDF 1.3.0.542', 'CreationDate': \"D:20231208132838+09'00'\", 'ModDate': \"D:20231208132838+09'00'\", 'PDFVersion': '1.4'}, page_content='제작을 포함\\nn 알리바바 클라우드는 급증하는 생성 AI 수요에 대응해 모델 개발과 애플리케이션 구축 절차를\\n간소화하는 올인원 AI 모델 구축 플랫폼 ‘젠AI(GenAI)’도 공개\\n∙ 이 플랫폼은 데이터 관리, 모델 배포와 평가, 신속한 엔지니어링을 위한 종합 도구 모음을 제공하여\\n다양한 기업들이 맞춤형 AI 모델을 한층 쉽게 개발할 수 있도록 지원\\n∙ 생성 AI 개발에 필요한 컴퓨팅과 데이터 처리 요구사항을 지원하기 위해 AI 플랫폼(PAI),\\n데이터베이스 솔루션, 컨테이너 서비스와 같은 클라우드 신제품도 발표'), Document(id='c1f68675-a1d0-4822-98d5-ffe82d243158', metadata={'source': 'data/SPRI_AI_Brief_2023년12월호_F.pdf', 'file_path': 'data/SPRI_AI_Brief_2023년12월호_F.pdf', 'page': 1, 'total_pages': 23, 'Author': 'dj', 'Creator': 'Hwp 2018 10.0.0.13462', 'Producer': 'Hancom PDF 1.3.0.542', 'CreationDate': \"D:20231208132838+09'00'\", 'ModDate': \"D:20231208132838+09'00'\", 'PDFVersion': '1.4'}, page_content='▹ 빌 게이츠, AI 에이전트로 인한 컴퓨터 사용의 패러다임 변화 전망································13\\n▹ 유튜브, 2024년부터 AI 생성 콘텐츠 표시 의무화····························································14\\n3. 기술/연구\\n▹ 영국 과학혁신기술부, AI 안전 연구소 설립 발표······························································15'), Document(id='d6457284-85e2-4d72-95c3-bc7c2d5a9ee9', metadata={'source': 'data/SPRI_AI_Brief_2023년12월호_F.pdf', 'file_path': 'data/SPRI_AI_Brief_2023년12월호_F.pdf', 'page': 7, 'total_pages': 23, 'Author': 'dj', 'Creator': 'Hwp 2018 10.0.0.13462', 'Producer': 'Hancom PDF 1.3.0.542', 'CreationDate': \"D:20231208132838+09'00'\", 'ModDate': \"D:20231208132838+09'00'\", 'PDFVersion': '1.4'}, page_content='만들었다고 오해할 소지가 있다고 지적\\n∙ 저작권법에 저촉되는 행위는 불공정 경쟁이나 기만행위에도 해당될 수 있으며, 창작자의 평판 악화,\\n저작물의 가치 저하나 개인정보 유출로 소비자에 상당한 피해를 초래 가능\\nn FTC는 일부 빅테크가 막대한 재원을 활용해 생성 AI 사용자의 이탈을 막고 저작권이 있는 상용\\n데이터에 대한 독점 라이선스를 확보해 시장 지배력을 더욱 강화할 수 있다는 우려도 제기\\n∙ 이와 관련 FTC는 아마존 AI 비서 ‘알렉사(Alexa)’와 스마트홈 보안 기기 ‘링(Ring)’이 소비자의 사적')]\n",
      "-------------------\n",
      "==========================================================================================\n",
      "\n"
     ]
    }
   ],
   "source": [
    "answer = retrieve(state)"
   ]
  },
  {
   "cell_type": "code",
   "execution_count": 28,
   "metadata": {},
   "outputs": [],
   "source": [
    "state['documents'] = answer['documents']"
   ]
  },
  {
   "cell_type": "code",
   "execution_count": 29,
   "metadata": {},
   "outputs": [
    {
     "data": {
      "text/plain": [
       "{'question': '삼성전자가 만든 생성형 AI 이름은?',\n",
       " 'generation': '',\n",
       " 'documents': [Document(id='061f8c15-b18e-4e86-bf04-1c5536cdff30', metadata={'source': 'data/SPRI_AI_Brief_2023년12월호_F.pdf', 'file_path': 'data/SPRI_AI_Brief_2023년12월호_F.pdf', 'page': 1, 'total_pages': 23, 'Author': 'dj', 'Creator': 'Hwp 2018 10.0.0.13462', 'Producer': 'Hancom PDF 1.3.0.542', 'CreationDate': \"D:20231208132838+09'00'\", 'ModDate': \"D:20231208132838+09'00'\", 'PDFVersion': '1.4'}, page_content='▹ 삼성전자, 자체 개발 생성 AI ‘삼성 가우스’ 공개 ···························································10\\n▹ 구글, 앤스로픽에 20억 달러 투자로 생성 AI 협력 강화 ················································11\\n▹ IDC, 2027년 AI 소프트웨어 매출 2,500억 달러 돌파 전망···········································12'),\n",
       "  Document(id='dbba97b5-24cf-419d-9b83-ad98675e3a51', metadata={'source': 'data/SPRI_AI_Brief_2023년12월호_F.pdf', 'file_path': 'data/SPRI_AI_Brief_2023년12월호_F.pdf', 'page': 12, 'total_pages': 23, 'Author': 'dj', 'Creator': 'Hwp 2018 10.0.0.13462', 'Producer': 'Hancom PDF 1.3.0.542', 'CreationDate': \"D:20231208132838+09'00'\", 'ModDate': \"D:20231208132838+09'00'\", 'PDFVersion': '1.4'}, page_content='SPRi AI Brief |\\n2023-12월호\\n삼성전자, 자체 개발 생성 AI ‘삼성 가우스’ 공개\\nKEY Contents\\nn 삼성전자가 온디바이스에서 작동 가능하며 언어, 코드, 이미지의 3개 모델로 구성된 자체 개발 생성\\nAI 모델 ‘삼성 가우스’를 공개\\nn 삼성전자는 삼성 가우스를 다양한 제품에 단계적으로 탑재할 계획으로, 온디바이스 작동이 가능한\\n삼성 가우스는 외부로 사용자 정보가 유출될 위험이 없다는 장점을 보유\\n£언어, 코드, 이미지의 3개 모델로 구성된 삼성 가우스, 온디바이스 작동 지원'),\n",
       "  Document(id='59d1577e-2e28-441a-9467-1534308ec55f', metadata={'source': 'data/SPRI_AI_Brief_2023년12월호_F.pdf', 'file_path': 'data/SPRI_AI_Brief_2023년12월호_F.pdf', 'page': 12, 'total_pages': 23, 'Author': 'dj', 'Creator': 'Hwp 2018 10.0.0.13462', 'Producer': 'Hancom PDF 1.3.0.542', 'CreationDate': \"D:20231208132838+09'00'\", 'ModDate': \"D:20231208132838+09'00'\", 'PDFVersion': '1.4'}, page_content='£언어, 코드, 이미지의 3개 모델로 구성된 삼성 가우스, 온디바이스 작동 지원\\nn 삼성전자가 2023년 11월 8일 열린 ‘삼성 AI 포럼 2023’ 행사에서 자체 개발한 생성 AI 모델\\n‘삼성 가우스’를 최초 공개\\n∙ 정규분포 이론을 정립한 천재 수학자 가우스(Gauss)의 이름을 본뜬 삼성 가우스는 다양한 상황에\\n최적화된 크기의 모델 선택이 가능\\n∙ 삼성 가우스는 라이선스나 개인정보를 침해하지 않는 안전한 데이터를 통해 학습되었으며,\\n온디바이스에서 작동하도록 설계되어 외부로 사용자의 정보가 유출되지 않는 장점을 보유'),\n",
       "  Document(id='1540f974-04f2-414f-a98c-d033b14298ef', metadata={'source': 'data/SPRI_AI_Brief_2023년12월호_F.pdf', 'file_path': 'data/SPRI_AI_Brief_2023년12월호_F.pdf', 'page': 12, 'total_pages': 23, 'Author': 'dj', 'Creator': 'Hwp 2018 10.0.0.13462', 'Producer': 'Hancom PDF 1.3.0.542', 'CreationDate': \"D:20231208132838+09'00'\", 'ModDate': \"D:20231208132838+09'00'\", 'PDFVersion': '1.4'}, page_content='어시스턴트를 적용한 구글 픽셀(Pixel)과 경쟁할 것으로 예상\\n☞ 출처 : 삼성전자, ‘삼성 AI 포럼’서 자체 개발 생성형 AI ‘삼성 가우스’ 공개, 2023.11.08.\\n삼성전자, ‘삼성 개발자 콘퍼런스 코리아 2023’ 개최, 2023.11.14.\\nTechRepublic, Samsung Gauss: Samsung Research Reveals Generative AI, 2023.11.08.\\n10'),\n",
       "  Document(id='ba140011-233b-42b0-aeca-27a499f35c12', metadata={'source': 'data/SPRI_AI_Brief_2023년12월호_F.pdf', 'file_path': 'data/SPRI_AI_Brief_2023년12월호_F.pdf', 'page': 18, 'total_pages': 23, 'Author': 'dj', 'Creator': 'Hwp 2018 10.0.0.13462', 'Producer': 'Hancom PDF 1.3.0.542', 'CreationDate': \"D:20231208132838+09'00'\", 'ModDate': \"D:20231208132838+09'00'\", 'PDFVersion': '1.4'}, page_content='<구글 딥마인드의 범용 AI 분류 프레임워크>\\n성능 특수 AI 예시 범용 AI 예시\\n0단계: AI 아님 계산기 소프트웨어, 컴파일러 아마존 메커니컬 터크\\n1단계: 신진(숙련되지 않은 인간) GOFAI(Good Old Fashioned Artificial Intelligence) 챗GPT, 바드, 라마2\\n스마트 스피커(애플 시리, 아마존 알렉사, 구글\\n2단계: 유능(숙련된 인간의 50% 이상) 미달성\\n어시스턴트), IBM 왓슨\\n3단계: 전문가(숙련된 인간의 90% 이상) 문법 교정기(그래머리), 생성 이미지 모델(달리2) 미달성'),\n",
       "  Document(id='8cb48f14-e480-4943-8092-f409c19dcc31', metadata={'source': 'data/SPRI_AI_Brief_2023년12월호_F.pdf', 'file_path': 'data/SPRI_AI_Brief_2023년12월호_F.pdf', 'page': 12, 'total_pages': 23, 'Author': 'dj', 'Creator': 'Hwp 2018 10.0.0.13462', 'Producer': 'Hancom PDF 1.3.0.542', 'CreationDate': \"D:20231208132838+09'00'\", 'ModDate': \"D:20231208132838+09'00'\", 'PDFVersion': '1.4'}, page_content='처리를 지원\\n∙ 코드 모델 기반의 AI 코딩 어시스턴트 ‘코드아이(code.i)’는 대화형 인터페이스로 서비스를 제공하며\\n사내 소프트웨어 개발에 최적화\\n∙ 이미지 모델은 창의적인 이미지를 생성하고 기존 이미지를 원하는 대로 바꿀 수 있도록 지원하며\\n저해상도 이미지의 고해상도 전환도 지원\\nn IT 전문지 테크리퍼블릭(TechRepublic)은 온디바이스 AI가 주요 기술 트렌드로 부상했다며,\\n2024년부터 가우스를 탑재한 삼성 스마트폰이 메타의 라마(Llama)2를 탑재한 퀄컴 기기 및 구글'),\n",
       "  Document(id='a1406138-9bbf-4afa-a6cf-5412515a418d', metadata={'source': 'data/SPRI_AI_Brief_2023년12월호_F.pdf', 'file_path': 'data/SPRI_AI_Brief_2023년12월호_F.pdf', 'page': 12, 'total_pages': 23, 'Author': 'dj', 'Creator': 'Hwp 2018 10.0.0.13462', 'Producer': 'Hancom PDF 1.3.0.542', 'CreationDate': \"D:20231208132838+09'00'\", 'ModDate': \"D:20231208132838+09'00'\", 'PDFVersion': '1.4'}, page_content='온디바이스에서 작동하도록 설계되어 외부로 사용자의 정보가 유출되지 않는 장점을 보유\\n∙ 삼성전자는 삼성 가우스를 활용한 온디바이스 AI 기술도 소개했으며, 생성 AI 모델을 다양한 제품에\\n단계적으로 탑재할 계획\\nn 삼성 가우스는 △텍스트를 생성하는 언어모델 △코드를 생성하는 코드 모델 △이미지를 생성하는\\n이미지 모델의 3개 모델로 구성\\n∙ 언어 모델은 클라우드와 온디바이스 대상 다양한 모델로 구성되며, 메일 작성, 문서 요약, 번역 업무의\\n처리를 지원'),\n",
       "  Document(id='2680571d-046d-4ce5-a07f-8fa7829bb397', metadata={'source': 'data/SPRI_AI_Brief_2023년12월호_F.pdf', 'file_path': 'data/SPRI_AI_Brief_2023년12월호_F.pdf', 'page': 11, 'total_pages': 23, 'Author': 'dj', 'Creator': 'Hwp 2018 10.0.0.13462', 'Producer': 'Hancom PDF 1.3.0.542', 'CreationDate': \"D:20231208132838+09'00'\", 'ModDate': \"D:20231208132838+09'00'\", 'PDFVersion': '1.4'}, page_content='제작을 포함\\nn 알리바바 클라우드는 급증하는 생성 AI 수요에 대응해 모델 개발과 애플리케이션 구축 절차를\\n간소화하는 올인원 AI 모델 구축 플랫폼 ‘젠AI(GenAI)’도 공개\\n∙ 이 플랫폼은 데이터 관리, 모델 배포와 평가, 신속한 엔지니어링을 위한 종합 도구 모음을 제공하여\\n다양한 기업들이 맞춤형 AI 모델을 한층 쉽게 개발할 수 있도록 지원\\n∙ 생성 AI 개발에 필요한 컴퓨팅과 데이터 처리 요구사항을 지원하기 위해 AI 플랫폼(PAI),\\n데이터베이스 솔루션, 컨테이너 서비스와 같은 클라우드 신제품도 발표'),\n",
       "  Document(id='c1f68675-a1d0-4822-98d5-ffe82d243158', metadata={'source': 'data/SPRI_AI_Brief_2023년12월호_F.pdf', 'file_path': 'data/SPRI_AI_Brief_2023년12월호_F.pdf', 'page': 1, 'total_pages': 23, 'Author': 'dj', 'Creator': 'Hwp 2018 10.0.0.13462', 'Producer': 'Hancom PDF 1.3.0.542', 'CreationDate': \"D:20231208132838+09'00'\", 'ModDate': \"D:20231208132838+09'00'\", 'PDFVersion': '1.4'}, page_content='▹ 빌 게이츠, AI 에이전트로 인한 컴퓨터 사용의 패러다임 변화 전망································13\\n▹ 유튜브, 2024년부터 AI 생성 콘텐츠 표시 의무화····························································14\\n3. 기술/연구\\n▹ 영국 과학혁신기술부, AI 안전 연구소 설립 발표······························································15'),\n",
       "  Document(id='d6457284-85e2-4d72-95c3-bc7c2d5a9ee9', metadata={'source': 'data/SPRI_AI_Brief_2023년12월호_F.pdf', 'file_path': 'data/SPRI_AI_Brief_2023년12월호_F.pdf', 'page': 7, 'total_pages': 23, 'Author': 'dj', 'Creator': 'Hwp 2018 10.0.0.13462', 'Producer': 'Hancom PDF 1.3.0.542', 'CreationDate': \"D:20231208132838+09'00'\", 'ModDate': \"D:20231208132838+09'00'\", 'PDFVersion': '1.4'}, page_content='만들었다고 오해할 소지가 있다고 지적\\n∙ 저작권법에 저촉되는 행위는 불공정 경쟁이나 기만행위에도 해당될 수 있으며, 창작자의 평판 악화,\\n저작물의 가치 저하나 개인정보 유출로 소비자에 상당한 피해를 초래 가능\\nn FTC는 일부 빅테크가 막대한 재원을 활용해 생성 AI 사용자의 이탈을 막고 저작권이 있는 상용\\n데이터에 대한 독점 라이선스를 확보해 시장 지배력을 더욱 강화할 수 있다는 우려도 제기\\n∙ 이와 관련 FTC는 아마존 AI 비서 ‘알렉사(Alexa)’와 스마트홈 보안 기기 ‘링(Ring)’이 소비자의 사적')]}"
      ]
     },
     "execution_count": 29,
     "metadata": {},
     "output_type": "execute_result"
    }
   ],
   "source": [
    "state"
   ]
  },
  {
   "cell_type": "code",
   "execution_count": 30,
   "metadata": {},
   "outputs": [],
   "source": [
    "# 답변 생성 노드\n",
    "def generate(state: GraphState):\n",
    "    print('\\n==========================================================================================')\n",
    "    print('🔄 [Node] 답변 생성 노드 🔄')\n",
    "\n",
    "    # 사용자 질문\n",
    "    question = state['question']  \n",
    "\n",
    "    # 문서 검색 결과\n",
    "    documents = state['documents']\n",
    "\n",
    "    # RAG 실행 결과\n",
    "    generation = rag_chain.invoke({'context': documents , 'question': 'question'})\n",
    "\n",
    "    print('-------------------')\n",
    "    print(generation)\n",
    "    print('-------------------')\n",
    "    print()\n",
    "    print('==========================================================================================\\n')    \n",
    "\n",
    "    return {'generation': generation}"
   ]
  },
  {
   "cell_type": "code",
   "execution_count": 31,
   "metadata": {},
   "outputs": [
    {
     "name": "stdout",
     "output_type": "stream",
     "text": [
      "\n",
      "==========================================================================================\n",
      "🔄 [Node] 답변 생성 노드 🔄\n",
      "-------------------\n",
      "삼성전자가 공개한 생성 AI 모델 ‘삼성 가우스’는 언어, 코드, 이미지의 3개 모델로 구성되어 있으며, 온디바이스에서 작동 가능하여 사용자 정보 유출 위험이 없다. 이 모델은 2023년 11월 8일 ‘삼성 AI 포럼 2023’에서 처음 소개되었다.\n",
      "\n",
      "**Source**\n",
      "- data/SPRI_AI_Brief_2023년12월호_F.pdf (page 12)\n",
      "-------------------\n",
      "\n",
      "==========================================================================================\n",
      "\n"
     ]
    }
   ],
   "source": [
    "state['generation'] = generate(state)['generation']"
   ]
  },
  {
   "cell_type": "code",
   "execution_count": 32,
   "metadata": {},
   "outputs": [
    {
     "data": {
      "text/plain": [
       "{'question': '삼성전자가 만든 생성형 AI 이름은?',\n",
       " 'generation': '삼성전자가 공개한 생성 AI 모델 ‘삼성 가우스’는 언어, 코드, 이미지의 3개 모델로 구성되어 있으며, 온디바이스에서 작동 가능하여 사용자 정보 유출 위험이 없다. 이 모델은 2023년 11월 8일 ‘삼성 AI 포럼 2023’에서 처음 소개되었다.\\n\\n**Source**\\n- data/SPRI_AI_Brief_2023년12월호_F.pdf (page 12)',\n",
       " 'documents': [Document(id='061f8c15-b18e-4e86-bf04-1c5536cdff30', metadata={'source': 'data/SPRI_AI_Brief_2023년12월호_F.pdf', 'file_path': 'data/SPRI_AI_Brief_2023년12월호_F.pdf', 'page': 1, 'total_pages': 23, 'Author': 'dj', 'Creator': 'Hwp 2018 10.0.0.13462', 'Producer': 'Hancom PDF 1.3.0.542', 'CreationDate': \"D:20231208132838+09'00'\", 'ModDate': \"D:20231208132838+09'00'\", 'PDFVersion': '1.4'}, page_content='▹ 삼성전자, 자체 개발 생성 AI ‘삼성 가우스’ 공개 ···························································10\\n▹ 구글, 앤스로픽에 20억 달러 투자로 생성 AI 협력 강화 ················································11\\n▹ IDC, 2027년 AI 소프트웨어 매출 2,500억 달러 돌파 전망···········································12'),\n",
       "  Document(id='dbba97b5-24cf-419d-9b83-ad98675e3a51', metadata={'source': 'data/SPRI_AI_Brief_2023년12월호_F.pdf', 'file_path': 'data/SPRI_AI_Brief_2023년12월호_F.pdf', 'page': 12, 'total_pages': 23, 'Author': 'dj', 'Creator': 'Hwp 2018 10.0.0.13462', 'Producer': 'Hancom PDF 1.3.0.542', 'CreationDate': \"D:20231208132838+09'00'\", 'ModDate': \"D:20231208132838+09'00'\", 'PDFVersion': '1.4'}, page_content='SPRi AI Brief |\\n2023-12월호\\n삼성전자, 자체 개발 생성 AI ‘삼성 가우스’ 공개\\nKEY Contents\\nn 삼성전자가 온디바이스에서 작동 가능하며 언어, 코드, 이미지의 3개 모델로 구성된 자체 개발 생성\\nAI 모델 ‘삼성 가우스’를 공개\\nn 삼성전자는 삼성 가우스를 다양한 제품에 단계적으로 탑재할 계획으로, 온디바이스 작동이 가능한\\n삼성 가우스는 외부로 사용자 정보가 유출될 위험이 없다는 장점을 보유\\n£언어, 코드, 이미지의 3개 모델로 구성된 삼성 가우스, 온디바이스 작동 지원'),\n",
       "  Document(id='59d1577e-2e28-441a-9467-1534308ec55f', metadata={'source': 'data/SPRI_AI_Brief_2023년12월호_F.pdf', 'file_path': 'data/SPRI_AI_Brief_2023년12월호_F.pdf', 'page': 12, 'total_pages': 23, 'Author': 'dj', 'Creator': 'Hwp 2018 10.0.0.13462', 'Producer': 'Hancom PDF 1.3.0.542', 'CreationDate': \"D:20231208132838+09'00'\", 'ModDate': \"D:20231208132838+09'00'\", 'PDFVersion': '1.4'}, page_content='£언어, 코드, 이미지의 3개 모델로 구성된 삼성 가우스, 온디바이스 작동 지원\\nn 삼성전자가 2023년 11월 8일 열린 ‘삼성 AI 포럼 2023’ 행사에서 자체 개발한 생성 AI 모델\\n‘삼성 가우스’를 최초 공개\\n∙ 정규분포 이론을 정립한 천재 수학자 가우스(Gauss)의 이름을 본뜬 삼성 가우스는 다양한 상황에\\n최적화된 크기의 모델 선택이 가능\\n∙ 삼성 가우스는 라이선스나 개인정보를 침해하지 않는 안전한 데이터를 통해 학습되었으며,\\n온디바이스에서 작동하도록 설계되어 외부로 사용자의 정보가 유출되지 않는 장점을 보유'),\n",
       "  Document(id='1540f974-04f2-414f-a98c-d033b14298ef', metadata={'source': 'data/SPRI_AI_Brief_2023년12월호_F.pdf', 'file_path': 'data/SPRI_AI_Brief_2023년12월호_F.pdf', 'page': 12, 'total_pages': 23, 'Author': 'dj', 'Creator': 'Hwp 2018 10.0.0.13462', 'Producer': 'Hancom PDF 1.3.0.542', 'CreationDate': \"D:20231208132838+09'00'\", 'ModDate': \"D:20231208132838+09'00'\", 'PDFVersion': '1.4'}, page_content='어시스턴트를 적용한 구글 픽셀(Pixel)과 경쟁할 것으로 예상\\n☞ 출처 : 삼성전자, ‘삼성 AI 포럼’서 자체 개발 생성형 AI ‘삼성 가우스’ 공개, 2023.11.08.\\n삼성전자, ‘삼성 개발자 콘퍼런스 코리아 2023’ 개최, 2023.11.14.\\nTechRepublic, Samsung Gauss: Samsung Research Reveals Generative AI, 2023.11.08.\\n10'),\n",
       "  Document(id='ba140011-233b-42b0-aeca-27a499f35c12', metadata={'source': 'data/SPRI_AI_Brief_2023년12월호_F.pdf', 'file_path': 'data/SPRI_AI_Brief_2023년12월호_F.pdf', 'page': 18, 'total_pages': 23, 'Author': 'dj', 'Creator': 'Hwp 2018 10.0.0.13462', 'Producer': 'Hancom PDF 1.3.0.542', 'CreationDate': \"D:20231208132838+09'00'\", 'ModDate': \"D:20231208132838+09'00'\", 'PDFVersion': '1.4'}, page_content='<구글 딥마인드의 범용 AI 분류 프레임워크>\\n성능 특수 AI 예시 범용 AI 예시\\n0단계: AI 아님 계산기 소프트웨어, 컴파일러 아마존 메커니컬 터크\\n1단계: 신진(숙련되지 않은 인간) GOFAI(Good Old Fashioned Artificial Intelligence) 챗GPT, 바드, 라마2\\n스마트 스피커(애플 시리, 아마존 알렉사, 구글\\n2단계: 유능(숙련된 인간의 50% 이상) 미달성\\n어시스턴트), IBM 왓슨\\n3단계: 전문가(숙련된 인간의 90% 이상) 문법 교정기(그래머리), 생성 이미지 모델(달리2) 미달성'),\n",
       "  Document(id='8cb48f14-e480-4943-8092-f409c19dcc31', metadata={'source': 'data/SPRI_AI_Brief_2023년12월호_F.pdf', 'file_path': 'data/SPRI_AI_Brief_2023년12월호_F.pdf', 'page': 12, 'total_pages': 23, 'Author': 'dj', 'Creator': 'Hwp 2018 10.0.0.13462', 'Producer': 'Hancom PDF 1.3.0.542', 'CreationDate': \"D:20231208132838+09'00'\", 'ModDate': \"D:20231208132838+09'00'\", 'PDFVersion': '1.4'}, page_content='처리를 지원\\n∙ 코드 모델 기반의 AI 코딩 어시스턴트 ‘코드아이(code.i)’는 대화형 인터페이스로 서비스를 제공하며\\n사내 소프트웨어 개발에 최적화\\n∙ 이미지 모델은 창의적인 이미지를 생성하고 기존 이미지를 원하는 대로 바꿀 수 있도록 지원하며\\n저해상도 이미지의 고해상도 전환도 지원\\nn IT 전문지 테크리퍼블릭(TechRepublic)은 온디바이스 AI가 주요 기술 트렌드로 부상했다며,\\n2024년부터 가우스를 탑재한 삼성 스마트폰이 메타의 라마(Llama)2를 탑재한 퀄컴 기기 및 구글'),\n",
       "  Document(id='a1406138-9bbf-4afa-a6cf-5412515a418d', metadata={'source': 'data/SPRI_AI_Brief_2023년12월호_F.pdf', 'file_path': 'data/SPRI_AI_Brief_2023년12월호_F.pdf', 'page': 12, 'total_pages': 23, 'Author': 'dj', 'Creator': 'Hwp 2018 10.0.0.13462', 'Producer': 'Hancom PDF 1.3.0.542', 'CreationDate': \"D:20231208132838+09'00'\", 'ModDate': \"D:20231208132838+09'00'\", 'PDFVersion': '1.4'}, page_content='온디바이스에서 작동하도록 설계되어 외부로 사용자의 정보가 유출되지 않는 장점을 보유\\n∙ 삼성전자는 삼성 가우스를 활용한 온디바이스 AI 기술도 소개했으며, 생성 AI 모델을 다양한 제품에\\n단계적으로 탑재할 계획\\nn 삼성 가우스는 △텍스트를 생성하는 언어모델 △코드를 생성하는 코드 모델 △이미지를 생성하는\\n이미지 모델의 3개 모델로 구성\\n∙ 언어 모델은 클라우드와 온디바이스 대상 다양한 모델로 구성되며, 메일 작성, 문서 요약, 번역 업무의\\n처리를 지원'),\n",
       "  Document(id='2680571d-046d-4ce5-a07f-8fa7829bb397', metadata={'source': 'data/SPRI_AI_Brief_2023년12월호_F.pdf', 'file_path': 'data/SPRI_AI_Brief_2023년12월호_F.pdf', 'page': 11, 'total_pages': 23, 'Author': 'dj', 'Creator': 'Hwp 2018 10.0.0.13462', 'Producer': 'Hancom PDF 1.3.0.542', 'CreationDate': \"D:20231208132838+09'00'\", 'ModDate': \"D:20231208132838+09'00'\", 'PDFVersion': '1.4'}, page_content='제작을 포함\\nn 알리바바 클라우드는 급증하는 생성 AI 수요에 대응해 모델 개발과 애플리케이션 구축 절차를\\n간소화하는 올인원 AI 모델 구축 플랫폼 ‘젠AI(GenAI)’도 공개\\n∙ 이 플랫폼은 데이터 관리, 모델 배포와 평가, 신속한 엔지니어링을 위한 종합 도구 모음을 제공하여\\n다양한 기업들이 맞춤형 AI 모델을 한층 쉽게 개발할 수 있도록 지원\\n∙ 생성 AI 개발에 필요한 컴퓨팅과 데이터 처리 요구사항을 지원하기 위해 AI 플랫폼(PAI),\\n데이터베이스 솔루션, 컨테이너 서비스와 같은 클라우드 신제품도 발표'),\n",
       "  Document(id='c1f68675-a1d0-4822-98d5-ffe82d243158', metadata={'source': 'data/SPRI_AI_Brief_2023년12월호_F.pdf', 'file_path': 'data/SPRI_AI_Brief_2023년12월호_F.pdf', 'page': 1, 'total_pages': 23, 'Author': 'dj', 'Creator': 'Hwp 2018 10.0.0.13462', 'Producer': 'Hancom PDF 1.3.0.542', 'CreationDate': \"D:20231208132838+09'00'\", 'ModDate': \"D:20231208132838+09'00'\", 'PDFVersion': '1.4'}, page_content='▹ 빌 게이츠, AI 에이전트로 인한 컴퓨터 사용의 패러다임 변화 전망································13\\n▹ 유튜브, 2024년부터 AI 생성 콘텐츠 표시 의무화····························································14\\n3. 기술/연구\\n▹ 영국 과학혁신기술부, AI 안전 연구소 설립 발표······························································15'),\n",
       "  Document(id='d6457284-85e2-4d72-95c3-bc7c2d5a9ee9', metadata={'source': 'data/SPRI_AI_Brief_2023년12월호_F.pdf', 'file_path': 'data/SPRI_AI_Brief_2023년12월호_F.pdf', 'page': 7, 'total_pages': 23, 'Author': 'dj', 'Creator': 'Hwp 2018 10.0.0.13462', 'Producer': 'Hancom PDF 1.3.0.542', 'CreationDate': \"D:20231208132838+09'00'\", 'ModDate': \"D:20231208132838+09'00'\", 'PDFVersion': '1.4'}, page_content='만들었다고 오해할 소지가 있다고 지적\\n∙ 저작권법에 저촉되는 행위는 불공정 경쟁이나 기만행위에도 해당될 수 있으며, 창작자의 평판 악화,\\n저작물의 가치 저하나 개인정보 유출로 소비자에 상당한 피해를 초래 가능\\nn FTC는 일부 빅테크가 막대한 재원을 활용해 생성 AI 사용자의 이탈을 막고 저작권이 있는 상용\\n데이터에 대한 독점 라이선스를 확보해 시장 지배력을 더욱 강화할 수 있다는 우려도 제기\\n∙ 이와 관련 FTC는 아마존 AI 비서 ‘알렉사(Alexa)’와 스마트홈 보안 기기 ‘링(Ring)’이 소비자의 사적')]}"
      ]
     },
     "execution_count": 32,
     "metadata": {},
     "output_type": "execute_result"
    }
   ],
   "source": [
    "state"
   ]
  },
  {
   "cell_type": "code",
   "execution_count": 33,
   "metadata": {},
   "outputs": [],
   "source": [
    "# 문서 검색 결과와 질문 관련성 평가 노드\n",
    "def grade_documents(state: GraphState):\n",
    "    print('\\n==========================================================================================')\n",
    "    print('===== [CHECK DOCUMENT RELEVANCE TO QUESTION] =====')\n",
    "\n",
    "    # 사용자 질문\n",
    "    question = state['question']  \n",
    "\n",
    "    # 문서 검색 결과\n",
    "    documents = state['documents']\n",
    "\n",
    "    # 문서 검색 평가기를 통과한 문서들만 필터링\n",
    "    filtered_docs = []\n",
    "\n",
    "    for doc in documents:\n",
    "        score = retrieval_grader.invoke({'question': question, 'document': doc.page_content})\n",
    "\n",
    "        grade = score.binary_score\n",
    "\n",
    "        if grade == 'yes':\n",
    "            print(\"---GRADE: DOCUMENT RELEVANT---\")     \n",
    "            filtered_docs.append(doc)                   \n",
    "        else:\n",
    "            print(\"---GRADE: DOCUMENT NOT RELEVANT---\") \n",
    "            continue     \n",
    "\n",
    "    print('==========================================================================================\\n')\n",
    "    return {'documents': filtered_docs}"
   ]
  },
  {
   "cell_type": "code",
   "execution_count": 34,
   "metadata": {},
   "outputs": [
    {
     "data": {
      "text/plain": [
       "{'question': '삼성전자가 만든 생성형 AI 이름은?',\n",
       " 'generation': '삼성전자가 공개한 생성 AI 모델 ‘삼성 가우스’는 언어, 코드, 이미지의 3개 모델로 구성되어 있으며, 온디바이스에서 작동 가능하여 사용자 정보 유출 위험이 없다. 이 모델은 2023년 11월 8일 ‘삼성 AI 포럼 2023’에서 처음 소개되었다.\\n\\n**Source**\\n- data/SPRI_AI_Brief_2023년12월호_F.pdf (page 12)',\n",
       " 'documents': [Document(id='061f8c15-b18e-4e86-bf04-1c5536cdff30', metadata={'source': 'data/SPRI_AI_Brief_2023년12월호_F.pdf', 'file_path': 'data/SPRI_AI_Brief_2023년12월호_F.pdf', 'page': 1, 'total_pages': 23, 'Author': 'dj', 'Creator': 'Hwp 2018 10.0.0.13462', 'Producer': 'Hancom PDF 1.3.0.542', 'CreationDate': \"D:20231208132838+09'00'\", 'ModDate': \"D:20231208132838+09'00'\", 'PDFVersion': '1.4'}, page_content='▹ 삼성전자, 자체 개발 생성 AI ‘삼성 가우스’ 공개 ···························································10\\n▹ 구글, 앤스로픽에 20억 달러 투자로 생성 AI 협력 강화 ················································11\\n▹ IDC, 2027년 AI 소프트웨어 매출 2,500억 달러 돌파 전망···········································12'),\n",
       "  Document(id='dbba97b5-24cf-419d-9b83-ad98675e3a51', metadata={'source': 'data/SPRI_AI_Brief_2023년12월호_F.pdf', 'file_path': 'data/SPRI_AI_Brief_2023년12월호_F.pdf', 'page': 12, 'total_pages': 23, 'Author': 'dj', 'Creator': 'Hwp 2018 10.0.0.13462', 'Producer': 'Hancom PDF 1.3.0.542', 'CreationDate': \"D:20231208132838+09'00'\", 'ModDate': \"D:20231208132838+09'00'\", 'PDFVersion': '1.4'}, page_content='SPRi AI Brief |\\n2023-12월호\\n삼성전자, 자체 개발 생성 AI ‘삼성 가우스’ 공개\\nKEY Contents\\nn 삼성전자가 온디바이스에서 작동 가능하며 언어, 코드, 이미지의 3개 모델로 구성된 자체 개발 생성\\nAI 모델 ‘삼성 가우스’를 공개\\nn 삼성전자는 삼성 가우스를 다양한 제품에 단계적으로 탑재할 계획으로, 온디바이스 작동이 가능한\\n삼성 가우스는 외부로 사용자 정보가 유출될 위험이 없다는 장점을 보유\\n£언어, 코드, 이미지의 3개 모델로 구성된 삼성 가우스, 온디바이스 작동 지원'),\n",
       "  Document(id='59d1577e-2e28-441a-9467-1534308ec55f', metadata={'source': 'data/SPRI_AI_Brief_2023년12월호_F.pdf', 'file_path': 'data/SPRI_AI_Brief_2023년12월호_F.pdf', 'page': 12, 'total_pages': 23, 'Author': 'dj', 'Creator': 'Hwp 2018 10.0.0.13462', 'Producer': 'Hancom PDF 1.3.0.542', 'CreationDate': \"D:20231208132838+09'00'\", 'ModDate': \"D:20231208132838+09'00'\", 'PDFVersion': '1.4'}, page_content='£언어, 코드, 이미지의 3개 모델로 구성된 삼성 가우스, 온디바이스 작동 지원\\nn 삼성전자가 2023년 11월 8일 열린 ‘삼성 AI 포럼 2023’ 행사에서 자체 개발한 생성 AI 모델\\n‘삼성 가우스’를 최초 공개\\n∙ 정규분포 이론을 정립한 천재 수학자 가우스(Gauss)의 이름을 본뜬 삼성 가우스는 다양한 상황에\\n최적화된 크기의 모델 선택이 가능\\n∙ 삼성 가우스는 라이선스나 개인정보를 침해하지 않는 안전한 데이터를 통해 학습되었으며,\\n온디바이스에서 작동하도록 설계되어 외부로 사용자의 정보가 유출되지 않는 장점을 보유'),\n",
       "  Document(id='1540f974-04f2-414f-a98c-d033b14298ef', metadata={'source': 'data/SPRI_AI_Brief_2023년12월호_F.pdf', 'file_path': 'data/SPRI_AI_Brief_2023년12월호_F.pdf', 'page': 12, 'total_pages': 23, 'Author': 'dj', 'Creator': 'Hwp 2018 10.0.0.13462', 'Producer': 'Hancom PDF 1.3.0.542', 'CreationDate': \"D:20231208132838+09'00'\", 'ModDate': \"D:20231208132838+09'00'\", 'PDFVersion': '1.4'}, page_content='어시스턴트를 적용한 구글 픽셀(Pixel)과 경쟁할 것으로 예상\\n☞ 출처 : 삼성전자, ‘삼성 AI 포럼’서 자체 개발 생성형 AI ‘삼성 가우스’ 공개, 2023.11.08.\\n삼성전자, ‘삼성 개발자 콘퍼런스 코리아 2023’ 개최, 2023.11.14.\\nTechRepublic, Samsung Gauss: Samsung Research Reveals Generative AI, 2023.11.08.\\n10'),\n",
       "  Document(id='ba140011-233b-42b0-aeca-27a499f35c12', metadata={'source': 'data/SPRI_AI_Brief_2023년12월호_F.pdf', 'file_path': 'data/SPRI_AI_Brief_2023년12월호_F.pdf', 'page': 18, 'total_pages': 23, 'Author': 'dj', 'Creator': 'Hwp 2018 10.0.0.13462', 'Producer': 'Hancom PDF 1.3.0.542', 'CreationDate': \"D:20231208132838+09'00'\", 'ModDate': \"D:20231208132838+09'00'\", 'PDFVersion': '1.4'}, page_content='<구글 딥마인드의 범용 AI 분류 프레임워크>\\n성능 특수 AI 예시 범용 AI 예시\\n0단계: AI 아님 계산기 소프트웨어, 컴파일러 아마존 메커니컬 터크\\n1단계: 신진(숙련되지 않은 인간) GOFAI(Good Old Fashioned Artificial Intelligence) 챗GPT, 바드, 라마2\\n스마트 스피커(애플 시리, 아마존 알렉사, 구글\\n2단계: 유능(숙련된 인간의 50% 이상) 미달성\\n어시스턴트), IBM 왓슨\\n3단계: 전문가(숙련된 인간의 90% 이상) 문법 교정기(그래머리), 생성 이미지 모델(달리2) 미달성'),\n",
       "  Document(id='8cb48f14-e480-4943-8092-f409c19dcc31', metadata={'source': 'data/SPRI_AI_Brief_2023년12월호_F.pdf', 'file_path': 'data/SPRI_AI_Brief_2023년12월호_F.pdf', 'page': 12, 'total_pages': 23, 'Author': 'dj', 'Creator': 'Hwp 2018 10.0.0.13462', 'Producer': 'Hancom PDF 1.3.0.542', 'CreationDate': \"D:20231208132838+09'00'\", 'ModDate': \"D:20231208132838+09'00'\", 'PDFVersion': '1.4'}, page_content='처리를 지원\\n∙ 코드 모델 기반의 AI 코딩 어시스턴트 ‘코드아이(code.i)’는 대화형 인터페이스로 서비스를 제공하며\\n사내 소프트웨어 개발에 최적화\\n∙ 이미지 모델은 창의적인 이미지를 생성하고 기존 이미지를 원하는 대로 바꿀 수 있도록 지원하며\\n저해상도 이미지의 고해상도 전환도 지원\\nn IT 전문지 테크리퍼블릭(TechRepublic)은 온디바이스 AI가 주요 기술 트렌드로 부상했다며,\\n2024년부터 가우스를 탑재한 삼성 스마트폰이 메타의 라마(Llama)2를 탑재한 퀄컴 기기 및 구글'),\n",
       "  Document(id='a1406138-9bbf-4afa-a6cf-5412515a418d', metadata={'source': 'data/SPRI_AI_Brief_2023년12월호_F.pdf', 'file_path': 'data/SPRI_AI_Brief_2023년12월호_F.pdf', 'page': 12, 'total_pages': 23, 'Author': 'dj', 'Creator': 'Hwp 2018 10.0.0.13462', 'Producer': 'Hancom PDF 1.3.0.542', 'CreationDate': \"D:20231208132838+09'00'\", 'ModDate': \"D:20231208132838+09'00'\", 'PDFVersion': '1.4'}, page_content='온디바이스에서 작동하도록 설계되어 외부로 사용자의 정보가 유출되지 않는 장점을 보유\\n∙ 삼성전자는 삼성 가우스를 활용한 온디바이스 AI 기술도 소개했으며, 생성 AI 모델을 다양한 제품에\\n단계적으로 탑재할 계획\\nn 삼성 가우스는 △텍스트를 생성하는 언어모델 △코드를 생성하는 코드 모델 △이미지를 생성하는\\n이미지 모델의 3개 모델로 구성\\n∙ 언어 모델은 클라우드와 온디바이스 대상 다양한 모델로 구성되며, 메일 작성, 문서 요약, 번역 업무의\\n처리를 지원'),\n",
       "  Document(id='2680571d-046d-4ce5-a07f-8fa7829bb397', metadata={'source': 'data/SPRI_AI_Brief_2023년12월호_F.pdf', 'file_path': 'data/SPRI_AI_Brief_2023년12월호_F.pdf', 'page': 11, 'total_pages': 23, 'Author': 'dj', 'Creator': 'Hwp 2018 10.0.0.13462', 'Producer': 'Hancom PDF 1.3.0.542', 'CreationDate': \"D:20231208132838+09'00'\", 'ModDate': \"D:20231208132838+09'00'\", 'PDFVersion': '1.4'}, page_content='제작을 포함\\nn 알리바바 클라우드는 급증하는 생성 AI 수요에 대응해 모델 개발과 애플리케이션 구축 절차를\\n간소화하는 올인원 AI 모델 구축 플랫폼 ‘젠AI(GenAI)’도 공개\\n∙ 이 플랫폼은 데이터 관리, 모델 배포와 평가, 신속한 엔지니어링을 위한 종합 도구 모음을 제공하여\\n다양한 기업들이 맞춤형 AI 모델을 한층 쉽게 개발할 수 있도록 지원\\n∙ 생성 AI 개발에 필요한 컴퓨팅과 데이터 처리 요구사항을 지원하기 위해 AI 플랫폼(PAI),\\n데이터베이스 솔루션, 컨테이너 서비스와 같은 클라우드 신제품도 발표'),\n",
       "  Document(id='c1f68675-a1d0-4822-98d5-ffe82d243158', metadata={'source': 'data/SPRI_AI_Brief_2023년12월호_F.pdf', 'file_path': 'data/SPRI_AI_Brief_2023년12월호_F.pdf', 'page': 1, 'total_pages': 23, 'Author': 'dj', 'Creator': 'Hwp 2018 10.0.0.13462', 'Producer': 'Hancom PDF 1.3.0.542', 'CreationDate': \"D:20231208132838+09'00'\", 'ModDate': \"D:20231208132838+09'00'\", 'PDFVersion': '1.4'}, page_content='▹ 빌 게이츠, AI 에이전트로 인한 컴퓨터 사용의 패러다임 변화 전망································13\\n▹ 유튜브, 2024년부터 AI 생성 콘텐츠 표시 의무화····························································14\\n3. 기술/연구\\n▹ 영국 과학혁신기술부, AI 안전 연구소 설립 발표······························································15'),\n",
       "  Document(id='d6457284-85e2-4d72-95c3-bc7c2d5a9ee9', metadata={'source': 'data/SPRI_AI_Brief_2023년12월호_F.pdf', 'file_path': 'data/SPRI_AI_Brief_2023년12월호_F.pdf', 'page': 7, 'total_pages': 23, 'Author': 'dj', 'Creator': 'Hwp 2018 10.0.0.13462', 'Producer': 'Hancom PDF 1.3.0.542', 'CreationDate': \"D:20231208132838+09'00'\", 'ModDate': \"D:20231208132838+09'00'\", 'PDFVersion': '1.4'}, page_content='만들었다고 오해할 소지가 있다고 지적\\n∙ 저작권법에 저촉되는 행위는 불공정 경쟁이나 기만행위에도 해당될 수 있으며, 창작자의 평판 악화,\\n저작물의 가치 저하나 개인정보 유출로 소비자에 상당한 피해를 초래 가능\\nn FTC는 일부 빅테크가 막대한 재원을 활용해 생성 AI 사용자의 이탈을 막고 저작권이 있는 상용\\n데이터에 대한 독점 라이선스를 확보해 시장 지배력을 더욱 강화할 수 있다는 우려도 제기\\n∙ 이와 관련 FTC는 아마존 AI 비서 ‘알렉사(Alexa)’와 스마트홈 보안 기기 ‘링(Ring)’이 소비자의 사적')]}"
      ]
     },
     "execution_count": 34,
     "metadata": {},
     "output_type": "execute_result"
    }
   ],
   "source": [
    "state"
   ]
  },
  {
   "cell_type": "code",
   "execution_count": 35,
   "metadata": {},
   "outputs": [
    {
     "name": "stdout",
     "output_type": "stream",
     "text": [
      "\n",
      "==========================================================================================\n",
      "===== [CHECK DOCUMENT RELEVANCE TO QUESTION] =====\n",
      "---GRADE: DOCUMENT RELEVANT---\n",
      "---GRADE: DOCUMENT RELEVANT---\n",
      "---GRADE: DOCUMENT RELEVANT---\n",
      "---GRADE: DOCUMENT RELEVANT---\n",
      "---GRADE: DOCUMENT NOT RELEVANT---\n",
      "---GRADE: DOCUMENT RELEVANT---\n",
      "---GRADE: DOCUMENT RELEVANT---\n",
      "---GRADE: DOCUMENT NOT RELEVANT---\n",
      "---GRADE: DOCUMENT NOT RELEVANT---\n",
      "---GRADE: DOCUMENT NOT RELEVANT---\n",
      "==========================================================================================\n",
      "\n"
     ]
    }
   ],
   "source": [
    "return_documents = grade_documents(state)"
   ]
  },
  {
   "cell_type": "code",
   "execution_count": 36,
   "metadata": {},
   "outputs": [],
   "source": [
    "state['documents'] = return_documents['documents']"
   ]
  },
  {
   "cell_type": "code",
   "execution_count": 37,
   "metadata": {},
   "outputs": [
    {
     "data": {
      "text/plain": [
       "{'question': '삼성전자가 만든 생성형 AI 이름은?',\n",
       " 'generation': '삼성전자가 공개한 생성 AI 모델 ‘삼성 가우스’는 언어, 코드, 이미지의 3개 모델로 구성되어 있으며, 온디바이스에서 작동 가능하여 사용자 정보 유출 위험이 없다. 이 모델은 2023년 11월 8일 ‘삼성 AI 포럼 2023’에서 처음 소개되었다.\\n\\n**Source**\\n- data/SPRI_AI_Brief_2023년12월호_F.pdf (page 12)',\n",
       " 'documents': [Document(id='061f8c15-b18e-4e86-bf04-1c5536cdff30', metadata={'source': 'data/SPRI_AI_Brief_2023년12월호_F.pdf', 'file_path': 'data/SPRI_AI_Brief_2023년12월호_F.pdf', 'page': 1, 'total_pages': 23, 'Author': 'dj', 'Creator': 'Hwp 2018 10.0.0.13462', 'Producer': 'Hancom PDF 1.3.0.542', 'CreationDate': \"D:20231208132838+09'00'\", 'ModDate': \"D:20231208132838+09'00'\", 'PDFVersion': '1.4'}, page_content='▹ 삼성전자, 자체 개발 생성 AI ‘삼성 가우스’ 공개 ···························································10\\n▹ 구글, 앤스로픽에 20억 달러 투자로 생성 AI 협력 강화 ················································11\\n▹ IDC, 2027년 AI 소프트웨어 매출 2,500억 달러 돌파 전망···········································12'),\n",
       "  Document(id='dbba97b5-24cf-419d-9b83-ad98675e3a51', metadata={'source': 'data/SPRI_AI_Brief_2023년12월호_F.pdf', 'file_path': 'data/SPRI_AI_Brief_2023년12월호_F.pdf', 'page': 12, 'total_pages': 23, 'Author': 'dj', 'Creator': 'Hwp 2018 10.0.0.13462', 'Producer': 'Hancom PDF 1.3.0.542', 'CreationDate': \"D:20231208132838+09'00'\", 'ModDate': \"D:20231208132838+09'00'\", 'PDFVersion': '1.4'}, page_content='SPRi AI Brief |\\n2023-12월호\\n삼성전자, 자체 개발 생성 AI ‘삼성 가우스’ 공개\\nKEY Contents\\nn 삼성전자가 온디바이스에서 작동 가능하며 언어, 코드, 이미지의 3개 모델로 구성된 자체 개발 생성\\nAI 모델 ‘삼성 가우스’를 공개\\nn 삼성전자는 삼성 가우스를 다양한 제품에 단계적으로 탑재할 계획으로, 온디바이스 작동이 가능한\\n삼성 가우스는 외부로 사용자 정보가 유출될 위험이 없다는 장점을 보유\\n£언어, 코드, 이미지의 3개 모델로 구성된 삼성 가우스, 온디바이스 작동 지원'),\n",
       "  Document(id='59d1577e-2e28-441a-9467-1534308ec55f', metadata={'source': 'data/SPRI_AI_Brief_2023년12월호_F.pdf', 'file_path': 'data/SPRI_AI_Brief_2023년12월호_F.pdf', 'page': 12, 'total_pages': 23, 'Author': 'dj', 'Creator': 'Hwp 2018 10.0.0.13462', 'Producer': 'Hancom PDF 1.3.0.542', 'CreationDate': \"D:20231208132838+09'00'\", 'ModDate': \"D:20231208132838+09'00'\", 'PDFVersion': '1.4'}, page_content='£언어, 코드, 이미지의 3개 모델로 구성된 삼성 가우스, 온디바이스 작동 지원\\nn 삼성전자가 2023년 11월 8일 열린 ‘삼성 AI 포럼 2023’ 행사에서 자체 개발한 생성 AI 모델\\n‘삼성 가우스’를 최초 공개\\n∙ 정규분포 이론을 정립한 천재 수학자 가우스(Gauss)의 이름을 본뜬 삼성 가우스는 다양한 상황에\\n최적화된 크기의 모델 선택이 가능\\n∙ 삼성 가우스는 라이선스나 개인정보를 침해하지 않는 안전한 데이터를 통해 학습되었으며,\\n온디바이스에서 작동하도록 설계되어 외부로 사용자의 정보가 유출되지 않는 장점을 보유'),\n",
       "  Document(id='1540f974-04f2-414f-a98c-d033b14298ef', metadata={'source': 'data/SPRI_AI_Brief_2023년12월호_F.pdf', 'file_path': 'data/SPRI_AI_Brief_2023년12월호_F.pdf', 'page': 12, 'total_pages': 23, 'Author': 'dj', 'Creator': 'Hwp 2018 10.0.0.13462', 'Producer': 'Hancom PDF 1.3.0.542', 'CreationDate': \"D:20231208132838+09'00'\", 'ModDate': \"D:20231208132838+09'00'\", 'PDFVersion': '1.4'}, page_content='어시스턴트를 적용한 구글 픽셀(Pixel)과 경쟁할 것으로 예상\\n☞ 출처 : 삼성전자, ‘삼성 AI 포럼’서 자체 개발 생성형 AI ‘삼성 가우스’ 공개, 2023.11.08.\\n삼성전자, ‘삼성 개발자 콘퍼런스 코리아 2023’ 개최, 2023.11.14.\\nTechRepublic, Samsung Gauss: Samsung Research Reveals Generative AI, 2023.11.08.\\n10'),\n",
       "  Document(id='8cb48f14-e480-4943-8092-f409c19dcc31', metadata={'source': 'data/SPRI_AI_Brief_2023년12월호_F.pdf', 'file_path': 'data/SPRI_AI_Brief_2023년12월호_F.pdf', 'page': 12, 'total_pages': 23, 'Author': 'dj', 'Creator': 'Hwp 2018 10.0.0.13462', 'Producer': 'Hancom PDF 1.3.0.542', 'CreationDate': \"D:20231208132838+09'00'\", 'ModDate': \"D:20231208132838+09'00'\", 'PDFVersion': '1.4'}, page_content='처리를 지원\\n∙ 코드 모델 기반의 AI 코딩 어시스턴트 ‘코드아이(code.i)’는 대화형 인터페이스로 서비스를 제공하며\\n사내 소프트웨어 개발에 최적화\\n∙ 이미지 모델은 창의적인 이미지를 생성하고 기존 이미지를 원하는 대로 바꿀 수 있도록 지원하며\\n저해상도 이미지의 고해상도 전환도 지원\\nn IT 전문지 테크리퍼블릭(TechRepublic)은 온디바이스 AI가 주요 기술 트렌드로 부상했다며,\\n2024년부터 가우스를 탑재한 삼성 스마트폰이 메타의 라마(Llama)2를 탑재한 퀄컴 기기 및 구글'),\n",
       "  Document(id='a1406138-9bbf-4afa-a6cf-5412515a418d', metadata={'source': 'data/SPRI_AI_Brief_2023년12월호_F.pdf', 'file_path': 'data/SPRI_AI_Brief_2023년12월호_F.pdf', 'page': 12, 'total_pages': 23, 'Author': 'dj', 'Creator': 'Hwp 2018 10.0.0.13462', 'Producer': 'Hancom PDF 1.3.0.542', 'CreationDate': \"D:20231208132838+09'00'\", 'ModDate': \"D:20231208132838+09'00'\", 'PDFVersion': '1.4'}, page_content='온디바이스에서 작동하도록 설계되어 외부로 사용자의 정보가 유출되지 않는 장점을 보유\\n∙ 삼성전자는 삼성 가우스를 활용한 온디바이스 AI 기술도 소개했으며, 생성 AI 모델을 다양한 제품에\\n단계적으로 탑재할 계획\\nn 삼성 가우스는 △텍스트를 생성하는 언어모델 △코드를 생성하는 코드 모델 △이미지를 생성하는\\n이미지 모델의 3개 모델로 구성\\n∙ 언어 모델은 클라우드와 온디바이스 대상 다양한 모델로 구성되며, 메일 작성, 문서 요약, 번역 업무의\\n처리를 지원')]}"
      ]
     },
     "execution_count": 37,
     "metadata": {},
     "output_type": "execute_result"
    }
   ],
   "source": [
    "state"
   ]
  },
  {
   "cell_type": "code",
   "execution_count": 38,
   "metadata": {},
   "outputs": [],
   "source": [
    "# Query Rewrite 노드\n",
    "def transform_query(state: GraphState):\n",
    "    print('\\n==========================================================================================')\n",
    "    print('🔄 [Node] 쿼리 재작성 노드 🔄')\n",
    "\n",
    "    # 사용자 질문\n",
    "    question = state['question']\n",
    "\n",
    "    # 문서 검색 결과\n",
    "    documents = state['documents']\n",
    "\n",
    "    \n",
    "    # 쿼리 재작성\n",
    "    better_question = question_rewriter.invoke({'question': question})\n",
    "    print(f\"better_question: {better_question}\")\n",
    "    print('==========================================================================================\\n')\n",
    "\n",
    "    return {'question': better_question}"
   ]
  },
  {
   "cell_type": "code",
   "execution_count": 39,
   "metadata": {},
   "outputs": [
    {
     "name": "stdout",
     "output_type": "stream",
     "text": [
      "\n",
      "==========================================================================================\n",
      "🔄 [Node] 쿼리 재작성 노드 🔄\n",
      "better_question: 삼성전자가 개발한 생성형 AI의 이름은 무엇인가요?\n",
      "==========================================================================================\n",
      "\n"
     ]
    }
   ],
   "source": [
    "question_rewriter_return = transform_query(state)\n",
    "state['question'] = question_rewriter_return['question']"
   ]
  },
  {
   "cell_type": "code",
   "execution_count": 40,
   "metadata": {},
   "outputs": [
    {
     "data": {
      "text/plain": [
       "{'question': '삼성전자가 개발한 생성형 AI의 이름은 무엇인가요?',\n",
       " 'generation': '삼성전자가 공개한 생성 AI 모델 ‘삼성 가우스’는 언어, 코드, 이미지의 3개 모델로 구성되어 있으며, 온디바이스에서 작동 가능하여 사용자 정보 유출 위험이 없다. 이 모델은 2023년 11월 8일 ‘삼성 AI 포럼 2023’에서 처음 소개되었다.\\n\\n**Source**\\n- data/SPRI_AI_Brief_2023년12월호_F.pdf (page 12)',\n",
       " 'documents': [Document(id='061f8c15-b18e-4e86-bf04-1c5536cdff30', metadata={'source': 'data/SPRI_AI_Brief_2023년12월호_F.pdf', 'file_path': 'data/SPRI_AI_Brief_2023년12월호_F.pdf', 'page': 1, 'total_pages': 23, 'Author': 'dj', 'Creator': 'Hwp 2018 10.0.0.13462', 'Producer': 'Hancom PDF 1.3.0.542', 'CreationDate': \"D:20231208132838+09'00'\", 'ModDate': \"D:20231208132838+09'00'\", 'PDFVersion': '1.4'}, page_content='▹ 삼성전자, 자체 개발 생성 AI ‘삼성 가우스’ 공개 ···························································10\\n▹ 구글, 앤스로픽에 20억 달러 투자로 생성 AI 협력 강화 ················································11\\n▹ IDC, 2027년 AI 소프트웨어 매출 2,500억 달러 돌파 전망···········································12'),\n",
       "  Document(id='dbba97b5-24cf-419d-9b83-ad98675e3a51', metadata={'source': 'data/SPRI_AI_Brief_2023년12월호_F.pdf', 'file_path': 'data/SPRI_AI_Brief_2023년12월호_F.pdf', 'page': 12, 'total_pages': 23, 'Author': 'dj', 'Creator': 'Hwp 2018 10.0.0.13462', 'Producer': 'Hancom PDF 1.3.0.542', 'CreationDate': \"D:20231208132838+09'00'\", 'ModDate': \"D:20231208132838+09'00'\", 'PDFVersion': '1.4'}, page_content='SPRi AI Brief |\\n2023-12월호\\n삼성전자, 자체 개발 생성 AI ‘삼성 가우스’ 공개\\nKEY Contents\\nn 삼성전자가 온디바이스에서 작동 가능하며 언어, 코드, 이미지의 3개 모델로 구성된 자체 개발 생성\\nAI 모델 ‘삼성 가우스’를 공개\\nn 삼성전자는 삼성 가우스를 다양한 제품에 단계적으로 탑재할 계획으로, 온디바이스 작동이 가능한\\n삼성 가우스는 외부로 사용자 정보가 유출될 위험이 없다는 장점을 보유\\n£언어, 코드, 이미지의 3개 모델로 구성된 삼성 가우스, 온디바이스 작동 지원'),\n",
       "  Document(id='59d1577e-2e28-441a-9467-1534308ec55f', metadata={'source': 'data/SPRI_AI_Brief_2023년12월호_F.pdf', 'file_path': 'data/SPRI_AI_Brief_2023년12월호_F.pdf', 'page': 12, 'total_pages': 23, 'Author': 'dj', 'Creator': 'Hwp 2018 10.0.0.13462', 'Producer': 'Hancom PDF 1.3.0.542', 'CreationDate': \"D:20231208132838+09'00'\", 'ModDate': \"D:20231208132838+09'00'\", 'PDFVersion': '1.4'}, page_content='£언어, 코드, 이미지의 3개 모델로 구성된 삼성 가우스, 온디바이스 작동 지원\\nn 삼성전자가 2023년 11월 8일 열린 ‘삼성 AI 포럼 2023’ 행사에서 자체 개발한 생성 AI 모델\\n‘삼성 가우스’를 최초 공개\\n∙ 정규분포 이론을 정립한 천재 수학자 가우스(Gauss)의 이름을 본뜬 삼성 가우스는 다양한 상황에\\n최적화된 크기의 모델 선택이 가능\\n∙ 삼성 가우스는 라이선스나 개인정보를 침해하지 않는 안전한 데이터를 통해 학습되었으며,\\n온디바이스에서 작동하도록 설계되어 외부로 사용자의 정보가 유출되지 않는 장점을 보유'),\n",
       "  Document(id='1540f974-04f2-414f-a98c-d033b14298ef', metadata={'source': 'data/SPRI_AI_Brief_2023년12월호_F.pdf', 'file_path': 'data/SPRI_AI_Brief_2023년12월호_F.pdf', 'page': 12, 'total_pages': 23, 'Author': 'dj', 'Creator': 'Hwp 2018 10.0.0.13462', 'Producer': 'Hancom PDF 1.3.0.542', 'CreationDate': \"D:20231208132838+09'00'\", 'ModDate': \"D:20231208132838+09'00'\", 'PDFVersion': '1.4'}, page_content='어시스턴트를 적용한 구글 픽셀(Pixel)과 경쟁할 것으로 예상\\n☞ 출처 : 삼성전자, ‘삼성 AI 포럼’서 자체 개발 생성형 AI ‘삼성 가우스’ 공개, 2023.11.08.\\n삼성전자, ‘삼성 개발자 콘퍼런스 코리아 2023’ 개최, 2023.11.14.\\nTechRepublic, Samsung Gauss: Samsung Research Reveals Generative AI, 2023.11.08.\\n10'),\n",
       "  Document(id='8cb48f14-e480-4943-8092-f409c19dcc31', metadata={'source': 'data/SPRI_AI_Brief_2023년12월호_F.pdf', 'file_path': 'data/SPRI_AI_Brief_2023년12월호_F.pdf', 'page': 12, 'total_pages': 23, 'Author': 'dj', 'Creator': 'Hwp 2018 10.0.0.13462', 'Producer': 'Hancom PDF 1.3.0.542', 'CreationDate': \"D:20231208132838+09'00'\", 'ModDate': \"D:20231208132838+09'00'\", 'PDFVersion': '1.4'}, page_content='처리를 지원\\n∙ 코드 모델 기반의 AI 코딩 어시스턴트 ‘코드아이(code.i)’는 대화형 인터페이스로 서비스를 제공하며\\n사내 소프트웨어 개발에 최적화\\n∙ 이미지 모델은 창의적인 이미지를 생성하고 기존 이미지를 원하는 대로 바꿀 수 있도록 지원하며\\n저해상도 이미지의 고해상도 전환도 지원\\nn IT 전문지 테크리퍼블릭(TechRepublic)은 온디바이스 AI가 주요 기술 트렌드로 부상했다며,\\n2024년부터 가우스를 탑재한 삼성 스마트폰이 메타의 라마(Llama)2를 탑재한 퀄컴 기기 및 구글'),\n",
       "  Document(id='a1406138-9bbf-4afa-a6cf-5412515a418d', metadata={'source': 'data/SPRI_AI_Brief_2023년12월호_F.pdf', 'file_path': 'data/SPRI_AI_Brief_2023년12월호_F.pdf', 'page': 12, 'total_pages': 23, 'Author': 'dj', 'Creator': 'Hwp 2018 10.0.0.13462', 'Producer': 'Hancom PDF 1.3.0.542', 'CreationDate': \"D:20231208132838+09'00'\", 'ModDate': \"D:20231208132838+09'00'\", 'PDFVersion': '1.4'}, page_content='온디바이스에서 작동하도록 설계되어 외부로 사용자의 정보가 유출되지 않는 장점을 보유\\n∙ 삼성전자는 삼성 가우스를 활용한 온디바이스 AI 기술도 소개했으며, 생성 AI 모델을 다양한 제품에\\n단계적으로 탑재할 계획\\nn 삼성 가우스는 △텍스트를 생성하는 언어모델 △코드를 생성하는 코드 모델 △이미지를 생성하는\\n이미지 모델의 3개 모델로 구성\\n∙ 언어 모델은 클라우드와 온디바이스 대상 다양한 모델로 구성되며, 메일 작성, 문서 요약, 번역 업무의\\n처리를 지원')]}"
      ]
     },
     "execution_count": 40,
     "metadata": {},
     "output_type": "execute_result"
    }
   ],
   "source": [
    "state"
   ]
  },
  {
   "cell_type": "code",
   "execution_count": 41,
   "metadata": {},
   "outputs": [],
   "source": [
    "# 웹 검색 노드\n",
    "def web_search(state):\n",
    "    print('\\n==========================================================================================')\n",
    "    print('🔄 [Node] 웹 검색 노드 🔄')\n",
    "\n",
    "    # 사용자 질문\n",
    "    question = state['question']\n",
    "    \n",
    "    print('-------------------')\n",
    "    print(f\"question: \")\n",
    "    print(question)\n",
    "    print('-------------------')\n",
    "    print()\n",
    "\n",
    "    # 웹 검색 수행\n",
    "    web_results = web_search_tool.invoke({\"query\": question})\n",
    "\n",
    "    print('-------------------')\n",
    "    print('web_results: ')\n",
    "    print(web_results)\n",
    "    print('-------------------')\n",
    "    print()\n",
    "\n",
    "    web_results_docs = []\n",
    "    \n",
    "    for result in web_results:\n",
    "        doc = Document(\n",
    "            page_content=result[\"content\"],\n",
    "            metadata={\"source\": result[\"url\"]}\n",
    "        )\n",
    "        web_results_docs.append(doc)\n",
    "\n",
    "    print('-------------------')\n",
    "    print('web_results_docs: ')\n",
    "    print(web_results_docs)\n",
    "    print('-------------------')\n",
    "    print()\n",
    "    print('==========================================================================================\\n')\n",
    "\n",
    "    return {\"documents\": web_results_docs}"
   ]
  },
  {
   "cell_type": "code",
   "execution_count": 42,
   "metadata": {},
   "outputs": [
    {
     "name": "stdout",
     "output_type": "stream",
     "text": [
      "\n",
      "==========================================================================================\n",
      "🔄 [Node] 웹 검색 노드 🔄\n",
      "-------------------\n",
      "question: \n",
      "삼성전자가 개발한 생성형 AI의 이름은 무엇인가요?\n",
      "-------------------\n",
      "\n",
      "-------------------\n",
      "web_results: \n",
      "[{'url': 'https://namu.wiki/w/Galaxy%20AI', 'title': 'Galaxy AI - 나무위키', 'content': '삼성 갤럭시에 삼성전자가 자체 개발한 삼성 가우스의 생성형 AI와, 파트너의 생성형 AI로 구현되는 여러 생성형 AI들을 삼성 갤럭시의 One UI와 삼성전자의 앱에서 쓸', 'score': 0.8638634, 'raw_content': None}, {'url': 'https://news.samsung.com/kr/%EC%82%BC%EC%84%B1%EC%A0%84%EC%9E%90-%EC%82%BC%EC%84%B1-ai-%ED%8F%AC%EB%9F%BC%EC%84%9C-%EC%9E%90%EC%B2%B4-%EA%B0%9C%EB%B0%9C-%EC%83%9D%EC%84%B1%ED%98%95-ai-%EC%82%BC%EC%84%B1-%EA%B0%80', 'title': \"삼성전자, '삼성 AI 포럼'서 자체 개발 생성형 AI '삼성 가우스' 공개\", 'content': '삼성전자, ‘삼성 AI 포럼’서 자체 개발 생성형 AI ‘삼성 가우스’ 공개 – Samsung Newsroom Korea 삼성전자, ‘삼성 AI 포럼’서 자체 개발 생성형 AI ‘삼성 가우스’ 공개 삼성전자가 8일 삼성전자 서울R&D캠퍼스에서 ‘삼성 AI 포럼 2023’ 둘째 날 행사를 개최했다. 삼성전자 자체 개발 생성형 AI 모델 ‘삼성 가우스’ 최초 공개 이번 포럼에서는 삼성리서치에서 개발한 생성형 AI 모델 ‘삼성 가우스(Samsung Gauss)’가 처음으로 공개되어 많은 관심을 받았다. 또 ▲대규모 언어 모델의 특징과 앞으로의 발전 방향(오픈AI 정형원) ▲‘멀티 모달(Multi-modal) 대화형 AI’(고려대 서홍석 교수) ▲생성형 AI 활용한 효율적인 코드 생성 기술(서울대 황승원 교수 연구실) ▲고밀도 2D-3D 실내 예측(서울대 김건희 교수 연구실) ▲언어 모델 평가 방법(KAIST 서민준 교수 연구실) ▲긴 맥락을 이해해 영상을 생성하는 ‘텍스트 투 이미지(Text-to-image)’ 생성 기술(연세대 최종현 교수 연구실) 등 생성형 AI의 현황과 향후 연구 방향에 대해서 공유했다. 삼성전자, 제7회 ‘삼성 AI 포럼’ 개최 삼성전자, ‘삼성 AI 포럼 2023’ 11월 개최', 'score': 0.85624856, 'raw_content': '삼성전자, ‘삼성 AI 포럼’서 자체 개발 생성형 AI ‘삼성 가우스’ 공개 – Samsung Newsroom Korea\\n삼성전자 뉴스룸의 동영상 콘텐츠는 더 이상 Internet Explorer를 지원하지 않습니다. 최적의 시청 환경을 위해 다른 웹브라우저 사용을 권장합니다.\\nclose\\n본문 바로가기\\n\\n기업뉴스\\n기업문화\\n기술\\n디자인\\n경영일반\\n\\n\\n제품뉴스\\n모바일\\nTV/디스플레이\\n가전\\n반도체\\n더 많은 제품\\n\\n\\n미래동행\\n사회공헌\\n친환경\\n지속가능경영\\n\\n\\n프레스센터\\n보도자료\\n미디어 라이브러리\\n이슈와 팩트\\n회사소개(Fast-Facts)\\n\\n\\n\\n메뉴 열기 검색 레이어 열기 삼성 뉴스룸 국가 선택\\n검색 닫기\\n검색  검색어 삭제    검색\\n\\n갤럭시 S25\\nCES 2025\\nAI\\nOne UI\\nCSR\\n\\n상세검색\\n날짜별\\n\\n날짜별\\n전체 날짜\\n1주일전\\n1개월전\\n1년전\\n기간설정\\n\\n정렬방식\\n\\n정렬방식\\n최신순\\n인기순\\n\\n분류별\\n\\n분류별\\n전체\\n기획기사\\n보도자료\\n\\n검색기간 시작일 \\n검색기간 종료일 \\n확인 취소\\n검색창닫기\\n삼성전자, ‘삼성 AI 포럼’서 자체 개발 생성형 AI ‘삼성 가우스’ 공개\\n2023/11/08\\n본문듣기 AUDIO Play\\n공유하기 공유 레이어 열기 인쇄하기\\n공유 레이어 열기/닫기\\n\\n\\n\\n\\n\\n\\n\\n\\n현재 페이지 주소  주소복사\\n주소가 복사되었습니다. 현재 페이지 주소 \\n주소복사 팝업 열기\\n공유 레이어 닫기\\n삼성전자가 8일 삼성전자 서울R&D캠퍼스에서 ‘삼성 AI 포럼 2023’ 둘째 날 행사를 개최했다.\\n삼성리서치에서 주관한 이날 포럼에는 삼성전자의 AI 연구 인력뿐만 아니라, AI 기술 교류를 위해 학계 및 업계 AI 전문가 150여 명이 참석했다.\\n삼성전자는 2017년부터 매년 SAIT와 삼성리서치 주관으로 ‘삼성 AI포럼’을 개최하며 AI 핵심기술 발전 방향과 혁신을 논의하고 AI 리더십을 강화하고 있다.\\n한 자리에 모인 AI 전문가들은 전 세계적인 화두가 되고 있는 생성형 AI 기술의 발전 방향을 논의하고 관련 기술에 대한 최신 동향을 공유했다.\\n또한, AI 기술에 대한 논의뿐만 아니라 생성형 AI 기술이 발전하면서 인간의 삶이 어떻게 변화할 지에 대한 심도 깊은 논의도 진행했다.\\n삼성전자 자체 개발 생성형 AI 모델 ‘삼성 가우스’ 최초 공개\\n이번 포럼에서는 삼성리서치에서 개발한 생성형 AI 모델 ‘삼성 가우스(Samsung Gauss)’가 처음으로 공개되어 많은 관심을 받았다.\\n삼성전자는 ‘삼성 가우스’를 활용해 회사 내 업무 혁신을 추진하고 나아가 사람들의 일상에 새로운 경험을 제공하기 위해 생성형 AI 기술을 발전시킬 계획이다.\\n‘삼성 가우스’는 정규분포 이론을 정립한 천재 수학자 칼 프리드리히 가우스(Carl Friedrich Gauss)로부터 영감을 얻은 생성형 AI 모델로, 삼성이 추구하는 생성형 AI의 무한한 가능성을 의미한다.\\n삼성 가우스는 머신 러닝 기술을 기반으로 ▲텍스트를 생성하는 언어 모델(Samsung Gauss Language) ▲코드를 생성하는 코드 모델(Samsung Gauss Code) ▲이미지를 생성하는 이미지 모델(Samsung Gauss Image) 등 3가지 모델로 구성되어 있다.\\n언어 모델은 클라우드(Cloud)와 온디바이스(On-device)를 위한 다양한 모델들로 이루어져 있다. ▲메일 작성 ▲문서 요약 ▲번역 등 업무를 더 쉽고 빠르게 처리할 수 있게 해주며 기기를 더욱 스마트하게 제어하여 소비자 경험을 향상시킬 수 있다.\\n코드 모델을 기반으로 개발된 AI 코딩 어시스턴트 ‘코드아이(code.i)’는 사내 소프트웨어 개발에 최적화되어 개발자들이 쉽고 빠르게 코딩할 수 있도록 도와준다. 또, 대화형 인터페이스를 통해 코드 설명이나 테스트 케이스 생성 등의 서비스를 제공한다.\\n이미지 모델은 사진이나 그림 등 창의적인 이미지를 손쉽게 만들고 기존 이미지를 원하는 대로 바꿀 수 있도록 도와준다. 또한, 저해상도 이미지의 고해상도 전환도 쉽게 가능해진다.\\n또한 ‘삼성 가우스’를 활용한 온디바이스 AI 기술도 소개했다.\\n삼성리서치가 개발한 다양한 온디바이스 AI 기술이 탑재된 제품을 사용할 경우 소비자들은 개인정보 전송없이 ▲기기 제어 ▲문장 요약 ▲문법 교정 등을 더 쉽고 편리하게 이용할 수 있다.\\n삼성전자는 이러한 생성형 AI 모델들을 다양한 제품에 단계적으로 탑재할 계획이다.\\n“지속적인 생성형 AI 연구 통해 소비자 경험 가치 높여나갈 것”\\n삼성리서치 글로벌AI센터 김대현 부센터장(부사장)은 환영사를 통해 “생성형 AI 관련 연구를 지속적으로 지원하고 업계와 학계 리더들과 협력하며 함께 성장할 수 있도록 노력하겠다”고 말했다.\\n또 “삼성전자는 AI 기술 개발뿐만 아니라 AI 활용시 보안 및 안전성을 확보하기 위해 ‘AI 윤리 원칙’을 정해 이를 준수하기 위해 노력하고 있다”며, “삼성전자는 생성형 AI에 대한 지속적 연구를 통해 소비자의 경험 가치를 높여 나갈 계획”이라고 강조했다.\\n한편, 삼성 AI 포럼에 참석한 강연자들은 다양한 연구 성과를 참석자들과 공유했다.\\n‘생각의 사슬(Chain-of-Thought)’ 논문의 저자이기도 한 오픈AI(OpenAI)의 제이슨 웨이(Jason Wei) 연구원은 ‘대규모 언어 모델 르네상스의 새로운 패러다임(New Paradigms in the Large Language Model Renaissance)’을 주제로 대규모 언어 모델로 인한 패러다임 변화와 그것이 AI 분야를 어떻게 변화시키고 있는지에 대해 강연했다.\\n또 ▲대규모 언어 모델의 특징과 앞으로의 발전 방향(오픈AI 정형원) ▲‘멀티 모달(Multi-modal) 대화형 AI’(고려대 서홍석 교수) ▲생성형 AI 활용한 효율적인 코드 생성 기술(서울대 황승원 교수 연구실) ▲고밀도 2D-3D 실내 예측(서울대 김건희 교수 연구실) ▲언어 모델 평가 방법(KAIST 서민준 교수 연구실) ▲긴 맥락을 이해해 영상을 생성하는 ‘텍스트 투 이미지(Text-to-image)’ 생성 기술(연세대 최종현 교수 연구실) 등 생성형 AI의 현황과 향후 연구 방향에 대해서 공유했다.\\n▲ 삼성 AI 포럼 포스터\\n▲ 삼성 가우스 소개\\n▲‘삼성 AI 포럼 2023’ 전경\\n\\n▲‘삼성 AI 포럼 2023’에서 환영사를 하고 있는 삼성전자 김대현 부사장\\n▲‘삼성 AI 포럼 2023’에서 ‘대규모 언어 모델 르네상스의 새로운 패러다임’을 주제로 강연 중인 오픈AI 제이슨 웨이(Jason Wei) 연구원\\n\\nTAGSAISamsung Gauss삼성 AI 포럼삼성 AI 포럼 2023삼성 가우스생성형 AI\\n기업뉴스 > 기술\\n기업뉴스\\n프레스센터 > 보도자료\\n프레스센터\\n보다 다양한 삼성전자 소식은?\\n\\n삼성전자, 제7회 ‘삼성 AI 포럼’ 개최\\n삼성전자, ‘삼성 AI 포럼 2023’ 11월 개최\\n\\n삼성전자 뉴스룸의 직접 제작한 기사와 이미지는 누구나 자유롭게 사용하실 수 있습니다.\\n그러나 삼성전자 뉴스룸이 제공받은 일부 기사와 이미지는 사용에 제한이 있습니다.\\n<삼성전자 뉴스룸 콘텐츠 이용에 대한 안내 바로가기>\\n최신 기사 더보기\\n\\n사이트맵\\n삼성전자 뉴스룸 운영 정책\\n개인정보처리방침\\n\\n삼성전자 뉴스룸 콘텐츠 이용에 대한 안내\\n\\n\\n삼성전자 주식회사\\n\\n대표번호: 02-2255-0114\\n\\nCopyright© 2010-2025 SAMSUNG All Rights Reserved.\\n\\n\\n\\n\\n\\n\\n\\n\\n\\n\\n\\n\\n\\n패밀리 사이트\\nSAMSUNG.COM\\n삼성전자 사회공헌\\n삼성전자 지속가능경영\\n삼성전자 반도체 뉴스룸\\n사이트맵\\n\\n기업뉴스\\n기업문화\\n기술\\n디자인\\n경영일반\\n\\n\\n제품뉴스\\n모바일\\nTV/디스플레이\\n가전\\n반도체\\n더 많은 제품\\n\\n\\n미래동행\\n사회공헌\\n친환경\\n지속가능경영\\n\\n\\n프레스센터\\n보도자료\\n미디어 라이브러리\\n이슈와 팩트\\n회사소개(Fast-Facts)\\n\\n\\n\\n사이트맵 레이어 닫기\\nTOP\\n\\nimage Zoom-in image Zoom-out close'}]\n",
      "-------------------\n",
      "\n",
      "-------------------\n",
      "web_results_docs: \n",
      "[Document(metadata={'source': 'https://namu.wiki/w/Galaxy%20AI'}, page_content='삼성 갤럭시에 삼성전자가 자체 개발한 삼성 가우스의 생성형 AI와, 파트너의 생성형 AI로 구현되는 여러 생성형 AI들을 삼성 갤럭시의 One UI와 삼성전자의 앱에서 쓸'), Document(metadata={'source': 'https://news.samsung.com/kr/%EC%82%BC%EC%84%B1%EC%A0%84%EC%9E%90-%EC%82%BC%EC%84%B1-ai-%ED%8F%AC%EB%9F%BC%EC%84%9C-%EC%9E%90%EC%B2%B4-%EA%B0%9C%EB%B0%9C-%EC%83%9D%EC%84%B1%ED%98%95-ai-%EC%82%BC%EC%84%B1-%EA%B0%80'}, page_content='삼성전자, ‘삼성 AI 포럼’서 자체 개발 생성형 AI ‘삼성 가우스’ 공개 – Samsung Newsroom Korea 삼성전자, ‘삼성 AI 포럼’서 자체 개발 생성형 AI ‘삼성 가우스’ 공개 삼성전자가 8일 삼성전자 서울R&D캠퍼스에서 ‘삼성 AI 포럼 2023’ 둘째 날 행사를 개최했다. 삼성전자 자체 개발 생성형 AI 모델 ‘삼성 가우스’ 최초 공개 이번 포럼에서는 삼성리서치에서 개발한 생성형 AI 모델 ‘삼성 가우스(Samsung Gauss)’가 처음으로 공개되어 많은 관심을 받았다. 또 ▲대규모 언어 모델의 특징과 앞으로의 발전 방향(오픈AI 정형원) ▲‘멀티 모달(Multi-modal) 대화형 AI’(고려대 서홍석 교수) ▲생성형 AI 활용한 효율적인 코드 생성 기술(서울대 황승원 교수 연구실) ▲고밀도 2D-3D 실내 예측(서울대 김건희 교수 연구실) ▲언어 모델 평가 방법(KAIST 서민준 교수 연구실) ▲긴 맥락을 이해해 영상을 생성하는 ‘텍스트 투 이미지(Text-to-image)’ 생성 기술(연세대 최종현 교수 연구실) 등 생성형 AI의 현황과 향후 연구 방향에 대해서 공유했다. 삼성전자, 제7회 ‘삼성 AI 포럼’ 개최 삼성전자, ‘삼성 AI 포럼 2023’ 11월 개최')]\n",
      "-------------------\n",
      "\n",
      "==========================================================================================\n",
      "\n"
     ]
    },
    {
     "data": {
      "text/plain": [
       "{'documents': [Document(metadata={'source': 'https://namu.wiki/w/Galaxy%20AI'}, page_content='삼성 갤럭시에 삼성전자가 자체 개발한 삼성 가우스의 생성형 AI와, 파트너의 생성형 AI로 구현되는 여러 생성형 AI들을 삼성 갤럭시의 One UI와 삼성전자의 앱에서 쓸'),\n",
       "  Document(metadata={'source': 'https://news.samsung.com/kr/%EC%82%BC%EC%84%B1%EC%A0%84%EC%9E%90-%EC%82%BC%EC%84%B1-ai-%ED%8F%AC%EB%9F%BC%EC%84%9C-%EC%9E%90%EC%B2%B4-%EA%B0%9C%EB%B0%9C-%EC%83%9D%EC%84%B1%ED%98%95-ai-%EC%82%BC%EC%84%B1-%EA%B0%80'}, page_content='삼성전자, ‘삼성 AI 포럼’서 자체 개발 생성형 AI ‘삼성 가우스’ 공개 – Samsung Newsroom Korea 삼성전자, ‘삼성 AI 포럼’서 자체 개발 생성형 AI ‘삼성 가우스’ 공개 삼성전자가 8일 삼성전자 서울R&D캠퍼스에서 ‘삼성 AI 포럼 2023’ 둘째 날 행사를 개최했다. 삼성전자 자체 개발 생성형 AI 모델 ‘삼성 가우스’ 최초 공개 이번 포럼에서는 삼성리서치에서 개발한 생성형 AI 모델 ‘삼성 가우스(Samsung Gauss)’가 처음으로 공개되어 많은 관심을 받았다. 또 ▲대규모 언어 모델의 특징과 앞으로의 발전 방향(오픈AI 정형원) ▲‘멀티 모달(Multi-modal) 대화형 AI’(고려대 서홍석 교수) ▲생성형 AI 활용한 효율적인 코드 생성 기술(서울대 황승원 교수 연구실) ▲고밀도 2D-3D 실내 예측(서울대 김건희 교수 연구실) ▲언어 모델 평가 방법(KAIST 서민준 교수 연구실) ▲긴 맥락을 이해해 영상을 생성하는 ‘텍스트 투 이미지(Text-to-image)’ 생성 기술(연세대 최종현 교수 연구실) 등 생성형 AI의 현황과 향후 연구 방향에 대해서 공유했다. 삼성전자, 제7회 ‘삼성 AI 포럼’ 개최 삼성전자, ‘삼성 AI 포럼 2023’ 11월 개최')]}"
      ]
     },
     "execution_count": 42,
     "metadata": {},
     "output_type": "execute_result"
    }
   ],
   "source": [
    "web_search(state)"
   ]
  },
  {
   "cell_type": "markdown",
   "metadata": {},
   "source": [
    "### 질문 라우팅 노드"
   ]
  },
  {
   "cell_type": "code",
   "execution_count": 43,
   "metadata": {},
   "outputs": [],
   "source": [
    "# 질문 라우팅 노드\n",
    "def route_question(state: GraphState):\n",
    "    print('\\n==========================================================================================')\n",
    "    print('🔄 [Node] 질문 라우팅 노드 🔄')\n",
    "\n",
    "    # 사용자 질문\n",
    "    question = state['question']\n",
    "\n",
    "    # 질문 라우팅\n",
    "    source = question_router.invoke({'question': question})\n",
    "\n",
    "    if source.datasource == \"web_search\":\n",
    "        print(\"==== [ROUTE QUESTION TO WEB SEARCH] ====\")\n",
    "        print('==========================================================================================\\n')\n",
    "        return \"web_search\"\n",
    "    elif source.datasource == \"vectorstore\":\n",
    "        print(\"==== [ROUTE QUESTION TO VECTORSTORE] ====\")\n",
    "        print('==========================================================================================\\n')\n",
    "        return \"vectorstore\""
   ]
  },
  {
   "cell_type": "code",
   "execution_count": 44,
   "metadata": {},
   "outputs": [
    {
     "name": "stdout",
     "output_type": "stream",
     "text": [
      "\n",
      "==========================================================================================\n",
      "🔄 [Node] 질문 라우팅 노드 🔄\n",
      "==== [ROUTE QUESTION TO VECTORSTORE] ====\n",
      "==========================================================================================\n",
      "\n"
     ]
    },
    {
     "data": {
      "text/plain": [
       "'vectorstore'"
      ]
     },
     "execution_count": 44,
     "metadata": {},
     "output_type": "execute_result"
    }
   ],
   "source": [
    "route_question(state)"
   ]
  },
  {
   "cell_type": "code",
   "execution_count": 45,
   "metadata": {},
   "outputs": [],
   "source": [
    "# 문서 관련성 평가 노드\n",
    "def decide_to_generate(state: GraphState):\n",
    "    print('\\n==========================================================================================')\n",
    "    print('🔄 [Node] 문서 관련성 평가 노드 🔄')\n",
    "\n",
    "    # 문서 검색 결과 가져오기\n",
    "    filtered_documents = state['documents']\n",
    "\n",
    "    if not filtered_documents:                              # 문서가 없는 경우 (모든 문서가 관련성 없는 문서)\n",
    "        print(f'===== [DECISION: ALL DOCUMENTS ARE NOT RELEVANT TO QUESTION, TRANSFORM QUERY] =====')\n",
    "        print('==========================================================================================\\n')\n",
    "        return \"transform_query\"        \n",
    "    else:                                                   # 관련성 있는 문서가 있는 경우\n",
    "        print(f\"===== [DECISION: GENERATE] =====\")\n",
    "        print('==========================================================================================\\n')\n",
    "        return \"generate\""
   ]
  },
  {
   "cell_type": "code",
   "execution_count": 46,
   "metadata": {},
   "outputs": [
    {
     "name": "stdout",
     "output_type": "stream",
     "text": [
      "\n",
      "==========================================================================================\n",
      "🔄 [Node] 문서 관련성 평가 노드 🔄\n",
      "===== [DECISION: GENERATE] =====\n",
      "==========================================================================================\n",
      "\n"
     ]
    },
    {
     "data": {
      "text/plain": [
       "'generate'"
      ]
     },
     "execution_count": 46,
     "metadata": {},
     "output_type": "execute_result"
    }
   ],
   "source": [
    "decide_to_generate(state)"
   ]
  },
  {
   "cell_type": "code",
   "execution_count": 47,
   "metadata": {},
   "outputs": [],
   "source": [
    "class GradeAnswer(BaseModel):\n",
    "    \"\"\"Binary scoring to evaluate the appropriateness of answers to questions\"\"\"\n",
    "\n",
    "    binary_score: str = Field(\n",
    "        description=\"Indicate 'yes' or 'no' whether the answer solves the question\"\n",
    "    )\n",
    "\n",
    "llm = ChatOpenAI(\n",
    "    api_key=key, \n",
    "    model='gpt-4o-mini', \n",
    "    temperature=0\n",
    ")\n",
    "\n",
    "structured_llm_grader = llm.with_structured_output(GradeAnswer)\n",
    "\n",
    "# system\n",
    "system = \"\"\"You are a grader assessing whether an answer addresses / resolves a question \\n \n",
    "     Give a binary score 'yes' or 'no'. Yes' means that the answer resolves the question.\"\"\"\n",
    "\n",
    "# 프롬프트 템플릿\n",
    "answer_prompt = ChatPromptTemplate.from_messages(\n",
    "    [\n",
    "        (\"system\", system),\n",
    "        (\"human\", \"User question: \\n\\n {question} \\n\\n LLM generation: {generation}\"),\n",
    "    ]\n",
    ")\n",
    "\n",
    "# 프롬프트 템플릿과 구조화된 LLM 평가기를 결합하여 답변 평가기 생성\n",
    "answer_grader = answer_prompt | structured_llm_grader"
   ]
  },
  {
   "cell_type": "code",
   "execution_count": 48,
   "metadata": {},
   "outputs": [
    {
     "data": {
      "text/plain": [
       "GradeAnswer(binary_score='yes')"
      ]
     },
     "execution_count": 48,
     "metadata": {},
     "output_type": "execute_result"
    }
   ],
   "source": [
    "answer_grader.invoke({'question': state['question'], 'generation': generation})"
   ]
  },
  {
   "cell_type": "code",
   "execution_count": 49,
   "metadata": {},
   "outputs": [],
   "source": [
    "# Hallucination 평가 노드\n",
    "def hallucination_check(state: GraphState):\n",
    "    print('\\n==========================================================================================')\n",
    "    print('🔄 [Node] Hallucination 평가 노드 🔄')\n",
    "\n",
    "    # 사용자 질문\n",
    "    qestion = state['question']\n",
    "\n",
    "    # 문서 검색 결과\n",
    "    documents = state['documents']\n",
    "\n",
    "    # 생성된 답변\n",
    "    generation = state['generation']\n",
    "\n",
    "    # 평가\n",
    "    score = hallucination_grader.invoke({'documents': documents, 'generation': generation})\n",
    "    grade = score.binary_score\n",
    "\n",
    "    print(f\"===== [평가 결과] =====\")\n",
    "    print(grade)\n",
    "    print()\n",
    "\n",
    "    if grade == 'yes':     # hallucination 없음\n",
    "        print(\"===== [DECISION: GENERATION IS GROUNDED IN DOCUMENTS] =====\")\n",
    "        print(\"no hallucination\\n\")\n",
    "\n",
    "        # 답변에 대한 관련성 평가\n",
    "        print(\"===== [GRADE GENERATED ANSWER vs QUESTION] =====\\n\")\n",
    "\n",
    "        score = answer_grader.invoke({'question': state['question'], 'generation': generation})\n",
    "        grade = score.binary_score\n",
    "\n",
    "        if grade == 'yes':          # 관련성 있는 답변\n",
    "            print(\"==== [DECISION: GENERATED ANSWER ADDRESSES QUESTION] ====\")\n",
    "            print(\"relevant\\n\")\n",
    "            print('==========================================================================================\\n')\n",
    "            return \"relevant\"\n",
    "        else:                       # 관련성 없는 답변\n",
    "            print(\"==== [DECISION: GENERATED ANSWER DOES NOT ADDRESS QUESTION] ====\")\n",
    "            print(\"not relevant\\n\")\n",
    "            print('==========================================================================================\\n')\n",
    "            return \"not relevant\"\n",
    "\n",
    "    else:                   # hallucination 있음\n",
    "        print(\"===== [DECISION: GENERATION IS NOT GROUNDED IN DOCUMENTS, RE-TRY] =====\")\n",
    "        print(\"hallucination\\n\")\n",
    "        print('==========================================================================================\\n')\n",
    "        return \"hallucination\""
   ]
  },
  {
   "cell_type": "code",
   "execution_count": 50,
   "metadata": {},
   "outputs": [
    {
     "name": "stdout",
     "output_type": "stream",
     "text": [
      "\n",
      "==========================================================================================\n",
      "🔄 [Node] Hallucination 평가 노드 🔄\n",
      "===== [평가 결과] =====\n",
      "yes\n",
      "\n",
      "===== [DECISION: GENERATION IS GROUNDED IN DOCUMENTS] =====\n",
      "no hallucination\n",
      "\n",
      "===== [GRADE GENERATED ANSWER vs QUESTION] =====\n",
      "\n",
      "==== [DECISION: GENERATED ANSWER ADDRESSES QUESTION] ====\n",
      "relevant\n",
      "\n",
      "==========================================================================================\n",
      "\n"
     ]
    },
    {
     "data": {
      "text/plain": [
       "'relevant'"
      ]
     },
     "execution_count": 50,
     "metadata": {},
     "output_type": "execute_result"
    }
   ],
   "source": [
    "hallucination_check(state)"
   ]
  },
  {
   "cell_type": "code",
   "execution_count": 51,
   "metadata": {},
   "outputs": [],
   "source": [
    "from langgraph.graph import StateGraph, END, START\n",
    "from langgraph.checkpoint.memory import MemorySaver\n",
    "from langchain_teddynote.graphs import visualize_graph"
   ]
  },
  {
   "cell_type": "code",
   "execution_count": 52,
   "metadata": {},
   "outputs": [],
   "source": [
    "######### 1. 그래프 생성 #########\n",
    "\n",
    "workflow = StateGraph(GraphState)"
   ]
  },
  {
   "cell_type": "code",
   "execution_count": 53,
   "metadata": {},
   "outputs": [
    {
     "data": {
      "text/plain": [
       "<langgraph.graph.state.StateGraph at 0x2b3d3d99250>"
      ]
     },
     "execution_count": 53,
     "metadata": {},
     "output_type": "execute_result"
    }
   ],
   "source": [
    "######### 2. 노드 정의  #########\n",
    "\n",
    "workflow.add_node('web_search', web_search)                 # 웹 검색  \n",
    "workflow.add_node('retrieve', retrieve)                     # 문서 검색 노드\n",
    "workflow.add_node('grade_documents', grade_documents)       # 문서 검색으로 가져온 결과와 사용자 질문의 관련성을 평가하는 노드\n",
    "workflow.add_node('generate', generate)                     # 사용자 질문과 문서 검색결과를 가지고 답변 생성하는 노드\n",
    "workflow.add_node('transform_query', transform_query)       # 사용자 질문(쿼리)를 재작성하는 노드"
   ]
  },
  {
   "cell_type": "code",
   "execution_count": 54,
   "metadata": {},
   "outputs": [
    {
     "data": {
      "text/plain": [
       "<langgraph.graph.state.StateGraph at 0x2b3d3d99250>"
      ]
     },
     "execution_count": 54,
     "metadata": {},
     "output_type": "execute_result"
    }
   ],
   "source": [
    "######### 3. 그래프 엣지(Edge) 추가  #########\n",
    "\n",
    "workflow.add_conditional_edges(\n",
    "    START, \n",
    "    route_question,                     # 질문 라우팅 노드  \n",
    "    {\n",
    "        'web_search': 'web_search',     # 웹 검색으로 라우팅\n",
    "        'vectorstore': 'retrieve'       # retrieve (PDF 문서 검색)로 라우팅\n",
    "    }\n",
    ")"
   ]
  },
  {
   "cell_type": "code",
   "execution_count": 55,
   "metadata": {},
   "outputs": [
    {
     "data": {
      "text/plain": [
       "<langgraph.graph.state.StateGraph at 0x2b3d3d99250>"
      ]
     },
     "execution_count": 55,
     "metadata": {},
     "output_type": "execute_result"
    }
   ],
   "source": [
    "workflow.add_edge('web_search', 'generate')         # 웹 검색하고 답변 생성\n",
    "workflow.add_edge('retrieve', 'grade_documents')    # retrieve 노드에서 PDF 문서 검색실행 하고 결과를 문서 검색 평가기로 가서 평가"
   ]
  },
  {
   "cell_type": "code",
   "execution_count": 56,
   "metadata": {},
   "outputs": [
    {
     "data": {
      "text/plain": [
       "<langgraph.graph.state.StateGraph at 0x2b3d3d99250>"
      ]
     },
     "execution_count": 56,
     "metadata": {},
     "output_type": "execute_result"
    }
   ],
   "source": [
    "workflow.add_conditional_edges(\n",
    "    'grade_documents',                              # 문서 검색으로 가져온 결과와 사용자 질문의 관련성을 평가하는 노드\n",
    "    decide_to_generate,                             # 문서 관련성 평가\n",
    "    {\n",
    "        'transform_query': 'transform_query',       # 사용자 입력 다시 작성 필요\n",
    "        'generate': 'generate'                      # 답변 생성\n",
    "    }\n",
    ")"
   ]
  },
  {
   "cell_type": "code",
   "execution_count": 57,
   "metadata": {},
   "outputs": [
    {
     "data": {
      "text/plain": [
       "<langgraph.graph.state.StateGraph at 0x2b3d3d99250>"
      ]
     },
     "execution_count": 57,
     "metadata": {},
     "output_type": "execute_result"
    }
   ],
   "source": [
    "workflow.add_edge('transform_query', 'retrieve')    # 쿼리 다시 작성한 뒤 문서 검색"
   ]
  },
  {
   "cell_type": "code",
   "execution_count": 58,
   "metadata": {},
   "outputs": [
    {
     "data": {
      "text/plain": [
       "<langgraph.graph.state.StateGraph at 0x2b3d3d99250>"
      ]
     },
     "execution_count": 58,
     "metadata": {},
     "output_type": "execute_result"
    }
   ],
   "source": [
    "workflow.add_conditional_edges(\n",
    "    'generate',\n",
    "    hallucination_check,\n",
    "    {\n",
    "        'hallucination': 'generate',                # Hallucination 발생 시 재생성\n",
    "        'relevant': END,                            # 답변 관련성 통과     \n",
    "        'not relevant': 'transform_query'           # 딥변 관련성 통과 못하는 경우. 쿼리 다시 작성\n",
    "    }\n",
    ")"
   ]
  },
  {
   "cell_type": "code",
   "execution_count": 59,
   "metadata": {},
   "outputs": [],
   "source": [
    "######### 4. 체크 포인터 설정  #########\n",
    "\n",
    "memory = MemorySaver()"
   ]
  },
  {
   "cell_type": "code",
   "execution_count": 60,
   "metadata": {},
   "outputs": [],
   "source": [
    "######### 5. 그래프 컴파일(compile)  #########\n",
    "\n",
    "app = workflow.compile(checkpointer=memory)"
   ]
  },
  {
   "cell_type": "code",
   "execution_count": 61,
   "metadata": {},
   "outputs": [
    {
     "data": {
      "image/png": "[encoded data removed]",
      "text/plain": [
       "<IPython.core.display.Image object>"
      ]
     },
     "metadata": {},
     "output_type": "display_data"
    }
   ],
   "source": [
    "visualize_graph(app)"
   ]
  },
  {
   "cell_type": "code",
   "execution_count": 62,
   "metadata": {},
   "outputs": [],
   "source": [
    "from langchain_core.runnables import RunnableConfig\n",
    "from langchain_teddynote.messages import invoke_graph, stream_graph, random_uuid"
   ]
  },
  {
   "cell_type": "code",
   "execution_count": 63,
   "metadata": {},
   "outputs": [
    {
     "name": "stdout",
     "output_type": "stream",
     "text": [
      "\n",
      "==========================================================================================\n",
      "🔄 [Node] 질문 라우팅 노드 🔄\n",
      "==== [ROUTE QUESTION TO VECTORSTORE] ====\n",
      "==========================================================================================\n",
      "\n",
      "\n",
      "==========================================================================================\n",
      "🔄 [Node] 문서 검색 노드 🔄\n",
      "-------------------\n",
      "[Document(id='dbba97b5-24cf-419d-9b83-ad98675e3a51', metadata={'source': 'data/SPRI_AI_Brief_2023년12월호_F.pdf', 'file_path': 'data/SPRI_AI_Brief_2023년12월호_F.pdf', 'page': 12, 'total_pages': 23, 'Author': 'dj', 'Creator': 'Hwp 2018 10.0.0.13462', 'Producer': 'Hancom PDF 1.3.0.542', 'CreationDate': \"D:20231208132838+09'00'\", 'ModDate': \"D:20231208132838+09'00'\", 'PDFVersion': '1.4'}, page_content='SPRi AI Brief |\\n2023-12월호\\n삼성전자, 자체 개발 생성 AI ‘삼성 가우스’ 공개\\nKEY Contents\\nn 삼성전자가 온디바이스에서 작동 가능하며 언어, 코드, 이미지의 3개 모델로 구성된 자체 개발 생성\\nAI 모델 ‘삼성 가우스’를 공개\\nn 삼성전자는 삼성 가우스를 다양한 제품에 단계적으로 탑재할 계획으로, 온디바이스 작동이 가능한\\n삼성 가우스는 외부로 사용자 정보가 유출될 위험이 없다는 장점을 보유\\n£언어, 코드, 이미지의 3개 모델로 구성된 삼성 가우스, 온디바이스 작동 지원'), Document(id='061f8c15-b18e-4e86-bf04-1c5536cdff30', metadata={'source': 'data/SPRI_AI_Brief_2023년12월호_F.pdf', 'file_path': 'data/SPRI_AI_Brief_2023년12월호_F.pdf', 'page': 1, 'total_pages': 23, 'Author': 'dj', 'Creator': 'Hwp 2018 10.0.0.13462', 'Producer': 'Hancom PDF 1.3.0.542', 'CreationDate': \"D:20231208132838+09'00'\", 'ModDate': \"D:20231208132838+09'00'\", 'PDFVersion': '1.4'}, page_content='▹ 삼성전자, 자체 개발 생성 AI ‘삼성 가우스’ 공개 ···························································10\\n▹ 구글, 앤스로픽에 20억 달러 투자로 생성 AI 협력 강화 ················································11\\n▹ IDC, 2027년 AI 소프트웨어 매출 2,500억 달러 돌파 전망···········································12'), Document(id='59d1577e-2e28-441a-9467-1534308ec55f', metadata={'source': 'data/SPRI_AI_Brief_2023년12월호_F.pdf', 'file_path': 'data/SPRI_AI_Brief_2023년12월호_F.pdf', 'page': 12, 'total_pages': 23, 'Author': 'dj', 'Creator': 'Hwp 2018 10.0.0.13462', 'Producer': 'Hancom PDF 1.3.0.542', 'CreationDate': \"D:20231208132838+09'00'\", 'ModDate': \"D:20231208132838+09'00'\", 'PDFVersion': '1.4'}, page_content='£언어, 코드, 이미지의 3개 모델로 구성된 삼성 가우스, 온디바이스 작동 지원\\nn 삼성전자가 2023년 11월 8일 열린 ‘삼성 AI 포럼 2023’ 행사에서 자체 개발한 생성 AI 모델\\n‘삼성 가우스’를 최초 공개\\n∙ 정규분포 이론을 정립한 천재 수학자 가우스(Gauss)의 이름을 본뜬 삼성 가우스는 다양한 상황에\\n최적화된 크기의 모델 선택이 가능\\n∙ 삼성 가우스는 라이선스나 개인정보를 침해하지 않는 안전한 데이터를 통해 학습되었으며,\\n온디바이스에서 작동하도록 설계되어 외부로 사용자의 정보가 유출되지 않는 장점을 보유'), Document(id='1540f974-04f2-414f-a98c-d033b14298ef', metadata={'source': 'data/SPRI_AI_Brief_2023년12월호_F.pdf', 'file_path': 'data/SPRI_AI_Brief_2023년12월호_F.pdf', 'page': 12, 'total_pages': 23, 'Author': 'dj', 'Creator': 'Hwp 2018 10.0.0.13462', 'Producer': 'Hancom PDF 1.3.0.542', 'CreationDate': \"D:20231208132838+09'00'\", 'ModDate': \"D:20231208132838+09'00'\", 'PDFVersion': '1.4'}, page_content='어시스턴트를 적용한 구글 픽셀(Pixel)과 경쟁할 것으로 예상\\n☞ 출처 : 삼성전자, ‘삼성 AI 포럼’서 자체 개발 생성형 AI ‘삼성 가우스’ 공개, 2023.11.08.\\n삼성전자, ‘삼성 개발자 콘퍼런스 코리아 2023’ 개최, 2023.11.14.\\nTechRepublic, Samsung Gauss: Samsung Research Reveals Generative AI, 2023.11.08.\\n10'), Document(id='ba140011-233b-42b0-aeca-27a499f35c12', metadata={'source': 'data/SPRI_AI_Brief_2023년12월호_F.pdf', 'file_path': 'data/SPRI_AI_Brief_2023년12월호_F.pdf', 'page': 18, 'total_pages': 23, 'Author': 'dj', 'Creator': 'Hwp 2018 10.0.0.13462', 'Producer': 'Hancom PDF 1.3.0.542', 'CreationDate': \"D:20231208132838+09'00'\", 'ModDate': \"D:20231208132838+09'00'\", 'PDFVersion': '1.4'}, page_content='<구글 딥마인드의 범용 AI 분류 프레임워크>\\n성능 특수 AI 예시 범용 AI 예시\\n0단계: AI 아님 계산기 소프트웨어, 컴파일러 아마존 메커니컬 터크\\n1단계: 신진(숙련되지 않은 인간) GOFAI(Good Old Fashioned Artificial Intelligence) 챗GPT, 바드, 라마2\\n스마트 스피커(애플 시리, 아마존 알렉사, 구글\\n2단계: 유능(숙련된 인간의 50% 이상) 미달성\\n어시스턴트), IBM 왓슨\\n3단계: 전문가(숙련된 인간의 90% 이상) 문법 교정기(그래머리), 생성 이미지 모델(달리2) 미달성'), Document(id='8cb48f14-e480-4943-8092-f409c19dcc31', metadata={'source': 'data/SPRI_AI_Brief_2023년12월호_F.pdf', 'file_path': 'data/SPRI_AI_Brief_2023년12월호_F.pdf', 'page': 12, 'total_pages': 23, 'Author': 'dj', 'Creator': 'Hwp 2018 10.0.0.13462', 'Producer': 'Hancom PDF 1.3.0.542', 'CreationDate': \"D:20231208132838+09'00'\", 'ModDate': \"D:20231208132838+09'00'\", 'PDFVersion': '1.4'}, page_content='처리를 지원\\n∙ 코드 모델 기반의 AI 코딩 어시스턴트 ‘코드아이(code.i)’는 대화형 인터페이스로 서비스를 제공하며\\n사내 소프트웨어 개발에 최적화\\n∙ 이미지 모델은 창의적인 이미지를 생성하고 기존 이미지를 원하는 대로 바꿀 수 있도록 지원하며\\n저해상도 이미지의 고해상도 전환도 지원\\nn IT 전문지 테크리퍼블릭(TechRepublic)은 온디바이스 AI가 주요 기술 트렌드로 부상했다며,\\n2024년부터 가우스를 탑재한 삼성 스마트폰이 메타의 라마(Llama)2를 탑재한 퀄컴 기기 및 구글'), Document(id='a1406138-9bbf-4afa-a6cf-5412515a418d', metadata={'source': 'data/SPRI_AI_Brief_2023년12월호_F.pdf', 'file_path': 'data/SPRI_AI_Brief_2023년12월호_F.pdf', 'page': 12, 'total_pages': 23, 'Author': 'dj', 'Creator': 'Hwp 2018 10.0.0.13462', 'Producer': 'Hancom PDF 1.3.0.542', 'CreationDate': \"D:20231208132838+09'00'\", 'ModDate': \"D:20231208132838+09'00'\", 'PDFVersion': '1.4'}, page_content='온디바이스에서 작동하도록 설계되어 외부로 사용자의 정보가 유출되지 않는 장점을 보유\\n∙ 삼성전자는 삼성 가우스를 활용한 온디바이스 AI 기술도 소개했으며, 생성 AI 모델을 다양한 제품에\\n단계적으로 탑재할 계획\\nn 삼성 가우스는 △텍스트를 생성하는 언어모델 △코드를 생성하는 코드 모델 △이미지를 생성하는\\n이미지 모델의 3개 모델로 구성\\n∙ 언어 모델은 클라우드와 온디바이스 대상 다양한 모델로 구성되며, 메일 작성, 문서 요약, 번역 업무의\\n처리를 지원'), Document(id='2680571d-046d-4ce5-a07f-8fa7829bb397', metadata={'source': 'data/SPRI_AI_Brief_2023년12월호_F.pdf', 'file_path': 'data/SPRI_AI_Brief_2023년12월호_F.pdf', 'page': 11, 'total_pages': 23, 'Author': 'dj', 'Creator': 'Hwp 2018 10.0.0.13462', 'Producer': 'Hancom PDF 1.3.0.542', 'CreationDate': \"D:20231208132838+09'00'\", 'ModDate': \"D:20231208132838+09'00'\", 'PDFVersion': '1.4'}, page_content='제작을 포함\\nn 알리바바 클라우드는 급증하는 생성 AI 수요에 대응해 모델 개발과 애플리케이션 구축 절차를\\n간소화하는 올인원 AI 모델 구축 플랫폼 ‘젠AI(GenAI)’도 공개\\n∙ 이 플랫폼은 데이터 관리, 모델 배포와 평가, 신속한 엔지니어링을 위한 종합 도구 모음을 제공하여\\n다양한 기업들이 맞춤형 AI 모델을 한층 쉽게 개발할 수 있도록 지원\\n∙ 생성 AI 개발에 필요한 컴퓨팅과 데이터 처리 요구사항을 지원하기 위해 AI 플랫폼(PAI),\\n데이터베이스 솔루션, 컨테이너 서비스와 같은 클라우드 신제품도 발표'), Document(id='c1f68675-a1d0-4822-98d5-ffe82d243158', metadata={'source': 'data/SPRI_AI_Brief_2023년12월호_F.pdf', 'file_path': 'data/SPRI_AI_Brief_2023년12월호_F.pdf', 'page': 1, 'total_pages': 23, 'Author': 'dj', 'Creator': 'Hwp 2018 10.0.0.13462', 'Producer': 'Hancom PDF 1.3.0.542', 'CreationDate': \"D:20231208132838+09'00'\", 'ModDate': \"D:20231208132838+09'00'\", 'PDFVersion': '1.4'}, page_content='▹ 빌 게이츠, AI 에이전트로 인한 컴퓨터 사용의 패러다임 변화 전망································13\\n▹ 유튜브, 2024년부터 AI 생성 콘텐츠 표시 의무화····························································14\\n3. 기술/연구\\n▹ 영국 과학혁신기술부, AI 안전 연구소 설립 발표······························································15'), Document(id='8f51aefa-c7c0-4a32-8b5d-d264e8284b92', metadata={'source': 'data/SPRI_AI_Brief_2023년12월호_F.pdf', 'file_path': 'data/SPRI_AI_Brief_2023년12월호_F.pdf', 'page': 18, 'total_pages': 23, 'Author': 'dj', 'Creator': 'Hwp 2018 10.0.0.13462', 'Producer': 'Hancom PDF 1.3.0.542', 'CreationDate': \"D:20231208132838+09'00'\", 'ModDate': \"D:20231208132838+09'00'\", 'PDFVersion': '1.4'}, page_content='£챗GPT와 구글 바드와 같은 AI 챗봇은 범용 AI 1단계 수준\\nn 구글 딥마인드 연구진은 2023년 11월 4일 범용 AI(Artificial General Intelligence, AGI) 모델을 용도와\\n성능에 따라 분류하는 프레임워크를 제시한 논문을 발표\\n∙ 프레임워크의 목적은 AGI의 성능, 범용성, 자율성 수준을 정의하여 모델 간 비교와 위험 평가, AGI\\n달성까지의 진행 상황을 측정할 수 있는 공통 기준을 제공하기 위함\\nn 연구진은 AGI 개념 정의에 필요한 기준을 수립하기 위한 6가지 원칙을 아래와 같이 도출')]\n",
      "-------------------\n",
      "==========================================================================================\n",
      "\n",
      "[node_name]: retrieve\n",
      "[node_chunk]:\n",
      " {'documents': [Document(id='dbba97b5-24cf-419d-9b83-ad98675e3a51', metadata={'source': 'data/SPRI_AI_Brief_2023년12월호_F.pdf', 'file_path': 'data/SPRI_AI_Brief_2023년12월호_F.pdf', 'page': 12, 'total_pages': 23, 'Author': 'dj', 'Creator': 'Hwp 2018 10.0.0.13462', 'Producer': 'Hancom PDF 1.3.0.542', 'CreationDate': \"D:20231208132838+09'00'\", 'ModDate': \"D:20231208132838+09'00'\", 'PDFVersion': '1.4'}, page_content='SPRi AI Brief |\\n2023-12월호\\n삼성전자, 자체 개발 생성 AI ‘삼성 가우스’ 공개\\nKEY Contents\\nn 삼성전자가 온디바이스에서 작동 가능하며 언어, 코드, 이미지의 3개 모델로 구성된 자체 개발 생성\\nAI 모델 ‘삼성 가우스’를 공개\\nn 삼성전자는 삼성 가우스를 다양한 제품에 단계적으로 탑재할 계획으로, 온디바이스 작동이 가능한\\n삼성 가우스는 외부로 사용자 정보가 유출될 위험이 없다는 장점을 보유\\n£언어, 코드, 이미지의 3개 모델로 구성된 삼성 가우스, 온디바이스 작동 지원'), Document(id='061f8c15-b18e-4e86-bf04-1c5536cdff30', metadata={'source': 'data/SPRI_AI_Brief_2023년12월호_F.pdf', 'file_path': 'data/SPRI_AI_Brief_2023년12월호_F.pdf', 'page': 1, 'total_pages': 23, 'Author': 'dj', 'Creator': 'Hwp 2018 10.0.0.13462', 'Producer': 'Hancom PDF 1.3.0.542', 'CreationDate': \"D:20231208132838+09'00'\", 'ModDate': \"D:20231208132838+09'00'\", 'PDFVersion': '1.4'}, page_content='▹ 삼성전자, 자체 개발 생성 AI ‘삼성 가우스’ 공개 ···························································10\\n▹ 구글, 앤스로픽에 20억 달러 투자로 생성 AI 협력 강화 ················································11\\n▹ IDC, 2027년 AI 소프트웨어 매출 2,500억 달러 돌파 전망···········································12'), Document(id='59d1577e-2e28-441a-9467-1534308ec55f', metadata={'source': 'data/SPRI_AI_Brief_2023년12월호_F.pdf', 'file_path': 'data/SPRI_AI_Brief_2023년12월호_F.pdf', 'page': 12, 'total_pages': 23, 'Author': 'dj', 'Creator': 'Hwp 2018 10.0.0.13462', 'Producer': 'Hancom PDF 1.3.0.542', 'CreationDate': \"D:20231208132838+09'00'\", 'ModDate': \"D:20231208132838+09'00'\", 'PDFVersion': '1.4'}, page_content='£언어, 코드, 이미지의 3개 모델로 구성된 삼성 가우스, 온디바이스 작동 지원\\nn 삼성전자가 2023년 11월 8일 열린 ‘삼성 AI 포럼 2023’ 행사에서 자체 개발한 생성 AI 모델\\n‘삼성 가우스’를 최초 공개\\n∙ 정규분포 이론을 정립한 천재 수학자 가우스(Gauss)의 이름을 본뜬 삼성 가우스는 다양한 상황에\\n최적화된 크기의 모델 선택이 가능\\n∙ 삼성 가우스는 라이선스나 개인정보를 침해하지 않는 안전한 데이터를 통해 학습되었으며,\\n온디바이스에서 작동하도록 설계되어 외부로 사용자의 정보가 유출되지 않는 장점을 보유'), Document(id='1540f974-04f2-414f-a98c-d033b14298ef', metadata={'source': 'data/SPRI_AI_Brief_2023년12월호_F.pdf', 'file_path': 'data/SPRI_AI_Brief_2023년12월호_F.pdf', 'page': 12, 'total_pages': 23, 'Author': 'dj', 'Creator': 'Hwp 2018 10.0.0.13462', 'Producer': 'Hancom PDF 1.3.0.542', 'CreationDate': \"D:20231208132838+09'00'\", 'ModDate': \"D:20231208132838+09'00'\", 'PDFVersion': '1.4'}, page_content='어시스턴트를 적용한 구글 픽셀(Pixel)과 경쟁할 것으로 예상\\n☞ 출처 : 삼성전자, ‘삼성 AI 포럼’서 자체 개발 생성형 AI ‘삼성 가우스’ 공개, 2023.11.08.\\n삼성전자, ‘삼성 개발자 콘퍼런스 코리아 2023’ 개최, 2023.11.14.\\nTechRepublic, Samsung Gauss: Samsung Research Reveals Generative AI, 2023.11.08.\\n10'), Document(id='ba140011-233b-42b0-aeca-27a499f35c12', metadata={'source': 'data/SPRI_AI_Brief_2023년12월호_F.pdf', 'file_path': 'data/SPRI_AI_Brief_2023년12월호_F.pdf', 'page': 18, 'total_pages': 23, 'Author': 'dj', 'Creator': 'Hwp 2018 10.0.0.13462', 'Producer': 'Hancom PDF 1.3.0.542', 'CreationDate': \"D:20231208132838+09'00'\", 'ModDate': \"D:20231208132838+09'00'\", 'PDFVersion': '1.4'}, page_content='<구글 딥마인드의 범용 AI 분류 프레임워크>\\n성능 특수 AI 예시 범용 AI 예시\\n0단계: AI 아님 계산기 소프트웨어, 컴파일러 아마존 메커니컬 터크\\n1단계: 신진(숙련되지 않은 인간) GOFAI(Good Old Fashioned Artificial Intelligence) 챗GPT, 바드, 라마2\\n스마트 스피커(애플 시리, 아마존 알렉사, 구글\\n2단계: 유능(숙련된 인간의 50% 이상) 미달성\\n어시스턴트), IBM 왓슨\\n3단계: 전문가(숙련된 인간의 90% 이상) 문법 교정기(그래머리), 생성 이미지 모델(달리2) 미달성'), Document(id='8cb48f14-e480-4943-8092-f409c19dcc31', metadata={'source': 'data/SPRI_AI_Brief_2023년12월호_F.pdf', 'file_path': 'data/SPRI_AI_Brief_2023년12월호_F.pdf', 'page': 12, 'total_pages': 23, 'Author': 'dj', 'Creator': 'Hwp 2018 10.0.0.13462', 'Producer': 'Hancom PDF 1.3.0.542', 'CreationDate': \"D:20231208132838+09'00'\", 'ModDate': \"D:20231208132838+09'00'\", 'PDFVersion': '1.4'}, page_content='처리를 지원\\n∙ 코드 모델 기반의 AI 코딩 어시스턴트 ‘코드아이(code.i)’는 대화형 인터페이스로 서비스를 제공하며\\n사내 소프트웨어 개발에 최적화\\n∙ 이미지 모델은 창의적인 이미지를 생성하고 기존 이미지를 원하는 대로 바꿀 수 있도록 지원하며\\n저해상도 이미지의 고해상도 전환도 지원\\nn IT 전문지 테크리퍼블릭(TechRepublic)은 온디바이스 AI가 주요 기술 트렌드로 부상했다며,\\n2024년부터 가우스를 탑재한 삼성 스마트폰이 메타의 라마(Llama)2를 탑재한 퀄컴 기기 및 구글'), Document(id='a1406138-9bbf-4afa-a6cf-5412515a418d', metadata={'source': 'data/SPRI_AI_Brief_2023년12월호_F.pdf', 'file_path': 'data/SPRI_AI_Brief_2023년12월호_F.pdf', 'page': 12, 'total_pages': 23, 'Author': 'dj', 'Creator': 'Hwp 2018 10.0.0.13462', 'Producer': 'Hancom PDF 1.3.0.542', 'CreationDate': \"D:20231208132838+09'00'\", 'ModDate': \"D:20231208132838+09'00'\", 'PDFVersion': '1.4'}, page_content='온디바이스에서 작동하도록 설계되어 외부로 사용자의 정보가 유출되지 않는 장점을 보유\\n∙ 삼성전자는 삼성 가우스를 활용한 온디바이스 AI 기술도 소개했으며, 생성 AI 모델을 다양한 제품에\\n단계적으로 탑재할 계획\\nn 삼성 가우스는 △텍스트를 생성하는 언어모델 △코드를 생성하는 코드 모델 △이미지를 생성하는\\n이미지 모델의 3개 모델로 구성\\n∙ 언어 모델은 클라우드와 온디바이스 대상 다양한 모델로 구성되며, 메일 작성, 문서 요약, 번역 업무의\\n처리를 지원'), Document(id='2680571d-046d-4ce5-a07f-8fa7829bb397', metadata={'source': 'data/SPRI_AI_Brief_2023년12월호_F.pdf', 'file_path': 'data/SPRI_AI_Brief_2023년12월호_F.pdf', 'page': 11, 'total_pages': 23, 'Author': 'dj', 'Creator': 'Hwp 2018 10.0.0.13462', 'Producer': 'Hancom PDF 1.3.0.542', 'CreationDate': \"D:20231208132838+09'00'\", 'ModDate': \"D:20231208132838+09'00'\", 'PDFVersion': '1.4'}, page_content='제작을 포함\\nn 알리바바 클라우드는 급증하는 생성 AI 수요에 대응해 모델 개발과 애플리케이션 구축 절차를\\n간소화하는 올인원 AI 모델 구축 플랫폼 ‘젠AI(GenAI)’도 공개\\n∙ 이 플랫폼은 데이터 관리, 모델 배포와 평가, 신속한 엔지니어링을 위한 종합 도구 모음을 제공하여\\n다양한 기업들이 맞춤형 AI 모델을 한층 쉽게 개발할 수 있도록 지원\\n∙ 생성 AI 개발에 필요한 컴퓨팅과 데이터 처리 요구사항을 지원하기 위해 AI 플랫폼(PAI),\\n데이터베이스 솔루션, 컨테이너 서비스와 같은 클라우드 신제품도 발표'), Document(id='c1f68675-a1d0-4822-98d5-ffe82d243158', metadata={'source': 'data/SPRI_AI_Brief_2023년12월호_F.pdf', 'file_path': 'data/SPRI_AI_Brief_2023년12월호_F.pdf', 'page': 1, 'total_pages': 23, 'Author': 'dj', 'Creator': 'Hwp 2018 10.0.0.13462', 'Producer': 'Hancom PDF 1.3.0.542', 'CreationDate': \"D:20231208132838+09'00'\", 'ModDate': \"D:20231208132838+09'00'\", 'PDFVersion': '1.4'}, page_content='▹ 빌 게이츠, AI 에이전트로 인한 컴퓨터 사용의 패러다임 변화 전망································13\\n▹ 유튜브, 2024년부터 AI 생성 콘텐츠 표시 의무화····························································14\\n3. 기술/연구\\n▹ 영국 과학혁신기술부, AI 안전 연구소 설립 발표······························································15'), Document(id='8f51aefa-c7c0-4a32-8b5d-d264e8284b92', metadata={'source': 'data/SPRI_AI_Brief_2023년12월호_F.pdf', 'file_path': 'data/SPRI_AI_Brief_2023년12월호_F.pdf', 'page': 18, 'total_pages': 23, 'Author': 'dj', 'Creator': 'Hwp 2018 10.0.0.13462', 'Producer': 'Hancom PDF 1.3.0.542', 'CreationDate': \"D:20231208132838+09'00'\", 'ModDate': \"D:20231208132838+09'00'\", 'PDFVersion': '1.4'}, page_content='£챗GPT와 구글 바드와 같은 AI 챗봇은 범용 AI 1단계 수준\\nn 구글 딥마인드 연구진은 2023년 11월 4일 범용 AI(Artificial General Intelligence, AGI) 모델을 용도와\\n성능에 따라 분류하는 프레임워크를 제시한 논문을 발표\\n∙ 프레임워크의 목적은 AGI의 성능, 범용성, 자율성 수준을 정의하여 모델 간 비교와 위험 평가, AGI\\n달성까지의 진행 상황을 측정할 수 있는 공통 기준을 제공하기 위함\\nn 연구진은 AGI 개념 정의에 필요한 기준을 수립하기 위한 6가지 원칙을 아래와 같이 도출')]}\n",
      "\n",
      "==========================================================================================\n",
      "===== [CHECK DOCUMENT RELEVANCE TO QUESTION] =====\n",
      "---GRADE: DOCUMENT RELEVANT---\n",
      "---GRADE: DOCUMENT RELEVANT---\n",
      "---GRADE: DOCUMENT RELEVANT---\n",
      "---GRADE: DOCUMENT RELEVANT---\n",
      "---GRADE: DOCUMENT NOT RELEVANT---\n",
      "---GRADE: DOCUMENT RELEVANT---\n",
      "---GRADE: DOCUMENT RELEVANT---\n",
      "---GRADE: DOCUMENT NOT RELEVANT---\n",
      "---GRADE: DOCUMENT NOT RELEVANT---\n",
      "---GRADE: DOCUMENT NOT RELEVANT---\n",
      "==========================================================================================\n",
      "\n",
      "\n",
      "==========================================================================================\n",
      "🔄 [Node] 문서 관련성 평가 노드 🔄\n",
      "===== [DECISION: GENERATE] =====\n",
      "==========================================================================================\n",
      "\n",
      "[node_name]: grade_documents\n",
      "[node_chunk]:\n",
      " {'documents': [Document(id='dbba97b5-24cf-419d-9b83-ad98675e3a51', metadata={'source': 'data/SPRI_AI_Brief_2023년12월호_F.pdf', 'file_path': 'data/SPRI_AI_Brief_2023년12월호_F.pdf', 'page': 12, 'total_pages': 23, 'Author': 'dj', 'Creator': 'Hwp 2018 10.0.0.13462', 'Producer': 'Hancom PDF 1.3.0.542', 'CreationDate': \"D:20231208132838+09'00'\", 'ModDate': \"D:20231208132838+09'00'\", 'PDFVersion': '1.4'}, page_content='SPRi AI Brief |\\n2023-12월호\\n삼성전자, 자체 개발 생성 AI ‘삼성 가우스’ 공개\\nKEY Contents\\nn 삼성전자가 온디바이스에서 작동 가능하며 언어, 코드, 이미지의 3개 모델로 구성된 자체 개발 생성\\nAI 모델 ‘삼성 가우스’를 공개\\nn 삼성전자는 삼성 가우스를 다양한 제품에 단계적으로 탑재할 계획으로, 온디바이스 작동이 가능한\\n삼성 가우스는 외부로 사용자 정보가 유출될 위험이 없다는 장점을 보유\\n£언어, 코드, 이미지의 3개 모델로 구성된 삼성 가우스, 온디바이스 작동 지원'), Document(id='061f8c15-b18e-4e86-bf04-1c5536cdff30', metadata={'source': 'data/SPRI_AI_Brief_2023년12월호_F.pdf', 'file_path': 'data/SPRI_AI_Brief_2023년12월호_F.pdf', 'page': 1, 'total_pages': 23, 'Author': 'dj', 'Creator': 'Hwp 2018 10.0.0.13462', 'Producer': 'Hancom PDF 1.3.0.542', 'CreationDate': \"D:20231208132838+09'00'\", 'ModDate': \"D:20231208132838+09'00'\", 'PDFVersion': '1.4'}, page_content='▹ 삼성전자, 자체 개발 생성 AI ‘삼성 가우스’ 공개 ···························································10\\n▹ 구글, 앤스로픽에 20억 달러 투자로 생성 AI 협력 강화 ················································11\\n▹ IDC, 2027년 AI 소프트웨어 매출 2,500억 달러 돌파 전망···········································12'), Document(id='59d1577e-2e28-441a-9467-1534308ec55f', metadata={'source': 'data/SPRI_AI_Brief_2023년12월호_F.pdf', 'file_path': 'data/SPRI_AI_Brief_2023년12월호_F.pdf', 'page': 12, 'total_pages': 23, 'Author': 'dj', 'Creator': 'Hwp 2018 10.0.0.13462', 'Producer': 'Hancom PDF 1.3.0.542', 'CreationDate': \"D:20231208132838+09'00'\", 'ModDate': \"D:20231208132838+09'00'\", 'PDFVersion': '1.4'}, page_content='£언어, 코드, 이미지의 3개 모델로 구성된 삼성 가우스, 온디바이스 작동 지원\\nn 삼성전자가 2023년 11월 8일 열린 ‘삼성 AI 포럼 2023’ 행사에서 자체 개발한 생성 AI 모델\\n‘삼성 가우스’를 최초 공개\\n∙ 정규분포 이론을 정립한 천재 수학자 가우스(Gauss)의 이름을 본뜬 삼성 가우스는 다양한 상황에\\n최적화된 크기의 모델 선택이 가능\\n∙ 삼성 가우스는 라이선스나 개인정보를 침해하지 않는 안전한 데이터를 통해 학습되었으며,\\n온디바이스에서 작동하도록 설계되어 외부로 사용자의 정보가 유출되지 않는 장점을 보유'), Document(id='1540f974-04f2-414f-a98c-d033b14298ef', metadata={'source': 'data/SPRI_AI_Brief_2023년12월호_F.pdf', 'file_path': 'data/SPRI_AI_Brief_2023년12월호_F.pdf', 'page': 12, 'total_pages': 23, 'Author': 'dj', 'Creator': 'Hwp 2018 10.0.0.13462', 'Producer': 'Hancom PDF 1.3.0.542', 'CreationDate': \"D:20231208132838+09'00'\", 'ModDate': \"D:20231208132838+09'00'\", 'PDFVersion': '1.4'}, page_content='어시스턴트를 적용한 구글 픽셀(Pixel)과 경쟁할 것으로 예상\\n☞ 출처 : 삼성전자, ‘삼성 AI 포럼’서 자체 개발 생성형 AI ‘삼성 가우스’ 공개, 2023.11.08.\\n삼성전자, ‘삼성 개발자 콘퍼런스 코리아 2023’ 개최, 2023.11.14.\\nTechRepublic, Samsung Gauss: Samsung Research Reveals Generative AI, 2023.11.08.\\n10'), Document(id='8cb48f14-e480-4943-8092-f409c19dcc31', metadata={'source': 'data/SPRI_AI_Brief_2023년12월호_F.pdf', 'file_path': 'data/SPRI_AI_Brief_2023년12월호_F.pdf', 'page': 12, 'total_pages': 23, 'Author': 'dj', 'Creator': 'Hwp 2018 10.0.0.13462', 'Producer': 'Hancom PDF 1.3.0.542', 'CreationDate': \"D:20231208132838+09'00'\", 'ModDate': \"D:20231208132838+09'00'\", 'PDFVersion': '1.4'}, page_content='처리를 지원\\n∙ 코드 모델 기반의 AI 코딩 어시스턴트 ‘코드아이(code.i)’는 대화형 인터페이스로 서비스를 제공하며\\n사내 소프트웨어 개발에 최적화\\n∙ 이미지 모델은 창의적인 이미지를 생성하고 기존 이미지를 원하는 대로 바꿀 수 있도록 지원하며\\n저해상도 이미지의 고해상도 전환도 지원\\nn IT 전문지 테크리퍼블릭(TechRepublic)은 온디바이스 AI가 주요 기술 트렌드로 부상했다며,\\n2024년부터 가우스를 탑재한 삼성 스마트폰이 메타의 라마(Llama)2를 탑재한 퀄컴 기기 및 구글'), Document(id='a1406138-9bbf-4afa-a6cf-5412515a418d', metadata={'source': 'data/SPRI_AI_Brief_2023년12월호_F.pdf', 'file_path': 'data/SPRI_AI_Brief_2023년12월호_F.pdf', 'page': 12, 'total_pages': 23, 'Author': 'dj', 'Creator': 'Hwp 2018 10.0.0.13462', 'Producer': 'Hancom PDF 1.3.0.542', 'CreationDate': \"D:20231208132838+09'00'\", 'ModDate': \"D:20231208132838+09'00'\", 'PDFVersion': '1.4'}, page_content='온디바이스에서 작동하도록 설계되어 외부로 사용자의 정보가 유출되지 않는 장점을 보유\\n∙ 삼성전자는 삼성 가우스를 활용한 온디바이스 AI 기술도 소개했으며, 생성 AI 모델을 다양한 제품에\\n단계적으로 탑재할 계획\\nn 삼성 가우스는 △텍스트를 생성하는 언어모델 △코드를 생성하는 코드 모델 △이미지를 생성하는\\n이미지 모델의 3개 모델로 구성\\n∙ 언어 모델은 클라우드와 온디바이스 대상 다양한 모델로 구성되며, 메일 작성, 문서 요약, 번역 업무의\\n처리를 지원')]}\n",
      "\n",
      "==========================================================================================\n",
      "🔄 [Node] 답변 생성 노드 🔄\n",
      "-------------------\n",
      "삼성전자가 공개한 생성 AI 모델 '삼성 가우스'는 언어, 코드, 이미지의 3개 모델로 구성되어 있으며, 온디바이스에서 작동하도록 설계되어 사용자 정보 유출 위험이 없다. 이 모델은 2023년 11월 8일 '삼성 AI 포럼 2023'에서 처음 공개되었다.\n",
      "\n",
      "**Source**\n",
      "- data/SPRI_AI_Brief_2023년12월호_F.pdf (page 12)\n",
      "-------------------\n",
      "\n",
      "==========================================================================================\n",
      "\n",
      "\n",
      "==========================================================================================\n",
      "🔄 [Node] Hallucination 평가 노드 🔄\n",
      "===== [평가 결과] =====\n",
      "yes\n",
      "\n",
      "===== [DECISION: GENERATION IS GROUNDED IN DOCUMENTS] =====\n",
      "no hallucination\n",
      "\n",
      "===== [GRADE GENERATED ANSWER vs QUESTION] =====\n",
      "\n",
      "==== [DECISION: GENERATED ANSWER ADDRESSES QUESTION] ====\n",
      "relevant\n",
      "\n",
      "==========================================================================================\n",
      "\n",
      "[node_name]: generate\n",
      "[node_chunk]:\n",
      " {'generation': \"삼성전자가 공개한 생성 AI 모델 '삼성 가우스'는 언어, 코드, 이미지의 3개 모델로 구성되어 있으며, 온디바이스에서 작동하도록 설계되어 사용자 정보 유출 위험이 없다. 이 모델은 2023년 11월 8일 '삼성 AI 포럼 2023'에서 처음 공개되었다.\\n\\n**Source**\\n- data/SPRI_AI_Brief_2023년12월호_F.pdf (page 12)\"}\n"
     ]
    }
   ],
   "source": [
    "config = RunnableConfig(                        # config 설정\n",
    "    recursion_limit=20,                         # 최대 20개의 노드까지 방문.\n",
    "    configurable={'thread_id': random_uuid()}   # thread_id 설정\n",
    ")\n",
    "\n",
    "inputs = GraphState(question='삼성전자가 개발한 생성형 AI 이름은?')\n",
    "\n",
    "for event in app.stream(inputs, config=config):\n",
    "    for node_name, node_chunk in event.items():\n",
    "        print('[node_name]:', node_name)\n",
    "        print('[node_chunk]:\\n', node_chunk)"
   ]
  },
  {
   "cell_type": "code",
   "execution_count": 64,
   "metadata": {},
   "outputs": [
    {
     "name": "stdout",
     "output_type": "stream",
     "text": [
      "\n",
      "==========================================================================================\n",
      "🔄 [Node] 질문 라우팅 노드 🔄\n",
      "==== [ROUTE QUESTION TO WEB SEARCH] ====\n",
      "==========================================================================================\n",
      "\n",
      "\n",
      "==========================================================================================\n",
      "🔄 [Node] 웹 검색 노드 🔄\n",
      "-------------------\n",
      "question: \n",
      "대구 교보문고\n",
      "-------------------\n",
      "\n",
      "-------------------\n",
      "web_results: \n",
      "[{'title': '교보문고 대구점 - LocalView', 'url': 'https://www.localview.co.kr/store/detail.asp?seq=600977851', 'content': '국민정신문화 향상, 사회교육적 기능을 살린 문화공간을 창출하는 문고 대구광역시 중구 동성로2가 위치, 영업점, 이벤트, 행사 등 안내, 보유도서 검색 제공. 대구의 중심가 동성로에 있는 교보문고 대구점은 총 면적 1,900평의 넓은 매장과 15만 종 30만 권의 방대한 도서를 바탕으로 대구를 대표하는', 'score': 0.8488849, 'raw_content': ' |  |  |  |  |  |  |  |  | \\n\\n교보문고 대구점국민정신문화 향상, 사회교육적 기능을 살린 문화공간을 창출하는 문고패션쇼핑\\r\\n                                                        >쇼핑/유통\\r\\n                                                        >서점연 락 처053-425-3501홈페이지http://www.kyobobook.co.kr/storen/MainStore.laf?SITE=04주소대구광역시 중구 동성로2가 88-25도로명주소대구광역시 중구 국채보상로 586부가정보영업시간매일\\xa0\\r\\n\\t\\t\\t\\t\\t\\t\\t\\t\\t\\t\\t\\t\\tAM 10:00 \\r\\n\\t\\t\\t\\t\\t\\t\\t\\t\\t\\t\\t\\t\\t\\t~ \\r\\n\\t\\t\\t\\t\\t\\t\\t\\t\\t\\t\\t\\t\\t\\tPM 22:00카테고리패션쇼핑\\r\\n                                                    > 쇼핑/유통\\r\\n                                                    > 서점조회수 :866추천수 :0리뷰 :0국민정신문화 향상, 사회교육적 기능을 살린 문화공간을 창출하는 문고대구광역시 중구 동성로2가 위치, 영업점, 이벤트, 행사 등 안내, 보유도서 검색 제공.대구의 중심가 동성로에 있는 교보문고 대구점은 총 면적 1,900평의 넓은 매장과 15만 종 30만 권의 방대한 도서를 바탕으로 대구를 대표하는 서점이자 열린 문화공간으로 자리 잡고 있으며, 책을 사랑하시는 분들을 위한 북클럽회원 전용 라운지, 어린이 독자들의 만남의 장소 키즈가든, 다채로운 문화행사가 가득한 문화 이벤트홀 등은 독자 여러분께 더 큰 즐거움을 제공해드릴 것입니다.등록된 상품정보가 없습니다.등록된 동영상 정보가 없습니다.등록된 정보가 없습니다.1호선(중앙로)1호선(중앙로)2호선(반월당)2호선(반월당)1호선(반월당)1호선(반월당)1호선(대구역)1호선(대구역)주변버스CGV대구한일건너간선156\\r,\\r\\r309\\r,\\r\\r323\\r,\\r\\r425\\r,\\r\\r427\\r,\\r\\r521\\r,\\r\\r724\\r,\\r\\r939\\r,\\r\\r980CGV대구한일앞간선106\\r,\\r\\r156\\r,\\r\\r323-1\\r,\\r\\r521\\r,\\r\\r600약령시앞간선106\\r,\\r\\r202\\r,\\r\\r303-1\\r,\\r\\r349\\r,\\r\\r401\\r,\\r\\r410-1\\r,\\r\\r503\\r,\\r\\r518\\r,\\r\\r650\\r,\\r\\r704\\r,\\r\\r706\\r,\\r\\r730\\r,\\r\\r909지선동구1-1\\r,\\r\\r북구2급행급행2경상감영공원건너간선202-1\\r,\\r\\r303\\r,\\r\\r349\\r,\\r\\r401\\r,\\r\\r410\\r,\\r\\r503\\r,\\r\\r623\\r,\\r\\r704\\r,\\r\\r706\\r,\\r\\r730\\r,\\r\\r980지선동구1\\r,\\r\\r가창2\\r,\\r\\r동구2급행급행22.28기념중앙공원건너1간선508\\r,\\r\\r518\\r,\\r\\r600지선동구1\\r,\\r\\r가창2\\r,\\r\\r북구3급행급행1\\r,\\r\\r급행3약령시건너간선106\\r,\\r\\r202-1\\r,\\r\\r303\\r,\\r\\r349\\r,\\r\\r401\\r,\\r\\r410\\r,\\r\\r503\\r,\\r\\r518\\r,\\r\\r650\\r,\\r\\r704\\r,\\r\\r706\\r,\\r\\r730급행급행2지역상권시간대별 유동인구男10대男20대男30대男40대男50대女10대女20대女30대女40대女50대12시~13시까지(주중)18명42명68명60명32명16명52명48명32명24명19시~20시까지(주중)22명60명102명88명52명22명56명40명30명20명12시~13시까지(주말)24명62명50명48명30명18명56명42명24명20명19시~20시까지(주말)36명72명88명68명24명32명62명36명20명18명실내뷰등록된 실내 정보가 없습니다.near by좋은어린이서점 남산점교보문고 대구점모던북작성자내용점수이용하신 업체의 후기를 자유롭게 적어주세요.(욕설 및 상업적인 광고등은 사전통보없이 삭제됩니다.)작성자별점선택100 점90 점80 점70 점60 점50 점40 점30 점20 점10 점0 점비밀번호76644678보이는 도배방지키를 입력하세요. | 교보문고 대구점국민정신문화 향상, 사회교육적 기능을 살린 문화공간을 창출하는 문고패션쇼핑\\r\\n                                                        >쇼핑/유통\\r\\n                                                        >서점 | 교보문고 대구점 | 국민정신문화 향상, 사회교육적 기능을 살린 문화공간을 창출하는 문고패션쇼핑\\r\\n                                                        >쇼핑/유통\\r\\n                                                        >서점 |  |  |  |  | 연 락 처053-425-3501홈페이지http://www.kyobobook.co.kr/storen/MainStore.laf?SITE=04주소대구광역시 중구 동성로2가 88-25도로명주소대구광역시 중구 국채보상로 586부가정보영업시간매일\\xa0\\r\\n\\t\\t\\t\\t\\t\\t\\t\\t\\t\\t\\t\\t\\tAM 10:00 \\r\\n\\t\\t\\t\\t\\t\\t\\t\\t\\t\\t\\t\\t\\t\\t~ \\r\\n\\t\\t\\t\\t\\t\\t\\t\\t\\t\\t\\t\\t\\t\\tPM 22:00카테고리패션쇼핑\\r\\n                                                    > 쇼핑/유통\\r\\n                                                    > 서점조회수 :866추천수 :0리뷰 :0 | 연 락 처 | 053-425-3501 | 홈페이지 | http://www.kyobobook.co.kr/storen/MainStore.laf?SITE=04 | 주소 | 대구광역시 중구 동성로2가 88-25 | 도로명주소 | 대구광역시 중구 국채보상로 586 | 부가정보 |  | 영업시간 | 매일\\xa0\\r\\n\\t\\t\\t\\t\\t\\t\\t\\t\\t\\t\\t\\t\\tAM 10:00 \\r\\n\\t\\t\\t\\t\\t\\t\\t\\t\\t\\t\\t\\t\\t\\t~ \\r\\n\\t\\t\\t\\t\\t\\t\\t\\t\\t\\t\\t\\t\\t\\tPM 22:00 | 카테고리 | 패션쇼핑\\r\\n                                                    > 쇼핑/유통\\r\\n                                                    > 서점 | 조회수 :866추천수 :0리뷰 :0 |  | 조회수 :866추천수 :0리뷰 :0 |  | 조회수 :866추천수 :0리뷰 :0 |  | 등록된 상품정보가 없습니다.등록된 동영상 정보가 없습니다.등록된 정보가 없습니다.1호선(중앙로)1호선(중앙로)2호선(반월당)2호선(반월당)1호선(반월당)1호선(반월당)1호선(대구역)1호선(대구역) |  |  | CGV대구한일건너 | 간선156\\r,\\r\\r309\\r,\\r\\r323\\r,\\r\\r425\\r,\\r\\r427\\r,\\r\\r521\\r,\\r\\r724\\r,\\r\\r939\\r,\\r\\r980 | CGV대구한일앞 | 간선106\\r,\\r\\r156\\r,\\r\\r323-1\\r,\\r\\r521\\r,\\r\\r600 | 약령시앞 | 간선106\\r,\\r\\r202\\r,\\r\\r303-1\\r,\\r\\r349\\r,\\r\\r401\\r,\\r\\r410-1\\r,\\r\\r503\\r,\\r\\r518\\r,\\r\\r650\\r,\\r\\r704\\r,\\r\\r706\\r,\\r\\r730\\r,\\r\\r909지선동구1-1\\r,\\r\\r북구2급행급행2 | 경상감영공원건너 | 간선202-1\\r,\\r\\r303\\r,\\r\\r349\\r,\\r\\r401\\r,\\r\\r410\\r,\\r\\r503\\r,\\r\\r623\\r,\\r\\r704\\r,\\r\\r706\\r,\\r\\r730\\r,\\r\\r980지선동구1\\r,\\r\\r가창2\\r,\\r\\r동구2급행급행2 | 2.28기념중앙공원건너1 | 간선508\\r,\\r\\r518\\r,\\r\\r600지선동구1\\r,\\r\\r가창2\\r,\\r\\r북구3급행급행1\\r,\\r\\r급행3 | 약령시건너 | 간선106\\r,\\r\\r202-1\\r,\\r\\r303\\r,\\r\\r349\\r,\\r\\r401\\r,\\r\\r410\\r,\\r\\r503\\r,\\r\\r518\\r,\\r\\r650\\r,\\r\\r704\\r,\\r\\r706\\r,\\r\\r730급행급행2 | 시간대별 유동인구 | 男10대 | 男20대 | 男30대 | 男40대 | 男50대 | 女10대 | 女20대 | 女30대 | 女40대 | 女50대 | 12시~13시까지(주중) | 18명 | 42명 | 68명 | 60명 | 32명 | 16명 | 52명 | 48명 | 32명 | 24명 | 19시~20시까지(주중) | 22명 | 60명 | 102명 | 88명 | 52명 | 22명 | 56명 | 40명 | 30명 | 20명 | 12시~13시까지(주말) | 24명 | 62명 | 50명 | 48명 | 30명 | 18명 | 56명 | 42명 | 24명 | 20명 | 19시~20시까지(주말) | 36명 | 72명 | 88명 | 68명 | 24명 | 32명 | 62명 | 36명 | 20명 | 18명 | 좋은어린이서점 남산점 | 교보문고 대구점 | 모던북 |  |  | 작성자내용점수이용하신 업체의 후기를 자유롭게 적어주세요.(욕설 및 상업적인 광고등은 사전통보없이 삭제됩니다.)작성자별점선택100 점90 점80 점70 점60 점50 점40 점30 점20 점10 점0 점비밀번호76644678보이는 도배방지키를 입력하세요. | 작성자내용점수 | 작성자 | 내용 | 점수 | 이용하신 업체의 후기를 자유롭게 적어주세요.(욕설 및 상업적인 광고등은 사전통보없이 삭제됩니다.)작성자별점선택100 점90 점80 점70 점60 점50 점40 점30 점20 점10 점0 점비밀번호76644678보이는 도배방지키를 입력하세요. |  |  | 이용하신 업체의 후기를 자유롭게 적어주세요.(욕설 및 상업적인 광고등은 사전통보없이 삭제됩니다.) | 작성자별점선택100 점90 점80 점70 점60 점50 점40 점30 점20 점10 점0 점비밀번호 | 작성자 |  | 별점선택100 점90 점80 점70 점60 점50 점40 점30 점20 점10 점0 점 | 비밀번호 | 비밀번호 |  |  | 76644678보이는 도배방지키를 입력하세요. |  |  | 76644678 | 보이는 도배방지키를 입력하세요. |  |  |  | \\n교보문고 대구점국민정신문화 향상, 사회교육적 기능을 살린 문화공간을 창출하는 문고패션쇼핑\\r\\n                                                        >쇼핑/유통\\r\\n                                                        >서점 | 교보문고 대구점 | 국민정신문화 향상, 사회교육적 기능을 살린 문화공간을 창출하는 문고패션쇼핑\\r\\n                                                        >쇼핑/유통\\r\\n                                                        >서점\\n교보문고 대구점 | 국민정신문화 향상, 사회교육적 기능을 살린 문화공간을 창출하는 문고패션쇼핑\\r\\n                                                        >쇼핑/유통\\r\\n                                                        >서점\\n\\n |  |  | 연 락 처053-425-3501홈페이지http://www.kyobobook.co.kr/storen/MainStore.laf?SITE=04주소대구광역시 중구 동성로2가 88-25도로명주소대구광역시 중구 국채보상로 586부가정보영업시간매일\\xa0\\r\\n\\t\\t\\t\\t\\t\\t\\t\\t\\t\\t\\t\\t\\tAM 10:00 \\r\\n\\t\\t\\t\\t\\t\\t\\t\\t\\t\\t\\t\\t\\t\\t~ \\r\\n\\t\\t\\t\\t\\t\\t\\t\\t\\t\\t\\t\\t\\t\\tPM 22:00카테고리패션쇼핑\\r\\n                                                    > 쇼핑/유통\\r\\n                                                    > 서점조회수 :866추천수 :0리뷰 :0 | 연 락 처 | 053-425-3501 | 홈페이지 | http://www.kyobobook.co.kr/storen/MainStore.laf?SITE=04 | 주소 | 대구광역시 중구 동성로2가 88-25 | 도로명주소 | 대구광역시 중구 국채보상로 586 | 부가정보 |  | 영업시간 | 매일\\xa0\\r\\n\\t\\t\\t\\t\\t\\t\\t\\t\\t\\t\\t\\t\\tAM 10:00 \\r\\n\\t\\t\\t\\t\\t\\t\\t\\t\\t\\t\\t\\t\\t\\t~ \\r\\n\\t\\t\\t\\t\\t\\t\\t\\t\\t\\t\\t\\t\\t\\tPM 22:00 | 카테고리 | 패션쇼핑\\r\\n                                                    > 쇼핑/유통\\r\\n                                                    > 서점 | 조회수 :866추천수 :0리뷰 :0 |  | 조회수 :866추천수 :0리뷰 :0 |  | 조회수 :866추천수 :0리뷰 :0 | \\n\\n\\n연 락 처 | 053-425-3501\\n홈페이지 | http://www.kyobobook.co.kr/storen/MainStore.laf?SITE=04\\n주소 | 대구광역시 중구 동성로2가 88-25\\n도로명주소 | 대구광역시 중구 국채보상로 586\\n부가정보 | \\n영업시간 | 매일\\xa0\\r\\n\\t\\t\\t\\t\\t\\t\\t\\t\\t\\t\\t\\t\\tAM 10:00 \\r\\n\\t\\t\\t\\t\\t\\t\\t\\t\\t\\t\\t\\t\\t\\t~ \\r\\n\\t\\t\\t\\t\\t\\t\\t\\t\\t\\t\\t\\t\\t\\tPM 22:00\\n카테고리 | 패션쇼핑\\r\\n                                                    > 쇼핑/유통\\r\\n                                                    > 서점\\n조회수 :866추천수 :0리뷰 :0 |  | 조회수 :866추천수 :0리뷰 :0 |  | 조회수 :866추천수 :0리뷰 :0 | \\n | 조회수 :866추천수 :0리뷰 :0 |  | 조회수 :866추천수 :0리뷰 :0 | \\n | 조회수 :866추천수 :0리뷰 :0 | \\n등록된 상품정보가 없습니다.등록된 동영상 정보가 없습니다.등록된 정보가 없습니다.1호선(중앙로)1호선(중앙로)2호선(반월당)2호선(반월당)1호선(반월당)1호선(반월당)1호선(대구역)1호선(대구역) |  | \\nCGV대구한일건너 | 간선156\\r,\\r\\r309\\r,\\r\\r323\\r,\\r\\r425\\r,\\r\\r427\\r,\\r\\r521\\r,\\r\\r724\\r,\\r\\r939\\r,\\r\\r980\\nCGV대구한일앞 | 간선106\\r,\\r\\r156\\r,\\r\\r323-1\\r,\\r\\r521\\r,\\r\\r600\\n약령시앞 | 간선106\\r,\\r\\r202\\r,\\r\\r303-1\\r,\\r\\r349\\r,\\r\\r401\\r,\\r\\r410-1\\r,\\r\\r503\\r,\\r\\r518\\r,\\r\\r650\\r,\\r\\r704\\r,\\r\\r706\\r,\\r\\r730\\r,\\r\\r909지선동구1-1\\r,\\r\\r북구2급행급행2\\n경상감영공원건너 | 간선202-1\\r,\\r\\r303\\r,\\r\\r349\\r,\\r\\r401\\r,\\r\\r410\\r,\\r\\r503\\r,\\r\\r623\\r,\\r\\r704\\r,\\r\\r706\\r,\\r\\r730\\r,\\r\\r980지선동구1\\r,\\r\\r가창2\\r,\\r\\r동구2급행급행2\\n2.28기념중앙공원건너1 | 간선508\\r,\\r\\r518\\r,\\r\\r600지선동구1\\r,\\r\\r가창2\\r,\\r\\r북구3급행급행1\\r,\\r\\r급행3\\n약령시건너 | 간선106\\r,\\r\\r202-1\\r,\\r\\r303\\r,\\r\\r349\\r,\\r\\r401\\r,\\r\\r410\\r,\\r\\r503\\r,\\r\\r518\\r,\\r\\r650\\r,\\r\\r704\\r,\\r\\r706\\r,\\r\\r730급행급행2\\n시간대별 유동인구 | 男10대 | 男20대 | 男30대 | 男40대 | 男50대 | 女10대 | 女20대 | 女30대 | 女40대 | 女50대\\n12시~13시까지(주중) | 18명 | 42명 | 68명 | 60명 | 32명 | 16명 | 52명 | 48명 | 32명 | 24명\\n19시~20시까지(주중) | 22명 | 60명 | 102명 | 88명 | 52명 | 22명 | 56명 | 40명 | 30명 | 20명\\n12시~13시까지(주말) | 24명 | 62명 | 50명 | 48명 | 30명 | 18명 | 56명 | 42명 | 24명 | 20명\\n19시~20시까지(주말) | 36명 | 72명 | 88명 | 68명 | 24명 | 32명 | 62명 | 36명 | 20명 | 18명\\n좋은어린이서점 남산점 | 교보문고 대구점 | 모던북\\n | \\n작성자내용점수이용하신 업체의 후기를 자유롭게 적어주세요.(욕설 및 상업적인 광고등은 사전통보없이 삭제됩니다.)작성자별점선택100 점90 점80 점70 점60 점50 점40 점30 점20 점10 점0 점비밀번호76644678보이는 도배방지키를 입력하세요. | 작성자내용점수 | 작성자 | 내용 | 점수 | 이용하신 업체의 후기를 자유롭게 적어주세요.(욕설 및 상업적인 광고등은 사전통보없이 삭제됩니다.)작성자별점선택100 점90 점80 점70 점60 점50 점40 점30 점20 점10 점0 점비밀번호76644678보이는 도배방지키를 입력하세요. |  |  | 이용하신 업체의 후기를 자유롭게 적어주세요.(욕설 및 상업적인 광고등은 사전통보없이 삭제됩니다.) | 작성자별점선택100 점90 점80 점70 점60 점50 점40 점30 점20 점10 점0 점비밀번호 | 작성자 |  | 별점선택100 점90 점80 점70 점60 점50 점40 점30 점20 점10 점0 점 | 비밀번호 | 비밀번호 |  |  | 76644678보이는 도배방지키를 입력하세요. |  |  | 76644678 | 보이는 도배방지키를 입력하세요. |  | \\n작성자내용점수 | 작성자 | 내용 | 점수\\n작성자 | 내용 | 점수\\n이용하신 업체의 후기를 자유롭게 적어주세요.(욕설 및 상업적인 광고등은 사전통보없이 삭제됩니다.)작성자별점선택100 점90 점80 점70 점60 점50 점40 점30 점20 점10 점0 점비밀번호76644678보이는 도배방지키를 입력하세요. |  |  | 이용하신 업체의 후기를 자유롭게 적어주세요.(욕설 및 상업적인 광고등은 사전통보없이 삭제됩니다.) | 작성자별점선택100 점90 점80 점70 점60 점50 점40 점30 점20 점10 점0 점비밀번호 | 작성자 |  | 별점선택100 점90 점80 점70 점60 점50 점40 점30 점20 점10 점0 점 | 비밀번호 | 비밀번호 |  |  | 76644678보이는 도배방지키를 입력하세요. |  |  | 76644678 | 보이는 도배방지키를 입력하세요.\\n | \\n\\n이용하신 업체의 후기를 자유롭게 적어주세요.(욕설 및 상업적인 광고등은 사전통보없이 삭제됩니다.)\\n작성자별점선택100 점90 점80 점70 점60 점50 점40 점30 점20 점10 점0 점비밀번호 | 작성자 |  | 별점선택100 점90 점80 점70 점60 점50 점40 점30 점20 점10 점0 점 | 비밀번호 | 비밀번호 | \\n작성자 |  | 별점선택100 점90 점80 점70 점60 점50 점40 점30 점20 점10 점0 점 | 비밀번호 | 비밀번호 | \\n비밀번호 | \\n\\n76644678보이는 도배방지키를 입력하세요. |  |  | 76644678 | 보이는 도배방지키를 입력하세요.\\n |  | 76644678 | 보이는 도배방지키를 입력하세요.\\n\\n\\n교보문고 대구점국민정신문화 향상, 사회교육적 기능을 살린 문화공간을 창출하는 문고패션쇼핑\\r\\n                                                        >쇼핑/유통\\r\\n                                                        >서점 | 교보문고 대구점 | 국민정신문화 향상, 사회교육적 기능을 살린 문화공간을 창출하는 문고패션쇼핑\\r\\n                                                        >쇼핑/유통\\r\\n                                                        >서점\\n교보문고 대구점 | 국민정신문화 향상, 사회교육적 기능을 살린 문화공간을 창출하는 문고패션쇼핑\\r\\n                                                        >쇼핑/유통\\r\\n                                                        >서점\\n\\n |  |  | 연 락 처053-425-3501홈페이지http://www.kyobobook.co.kr/storen/MainStore.laf?SITE=04주소대구광역시 중구 동성로2가 88-25도로명주소대구광역시 중구 국채보상로 586부가정보영업시간매일\\xa0\\r\\n\\t\\t\\t\\t\\t\\t\\t\\t\\t\\t\\t\\t\\tAM 10:00 \\r\\n\\t\\t\\t\\t\\t\\t\\t\\t\\t\\t\\t\\t\\t\\t~ \\r\\n\\t\\t\\t\\t\\t\\t\\t\\t\\t\\t\\t\\t\\t\\tPM 22:00카테고리패션쇼핑\\r\\n                                                    > 쇼핑/유통\\r\\n                                                    > 서점조회수 :866추천수 :0리뷰 :0 | 연 락 처 | 053-425-3501 | 홈페이지 | http://www.kyobobook.co.kr/storen/MainStore.laf?SITE=04 | 주소 | 대구광역시 중구 동성로2가 88-25 | 도로명주소 | 대구광역시 중구 국채보상로 586 | 부가정보 |  | 영업시간 | 매일\\xa0\\r\\n\\t\\t\\t\\t\\t\\t\\t\\t\\t\\t\\t\\t\\tAM 10:00 \\r\\n\\t\\t\\t\\t\\t\\t\\t\\t\\t\\t\\t\\t\\t\\t~ \\r\\n\\t\\t\\t\\t\\t\\t\\t\\t\\t\\t\\t\\t\\t\\tPM 22:00 | 카테고리 | 패션쇼핑\\r\\n                                                    > 쇼핑/유통\\r\\n                                                    > 서점 | 조회수 :866추천수 :0리뷰 :0 |  | 조회수 :866추천수 :0리뷰 :0 |  | 조회수 :866추천수 :0리뷰 :0 | \\n\\n\\n연 락 처 | 053-425-3501\\n홈페이지 | http://www.kyobobook.co.kr/storen/MainStore.laf?SITE=04\\n주소 | 대구광역시 중구 동성로2가 88-25\\n도로명주소 | 대구광역시 중구 국채보상로 586\\n부가정보 | \\n영업시간 | 매일\\xa0\\r\\n\\t\\t\\t\\t\\t\\t\\t\\t\\t\\t\\t\\t\\tAM 10:00 \\r\\n\\t\\t\\t\\t\\t\\t\\t\\t\\t\\t\\t\\t\\t\\t~ \\r\\n\\t\\t\\t\\t\\t\\t\\t\\t\\t\\t\\t\\t\\t\\tPM 22:00\\n카테고리 | 패션쇼핑\\r\\n                                                    > 쇼핑/유통\\r\\n                                                    > 서점\\n조회수 :866추천수 :0리뷰 :0 |  | 조회수 :866추천수 :0리뷰 :0 |  | 조회수 :866추천수 :0리뷰 :0 | \\n | 조회수 :866추천수 :0리뷰 :0 |  | 조회수 :866추천수 :0리뷰 :0 | \\n | 조회수 :866추천수 :0리뷰 :0 | \\n교보문고 대구점 | 국민정신문화 향상, 사회교육적 기능을 살린 문화공간을 창출하는 문고패션쇼핑\\r\\n                                                        >쇼핑/유통\\r\\n                                                        >서점\\n교보문고 대구점\\n\\n\\n\\n연 락 처 | 053-425-3501\\n홈페이지 | http://www.kyobobook.co.kr/storen/MainStore.laf?SITE=04\\n주소 | 대구광역시 중구 동성로2가 88-25\\n도로명주소 | 대구광역시 중구 국채보상로 586\\n부가정보 | \\n영업시간 | 매일\\xa0\\r\\n\\t\\t\\t\\t\\t\\t\\t\\t\\t\\t\\t\\t\\tAM 10:00 \\r\\n\\t\\t\\t\\t\\t\\t\\t\\t\\t\\t\\t\\t\\t\\t~ \\r\\n\\t\\t\\t\\t\\t\\t\\t\\t\\t\\t\\t\\t\\t\\tPM 22:00\\n카테고리 | 패션쇼핑\\r\\n                                                    > 쇼핑/유통\\r\\n                                                    > 서점\\n조회수 :866추천수 :0리뷰 :0 |  | 조회수 :866추천수 :0리뷰 :0 |  | 조회수 :866추천수 :0리뷰 :0 | \\n | 조회수 :866추천수 :0리뷰 :0 |  | 조회수 :866추천수 :0리뷰 :0 | \\n | 조회수 :866추천수 :0리뷰 :0 | \\n | 조회수 :866추천수 :0리뷰 :0 |  | 조회수 :866추천수 :0리뷰 :0 | \\n | 조회수 :866추천수 :0리뷰 :0 | \\n | 조회수 :866추천수 :0리뷰 :0 | \\n\\n\\n\\n\\n등록된 상품정보가 없습니다.등록된 동영상 정보가 없습니다.등록된 정보가 없습니다.1호선(중앙로)1호선(중앙로)2호선(반월당)2호선(반월당)1호선(반월당)1호선(반월당)1호선(대구역)1호선(대구역) |  | \\n\\n\\n\\n\\n\\n\\n\\n\\n\\n\\nCGV대구한일건너 | 간선156\\r,\\r\\r309\\r,\\r\\r323\\r,\\r\\r425\\r,\\r\\r427\\r,\\r\\r521\\r,\\r\\r724\\r,\\r\\r939\\r,\\r\\r980\\nCGV대구한일앞 | 간선106\\r,\\r\\r156\\r,\\r\\r323-1\\r,\\r\\r521\\r,\\r\\r600\\n약령시앞 | 간선106\\r,\\r\\r202\\r,\\r\\r303-1\\r,\\r\\r349\\r,\\r\\r401\\r,\\r\\r410-1\\r,\\r\\r503\\r,\\r\\r518\\r,\\r\\r650\\r,\\r\\r704\\r,\\r\\r706\\r,\\r\\r730\\r,\\r\\r909지선동구1-1\\r,\\r\\r북구2급행급행2\\n경상감영공원건너 | 간선202-1\\r,\\r\\r303\\r,\\r\\r349\\r,\\r\\r401\\r,\\r\\r410\\r,\\r\\r503\\r,\\r\\r623\\r,\\r\\r704\\r,\\r\\r706\\r,\\r\\r730\\r,\\r\\r980지선동구1\\r,\\r\\r가창2\\r,\\r\\r동구2급행급행2\\n2.28기념중앙공원건너1 | 간선508\\r,\\r\\r518\\r,\\r\\r600지선동구1\\r,\\r\\r가창2\\r,\\r\\r북구3급행급행1\\r,\\r\\r급행3\\n약령시건너 | 간선106\\r,\\r\\r202-1\\r,\\r\\r303\\r,\\r\\r349\\r,\\r\\r401\\r,\\r\\r410\\r,\\r\\r503\\r,\\r\\r518\\r,\\r\\r650\\r,\\r\\r704\\r,\\r\\r706\\r,\\r\\r730급행급행2\\n시간대별 유동인구 | 男10대 | 男20대 | 男30대 | 男40대 | 男50대 | 女10대 | 女20대 | 女30대 | 女40대 | 女50대\\n12시~13시까지(주중) | 18명 | 42명 | 68명 | 60명 | 32명 | 16명 | 52명 | 48명 | 32명 | 24명\\n19시~20시까지(주중) | 22명 | 60명 | 102명 | 88명 | 52명 | 22명 | 56명 | 40명 | 30명 | 20명\\n12시~13시까지(주말) | 24명 | 62명 | 50명 | 48명 | 30명 | 18명 | 56명 | 42명 | 24명 | 20명\\n19시~20시까지(주말) | 36명 | 72명 | 88명 | 68명 | 24명 | 32명 | 62명 | 36명 | 20명 | 18명\\n\\n\\n\\n\\n좋은어린이서점 남산점 | 교보문고 대구점 | 모던북\\n | \\n작성자내용점수이용하신 업체의 후기를 자유롭게 적어주세요.(욕설 및 상업적인 광고등은 사전통보없이 삭제됩니다.)작성자별점선택100 점90 점80 점70 점60 점50 점40 점30 점20 점10 점0 점비밀번호76644678보이는 도배방지키를 입력하세요. | 작성자내용점수 | 작성자 | 내용 | 점수 | 이용하신 업체의 후기를 자유롭게 적어주세요.(욕설 및 상업적인 광고등은 사전통보없이 삭제됩니다.)작성자별점선택100 점90 점80 점70 점60 점50 점40 점30 점20 점10 점0 점비밀번호76644678보이는 도배방지키를 입력하세요. |  |  | 이용하신 업체의 후기를 자유롭게 적어주세요.(욕설 및 상업적인 광고등은 사전통보없이 삭제됩니다.) | 작성자별점선택100 점90 점80 점70 점60 점50 점40 점30 점20 점10 점0 점비밀번호 | 작성자 |  | 별점선택100 점90 점80 점70 점60 점50 점40 점30 점20 점10 점0 점 | 비밀번호 | 비밀번호 |  |  | 76644678보이는 도배방지키를 입력하세요. |  |  | 76644678 | 보이는 도배방지키를 입력하세요. |  | \\n작성자내용점수 | 작성자 | 내용 | 점수\\n작성자 | 내용 | 점수\\n이용하신 업체의 후기를 자유롭게 적어주세요.(욕설 및 상업적인 광고등은 사전통보없이 삭제됩니다.)작성자별점선택100 점90 점80 점70 점60 점50 점40 점30 점20 점10 점0 점비밀번호76644678보이는 도배방지키를 입력하세요. |  |  | 이용하신 업체의 후기를 자유롭게 적어주세요.(욕설 및 상업적인 광고등은 사전통보없이 삭제됩니다.) | 작성자별점선택100 점90 점80 점70 점60 점50 점40 점30 점20 점10 점0 점비밀번호 | 작성자 |  | 별점선택100 점90 점80 점70 점60 점50 점40 점30 점20 점10 점0 점 | 비밀번호 | 비밀번호 |  |  | 76644678보이는 도배방지키를 입력하세요. |  |  | 76644678 | 보이는 도배방지키를 입력하세요.\\n | \\n\\n이용하신 업체의 후기를 자유롭게 적어주세요.(욕설 및 상업적인 광고등은 사전통보없이 삭제됩니다.)\\n작성자별점선택100 점90 점80 점70 점60 점50 점40 점30 점20 점10 점0 점비밀번호 | 작성자 |  | 별점선택100 점90 점80 점70 점60 점50 점40 점30 점20 점10 점0 점 | 비밀번호 | 비밀번호 | \\n작성자 |  | 별점선택100 점90 점80 점70 점60 점50 점40 점30 점20 점10 점0 점 | 비밀번호 | 비밀번호 | \\n비밀번호 | \\n\\n76644678보이는 도배방지키를 입력하세요. |  |  | 76644678 | 보이는 도배방지키를 입력하세요.\\n |  | 76644678 | 보이는 도배방지키를 입력하세요.\\n\\n\\n작성자내용점수 | 작성자 | 내용 | 점수\\n작성자 | 내용 | 점수\\n작성자 | 내용 | 점수\\n이용하신 업체의 후기를 자유롭게 적어주세요.(욕설 및 상업적인 광고등은 사전통보없이 삭제됩니다.)작성자별점선택100 점90 점80 점70 점60 점50 점40 점30 점20 점10 점0 점비밀번호76644678보이는 도배방지키를 입력하세요. |  |  | 이용하신 업체의 후기를 자유롭게 적어주세요.(욕설 및 상업적인 광고등은 사전통보없이 삭제됩니다.) | 작성자별점선택100 점90 점80 점70 점60 점50 점40 점30 점20 점10 점0 점비밀번호 | 작성자 |  | 별점선택100 점90 점80 점70 점60 점50 점40 점30 점20 점10 점0 점 | 비밀번호 | 비밀번호 |  |  | 76644678보이는 도배방지키를 입력하세요. |  |  | 76644678 | 보이는 도배방지키를 입력하세요.\\n | \\n\\n이용하신 업체의 후기를 자유롭게 적어주세요.(욕설 및 상업적인 광고등은 사전통보없이 삭제됩니다.)\\n작성자별점선택100 점90 점80 점70 점60 점50 점40 점30 점20 점10 점0 점비밀번호 | 작성자 |  | 별점선택100 점90 점80 점70 점60 점50 점40 점30 점20 점10 점0 점 | 비밀번호 | 비밀번호 | \\n작성자 |  | 별점선택100 점90 점80 점70 점60 점50 점40 점30 점20 점10 점0 점 | 비밀번호 | 비밀번호 | \\n비밀번호 | \\n\\n76644678보이는 도배방지키를 입력하세요. |  |  | 76644678 | 보이는 도배방지키를 입력하세요.\\n |  | 76644678 | 보이는 도배방지키를 입력하세요.\\n\\n\\n | \\n\\n\\n이용하신 업체의 후기를 자유롭게 적어주세요.(욕설 및 상업적인 광고등은 사전통보없이 삭제됩니다.)\\n작성자별점선택100 점90 점80 점70 점60 점50 점40 점30 점20 점10 점0 점비밀번호 | 작성자 |  | 별점선택100 점90 점80 점70 점60 점50 점40 점30 점20 점10 점0 점 | 비밀번호 | 비밀번호 | \\n작성자 |  | 별점선택100 점90 점80 점70 점60 점50 점40 점30 점20 점10 점0 점 | 비밀번호 | 비밀번호 | \\n비밀번호 | \\n\\n76644678보이는 도배방지키를 입력하세요. |  |  | 76644678 | 보이는 도배방지키를 입력하세요.\\n |  | 76644678 | 보이는 도배방지키를 입력하세요.\\n작성자 |  | 별점선택100 점90 점80 점70 점60 점50 점40 점30 점20 점10 점0 점 | 비밀번호 | 비밀번호 | \\n비밀번호 | \\n비밀번호 | \\n |  | 76644678 | 보이는 도배방지키를 입력하세요.\\n로컬뷰는 지역내 업소(기업)정보를 제공하는 온라인 전화번호부 서비스입니다.로컬뷰는 개별업체로 부터 광고비 또는 중계수수료를 받지 않는 무료서비스 입니다Copyright(c) 2010 로컬뷰(LocalView) All Rights Reserved. |  | 로컬뷰는 지역내 업소(기업)정보를 제공하는 온라인 전화번호부 서비스입니다.로컬뷰는 개별업체로 부터 광고비 또는 중계수수료를 받지 않는 무료서비스 입니다Copyright(c) 2010 로컬뷰(LocalView) All Rights Reserved. |  |  |  |  |  |  | 로컬뷰는 지역내 업소(기업)정보를 제공하는 온라인 전화번호부 서비스입니다.로컬뷰는 개별업체로 부터 광고비 또는 중계수수료를 받지 않는 무료서비스 입니다Copyright(c) 2010 로컬뷰(LocalView) All Rights Reserved.\\n | 로컬뷰는 지역내 업소(기업)정보를 제공하는 온라인 전화번호부 서비스입니다.로컬뷰는 개별업체로 부터 광고비 또는 중계수수료를 받지 않는 무료서비스 입니다Copyright(c) 2010 로컬뷰(LocalView) All Rights Reserved. |  |  |  |  |  |  | 로컬뷰는 지역내 업소(기업)정보를 제공하는 온라인 전화번호부 서비스입니다.로컬뷰는 개별업체로 부터 광고비 또는 중계수수료를 받지 않는 무료서비스 입니다Copyright(c) 2010 로컬뷰(LocalView) All Rights Reserved.\\n |  |  |  |  | \\n |  |  |  | \\n로컬뷰는 지역내 업소(기업)정보를 제공하는 온라인 전화번호부 서비스입니다.로컬뷰는 개별업체로 부터 광고비 또는 중계수수료를 받지 않는 무료서비스 입니다Copyright(c) 2010 로컬뷰(LocalView) All Rights Reserved.\\n | 로컬뷰는 지역내 업소(기업)정보를 제공하는 온라인 전화번호부 서비스입니다.로컬뷰는 개별업체로 부터 광고비 또는 중계수수료를 받지 않는 무료서비스 입니다Copyright(c) 2010 로컬뷰(LocalView) All Rights Reserved. |  |  |  |  |  |  | 로컬뷰는 지역내 업소(기업)정보를 제공하는 온라인 전화번호부 서비스입니다.로컬뷰는 개별업체로 부터 광고비 또는 중계수수료를 받지 않는 무료서비스 입니다Copyright(c) 2010 로컬뷰(LocalView) All Rights Reserved.\\n |  |  |  |  | \\n |  |  |  | \\n로컬뷰는 지역내 업소(기업)정보를 제공하는 온라인 전화번호부 서비스입니다.로컬뷰는 개별업체로 부터 광고비 또는 중계수수료를 받지 않는 무료서비스 입니다Copyright(c) 2010 로컬뷰(LocalView) All Rights Reserved.\\n |  |  |  |  | \\n |  |  |  | \\n로컬뷰는 지역내 업소(기업)정보를 제공하는 온라인 전화번호부 서비스입니다.로컬뷰는 개별업체로 부터 광고비 또는 중계수수료를 받지 않는 무료서비스 입니다Copyright(c) 2010 로컬뷰(LocalView) All Rights Reserved.\\n |  |  |  | \\n'}, {'title': '대구 교보문고 대구점 방문 후기 : 네이버 블로그', 'url': 'https://m.blog.naver.com/sh_baekwoon/223359878100', 'content': '대구 교보문고 대구점 방문 후기 : 네이버 블로그 대구 교보문고 대구점 방문 후기 며칠 전 동성로에 다녀오면서 교보문고 대구점도 방문하게 되어서 방문 후기도 포스팅! 대구에는 교보문고 대구점, 교보문고 칠곡점 이렇게 두 군데가 있어요~ 칠곡점은 아직 가보지 못했고 교보문고 대구점은 아이들과 책 구매를 위해 한 번씩 방문해요~ 아이들 키우는 부모들은 책 읽는 게 중요하다고 아이들에게 말하지만 실상은 그 부모들도 한 달에 책 한 권 읽지 않는 사람들이 \\x08상당히 많아요~ 저 또한 책과 친하진 않아요 ㅠㅠ 교보문고 대구점 그래서 도서검색을 할 수 있는 PC가 있는데 사람들도 워낙 많다 보니 사용하기 위해서는 대기를 해야 하지만~ 교보문고 대구점은 검색 PC들이 많이 구비되어 있어서 기다림 없이 검색할 수 있어요~ 혼자서도 필요한 책 잘 검색해요 ㅎ 책 산다고 해서 그냥 그림책 정도인 줄 알았더니 생각보다 글 양이 많더라고요 ㅎ 오랜만에 교보문고 대구점 다녀왔네요~ {\"title\":\"대구 교보문고 대구점 방문 후기\",\"source\":\"https://blog.naver.com/sh_baekwoon/223359878100\",\"blogName\":\"보상의 모..\",\"domainIdOrBlogId\":\"sh_baekwoon\",\"nicknameOrBlogId\":\"권 소장\",\"logNo\":223359878100,\"smartEditorVersion\":4,\"cafeDisplay\":true,\"outsideDisplay\":true,\"lineDisplay\":true,\"blogDisplay\":true,\"meDisplay\":true}', 'score': 0.79293, 'raw_content': '대구 교보문고 대구점 방문 후기 : 네이버 블로그\\n \\n본문 바로가기\\n블로그\\n카테고리 이동 보상의 모든 것\\n\\n검색 MY메뉴 열기\\n일상\\n대구 교보문고 대구점 방문 후기\\n\\n권 소장\\n2024. 2. 21. 0:00\\n이웃추가\\n본문 기타 기능\\n\\n본문 폰트 크기 조정 본문 폰트 크기 작게 보기 본문 폰트 크기 크게 보기 가\\n\\n공감하기\\n\\n\\n공유하기\\n\\nURL복사\\n신고하기\\n\\n안녕하세요. 권승혁 손해사정사입니다.\\n\\u200b\\n최근 업무 포스팅은 못하고 일상과 맛집들로 점점 도배가 되는 같아요~\\n\\u200b\\n업무보다 일상 포스팅이 쓰는 게 더 재미있네요 ㅎ\\n\\u200b\\n며칠 전 동성로에 다녀오면서 교보문고 대구점도 방문하게 되어서 방문 후기도 포스팅!\\n\\u200b\\n대구에는 교보문고 대구점, 교보문고 칠곡점 이렇게 두 군데가 있어요~ 칠곡점은 아직 가보지 못했고 교보문고 대구점은 아이들과 책 구매를 위해 한 번씩 방문해요~\\n\\u200b\\n\\n\\u200b\\n아이들 키우는 부모들은 책 읽는 게 중요하다고 아이들에게 말하지만 실상은 그 부모들도 한 달에 책 한 권 읽지 않는 사람들이 \\x08상당히 많아요~ 저 또한 책과 친하진 않아요 ㅠㅠ\\n\\u200b\\n그래도 아이들이 책을 많이 읽었으면 하죠!\\n그래서 아이들과 시간을 내서 도서관이나 교보문고에 자주 방문하려고 노력합니다!\\n\\n\\n교보문고 대구점\\n\\n\\n교보문고 대구점대구광역시 중구 국채보상로 586 교보생명 동성로사옥 지하2층~3층\\n이 블로그의 체크인\\n이 장소의 다른 글\\n\\u200b\\n대구 동성로에 위치해 있어서 시내 구경하고 놀다가 부담 없이 다녀오기 좋아요~\\n\\u200b\\nB1층이 핫트랙스가 있어서 더 자주 방문하게 되는 거 같아요~\\n\\u200b\\n저희 딸은 핫트랙스에서 정신을 놓고 구경해요~\\n\\u200b\\n\\n\\n\\n도서 검색\\n\\n교보문고에서 책 찾기가 쉽지가 않죠!?\\n(책이 엄청 많아서 찾기가 힘들어요)\\n\\u200b\\n그래서 도서검색을 할 수 있는 PC가 있는데 사람들도 워낙 많다 보니 사용하기 위해서는 대기를 해야 하지만~ 교보문고 대구점은 검색 PC들이 많이 구비되어 있어서 기다림 없이 검색할 수 있어요~\\n\\u200b\\n우리 딸내미도 검색~~\\n혼자서도 필요한 책 잘 검색해요 ㅎ\\n\\u200b\\n\\n\\n\\n\\n책 구매\\n\\n\\x08도서 검색하게 되면 책 위치를 작은 종이에 프린터 해줘요~ 위치까지 딸아이가 찾을 수 있게 옆에서 도와주고 따라다녔어요 ㅎ\\n\\u200b\\n\\n\\u200b\\n찾는 책을 정확하게 찾아왔어요 ㅎ\\n(대견 대견~)\\n\\u200b\\n\\n\\u200b\\n책 산다고 해서 그냥 그림책 정도인 줄 알았더니 생각보다 글 양이 많더라고요 ㅎ\\n\\u200b\\n얼마 전에 스즈메의 문단속 보더니 재미있다고 일본 애니메이션을 차례대로 보더니 너의 이름은까지!\\n\\u200b\\n\\n\\u200b\\n계산도 자기 용돈으로 계산!!\\n대단하다!! 우리 딸!!!\\n\\u200b\\n셀프 계산기도 있어요!\\n\\u200b\\n\\n\\u200b\\n제가 웹툰으로 재미있게 보고 있는 전지적 독자 시점이 소설책으로 상당히 많이 나왔길래 하나 집어 올려다가 핫트랙스 간다고 끌려 나왔어요 ㅎ\\n\\u200b\\n\\n\\u200b\\n소설 좋아하시면 한번 읽어보세요!\\n저도 조만간 읽어볼 예정이에요~\\n\\n\\n핫트랙스\\n\\n교보문고 B1층은 핫트랙스인데요~\\n\\u200b\\n딸내미는 여기도 그냥 지나칠 수 없다고 영혼 없이 핫트랙스로 빨려 들어가네요 ㅠㅠ\\n\\u200b\\n\\n\\u200b\\n맛있겠다~ 이쁘다~를 연발하시는...\\n(뭐가 그렇게 이쁜지 전 잘 모르겠는데..)\\n\\u200b\\n\\n\\u200b\\n요즘 유행이라고 하는 모루 인형 만들기!\\n\\u200b\\n\\n\\u200b\\n이건 비싸고~ 이러쿵저러쿵 ㅋㅋ\\n동네 아줌마 같은 모습을 봤어요ㅋㅋㅋ\\n\\n\\n마무리\\n\\n오랜만에 교보문고 대구점 다녀왔네요~\\n\\u200b\\n책이란 게 읽으면 좋다는 건 알지만 시간이 없다, 바쁘다는 핑계로 멀리하게 되지만~ 아이들과 시간 내서 한 번씩 보는 것도 힐링 되고 좋은 거 같아요~\\n\\u200b\\n전 안보지만 너희들은 읽어라!! ㅎㅎ\\n(아빠도 책 읽는 모습 많이 보여줄게~)\\n\\u200b\\n\\u200b\\n동성로 간식으로 마무리!\\n\\u200b\\n\\n\\n\\u200b\\n\\n#대구교보문고\\n#교보문고대구점\\n#핫트랙스\\n#교보문고주차\\n\\n\\n공감한 사람 보러가기\\n댓글 25 공유하기\\n{\"title\":\"대구 교보문고 대구점 방문 후기\",\"source\":\"https://blog.naver.com/sh_baekwoon/223359878100\",\"blogName\":\"보상의 모..\",\"domainIdOrBlogId\":\"sh_baekwoon\",\"nicknameOrBlogId\":\"권 소장\",\"logNo\":223359878100,\"smartEditorVersion\":4,\"cafeDisplay\":true,\"outsideDisplay\":true,\"lineDisplay\":true,\"blogDisplay\":true,\"meDisplay\":true}\\n닫기\\n카테고리\\n이 블로그 홈\\n\\n공감한 사람 보러가기\\n댓글 25 공유하기\\n권 소장(sh_baekwoon) 님을 이웃추가하고 새글을 받아보세요\\n취소 이웃추가'}]\n",
      "-------------------\n",
      "\n",
      "-------------------\n",
      "web_results_docs: \n",
      "[Document(metadata={'source': 'https://www.localview.co.kr/store/detail.asp?seq=600977851'}, page_content='국민정신문화 향상, 사회교육적 기능을 살린 문화공간을 창출하는 문고 대구광역시 중구 동성로2가 위치, 영업점, 이벤트, 행사 등 안내, 보유도서 검색 제공. 대구의 중심가 동성로에 있는 교보문고 대구점은 총 면적 1,900평의 넓은 매장과 15만 종 30만 권의 방대한 도서를 바탕으로 대구를 대표하는'), Document(metadata={'source': 'https://m.blog.naver.com/sh_baekwoon/223359878100'}, page_content='대구 교보문고 대구점 방문 후기 : 네이버 블로그 대구 교보문고 대구점 방문 후기 며칠 전 동성로에 다녀오면서 교보문고 대구점도 방문하게 되어서 방문 후기도 포스팅! 대구에는 교보문고 대구점, 교보문고 칠곡점 이렇게 두 군데가 있어요~ 칠곡점은 아직 가보지 못했고 교보문고 대구점은 아이들과 책 구매를 위해 한 번씩 방문해요~ 아이들 키우는 부모들은 책 읽는 게 중요하다고 아이들에게 말하지만 실상은 그 부모들도 한 달에 책 한 권 읽지 않는 사람들이 \\x08상당히 많아요~ 저 또한 책과 친하진 않아요 ㅠㅠ 교보문고 대구점 그래서 도서검색을 할 수 있는 PC가 있는데 사람들도 워낙 많다 보니 사용하기 위해서는 대기를 해야 하지만~ 교보문고 대구점은 검색 PC들이 많이 구비되어 있어서 기다림 없이 검색할 수 있어요~ 혼자서도 필요한 책 잘 검색해요 ㅎ 책 산다고 해서 그냥 그림책 정도인 줄 알았더니 생각보다 글 양이 많더라고요 ㅎ 오랜만에 교보문고 대구점 다녀왔네요~ {\"title\":\"대구 교보문고 대구점 방문 후기\",\"source\":\"https://blog.naver.com/sh_baekwoon/223359878100\",\"blogName\":\"보상의 모..\",\"domainIdOrBlogId\":\"sh_baekwoon\",\"nicknameOrBlogId\":\"권 소장\",\"logNo\":223359878100,\"smartEditorVersion\":4,\"cafeDisplay\":true,\"outsideDisplay\":true,\"lineDisplay\":true,\"blogDisplay\":true,\"meDisplay\":true}')]\n",
      "-------------------\n",
      "\n",
      "==========================================================================================\n",
      "\n",
      "[node_name]: web_search\n",
      "[node_chunk]:\n",
      " {'documents': [Document(metadata={'source': 'https://www.localview.co.kr/store/detail.asp?seq=600977851'}, page_content='국민정신문화 향상, 사회교육적 기능을 살린 문화공간을 창출하는 문고 대구광역시 중구 동성로2가 위치, 영업점, 이벤트, 행사 등 안내, 보유도서 검색 제공. 대구의 중심가 동성로에 있는 교보문고 대구점은 총 면적 1,900평의 넓은 매장과 15만 종 30만 권의 방대한 도서를 바탕으로 대구를 대표하는'), Document(metadata={'source': 'https://m.blog.naver.com/sh_baekwoon/223359878100'}, page_content='대구 교보문고 대구점 방문 후기 : 네이버 블로그 대구 교보문고 대구점 방문 후기 며칠 전 동성로에 다녀오면서 교보문고 대구점도 방문하게 되어서 방문 후기도 포스팅! 대구에는 교보문고 대구점, 교보문고 칠곡점 이렇게 두 군데가 있어요~ 칠곡점은 아직 가보지 못했고 교보문고 대구점은 아이들과 책 구매를 위해 한 번씩 방문해요~ 아이들 키우는 부모들은 책 읽는 게 중요하다고 아이들에게 말하지만 실상은 그 부모들도 한 달에 책 한 권 읽지 않는 사람들이 \\x08상당히 많아요~ 저 또한 책과 친하진 않아요 ㅠㅠ 교보문고 대구점 그래서 도서검색을 할 수 있는 PC가 있는데 사람들도 워낙 많다 보니 사용하기 위해서는 대기를 해야 하지만~ 교보문고 대구점은 검색 PC들이 많이 구비되어 있어서 기다림 없이 검색할 수 있어요~ 혼자서도 필요한 책 잘 검색해요 ㅎ 책 산다고 해서 그냥 그림책 정도인 줄 알았더니 생각보다 글 양이 많더라고요 ㅎ 오랜만에 교보문고 대구점 다녀왔네요~ {\"title\":\"대구 교보문고 대구점 방문 후기\",\"source\":\"https://blog.naver.com/sh_baekwoon/223359878100\",\"blogName\":\"보상의 모..\",\"domainIdOrBlogId\":\"sh_baekwoon\",\"nicknameOrBlogId\":\"권 소장\",\"logNo\":223359878100,\"smartEditorVersion\":4,\"cafeDisplay\":true,\"outsideDisplay\":true,\"lineDisplay\":true,\"blogDisplay\":true,\"meDisplay\":true}')]}\n",
      "\n",
      "==========================================================================================\n",
      "🔄 [Node] 답변 생성 노드 🔄\n",
      "-------------------\n",
      "대구 교보문고 대구점은 총 면적 1,900평이며, 15만 종 30만 권의 방대한 도서를 보유하고 있습니다. \n",
      "\n",
      "**Source**\n",
      "- https://www.localview.co.kr/store/detail.asp?seq=600977851\n",
      "- https://m.blog.naver.com/sh_baekwoon/223359878100\n",
      "-------------------\n",
      "\n",
      "==========================================================================================\n",
      "\n",
      "\n",
      "==========================================================================================\n",
      "🔄 [Node] Hallucination 평가 노드 🔄\n",
      "===== [평가 결과] =====\n",
      "yes\n",
      "\n",
      "===== [DECISION: GENERATION IS GROUNDED IN DOCUMENTS] =====\n",
      "no hallucination\n",
      "\n",
      "===== [GRADE GENERATED ANSWER vs QUESTION] =====\n",
      "\n",
      "==== [DECISION: GENERATED ANSWER ADDRESSES QUESTION] ====\n",
      "relevant\n",
      "\n",
      "==========================================================================================\n",
      "\n",
      "[node_name]: generate\n",
      "[node_chunk]:\n",
      " {'generation': '대구 교보문고 대구점은 총 면적 1,900평이며, 15만 종 30만 권의 방대한 도서를 보유하고 있습니다. \\n\\n**Source**\\n- https://www.localview.co.kr/store/detail.asp?seq=600977851\\n- https://m.blog.naver.com/sh_baekwoon/223359878100'}\n"
     ]
    }
   ],
   "source": [
    "config = RunnableConfig(                        # config 설정\n",
    "    recursion_limit=20,                         # 최대 20개의 노드까지 방문.\n",
    "    configurable={'thread_id': random_uuid()}   # thread_id 설정\n",
    ")\n",
    "\n",
    "inputs = GraphState(question='대구 교보문고')\n",
    "\n",
    "for event in app.stream(inputs, config=config, stream_mode='updates'):\n",
    "    for node_name, node_chunk in event.items():\n",
    "        print('[node_name]:', node_name)\n",
    "        print('[node_chunk]:\\n', node_chunk)"
   ]
  },
  {
   "cell_type": "code",
   "execution_count": 65,
   "metadata": {},
   "outputs": [
    {
     "name": "stdout",
     "output_type": "stream",
     "text": [
      "\n",
      "==========================================================================================\n",
      "🔄 [Node] 질문 라우팅 노드 🔄\n",
      "==== [ROUTE QUESTION TO WEB SEARCH] ====\n",
      "==========================================================================================\n",
      "\n",
      "\n",
      "==========================================================================================\n",
      "🔄 [Node] 웹 검색 노드 🔄\n",
      "-------------------\n",
      "question: \n",
      "LG전자가 개발한 생성형 AI 이름은?\n",
      "-------------------\n",
      "\n",
      "-------------------\n",
      "web_results: \n",
      "[{'title': \"Lg전자, 생성형 Ai 시스템 '찾다'…전사 도입 확대 < It기업 < It/과학 < 기사본문 - 와이드경제\", 'url': 'https://www.widedaily.com/news/articleView.html?idxno=263119', 'content': \"[서울=뉴시스]이인준 기자 = LG전자가 자체 생성형 AI(인공지능)을 전사적으로 업무에 활용하기로 했다.AI로 업무 효율성을 높이고, 전 세계 고객 요구사항을 반영해 사용자 경험을 개선하기 위한 것이다.24일 재계에 따르면 LG전자는 자체 생성형 AI 기반 데이터 시스템 '찾다(CH\", 'score': 0.8036831, 'raw_content': \"LG전자, 생성형 AI 시스템 ‘찾다’…전사 도입 확대\\n\\n데이터 분석 AI '찾다', 부서 제한 없이 쓸 수 있도록\\r\\n업무 효율성 높이고, 지역별 특화 제품 개발에 활용\\n\\n[서울=뉴시스]이인준 기자 = LG전자가 자체 생성형 AI(인공지능)을 전사적으로 업무에 활용하기로 했다.\\n\\nAI로 업무 효율성을 높이고, 전 세계 고객 요구사항을 반영해 사용자 경험을 개선하기 위한 것이다.\\n\\n24일 재계에 따르면 LG전자는 자체 생성형 AI 기반 데이터 시스템 ‘찾다(CHATDA·CHAT based Data Analytics)’를 올 상반기(1~6월) 내 모든 사업본부에 도입할 방침이다.\\n\\n'찾다'는 LG전자가 마이크로소프트(MS)와 합께 자체적으로 구축한 채팅(대화형) 기반의 데이터 분석 도구다. 가전 제품 등 다양한 기기에서 생성되는 데이터를 바탕으로 고객의 요구를 파악하고, 이를 활용해 혁신적인 서비스와 제품을 개발하는데 활용된다.\\n\\nLG전자는 그동안 HS(가전)사업본부 직원들만 '찾다'를 쓸 수 있게 했지만, 앞으로는 본부 제한 없이 사용하도록 확대 적용할 계획이다.\\n\\n직원들은 '찾다'를 법무 검토나 데이터 탐색·가공 분석 등에 활용할 수 있다. 이를 통해 기존 업무에 소요되던 시간이 크게 단축될 것으로 회사 측은 기대한다.\\n\\nLG전자는 특히 현지 특화형 제품 등 고객 경험을 강화하는데도 '찾다'를 적극 활용할 계획이다.\\n\\nLG전자는 아르헨티나, 파라과이 등 중남미 지역 고객 데이터를 바탕으로 개발한 반려동물(펫) 친화 세탁기의 현지 출시를 앞두고 있다. 이 제품은 세탁 코스 순서를 '표준' 다음에 '급속'이 나오도록 설정한 것이 특징이다. 중남미는 10가구 중 8가구가 반려동물을 키우기 때문에 세탁 횟수가 잦다는 점이 고려됐다.\\n\\n마케팅 전략 수립에도 활용된다. 독일의 경우 에너지 소비량에 민감한 소비자가 많은 것으로 나타나, 에너지 절감 효과가 뛰어난 ‘AI DD모터’를 중심으로 마케팅에 나설 계획이다.\\n\\n\"}, {'title': \"Lg전자 생성형 Ai 시스템 '찾다', 상반기 전사 확대 - 전자신문\", 'url': 'https://www.etnews.com/20250324000430', 'content': \"LG전자가 자체 생성형 AI를 전사적으로 업무에 활용한다. 24일 재계에 따르면 LG전자는 자체 생성형 AI 기반 데이터 시스템 '찾다'를 상반기 내 모든\", 'score': 0.7613083, 'raw_content': \"\\n\\n\\n\\nLG전자 생성형 AI 시스템 '찾다', 상반기 전사 확대\\n\\n페이스북\\n\\nX(트위터)\\n\\n메일\\n\\nURL 복사\\n\\n작게\\n\\n보통\\n\\n크게\\n\\nLG전자가 자체 생성형 AI를 전사적으로 업무에 활용한다.\\n\\n24일 재계에 따르면 LG전자는 자체 생성형 AI 기반 데이터 시스템 '찾다'를 상반기 내 모든 사업본부에 도입할 방침이다. '찾다'는 2023년부터 LG전자가 운영해 온 시스템으로, 데이터를 DB화하고 생성형 AI가 분석해준다.\\n\\n기존에는 가전 사업을 담당하는 HS사업본부에서만 썼지만 전사에 활용해 업무 효율성을 높일 계획이다.\\n\\nLG전자는 특히 각 지역·문화권에 적합한 전략을 세우고 실행하는데 '찾다'를 활용할 계획이다.\\n\\nLG전자는 아르헨티나, 파라과이 등 중남미 지역 고객 데이터를 바탕으로 개발한 반려동물 친화 세탁기를 출시할 예정이다. 제품은 세탁 코스 순서를 '표준' 다음에 '급속'이 나오도록 설정했다. 생성형 AI를 통해 중남미는 10가구 중 8가구가 반려동물을 키워 세탁 횟수가 잦다는 점을 확인해 수립한 전략이다.\\n\\n'찾다'로 독일을 분석한 결과 에너지 소비량에 민감한 소비자가 많은 것으로 나타났다. 이에 LG전자는 에너지 절감 효과가 뛰어난 'AI DD모터'를 중심으로 마케팅에 나설 계획이다.\\n\\n김신영 기자 spicyzero@etnews.com\\n\\n이재용 삼성전자 회장, 中 시진핑 만나고 귀국\\n\\n전자 많이 본 기사\\n\\n주요 행사 ❯\\n\\nBIZPLUS\\n\\nHOT 영상 ❯\\n\\n사업자명 : 전자신문인터넷\\n사업자번호 : 107-81-80959\\n발행·편집인: 심규호\\n청소년보호책임자: 김태권\\n\\nCopyright © Electronic Times Internet. All Rights Reserved.\\n\\n\"}]\n",
      "-------------------\n",
      "\n",
      "-------------------\n",
      "web_results_docs: \n",
      "[Document(metadata={'source': 'https://www.widedaily.com/news/articleView.html?idxno=263119'}, page_content=\"[서울=뉴시스]이인준 기자 = LG전자가 자체 생성형 AI(인공지능)을 전사적으로 업무에 활용하기로 했다.AI로 업무 효율성을 높이고, 전 세계 고객 요구사항을 반영해 사용자 경험을 개선하기 위한 것이다.24일 재계에 따르면 LG전자는 자체 생성형 AI 기반 데이터 시스템 '찾다(CH\"), Document(metadata={'source': 'https://www.etnews.com/20250324000430'}, page_content=\"LG전자가 자체 생성형 AI를 전사적으로 업무에 활용한다. 24일 재계에 따르면 LG전자는 자체 생성형 AI 기반 데이터 시스템 '찾다'를 상반기 내 모든\")]\n",
      "-------------------\n",
      "\n",
      "==========================================================================================\n",
      "\n",
      "[node_name]: web_search\n",
      "[node_chunk]:\n",
      " {'documents': [Document(metadata={'source': 'https://www.widedaily.com/news/articleView.html?idxno=263119'}, page_content=\"[서울=뉴시스]이인준 기자 = LG전자가 자체 생성형 AI(인공지능)을 전사적으로 업무에 활용하기로 했다.AI로 업무 효율성을 높이고, 전 세계 고객 요구사항을 반영해 사용자 경험을 개선하기 위한 것이다.24일 재계에 따르면 LG전자는 자체 생성형 AI 기반 데이터 시스템 '찾다(CH\"), Document(metadata={'source': 'https://www.etnews.com/20250324000430'}, page_content=\"LG전자가 자체 생성형 AI를 전사적으로 업무에 활용한다. 24일 재계에 따르면 LG전자는 자체 생성형 AI 기반 데이터 시스템 '찾다'를 상반기 내 모든\")]}\n",
      "\n",
      "==========================================================================================\n",
      "🔄 [Node] 답변 생성 노드 🔄\n",
      "-------------------\n",
      "LG Electronics plans to implement its own generative AI across the company to enhance work efficiency and improve user experience by reflecting global customer demands. The AI-based data system is named '찾다' (Chada) and is expected to be fully operational by the first half of the year.\n",
      "\n",
      "**Source**\n",
      "- https://www.widedaily.com/news/articleView.html?idxno=263119\n",
      "- https://www.etnews.com/20250324000430\n",
      "-------------------\n",
      "\n",
      "==========================================================================================\n",
      "\n",
      "\n",
      "==========================================================================================\n",
      "🔄 [Node] Hallucination 평가 노드 🔄\n",
      "===== [평가 결과] =====\n",
      "yes\n",
      "\n",
      "===== [DECISION: GENERATION IS GROUNDED IN DOCUMENTS] =====\n",
      "no hallucination\n",
      "\n",
      "===== [GRADE GENERATED ANSWER vs QUESTION] =====\n",
      "\n",
      "==== [DECISION: GENERATED ANSWER ADDRESSES QUESTION] ====\n",
      "relevant\n",
      "\n",
      "==========================================================================================\n",
      "\n",
      "[node_name]: generate\n",
      "[node_chunk]:\n",
      " {'generation': \"LG Electronics plans to implement its own generative AI across the company to enhance work efficiency and improve user experience by reflecting global customer demands. The AI-based data system is named '찾다' (Chada) and is expected to be fully operational by the first half of the year.\\n\\n**Source**\\n- https://www.widedaily.com/news/articleView.html?idxno=263119\\n- https://www.etnews.com/20250324000430\"}\n"
     ]
    }
   ],
   "source": [
    "config = RunnableConfig(                        # config 설정\n",
    "    recursion_limit=20,                         # 최대 20개의 노드까지 방문.\n",
    "    configurable={'thread_id': random_uuid()}   # thread_id 설정\n",
    ")\n",
    "\n",
    "inputs = GraphState(question='LG전자가 개발한 생성형 AI 이름은?')\n",
    "\n",
    "for event in app.stream(inputs, config=config):\n",
    "    for node_name, node_chunk in event.items():\n",
    "        print('[node_name]:', node_name)\n",
    "        print('[node_chunk]:\\n', node_chunk)"
   ]
  },
  {
   "cell_type": "code",
   "execution_count": null,
   "metadata": {},
   "outputs": [
    {
     "name": "stdout",
     "output_type": "stream",
     "text": [
      "\n",
      "==========================================================================================\n",
      "🔄 [Node] 질문 라우팅 노드 🔄\n",
      "==== [ROUTE QUESTION TO WEB SEARCH] ====\n",
      "==========================================================================================\n",
      "\n",
      "\n",
      "==========================================================================================\n",
      "🔄 [Node] 웹 검색 노드 🔄\n",
      "-------------------\n",
      "question: \n",
      "대구 교보문고\n",
      "-------------------\n",
      "\n",
      "-------------------\n",
      "web_results: \n",
      "[{'title': '교보문고 대구점 - LocalView', 'url': 'https://www.localview.co.kr/store/detail.asp?seq=600977851', 'content': '국민정신문화 향상, 사회교육적 기능을 살린 문화공간을 창출하는 문고 대구광역시 중구 동성로2가 위치, 영업점, 이벤트, 행사 등 안내, 보유도서 검색 제공. 대구의 중심가 동성로에 있는 교보문고 대구점은 총 면적 1,900평의 넓은 매장과 15만 종 30만 권의 방대한 도서를 바탕으로 대구를 대표하는', 'score': 0.8488849, 'raw_content': ' |  |  |  |  |  |  |  |  | \\n\\n교보문고 대구점국민정신문화 향상, 사회교육적 기능을 살린 문화공간을 창출하는 문고패션쇼핑\\r\\n                                                        >쇼핑/유통\\r\\n                                                        >서점연 락 처053-425-3501홈페이지http://www.kyobobook.co.kr/storen/MainStore.laf?SITE=04주소대구광역시 중구 동성로2가 88-25도로명주소대구광역시 중구 국채보상로 586부가정보영업시간매일\\xa0\\r\\n\\t\\t\\t\\t\\t\\t\\t\\t\\t\\t\\t\\t\\tAM 10:00 \\r\\n\\t\\t\\t\\t\\t\\t\\t\\t\\t\\t\\t\\t\\t\\t~ \\r\\n\\t\\t\\t\\t\\t\\t\\t\\t\\t\\t\\t\\t\\t\\tPM 22:00카테고리패션쇼핑\\r\\n                                                    > 쇼핑/유통\\r\\n                                                    > 서점조회수 :866추천수 :0리뷰 :0국민정신문화 향상, 사회교육적 기능을 살린 문화공간을 창출하는 문고대구광역시 중구 동성로2가 위치, 영업점, 이벤트, 행사 등 안내, 보유도서 검색 제공.대구의 중심가 동성로에 있는 교보문고 대구점은 총 면적 1,900평의 넓은 매장과 15만 종 30만 권의 방대한 도서를 바탕으로 대구를 대표하는 서점이자 열린 문화공간으로 자리 잡고 있으며, 책을 사랑하시는 분들을 위한 북클럽회원 전용 라운지, 어린이 독자들의 만남의 장소 키즈가든, 다채로운 문화행사가 가득한 문화 이벤트홀 등은 독자 여러분께 더 큰 즐거움을 제공해드릴 것입니다.등록된 상품정보가 없습니다.등록된 동영상 정보가 없습니다.등록된 정보가 없습니다.1호선(중앙로)1호선(중앙로)2호선(반월당)2호선(반월당)1호선(반월당)1호선(반월당)1호선(대구역)1호선(대구역)주변버스CGV대구한일건너간선156\\r,\\r\\r309\\r,\\r\\r323\\r,\\r\\r425\\r,\\r\\r427\\r,\\r\\r521\\r,\\r\\r724\\r,\\r\\r939\\r,\\r\\r980CGV대구한일앞간선106\\r,\\r\\r156\\r,\\r\\r323-1\\r,\\r\\r521\\r,\\r\\r600약령시앞간선106\\r,\\r\\r202\\r,\\r\\r303-1\\r,\\r\\r349\\r,\\r\\r401\\r,\\r\\r410-1\\r,\\r\\r503\\r,\\r\\r518\\r,\\r\\r650\\r,\\r\\r704\\r,\\r\\r706\\r,\\r\\r730\\r,\\r\\r909지선동구1-1\\r,\\r\\r북구2급행급행2경상감영공원건너간선202-1\\r,\\r\\r303\\r,\\r\\r349\\r,\\r\\r401\\r,\\r\\r410\\r,\\r\\r503\\r,\\r\\r623\\r,\\r\\r704\\r,\\r\\r706\\r,\\r\\r730\\r,\\r\\r980지선동구1\\r,\\r\\r가창2\\r,\\r\\r동구2급행급행22.28기념중앙공원건너1간선508\\r,\\r\\r518\\r,\\r\\r600지선동구1\\r,\\r\\r가창2\\r,\\r\\r북구3급행급행1\\r,\\r\\r급행3약령시건너간선106\\r,\\r\\r202-1\\r,\\r\\r303\\r,\\r\\r349\\r,\\r\\r401\\r,\\r\\r410\\r,\\r\\r503\\r,\\r\\r518\\r,\\r\\r650\\r,\\r\\r704\\r,\\r\\r706\\r,\\r\\r730급행급행2지역상권시간대별 유동인구男10대男20대男30대男40대男50대女10대女20대女30대女40대女50대12시~13시까지(주중)18명42명68명60명32명16명52명48명32명24명19시~20시까지(주중)22명60명102명88명52명22명56명40명30명20명12시~13시까지(주말)24명62명50명48명30명18명56명42명24명20명19시~20시까지(주말)36명72명88명68명24명32명62명36명20명18명실내뷰등록된 실내 정보가 없습니다.near by좋은어린이서점 남산점교보문고 대구점모던북작성자내용점수이용하신 업체의 후기를 자유롭게 적어주세요.(욕설 및 상업적인 광고등은 사전통보없이 삭제됩니다.)작성자별점선택100 점90 점80 점70 점60 점50 점40 점30 점20 점10 점0 점비밀번호76644678보이는 도배방지키를 입력하세요. | 교보문고 대구점국민정신문화 향상, 사회교육적 기능을 살린 문화공간을 창출하는 문고패션쇼핑\\r\\n                                                        >쇼핑/유통\\r\\n                                                        >서점 | 교보문고 대구점 | 국민정신문화 향상, 사회교육적 기능을 살린 문화공간을 창출하는 문고패션쇼핑\\r\\n                                                        >쇼핑/유통\\r\\n                                                        >서점 |  |  |  |  | 연 락 처053-425-3501홈페이지http://www.kyobobook.co.kr/storen/MainStore.laf?SITE=04주소대구광역시 중구 동성로2가 88-25도로명주소대구광역시 중구 국채보상로 586부가정보영업시간매일\\xa0\\r\\n\\t\\t\\t\\t\\t\\t\\t\\t\\t\\t\\t\\t\\tAM 10:00 \\r\\n\\t\\t\\t\\t\\t\\t\\t\\t\\t\\t\\t\\t\\t\\t~ \\r\\n\\t\\t\\t\\t\\t\\t\\t\\t\\t\\t\\t\\t\\t\\tPM 22:00카테고리패션쇼핑\\r\\n                                                    > 쇼핑/유통\\r\\n                                                    > 서점조회수 :866추천수 :0리뷰 :0 | 연 락 처 | 053-425-3501 | 홈페이지 | http://www.kyobobook.co.kr/storen/MainStore.laf?SITE=04 | 주소 | 대구광역시 중구 동성로2가 88-25 | 도로명주소 | 대구광역시 중구 국채보상로 586 | 부가정보 |  | 영업시간 | 매일\\xa0\\r\\n\\t\\t\\t\\t\\t\\t\\t\\t\\t\\t\\t\\t\\tAM 10:00 \\r\\n\\t\\t\\t\\t\\t\\t\\t\\t\\t\\t\\t\\t\\t\\t~ \\r\\n\\t\\t\\t\\t\\t\\t\\t\\t\\t\\t\\t\\t\\t\\tPM 22:00 | 카테고리 | 패션쇼핑\\r\\n                                                    > 쇼핑/유통\\r\\n                                                    > 서점 | 조회수 :866추천수 :0리뷰 :0 |  | 조회수 :866추천수 :0리뷰 :0 |  | 조회수 :866추천수 :0리뷰 :0 |  | 등록된 상품정보가 없습니다.등록된 동영상 정보가 없습니다.등록된 정보가 없습니다.1호선(중앙로)1호선(중앙로)2호선(반월당)2호선(반월당)1호선(반월당)1호선(반월당)1호선(대구역)1호선(대구역) |  |  | CGV대구한일건너 | 간선156\\r,\\r\\r309\\r,\\r\\r323\\r,\\r\\r425\\r,\\r\\r427\\r,\\r\\r521\\r,\\r\\r724\\r,\\r\\r939\\r,\\r\\r980 | CGV대구한일앞 | 간선106\\r,\\r\\r156\\r,\\r\\r323-1\\r,\\r\\r521\\r,\\r\\r600 | 약령시앞 | 간선106\\r,\\r\\r202\\r,\\r\\r303-1\\r,\\r\\r349\\r,\\r\\r401\\r,\\r\\r410-1\\r,\\r\\r503\\r,\\r\\r518\\r,\\r\\r650\\r,\\r\\r704\\r,\\r\\r706\\r,\\r\\r730\\r,\\r\\r909지선동구1-1\\r,\\r\\r북구2급행급행2 | 경상감영공원건너 | 간선202-1\\r,\\r\\r303\\r,\\r\\r349\\r,\\r\\r401\\r,\\r\\r410\\r,\\r\\r503\\r,\\r\\r623\\r,\\r\\r704\\r,\\r\\r706\\r,\\r\\r730\\r,\\r\\r980지선동구1\\r,\\r\\r가창2\\r,\\r\\r동구2급행급행2 | 2.28기념중앙공원건너1 | 간선508\\r,\\r\\r518\\r,\\r\\r600지선동구1\\r,\\r\\r가창2\\r,\\r\\r북구3급행급행1\\r,\\r\\r급행3 | 약령시건너 | 간선106\\r,\\r\\r202-1\\r,\\r\\r303\\r,\\r\\r349\\r,\\r\\r401\\r,\\r\\r410\\r,\\r\\r503\\r,\\r\\r518\\r,\\r\\r650\\r,\\r\\r704\\r,\\r\\r706\\r,\\r\\r730급행급행2 | 시간대별 유동인구 | 男10대 | 男20대 | 男30대 | 男40대 | 男50대 | 女10대 | 女20대 | 女30대 | 女40대 | 女50대 | 12시~13시까지(주중) | 18명 | 42명 | 68명 | 60명 | 32명 | 16명 | 52명 | 48명 | 32명 | 24명 | 19시~20시까지(주중) | 22명 | 60명 | 102명 | 88명 | 52명 | 22명 | 56명 | 40명 | 30명 | 20명 | 12시~13시까지(주말) | 24명 | 62명 | 50명 | 48명 | 30명 | 18명 | 56명 | 42명 | 24명 | 20명 | 19시~20시까지(주말) | 36명 | 72명 | 88명 | 68명 | 24명 | 32명 | 62명 | 36명 | 20명 | 18명 | 좋은어린이서점 남산점 | 교보문고 대구점 | 모던북 |  |  | 작성자내용점수이용하신 업체의 후기를 자유롭게 적어주세요.(욕설 및 상업적인 광고등은 사전통보없이 삭제됩니다.)작성자별점선택100 점90 점80 점70 점60 점50 점40 점30 점20 점10 점0 점비밀번호76644678보이는 도배방지키를 입력하세요. | 작성자내용점수 | 작성자 | 내용 | 점수 | 이용하신 업체의 후기를 자유롭게 적어주세요.(욕설 및 상업적인 광고등은 사전통보없이 삭제됩니다.)작성자별점선택100 점90 점80 점70 점60 점50 점40 점30 점20 점10 점0 점비밀번호76644678보이는 도배방지키를 입력하세요. |  |  | 이용하신 업체의 후기를 자유롭게 적어주세요.(욕설 및 상업적인 광고등은 사전통보없이 삭제됩니다.) | 작성자별점선택100 점90 점80 점70 점60 점50 점40 점30 점20 점10 점0 점비밀번호 | 작성자 |  | 별점선택100 점90 점80 점70 점60 점50 점40 점30 점20 점10 점0 점 | 비밀번호 | 비밀번호 |  |  | 76644678보이는 도배방지키를 입력하세요. |  |  | 76644678 | 보이는 도배방지키를 입력하세요. |  |  |  | \\n교보문고 대구점국민정신문화 향상, 사회교육적 기능을 살린 문화공간을 창출하는 문고패션쇼핑\\r\\n                                                        >쇼핑/유통\\r\\n                                                        >서점 | 교보문고 대구점 | 국민정신문화 향상, 사회교육적 기능을 살린 문화공간을 창출하는 문고패션쇼핑\\r\\n                                                        >쇼핑/유통\\r\\n                                                        >서점\\n교보문고 대구점 | 국민정신문화 향상, 사회교육적 기능을 살린 문화공간을 창출하는 문고패션쇼핑\\r\\n                                                        >쇼핑/유통\\r\\n                                                        >서점\\n\\n |  |  | 연 락 처053-425-3501홈페이지http://www.kyobobook.co.kr/storen/MainStore.laf?SITE=04주소대구광역시 중구 동성로2가 88-25도로명주소대구광역시 중구 국채보상로 586부가정보영업시간매일\\xa0\\r\\n\\t\\t\\t\\t\\t\\t\\t\\t\\t\\t\\t\\t\\tAM 10:00 \\r\\n\\t\\t\\t\\t\\t\\t\\t\\t\\t\\t\\t\\t\\t\\t~ \\r\\n\\t\\t\\t\\t\\t\\t\\t\\t\\t\\t\\t\\t\\t\\tPM 22:00카테고리패션쇼핑\\r\\n                                                    > 쇼핑/유통\\r\\n                                                    > 서점조회수 :866추천수 :0리뷰 :0 | 연 락 처 | 053-425-3501 | 홈페이지 | http://www.kyobobook.co.kr/storen/MainStore.laf?SITE=04 | 주소 | 대구광역시 중구 동성로2가 88-25 | 도로명주소 | 대구광역시 중구 국채보상로 586 | 부가정보 |  | 영업시간 | 매일\\xa0\\r\\n\\t\\t\\t\\t\\t\\t\\t\\t\\t\\t\\t\\t\\tAM 10:00 \\r\\n\\t\\t\\t\\t\\t\\t\\t\\t\\t\\t\\t\\t\\t\\t~ \\r\\n\\t\\t\\t\\t\\t\\t\\t\\t\\t\\t\\t\\t\\t\\tPM 22:00 | 카테고리 | 패션쇼핑\\r\\n                                                    > 쇼핑/유통\\r\\n                                                    > 서점 | 조회수 :866추천수 :0리뷰 :0 |  | 조회수 :866추천수 :0리뷰 :0 |  | 조회수 :866추천수 :0리뷰 :0 | \\n\\n\\n연 락 처 | 053-425-3501\\n홈페이지 | http://www.kyobobook.co.kr/storen/MainStore.laf?SITE=04\\n주소 | 대구광역시 중구 동성로2가 88-25\\n도로명주소 | 대구광역시 중구 국채보상로 586\\n부가정보 | \\n영업시간 | 매일\\xa0\\r\\n\\t\\t\\t\\t\\t\\t\\t\\t\\t\\t\\t\\t\\tAM 10:00 \\r\\n\\t\\t\\t\\t\\t\\t\\t\\t\\t\\t\\t\\t\\t\\t~ \\r\\n\\t\\t\\t\\t\\t\\t\\t\\t\\t\\t\\t\\t\\t\\tPM 22:00\\n카테고리 | 패션쇼핑\\r\\n                                                    > 쇼핑/유통\\r\\n                                                    > 서점\\n조회수 :866추천수 :0리뷰 :0 |  | 조회수 :866추천수 :0리뷰 :0 |  | 조회수 :866추천수 :0리뷰 :0 | \\n | 조회수 :866추천수 :0리뷰 :0 |  | 조회수 :866추천수 :0리뷰 :0 | \\n | 조회수 :866추천수 :0리뷰 :0 | \\n등록된 상품정보가 없습니다.등록된 동영상 정보가 없습니다.등록된 정보가 없습니다.1호선(중앙로)1호선(중앙로)2호선(반월당)2호선(반월당)1호선(반월당)1호선(반월당)1호선(대구역)1호선(대구역) |  | \\nCGV대구한일건너 | 간선156\\r,\\r\\r309\\r,\\r\\r323\\r,\\r\\r425\\r,\\r\\r427\\r,\\r\\r521\\r,\\r\\r724\\r,\\r\\r939\\r,\\r\\r980\\nCGV대구한일앞 | 간선106\\r,\\r\\r156\\r,\\r\\r323-1\\r,\\r\\r521\\r,\\r\\r600\\n약령시앞 | 간선106\\r,\\r\\r202\\r,\\r\\r303-1\\r,\\r\\r349\\r,\\r\\r401\\r,\\r\\r410-1\\r,\\r\\r503\\r,\\r\\r518\\r,\\r\\r650\\r,\\r\\r704\\r,\\r\\r706\\r,\\r\\r730\\r,\\r\\r909지선동구1-1\\r,\\r\\r북구2급행급행2\\n경상감영공원건너 | 간선202-1\\r,\\r\\r303\\r,\\r\\r349\\r,\\r\\r401\\r,\\r\\r410\\r,\\r\\r503\\r,\\r\\r623\\r,\\r\\r704\\r,\\r\\r706\\r,\\r\\r730\\r,\\r\\r980지선동구1\\r,\\r\\r가창2\\r,\\r\\r동구2급행급행2\\n2.28기념중앙공원건너1 | 간선508\\r,\\r\\r518\\r,\\r\\r600지선동구1\\r,\\r\\r가창2\\r,\\r\\r북구3급행급행1\\r,\\r\\r급행3\\n약령시건너 | 간선106\\r,\\r\\r202-1\\r,\\r\\r303\\r,\\r\\r349\\r,\\r\\r401\\r,\\r\\r410\\r,\\r\\r503\\r,\\r\\r518\\r,\\r\\r650\\r,\\r\\r704\\r,\\r\\r706\\r,\\r\\r730급행급행2\\n시간대별 유동인구 | 男10대 | 男20대 | 男30대 | 男40대 | 男50대 | 女10대 | 女20대 | 女30대 | 女40대 | 女50대\\n12시~13시까지(주중) | 18명 | 42명 | 68명 | 60명 | 32명 | 16명 | 52명 | 48명 | 32명 | 24명\\n19시~20시까지(주중) | 22명 | 60명 | 102명 | 88명 | 52명 | 22명 | 56명 | 40명 | 30명 | 20명\\n12시~13시까지(주말) | 24명 | 62명 | 50명 | 48명 | 30명 | 18명 | 56명 | 42명 | 24명 | 20명\\n19시~20시까지(주말) | 36명 | 72명 | 88명 | 68명 | 24명 | 32명 | 62명 | 36명 | 20명 | 18명\\n좋은어린이서점 남산점 | 교보문고 대구점 | 모던북\\n | \\n작성자내용점수이용하신 업체의 후기를 자유롭게 적어주세요.(욕설 및 상업적인 광고등은 사전통보없이 삭제됩니다.)작성자별점선택100 점90 점80 점70 점60 점50 점40 점30 점20 점10 점0 점비밀번호76644678보이는 도배방지키를 입력하세요. | 작성자내용점수 | 작성자 | 내용 | 점수 | 이용하신 업체의 후기를 자유롭게 적어주세요.(욕설 및 상업적인 광고등은 사전통보없이 삭제됩니다.)작성자별점선택100 점90 점80 점70 점60 점50 점40 점30 점20 점10 점0 점비밀번호76644678보이는 도배방지키를 입력하세요. |  |  | 이용하신 업체의 후기를 자유롭게 적어주세요.(욕설 및 상업적인 광고등은 사전통보없이 삭제됩니다.) | 작성자별점선택100 점90 점80 점70 점60 점50 점40 점30 점20 점10 점0 점비밀번호 | 작성자 |  | 별점선택100 점90 점80 점70 점60 점50 점40 점30 점20 점10 점0 점 | 비밀번호 | 비밀번호 |  |  | 76644678보이는 도배방지키를 입력하세요. |  |  | 76644678 | 보이는 도배방지키를 입력하세요. |  | \\n작성자내용점수 | 작성자 | 내용 | 점수\\n작성자 | 내용 | 점수\\n이용하신 업체의 후기를 자유롭게 적어주세요.(욕설 및 상업적인 광고등은 사전통보없이 삭제됩니다.)작성자별점선택100 점90 점80 점70 점60 점50 점40 점30 점20 점10 점0 점비밀번호76644678보이는 도배방지키를 입력하세요. |  |  | 이용하신 업체의 후기를 자유롭게 적어주세요.(욕설 및 상업적인 광고등은 사전통보없이 삭제됩니다.) | 작성자별점선택100 점90 점80 점70 점60 점50 점40 점30 점20 점10 점0 점비밀번호 | 작성자 |  | 별점선택100 점90 점80 점70 점60 점50 점40 점30 점20 점10 점0 점 | 비밀번호 | 비밀번호 |  |  | 76644678보이는 도배방지키를 입력하세요. |  |  | 76644678 | 보이는 도배방지키를 입력하세요.\\n | \\n\\n이용하신 업체의 후기를 자유롭게 적어주세요.(욕설 및 상업적인 광고등은 사전통보없이 삭제됩니다.)\\n작성자별점선택100 점90 점80 점70 점60 점50 점40 점30 점20 점10 점0 점비밀번호 | 작성자 |  | 별점선택100 점90 점80 점70 점60 점50 점40 점30 점20 점10 점0 점 | 비밀번호 | 비밀번호 | \\n작성자 |  | 별점선택100 점90 점80 점70 점60 점50 점40 점30 점20 점10 점0 점 | 비밀번호 | 비밀번호 | \\n비밀번호 | \\n\\n76644678보이는 도배방지키를 입력하세요. |  |  | 76644678 | 보이는 도배방지키를 입력하세요.\\n |  | 76644678 | 보이는 도배방지키를 입력하세요.\\n\\n\\n교보문고 대구점국민정신문화 향상, 사회교육적 기능을 살린 문화공간을 창출하는 문고패션쇼핑\\r\\n                                                        >쇼핑/유통\\r\\n                                                        >서점 | 교보문고 대구점 | 국민정신문화 향상, 사회교육적 기능을 살린 문화공간을 창출하는 문고패션쇼핑\\r\\n                                                        >쇼핑/유통\\r\\n                                                        >서점\\n교보문고 대구점 | 국민정신문화 향상, 사회교육적 기능을 살린 문화공간을 창출하는 문고패션쇼핑\\r\\n                                                        >쇼핑/유통\\r\\n                                                        >서점\\n\\n |  |  | 연 락 처053-425-3501홈페이지http://www.kyobobook.co.kr/storen/MainStore.laf?SITE=04주소대구광역시 중구 동성로2가 88-25도로명주소대구광역시 중구 국채보상로 586부가정보영업시간매일\\xa0\\r\\n\\t\\t\\t\\t\\t\\t\\t\\t\\t\\t\\t\\t\\tAM 10:00 \\r\\n\\t\\t\\t\\t\\t\\t\\t\\t\\t\\t\\t\\t\\t\\t~ \\r\\n\\t\\t\\t\\t\\t\\t\\t\\t\\t\\t\\t\\t\\t\\tPM 22:00카테고리패션쇼핑\\r\\n                                                    > 쇼핑/유통\\r\\n                                                    > 서점조회수 :866추천수 :0리뷰 :0 | 연 락 처 | 053-425-3501 | 홈페이지 | http://www.kyobobook.co.kr/storen/MainStore.laf?SITE=04 | 주소 | 대구광역시 중구 동성로2가 88-25 | 도로명주소 | 대구광역시 중구 국채보상로 586 | 부가정보 |  | 영업시간 | 매일\\xa0\\r\\n\\t\\t\\t\\t\\t\\t\\t\\t\\t\\t\\t\\t\\tAM 10:00 \\r\\n\\t\\t\\t\\t\\t\\t\\t\\t\\t\\t\\t\\t\\t\\t~ \\r\\n\\t\\t\\t\\t\\t\\t\\t\\t\\t\\t\\t\\t\\t\\tPM 22:00 | 카테고리 | 패션쇼핑\\r\\n                                                    > 쇼핑/유통\\r\\n                                                    > 서점 | 조회수 :866추천수 :0리뷰 :0 |  | 조회수 :866추천수 :0리뷰 :0 |  | 조회수 :866추천수 :0리뷰 :0 | \\n\\n\\n연 락 처 | 053-425-3501\\n홈페이지 | http://www.kyobobook.co.kr/storen/MainStore.laf?SITE=04\\n주소 | 대구광역시 중구 동성로2가 88-25\\n도로명주소 | 대구광역시 중구 국채보상로 586\\n부가정보 | \\n영업시간 | 매일\\xa0\\r\\n\\t\\t\\t\\t\\t\\t\\t\\t\\t\\t\\t\\t\\tAM 10:00 \\r\\n\\t\\t\\t\\t\\t\\t\\t\\t\\t\\t\\t\\t\\t\\t~ \\r\\n\\t\\t\\t\\t\\t\\t\\t\\t\\t\\t\\t\\t\\t\\tPM 22:00\\n카테고리 | 패션쇼핑\\r\\n                                                    > 쇼핑/유통\\r\\n                                                    > 서점\\n조회수 :866추천수 :0리뷰 :0 |  | 조회수 :866추천수 :0리뷰 :0 |  | 조회수 :866추천수 :0리뷰 :0 | \\n | 조회수 :866추천수 :0리뷰 :0 |  | 조회수 :866추천수 :0리뷰 :0 | \\n | 조회수 :866추천수 :0리뷰 :0 | \\n교보문고 대구점 | 국민정신문화 향상, 사회교육적 기능을 살린 문화공간을 창출하는 문고패션쇼핑\\r\\n                                                        >쇼핑/유통\\r\\n                                                        >서점\\n교보문고 대구점\\n\\n\\n\\n연 락 처 | 053-425-3501\\n홈페이지 | http://www.kyobobook.co.kr/storen/MainStore.laf?SITE=04\\n주소 | 대구광역시 중구 동성로2가 88-25\\n도로명주소 | 대구광역시 중구 국채보상로 586\\n부가정보 | \\n영업시간 | 매일\\xa0\\r\\n\\t\\t\\t\\t\\t\\t\\t\\t\\t\\t\\t\\t\\tAM 10:00 \\r\\n\\t\\t\\t\\t\\t\\t\\t\\t\\t\\t\\t\\t\\t\\t~ \\r\\n\\t\\t\\t\\t\\t\\t\\t\\t\\t\\t\\t\\t\\t\\tPM 22:00\\n카테고리 | 패션쇼핑\\r\\n                                                    > 쇼핑/유통\\r\\n                                                    > 서점\\n조회수 :866추천수 :0리뷰 :0 |  | 조회수 :866추천수 :0리뷰 :0 |  | 조회수 :866추천수 :0리뷰 :0 | \\n | 조회수 :866추천수 :0리뷰 :0 |  | 조회수 :866추천수 :0리뷰 :0 | \\n | 조회수 :866추천수 :0리뷰 :0 | \\n | 조회수 :866추천수 :0리뷰 :0 |  | 조회수 :866추천수 :0리뷰 :0 | \\n | 조회수 :866추천수 :0리뷰 :0 | \\n | 조회수 :866추천수 :0리뷰 :0 | \\n\\n\\n\\n\\n등록된 상품정보가 없습니다.등록된 동영상 정보가 없습니다.등록된 정보가 없습니다.1호선(중앙로)1호선(중앙로)2호선(반월당)2호선(반월당)1호선(반월당)1호선(반월당)1호선(대구역)1호선(대구역) |  | \\n\\n\\n\\n\\n\\n\\n\\n\\n\\n\\nCGV대구한일건너 | 간선156\\r,\\r\\r309\\r,\\r\\r323\\r,\\r\\r425\\r,\\r\\r427\\r,\\r\\r521\\r,\\r\\r724\\r,\\r\\r939\\r,\\r\\r980\\nCGV대구한일앞 | 간선106\\r,\\r\\r156\\r,\\r\\r323-1\\r,\\r\\r521\\r,\\r\\r600\\n약령시앞 | 간선106\\r,\\r\\r202\\r,\\r\\r303-1\\r,\\r\\r349\\r,\\r\\r401\\r,\\r\\r410-1\\r,\\r\\r503\\r,\\r\\r518\\r,\\r\\r650\\r,\\r\\r704\\r,\\r\\r706\\r,\\r\\r730\\r,\\r\\r909지선동구1-1\\r,\\r\\r북구2급행급행2\\n경상감영공원건너 | 간선202-1\\r,\\r\\r303\\r,\\r\\r349\\r,\\r\\r401\\r,\\r\\r410\\r,\\r\\r503\\r,\\r\\r623\\r,\\r\\r704\\r,\\r\\r706\\r,\\r\\r730\\r,\\r\\r980지선동구1\\r,\\r\\r가창2\\r,\\r\\r동구2급행급행2\\n2.28기념중앙공원건너1 | 간선508\\r,\\r\\r518\\r,\\r\\r600지선동구1\\r,\\r\\r가창2\\r,\\r\\r북구3급행급행1\\r,\\r\\r급행3\\n약령시건너 | 간선106\\r,\\r\\r202-1\\r,\\r\\r303\\r,\\r\\r349\\r,\\r\\r401\\r,\\r\\r410\\r,\\r\\r503\\r,\\r\\r518\\r,\\r\\r650\\r,\\r\\r704\\r,\\r\\r706\\r,\\r\\r730급행급행2\\n시간대별 유동인구 | 男10대 | 男20대 | 男30대 | 男40대 | 男50대 | 女10대 | 女20대 | 女30대 | 女40대 | 女50대\\n12시~13시까지(주중) | 18명 | 42명 | 68명 | 60명 | 32명 | 16명 | 52명 | 48명 | 32명 | 24명\\n19시~20시까지(주중) | 22명 | 60명 | 102명 | 88명 | 52명 | 22명 | 56명 | 40명 | 30명 | 20명\\n12시~13시까지(주말) | 24명 | 62명 | 50명 | 48명 | 30명 | 18명 | 56명 | 42명 | 24명 | 20명\\n19시~20시까지(주말) | 36명 | 72명 | 88명 | 68명 | 24명 | 32명 | 62명 | 36명 | 20명 | 18명\\n\\n\\n\\n\\n좋은어린이서점 남산점 | 교보문고 대구점 | 모던북\\n | \\n작성자내용점수이용하신 업체의 후기를 자유롭게 적어주세요.(욕설 및 상업적인 광고등은 사전통보없이 삭제됩니다.)작성자별점선택100 점90 점80 점70 점60 점50 점40 점30 점20 점10 점0 점비밀번호76644678보이는 도배방지키를 입력하세요. | 작성자내용점수 | 작성자 | 내용 | 점수 | 이용하신 업체의 후기를 자유롭게 적어주세요.(욕설 및 상업적인 광고등은 사전통보없이 삭제됩니다.)작성자별점선택100 점90 점80 점70 점60 점50 점40 점30 점20 점10 점0 점비밀번호76644678보이는 도배방지키를 입력하세요. |  |  | 이용하신 업체의 후기를 자유롭게 적어주세요.(욕설 및 상업적인 광고등은 사전통보없이 삭제됩니다.) | 작성자별점선택100 점90 점80 점70 점60 점50 점40 점30 점20 점10 점0 점비밀번호 | 작성자 |  | 별점선택100 점90 점80 점70 점60 점50 점40 점30 점20 점10 점0 점 | 비밀번호 | 비밀번호 |  |  | 76644678보이는 도배방지키를 입력하세요. |  |  | 76644678 | 보이는 도배방지키를 입력하세요. |  | \\n작성자내용점수 | 작성자 | 내용 | 점수\\n작성자 | 내용 | 점수\\n이용하신 업체의 후기를 자유롭게 적어주세요.(욕설 및 상업적인 광고등은 사전통보없이 삭제됩니다.)작성자별점선택100 점90 점80 점70 점60 점50 점40 점30 점20 점10 점0 점비밀번호76644678보이는 도배방지키를 입력하세요. |  |  | 이용하신 업체의 후기를 자유롭게 적어주세요.(욕설 및 상업적인 광고등은 사전통보없이 삭제됩니다.) | 작성자별점선택100 점90 점80 점70 점60 점50 점40 점30 점20 점10 점0 점비밀번호 | 작성자 |  | 별점선택100 점90 점80 점70 점60 점50 점40 점30 점20 점10 점0 점 | 비밀번호 | 비밀번호 |  |  | 76644678보이는 도배방지키를 입력하세요. |  |  | 76644678 | 보이는 도배방지키를 입력하세요.\\n | \\n\\n이용하신 업체의 후기를 자유롭게 적어주세요.(욕설 및 상업적인 광고등은 사전통보없이 삭제됩니다.)\\n작성자별점선택100 점90 점80 점70 점60 점50 점40 점30 점20 점10 점0 점비밀번호 | 작성자 |  | 별점선택100 점90 점80 점70 점60 점50 점40 점30 점20 점10 점0 점 | 비밀번호 | 비밀번호 | \\n작성자 |  | 별점선택100 점90 점80 점70 점60 점50 점40 점30 점20 점10 점0 점 | 비밀번호 | 비밀번호 | \\n비밀번호 | \\n\\n76644678보이는 도배방지키를 입력하세요. |  |  | 76644678 | 보이는 도배방지키를 입력하세요.\\n |  | 76644678 | 보이는 도배방지키를 입력하세요.\\n\\n\\n작성자내용점수 | 작성자 | 내용 | 점수\\n작성자 | 내용 | 점수\\n작성자 | 내용 | 점수\\n이용하신 업체의 후기를 자유롭게 적어주세요.(욕설 및 상업적인 광고등은 사전통보없이 삭제됩니다.)작성자별점선택100 점90 점80 점70 점60 점50 점40 점30 점20 점10 점0 점비밀번호76644678보이는 도배방지키를 입력하세요. |  |  | 이용하신 업체의 후기를 자유롭게 적어주세요.(욕설 및 상업적인 광고등은 사전통보없이 삭제됩니다.) | 작성자별점선택100 점90 점80 점70 점60 점50 점40 점30 점20 점10 점0 점비밀번호 | 작성자 |  | 별점선택100 점90 점80 점70 점60 점50 점40 점30 점20 점10 점0 점 | 비밀번호 | 비밀번호 |  |  | 76644678보이는 도배방지키를 입력하세요. |  |  | 76644678 | 보이는 도배방지키를 입력하세요.\\n | \\n\\n이용하신 업체의 후기를 자유롭게 적어주세요.(욕설 및 상업적인 광고등은 사전통보없이 삭제됩니다.)\\n작성자별점선택100 점90 점80 점70 점60 점50 점40 점30 점20 점10 점0 점비밀번호 | 작성자 |  | 별점선택100 점90 점80 점70 점60 점50 점40 점30 점20 점10 점0 점 | 비밀번호 | 비밀번호 | \\n작성자 |  | 별점선택100 점90 점80 점70 점60 점50 점40 점30 점20 점10 점0 점 | 비밀번호 | 비밀번호 | \\n비밀번호 | \\n\\n76644678보이는 도배방지키를 입력하세요. |  |  | 76644678 | 보이는 도배방지키를 입력하세요.\\n |  | 76644678 | 보이는 도배방지키를 입력하세요.\\n\\n\\n | \\n\\n\\n이용하신 업체의 후기를 자유롭게 적어주세요.(욕설 및 상업적인 광고등은 사전통보없이 삭제됩니다.)\\n작성자별점선택100 점90 점80 점70 점60 점50 점40 점30 점20 점10 점0 점비밀번호 | 작성자 |  | 별점선택100 점90 점80 점70 점60 점50 점40 점30 점20 점10 점0 점 | 비밀번호 | 비밀번호 | \\n작성자 |  | 별점선택100 점90 점80 점70 점60 점50 점40 점30 점20 점10 점0 점 | 비밀번호 | 비밀번호 | \\n비밀번호 | \\n\\n76644678보이는 도배방지키를 입력하세요. |  |  | 76644678 | 보이는 도배방지키를 입력하세요.\\n |  | 76644678 | 보이는 도배방지키를 입력하세요.\\n작성자 |  | 별점선택100 점90 점80 점70 점60 점50 점40 점30 점20 점10 점0 점 | 비밀번호 | 비밀번호 | \\n비밀번호 | \\n비밀번호 | \\n |  | 76644678 | 보이는 도배방지키를 입력하세요.\\n로컬뷰는 지역내 업소(기업)정보를 제공하는 온라인 전화번호부 서비스입니다.로컬뷰는 개별업체로 부터 광고비 또는 중계수수료를 받지 않는 무료서비스 입니다Copyright(c) 2010 로컬뷰(LocalView) All Rights Reserved. |  | 로컬뷰는 지역내 업소(기업)정보를 제공하는 온라인 전화번호부 서비스입니다.로컬뷰는 개별업체로 부터 광고비 또는 중계수수료를 받지 않는 무료서비스 입니다Copyright(c) 2010 로컬뷰(LocalView) All Rights Reserved. |  |  |  |  |  |  | 로컬뷰는 지역내 업소(기업)정보를 제공하는 온라인 전화번호부 서비스입니다.로컬뷰는 개별업체로 부터 광고비 또는 중계수수료를 받지 않는 무료서비스 입니다Copyright(c) 2010 로컬뷰(LocalView) All Rights Reserved.\\n | 로컬뷰는 지역내 업소(기업)정보를 제공하는 온라인 전화번호부 서비스입니다.로컬뷰는 개별업체로 부터 광고비 또는 중계수수료를 받지 않는 무료서비스 입니다Copyright(c) 2010 로컬뷰(LocalView) All Rights Reserved. |  |  |  |  |  |  | 로컬뷰는 지역내 업소(기업)정보를 제공하는 온라인 전화번호부 서비스입니다.로컬뷰는 개별업체로 부터 광고비 또는 중계수수료를 받지 않는 무료서비스 입니다Copyright(c) 2010 로컬뷰(LocalView) All Rights Reserved.\\n |  |  |  |  | \\n |  |  |  | \\n로컬뷰는 지역내 업소(기업)정보를 제공하는 온라인 전화번호부 서비스입니다.로컬뷰는 개별업체로 부터 광고비 또는 중계수수료를 받지 않는 무료서비스 입니다Copyright(c) 2010 로컬뷰(LocalView) All Rights Reserved.\\n | 로컬뷰는 지역내 업소(기업)정보를 제공하는 온라인 전화번호부 서비스입니다.로컬뷰는 개별업체로 부터 광고비 또는 중계수수료를 받지 않는 무료서비스 입니다Copyright(c) 2010 로컬뷰(LocalView) All Rights Reserved. |  |  |  |  |  |  | 로컬뷰는 지역내 업소(기업)정보를 제공하는 온라인 전화번호부 서비스입니다.로컬뷰는 개별업체로 부터 광고비 또는 중계수수료를 받지 않는 무료서비스 입니다Copyright(c) 2010 로컬뷰(LocalView) All Rights Reserved.\\n |  |  |  |  | \\n |  |  |  | \\n로컬뷰는 지역내 업소(기업)정보를 제공하는 온라인 전화번호부 서비스입니다.로컬뷰는 개별업체로 부터 광고비 또는 중계수수료를 받지 않는 무료서비스 입니다Copyright(c) 2010 로컬뷰(LocalView) All Rights Reserved.\\n |  |  |  |  | \\n |  |  |  | \\n로컬뷰는 지역내 업소(기업)정보를 제공하는 온라인 전화번호부 서비스입니다.로컬뷰는 개별업체로 부터 광고비 또는 중계수수료를 받지 않는 무료서비스 입니다Copyright(c) 2010 로컬뷰(LocalView) All Rights Reserved.\\n |  |  |  | \\n'}, {'title': '교보문고 대구점 - LocalView', 'url': 'https://www.localview.co.kr/store/detail.asp?seq=600977851', 'content': '국민정신문화 향상, 사회교육적 기능을 살린 문화공간을 창출하는 문고 대구광역시 중구 동성로2가 위치, 영업점, 이벤트, 행사 등 안내, 보유도서 검색 제공. 대구의 중심가 동성로에 있는 교보문고 대구점은 총 면적 1,900평의 넓은 매장과 15만 종 30만 권의 방대한 도서를 바탕으로 대구를 대표하는', 'score': 0.8488849, 'raw_content': ' |  |  |  |  |  |  |  |  | \\n\\n교보문고 대구점국민정신문화 향상, 사회교육적 기능을 살린 문화공간을 창출하는 문고패션쇼핑\\r\\n                                                        >쇼핑/유통\\r\\n                                                        >서점연 락 처053-425-3501홈페이지http://www.kyobobook.co.kr/storen/MainStore.laf?SITE=04주소대구광역시 중구 동성로2가 88-25도로명주소대구광역시 중구 국채보상로 586부가정보영업시간매일\\xa0\\r\\n\\t\\t\\t\\t\\t\\t\\t\\t\\t\\t\\t\\t\\tAM 10:00 \\r\\n\\t\\t\\t\\t\\t\\t\\t\\t\\t\\t\\t\\t\\t\\t~ \\r\\n\\t\\t\\t\\t\\t\\t\\t\\t\\t\\t\\t\\t\\t\\tPM 22:00카테고리패션쇼핑\\r\\n                                                    > 쇼핑/유통\\r\\n                                                    > 서점조회수 :866추천수 :0리뷰 :0국민정신문화 향상, 사회교육적 기능을 살린 문화공간을 창출하는 문고대구광역시 중구 동성로2가 위치, 영업점, 이벤트, 행사 등 안내, 보유도서 검색 제공.대구의 중심가 동성로에 있는 교보문고 대구점은 총 면적 1,900평의 넓은 매장과 15만 종 30만 권의 방대한 도서를 바탕으로 대구를 대표하는 서점이자 열린 문화공간으로 자리 잡고 있으며, 책을 사랑하시는 분들을 위한 북클럽회원 전용 라운지, 어린이 독자들의 만남의 장소 키즈가든, 다채로운 문화행사가 가득한 문화 이벤트홀 등은 독자 여러분께 더 큰 즐거움을 제공해드릴 것입니다.등록된 상품정보가 없습니다.등록된 동영상 정보가 없습니다.등록된 정보가 없습니다.1호선(중앙로)1호선(중앙로)2호선(반월당)2호선(반월당)1호선(반월당)1호선(반월당)1호선(대구역)1호선(대구역)주변버스CGV대구한일건너간선156\\r,\\r\\r309\\r,\\r\\r323\\r,\\r\\r425\\r,\\r\\r427\\r,\\r\\r521\\r,\\r\\r724\\r,\\r\\r939\\r,\\r\\r980CGV대구한일앞간선106\\r,\\r\\r156\\r,\\r\\r323-1\\r,\\r\\r521\\r,\\r\\r600약령시앞간선106\\r,\\r\\r202\\r,\\r\\r303-1\\r,\\r\\r349\\r,\\r\\r401\\r,\\r\\r410-1\\r,\\r\\r503\\r,\\r\\r518\\r,\\r\\r650\\r,\\r\\r704\\r,\\r\\r706\\r,\\r\\r730\\r,\\r\\r909지선동구1-1\\r,\\r\\r북구2급행급행2경상감영공원건너간선202-1\\r,\\r\\r303\\r,\\r\\r349\\r,\\r\\r401\\r,\\r\\r410\\r,\\r\\r503\\r,\\r\\r623\\r,\\r\\r704\\r,\\r\\r706\\r,\\r\\r730\\r,\\r\\r980지선동구1\\r,\\r\\r가창2\\r,\\r\\r동구2급행급행22.28기념중앙공원건너1간선508\\r,\\r\\r518\\r,\\r\\r600지선동구1\\r,\\r\\r가창2\\r,\\r\\r북구3급행급행1\\r,\\r\\r급행3약령시건너간선106\\r,\\r\\r202-1\\r,\\r\\r303\\r,\\r\\r349\\r,\\r\\r401\\r,\\r\\r410\\r,\\r\\r503\\r,\\r\\r518\\r,\\r\\r650\\r,\\r\\r704\\r,\\r\\r706\\r,\\r\\r730급행급행2지역상권시간대별 유동인구男10대男20대男30대男40대男50대女10대女20대女30대女40대女50대12시~13시까지(주중)18명42명68명60명32명16명52명48명32명24명19시~20시까지(주중)22명60명102명88명52명22명56명40명30명20명12시~13시까지(주말)24명62명50명48명30명18명56명42명24명20명19시~20시까지(주말)36명72명88명68명24명32명62명36명20명18명실내뷰등록된 실내 정보가 없습니다.near by좋은어린이서점 남산점교보문고 대구점모던북작성자내용점수이용하신 업체의 후기를 자유롭게 적어주세요.(욕설 및 상업적인 광고등은 사전통보없이 삭제됩니다.)작성자별점선택100 점90 점80 점70 점60 점50 점40 점30 점20 점10 점0 점비밀번호76644678보이는 도배방지키를 입력하세요. | 교보문고 대구점국민정신문화 향상, 사회교육적 기능을 살린 문화공간을 창출하는 문고패션쇼핑\\r\\n                                                        >쇼핑/유통\\r\\n                                                        >서점 | 교보문고 대구점 | 국민정신문화 향상, 사회교육적 기능을 살린 문화공간을 창출하는 문고패션쇼핑\\r\\n                                                        >쇼핑/유통\\r\\n                                                        >서점 |  |  |  |  | 연 락 처053-425-3501홈페이지http://www.kyobobook.co.kr/storen/MainStore.laf?SITE=04주소대구광역시 중구 동성로2가 88-25도로명주소대구광역시 중구 국채보상로 586부가정보영업시간매일\\xa0\\r\\n\\t\\t\\t\\t\\t\\t\\t\\t\\t\\t\\t\\t\\tAM 10:00 \\r\\n\\t\\t\\t\\t\\t\\t\\t\\t\\t\\t\\t\\t\\t\\t~ \\r\\n\\t\\t\\t\\t\\t\\t\\t\\t\\t\\t\\t\\t\\t\\tPM 22:00카테고리패션쇼핑\\r\\n                                                    > 쇼핑/유통\\r\\n                                                    > 서점조회수 :866추천수 :0리뷰 :0 | 연 락 처 | 053-425-3501 | 홈페이지 | http://www.kyobobook.co.kr/storen/MainStore.laf?SITE=04 | 주소 | 대구광역시 중구 동성로2가 88-25 | 도로명주소 | 대구광역시 중구 국채보상로 586 | 부가정보 |  | 영업시간 | 매일\\xa0\\r\\n\\t\\t\\t\\t\\t\\t\\t\\t\\t\\t\\t\\t\\tAM 10:00 \\r\\n\\t\\t\\t\\t\\t\\t\\t\\t\\t\\t\\t\\t\\t\\t~ \\r\\n\\t\\t\\t\\t\\t\\t\\t\\t\\t\\t\\t\\t\\t\\tPM 22:00 | 카테고리 | 패션쇼핑\\r\\n                                                    > 쇼핑/유통\\r\\n                                                    > 서점 | 조회수 :866추천수 :0리뷰 :0 |  | 조회수 :866추천수 :0리뷰 :0 |  | 조회수 :866추천수 :0리뷰 :0 |  | 등록된 상품정보가 없습니다.등록된 동영상 정보가 없습니다.등록된 정보가 없습니다.1호선(중앙로)1호선(중앙로)2호선(반월당)2호선(반월당)1호선(반월당)1호선(반월당)1호선(대구역)1호선(대구역) |  |  | CGV대구한일건너 | 간선156\\r,\\r\\r309\\r,\\r\\r323\\r,\\r\\r425\\r,\\r\\r427\\r,\\r\\r521\\r,\\r\\r724\\r,\\r\\r939\\r,\\r\\r980 | CGV대구한일앞 | 간선106\\r,\\r\\r156\\r,\\r\\r323-1\\r,\\r\\r521\\r,\\r\\r600 | 약령시앞 | 간선106\\r,\\r\\r202\\r,\\r\\r303-1\\r,\\r\\r349\\r,\\r\\r401\\r,\\r\\r410-1\\r,\\r\\r503\\r,\\r\\r518\\r,\\r\\r650\\r,\\r\\r704\\r,\\r\\r706\\r,\\r\\r730\\r,\\r\\r909지선동구1-1\\r,\\r\\r북구2급행급행2 | 경상감영공원건너 | 간선202-1\\r,\\r\\r303\\r,\\r\\r349\\r,\\r\\r401\\r,\\r\\r410\\r,\\r\\r503\\r,\\r\\r623\\r,\\r\\r704\\r,\\r\\r706\\r,\\r\\r730\\r,\\r\\r980지선동구1\\r,\\r\\r가창2\\r,\\r\\r동구2급행급행2 | 2.28기념중앙공원건너1 | 간선508\\r,\\r\\r518\\r,\\r\\r600지선동구1\\r,\\r\\r가창2\\r,\\r\\r북구3급행급행1\\r,\\r\\r급행3 | 약령시건너 | 간선106\\r,\\r\\r202-1\\r,\\r\\r303\\r,\\r\\r349\\r,\\r\\r401\\r,\\r\\r410\\r,\\r\\r503\\r,\\r\\r518\\r,\\r\\r650\\r,\\r\\r704\\r,\\r\\r706\\r,\\r\\r730급행급행2 | 시간대별 유동인구 | 男10대 | 男20대 | 男30대 | 男40대 | 男50대 | 女10대 | 女20대 | 女30대 | 女40대 | 女50대 | 12시~13시까지(주중) | 18명 | 42명 | 68명 | 60명 | 32명 | 16명 | 52명 | 48명 | 32명 | 24명 | 19시~20시까지(주중) | 22명 | 60명 | 102명 | 88명 | 52명 | 22명 | 56명 | 40명 | 30명 | 20명 | 12시~13시까지(주말) | 24명 | 62명 | 50명 | 48명 | 30명 | 18명 | 56명 | 42명 | 24명 | 20명 | 19시~20시까지(주말) | 36명 | 72명 | 88명 | 68명 | 24명 | 32명 | 62명 | 36명 | 20명 | 18명 | 좋은어린이서점 남산점 | 교보문고 대구점 | 모던북 |  |  | 작성자내용점수이용하신 업체의 후기를 자유롭게 적어주세요.(욕설 및 상업적인 광고등은 사전통보없이 삭제됩니다.)작성자별점선택100 점90 점80 점70 점60 점50 점40 점30 점20 점10 점0 점비밀번호76644678보이는 도배방지키를 입력하세요. | 작성자내용점수 | 작성자 | 내용 | 점수 | 이용하신 업체의 후기를 자유롭게 적어주세요.(욕설 및 상업적인 광고등은 사전통보없이 삭제됩니다.)작성자별점선택100 점90 점80 점70 점60 점50 점40 점30 점20 점10 점0 점비밀번호76644678보이는 도배방지키를 입력하세요. |  |  | 이용하신 업체의 후기를 자유롭게 적어주세요.(욕설 및 상업적인 광고등은 사전통보없이 삭제됩니다.) | 작성자별점선택100 점90 점80 점70 점60 점50 점40 점30 점20 점10 점0 점비밀번호 | 작성자 |  | 별점선택100 점90 점80 점70 점60 점50 점40 점30 점20 점10 점0 점 | 비밀번호 | 비밀번호 |  |  | 76644678보이는 도배방지키를 입력하세요. |  |  | 76644678 | 보이는 도배방지키를 입력하세요. |  |  |  | \\n교보문고 대구점국민정신문화 향상, 사회교육적 기능을 살린 문화공간을 창출하는 문고패션쇼핑\\r\\n                                                        >쇼핑/유통\\r\\n                                                        >서점 | 교보문고 대구점 | 국민정신문화 향상, 사회교육적 기능을 살린 문화공간을 창출하는 문고패션쇼핑\\r\\n                                                        >쇼핑/유통\\r\\n                                                        >서점\\n교보문고 대구점 | 국민정신문화 향상, 사회교육적 기능을 살린 문화공간을 창출하는 문고패션쇼핑\\r\\n                                                        >쇼핑/유통\\r\\n                                                        >서점\\n\\n |  |  | 연 락 처053-425-3501홈페이지http://www.kyobobook.co.kr/storen/MainStore.laf?SITE=04주소대구광역시 중구 동성로2가 88-25도로명주소대구광역시 중구 국채보상로 586부가정보영업시간매일\\xa0\\r\\n\\t\\t\\t\\t\\t\\t\\t\\t\\t\\t\\t\\t\\tAM 10:00 \\r\\n\\t\\t\\t\\t\\t\\t\\t\\t\\t\\t\\t\\t\\t\\t~ \\r\\n\\t\\t\\t\\t\\t\\t\\t\\t\\t\\t\\t\\t\\t\\tPM 22:00카테고리패션쇼핑\\r\\n                                                    > 쇼핑/유통\\r\\n                                                    > 서점조회수 :866추천수 :0리뷰 :0 | 연 락 처 | 053-425-3501 | 홈페이지 | http://www.kyobobook.co.kr/storen/MainStore.laf?SITE=04 | 주소 | 대구광역시 중구 동성로2가 88-25 | 도로명주소 | 대구광역시 중구 국채보상로 586 | 부가정보 |  | 영업시간 | 매일\\xa0\\r\\n\\t\\t\\t\\t\\t\\t\\t\\t\\t\\t\\t\\t\\tAM 10:00 \\r\\n\\t\\t\\t\\t\\t\\t\\t\\t\\t\\t\\t\\t\\t\\t~ \\r\\n\\t\\t\\t\\t\\t\\t\\t\\t\\t\\t\\t\\t\\t\\tPM 22:00 | 카테고리 | 패션쇼핑\\r\\n                                                    > 쇼핑/유통\\r\\n                                                    > 서점 | 조회수 :866추천수 :0리뷰 :0 |  | 조회수 :866추천수 :0리뷰 :0 |  | 조회수 :866추천수 :0리뷰 :0 | \\n\\n\\n연 락 처 | 053-425-3501\\n홈페이지 | http://www.kyobobook.co.kr/storen/MainStore.laf?SITE=04\\n주소 | 대구광역시 중구 동성로2가 88-25\\n도로명주소 | 대구광역시 중구 국채보상로 586\\n부가정보 | \\n영업시간 | 매일\\xa0\\r\\n\\t\\t\\t\\t\\t\\t\\t\\t\\t\\t\\t\\t\\tAM 10:00 \\r\\n\\t\\t\\t\\t\\t\\t\\t\\t\\t\\t\\t\\t\\t\\t~ \\r\\n\\t\\t\\t\\t\\t\\t\\t\\t\\t\\t\\t\\t\\t\\tPM 22:00\\n카테고리 | 패션쇼핑\\r\\n                                                    > 쇼핑/유통\\r\\n                                                    > 서점\\n조회수 :866추천수 :0리뷰 :0 |  | 조회수 :866추천수 :0리뷰 :0 |  | 조회수 :866추천수 :0리뷰 :0 | \\n | 조회수 :866추천수 :0리뷰 :0 |  | 조회수 :866추천수 :0리뷰 :0 | \\n | 조회수 :866추천수 :0리뷰 :0 | \\n등록된 상품정보가 없습니다.등록된 동영상 정보가 없습니다.등록된 정보가 없습니다.1호선(중앙로)1호선(중앙로)2호선(반월당)2호선(반월당)1호선(반월당)1호선(반월당)1호선(대구역)1호선(대구역) |  | \\nCGV대구한일건너 | 간선156\\r,\\r\\r309\\r,\\r\\r323\\r,\\r\\r425\\r,\\r\\r427\\r,\\r\\r521\\r,\\r\\r724\\r,\\r\\r939\\r,\\r\\r980\\nCGV대구한일앞 | 간선106\\r,\\r\\r156\\r,\\r\\r323-1\\r,\\r\\r521\\r,\\r\\r600\\n약령시앞 | 간선106\\r,\\r\\r202\\r,\\r\\r303-1\\r,\\r\\r349\\r,\\r\\r401\\r,\\r\\r410-1\\r,\\r\\r503\\r,\\r\\r518\\r,\\r\\r650\\r,\\r\\r704\\r,\\r\\r706\\r,\\r\\r730\\r,\\r\\r909지선동구1-1\\r,\\r\\r북구2급행급행2\\n경상감영공원건너 | 간선202-1\\r,\\r\\r303\\r,\\r\\r349\\r,\\r\\r401\\r,\\r\\r410\\r,\\r\\r503\\r,\\r\\r623\\r,\\r\\r704\\r,\\r\\r706\\r,\\r\\r730\\r,\\r\\r980지선동구1\\r,\\r\\r가창2\\r,\\r\\r동구2급행급행2\\n2.28기념중앙공원건너1 | 간선508\\r,\\r\\r518\\r,\\r\\r600지선동구1\\r,\\r\\r가창2\\r,\\r\\r북구3급행급행1\\r,\\r\\r급행3\\n약령시건너 | 간선106\\r,\\r\\r202-1\\r,\\r\\r303\\r,\\r\\r349\\r,\\r\\r401\\r,\\r\\r410\\r,\\r\\r503\\r,\\r\\r518\\r,\\r\\r650\\r,\\r\\r704\\r,\\r\\r706\\r,\\r\\r730급행급행2\\n시간대별 유동인구 | 男10대 | 男20대 | 男30대 | 男40대 | 男50대 | 女10대 | 女20대 | 女30대 | 女40대 | 女50대\\n12시~13시까지(주중) | 18명 | 42명 | 68명 | 60명 | 32명 | 16명 | 52명 | 48명 | 32명 | 24명\\n19시~20시까지(주중) | 22명 | 60명 | 102명 | 88명 | 52명 | 22명 | 56명 | 40명 | 30명 | 20명\\n12시~13시까지(주말) | 24명 | 62명 | 50명 | 48명 | 30명 | 18명 | 56명 | 42명 | 24명 | 20명\\n19시~20시까지(주말) | 36명 | 72명 | 88명 | 68명 | 24명 | 32명 | 62명 | 36명 | 20명 | 18명\\n좋은어린이서점 남산점 | 교보문고 대구점 | 모던북\\n | \\n작성자내용점수이용하신 업체의 후기를 자유롭게 적어주세요.(욕설 및 상업적인 광고등은 사전통보없이 삭제됩니다.)작성자별점선택100 점90 점80 점70 점60 점50 점40 점30 점20 점10 점0 점비밀번호76644678보이는 도배방지키를 입력하세요. | 작성자내용점수 | 작성자 | 내용 | 점수 | 이용하신 업체의 후기를 자유롭게 적어주세요.(욕설 및 상업적인 광고등은 사전통보없이 삭제됩니다.)작성자별점선택100 점90 점80 점70 점60 점50 점40 점30 점20 점10 점0 점비밀번호76644678보이는 도배방지키를 입력하세요. |  |  | 이용하신 업체의 후기를 자유롭게 적어주세요.(욕설 및 상업적인 광고등은 사전통보없이 삭제됩니다.) | 작성자별점선택100 점90 점80 점70 점60 점50 점40 점30 점20 점10 점0 점비밀번호 | 작성자 |  | 별점선택100 점90 점80 점70 점60 점50 점40 점30 점20 점10 점0 점 | 비밀번호 | 비밀번호 |  |  | 76644678보이는 도배방지키를 입력하세요. |  |  | 76644678 | 보이는 도배방지키를 입력하세요. |  | \\n작성자내용점수 | 작성자 | 내용 | 점수\\n작성자 | 내용 | 점수\\n이용하신 업체의 후기를 자유롭게 적어주세요.(욕설 및 상업적인 광고등은 사전통보없이 삭제됩니다.)작성자별점선택100 점90 점80 점70 점60 점50 점40 점30 점20 점10 점0 점비밀번호76644678보이는 도배방지키를 입력하세요. |  |  | 이용하신 업체의 후기를 자유롭게 적어주세요.(욕설 및 상업적인 광고등은 사전통보없이 삭제됩니다.) | 작성자별점선택100 점90 점80 점70 점60 점50 점40 점30 점20 점10 점0 점비밀번호 | 작성자 |  | 별점선택100 점90 점80 점70 점60 점50 점40 점30 점20 점10 점0 점 | 비밀번호 | 비밀번호 |  |  | 76644678보이는 도배방지키를 입력하세요. |  |  | 76644678 | 보이는 도배방지키를 입력하세요.\\n | \\n\\n이용하신 업체의 후기를 자유롭게 적어주세요.(욕설 및 상업적인 광고등은 사전통보없이 삭제됩니다.)\\n작성자별점선택100 점90 점80 점70 점60 점50 점40 점30 점20 점10 점0 점비밀번호 | 작성자 |  | 별점선택100 점90 점80 점70 점60 점50 점40 점30 점20 점10 점0 점 | 비밀번호 | 비밀번호 | \\n작성자 |  | 별점선택100 점90 점80 점70 점60 점50 점40 점30 점20 점10 점0 점 | 비밀번호 | 비밀번호 | \\n비밀번호 | \\n\\n76644678보이는 도배방지키를 입력하세요. |  |  | 76644678 | 보이는 도배방지키를 입력하세요.\\n |  | 76644678 | 보이는 도배방지키를 입력하세요.\\n\\n\\n교보문고 대구점국민정신문화 향상, 사회교육적 기능을 살린 문화공간을 창출하는 문고패션쇼핑\\r\\n                                                        >쇼핑/유통\\r\\n                                                        >서점 | 교보문고 대구점 | 국민정신문화 향상, 사회교육적 기능을 살린 문화공간을 창출하는 문고패션쇼핑\\r\\n                                                        >쇼핑/유통\\r\\n                                                        >서점\\n교보문고 대구점 | 국민정신문화 향상, 사회교육적 기능을 살린 문화공간을 창출하는 문고패션쇼핑\\r\\n                                                        >쇼핑/유통\\r\\n                                                        >서점\\n\\n |  |  | 연 락 처053-425-3501홈페이지http://www.kyobobook.co.kr/storen/MainStore.laf?SITE=04주소대구광역시 중구 동성로2가 88-25도로명주소대구광역시 중구 국채보상로 586부가정보영업시간매일\\xa0\\r\\n\\t\\t\\t\\t\\t\\t\\t\\t\\t\\t\\t\\t\\tAM 10:00 \\r\\n\\t\\t\\t\\t\\t\\t\\t\\t\\t\\t\\t\\t\\t\\t~ \\r\\n\\t\\t\\t\\t\\t\\t\\t\\t\\t\\t\\t\\t\\t\\tPM 22:00카테고리패션쇼핑\\r\\n                                                    > 쇼핑/유통\\r\\n                                                    > 서점조회수 :866추천수 :0리뷰 :0 | 연 락 처 | 053-425-3501 | 홈페이지 | http://www.kyobobook.co.kr/storen/MainStore.laf?SITE=04 | 주소 | 대구광역시 중구 동성로2가 88-25 | 도로명주소 | 대구광역시 중구 국채보상로 586 | 부가정보 |  | 영업시간 | 매일\\xa0\\r\\n\\t\\t\\t\\t\\t\\t\\t\\t\\t\\t\\t\\t\\tAM 10:00 \\r\\n\\t\\t\\t\\t\\t\\t\\t\\t\\t\\t\\t\\t\\t\\t~ \\r\\n\\t\\t\\t\\t\\t\\t\\t\\t\\t\\t\\t\\t\\t\\tPM 22:00 | 카테고리 | 패션쇼핑\\r\\n                                                    > 쇼핑/유통\\r\\n                                                    > 서점 | 조회수 :866추천수 :0리뷰 :0 |  | 조회수 :866추천수 :0리뷰 :0 |  | 조회수 :866추천수 :0리뷰 :0 | \\n\\n\\n연 락 처 | 053-425-3501\\n홈페이지 | http://www.kyobobook.co.kr/storen/MainStore.laf?SITE=04\\n주소 | 대구광역시 중구 동성로2가 88-25\\n도로명주소 | 대구광역시 중구 국채보상로 586\\n부가정보 | \\n영업시간 | 매일\\xa0\\r\\n\\t\\t\\t\\t\\t\\t\\t\\t\\t\\t\\t\\t\\tAM 10:00 \\r\\n\\t\\t\\t\\t\\t\\t\\t\\t\\t\\t\\t\\t\\t\\t~ \\r\\n\\t\\t\\t\\t\\t\\t\\t\\t\\t\\t\\t\\t\\t\\tPM 22:00\\n카테고리 | 패션쇼핑\\r\\n                                                    > 쇼핑/유통\\r\\n                                                    > 서점\\n조회수 :866추천수 :0리뷰 :0 |  | 조회수 :866추천수 :0리뷰 :0 |  | 조회수 :866추천수 :0리뷰 :0 | \\n | 조회수 :866추천수 :0리뷰 :0 |  | 조회수 :866추천수 :0리뷰 :0 | \\n | 조회수 :866추천수 :0리뷰 :0 | \\n교보문고 대구점 | 국민정신문화 향상, 사회교육적 기능을 살린 문화공간을 창출하는 문고패션쇼핑\\r\\n                                                        >쇼핑/유통\\r\\n                                                        >서점\\n교보문고 대구점\\n\\n\\n\\n연 락 처 | 053-425-3501\\n홈페이지 | http://www.kyobobook.co.kr/storen/MainStore.laf?SITE=04\\n주소 | 대구광역시 중구 동성로2가 88-25\\n도로명주소 | 대구광역시 중구 국채보상로 586\\n부가정보 | \\n영업시간 | 매일\\xa0\\r\\n\\t\\t\\t\\t\\t\\t\\t\\t\\t\\t\\t\\t\\tAM 10:00 \\r\\n\\t\\t\\t\\t\\t\\t\\t\\t\\t\\t\\t\\t\\t\\t~ \\r\\n\\t\\t\\t\\t\\t\\t\\t\\t\\t\\t\\t\\t\\t\\tPM 22:00\\n카테고리 | 패션쇼핑\\r\\n                                                    > 쇼핑/유통\\r\\n                                                    > 서점\\n조회수 :866추천수 :0리뷰 :0 |  | 조회수 :866추천수 :0리뷰 :0 |  | 조회수 :866추천수 :0리뷰 :0 | \\n | 조회수 :866추천수 :0리뷰 :0 |  | 조회수 :866추천수 :0리뷰 :0 | \\n | 조회수 :866추천수 :0리뷰 :0 | \\n | 조회수 :866추천수 :0리뷰 :0 |  | 조회수 :866추천수 :0리뷰 :0 | \\n | 조회수 :866추천수 :0리뷰 :0 | \\n | 조회수 :866추천수 :0리뷰 :0 | \\n\\n\\n\\n\\n등록된 상품정보가 없습니다.등록된 동영상 정보가 없습니다.등록된 정보가 없습니다.1호선(중앙로)1호선(중앙로)2호선(반월당)2호선(반월당)1호선(반월당)1호선(반월당)1호선(대구역)1호선(대구역) |  | \\n\\n\\n\\n\\n\\n\\n\\n\\n\\n\\nCGV대구한일건너 | 간선156\\r,\\r\\r309\\r,\\r\\r323\\r,\\r\\r425\\r,\\r\\r427\\r,\\r\\r521\\r,\\r\\r724\\r,\\r\\r939\\r,\\r\\r980\\nCGV대구한일앞 | 간선106\\r,\\r\\r156\\r,\\r\\r323-1\\r,\\r\\r521\\r,\\r\\r600\\n약령시앞 | 간선106\\r,\\r\\r202\\r,\\r\\r303-1\\r,\\r\\r349\\r,\\r\\r401\\r,\\r\\r410-1\\r,\\r\\r503\\r,\\r\\r518\\r,\\r\\r650\\r,\\r\\r704\\r,\\r\\r706\\r,\\r\\r730\\r,\\r\\r909지선동구1-1\\r,\\r\\r북구2급행급행2\\n경상감영공원건너 | 간선202-1\\r,\\r\\r303\\r,\\r\\r349\\r,\\r\\r401\\r,\\r\\r410\\r,\\r\\r503\\r,\\r\\r623\\r,\\r\\r704\\r,\\r\\r706\\r,\\r\\r730\\r,\\r\\r980지선동구1\\r,\\r\\r가창2\\r,\\r\\r동구2급행급행2\\n2.28기념중앙공원건너1 | 간선508\\r,\\r\\r518\\r,\\r\\r600지선동구1\\r,\\r\\r가창2\\r,\\r\\r북구3급행급행1\\r,\\r\\r급행3\\n약령시건너 | 간선106\\r,\\r\\r202-1\\r,\\r\\r303\\r,\\r\\r349\\r,\\r\\r401\\r,\\r\\r410\\r,\\r\\r503\\r,\\r\\r518\\r,\\r\\r650\\r,\\r\\r704\\r,\\r\\r706\\r,\\r\\r730급행급행2\\n시간대별 유동인구 | 男10대 | 男20대 | 男30대 | 男40대 | 男50대 | 女10대 | 女20대 | 女30대 | 女40대 | 女50대\\n12시~13시까지(주중) | 18명 | 42명 | 68명 | 60명 | 32명 | 16명 | 52명 | 48명 | 32명 | 24명\\n19시~20시까지(주중) | 22명 | 60명 | 102명 | 88명 | 52명 | 22명 | 56명 | 40명 | 30명 | 20명\\n12시~13시까지(주말) | 24명 | 62명 | 50명 | 48명 | 30명 | 18명 | 56명 | 42명 | 24명 | 20명\\n19시~20시까지(주말) | 36명 | 72명 | 88명 | 68명 | 24명 | 32명 | 62명 | 36명 | 20명 | 18명\\n\\n\\n\\n\\n좋은어린이서점 남산점 | 교보문고 대구점 | 모던북\\n | \\n작성자내용점수이용하신 업체의 후기를 자유롭게 적어주세요.(욕설 및 상업적인 광고등은 사전통보없이 삭제됩니다.)작성자별점선택100 점90 점80 점70 점60 점50 점40 점30 점20 점10 점0 점비밀번호76644678보이는 도배방지키를 입력하세요. | 작성자내용점수 | 작성자 | 내용 | 점수 | 이용하신 업체의 후기를 자유롭게 적어주세요.(욕설 및 상업적인 광고등은 사전통보없이 삭제됩니다.)작성자별점선택100 점90 점80 점70 점60 점50 점40 점30 점20 점10 점0 점비밀번호76644678보이는 도배방지키를 입력하세요. |  |  | 이용하신 업체의 후기를 자유롭게 적어주세요.(욕설 및 상업적인 광고등은 사전통보없이 삭제됩니다.) | 작성자별점선택100 점90 점80 점70 점60 점50 점40 점30 점20 점10 점0 점비밀번호 | 작성자 |  | 별점선택100 점90 점80 점70 점60 점50 점40 점30 점20 점10 점0 점 | 비밀번호 | 비밀번호 |  |  | 76644678보이는 도배방지키를 입력하세요. |  |  | 76644678 | 보이는 도배방지키를 입력하세요. |  | \\n작성자내용점수 | 작성자 | 내용 | 점수\\n작성자 | 내용 | 점수\\n이용하신 업체의 후기를 자유롭게 적어주세요.(욕설 및 상업적인 광고등은 사전통보없이 삭제됩니다.)작성자별점선택100 점90 점80 점70 점60 점50 점40 점30 점20 점10 점0 점비밀번호76644678보이는 도배방지키를 입력하세요. |  |  | 이용하신 업체의 후기를 자유롭게 적어주세요.(욕설 및 상업적인 광고등은 사전통보없이 삭제됩니다.) | 작성자별점선택100 점90 점80 점70 점60 점50 점40 점30 점20 점10 점0 점비밀번호 | 작성자 |  | 별점선택100 점90 점80 점70 점60 점50 점40 점30 점20 점10 점0 점 | 비밀번호 | 비밀번호 |  |  | 76644678보이는 도배방지키를 입력하세요. |  |  | 76644678 | 보이는 도배방지키를 입력하세요.\\n | \\n\\n이용하신 업체의 후기를 자유롭게 적어주세요.(욕설 및 상업적인 광고등은 사전통보없이 삭제됩니다.)\\n작성자별점선택100 점90 점80 점70 점60 점50 점40 점30 점20 점10 점0 점비밀번호 | 작성자 |  | 별점선택100 점90 점80 점70 점60 점50 점40 점30 점20 점10 점0 점 | 비밀번호 | 비밀번호 | \\n작성자 |  | 별점선택100 점90 점80 점70 점60 점50 점40 점30 점20 점10 점0 점 | 비밀번호 | 비밀번호 | \\n비밀번호 | \\n\\n76644678보이는 도배방지키를 입력하세요. |  |  | 76644678 | 보이는 도배방지키를 입력하세요.\\n |  | 76644678 | 보이는 도배방지키를 입력하세요.\\n\\n\\n작성자내용점수 | 작성자 | 내용 | 점수\\n작성자 | 내용 | 점수\\n작성자 | 내용 | 점수\\n이용하신 업체의 후기를 자유롭게 적어주세요.(욕설 및 상업적인 광고등은 사전통보없이 삭제됩니다.)작성자별점선택100 점90 점80 점70 점60 점50 점40 점30 점20 점10 점0 점비밀번호76644678보이는 도배방지키를 입력하세요. |  |  | 이용하신 업체의 후기를 자유롭게 적어주세요.(욕설 및 상업적인 광고등은 사전통보없이 삭제됩니다.) | 작성자별점선택100 점90 점80 점70 점60 점50 점40 점30 점20 점10 점0 점비밀번호 | 작성자 |  | 별점선택100 점90 점80 점70 점60 점50 점40 점30 점20 점10 점0 점 | 비밀번호 | 비밀번호 |  |  | 76644678보이는 도배방지키를 입력하세요. |  |  | 76644678 | 보이는 도배방지키를 입력하세요.\\n | \\n\\n이용하신 업체의 후기를 자유롭게 적어주세요.(욕설 및 상업적인 광고등은 사전통보없이 삭제됩니다.)\\n작성자별점선택100 점90 점80 점70 점60 점50 점40 점30 점20 점10 점0 점비밀번호 | 작성자 |  | 별점선택100 점90 점80 점70 점60 점50 점40 점30 점20 점10 점0 점 | 비밀번호 | 비밀번호 | \\n작성자 |  | 별점선택100 점90 점80 점70 점60 점50 점40 점30 점20 점10 점0 점 | 비밀번호 | 비밀번호 | \\n비밀번호 | \\n\\n76644678보이는 도배방지키를 입력하세요. |  |  | 76644678 | 보이는 도배방지키를 입력하세요.\\n |  | 76644678 | 보이는 도배방지키를 입력하세요.\\n\\n\\n | \\n\\n\\n이용하신 업체의 후기를 자유롭게 적어주세요.(욕설 및 상업적인 광고등은 사전통보없이 삭제됩니다.)\\n작성자별점선택100 점90 점80 점70 점60 점50 점40 점30 점20 점10 점0 점비밀번호 | 작성자 |  | 별점선택100 점90 점80 점70 점60 점50 점40 점30 점20 점10 점0 점 | 비밀번호 | 비밀번호 | \\n작성자 |  | 별점선택100 점90 점80 점70 점60 점50 점40 점30 점20 점10 점0 점 | 비밀번호 | 비밀번호 | \\n비밀번호 | \\n\\n76644678보이는 도배방지키를 입력하세요. |  |  | 76644678 | 보이는 도배방지키를 입력하세요.\\n |  | 76644678 | 보이는 도배방지키를 입력하세요.\\n작성자 |  | 별점선택100 점90 점80 점70 점60 점50 점40 점30 점20 점10 점0 점 | 비밀번호 | 비밀번호 | \\n비밀번호 | \\n비밀번호 | \\n |  | 76644678 | 보이는 도배방지키를 입력하세요.\\n로컬뷰는 지역내 업소(기업)정보를 제공하는 온라인 전화번호부 서비스입니다.로컬뷰는 개별업체로 부터 광고비 또는 중계수수료를 받지 않는 무료서비스 입니다Copyright(c) 2010 로컬뷰(LocalView) All Rights Reserved. |  | 로컬뷰는 지역내 업소(기업)정보를 제공하는 온라인 전화번호부 서비스입니다.로컬뷰는 개별업체로 부터 광고비 또는 중계수수료를 받지 않는 무료서비스 입니다Copyright(c) 2010 로컬뷰(LocalView) All Rights Reserved. |  |  |  |  |  |  | 로컬뷰는 지역내 업소(기업)정보를 제공하는 온라인 전화번호부 서비스입니다.로컬뷰는 개별업체로 부터 광고비 또는 중계수수료를 받지 않는 무료서비스 입니다Copyright(c) 2010 로컬뷰(LocalView) All Rights Reserved.\\n | 로컬뷰는 지역내 업소(기업)정보를 제공하는 온라인 전화번호부 서비스입니다.로컬뷰는 개별업체로 부터 광고비 또는 중계수수료를 받지 않는 무료서비스 입니다Copyright(c) 2010 로컬뷰(LocalView) All Rights Reserved. |  |  |  |  |  |  | 로컬뷰는 지역내 업소(기업)정보를 제공하는 온라인 전화번호부 서비스입니다.로컬뷰는 개별업체로 부터 광고비 또는 중계수수료를 받지 않는 무료서비스 입니다Copyright(c) 2010 로컬뷰(LocalView) All Rights Reserved.\\n |  |  |  |  | \\n |  |  |  | \\n로컬뷰는 지역내 업소(기업)정보를 제공하는 온라인 전화번호부 서비스입니다.로컬뷰는 개별업체로 부터 광고비 또는 중계수수료를 받지 않는 무료서비스 입니다Copyright(c) 2010 로컬뷰(LocalView) All Rights Reserved.\\n | 로컬뷰는 지역내 업소(기업)정보를 제공하는 온라인 전화번호부 서비스입니다.로컬뷰는 개별업체로 부터 광고비 또는 중계수수료를 받지 않는 무료서비스 입니다Copyright(c) 2010 로컬뷰(LocalView) All Rights Reserved. |  |  |  |  |  |  | 로컬뷰는 지역내 업소(기업)정보를 제공하는 온라인 전화번호부 서비스입니다.로컬뷰는 개별업체로 부터 광고비 또는 중계수수료를 받지 않는 무료서비스 입니다Copyright(c) 2010 로컬뷰(LocalView) All Rights Reserved.\\n |  |  |  |  | \\n |  |  |  | \\n로컬뷰는 지역내 업소(기업)정보를 제공하는 온라인 전화번호부 서비스입니다.로컬뷰는 개별업체로 부터 광고비 또는 중계수수료를 받지 않는 무료서비스 입니다Copyright(c) 2010 로컬뷰(LocalView) All Rights Reserved.\\n |  |  |  |  | \\n |  |  |  | \\n로컬뷰는 지역내 업소(기업)정보를 제공하는 온라인 전화번호부 서비스입니다.로컬뷰는 개별업체로 부터 광고비 또는 중계수수료를 받지 않는 무료서비스 입니다Copyright(c) 2010 로컬뷰(LocalView) All Rights Reserved.\\n |  |  |  | \\n'}, {'title': '대구 교보문고 대구점 방문 후기 : 네이버 블로그', 'url': 'https://m.blog.naver.com/sh_baekwoon/223359878100', 'content': '대구 교보문고 대구점 방문 후기 : 네이버 블로그 대구 교보문고 대구점 방문 후기 며칠 전 동성로에 다녀오면서 교보문고 대구점도 방문하게 되어서 방문 후기도 포스팅! 대구에는 교보문고 대구점, 교보문고 칠곡점 이렇게 두 군데가 있어요~ 칠곡점은 아직 가보지 못했고 교보문고 대구점은 아이들과 책 구매를 위해 한 번씩 방문해요~ 아이들 키우는 부모들은 책 읽는 게 중요하다고 아이들에게 말하지만 실상은 그 부모들도 한 달에 책 한 권 읽지 않는 사람들이 \\x08상당히 많아요~ 저 또한 책과 친하진 않아요 ㅠㅠ 교보문고 대구점 그래서 도서검색을 할 수 있는 PC가 있는데 사람들도 워낙 많다 보니 사용하기 위해서는 대기를 해야 하지만~ 교보문고 대구점은 검색 PC들이 많이 구비되어 있어서 기다림 없이 검색할 수 있어요~ 혼자서도 필요한 책 잘 검색해요 ㅎ 책 산다고 해서 그냥 그림책 정도인 줄 알았더니 생각보다 글 양이 많더라고요 ㅎ 오랜만에 교보문고 대구점 다녀왔네요~ {\"title\":\"대구 교보문고 대구점 방문 후기\",\"source\":\"https://blog.naver.com/sh_baekwoon/223359878100\",\"blogName\":\"보상의 모..\",\"domainIdOrBlogId\":\"sh_baekwoon\",\"nicknameOrBlogId\":\"권 소장\",\"logNo\":223359878100,\"smartEditorVersion\":4,\"cafeDisplay\":true,\"outsideDisplay\":true,\"lineDisplay\":true,\"blogDisplay\":true,\"meDisplay\":true}', 'score': 0.79293, 'raw_content': '대구 교보문고 대구점 방문 후기 : 네이버 블로그\\n \\n본문 바로가기\\n블로그\\n카테고리 이동 보상의 모든 것\\n\\n검색 MY메뉴 열기\\n일상\\n대구 교보문고 대구점 방문 후기\\n\\n권 소장\\n2024. 2. 21. 0:00\\n이웃추가\\n본문 기타 기능\\n\\n본문 폰트 크기 조정 본문 폰트 크기 작게 보기 본문 폰트 크기 크게 보기 가\\n\\n공감하기\\n\\n\\n공유하기\\n\\nURL복사\\n신고하기\\n\\n안녕하세요. 권승혁 손해사정사입니다.\\n\\u200b\\n최근 업무 포스팅은 못하고 일상과 맛집들로 점점 도배가 되는 같아요~\\n\\u200b\\n업무보다 일상 포스팅이 쓰는 게 더 재미있네요 ㅎ\\n\\u200b\\n며칠 전 동성로에 다녀오면서 교보문고 대구점도 방문하게 되어서 방문 후기도 포스팅!\\n\\u200b\\n대구에는 교보문고 대구점, 교보문고 칠곡점 이렇게 두 군데가 있어요~ 칠곡점은 아직 가보지 못했고 교보문고 대구점은 아이들과 책 구매를 위해 한 번씩 방문해요~\\n\\u200b\\n\\n\\u200b\\n아이들 키우는 부모들은 책 읽는 게 중요하다고 아이들에게 말하지만 실상은 그 부모들도 한 달에 책 한 권 읽지 않는 사람들이 \\x08상당히 많아요~ 저 또한 책과 친하진 않아요 ㅠㅠ\\n\\u200b\\n그래도 아이들이 책을 많이 읽었으면 하죠!\\n그래서 아이들과 시간을 내서 도서관이나 교보문고에 자주 방문하려고 노력합니다!\\n\\n\\n교보문고 대구점\\n\\n\\n교보문고 대구점대구광역시 중구 국채보상로 586 교보생명 동성로사옥 지하2층~3층\\n이 블로그의 체크인\\n이 장소의 다른 글\\n\\u200b\\n대구 동성로에 위치해 있어서 시내 구경하고 놀다가 부담 없이 다녀오기 좋아요~\\n\\u200b\\nB1층이 핫트랙스가 있어서 더 자주 방문하게 되는 거 같아요~\\n\\u200b\\n저희 딸은 핫트랙스에서 정신을 놓고 구경해요~\\n\\u200b\\n\\n\\n\\n도서 검색\\n\\n교보문고에서 책 찾기가 쉽지가 않죠!?\\n(책이 엄청 많아서 찾기가 힘들어요)\\n\\u200b\\n그래서 도서검색을 할 수 있는 PC가 있는데 사람들도 워낙 많다 보니 사용하기 위해서는 대기를 해야 하지만~ 교보문고 대구점은 검색 PC들이 많이 구비되어 있어서 기다림 없이 검색할 수 있어요~\\n\\u200b\\n우리 딸내미도 검색~~\\n혼자서도 필요한 책 잘 검색해요 ㅎ\\n\\u200b\\n\\n\\n\\n\\n책 구매\\n\\n\\x08도서 검색하게 되면 책 위치를 작은 종이에 프린터 해줘요~ 위치까지 딸아이가 찾을 수 있게 옆에서 도와주고 따라다녔어요 ㅎ\\n\\u200b\\n\\n\\u200b\\n찾는 책을 정확하게 찾아왔어요 ㅎ\\n(대견 대견~)\\n\\u200b\\n\\n\\u200b\\n책 산다고 해서 그냥 그림책 정도인 줄 알았더니 생각보다 글 양이 많더라고요 ㅎ\\n\\u200b\\n얼마 전에 스즈메의 문단속 보더니 재미있다고 일본 애니메이션을 차례대로 보더니 너의 이름은까지!\\n\\u200b\\n\\n\\u200b\\n계산도 자기 용돈으로 계산!!\\n대단하다!! 우리 딸!!!\\n\\u200b\\n셀프 계산기도 있어요!\\n\\u200b\\n\\n\\u200b\\n제가 웹툰으로 재미있게 보고 있는 전지적 독자 시점이 소설책으로 상당히 많이 나왔길래 하나 집어 올려다가 핫트랙스 간다고 끌려 나왔어요 ㅎ\\n\\u200b\\n\\n\\u200b\\n소설 좋아하시면 한번 읽어보세요!\\n저도 조만간 읽어볼 예정이에요~\\n\\n\\n핫트랙스\\n\\n교보문고 B1층은 핫트랙스인데요~\\n\\u200b\\n딸내미는 여기도 그냥 지나칠 수 없다고 영혼 없이 핫트랙스로 빨려 들어가네요 ㅠㅠ\\n\\u200b\\n\\n\\u200b\\n맛있겠다~ 이쁘다~를 연발하시는...\\n(뭐가 그렇게 이쁜지 전 잘 모르겠는데..)\\n\\u200b\\n\\n\\u200b\\n요즘 유행이라고 하는 모루 인형 만들기!\\n\\u200b\\n\\n\\u200b\\n이건 비싸고~ 이러쿵저러쿵 ㅋㅋ\\n동네 아줌마 같은 모습을 봤어요ㅋㅋㅋ\\n\\n\\n마무리\\n\\n오랜만에 교보문고 대구점 다녀왔네요~\\n\\u200b\\n책이란 게 읽으면 좋다는 건 알지만 시간이 없다, 바쁘다는 핑계로 멀리하게 되지만~ 아이들과 시간 내서 한 번씩 보는 것도 힐링 되고 좋은 거 같아요~\\n\\u200b\\n전 안보지만 너희들은 읽어라!! ㅎㅎ\\n(아빠도 책 읽는 모습 많이 보여줄게~)\\n\\u200b\\n\\u200b\\n동성로 간식으로 마무리!\\n\\u200b\\n\\n\\n\\u200b\\n\\n#대구교보문고\\n#교보문고대구점\\n#핫트랙스\\n#교보문고주차\\n\\n\\n공감한 사람 보러가기\\n댓글 25 공유하기\\n{\"title\":\"대구 교보문고 대구점 방문 후기\",\"source\":\"https://blog.naver.com/sh_baekwoon/223359878100\",\"blogName\":\"보상의 모..\",\"domainIdOrBlogId\":\"sh_baekwoon\",\"nicknameOrBlogId\":\"권 소장\",\"logNo\":223359878100,\"smartEditorVersion\":4,\"cafeDisplay\":true,\"outsideDisplay\":true,\"lineDisplay\":true,\"blogDisplay\":true,\"meDisplay\":true}\\n닫기\\n카테고리\\n이 블로그 홈\\n\\n공감한 사람 보러가기\\n댓글 25 공유하기\\n권 소장(sh_baekwoon) 님을 이웃추가하고 새글을 받아보세요\\n취소 이웃추가'}, {'title': '대구 교보문고 대구점 방문 후기 : 네이버 블로그', 'url': 'https://m.blog.naver.com/sh_baekwoon/223359878100', 'content': '대구 교보문고 대구점 방문 후기 : 네이버 블로그 대구 교보문고 대구점 방문 후기 며칠 전 동성로에 다녀오면서 교보문고 대구점도 방문하게 되어서 방문 후기도 포스팅! 대구에는 교보문고 대구점, 교보문고 칠곡점 이렇게 두 군데가 있어요~ 칠곡점은 아직 가보지 못했고 교보문고 대구점은 아이들과 책 구매를 위해 한 번씩 방문해요~ 아이들 키우는 부모들은 책 읽는 게 중요하다고 아이들에게 말하지만 실상은 그 부모들도 한 달에 책 한 권 읽지 않는 사람들이 \\x08상당히 많아요~ 저 또한 책과 친하진 않아요 ㅠㅠ 교보문고 대구점 그래서 도서검색을 할 수 있는 PC가 있는데 사람들도 워낙 많다 보니 사용하기 위해서는 대기를 해야 하지만~ 교보문고 대구점은 검색 PC들이 많이 구비되어 있어서 기다림 없이 검색할 수 있어요~ 혼자서도 필요한 책 잘 검색해요 ㅎ 책 산다고 해서 그냥 그림책 정도인 줄 알았더니 생각보다 글 양이 많더라고요 ㅎ 오랜만에 교보문고 대구점 다녀왔네요~ {\"title\":\"대구 교보문고 대구점 방문 후기\",\"source\":\"https://blog.naver.com/sh_baekwoon/223359878100\",\"blogName\":\"보상의 모..\",\"domainIdOrBlogId\":\"sh_baekwoon\",\"nicknameOrBlogId\":\"권 소장\",\"logNo\":223359878100,\"smartEditorVersion\":4,\"cafeDisplay\":true,\"outsideDisplay\":true,\"lineDisplay\":true,\"blogDisplay\":true,\"meDisplay\":true}', 'score': 0.79293, 'raw_content': '대구 교보문고 대구점 방문 후기 : 네이버 블로그\\n \\n본문 바로가기\\n블로그\\n카테고리 이동 보상의 모든 것\\n\\n검색 MY메뉴 열기\\n일상\\n대구 교보문고 대구점 방문 후기\\n\\n권 소장\\n2024. 2. 21. 0:00\\n이웃추가\\n본문 기타 기능\\n\\n본문 폰트 크기 조정 본문 폰트 크기 작게 보기 본문 폰트 크기 크게 보기 가\\n\\n공감하기\\n\\n\\n공유하기\\n\\nURL복사\\n신고하기\\n\\n안녕하세요. 권승혁 손해사정사입니다.\\n\\u200b\\n최근 업무 포스팅은 못하고 일상과 맛집들로 점점 도배가 되는 같아요~\\n\\u200b\\n업무보다 일상 포스팅이 쓰는 게 더 재미있네요 ㅎ\\n\\u200b\\n며칠 전 동성로에 다녀오면서 교보문고 대구점도 방문하게 되어서 방문 후기도 포스팅!\\n\\u200b\\n대구에는 교보문고 대구점, 교보문고 칠곡점 이렇게 두 군데가 있어요~ 칠곡점은 아직 가보지 못했고 교보문고 대구점은 아이들과 책 구매를 위해 한 번씩 방문해요~\\n\\u200b\\n\\n\\u200b\\n아이들 키우는 부모들은 책 읽는 게 중요하다고 아이들에게 말하지만 실상은 그 부모들도 한 달에 책 한 권 읽지 않는 사람들이 \\x08상당히 많아요~ 저 또한 책과 친하진 않아요 ㅠㅠ\\n\\u200b\\n그래도 아이들이 책을 많이 읽었으면 하죠!\\n그래서 아이들과 시간을 내서 도서관이나 교보문고에 자주 방문하려고 노력합니다!\\n\\n\\n교보문고 대구점\\n\\n\\n교보문고 대구점대구광역시 중구 국채보상로 586 교보생명 동성로사옥 지하2층~3층\\n이 블로그의 체크인\\n이 장소의 다른 글\\n\\u200b\\n대구 동성로에 위치해 있어서 시내 구경하고 놀다가 부담 없이 다녀오기 좋아요~\\n\\u200b\\nB1층이 핫트랙스가 있어서 더 자주 방문하게 되는 거 같아요~\\n\\u200b\\n저희 딸은 핫트랙스에서 정신을 놓고 구경해요~\\n\\u200b\\n\\n\\n\\n도서 검색\\n\\n교보문고에서 책 찾기가 쉽지가 않죠!?\\n(책이 엄청 많아서 찾기가 힘들어요)\\n\\u200b\\n그래서 도서검색을 할 수 있는 PC가 있는데 사람들도 워낙 많다 보니 사용하기 위해서는 대기를 해야 하지만~ 교보문고 대구점은 검색 PC들이 많이 구비되어 있어서 기다림 없이 검색할 수 있어요~\\n\\u200b\\n우리 딸내미도 검색~~\\n혼자서도 필요한 책 잘 검색해요 ㅎ\\n\\u200b\\n\\n\\n\\n\\n책 구매\\n\\n\\x08도서 검색하게 되면 책 위치를 작은 종이에 프린터 해줘요~ 위치까지 딸아이가 찾을 수 있게 옆에서 도와주고 따라다녔어요 ㅎ\\n\\u200b\\n\\n\\u200b\\n찾는 책을 정확하게 찾아왔어요 ㅎ\\n(대견 대견~)\\n\\u200b\\n\\n\\u200b\\n책 산다고 해서 그냥 그림책 정도인 줄 알았더니 생각보다 글 양이 많더라고요 ㅎ\\n\\u200b\\n얼마 전에 스즈메의 문단속 보더니 재미있다고 일본 애니메이션을 차례대로 보더니 너의 이름은까지!\\n\\u200b\\n\\n\\u200b\\n계산도 자기 용돈으로 계산!!\\n대단하다!! 우리 딸!!!\\n\\u200b\\n셀프 계산기도 있어요!\\n\\u200b\\n\\n\\u200b\\n제가 웹툰으로 재미있게 보고 있는 전지적 독자 시점이 소설책으로 상당히 많이 나왔길래 하나 집어 올려다가 핫트랙스 간다고 끌려 나왔어요 ㅎ\\n\\u200b\\n\\n\\u200b\\n소설 좋아하시면 한번 읽어보세요!\\n저도 조만간 읽어볼 예정이에요~\\n\\n\\n핫트랙스\\n\\n교보문고 B1층은 핫트랙스인데요~\\n\\u200b\\n딸내미는 여기도 그냥 지나칠 수 없다고 영혼 없이 핫트랙스로 빨려 들어가네요 ㅠㅠ\\n\\u200b\\n\\n\\u200b\\n맛있겠다~ 이쁘다~를 연발하시는...\\n(뭐가 그렇게 이쁜지 전 잘 모르겠는데..)\\n\\u200b\\n\\n\\u200b\\n요즘 유행이라고 하는 모루 인형 만들기!\\n\\u200b\\n\\n\\u200b\\n이건 비싸고~ 이러쿵저러쿵 ㅋㅋ\\n동네 아줌마 같은 모습을 봤어요ㅋㅋㅋ\\n\\n\\n마무리\\n\\n오랜만에 교보문고 대구점 다녀왔네요~\\n\\u200b\\n책이란 게 읽으면 좋다는 건 알지만 시간이 없다, 바쁘다는 핑계로 멀리하게 되지만~ 아이들과 시간 내서 한 번씩 보는 것도 힐링 되고 좋은 거 같아요~\\n\\u200b\\n전 안보지만 너희들은 읽어라!! ㅎㅎ\\n(아빠도 책 읽는 모습 많이 보여줄게~)\\n\\u200b\\n\\u200b\\n동성로 간식으로 마무리!\\n\\u200b\\n\\n\\n\\u200b\\n\\n#대구교보문고\\n#교보문고대구점\\n#핫트랙스\\n#교보문고주차\\n\\n\\n공감한 사람 보러가기\\n댓글 25 공유하기\\n{\"title\":\"대구 교보문고 대구점 방문 후기\",\"source\":\"https://blog.naver.com/sh_baekwoon/223359878100\",\"blogName\":\"보상의 모..\",\"domainIdOrBlogId\":\"sh_baekwoon\",\"nicknameOrBlogId\":\"권 소장\",\"logNo\":223359878100,\"smartEditorVersion\":4,\"cafeDisplay\":true,\"outsideDisplay\":true,\"lineDisplay\":true,\"blogDisplay\":true,\"meDisplay\":true}\\n닫기\\n카테고리\\n이 블로그 홈\\n\\n공감한 사람 보러가기\\n댓글 25 공유하기\\n권 소장(sh_baekwoon) 님을 이웃추가하고 새글을 받아보세요\\n취소 이웃추가'}]\n",
      "-------------------\n",
      "\n",
      "-------------------\n",
      "web_results_docs: \n",
      "[Document(metadata={'source': 'https://www.localview.co.kr/store/detail.asp?seq=600977851'}, page_content='국민정신문화 향상, 사회교육적 기능을 살린 문화공간을 창출하는 문고 대구광역시 중구 동성로2가 위치, 영업점, 이벤트, 행사 등 안내, 보유도서 검색 제공. 대구의 중심가 동성로에 있는 교보문고 대구점은 총 면적 1,900평의 넓은 매장과 15만 종 30만 권의 방대한 도서를 바탕으로 대구를 대표하는'), Document(metadata={'source': 'https://www.localview.co.kr/store/detail.asp?seq=600977851'}, page_content='국민정신문화 향상, 사회교육적 기능을 살린 문화공간을 창출하는 문고 대구광역시 중구 동성로2가 위치, 영업점, 이벤트, 행사 등 안내, 보유도서 검색 제공. 대구의 중심가 동성로에 있는 교보문고 대구점은 총 면적 1,900평의 넓은 매장과 15만 종 30만 권의 방대한 도서를 바탕으로 대구를 대표하는'), Document(metadata={'source': 'https://m.blog.naver.com/sh_baekwoon/223359878100'}, page_content='대구 교보문고 대구점 방문 후기 : 네이버 블로그 대구 교보문고 대구점 방문 후기 며칠 전 동성로에 다녀오면서 교보문고 대구점도 방문하게 되어서 방문 후기도 포스팅! 대구에는 교보문고 대구점, 교보문고 칠곡점 이렇게 두 군데가 있어요~ 칠곡점은 아직 가보지 못했고 교보문고 대구점은 아이들과 책 구매를 위해 한 번씩 방문해요~ 아이들 키우는 부모들은 책 읽는 게 중요하다고 아이들에게 말하지만 실상은 그 부모들도 한 달에 책 한 권 읽지 않는 사람들이 \\x08상당히 많아요~ 저 또한 책과 친하진 않아요 ㅠㅠ 교보문고 대구점 그래서 도서검색을 할 수 있는 PC가 있는데 사람들도 워낙 많다 보니 사용하기 위해서는 대기를 해야 하지만~ 교보문고 대구점은 검색 PC들이 많이 구비되어 있어서 기다림 없이 검색할 수 있어요~ 혼자서도 필요한 책 잘 검색해요 ㅎ 책 산다고 해서 그냥 그림책 정도인 줄 알았더니 생각보다 글 양이 많더라고요 ㅎ 오랜만에 교보문고 대구점 다녀왔네요~ {\"title\":\"대구 교보문고 대구점 방문 후기\",\"source\":\"https://blog.naver.com/sh_baekwoon/223359878100\",\"blogName\":\"보상의 모..\",\"domainIdOrBlogId\":\"sh_baekwoon\",\"nicknameOrBlogId\":\"권 소장\",\"logNo\":223359878100,\"smartEditorVersion\":4,\"cafeDisplay\":true,\"outsideDisplay\":true,\"lineDisplay\":true,\"blogDisplay\":true,\"meDisplay\":true}'), Document(metadata={'source': 'https://m.blog.naver.com/sh_baekwoon/223359878100'}, page_content='대구 교보문고 대구점 방문 후기 : 네이버 블로그 대구 교보문고 대구점 방문 후기 며칠 전 동성로에 다녀오면서 교보문고 대구점도 방문하게 되어서 방문 후기도 포스팅! 대구에는 교보문고 대구점, 교보문고 칠곡점 이렇게 두 군데가 있어요~ 칠곡점은 아직 가보지 못했고 교보문고 대구점은 아이들과 책 구매를 위해 한 번씩 방문해요~ 아이들 키우는 부모들은 책 읽는 게 중요하다고 아이들에게 말하지만 실상은 그 부모들도 한 달에 책 한 권 읽지 않는 사람들이 \\x08상당히 많아요~ 저 또한 책과 친하진 않아요 ㅠㅠ 교보문고 대구점 그래서 도서검색을 할 수 있는 PC가 있는데 사람들도 워낙 많다 보니 사용하기 위해서는 대기를 해야 하지만~ 교보문고 대구점은 검색 PC들이 많이 구비되어 있어서 기다림 없이 검색할 수 있어요~ 혼자서도 필요한 책 잘 검색해요 ㅎ 책 산다고 해서 그냥 그림책 정도인 줄 알았더니 생각보다 글 양이 많더라고요 ㅎ 오랜만에 교보문고 대구점 다녀왔네요~ {\"title\":\"대구 교보문고 대구점 방문 후기\",\"source\":\"https://blog.naver.com/sh_baekwoon/223359878100\",\"blogName\":\"보상의 모..\",\"domainIdOrBlogId\":\"sh_baekwoon\",\"nicknameOrBlogId\":\"권 소장\",\"logNo\":223359878100,\"smartEditorVersion\":4,\"cafeDisplay\":true,\"outsideDisplay\":true,\"lineDisplay\":true,\"blogDisplay\":true,\"meDisplay\":true}')]\n",
      "-------------------\n",
      "\n",
      "==========================================================================================\n",
      "\n",
      "===== for 시작 1 =====\n",
      "== for 시작 1 - 1 ==\n",
      "state_key : web_search\n",
      "state_value: \n",
      " {'documents': [Document(metadata={'source': 'https://www.localview.co.kr/store/detail.asp?seq=600977851'}, page_content='국민정신문화 향상, 사회교육적 기능을 살린 문화공간을 창출하는 문고 대구광역시 중구 동성로2가 위치, 영업점, 이벤트, 행사 등 안내, 보유도서 검색 제공. 대구의 중심가 동성로에 있는 교보문고 대구점은 총 면적 1,900평의 넓은 매장과 15만 종 30만 권의 방대한 도서를 바탕으로 대구를 대표하는'), Document(metadata={'source': 'https://www.localview.co.kr/store/detail.asp?seq=600977851'}, page_content='국민정신문화 향상, 사회교육적 기능을 살린 문화공간을 창출하는 문고 대구광역시 중구 동성로2가 위치, 영업점, 이벤트, 행사 등 안내, 보유도서 검색 제공. 대구의 중심가 동성로에 있는 교보문고 대구점은 총 면적 1,900평의 넓은 매장과 15만 종 30만 권의 방대한 도서를 바탕으로 대구를 대표하는'), Document(metadata={'source': 'https://m.blog.naver.com/sh_baekwoon/223359878100'}, page_content='대구 교보문고 대구점 방문 후기 : 네이버 블로그 대구 교보문고 대구점 방문 후기 며칠 전 동성로에 다녀오면서 교보문고 대구점도 방문하게 되어서 방문 후기도 포스팅! 대구에는 교보문고 대구점, 교보문고 칠곡점 이렇게 두 군데가 있어요~ 칠곡점은 아직 가보지 못했고 교보문고 대구점은 아이들과 책 구매를 위해 한 번씩 방문해요~ 아이들 키우는 부모들은 책 읽는 게 중요하다고 아이들에게 말하지만 실상은 그 부모들도 한 달에 책 한 권 읽지 않는 사람들이 \\x08상당히 많아요~ 저 또한 책과 친하진 않아요 ㅠㅠ 교보문고 대구점 그래서 도서검색을 할 수 있는 PC가 있는데 사람들도 워낙 많다 보니 사용하기 위해서는 대기를 해야 하지만~ 교보문고 대구점은 검색 PC들이 많이 구비되어 있어서 기다림 없이 검색할 수 있어요~ 혼자서도 필요한 책 잘 검색해요 ㅎ 책 산다고 해서 그냥 그림책 정도인 줄 알았더니 생각보다 글 양이 많더라고요 ㅎ 오랜만에 교보문고 대구점 다녀왔네요~ {\"title\":\"대구 교보문고 대구점 방문 후기\",\"source\":\"https://blog.naver.com/sh_baekwoon/223359878100\",\"blogName\":\"보상의 모..\",\"domainIdOrBlogId\":\"sh_baekwoon\",\"nicknameOrBlogId\":\"권 소장\",\"logNo\":223359878100,\"smartEditorVersion\":4,\"cafeDisplay\":true,\"outsideDisplay\":true,\"lineDisplay\":true,\"blogDisplay\":true,\"meDisplay\":true}'), Document(metadata={'source': 'https://m.blog.naver.com/sh_baekwoon/223359878100'}, page_content='대구 교보문고 대구점 방문 후기 : 네이버 블로그 대구 교보문고 대구점 방문 후기 며칠 전 동성로에 다녀오면서 교보문고 대구점도 방문하게 되어서 방문 후기도 포스팅! 대구에는 교보문고 대구점, 교보문고 칠곡점 이렇게 두 군데가 있어요~ 칠곡점은 아직 가보지 못했고 교보문고 대구점은 아이들과 책 구매를 위해 한 번씩 방문해요~ 아이들 키우는 부모들은 책 읽는 게 중요하다고 아이들에게 말하지만 실상은 그 부모들도 한 달에 책 한 권 읽지 않는 사람들이 \\x08상당히 많아요~ 저 또한 책과 친하진 않아요 ㅠㅠ 교보문고 대구점 그래서 도서검색을 할 수 있는 PC가 있는데 사람들도 워낙 많다 보니 사용하기 위해서는 대기를 해야 하지만~ 교보문고 대구점은 검색 PC들이 많이 구비되어 있어서 기다림 없이 검색할 수 있어요~ 혼자서도 필요한 책 잘 검색해요 ㅎ 책 산다고 해서 그냥 그림책 정도인 줄 알았더니 생각보다 글 양이 많더라고요 ㅎ 오랜만에 교보문고 대구점 다녀왔네요~ {\"title\":\"대구 교보문고 대구점 방문 후기\",\"source\":\"https://blog.naver.com/sh_baekwoon/223359878100\",\"blogName\":\"보상의 모..\",\"domainIdOrBlogId\":\"sh_baekwoon\",\"nicknameOrBlogId\":\"권 소장\",\"logNo\":223359878100,\"smartEditorVersion\":4,\"cafeDisplay\":true,\"outsideDisplay\":true,\"lineDisplay\":true,\"blogDisplay\":true,\"meDisplay\":true}')]}\n",
      "== for  끝 1 - 1==\n",
      "===== for 끝 1 =====\n",
      "\n",
      "==========================================================================================\n",
      "🔄 [Node] 답변 생성 노드 🔄\n",
      "-------------------\n",
      "교보문고 대구점은 대구광역시 중구 동성로2가에 위치하며, 총 면적은 1,900평이고, 15만 종 30만 권의 도서를 보유하고 있습니다.\n",
      "\n",
      "**Source**\n",
      "- https://www.localview.co.kr/store/detail.asp?seq=600977851\n",
      "- https://m.blog.naver.com/sh_baekwoon/223359878100\n",
      "-------------------\n",
      "\n",
      "==========================================================================================\n",
      "\n",
      "\n",
      "==========================================================================================\n",
      "🔄 [Node] Hallucination 평가 노드 🔄\n",
      "===== [평가 결과] =====\n",
      "yes\n",
      "\n",
      "===== [DECISION: GENERATION IS GROUNDED IN DOCUMENTS] =====\n",
      "no hallucination\n",
      "\n",
      "===== [GRADE GENERATED ANSWER vs QUESTION] =====\n",
      "\n",
      "==== [DECISION: GENERATED ANSWER ADDRESSES QUESTION] ====\n",
      "relevant\n",
      "\n",
      "==========================================================================================\n",
      "\n",
      "===== for 시작 2 =====\n",
      "== for 시작 2 - 1 ==\n",
      "state_key : generate\n",
      "state_value: \n",
      " {'generation': '교보문고 대구점은 대구광역시 중구 동성로2가에 위치하며, 총 면적은 1,900평이고, 15만 종 30만 권의 도서를 보유하고 있습니다.\\n\\n**Source**\\n- https://www.localview.co.kr/store/detail.asp?seq=600977851\\n- https://m.blog.naver.com/sh_baekwoon/223359878100'}\n",
      "== for  끝 2 - 1==\n",
      "===== for 끝 2 =====\n"
     ]
    }
   ],
   "source": [
    "config = RunnableConfig(                        # config 설정\n",
    "    recursion_limit=20,                         # 최대 20개의 노드까지 방문.\n",
    "    configurable={'thread_id': random_uuid()}   # thread_id 설정\n",
    ")\n",
    "\n",
    "inputs = GraphState(question='대구 교보문고')\n",
    "\n",
    "i = 1\n",
    "\n",
    "for chunk in app.stream(inputs, config=config, stream_mode=\"updates\"):\n",
    "    print(f\"===== for 시작 {i} =====\")\n",
    "\n",
    "    j = 1\n",
    "\n",
    "\n",
    "    for state_key, state_value in chunk.items():\n",
    "        print(f\"== for 시작 {i} - {j} ==\")\n",
    "        print(f\"state_key : {state_key }\")\n",
    "        print(f\"state_value: \\n {state_value}\")\n",
    "        print(f\"== for  끝 {i} - {j}==\")\n",
    "\n",
    "        j=j+1\n",
    "    \n",
    "    print(f\"===== for 끝 {i} =====\")\n",
    "    i=i+1"
   ]
  },
  {
   "cell_type": "code",
   "execution_count": 101,
   "metadata": {},
   "outputs": [
    {
     "name": "stdout",
     "output_type": "stream",
     "text": [
      "\n",
      "==========================================================================================\n",
      "🔄 [Node] 질문 라우팅 노드 🔄\n",
      "==== [ROUTE QUESTION TO VECTORSTORE] ====\n",
      "==========================================================================================\n",
      "\n",
      "\n",
      "==========================================================================================\n",
      "🔄 [Node] 문서 검색 노드 🔄\n",
      "-------------------\n",
      "[Document(id='c1407987-c24e-4f7b-9a9d-af8f87ee6bc0', metadata={'source': 'data/SPRI_AI_Brief_2023년12월호_F.pdf', 'file_path': 'data/SPRI_AI_Brief_2023년12월호_F.pdf', 'page': 1, 'total_pages': 23, 'Author': 'dj', 'Creator': 'Hwp 2018 10.0.0.13462', 'Producer': 'Hancom PDF 1.3.0.542', 'CreationDate': \"D:20231208132838+09'00'\", 'ModDate': \"D:20231208132838+09'00'\", 'PDFVersion': '1.4'}, page_content='▹ 삼성전자, 자체 개발 생성 AI ‘삼성 가우스’ 공개 ···························································10\\n▹ 구글, 앤스로픽에 20억 달러 투자로 생성 AI 협력 강화 ················································11\\n▹ IDC, 2027년 AI 소프트웨어 매출 2,500억 달러 돌파 전망···········································12'), Document(id='9d1c9684-6dd4-4f87-b719-b0cf7c8c4679', metadata={'source': 'data/SPRI_AI_Brief_2023년12월호_F.pdf', 'file_path': 'data/SPRI_AI_Brief_2023년12월호_F.pdf', 'page': 12, 'total_pages': 23, 'Author': 'dj', 'Creator': 'Hwp 2018 10.0.0.13462', 'Producer': 'Hancom PDF 1.3.0.542', 'CreationDate': \"D:20231208132838+09'00'\", 'ModDate': \"D:20231208132838+09'00'\", 'PDFVersion': '1.4'}, page_content='SPRi AI Brief |\\n2023-12월호\\n삼성전자, 자체 개발 생성 AI ‘삼성 가우스’ 공개\\nKEY Contents\\nn 삼성전자가 온디바이스에서 작동 가능하며 언어, 코드, 이미지의 3개 모델로 구성된 자체 개발 생성\\nAI 모델 ‘삼성 가우스’를 공개\\nn 삼성전자는 삼성 가우스를 다양한 제품에 단계적으로 탑재할 계획으로, 온디바이스 작동이 가능한\\n삼성 가우스는 외부로 사용자 정보가 유출될 위험이 없다는 장점을 보유\\n£언어, 코드, 이미지의 3개 모델로 구성된 삼성 가우스, 온디바이스 작동 지원'), Document(id='b9ed246b-2d76-4e6c-b1c4-df10d228f9df', metadata={'source': 'data/SPRI_AI_Brief_2023년12월호_F.pdf', 'file_path': 'data/SPRI_AI_Brief_2023년12월호_F.pdf', 'page': 12, 'total_pages': 23, 'Author': 'dj', 'Creator': 'Hwp 2018 10.0.0.13462', 'Producer': 'Hancom PDF 1.3.0.542', 'CreationDate': \"D:20231208132838+09'00'\", 'ModDate': \"D:20231208132838+09'00'\", 'PDFVersion': '1.4'}, page_content='어시스턴트를 적용한 구글 픽셀(Pixel)과 경쟁할 것으로 예상\\n☞ 출처 : 삼성전자, ‘삼성 AI 포럼’서 자체 개발 생성형 AI ‘삼성 가우스’ 공개, 2023.11.08.\\n삼성전자, ‘삼성 개발자 콘퍼런스 코리아 2023’ 개최, 2023.11.14.\\nTechRepublic, Samsung Gauss: Samsung Research Reveals Generative AI, 2023.11.08.\\n10'), Document(id='072c7184-421f-4b05-895b-053c001f4eee', metadata={'source': 'data/SPRI_AI_Brief_2023년12월호_F.pdf', 'file_path': 'data/SPRI_AI_Brief_2023년12월호_F.pdf', 'page': 12, 'total_pages': 23, 'Author': 'dj', 'Creator': 'Hwp 2018 10.0.0.13462', 'Producer': 'Hancom PDF 1.3.0.542', 'CreationDate': \"D:20231208132838+09'00'\", 'ModDate': \"D:20231208132838+09'00'\", 'PDFVersion': '1.4'}, page_content='£언어, 코드, 이미지의 3개 모델로 구성된 삼성 가우스, 온디바이스 작동 지원\\nn 삼성전자가 2023년 11월 8일 열린 ‘삼성 AI 포럼 2023’ 행사에서 자체 개발한 생성 AI 모델\\n‘삼성 가우스’를 최초 공개\\n∙ 정규분포 이론을 정립한 천재 수학자 가우스(Gauss)의 이름을 본뜬 삼성 가우스는 다양한 상황에\\n최적화된 크기의 모델 선택이 가능\\n∙ 삼성 가우스는 라이선스나 개인정보를 침해하지 않는 안전한 데이터를 통해 학습되었으며,\\n온디바이스에서 작동하도록 설계되어 외부로 사용자의 정보가 유출되지 않는 장점을 보유'), Document(id='d20c493a-1f0e-4ca5-8ff1-819dda28fd6f', metadata={'source': 'data/SPRI_AI_Brief_2023년12월호_F.pdf', 'file_path': 'data/SPRI_AI_Brief_2023년12월호_F.pdf', 'page': 12, 'total_pages': 23, 'Author': 'dj', 'Creator': 'Hwp 2018 10.0.0.13462', 'Producer': 'Hancom PDF 1.3.0.542', 'CreationDate': \"D:20231208132838+09'00'\", 'ModDate': \"D:20231208132838+09'00'\", 'PDFVersion': '1.4'}, page_content='처리를 지원\\n∙ 코드 모델 기반의 AI 코딩 어시스턴트 ‘코드아이(code.i)’는 대화형 인터페이스로 서비스를 제공하며\\n사내 소프트웨어 개발에 최적화\\n∙ 이미지 모델은 창의적인 이미지를 생성하고 기존 이미지를 원하는 대로 바꿀 수 있도록 지원하며\\n저해상도 이미지의 고해상도 전환도 지원\\nn IT 전문지 테크리퍼블릭(TechRepublic)은 온디바이스 AI가 주요 기술 트렌드로 부상했다며,\\n2024년부터 가우스를 탑재한 삼성 스마트폰이 메타의 라마(Llama)2를 탑재한 퀄컴 기기 및 구글'), Document(id='4bbc56cd-5e33-4347-a585-891f00bce829', metadata={'source': 'data/SPRI_AI_Brief_2023년12월호_F.pdf', 'file_path': 'data/SPRI_AI_Brief_2023년12월호_F.pdf', 'page': 12, 'total_pages': 23, 'Author': 'dj', 'Creator': 'Hwp 2018 10.0.0.13462', 'Producer': 'Hancom PDF 1.3.0.542', 'CreationDate': \"D:20231208132838+09'00'\", 'ModDate': \"D:20231208132838+09'00'\", 'PDFVersion': '1.4'}, page_content='온디바이스에서 작동하도록 설계되어 외부로 사용자의 정보가 유출되지 않는 장점을 보유\\n∙ 삼성전자는 삼성 가우스를 활용한 온디바이스 AI 기술도 소개했으며, 생성 AI 모델을 다양한 제품에\\n단계적으로 탑재할 계획\\nn 삼성 가우스는 △텍스트를 생성하는 언어모델 △코드를 생성하는 코드 모델 △이미지를 생성하는\\n이미지 모델의 3개 모델로 구성\\n∙ 언어 모델은 클라우드와 온디바이스 대상 다양한 모델로 구성되며, 메일 작성, 문서 요약, 번역 업무의\\n처리를 지원'), Document(id='93383986-36e4-4d89-a57d-7685c8e81945', metadata={'source': 'data/SPRI_AI_Brief_2023년12월호_F.pdf', 'file_path': 'data/SPRI_AI_Brief_2023년12월호_F.pdf', 'page': 1, 'total_pages': 23, 'Author': 'dj', 'Creator': 'Hwp 2018 10.0.0.13462', 'Producer': 'Hancom PDF 1.3.0.542', 'CreationDate': \"D:20231208132838+09'00'\", 'ModDate': \"D:20231208132838+09'00'\", 'PDFVersion': '1.4'}, page_content='▹ 빌 게이츠, AI 에이전트로 인한 컴퓨터 사용의 패러다임 변화 전망································13\\n▹ 유튜브, 2024년부터 AI 생성 콘텐츠 표시 의무화····························································14\\n3. 기술/연구\\n▹ 영국 과학혁신기술부, AI 안전 연구소 설립 발표······························································15'), Document(id='3a4ee943-55d1-4b0c-8620-5a35a0898905', metadata={'source': 'data/SPRI_AI_Brief_2023년12월호_F.pdf', 'file_path': 'data/SPRI_AI_Brief_2023년12월호_F.pdf', 'page': 18, 'total_pages': 23, 'Author': 'dj', 'Creator': 'Hwp 2018 10.0.0.13462', 'Producer': 'Hancom PDF 1.3.0.542', 'CreationDate': \"D:20231208132838+09'00'\", 'ModDate': \"D:20231208132838+09'00'\", 'PDFVersion': '1.4'}, page_content='<구글 딥마인드의 범용 AI 분류 프레임워크>\\n성능 특수 AI 예시 범용 AI 예시\\n0단계: AI 아님 계산기 소프트웨어, 컴파일러 아마존 메커니컬 터크\\n1단계: 신진(숙련되지 않은 인간) GOFAI(Good Old Fashioned Artificial Intelligence) 챗GPT, 바드, 라마2\\n스마트 스피커(애플 시리, 아마존 알렉사, 구글\\n2단계: 유능(숙련된 인간의 50% 이상) 미달성\\n어시스턴트), IBM 왓슨\\n3단계: 전문가(숙련된 인간의 90% 이상) 문법 교정기(그래머리), 생성 이미지 모델(달리2) 미달성'), Document(id='a380b69c-8bdc-45b3-9dc6-befdc28cd6b9', metadata={'source': 'data/SPRI_AI_Brief_2023년12월호_F.pdf', 'file_path': 'data/SPRI_AI_Brief_2023년12월호_F.pdf', 'page': 11, 'total_pages': 23, 'Author': 'dj', 'Creator': 'Hwp 2018 10.0.0.13462', 'Producer': 'Hancom PDF 1.3.0.542', 'CreationDate': \"D:20231208132838+09'00'\", 'ModDate': \"D:20231208132838+09'00'\", 'PDFVersion': '1.4'}, page_content='제작을 포함\\nn 알리바바 클라우드는 급증하는 생성 AI 수요에 대응해 모델 개발과 애플리케이션 구축 절차를\\n간소화하는 올인원 AI 모델 구축 플랫폼 ‘젠AI(GenAI)’도 공개\\n∙ 이 플랫폼은 데이터 관리, 모델 배포와 평가, 신속한 엔지니어링을 위한 종합 도구 모음을 제공하여\\n다양한 기업들이 맞춤형 AI 모델을 한층 쉽게 개발할 수 있도록 지원\\n∙ 생성 AI 개발에 필요한 컴퓨팅과 데이터 처리 요구사항을 지원하기 위해 AI 플랫폼(PAI),\\n데이터베이스 솔루션, 컨테이너 서비스와 같은 클라우드 신제품도 발표'), Document(id='fd2624fe-2cd5-441d-85a7-525aa9b9781f', metadata={'source': 'data/SPRI_AI_Brief_2023년12월호_F.pdf', 'file_path': 'data/SPRI_AI_Brief_2023년12월호_F.pdf', 'page': 7, 'total_pages': 23, 'Author': 'dj', 'Creator': 'Hwp 2018 10.0.0.13462', 'Producer': 'Hancom PDF 1.3.0.542', 'CreationDate': \"D:20231208132838+09'00'\", 'ModDate': \"D:20231208132838+09'00'\", 'PDFVersion': '1.4'}, page_content='만들었다고 오해할 소지가 있다고 지적\\n∙ 저작권법에 저촉되는 행위는 불공정 경쟁이나 기만행위에도 해당될 수 있으며, 창작자의 평판 악화,\\n저작물의 가치 저하나 개인정보 유출로 소비자에 상당한 피해를 초래 가능\\nn FTC는 일부 빅테크가 막대한 재원을 활용해 생성 AI 사용자의 이탈을 막고 저작권이 있는 상용\\n데이터에 대한 독점 라이선스를 확보해 시장 지배력을 더욱 강화할 수 있다는 우려도 제기\\n∙ 이와 관련 FTC는 아마존 AI 비서 ‘알렉사(Alexa)’와 스마트홈 보안 기기 ‘링(Ring)’이 소비자의 사적')]\n",
      "-------------------\n",
      "==========================================================================================\n",
      "\n",
      "===== for 시작 1 =====\n",
      "== for 시작 1 - 1 ==\n",
      "state_key : retrieve\n",
      "state_value: \n",
      " {'documents': [Document(id='c1407987-c24e-4f7b-9a9d-af8f87ee6bc0', metadata={'source': 'data/SPRI_AI_Brief_2023년12월호_F.pdf', 'file_path': 'data/SPRI_AI_Brief_2023년12월호_F.pdf', 'page': 1, 'total_pages': 23, 'Author': 'dj', 'Creator': 'Hwp 2018 10.0.0.13462', 'Producer': 'Hancom PDF 1.3.0.542', 'CreationDate': \"D:20231208132838+09'00'\", 'ModDate': \"D:20231208132838+09'00'\", 'PDFVersion': '1.4'}, page_content='▹ 삼성전자, 자체 개발 생성 AI ‘삼성 가우스’ 공개 ···························································10\\n▹ 구글, 앤스로픽에 20억 달러 투자로 생성 AI 협력 강화 ················································11\\n▹ IDC, 2027년 AI 소프트웨어 매출 2,500억 달러 돌파 전망···········································12'), Document(id='9d1c9684-6dd4-4f87-b719-b0cf7c8c4679', metadata={'source': 'data/SPRI_AI_Brief_2023년12월호_F.pdf', 'file_path': 'data/SPRI_AI_Brief_2023년12월호_F.pdf', 'page': 12, 'total_pages': 23, 'Author': 'dj', 'Creator': 'Hwp 2018 10.0.0.13462', 'Producer': 'Hancom PDF 1.3.0.542', 'CreationDate': \"D:20231208132838+09'00'\", 'ModDate': \"D:20231208132838+09'00'\", 'PDFVersion': '1.4'}, page_content='SPRi AI Brief |\\n2023-12월호\\n삼성전자, 자체 개발 생성 AI ‘삼성 가우스’ 공개\\nKEY Contents\\nn 삼성전자가 온디바이스에서 작동 가능하며 언어, 코드, 이미지의 3개 모델로 구성된 자체 개발 생성\\nAI 모델 ‘삼성 가우스’를 공개\\nn 삼성전자는 삼성 가우스를 다양한 제품에 단계적으로 탑재할 계획으로, 온디바이스 작동이 가능한\\n삼성 가우스는 외부로 사용자 정보가 유출될 위험이 없다는 장점을 보유\\n£언어, 코드, 이미지의 3개 모델로 구성된 삼성 가우스, 온디바이스 작동 지원'), Document(id='b9ed246b-2d76-4e6c-b1c4-df10d228f9df', metadata={'source': 'data/SPRI_AI_Brief_2023년12월호_F.pdf', 'file_path': 'data/SPRI_AI_Brief_2023년12월호_F.pdf', 'page': 12, 'total_pages': 23, 'Author': 'dj', 'Creator': 'Hwp 2018 10.0.0.13462', 'Producer': 'Hancom PDF 1.3.0.542', 'CreationDate': \"D:20231208132838+09'00'\", 'ModDate': \"D:20231208132838+09'00'\", 'PDFVersion': '1.4'}, page_content='어시스턴트를 적용한 구글 픽셀(Pixel)과 경쟁할 것으로 예상\\n☞ 출처 : 삼성전자, ‘삼성 AI 포럼’서 자체 개발 생성형 AI ‘삼성 가우스’ 공개, 2023.11.08.\\n삼성전자, ‘삼성 개발자 콘퍼런스 코리아 2023’ 개최, 2023.11.14.\\nTechRepublic, Samsung Gauss: Samsung Research Reveals Generative AI, 2023.11.08.\\n10'), Document(id='072c7184-421f-4b05-895b-053c001f4eee', metadata={'source': 'data/SPRI_AI_Brief_2023년12월호_F.pdf', 'file_path': 'data/SPRI_AI_Brief_2023년12월호_F.pdf', 'page': 12, 'total_pages': 23, 'Author': 'dj', 'Creator': 'Hwp 2018 10.0.0.13462', 'Producer': 'Hancom PDF 1.3.0.542', 'CreationDate': \"D:20231208132838+09'00'\", 'ModDate': \"D:20231208132838+09'00'\", 'PDFVersion': '1.4'}, page_content='£언어, 코드, 이미지의 3개 모델로 구성된 삼성 가우스, 온디바이스 작동 지원\\nn 삼성전자가 2023년 11월 8일 열린 ‘삼성 AI 포럼 2023’ 행사에서 자체 개발한 생성 AI 모델\\n‘삼성 가우스’를 최초 공개\\n∙ 정규분포 이론을 정립한 천재 수학자 가우스(Gauss)의 이름을 본뜬 삼성 가우스는 다양한 상황에\\n최적화된 크기의 모델 선택이 가능\\n∙ 삼성 가우스는 라이선스나 개인정보를 침해하지 않는 안전한 데이터를 통해 학습되었으며,\\n온디바이스에서 작동하도록 설계되어 외부로 사용자의 정보가 유출되지 않는 장점을 보유'), Document(id='d20c493a-1f0e-4ca5-8ff1-819dda28fd6f', metadata={'source': 'data/SPRI_AI_Brief_2023년12월호_F.pdf', 'file_path': 'data/SPRI_AI_Brief_2023년12월호_F.pdf', 'page': 12, 'total_pages': 23, 'Author': 'dj', 'Creator': 'Hwp 2018 10.0.0.13462', 'Producer': 'Hancom PDF 1.3.0.542', 'CreationDate': \"D:20231208132838+09'00'\", 'ModDate': \"D:20231208132838+09'00'\", 'PDFVersion': '1.4'}, page_content='처리를 지원\\n∙ 코드 모델 기반의 AI 코딩 어시스턴트 ‘코드아이(code.i)’는 대화형 인터페이스로 서비스를 제공하며\\n사내 소프트웨어 개발에 최적화\\n∙ 이미지 모델은 창의적인 이미지를 생성하고 기존 이미지를 원하는 대로 바꿀 수 있도록 지원하며\\n저해상도 이미지의 고해상도 전환도 지원\\nn IT 전문지 테크리퍼블릭(TechRepublic)은 온디바이스 AI가 주요 기술 트렌드로 부상했다며,\\n2024년부터 가우스를 탑재한 삼성 스마트폰이 메타의 라마(Llama)2를 탑재한 퀄컴 기기 및 구글'), Document(id='4bbc56cd-5e33-4347-a585-891f00bce829', metadata={'source': 'data/SPRI_AI_Brief_2023년12월호_F.pdf', 'file_path': 'data/SPRI_AI_Brief_2023년12월호_F.pdf', 'page': 12, 'total_pages': 23, 'Author': 'dj', 'Creator': 'Hwp 2018 10.0.0.13462', 'Producer': 'Hancom PDF 1.3.0.542', 'CreationDate': \"D:20231208132838+09'00'\", 'ModDate': \"D:20231208132838+09'00'\", 'PDFVersion': '1.4'}, page_content='온디바이스에서 작동하도록 설계되어 외부로 사용자의 정보가 유출되지 않는 장점을 보유\\n∙ 삼성전자는 삼성 가우스를 활용한 온디바이스 AI 기술도 소개했으며, 생성 AI 모델을 다양한 제품에\\n단계적으로 탑재할 계획\\nn 삼성 가우스는 △텍스트를 생성하는 언어모델 △코드를 생성하는 코드 모델 △이미지를 생성하는\\n이미지 모델의 3개 모델로 구성\\n∙ 언어 모델은 클라우드와 온디바이스 대상 다양한 모델로 구성되며, 메일 작성, 문서 요약, 번역 업무의\\n처리를 지원'), Document(id='93383986-36e4-4d89-a57d-7685c8e81945', metadata={'source': 'data/SPRI_AI_Brief_2023년12월호_F.pdf', 'file_path': 'data/SPRI_AI_Brief_2023년12월호_F.pdf', 'page': 1, 'total_pages': 23, 'Author': 'dj', 'Creator': 'Hwp 2018 10.0.0.13462', 'Producer': 'Hancom PDF 1.3.0.542', 'CreationDate': \"D:20231208132838+09'00'\", 'ModDate': \"D:20231208132838+09'00'\", 'PDFVersion': '1.4'}, page_content='▹ 빌 게이츠, AI 에이전트로 인한 컴퓨터 사용의 패러다임 변화 전망································13\\n▹ 유튜브, 2024년부터 AI 생성 콘텐츠 표시 의무화····························································14\\n3. 기술/연구\\n▹ 영국 과학혁신기술부, AI 안전 연구소 설립 발표······························································15'), Document(id='3a4ee943-55d1-4b0c-8620-5a35a0898905', metadata={'source': 'data/SPRI_AI_Brief_2023년12월호_F.pdf', 'file_path': 'data/SPRI_AI_Brief_2023년12월호_F.pdf', 'page': 18, 'total_pages': 23, 'Author': 'dj', 'Creator': 'Hwp 2018 10.0.0.13462', 'Producer': 'Hancom PDF 1.3.0.542', 'CreationDate': \"D:20231208132838+09'00'\", 'ModDate': \"D:20231208132838+09'00'\", 'PDFVersion': '1.4'}, page_content='<구글 딥마인드의 범용 AI 분류 프레임워크>\\n성능 특수 AI 예시 범용 AI 예시\\n0단계: AI 아님 계산기 소프트웨어, 컴파일러 아마존 메커니컬 터크\\n1단계: 신진(숙련되지 않은 인간) GOFAI(Good Old Fashioned Artificial Intelligence) 챗GPT, 바드, 라마2\\n스마트 스피커(애플 시리, 아마존 알렉사, 구글\\n2단계: 유능(숙련된 인간의 50% 이상) 미달성\\n어시스턴트), IBM 왓슨\\n3단계: 전문가(숙련된 인간의 90% 이상) 문법 교정기(그래머리), 생성 이미지 모델(달리2) 미달성'), Document(id='a380b69c-8bdc-45b3-9dc6-befdc28cd6b9', metadata={'source': 'data/SPRI_AI_Brief_2023년12월호_F.pdf', 'file_path': 'data/SPRI_AI_Brief_2023년12월호_F.pdf', 'page': 11, 'total_pages': 23, 'Author': 'dj', 'Creator': 'Hwp 2018 10.0.0.13462', 'Producer': 'Hancom PDF 1.3.0.542', 'CreationDate': \"D:20231208132838+09'00'\", 'ModDate': \"D:20231208132838+09'00'\", 'PDFVersion': '1.4'}, page_content='제작을 포함\\nn 알리바바 클라우드는 급증하는 생성 AI 수요에 대응해 모델 개발과 애플리케이션 구축 절차를\\n간소화하는 올인원 AI 모델 구축 플랫폼 ‘젠AI(GenAI)’도 공개\\n∙ 이 플랫폼은 데이터 관리, 모델 배포와 평가, 신속한 엔지니어링을 위한 종합 도구 모음을 제공하여\\n다양한 기업들이 맞춤형 AI 모델을 한층 쉽게 개발할 수 있도록 지원\\n∙ 생성 AI 개발에 필요한 컴퓨팅과 데이터 처리 요구사항을 지원하기 위해 AI 플랫폼(PAI),\\n데이터베이스 솔루션, 컨테이너 서비스와 같은 클라우드 신제품도 발표'), Document(id='fd2624fe-2cd5-441d-85a7-525aa9b9781f', metadata={'source': 'data/SPRI_AI_Brief_2023년12월호_F.pdf', 'file_path': 'data/SPRI_AI_Brief_2023년12월호_F.pdf', 'page': 7, 'total_pages': 23, 'Author': 'dj', 'Creator': 'Hwp 2018 10.0.0.13462', 'Producer': 'Hancom PDF 1.3.0.542', 'CreationDate': \"D:20231208132838+09'00'\", 'ModDate': \"D:20231208132838+09'00'\", 'PDFVersion': '1.4'}, page_content='만들었다고 오해할 소지가 있다고 지적\\n∙ 저작권법에 저촉되는 행위는 불공정 경쟁이나 기만행위에도 해당될 수 있으며, 창작자의 평판 악화,\\n저작물의 가치 저하나 개인정보 유출로 소비자에 상당한 피해를 초래 가능\\nn FTC는 일부 빅테크가 막대한 재원을 활용해 생성 AI 사용자의 이탈을 막고 저작권이 있는 상용\\n데이터에 대한 독점 라이선스를 확보해 시장 지배력을 더욱 강화할 수 있다는 우려도 제기\\n∙ 이와 관련 FTC는 아마존 AI 비서 ‘알렉사(Alexa)’와 스마트홈 보안 기기 ‘링(Ring)’이 소비자의 사적')]}\n",
      "== for  끝 1 - 1==\n",
      "===== for 끝 1 =====\n",
      "\n",
      "==========================================================================================\n",
      "===== [CHECK DOCUMENT RELEVANCE TO QUESTION] =====\n",
      "---GRADE: DOCUMENT RELEVANT---\n",
      "---GRADE: DOCUMENT RELEVANT---\n",
      "---GRADE: DOCUMENT RELEVANT---\n",
      "---GRADE: DOCUMENT RELEVANT---\n",
      "---GRADE: DOCUMENT RELEVANT---\n",
      "---GRADE: DOCUMENT RELEVANT---\n",
      "---GRADE: DOCUMENT NOT RELEVANT---\n",
      "---GRADE: DOCUMENT NOT RELEVANT---\n",
      "---GRADE: DOCUMENT NOT RELEVANT---\n",
      "---GRADE: DOCUMENT NOT RELEVANT---\n",
      "==========================================================================================\n",
      "\n",
      "\n",
      "==========================================================================================\n",
      "🔄 [Node] 문서 관련성 평가 노드 🔄\n",
      "===== [DECISION: GENERATE] =====\n",
      "==========================================================================================\n",
      "\n",
      "===== for 시작 2 =====\n",
      "== for 시작 2 - 1 ==\n",
      "state_key : grade_documents\n",
      "state_value: \n",
      " {'documents': [Document(id='c1407987-c24e-4f7b-9a9d-af8f87ee6bc0', metadata={'source': 'data/SPRI_AI_Brief_2023년12월호_F.pdf', 'file_path': 'data/SPRI_AI_Brief_2023년12월호_F.pdf', 'page': 1, 'total_pages': 23, 'Author': 'dj', 'Creator': 'Hwp 2018 10.0.0.13462', 'Producer': 'Hancom PDF 1.3.0.542', 'CreationDate': \"D:20231208132838+09'00'\", 'ModDate': \"D:20231208132838+09'00'\", 'PDFVersion': '1.4'}, page_content='▹ 삼성전자, 자체 개발 생성 AI ‘삼성 가우스’ 공개 ···························································10\\n▹ 구글, 앤스로픽에 20억 달러 투자로 생성 AI 협력 강화 ················································11\\n▹ IDC, 2027년 AI 소프트웨어 매출 2,500억 달러 돌파 전망···········································12'), Document(id='9d1c9684-6dd4-4f87-b719-b0cf7c8c4679', metadata={'source': 'data/SPRI_AI_Brief_2023년12월호_F.pdf', 'file_path': 'data/SPRI_AI_Brief_2023년12월호_F.pdf', 'page': 12, 'total_pages': 23, 'Author': 'dj', 'Creator': 'Hwp 2018 10.0.0.13462', 'Producer': 'Hancom PDF 1.3.0.542', 'CreationDate': \"D:20231208132838+09'00'\", 'ModDate': \"D:20231208132838+09'00'\", 'PDFVersion': '1.4'}, page_content='SPRi AI Brief |\\n2023-12월호\\n삼성전자, 자체 개발 생성 AI ‘삼성 가우스’ 공개\\nKEY Contents\\nn 삼성전자가 온디바이스에서 작동 가능하며 언어, 코드, 이미지의 3개 모델로 구성된 자체 개발 생성\\nAI 모델 ‘삼성 가우스’를 공개\\nn 삼성전자는 삼성 가우스를 다양한 제품에 단계적으로 탑재할 계획으로, 온디바이스 작동이 가능한\\n삼성 가우스는 외부로 사용자 정보가 유출될 위험이 없다는 장점을 보유\\n£언어, 코드, 이미지의 3개 모델로 구성된 삼성 가우스, 온디바이스 작동 지원'), Document(id='b9ed246b-2d76-4e6c-b1c4-df10d228f9df', metadata={'source': 'data/SPRI_AI_Brief_2023년12월호_F.pdf', 'file_path': 'data/SPRI_AI_Brief_2023년12월호_F.pdf', 'page': 12, 'total_pages': 23, 'Author': 'dj', 'Creator': 'Hwp 2018 10.0.0.13462', 'Producer': 'Hancom PDF 1.3.0.542', 'CreationDate': \"D:20231208132838+09'00'\", 'ModDate': \"D:20231208132838+09'00'\", 'PDFVersion': '1.4'}, page_content='어시스턴트를 적용한 구글 픽셀(Pixel)과 경쟁할 것으로 예상\\n☞ 출처 : 삼성전자, ‘삼성 AI 포럼’서 자체 개발 생성형 AI ‘삼성 가우스’ 공개, 2023.11.08.\\n삼성전자, ‘삼성 개발자 콘퍼런스 코리아 2023’ 개최, 2023.11.14.\\nTechRepublic, Samsung Gauss: Samsung Research Reveals Generative AI, 2023.11.08.\\n10'), Document(id='072c7184-421f-4b05-895b-053c001f4eee', metadata={'source': 'data/SPRI_AI_Brief_2023년12월호_F.pdf', 'file_path': 'data/SPRI_AI_Brief_2023년12월호_F.pdf', 'page': 12, 'total_pages': 23, 'Author': 'dj', 'Creator': 'Hwp 2018 10.0.0.13462', 'Producer': 'Hancom PDF 1.3.0.542', 'CreationDate': \"D:20231208132838+09'00'\", 'ModDate': \"D:20231208132838+09'00'\", 'PDFVersion': '1.4'}, page_content='£언어, 코드, 이미지의 3개 모델로 구성된 삼성 가우스, 온디바이스 작동 지원\\nn 삼성전자가 2023년 11월 8일 열린 ‘삼성 AI 포럼 2023’ 행사에서 자체 개발한 생성 AI 모델\\n‘삼성 가우스’를 최초 공개\\n∙ 정규분포 이론을 정립한 천재 수학자 가우스(Gauss)의 이름을 본뜬 삼성 가우스는 다양한 상황에\\n최적화된 크기의 모델 선택이 가능\\n∙ 삼성 가우스는 라이선스나 개인정보를 침해하지 않는 안전한 데이터를 통해 학습되었으며,\\n온디바이스에서 작동하도록 설계되어 외부로 사용자의 정보가 유출되지 않는 장점을 보유'), Document(id='d20c493a-1f0e-4ca5-8ff1-819dda28fd6f', metadata={'source': 'data/SPRI_AI_Brief_2023년12월호_F.pdf', 'file_path': 'data/SPRI_AI_Brief_2023년12월호_F.pdf', 'page': 12, 'total_pages': 23, 'Author': 'dj', 'Creator': 'Hwp 2018 10.0.0.13462', 'Producer': 'Hancom PDF 1.3.0.542', 'CreationDate': \"D:20231208132838+09'00'\", 'ModDate': \"D:20231208132838+09'00'\", 'PDFVersion': '1.4'}, page_content='처리를 지원\\n∙ 코드 모델 기반의 AI 코딩 어시스턴트 ‘코드아이(code.i)’는 대화형 인터페이스로 서비스를 제공하며\\n사내 소프트웨어 개발에 최적화\\n∙ 이미지 모델은 창의적인 이미지를 생성하고 기존 이미지를 원하는 대로 바꿀 수 있도록 지원하며\\n저해상도 이미지의 고해상도 전환도 지원\\nn IT 전문지 테크리퍼블릭(TechRepublic)은 온디바이스 AI가 주요 기술 트렌드로 부상했다며,\\n2024년부터 가우스를 탑재한 삼성 스마트폰이 메타의 라마(Llama)2를 탑재한 퀄컴 기기 및 구글'), Document(id='4bbc56cd-5e33-4347-a585-891f00bce829', metadata={'source': 'data/SPRI_AI_Brief_2023년12월호_F.pdf', 'file_path': 'data/SPRI_AI_Brief_2023년12월호_F.pdf', 'page': 12, 'total_pages': 23, 'Author': 'dj', 'Creator': 'Hwp 2018 10.0.0.13462', 'Producer': 'Hancom PDF 1.3.0.542', 'CreationDate': \"D:20231208132838+09'00'\", 'ModDate': \"D:20231208132838+09'00'\", 'PDFVersion': '1.4'}, page_content='온디바이스에서 작동하도록 설계되어 외부로 사용자의 정보가 유출되지 않는 장점을 보유\\n∙ 삼성전자는 삼성 가우스를 활용한 온디바이스 AI 기술도 소개했으며, 생성 AI 모델을 다양한 제품에\\n단계적으로 탑재할 계획\\nn 삼성 가우스는 △텍스트를 생성하는 언어모델 △코드를 생성하는 코드 모델 △이미지를 생성하는\\n이미지 모델의 3개 모델로 구성\\n∙ 언어 모델은 클라우드와 온디바이스 대상 다양한 모델로 구성되며, 메일 작성, 문서 요약, 번역 업무의\\n처리를 지원')]}\n",
      "== for  끝 2 - 1==\n",
      "===== for 끝 2 =====\n",
      "\n",
      "==========================================================================================\n",
      "🔄 [Node] 답변 생성 노드 🔄\n",
      "-------------------\n",
      "삼성전자가 공개한 생성 AI 모델 '삼성 가우스'는 언어, 코드, 이미지의 3개 모델로 구성되어 있으며, 온디바이스에서 작동하도록 설계되어 사용자 정보 유출 위험이 없다. 이 모델은 2023년 11월 8일 '삼성 AI 포럼 2023'에서 처음 공개되었다.\n",
      "\n",
      "**Source**\n",
      "- data/SPRI_AI_Brief_2023년12월호_F.pdf (page 12)\n",
      "-------------------\n",
      "\n",
      "==========================================================================================\n",
      "\n",
      "\n",
      "==========================================================================================\n",
      "🔄 [Node] Hallucination 평가 노드 🔄\n",
      "===== [평가 결과] =====\n",
      "yes\n",
      "\n",
      "===== [DECISION: GENERATION IS GROUNDED IN DOCUMENTS] =====\n",
      "no hallucination\n",
      "\n",
      "===== [GRADE GENERATED ANSWER vs QUESTION] =====\n",
      "\n",
      "==== [DECISION: GENERATED ANSWER ADDRESSES QUESTION] ====\n",
      "relevant\n",
      "\n",
      "==========================================================================================\n",
      "\n",
      "===== for 시작 3 =====\n",
      "== for 시작 3 - 1 ==\n",
      "state_key : generate\n",
      "state_value: \n",
      " {'generation': \"삼성전자가 공개한 생성 AI 모델 '삼성 가우스'는 언어, 코드, 이미지의 3개 모델로 구성되어 있으며, 온디바이스에서 작동하도록 설계되어 사용자 정보 유출 위험이 없다. 이 모델은 2023년 11월 8일 '삼성 AI 포럼 2023'에서 처음 공개되었다.\\n\\n**Source**\\n- data/SPRI_AI_Brief_2023년12월호_F.pdf (page 12)\"}\n",
      "== for  끝 3 - 1==\n",
      "===== for 끝 3 =====\n"
     ]
    }
   ],
   "source": [
    "config = RunnableConfig(                        # config 설정\n",
    "    recursion_limit=20,                         # 최대 20개의 노드까지 방문.\n",
    "    configurable={'thread_id': random_uuid()}   # thread_id 설정\n",
    ")\n",
    "\n",
    "inputs = GraphState(question='삼성전자가 생성한 AI')\n",
    "\n",
    "i = 1\n",
    "\n",
    "for chunk in app.stream(inputs, config=config, stream_mode=\"updates\"):\n",
    "    print(f\"===== for 시작 {i} =====\")\n",
    "\n",
    "    j = 1\n",
    "\n",
    "    # chunk 는 dictionary 형태(key: State 의 key, value: State 의 value)\n",
    "    for state_key, state_value in chunk.items():\n",
    "        print(f\"== for 시작 {i} - {j} ==\")\n",
    "        print(f\"state_key : {state_key }\")\n",
    "        print(f\"state_value: \\n {state_value}\")\n",
    "        print(f\"== for  끝 {i} - {j}==\")\n",
    "\n",
    "        j=j+1\n",
    "    \n",
    "    print(f\"===== for 끝 {i} =====\")\n",
    "    i=i+1"
   ]
  },
  {
   "cell_type": "code",
   "execution_count": 72,
   "metadata": {},
   "outputs": [
    {
     "name": "stdout",
     "output_type": "stream",
     "text": [
      "\n",
      "==========================================================================================\n",
      "🔄 [Node] 질문 라우팅 노드 🔄\n",
      "==== [ROUTE QUESTION TO VECTORSTORE] ====\n",
      "==========================================================================================\n",
      "\n",
      "\n",
      "==========================================================================================\n",
      "🔄 [Node] 문서 검색 노드 🔄\n",
      "-------------------\n",
      "[Document(id='061f8c15-b18e-4e86-bf04-1c5536cdff30', metadata={'source': 'data/SPRI_AI_Brief_2023년12월호_F.pdf', 'file_path': 'data/SPRI_AI_Brief_2023년12월호_F.pdf', 'page': 1, 'total_pages': 23, 'Author': 'dj', 'Creator': 'Hwp 2018 10.0.0.13462', 'Producer': 'Hancom PDF 1.3.0.542', 'CreationDate': \"D:20231208132838+09'00'\", 'ModDate': \"D:20231208132838+09'00'\", 'PDFVersion': '1.4'}, page_content='▹ 삼성전자, 자체 개발 생성 AI ‘삼성 가우스’ 공개 ···························································10\\n▹ 구글, 앤스로픽에 20억 달러 투자로 생성 AI 협력 강화 ················································11\\n▹ IDC, 2027년 AI 소프트웨어 매출 2,500억 달러 돌파 전망···········································12'), Document(id='dbba97b5-24cf-419d-9b83-ad98675e3a51', metadata={'source': 'data/SPRI_AI_Brief_2023년12월호_F.pdf', 'file_path': 'data/SPRI_AI_Brief_2023년12월호_F.pdf', 'page': 12, 'total_pages': 23, 'Author': 'dj', 'Creator': 'Hwp 2018 10.0.0.13462', 'Producer': 'Hancom PDF 1.3.0.542', 'CreationDate': \"D:20231208132838+09'00'\", 'ModDate': \"D:20231208132838+09'00'\", 'PDFVersion': '1.4'}, page_content='SPRi AI Brief |\\n2023-12월호\\n삼성전자, 자체 개발 생성 AI ‘삼성 가우스’ 공개\\nKEY Contents\\nn 삼성전자가 온디바이스에서 작동 가능하며 언어, 코드, 이미지의 3개 모델로 구성된 자체 개발 생성\\nAI 모델 ‘삼성 가우스’를 공개\\nn 삼성전자는 삼성 가우스를 다양한 제품에 단계적으로 탑재할 계획으로, 온디바이스 작동이 가능한\\n삼성 가우스는 외부로 사용자 정보가 유출될 위험이 없다는 장점을 보유\\n£언어, 코드, 이미지의 3개 모델로 구성된 삼성 가우스, 온디바이스 작동 지원'), Document(id='1540f974-04f2-414f-a98c-d033b14298ef', metadata={'source': 'data/SPRI_AI_Brief_2023년12월호_F.pdf', 'file_path': 'data/SPRI_AI_Brief_2023년12월호_F.pdf', 'page': 12, 'total_pages': 23, 'Author': 'dj', 'Creator': 'Hwp 2018 10.0.0.13462', 'Producer': 'Hancom PDF 1.3.0.542', 'CreationDate': \"D:20231208132838+09'00'\", 'ModDate': \"D:20231208132838+09'00'\", 'PDFVersion': '1.4'}, page_content='어시스턴트를 적용한 구글 픽셀(Pixel)과 경쟁할 것으로 예상\\n☞ 출처 : 삼성전자, ‘삼성 AI 포럼’서 자체 개발 생성형 AI ‘삼성 가우스’ 공개, 2023.11.08.\\n삼성전자, ‘삼성 개발자 콘퍼런스 코리아 2023’ 개최, 2023.11.14.\\nTechRepublic, Samsung Gauss: Samsung Research Reveals Generative AI, 2023.11.08.\\n10'), Document(id='59d1577e-2e28-441a-9467-1534308ec55f', metadata={'source': 'data/SPRI_AI_Brief_2023년12월호_F.pdf', 'file_path': 'data/SPRI_AI_Brief_2023년12월호_F.pdf', 'page': 12, 'total_pages': 23, 'Author': 'dj', 'Creator': 'Hwp 2018 10.0.0.13462', 'Producer': 'Hancom PDF 1.3.0.542', 'CreationDate': \"D:20231208132838+09'00'\", 'ModDate': \"D:20231208132838+09'00'\", 'PDFVersion': '1.4'}, page_content='£언어, 코드, 이미지의 3개 모델로 구성된 삼성 가우스, 온디바이스 작동 지원\\nn 삼성전자가 2023년 11월 8일 열린 ‘삼성 AI 포럼 2023’ 행사에서 자체 개발한 생성 AI 모델\\n‘삼성 가우스’를 최초 공개\\n∙ 정규분포 이론을 정립한 천재 수학자 가우스(Gauss)의 이름을 본뜬 삼성 가우스는 다양한 상황에\\n최적화된 크기의 모델 선택이 가능\\n∙ 삼성 가우스는 라이선스나 개인정보를 침해하지 않는 안전한 데이터를 통해 학습되었으며,\\n온디바이스에서 작동하도록 설계되어 외부로 사용자의 정보가 유출되지 않는 장점을 보유'), Document(id='8cb48f14-e480-4943-8092-f409c19dcc31', metadata={'source': 'data/SPRI_AI_Brief_2023년12월호_F.pdf', 'file_path': 'data/SPRI_AI_Brief_2023년12월호_F.pdf', 'page': 12, 'total_pages': 23, 'Author': 'dj', 'Creator': 'Hwp 2018 10.0.0.13462', 'Producer': 'Hancom PDF 1.3.0.542', 'CreationDate': \"D:20231208132838+09'00'\", 'ModDate': \"D:20231208132838+09'00'\", 'PDFVersion': '1.4'}, page_content='처리를 지원\\n∙ 코드 모델 기반의 AI 코딩 어시스턴트 ‘코드아이(code.i)’는 대화형 인터페이스로 서비스를 제공하며\\n사내 소프트웨어 개발에 최적화\\n∙ 이미지 모델은 창의적인 이미지를 생성하고 기존 이미지를 원하는 대로 바꿀 수 있도록 지원하며\\n저해상도 이미지의 고해상도 전환도 지원\\nn IT 전문지 테크리퍼블릭(TechRepublic)은 온디바이스 AI가 주요 기술 트렌드로 부상했다며,\\n2024년부터 가우스를 탑재한 삼성 스마트폰이 메타의 라마(Llama)2를 탑재한 퀄컴 기기 및 구글'), Document(id='a1406138-9bbf-4afa-a6cf-5412515a418d', metadata={'source': 'data/SPRI_AI_Brief_2023년12월호_F.pdf', 'file_path': 'data/SPRI_AI_Brief_2023년12월호_F.pdf', 'page': 12, 'total_pages': 23, 'Author': 'dj', 'Creator': 'Hwp 2018 10.0.0.13462', 'Producer': 'Hancom PDF 1.3.0.542', 'CreationDate': \"D:20231208132838+09'00'\", 'ModDate': \"D:20231208132838+09'00'\", 'PDFVersion': '1.4'}, page_content='온디바이스에서 작동하도록 설계되어 외부로 사용자의 정보가 유출되지 않는 장점을 보유\\n∙ 삼성전자는 삼성 가우스를 활용한 온디바이스 AI 기술도 소개했으며, 생성 AI 모델을 다양한 제품에\\n단계적으로 탑재할 계획\\nn 삼성 가우스는 △텍스트를 생성하는 언어모델 △코드를 생성하는 코드 모델 △이미지를 생성하는\\n이미지 모델의 3개 모델로 구성\\n∙ 언어 모델은 클라우드와 온디바이스 대상 다양한 모델로 구성되며, 메일 작성, 문서 요약, 번역 업무의\\n처리를 지원'), Document(id='c1f68675-a1d0-4822-98d5-ffe82d243158', metadata={'source': 'data/SPRI_AI_Brief_2023년12월호_F.pdf', 'file_path': 'data/SPRI_AI_Brief_2023년12월호_F.pdf', 'page': 1, 'total_pages': 23, 'Author': 'dj', 'Creator': 'Hwp 2018 10.0.0.13462', 'Producer': 'Hancom PDF 1.3.0.542', 'CreationDate': \"D:20231208132838+09'00'\", 'ModDate': \"D:20231208132838+09'00'\", 'PDFVersion': '1.4'}, page_content='▹ 빌 게이츠, AI 에이전트로 인한 컴퓨터 사용의 패러다임 변화 전망································13\\n▹ 유튜브, 2024년부터 AI 생성 콘텐츠 표시 의무화····························································14\\n3. 기술/연구\\n▹ 영국 과학혁신기술부, AI 안전 연구소 설립 발표······························································15'), Document(id='ba140011-233b-42b0-aeca-27a499f35c12', metadata={'source': 'data/SPRI_AI_Brief_2023년12월호_F.pdf', 'file_path': 'data/SPRI_AI_Brief_2023년12월호_F.pdf', 'page': 18, 'total_pages': 23, 'Author': 'dj', 'Creator': 'Hwp 2018 10.0.0.13462', 'Producer': 'Hancom PDF 1.3.0.542', 'CreationDate': \"D:20231208132838+09'00'\", 'ModDate': \"D:20231208132838+09'00'\", 'PDFVersion': '1.4'}, page_content='<구글 딥마인드의 범용 AI 분류 프레임워크>\\n성능 특수 AI 예시 범용 AI 예시\\n0단계: AI 아님 계산기 소프트웨어, 컴파일러 아마존 메커니컬 터크\\n1단계: 신진(숙련되지 않은 인간) GOFAI(Good Old Fashioned Artificial Intelligence) 챗GPT, 바드, 라마2\\n스마트 스피커(애플 시리, 아마존 알렉사, 구글\\n2단계: 유능(숙련된 인간의 50% 이상) 미달성\\n어시스턴트), IBM 왓슨\\n3단계: 전문가(숙련된 인간의 90% 이상) 문법 교정기(그래머리), 생성 이미지 모델(달리2) 미달성'), Document(id='2680571d-046d-4ce5-a07f-8fa7829bb397', metadata={'source': 'data/SPRI_AI_Brief_2023년12월호_F.pdf', 'file_path': 'data/SPRI_AI_Brief_2023년12월호_F.pdf', 'page': 11, 'total_pages': 23, 'Author': 'dj', 'Creator': 'Hwp 2018 10.0.0.13462', 'Producer': 'Hancom PDF 1.3.0.542', 'CreationDate': \"D:20231208132838+09'00'\", 'ModDate': \"D:20231208132838+09'00'\", 'PDFVersion': '1.4'}, page_content='제작을 포함\\nn 알리바바 클라우드는 급증하는 생성 AI 수요에 대응해 모델 개발과 애플리케이션 구축 절차를\\n간소화하는 올인원 AI 모델 구축 플랫폼 ‘젠AI(GenAI)’도 공개\\n∙ 이 플랫폼은 데이터 관리, 모델 배포와 평가, 신속한 엔지니어링을 위한 종합 도구 모음을 제공하여\\n다양한 기업들이 맞춤형 AI 모델을 한층 쉽게 개발할 수 있도록 지원\\n∙ 생성 AI 개발에 필요한 컴퓨팅과 데이터 처리 요구사항을 지원하기 위해 AI 플랫폼(PAI),\\n데이터베이스 솔루션, 컨테이너 서비스와 같은 클라우드 신제품도 발표'), Document(id='d6457284-85e2-4d72-95c3-bc7c2d5a9ee9', metadata={'source': 'data/SPRI_AI_Brief_2023년12월호_F.pdf', 'file_path': 'data/SPRI_AI_Brief_2023년12월호_F.pdf', 'page': 7, 'total_pages': 23, 'Author': 'dj', 'Creator': 'Hwp 2018 10.0.0.13462', 'Producer': 'Hancom PDF 1.3.0.542', 'CreationDate': \"D:20231208132838+09'00'\", 'ModDate': \"D:20231208132838+09'00'\", 'PDFVersion': '1.4'}, page_content='만들었다고 오해할 소지가 있다고 지적\\n∙ 저작권법에 저촉되는 행위는 불공정 경쟁이나 기만행위에도 해당될 수 있으며, 창작자의 평판 악화,\\n저작물의 가치 저하나 개인정보 유출로 소비자에 상당한 피해를 초래 가능\\nn FTC는 일부 빅테크가 막대한 재원을 활용해 생성 AI 사용자의 이탈을 막고 저작권이 있는 상용\\n데이터에 대한 독점 라이선스를 확보해 시장 지배력을 더욱 강화할 수 있다는 우려도 제기\\n∙ 이와 관련 FTC는 아마존 AI 비서 ‘알렉사(Alexa)’와 스마트홈 보안 기기 ‘링(Ring)’이 소비자의 사적')]\n",
      "-------------------\n",
      "==========================================================================================\n",
      "\n",
      "===== for 시작 1 =====\n",
      "== for 시작 1 - 1 ==\n",
      "state_key : retrieve\n",
      "state_value: \n",
      " {'documents': [Document(id='061f8c15-b18e-4e86-bf04-1c5536cdff30', metadata={'source': 'data/SPRI_AI_Brief_2023년12월호_F.pdf', 'file_path': 'data/SPRI_AI_Brief_2023년12월호_F.pdf', 'page': 1, 'total_pages': 23, 'Author': 'dj', 'Creator': 'Hwp 2018 10.0.0.13462', 'Producer': 'Hancom PDF 1.3.0.542', 'CreationDate': \"D:20231208132838+09'00'\", 'ModDate': \"D:20231208132838+09'00'\", 'PDFVersion': '1.4'}, page_content='▹ 삼성전자, 자체 개발 생성 AI ‘삼성 가우스’ 공개 ···························································10\\n▹ 구글, 앤스로픽에 20억 달러 투자로 생성 AI 협력 강화 ················································11\\n▹ IDC, 2027년 AI 소프트웨어 매출 2,500억 달러 돌파 전망···········································12'), Document(id='dbba97b5-24cf-419d-9b83-ad98675e3a51', metadata={'source': 'data/SPRI_AI_Brief_2023년12월호_F.pdf', 'file_path': 'data/SPRI_AI_Brief_2023년12월호_F.pdf', 'page': 12, 'total_pages': 23, 'Author': 'dj', 'Creator': 'Hwp 2018 10.0.0.13462', 'Producer': 'Hancom PDF 1.3.0.542', 'CreationDate': \"D:20231208132838+09'00'\", 'ModDate': \"D:20231208132838+09'00'\", 'PDFVersion': '1.4'}, page_content='SPRi AI Brief |\\n2023-12월호\\n삼성전자, 자체 개발 생성 AI ‘삼성 가우스’ 공개\\nKEY Contents\\nn 삼성전자가 온디바이스에서 작동 가능하며 언어, 코드, 이미지의 3개 모델로 구성된 자체 개발 생성\\nAI 모델 ‘삼성 가우스’를 공개\\nn 삼성전자는 삼성 가우스를 다양한 제품에 단계적으로 탑재할 계획으로, 온디바이스 작동이 가능한\\n삼성 가우스는 외부로 사용자 정보가 유출될 위험이 없다는 장점을 보유\\n£언어, 코드, 이미지의 3개 모델로 구성된 삼성 가우스, 온디바이스 작동 지원'), Document(id='1540f974-04f2-414f-a98c-d033b14298ef', metadata={'source': 'data/SPRI_AI_Brief_2023년12월호_F.pdf', 'file_path': 'data/SPRI_AI_Brief_2023년12월호_F.pdf', 'page': 12, 'total_pages': 23, 'Author': 'dj', 'Creator': 'Hwp 2018 10.0.0.13462', 'Producer': 'Hancom PDF 1.3.0.542', 'CreationDate': \"D:20231208132838+09'00'\", 'ModDate': \"D:20231208132838+09'00'\", 'PDFVersion': '1.4'}, page_content='어시스턴트를 적용한 구글 픽셀(Pixel)과 경쟁할 것으로 예상\\n☞ 출처 : 삼성전자, ‘삼성 AI 포럼’서 자체 개발 생성형 AI ‘삼성 가우스’ 공개, 2023.11.08.\\n삼성전자, ‘삼성 개발자 콘퍼런스 코리아 2023’ 개최, 2023.11.14.\\nTechRepublic, Samsung Gauss: Samsung Research Reveals Generative AI, 2023.11.08.\\n10'), Document(id='59d1577e-2e28-441a-9467-1534308ec55f', metadata={'source': 'data/SPRI_AI_Brief_2023년12월호_F.pdf', 'file_path': 'data/SPRI_AI_Brief_2023년12월호_F.pdf', 'page': 12, 'total_pages': 23, 'Author': 'dj', 'Creator': 'Hwp 2018 10.0.0.13462', 'Producer': 'Hancom PDF 1.3.0.542', 'CreationDate': \"D:20231208132838+09'00'\", 'ModDate': \"D:20231208132838+09'00'\", 'PDFVersion': '1.4'}, page_content='£언어, 코드, 이미지의 3개 모델로 구성된 삼성 가우스, 온디바이스 작동 지원\\nn 삼성전자가 2023년 11월 8일 열린 ‘삼성 AI 포럼 2023’ 행사에서 자체 개발한 생성 AI 모델\\n‘삼성 가우스’를 최초 공개\\n∙ 정규분포 이론을 정립한 천재 수학자 가우스(Gauss)의 이름을 본뜬 삼성 가우스는 다양한 상황에\\n최적화된 크기의 모델 선택이 가능\\n∙ 삼성 가우스는 라이선스나 개인정보를 침해하지 않는 안전한 데이터를 통해 학습되었으며,\\n온디바이스에서 작동하도록 설계되어 외부로 사용자의 정보가 유출되지 않는 장점을 보유'), Document(id='8cb48f14-e480-4943-8092-f409c19dcc31', metadata={'source': 'data/SPRI_AI_Brief_2023년12월호_F.pdf', 'file_path': 'data/SPRI_AI_Brief_2023년12월호_F.pdf', 'page': 12, 'total_pages': 23, 'Author': 'dj', 'Creator': 'Hwp 2018 10.0.0.13462', 'Producer': 'Hancom PDF 1.3.0.542', 'CreationDate': \"D:20231208132838+09'00'\", 'ModDate': \"D:20231208132838+09'00'\", 'PDFVersion': '1.4'}, page_content='처리를 지원\\n∙ 코드 모델 기반의 AI 코딩 어시스턴트 ‘코드아이(code.i)’는 대화형 인터페이스로 서비스를 제공하며\\n사내 소프트웨어 개발에 최적화\\n∙ 이미지 모델은 창의적인 이미지를 생성하고 기존 이미지를 원하는 대로 바꿀 수 있도록 지원하며\\n저해상도 이미지의 고해상도 전환도 지원\\nn IT 전문지 테크리퍼블릭(TechRepublic)은 온디바이스 AI가 주요 기술 트렌드로 부상했다며,\\n2024년부터 가우스를 탑재한 삼성 스마트폰이 메타의 라마(Llama)2를 탑재한 퀄컴 기기 및 구글'), Document(id='a1406138-9bbf-4afa-a6cf-5412515a418d', metadata={'source': 'data/SPRI_AI_Brief_2023년12월호_F.pdf', 'file_path': 'data/SPRI_AI_Brief_2023년12월호_F.pdf', 'page': 12, 'total_pages': 23, 'Author': 'dj', 'Creator': 'Hwp 2018 10.0.0.13462', 'Producer': 'Hancom PDF 1.3.0.542', 'CreationDate': \"D:20231208132838+09'00'\", 'ModDate': \"D:20231208132838+09'00'\", 'PDFVersion': '1.4'}, page_content='온디바이스에서 작동하도록 설계되어 외부로 사용자의 정보가 유출되지 않는 장점을 보유\\n∙ 삼성전자는 삼성 가우스를 활용한 온디바이스 AI 기술도 소개했으며, 생성 AI 모델을 다양한 제품에\\n단계적으로 탑재할 계획\\nn 삼성 가우스는 △텍스트를 생성하는 언어모델 △코드를 생성하는 코드 모델 △이미지를 생성하는\\n이미지 모델의 3개 모델로 구성\\n∙ 언어 모델은 클라우드와 온디바이스 대상 다양한 모델로 구성되며, 메일 작성, 문서 요약, 번역 업무의\\n처리를 지원'), Document(id='c1f68675-a1d0-4822-98d5-ffe82d243158', metadata={'source': 'data/SPRI_AI_Brief_2023년12월호_F.pdf', 'file_path': 'data/SPRI_AI_Brief_2023년12월호_F.pdf', 'page': 1, 'total_pages': 23, 'Author': 'dj', 'Creator': 'Hwp 2018 10.0.0.13462', 'Producer': 'Hancom PDF 1.3.0.542', 'CreationDate': \"D:20231208132838+09'00'\", 'ModDate': \"D:20231208132838+09'00'\", 'PDFVersion': '1.4'}, page_content='▹ 빌 게이츠, AI 에이전트로 인한 컴퓨터 사용의 패러다임 변화 전망································13\\n▹ 유튜브, 2024년부터 AI 생성 콘텐츠 표시 의무화····························································14\\n3. 기술/연구\\n▹ 영국 과학혁신기술부, AI 안전 연구소 설립 발표······························································15'), Document(id='ba140011-233b-42b0-aeca-27a499f35c12', metadata={'source': 'data/SPRI_AI_Brief_2023년12월호_F.pdf', 'file_path': 'data/SPRI_AI_Brief_2023년12월호_F.pdf', 'page': 18, 'total_pages': 23, 'Author': 'dj', 'Creator': 'Hwp 2018 10.0.0.13462', 'Producer': 'Hancom PDF 1.3.0.542', 'CreationDate': \"D:20231208132838+09'00'\", 'ModDate': \"D:20231208132838+09'00'\", 'PDFVersion': '1.4'}, page_content='<구글 딥마인드의 범용 AI 분류 프레임워크>\\n성능 특수 AI 예시 범용 AI 예시\\n0단계: AI 아님 계산기 소프트웨어, 컴파일러 아마존 메커니컬 터크\\n1단계: 신진(숙련되지 않은 인간) GOFAI(Good Old Fashioned Artificial Intelligence) 챗GPT, 바드, 라마2\\n스마트 스피커(애플 시리, 아마존 알렉사, 구글\\n2단계: 유능(숙련된 인간의 50% 이상) 미달성\\n어시스턴트), IBM 왓슨\\n3단계: 전문가(숙련된 인간의 90% 이상) 문법 교정기(그래머리), 생성 이미지 모델(달리2) 미달성'), Document(id='2680571d-046d-4ce5-a07f-8fa7829bb397', metadata={'source': 'data/SPRI_AI_Brief_2023년12월호_F.pdf', 'file_path': 'data/SPRI_AI_Brief_2023년12월호_F.pdf', 'page': 11, 'total_pages': 23, 'Author': 'dj', 'Creator': 'Hwp 2018 10.0.0.13462', 'Producer': 'Hancom PDF 1.3.0.542', 'CreationDate': \"D:20231208132838+09'00'\", 'ModDate': \"D:20231208132838+09'00'\", 'PDFVersion': '1.4'}, page_content='제작을 포함\\nn 알리바바 클라우드는 급증하는 생성 AI 수요에 대응해 모델 개발과 애플리케이션 구축 절차를\\n간소화하는 올인원 AI 모델 구축 플랫폼 ‘젠AI(GenAI)’도 공개\\n∙ 이 플랫폼은 데이터 관리, 모델 배포와 평가, 신속한 엔지니어링을 위한 종합 도구 모음을 제공하여\\n다양한 기업들이 맞춤형 AI 모델을 한층 쉽게 개발할 수 있도록 지원\\n∙ 생성 AI 개발에 필요한 컴퓨팅과 데이터 처리 요구사항을 지원하기 위해 AI 플랫폼(PAI),\\n데이터베이스 솔루션, 컨테이너 서비스와 같은 클라우드 신제품도 발표'), Document(id='d6457284-85e2-4d72-95c3-bc7c2d5a9ee9', metadata={'source': 'data/SPRI_AI_Brief_2023년12월호_F.pdf', 'file_path': 'data/SPRI_AI_Brief_2023년12월호_F.pdf', 'page': 7, 'total_pages': 23, 'Author': 'dj', 'Creator': 'Hwp 2018 10.0.0.13462', 'Producer': 'Hancom PDF 1.3.0.542', 'CreationDate': \"D:20231208132838+09'00'\", 'ModDate': \"D:20231208132838+09'00'\", 'PDFVersion': '1.4'}, page_content='만들었다고 오해할 소지가 있다고 지적\\n∙ 저작권법에 저촉되는 행위는 불공정 경쟁이나 기만행위에도 해당될 수 있으며, 창작자의 평판 악화,\\n저작물의 가치 저하나 개인정보 유출로 소비자에 상당한 피해를 초래 가능\\nn FTC는 일부 빅테크가 막대한 재원을 활용해 생성 AI 사용자의 이탈을 막고 저작권이 있는 상용\\n데이터에 대한 독점 라이선스를 확보해 시장 지배력을 더욱 강화할 수 있다는 우려도 제기\\n∙ 이와 관련 FTC는 아마존 AI 비서 ‘알렉사(Alexa)’와 스마트홈 보안 기기 ‘링(Ring)’이 소비자의 사적')]}\n",
      "== for  끝 1 - 1==\n",
      "===== for 끝 1 =====\n",
      "\n",
      "==========================================================================================\n",
      "===== [CHECK DOCUMENT RELEVANCE TO QUESTION] =====\n",
      "---GRADE: DOCUMENT RELEVANT---\n",
      "---GRADE: DOCUMENT RELEVANT---\n",
      "---GRADE: DOCUMENT RELEVANT---\n",
      "---GRADE: DOCUMENT RELEVANT---\n",
      "---GRADE: DOCUMENT RELEVANT---\n",
      "---GRADE: DOCUMENT RELEVANT---\n",
      "---GRADE: DOCUMENT NOT RELEVANT---\n",
      "---GRADE: DOCUMENT NOT RELEVANT---\n",
      "---GRADE: DOCUMENT NOT RELEVANT---\n",
      "---GRADE: DOCUMENT NOT RELEVANT---\n",
      "==========================================================================================\n",
      "\n",
      "\n",
      "==========================================================================================\n",
      "🔄 [Node] 문서 관련성 평가 노드 🔄\n",
      "===== [DECISION: GENERATE] =====\n",
      "==========================================================================================\n",
      "\n",
      "===== for 시작 2 =====\n",
      "== for 시작 2 - 1 ==\n",
      "state_key : grade_documents\n",
      "state_value: \n",
      " {'documents': [Document(id='061f8c15-b18e-4e86-bf04-1c5536cdff30', metadata={'source': 'data/SPRI_AI_Brief_2023년12월호_F.pdf', 'file_path': 'data/SPRI_AI_Brief_2023년12월호_F.pdf', 'page': 1, 'total_pages': 23, 'Author': 'dj', 'Creator': 'Hwp 2018 10.0.0.13462', 'Producer': 'Hancom PDF 1.3.0.542', 'CreationDate': \"D:20231208132838+09'00'\", 'ModDate': \"D:20231208132838+09'00'\", 'PDFVersion': '1.4'}, page_content='▹ 삼성전자, 자체 개발 생성 AI ‘삼성 가우스’ 공개 ···························································10\\n▹ 구글, 앤스로픽에 20억 달러 투자로 생성 AI 협력 강화 ················································11\\n▹ IDC, 2027년 AI 소프트웨어 매출 2,500억 달러 돌파 전망···········································12'), Document(id='dbba97b5-24cf-419d-9b83-ad98675e3a51', metadata={'source': 'data/SPRI_AI_Brief_2023년12월호_F.pdf', 'file_path': 'data/SPRI_AI_Brief_2023년12월호_F.pdf', 'page': 12, 'total_pages': 23, 'Author': 'dj', 'Creator': 'Hwp 2018 10.0.0.13462', 'Producer': 'Hancom PDF 1.3.0.542', 'CreationDate': \"D:20231208132838+09'00'\", 'ModDate': \"D:20231208132838+09'00'\", 'PDFVersion': '1.4'}, page_content='SPRi AI Brief |\\n2023-12월호\\n삼성전자, 자체 개발 생성 AI ‘삼성 가우스’ 공개\\nKEY Contents\\nn 삼성전자가 온디바이스에서 작동 가능하며 언어, 코드, 이미지의 3개 모델로 구성된 자체 개발 생성\\nAI 모델 ‘삼성 가우스’를 공개\\nn 삼성전자는 삼성 가우스를 다양한 제품에 단계적으로 탑재할 계획으로, 온디바이스 작동이 가능한\\n삼성 가우스는 외부로 사용자 정보가 유출될 위험이 없다는 장점을 보유\\n£언어, 코드, 이미지의 3개 모델로 구성된 삼성 가우스, 온디바이스 작동 지원'), Document(id='1540f974-04f2-414f-a98c-d033b14298ef', metadata={'source': 'data/SPRI_AI_Brief_2023년12월호_F.pdf', 'file_path': 'data/SPRI_AI_Brief_2023년12월호_F.pdf', 'page': 12, 'total_pages': 23, 'Author': 'dj', 'Creator': 'Hwp 2018 10.0.0.13462', 'Producer': 'Hancom PDF 1.3.0.542', 'CreationDate': \"D:20231208132838+09'00'\", 'ModDate': \"D:20231208132838+09'00'\", 'PDFVersion': '1.4'}, page_content='어시스턴트를 적용한 구글 픽셀(Pixel)과 경쟁할 것으로 예상\\n☞ 출처 : 삼성전자, ‘삼성 AI 포럼’서 자체 개발 생성형 AI ‘삼성 가우스’ 공개, 2023.11.08.\\n삼성전자, ‘삼성 개발자 콘퍼런스 코리아 2023’ 개최, 2023.11.14.\\nTechRepublic, Samsung Gauss: Samsung Research Reveals Generative AI, 2023.11.08.\\n10'), Document(id='59d1577e-2e28-441a-9467-1534308ec55f', metadata={'source': 'data/SPRI_AI_Brief_2023년12월호_F.pdf', 'file_path': 'data/SPRI_AI_Brief_2023년12월호_F.pdf', 'page': 12, 'total_pages': 23, 'Author': 'dj', 'Creator': 'Hwp 2018 10.0.0.13462', 'Producer': 'Hancom PDF 1.3.0.542', 'CreationDate': \"D:20231208132838+09'00'\", 'ModDate': \"D:20231208132838+09'00'\", 'PDFVersion': '1.4'}, page_content='£언어, 코드, 이미지의 3개 모델로 구성된 삼성 가우스, 온디바이스 작동 지원\\nn 삼성전자가 2023년 11월 8일 열린 ‘삼성 AI 포럼 2023’ 행사에서 자체 개발한 생성 AI 모델\\n‘삼성 가우스’를 최초 공개\\n∙ 정규분포 이론을 정립한 천재 수학자 가우스(Gauss)의 이름을 본뜬 삼성 가우스는 다양한 상황에\\n최적화된 크기의 모델 선택이 가능\\n∙ 삼성 가우스는 라이선스나 개인정보를 침해하지 않는 안전한 데이터를 통해 학습되었으며,\\n온디바이스에서 작동하도록 설계되어 외부로 사용자의 정보가 유출되지 않는 장점을 보유'), Document(id='8cb48f14-e480-4943-8092-f409c19dcc31', metadata={'source': 'data/SPRI_AI_Brief_2023년12월호_F.pdf', 'file_path': 'data/SPRI_AI_Brief_2023년12월호_F.pdf', 'page': 12, 'total_pages': 23, 'Author': 'dj', 'Creator': 'Hwp 2018 10.0.0.13462', 'Producer': 'Hancom PDF 1.3.0.542', 'CreationDate': \"D:20231208132838+09'00'\", 'ModDate': \"D:20231208132838+09'00'\", 'PDFVersion': '1.4'}, page_content='처리를 지원\\n∙ 코드 모델 기반의 AI 코딩 어시스턴트 ‘코드아이(code.i)’는 대화형 인터페이스로 서비스를 제공하며\\n사내 소프트웨어 개발에 최적화\\n∙ 이미지 모델은 창의적인 이미지를 생성하고 기존 이미지를 원하는 대로 바꿀 수 있도록 지원하며\\n저해상도 이미지의 고해상도 전환도 지원\\nn IT 전문지 테크리퍼블릭(TechRepublic)은 온디바이스 AI가 주요 기술 트렌드로 부상했다며,\\n2024년부터 가우스를 탑재한 삼성 스마트폰이 메타의 라마(Llama)2를 탑재한 퀄컴 기기 및 구글'), Document(id='a1406138-9bbf-4afa-a6cf-5412515a418d', metadata={'source': 'data/SPRI_AI_Brief_2023년12월호_F.pdf', 'file_path': 'data/SPRI_AI_Brief_2023년12월호_F.pdf', 'page': 12, 'total_pages': 23, 'Author': 'dj', 'Creator': 'Hwp 2018 10.0.0.13462', 'Producer': 'Hancom PDF 1.3.0.542', 'CreationDate': \"D:20231208132838+09'00'\", 'ModDate': \"D:20231208132838+09'00'\", 'PDFVersion': '1.4'}, page_content='온디바이스에서 작동하도록 설계되어 외부로 사용자의 정보가 유출되지 않는 장점을 보유\\n∙ 삼성전자는 삼성 가우스를 활용한 온디바이스 AI 기술도 소개했으며, 생성 AI 모델을 다양한 제품에\\n단계적으로 탑재할 계획\\nn 삼성 가우스는 △텍스트를 생성하는 언어모델 △코드를 생성하는 코드 모델 △이미지를 생성하는\\n이미지 모델의 3개 모델로 구성\\n∙ 언어 모델은 클라우드와 온디바이스 대상 다양한 모델로 구성되며, 메일 작성, 문서 요약, 번역 업무의\\n처리를 지원')]}\n",
      "== for  끝 2 - 1==\n",
      "===== for 끝 2 =====\n",
      "\n",
      "==========================================================================================\n",
      "🔄 [Node] 답변 생성 노드 🔄\n",
      "-------------------\n",
      "삼성전자가 공개한 생성 AI '삼성 가우스'는 언어, 코드, 이미지의 3개 모델로 구성되어 있으며, 온디바이스에서 작동하도록 설계되어 사용자 정보 유출 위험이 없다. 이 AI는 2023년 11월 8일 '삼성 AI 포럼 2023'에서 처음 소개되었다.\n",
      "\n",
      "**Source**\n",
      "- data/SPRI_AI_Brief_2023년12월호_F.pdf (page 12)\n",
      "-------------------\n",
      "\n",
      "==========================================================================================\n",
      "\n",
      "\n",
      "==========================================================================================\n",
      "🔄 [Node] Hallucination 평가 노드 🔄\n",
      "===== [평가 결과] =====\n",
      "yes\n",
      "\n",
      "===== [DECISION: GENERATION IS GROUNDED IN DOCUMENTS] =====\n",
      "no hallucination\n",
      "\n",
      "===== [GRADE GENERATED ANSWER vs QUESTION] =====\n",
      "\n",
      "==== [DECISION: GENERATED ANSWER ADDRESSES QUESTION] ====\n",
      "relevant\n",
      "\n",
      "==========================================================================================\n",
      "\n",
      "===== for 시작 3 =====\n",
      "== for 시작 3 - 1 ==\n",
      "state_key : generate\n",
      "state_value: \n",
      " {'generation': \"삼성전자가 공개한 생성 AI '삼성 가우스'는 언어, 코드, 이미지의 3개 모델로 구성되어 있으며, 온디바이스에서 작동하도록 설계되어 사용자 정보 유출 위험이 없다. 이 AI는 2023년 11월 8일 '삼성 AI 포럼 2023'에서 처음 소개되었다.\\n\\n**Source**\\n- data/SPRI_AI_Brief_2023년12월호_F.pdf (page 12)\"}\n",
      "== for  끝 3 - 1==\n",
      "===== for 끝 3 =====\n"
     ]
    }
   ],
   "source": [
    "config = RunnableConfig(                        # config 설정\n",
    "    recursion_limit=20,                         # 최대 20개의 노드까지 방문.\n",
    "    configurable={'thread_id': random_uuid()}   # thread_id 설정\n",
    ")\n",
    "\n",
    "inputs = GraphState(question='삼성전자가 생성한 AI')\n",
    "\n",
    "i = 1\n",
    "\n",
    "for chunk in app.stream(inputs, config=config, stream_mode=\"updates\"):\n",
    "    print(f\"===== for 시작 {i} =====\")\n",
    "\n",
    "    j = 1\n",
    "\n",
    "    # chunk 는 dictionary 형태(key: State 의 key, value: State 의 value)\n",
    "    for state_key, state_value in chunk.items():\n",
    "        print(f\"== for 시작 {i} - {j} ==\")\n",
    "        print(f\"state_key : {state_key }\")\n",
    "        print(f\"state_value: \\n {state_value}\")\n",
    "        print(f\"== for  끝 {i} - {j}==\")\n",
    "\n",
    "        j=j+1\n",
    "    \n",
    "    print(f\"===== for 끝 {i} =====\")\n",
    "    i=i+1"
   ]
  }
 ],
 "metadata": {
  "kernelspec": {
   "display_name": "venv",
   "language": "python",
   "name": "python3"
  },
  "language_info": {
   "codemirror_mode": {
    "name": "ipython",
    "version": 3
   },
   "file_extension": ".py",
   "mimetype": "text/x-python",
   "name": "python",
   "nbconvert_exporter": "python",
   "pygments_lexer": "ipython3",
   "version": "3.11.9"
  }
 },
 "nbformat": 4,
 "nbformat_minor": 2
}
