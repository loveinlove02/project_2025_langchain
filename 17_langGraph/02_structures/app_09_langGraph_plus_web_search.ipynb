{
 "cells": [
  {
   "cell_type": "code",
   "execution_count": 28,
   "metadata": {},
   "outputs": [],
   "source": [
    "from dotenv import load_dotenv\n",
    "import os\n",
    "\n",
    "load_dotenv(verbose=True)\n",
    "key = os.getenv('OPENAI_API_KEY')"
   ]
  },
  {
   "cell_type": "code",
   "execution_count": 29,
   "metadata": {},
   "outputs": [],
   "source": [
    "from rag.pdf import PDFRetrievalChain"
   ]
  },
  {
   "cell_type": "markdown",
   "metadata": {},
   "source": [
    "### PDF 문서 검색 Retrieval Chain 생성"
   ]
  },
  {
   "cell_type": "code",
   "execution_count": 30,
   "metadata": {},
   "outputs": [],
   "source": [
    "# PDF 문서를 로드\n",
    "pdf = PDFRetrievalChain(['data/SPRI_AI_Brief_2023년12월호_F.pdf']).create_chain()"
   ]
  },
  {
   "cell_type": "code",
   "execution_count": 31,
   "metadata": {},
   "outputs": [],
   "source": [
    "pdf_retriever = pdf.retriever       # retriever 생성"
   ]
  },
  {
   "cell_type": "code",
   "execution_count": 32,
   "metadata": {},
   "outputs": [],
   "source": [
    "pdf_chain = pdf.chain               # pdf retriever chain 생성"
   ]
  },
  {
   "cell_type": "markdown",
   "metadata": {},
   "source": [
    "### State 정의\n",
    "\n",
    "`State`: Graph 의 노드와 노드들을 끼리 공유하는 상태를 정의합니다.\n",
    "<br>\n",
    "\n",
    "State에 관련성(relevance) 체크 결과를 추가합니다."
   ]
  },
  {
   "cell_type": "code",
   "execution_count": 33,
   "metadata": {},
   "outputs": [],
   "source": [
    "from typing import Annotated, TypedDict\n",
    "from langgraph.graph.message import add_messages\n",
    "\n",
    "class GraphState(TypedDict):               \n",
    "    question: Annotated[str, 'question']        # 질문\n",
    "    context: Annotated[str, 'context']          # 문서의 검색 결과\n",
    "    answer: Annotated[str, 'Answer']            # 답변\n",
    "    messages: Annotated[list, add_messages ]    # 메시지\n",
    "    relevance: Annotated[str, 'Relevance']      # 관련성"
   ]
  },
  {
   "cell_type": "markdown",
   "metadata": {},
   "source": [
    "### 노드 정의\n",
    "\n",
    "`Nodes`: 각 단계를 처리하는 노드입니다. Python 함수로 만들게 되고 함수의 입력과 출력이 상태(State) 값입니다. <br>\n",
    "\n",
    "`State` 를 입력으로 받아 정의된 로직을 수행한 후 업데이트된 State를 반환합니다."
   ]
  },
  {
   "cell_type": "code",
   "execution_count": 34,
   "metadata": {},
   "outputs": [],
   "source": [
    "from langchain_teddynote.messages import messages_to_history\n",
    "from rag.utils import format_docs"
   ]
  },
  {
   "cell_type": "code",
   "execution_count": 35,
   "metadata": {},
   "outputs": [],
   "source": [
    "from langchain_teddynote.evaluator import GroundednessChecker\n",
    "from langchain_openai import ChatOpenAI"
   ]
  },
  {
   "cell_type": "code",
   "execution_count": 36,
   "metadata": {},
   "outputs": [],
   "source": [
    "def retrieve_document(state: GraphState) -> GraphState:             # 문서 검색 노드 \n",
    "    print('=================================================================================')\n",
    "    print(f\"[문서 검색 노드] retrieve_document() 실행: \")\n",
    "\n",
    "    latest_question = state['question']                             # state 에서 질문(question)을 가져온다.\n",
    "    print(f\"(1) state['question'] 에서 가져온 질문: {latest_question}\")\n",
    "    print()\n",
    "\n",
    "    retrieve_docs = pdf_retriever.invoke(latest_question)           # pdf_retriever를 사용해서 문서 검색하여 관련성 있는 문서를 찾습니다.\n",
    "    retrieve_docs = format_docs(retrieve_docs)                      # 검색된 문서를 모두 문자열로 변경 (프롬프트의 입력이 된다)\n",
    "    \n",
    "    print(f\"(2) pdf_retriever 가 검색한 문서 검색 내용.. : \\n{retrieve_docs[:100]}\")\n",
    "    print()\n",
    "    \n",
    "    print(\"이 단계에서 (1) 질문 (2) 문서 검색의 내용이 만들어진다\" )\n",
    "    print('=================================================================================')\n",
    "\n",
    "    return {'context': retrieve_docs}                               "
   ]
  },
  {
   "cell_type": "code",
   "execution_count": 37,
   "metadata": {},
   "outputs": [],
   "source": [
    "def llm_answer(state: GraphState) -> GraphState:\n",
    "    print('=================================================================================')\n",
    "    print(\"llm_answer() 실행:\")\n",
    "    print(\"retrieve_document() 함수에서 만들어준 (1)질문 (2)문서 검색 내용 들을 여기서 꺼낸다.\")\n",
    "    \n",
    "    latest_question = state['question']                             # state 에서 질문(question)을 가져온다.\n",
    "    context = state['context']                                      # state 에서 검색된 문서의 내용(context)을 가져온다.\n",
    "\n",
    "    print(\"pdf_chain.invoke() 실행\")\n",
    "    \n",
    "    response = pdf_chain.invoke(                                    # pdf_chain을 호출해서 대답을 만듭니다.\n",
    "        {\n",
    "            'question': latest_question,                            # 질문      \n",
    "            'context': context,                                     # 검색된 문서의 내용\n",
    "            'chat_history': messages_to_history(state['messages'])  \n",
    "        }\n",
    "    )\n",
    "\n",
    "    print(f\"[생성된 답변] response: \")\n",
    "    print(response)\n",
    "    print('=================================================================================')\n",
    "\n",
    "    return {                                                       \n",
    "        'answer': response,                                                 # 생성된 답변을 answer에 저장\n",
    "        'messages': [('user', latest_question), ('assistant', response)]    # user의 질문과 생성된 답변을 messages에 저장\n",
    "    }"
   ]
  },
  {
   "cell_type": "code",
   "execution_count": 38,
   "metadata": {},
   "outputs": [],
   "source": [
    "def relevance_check(state: GraphState) -> GraphState:                       # 관련성 평가 노드\n",
    "    print('=================================================================================')\n",
    "    print(f\"relevance_check() 관련성 평가 노드 실행: \")\n",
    "\n",
    "    question_retrival_relevat = GroundednessChecker(                        # 관련성 평가기를 생성. \n",
    "        llm = ChatOpenAI(api_key=key, model_name='gpt-4o-mini'), \n",
    "        target='question-retrieval'                                         # 검색된 문서와 질문을 관성성 평가한다.검색된 문서가 질문에 답변하기 위한 내용이 포함되어 있는지 체크하는 평가기.\n",
    "    ).create()                                                              \n",
    "\n",
    "    response = question_retrival_relevat.invoke(                            # 관련성 체크 실행 (yes or no)\n",
    "        {'question': state['question'], 'context': state['context']}\n",
    "    )\n",
    "\n",
    "    print('========== [RELEVANCE CHECK] ==========')\n",
    "    print('========== 관련성 체크 결과  ==========')\n",
    "    print(response.score)\n",
    "    print('=======================================')\n",
    "\n",
    "    return {\"relevance\": response.score}"
   ]
  },
  {
   "cell_type": "code",
   "execution_count": 39,
   "metadata": {},
   "outputs": [],
   "source": [
    "def is_relevant(state: GraphState) -> GraphState:\n",
    "    if state['relevance']=='yes':\n",
    "        return 'relevant'\n",
    "    else:\n",
    "        return 'not relevant'"
   ]
  },
  {
   "cell_type": "code",
   "execution_count": 40,
   "metadata": {},
   "outputs": [],
   "source": [
    "from langchain_teddynote.tools.tavily import TavilySearch\n",
    "\n",
    "def web_search(state: GraphState) -> GraphState:\n",
    "    print('=================================================================================')\n",
    "    print(f\"[웹 검색 노드] 실행: \")\n",
    "\n",
    "    tavily_tool = TavilySearch()                # 검색 도구 생성\n",
    "    search_query = state['question']\n",
    "\n",
    "    search_result = tavily_tool.search(\n",
    "        query=search_query,                     # 검색 쿼리\n",
    "        topic='general',                        # 일반 주제\n",
    "        max_results=1,                          # 최대 검색 결과\n",
    "        format_output=True,                     # 결과 포맷팅\n",
    "    )\n",
    "    print('=================================================================================')\n",
    "    print()\n",
    "    \n",
    "    return {'context': search_result}"
   ]
  },
  {
   "cell_type": "markdown",
   "metadata": {},
   "source": [
    "### 그래프 정의\n",
    "\n",
    "`Edges`: 현재 State를 기반으로 다음에 실행할 Node를 결정하는 Python 함수.<br>\n",
    "\n",
    "일반 엣지, 조건부 엣지 등이 있습니다."
   ]
  },
  {
   "cell_type": "code",
   "execution_count": 41,
   "metadata": {},
   "outputs": [],
   "source": [
    "from langgraph.graph import StateGraph, END\n",
    "from langgraph.checkpoint.memory import MemorySaver\n",
    "from langchain_teddynote.graphs import visualize_graph"
   ]
  },
  {
   "cell_type": "code",
   "execution_count": 42,
   "metadata": {},
   "outputs": [],
   "source": [
    "######### 1. 그래프 생성 #########\n",
    "\n",
    "workflow = StateGraph(GraphState)"
   ]
  },
  {
   "cell_type": "code",
   "execution_count": 43,
   "metadata": {},
   "outputs": [
    {
     "data": {
      "text/plain": [
       "<langgraph.graph.state.StateGraph at 0x1ee45ef66d0>"
      ]
     },
     "execution_count": 43,
     "metadata": {},
     "output_type": "execute_result"
    }
   ],
   "source": [
    "######### 2. 노드 정의  #########\n",
    "\n",
    "# 노드 이름, 함수 이름을 넣으서 노트를 추가\n",
    "workflow.add_node('retrieve', retrieve_document)        # 문서 검색 노드\n",
    "workflow.add_node('llm_answer', llm_answer)             # 답변 생성 노드\n",
    "workflow.add_node(\"relevance_check\", relevance_check)   # 관련성 체크 노드 추가\n",
    "\n",
    "workflow.add_node('web_search', web_search)             # Web Search 노드 추가"
   ]
  },
  {
   "cell_type": "code",
   "execution_count": null,
   "metadata": {},
   "outputs": [
    {
     "data": {
      "text/plain": [
       "<langgraph.graph.state.StateGraph at 0x1ee45ef66d0>"
      ]
     },
     "execution_count": 44,
     "metadata": {},
     "output_type": "execute_result"
    }
   ],
   "source": [
    "######### 3. 그래프 엣지(Edge) 추가  #########\n",
    "\n",
    "workflow.add_edge('retrieve', 'relevance_check')        # 검색(retrieve) 에서 관련성 체크\n",
    "\n",
    "workflow.add_conditional_edges(                         # 조건부 엣지\n",
    "    'relevance_check',                                  # 관련성 체크 노드에서 나온 결과를 is_relevant 함수에 전달\n",
    "    is_relevant,                                        # 분기 함수(yse: relevant, no: not relevant)\n",
    "    {\n",
    "        'relevant': 'llm_answer',                       # 관련성이 있으면 답변을 생성합니다. llm_answer 실행\n",
    "        'not relevant': 'web_search',                   # 관련성이 없으면 다시 검색합니다.   retrieve 실행\n",
    "    },\n",
    ")\n",
    "\n",
    "workflow.add_edge(\"web_search\", \"llm_answer\")           # 웹 검색(web_search) 에서 답변(llm_answer)\n",
    "workflow.add_edge('llm_answer', END)                    # 답변(llm_answer) 에서 종료(END)"
   ]
  },
  {
   "cell_type": "code",
   "execution_count": 45,
   "metadata": {},
   "outputs": [
    {
     "data": {
      "text/plain": [
       "<langgraph.graph.state.StateGraph at 0x1ee45ef66d0>"
      ]
     },
     "execution_count": 45,
     "metadata": {},
     "output_type": "execute_result"
    }
   ],
   "source": [
    "######### 4. 그래프 진입점  #########\n",
    "\n",
    "workflow.set_entry_point('retrieve')"
   ]
  },
  {
   "cell_type": "code",
   "execution_count": 46,
   "metadata": {},
   "outputs": [],
   "source": [
    "######### 5. 체크 포인터 설정  #########\n",
    "\n",
    "memory = MemorySaver()"
   ]
  },
  {
   "cell_type": "code",
   "execution_count": 47,
   "metadata": {},
   "outputs": [],
   "source": [
    "######### 6. 그래프 컴파일(compile)  #########\n",
    "\n",
    "app = workflow.compile(checkpointer=memory)"
   ]
  },
  {
   "cell_type": "code",
   "execution_count": 48,
   "metadata": {},
   "outputs": [
    {
     "data": {
      "image/png": "[encoded data removed]",
      "text/plain": [
       "<IPython.core.display.Image object>"
      ]
     },
     "metadata": {},
     "output_type": "display_data"
    }
   ],
   "source": [
    "visualize_graph(app)"
   ]
  },
  {
   "cell_type": "markdown",
   "metadata": {},
   "source": [
    "### 그래프 실행\n",
    "\n",
    "- `config` 파라미터는 그래프 실행 시 필요한 정보를 전달.\n",
    "\n",
    "    - `recursion_limit`: 그래프 실행 시 노드 반복의 횟수를 설정.\n",
    "    - `thread_id`: 대화 세션을 구분하는 데 사용. \n",
    "\n",
    "<br>\n",
    "\n",
    "- `inputs`: 그래프 실행 시 필요한 입력정보를 전달."
   ]
  },
  {
   "cell_type": "code",
   "execution_count": 49,
   "metadata": {},
   "outputs": [],
   "source": [
    "from langchain_core.runnables import RunnableConfig\n",
    "from langchain_teddynote.messages import invoke_graph, stream_graph, random_uuid"
   ]
  },
  {
   "cell_type": "code",
   "execution_count": 50,
   "metadata": {},
   "outputs": [],
   "source": [
    "config = RunnableConfig(                        # config 설정\n",
    "    recursion_limit=10,                         # 최대 10개의 노드까지 방문.\n",
    "    configurable={'thread_id': random_uuid()}   # thread_id 설정\n",
    ")"
   ]
  },
  {
   "cell_type": "code",
   "execution_count": 51,
   "metadata": {},
   "outputs": [],
   "source": [
    "# 질문\n",
    "inputs = GraphState(question='2024년 노벨 문학상 수상자는?')"
   ]
  },
  {
   "cell_type": "code",
   "execution_count": 52,
   "metadata": {},
   "outputs": [
    {
     "name": "stdout",
     "output_type": "stream",
     "text": [
      "=================================================================================\n",
      "[문서 검색 노드] retrieve_document() 실행: \n",
      "(1) state['question'] 에서 가져온 질문: 2024년 노벨 문학상 수상자는?\n",
      "\n",
      "(2) pdf_retriever 가 검색한 문서 검색 내용.. : \n",
      "<document><content>CES 2024\n",
      "이번 전시에는 500곳 이상의 한국기업 참가 예정\n",
      "기간 장소 홈페이지\n",
      "2024.1.9~12 미국, 라스베가스 https://www\n",
      "\n",
      "이 단계에서 (1) 질문 (2) 문서 검색의 내용이 만들어진다\n",
      "=================================================================================\n",
      "node_name: retrieve\n",
      "node_chunk: {'context': '<document><content>CES 2024\\n이번 전시에는 500곳 이상의 한국기업 참가 예정\\n기간 장소 홈페이지\\n2024.1.9~12 미국, 라스베가스 https://www.ces.tech/\\n- 머신러닝 및 응용에 관한 국제 컨퍼런스(AIMLA 2024)는\\n인공지능 및 머신러닝의 이론, 방법론 및 실용적 접근에 관한\\n지식과 최신 연구 결과 공유\\n- 이론 및 실무 측면에서 인공지능, 기계학습의 주요 분야를\\n논의하고, 학계, 산업계의 연구자와 실무자들에게 해당 분\\nAIMLA 2024\\n야의 최첨단 개발 소식 공유\\n기간 장소 홈페이지</content><source>data/SPRI_AI_Brief_2023년12월호_F.pdf</source><page>22</page></document>\\n<document><content>n 참가국들은 튜링상을 수상한 AI 학자인 요슈아 벤지오 교수가 주도하는 ‘과학의 현황(State of\\nthe Science)’ 보고서 작성에도 합의했으며, 보고서를 통해 첨단 AI의 위험과 가능성에 관한\\n기존 연구를 과학적으로 평가하고 향후 AI 안전 연구를 위한 우선순위를 제시할 계획\\nn 한국은 영국 정부와 6개월 뒤에 온라인으로 AI 미니 정상회의를 공동 개최하기로 합의했으며,\\n프랑스 정부와는 1년 후 대면 정상회의를 개최할 예정</content><source>data/SPRI_AI_Brief_2023년12월호_F.pdf</source><page>6</page></document>\\n<document><content>12\\n2023년 월호</content><source>data/SPRI_AI_Brief_2023년12월호_F.pdf</source><page>1</page></document>\\n<document><content>£AI 기술 중 머신러닝, 텐서플로우, 딥러닝의 임금 프리미엄이 높게 평가\\nn 옥스퍼드 인터넷 연구소(Oxford Internet Institute)가 2023년 10월 24일 962개 기술과 2만 5천\\n명을 대상으로 한 연구에서 AI를 포함한 주요 기술의 경제적 가치를 분석한 결과를 발표\\n∙ 연구에 따르면 한 기술의 경제적 가치는 근로자의 여타 역량과 얼마나 잘 결합하는지를 보여주는\\n‘상보성(complementarity)’에 따라 결정됨</content><source>data/SPRI_AI_Brief_2023년12월호_F.pdf</source><page>21</page></document>\\n<document><content>달 안에 기금 지원을 위한 제안 요청을 받을 계획\\nn 프런티어 모델 포럼은 출범 이후 업계 전반에 걸쳐 AI 레드팀 구성에 관한 모범사례 공유를 추진하는\\n한편, 첨단 AI 모델의 취약점이나 잠재적으로 위험한 기능 및 위험 완화 관련 정보를 공유할 수\\n있는 공개 절차도 개발 중\\n☞ 출처: Google, Anthropic, Google, Microsoft and OpenAI announce Executive Director of the Frontier Model</content><source>data/SPRI_AI_Brief_2023년12월호_F.pdf</source><page>10</page></document>\\n<document><content>신기술 간 상보성을 극대화할 필요\\nn AI의 확산은 기술의 경제적 가치에 크게 영향을 미치는 요소로, AI 기술을 가진 근로자는 평균적으로\\n21% 높은 임금을 획득 가능\\n∙ AI 기술 중 근로자에 대한 경제적 가치(시간당 임금 증가율 기준) 측면에서 상위 5개 기술은\\n머신러닝(+40%), 텐서플로우(+38%), 딥러닝(+27%), 자연어처리(+19%), 데이터 과학(+17%) 순\\n<AI 기술 유형 평균 기술 대비 갖는 임금 프리미엄></content><source>data/SPRI_AI_Brief_2023년12월호_F.pdf</source><page>21</page></document>\\n<document><content>£예술가들의 AI 저작권 침해 소송, 저작권 미등록과 증거불충분으로 기각\\nn 미국 캘리포니아 북부지방법원의 윌리엄 오릭(William Orrick) 판사는 2023년 10월 30일 미드저니\\n(Midjourney), 스태빌리티AI(Stability AI), 디비언트아트(DeviantArt)에 제기된 저작권 침해 소송을 기각\\n∙ 2023년 1월 예술가 사라 앤더슨(Sarah Anderson), 캘리 맥커넌(Kelly McKernan), 칼라</content><source>data/SPRI_AI_Brief_2023년12월호_F.pdf</source><page>7</page></document>\\n<document><content>소송은 인정되어 계속 진행됨\\n☞ 출처: Venturebeat, Midjourney, Stability AI and DeviantArt win a victory in copyright case by artists- but the\\nfight continues, 2023.10.30.\\n4</content><source>data/SPRI_AI_Brief_2023년12월호_F.pdf</source><page>7</page></document>\\n<document><content>AIMLA 2024\\n야의 최첨단 개발 소식 공유\\n기간 장소 홈페이지\\nhttps://ccnet2024.org/aimla\\n2024.1.27~28 덴마크, 코펜하겐\\n/index\\n- AI 발전 협회 컨퍼런스(AAAI)는 AI 연구를 촉진하고, AI 분야\\n연구원, 실무자, 과학자, 학생 및 공학자 간 교류의 기회 제공\\n- 컨퍼런스에서 AI 관련 기술 발표, 특별 트랙, 초청 연사,\\nAAAI Conference\\n워크숍, 튜토리얼, 포스터 세션, 주제 발표, 대회, 전시 프\\non Artificial\\n로그램 등 진행\\nIntelligence</content><source>data/SPRI_AI_Brief_2023년12월호_F.pdf</source><page>22</page></document>\\n<document><content>▹ 빌 게이츠, AI 에이전트로 인한 컴퓨터 사용의 패러다임 변화 전망································13\\n▹ 유튜브, 2024년부터 AI 생성 콘텐츠 표시 의무화····························································14\\n3. 기술/연구\\n▹ 영국 과학혁신기술부, AI 안전 연구소 설립 발표······························································15</content><source>data/SPRI_AI_Brief_2023년12월호_F.pdf</source><page>2</page></document>'}\n",
      "=================================================================================\n",
      "relevance_check() 관련성 평가 노드 실행: \n",
      "========== [RELEVANCE CHECK] ==========\n",
      "========== 관련성 체크 결과  ==========\n",
      "no\n",
      "=======================================\n",
      "node_name: relevance_check\n",
      "node_chunk: {'relevance': 'no'}\n",
      "=================================================================================\n",
      "[웹 검색 노드] 실행: \n",
      "=================================================================================\n",
      "\n",
      "node_name: web_search\n",
      "node_chunk: {'context': ['<document><title>소설가 한강, 한국 첫 \\'노벨문학상\\'‥\\\\\"놀랍고 영광\\\\\"</title><url>https://imnews.imbc.com/replay/2024/nwtoday/article/6645060_36523.html</url><content>소설가 한강, 한국 첫 \\'노벨문학상\\'‥\\\\\"놀랍고 영광\\\\\" 소설가 한강, 한국 첫 \\'노벨문학상\\'‥\\\\\"놀랍고 영광\\\\\" 소설가 한강, 한국 첫 \\'노벨문학상\\'‥\\\\\"놀랍고 영광\\\\\" 본문 복사 뉴스를 재생할 수 없습니다. 다음 뉴스 재생 광고 / 광고 자세히 보기 광고\\xa0\\xa0중 \\xa0\\xa0초 초\\xa0\\xa0후\\xa0\\xa0SKIP SKIP 다음 뉴스 재생 다음 뉴스 재생 레이어 닫기 다음 뉴스 보기 자막켜기/자막끄기 전체화면 \\\\\"2024년 노벨 문학상 수상자는 한국의 작가, 한강입니다.\\\\\"   [한강 작가(노벨위원회 인터뷰)] 한승원 소설가의 딸로 문인 집안에서 자라난 작가는, 2016년, 한국인 최초로 세계 3대 문학상 중 하나인 부커상을 받은 데 이어, 작년엔 프랑스 4대 문학상인 메디치상을 수상했습니다. 노벨상 수상자에게는 상금 약 13억 원과 메달, 증서가 수여되고, 문학상 시상식은 12월 10일 스웨덴 스톡홀름에서 열립니다. MBC 뉴스 조재영입니다. ▷ 이메일 mbcjebo@mbc.co.kr ▷ 카카오톡 @mbc제보   #소설가 한강 #노벨 문학상 #채식주의자 본문 복사 관련 뉴스</content><raw>소설가 한강, 한국 첫 \\'노벨문학상\\'‥\"놀랍고 영광\"\\n본문 바로가기 메뉴 바로가기\\n뉴스투데이\\n 조재영\\n소설가 한강, 한국 첫 \\'노벨문학상\\'‥\"놀랍고 영광\"\\n소설가 한강, 한국 첫 \\'노벨문학상\\'‥\"놀랍고 영광\"\\n입력 2024-10-11 07:03 | 수정 2024-10-11 07:07\\n\\n\\n가\\n가\\n가\\n\\n해당 기사를 북마크했습니다.\\n확인 내 북마크 보기\\n\\n페이스북\\n트위터\\n카카오 스토리\\n카카오톡\\n밴드\\n링크 복사\\n본문 복사\\n\\n레이어 닫기\\n로딩 중\\n해외에서는 서비스를 이용할 수 없습니다.\\n양해 부탁 드립니다.\\nService is not available overseas.\\n죄송합니다.\\n뉴스를 재생할 수 없습니다.\\n재생/일시정지\\n10초 이전 10초 이후\\n다음 뉴스 재생\\n다시재생\\n광고 중입니다\\n광고 /\\n광고 자세히 보기 광고\\xa0\\xa0중 \\xa0\\xa0초 초\\xa0\\xa0후\\xa0\\xa0SKIP SKIP\\n\\n다음 뉴스 재생\\n국민 78%가 불매운동…절반 이상 \"단호히 맞서야\"상 \"단호히 맞상 \"단호히맞서야~~\\n다음 뉴스 재생 레이어 닫기\\n00:00\\nmute\\n5\\nLive\\n00:00\\n00:00\\n다음 뉴스 보기 자막켜기/자막끄기 전체화면\\nPrevious Next\\n전체재생\\n상세 기사보기\\n재생목록\\n연속재생\\n닫기\\n◀ 앵커 ▶  \\n올해 노벨문학상 수상자로 한강 작가가 선정됐습니다.  \\n우리나라에서 첫 노벨문학상 수상이고, 123년 노벨문학상 역사에서 아시아 여성이 받은 건 최초입니다.  \\n조재영 기자입니다.  \\n◀ 리포트 ▶  \\n[마츠 말름/스웨덴 한림원 사무총장]\\n\"2024년 노벨 문학상 수상자는 한국의 작가, 한강입니다.\"  \\n\\'채식주의자\\', \\'소년이 온다\\'를 쓴 소설가, 한강이 한국인 사상 최초 노벨 문학상의 영광을 차지했습니다.  \\n10년 넘게 고은 시인, 황석영 소설가가 후보로 꾸준히 거론됐지만, 수상은 요원했습니다.  \\n올해의 유력 후보는 호주 작가 제럴드 머네인과 \\'중국의 카프카\\'로 불리는 찬쉐였습니다.  \\n그만큼 누구도 예상치 못했던 \\'깜짝\\' 수상인데, 외신들은 \"놀라운 일\", \"예상을 뒤엎었다\"며 긴급 뉴스를 타전했습니다.  \\n주최측은 한강을 \\'현대 산문의 혁신가\\'라고 평가하며, 선정 이유를 밝혔습니다.  \\n[마츠 말름/스웨덴 한림원 사무총장]\\n\"그녀의 강렬한 시적 산문은 역사적 트라우마에 맞서고 인간 삶의 연약함을 드러냅니다\"  \\n작가는 노벨위원회와의 전화 인터뷰에서 \"책 읽고 산책을 한 평범한 하루였고, 아들과 저녁식사를 막 마쳤을 때 소식을 들었다\"고 전했습니다.  \\n[한강 작가(노벨위원회 인터뷰)]\\n\"매우 놀랐고 정말 영광스럽습니다. 아주 평화로운 저녁이었습니다. 저는 정말로 놀랐습니다.\"  \\n한승원 소설가의 딸로 문인 집안에서 자라난 작가는, 2016년, 한국인 최초로 세계 3대 문학상 중 하나인 부커상을 받은 데 이어, 작년엔 프랑스 4대 문학상인 메디치상을 수상했습니다.  \\n이번 노벨상 수상까지, 세계 문학에 한 획을 긋는 성취에도, 특유의 담담함은 여전했습니다.  \\n[한강 작가(노벨위원회 인터뷰)]\\n\"전 술을 마시지 않아서요. 그래서 아들과 차를 마시면서 오늘 밤 조용히 축하하고 싶습니다.\"  \\n\"선배 작가들의 노력과 힘이 영감이 됐다\", \"한국 문학 독자들과 동료 작가들에게 좋은 일이 되길 바란다\"는 말도 잊지 않았습니다.  \\n라오스를 방문 중인 윤석열 대통령은 \"대한민국 문학사상 위대한 업적이자 온 국민이 기뻐할 국가적 경사\"라며 SNS를 통해 축하를 보냈습니다.  \\n노벨상 수상자에게는 상금 약 13억 원과 메달, 증서가 수여되고, 문학상 시상식은 12월 10일 스웨덴 스톡홀름에서 열립니다.  \\nMBC 뉴스 조재영입니다.  \\nMBC 뉴스는 24시간 여러분의 제보를 기다립니다. \\n▷ 전화 02-784-4000\\n▷ 이메일 mbcjebo@mbc.co.kr\\n▷ 카카오톡 @mbc제보  \\n#소설가 한강 #노벨 문학상 #채식주의자\\n\\n\\n가\\n가\\n가\\n\\n해당 기사를 북마크했습니다.\\n확인 내 북마크 보기\\n\\n페이스북\\n트위터\\n카카오 스토리\\n카카오톡\\n밴드\\n링크 복사\\n본문 복사\\n\\n레이어 닫기\\n이 기사 어땠나요?\\n\\n좋아요\\n훌륭해요\\n슬퍼요\\n화나요\\n후속요청\\n\\n당신의 의견을 남겨주세요\\n0/300\\n등록\\n최신순 공감순 반대순\\n더보기\\n이시각 주요뉴스\\n많이 본 뉴스\\n\\nMBC\\n포털\\nSNS\\n유튜브\\n\\n분야별 추천 뉴스\\n관련 뉴스\\n인기 키워드\\n취재플러스\\n14F\\n엠빅뉴스</raw></document>']}\n",
      "=================================================================================\n",
      "llm_answer() 실행:\n",
      "retrieve_document() 함수에서 만들어준 (1)질문 (2)문서 검색 내용 들을 여기서 꺼낸다.\n",
      "pdf_chain.invoke() 실행\n",
      "[생성된 답변] response: \n",
      "2024년 노벨 문학상 수상자는 한국의 작가 한강입니다.\n",
      "\n",
      "**Source**\n",
      "- 소설가 한강, 한국 첫 '노벨문학상'‥\"놀랍고 영광\" (https://imnews.imbc.com/replay/2024/nwtoday/article/6645060_36523.html)\n",
      "=================================================================================\n",
      "node_name: llm_answer\n",
      "node_chunk: {'answer': '2024년 노벨 문학상 수상자는 한국의 작가 한강입니다.\\n\\n**Source**\\n- 소설가 한강, 한국 첫 \\'노벨문학상\\'‥\"놀랍고 영광\" (https://imnews.imbc.com/replay/2024/nwtoday/article/6645060_36523.html)', 'messages': [('user', '2024년 노벨 문학상 수상자는?'), ('assistant', '2024년 노벨 문학상 수상자는 한국의 작가 한강입니다.\\n\\n**Source**\\n- 소설가 한강, 한국 첫 \\'노벨문학상\\'‥\"놀랍고 영광\" (https://imnews.imbc.com/replay/2024/nwtoday/article/6645060_36523.html)')]}\n"
     ]
    }
   ],
   "source": [
    "for event in app.stream(inputs, config=config):\n",
    "    for node_name, node_chunk in event.items():\n",
    "        print('node_name:', node_name)\n",
    "        print('node_chunk:', node_chunk)"
   ]
  },
  {
   "cell_type": "code",
   "execution_count": 53,
   "metadata": {},
   "outputs": [
    {
     "name": "stdout",
     "output_type": "stream",
     "text": [
      "=================================================================================\n",
      "[문서 검색 노드] retrieve_document() 실행: \n",
      "(1) state['question'] 에서 가져온 질문: 2024년 노벨 문학상 수상자는?\n",
      "\n",
      "(2) pdf_retriever 가 검색한 문서 검색 내용.. : \n",
      "<document><content>CES 2024\n",
      "이번 전시에는 500곳 이상의 한국기업 참가 예정\n",
      "기간 장소 홈페이지\n",
      "2024.1.9~12 미국, 라스베가스 https://www\n",
      "\n",
      "이 단계에서 (1) 질문 (2) 문서 검색의 내용이 만들어진다\n",
      "=================================================================================\n",
      "\n",
      "==================================================\n",
      "🔄 Node: \u001b[1;36mretrieve\u001b[0m 🔄\n",
      "- - - - - - - - - - - - - - - - - - - - - - - - - \n",
      "\u001b[1;32mcontext\u001b[0m:\n",
      "<document><content>CES 2024\n",
      "이번 전시에는 500곳 이상의 한국기업 참가 예정\n",
      "기간 장소 홈페이지\n",
      "2024.1.9~12 미국, 라스베가스 https://www.ces.tech/\n",
      "- 머신러닝 및 응용에 관한 국제 컨퍼런스(AIMLA 2024)는\n",
      "인공지능 및 머신러닝의 이론, 방법론 및 실용적 접근에 관한\n",
      "지식과 최신 연구 결과 공유\n",
      "- 이론 및 실무 측면에서 인공지능, 기계학습의 주요 분야를\n",
      "논의하고, 학계, 산업계의 연구자와 실무자들에게 해당 분\n",
      "AIMLA 2024\n",
      "야의 최첨단 개발 소식 공유\n",
      "기간 장소 홈페이지</content><source>data/SPRI_AI_Brief_2023년12월호_F.pdf</source><page>22</page></document>\n",
      "<document><content>n 참가국들은 튜링상을 수상한 AI 학자인 요슈아 벤지오 교수가 주도하는 ‘과학의 현황(State of\n",
      "the Science)’ 보고서 작성에도 합의했으며, 보고서를 통해 첨단 AI의 위험과 가능성에 관한\n",
      "기존 연구를 과학적으로 평가하고 향후 AI 안전 연구를 위한 우선순위를 제시할 계획\n",
      "n 한국은 영국 정부와 6개월 뒤에 온라인으로 AI 미니 정상회의를 공동 개최하기로 합의했으며,\n",
      "프랑스 정부와는 1년 후 대면 정상회의를 개최할 예정</content><source>data/SPRI_AI_Brief_2023년12월호_F.pdf</source><page>6</page></document>\n",
      "<document><content>12\n",
      "2023년 월호</content><source>data/SPRI_AI_Brief_2023년12월호_F.pdf</source><page>1</page></document>\n",
      "<document><content>£AI 기술 중 머신러닝, 텐서플로우, 딥러닝의 임금 프리미엄이 높게 평가\n",
      "n 옥스퍼드 인터넷 연구소(Oxford Internet Institute)가 2023년 10월 24일 962개 기술과 2만 5천\n",
      "명을 대상으로 한 연구에서 AI를 포함한 주요 기술의 경제적 가치를 분석한 결과를 발표\n",
      "∙ 연구에 따르면 한 기술의 경제적 가치는 근로자의 여타 역량과 얼마나 잘 결합하는지를 보여주는\n",
      "‘상보성(complementarity)’에 따라 결정됨</content><source>data/SPRI_AI_Brief_2023년12월호_F.pdf</source><page>21</page></document>\n",
      "<document><content>달 안에 기금 지원을 위한 제안 요청을 받을 계획\n",
      "n 프런티어 모델 포럼은 출범 이후 업계 전반에 걸쳐 AI 레드팀 구성에 관한 모범사례 공유를 추진하는\n",
      "한편, 첨단 AI 모델의 취약점이나 잠재적으로 위험한 기능 및 위험 완화 관련 정보를 공유할 수\n",
      "있는 공개 절차도 개발 중\n",
      "☞ 출처: Google, Anthropic, Google, Microsoft and OpenAI announce Executive Director of the Frontier Model</content><source>data/SPRI_AI_Brief_2023년12월호_F.pdf</source><page>10</page></document>\n",
      "<document><content>신기술 간 상보성을 극대화할 필요\n",
      "n AI의 확산은 기술의 경제적 가치에 크게 영향을 미치는 요소로, AI 기술을 가진 근로자는 평균적으로\n",
      "21% 높은 임금을 획득 가능\n",
      "∙ AI 기술 중 근로자에 대한 경제적 가치(시간당 임금 증가율 기준) 측면에서 상위 5개 기술은\n",
      "머신러닝(+40%), 텐서플로우(+38%), 딥러닝(+27%), 자연어처리(+19%), 데이터 과학(+17%) 순\n",
      "<AI 기술 유형 평균 기술 대비 갖는 임금 프리미엄></content><source>data/SPRI_AI_Brief_2023년12월호_F.pdf</source><page>21</page></document>\n",
      "<document><content>£예술가들의 AI 저작권 침해 소송, 저작권 미등록과 증거불충분으로 기각\n",
      "n 미국 캘리포니아 북부지방법원의 윌리엄 오릭(William Orrick) 판사는 2023년 10월 30일 미드저니\n",
      "(Midjourney), 스태빌리티AI(Stability AI), 디비언트아트(DeviantArt)에 제기된 저작권 침해 소송을 기각\n",
      "∙ 2023년 1월 예술가 사라 앤더슨(Sarah Anderson), 캘리 맥커넌(Kelly McKernan), 칼라</content><source>data/SPRI_AI_Brief_2023년12월호_F.pdf</source><page>7</page></document>\n",
      "<document><content>소송은 인정되어 계속 진행됨\n",
      "☞ 출처: Venturebeat, Midjourney, Stability AI and DeviantArt win a victory in copyright case by artists- but the\n",
      "fight continues, 2023.10.30.\n",
      "4</content><source>data/SPRI_AI_Brief_2023년12월호_F.pdf</source><page>7</page></document>\n",
      "<document><content>AIMLA 2024\n",
      "야의 최첨단 개발 소식 공유\n",
      "기간 장소 홈페이지\n",
      "https://ccnet2024.org/aimla\n",
      "2024.1.27~28 덴마크, 코펜하겐\n",
      "/index\n",
      "- AI 발전 협회 컨퍼런스(AAAI)는 AI 연구를 촉진하고, AI 분야\n",
      "연구원, 실무자, 과학자, 학생 및 공학자 간 교류의 기회 제공\n",
      "- 컨퍼런스에서 AI 관련 기술 발표, 특별 트랙, 초청 연사,\n",
      "AAAI Conference\n",
      "워크숍, 튜토리얼, 포스터 세션, 주제 발표, 대회, 전시 프\n",
      "on Artificial\n",
      "로그램 등 진행\n",
      "Intelligence</content><source>data/SPRI_AI_Brief_2023년12월호_F.pdf</source><page>22</page></document>\n",
      "<document><content>▹ 빌 게이츠, AI 에이전트로 인한 컴퓨터 사용의 패러다임 변화 전망································13\n",
      "▹ 유튜브, 2024년부터 AI 생성 콘텐츠 표시 의무화····························································14\n",
      "3. 기술/연구\n",
      "▹ 영국 과학혁신기술부, AI 안전 연구소 설립 발표······························································15</content><source>data/SPRI_AI_Brief_2023년12월호_F.pdf</source><page>2</page></document>\n",
      "==================================================\n",
      "=================================================================================\n",
      "relevance_check() 관련성 평가 노드 실행: \n",
      "========== [RELEVANCE CHECK] ==========\n",
      "========== 관련성 체크 결과  ==========\n",
      "no\n",
      "=======================================\n",
      "\n",
      "==================================================\n",
      "🔄 Node: \u001b[1;36mrelevance_check\u001b[0m 🔄\n",
      "- - - - - - - - - - - - - - - - - - - - - - - - - \n",
      "\u001b[1;32mrelevance\u001b[0m:\n",
      "no\n",
      "==================================================\n",
      "=================================================================================\n",
      "[웹 검색 노드] 실행: \n",
      "=================================================================================\n",
      "\n",
      "\n",
      "==================================================\n",
      "🔄 Node: \u001b[1;36mweb_search\u001b[0m 🔄\n",
      "- - - - - - - - - - - - - - - - - - - - - - - - - \n",
      "<document><title>소설가 한강, 한국 첫 '노벨문학상'‥\\\"놀랍고 영광\\\"</title><url>https://imnews.imbc.com/replay/2024/nwtoday/article/6645060_36523.html</url><content>소설가 한강, 한국 첫 '노벨문학상'‥\\\"놀랍고 영광\\\" 소설가 한강, 한국 첫 '노벨문학상'‥\\\"놀랍고 영광\\\" 소설가 한강, 한국 첫 '노벨문학상'‥\\\"놀랍고 영광\\\" 본문 복사 뉴스를 재생할 수 없습니다. 다음 뉴스 재생 광고 / 광고 자세히 보기 광고  중   초 초  후  SKIP SKIP 다음 뉴스 재생 다음 뉴스 재생 레이어 닫기 다음 뉴스 보기 자막켜기/자막끄기 전체화면 \\\"2024년 노벨 문학상 수상자는 한국의 작가, 한강입니다.\\\"   [한강 작가(노벨위원회 인터뷰)] 한승원 소설가의 딸로 문인 집안에서 자라난 작가는, 2016년, 한국인 최초로 세계 3대 문학상 중 하나인 부커상을 받은 데 이어, 작년엔 프랑스 4대 문학상인 메디치상을 수상했습니다. 노벨상 수상자에게는 상금 약 13억 원과 메달, 증서가 수여되고, 문학상 시상식은 12월 10일 스웨덴 스톡홀름에서 열립니다. MBC 뉴스 조재영입니다. ▷ 이메일 mbcjebo@mbc.co.kr ▷ 카카오톡 @mbc제보   #소설가 한강 #노벨 문학상 #채식주의자 본문 복사 관련 뉴스</content><raw>소설가 한강, 한국 첫 '노벨문학상'‥\"놀랍고 영광\"\n",
      "본문 바로가기 메뉴 바로가기\n",
      "뉴스투데이\n",
      " 조재영\n",
      "소설가 한강, 한국 첫 '노벨문학상'‥\"놀랍고 영광\"\n",
      "소설가 한강, 한국 첫 '노벨문학상'‥\"놀랍고 영광\"\n",
      "입력 2024-10-11 07:03 | 수정 2024-10-11 07:07\n",
      "\n",
      "\n",
      "가\n",
      "가\n",
      "가\n",
      "\n",
      "해당 기사를 북마크했습니다.\n",
      "확인 내 북마크 보기\n",
      "\n",
      "페이스북\n",
      "트위터\n",
      "카카오 스토리\n",
      "카카오톡\n",
      "밴드\n",
      "링크 복사\n",
      "본문 복사\n",
      "\n",
      "레이어 닫기\n",
      "로딩 중\n",
      "해외에서는 서비스를 이용할 수 없습니다.\n",
      "양해 부탁 드립니다.\n",
      "Service is not available overseas.\n",
      "죄송합니다.\n",
      "뉴스를 재생할 수 없습니다.\n",
      "재생/일시정지\n",
      "10초 이전 10초 이후\n",
      "다음 뉴스 재생\n",
      "다시재생\n",
      "광고 중입니다\n",
      "광고 /\n",
      "광고 자세히 보기 광고  중   초 초  후  SKIP SKIP\n",
      "\n",
      "다음 뉴스 재생\n",
      "국민 78%가 불매운동…절반 이상 \"단호히 맞서야\"상 \"단호히 맞상 \"단호히맞서야~~\n",
      "다음 뉴스 재생 레이어 닫기\n",
      "00:00\n",
      "mute\n",
      "5\n",
      "Live\n",
      "00:00\n",
      "00:00\n",
      "다음 뉴스 보기 자막켜기/자막끄기 전체화면\n",
      "Previous Next\n",
      "전체재생\n",
      "상세 기사보기\n",
      "재생목록\n",
      "연속재생\n",
      "닫기\n",
      "◀ 앵커 ▶  \n",
      "올해 노벨문학상 수상자로 한강 작가가 선정됐습니다.  \n",
      "우리나라에서 첫 노벨문학상 수상이고, 123년 노벨문학상 역사에서 아시아 여성이 받은 건 최초입니다.  \n",
      "조재영 기자입니다.  \n",
      "◀ 리포트 ▶  \n",
      "[마츠 말름/스웨덴 한림원 사무총장]\n",
      "\"2024년 노벨 문학상 수상자는 한국의 작가, 한강입니다.\"  \n",
      "'채식주의자', '소년이 온다'를 쓴 소설가, 한강이 한국인 사상 최초 노벨 문학상의 영광을 차지했습니다.  \n",
      "10년 넘게 고은 시인, 황석영 소설가가 후보로 꾸준히 거론됐지만, 수상은 요원했습니다.  \n",
      "올해의 유력 후보는 호주 작가 제럴드 머네인과 '중국의 카프카'로 불리는 찬쉐였습니다.  \n",
      "그만큼 누구도 예상치 못했던 '깜짝' 수상인데, 외신들은 \"놀라운 일\", \"예상을 뒤엎었다\"며 긴급 뉴스를 타전했습니다.  \n",
      "주최측은 한강을 '현대 산문의 혁신가'라고 평가하며, 선정 이유를 밝혔습니다.  \n",
      "[마츠 말름/스웨덴 한림원 사무총장]\n",
      "\"그녀의 강렬한 시적 산문은 역사적 트라우마에 맞서고 인간 삶의 연약함을 드러냅니다\"  \n",
      "작가는 노벨위원회와의 전화 인터뷰에서 \"책 읽고 산책을 한 평범한 하루였고, 아들과 저녁식사를 막 마쳤을 때 소식을 들었다\"고 전했습니다.  \n",
      "[한강 작가(노벨위원회 인터뷰)]\n",
      "\"매우 놀랐고 정말 영광스럽습니다. 아주 평화로운 저녁이었습니다. 저는 정말로 놀랐습니다.\"  \n",
      "한승원 소설가의 딸로 문인 집안에서 자라난 작가는, 2016년, 한국인 최초로 세계 3대 문학상 중 하나인 부커상을 받은 데 이어, 작년엔 프랑스 4대 문학상인 메디치상을 수상했습니다.  \n",
      "이번 노벨상 수상까지, 세계 문학에 한 획을 긋는 성취에도, 특유의 담담함은 여전했습니다.  \n",
      "[한강 작가(노벨위원회 인터뷰)]\n",
      "\"전 술을 마시지 않아서요. 그래서 아들과 차를 마시면서 오늘 밤 조용히 축하하고 싶습니다.\"  \n",
      "\"선배 작가들의 노력과 힘이 영감이 됐다\", \"한국 문학 독자들과 동료 작가들에게 좋은 일이 되길 바란다\"는 말도 잊지 않았습니다.  \n",
      "라오스를 방문 중인 윤석열 대통령은 \"대한민국 문학사상 위대한 업적이자 온 국민이 기뻐할 국가적 경사\"라며 SNS를 통해 축하를 보냈습니다.  \n",
      "노벨상 수상자에게는 상금 약 13억 원과 메달, 증서가 수여되고, 문학상 시상식은 12월 10일 스웨덴 스톡홀름에서 열립니다.  \n",
      "MBC 뉴스 조재영입니다.  \n",
      "MBC 뉴스는 24시간 여러분의 제보를 기다립니다. \n",
      "▷ 전화 02-784-4000\n",
      "▷ 이메일 mbcjebo@mbc.co.kr\n",
      "▷ 카카오톡 @mbc제보  \n",
      "#소설가 한강 #노벨 문학상 #채식주의자\n",
      "\n",
      "\n",
      "가\n",
      "가\n",
      "가\n",
      "\n",
      "해당 기사를 북마크했습니다.\n",
      "확인 내 북마크 보기\n",
      "\n",
      "페이스북\n",
      "트위터\n",
      "카카오 스토리\n",
      "카카오톡\n",
      "밴드\n",
      "링크 복사\n",
      "본문 복사\n",
      "\n",
      "레이어 닫기\n",
      "이 기사 어땠나요?\n",
      "\n",
      "좋아요\n",
      "훌륭해요\n",
      "슬퍼요\n",
      "화나요\n",
      "후속요청\n",
      "\n",
      "당신의 의견을 남겨주세요\n",
      "0/300\n",
      "등록\n",
      "최신순 공감순 반대순\n",
      "더보기\n",
      "이시각 주요뉴스\n",
      "많이 본 뉴스\n",
      "\n",
      "MBC\n",
      "포털\n",
      "SNS\n",
      "유튜브\n",
      "\n",
      "분야별 추천 뉴스\n",
      "관련 뉴스\n",
      "인기 키워드\n",
      "취재플러스\n",
      "14F\n",
      "엠빅뉴스</raw></document>\n",
      "==================================================\n",
      "=================================================================================\n",
      "llm_answer() 실행:\n",
      "retrieve_document() 함수에서 만들어준 (1)질문 (2)문서 검색 내용 들을 여기서 꺼낸다.\n",
      "pdf_chain.invoke() 실행\n",
      "[생성된 답변] response: \n",
      "2024년 노벨 문학상 수상자는 한국의 작가 한강입니다.\n",
      "\n",
      "**Source**\n",
      "- https://imnews.imbc.com/replay/2024/nwtoday/article/6645060_36523.html\n",
      "=================================================================================\n",
      "\n",
      "==================================================\n",
      "🔄 Node: \u001b[1;36mllm_answer\u001b[0m 🔄\n",
      "- - - - - - - - - - - - - - - - - - - - - - - - - \n",
      "\u001b[1;32manswer\u001b[0m:\n",
      "2024년 노벨 문학상 수상자는 한국의 작가 한강입니다.\n",
      "\n",
      "**Source**\n",
      "- https://imnews.imbc.com/replay/2024/nwtoday/article/6645060_36523.html\n",
      "('user', '2024년 노벨 문학상 수상자는?')\n",
      "('assistant', '2024년 노벨 문학상 수상자는 한국의 작가 한강입니다.\\n\\n**Source**\\n- https://imnews.imbc.com/replay/2024/nwtoday/article/6645060_36523.html')\n",
      "==================================================\n"
     ]
    }
   ],
   "source": [
    "invoke_graph(graph=app, inputs=inputs, config=config)"
   ]
  },
  {
   "cell_type": "code",
   "execution_count": 54,
   "metadata": {},
   "outputs": [
    {
     "name": "stdout",
     "output_type": "stream",
     "text": [
      "=================================================================================\n",
      "[문서 검색 노드] retrieve_document() 실행: \n",
      "(1) state['question'] 에서 가져온 질문: 2024년 노벨 문학상 수상자는?\n",
      "\n",
      "(2) pdf_retriever 가 검색한 문서 검색 내용.. : \n",
      "<document><content>CES 2024\n",
      "이번 전시에는 500곳 이상의 한국기업 참가 예정\n",
      "기간 장소 홈페이지\n",
      "2024.1.9~12 미국, 라스베가스 https://www\n",
      "\n",
      "이 단계에서 (1) 질문 (2) 문서 검색의 내용이 만들어진다\n",
      "=================================================================================\n",
      "=================================================================================\n",
      "relevance_check() 관련성 평가 노드 실행: \n",
      "========== [RELEVANCE CHECK] ==========\n",
      "========== 관련성 체크 결과  ==========\n",
      "no\n",
      "=======================================\n",
      "\n",
      "==================================================\n",
      "🔄 Node: \u001b[1;36mrelevance_check\u001b[0m 🔄\n",
      "- - - - - - - - - - - - - - - - - - - - - - - - - \n",
      "\u001b[1;32mrelevance\u001b[0m:\n",
      "no\n",
      "==================================================\n",
      "=================================================================================\n",
      "[웹 검색 노드] 실행: \n",
      "=================================================================================\n",
      "\n",
      "=================================================================================\n",
      "llm_answer() 실행:\n",
      "retrieve_document() 함수에서 만들어준 (1)질문 (2)문서 검색 내용 들을 여기서 꺼낸다.\n",
      "pdf_chain.invoke() 실행\n",
      "[생성된 답변] response: \n",
      "2024년 노벨 문학상 수상자는 한국의 작가 한강입니다.\n",
      "\n",
      "**Source**\n",
      "- https://imnews.imbc.com/replay/2024/nwtoday/article/6645060_36523.html\n",
      "=================================================================================\n",
      "\n",
      "==================================================\n",
      "🔄 Node: \u001b[1;36mllm_answer\u001b[0m 🔄\n",
      "- - - - - - - - - - - - - - - - - - - - - - - - - \n",
      "\u001b[1;32manswer\u001b[0m:\n",
      "2024년 노벨 문학상 수상자는 한국의 작가 한강입니다.\n",
      "\n",
      "**Source**\n",
      "- https://imnews.imbc.com/replay/2024/nwtoday/article/6645060_36523.html\n",
      "('user', '2024년 노벨 문학상 수상자는?')\n",
      "('assistant', '2024년 노벨 문학상 수상자는 한국의 작가 한강입니다.\\n\\n**Source**\\n- https://imnews.imbc.com/replay/2024/nwtoday/article/6645060_36523.html')\n",
      "==================================================\n"
     ]
    }
   ],
   "source": [
    "invoke_graph(graph=app, inputs=inputs, config=config, node_names=['relevance_check', 'llm_answer'])"
   ]
  },
  {
   "cell_type": "code",
   "execution_count": 56,
   "metadata": {},
   "outputs": [
    {
     "name": "stdout",
     "output_type": "stream",
     "text": [
      "=================================================================================\n",
      "[문서 검색 노드] retrieve_document() 실행: \n",
      "(1) state['question'] 에서 가져온 질문: 2024년 노벨 문학상 수상자는?\n",
      "\n",
      "(2) pdf_retriever 가 검색한 문서 검색 내용.. : \n",
      "<document><content>CES 2024\n",
      "이번 전시에는 500곳 이상의 한국기업 참가 예정\n",
      "기간 장소 홈페이지\n",
      "2024.1.9~12 미국, 라스베가스 https://www\n",
      "\n",
      "이 단계에서 (1) 질문 (2) 문서 검색의 내용이 만들어진다\n",
      "=================================================================================\n",
      "=================================================================================\n",
      "relevance_check() 관련성 평가 노드 실행: \n",
      "\n",
      "==================================================\n",
      "🔄 Node: \u001b[1;36mrelevance_check\u001b[0m 🔄\n",
      "- - - - - - - - - - - - - - - - - - - - - - - - - \n",
      "{\"score\":\"no\"}========== [RELEVANCE CHECK] ==========\n",
      "========== 관련성 체크 결과  ==========\n",
      "no\n",
      "=======================================\n",
      "=================================================================================\n",
      "[웹 검색 노드] 실행: \n",
      "=================================================================================\n",
      "\n",
      "=================================================================================\n",
      "llm_answer() 실행:\n",
      "retrieve_document() 함수에서 만들어준 (1)질문 (2)문서 검색 내용 들을 여기서 꺼낸다.\n",
      "pdf_chain.invoke() 실행\n",
      "\n",
      "==================================================\n",
      "🔄 Node: \u001b[1;36mllm_answer\u001b[0m 🔄\n",
      "- - - - - - - - - - - - - - - - - - - - - - - - - \n",
      "2024년 노벨 문학상 수상자는 한국의 작가 한강입니다.\n",
      "\n",
      "**Source**\n",
      "- https://imnews.imbc.com/replay/2024/nwtoday/article/6645060_36523.html[생성된 답변] response: \n",
      "2024년 노벨 문학상 수상자는 한국의 작가 한강입니다.\n",
      "\n",
      "**Source**\n",
      "- https://imnews.imbc.com/replay/2024/nwtoday/article/6645060_36523.html\n",
      "=================================================================================\n"
     ]
    }
   ],
   "source": [
    "stream_graph(graph=app, inputs=inputs, config=config, node_names=['relevance_check', 'llm_answer'])"
   ]
  }
 ],
 "metadata": {
  "kernelspec": {
   "display_name": "venv",
   "language": "python",
   "name": "python3"
  },
  "language_info": {
   "codemirror_mode": {
    "name": "ipython",
    "version": 3
   },
   "file_extension": ".py",
   "mimetype": "text/x-python",
   "name": "python",
   "nbconvert_exporter": "python",
   "pygments_lexer": "ipython3",
   "version": "3.11.9"
  }
 },
 "nbformat": 4,
 "nbformat_minor": 2
}
