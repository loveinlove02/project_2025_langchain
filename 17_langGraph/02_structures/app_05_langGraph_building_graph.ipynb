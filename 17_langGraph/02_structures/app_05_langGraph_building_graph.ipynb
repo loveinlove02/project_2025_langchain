{
 "cells": [
  {
   "cell_type": "code",
   "execution_count": 1,
   "metadata": {},
   "outputs": [],
   "source": [
    "from dotenv import load_dotenv\n",
    "import os\n",
    "\n",
    "load_dotenv(verbose=True)\n",
    "key = os.getenv('OPENAI_API_KEY')"
   ]
  },
  {
   "cell_type": "code",
   "execution_count": 2,
   "metadata": {},
   "outputs": [],
   "source": [
    "from typing import Annotated, List, TypedDict\n",
    "from langchain_core.documents import Document\n",
    "import operator\n",
    "\n",
    "class GraphState(TypedDict):\n",
    "    context: Annotated[List[Document], operator.add]        # 문서의 검색 결과\n",
    "    answer: Annotated[List[Document], operator.add]         # 답변\n",
    "    question: Annotated[str, 'user question']               # 질문\n",
    "    sql_query: Annotated[str, 'sql query']                  \n",
    "    binary_score: Annotated[str, 'binary score yes or no']"
   ]
  },
  {
   "cell_type": "code",
   "execution_count": 3,
   "metadata": {},
   "outputs": [],
   "source": [
    "def retrieve(state: GraphState) -> GraphState:          # 문서 검색 노드\n",
    "    # retrieve: 검색\n",
    "    \n",
    "    documents = '검색된 문서'\n",
    "    return {'context': documents}"
   ]
  },
  {
   "cell_type": "code",
   "execution_count": 4,
   "metadata": {},
   "outputs": [],
   "source": [
    "def rewrite_query(state: GraphState) -> GraphState:\n",
    "    # Query Transform: 쿼리 다시 작성\n",
    "\n",
    "    documents = '검색된 문서'\n",
    "    return GraphState(context=documents)"
   ]
  },
  {
   "cell_type": "code",
   "execution_count": 5,
   "metadata": {},
   "outputs": [],
   "source": [
    "def llm_gpt_execute(state: GraphState) -> GraphState:\n",
    "    # LLM 실행\n",
    "\n",
    "    answer = 'GPT에서 생성된 답변'\n",
    "    return GraphState(answer=answer)"
   ]
  },
  {
   "cell_type": "code",
   "execution_count": 7,
   "metadata": {},
   "outputs": [],
   "source": [
    "def relevance_check(state: GraphState) -> GraphState:   # 관련성 체크 노드\n",
    "    # Relevance Check: 관련성 확인\n",
    "\n",
    "    binary_score = 'yes'\n",
    "    return GraphState(binary_score=binary_score)"
   ]
  },
  {
   "cell_type": "code",
   "execution_count": 8,
   "metadata": {},
   "outputs": [],
   "source": [
    "def sum_up(state: GraphState) -> GraphState:\n",
    "    # sum_up: 결과 종합\n",
    "\n",
    "    answer = '종합된 답변'\n",
    "    return GraphState(answer=answer)"
   ]
  },
  {
   "cell_type": "code",
   "execution_count": 9,
   "metadata": {},
   "outputs": [],
   "source": [
    "def decision(state: GraphState) -> GraphState:\n",
    "    # 의사 결정\n",
    "    decision = '결정'\n",
    "    \n",
    "\n",
    "    if state['binary_score'] == 'yes':\n",
    "        return 'PASS'\n",
    "    elif state['binary_score'] == 'no':\n",
    "        return 'QUERY ERROR'\n",
    "    else:\n",
    "        return 'UNKNOWN MEANING' "
   ]
  },
  {
   "cell_type": "code",
   "execution_count": 11,
   "metadata": {},
   "outputs": [],
   "source": [
    "def get_table_info(state: GraphState) -> GraphState:\n",
    "    # Get Table Info: 테이블 정보 가져오기\n",
    "    table_info = '테이블 정보'\n",
    "    return GraphState(context=table_info)"
   ]
  },
  {
   "cell_type": "code",
   "execution_count": 12,
   "metadata": {},
   "outputs": [],
   "source": [
    "def generate_sql_query(state: GraphState) -> GraphState:\n",
    "    # Make SQL Query: SQL 쿼리 생성\n",
    "    sql_query = 'SQL 쿼리'\n",
    "    return GraphState(sql_query=sql_query)"
   ]
  },
  {
   "cell_type": "code",
   "execution_count": 13,
   "metadata": {},
   "outputs": [],
   "source": [
    "def execute_sql_query(state: GraphState) -> GraphState:\n",
    "    # Execute SQL Query: SQL 쿼리 실행\n",
    "    sql_result = 'SQL 결과'\n",
    "    return GraphState(context=sql_result)"
   ]
  },
  {
   "cell_type": "code",
   "execution_count": 14,
   "metadata": {},
   "outputs": [],
   "source": [
    "def validate_sql_query(state: GraphState) -> GraphState:\n",
    "    # Validate SQL Query: SQL 쿼리 검증\n",
    "    binary_score = 'SQL 쿼리 검증 결과'\n",
    "    return GraphState(binary_score=binary_score)"
   ]
  },
  {
   "cell_type": "code",
   "execution_count": 10,
   "metadata": {},
   "outputs": [],
   "source": [
    "from langgraph.checkpoint.memory import MemorySaver\n",
    "from langchain_teddynote.graphs import visualize_graph\n",
    "from langgraph.graph import StateGraph, END"
   ]
  },
  {
   "cell_type": "code",
   "execution_count": 15,
   "metadata": {},
   "outputs": [],
   "source": [
    "######### 1. 그래프 생성 #########\n",
    "\n",
    "workflow = StateGraph(GraphState)"
   ]
  },
  {
   "cell_type": "code",
   "execution_count": 16,
   "metadata": {},
   "outputs": [
    {
     "data": {
      "text/plain": [
       "<langgraph.graph.state.StateGraph at 0x1fecacc4bd0>"
      ]
     },
     "execution_count": 16,
     "metadata": {},
     "output_type": "execute_result"
    }
   ],
   "source": [
    "######### 2. 노드 정의  #########\n",
    "\n",
    "# 노드 이름, 함수 이름을 넣으서 노트를 추가\n",
    "workflow.add_node('질문', retrieve)\n",
    "\n",
    "workflow.add_node('rewrite_query', rewrite_query)\n",
    "workflow.add_node('rewrite_question', rewrite_query)\n",
    "\n",
    "workflow.add_node('GPT 요청', llm_gpt_execute)\n",
    "workflow.add_node('GPT_relevance_check', relevance_check)\n",
    "\n",
    "workflow.add_node('결과 종합', sum_up)\n",
    "\n",
    "workflow.add_node('get_table_info', get_table_info)\n",
    "workflow.add_node('generate_sql_query', generate_sql_query)\n",
    "workflow.add_node('execute_sql_query', execute_sql_query)\n",
    "workflow.add_node('validate_sql_query', validate_sql_query)"
   ]
  },
  {
   "cell_type": "code",
   "execution_count": 17,
   "metadata": {},
   "outputs": [
    {
     "data": {
      "text/plain": [
       "<langgraph.graph.state.StateGraph at 0x1fecacc4bd0>"
      ]
     },
     "execution_count": 17,
     "metadata": {},
     "output_type": "execute_result"
    }
   ],
   "source": [
    "######### 3. 그래프 엣지(Edge) 추가  #########\n",
    "\n",
    "workflow.add_edge('질문', 'get_table_info')\n",
    "workflow.add_edge('get_table_info', 'generate_sql_query')\n",
    "workflow.add_edge('generate_sql_query', 'execute_sql_query')\n",
    "workflow.add_edge('execute_sql_query', 'validate_sql_query')"
   ]
  },
  {
   "cell_type": "code",
   "execution_count": 18,
   "metadata": {},
   "outputs": [
    {
     "data": {
      "text/plain": [
       "<langgraph.graph.state.StateGraph at 0x1fecacc4bd0>"
      ]
     },
     "execution_count": 18,
     "metadata": {},
     "output_type": "execute_result"
    }
   ],
   "source": [
    "workflow.add_conditional_edges(\n",
    "    'validate_sql_query', \n",
    "    decision, \n",
    "    {\n",
    "        'QUERY ERROR': 'rewrite_query',\n",
    "        'UNKNOWN MEANING': 'rewrite_question',\n",
    "        'PASS': 'GPT 요청'\n",
    "        \n",
    "    }\n",
    ")"
   ]
  },
  {
   "cell_type": "code",
   "execution_count": 19,
   "metadata": {},
   "outputs": [
    {
     "data": {
      "text/plain": [
       "<langgraph.graph.state.StateGraph at 0x1fecacc4bd0>"
      ]
     },
     "execution_count": 19,
     "metadata": {},
     "output_type": "execute_result"
    }
   ],
   "source": [
    "workflow.add_edge('rewrite_query', 'execute_sql_query')\n",
    "workflow.add_edge('rewrite_question', 'rewrite_query')\n",
    "workflow.add_edge('GPT 요청', 'GPT_relevance_check')\n",
    "workflow.add_edge('GPT_relevance_check', '결과 종합')\n",
    "workflow.add_edge('결과 종합', END)"
   ]
  },
  {
   "cell_type": "code",
   "execution_count": 20,
   "metadata": {},
   "outputs": [
    {
     "data": {
      "text/plain": [
       "<langgraph.graph.state.StateGraph at 0x1fecacc4bd0>"
      ]
     },
     "execution_count": 20,
     "metadata": {},
     "output_type": "execute_result"
    }
   ],
   "source": [
    "######### 4. 그래프 진입점  #########\n",
    "\n",
    "workflow.set_entry_point('질문')"
   ]
  },
  {
   "cell_type": "code",
   "execution_count": 21,
   "metadata": {},
   "outputs": [],
   "source": [
    "######### 5. 체크 포인터 설정  #########\n",
    "\n",
    "memory = MemorySaver()"
   ]
  },
  {
   "cell_type": "code",
   "execution_count": 22,
   "metadata": {},
   "outputs": [],
   "source": [
    "######### 6. 그래프 컴파일(compile)  #########\n",
    "\n",
    "app = workflow.compile(checkpointer=memory)"
   ]
  },
  {
   "cell_type": "code",
   "execution_count": 23,
   "metadata": {},
   "outputs": [
    {
     "data": {
      "image/png": "[encoded data removed]",
      "text/plain": [
       "<IPython.core.display.Image object>"
      ]
     },
     "metadata": {},
     "output_type": "display_data"
    }
   ],
   "source": [
    "visualize_graph(app)"
   ]
  }
 ],
 "metadata": {
  "kernelspec": {
   "display_name": "venv",
   "language": "python",
   "name": "python3"
  },
  "language_info": {
   "codemirror_mode": {
    "name": "ipython",
    "version": 3
   },
   "file_extension": ".py",
   "mimetype": "text/x-python",
   "name": "python",
   "nbconvert_exporter": "python",
   "pygments_lexer": "ipython3",
   "version": "3.11.9"
  }
 },
 "nbformat": 4,
 "nbformat_minor": 2
}
