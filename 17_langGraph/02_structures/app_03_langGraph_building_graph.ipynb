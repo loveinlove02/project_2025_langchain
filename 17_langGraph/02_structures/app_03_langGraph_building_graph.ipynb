{
 "cells": [
  {
   "cell_type": "code",
   "execution_count": 13,
   "metadata": {},
   "outputs": [],
   "source": [
    "from dotenv import load_dotenv\n",
    "import os\n",
    "\n",
    "load_dotenv(verbose=True)\n",
    "key = os.getenv('OPENAI_API_KEY')"
   ]
  },
  {
   "cell_type": "code",
   "execution_count": 14,
   "metadata": {},
   "outputs": [],
   "source": [
    "from typing import Annotated, List, TypedDict\n",
    "from langchain_core.documents import Document\n",
    "import operator\n",
    "\n",
    "class GraphState(TypedDict):\n",
    "    context: Annotated[List[Document], operator.add]        # 문서의 검색 결과\n",
    "    answer: Annotated[List[Document], operator.add]         # 답변\n",
    "    question: Annotated[str, 'user question']               # 질문\n",
    "    sql_query: Annotated[str, 'sql query']                  \n",
    "    binary_score: Annotated[str, 'binary score yes or no']"
   ]
  },
  {
   "cell_type": "code",
   "execution_count": 15,
   "metadata": {},
   "outputs": [],
   "source": [
    "def retrieve(state: GraphState) -> GraphState:          # 문서 검색 노드\n",
    "    # retrieve: 검색\n",
    "    \n",
    "    documents = '검색된 문서'\n",
    "    return {'context': documents}"
   ]
  },
  {
   "cell_type": "code",
   "execution_count": 16,
   "metadata": {},
   "outputs": [],
   "source": [
    "def llm_gpt_execute(state: GraphState) -> GraphState:\n",
    "    # LLM 실행\n",
    "\n",
    "    answer = 'GPT에서 생성된 답변'\n",
    "    return GraphState(answer=answer)"
   ]
  },
  {
   "cell_type": "code",
   "execution_count": 17,
   "metadata": {},
   "outputs": [],
   "source": [
    "def llm_claude_execute(state: GraphState) -> GraphState:\n",
    "    # LLM 실행\n",
    "\n",
    "    answer = 'Claude에서 생성된 답변'\n",
    "    return GraphState(answer=answer)"
   ]
  },
  {
   "cell_type": "code",
   "execution_count": 18,
   "metadata": {},
   "outputs": [],
   "source": [
    "def relevance_check(state: GraphState) -> GraphState:   # 관련성 체크 노드\n",
    "    # Relevance Check: 관련성 확인\n",
    "\n",
    "    binary_score = 'yes'\n",
    "    return GraphState(binary_score=binary_score)"
   ]
  },
  {
   "cell_type": "code",
   "execution_count": 19,
   "metadata": {},
   "outputs": [],
   "source": [
    "def sum_up(state: GraphState) -> GraphState:\n",
    "    # sum_up: 결과 종합\n",
    "\n",
    "    answer = '종합된 답변'\n",
    "    return GraphState(answer=answer)"
   ]
  },
  {
   "cell_type": "code",
   "execution_count": 20,
   "metadata": {},
   "outputs": [],
   "source": [
    "def decision(state: GraphState) -> GraphState:\n",
    "    # 의사 결정\n",
    "    decision = '결정'\n",
    "\n",
    "    if state['binary_score'] == 'yes':\n",
    "        return '종료'\n",
    "    else:\n",
    "        return '재검색'"
   ]
  },
  {
   "cell_type": "code",
   "execution_count": 21,
   "metadata": {},
   "outputs": [],
   "source": [
    "from langgraph.checkpoint.memory import MemorySaver\n",
    "from langchain_teddynote.graphs import visualize_graph\n",
    "from langgraph.graph import StateGraph, END"
   ]
  },
  {
   "cell_type": "code",
   "execution_count": 22,
   "metadata": {},
   "outputs": [],
   "source": [
    "######### 1. 그래프 생성 #########\n",
    "\n",
    "workflow = StateGraph(GraphState)"
   ]
  },
  {
   "cell_type": "code",
   "execution_count": 23,
   "metadata": {},
   "outputs": [
    {
     "data": {
      "text/plain": [
       "<langgraph.graph.state.StateGraph at 0x25e10299d10>"
      ]
     },
     "execution_count": 23,
     "metadata": {},
     "output_type": "execute_result"
    }
   ],
   "source": [
    "######### 2. 노드 정의  #########\n",
    "\n",
    "# 노드 이름, 함수 이름을 넣으서 노트를 추가\n",
    "workflow.add_node('retrieve', retrieve)\n",
    "\n",
    "workflow.add_node('GPT 요청', llm_gpt_execute)\n",
    "workflow.add_node('Claude 요청', llm_claude_execute)\n",
    "\n",
    "workflow.add_node('GPT_relevance_ckeck', relevance_check)\n",
    "workflow.add_node('Claude_relevance_ckeck', relevance_check)\n",
    "\n",
    "workflow.add_node('결과 종합', sum_up)"
   ]
  },
  {
   "cell_type": "code",
   "execution_count": 24,
   "metadata": {},
   "outputs": [
    {
     "data": {
      "text/plain": [
       "<langgraph.graph.state.StateGraph at 0x25e10299d10>"
      ]
     },
     "execution_count": 24,
     "metadata": {},
     "output_type": "execute_result"
    }
   ],
   "source": [
    "######### 3. 그래프 엣지(Edge) 추가  #########\n",
    "\n",
    "workflow.add_edge('retrieve', 'GPT 요청')\n",
    "workflow.add_edge('retrieve', 'Claude 요청')\n",
    "\n",
    "workflow.add_edge('GPT 요청', 'GPT_relevance_ckeck')\n",
    "workflow.add_edge('GPT_relevance_ckeck', '결과 종합')\n",
    "\n",
    "workflow.add_edge('Claude 요청', 'Claude_relevance_ckeck')\n",
    "workflow.add_edge('Claude_relevance_ckeck', '결과 종합')"
   ]
  },
  {
   "cell_type": "code",
   "execution_count": 25,
   "metadata": {},
   "outputs": [
    {
     "data": {
      "text/plain": [
       "<langgraph.graph.state.StateGraph at 0x25e10299d10>"
      ]
     },
     "execution_count": 25,
     "metadata": {},
     "output_type": "execute_result"
    }
   ],
   "source": [
    "workflow.add_conditional_edges(\n",
    "    '결과 종합', \n",
    "    decision, \n",
    "    {\n",
    "        '재검색': 'retrieve',\n",
    "        '종료': END\n",
    "    }\n",
    ")"
   ]
  },
  {
   "cell_type": "code",
   "execution_count": 26,
   "metadata": {},
   "outputs": [
    {
     "data": {
      "text/plain": [
       "<langgraph.graph.state.StateGraph at 0x25e10299d10>"
      ]
     },
     "execution_count": 26,
     "metadata": {},
     "output_type": "execute_result"
    }
   ],
   "source": [
    "######### 4. 그래프 진입점  #########\n",
    "\n",
    "workflow.set_entry_point('retrieve')"
   ]
  },
  {
   "cell_type": "code",
   "execution_count": 27,
   "metadata": {},
   "outputs": [],
   "source": [
    "######### 5. 체크 포인터 설정  #########\n",
    "\n",
    "memory = MemorySaver()"
   ]
  },
  {
   "cell_type": "code",
   "execution_count": 30,
   "metadata": {},
   "outputs": [],
   "source": [
    "######### 6. 그래프 컴파일(compile)  #########\n",
    "\n",
    "app = workflow.compile(checkpointer=memory)"
   ]
  },
  {
   "cell_type": "code",
   "execution_count": 31,
   "metadata": {},
   "outputs": [
    {
     "data": {
      "image/png": "[encoded data removed]",
      "text/plain": [
       "<IPython.core.display.Image object>"
      ]
     },
     "metadata": {},
     "output_type": "display_data"
    }
   ],
   "source": [
    "visualize_graph(app)"
   ]
  }
 ],
 "metadata": {
  "kernelspec": {
   "display_name": "venv",
   "language": "python",
   "name": "python3"
  },
  "language_info": {
   "codemirror_mode": {
    "name": "ipython",
    "version": 3
   },
   "file_extension": ".py",
   "mimetype": "text/x-python",
   "name": "python",
   "nbconvert_exporter": "python",
   "pygments_lexer": "ipython3",
   "version": "3.11.9"
  }
 },
 "nbformat": 4,
 "nbformat_minor": 2
}
