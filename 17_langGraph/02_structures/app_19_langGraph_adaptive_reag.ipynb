{
 "cells": [
  {
   "cell_type": "code",
   "execution_count": 1,
   "metadata": {},
   "outputs": [],
   "source": [
    "from dotenv import load_dotenv\n",
    "import os\n",
    "\n",
    "load_dotenv(verbose=True)\n",
    "key = os.getenv('OPENAI_API_KEY')"
   ]
  },
  {
   "cell_type": "code",
   "execution_count": 2,
   "metadata": {},
   "outputs": [],
   "source": [
    "from langchain_openai import ChatOpenAI\n",
    "from langchain_core.prompts import ChatPromptTemplate\n",
    "from langchain_core.output_parsers import StrOutputParser\n",
    "\n",
    "from rag.pdf import PDFRetrievalChain\n",
    "from langchain_teddynote.tools.tavily import TavilySearch\n",
    "\n",
    "from typing import List, Literal\n",
    "from typing_extensions import TypedDict, Annotated\n",
    "from pydantic import BaseModel, Field\n",
    "from langchain_core.documents import Document"
   ]
  },
  {
   "cell_type": "code",
   "execution_count": 3,
   "metadata": {},
   "outputs": [],
   "source": [
    "class GraphState(TypedDict):\n",
    "    \"\"\"\n",
    "    그래프의 상태를 나타내는 데이터 모델\n",
    "\n",
    "    Attributes:\n",
    "        question: 질문\n",
    "        generation: LLM 생성된 답변\n",
    "        documents: 도큐먼트 리스트\n",
    "    \"\"\"\n",
    "\n",
    "    question: Annotated[str, \"User question\"]\n",
    "    generation: Annotated[str, \"LLM generated answer\"]\n",
    "    documents: Annotated[List[str], \"List of documents\"]"
   ]
  },
  {
   "cell_type": "markdown",
   "metadata": {},
   "source": [
    "### 질문 라우팅 노드"
   ]
  },
  {
   "cell_type": "code",
   "execution_count": 4,
   "metadata": {},
   "outputs": [],
   "source": [
    "class RouteQuery(BaseModel):    \n",
    "    \"\"\"Route a user query to the most relevant datasource.\"\"\"\n",
    "\n",
    "    datasource: Literal[\"vectorstore\", \"web_search\"] = Field(\n",
    "        ...,\n",
    "        description=\"Given a user question choose to route it to web search or a vectorstore.\",\n",
    "    )\n",
    "\n",
    "\n",
    "llm = ChatOpenAI(\n",
    "    api_key=key, \n",
    "    model='gpt-4o-mini', \n",
    "    temperature=0\n",
    ")\n",
    "\n",
    "# 구조화된 출력을 결과로 가젼온다 (vectorstore, web_search)\n",
    "structured_llm_router = llm.with_structured_output(RouteQuery)\n",
    "\n",
    "# 시스템 메시지\n",
    "system = \"\"\"You are an expert at routing a user question to a vectorstore or web search.\n",
    "The vectorstore contains documents related to DEC 2023 AI Brief Report(SPRI) with Samsung Gause, Anthropic, etc.\n",
    "Use the vectorstore for questions on these topics. Otherwise, use web-search.\"\"\"\n",
    "\n",
    "# 프롬프트\n",
    "route_prompt = ChatPromptTemplate.from_messages(\n",
    "    [\n",
    "        ('system', system), \n",
    "        ('human', '{question}')\n",
    "    ]\n",
    ")\n",
    "\n",
    "question_router = route_prompt | structured_llm_router"
   ]
  },
  {
   "cell_type": "code",
   "execution_count": 5,
   "metadata": {},
   "outputs": [],
   "source": [
    "# 질문 라우팅 노드\n",
    "def route_question(state: GraphState):\n",
    "    print('\\n==========================================================================================')\n",
    "    print('===== [ROUTE QUESTION] route_question() 함수 =====')\n",
    "\n",
    "    # 사용자 질문\n",
    "    question = state['question']\n",
    "\n",
    "    # 질문 라우팅\n",
    "    source = question_router.invoke({'question': question})\n",
    "\n",
    "    if source.datasource == \"web_search\":\n",
    "        print(\"==== [ROUTE QUESTION TO WEB SEARCH] ====\")\n",
    "        print('==========================================================================================\\n')\n",
    "        return \"web_search\"\n",
    "    elif source.datasource == \"vectorstore\":\n",
    "        print(\"==== [ROUTE QUESTION TO VECTORSTORE] ====\")\n",
    "        print('==========================================================================================\\n')\n",
    "        return \"vectorstore\""
   ]
  },
  {
   "cell_type": "code",
   "execution_count": 6,
   "metadata": {},
   "outputs": [
    {
     "data": {
      "text/plain": [
       "{'question': '삼성전자가 만든 생성형 AI 이름은?', 'generation': '', 'documents': []}"
      ]
     },
     "execution_count": 6,
     "metadata": {},
     "output_type": "execute_result"
    }
   ],
   "source": [
    "state = GraphState(\n",
    "    question='삼성전자가 만든 생성형 AI 이름은?',\n",
    "    generation = '', \n",
    "    documents = []\n",
    ")\n",
    "\n",
    "state"
   ]
  },
  {
   "cell_type": "code",
   "execution_count": 7,
   "metadata": {},
   "outputs": [
    {
     "name": "stdout",
     "output_type": "stream",
     "text": [
      "\n",
      "==========================================================================================\n",
      "===== [ROUTE QUESTION] route_question() 함수 =====\n",
      "==== [ROUTE QUESTION TO VECTORSTORE] ====\n",
      "==========================================================================================\n",
      "\n"
     ]
    },
    {
     "data": {
      "text/plain": [
       "'vectorstore'"
      ]
     },
     "execution_count": 7,
     "metadata": {},
     "output_type": "execute_result"
    }
   ],
   "source": [
    "route_question(state)"
   ]
  },
  {
   "cell_type": "markdown",
   "metadata": {},
   "source": [
    "### 웹 검색 노드"
   ]
  },
  {
   "cell_type": "code",
   "execution_count": 10,
   "metadata": {},
   "outputs": [],
   "source": [
    "from langchain_teddynote.tools.tavily import TavilySearch\n",
    "\n",
    "web_search_tool = TavilySearch(max_results=2)"
   ]
  },
  {
   "cell_type": "code",
   "execution_count": 11,
   "metadata": {},
   "outputs": [],
   "source": [
    "# 웹 검색 노드\n",
    "def web_search(state):\n",
    "    print('\\n==========================================================================================')\n",
    "    print('===== [WEB SEARCH] web_search() 함수 =====')\n",
    "\n",
    "    # 사용자 질문\n",
    "    question = state['question']\n",
    "    \n",
    "    print(f\"question: \")\n",
    "    print(question)\n",
    "    print()\n",
    "\n",
    "    # 웹 검색 수행\n",
    "    web_results = web_search_tool.invoke({\"query\": question})\n",
    "\n",
    "    print('web_results: ')\n",
    "    print(web_results)\n",
    "    print()\n",
    "\n",
    "    web_results_docs = []\n",
    "    \n",
    "    for result in web_results:\n",
    "        doc = Document(\n",
    "            page_content=result[\"content\"],\n",
    "            metadata={\"source\": result[\"url\"]}\n",
    "        )\n",
    "        web_results_docs.append(doc)\n",
    "\n",
    "    print(web_results_docs)\n",
    "    print('==========================================================================================\\n')\n",
    "\n",
    "    return {\"documents\": web_results_docs}"
   ]
  },
  {
   "cell_type": "code",
   "execution_count": 12,
   "metadata": {},
   "outputs": [
    {
     "name": "stdout",
     "output_type": "stream",
     "text": [
      "\n",
      "==========================================================================================\n",
      "===== [WEB SEARCH] web_search() 함수 =====\n",
      "question: \n",
      "삼성전자가 만든 생성형 AI 이름은?\n",
      "\n",
      "web_results: \n",
      "[{'title': \"삼성전자 생성형 Ai 이름은 '삼성 가우스' '가이스' - 파이낸셜뉴스\", 'url': 'https://www.fnnews.com/news/202309031940191378', 'content': '삼성전자 생성형 AI 이름은 \\'삼성 가우스\\' \\'가이스\\' - 파이낸셜뉴스 삼성전자 생성형 AI 이름은 \\'삼성 가우스\\' \\'가이스\\' 삼성전자가 자체 생성형 인공지능(AI) 서비스 상표권을 출원하며 연내 상용화를 위해 속도를 내고 있다. 전경훈 삼성전자 DX부문 최고기술책임자(CTO) 겸 삼성리서치장(사장)은 최근 사내 타운홀 미팅에서 자체 생성형 AI 개발 방향성을 코딩 지원, 문서 요약, 이메일 전송 등 사내 생산성 향상과 삼성 디바이스 탑재 등 두 가지로 설명한 바 있다. 가출 후 2주 만에 실종된 남편, 숨진 채 발견 [속보]김현태 707단장 \"곽종근 자수서에 \\'국회의원\\' \\'끌어내라\\' 단어 없다\" [속보]김현태 707단장 \"尹지시가 단전 배경이란 건 내용 안 맞아\" 현대차 크레타 EV, 인도서 돌풍…2주 만에 1700대 판매 가출 후 2주 만에 실종된 남편, 숨진 채 발견 \"청소 아줌마, 당 떨어진다며 3만원 양갱 몰래 먹어…따지니 \\'엄마뻘한테?\\'\" [어떻게 생각하세요] \"9개월 만에 20kg 감량\" 20대 여성이 밝힌 놀라운 비법은', 'score': 0.93206495, 'raw_content': 'Published Time: 2023-09-03T19:40:15 +0900\\n삼성전자 생성형 AI 이름은 \\'삼성 가우스\\' \\'가이스\\' - 파이낸셜뉴스\\n파이낸셜뉴스>\\n전체메뉴 검색\\n\\n구독신청\\nFamily Site\\n\\n금융·증권\\n\\n금융\\n증권\\n\\n부동산\\n\\n정책\\n건설\\n철도·항공 ·선박\\n부동산 일반\\n\\n산업·IT\\n\\n산업\\n통신·방송\\n게임\\n인터넷\\n블록체인\\n의학·과학\\n\\n경제\\n\\n경제 일반\\n생활 경제\\n\\n정치\\n\\n대통령실\\n국회·정당\\n북한\\n외교·국방\\n\\n사회\\n\\n사건·사고\\n검찰·법원\\n행정·지자체\\n교육\\n전국\\n\\n국제\\n\\n국제 경제\\n국제 정치\\n국제 사회\\n\\n라이프\\n\\n연예\\n패션/뷰티\\n스포츠\\n푸드·리빙\\n레저·문화\\n\\n오피니언\\n\\n사설/칼럼\\n사외 칼럼\\n\\n기획·연재\\n\\nfn파인더\\nfn시리즈\\n핫이슈+\\n\\nfnEdition\\n\\n포토\\n뉴스레터\\n기자ON\\nfntv\\n신문보기\\nfnSurvey\\n\\n닫기\\n\\n회사소개\\n광고문의\\n제휴문의\\n개인정보취급방침\\n저작권규약\\n이메일주소무단수집거부\\n구독신청\\n고충처리\\n\\n검색\\n닫기\\n공유하기 공유\\n\\n카카오톡\\n페이스북\\n트위터\\n네이버블로그\\n주소복사\\n\\n산업 산업일반\\n삼성전자 생성형 AI 이름은 \\'삼성 가우스\\' \\'가이스\\'\\n파이낸셜뉴스\\n입력 2023.09.03 19:40\\n수정 2023.09.03 20:00\\n\\n확대\\n축소\\n출력\\n\\n관련종목▶\\n\\n삼성전자(005930),\\n삼성전자우(005935)\\n\\n상표권 출원…연내 사내용 상용화\\n\\n삼성전자가 자체 생성형 인공지능(AI) 서비스 상표권을 출원하며 연내 상용화를 위해 속도를 내고 있다. 삼성전자 반도체(DS)부문은 연내 GPT 3.5 수준 이상의 자체 거대언어모델(LLM) 도입을 추진 중이다.  \\n3일 특허정보서비스 키프러스와 업계에 따르면 삼성전자는 \\'삼성 가우스(Samsung Gauus)\\'와 \\'가이스(Gais)\\' 두 개의 AI 관련 상표를 출원했다. 삼성전자는 두 상표 모두 △기계학습 기반 언어 및 음성 처리용 컴퓨터 소프트웨어 △자연어 처리·생성·이해·분석용 컴퓨터 소프트웨어 △AI 소프트웨어라고 설명했다. 특허업계 관계자는 \"생성형 AI와 관련된 상표일 것으로 추정된다\"면서 \"통상 신제품의 경우 복수의 상표권을 출원하는 경우가 흔하다\"고 전했다.\\n삼성전자가 상표를 출원한 생성형 AI는 사내업무용으로 파악됐다. 다만 향후 사업화 등 외부까지 확대 가능성을 염두에 둔 것으로 전해졌다.  \\n앞서 삼성전자는 회사의 민감한 정보가 유출될 가능성을 우려해 사내에서 \\'챗GPT\\'를 비롯한 외부 생성형 AI 사용에 제동을 걸었다.\\n그 대신 삼성전자는 업무에 활용할 수 있는 자체 생성형 AI 서비스 개발 돌입을 선언했다. 전경훈 삼성전자 DX부문 최고기술책임자(CTO) 겸 삼성리서치장(사장)은 최근 사내 타운홀 미팅에서 자체 생성형 AI 개발 방향성을 코딩 지원, 문서 요약, 이메일 전송 등 사내 생산성 향상과 삼성 디바이스 탑재 등 두 가지로 설명한 바 있다.\\n삼성전자 측은 이번 상표권 출원과 관련, \"구체적인 확인이 어렵다\"고 밝혔다.  \\nrejune1112@fnnews.com 김준석 구자윤 기자\\n※ 저작권자 ⓒ 파이낸셜뉴스, 무단전재-재배포 금지\\n실시간_핫클릭 이슈_\\n\\n중고차 안 보고 사버리는 사람들이 믿는 구석은...\\n\"달걀 한 판에 1만 8000원\" 암탉 키우는 게 더 쌀까?\\n은퇴설 배용준 근황, 30억원 통큰 기부\\n기아 첫 전기 세단 EV4는 이런 모습…외관 디자인 공개\\n[단독] 흑자전환에 기본급 1000% 성과급 쏜 회사\\n\\n뉴스스탠드\\n집단으로 女봉사원들과 목욕탕서... 性접대에 북한이 \\'발칵\\'\\n\\n쿨 김성수 전처 사망 사건 때 채리나 남편도 간을..\\n\\'1회 충전 473㎞\\' 한국엔 없는 현대차 \\'대박\\' 조짐\\n“늙기 싫고 다시 젊어지고 싶다”, 이지혜가 극찬한 ‘이것’은?\\n\"아들아, 아파트 이름이 뭐라고?\" 라틴어까지 등장\\n\\n김대호 MBC 퇴사 직전 방송서 수상한 멘트 \"직장인들은..\"  \\n양갱 몰래 먹은 청소 아줌마 \"그깟 거 가지고...\"  \\n캐나다서 \\'당근\\' 깔아봤더니... 반전  \\n대장암 3기 유상무, 완치 후 재검했는데...  \\n[속보]헌재, 尹 기일변경 신청 불허…20일 10차 변론 진행\\n\\n나경원, \\'헌재·선관위 등 공무원 국적 검증 강화법\\' 발의\\n이게 짜장면 가격 맞나? 요즘 \\'면플레이션\\' 수준\\n손님이 10잔 시켰는데 불만인 카페 사장\\n목수된 女 前국회의원 \"사장님이...\"\\n\\n많이 본 뉴스\\n종합 정치 경제 사회\\n\\n김새론, 김수현 생일에 사망…열애설 재조명\\n부천 노래방서 여성 살해 시신 유기한 30대 구속…\"도주 우려\"(종합)\\n서정희 母 \"딸, 전남편 서세원에 갇혀 살아…지독하게 당했다\" [RE:TV]\\n女봉사원들 목욕탕 性접대 \\'특대형 범죄 사건\\'…김정은 분노\\n가출 후 2주 만에 실종된 남편, 숨진 채 발견\\n[단독]현대제철 자회사 희망퇴직 받는다...\\'삼중고\\' 철강업계 인력감축 현실화\\n이재성 \"지상파 아나운서 최초 베드신…아나운서실 발칵\"\\n논란된 \\'조태용-김 여사\\' 문자… 알고보니 윤 대통령 측에서 제출\\n707단장 ‘野 곽종근 회유’ 정황 증언..“지켜주겠다고 했다”\\n\\n\"참다 참다 글 올린다\" 권민아, 故김새론 사생활 폭로 유튜버 저격\\n\\n\\n女봉사원들 목욕탕 性접대 \\'특대형 범죄 사건\\'…김정은 분노\\n\\n707단장 ‘野 곽종근 회유’ 정황 증언..“지켜주겠다고 했다”\\n\\'목수\\'된 류호정 \"선입견 깨고 싶었다…현재로선 정치 생각 없어\"\\n[속보]김현태 707단장 \"곽종근 자수서에 \\'국회의원\\' \\'끌어내라\\' 단어 없다\"\\n[속보]김현태 707단장 \"尹지시가 단전 배경이란 건 내용 안 맞아\"\\n707단장 \"민주당 의원, 곽종근에 \\'당에서 믿는 변호사\\' 붙여주겠다 해\"\\n\\'82세\\' 박지원 \"이재명 혹시 안되면 나도 출마할 것\"\\n\"조국 수사한 검사 국회의원 되게 도와달라\"..김건희 여사 통화 복기록 공개한 명태균\\n나경원 \"이재명 민주당이 온갖 악담…국정 마비, 민생 외면\"\\n\\n권영세, 尹 조기하야설 부정..\"비상계엄은 잘못\"\\n\\n\\n[단독]현대제철 자회사 희망퇴직 받는다...\\'삼중고\\' 철강업계 인력감축 현실화\\n\\n[단독] 3년 만에 \\'흑자전환\\' 넷마블도 통 큰 성과급 쐈다\\n현대차 크레타 EV, 인도서 돌풍…2주 만에 1700대 판매\\n\"술·담배 세금 높여라\" 세수펑크때마다 증세 카드로 \\'만지작\\'… 기재부는 신중\\n“답답해도 참으세요” 면봉으로 귀 파면 안 되는 이유 [헬스톡]\\n월소득 810만원 맞벌이 신혼 \"이 돈으로 내집마련 될까요?\" [MZ부동산]\\n\"그건 어제 가격이고...\" 고삐 풀린 강남, 이제 아무도 못말린다\\n\"이자 부담 해소\"...주담대 변동금리 또 내린다\\n3.3㎡ 당 2억시대 주도… 강남불패 이어받은 \\'한강불패\\'\\n\\n반포 아파트 1채면 지방 국평 200채 사…상급지 갈아타기가 집값 양극화 키웠다\\n\\n\\n부천 노래방서 여성 살해 시신 유기한 30대 구속…\"도주 우려\"(종합)\\n\\n가출 후 2주 만에 실종된 남편, 숨진 채 발견\\n논란된 \\'조태용-김 여사\\' 문자… 알고보니 윤 대통령 측에서 제출\\n\"참다 참다 글 올린다\" 권민아, 故김새론 사생활 폭로 유튜버 저격\\n\"아저씨의 마지막 인사\"..원빈, 활동 공백 속 김새론 빈소 찾았다\\n\"청소 아줌마, 당 떨어진다며 3만원 양갱 몰래 먹어…따지니 \\'엄마뻘한테?\\'\" [어떻게 생각하세요]\\n부산 길거리서 친아들 흉기로 살해한 60대 男 긴급체포\\n초등생 자녀 2명과 극단선택 시도한 엄마...20억 빚 있었다\\n\\'男 1억벌고, 女는 무조건 어리고 예뻐야\\'..결정사 \\'최소 가입조건\\' [어떻게 생각하세요]\\n母앞 전 여친 55번 찔러 살해…서동하, 무기징역에 항소\\n\\n한 컷 뉴스\\n\\n심으뜸, 비현실적인 몸매\\n소유, 풍만한 몸매 드러낸 드레스 자태\\n김세정, 홀터넥 원피스로 뽐낸 청순 글래머\\n2NE1 씨엘, 레전드 미모 경신…화사한 미소\\n\\nfnSurvey\\n반도체 산업, 주52근무제 예외되나?반도체 산업의 경쟁력을 키우기 위한 \\'반도체특별법\\'에는 반도체 업종에 한해 주 52시간 근무제를 예외로 하자는 내용이 포함되어 있습니다. 이제 집단마다 의견이 갈려 아직까지 반도체특별법이 국회를 통과하지 못하고 있는데요. 경영계에서는 근무 시간 규제를 없애야 한다고 주장하지만 노동계에서는 이를 반대하는 입장입니다. 그렇다면 여러분은 주 52시간 근무제에서 반도체 산업을 예외로 규정하는 것에 대해 어떻게 생각하시나요?\\n투표기간 : 2025-02-11 ~ 2025-02-25 투표하러 가기\\n헉스\\n\\n\\'금메달\\' 린샤오쥔, 놀라운 고백 \"나는 중국인이기 때문에...\"\\n\"아들 걸고 가져간 11억 돌려줘\"... 모친 사기사건 휘말린 男아이돌\\n사진 한 번 찍으려다... 상어에 공격 당한 관광객 \\'대참사\\'\\n日 카페 사장, 한국인 관광객 행동에 감동 받은 사연 눈길\\n\"9개월 만에 20kg 감량\" 20대 여성이 밝힌 놀라운 비법은\\n\\nTop \\n금융·증권\\n\\n금융\\n증권\\n\\n부동산\\n\\n정책\\n건설\\n철도·항공 ·선박\\n부동산 일반\\n\\n산업·IT\\n\\n산업\\n통신·방송\\n게임\\n인터넷\\n블록체인\\n의학·과학\\n\\n경제\\n\\n경제 일반\\n생활 경제\\n\\n정치\\n\\n대통령실\\n국회·정당\\n북한\\n외교·국방\\n\\n사회\\n\\n사건·사고\\n검찰·법원\\n행정·지자체\\n교육\\n전국\\n\\n국제\\n\\n국제 경제\\n국제 정치\\n국제 사회\\n\\n라이프\\n\\n연예\\n패션/뷰티\\n스포츠\\n푸드·리빙\\n레저·문화\\n\\n오피니언\\n\\n사설/칼럼\\n사외 칼럼\\n\\n기획·연재\\n\\nfn파인더\\nfn시리즈\\n핫이슈+\\n\\nfnEdition\\n\\n포토\\n뉴스레터\\n기자ON\\nfntv\\n신문보기\\n\\nfnSurvey\\n\\n\\n회사소개\\n\\n광고문의\\n제휴문의\\n개인정보취급방침\\n저작권규약\\n이메일주소무단수집거부\\n구독신청\\n고충처리\\n사이트맵\\n\\nfn family\\n\\n부산파이낸셜뉴스\\n팩트블록\\n파이낸셜뉴스재팬\\nfn이벤트\\n\\nFinancial News\\n\\n\\n주소 : 서울 서초구 강남대로 315\\n\\n\\n전화 : 02-2003-7114\\n\\n\\n인터넷신문 등록번호 : 서울 아04510\\n\\n\\n등록일자 : 2017.05.08\\n\\n\\nCopyright ⓒ파이낸셜뉴스. All rights reserved.\\n\\n\\n회장 : 전재호\\n\\n\\n부회장·발행인 : 전선익\\n\\n\\n사장·인쇄인·편집인 : 변동식\\n\\n\\n편집국장 : 김홍재\\n\\n\\n청소년보호정책 (책임자 : 이대율)\\n\\n'}, {'title': \"[존재의 증명] 삼성전자 인공지능의 이름은 '가우스' 혹은 '가이스'\", 'url': 'https://www.bizhankook.com/bk/article/26352', 'content': \"생성형 ai 선구자, 챗지피티(chatgpt)를 만든 오픈ai도 생성형 ai와 관련해 'chatgpt', 'gpt', 'gpt-4', 'gpt-5'의 상표를 국내에 출원했다. 생성형 ai 상표의 경우 주로 제9류인 ai 소프트웨어 및 제42류의 ai 소프트웨어 개발업 등을 지정해 상표출원 하게 된다.\", 'score': 0.91760606, 'raw_content': \"Target@Biz\\n\\nStory↑Up\\n\\n[존재의 증명] 삼성전자 인공지능의 이름은 '가우스' 혹은 '가이스'\\n\\nIT 기업들의 불꽃 튀는 인공지능 상표 확보 경쟁…해외 진출 시 한글 병기보다 영문 상표가 유리\\n\\n[비즈한국] 삼성전자가 생성형 인공지능(AI) 개발에 뛰어들었다. 그 이름은 아마도 ‘가이스(Gais)’ 또는 ‘삼성 가우스(Samsung Gauss)’가 될 것으로 전망된다. 삼성전자 측이 지난 8월 29일 ‘\\u200bSamsung Gauss’\\u200b 및 ‘\\u200bGais’\\u200b라는 이름을 AI 소프트웨어, 기계학습기반 언어, 음성처리용 컴퓨터 소프트웨어 등에 사용하겠다며 상표로 출원했기 때문이다.\\xa0\\n\\n\\n\\n\\xa0삼성전자에 앞서 네이버는 생성형 AI 관련 ‘HyperCLOVA X(하이퍼클로바 엑스)’\\u200b를, SK텔레콤은 생성형 AI 소프트웨어에 대해 ‘A.X(에이닷엑스)’\\u200b를 상표 출원했고, 엔씨소프트 또한 ‘VARCO(바르코)’\\u200b와 ‘NCVARCO(엔씨바르코)’\\u200b를 생성형 AI 관련 상표로 출원했다. 생성형 AI 선구자, 챗지피티(ChatGPT)를 만든 오픈AI도 생성형 AI와 관련해 ‘CHATGPT’, ‘GPT’, ‘GPT-4’, ‘GPT-5’의 상표를 국내에 출원했다. 생성형 AI 상표의 경우 주로 제9류인 AI 소프트웨어 및 제42류의 AI 소프트웨어 개발업 등을 지정해 상표출원 하게 된다.\\xa0기업들이 이처럼 생성형 AI 관련 상표를 출원하는 것은 관련 제품이나 서비스를 제공하고 있거나 준비 중임을 의미한다. 바야흐로 생성형 AI 시대라 할 것이다.\\xa0삼성전자가 출원한 상표를 살펴보면, GAUSS 앞에는 Samsung을 붙여 출원하고, Gais는 단독으로 출원했다. GAUSS는 테슬라(Tesla)와 같이 자기장의 세기를 나타내는 자속 밀도 단위로서, 컴퓨터 관련 제품이나 서비스에 식별력을 인정받기 쉽지 않다. 따라서 GAUSS가 사용에 의해 삼성의 제품이나 서비스로 인식될 정도에 이르지 못하는 한 GAUSS만의 단독 출원은 삼성이라고 해도 등록이 어려울 수 있다.\\xa0\\xa0하지만 GAUSS 앞에 Samsung을 붙여 출원하면 식별력을 확보할 수 있게 된다. 반면 Gais의 경우는 생성형 AI 관련 그 자체로 식별력을 인정받을 가능성이 매우 높기 때문에 Samsung 없이 Gais 만으로 상표출원 진행한 것으로 보인다.\\xa0\\n\\n\\n\\n\\xa0GAUSS 와 Gais 모두 한글 가우스 및 가이스를 병기하여 출원하는 것은 어떨까. 한글과 영어를 병기해 출원한 다음, 한글만 또는 영어만 상표로 사용한 경우에도 한글이 영어의 음역에 불과한 경우 상표권의 정당한 사용에 해당된다는 최근의 대법원 판결에 따라서 국내에서 한글과 영어를 병기해 출원해도 괜찮다.\\xa0다만 이 상표를 바탕으로 해외출원 하는 경우를 고려하면, 영어만으로 상표출원 하는 것이 바람직하다. 특히 마드리드 제도를 활용해 하나의 출원으로 여러 나라에 상표출원 하는 경우라면 더욱이 그렇다. 마드리드 제도를 이용한 해외 출원은 국내에 기초가 되는 상표출원이나 상표등록이 존재해야 하고, 그 기초가 된 출원이나 등록 상표가 마드리드 출원 상표와 엄격한 동일성이 요구되기 때문이다.\\xa0\\xa0결국 해외진출까지 고려한 제품이나 서비스라면 한글과 영어의 병기 상표는 별개로 고려하더라도 영어 상표를 확보하는 것은 반드시 필요하겠다. 한편, 한글과 영어로 병기된 상표와 영어만으로 구성된 상표의 권리범위는 크게 차이가 나지 않는다. 영어만으로 상표 등록된 경우라고 하더라도 영어의 한글 음역이나 이와 유사한 발음 등을 제3자가 상표로 사용한다면 등록상표 침해가 성립될 가능성이 매우 높다. 물론 한글만으로 상표 등록된 경우에 한글에 해당하는 영어나 이와 유사한 영어를 제3자가 상표로 사용하게 된다면 마찬가지로 등록상표의 침해가 성립될 수 있다.\\xa0\\xa0\\xa0한편, 삼성전자는 두 상표 모두에 대하여 우선심사를 신청한 상태다. 최근 일반심사로 상표가 등록받기 까지는 적어도 1년을 훌쩍 넘긴 기간이 요구된다. 그런데 우선심사를 신청하게 되는 경우 늦어도 4개월이면 등록증까지 받을 수 있다. 우선심사에 추가로 요구되는 비용을 지불하게 되면 일반심사에 비해 훨씬 빠른 기간에 상표 등록증을 받을 수 있는 것이다.\\xa0당장 비즈니스가 시작되고, 상표 등록이 필요한 사항이라면 기업은 우선심사를 적극 활용할 수 있다. 반대로 선출원주의로 장래에 사용할 상표의 선점이나 향후 비즈니스 확장으로 사용가능성이 있는 상표라면 일반심사를 통해 상표권을 천천히 확보하는 것도 기업의 경영 전략일 수 있겠다.\\n\\n[비즈한국] 삼성전자가 생성형 인공지능(AI) 개발에 뛰어들었다. 그 이름은 아마도 ‘가이스(Gais)’ 또는 ‘삼성 가우스(Samsung Gauss)’가 될 것으로 전망된다. 삼성전자 측이 지난 8월 29일 ‘\\u200bSamsung Gauss’\\u200b 및 ‘\\u200bGais’\\u200b라는 이름을 AI 소프트웨어, 기계학습기반 언어, 음성처리용 컴퓨터 소프트웨어 등에 사용하겠다며 상표로 출원했기 때문이다.\\n\\n\\n\\n\\n\\n\\n\\n삼성전자에 앞서 네이버는 생성형 AI 관련 ‘HyperCLOVA X(하이퍼클로바 엑스)’\\u200b를, SK텔레콤은 생성형 AI 소프트웨어에 대해 ‘A.X(에이닷엑스)’\\u200b를 상표 출원했고, 엔씨소프트 또한 ‘VARCO(바르코)’\\u200b와 ‘NCVARCO(엔씨바르코)’\\u200b를 생성형 AI 관련 상표로 출원했다. 생성형 AI 선구자, 챗지피티(ChatGPT)를 만든 오픈AI도 생성형 AI와 관련해 ‘CHATGPT’, ‘GPT’, ‘GPT-4’, ‘GPT-5’의 상표를 국내에 출원했다. 생성형 AI 상표의 경우 주로 제9류인 AI 소프트웨어 및 제42류의 AI 소프트웨어 개발업 등을 지정해 상표출원 하게 된다.\\n\\n\\n\\n기업들이 이처럼 생성형 AI 관련 상표를 출원하는 것은 관련 제품이나 서비스를 제공하고 있거나 준비 중임을 의미한다. 바야흐로 생성형 AI 시대라 할 것이다.\\n\\n\\n\\n삼성전자가 출원한 상표를 살펴보면, GAUSS 앞에는 Samsung을 붙여 출원하고, Gais는 단독으로 출원했다. GAUSS는 테슬라(Tesla)와 같이 자기장의 세기를 나타내는 자속 밀도 단위로서, 컴퓨터 관련 제품이나 서비스에 식별력을 인정받기 쉽지 않다. 따라서 GAUSS가 사용에 의해 삼성의 제품이나 서비스로 인식될 정도에 이르지 못하는 한 GAUSS만의 단독 출원은 삼성이라고 해도 등록이 어려울 수 있다.\\n\\n\\n\\n하지만 GAUSS 앞에 Samsung을 붙여 출원하면 식별력을 확보할 수 있게 된다. 반면 Gais의 경우는 생성형 AI 관련 그 자체로 식별력을 인정받을 가능성이 매우 높기 때문에 Samsung 없이 Gais 만으로 상표출원 진행한 것으로 보인다.\\n\\n\\n\\n\\n\\n\\n\\nGAUSS 와 Gais 모두 한글 가우스 및 가이스를 병기하여 출원하는 것은 어떨까. 한글과 영어를 병기해 출원한 다음, 한글만 또는 영어만 상표로 사용한 경우에도 한글이 영어의 음역에 불과한 경우 상표권의 정당한 사용에 해당된다는 최근의 대법원 판결에 따라서 국내에서 한글과 영어를 병기해 출원해도 괜찮다.\\n\\n\\n\\n다만 이 상표를 바탕으로 해외출원 하는 경우를 고려하면, 영어만으로 상표출원 하는 것이 바람직하다. 특히 마드리드 제도를 활용해 하나의 출원으로 여러 나라에 상표출원 하는 경우라면 더욱이 그렇다. 마드리드 제도를 이용한 해외 출원은 국내에 기초가 되는 상표출원이나 상표등록이 존재해야 하고, 그 기초가 된 출원이나 등록 상표가 마드리드 출원 상표와 엄격한 동일성이 요구되기 때문이다.\\n\\n\\n\\n결국 해외진출까지 고려한 제품이나 서비스라면 한글과 영어의 병기 상표는 별개로 고려하더라도 영어 상표를 확보하는 것은 반드시 필요하겠다. 한편, 한글과 영어로 병기된 상표와 영어만으로 구성된 상표의 권리범위는 크게 차이가 나지 않는다. 영어만으로 상표 등록된 경우라고 하더라도 영어의 한글 음역이나 이와 유사한 발음 등을 제3자가 상표로 사용한다면 등록상표 침해가 성립될 가능성이 매우 높다. 물론 한글만으로 상표 등록된 경우에 한글에 해당하는 영어나 이와 유사한 영어를 제3자가 상표로 사용하게 된다면 마찬가지로 등록상표의 침해가 성립될 수 있다.\\n\\n\\n\\n한편, 삼성전자는 두 상표 모두에 대하여 우선심사를 신청한 상태다. 최근 일반심사로 상표가 등록받기 까지는 적어도 1년을 훌쩍 넘긴 기간이 요구된다. 그런데 우선심사를 신청하게 되는 경우 늦어도 4개월이면 등록증까지 받을 수 있다. 우선심사에 추가로 요구되는 비용을 지불하게 되면 일반심사에 비해 훨씬 빠른 기간에 상표 등록증을 받을 수 있는 것이다.\\n\\n\\n\\n당장 비즈니스가 시작되고, 상표 등록이 필요한 사항이라면 기업은 우선심사를 적극 활용할 수 있다. 반대로 선출원주의로 장래에 사용할 상표의 선점이나 향후 비즈니스 확장으로 사용가능성이 있는 상표라면 일반심사를 통해 상표권을 천천히 확보하는 것도 기업의 경영 전략일 수 있겠다.\\n\\n공우상\\n\\n 특허\\n\\n[핫클릭]\\n\\n·  \\r\\n\\t\\t\\t\\t\\t\\t\\r\\n\\t\\t\\t\\t\\t\\t\\r\\n\\t\\t\\t\\t\\t\\t\\t[존재의 증명] 가짜 명품 구매자도 법적 처벌을 받을까\\r\\n\\t\\t\\t\\t\\t\\t\\r\\n\\t\\t\\t\\t\\t \\n\\n\\n ·  \\r\\n\\t\\t\\t\\t\\t\\t\\r\\n\\t\\t\\t\\t\\t\\t\\r\\n\\t\\t\\t\\t\\t\\t\\t[존재의 증명] 상온·상압 초전도체 주장하는 'LK-99' 특허권은 어떻게 확보할까\\r\\n\\t\\t\\t\\t\\t\\t\\r\\n\\t\\t\\t\\t\\t \\n\\n\\n ·  \\r\\n\\t\\t\\t\\t\\t\\t\\r\\n\\t\\t\\t\\t\\t\\t\\r\\n\\t\\t\\t\\t\\t\\t\\t[존재의 증명] 피프티피프티 상표권 분쟁, 어떻게 풀면 좋을까\\r\\n\\t\\t\\t\\t\\t\\t\\r\\n\\t\\t\\t\\t\\t \\n\\n\\n ·  \\r\\n\\t\\t\\t\\t\\t\\t\\r\\n\\t\\t\\t\\t\\t\\t\\r\\n\\t\\t\\t\\t\\t\\t\\t[존재의 증명] 애플이 전 세계 사과 상표에 딴지를 거는 이유\\r\\n\\t\\t\\t\\t\\t\\t\\r\\n\\t\\t\\t\\t\\t \\n\\n\\n ·  \\r\\n\\t\\t\\t\\t\\t\\t\\r\\n\\t\\t\\t\\t\\t\\t\\r\\n\\t\\t\\t\\t\\t\\t\\t[존재의 증명] '일단 등록하고 보자' 우리나라 상표 제도의 문제점\\r\\n\\t\\t\\t\\t\\t\\t\\r\\n\\t\\t\\t\\t\\t \\n\\n\\n\\n\\n<저작권자 ⓒ 비즈한국 무단전재 및 재배포 금지>\\n\\n비즈 전체 리스트 보기\\n\\n\\n\\n\\n\\n\\n\\n\\n\\n\\n\\n\\n\\n\\n\\n\\n\\n\\n\\n\\n주요기사\\n\\n\\n\\n\\n\\n\\n회원 200만 오아시스가 2800만 티몬 인수하면 쿠팡처럼 될까\\n\\n\\n\\n\\n\\n\\n\\n[단독] ADEX 2025 성남공항 아닌 일산 킨텍스서 열린다\\n\\n\\n\\n\\n\\n\\n\\n[단독] 두산밥캣, 두산기술원 1870억 원에 전격 매각\\n\\n\\n\\n\\n\\n\\n\\n'저가폰' 넘어선 화웨이, 샤오미…MWC 나온 중국 스마트폰의 변신\\n\\n\\n\\n\\n\\n인기기사\\n\\n\\n\\n\\n\\n\\n[단독] KF-21 핵심무기 '천룡', FA-50 장착 후 비행 시험\\n\\n\\n\\n\\n\\n\\n\\n[사이언스] 우리 은하 중심에서 '삼체' 현상 포착\\n\\n\\n\\n\\n\\n\\n\\n[부동산 인사이트] \\ufeff2025년, 세종시를 주목해야 하는 이유\\n\\n\\n\\n\\n\\n\\n\\n'원경' 21세기 원경왕후 멋지게 표현한 차주영에게 찬사를\\n\\n<저작권자 ⓒ 비즈한국 무단전재 및 재배포 금지>\\n\\n비즈 전체 리스트 보기\\n\\n\\n\\n\\n\\n\\n\\n\\n\\n\\n\\n\\n\\n\\n\\n\\n\\n\\n\\n\\n주요기사\\n\\n\\n\\n\\n\\n\\n회원 200만 오아시스가 2800만 티몬 인수하면 쿠팡처럼 될까\\n\\n\\n\\n\\n\\n\\n\\n[단독] ADEX 2025 성남공항 아닌 일산 킨텍스서 열린다\\n\\n\\n\\n\\n\\n\\n\\n[단독] 두산밥캣, 두산기술원 1870억 원에 전격 매각\\n\\n\\n\\n\\n\\n\\n\\n'저가폰' 넘어선 화웨이, 샤오미…MWC 나온 중국 스마트폰의 변신\\n\\n\\n\\n\\n\\n인기기사\\n\\n\\n\\n\\n\\n\\n[단독] KF-21 핵심무기 '천룡', FA-50 장착 후 비행 시험\\n\\n\\n\\n\\n\\n\\n\\n[사이언스] 우리 은하 중심에서 '삼체' 현상 포착\\n\\n\\n\\n\\n\\n\\n\\n[부동산 인사이트] \\ufeff2025년, 세종시를 주목해야 하는 이유\\n\\n\\n\\n\\n\\n\\n\\n'원경' 21세기 원경왕후 멋지게 표현한 차주영에게 찬사를\\n\\n<저작권자 ⓒ 비즈한국 무단전재 및 재배포 금지>\\n\\n[비즈한국] ST인터내셔널이 인수한 블루코너캐피탈(옛 웰컴캐피탈)이 본사를 대치동으로 이전한 ...\\n\\n[비즈한국] 우리나라에 세계 최초로 안티드론 운용자 자격증이 발급된다. 최근 드론 기술이 발전...\\n\\n[비즈한국] CJ대한통운이 주7일 배송을 시작한 지 두 달이 지났다. CJ대한통운은 일요일 배송을 시...\\n\\n[비즈한국] 지난 수천 년 동안 이어진 천문학의 역사가 우리에게 남긴 교훈이 있다. 우리는 전혀 ...\\n\\n[비즈한국] 트럼프 행정부가 관세 부과를 확대하면서 뉴욕 증시의 3대 지수가 급락했다. 관세와 관...\\n\\n[비즈한국] 지난주 젤렌스키 우크라이나 대통령과 트럼프 미국 대통령의 정상회담이 세계적인 이...\\n\\n[비즈한국] 건설업계에 ‘4월 위기설’이 돌고 있다. 100위권 안팎의 건설사들뿐 아니라, 10위권 안...\\n\\n[비즈한국] 기업들은 때론 돈만 가지고는 설명하기 어려운 결정을 한다. 그 속에 숨어 있는 법이나...\\n\\n\\n\\n\\n\\n\\n\\n\\n\\nTarget@Biz\\n\\nStory↑Up\\n\\n(주)일요신문사｜서울특별시 용산구 만리재로 192｜사업자번호:\\r\\n      106-81-48524｜인터넷신문사업등록번호: 서울, 아02990\\r\\n      ｜인터넷신문사업등록·발행일: 2014년 2월 4일｜발행인/편집인:\\r\\n      김원양｜청소년보호책임자: 김남희 ｜TEL: 02-2198-1591(02-2198-1564)｜FAX:\\r\\n      02-738-4675｜E-mail:\\r\\n      bizhk@bizhankook.com\\n\\r\\n      Copyright ⓒ 2016 비즈한국. All rights reserved.\\n\\nUPDATE 2025년 3월 6일\\n\\n\"}]\n",
      "\n",
      "[Document(metadata={'source': 'https://www.fnnews.com/news/202309031940191378'}, page_content='삼성전자 생성형 AI 이름은 \\'삼성 가우스\\' \\'가이스\\' - 파이낸셜뉴스 삼성전자 생성형 AI 이름은 \\'삼성 가우스\\' \\'가이스\\' 삼성전자가 자체 생성형 인공지능(AI) 서비스 상표권을 출원하며 연내 상용화를 위해 속도를 내고 있다. 전경훈 삼성전자 DX부문 최고기술책임자(CTO) 겸 삼성리서치장(사장)은 최근 사내 타운홀 미팅에서 자체 생성형 AI 개발 방향성을 코딩 지원, 문서 요약, 이메일 전송 등 사내 생산성 향상과 삼성 디바이스 탑재 등 두 가지로 설명한 바 있다. 가출 후 2주 만에 실종된 남편, 숨진 채 발견 [속보]김현태 707단장 \"곽종근 자수서에 \\'국회의원\\' \\'끌어내라\\' 단어 없다\" [속보]김현태 707단장 \"尹지시가 단전 배경이란 건 내용 안 맞아\" 현대차 크레타 EV, 인도서 돌풍…2주 만에 1700대 판매 가출 후 2주 만에 실종된 남편, 숨진 채 발견 \"청소 아줌마, 당 떨어진다며 3만원 양갱 몰래 먹어…따지니 \\'엄마뻘한테?\\'\" [어떻게 생각하세요] \"9개월 만에 20kg 감량\" 20대 여성이 밝힌 놀라운 비법은'), Document(metadata={'source': 'https://www.bizhankook.com/bk/article/26352'}, page_content=\"생성형 ai 선구자, 챗지피티(chatgpt)를 만든 오픈ai도 생성형 ai와 관련해 'chatgpt', 'gpt', 'gpt-4', 'gpt-5'의 상표를 국내에 출원했다. 생성형 ai 상표의 경우 주로 제9류인 ai 소프트웨어 및 제42류의 ai 소프트웨어 개발업 등을 지정해 상표출원 하게 된다.\")]\n",
      "==========================================================================================\n",
      "\n"
     ]
    },
    {
     "data": {
      "text/plain": [
       "{'documents': [Document(metadata={'source': 'https://www.fnnews.com/news/202309031940191378'}, page_content='삼성전자 생성형 AI 이름은 \\'삼성 가우스\\' \\'가이스\\' - 파이낸셜뉴스 삼성전자 생성형 AI 이름은 \\'삼성 가우스\\' \\'가이스\\' 삼성전자가 자체 생성형 인공지능(AI) 서비스 상표권을 출원하며 연내 상용화를 위해 속도를 내고 있다. 전경훈 삼성전자 DX부문 최고기술책임자(CTO) 겸 삼성리서치장(사장)은 최근 사내 타운홀 미팅에서 자체 생성형 AI 개발 방향성을 코딩 지원, 문서 요약, 이메일 전송 등 사내 생산성 향상과 삼성 디바이스 탑재 등 두 가지로 설명한 바 있다. 가출 후 2주 만에 실종된 남편, 숨진 채 발견 [속보]김현태 707단장 \"곽종근 자수서에 \\'국회의원\\' \\'끌어내라\\' 단어 없다\" [속보]김현태 707단장 \"尹지시가 단전 배경이란 건 내용 안 맞아\" 현대차 크레타 EV, 인도서 돌풍…2주 만에 1700대 판매 가출 후 2주 만에 실종된 남편, 숨진 채 발견 \"청소 아줌마, 당 떨어진다며 3만원 양갱 몰래 먹어…따지니 \\'엄마뻘한테?\\'\" [어떻게 생각하세요] \"9개월 만에 20kg 감량\" 20대 여성이 밝힌 놀라운 비법은'),\n",
       "  Document(metadata={'source': 'https://www.bizhankook.com/bk/article/26352'}, page_content=\"생성형 ai 선구자, 챗지피티(chatgpt)를 만든 오픈ai도 생성형 ai와 관련해 'chatgpt', 'gpt', 'gpt-4', 'gpt-5'의 상표를 국내에 출원했다. 생성형 ai 상표의 경우 주로 제9류인 ai 소프트웨어 및 제42류의 ai 소프트웨어 개발업 등을 지정해 상표출원 하게 된다.\")]}"
      ]
     },
     "execution_count": 12,
     "metadata": {},
     "output_type": "execute_result"
    }
   ],
   "source": [
    "web_search(state)"
   ]
  },
  {
   "cell_type": "markdown",
   "metadata": {},
   "source": [
    "### 문서 검색 노드 : 사용자 질문에 대한 PDF 문서를 검색하는 PDF 기반 문서 검색기 (Retrieval chain)"
   ]
  },
  {
   "cell_type": "code",
   "execution_count": 13,
   "metadata": {},
   "outputs": [],
   "source": [
    "# PDF 문서를 로드\n",
    "pdf = PDFRetrievalChain(['data/SPRI_AI_Brief_2023년12월호_F.pdf']).create_chain()\n",
    "\n",
    "pdf_retriever = pdf.retriever       # retriever 생성\n",
    "pdf_chain = pdf.chain               # pdf retriever chain 생성"
   ]
  },
  {
   "cell_type": "code",
   "execution_count": 14,
   "metadata": {},
   "outputs": [],
   "source": [
    "# 문서 검색 노드\n",
    "def retrieve(state: GraphState):\n",
    "    print('\\n==========================================================================================')\n",
    "    print('===== [RETRIEVE] retieve() 노드 실행 =====')\n",
    "\n",
    "    # 사용자 질문\n",
    "    question = state['question']        \n",
    "\n",
    "    # 문서 검색 (pdf_retriever 에 사용자 입력을 인자로 넣어서 문서를 검색)\n",
    "    documents = pdf_retriever.invoke(question)\n",
    "    \n",
    "    print(f'문서 검색 결과: ')\n",
    "    print(documents)\n",
    "    print('==========================================================================================\\n')\n",
    "    \n",
    "    return {'documents': documents}"
   ]
  },
  {
   "cell_type": "code",
   "execution_count": 15,
   "metadata": {},
   "outputs": [
    {
     "name": "stdout",
     "output_type": "stream",
     "text": [
      "\n",
      "==========================================================================================\n",
      "===== [RETRIEVE] retieve() 노드 실행 =====\n",
      "문서 검색 결과: \n",
      "[Document(id='74eb8859-4cdc-4166-b090-f3b02c3bbdcd', metadata={'source': 'data/SPRI_AI_Brief_2023년12월호_F.pdf', 'file_path': 'data/SPRI_AI_Brief_2023년12월호_F.pdf', 'page': 1, 'total_pages': 23, 'Author': 'dj', 'Creator': 'Hwp 2018 10.0.0.13462', 'Producer': 'Hancom PDF 1.3.0.542', 'CreationDate': \"D:20231208132838+09'00'\", 'ModDate': \"D:20231208132838+09'00'\", 'PDFVersion': '1.4'}, page_content='▹ 삼성전자, 자체 개발 생성 AI ‘삼성 가우스’ 공개 ···························································10\\n▹ 구글, 앤스로픽에 20억 달러 투자로 생성 AI 협력 강화 ················································11\\n▹ IDC, 2027년 AI 소프트웨어 매출 2,500억 달러 돌파 전망···········································12'), Document(id='6d08664d-42c5-4a54-91a5-86954096bab4', metadata={'source': 'data/SPRI_AI_Brief_2023년12월호_F.pdf', 'file_path': 'data/SPRI_AI_Brief_2023년12월호_F.pdf', 'page': 12, 'total_pages': 23, 'Author': 'dj', 'Creator': 'Hwp 2018 10.0.0.13462', 'Producer': 'Hancom PDF 1.3.0.542', 'CreationDate': \"D:20231208132838+09'00'\", 'ModDate': \"D:20231208132838+09'00'\", 'PDFVersion': '1.4'}, page_content='SPRi AI Brief |\\n2023-12월호\\n삼성전자, 자체 개발 생성 AI ‘삼성 가우스’ 공개\\nKEY Contents\\nn 삼성전자가 온디바이스에서 작동 가능하며 언어, 코드, 이미지의 3개 모델로 구성된 자체 개발 생성\\nAI 모델 ‘삼성 가우스’를 공개\\nn 삼성전자는 삼성 가우스를 다양한 제품에 단계적으로 탑재할 계획으로, 온디바이스 작동이 가능한\\n삼성 가우스는 외부로 사용자 정보가 유출될 위험이 없다는 장점을 보유\\n£언어, 코드, 이미지의 3개 모델로 구성된 삼성 가우스, 온디바이스 작동 지원'), Document(id='5c637d35-3232-46bb-821d-94b42f64968d', metadata={'source': 'data/SPRI_AI_Brief_2023년12월호_F.pdf', 'file_path': 'data/SPRI_AI_Brief_2023년12월호_F.pdf', 'page': 12, 'total_pages': 23, 'Author': 'dj', 'Creator': 'Hwp 2018 10.0.0.13462', 'Producer': 'Hancom PDF 1.3.0.542', 'CreationDate': \"D:20231208132838+09'00'\", 'ModDate': \"D:20231208132838+09'00'\", 'PDFVersion': '1.4'}, page_content='£언어, 코드, 이미지의 3개 모델로 구성된 삼성 가우스, 온디바이스 작동 지원\\nn 삼성전자가 2023년 11월 8일 열린 ‘삼성 AI 포럼 2023’ 행사에서 자체 개발한 생성 AI 모델\\n‘삼성 가우스’를 최초 공개\\n∙ 정규분포 이론을 정립한 천재 수학자 가우스(Gauss)의 이름을 본뜬 삼성 가우스는 다양한 상황에\\n최적화된 크기의 모델 선택이 가능\\n∙ 삼성 가우스는 라이선스나 개인정보를 침해하지 않는 안전한 데이터를 통해 학습되었으며,\\n온디바이스에서 작동하도록 설계되어 외부로 사용자의 정보가 유출되지 않는 장점을 보유'), Document(id='25f6d0eb-e270-48d2-a356-99b6f68324cf', metadata={'source': 'data/SPRI_AI_Brief_2023년12월호_F.pdf', 'file_path': 'data/SPRI_AI_Brief_2023년12월호_F.pdf', 'page': 12, 'total_pages': 23, 'Author': 'dj', 'Creator': 'Hwp 2018 10.0.0.13462', 'Producer': 'Hancom PDF 1.3.0.542', 'CreationDate': \"D:20231208132838+09'00'\", 'ModDate': \"D:20231208132838+09'00'\", 'PDFVersion': '1.4'}, page_content='어시스턴트를 적용한 구글 픽셀(Pixel)과 경쟁할 것으로 예상\\n☞ 출처 : 삼성전자, ‘삼성 AI 포럼’서 자체 개발 생성형 AI ‘삼성 가우스’ 공개, 2023.11.08.\\n삼성전자, ‘삼성 개발자 콘퍼런스 코리아 2023’ 개최, 2023.11.14.\\nTechRepublic, Samsung Gauss: Samsung Research Reveals Generative AI, 2023.11.08.\\n10'), Document(id='964054bd-1da3-4bce-a3da-885d33c6b5aa', metadata={'source': 'data/SPRI_AI_Brief_2023년12월호_F.pdf', 'file_path': 'data/SPRI_AI_Brief_2023년12월호_F.pdf', 'page': 18, 'total_pages': 23, 'Author': 'dj', 'Creator': 'Hwp 2018 10.0.0.13462', 'Producer': 'Hancom PDF 1.3.0.542', 'CreationDate': \"D:20231208132838+09'00'\", 'ModDate': \"D:20231208132838+09'00'\", 'PDFVersion': '1.4'}, page_content='<구글 딥마인드의 범용 AI 분류 프레임워크>\\n성능 특수 AI 예시 범용 AI 예시\\n0단계: AI 아님 계산기 소프트웨어, 컴파일러 아마존 메커니컬 터크\\n1단계: 신진(숙련되지 않은 인간) GOFAI(Good Old Fashioned Artificial Intelligence) 챗GPT, 바드, 라마2\\n스마트 스피커(애플 시리, 아마존 알렉사, 구글\\n2단계: 유능(숙련된 인간의 50% 이상) 미달성\\n어시스턴트), IBM 왓슨\\n3단계: 전문가(숙련된 인간의 90% 이상) 문법 교정기(그래머리), 생성 이미지 모델(달리2) 미달성'), Document(id='77569279-89cc-4dd9-b7fd-d057a098b12b', metadata={'source': 'data/SPRI_AI_Brief_2023년12월호_F.pdf', 'file_path': 'data/SPRI_AI_Brief_2023년12월호_F.pdf', 'page': 12, 'total_pages': 23, 'Author': 'dj', 'Creator': 'Hwp 2018 10.0.0.13462', 'Producer': 'Hancom PDF 1.3.0.542', 'CreationDate': \"D:20231208132838+09'00'\", 'ModDate': \"D:20231208132838+09'00'\", 'PDFVersion': '1.4'}, page_content='처리를 지원\\n∙ 코드 모델 기반의 AI 코딩 어시스턴트 ‘코드아이(code.i)’는 대화형 인터페이스로 서비스를 제공하며\\n사내 소프트웨어 개발에 최적화\\n∙ 이미지 모델은 창의적인 이미지를 생성하고 기존 이미지를 원하는 대로 바꿀 수 있도록 지원하며\\n저해상도 이미지의 고해상도 전환도 지원\\nn IT 전문지 테크리퍼블릭(TechRepublic)은 온디바이스 AI가 주요 기술 트렌드로 부상했다며,\\n2024년부터 가우스를 탑재한 삼성 스마트폰이 메타의 라마(Llama)2를 탑재한 퀄컴 기기 및 구글'), Document(id='1a015410-720c-4099-96e2-608d1cfc01fe', metadata={'source': 'data/SPRI_AI_Brief_2023년12월호_F.pdf', 'file_path': 'data/SPRI_AI_Brief_2023년12월호_F.pdf', 'page': 12, 'total_pages': 23, 'Author': 'dj', 'Creator': 'Hwp 2018 10.0.0.13462', 'Producer': 'Hancom PDF 1.3.0.542', 'CreationDate': \"D:20231208132838+09'00'\", 'ModDate': \"D:20231208132838+09'00'\", 'PDFVersion': '1.4'}, page_content='온디바이스에서 작동하도록 설계되어 외부로 사용자의 정보가 유출되지 않는 장점을 보유\\n∙ 삼성전자는 삼성 가우스를 활용한 온디바이스 AI 기술도 소개했으며, 생성 AI 모델을 다양한 제품에\\n단계적으로 탑재할 계획\\nn 삼성 가우스는 △텍스트를 생성하는 언어모델 △코드를 생성하는 코드 모델 △이미지를 생성하는\\n이미지 모델의 3개 모델로 구성\\n∙ 언어 모델은 클라우드와 온디바이스 대상 다양한 모델로 구성되며, 메일 작성, 문서 요약, 번역 업무의\\n처리를 지원'), Document(id='e1393a97-7d58-4fe0-9d86-e95dfde22407', metadata={'source': 'data/SPRI_AI_Brief_2023년12월호_F.pdf', 'file_path': 'data/SPRI_AI_Brief_2023년12월호_F.pdf', 'page': 11, 'total_pages': 23, 'Author': 'dj', 'Creator': 'Hwp 2018 10.0.0.13462', 'Producer': 'Hancom PDF 1.3.0.542', 'CreationDate': \"D:20231208132838+09'00'\", 'ModDate': \"D:20231208132838+09'00'\", 'PDFVersion': '1.4'}, page_content='제작을 포함\\nn 알리바바 클라우드는 급증하는 생성 AI 수요에 대응해 모델 개발과 애플리케이션 구축 절차를\\n간소화하는 올인원 AI 모델 구축 플랫폼 ‘젠AI(GenAI)’도 공개\\n∙ 이 플랫폼은 데이터 관리, 모델 배포와 평가, 신속한 엔지니어링을 위한 종합 도구 모음을 제공하여\\n다양한 기업들이 맞춤형 AI 모델을 한층 쉽게 개발할 수 있도록 지원\\n∙ 생성 AI 개발에 필요한 컴퓨팅과 데이터 처리 요구사항을 지원하기 위해 AI 플랫폼(PAI),\\n데이터베이스 솔루션, 컨테이너 서비스와 같은 클라우드 신제품도 발표'), Document(id='48906461-7c5b-4bd1-a6ce-97d4f7bd67af', metadata={'source': 'data/SPRI_AI_Brief_2023년12월호_F.pdf', 'file_path': 'data/SPRI_AI_Brief_2023년12월호_F.pdf', 'page': 1, 'total_pages': 23, 'Author': 'dj', 'Creator': 'Hwp 2018 10.0.0.13462', 'Producer': 'Hancom PDF 1.3.0.542', 'CreationDate': \"D:20231208132838+09'00'\", 'ModDate': \"D:20231208132838+09'00'\", 'PDFVersion': '1.4'}, page_content='▹ 빌 게이츠, AI 에이전트로 인한 컴퓨터 사용의 패러다임 변화 전망································13\\n▹ 유튜브, 2024년부터 AI 생성 콘텐츠 표시 의무화····························································14\\n3. 기술/연구\\n▹ 영국 과학혁신기술부, AI 안전 연구소 설립 발표······························································15'), Document(id='57388617-5323-49fe-937f-1f003716e036', metadata={'source': 'data/SPRI_AI_Brief_2023년12월호_F.pdf', 'file_path': 'data/SPRI_AI_Brief_2023년12월호_F.pdf', 'page': 7, 'total_pages': 23, 'Author': 'dj', 'Creator': 'Hwp 2018 10.0.0.13462', 'Producer': 'Hancom PDF 1.3.0.542', 'CreationDate': \"D:20231208132838+09'00'\", 'ModDate': \"D:20231208132838+09'00'\", 'PDFVersion': '1.4'}, page_content='만들었다고 오해할 소지가 있다고 지적\\n∙ 저작권법에 저촉되는 행위는 불공정 경쟁이나 기만행위에도 해당될 수 있으며, 창작자의 평판 악화,\\n저작물의 가치 저하나 개인정보 유출로 소비자에 상당한 피해를 초래 가능\\nn FTC는 일부 빅테크가 막대한 재원을 활용해 생성 AI 사용자의 이탈을 막고 저작권이 있는 상용\\n데이터에 대한 독점 라이선스를 확보해 시장 지배력을 더욱 강화할 수 있다는 우려도 제기\\n∙ 이와 관련 FTC는 아마존 AI 비서 ‘알렉사(Alexa)’와 스마트홈 보안 기기 ‘링(Ring)’이 소비자의 사적')]\n",
      "==========================================================================================\n",
      "\n"
     ]
    }
   ],
   "source": [
    "answer = retrieve(state)                        # 사용자 질문에 대해서 관련 문서를 검색한다.\n",
    "state['documents'] = answer['documents']"
   ]
  },
  {
   "cell_type": "code",
   "execution_count": 16,
   "metadata": {},
   "outputs": [
    {
     "data": {
      "text/plain": [
       "{'question': '삼성전자가 만든 생성형 AI 이름은?',\n",
       " 'generation': '',\n",
       " 'documents': [Document(id='74eb8859-4cdc-4166-b090-f3b02c3bbdcd', metadata={'source': 'data/SPRI_AI_Brief_2023년12월호_F.pdf', 'file_path': 'data/SPRI_AI_Brief_2023년12월호_F.pdf', 'page': 1, 'total_pages': 23, 'Author': 'dj', 'Creator': 'Hwp 2018 10.0.0.13462', 'Producer': 'Hancom PDF 1.3.0.542', 'CreationDate': \"D:20231208132838+09'00'\", 'ModDate': \"D:20231208132838+09'00'\", 'PDFVersion': '1.4'}, page_content='▹ 삼성전자, 자체 개발 생성 AI ‘삼성 가우스’ 공개 ···························································10\\n▹ 구글, 앤스로픽에 20억 달러 투자로 생성 AI 협력 강화 ················································11\\n▹ IDC, 2027년 AI 소프트웨어 매출 2,500억 달러 돌파 전망···········································12'),\n",
       "  Document(id='6d08664d-42c5-4a54-91a5-86954096bab4', metadata={'source': 'data/SPRI_AI_Brief_2023년12월호_F.pdf', 'file_path': 'data/SPRI_AI_Brief_2023년12월호_F.pdf', 'page': 12, 'total_pages': 23, 'Author': 'dj', 'Creator': 'Hwp 2018 10.0.0.13462', 'Producer': 'Hancom PDF 1.3.0.542', 'CreationDate': \"D:20231208132838+09'00'\", 'ModDate': \"D:20231208132838+09'00'\", 'PDFVersion': '1.4'}, page_content='SPRi AI Brief |\\n2023-12월호\\n삼성전자, 자체 개발 생성 AI ‘삼성 가우스’ 공개\\nKEY Contents\\nn 삼성전자가 온디바이스에서 작동 가능하며 언어, 코드, 이미지의 3개 모델로 구성된 자체 개발 생성\\nAI 모델 ‘삼성 가우스’를 공개\\nn 삼성전자는 삼성 가우스를 다양한 제품에 단계적으로 탑재할 계획으로, 온디바이스 작동이 가능한\\n삼성 가우스는 외부로 사용자 정보가 유출될 위험이 없다는 장점을 보유\\n£언어, 코드, 이미지의 3개 모델로 구성된 삼성 가우스, 온디바이스 작동 지원'),\n",
       "  Document(id='5c637d35-3232-46bb-821d-94b42f64968d', metadata={'source': 'data/SPRI_AI_Brief_2023년12월호_F.pdf', 'file_path': 'data/SPRI_AI_Brief_2023년12월호_F.pdf', 'page': 12, 'total_pages': 23, 'Author': 'dj', 'Creator': 'Hwp 2018 10.0.0.13462', 'Producer': 'Hancom PDF 1.3.0.542', 'CreationDate': \"D:20231208132838+09'00'\", 'ModDate': \"D:20231208132838+09'00'\", 'PDFVersion': '1.4'}, page_content='£언어, 코드, 이미지의 3개 모델로 구성된 삼성 가우스, 온디바이스 작동 지원\\nn 삼성전자가 2023년 11월 8일 열린 ‘삼성 AI 포럼 2023’ 행사에서 자체 개발한 생성 AI 모델\\n‘삼성 가우스’를 최초 공개\\n∙ 정규분포 이론을 정립한 천재 수학자 가우스(Gauss)의 이름을 본뜬 삼성 가우스는 다양한 상황에\\n최적화된 크기의 모델 선택이 가능\\n∙ 삼성 가우스는 라이선스나 개인정보를 침해하지 않는 안전한 데이터를 통해 학습되었으며,\\n온디바이스에서 작동하도록 설계되어 외부로 사용자의 정보가 유출되지 않는 장점을 보유'),\n",
       "  Document(id='25f6d0eb-e270-48d2-a356-99b6f68324cf', metadata={'source': 'data/SPRI_AI_Brief_2023년12월호_F.pdf', 'file_path': 'data/SPRI_AI_Brief_2023년12월호_F.pdf', 'page': 12, 'total_pages': 23, 'Author': 'dj', 'Creator': 'Hwp 2018 10.0.0.13462', 'Producer': 'Hancom PDF 1.3.0.542', 'CreationDate': \"D:20231208132838+09'00'\", 'ModDate': \"D:20231208132838+09'00'\", 'PDFVersion': '1.4'}, page_content='어시스턴트를 적용한 구글 픽셀(Pixel)과 경쟁할 것으로 예상\\n☞ 출처 : 삼성전자, ‘삼성 AI 포럼’서 자체 개발 생성형 AI ‘삼성 가우스’ 공개, 2023.11.08.\\n삼성전자, ‘삼성 개발자 콘퍼런스 코리아 2023’ 개최, 2023.11.14.\\nTechRepublic, Samsung Gauss: Samsung Research Reveals Generative AI, 2023.11.08.\\n10'),\n",
       "  Document(id='964054bd-1da3-4bce-a3da-885d33c6b5aa', metadata={'source': 'data/SPRI_AI_Brief_2023년12월호_F.pdf', 'file_path': 'data/SPRI_AI_Brief_2023년12월호_F.pdf', 'page': 18, 'total_pages': 23, 'Author': 'dj', 'Creator': 'Hwp 2018 10.0.0.13462', 'Producer': 'Hancom PDF 1.3.0.542', 'CreationDate': \"D:20231208132838+09'00'\", 'ModDate': \"D:20231208132838+09'00'\", 'PDFVersion': '1.4'}, page_content='<구글 딥마인드의 범용 AI 분류 프레임워크>\\n성능 특수 AI 예시 범용 AI 예시\\n0단계: AI 아님 계산기 소프트웨어, 컴파일러 아마존 메커니컬 터크\\n1단계: 신진(숙련되지 않은 인간) GOFAI(Good Old Fashioned Artificial Intelligence) 챗GPT, 바드, 라마2\\n스마트 스피커(애플 시리, 아마존 알렉사, 구글\\n2단계: 유능(숙련된 인간의 50% 이상) 미달성\\n어시스턴트), IBM 왓슨\\n3단계: 전문가(숙련된 인간의 90% 이상) 문법 교정기(그래머리), 생성 이미지 모델(달리2) 미달성'),\n",
       "  Document(id='77569279-89cc-4dd9-b7fd-d057a098b12b', metadata={'source': 'data/SPRI_AI_Brief_2023년12월호_F.pdf', 'file_path': 'data/SPRI_AI_Brief_2023년12월호_F.pdf', 'page': 12, 'total_pages': 23, 'Author': 'dj', 'Creator': 'Hwp 2018 10.0.0.13462', 'Producer': 'Hancom PDF 1.3.0.542', 'CreationDate': \"D:20231208132838+09'00'\", 'ModDate': \"D:20231208132838+09'00'\", 'PDFVersion': '1.4'}, page_content='처리를 지원\\n∙ 코드 모델 기반의 AI 코딩 어시스턴트 ‘코드아이(code.i)’는 대화형 인터페이스로 서비스를 제공하며\\n사내 소프트웨어 개발에 최적화\\n∙ 이미지 모델은 창의적인 이미지를 생성하고 기존 이미지를 원하는 대로 바꿀 수 있도록 지원하며\\n저해상도 이미지의 고해상도 전환도 지원\\nn IT 전문지 테크리퍼블릭(TechRepublic)은 온디바이스 AI가 주요 기술 트렌드로 부상했다며,\\n2024년부터 가우스를 탑재한 삼성 스마트폰이 메타의 라마(Llama)2를 탑재한 퀄컴 기기 및 구글'),\n",
       "  Document(id='1a015410-720c-4099-96e2-608d1cfc01fe', metadata={'source': 'data/SPRI_AI_Brief_2023년12월호_F.pdf', 'file_path': 'data/SPRI_AI_Brief_2023년12월호_F.pdf', 'page': 12, 'total_pages': 23, 'Author': 'dj', 'Creator': 'Hwp 2018 10.0.0.13462', 'Producer': 'Hancom PDF 1.3.0.542', 'CreationDate': \"D:20231208132838+09'00'\", 'ModDate': \"D:20231208132838+09'00'\", 'PDFVersion': '1.4'}, page_content='온디바이스에서 작동하도록 설계되어 외부로 사용자의 정보가 유출되지 않는 장점을 보유\\n∙ 삼성전자는 삼성 가우스를 활용한 온디바이스 AI 기술도 소개했으며, 생성 AI 모델을 다양한 제품에\\n단계적으로 탑재할 계획\\nn 삼성 가우스는 △텍스트를 생성하는 언어모델 △코드를 생성하는 코드 모델 △이미지를 생성하는\\n이미지 모델의 3개 모델로 구성\\n∙ 언어 모델은 클라우드와 온디바이스 대상 다양한 모델로 구성되며, 메일 작성, 문서 요약, 번역 업무의\\n처리를 지원'),\n",
       "  Document(id='e1393a97-7d58-4fe0-9d86-e95dfde22407', metadata={'source': 'data/SPRI_AI_Brief_2023년12월호_F.pdf', 'file_path': 'data/SPRI_AI_Brief_2023년12월호_F.pdf', 'page': 11, 'total_pages': 23, 'Author': 'dj', 'Creator': 'Hwp 2018 10.0.0.13462', 'Producer': 'Hancom PDF 1.3.0.542', 'CreationDate': \"D:20231208132838+09'00'\", 'ModDate': \"D:20231208132838+09'00'\", 'PDFVersion': '1.4'}, page_content='제작을 포함\\nn 알리바바 클라우드는 급증하는 생성 AI 수요에 대응해 모델 개발과 애플리케이션 구축 절차를\\n간소화하는 올인원 AI 모델 구축 플랫폼 ‘젠AI(GenAI)’도 공개\\n∙ 이 플랫폼은 데이터 관리, 모델 배포와 평가, 신속한 엔지니어링을 위한 종합 도구 모음을 제공하여\\n다양한 기업들이 맞춤형 AI 모델을 한층 쉽게 개발할 수 있도록 지원\\n∙ 생성 AI 개발에 필요한 컴퓨팅과 데이터 처리 요구사항을 지원하기 위해 AI 플랫폼(PAI),\\n데이터베이스 솔루션, 컨테이너 서비스와 같은 클라우드 신제품도 발표'),\n",
       "  Document(id='48906461-7c5b-4bd1-a6ce-97d4f7bd67af', metadata={'source': 'data/SPRI_AI_Brief_2023년12월호_F.pdf', 'file_path': 'data/SPRI_AI_Brief_2023년12월호_F.pdf', 'page': 1, 'total_pages': 23, 'Author': 'dj', 'Creator': 'Hwp 2018 10.0.0.13462', 'Producer': 'Hancom PDF 1.3.0.542', 'CreationDate': \"D:20231208132838+09'00'\", 'ModDate': \"D:20231208132838+09'00'\", 'PDFVersion': '1.4'}, page_content='▹ 빌 게이츠, AI 에이전트로 인한 컴퓨터 사용의 패러다임 변화 전망································13\\n▹ 유튜브, 2024년부터 AI 생성 콘텐츠 표시 의무화····························································14\\n3. 기술/연구\\n▹ 영국 과학혁신기술부, AI 안전 연구소 설립 발표······························································15'),\n",
       "  Document(id='57388617-5323-49fe-937f-1f003716e036', metadata={'source': 'data/SPRI_AI_Brief_2023년12월호_F.pdf', 'file_path': 'data/SPRI_AI_Brief_2023년12월호_F.pdf', 'page': 7, 'total_pages': 23, 'Author': 'dj', 'Creator': 'Hwp 2018 10.0.0.13462', 'Producer': 'Hancom PDF 1.3.0.542', 'CreationDate': \"D:20231208132838+09'00'\", 'ModDate': \"D:20231208132838+09'00'\", 'PDFVersion': '1.4'}, page_content='만들었다고 오해할 소지가 있다고 지적\\n∙ 저작권법에 저촉되는 행위는 불공정 경쟁이나 기만행위에도 해당될 수 있으며, 창작자의 평판 악화,\\n저작물의 가치 저하나 개인정보 유출로 소비자에 상당한 피해를 초래 가능\\nn FTC는 일부 빅테크가 막대한 재원을 활용해 생성 AI 사용자의 이탈을 막고 저작권이 있는 상용\\n데이터에 대한 독점 라이선스를 확보해 시장 지배력을 더욱 강화할 수 있다는 우려도 제기\\n∙ 이와 관련 FTC는 아마존 AI 비서 ‘알렉사(Alexa)’와 스마트홈 보안 기기 ‘링(Ring)’이 소비자의 사적')]}"
      ]
     },
     "execution_count": 16,
     "metadata": {},
     "output_type": "execute_result"
    }
   ],
   "source": [
    "state"
   ]
  },
  {
   "cell_type": "markdown",
   "metadata": {},
   "source": [
    "### 사용자 질문에 대한 문서 검색 결과와 사용자 질문의 관련성 평가하는 노드 (문서 검색 평가기 노드)"
   ]
  },
  {
   "cell_type": "code",
   "execution_count": 17,
   "metadata": {},
   "outputs": [],
   "source": [
    "class GradeDocuments(BaseModel):        # 문서 평가를 위한 데이터 모델\n",
    "    \"\"\"Binary score for relevance check on retrieved documents.\"\"\"\n",
    "\n",
    "    # 사용자 질문에 대한 pdf 문서 검색 결과를 평가하는 문서 검색 평가기(retrieval_grader)를 사용해서 \n",
    "    # 사용자 질문과 검색 결과문서가 관련성이 있는지 본다\n",
    "\n",
    "    binary_score: str = Field(\n",
    "        description=\"Documents are relevant to the question, 'yes' or 'no'\"\n",
    "    )\n",
    "\n",
    "llm = ChatOpenAI(\n",
    "    api_key=key, \n",
    "    model='gpt-4o-mini', \n",
    "    temperature=0\n",
    ")\n",
    "\n",
    "structured_llm_grader = llm.with_structured_output(GradeDocuments)\n",
    "\n",
    "# 시스템 메시지\n",
    "system = \"\"\"You are a grader assessing relevance of a retrieved document to a user question. \\n \n",
    "    If the document contains keyword(s) or semantic meaning related to the user question, grade it as relevant. \\n\n",
    "    It does not need to be a stringent test. The goal is to filter out erroneous retrievals. \\n\n",
    "    Give a binary score 'yes' or 'no' score to indicate whether the document is relevant to the question.\"\"\"\n",
    "\n",
    "# 프롬프트 템플릿\n",
    "grade_prompt = ChatPromptTemplate.from_messages(\n",
    "    [\n",
    "        (\"system\", system),\n",
    "        (\"human\", \"Retrieved document: \\n\\n {document} \\n\\n User question: {question}\"),\n",
    "    ]\n",
    ")\n",
    "\n",
    "# 문서 검색결과 평가기\n",
    "retrieval_grader = grade_prompt | structured_llm_grader"
   ]
  },
  {
   "cell_type": "code",
   "execution_count": 18,
   "metadata": {},
   "outputs": [],
   "source": [
    "# 문서 검색 결과와 질문 관련성 평가 노드\n",
    "def grade_documents(state: GraphState):\n",
    "    print('\\n==========================================================================================')\n",
    "    print('===== [CHECK DOCUMENT RELEVANCE TO QUESTION] grade_documents() 함수 =====')\n",
    "\n",
    "    # 사용자 질문\n",
    "    question = state['question']  \n",
    "\n",
    "    # 문서 검색 결과\n",
    "    documents = state['documents']\n",
    "\n",
    "    # 문서 검색 평가기를 통과한 문서들만 필터링\n",
    "    filtered_docs = []\n",
    "\n",
    "    for doc in documents:\n",
    "        score = retrieval_grader.invoke({'question': question, 'document': doc.page_content})\n",
    "\n",
    "        grade = score.binary_score\n",
    "\n",
    "        if grade == 'yes':\n",
    "            print(\"---GRADE: DOCUMENT RELEVANT---\")     \n",
    "            filtered_docs.append(doc)                   \n",
    "        else:\n",
    "            print(\"---GRADE: DOCUMENT NOT RELEVANT---\") \n",
    "            continue     \n",
    "\n",
    "    print('==========================================================================================\\n')\n",
    "    return {'documents': filtered_docs}"
   ]
  },
  {
   "cell_type": "code",
   "execution_count": 19,
   "metadata": {},
   "outputs": [
    {
     "name": "stdout",
     "output_type": "stream",
     "text": [
      "\n",
      "==========================================================================================\n",
      "===== [CHECK DOCUMENT RELEVANCE TO QUESTION] grade_documents() 함수 =====\n",
      "---GRADE: DOCUMENT RELEVANT---\n",
      "---GRADE: DOCUMENT RELEVANT---\n",
      "---GRADE: DOCUMENT RELEVANT---\n",
      "---GRADE: DOCUMENT RELEVANT---\n",
      "---GRADE: DOCUMENT NOT RELEVANT---\n",
      "---GRADE: DOCUMENT RELEVANT---\n",
      "---GRADE: DOCUMENT RELEVANT---\n",
      "---GRADE: DOCUMENT NOT RELEVANT---\n",
      "---GRADE: DOCUMENT NOT RELEVANT---\n",
      "---GRADE: DOCUMENT NOT RELEVANT---\n",
      "==========================================================================================\n",
      "\n"
     ]
    }
   ],
   "source": [
    "state['documents'] = grade_documents(state)['documents']"
   ]
  },
  {
   "cell_type": "code",
   "execution_count": 20,
   "metadata": {},
   "outputs": [
    {
     "data": {
      "text/plain": [
       "{'question': '삼성전자가 만든 생성형 AI 이름은?',\n",
       " 'generation': '',\n",
       " 'documents': [Document(id='74eb8859-4cdc-4166-b090-f3b02c3bbdcd', metadata={'source': 'data/SPRI_AI_Brief_2023년12월호_F.pdf', 'file_path': 'data/SPRI_AI_Brief_2023년12월호_F.pdf', 'page': 1, 'total_pages': 23, 'Author': 'dj', 'Creator': 'Hwp 2018 10.0.0.13462', 'Producer': 'Hancom PDF 1.3.0.542', 'CreationDate': \"D:20231208132838+09'00'\", 'ModDate': \"D:20231208132838+09'00'\", 'PDFVersion': '1.4'}, page_content='▹ 삼성전자, 자체 개발 생성 AI ‘삼성 가우스’ 공개 ···························································10\\n▹ 구글, 앤스로픽에 20억 달러 투자로 생성 AI 협력 강화 ················································11\\n▹ IDC, 2027년 AI 소프트웨어 매출 2,500억 달러 돌파 전망···········································12'),\n",
       "  Document(id='6d08664d-42c5-4a54-91a5-86954096bab4', metadata={'source': 'data/SPRI_AI_Brief_2023년12월호_F.pdf', 'file_path': 'data/SPRI_AI_Brief_2023년12월호_F.pdf', 'page': 12, 'total_pages': 23, 'Author': 'dj', 'Creator': 'Hwp 2018 10.0.0.13462', 'Producer': 'Hancom PDF 1.3.0.542', 'CreationDate': \"D:20231208132838+09'00'\", 'ModDate': \"D:20231208132838+09'00'\", 'PDFVersion': '1.4'}, page_content='SPRi AI Brief |\\n2023-12월호\\n삼성전자, 자체 개발 생성 AI ‘삼성 가우스’ 공개\\nKEY Contents\\nn 삼성전자가 온디바이스에서 작동 가능하며 언어, 코드, 이미지의 3개 모델로 구성된 자체 개발 생성\\nAI 모델 ‘삼성 가우스’를 공개\\nn 삼성전자는 삼성 가우스를 다양한 제품에 단계적으로 탑재할 계획으로, 온디바이스 작동이 가능한\\n삼성 가우스는 외부로 사용자 정보가 유출될 위험이 없다는 장점을 보유\\n£언어, 코드, 이미지의 3개 모델로 구성된 삼성 가우스, 온디바이스 작동 지원'),\n",
       "  Document(id='5c637d35-3232-46bb-821d-94b42f64968d', metadata={'source': 'data/SPRI_AI_Brief_2023년12월호_F.pdf', 'file_path': 'data/SPRI_AI_Brief_2023년12월호_F.pdf', 'page': 12, 'total_pages': 23, 'Author': 'dj', 'Creator': 'Hwp 2018 10.0.0.13462', 'Producer': 'Hancom PDF 1.3.0.542', 'CreationDate': \"D:20231208132838+09'00'\", 'ModDate': \"D:20231208132838+09'00'\", 'PDFVersion': '1.4'}, page_content='£언어, 코드, 이미지의 3개 모델로 구성된 삼성 가우스, 온디바이스 작동 지원\\nn 삼성전자가 2023년 11월 8일 열린 ‘삼성 AI 포럼 2023’ 행사에서 자체 개발한 생성 AI 모델\\n‘삼성 가우스’를 최초 공개\\n∙ 정규분포 이론을 정립한 천재 수학자 가우스(Gauss)의 이름을 본뜬 삼성 가우스는 다양한 상황에\\n최적화된 크기의 모델 선택이 가능\\n∙ 삼성 가우스는 라이선스나 개인정보를 침해하지 않는 안전한 데이터를 통해 학습되었으며,\\n온디바이스에서 작동하도록 설계되어 외부로 사용자의 정보가 유출되지 않는 장점을 보유'),\n",
       "  Document(id='25f6d0eb-e270-48d2-a356-99b6f68324cf', metadata={'source': 'data/SPRI_AI_Brief_2023년12월호_F.pdf', 'file_path': 'data/SPRI_AI_Brief_2023년12월호_F.pdf', 'page': 12, 'total_pages': 23, 'Author': 'dj', 'Creator': 'Hwp 2018 10.0.0.13462', 'Producer': 'Hancom PDF 1.3.0.542', 'CreationDate': \"D:20231208132838+09'00'\", 'ModDate': \"D:20231208132838+09'00'\", 'PDFVersion': '1.4'}, page_content='어시스턴트를 적용한 구글 픽셀(Pixel)과 경쟁할 것으로 예상\\n☞ 출처 : 삼성전자, ‘삼성 AI 포럼’서 자체 개발 생성형 AI ‘삼성 가우스’ 공개, 2023.11.08.\\n삼성전자, ‘삼성 개발자 콘퍼런스 코리아 2023’ 개최, 2023.11.14.\\nTechRepublic, Samsung Gauss: Samsung Research Reveals Generative AI, 2023.11.08.\\n10'),\n",
       "  Document(id='77569279-89cc-4dd9-b7fd-d057a098b12b', metadata={'source': 'data/SPRI_AI_Brief_2023년12월호_F.pdf', 'file_path': 'data/SPRI_AI_Brief_2023년12월호_F.pdf', 'page': 12, 'total_pages': 23, 'Author': 'dj', 'Creator': 'Hwp 2018 10.0.0.13462', 'Producer': 'Hancom PDF 1.3.0.542', 'CreationDate': \"D:20231208132838+09'00'\", 'ModDate': \"D:20231208132838+09'00'\", 'PDFVersion': '1.4'}, page_content='처리를 지원\\n∙ 코드 모델 기반의 AI 코딩 어시스턴트 ‘코드아이(code.i)’는 대화형 인터페이스로 서비스를 제공하며\\n사내 소프트웨어 개발에 최적화\\n∙ 이미지 모델은 창의적인 이미지를 생성하고 기존 이미지를 원하는 대로 바꿀 수 있도록 지원하며\\n저해상도 이미지의 고해상도 전환도 지원\\nn IT 전문지 테크리퍼블릭(TechRepublic)은 온디바이스 AI가 주요 기술 트렌드로 부상했다며,\\n2024년부터 가우스를 탑재한 삼성 스마트폰이 메타의 라마(Llama)2를 탑재한 퀄컴 기기 및 구글'),\n",
       "  Document(id='1a015410-720c-4099-96e2-608d1cfc01fe', metadata={'source': 'data/SPRI_AI_Brief_2023년12월호_F.pdf', 'file_path': 'data/SPRI_AI_Brief_2023년12월호_F.pdf', 'page': 12, 'total_pages': 23, 'Author': 'dj', 'Creator': 'Hwp 2018 10.0.0.13462', 'Producer': 'Hancom PDF 1.3.0.542', 'CreationDate': \"D:20231208132838+09'00'\", 'ModDate': \"D:20231208132838+09'00'\", 'PDFVersion': '1.4'}, page_content='온디바이스에서 작동하도록 설계되어 외부로 사용자의 정보가 유출되지 않는 장점을 보유\\n∙ 삼성전자는 삼성 가우스를 활용한 온디바이스 AI 기술도 소개했으며, 생성 AI 모델을 다양한 제품에\\n단계적으로 탑재할 계획\\nn 삼성 가우스는 △텍스트를 생성하는 언어모델 △코드를 생성하는 코드 모델 △이미지를 생성하는\\n이미지 모델의 3개 모델로 구성\\n∙ 언어 모델은 클라우드와 온디바이스 대상 다양한 모델로 구성되며, 메일 작성, 문서 요약, 번역 업무의\\n처리를 지원')]}"
      ]
     },
     "execution_count": 20,
     "metadata": {},
     "output_type": "execute_result"
    }
   ],
   "source": [
    "state"
   ]
  },
  {
   "cell_type": "markdown",
   "metadata": {},
   "source": [
    "### 쿼리 재작성 (Query Rewriter) 노드"
   ]
  },
  {
   "cell_type": "code",
   "execution_count": 21,
   "metadata": {},
   "outputs": [],
   "source": [
    "llm = ChatOpenAI(\n",
    "    api_key=key, \n",
    "    model='gpt-4o-mini', \n",
    "    temperature=0\n",
    ")\n",
    "\n",
    "# Query Rewriter 프롬프트\n",
    "system = \"\"\"You a question re-writer that converts an input question to a better version that is optimized \\n \n",
    "for vectorstore retrieval. Look at the input and try to reason about the underlying semantic intent / meaning.\"\"\"\n",
    "\n",
    "re_writer_prompt = ChatPromptTemplate.from_messages(\n",
    "    [\n",
    "        ('system', system), \n",
    "        ('human', 'Here is the initial question: \\n\\n {question} \\n Formulate an improved question')\n",
    "    ]\n",
    ")\n",
    "\n",
    "# Query Rewriter 생성\n",
    "question_rewriter = re_writer_prompt | llm | StrOutputParser()"
   ]
  },
  {
   "cell_type": "code",
   "execution_count": 22,
   "metadata": {},
   "outputs": [],
   "source": [
    "# Query Rewrite 노드\n",
    "def transform_query(state: GraphState):\n",
    "    print('\\n==========================================================================================')\n",
    "    print('===== [TRANSFORM QUERY] transform_query() 함수 =====')\n",
    "\n",
    "    # 사용자 질문\n",
    "    question = state['question']\n",
    "\n",
    "    # 문서 검색 결과\n",
    "    documents = state['documents']\n",
    "\n",
    "    \n",
    "    # 쿼리 재작성\n",
    "    better_question = question_rewriter.invoke({'question': question})\n",
    "    print(f\"better_question: {better_question}\")\n",
    "    print('==========================================================================================\\n')\n",
    "\n",
    "    return {'question': better_question}"
   ]
  },
  {
   "cell_type": "code",
   "execution_count": 26,
   "metadata": {},
   "outputs": [
    {
     "name": "stdout",
     "output_type": "stream",
     "text": [
      "\n",
      "==========================================================================================\n",
      "===== [TRANSFORM QUERY] transform_query() 함수 =====\n",
      "better_question: 삼성전자가 개발한 생성형 AI의 이름은 무엇인가요?\n",
      "==========================================================================================\n",
      "\n"
     ]
    }
   ],
   "source": [
    "state['question'] = transform_query(state)['question']"
   ]
  },
  {
   "cell_type": "code",
   "execution_count": 27,
   "metadata": {},
   "outputs": [
    {
     "data": {
      "text/plain": [
       "{'question': '삼성전자가 개발한 생성형 AI의 이름은 무엇인가요?',\n",
       " 'generation': '',\n",
       " 'documents': [Document(id='74eb8859-4cdc-4166-b090-f3b02c3bbdcd', metadata={'source': 'data/SPRI_AI_Brief_2023년12월호_F.pdf', 'file_path': 'data/SPRI_AI_Brief_2023년12월호_F.pdf', 'page': 1, 'total_pages': 23, 'Author': 'dj', 'Creator': 'Hwp 2018 10.0.0.13462', 'Producer': 'Hancom PDF 1.3.0.542', 'CreationDate': \"D:20231208132838+09'00'\", 'ModDate': \"D:20231208132838+09'00'\", 'PDFVersion': '1.4'}, page_content='▹ 삼성전자, 자체 개발 생성 AI ‘삼성 가우스’ 공개 ···························································10\\n▹ 구글, 앤스로픽에 20억 달러 투자로 생성 AI 협력 강화 ················································11\\n▹ IDC, 2027년 AI 소프트웨어 매출 2,500억 달러 돌파 전망···········································12'),\n",
       "  Document(id='6d08664d-42c5-4a54-91a5-86954096bab4', metadata={'source': 'data/SPRI_AI_Brief_2023년12월호_F.pdf', 'file_path': 'data/SPRI_AI_Brief_2023년12월호_F.pdf', 'page': 12, 'total_pages': 23, 'Author': 'dj', 'Creator': 'Hwp 2018 10.0.0.13462', 'Producer': 'Hancom PDF 1.3.0.542', 'CreationDate': \"D:20231208132838+09'00'\", 'ModDate': \"D:20231208132838+09'00'\", 'PDFVersion': '1.4'}, page_content='SPRi AI Brief |\\n2023-12월호\\n삼성전자, 자체 개발 생성 AI ‘삼성 가우스’ 공개\\nKEY Contents\\nn 삼성전자가 온디바이스에서 작동 가능하며 언어, 코드, 이미지의 3개 모델로 구성된 자체 개발 생성\\nAI 모델 ‘삼성 가우스’를 공개\\nn 삼성전자는 삼성 가우스를 다양한 제품에 단계적으로 탑재할 계획으로, 온디바이스 작동이 가능한\\n삼성 가우스는 외부로 사용자 정보가 유출될 위험이 없다는 장점을 보유\\n£언어, 코드, 이미지의 3개 모델로 구성된 삼성 가우스, 온디바이스 작동 지원'),\n",
       "  Document(id='5c637d35-3232-46bb-821d-94b42f64968d', metadata={'source': 'data/SPRI_AI_Brief_2023년12월호_F.pdf', 'file_path': 'data/SPRI_AI_Brief_2023년12월호_F.pdf', 'page': 12, 'total_pages': 23, 'Author': 'dj', 'Creator': 'Hwp 2018 10.0.0.13462', 'Producer': 'Hancom PDF 1.3.0.542', 'CreationDate': \"D:20231208132838+09'00'\", 'ModDate': \"D:20231208132838+09'00'\", 'PDFVersion': '1.4'}, page_content='£언어, 코드, 이미지의 3개 모델로 구성된 삼성 가우스, 온디바이스 작동 지원\\nn 삼성전자가 2023년 11월 8일 열린 ‘삼성 AI 포럼 2023’ 행사에서 자체 개발한 생성 AI 모델\\n‘삼성 가우스’를 최초 공개\\n∙ 정규분포 이론을 정립한 천재 수학자 가우스(Gauss)의 이름을 본뜬 삼성 가우스는 다양한 상황에\\n최적화된 크기의 모델 선택이 가능\\n∙ 삼성 가우스는 라이선스나 개인정보를 침해하지 않는 안전한 데이터를 통해 학습되었으며,\\n온디바이스에서 작동하도록 설계되어 외부로 사용자의 정보가 유출되지 않는 장점을 보유'),\n",
       "  Document(id='25f6d0eb-e270-48d2-a356-99b6f68324cf', metadata={'source': 'data/SPRI_AI_Brief_2023년12월호_F.pdf', 'file_path': 'data/SPRI_AI_Brief_2023년12월호_F.pdf', 'page': 12, 'total_pages': 23, 'Author': 'dj', 'Creator': 'Hwp 2018 10.0.0.13462', 'Producer': 'Hancom PDF 1.3.0.542', 'CreationDate': \"D:20231208132838+09'00'\", 'ModDate': \"D:20231208132838+09'00'\", 'PDFVersion': '1.4'}, page_content='어시스턴트를 적용한 구글 픽셀(Pixel)과 경쟁할 것으로 예상\\n☞ 출처 : 삼성전자, ‘삼성 AI 포럼’서 자체 개발 생성형 AI ‘삼성 가우스’ 공개, 2023.11.08.\\n삼성전자, ‘삼성 개발자 콘퍼런스 코리아 2023’ 개최, 2023.11.14.\\nTechRepublic, Samsung Gauss: Samsung Research Reveals Generative AI, 2023.11.08.\\n10'),\n",
       "  Document(id='77569279-89cc-4dd9-b7fd-d057a098b12b', metadata={'source': 'data/SPRI_AI_Brief_2023년12월호_F.pdf', 'file_path': 'data/SPRI_AI_Brief_2023년12월호_F.pdf', 'page': 12, 'total_pages': 23, 'Author': 'dj', 'Creator': 'Hwp 2018 10.0.0.13462', 'Producer': 'Hancom PDF 1.3.0.542', 'CreationDate': \"D:20231208132838+09'00'\", 'ModDate': \"D:20231208132838+09'00'\", 'PDFVersion': '1.4'}, page_content='처리를 지원\\n∙ 코드 모델 기반의 AI 코딩 어시스턴트 ‘코드아이(code.i)’는 대화형 인터페이스로 서비스를 제공하며\\n사내 소프트웨어 개발에 최적화\\n∙ 이미지 모델은 창의적인 이미지를 생성하고 기존 이미지를 원하는 대로 바꿀 수 있도록 지원하며\\n저해상도 이미지의 고해상도 전환도 지원\\nn IT 전문지 테크리퍼블릭(TechRepublic)은 온디바이스 AI가 주요 기술 트렌드로 부상했다며,\\n2024년부터 가우스를 탑재한 삼성 스마트폰이 메타의 라마(Llama)2를 탑재한 퀄컴 기기 및 구글'),\n",
       "  Document(id='1a015410-720c-4099-96e2-608d1cfc01fe', metadata={'source': 'data/SPRI_AI_Brief_2023년12월호_F.pdf', 'file_path': 'data/SPRI_AI_Brief_2023년12월호_F.pdf', 'page': 12, 'total_pages': 23, 'Author': 'dj', 'Creator': 'Hwp 2018 10.0.0.13462', 'Producer': 'Hancom PDF 1.3.0.542', 'CreationDate': \"D:20231208132838+09'00'\", 'ModDate': \"D:20231208132838+09'00'\", 'PDFVersion': '1.4'}, page_content='온디바이스에서 작동하도록 설계되어 외부로 사용자의 정보가 유출되지 않는 장점을 보유\\n∙ 삼성전자는 삼성 가우스를 활용한 온디바이스 AI 기술도 소개했으며, 생성 AI 모델을 다양한 제품에\\n단계적으로 탑재할 계획\\nn 삼성 가우스는 △텍스트를 생성하는 언어모델 △코드를 생성하는 코드 모델 △이미지를 생성하는\\n이미지 모델의 3개 모델로 구성\\n∙ 언어 모델은 클라우드와 온디바이스 대상 다양한 모델로 구성되며, 메일 작성, 문서 요약, 번역 업무의\\n처리를 지원')]}"
      ]
     },
     "execution_count": 27,
     "metadata": {},
     "output_type": "execute_result"
    }
   ],
   "source": [
    "state"
   ]
  },
  {
   "cell_type": "markdown",
   "metadata": {},
   "source": [
    "### 사용자 질문에 대한 답변을 생성하는 노드 (답변 생성을 위한 RAG 체인을 실행하여 답변을 생성)"
   ]
  },
  {
   "cell_type": "code",
   "execution_count": 28,
   "metadata": {},
   "outputs": [],
   "source": [
    "# 답변 생성을 위한 체인\n",
    "\n",
    "template = \"\"\"You are an AI assistant specializing in Question-Answering (QA) tasks within a Retrieval-Augmented Generation (RAG) system. \n",
    "Your primary mission is to answer questions based on provided context or chat history.\n",
    "Ensure your response is concise and directly addresses the question without any additional narration.\n",
    "\n",
    "###\n",
    "\n",
    "Your final answer should be written concisely (but include important numerical values, technical terms, jargon, and names), followed by the source of the information.\n",
    "\n",
    "# Steps\n",
    "\n",
    "1. Carefully read and understand the context provided.\n",
    "2. Identify the key information related to the question within the context.\n",
    "3. Formulate a concise answer based on the relevant information.\n",
    "4. Ensure your final answer directly addresses the question.\n",
    "5. List the source of the answer in bullet points, which must be a file name (with a page number) or URL from the context. Omit if the source cannot be found.\n",
    "\n",
    "# Output Format:\n",
    "[Your final answer here, with numerical values, technical terms, jargon, and names in their original language]\n",
    "\n",
    "**Source**(Optional)\n",
    "- (Source of the answer, must be a file name(with a page number) or URL from the context. Omit if you can't find the source of the answer.)\n",
    "- (list more if there are multiple sources)\n",
    "- ...\n",
    "\n",
    "###\n",
    "\n",
    "Remember:\n",
    "- It's crucial to base your answer solely on the **PROVIDED CONTEXT**. \n",
    "- DO NOT use any external knowledge or information not present in the given materials.\n",
    "- If you can't find the source of the answer, you should answer that you don't know.\n",
    "\n",
    "###\n",
    "\n",
    "# Here is the user's QUESTION that you should answer:\n",
    "{question}\n",
    "\n",
    "# Here is the CONTEXT that you should use to answer the question:\n",
    "{context}\n",
    "\n",
    "# Your final ANSWER to the user's QUESTION:\"\"\"\n",
    "\n",
    "prompt = ChatPromptTemplate.from_template(template)\n",
    "\n",
    "llm = ChatOpenAI(\n",
    "    api_key=key, \n",
    "    model='gpt-4o-mini', \n",
    "    temperature=0\n",
    ")\n",
    "\n",
    "def format_docs(docs):\n",
    "    return \"\\n\\n\".join(\n",
    "        [\n",
    "            f'<document><content>{doc.page_content}</content><source>{doc.metadata[\"source\"]}</source><page>{doc.metadata[\"page\"]+1}</page></document>'\n",
    "            for doc in docs\n",
    "        ]\n",
    "    )\n",
    "\n",
    "output_parser = StrOutputParser()\n",
    "\n",
    "# RAG 체인 생성 (pdf_retriever 문서 검색기를 사용해서 얻은 문서와 사용자 질문을 넣어서 결과)\n",
    "rag_chain = prompt | llm | output_parser"
   ]
  },
  {
   "cell_type": "code",
   "execution_count": 29,
   "metadata": {},
   "outputs": [],
   "source": [
    "# 답변 생성 노드\n",
    "def generate(state: GraphState):\n",
    "    print('\\n==========================================================================================')\n",
    "    print('===== [GENERATE] generate() 함수 =====')\n",
    "\n",
    "    # 사용자 질문\n",
    "    question = state['question']  \n",
    "\n",
    "    # 문서 검색 결과\n",
    "    documents = state['documents']\n",
    "\n",
    "    # RAG 실행 결과\n",
    "    generation = rag_chain.invoke({'context': documents , 'question': 'question'})\n",
    "\n",
    "    print(f'사용자 질문: {question}')\n",
    "    print(f'문서 검색 결과:')\n",
    "    print(documents)\n",
    "    print()\n",
    "    print(f'rag 실행 결과:')\n",
    "    print(generation)\n",
    "    print()\n",
    "    print('==========================================================================================\\n')    \n",
    "\n",
    "    return {'generation': generation}"
   ]
  },
  {
   "cell_type": "code",
   "execution_count": 30,
   "metadata": {},
   "outputs": [
    {
     "name": "stdout",
     "output_type": "stream",
     "text": [
      "\n",
      "==========================================================================================\n",
      "===== [GENERATE] generate() 함수 =====\n",
      "사용자 질문: 삼성전자가 개발한 생성형 AI의 이름은 무엇인가요?\n",
      "문서 검색 결과:\n",
      "[Document(id='74eb8859-4cdc-4166-b090-f3b02c3bbdcd', metadata={'source': 'data/SPRI_AI_Brief_2023년12월호_F.pdf', 'file_path': 'data/SPRI_AI_Brief_2023년12월호_F.pdf', 'page': 1, 'total_pages': 23, 'Author': 'dj', 'Creator': 'Hwp 2018 10.0.0.13462', 'Producer': 'Hancom PDF 1.3.0.542', 'CreationDate': \"D:20231208132838+09'00'\", 'ModDate': \"D:20231208132838+09'00'\", 'PDFVersion': '1.4'}, page_content='▹ 삼성전자, 자체 개발 생성 AI ‘삼성 가우스’ 공개 ···························································10\\n▹ 구글, 앤스로픽에 20억 달러 투자로 생성 AI 협력 강화 ················································11\\n▹ IDC, 2027년 AI 소프트웨어 매출 2,500억 달러 돌파 전망···········································12'), Document(id='6d08664d-42c5-4a54-91a5-86954096bab4', metadata={'source': 'data/SPRI_AI_Brief_2023년12월호_F.pdf', 'file_path': 'data/SPRI_AI_Brief_2023년12월호_F.pdf', 'page': 12, 'total_pages': 23, 'Author': 'dj', 'Creator': 'Hwp 2018 10.0.0.13462', 'Producer': 'Hancom PDF 1.3.0.542', 'CreationDate': \"D:20231208132838+09'00'\", 'ModDate': \"D:20231208132838+09'00'\", 'PDFVersion': '1.4'}, page_content='SPRi AI Brief |\\n2023-12월호\\n삼성전자, 자체 개발 생성 AI ‘삼성 가우스’ 공개\\nKEY Contents\\nn 삼성전자가 온디바이스에서 작동 가능하며 언어, 코드, 이미지의 3개 모델로 구성된 자체 개발 생성\\nAI 모델 ‘삼성 가우스’를 공개\\nn 삼성전자는 삼성 가우스를 다양한 제품에 단계적으로 탑재할 계획으로, 온디바이스 작동이 가능한\\n삼성 가우스는 외부로 사용자 정보가 유출될 위험이 없다는 장점을 보유\\n£언어, 코드, 이미지의 3개 모델로 구성된 삼성 가우스, 온디바이스 작동 지원'), Document(id='5c637d35-3232-46bb-821d-94b42f64968d', metadata={'source': 'data/SPRI_AI_Brief_2023년12월호_F.pdf', 'file_path': 'data/SPRI_AI_Brief_2023년12월호_F.pdf', 'page': 12, 'total_pages': 23, 'Author': 'dj', 'Creator': 'Hwp 2018 10.0.0.13462', 'Producer': 'Hancom PDF 1.3.0.542', 'CreationDate': \"D:20231208132838+09'00'\", 'ModDate': \"D:20231208132838+09'00'\", 'PDFVersion': '1.4'}, page_content='£언어, 코드, 이미지의 3개 모델로 구성된 삼성 가우스, 온디바이스 작동 지원\\nn 삼성전자가 2023년 11월 8일 열린 ‘삼성 AI 포럼 2023’ 행사에서 자체 개발한 생성 AI 모델\\n‘삼성 가우스’를 최초 공개\\n∙ 정규분포 이론을 정립한 천재 수학자 가우스(Gauss)의 이름을 본뜬 삼성 가우스는 다양한 상황에\\n최적화된 크기의 모델 선택이 가능\\n∙ 삼성 가우스는 라이선스나 개인정보를 침해하지 않는 안전한 데이터를 통해 학습되었으며,\\n온디바이스에서 작동하도록 설계되어 외부로 사용자의 정보가 유출되지 않는 장점을 보유'), Document(id='25f6d0eb-e270-48d2-a356-99b6f68324cf', metadata={'source': 'data/SPRI_AI_Brief_2023년12월호_F.pdf', 'file_path': 'data/SPRI_AI_Brief_2023년12월호_F.pdf', 'page': 12, 'total_pages': 23, 'Author': 'dj', 'Creator': 'Hwp 2018 10.0.0.13462', 'Producer': 'Hancom PDF 1.3.0.542', 'CreationDate': \"D:20231208132838+09'00'\", 'ModDate': \"D:20231208132838+09'00'\", 'PDFVersion': '1.4'}, page_content='어시스턴트를 적용한 구글 픽셀(Pixel)과 경쟁할 것으로 예상\\n☞ 출처 : 삼성전자, ‘삼성 AI 포럼’서 자체 개발 생성형 AI ‘삼성 가우스’ 공개, 2023.11.08.\\n삼성전자, ‘삼성 개발자 콘퍼런스 코리아 2023’ 개최, 2023.11.14.\\nTechRepublic, Samsung Gauss: Samsung Research Reveals Generative AI, 2023.11.08.\\n10'), Document(id='77569279-89cc-4dd9-b7fd-d057a098b12b', metadata={'source': 'data/SPRI_AI_Brief_2023년12월호_F.pdf', 'file_path': 'data/SPRI_AI_Brief_2023년12월호_F.pdf', 'page': 12, 'total_pages': 23, 'Author': 'dj', 'Creator': 'Hwp 2018 10.0.0.13462', 'Producer': 'Hancom PDF 1.3.0.542', 'CreationDate': \"D:20231208132838+09'00'\", 'ModDate': \"D:20231208132838+09'00'\", 'PDFVersion': '1.4'}, page_content='처리를 지원\\n∙ 코드 모델 기반의 AI 코딩 어시스턴트 ‘코드아이(code.i)’는 대화형 인터페이스로 서비스를 제공하며\\n사내 소프트웨어 개발에 최적화\\n∙ 이미지 모델은 창의적인 이미지를 생성하고 기존 이미지를 원하는 대로 바꿀 수 있도록 지원하며\\n저해상도 이미지의 고해상도 전환도 지원\\nn IT 전문지 테크리퍼블릭(TechRepublic)은 온디바이스 AI가 주요 기술 트렌드로 부상했다며,\\n2024년부터 가우스를 탑재한 삼성 스마트폰이 메타의 라마(Llama)2를 탑재한 퀄컴 기기 및 구글'), Document(id='1a015410-720c-4099-96e2-608d1cfc01fe', metadata={'source': 'data/SPRI_AI_Brief_2023년12월호_F.pdf', 'file_path': 'data/SPRI_AI_Brief_2023년12월호_F.pdf', 'page': 12, 'total_pages': 23, 'Author': 'dj', 'Creator': 'Hwp 2018 10.0.0.13462', 'Producer': 'Hancom PDF 1.3.0.542', 'CreationDate': \"D:20231208132838+09'00'\", 'ModDate': \"D:20231208132838+09'00'\", 'PDFVersion': '1.4'}, page_content='온디바이스에서 작동하도록 설계되어 외부로 사용자의 정보가 유출되지 않는 장점을 보유\\n∙ 삼성전자는 삼성 가우스를 활용한 온디바이스 AI 기술도 소개했으며, 생성 AI 모델을 다양한 제품에\\n단계적으로 탑재할 계획\\nn 삼성 가우스는 △텍스트를 생성하는 언어모델 △코드를 생성하는 코드 모델 △이미지를 생성하는\\n이미지 모델의 3개 모델로 구성\\n∙ 언어 모델은 클라우드와 온디바이스 대상 다양한 모델로 구성되며, 메일 작성, 문서 요약, 번역 업무의\\n처리를 지원')]\n",
      "\n",
      "rag 실행 결과:\n",
      "삼성전자가 공개한 생성 AI '삼성 가우스'는 언어, 코드, 이미지의 3개 모델로 구성되어 있으며, 온디바이스에서 작동하도록 설계되어 사용자 정보 유출 위험이 없다. 이 AI는 2023년 11월 8일 '삼성 AI 포럼 2023'에서 처음 공개되었다.\n",
      "\n",
      "**Source**\n",
      "- data/SPRI_AI_Brief_2023년12월호_F.pdf (page 12)\n",
      "\n",
      "==========================================================================================\n",
      "\n"
     ]
    }
   ],
   "source": [
    "state['generation'] = generate(state)['generation']"
   ]
  },
  {
   "cell_type": "code",
   "execution_count": 31,
   "metadata": {},
   "outputs": [
    {
     "data": {
      "text/plain": [
       "{'question': '삼성전자가 개발한 생성형 AI의 이름은 무엇인가요?',\n",
       " 'generation': \"삼성전자가 공개한 생성 AI '삼성 가우스'는 언어, 코드, 이미지의 3개 모델로 구성되어 있으며, 온디바이스에서 작동하도록 설계되어 사용자 정보 유출 위험이 없다. 이 AI는 2023년 11월 8일 '삼성 AI 포럼 2023'에서 처음 공개되었다.\\n\\n**Source**\\n- data/SPRI_AI_Brief_2023년12월호_F.pdf (page 12)\",\n",
       " 'documents': [Document(id='74eb8859-4cdc-4166-b090-f3b02c3bbdcd', metadata={'source': 'data/SPRI_AI_Brief_2023년12월호_F.pdf', 'file_path': 'data/SPRI_AI_Brief_2023년12월호_F.pdf', 'page': 1, 'total_pages': 23, 'Author': 'dj', 'Creator': 'Hwp 2018 10.0.0.13462', 'Producer': 'Hancom PDF 1.3.0.542', 'CreationDate': \"D:20231208132838+09'00'\", 'ModDate': \"D:20231208132838+09'00'\", 'PDFVersion': '1.4'}, page_content='▹ 삼성전자, 자체 개발 생성 AI ‘삼성 가우스’ 공개 ···························································10\\n▹ 구글, 앤스로픽에 20억 달러 투자로 생성 AI 협력 강화 ················································11\\n▹ IDC, 2027년 AI 소프트웨어 매출 2,500억 달러 돌파 전망···········································12'),\n",
       "  Document(id='6d08664d-42c5-4a54-91a5-86954096bab4', metadata={'source': 'data/SPRI_AI_Brief_2023년12월호_F.pdf', 'file_path': 'data/SPRI_AI_Brief_2023년12월호_F.pdf', 'page': 12, 'total_pages': 23, 'Author': 'dj', 'Creator': 'Hwp 2018 10.0.0.13462', 'Producer': 'Hancom PDF 1.3.0.542', 'CreationDate': \"D:20231208132838+09'00'\", 'ModDate': \"D:20231208132838+09'00'\", 'PDFVersion': '1.4'}, page_content='SPRi AI Brief |\\n2023-12월호\\n삼성전자, 자체 개발 생성 AI ‘삼성 가우스’ 공개\\nKEY Contents\\nn 삼성전자가 온디바이스에서 작동 가능하며 언어, 코드, 이미지의 3개 모델로 구성된 자체 개발 생성\\nAI 모델 ‘삼성 가우스’를 공개\\nn 삼성전자는 삼성 가우스를 다양한 제품에 단계적으로 탑재할 계획으로, 온디바이스 작동이 가능한\\n삼성 가우스는 외부로 사용자 정보가 유출될 위험이 없다는 장점을 보유\\n£언어, 코드, 이미지의 3개 모델로 구성된 삼성 가우스, 온디바이스 작동 지원'),\n",
       "  Document(id='5c637d35-3232-46bb-821d-94b42f64968d', metadata={'source': 'data/SPRI_AI_Brief_2023년12월호_F.pdf', 'file_path': 'data/SPRI_AI_Brief_2023년12월호_F.pdf', 'page': 12, 'total_pages': 23, 'Author': 'dj', 'Creator': 'Hwp 2018 10.0.0.13462', 'Producer': 'Hancom PDF 1.3.0.542', 'CreationDate': \"D:20231208132838+09'00'\", 'ModDate': \"D:20231208132838+09'00'\", 'PDFVersion': '1.4'}, page_content='£언어, 코드, 이미지의 3개 모델로 구성된 삼성 가우스, 온디바이스 작동 지원\\nn 삼성전자가 2023년 11월 8일 열린 ‘삼성 AI 포럼 2023’ 행사에서 자체 개발한 생성 AI 모델\\n‘삼성 가우스’를 최초 공개\\n∙ 정규분포 이론을 정립한 천재 수학자 가우스(Gauss)의 이름을 본뜬 삼성 가우스는 다양한 상황에\\n최적화된 크기의 모델 선택이 가능\\n∙ 삼성 가우스는 라이선스나 개인정보를 침해하지 않는 안전한 데이터를 통해 학습되었으며,\\n온디바이스에서 작동하도록 설계되어 외부로 사용자의 정보가 유출되지 않는 장점을 보유'),\n",
       "  Document(id='25f6d0eb-e270-48d2-a356-99b6f68324cf', metadata={'source': 'data/SPRI_AI_Brief_2023년12월호_F.pdf', 'file_path': 'data/SPRI_AI_Brief_2023년12월호_F.pdf', 'page': 12, 'total_pages': 23, 'Author': 'dj', 'Creator': 'Hwp 2018 10.0.0.13462', 'Producer': 'Hancom PDF 1.3.0.542', 'CreationDate': \"D:20231208132838+09'00'\", 'ModDate': \"D:20231208132838+09'00'\", 'PDFVersion': '1.4'}, page_content='어시스턴트를 적용한 구글 픽셀(Pixel)과 경쟁할 것으로 예상\\n☞ 출처 : 삼성전자, ‘삼성 AI 포럼’서 자체 개발 생성형 AI ‘삼성 가우스’ 공개, 2023.11.08.\\n삼성전자, ‘삼성 개발자 콘퍼런스 코리아 2023’ 개최, 2023.11.14.\\nTechRepublic, Samsung Gauss: Samsung Research Reveals Generative AI, 2023.11.08.\\n10'),\n",
       "  Document(id='77569279-89cc-4dd9-b7fd-d057a098b12b', metadata={'source': 'data/SPRI_AI_Brief_2023년12월호_F.pdf', 'file_path': 'data/SPRI_AI_Brief_2023년12월호_F.pdf', 'page': 12, 'total_pages': 23, 'Author': 'dj', 'Creator': 'Hwp 2018 10.0.0.13462', 'Producer': 'Hancom PDF 1.3.0.542', 'CreationDate': \"D:20231208132838+09'00'\", 'ModDate': \"D:20231208132838+09'00'\", 'PDFVersion': '1.4'}, page_content='처리를 지원\\n∙ 코드 모델 기반의 AI 코딩 어시스턴트 ‘코드아이(code.i)’는 대화형 인터페이스로 서비스를 제공하며\\n사내 소프트웨어 개발에 최적화\\n∙ 이미지 모델은 창의적인 이미지를 생성하고 기존 이미지를 원하는 대로 바꿀 수 있도록 지원하며\\n저해상도 이미지의 고해상도 전환도 지원\\nn IT 전문지 테크리퍼블릭(TechRepublic)은 온디바이스 AI가 주요 기술 트렌드로 부상했다며,\\n2024년부터 가우스를 탑재한 삼성 스마트폰이 메타의 라마(Llama)2를 탑재한 퀄컴 기기 및 구글'),\n",
       "  Document(id='1a015410-720c-4099-96e2-608d1cfc01fe', metadata={'source': 'data/SPRI_AI_Brief_2023년12월호_F.pdf', 'file_path': 'data/SPRI_AI_Brief_2023년12월호_F.pdf', 'page': 12, 'total_pages': 23, 'Author': 'dj', 'Creator': 'Hwp 2018 10.0.0.13462', 'Producer': 'Hancom PDF 1.3.0.542', 'CreationDate': \"D:20231208132838+09'00'\", 'ModDate': \"D:20231208132838+09'00'\", 'PDFVersion': '1.4'}, page_content='온디바이스에서 작동하도록 설계되어 외부로 사용자의 정보가 유출되지 않는 장점을 보유\\n∙ 삼성전자는 삼성 가우스를 활용한 온디바이스 AI 기술도 소개했으며, 생성 AI 모델을 다양한 제품에\\n단계적으로 탑재할 계획\\nn 삼성 가우스는 △텍스트를 생성하는 언어모델 △코드를 생성하는 코드 모델 △이미지를 생성하는\\n이미지 모델의 3개 모델로 구성\\n∙ 언어 모델은 클라우드와 온디바이스 대상 다양한 모델로 구성되며, 메일 작성, 문서 요약, 번역 업무의\\n처리를 지원')]}"
      ]
     },
     "execution_count": 31,
     "metadata": {},
     "output_type": "execute_result"
    }
   ],
   "source": [
    "state"
   ]
  },
  {
   "cell_type": "markdown",
   "metadata": {},
   "source": [
    "### 실행 답변에 대한 Hallucination 평가 노드"
   ]
  },
  {
   "cell_type": "code",
   "execution_count": null,
   "metadata": {},
   "outputs": [],
   "source": [
    "class GradeHallucinations(BaseModel):\n",
    "    \"\"\"Binary score for hallucination present in generation answer.\"\"\"\n",
    "\n",
    "    binary_score: str = Field(\n",
    "        description=\"Answer is grounded in the facts, 'yes' or 'no'\"\n",
    "    )\n",
    "\n",
    "\n",
    "llm = ChatOpenAI(\n",
    "    api_key=key, \n",
    "    model='gpt-4o-mini', \n",
    "    temperature=0\n",
    ")\n",
    "\n",
    "structured_hallucination_grader = llm.with_structured_output(GradeHallucinations)\n",
    "\n",
    "# system\n",
    "system = \"\"\"You are a grader assessing whether an LLM generation is grounded in / supported by a set of retrieved facts. \\n \n",
    "    Give a binary score 'yes' or 'no'. 'Yes' means that the answer is grounded in / supported by the set of facts.\"\"\"\n",
    "\n",
    "# 프롬프트\n",
    "hallucination_prompt = ChatPromptTemplate.from_messages(\n",
    "    [\n",
    "        (\"system\", system),\n",
    "        (\"human\", \"Set of facts: \\n\\n {documents} \\n\\n LLM generation: {generation}\"),\n",
    "    ]\n",
    ") \n",
    "\n",
    "# hallucination 평가기 생성\n",
    "hallucination_grader = hallucination_prompt | structured_hallucination_grader"
   ]
  },
  {
   "cell_type": "code",
   "execution_count": 33,
   "metadata": {},
   "outputs": [],
   "source": [
    "class GradeAnswer(BaseModel):\n",
    "    \"\"\"Binary scoring to evaluate the appropriateness of answers to questions\"\"\"\n",
    "\n",
    "    binary_score: str = Field(\n",
    "        description=\"Indicate 'yes' or 'no' whether the answer solves the question\"\n",
    "    )\n",
    "\n",
    "llm = ChatOpenAI(\n",
    "    api_key=key, \n",
    "    model='gpt-4o-mini', \n",
    "    temperature=0\n",
    ")\n",
    "\n",
    "structured_llm_grader = llm.with_structured_output(GradeAnswer)\n",
    "\n",
    "# system\n",
    "system = \"\"\"You are a grader assessing whether an answer addresses / resolves a question \\n \n",
    "     Give a binary score 'yes' or 'no'. Yes' means that the answer resolves the question.\"\"\"\n",
    "\n",
    "# 프롬프트 템플릿\n",
    "answer_prompt = ChatPromptTemplate.from_messages(\n",
    "    [\n",
    "        (\"system\", system),\n",
    "        (\"human\", \"User question: \\n\\n {question} \\n\\n LLM generation: {generation}\"),\n",
    "    ]\n",
    ")\n",
    "\n",
    "# 프롬프트 템플릿과 구조화된 LLM 평가기를 결합하여 답변 평가기 생성\n",
    "answer_grader = answer_prompt | structured_llm_grader"
   ]
  },
  {
   "cell_type": "code",
   "execution_count": 34,
   "metadata": {},
   "outputs": [],
   "source": [
    "# Hallucination 평가 노드\n",
    "def hallucination_check(state: GraphState):\n",
    "    print('\\n==========================================================================================')\n",
    "    print('===== [CHECK hallucination] hallucination_check() 함수 =====')\n",
    "\n",
    "    # 사용자 질문\n",
    "    qestion = state['question']\n",
    "\n",
    "    # 문서 검색 결과\n",
    "    documents = state['documents']\n",
    "\n",
    "    # 생성된 답변\n",
    "    generation = state['generation']\n",
    "\n",
    "    # 평가\n",
    "    score = hallucination_grader.invoke({'documents': documents, 'generation': generation})\n",
    "    grade = score.binary_score\n",
    "\n",
    "    print(f\"===== [평가 결과] =====\")\n",
    "    print(grade)\n",
    "\n",
    "    if grade == 'yes':     # hallucination 없음\n",
    "        print(\"===== [DECISION: GENERATION IS GROUNDED IN DOCUMENTS] =====\")\n",
    "        print(\"no hallucination\")\n",
    "\n",
    "        # 답변에 대한 관련성 평가\n",
    "        print(\"===== [GRADE GENERATED ANSWER vs QUESTION] =====\")\n",
    "\n",
    "        score = answer_grader.invoke({'question': state['question'], 'generation': generation})\n",
    "        grade = score.binary_score\n",
    "\n",
    "        if grade == 'yes':          # 관련성 있는 답변\n",
    "            print(\"==== [DECISION: GENERATED ANSWER ADDRESSES QUESTION] ====\")\n",
    "            print(\"relevant\")\n",
    "            print('==========================================================================================\\n')\n",
    "            return \"relevant\"\n",
    "        else:                       # 관련성 없는 답변\n",
    "            print(\"==== [DECISION: GENERATED ANSWER DOES NOT ADDRESS QUESTION] ====\")\n",
    "            print(\"not relevant\")\n",
    "            print('==========================================================================================\\n')\n",
    "            return \"not relevant\"\n",
    "\n",
    "    else:                   # hallucination 있음\n",
    "        print(\"===== [DECISION: GENERATION IS NOT GROUNDED IN DOCUMENTS, RE-TRY] =====\")\n",
    "        print(\"hallucination\")\n",
    "        print('==========================================================================================\\n')\n",
    "        return \"hallucination\""
   ]
  },
  {
   "cell_type": "code",
   "execution_count": 35,
   "metadata": {},
   "outputs": [
    {
     "name": "stdout",
     "output_type": "stream",
     "text": [
      "\n",
      "==========================================================================================\n",
      "===== [CHECK hallucination] hallucination_check() 함수 =====\n",
      "===== [평가 결과] =====\n",
      "yes\n",
      "===== [DECISION: GENERATION IS GROUNDED IN DOCUMENTS] =====\n",
      "no hallucination\n",
      "===== [GRADE GENERATED ANSWER vs QUESTION] =====\n",
      "==== [DECISION: GENERATED ANSWER ADDRESSES QUESTION] ====\n",
      "relevant\n",
      "==========================================================================================\n",
      "\n"
     ]
    },
    {
     "data": {
      "text/plain": [
       "'relevant'"
      ]
     },
     "execution_count": 35,
     "metadata": {},
     "output_type": "execute_result"
    }
   ],
   "source": [
    "hallucination_check(state)"
   ]
  }
 ],
 "metadata": {
  "kernelspec": {
   "display_name": "venv",
   "language": "python",
   "name": "python3"
  },
  "language_info": {
   "codemirror_mode": {
    "name": "ipython",
    "version": 3
   },
   "file_extension": ".py",
   "mimetype": "text/x-python",
   "name": "python",
   "nbconvert_exporter": "python",
   "pygments_lexer": "ipython3",
   "version": "3.11.9"
  }
 },
 "nbformat": 4,
 "nbformat_minor": 2
}
