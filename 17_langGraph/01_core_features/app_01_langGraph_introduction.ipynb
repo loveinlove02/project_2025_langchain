{
 "cells": [
  {
   "cell_type": "code",
   "execution_count": 27,
   "metadata": {},
   "outputs": [],
   "source": [
    "from dotenv import load_dotenv\n",
    "import os\n",
    "\n",
    "load_dotenv(verbose=True)\n",
    "key = os.getenv('OPENAI_API_KEY')"
   ]
  },
  {
   "cell_type": "code",
   "execution_count": 28,
   "metadata": {},
   "outputs": [],
   "source": [
    "from typing import Annotated\n",
    "from typing_extensions import TypedDict"
   ]
  },
  {
   "cell_type": "code",
   "execution_count": 29,
   "metadata": {},
   "outputs": [],
   "source": [
    "from langchain_core.messages import HumanMessage\n",
    "from langchain_core.messages import AIMessage\n",
    "from langgraph.graph.message import add_messages"
   ]
  },
  {
   "cell_type": "code",
   "execution_count": 30,
   "metadata": {},
   "outputs": [],
   "source": [
    "class State(TypedDict):\n",
    "    messages: Annotated[list, add_messages]"
   ]
  },
  {
   "cell_type": "code",
   "execution_count": 31,
   "metadata": {},
   "outputs": [],
   "source": [
    "state = State(messages=[])                  # state 객체"
   ]
  },
  {
   "cell_type": "code",
   "execution_count": 32,
   "metadata": {},
   "outputs": [
    {
     "data": {
      "text/plain": [
       "{'messages': []}"
      ]
     },
     "execution_count": 32,
     "metadata": {},
     "output_type": "execute_result"
    }
   ],
   "source": [
    "state"
   ]
  },
  {
   "cell_type": "code",
   "execution_count": 33,
   "metadata": {},
   "outputs": [],
   "source": [
    "new_message1 = HumanMessage(content='안녕하세요!', id='1')              # 메시지"
   ]
  },
  {
   "cell_type": "code",
   "execution_count": 34,
   "metadata": {},
   "outputs": [],
   "source": [
    "new_message2 = AIMessage(content='무엇을 도와드릴가요?', id='2')"
   ]
  },
  {
   "cell_type": "code",
   "execution_count": 35,
   "metadata": {},
   "outputs": [],
   "source": [
    "state['messages'] = add_messages(state['messages'], [new_message1])"
   ]
  },
  {
   "cell_type": "code",
   "execution_count": 36,
   "metadata": {},
   "outputs": [],
   "source": [
    "state['messages'] = add_messages(state['messages'], [new_message2])"
   ]
  },
  {
   "cell_type": "code",
   "execution_count": 37,
   "metadata": {},
   "outputs": [
    {
     "data": {
      "text/plain": [
       "{'messages': [HumanMessage(content='안녕하세요!', additional_kwargs={}, response_metadata={}, id='1'),\n",
       "  AIMessage(content='무엇을 도와드릴가요?', additional_kwargs={}, response_metadata={}, id='2')]}"
      ]
     },
     "execution_count": 37,
     "metadata": {},
     "output_type": "execute_result"
    }
   ],
   "source": [
    "state"
   ]
  },
  {
   "cell_type": "code",
   "execution_count": 38,
   "metadata": {},
   "outputs": [],
   "source": [
    "from typing import Annotated\n",
    "from typing_extensions import TypedDict\n",
    "\n",
    "from langchain_core.messages import HumanMessage\n",
    "from langchain_core.messages import AIMessage\n",
    "\n",
    "import operator\n",
    "\n",
    "class GraphState(TypedDict):\n",
    "    messages: Annotated[list, operator.add]"
   ]
  },
  {
   "cell_type": "code",
   "execution_count": 39,
   "metadata": {},
   "outputs": [],
   "source": [
    "graphState = GraphState(messages=[])"
   ]
  },
  {
   "cell_type": "code",
   "execution_count": 40,
   "metadata": {},
   "outputs": [],
   "source": [
    "message3 = HumanMessage(content='안녕하세요', id=3)\n",
    "message4 = HumanMessage(content='무엇을 도와드릴까요?', id=4)"
   ]
  },
  {
   "cell_type": "code",
   "execution_count": 41,
   "metadata": {},
   "outputs": [],
   "source": [
    "graphState[\"messages\"] = operator.add(graphState[\"messages\"], [message3])"
   ]
  },
  {
   "cell_type": "code",
   "execution_count": 42,
   "metadata": {},
   "outputs": [],
   "source": [
    "graphState[\"messages\"] = operator.add(graphState[\"messages\"], [message4])"
   ]
  },
  {
   "cell_type": "code",
   "execution_count": 43,
   "metadata": {},
   "outputs": [
    {
     "data": {
      "text/plain": [
       "{'messages': [HumanMessage(content='안녕하세요', additional_kwargs={}, response_metadata={}, id='3'),\n",
       "  HumanMessage(content='무엇을 도와드릴까요?', additional_kwargs={}, response_metadata={}, id='4')]}"
      ]
     },
     "execution_count": 43,
     "metadata": {},
     "output_type": "execute_result"
    }
   ],
   "source": [
    "graphState"
   ]
  },
  {
   "cell_type": "code",
   "execution_count": 2,
   "metadata": {},
   "outputs": [],
   "source": [
    "from typing import Annotated\n",
    "from typing_extensions import TypedDict\n",
    "\n",
    "from langchain_core.messages import HumanMessage\n",
    "from langchain_core.messages import AIMessage\n",
    "from langgraph.graph.message import add_messages\n",
    "\n",
    "class State2(TypedDict):\n",
    "    messages: Annotated[list, add_messages]"
   ]
  },
  {
   "cell_type": "code",
   "execution_count": 3,
   "metadata": {},
   "outputs": [],
   "source": [
    "humanMessage = HumanMessage(\n",
    "    content='대한민국 계엄령에 대해서 알려줘', \n",
    "    additional_kwargs={}, \n",
    "    response_metadata={}, \n",
    "    id='657f465f-c6be-4690-89d3-87435afefcec')"
   ]
  },
  {
   "cell_type": "code",
   "execution_count": 5,
   "metadata": {},
   "outputs": [],
   "source": [
    "state2 = State2(messages=[humanMessage])"
   ]
  },
  {
   "cell_type": "code",
   "execution_count": 6,
   "metadata": {},
   "outputs": [
    {
     "data": {
      "text/plain": [
       "{'messages': [HumanMessage(content='대한민국 계엄령에 대해서 알려줘', additional_kwargs={}, response_metadata={}, id='657f465f-c6be-4690-89d3-87435afefcec')]}"
      ]
     },
     "execution_count": 6,
     "metadata": {},
     "output_type": "execute_result"
    }
   ],
   "source": [
    "state2"
   ]
  },
  {
   "cell_type": "code",
   "execution_count": 8,
   "metadata": {},
   "outputs": [],
   "source": [
    "aimiessage = AIMessage(\n",
    "    content = '실행했습니다.', \n",
    "    add_messages = {'refusal': None},\n",
    "    response_metadata = {\n",
    "        'token_usage': {\n",
    "            'completion_tokens': 243,\n",
    "            'prompt_tokens': 21,\n",
    "            'total_tokens': 264, \n",
    "            'completion_tokens_details': {\n",
    "                'accepted_prediction_tokens': 0,\n",
    "                'audio_tokens': 0,\n",
    "                'reasoning_tokens': 0, \n",
    "                'rejected_prediction_tokens': 0 \n",
    "            },\n",
    "            'prompt_tokens_details': {'audio_tokens': 0, 'cached_tokens': 0}\n",
    "        }, \n",
    "        'model_name': 'gpt-4o-mini-2024-07-18', \n",
    "        'system_fingerprint': 'fp_b8bc95a0ac', \n",
    "        'finish_reason': 'stop', \n",
    "        'logprobs': None\n",
    "    },\n",
    "    id='run-058fd8e4-aeb3-4ff1-9951-fde8f3327a2f-1',\n",
    "    usage_metadata = {\n",
    "    'input_tokens': 21, \n",
    "    'output_tokens': 243, \n",
    "    'total_tokens': 264, \n",
    "    'input_token_details': {'audio': 0, 'cache_read': 0}, \n",
    "    'output_token_details': {'audio': 0, 'reasoning': 0}\n",
    "    } \n",
    ")"
   ]
  },
  {
   "cell_type": "code",
   "execution_count": 10,
   "metadata": {},
   "outputs": [],
   "source": [
    "state2['messages'] = add_messages(state2['messages'], [aimiessage])"
   ]
  },
  {
   "cell_type": "code",
   "execution_count": 14,
   "metadata": {},
   "outputs": [
    {
     "name": "stdout",
     "output_type": "stream",
     "text": [
      "{'messages': [HumanMessage(content='대한민국 계엄령에 대해서 알려줘', additional_kwargs={}, response_metadata={}, id='657f465f-c6be-4690-89d3-87435afefcec'), AIMessage(content='실행했습니다.', additional_kwargs={}, response_metadata={'token_usage': {'completion_tokens': 243, 'prompt_tokens': 21, 'total_tokens': 264, 'completion_tokens_details': {'accepted_prediction_tokens': 0, 'audio_tokens': 0, 'reasoning_tokens': 0, 'rejected_prediction_tokens': 0}, 'prompt_tokens_details': {'audio_tokens': 0, 'cached_tokens': 0}}, 'model_name': 'gpt-4o-mini-2024-07-18', 'system_fingerprint': 'fp_b8bc95a0ac', 'finish_reason': 'stop', 'logprobs': None}, id='run-058fd8e4-aeb3-4ff1-9951-fde8f3327a2f-1', usage_metadata={'input_tokens': 21, 'output_tokens': 243, 'total_tokens': 264, 'input_token_details': {'audio': 0, 'cache_read': 0}, 'output_token_details': {'audio': 0, 'reasoning': 0}}, add_messages={'refusal': None})]}\n"
     ]
    }
   ],
   "source": [
    "print(state2)"
   ]
  },
  {
   "cell_type": "code",
   "execution_count": 16,
   "metadata": {},
   "outputs": [
    {
     "data": {
      "text/plain": [
       "[HumanMessage(content='대한민국 계엄령에 대해서 알려줘', additional_kwargs={}, response_metadata={}, id='657f465f-c6be-4690-89d3-87435afefcec'),\n",
       " AIMessage(content='실행했습니다.', additional_kwargs={}, response_metadata={'token_usage': {'completion_tokens': 243, 'prompt_tokens': 21, 'total_tokens': 264, 'completion_tokens_details': {'accepted_prediction_tokens': 0, 'audio_tokens': 0, 'reasoning_tokens': 0, 'rejected_prediction_tokens': 0}, 'prompt_tokens_details': {'audio_tokens': 0, 'cached_tokens': 0}}, 'model_name': 'gpt-4o-mini-2024-07-18', 'system_fingerprint': 'fp_b8bc95a0ac', 'finish_reason': 'stop', 'logprobs': None}, id='run-058fd8e4-aeb3-4ff1-9951-fde8f3327a2f-1', usage_metadata={'input_tokens': 21, 'output_tokens': 243, 'total_tokens': 264, 'input_token_details': {'audio': 0, 'cache_read': 0}, 'output_token_details': {'audio': 0, 'reasoning': 0}}, add_messages={'refusal': None})]"
      ]
     },
     "execution_count": 16,
     "metadata": {},
     "output_type": "execute_result"
    }
   ],
   "source": [
    "state2['messages']"
   ]
  },
  {
   "cell_type": "code",
   "execution_count": 17,
   "metadata": {},
   "outputs": [
    {
     "data": {
      "text/plain": [
       "AIMessage(content='실행했습니다.', additional_kwargs={}, response_metadata={'token_usage': {'completion_tokens': 243, 'prompt_tokens': 21, 'total_tokens': 264, 'completion_tokens_details': {'accepted_prediction_tokens': 0, 'audio_tokens': 0, 'reasoning_tokens': 0, 'rejected_prediction_tokens': 0}, 'prompt_tokens_details': {'audio_tokens': 0, 'cached_tokens': 0}}, 'model_name': 'gpt-4o-mini-2024-07-18', 'system_fingerprint': 'fp_b8bc95a0ac', 'finish_reason': 'stop', 'logprobs': None}, id='run-058fd8e4-aeb3-4ff1-9951-fde8f3327a2f-1', usage_metadata={'input_tokens': 21, 'output_tokens': 243, 'total_tokens': 264, 'input_token_details': {'audio': 0, 'cache_read': 0}, 'output_token_details': {'audio': 0, 'reasoning': 0}}, add_messages={'refusal': None})"
      ]
     },
     "execution_count": 17,
     "metadata": {},
     "output_type": "execute_result"
    }
   ],
   "source": [
    "state2['messages'][-1]"
   ]
  },
  {
   "cell_type": "code",
   "execution_count": 18,
   "metadata": {},
   "outputs": [
    {
     "data": {
      "text/plain": [
       "'실행했습니다.'"
      ]
     },
     "execution_count": 18,
     "metadata": {},
     "output_type": "execute_result"
    }
   ],
   "source": [
    "state2['messages'][-1].content"
   ]
  },
  {
   "cell_type": "code",
   "execution_count": 19,
   "metadata": {},
   "outputs": [
    {
     "data": {
      "text/plain": [
       "{'refusal': None}"
      ]
     },
     "execution_count": 19,
     "metadata": {},
     "output_type": "execute_result"
    }
   ],
   "source": [
    "state2['messages'][-1].add_messages"
   ]
  },
  {
   "cell_type": "code",
   "execution_count": 24,
   "metadata": {},
   "outputs": [
    {
     "data": {
      "text/plain": [
       "{'completion_tokens': 243,\n",
       " 'prompt_tokens': 21,\n",
       " 'total_tokens': 264,\n",
       " 'completion_tokens_details': {'accepted_prediction_tokens': 0,\n",
       "  'audio_tokens': 0,\n",
       "  'reasoning_tokens': 0,\n",
       "  'rejected_prediction_tokens': 0},\n",
       " 'prompt_tokens_details': {'audio_tokens': 0, 'cached_tokens': 0}}"
      ]
     },
     "execution_count": 24,
     "metadata": {},
     "output_type": "execute_result"
    }
   ],
   "source": [
    "state2['messages'][-1].response_metadata['token_usage']"
   ]
  },
  {
   "cell_type": "code",
   "execution_count": 27,
   "metadata": {},
   "outputs": [
    {
     "data": {
      "text/plain": [
       "'gpt-4o-mini-2024-07-18'"
      ]
     },
     "execution_count": 27,
     "metadata": {},
     "output_type": "execute_result"
    }
   ],
   "source": [
    "state2['messages'][-1].response_metadata['model_name']"
   ]
  },
  {
   "cell_type": "code",
   "execution_count": 28,
   "metadata": {},
   "outputs": [
    {
     "data": {
      "text/plain": [
       "'fp_b8bc95a0ac'"
      ]
     },
     "execution_count": 28,
     "metadata": {},
     "output_type": "execute_result"
    }
   ],
   "source": [
    "state2['messages'][-1].response_metadata['system_fingerprint']"
   ]
  },
  {
   "cell_type": "code",
   "execution_count": 29,
   "metadata": {},
   "outputs": [
    {
     "data": {
      "text/plain": [
       "'stop'"
      ]
     },
     "execution_count": 29,
     "metadata": {},
     "output_type": "execute_result"
    }
   ],
   "source": [
    "state2['messages'][-1].response_metadata['finish_reason']"
   ]
  },
  {
   "cell_type": "code",
   "execution_count": 31,
   "metadata": {},
   "outputs": [
    {
     "data": {
      "text/plain": [
       "'run-058fd8e4-aeb3-4ff1-9951-fde8f3327a2f-1'"
      ]
     },
     "execution_count": 31,
     "metadata": {},
     "output_type": "execute_result"
    }
   ],
   "source": [
    "state2['messages'][-1].id"
   ]
  },
  {
   "cell_type": "code",
   "execution_count": 32,
   "metadata": {},
   "outputs": [
    {
     "data": {
      "text/plain": [
       "{'input_tokens': 21,\n",
       " 'output_tokens': 243,\n",
       " 'total_tokens': 264,\n",
       " 'input_token_details': {'audio': 0, 'cache_read': 0},\n",
       " 'output_token_details': {'audio': 0, 'reasoning': 0}}"
      ]
     },
     "execution_count": 32,
     "metadata": {},
     "output_type": "execute_result"
    }
   ],
   "source": [
    "state2['messages'][-1].usage_metadata"
   ]
  },
  {
   "cell_type": "code",
   "execution_count": null,
   "metadata": {},
   "outputs": [],
   "source": [
    "# AIMessage(\n",
    "#     content = '실행했습니다.', \n",
    "#     add_messages = {'refusal': None},\n",
    "#     response_metadata = {\n",
    "#         'token_usage': {\n",
    "#             'completion_tokens': 243,\n",
    "#             'prompt_tokens': 21,\n",
    "#             'total_tokens': 264, \n",
    "#             'completion_tokens_details': {\n",
    "#                 'accepted_prediction_tokens': 0,\n",
    "#                 'audio_tokens': 0,\n",
    "#                 'reasoning_tokens': 0, \n",
    "#                 'rejected_prediction_tokens': 0 \n",
    "#             },\n",
    "#             'prompt_tokens_details': {'audio_tokens': 0, 'cached_tokens': 0}\n",
    "#         }, \n",
    "#         'model_name': 'gpt-4o-mini-2024-07-18', \n",
    "#         'system_fingerprint': 'fp_b8bc95a0ac', \n",
    "#         'finish_reason': 'stop', \n",
    "#         'logprobs': None\n",
    "#     },\n",
    "#     id='run-058fd8e4-aeb3-4ff1-9951-fde8f3327a2f-0',\n",
    "#     usage_metadata = {\n",
    "#     'input_tokens': 21, \n",
    "#     'output_tokens': 243, \n",
    "#     'total_tokens': 264, \n",
    "#     'input_token_details': {'audio': 0, 'cache_read': 0}, \n",
    "#     'output_token_details': {'audio': 0, 'reasoning': 0}\n",
    "#     } \n",
    "# )"
   ]
  }
 ],
 "metadata": {
  "kernelspec": {
   "display_name": "venv",
   "language": "python",
   "name": "python3"
  },
  "language_info": {
   "codemirror_mode": {
    "name": "ipython",
    "version": 3
   },
   "file_extension": ".py",
   "mimetype": "text/x-python",
   "name": "python",
   "nbconvert_exporter": "python",
   "pygments_lexer": "ipython3",
   "version": "3.11.9"
  }
 },
 "nbformat": 4,
 "nbformat_minor": 2
}
