{
 "cells": [
  {
   "cell_type": "code",
   "execution_count": 25,
   "metadata": {},
   "outputs": [],
   "source": [
    "from dotenv import load_dotenv\n",
    "import os\n",
    "\n",
    "load_dotenv(verbose=True)\n",
    "key = os.getenv('OPENAI_API_KEY')"
   ]
  },
  {
   "cell_type": "code",
   "execution_count": 26,
   "metadata": {},
   "outputs": [],
   "source": [
    "from typing import Annotated, TypedDict\n",
    "from langgraph.graph import StateGraph, START, END\n",
    "from langgraph.graph.message import add_messages"
   ]
  },
  {
   "cell_type": "code",
   "execution_count": 27,
   "metadata": {},
   "outputs": [],
   "source": [
    "class State(TypedDict):\n",
    "    messages: Annotated[list, add_messages]"
   ]
  },
  {
   "cell_type": "code",
   "execution_count": 28,
   "metadata": {},
   "outputs": [],
   "source": [
    "from langchain_openai import ChatOpenAI\n",
    "\n",
    "llm = ChatOpenAI(\n",
    "    api_key=key, \n",
    "    model_name='gpt-4o-mini',\n",
    "    temperature=0.1\n",
    ")"
   ]
  },
  {
   "cell_type": "code",
   "execution_count": 29,
   "metadata": {},
   "outputs": [],
   "source": [
    "def chatbot(state: State):\n",
    "    answer = llm.invoke(state['messages'])\n",
    "\n",
    "    print('===================' * 20)\n",
    "    print('1.chatbot() 실행')\n",
    "    print(f\"2.state[messages]: {state['messages']}\")\n",
    "    print('3.chatbot answer:', answer)\n",
    "    print('4.chatbot answer:', answer.content)\n",
    "    print('===================' * 20)\n",
    "\n",
    "    return {'messages': [answer]}"
   ]
  },
  {
   "cell_type": "code",
   "execution_count": 30,
   "metadata": {},
   "outputs": [],
   "source": [
    "graph_builder = StateGraph(State)"
   ]
  },
  {
   "cell_type": "code",
   "execution_count": 31,
   "metadata": {},
   "outputs": [
    {
     "data": {
      "text/plain": [
       "<langgraph.graph.state.StateGraph at 0x13ae553e250>"
      ]
     },
     "execution_count": 31,
     "metadata": {},
     "output_type": "execute_result"
    }
   ],
   "source": [
    "graph_builder.add_node('chatbot', chatbot)      # 노드(함수) 이름을 인자로 받아서 chatbot 노드를 추가"
   ]
  },
  {
   "cell_type": "code",
   "execution_count": 32,
   "metadata": {},
   "outputs": [
    {
     "data": {
      "text/plain": [
       "<langgraph.graph.state.StateGraph at 0x13ae553e250>"
      ]
     },
     "execution_count": 32,
     "metadata": {},
     "output_type": "execute_result"
    }
   ],
   "source": [
    "graph_builder.add_edge(START, 'chatbot')        # 시작 노드에서 챗봇 노드(chatbot)로의 엣지 추가"
   ]
  },
  {
   "cell_type": "code",
   "execution_count": 33,
   "metadata": {},
   "outputs": [
    {
     "data": {
      "text/plain": [
       "<langgraph.graph.state.StateGraph at 0x13ae553e250>"
      ]
     },
     "execution_count": 33,
     "metadata": {},
     "output_type": "execute_result"
    }
   ],
   "source": [
    "graph_builder.add_edge('chatbot', END)          # chatbot 노드에서 END 노드로 엣지 추가"
   ]
  },
  {
   "cell_type": "code",
   "execution_count": 34,
   "metadata": {},
   "outputs": [],
   "source": [
    "graph = graph_builder.compile()                 # 그래프 컴파일"
   ]
  },
  {
   "cell_type": "code",
   "execution_count": 35,
   "metadata": {},
   "outputs": [
    {
     "data": {
      "image/png": "[encoded data removed]",
      "text/plain": [
       "<IPython.core.display.Image object>"
      ]
     },
     "metadata": {},
     "output_type": "display_data"
    }
   ],
   "source": [
    "from IPython.display import Image, display      # 그래프 시각화\n",
    "\n",
    "display(Image(graph.get_graph().draw_mermaid_png()))"
   ]
  },
  {
   "cell_type": "code",
   "execution_count": 36,
   "metadata": {},
   "outputs": [
    {
     "data": {
      "image/png": "[encoded data removed]",
      "text/plain": [
       "<IPython.core.display.Image object>"
      ]
     },
     "metadata": {},
     "output_type": "display_data"
    }
   ],
   "source": [
    "from langchain_teddynote.graphs import visualize_graph\n",
    "\n",
    "visualize_graph(graph)"
   ]
  },
  {
   "cell_type": "code",
   "execution_count": 37,
   "metadata": {},
   "outputs": [],
   "source": [
    "question = '대한민국 계엄령에 대해서 알려줘'"
   ]
  },
  {
   "cell_type": "code",
   "execution_count": 38,
   "metadata": {},
   "outputs": [
    {
     "name": "stdout",
     "output_type": "stream",
     "text": [
      "============================================================================================================================================================================================================================================================================================================================================================================================\n",
      "1.chatbot() 실행\n",
      "2.state[messages]: [HumanMessage(content='대한민국 계엄령에 대해서 알려줘', additional_kwargs={}, response_metadata={}, id='6c39ba22-36df-42a4-b693-dc1a3fcb942b')]\n",
      "3.chatbot answer: content='대한민국의 계엄령은 국가의 안전과 질서를 유지하기 위해 특정한 상황에서 군사력을 동원하여 법률의 일부 또는 전부를 정지시키는 제도입니다. 계엄령은 주로 전쟁, 내란, 대규모 폭동 등의 비상사태에 대응하기 위해 선포됩니다.\\n\\n대한민국 역사에서 계엄령은 여러 차례 선포되었습니다. 가장 유명한 사례는 1960년대와 1980년대의 정치적 혼란과 관련이 있습니다.\\n\\n1. **1960년 4.19 혁명 이후**: 이승만 정부의 부정선거에 대한 반발로 일어난 4.19 혁명 이후, 이승만 대통령은 계엄령을 선포하고 군대를 동원하여 시위를 진압하려 했습니다. 그러나 결국 이승만은 하야하게 되었습니다.\\n\\n2. **1980년 광주 민주화 운동**: 1980년 5월, 전두환 군부가 권력을 잡으면서 계엄령을 선포했습니다. 이 과정에서 광주에서 발생한 민주화 운동은 군의 강경 진압으로 이어졌고, 많은 인명 피해가 발생했습니다. 이 사건은 한국 현대사에서 중요한 전환점으로 여겨지며, 이후 민주화 운동의 기폭제가 되었습니다.\\n\\n계엄령은 헌법에 의해 규정되어 있으며, 대통령이 선포할 수 있습니다. 그러나 계엄령의 남용은 민주주의와 인권에 대한 심각한 위협이 될 수 있기 때문에, 그 필요성과 정당성에 대한 논란이 항상 존재합니다. \\n\\n현재 대한민국에서는 계엄령의 사용이 엄격히 제한되어 있으며, 민주적 절차와 인권을 존중하는 방향으로 법과 제도가 발전해 왔습니다.' additional_kwargs={'refusal': None} response_metadata={'token_usage': {'completion_tokens': 393, 'prompt_tokens': 16, 'total_tokens': 409, 'completion_tokens_details': {'accepted_prediction_tokens': 0, 'audio_tokens': 0, 'reasoning_tokens': 0, 'rejected_prediction_tokens': 0}, 'prompt_tokens_details': {'audio_tokens': 0, 'cached_tokens': 0}}, 'model_name': 'gpt-4o-mini-2024-07-18', 'system_fingerprint': 'fp_06737a9306', 'finish_reason': 'stop', 'logprobs': None} id='run-1b11e182-b73f-4ce4-b968-8ea75d9c9cad-0' usage_metadata={'input_tokens': 16, 'output_tokens': 393, 'total_tokens': 409, 'input_token_details': {'audio': 0, 'cache_read': 0}, 'output_token_details': {'audio': 0, 'reasoning': 0}}\n",
      "4.chatbot answer: 대한민국의 계엄령은 국가의 안전과 질서를 유지하기 위해 특정한 상황에서 군사력을 동원하여 법률의 일부 또는 전부를 정지시키는 제도입니다. 계엄령은 주로 전쟁, 내란, 대규모 폭동 등의 비상사태에 대응하기 위해 선포됩니다.\n",
      "\n",
      "대한민국 역사에서 계엄령은 여러 차례 선포되었습니다. 가장 유명한 사례는 1960년대와 1980년대의 정치적 혼란과 관련이 있습니다.\n",
      "\n",
      "1. **1960년 4.19 혁명 이후**: 이승만 정부의 부정선거에 대한 반발로 일어난 4.19 혁명 이후, 이승만 대통령은 계엄령을 선포하고 군대를 동원하여 시위를 진압하려 했습니다. 그러나 결국 이승만은 하야하게 되었습니다.\n",
      "\n",
      "2. **1980년 광주 민주화 운동**: 1980년 5월, 전두환 군부가 권력을 잡으면서 계엄령을 선포했습니다. 이 과정에서 광주에서 발생한 민주화 운동은 군의 강경 진압으로 이어졌고, 많은 인명 피해가 발생했습니다. 이 사건은 한국 현대사에서 중요한 전환점으로 여겨지며, 이후 민주화 운동의 기폭제가 되었습니다.\n",
      "\n",
      "계엄령은 헌법에 의해 규정되어 있으며, 대통령이 선포할 수 있습니다. 그러나 계엄령의 남용은 민주주의와 인권에 대한 심각한 위협이 될 수 있기 때문에, 그 필요성과 정당성에 대한 논란이 항상 존재합니다. \n",
      "\n",
      "현재 대한민국에서는 계엄령의 사용이 엄격히 제한되어 있으며, 민주적 절차와 인권을 존중하는 방향으로 법과 제도가 발전해 왔습니다.\n",
      "============================================================================================================================================================================================================================================================================================================================================================================================\n",
      "============================================================================================================================================================================================================================================================================================================================================================================================\n",
      "[event]\n",
      "{'chatbot': {'messages': [AIMessage(content='대한민국의 계엄령은 국가의 안전과 질서를 유지하기 위해 특정한 상황에서 군사력을 동원하여 법률의 일부 또는 전부를 정지시키는 제도입니다. 계엄령은 주로 전쟁, 내란, 대규모 폭동 등의 비상사태에 대응하기 위해 선포됩니다.\\n\\n대한민국 역사에서 계엄령은 여러 차례 선포되었습니다. 가장 유명한 사례는 1960년대와 1980년대의 정치적 혼란과 관련이 있습니다.\\n\\n1. **1960년 4.19 혁명 이후**: 이승만 정부의 부정선거에 대한 반발로 일어난 4.19 혁명 이후, 이승만 대통령은 계엄령을 선포하고 군대를 동원하여 시위를 진압하려 했습니다. 그러나 결국 이승만은 하야하게 되었습니다.\\n\\n2. **1980년 광주 민주화 운동**: 1980년 5월, 전두환 군부가 권력을 잡으면서 계엄령을 선포했습니다. 이 과정에서 광주에서 발생한 민주화 운동은 군의 강경 진압으로 이어졌고, 많은 인명 피해가 발생했습니다. 이 사건은 한국 현대사에서 중요한 전환점으로 여겨지며, 이후 민주화 운동의 기폭제가 되었습니다.\\n\\n계엄령은 헌법에 의해 규정되어 있으며, 대통령이 선포할 수 있습니다. 그러나 계엄령의 남용은 민주주의와 인권에 대한 심각한 위협이 될 수 있기 때문에, 그 필요성과 정당성에 대한 논란이 항상 존재합니다. \\n\\n현재 대한민국에서는 계엄령의 사용이 엄격히 제한되어 있으며, 민주적 절차와 인권을 존중하는 방향으로 법과 제도가 발전해 왔습니다.', additional_kwargs={'refusal': None}, response_metadata={'token_usage': {'completion_tokens': 393, 'prompt_tokens': 16, 'total_tokens': 409, 'completion_tokens_details': {'accepted_prediction_tokens': 0, 'audio_tokens': 0, 'reasoning_tokens': 0, 'rejected_prediction_tokens': 0}, 'prompt_tokens_details': {'audio_tokens': 0, 'cached_tokens': 0}}, 'model_name': 'gpt-4o-mini-2024-07-18', 'system_fingerprint': 'fp_06737a9306', 'finish_reason': 'stop', 'logprobs': None}, id='run-1b11e182-b73f-4ce4-b968-8ea75d9c9cad-0', usage_metadata={'input_tokens': 16, 'output_tokens': 393, 'total_tokens': 409, 'input_token_details': {'audio': 0, 'cache_read': 0}, 'output_token_details': {'audio': 0, 'reasoning': 0}})]}}\n",
      "============================================================================================================================================================================================================================================================================================================================================================================================\n"
     ]
    }
   ],
   "source": [
    "state = State(messages=[('user', question)])\n",
    "\n",
    "for event in graph.stream(state):\n",
    "    print('===================' * 20)\n",
    "    print('[event]')\n",
    "    print(event)\n",
    "    print('===================' * 20)"
   ]
  },
  {
   "cell_type": "code",
   "execution_count": 39,
   "metadata": {},
   "outputs": [
    {
     "name": "stdout",
     "output_type": "stream",
     "text": [
      "============================================================================================================================================================================================================================================================================================================================================================================================\n",
      "1.chatbot() 실행\n",
      "2.state[messages]: [HumanMessage(content='대한민국 계엄령에 대해서 알려줘', additional_kwargs={}, response_metadata={}, id='9d727b21-f03b-4d31-b1fe-774adf01226b')]\n",
      "3.chatbot answer: content='대한민국의 계엄령은 국가의 안전과 질서를 유지하기 위해 특정한 상황에서 군사력을 동원하여 법적 권한을 행사하는 제도입니다. 계엄령은 주로 전시, 내란, 또는 대규모 폭동과 같은 비상사태에 선언됩니다. 대한민국의 역사에서 계엄령은 여러 차례 발동된 바 있습니다.\\n\\n가장 유명한 사례는 1970년대와 1980년대 초반의 군사 정권 시기에 발생했습니다. 특히 1980년 5월 광주에서 발생한 광주 민주화 운동 당시, 전두환 정부는 계엄령을 선포하고 군을 동원하여 시위를 진압했습니다. 이 사건은 많은 인명 피해를 초래했으며, 이후 한국 사회에서 민주화 운동의 상징적인 사건으로 기억되고 있습니다.\\n\\n계엄령은 헌법에 의해 규정되어 있으며, 대통령이 발동할 수 있습니다. 계엄령이 발동되면 군사 작전과 관련된 여러 가지 권한이 군에 부여되며, 일반 시민의 권리와 자유가 제한될 수 있습니다. 계엄령의 발동은 국가의 안전을 위한 조치로 정당화되지만, 역사적으로는 권력 남용과 인권 침해의 원인이 되기도 했습니다.\\n\\n이와 같은 이유로, 계엄령의 발동은 항상 논란의 대상이 되며, 민주주의와 인권의 관점에서 비판받기도 합니다.' additional_kwargs={'refusal': None} response_metadata={'token_usage': {'completion_tokens': 325, 'prompt_tokens': 16, 'total_tokens': 341, 'completion_tokens_details': {'accepted_prediction_tokens': 0, 'audio_tokens': 0, 'reasoning_tokens': 0, 'rejected_prediction_tokens': 0}, 'prompt_tokens_details': {'audio_tokens': 0, 'cached_tokens': 0}}, 'model_name': 'gpt-4o-mini-2024-07-18', 'system_fingerprint': 'fp_06737a9306', 'finish_reason': 'stop', 'logprobs': None} id='run-3b2b31d2-15d9-40ba-9e4c-c61ac82b1fb1-0' usage_metadata={'input_tokens': 16, 'output_tokens': 325, 'total_tokens': 341, 'input_token_details': {'audio': 0, 'cache_read': 0}, 'output_token_details': {'audio': 0, 'reasoning': 0}}\n",
      "4.chatbot answer: 대한민국의 계엄령은 국가의 안전과 질서를 유지하기 위해 특정한 상황에서 군사력을 동원하여 법적 권한을 행사하는 제도입니다. 계엄령은 주로 전시, 내란, 또는 대규모 폭동과 같은 비상사태에 선언됩니다. 대한민국의 역사에서 계엄령은 여러 차례 발동된 바 있습니다.\n",
      "\n",
      "가장 유명한 사례는 1970년대와 1980년대 초반의 군사 정권 시기에 발생했습니다. 특히 1980년 5월 광주에서 발생한 광주 민주화 운동 당시, 전두환 정부는 계엄령을 선포하고 군을 동원하여 시위를 진압했습니다. 이 사건은 많은 인명 피해를 초래했으며, 이후 한국 사회에서 민주화 운동의 상징적인 사건으로 기억되고 있습니다.\n",
      "\n",
      "계엄령은 헌법에 의해 규정되어 있으며, 대통령이 발동할 수 있습니다. 계엄령이 발동되면 군사 작전과 관련된 여러 가지 권한이 군에 부여되며, 일반 시민의 권리와 자유가 제한될 수 있습니다. 계엄령의 발동은 국가의 안전을 위한 조치로 정당화되지만, 역사적으로는 권력 남용과 인권 침해의 원인이 되기도 했습니다.\n",
      "\n",
      "이와 같은 이유로, 계엄령의 발동은 항상 논란의 대상이 되며, 민주주의와 인권의 관점에서 비판받기도 합니다.\n",
      "============================================================================================================================================================================================================================================================================================================================================================================================\n",
      "============================================================================================================================================================================================================================================================================================================================================================================================\n",
      "[event]\n",
      "(1) [content]: \n",
      " 대한민국의 계엄령은 국가의 안전과 질서를 유지하기 위해 특정한 상황에서 군사력을 동원하여 법적 권한을 행사하는 제도입니다. 계엄령은 주로 전시, 내란, 또는 대규모 폭동과 같은 비상사태에 선언됩니다. 대한민국의 역사에서 계엄령은 여러 차례 발동된 바 있습니다.\n",
      "\n",
      "가장 유명한 사례는 1970년대와 1980년대 초반의 군사 정권 시기에 발생했습니다. 특히 1980년 5월 광주에서 발생한 광주 민주화 운동 당시, 전두환 정부는 계엄령을 선포하고 군을 동원하여 시위를 진압했습니다. 이 사건은 많은 인명 피해를 초래했으며, 이후 한국 사회에서 민주화 운동의 상징적인 사건으로 기억되고 있습니다.\n",
      "\n",
      "계엄령은 헌법에 의해 규정되어 있으며, 대통령이 발동할 수 있습니다. 계엄령이 발동되면 군사 작전과 관련된 여러 가지 권한이 군에 부여되며, 일반 시민의 권리와 자유가 제한될 수 있습니다. 계엄령의 발동은 국가의 안전을 위한 조치로 정당화되지만, 역사적으로는 권력 남용과 인권 침해의 원인이 되기도 했습니다.\n",
      "\n",
      "이와 같은 이유로, 계엄령의 발동은 항상 논란의 대상이 되며, 민주주의와 인권의 관점에서 비판받기도 합니다.\n",
      "(2) [additional_kwargs]: \n",
      " {'refusal': None}\n",
      "(3) [response_metadata]: \n",
      " {'token_usage': {'completion_tokens': 325, 'prompt_tokens': 16, 'total_tokens': 341, 'completion_tokens_details': {'accepted_prediction_tokens': 0, 'audio_tokens': 0, 'reasoning_tokens': 0, 'rejected_prediction_tokens': 0}, 'prompt_tokens_details': {'audio_tokens': 0, 'cached_tokens': 0}}, 'model_name': 'gpt-4o-mini-2024-07-18', 'system_fingerprint': 'fp_06737a9306', 'finish_reason': 'stop', 'logprobs': None}\n",
      "============================================================================================================================================================================================================================================================================================================================================================================================\n"
     ]
    }
   ],
   "source": [
    "state = State(messages=[('user', question)])\n",
    "\n",
    "for event in graph.stream(state):\n",
    "    print('===================' * 20)\n",
    "    print('[event]')\n",
    "\n",
    "    print(f\"(1) [content]: \\n {event['chatbot']['messages'][-1].content}\")\n",
    "    print(f\"(2) [additional_kwargs]: \\n {event['chatbot']['messages'][-1].additional_kwargs}\")\n",
    "    print(f\"(3) [response_metadata]: \\n {event['chatbot']['messages'][-1].response_metadata}\")\n",
    "    print('===================' * 20)"
   ]
  },
  {
   "cell_type": "code",
   "execution_count": 40,
   "metadata": {},
   "outputs": [
    {
     "name": "stdout",
     "output_type": "stream",
     "text": [
      "============================================================================================================================================================================================================================================================================================================================================================================================\n",
      "1.chatbot() 실행\n",
      "2.state[messages]: [HumanMessage(content='대한민국 계엄령에 대해서 알려줘', additional_kwargs={}, response_metadata={}, id='9cea0174-ce64-4907-8f30-821c1847a6c3')]\n",
      "3.chatbot answer: content='대한민국의 계엄령은 국가의 안전과 질서를 유지하기 위해 특정한 상황에서 군사력을 동원하여 법적 권한을 행사하는 제도입니다. 계엄령은 주로 전시, 사변, 또는 그 밖의 비상사태에 선언되며, 이 경우 군대가 경찰의 역할을 대신하거나, 특정 지역에서의 법률 적용을 일시적으로 중단할 수 있습니다.\\n\\n대한민국 역사에서 계엄령은 여러 차례 선언되었습니다. 가장 유명한 사례는 1970년대와 1980년대의 정치적 혼란기입니다. 특히 1980년 5월 광주민주화운동 당시 전두환 정부가 계엄령을 선포하고 군을 동원하여 시위를 진압한 사건은 한국 현대사에서 중요한 전환점으로 여겨집니다. 이 사건은 많은 인명 피해를 초래했으며, 이후 민주화 운동의 촉발제가 되었습니다.\\n\\n계엄령의 선언은 헌법과 법률에 따라 이루어져야 하며, 국회의 승인을 받아야 하는 경우도 있습니다. 그러나 역사적으로 계엄령이 남용되어 민주적 권리가 침해된 사례도 많아, 이에 대한 비판과 논란이 존재합니다. \\n\\n계엄령은 국가의 안전을 위한 긴급 조치로서 필요할 수 있지만, 그 시행 과정에서의 인권 침해와 민주적 절차의 무시가 문제로 지적되고 있습니다.' additional_kwargs={'refusal': None} response_metadata={'token_usage': {'completion_tokens': 320, 'prompt_tokens': 16, 'total_tokens': 336, 'completion_tokens_details': {'accepted_prediction_tokens': 0, 'audio_tokens': 0, 'reasoning_tokens': 0, 'rejected_prediction_tokens': 0}, 'prompt_tokens_details': {'audio_tokens': 0, 'cached_tokens': 0}}, 'model_name': 'gpt-4o-mini-2024-07-18', 'system_fingerprint': 'fp_06737a9306', 'finish_reason': 'stop', 'logprobs': None} id='run-e5b90671-f8ac-428e-a006-557f2f783af3-0' usage_metadata={'input_tokens': 16, 'output_tokens': 320, 'total_tokens': 336, 'input_token_details': {'audio': 0, 'cache_read': 0}, 'output_token_details': {'audio': 0, 'reasoning': 0}}\n",
      "4.chatbot answer: 대한민국의 계엄령은 국가의 안전과 질서를 유지하기 위해 특정한 상황에서 군사력을 동원하여 법적 권한을 행사하는 제도입니다. 계엄령은 주로 전시, 사변, 또는 그 밖의 비상사태에 선언되며, 이 경우 군대가 경찰의 역할을 대신하거나, 특정 지역에서의 법률 적용을 일시적으로 중단할 수 있습니다.\n",
      "\n",
      "대한민국 역사에서 계엄령은 여러 차례 선언되었습니다. 가장 유명한 사례는 1970년대와 1980년대의 정치적 혼란기입니다. 특히 1980년 5월 광주민주화운동 당시 전두환 정부가 계엄령을 선포하고 군을 동원하여 시위를 진압한 사건은 한국 현대사에서 중요한 전환점으로 여겨집니다. 이 사건은 많은 인명 피해를 초래했으며, 이후 민주화 운동의 촉발제가 되었습니다.\n",
      "\n",
      "계엄령의 선언은 헌법과 법률에 따라 이루어져야 하며, 국회의 승인을 받아야 하는 경우도 있습니다. 그러나 역사적으로 계엄령이 남용되어 민주적 권리가 침해된 사례도 많아, 이에 대한 비판과 논란이 존재합니다. \n",
      "\n",
      "계엄령은 국가의 안전을 위한 긴급 조치로서 필요할 수 있지만, 그 시행 과정에서의 인권 침해와 민주적 절차의 무시가 문제로 지적되고 있습니다.\n",
      "============================================================================================================================================================================================================================================================================================================================================================================================\n",
      "============================================================================================================================================================================================================================================================================================================================================================================================\n",
      "[event]\n",
      "노드 이름: chatbot\n",
      "============================================================================================================================================================================================================================================================================================================================================================================================\n",
      "assistant 답변: \n",
      "대한민국의 계엄령은 국가의 안전과 질서를 유지하기 위해 특정한 상황에서 군사력을 동원하여 법적 권한을 행사하는 제도입니다. 계엄령은 주로 전시, 사변, 또는 그 밖의 비상사태에 선언되며, 이 경우 군대가 경찰의 역할을 대신하거나, 특정 지역에서의 법률 적용을 일시적으로 중단할 수 있습니다.\n",
      "\n",
      "대한민국 역사에서 계엄령은 여러 차례 선언되었습니다. 가장 유명한 사례는 1970년대와 1980년대의 정치적 혼란기입니다. 특히 1980년 5월 광주민주화운동 당시 전두환 정부가 계엄령을 선포하고 군을 동원하여 시위를 진압한 사건은 한국 현대사에서 중요한 전환점으로 여겨집니다. 이 사건은 많은 인명 피해를 초래했으며, 이후 민주화 운동의 촉발제가 되었습니다.\n",
      "\n",
      "계엄령의 선언은 헌법과 법률에 따라 이루어져야 하며, 국회의 승인을 받아야 하는 경우도 있습니다. 그러나 역사적으로 계엄령이 남용되어 민주적 권리가 침해된 사례도 많아, 이에 대한 비판과 논란이 존재합니다. \n",
      "\n",
      "계엄령은 국가의 안전을 위한 긴급 조치로서 필요할 수 있지만, 그 시행 과정에서의 인권 침해와 민주적 절차의 무시가 문제로 지적되고 있습니다.\n",
      "============================================================================================================================================================================================================================================================================================================================================================================================\n"
     ]
    }
   ],
   "source": [
    "state = State(messages=[('user', question)])\n",
    "\n",
    "for event in graph.stream(state):\n",
    "    print('===================' * 20)\n",
    "    print('[event]')\n",
    "\n",
    "    for k, value in event.items():\n",
    "        print(f'노드 이름: {k}')\n",
    "        print('===================' * 20)\n",
    "        print(f\"assistant 답변: \")\n",
    "        print(f\"{value['messages'][-1].content}\")\n",
    "\n",
    "    print('===================' * 20)"
   ]
  },
  {
   "cell_type": "code",
   "execution_count": 41,
   "metadata": {},
   "outputs": [
    {
     "name": "stdout",
     "output_type": "stream",
     "text": [
      "============================================================================================================================================================================================================================================================================================================================================================================================\n",
      "1.chatbot() 실행\n",
      "2.state[messages]: [HumanMessage(content='대한민국 계엄령에 대해서 알려줘', additional_kwargs={}, response_metadata={}, id='6dd44df0-9bdb-439e-ac35-83ac95e568f7')]\n",
      "3.chatbot answer: content='대한민국의 계엄령은 국가의 안전과 질서를 유지하기 위해 특정한 상황에서 군사력을 동원하여 법률의 일부 또는 전부를 정지시키는 제도입니다. 계엄령은 주로 전쟁, 내란, 대규모 폭동 등과 같은 비상사태에 대응하기 위해 선포됩니다.\\n\\n대한민국 역사에서 계엄령은 여러 차례 선포된 바 있습니다. 가장 유명한 사례는 1970년대와 1980년대의 군사 정권 시기에 발생한 사건들입니다. 특히 1980년 5월 광주민주화운동 당시 전두환 정부가 계엄령을 선포하고 군을 동원하여 시위를 진압한 사건은 한국 현대사에서 중요한 전환점으로 여겨집니다. 이 사건은 많은 인명 피해를 초래했으며, 이후 민주화 운동의 촉발제가 되었습니다.\\n\\n계엄령은 헌법에 의해 규정되어 있으며, 대통령이 선포할 수 있습니다. 계엄령이 선포되면 군사 작전이 가능해지고, 일반 시민의 권리가 제한될 수 있습니다. 그러나 계엄령의 남용은 민주주의와 인권에 대한 심각한 위협이 될 수 있기 때문에, 그 필요성과 정당성에 대한 논란이 항상 존재합니다. \\n\\n계엄령의 시행과 관련된 법적, 정치적 논의는 현재에도 계속되고 있으며, 과거의 사례들은 한국 사회에서 민주주의와 인권의 중요성을 강조하는 데 기여하고 있습니다.' additional_kwargs={'refusal': None} response_metadata={'token_usage': {'completion_tokens': 337, 'prompt_tokens': 16, 'total_tokens': 353, 'completion_tokens_details': {'accepted_prediction_tokens': 0, 'audio_tokens': 0, 'reasoning_tokens': 0, 'rejected_prediction_tokens': 0}, 'prompt_tokens_details': {'audio_tokens': 0, 'cached_tokens': 0}}, 'model_name': 'gpt-4o-mini-2024-07-18', 'system_fingerprint': 'fp_06737a9306', 'finish_reason': 'stop', 'logprobs': None} id='run-b043e13f-3d65-4bee-8376-cd005419661d-0' usage_metadata={'input_tokens': 16, 'output_tokens': 337, 'total_tokens': 353, 'input_token_details': {'audio': 0, 'cache_read': 0}, 'output_token_details': {'audio': 0, 'reasoning': 0}}\n",
      "4.chatbot answer: 대한민국의 계엄령은 국가의 안전과 질서를 유지하기 위해 특정한 상황에서 군사력을 동원하여 법률의 일부 또는 전부를 정지시키는 제도입니다. 계엄령은 주로 전쟁, 내란, 대규모 폭동 등과 같은 비상사태에 대응하기 위해 선포됩니다.\n",
      "\n",
      "대한민국 역사에서 계엄령은 여러 차례 선포된 바 있습니다. 가장 유명한 사례는 1970년대와 1980년대의 군사 정권 시기에 발생한 사건들입니다. 특히 1980년 5월 광주민주화운동 당시 전두환 정부가 계엄령을 선포하고 군을 동원하여 시위를 진압한 사건은 한국 현대사에서 중요한 전환점으로 여겨집니다. 이 사건은 많은 인명 피해를 초래했으며, 이후 민주화 운동의 촉발제가 되었습니다.\n",
      "\n",
      "계엄령은 헌법에 의해 규정되어 있으며, 대통령이 선포할 수 있습니다. 계엄령이 선포되면 군사 작전이 가능해지고, 일반 시민의 권리가 제한될 수 있습니다. 그러나 계엄령의 남용은 민주주의와 인권에 대한 심각한 위협이 될 수 있기 때문에, 그 필요성과 정당성에 대한 논란이 항상 존재합니다. \n",
      "\n",
      "계엄령의 시행과 관련된 법적, 정치적 논의는 현재에도 계속되고 있으며, 과거의 사례들은 한국 사회에서 민주주의와 인권의 중요성을 강조하는 데 기여하고 있습니다.\n",
      "============================================================================================================================================================================================================================================================================================================================================================================================\n",
      "노드 이름: chatbot\n",
      "============================================================================================================================================================================================================================================================================================================================================================================================\n",
      "assistant: 대한민국의 계엄령은 국가의 안전과 질서를 유지하기 위해 특정한 상황에서 군사력을 동원하여 법률의 일부 또는 전부를 정지시키는 제도입니다. 계엄령은 주로 전쟁, 내란, 대규모 폭동 등과 같은 비상사태에 대응하기 위해 선포됩니다.\n",
      "\n",
      "대한민국 역사에서 계엄령은 여러 차례 선포된 바 있습니다. 가장 유명한 사례는 1970년대와 1980년대의 군사 정권 시기에 발생한 사건들입니다. 특히 1980년 5월 광주민주화운동 당시 전두환 정부가 계엄령을 선포하고 군을 동원하여 시위를 진압한 사건은 한국 현대사에서 중요한 전환점으로 여겨집니다. 이 사건은 많은 인명 피해를 초래했으며, 이후 민주화 운동의 촉발제가 되었습니다.\n",
      "\n",
      "계엄령은 헌법에 의해 규정되어 있으며, 대통령이 선포할 수 있습니다. 계엄령이 선포되면 군사 작전이 가능해지고, 일반 시민의 권리가 제한될 수 있습니다. 그러나 계엄령의 남용은 민주주의와 인권에 대한 심각한 위협이 될 수 있기 때문에, 그 필요성과 정당성에 대한 논란이 항상 존재합니다. \n",
      "\n",
      "계엄령의 시행과 관련된 법적, 정치적 논의는 현재에도 계속되고 있으며, 과거의 사례들은 한국 사회에서 민주주의와 인권의 중요성을 강조하는 데 기여하고 있습니다.\n"
     ]
    }
   ],
   "source": [
    "question = '대한민국 계엄령에 대해서 알려줘'\n",
    "\n",
    "# state = State(messages=[('user', question)])\n",
    "\n",
    "for event in graph.stream({'messages': [('user', question)]}):\n",
    "    for k, value in event.items():\n",
    "        print(f'노드 이름: {k}')\n",
    "        print('===================' * 20)\n",
    "        print(f\"assistant: {value['messages'][-1].content}\")"
   ]
  }
 ],
 "metadata": {
  "kernelspec": {
   "display_name": "venv",
   "language": "python",
   "name": "python3"
  },
  "language_info": {
   "codemirror_mode": {
    "name": "ipython",
    "version": 3
   },
   "file_extension": ".py",
   "mimetype": "text/x-python",
   "name": "python",
   "nbconvert_exporter": "python",
   "pygments_lexer": "ipython3",
   "version": "3.11.9"
  }
 },
 "nbformat": 4,
 "nbformat_minor": 2
}
