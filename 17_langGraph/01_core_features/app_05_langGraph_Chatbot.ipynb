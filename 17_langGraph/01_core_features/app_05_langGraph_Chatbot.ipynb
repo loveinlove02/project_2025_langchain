{
 "cells": [
  {
   "cell_type": "code",
   "execution_count": 23,
   "metadata": {},
   "outputs": [],
   "source": [
    "from dotenv import load_dotenv\n",
    "import os\n",
    "\n",
    "load_dotenv(verbose=True)\n",
    "key = os.getenv('OPENAI_API_KEY')"
   ]
  },
  {
   "cell_type": "code",
   "execution_count": 24,
   "metadata": {},
   "outputs": [],
   "source": [
    "from typing import Annotated, TypedDict\n",
    "from langgraph.graph import StateGraph, START, END\n",
    "from langgraph.graph.message import add_messages"
   ]
  },
  {
   "cell_type": "code",
   "execution_count": 25,
   "metadata": {},
   "outputs": [],
   "source": [
    "class State(TypedDict):\n",
    "    messages: Annotated[list, add_messages]"
   ]
  },
  {
   "cell_type": "code",
   "execution_count": 26,
   "metadata": {},
   "outputs": [],
   "source": [
    "from langchain_openai import ChatOpenAI\n",
    "\n",
    "llm = ChatOpenAI(\n",
    "    api_key=key, \n",
    "    model_name='gpt-4o-mini',\n",
    "    temperature=0.1\n",
    ")"
   ]
  },
  {
   "cell_type": "code",
   "execution_count": 27,
   "metadata": {},
   "outputs": [],
   "source": [
    "def chatbot(state: State):\n",
    "    print('===== chatbot() 함수 시작 =====')\n",
    "    \n",
    "    print(f\"[messages]: {state['messages']}\")\n",
    "\n",
    "    answer = llm.invoke(state['messages'])\n",
    "\n",
    "    print(f\"[chatbot answer]: {answer}\")\n",
    "    # print(f'[chatbot answer]: {answer.content}')\n",
    "    \n",
    "    print('===== chatbot() 함수  끝 =====')\n",
    "\n",
    "    return {'messages': [answer]}"
   ]
  },
  {
   "cell_type": "code",
   "execution_count": 28,
   "metadata": {},
   "outputs": [],
   "source": [
    "graph_builder = StateGraph(State)"
   ]
  },
  {
   "cell_type": "code",
   "execution_count": 29,
   "metadata": {},
   "outputs": [
    {
     "data": {
      "text/plain": [
       "<langgraph.graph.state.StateGraph at 0x1c868810210>"
      ]
     },
     "execution_count": 29,
     "metadata": {},
     "output_type": "execute_result"
    }
   ],
   "source": [
    "graph_builder.add_node('chatbot', chatbot)      # 노드(함수) 이름을 인자로 받아서 chatbot 노드를 추가"
   ]
  },
  {
   "cell_type": "code",
   "execution_count": 30,
   "metadata": {},
   "outputs": [
    {
     "data": {
      "text/plain": [
       "<langgraph.graph.state.StateGraph at 0x1c868810210>"
      ]
     },
     "execution_count": 30,
     "metadata": {},
     "output_type": "execute_result"
    }
   ],
   "source": [
    "graph_builder.add_edge(START, 'chatbot')        # 시작 노드에서 챗봇 노드(chatbot)로의 엣지 추가"
   ]
  },
  {
   "cell_type": "code",
   "execution_count": 31,
   "metadata": {},
   "outputs": [
    {
     "data": {
      "text/plain": [
       "<langgraph.graph.state.StateGraph at 0x1c868810210>"
      ]
     },
     "execution_count": 31,
     "metadata": {},
     "output_type": "execute_result"
    }
   ],
   "source": [
    "graph_builder.add_edge('chatbot', END)          # chatbot 노드에서 END 노드로 엣지 추가"
   ]
  },
  {
   "cell_type": "code",
   "execution_count": 32,
   "metadata": {},
   "outputs": [],
   "source": [
    "graph = graph_builder.compile()                 # 그래프 컴파일"
   ]
  },
  {
   "cell_type": "code",
   "execution_count": 33,
   "metadata": {},
   "outputs": [
    {
     "data": {
      "image/png": "[encoded data removed]",
      "text/plain": [
       "<IPython.core.display.Image object>"
      ]
     },
     "metadata": {},
     "output_type": "display_data"
    }
   ],
   "source": [
    "from IPython.display import Image, display      # 그래프 시각화\n",
    "\n",
    "display(Image(graph.get_graph().draw_mermaid_png()))"
   ]
  },
  {
   "cell_type": "code",
   "execution_count": 34,
   "metadata": {},
   "outputs": [
    {
     "data": {
      "image/png": "[encoded data removed]",
      "text/plain": [
       "<IPython.core.display.Image object>"
      ]
     },
     "metadata": {},
     "output_type": "display_data"
    }
   ],
   "source": [
    "from langchain_teddynote.graphs import visualize_graph\n",
    "\n",
    "visualize_graph(graph)"
   ]
  },
  {
   "cell_type": "code",
   "execution_count": 35,
   "metadata": {},
   "outputs": [],
   "source": [
    "question = '대구 동성로 떡볶에에 대해서 알려줘'"
   ]
  },
  {
   "cell_type": "code",
   "execution_count": 36,
   "metadata": {},
   "outputs": [
    {
     "name": "stdout",
     "output_type": "stream",
     "text": [
      "===== chatbot() 함수 시작 =====\n",
      "[messages]: [HumanMessage(content='대구 동성로 떡볶에에 대해서 알려줘', additional_kwargs={}, response_metadata={}, id='f2d652d8-eaae-4506-afd3-3289825c7253')]\n",
      "[chatbot answer]: content='대구 동성로는 대구의 중심가로, 다양한 음식점과 상점들이 밀집해 있는 지역입니다. 이곳은 특히 떡볶이로 유명한 곳이 많아 많은 사람들이 찾는 명소입니다. 동성로의 떡볶이는 매콤하고 달콤한 소스와 쫄깃한 떡이 어우러져 많은 사랑을 받고 있습니다.\\n\\n동성로의 떡볶이 가게들은 각기 다른 특색을 가지고 있으며, 다양한 토핑과 함께 제공되기도 합니다. 예를 들어, 어묵, 계란, 치즈, 그리고 다양한 채소를 추가하여 더욱 풍성한 맛을 즐길 수 있습니다. 또한, 길거리 음식으로도 인기가 많아 간편하게 먹을 수 있는 점이 매력적입니다.\\n\\n대구 동성로에서 떡볶이를 즐기고 싶다면, 여러 가게를 비교해 보며 자신만의 최애 떡볶이를 찾아보는 것도 좋은 경험이 될 것입니다.' additional_kwargs={'refusal': None} response_metadata={'token_usage': {'completion_tokens': 224, 'prompt_tokens': 21, 'total_tokens': 245, 'completion_tokens_details': {'accepted_prediction_tokens': 0, 'audio_tokens': 0, 'reasoning_tokens': 0, 'rejected_prediction_tokens': 0}, 'prompt_tokens_details': {'audio_tokens': 0, 'cached_tokens': 0}}, 'model_name': 'gpt-4o-mini-2024-07-18', 'system_fingerprint': 'fp_b8bc95a0ac', 'finish_reason': 'stop', 'logprobs': None} id='run-ccf552b4-4612-4149-b132-ec30528b4d87-0' usage_metadata={'input_tokens': 21, 'output_tokens': 224, 'total_tokens': 245, 'input_token_details': {'audio': 0, 'cache_read': 0}, 'output_token_details': {'audio': 0, 'reasoning': 0}}\n",
      "===== chatbot() 함수  끝 =====\n",
      "==============================================================================================================================================================================================\n",
      "[event]\n",
      "{'chatbot': {'messages': [AIMessage(content='대구 동성로는 대구의 중심가로, 다양한 음식점과 상점들이 밀집해 있는 지역입니다. 이곳은 특히 떡볶이로 유명한 곳이 많아 많은 사람들이 찾는 명소입니다. 동성로의 떡볶이는 매콤하고 달콤한 소스와 쫄깃한 떡이 어우러져 많은 사랑을 받고 있습니다.\\n\\n동성로의 떡볶이 가게들은 각기 다른 특색을 가지고 있으며, 다양한 토핑과 함께 제공되기도 합니다. 예를 들어, 어묵, 계란, 치즈, 그리고 다양한 채소를 추가하여 더욱 풍성한 맛을 즐길 수 있습니다. 또한, 길거리 음식으로도 인기가 많아 간편하게 먹을 수 있는 점이 매력적입니다.\\n\\n대구 동성로에서 떡볶이를 즐기고 싶다면, 여러 가게를 비교해 보며 자신만의 최애 떡볶이를 찾아보는 것도 좋은 경험이 될 것입니다.', additional_kwargs={'refusal': None}, response_metadata={'token_usage': {'completion_tokens': 224, 'prompt_tokens': 21, 'total_tokens': 245, 'completion_tokens_details': {'accepted_prediction_tokens': 0, 'audio_tokens': 0, 'reasoning_tokens': 0, 'rejected_prediction_tokens': 0}, 'prompt_tokens_details': {'audio_tokens': 0, 'cached_tokens': 0}}, 'model_name': 'gpt-4o-mini-2024-07-18', 'system_fingerprint': 'fp_b8bc95a0ac', 'finish_reason': 'stop', 'logprobs': None}, id='run-ccf552b4-4612-4149-b132-ec30528b4d87-0', usage_metadata={'input_tokens': 21, 'output_tokens': 224, 'total_tokens': 245, 'input_token_details': {'audio': 0, 'cache_read': 0}, 'output_token_details': {'audio': 0, 'reasoning': 0}})]}}\n",
      "==============================================================================================================================================================================================\n"
     ]
    }
   ],
   "source": [
    "state = State(messages=[('user', question)])\n",
    "\n",
    "for event in graph.stream(state):\n",
    "    print('===================' * 10)\n",
    "    print('[event]')\n",
    "    print(event)\n",
    "    print('===================' * 10)"
   ]
  },
  {
   "cell_type": "code",
   "execution_count": 37,
   "metadata": {},
   "outputs": [
    {
     "name": "stdout",
     "output_type": "stream",
     "text": [
      "===== chatbot() 함수 시작 =====\n",
      "[messages]: [HumanMessage(content='대구 동성로 떡볶이에 대해서 알려줘', additional_kwargs={}, response_metadata={}, id='1')]\n",
      "[chatbot answer]: content='대구 동성로는 대구의 대표적인 번화가 중 하나로, 다양한 음식점과 상점들이 밀집해 있는 지역입니다. 이곳에서 특히 유명한 음식 중 하나가 떡볶이입니다. 동성로의 떡볶이는 매콤하고 달콤한 소스에 쫄깃한 떡과 다양한 재료가 어우러져 많은 사람들에게 사랑받고 있습니다.\\n\\n동성로에는 여러 떡볶이 전문점이 있으며, 각 가게마다 특색 있는 소스와 재료를 사용하여 독특한 맛을 제공합니다. 일반적으로 떡볶이와 함께 튀김, 오뎅, 계란 등을 곁들여 먹는 경우가 많습니다. 특히, 대구의 떡볶이는 다른 지역과 비교했을 때 조금 더 매운 편이어서 매운 음식을 좋아하는 사람들에게 인기가 높습니다.\\n\\n또한, 동성로는 젊은 층과 관광객들이 많이 찾는 곳이기 때문에, 떡볶이를 먹으면서 다양한 거리 공연이나 쇼핑을 즐길 수 있는 매력적인 장소입니다. 대구를 방문한다면 동성로의 떡볶이를 꼭 한 번 맛보는 것을 추천합니다!' additional_kwargs={'refusal': None} response_metadata={'token_usage': {'completion_tokens': 275, 'prompt_tokens': 20, 'total_tokens': 295, 'completion_tokens_details': {'accepted_prediction_tokens': 0, 'audio_tokens': 0, 'reasoning_tokens': 0, 'rejected_prediction_tokens': 0}, 'prompt_tokens_details': {'audio_tokens': 0, 'cached_tokens': 0}}, 'model_name': 'gpt-4o-mini-2024-07-18', 'system_fingerprint': 'fp_b8bc95a0ac', 'finish_reason': 'stop', 'logprobs': None} id='run-979fb3ab-f94c-47ef-9884-3857b186b7f9-0' usage_metadata={'input_tokens': 20, 'output_tokens': 275, 'total_tokens': 295, 'input_token_details': {'audio': 0, 'cache_read': 0}, 'output_token_details': {'audio': 0, 'reasoning': 0}}\n",
      "===== chatbot() 함수  끝 =====\n",
      "==============================================================================================================================================================================================\n",
      "[event]\n",
      "(1) [content]: \n",
      " 대구 동성로는 대구의 대표적인 번화가 중 하나로, 다양한 음식점과 상점들이 밀집해 있는 지역입니다. 이곳에서 특히 유명한 음식 중 하나가 떡볶이입니다. 동성로의 떡볶이는 매콤하고 달콤한 소스에 쫄깃한 떡과 다양한 재료가 어우러져 많은 사람들에게 사랑받고 있습니다.\n",
      "\n",
      "동성로에는 여러 떡볶이 전문점이 있으며, 각 가게마다 특색 있는 소스와 재료를 사용하여 독특한 맛을 제공합니다. 일반적으로 떡볶이와 함께 튀김, 오뎅, 계란 등을 곁들여 먹는 경우가 많습니다. 특히, 대구의 떡볶이는 다른 지역과 비교했을 때 조금 더 매운 편이어서 매운 음식을 좋아하는 사람들에게 인기가 높습니다.\n",
      "\n",
      "또한, 동성로는 젊은 층과 관광객들이 많이 찾는 곳이기 때문에, 떡볶이를 먹으면서 다양한 거리 공연이나 쇼핑을 즐길 수 있는 매력적인 장소입니다. 대구를 방문한다면 동성로의 떡볶이를 꼭 한 번 맛보는 것을 추천합니다!\n",
      "(2) [additional_kwargs]: \n",
      " {'refusal': None}\n",
      "(3) [response_metadata]: \n",
      " {'token_usage': {'completion_tokens': 275, 'prompt_tokens': 20, 'total_tokens': 295, 'completion_tokens_details': {'accepted_prediction_tokens': 0, 'audio_tokens': 0, 'reasoning_tokens': 0, 'rejected_prediction_tokens': 0}, 'prompt_tokens_details': {'audio_tokens': 0, 'cached_tokens': 0}}, 'model_name': 'gpt-4o-mini-2024-07-18', 'system_fingerprint': 'fp_b8bc95a0ac', 'finish_reason': 'stop', 'logprobs': None}\n",
      "(4) id: run-979fb3ab-f94c-47ef-9884-3857b186b7f9-0\n",
      "==============================================================================================================================================================================================\n"
     ]
    }
   ],
   "source": [
    "from langchain_core.messages import HumanMessage, AIMessage\n",
    "\n",
    "humanMessage = HumanMessage(\n",
    "    content='대구 동성로 떡볶이에 대해서 알려줘', \n",
    "    additional_kwargs={}, \n",
    "    response_metadata={}, \n",
    "    id='1'\n",
    ")\n",
    "\n",
    "state = State(messages=[humanMessage])\n",
    "\n",
    "for event in graph.stream(state):\n",
    "    print('===================' * 10)\n",
    "    print('[event]')\n",
    "\n",
    "    print(f\"(1) [content]: \\n {event['chatbot']['messages'][-1].content}\")\n",
    "    print(f\"(2) [additional_kwargs]: \\n {event['chatbot']['messages'][-1].additional_kwargs}\")\n",
    "    print(f\"(3) [response_metadata]: \\n {event['chatbot']['messages'][-1].response_metadata}\")\n",
    "    print(f\"(4) id: {event['chatbot']['messages'][-1].id}\")\n",
    "    print('===================' * 10)"
   ]
  },
  {
   "cell_type": "code",
   "execution_count": 38,
   "metadata": {},
   "outputs": [
    {
     "name": "stdout",
     "output_type": "stream",
     "text": [
      "===== chatbot() 함수 시작 =====\n",
      "[messages]: [HumanMessage(content='대구 동성로 떡볶이에 대해서 알려줘', additional_kwargs={}, response_metadata={}, id='2')]\n",
      "[chatbot answer]: content='대구 동성로는 대구의 대표적인 번화가 중 하나로, 다양한 음식점과 상점들이 밀집해 있는 지역입니다. 이곳에서 특히 유명한 음식 중 하나가 떡볶이입니다. 동성로의 떡볶이는 매콤하고 달콤한 소스와 쫄깃한 떡이 어우러져 많은 사람들에게 사랑받고 있습니다.\\n\\n대구 동성로의 떡볶이는 일반적으로 다음과 같은 특징이 있습니다:\\n\\n1. **매운맛**: 대구 지역의 떡볶이는 다른 지역에 비해 매운맛이 강한 편입니다. 고추장과 고춧가루를 사용하여 매콤한 맛을 강조합니다.\\n\\n2. **다양한 재료**: 떡볶이에는 어묵, 삶은 계란, 채소 등 다양한 재료가 함께 들어가며, 이로 인해 풍부한 맛을 느낄 수 있습니다.\\n\\n3. **길거리 음식**: 동성로는 길거리 음식으로 유명한 곳이기도 하여, 많은 떡볶이 가게들이 포장마차 형태로 운영되고 있습니다. 이곳에서 즉석에서 조리된 떡볶이를 즐길 수 있습니다.\\n\\n4. **인기 가게**: 동성로에는 유명한 떡볶이 가게들이 많아, 각 가게마다 특색 있는 소스와 조리법으로 차별화를 두고 있습니다. 일부 가게는 특별한 비법 소스를 사용하여 많은 단골 손님을 확보하고 있습니다.\\n\\n대구 동성로의 떡볶이는 그 맛과 분위기로 인해 많은 관광객과 지역 주민들에게 사랑받고 있으며, 대구를 방문할 때 꼭 맛봐야 할 음식 중 하나입니다.' additional_kwargs={'refusal': None} response_metadata={'token_usage': {'completion_tokens': 390, 'prompt_tokens': 20, 'total_tokens': 410, 'completion_tokens_details': {'accepted_prediction_tokens': 0, 'audio_tokens': 0, 'reasoning_tokens': 0, 'rejected_prediction_tokens': 0}, 'prompt_tokens_details': {'audio_tokens': 0, 'cached_tokens': 0}}, 'model_name': 'gpt-4o-mini-2024-07-18', 'system_fingerprint': 'fp_b8bc95a0ac', 'finish_reason': 'stop', 'logprobs': None} id='run-c2b4f92b-c453-4510-af5a-5804a447ab3f-0' usage_metadata={'input_tokens': 20, 'output_tokens': 390, 'total_tokens': 410, 'input_token_details': {'audio': 0, 'cache_read': 0}, 'output_token_details': {'audio': 0, 'reasoning': 0}}\n",
      "===== chatbot() 함수  끝 =====\n",
      "==============================================================================================================================================================================================\n",
      "===== for 시작 =====\n",
      "실행된 노드 이름: chatbot\n",
      "assistant 답변: \n",
      "대구 동성로는 대구의 대표적인 번화가 중 하나로, 다양한 음식점과 상점들이 밀집해 있는 지역입니다. 이곳에서 특히 유명한 음식 중 하나가 떡볶이입니다. 동성로의 떡볶이는 매콤하고 달콤한 소스와 쫄깃한 떡이 어우러져 많은 사람들에게 사랑받고 있습니다.\n",
      "\n",
      "대구 동성로의 떡볶이는 일반적으로 다음과 같은 특징이 있습니다:\n",
      "\n",
      "1. **매운맛**: 대구 지역의 떡볶이는 다른 지역에 비해 매운맛이 강한 편입니다. 고추장과 고춧가루를 사용하여 매콤한 맛을 강조합니다.\n",
      "\n",
      "2. **다양한 재료**: 떡볶이에는 어묵, 삶은 계란, 채소 등 다양한 재료가 함께 들어가며, 이로 인해 풍부한 맛을 느낄 수 있습니다.\n",
      "\n",
      "3. **길거리 음식**: 동성로는 길거리 음식으로 유명한 곳이기도 하여, 많은 떡볶이 가게들이 포장마차 형태로 운영되고 있습니다. 이곳에서 즉석에서 조리된 떡볶이를 즐길 수 있습니다.\n",
      "\n",
      "4. **인기 가게**: 동성로에는 유명한 떡볶이 가게들이 많아, 각 가게마다 특색 있는 소스와 조리법으로 차별화를 두고 있습니다. 일부 가게는 특별한 비법 소스를 사용하여 많은 단골 손님을 확보하고 있습니다.\n",
      "\n",
      "대구 동성로의 떡볶이는 그 맛과 분위기로 인해 많은 관광객과 지역 주민들에게 사랑받고 있으며, 대구를 방문할 때 꼭 맛봐야 할 음식 중 하나입니다.\n",
      "\n",
      "===== for 끝 =====\n",
      "==============================================================================================================================================================================================\n"
     ]
    }
   ],
   "source": [
    "humanMessage = HumanMessage(\n",
    "    content='대구 동성로 떡볶이에 대해서 알려줘', \n",
    "    additional_kwargs={}, \n",
    "    response_metadata={}, \n",
    "    id='2')\n",
    "\n",
    "state = State(messages=[humanMessage])\n",
    "\n",
    "for event in graph.stream(state):\n",
    "    print('===================' * 10)\n",
    "    print('===== for 시작 =====')\n",
    "\n",
    "    for k, value in event.items():\n",
    "        print(f'실행된 노드 이름: {k}')\n",
    "        print(f\"assistant 답변: \")\n",
    "        print(f\"{value['messages'][-1].content}\")\n",
    "        print()\n",
    "    print('===== for 끝 =====')\n",
    "    print('===================' * 10)"
   ]
  },
  {
   "cell_type": "code",
   "execution_count": 39,
   "metadata": {},
   "outputs": [
    {
     "name": "stdout",
     "output_type": "stream",
     "text": [
      "===== chatbot() 함수 시작 =====\n",
      "[messages]: [HumanMessage(content='대구 동성로 떡볶이에 대해서 알려줘', additional_kwargs={}, response_metadata={}, id='dee79809-9a5a-4378-b7fe-92adc6ccb618')]\n",
      "[chatbot answer]: content='대구 동성로는 대구의 대표적인 번화가 중 하나로, 다양한 음식점과 상점들이 밀집해 있는 지역입니다. 이곳에서 특히 유명한 음식 중 하나가 떡볶이입니다. 동성로의 떡볶이는 매콤하고 달콤한 소스와 쫄깃한 떡이 어우러져 많은 사람들에게 사랑받고 있습니다.\\n\\n대구의 떡볶이는 일반적으로 고추장 기반의 소스를 사용하며, 어묵, 양배추, 대파 등 다양한 재료가 함께 들어갑니다. 또한, 대구에서는 떡볶이에 치즈를 추가하거나, 튀김과 함께 제공하는 경우도 많아 더욱 풍성한 맛을 즐길 수 있습니다.\\n\\n동성로에는 떡볶이 전문점뿐만 아니라 다양한 분식집이 있어, 각기 다른 스타일의 떡볶이를 맛볼 수 있습니다. 특히, 야외에서 먹는 길거리 음식으로도 인기가 많아, 많은 사람들이 이곳에서 떡볶이를 즐기며 소중한 시간을 보내고 있습니다.\\n\\n대구를 방문한다면 동성로에서 떡볶이를 꼭 한 번 맛보는 것을 추천합니다!' additional_kwargs={'refusal': None} response_metadata={'token_usage': {'completion_tokens': 268, 'prompt_tokens': 20, 'total_tokens': 288, 'completion_tokens_details': {'accepted_prediction_tokens': 0, 'audio_tokens': 0, 'reasoning_tokens': 0, 'rejected_prediction_tokens': 0}, 'prompt_tokens_details': {'audio_tokens': 0, 'cached_tokens': 0}}, 'model_name': 'gpt-4o-mini-2024-07-18', 'system_fingerprint': 'fp_b8bc95a0ac', 'finish_reason': 'stop', 'logprobs': None} id='run-1df5cf77-29f6-45f0-b91f-004535a9aded-0' usage_metadata={'input_tokens': 20, 'output_tokens': 268, 'total_tokens': 288, 'input_token_details': {'audio': 0, 'cache_read': 0}, 'output_token_details': {'audio': 0, 'reasoning': 0}}\n",
      "===== chatbot() 함수  끝 =====\n",
      "===== for 시작 =====\n",
      "[실행된 노드 이름]: chatbot\n",
      "[assistant 답변]: \n",
      "대구 동성로는 대구의 대표적인 번화가 중 하나로, 다양한 음식점과 상점들이 밀집해 있는 지역입니다. 이곳에서 특히 유명한 음식 중 하나가 떡볶이입니다. 동성로의 떡볶이는 매콤하고 달콤한 소스와 쫄깃한 떡이 어우러져 많은 사람들에게 사랑받고 있습니다.\n",
      "\n",
      "대구의 떡볶이는 일반적으로 고추장 기반의 소스를 사용하며, 어묵, 양배추, 대파 등 다양한 재료가 함께 들어갑니다. 또한, 대구에서는 떡볶이에 치즈를 추가하거나, 튀김과 함께 제공하는 경우도 많아 더욱 풍성한 맛을 즐길 수 있습니다.\n",
      "\n",
      "동성로에는 떡볶이 전문점뿐만 아니라 다양한 분식집이 있어, 각기 다른 스타일의 떡볶이를 맛볼 수 있습니다. 특히, 야외에서 먹는 길거리 음식으로도 인기가 많아, 많은 사람들이 이곳에서 떡볶이를 즐기며 소중한 시간을 보내고 있습니다.\n",
      "\n",
      "대구를 방문한다면 동성로에서 떡볶이를 꼭 한 번 맛보는 것을 추천합니다!\n",
      "===== for  끝 =====\n"
     ]
    }
   ],
   "source": [
    "question = '대구 동성로 떡볶이에 대해서 알려줘'\n",
    "\n",
    "# state = State(messages=[('user', question)])\n",
    "\n",
    "for event in graph.stream({'messages': [('user', question)]}):\n",
    "    print('===== for 시작 =====')\n",
    "\n",
    "    for k, value in event.items():\n",
    "        print(f'[실행된 노드 이름]: {k}')        \n",
    "        print(f\"[assistant 답변]: \\n{value['messages'][-1].content}\")\n",
    "\n",
    "    print('===== for  끝 =====')"
   ]
  },
  {
   "cell_type": "code",
   "execution_count": 45,
   "metadata": {},
   "outputs": [
    {
     "name": "stdout",
     "output_type": "stream",
     "text": [
      "===== chatbot() 함수 시작 =====\n",
      "[messages]: [HumanMessage(content='대구 동성로 떡볶이에 대해서 알려줘', additional_kwargs={}, response_metadata={}, id='33352d16-a20e-4608-8f43-ae91cf7ec8bb')]\n",
      "[chatbot answer]: content='대구 동성로는 대구의 중심가로, 다양한 음식점과 상점들이 밀집해 있는 지역입니다. 이곳에서 특히 유명한 음식 중 하나가 떡볶이입니다. 동성로의 떡볶이는 매콤하고 달콤한 소스에 쫄깃한 떡과 다양한 재료가 어우러져 많은 사람들에게 사랑받고 있습니다.\\n\\n동성로에는 여러 떡볶이 전문점이 있으며, 각 가게마다 특색 있는 레시피와 재료를 사용합니다. 예를 들어, 일부 가게는 해물이나 치킨, 야채 등을 추가하여 다양한 맛을 즐길 수 있도록 하고 있습니다. 또한, 길거리 음식으로도 인기가 많아, 많은 사람들이 간편하게 먹을 수 있는 스낵으로 즐깁니다.\\n\\n대구 동성로의 떡볶이는 그 지역의 문화와 분위기를 느낄 수 있는 대표적인 음식 중 하나로, 대구를 방문하는 관광객들에게도 꼭 추천되는 메뉴입니다. 떡볶이 외에도 다양한 길거리 음식과 함께 즐길 수 있어, 많은 사람들이 찾는 명소입니다.' additional_kwargs={'refusal': None} response_metadata={'token_usage': {'completion_tokens': 252, 'prompt_tokens': 20, 'total_tokens': 272, 'completion_tokens_details': {'accepted_prediction_tokens': 0, 'audio_tokens': 0, 'reasoning_tokens': 0, 'rejected_prediction_tokens': 0}, 'prompt_tokens_details': {'audio_tokens': 0, 'cached_tokens': 0}}, 'model_name': 'gpt-4o-mini-2024-07-18', 'system_fingerprint': 'fp_b8bc95a0ac', 'finish_reason': 'stop', 'logprobs': None} id='run-8fc851f1-97c5-4617-ac0f-5b711cdb0f5e-0' usage_metadata={'input_tokens': 20, 'output_tokens': 252, 'total_tokens': 272, 'input_token_details': {'audio': 0, 'cache_read': 0}, 'output_token_details': {'audio': 0, 'reasoning': 0}}\n",
      "===== chatbot() 함수  끝 =====\n",
      "\n",
      "===== for 시작 =====\n",
      "[실행된 노드 이름]: chatbot\n",
      "==================== AIMessage ========================\n",
      "[해당 노드 값] : \n",
      "대구 동성로는 대구의 중심가로, 다양한 음식점과 상점들이 밀집해 있는 지역입니다. 이곳에서 특히 유명한 음식 중 하나가 떡볶이입니다. 동성로의 떡볶이는 매콤하고 달콤한 소스에 쫄깃한 떡과 다양한 재료가 어우러져 많은 사람들에게 사랑받고 있습니다.\n",
      "\n",
      "동성로에는 여러 떡볶이 전문점이 있으며, 각 가게마다 특색 있는 레시피와 재료를 사용합니다. 예를 들어, 일부 가게는 해물이나 치킨, 야채 등을 추가하여 다양한 맛을 즐길 수 있도록 하고 있습니다. 또한, 길거리 음식으로도 인기가 많아, 많은 사람들이 간편하게 먹을 수 있는 스낵으로 즐깁니다.\n",
      "\n",
      "대구 동성로의 떡볶이는 그 지역의 문화와 분위기를 느낄 수 있는 대표적인 음식 중 하나로, 대구를 방문하는 관광객들에게도 꼭 추천되는 메뉴입니다. 떡볶이 외에도 다양한 길거리 음식과 함께 즐길 수 있어, 많은 사람들이 찾는 명소입니다.\n",
      "==================== END AIMessage ====================\n",
      "\n",
      "===== for  끝 =====\n"
     ]
    }
   ],
   "source": [
    "from langchain.schema import HumanMessage, AIMessage\n",
    "from langchain_core.messages import ToolMessage\n",
    "\n",
    "question = '대구 동성로 떡볶이에 대해서 알려줘'\n",
    "\n",
    "# state = State(messages=[('user', question)])\n",
    "\n",
    "for event in graph.stream({'messages': [('user', question)]}):\n",
    "    print()\n",
    "    print('===== for 시작 =====')\n",
    "\n",
    "    for k, value in event.items():\n",
    "        print(f'[실행된 노드 이름]: {k}')        \n",
    "        # print(f\"메시지: {value['messages'][-1]}\")\n",
    "\n",
    "        if isinstance(value['messages'][-1], HumanMessage):\n",
    "            print('==================== HumanMessage ========================')\n",
    "\n",
    "            print('==================== END HumanMessage ====================')\n",
    "            print() \n",
    "        elif isinstance(value['messages'][-1], AIMessage):\n",
    "            print('==================== AIMessage ========================')\n",
    "            # print(f\"[해당 노드 값] : \\n{value['messages'][-1]}\")\n",
    "            print(f\"[해당 노드 값] : \\n{value['messages'][-1].content}\")\n",
    "            print('==================== END AIMessage ====================')     \n",
    "            print()  \n",
    "        elif isinstance(value['messages'][-1], ToolMessage):\n",
    "            print('==================== ToolMessage ========================')\n",
    "\n",
    "            print('==================== END ToolMessage ====================')     \n",
    "            print()\n",
    "    print('===== for  끝 =====')"
   ]
  }
 ],
 "metadata": {
  "kernelspec": {
   "display_name": "venv",
   "language": "python",
   "name": "python3"
  },
  "language_info": {
   "codemirror_mode": {
    "name": "ipython",
    "version": 3
   },
   "file_extension": ".py",
   "mimetype": "text/x-python",
   "name": "python",
   "nbconvert_exporter": "python",
   "pygments_lexer": "ipython3",
   "version": "3.11.9"
  }
 },
 "nbformat": 4,
 "nbformat_minor": 2
}
