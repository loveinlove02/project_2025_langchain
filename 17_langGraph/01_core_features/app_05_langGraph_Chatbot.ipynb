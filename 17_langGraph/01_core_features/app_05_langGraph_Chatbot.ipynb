{
 "cells": [
  {
   "cell_type": "code",
   "execution_count": 69,
   "metadata": {},
   "outputs": [],
   "source": [
    "from dotenv import load_dotenv\n",
    "import os\n",
    "\n",
    "load_dotenv(verbose=True)\n",
    "key = os.getenv('OPENAI_API_KEY')"
   ]
  },
  {
   "cell_type": "code",
   "execution_count": 70,
   "metadata": {},
   "outputs": [],
   "source": [
    "from typing import Annotated, TypedDict\n",
    "from langgraph.graph import StateGraph, START, END\n",
    "from langgraph.graph.message import add_messages"
   ]
  },
  {
   "cell_type": "code",
   "execution_count": 71,
   "metadata": {},
   "outputs": [],
   "source": [
    "class State(TypedDict):\n",
    "    messages: Annotated[list, add_messages]"
   ]
  },
  {
   "cell_type": "code",
   "execution_count": 72,
   "metadata": {},
   "outputs": [],
   "source": [
    "from langchain_openai import ChatOpenAI\n",
    "\n",
    "llm = ChatOpenAI(\n",
    "    api_key=key, \n",
    "    model_name='gpt-4o-mini',\n",
    "    temperature=0.1\n",
    ")"
   ]
  },
  {
   "cell_type": "code",
   "execution_count": 73,
   "metadata": {},
   "outputs": [],
   "source": [
    "def chatbot(state: State):\n",
    "    answer = llm.invoke(state['messages'])\n",
    "\n",
    "    print('===================' * 20)\n",
    "    print('1.chatbot() 실행')\n",
    "    print(f\"2.state[messages]: {state['messages']}\")\n",
    "    print('3.chatbot answer:', answer)\n",
    "    print('4.chatbot answer:', answer.content)\n",
    "    print('===================' * 20)\n",
    "\n",
    "    return {'messages': [answer]}"
   ]
  },
  {
   "cell_type": "code",
   "execution_count": 74,
   "metadata": {},
   "outputs": [],
   "source": [
    "graph_builder = StateGraph(State)"
   ]
  },
  {
   "cell_type": "code",
   "execution_count": 75,
   "metadata": {},
   "outputs": [
    {
     "data": {
      "text/plain": [
       "<langgraph.graph.state.StateGraph at 0x2746235d0d0>"
      ]
     },
     "execution_count": 75,
     "metadata": {},
     "output_type": "execute_result"
    }
   ],
   "source": [
    "graph_builder.add_node('chatbot', chatbot)      # 노드(함수) 이름을 인자로 받아서 chatbot 노드를 추가"
   ]
  },
  {
   "cell_type": "code",
   "execution_count": 76,
   "metadata": {},
   "outputs": [
    {
     "data": {
      "text/plain": [
       "<langgraph.graph.state.StateGraph at 0x2746235d0d0>"
      ]
     },
     "execution_count": 76,
     "metadata": {},
     "output_type": "execute_result"
    }
   ],
   "source": [
    "graph_builder.add_edge(START, 'chatbot')        # 시작 노드에서 챗봇 노드(chatbot)로의 엣지 추가"
   ]
  },
  {
   "cell_type": "code",
   "execution_count": 77,
   "metadata": {},
   "outputs": [
    {
     "data": {
      "text/plain": [
       "<langgraph.graph.state.StateGraph at 0x2746235d0d0>"
      ]
     },
     "execution_count": 77,
     "metadata": {},
     "output_type": "execute_result"
    }
   ],
   "source": [
    "graph_builder.add_edge('chatbot', END)          # chatbot 노드에서 END 노드로 엣지 추가"
   ]
  },
  {
   "cell_type": "code",
   "execution_count": 78,
   "metadata": {},
   "outputs": [],
   "source": [
    "graph = graph_builder.compile()                 # 그래프 컴파일"
   ]
  },
  {
   "cell_type": "code",
   "execution_count": 79,
   "metadata": {},
   "outputs": [
    {
     "data": {
      "image/png": "[encoded data removed]",
      "text/plain": [
       "<IPython.core.display.Image object>"
      ]
     },
     "metadata": {},
     "output_type": "display_data"
    }
   ],
   "source": [
    "from IPython.display import Image, display      # 그래프 시각화\n",
    "\n",
    "display(Image(graph.get_graph().draw_mermaid_png()))"
   ]
  },
  {
   "cell_type": "code",
   "execution_count": 80,
   "metadata": {},
   "outputs": [
    {
     "data": {
      "image/png": "[encoded data removed]",
      "text/plain": [
       "<IPython.core.display.Image object>"
      ]
     },
     "metadata": {},
     "output_type": "display_data"
    }
   ],
   "source": [
    "from langchain_teddynote.graphs import visualize_graph\n",
    "\n",
    "visualize_graph(graph)"
   ]
  },
  {
   "cell_type": "code",
   "execution_count": 81,
   "metadata": {},
   "outputs": [],
   "source": [
    "question = '대한민국 계엄령에 대해서 알려줘'"
   ]
  },
  {
   "cell_type": "code",
   "execution_count": 82,
   "metadata": {},
   "outputs": [
    {
     "name": "stdout",
     "output_type": "stream",
     "text": [
      "============================================================================================================================================================================================================================================================================================================================================================================================\n",
      "1.chatbot() 실행\n",
      "2.state[messages]: [HumanMessage(content='대한민국 계엄령에 대해서 알려줘', additional_kwargs={}, response_metadata={}, id='4fe00e92-5ef2-440a-8c47-83b931e07a10')]\n",
      "3.chatbot answer: content='대한민국의 계엄령은 국가의 안전과 질서를 유지하기 위해 특정한 상황에서 군사력을 동원하여 시행되는 법적 조치입니다. 계엄령은 주로 전시, 내란, 또는 대규모 폭동과 같은 비상사태에 대응하기 위해 발동됩니다. 대한민국 헌법과 관련 법률에 따라 계엄령은 대통령의 명령에 의해 선포되며, 그 내용과 범위는 상황에 따라 달라질 수 있습니다.\\n\\n대한민국 역사에서 계엄령은 여러 차례 시행되었습니다. 가장 유명한 사례는 1970년대와 1980년대의 군사 정권 시절입니다. 특히 1980년 5월 광주민주화운동 당시 계엄령이 발동되었고, 이로 인해 많은 인명 피해와 인권 침해가 발생했습니다. 이 사건은 한국 현대사에서 중요한 전환점이 되었으며, 이후 민주화 운동과 정치적 변화의 계기가 되었습니다.\\n\\n계엄령의 발동은 국민의 기본권을 제한할 수 있기 때문에, 그 정당성과 필요성에 대한 논란이 항상 존재합니다. 따라서 계엄령의 시행은 법적, 정치적, 사회적 측면에서 신중하게 다루어져야 합니다.' additional_kwargs={'refusal': None} response_metadata={'token_usage': {'completion_tokens': 278, 'prompt_tokens': 16, 'total_tokens': 294, 'completion_tokens_details': {'accepted_prediction_tokens': 0, 'audio_tokens': 0, 'reasoning_tokens': 0, 'rejected_prediction_tokens': 0}, 'prompt_tokens_details': {'audio_tokens': 0, 'cached_tokens': 0}}, 'model_name': 'gpt-4o-mini-2024-07-18', 'system_fingerprint': 'fp_00428b782a', 'finish_reason': 'stop', 'logprobs': None} id='run-5a2814d1-a159-453e-b0ca-5df70e98381e-0' usage_metadata={'input_tokens': 16, 'output_tokens': 278, 'total_tokens': 294, 'input_token_details': {'audio': 0, 'cache_read': 0}, 'output_token_details': {'audio': 0, 'reasoning': 0}}\n",
      "4.chatbot answer: 대한민국의 계엄령은 국가의 안전과 질서를 유지하기 위해 특정한 상황에서 군사력을 동원하여 시행되는 법적 조치입니다. 계엄령은 주로 전시, 내란, 또는 대규모 폭동과 같은 비상사태에 대응하기 위해 발동됩니다. 대한민국 헌법과 관련 법률에 따라 계엄령은 대통령의 명령에 의해 선포되며, 그 내용과 범위는 상황에 따라 달라질 수 있습니다.\n",
      "\n",
      "대한민국 역사에서 계엄령은 여러 차례 시행되었습니다. 가장 유명한 사례는 1970년대와 1980년대의 군사 정권 시절입니다. 특히 1980년 5월 광주민주화운동 당시 계엄령이 발동되었고, 이로 인해 많은 인명 피해와 인권 침해가 발생했습니다. 이 사건은 한국 현대사에서 중요한 전환점이 되었으며, 이후 민주화 운동과 정치적 변화의 계기가 되었습니다.\n",
      "\n",
      "계엄령의 발동은 국민의 기본권을 제한할 수 있기 때문에, 그 정당성과 필요성에 대한 논란이 항상 존재합니다. 따라서 계엄령의 시행은 법적, 정치적, 사회적 측면에서 신중하게 다루어져야 합니다.\n",
      "============================================================================================================================================================================================================================================================================================================================================================================================\n",
      "============================================================================================================================================================================================================================================================================================================================================================================================\n",
      "[event]\n",
      "{'chatbot': {'messages': [AIMessage(content='대한민국의 계엄령은 국가의 안전과 질서를 유지하기 위해 특정한 상황에서 군사력을 동원하여 시행되는 법적 조치입니다. 계엄령은 주로 전시, 내란, 또는 대규모 폭동과 같은 비상사태에 대응하기 위해 발동됩니다. 대한민국 헌법과 관련 법률에 따라 계엄령은 대통령의 명령에 의해 선포되며, 그 내용과 범위는 상황에 따라 달라질 수 있습니다.\\n\\n대한민국 역사에서 계엄령은 여러 차례 시행되었습니다. 가장 유명한 사례는 1970년대와 1980년대의 군사 정권 시절입니다. 특히 1980년 5월 광주민주화운동 당시 계엄령이 발동되었고, 이로 인해 많은 인명 피해와 인권 침해가 발생했습니다. 이 사건은 한국 현대사에서 중요한 전환점이 되었으며, 이후 민주화 운동과 정치적 변화의 계기가 되었습니다.\\n\\n계엄령의 발동은 국민의 기본권을 제한할 수 있기 때문에, 그 정당성과 필요성에 대한 논란이 항상 존재합니다. 따라서 계엄령의 시행은 법적, 정치적, 사회적 측면에서 신중하게 다루어져야 합니다.', additional_kwargs={'refusal': None}, response_metadata={'token_usage': {'completion_tokens': 278, 'prompt_tokens': 16, 'total_tokens': 294, 'completion_tokens_details': {'accepted_prediction_tokens': 0, 'audio_tokens': 0, 'reasoning_tokens': 0, 'rejected_prediction_tokens': 0}, 'prompt_tokens_details': {'audio_tokens': 0, 'cached_tokens': 0}}, 'model_name': 'gpt-4o-mini-2024-07-18', 'system_fingerprint': 'fp_00428b782a', 'finish_reason': 'stop', 'logprobs': None}, id='run-5a2814d1-a159-453e-b0ca-5df70e98381e-0', usage_metadata={'input_tokens': 16, 'output_tokens': 278, 'total_tokens': 294, 'input_token_details': {'audio': 0, 'cache_read': 0}, 'output_token_details': {'audio': 0, 'reasoning': 0}})]}}\n",
      "============================================================================================================================================================================================================================================================================================================================================================================================\n"
     ]
    }
   ],
   "source": [
    "state = State(messages=[('user', question)])\n",
    "\n",
    "for event in graph.stream(state):\n",
    "    print('===================' * 20)\n",
    "    print('[event]')\n",
    "    print(event)\n",
    "    print('===================' * 20)"
   ]
  },
  {
   "cell_type": "code",
   "execution_count": 86,
   "metadata": {},
   "outputs": [
    {
     "name": "stdout",
     "output_type": "stream",
     "text": [
      "============================================================================================================================================================================================================================================================================================================================================================================================\n",
      "1.chatbot() 실행\n",
      "2.state[messages]: [HumanMessage(content='대한민국 계엄령에 대해서 알려줘', additional_kwargs={}, response_metadata={}, id='1dcecc6d-5d27-4198-910f-ad5d7d70832b')]\n",
      "3.chatbot answer: content='대한민국의 계엄령은 국가의 안전과 질서를 유지하기 위해 특정한 상황에서 군사력을 동원하여 법률의 일부 또는 전부를 정지시키고, 군사적 통제를 시행하는 제도입니다. 계엄령은 주로 전쟁, 내란, 대규모 폭동 등과 같은 비상사태에 대응하기 위해 선언됩니다.\\n\\n대한민국 역사에서 계엄령은 여러 차례 시행되었습니다. 가장 유명한 사례는 1970년대의 유신체제와 관련된 계엄령입니다. 1972년 박정희 대통령은 유신헌법을 통해 계엄령을 선포하고, 이를 통해 권력을 강화했습니다. 이 시기에 언론 통제와 정치적 억압이 심화되었고, 민주화 운동이 활발히 일어났습니다.\\n\\n또한, 1980년 광주 민주화 운동 당시에도 계엄령이 발동되어 군이 광주 지역에 투입되었고, 이로 인해 많은 인명 피해가 발생했습니다. 이 사건은 이후 한국 사회에서 민주화 운동의 상징적인 사건으로 기억되고 있습니다.\\n\\n계엄령은 헌법에 의해 규정되어 있으며, 대통령이 국회의 동의를 얻어 발동할 수 있습니다. 그러나 계엄령의 남용은 민주주의와 인권에 대한 심각한 위협이 될 수 있기 때문에, 그 시행과 관련된 법적, 정치적 논의가 지속적으로 이루어지고 있습니다.' additional_kwargs={'refusal': None} response_metadata={'token_usage': {'completion_tokens': 319, 'prompt_tokens': 16, 'total_tokens': 335, 'completion_tokens_details': {'accepted_prediction_tokens': 0, 'audio_tokens': 0, 'reasoning_tokens': 0, 'rejected_prediction_tokens': 0}, 'prompt_tokens_details': {'audio_tokens': 0, 'cached_tokens': 0}}, 'model_name': 'gpt-4o-mini-2024-07-18', 'system_fingerprint': 'fp_00428b782a', 'finish_reason': 'stop', 'logprobs': None} id='run-e19e0945-29b1-45d8-9573-bbf50ebd642e-0' usage_metadata={'input_tokens': 16, 'output_tokens': 319, 'total_tokens': 335, 'input_token_details': {'audio': 0, 'cache_read': 0}, 'output_token_details': {'audio': 0, 'reasoning': 0}}\n",
      "4.chatbot answer: 대한민국의 계엄령은 국가의 안전과 질서를 유지하기 위해 특정한 상황에서 군사력을 동원하여 법률의 일부 또는 전부를 정지시키고, 군사적 통제를 시행하는 제도입니다. 계엄령은 주로 전쟁, 내란, 대규모 폭동 등과 같은 비상사태에 대응하기 위해 선언됩니다.\n",
      "\n",
      "대한민국 역사에서 계엄령은 여러 차례 시행되었습니다. 가장 유명한 사례는 1970년대의 유신체제와 관련된 계엄령입니다. 1972년 박정희 대통령은 유신헌법을 통해 계엄령을 선포하고, 이를 통해 권력을 강화했습니다. 이 시기에 언론 통제와 정치적 억압이 심화되었고, 민주화 운동이 활발히 일어났습니다.\n",
      "\n",
      "또한, 1980년 광주 민주화 운동 당시에도 계엄령이 발동되어 군이 광주 지역에 투입되었고, 이로 인해 많은 인명 피해가 발생했습니다. 이 사건은 이후 한국 사회에서 민주화 운동의 상징적인 사건으로 기억되고 있습니다.\n",
      "\n",
      "계엄령은 헌법에 의해 규정되어 있으며, 대통령이 국회의 동의를 얻어 발동할 수 있습니다. 그러나 계엄령의 남용은 민주주의와 인권에 대한 심각한 위협이 될 수 있기 때문에, 그 시행과 관련된 법적, 정치적 논의가 지속적으로 이루어지고 있습니다.\n",
      "============================================================================================================================================================================================================================================================================================================================================================================================\n",
      "============================================================================================================================================================================================================================================================================================================================================================================================\n",
      "[event]\n",
      "노드 이름: chatbot\n",
      "============================================================================================================================================================================================================================================================================================================================================================================================\n",
      "assistant 답변: \n",
      "대한민국의 계엄령은 국가의 안전과 질서를 유지하기 위해 특정한 상황에서 군사력을 동원하여 법률의 일부 또는 전부를 정지시키고, 군사적 통제를 시행하는 제도입니다. 계엄령은 주로 전쟁, 내란, 대규모 폭동 등과 같은 비상사태에 대응하기 위해 선언됩니다.\n",
      "\n",
      "대한민국 역사에서 계엄령은 여러 차례 시행되었습니다. 가장 유명한 사례는 1970년대의 유신체제와 관련된 계엄령입니다. 1972년 박정희 대통령은 유신헌법을 통해 계엄령을 선포하고, 이를 통해 권력을 강화했습니다. 이 시기에 언론 통제와 정치적 억압이 심화되었고, 민주화 운동이 활발히 일어났습니다.\n",
      "\n",
      "또한, 1980년 광주 민주화 운동 당시에도 계엄령이 발동되어 군이 광주 지역에 투입되었고, 이로 인해 많은 인명 피해가 발생했습니다. 이 사건은 이후 한국 사회에서 민주화 운동의 상징적인 사건으로 기억되고 있습니다.\n",
      "\n",
      "계엄령은 헌법에 의해 규정되어 있으며, 대통령이 국회의 동의를 얻어 발동할 수 있습니다. 그러나 계엄령의 남용은 민주주의와 인권에 대한 심각한 위협이 될 수 있기 때문에, 그 시행과 관련된 법적, 정치적 논의가 지속적으로 이루어지고 있습니다.\n",
      "============================================================================================================================================================================================================================================================================================================================================================================================\n"
     ]
    }
   ],
   "source": [
    "state = State(messages=[('user', question)])\n",
    "\n",
    "for event in graph.stream(state):\n",
    "    print('===================' * 20)\n",
    "    print('[event]')\n",
    "\n",
    "    for k, value in event.items():\n",
    "        print(f'노드 이름: {k}')\n",
    "        print('===================' * 20)\n",
    "        print(f\"assistant 답변: \")\n",
    "        print(f\"{value['messages'][-1].content}\")\n",
    "\n",
    "    print('===================' * 20)"
   ]
  },
  {
   "cell_type": "code",
   "execution_count": 87,
   "metadata": {},
   "outputs": [
    {
     "name": "stdout",
     "output_type": "stream",
     "text": [
      "============================================================================================================================================================================================================================================================================================================================================================================================\n",
      "1.chatbot() 실행\n",
      "2.state[messages]: [HumanMessage(content='대한민국 계엄령에 대해서 알려줘', additional_kwargs={}, response_metadata={}, id='84038554-4d4a-49c2-9cab-df463016c7d8')]\n",
      "3.chatbot answer: content='대한민국의 계엄령은 국가의 안전과 질서를 유지하기 위해 특정한 상황에서 군사력을 동원하여 시행되는 법적 조치입니다. 계엄령은 주로 전시, 내란, 또는 대규모 폭동과 같은 비상사태에 대응하기 위해 발동됩니다. 대한민국 헌법과 관련 법률에 따라 계엄령은 대통령의 명령으로 발동되며, 그 내용과 범위는 상황에 따라 달라질 수 있습니다.\\n\\n대한민국 역사에서 계엄령은 여러 차례 시행되었습니다. 가장 유명한 사례 중 하나는 1980년 광주 민주화 운동과 관련된 계엄령입니다. 당시 정부는 광주에서 발생한 시위에 대해 군을 동원하여 강경 진압을 하였고, 이 과정에서 많은 인명 피해가 발생했습니다. 이 사건은 이후 한국 사회에서 민주화 운동의 상징적인 사건으로 기억되고 있습니다.\\n\\n계엄령은 국가의 안전을 위한 조치로 이해될 수 있지만, 동시에 개인의 자유와 권리를 제한할 수 있는 위험성을 내포하고 있습니다. 따라서 계엄령의 발동과 그 집행은 항상 사회적 논란과 비판의 대상이 되어 왔습니다.' additional_kwargs={'refusal': None} response_metadata={'token_usage': {'completion_tokens': 264, 'prompt_tokens': 16, 'total_tokens': 280, 'completion_tokens_details': {'accepted_prediction_tokens': 0, 'audio_tokens': 0, 'reasoning_tokens': 0, 'rejected_prediction_tokens': 0}, 'prompt_tokens_details': {'audio_tokens': 0, 'cached_tokens': 0}}, 'model_name': 'gpt-4o-mini-2024-07-18', 'system_fingerprint': 'fp_00428b782a', 'finish_reason': 'stop', 'logprobs': None} id='run-28d73d8a-743b-4932-8a4a-4ba3c3fbb656-0' usage_metadata={'input_tokens': 16, 'output_tokens': 264, 'total_tokens': 280, 'input_token_details': {'audio': 0, 'cache_read': 0}, 'output_token_details': {'audio': 0, 'reasoning': 0}}\n",
      "4.chatbot answer: 대한민국의 계엄령은 국가의 안전과 질서를 유지하기 위해 특정한 상황에서 군사력을 동원하여 시행되는 법적 조치입니다. 계엄령은 주로 전시, 내란, 또는 대규모 폭동과 같은 비상사태에 대응하기 위해 발동됩니다. 대한민국 헌법과 관련 법률에 따라 계엄령은 대통령의 명령으로 발동되며, 그 내용과 범위는 상황에 따라 달라질 수 있습니다.\n",
      "\n",
      "대한민국 역사에서 계엄령은 여러 차례 시행되었습니다. 가장 유명한 사례 중 하나는 1980년 광주 민주화 운동과 관련된 계엄령입니다. 당시 정부는 광주에서 발생한 시위에 대해 군을 동원하여 강경 진압을 하였고, 이 과정에서 많은 인명 피해가 발생했습니다. 이 사건은 이후 한국 사회에서 민주화 운동의 상징적인 사건으로 기억되고 있습니다.\n",
      "\n",
      "계엄령은 국가의 안전을 위한 조치로 이해될 수 있지만, 동시에 개인의 자유와 권리를 제한할 수 있는 위험성을 내포하고 있습니다. 따라서 계엄령의 발동과 그 집행은 항상 사회적 논란과 비판의 대상이 되어 왔습니다.\n",
      "============================================================================================================================================================================================================================================================================================================================================================================================\n",
      "노드 이름: chatbot\n",
      "============================================================================================================================================================================================================================================================================================================================================================================================\n",
      "assistant: 대한민국의 계엄령은 국가의 안전과 질서를 유지하기 위해 특정한 상황에서 군사력을 동원하여 시행되는 법적 조치입니다. 계엄령은 주로 전시, 내란, 또는 대규모 폭동과 같은 비상사태에 대응하기 위해 발동됩니다. 대한민국 헌법과 관련 법률에 따라 계엄령은 대통령의 명령으로 발동되며, 그 내용과 범위는 상황에 따라 달라질 수 있습니다.\n",
      "\n",
      "대한민국 역사에서 계엄령은 여러 차례 시행되었습니다. 가장 유명한 사례 중 하나는 1980년 광주 민주화 운동과 관련된 계엄령입니다. 당시 정부는 광주에서 발생한 시위에 대해 군을 동원하여 강경 진압을 하였고, 이 과정에서 많은 인명 피해가 발생했습니다. 이 사건은 이후 한국 사회에서 민주화 운동의 상징적인 사건으로 기억되고 있습니다.\n",
      "\n",
      "계엄령은 국가의 안전을 위한 조치로 이해될 수 있지만, 동시에 개인의 자유와 권리를 제한할 수 있는 위험성을 내포하고 있습니다. 따라서 계엄령의 발동과 그 집행은 항상 사회적 논란과 비판의 대상이 되어 왔습니다.\n"
     ]
    }
   ],
   "source": [
    "question = '대한민국 계엄령에 대해서 알려줘'\n",
    "\n",
    "# state = State(messages=[('user', question)])\n",
    "\n",
    "for event in graph.stream({'messages': [('user', question)]}):\n",
    "    for k, value in event.items():\n",
    "        print(f'노드 이름: {k}')\n",
    "        print('===================' * 20)\n",
    "        print(f\"assistant: {value['messages'][-1].content}\")"
   ]
  }
 ],
 "metadata": {
  "kernelspec": {
   "display_name": "venv",
   "language": "python",
   "name": "python3"
  },
  "language_info": {
   "codemirror_mode": {
    "name": "ipython",
    "version": 3
   },
   "file_extension": ".py",
   "mimetype": "text/x-python",
   "name": "python",
   "nbconvert_exporter": "python",
   "pygments_lexer": "ipython3",
   "version": "3.11.9"
  }
 },
 "nbformat": 4,
 "nbformat_minor": 2
}
