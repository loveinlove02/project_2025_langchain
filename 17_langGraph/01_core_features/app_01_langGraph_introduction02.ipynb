{
 "cells": [
  {
   "cell_type": "code",
   "execution_count": 1,
   "metadata": {},
   "outputs": [],
   "source": [
    "from dotenv import load_dotenv\n",
    "import os\n",
    "\n",
    "load_dotenv(verbose=True)\n",
    "key = os.getenv('OPENAI_API_KEY')"
   ]
  },
  {
   "cell_type": "code",
   "execution_count": 4,
   "metadata": {},
   "outputs": [
    {
     "name": "stdout",
     "output_type": "stream",
     "text": [
      "{'name': '이영희', 'age': 20, 'job': '개발자'}\n",
      "이영희\n",
      "20\n",
      "개발자\n"
     ]
    }
   ],
   "source": [
    "from typing import Dict\n",
    "\n",
    "sample_dict: Dict[str, str] = {\n",
    "    'name': '이영희',\n",
    "    'age' : 20,\n",
    "    'job' : '개발자'\n",
    "}\n",
    "\n",
    "print(sample_dict)\n",
    "print(sample_dict['name'])\n",
    "print(sample_dict['age'])\n",
    "print(sample_dict['job'])"
   ]
  },
  {
   "cell_type": "code",
   "execution_count": 5,
   "metadata": {},
   "outputs": [
    {
     "name": "stdout",
     "output_type": "stream",
     "text": [
      "{'name': '영희', 'age': 20, 'job': '개발자'}\n",
      "영희\n",
      "20\n",
      "개발자\n"
     ]
    }
   ],
   "source": [
    "from typing import TypedDict\n",
    "\n",
    "class Person(TypedDict):\n",
    "    name: str\n",
    "    age: int\n",
    "    job: str\n",
    "\n",
    "person1: Person = {'name': '영희', 'age': 20, 'job': '개발자'}\n",
    "\n",
    "print(person1)\n",
    "print(person1['name'])\n",
    "print(person1['age'])\n",
    "print(person1['job'])"
   ]
  },
  {
   "cell_type": "code",
   "execution_count": 7,
   "metadata": {},
   "outputs": [
    {
     "name": "stdout",
     "output_type": "stream",
     "text": [
      "[1, 2, 3, 4, 5]\n",
      "['Alice', 'Bob', 'Charlie']\n",
      "[98.5, 92.3, 88.7, 95.2]\n"
     ]
    }
   ],
   "source": [
    "from typing import List\n",
    "\n",
    "numbers: List[int] = [1, 2, 3, 4, 5]                    # 정수 리스트\n",
    "print(numbers)\n",
    "\n",
    "names: List[str] = [\"Alice\", \"Bob\", \"Charlie\"]          # 문자열 리스트\n",
    "print(names)\n",
    "\n",
    "scores: List[float] = [98.5, 92.3, 88.7, 95.2]          # float 리스트\n",
    "print(scores)"
   ]
  },
  {
   "cell_type": "code",
   "execution_count": 9,
   "metadata": {},
   "outputs": [
    {
     "name": "stdout",
     "output_type": "stream",
     "text": [
      "평균 점수: 91.00\n"
     ]
    }
   ],
   "source": [
    "from typing import List\n",
    "\n",
    "def calculate_average(grades: List[float]) -> float:\n",
    "    return sum(grades) / len(grades)\n",
    "\n",
    "\n",
    "student_grades: List[float] = [85.5, 92.0, 89.5, 97.0]\n",
    "average = calculate_average(student_grades)\n",
    "\n",
    "print(f\"평균 점수: {average:.2f}\")"
   ]
  },
  {
   "cell_type": "code",
   "execution_count": 12,
   "metadata": {},
   "outputs": [
    {
     "name": "stdout",
     "output_type": "stream",
     "text": [
      "Alice: alice@aaa.com\n",
      "Bob: bob@aaa.com\n",
      "Charlie: charlie@aaa.com\n"
     ]
    }
   ],
   "source": [
    "from typing import List, Dict\n",
    "\n",
    "def print_user_emails(user_list: List[Dict[str, str]]) -> None:\n",
    "    for user in user_list:\n",
    "        print(f\"{user['name']}: {user['email']}\")\n",
    "\n",
    "# 딕셔너리 리스트\n",
    "users: List[Dict[str, str]] = [\n",
    "    {\"name\": \"Alice\", \"email\": \"alice@aaa.com\"},\n",
    "    {\"name\": \"Bob\", \"email\": \"bob@aaa.com\"},\n",
    "    {\"name\": \"Charlie\", \"email\": \"charlie@aaa.com\"}\n",
    "]\n",
    "\n",
    "print_user_emails(users)"
   ]
  },
  {
   "cell_type": "code",
   "execution_count": 16,
   "metadata": {},
   "outputs": [
    {
     "name": "stdout",
     "output_type": "stream",
     "text": [
      "[1, 2, 3]\n",
      "[4, 5, 6]\n",
      "[7, 8, 9]\n"
     ]
    }
   ],
   "source": [
    "from typing import List\n",
    "\n",
    "def print_matrix(mat: List[List[int]]) -> None:\n",
    "    for i in range(0, len(mat), 1):\n",
    "        print(mat[i])\n",
    "\n",
    "\n",
    "# 2차원 정수 리스트 (행렬)\n",
    "matrix: List[List[int]] = [ [1, 2, 3],\n",
    "                            [4, 5, 6],\n",
    "                            [7, 8, 9] ]\n",
    "\n",
    "print_matrix(matrix)"
   ]
  },
  {
   "cell_type": "code",
   "execution_count": 18,
   "metadata": {},
   "outputs": [
    {
     "name": "stdout",
     "output_type": "stream",
     "text": [
      "홍길동\n",
      "20\n"
     ]
    }
   ],
   "source": [
    "from typing import Annotated\n",
    "\n",
    "name: Annotated[str, \"사용자 이름\"] = '홍길동'      # 문자열 타입에 메타데이터 추가\n",
    "age: Annotated[int, \"나이 (0-150)\"] = 20            # 정수 타입에 범위 정보 추가\n",
    "\n",
    "print(name)\n",
    "print(age)"
   ]
  },
  {
   "cell_type": "code",
   "execution_count": null,
   "metadata": {},
   "outputs": [
    {
     "name": "stdout",
     "output_type": "stream",
     "text": [
      "안녕하세요, 홍길동님!\n"
     ]
    }
   ],
   "source": [
    "from typing import Annotated\n",
    "\n",
    "def greet(user: Annotated[str, \"사용자 이름\"]) -> str:\n",
    "    \n",
    "    return f\"안녕하세요, {user}님!\"\n",
    "\n",
    "print(greet('홍길동'))"
   ]
  },
  {
   "cell_type": "code",
   "execution_count": null,
   "metadata": {},
   "outputs": [
    {
     "name": "stdout",
     "output_type": "stream",
     "text": [
      "id=1 name='이영희' email='lee@example.com' age=20\n"
     ]
    }
   ],
   "source": [
    "from pydantic import BaseModel\n",
    "\n",
    "class User(BaseModel):\n",
    "    id: int\n",
    "    name: str\n",
    "    email: str\n",
    "    age: int\n",
    "\n",
    "user_data = {\n",
    "    \"id\": 1,\n",
    "    \"name\": \"이영희\",\n",
    "    \"email\": \"lee@example.com\",\n",
    "    \"age\": 20\n",
    "}\n",
    "\n",
    "user = User(**user_data)\n",
    "print(user)"
   ]
  },
  {
   "cell_type": "code",
   "execution_count": 23,
   "metadata": {},
   "outputs": [
    {
     "name": "stdout",
     "output_type": "stream",
     "text": [
      "유효한 직원 데이터: id=1 name='홍길동' age=20 salary=5000.0 skills=['Python', 'LangChain']\n",
      "유효성 검사 오류: 1 validation error for Employee\n",
      "age\n",
      "  Input should be greater than 18 [type=greater_than, input_value=2, input_type=int]\n",
      "    For further information visit https://errors.pydantic.dev/2.10/v/greater_than\n"
     ]
    }
   ],
   "source": [
    "from typing import Annotated, List\n",
    "from pydantic import Field, BaseModel, ValidationError\n",
    "\n",
    "class Employee(BaseModel):\n",
    "    id: Annotated[int, Field(..., description=\"직원 ID\")]\n",
    "    name: Annotated[str, Field(..., min_length=3, max_length=50, description=\"이름\")]\n",
    "    age: Annotated[int, Field(gt=18, lt=99, description=\"나이 (19-99세)\")]\n",
    "    salary: Annotated[float, Field(gt=0, lt=10000, description=\"연봉 (단위: 만원, 최대 10억)\")]\n",
    "    skills: Annotated[List[str], Field(min_items=1, max_items=10, description=\"보유 기술 (1-10개)\")]\n",
    "\n",
    "\n",
    "try:\n",
    "    valid_employee = Employee(id=1, name=\"홍길동\", age=20, salary=5000, skills=[\"Python\", \"LangChain\"])\n",
    "    print(\"유효한 직원 데이터:\", valid_employee)\n",
    "except ValidationError as e:\n",
    "    print(\"유효성 검사 오류:\", e)\n",
    "\n",
    "\n",
    "try:\n",
    "    valid_employee = Employee(id=2, name=\"홍길동\", age=2, salary=5000, skills=[\"Python\", \"LangChain\"])\n",
    "    print(\"유효한 직원 데이터:\", valid_employee)\n",
    "except ValidationError as e:\n",
    "    print(\"유효성 검사 오류:\", e)        "
   ]
  },
  {
   "cell_type": "code",
   "execution_count": null,
   "metadata": {},
   "outputs": [
    {
     "name": "stdout",
     "output_type": "stream",
     "text": [
      "[HumanMessage(content='안녕하세요!', additional_kwargs={}, response_metadata={}, id='1'), AIMessage(content='무엇을 도와드릴가요?', additional_kwargs={}, response_metadata={}, id='2')]\n"
     ]
    }
   ],
   "source": [
    "from langchain_core.messages import HumanMessage, AIMessage\n",
    "from langgraph.graph.message import add_messages\n",
    "\n",
    "new_message1 = HumanMessage(content='안녕하세요!', id='1')\n",
    "new_message2 = AIMessage(content='무엇을 도와드릴가요?', id='2')\n",
    "\n",
    "result1 = add_messages(new_message1, new_message2)\n",
    "\n",
    "print(result1)"
   ]
  },
  {
   "cell_type": "code",
   "execution_count": 28,
   "metadata": {},
   "outputs": [
    {
     "name": "stdout",
     "output_type": "stream",
     "text": [
      "[HumanMessage(content='안녕하세요!', additional_kwargs={}, response_metadata={}, id='1'), AIMessage(content='무엇을 도와드릴가요?', additional_kwargs={}, response_metadata={}, id='2')]\n"
     ]
    }
   ],
   "source": [
    "from langchain_core.messages import HumanMessage, AIMessage\n",
    "import operator\n",
    "\n",
    "new_message3 = HumanMessage(content='안녕하세요!', id='3')\n",
    "new_message4 = AIMessage(content='무엇을 도와드릴가요?', id='4')\n",
    "\n",
    "result2 = operator.add(new_message1, new_message2)\n",
    "\n",
    "print(result1)"
   ]
  }
 ],
 "metadata": {
  "kernelspec": {
   "display_name": "venv",
   "language": "python",
   "name": "python3"
  },
  "language_info": {
   "codemirror_mode": {
    "name": "ipython",
    "version": 3
   },
   "file_extension": ".py",
   "mimetype": "text/x-python",
   "name": "python",
   "nbconvert_exporter": "python",
   "pygments_lexer": "ipython3",
   "version": "3.11.9"
  }
 },
 "nbformat": 4,
 "nbformat_minor": 2
}
