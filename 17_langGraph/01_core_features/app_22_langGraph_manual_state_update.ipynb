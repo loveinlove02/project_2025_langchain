{
 "cells": [
  {
   "cell_type": "code",
   "execution_count": 1,
   "metadata": {},
   "outputs": [],
   "source": [
    "from dotenv import load_dotenv\n",
    "import os\n",
    "\n",
    "load_dotenv(verbose=True)\n",
    "key = os.getenv('OPENAI_API_KEY')"
   ]
  },
  {
   "cell_type": "code",
   "execution_count": 2,
   "metadata": {},
   "outputs": [],
   "source": [
    "from typing import Annotated, List, Dict\n",
    "from typing_extensions import TypedDict\n",
    "from langgraph.graph.message import add_messages\n",
    "\n",
    "from langgraph.graph import StateGraph \n",
    "from langgraph.graph import START, END\n",
    "\n",
    "from langgraph.prebuilt import ToolNode, tools_condition\n",
    "from langchain_core.tools import tool\n",
    "\n",
    "from langchain_teddynote.tools.tavily import TavilySearch\n",
    "from langchain_teddynote.tools import GoogleNews\n",
    "\n",
    "from langchain_teddynote.graphs import visualize_graph\n",
    "from langchain_teddynote.messages import display_message_tree\n",
    "from langchain_teddynote.messages import pretty_print_messages\n",
    "from langchain_core.runnables import RunnableConfig\n",
    "\n",
    "from langchain_openai import ChatOpenAI"
   ]
  },
  {
   "cell_type": "code",
   "execution_count": 3,
   "metadata": {},
   "outputs": [],
   "source": [
    "######### 1. 상태 정의 #########\n",
    "\n",
    "# 상태 정의\n",
    "class State(TypedDict):\n",
    "    messages: Annotated[list, add_messages]"
   ]
  },
  {
   "cell_type": "code",
   "execution_count": 4,
   "metadata": {},
   "outputs": [],
   "source": [
    "######### 2. 도구 정의 및 바인딩 #########\n",
    "\n",
    "tool = TavilySearch(max_results=1)\n",
    "\n",
    "tools = [tool]"
   ]
  },
  {
   "cell_type": "code",
   "execution_count": 5,
   "metadata": {},
   "outputs": [],
   "source": [
    "######### 3. LLM을 도구와 결합 #########\n",
    "\n",
    "llm = ChatOpenAI(\n",
    "    api_key=key, \n",
    "    model_name='gpt-4o-mini',\n",
    "    temperature=0.1\n",
    ")\n",
    "\n",
    "llm_with_tools = llm.bind_tools(tools)"
   ]
  },
  {
   "cell_type": "code",
   "execution_count": 7,
   "metadata": {},
   "outputs": [],
   "source": [
    "def chatbot(state: State):\n",
    "    answer = llm_with_tools.invoke(state['messages'])\n",
    "\n",
    "    print('=================================================================================')\n",
    "    print(f'chatbot() 실행\\n')\n",
    "    print(f\"[1] state[messages]: \\n{state['messages']}\\n\")\n",
    "    # print(f'[2] chatbot answer: \\n', answer , \"\\n\")\n",
    "    print(f'[2] chatbot answer: \\n', answer.content)\n",
    "    print(f'[3] answer.additional_kwargs: \\n', answer.additional_kwargs)\n",
    "    print('=================================================================================')\n",
    "\n",
    "    return {'messages': [answer]}"
   ]
  },
  {
   "cell_type": "code",
   "execution_count": 8,
   "metadata": {},
   "outputs": [],
   "source": [
    "graph_builder = StateGraph(State)"
   ]
  },
  {
   "cell_type": "code",
   "execution_count": 9,
   "metadata": {},
   "outputs": [
    {
     "data": {
      "text/plain": [
       "<langgraph.graph.state.StateGraph at 0x23ca588cf10>"
      ]
     },
     "execution_count": 9,
     "metadata": {},
     "output_type": "execute_result"
    }
   ],
   "source": [
    "# chatbot 노드 추가\n",
    "graph_builder.add_node('chatbot', chatbot)"
   ]
  },
  {
   "cell_type": "code",
   "execution_count": 10,
   "metadata": {},
   "outputs": [],
   "source": [
    "# 도구 노드 생성\n",
    "tool_node = ToolNode(tools=tools)"
   ]
  },
  {
   "cell_type": "code",
   "execution_count": 11,
   "metadata": {},
   "outputs": [
    {
     "data": {
      "text/plain": [
       "<langgraph.graph.state.StateGraph at 0x23ca588cf10>"
      ]
     },
     "execution_count": 11,
     "metadata": {},
     "output_type": "execute_result"
    }
   ],
   "source": [
    "# 도구 노드 추가\n",
    "graph_builder.add_node('tools', tool_node)"
   ]
  },
  {
   "cell_type": "code",
   "execution_count": 12,
   "metadata": {},
   "outputs": [
    {
     "data": {
      "text/plain": [
       "<langgraph.graph.state.StateGraph at 0x23ca588cf10>"
      ]
     },
     "execution_count": 12,
     "metadata": {},
     "output_type": "execute_result"
    }
   ],
   "source": [
    "graph_builder.add_conditional_edges(\n",
    "    'chatbot',\n",
    "    tools_condition\n",
    ")"
   ]
  },
  {
   "cell_type": "code",
   "execution_count": 13,
   "metadata": {},
   "outputs": [
    {
     "data": {
      "text/plain": [
       "<langgraph.graph.state.StateGraph at 0x23ca588cf10>"
      ]
     },
     "execution_count": 13,
     "metadata": {},
     "output_type": "execute_result"
    }
   ],
   "source": [
    "######### 5. 엣지 추가 #########\n",
    "\n",
    "# tools 에서 chatbot 으로\n",
    "graph_builder.add_edge('tools', 'chatbot')"
   ]
  },
  {
   "cell_type": "code",
   "execution_count": 14,
   "metadata": {},
   "outputs": [
    {
     "data": {
      "text/plain": [
       "<langgraph.graph.state.StateGraph at 0x23ca588cf10>"
      ]
     },
     "execution_count": 14,
     "metadata": {},
     "output_type": "execute_result"
    }
   ],
   "source": [
    "# START 에서 chatbot 으로\n",
    "graph_builder.add_edge(START, 'chatbot')"
   ]
  },
  {
   "cell_type": "code",
   "execution_count": 15,
   "metadata": {},
   "outputs": [
    {
     "data": {
      "text/plain": [
       "<langgraph.graph.state.StateGraph at 0x23ca588cf10>"
      ]
     },
     "execution_count": 15,
     "metadata": {},
     "output_type": "execute_result"
    }
   ],
   "source": [
    "# chatbot 에서 END 로\n",
    "graph_builder.add_edge('chatbot', END)"
   ]
  },
  {
   "cell_type": "code",
   "execution_count": 16,
   "metadata": {},
   "outputs": [],
   "source": [
    "######### 6. 메모리 생성 #######\n",
    "\n",
    "from langgraph.checkpoint.memory import MemorySaver\n",
    "\n",
    "memory = MemorySaver()"
   ]
  },
  {
   "cell_type": "code",
   "execution_count": 17,
   "metadata": {},
   "outputs": [],
   "source": [
    "######### 7. 그래프 컴파일 #######\n",
    "\n",
    "graph = graph_builder.compile(checkpointer=memory)"
   ]
  },
  {
   "cell_type": "code",
   "execution_count": 18,
   "metadata": {},
   "outputs": [
    {
     "data": {
      "image/png": "[encoded data removed]",
      "text/plain": [
       "<IPython.core.display.Image object>"
      ]
     },
     "metadata": {},
     "output_type": "display_data"
    }
   ],
   "source": [
    "######### 8. 그래프 #######\n",
    "\n",
    "visualize_graph(graph)"
   ]
  },
  {
   "cell_type": "code",
   "execution_count": 85,
   "metadata": {},
   "outputs": [
    {
     "name": "stdout",
     "output_type": "stream",
     "text": [
      "thread_id: e5747b\n"
     ]
    }
   ],
   "source": [
    "from langchain_teddynote.graphs import generate_random_hash\n",
    "\n",
    "thread_id = generate_random_hash()\n",
    "print(f\"thread_id: {thread_id}\")\n",
    "\n",
    "question = \"대구 중앙떡볶이에 대해서 알려주세요\"\n",
    "\n",
    "input = State(messages=[(\"user\", question)])\n",
    "\n",
    "# config 설정\n",
    "config = RunnableConfig(\n",
    "    recursion_limit=10,             \n",
    "    configurable={\"thread_id\": thread_id},  \n",
    "    tags=[\"data-tag\"],                  \n",
    ")"
   ]
  },
  {
   "cell_type": "code",
   "execution_count": 82,
   "metadata": {},
   "outputs": [
    {
     "data": {
      "text/plain": [
       "['messages',\n",
       " '__start__',\n",
       " 'chatbot',\n",
       " 'tools',\n",
       " 'branch:__start__:__self__:chatbot',\n",
       " 'branch:__start__:__self__:tools',\n",
       " 'branch:chatbot:__self__:chatbot',\n",
       " 'branch:chatbot:__self__:tools',\n",
       " 'branch:tools:__self__:chatbot',\n",
       " 'branch:tools:__self__:tools',\n",
       " 'start:chatbot',\n",
       " 'branch:chatbot:tools_condition:tools']"
      ]
     },
     "execution_count": 82,
     "metadata": {},
     "output_type": "execute_result"
    }
   ],
   "source": [
    "list(graph.channels)"
   ]
  },
  {
   "cell_type": "code",
   "execution_count": 83,
   "metadata": {},
   "outputs": [],
   "source": [
    "from langchain.schema import HumanMessage, AIMessage\n",
    "from langchain_core.messages import ToolMessage"
   ]
  },
  {
   "cell_type": "code",
   "execution_count": 86,
   "metadata": {},
   "outputs": [
    {
     "name": "stdout",
     "output_type": "stream",
     "text": [
      "(1)\n",
      "=== 반복문 바같 === 시작\n",
      "=== 반복문 === 시작\n",
      "\n",
      "[노드 이름]: messages\n",
      "\n",
      "해당 노드의 값[value]: \n",
      "[HumanMessage(content='대구 중앙떡볶이에 대해서 알려주세요', additional_kwargs={}, response_metadata={}, id='0edea2a1-35d3-4b1e-8146-4e370e43582f')]\n",
      "==================== HumanMessage ========================\n",
      "해당 노드의 값 [value][-1]: \n",
      "content='대구 중앙떡볶이에 대해서 알려주세요' additional_kwargs={} response_metadata={} id='0edea2a1-35d3-4b1e-8146-4e370e43582f'\n",
      "==================== END HumanMessage ====================\n",
      "\n",
      "=== 반복문 === 끝\n",
      "=== 반복문 바같 === 끝\n",
      "\n",
      "\n",
      "=================================================================================\n",
      "chatbot() 실행\n",
      "\n",
      "[1] state[messages]: \n",
      "[HumanMessage(content='대구 중앙떡볶이에 대해서 알려주세요', additional_kwargs={}, response_metadata={}, id='0edea2a1-35d3-4b1e-8146-4e370e43582f')]\n",
      "\n",
      "[2] chatbot answer: \n",
      " \n",
      "[3] answer.additional_kwargs: \n",
      " {'tool_calls': [{'id': 'call_dQjXjdxigJ3YFrAx1IcnvFPr', 'function': {'arguments': '{\"query\":\"대구 중앙떡볶이\"}', 'name': 'tavily_web_search'}, 'type': 'function'}], 'refusal': None}\n",
      "=================================================================================\n",
      "(2)\n",
      "=== 반복문 바같 === 시작\n",
      "=== 반복문 === 시작\n",
      "\n",
      "[노드 이름]: messages\n",
      "\n",
      "해당 노드의 값[value]: \n",
      "[HumanMessage(content='대구 중앙떡볶이에 대해서 알려주세요', additional_kwargs={}, response_metadata={}, id='0edea2a1-35d3-4b1e-8146-4e370e43582f'), AIMessage(content='', additional_kwargs={'tool_calls': [{'id': 'call_dQjXjdxigJ3YFrAx1IcnvFPr', 'function': {'arguments': '{\"query\":\"대구 중앙떡볶이\"}', 'name': 'tavily_web_search'}, 'type': 'function'}], 'refusal': None}, response_metadata={'token_usage': {'completion_tokens': 25, 'prompt_tokens': 102, 'total_tokens': 127, 'completion_tokens_details': {'accepted_prediction_tokens': 0, 'audio_tokens': 0, 'reasoning_tokens': 0, 'rejected_prediction_tokens': 0}, 'prompt_tokens_details': {'audio_tokens': 0, 'cached_tokens': 0}}, 'model_name': 'gpt-4o-mini-2024-07-18', 'system_fingerprint': 'fp_7fcd609668', 'finish_reason': 'tool_calls', 'logprobs': None}, id='run-f703ba42-c5d3-41c3-ac36-c1f90ebec03f-0', tool_calls=[{'name': 'tavily_web_search', 'args': {'query': '대구 중앙떡볶이'}, 'id': 'call_dQjXjdxigJ3YFrAx1IcnvFPr', 'type': 'tool_call'}], usage_metadata={'input_tokens': 102, 'output_tokens': 25, 'total_tokens': 127, 'input_token_details': {'audio': 0, 'cache_read': 0}, 'output_token_details': {'audio': 0, 'reasoning': 0}})]\n",
      "==================== AIMessage ========================\n",
      "해당 노드의 값 [value][-1]: \n",
      "content='' additional_kwargs={'tool_calls': [{'id': 'call_dQjXjdxigJ3YFrAx1IcnvFPr', 'function': {'arguments': '{\"query\":\"대구 중앙떡볶이\"}', 'name': 'tavily_web_search'}, 'type': 'function'}], 'refusal': None} response_metadata={'token_usage': {'completion_tokens': 25, 'prompt_tokens': 102, 'total_tokens': 127, 'completion_tokens_details': {'accepted_prediction_tokens': 0, 'audio_tokens': 0, 'reasoning_tokens': 0, 'rejected_prediction_tokens': 0}, 'prompt_tokens_details': {'audio_tokens': 0, 'cached_tokens': 0}}, 'model_name': 'gpt-4o-mini-2024-07-18', 'system_fingerprint': 'fp_7fcd609668', 'finish_reason': 'tool_calls', 'logprobs': None} id='run-f703ba42-c5d3-41c3-ac36-c1f90ebec03f-0' tool_calls=[{'name': 'tavily_web_search', 'args': {'query': '대구 중앙떡볶이'}, 'id': 'call_dQjXjdxigJ3YFrAx1IcnvFPr', 'type': 'tool_call'}] usage_metadata={'input_tokens': 102, 'output_tokens': 25, 'total_tokens': 127, 'input_token_details': {'audio': 0, 'cache_read': 0}, 'output_token_details': {'audio': 0, 'reasoning': 0}}\n",
      "==================== END AIMessage ====================\n",
      "\n",
      "=== 반복문 === 끝\n",
      "=== 반복문 바같 === 끝\n",
      "\n",
      "\n"
     ]
    }
   ],
   "source": [
    "i = 1\n",
    "\n",
    "for event in graph.stream(input=input, config=config,  interrupt_before=[\"tools\"], stream_mode=\"values\"):\n",
    "    print(f'({i})')\n",
    "    print('=== 반복문 바같 === 시작')\n",
    "\n",
    "    for key, value in event.items():\n",
    "        print('=== 반복문 === 시작')\n",
    "        print(f'\\n[노드 이름]: {key}')                    # key 에는 노드의 이름\n",
    "                    \n",
    "\n",
    "        if key =='messages':\n",
    "            print(f\"\\n해당 노드의 값[value]: \\n{value}\")\n",
    "            \n",
    "            if isinstance(value[-1], HumanMessage):\n",
    "                print('==================== HumanMessage ========================')\n",
    "                print(f\"해당 노드의 값 [value][-1]: \\n{value[-1]}\")                     # value에는 해당 노드의 값. state 이다\n",
    "                print('==================== END HumanMessage ====================')\n",
    "                print() \n",
    "            elif isinstance(value[-1], AIMessage):\n",
    "                print('==================== AIMessage ========================')\n",
    "                print(f\"해당 노드의 값 [value][-1]: \\n{value[-1]}\")        \n",
    "                print('==================== END AIMessage ====================')     \n",
    "                print()   \n",
    "            elif isinstance(value[-1], ToolMessage):\n",
    "                print('==================== ToolMessage ========================')\n",
    "                print(f\"해당 노드의 값 [value][-1]: \\n{value[-1]}\")   \n",
    "                print('==================== END ToolMessage ====================')     \n",
    "                print()                   \n",
    "\n",
    "        print('=== 반복문 === 끝')\n",
    "    print('=== 반복문 바같 === 끝\\n\\n')\n",
    "    \n",
    "    i=i+1"
   ]
  },
  {
   "cell_type": "code",
   "execution_count": 87,
   "metadata": {},
   "outputs": [
    {
     "name": "stdout",
     "output_type": "stream",
     "text": [
      "thread_id: d95677\n"
     ]
    }
   ],
   "source": [
    "thread_id = generate_random_hash()\n",
    "print(f\"thread_id: {thread_id}\")\n",
    "\n",
    "question = \"대구 중앙떡볶이에 대해서 알려주세요\"\n",
    "\n",
    "input = State(messages=[(\"user\", question)])\n",
    "\n",
    "# config 설정\n",
    "config = RunnableConfig(\n",
    "    recursion_limit=10,             \n",
    "    configurable={\"thread_id\": thread_id},  \n",
    "    tags=[\"data-tag\"],                  \n",
    ")"
   ]
  },
  {
   "cell_type": "code",
   "execution_count": 88,
   "metadata": {},
   "outputs": [
    {
     "name": "stdout",
     "output_type": "stream",
     "text": [
      "[event] 전체\n",
      "{'messages': [HumanMessage(content='대구 중앙떡볶이에 대해서 알려주세요', additional_kwargs={}, response_metadata={}, id='7b99a35b-6bfa-46cb-a096-c7c2abadb0b8')]}\n",
      "\n",
      "================================\u001b[1m Human Message \u001b[0m=================================\n",
      "\n",
      "대구 중앙떡볶이에 대해서 알려주세요\n",
      "=================================================================================\n",
      "chatbot() 실행\n",
      "\n",
      "[1] state[messages]: \n",
      "[HumanMessage(content='대구 중앙떡볶이에 대해서 알려주세요', additional_kwargs={}, response_metadata={}, id='7b99a35b-6bfa-46cb-a096-c7c2abadb0b8')]\n",
      "\n",
      "[2] chatbot answer: \n",
      " \n",
      "[3] answer.additional_kwargs: \n",
      " {'tool_calls': [{'id': 'call_RMv6aTOfOFdKqSvH668R97c6', 'function': {'arguments': '{\"query\":\"대구 중앙떡볶이\"}', 'name': 'tavily_web_search'}, 'type': 'function'}], 'refusal': None}\n",
      "=================================================================================\n",
      "[event] 전체\n",
      "{'messages': [HumanMessage(content='대구 중앙떡볶이에 대해서 알려주세요', additional_kwargs={}, response_metadata={}, id='7b99a35b-6bfa-46cb-a096-c7c2abadb0b8'), AIMessage(content='', additional_kwargs={'tool_calls': [{'id': 'call_RMv6aTOfOFdKqSvH668R97c6', 'function': {'arguments': '{\"query\":\"대구 중앙떡볶이\"}', 'name': 'tavily_web_search'}, 'type': 'function'}], 'refusal': None}, response_metadata={'token_usage': {'completion_tokens': 25, 'prompt_tokens': 102, 'total_tokens': 127, 'completion_tokens_details': {'accepted_prediction_tokens': 0, 'audio_tokens': 0, 'reasoning_tokens': 0, 'rejected_prediction_tokens': 0}, 'prompt_tokens_details': {'audio_tokens': 0, 'cached_tokens': 0}}, 'model_name': 'gpt-4o-mini-2024-07-18', 'system_fingerprint': 'fp_7fcd609668', 'finish_reason': 'tool_calls', 'logprobs': None}, id='run-23cf94b9-b1e5-4807-8ea8-1f0a5ef0d7ac-0', tool_calls=[{'name': 'tavily_web_search', 'args': {'query': '대구 중앙떡볶이'}, 'id': 'call_RMv6aTOfOFdKqSvH668R97c6', 'type': 'tool_call'}], usage_metadata={'input_tokens': 102, 'output_tokens': 25, 'total_tokens': 127, 'input_token_details': {'audio': 0, 'cache_read': 0}, 'output_token_details': {'audio': 0, 'reasoning': 0}})]}\n",
      "\n",
      "==================================\u001b[1m Ai Message \u001b[0m==================================\n",
      "Tool Calls:\n",
      "  tavily_web_search (call_RMv6aTOfOFdKqSvH668R97c6)\n",
      " Call ID: call_RMv6aTOfOFdKqSvH668R97c6\n",
      "  Args:\n",
      "    query: 대구 중앙떡볶이\n"
     ]
    }
   ],
   "source": [
    "events = graph.stream(\n",
    "    input=input, config=config, interrupt_before=[\"tools\"], stream_mode=\"values\"\n",
    ")\n",
    "\n",
    "for event in events:\n",
    "    print('[event] 전체')\n",
    "    print(event)\n",
    "    print()\n",
    "\n",
    "    if \"messages\" in event:                     # 메시지가 이벤트에 포함된 경우        \n",
    "        event[\"messages\"][-1].pretty_print()    # 마지막 메시지의 예쁜 출력"
   ]
  },
  {
   "cell_type": "code",
   "execution_count": 86,
   "metadata": {},
   "outputs": [],
   "source": [
    "snapshot = graph.get_state(config)      # 그래프 상태 스냅샷 생성"
   ]
  },
  {
   "cell_type": "code",
   "execution_count": 87,
   "metadata": {},
   "outputs": [
    {
     "data": {
      "text/plain": [
       "StateSnapshot(values={'messages': [HumanMessage(content='랭그래프에 대해서 알려주세요', additional_kwargs={}, response_metadata={}, id='650f8672-cf12-47b1-9a45-d14c1e9b1506'), AIMessage(content='', additional_kwargs={'tool_calls': [{'id': 'call_AchZFyIxtWR1bizEddlvvNtK', 'function': {'arguments': '{\"query\":\"랭그래프\"}', 'name': 'tavily_web_search'}, 'type': 'function'}], 'refusal': None}, response_metadata={'token_usage': {'completion_tokens': 21, 'prompt_tokens': 99, 'total_tokens': 120, 'completion_tokens_details': {'accepted_prediction_tokens': 0, 'audio_tokens': 0, 'reasoning_tokens': 0, 'rejected_prediction_tokens': 0}, 'prompt_tokens_details': {'audio_tokens': 0, 'cached_tokens': 0}}, 'model_name': 'gpt-4o-mini-2024-07-18', 'system_fingerprint': 'fp_709714d124', 'finish_reason': 'tool_calls', 'logprobs': None}, id='run-11e89087-c05e-477d-a816-a72b188ebe08-0', tool_calls=[{'name': 'tavily_web_search', 'args': {'query': '랭그래프'}, 'id': 'call_AchZFyIxtWR1bizEddlvvNtK', 'type': 'tool_call'}], usage_metadata={'input_tokens': 99, 'output_tokens': 21, 'total_tokens': 120, 'input_token_details': {'audio': 0, 'cache_read': 0}, 'output_token_details': {'audio': 0, 'reasoning': 0}})]}, next=('tools',), config={'configurable': {'thread_id': '1', 'checkpoint_ns': '', 'checkpoint_id': '1eff32dd-7e65-6d8a-8001-2bbf173943b1'}}, metadata={'source': 'loop', 'writes': {'chatbot': {'messages': [AIMessage(content='', additional_kwargs={'tool_calls': [{'id': 'call_AchZFyIxtWR1bizEddlvvNtK', 'function': {'arguments': '{\"query\":\"랭그래프\"}', 'name': 'tavily_web_search'}, 'type': 'function'}], 'refusal': None}, response_metadata={'token_usage': {'completion_tokens': 21, 'prompt_tokens': 99, 'total_tokens': 120, 'completion_tokens_details': {'accepted_prediction_tokens': 0, 'audio_tokens': 0, 'reasoning_tokens': 0, 'rejected_prediction_tokens': 0}, 'prompt_tokens_details': {'audio_tokens': 0, 'cached_tokens': 0}}, 'model_name': 'gpt-4o-mini-2024-07-18', 'system_fingerprint': 'fp_709714d124', 'finish_reason': 'tool_calls', 'logprobs': None}, id='run-11e89087-c05e-477d-a816-a72b188ebe08-0', tool_calls=[{'name': 'tavily_web_search', 'args': {'query': '랭그래프'}, 'id': 'call_AchZFyIxtWR1bizEddlvvNtK', 'type': 'tool_call'}], usage_metadata={'input_tokens': 99, 'output_tokens': 21, 'total_tokens': 120, 'input_token_details': {'audio': 0, 'cache_read': 0}, 'output_token_details': {'audio': 0, 'reasoning': 0}})]}}, 'thread_id': '1', 'step': 1, 'parents': {}}, created_at='2025-02-25T04:06:09.305127+00:00', parent_config={'configurable': {'thread_id': '1', 'checkpoint_ns': '', 'checkpoint_id': '1eff32dd-764f-6ece-8000-bb8a7b6dfd5b'}}, tasks=(PregelTask(id='ed39b361-99f0-8d28-2ff0-de28e9f931d4', name='tools', path=('__pregel_pull', 'tools'), error=None, interrupts=(), state=None, result=None),))"
      ]
     },
     "execution_count": 87,
     "metadata": {},
     "output_type": "execute_result"
    }
   ],
   "source": [
    "snapshot"
   ]
  },
  {
   "cell_type": "code",
   "execution_count": 88,
   "metadata": {},
   "outputs": [
    {
     "data": {
      "text/plain": [
       "[HumanMessage(content='랭그래프에 대해서 알려주세요', additional_kwargs={}, response_metadata={}, id='650f8672-cf12-47b1-9a45-d14c1e9b1506'),\n",
       " AIMessage(content='', additional_kwargs={'tool_calls': [{'id': 'call_AchZFyIxtWR1bizEddlvvNtK', 'function': {'arguments': '{\"query\":\"랭그래프\"}', 'name': 'tavily_web_search'}, 'type': 'function'}], 'refusal': None}, response_metadata={'token_usage': {'completion_tokens': 21, 'prompt_tokens': 99, 'total_tokens': 120, 'completion_tokens_details': {'accepted_prediction_tokens': 0, 'audio_tokens': 0, 'reasoning_tokens': 0, 'rejected_prediction_tokens': 0}, 'prompt_tokens_details': {'audio_tokens': 0, 'cached_tokens': 0}}, 'model_name': 'gpt-4o-mini-2024-07-18', 'system_fingerprint': 'fp_709714d124', 'finish_reason': 'tool_calls', 'logprobs': None}, id='run-11e89087-c05e-477d-a816-a72b188ebe08-0', tool_calls=[{'name': 'tavily_web_search', 'args': {'query': '랭그래프'}, 'id': 'call_AchZFyIxtWR1bizEddlvvNtK', 'type': 'tool_call'}], usage_metadata={'input_tokens': 99, 'output_tokens': 21, 'total_tokens': 120, 'input_token_details': {'audio': 0, 'cache_read': 0}, 'output_token_details': {'audio': 0, 'reasoning': 0}})]"
      ]
     },
     "execution_count": 88,
     "metadata": {},
     "output_type": "execute_result"
    }
   ],
   "source": [
    "snapshot.values['messages']"
   ]
  },
  {
   "cell_type": "code",
   "execution_count": 89,
   "metadata": {},
   "outputs": [],
   "source": [
    "last_message = snapshot.values[\"messages\"][-1]      # 가장 최근 메시지 추출"
   ]
  },
  {
   "cell_type": "code",
   "execution_count": 90,
   "metadata": {},
   "outputs": [
    {
     "data": {
      "text/plain": [
       "AIMessage(content='', additional_kwargs={'tool_calls': [{'id': 'call_AchZFyIxtWR1bizEddlvvNtK', 'function': {'arguments': '{\"query\":\"랭그래프\"}', 'name': 'tavily_web_search'}, 'type': 'function'}], 'refusal': None}, response_metadata={'token_usage': {'completion_tokens': 21, 'prompt_tokens': 99, 'total_tokens': 120, 'completion_tokens_details': {'accepted_prediction_tokens': 0, 'audio_tokens': 0, 'reasoning_tokens': 0, 'rejected_prediction_tokens': 0}, 'prompt_tokens_details': {'audio_tokens': 0, 'cached_tokens': 0}}, 'model_name': 'gpt-4o-mini-2024-07-18', 'system_fingerprint': 'fp_709714d124', 'finish_reason': 'tool_calls', 'logprobs': None}, id='run-11e89087-c05e-477d-a816-a72b188ebe08-0', tool_calls=[{'name': 'tavily_web_search', 'args': {'query': '랭그래프'}, 'id': 'call_AchZFyIxtWR1bizEddlvvNtK', 'type': 'tool_call'}], usage_metadata={'input_tokens': 99, 'output_tokens': 21, 'total_tokens': 120, 'input_token_details': {'audio': 0, 'cache_read': 0}, 'output_token_details': {'audio': 0, 'reasoning': 0}})"
      ]
     },
     "execution_count": 90,
     "metadata": {},
     "output_type": "execute_result"
    }
   ],
   "source": [
    "last_message"
   ]
  },
  {
   "cell_type": "code",
   "execution_count": 91,
   "metadata": {},
   "outputs": [
    {
     "data": {
      "text/plain": [
       "''"
      ]
     },
     "execution_count": 91,
     "metadata": {},
     "output_type": "execute_result"
    }
   ],
   "source": [
    "last_message.content"
   ]
  },
  {
   "cell_type": "code",
   "execution_count": 92,
   "metadata": {},
   "outputs": [
    {
     "data": {
      "text/plain": [
       "{'tool_calls': [{'id': 'call_AchZFyIxtWR1bizEddlvvNtK',\n",
       "   'function': {'arguments': '{\"query\":\"랭그래프\"}', 'name': 'tavily_web_search'},\n",
       "   'type': 'function'}],\n",
       " 'refusal': None}"
      ]
     },
     "execution_count": 92,
     "metadata": {},
     "output_type": "execute_result"
    }
   ],
   "source": [
    "last_message.additional_kwargs"
   ]
  },
  {
   "cell_type": "code",
   "execution_count": 93,
   "metadata": {},
   "outputs": [
    {
     "data": {
      "text/plain": [
       "[{'id': 'call_AchZFyIxtWR1bizEddlvvNtK',\n",
       "  'function': {'arguments': '{\"query\":\"랭그래프\"}', 'name': 'tavily_web_search'},\n",
       "  'type': 'function'}]"
      ]
     },
     "execution_count": 93,
     "metadata": {},
     "output_type": "execute_result"
    }
   ],
   "source": [
    "last_message.additional_kwargs['tool_calls']"
   ]
  },
  {
   "cell_type": "code",
   "execution_count": 94,
   "metadata": {},
   "outputs": [
    {
     "data": {
      "text/plain": [
       "{'id': 'call_AchZFyIxtWR1bizEddlvvNtK',\n",
       " 'function': {'arguments': '{\"query\":\"랭그래프\"}', 'name': 'tavily_web_search'},\n",
       " 'type': 'function'}"
      ]
     },
     "execution_count": 94,
     "metadata": {},
     "output_type": "execute_result"
    }
   ],
   "source": [
    "last_message.additional_kwargs['tool_calls'][0]"
   ]
  },
  {
   "cell_type": "code",
   "execution_count": 95,
   "metadata": {},
   "outputs": [
    {
     "data": {
      "text/plain": [
       "'call_AchZFyIxtWR1bizEddlvvNtK'"
      ]
     },
     "execution_count": 95,
     "metadata": {},
     "output_type": "execute_result"
    }
   ],
   "source": [
    "last_message.additional_kwargs['tool_calls'][0]['id']"
   ]
  },
  {
   "cell_type": "code",
   "execution_count": 96,
   "metadata": {},
   "outputs": [
    {
     "data": {
      "text/plain": [
       "{'arguments': '{\"query\":\"랭그래프\"}', 'name': 'tavily_web_search'}"
      ]
     },
     "execution_count": 96,
     "metadata": {},
     "output_type": "execute_result"
    }
   ],
   "source": [
    "last_message.additional_kwargs['tool_calls'][0]['function']"
   ]
  },
  {
   "cell_type": "code",
   "execution_count": 97,
   "metadata": {},
   "outputs": [
    {
     "data": {
      "text/plain": [
       "'{\"query\":\"랭그래프\"}'"
      ]
     },
     "execution_count": 97,
     "metadata": {},
     "output_type": "execute_result"
    }
   ],
   "source": [
    "last_message.additional_kwargs['tool_calls'][0]['function']['arguments']"
   ]
  },
  {
   "cell_type": "code",
   "execution_count": 98,
   "metadata": {},
   "outputs": [
    {
     "data": {
      "text/plain": [
       "'tavily_web_search'"
      ]
     },
     "execution_count": 98,
     "metadata": {},
     "output_type": "execute_result"
    }
   ],
   "source": [
    "last_message.additional_kwargs['tool_calls'][0]['function']['name']"
   ]
  },
  {
   "cell_type": "code",
   "execution_count": 99,
   "metadata": {},
   "outputs": [
    {
     "name": "stdout",
     "output_type": "stream",
     "text": [
      "==================================\u001b[1m Ai Message \u001b[0m==================================\n",
      "Tool Calls:\n",
      "  tavily_web_search (call_AchZFyIxtWR1bizEddlvvNtK)\n",
      " Call ID: call_AchZFyIxtWR1bizEddlvvNtK\n",
      "  Args:\n",
      "    query: 랭그래프\n"
     ]
    }
   ],
   "source": [
    "last_message.pretty_print()"
   ]
  },
  {
   "cell_type": "code",
   "execution_count": 100,
   "metadata": {},
   "outputs": [],
   "source": [
    "modified_search_result = \"\"\"[수정된 웹 검색 결과] \n",
    "LangGraph는 상태 기반의 다중 액터 애플리케이션을 LLM을 활용해 구축할 수 있도록 지원합니다.\n",
    "LangGraph는 사이클 흐름, 제어 가능성, 지속성, 클라우드 배포 기능을 제공하는 오픈 소스 라이브러리입니다.\n",
    "\n",
    "자세한 튜토리얼은 [LangGraph 튜토리얼](https://langchain-ai.github.io/langgraph/tutorials/)을 참고하세요.\"\"\""
   ]
  },
  {
   "cell_type": "code",
   "execution_count": 101,
   "metadata": {},
   "outputs": [
    {
     "data": {
      "text/plain": [
       "'call_AchZFyIxtWR1bizEddlvvNtK'"
      ]
     },
     "execution_count": 101,
     "metadata": {},
     "output_type": "execute_result"
    }
   ],
   "source": [
    "# 수정하고자 하는 ToolMessage 의 tool_call_id 추출\n",
    "tool_call_id = last_message.tool_calls[0][\"id\"]\n",
    "tool_call_id"
   ]
  },
  {
   "cell_type": "code",
   "execution_count": 102,
   "metadata": {},
   "outputs": [],
   "source": [
    "from langchain_core.messages import AIMessage, ToolMessage\n",
    "\n",
    "new_messages = [                            # LLM API의 도구 호출과 일치하는 ToolMessage가 필요합니다\n",
    "    \n",
    "    ToolMessage(                                \n",
    "        content=modified_search_result,     # 수정된 웹 검색 결과\n",
    "        tool_call_id=tool_call_id,          # 수정하고자 하는 ToolMessage 의 tool_call_id\n",
    "    ),\n",
    "    # LLM의 응답에 직접적으로 내용 추가\n",
    "    # AIMessage(content=modified_search_result),\n",
    "]"
   ]
  },
  {
   "cell_type": "code",
   "execution_count": 103,
   "metadata": {},
   "outputs": [
    {
     "data": {
      "text/plain": [
       "ToolMessage(content='[수정된 웹 검색 결과] \\nLangGraph는 상태 기반의 다중 액터 애플리케이션을 LLM을 활용해 구축할 수 있도록 지원합니다.\\nLangGraph는 사이클 흐름, 제어 가능성, 지속성, 클라우드 배포 기능을 제공하는 오픈 소스 라이브러리입니다.\\n\\n자세한 튜토리얼은 [LangGraph 튜토리얼](https://langchain-ai.github.io/langgraph/tutorials/)을 참고하세요.', tool_call_id='call_AchZFyIxtWR1bizEddlvvNtK')"
      ]
     },
     "execution_count": 103,
     "metadata": {},
     "output_type": "execute_result"
    }
   ],
   "source": [
    "new_messages[-1]"
   ]
  },
  {
   "cell_type": "code",
   "execution_count": 104,
   "metadata": {},
   "outputs": [
    {
     "name": "stdout",
     "output_type": "stream",
     "text": [
      "=================================\u001b[1m Tool Message \u001b[0m=================================\n",
      "\n",
      "[수정된 웹 검색 결과] \n",
      "LangGraph는 상태 기반의 다중 액터 애플리케이션을 LLM을 활용해 구축할 수 있도록 지원합니다.\n",
      "LangGraph는 사이클 흐름, 제어 가능성, 지속성, 클라우드 배포 기능을 제공하는 오픈 소스 라이브러리입니다.\n",
      "\n",
      "자세한 튜토리얼은 [LangGraph 튜토리얼](https://langchain-ai.github.io/langgraph/tutorials/)을 참고하세요.\n"
     ]
    }
   ],
   "source": [
    "new_messages[-1].pretty_print()"
   ]
  },
  {
   "cell_type": "code",
   "execution_count": 105,
   "metadata": {},
   "outputs": [
    {
     "data": {
      "text/plain": [
       "{'configurable': {'thread_id': '1',\n",
       "  'checkpoint_ns': '',\n",
       "  'checkpoint_id': '1eff32dd-809d-657e-8002-eb8f425fb594'}}"
      ]
     },
     "execution_count": 105,
     "metadata": {},
     "output_type": "execute_result"
    }
   ],
   "source": [
    "graph.update_state(\n",
    "    config,                         # 업데이트할 상태 지정    \n",
    "    {\"messages\": new_messages},     # 제공할 업데이트된 값. State의 메시지는 \"추가 전용\"으로 기존 상태에 추가됨\n",
    "    as_node=\"tools\",                # 어떤 노드로 부터 나온 상태 값을 업데이터 할 것인가 지정\n",
    ")"
   ]
  },
  {
   "cell_type": "code",
   "execution_count": 106,
   "metadata": {},
   "outputs": [
    {
     "name": "stdout",
     "output_type": "stream",
     "text": [
      "(최근 1개의 메시지 출력)\n",
      "\n",
      "content='[수정된 웹 검색 결과] \\nLangGraph는 상태 기반의 다중 액터 애플리케이션을 LLM을 활용해 구축할 수 있도록 지원합니다.\\nLangGraph는 사이클 흐름, 제어 가능성, 지속성, 클라우드 배포 기능을 제공하는 오픈 소스 라이브러리입니다.\\n\\n자세한 튜토리얼은 [LangGraph 튜토리얼](https://langchain-ai.github.io/langgraph/tutorials/)을 참고하세요.' id='431df0dc-41e0-435f-a745-2f6903c52cc6' tool_call_id='call_AchZFyIxtWR1bizEddlvvNtK'\n"
     ]
    }
   ],
   "source": [
    "print(\"(최근 1개의 메시지 출력)\\n\")\n",
    "print(graph.get_state(config).values[\"messages\"][-1])"
   ]
  },
  {
   "cell_type": "code",
   "execution_count": 107,
   "metadata": {},
   "outputs": [
    {
     "data": {
      "text/plain": [
       "[HumanMessage(content='랭그래프에 대해서 알려주세요', additional_kwargs={}, response_metadata={}, id='650f8672-cf12-47b1-9a45-d14c1e9b1506'),\n",
       " AIMessage(content='', additional_kwargs={'tool_calls': [{'id': 'call_AchZFyIxtWR1bizEddlvvNtK', 'function': {'arguments': '{\"query\":\"랭그래프\"}', 'name': 'tavily_web_search'}, 'type': 'function'}], 'refusal': None}, response_metadata={'token_usage': {'completion_tokens': 21, 'prompt_tokens': 99, 'total_tokens': 120, 'completion_tokens_details': {'accepted_prediction_tokens': 0, 'audio_tokens': 0, 'reasoning_tokens': 0, 'rejected_prediction_tokens': 0}, 'prompt_tokens_details': {'audio_tokens': 0, 'cached_tokens': 0}}, 'model_name': 'gpt-4o-mini-2024-07-18', 'system_fingerprint': 'fp_709714d124', 'finish_reason': 'tool_calls', 'logprobs': None}, id='run-11e89087-c05e-477d-a816-a72b188ebe08-0', tool_calls=[{'name': 'tavily_web_search', 'args': {'query': '랭그래프'}, 'id': 'call_AchZFyIxtWR1bizEddlvvNtK', 'type': 'tool_call'}], usage_metadata={'input_tokens': 99, 'output_tokens': 21, 'total_tokens': 120, 'input_token_details': {'audio': 0, 'cache_read': 0}, 'output_token_details': {'audio': 0, 'reasoning': 0}}),\n",
       " ToolMessage(content='[수정된 웹 검색 결과] \\nLangGraph는 상태 기반의 다중 액터 애플리케이션을 LLM을 활용해 구축할 수 있도록 지원합니다.\\nLangGraph는 사이클 흐름, 제어 가능성, 지속성, 클라우드 배포 기능을 제공하는 오픈 소스 라이브러리입니다.\\n\\n자세한 튜토리얼은 [LangGraph 튜토리얼](https://langchain-ai.github.io/langgraph/tutorials/)을 참고하세요.', id='431df0dc-41e0-435f-a745-2f6903c52cc6', tool_call_id='call_AchZFyIxtWR1bizEddlvvNtK')]"
      ]
     },
     "execution_count": 107,
     "metadata": {},
     "output_type": "execute_result"
    }
   ],
   "source": [
    "graph.get_state(config).values[\"messages\"]       # 전체 메시지"
   ]
  },
  {
   "cell_type": "code",
   "execution_count": 108,
   "metadata": {},
   "outputs": [],
   "source": [
    "snapshot = graph.get_state(config)"
   ]
  },
  {
   "cell_type": "code",
   "execution_count": 109,
   "metadata": {},
   "outputs": [
    {
     "name": "stdout",
     "output_type": "stream",
     "text": [
      "('chatbot',)\n"
     ]
    }
   ],
   "source": [
    "print(snapshot.next)"
   ]
  },
  {
   "cell_type": "code",
   "execution_count": 110,
   "metadata": {},
   "outputs": [
    {
     "name": "stdout",
     "output_type": "stream",
     "text": [
      "[event] 전체\n",
      "{'messages': [HumanMessage(content='랭그래프에 대해서 알려주세요', additional_kwargs={}, response_metadata={}, id='650f8672-cf12-47b1-9a45-d14c1e9b1506'), AIMessage(content='', additional_kwargs={'tool_calls': [{'id': 'call_AchZFyIxtWR1bizEddlvvNtK', 'function': {'arguments': '{\"query\":\"랭그래프\"}', 'name': 'tavily_web_search'}, 'type': 'function'}], 'refusal': None}, response_metadata={'token_usage': {'completion_tokens': 21, 'prompt_tokens': 99, 'total_tokens': 120, 'completion_tokens_details': {'accepted_prediction_tokens': 0, 'audio_tokens': 0, 'reasoning_tokens': 0, 'rejected_prediction_tokens': 0}, 'prompt_tokens_details': {'audio_tokens': 0, 'cached_tokens': 0}}, 'model_name': 'gpt-4o-mini-2024-07-18', 'system_fingerprint': 'fp_709714d124', 'finish_reason': 'tool_calls', 'logprobs': None}, id='run-11e89087-c05e-477d-a816-a72b188ebe08-0', tool_calls=[{'name': 'tavily_web_search', 'args': {'query': '랭그래프'}, 'id': 'call_AchZFyIxtWR1bizEddlvvNtK', 'type': 'tool_call'}], usage_metadata={'input_tokens': 99, 'output_tokens': 21, 'total_tokens': 120, 'input_token_details': {'audio': 0, 'cache_read': 0}, 'output_token_details': {'audio': 0, 'reasoning': 0}}), ToolMessage(content='[수정된 웹 검색 결과] \\nLangGraph는 상태 기반의 다중 액터 애플리케이션을 LLM을 활용해 구축할 수 있도록 지원합니다.\\nLangGraph는 사이클 흐름, 제어 가능성, 지속성, 클라우드 배포 기능을 제공하는 오픈 소스 라이브러리입니다.\\n\\n자세한 튜토리얼은 [LangGraph 튜토리얼](https://langchain-ai.github.io/langgraph/tutorials/)을 참고하세요.', id='431df0dc-41e0-435f-a745-2f6903c52cc6', tool_call_id='call_AchZFyIxtWR1bizEddlvvNtK')]}\n",
      "\n",
      "=================================\u001b[1m Tool Message \u001b[0m=================================\n",
      "\n",
      "[수정된 웹 검색 결과] \n",
      "LangGraph는 상태 기반의 다중 액터 애플리케이션을 LLM을 활용해 구축할 수 있도록 지원합니다.\n",
      "LangGraph는 사이클 흐름, 제어 가능성, 지속성, 클라우드 배포 기능을 제공하는 오픈 소스 라이브러리입니다.\n",
      "\n",
      "자세한 튜토리얼은 [LangGraph 튜토리얼](https://langchain-ai.github.io/langgraph/tutorials/)을 참고하세요.\n"
     ]
    },
    {
     "name": "stdout",
     "output_type": "stream",
     "text": [
      "=================================================================================\n",
      "chatbot() 실행\n",
      "\n",
      "[1] state[messages]: \n",
      "[HumanMessage(content='랭그래프에 대해서 알려주세요', additional_kwargs={}, response_metadata={}, id='650f8672-cf12-47b1-9a45-d14c1e9b1506'), AIMessage(content='', additional_kwargs={'tool_calls': [{'id': 'call_AchZFyIxtWR1bizEddlvvNtK', 'function': {'arguments': '{\"query\":\"랭그래프\"}', 'name': 'tavily_web_search'}, 'type': 'function'}], 'refusal': None}, response_metadata={'token_usage': {'completion_tokens': 21, 'prompt_tokens': 99, 'total_tokens': 120, 'completion_tokens_details': {'accepted_prediction_tokens': 0, 'audio_tokens': 0, 'reasoning_tokens': 0, 'rejected_prediction_tokens': 0}, 'prompt_tokens_details': {'audio_tokens': 0, 'cached_tokens': 0}}, 'model_name': 'gpt-4o-mini-2024-07-18', 'system_fingerprint': 'fp_709714d124', 'finish_reason': 'tool_calls', 'logprobs': None}, id='run-11e89087-c05e-477d-a816-a72b188ebe08-0', tool_calls=[{'name': 'tavily_web_search', 'args': {'query': '랭그래프'}, 'id': 'call_AchZFyIxtWR1bizEddlvvNtK', 'type': 'tool_call'}], usage_metadata={'input_tokens': 99, 'output_tokens': 21, 'total_tokens': 120, 'input_token_details': {'audio': 0, 'cache_read': 0}, 'output_token_details': {'audio': 0, 'reasoning': 0}}), ToolMessage(content='[수정된 웹 검색 결과] \\nLangGraph는 상태 기반의 다중 액터 애플리케이션을 LLM을 활용해 구축할 수 있도록 지원합니다.\\nLangGraph는 사이클 흐름, 제어 가능성, 지속성, 클라우드 배포 기능을 제공하는 오픈 소스 라이브러리입니다.\\n\\n자세한 튜토리얼은 [LangGraph 튜토리얼](https://langchain-ai.github.io/langgraph/tutorials/)을 참고하세요.', id='431df0dc-41e0-435f-a745-2f6903c52cc6', tool_call_id='call_AchZFyIxtWR1bizEddlvvNtK')]\n",
      "\n",
      "[2] chatbot answer: \n",
      " 랭그래프(LangGraph)는 상태 기반의 다중 액터 애플리케이션을 구축할 수 있도록 지원하는 오픈 소스 라이브러리입니다. 이 라이브러리는 LLM(대형 언어 모델)을 활용하여 사이클 흐름, 제어 가능성, 지속성, 클라우드 배포 기능 등을 제공합니다.\n",
      "\n",
      "더 자세한 정보와 튜토리얼은 [LangGraph 튜토리얼](https://langchain-ai.github.io/langgraph/tutorials/)을 참고하시면 좋습니다.\n",
      "[3] answer.additional_kwargs: \n",
      " {'refusal': None}\n",
      "=================================================================================\n",
      "[event] 전체\n",
      "{'messages': [HumanMessage(content='랭그래프에 대해서 알려주세요', additional_kwargs={}, response_metadata={}, id='650f8672-cf12-47b1-9a45-d14c1e9b1506'), AIMessage(content='', additional_kwargs={'tool_calls': [{'id': 'call_AchZFyIxtWR1bizEddlvvNtK', 'function': {'arguments': '{\"query\":\"랭그래프\"}', 'name': 'tavily_web_search'}, 'type': 'function'}], 'refusal': None}, response_metadata={'token_usage': {'completion_tokens': 21, 'prompt_tokens': 99, 'total_tokens': 120, 'completion_tokens_details': {'accepted_prediction_tokens': 0, 'audio_tokens': 0, 'reasoning_tokens': 0, 'rejected_prediction_tokens': 0}, 'prompt_tokens_details': {'audio_tokens': 0, 'cached_tokens': 0}}, 'model_name': 'gpt-4o-mini-2024-07-18', 'system_fingerprint': 'fp_709714d124', 'finish_reason': 'tool_calls', 'logprobs': None}, id='run-11e89087-c05e-477d-a816-a72b188ebe08-0', tool_calls=[{'name': 'tavily_web_search', 'args': {'query': '랭그래프'}, 'id': 'call_AchZFyIxtWR1bizEddlvvNtK', 'type': 'tool_call'}], usage_metadata={'input_tokens': 99, 'output_tokens': 21, 'total_tokens': 120, 'input_token_details': {'audio': 0, 'cache_read': 0}, 'output_token_details': {'audio': 0, 'reasoning': 0}}), ToolMessage(content='[수정된 웹 검색 결과] \\nLangGraph는 상태 기반의 다중 액터 애플리케이션을 LLM을 활용해 구축할 수 있도록 지원합니다.\\nLangGraph는 사이클 흐름, 제어 가능성, 지속성, 클라우드 배포 기능을 제공하는 오픈 소스 라이브러리입니다.\\n\\n자세한 튜토리얼은 [LangGraph 튜토리얼](https://langchain-ai.github.io/langgraph/tutorials/)을 참고하세요.', id='431df0dc-41e0-435f-a745-2f6903c52cc6', tool_call_id='call_AchZFyIxtWR1bizEddlvvNtK'), AIMessage(content='랭그래프(LangGraph)는 상태 기반의 다중 액터 애플리케이션을 구축할 수 있도록 지원하는 오픈 소스 라이브러리입니다. 이 라이브러리는 LLM(대형 언어 모델)을 활용하여 사이클 흐름, 제어 가능성, 지속성, 클라우드 배포 기능 등을 제공합니다.\\n\\n더 자세한 정보와 튜토리얼은 [LangGraph 튜토리얼](https://langchain-ai.github.io/langgraph/tutorials/)을 참고하시면 좋습니다.', additional_kwargs={'refusal': None}, response_metadata={'token_usage': {'completion_tokens': 116, 'prompt_tokens': 236, 'total_tokens': 352, 'completion_tokens_details': {'accepted_prediction_tokens': 0, 'audio_tokens': 0, 'reasoning_tokens': 0, 'rejected_prediction_tokens': 0}, 'prompt_tokens_details': {'audio_tokens': 0, 'cached_tokens': 0}}, 'model_name': 'gpt-4o-mini-2024-07-18', 'system_fingerprint': 'fp_709714d124', 'finish_reason': 'stop', 'logprobs': None}, id='run-3fac6828-228b-47bc-841f-bb53546ab578-0', usage_metadata={'input_tokens': 236, 'output_tokens': 116, 'total_tokens': 352, 'input_token_details': {'audio': 0, 'cache_read': 0}, 'output_token_details': {'audio': 0, 'reasoning': 0}})]}\n",
      "\n",
      "==================================\u001b[1m Ai Message \u001b[0m==================================\n",
      "\n",
      "랭그래프(LangGraph)는 상태 기반의 다중 액터 애플리케이션을 구축할 수 있도록 지원하는 오픈 소스 라이브러리입니다. 이 라이브러리는 LLM(대형 언어 모델)을 활용하여 사이클 흐름, 제어 가능성, 지속성, 클라우드 배포 기능 등을 제공합니다.\n",
      "\n",
      "더 자세한 정보와 튜토리얼은 [LangGraph 튜토리얼](https://langchain-ai.github.io/langgraph/tutorials/)을 참고하시면 좋습니다.\n"
     ]
    }
   ],
   "source": [
    "events = graph.stream(None, config, stream_mode=\"values\")\n",
    "\n",
    "# 이벤트 반복 처리\n",
    "for event in events:\n",
    "    print('[event] 전체')\n",
    "    print(event)\n",
    "    print()\n",
    "\n",
    "    if \"messages\" in event:                         # 메시지가 이벤트에 포함된 경우        \n",
    "        event[\"messages\"][-1].pretty_print()        # 마지막 메시지의 예쁜 출력"
   ]
  },
  {
   "cell_type": "code",
   "execution_count": 111,
   "metadata": {},
   "outputs": [
    {
     "name": "stdout",
     "output_type": "stream",
     "text": [
      "================================\u001b[1m Human Message \u001b[0m=================================\n",
      "\n",
      "랭그래프에 대해서 알려주세요\n",
      "==================================\u001b[1m Ai Message \u001b[0m==================================\n",
      "Tool Calls:\n",
      "  tavily_web_search (call_AchZFyIxtWR1bizEddlvvNtK)\n",
      " Call ID: call_AchZFyIxtWR1bizEddlvvNtK\n",
      "  Args:\n",
      "    query: 랭그래프\n",
      "=================================\u001b[1m Tool Message \u001b[0m=================================\n",
      "\n",
      "[수정된 웹 검색 결과] \n",
      "LangGraph는 상태 기반의 다중 액터 애플리케이션을 LLM을 활용해 구축할 수 있도록 지원합니다.\n",
      "LangGraph는 사이클 흐름, 제어 가능성, 지속성, 클라우드 배포 기능을 제공하는 오픈 소스 라이브러리입니다.\n",
      "\n",
      "자세한 튜토리얼은 [LangGraph 튜토리얼](https://langchain-ai.github.io/langgraph/tutorials/)을 참고하세요.\n",
      "==================================\u001b[1m Ai Message \u001b[0m==================================\n",
      "\n",
      "랭그래프(LangGraph)는 상태 기반의 다중 액터 애플리케이션을 구축할 수 있도록 지원하는 오픈 소스 라이브러리입니다. 이 라이브러리는 LLM(대형 언어 모델)을 활용하여 사이클 흐름, 제어 가능성, 지속성, 클라우드 배포 기능 등을 제공합니다.\n",
      "\n",
      "더 자세한 정보와 튜토리얼은 [LangGraph 튜토리얼](https://langchain-ai.github.io/langgraph/tutorials/)을 참고하시면 좋습니다.\n"
     ]
    }
   ],
   "source": [
    "# 그래프 상태 스냅샷 생성\n",
    "snapshot = graph.get_state(config)\n",
    "\n",
    "# 최근 세 개의 메시지 출력\n",
    "for message in snapshot.values[\"messages\"]:\n",
    "    message.pretty_print()"
   ]
  },
  {
   "cell_type": "code",
   "execution_count": 112,
   "metadata": {},
   "outputs": [
    {
     "data": {
      "image/png": "[encoded data removed]",
      "text/plain": [
       "<IPython.core.display.Image object>"
      ]
     },
     "metadata": {},
     "output_type": "display_data"
    }
   ],
   "source": [
    "from langchain_teddynote.graphs import visualize_graph\n",
    "\n",
    "visualize_graph(graph)"
   ]
  },
  {
   "cell_type": "code",
   "execution_count": 113,
   "metadata": {},
   "outputs": [
    {
     "name": "stdout",
     "output_type": "stream",
     "text": [
      "================================\u001b[1m Human Message \u001b[0m=================================\n",
      "\n",
      "랭그래프에 대해서 알려주세요\n",
      "==================================\u001b[1m Ai Message \u001b[0m==================================\n",
      "Tool Calls:\n",
      "  tavily_web_search (call_AchZFyIxtWR1bizEddlvvNtK)\n",
      " Call ID: call_AchZFyIxtWR1bizEddlvvNtK\n",
      "  Args:\n",
      "    query: 랭그래프\n",
      "=================================\u001b[1m Tool Message \u001b[0m=================================\n",
      "\n",
      "[수정된 웹 검색 결과] \n",
      "LangGraph는 상태 기반의 다중 액터 애플리케이션을 LLM을 활용해 구축할 수 있도록 지원합니다.\n",
      "LangGraph는 사이클 흐름, 제어 가능성, 지속성, 클라우드 배포 기능을 제공하는 오픈 소스 라이브러리입니다.\n",
      "\n",
      "자세한 튜토리얼은 [LangGraph 튜토리얼](https://langchain-ai.github.io/langgraph/tutorials/)을 참고하세요.\n",
      "==================================\u001b[1m Ai Message \u001b[0m==================================\n",
      "\n",
      "랭그래프(LangGraph)는 상태 기반의 다중 액터 애플리케이션을 구축할 수 있도록 지원하는 오픈 소스 라이브러리입니다. 이 라이브러리는 LLM(대형 언어 모델)을 활용하여 사이클 흐름, 제어 가능성, 지속성, 클라우드 배포 기능 등을 제공합니다.\n",
      "\n",
      "더 자세한 정보와 튜토리얼은 [LangGraph 튜토리얼](https://langchain-ai.github.io/langgraph/tutorials/)을 참고하시면 좋습니다.\n"
     ]
    }
   ],
   "source": [
    "# 그래프 상태 스냅샷 생성\n",
    "snapshot = graph.get_state(config)\n",
    "\n",
    "# 최근 세 개의 메시지 출력\n",
    "for message in snapshot.values[\"messages\"]:\n",
    "    message.pretty_print()"
   ]
  },
  {
   "cell_type": "code",
   "execution_count": 117,
   "metadata": {},
   "outputs": [
    {
     "name": "stdout",
     "output_type": "stream",
     "text": [
      "thread_id: cba738\n"
     ]
    }
   ],
   "source": [
    "from langchain_teddynote.graphs import generate_random_hash\n",
    "\n",
    "thread_id = generate_random_hash()\n",
    "print(f\"thread_id: {thread_id}\")"
   ]
  },
  {
   "cell_type": "code",
   "execution_count": 118,
   "metadata": {},
   "outputs": [
    {
     "name": "stdout",
     "output_type": "stream",
     "text": [
      "[event] 전체\n",
      "{'messages': [HumanMessage(content='파이썬에 대해서 배워보고 싶습니다. 유용한 자료를 추천해 주세요!', additional_kwargs={}, response_metadata={}, id='2755733d-a3e4-4d18-b693-2197f1a19ad3')]}\n",
      "\n",
      "================================\u001b[1m Human Message \u001b[0m=================================\n",
      "\n",
      "파이썬에 대해서 배워보고 싶습니다. 유용한 자료를 추천해 주세요!\n",
      "=================================================================================\n",
      "chatbot() 실행\n",
      "\n",
      "[1] state[messages]: \n",
      "[HumanMessage(content='파이썬에 대해서 배워보고 싶습니다. 유용한 자료를 추천해 주세요!', additional_kwargs={}, response_metadata={}, id='2755733d-a3e4-4d18-b693-2197f1a19ad3')]\n",
      "\n",
      "[2] chatbot answer: \n",
      " \n",
      "[3] answer.additional_kwargs: \n",
      " {'tool_calls': [{'id': 'call_DZt4GA0ZcEb8tcZZLNQ9Il3n', 'function': {'arguments': '{\"query\":\"파이썬 학습 자료 추천\"}', 'name': 'tavily_web_search'}, 'type': 'function'}], 'refusal': None}\n",
      "=================================================================================\n",
      "[event] 전체\n",
      "{'messages': [HumanMessage(content='파이썬에 대해서 배워보고 싶습니다. 유용한 자료를 추천해 주세요!', additional_kwargs={}, response_metadata={}, id='2755733d-a3e4-4d18-b693-2197f1a19ad3'), AIMessage(content='', additional_kwargs={'tool_calls': [{'id': 'call_DZt4GA0ZcEb8tcZZLNQ9Il3n', 'function': {'arguments': '{\"query\":\"파이썬 학습 자료 추천\"}', 'name': 'tavily_web_search'}, 'type': 'function'}], 'refusal': None}, response_metadata={'token_usage': {'completion_tokens': 25, 'prompt_tokens': 112, 'total_tokens': 137, 'completion_tokens_details': {'accepted_prediction_tokens': 0, 'audio_tokens': 0, 'reasoning_tokens': 0, 'rejected_prediction_tokens': 0}, 'prompt_tokens_details': {'audio_tokens': 0, 'cached_tokens': 0}}, 'model_name': 'gpt-4o-mini-2024-07-18', 'system_fingerprint': 'fp_709714d124', 'finish_reason': 'tool_calls', 'logprobs': None}, id='run-4dbf3c4f-7e92-4e24-9075-4388d7c91a26-0', tool_calls=[{'name': 'tavily_web_search', 'args': {'query': '파이썬 학습 자료 추천'}, 'id': 'call_DZt4GA0ZcEb8tcZZLNQ9Il3n', 'type': 'tool_call'}], usage_metadata={'input_tokens': 112, 'output_tokens': 25, 'total_tokens': 137, 'input_token_details': {'audio': 0, 'cache_read': 0}, 'output_token_details': {'audio': 0, 'reasoning': 0}})]}\n",
      "\n",
      "==================================\u001b[1m Ai Message \u001b[0m==================================\n",
      "Tool Calls:\n",
      "  tavily_web_search (call_DZt4GA0ZcEb8tcZZLNQ9Il3n)\n",
      " Call ID: call_DZt4GA0ZcEb8tcZZLNQ9Il3n\n",
      "  Args:\n",
      "    query: 파이썬 학습 자료 추천\n"
     ]
    }
   ],
   "source": [
    "question = \"파이썬에 대해서 배워보고 싶습니다. 유용한 자료를 추천해 주세요!\"\n",
    "\n",
    "input = State(messages=[(\"user\", question)])            \n",
    "config = {\"configurable\": {\"thread_id\": thread_id}}     # 새로운 config 생성\n",
    "\n",
    "events = graph.stream(\n",
    "    input=input,\n",
    "    config=config,\n",
    "    interrupt_before=[\"tools\"],\n",
    "    stream_mode=\"values\")\n",
    "\n",
    "for event in events:\n",
    "    print('[event] 전체')\n",
    "    print(event)\n",
    "    print()\n",
    "    \n",
    "    if \"messages\" in event:\n",
    "        event[\"messages\"][-1].pretty_print()"
   ]
  },
  {
   "cell_type": "code",
   "execution_count": 119,
   "metadata": {},
   "outputs": [],
   "source": [
    "# config 를 복사\n",
    "config_copy = config.copy()"
   ]
  },
  {
   "cell_type": "code",
   "execution_count": 120,
   "metadata": {},
   "outputs": [
    {
     "data": {
      "text/plain": [
       "{'configurable': {'thread_id': 'cba738'}}"
      ]
     },
     "execution_count": 120,
     "metadata": {},
     "output_type": "execute_result"
    }
   ],
   "source": [
    "config_copy"
   ]
  },
  {
   "cell_type": "code",
   "execution_count": 129,
   "metadata": {},
   "outputs": [
    {
     "name": "stdout",
     "output_type": "stream",
     "text": [
      "existing_message 전체: content='' additional_kwargs={'tool_calls': [{'id': 'call_DZt4GA0ZcEb8tcZZLNQ9Il3n', 'function': {'arguments': '{\"query\":\"파이썬 학습 자료 추천\"}', 'name': 'tavily_web_search'}, 'type': 'function'}], 'refusal': None} response_metadata={'token_usage': {'completion_tokens': 25, 'prompt_tokens': 112, 'total_tokens': 137, 'completion_tokens_details': {'accepted_prediction_tokens': 0, 'audio_tokens': 0, 'reasoning_tokens': 0, 'rejected_prediction_tokens': 0}, 'prompt_tokens_details': {'audio_tokens': 0, 'cached_tokens': 0}}, 'model_name': 'gpt-4o-mini-2024-07-18', 'system_fingerprint': 'fp_709714d124', 'finish_reason': 'tool_calls', 'logprobs': None} id='run-4dbf3c4f-7e92-4e24-9075-4388d7c91a26-0' tool_calls=[{'name': 'tavily_web_search', 'args': {'query': '파이썬 학습 자료 추천'}, 'id': 'call_DZt4GA0ZcEb8tcZZLNQ9Il3n', 'type': 'tool_call'}] usage_metadata={'input_tokens': 112, 'output_tokens': 25, 'total_tokens': 137, 'input_token_details': {'audio': 0, 'cache_read': 0}, 'output_token_details': {'audio': 0, 'reasoning': 0}}\n",
      "\n",
      "Message ID run-4dbf3c4f-7e92-4e24-9075-4388d7c91a26-0\n",
      "\n",
      "existing_message.tool_calls: [{'name': 'tavily_web_search', 'args': {'query': '파이썬 학습 자료 추천'}, 'id': 'call_DZt4GA0ZcEb8tcZZLNQ9Il3n', 'type': 'tool_call'}]\n"
     ]
    }
   ],
   "source": [
    "from langchain_core.messages import AIMessage\n",
    "\n",
    "# 스냅샷 상태 가져오기\n",
    "snapshot = graph.get_state(config)\n",
    "\n",
    "# messages 의 마지막 메시지 가져오기\n",
    "existing_message = snapshot.values[\"messages\"][-1]\n",
    "\n",
    "print('existing_message 전체:', existing_message)\n",
    "print()\n",
    "\n",
    "# 메시지 ID 출력\n",
    "print(\"Message ID\", existing_message.id)\n",
    "print()\n",
    "\n",
    "print('existing_message.tool_calls:', existing_message.tool_calls)"
   ]
  },
  {
   "cell_type": "code",
   "execution_count": 124,
   "metadata": {},
   "outputs": [
    {
     "name": "stdout",
     "output_type": "stream",
     "text": [
      "{'name': 'tavily_web_search', 'args': {'query': '파이썬 학습 자료 추천'}, 'id': 'call_DZt4GA0ZcEb8tcZZLNQ9Il3n', 'type': 'tool_call'}\n"
     ]
    }
   ],
   "source": [
    "# 첫 번째 도구 호출 출력\n",
    "print(existing_message.tool_calls[0])"
   ]
  },
  {
   "cell_type": "code",
   "execution_count": 130,
   "metadata": {},
   "outputs": [],
   "source": [
    "# tool_calls 를 복사하여 새로운 도구 호출 생성\n",
    "new_tool_call = existing_message.tool_calls[0].copy()"
   ]
  },
  {
   "cell_type": "code",
   "execution_count": 131,
   "metadata": {},
   "outputs": [
    {
     "data": {
      "text/plain": [
       "{'name': 'tavily_web_search',\n",
       " 'args': {'query': 'python 학습자료:www.naver.com'},\n",
       " 'id': 'call_DZt4GA0ZcEb8tcZZLNQ9Il3n',\n",
       " 'type': 'tool_call'}"
      ]
     },
     "execution_count": 131,
     "metadata": {},
     "output_type": "execute_result"
    }
   ],
   "source": [
    "# 쿼리 매개변수 업데이트(갱신)\n",
    "new_tool_call[\"args\"] = {\"query\": \"python 학습자료:www.naver.com\"}\n",
    "new_tool_call"
   ]
  },
  {
   "cell_type": "code",
   "execution_count": 132,
   "metadata": {},
   "outputs": [
    {
     "name": "stdout",
     "output_type": "stream",
     "text": [
      "run-4dbf3c4f-7e92-4e24-9075-4388d7c91a26-0\n"
     ]
    }
   ],
   "source": [
    "new_message = AIMessage(                    # AIMessage 생성\n",
    "    content=existing_message.content,\n",
    "    tool_calls=[new_tool_call],    \n",
    "    id=existing_message.id,                 # 중요! ID는 메시지를 상태에 추가하는 대신 교체하는 방법\n",
    ")\n",
    "\n",
    "print(new_message.id)"
   ]
  },
  {
   "cell_type": "code",
   "execution_count": 133,
   "metadata": {},
   "outputs": [
    {
     "name": "stdout",
     "output_type": "stream",
     "text": [
      "==================================\u001b[1m Ai Message \u001b[0m==================================\n",
      "Tool Calls:\n",
      "  tavily_web_search (call_DZt4GA0ZcEb8tcZZLNQ9Il3n)\n",
      " Call ID: call_DZt4GA0ZcEb8tcZZLNQ9Il3n\n",
      "  Args:\n",
      "    query: python 학습자료:www.naver.com\n"
     ]
    }
   ],
   "source": [
    "# 수정한 메시지 출력\n",
    "new_message.pretty_print()"
   ]
  },
  {
   "cell_type": "code",
   "execution_count": 134,
   "metadata": {},
   "outputs": [
    {
     "name": "stdout",
     "output_type": "stream",
     "text": [
      "{'name': 'tavily_web_search', 'args': {'query': 'python 학습자료:www.naver.com'}, 'id': 'call_DZt4GA0ZcEb8tcZZLNQ9Il3n', 'type': 'tool_call'}\n"
     ]
    }
   ],
   "source": [
    "# 업데이트된 도구 호출 출력\n",
    "print(new_message.tool_calls[0])"
   ]
  },
  {
   "cell_type": "code",
   "execution_count": 135,
   "metadata": {},
   "outputs": [
    {
     "name": "stdout",
     "output_type": "stream",
     "text": [
      "\n",
      "Message ID run-4dbf3c4f-7e92-4e24-9075-4388d7c91a26-0\n"
     ]
    }
   ],
   "source": [
    "# 메시지 ID 출력\n",
    "print(\"\\nMessage ID\", new_message.id)"
   ]
  },
  {
   "cell_type": "code",
   "execution_count": 136,
   "metadata": {},
   "outputs": [
    {
     "data": {
      "text/plain": [
       "{'configurable': {'thread_id': 'cba738',\n",
       "  'checkpoint_ns': '',\n",
       "  'checkpoint_id': '1eff3302-4792-60aa-8002-f229422cd608'}}"
      ]
     },
     "execution_count": 136,
     "metadata": {},
     "output_type": "execute_result"
    }
   ],
   "source": [
    "# 상태 업데이트\n",
    "graph.update_state(config, {\"messages\": [new_message]})"
   ]
  },
  {
   "cell_type": "code",
   "execution_count": 137,
   "metadata": {},
   "outputs": [
    {
     "data": {
      "text/plain": [
       "[{'name': 'tavily_web_search',\n",
       "  'args': {'query': 'python 학습자료:www.naver.com'},\n",
       "  'id': 'call_DZt4GA0ZcEb8tcZZLNQ9Il3n',\n",
       "  'type': 'tool_call'}]"
      ]
     },
     "execution_count": 137,
     "metadata": {},
     "output_type": "execute_result"
    }
   ],
   "source": [
    "# 마지막 메시지의 도구 호출 가져오기\n",
    "graph.get_state(config).values[\"messages\"][-1].tool_calls"
   ]
  },
  {
   "cell_type": "code",
   "execution_count": 138,
   "metadata": {},
   "outputs": [
    {
     "name": "stdout",
     "output_type": "stream",
     "text": [
      "[event] 전체\n",
      "{'messages': [HumanMessage(content='파이썬에 대해서 배워보고 싶습니다. 유용한 자료를 추천해 주세요!', additional_kwargs={}, response_metadata={}, id='2755733d-a3e4-4d18-b693-2197f1a19ad3'), AIMessage(content='', additional_kwargs={}, response_metadata={}, id='run-4dbf3c4f-7e92-4e24-9075-4388d7c91a26-0', tool_calls=[{'name': 'tavily_web_search', 'args': {'query': 'python 학습자료:www.naver.com'}, 'id': 'call_DZt4GA0ZcEb8tcZZLNQ9Il3n', 'type': 'tool_call'}])]}\n",
      "\n",
      "==================================\u001b[1m Ai Message \u001b[0m==================================\n",
      "Tool Calls:\n",
      "  tavily_web_search (call_DZt4GA0ZcEb8tcZZLNQ9Il3n)\n",
      " Call ID: call_DZt4GA0ZcEb8tcZZLNQ9Il3n\n",
      "  Args:\n",
      "    query: python 학습자료:www.naver.com\n",
      "[event] 전체\n",
      "{'messages': [HumanMessage(content='파이썬에 대해서 배워보고 싶습니다. 유용한 자료를 추천해 주세요!', additional_kwargs={}, response_metadata={}, id='2755733d-a3e4-4d18-b693-2197f1a19ad3'), AIMessage(content='', additional_kwargs={}, response_metadata={}, id='run-4dbf3c4f-7e92-4e24-9075-4388d7c91a26-0', tool_calls=[{'name': 'tavily_web_search', 'args': {'query': 'python 학습자료:www.naver.com'}, 'id': 'call_DZt4GA0ZcEb8tcZZLNQ9Il3n', 'type': 'tool_call'}]), ToolMessage(content='[{\"title\": \"(Python) 파이썬 자습서 _ 파이썬 언어를 배우기 좋은 학습 자료 제공 : 네이버 블로그\", \"url\": \"https://blog.naver.com/PostView.naver?blogId=nabilera1&logNo=223695637384\", \"content\": \"The same site also contains distributions of and pointers to many free third party Python modules, programs and tools, and additional documentation. 파이썬 인터프리터는 C 나 C++ (또는 C에서 호출 가능한 다른 언어들)로 구현된 새 함수나 자료 구조를 쉽게 추가할 수 있습니다.\", \"score\": 0.7738498, \"raw_content\": null}]', name='tavily_web_search', id='4faeacbb-3bff-4054-a42d-bdb120d1c562', tool_call_id='call_DZt4GA0ZcEb8tcZZLNQ9Il3n')]}\n",
      "\n",
      "=================================\u001b[1m Tool Message \u001b[0m=================================\n",
      "Name: tavily_web_search\n",
      "\n",
      "[{\"title\": \"(Python) 파이썬 자습서 _ 파이썬 언어를 배우기 좋은 학습 자료 제공 : 네이버 블로그\", \"url\": \"https://blog.naver.com/PostView.naver?blogId=nabilera1&logNo=223695637384\", \"content\": \"The same site also contains distributions of and pointers to many free third party Python modules, programs and tools, and additional documentation. 파이썬 인터프리터는 C 나 C++ (또는 C에서 호출 가능한 다른 언어들)로 구현된 새 함수나 자료 구조를 쉽게 추가할 수 있습니다.\", \"score\": 0.7738498, \"raw_content\": null}]\n",
      "=================================================================================\n",
      "chatbot() 실행\n",
      "\n",
      "[1] state[messages]: \n",
      "[HumanMessage(content='파이썬에 대해서 배워보고 싶습니다. 유용한 자료를 추천해 주세요!', additional_kwargs={}, response_metadata={}, id='2755733d-a3e4-4d18-b693-2197f1a19ad3'), AIMessage(content='', additional_kwargs={}, response_metadata={}, id='run-4dbf3c4f-7e92-4e24-9075-4388d7c91a26-0', tool_calls=[{'name': 'tavily_web_search', 'args': {'query': 'python 학습자료:www.naver.com'}, 'id': 'call_DZt4GA0ZcEb8tcZZLNQ9Il3n', 'type': 'tool_call'}]), ToolMessage(content='[{\"title\": \"(Python) 파이썬 자습서 _ 파이썬 언어를 배우기 좋은 학습 자료 제공 : 네이버 블로그\", \"url\": \"https://blog.naver.com/PostView.naver?blogId=nabilera1&logNo=223695637384\", \"content\": \"The same site also contains distributions of and pointers to many free third party Python modules, programs and tools, and additional documentation. 파이썬 인터프리터는 C 나 C++ (또는 C에서 호출 가능한 다른 언어들)로 구현된 새 함수나 자료 구조를 쉽게 추가할 수 있습니다.\", \"score\": 0.7738498, \"raw_content\": null}]', name='tavily_web_search', id='4faeacbb-3bff-4054-a42d-bdb120d1c562', tool_call_id='call_DZt4GA0ZcEb8tcZZLNQ9Il3n')]\n",
      "\n",
      "[2] chatbot answer: \n",
      " 파이썬을 배우기 위한 유용한 자료를 추천드립니다:\n",
      "\n",
      "1. **[파이썬 자습서 - 네이버 블로그](https://blog.naver.com/PostView.naver?blogId=nabilera1&logNo=223695637384)**: 이 블로그 포스트에서는 파이썬 언어를 배우기 위한 다양한 학습 자료를 제공합니다. 파이썬의 기본 개념부터 시작하여, 다양한 모듈과 도구에 대한 정보도 포함되어 있습니다.\n",
      "\n",
      "이 자료를 통해 파이썬의 기초를 다지고, 더 나아가 다양한 프로젝트에 적용해보실 수 있을 것입니다. 추가적인 질문이 있으시면 언제든지 물어보세요!\n",
      "[3] answer.additional_kwargs: \n",
      " {'refusal': None}\n",
      "=================================================================================\n",
      "[event] 전체\n",
      "{'messages': [HumanMessage(content='파이썬에 대해서 배워보고 싶습니다. 유용한 자료를 추천해 주세요!', additional_kwargs={}, response_metadata={}, id='2755733d-a3e4-4d18-b693-2197f1a19ad3'), AIMessage(content='', additional_kwargs={}, response_metadata={}, id='run-4dbf3c4f-7e92-4e24-9075-4388d7c91a26-0', tool_calls=[{'name': 'tavily_web_search', 'args': {'query': 'python 학습자료:www.naver.com'}, 'id': 'call_DZt4GA0ZcEb8tcZZLNQ9Il3n', 'type': 'tool_call'}]), ToolMessage(content='[{\"title\": \"(Python) 파이썬 자습서 _ 파이썬 언어를 배우기 좋은 학습 자료 제공 : 네이버 블로그\", \"url\": \"https://blog.naver.com/PostView.naver?blogId=nabilera1&logNo=223695637384\", \"content\": \"The same site also contains distributions of and pointers to many free third party Python modules, programs and tools, and additional documentation. 파이썬 인터프리터는 C 나 C++ (또는 C에서 호출 가능한 다른 언어들)로 구현된 새 함수나 자료 구조를 쉽게 추가할 수 있습니다.\", \"score\": 0.7738498, \"raw_content\": null}]', name='tavily_web_search', id='4faeacbb-3bff-4054-a42d-bdb120d1c562', tool_call_id='call_DZt4GA0ZcEb8tcZZLNQ9Il3n'), AIMessage(content='파이썬을 배우기 위한 유용한 자료를 추천드립니다:\\n\\n1. **[파이썬 자습서 - 네이버 블로그](https://blog.naver.com/PostView.naver?blogId=nabilera1&logNo=223695637384)**: 이 블로그 포스트에서는 파이썬 언어를 배우기 위한 다양한 학습 자료를 제공합니다. 파이썬의 기본 개념부터 시작하여, 다양한 모듈과 도구에 대한 정보도 포함되어 있습니다.\\n\\n이 자료를 통해 파이썬의 기초를 다지고, 더 나아가 다양한 프로젝트에 적용해보실 수 있을 것입니다. 추가적인 질문이 있으시면 언제든지 물어보세요!', additional_kwargs={'refusal': None}, response_metadata={'token_usage': {'completion_tokens': 156, 'prompt_tokens': 297, 'total_tokens': 453, 'completion_tokens_details': {'accepted_prediction_tokens': 0, 'audio_tokens': 0, 'reasoning_tokens': 0, 'rejected_prediction_tokens': 0}, 'prompt_tokens_details': {'audio_tokens': 0, 'cached_tokens': 0}}, 'model_name': 'gpt-4o-mini-2024-07-18', 'system_fingerprint': 'fp_709714d124', 'finish_reason': 'stop', 'logprobs': None}, id='run-632bbd3d-3715-4f42-b3ca-4d524503b202-0', usage_metadata={'input_tokens': 297, 'output_tokens': 156, 'total_tokens': 453, 'input_token_details': {'audio': 0, 'cache_read': 0}, 'output_token_details': {'audio': 0, 'reasoning': 0}})]}\n",
      "\n",
      "==================================\u001b[1m Ai Message \u001b[0m==================================\n",
      "\n",
      "파이썬을 배우기 위한 유용한 자료를 추천드립니다:\n",
      "\n",
      "1. **[파이썬 자습서 - 네이버 블로그](https://blog.naver.com/PostView.naver?blogId=nabilera1&logNo=223695637384)**: 이 블로그 포스트에서는 파이썬 언어를 배우기 위한 다양한 학습 자료를 제공합니다. 파이썬의 기본 개념부터 시작하여, 다양한 모듈과 도구에 대한 정보도 포함되어 있습니다.\n",
      "\n",
      "이 자료를 통해 파이썬의 기초를 다지고, 더 나아가 다양한 프로젝트에 적용해보실 수 있을 것입니다. 추가적인 질문이 있으시면 언제든지 물어보세요!\n"
     ]
    }
   ],
   "source": [
    "# 그래프 스트림에서 이벤트 수신\n",
    "events = graph.stream(None, config, stream_mode=\"values\")\n",
    "\n",
    "# 각 이벤트에 대한 처리\n",
    "for event in events:\n",
    "    print('[event] 전체')\n",
    "    print(event)\n",
    "    print()\n",
    "\n",
    "    if \"messages\" in event:                         # 메시지가 있는 경우 마지막 메시지 출력\n",
    "        event[\"messages\"][-1].pretty_print()"
   ]
  },
  {
   "cell_type": "code",
   "execution_count": 139,
   "metadata": {},
   "outputs": [
    {
     "name": "stdout",
     "output_type": "stream",
     "text": [
      "[event] 전체\n",
      "{'messages': [HumanMessage(content='파이썬에 대해서 배워보고 싶습니다. 유용한 자료를 추천해 주세요!', additional_kwargs={}, response_metadata={}, id='2755733d-a3e4-4d18-b693-2197f1a19ad3'), AIMessage(content='', additional_kwargs={}, response_metadata={}, id='run-4dbf3c4f-7e92-4e24-9075-4388d7c91a26-0', tool_calls=[{'name': 'tavily_web_search', 'args': {'query': 'python 학습자료:www.naver.com'}, 'id': 'call_DZt4GA0ZcEb8tcZZLNQ9Il3n', 'type': 'tool_call'}]), ToolMessage(content='[{\"title\": \"(Python) 파이썬 자습서 _ 파이썬 언어를 배우기 좋은 학습 자료 제공 : 네이버 블로그\", \"url\": \"https://blog.naver.com/PostView.naver?blogId=nabilera1&logNo=223695637384\", \"content\": \"The same site also contains distributions of and pointers to many free third party Python modules, programs and tools, and additional documentation. 파이썬 인터프리터는 C 나 C++ (또는 C에서 호출 가능한 다른 언어들)로 구현된 새 함수나 자료 구조를 쉽게 추가할 수 있습니다.\", \"score\": 0.7738498, \"raw_content\": null}]', name='tavily_web_search', id='4faeacbb-3bff-4054-a42d-bdb120d1c562', tool_call_id='call_DZt4GA0ZcEb8tcZZLNQ9Il3n'), AIMessage(content='파이썬을 배우기 위한 유용한 자료를 추천드립니다:\\n\\n1. **[파이썬 자습서 - 네이버 블로그](https://blog.naver.com/PostView.naver?blogId=nabilera1&logNo=223695637384)**: 이 블로그 포스트에서는 파이썬 언어를 배우기 위한 다양한 학습 자료를 제공합니다. 파이썬의 기본 개념부터 시작하여, 다양한 모듈과 도구에 대한 정보도 포함되어 있습니다.\\n\\n이 자료를 통해 파이썬의 기초를 다지고, 더 나아가 다양한 프로젝트에 적용해보실 수 있을 것입니다. 추가적인 질문이 있으시면 언제든지 물어보세요!', additional_kwargs={'refusal': None}, response_metadata={'token_usage': {'completion_tokens': 156, 'prompt_tokens': 297, 'total_tokens': 453, 'completion_tokens_details': {'accepted_prediction_tokens': 0, 'audio_tokens': 0, 'reasoning_tokens': 0, 'rejected_prediction_tokens': 0}, 'prompt_tokens_details': {'audio_tokens': 0, 'cached_tokens': 0}}, 'model_name': 'gpt-4o-mini-2024-07-18', 'system_fingerprint': 'fp_709714d124', 'finish_reason': 'stop', 'logprobs': None}, id='run-632bbd3d-3715-4f42-b3ca-4d524503b202-0', usage_metadata={'input_tokens': 297, 'output_tokens': 156, 'total_tokens': 453, 'input_token_details': {'audio': 0, 'cache_read': 0}, 'output_token_details': {'audio': 0, 'reasoning': 0}}), HumanMessage(content='내가 지금까지 배운 내용에 대해서 매우 친절하고 정성스럽게 한국어로 답변해줘! 출처를 반드시 포함해줘!', additional_kwargs={}, response_metadata={}, id='8b147c87-208f-4950-bea9-6c6c0c353783')]}\n",
      "\n",
      "================================\u001b[1m Human Message \u001b[0m=================================\n",
      "\n",
      "내가 지금까지 배운 내용에 대해서 매우 친절하고 정성스럽게 한국어로 답변해줘! 출처를 반드시 포함해줘!\n",
      "=================================================================================\n",
      "chatbot() 실행\n",
      "\n",
      "[1] state[messages]: \n",
      "[HumanMessage(content='파이썬에 대해서 배워보고 싶습니다. 유용한 자료를 추천해 주세요!', additional_kwargs={}, response_metadata={}, id='2755733d-a3e4-4d18-b693-2197f1a19ad3'), AIMessage(content='', additional_kwargs={}, response_metadata={}, id='run-4dbf3c4f-7e92-4e24-9075-4388d7c91a26-0', tool_calls=[{'name': 'tavily_web_search', 'args': {'query': 'python 학습자료:www.naver.com'}, 'id': 'call_DZt4GA0ZcEb8tcZZLNQ9Il3n', 'type': 'tool_call'}]), ToolMessage(content='[{\"title\": \"(Python) 파이썬 자습서 _ 파이썬 언어를 배우기 좋은 학습 자료 제공 : 네이버 블로그\", \"url\": \"https://blog.naver.com/PostView.naver?blogId=nabilera1&logNo=223695637384\", \"content\": \"The same site also contains distributions of and pointers to many free third party Python modules, programs and tools, and additional documentation. 파이썬 인터프리터는 C 나 C++ (또는 C에서 호출 가능한 다른 언어들)로 구현된 새 함수나 자료 구조를 쉽게 추가할 수 있습니다.\", \"score\": 0.7738498, \"raw_content\": null}]', name='tavily_web_search', id='4faeacbb-3bff-4054-a42d-bdb120d1c562', tool_call_id='call_DZt4GA0ZcEb8tcZZLNQ9Il3n'), AIMessage(content='파이썬을 배우기 위한 유용한 자료를 추천드립니다:\\n\\n1. **[파이썬 자습서 - 네이버 블로그](https://blog.naver.com/PostView.naver?blogId=nabilera1&logNo=223695637384)**: 이 블로그 포스트에서는 파이썬 언어를 배우기 위한 다양한 학습 자료를 제공합니다. 파이썬의 기본 개념부터 시작하여, 다양한 모듈과 도구에 대한 정보도 포함되어 있습니다.\\n\\n이 자료를 통해 파이썬의 기초를 다지고, 더 나아가 다양한 프로젝트에 적용해보실 수 있을 것입니다. 추가적인 질문이 있으시면 언제든지 물어보세요!', additional_kwargs={'refusal': None}, response_metadata={'token_usage': {'completion_tokens': 156, 'prompt_tokens': 297, 'total_tokens': 453, 'completion_tokens_details': {'accepted_prediction_tokens': 0, 'audio_tokens': 0, 'reasoning_tokens': 0, 'rejected_prediction_tokens': 0}, 'prompt_tokens_details': {'audio_tokens': 0, 'cached_tokens': 0}}, 'model_name': 'gpt-4o-mini-2024-07-18', 'system_fingerprint': 'fp_709714d124', 'finish_reason': 'stop', 'logprobs': None}, id='run-632bbd3d-3715-4f42-b3ca-4d524503b202-0', usage_metadata={'input_tokens': 297, 'output_tokens': 156, 'total_tokens': 453, 'input_token_details': {'audio': 0, 'cache_read': 0}, 'output_token_details': {'audio': 0, 'reasoning': 0}}), HumanMessage(content='내가 지금까지 배운 내용에 대해서 매우 친절하고 정성스럽게 한국어로 답변해줘! 출처를 반드시 포함해줘!', additional_kwargs={}, response_metadata={}, id='8b147c87-208f-4950-bea9-6c6c0c353783')]\n",
      "\n",
      "[2] chatbot answer: \n",
      " 물론입니다! 지금까지 배운 내용을 정리해드리겠습니다.\n",
      "\n",
      "1. **파이썬의 기본 개념**: 파이썬은 간결하고 읽기 쉬운 문법을 가진 프로그래밍 언어로, 초보자에게 적합합니다. 변수, 데이터 타입, 조건문, 반복문 등의 기본 개념을 익히는 것이 중요합니다.\n",
      "\n",
      "2. **함수와 모듈**: 파이썬에서는 함수를 정의하여 코드의 재사용성을 높일 수 있습니다. 또한, 다양한 모듈을 활용하여 기능을 확장할 수 있습니다.\n",
      "\n",
      "3. **자료구조**: 리스트, 튜플, 딕셔너리, 집합 등의 자료구조를 이해하고 활용하는 것이 중요합니다. 이를 통해 데이터를 효율적으로 관리할 수 있습니다.\n",
      "\n",
      "4. **객체지향 프로그래밍**: 파이썬은 객체지향 프로그래밍(OOP)을 지원합니다. 클래스와 객체의 개념을 이해하고, 이를 활용하여 코드를 구조화할 수 있습니다.\n",
      "\n",
      "5. **라이브러리와 프레임워크**: 파이썬은 다양한 라이브러리와 프레임워크를 제공합니다. 예를 들어, 데이터 분석을 위한 Pandas, 웹 개발을 위한 Django 등이 있습니다.\n",
      "\n",
      "이러한 내용을 바탕으로 파이썬을 더욱 깊이 있게 학습하실 수 있습니다. 추가적인 자료나 질문이 필요하시면 언제든지 말씀해 주세요!\n",
      "\n",
      "출처: [파이썬 자습서 - 네이버 블로그](https://blog.naver.com/PostView.naver?blogId=nabilera1&logNo=223695637384)\n",
      "[3] answer.additional_kwargs: \n",
      " {'refusal': None}\n",
      "=================================================================================\n",
      "[event] 전체\n",
      "{'messages': [HumanMessage(content='파이썬에 대해서 배워보고 싶습니다. 유용한 자료를 추천해 주세요!', additional_kwargs={}, response_metadata={}, id='2755733d-a3e4-4d18-b693-2197f1a19ad3'), AIMessage(content='', additional_kwargs={}, response_metadata={}, id='run-4dbf3c4f-7e92-4e24-9075-4388d7c91a26-0', tool_calls=[{'name': 'tavily_web_search', 'args': {'query': 'python 학습자료:www.naver.com'}, 'id': 'call_DZt4GA0ZcEb8tcZZLNQ9Il3n', 'type': 'tool_call'}]), ToolMessage(content='[{\"title\": \"(Python) 파이썬 자습서 _ 파이썬 언어를 배우기 좋은 학습 자료 제공 : 네이버 블로그\", \"url\": \"https://blog.naver.com/PostView.naver?blogId=nabilera1&logNo=223695637384\", \"content\": \"The same site also contains distributions of and pointers to many free third party Python modules, programs and tools, and additional documentation. 파이썬 인터프리터는 C 나 C++ (또는 C에서 호출 가능한 다른 언어들)로 구현된 새 함수나 자료 구조를 쉽게 추가할 수 있습니다.\", \"score\": 0.7738498, \"raw_content\": null}]', name='tavily_web_search', id='4faeacbb-3bff-4054-a42d-bdb120d1c562', tool_call_id='call_DZt4GA0ZcEb8tcZZLNQ9Il3n'), AIMessage(content='파이썬을 배우기 위한 유용한 자료를 추천드립니다:\\n\\n1. **[파이썬 자습서 - 네이버 블로그](https://blog.naver.com/PostView.naver?blogId=nabilera1&logNo=223695637384)**: 이 블로그 포스트에서는 파이썬 언어를 배우기 위한 다양한 학습 자료를 제공합니다. 파이썬의 기본 개념부터 시작하여, 다양한 모듈과 도구에 대한 정보도 포함되어 있습니다.\\n\\n이 자료를 통해 파이썬의 기초를 다지고, 더 나아가 다양한 프로젝트에 적용해보실 수 있을 것입니다. 추가적인 질문이 있으시면 언제든지 물어보세요!', additional_kwargs={'refusal': None}, response_metadata={'token_usage': {'completion_tokens': 156, 'prompt_tokens': 297, 'total_tokens': 453, 'completion_tokens_details': {'accepted_prediction_tokens': 0, 'audio_tokens': 0, 'reasoning_tokens': 0, 'rejected_prediction_tokens': 0}, 'prompt_tokens_details': {'audio_tokens': 0, 'cached_tokens': 0}}, 'model_name': 'gpt-4o-mini-2024-07-18', 'system_fingerprint': 'fp_709714d124', 'finish_reason': 'stop', 'logprobs': None}, id='run-632bbd3d-3715-4f42-b3ca-4d524503b202-0', usage_metadata={'input_tokens': 297, 'output_tokens': 156, 'total_tokens': 453, 'input_token_details': {'audio': 0, 'cache_read': 0}, 'output_token_details': {'audio': 0, 'reasoning': 0}}), HumanMessage(content='내가 지금까지 배운 내용에 대해서 매우 친절하고 정성스럽게 한국어로 답변해줘! 출처를 반드시 포함해줘!', additional_kwargs={}, response_metadata={}, id='8b147c87-208f-4950-bea9-6c6c0c353783'), AIMessage(content='물론입니다! 지금까지 배운 내용을 정리해드리겠습니다.\\n\\n1. **파이썬의 기본 개념**: 파이썬은 간결하고 읽기 쉬운 문법을 가진 프로그래밍 언어로, 초보자에게 적합합니다. 변수, 데이터 타입, 조건문, 반복문 등의 기본 개념을 익히는 것이 중요합니다.\\n\\n2. **함수와 모듈**: 파이썬에서는 함수를 정의하여 코드의 재사용성을 높일 수 있습니다. 또한, 다양한 모듈을 활용하여 기능을 확장할 수 있습니다.\\n\\n3. **자료구조**: 리스트, 튜플, 딕셔너리, 집합 등의 자료구조를 이해하고 활용하는 것이 중요합니다. 이를 통해 데이터를 효율적으로 관리할 수 있습니다.\\n\\n4. **객체지향 프로그래밍**: 파이썬은 객체지향 프로그래밍(OOP)을 지원합니다. 클래스와 객체의 개념을 이해하고, 이를 활용하여 코드를 구조화할 수 있습니다.\\n\\n5. **라이브러리와 프레임워크**: 파이썬은 다양한 라이브러리와 프레임워크를 제공합니다. 예를 들어, 데이터 분석을 위한 Pandas, 웹 개발을 위한 Django 등이 있습니다.\\n\\n이러한 내용을 바탕으로 파이썬을 더욱 깊이 있게 학습하실 수 있습니다. 추가적인 자료나 질문이 필요하시면 언제든지 말씀해 주세요!\\n\\n출처: [파이썬 자습서 - 네이버 블로그](https://blog.naver.com/PostView.naver?blogId=nabilera1&logNo=223695637384)', additional_kwargs={'refusal': None}, response_metadata={'token_usage': {'completion_tokens': 359, 'prompt_tokens': 492, 'total_tokens': 851, 'completion_tokens_details': {'accepted_prediction_tokens': 0, 'audio_tokens': 0, 'reasoning_tokens': 0, 'rejected_prediction_tokens': 0}, 'prompt_tokens_details': {'audio_tokens': 0, 'cached_tokens': 0}}, 'model_name': 'gpt-4o-mini-2024-07-18', 'system_fingerprint': 'fp_709714d124', 'finish_reason': 'stop', 'logprobs': None}, id='run-b37c0bfb-4426-4765-be57-4b921861d689-0', usage_metadata={'input_tokens': 492, 'output_tokens': 359, 'total_tokens': 851, 'input_token_details': {'audio': 0, 'cache_read': 0}, 'output_token_details': {'audio': 0, 'reasoning': 0}})]}\n",
      "\n",
      "==================================\u001b[1m Ai Message \u001b[0m==================================\n",
      "\n",
      "물론입니다! 지금까지 배운 내용을 정리해드리겠습니다.\n",
      "\n",
      "1. **파이썬의 기본 개념**: 파이썬은 간결하고 읽기 쉬운 문법을 가진 프로그래밍 언어로, 초보자에게 적합합니다. 변수, 데이터 타입, 조건문, 반복문 등의 기본 개념을 익히는 것이 중요합니다.\n",
      "\n",
      "2. **함수와 모듈**: 파이썬에서는 함수를 정의하여 코드의 재사용성을 높일 수 있습니다. 또한, 다양한 모듈을 활용하여 기능을 확장할 수 있습니다.\n",
      "\n",
      "3. **자료구조**: 리스트, 튜플, 딕셔너리, 집합 등의 자료구조를 이해하고 활용하는 것이 중요합니다. 이를 통해 데이터를 효율적으로 관리할 수 있습니다.\n",
      "\n",
      "4. **객체지향 프로그래밍**: 파이썬은 객체지향 프로그래밍(OOP)을 지원합니다. 클래스와 객체의 개념을 이해하고, 이를 활용하여 코드를 구조화할 수 있습니다.\n",
      "\n",
      "5. **라이브러리와 프레임워크**: 파이썬은 다양한 라이브러리와 프레임워크를 제공합니다. 예를 들어, 데이터 분석을 위한 Pandas, 웹 개발을 위한 Django 등이 있습니다.\n",
      "\n",
      "이러한 내용을 바탕으로 파이썬을 더욱 깊이 있게 학습하실 수 있습니다. 추가적인 자료나 질문이 필요하시면 언제든지 말씀해 주세요!\n",
      "\n",
      "출처: [파이썬 자습서 - 네이버 블로그](https://blog.naver.com/PostView.naver?blogId=nabilera1&logNo=223695637384)\n"
     ]
    }
   ],
   "source": [
    "# 이벤트 스트림 생성\n",
    "events = graph.stream(\n",
    "    {\n",
    "        \"messages\": (\n",
    "            \"user\",\n",
    "            \"내가 지금까지 배운 내용에 대해서 매우 친절하고 정성스럽게 한국어로 답변해줘! 출처를 반드시 포함해줘!\",\n",
    "        )\n",
    "    },\n",
    "    config,\n",
    "    stream_mode=\"values\",\n",
    ")\n",
    "\n",
    "# 메시지 이벤트 처리\n",
    "for event in events:\n",
    "    print('[event] 전체')\n",
    "    print(event)\n",
    "    print()\n",
    "    \n",
    "    if \"messages\" in event:\n",
    "        event[\"messages\"][-1].pretty_print()"
   ]
  },
  {
   "cell_type": "code",
   "execution_count": 140,
   "metadata": {},
   "outputs": [
    {
     "name": "stdout",
     "output_type": "stream",
     "text": [
      "==================================\u001b[1m Ai Message \u001b[0m==================================\n",
      "\n",
      "물론입니다! 지금까지 배운 내용을 정리해드리겠습니다.\n",
      "\n",
      "1. **파이썬의 기본 개념**: 파이썬은 간결하고 읽기 쉬운 문법을 가진 프로그래밍 언어로, 초보자에게 적합합니다. 변수, 데이터 타입, 조건문, 반복문 등의 기본 개념을 익히는 것이 중요합니다.\n",
      "\n",
      "2. **함수와 모듈**: 파이썬에서는 함수를 정의하여 코드의 재사용성을 높일 수 있습니다. 또한, 다양한 모듈을 활용하여 기능을 확장할 수 있습니다.\n",
      "\n",
      "3. **자료구조**: 리스트, 튜플, 딕셔너리, 집합 등의 자료구조를 이해하고 활용하는 것이 중요합니다. 이를 통해 데이터를 효율적으로 관리할 수 있습니다.\n",
      "\n",
      "4. **객체지향 프로그래밍**: 파이썬은 객체지향 프로그래밍(OOP)을 지원합니다. 클래스와 객체의 개념을 이해하고, 이를 활용하여 코드를 구조화할 수 있습니다.\n",
      "\n",
      "5. **라이브러리와 프레임워크**: 파이썬은 다양한 라이브러리와 프레임워크를 제공합니다. 예를 들어, 데이터 분석을 위한 Pandas, 웹 개발을 위한 Django 등이 있습니다.\n",
      "\n",
      "이러한 내용을 바탕으로 파이썬을 더욱 깊이 있게 학습하실 수 있습니다. 추가적인 자료나 질문이 필요하시면 언제든지 말씀해 주세요!\n",
      "\n",
      "출처: [파이썬 자습서 - 네이버 블로그](https://blog.naver.com/PostView.naver?blogId=nabilera1&logNo=223695637384)\n"
     ]
    }
   ],
   "source": [
    "graph.get_state(config).values[\"messages\"][-1].pretty_print()"
   ]
  },
  {
   "cell_type": "code",
   "execution_count": 141,
   "metadata": {},
   "outputs": [
    {
     "name": "stdout",
     "output_type": "stream",
     "text": [
      "run-b37c0bfb-4426-4765-be57-4b921861d689-0\n",
      "메시지 수:  6 다음 노드:  ()\n",
      "--------------------------------------------------------------------------------\n",
      "8b147c87-208f-4950-bea9-6c6c0c353783\n",
      "메시지 수:  5 다음 노드:  ('chatbot',)\n",
      "--------------------------------------------------------------------------------\n",
      "run-632bbd3d-3715-4f42-b3ca-4d524503b202-0\n",
      "메시지 수:  4 다음 노드:  ('__start__',)\n",
      "--------------------------------------------------------------------------------\n",
      "run-632bbd3d-3715-4f42-b3ca-4d524503b202-0\n",
      "메시지 수:  4 다음 노드:  ()\n",
      "--------------------------------------------------------------------------------\n",
      "4faeacbb-3bff-4054-a42d-bdb120d1c562\n",
      "메시지 수:  3 다음 노드:  ('chatbot',)\n",
      "--------------------------------------------------------------------------------\n",
      "run-4dbf3c4f-7e92-4e24-9075-4388d7c91a26-0\n",
      "메시지 수:  2 다음 노드:  ('tools',)\n",
      "--------------------------------------------------------------------------------\n",
      "run-4dbf3c4f-7e92-4e24-9075-4388d7c91a26-0\n",
      "메시지 수:  2 다음 노드:  ('tools',)\n",
      "--------------------------------------------------------------------------------\n",
      "2755733d-a3e4-4d18-b693-2197f1a19ad3\n",
      "메시지 수:  1 다음 노드:  ('chatbot',)\n",
      "--------------------------------------------------------------------------------\n"
     ]
    }
   ],
   "source": [
    "to_replay_state = None\n",
    "\n",
    "# 상태 기록 가져오기\n",
    "for state in graph.get_state_history(config):\n",
    "\n",
    "    messages = state.values[\"messages\"]\n",
    "\n",
    "    if len(messages) > 0:\n",
    "        print(state.values[\"messages\"][-1].id)\n",
    "        # 메시지 수 및 다음 상태 출력\n",
    "        print(\"메시지 수: \", len(state.values[\"messages\"]), \"다음 노드: \", state.next)\n",
    "        print(\"-\" * 80)\n",
    "        # 특정 상태 선택 기준: 채팅 메시지 수\n",
    "        if len(state.values[\"messages\"]) == 2:\n",
    "            # 특정 메시지 ID 선택\n",
    "            to_replay_state = state"
   ]
  },
  {
   "cell_type": "code",
   "execution_count": 142,
   "metadata": {},
   "outputs": [
    {
     "data": {
      "text/plain": [
       "StateSnapshot(values={'messages': [HumanMessage(content='파이썬에 대해서 배워보고 싶습니다. 유용한 자료를 추천해 주세요!', additional_kwargs={}, response_metadata={}, id='2755733d-a3e4-4d18-b693-2197f1a19ad3'), AIMessage(content='', additional_kwargs={'tool_calls': [{'id': 'call_DZt4GA0ZcEb8tcZZLNQ9Il3n', 'function': {'arguments': '{\"query\":\"파이썬 학습 자료 추천\"}', 'name': 'tavily_web_search'}, 'type': 'function'}], 'refusal': None}, response_metadata={'token_usage': {'completion_tokens': 25, 'prompt_tokens': 112, 'total_tokens': 137, 'completion_tokens_details': {'accepted_prediction_tokens': 0, 'audio_tokens': 0, 'reasoning_tokens': 0, 'rejected_prediction_tokens': 0}, 'prompt_tokens_details': {'audio_tokens': 0, 'cached_tokens': 0}}, 'model_name': 'gpt-4o-mini-2024-07-18', 'system_fingerprint': 'fp_709714d124', 'finish_reason': 'tool_calls', 'logprobs': None}, id='run-4dbf3c4f-7e92-4e24-9075-4388d7c91a26-0', tool_calls=[{'name': 'tavily_web_search', 'args': {'query': '파이썬 학습 자료 추천'}, 'id': 'call_DZt4GA0ZcEb8tcZZLNQ9Il3n', 'type': 'tool_call'}], usage_metadata={'input_tokens': 112, 'output_tokens': 25, 'total_tokens': 137, 'input_token_details': {'audio': 0, 'cache_read': 0}, 'output_token_details': {'audio': 0, 'reasoning': 0}})]}, next=('tools',), config={'configurable': {'thread_id': 'cba738', 'checkpoint_ns': '', 'checkpoint_id': '1eff32ee-ae93-69eb-8001-43903556eb96'}}, metadata={'source': 'loop', 'writes': {'chatbot': {'messages': [AIMessage(content='', additional_kwargs={'tool_calls': [{'id': 'call_DZt4GA0ZcEb8tcZZLNQ9Il3n', 'function': {'arguments': '{\"query\":\"파이썬 학습 자료 추천\"}', 'name': 'tavily_web_search'}, 'type': 'function'}], 'refusal': None}, response_metadata={'token_usage': {'completion_tokens': 25, 'prompt_tokens': 112, 'total_tokens': 137, 'completion_tokens_details': {'accepted_prediction_tokens': 0, 'audio_tokens': 0, 'reasoning_tokens': 0, 'rejected_prediction_tokens': 0}, 'prompt_tokens_details': {'audio_tokens': 0, 'cached_tokens': 0}}, 'model_name': 'gpt-4o-mini-2024-07-18', 'system_fingerprint': 'fp_709714d124', 'finish_reason': 'tool_calls', 'logprobs': None}, id='run-4dbf3c4f-7e92-4e24-9075-4388d7c91a26-0', tool_calls=[{'name': 'tavily_web_search', 'args': {'query': '파이썬 학습 자료 추천'}, 'id': 'call_DZt4GA0ZcEb8tcZZLNQ9Il3n', 'type': 'tool_call'}], usage_metadata={'input_tokens': 112, 'output_tokens': 25, 'total_tokens': 137, 'input_token_details': {'audio': 0, 'cache_read': 0}, 'output_token_details': {'audio': 0, 'reasoning': 0}})]}}, 'thread_id': 'cba738', 'step': 1, 'parents': {}}, created_at='2025-02-25T04:13:50.697316+00:00', parent_config={'configurable': {'thread_id': 'cba738', 'checkpoint_ns': '', 'checkpoint_id': '1eff32ee-a5e0-6a73-8000-234ca01e8486'}}, tasks=(PregelTask(id='a60a2dff-7512-7d93-e6b9-8a7c9fb5f368', name='tools', path=('__pregel_pull', 'tools'), error=None, interrupts=(), state=None, result=None),))"
      ]
     },
     "execution_count": 142,
     "metadata": {},
     "output_type": "execute_result"
    }
   ],
   "source": [
    "to_replay_state"
   ]
  },
  {
   "cell_type": "code",
   "execution_count": 146,
   "metadata": {},
   "outputs": [
    {
     "name": "stdout",
     "output_type": "stream",
     "text": [
      "content='' additional_kwargs={'tool_calls': [{'id': 'call_DZt4GA0ZcEb8tcZZLNQ9Il3n', 'function': {'arguments': '{\"query\":\"파이썬 학습 자료 추천\"}', 'name': 'tavily_web_search'}, 'type': 'function'}], 'refusal': None} response_metadata={'token_usage': {'completion_tokens': 25, 'prompt_tokens': 112, 'total_tokens': 137, 'completion_tokens_details': {'accepted_prediction_tokens': 0, 'audio_tokens': 0, 'reasoning_tokens': 0, 'rejected_prediction_tokens': 0}, 'prompt_tokens_details': {'audio_tokens': 0, 'cached_tokens': 0}}, 'model_name': 'gpt-4o-mini-2024-07-18', 'system_fingerprint': 'fp_709714d124', 'finish_reason': 'tool_calls', 'logprobs': None} id='run-4dbf3c4f-7e92-4e24-9075-4388d7c91a26-0' tool_calls=[{'name': 'tavily_web_search', 'args': {'query': '파이썬 학습 자료 추천'}, 'id': 'call_DZt4GA0ZcEb8tcZZLNQ9Il3n', 'type': 'tool_call'}] usage_metadata={'input_tokens': 112, 'output_tokens': 25, 'total_tokens': 137, 'input_token_details': {'audio': 0, 'cache_read': 0}, 'output_token_details': {'audio': 0, 'reasoning': 0}}\n",
      "\n",
      "    \u001b[93mcontent\u001b[0m: \"\"\n",
      "    \u001b[93madditional_kwargs\u001b[0m:\n",
      "        \u001b[94mtool_calls\u001b[0m:\n",
      "            \u001b[94mindex [0]\u001b[0m\n",
      "                \u001b[92mid\u001b[0m: \"call_DZt4GA0ZcEb8tcZZLNQ9Il3n\"\n",
      "                \u001b[92mfunction\u001b[0m: {\"arguments\": \"{\"query\":\"파이썬 학습 자료 추천\"}\", \"name\": \"tavily_web_search\"}\n",
      "                \u001b[92mtype\u001b[0m: \"function\"\n",
      "        \u001b[94mrefusal\u001b[0m: None\n",
      "    \u001b[93mresponse_metadata\u001b[0m:\n",
      "        \u001b[94mtoken_usage\u001b[0m:\n",
      "            \u001b[95mcompletion_tokens\u001b[0m: 25\n",
      "            \u001b[95mprompt_tokens\u001b[0m: 112\n",
      "            \u001b[95mtotal_tokens\u001b[0m: 137\n",
      "            \u001b[95mcompletion_tokens_details\u001b[0m: {\"accepted_prediction_tokens\": 0, \"audio_tokens\": 0, \"reasoning_tokens\": 0, \"rejected_prediction_tokens\": 0}\n",
      "            \u001b[95mprompt_tokens_details\u001b[0m: {\"audio_tokens\": 0, \"cached_tokens\": 0}\n",
      "        \u001b[94mmodel_name\u001b[0m: \"gpt-4o-mini-2024-07-18\"\n",
      "        \u001b[94msystem_fingerprint\u001b[0m: \"fp_709714d124\"\n",
      "        \u001b[94mfinish_reason\u001b[0m: \"tool_calls\"\n",
      "        \u001b[94mlogprobs\u001b[0m: None\n",
      "    \u001b[93mtype\u001b[0m: \"ai\"\n",
      "    \u001b[93mname\u001b[0m: None\n",
      "    \u001b[93mid\u001b[0m: \"run-4dbf3c4f-7e92-4e24-9075-4388d7c91a26-0\"\n",
      "    \u001b[93mexample\u001b[0m: False\n",
      "    \u001b[93mtool_calls\u001b[0m:\n",
      "        \u001b[93mindex [0]\u001b[0m\n",
      "            \u001b[95mname\u001b[0m: \"tavily_web_search\"\n",
      "            \u001b[95margs\u001b[0m: {\"query\": \"파이썬 학습 자료 추천\"}\n",
      "            \u001b[95mid\u001b[0m: \"call_DZt4GA0ZcEb8tcZZLNQ9Il3n\"\n",
      "            \u001b[95mtype\u001b[0m: \"tool_call\"\n",
      "    \u001b[93minvalid_tool_calls\u001b[0m:\n",
      "    \u001b[93musage_metadata\u001b[0m:\n",
      "        \u001b[94minput_tokens\u001b[0m: 112\n",
      "        \u001b[94moutput_tokens\u001b[0m: 25\n",
      "        \u001b[94mtotal_tokens\u001b[0m: 137\n",
      "        \u001b[94minput_token_details\u001b[0m: {\"audio\": 0, \"cache_read\": 0}\n",
      "        \u001b[94moutput_token_details\u001b[0m: {\"audio\": 0, \"reasoning\": 0}\n"
     ]
    }
   ],
   "source": [
    "from langchain_teddynote.messages import display_message_tree\n",
    "\n",
    "# 선택한 메시지 가져오기\n",
    "existing_message = to_replay_state.values[\"messages\"][-1]\n",
    "print(existing_message)\n",
    "print()\n",
    "\n",
    "# 메시지 트리 출력\n",
    "display_message_tree(existing_message)"
   ]
  },
  {
   "cell_type": "code",
   "execution_count": 147,
   "metadata": {},
   "outputs": [
    {
     "data": {
      "text/plain": [
       "{'name': 'tavily_web_search',\n",
       " 'args': {'query': 'LangGraph human-in-the-loop workflow site:reddit.com'},\n",
       " 'id': 'call_DZt4GA0ZcEb8tcZZLNQ9Il3n',\n",
       " 'type': 'tool_call'}"
      ]
     },
     "execution_count": 147,
     "metadata": {},
     "output_type": "execute_result"
    }
   ],
   "source": [
    "tool_call = existing_message.tool_calls[0].copy()\n",
    "tool_call[\"args\"] = {\"query\": \"LangGraph human-in-the-loop workflow site:reddit.com\"}\n",
    "tool_call"
   ]
  },
  {
   "cell_type": "code",
   "execution_count": 149,
   "metadata": {},
   "outputs": [
    {
     "data": {
      "text/plain": [
       "{'query': 'LangGraph human-in-the-loop workflow site:reddit.com'}"
      ]
     },
     "execution_count": 149,
     "metadata": {},
     "output_type": "execute_result"
    }
   ],
   "source": [
    "new_message = AIMessage(                    # AIMessage 생성\n",
    "    content=existing_message.content,\n",
    "    tool_calls=[tool_call],    \n",
    "    id=existing_message.id,                 # 중요! ID는 메시지를 상태에 추가하는 대신 교체하는 방법\n",
    ")\n",
    "\n",
    "# 수정한 메시지 출력\n",
    "new_message.tool_calls[0][\"args\"]"
   ]
  },
  {
   "cell_type": "code",
   "execution_count": 150,
   "metadata": {},
   "outputs": [
    {
     "data": {
      "text/plain": [
       "[{'name': 'tavily_web_search',\n",
       "  'args': {'query': '파이썬 학습 자료 추천'},\n",
       "  'id': 'call_DZt4GA0ZcEb8tcZZLNQ9Il3n',\n",
       "  'type': 'tool_call'}]"
      ]
     },
     "execution_count": 150,
     "metadata": {},
     "output_type": "execute_result"
    }
   ],
   "source": [
    "# 업데이트 전 메시지 확인\n",
    "graph.get_state(to_replay_state.config).values[\"messages\"][-1].tool_calls"
   ]
  },
  {
   "cell_type": "code",
   "execution_count": 151,
   "metadata": {},
   "outputs": [
    {
     "data": {
      "text/plain": [
       "{'configurable': {'thread_id': 'cba738',\n",
       "  'checkpoint_ns': '',\n",
       "  'checkpoint_id': '1eff3318-306a-6c03-8002-ed5fddedd1b2'}}"
      ]
     },
     "execution_count": 151,
     "metadata": {},
     "output_type": "execute_result"
    }
   ],
   "source": [
    "# 상태 업데이트\n",
    "updated_state = graph.update_state(\n",
    "    to_replay_state.config,\n",
    "    {\"messages\": [new_message]},\n",
    ")\n",
    "\n",
    "updated_state"
   ]
  },
  {
   "cell_type": "code",
   "execution_count": 152,
   "metadata": {},
   "outputs": [
    {
     "name": "stdout",
     "output_type": "stream",
     "text": [
      "[event] 전체\n",
      "{'messages': [HumanMessage(content='파이썬에 대해서 배워보고 싶습니다. 유용한 자료를 추천해 주세요!', additional_kwargs={}, response_metadata={}, id='2755733d-a3e4-4d18-b693-2197f1a19ad3'), AIMessage(content='', additional_kwargs={}, response_metadata={}, id='run-4dbf3c4f-7e92-4e24-9075-4388d7c91a26-0', tool_calls=[{'name': 'tavily_web_search', 'args': {'query': 'LangGraph human-in-the-loop workflow site:reddit.com'}, 'id': 'call_DZt4GA0ZcEb8tcZZLNQ9Il3n', 'type': 'tool_call'}])]}\n",
      "\n",
      "==================================\u001b[1m Ai Message \u001b[0m==================================\n",
      "Tool Calls:\n",
      "  tavily_web_search (call_DZt4GA0ZcEb8tcZZLNQ9Il3n)\n",
      " Call ID: call_DZt4GA0ZcEb8tcZZLNQ9Il3n\n",
      "  Args:\n",
      "    query: LangGraph human-in-the-loop workflow site:reddit.com\n",
      "[event] 전체\n",
      "{'messages': [HumanMessage(content='파이썬에 대해서 배워보고 싶습니다. 유용한 자료를 추천해 주세요!', additional_kwargs={}, response_metadata={}, id='2755733d-a3e4-4d18-b693-2197f1a19ad3'), AIMessage(content='', additional_kwargs={}, response_metadata={}, id='run-4dbf3c4f-7e92-4e24-9075-4388d7c91a26-0', tool_calls=[{'name': 'tavily_web_search', 'args': {'query': 'LangGraph human-in-the-loop workflow site:reddit.com'}, 'id': 'call_DZt4GA0ZcEb8tcZZLNQ9Il3n', 'type': 'tool_call'}]), ToolMessage(content='[{\"title\": \"Human intervention in agent workflows : r/LangChain - Reddit\", \"url\": \"https://www.reddit.com/r/LangChain/comments/1bjnmu4/human_intervention_in_agent_workflows/\", \"content\": \"Reddit - Dive into anything Open menu Open navigation  Go to Reddit Home Go to LangChain r/LangChain r/LangChain When building LLM workflows with LangChain/LangGraph what\\'s the best way to build a node in the workflow where a human can validate/approve/reject a flow? Top Posts Reddit Reddit Reddit Action Movies & Series Animated Movies & Series Comedy Movies & Series Crime, Mystery, & Thriller Movies & Series Documentary Movies & Series Drama Movies & Series Fantasy Movies & Series Horror Movies & Series Movie News & Discussion Reality TV Romance Movies & Series Sci-Fi Movies & Series Superhero Movies & Series*   TV News & Discussion Communities Best of Reddit Topics Reddit Rules Privacy Policy User Agreement Reddit, Inc.\", \"score\": 0.65359193, \"raw_content\": null}]', name='tavily_web_search', id='89b6c5b6-c5f9-4dca-bb64-d73a5b5db599', tool_call_id='call_DZt4GA0ZcEb8tcZZLNQ9Il3n')]}\n",
      "\n",
      "=================================\u001b[1m Tool Message \u001b[0m=================================\n",
      "Name: tavily_web_search\n",
      "\n",
      "[{\"title\": \"Human intervention in agent workflows : r/LangChain - Reddit\", \"url\": \"https://www.reddit.com/r/LangChain/comments/1bjnmu4/human_intervention_in_agent_workflows/\", \"content\": \"Reddit - Dive into anything Open menu Open navigation  Go to Reddit Home Go to LangChain r/LangChain r/LangChain When building LLM workflows with LangChain/LangGraph what's the best way to build a node in the workflow where a human can validate/approve/reject a flow? Top Posts Reddit Reddit Reddit Action Movies & Series Animated Movies & Series Comedy Movies & Series Crime, Mystery, & Thriller Movies & Series Documentary Movies & Series Drama Movies & Series Fantasy Movies & Series Horror Movies & Series Movie News & Discussion Reality TV Romance Movies & Series Sci-Fi Movies & Series Superhero Movies & Series*   TV News & Discussion Communities Best of Reddit Topics Reddit Rules Privacy Policy User Agreement Reddit, Inc.\", \"score\": 0.65359193, \"raw_content\": null}]\n",
      "=================================================================================\n",
      "chatbot() 실행\n",
      "\n",
      "[1] state[messages]: \n",
      "[HumanMessage(content='파이썬에 대해서 배워보고 싶습니다. 유용한 자료를 추천해 주세요!', additional_kwargs={}, response_metadata={}, id='2755733d-a3e4-4d18-b693-2197f1a19ad3'), AIMessage(content='', additional_kwargs={}, response_metadata={}, id='run-4dbf3c4f-7e92-4e24-9075-4388d7c91a26-0', tool_calls=[{'name': 'tavily_web_search', 'args': {'query': 'LangGraph human-in-the-loop workflow site:reddit.com'}, 'id': 'call_DZt4GA0ZcEb8tcZZLNQ9Il3n', 'type': 'tool_call'}]), ToolMessage(content='[{\"title\": \"Human intervention in agent workflows : r/LangChain - Reddit\", \"url\": \"https://www.reddit.com/r/LangChain/comments/1bjnmu4/human_intervention_in_agent_workflows/\", \"content\": \"Reddit - Dive into anything Open menu Open navigation  Go to Reddit Home Go to LangChain r/LangChain r/LangChain When building LLM workflows with LangChain/LangGraph what\\'s the best way to build a node in the workflow where a human can validate/approve/reject a flow? Top Posts Reddit Reddit Reddit Action Movies & Series Animated Movies & Series Comedy Movies & Series Crime, Mystery, & Thriller Movies & Series Documentary Movies & Series Drama Movies & Series Fantasy Movies & Series Horror Movies & Series Movie News & Discussion Reality TV Romance Movies & Series Sci-Fi Movies & Series Superhero Movies & Series*   TV News & Discussion Communities Best of Reddit Topics Reddit Rules Privacy Policy User Agreement Reddit, Inc.\", \"score\": 0.65359193, \"raw_content\": null}]', name='tavily_web_search', id='89b6c5b6-c5f9-4dca-bb64-d73a5b5db599', tool_call_id='call_DZt4GA0ZcEb8tcZZLNQ9Il3n')]\n",
      "\n",
      "[2] chatbot answer: \n",
      " \n",
      "[3] answer.additional_kwargs: \n",
      " {'tool_calls': [{'id': 'call_HyLhnw2rCCF44dnMZOVFVmqs', 'function': {'arguments': '{\"query\":\"파이썬 학습 자료 추천\"}', 'name': 'tavily_web_search'}, 'type': 'function'}], 'refusal': None}\n",
      "=================================================================================\n",
      "[event] 전체\n",
      "{'messages': [HumanMessage(content='파이썬에 대해서 배워보고 싶습니다. 유용한 자료를 추천해 주세요!', additional_kwargs={}, response_metadata={}, id='2755733d-a3e4-4d18-b693-2197f1a19ad3'), AIMessage(content='', additional_kwargs={}, response_metadata={}, id='run-4dbf3c4f-7e92-4e24-9075-4388d7c91a26-0', tool_calls=[{'name': 'tavily_web_search', 'args': {'query': 'LangGraph human-in-the-loop workflow site:reddit.com'}, 'id': 'call_DZt4GA0ZcEb8tcZZLNQ9Il3n', 'type': 'tool_call'}]), ToolMessage(content='[{\"title\": \"Human intervention in agent workflows : r/LangChain - Reddit\", \"url\": \"https://www.reddit.com/r/LangChain/comments/1bjnmu4/human_intervention_in_agent_workflows/\", \"content\": \"Reddit - Dive into anything Open menu Open navigation  Go to Reddit Home Go to LangChain r/LangChain r/LangChain When building LLM workflows with LangChain/LangGraph what\\'s the best way to build a node in the workflow where a human can validate/approve/reject a flow? Top Posts Reddit Reddit Reddit Action Movies & Series Animated Movies & Series Comedy Movies & Series Crime, Mystery, & Thriller Movies & Series Documentary Movies & Series Drama Movies & Series Fantasy Movies & Series Horror Movies & Series Movie News & Discussion Reality TV Romance Movies & Series Sci-Fi Movies & Series Superhero Movies & Series*   TV News & Discussion Communities Best of Reddit Topics Reddit Rules Privacy Policy User Agreement Reddit, Inc.\", \"score\": 0.65359193, \"raw_content\": null}]', name='tavily_web_search', id='89b6c5b6-c5f9-4dca-bb64-d73a5b5db599', tool_call_id='call_DZt4GA0ZcEb8tcZZLNQ9Il3n'), AIMessage(content='', additional_kwargs={'tool_calls': [{'id': 'call_HyLhnw2rCCF44dnMZOVFVmqs', 'function': {'arguments': '{\"query\":\"파이썬 학습 자료 추천\"}', 'name': 'tavily_web_search'}, 'type': 'function'}], 'refusal': None}, response_metadata={'token_usage': {'completion_tokens': 25, 'prompt_tokens': 362, 'total_tokens': 387, 'completion_tokens_details': {'accepted_prediction_tokens': 0, 'audio_tokens': 0, 'reasoning_tokens': 0, 'rejected_prediction_tokens': 0}, 'prompt_tokens_details': {'audio_tokens': 0, 'cached_tokens': 0}}, 'model_name': 'gpt-4o-mini-2024-07-18', 'system_fingerprint': 'fp_709714d124', 'finish_reason': 'tool_calls', 'logprobs': None}, id='run-2b1a5550-3a69-4269-a7d6-6eb0b7b95af8-0', tool_calls=[{'name': 'tavily_web_search', 'args': {'query': '파이썬 학습 자료 추천'}, 'id': 'call_HyLhnw2rCCF44dnMZOVFVmqs', 'type': 'tool_call'}], usage_metadata={'input_tokens': 362, 'output_tokens': 25, 'total_tokens': 387, 'input_token_details': {'audio': 0, 'cache_read': 0}, 'output_token_details': {'audio': 0, 'reasoning': 0}})]}\n",
      "\n",
      "==================================\u001b[1m Ai Message \u001b[0m==================================\n",
      "Tool Calls:\n",
      "  tavily_web_search (call_HyLhnw2rCCF44dnMZOVFVmqs)\n",
      " Call ID: call_HyLhnw2rCCF44dnMZOVFVmqs\n",
      "  Args:\n",
      "    query: 파이썬 학습 자료 추천\n",
      "[event] 전체\n",
      "{'messages': [HumanMessage(content='파이썬에 대해서 배워보고 싶습니다. 유용한 자료를 추천해 주세요!', additional_kwargs={}, response_metadata={}, id='2755733d-a3e4-4d18-b693-2197f1a19ad3'), AIMessage(content='', additional_kwargs={}, response_metadata={}, id='run-4dbf3c4f-7e92-4e24-9075-4388d7c91a26-0', tool_calls=[{'name': 'tavily_web_search', 'args': {'query': 'LangGraph human-in-the-loop workflow site:reddit.com'}, 'id': 'call_DZt4GA0ZcEb8tcZZLNQ9Il3n', 'type': 'tool_call'}]), ToolMessage(content='[{\"title\": \"Human intervention in agent workflows : r/LangChain - Reddit\", \"url\": \"https://www.reddit.com/r/LangChain/comments/1bjnmu4/human_intervention_in_agent_workflows/\", \"content\": \"Reddit - Dive into anything Open menu Open navigation  Go to Reddit Home Go to LangChain r/LangChain r/LangChain When building LLM workflows with LangChain/LangGraph what\\'s the best way to build a node in the workflow where a human can validate/approve/reject a flow? Top Posts Reddit Reddit Reddit Action Movies & Series Animated Movies & Series Comedy Movies & Series Crime, Mystery, & Thriller Movies & Series Documentary Movies & Series Drama Movies & Series Fantasy Movies & Series Horror Movies & Series Movie News & Discussion Reality TV Romance Movies & Series Sci-Fi Movies & Series Superhero Movies & Series*   TV News & Discussion Communities Best of Reddit Topics Reddit Rules Privacy Policy User Agreement Reddit, Inc.\", \"score\": 0.65359193, \"raw_content\": null}]', name='tavily_web_search', id='89b6c5b6-c5f9-4dca-bb64-d73a5b5db599', tool_call_id='call_DZt4GA0ZcEb8tcZZLNQ9Il3n'), AIMessage(content='', additional_kwargs={'tool_calls': [{'id': 'call_HyLhnw2rCCF44dnMZOVFVmqs', 'function': {'arguments': '{\"query\":\"파이썬 학습 자료 추천\"}', 'name': 'tavily_web_search'}, 'type': 'function'}], 'refusal': None}, response_metadata={'token_usage': {'completion_tokens': 25, 'prompt_tokens': 362, 'total_tokens': 387, 'completion_tokens_details': {'accepted_prediction_tokens': 0, 'audio_tokens': 0, 'reasoning_tokens': 0, 'rejected_prediction_tokens': 0}, 'prompt_tokens_details': {'audio_tokens': 0, 'cached_tokens': 0}}, 'model_name': 'gpt-4o-mini-2024-07-18', 'system_fingerprint': 'fp_709714d124', 'finish_reason': 'tool_calls', 'logprobs': None}, id='run-2b1a5550-3a69-4269-a7d6-6eb0b7b95af8-0', tool_calls=[{'name': 'tavily_web_search', 'args': {'query': '파이썬 학습 자료 추천'}, 'id': 'call_HyLhnw2rCCF44dnMZOVFVmqs', 'type': 'tool_call'}], usage_metadata={'input_tokens': 362, 'output_tokens': 25, 'total_tokens': 387, 'input_token_details': {'audio': 0, 'cache_read': 0}, 'output_token_details': {'audio': 0, 'reasoning': 0}}), ToolMessage(content='[{\"title\": \"파이썬 독학자를 위한 최고의 학습 자료 추천\", \"url\": \"https://ackbarix.tistory.com/597\", \"content\": \"파이썬 독학에 필요한 최고의 자료를 찾고 계신가요? 초보부터 경험자까지 추천하는 학습 자료와 유용한 팁을 확인하고 지금 바로 파이썬 마스터의 길로! 파이썬을 혼자 배우고 싶은 분들을 위한 최고의 학습 자료와 가이드를 소개합니다. 독학으로도 파이썬을 마스터할 수 있는 비법을\", \"score\": 0.8047902, \"raw_content\": \"직월프\\\\n\\\\n카테고리\\\\n\\\\n최근 글\\\\n\\\\n인기 글\\\\n\\\\n파이썬 독학자를 위한 최고의 학습 자료 추천\\\\n\\\\n파이썬 독학에 필요한 최고의 자료를 찾고 계신가요? 초보부터 경험자까지 추천하는 학습 자료와 유용한 팁을 확인하고 지금 바로 파이썬 마스터의 길로! 파이썬을\\xa0혼자\\xa0배우고\\xa0싶은\\xa0분들을\\xa0위한\\xa0최고의\\xa0학습\\xa0자료와\\xa0가이드를\\xa0소개합니다.\\xa0독학으로도\\xa0파이썬을\\xa0마스터할\\xa0수\\xa0있는\\xa0비법을\\xa0알려드립니다.\\\\n\\\\n\\\\n\\\\n파이썬(Python) 독학에 도전하고 계신가요? 웹 개발부터 인공지능까지, 파이썬은 그 가능성이 무궁무진합니다. \\\\\"파이썬은 배우기 쉽고 읽기 쉬운 오픈 소스 언어로, 인터넷에서 많은 자료와 소스 코드를 찾아볼 수 있습니다.\\\\\" 이 글을 통해 여러분의 파이썬 독학 여정에 필요한 최고의 학습 자료를 추천해드리겠습니다!\\\\n\\\\n\\\\n\\\\n1.\\xa0파이썬\\xa0독학의\\xa0가능성\\\\n\\\\n파이썬은 다양한 분야에서 활용되는 강력한 프로그래밍 언어입니다. 웹 개발, 데이터 분석, 인공 지능, 기계 학습 등 현대 기술의 많은 영역에서 파이썬의 역할이 중요해지고 있죠. 파이썬은 그 구조가 직관적이고, 배우기 쉬운 언어로 알려져 있어, 프로그래밍 입문자들에게도 큰 인기를 얻고 있습니다. 오픈 소스 언어로서의 파이썬은 방대한 커뮤니티를 통해 지속적으로 발전하고 있으며, 이는 독학자들에게도 큰 장점으로 작용합니다.\\\\n\\\\n1.1.\\xa0파이썬\\xa0활용\\xa0분야\\\\n\\\\n파이썬은 그 활용도가 매우 넓어, 웹 사이트 백엔드 개발부터 데이터 과학, 인공 지능 개발에 이르기까지 다양한 분야에서 쓰입니다. 간단한 스크립트 작성부터 복잡한 시스템 개발까지, 파이썬은 유연성을 자랑합니다. 이러한 다양한 활용 분야를 이해하는 것은 파이썬 학습의 동기를 부여하고, 실제 프로젝트에 적용할 수 있는 실력을 길러줍니다.\\\\n\\\\n1.2. 오픈 소스 언어로서의 장점\\\\n\\\\n파이썬은\\xa0오픈\\xa0소스\\xa0언어이기\\xa0때문에\\xa0전\\xa0세계\\xa0개발자들이\\xa0자유롭게\\xa0사용하고,\\xa0개선할\\xa0수\\xa0있습니다.\\xa0이로\\xa0인해\\xa0다양한\\xa0라이브러리와\\xa0프레임워크가\\xa0개발되었고,\\xa0이는\\xa0독학자들이\\xa0필요한\\xa0기능을\\xa0쉽게\\xa0구현할\\xa0수\\xa0있게\\xa0해줍니다.\\xa0또한,\\xa0오픈\\xa0소스\\xa0커뮤니티는\\xa0학습\\xa0자료와\\xa0지원을\\xa0제공하는\\xa0훌륭한\\xa0장소이기도\\xa0합니다.\\\\n\\\\n1.3.\\xa0구글링을\\xa0통한\\xa0소스\\xa0코드\\xa0학습\\\\n\\\\n파이썬을 배우는 데 있어 구글링은 필수적인 기술입니다. 인터넷에는 수많은 파이썬 예제 코드와 튜토리얼이 존재하며, 이를 통해 다양한 문제를 해결하는 방법을 배울 수 있습니다. 실제 코드를 보고 분석하며 따라 해보는 것은 학습 과정에서 매우 중요한 부분입니다.\\\\n\\\\n2. 파이썬 독학 : 대중적인 프로그래밍 언어에 대한 연습과 강의\\\\n\\\\n파이썬 독학을 위한 자료는 인터넷 상에 무궁무진합니다. 유튜브, 코세라(Coursera), 에듀레카(Edureka)와 같은 온라인 플랫폼들은 무료로 접근할 수 있는 고품질의 강의를 제공하고 있습니다. 이러한 강의들은 파이썬의 기본 개념부터 고급 주제까지 다루고 있어, 모든 수준의 학습자에게 적합합니다.\\\\n\\\\n2.1. 온라인 플랫폼을 통한 무료 강의 접근\\\\n\\\\n온라인 교육 플랫폼들은 다양한 파이썬 강의를 무료, 혹은 저렴한 가격에 제공합니다. 이러한 강의들은 전문 강사들에 의해 제작되어, 체계적인 학습이 가능하도록 구성되어 있습니다. 독학자들은 자신의 학습 속도에 맞춰 강의를 듣고, 실습을 할 수 있습니다.\\\\n\\\\n2.2. 코딩 도장을 활용한 실력 향상\\\\n\\\\n코딩 도장(Coding Dojo)과 같은 실습 중심의 사이트들은 파이썬 실력을 향상시키기에 아주 좋은 도구입니다. 이러한 사이트들은 다양한 난이도의 문제를 제공하며, 학습자가 직접 코드를 작성하고 테스트할 수 있는 환경을 제공합니다. 문제 해결 과정에서 발생하는 오류를 해결하는 것은 프로그래밍 실력을 한 단계 업그레이드하는 데 도움을 줍니다.\\\\n\\\\n2.3. \\'점프 투 파이썬\\'을 통한 기본 개념 학습\\\\n\\\\n\\'점프 투 파이썬(Jump to Python)\\'과 같은 책은 파이썬의 기본 개념과 문법을 이해하는 데 큰 도움을 줍니다. 이 책은 초보자도 쉽게 이해할 수 있도록 구성되어 있으며, 기초부터 차근차근 학습할 수 있도록 도와줍니다. 책에 포함된 예제를 직접 따라 해보는 것은 이론을 실습으로 연결하는 데 매우 중요합니다.\\\\n\\\\n3. 파이썬 독학을 위한 무료 강의와 코딩 도장\\\\n\\\\n파이썬 학습자들은 자신의 학습 속도를 조절하며, 다양한 자료를 활용하여 독학할 수 있습니다. 무료 강의와 코딩 도장은 학습자가 자신의 실력을 점검하고, 필요한 지식을 쌓을 수 있는 좋은 기회를 제공합니다.\\\\n\\\\n3.1. 학습 속도 조절의 중요성\\\\n\\\\n독학은 자기 주도적 학습이 중요합니다. 학습자는 자신의 이해도와 시간을 고려하여 학습 속도를 조절해야 합니다. 너무 서두르지 않고, 하나의 주제에 대해 충분히 이해하고 넘어가는 것이 중요합니다. 이는 장기적으로 학습 효과를 극대화하는 데 도움이 됩니다.\\\\n\\\\n3.2. 다양한 무료 강의 자료\\\\n\\\\n인터넷 상에는 다양한 무료 파이썬 강의 자료가 있습니다. 이러한 자료들은 학습자가 자신의 수준에 맞는 강의를 선택하여 학습할 수 있도록 돕습니다. 무료 강의 자료를 활용하는 것은 비용 부담 없이 지속적인 학습을 가능하게 합니다.\\\\n\\\\n3.3. 코딩 도장의 이론과 실습 과제\\\\n\\\\n코딩\\xa0도장에서\\xa0제공하는\\xa0이론\\xa0강의와\\xa0실습\\xa0과제는\\xa0이론을\\xa0실제\\xa0코딩으로\\xa0연결하는\\xa0데\\xa0중요 이제\\xa0여러분은\\xa0파이썬\\xa0독학의\\xa0길에\\xa0필요한\\xa0다양한\\xa0학습\\xa0자료를\\xa0알게\\xa0되셨습니다.\\xa0\\'점프\\xa0투\\xa0파이썬\\'으로\\xa0기본을\\xa0다지고,\\xa0온라인\\xa0강의와\\xa0코딩\\xa0도장을\\xa0통해\\xa0실력을\\xa0쌓아가세요.\\xa0구글링으로\\xa0새로운\\xa0문제를\\xa0해결하는\\xa0방법을\\xa0배우며,\\xa0커뮤니티와\\xa0스택\\xa0오버플로우를\\xa0활용해\\xa0지식을\\xa0넓혀가는\\xa0여정을\\xa0시작해보세요.\\xa0여러분의\\xa0파이썬\\xa0마스터가\\xa0되는\\xa0여정에\\xa0응원을\\xa0보냅니다!\\\\n\\\\n\\\\n\\\\n파이썬을 독학할 때 가장 중요한 것은 꾸준한 연습과 실습입니다. 이론만으로는 충분하지 않으며, 실제 코드를 작성하고 문제를 해결해보는 경험이 필요합니다. 처음에는 간단한 프로그램을 작성해보며 기본기를 다지고, 점차 복잡한 프로젝트에 도전하는 것이 좋습니다. 또한,\\xa0온라인\\xa0커뮤니티나\\xa0포럼에\\xa0참여하여\\xa0다른\\xa0학습자들과\\xa0지식을\\xa0공유하는\\xa0것도\\xa0도움이\\xa0됩니다.\\xa0Stack\\xa0Overflow,\\xa0GitHub,\\xa0Reddit의\\xa0Python\\xa0커뮤니티\\xa0등에서\\xa0다른\\xa0개발자들과\\xa0의견을\\xa0나누고,\\xa0새로운\\xa0팁을\\xa0얻을\\xa0수\\xa0있습니다.\\\\n\\\\n이제\\xa0여러분은\\xa0파이썬\\xa0독학의\\xa0길을\\xa0걷기\\xa0위한\\xa0충분한\\xa0정보를\\xa0갖추셨습니다.\\xa0시작은\\xa0\\'점프\\xa0투\\xa0파이썬\\'과\\xa0같은\\xa0기초\\xa0자료로\\xa0기본\\xa0문법을\\xa0익히는\\xa0것에서부터,\\xa0온라인\\xa0강의와\\xa0코딩\\xa0도장을\\xa0통해\\xa0실력을\\xa0쌓아가는\\xa0것까지,\\xa0여러분의\\xa0여정은\\xa0단계별로\\xa0체계적으로\\xa0진행될\\xa0수\\xa0있습니다.\\xa0마지막으로,\\xa0커뮤니티\\xa0참여를\\xa0통해\\xa0지속적으로\\xa0배움을\\xa0실천하고,\\xa0도전적인\\xa0프로젝트에\\xa0참여하여\\xa0실전\\xa0경험을\\xa0쌓아가세요.\\xa0파이썬의\\xa0세계는\\xa0여러분을\\xa0환영합니다.\\xa0화이팅!\\\\n\\\\n\\'IT\\' 카테고리의 다른 글\\\\n\\\\n옵시디언 vs 노션 : 초보자를 위한 선택 가이드(0) | 2024.01.12\\\\niOS 17.2 업데이트: 아이폰 15 프의 혁신적 기능과 사용자 경험 향상(0) | 2023.12.28\\\\nZEUSLAP 말고 ZSUS 15.6인치 휴대용 모니터를 선택하다(1) | 2023.11.14\\\\nUSB-C가 탑재된 애플펜슬(Apple Pencil) 3세대의 디자인, 호환성, 기능, 가격, 출시일 알아보기(1) | 2023.10.18\\\\n당장 할 수 있는 TV, 컴퓨터, 노트북 모니터 청소 방법(0) | 2023.09.25\\\\n태그\\\\n\\\\n볼 만한 글\\\\n\\\\n댓글0\\\\n\\\\n💲 추천 글\\\\n\\\\n\\\\n\\\\n\\\\n\\\\n티스토리툴바\\\\n\\\\n\\\\n\\\\n\"}]', name='tavily_web_search', id='bca996b1-011e-449c-bbb9-f83805e4e457', tool_call_id='call_HyLhnw2rCCF44dnMZOVFVmqs')]}\n",
      "\n",
      "=================================\u001b[1m Tool Message \u001b[0m=================================\n",
      "Name: tavily_web_search\n",
      "\n",
      "[{\"title\": \"파이썬 독학자를 위한 최고의 학습 자료 추천\", \"url\": \"https://ackbarix.tistory.com/597\", \"content\": \"파이썬 독학에 필요한 최고의 자료를 찾고 계신가요? 초보부터 경험자까지 추천하는 학습 자료와 유용한 팁을 확인하고 지금 바로 파이썬 마스터의 길로! 파이썬을 혼자 배우고 싶은 분들을 위한 최고의 학습 자료와 가이드를 소개합니다. 독학으로도 파이썬을 마스터할 수 있는 비법을\", \"score\": 0.8047902, \"raw_content\": \"직월프\\n\\n카테고리\\n\\n최근 글\\n\\n인기 글\\n\\n파이썬 독학자를 위한 최고의 학습 자료 추천\\n\\n파이썬 독학에 필요한 최고의 자료를 찾고 계신가요? 초보부터 경험자까지 추천하는 학습 자료와 유용한 팁을 확인하고 지금 바로 파이썬 마스터의 길로! 파이썬을 혼자 배우고 싶은 분들을 위한 최고의 학습 자료와 가이드를 소개합니다. 독학으로도 파이썬을 마스터할 수 있는 비법을 알려드립니다.\\n\\n\\n\\n파이썬(Python) 독학에 도전하고 계신가요? 웹 개발부터 인공지능까지, 파이썬은 그 가능성이 무궁무진합니다. \\\"파이썬은 배우기 쉽고 읽기 쉬운 오픈 소스 언어로, 인터넷에서 많은 자료와 소스 코드를 찾아볼 수 있습니다.\\\" 이 글을 통해 여러분의 파이썬 독학 여정에 필요한 최고의 학습 자료를 추천해드리겠습니다!\\n\\n\\n\\n1. 파이썬 독학의 가능성\\n\\n파이썬은 다양한 분야에서 활용되는 강력한 프로그래밍 언어입니다. 웹 개발, 데이터 분석, 인공 지능, 기계 학습 등 현대 기술의 많은 영역에서 파이썬의 역할이 중요해지고 있죠. 파이썬은 그 구조가 직관적이고, 배우기 쉬운 언어로 알려져 있어, 프로그래밍 입문자들에게도 큰 인기를 얻고 있습니다. 오픈 소스 언어로서의 파이썬은 방대한 커뮤니티를 통해 지속적으로 발전하고 있으며, 이는 독학자들에게도 큰 장점으로 작용합니다.\\n\\n1.1. 파이썬 활용 분야\\n\\n파이썬은 그 활용도가 매우 넓어, 웹 사이트 백엔드 개발부터 데이터 과학, 인공 지능 개발에 이르기까지 다양한 분야에서 쓰입니다. 간단한 스크립트 작성부터 복잡한 시스템 개발까지, 파이썬은 유연성을 자랑합니다. 이러한 다양한 활용 분야를 이해하는 것은 파이썬 학습의 동기를 부여하고, 실제 프로젝트에 적용할 수 있는 실력을 길러줍니다.\\n\\n1.2. 오픈 소스 언어로서의 장점\\n\\n파이썬은 오픈 소스 언어이기 때문에 전 세계 개발자들이 자유롭게 사용하고, 개선할 수 있습니다. 이로 인해 다양한 라이브러리와 프레임워크가 개발되었고, 이는 독학자들이 필요한 기능을 쉽게 구현할 수 있게 해줍니다. 또한, 오픈 소스 커뮤니티는 학습 자료와 지원을 제공하는 훌륭한 장소이기도 합니다.\\n\\n1.3. 구글링을 통한 소스 코드 학습\\n\\n파이썬을 배우는 데 있어 구글링은 필수적인 기술입니다. 인터넷에는 수많은 파이썬 예제 코드와 튜토리얼이 존재하며, 이를 통해 다양한 문제를 해결하는 방법을 배울 수 있습니다. 실제 코드를 보고 분석하며 따라 해보는 것은 학습 과정에서 매우 중요한 부분입니다.\\n\\n2. 파이썬 독학 : 대중적인 프로그래밍 언어에 대한 연습과 강의\\n\\n파이썬 독학을 위한 자료는 인터넷 상에 무궁무진합니다. 유튜브, 코세라(Coursera), 에듀레카(Edureka)와 같은 온라인 플랫폼들은 무료로 접근할 수 있는 고품질의 강의를 제공하고 있습니다. 이러한 강의들은 파이썬의 기본 개념부터 고급 주제까지 다루고 있어, 모든 수준의 학습자에게 적합합니다.\\n\\n2.1. 온라인 플랫폼을 통한 무료 강의 접근\\n\\n온라인 교육 플랫폼들은 다양한 파이썬 강의를 무료, 혹은 저렴한 가격에 제공합니다. 이러한 강의들은 전문 강사들에 의해 제작되어, 체계적인 학습이 가능하도록 구성되어 있습니다. 독학자들은 자신의 학습 속도에 맞춰 강의를 듣고, 실습을 할 수 있습니다.\\n\\n2.2. 코딩 도장을 활용한 실력 향상\\n\\n코딩 도장(Coding Dojo)과 같은 실습 중심의 사이트들은 파이썬 실력을 향상시키기에 아주 좋은 도구입니다. 이러한 사이트들은 다양한 난이도의 문제를 제공하며, 학습자가 직접 코드를 작성하고 테스트할 수 있는 환경을 제공합니다. 문제 해결 과정에서 발생하는 오류를 해결하는 것은 프로그래밍 실력을 한 단계 업그레이드하는 데 도움을 줍니다.\\n\\n2.3. '점프 투 파이썬'을 통한 기본 개념 학습\\n\\n'점프 투 파이썬(Jump to Python)'과 같은 책은 파이썬의 기본 개념과 문법을 이해하는 데 큰 도움을 줍니다. 이 책은 초보자도 쉽게 이해할 수 있도록 구성되어 있으며, 기초부터 차근차근 학습할 수 있도록 도와줍니다. 책에 포함된 예제를 직접 따라 해보는 것은 이론을 실습으로 연결하는 데 매우 중요합니다.\\n\\n3. 파이썬 독학을 위한 무료 강의와 코딩 도장\\n\\n파이썬 학습자들은 자신의 학습 속도를 조절하며, 다양한 자료를 활용하여 독학할 수 있습니다. 무료 강의와 코딩 도장은 학습자가 자신의 실력을 점검하고, 필요한 지식을 쌓을 수 있는 좋은 기회를 제공합니다.\\n\\n3.1. 학습 속도 조절의 중요성\\n\\n독학은 자기 주도적 학습이 중요합니다. 학습자는 자신의 이해도와 시간을 고려하여 학습 속도를 조절해야 합니다. 너무 서두르지 않고, 하나의 주제에 대해 충분히 이해하고 넘어가는 것이 중요합니다. 이는 장기적으로 학습 효과를 극대화하는 데 도움이 됩니다.\\n\\n3.2. 다양한 무료 강의 자료\\n\\n인터넷 상에는 다양한 무료 파이썬 강의 자료가 있습니다. 이러한 자료들은 학습자가 자신의 수준에 맞는 강의를 선택하여 학습할 수 있도록 돕습니다. 무료 강의 자료를 활용하는 것은 비용 부담 없이 지속적인 학습을 가능하게 합니다.\\n\\n3.3. 코딩 도장의 이론과 실습 과제\\n\\n코딩 도장에서 제공하는 이론 강의와 실습 과제는 이론을 실제 코딩으로 연결하는 데 중요 이제 여러분은 파이썬 독학의 길에 필요한 다양한 학습 자료를 알게 되셨습니다. '점프 투 파이썬'으로 기본을 다지고, 온라인 강의와 코딩 도장을 통해 실력을 쌓아가세요. 구글링으로 새로운 문제를 해결하는 방법을 배우며, 커뮤니티와 스택 오버플로우를 활용해 지식을 넓혀가는 여정을 시작해보세요. 여러분의 파이썬 마스터가 되는 여정에 응원을 보냅니다!\\n\\n\\n\\n파이썬을 독학할 때 가장 중요한 것은 꾸준한 연습과 실습입니다. 이론만으로는 충분하지 않으며, 실제 코드를 작성하고 문제를 해결해보는 경험이 필요합니다. 처음에는 간단한 프로그램을 작성해보며 기본기를 다지고, 점차 복잡한 프로젝트에 도전하는 것이 좋습니다. 또한, 온라인 커뮤니티나 포럼에 참여하여 다른 학습자들과 지식을 공유하는 것도 도움이 됩니다. Stack Overflow, GitHub, Reddit의 Python 커뮤니티 등에서 다른 개발자들과 의견을 나누고, 새로운 팁을 얻을 수 있습니다.\\n\\n이제 여러분은 파이썬 독학의 길을 걷기 위한 충분한 정보를 갖추셨습니다. 시작은 '점프 투 파이썬'과 같은 기초 자료로 기본 문법을 익히는 것에서부터, 온라인 강의와 코딩 도장을 통해 실력을 쌓아가는 것까지, 여러분의 여정은 단계별로 체계적으로 진행될 수 있습니다. 마지막으로, 커뮤니티 참여를 통해 지속적으로 배움을 실천하고, 도전적인 프로젝트에 참여하여 실전 경험을 쌓아가세요. 파이썬의 세계는 여러분을 환영합니다. 화이팅!\\n\\n'IT' 카테고리의 다른 글\\n\\n옵시디언 vs 노션 : 초보자를 위한 선택 가이드(0) | 2024.01.12\\niOS 17.2 업데이트: 아이폰 15 프의 혁신적 기능과 사용자 경험 향상(0) | 2023.12.28\\nZEUSLAP 말고 ZSUS 15.6인치 휴대용 모니터를 선택하다(1) | 2023.11.14\\nUSB-C가 탑재된 애플펜슬(Apple Pencil) 3세대의 디자인, 호환성, 기능, 가격, 출시일 알아보기(1) | 2023.10.18\\n당장 할 수 있는 TV, 컴퓨터, 노트북 모니터 청소 방법(0) | 2023.09.25\\n태그\\n\\n볼 만한 글\\n\\n댓글0\\n\\n💲 추천 글\\n\\n\\n\\n\\n\\n티스토리툴바\\n\\n\\n\\n\"}]\n",
      "=================================================================================\n",
      "chatbot() 실행\n",
      "\n",
      "[1] state[messages]: \n",
      "[HumanMessage(content='파이썬에 대해서 배워보고 싶습니다. 유용한 자료를 추천해 주세요!', additional_kwargs={}, response_metadata={}, id='2755733d-a3e4-4d18-b693-2197f1a19ad3'), AIMessage(content='', additional_kwargs={}, response_metadata={}, id='run-4dbf3c4f-7e92-4e24-9075-4388d7c91a26-0', tool_calls=[{'name': 'tavily_web_search', 'args': {'query': 'LangGraph human-in-the-loop workflow site:reddit.com'}, 'id': 'call_DZt4GA0ZcEb8tcZZLNQ9Il3n', 'type': 'tool_call'}]), ToolMessage(content='[{\"title\": \"Human intervention in agent workflows : r/LangChain - Reddit\", \"url\": \"https://www.reddit.com/r/LangChain/comments/1bjnmu4/human_intervention_in_agent_workflows/\", \"content\": \"Reddit - Dive into anything Open menu Open navigation  Go to Reddit Home Go to LangChain r/LangChain r/LangChain When building LLM workflows with LangChain/LangGraph what\\'s the best way to build a node in the workflow where a human can validate/approve/reject a flow? Top Posts Reddit Reddit Reddit Action Movies & Series Animated Movies & Series Comedy Movies & Series Crime, Mystery, & Thriller Movies & Series Documentary Movies & Series Drama Movies & Series Fantasy Movies & Series Horror Movies & Series Movie News & Discussion Reality TV Romance Movies & Series Sci-Fi Movies & Series Superhero Movies & Series*   TV News & Discussion Communities Best of Reddit Topics Reddit Rules Privacy Policy User Agreement Reddit, Inc.\", \"score\": 0.65359193, \"raw_content\": null}]', name='tavily_web_search', id='89b6c5b6-c5f9-4dca-bb64-d73a5b5db599', tool_call_id='call_DZt4GA0ZcEb8tcZZLNQ9Il3n'), AIMessage(content='', additional_kwargs={'tool_calls': [{'id': 'call_HyLhnw2rCCF44dnMZOVFVmqs', 'function': {'arguments': '{\"query\":\"파이썬 학습 자료 추천\"}', 'name': 'tavily_web_search'}, 'type': 'function'}], 'refusal': None}, response_metadata={'token_usage': {'completion_tokens': 25, 'prompt_tokens': 362, 'total_tokens': 387, 'completion_tokens_details': {'accepted_prediction_tokens': 0, 'audio_tokens': 0, 'reasoning_tokens': 0, 'rejected_prediction_tokens': 0}, 'prompt_tokens_details': {'audio_tokens': 0, 'cached_tokens': 0}}, 'model_name': 'gpt-4o-mini-2024-07-18', 'system_fingerprint': 'fp_709714d124', 'finish_reason': 'tool_calls', 'logprobs': None}, id='run-2b1a5550-3a69-4269-a7d6-6eb0b7b95af8-0', tool_calls=[{'name': 'tavily_web_search', 'args': {'query': '파이썬 학습 자료 추천'}, 'id': 'call_HyLhnw2rCCF44dnMZOVFVmqs', 'type': 'tool_call'}], usage_metadata={'input_tokens': 362, 'output_tokens': 25, 'total_tokens': 387, 'input_token_details': {'audio': 0, 'cache_read': 0}, 'output_token_details': {'audio': 0, 'reasoning': 0}}), ToolMessage(content='[{\"title\": \"파이썬 독학자를 위한 최고의 학습 자료 추천\", \"url\": \"https://ackbarix.tistory.com/597\", \"content\": \"파이썬 독학에 필요한 최고의 자료를 찾고 계신가요? 초보부터 경험자까지 추천하는 학습 자료와 유용한 팁을 확인하고 지금 바로 파이썬 마스터의 길로! 파이썬을 혼자 배우고 싶은 분들을 위한 최고의 학습 자료와 가이드를 소개합니다. 독학으로도 파이썬을 마스터할 수 있는 비법을\", \"score\": 0.8047902, \"raw_content\": \"직월프\\\\n\\\\n카테고리\\\\n\\\\n최근 글\\\\n\\\\n인기 글\\\\n\\\\n파이썬 독학자를 위한 최고의 학습 자료 추천\\\\n\\\\n파이썬 독학에 필요한 최고의 자료를 찾고 계신가요? 초보부터 경험자까지 추천하는 학습 자료와 유용한 팁을 확인하고 지금 바로 파이썬 마스터의 길로! 파이썬을\\xa0혼자\\xa0배우고\\xa0싶은\\xa0분들을\\xa0위한\\xa0최고의\\xa0학습\\xa0자료와\\xa0가이드를\\xa0소개합니다.\\xa0독학으로도\\xa0파이썬을\\xa0마스터할\\xa0수\\xa0있는\\xa0비법을\\xa0알려드립니다.\\\\n\\\\n\\\\n\\\\n파이썬(Python) 독학에 도전하고 계신가요? 웹 개발부터 인공지능까지, 파이썬은 그 가능성이 무궁무진합니다. \\\\\"파이썬은 배우기 쉽고 읽기 쉬운 오픈 소스 언어로, 인터넷에서 많은 자료와 소스 코드를 찾아볼 수 있습니다.\\\\\" 이 글을 통해 여러분의 파이썬 독학 여정에 필요한 최고의 학습 자료를 추천해드리겠습니다!\\\\n\\\\n\\\\n\\\\n1.\\xa0파이썬\\xa0독학의\\xa0가능성\\\\n\\\\n파이썬은 다양한 분야에서 활용되는 강력한 프로그래밍 언어입니다. 웹 개발, 데이터 분석, 인공 지능, 기계 학습 등 현대 기술의 많은 영역에서 파이썬의 역할이 중요해지고 있죠. 파이썬은 그 구조가 직관적이고, 배우기 쉬운 언어로 알려져 있어, 프로그래밍 입문자들에게도 큰 인기를 얻고 있습니다. 오픈 소스 언어로서의 파이썬은 방대한 커뮤니티를 통해 지속적으로 발전하고 있으며, 이는 독학자들에게도 큰 장점으로 작용합니다.\\\\n\\\\n1.1.\\xa0파이썬\\xa0활용\\xa0분야\\\\n\\\\n파이썬은 그 활용도가 매우 넓어, 웹 사이트 백엔드 개발부터 데이터 과학, 인공 지능 개발에 이르기까지 다양한 분야에서 쓰입니다. 간단한 스크립트 작성부터 복잡한 시스템 개발까지, 파이썬은 유연성을 자랑합니다. 이러한 다양한 활용 분야를 이해하는 것은 파이썬 학습의 동기를 부여하고, 실제 프로젝트에 적용할 수 있는 실력을 길러줍니다.\\\\n\\\\n1.2. 오픈 소스 언어로서의 장점\\\\n\\\\n파이썬은\\xa0오픈\\xa0소스\\xa0언어이기\\xa0때문에\\xa0전\\xa0세계\\xa0개발자들이\\xa0자유롭게\\xa0사용하고,\\xa0개선할\\xa0수\\xa0있습니다.\\xa0이로\\xa0인해\\xa0다양한\\xa0라이브러리와\\xa0프레임워크가\\xa0개발되었고,\\xa0이는\\xa0독학자들이\\xa0필요한\\xa0기능을\\xa0쉽게\\xa0구현할\\xa0수\\xa0있게\\xa0해줍니다.\\xa0또한,\\xa0오픈\\xa0소스\\xa0커뮤니티는\\xa0학습\\xa0자료와\\xa0지원을\\xa0제공하는\\xa0훌륭한\\xa0장소이기도\\xa0합니다.\\\\n\\\\n1.3.\\xa0구글링을\\xa0통한\\xa0소스\\xa0코드\\xa0학습\\\\n\\\\n파이썬을 배우는 데 있어 구글링은 필수적인 기술입니다. 인터넷에는 수많은 파이썬 예제 코드와 튜토리얼이 존재하며, 이를 통해 다양한 문제를 해결하는 방법을 배울 수 있습니다. 실제 코드를 보고 분석하며 따라 해보는 것은 학습 과정에서 매우 중요한 부분입니다.\\\\n\\\\n2. 파이썬 독학 : 대중적인 프로그래밍 언어에 대한 연습과 강의\\\\n\\\\n파이썬 독학을 위한 자료는 인터넷 상에 무궁무진합니다. 유튜브, 코세라(Coursera), 에듀레카(Edureka)와 같은 온라인 플랫폼들은 무료로 접근할 수 있는 고품질의 강의를 제공하고 있습니다. 이러한 강의들은 파이썬의 기본 개념부터 고급 주제까지 다루고 있어, 모든 수준의 학습자에게 적합합니다.\\\\n\\\\n2.1. 온라인 플랫폼을 통한 무료 강의 접근\\\\n\\\\n온라인 교육 플랫폼들은 다양한 파이썬 강의를 무료, 혹은 저렴한 가격에 제공합니다. 이러한 강의들은 전문 강사들에 의해 제작되어, 체계적인 학습이 가능하도록 구성되어 있습니다. 독학자들은 자신의 학습 속도에 맞춰 강의를 듣고, 실습을 할 수 있습니다.\\\\n\\\\n2.2. 코딩 도장을 활용한 실력 향상\\\\n\\\\n코딩 도장(Coding Dojo)과 같은 실습 중심의 사이트들은 파이썬 실력을 향상시키기에 아주 좋은 도구입니다. 이러한 사이트들은 다양한 난이도의 문제를 제공하며, 학습자가 직접 코드를 작성하고 테스트할 수 있는 환경을 제공합니다. 문제 해결 과정에서 발생하는 오류를 해결하는 것은 프로그래밍 실력을 한 단계 업그레이드하는 데 도움을 줍니다.\\\\n\\\\n2.3. \\'점프 투 파이썬\\'을 통한 기본 개념 학습\\\\n\\\\n\\'점프 투 파이썬(Jump to Python)\\'과 같은 책은 파이썬의 기본 개념과 문법을 이해하는 데 큰 도움을 줍니다. 이 책은 초보자도 쉽게 이해할 수 있도록 구성되어 있으며, 기초부터 차근차근 학습할 수 있도록 도와줍니다. 책에 포함된 예제를 직접 따라 해보는 것은 이론을 실습으로 연결하는 데 매우 중요합니다.\\\\n\\\\n3. 파이썬 독학을 위한 무료 강의와 코딩 도장\\\\n\\\\n파이썬 학습자들은 자신의 학습 속도를 조절하며, 다양한 자료를 활용하여 독학할 수 있습니다. 무료 강의와 코딩 도장은 학습자가 자신의 실력을 점검하고, 필요한 지식을 쌓을 수 있는 좋은 기회를 제공합니다.\\\\n\\\\n3.1. 학습 속도 조절의 중요성\\\\n\\\\n독학은 자기 주도적 학습이 중요합니다. 학습자는 자신의 이해도와 시간을 고려하여 학습 속도를 조절해야 합니다. 너무 서두르지 않고, 하나의 주제에 대해 충분히 이해하고 넘어가는 것이 중요합니다. 이는 장기적으로 학습 효과를 극대화하는 데 도움이 됩니다.\\\\n\\\\n3.2. 다양한 무료 강의 자료\\\\n\\\\n인터넷 상에는 다양한 무료 파이썬 강의 자료가 있습니다. 이러한 자료들은 학습자가 자신의 수준에 맞는 강의를 선택하여 학습할 수 있도록 돕습니다. 무료 강의 자료를 활용하는 것은 비용 부담 없이 지속적인 학습을 가능하게 합니다.\\\\n\\\\n3.3. 코딩 도장의 이론과 실습 과제\\\\n\\\\n코딩\\xa0도장에서\\xa0제공하는\\xa0이론\\xa0강의와\\xa0실습\\xa0과제는\\xa0이론을\\xa0실제\\xa0코딩으로\\xa0연결하는\\xa0데\\xa0중요 이제\\xa0여러분은\\xa0파이썬\\xa0독학의\\xa0길에\\xa0필요한\\xa0다양한\\xa0학습\\xa0자료를\\xa0알게\\xa0되셨습니다.\\xa0\\'점프\\xa0투\\xa0파이썬\\'으로\\xa0기본을\\xa0다지고,\\xa0온라인\\xa0강의와\\xa0코딩\\xa0도장을\\xa0통해\\xa0실력을\\xa0쌓아가세요.\\xa0구글링으로\\xa0새로운\\xa0문제를\\xa0해결하는\\xa0방법을\\xa0배우며,\\xa0커뮤니티와\\xa0스택\\xa0오버플로우를\\xa0활용해\\xa0지식을\\xa0넓혀가는\\xa0여정을\\xa0시작해보세요.\\xa0여러분의\\xa0파이썬\\xa0마스터가\\xa0되는\\xa0여정에\\xa0응원을\\xa0보냅니다!\\\\n\\\\n\\\\n\\\\n파이썬을 독학할 때 가장 중요한 것은 꾸준한 연습과 실습입니다. 이론만으로는 충분하지 않으며, 실제 코드를 작성하고 문제를 해결해보는 경험이 필요합니다. 처음에는 간단한 프로그램을 작성해보며 기본기를 다지고, 점차 복잡한 프로젝트에 도전하는 것이 좋습니다. 또한,\\xa0온라인\\xa0커뮤니티나\\xa0포럼에\\xa0참여하여\\xa0다른\\xa0학습자들과\\xa0지식을\\xa0공유하는\\xa0것도\\xa0도움이\\xa0됩니다.\\xa0Stack\\xa0Overflow,\\xa0GitHub,\\xa0Reddit의\\xa0Python\\xa0커뮤니티\\xa0등에서\\xa0다른\\xa0개발자들과\\xa0의견을\\xa0나누고,\\xa0새로운\\xa0팁을\\xa0얻을\\xa0수\\xa0있습니다.\\\\n\\\\n이제\\xa0여러분은\\xa0파이썬\\xa0독학의\\xa0길을\\xa0걷기\\xa0위한\\xa0충분한\\xa0정보를\\xa0갖추셨습니다.\\xa0시작은\\xa0\\'점프\\xa0투\\xa0파이썬\\'과\\xa0같은\\xa0기초\\xa0자료로\\xa0기본\\xa0문법을\\xa0익히는\\xa0것에서부터,\\xa0온라인\\xa0강의와\\xa0코딩\\xa0도장을\\xa0통해\\xa0실력을\\xa0쌓아가는\\xa0것까지,\\xa0여러분의\\xa0여정은\\xa0단계별로\\xa0체계적으로\\xa0진행될\\xa0수\\xa0있습니다.\\xa0마지막으로,\\xa0커뮤니티\\xa0참여를\\xa0통해\\xa0지속적으로\\xa0배움을\\xa0실천하고,\\xa0도전적인\\xa0프로젝트에\\xa0참여하여\\xa0실전\\xa0경험을\\xa0쌓아가세요.\\xa0파이썬의\\xa0세계는\\xa0여러분을\\xa0환영합니다.\\xa0화이팅!\\\\n\\\\n\\'IT\\' 카테고리의 다른 글\\\\n\\\\n옵시디언 vs 노션 : 초보자를 위한 선택 가이드(0) | 2024.01.12\\\\niOS 17.2 업데이트: 아이폰 15 프의 혁신적 기능과 사용자 경험 향상(0) | 2023.12.28\\\\nZEUSLAP 말고 ZSUS 15.6인치 휴대용 모니터를 선택하다(1) | 2023.11.14\\\\nUSB-C가 탑재된 애플펜슬(Apple Pencil) 3세대의 디자인, 호환성, 기능, 가격, 출시일 알아보기(1) | 2023.10.18\\\\n당장 할 수 있는 TV, 컴퓨터, 노트북 모니터 청소 방법(0) | 2023.09.25\\\\n태그\\\\n\\\\n볼 만한 글\\\\n\\\\n댓글0\\\\n\\\\n💲 추천 글\\\\n\\\\n\\\\n\\\\n\\\\n\\\\n티스토리툴바\\\\n\\\\n\\\\n\\\\n\"}]', name='tavily_web_search', id='bca996b1-011e-449c-bbb9-f83805e4e457', tool_call_id='call_HyLhnw2rCCF44dnMZOVFVmqs')]\n",
      "\n",
      "[2] chatbot answer: \n",
      " 파이썬을 배우고 싶으시다면 다음의 유용한 자료를 추천드립니다:\n",
      "\n",
      "1. **[파이썬 독학자를 위한 최고의 학습 자료 추천](https://ackbarix.tistory.com/597)**  \n",
      "   이 글에서는 초보자부터 경험자까지 추천하는 다양한 학습 자료와 유용한 팁을 제공합니다. 파이썬의 기본 개념부터 고급 주제까지 다루며, 독학으로 파이썬을 마스터할 수 있는 방법을 소개합니다.\n",
      "\n",
      "2. **온라인 강의 플랫폼**  \n",
      "   - **Coursera**: 다양한 파이썬 강의를 제공하며, 무료로 수강할 수 있는 과정도 많습니다.\n",
      "   - **edX**: 유명 대학의 강의를 통해 파이썬을 배울 수 있습니다.\n",
      "   - **YouTube**: 많은 무료 튜토리얼과 강의가 있습니다.\n",
      "\n",
      "3. **추천 도서**  \n",
      "   - **'점프 투 파이썬'**: 파이썬의 기본 개념과 문법을 쉽게 이해할 수 있도록 구성된 책입니다.\n",
      "\n",
      "4. **코딩 도장**  \n",
      "   - **코딩 도장(Coding Dojo)**: 다양한 난이도의 문제를 제공하여 실력을 향상시킬 수 있는 사이트입니다.\n",
      "\n",
      "5. **커뮤니티 참여**  \n",
      "   - **Stack Overflow**: 질문하고 답변을 통해 지식을 넓힐 수 있는 플랫폼입니다.\n",
      "   - **Reddit의 Python 커뮤니티**: 다른 개발자들과 의견을 나누고 새로운 팁을 얻을 수 있습니다.\n",
      "\n",
      "이 자료들을 통해 파이썬 학습을 시작해보세요!\n",
      "[3] answer.additional_kwargs: \n",
      " {'refusal': None}\n",
      "=================================================================================\n",
      "[event] 전체\n",
      "{'messages': [HumanMessage(content='파이썬에 대해서 배워보고 싶습니다. 유용한 자료를 추천해 주세요!', additional_kwargs={}, response_metadata={}, id='2755733d-a3e4-4d18-b693-2197f1a19ad3'), AIMessage(content='', additional_kwargs={}, response_metadata={}, id='run-4dbf3c4f-7e92-4e24-9075-4388d7c91a26-0', tool_calls=[{'name': 'tavily_web_search', 'args': {'query': 'LangGraph human-in-the-loop workflow site:reddit.com'}, 'id': 'call_DZt4GA0ZcEb8tcZZLNQ9Il3n', 'type': 'tool_call'}]), ToolMessage(content='[{\"title\": \"Human intervention in agent workflows : r/LangChain - Reddit\", \"url\": \"https://www.reddit.com/r/LangChain/comments/1bjnmu4/human_intervention_in_agent_workflows/\", \"content\": \"Reddit - Dive into anything Open menu Open navigation  Go to Reddit Home Go to LangChain r/LangChain r/LangChain When building LLM workflows with LangChain/LangGraph what\\'s the best way to build a node in the workflow where a human can validate/approve/reject a flow? Top Posts Reddit Reddit Reddit Action Movies & Series Animated Movies & Series Comedy Movies & Series Crime, Mystery, & Thriller Movies & Series Documentary Movies & Series Drama Movies & Series Fantasy Movies & Series Horror Movies & Series Movie News & Discussion Reality TV Romance Movies & Series Sci-Fi Movies & Series Superhero Movies & Series*   TV News & Discussion Communities Best of Reddit Topics Reddit Rules Privacy Policy User Agreement Reddit, Inc.\", \"score\": 0.65359193, \"raw_content\": null}]', name='tavily_web_search', id='89b6c5b6-c5f9-4dca-bb64-d73a5b5db599', tool_call_id='call_DZt4GA0ZcEb8tcZZLNQ9Il3n'), AIMessage(content='', additional_kwargs={'tool_calls': [{'id': 'call_HyLhnw2rCCF44dnMZOVFVmqs', 'function': {'arguments': '{\"query\":\"파이썬 학습 자료 추천\"}', 'name': 'tavily_web_search'}, 'type': 'function'}], 'refusal': None}, response_metadata={'token_usage': {'completion_tokens': 25, 'prompt_tokens': 362, 'total_tokens': 387, 'completion_tokens_details': {'accepted_prediction_tokens': 0, 'audio_tokens': 0, 'reasoning_tokens': 0, 'rejected_prediction_tokens': 0}, 'prompt_tokens_details': {'audio_tokens': 0, 'cached_tokens': 0}}, 'model_name': 'gpt-4o-mini-2024-07-18', 'system_fingerprint': 'fp_709714d124', 'finish_reason': 'tool_calls', 'logprobs': None}, id='run-2b1a5550-3a69-4269-a7d6-6eb0b7b95af8-0', tool_calls=[{'name': 'tavily_web_search', 'args': {'query': '파이썬 학습 자료 추천'}, 'id': 'call_HyLhnw2rCCF44dnMZOVFVmqs', 'type': 'tool_call'}], usage_metadata={'input_tokens': 362, 'output_tokens': 25, 'total_tokens': 387, 'input_token_details': {'audio': 0, 'cache_read': 0}, 'output_token_details': {'audio': 0, 'reasoning': 0}}), ToolMessage(content='[{\"title\": \"파이썬 독학자를 위한 최고의 학습 자료 추천\", \"url\": \"https://ackbarix.tistory.com/597\", \"content\": \"파이썬 독학에 필요한 최고의 자료를 찾고 계신가요? 초보부터 경험자까지 추천하는 학습 자료와 유용한 팁을 확인하고 지금 바로 파이썬 마스터의 길로! 파이썬을 혼자 배우고 싶은 분들을 위한 최고의 학습 자료와 가이드를 소개합니다. 독학으로도 파이썬을 마스터할 수 있는 비법을\", \"score\": 0.8047902, \"raw_content\": \"직월프\\\\n\\\\n카테고리\\\\n\\\\n최근 글\\\\n\\\\n인기 글\\\\n\\\\n파이썬 독학자를 위한 최고의 학습 자료 추천\\\\n\\\\n파이썬 독학에 필요한 최고의 자료를 찾고 계신가요? 초보부터 경험자까지 추천하는 학습 자료와 유용한 팁을 확인하고 지금 바로 파이썬 마스터의 길로! 파이썬을\\xa0혼자\\xa0배우고\\xa0싶은\\xa0분들을\\xa0위한\\xa0최고의\\xa0학습\\xa0자료와\\xa0가이드를\\xa0소개합니다.\\xa0독학으로도\\xa0파이썬을\\xa0마스터할\\xa0수\\xa0있는\\xa0비법을\\xa0알려드립니다.\\\\n\\\\n\\\\n\\\\n파이썬(Python) 독학에 도전하고 계신가요? 웹 개발부터 인공지능까지, 파이썬은 그 가능성이 무궁무진합니다. \\\\\"파이썬은 배우기 쉽고 읽기 쉬운 오픈 소스 언어로, 인터넷에서 많은 자료와 소스 코드를 찾아볼 수 있습니다.\\\\\" 이 글을 통해 여러분의 파이썬 독학 여정에 필요한 최고의 학습 자료를 추천해드리겠습니다!\\\\n\\\\n\\\\n\\\\n1.\\xa0파이썬\\xa0독학의\\xa0가능성\\\\n\\\\n파이썬은 다양한 분야에서 활용되는 강력한 프로그래밍 언어입니다. 웹 개발, 데이터 분석, 인공 지능, 기계 학습 등 현대 기술의 많은 영역에서 파이썬의 역할이 중요해지고 있죠. 파이썬은 그 구조가 직관적이고, 배우기 쉬운 언어로 알려져 있어, 프로그래밍 입문자들에게도 큰 인기를 얻고 있습니다. 오픈 소스 언어로서의 파이썬은 방대한 커뮤니티를 통해 지속적으로 발전하고 있으며, 이는 독학자들에게도 큰 장점으로 작용합니다.\\\\n\\\\n1.1.\\xa0파이썬\\xa0활용\\xa0분야\\\\n\\\\n파이썬은 그 활용도가 매우 넓어, 웹 사이트 백엔드 개발부터 데이터 과학, 인공 지능 개발에 이르기까지 다양한 분야에서 쓰입니다. 간단한 스크립트 작성부터 복잡한 시스템 개발까지, 파이썬은 유연성을 자랑합니다. 이러한 다양한 활용 분야를 이해하는 것은 파이썬 학습의 동기를 부여하고, 실제 프로젝트에 적용할 수 있는 실력을 길러줍니다.\\\\n\\\\n1.2. 오픈 소스 언어로서의 장점\\\\n\\\\n파이썬은\\xa0오픈\\xa0소스\\xa0언어이기\\xa0때문에\\xa0전\\xa0세계\\xa0개발자들이\\xa0자유롭게\\xa0사용하고,\\xa0개선할\\xa0수\\xa0있습니다.\\xa0이로\\xa0인해\\xa0다양한\\xa0라이브러리와\\xa0프레임워크가\\xa0개발되었고,\\xa0이는\\xa0독학자들이\\xa0필요한\\xa0기능을\\xa0쉽게\\xa0구현할\\xa0수\\xa0있게\\xa0해줍니다.\\xa0또한,\\xa0오픈\\xa0소스\\xa0커뮤니티는\\xa0학습\\xa0자료와\\xa0지원을\\xa0제공하는\\xa0훌륭한\\xa0장소이기도\\xa0합니다.\\\\n\\\\n1.3.\\xa0구글링을\\xa0통한\\xa0소스\\xa0코드\\xa0학습\\\\n\\\\n파이썬을 배우는 데 있어 구글링은 필수적인 기술입니다. 인터넷에는 수많은 파이썬 예제 코드와 튜토리얼이 존재하며, 이를 통해 다양한 문제를 해결하는 방법을 배울 수 있습니다. 실제 코드를 보고 분석하며 따라 해보는 것은 학습 과정에서 매우 중요한 부분입니다.\\\\n\\\\n2. 파이썬 독학 : 대중적인 프로그래밍 언어에 대한 연습과 강의\\\\n\\\\n파이썬 독학을 위한 자료는 인터넷 상에 무궁무진합니다. 유튜브, 코세라(Coursera), 에듀레카(Edureka)와 같은 온라인 플랫폼들은 무료로 접근할 수 있는 고품질의 강의를 제공하고 있습니다. 이러한 강의들은 파이썬의 기본 개념부터 고급 주제까지 다루고 있어, 모든 수준의 학습자에게 적합합니다.\\\\n\\\\n2.1. 온라인 플랫폼을 통한 무료 강의 접근\\\\n\\\\n온라인 교육 플랫폼들은 다양한 파이썬 강의를 무료, 혹은 저렴한 가격에 제공합니다. 이러한 강의들은 전문 강사들에 의해 제작되어, 체계적인 학습이 가능하도록 구성되어 있습니다. 독학자들은 자신의 학습 속도에 맞춰 강의를 듣고, 실습을 할 수 있습니다.\\\\n\\\\n2.2. 코딩 도장을 활용한 실력 향상\\\\n\\\\n코딩 도장(Coding Dojo)과 같은 실습 중심의 사이트들은 파이썬 실력을 향상시키기에 아주 좋은 도구입니다. 이러한 사이트들은 다양한 난이도의 문제를 제공하며, 학습자가 직접 코드를 작성하고 테스트할 수 있는 환경을 제공합니다. 문제 해결 과정에서 발생하는 오류를 해결하는 것은 프로그래밍 실력을 한 단계 업그레이드하는 데 도움을 줍니다.\\\\n\\\\n2.3. \\'점프 투 파이썬\\'을 통한 기본 개념 학습\\\\n\\\\n\\'점프 투 파이썬(Jump to Python)\\'과 같은 책은 파이썬의 기본 개념과 문법을 이해하는 데 큰 도움을 줍니다. 이 책은 초보자도 쉽게 이해할 수 있도록 구성되어 있으며, 기초부터 차근차근 학습할 수 있도록 도와줍니다. 책에 포함된 예제를 직접 따라 해보는 것은 이론을 실습으로 연결하는 데 매우 중요합니다.\\\\n\\\\n3. 파이썬 독학을 위한 무료 강의와 코딩 도장\\\\n\\\\n파이썬 학습자들은 자신의 학습 속도를 조절하며, 다양한 자료를 활용하여 독학할 수 있습니다. 무료 강의와 코딩 도장은 학습자가 자신의 실력을 점검하고, 필요한 지식을 쌓을 수 있는 좋은 기회를 제공합니다.\\\\n\\\\n3.1. 학습 속도 조절의 중요성\\\\n\\\\n독학은 자기 주도적 학습이 중요합니다. 학습자는 자신의 이해도와 시간을 고려하여 학습 속도를 조절해야 합니다. 너무 서두르지 않고, 하나의 주제에 대해 충분히 이해하고 넘어가는 것이 중요합니다. 이는 장기적으로 학습 효과를 극대화하는 데 도움이 됩니다.\\\\n\\\\n3.2. 다양한 무료 강의 자료\\\\n\\\\n인터넷 상에는 다양한 무료 파이썬 강의 자료가 있습니다. 이러한 자료들은 학습자가 자신의 수준에 맞는 강의를 선택하여 학습할 수 있도록 돕습니다. 무료 강의 자료를 활용하는 것은 비용 부담 없이 지속적인 학습을 가능하게 합니다.\\\\n\\\\n3.3. 코딩 도장의 이론과 실습 과제\\\\n\\\\n코딩\\xa0도장에서\\xa0제공하는\\xa0이론\\xa0강의와\\xa0실습\\xa0과제는\\xa0이론을\\xa0실제\\xa0코딩으로\\xa0연결하는\\xa0데\\xa0중요 이제\\xa0여러분은\\xa0파이썬\\xa0독학의\\xa0길에\\xa0필요한\\xa0다양한\\xa0학습\\xa0자료를\\xa0알게\\xa0되셨습니다.\\xa0\\'점프\\xa0투\\xa0파이썬\\'으로\\xa0기본을\\xa0다지고,\\xa0온라인\\xa0강의와\\xa0코딩\\xa0도장을\\xa0통해\\xa0실력을\\xa0쌓아가세요.\\xa0구글링으로\\xa0새로운\\xa0문제를\\xa0해결하는\\xa0방법을\\xa0배우며,\\xa0커뮤니티와\\xa0스택\\xa0오버플로우를\\xa0활용해\\xa0지식을\\xa0넓혀가는\\xa0여정을\\xa0시작해보세요.\\xa0여러분의\\xa0파이썬\\xa0마스터가\\xa0되는\\xa0여정에\\xa0응원을\\xa0보냅니다!\\\\n\\\\n\\\\n\\\\n파이썬을 독학할 때 가장 중요한 것은 꾸준한 연습과 실습입니다. 이론만으로는 충분하지 않으며, 실제 코드를 작성하고 문제를 해결해보는 경험이 필요합니다. 처음에는 간단한 프로그램을 작성해보며 기본기를 다지고, 점차 복잡한 프로젝트에 도전하는 것이 좋습니다. 또한,\\xa0온라인\\xa0커뮤니티나\\xa0포럼에\\xa0참여하여\\xa0다른\\xa0학습자들과\\xa0지식을\\xa0공유하는\\xa0것도\\xa0도움이\\xa0됩니다.\\xa0Stack\\xa0Overflow,\\xa0GitHub,\\xa0Reddit의\\xa0Python\\xa0커뮤니티\\xa0등에서\\xa0다른\\xa0개발자들과\\xa0의견을\\xa0나누고,\\xa0새로운\\xa0팁을\\xa0얻을\\xa0수\\xa0있습니다.\\\\n\\\\n이제\\xa0여러분은\\xa0파이썬\\xa0독학의\\xa0길을\\xa0걷기\\xa0위한\\xa0충분한\\xa0정보를\\xa0갖추셨습니다.\\xa0시작은\\xa0\\'점프\\xa0투\\xa0파이썬\\'과\\xa0같은\\xa0기초\\xa0자료로\\xa0기본\\xa0문법을\\xa0익히는\\xa0것에서부터,\\xa0온라인\\xa0강의와\\xa0코딩\\xa0도장을\\xa0통해\\xa0실력을\\xa0쌓아가는\\xa0것까지,\\xa0여러분의\\xa0여정은\\xa0단계별로\\xa0체계적으로\\xa0진행될\\xa0수\\xa0있습니다.\\xa0마지막으로,\\xa0커뮤니티\\xa0참여를\\xa0통해\\xa0지속적으로\\xa0배움을\\xa0실천하고,\\xa0도전적인\\xa0프로젝트에\\xa0참여하여\\xa0실전\\xa0경험을\\xa0쌓아가세요.\\xa0파이썬의\\xa0세계는\\xa0여러분을\\xa0환영합니다.\\xa0화이팅!\\\\n\\\\n\\'IT\\' 카테고리의 다른 글\\\\n\\\\n옵시디언 vs 노션 : 초보자를 위한 선택 가이드(0) | 2024.01.12\\\\niOS 17.2 업데이트: 아이폰 15 프의 혁신적 기능과 사용자 경험 향상(0) | 2023.12.28\\\\nZEUSLAP 말고 ZSUS 15.6인치 휴대용 모니터를 선택하다(1) | 2023.11.14\\\\nUSB-C가 탑재된 애플펜슬(Apple Pencil) 3세대의 디자인, 호환성, 기능, 가격, 출시일 알아보기(1) | 2023.10.18\\\\n당장 할 수 있는 TV, 컴퓨터, 노트북 모니터 청소 방법(0) | 2023.09.25\\\\n태그\\\\n\\\\n볼 만한 글\\\\n\\\\n댓글0\\\\n\\\\n💲 추천 글\\\\n\\\\n\\\\n\\\\n\\\\n\\\\n티스토리툴바\\\\n\\\\n\\\\n\\\\n\"}]', name='tavily_web_search', id='bca996b1-011e-449c-bbb9-f83805e4e457', tool_call_id='call_HyLhnw2rCCF44dnMZOVFVmqs'), AIMessage(content=\"파이썬을 배우고 싶으시다면 다음의 유용한 자료를 추천드립니다:\\n\\n1. **[파이썬 독학자를 위한 최고의 학습 자료 추천](https://ackbarix.tistory.com/597)**  \\n   이 글에서는 초보자부터 경험자까지 추천하는 다양한 학습 자료와 유용한 팁을 제공합니다. 파이썬의 기본 개념부터 고급 주제까지 다루며, 독학으로 파이썬을 마스터할 수 있는 방법을 소개합니다.\\n\\n2. **온라인 강의 플랫폼**  \\n   - **Coursera**: 다양한 파이썬 강의를 제공하며, 무료로 수강할 수 있는 과정도 많습니다.\\n   - **edX**: 유명 대학의 강의를 통해 파이썬을 배울 수 있습니다.\\n   - **YouTube**: 많은 무료 튜토리얼과 강의가 있습니다.\\n\\n3. **추천 도서**  \\n   - **'점프 투 파이썬'**: 파이썬의 기본 개념과 문법을 쉽게 이해할 수 있도록 구성된 책입니다.\\n\\n4. **코딩 도장**  \\n   - **코딩 도장(Coding Dojo)**: 다양한 난이도의 문제를 제공하여 실력을 향상시킬 수 있는 사이트입니다.\\n\\n5. **커뮤니티 참여**  \\n   - **Stack Overflow**: 질문하고 답변을 통해 지식을 넓힐 수 있는 플랫폼입니다.\\n   - **Reddit의 Python 커뮤니티**: 다른 개발자들과 의견을 나누고 새로운 팁을 얻을 수 있습니다.\\n\\n이 자료들을 통해 파이썬 학습을 시작해보세요!\", additional_kwargs={'refusal': None}, response_metadata={'token_usage': {'completion_tokens': 359, 'prompt_tokens': 2890, 'total_tokens': 3249, 'completion_tokens_details': {'accepted_prediction_tokens': 0, 'audio_tokens': 0, 'reasoning_tokens': 0, 'rejected_prediction_tokens': 0}, 'prompt_tokens_details': {'audio_tokens': 0, 'cached_tokens': 0}}, 'model_name': 'gpt-4o-mini-2024-07-18', 'system_fingerprint': 'fp_709714d124', 'finish_reason': 'stop', 'logprobs': None}, id='run-7ceea5b9-3ccb-4bed-9aa4-44e1c77ff408-0', usage_metadata={'input_tokens': 2890, 'output_tokens': 359, 'total_tokens': 3249, 'input_token_details': {'audio': 0, 'cache_read': 0}, 'output_token_details': {'audio': 0, 'reasoning': 0}})]}\n",
      "\n",
      "==================================\u001b[1m Ai Message \u001b[0m==================================\n",
      "\n",
      "파이썬을 배우고 싶으시다면 다음의 유용한 자료를 추천드립니다:\n",
      "\n",
      "1. **[파이썬 독학자를 위한 최고의 학습 자료 추천](https://ackbarix.tistory.com/597)**  \n",
      "   이 글에서는 초보자부터 경험자까지 추천하는 다양한 학습 자료와 유용한 팁을 제공합니다. 파이썬의 기본 개념부터 고급 주제까지 다루며, 독학으로 파이썬을 마스터할 수 있는 방법을 소개합니다.\n",
      "\n",
      "2. **온라인 강의 플랫폼**  \n",
      "   - **Coursera**: 다양한 파이썬 강의를 제공하며, 무료로 수강할 수 있는 과정도 많습니다.\n",
      "   - **edX**: 유명 대학의 강의를 통해 파이썬을 배울 수 있습니다.\n",
      "   - **YouTube**: 많은 무료 튜토리얼과 강의가 있습니다.\n",
      "\n",
      "3. **추천 도서**  \n",
      "   - **'점프 투 파이썬'**: 파이썬의 기본 개념과 문법을 쉽게 이해할 수 있도록 구성된 책입니다.\n",
      "\n",
      "4. **코딩 도장**  \n",
      "   - **코딩 도장(Coding Dojo)**: 다양한 난이도의 문제를 제공하여 실력을 향상시킬 수 있는 사이트입니다.\n",
      "\n",
      "5. **커뮤니티 참여**  \n",
      "   - **Stack Overflow**: 질문하고 답변을 통해 지식을 넓힐 수 있는 플랫폼입니다.\n",
      "   - **Reddit의 Python 커뮤니티**: 다른 개발자들과 의견을 나누고 새로운 팁을 얻을 수 있습니다.\n",
      "\n",
      "이 자료들을 통해 파이썬 학습을 시작해보세요!\n"
     ]
    }
   ],
   "source": [
    "# config 에는 updated_state 를 전달합니다. 이는 임의로 갱신한 상태를 전달하는 것입니다.\n",
    "for event in graph.stream(None, updated_state, stream_mode=\"values\"):\n",
    "    \n",
    "    print('[event] 전체')\n",
    "    print(event)\n",
    "    print()\n",
    "    \n",
    "    if \"messages\" in event:                         # 메시지가 이벤트에 포함된 경우\n",
    "        event[\"messages\"][-1].pretty_print()        # 마지막 메시지 출력"
   ]
  },
  {
   "cell_type": "code",
   "execution_count": 153,
   "metadata": {},
   "outputs": [
    {
     "name": "stdout",
     "output_type": "stream",
     "text": [
      "================================\u001b[1m Human Message \u001b[0m=================================\n",
      "\n",
      "파이썬에 대해서 배워보고 싶습니다. 유용한 자료를 추천해 주세요!\n",
      "==================================\u001b[1m Ai Message \u001b[0m==================================\n",
      "Tool Calls:\n",
      "  tavily_web_search (call_DZt4GA0ZcEb8tcZZLNQ9Il3n)\n",
      " Call ID: call_DZt4GA0ZcEb8tcZZLNQ9Il3n\n",
      "  Args:\n",
      "    query: LangGraph human-in-the-loop workflow site:reddit.com\n",
      "=================================\u001b[1m Tool Message \u001b[0m=================================\n",
      "Name: tavily_web_search\n",
      "\n",
      "[{\"title\": \"Human intervention in agent workflows : r/LangChain - Reddit\", \"url\": \"https://www.reddit.com/r/LangChain/comments/1bjnmu4/human_intervention_in_agent_workflows/\", \"content\": \"Reddit - Dive into anything Open menu Open navigation  Go to Reddit Home Go to LangChain r/LangChain r/LangChain When building LLM workflows with LangChain/LangGraph what's the best way to build a node in the workflow where a human can validate/approve/reject a flow? Top Posts Reddit Reddit Reddit Action Movies & Series Animated Movies & Series Comedy Movies & Series Crime, Mystery, & Thriller Movies & Series Documentary Movies & Series Drama Movies & Series Fantasy Movies & Series Horror Movies & Series Movie News & Discussion Reality TV Romance Movies & Series Sci-Fi Movies & Series Superhero Movies & Series*   TV News & Discussion Communities Best of Reddit Topics Reddit Rules Privacy Policy User Agreement Reddit, Inc.\", \"score\": 0.65359193, \"raw_content\": null}]\n",
      "==================================\u001b[1m Ai Message \u001b[0m==================================\n",
      "Tool Calls:\n",
      "  tavily_web_search (call_HyLhnw2rCCF44dnMZOVFVmqs)\n",
      " Call ID: call_HyLhnw2rCCF44dnMZOVFVmqs\n",
      "  Args:\n",
      "    query: 파이썬 학습 자료 추천\n",
      "=================================\u001b[1m Tool Message \u001b[0m=================================\n",
      "Name: tavily_web_search\n",
      "\n",
      "[{\"title\": \"파이썬 독학자를 위한 최고의 학습 자료 추천\", \"url\": \"https://ackbarix.tistory.com/597\", \"content\": \"파이썬 독학에 필요한 최고의 자료를 찾고 계신가요? 초보부터 경험자까지 추천하는 학습 자료와 유용한 팁을 확인하고 지금 바로 파이썬 마스터의 길로! 파이썬을 혼자 배우고 싶은 분들을 위한 최고의 학습 자료와 가이드를 소개합니다. 독학으로도 파이썬을 마스터할 수 있는 비법을\", \"score\": 0.8047902, \"raw_content\": \"직월프\\n\\n카테고리\\n\\n최근 글\\n\\n인기 글\\n\\n파이썬 독학자를 위한 최고의 학습 자료 추천\\n\\n파이썬 독학에 필요한 최고의 자료를 찾고 계신가요? 초보부터 경험자까지 추천하는 학습 자료와 유용한 팁을 확인하고 지금 바로 파이썬 마스터의 길로! 파이썬을 혼자 배우고 싶은 분들을 위한 최고의 학습 자료와 가이드를 소개합니다. 독학으로도 파이썬을 마스터할 수 있는 비법을 알려드립니다.\\n\\n\\n\\n파이썬(Python) 독학에 도전하고 계신가요? 웹 개발부터 인공지능까지, 파이썬은 그 가능성이 무궁무진합니다. \\\"파이썬은 배우기 쉽고 읽기 쉬운 오픈 소스 언어로, 인터넷에서 많은 자료와 소스 코드를 찾아볼 수 있습니다.\\\" 이 글을 통해 여러분의 파이썬 독학 여정에 필요한 최고의 학습 자료를 추천해드리겠습니다!\\n\\n\\n\\n1. 파이썬 독학의 가능성\\n\\n파이썬은 다양한 분야에서 활용되는 강력한 프로그래밍 언어입니다. 웹 개발, 데이터 분석, 인공 지능, 기계 학습 등 현대 기술의 많은 영역에서 파이썬의 역할이 중요해지고 있죠. 파이썬은 그 구조가 직관적이고, 배우기 쉬운 언어로 알려져 있어, 프로그래밍 입문자들에게도 큰 인기를 얻고 있습니다. 오픈 소스 언어로서의 파이썬은 방대한 커뮤니티를 통해 지속적으로 발전하고 있으며, 이는 독학자들에게도 큰 장점으로 작용합니다.\\n\\n1.1. 파이썬 활용 분야\\n\\n파이썬은 그 활용도가 매우 넓어, 웹 사이트 백엔드 개발부터 데이터 과학, 인공 지능 개발에 이르기까지 다양한 분야에서 쓰입니다. 간단한 스크립트 작성부터 복잡한 시스템 개발까지, 파이썬은 유연성을 자랑합니다. 이러한 다양한 활용 분야를 이해하는 것은 파이썬 학습의 동기를 부여하고, 실제 프로젝트에 적용할 수 있는 실력을 길러줍니다.\\n\\n1.2. 오픈 소스 언어로서의 장점\\n\\n파이썬은 오픈 소스 언어이기 때문에 전 세계 개발자들이 자유롭게 사용하고, 개선할 수 있습니다. 이로 인해 다양한 라이브러리와 프레임워크가 개발되었고, 이는 독학자들이 필요한 기능을 쉽게 구현할 수 있게 해줍니다. 또한, 오픈 소스 커뮤니티는 학습 자료와 지원을 제공하는 훌륭한 장소이기도 합니다.\\n\\n1.3. 구글링을 통한 소스 코드 학습\\n\\n파이썬을 배우는 데 있어 구글링은 필수적인 기술입니다. 인터넷에는 수많은 파이썬 예제 코드와 튜토리얼이 존재하며, 이를 통해 다양한 문제를 해결하는 방법을 배울 수 있습니다. 실제 코드를 보고 분석하며 따라 해보는 것은 학습 과정에서 매우 중요한 부분입니다.\\n\\n2. 파이썬 독학 : 대중적인 프로그래밍 언어에 대한 연습과 강의\\n\\n파이썬 독학을 위한 자료는 인터넷 상에 무궁무진합니다. 유튜브, 코세라(Coursera), 에듀레카(Edureka)와 같은 온라인 플랫폼들은 무료로 접근할 수 있는 고품질의 강의를 제공하고 있습니다. 이러한 강의들은 파이썬의 기본 개념부터 고급 주제까지 다루고 있어, 모든 수준의 학습자에게 적합합니다.\\n\\n2.1. 온라인 플랫폼을 통한 무료 강의 접근\\n\\n온라인 교육 플랫폼들은 다양한 파이썬 강의를 무료, 혹은 저렴한 가격에 제공합니다. 이러한 강의들은 전문 강사들에 의해 제작되어, 체계적인 학습이 가능하도록 구성되어 있습니다. 독학자들은 자신의 학습 속도에 맞춰 강의를 듣고, 실습을 할 수 있습니다.\\n\\n2.2. 코딩 도장을 활용한 실력 향상\\n\\n코딩 도장(Coding Dojo)과 같은 실습 중심의 사이트들은 파이썬 실력을 향상시키기에 아주 좋은 도구입니다. 이러한 사이트들은 다양한 난이도의 문제를 제공하며, 학습자가 직접 코드를 작성하고 테스트할 수 있는 환경을 제공합니다. 문제 해결 과정에서 발생하는 오류를 해결하는 것은 프로그래밍 실력을 한 단계 업그레이드하는 데 도움을 줍니다.\\n\\n2.3. '점프 투 파이썬'을 통한 기본 개념 학습\\n\\n'점프 투 파이썬(Jump to Python)'과 같은 책은 파이썬의 기본 개념과 문법을 이해하는 데 큰 도움을 줍니다. 이 책은 초보자도 쉽게 이해할 수 있도록 구성되어 있으며, 기초부터 차근차근 학습할 수 있도록 도와줍니다. 책에 포함된 예제를 직접 따라 해보는 것은 이론을 실습으로 연결하는 데 매우 중요합니다.\\n\\n3. 파이썬 독학을 위한 무료 강의와 코딩 도장\\n\\n파이썬 학습자들은 자신의 학습 속도를 조절하며, 다양한 자료를 활용하여 독학할 수 있습니다. 무료 강의와 코딩 도장은 학습자가 자신의 실력을 점검하고, 필요한 지식을 쌓을 수 있는 좋은 기회를 제공합니다.\\n\\n3.1. 학습 속도 조절의 중요성\\n\\n독학은 자기 주도적 학습이 중요합니다. 학습자는 자신의 이해도와 시간을 고려하여 학습 속도를 조절해야 합니다. 너무 서두르지 않고, 하나의 주제에 대해 충분히 이해하고 넘어가는 것이 중요합니다. 이는 장기적으로 학습 효과를 극대화하는 데 도움이 됩니다.\\n\\n3.2. 다양한 무료 강의 자료\\n\\n인터넷 상에는 다양한 무료 파이썬 강의 자료가 있습니다. 이러한 자료들은 학습자가 자신의 수준에 맞는 강의를 선택하여 학습할 수 있도록 돕습니다. 무료 강의 자료를 활용하는 것은 비용 부담 없이 지속적인 학습을 가능하게 합니다.\\n\\n3.3. 코딩 도장의 이론과 실습 과제\\n\\n코딩 도장에서 제공하는 이론 강의와 실습 과제는 이론을 실제 코딩으로 연결하는 데 중요 이제 여러분은 파이썬 독학의 길에 필요한 다양한 학습 자료를 알게 되셨습니다. '점프 투 파이썬'으로 기본을 다지고, 온라인 강의와 코딩 도장을 통해 실력을 쌓아가세요. 구글링으로 새로운 문제를 해결하는 방법을 배우며, 커뮤니티와 스택 오버플로우를 활용해 지식을 넓혀가는 여정을 시작해보세요. 여러분의 파이썬 마스터가 되는 여정에 응원을 보냅니다!\\n\\n\\n\\n파이썬을 독학할 때 가장 중요한 것은 꾸준한 연습과 실습입니다. 이론만으로는 충분하지 않으며, 실제 코드를 작성하고 문제를 해결해보는 경험이 필요합니다. 처음에는 간단한 프로그램을 작성해보며 기본기를 다지고, 점차 복잡한 프로젝트에 도전하는 것이 좋습니다. 또한, 온라인 커뮤니티나 포럼에 참여하여 다른 학습자들과 지식을 공유하는 것도 도움이 됩니다. Stack Overflow, GitHub, Reddit의 Python 커뮤니티 등에서 다른 개발자들과 의견을 나누고, 새로운 팁을 얻을 수 있습니다.\\n\\n이제 여러분은 파이썬 독학의 길을 걷기 위한 충분한 정보를 갖추셨습니다. 시작은 '점프 투 파이썬'과 같은 기초 자료로 기본 문법을 익히는 것에서부터, 온라인 강의와 코딩 도장을 통해 실력을 쌓아가는 것까지, 여러분의 여정은 단계별로 체계적으로 진행될 수 있습니다. 마지막으로, 커뮤니티 참여를 통해 지속적으로 배움을 실천하고, 도전적인 프로젝트에 참여하여 실전 경험을 쌓아가세요. 파이썬의 세계는 여러분을 환영합니다. 화이팅!\\n\\n'IT' 카테고리의 다른 글\\n\\n옵시디언 vs 노션 : 초보자를 위한 선택 가이드(0) | 2024.01.12\\niOS 17.2 업데이트: 아이폰 15 프의 혁신적 기능과 사용자 경험 향상(0) | 2023.12.28\\nZEUSLAP 말고 ZSUS 15.6인치 휴대용 모니터를 선택하다(1) | 2023.11.14\\nUSB-C가 탑재된 애플펜슬(Apple Pencil) 3세대의 디자인, 호환성, 기능, 가격, 출시일 알아보기(1) | 2023.10.18\\n당장 할 수 있는 TV, 컴퓨터, 노트북 모니터 청소 방법(0) | 2023.09.25\\n태그\\n\\n볼 만한 글\\n\\n댓글0\\n\\n💲 추천 글\\n\\n\\n\\n\\n\\n티스토리툴바\\n\\n\\n\\n\"}]\n",
      "==================================\u001b[1m Ai Message \u001b[0m==================================\n",
      "\n",
      "파이썬을 배우고 싶으시다면 다음의 유용한 자료를 추천드립니다:\n",
      "\n",
      "1. **[파이썬 독학자를 위한 최고의 학습 자료 추천](https://ackbarix.tistory.com/597)**  \n",
      "   이 글에서는 초보자부터 경험자까지 추천하는 다양한 학습 자료와 유용한 팁을 제공합니다. 파이썬의 기본 개념부터 고급 주제까지 다루며, 독학으로 파이썬을 마스터할 수 있는 방법을 소개합니다.\n",
      "\n",
      "2. **온라인 강의 플랫폼**  \n",
      "   - **Coursera**: 다양한 파이썬 강의를 제공하며, 무료로 수강할 수 있는 과정도 많습니다.\n",
      "   - **edX**: 유명 대학의 강의를 통해 파이썬을 배울 수 있습니다.\n",
      "   - **YouTube**: 많은 무료 튜토리얼과 강의가 있습니다.\n",
      "\n",
      "3. **추천 도서**  \n",
      "   - **'점프 투 파이썬'**: 파이썬의 기본 개념과 문법을 쉽게 이해할 수 있도록 구성된 책입니다.\n",
      "\n",
      "4. **코딩 도장**  \n",
      "   - **코딩 도장(Coding Dojo)**: 다양한 난이도의 문제를 제공하여 실력을 향상시킬 수 있는 사이트입니다.\n",
      "\n",
      "5. **커뮤니티 참여**  \n",
      "   - **Stack Overflow**: 질문하고 답변을 통해 지식을 넓힐 수 있는 플랫폼입니다.\n",
      "   - **Reddit의 Python 커뮤니티**: 다른 개발자들과 의견을 나누고 새로운 팁을 얻을 수 있습니다.\n",
      "\n",
      "이 자료들을 통해 파이썬 학습을 시작해보세요!\n"
     ]
    }
   ],
   "source": [
    "# 최종 결과 출력\n",
    "for msg in graph.get_state(config).values[\"messages\"]:\n",
    "    msg.pretty_print()"
   ]
  }
 ],
 "metadata": {
  "kernelspec": {
   "display_name": "venv",
   "language": "python",
   "name": "python3"
  },
  "language_info": {
   "codemirror_mode": {
    "name": "ipython",
    "version": 3
   },
   "file_extension": ".py",
   "mimetype": "text/x-python",
   "name": "python",
   "nbconvert_exporter": "python",
   "pygments_lexer": "ipython3",
   "version": "3.11.9"
  }
 },
 "nbformat": 4,
 "nbformat_minor": 2
}
