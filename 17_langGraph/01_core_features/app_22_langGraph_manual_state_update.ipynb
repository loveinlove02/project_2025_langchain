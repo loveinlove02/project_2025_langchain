{
 "cells": [
  {
   "cell_type": "code",
   "execution_count": 1,
   "metadata": {},
   "outputs": [],
   "source": [
    "from dotenv import load_dotenv\n",
    "import os\n",
    "\n",
    "load_dotenv(verbose=True)\n",
    "key = os.getenv('OPENAI_API_KEY')"
   ]
  },
  {
   "cell_type": "code",
   "execution_count": 2,
   "metadata": {},
   "outputs": [],
   "source": [
    "from typing import Annotated, List, Dict\n",
    "from typing_extensions import TypedDict\n",
    "from langgraph.graph.message import add_messages\n",
    "\n",
    "from langgraph.graph import StateGraph \n",
    "from langgraph.graph import START, END\n",
    "\n",
    "from langgraph.prebuilt import ToolNode, tools_condition\n",
    "from langchain_core.tools import tool\n",
    "\n",
    "from langchain_teddynote.tools.tavily import TavilySearch\n",
    "from langchain_teddynote.tools import GoogleNews\n",
    "\n",
    "from langchain_teddynote.graphs import visualize_graph\n",
    "from langchain_teddynote.messages import display_message_tree\n",
    "from langchain_teddynote.messages import pretty_print_messages\n",
    "from langchain_core.runnables import RunnableConfig\n",
    "\n",
    "from langchain_core.messages import HumanMessage\n",
    "from langchain_core.messages import AIMessage, ToolMessage\n",
    "import json\n",
    "\n",
    "from langchain_openai import ChatOpenAI"
   ]
  },
  {
   "cell_type": "code",
   "execution_count": 3,
   "metadata": {},
   "outputs": [],
   "source": [
    "######### 1. 상태 정의 #########\n",
    "\n",
    "# 상태 정의\n",
    "class State(TypedDict):\n",
    "    messages: Annotated[list, add_messages]"
   ]
  },
  {
   "cell_type": "code",
   "execution_count": 4,
   "metadata": {},
   "outputs": [],
   "source": [
    "######### 2. 도구 정의 및 바인딩 #########\n",
    "\n",
    "tool = TavilySearch(max_results=1)\n",
    "\n",
    "tools = [tool]"
   ]
  },
  {
   "cell_type": "code",
   "execution_count": 5,
   "metadata": {},
   "outputs": [],
   "source": [
    "######### 3. LLM을 도구와 결합 #########\n",
    "\n",
    "llm = ChatOpenAI(\n",
    "    api_key=key, \n",
    "    model_name='gpt-4o-mini',\n",
    "    temperature=0.1\n",
    ")\n",
    "\n",
    "llm_with_tools = llm.bind_tools(tools)"
   ]
  },
  {
   "cell_type": "code",
   "execution_count": 6,
   "metadata": {},
   "outputs": [],
   "source": [
    "def chatbot(state: State):\n",
    "    print('===== chatbot() 함수 시작 =====')\n",
    "    \n",
    "    print(\"[1] chatbot() 으로 넘어온 메시지: \")\n",
    "\n",
    "    message_type1 = ''\n",
    "\n",
    "    for msg in state['messages']:\n",
    "        if isinstance(msg, HumanMessage):\n",
    "            message_type1 = message_type1 + '[HumanMessage]'\n",
    "        elif isinstance(msg, AIMessage):\n",
    "            message_type1 = message_type1 + '[AIMessage]'\n",
    "        elif isinstance(msg, ToolMessage):\n",
    "            message_type1 = message_type1 + '[ToolMessage]'\n",
    "        \n",
    "        print(f'메시지 타입: {message_type1}')\n",
    "        print(msg)\n",
    "        print()\n",
    "\n",
    "    print(f\"\\n[2] 메시지 개수 : {len(state['messages'])}\\n\")\n",
    "\n",
    "    answer = llm_with_tools.invoke(state['messages'])\n",
    "\n",
    "    # print(f'[도구 사용 LLM 실행 결과 content]: {answer.content}')\n",
    "    \n",
    "    print('[3] chatbot()에서 실행:')\n",
    "    print('메시지 타입: ', end='')\n",
    "\n",
    "    message_type2 = ''\n",
    "    if isinstance(answer, AIMessage):\n",
    "        message_type2 = message_type2 + '[AIMessage]'\n",
    "    elif isinstance(answer, HumanMessage):\n",
    "        message_type2 = message_type2 + '[HumanMessage]'\n",
    "    elif isinstance(answer, ToolMessage):\n",
    "        message_type2 = message_type2 + '[ToolMessage]'\n",
    "    else:\n",
    "        message_type2 = type(answer)\n",
    "\n",
    "    print(message_type2)\n",
    "    print(answer)\n",
    "    print()\n",
    "\n",
    "    answer_value = {'messages': [answer]}\n",
    "\n",
    "    print(f\"[4] chatbot()에서 실행 후 메시지 개수: {message_type1} {message_type2} {len(state['messages']) + len(answer_value)}\") \n",
    "    print('===== chatbot() 함수  끝 =====')\n",
    "    print()\n",
    "\n",
    "    return answer_value"
   ]
  },
  {
   "cell_type": "code",
   "execution_count": 7,
   "metadata": {},
   "outputs": [],
   "source": [
    "graph_builder = StateGraph(State)"
   ]
  },
  {
   "cell_type": "code",
   "execution_count": 8,
   "metadata": {},
   "outputs": [
    {
     "data": {
      "text/plain": [
       "<langgraph.graph.state.StateGraph at 0x1e573d4bad0>"
      ]
     },
     "execution_count": 8,
     "metadata": {},
     "output_type": "execute_result"
    }
   ],
   "source": [
    "# chatbot 노드 추가\n",
    "graph_builder.add_node('chatbot', chatbot)"
   ]
  },
  {
   "cell_type": "code",
   "execution_count": 9,
   "metadata": {},
   "outputs": [],
   "source": [
    "# 도구 노드 생성\n",
    "tool_node = ToolNode(tools=tools)"
   ]
  },
  {
   "cell_type": "code",
   "execution_count": 10,
   "metadata": {},
   "outputs": [
    {
     "data": {
      "text/plain": [
       "<langgraph.graph.state.StateGraph at 0x1e573d4bad0>"
      ]
     },
     "execution_count": 10,
     "metadata": {},
     "output_type": "execute_result"
    }
   ],
   "source": [
    "# 도구 노드 추가\n",
    "graph_builder.add_node('tools', tool_node)"
   ]
  },
  {
   "cell_type": "code",
   "execution_count": 11,
   "metadata": {},
   "outputs": [
    {
     "data": {
      "text/plain": [
       "<langgraph.graph.state.StateGraph at 0x1e573d4bad0>"
      ]
     },
     "execution_count": 11,
     "metadata": {},
     "output_type": "execute_result"
    }
   ],
   "source": [
    "graph_builder.add_conditional_edges(\n",
    "    'chatbot',\n",
    "    tools_condition\n",
    ")"
   ]
  },
  {
   "cell_type": "code",
   "execution_count": 12,
   "metadata": {},
   "outputs": [
    {
     "data": {
      "text/plain": [
       "<langgraph.graph.state.StateGraph at 0x1e573d4bad0>"
      ]
     },
     "execution_count": 12,
     "metadata": {},
     "output_type": "execute_result"
    }
   ],
   "source": [
    "######### 5. 엣지 추가 #########\n",
    "\n",
    "# tools 에서 chatbot 으로\n",
    "graph_builder.add_edge('tools', 'chatbot')"
   ]
  },
  {
   "cell_type": "code",
   "execution_count": 13,
   "metadata": {},
   "outputs": [
    {
     "data": {
      "text/plain": [
       "<langgraph.graph.state.StateGraph at 0x1e573d4bad0>"
      ]
     },
     "execution_count": 13,
     "metadata": {},
     "output_type": "execute_result"
    }
   ],
   "source": [
    "# START 에서 chatbot 으로\n",
    "graph_builder.add_edge(START, 'chatbot')"
   ]
  },
  {
   "cell_type": "code",
   "execution_count": 14,
   "metadata": {},
   "outputs": [
    {
     "data": {
      "text/plain": [
       "<langgraph.graph.state.StateGraph at 0x1e573d4bad0>"
      ]
     },
     "execution_count": 14,
     "metadata": {},
     "output_type": "execute_result"
    }
   ],
   "source": [
    "# chatbot 에서 END 로\n",
    "graph_builder.add_edge('chatbot', END)"
   ]
  },
  {
   "cell_type": "code",
   "execution_count": 15,
   "metadata": {},
   "outputs": [],
   "source": [
    "######### 6. 메모리 생성 #######\n",
    "\n",
    "from langgraph.checkpoint.memory import MemorySaver\n",
    "\n",
    "memory = MemorySaver()"
   ]
  },
  {
   "cell_type": "code",
   "execution_count": 16,
   "metadata": {},
   "outputs": [],
   "source": [
    "######### 7. 그래프 컴파일 #######\n",
    "\n",
    "graph = graph_builder.compile(checkpointer=memory)"
   ]
  },
  {
   "cell_type": "code",
   "execution_count": 17,
   "metadata": {},
   "outputs": [
    {
     "data": {
      "image/png": "[encoded data removed]",
      "text/plain": [
       "<IPython.core.display.Image object>"
      ]
     },
     "metadata": {},
     "output_type": "display_data"
    }
   ],
   "source": [
    "######### 8. 그래프 #######\n",
    "\n",
    "visualize_graph(graph)"
   ]
  },
  {
   "cell_type": "code",
   "execution_count": 19,
   "metadata": {},
   "outputs": [],
   "source": [
    "question = \"대구 중앙떡볶이에 대해서 알려주세요\"\n",
    "\n",
    "input = State(messages=[(\"user\", question)])\n",
    "\n",
    "# config 설정\n",
    "config = RunnableConfig(\n",
    "    recursion_limit=10,             \n",
    "    configurable={\"thread_id\": '1'},  \n",
    "    tags=[\"data-tag\"],                  \n",
    ")"
   ]
  },
  {
   "cell_type": "code",
   "execution_count": 20,
   "metadata": {},
   "outputs": [
    {
     "data": {
      "text/plain": [
       "['messages',\n",
       " '__start__',\n",
       " 'chatbot',\n",
       " 'tools',\n",
       " 'branch:__start__:__self__:chatbot',\n",
       " 'branch:__start__:__self__:tools',\n",
       " 'branch:chatbot:__self__:chatbot',\n",
       " 'branch:chatbot:__self__:tools',\n",
       " 'branch:tools:__self__:chatbot',\n",
       " 'branch:tools:__self__:tools',\n",
       " 'start:chatbot',\n",
       " 'branch:chatbot:tools_condition:tools']"
      ]
     },
     "execution_count": 20,
     "metadata": {},
     "output_type": "execute_result"
    }
   ],
   "source": [
    "list(graph.channels)"
   ]
  },
  {
   "cell_type": "code",
   "execution_count": 21,
   "metadata": {},
   "outputs": [
    {
     "name": "stdout",
     "output_type": "stream",
     "text": [
      "\n",
      "========================= 여기서 시작 ====================\n",
      "[event] 바깥 for 시작 (1)\n",
      "\n",
      "실행한 노드 이름: messages\n",
      "해당 노드 값: \n",
      "\n",
      "[HumanMessage(content='대구 중앙떡볶이에 대해서 알려주세요', additional_kwargs={}, response_metadata={}, id='f08fc92c-df5d-49af-aff8-39ef8072c1bc')]\n",
      "바깥 for 끝\n",
      "========================= 여기서 끝 =========================\n",
      "\n",
      "===== chatbot() 함수 시작 =====\n",
      "[1] chatbot() 으로 넘어온 메시지: \n",
      "메시지 타입: [HumanMessage]\n",
      "content='대구 중앙떡볶이에 대해서 알려주세요' additional_kwargs={} response_metadata={} id='f08fc92c-df5d-49af-aff8-39ef8072c1bc'\n",
      "\n",
      "\n",
      "[2] 메시지 개수 : 1\n",
      "\n",
      "[3] chatbot()에서 실행:\n",
      "메시지 타입: [AIMessage]\n",
      "content='' additional_kwargs={'tool_calls': [{'id': 'call_GxdfJHl8ztRsTc46MTYaRBwS', 'function': {'arguments': '{\"query\":\"대구 중앙떡볶이\"}', 'name': 'tavily_web_search'}, 'type': 'function'}], 'refusal': None} response_metadata={'token_usage': {'completion_tokens': 25, 'prompt_tokens': 102, 'total_tokens': 127, 'completion_tokens_details': {'accepted_prediction_tokens': 0, 'audio_tokens': 0, 'reasoning_tokens': 0, 'rejected_prediction_tokens': 0}, 'prompt_tokens_details': {'audio_tokens': 0, 'cached_tokens': 0}}, 'model_name': 'gpt-4o-mini-2024-07-18', 'system_fingerprint': 'fp_b8bc95a0ac', 'finish_reason': 'tool_calls', 'logprobs': None} id='run-3a004e34-dc48-4f3b-a5c1-dd090c3d071f-0' tool_calls=[{'name': 'tavily_web_search', 'args': {'query': '대구 중앙떡볶이'}, 'id': 'call_GxdfJHl8ztRsTc46MTYaRBwS', 'type': 'tool_call'}] usage_metadata={'input_tokens': 102, 'output_tokens': 25, 'total_tokens': 127, 'input_token_details': {'audio': 0, 'cache_read': 0}, 'output_token_details': {'audio': 0, 'reasoning': 0}}\n",
      "\n",
      "[4] chatbot()에서 실행 후 메시지 개수: [HumanMessage] [AIMessage] 2\n",
      "===== chatbot() 함수  끝 =====\n",
      "\n",
      "\n",
      "========================= 여기서 시작 ====================\n",
      "[event] 바깥 for 시작 (2)\n",
      "\n",
      "실행한 노드 이름: messages\n",
      "해당 노드 값: \n",
      "\n",
      "[HumanMessage(content='대구 중앙떡볶이에 대해서 알려주세요', additional_kwargs={}, response_metadata={}, id='f08fc92c-df5d-49af-aff8-39ef8072c1bc'), AIMessage(content='', additional_kwargs={'tool_calls': [{'id': 'call_GxdfJHl8ztRsTc46MTYaRBwS', 'function': {'arguments': '{\"query\":\"대구 중앙떡볶이\"}', 'name': 'tavily_web_search'}, 'type': 'function'}], 'refusal': None}, response_metadata={'token_usage': {'completion_tokens': 25, 'prompt_tokens': 102, 'total_tokens': 127, 'completion_tokens_details': {'accepted_prediction_tokens': 0, 'audio_tokens': 0, 'reasoning_tokens': 0, 'rejected_prediction_tokens': 0}, 'prompt_tokens_details': {'audio_tokens': 0, 'cached_tokens': 0}}, 'model_name': 'gpt-4o-mini-2024-07-18', 'system_fingerprint': 'fp_b8bc95a0ac', 'finish_reason': 'tool_calls', 'logprobs': None}, id='run-3a004e34-dc48-4f3b-a5c1-dd090c3d071f-0', tool_calls=[{'name': 'tavily_web_search', 'args': {'query': '대구 중앙떡볶이'}, 'id': 'call_GxdfJHl8ztRsTc46MTYaRBwS', 'type': 'tool_call'}], usage_metadata={'input_tokens': 102, 'output_tokens': 25, 'total_tokens': 127, 'input_token_details': {'audio': 0, 'cache_read': 0}, 'output_token_details': {'audio': 0, 'reasoning': 0}})]\n",
      "바깥 for 끝\n",
      "========================= 여기서 끝 =========================\n",
      "\n",
      "전체 반복문 2번 실행\n"
     ]
    }
   ],
   "source": [
    "question = \"대구 중앙떡볶이에 대해서 알려주세요\"\n",
    "\n",
    "input = State(messages=[(\"user\", question)])\n",
    "\n",
    "# config 설정\n",
    "config = RunnableConfig(\n",
    "    recursion_limit=10,             \n",
    "    configurable={\"thread_id\": '2'},  \n",
    "    tags=[\"data-tag\"],                  \n",
    ")\n",
    "\n",
    "i = 1\n",
    "\n",
    "for event in graph.stream(\n",
    "    input=input, \n",
    "    config=config, \n",
    "    interrupt_before=[\"tools\"], \n",
    "    stream_mode=\"values\"\n",
    "):\n",
    "    print()\n",
    "    print('========================= 여기서 시작 ====================')\n",
    "    print(f'[event] 바깥 for 시작 ({i})')\n",
    "    print()\n",
    "\n",
    "    for k, value in event.items():\n",
    "        print(f'실행한 노드 이름: {k}')\n",
    "        print(f'해당 노드 값: \\n')\n",
    "        print(value)\n",
    "        \n",
    "\n",
    "        if value and 'messages' in value:\n",
    "\n",
    "            if isinstance(value['messages'][-1], HumanMessage):\n",
    "                print('==================== HumanMessage ========================')\n",
    "                print(f\"[해당 노드 값] content: {value['messages'][-1].content}\")\n",
    "                print('==================== END HumanMessage ====================')            \n",
    "            elif isinstance(value['messages'][-1], AIMessage):\n",
    "                print('==================== AIMessage ========================')\n",
    "                print(f\"[해당 노드 값] content: {value['messages'][-1].content}\")\n",
    "\n",
    "                if hasattr(value['messages'][-1], 'tool_calls') and len(value['messages'][-1].tool_calls) > 0:\n",
    "                    print('tool call 있음')\n",
    "                    tool_result = value['messages'][-1].tool_calls\n",
    "                    print(f\"도구 이름 : {tool_result[0]['name']}\")\n",
    "                    print(f\"도구 인자: {tool_result[0]['args']}\")            \n",
    "                else:\n",
    "                    print('tool call 없음')                \n",
    "                print('==================== END AIMessage ====================')\n",
    "            elif isinstance(value['messages'][-1], ToolMessage):\n",
    "                print('==================== ToolMessage ========================')\n",
    "                print(f\"[해당 노드 값] 도구 도구 이름 : {value['messages'][-1].name}\")\n",
    "\n",
    "                content = json.loads(value['messages'][-1].content)\n",
    "\n",
    "                if content and isinstance(content, list) and len(content) > 0:                \n",
    "                    print(f\"[해당 노드 값] 제목: {content[0].get('title', 'No title')}\")\n",
    "                    print(f\"[해당 노드 값] URL: {content[0].get('url', 'No URL')}\")\n",
    "                    print(f\"[해당 노드 값] 내용: {content[0].get('content', 'No URL')}\")                \n",
    "                else:\n",
    "                    print(\"No content or invalid content format in ToolMessage\")\n",
    "\n",
    "                print('==================== END ToolMessage ====================')\n",
    "\n",
    "\n",
    "    i=i+1\n",
    "\n",
    "    print('바깥 for 끝')\n",
    "    print('========================= 여기서 끝 =========================') \n",
    "    print()\n",
    "\n",
    "print(f'전체 반복문 {i-1}번 실행')  "
   ]
  },
  {
   "cell_type": "code",
   "execution_count": 22,
   "metadata": {},
   "outputs": [],
   "source": [
    "snapshot = graph.get_state(config)      # 그래프 상태 스냅샷 생성"
   ]
  },
  {
   "cell_type": "code",
   "execution_count": 23,
   "metadata": {},
   "outputs": [
    {
     "data": {
      "text/plain": [
       "StateSnapshot(values={'messages': [HumanMessage(content='대구 중앙떡볶이에 대해서 알려주세요', additional_kwargs={}, response_metadata={}, id='f08fc92c-df5d-49af-aff8-39ef8072c1bc'), AIMessage(content='', additional_kwargs={'tool_calls': [{'id': 'call_GxdfJHl8ztRsTc46MTYaRBwS', 'function': {'arguments': '{\"query\":\"대구 중앙떡볶이\"}', 'name': 'tavily_web_search'}, 'type': 'function'}], 'refusal': None}, response_metadata={'token_usage': {'completion_tokens': 25, 'prompt_tokens': 102, 'total_tokens': 127, 'completion_tokens_details': {'accepted_prediction_tokens': 0, 'audio_tokens': 0, 'reasoning_tokens': 0, 'rejected_prediction_tokens': 0}, 'prompt_tokens_details': {'audio_tokens': 0, 'cached_tokens': 0}}, 'model_name': 'gpt-4o-mini-2024-07-18', 'system_fingerprint': 'fp_b8bc95a0ac', 'finish_reason': 'tool_calls', 'logprobs': None}, id='run-3a004e34-dc48-4f3b-a5c1-dd090c3d071f-0', tool_calls=[{'name': 'tavily_web_search', 'args': {'query': '대구 중앙떡볶이'}, 'id': 'call_GxdfJHl8ztRsTc46MTYaRBwS', 'type': 'tool_call'}], usage_metadata={'input_tokens': 102, 'output_tokens': 25, 'total_tokens': 127, 'input_token_details': {'audio': 0, 'cache_read': 0}, 'output_token_details': {'audio': 0, 'reasoning': 0}})]}, next=('tools',), config={'configurable': {'thread_id': '2', 'checkpoint_ns': '', 'checkpoint_id': '1f006c6e-ae84-6499-8001-f85d2f79697f'}}, metadata={'source': 'loop', 'writes': {'chatbot': {'messages': [AIMessage(content='', additional_kwargs={'tool_calls': [{'id': 'call_GxdfJHl8ztRsTc46MTYaRBwS', 'function': {'arguments': '{\"query\":\"대구 중앙떡볶이\"}', 'name': 'tavily_web_search'}, 'type': 'function'}], 'refusal': None}, response_metadata={'token_usage': {'completion_tokens': 25, 'prompt_tokens': 102, 'total_tokens': 127, 'completion_tokens_details': {'accepted_prediction_tokens': 0, 'audio_tokens': 0, 'reasoning_tokens': 0, 'rejected_prediction_tokens': 0}, 'prompt_tokens_details': {'audio_tokens': 0, 'cached_tokens': 0}}, 'model_name': 'gpt-4o-mini-2024-07-18', 'system_fingerprint': 'fp_b8bc95a0ac', 'finish_reason': 'tool_calls', 'logprobs': None}, id='run-3a004e34-dc48-4f3b-a5c1-dd090c3d071f-0', tool_calls=[{'name': 'tavily_web_search', 'args': {'query': '대구 중앙떡볶이'}, 'id': 'call_GxdfJHl8ztRsTc46MTYaRBwS', 'type': 'tool_call'}], usage_metadata={'input_tokens': 102, 'output_tokens': 25, 'total_tokens': 127, 'input_token_details': {'audio': 0, 'cache_read': 0}, 'output_token_details': {'audio': 0, 'reasoning': 0}})]}}, 'thread_id': '2', 'step': 1, 'parents': {}}, created_at='2025-03-22T02:39:46.286709+00:00', parent_config={'configurable': {'thread_id': '2', 'checkpoint_ns': '', 'checkpoint_id': '1f006c6e-9a98-6aef-8000-862aa0e18bc3'}}, tasks=(PregelTask(id='4b593062-67c0-114d-fe90-baaa13e6e1ae', name='tools', path=('__pregel_pull', 'tools'), error=None, interrupts=(), state=None, result=None),))"
      ]
     },
     "execution_count": 23,
     "metadata": {},
     "output_type": "execute_result"
    }
   ],
   "source": [
    "snapshot"
   ]
  },
  {
   "cell_type": "code",
   "execution_count": 24,
   "metadata": {},
   "outputs": [
    {
     "data": {
      "text/plain": [
       "[HumanMessage(content='대구 중앙떡볶이에 대해서 알려주세요', additional_kwargs={}, response_metadata={}, id='f08fc92c-df5d-49af-aff8-39ef8072c1bc'),\n",
       " AIMessage(content='', additional_kwargs={'tool_calls': [{'id': 'call_GxdfJHl8ztRsTc46MTYaRBwS', 'function': {'arguments': '{\"query\":\"대구 중앙떡볶이\"}', 'name': 'tavily_web_search'}, 'type': 'function'}], 'refusal': None}, response_metadata={'token_usage': {'completion_tokens': 25, 'prompt_tokens': 102, 'total_tokens': 127, 'completion_tokens_details': {'accepted_prediction_tokens': 0, 'audio_tokens': 0, 'reasoning_tokens': 0, 'rejected_prediction_tokens': 0}, 'prompt_tokens_details': {'audio_tokens': 0, 'cached_tokens': 0}}, 'model_name': 'gpt-4o-mini-2024-07-18', 'system_fingerprint': 'fp_b8bc95a0ac', 'finish_reason': 'tool_calls', 'logprobs': None}, id='run-3a004e34-dc48-4f3b-a5c1-dd090c3d071f-0', tool_calls=[{'name': 'tavily_web_search', 'args': {'query': '대구 중앙떡볶이'}, 'id': 'call_GxdfJHl8ztRsTc46MTYaRBwS', 'type': 'tool_call'}], usage_metadata={'input_tokens': 102, 'output_tokens': 25, 'total_tokens': 127, 'input_token_details': {'audio': 0, 'cache_read': 0}, 'output_token_details': {'audio': 0, 'reasoning': 0}})]"
      ]
     },
     "execution_count": 24,
     "metadata": {},
     "output_type": "execute_result"
    }
   ],
   "source": [
    "snapshot.values['messages']"
   ]
  },
  {
   "cell_type": "code",
   "execution_count": 25,
   "metadata": {},
   "outputs": [],
   "source": [
    "last_message = snapshot.values[\"messages\"][-1]      # 가장 최근 메시지 추출"
   ]
  },
  {
   "cell_type": "code",
   "execution_count": 26,
   "metadata": {},
   "outputs": [
    {
     "data": {
      "text/plain": [
       "AIMessage(content='', additional_kwargs={'tool_calls': [{'id': 'call_GxdfJHl8ztRsTc46MTYaRBwS', 'function': {'arguments': '{\"query\":\"대구 중앙떡볶이\"}', 'name': 'tavily_web_search'}, 'type': 'function'}], 'refusal': None}, response_metadata={'token_usage': {'completion_tokens': 25, 'prompt_tokens': 102, 'total_tokens': 127, 'completion_tokens_details': {'accepted_prediction_tokens': 0, 'audio_tokens': 0, 'reasoning_tokens': 0, 'rejected_prediction_tokens': 0}, 'prompt_tokens_details': {'audio_tokens': 0, 'cached_tokens': 0}}, 'model_name': 'gpt-4o-mini-2024-07-18', 'system_fingerprint': 'fp_b8bc95a0ac', 'finish_reason': 'tool_calls', 'logprobs': None}, id='run-3a004e34-dc48-4f3b-a5c1-dd090c3d071f-0', tool_calls=[{'name': 'tavily_web_search', 'args': {'query': '대구 중앙떡볶이'}, 'id': 'call_GxdfJHl8ztRsTc46MTYaRBwS', 'type': 'tool_call'}], usage_metadata={'input_tokens': 102, 'output_tokens': 25, 'total_tokens': 127, 'input_token_details': {'audio': 0, 'cache_read': 0}, 'output_token_details': {'audio': 0, 'reasoning': 0}})"
      ]
     },
     "execution_count": 26,
     "metadata": {},
     "output_type": "execute_result"
    }
   ],
   "source": [
    "last_message"
   ]
  },
  {
   "cell_type": "code",
   "execution_count": 27,
   "metadata": {},
   "outputs": [
    {
     "data": {
      "text/plain": [
       "''"
      ]
     },
     "execution_count": 27,
     "metadata": {},
     "output_type": "execute_result"
    }
   ],
   "source": [
    "last_message.content"
   ]
  },
  {
   "cell_type": "code",
   "execution_count": 28,
   "metadata": {},
   "outputs": [
    {
     "data": {
      "text/plain": [
       "{'tool_calls': [{'id': 'call_GxdfJHl8ztRsTc46MTYaRBwS',\n",
       "   'function': {'arguments': '{\"query\":\"대구 중앙떡볶이\"}',\n",
       "    'name': 'tavily_web_search'},\n",
       "   'type': 'function'}],\n",
       " 'refusal': None}"
      ]
     },
     "execution_count": 28,
     "metadata": {},
     "output_type": "execute_result"
    }
   ],
   "source": [
    "last_message.additional_kwargs"
   ]
  },
  {
   "cell_type": "code",
   "execution_count": 29,
   "metadata": {},
   "outputs": [
    {
     "data": {
      "text/plain": [
       "[{'id': 'call_GxdfJHl8ztRsTc46MTYaRBwS',\n",
       "  'function': {'arguments': '{\"query\":\"대구 중앙떡볶이\"}',\n",
       "   'name': 'tavily_web_search'},\n",
       "  'type': 'function'}]"
      ]
     },
     "execution_count": 29,
     "metadata": {},
     "output_type": "execute_result"
    }
   ],
   "source": [
    "last_message.additional_kwargs['tool_calls']"
   ]
  },
  {
   "cell_type": "code",
   "execution_count": 30,
   "metadata": {},
   "outputs": [
    {
     "data": {
      "text/plain": [
       "{'id': 'call_GxdfJHl8ztRsTc46MTYaRBwS',\n",
       " 'function': {'arguments': '{\"query\":\"대구 중앙떡볶이\"}',\n",
       "  'name': 'tavily_web_search'},\n",
       " 'type': 'function'}"
      ]
     },
     "execution_count": 30,
     "metadata": {},
     "output_type": "execute_result"
    }
   ],
   "source": [
    "last_message.additional_kwargs['tool_calls'][0]"
   ]
  },
  {
   "cell_type": "code",
   "execution_count": 31,
   "metadata": {},
   "outputs": [
    {
     "data": {
      "text/plain": [
       "'call_GxdfJHl8ztRsTc46MTYaRBwS'"
      ]
     },
     "execution_count": 31,
     "metadata": {},
     "output_type": "execute_result"
    }
   ],
   "source": [
    "last_message.additional_kwargs['tool_calls'][0]['id']"
   ]
  },
  {
   "cell_type": "code",
   "execution_count": 32,
   "metadata": {},
   "outputs": [
    {
     "data": {
      "text/plain": [
       "{'arguments': '{\"query\":\"대구 중앙떡볶이\"}', 'name': 'tavily_web_search'}"
      ]
     },
     "execution_count": 32,
     "metadata": {},
     "output_type": "execute_result"
    }
   ],
   "source": [
    "last_message.additional_kwargs['tool_calls'][0]['function']"
   ]
  },
  {
   "cell_type": "code",
   "execution_count": 33,
   "metadata": {},
   "outputs": [
    {
     "data": {
      "text/plain": [
       "'{\"query\":\"대구 중앙떡볶이\"}'"
      ]
     },
     "execution_count": 33,
     "metadata": {},
     "output_type": "execute_result"
    }
   ],
   "source": [
    "last_message.additional_kwargs['tool_calls'][0]['function']['arguments']"
   ]
  },
  {
   "cell_type": "code",
   "execution_count": 34,
   "metadata": {},
   "outputs": [
    {
     "data": {
      "text/plain": [
       "'tavily_web_search'"
      ]
     },
     "execution_count": 34,
     "metadata": {},
     "output_type": "execute_result"
    }
   ],
   "source": [
    "last_message.additional_kwargs['tool_calls'][0]['function']['name']"
   ]
  },
  {
   "cell_type": "code",
   "execution_count": 35,
   "metadata": {},
   "outputs": [
    {
     "data": {
      "text/plain": [
       "[{'name': 'tavily_web_search',\n",
       "  'args': {'query': '대구 중앙떡볶이'},\n",
       "  'id': 'call_GxdfJHl8ztRsTc46MTYaRBwS',\n",
       "  'type': 'tool_call'}]"
      ]
     },
     "execution_count": 35,
     "metadata": {},
     "output_type": "execute_result"
    }
   ],
   "source": [
    "last_message.tool_calls"
   ]
  },
  {
   "cell_type": "code",
   "execution_count": 36,
   "metadata": {},
   "outputs": [
    {
     "data": {
      "text/plain": [
       "{'name': 'tavily_web_search',\n",
       " 'args': {'query': '대구 중앙떡볶이'},\n",
       " 'id': 'call_GxdfJHl8ztRsTc46MTYaRBwS',\n",
       " 'type': 'tool_call'}"
      ]
     },
     "execution_count": 36,
     "metadata": {},
     "output_type": "execute_result"
    }
   ],
   "source": [
    "last_message.tool_calls[0]"
   ]
  },
  {
   "cell_type": "code",
   "execution_count": 37,
   "metadata": {},
   "outputs": [
    {
     "name": "stdout",
     "output_type": "stream",
     "text": [
      "==================================\u001b[1m Ai Message \u001b[0m==================================\n",
      "Tool Calls:\n",
      "  tavily_web_search (call_GxdfJHl8ztRsTc46MTYaRBwS)\n",
      " Call ID: call_GxdfJHl8ztRsTc46MTYaRBwS\n",
      "  Args:\n",
      "    query: 대구 중앙떡볶이\n"
     ]
    }
   ],
   "source": [
    "last_message.pretty_print()"
   ]
  },
  {
   "cell_type": "code",
   "execution_count": 40,
   "metadata": {},
   "outputs": [],
   "source": [
    "modified_search_result = \"\"\"[수정된 웹 검색 결과] \n",
    "동성로 떡볶이는 수정된 결과 입니다.\"\"\""
   ]
  },
  {
   "cell_type": "code",
   "execution_count": 38,
   "metadata": {},
   "outputs": [
    {
     "data": {
      "text/plain": [
       "'call_GxdfJHl8ztRsTc46MTYaRBwS'"
      ]
     },
     "execution_count": 38,
     "metadata": {},
     "output_type": "execute_result"
    }
   ],
   "source": [
    "# 수정하고자 하는 ToolMessage 의 tool_call_id 추출\n",
    "tool_call_id = last_message.tool_calls[0]['id']\n",
    "tool_call_id"
   ]
  },
  {
   "cell_type": "code",
   "execution_count": 41,
   "metadata": {},
   "outputs": [],
   "source": [
    "from langchain_core.messages import AIMessage, ToolMessage\n",
    "\n",
    "new_messages = [                            # LLM API의 도구 호출과 일치하는 ToolMessage가 필요합니다\n",
    "    \n",
    "    ToolMessage(                                \n",
    "        content=modified_search_result,     # 수정된 웹 검색 결과\n",
    "        tool_call_id=tool_call_id,          # 수정하고자 하는 ToolMessage 의 tool_call_id\n",
    "    ),\n",
    "    # LLM의 응답에 직접적으로 내용 추가\n",
    "    # AIMessage(content=modified_search_result),\n",
    "]"
   ]
  },
  {
   "cell_type": "code",
   "execution_count": 42,
   "metadata": {},
   "outputs": [
    {
     "data": {
      "text/plain": [
       "ToolMessage(content='[수정된 웹 검색 결과] \\n동성로 떡볶이는 수정된 결과 입니다.', tool_call_id='call_GxdfJHl8ztRsTc46MTYaRBwS')"
      ]
     },
     "execution_count": 42,
     "metadata": {},
     "output_type": "execute_result"
    }
   ],
   "source": [
    "new_messages[-1]"
   ]
  },
  {
   "cell_type": "code",
   "execution_count": 43,
   "metadata": {},
   "outputs": [
    {
     "name": "stdout",
     "output_type": "stream",
     "text": [
      "=================================\u001b[1m Tool Message \u001b[0m=================================\n",
      "\n",
      "[수정된 웹 검색 결과] \n",
      "동성로 떡볶이는 수정된 결과 입니다.\n"
     ]
    }
   ],
   "source": [
    "new_messages[-1].pretty_print()"
   ]
  },
  {
   "cell_type": "code",
   "execution_count": 44,
   "metadata": {},
   "outputs": [
    {
     "data": {
      "text/plain": [
       "{'configurable': {'thread_id': '2',\n",
       "  'checkpoint_ns': '',\n",
       "  'checkpoint_id': '1f006c9d-5fdf-68e6-8002-ef2b759c87bb'}}"
      ]
     },
     "execution_count": 44,
     "metadata": {},
     "output_type": "execute_result"
    }
   ],
   "source": [
    "graph.update_state(\n",
    "    config,                         # 업데이트할 상태 지정    \n",
    "    {\"messages\": new_messages},     # 제공할 업데이트된 값. State의 메시지는 \"추가 전용\"으로 기존 상태에 추가됨\n",
    "    as_node=\"tools\",                # 어떤 노드로 부터 나온 상태 값을 업데이터 할 것인가 지정\n",
    ")"
   ]
  },
  {
   "cell_type": "code",
   "execution_count": 45,
   "metadata": {},
   "outputs": [
    {
     "data": {
      "text/plain": [
       "{'messages': [HumanMessage(content='대구 중앙떡볶이에 대해서 알려주세요', additional_kwargs={}, response_metadata={}, id='f08fc92c-df5d-49af-aff8-39ef8072c1bc'),\n",
       "  AIMessage(content='', additional_kwargs={'tool_calls': [{'id': 'call_GxdfJHl8ztRsTc46MTYaRBwS', 'function': {'arguments': '{\"query\":\"대구 중앙떡볶이\"}', 'name': 'tavily_web_search'}, 'type': 'function'}], 'refusal': None}, response_metadata={'token_usage': {'completion_tokens': 25, 'prompt_tokens': 102, 'total_tokens': 127, 'completion_tokens_details': {'accepted_prediction_tokens': 0, 'audio_tokens': 0, 'reasoning_tokens': 0, 'rejected_prediction_tokens': 0}, 'prompt_tokens_details': {'audio_tokens': 0, 'cached_tokens': 0}}, 'model_name': 'gpt-4o-mini-2024-07-18', 'system_fingerprint': 'fp_b8bc95a0ac', 'finish_reason': 'tool_calls', 'logprobs': None}, id='run-3a004e34-dc48-4f3b-a5c1-dd090c3d071f-0', tool_calls=[{'name': 'tavily_web_search', 'args': {'query': '대구 중앙떡볶이'}, 'id': 'call_GxdfJHl8ztRsTc46MTYaRBwS', 'type': 'tool_call'}], usage_metadata={'input_tokens': 102, 'output_tokens': 25, 'total_tokens': 127, 'input_token_details': {'audio': 0, 'cache_read': 0}, 'output_token_details': {'audio': 0, 'reasoning': 0}}),\n",
       "  ToolMessage(content='[수정된 웹 검색 결과] \\n동성로 떡볶이는 수정된 결과 입니다.', id='bba36563-969c-48dc-9838-6ad96ad8e139', tool_call_id='call_GxdfJHl8ztRsTc46MTYaRBwS')]}"
      ]
     },
     "execution_count": 45,
     "metadata": {},
     "output_type": "execute_result"
    }
   ],
   "source": [
    "graph.get_state(config).values"
   ]
  },
  {
   "cell_type": "code",
   "execution_count": 46,
   "metadata": {},
   "outputs": [
    {
     "data": {
      "text/plain": [
       "[HumanMessage(content='대구 중앙떡볶이에 대해서 알려주세요', additional_kwargs={}, response_metadata={}, id='f08fc92c-df5d-49af-aff8-39ef8072c1bc'),\n",
       " AIMessage(content='', additional_kwargs={'tool_calls': [{'id': 'call_GxdfJHl8ztRsTc46MTYaRBwS', 'function': {'arguments': '{\"query\":\"대구 중앙떡볶이\"}', 'name': 'tavily_web_search'}, 'type': 'function'}], 'refusal': None}, response_metadata={'token_usage': {'completion_tokens': 25, 'prompt_tokens': 102, 'total_tokens': 127, 'completion_tokens_details': {'accepted_prediction_tokens': 0, 'audio_tokens': 0, 'reasoning_tokens': 0, 'rejected_prediction_tokens': 0}, 'prompt_tokens_details': {'audio_tokens': 0, 'cached_tokens': 0}}, 'model_name': 'gpt-4o-mini-2024-07-18', 'system_fingerprint': 'fp_b8bc95a0ac', 'finish_reason': 'tool_calls', 'logprobs': None}, id='run-3a004e34-dc48-4f3b-a5c1-dd090c3d071f-0', tool_calls=[{'name': 'tavily_web_search', 'args': {'query': '대구 중앙떡볶이'}, 'id': 'call_GxdfJHl8ztRsTc46MTYaRBwS', 'type': 'tool_call'}], usage_metadata={'input_tokens': 102, 'output_tokens': 25, 'total_tokens': 127, 'input_token_details': {'audio': 0, 'cache_read': 0}, 'output_token_details': {'audio': 0, 'reasoning': 0}}),\n",
       " ToolMessage(content='[수정된 웹 검색 결과] \\n동성로 떡볶이는 수정된 결과 입니다.', id='bba36563-969c-48dc-9838-6ad96ad8e139', tool_call_id='call_GxdfJHl8ztRsTc46MTYaRBwS')]"
      ]
     },
     "execution_count": 46,
     "metadata": {},
     "output_type": "execute_result"
    }
   ],
   "source": [
    "graph.get_state(config).values['messages']"
   ]
  },
  {
   "cell_type": "code",
   "execution_count": 47,
   "metadata": {},
   "outputs": [
    {
     "name": "stdout",
     "output_type": "stream",
     "text": [
      "content='[수정된 웹 검색 결과] \\n동성로 떡볶이는 수정된 결과 입니다.' id='bba36563-969c-48dc-9838-6ad96ad8e139' tool_call_id='call_GxdfJHl8ztRsTc46MTYaRBwS'\n"
     ]
    }
   ],
   "source": [
    "# 가장 최근 1개의 메시지\n",
    "print(graph.get_state(config).values[\"messages\"][-1])"
   ]
  },
  {
   "cell_type": "code",
   "execution_count": 48,
   "metadata": {},
   "outputs": [],
   "source": [
    "snapshot = graph.get_state(config)"
   ]
  },
  {
   "cell_type": "code",
   "execution_count": 49,
   "metadata": {},
   "outputs": [
    {
     "name": "stdout",
     "output_type": "stream",
     "text": [
      "('chatbot',)\n"
     ]
    }
   ],
   "source": [
    "print(snapshot.next)"
   ]
  },
  {
   "cell_type": "code",
   "execution_count": 50,
   "metadata": {},
   "outputs": [
    {
     "name": "stdout",
     "output_type": "stream",
     "text": [
      "\n",
      "========================= 여기서 시작 ====================\n",
      "[event] 바깥 for 시작 (1)\n",
      "\n",
      "실행한 노드 이름: messages\n",
      "해당 노드 값: \n",
      "\n",
      "[HumanMessage(content='대구 중앙떡볶이에 대해서 알려주세요', additional_kwargs={}, response_metadata={}, id='f08fc92c-df5d-49af-aff8-39ef8072c1bc'), AIMessage(content='', additional_kwargs={'tool_calls': [{'id': 'call_GxdfJHl8ztRsTc46MTYaRBwS', 'function': {'arguments': '{\"query\":\"대구 중앙떡볶이\"}', 'name': 'tavily_web_search'}, 'type': 'function'}], 'refusal': None}, response_metadata={'token_usage': {'completion_tokens': 25, 'prompt_tokens': 102, 'total_tokens': 127, 'completion_tokens_details': {'accepted_prediction_tokens': 0, 'audio_tokens': 0, 'reasoning_tokens': 0, 'rejected_prediction_tokens': 0}, 'prompt_tokens_details': {'audio_tokens': 0, 'cached_tokens': 0}}, 'model_name': 'gpt-4o-mini-2024-07-18', 'system_fingerprint': 'fp_b8bc95a0ac', 'finish_reason': 'tool_calls', 'logprobs': None}, id='run-3a004e34-dc48-4f3b-a5c1-dd090c3d071f-0', tool_calls=[{'name': 'tavily_web_search', 'args': {'query': '대구 중앙떡볶이'}, 'id': 'call_GxdfJHl8ztRsTc46MTYaRBwS', 'type': 'tool_call'}], usage_metadata={'input_tokens': 102, 'output_tokens': 25, 'total_tokens': 127, 'input_token_details': {'audio': 0, 'cache_read': 0}, 'output_token_details': {'audio': 0, 'reasoning': 0}}), ToolMessage(content='[수정된 웹 검색 결과] \\n동성로 떡볶이는 수정된 결과 입니다.', id='bba36563-969c-48dc-9838-6ad96ad8e139', tool_call_id='call_GxdfJHl8ztRsTc46MTYaRBwS')]\n",
      "바깥 for 끝\n",
      "========================= 여기서 끝 =========================\n",
      "\n",
      "===== chatbot() 함수 시작 =====\n",
      "[1] chatbot() 으로 넘어온 메시지: \n",
      "메시지 타입: [HumanMessage]\n",
      "content='대구 중앙떡볶이에 대해서 알려주세요' additional_kwargs={} response_metadata={} id='f08fc92c-df5d-49af-aff8-39ef8072c1bc'\n",
      "\n",
      "메시지 타입: [HumanMessage][AIMessage]\n",
      "content='' additional_kwargs={'tool_calls': [{'id': 'call_GxdfJHl8ztRsTc46MTYaRBwS', 'function': {'arguments': '{\"query\":\"대구 중앙떡볶이\"}', 'name': 'tavily_web_search'}, 'type': 'function'}], 'refusal': None} response_metadata={'token_usage': {'completion_tokens': 25, 'prompt_tokens': 102, 'total_tokens': 127, 'completion_tokens_details': {'accepted_prediction_tokens': 0, 'audio_tokens': 0, 'reasoning_tokens': 0, 'rejected_prediction_tokens': 0}, 'prompt_tokens_details': {'audio_tokens': 0, 'cached_tokens': 0}}, 'model_name': 'gpt-4o-mini-2024-07-18', 'system_fingerprint': 'fp_b8bc95a0ac', 'finish_reason': 'tool_calls', 'logprobs': None} id='run-3a004e34-dc48-4f3b-a5c1-dd090c3d071f-0' tool_calls=[{'name': 'tavily_web_search', 'args': {'query': '대구 중앙떡볶이'}, 'id': 'call_GxdfJHl8ztRsTc46MTYaRBwS', 'type': 'tool_call'}] usage_metadata={'input_tokens': 102, 'output_tokens': 25, 'total_tokens': 127, 'input_token_details': {'audio': 0, 'cache_read': 0}, 'output_token_details': {'audio': 0, 'reasoning': 0}}\n",
      "\n",
      "메시지 타입: [HumanMessage][AIMessage][ToolMessage]\n",
      "content='[수정된 웹 검색 결과] \\n동성로 떡볶이는 수정된 결과 입니다.' id='bba36563-969c-48dc-9838-6ad96ad8e139' tool_call_id='call_GxdfJHl8ztRsTc46MTYaRBwS'\n",
      "\n",
      "\n",
      "[2] 메시지 개수 : 3\n",
      "\n",
      "[3] chatbot()에서 실행:\n",
      "메시지 타입: [AIMessage]\n",
      "content='' additional_kwargs={'tool_calls': [{'id': 'call_XukcKb6i39wFihivPKZXBO8u', 'function': {'arguments': '{\"query\":\"대구 중앙떡볶이 맛집\"}', 'name': 'tavily_web_search'}, 'type': 'function'}], 'refusal': None} response_metadata={'token_usage': {'completion_tokens': 27, 'prompt_tokens': 159, 'total_tokens': 186, 'completion_tokens_details': {'accepted_prediction_tokens': 0, 'audio_tokens': 0, 'reasoning_tokens': 0, 'rejected_prediction_tokens': 0}, 'prompt_tokens_details': {'audio_tokens': 0, 'cached_tokens': 0}}, 'model_name': 'gpt-4o-mini-2024-07-18', 'system_fingerprint': 'fp_b8bc95a0ac', 'finish_reason': 'tool_calls', 'logprobs': None} id='run-ea9f50c1-bb3c-4f4e-97e0-d372beef0911-0' tool_calls=[{'name': 'tavily_web_search', 'args': {'query': '대구 중앙떡볶이 맛집'}, 'id': 'call_XukcKb6i39wFihivPKZXBO8u', 'type': 'tool_call'}] usage_metadata={'input_tokens': 159, 'output_tokens': 27, 'total_tokens': 186, 'input_token_details': {'audio': 0, 'cache_read': 0}, 'output_token_details': {'audio': 0, 'reasoning': 0}}\n",
      "\n",
      "[4] chatbot()에서 실행 후 메시지 개수: [HumanMessage][AIMessage][ToolMessage] [AIMessage] 4\n",
      "===== chatbot() 함수  끝 =====\n",
      "\n",
      "\n",
      "========================= 여기서 시작 ====================\n",
      "[event] 바깥 for 시작 (2)\n",
      "\n",
      "실행한 노드 이름: messages\n",
      "해당 노드 값: \n",
      "\n",
      "[HumanMessage(content='대구 중앙떡볶이에 대해서 알려주세요', additional_kwargs={}, response_metadata={}, id='f08fc92c-df5d-49af-aff8-39ef8072c1bc'), AIMessage(content='', additional_kwargs={'tool_calls': [{'id': 'call_GxdfJHl8ztRsTc46MTYaRBwS', 'function': {'arguments': '{\"query\":\"대구 중앙떡볶이\"}', 'name': 'tavily_web_search'}, 'type': 'function'}], 'refusal': None}, response_metadata={'token_usage': {'completion_tokens': 25, 'prompt_tokens': 102, 'total_tokens': 127, 'completion_tokens_details': {'accepted_prediction_tokens': 0, 'audio_tokens': 0, 'reasoning_tokens': 0, 'rejected_prediction_tokens': 0}, 'prompt_tokens_details': {'audio_tokens': 0, 'cached_tokens': 0}}, 'model_name': 'gpt-4o-mini-2024-07-18', 'system_fingerprint': 'fp_b8bc95a0ac', 'finish_reason': 'tool_calls', 'logprobs': None}, id='run-3a004e34-dc48-4f3b-a5c1-dd090c3d071f-0', tool_calls=[{'name': 'tavily_web_search', 'args': {'query': '대구 중앙떡볶이'}, 'id': 'call_GxdfJHl8ztRsTc46MTYaRBwS', 'type': 'tool_call'}], usage_metadata={'input_tokens': 102, 'output_tokens': 25, 'total_tokens': 127, 'input_token_details': {'audio': 0, 'cache_read': 0}, 'output_token_details': {'audio': 0, 'reasoning': 0}}), ToolMessage(content='[수정된 웹 검색 결과] \\n동성로 떡볶이는 수정된 결과 입니다.', id='bba36563-969c-48dc-9838-6ad96ad8e139', tool_call_id='call_GxdfJHl8ztRsTc46MTYaRBwS'), AIMessage(content='', additional_kwargs={'tool_calls': [{'id': 'call_XukcKb6i39wFihivPKZXBO8u', 'function': {'arguments': '{\"query\":\"대구 중앙떡볶이 맛집\"}', 'name': 'tavily_web_search'}, 'type': 'function'}], 'refusal': None}, response_metadata={'token_usage': {'completion_tokens': 27, 'prompt_tokens': 159, 'total_tokens': 186, 'completion_tokens_details': {'accepted_prediction_tokens': 0, 'audio_tokens': 0, 'reasoning_tokens': 0, 'rejected_prediction_tokens': 0}, 'prompt_tokens_details': {'audio_tokens': 0, 'cached_tokens': 0}}, 'model_name': 'gpt-4o-mini-2024-07-18', 'system_fingerprint': 'fp_b8bc95a0ac', 'finish_reason': 'tool_calls', 'logprobs': None}, id='run-ea9f50c1-bb3c-4f4e-97e0-d372beef0911-0', tool_calls=[{'name': 'tavily_web_search', 'args': {'query': '대구 중앙떡볶이 맛집'}, 'id': 'call_XukcKb6i39wFihivPKZXBO8u', 'type': 'tool_call'}], usage_metadata={'input_tokens': 159, 'output_tokens': 27, 'total_tokens': 186, 'input_token_details': {'audio': 0, 'cache_read': 0}, 'output_token_details': {'audio': 0, 'reasoning': 0}})]\n",
      "바깥 for 끝\n",
      "========================= 여기서 끝 =========================\n",
      "\n",
      "\n",
      "========================= 여기서 시작 ====================\n",
      "[event] 바깥 for 시작 (3)\n",
      "\n",
      "실행한 노드 이름: messages\n",
      "해당 노드 값: \n",
      "\n",
      "[HumanMessage(content='대구 중앙떡볶이에 대해서 알려주세요', additional_kwargs={}, response_metadata={}, id='f08fc92c-df5d-49af-aff8-39ef8072c1bc'), AIMessage(content='', additional_kwargs={'tool_calls': [{'id': 'call_GxdfJHl8ztRsTc46MTYaRBwS', 'function': {'arguments': '{\"query\":\"대구 중앙떡볶이\"}', 'name': 'tavily_web_search'}, 'type': 'function'}], 'refusal': None}, response_metadata={'token_usage': {'completion_tokens': 25, 'prompt_tokens': 102, 'total_tokens': 127, 'completion_tokens_details': {'accepted_prediction_tokens': 0, 'audio_tokens': 0, 'reasoning_tokens': 0, 'rejected_prediction_tokens': 0}, 'prompt_tokens_details': {'audio_tokens': 0, 'cached_tokens': 0}}, 'model_name': 'gpt-4o-mini-2024-07-18', 'system_fingerprint': 'fp_b8bc95a0ac', 'finish_reason': 'tool_calls', 'logprobs': None}, id='run-3a004e34-dc48-4f3b-a5c1-dd090c3d071f-0', tool_calls=[{'name': 'tavily_web_search', 'args': {'query': '대구 중앙떡볶이'}, 'id': 'call_GxdfJHl8ztRsTc46MTYaRBwS', 'type': 'tool_call'}], usage_metadata={'input_tokens': 102, 'output_tokens': 25, 'total_tokens': 127, 'input_token_details': {'audio': 0, 'cache_read': 0}, 'output_token_details': {'audio': 0, 'reasoning': 0}}), ToolMessage(content='[수정된 웹 검색 결과] \\n동성로 떡볶이는 수정된 결과 입니다.', id='bba36563-969c-48dc-9838-6ad96ad8e139', tool_call_id='call_GxdfJHl8ztRsTc46MTYaRBwS'), AIMessage(content='', additional_kwargs={'tool_calls': [{'id': 'call_XukcKb6i39wFihivPKZXBO8u', 'function': {'arguments': '{\"query\":\"대구 중앙떡볶이 맛집\"}', 'name': 'tavily_web_search'}, 'type': 'function'}], 'refusal': None}, response_metadata={'token_usage': {'completion_tokens': 27, 'prompt_tokens': 159, 'total_tokens': 186, 'completion_tokens_details': {'accepted_prediction_tokens': 0, 'audio_tokens': 0, 'reasoning_tokens': 0, 'rejected_prediction_tokens': 0}, 'prompt_tokens_details': {'audio_tokens': 0, 'cached_tokens': 0}}, 'model_name': 'gpt-4o-mini-2024-07-18', 'system_fingerprint': 'fp_b8bc95a0ac', 'finish_reason': 'tool_calls', 'logprobs': None}, id='run-ea9f50c1-bb3c-4f4e-97e0-d372beef0911-0', tool_calls=[{'name': 'tavily_web_search', 'args': {'query': '대구 중앙떡볶이 맛집'}, 'id': 'call_XukcKb6i39wFihivPKZXBO8u', 'type': 'tool_call'}], usage_metadata={'input_tokens': 159, 'output_tokens': 27, 'total_tokens': 186, 'input_token_details': {'audio': 0, 'cache_read': 0}, 'output_token_details': {'audio': 0, 'reasoning': 0}}), ToolMessage(content='[{\"title\": \"대구 맛집 백종원 3대 천왕 :: 중앙떡볶이 솔직 후기 : 네이버 블로그\", \"url\": \"https://m.blog.naver.com/ryu8145/223424913321\", \"content\": \"대구 맛집 백종원 3대 천왕 :: 중앙떡볶이 솔직 후기 : 네이버 블로그 본문 바로가기 대구 맛집 백종원 3대 천왕 :: 중앙떡볶이 솔직 후기 본문 기타 기능 대구 맛집 리뷰하는 오늘은 대구 떡볶이 중앙떡볶이대구광역시 중구 동성로2길 81 중앙떡볶이 대구 동성로 맛집 중앙떡볶이 외관 중앙떡볶이 납작만두는 쌀 떡볶이 납작만두 베이스로 하고 있었어요 떡볶이 4500원 촉촉하게 익혀 떡볶이 그런지 떡볶이 국물이 베어 중앙떡볶이 수저통엔 젓가락 어릴적부터 먹어왔던 그 맛 순대는 소금에 찍어 중앙떡볶이 국물에 푹 찍어 먹어도 넘 맛있답니다 맛있는 쌀 떡볶이랍니다 대구 떡볶이 맛집 중앙떡볶이 떡볶이 국물을 따뜻한 밥위에 떡볶이 맛집 백종원 3대천왕 중앙떡볶이 후기를 마칠께요 대구맛집 #대구동성로맛집 #동성로맛집 #떡볶이맛집 #대구떡볶이맛집 #대구3대천왕 #백종원3대천왕 #백종원떡볶이 #대구동성로떡볶이 #중앙떡볶이 #대구3대떡볶이 #대구떡볶이페스티벌 #중앙로떡볶이 #중앙떡볶이 {\\\\\"title\\\\\":\\\\\"대구 맛집 백종원 3대 천왕 :: 중앙떡볶이 솔직 후기\\\\\",\\\\\"source\\\\\":\\\\\"https://blog.naver.com/ryu8145/223424913321\\\\\",\\\\\"blogName\\\\\":\\\\\"루피의 지..\\\\\",\\\\\"domainIdOrBlogId\\\\\":\\\\\"ryu8145\\\\\",\\\\\"nicknameOrBlogId\\\\\":\\\\\"루피\\\\\",\\\\\"logNo\\\\\":223424913321,\\\\\"smartEditorVersion\\\\\":4,\\\\\"meDisplay\\\\\":true,\\\\\"lineDisplay\\\\\":true,\\\\\"outsideDisplay\\\\\":true,\\\\\"cafeDisplay\\\\\":true,\\\\\"blogDisplay\\\\\":true} 이 블로그 홈\", \"score\": 0.8875269, \"raw_content\": \"대구 맛집 백종원 3대 천왕 :: 중앙떡볶이 솔직 후기 : 네이버 블로그\\\\n \\\\n본문 바로가기\\\\n블로그\\\\n카테고리 이동 루피의 지구별 여행중✈️\\\\n\\\\n검색 MY메뉴 열기\\\\n맛집 여행\\\\n대구 맛집 백종원 3대 천왕 :: 중앙떡볶이 솔직 후기\\\\n\\\\n루피\\\\n2024. 4. 23. 20:06\\\\n이웃추가\\\\n본문 기타 기능\\\\n\\\\n본문 폰트 크기 조정 본문 폰트 크기 작게 보기 본문 폰트 크기 크게 보기 가\\\\n\\\\n공감하기\\\\n\\\\n\\\\n공유하기\\\\n\\\\nURL복사\\\\n신고하기\\\\n\\\\n위치중앙떡볶이\\\\n안녕하세요\\\\n\\\\n대구 맛집 리뷰하는\\\\n블로거 루피입니다\\\\n\\u200b\\\\n오늘은 대구 떡볶이\\\\n하면 떠오르는곳\\\\n\\u200b\\\\n백종원 3대천왕\\\\n중앙떡볶이를 소개할께요\\u200b\\u200b\\\\n\\u200b\\\\n\\\\n\\\\n중앙떡볶이대구광역시 중구 동성로2길 81 중앙떡볶이\\\\n이 블로그의 체크인\\\\n이 장소의 다른 글\\\\n\\u200b\\\\n⏰️ 영업시간 11:30~19:00\\\\n(매주 일요일 휴무)\\\\n\\u200b\\\\n📌 재료소진시 조기마감\\\\n\\u200b\\\\n🚘 주차 주차장 없음\\\\n(바로 앞 2.28 공영주차장 가능 )\\\\n\\u200b\\\\n포장가능\\u200b\\u200b\\\\n\\u200b\\\\n\\\\n\\\\n\\u200b\\\\n대구 동성로 맛집\\\\n중앙떡볶이 외관\\\\n모습 이구요\\\\n\\u200b\\\\n대구 맛집으로 오래\\\\n사랑받고 있는 중앙떡볶이는\\\\n\\u200b\\\\n직영점 체인점이 없는 오직\\\\n이곳에서만 맛 볼수 있답니다\\u200b\\\\n\\u200b\\\\n\\\\n\\\\n\\u200b\\\\n제 짝꿍과 오랜만에\\\\n중앙떡볶이를 찾았는데요\\u200b\\u200b\\\\n\\u200b\\\\n\\\\n\\\\n\\\\n\\u200b\\\\n여전히 손님들로\\\\n북적였고 앞에\\\\n\\u200b\\\\n퀵서비스 기사님도\\\\n포장대기 하고 있었구요\\u200b\\u200b\\\\n\\u200b\\\\n\\\\n\\\\n\\\\n\\u200b\\\\n중앙떡볶이 납작만두는\\\\n기름에 바싹 굽는게 아닌\\\\n\\u200b\\\\n촉촉하게 살짝 익혀낸\\\\n다는게 어울리것 같았어요\\\\n\\u200b\\\\n저 많은 블루리본과\\\\n빛 바랜 사진들이\\u200b\\u200b\\\\n\\u200b\\\\n\\\\n\\\\n\\\\n\\u200b\\\\n대구 오랜 맛집을\\\\n검증해주고 있었어요\\\\n\\\\n\\\\n\\\\n\\u200b\\\\n음식점 내부에는\\\\n수많은 유명 연예인들의\\\\n사인과 사진으로 도배\\u200b\\u200b\\\\n\\u200b\\\\n\\\\n\\\\n\\u200b\\\\n되어 있었고 그 중에\\\\n백종원 3대천왕 사진과\\\\n\\u200b\\\\n백종원님 싸인이\\\\n눈에 띄더라구요\\\\n\\u200b\\\\n맛집이라 그런지 솔직히\\\\n이모님들의 손님 응대하는\\\\n모습에 친절함은 없어 보였어요\\u200b\\\\n\\u200b\\\\n\\\\n\\\\n\\u200b\\\\n저희는 떡볶이와 만두를\\\\n섞어서 주문하면 만두가\\\\n좀 적다고 하셔서\\\\n\\u200b\\\\n쌀 떡볶이 납작만두\\\\n순대를 주문하였구요\\\\n\\u200b\\\\n중앙떡볶이는 밀떡이\\\\n아닌 큰 쌀가래떡을\\\\n베이스로 하고 있었어요\\\\n\\u200b\\\\n\\\\n\\\\n\\u200b\\\\n떡볶이 4500원\\\\n납작만두 4500원\\\\n순대 4500원이였어요\\\\n\\u200b\\\\n\\\\n\\\\n\\\\n\\u200b\\\\n솔직히 보시면 양은 그렇게\\\\n많다고 느껴지진 않았어요\\\\n\\u200b\\\\n\\\\n\\\\n\\u200b\\\\n순대는 간 허파와\\\\n같이 소금이 나왔구요\\\\n\\u200b\\\\n\\\\n\\\\n\\u200b\\\\n다른 분식점과 달리\\\\n특색있는건 아니였구요\\\\n\\u200b\\\\n\\\\n\\\\n\\u200b\\\\n납작만두는 앞에서\\\\n언급했듯이 기름에\\\\n\\u200b\\\\n촉촉하게 익혀 떡볶이\\\\n국물을 부어 나왔구요\\\\n\\u200b\\\\n\\\\n\\\\n\\u200b\\\\n저희 부부는 밀떡파인데도\\\\n큼지막한 쌀 가래떡이\\\\n\\u200b\\\\n\\\\n\\\\n\\u200b\\\\n굉장히 쫀득쫀득하고\\\\n식감이 괜찮았구요\\\\n\\u200b\\\\n\\\\n\\\\n\\u200b\\\\n단점은 큰 쌀 가래떡이라\\\\n그런지 떡볶이 국물이 베어\\\\n들지 않아 따로 노는 느낌이\\\\n\\u200b\\\\n있었지만 한입먹고 국물\\\\n무쳐서 먹음 맛있었구요\\\\n\\u200b\\\\n\\\\n\\\\n\\u200b\\\\n중앙떡볶이 수저통엔 젓가락\\\\n밖에 없어 진득하고 달달 칼칼한\\\\n국물을 떠 먹고 싶었는데 그러질 못했어요\\\\n\\u200b\\\\n어릴적부터 먹어왔던 그 맛\\\\n그대로라 웃음이 났고 한번쯤\\\\n생각나는 달큰한 떡볶이랍니다\\\\n\\u200b\\\\n\\\\n\\\\n\\u200b\\\\n납작만두도 촉촉 야들야들\\\\n해서 떡볶이 국물과 궁합이\\\\n너무 잘 맞았구요\\\\n\\\\n\\\\n\\\\n\\u200b\\\\n순대는 소금에 찍어\\\\n먹어도 맛있지만 이렇게\\\\n\\u200b\\\\n\\\\n\\\\n\\u200b\\\\n중앙떡볶이 국물에 푹\\\\n찍어 먹어도 넘 맛있답니다\\\\n\\u200b\\\\n솔직히 멀리서 찾아올 엄청\\\\n맛있는 맛은 아니지만 옛\\\\n생각이 나고 한번쯤 생각나는\\\\n맛있는 쌀 떡볶이랍니다\\\\n\\u200b\\\\n\\\\n\\u200b\\\\n대구 떡볶이 맛집 중앙떡볶이\\\\n포장도 많이 해가시던데\\\\n\\u200b\\\\n떡볶이 국물을 따뜻한 밥위에\\\\n부은 후 전자렌지 돌려 먹어도\\\\n넘 맛있다고 합니다\\\\n\\u200b\\\\n그럼 지금까지 대구 동성로\\\\n떡볶이 맛집 백종원 3대천왕\\\\n중앙떡볶이 후기를 마칠께요\\\\n\\u200b\\\\n긴글 읽어주셔서 감사드리고 오늘도\\\\n행복한 기억들로 가득채우시길 바래요\\\\n\\\\n대구맛집 #대구동성로맛집 #동성로맛집 #떡볶이맛집 #대구떡볶이맛집 #대구3대천왕 #백종원3대천왕 #백종원떡볶이 #대구동성로떡볶이 #중앙떡볶이 #대구3대떡볶이 #대구떡볶이페스티벌 #중앙로떡볶이\\\\n\\\\n#대구맛집\\\\n#대구동성로맛집\\\\n#동성로맛집\\\\n#떡볶이맛집\\\\n#대구떡볶이맛집\\\\n#대구3대천왕\\\\n#백종원3대천왕\\\\n#백종원떡볶이\\\\n#대구동성로떡볶이\\\\n#중앙떡볶이\\\\n#대구3대떡볶이\\\\n#대구떡볶이페스티벌\\\\n#중앙로떡볶이\\\\n\\\\n\\\\n공감한 사람 보러가기\\\\n댓글 17 공유하기\\\\n{\\\\\"title\\\\\":\\\\\"대구 맛집 백종원 3대 천왕 :: 중앙떡볶이 솔직 후기\\\\\",\\\\\"source\\\\\":\\\\\"https://blog.naver.com/ryu8145/223424913321\\\\\",\\\\\"blogName\\\\\":\\\\\"루피의 지..\\\\\",\\\\\"domainIdOrBlogId\\\\\":\\\\\"ryu8145\\\\\",\\\\\"nicknameOrBlogId\\\\\":\\\\\"루피\\\\\",\\\\\"logNo\\\\\":223424913321,\\\\\"smartEditorVersion\\\\\":4,\\\\\"meDisplay\\\\\":true,\\\\\"lineDisplay\\\\\":true,\\\\\"outsideDisplay\\\\\":true,\\\\\"cafeDisplay\\\\\":true,\\\\\"blogDisplay\\\\\":true}\\\\n닫기\\\\n카테고리\\\\n이 블로그 홈\\\\n\\\\n공감한 사람 보러가기\\\\n댓글 17 공유하기\\\\n루피(ryu8145) 님을 이웃추가하고 새글을 받아보세요\\\\n취소 이웃추가\"}]', name='tavily_web_search', id='86829577-40ec-474c-82e3-ac1d0a3c7f78', tool_call_id='call_XukcKb6i39wFihivPKZXBO8u')]\n",
      "바깥 for 끝\n",
      "========================= 여기서 끝 =========================\n",
      "\n",
      "===== chatbot() 함수 시작 =====\n",
      "[1] chatbot() 으로 넘어온 메시지: \n",
      "메시지 타입: [HumanMessage]\n",
      "content='대구 중앙떡볶이에 대해서 알려주세요' additional_kwargs={} response_metadata={} id='f08fc92c-df5d-49af-aff8-39ef8072c1bc'\n",
      "\n",
      "메시지 타입: [HumanMessage][AIMessage]\n",
      "content='' additional_kwargs={'tool_calls': [{'id': 'call_GxdfJHl8ztRsTc46MTYaRBwS', 'function': {'arguments': '{\"query\":\"대구 중앙떡볶이\"}', 'name': 'tavily_web_search'}, 'type': 'function'}], 'refusal': None} response_metadata={'token_usage': {'completion_tokens': 25, 'prompt_tokens': 102, 'total_tokens': 127, 'completion_tokens_details': {'accepted_prediction_tokens': 0, 'audio_tokens': 0, 'reasoning_tokens': 0, 'rejected_prediction_tokens': 0}, 'prompt_tokens_details': {'audio_tokens': 0, 'cached_tokens': 0}}, 'model_name': 'gpt-4o-mini-2024-07-18', 'system_fingerprint': 'fp_b8bc95a0ac', 'finish_reason': 'tool_calls', 'logprobs': None} id='run-3a004e34-dc48-4f3b-a5c1-dd090c3d071f-0' tool_calls=[{'name': 'tavily_web_search', 'args': {'query': '대구 중앙떡볶이'}, 'id': 'call_GxdfJHl8ztRsTc46MTYaRBwS', 'type': 'tool_call'}] usage_metadata={'input_tokens': 102, 'output_tokens': 25, 'total_tokens': 127, 'input_token_details': {'audio': 0, 'cache_read': 0}, 'output_token_details': {'audio': 0, 'reasoning': 0}}\n",
      "\n",
      "메시지 타입: [HumanMessage][AIMessage][ToolMessage]\n",
      "content='[수정된 웹 검색 결과] \\n동성로 떡볶이는 수정된 결과 입니다.' id='bba36563-969c-48dc-9838-6ad96ad8e139' tool_call_id='call_GxdfJHl8ztRsTc46MTYaRBwS'\n",
      "\n",
      "메시지 타입: [HumanMessage][AIMessage][ToolMessage][AIMessage]\n",
      "content='' additional_kwargs={'tool_calls': [{'id': 'call_XukcKb6i39wFihivPKZXBO8u', 'function': {'arguments': '{\"query\":\"대구 중앙떡볶이 맛집\"}', 'name': 'tavily_web_search'}, 'type': 'function'}], 'refusal': None} response_metadata={'token_usage': {'completion_tokens': 27, 'prompt_tokens': 159, 'total_tokens': 186, 'completion_tokens_details': {'accepted_prediction_tokens': 0, 'audio_tokens': 0, 'reasoning_tokens': 0, 'rejected_prediction_tokens': 0}, 'prompt_tokens_details': {'audio_tokens': 0, 'cached_tokens': 0}}, 'model_name': 'gpt-4o-mini-2024-07-18', 'system_fingerprint': 'fp_b8bc95a0ac', 'finish_reason': 'tool_calls', 'logprobs': None} id='run-ea9f50c1-bb3c-4f4e-97e0-d372beef0911-0' tool_calls=[{'name': 'tavily_web_search', 'args': {'query': '대구 중앙떡볶이 맛집'}, 'id': 'call_XukcKb6i39wFihivPKZXBO8u', 'type': 'tool_call'}] usage_metadata={'input_tokens': 159, 'output_tokens': 27, 'total_tokens': 186, 'input_token_details': {'audio': 0, 'cache_read': 0}, 'output_token_details': {'audio': 0, 'reasoning': 0}}\n",
      "\n",
      "메시지 타입: [HumanMessage][AIMessage][ToolMessage][AIMessage][ToolMessage]\n",
      "content='[{\"title\": \"대구 맛집 백종원 3대 천왕 :: 중앙떡볶이 솔직 후기 : 네이버 블로그\", \"url\": \"https://m.blog.naver.com/ryu8145/223424913321\", \"content\": \"대구 맛집 백종원 3대 천왕 :: 중앙떡볶이 솔직 후기 : 네이버 블로그 본문 바로가기 대구 맛집 백종원 3대 천왕 :: 중앙떡볶이 솔직 후기 본문 기타 기능 대구 맛집 리뷰하는 오늘은 대구 떡볶이 중앙떡볶이대구광역시 중구 동성로2길 81 중앙떡볶이 대구 동성로 맛집 중앙떡볶이 외관 중앙떡볶이 납작만두는 쌀 떡볶이 납작만두 베이스로 하고 있었어요 떡볶이 4500원 촉촉하게 익혀 떡볶이 그런지 떡볶이 국물이 베어 중앙떡볶이 수저통엔 젓가락 어릴적부터 먹어왔던 그 맛 순대는 소금에 찍어 중앙떡볶이 국물에 푹 찍어 먹어도 넘 맛있답니다 맛있는 쌀 떡볶이랍니다 대구 떡볶이 맛집 중앙떡볶이 떡볶이 국물을 따뜻한 밥위에 떡볶이 맛집 백종원 3대천왕 중앙떡볶이 후기를 마칠께요 대구맛집 #대구동성로맛집 #동성로맛집 #떡볶이맛집 #대구떡볶이맛집 #대구3대천왕 #백종원3대천왕 #백종원떡볶이 #대구동성로떡볶이 #중앙떡볶이 #대구3대떡볶이 #대구떡볶이페스티벌 #중앙로떡볶이 #중앙떡볶이 {\\\\\"title\\\\\":\\\\\"대구 맛집 백종원 3대 천왕 :: 중앙떡볶이 솔직 후기\\\\\",\\\\\"source\\\\\":\\\\\"https://blog.naver.com/ryu8145/223424913321\\\\\",\\\\\"blogName\\\\\":\\\\\"루피의 지..\\\\\",\\\\\"domainIdOrBlogId\\\\\":\\\\\"ryu8145\\\\\",\\\\\"nicknameOrBlogId\\\\\":\\\\\"루피\\\\\",\\\\\"logNo\\\\\":223424913321,\\\\\"smartEditorVersion\\\\\":4,\\\\\"meDisplay\\\\\":true,\\\\\"lineDisplay\\\\\":true,\\\\\"outsideDisplay\\\\\":true,\\\\\"cafeDisplay\\\\\":true,\\\\\"blogDisplay\\\\\":true} 이 블로그 홈\", \"score\": 0.8875269, \"raw_content\": \"대구 맛집 백종원 3대 천왕 :: 중앙떡볶이 솔직 후기 : 네이버 블로그\\\\n \\\\n본문 바로가기\\\\n블로그\\\\n카테고리 이동 루피의 지구별 여행중✈️\\\\n\\\\n검색 MY메뉴 열기\\\\n맛집 여행\\\\n대구 맛집 백종원 3대 천왕 :: 중앙떡볶이 솔직 후기\\\\n\\\\n루피\\\\n2024. 4. 23. 20:06\\\\n이웃추가\\\\n본문 기타 기능\\\\n\\\\n본문 폰트 크기 조정 본문 폰트 크기 작게 보기 본문 폰트 크기 크게 보기 가\\\\n\\\\n공감하기\\\\n\\\\n\\\\n공유하기\\\\n\\\\nURL복사\\\\n신고하기\\\\n\\\\n위치중앙떡볶이\\\\n안녕하세요\\\\n\\\\n대구 맛집 리뷰하는\\\\n블로거 루피입니다\\\\n\\u200b\\\\n오늘은 대구 떡볶이\\\\n하면 떠오르는곳\\\\n\\u200b\\\\n백종원 3대천왕\\\\n중앙떡볶이를 소개할께요\\u200b\\u200b\\\\n\\u200b\\\\n\\\\n\\\\n중앙떡볶이대구광역시 중구 동성로2길 81 중앙떡볶이\\\\n이 블로그의 체크인\\\\n이 장소의 다른 글\\\\n\\u200b\\\\n⏰️ 영업시간 11:30~19:00\\\\n(매주 일요일 휴무)\\\\n\\u200b\\\\n📌 재료소진시 조기마감\\\\n\\u200b\\\\n🚘 주차 주차장 없음\\\\n(바로 앞 2.28 공영주차장 가능 )\\\\n\\u200b\\\\n포장가능\\u200b\\u200b\\\\n\\u200b\\\\n\\\\n\\\\n\\u200b\\\\n대구 동성로 맛집\\\\n중앙떡볶이 외관\\\\n모습 이구요\\\\n\\u200b\\\\n대구 맛집으로 오래\\\\n사랑받고 있는 중앙떡볶이는\\\\n\\u200b\\\\n직영점 체인점이 없는 오직\\\\n이곳에서만 맛 볼수 있답니다\\u200b\\\\n\\u200b\\\\n\\\\n\\\\n\\u200b\\\\n제 짝꿍과 오랜만에\\\\n중앙떡볶이를 찾았는데요\\u200b\\u200b\\\\n\\u200b\\\\n\\\\n\\\\n\\\\n\\u200b\\\\n여전히 손님들로\\\\n북적였고 앞에\\\\n\\u200b\\\\n퀵서비스 기사님도\\\\n포장대기 하고 있었구요\\u200b\\u200b\\\\n\\u200b\\\\n\\\\n\\\\n\\\\n\\u200b\\\\n중앙떡볶이 납작만두는\\\\n기름에 바싹 굽는게 아닌\\\\n\\u200b\\\\n촉촉하게 살짝 익혀낸\\\\n다는게 어울리것 같았어요\\\\n\\u200b\\\\n저 많은 블루리본과\\\\n빛 바랜 사진들이\\u200b\\u200b\\\\n\\u200b\\\\n\\\\n\\\\n\\\\n\\u200b\\\\n대구 오랜 맛집을\\\\n검증해주고 있었어요\\\\n\\\\n\\\\n\\\\n\\u200b\\\\n음식점 내부에는\\\\n수많은 유명 연예인들의\\\\n사인과 사진으로 도배\\u200b\\u200b\\\\n\\u200b\\\\n\\\\n\\\\n\\u200b\\\\n되어 있었고 그 중에\\\\n백종원 3대천왕 사진과\\\\n\\u200b\\\\n백종원님 싸인이\\\\n눈에 띄더라구요\\\\n\\u200b\\\\n맛집이라 그런지 솔직히\\\\n이모님들의 손님 응대하는\\\\n모습에 친절함은 없어 보였어요\\u200b\\\\n\\u200b\\\\n\\\\n\\\\n\\u200b\\\\n저희는 떡볶이와 만두를\\\\n섞어서 주문하면 만두가\\\\n좀 적다고 하셔서\\\\n\\u200b\\\\n쌀 떡볶이 납작만두\\\\n순대를 주문하였구요\\\\n\\u200b\\\\n중앙떡볶이는 밀떡이\\\\n아닌 큰 쌀가래떡을\\\\n베이스로 하고 있었어요\\\\n\\u200b\\\\n\\\\n\\\\n\\u200b\\\\n떡볶이 4500원\\\\n납작만두 4500원\\\\n순대 4500원이였어요\\\\n\\u200b\\\\n\\\\n\\\\n\\\\n\\u200b\\\\n솔직히 보시면 양은 그렇게\\\\n많다고 느껴지진 않았어요\\\\n\\u200b\\\\n\\\\n\\\\n\\u200b\\\\n순대는 간 허파와\\\\n같이 소금이 나왔구요\\\\n\\u200b\\\\n\\\\n\\\\n\\u200b\\\\n다른 분식점과 달리\\\\n특색있는건 아니였구요\\\\n\\u200b\\\\n\\\\n\\\\n\\u200b\\\\n납작만두는 앞에서\\\\n언급했듯이 기름에\\\\n\\u200b\\\\n촉촉하게 익혀 떡볶이\\\\n국물을 부어 나왔구요\\\\n\\u200b\\\\n\\\\n\\\\n\\u200b\\\\n저희 부부는 밀떡파인데도\\\\n큼지막한 쌀 가래떡이\\\\n\\u200b\\\\n\\\\n\\\\n\\u200b\\\\n굉장히 쫀득쫀득하고\\\\n식감이 괜찮았구요\\\\n\\u200b\\\\n\\\\n\\\\n\\u200b\\\\n단점은 큰 쌀 가래떡이라\\\\n그런지 떡볶이 국물이 베어\\\\n들지 않아 따로 노는 느낌이\\\\n\\u200b\\\\n있었지만 한입먹고 국물\\\\n무쳐서 먹음 맛있었구요\\\\n\\u200b\\\\n\\\\n\\\\n\\u200b\\\\n중앙떡볶이 수저통엔 젓가락\\\\n밖에 없어 진득하고 달달 칼칼한\\\\n국물을 떠 먹고 싶었는데 그러질 못했어요\\\\n\\u200b\\\\n어릴적부터 먹어왔던 그 맛\\\\n그대로라 웃음이 났고 한번쯤\\\\n생각나는 달큰한 떡볶이랍니다\\\\n\\u200b\\\\n\\\\n\\\\n\\u200b\\\\n납작만두도 촉촉 야들야들\\\\n해서 떡볶이 국물과 궁합이\\\\n너무 잘 맞았구요\\\\n\\\\n\\\\n\\\\n\\u200b\\\\n순대는 소금에 찍어\\\\n먹어도 맛있지만 이렇게\\\\n\\u200b\\\\n\\\\n\\\\n\\u200b\\\\n중앙떡볶이 국물에 푹\\\\n찍어 먹어도 넘 맛있답니다\\\\n\\u200b\\\\n솔직히 멀리서 찾아올 엄청\\\\n맛있는 맛은 아니지만 옛\\\\n생각이 나고 한번쯤 생각나는\\\\n맛있는 쌀 떡볶이랍니다\\\\n\\u200b\\\\n\\\\n\\u200b\\\\n대구 떡볶이 맛집 중앙떡볶이\\\\n포장도 많이 해가시던데\\\\n\\u200b\\\\n떡볶이 국물을 따뜻한 밥위에\\\\n부은 후 전자렌지 돌려 먹어도\\\\n넘 맛있다고 합니다\\\\n\\u200b\\\\n그럼 지금까지 대구 동성로\\\\n떡볶이 맛집 백종원 3대천왕\\\\n중앙떡볶이 후기를 마칠께요\\\\n\\u200b\\\\n긴글 읽어주셔서 감사드리고 오늘도\\\\n행복한 기억들로 가득채우시길 바래요\\\\n\\\\n대구맛집 #대구동성로맛집 #동성로맛집 #떡볶이맛집 #대구떡볶이맛집 #대구3대천왕 #백종원3대천왕 #백종원떡볶이 #대구동성로떡볶이 #중앙떡볶이 #대구3대떡볶이 #대구떡볶이페스티벌 #중앙로떡볶이\\\\n\\\\n#대구맛집\\\\n#대구동성로맛집\\\\n#동성로맛집\\\\n#떡볶이맛집\\\\n#대구떡볶이맛집\\\\n#대구3대천왕\\\\n#백종원3대천왕\\\\n#백종원떡볶이\\\\n#대구동성로떡볶이\\\\n#중앙떡볶이\\\\n#대구3대떡볶이\\\\n#대구떡볶이페스티벌\\\\n#중앙로떡볶이\\\\n\\\\n\\\\n공감한 사람 보러가기\\\\n댓글 17 공유하기\\\\n{\\\\\"title\\\\\":\\\\\"대구 맛집 백종원 3대 천왕 :: 중앙떡볶이 솔직 후기\\\\\",\\\\\"source\\\\\":\\\\\"https://blog.naver.com/ryu8145/223424913321\\\\\",\\\\\"blogName\\\\\":\\\\\"루피의 지..\\\\\",\\\\\"domainIdOrBlogId\\\\\":\\\\\"ryu8145\\\\\",\\\\\"nicknameOrBlogId\\\\\":\\\\\"루피\\\\\",\\\\\"logNo\\\\\":223424913321,\\\\\"smartEditorVersion\\\\\":4,\\\\\"meDisplay\\\\\":true,\\\\\"lineDisplay\\\\\":true,\\\\\"outsideDisplay\\\\\":true,\\\\\"cafeDisplay\\\\\":true,\\\\\"blogDisplay\\\\\":true}\\\\n닫기\\\\n카테고리\\\\n이 블로그 홈\\\\n\\\\n공감한 사람 보러가기\\\\n댓글 17 공유하기\\\\n루피(ryu8145) 님을 이웃추가하고 새글을 받아보세요\\\\n취소 이웃추가\"}]' name='tavily_web_search' id='86829577-40ec-474c-82e3-ac1d0a3c7f78' tool_call_id='call_XukcKb6i39wFihivPKZXBO8u'\n",
      "\n",
      "\n",
      "[2] 메시지 개수 : 5\n",
      "\n",
      "[3] chatbot()에서 실행:\n",
      "메시지 타입: [AIMessage]\n",
      "content='대구 중앙떡볶이는 대구 동성로에 위치한 유명한 떡볶이 맛집으로, 백종원의 \"3대 천왕\" 프로그램에 소개된 곳입니다. 이곳은 오직 이 지점에서만 맛볼 수 있는 독특한 떡볶이를 제공합니다.\\n\\n### 기본 정보\\n- **주소**: 대구광역시 중구 동성로2길 81\\n- **영업시간**: 11:30 ~ 19:00 (매주 일요일 휴무)\\n- **주차**: 주차장이 없지만, 인근 2.28 공영주차장을 이용할 수 있습니다.\\n\\n### 메뉴 및 특징\\n- **떡볶이**: 4,500원\\n- **납작만두**: 4,500원\\n- **순대**: 4,500원\\n\\n중앙떡볶이는 쌀로 만든 가래떡을 사용하여 쫀득한 식감을 자랑하며, 떡볶이 국물은 달콤하고 칼칼한 맛이 특징입니다. 납작만두는 기름에 바삭하게 튀기지 않고 촉촉하게 익혀져 제공됩니다. 이곳의 떡볶이는 국물에 밥을 비벼 먹는 것도 추천합니다.\\n\\n### 분위기\\n가게 내부는 유명 연예인들의 사인과 사진으로 장식되어 있으며, 항상 손님들로 붐비는 인기 있는 장소입니다. 다만, 서비스는 친절함이 부족하다는 후기도 있습니다.\\n\\n### 후기\\n많은 방문객들이 중앙떡볶이의 맛을 회상하며, 어릴 적 추억을 떠올리게 하는 맛이라고 평가합니다. 떡볶이와 함께 제공되는 순대는 소금에 찍어 먹거나 떡볶이 국물에 찍어 먹어도 맛있습니다.\\n\\n더 자세한 후기는 [여기](https://blog.naver.com/ryu8145/223424913321)에서 확인할 수 있습니다.' additional_kwargs={'refusal': None} response_metadata={'token_usage': {'completion_tokens': 449, 'prompt_tokens': 2735, 'total_tokens': 3184, 'completion_tokens_details': {'accepted_prediction_tokens': 0, 'audio_tokens': 0, 'reasoning_tokens': 0, 'rejected_prediction_tokens': 0}, 'prompt_tokens_details': {'audio_tokens': 0, 'cached_tokens': 0}}, 'model_name': 'gpt-4o-mini-2024-07-18', 'system_fingerprint': 'fp_b8bc95a0ac', 'finish_reason': 'stop', 'logprobs': None} id='run-347ad408-a223-4416-907e-06a866232200-0' usage_metadata={'input_tokens': 2735, 'output_tokens': 449, 'total_tokens': 3184, 'input_token_details': {'audio': 0, 'cache_read': 0}, 'output_token_details': {'audio': 0, 'reasoning': 0}}\n",
      "\n",
      "[4] chatbot()에서 실행 후 메시지 개수: [HumanMessage][AIMessage][ToolMessage][AIMessage][ToolMessage] [AIMessage] 6\n",
      "===== chatbot() 함수  끝 =====\n",
      "\n",
      "\n",
      "========================= 여기서 시작 ====================\n",
      "[event] 바깥 for 시작 (4)\n",
      "\n",
      "실행한 노드 이름: messages\n",
      "해당 노드 값: \n",
      "\n",
      "[HumanMessage(content='대구 중앙떡볶이에 대해서 알려주세요', additional_kwargs={}, response_metadata={}, id='f08fc92c-df5d-49af-aff8-39ef8072c1bc'), AIMessage(content='', additional_kwargs={'tool_calls': [{'id': 'call_GxdfJHl8ztRsTc46MTYaRBwS', 'function': {'arguments': '{\"query\":\"대구 중앙떡볶이\"}', 'name': 'tavily_web_search'}, 'type': 'function'}], 'refusal': None}, response_metadata={'token_usage': {'completion_tokens': 25, 'prompt_tokens': 102, 'total_tokens': 127, 'completion_tokens_details': {'accepted_prediction_tokens': 0, 'audio_tokens': 0, 'reasoning_tokens': 0, 'rejected_prediction_tokens': 0}, 'prompt_tokens_details': {'audio_tokens': 0, 'cached_tokens': 0}}, 'model_name': 'gpt-4o-mini-2024-07-18', 'system_fingerprint': 'fp_b8bc95a0ac', 'finish_reason': 'tool_calls', 'logprobs': None}, id='run-3a004e34-dc48-4f3b-a5c1-dd090c3d071f-0', tool_calls=[{'name': 'tavily_web_search', 'args': {'query': '대구 중앙떡볶이'}, 'id': 'call_GxdfJHl8ztRsTc46MTYaRBwS', 'type': 'tool_call'}], usage_metadata={'input_tokens': 102, 'output_tokens': 25, 'total_tokens': 127, 'input_token_details': {'audio': 0, 'cache_read': 0}, 'output_token_details': {'audio': 0, 'reasoning': 0}}), ToolMessage(content='[수정된 웹 검색 결과] \\n동성로 떡볶이는 수정된 결과 입니다.', id='bba36563-969c-48dc-9838-6ad96ad8e139', tool_call_id='call_GxdfJHl8ztRsTc46MTYaRBwS'), AIMessage(content='', additional_kwargs={'tool_calls': [{'id': 'call_XukcKb6i39wFihivPKZXBO8u', 'function': {'arguments': '{\"query\":\"대구 중앙떡볶이 맛집\"}', 'name': 'tavily_web_search'}, 'type': 'function'}], 'refusal': None}, response_metadata={'token_usage': {'completion_tokens': 27, 'prompt_tokens': 159, 'total_tokens': 186, 'completion_tokens_details': {'accepted_prediction_tokens': 0, 'audio_tokens': 0, 'reasoning_tokens': 0, 'rejected_prediction_tokens': 0}, 'prompt_tokens_details': {'audio_tokens': 0, 'cached_tokens': 0}}, 'model_name': 'gpt-4o-mini-2024-07-18', 'system_fingerprint': 'fp_b8bc95a0ac', 'finish_reason': 'tool_calls', 'logprobs': None}, id='run-ea9f50c1-bb3c-4f4e-97e0-d372beef0911-0', tool_calls=[{'name': 'tavily_web_search', 'args': {'query': '대구 중앙떡볶이 맛집'}, 'id': 'call_XukcKb6i39wFihivPKZXBO8u', 'type': 'tool_call'}], usage_metadata={'input_tokens': 159, 'output_tokens': 27, 'total_tokens': 186, 'input_token_details': {'audio': 0, 'cache_read': 0}, 'output_token_details': {'audio': 0, 'reasoning': 0}}), ToolMessage(content='[{\"title\": \"대구 맛집 백종원 3대 천왕 :: 중앙떡볶이 솔직 후기 : 네이버 블로그\", \"url\": \"https://m.blog.naver.com/ryu8145/223424913321\", \"content\": \"대구 맛집 백종원 3대 천왕 :: 중앙떡볶이 솔직 후기 : 네이버 블로그 본문 바로가기 대구 맛집 백종원 3대 천왕 :: 중앙떡볶이 솔직 후기 본문 기타 기능 대구 맛집 리뷰하는 오늘은 대구 떡볶이 중앙떡볶이대구광역시 중구 동성로2길 81 중앙떡볶이 대구 동성로 맛집 중앙떡볶이 외관 중앙떡볶이 납작만두는 쌀 떡볶이 납작만두 베이스로 하고 있었어요 떡볶이 4500원 촉촉하게 익혀 떡볶이 그런지 떡볶이 국물이 베어 중앙떡볶이 수저통엔 젓가락 어릴적부터 먹어왔던 그 맛 순대는 소금에 찍어 중앙떡볶이 국물에 푹 찍어 먹어도 넘 맛있답니다 맛있는 쌀 떡볶이랍니다 대구 떡볶이 맛집 중앙떡볶이 떡볶이 국물을 따뜻한 밥위에 떡볶이 맛집 백종원 3대천왕 중앙떡볶이 후기를 마칠께요 대구맛집 #대구동성로맛집 #동성로맛집 #떡볶이맛집 #대구떡볶이맛집 #대구3대천왕 #백종원3대천왕 #백종원떡볶이 #대구동성로떡볶이 #중앙떡볶이 #대구3대떡볶이 #대구떡볶이페스티벌 #중앙로떡볶이 #중앙떡볶이 {\\\\\"title\\\\\":\\\\\"대구 맛집 백종원 3대 천왕 :: 중앙떡볶이 솔직 후기\\\\\",\\\\\"source\\\\\":\\\\\"https://blog.naver.com/ryu8145/223424913321\\\\\",\\\\\"blogName\\\\\":\\\\\"루피의 지..\\\\\",\\\\\"domainIdOrBlogId\\\\\":\\\\\"ryu8145\\\\\",\\\\\"nicknameOrBlogId\\\\\":\\\\\"루피\\\\\",\\\\\"logNo\\\\\":223424913321,\\\\\"smartEditorVersion\\\\\":4,\\\\\"meDisplay\\\\\":true,\\\\\"lineDisplay\\\\\":true,\\\\\"outsideDisplay\\\\\":true,\\\\\"cafeDisplay\\\\\":true,\\\\\"blogDisplay\\\\\":true} 이 블로그 홈\", \"score\": 0.8875269, \"raw_content\": \"대구 맛집 백종원 3대 천왕 :: 중앙떡볶이 솔직 후기 : 네이버 블로그\\\\n \\\\n본문 바로가기\\\\n블로그\\\\n카테고리 이동 루피의 지구별 여행중✈️\\\\n\\\\n검색 MY메뉴 열기\\\\n맛집 여행\\\\n대구 맛집 백종원 3대 천왕 :: 중앙떡볶이 솔직 후기\\\\n\\\\n루피\\\\n2024. 4. 23. 20:06\\\\n이웃추가\\\\n본문 기타 기능\\\\n\\\\n본문 폰트 크기 조정 본문 폰트 크기 작게 보기 본문 폰트 크기 크게 보기 가\\\\n\\\\n공감하기\\\\n\\\\n\\\\n공유하기\\\\n\\\\nURL복사\\\\n신고하기\\\\n\\\\n위치중앙떡볶이\\\\n안녕하세요\\\\n\\\\n대구 맛집 리뷰하는\\\\n블로거 루피입니다\\\\n\\u200b\\\\n오늘은 대구 떡볶이\\\\n하면 떠오르는곳\\\\n\\u200b\\\\n백종원 3대천왕\\\\n중앙떡볶이를 소개할께요\\u200b\\u200b\\\\n\\u200b\\\\n\\\\n\\\\n중앙떡볶이대구광역시 중구 동성로2길 81 중앙떡볶이\\\\n이 블로그의 체크인\\\\n이 장소의 다른 글\\\\n\\u200b\\\\n⏰️ 영업시간 11:30~19:00\\\\n(매주 일요일 휴무)\\\\n\\u200b\\\\n📌 재료소진시 조기마감\\\\n\\u200b\\\\n🚘 주차 주차장 없음\\\\n(바로 앞 2.28 공영주차장 가능 )\\\\n\\u200b\\\\n포장가능\\u200b\\u200b\\\\n\\u200b\\\\n\\\\n\\\\n\\u200b\\\\n대구 동성로 맛집\\\\n중앙떡볶이 외관\\\\n모습 이구요\\\\n\\u200b\\\\n대구 맛집으로 오래\\\\n사랑받고 있는 중앙떡볶이는\\\\n\\u200b\\\\n직영점 체인점이 없는 오직\\\\n이곳에서만 맛 볼수 있답니다\\u200b\\\\n\\u200b\\\\n\\\\n\\\\n\\u200b\\\\n제 짝꿍과 오랜만에\\\\n중앙떡볶이를 찾았는데요\\u200b\\u200b\\\\n\\u200b\\\\n\\\\n\\\\n\\\\n\\u200b\\\\n여전히 손님들로\\\\n북적였고 앞에\\\\n\\u200b\\\\n퀵서비스 기사님도\\\\n포장대기 하고 있었구요\\u200b\\u200b\\\\n\\u200b\\\\n\\\\n\\\\n\\\\n\\u200b\\\\n중앙떡볶이 납작만두는\\\\n기름에 바싹 굽는게 아닌\\\\n\\u200b\\\\n촉촉하게 살짝 익혀낸\\\\n다는게 어울리것 같았어요\\\\n\\u200b\\\\n저 많은 블루리본과\\\\n빛 바랜 사진들이\\u200b\\u200b\\\\n\\u200b\\\\n\\\\n\\\\n\\\\n\\u200b\\\\n대구 오랜 맛집을\\\\n검증해주고 있었어요\\\\n\\\\n\\\\n\\\\n\\u200b\\\\n음식점 내부에는\\\\n수많은 유명 연예인들의\\\\n사인과 사진으로 도배\\u200b\\u200b\\\\n\\u200b\\\\n\\\\n\\\\n\\u200b\\\\n되어 있었고 그 중에\\\\n백종원 3대천왕 사진과\\\\n\\u200b\\\\n백종원님 싸인이\\\\n눈에 띄더라구요\\\\n\\u200b\\\\n맛집이라 그런지 솔직히\\\\n이모님들의 손님 응대하는\\\\n모습에 친절함은 없어 보였어요\\u200b\\\\n\\u200b\\\\n\\\\n\\\\n\\u200b\\\\n저희는 떡볶이와 만두를\\\\n섞어서 주문하면 만두가\\\\n좀 적다고 하셔서\\\\n\\u200b\\\\n쌀 떡볶이 납작만두\\\\n순대를 주문하였구요\\\\n\\u200b\\\\n중앙떡볶이는 밀떡이\\\\n아닌 큰 쌀가래떡을\\\\n베이스로 하고 있었어요\\\\n\\u200b\\\\n\\\\n\\\\n\\u200b\\\\n떡볶이 4500원\\\\n납작만두 4500원\\\\n순대 4500원이였어요\\\\n\\u200b\\\\n\\\\n\\\\n\\\\n\\u200b\\\\n솔직히 보시면 양은 그렇게\\\\n많다고 느껴지진 않았어요\\\\n\\u200b\\\\n\\\\n\\\\n\\u200b\\\\n순대는 간 허파와\\\\n같이 소금이 나왔구요\\\\n\\u200b\\\\n\\\\n\\\\n\\u200b\\\\n다른 분식점과 달리\\\\n특색있는건 아니였구요\\\\n\\u200b\\\\n\\\\n\\\\n\\u200b\\\\n납작만두는 앞에서\\\\n언급했듯이 기름에\\\\n\\u200b\\\\n촉촉하게 익혀 떡볶이\\\\n국물을 부어 나왔구요\\\\n\\u200b\\\\n\\\\n\\\\n\\u200b\\\\n저희 부부는 밀떡파인데도\\\\n큼지막한 쌀 가래떡이\\\\n\\u200b\\\\n\\\\n\\\\n\\u200b\\\\n굉장히 쫀득쫀득하고\\\\n식감이 괜찮았구요\\\\n\\u200b\\\\n\\\\n\\\\n\\u200b\\\\n단점은 큰 쌀 가래떡이라\\\\n그런지 떡볶이 국물이 베어\\\\n들지 않아 따로 노는 느낌이\\\\n\\u200b\\\\n있었지만 한입먹고 국물\\\\n무쳐서 먹음 맛있었구요\\\\n\\u200b\\\\n\\\\n\\\\n\\u200b\\\\n중앙떡볶이 수저통엔 젓가락\\\\n밖에 없어 진득하고 달달 칼칼한\\\\n국물을 떠 먹고 싶었는데 그러질 못했어요\\\\n\\u200b\\\\n어릴적부터 먹어왔던 그 맛\\\\n그대로라 웃음이 났고 한번쯤\\\\n생각나는 달큰한 떡볶이랍니다\\\\n\\u200b\\\\n\\\\n\\\\n\\u200b\\\\n납작만두도 촉촉 야들야들\\\\n해서 떡볶이 국물과 궁합이\\\\n너무 잘 맞았구요\\\\n\\\\n\\\\n\\\\n\\u200b\\\\n순대는 소금에 찍어\\\\n먹어도 맛있지만 이렇게\\\\n\\u200b\\\\n\\\\n\\\\n\\u200b\\\\n중앙떡볶이 국물에 푹\\\\n찍어 먹어도 넘 맛있답니다\\\\n\\u200b\\\\n솔직히 멀리서 찾아올 엄청\\\\n맛있는 맛은 아니지만 옛\\\\n생각이 나고 한번쯤 생각나는\\\\n맛있는 쌀 떡볶이랍니다\\\\n\\u200b\\\\n\\\\n\\u200b\\\\n대구 떡볶이 맛집 중앙떡볶이\\\\n포장도 많이 해가시던데\\\\n\\u200b\\\\n떡볶이 국물을 따뜻한 밥위에\\\\n부은 후 전자렌지 돌려 먹어도\\\\n넘 맛있다고 합니다\\\\n\\u200b\\\\n그럼 지금까지 대구 동성로\\\\n떡볶이 맛집 백종원 3대천왕\\\\n중앙떡볶이 후기를 마칠께요\\\\n\\u200b\\\\n긴글 읽어주셔서 감사드리고 오늘도\\\\n행복한 기억들로 가득채우시길 바래요\\\\n\\\\n대구맛집 #대구동성로맛집 #동성로맛집 #떡볶이맛집 #대구떡볶이맛집 #대구3대천왕 #백종원3대천왕 #백종원떡볶이 #대구동성로떡볶이 #중앙떡볶이 #대구3대떡볶이 #대구떡볶이페스티벌 #중앙로떡볶이\\\\n\\\\n#대구맛집\\\\n#대구동성로맛집\\\\n#동성로맛집\\\\n#떡볶이맛집\\\\n#대구떡볶이맛집\\\\n#대구3대천왕\\\\n#백종원3대천왕\\\\n#백종원떡볶이\\\\n#대구동성로떡볶이\\\\n#중앙떡볶이\\\\n#대구3대떡볶이\\\\n#대구떡볶이페스티벌\\\\n#중앙로떡볶이\\\\n\\\\n\\\\n공감한 사람 보러가기\\\\n댓글 17 공유하기\\\\n{\\\\\"title\\\\\":\\\\\"대구 맛집 백종원 3대 천왕 :: 중앙떡볶이 솔직 후기\\\\\",\\\\\"source\\\\\":\\\\\"https://blog.naver.com/ryu8145/223424913321\\\\\",\\\\\"blogName\\\\\":\\\\\"루피의 지..\\\\\",\\\\\"domainIdOrBlogId\\\\\":\\\\\"ryu8145\\\\\",\\\\\"nicknameOrBlogId\\\\\":\\\\\"루피\\\\\",\\\\\"logNo\\\\\":223424913321,\\\\\"smartEditorVersion\\\\\":4,\\\\\"meDisplay\\\\\":true,\\\\\"lineDisplay\\\\\":true,\\\\\"outsideDisplay\\\\\":true,\\\\\"cafeDisplay\\\\\":true,\\\\\"blogDisplay\\\\\":true}\\\\n닫기\\\\n카테고리\\\\n이 블로그 홈\\\\n\\\\n공감한 사람 보러가기\\\\n댓글 17 공유하기\\\\n루피(ryu8145) 님을 이웃추가하고 새글을 받아보세요\\\\n취소 이웃추가\"}]', name='tavily_web_search', id='86829577-40ec-474c-82e3-ac1d0a3c7f78', tool_call_id='call_XukcKb6i39wFihivPKZXBO8u'), AIMessage(content='대구 중앙떡볶이는 대구 동성로에 위치한 유명한 떡볶이 맛집으로, 백종원의 \"3대 천왕\" 프로그램에 소개된 곳입니다. 이곳은 오직 이 지점에서만 맛볼 수 있는 독특한 떡볶이를 제공합니다.\\n\\n### 기본 정보\\n- **주소**: 대구광역시 중구 동성로2길 81\\n- **영업시간**: 11:30 ~ 19:00 (매주 일요일 휴무)\\n- **주차**: 주차장이 없지만, 인근 2.28 공영주차장을 이용할 수 있습니다.\\n\\n### 메뉴 및 특징\\n- **떡볶이**: 4,500원\\n- **납작만두**: 4,500원\\n- **순대**: 4,500원\\n\\n중앙떡볶이는 쌀로 만든 가래떡을 사용하여 쫀득한 식감을 자랑하며, 떡볶이 국물은 달콤하고 칼칼한 맛이 특징입니다. 납작만두는 기름에 바삭하게 튀기지 않고 촉촉하게 익혀져 제공됩니다. 이곳의 떡볶이는 국물에 밥을 비벼 먹는 것도 추천합니다.\\n\\n### 분위기\\n가게 내부는 유명 연예인들의 사인과 사진으로 장식되어 있으며, 항상 손님들로 붐비는 인기 있는 장소입니다. 다만, 서비스는 친절함이 부족하다는 후기도 있습니다.\\n\\n### 후기\\n많은 방문객들이 중앙떡볶이의 맛을 회상하며, 어릴 적 추억을 떠올리게 하는 맛이라고 평가합니다. 떡볶이와 함께 제공되는 순대는 소금에 찍어 먹거나 떡볶이 국물에 찍어 먹어도 맛있습니다.\\n\\n더 자세한 후기는 [여기](https://blog.naver.com/ryu8145/223424913321)에서 확인할 수 있습니다.', additional_kwargs={'refusal': None}, response_metadata={'token_usage': {'completion_tokens': 449, 'prompt_tokens': 2735, 'total_tokens': 3184, 'completion_tokens_details': {'accepted_prediction_tokens': 0, 'audio_tokens': 0, 'reasoning_tokens': 0, 'rejected_prediction_tokens': 0}, 'prompt_tokens_details': {'audio_tokens': 0, 'cached_tokens': 0}}, 'model_name': 'gpt-4o-mini-2024-07-18', 'system_fingerprint': 'fp_b8bc95a0ac', 'finish_reason': 'stop', 'logprobs': None}, id='run-347ad408-a223-4416-907e-06a866232200-0', usage_metadata={'input_tokens': 2735, 'output_tokens': 449, 'total_tokens': 3184, 'input_token_details': {'audio': 0, 'cache_read': 0}, 'output_token_details': {'audio': 0, 'reasoning': 0}})]\n",
      "바깥 for 끝\n",
      "========================= 여기서 끝 =========================\n",
      "\n",
      "전체 반복문 4번 실행\n"
     ]
    }
   ],
   "source": [
    "# `None`는 현재 상태에 아무것도 추가하지 않음\n",
    "events = graph.stream(None, config, stream_mode=\"values\")\n",
    "\n",
    "i = 1\n",
    "\n",
    "for event in events:\n",
    "    print()\n",
    "    print('========================= 여기서 시작 ====================')\n",
    "    print(f'[event] 바깥 for 시작 ({i})')\n",
    "    print()\n",
    "\n",
    "    for k, value in event.items():\n",
    "        print(f'실행한 노드 이름: {k}')\n",
    "        print(f'해당 노드 값: \\n')\n",
    "        print(value)\n",
    "\n",
    "        if value and 'messages' in value:\n",
    "\n",
    "            if isinstance(value['messages'][-1], HumanMessage):\n",
    "                print('==================== HumanMessage ========================')\n",
    "                print(f\"[해당 노드 값] content: {value['messages'][-1].content}\")\n",
    "                print('==================== END HumanMessage ====================')            \n",
    "            elif isinstance(value['messages'][-1], AIMessage):\n",
    "                print('==================== AIMessage ========================')\n",
    "                print(f\"[해당 노드 값] content: {value['messages'][-1].content}\")\n",
    "\n",
    "                if hasattr(value['messages'][-1], 'tool_calls') and len(value['messages'][-1].tool_calls) > 0:\n",
    "                    print('tool call 있음')\n",
    "                    tool_result = value['messages'][-1].tool_calls\n",
    "                    print(f\"도구 이름 : {tool_result[0]['name']}\")\n",
    "                    print(f\"도구 인자: {tool_result[0]['args']}\")            \n",
    "                else:\n",
    "                    print('tool call 없음')                \n",
    "                print('==================== END AIMessage ====================')\n",
    "            elif isinstance(value['messages'][-1], ToolMessage):\n",
    "                print('==================== ToolMessage ========================')\n",
    "                print(f\"[해당 노드 값] 도구 도구 이름 : {value['messages'][-1].name}\")\n",
    "\n",
    "                content = json.loads(value['messages'][-1].content)\n",
    "\n",
    "                if content and isinstance(content, list) and len(content) > 0:                \n",
    "                    print(f\"[해당 노드 값] 제목: {content[0].get('title', 'No title')}\")\n",
    "                    print(f\"[해당 노드 값] URL: {content[0].get('url', 'No URL')}\")\n",
    "                    print(f\"[해당 노드 값] 내용: {content[0].get('content', 'No URL')}\")                \n",
    "                else:\n",
    "                    print(\"No content or invalid content format in ToolMessage\")\n",
    "\n",
    "                print('==================== END ToolMessage ====================')\n",
    "\n",
    "\n",
    "    i=i+1\n",
    "\n",
    "    print('바깥 for 끝')\n",
    "    print('========================= 여기서 끝 =========================') \n",
    "    print()\n",
    "\n",
    "print(f'전체 반복문 {i-1}번 실행')  "
   ]
  },
  {
   "cell_type": "code",
   "execution_count": 51,
   "metadata": {},
   "outputs": [
    {
     "name": "stdout",
     "output_type": "stream",
     "text": [
      "================================\u001b[1m Human Message \u001b[0m=================================\n",
      "\n",
      "대구 중앙떡볶이에 대해서 알려주세요\n",
      "==================================\u001b[1m Ai Message \u001b[0m==================================\n",
      "Tool Calls:\n",
      "  tavily_web_search (call_GxdfJHl8ztRsTc46MTYaRBwS)\n",
      " Call ID: call_GxdfJHl8ztRsTc46MTYaRBwS\n",
      "  Args:\n",
      "    query: 대구 중앙떡볶이\n",
      "=================================\u001b[1m Tool Message \u001b[0m=================================\n",
      "\n",
      "[수정된 웹 검색 결과] \n",
      "동성로 떡볶이는 수정된 결과 입니다.\n",
      "==================================\u001b[1m Ai Message \u001b[0m==================================\n",
      "Tool Calls:\n",
      "  tavily_web_search (call_XukcKb6i39wFihivPKZXBO8u)\n",
      " Call ID: call_XukcKb6i39wFihivPKZXBO8u\n",
      "  Args:\n",
      "    query: 대구 중앙떡볶이 맛집\n",
      "=================================\u001b[1m Tool Message \u001b[0m=================================\n",
      "Name: tavily_web_search\n",
      "\n",
      "[{\"title\": \"대구 맛집 백종원 3대 천왕 :: 중앙떡볶이 솔직 후기 : 네이버 블로그\", \"url\": \"https://m.blog.naver.com/ryu8145/223424913321\", \"content\": \"대구 맛집 백종원 3대 천왕 :: 중앙떡볶이 솔직 후기 : 네이버 블로그 본문 바로가기 대구 맛집 백종원 3대 천왕 :: 중앙떡볶이 솔직 후기 본문 기타 기능 대구 맛집 리뷰하는 오늘은 대구 떡볶이 중앙떡볶이대구광역시 중구 동성로2길 81 중앙떡볶이 대구 동성로 맛집 중앙떡볶이 외관 중앙떡볶이 납작만두는 쌀 떡볶이 납작만두 베이스로 하고 있었어요 떡볶이 4500원 촉촉하게 익혀 떡볶이 그런지 떡볶이 국물이 베어 중앙떡볶이 수저통엔 젓가락 어릴적부터 먹어왔던 그 맛 순대는 소금에 찍어 중앙떡볶이 국물에 푹 찍어 먹어도 넘 맛있답니다 맛있는 쌀 떡볶이랍니다 대구 떡볶이 맛집 중앙떡볶이 떡볶이 국물을 따뜻한 밥위에 떡볶이 맛집 백종원 3대천왕 중앙떡볶이 후기를 마칠께요 대구맛집 #대구동성로맛집 #동성로맛집 #떡볶이맛집 #대구떡볶이맛집 #대구3대천왕 #백종원3대천왕 #백종원떡볶이 #대구동성로떡볶이 #중앙떡볶이 #대구3대떡볶이 #대구떡볶이페스티벌 #중앙로떡볶이 #중앙떡볶이 {\\\"title\\\":\\\"대구 맛집 백종원 3대 천왕 :: 중앙떡볶이 솔직 후기\\\",\\\"source\\\":\\\"https://blog.naver.com/ryu8145/223424913321\\\",\\\"blogName\\\":\\\"루피의 지..\\\",\\\"domainIdOrBlogId\\\":\\\"ryu8145\\\",\\\"nicknameOrBlogId\\\":\\\"루피\\\",\\\"logNo\\\":223424913321,\\\"smartEditorVersion\\\":4,\\\"meDisplay\\\":true,\\\"lineDisplay\\\":true,\\\"outsideDisplay\\\":true,\\\"cafeDisplay\\\":true,\\\"blogDisplay\\\":true} 이 블로그 홈\", \"score\": 0.8875269, \"raw_content\": \"대구 맛집 백종원 3대 천왕 :: 중앙떡볶이 솔직 후기 : 네이버 블로그\\n \\n본문 바로가기\\n블로그\\n카테고리 이동 루피의 지구별 여행중✈️\\n\\n검색 MY메뉴 열기\\n맛집 여행\\n대구 맛집 백종원 3대 천왕 :: 중앙떡볶이 솔직 후기\\n\\n루피\\n2024. 4. 23. 20:06\\n이웃추가\\n본문 기타 기능\\n\\n본문 폰트 크기 조정 본문 폰트 크기 작게 보기 본문 폰트 크기 크게 보기 가\\n\\n공감하기\\n\\n\\n공유하기\\n\\nURL복사\\n신고하기\\n\\n위치중앙떡볶이\\n안녕하세요\\n\\n대구 맛집 리뷰하는\\n블로거 루피입니다\\n​\\n오늘은 대구 떡볶이\\n하면 떠오르는곳\\n​\\n백종원 3대천왕\\n중앙떡볶이를 소개할께요​​\\n​\\n\\n\\n중앙떡볶이대구광역시 중구 동성로2길 81 중앙떡볶이\\n이 블로그의 체크인\\n이 장소의 다른 글\\n​\\n⏰️ 영업시간 11:30~19:00\\n(매주 일요일 휴무)\\n​\\n📌 재료소진시 조기마감\\n​\\n🚘 주차 주차장 없음\\n(바로 앞 2.28 공영주차장 가능 )\\n​\\n포장가능​​\\n​\\n\\n\\n​\\n대구 동성로 맛집\\n중앙떡볶이 외관\\n모습 이구요\\n​\\n대구 맛집으로 오래\\n사랑받고 있는 중앙떡볶이는\\n​\\n직영점 체인점이 없는 오직\\n이곳에서만 맛 볼수 있답니다​\\n​\\n\\n\\n​\\n제 짝꿍과 오랜만에\\n중앙떡볶이를 찾았는데요​​\\n​\\n\\n\\n\\n​\\n여전히 손님들로\\n북적였고 앞에\\n​\\n퀵서비스 기사님도\\n포장대기 하고 있었구요​​\\n​\\n\\n\\n\\n​\\n중앙떡볶이 납작만두는\\n기름에 바싹 굽는게 아닌\\n​\\n촉촉하게 살짝 익혀낸\\n다는게 어울리것 같았어요\\n​\\n저 많은 블루리본과\\n빛 바랜 사진들이​​\\n​\\n\\n\\n\\n​\\n대구 오랜 맛집을\\n검증해주고 있었어요\\n\\n\\n\\n​\\n음식점 내부에는\\n수많은 유명 연예인들의\\n사인과 사진으로 도배​​\\n​\\n\\n\\n​\\n되어 있었고 그 중에\\n백종원 3대천왕 사진과\\n​\\n백종원님 싸인이\\n눈에 띄더라구요\\n​\\n맛집이라 그런지 솔직히\\n이모님들의 손님 응대하는\\n모습에 친절함은 없어 보였어요​\\n​\\n\\n\\n​\\n저희는 떡볶이와 만두를\\n섞어서 주문하면 만두가\\n좀 적다고 하셔서\\n​\\n쌀 떡볶이 납작만두\\n순대를 주문하였구요\\n​\\n중앙떡볶이는 밀떡이\\n아닌 큰 쌀가래떡을\\n베이스로 하고 있었어요\\n​\\n\\n\\n​\\n떡볶이 4500원\\n납작만두 4500원\\n순대 4500원이였어요\\n​\\n\\n\\n\\n​\\n솔직히 보시면 양은 그렇게\\n많다고 느껴지진 않았어요\\n​\\n\\n\\n​\\n순대는 간 허파와\\n같이 소금이 나왔구요\\n​\\n\\n\\n​\\n다른 분식점과 달리\\n특색있는건 아니였구요\\n​\\n\\n\\n​\\n납작만두는 앞에서\\n언급했듯이 기름에\\n​\\n촉촉하게 익혀 떡볶이\\n국물을 부어 나왔구요\\n​\\n\\n\\n​\\n저희 부부는 밀떡파인데도\\n큼지막한 쌀 가래떡이\\n​\\n\\n\\n​\\n굉장히 쫀득쫀득하고\\n식감이 괜찮았구요\\n​\\n\\n\\n​\\n단점은 큰 쌀 가래떡이라\\n그런지 떡볶이 국물이 베어\\n들지 않아 따로 노는 느낌이\\n​\\n있었지만 한입먹고 국물\\n무쳐서 먹음 맛있었구요\\n​\\n\\n\\n​\\n중앙떡볶이 수저통엔 젓가락\\n밖에 없어 진득하고 달달 칼칼한\\n국물을 떠 먹고 싶었는데 그러질 못했어요\\n​\\n어릴적부터 먹어왔던 그 맛\\n그대로라 웃음이 났고 한번쯤\\n생각나는 달큰한 떡볶이랍니다\\n​\\n\\n\\n​\\n납작만두도 촉촉 야들야들\\n해서 떡볶이 국물과 궁합이\\n너무 잘 맞았구요\\n\\n\\n\\n​\\n순대는 소금에 찍어\\n먹어도 맛있지만 이렇게\\n​\\n\\n\\n​\\n중앙떡볶이 국물에 푹\\n찍어 먹어도 넘 맛있답니다\\n​\\n솔직히 멀리서 찾아올 엄청\\n맛있는 맛은 아니지만 옛\\n생각이 나고 한번쯤 생각나는\\n맛있는 쌀 떡볶이랍니다\\n​\\n\\n​\\n대구 떡볶이 맛집 중앙떡볶이\\n포장도 많이 해가시던데\\n​\\n떡볶이 국물을 따뜻한 밥위에\\n부은 후 전자렌지 돌려 먹어도\\n넘 맛있다고 합니다\\n​\\n그럼 지금까지 대구 동성로\\n떡볶이 맛집 백종원 3대천왕\\n중앙떡볶이 후기를 마칠께요\\n​\\n긴글 읽어주셔서 감사드리고 오늘도\\n행복한 기억들로 가득채우시길 바래요\\n\\n대구맛집 #대구동성로맛집 #동성로맛집 #떡볶이맛집 #대구떡볶이맛집 #대구3대천왕 #백종원3대천왕 #백종원떡볶이 #대구동성로떡볶이 #중앙떡볶이 #대구3대떡볶이 #대구떡볶이페스티벌 #중앙로떡볶이\\n\\n#대구맛집\\n#대구동성로맛집\\n#동성로맛집\\n#떡볶이맛집\\n#대구떡볶이맛집\\n#대구3대천왕\\n#백종원3대천왕\\n#백종원떡볶이\\n#대구동성로떡볶이\\n#중앙떡볶이\\n#대구3대떡볶이\\n#대구떡볶이페스티벌\\n#중앙로떡볶이\\n\\n\\n공감한 사람 보러가기\\n댓글 17 공유하기\\n{\\\"title\\\":\\\"대구 맛집 백종원 3대 천왕 :: 중앙떡볶이 솔직 후기\\\",\\\"source\\\":\\\"https://blog.naver.com/ryu8145/223424913321\\\",\\\"blogName\\\":\\\"루피의 지..\\\",\\\"domainIdOrBlogId\\\":\\\"ryu8145\\\",\\\"nicknameOrBlogId\\\":\\\"루피\\\",\\\"logNo\\\":223424913321,\\\"smartEditorVersion\\\":4,\\\"meDisplay\\\":true,\\\"lineDisplay\\\":true,\\\"outsideDisplay\\\":true,\\\"cafeDisplay\\\":true,\\\"blogDisplay\\\":true}\\n닫기\\n카테고리\\n이 블로그 홈\\n\\n공감한 사람 보러가기\\n댓글 17 공유하기\\n루피(ryu8145) 님을 이웃추가하고 새글을 받아보세요\\n취소 이웃추가\"}]\n",
      "==================================\u001b[1m Ai Message \u001b[0m==================================\n",
      "\n",
      "대구 중앙떡볶이는 대구 동성로에 위치한 유명한 떡볶이 맛집으로, 백종원의 \"3대 천왕\" 프로그램에 소개된 곳입니다. 이곳은 오직 이 지점에서만 맛볼 수 있는 독특한 떡볶이를 제공합니다.\n",
      "\n",
      "### 기본 정보\n",
      "- **주소**: 대구광역시 중구 동성로2길 81\n",
      "- **영업시간**: 11:30 ~ 19:00 (매주 일요일 휴무)\n",
      "- **주차**: 주차장이 없지만, 인근 2.28 공영주차장을 이용할 수 있습니다.\n",
      "\n",
      "### 메뉴 및 특징\n",
      "- **떡볶이**: 4,500원\n",
      "- **납작만두**: 4,500원\n",
      "- **순대**: 4,500원\n",
      "\n",
      "중앙떡볶이는 쌀로 만든 가래떡을 사용하여 쫀득한 식감을 자랑하며, 떡볶이 국물은 달콤하고 칼칼한 맛이 특징입니다. 납작만두는 기름에 바삭하게 튀기지 않고 촉촉하게 익혀져 제공됩니다. 이곳의 떡볶이는 국물에 밥을 비벼 먹는 것도 추천합니다.\n",
      "\n",
      "### 분위기\n",
      "가게 내부는 유명 연예인들의 사인과 사진으로 장식되어 있으며, 항상 손님들로 붐비는 인기 있는 장소입니다. 다만, 서비스는 친절함이 부족하다는 후기도 있습니다.\n",
      "\n",
      "### 후기\n",
      "많은 방문객들이 중앙떡볶이의 맛을 회상하며, 어릴 적 추억을 떠올리게 하는 맛이라고 평가합니다. 떡볶이와 함께 제공되는 순대는 소금에 찍어 먹거나 떡볶이 국물에 찍어 먹어도 맛있습니다.\n",
      "\n",
      "더 자세한 후기는 [여기](https://blog.naver.com/ryu8145/223424913321)에서 확인할 수 있습니다.\n"
     ]
    }
   ],
   "source": [
    "# 그래프 상태 스냅샷 생성\n",
    "snapshot = graph.get_state(config)\n",
    "\n",
    "# 최근 세 개의 메시지 출력\n",
    "for message in snapshot.values[\"messages\"]:\n",
    "    message.pretty_print()"
   ]
  },
  {
   "cell_type": "code",
   "execution_count": null,
   "metadata": {},
   "outputs": [
    {
     "name": "stdout",
     "output_type": "stream",
     "text": [
      "[event] 전체\n",
      "{'messages': [HumanMessage(content='대구 중앙떡볶이에 대해서 알려주세요', additional_kwargs={}, response_metadata={}, id='b1d51a21-dbee-4fa4-b6d7-26750e85302b'), AIMessage(content='', additional_kwargs={'tool_calls': [{'id': 'call_UgiBQcyznmj95Wga4hORbPrz', 'function': {'arguments': '{\"query\":\"대구 중앙떡볶이\"}', 'name': 'tavily_web_search'}, 'type': 'function'}], 'refusal': None}, response_metadata={'token_usage': {'completion_tokens': 25, 'prompt_tokens': 102, 'total_tokens': 127, 'completion_tokens_details': {'accepted_prediction_tokens': 0, 'audio_tokens': 0, 'reasoning_tokens': 0, 'rejected_prediction_tokens': 0}, 'prompt_tokens_details': {'audio_tokens': 0, 'cached_tokens': 0}}, 'model_name': 'gpt-4o-mini-2024-07-18', 'system_fingerprint': 'fp_b8bc95a0ac', 'finish_reason': 'tool_calls', 'logprobs': None}, id='run-b47d696a-ad02-4976-a838-7cd7f2278ec7-0', tool_calls=[{'name': 'tavily_web_search', 'args': {'query': '대구 중앙떡볶이'}, 'id': 'call_UgiBQcyznmj95Wga4hORbPrz', 'type': 'tool_call'}], usage_metadata={'input_tokens': 102, 'output_tokens': 25, 'total_tokens': 127, 'input_token_details': {'audio': 0, 'cache_read': 0}, 'output_token_details': {'audio': 0, 'reasoning': 0}}), ToolMessage(content='[수정된 웹 검색 결과] \\n동성로 떡볶이는 수정된 결과 입니다.', id='7faa42a4-396a-4092-8be2-8267d6d37abe', tool_call_id='call_UgiBQcyznmj95Wga4hORbPrz'), AIMessage(content='', additional_kwargs={'tool_calls': [{'id': 'call_h0rXHK9eInRsfq1qPblnI2S2', 'function': {'arguments': '{\"query\":\"대구 중앙떡볶이 맛집\"}', 'name': 'tavily_web_search'}, 'type': 'function'}], 'refusal': None}, response_metadata={'token_usage': {'completion_tokens': 27, 'prompt_tokens': 159, 'total_tokens': 186, 'completion_tokens_details': {'accepted_prediction_tokens': 0, 'audio_tokens': 0, 'reasoning_tokens': 0, 'rejected_prediction_tokens': 0}, 'prompt_tokens_details': {'audio_tokens': 0, 'cached_tokens': 0}}, 'model_name': 'gpt-4o-mini-2024-07-18', 'system_fingerprint': 'fp_b8bc95a0ac', 'finish_reason': 'tool_calls', 'logprobs': None}, id='run-f88f5529-da61-4a5b-a5d9-52cc19fedc74-0', tool_calls=[{'name': 'tavily_web_search', 'args': {'query': '대구 중앙떡볶이 맛집'}, 'id': 'call_h0rXHK9eInRsfq1qPblnI2S2', 'type': 'tool_call'}], usage_metadata={'input_tokens': 159, 'output_tokens': 27, 'total_tokens': 186, 'input_token_details': {'audio': 0, 'cache_read': 0}, 'output_token_details': {'audio': 0, 'reasoning': 0}}), ToolMessage(content='[{\"title\": \"대구 맛집 백종원 3대 천왕 :: 중앙떡볶이 솔직 후기 : 네이버 블로그\", \"url\": \"https://m.blog.naver.com/ryu8145/223424913321\", \"content\": \"대구 떡볶이 맛집 중앙떡볶이. 포장도 많이 해가시던데 떡볶이 국물을 따뜻한 밥위에. 부은 후 전자렌지 돌려 먹어도. 넘 맛있다고 합니다 그럼 지금까지 대구 동성로. 떡볶이 맛집 백종원 3대천왕. 중앙떡볶이 후기를 마칠께요 긴글 읽어주셔서 감사드리고 오늘도\", \"score\": 0.84277284, \"raw_content\": \"블로그\\\\n\\\\n카테고리 이동\\\\n\\\\n\\\\n\\\\n\\\\n루피의 지구별 여행중✈️\\\\n\\\\n대구 맛집 백종원 3대 천왕 :: 중앙떡볶이 솔직 후기\\\\n\\\\n2024. 4. 23. 20:06\\\\n\\\\n안녕하세요\\\\n\\\\n대구 맛집 리뷰하는\\\\n\\\\n블로거 루피입니다\\\\n\\\\n\\u200b\\\\n\\\\n오늘은 대구 떡볶이\\\\n\\\\n하면 떠오르는곳\\\\n\\\\n\\u200b\\\\n\\\\n백종원 3대천왕\\\\n\\\\n중앙떡볶이를 소개할께요\\u200b\\u200b\\\\n\\\\n\\u200b\\\\n\\\\n대구광역시 중구 동성로2길 81 중앙떡볶이\\\\n\\\\n\\u200b\\\\n\\\\n⏰️ 영업시간 11:30~19:00\\\\n\\\\n(매주 일요일 휴무)\\\\n\\\\n\\u200b\\\\n\\\\n📌 재료소진시 조기마감\\\\n\\\\n\\u200b\\\\n\\\\n🚘 주차 주차장 없음\\\\n\\\\n(바로 앞 2.28 공영주차장 가능 )\\\\n\\\\n\\u200b\\\\n\\\\n포장가능\\u200b\\u200b\\\\n\\\\n\\u200b\\\\n\\\\n\\u200b\\\\n\\\\n대구 동성로 맛집\\\\n\\\\n중앙떡볶이 외관\\\\n\\\\n모습 이구요\\\\n\\\\n\\u200b\\\\n\\\\n대구 맛집으로 오래\\\\n\\\\n사랑받고 있는 중앙떡볶이는\\\\n\\\\n\\u200b\\\\n\\\\n직영점 체인점이 없는 오직\\\\n\\\\n이곳에서만 맛 볼수 있답니다\\u200b\\\\n\\\\n\\u200b\\\\n\\\\n\\u200b\\\\n\\\\n제 짝꿍과 오랜만에\\\\n\\\\n중앙떡볶이를 찾았는데요\\u200b\\u200b\\\\n\\\\n\\u200b\\\\n\\\\n\\u200b\\\\n\\\\n여전히 손님들로\\\\n\\\\n북적였고 앞에\\\\n\\\\n\\u200b\\\\n\\\\n퀵서비스 기사님도\\\\n\\\\n포장대기 하고 있었구요\\u200b\\u200b\\\\n\\\\n\\u200b\\\\n\\\\n\\u200b\\\\n\\\\n중앙떡볶이 납작만두는\\\\n\\\\n기름에 바싹 굽는게 아닌\\\\n\\\\n\\u200b\\\\n\\\\n촉촉하게 살짝 익혀낸\\\\n\\\\n다는게 어울리것 같았어요\\\\n\\\\n\\u200b\\\\n\\\\n저 많은 블루리본과\\\\n\\\\n빛 바랜 사진들이\\u200b\\u200b\\\\n\\\\n\\u200b\\\\n\\\\n\\u200b\\\\n\\\\n대구 오랜 맛집을\\\\n\\\\n검증해주고 있었어요\\\\n\\\\n\\u200b\\\\n\\\\n음식점 내부에는\\\\n\\\\n수많은 유명 연예인들의\\\\n\\\\n사인과 사진으로 도배\\u200b\\u200b\\\\n\\\\n\\u200b\\\\n\\\\n\\u200b\\\\n\\\\n되어 있었고 그 중에\\\\n\\\\n백종원 3대천왕 사진과\\\\n\\\\n\\u200b\\\\n\\\\n백종원님 싸인이\\\\n\\\\n눈에 띄더라구요\\\\n\\\\n\\u200b\\\\n\\\\n맛집이라 그런지 솔직히\\\\n\\\\n이모님들의 손님 응대하는\\\\n\\\\n모습에 친절함은 없어 보였어요\\u200b\\\\n\\\\n\\u200b\\\\n\\\\n\\u200b\\\\n\\\\n저희는 떡볶이와 만두를\\\\n\\\\n섞어서 주문하면 만두가\\\\n\\\\n좀 적다고 하셔서\\\\n\\\\n\\u200b\\\\n\\\\n쌀 떡볶이 납작만두\\\\n\\\\n순대를 주문하였구요\\\\n\\\\n\\u200b\\\\n\\\\n중앙떡볶이는 밀떡이\\\\n\\\\n아닌 큰 쌀가래떡을\\\\n\\\\n베이스로 하고 있었어요\\\\n\\\\n\\u200b\\\\n\\\\n\\u200b\\\\n\\\\n떡볶이 4500원\\\\n\\\\n납작만두 4500원\\\\n\\\\n순대 4500원이였어요\\\\n\\\\n\\u200b\\\\n\\\\n\\u200b\\\\n\\\\n솔직히 보시면 양은 그렇게\\\\n\\\\n많다고 느껴지진 않았어요\\\\n\\\\n\\u200b\\\\n\\\\n\\u200b\\\\n\\\\n순대는 간 허파와\\\\n\\\\n같이 소금이 나왔구요\\\\n\\\\n\\u200b\\\\n\\\\n\\u200b\\\\n\\\\n다른 분식점과 달리\\\\n\\\\n특색있는건 아니였구요\\\\n\\\\n\\u200b\\\\n\\\\n\\u200b\\\\n\\\\n납작만두는 앞에서\\\\n\\\\n언급했듯이 기름에\\\\n\\\\n\\u200b\\\\n\\\\n촉촉하게 익혀 떡볶이\\\\n\\\\n국물을 부어 나왔구요\\\\n\\\\n\\u200b\\\\n\\\\n\\u200b\\\\n\\\\n저희 부부는 밀떡파인데도\\\\n\\\\n큼지막한 쌀 가래떡이\\\\n\\\\n\\u200b\\\\n\\\\n\\u200b\\\\n\\\\n굉장히 쫀득쫀득하고\\\\n\\\\n식감이 괜찮았구요\\\\n\\\\n\\u200b\\\\n\\\\n\\u200b\\\\n\\\\n단점은 큰 쌀 가래떡이라\\\\n\\\\n그런지 떡볶이 국물이 베어\\\\n\\\\n들지 않아 따로 노는 느낌이\\\\n\\\\n\\u200b\\\\n\\\\n있었지만 한입먹고 국물\\\\n\\\\n무쳐서 먹음 맛있었구요\\\\n\\\\n\\u200b\\\\n\\\\n\\u200b\\\\n\\\\n중앙떡볶이 수저통엔 젓가락\\\\n\\\\n밖에 없어 진득하고 달달 칼칼한\\\\n\\\\n국물을 떠 먹고 싶었는데 그러질 못했어요\\\\n\\\\n\\u200b\\\\n\\\\n어릴적부터 먹어왔던 그 맛\\\\n\\\\n그대로라 웃음이 났고 한번쯤\\\\n\\\\n생각나는 달큰한 떡볶이랍니다\\\\n\\\\n\\u200b\\\\n\\\\n\\u200b\\\\n\\\\n납작만두도 촉촉 야들야들\\\\n\\\\n해서 떡볶이 국물과 궁합이\\\\n\\\\n너무 잘 맞았구요\\\\n\\\\n\\u200b\\\\n\\\\n순대는 소금에 찍어\\\\n\\\\n먹어도 맛있지만 이렇게\\\\n\\\\n\\u200b\\\\n\\\\n\\u200b\\\\n\\\\n중앙떡볶이 국물에 푹\\\\n\\\\n찍어 먹어도 넘 맛있답니다\\\\n\\\\n\\u200b\\\\n\\\\n솔직히 멀리서 찾아올 엄청\\\\n\\\\n맛있는 맛은 아니지만 옛\\\\n\\\\n생각이 나고 한번쯤 생각나는\\\\n\\\\n맛있는 쌀 떡볶이랍니다\\\\n\\\\n\\u200b\\\\n\\\\n\\u200b\\\\n\\\\n대구 떡볶이 맛집 중앙떡볶이\\\\n\\\\n포장도 많이 해가시던데\\\\n\\\\n\\u200b\\\\n\\\\n떡볶이 국물을 따뜻한 밥위에\\\\n\\\\n부은 후 전자렌지 돌려 먹어도\\\\n\\\\n넘 맛있다고 합니다\\\\n\\\\n\\u200b\\\\n\\\\n그럼 지금까지 대구 동성로\\\\n\\\\n떡볶이 맛집 백종원 3대천왕\\\\n\\\\n중앙떡볶이 후기를 마칠께요\\\\n\\\\n\\u200b\\\\n\\\\n긴글 읽어주셔서 감사드리고 오늘도\\\\n\\\\n행복한 기억들로 가득채우시길 바래요\\\\n\\\\n#대구맛집 #대구동성로맛집 #동성로맛집 #떡볶이맛집 #대구떡볶이맛집 #대구3대천왕 #백종원3대천왕 #백종원떡볶이 #대구동성로떡볶이 #중앙떡볶이 #대구3대떡볶이 #대구떡볶이페스티벌 #중앙로떡볶이\\\\n\\\\n카테고리\\\\n\\\\n\"}, {\"title\": \"대구 맛집 백종원 3대 천왕 :: 중앙떡볶이 솔직 후기 : 네이버 블로그\", \"url\": \"https://m.blog.naver.com/ryu8145/223424913321\", \"content\": \"대구 떡볶이 맛집 중앙떡볶이. 포장도 많이 해가시던데 떡볶이 국물을 따뜻한 밥위에. 부은 후 전자렌지 돌려 먹어도. 넘 맛있다고 합니다 그럼 지금까지 대구 동성로. 떡볶이 맛집 백종원 3대천왕. 중앙떡볶이 후기를 마칠께요 긴글 읽어주셔서 감사드리고 오늘도\", \"score\": 0.84277284, \"raw_content\": \"블로그\\\\n\\\\n카테고리 이동\\\\n\\\\n\\\\n\\\\n\\\\n루피의 지구별 여행중✈️\\\\n\\\\n대구 맛집 백종원 3대 천왕 :: 중앙떡볶이 솔직 후기\\\\n\\\\n2024. 4. 23. 20:06\\\\n\\\\n안녕하세요\\\\n\\\\n대구 맛집 리뷰하는\\\\n\\\\n블로거 루피입니다\\\\n\\\\n\\u200b\\\\n\\\\n오늘은 대구 떡볶이\\\\n\\\\n하면 떠오르는곳\\\\n\\\\n\\u200b\\\\n\\\\n백종원 3대천왕\\\\n\\\\n중앙떡볶이를 소개할께요\\u200b\\u200b\\\\n\\\\n\\u200b\\\\n\\\\n대구광역시 중구 동성로2길 81 중앙떡볶이\\\\n\\\\n\\u200b\\\\n\\\\n⏰️ 영업시간 11:30~19:00\\\\n\\\\n(매주 일요일 휴무)\\\\n\\\\n\\u200b\\\\n\\\\n📌 재료소진시 조기마감\\\\n\\\\n\\u200b\\\\n\\\\n🚘 주차 주차장 없음\\\\n\\\\n(바로 앞 2.28 공영주차장 가능 )\\\\n\\\\n\\u200b\\\\n\\\\n포장가능\\u200b\\u200b\\\\n\\\\n\\u200b\\\\n\\\\n\\u200b\\\\n\\\\n대구 동성로 맛집\\\\n\\\\n중앙떡볶이 외관\\\\n\\\\n모습 이구요\\\\n\\\\n\\u200b\\\\n\\\\n대구 맛집으로 오래\\\\n\\\\n사랑받고 있는 중앙떡볶이는\\\\n\\\\n\\u200b\\\\n\\\\n직영점 체인점이 없는 오직\\\\n\\\\n이곳에서만 맛 볼수 있답니다\\u200b\\\\n\\\\n\\u200b\\\\n\\\\n\\u200b\\\\n\\\\n제 짝꿍과 오랜만에\\\\n\\\\n중앙떡볶이를 찾았는데요\\u200b\\u200b\\\\n\\\\n\\u200b\\\\n\\\\n\\u200b\\\\n\\\\n여전히 손님들로\\\\n\\\\n북적였고 앞에\\\\n\\\\n\\u200b\\\\n\\\\n퀵서비스 기사님도\\\\n\\\\n포장대기 하고 있었구요\\u200b\\u200b\\\\n\\\\n\\u200b\\\\n\\\\n\\u200b\\\\n\\\\n중앙떡볶이 납작만두는\\\\n\\\\n기름에 바싹 굽는게 아닌\\\\n\\\\n\\u200b\\\\n\\\\n촉촉하게 살짝 익혀낸\\\\n\\\\n다는게 어울리것 같았어요\\\\n\\\\n\\u200b\\\\n\\\\n저 많은 블루리본과\\\\n\\\\n빛 바랜 사진들이\\u200b\\u200b\\\\n\\\\n\\u200b\\\\n\\\\n\\u200b\\\\n\\\\n대구 오랜 맛집을\\\\n\\\\n검증해주고 있었어요\\\\n\\\\n\\u200b\\\\n\\\\n음식점 내부에는\\\\n\\\\n수많은 유명 연예인들의\\\\n\\\\n사인과 사진으로 도배\\u200b\\u200b\\\\n\\\\n\\u200b\\\\n\\\\n\\u200b\\\\n\\\\n되어 있었고 그 중에\\\\n\\\\n백종원 3대천왕 사진과\\\\n\\\\n\\u200b\\\\n\\\\n백종원님 싸인이\\\\n\\\\n눈에 띄더라구요\\\\n\\\\n\\u200b\\\\n\\\\n맛집이라 그런지 솔직히\\\\n\\\\n이모님들의 손님 응대하는\\\\n\\\\n모습에 친절함은 없어 보였어요\\u200b\\\\n\\\\n\\u200b\\\\n\\\\n\\u200b\\\\n\\\\n저희는 떡볶이와 만두를\\\\n\\\\n섞어서 주문하면 만두가\\\\n\\\\n좀 적다고 하셔서\\\\n\\\\n\\u200b\\\\n\\\\n쌀 떡볶이 납작만두\\\\n\\\\n순대를 주문하였구요\\\\n\\\\n\\u200b\\\\n\\\\n중앙떡볶이는 밀떡이\\\\n\\\\n아닌 큰 쌀가래떡을\\\\n\\\\n베이스로 하고 있었어요\\\\n\\\\n\\u200b\\\\n\\\\n\\u200b\\\\n\\\\n떡볶이 4500원\\\\n\\\\n납작만두 4500원\\\\n\\\\n순대 4500원이였어요\\\\n\\\\n\\u200b\\\\n\\\\n\\u200b\\\\n\\\\n솔직히 보시면 양은 그렇게\\\\n\\\\n많다고 느껴지진 않았어요\\\\n\\\\n\\u200b\\\\n\\\\n\\u200b\\\\n\\\\n순대는 간 허파와\\\\n\\\\n같이 소금이 나왔구요\\\\n\\\\n\\u200b\\\\n\\\\n\\u200b\\\\n\\\\n다른 분식점과 달리\\\\n\\\\n특색있는건 아니였구요\\\\n\\\\n\\u200b\\\\n\\\\n\\u200b\\\\n\\\\n납작만두는 앞에서\\\\n\\\\n언급했듯이 기름에\\\\n\\\\n\\u200b\\\\n\\\\n촉촉하게 익혀 떡볶이\\\\n\\\\n국물을 부어 나왔구요\\\\n\\\\n\\u200b\\\\n\\\\n\\u200b\\\\n\\\\n저희 부부는 밀떡파인데도\\\\n\\\\n큼지막한 쌀 가래떡이\\\\n\\\\n\\u200b\\\\n\\\\n\\u200b\\\\n\\\\n굉장히 쫀득쫀득하고\\\\n\\\\n식감이 괜찮았구요\\\\n\\\\n\\u200b\\\\n\\\\n\\u200b\\\\n\\\\n단점은 큰 쌀 가래떡이라\\\\n\\\\n그런지 떡볶이 국물이 베어\\\\n\\\\n들지 않아 따로 노는 느낌이\\\\n\\\\n\\u200b\\\\n\\\\n있었지만 한입먹고 국물\\\\n\\\\n무쳐서 먹음 맛있었구요\\\\n\\\\n\\u200b\\\\n\\\\n\\u200b\\\\n\\\\n중앙떡볶이 수저통엔 젓가락\\\\n\\\\n밖에 없어 진득하고 달달 칼칼한\\\\n\\\\n국물을 떠 먹고 싶었는데 그러질 못했어요\\\\n\\\\n\\u200b\\\\n\\\\n어릴적부터 먹어왔던 그 맛\\\\n\\\\n그대로라 웃음이 났고 한번쯤\\\\n\\\\n생각나는 달큰한 떡볶이랍니다\\\\n\\\\n\\u200b\\\\n\\\\n\\u200b\\\\n\\\\n납작만두도 촉촉 야들야들\\\\n\\\\n해서 떡볶이 국물과 궁합이\\\\n\\\\n너무 잘 맞았구요\\\\n\\\\n\\u200b\\\\n\\\\n순대는 소금에 찍어\\\\n\\\\n먹어도 맛있지만 이렇게\\\\n\\\\n\\u200b\\\\n\\\\n\\u200b\\\\n\\\\n중앙떡볶이 국물에 푹\\\\n\\\\n찍어 먹어도 넘 맛있답니다\\\\n\\\\n\\u200b\\\\n\\\\n솔직히 멀리서 찾아올 엄청\\\\n\\\\n맛있는 맛은 아니지만 옛\\\\n\\\\n생각이 나고 한번쯤 생각나는\\\\n\\\\n맛있는 쌀 떡볶이랍니다\\\\n\\\\n\\u200b\\\\n\\\\n\\u200b\\\\n\\\\n대구 떡볶이 맛집 중앙떡볶이\\\\n\\\\n포장도 많이 해가시던데\\\\n\\\\n\\u200b\\\\n\\\\n떡볶이 국물을 따뜻한 밥위에\\\\n\\\\n부은 후 전자렌지 돌려 먹어도\\\\n\\\\n넘 맛있다고 합니다\\\\n\\\\n\\u200b\\\\n\\\\n그럼 지금까지 대구 동성로\\\\n\\\\n떡볶이 맛집 백종원 3대천왕\\\\n\\\\n중앙떡볶이 후기를 마칠께요\\\\n\\\\n\\u200b\\\\n\\\\n긴글 읽어주셔서 감사드리고 오늘도\\\\n\\\\n행복한 기억들로 가득채우시길 바래요\\\\n\\\\n#대구맛집 #대구동성로맛집 #동성로맛집 #떡볶이맛집 #대구떡볶이맛집 #대구3대천왕 #백종원3대천왕 #백종원떡볶이 #대구동성로떡볶이 #중앙떡볶이 #대구3대떡볶이 #대구떡볶이페스티벌 #중앙로떡볶이\\\\n\\\\n카테고리\\\\n\\\\n\"}]', name='tavily_web_search', id='f72895f4-6dae-4d34-ba99-68488c2adbce', tool_call_id='call_h0rXHK9eInRsfq1qPblnI2S2'), AIMessage(content='대구 중앙떡볶이는 대구 동성로에 위치한 유명한 떡볶이 맛집으로, 백종원의 \"3대 천왕\" 프로그램에 소개된 곳입니다. 이곳은 오직 이 지점에서만 맛볼 수 있는 독특한 떡볶이를 제공합니다.\\n\\n### 기본 정보\\n- **주소**: 대구광역시 중구 동성로2길 81\\n- **영업시간**: 매일 11:30 ~ 19:00 (일요일 휴무)\\n- **주차**: 주차장이 없지만, 인근 2.28 공영주차장을 이용할 수 있습니다.\\n- **포장 가능**: 포장 서비스도 제공하여 많은 손님들이 포장해 가는 모습을 볼 수 있습니다.\\n\\n### 메뉴 및 특징\\n- **떡볶이**: 가격은 약 4,500원이며, 밀떡이 아닌 큰 쌀가래떡을 사용합니다. 쫀득한 식감이 특징입니다.\\n- **납작만두**: 기름에 바싹 굽지 않고 촉촉하게 익혀서 제공됩니다.\\n- **순대**: 간 허파와 함께 제공되며, 소금에 찍어 먹거나 떡볶이 국물에 찍어 먹을 수 있습니다.\\n\\n### 후기\\n많은 손님들이 이곳의 떡볶이를 찾는 이유는 어릴 적 추억을 떠올리게 하는 맛 때문입니다. 떡볶이 국물은 달콤하고 칼칼한 맛이 특징이며, 만두와의 조화도 좋습니다. 다만, 양이 많지 않다는 의견도 있습니다.\\n\\n자세한 후기는 [여기](https://m.blog.naver.com/ryu8145/223424913321)에서 확인할 수 있습니다.', additional_kwargs={'refusal': None}, response_metadata={'token_usage': {'completion_tokens': 400, 'prompt_tokens': 3786, 'total_tokens': 4186, 'completion_tokens_details': {'accepted_prediction_tokens': 0, 'audio_tokens': 0, 'reasoning_tokens': 0, 'rejected_prediction_tokens': 0}, 'prompt_tokens_details': {'audio_tokens': 0, 'cached_tokens': 3712}}, 'model_name': 'gpt-4o-mini-2024-07-18', 'system_fingerprint': 'fp_b8bc95a0ac', 'finish_reason': 'stop', 'logprobs': None}, id='run-03d3f680-ef5d-4f47-9c65-3d7dff4cbc1f-0', usage_metadata={'input_tokens': 3786, 'output_tokens': 400, 'total_tokens': 4186, 'input_token_details': {'audio': 0, 'cache_read': 3712}, 'output_token_details': {'audio': 0, 'reasoning': 0}})]}\n",
      "\n",
      "==================================\u001b[1m Ai Message \u001b[0m==================================\n",
      "\n",
      "대구 중앙떡볶이는 대구 동성로에 위치한 유명한 떡볶이 맛집으로, 백종원의 \"3대 천왕\" 프로그램에 소개된 곳입니다. 이곳은 오직 이 지점에서만 맛볼 수 있는 독특한 떡볶이를 제공합니다.\n",
      "\n",
      "### 기본 정보\n",
      "- **주소**: 대구광역시 중구 동성로2길 81\n",
      "- **영업시간**: 매일 11:30 ~ 19:00 (일요일 휴무)\n",
      "- **주차**: 주차장이 없지만, 인근 2.28 공영주차장을 이용할 수 있습니다.\n",
      "- **포장 가능**: 포장 서비스도 제공하여 많은 손님들이 포장해 가는 모습을 볼 수 있습니다.\n",
      "\n",
      "### 메뉴 및 특징\n",
      "- **떡볶이**: 가격은 약 4,500원이며, 밀떡이 아닌 큰 쌀가래떡을 사용합니다. 쫀득한 식감이 특징입니다.\n",
      "- **납작만두**: 기름에 바싹 굽지 않고 촉촉하게 익혀서 제공됩니다.\n",
      "- **순대**: 간 허파와 함께 제공되며, 소금에 찍어 먹거나 떡볶이 국물에 찍어 먹을 수 있습니다.\n",
      "\n",
      "### 후기\n",
      "많은 손님들이 이곳의 떡볶이를 찾는 이유는 어릴 적 추억을 떠올리게 하는 맛 때문입니다. 떡볶이 국물은 달콤하고 칼칼한 맛이 특징이며, 만두와의 조화도 좋습니다. 다만, 양이 많지 않다는 의견도 있습니다.\n",
      "\n",
      "자세한 후기는 [여기](https://m.blog.naver.com/ryu8145/223424913321)에서 확인할 수 있습니다.\n"
     ]
    }
   ],
   "source": [
    "# events = graph.stream(None, config, stream_mode=\"values\")\n",
    "\n",
    "# # 이벤트 반복 처리\n",
    "# for event in events:\n",
    "#     print('[event] 전체')\n",
    "#     print(event)\n",
    "#     print()\n",
    "\n",
    "#     if \"messages\" in event:                         # 메시지가 이벤트에 포함된 경우        \n",
    "#         event[\"messages\"][-1].pretty_print()        # 마지막 메시지의 예쁜 출력"
   ]
  }
 ],
 "metadata": {
  "kernelspec": {
   "display_name": "venv",
   "language": "python",
   "name": "python3"
  },
  "language_info": {
   "codemirror_mode": {
    "name": "ipython",
    "version": 3
   },
   "file_extension": ".py",
   "mimetype": "text/x-python",
   "name": "python",
   "nbconvert_exporter": "python",
   "pygments_lexer": "ipython3",
   "version": "3.11.9"
  }
 },
 "nbformat": 4,
 "nbformat_minor": 2
}
