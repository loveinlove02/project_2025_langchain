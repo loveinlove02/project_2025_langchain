{
 "cells": [
  {
   "cell_type": "code",
   "execution_count": 101,
   "metadata": {},
   "outputs": [],
   "source": [
    "from dotenv import load_dotenv\n",
    "import os\n",
    "\n",
    "load_dotenv(verbose=True)\n",
    "key = os.getenv('OPENAI_API_KEY')"
   ]
  },
  {
   "cell_type": "code",
   "execution_count": 102,
   "metadata": {},
   "outputs": [],
   "source": [
    "from typing import Annotated, List, Dict\n",
    "from typing_extensions import TypedDict\n",
    "from langgraph.graph.message import add_messages"
   ]
  },
  {
   "cell_type": "code",
   "execution_count": 103,
   "metadata": {},
   "outputs": [],
   "source": [
    "from langgraph.graph import StateGraph \n",
    "from langgraph.graph import START, END"
   ]
  },
  {
   "cell_type": "code",
   "execution_count": 104,
   "metadata": {},
   "outputs": [],
   "source": [
    "from langgraph.prebuilt import ToolNode, tools_condition\n",
    "from langchain_core.tools import tool"
   ]
  },
  {
   "cell_type": "code",
   "execution_count": 105,
   "metadata": {},
   "outputs": [],
   "source": [
    "from langchain_teddynote.tools.tavily import TavilySearch\n",
    "from langchain_teddynote.tools import GoogleNews"
   ]
  },
  {
   "cell_type": "code",
   "execution_count": 106,
   "metadata": {},
   "outputs": [],
   "source": [
    "from langchain_core.messages import HumanMessage\n",
    "from langchain_core.messages import AIMessage, ToolMessage"
   ]
  },
  {
   "cell_type": "code",
   "execution_count": 107,
   "metadata": {},
   "outputs": [],
   "source": [
    "from langchain_openai import ChatOpenAI"
   ]
  },
  {
   "cell_type": "code",
   "execution_count": 108,
   "metadata": {},
   "outputs": [],
   "source": [
    "from langchain_teddynote.graphs import visualize_graph\n",
    "from langchain_teddynote.messages import pretty_print_messages\n",
    "from langchain_teddynote.messages import display_message_tree\n",
    "from langchain_core.runnables import RunnableConfig\n",
    "import json"
   ]
  },
  {
   "cell_type": "code",
   "execution_count": 109,
   "metadata": {},
   "outputs": [],
   "source": [
    "######### 1. 상태 정의 #########\n",
    "\n",
    "# 상태 정의\n",
    "class State(TypedDict):\n",
    "    messages: Annotated[list, add_messages]\n",
    "    dummy_data: Annotated[str, 'dummy']"
   ]
  },
  {
   "cell_type": "code",
   "execution_count": 110,
   "metadata": {},
   "outputs": [],
   "source": [
    "######### 2. 도구 정의 및 바인딩 #########\n",
    "\n",
    "@tool\n",
    "def search_keyword(query: str) -> List[Dict[str, str]]:     # 키워드로 뉴스 검색하는 도구     \n",
    "    \"\"\"Look up news by keyword\"\"\"\n",
    "\n",
    "    news_tool = GoogleNews()        \n",
    "    return news_tool.search_by_keyword(query, k=1)\n",
    "\n",
    "\n",
    "tools = [search_keyword]"
   ]
  },
  {
   "cell_type": "code",
   "execution_count": 111,
   "metadata": {},
   "outputs": [],
   "source": [
    "######### 3. LLM을 도구와 결합 #########\n",
    "\n",
    "llm = ChatOpenAI(\n",
    "    api_key=key, \n",
    "    model_name='gpt-4o-mini',\n",
    "    temperature=0.1\n",
    ")\n",
    "\n",
    "llm_with_tools = llm.bind_tools(tools)"
   ]
  },
  {
   "cell_type": "code",
   "execution_count": 112,
   "metadata": {},
   "outputs": [],
   "source": [
    "def chatbot(state: State):\n",
    "    print('===== chatbot() 함수 시작 =====')\n",
    "    \n",
    "    print(\"[1] chatbot() 으로 넘어온 메시지: \")\n",
    "    print(state)\n",
    "    message_type1 = ''\n",
    "\n",
    "    for msg in state['messages']:\n",
    "        if isinstance(msg, HumanMessage):\n",
    "            message_type1 = message_type1 + '[HumanMessage]'\n",
    "        elif isinstance(msg, AIMessage):\n",
    "            message_type1 = message_type1 + '[AIMessage]'\n",
    "        elif isinstance(msg, ToolMessage):\n",
    "            message_type1 = message_type1 + '[ToolMessage]'\n",
    "        \n",
    "        print(f'메시지 타입: {message_type1}')\n",
    "        print(msg)\n",
    "        print()\n",
    "\n",
    "    print(f\"\\n[2] 메시지 개수 : {len(state['messages'])}\\n\")\n",
    "\n",
    "    answer = llm_with_tools.invoke(state['messages'])\n",
    "\n",
    "    # print(f'[도구 사용 LLM 실행 결과 content]: {answer.content}')\n",
    "    \n",
    "    print('[3] chatbot()에서 실행:')\n",
    "    print('메시지 타입: ', end='')\n",
    "\n",
    "    message_type2 = ''\n",
    "    if isinstance(answer, AIMessage):\n",
    "        message_type2 = message_type2 + '[AIMessage]'\n",
    "    elif isinstance(answer, HumanMessage):\n",
    "        message_type2 = message_type2 + '[HumanMessage]'\n",
    "    elif isinstance(answer, ToolMessage):\n",
    "        message_type2 = message_type2 + '[ToolMessage]'\n",
    "    else:\n",
    "        message_type2 = type(answer)\n",
    "\n",
    "    print(message_type2)\n",
    "    print(answer)\n",
    "    print()\n",
    "\n",
    "    answer_value = {'messages': [answer]}\n",
    "\n",
    "    print(f\"[4] chatbot()에서 실행 후 메시지 개수: {message_type1} {message_type2} {len(state['messages']) + len(answer_value)}\") \n",
    "    print('===== chatbot() 함수  끝 =====')\n",
    "    print()\n",
    "\n",
    "    return answer_value"
   ]
  },
  {
   "cell_type": "code",
   "execution_count": 113,
   "metadata": {},
   "outputs": [],
   "source": [
    "# 상태 그래프 생성\n",
    "graph_builder = StateGraph(State)"
   ]
  },
  {
   "cell_type": "code",
   "execution_count": 114,
   "metadata": {},
   "outputs": [
    {
     "data": {
      "text/plain": [
       "<langgraph.graph.state.StateGraph at 0x245812d2c50>"
      ]
     },
     "execution_count": 114,
     "metadata": {},
     "output_type": "execute_result"
    }
   ],
   "source": [
    "# chatbot 노드 추가\n",
    "graph_builder.add_node('chatbot', chatbot)"
   ]
  },
  {
   "cell_type": "code",
   "execution_count": 115,
   "metadata": {},
   "outputs": [],
   "source": [
    "# 도구 노드 생성\n",
    "tool_node = ToolNode(tools=[search_keyword])"
   ]
  },
  {
   "cell_type": "code",
   "execution_count": 116,
   "metadata": {},
   "outputs": [
    {
     "data": {
      "text/plain": [
       "<langgraph.graph.state.StateGraph at 0x245812d2c50>"
      ]
     },
     "execution_count": 116,
     "metadata": {},
     "output_type": "execute_result"
    }
   ],
   "source": [
    "# 도구 노드 추가\n",
    "graph_builder.add_node('tools', tool_node)"
   ]
  },
  {
   "cell_type": "code",
   "execution_count": 117,
   "metadata": {},
   "outputs": [
    {
     "data": {
      "text/plain": [
       "<langgraph.graph.state.StateGraph at 0x245812d2c50>"
      ]
     },
     "execution_count": 117,
     "metadata": {},
     "output_type": "execute_result"
    }
   ],
   "source": [
    "graph_builder.add_conditional_edges(\n",
    "    'chatbot',\n",
    "    tools_condition\n",
    ")"
   ]
  },
  {
   "cell_type": "code",
   "execution_count": 118,
   "metadata": {},
   "outputs": [
    {
     "data": {
      "text/plain": [
       "<langgraph.graph.state.StateGraph at 0x245812d2c50>"
      ]
     },
     "execution_count": 118,
     "metadata": {},
     "output_type": "execute_result"
    }
   ],
   "source": [
    "######### 5. 엣지 추가 #########\n",
    "\n",
    "# tools 에서 chatbot 으로\n",
    "graph_builder.add_edge('tools', 'chatbot')"
   ]
  },
  {
   "cell_type": "code",
   "execution_count": 119,
   "metadata": {},
   "outputs": [
    {
     "data": {
      "text/plain": [
       "<langgraph.graph.state.StateGraph at 0x245812d2c50>"
      ]
     },
     "execution_count": 119,
     "metadata": {},
     "output_type": "execute_result"
    }
   ],
   "source": [
    "# START 에서 chatbot 으로\n",
    "graph_builder.add_edge(START, 'chatbot')"
   ]
  },
  {
   "cell_type": "code",
   "execution_count": 120,
   "metadata": {},
   "outputs": [
    {
     "data": {
      "text/plain": [
       "<langgraph.graph.state.StateGraph at 0x245812d2c50>"
      ]
     },
     "execution_count": 120,
     "metadata": {},
     "output_type": "execute_result"
    }
   ],
   "source": [
    "# chatbot 에서 END 로\n",
    "graph_builder.add_edge('chatbot', END)"
   ]
  },
  {
   "cell_type": "code",
   "execution_count": 121,
   "metadata": {},
   "outputs": [],
   "source": [
    "######### 6. 메모리 생성 #######\n",
    "\n",
    "from langgraph.checkpoint.memory import MemorySaver\n",
    "\n",
    "memory = MemorySaver()"
   ]
  },
  {
   "cell_type": "code",
   "execution_count": 122,
   "metadata": {},
   "outputs": [],
   "source": [
    "######### 7. 그래프 컴파일 #######\n",
    "\n",
    "graph = graph_builder.compile(checkpointer=memory)"
   ]
  },
  {
   "cell_type": "code",
   "execution_count": 123,
   "metadata": {},
   "outputs": [
    {
     "data": {
      "image/png": "[encoded data removed]",
      "text/plain": [
       "<IPython.core.display.Image object>"
      ]
     },
     "metadata": {},
     "output_type": "display_data"
    }
   ],
   "source": [
    "######### 8. 그래프 #######\n",
    "\n",
    "visualize_graph(graph)"
   ]
  },
  {
   "cell_type": "code",
   "execution_count": 131,
   "metadata": {},
   "outputs": [
    {
     "name": "stdout",
     "output_type": "stream",
     "text": [
      "thread_id: 5428e1\n",
      "\n",
      "========================= 여기서 시작 ====================\n",
      "[event] 바깥 for 시작 (1)\n",
      "\n",
      "실행한 노드 이름: dummy_data\n",
      "해당 노드 값: \n",
      "\n",
      "테스트 문자열\n",
      "실행한 노드 이름: messages\n",
      "해당 노드 값: \n",
      "\n",
      "[HumanMessage(content='연금개혁', additional_kwargs={}, response_metadata={}, id='b39076fa-2f91-47cb-8a9f-ef1ea46b53eb')]\n",
      "바깥 for 끝\n",
      "========================= 여기서 끝 =========================\n",
      "\n",
      "===== chatbot() 함수 시작 =====\n",
      "[1] chatbot() 으로 넘어온 메시지: \n",
      "{'messages': [HumanMessage(content='연금개혁', additional_kwargs={}, response_metadata={}, id='b39076fa-2f91-47cb-8a9f-ef1ea46b53eb')], 'dummy_data': '테스트 문자열'}\n",
      "메시지 타입: [HumanMessage]\n",
      "content='연금개혁' additional_kwargs={} response_metadata={} id='b39076fa-2f91-47cb-8a9f-ef1ea46b53eb'\n",
      "\n",
      "\n",
      "[2] 메시지 개수 : 1\n",
      "\n",
      "[3] chatbot()에서 실행:\n",
      "메시지 타입: [AIMessage]\n",
      "content='' additional_kwargs={'tool_calls': [{'id': 'call_54F4qKFJumfgInMs6LvIIfdJ', 'function': {'arguments': '{\"query\":\"연금개혁\"}', 'name': 'search_keyword'}, 'type': 'function'}], 'refusal': None} response_metadata={'token_usage': {'completion_tokens': 18, 'prompt_tokens': 47, 'total_tokens': 65, 'completion_tokens_details': {'accepted_prediction_tokens': 0, 'audio_tokens': 0, 'reasoning_tokens': 0, 'rejected_prediction_tokens': 0}, 'prompt_tokens_details': {'audio_tokens': 0, 'cached_tokens': 0}}, 'model_name': 'gpt-4o-mini-2024-07-18', 'system_fingerprint': 'fp_b8bc95a0ac', 'finish_reason': 'tool_calls', 'logprobs': None} id='run-26e470c2-8f62-4ff3-8b97-5402a61d46d9-0' tool_calls=[{'name': 'search_keyword', 'args': {'query': '연금개혁'}, 'id': 'call_54F4qKFJumfgInMs6LvIIfdJ', 'type': 'tool_call'}] usage_metadata={'input_tokens': 47, 'output_tokens': 18, 'total_tokens': 65, 'input_token_details': {'audio': 0, 'cache_read': 0}, 'output_token_details': {'audio': 0, 'reasoning': 0}}\n",
      "\n",
      "[4] chatbot()에서 실행 후 메시지 개수: [HumanMessage] [AIMessage] 2\n",
      "===== chatbot() 함수  끝 =====\n",
      "\n",
      "\n",
      "========================= 여기서 시작 ====================\n",
      "[event] 바깥 for 시작 (2)\n",
      "\n",
      "실행한 노드 이름: dummy_data\n",
      "해당 노드 값: \n",
      "\n",
      "테스트 문자열\n",
      "실행한 노드 이름: messages\n",
      "해당 노드 값: \n",
      "\n",
      "[HumanMessage(content='연금개혁', additional_kwargs={}, response_metadata={}, id='b39076fa-2f91-47cb-8a9f-ef1ea46b53eb'), AIMessage(content='', additional_kwargs={'tool_calls': [{'id': 'call_54F4qKFJumfgInMs6LvIIfdJ', 'function': {'arguments': '{\"query\":\"연금개혁\"}', 'name': 'search_keyword'}, 'type': 'function'}], 'refusal': None}, response_metadata={'token_usage': {'completion_tokens': 18, 'prompt_tokens': 47, 'total_tokens': 65, 'completion_tokens_details': {'accepted_prediction_tokens': 0, 'audio_tokens': 0, 'reasoning_tokens': 0, 'rejected_prediction_tokens': 0}, 'prompt_tokens_details': {'audio_tokens': 0, 'cached_tokens': 0}}, 'model_name': 'gpt-4o-mini-2024-07-18', 'system_fingerprint': 'fp_b8bc95a0ac', 'finish_reason': 'tool_calls', 'logprobs': None}, id='run-26e470c2-8f62-4ff3-8b97-5402a61d46d9-0', tool_calls=[{'name': 'search_keyword', 'args': {'query': '연금개혁'}, 'id': 'call_54F4qKFJumfgInMs6LvIIfdJ', 'type': 'tool_call'}], usage_metadata={'input_tokens': 47, 'output_tokens': 18, 'total_tokens': 65, 'input_token_details': {'audio': 0, 'cache_read': 0}, 'output_token_details': {'audio': 0, 'reasoning': 0}})]\n",
      "바깥 for 끝\n",
      "========================= 여기서 끝 =========================\n",
      "\n",
      "\n",
      "========================= 여기서 시작 ====================\n",
      "[event] 바깥 for 시작 (3)\n",
      "\n",
      "실행한 노드 이름: dummy_data\n",
      "해당 노드 값: \n",
      "\n",
      "테스트 문자열\n",
      "실행한 노드 이름: messages\n",
      "해당 노드 값: \n",
      "\n",
      "[HumanMessage(content='연금개혁', additional_kwargs={}, response_metadata={}, id='b39076fa-2f91-47cb-8a9f-ef1ea46b53eb'), AIMessage(content='', additional_kwargs={'tool_calls': [{'id': 'call_54F4qKFJumfgInMs6LvIIfdJ', 'function': {'arguments': '{\"query\":\"연금개혁\"}', 'name': 'search_keyword'}, 'type': 'function'}], 'refusal': None}, response_metadata={'token_usage': {'completion_tokens': 18, 'prompt_tokens': 47, 'total_tokens': 65, 'completion_tokens_details': {'accepted_prediction_tokens': 0, 'audio_tokens': 0, 'reasoning_tokens': 0, 'rejected_prediction_tokens': 0}, 'prompt_tokens_details': {'audio_tokens': 0, 'cached_tokens': 0}}, 'model_name': 'gpt-4o-mini-2024-07-18', 'system_fingerprint': 'fp_b8bc95a0ac', 'finish_reason': 'tool_calls', 'logprobs': None}, id='run-26e470c2-8f62-4ff3-8b97-5402a61d46d9-0', tool_calls=[{'name': 'search_keyword', 'args': {'query': '연금개혁'}, 'id': 'call_54F4qKFJumfgInMs6LvIIfdJ', 'type': 'tool_call'}], usage_metadata={'input_tokens': 47, 'output_tokens': 18, 'total_tokens': 65, 'input_token_details': {'audio': 0, 'cache_read': 0}, 'output_token_details': {'audio': 0, 'reasoning': 0}}), ToolMessage(content='[{\"url\": \"https://news.google.com/rss/articles/CBMiekFVX3lxTE5zTzdyeU0xRHVVSWJWbFBYNlo4dzZfUEtZZXYwemNKenh5N1BWTFVpdFBHNk9BTUwxbVVORktRUm9uTVBlS21nRHc5NW1xaDBoZzhwbVU5OEU3aHpOdlJ1a2Nham12UVRzY3E2eHpIWjZtODJBLUpTYU1n0gF6QVVfeXFMTXg3R1hsN3FkdzZJQmVyVGRBdURHUmdzYjlXT18wRVowMDJSbWVKQTl6X0lfeWlXZUVWR0NKTkRDU2tfSzE3SzRvc3lRTVprRDZfTUNUUTVhdTc3YkpxLVVZdUhNWU1RU2Rkdkh2aXg5Vl9kZ3d5WElWR1E?oc=5\", \"content\": \"더 내고 더 받는다‥국민연금 개혁안 합의 통과 - MBC 뉴스\"}]', name='search_keyword', id='44b43f66-9f81-4ad2-bcef-426550856cf4', tool_call_id='call_54F4qKFJumfgInMs6LvIIfdJ')]\n",
      "바깥 for 끝\n",
      "========================= 여기서 끝 =========================\n",
      "\n",
      "===== chatbot() 함수 시작 =====\n",
      "[1] chatbot() 으로 넘어온 메시지: \n",
      "{'messages': [HumanMessage(content='연금개혁', additional_kwargs={}, response_metadata={}, id='b39076fa-2f91-47cb-8a9f-ef1ea46b53eb'), AIMessage(content='', additional_kwargs={'tool_calls': [{'id': 'call_54F4qKFJumfgInMs6LvIIfdJ', 'function': {'arguments': '{\"query\":\"연금개혁\"}', 'name': 'search_keyword'}, 'type': 'function'}], 'refusal': None}, response_metadata={'token_usage': {'completion_tokens': 18, 'prompt_tokens': 47, 'total_tokens': 65, 'completion_tokens_details': {'accepted_prediction_tokens': 0, 'audio_tokens': 0, 'reasoning_tokens': 0, 'rejected_prediction_tokens': 0}, 'prompt_tokens_details': {'audio_tokens': 0, 'cached_tokens': 0}}, 'model_name': 'gpt-4o-mini-2024-07-18', 'system_fingerprint': 'fp_b8bc95a0ac', 'finish_reason': 'tool_calls', 'logprobs': None}, id='run-26e470c2-8f62-4ff3-8b97-5402a61d46d9-0', tool_calls=[{'name': 'search_keyword', 'args': {'query': '연금개혁'}, 'id': 'call_54F4qKFJumfgInMs6LvIIfdJ', 'type': 'tool_call'}], usage_metadata={'input_tokens': 47, 'output_tokens': 18, 'total_tokens': 65, 'input_token_details': {'audio': 0, 'cache_read': 0}, 'output_token_details': {'audio': 0, 'reasoning': 0}}), ToolMessage(content='[{\"url\": \"https://news.google.com/rss/articles/CBMiekFVX3lxTE5zTzdyeU0xRHVVSWJWbFBYNlo4dzZfUEtZZXYwemNKenh5N1BWTFVpdFBHNk9BTUwxbVVORktRUm9uTVBlS21nRHc5NW1xaDBoZzhwbVU5OEU3aHpOdlJ1a2Nham12UVRzY3E2eHpIWjZtODJBLUpTYU1n0gF6QVVfeXFMTXg3R1hsN3FkdzZJQmVyVGRBdURHUmdzYjlXT18wRVowMDJSbWVKQTl6X0lfeWlXZUVWR0NKTkRDU2tfSzE3SzRvc3lRTVprRDZfTUNUUTVhdTc3YkpxLVVZdUhNWU1RU2Rkdkh2aXg5Vl9kZ3d5WElWR1E?oc=5\", \"content\": \"더 내고 더 받는다‥국민연금 개혁안 합의 통과 - MBC 뉴스\"}]', name='search_keyword', id='44b43f66-9f81-4ad2-bcef-426550856cf4', tool_call_id='call_54F4qKFJumfgInMs6LvIIfdJ')], 'dummy_data': '테스트 문자열'}\n",
      "메시지 타입: [HumanMessage]\n",
      "content='연금개혁' additional_kwargs={} response_metadata={} id='b39076fa-2f91-47cb-8a9f-ef1ea46b53eb'\n",
      "\n",
      "메시지 타입: [HumanMessage][AIMessage]\n",
      "content='' additional_kwargs={'tool_calls': [{'id': 'call_54F4qKFJumfgInMs6LvIIfdJ', 'function': {'arguments': '{\"query\":\"연금개혁\"}', 'name': 'search_keyword'}, 'type': 'function'}], 'refusal': None} response_metadata={'token_usage': {'completion_tokens': 18, 'prompt_tokens': 47, 'total_tokens': 65, 'completion_tokens_details': {'accepted_prediction_tokens': 0, 'audio_tokens': 0, 'reasoning_tokens': 0, 'rejected_prediction_tokens': 0}, 'prompt_tokens_details': {'audio_tokens': 0, 'cached_tokens': 0}}, 'model_name': 'gpt-4o-mini-2024-07-18', 'system_fingerprint': 'fp_b8bc95a0ac', 'finish_reason': 'tool_calls', 'logprobs': None} id='run-26e470c2-8f62-4ff3-8b97-5402a61d46d9-0' tool_calls=[{'name': 'search_keyword', 'args': {'query': '연금개혁'}, 'id': 'call_54F4qKFJumfgInMs6LvIIfdJ', 'type': 'tool_call'}] usage_metadata={'input_tokens': 47, 'output_tokens': 18, 'total_tokens': 65, 'input_token_details': {'audio': 0, 'cache_read': 0}, 'output_token_details': {'audio': 0, 'reasoning': 0}}\n",
      "\n",
      "메시지 타입: [HumanMessage][AIMessage][ToolMessage]\n",
      "content='[{\"url\": \"https://news.google.com/rss/articles/CBMiekFVX3lxTE5zTzdyeU0xRHVVSWJWbFBYNlo4dzZfUEtZZXYwemNKenh5N1BWTFVpdFBHNk9BTUwxbVVORktRUm9uTVBlS21nRHc5NW1xaDBoZzhwbVU5OEU3aHpOdlJ1a2Nham12UVRzY3E2eHpIWjZtODJBLUpTYU1n0gF6QVVfeXFMTXg3R1hsN3FkdzZJQmVyVGRBdURHUmdzYjlXT18wRVowMDJSbWVKQTl6X0lfeWlXZUVWR0NKTkRDU2tfSzE3SzRvc3lRTVprRDZfTUNUUTVhdTc3YkpxLVVZdUhNWU1RU2Rkdkh2aXg5Vl9kZ3d5WElWR1E?oc=5\", \"content\": \"더 내고 더 받는다‥국민연금 개혁안 합의 통과 - MBC 뉴스\"}]' name='search_keyword' id='44b43f66-9f81-4ad2-bcef-426550856cf4' tool_call_id='call_54F4qKFJumfgInMs6LvIIfdJ'\n",
      "\n",
      "\n",
      "[2] 메시지 개수 : 3\n",
      "\n",
      "[3] chatbot()에서 실행:\n",
      "메시지 타입: [AIMessage]\n",
      "content='최근 연금개혁에 대한 뉴스가 보도되었습니다. MBC 뉴스에 따르면, \"더 내고 더 받는다‥국민연금 개혁안 합의 통과\"라는 제목의 기사가 있습니다. 자세한 내용은 [여기에서 확인하실 수 있습니다](https://news.google.com/rss/articles/CBMiekFVX3lxTE5zTzdyeU0xRHVVSWJWbFBYNlo4dzZfUEtZZXYwemNKenh5N1BWTFVpdFBHNk9BTUwxbVVORktRUm9uTVBlS21nRHc5NW1xaDBoZzhwbVU5OEU3aHpOdlJ1a2Nham12UVRzY3E2eHpIWjZtODJBLUpTYU1n0gF6QVVfeXFMTXg3R1hsN3FkdzZJQmVyVGRBdURHUmdzYjlXT18wRVowMDJSbWVKQTl6X0lfeWlXZUVWR0NKTkRDU2tfSzE3SzRvc3lRTVprRDZfTUNUUTVhdTc3YkpxLVVZdUhNWU1RU2Rkdkh2aXg5Vl9kZ3d5WElWR1E?oc=5).' additional_kwargs={'refusal': None} response_metadata={'token_usage': {'completion_tokens': 305, 'prompt_tokens': 348, 'total_tokens': 653, 'completion_tokens_details': {'accepted_prediction_tokens': 0, 'audio_tokens': 0, 'reasoning_tokens': 0, 'rejected_prediction_tokens': 0}, 'prompt_tokens_details': {'audio_tokens': 0, 'cached_tokens': 0}}, 'model_name': 'gpt-4o-mini-2024-07-18', 'system_fingerprint': 'fp_b8bc95a0ac', 'finish_reason': 'stop', 'logprobs': None} id='run-bdc88663-368d-45c2-8b7c-5cb42c59a8f7-0' usage_metadata={'input_tokens': 348, 'output_tokens': 305, 'total_tokens': 653, 'input_token_details': {'audio': 0, 'cache_read': 0}, 'output_token_details': {'audio': 0, 'reasoning': 0}}\n",
      "\n",
      "[4] chatbot()에서 실행 후 메시지 개수: [HumanMessage][AIMessage][ToolMessage] [AIMessage] 4\n",
      "===== chatbot() 함수  끝 =====\n",
      "\n",
      "\n",
      "========================= 여기서 시작 ====================\n",
      "[event] 바깥 for 시작 (4)\n",
      "\n",
      "실행한 노드 이름: dummy_data\n",
      "해당 노드 값: \n",
      "\n",
      "테스트 문자열\n",
      "실행한 노드 이름: messages\n",
      "해당 노드 값: \n",
      "\n",
      "[HumanMessage(content='연금개혁', additional_kwargs={}, response_metadata={}, id='b39076fa-2f91-47cb-8a9f-ef1ea46b53eb'), AIMessage(content='', additional_kwargs={'tool_calls': [{'id': 'call_54F4qKFJumfgInMs6LvIIfdJ', 'function': {'arguments': '{\"query\":\"연금개혁\"}', 'name': 'search_keyword'}, 'type': 'function'}], 'refusal': None}, response_metadata={'token_usage': {'completion_tokens': 18, 'prompt_tokens': 47, 'total_tokens': 65, 'completion_tokens_details': {'accepted_prediction_tokens': 0, 'audio_tokens': 0, 'reasoning_tokens': 0, 'rejected_prediction_tokens': 0}, 'prompt_tokens_details': {'audio_tokens': 0, 'cached_tokens': 0}}, 'model_name': 'gpt-4o-mini-2024-07-18', 'system_fingerprint': 'fp_b8bc95a0ac', 'finish_reason': 'tool_calls', 'logprobs': None}, id='run-26e470c2-8f62-4ff3-8b97-5402a61d46d9-0', tool_calls=[{'name': 'search_keyword', 'args': {'query': '연금개혁'}, 'id': 'call_54F4qKFJumfgInMs6LvIIfdJ', 'type': 'tool_call'}], usage_metadata={'input_tokens': 47, 'output_tokens': 18, 'total_tokens': 65, 'input_token_details': {'audio': 0, 'cache_read': 0}, 'output_token_details': {'audio': 0, 'reasoning': 0}}), ToolMessage(content='[{\"url\": \"https://news.google.com/rss/articles/CBMiekFVX3lxTE5zTzdyeU0xRHVVSWJWbFBYNlo4dzZfUEtZZXYwemNKenh5N1BWTFVpdFBHNk9BTUwxbVVORktRUm9uTVBlS21nRHc5NW1xaDBoZzhwbVU5OEU3aHpOdlJ1a2Nham12UVRzY3E2eHpIWjZtODJBLUpTYU1n0gF6QVVfeXFMTXg3R1hsN3FkdzZJQmVyVGRBdURHUmdzYjlXT18wRVowMDJSbWVKQTl6X0lfeWlXZUVWR0NKTkRDU2tfSzE3SzRvc3lRTVprRDZfTUNUUTVhdTc3YkpxLVVZdUhNWU1RU2Rkdkh2aXg5Vl9kZ3d5WElWR1E?oc=5\", \"content\": \"더 내고 더 받는다‥국민연금 개혁안 합의 통과 - MBC 뉴스\"}]', name='search_keyword', id='44b43f66-9f81-4ad2-bcef-426550856cf4', tool_call_id='call_54F4qKFJumfgInMs6LvIIfdJ'), AIMessage(content='최근 연금개혁에 대한 뉴스가 보도되었습니다. MBC 뉴스에 따르면, \"더 내고 더 받는다‥국민연금 개혁안 합의 통과\"라는 제목의 기사가 있습니다. 자세한 내용은 [여기에서 확인하실 수 있습니다](https://news.google.com/rss/articles/CBMiekFVX3lxTE5zTzdyeU0xRHVVSWJWbFBYNlo4dzZfUEtZZXYwemNKenh5N1BWTFVpdFBHNk9BTUwxbVVORktRUm9uTVBlS21nRHc5NW1xaDBoZzhwbVU5OEU3aHpOdlJ1a2Nham12UVRzY3E2eHpIWjZtODJBLUpTYU1n0gF6QVVfeXFMTXg3R1hsN3FkdzZJQmVyVGRBdURHUmdzYjlXT18wRVowMDJSbWVKQTl6X0lfeWlXZUVWR0NKTkRDU2tfSzE3SzRvc3lRTVprRDZfTUNUUTVhdTc3YkpxLVVZdUhNWU1RU2Rkdkh2aXg5Vl9kZ3d5WElWR1E?oc=5).', additional_kwargs={'refusal': None}, response_metadata={'token_usage': {'completion_tokens': 305, 'prompt_tokens': 348, 'total_tokens': 653, 'completion_tokens_details': {'accepted_prediction_tokens': 0, 'audio_tokens': 0, 'reasoning_tokens': 0, 'rejected_prediction_tokens': 0}, 'prompt_tokens_details': {'audio_tokens': 0, 'cached_tokens': 0}}, 'model_name': 'gpt-4o-mini-2024-07-18', 'system_fingerprint': 'fp_b8bc95a0ac', 'finish_reason': 'stop', 'logprobs': None}, id='run-bdc88663-368d-45c2-8b7c-5cb42c59a8f7-0', usage_metadata={'input_tokens': 348, 'output_tokens': 305, 'total_tokens': 653, 'input_token_details': {'audio': 0, 'cache_read': 0}, 'output_token_details': {'audio': 0, 'reasoning': 0}})]\n",
      "바깥 for 끝\n",
      "========================= 여기서 끝 =========================\n",
      "\n",
      "전체 반복문 4번 실행\n"
     ]
    }
   ],
   "source": [
    "from langchain_teddynote.graphs import generate_random_hash\n",
    "from langchain_core.runnables import RunnableConfig\n",
    "\n",
    "thread_id = generate_random_hash()\n",
    "print(f\"thread_id: {thread_id}\")\n",
    "\n",
    "config = RunnableConfig(\n",
    "    recursion_limit=10, \n",
    "    configurable={'thread_id': thread_id},\n",
    "    tags=['data-tag']\n",
    ")\n",
    "\n",
    "question = '연금개혁'\n",
    "\n",
    "input = State(\n",
    "    dummy_data='테스트 문자열' ,\n",
    "    messages=[('user', question)]\n",
    ")\n",
    "\n",
    "\n",
    "i = 1\n",
    "\n",
    "for event in graph.stream(input=input, config=config, output_keys=[\"dummy_data\", 'messages'], stream_mode='values'):\n",
    "    print()\n",
    "    print('========================= 여기서 시작 ====================')\n",
    "    print(f'[event] 바깥 for 시작 ({i})')\n",
    "    print()\n",
    "\n",
    "    for k, value in event.items():\n",
    "        print(f'실행한 노드 이름: {k}')\n",
    "        print(f'해당 노드 값: \\n')\n",
    "        print(value)\n",
    "        \n",
    "        if value and \"dummy_data\" in value:\n",
    "            print('더미 데이터: ')\n",
    "            print(value[\"dummy_data\"])\n",
    "        \n",
    "        if value and 'messages' in value:\n",
    "            if isinstance(value['messages'][-1], HumanMessage):\n",
    "                print('==================== HumanMessage ========================')\n",
    "                print(f\"[해당 노드 값] content: {value['messages'][-1].content}\")\n",
    "                print('==================== END HumanMessage ====================')            \n",
    "            elif isinstance(value['messages'][-1], AIMessage):\n",
    "                print('==================== AIMessage ========================')\n",
    "                print(f\"[해당 노드 값] content: {value['messages'][-1].content}\")\n",
    "\n",
    "                if hasattr(value['messages'][-1], 'tool_calls') and len(value['messages'][-1].tool_calls) > 0:\n",
    "                    print('tool call 있음')\n",
    "                    tool_result = value['messages'][-1].tool_calls\n",
    "                    print(f\"도구 이름 : {tool_result[0]['name']}\")\n",
    "                    print(f\"도구 인자: {tool_result[0]['args']}\")            \n",
    "                else:\n",
    "                    print('tool call 없음')                \n",
    "                print('==================== END AIMessage ====================')\n",
    "            elif isinstance(value['messages'][-1], ToolMessage):\n",
    "                print('==================== ToolMessage ========================')\n",
    "                print(f\"[해당 노드 값] 도구 도구 이름 : {value['messages'][-1].name}\")\n",
    "\n",
    "                content = json.loads(value['messages'][-1].content)\n",
    "\n",
    "                if content and isinstance(content, list) and len(content) > 0:                \n",
    "                    print(f\"[해당 노드 값] 제목: {content[0].get('title', 'No title')}\")\n",
    "                    print(f\"[해당 노드 값] URL: {content[0].get('url', 'No URL')}\")\n",
    "                    print(f\"[해당 노드 값] 내용: {content[0].get('content', 'No URL')}\")                \n",
    "                else:\n",
    "                    print(\"No content or invalid content format in ToolMessage\")\n",
    "\n",
    "                print('==================== END ToolMessage ====================')\n",
    "\n",
    "\n",
    "    i=i+1\n",
    "\n",
    "    print('바깥 for 끝')\n",
    "    print('========================= 여기서 끝 =========================') \n",
    "    print()\n",
    "\n",
    "print(f'전체 반복문 {i-1}번 실행')  "
   ]
  },
  {
   "cell_type": "code",
   "execution_count": 132,
   "metadata": {},
   "outputs": [
    {
     "name": "stdout",
     "output_type": "stream",
     "text": [
      "thread_id: ffccda\n",
      "===== chatbot() 함수 시작 =====\n",
      "[1] chatbot() 으로 넘어온 메시지: \n",
      "{'messages': [HumanMessage(content='2024년 노벨 문학상 관련 뉴스를 알려주세요.', additional_kwargs={}, response_metadata={}, id='105a8cbb-16c9-45c1-b092-497701dc5ad7')], 'dummy_data': '테스트 문자열'}\n",
      "메시지 타입: [HumanMessage]\n",
      "content='2024년 노벨 문학상 관련 뉴스를 알려주세요.' additional_kwargs={} response_metadata={} id='105a8cbb-16c9-45c1-b092-497701dc5ad7'\n",
      "\n",
      "\n",
      "[2] 메시지 개수 : 1\n",
      "\n",
      "[3] chatbot()에서 실행:\n",
      "메시지 타입: [AIMessage]\n",
      "content='' additional_kwargs={'tool_calls': [{'id': 'call_RxjsfWrZtfLhDN9LkRMDbtXA', 'function': {'arguments': '{\"query\":\"2024 Nobel Prize in Literature\"}', 'name': 'search_keyword'}, 'type': 'function'}], 'refusal': None} response_metadata={'token_usage': {'completion_tokens': 20, 'prompt_tokens': 57, 'total_tokens': 77, 'completion_tokens_details': {'accepted_prediction_tokens': 0, 'audio_tokens': 0, 'reasoning_tokens': 0, 'rejected_prediction_tokens': 0}, 'prompt_tokens_details': {'audio_tokens': 0, 'cached_tokens': 0}}, 'model_name': 'gpt-4o-mini-2024-07-18', 'system_fingerprint': 'fp_b8bc95a0ac', 'finish_reason': 'tool_calls', 'logprobs': None} id='run-ecc125a6-95d7-4a12-a1f5-0f0588c71ad8-0' tool_calls=[{'name': 'search_keyword', 'args': {'query': '2024 Nobel Prize in Literature'}, 'id': 'call_RxjsfWrZtfLhDN9LkRMDbtXA', 'type': 'tool_call'}] usage_metadata={'input_tokens': 57, 'output_tokens': 20, 'total_tokens': 77, 'input_token_details': {'audio': 0, 'cache_read': 0}, 'output_token_details': {'audio': 0, 'reasoning': 0}}\n",
      "\n",
      "[4] chatbot()에서 실행 후 메시지 개수: [HumanMessage] [AIMessage] 2\n",
      "===== chatbot() 함수  끝 =====\n",
      "\n",
      "\n",
      "chatbot\n",
      "\n",
      "==================================\u001b[1m Ai Message \u001b[0m==================================\n",
      "Tool Calls:\n",
      "  search_keyword (call_RxjsfWrZtfLhDN9LkRMDbtXA)\n",
      " Call ID: call_RxjsfWrZtfLhDN9LkRMDbtXA\n",
      "  Args:\n",
      "    query: 2024 Nobel Prize in Literature\n",
      "\n",
      "tools\n",
      "\n",
      "=================================\u001b[1m Tool Message \u001b[0m=================================\n",
      "Name: search_keyword\n",
      "\n",
      "[{\"url\": \"https://news.google.com/rss/articles/CBMiigFBVV95cUxNblM5bndNclA5Q0J2RW9NZ09XRTdyZ0ZhZ3diZUpodEU2WlhaVzFVZ3doZjI1ZEF6dGF5SnVQUVdCdF9tNUJnWjZ1LV8xTlNqT01xZmFaQ2NNNVdkM1RtR0ZCb0tDUzVZQk5oLVp1d1dpX2x2V2g4R3dKV0V3NVNvclRNa3VOSjIxWWc?oc=5\", \"content\": \"Nobel Prize in Literature 2024 - NobelPrize.org\"}]\n",
      "===== chatbot() 함수 시작 =====\n",
      "[1] chatbot() 으로 넘어온 메시지: \n",
      "{'messages': [HumanMessage(content='2024년 노벨 문학상 관련 뉴스를 알려주세요.', additional_kwargs={}, response_metadata={}, id='105a8cbb-16c9-45c1-b092-497701dc5ad7'), AIMessage(content='', additional_kwargs={'tool_calls': [{'id': 'call_RxjsfWrZtfLhDN9LkRMDbtXA', 'function': {'arguments': '{\"query\":\"2024 Nobel Prize in Literature\"}', 'name': 'search_keyword'}, 'type': 'function'}], 'refusal': None}, response_metadata={'token_usage': {'completion_tokens': 20, 'prompt_tokens': 57, 'total_tokens': 77, 'completion_tokens_details': {'accepted_prediction_tokens': 0, 'audio_tokens': 0, 'reasoning_tokens': 0, 'rejected_prediction_tokens': 0}, 'prompt_tokens_details': {'audio_tokens': 0, 'cached_tokens': 0}}, 'model_name': 'gpt-4o-mini-2024-07-18', 'system_fingerprint': 'fp_b8bc95a0ac', 'finish_reason': 'tool_calls', 'logprobs': None}, id='run-ecc125a6-95d7-4a12-a1f5-0f0588c71ad8-0', tool_calls=[{'name': 'search_keyword', 'args': {'query': '2024 Nobel Prize in Literature'}, 'id': 'call_RxjsfWrZtfLhDN9LkRMDbtXA', 'type': 'tool_call'}], usage_metadata={'input_tokens': 57, 'output_tokens': 20, 'total_tokens': 77, 'input_token_details': {'audio': 0, 'cache_read': 0}, 'output_token_details': {'audio': 0, 'reasoning': 0}}), ToolMessage(content='[{\"url\": \"https://news.google.com/rss/articles/CBMiigFBVV95cUxNblM5bndNclA5Q0J2RW9NZ09XRTdyZ0ZhZ3diZUpodEU2WlhaVzFVZ3doZjI1ZEF6dGF5SnVQUVdCdF9tNUJnWjZ1LV8xTlNqT01xZmFaQ2NNNVdkM1RtR0ZCb0tDUzVZQk5oLVp1d1dpX2x2V2g4R3dKV0V3NVNvclRNa3VOSjIxWWc?oc=5\", \"content\": \"Nobel Prize in Literature 2024 - NobelPrize.org\"}]', name='search_keyword', id='ccf1caf3-250f-4167-ac9c-776a05efcbdd', tool_call_id='call_RxjsfWrZtfLhDN9LkRMDbtXA')], 'dummy_data': '테스트 문자열'}\n",
      "메시지 타입: [HumanMessage]\n",
      "content='2024년 노벨 문학상 관련 뉴스를 알려주세요.' additional_kwargs={} response_metadata={} id='105a8cbb-16c9-45c1-b092-497701dc5ad7'\n",
      "\n",
      "메시지 타입: [HumanMessage][AIMessage]\n",
      "content='' additional_kwargs={'tool_calls': [{'id': 'call_RxjsfWrZtfLhDN9LkRMDbtXA', 'function': {'arguments': '{\"query\":\"2024 Nobel Prize in Literature\"}', 'name': 'search_keyword'}, 'type': 'function'}], 'refusal': None} response_metadata={'token_usage': {'completion_tokens': 20, 'prompt_tokens': 57, 'total_tokens': 77, 'completion_tokens_details': {'accepted_prediction_tokens': 0, 'audio_tokens': 0, 'reasoning_tokens': 0, 'rejected_prediction_tokens': 0}, 'prompt_tokens_details': {'audio_tokens': 0, 'cached_tokens': 0}}, 'model_name': 'gpt-4o-mini-2024-07-18', 'system_fingerprint': 'fp_b8bc95a0ac', 'finish_reason': 'tool_calls', 'logprobs': None} id='run-ecc125a6-95d7-4a12-a1f5-0f0588c71ad8-0' tool_calls=[{'name': 'search_keyword', 'args': {'query': '2024 Nobel Prize in Literature'}, 'id': 'call_RxjsfWrZtfLhDN9LkRMDbtXA', 'type': 'tool_call'}] usage_metadata={'input_tokens': 57, 'output_tokens': 20, 'total_tokens': 77, 'input_token_details': {'audio': 0, 'cache_read': 0}, 'output_token_details': {'audio': 0, 'reasoning': 0}}\n",
      "\n",
      "메시지 타입: [HumanMessage][AIMessage][ToolMessage]\n",
      "content='[{\"url\": \"https://news.google.com/rss/articles/CBMiigFBVV95cUxNblM5bndNclA5Q0J2RW9NZ09XRTdyZ0ZhZ3diZUpodEU2WlhaVzFVZ3doZjI1ZEF6dGF5SnVQUVdCdF9tNUJnWjZ1LV8xTlNqT01xZmFaQ2NNNVdkM1RtR0ZCb0tDUzVZQk5oLVp1d1dpX2x2V2g4R3dKV0V3NVNvclRNa3VOSjIxWWc?oc=5\", \"content\": \"Nobel Prize in Literature 2024 - NobelPrize.org\"}]' name='search_keyword' id='ccf1caf3-250f-4167-ac9c-776a05efcbdd' tool_call_id='call_RxjsfWrZtfLhDN9LkRMDbtXA'\n",
      "\n",
      "\n",
      "[2] 메시지 개수 : 3\n",
      "\n",
      "[3] chatbot()에서 실행:\n",
      "메시지 타입: [AIMessage]\n",
      "content='2024년 노벨 문학상에 대한 뉴스는 다음 링크에서 확인하실 수 있습니다: [Nobel Prize in Literature 2024 - NobelPrize.org](https://news.google.com/rss/articles/CBMiigFBVV95cUxNblM5bndNclA5Q0J2RW9NZ09XRTdyZ0ZhZ3diZUpodEU2WlhaVzFVZ3doZjI1ZEF6dGF5SnVQUVdCdF9tNUJnWjZ1LV8xTlNqT01xZmFaQ2NNNVdkM1RtR0ZCb0tDUzVZQk5oLVp1d1dpX2x2V2g4R3dKV0V3NVNvclRNa3VOSjIxWWc?oc=5) \\n\\n이 링크를 통해 2024년 노벨 문학상에 대한 자세한 정보를 확인하실 수 있습니다.' additional_kwargs={'refusal': None} response_metadata={'token_usage': {'completion_tokens': 212, 'prompt_tokens': 257, 'total_tokens': 469, 'completion_tokens_details': {'accepted_prediction_tokens': 0, 'audio_tokens': 0, 'reasoning_tokens': 0, 'rejected_prediction_tokens': 0}, 'prompt_tokens_details': {'audio_tokens': 0, 'cached_tokens': 0}}, 'model_name': 'gpt-4o-mini-2024-07-18', 'system_fingerprint': 'fp_b8bc95a0ac', 'finish_reason': 'stop', 'logprobs': None} id='run-be488bb3-d5de-4357-8492-b6304a5677f5-0' usage_metadata={'input_tokens': 257, 'output_tokens': 212, 'total_tokens': 469, 'input_token_details': {'audio': 0, 'cache_read': 0}, 'output_token_details': {'audio': 0, 'reasoning': 0}}\n",
      "\n",
      "[4] chatbot()에서 실행 후 메시지 개수: [HumanMessage][AIMessage][ToolMessage] [AIMessage] 4\n",
      "===== chatbot() 함수  끝 =====\n",
      "\n",
      "\n",
      "chatbot\n",
      "\n",
      "==================================\u001b[1m Ai Message \u001b[0m==================================\n",
      "\n",
      "2024년 노벨 문학상에 대한 뉴스는 다음 링크에서 확인하실 수 있습니다: [Nobel Prize in Literature 2024 - NobelPrize.org](https://news.google.com/rss/articles/CBMiigFBVV95cUxNblM5bndNclA5Q0J2RW9NZ09XRTdyZ0ZhZ3diZUpodEU2WlhaVzFVZ3doZjI1ZEF6dGF5SnVQUVdCdF9tNUJnWjZ1LV8xTlNqT01xZmFaQ2NNNVdkM1RtR0ZCb0tDUzVZQk5oLVp1d1dpX2x2V2g4R3dKV0V3NVNvclRNa3VOSjIxWWc?oc=5) \n",
      "\n",
      "이 링크를 통해 2024년 노벨 문학상에 대한 자세한 정보를 확인하실 수 있습니다.\n"
     ]
    }
   ],
   "source": [
    "from langchain_teddynote.graphs import generate_random_hash\n",
    "from langchain_core.runnables import RunnableConfig\n",
    "\n",
    "thread_id = generate_random_hash()\n",
    "print(f\"thread_id: {thread_id}\")\n",
    "\n",
    "config = RunnableConfig(\n",
    "    recursion_limit=10, \n",
    "    configurable={'thread_id': thread_id},\n",
    "    tags=['data-tag']\n",
    ")\n",
    "\n",
    "question = '2024년 노벨 문학상 관련 뉴스를 알려주세요.'\n",
    "\n",
    "input = State(\n",
    "    dummy_data='테스트 문자열' ,\n",
    "    messages=[('user', question)]\n",
    ")\n",
    "\n",
    "for event in graph.stream(input=input, config=config):      # 모드에 따라 event가 딕셔너리 또는 리스트. 기본 모드는 evenv가 딕셔서리 이다.\n",
    "    for key, value in event.items():\n",
    "        print(f'\\n{key}\\n')                                 # key 에는 노드의 이름\n",
    "\n",
    "        if 'messages' in value:                             # value에는 해당 노드의 값\n",
    "            message = value['messages']\n",
    "            value['messages'][-1].pretty_print()"
   ]
  },
  {
   "cell_type": "code",
   "execution_count": 133,
   "metadata": {},
   "outputs": [
    {
     "data": {
      "text/plain": [
       "['messages',\n",
       " 'dummy_data',\n",
       " '__start__',\n",
       " 'chatbot',\n",
       " 'tools',\n",
       " 'branch:__start__:__self__:chatbot',\n",
       " 'branch:__start__:__self__:tools',\n",
       " 'branch:chatbot:__self__:chatbot',\n",
       " 'branch:chatbot:__self__:tools',\n",
       " 'branch:tools:__self__:chatbot',\n",
       " 'branch:tools:__self__:tools',\n",
       " 'start:chatbot',\n",
       " 'branch:chatbot:tools_condition:tools']"
      ]
     },
     "execution_count": 133,
     "metadata": {},
     "output_type": "execute_result"
    }
   ],
   "source": [
    "list(graph.channels.keys())"
   ]
  },
  {
   "cell_type": "code",
   "execution_count": null,
   "metadata": {},
   "outputs": [
    {
     "name": "stdout",
     "output_type": "stream",
     "text": [
      "thread_id: 741fde\n",
      "===== chatbot() 함수 시작 =====\n",
      "[1] chatbot() 으로 넘어온 메시지: \n",
      "{'messages': [HumanMessage(content='연금개혁', additional_kwargs={}, response_metadata={}, id='323cebe0-a190-4279-9110-d3114beb257d')], 'dummy_data': '테스트 문자열'}\n",
      "메시지 타입: [HumanMessage]\n",
      "content='연금개혁' additional_kwargs={} response_metadata={} id='323cebe0-a190-4279-9110-d3114beb257d'\n",
      "\n",
      "\n",
      "[2] 메시지 개수 : 1\n",
      "\n",
      "[3] chatbot()에서 실행:\n",
      "메시지 타입: [AIMessage]\n",
      "content='' additional_kwargs={'tool_calls': [{'id': 'call_ZWL1oioga77JdJWcnWMCEvWX', 'function': {'arguments': '{\"query\":\"연금개혁\"}', 'name': 'search_keyword'}, 'type': 'function'}], 'refusal': None} response_metadata={'token_usage': {'completion_tokens': 18, 'prompt_tokens': 47, 'total_tokens': 65, 'completion_tokens_details': {'accepted_prediction_tokens': 0, 'audio_tokens': 0, 'reasoning_tokens': 0, 'rejected_prediction_tokens': 0}, 'prompt_tokens_details': {'audio_tokens': 0, 'cached_tokens': 0}}, 'model_name': 'gpt-4o-mini-2024-07-18', 'system_fingerprint': 'fp_b8bc95a0ac', 'finish_reason': 'tool_calls', 'logprobs': None} id='run-528ccd94-89b2-49b1-a1a7-5a1f13747860-0' tool_calls=[{'name': 'search_keyword', 'args': {'query': '연금개혁'}, 'id': 'call_ZWL1oioga77JdJWcnWMCEvWX', 'type': 'tool_call'}] usage_metadata={'input_tokens': 47, 'output_tokens': 18, 'total_tokens': 65, 'input_token_details': {'audio': 0, 'cache_read': 0}, 'output_token_details': {'audio': 0, 'reasoning': 0}}\n",
      "\n",
      "[4] chatbot()에서 실행 후 메시지 개수: [HumanMessage] [AIMessage] 2\n",
      "===== chatbot() 함수  끝 =====\n",
      "\n",
      "\n",
      "========================= 여기서 시작 ====================\n",
      "[event] 바깥 for 시작 (1)\n",
      "\n",
      "실행한 노드 이름: chatbot\n",
      "해당 노드 값: \n",
      "\n",
      "{'messages': [AIMessage(content='', additional_kwargs={'tool_calls': [{'id': 'call_ZWL1oioga77JdJWcnWMCEvWX', 'function': {'arguments': '{\"query\":\"연금개혁\"}', 'name': 'search_keyword'}, 'type': 'function'}], 'refusal': None}, response_metadata={'token_usage': {'completion_tokens': 18, 'prompt_tokens': 47, 'total_tokens': 65, 'completion_tokens_details': {'accepted_prediction_tokens': 0, 'audio_tokens': 0, 'reasoning_tokens': 0, 'rejected_prediction_tokens': 0}, 'prompt_tokens_details': {'audio_tokens': 0, 'cached_tokens': 0}}, 'model_name': 'gpt-4o-mini-2024-07-18', 'system_fingerprint': 'fp_b8bc95a0ac', 'finish_reason': 'tool_calls', 'logprobs': None}, id='run-528ccd94-89b2-49b1-a1a7-5a1f13747860-0', tool_calls=[{'name': 'search_keyword', 'args': {'query': '연금개혁'}, 'id': 'call_ZWL1oioga77JdJWcnWMCEvWX', 'type': 'tool_call'}], usage_metadata={'input_tokens': 47, 'output_tokens': 18, 'total_tokens': 65, 'input_token_details': {'audio': 0, 'cache_read': 0}, 'output_token_details': {'audio': 0, 'reasoning': 0}})]}\n",
      "메시지 개수: 1\n",
      "\n",
      "==================== AIMessage ========================\n",
      "[해당 노드 값] content: \n",
      "tool call 있음\n",
      "도구 이름 : search_keyword\n",
      "도구 인자: {'query': '연금개혁'}\n",
      "==================== END AIMessage ====================\n",
      "바깥 for 끝\n",
      "========================= 여기서 끝 =========================\n",
      "\n",
      "\n",
      "========================= 여기서 시작 ====================\n",
      "[event] 바깥 for 시작 (2)\n",
      "\n",
      "실행한 노드 이름: tools\n",
      "해당 노드 값: \n",
      "\n",
      "{'messages': [ToolMessage(content='[{\"url\": \"https://news.google.com/rss/articles/CBMiekFVX3lxTE5zTzdyeU0xRHVVSWJWbFBYNlo4dzZfUEtZZXYwemNKenh5N1BWTFVpdFBHNk9BTUwxbVVORktRUm9uTVBlS21nRHc5NW1xaDBoZzhwbVU5OEU3aHpOdlJ1a2Nham12UVRzY3E2eHpIWjZtODJBLUpTYU1n0gF6QVVfeXFMTXg3R1hsN3FkdzZJQmVyVGRBdURHUmdzYjlXT18wRVowMDJSbWVKQTl6X0lfeWlXZUVWR0NKTkRDU2tfSzE3SzRvc3lRTVprRDZfTUNUUTVhdTc3YkpxLVVZdUhNWU1RU2Rkdkh2aXg5Vl9kZ3d5WElWR1E?oc=5\", \"content\": \"더 내고 더 받는다‥국민연금 개혁안 합의 통과 - MBC 뉴스\"}]', name='search_keyword', id='dbe6f5f8-3bcd-44ec-90d5-64c485e0d2a5', tool_call_id='call_ZWL1oioga77JdJWcnWMCEvWX')]}\n",
      "메시지 개수: 1\n",
      "\n",
      "==================== ToolMessage ========================\n",
      "[해당 노드 값] 도구 도구 이름 : search_keyword\n",
      "[해당 노드 값] 제목: No title\n",
      "[해당 노드 값] URL: https://news.google.com/rss/articles/CBMiekFVX3lxTE5zTzdyeU0xRHVVSWJWbFBYNlo4dzZfUEtZZXYwemNKenh5N1BWTFVpdFBHNk9BTUwxbVVORktRUm9uTVBlS21nRHc5NW1xaDBoZzhwbVU5OEU3aHpOdlJ1a2Nham12UVRzY3E2eHpIWjZtODJBLUpTYU1n0gF6QVVfeXFMTXg3R1hsN3FkdzZJQmVyVGRBdURHUmdzYjlXT18wRVowMDJSbWVKQTl6X0lfeWlXZUVWR0NKTkRDU2tfSzE3SzRvc3lRTVprRDZfTUNUUTVhdTc3YkpxLVVZdUhNWU1RU2Rkdkh2aXg5Vl9kZ3d5WElWR1E?oc=5\n",
      "[해당 노드 값] 내용: 더 내고 더 받는다‥국민연금 개혁안 합의 통과 - MBC 뉴스\n",
      "==================== END ToolMessage ====================\n",
      "바깥 for 끝\n",
      "========================= 여기서 끝 =========================\n",
      "\n",
      "===== chatbot() 함수 시작 =====\n",
      "[1] chatbot() 으로 넘어온 메시지: \n",
      "{'messages': [HumanMessage(content='연금개혁', additional_kwargs={}, response_metadata={}, id='323cebe0-a190-4279-9110-d3114beb257d'), AIMessage(content='', additional_kwargs={'tool_calls': [{'id': 'call_ZWL1oioga77JdJWcnWMCEvWX', 'function': {'arguments': '{\"query\":\"연금개혁\"}', 'name': 'search_keyword'}, 'type': 'function'}], 'refusal': None}, response_metadata={'token_usage': {'completion_tokens': 18, 'prompt_tokens': 47, 'total_tokens': 65, 'completion_tokens_details': {'accepted_prediction_tokens': 0, 'audio_tokens': 0, 'reasoning_tokens': 0, 'rejected_prediction_tokens': 0}, 'prompt_tokens_details': {'audio_tokens': 0, 'cached_tokens': 0}}, 'model_name': 'gpt-4o-mini-2024-07-18', 'system_fingerprint': 'fp_b8bc95a0ac', 'finish_reason': 'tool_calls', 'logprobs': None}, id='run-528ccd94-89b2-49b1-a1a7-5a1f13747860-0', tool_calls=[{'name': 'search_keyword', 'args': {'query': '연금개혁'}, 'id': 'call_ZWL1oioga77JdJWcnWMCEvWX', 'type': 'tool_call'}], usage_metadata={'input_tokens': 47, 'output_tokens': 18, 'total_tokens': 65, 'input_token_details': {'audio': 0, 'cache_read': 0}, 'output_token_details': {'audio': 0, 'reasoning': 0}}), ToolMessage(content='[{\"url\": \"https://news.google.com/rss/articles/CBMiekFVX3lxTE5zTzdyeU0xRHVVSWJWbFBYNlo4dzZfUEtZZXYwemNKenh5N1BWTFVpdFBHNk9BTUwxbVVORktRUm9uTVBlS21nRHc5NW1xaDBoZzhwbVU5OEU3aHpOdlJ1a2Nham12UVRzY3E2eHpIWjZtODJBLUpTYU1n0gF6QVVfeXFMTXg3R1hsN3FkdzZJQmVyVGRBdURHUmdzYjlXT18wRVowMDJSbWVKQTl6X0lfeWlXZUVWR0NKTkRDU2tfSzE3SzRvc3lRTVprRDZfTUNUUTVhdTc3YkpxLVVZdUhNWU1RU2Rkdkh2aXg5Vl9kZ3d5WElWR1E?oc=5\", \"content\": \"더 내고 더 받는다‥국민연금 개혁안 합의 통과 - MBC 뉴스\"}]', name='search_keyword', id='dbe6f5f8-3bcd-44ec-90d5-64c485e0d2a5', tool_call_id='call_ZWL1oioga77JdJWcnWMCEvWX')], 'dummy_data': '테스트 문자열'}\n",
      "메시지 타입: [HumanMessage]\n",
      "content='연금개혁' additional_kwargs={} response_metadata={} id='323cebe0-a190-4279-9110-d3114beb257d'\n",
      "\n",
      "메시지 타입: [HumanMessage][AIMessage]\n",
      "content='' additional_kwargs={'tool_calls': [{'id': 'call_ZWL1oioga77JdJWcnWMCEvWX', 'function': {'arguments': '{\"query\":\"연금개혁\"}', 'name': 'search_keyword'}, 'type': 'function'}], 'refusal': None} response_metadata={'token_usage': {'completion_tokens': 18, 'prompt_tokens': 47, 'total_tokens': 65, 'completion_tokens_details': {'accepted_prediction_tokens': 0, 'audio_tokens': 0, 'reasoning_tokens': 0, 'rejected_prediction_tokens': 0}, 'prompt_tokens_details': {'audio_tokens': 0, 'cached_tokens': 0}}, 'model_name': 'gpt-4o-mini-2024-07-18', 'system_fingerprint': 'fp_b8bc95a0ac', 'finish_reason': 'tool_calls', 'logprobs': None} id='run-528ccd94-89b2-49b1-a1a7-5a1f13747860-0' tool_calls=[{'name': 'search_keyword', 'args': {'query': '연금개혁'}, 'id': 'call_ZWL1oioga77JdJWcnWMCEvWX', 'type': 'tool_call'}] usage_metadata={'input_tokens': 47, 'output_tokens': 18, 'total_tokens': 65, 'input_token_details': {'audio': 0, 'cache_read': 0}, 'output_token_details': {'audio': 0, 'reasoning': 0}}\n",
      "\n",
      "메시지 타입: [HumanMessage][AIMessage][ToolMessage]\n",
      "content='[{\"url\": \"https://news.google.com/rss/articles/CBMiekFVX3lxTE5zTzdyeU0xRHVVSWJWbFBYNlo4dzZfUEtZZXYwemNKenh5N1BWTFVpdFBHNk9BTUwxbVVORktRUm9uTVBlS21nRHc5NW1xaDBoZzhwbVU5OEU3aHpOdlJ1a2Nham12UVRzY3E2eHpIWjZtODJBLUpTYU1n0gF6QVVfeXFMTXg3R1hsN3FkdzZJQmVyVGRBdURHUmdzYjlXT18wRVowMDJSbWVKQTl6X0lfeWlXZUVWR0NKTkRDU2tfSzE3SzRvc3lRTVprRDZfTUNUUTVhdTc3YkpxLVVZdUhNWU1RU2Rkdkh2aXg5Vl9kZ3d5WElWR1E?oc=5\", \"content\": \"더 내고 더 받는다‥국민연금 개혁안 합의 통과 - MBC 뉴스\"}]' name='search_keyword' id='dbe6f5f8-3bcd-44ec-90d5-64c485e0d2a5' tool_call_id='call_ZWL1oioga77JdJWcnWMCEvWX'\n",
      "\n",
      "\n",
      "[2] 메시지 개수 : 3\n",
      "\n",
      "[3] chatbot()에서 실행:\n",
      "메시지 타입: [AIMessage]\n",
      "content='최근 연금개혁에 대한 뉴스가 보도되었습니다. MBC 뉴스에 따르면, \"더 내고 더 받는다‥국민연금 개혁안 합의 통과\"라는 제목의 기사가 있습니다. 자세한 내용은 [여기에서 확인하실 수 있습니다](https://news.google.com/rss/articles/CBMiekFVX3lxTE5zTzdyeU0xRHVVSWJWbFBYNlo4dzZfUEtZZXYwemNKenh5N1BWTFVpdFBHNk9BTUwxbVVORktRUm9uTVBlS21nRHc5NW1xaDBoZzhwbVU5OEU3aHpOdlJ1a2Nham12UVRzY3E2eHpIWjZtODJBLUpTYU1n0gF6QVVfeXFMTXg3R1hsN3FkdzZJQmVyVGRBdURHUmdzYjlXT18wRVowMDJSbWVKQTl6X0lfeWlXZUVWR0NKTkRDU2tfSzE3SzRvc3lRTVprRDZfTUNUUTVhdTc3YkpxLVVZdUhNWU1RU2Rkdkh2aXg5Vl9kZ3d5WElWR1E?oc=5).' additional_kwargs={'refusal': None} response_metadata={'token_usage': {'completion_tokens': 305, 'prompt_tokens': 348, 'total_tokens': 653, 'completion_tokens_details': {'accepted_prediction_tokens': 0, 'audio_tokens': 0, 'reasoning_tokens': 0, 'rejected_prediction_tokens': 0}, 'prompt_tokens_details': {'audio_tokens': 0, 'cached_tokens': 0}}, 'model_name': 'gpt-4o-mini-2024-07-18', 'system_fingerprint': 'fp_b8bc95a0ac', 'finish_reason': 'stop', 'logprobs': None} id='run-2103ae63-bf8f-49e3-87da-a00dc1057894-0' usage_metadata={'input_tokens': 348, 'output_tokens': 305, 'total_tokens': 653, 'input_token_details': {'audio': 0, 'cache_read': 0}, 'output_token_details': {'audio': 0, 'reasoning': 0}}\n",
      "\n",
      "[4] chatbot()에서 실행 후 메시지 개수: [HumanMessage][AIMessage][ToolMessage] [AIMessage] 4\n",
      "===== chatbot() 함수  끝 =====\n",
      "\n",
      "\n",
      "========================= 여기서 시작 ====================\n",
      "[event] 바깥 for 시작 (3)\n",
      "\n",
      "실행한 노드 이름: chatbot\n",
      "해당 노드 값: \n",
      "\n",
      "{'messages': [AIMessage(content='최근 연금개혁에 대한 뉴스가 보도되었습니다. MBC 뉴스에 따르면, \"더 내고 더 받는다‥국민연금 개혁안 합의 통과\"라는 제목의 기사가 있습니다. 자세한 내용은 [여기에서 확인하실 수 있습니다](https://news.google.com/rss/articles/CBMiekFVX3lxTE5zTzdyeU0xRHVVSWJWbFBYNlo4dzZfUEtZZXYwemNKenh5N1BWTFVpdFBHNk9BTUwxbVVORktRUm9uTVBlS21nRHc5NW1xaDBoZzhwbVU5OEU3aHpOdlJ1a2Nham12UVRzY3E2eHpIWjZtODJBLUpTYU1n0gF6QVVfeXFMTXg3R1hsN3FkdzZJQmVyVGRBdURHUmdzYjlXT18wRVowMDJSbWVKQTl6X0lfeWlXZUVWR0NKTkRDU2tfSzE3SzRvc3lRTVprRDZfTUNUUTVhdTc3YkpxLVVZdUhNWU1RU2Rkdkh2aXg5Vl9kZ3d5WElWR1E?oc=5).', additional_kwargs={'refusal': None}, response_metadata={'token_usage': {'completion_tokens': 305, 'prompt_tokens': 348, 'total_tokens': 653, 'completion_tokens_details': {'accepted_prediction_tokens': 0, 'audio_tokens': 0, 'reasoning_tokens': 0, 'rejected_prediction_tokens': 0}, 'prompt_tokens_details': {'audio_tokens': 0, 'cached_tokens': 0}}, 'model_name': 'gpt-4o-mini-2024-07-18', 'system_fingerprint': 'fp_b8bc95a0ac', 'finish_reason': 'stop', 'logprobs': None}, id='run-2103ae63-bf8f-49e3-87da-a00dc1057894-0', usage_metadata={'input_tokens': 348, 'output_tokens': 305, 'total_tokens': 653, 'input_token_details': {'audio': 0, 'cache_read': 0}, 'output_token_details': {'audio': 0, 'reasoning': 0}})]}\n",
      "메시지 개수: 1\n",
      "\n",
      "==================== AIMessage ========================\n",
      "[해당 노드 값] content: 최근 연금개혁에 대한 뉴스가 보도되었습니다. MBC 뉴스에 따르면, \"더 내고 더 받는다‥국민연금 개혁안 합의 통과\"라는 제목의 기사가 있습니다. 자세한 내용은 [여기에서 확인하실 수 있습니다](https://news.google.com/rss/articles/CBMiekFVX3lxTE5zTzdyeU0xRHVVSWJWbFBYNlo4dzZfUEtZZXYwemNKenh5N1BWTFVpdFBHNk9BTUwxbVVORktRUm9uTVBlS21nRHc5NW1xaDBoZzhwbVU5OEU3aHpOdlJ1a2Nham12UVRzY3E2eHpIWjZtODJBLUpTYU1n0gF6QVVfeXFMTXg3R1hsN3FkdzZJQmVyVGRBdURHUmdzYjlXT18wRVowMDJSbWVKQTl6X0lfeWlXZUVWR0NKTkRDU2tfSzE3SzRvc3lRTVprRDZfTUNUUTVhdTc3YkpxLVVZdUhNWU1RU2Rkdkh2aXg5Vl9kZ3d5WElWR1E?oc=5).\n",
      "tool call 없음\n",
      "==================== END AIMessage ====================\n",
      "바깥 for 끝\n",
      "========================= 여기서 끝 =========================\n",
      "\n",
      "전체 반복문 3번 실행\n"
     ]
    }
   ],
   "source": [
    "from langchain_teddynote.graphs import generate_random_hash\n",
    "from langchain_core.runnables import RunnableConfig\n",
    "\n",
    "thread_id = generate_random_hash()\n",
    "print(f\"thread_id: {thread_id}\")\n",
    "\n",
    "config = RunnableConfig(\n",
    "    recursion_limit=10, \n",
    "    configurable={'thread_id': thread_id},\n",
    "    tags=['data-tag']\n",
    ")\n",
    "\n",
    "question = '연금개혁'\n",
    "\n",
    "input = State(\n",
    "    dummy_data='테스트 문자열' ,\n",
    "    messages=[('user', question)]\n",
    ")\n",
    "\n",
    "\n",
    "i = 1\n",
    "\n",
    "for event in graph.stream(input=input, config=config, output_keys=[\"dummy_data\", 'messages'], stream_mode='updates'):\n",
    "    print()\n",
    "    print('========================= 여기서 시작 ====================')\n",
    "    print(f'[event] 바깥 for 시작 ({i})')\n",
    "    print()\n",
    "\n",
    "    for k, value in event.items():\n",
    "        print(f'실행한 노드 이름: {k}')\n",
    "        print(f'해당 노드 값: \\n')\n",
    "        print(value)\n",
    "        \n",
    "        if value and \"dummy_data\" in value:\n",
    "            print('더미 데이터: ')\n",
    "            print(value[\"dummy_data\"])\n",
    "        \n",
    "        if value and 'messages' in value:\n",
    "\n",
    "            if isinstance(value['messages'][-1], HumanMessage):\n",
    "                print('==================== HumanMessage ========================')\n",
    "                print(f\"[해당 노드 값] content: {value['messages'][-1].content}\")\n",
    "                print('==================== END HumanMessage ====================')            \n",
    "            elif isinstance(value['messages'][-1], AIMessage):\n",
    "                print('==================== AIMessage ========================')\n",
    "                print(f\"[해당 노드 값] content: {value['messages'][-1].content}\")\n",
    "\n",
    "                if hasattr(value['messages'][-1], 'tool_calls') and len(value['messages'][-1].tool_calls) > 0:\n",
    "                    print('tool call 있음')\n",
    "                    tool_result = value['messages'][-1].tool_calls\n",
    "                    print(f\"도구 이름 : {tool_result[0]['name']}\")\n",
    "                    print(f\"도구 인자: {tool_result[0]['args']}\")            \n",
    "                else:\n",
    "                    print('tool call 없음')                \n",
    "                print('==================== END AIMessage ====================')\n",
    "            elif isinstance(value['messages'][-1], ToolMessage):\n",
    "                print('==================== ToolMessage ========================')\n",
    "                print(f\"[해당 노드 값] 도구 도구 이름 : {value['messages'][-1].name}\")\n",
    "\n",
    "                content = json.loads(value['messages'][-1].content)\n",
    "\n",
    "                if content and isinstance(content, list) and len(content) > 0:                \n",
    "                    print(f\"[해당 노드 값] 제목: {content[0].get('title', 'No title')}\")\n",
    "                    print(f\"[해당 노드 값] URL: {content[0].get('url', 'No URL')}\")\n",
    "                    print(f\"[해당 노드 값] 내용: {content[0].get('content', 'No URL')}\")                \n",
    "                else:\n",
    "                    print(\"No content or invalid content format in ToolMessage\")\n",
    "\n",
    "                print('==================== END ToolMessage ====================')\n",
    "\n",
    "\n",
    "    i=i+1\n",
    "\n",
    "    print('바깥 for 끝')\n",
    "    print('========================= 여기서 끝 =========================') \n",
    "    print()\n",
    "\n",
    "print(f'전체 반복문 {i-1}번 실행')  "
   ]
  }
 ],
 "metadata": {
  "kernelspec": {
   "display_name": "venv",
   "language": "python",
   "name": "python3"
  },
  "language_info": {
   "codemirror_mode": {
    "name": "ipython",
    "version": 3
   },
   "file_extension": ".py",
   "mimetype": "text/x-python",
   "name": "python",
   "nbconvert_exporter": "python",
   "pygments_lexer": "ipython3",
   "version": "3.11.9"
  }
 },
 "nbformat": 4,
 "nbformat_minor": 2
}
