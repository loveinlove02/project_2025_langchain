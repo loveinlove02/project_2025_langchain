{
 "cells": [
  {
   "cell_type": "code",
   "execution_count": 69,
   "metadata": {},
   "outputs": [],
   "source": [
    "from dotenv import load_dotenv\n",
    "import os\n",
    "\n",
    "load_dotenv(verbose=True)\n",
    "key = os.getenv('OPENAI_API_KEY')"
   ]
  },
  {
   "cell_type": "code",
   "execution_count": 70,
   "metadata": {},
   "outputs": [],
   "source": [
    "from langgraph.checkpoint.memory import MemorySaver\n",
    "\n",
    "memory = MemorySaver()"
   ]
  },
  {
   "cell_type": "code",
   "execution_count": 71,
   "metadata": {},
   "outputs": [],
   "source": [
    "from typing import Annotated\n",
    "from typing_extensions import TypedDict\n",
    "from langgraph.graph.message import add_messages"
   ]
  },
  {
   "cell_type": "code",
   "execution_count": 72,
   "metadata": {},
   "outputs": [],
   "source": [
    "from langgraph.graph import StateGraph \n",
    "from langgraph.graph import START, END"
   ]
  },
  {
   "cell_type": "code",
   "execution_count": 73,
   "metadata": {},
   "outputs": [],
   "source": [
    "from langgraph.prebuilt import ToolNode, tools_condition\n",
    "from langchain_teddynote.tools.tavily import TavilySearch"
   ]
  },
  {
   "cell_type": "code",
   "execution_count": 74,
   "metadata": {},
   "outputs": [],
   "source": [
    "from langchain_core.messages import HumanMessage\n",
    "from langchain_core.messages import AIMessage, ToolMessage"
   ]
  },
  {
   "cell_type": "code",
   "execution_count": 75,
   "metadata": {},
   "outputs": [],
   "source": [
    "from langchain_openai import ChatOpenAI"
   ]
  },
  {
   "cell_type": "code",
   "execution_count": 76,
   "metadata": {},
   "outputs": [],
   "source": [
    "from langchain_teddynote.graphs import visualize_graph"
   ]
  },
  {
   "cell_type": "code",
   "execution_count": 77,
   "metadata": {},
   "outputs": [],
   "source": [
    "######### 1. 상태 정의 #########\n",
    "\n",
    "# 상태 정의\n",
    "class State(TypedDict):\n",
    "    messages: Annotated[list, add_messages]"
   ]
  },
  {
   "cell_type": "code",
   "execution_count": 78,
   "metadata": {},
   "outputs": [],
   "source": [
    "######### 2. 도구 정의 및 바인딩 #########\n",
    "\n",
    "tool = TavilySearch(max_results=1)\n",
    "tools = [tool]"
   ]
  },
  {
   "cell_type": "code",
   "execution_count": 79,
   "metadata": {},
   "outputs": [],
   "source": [
    "######### 3. LLM을 도구와 결합 #########\n",
    "\n",
    "llm = ChatOpenAI(\n",
    "    api_key=key, \n",
    "    model_name='gpt-4o-mini',\n",
    "    temperature=0.1\n",
    ")\n",
    "\n",
    "llm_with_tools = llm.bind_tools(tools)"
   ]
  },
  {
   "cell_type": "code",
   "execution_count": 80,
   "metadata": {},
   "outputs": [],
   "source": [
    "def chatbot(state: State):\n",
    "    print('===== chatbot() 함수 시작 =====')\n",
    "    \n",
    "    print(\"[1] chatbot() 으로 넘어온 메시지: \")\n",
    "\n",
    "    message_type1 = ''\n",
    "\n",
    "    for msg in state['messages']:\n",
    "        if isinstance(msg, HumanMessage):\n",
    "            message_type1 = message_type1 + '[HumanMessage]'\n",
    "        elif isinstance(msg, AIMessage):\n",
    "            message_type1 = message_type1 + '[AIMessage]'\n",
    "        elif isinstance(msg, ToolMessage):\n",
    "            message_type1 = message_type1 + '[ToolMessage]'\n",
    "        \n",
    "        print(f'메시지 타입: {message_type1}')\n",
    "        print(msg)\n",
    "        print()\n",
    "\n",
    "    print(f\"\\n[2] 메시지 개수 : {len(state['messages'])}\\n\")\n",
    "\n",
    "    answer = llm_with_tools.invoke(state['messages'])\n",
    "\n",
    "    # print(f'[도구 사용 LLM 실행 결과 content]: {answer.content}')\n",
    "    \n",
    "    print('[3] chatbot()에서 실행:')\n",
    "    print('메시지 타입: ', end='')\n",
    "\n",
    "    message_type2 = ''\n",
    "    if isinstance(answer, AIMessage):\n",
    "        message_type2 = message_type2 + '[AIMessage]'\n",
    "    elif isinstance(answer, HumanMessage):\n",
    "        message_type2 = message_type2 + '[HumanMessage]'\n",
    "    elif isinstance(answer, ToolMessage):\n",
    "        message_type2 = message_type2 + '[ToolMessage]'\n",
    "    else:\n",
    "        message_type2 = type(answer)\n",
    "\n",
    "    print(message_type2)\n",
    "    print(answer)\n",
    "    print()\n",
    "\n",
    "    answer_value = {'messages': [answer]}\n",
    "\n",
    "    print(f\"[4] chatbot()에서 실행 후 메시지 개수: {message_type1} {message_type2} {len(state['messages']) + len(answer_value)}\") \n",
    "    print('===== chatbot() 함수  끝 =====')\n",
    "    print()\n",
    "\n",
    "    return answer_value"
   ]
  },
  {
   "cell_type": "code",
   "execution_count": 81,
   "metadata": {},
   "outputs": [
    {
     "name": "stdout",
     "output_type": "stream",
     "text": [
      "===== chatbot() 함수 시작 =====\n",
      "[1] chatbot() 으로 넘어온 메시지: \n",
      "메시지 타입: \n",
      "('user', '대구 맛있는 고기집에 대해서 알려줘')\n",
      "\n",
      "\n",
      "[2] 메시지 개수 : 1\n",
      "\n",
      "[3] chatbot()에서 실행:\n",
      "메시지 타입: [AIMessage]\n",
      "content='' additional_kwargs={'tool_calls': [{'id': 'call_Zn9plQPqQWSHvsnmvPZh2Yk7', 'function': {'arguments': '{\"query\":\"대구 맛있는 고기집\"}', 'name': 'tavily_web_search'}, 'type': 'function'}], 'refusal': None} response_metadata={'token_usage': {'completion_tokens': 24, 'prompt_tokens': 102, 'total_tokens': 126, 'completion_tokens_details': {'accepted_prediction_tokens': 0, 'audio_tokens': 0, 'reasoning_tokens': 0, 'rejected_prediction_tokens': 0}, 'prompt_tokens_details': {'audio_tokens': 0, 'cached_tokens': 0}}, 'model_name': 'gpt-4o-mini-2024-07-18', 'system_fingerprint': 'fp_b8bc95a0ac', 'finish_reason': 'tool_calls', 'logprobs': None} id='run-7c939189-d39e-417b-8d01-89c7a1f86c7f-0' tool_calls=[{'name': 'tavily_web_search', 'args': {'query': '대구 맛있는 고기집'}, 'id': 'call_Zn9plQPqQWSHvsnmvPZh2Yk7', 'type': 'tool_call'}] usage_metadata={'input_tokens': 102, 'output_tokens': 24, 'total_tokens': 126, 'input_token_details': {'audio': 0, 'cache_read': 0}, 'output_token_details': {'audio': 0, 'reasoning': 0}}\n",
      "\n",
      "[4] chatbot()에서 실행 후 메시지 개수:  [AIMessage] 2\n",
      "===== chatbot() 함수  끝 =====\n",
      "\n"
     ]
    },
    {
     "data": {
      "text/plain": [
       "{'messages': [AIMessage(content='', additional_kwargs={'tool_calls': [{'id': 'call_Zn9plQPqQWSHvsnmvPZh2Yk7', 'function': {'arguments': '{\"query\":\"대구 맛있는 고기집\"}', 'name': 'tavily_web_search'}, 'type': 'function'}], 'refusal': None}, response_metadata={'token_usage': {'completion_tokens': 24, 'prompt_tokens': 102, 'total_tokens': 126, 'completion_tokens_details': {'accepted_prediction_tokens': 0, 'audio_tokens': 0, 'reasoning_tokens': 0, 'rejected_prediction_tokens': 0}, 'prompt_tokens_details': {'audio_tokens': 0, 'cached_tokens': 0}}, 'model_name': 'gpt-4o-mini-2024-07-18', 'system_fingerprint': 'fp_b8bc95a0ac', 'finish_reason': 'tool_calls', 'logprobs': None}, id='run-7c939189-d39e-417b-8d01-89c7a1f86c7f-0', tool_calls=[{'name': 'tavily_web_search', 'args': {'query': '대구 맛있는 고기집'}, 'id': 'call_Zn9plQPqQWSHvsnmvPZh2Yk7', 'type': 'tool_call'}], usage_metadata={'input_tokens': 102, 'output_tokens': 24, 'total_tokens': 126, 'input_token_details': {'audio': 0, 'cache_read': 0}, 'output_token_details': {'audio': 0, 'reasoning': 0}})]}"
      ]
     },
     "execution_count": 81,
     "metadata": {},
     "output_type": "execute_result"
    }
   ],
   "source": [
    "# 테스트\n",
    "question = '대구 맛있는 고기집에 대해서 알려줘'\n",
    "\n",
    "state = State(messages=[('user', question)])\n",
    "chatbot(state)"
   ]
  },
  {
   "cell_type": "code",
   "execution_count": 82,
   "metadata": {},
   "outputs": [],
   "source": [
    "graph_builder = StateGraph(State)               # 그래프 생성"
   ]
  },
  {
   "cell_type": "code",
   "execution_count": 83,
   "metadata": {},
   "outputs": [
    {
     "data": {
      "text/plain": [
       "<langgraph.graph.state.StateGraph at 0x2be52029250>"
      ]
     },
     "execution_count": 83,
     "metadata": {},
     "output_type": "execute_result"
    }
   ],
   "source": [
    "graph_builder.add_node('chatbot', chatbot)      # 챗봇 노드 추가"
   ]
  },
  {
   "cell_type": "code",
   "execution_count": 84,
   "metadata": {},
   "outputs": [],
   "source": [
    "tool_node = ToolNode(tools=[tool])              # 도구 노드 생성"
   ]
  },
  {
   "cell_type": "code",
   "execution_count": 85,
   "metadata": {},
   "outputs": [
    {
     "data": {
      "text/plain": [
       "<langgraph.graph.state.StateGraph at 0x2be52029250>"
      ]
     },
     "execution_count": 85,
     "metadata": {},
     "output_type": "execute_result"
    }
   ],
   "source": [
    "graph_builder.add_node('tools', tool_node)      # 도구 노드 추가"
   ]
  },
  {
   "cell_type": "code",
   "execution_count": 86,
   "metadata": {},
   "outputs": [
    {
     "data": {
      "text/plain": [
       "<langgraph.graph.state.StateGraph at 0x2be52029250>"
      ]
     },
     "execution_count": 86,
     "metadata": {},
     "output_type": "execute_result"
    }
   ],
   "source": [
    "graph_builder.add_conditional_edges(            # 조건부 엣지\n",
    "    'chatbot',\n",
    "    tools_condition\n",
    ")"
   ]
  },
  {
   "cell_type": "code",
   "execution_count": 87,
   "metadata": {},
   "outputs": [
    {
     "data": {
      "text/plain": [
       "<langgraph.graph.state.StateGraph at 0x2be52029250>"
      ]
     },
     "execution_count": 87,
     "metadata": {},
     "output_type": "execute_result"
    }
   ],
   "source": [
    "######### 5. 엣지 추가 #########\n",
    "\n",
    "graph_builder.add_edge('tools', 'chatbot')      # tools 에서 chatbot 으로"
   ]
  },
  {
   "cell_type": "code",
   "execution_count": 88,
   "metadata": {},
   "outputs": [
    {
     "data": {
      "text/plain": [
       "<langgraph.graph.state.StateGraph at 0x2be52029250>"
      ]
     },
     "execution_count": 88,
     "metadata": {},
     "output_type": "execute_result"
    }
   ],
   "source": [
    "graph_builder.add_edge(START, 'chatbot')        # START 에서 chatbot 으로"
   ]
  },
  {
   "cell_type": "code",
   "execution_count": 89,
   "metadata": {},
   "outputs": [
    {
     "data": {
      "text/plain": [
       "<langgraph.graph.state.StateGraph at 0x2be52029250>"
      ]
     },
     "execution_count": 89,
     "metadata": {},
     "output_type": "execute_result"
    }
   ],
   "source": [
    "graph_builder.add_edge('chatbot', END)          # chatbot 에서 END 로"
   ]
  },
  {
   "cell_type": "code",
   "execution_count": 90,
   "metadata": {},
   "outputs": [],
   "source": [
    "graph = graph_builder.compile(checkpointer=memory)"
   ]
  },
  {
   "cell_type": "code",
   "execution_count": 91,
   "metadata": {},
   "outputs": [
    {
     "data": {
      "image/png": "[encoded data removed]",
      "text/plain": [
       "<IPython.core.display.Image object>"
      ]
     },
     "metadata": {},
     "output_type": "display_data"
    }
   ],
   "source": [
    "visualize_graph(graph)"
   ]
  },
  {
   "cell_type": "code",
   "execution_count": 92,
   "metadata": {},
   "outputs": [
    {
     "name": "stdout",
     "output_type": "stream",
     "text": [
      "thread_id: 411326\n",
      "===== chatbot() 함수 시작 =====\n",
      "[1] chatbot() 으로 넘어온 메시지: \n",
      "메시지 타입: [HumanMessage]\n",
      "content='대구 맛집을 알려줘?' additional_kwargs={} response_metadata={} id='29d05693-ad15-498f-8b64-92d2a0ff3eb2'\n",
      "\n",
      "\n",
      "[2] 메시지 개수 : 1\n",
      "\n",
      "[3] chatbot()에서 실행:\n",
      "메시지 타입: [AIMessage]\n",
      "content='' additional_kwargs={'tool_calls': [{'id': 'call_j79yvnjdMfVexrAbyufJfnTd', 'function': {'arguments': '{\"query\":\"대구 맛집\"}', 'name': 'tavily_web_search'}, 'type': 'function'}], 'refusal': None} response_metadata={'token_usage': {'completion_tokens': 21, 'prompt_tokens': 99, 'total_tokens': 120, 'completion_tokens_details': {'accepted_prediction_tokens': 0, 'audio_tokens': 0, 'reasoning_tokens': 0, 'rejected_prediction_tokens': 0}, 'prompt_tokens_details': {'audio_tokens': 0, 'cached_tokens': 0}}, 'model_name': 'gpt-4o-mini-2024-07-18', 'system_fingerprint': 'fp_b8bc95a0ac', 'finish_reason': 'tool_calls', 'logprobs': None} id='run-5ae63566-a6de-42b2-a34c-8615d3838b58-0' tool_calls=[{'name': 'tavily_web_search', 'args': {'query': '대구 맛집'}, 'id': 'call_j79yvnjdMfVexrAbyufJfnTd', 'type': 'tool_call'}] usage_metadata={'input_tokens': 99, 'output_tokens': 21, 'total_tokens': 120, 'input_token_details': {'audio': 0, 'cache_read': 0}, 'output_token_details': {'audio': 0, 'reasoning': 0}}\n",
      "\n",
      "[4] chatbot()에서 실행 후 메시지 개수: [HumanMessage] [AIMessage] 2\n",
      "===== chatbot() 함수  끝 =====\n",
      "\n",
      "\n",
      "========================= 여기서 시작 ====================\n",
      "[event] 바깥 for 시작\n",
      "\n",
      "실행한 노드 이름: chatbot\n",
      "\n",
      "==================== AIMessage ========================\n",
      "[해당 노드 값] content: \n",
      "tool call 있음\n",
      "도구 이름 : tavily_web_search\n",
      "도구 인자: {'query': '대구 맛집'}\n",
      "==================== END AIMessage ====================\n",
      "\n",
      "바깥 for 끝\n",
      "========================= 여기서 끝 =========================\n",
      "\n",
      "\n",
      "========================= 여기서 시작 ====================\n",
      "[event] 바깥 for 시작\n",
      "\n",
      "실행한 노드 이름: tools\n",
      "\n",
      "==================== ToolMessage ========================\n",
      "[해당 노드 값] 도구 도구 이름 : tavily_web_search\n",
      "[해당 노드 값] 제목: 대구 맛집 베스트10 유명해서 많이 방문하는 곳 Top10\n",
      "[해당 노드 값] URL: https://todaytrip.tistory.com/141\n",
      "[해당 노드 값] 내용: 대구 맛집 베스트10은 대덕식당, 오퐁드부아, 바르미스시뷔페 두산점 등 유명한 음식점부터 안지랑 곱창골목까지 다양한 분위기의 곳을 소개합니다. 각 곳의 주소, 영업시간, 메뉴, TV방송정보, 홈페이지 등을 확인하고 대구 맛집을 찾아보세요.\n",
      "==================== END ToolMessage ====================\n",
      "\n",
      "바깥 for 끝\n",
      "========================= 여기서 끝 =========================\n",
      "\n",
      "===== chatbot() 함수 시작 =====\n",
      "[1] chatbot() 으로 넘어온 메시지: \n",
      "메시지 타입: [HumanMessage]\n",
      "content='대구 맛집을 알려줘?' additional_kwargs={} response_metadata={} id='29d05693-ad15-498f-8b64-92d2a0ff3eb2'\n",
      "\n",
      "메시지 타입: [HumanMessage][AIMessage]\n",
      "content='' additional_kwargs={'tool_calls': [{'id': 'call_j79yvnjdMfVexrAbyufJfnTd', 'function': {'arguments': '{\"query\":\"대구 맛집\"}', 'name': 'tavily_web_search'}, 'type': 'function'}], 'refusal': None} response_metadata={'token_usage': {'completion_tokens': 21, 'prompt_tokens': 99, 'total_tokens': 120, 'completion_tokens_details': {'accepted_prediction_tokens': 0, 'audio_tokens': 0, 'reasoning_tokens': 0, 'rejected_prediction_tokens': 0}, 'prompt_tokens_details': {'audio_tokens': 0, 'cached_tokens': 0}}, 'model_name': 'gpt-4o-mini-2024-07-18', 'system_fingerprint': 'fp_b8bc95a0ac', 'finish_reason': 'tool_calls', 'logprobs': None} id='run-5ae63566-a6de-42b2-a34c-8615d3838b58-0' tool_calls=[{'name': 'tavily_web_search', 'args': {'query': '대구 맛집'}, 'id': 'call_j79yvnjdMfVexrAbyufJfnTd', 'type': 'tool_call'}] usage_metadata={'input_tokens': 99, 'output_tokens': 21, 'total_tokens': 120, 'input_token_details': {'audio': 0, 'cache_read': 0}, 'output_token_details': {'audio': 0, 'reasoning': 0}}\n",
      "\n",
      "메시지 타입: [HumanMessage][AIMessage][ToolMessage]\n",
      "content='[{\"title\": \"대구 맛집 베스트10 유명해서 많이 방문하는 곳 Top10\", \"url\": \"https://todaytrip.tistory.com/141\", \"content\": \"대구 맛집 베스트10은 대덕식당, 오퐁드부아, 바르미스시뷔페 두산점 등 유명한 음식점부터 안지랑 곱창골목까지 다양한 분위기의 곳을 소개합니다. 각 곳의 주소, 영업시간, 메뉴, TV방송정보, 홈페이지 등을 확인하고 대구 맛집을 찾아보세요.\", \"score\": 0.8565368, \"raw_content\": \"일상탈출\\\\n\\\\n고정 헤더 영역\\\\n\\\\n\\\\n\\\\n메뉴 레이어\\\\n\\\\n메뉴 리스트\\\\n\\\\n검색 레이어\\\\n\\\\n검색 영역\\\\n\\\\n상세 컨텐츠\\\\n\\\\n본문 제목\\\\n\\\\n대구 맛집 베스트10 유명해서 많이 방문하는 곳 TOP10\\\\n\\\\nby 일탈스토리\\\\n2023. 2. 24. 03:13\\\\n\\\\n본문\\\\n\\\\n안녕하세요. 전국맛집을 소개시켜드리는 일상탈출입니다.\\xa0\\xa0오늘은 대구 맛집 추천해 드리겠습니다. 대구 맛집 베스트10은 사람들이 많이 방문하는곳이며, 웨이팅 시간이 있는 음식점도 있습니다. 대구 맛집 베스트10은 대덕식당, 오퐁드부아, 바르미스시뷔페 두산점, 헤이마, 곤지곤지, 서민갈비, 고령촌돼지찌개, 룰리커피 가창점, 리안, 낙영찜갈비 본점\\xa0 10곳과 특별히 안지랑 곱창골목까지 총 11곳 알려드리겠습니다.\\\\n\\\\n\\\\n\\\\n1. 대덕식당\\\\n\\\\nㅇ 주소 : 대구 남구 앞산순환로 443 ㅇ 영업시간 : 07:00\\xa0-\\xa021:00ㅇ 전화번호 : 053-656-8111\\\\n\\\\nㅇ TV방송정보 \\xa0- 2TV생생정보 33회, 16.02.24 선지해장국\\\\n\\\\nㅇ\\xa0메뉴\\xa0- 선지국밥 :\\xa08,000원\\xa0- 선지 :\\xa08,000원\\xa0- 육개장 :\\xa09,000원\\xa0- 왕갈비탕 :\\xa010,000원\\\\n\\\\n1979년 개업한 이래 2대에 걸쳐 대구 시민의 쉼터인 앞산을 지켜 온 선지국밥 전문점입니다. 우거지가 풍성하게 들어간 선지국밥이 대표 메뉴입니다. 1996년에 전통문화보존 명인장에 선정되었고, 무료급식소 밥 한 끼 나누기 운동에 적극 동참하여 2011년에는 아름다운 가게 인증서를 받았습니다. 대덕식당은 가서 먹는 맛도 있지만.! 냄비\\xa0들고\\xa0가서(플라스틱\\xa0바게스에\\xa0담아서\\xa0팔지만..)\\xa0인심\\xa0좋게\\xa0담아주는\\xa0만큼\\xa0받아오는\\xa0그맛도\\xa0참좋죠.!\\\\n\\\\n\\\\n\\\\n\\\\n\\\\n\\\\n\\\\n\\\\n\\\\n\\\\n\\\\n2. 오퐁드부아\\\\n\\\\nㅇ 주소 : 대구 달성군 가창면 주리2길 104 ㅇ 영업시간 : 11:00\\xa0-\\xa021:00ㅇ 전화번호 : 0507-1348-0101\\\\n\\\\nㅇ 메뉴\\xa0- 에스프레소 :\\xa05,500원\\xa0- 아메리카노 :\\xa05,500원\\xa0- 카푸치노 :\\xa06,000원\\xa0- 라떼 :\\xa06,000원\\\\n\\\\nㅇ 홈페이지 : http://www.instagram.com/cafe_aufonddubois\\\\n\\\\n\\\\n\\\\n자연을 곁에 두고 있는 이 곳에서 계절 변화에 따른 자연의 재료를 통해 먹고 마시며 숲 속의 편안함과 여유로움을 경험할 수 있는 곳입니다. 경치 좋은곳은 역시 산 웅텅이에 있은 카페가 최고입니다. 커피맛은 무난하면서 괜찬아요. 빵으로 밥 떼워도 될듯 ㅋ 사람도 겁니많습니다~~ 아쉬운점은 카페 크기에 비해 주차자리가 많지 않아요~\\\\n\\\\n\\\\n\\\\n\\\\n\\\\n\\\\n\\\\n\\\\n\\\\n3.\\xa0바르미스시뷔페\\xa0두산점\\\\n\\\\nㅇ 주소 : 대구 수성구 무학로 78 ㅇ 영업시간 : 11:30\\xa0-\\xa021:20ㅇ 전화번호 : 0507-1402-0051\\\\n\\\\nㅇ 메뉴\\xa0- 평일런치(성인) :\\xa027,800원\\xa0- 평일디너(성인) :\\xa029,800원\\xa0- 주말/공휴일(성인) :\\xa033,800원\\xa0- 초등학생 :\\xa021,000원\\\\n\\\\n\\\\n\\\\n자연속에서 즐기는 스시 뷔페~~아마 이 업소가 오래도록 사랑받는 이유가 가성비 좋은 스시와 물이 흐르는 공간이 아닐까 생각한다.대부분의 테이블에서 물이 흐르는 개울가에서 맛있는 음식을 먹는 경험을 한다. 대부분 웨이팅이 1시간 전후 있으니 6인 이상은 예약이 가능하니 이용하고 인원이 5인 이하일때는 인스타 이용하면 대기번호 우선으로 올려 주니 이 방법을 이용하면 좋을듯하다. 자리에 앉으면 뷔페를 이용하면 된다. 특이점은 스시는 깔금한 조리복을 입은 쉐프들이 만드는 모습을 라이브로 볼수 있다는 것이다. 이부분도 많은 강점으로 작용한다. 죽, 볶음우동. 해산물 만두 오뎅, 튀김, 구이류, 과일 디저트, 커피, 플레인요거트 등등 다양한 요리도 곁들이면서 즐길수 있다. 전용주차장넓어 주차하기\\xa0편해요.\\\\n\\\\n\\\\n\\\\n\\\\n\\\\n\\\\n\\\\n\\\\n\\\\n4. 헤이마\\\\n\\\\nㅇ 주소 : 대구 동구 파계로 583\\\\n\\\\nㅇ\\xa0 영업시간 : 매일 10:00\\xa0-\\xa022:00ㅇ 전화번호 : 053-986-7773\\\\n\\\\nㅇ 메뉴\\xa0- 아메리카노 :\\xa05,000원\\xa0- 카페라떼 :\\xa05,500원\\xa0- 카푸치노 :\\xa05,500원\\xa0- 플랫화이트 :\\xa05,500원ㅇ 홈페이지 : http://www.cafeheima.co.kr\\\\n\\\\n\\\\n\\\\n헤이마(HEIMA)는 아이슬란드어로 \\'집\\'이라는 의미를 가지고 있습니다. 몸과 마음이 쉴 수 있는 안식처의 개념을 포함하고 있는 헤이마는 사람들의 정서적인 만족을 얻을 수 있는 공간이 되길 바라는 마음에서 만들어진 공간입니다. 뷰와 인테리어 맛 모두 만족스러운 곳이며, 커피나 빵도 맛있고 주차도 편해서 모임하기 좋은 카페입니다.\\\\n\\\\n\\\\n\\\\n\\\\n\\\\n\\\\n\\\\n\\\\n\\\\n\\\\n\\\\n5. 곤지곤지\\\\n\\\\nㅇ 주소 : 대구 달성군 가창면 퇴계길 43-8 ㅇ 영업시간 : 11:30\\xa0-\\xa020:30ㅇ 전화번호 : 053-766-2112\\\\n\\\\nㅇ 메뉴\\xa0- 강된장자연보리밥 :\\xa08,000원\\xa0- 고등어구이 :\\xa05,000원\\xa0- 아침에만든두부 :\\xa08,000원\\xa0- 오리훈제바베큐 :\\xa020,000원\\\\n\\\\n\\\\n\\\\n가창면 산자락에 널찍하게 자리 잡은 한식당입니다. 취향에 맞게 비벼 먹을 수 있도록 콩비지와 된장찌개 나물을 곁들여지는 옛날 보리밥이 이곳의 대표 메뉴인데요, 그 외에도 식사에 곁들이기 좋은 촌 두부, 고등어구이 등의 메뉴와 오리 훈제 바비큐, 돼지 바비큐 등의 요리가 준비되어 있지요. 주차하기 편해요. 가격에 비해 음식이 맛도 있고 반찬가지수도 많고, 가끔 드라이버하다 맛집으로 찾아오면 좋을거 같아요\\\\n\\\\n\\\\n\\\\n\\\\n\\\\n\\\\n\\\\n\\\\n\\\\n6. 서민갈비\\\\n\\\\nㅇ 주소 : 대구 수성구 들안로 8-5 ㅇ 영업시간 : 11:30\\xa0-\\xa023:00ㅇ 전화번호 : 053-761-2267\\\\n\\\\nㅇ 메뉴\\xa0- 김재동갈비 : 12,000원\\xa0- 제주 흑돼지생구이(600g) : 45,000원\\xa0- 전복구이 : 30,000원\\xa0- 압력돌솥밥 : 6,000원\\\\n\\\\n서민갈비는 들 안길 먹자골목 30년 역사를 함께한 돼지갈비 전문점입니다. 육부 작업으로는 잔뼈가 굵은 오랜 경력의 전문가들이 직접 갈비를 매일 수 작업합니다.\\xa0 돼지갈비가 생각나면 항상 들리는 곳. 아는 맛이라 더 무섭습니다. 고기 다 구워주고, 찬들도 필요한 것들만 나오며 깔끔하니 맛있습니다. 식사는 강하고 찐한 맛을 원한다면 기본 된장찌개, 구수한 해물맛을 원한다면 전복해물뚝배기. 테이블 회전율도 빨라 복잡아도 많이 기다리지 않아요.\\\\n\\\\n\\\\n\\\\n\\\\n\\\\n\\\\n\\\\n\\\\n\\\\n\\\\n\\\\n7. 고령촌돼지찌개\\\\n\\\\nㅇ주소 : 대구 남구 앞산순환로 440-1 ㅇ 영업시간 : 매일 11:00\\xa0-\\xa023:00ㅇ 전화번호 : 053-626-0780\\\\n\\\\nㅇ 메뉴\\\\n\\\\n-\\xa0고령촌 돼지찌개(소 (3~2인)) :\\xa022,000원\\xa0- 고령촌 돼지찌개(중 (4~3인)) :\\xa0\\xa030,000원\\xa0- 고령촌 돼지찌개(대 (5~4인)) :\\xa037,000원\\xa0- 석쇠불고기(참나무장작구이)(2인) :\\xa023,000원\\\\n\\\\n\\\\n\\\\n대구의 앞산 안지랑골에 위치한 고령촌돼지찌개입니다. 10년째 항상 신선한 재료만 엄선 조리하며 내 가족이 먹는다 생각하고 만들어 왔습니다. 어머니가 해주시던 깊고 얼큰 칼칼한 가정식 촌돼지찌개를 맛보실 수 있어요! 손수 직접 작업한 돼지 한 마리 모든 부위를 찌개에 담았습니다.\\xa0 돼지찌개는 비조리 상태로 나와 강불에 재료들을 살짝 볶은 다음 육수를 부어줍니다 그래서 그런지 모든 조리가 끝난 후에 먹은 국물 맛은 정말 시원 칼칼하고 깊은 감칠맛이 나면서 너무 맛있었습니다. 참나무로\\xa0초벌한\\xa0석쇠불고기와\\xa0삼겹살,\\xa0목살도\\xa0꼭\\xa0맛보시기\\xa0바랍니다.\\\\n\\\\n\\\\n\\\\n\\\\n\\\\n\\\\n\\\\n\\\\n\\\\n\\\\n\\\\n8. 룰리커피 가창점\\\\n\\\\nㅇ 주소 : 대구 달성군 가창면 우록길 76 ㅇ 영업시간 : 매일 10:00\\xa0-\\xa022:00 ㅇ 전화번호 : 070-7823-7637\\\\n\\\\nㅇ 메뉴\\xa0- 바게트1/2사이즈+스프레스 2종 선택 : 7,500원\\xa0- 바게트one사이즈+스프레스 2종 선택 : 9,500원\\xa0- 토마토수프 : 8,500원\\xa0- 머쉬룸 수프 : 8,500원\\\\n\\\\nㅇ 홈페이지 : http://www.rullycoffee.com\\\\n\\\\n\\\\n\\\\n룰리는 역시 아이스크림커피입니다! 고모역 룰리와 비교했을 때 밀크커피가 이곳이 훨씬 맛있고, 왠지 아이스크림도 더 맛있어 보임 ㅎ 매장\\xa0층고가\\xa0높아서\\xa0사람이\\xa0많아도\\xa0소리가\\xa0시끄럽게\\xa0느껴지지\\xa0않네용.\\xa0소리는\\xa0위쪽으로\\xa0승천하나\\xa0봅니다~^\\xa0특히\\xa0카페정면에\\xa0저수지전망이\\xa0이쁘네요.\\xa0저수지뷰도\\xa0이쁠\\xa0수\\xa0있구나\\xa0알게\\xa0되었음.\\\\n\\\\n\\\\n\\\\n\\\\n\\\\n\\\\n\\\\n\\\\n\\\\n9. 리안\\\\n\\\\nㅇ 주소 : 대구 수성구 교학로4길 48 ㅇ 영업시간 : 11:30 ~ 21:00ㅇ 전화번호 : 053-746-0203\\\\n\\\\nㅇ 메뉴\\xa0- 짜장면 : 5,000원\\xa0- 만두 : 6,000원\\xa0- 짬뽕 : 7,000원\\xa0- 야끼우동 : 8,000원\\\\n\\\\n\\\\n\\\\n대구시전체 통틀어 탕수육 판매량 단연 독보적인1위 중식당입니다. 손님이 엄청나게 많은데 내방하는손님의 95%이상이 탕수육을먹고있는 신기한 중식당입니다. 점심과저녁시간에는 대기가 꽤있는편인데 주방에서는 주문과상관없이 탕수육을튀깁니다. 그러다보니 테이블회전이빠르고 복불복이지만 비교적 음식은빨리나오는편입니다. 탕수육튀김옷이두꺼운편이고소스는많이달콤합니다. 야끼우동도양파야채많이들어간달콤한맛입니다. 탕수육 야끼우동 쟁반짜장 모두 남녀노소누가먹어도 그냥맛있다느낄정도의 보편적인맛입니다.\\\\n\\\\n\\\\n\\\\n\\\\n\\\\n\\\\n\\\\n\\\\n\\\\n10. 낙영찜갈비 본점\\\\n\\\\nㅇ 주소 : 대구 중구 동덕로36길 9-17 ㅇ 영업시간 :\\xa0 매일 10:00\\xa0-\\xa021:00ㅇ 전화번호 : 053-423-3330\\\\n\\\\nㅇ TV방송정보 \\xa0-\\xa0 맛있는녀석들 346회, 21.10.08 찜갈비\\\\n\\\\nㅇ 메뉴\\xa0- 수입 갈비찜 :\\xa020,000원\\xa0- 한우 갈비찜 :\\xa030,000원\\xa0- 갈비살찌개 :\\xa07,000원\\xa0- 소고기찌개 :\\xa08,000원 ㅇ 홈페이지 : https://www.daegufood.go.kr/kor/food/food2.asp?idx=264&gotoPage=6&snm=75&ta=5\\\\n\\\\n\\\\n\\\\n음식이 시키자마자 거의 1분안에 나온다 음식 나오는 속도는 5G다. 양은 그냥 저냥 적당히 주는듯하다 맛은 짜지않고 맛있고 맵기조절 가능하다. 고기 먹고 양념에 김가루넣어 비벼먹길 추천한다. 먹다보니 비빔밥은 순삭이다. 입에\\xa0넣기전부터\\xa0마늘\\xa0향이\\xa0잔뜩\\xa0나서,\\xa0마늘을\\xa0좋아하는\\xa0저에겐\\xa0좋았습니다!\\xa0그런데\\xa0제\\xa0입맛엔\\xa0밥이랑\\xa0같이\\xa0먹어도\\xa0좀\\xa0짜더라구요\\\\n\\\\n\\\\n\\\\n\\\\n\\\\n\\\\n\\\\n\\\\n\\\\n\\\\n\\\\n11. 안지랑 곱창 골목\\\\n\\\\nㅇ 주소 : 대구 남구 안지랑로16길 67 ㅇ 영업시간 :\\xa0ㅇ 전화번호 : 0507-1336-4119\\\\n\\\\nㅇ 홈페이지 : https://blog.naver.com/mscase 1980년 시장 인근에서 양념곱창으로 서민들의 입맛을 사로잡으셨던 충북곱창할머님을 시작으로 1997년 IMF를 겪으면서 안지랑 시장 외곽인 안지랑 골짜기 물이 흐르던 도로에 10여 개의 양념곱창점포가 형성되었다. 2000년 이후 안지랑 오거리에서 안지랑 시장까지 점포수가 급격히 증가하게 되어 현재는 50여 개의 점포가 형성되었으며, 2007년 이후 50여 개의 점포 사장님들과 상인회 우만환 회장님의 노력으로 \\'남구청지정업소\\'라는 타이틀을 얻게 됨과 동시에 인근 대학 학생들의 도움으로 \\'젊음의 거리\\'로 활성화되기 시작했습니다.\\\\n\\\\n\\\\n\\\\n\\\\n\\\\n\\\\n\\\\n\\\\n\\\\n\\\\n\\\\n오늘은 대구 맛집 베스트10은 대덕식당, 오퐁드부아, 바르미스시뷔페 두산점, 헤이마, 곤지곤지, 서민갈비, 고령촌돼지찌개, 룰리커피 가창점, 리안, 낙영찜갈비 본점\\xa0 10곳과 추가 안지랑 곱창골목까지 총 11곳 알려 드렸습니다.\\\\n\\\\n\\\\n\\\\n< 대구 맛집 추천 영상으로 보기 >\\\\n\\\\n< 같이보면 좋은내용 : 생활의 달인 대구 맛집 추천 >\\\\n\\\\n대구 맛집 베스트10_생활의 달인 맛집\\\\n\\\\n오늘은 생활의 맛집에서도 정말 맛있다는 대구맛집 베스트10을 선정하여 소개시켜드리겠습니다. 생활의 달인외 많은 방송에도 소개된 맛집들입니다. 오늘 소개시켜드릴 대구맛집으로 운수좋은\\\\n\\\\ntodaytrip.tistory.com\\\\n\\\\n< 같이보면 좋은내용 : 경주 맛집 추천 >\\\\n\\\\n경주 맛집 베스트10_유명해서 많이 방문하는곳 TOP10\\\\n\\\\n안녕하세요. 전국맛집을 소개시켜드리는 일상탈출입니다. 오늘은 경주 맛집 추천해 드리겠습니다. 경주 맛집 베스트10은 사람들이 많이 방문하는곳이며, 웨이팅 시간이 있는 음식점도 있습니다\\\\n\\\\ntodaytrip.tistory.com\\\\n\\\\n\\'맛거리\\' 카테고리의 다른 글\\\\n\\\\n삼척 맛집 베스트10 유명해서 많이 방문하는 음식점 TOP10(4) | 2023.02.28\\\\n여수 맛집 베스트10 유명해서 많이 방문하는 음식점 11곳(4) | 2023.02.25\\\\n광양 맛집 베스트10 유명해서 많이 방문하는 곳 TOP10(3) | 2023.02.23\\\\n여의도 맛집 베스트 10 유명해서 많이 방문하는 음식점(4) | 2023.02.22\\\\n울진 맛집 베스트10 유명해서 많이 방문하는 음식점 TOP10(0) | 2023.02.20\\\\n태그\\\\n\\\\n관련글 더보기\\\\n\\\\n삼척 맛집 베스트10 유명해서 많이 방문하는 음식점 TOP10\\\\n\\\\n2023.02.28\\\\n\\\\n여수 맛집 베스트10 유명해서 많이 방문하는 음식점 11곳\\\\n\\\\n2023.02.25\\\\n\\\\n광양 맛집 베스트10 유명해서 많이 방문하는 곳 TOP10\\\\n\\\\n2023.02.23\\\\n\\\\n여의도 맛집 베스트 10 유명해서 많이 방문하는 음식점\\\\n\\\\n2023.02.22\\\\n\\\\n댓글 영역\\\\n\\\\n추가 정보\\\\n\\\\n인기글\\\\n\\\\n2025.03.13 03:36\\\\n\\\\n2025.03.15 06:42\\\\n\\\\n2025.03.19 02:49\\\\n\\\\n2025.03.09 02:23\\\\n\\\\n최신글\\\\n\\\\n맛거리\\\\n\\\\n축제소개\\\\n\\\\n맛거리\\\\n\\\\n맛거리\\\\n\\\\n티스토리툴바\\\\n\\\\n\\\\n\\\\n\"}, {\"title\": \"대구 맛집 베스트10 유명해서 많이 방문하는 곳 Top10\", \"url\": \"https://todaytrip.tistory.com/141\", \"content\": \"대구 맛집 베스트10은 대덕식당, 오퐁드부아, 바르미스시뷔페 두산점 등 유명한 음식점부터 안지랑 곱창골목까지 다양한 분위기의 곳을 소개합니다. 각 곳의 주소, 영업시간, 메뉴, TV방송정보, 홈페이지 등을 확인하고 대구 맛집을 찾아보세요.\", \"score\": 0.8565368, \"raw_content\": \"일상탈출\\\\n\\\\n고정 헤더 영역\\\\n\\\\n\\\\n\\\\n메뉴 레이어\\\\n\\\\n메뉴 리스트\\\\n\\\\n검색 레이어\\\\n\\\\n검색 영역\\\\n\\\\n상세 컨텐츠\\\\n\\\\n본문 제목\\\\n\\\\n대구 맛집 베스트10 유명해서 많이 방문하는 곳 TOP10\\\\n\\\\nby 일탈스토리\\\\n2023. 2. 24. 03:13\\\\n\\\\n본문\\\\n\\\\n안녕하세요. 전국맛집을 소개시켜드리는 일상탈출입니다.\\xa0\\xa0오늘은 대구 맛집 추천해 드리겠습니다. 대구 맛집 베스트10은 사람들이 많이 방문하는곳이며, 웨이팅 시간이 있는 음식점도 있습니다. 대구 맛집 베스트10은 대덕식당, 오퐁드부아, 바르미스시뷔페 두산점, 헤이마, 곤지곤지, 서민갈비, 고령촌돼지찌개, 룰리커피 가창점, 리안, 낙영찜갈비 본점\\xa0 10곳과 특별히 안지랑 곱창골목까지 총 11곳 알려드리겠습니다.\\\\n\\\\n\\\\n\\\\n1. 대덕식당\\\\n\\\\nㅇ 주소 : 대구 남구 앞산순환로 443 ㅇ 영업시간 : 07:00\\xa0-\\xa021:00ㅇ 전화번호 : 053-656-8111\\\\n\\\\nㅇ TV방송정보 \\xa0- 2TV생생정보 33회, 16.02.24 선지해장국\\\\n\\\\nㅇ\\xa0메뉴\\xa0- 선지국밥 :\\xa08,000원\\xa0- 선지 :\\xa08,000원\\xa0- 육개장 :\\xa09,000원\\xa0- 왕갈비탕 :\\xa010,000원\\\\n\\\\n1979년 개업한 이래 2대에 걸쳐 대구 시민의 쉼터인 앞산을 지켜 온 선지국밥 전문점입니다. 우거지가 풍성하게 들어간 선지국밥이 대표 메뉴입니다. 1996년에 전통문화보존 명인장에 선정되었고, 무료급식소 밥 한 끼 나누기 운동에 적극 동참하여 2011년에는 아름다운 가게 인증서를 받았습니다. 대덕식당은 가서 먹는 맛도 있지만.! 냄비\\xa0들고\\xa0가서(플라스틱\\xa0바게스에\\xa0담아서\\xa0팔지만..)\\xa0인심\\xa0좋게\\xa0담아주는\\xa0만큼\\xa0받아오는\\xa0그맛도\\xa0참좋죠.!\\\\n\\\\n\\\\n\\\\n\\\\n\\\\n\\\\n\\\\n\\\\n\\\\n\\\\n\\\\n2. 오퐁드부아\\\\n\\\\nㅇ 주소 : 대구 달성군 가창면 주리2길 104 ㅇ 영업시간 : 11:00\\xa0-\\xa021:00ㅇ 전화번호 : 0507-1348-0101\\\\n\\\\nㅇ 메뉴\\xa0- 에스프레소 :\\xa05,500원\\xa0- 아메리카노 :\\xa05,500원\\xa0- 카푸치노 :\\xa06,000원\\xa0- 라떼 :\\xa06,000원\\\\n\\\\nㅇ 홈페이지 : http://www.instagram.com/cafe_aufonddubois\\\\n\\\\n\\\\n\\\\n자연을 곁에 두고 있는 이 곳에서 계절 변화에 따른 자연의 재료를 통해 먹고 마시며 숲 속의 편안함과 여유로움을 경험할 수 있는 곳입니다. 경치 좋은곳은 역시 산 웅텅이에 있은 카페가 최고입니다. 커피맛은 무난하면서 괜찬아요. 빵으로 밥 떼워도 될듯 ㅋ 사람도 겁니많습니다~~ 아쉬운점은 카페 크기에 비해 주차자리가 많지 않아요~\\\\n\\\\n\\\\n\\\\n\\\\n\\\\n\\\\n\\\\n\\\\n\\\\n3.\\xa0바르미스시뷔페\\xa0두산점\\\\n\\\\nㅇ 주소 : 대구 수성구 무학로 78 ㅇ 영업시간 : 11:30\\xa0-\\xa021:20ㅇ 전화번호 : 0507-1402-0051\\\\n\\\\nㅇ 메뉴\\xa0- 평일런치(성인) :\\xa027,800원\\xa0- 평일디너(성인) :\\xa029,800원\\xa0- 주말/공휴일(성인) :\\xa033,800원\\xa0- 초등학생 :\\xa021,000원\\\\n\\\\n\\\\n\\\\n자연속에서 즐기는 스시 뷔페~~아마 이 업소가 오래도록 사랑받는 이유가 가성비 좋은 스시와 물이 흐르는 공간이 아닐까 생각한다.대부분의 테이블에서 물이 흐르는 개울가에서 맛있는 음식을 먹는 경험을 한다. 대부분 웨이팅이 1시간 전후 있으니 6인 이상은 예약이 가능하니 이용하고 인원이 5인 이하일때는 인스타 이용하면 대기번호 우선으로 올려 주니 이 방법을 이용하면 좋을듯하다. 자리에 앉으면 뷔페를 이용하면 된다. 특이점은 스시는 깔금한 조리복을 입은 쉐프들이 만드는 모습을 라이브로 볼수 있다는 것이다. 이부분도 많은 강점으로 작용한다. 죽, 볶음우동. 해산물 만두 오뎅, 튀김, 구이류, 과일 디저트, 커피, 플레인요거트 등등 다양한 요리도 곁들이면서 즐길수 있다. 전용주차장넓어 주차하기\\xa0편해요.\\\\n\\\\n\\\\n\\\\n\\\\n\\\\n\\\\n\\\\n\\\\n\\\\n4. 헤이마\\\\n\\\\nㅇ 주소 : 대구 동구 파계로 583\\\\n\\\\nㅇ\\xa0 영업시간 : 매일 10:00\\xa0-\\xa022:00ㅇ 전화번호 : 053-986-7773\\\\n\\\\nㅇ 메뉴\\xa0- 아메리카노 :\\xa05,000원\\xa0- 카페라떼 :\\xa05,500원\\xa0- 카푸치노 :\\xa05,500원\\xa0- 플랫화이트 :\\xa05,500원ㅇ 홈페이지 : http://www.cafeheima.co.kr\\\\n\\\\n\\\\n\\\\n헤이마(HEIMA)는 아이슬란드어로 \\'집\\'이라는 의미를 가지고 있습니다. 몸과 마음이 쉴 수 있는 안식처의 개념을 포함하고 있는 헤이마는 사람들의 정서적인 만족을 얻을 수 있는 공간이 되길 바라는 마음에서 만들어진 공간입니다. 뷰와 인테리어 맛 모두 만족스러운 곳이며, 커피나 빵도 맛있고 주차도 편해서 모임하기 좋은 카페입니다.\\\\n\\\\n\\\\n\\\\n\\\\n\\\\n\\\\n\\\\n\\\\n\\\\n\\\\n\\\\n5. 곤지곤지\\\\n\\\\nㅇ 주소 : 대구 달성군 가창면 퇴계길 43-8 ㅇ 영업시간 : 11:30\\xa0-\\xa020:30ㅇ 전화번호 : 053-766-2112\\\\n\\\\nㅇ 메뉴\\xa0- 강된장자연보리밥 :\\xa08,000원\\xa0- 고등어구이 :\\xa05,000원\\xa0- 아침에만든두부 :\\xa08,000원\\xa0- 오리훈제바베큐 :\\xa020,000원\\\\n\\\\n\\\\n\\\\n가창면 산자락에 널찍하게 자리 잡은 한식당입니다. 취향에 맞게 비벼 먹을 수 있도록 콩비지와 된장찌개 나물을 곁들여지는 옛날 보리밥이 이곳의 대표 메뉴인데요, 그 외에도 식사에 곁들이기 좋은 촌 두부, 고등어구이 등의 메뉴와 오리 훈제 바비큐, 돼지 바비큐 등의 요리가 준비되어 있지요. 주차하기 편해요. 가격에 비해 음식이 맛도 있고 반찬가지수도 많고, 가끔 드라이버하다 맛집으로 찾아오면 좋을거 같아요\\\\n\\\\n\\\\n\\\\n\\\\n\\\\n\\\\n\\\\n\\\\n\\\\n6. 서민갈비\\\\n\\\\nㅇ 주소 : 대구 수성구 들안로 8-5 ㅇ 영업시간 : 11:30\\xa0-\\xa023:00ㅇ 전화번호 : 053-761-2267\\\\n\\\\nㅇ 메뉴\\xa0- 김재동갈비 : 12,000원\\xa0- 제주 흑돼지생구이(600g) : 45,000원\\xa0- 전복구이 : 30,000원\\xa0- 압력돌솥밥 : 6,000원\\\\n\\\\n서민갈비는 들 안길 먹자골목 30년 역사를 함께한 돼지갈비 전문점입니다. 육부 작업으로는 잔뼈가 굵은 오랜 경력의 전문가들이 직접 갈비를 매일 수 작업합니다.\\xa0 돼지갈비가 생각나면 항상 들리는 곳. 아는 맛이라 더 무섭습니다. 고기 다 구워주고, 찬들도 필요한 것들만 나오며 깔끔하니 맛있습니다. 식사는 강하고 찐한 맛을 원한다면 기본 된장찌개, 구수한 해물맛을 원한다면 전복해물뚝배기. 테이블 회전율도 빨라 복잡아도 많이 기다리지 않아요.\\\\n\\\\n\\\\n\\\\n\\\\n\\\\n\\\\n\\\\n\\\\n\\\\n\\\\n\\\\n7. 고령촌돼지찌개\\\\n\\\\nㅇ주소 : 대구 남구 앞산순환로 440-1 ㅇ 영업시간 : 매일 11:00\\xa0-\\xa023:00ㅇ 전화번호 : 053-626-0780\\\\n\\\\nㅇ 메뉴\\\\n\\\\n-\\xa0고령촌 돼지찌개(소 (3~2인)) :\\xa022,000원\\xa0- 고령촌 돼지찌개(중 (4~3인)) :\\xa0\\xa030,000원\\xa0- 고령촌 돼지찌개(대 (5~4인)) :\\xa037,000원\\xa0- 석쇠불고기(참나무장작구이)(2인) :\\xa023,000원\\\\n\\\\n\\\\n\\\\n대구의 앞산 안지랑골에 위치한 고령촌돼지찌개입니다. 10년째 항상 신선한 재료만 엄선 조리하며 내 가족이 먹는다 생각하고 만들어 왔습니다. 어머니가 해주시던 깊고 얼큰 칼칼한 가정식 촌돼지찌개를 맛보실 수 있어요! 손수 직접 작업한 돼지 한 마리 모든 부위를 찌개에 담았습니다.\\xa0 돼지찌개는 비조리 상태로 나와 강불에 재료들을 살짝 볶은 다음 육수를 부어줍니다 그래서 그런지 모든 조리가 끝난 후에 먹은 국물 맛은 정말 시원 칼칼하고 깊은 감칠맛이 나면서 너무 맛있었습니다. 참나무로\\xa0초벌한\\xa0석쇠불고기와\\xa0삼겹살,\\xa0목살도\\xa0꼭\\xa0맛보시기\\xa0바랍니다.\\\\n\\\\n\\\\n\\\\n\\\\n\\\\n\\\\n\\\\n\\\\n\\\\n\\\\n\\\\n8. 룰리커피 가창점\\\\n\\\\nㅇ 주소 : 대구 달성군 가창면 우록길 76 ㅇ 영업시간 : 매일 10:00\\xa0-\\xa022:00 ㅇ 전화번호 : 070-7823-7637\\\\n\\\\nㅇ 메뉴\\xa0- 바게트1/2사이즈+스프레스 2종 선택 : 7,500원\\xa0- 바게트one사이즈+스프레스 2종 선택 : 9,500원\\xa0- 토마토수프 : 8,500원\\xa0- 머쉬룸 수프 : 8,500원\\\\n\\\\nㅇ 홈페이지 : http://www.rullycoffee.com\\\\n\\\\n\\\\n\\\\n룰리는 역시 아이스크림커피입니다! 고모역 룰리와 비교했을 때 밀크커피가 이곳이 훨씬 맛있고, 왠지 아이스크림도 더 맛있어 보임 ㅎ 매장\\xa0층고가\\xa0높아서\\xa0사람이\\xa0많아도\\xa0소리가\\xa0시끄럽게\\xa0느껴지지\\xa0않네용.\\xa0소리는\\xa0위쪽으로\\xa0승천하나\\xa0봅니다~^\\xa0특히\\xa0카페정면에\\xa0저수지전망이\\xa0이쁘네요.\\xa0저수지뷰도\\xa0이쁠\\xa0수\\xa0있구나\\xa0알게\\xa0되었음.\\\\n\\\\n\\\\n\\\\n\\\\n\\\\n\\\\n\\\\n\\\\n\\\\n9. 리안\\\\n\\\\nㅇ 주소 : 대구 수성구 교학로4길 48 ㅇ 영업시간 : 11:30 ~ 21:00ㅇ 전화번호 : 053-746-0203\\\\n\\\\nㅇ 메뉴\\xa0- 짜장면 : 5,000원\\xa0- 만두 : 6,000원\\xa0- 짬뽕 : 7,000원\\xa0- 야끼우동 : 8,000원\\\\n\\\\n\\\\n\\\\n대구시전체 통틀어 탕수육 판매량 단연 독보적인1위 중식당입니다. 손님이 엄청나게 많은데 내방하는손님의 95%이상이 탕수육을먹고있는 신기한 중식당입니다. 점심과저녁시간에는 대기가 꽤있는편인데 주방에서는 주문과상관없이 탕수육을튀깁니다. 그러다보니 테이블회전이빠르고 복불복이지만 비교적 음식은빨리나오는편입니다. 탕수육튀김옷이두꺼운편이고소스는많이달콤합니다. 야끼우동도양파야채많이들어간달콤한맛입니다. 탕수육 야끼우동 쟁반짜장 모두 남녀노소누가먹어도 그냥맛있다느낄정도의 보편적인맛입니다.\\\\n\\\\n\\\\n\\\\n\\\\n\\\\n\\\\n\\\\n\\\\n\\\\n10. 낙영찜갈비 본점\\\\n\\\\nㅇ 주소 : 대구 중구 동덕로36길 9-17 ㅇ 영업시간 :\\xa0 매일 10:00\\xa0-\\xa021:00ㅇ 전화번호 : 053-423-3330\\\\n\\\\nㅇ TV방송정보 \\xa0-\\xa0 맛있는녀석들 346회, 21.10.08 찜갈비\\\\n\\\\nㅇ 메뉴\\xa0- 수입 갈비찜 :\\xa020,000원\\xa0- 한우 갈비찜 :\\xa030,000원\\xa0- 갈비살찌개 :\\xa07,000원\\xa0- 소고기찌개 :\\xa08,000원 ㅇ 홈페이지 : https://www.daegufood.go.kr/kor/food/food2.asp?idx=264&gotoPage=6&snm=75&ta=5\\\\n\\\\n\\\\n\\\\n음식이 시키자마자 거의 1분안에 나온다 음식 나오는 속도는 5G다. 양은 그냥 저냥 적당히 주는듯하다 맛은 짜지않고 맛있고 맵기조절 가능하다. 고기 먹고 양념에 김가루넣어 비벼먹길 추천한다. 먹다보니 비빔밥은 순삭이다. 입에\\xa0넣기전부터\\xa0마늘\\xa0향이\\xa0잔뜩\\xa0나서,\\xa0마늘을\\xa0좋아하는\\xa0저에겐\\xa0좋았습니다!\\xa0그런데\\xa0제\\xa0입맛엔\\xa0밥이랑\\xa0같이\\xa0먹어도\\xa0좀\\xa0짜더라구요\\\\n\\\\n\\\\n\\\\n\\\\n\\\\n\\\\n\\\\n\\\\n\\\\n\\\\n\\\\n11. 안지랑 곱창 골목\\\\n\\\\nㅇ 주소 : 대구 남구 안지랑로16길 67 ㅇ 영업시간 :\\xa0ㅇ 전화번호 : 0507-1336-4119\\\\n\\\\nㅇ 홈페이지 : https://blog.naver.com/mscase 1980년 시장 인근에서 양념곱창으로 서민들의 입맛을 사로잡으셨던 충북곱창할머님을 시작으로 1997년 IMF를 겪으면서 안지랑 시장 외곽인 안지랑 골짜기 물이 흐르던 도로에 10여 개의 양념곱창점포가 형성되었다. 2000년 이후 안지랑 오거리에서 안지랑 시장까지 점포수가 급격히 증가하게 되어 현재는 50여 개의 점포가 형성되었으며, 2007년 이후 50여 개의 점포 사장님들과 상인회 우만환 회장님의 노력으로 \\'남구청지정업소\\'라는 타이틀을 얻게 됨과 동시에 인근 대학 학생들의 도움으로 \\'젊음의 거리\\'로 활성화되기 시작했습니다.\\\\n\\\\n\\\\n\\\\n\\\\n\\\\n\\\\n\\\\n\\\\n\\\\n\\\\n\\\\n오늘은 대구 맛집 베스트10은 대덕식당, 오퐁드부아, 바르미스시뷔페 두산점, 헤이마, 곤지곤지, 서민갈비, 고령촌돼지찌개, 룰리커피 가창점, 리안, 낙영찜갈비 본점\\xa0 10곳과 추가 안지랑 곱창골목까지 총 11곳 알려 드렸습니다.\\\\n\\\\n\\\\n\\\\n< 대구 맛집 추천 영상으로 보기 >\\\\n\\\\n< 같이보면 좋은내용 : 생활의 달인 대구 맛집 추천 >\\\\n\\\\n대구 맛집 베스트10_생활의 달인 맛집\\\\n\\\\n오늘은 생활의 맛집에서도 정말 맛있다는 대구맛집 베스트10을 선정하여 소개시켜드리겠습니다. 생활의 달인외 많은 방송에도 소개된 맛집들입니다. 오늘 소개시켜드릴 대구맛집으로 운수좋은\\\\n\\\\ntodaytrip.tistory.com\\\\n\\\\n< 같이보면 좋은내용 : 경주 맛집 추천 >\\\\n\\\\n경주 맛집 베스트10_유명해서 많이 방문하는곳 TOP10\\\\n\\\\n안녕하세요. 전국맛집을 소개시켜드리는 일상탈출입니다. 오늘은 경주 맛집 추천해 드리겠습니다. 경주 맛집 베스트10은 사람들이 많이 방문하는곳이며, 웨이팅 시간이 있는 음식점도 있습니다\\\\n\\\\ntodaytrip.tistory.com\\\\n\\\\n\\'맛거리\\' 카테고리의 다른 글\\\\n\\\\n삼척 맛집 베스트10 유명해서 많이 방문하는 음식점 TOP10(4) | 2023.02.28\\\\n여수 맛집 베스트10 유명해서 많이 방문하는 음식점 11곳(4) | 2023.02.25\\\\n광양 맛집 베스트10 유명해서 많이 방문하는 곳 TOP10(3) | 2023.02.23\\\\n여의도 맛집 베스트 10 유명해서 많이 방문하는 음식점(4) | 2023.02.22\\\\n울진 맛집 베스트10 유명해서 많이 방문하는 음식점 TOP10(0) | 2023.02.20\\\\n태그\\\\n\\\\n관련글 더보기\\\\n\\\\n삼척 맛집 베스트10 유명해서 많이 방문하는 음식점 TOP10\\\\n\\\\n2023.02.28\\\\n\\\\n여수 맛집 베스트10 유명해서 많이 방문하는 음식점 11곳\\\\n\\\\n2023.02.25\\\\n\\\\n광양 맛집 베스트10 유명해서 많이 방문하는 곳 TOP10\\\\n\\\\n2023.02.23\\\\n\\\\n여의도 맛집 베스트 10 유명해서 많이 방문하는 음식점\\\\n\\\\n2023.02.22\\\\n\\\\n댓글 영역\\\\n\\\\n추가 정보\\\\n\\\\n인기글\\\\n\\\\n2025.03.13 03:36\\\\n\\\\n2025.03.15 06:42\\\\n\\\\n2025.03.19 02:49\\\\n\\\\n2025.03.09 02:23\\\\n\\\\n최신글\\\\n\\\\n맛거리\\\\n\\\\n축제소개\\\\n\\\\n맛거리\\\\n\\\\n맛거리\\\\n\\\\n티스토리툴바\\\\n\\\\n\\\\n\\\\n\"}]' name='tavily_web_search' id='d1a8808c-0b14-4309-a555-905042dba372' tool_call_id='call_j79yvnjdMfVexrAbyufJfnTd'\n",
      "\n",
      "\n",
      "[2] 메시지 개수 : 3\n",
      "\n",
      "[3] chatbot()에서 실행:\n",
      "메시지 타입: [AIMessage]\n",
      "content='대구의 맛집을 소개합니다! 다음은 대구에서 유명한 맛집 10곳입니다:\\n\\n1. **대덕식당**\\n   - 주소: 대구 남구 앞산순환로 443\\n   - 영업시간: 07:00 - 21:00\\n   - 전화번호: 053-656-8111\\n   - 메뉴: 선지국밥, 육개장 등\\n\\n2. **오퐁드부아**\\n   - 주소: 대구 달성군 가창면 주리2길 104\\n   - 영업시간: 11:00 - 21:00\\n   - 전화번호: 0507-1348-0101\\n   - 메뉴: 에스프레소, 아메리카노 등\\n\\n3. **바르미스시뷔페 두산점**\\n   - 주소: 대구 수성구 무학로 78\\n   - 영업시간: 11:30 - 21:20\\n   - 전화번호: 0507-1402-0051\\n   - 메뉴: 다양한 스시와 뷔페 요리\\n\\n4. **헤이마**\\n   - 주소: 대구 동구 파계로 583\\n   - 영업시간: 10:00 - 22:00\\n   - 전화번호: 053-986-7773\\n   - 메뉴: 아메리카노, 카페라떼 등\\n\\n5. **곤지곤지**\\n   - 주소: 대구 달성군 가창면 퇴계길 43-8\\n   - 영업시간: 11:30 - 20:30\\n   - 전화번호: 053-766-2112\\n   - 메뉴: 강된장자연보리밥, 고등어구이 등\\n\\n6. **서민갈비**\\n   - 주소: 대구 수성구 들안로 8-5\\n   - 영업시간: 11:30 - 23:00\\n   - 전화번호: 053-761-2267\\n   - 메뉴: 돼지갈비, 전복구이 등\\n\\n7. **고령촌돼지찌개**\\n   - 주소: 대구 남구 앞산순환로 440-1\\n   - 영업시간: 11:00 - 23:00\\n   - 전화번호: 053-626-0780\\n   - 메뉴: 돼지찌개, 석쇠불고기 등\\n\\n8. **룰리커피 가창점**\\n   - 주소: 대구 달성군 가창면 우록길 76\\n   - 영업시간: 10:00 - 22:00\\n   - 전화번호: 070-7823-7637\\n   - 메뉴: 바게트, 수프 등\\n\\n9. **리안**\\n   - 주소: 대구 수성구 교학로4길 48\\n   - 영업시간: 11:30 - 21:00\\n   - 전화번호: 053-746-0203\\n   - 메뉴: 짜장면, 탕수육 등\\n\\n10. **낙영찜갈비 본점**\\n    - 주소: 대구 중구 동덕로36길 9-17\\n    - 영업시간: 10:00 - 21:00\\n    - 전화번호: 053-423-3330\\n    - 메뉴: 갈비찜, 소고기찌개 등\\n\\n추가로 **안지랑 곱창골목**도 추천드립니다. 다양한 곱창 요리를 즐길 수 있는 곳입니다.\\n\\n더 자세한 정보는 [여기](https://todaytrip.tistory.com/141)에서 확인하실 수 있습니다.' additional_kwargs={'refusal': None} response_metadata={'token_usage': {'completion_tokens': 811, 'prompt_tokens': 9138, 'total_tokens': 9949, 'completion_tokens_details': {'accepted_prediction_tokens': 0, 'audio_tokens': 0, 'reasoning_tokens': 0, 'rejected_prediction_tokens': 0}, 'prompt_tokens_details': {'audio_tokens': 0, 'cached_tokens': 9088}}, 'model_name': 'gpt-4o-mini-2024-07-18', 'system_fingerprint': 'fp_b8bc95a0ac', 'finish_reason': 'stop', 'logprobs': None} id='run-2cc4bf8b-9638-4cee-8ded-04a9bd1bb2cf-0' usage_metadata={'input_tokens': 9138, 'output_tokens': 811, 'total_tokens': 9949, 'input_token_details': {'audio': 0, 'cache_read': 9088}, 'output_token_details': {'audio': 0, 'reasoning': 0}}\n",
      "\n",
      "[4] chatbot()에서 실행 후 메시지 개수: [HumanMessage][AIMessage][ToolMessage] [AIMessage] 4\n",
      "===== chatbot() 함수  끝 =====\n",
      "\n",
      "\n",
      "========================= 여기서 시작 ====================\n",
      "[event] 바깥 for 시작\n",
      "\n",
      "실행한 노드 이름: chatbot\n",
      "\n",
      "==================== AIMessage ========================\n",
      "[해당 노드 값] content: 대구의 맛집을 소개합니다! 다음은 대구에서 유명한 맛집 10곳입니다:\n",
      "\n",
      "1. **대덕식당**\n",
      "   - 주소: 대구 남구 앞산순환로 443\n",
      "   - 영업시간: 07:00 - 21:00\n",
      "   - 전화번호: 053-656-8111\n",
      "   - 메뉴: 선지국밥, 육개장 등\n",
      "\n",
      "2. **오퐁드부아**\n",
      "   - 주소: 대구 달성군 가창면 주리2길 104\n",
      "   - 영업시간: 11:00 - 21:00\n",
      "   - 전화번호: 0507-1348-0101\n",
      "   - 메뉴: 에스프레소, 아메리카노 등\n",
      "\n",
      "3. **바르미스시뷔페 두산점**\n",
      "   - 주소: 대구 수성구 무학로 78\n",
      "   - 영업시간: 11:30 - 21:20\n",
      "   - 전화번호: 0507-1402-0051\n",
      "   - 메뉴: 다양한 스시와 뷔페 요리\n",
      "\n",
      "4. **헤이마**\n",
      "   - 주소: 대구 동구 파계로 583\n",
      "   - 영업시간: 10:00 - 22:00\n",
      "   - 전화번호: 053-986-7773\n",
      "   - 메뉴: 아메리카노, 카페라떼 등\n",
      "\n",
      "5. **곤지곤지**\n",
      "   - 주소: 대구 달성군 가창면 퇴계길 43-8\n",
      "   - 영업시간: 11:30 - 20:30\n",
      "   - 전화번호: 053-766-2112\n",
      "   - 메뉴: 강된장자연보리밥, 고등어구이 등\n",
      "\n",
      "6. **서민갈비**\n",
      "   - 주소: 대구 수성구 들안로 8-5\n",
      "   - 영업시간: 11:30 - 23:00\n",
      "   - 전화번호: 053-761-2267\n",
      "   - 메뉴: 돼지갈비, 전복구이 등\n",
      "\n",
      "7. **고령촌돼지찌개**\n",
      "   - 주소: 대구 남구 앞산순환로 440-1\n",
      "   - 영업시간: 11:00 - 23:00\n",
      "   - 전화번호: 053-626-0780\n",
      "   - 메뉴: 돼지찌개, 석쇠불고기 등\n",
      "\n",
      "8. **룰리커피 가창점**\n",
      "   - 주소: 대구 달성군 가창면 우록길 76\n",
      "   - 영업시간: 10:00 - 22:00\n",
      "   - 전화번호: 070-7823-7637\n",
      "   - 메뉴: 바게트, 수프 등\n",
      "\n",
      "9. **리안**\n",
      "   - 주소: 대구 수성구 교학로4길 48\n",
      "   - 영업시간: 11:30 - 21:00\n",
      "   - 전화번호: 053-746-0203\n",
      "   - 메뉴: 짜장면, 탕수육 등\n",
      "\n",
      "10. **낙영찜갈비 본점**\n",
      "    - 주소: 대구 중구 동덕로36길 9-17\n",
      "    - 영업시간: 10:00 - 21:00\n",
      "    - 전화번호: 053-423-3330\n",
      "    - 메뉴: 갈비찜, 소고기찌개 등\n",
      "\n",
      "추가로 **안지랑 곱창골목**도 추천드립니다. 다양한 곱창 요리를 즐길 수 있는 곳입니다.\n",
      "\n",
      "더 자세한 정보는 [여기](https://todaytrip.tistory.com/141)에서 확인하실 수 있습니다.\n",
      "tool call 없음\n",
      "==================== END AIMessage ====================\n",
      "\n",
      "바깥 for 끝\n",
      "========================= 여기서 끝 =========================\n",
      "\n"
     ]
    }
   ],
   "source": [
    "from langchain_teddynote.graphs import generate_random_hash\n",
    "from langchain_core.runnables import RunnableConfig\n",
    "import json\n",
    "\n",
    "thread_id = generate_random_hash()\n",
    "print(f\"thread_id: {thread_id}\")\n",
    "\n",
    "# config 설정\n",
    "config = RunnableConfig(\n",
    "    recursion_limit=10,             \n",
    "    configurable={\"thread_id\": thread_id},  \n",
    "    tags=[\"data-tag\"],                  \n",
    ")\n",
    "\n",
    "question = '대구 맛집을 알려줘?'\n",
    "\n",
    "state = State(messages=[('user', question)])\n",
    "\n",
    "for event in graph.stream({\"messages\": [(\"user\", question)]}, config=config):\n",
    "    print()\n",
    "    print('========================= 여기서 시작 ====================')\n",
    "    print(f'[event] 바깥 for 시작')\n",
    "    print()\n",
    "\n",
    "    for k, value in event.items():\n",
    "        print(f'실행한 노드 이름: {k}')\n",
    "        print()\n",
    "\n",
    "        if isinstance(value['messages'][-1], HumanMessage):\n",
    "            print('==================== HumanMessage ========================')\n",
    "            # print(f\"[해당 노드 값] value : \\n{value['messages'][-1]}\")\n",
    "            print(f\"[해당 노드 값] content: {value['messages'][-1].content}\")\n",
    "            print('==================== END HumanMessage ====================')\n",
    "            print()\n",
    "        elif isinstance(value['messages'][-1], AIMessage):\n",
    "            print('==================== AIMessage ========================')\n",
    "            # print(f\"[해당 노드 값] value : \\n{value['messages'][-1]}\")\n",
    "            print(f\"[해당 노드 값] content: {value['messages'][-1].content}\")\n",
    "\n",
    "            if hasattr(value['messages'][-1], 'tool_calls') and len(value['messages'][-1].tool_calls) > 0:\n",
    "                print('tool call 있음')\n",
    "\n",
    "                tool_result = value['messages'][-1].tool_calls\n",
    "\n",
    "                print(f\"도구 이름 : {tool_result[0]['name']}\")\n",
    "                print(f\"도구 인자: {tool_result[0]['args']}\")            \n",
    "            else:\n",
    "                print('tool call 없음')                \n",
    "            print('==================== END AIMessage ====================')    \n",
    "\n",
    "        elif isinstance(value['messages'][-1], ToolMessage):\n",
    "            print('==================== ToolMessage ========================')\n",
    "            # print(f\"[해당 노드 값] value : \\n{value['messages'][-1]}\")\n",
    "            # print(f\"[해당 노드 값] content : \\n{value['messages'][-1].content}\")\n",
    "            # print(f\"[해당 노드 값] 도구 name : {value['messages'][-1].name}\")\n",
    "            print(f\"[해당 노드 값] 도구 도구 이름 : {value['messages'][-1].name}\")\n",
    "\n",
    "            content = json.loads(value['messages'][-1].content)\n",
    "\n",
    "            if content and isinstance(content, list) and len(content) > 0:                \n",
    "                print(f\"[해당 노드 값] 제목: {content[0].get('title', 'No title')}\")\n",
    "                print(f\"[해당 노드 값] URL: {content[0].get('url', 'No URL')}\")\n",
    "                print(f\"[해당 노드 값] 내용: {content[0].get('content', 'No URL')}\")                \n",
    "            else:\n",
    "                print(\"No content or invalid content format in ToolMessage\")\n",
    "\n",
    "            print('==================== END ToolMessage ====================')   \n",
    "\n",
    "        print()\n",
    "\n",
    "    print('바깥 for 끝')\n",
    "    print('========================= 여기서 끝 =========================') \n",
    "    print()"
   ]
  },
  {
   "cell_type": "code",
   "execution_count": 93,
   "metadata": {},
   "outputs": [
    {
     "name": "stdout",
     "output_type": "stream",
     "text": [
      "===== chatbot() 함수 시작 =====\n",
      "[1] chatbot() 으로 넘어온 메시지: \n",
      "메시지 타입: [HumanMessage]\n",
      "content='`소프트웨어놀이터`에서 코딩강의를 하고 있는 이인환입니다.' additional_kwargs={} response_metadata={} id='79b63abb-52a5-4e87-9c30-3f68b4958c6f'\n",
      "\n",
      "\n",
      "[2] 메시지 개수 : 1\n",
      "\n",
      "[3] chatbot()에서 실행:\n",
      "메시지 타입: [AIMessage]\n",
      "content='안녕하세요, 이인환님! 소프트웨어놀이터에서 코딩 강의를 하고 계시다니 멋지네요. 어떤 주제로 강의를 진행하고 계신가요? 도움이 필요하시거나 궁금한 점이 있다면 말씀해 주세요!' additional_kwargs={'refusal': None} response_metadata={'token_usage': {'completion_tokens': 57, 'prompt_tokens': 110, 'total_tokens': 167, 'completion_tokens_details': {'accepted_prediction_tokens': 0, 'audio_tokens': 0, 'reasoning_tokens': 0, 'rejected_prediction_tokens': 0}, 'prompt_tokens_details': {'audio_tokens': 0, 'cached_tokens': 0}}, 'model_name': 'gpt-4o-mini-2024-07-18', 'system_fingerprint': 'fp_b8bc95a0ac', 'finish_reason': 'stop', 'logprobs': None} id='run-64709124-cf5c-4171-b4e4-7d0bb8df6122-0' usage_metadata={'input_tokens': 110, 'output_tokens': 57, 'total_tokens': 167, 'input_token_details': {'audio': 0, 'cache_read': 0}, 'output_token_details': {'audio': 0, 'reasoning': 0}}\n",
      "\n",
      "[4] chatbot()에서 실행 후 메시지 개수: [HumanMessage] [AIMessage] 2\n",
      "===== chatbot() 함수  끝 =====\n",
      "\n",
      "==================================\u001b[1m Ai Message \u001b[0m==================================\n",
      "\n",
      "안녕하세요, 이인환님! 소프트웨어놀이터에서 코딩 강의를 하고 계시다니 멋지네요. 어떤 주제로 강의를 진행하고 계신가요? 도움이 필요하시거나 궁금한 점이 있다면 말씀해 주세요!\n"
     ]
    }
   ],
   "source": [
    "config = RunnableConfig(\n",
    "    recursion_limit=10, \n",
    "    configurable={'thread_id': '1'}\n",
    ")\n",
    "\n",
    "question = ('`소프트웨어놀이터`에서 코딩강의를 하고 있는 이인환입니다.')\n",
    "\n",
    "for event in graph.stream({\"messages\": [(\"user\", question)]}, config=config):\n",
    "    for value in event.values():\n",
    "        value[\"messages\"][-1].pretty_print()"
   ]
  },
  {
   "cell_type": "code",
   "execution_count": 94,
   "metadata": {},
   "outputs": [],
   "source": [
    "config = RunnableConfig(\n",
    "    recursion_limit=10, \n",
    "    configurable={'thread_id': '1'}\n",
    ")\n",
    "\n",
    "snapshot = graph.get_state(config=config)"
   ]
  },
  {
   "cell_type": "code",
   "execution_count": 95,
   "metadata": {},
   "outputs": [
    {
     "data": {
      "text/plain": [
       "StateSnapshot(values={'messages': [HumanMessage(content='`소프트웨어놀이터`에서 코딩강의를 하고 있는 이인환입니다.', additional_kwargs={}, response_metadata={}, id='79b63abb-52a5-4e87-9c30-3f68b4958c6f'), AIMessage(content='안녕하세요, 이인환님! 소프트웨어놀이터에서 코딩 강의를 하고 계시다니 멋지네요. 어떤 주제로 강의를 진행하고 계신가요? 도움이 필요하시거나 궁금한 점이 있다면 말씀해 주세요!', additional_kwargs={'refusal': None}, response_metadata={'token_usage': {'completion_tokens': 57, 'prompt_tokens': 110, 'total_tokens': 167, 'completion_tokens_details': {'accepted_prediction_tokens': 0, 'audio_tokens': 0, 'reasoning_tokens': 0, 'rejected_prediction_tokens': 0}, 'prompt_tokens_details': {'audio_tokens': 0, 'cached_tokens': 0}}, 'model_name': 'gpt-4o-mini-2024-07-18', 'system_fingerprint': 'fp_b8bc95a0ac', 'finish_reason': 'stop', 'logprobs': None}, id='run-64709124-cf5c-4171-b4e4-7d0bb8df6122-0', usage_metadata={'input_tokens': 110, 'output_tokens': 57, 'total_tokens': 167, 'input_token_details': {'audio': 0, 'cache_read': 0}, 'output_token_details': {'audio': 0, 'reasoning': 0}})]}, next=(), config={'configurable': {'thread_id': '1', 'checkpoint_ns': '', 'checkpoint_id': '1f006285-8655-6b9e-8001-0e1620b3f7f3'}}, metadata={'source': 'loop', 'writes': {'chatbot': {'messages': [AIMessage(content='안녕하세요, 이인환님! 소프트웨어놀이터에서 코딩 강의를 하고 계시다니 멋지네요. 어떤 주제로 강의를 진행하고 계신가요? 도움이 필요하시거나 궁금한 점이 있다면 말씀해 주세요!', additional_kwargs={'refusal': None}, response_metadata={'token_usage': {'completion_tokens': 57, 'prompt_tokens': 110, 'total_tokens': 167, 'completion_tokens_details': {'accepted_prediction_tokens': 0, 'audio_tokens': 0, 'reasoning_tokens': 0, 'rejected_prediction_tokens': 0}, 'prompt_tokens_details': {'audio_tokens': 0, 'cached_tokens': 0}}, 'model_name': 'gpt-4o-mini-2024-07-18', 'system_fingerprint': 'fp_b8bc95a0ac', 'finish_reason': 'stop', 'logprobs': None}, id='run-64709124-cf5c-4171-b4e4-7d0bb8df6122-0', usage_metadata={'input_tokens': 110, 'output_tokens': 57, 'total_tokens': 167, 'input_token_details': {'audio': 0, 'cache_read': 0}, 'output_token_details': {'audio': 0, 'reasoning': 0}})]}}, 'thread_id': '1', 'step': 1, 'parents': {}}, created_at='2025-03-21T07:44:39.998147+00:00', parent_config={'configurable': {'thread_id': '1', 'checkpoint_ns': '', 'checkpoint_id': '1f006285-747a-6b47-8000-2b893090b79d'}}, tasks=())"
      ]
     },
     "execution_count": 95,
     "metadata": {},
     "output_type": "execute_result"
    }
   ],
   "source": [
    "snapshot"
   ]
  },
  {
   "cell_type": "code",
   "execution_count": 96,
   "metadata": {},
   "outputs": [
    {
     "data": {
      "text/plain": [
       "{'configurable': {'thread_id': '1',\n",
       "  'checkpoint_ns': '',\n",
       "  'checkpoint_id': '1f006285-8655-6b9e-8001-0e1620b3f7f3'}}"
      ]
     },
     "execution_count": 96,
     "metadata": {},
     "output_type": "execute_result"
    }
   ],
   "source": [
    "snapshot.config"
   ]
  },
  {
   "cell_type": "code",
   "execution_count": 97,
   "metadata": {},
   "outputs": [
    {
     "data": {
      "text/plain": [
       "{'messages': [HumanMessage(content='`소프트웨어놀이터`에서 코딩강의를 하고 있는 이인환입니다.', additional_kwargs={}, response_metadata={}, id='79b63abb-52a5-4e87-9c30-3f68b4958c6f'),\n",
       "  AIMessage(content='안녕하세요, 이인환님! 소프트웨어놀이터에서 코딩 강의를 하고 계시다니 멋지네요. 어떤 주제로 강의를 진행하고 계신가요? 도움이 필요하시거나 궁금한 점이 있다면 말씀해 주세요!', additional_kwargs={'refusal': None}, response_metadata={'token_usage': {'completion_tokens': 57, 'prompt_tokens': 110, 'total_tokens': 167, 'completion_tokens_details': {'accepted_prediction_tokens': 0, 'audio_tokens': 0, 'reasoning_tokens': 0, 'rejected_prediction_tokens': 0}, 'prompt_tokens_details': {'audio_tokens': 0, 'cached_tokens': 0}}, 'model_name': 'gpt-4o-mini-2024-07-18', 'system_fingerprint': 'fp_b8bc95a0ac', 'finish_reason': 'stop', 'logprobs': None}, id='run-64709124-cf5c-4171-b4e4-7d0bb8df6122-0', usage_metadata={'input_tokens': 110, 'output_tokens': 57, 'total_tokens': 167, 'input_token_details': {'audio': 0, 'cache_read': 0}, 'output_token_details': {'audio': 0, 'reasoning': 0}})]}"
      ]
     },
     "execution_count": 97,
     "metadata": {},
     "output_type": "execute_result"
    }
   ],
   "source": [
    "snapshot.values"
   ]
  },
  {
   "cell_type": "code",
   "execution_count": 98,
   "metadata": {},
   "outputs": [
    {
     "data": {
      "text/plain": [
       "()"
      ]
     },
     "execution_count": 98,
     "metadata": {},
     "output_type": "execute_result"
    }
   ],
   "source": [
    "snapshot.next"
   ]
  },
  {
   "cell_type": "code",
   "execution_count": 99,
   "metadata": {},
   "outputs": [
    {
     "data": {
      "text/plain": [
       "{'source': 'loop',\n",
       " 'writes': {'chatbot': {'messages': [AIMessage(content='안녕하세요, 이인환님! 소프트웨어놀이터에서 코딩 강의를 하고 계시다니 멋지네요. 어떤 주제로 강의를 진행하고 계신가요? 도움이 필요하시거나 궁금한 점이 있다면 말씀해 주세요!', additional_kwargs={'refusal': None}, response_metadata={'token_usage': {'completion_tokens': 57, 'prompt_tokens': 110, 'total_tokens': 167, 'completion_tokens_details': {'accepted_prediction_tokens': 0, 'audio_tokens': 0, 'reasoning_tokens': 0, 'rejected_prediction_tokens': 0}, 'prompt_tokens_details': {'audio_tokens': 0, 'cached_tokens': 0}}, 'model_name': 'gpt-4o-mini-2024-07-18', 'system_fingerprint': 'fp_b8bc95a0ac', 'finish_reason': 'stop', 'logprobs': None}, id='run-64709124-cf5c-4171-b4e4-7d0bb8df6122-0', usage_metadata={'input_tokens': 110, 'output_tokens': 57, 'total_tokens': 167, 'input_token_details': {'audio': 0, 'cache_read': 0}, 'output_token_details': {'audio': 0, 'reasoning': 0}})]}},\n",
       " 'thread_id': '1',\n",
       " 'step': 1,\n",
       " 'parents': {}}"
      ]
     },
     "execution_count": 99,
     "metadata": {},
     "output_type": "execute_result"
    }
   ],
   "source": [
    "snapshot.metadata"
   ]
  },
  {
   "cell_type": "code",
   "execution_count": 100,
   "metadata": {},
   "outputs": [
    {
     "data": {
      "text/plain": [
       "AIMessage(content='안녕하세요, 이인환님! 소프트웨어놀이터에서 코딩 강의를 하고 계시다니 멋지네요. 어떤 주제로 강의를 진행하고 계신가요? 도움이 필요하시거나 궁금한 점이 있다면 말씀해 주세요!', additional_kwargs={'refusal': None}, response_metadata={'token_usage': {'completion_tokens': 57, 'prompt_tokens': 110, 'total_tokens': 167, 'completion_tokens_details': {'accepted_prediction_tokens': 0, 'audio_tokens': 0, 'reasoning_tokens': 0, 'rejected_prediction_tokens': 0}, 'prompt_tokens_details': {'audio_tokens': 0, 'cached_tokens': 0}}, 'model_name': 'gpt-4o-mini-2024-07-18', 'system_fingerprint': 'fp_b8bc95a0ac', 'finish_reason': 'stop', 'logprobs': None}, id='run-64709124-cf5c-4171-b4e4-7d0bb8df6122-0', usage_metadata={'input_tokens': 110, 'output_tokens': 57, 'total_tokens': 167, 'input_token_details': {'audio': 0, 'cache_read': 0}, 'output_token_details': {'audio': 0, 'reasoning': 0}})"
      ]
     },
     "execution_count": 100,
     "metadata": {},
     "output_type": "execute_result"
    }
   ],
   "source": [
    "snapshot.metadata['writes']['chatbot']['messages'][0]"
   ]
  },
  {
   "cell_type": "code",
   "execution_count": 101,
   "metadata": {},
   "outputs": [
    {
     "name": "stdout",
     "output_type": "stream",
     "text": [
      "    \u001b[93msource\u001b[0m: \"loop\"\n",
      "    \u001b[93mwrites\u001b[0m:\n",
      "        \u001b[94mchatbot\u001b[0m:\n",
      "            \u001b[95mmessages\u001b[0m:\n",
      "                \u001b[95mindex [0]\u001b[0m\n",
      "                    \u001b[96mcontent\u001b[0m: \"안녕하세요, 이인환님! 소프트웨어놀이터에서 코딩 강의를 하고 계시다니 멋지네요. 어떤 주제로 강의를 진행하고 계신가요? 도움이 필요하시거나 궁금한 점이 있다면 말씀해 주세요!\"\n",
      "                    \u001b[96madditional_kwargs\u001b[0m: {\"refusal\": None}\n",
      "                    \u001b[96mresponse_metadata\u001b[0m:\n",
      "                        \u001b[96mtoken_usage\u001b[0m:\n",
      "                            \u001b[96mcompletion_tokens\u001b[0m: 57\n",
      "                            \u001b[96mprompt_tokens\u001b[0m: 110\n",
      "                            \u001b[96mtotal_tokens\u001b[0m: 167\n",
      "                            \u001b[96mcompletion_tokens_details\u001b[0m: {\"accepted_prediction_tokens\": 0, \"audio_tokens\": 0, \"reasoning_tokens\": 0, \"rejected_prediction_tokens\": 0}\n",
      "                            \u001b[96mprompt_tokens_details\u001b[0m: {\"audio_tokens\": 0, \"cached_tokens\": 0}\n",
      "                        \u001b[96mmodel_name\u001b[0m: \"gpt-4o-mini-2024-07-18\"\n",
      "                        \u001b[96msystem_fingerprint\u001b[0m: \"fp_b8bc95a0ac\"\n",
      "                        \u001b[96mfinish_reason\u001b[0m: \"stop\"\n",
      "                        \u001b[96mlogprobs\u001b[0m: None\n",
      "                    \u001b[96mtype\u001b[0m: \"ai\"\n",
      "                    \u001b[96mname\u001b[0m: None\n",
      "                    \u001b[96mid\u001b[0m: \"run-64709124-cf5c-4171-b4e4-7d0bb8df6122-0\"\n",
      "                    \u001b[96mexample\u001b[0m: False\n",
      "                    \u001b[96mtool_calls\u001b[0m:\n",
      "                    \u001b[96minvalid_tool_calls\u001b[0m:\n",
      "                    \u001b[96musage_metadata\u001b[0m:\n",
      "                        \u001b[96minput_tokens\u001b[0m: 110\n",
      "                        \u001b[96moutput_tokens\u001b[0m: 57\n",
      "                        \u001b[96mtotal_tokens\u001b[0m: 167\n",
      "                        \u001b[96minput_token_details\u001b[0m: {\"audio\": 0, \"cache_read\": 0}\n",
      "                        \u001b[96moutput_token_details\u001b[0m: {\"audio\": 0, \"reasoning\": 0}\n",
      "    \u001b[93mthread_id\u001b[0m: \"1\"\n",
      "    \u001b[93mstep\u001b[0m: 1\n",
      "    \u001b[93mparents\u001b[0m: {}\n"
     ]
    }
   ],
   "source": [
    "from langchain_teddynote.messages import display_message_tree\n",
    "\n",
    "display_message_tree(snapshot.metadata)"
   ]
  }
 ],
 "metadata": {
  "kernelspec": {
   "display_name": "venv",
   "language": "python",
   "name": "python3"
  },
  "language_info": {
   "codemirror_mode": {
    "name": "ipython",
    "version": 3
   },
   "file_extension": ".py",
   "mimetype": "text/x-python",
   "name": "python",
   "nbconvert_exporter": "python",
   "pygments_lexer": "ipython3",
   "version": "3.11.9"
  }
 },
 "nbformat": 4,
 "nbformat_minor": 2
}
