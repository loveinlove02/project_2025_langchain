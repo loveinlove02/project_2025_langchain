{
 "cells": [
  {
   "cell_type": "code",
   "execution_count": 243,
   "metadata": {},
   "outputs": [],
   "source": [
    "from dotenv import load_dotenv\n",
    "import os\n",
    "\n",
    "load_dotenv(verbose=True)\n",
    "key = os.getenv('OPENAI_API_KEY')"
   ]
  },
  {
   "cell_type": "code",
   "execution_count": 244,
   "metadata": {},
   "outputs": [],
   "source": [
    "from langgraph.checkpoint.memory import MemorySaver\n",
    "\n",
    "memory = MemorySaver()"
   ]
  },
  {
   "cell_type": "code",
   "execution_count": 245,
   "metadata": {},
   "outputs": [],
   "source": [
    "from typing import Annotated\n",
    "from typing_extensions import TypedDict\n",
    "from langgraph.graph.message import add_messages"
   ]
  },
  {
   "cell_type": "code",
   "execution_count": 246,
   "metadata": {},
   "outputs": [],
   "source": [
    "from langgraph.graph import StateGraph \n",
    "from langgraph.graph import START, END"
   ]
  },
  {
   "cell_type": "code",
   "execution_count": 247,
   "metadata": {},
   "outputs": [],
   "source": [
    "from langgraph.prebuilt import ToolNode, tools_condition\n",
    "from langchain_teddynote.tools.tavily import TavilySearch"
   ]
  },
  {
   "cell_type": "code",
   "execution_count": 248,
   "metadata": {},
   "outputs": [],
   "source": [
    "from langchain_openai import ChatOpenAI"
   ]
  },
  {
   "cell_type": "code",
   "execution_count": 249,
   "metadata": {},
   "outputs": [],
   "source": [
    "from langchain_teddynote.graphs import visualize_graph"
   ]
  },
  {
   "cell_type": "code",
   "execution_count": 250,
   "metadata": {},
   "outputs": [],
   "source": [
    "######### 1. 상태 정의 #########\n",
    "\n",
    "# 상태 정의\n",
    "class State(TypedDict):\n",
    "    messages: Annotated[list, add_messages]"
   ]
  },
  {
   "cell_type": "code",
   "execution_count": 251,
   "metadata": {},
   "outputs": [],
   "source": [
    "######### 2. 도구 정의 및 바인딩 #########\n",
    "\n",
    "tool = TavilySearch(max_results=1)\n",
    "tools = [tool]"
   ]
  },
  {
   "cell_type": "code",
   "execution_count": 252,
   "metadata": {},
   "outputs": [],
   "source": [
    "######### 3. LLM을 도구와 결합 #########\n",
    "\n",
    "llm = ChatOpenAI(\n",
    "    api_key=key, \n",
    "    model_name='gpt-4o-mini',\n",
    "    temperature=0.1\n",
    ")\n",
    "\n",
    "llm_with_tools = llm.bind_tools(tools)"
   ]
  },
  {
   "cell_type": "code",
   "execution_count": 253,
   "metadata": {},
   "outputs": [],
   "source": [
    "def chatbot(state: State):\n",
    "    answer = llm_with_tools.invoke(state['messages'])\n",
    "\n",
    "    print('=================================================================================')\n",
    "    print(f'chatbot() 실행\\n')\n",
    "    print(f\"[1] state[messages]: \\n{state['messages']}\\n\")\n",
    "    # print(f'[2] chatbot answer: \\n', answer , \"\\n\")\n",
    "    print(f'[2] chatbot answer: \\n', answer.content)\n",
    "    print(f'[3] answer.additional_kwargs: \\n', answer.additional_kwargs)\n",
    "    print('=================================================================================')\n",
    "\n",
    "    return {'messages': [answer]}"
   ]
  },
  {
   "cell_type": "code",
   "execution_count": 254,
   "metadata": {},
   "outputs": [],
   "source": [
    "graph_builder = StateGraph(State)"
   ]
  },
  {
   "cell_type": "code",
   "execution_count": 255,
   "metadata": {},
   "outputs": [
    {
     "data": {
      "text/plain": [
       "<langgraph.graph.state.StateGraph at 0x24573acb7d0>"
      ]
     },
     "execution_count": 255,
     "metadata": {},
     "output_type": "execute_result"
    }
   ],
   "source": [
    "graph_builder.add_node('chatbot', chatbot)"
   ]
  },
  {
   "cell_type": "code",
   "execution_count": 256,
   "metadata": {},
   "outputs": [],
   "source": [
    "tool_node = ToolNode(tools=[tool])"
   ]
  },
  {
   "cell_type": "code",
   "execution_count": 257,
   "metadata": {},
   "outputs": [
    {
     "data": {
      "text/plain": [
       "<langgraph.graph.state.StateGraph at 0x24573acb7d0>"
      ]
     },
     "execution_count": 257,
     "metadata": {},
     "output_type": "execute_result"
    }
   ],
   "source": [
    "graph_builder.add_node('tools', tool_node)"
   ]
  },
  {
   "cell_type": "code",
   "execution_count": 258,
   "metadata": {},
   "outputs": [
    {
     "data": {
      "text/plain": [
       "<langgraph.graph.state.StateGraph at 0x24573acb7d0>"
      ]
     },
     "execution_count": 258,
     "metadata": {},
     "output_type": "execute_result"
    }
   ],
   "source": [
    "graph_builder.add_conditional_edges(\n",
    "    'chatbot',\n",
    "    tools_condition\n",
    ")"
   ]
  },
  {
   "cell_type": "code",
   "execution_count": 259,
   "metadata": {},
   "outputs": [
    {
     "data": {
      "text/plain": [
       "<langgraph.graph.state.StateGraph at 0x24573acb7d0>"
      ]
     },
     "execution_count": 259,
     "metadata": {},
     "output_type": "execute_result"
    }
   ],
   "source": [
    "######### 5. 엣지 추가 #########\n",
    "\n",
    "# tools 에서 chatbot 으로\n",
    "graph_builder.add_edge('tools', 'chatbot')"
   ]
  },
  {
   "cell_type": "code",
   "execution_count": 260,
   "metadata": {},
   "outputs": [
    {
     "data": {
      "text/plain": [
       "<langgraph.graph.state.StateGraph at 0x24573acb7d0>"
      ]
     },
     "execution_count": 260,
     "metadata": {},
     "output_type": "execute_result"
    }
   ],
   "source": [
    "# START 에서 chatbot 으로\n",
    "graph_builder.add_edge(START, 'chatbot')"
   ]
  },
  {
   "cell_type": "code",
   "execution_count": 261,
   "metadata": {},
   "outputs": [
    {
     "data": {
      "text/plain": [
       "<langgraph.graph.state.StateGraph at 0x24573acb7d0>"
      ]
     },
     "execution_count": 261,
     "metadata": {},
     "output_type": "execute_result"
    }
   ],
   "source": [
    "# chatbot 에서 END 로\n",
    "graph_builder.add_edge('chatbot', END)"
   ]
  },
  {
   "cell_type": "code",
   "execution_count": 262,
   "metadata": {},
   "outputs": [],
   "source": [
    "graph = graph_builder.compile(checkpointer=memory)"
   ]
  },
  {
   "cell_type": "code",
   "execution_count": 263,
   "metadata": {},
   "outputs": [
    {
     "data": {
      "image/png": "[encoded data removed]",
      "text/plain": [
       "<IPython.core.display.Image object>"
      ]
     },
     "metadata": {},
     "output_type": "display_data"
    }
   ],
   "source": [
    "visualize_graph(graph)"
   ]
  },
  {
   "cell_type": "code",
   "execution_count": 264,
   "metadata": {},
   "outputs": [],
   "source": [
    "from langchain_core.runnables import RunnableConfig"
   ]
  },
  {
   "cell_type": "code",
   "execution_count": 265,
   "metadata": {},
   "outputs": [],
   "source": [
    "config = RunnableConfig(\n",
    "    recursion_limit=10, \n",
    "    configurable={'thread_id': '1'}\n",
    ")"
   ]
  },
  {
   "cell_type": "code",
   "execution_count": 266,
   "metadata": {},
   "outputs": [
    {
     "name": "stdout",
     "output_type": "stream",
     "text": [
      "=================================================================================\n",
      "chatbot() 실행\n",
      "\n",
      "[1] state[messages]: \n",
      "[HumanMessage(content='`소프트웨어놀이터`에서 코딩강의를 하고 있는 이인환입니다.', additional_kwargs={}, response_metadata={}, id='c0087c2b-23c6-4356-a867-ad6fe85bf283')]\n",
      "\n",
      "[2] chatbot answer: \n",
      " 안녕하세요, 이인환님! 소프트웨어놀이터에서 코딩 강의를 하고 계시다니 멋지네요. 어떤 주제로 강의를 진행하고 계신가요? 도움이 필요하시거나 궁금한 점이 있다면 말씀해 주세요!\n",
      "[3] answer.additional_kwargs: \n",
      " {'refusal': None}\n",
      "=================================================================================\n",
      "[event] 실행 결과\n",
      "[value]: \n",
      "content='안녕하세요, 이인환님! 소프트웨어놀이터에서 코딩 강의를 하고 계시다니 멋지네요. 어떤 주제로 강의를 진행하고 계신가요? 도움이 필요하시거나 궁금한 점이 있다면 말씀해 주세요!' additional_kwargs={'refusal': None} response_metadata={'token_usage': {'completion_tokens': 57, 'prompt_tokens': 110, 'total_tokens': 167, 'completion_tokens_details': {'accepted_prediction_tokens': 0, 'audio_tokens': 0, 'reasoning_tokens': 0, 'rejected_prediction_tokens': 0}, 'prompt_tokens_details': {'audio_tokens': 0, 'cached_tokens': 0}}, 'model_name': 'gpt-4o-mini-2024-07-18', 'system_fingerprint': 'fp_00428b782a', 'finish_reason': 'stop', 'logprobs': None} id='run-f0917870-5e43-4023-90b7-d70f6359966a-0' usage_metadata={'input_tokens': 110, 'output_tokens': 57, 'total_tokens': 167, 'input_token_details': {'audio': 0, 'cache_read': 0}, 'output_token_details': {'audio': 0, 'reasoning': 0}}\n",
      "\t[content]: 안녕하세요, 이인환님! 소프트웨어놀이터에서 코딩 강의를 하고 계시다니 멋지네요. 어떤 주제로 강의를 진행하고 계신가요? 도움이 필요하시거나 궁금한 점이 있다면 말씀해 주세요!\n",
      "\t[additional_kwargs]: \n",
      "\t\t{'refusal': None}\n",
      "\t\t[token_usage]: \n",
      "\t\t\t[completion_tokens]: 57\n",
      "\t\t\t[prompt_tokens]: 110\n",
      "\t\t\t[total_tokens]: 167\n",
      "\t\t\t[completion_tokens_details]: {'accepted_prediction_tokens': 0, 'audio_tokens': 0, 'reasoning_tokens': 0, 'rejected_prediction_tokens': 0}\n",
      "\t\t\t[prompt_tokens_details]: {'audio_tokens': 0, 'cached_tokens': 0}\n",
      "\t\t[model_name]: gpt-4o-mini-2024-07-18\n",
      "\t\t[system_fingerprint]: fp_00428b782a\n",
      "\t\t[finish_reason]: stop\n",
      "\t[id]: \n",
      "\t\t run-f0917870-5e43-4023-90b7-d70f6359966a-0\n",
      "\t[usage_metadata]: \n",
      "\t\t[input_tokens]: 110\n",
      "\t\t[output_tokens]: 57\n",
      "\t\t[total_tokens]: 167\n",
      "\t\t[input_token_details]: {'audio': 0, 'cache_read': 0}\n",
      "\t\t[output_token_details]: {'audio': 0, 'reasoning': 0}\n"
     ]
    }
   ],
   "source": [
    "question = ('`소프트웨어놀이터`에서 코딩강의를 하고 있는 이인환입니다.')\n",
    "\n",
    "for event in graph.stream({\"messages\": [(\"user\", question)]}, config=config):\n",
    "    \n",
    "    print('[event] 실행 결과')\n",
    "\n",
    "    for value in event.values():\n",
    "        print('[value]: ')\n",
    "        print(value['messages'][-1])\n",
    "        \n",
    "        print(f\"\\t[content]: {value['messages'][-1].content}\")\n",
    "\n",
    "        print(f\"\\t[additional_kwargs]: \")\n",
    "        print(f\"\\t\\t{value['messages'][-1].additional_kwargs}\")\n",
    "\n",
    "        print('\\t\\t[token_usage]: ')\n",
    "        # print(f\"\\t\\t\\t {value['messages'][-1].response_metadata['token_usage']}\")\n",
    "        print(f\"\\t\\t\\t[completion_tokens]: {value['messages'][-1].response_metadata['token_usage']['completion_tokens']}\")\n",
    "        print(f\"\\t\\t\\t[prompt_tokens]: {value['messages'][-1].response_metadata['token_usage']['prompt_tokens']}\")\n",
    "        print(f\"\\t\\t\\t[total_tokens]: {value['messages'][-1].response_metadata['token_usage']['total_tokens']}\")\n",
    "        print(f\"\\t\\t\\t[completion_tokens_details]: {value['messages'][-1].response_metadata['token_usage']['completion_tokens_details']}\")\n",
    "        print(f\"\\t\\t\\t[prompt_tokens_details]: {value['messages'][-1].response_metadata['token_usage']['prompt_tokens_details']}\")\n",
    "\n",
    "        print(f\"\\t\\t[model_name]: {value['messages'][-1].response_metadata['model_name']}\")\n",
    "        print(f\"\\t\\t[system_fingerprint]: {value['messages'][-1].response_metadata['system_fingerprint']}\")\n",
    "        print(f\"\\t\\t[finish_reason]: {value['messages'][-1].response_metadata['finish_reason']}\")        \n",
    "        \n",
    "        print('\\t[id]: ')\n",
    "        print(f\"\\t\\t {value['messages'][-1].id}\")\n",
    "\n",
    "        \n",
    "        print('\\t[usage_metadata]: ')\n",
    "        print(f\"\\t\\t[input_tokens]: {value['messages'][-1].usage_metadata['input_tokens']}\")\n",
    "        print(f\"\\t\\t[output_tokens]: {value['messages'][-1].usage_metadata['output_tokens']}\")\n",
    "        print(f\"\\t\\t[total_tokens]: {value['messages'][-1].usage_metadata['total_tokens']}\")\n",
    "        print(f\"\\t\\t[input_token_details]: {value['messages'][-1].usage_metadata['input_token_details']}\")\n",
    "        print(f\"\\t\\t[output_token_details]: {value['messages'][-1].usage_metadata['output_token_details']}\")"
   ]
  },
  {
   "cell_type": "code",
   "execution_count": 267,
   "metadata": {},
   "outputs": [
    {
     "name": "stdout",
     "output_type": "stream",
     "text": [
      "=================================================================================\n",
      "chatbot() 실행\n",
      "\n",
      "[1] state[messages]: \n",
      "[HumanMessage(content='`소프트웨어놀이터`에서 코딩강의를 하고 있는 이인환입니다.', additional_kwargs={}, response_metadata={}, id='c0087c2b-23c6-4356-a867-ad6fe85bf283'), AIMessage(content='안녕하세요, 이인환님! 소프트웨어놀이터에서 코딩 강의를 하고 계시다니 멋지네요. 어떤 주제로 강의를 진행하고 계신가요? 도움이 필요하시거나 궁금한 점이 있다면 말씀해 주세요!', additional_kwargs={'refusal': None}, response_metadata={'token_usage': {'completion_tokens': 57, 'prompt_tokens': 110, 'total_tokens': 167, 'completion_tokens_details': {'accepted_prediction_tokens': 0, 'audio_tokens': 0, 'reasoning_tokens': 0, 'rejected_prediction_tokens': 0}, 'prompt_tokens_details': {'audio_tokens': 0, 'cached_tokens': 0}}, 'model_name': 'gpt-4o-mini-2024-07-18', 'system_fingerprint': 'fp_00428b782a', 'finish_reason': 'stop', 'logprobs': None}, id='run-f0917870-5e43-4023-90b7-d70f6359966a-0', usage_metadata={'input_tokens': 110, 'output_tokens': 57, 'total_tokens': 167, 'input_token_details': {'audio': 0, 'cache_read': 0}, 'output_token_details': {'audio': 0, 'reasoning': 0}}), HumanMessage(content='`소프트웨어놀이터`에서 코딩강의를 하고 있는 이인환입니다.', additional_kwargs={}, response_metadata={}, id='24c87ea9-a9d6-4f20-8928-486760452166')]\n",
      "\n",
      "[2] chatbot answer: \n",
      " 안녕하세요, 이인환님! 소프트웨어놀이터에서 코딩 강의를 하고 계시다니 정말 멋지네요. 어떤 주제나 언어에 대해 강의를 하고 계신가요? 또는 도움이 필요하신 부분이 있다면 말씀해 주세요!\n",
      "[3] answer.additional_kwargs: \n",
      " {'refusal': None}\n",
      "=================================================================================\n",
      "==================================\u001b[1m Ai Message \u001b[0m==================================\n",
      "\n",
      "안녕하세요, 이인환님! 소프트웨어놀이터에서 코딩 강의를 하고 계시다니 정말 멋지네요. 어떤 주제나 언어에 대해 강의를 하고 계신가요? 또는 도움이 필요하신 부분이 있다면 말씀해 주세요!\n"
     ]
    }
   ],
   "source": [
    "question = ('`소프트웨어놀이터`에서 코딩강의를 하고 있는 이인환입니다.')\n",
    "\n",
    "for event in graph.stream({\"messages\": [(\"user\", question)]}, config=config):\n",
    "    for value in event.values():\n",
    "        value[\"messages\"][-1].pretty_print()"
   ]
  },
  {
   "cell_type": "code",
   "execution_count": 268,
   "metadata": {},
   "outputs": [
    {
     "name": "stdout",
     "output_type": "stream",
     "text": [
      "=================================================================================\n",
      "chatbot() 실행\n",
      "\n",
      "[1] state[messages]: \n",
      "[HumanMessage(content='`소프트웨어놀이터`에서 코딩강의를 하고 있는 이인환입니다.', additional_kwargs={}, response_metadata={}, id='c0087c2b-23c6-4356-a867-ad6fe85bf283'), AIMessage(content='안녕하세요, 이인환님! 소프트웨어놀이터에서 코딩 강의를 하고 계시다니 멋지네요. 어떤 주제로 강의를 진행하고 계신가요? 도움이 필요하시거나 궁금한 점이 있다면 말씀해 주세요!', additional_kwargs={'refusal': None}, response_metadata={'token_usage': {'completion_tokens': 57, 'prompt_tokens': 110, 'total_tokens': 167, 'completion_tokens_details': {'accepted_prediction_tokens': 0, 'audio_tokens': 0, 'reasoning_tokens': 0, 'rejected_prediction_tokens': 0}, 'prompt_tokens_details': {'audio_tokens': 0, 'cached_tokens': 0}}, 'model_name': 'gpt-4o-mini-2024-07-18', 'system_fingerprint': 'fp_00428b782a', 'finish_reason': 'stop', 'logprobs': None}, id='run-f0917870-5e43-4023-90b7-d70f6359966a-0', usage_metadata={'input_tokens': 110, 'output_tokens': 57, 'total_tokens': 167, 'input_token_details': {'audio': 0, 'cache_read': 0}, 'output_token_details': {'audio': 0, 'reasoning': 0}}), HumanMessage(content='`소프트웨어놀이터`에서 코딩강의를 하고 있는 이인환입니다.', additional_kwargs={}, response_metadata={}, id='24c87ea9-a9d6-4f20-8928-486760452166'), AIMessage(content='안녕하세요, 이인환님! 소프트웨어놀이터에서 코딩 강의를 하고 계시다니 정말 멋지네요. 어떤 주제나 언어에 대해 강의를 하고 계신가요? 또는 도움이 필요하신 부분이 있다면 말씀해 주세요!', additional_kwargs={'refusal': None}, response_metadata={'token_usage': {'completion_tokens': 60, 'prompt_tokens': 192, 'total_tokens': 252, 'completion_tokens_details': {'accepted_prediction_tokens': 0, 'audio_tokens': 0, 'reasoning_tokens': 0, 'rejected_prediction_tokens': 0}, 'prompt_tokens_details': {'audio_tokens': 0, 'cached_tokens': 0}}, 'model_name': 'gpt-4o-mini-2024-07-18', 'system_fingerprint': 'fp_00428b782a', 'finish_reason': 'stop', 'logprobs': None}, id='run-be30956f-c969-4f37-b4af-40e709bdb5e9-0', usage_metadata={'input_tokens': 192, 'output_tokens': 60, 'total_tokens': 252, 'input_token_details': {'audio': 0, 'cache_read': 0}, 'output_token_details': {'audio': 0, 'reasoning': 0}}), HumanMessage(content='내 이름이 뭐라고 했지?', additional_kwargs={}, response_metadata={}, id='fa7b64c6-660c-4588-97e8-2caa59d2afbf')]\n",
      "\n",
      "[2] chatbot answer: \n",
      " 당신의 이름은 이인환입니다.\n",
      "[3] answer.additional_kwargs: \n",
      " {'refusal': None}\n",
      "=================================================================================\n",
      "[event] 실행 결과\n",
      "[value]: \n",
      "content='당신의 이름은 이인환입니다.' additional_kwargs={'refusal': None} response_metadata={'token_usage': {'completion_tokens': 12, 'prompt_tokens': 266, 'total_tokens': 278, 'completion_tokens_details': {'accepted_prediction_tokens': 0, 'audio_tokens': 0, 'reasoning_tokens': 0, 'rejected_prediction_tokens': 0}, 'prompt_tokens_details': {'audio_tokens': 0, 'cached_tokens': 0}}, 'model_name': 'gpt-4o-mini-2024-07-18', 'system_fingerprint': 'fp_00428b782a', 'finish_reason': 'stop', 'logprobs': None} id='run-59d4db18-4d60-46f7-936e-7c3ede44b338-0' usage_metadata={'input_tokens': 266, 'output_tokens': 12, 'total_tokens': 278, 'input_token_details': {'audio': 0, 'cache_read': 0}, 'output_token_details': {'audio': 0, 'reasoning': 0}}\n",
      "\t[content]: 당신의 이름은 이인환입니다.\n",
      "\t[additional_kwargs]: \n",
      "\t\t{'refusal': None}\n",
      "\t\t[token_usage]: \n",
      "\t\t\t[completion_tokens]: 12\n",
      "\t\t\t[prompt_tokens]: 266\n",
      "\t\t\t[total_tokens]: 278\n",
      "\t\t\t[completion_tokens_details]: {'accepted_prediction_tokens': 0, 'audio_tokens': 0, 'reasoning_tokens': 0, 'rejected_prediction_tokens': 0}\n",
      "\t\t\t[prompt_tokens_details]: {'audio_tokens': 0, 'cached_tokens': 0}\n",
      "\t\t[model_name]: gpt-4o-mini-2024-07-18\n",
      "\t\t[system_fingerprint]: fp_00428b782a\n",
      "\t\t[finish_reason]: stop\n",
      "\t[id]: \n",
      "\t\t run-59d4db18-4d60-46f7-936e-7c3ede44b338-0\n",
      "\t[usage_metadata]: \n",
      "\t\t[input_tokens]: 266\n",
      "\t\t[output_tokens]: 12\n",
      "\t\t[total_tokens]: 278\n",
      "\t\t[input_token_details]: {'audio': 0, 'cache_read': 0}\n",
      "\t\t[output_token_details]: {'audio': 0, 'reasoning': 0}\n"
     ]
    }
   ],
   "source": [
    "# 이어지는 질문\n",
    "question = \"내 이름이 뭐라고 했지?\"\n",
    "\n",
    "for event in graph.stream({\"messages\": [(\"user\", question)]}, config=config):\n",
    "    \n",
    "    print('[event] 실행 결과')\n",
    "\n",
    "    for value in event.values():\n",
    "        print('[value]: ')\n",
    "        print(value['messages'][-1])\n",
    "        \n",
    "        print(f\"\\t[content]: {value['messages'][-1].content}\")\n",
    "\n",
    "        print(f\"\\t[additional_kwargs]: \")\n",
    "        print(f\"\\t\\t{value['messages'][-1].additional_kwargs}\")\n",
    "\n",
    "        print('\\t\\t[token_usage]: ')\n",
    "        # print(f\"\\t\\t\\t {value['messages'][-1].response_metadata['token_usage']}\")\n",
    "        print(f\"\\t\\t\\t[completion_tokens]: {value['messages'][-1].response_metadata['token_usage']['completion_tokens']}\")\n",
    "        print(f\"\\t\\t\\t[prompt_tokens]: {value['messages'][-1].response_metadata['token_usage']['prompt_tokens']}\")\n",
    "        print(f\"\\t\\t\\t[total_tokens]: {value['messages'][-1].response_metadata['token_usage']['total_tokens']}\")\n",
    "        print(f\"\\t\\t\\t[completion_tokens_details]: {value['messages'][-1].response_metadata['token_usage']['completion_tokens_details']}\")\n",
    "        print(f\"\\t\\t\\t[prompt_tokens_details]: {value['messages'][-1].response_metadata['token_usage']['prompt_tokens_details']}\")\n",
    "\n",
    "        print(f\"\\t\\t[model_name]: {value['messages'][-1].response_metadata['model_name']}\")\n",
    "        print(f\"\\t\\t[system_fingerprint]: {value['messages'][-1].response_metadata['system_fingerprint']}\")\n",
    "        print(f\"\\t\\t[finish_reason]: {value['messages'][-1].response_metadata['finish_reason']}\")        \n",
    "        \n",
    "        print('\\t[id]: ')\n",
    "        print(f\"\\t\\t {value['messages'][-1].id}\")\n",
    "\n",
    "        \n",
    "        print('\\t[usage_metadata]: ')\n",
    "        print(f\"\\t\\t[input_tokens]: {value['messages'][-1].usage_metadata['input_tokens']}\")\n",
    "        print(f\"\\t\\t[output_tokens]: {value['messages'][-1].usage_metadata['output_tokens']}\")\n",
    "        print(f\"\\t\\t[total_tokens]: {value['messages'][-1].usage_metadata['total_tokens']}\")\n",
    "        print(f\"\\t\\t[input_token_details]: {value['messages'][-1].usage_metadata['input_token_details']}\")\n",
    "        print(f\"\\t\\t[output_token_details]: {value['messages'][-1].usage_metadata['output_token_details']}\")"
   ]
  },
  {
   "cell_type": "code",
   "execution_count": 269,
   "metadata": {},
   "outputs": [
    {
     "name": "stdout",
     "output_type": "stream",
     "text": [
      "=================================================================================\n",
      "chatbot() 실행\n",
      "\n",
      "[1] state[messages]: \n",
      "[HumanMessage(content='`소프트웨어놀이터`에서 코딩강의를 하고 있는 이인환입니다.', additional_kwargs={}, response_metadata={}, id='c0087c2b-23c6-4356-a867-ad6fe85bf283'), AIMessage(content='안녕하세요, 이인환님! 소프트웨어놀이터에서 코딩 강의를 하고 계시다니 멋지네요. 어떤 주제로 강의를 진행하고 계신가요? 도움이 필요하시거나 궁금한 점이 있다면 말씀해 주세요!', additional_kwargs={'refusal': None}, response_metadata={'token_usage': {'completion_tokens': 57, 'prompt_tokens': 110, 'total_tokens': 167, 'completion_tokens_details': {'accepted_prediction_tokens': 0, 'audio_tokens': 0, 'reasoning_tokens': 0, 'rejected_prediction_tokens': 0}, 'prompt_tokens_details': {'audio_tokens': 0, 'cached_tokens': 0}}, 'model_name': 'gpt-4o-mini-2024-07-18', 'system_fingerprint': 'fp_00428b782a', 'finish_reason': 'stop', 'logprobs': None}, id='run-f0917870-5e43-4023-90b7-d70f6359966a-0', usage_metadata={'input_tokens': 110, 'output_tokens': 57, 'total_tokens': 167, 'input_token_details': {'audio': 0, 'cache_read': 0}, 'output_token_details': {'audio': 0, 'reasoning': 0}}), HumanMessage(content='`소프트웨어놀이터`에서 코딩강의를 하고 있는 이인환입니다.', additional_kwargs={}, response_metadata={}, id='24c87ea9-a9d6-4f20-8928-486760452166'), AIMessage(content='안녕하세요, 이인환님! 소프트웨어놀이터에서 코딩 강의를 하고 계시다니 정말 멋지네요. 어떤 주제나 언어에 대해 강의를 하고 계신가요? 또는 도움이 필요하신 부분이 있다면 말씀해 주세요!', additional_kwargs={'refusal': None}, response_metadata={'token_usage': {'completion_tokens': 60, 'prompt_tokens': 192, 'total_tokens': 252, 'completion_tokens_details': {'accepted_prediction_tokens': 0, 'audio_tokens': 0, 'reasoning_tokens': 0, 'rejected_prediction_tokens': 0}, 'prompt_tokens_details': {'audio_tokens': 0, 'cached_tokens': 0}}, 'model_name': 'gpt-4o-mini-2024-07-18', 'system_fingerprint': 'fp_00428b782a', 'finish_reason': 'stop', 'logprobs': None}, id='run-be30956f-c969-4f37-b4af-40e709bdb5e9-0', usage_metadata={'input_tokens': 192, 'output_tokens': 60, 'total_tokens': 252, 'input_token_details': {'audio': 0, 'cache_read': 0}, 'output_token_details': {'audio': 0, 'reasoning': 0}}), HumanMessage(content='내 이름이 뭐라고 했지?', additional_kwargs={}, response_metadata={}, id='fa7b64c6-660c-4588-97e8-2caa59d2afbf'), AIMessage(content='당신의 이름은 이인환입니다.', additional_kwargs={'refusal': None}, response_metadata={'token_usage': {'completion_tokens': 12, 'prompt_tokens': 266, 'total_tokens': 278, 'completion_tokens_details': {'accepted_prediction_tokens': 0, 'audio_tokens': 0, 'reasoning_tokens': 0, 'rejected_prediction_tokens': 0}, 'prompt_tokens_details': {'audio_tokens': 0, 'cached_tokens': 0}}, 'model_name': 'gpt-4o-mini-2024-07-18', 'system_fingerprint': 'fp_00428b782a', 'finish_reason': 'stop', 'logprobs': None}, id='run-59d4db18-4d60-46f7-936e-7c3ede44b338-0', usage_metadata={'input_tokens': 266, 'output_tokens': 12, 'total_tokens': 278, 'input_token_details': {'audio': 0, 'cache_read': 0}, 'output_token_details': {'audio': 0, 'reasoning': 0}}), HumanMessage(content='내 이름이 뭐라고 했지?', additional_kwargs={}, response_metadata={}, id='9da07bf4-0f44-4a64-a7dd-9cd5af0251ae')]\n",
      "\n",
      "[2] chatbot answer: \n",
      " 당신의 이름은 이인환입니다.\n",
      "[3] answer.additional_kwargs: \n",
      " {'refusal': None}\n",
      "=================================================================================\n",
      "content='당신의 이름은 이인환입니다.' additional_kwargs={'refusal': None} response_metadata={'token_usage': {'completion_tokens': 12, 'prompt_tokens': 292, 'total_tokens': 304, 'completion_tokens_details': {'accepted_prediction_tokens': 0, 'audio_tokens': 0, 'reasoning_tokens': 0, 'rejected_prediction_tokens': 0}, 'prompt_tokens_details': {'audio_tokens': 0, 'cached_tokens': 0}}, 'model_name': 'gpt-4o-mini-2024-07-18', 'system_fingerprint': 'fp_00428b782a', 'finish_reason': 'stop', 'logprobs': None} id='run-cb032dc5-8ea3-416c-91fe-d66f2d276a2d-0' usage_metadata={'input_tokens': 292, 'output_tokens': 12, 'total_tokens': 304, 'input_token_details': {'audio': 0, 'cache_read': 0}, 'output_token_details': {'audio': 0, 'reasoning': 0}}\n"
     ]
    }
   ],
   "source": [
    "question = \"내 이름이 뭐라고 했지?\"\n",
    "\n",
    "for event in graph.stream({\"messages\": [(\"user\", question)]}, config=config):\n",
    "    for value in event.values():\n",
    "        print(value[\"messages\"][-1])"
   ]
  },
  {
   "cell_type": "code",
   "execution_count": 270,
   "metadata": {},
   "outputs": [],
   "source": [
    "config = RunnableConfig(\n",
    "    recursion_limit=10, \n",
    "    configurable={'thread_id': '1'}\n",
    ")\n",
    "\n",
    "snapshot = graph.get_state(config=config)"
   ]
  },
  {
   "cell_type": "code",
   "execution_count": 271,
   "metadata": {},
   "outputs": [
    {
     "data": {
      "text/plain": [
       "StateSnapshot(values={'messages': [HumanMessage(content='`소프트웨어놀이터`에서 코딩강의를 하고 있는 이인환입니다.', additional_kwargs={}, response_metadata={}, id='c0087c2b-23c6-4356-a867-ad6fe85bf283'), AIMessage(content='안녕하세요, 이인환님! 소프트웨어놀이터에서 코딩 강의를 하고 계시다니 멋지네요. 어떤 주제로 강의를 진행하고 계신가요? 도움이 필요하시거나 궁금한 점이 있다면 말씀해 주세요!', additional_kwargs={'refusal': None}, response_metadata={'token_usage': {'completion_tokens': 57, 'prompt_tokens': 110, 'total_tokens': 167, 'completion_tokens_details': {'accepted_prediction_tokens': 0, 'audio_tokens': 0, 'reasoning_tokens': 0, 'rejected_prediction_tokens': 0}, 'prompt_tokens_details': {'audio_tokens': 0, 'cached_tokens': 0}}, 'model_name': 'gpt-4o-mini-2024-07-18', 'system_fingerprint': 'fp_00428b782a', 'finish_reason': 'stop', 'logprobs': None}, id='run-f0917870-5e43-4023-90b7-d70f6359966a-0', usage_metadata={'input_tokens': 110, 'output_tokens': 57, 'total_tokens': 167, 'input_token_details': {'audio': 0, 'cache_read': 0}, 'output_token_details': {'audio': 0, 'reasoning': 0}}), HumanMessage(content='`소프트웨어놀이터`에서 코딩강의를 하고 있는 이인환입니다.', additional_kwargs={}, response_metadata={}, id='24c87ea9-a9d6-4f20-8928-486760452166'), AIMessage(content='안녕하세요, 이인환님! 소프트웨어놀이터에서 코딩 강의를 하고 계시다니 정말 멋지네요. 어떤 주제나 언어에 대해 강의를 하고 계신가요? 또는 도움이 필요하신 부분이 있다면 말씀해 주세요!', additional_kwargs={'refusal': None}, response_metadata={'token_usage': {'completion_tokens': 60, 'prompt_tokens': 192, 'total_tokens': 252, 'completion_tokens_details': {'accepted_prediction_tokens': 0, 'audio_tokens': 0, 'reasoning_tokens': 0, 'rejected_prediction_tokens': 0}, 'prompt_tokens_details': {'audio_tokens': 0, 'cached_tokens': 0}}, 'model_name': 'gpt-4o-mini-2024-07-18', 'system_fingerprint': 'fp_00428b782a', 'finish_reason': 'stop', 'logprobs': None}, id='run-be30956f-c969-4f37-b4af-40e709bdb5e9-0', usage_metadata={'input_tokens': 192, 'output_tokens': 60, 'total_tokens': 252, 'input_token_details': {'audio': 0, 'cache_read': 0}, 'output_token_details': {'audio': 0, 'reasoning': 0}}), HumanMessage(content='내 이름이 뭐라고 했지?', additional_kwargs={}, response_metadata={}, id='fa7b64c6-660c-4588-97e8-2caa59d2afbf'), AIMessage(content='당신의 이름은 이인환입니다.', additional_kwargs={'refusal': None}, response_metadata={'token_usage': {'completion_tokens': 12, 'prompt_tokens': 266, 'total_tokens': 278, 'completion_tokens_details': {'accepted_prediction_tokens': 0, 'audio_tokens': 0, 'reasoning_tokens': 0, 'rejected_prediction_tokens': 0}, 'prompt_tokens_details': {'audio_tokens': 0, 'cached_tokens': 0}}, 'model_name': 'gpt-4o-mini-2024-07-18', 'system_fingerprint': 'fp_00428b782a', 'finish_reason': 'stop', 'logprobs': None}, id='run-59d4db18-4d60-46f7-936e-7c3ede44b338-0', usage_metadata={'input_tokens': 266, 'output_tokens': 12, 'total_tokens': 278, 'input_token_details': {'audio': 0, 'cache_read': 0}, 'output_token_details': {'audio': 0, 'reasoning': 0}}), HumanMessage(content='내 이름이 뭐라고 했지?', additional_kwargs={}, response_metadata={}, id='9da07bf4-0f44-4a64-a7dd-9cd5af0251ae'), AIMessage(content='당신의 이름은 이인환입니다.', additional_kwargs={'refusal': None}, response_metadata={'token_usage': {'completion_tokens': 12, 'prompt_tokens': 292, 'total_tokens': 304, 'completion_tokens_details': {'accepted_prediction_tokens': 0, 'audio_tokens': 0, 'reasoning_tokens': 0, 'rejected_prediction_tokens': 0}, 'prompt_tokens_details': {'audio_tokens': 0, 'cached_tokens': 0}}, 'model_name': 'gpt-4o-mini-2024-07-18', 'system_fingerprint': 'fp_00428b782a', 'finish_reason': 'stop', 'logprobs': None}, id='run-cb032dc5-8ea3-416c-91fe-d66f2d276a2d-0', usage_metadata={'input_tokens': 292, 'output_tokens': 12, 'total_tokens': 304, 'input_token_details': {'audio': 0, 'cache_read': 0}, 'output_token_details': {'audio': 0, 'reasoning': 0}})]}, next=(), config={'configurable': {'thread_id': '1', 'checkpoint_ns': '', 'checkpoint_id': '1efef66a-fe5e-6948-800a-bb9d43f2d297'}}, metadata={'source': 'loop', 'writes': {'chatbot': {'messages': [AIMessage(content='당신의 이름은 이인환입니다.', additional_kwargs={'refusal': None}, response_metadata={'token_usage': {'completion_tokens': 12, 'prompt_tokens': 292, 'total_tokens': 304, 'completion_tokens_details': {'accepted_prediction_tokens': 0, 'audio_tokens': 0, 'reasoning_tokens': 0, 'rejected_prediction_tokens': 0}, 'prompt_tokens_details': {'audio_tokens': 0, 'cached_tokens': 0}}, 'model_name': 'gpt-4o-mini-2024-07-18', 'system_fingerprint': 'fp_00428b782a', 'finish_reason': 'stop', 'logprobs': None}, id='run-cb032dc5-8ea3-416c-91fe-d66f2d276a2d-0', usage_metadata={'input_tokens': 292, 'output_tokens': 12, 'total_tokens': 304, 'input_token_details': {'audio': 0, 'cache_read': 0}, 'output_token_details': {'audio': 0, 'reasoning': 0}})]}}, 'thread_id': '1', 'step': 10, 'parents': {}}, created_at='2025-02-20T08:42:58.855764+00:00', parent_config={'configurable': {'thread_id': '1', 'checkpoint_ns': '', 'checkpoint_id': '1efef66a-f26d-6fcc-8009-274acc26db39'}}, tasks=())"
      ]
     },
     "execution_count": 271,
     "metadata": {},
     "output_type": "execute_result"
    }
   ],
   "source": [
    "snapshot"
   ]
  },
  {
   "cell_type": "code",
   "execution_count": 273,
   "metadata": {},
   "outputs": [
    {
     "data": {
      "text/plain": [
       "{'configurable': {'thread_id': '1',\n",
       "  'checkpoint_ns': '',\n",
       "  'checkpoint_id': '1efef66a-fe5e-6948-800a-bb9d43f2d297'}}"
      ]
     },
     "execution_count": 273,
     "metadata": {},
     "output_type": "execute_result"
    }
   ],
   "source": [
    "snapshot.config"
   ]
  },
  {
   "cell_type": "code",
   "execution_count": 274,
   "metadata": {},
   "outputs": [
    {
     "data": {
      "text/plain": [
       "{'messages': [HumanMessage(content='`소프트웨어놀이터`에서 코딩강의를 하고 있는 이인환입니다.', additional_kwargs={}, response_metadata={}, id='c0087c2b-23c6-4356-a867-ad6fe85bf283'),\n",
       "  AIMessage(content='안녕하세요, 이인환님! 소프트웨어놀이터에서 코딩 강의를 하고 계시다니 멋지네요. 어떤 주제로 강의를 진행하고 계신가요? 도움이 필요하시거나 궁금한 점이 있다면 말씀해 주세요!', additional_kwargs={'refusal': None}, response_metadata={'token_usage': {'completion_tokens': 57, 'prompt_tokens': 110, 'total_tokens': 167, 'completion_tokens_details': {'accepted_prediction_tokens': 0, 'audio_tokens': 0, 'reasoning_tokens': 0, 'rejected_prediction_tokens': 0}, 'prompt_tokens_details': {'audio_tokens': 0, 'cached_tokens': 0}}, 'model_name': 'gpt-4o-mini-2024-07-18', 'system_fingerprint': 'fp_00428b782a', 'finish_reason': 'stop', 'logprobs': None}, id='run-f0917870-5e43-4023-90b7-d70f6359966a-0', usage_metadata={'input_tokens': 110, 'output_tokens': 57, 'total_tokens': 167, 'input_token_details': {'audio': 0, 'cache_read': 0}, 'output_token_details': {'audio': 0, 'reasoning': 0}}),\n",
       "  HumanMessage(content='`소프트웨어놀이터`에서 코딩강의를 하고 있는 이인환입니다.', additional_kwargs={}, response_metadata={}, id='24c87ea9-a9d6-4f20-8928-486760452166'),\n",
       "  AIMessage(content='안녕하세요, 이인환님! 소프트웨어놀이터에서 코딩 강의를 하고 계시다니 정말 멋지네요. 어떤 주제나 언어에 대해 강의를 하고 계신가요? 또는 도움이 필요하신 부분이 있다면 말씀해 주세요!', additional_kwargs={'refusal': None}, response_metadata={'token_usage': {'completion_tokens': 60, 'prompt_tokens': 192, 'total_tokens': 252, 'completion_tokens_details': {'accepted_prediction_tokens': 0, 'audio_tokens': 0, 'reasoning_tokens': 0, 'rejected_prediction_tokens': 0}, 'prompt_tokens_details': {'audio_tokens': 0, 'cached_tokens': 0}}, 'model_name': 'gpt-4o-mini-2024-07-18', 'system_fingerprint': 'fp_00428b782a', 'finish_reason': 'stop', 'logprobs': None}, id='run-be30956f-c969-4f37-b4af-40e709bdb5e9-0', usage_metadata={'input_tokens': 192, 'output_tokens': 60, 'total_tokens': 252, 'input_token_details': {'audio': 0, 'cache_read': 0}, 'output_token_details': {'audio': 0, 'reasoning': 0}}),\n",
       "  HumanMessage(content='내 이름이 뭐라고 했지?', additional_kwargs={}, response_metadata={}, id='fa7b64c6-660c-4588-97e8-2caa59d2afbf'),\n",
       "  AIMessage(content='당신의 이름은 이인환입니다.', additional_kwargs={'refusal': None}, response_metadata={'token_usage': {'completion_tokens': 12, 'prompt_tokens': 266, 'total_tokens': 278, 'completion_tokens_details': {'accepted_prediction_tokens': 0, 'audio_tokens': 0, 'reasoning_tokens': 0, 'rejected_prediction_tokens': 0}, 'prompt_tokens_details': {'audio_tokens': 0, 'cached_tokens': 0}}, 'model_name': 'gpt-4o-mini-2024-07-18', 'system_fingerprint': 'fp_00428b782a', 'finish_reason': 'stop', 'logprobs': None}, id='run-59d4db18-4d60-46f7-936e-7c3ede44b338-0', usage_metadata={'input_tokens': 266, 'output_tokens': 12, 'total_tokens': 278, 'input_token_details': {'audio': 0, 'cache_read': 0}, 'output_token_details': {'audio': 0, 'reasoning': 0}}),\n",
       "  HumanMessage(content='내 이름이 뭐라고 했지?', additional_kwargs={}, response_metadata={}, id='9da07bf4-0f44-4a64-a7dd-9cd5af0251ae'),\n",
       "  AIMessage(content='당신의 이름은 이인환입니다.', additional_kwargs={'refusal': None}, response_metadata={'token_usage': {'completion_tokens': 12, 'prompt_tokens': 292, 'total_tokens': 304, 'completion_tokens_details': {'accepted_prediction_tokens': 0, 'audio_tokens': 0, 'reasoning_tokens': 0, 'rejected_prediction_tokens': 0}, 'prompt_tokens_details': {'audio_tokens': 0, 'cached_tokens': 0}}, 'model_name': 'gpt-4o-mini-2024-07-18', 'system_fingerprint': 'fp_00428b782a', 'finish_reason': 'stop', 'logprobs': None}, id='run-cb032dc5-8ea3-416c-91fe-d66f2d276a2d-0', usage_metadata={'input_tokens': 292, 'output_tokens': 12, 'total_tokens': 304, 'input_token_details': {'audio': 0, 'cache_read': 0}, 'output_token_details': {'audio': 0, 'reasoning': 0}})]}"
      ]
     },
     "execution_count": 274,
     "metadata": {},
     "output_type": "execute_result"
    }
   ],
   "source": [
    "snapshot.values"
   ]
  },
  {
   "cell_type": "code",
   "execution_count": 275,
   "metadata": {},
   "outputs": [
    {
     "data": {
      "text/plain": [
       "()"
      ]
     },
     "execution_count": 275,
     "metadata": {},
     "output_type": "execute_result"
    }
   ],
   "source": [
    "snapshot.next"
   ]
  },
  {
   "cell_type": "code",
   "execution_count": 276,
   "metadata": {},
   "outputs": [
    {
     "data": {
      "text/plain": [
       "{'source': 'loop',\n",
       " 'writes': {'chatbot': {'messages': [AIMessage(content='당신의 이름은 이인환입니다.', additional_kwargs={'refusal': None}, response_metadata={'token_usage': {'completion_tokens': 12, 'prompt_tokens': 292, 'total_tokens': 304, 'completion_tokens_details': {'accepted_prediction_tokens': 0, 'audio_tokens': 0, 'reasoning_tokens': 0, 'rejected_prediction_tokens': 0}, 'prompt_tokens_details': {'audio_tokens': 0, 'cached_tokens': 0}}, 'model_name': 'gpt-4o-mini-2024-07-18', 'system_fingerprint': 'fp_00428b782a', 'finish_reason': 'stop', 'logprobs': None}, id='run-cb032dc5-8ea3-416c-91fe-d66f2d276a2d-0', usage_metadata={'input_tokens': 292, 'output_tokens': 12, 'total_tokens': 304, 'input_token_details': {'audio': 0, 'cache_read': 0}, 'output_token_details': {'audio': 0, 'reasoning': 0}})]}},\n",
       " 'thread_id': '1',\n",
       " 'step': 10,\n",
       " 'parents': {}}"
      ]
     },
     "execution_count": 276,
     "metadata": {},
     "output_type": "execute_result"
    }
   ],
   "source": [
    "snapshot.metadata"
   ]
  },
  {
   "cell_type": "code",
   "execution_count": 277,
   "metadata": {},
   "outputs": [
    {
     "data": {
      "text/plain": [
       "AIMessage(content='당신의 이름은 이인환입니다.', additional_kwargs={'refusal': None}, response_metadata={'token_usage': {'completion_tokens': 12, 'prompt_tokens': 292, 'total_tokens': 304, 'completion_tokens_details': {'accepted_prediction_tokens': 0, 'audio_tokens': 0, 'reasoning_tokens': 0, 'rejected_prediction_tokens': 0}, 'prompt_tokens_details': {'audio_tokens': 0, 'cached_tokens': 0}}, 'model_name': 'gpt-4o-mini-2024-07-18', 'system_fingerprint': 'fp_00428b782a', 'finish_reason': 'stop', 'logprobs': None}, id='run-cb032dc5-8ea3-416c-91fe-d66f2d276a2d-0', usage_metadata={'input_tokens': 292, 'output_tokens': 12, 'total_tokens': 304, 'input_token_details': {'audio': 0, 'cache_read': 0}, 'output_token_details': {'audio': 0, 'reasoning': 0}})"
      ]
     },
     "execution_count": 277,
     "metadata": {},
     "output_type": "execute_result"
    }
   ],
   "source": [
    "snapshot.metadata['writes']['chatbot']['messages'][0]"
   ]
  },
  {
   "cell_type": "code",
   "execution_count": 278,
   "metadata": {},
   "outputs": [
    {
     "name": "stdout",
     "output_type": "stream",
     "text": [
      "    \u001b[93msource\u001b[0m: \"loop\"\n",
      "    \u001b[93mwrites\u001b[0m:\n",
      "        \u001b[94mchatbot\u001b[0m:\n",
      "            \u001b[95mmessages\u001b[0m:\n",
      "                \u001b[95mindex [0]\u001b[0m\n",
      "                    \u001b[96mcontent\u001b[0m: \"당신의 이름은 이인환입니다.\"\n",
      "                    \u001b[96madditional_kwargs\u001b[0m: {\"refusal\": None}\n",
      "                    \u001b[96mresponse_metadata\u001b[0m:\n",
      "                        \u001b[96mtoken_usage\u001b[0m:\n",
      "                            \u001b[96mcompletion_tokens\u001b[0m: 12\n",
      "                            \u001b[96mprompt_tokens\u001b[0m: 292\n",
      "                            \u001b[96mtotal_tokens\u001b[0m: 304\n",
      "                            \u001b[96mcompletion_tokens_details\u001b[0m: {\"accepted_prediction_tokens\": 0, \"audio_tokens\": 0, \"reasoning_tokens\": 0, \"rejected_prediction_tokens\": 0}\n",
      "                            \u001b[96mprompt_tokens_details\u001b[0m: {\"audio_tokens\": 0, \"cached_tokens\": 0}\n",
      "                        \u001b[96mmodel_name\u001b[0m: \"gpt-4o-mini-2024-07-18\"\n",
      "                        \u001b[96msystem_fingerprint\u001b[0m: \"fp_00428b782a\"\n",
      "                        \u001b[96mfinish_reason\u001b[0m: \"stop\"\n",
      "                        \u001b[96mlogprobs\u001b[0m: None\n",
      "                    \u001b[96mtype\u001b[0m: \"ai\"\n",
      "                    \u001b[96mname\u001b[0m: None\n",
      "                    \u001b[96mid\u001b[0m: \"run-cb032dc5-8ea3-416c-91fe-d66f2d276a2d-0\"\n",
      "                    \u001b[96mexample\u001b[0m: False\n",
      "                    \u001b[96mtool_calls\u001b[0m:\n",
      "                    \u001b[96minvalid_tool_calls\u001b[0m:\n",
      "                    \u001b[96musage_metadata\u001b[0m:\n",
      "                        \u001b[96minput_tokens\u001b[0m: 292\n",
      "                        \u001b[96moutput_tokens\u001b[0m: 12\n",
      "                        \u001b[96mtotal_tokens\u001b[0m: 304\n",
      "                        \u001b[96minput_token_details\u001b[0m: {\"audio\": 0, \"cache_read\": 0}\n",
      "                        \u001b[96moutput_token_details\u001b[0m: {\"audio\": 0, \"reasoning\": 0}\n",
      "    \u001b[93mthread_id\u001b[0m: \"1\"\n",
      "    \u001b[93mstep\u001b[0m: 10\n",
      "    \u001b[93mparents\u001b[0m: {}\n"
     ]
    }
   ],
   "source": [
    "from langchain_teddynote.messages import display_message_tree\n",
    "\n",
    "display_message_tree(snapshot.metadata)"
   ]
  }
 ],
 "metadata": {
  "kernelspec": {
   "display_name": "venv",
   "language": "python",
   "name": "python3"
  },
  "language_info": {
   "codemirror_mode": {
    "name": "ipython",
    "version": 3
   },
   "file_extension": ".py",
   "mimetype": "text/x-python",
   "name": "python",
   "nbconvert_exporter": "python",
   "pygments_lexer": "ipython3",
   "version": "3.11.9"
  }
 },
 "nbformat": 4,
 "nbformat_minor": 2
}
