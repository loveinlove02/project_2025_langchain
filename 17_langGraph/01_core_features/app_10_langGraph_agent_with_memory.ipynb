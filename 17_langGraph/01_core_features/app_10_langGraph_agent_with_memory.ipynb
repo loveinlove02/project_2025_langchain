{
 "cells": [
  {
   "cell_type": "code",
   "execution_count": 280,
   "metadata": {},
   "outputs": [],
   "source": [
    "from dotenv import load_dotenv\n",
    "import os\n",
    "\n",
    "load_dotenv(verbose=True)\n",
    "key = os.getenv('OPENAI_API_KEY')"
   ]
  },
  {
   "cell_type": "code",
   "execution_count": 281,
   "metadata": {},
   "outputs": [],
   "source": [
    "from langgraph.checkpoint.memory import MemorySaver\n",
    "\n",
    "memory = MemorySaver()"
   ]
  },
  {
   "cell_type": "code",
   "execution_count": 282,
   "metadata": {},
   "outputs": [],
   "source": [
    "from typing import Annotated\n",
    "from typing_extensions import TypedDict\n",
    "from langgraph.graph.message import add_messages"
   ]
  },
  {
   "cell_type": "code",
   "execution_count": 283,
   "metadata": {},
   "outputs": [],
   "source": [
    "from langgraph.graph import StateGraph \n",
    "from langgraph.graph import START, END"
   ]
  },
  {
   "cell_type": "code",
   "execution_count": 284,
   "metadata": {},
   "outputs": [],
   "source": [
    "from langgraph.prebuilt import ToolNode, tools_condition\n",
    "from langchain_teddynote.tools.tavily import TavilySearch"
   ]
  },
  {
   "cell_type": "code",
   "execution_count": 285,
   "metadata": {},
   "outputs": [],
   "source": [
    "from langchain_core.messages import HumanMessage\n",
    "from langchain_core.messages import AIMessage, ToolMessage"
   ]
  },
  {
   "cell_type": "code",
   "execution_count": 286,
   "metadata": {},
   "outputs": [],
   "source": [
    "from langchain_openai import ChatOpenAI"
   ]
  },
  {
   "cell_type": "code",
   "execution_count": 287,
   "metadata": {},
   "outputs": [],
   "source": [
    "from langchain_teddynote.graphs import visualize_graph"
   ]
  },
  {
   "cell_type": "code",
   "execution_count": 288,
   "metadata": {},
   "outputs": [],
   "source": [
    "######### 1. 상태 정의 #########\n",
    "\n",
    "# 상태 정의\n",
    "class State(TypedDict):\n",
    "    messages: Annotated[list, add_messages]"
   ]
  },
  {
   "cell_type": "code",
   "execution_count": 289,
   "metadata": {},
   "outputs": [],
   "source": [
    "######### 2. 도구 정의 및 바인딩 #########\n",
    "\n",
    "tool = TavilySearch(max_results=1)\n",
    "tools = [tool]"
   ]
  },
  {
   "cell_type": "code",
   "execution_count": 290,
   "metadata": {},
   "outputs": [],
   "source": [
    "######### 3. LLM을 도구와 결합 #########\n",
    "\n",
    "llm = ChatOpenAI(\n",
    "    api_key=key, \n",
    "    model_name='gpt-4o-mini',\n",
    "    temperature=0.1\n",
    ")\n",
    "\n",
    "llm_with_tools = llm.bind_tools(tools)"
   ]
  },
  {
   "cell_type": "code",
   "execution_count": 291,
   "metadata": {},
   "outputs": [],
   "source": [
    "def chatbot(state: State):\n",
    "    print(f'=='*50)\n",
    "    print('===== chatbot() 함수 시작 =====')\n",
    "    print(f\"chatbot() 으로 넘어온 메시지 :\")\n",
    "    print(state['messages'])\n",
    "    print(f\"메시지 개수 : {len(state['messages'])}\")\n",
    "    print()\n",
    "\n",
    "    answer = llm_with_tools.invoke(state['messages'])\n",
    "\n",
    "    print(f'[도구 사용 LLM 실행 결과 content]: {answer.content}')\n",
    "    print(f'[도구 사용 LLM 실행 결과 answer]: {answer}')\n",
    "    print(f'[도구 사용 LLM 실행 결과 additional_kwargs]: {answer.additional_kwargs}')\n",
    "\n",
    "    print('===== chatbot() 함수  끝 =====')\n",
    "    print(f'=='*50)\n",
    "    print()\n",
    "\n",
    "    return {'messages': [answer]}"
   ]
  },
  {
   "cell_type": "code",
   "execution_count": 292,
   "metadata": {},
   "outputs": [
    {
     "name": "stdout",
     "output_type": "stream",
     "text": [
      "====================================================================================================\n",
      "===== chatbot() 함수 시작 =====\n",
      "chatbot() 으로 넘어온 메시지 :\n",
      "[('user', '대구 맛있는 고기집에 대해서 알려줘')]\n",
      "메시지 개수 : 1\n",
      "\n",
      "[도구 사용 LLM 실행 결과 content]: \n",
      "[도구 사용 LLM 실행 결과 answer]: content='' additional_kwargs={'tool_calls': [{'id': 'call_Hk3DGawP3cvWFE72RCp6zVWW', 'function': {'arguments': '{\"query\":\"대구 맛있는 고기집\"}', 'name': 'tavily_web_search'}, 'type': 'function'}], 'refusal': None} response_metadata={'token_usage': {'completion_tokens': 24, 'prompt_tokens': 102, 'total_tokens': 126, 'completion_tokens_details': {'accepted_prediction_tokens': 0, 'audio_tokens': 0, 'reasoning_tokens': 0, 'rejected_prediction_tokens': 0}, 'prompt_tokens_details': {'audio_tokens': 0, 'cached_tokens': 0}}, 'model_name': 'gpt-4o-mini-2024-07-18', 'system_fingerprint': 'fp_3267753c5d', 'finish_reason': 'tool_calls', 'logprobs': None} id='run-528fb324-895b-4d72-985f-e98bda7728a9-0' tool_calls=[{'name': 'tavily_web_search', 'args': {'query': '대구 맛있는 고기집'}, 'id': 'call_Hk3DGawP3cvWFE72RCp6zVWW', 'type': 'tool_call'}] usage_metadata={'input_tokens': 102, 'output_tokens': 24, 'total_tokens': 126, 'input_token_details': {'audio': 0, 'cache_read': 0}, 'output_token_details': {'audio': 0, 'reasoning': 0}}\n",
      "[도구 사용 LLM 실행 결과 additional_kwargs]: {'tool_calls': [{'id': 'call_Hk3DGawP3cvWFE72RCp6zVWW', 'function': {'arguments': '{\"query\":\"대구 맛있는 고기집\"}', 'name': 'tavily_web_search'}, 'type': 'function'}], 'refusal': None}\n",
      "===== chatbot() 함수  끝 =====\n",
      "====================================================================================================\n",
      "\n"
     ]
    },
    {
     "data": {
      "text/plain": [
       "{'messages': [AIMessage(content='', additional_kwargs={'tool_calls': [{'id': 'call_Hk3DGawP3cvWFE72RCp6zVWW', 'function': {'arguments': '{\"query\":\"대구 맛있는 고기집\"}', 'name': 'tavily_web_search'}, 'type': 'function'}], 'refusal': None}, response_metadata={'token_usage': {'completion_tokens': 24, 'prompt_tokens': 102, 'total_tokens': 126, 'completion_tokens_details': {'accepted_prediction_tokens': 0, 'audio_tokens': 0, 'reasoning_tokens': 0, 'rejected_prediction_tokens': 0}, 'prompt_tokens_details': {'audio_tokens': 0, 'cached_tokens': 0}}, 'model_name': 'gpt-4o-mini-2024-07-18', 'system_fingerprint': 'fp_3267753c5d', 'finish_reason': 'tool_calls', 'logprobs': None}, id='run-528fb324-895b-4d72-985f-e98bda7728a9-0', tool_calls=[{'name': 'tavily_web_search', 'args': {'query': '대구 맛있는 고기집'}, 'id': 'call_Hk3DGawP3cvWFE72RCp6zVWW', 'type': 'tool_call'}], usage_metadata={'input_tokens': 102, 'output_tokens': 24, 'total_tokens': 126, 'input_token_details': {'audio': 0, 'cache_read': 0}, 'output_token_details': {'audio': 0, 'reasoning': 0}})]}"
      ]
     },
     "execution_count": 292,
     "metadata": {},
     "output_type": "execute_result"
    }
   ],
   "source": [
    "# 테스트\n",
    "question = '대구 맛있는 고기집에 대해서 알려줘'\n",
    "\n",
    "state = State(messages=[('user', question)])\n",
    "chatbot(state)"
   ]
  },
  {
   "cell_type": "code",
   "execution_count": 293,
   "metadata": {},
   "outputs": [],
   "source": [
    "graph_builder = StateGraph(State)               # 그래프 생성"
   ]
  },
  {
   "cell_type": "code",
   "execution_count": 294,
   "metadata": {},
   "outputs": [
    {
     "data": {
      "text/plain": [
       "<langgraph.graph.state.StateGraph at 0x26ab08cab50>"
      ]
     },
     "execution_count": 294,
     "metadata": {},
     "output_type": "execute_result"
    }
   ],
   "source": [
    "graph_builder.add_node('chatbot', chatbot)      # 챗봇 노드 추가"
   ]
  },
  {
   "cell_type": "code",
   "execution_count": 295,
   "metadata": {},
   "outputs": [],
   "source": [
    "tool_node = ToolNode(tools=[tool])              # 도구 노드 생성"
   ]
  },
  {
   "cell_type": "code",
   "execution_count": 296,
   "metadata": {},
   "outputs": [
    {
     "data": {
      "text/plain": [
       "<langgraph.graph.state.StateGraph at 0x26ab08cab50>"
      ]
     },
     "execution_count": 296,
     "metadata": {},
     "output_type": "execute_result"
    }
   ],
   "source": [
    "graph_builder.add_node('tools', tool_node)      # 도구 노드 추가"
   ]
  },
  {
   "cell_type": "code",
   "execution_count": 297,
   "metadata": {},
   "outputs": [
    {
     "data": {
      "text/plain": [
       "<langgraph.graph.state.StateGraph at 0x26ab08cab50>"
      ]
     },
     "execution_count": 297,
     "metadata": {},
     "output_type": "execute_result"
    }
   ],
   "source": [
    "graph_builder.add_conditional_edges(            # 조건부 엣지\n",
    "    'chatbot',\n",
    "    tools_condition\n",
    ")"
   ]
  },
  {
   "cell_type": "code",
   "execution_count": 298,
   "metadata": {},
   "outputs": [
    {
     "data": {
      "text/plain": [
       "<langgraph.graph.state.StateGraph at 0x26ab08cab50>"
      ]
     },
     "execution_count": 298,
     "metadata": {},
     "output_type": "execute_result"
    }
   ],
   "source": [
    "######### 5. 엣지 추가 #########\n",
    "\n",
    "graph_builder.add_edge('tools', 'chatbot')      # tools 에서 chatbot 으로"
   ]
  },
  {
   "cell_type": "code",
   "execution_count": 299,
   "metadata": {},
   "outputs": [
    {
     "data": {
      "text/plain": [
       "<langgraph.graph.state.StateGraph at 0x26ab08cab50>"
      ]
     },
     "execution_count": 299,
     "metadata": {},
     "output_type": "execute_result"
    }
   ],
   "source": [
    "graph_builder.add_edge(START, 'chatbot')        # START 에서 chatbot 으로"
   ]
  },
  {
   "cell_type": "code",
   "execution_count": 300,
   "metadata": {},
   "outputs": [
    {
     "data": {
      "text/plain": [
       "<langgraph.graph.state.StateGraph at 0x26ab08cab50>"
      ]
     },
     "execution_count": 300,
     "metadata": {},
     "output_type": "execute_result"
    }
   ],
   "source": [
    "graph_builder.add_edge('chatbot', END)          # chatbot 에서 END 로"
   ]
  },
  {
   "cell_type": "code",
   "execution_count": 301,
   "metadata": {},
   "outputs": [],
   "source": [
    "graph = graph_builder.compile(checkpointer=memory)"
   ]
  },
  {
   "cell_type": "code",
   "execution_count": 302,
   "metadata": {},
   "outputs": [
    {
     "data": {
      "image/png": "[encoded data removed]",
      "text/plain": [
       "<IPython.core.display.Image object>"
      ]
     },
     "metadata": {},
     "output_type": "display_data"
    }
   ],
   "source": [
    "visualize_graph(graph)"
   ]
  },
  {
   "cell_type": "code",
   "execution_count": 303,
   "metadata": {},
   "outputs": [
    {
     "name": "stdout",
     "output_type": "stream",
     "text": [
      "thread_id: 9211c5\n",
      "====================================================================================================\n",
      "===== chatbot() 함수 시작 =====\n",
      "chatbot() 으로 넘어온 메시지 :\n",
      "[HumanMessage(content='대구 맛집을 알려줘?', additional_kwargs={}, response_metadata={}, id='f3bf6d78-a91e-48ff-a253-3f878f656e73')]\n",
      "메시지 개수 : 1\n",
      "\n",
      "[도구 사용 LLM 실행 결과 content]: \n",
      "[도구 사용 LLM 실행 결과 answer]: content='' additional_kwargs={'tool_calls': [{'id': 'call_0Iwa29atx7zZo1DbfsjHeRVY', 'function': {'arguments': '{\"query\":\"대구 맛집\"}', 'name': 'tavily_web_search'}, 'type': 'function'}], 'refusal': None} response_metadata={'token_usage': {'completion_tokens': 21, 'prompt_tokens': 99, 'total_tokens': 120, 'completion_tokens_details': {'accepted_prediction_tokens': 0, 'audio_tokens': 0, 'reasoning_tokens': 0, 'rejected_prediction_tokens': 0}, 'prompt_tokens_details': {'audio_tokens': 0, 'cached_tokens': 0}}, 'model_name': 'gpt-4o-mini-2024-07-18', 'system_fingerprint': 'fp_3267753c5d', 'finish_reason': 'tool_calls', 'logprobs': None} id='run-6b2e11c3-5a4d-4aab-b31d-e4e4165d15d1-0' tool_calls=[{'name': 'tavily_web_search', 'args': {'query': '대구 맛집'}, 'id': 'call_0Iwa29atx7zZo1DbfsjHeRVY', 'type': 'tool_call'}] usage_metadata={'input_tokens': 99, 'output_tokens': 21, 'total_tokens': 120, 'input_token_details': {'audio': 0, 'cache_read': 0}, 'output_token_details': {'audio': 0, 'reasoning': 0}}\n",
      "[도구 사용 LLM 실행 결과 additional_kwargs]: {'tool_calls': [{'id': 'call_0Iwa29atx7zZo1DbfsjHeRVY', 'function': {'arguments': '{\"query\":\"대구 맛집\"}', 'name': 'tavily_web_search'}, 'type': 'function'}], 'refusal': None}\n",
      "===== chatbot() 함수  끝 =====\n",
      "====================================================================================================\n",
      "\n",
      "\n",
      "===== 여기서 시작 =====\n",
      "[event] 바깥 for 시작 1\n",
      "\n",
      "실행한 노드 이름: chatbot\n",
      "\n",
      "==================== AIMessage ========================\n",
      "[해당 노드 값] value content: \n",
      "도구 이름 : tavily_web_search\n",
      "Arguments: {'query': '대구 맛집'}\n",
      "==================== END AIMessage ====================\n",
      "\n",
      "바깥 for 끝\n",
      "===== 여기서 끝 =====\n",
      "\n",
      "\n",
      "===== 여기서 시작 =====\n",
      "[event] 바깥 for 시작 2\n",
      "\n",
      "실행한 노드 이름: tools\n",
      "\n",
      "==================== ToolMessage ========================\n",
      "[해당 노드 값] 제목: 대구 맛집 베스트10 추천 현지인 로컬 식당\n",
      "[해당 노드 값] URL: https://tour.click1-tip.com/entry/대구-맛집-베스트10\n",
      "[해당 노드 값] 내용: 5. 옛집식당(육개장 맛집) 대구 옛집식당 네이버 플레이스(구글 평점 4.3) 맛집 소개. 이어지는 대구 맛집은 달성공원 근처에 위치하고 있는 육개장 전문점 옛집식당입니다. 60년 전통을 자랑하는 노포 감성의 로컬 식당으로 국내산 육우로 대파를 듬뿍 넣어 끓여내는 육개장 단일 메뉴로 운영하는 대구\n",
      "==================== END ToolMessage ====================\n",
      "\n",
      "바깥 for 끝\n",
      "===== 여기서 끝 =====\n",
      "\n",
      "====================================================================================================\n",
      "===== chatbot() 함수 시작 =====\n",
      "chatbot() 으로 넘어온 메시지 :\n",
      "[HumanMessage(content='대구 맛집을 알려줘?', additional_kwargs={}, response_metadata={}, id='f3bf6d78-a91e-48ff-a253-3f878f656e73'), AIMessage(content='', additional_kwargs={'tool_calls': [{'id': 'call_0Iwa29atx7zZo1DbfsjHeRVY', 'function': {'arguments': '{\"query\":\"대구 맛집\"}', 'name': 'tavily_web_search'}, 'type': 'function'}], 'refusal': None}, response_metadata={'token_usage': {'completion_tokens': 21, 'prompt_tokens': 99, 'total_tokens': 120, 'completion_tokens_details': {'accepted_prediction_tokens': 0, 'audio_tokens': 0, 'reasoning_tokens': 0, 'rejected_prediction_tokens': 0}, 'prompt_tokens_details': {'audio_tokens': 0, 'cached_tokens': 0}}, 'model_name': 'gpt-4o-mini-2024-07-18', 'system_fingerprint': 'fp_3267753c5d', 'finish_reason': 'tool_calls', 'logprobs': None}, id='run-6b2e11c3-5a4d-4aab-b31d-e4e4165d15d1-0', tool_calls=[{'name': 'tavily_web_search', 'args': {'query': '대구 맛집'}, 'id': 'call_0Iwa29atx7zZo1DbfsjHeRVY', 'type': 'tool_call'}], usage_metadata={'input_tokens': 99, 'output_tokens': 21, 'total_tokens': 120, 'input_token_details': {'audio': 0, 'cache_read': 0}, 'output_token_details': {'audio': 0, 'reasoning': 0}}), ToolMessage(content='[{\"title\": \"대구 맛집 베스트10 추천 현지인 로컬 식당\", \"url\": \"https://tour.click1-tip.com/entry/대구-맛집-베스트10\", \"content\": \"5. 옛집식당(육개장 맛집) 대구 옛집식당 네이버 플레이스(구글 평점 4.3) 맛집 소개. 이어지는 대구 맛집은 달성공원 근처에 위치하고 있는 육개장 전문점 옛집식당입니다. 60년 전통을 자랑하는 노포 감성의 로컬 식당으로 국내산 육우로 대파를 듬뿍 넣어 끓여내는 육개장 단일 메뉴로 운영하는 대구\", \"score\": 0.85509074, \"raw_content\": \"여행에 대한 모든것\\\\n\\\\n대구 맛집 베스트10 추천 현지인 로컬 식당\\\\n\\\\n\\\\n\\\\n\\\\n\\\\n오늘은 수성못과 동성로 상권으로 유명한 대구광역시의 소문난 음식점들을 모아서 대구 맛집 베스트 10으로 소개해드리겠습니다. 대표적인 대구 먹거리인 연탄 불고기와 대구 막창을 포함해 가성비 좋은 대구 현지인 맛집과 로컬 식당 중심으로 객관적인 대구 맛집을 정리해 드리겠습니다.\\\\n\\\\n\\\\n\\\\n기본적인 맛집 선정 기준은 양대 포털인 네이버와 구글 플레이스 순위를 체크하여 선정하였으며, 각 포털의 검색 기준은 네이버의 경우 최근 사람들이 많이 찾는 트래픽 높은 곳 중심으로, 구글은 전통적인 로컬 지역 맛집 중심으로 정리된다고 보시면 되겠습니다.\\\\n\\\\n\\\\n\\\\n그럼 양대 검색 포털에서 인증된 대구 맛집 베스트 10 같이 살펴보실까요!\\\\n\\\\n\\\\n\\\\n대구 맛집 베스트10 음식점 메뉴\\\\n\\\\n대구 맛집 베스트 10 순위 정리\\\\n\\\\n포털 기준 - 네이버(핫플레이스 중심) / 구글(현지인 가성비 중심)\\\\n\\\\n네이버 50%+구글 50% 플레이스 순위 반영하여 정리한 10곳\\\\n\\\\n\\\\n\\\\n\\\\n\\\\n\\\\n\\\\n\\\\n\\\\n\\\\n\\\\n\\\\n\\\\n1. 엄마밥상\\xa0침산동점(네이버\\xa01위)\\\\n\\\\n엄마밥상 침산동점 네이버 플레이스(구글 평점 3.3)\\\\n\\\\n\\\\n\\\\n맛집 소개\\\\n\\\\n첫 번째 대구 맛집은 넷플릭스 흑백요리사에 소개되어 요즘 핫한 한식당 엄마밥상 침산동점입니다. 1988년부터 36년 전통을 자랑하는 칠곡 팔공산 본점의 침산동 매장으로 정갈한 한상차림의 한정식을 드실 수 있는 대구 한정식 맛집인데요. 넓고 깔끔한 인테리어에 구수한 돌솥밥을 비롯해 정갈한 반찬과 고등어구이에 제육과 굴전까지 같이 드시기 좋은 대구 흑백요리사 맛집입니다.\\\\n\\\\n\\\\n\\\\n메뉴 소개\\\\n\\\\n엄마밥상 침산동점 메뉴 이미지\\\\n\\\\n\\\\n\\\\n매장 위치\\\\n\\\\n\\\\n\\\\n\\\\n\\\\n\\\\n\\\\n2. 동인동한옥집(구글\\xa01위)\\\\n\\\\n동인동한옥집김치찜 네이버 플레이스(구글 평점 4.3)\\\\n\\\\n\\\\n\\\\n맛집 소개\\\\n\\\\n이어지는 대구 맛집은 중구 칠성시장역 근처에 위치하고 있는 묵은지 김치찜 전문 동인동한옥집김치찜입니다. 생생정보 TV 방송에 소개되었던 대구 김치찜 맛집으로 1인분 9천 원에 드실 수 있는 김치찜과 김치찌개가 유명한 로컬 식당인데요. 잘 익은 묵은지로 조리한 맛깔스러운 김치찜과 김치찌개에 라면사리와 공깃밥은 무한리필이 가능해 가성비도 좋은 대구 현지인 맛집입니다.\\\\n\\\\n\\\\n\\\\n메뉴 소개\\\\n\\\\n동인동한옥집김치찜 메뉴 이미지\\\\n\\\\n매장 위치\\\\n\\\\n\\\\n\\\\n\\\\n\\\\n3. 8번식당\\xa0본점\\\\n\\\\n8번식당 본점 네이버 플레이스(구글 평점 4.2)\\\\n\\\\n\\\\n\\\\n맛집 소개\\\\n\\\\n이어지는 대구 맛집은 대구역과 서문시장역 사이에 위치하고 있는 국밥 전문점 8번식당 본점입니다. 생방송오늘저녁과 생생정보통 TV 방송에 소개되었던 고기국밥과 순대국밥으로 유명한 로컬 식당인데요. 1976년부터 운영하며 48년 전통을 자랑하는 국밥집으로 고기국밥과 순대국밥에 막창순대와 수육까지 대구에서 유명한 대구 현지인 돼지국밥 맛집입니다.\\\\n\\\\n\\\\n\\\\n메뉴 소개\\\\n\\\\n8번식당 본점 메뉴 이미지\\\\n\\\\n\\\\n\\\\n매장 위치\\\\n\\\\n\\\\n\\\\n\\\\n\\\\n\\\\n\\\\n4. 밥을짓다\\xa0본점\\\\n\\\\n대구 밥을짓다 본점 네이버 플레이스\\\\n\\\\n\\\\n\\\\n맛집 소개\\\\n\\\\n이어지는 대구 맛집은 팔공산 근처에 위치하고 있는 건강한 한식당 밥을짓다 본점입니다. 대구 드라이브 코스로 팔공산 가면서 넓고 깔끔한 분위기에 부모님 모시고 정갈한 한식 메뉴로 식사하기 좋은 대구 팔공산 맛집인데요. 주말이나 공휴일 웨이팅이 자주 걸려 줄 서서 먹는 대구 한식 맛집으로 더덕구이와 차돌박이 전골에 전복죽에 정갈한 반찬들까지 가족외식하기 좋은 대구 로컬 식당입니다.\\\\n\\\\n\\\\n\\\\n메뉴 소개\\\\n\\\\n대구 밥을짓다 메뉴 이미지\\\\n\\\\n\\\\n\\\\n매장 위치\\\\n\\\\n\\\\n\\\\n\\\\n\\\\n5. 옛집식당(육개장 맛집)\\\\n\\\\n대구 옛집식당 네이버 플레이스(구글 평점 4.3)\\\\n\\\\n\\\\n\\\\n맛집 소개\\\\n\\\\n이어지는 대구 맛집은 달성공원 근처에 위치하고 있는 육개장 전문점 옛집식당입니다. 60년 전통을 자랑하는 노포 감성의 로컬 식당으로 국내산 육우로 대파를 듬뿍 넣어 끓여내는 육개장 단일 메뉴로 운영하는 대구 육개장 맛집인데요. 전현무계획에도 소개되었던 식당으로 소고기와 대파에서 우러나오는 얼큰하고 진한 국물 맛이 좋아 현지인도 즐겨 찾는 대구 현지인 맛집입니다.\\\\n\\\\n\\\\n\\\\n메뉴 소개\\\\n\\\\n대구 옛집식당 메뉴 이미지\\\\n\\\\n\\\\n\\\\n매장 위치\\\\n\\\\n\\\\n\\\\n\\\\n\\\\n\\\\n\\\\n6. 리안(중식 맛집)\\\\n\\\\n대구 리안 네이버 플레이스(구글 평점 4.3)\\\\n\\\\n\\\\n\\\\n맛집 소개\\\\n\\\\n이어지는 대구 맛집은 수성구 수성대학교 근처에 위치하고 있는 로컬 중식당 리안입니다. 수성대학교 학생들이 즐겨 찾는 대구 수성대 맛집으로 매콤 달콤한 소스와 함께 볶아서 나오는 야끼우동이 유명한 대구 중식당인데요. 삼성 라이온즈파크 야구장에서도 지하철 1 정거장 거리라 야구장 가기 전 식사하는 분들도 많은 가성비도 인정받는 대구 현지인 중식 맛집입니다.\\\\n\\\\n\\\\n\\\\n메뉴 소개\\\\n\\\\n대구 리안 메뉴 이미지\\\\n\\\\n\\\\n\\\\n매장 위치\\\\n\\\\n\\\\n\\\\n\\\\n\\\\n7. 왕거미식당(백종원의 3대 천왕)\\\\n\\\\n대구 왕거미식당 네이버 플레이스(구글 평점 3.9)\\\\n\\\\n\\\\n\\\\n맛집 소개\\\\n\\\\n이어지는 대구 맛집은 중구 경북대학교 병원 근처에 위치하고 있는 뭉티기 전문 왕거미식당입니다. 백종원의 3대 천왕과 생방송투데이, 생생정보 TV 방송에 소개되었던 뭉티기와 오드레기로 유명한 로컬 식당인데요. 30년 이상의 전통을 가진 소문난 뭉티기 전문 고깃집으로 국내산 육우와 한우를 사용해 부드러운 소고기를 드실 수 있어 항상 웨이팅이 걸려 줄 서서 먹는 대구 현지인 맛집입니다.\\\\n\\\\n\\\\n\\\\n메뉴 소개\\\\n\\\\n대구 왕거미식당 메뉴 이미지\\\\n\\\\n\\\\n\\\\n매장 위치\\\\n\\\\n\\\\n\\\\n\\\\n\\\\n\\\\n\\\\n8. 수봉반점(백종원의 3대 천왕)\\\\n\\\\n대구 수봉반점 네이버 플레이스(구글 평점 4.3)\\\\n\\\\n\\\\n\\\\n맛집 소개\\\\n\\\\n이어지는 대구 맛집은 대구 칠성가구거리 근처에 위치하고 있는 중식당 수봉반점입니다. 백종원의 3대 천왕과 생방송투데이, 생방송오늘저녁 TV 방송에 소개되었던 대구 로컬 중식당으로 중화비빔밥과 짬뽕이 유명한 곳인데요. 주말이나 공휴일 항상 웨이팅이 걸려 줄서서 먹는 중식당으로 얼큰한 국물의 짬뽕과 함께 불맛 가득한 중국식 오징어 야채덮밥인 중화비빔밥인 인기 메뉴인 대구 현지인 맛집입니다.\\\\n\\\\n\\\\n\\\\n메뉴 소개\\\\n\\\\n대구 수봉반점 메뉴 이미지\\\\n\\\\n\\\\n\\\\n매장 위치\\\\n\\\\n\\\\n\\\\n\\\\n\\\\n9. 우야지막창 동대구역점(막창 맛집)\\\\n\\\\n우야지막창 동대구역점 네이버 플레이스(구글 평점 4.3)\\\\n\\\\n\\\\n\\\\n맛집 소개\\\\n\\\\n이어지는 대구 맛집은 동대구역 근처에 위치하고 있는 막창구이 전문점 우야지막창 동대구역점입니다. 대구에만 14곳의 지점이 운영되고 있는 대구 막창 맛집으로 유명한 로컬 막창 전문점인데요. 가성비 좋은 돼지막창구이를 대표 메뉴로 양념막창과 소막창 그리고 양념 불닭발에 3인분 주문 시 소시지와 계란말이, 된장라면과 팥빙수까지 서비스로 나와 가성비도 좋은 동대구역 맛집입니다.\\\\n\\\\n\\\\n\\\\n메뉴 소개\\\\n\\\\n우야지막창 메뉴 이미지\\\\n\\\\n\\\\n\\\\n매장 위치\\\\n\\\\n\\\\n\\\\n\\\\n\\\\n\\\\n\\\\n10. 태능집(백종원의 3대 천왕)\\\\n\\\\n대구 태능집 네이버 플레이스(구글 평점 3.9)\\\\n\\\\n\\\\n\\\\n맛집 소개\\\\n\\\\n마지막 대구 맛집은 서문시장 달성공원역 근처에 위치하고 있는 우동 전문 실내포차 태능집입니다. 백종원의 3대 천왕에 소개된 대구 북성로에서 가장 유명한 실내 포차로 술안주로 먹기 좋은 옛날식 칼칼한 우동과 불맛 가득한 연탄 불고기가 유명한 로컬 식당인데요. 가볍게 술 한잔하면서 먹기 좋은 불향이 진한 대구 연탄불고기와 함께 옛날 우동 한 그릇 드시기 좋은 대구 북성로 맛집입니다.\\\\n\\\\n\\\\n\\\\n메뉴 소개\\\\n\\\\n대구 태능집 메뉴 이미지\\\\n\\\\n\\\\n\\\\n매장 위치\\\\n\\\\n\\\\n\\\\n\\\\n\\\\n\\\\n\\\\n이상 대구에서 유명한 10곳의 음식점들을 네이버와 구글 양대 포털을 기준 가성비 현지인 맛집 중심으로 최근 플레이스 순위를 반영하여 정리해 드렸는데 전체적으로 보면 대구에서 소문난 연탄불고기와 막창구이를 비롯해 요즘 핫한 넷플릭스 흑백요리사의 한식당과 김치찜, 돼지국밥, 육개장, 팔공산 한정식에 로컬 중식당과 뭉티기까지 가족이나 친구들과 함께 가기 좋은 대구 맛집 베스트 10 추천 리스트였습니다!\\\\n\\\\n\\\\n\\\\n\\\\n\\\\n같이 보면 좋은 정보\\\\n\\\\n\\\\n\\\\n대구 한정식 맛집 베스트10 가족외식 모임장소\\\\n\\\\n오늘은 동성로와 수성못으로 유명한 대구광역시의 한정식 맛집 베스트 10곳을 소개해드리고자 하는데 양대 포털의\\xa0플레이스를 중심으로 현지에서 유명한 한정식 코스요리와 현지인 맛집도 함\\\\n\\\\njdblue2022.tistory.com\\\\n\\\\n\\\\n\\\\n경산 맛집 베스트10 추천 2024 플레이스 맛집\\\\n\\\\n오늘은 자두와 복숭아로 유명한 경상북도 경산의 소문난 맛집 베스트 10곳을 소개해드리고자 하는데 양대 포털의\\xa0플레이스를 중심으로\\xa0현지에서 유명한 먹거리와 경산 현지인 맛집들도 같이\\\\n\\\\njdblue2022.tistory.com\\\\n\\\\n\\\\n\\\\n칠곡 맛집 베스트10 추천 2024 플레이스 맛집\\\\n\\\\n오늘은 낙동강과 팔공산으로 유명한 경북 칠곡의 소문난 맛집 베스트 10곳을 소개해드리고자 하는데 양대 포털의\\xa0플레이스를 중심으로\\xa0현지에서 유명한 가성비 한정식이나 떡갈비 스테이크\\\\n\\\\njdblue2022.tistory.com\\\\n\\\\n\\\\n\\\\n대구 맛집 베스트10 썸네일\\\\n\\\\n\\\\n\\\\n이미지 출처. 네이버 플레이스\\\\n\\\\n\\\\n\\\\n\\'맛집정보 > 경상\\' 카테고리의 다른 글\\\\n\\\\n양산 맛집 베스트10 추천 현지인 로컬 식당(0) | 2024.10.13\\\\n안동 맛집 베스트10 추천 현지인 로컬 식당(0) | 2024.10.11\\\\n울산 맛집 베스트10 추천 현지인 로컬 식당(0) | 2024.10.07\\\\n포항 맛집 베스트10 추천 현지인 로컬 식당(0) | 2024.10.06\\\\n진주 맛집 베스트10 추천 현지인 로컬 식당(0) | 2024.10.05\\\\n태그\\\\n\\\\n관련글\\\\n\\\\n댓글0\\\\n\\\\n최근글\\\\n\\\\n인기글\\\\n\\\\nDesigned by 티스토리\\\\n\\\\n© Kakao Corp.\\\\n\\\\n티스토리툴바\\\\n\\\\n\\\\n\\\\n\"}]', name='tavily_web_search', id='a0ad848a-0d7b-4111-911d-299a69eaafbe', tool_call_id='call_0Iwa29atx7zZo1DbfsjHeRVY')]\n",
      "메시지 개수 : 3\n",
      "\n",
      "[도구 사용 LLM 실행 결과 content]: 대구에서 추천하는 맛집 베스트 10을 소개합니다:\n",
      "\n",
      "1. **엄마밥상 침산동점** - 한정식 전문점으로, 정갈한 한상차림과 돌솥밥이 인기입니다.\n",
      "   [자세히 보기](https://tour.click1-tip.com/entry/대구-맛집-베스트10)\n",
      "\n",
      "2. **동인동한옥집** - 묵은지 김치찜 전문점으로, 가성비 좋은 김치찜과 김치찌개가 유명합니다.\n",
      "\n",
      "3. **8번식당 본점** - 고기국밥과 순대국밥으로 유명한 국밥 전문점입니다.\n",
      "\n",
      "4. **밥을짓다 본점** - 건강한 한식당으로, 정갈한 한식 메뉴가 인기입니다.\n",
      "\n",
      "5. **옛집식당** - 60년 전통의 육개장 전문점으로, 얼큰하고 진한 국물 맛이 특징입니다.\n",
      "\n",
      "6. **리안** - 중식당으로, 매콤 달콤한 야끼우동이 유명합니다.\n",
      "\n",
      "7. **왕거미식당** - 뭉티기 전문점으로, 부드러운 소고기를 제공합니다.\n",
      "\n",
      "8. **수봉반점** - 중식당으로, 중화비빔밥과 짬뽕이 인기입니다.\n",
      "\n",
      "9. **우야지막창 동대구역점** - 막창구이 전문점으로, 가성비 좋은 메뉴가 많습니다.\n",
      "\n",
      "10. **태능집** - 우동 전문 실내포차로, 불맛 가득한 연탄 불고기가 유명합니다.\n",
      "\n",
      "각 맛집은 대구의 다양한 음식 문화를 경험할 수 있는 좋은 장소입니다.\n",
      "[도구 사용 LLM 실행 결과 answer]: content='대구에서 추천하는 맛집 베스트 10을 소개합니다:\\n\\n1. **엄마밥상 침산동점** - 한정식 전문점으로, 정갈한 한상차림과 돌솥밥이 인기입니다.\\n   [자세히 보기](https://tour.click1-tip.com/entry/대구-맛집-베스트10)\\n\\n2. **동인동한옥집** - 묵은지 김치찜 전문점으로, 가성비 좋은 김치찜과 김치찌개가 유명합니다.\\n\\n3. **8번식당 본점** - 고기국밥과 순대국밥으로 유명한 국밥 전문점입니다.\\n\\n4. **밥을짓다 본점** - 건강한 한식당으로, 정갈한 한식 메뉴가 인기입니다.\\n\\n5. **옛집식당** - 60년 전통의 육개장 전문점으로, 얼큰하고 진한 국물 맛이 특징입니다.\\n\\n6. **리안** - 중식당으로, 매콤 달콤한 야끼우동이 유명합니다.\\n\\n7. **왕거미식당** - 뭉티기 전문점으로, 부드러운 소고기를 제공합니다.\\n\\n8. **수봉반점** - 중식당으로, 중화비빔밥과 짬뽕이 인기입니다.\\n\\n9. **우야지막창 동대구역점** - 막창구이 전문점으로, 가성비 좋은 메뉴가 많습니다.\\n\\n10. **태능집** - 우동 전문 실내포차로, 불맛 가득한 연탄 불고기가 유명합니다.\\n\\n각 맛집은 대구의 다양한 음식 문화를 경험할 수 있는 좋은 장소입니다.' additional_kwargs={'refusal': None} response_metadata={'token_usage': {'completion_tokens': 383, 'prompt_tokens': 3509, 'total_tokens': 3892, 'completion_tokens_details': {'accepted_prediction_tokens': 0, 'audio_tokens': 0, 'reasoning_tokens': 0, 'rejected_prediction_tokens': 0}, 'prompt_tokens_details': {'audio_tokens': 0, 'cached_tokens': 0}}, 'model_name': 'gpt-4o-mini-2024-07-18', 'system_fingerprint': 'fp_3267753c5d', 'finish_reason': 'stop', 'logprobs': None} id='run-c0d5b56a-9779-4c6d-9de9-268017e623c3-0' usage_metadata={'input_tokens': 3509, 'output_tokens': 383, 'total_tokens': 3892, 'input_token_details': {'audio': 0, 'cache_read': 0}, 'output_token_details': {'audio': 0, 'reasoning': 0}}\n",
      "[도구 사용 LLM 실행 결과 additional_kwargs]: {'refusal': None}\n",
      "===== chatbot() 함수  끝 =====\n",
      "====================================================================================================\n",
      "\n",
      "\n",
      "===== 여기서 시작 =====\n",
      "[event] 바깥 for 시작 3\n",
      "\n",
      "실행한 노드 이름: chatbot\n",
      "\n",
      "==================== AIMessage ========================\n",
      "[해당 노드 값] value content: 대구에서 추천하는 맛집 베스트 10을 소개합니다:\n",
      "\n",
      "1. **엄마밥상 침산동점** - 한정식 전문점으로, 정갈한 한상차림과 돌솥밥이 인기입니다.\n",
      "   [자세히 보기](https://tour.click1-tip.com/entry/대구-맛집-베스트10)\n",
      "\n",
      "2. **동인동한옥집** - 묵은지 김치찜 전문점으로, 가성비 좋은 김치찜과 김치찌개가 유명합니다.\n",
      "\n",
      "3. **8번식당 본점** - 고기국밥과 순대국밥으로 유명한 국밥 전문점입니다.\n",
      "\n",
      "4. **밥을짓다 본점** - 건강한 한식당으로, 정갈한 한식 메뉴가 인기입니다.\n",
      "\n",
      "5. **옛집식당** - 60년 전통의 육개장 전문점으로, 얼큰하고 진한 국물 맛이 특징입니다.\n",
      "\n",
      "6. **리안** - 중식당으로, 매콤 달콤한 야끼우동이 유명합니다.\n",
      "\n",
      "7. **왕거미식당** - 뭉티기 전문점으로, 부드러운 소고기를 제공합니다.\n",
      "\n",
      "8. **수봉반점** - 중식당으로, 중화비빔밥과 짬뽕이 인기입니다.\n",
      "\n",
      "9. **우야지막창 동대구역점** - 막창구이 전문점으로, 가성비 좋은 메뉴가 많습니다.\n",
      "\n",
      "10. **태능집** - 우동 전문 실내포차로, 불맛 가득한 연탄 불고기가 유명합니다.\n",
      "\n",
      "각 맛집은 대구의 다양한 음식 문화를 경험할 수 있는 좋은 장소입니다.\n",
      "additional_kwargs tool_calls: None\n",
      "==================== END AIMessage ====================\n",
      "\n",
      "바깥 for 끝\n",
      "===== 여기서 끝 =====\n",
      "\n",
      "전체 반복문 4번 실행\n"
     ]
    }
   ],
   "source": [
    "from langchain_teddynote.graphs import generate_random_hash\n",
    "from langchain_core.runnables import RunnableConfig\n",
    "import json\n",
    "\n",
    "thread_id = generate_random_hash()\n",
    "print(f\"thread_id: {thread_id}\")\n",
    "\n",
    "# config 설정\n",
    "config = RunnableConfig(\n",
    "    recursion_limit=10,             \n",
    "    configurable={\"thread_id\": thread_id},  \n",
    "    tags=[\"data-tag\"],                  \n",
    ")\n",
    "\n",
    "question = '대구 맛집을 알려줘?'\n",
    "\n",
    "state = State(messages=[('user', question)])\n",
    "\n",
    "i = 1\n",
    "\n",
    "for event in graph.stream({\"messages\": [(\"user\", question)]}, config=config):\n",
    "    print()\n",
    "    print('===== 여기서 시작 =====')\n",
    "    print(f'[event] 바깥 for 시작 {i}')\n",
    "    print()\n",
    "\n",
    "    for k, value in event.items():\n",
    "        print(f'실행한 노드 이름: {k}')\n",
    "        print()\n",
    "\n",
    "        if isinstance(value['messages'][-1], HumanMessage):\n",
    "            print('==================== HumanMessage ========================')\n",
    "            print(f\"[해당 노드 값] value : \\n{value['messages'][-1]}\")\n",
    "            # print(f\"[해당 노드 값] content: {value['messages'][-1].content}\")\n",
    "            # print(f\"additional_kwargs: {value['messages'][-1].additional_kwargs}\")\n",
    "            print('==================== END HumanMessage ====================')\n",
    "            print()\n",
    "        elif isinstance(value['messages'][-1], AIMessage):\n",
    "            print('==================== AIMessage ========================')\n",
    "            # print(f\"[해당 노드 값] value : \\n{value['messages'][-1]}\")\n",
    "            print(f\"[해당 노드 값] value content: {value['messages'][-1].content}\")\n",
    "            # print(f\"addtional_kwargs: {value['messages'][-1].additional_kwargs}\")\n",
    "\n",
    "            if 'tool_calls' in value['messages'][-1].additional_kwargs:\n",
    "                # print(f\"additional_kwargs tool_calls: {value['messages'][-1].additional_kwargs['tool_calls']}\")\n",
    "                tool_calls = value['messages'][-1].additional_kwargs['tool_calls']\n",
    "\n",
    "                for call in tool_calls:\n",
    "                    if 'function' in call:\n",
    "                        arguments = json.loads(call['function']['arguments'])\n",
    "                        name = call['function']['name']\n",
    "\n",
    "                        print(f\"도구 이름 : {name}\")\n",
    "                        print(f\"Arguments: {arguments}\")\n",
    "            else:\n",
    "                print(\"additional_kwargs tool_calls: None\")\n",
    "            print('==================== END AIMessage ====================')    \n",
    "\n",
    "        elif isinstance(value['messages'][-1], ToolMessage):\n",
    "            print('==================== ToolMessage ========================')\n",
    "            # print(f\"[해당 노드 값] value : \\n{value['messages'][-1]}\")\n",
    "            content = json.loads(value['messages'][-1].content)\n",
    "\n",
    "            if content and isinstance(content, list) and len(content) > 0:\n",
    "                print(f\"[해당 노드 값] 제목: {content[0].get('title', 'No title')}\")\n",
    "                print(f\"[해당 노드 값] URL: {content[0].get('url', 'No URL')}\")\n",
    "                print(f\"[해당 노드 값] 내용: {content[0].get('content', 'No URL')}\")\n",
    "            else:\n",
    "                print(\"No content or invalid content format in ToolMessage\")\n",
    "\n",
    "            print('==================== END ToolMessage ====================')   \n",
    "\n",
    "        print()\n",
    "        \n",
    "    print('바깥 for 끝')\n",
    "    i=i+1\n",
    "    \n",
    "    print('===== 여기서 끝 =====') \n",
    "    print()\n",
    "print(f'전체 반복문 {i}번 실행')    "
   ]
  },
  {
   "cell_type": "code",
   "execution_count": null,
   "metadata": {},
   "outputs": [],
   "source": []
  },
  {
   "cell_type": "code",
   "execution_count": 304,
   "metadata": {},
   "outputs": [
    {
     "name": "stdout",
     "output_type": "stream",
     "text": [
      "====================================================================================================\n",
      "===== chatbot() 함수 시작 =====\n",
      "chatbot() 으로 넘어온 메시지 :\n",
      "[HumanMessage(content='`소프트웨어놀이터`에서 코딩강의를 하고 있는 이인환입니다.', additional_kwargs={}, response_metadata={}, id='451360d1-dfa7-4c90-a7d8-7556a637a165')]\n",
      "메시지 개수 : 1\n",
      "\n",
      "[도구 사용 LLM 실행 결과 content]: 안녕하세요, 이인환님! 소프트웨어놀이터에서 코딩 강의를 하고 계시다니 멋지네요. 어떤 주제에 대해 강의를 하고 계신가요? 또는 도움이 필요하신 부분이 있으신가요?\n",
      "[도구 사용 LLM 실행 결과 answer]: content='안녕하세요, 이인환님! 소프트웨어놀이터에서 코딩 강의를 하고 계시다니 멋지네요. 어떤 주제에 대해 강의를 하고 계신가요? 또는 도움이 필요하신 부분이 있으신가요?' additional_kwargs={'refusal': None} response_metadata={'token_usage': {'completion_tokens': 55, 'prompt_tokens': 110, 'total_tokens': 165, 'completion_tokens_details': {'accepted_prediction_tokens': 0, 'audio_tokens': 0, 'reasoning_tokens': 0, 'rejected_prediction_tokens': 0}, 'prompt_tokens_details': {'audio_tokens': 0, 'cached_tokens': 0}}, 'model_name': 'gpt-4o-mini-2024-07-18', 'system_fingerprint': 'fp_3267753c5d', 'finish_reason': 'stop', 'logprobs': None} id='run-9362f2e1-6200-45ed-881b-0af56aa5cfe4-0' usage_metadata={'input_tokens': 110, 'output_tokens': 55, 'total_tokens': 165, 'input_token_details': {'audio': 0, 'cache_read': 0}, 'output_token_details': {'audio': 0, 'reasoning': 0}}\n",
      "[도구 사용 LLM 실행 결과 additional_kwargs]: {'refusal': None}\n",
      "===== chatbot() 함수  끝 =====\n",
      "====================================================================================================\n",
      "\n",
      "==================================\u001b[1m Ai Message \u001b[0m==================================\n",
      "\n",
      "안녕하세요, 이인환님! 소프트웨어놀이터에서 코딩 강의를 하고 계시다니 멋지네요. 어떤 주제에 대해 강의를 하고 계신가요? 또는 도움이 필요하신 부분이 있으신가요?\n"
     ]
    }
   ],
   "source": [
    "config = RunnableConfig(\n",
    "    recursion_limit=10, \n",
    "    configurable={'thread_id': '1'}\n",
    ")\n",
    "\n",
    "question = ('`소프트웨어놀이터`에서 코딩강의를 하고 있는 이인환입니다.')\n",
    "\n",
    "for event in graph.stream({\"messages\": [(\"user\", question)]}, config=config):\n",
    "    for value in event.values():\n",
    "        value[\"messages\"][-1].pretty_print()"
   ]
  },
  {
   "cell_type": "code",
   "execution_count": 305,
   "metadata": {},
   "outputs": [],
   "source": [
    "config = RunnableConfig(\n",
    "    recursion_limit=10, \n",
    "    configurable={'thread_id': '1'}\n",
    ")\n",
    "\n",
    "snapshot = graph.get_state(config=config)"
   ]
  },
  {
   "cell_type": "code",
   "execution_count": 306,
   "metadata": {},
   "outputs": [
    {
     "data": {
      "text/plain": [
       "StateSnapshot(values={'messages': [HumanMessage(content='`소프트웨어놀이터`에서 코딩강의를 하고 있는 이인환입니다.', additional_kwargs={}, response_metadata={}, id='451360d1-dfa7-4c90-a7d8-7556a637a165'), AIMessage(content='안녕하세요, 이인환님! 소프트웨어놀이터에서 코딩 강의를 하고 계시다니 멋지네요. 어떤 주제에 대해 강의를 하고 계신가요? 또는 도움이 필요하신 부분이 있으신가요?', additional_kwargs={'refusal': None}, response_metadata={'token_usage': {'completion_tokens': 55, 'prompt_tokens': 110, 'total_tokens': 165, 'completion_tokens_details': {'accepted_prediction_tokens': 0, 'audio_tokens': 0, 'reasoning_tokens': 0, 'rejected_prediction_tokens': 0}, 'prompt_tokens_details': {'audio_tokens': 0, 'cached_tokens': 0}}, 'model_name': 'gpt-4o-mini-2024-07-18', 'system_fingerprint': 'fp_3267753c5d', 'finish_reason': 'stop', 'logprobs': None}, id='run-9362f2e1-6200-45ed-881b-0af56aa5cfe4-0', usage_metadata={'input_tokens': 110, 'output_tokens': 55, 'total_tokens': 165, 'input_token_details': {'audio': 0, 'cache_read': 0}, 'output_token_details': {'audio': 0, 'reasoning': 0}})]}, next=(), config={'configurable': {'thread_id': '1', 'checkpoint_ns': '', 'checkpoint_id': '1f00309a-5bb6-61bd-8001-af6d11f9e347'}}, metadata={'source': 'loop', 'writes': {'chatbot': {'messages': [AIMessage(content='안녕하세요, 이인환님! 소프트웨어놀이터에서 코딩 강의를 하고 계시다니 멋지네요. 어떤 주제에 대해 강의를 하고 계신가요? 또는 도움이 필요하신 부분이 있으신가요?', additional_kwargs={'refusal': None}, response_metadata={'token_usage': {'completion_tokens': 55, 'prompt_tokens': 110, 'total_tokens': 165, 'completion_tokens_details': {'accepted_prediction_tokens': 0, 'audio_tokens': 0, 'reasoning_tokens': 0, 'rejected_prediction_tokens': 0}, 'prompt_tokens_details': {'audio_tokens': 0, 'cached_tokens': 0}}, 'model_name': 'gpt-4o-mini-2024-07-18', 'system_fingerprint': 'fp_3267753c5d', 'finish_reason': 'stop', 'logprobs': None}, id='run-9362f2e1-6200-45ed-881b-0af56aa5cfe4-0', usage_metadata={'input_tokens': 110, 'output_tokens': 55, 'total_tokens': 165, 'input_token_details': {'audio': 0, 'cache_read': 0}, 'output_token_details': {'audio': 0, 'reasoning': 0}})]}}, 'thread_id': '1', 'step': 1, 'parents': {}}, created_at='2025-03-17T08:27:21.859526+00:00', parent_config={'configurable': {'thread_id': '1', 'checkpoint_ns': '', 'checkpoint_id': '1f00309a-51b7-6729-8000-f75b5834a9ef'}}, tasks=())"
      ]
     },
     "execution_count": 306,
     "metadata": {},
     "output_type": "execute_result"
    }
   ],
   "source": [
    "snapshot"
   ]
  },
  {
   "cell_type": "code",
   "execution_count": 307,
   "metadata": {},
   "outputs": [
    {
     "data": {
      "text/plain": [
       "{'configurable': {'thread_id': '1',\n",
       "  'checkpoint_ns': '',\n",
       "  'checkpoint_id': '1f00309a-5bb6-61bd-8001-af6d11f9e347'}}"
      ]
     },
     "execution_count": 307,
     "metadata": {},
     "output_type": "execute_result"
    }
   ],
   "source": [
    "snapshot.config"
   ]
  },
  {
   "cell_type": "code",
   "execution_count": 308,
   "metadata": {},
   "outputs": [
    {
     "data": {
      "text/plain": [
       "{'messages': [HumanMessage(content='`소프트웨어놀이터`에서 코딩강의를 하고 있는 이인환입니다.', additional_kwargs={}, response_metadata={}, id='451360d1-dfa7-4c90-a7d8-7556a637a165'),\n",
       "  AIMessage(content='안녕하세요, 이인환님! 소프트웨어놀이터에서 코딩 강의를 하고 계시다니 멋지네요. 어떤 주제에 대해 강의를 하고 계신가요? 또는 도움이 필요하신 부분이 있으신가요?', additional_kwargs={'refusal': None}, response_metadata={'token_usage': {'completion_tokens': 55, 'prompt_tokens': 110, 'total_tokens': 165, 'completion_tokens_details': {'accepted_prediction_tokens': 0, 'audio_tokens': 0, 'reasoning_tokens': 0, 'rejected_prediction_tokens': 0}, 'prompt_tokens_details': {'audio_tokens': 0, 'cached_tokens': 0}}, 'model_name': 'gpt-4o-mini-2024-07-18', 'system_fingerprint': 'fp_3267753c5d', 'finish_reason': 'stop', 'logprobs': None}, id='run-9362f2e1-6200-45ed-881b-0af56aa5cfe4-0', usage_metadata={'input_tokens': 110, 'output_tokens': 55, 'total_tokens': 165, 'input_token_details': {'audio': 0, 'cache_read': 0}, 'output_token_details': {'audio': 0, 'reasoning': 0}})]}"
      ]
     },
     "execution_count": 308,
     "metadata": {},
     "output_type": "execute_result"
    }
   ],
   "source": [
    "snapshot.values"
   ]
  },
  {
   "cell_type": "code",
   "execution_count": 309,
   "metadata": {},
   "outputs": [
    {
     "data": {
      "text/plain": [
       "()"
      ]
     },
     "execution_count": 309,
     "metadata": {},
     "output_type": "execute_result"
    }
   ],
   "source": [
    "snapshot.next"
   ]
  },
  {
   "cell_type": "code",
   "execution_count": 310,
   "metadata": {},
   "outputs": [
    {
     "data": {
      "text/plain": [
       "{'source': 'loop',\n",
       " 'writes': {'chatbot': {'messages': [AIMessage(content='안녕하세요, 이인환님! 소프트웨어놀이터에서 코딩 강의를 하고 계시다니 멋지네요. 어떤 주제에 대해 강의를 하고 계신가요? 또는 도움이 필요하신 부분이 있으신가요?', additional_kwargs={'refusal': None}, response_metadata={'token_usage': {'completion_tokens': 55, 'prompt_tokens': 110, 'total_tokens': 165, 'completion_tokens_details': {'accepted_prediction_tokens': 0, 'audio_tokens': 0, 'reasoning_tokens': 0, 'rejected_prediction_tokens': 0}, 'prompt_tokens_details': {'audio_tokens': 0, 'cached_tokens': 0}}, 'model_name': 'gpt-4o-mini-2024-07-18', 'system_fingerprint': 'fp_3267753c5d', 'finish_reason': 'stop', 'logprobs': None}, id='run-9362f2e1-6200-45ed-881b-0af56aa5cfe4-0', usage_metadata={'input_tokens': 110, 'output_tokens': 55, 'total_tokens': 165, 'input_token_details': {'audio': 0, 'cache_read': 0}, 'output_token_details': {'audio': 0, 'reasoning': 0}})]}},\n",
       " 'thread_id': '1',\n",
       " 'step': 1,\n",
       " 'parents': {}}"
      ]
     },
     "execution_count": 310,
     "metadata": {},
     "output_type": "execute_result"
    }
   ],
   "source": [
    "snapshot.metadata"
   ]
  },
  {
   "cell_type": "code",
   "execution_count": 311,
   "metadata": {},
   "outputs": [
    {
     "data": {
      "text/plain": [
       "AIMessage(content='안녕하세요, 이인환님! 소프트웨어놀이터에서 코딩 강의를 하고 계시다니 멋지네요. 어떤 주제에 대해 강의를 하고 계신가요? 또는 도움이 필요하신 부분이 있으신가요?', additional_kwargs={'refusal': None}, response_metadata={'token_usage': {'completion_tokens': 55, 'prompt_tokens': 110, 'total_tokens': 165, 'completion_tokens_details': {'accepted_prediction_tokens': 0, 'audio_tokens': 0, 'reasoning_tokens': 0, 'rejected_prediction_tokens': 0}, 'prompt_tokens_details': {'audio_tokens': 0, 'cached_tokens': 0}}, 'model_name': 'gpt-4o-mini-2024-07-18', 'system_fingerprint': 'fp_3267753c5d', 'finish_reason': 'stop', 'logprobs': None}, id='run-9362f2e1-6200-45ed-881b-0af56aa5cfe4-0', usage_metadata={'input_tokens': 110, 'output_tokens': 55, 'total_tokens': 165, 'input_token_details': {'audio': 0, 'cache_read': 0}, 'output_token_details': {'audio': 0, 'reasoning': 0}})"
      ]
     },
     "execution_count": 311,
     "metadata": {},
     "output_type": "execute_result"
    }
   ],
   "source": [
    "snapshot.metadata['writes']['chatbot']['messages'][0]"
   ]
  },
  {
   "cell_type": "code",
   "execution_count": 312,
   "metadata": {},
   "outputs": [
    {
     "name": "stdout",
     "output_type": "stream",
     "text": [
      "    \u001b[93msource\u001b[0m: \"loop\"\n",
      "    \u001b[93mwrites\u001b[0m:\n",
      "        \u001b[94mchatbot\u001b[0m:\n",
      "            \u001b[95mmessages\u001b[0m:\n",
      "                \u001b[95mindex [0]\u001b[0m\n",
      "                    \u001b[96mcontent\u001b[0m: \"안녕하세요, 이인환님! 소프트웨어놀이터에서 코딩 강의를 하고 계시다니 멋지네요. 어떤 주제에 대해 강의를 하고 계신가요? 또는 도움이 필요하신 부분이 있으신가요?\"\n",
      "                    \u001b[96madditional_kwargs\u001b[0m: {\"refusal\": None}\n",
      "                    \u001b[96mresponse_metadata\u001b[0m:\n",
      "                        \u001b[96mtoken_usage\u001b[0m:\n",
      "                            \u001b[96mcompletion_tokens\u001b[0m: 55\n",
      "                            \u001b[96mprompt_tokens\u001b[0m: 110\n",
      "                            \u001b[96mtotal_tokens\u001b[0m: 165\n",
      "                            \u001b[96mcompletion_tokens_details\u001b[0m: {\"accepted_prediction_tokens\": 0, \"audio_tokens\": 0, \"reasoning_tokens\": 0, \"rejected_prediction_tokens\": 0}\n",
      "                            \u001b[96mprompt_tokens_details\u001b[0m: {\"audio_tokens\": 0, \"cached_tokens\": 0}\n",
      "                        \u001b[96mmodel_name\u001b[0m: \"gpt-4o-mini-2024-07-18\"\n",
      "                        \u001b[96msystem_fingerprint\u001b[0m: \"fp_3267753c5d\"\n",
      "                        \u001b[96mfinish_reason\u001b[0m: \"stop\"\n",
      "                        \u001b[96mlogprobs\u001b[0m: None\n",
      "                    \u001b[96mtype\u001b[0m: \"ai\"\n",
      "                    \u001b[96mname\u001b[0m: None\n",
      "                    \u001b[96mid\u001b[0m: \"run-9362f2e1-6200-45ed-881b-0af56aa5cfe4-0\"\n",
      "                    \u001b[96mexample\u001b[0m: False\n",
      "                    \u001b[96mtool_calls\u001b[0m:\n",
      "                    \u001b[96minvalid_tool_calls\u001b[0m:\n",
      "                    \u001b[96musage_metadata\u001b[0m:\n",
      "                        \u001b[96minput_tokens\u001b[0m: 110\n",
      "                        \u001b[96moutput_tokens\u001b[0m: 55\n",
      "                        \u001b[96mtotal_tokens\u001b[0m: 165\n",
      "                        \u001b[96minput_token_details\u001b[0m: {\"audio\": 0, \"cache_read\": 0}\n",
      "                        \u001b[96moutput_token_details\u001b[0m: {\"audio\": 0, \"reasoning\": 0}\n",
      "    \u001b[93mthread_id\u001b[0m: \"1\"\n",
      "    \u001b[93mstep\u001b[0m: 1\n",
      "    \u001b[93mparents\u001b[0m: {}\n"
     ]
    }
   ],
   "source": [
    "from langchain_teddynote.messages import display_message_tree\n",
    "\n",
    "display_message_tree(snapshot.metadata)"
   ]
  }
 ],
 "metadata": {
  "kernelspec": {
   "display_name": "venv",
   "language": "python",
   "name": "python3"
  },
  "language_info": {
   "codemirror_mode": {
    "name": "ipython",
    "version": 3
   },
   "file_extension": ".py",
   "mimetype": "text/x-python",
   "name": "python",
   "nbconvert_exporter": "python",
   "pygments_lexer": "ipython3",
   "version": "3.11.9"
  }
 },
 "nbformat": 4,
 "nbformat_minor": 2
}
