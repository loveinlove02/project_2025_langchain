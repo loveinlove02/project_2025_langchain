{
 "cells": [
  {
   "cell_type": "code",
   "execution_count": 66,
   "metadata": {},
   "outputs": [],
   "source": [
    "from dotenv import load_dotenv\n",
    "import os\n",
    "\n",
    "load_dotenv(verbose=True)\n",
    "key = os.getenv('OPENAI_API_KEY')"
   ]
  },
  {
   "cell_type": "code",
   "execution_count": 67,
   "metadata": {},
   "outputs": [],
   "source": [
    "from langgraph.checkpoint.memory import MemorySaver\n",
    "\n",
    "memory = MemorySaver()"
   ]
  },
  {
   "cell_type": "code",
   "execution_count": 68,
   "metadata": {},
   "outputs": [],
   "source": [
    "from typing import Annotated\n",
    "from typing_extensions import TypedDict\n",
    "from langgraph.graph.message import add_messages"
   ]
  },
  {
   "cell_type": "code",
   "execution_count": 33,
   "metadata": {},
   "outputs": [],
   "source": [
    "from langgraph.graph import StateGraph \n",
    "from langgraph.graph import START, END"
   ]
  },
  {
   "cell_type": "code",
   "execution_count": 34,
   "metadata": {},
   "outputs": [],
   "source": [
    "from langgraph.prebuilt import ToolNode, tools_condition\n",
    "from langchain_teddynote.tools.tavily import TavilySearch"
   ]
  },
  {
   "cell_type": "code",
   "execution_count": 35,
   "metadata": {},
   "outputs": [],
   "source": [
    "from langchain_openai import ChatOpenAI"
   ]
  },
  {
   "cell_type": "code",
   "execution_count": 36,
   "metadata": {},
   "outputs": [],
   "source": [
    "from langchain_teddynote.graphs import visualize_graph"
   ]
  },
  {
   "cell_type": "code",
   "execution_count": 37,
   "metadata": {},
   "outputs": [],
   "source": [
    "######### 1. 상태 정의 #########\n",
    "\n",
    "# 상태 정의\n",
    "class State(TypedDict):\n",
    "    messages: Annotated[list, add_messages]"
   ]
  },
  {
   "cell_type": "code",
   "execution_count": 38,
   "metadata": {},
   "outputs": [],
   "source": [
    "######### 2. 도구 정의 및 바인딩 #########\n",
    "\n",
    "tool = TavilySearch(max_results=1)\n",
    "tools = [tool]"
   ]
  },
  {
   "cell_type": "code",
   "execution_count": 39,
   "metadata": {},
   "outputs": [],
   "source": [
    "######### 3. LLM을 도구와 결합 #########\n",
    "\n",
    "llm = ChatOpenAI(\n",
    "    api_key=key, \n",
    "    model_name='gpt-4o-mini',\n",
    "    temperature=0.1\n",
    ")\n",
    "\n",
    "llm_with_tools = llm.bind_tools(tools)"
   ]
  },
  {
   "cell_type": "code",
   "execution_count": 40,
   "metadata": {},
   "outputs": [],
   "source": [
    "def chatbot(state: State):\n",
    "    answer = llm_with_tools.invoke(state['messages'])\n",
    "\n",
    "    print('=================================================================================')\n",
    "    print(f'chatbot() 실행\\n')\n",
    "    print(f\"[1] state[messages]: \\n{state['messages']}\\n\")\n",
    "    # print(f'[2] chatbot answer: \\n', answer , \"\\n\")\n",
    "    print(f'[2] chatbot answer: \\n', answer.content)\n",
    "    print(f'[3] answer.additional_kwargs: \\n', answer.additional_kwargs)\n",
    "    print('=================================================================================')\n",
    "\n",
    "    return {'messages': [answer]}"
   ]
  },
  {
   "cell_type": "code",
   "execution_count": 41,
   "metadata": {},
   "outputs": [],
   "source": [
    "graph_builder = StateGraph(State)"
   ]
  },
  {
   "cell_type": "code",
   "execution_count": 42,
   "metadata": {},
   "outputs": [
    {
     "data": {
      "text/plain": [
       "<langgraph.graph.state.StateGraph at 0x2cb7f5741d0>"
      ]
     },
     "execution_count": 42,
     "metadata": {},
     "output_type": "execute_result"
    }
   ],
   "source": [
    "graph_builder.add_node('chatbot', chatbot)"
   ]
  },
  {
   "cell_type": "code",
   "execution_count": 43,
   "metadata": {},
   "outputs": [],
   "source": [
    "tool_node = ToolNode(tools=[tool])"
   ]
  },
  {
   "cell_type": "code",
   "execution_count": 44,
   "metadata": {},
   "outputs": [
    {
     "data": {
      "text/plain": [
       "<langgraph.graph.state.StateGraph at 0x2cb7f5741d0>"
      ]
     },
     "execution_count": 44,
     "metadata": {},
     "output_type": "execute_result"
    }
   ],
   "source": [
    "graph_builder.add_node('tools', tool_node)"
   ]
  },
  {
   "cell_type": "code",
   "execution_count": 45,
   "metadata": {},
   "outputs": [
    {
     "data": {
      "text/plain": [
       "<langgraph.graph.state.StateGraph at 0x2cb7f5741d0>"
      ]
     },
     "execution_count": 45,
     "metadata": {},
     "output_type": "execute_result"
    }
   ],
   "source": [
    "graph_builder.add_conditional_edges(\n",
    "    'chatbot',\n",
    "    tools_condition\n",
    ")"
   ]
  },
  {
   "cell_type": "code",
   "execution_count": 46,
   "metadata": {},
   "outputs": [
    {
     "data": {
      "text/plain": [
       "<langgraph.graph.state.StateGraph at 0x2cb7f5741d0>"
      ]
     },
     "execution_count": 46,
     "metadata": {},
     "output_type": "execute_result"
    }
   ],
   "source": [
    "######### 5. 엣지 추가 #########\n",
    "\n",
    "# tools 에서 chatbot 으로\n",
    "graph_builder.add_edge('tools', 'chatbot')"
   ]
  },
  {
   "cell_type": "code",
   "execution_count": 47,
   "metadata": {},
   "outputs": [
    {
     "data": {
      "text/plain": [
       "<langgraph.graph.state.StateGraph at 0x2cb7f5741d0>"
      ]
     },
     "execution_count": 47,
     "metadata": {},
     "output_type": "execute_result"
    }
   ],
   "source": [
    "# START 에서 chatbot 으로\n",
    "graph_builder.add_edge(START, 'chatbot')"
   ]
  },
  {
   "cell_type": "code",
   "execution_count": 48,
   "metadata": {},
   "outputs": [
    {
     "data": {
      "text/plain": [
       "<langgraph.graph.state.StateGraph at 0x2cb7f5741d0>"
      ]
     },
     "execution_count": 48,
     "metadata": {},
     "output_type": "execute_result"
    }
   ],
   "source": [
    "# chatbot 에서 END 로\n",
    "graph_builder.add_edge('chatbot', END)"
   ]
  },
  {
   "cell_type": "code",
   "execution_count": 49,
   "metadata": {},
   "outputs": [],
   "source": [
    "graph = graph_builder.compile(checkpointer=memory)"
   ]
  },
  {
   "cell_type": "code",
   "execution_count": 50,
   "metadata": {},
   "outputs": [
    {
     "data": {
      "image/png": "[encoded data removed]",
      "text/plain": [
       "<IPython.core.display.Image object>"
      ]
     },
     "metadata": {},
     "output_type": "display_data"
    }
   ],
   "source": [
    "visualize_graph(graph)"
   ]
  },
  {
   "cell_type": "code",
   "execution_count": 51,
   "metadata": {},
   "outputs": [],
   "source": [
    "from langchain_core.runnables import RunnableConfig"
   ]
  },
  {
   "cell_type": "code",
   "execution_count": 52,
   "metadata": {},
   "outputs": [],
   "source": [
    "config = RunnableConfig(\n",
    "    recursion_limit=10, \n",
    "    configurable={'thread_id': '1'}\n",
    ")"
   ]
  },
  {
   "cell_type": "code",
   "execution_count": 53,
   "metadata": {},
   "outputs": [
    {
     "name": "stdout",
     "output_type": "stream",
     "text": [
      "=================================================================================\n",
      "chatbot() 실행\n",
      "\n",
      "[1] state[messages]: \n",
      "[HumanMessage(content='`소프트웨어놀이터`에서 코딩강의를 하고 있는 이인환입니다.', additional_kwargs={}, response_metadata={}, id='bfca6d0f-054b-4089-bf5a-767372cde746')]\n",
      "\n",
      "[2] chatbot answer: \n",
      " 안녕하세요, 이인환님! 소프트웨어놀이터에서 코딩 강의를 하고 계시다니 멋지네요. 어떤 주제에 대해 강의를 하고 계신가요? 도움이 필요하시거나 궁금한 점이 있다면 말씀해 주세요!\n",
      "[3] answer.additional_kwargs: \n",
      " {'refusal': None}\n",
      "=================================================================================\n",
      "[event] 실행 결과\n",
      "[value]: \n",
      "content='안녕하세요, 이인환님! 소프트웨어놀이터에서 코딩 강의를 하고 계시다니 멋지네요. 어떤 주제에 대해 강의를 하고 계신가요? 도움이 필요하시거나 궁금한 점이 있다면 말씀해 주세요!' additional_kwargs={'refusal': None} response_metadata={'token_usage': {'completion_tokens': 58, 'prompt_tokens': 110, 'total_tokens': 168, 'completion_tokens_details': {'accepted_prediction_tokens': 0, 'audio_tokens': 0, 'reasoning_tokens': 0, 'rejected_prediction_tokens': 0}, 'prompt_tokens_details': {'audio_tokens': 0, 'cached_tokens': 0}}, 'model_name': 'gpt-4o-mini-2024-07-18', 'system_fingerprint': 'fp_00428b782a', 'finish_reason': 'stop', 'logprobs': None} id='run-73d75004-a66f-47ee-a116-417ad502ca7a-0' usage_metadata={'input_tokens': 110, 'output_tokens': 58, 'total_tokens': 168, 'input_token_details': {'audio': 0, 'cache_read': 0}, 'output_token_details': {'audio': 0, 'reasoning': 0}}\n",
      "\t[content]: 안녕하세요, 이인환님! 소프트웨어놀이터에서 코딩 강의를 하고 계시다니 멋지네요. 어떤 주제에 대해 강의를 하고 계신가요? 도움이 필요하시거나 궁금한 점이 있다면 말씀해 주세요!\n",
      "\t[additional_kwargs]: \n",
      "\t\t{'refusal': None}\n",
      "\t\t[token_usage]: \n",
      "\t\t\t[completion_tokens]: 58\n",
      "\t\t\t[prompt_tokens]: 110\n",
      "\t\t\t[total_tokens]: 168\n",
      "\t\t\t[completion_tokens_details]: {'accepted_prediction_tokens': 0, 'audio_tokens': 0, 'reasoning_tokens': 0, 'rejected_prediction_tokens': 0}\n",
      "\t\t\t[prompt_tokens_details]: {'audio_tokens': 0, 'cached_tokens': 0}\n",
      "\t\t[model_name]: gpt-4o-mini-2024-07-18\n",
      "\t\t[system_fingerprint]: fp_00428b782a\n",
      "\t\t[finish_reason]: stop\n",
      "\t[id]: \n",
      "\t\t run-73d75004-a66f-47ee-a116-417ad502ca7a-0\n",
      "\t[usage_metadata]: \n",
      "\t\t[input_tokens]: 110\n",
      "\t\t[output_tokens]: 58\n",
      "\t\t[total_tokens]: 168\n",
      "\t\t[input_token_details]: {'audio': 0, 'cache_read': 0}\n",
      "\t\t[output_token_details]: {'audio': 0, 'reasoning': 0}\n"
     ]
    }
   ],
   "source": [
    "question = ('`소프트웨어놀이터`에서 코딩강의를 하고 있는 이인환입니다.')\n",
    "\n",
    "for event in graph.stream({\"messages\": [(\"user\", question)]}, config=config):\n",
    "    \n",
    "    print('[event] 실행 결과')\n",
    "\n",
    "    for value in event.values():\n",
    "        print('[value]: ')\n",
    "        print(value['messages'][-1])\n",
    "        \n",
    "        print(f\"\\t[content]: {value['messages'][-1].content}\")\n",
    "\n",
    "        print(f\"\\t[additional_kwargs]: \")\n",
    "        print(f\"\\t\\t{value['messages'][-1].additional_kwargs}\")\n",
    "\n",
    "        print('\\t\\t[token_usage]: ')\n",
    "        # print(f\"\\t\\t\\t {value['messages'][-1].response_metadata['token_usage']}\")\n",
    "        print(f\"\\t\\t\\t[completion_tokens]: {value['messages'][-1].response_metadata['token_usage']['completion_tokens']}\")\n",
    "        print(f\"\\t\\t\\t[prompt_tokens]: {value['messages'][-1].response_metadata['token_usage']['prompt_tokens']}\")\n",
    "        print(f\"\\t\\t\\t[total_tokens]: {value['messages'][-1].response_metadata['token_usage']['total_tokens']}\")\n",
    "        print(f\"\\t\\t\\t[completion_tokens_details]: {value['messages'][-1].response_metadata['token_usage']['completion_tokens_details']}\")\n",
    "        print(f\"\\t\\t\\t[prompt_tokens_details]: {value['messages'][-1].response_metadata['token_usage']['prompt_tokens_details']}\")\n",
    "\n",
    "        print(f\"\\t\\t[model_name]: {value['messages'][-1].response_metadata['model_name']}\")\n",
    "        print(f\"\\t\\t[system_fingerprint]: {value['messages'][-1].response_metadata['system_fingerprint']}\")\n",
    "        print(f\"\\t\\t[finish_reason]: {value['messages'][-1].response_metadata['finish_reason']}\")        \n",
    "        \n",
    "        print('\\t[id]: ')\n",
    "        print(f\"\\t\\t {value['messages'][-1].id}\")\n",
    "\n",
    "        \n",
    "        print('\\t[usage_metadata]: ')\n",
    "        print(f\"\\t\\t[input_tokens]: {value['messages'][-1].usage_metadata['input_tokens']}\")\n",
    "        print(f\"\\t\\t[output_tokens]: {value['messages'][-1].usage_metadata['output_tokens']}\")\n",
    "        print(f\"\\t\\t[total_tokens]: {value['messages'][-1].usage_metadata['total_tokens']}\")\n",
    "        print(f\"\\t\\t[input_token_details]: {value['messages'][-1].usage_metadata['input_token_details']}\")\n",
    "        print(f\"\\t\\t[output_token_details]: {value['messages'][-1].usage_metadata['output_token_details']}\")"
   ]
  },
  {
   "cell_type": "code",
   "execution_count": 54,
   "metadata": {},
   "outputs": [
    {
     "name": "stdout",
     "output_type": "stream",
     "text": [
      "=================================================================================\n",
      "chatbot() 실행\n",
      "\n",
      "[1] state[messages]: \n",
      "[HumanMessage(content='`소프트웨어놀이터`에서 코딩강의를 하고 있는 이인환입니다.', additional_kwargs={}, response_metadata={}, id='bfca6d0f-054b-4089-bf5a-767372cde746'), AIMessage(content='안녕하세요, 이인환님! 소프트웨어놀이터에서 코딩 강의를 하고 계시다니 멋지네요. 어떤 주제에 대해 강의를 하고 계신가요? 도움이 필요하시거나 궁금한 점이 있다면 말씀해 주세요!', additional_kwargs={'refusal': None}, response_metadata={'token_usage': {'completion_tokens': 58, 'prompt_tokens': 110, 'total_tokens': 168, 'completion_tokens_details': {'accepted_prediction_tokens': 0, 'audio_tokens': 0, 'reasoning_tokens': 0, 'rejected_prediction_tokens': 0}, 'prompt_tokens_details': {'audio_tokens': 0, 'cached_tokens': 0}}, 'model_name': 'gpt-4o-mini-2024-07-18', 'system_fingerprint': 'fp_00428b782a', 'finish_reason': 'stop', 'logprobs': None}, id='run-73d75004-a66f-47ee-a116-417ad502ca7a-0', usage_metadata={'input_tokens': 110, 'output_tokens': 58, 'total_tokens': 168, 'input_token_details': {'audio': 0, 'cache_read': 0}, 'output_token_details': {'audio': 0, 'reasoning': 0}}), HumanMessage(content='`소프트웨어놀이터`에서 코딩강의를 하고 있는 이인환입니다.', additional_kwargs={}, response_metadata={}, id='38c692b2-af72-4b84-8287-b289d49d4c8c')]\n",
      "\n",
      "[2] chatbot answer: \n",
      " 안녕하세요, 이인환님! 소프트웨어놀이터에서 코딩 강의를 하고 계신다니 정말 멋지네요. 어떤 언어나 주제를 다루고 계신가요? 또는 도움이 필요하신 부분이 있으신가요?\n",
      "[3] answer.additional_kwargs: \n",
      " {'refusal': None}\n",
      "=================================================================================\n",
      "==================================\u001b[1m Ai Message \u001b[0m==================================\n",
      "\n",
      "안녕하세요, 이인환님! 소프트웨어놀이터에서 코딩 강의를 하고 계신다니 정말 멋지네요. 어떤 언어나 주제를 다루고 계신가요? 또는 도움이 필요하신 부분이 있으신가요?\n"
     ]
    }
   ],
   "source": [
    "question = ('`소프트웨어놀이터`에서 코딩강의를 하고 있는 이인환입니다.')\n",
    "\n",
    "for event in graph.stream({\"messages\": [(\"user\", question)]}, config=config):\n",
    "    for value in event.values():\n",
    "        value[\"messages\"][-1].pretty_print()"
   ]
  },
  {
   "cell_type": "code",
   "execution_count": 55,
   "metadata": {},
   "outputs": [
    {
     "name": "stdout",
     "output_type": "stream",
     "text": [
      "=================================================================================\n",
      "chatbot() 실행\n",
      "\n",
      "[1] state[messages]: \n",
      "[HumanMessage(content='`소프트웨어놀이터`에서 코딩강의를 하고 있는 이인환입니다.', additional_kwargs={}, response_metadata={}, id='bfca6d0f-054b-4089-bf5a-767372cde746'), AIMessage(content='안녕하세요, 이인환님! 소프트웨어놀이터에서 코딩 강의를 하고 계시다니 멋지네요. 어떤 주제에 대해 강의를 하고 계신가요? 도움이 필요하시거나 궁금한 점이 있다면 말씀해 주세요!', additional_kwargs={'refusal': None}, response_metadata={'token_usage': {'completion_tokens': 58, 'prompt_tokens': 110, 'total_tokens': 168, 'completion_tokens_details': {'accepted_prediction_tokens': 0, 'audio_tokens': 0, 'reasoning_tokens': 0, 'rejected_prediction_tokens': 0}, 'prompt_tokens_details': {'audio_tokens': 0, 'cached_tokens': 0}}, 'model_name': 'gpt-4o-mini-2024-07-18', 'system_fingerprint': 'fp_00428b782a', 'finish_reason': 'stop', 'logprobs': None}, id='run-73d75004-a66f-47ee-a116-417ad502ca7a-0', usage_metadata={'input_tokens': 110, 'output_tokens': 58, 'total_tokens': 168, 'input_token_details': {'audio': 0, 'cache_read': 0}, 'output_token_details': {'audio': 0, 'reasoning': 0}}), HumanMessage(content='`소프트웨어놀이터`에서 코딩강의를 하고 있는 이인환입니다.', additional_kwargs={}, response_metadata={}, id='38c692b2-af72-4b84-8287-b289d49d4c8c'), AIMessage(content='안녕하세요, 이인환님! 소프트웨어놀이터에서 코딩 강의를 하고 계신다니 정말 멋지네요. 어떤 언어나 주제를 다루고 계신가요? 또는 도움이 필요하신 부분이 있으신가요?', additional_kwargs={'refusal': None}, response_metadata={'token_usage': {'completion_tokens': 56, 'prompt_tokens': 193, 'total_tokens': 249, 'completion_tokens_details': {'accepted_prediction_tokens': 0, 'audio_tokens': 0, 'reasoning_tokens': 0, 'rejected_prediction_tokens': 0}, 'prompt_tokens_details': {'audio_tokens': 0, 'cached_tokens': 0}}, 'model_name': 'gpt-4o-mini-2024-07-18', 'system_fingerprint': 'fp_00428b782a', 'finish_reason': 'stop', 'logprobs': None}, id='run-ae0b7922-2a24-4cfe-af32-3dabe4f2da20-0', usage_metadata={'input_tokens': 193, 'output_tokens': 56, 'total_tokens': 249, 'input_token_details': {'audio': 0, 'cache_read': 0}, 'output_token_details': {'audio': 0, 'reasoning': 0}}), HumanMessage(content='내 이름이 뭐라고 했지?', additional_kwargs={}, response_metadata={}, id='209a409a-13b6-459e-ad7d-a7ae5ac0c15c')]\n",
      "\n",
      "[2] chatbot answer: \n",
      " 당신의 이름은 이인환입니다.\n",
      "[3] answer.additional_kwargs: \n",
      " {'refusal': None}\n",
      "=================================================================================\n",
      "=================================================================================\n",
      "\n",
      "[event] 실행 결과\n",
      "(1) value : \n",
      "content='당신의 이름은 이인환입니다.' additional_kwargs={'refusal': None} response_metadata={'token_usage': {'completion_tokens': 12, 'prompt_tokens': 263, 'total_tokens': 275, 'completion_tokens_details': {'accepted_prediction_tokens': 0, 'audio_tokens': 0, 'reasoning_tokens': 0, 'rejected_prediction_tokens': 0}, 'prompt_tokens_details': {'audio_tokens': 0, 'cached_tokens': 0}}, 'model_name': 'gpt-4o-mini-2024-07-18', 'system_fingerprint': 'fp_00428b782a', 'finish_reason': 'stop', 'logprobs': None} id='run-7d44a132-ca05-42cd-8e0c-83db7756ac70-0' usage_metadata={'input_tokens': 263, 'output_tokens': 12, 'total_tokens': 275, 'input_token_details': {'audio': 0, 'cache_read': 0}, 'output_token_details': {'audio': 0, 'reasoning': 0}}\n",
      "\n",
      "(2) [content]: 당신의 이름은 이인환입니다.\n",
      "(3) [additional_kwargs]: \n",
      "\t{'refusal': None}\n",
      "(4) [response_metadata]: \n",
      "\t{'token_usage': {'completion_tokens': 12, 'prompt_tokens': 263, 'total_tokens': 275, 'completion_tokens_details': {'accepted_prediction_tokens': 0, 'audio_tokens': 0, 'reasoning_tokens': 0, 'rejected_prediction_tokens': 0}, 'prompt_tokens_details': {'audio_tokens': 0, 'cached_tokens': 0}}, 'model_name': 'gpt-4o-mini-2024-07-18', 'system_fingerprint': 'fp_00428b782a', 'finish_reason': 'stop', 'logprobs': None}\n",
      "=================================================================================\n",
      "\n"
     ]
    }
   ],
   "source": [
    "# 이어지는 질문\n",
    "question = \"내 이름이 뭐라고 했지?\"\n",
    "\n",
    "for event in graph.stream({\"messages\": [(\"user\", question)]}, config=config):\n",
    "    \n",
    "    print('=================================================================================')\n",
    "    print('\\n[event] 실행 결과')\n",
    "\n",
    "    for value in event.values():\n",
    "        print('(1) value : ')\n",
    "        print(value['messages'][-1])\n",
    "        print()\n",
    "\n",
    "        if value['messages'][-1].content is not None:\n",
    "            print(f\"(2) [content]: {value['messages'][-1].content}\")\n",
    "        else:\n",
    "            print(f\"(2) [content]: 없음\")\n",
    "\n",
    "\n",
    "        if value['messages'][-1].additional_kwargs is not None:\n",
    "            print(f\"(3) [additional_kwargs]: \")\n",
    "            print(f\"\\t{value['messages'][-1].additional_kwargs}\")\n",
    "\n",
    "        else:\n",
    "            print(f\"(3) [additional_kwargs]: 없음\")\n",
    "\n",
    "        \n",
    "        if value['messages'][-1].response_metadata is not None:\n",
    "            print(f\"(4) [response_metadata]: \")\n",
    "            print(f\"\\t{value['messages'][-1].response_metadata}\")\n",
    "        else:\n",
    "            print(f\"(4)) [response_metadata]: 없음\")\n",
    "        print('=================================================================================')\n",
    "        print()"
   ]
  },
  {
   "cell_type": "code",
   "execution_count": 56,
   "metadata": {},
   "outputs": [
    {
     "name": "stdout",
     "output_type": "stream",
     "text": [
      "=================================================================================\n",
      "chatbot() 실행\n",
      "\n",
      "[1] state[messages]: \n",
      "[HumanMessage(content='`소프트웨어놀이터`에서 코딩강의를 하고 있는 이인환입니다.', additional_kwargs={}, response_metadata={}, id='bfca6d0f-054b-4089-bf5a-767372cde746'), AIMessage(content='안녕하세요, 이인환님! 소프트웨어놀이터에서 코딩 강의를 하고 계시다니 멋지네요. 어떤 주제에 대해 강의를 하고 계신가요? 도움이 필요하시거나 궁금한 점이 있다면 말씀해 주세요!', additional_kwargs={'refusal': None}, response_metadata={'token_usage': {'completion_tokens': 58, 'prompt_tokens': 110, 'total_tokens': 168, 'completion_tokens_details': {'accepted_prediction_tokens': 0, 'audio_tokens': 0, 'reasoning_tokens': 0, 'rejected_prediction_tokens': 0}, 'prompt_tokens_details': {'audio_tokens': 0, 'cached_tokens': 0}}, 'model_name': 'gpt-4o-mini-2024-07-18', 'system_fingerprint': 'fp_00428b782a', 'finish_reason': 'stop', 'logprobs': None}, id='run-73d75004-a66f-47ee-a116-417ad502ca7a-0', usage_metadata={'input_tokens': 110, 'output_tokens': 58, 'total_tokens': 168, 'input_token_details': {'audio': 0, 'cache_read': 0}, 'output_token_details': {'audio': 0, 'reasoning': 0}}), HumanMessage(content='`소프트웨어놀이터`에서 코딩강의를 하고 있는 이인환입니다.', additional_kwargs={}, response_metadata={}, id='38c692b2-af72-4b84-8287-b289d49d4c8c'), AIMessage(content='안녕하세요, 이인환님! 소프트웨어놀이터에서 코딩 강의를 하고 계신다니 정말 멋지네요. 어떤 언어나 주제를 다루고 계신가요? 또는 도움이 필요하신 부분이 있으신가요?', additional_kwargs={'refusal': None}, response_metadata={'token_usage': {'completion_tokens': 56, 'prompt_tokens': 193, 'total_tokens': 249, 'completion_tokens_details': {'accepted_prediction_tokens': 0, 'audio_tokens': 0, 'reasoning_tokens': 0, 'rejected_prediction_tokens': 0}, 'prompt_tokens_details': {'audio_tokens': 0, 'cached_tokens': 0}}, 'model_name': 'gpt-4o-mini-2024-07-18', 'system_fingerprint': 'fp_00428b782a', 'finish_reason': 'stop', 'logprobs': None}, id='run-ae0b7922-2a24-4cfe-af32-3dabe4f2da20-0', usage_metadata={'input_tokens': 193, 'output_tokens': 56, 'total_tokens': 249, 'input_token_details': {'audio': 0, 'cache_read': 0}, 'output_token_details': {'audio': 0, 'reasoning': 0}}), HumanMessage(content='내 이름이 뭐라고 했지?', additional_kwargs={}, response_metadata={}, id='209a409a-13b6-459e-ad7d-a7ae5ac0c15c'), AIMessage(content='당신의 이름은 이인환입니다.', additional_kwargs={'refusal': None}, response_metadata={'token_usage': {'completion_tokens': 12, 'prompt_tokens': 263, 'total_tokens': 275, 'completion_tokens_details': {'accepted_prediction_tokens': 0, 'audio_tokens': 0, 'reasoning_tokens': 0, 'rejected_prediction_tokens': 0}, 'prompt_tokens_details': {'audio_tokens': 0, 'cached_tokens': 0}}, 'model_name': 'gpt-4o-mini-2024-07-18', 'system_fingerprint': 'fp_00428b782a', 'finish_reason': 'stop', 'logprobs': None}, id='run-7d44a132-ca05-42cd-8e0c-83db7756ac70-0', usage_metadata={'input_tokens': 263, 'output_tokens': 12, 'total_tokens': 275, 'input_token_details': {'audio': 0, 'cache_read': 0}, 'output_token_details': {'audio': 0, 'reasoning': 0}}), HumanMessage(content='내 이름이 뭐라고 했지?', additional_kwargs={}, response_metadata={}, id='fe26559f-6657-4466-b577-38116b8d3766')]\n",
      "\n",
      "[2] chatbot answer: \n",
      " 당신의 이름은 이인환입니다.\n",
      "[3] answer.additional_kwargs: \n",
      " {'refusal': None}\n",
      "=================================================================================\n",
      "content='당신의 이름은 이인환입니다.' additional_kwargs={'refusal': None} response_metadata={'token_usage': {'completion_tokens': 12, 'prompt_tokens': 289, 'total_tokens': 301, 'completion_tokens_details': {'accepted_prediction_tokens': 0, 'audio_tokens': 0, 'reasoning_tokens': 0, 'rejected_prediction_tokens': 0}, 'prompt_tokens_details': {'audio_tokens': 0, 'cached_tokens': 0}}, 'model_name': 'gpt-4o-mini-2024-07-18', 'system_fingerprint': 'fp_00428b782a', 'finish_reason': 'stop', 'logprobs': None} id='run-06df7e87-4a76-4760-a0d5-b378c509f081-0' usage_metadata={'input_tokens': 289, 'output_tokens': 12, 'total_tokens': 301, 'input_token_details': {'audio': 0, 'cache_read': 0}, 'output_token_details': {'audio': 0, 'reasoning': 0}}\n"
     ]
    }
   ],
   "source": [
    "question = \"내 이름이 뭐라고 했지?\"\n",
    "\n",
    "for event in graph.stream({\"messages\": [(\"user\", question)]}, config=config):\n",
    "    for value in event.values():\n",
    "        print(value[\"messages\"][-1])"
   ]
  },
  {
   "cell_type": "code",
   "execution_count": 57,
   "metadata": {},
   "outputs": [
    {
     "name": "stdout",
     "output_type": "stream",
     "text": [
      "=================================================================================\n",
      "chatbot() 실행\n",
      "\n",
      "[1] state[messages]: \n",
      "[HumanMessage(content='`소프트웨어놀이터`에서 코딩강의를 하고 있는 이인환입니다.', additional_kwargs={}, response_metadata={}, id='bfca6d0f-054b-4089-bf5a-767372cde746'), AIMessage(content='안녕하세요, 이인환님! 소프트웨어놀이터에서 코딩 강의를 하고 계시다니 멋지네요. 어떤 주제에 대해 강의를 하고 계신가요? 도움이 필요하시거나 궁금한 점이 있다면 말씀해 주세요!', additional_kwargs={'refusal': None}, response_metadata={'token_usage': {'completion_tokens': 58, 'prompt_tokens': 110, 'total_tokens': 168, 'completion_tokens_details': {'accepted_prediction_tokens': 0, 'audio_tokens': 0, 'reasoning_tokens': 0, 'rejected_prediction_tokens': 0}, 'prompt_tokens_details': {'audio_tokens': 0, 'cached_tokens': 0}}, 'model_name': 'gpt-4o-mini-2024-07-18', 'system_fingerprint': 'fp_00428b782a', 'finish_reason': 'stop', 'logprobs': None}, id='run-73d75004-a66f-47ee-a116-417ad502ca7a-0', usage_metadata={'input_tokens': 110, 'output_tokens': 58, 'total_tokens': 168, 'input_token_details': {'audio': 0, 'cache_read': 0}, 'output_token_details': {'audio': 0, 'reasoning': 0}}), HumanMessage(content='`소프트웨어놀이터`에서 코딩강의를 하고 있는 이인환입니다.', additional_kwargs={}, response_metadata={}, id='38c692b2-af72-4b84-8287-b289d49d4c8c'), AIMessage(content='안녕하세요, 이인환님! 소프트웨어놀이터에서 코딩 강의를 하고 계신다니 정말 멋지네요. 어떤 언어나 주제를 다루고 계신가요? 또는 도움이 필요하신 부분이 있으신가요?', additional_kwargs={'refusal': None}, response_metadata={'token_usage': {'completion_tokens': 56, 'prompt_tokens': 193, 'total_tokens': 249, 'completion_tokens_details': {'accepted_prediction_tokens': 0, 'audio_tokens': 0, 'reasoning_tokens': 0, 'rejected_prediction_tokens': 0}, 'prompt_tokens_details': {'audio_tokens': 0, 'cached_tokens': 0}}, 'model_name': 'gpt-4o-mini-2024-07-18', 'system_fingerprint': 'fp_00428b782a', 'finish_reason': 'stop', 'logprobs': None}, id='run-ae0b7922-2a24-4cfe-af32-3dabe4f2da20-0', usage_metadata={'input_tokens': 193, 'output_tokens': 56, 'total_tokens': 249, 'input_token_details': {'audio': 0, 'cache_read': 0}, 'output_token_details': {'audio': 0, 'reasoning': 0}}), HumanMessage(content='내 이름이 뭐라고 했지?', additional_kwargs={}, response_metadata={}, id='209a409a-13b6-459e-ad7d-a7ae5ac0c15c'), AIMessage(content='당신의 이름은 이인환입니다.', additional_kwargs={'refusal': None}, response_metadata={'token_usage': {'completion_tokens': 12, 'prompt_tokens': 263, 'total_tokens': 275, 'completion_tokens_details': {'accepted_prediction_tokens': 0, 'audio_tokens': 0, 'reasoning_tokens': 0, 'rejected_prediction_tokens': 0}, 'prompt_tokens_details': {'audio_tokens': 0, 'cached_tokens': 0}}, 'model_name': 'gpt-4o-mini-2024-07-18', 'system_fingerprint': 'fp_00428b782a', 'finish_reason': 'stop', 'logprobs': None}, id='run-7d44a132-ca05-42cd-8e0c-83db7756ac70-0', usage_metadata={'input_tokens': 263, 'output_tokens': 12, 'total_tokens': 275, 'input_token_details': {'audio': 0, 'cache_read': 0}, 'output_token_details': {'audio': 0, 'reasoning': 0}}), HumanMessage(content='내 이름이 뭐라고 했지?', additional_kwargs={}, response_metadata={}, id='fe26559f-6657-4466-b577-38116b8d3766'), AIMessage(content='당신의 이름은 이인환입니다.', additional_kwargs={'refusal': None}, response_metadata={'token_usage': {'completion_tokens': 12, 'prompt_tokens': 289, 'total_tokens': 301, 'completion_tokens_details': {'accepted_prediction_tokens': 0, 'audio_tokens': 0, 'reasoning_tokens': 0, 'rejected_prediction_tokens': 0}, 'prompt_tokens_details': {'audio_tokens': 0, 'cached_tokens': 0}}, 'model_name': 'gpt-4o-mini-2024-07-18', 'system_fingerprint': 'fp_00428b782a', 'finish_reason': 'stop', 'logprobs': None}, id='run-06df7e87-4a76-4760-a0d5-b378c509f081-0', usage_metadata={'input_tokens': 289, 'output_tokens': 12, 'total_tokens': 301, 'input_token_details': {'audio': 0, 'cache_read': 0}, 'output_token_details': {'audio': 0, 'reasoning': 0}}), HumanMessage(content='대한민국 수도에 대해서 검색해줘', additional_kwargs={}, response_metadata={}, id='974d66df-6f9a-4c09-821b-8f5b4c264ee5')]\n",
      "\n",
      "[2] chatbot answer: \n",
      " \n",
      "[3] answer.additional_kwargs: \n",
      " {'tool_calls': [{'id': 'call_UK0YiH0hqTGg5S2OPtSxVkXr', 'function': {'arguments': '{\"query\":\"대한민국 수도\"}', 'name': 'tavily_web_search'}, 'type': 'function'}], 'refusal': None}\n",
      "=================================================================================\n",
      "=================================================================================\n",
      "\n",
      "[event] 실행 결과\n",
      "(1) value : \n",
      "content='' additional_kwargs={'tool_calls': [{'id': 'call_UK0YiH0hqTGg5S2OPtSxVkXr', 'function': {'arguments': '{\"query\":\"대한민국 수도\"}', 'name': 'tavily_web_search'}, 'type': 'function'}], 'refusal': None} response_metadata={'token_usage': {'completion_tokens': 20, 'prompt_tokens': 315, 'total_tokens': 335, 'completion_tokens_details': {'accepted_prediction_tokens': 0, 'audio_tokens': 0, 'reasoning_tokens': 0, 'rejected_prediction_tokens': 0}, 'prompt_tokens_details': {'audio_tokens': 0, 'cached_tokens': 0}}, 'model_name': 'gpt-4o-mini-2024-07-18', 'system_fingerprint': 'fp_00428b782a', 'finish_reason': 'tool_calls', 'logprobs': None} id='run-c63bd05e-65a2-4cd9-b719-c6c6e3a0f486-0' tool_calls=[{'name': 'tavily_web_search', 'args': {'query': '대한민국 수도'}, 'id': 'call_UK0YiH0hqTGg5S2OPtSxVkXr', 'type': 'tool_call'}] usage_metadata={'input_tokens': 315, 'output_tokens': 20, 'total_tokens': 335, 'input_token_details': {'audio': 0, 'cache_read': 0}, 'output_token_details': {'audio': 0, 'reasoning': 0}}\n",
      "\n",
      "(2) [content]: \n",
      "(3) [additional_kwargs]: \n",
      "\t{'tool_calls': [{'id': 'call_UK0YiH0hqTGg5S2OPtSxVkXr', 'function': {'arguments': '{\"query\":\"대한민국 수도\"}', 'name': 'tavily_web_search'}, 'type': 'function'}], 'refusal': None}\n",
      "(4) [response_metadata]: \n",
      "\t{'token_usage': {'completion_tokens': 20, 'prompt_tokens': 315, 'total_tokens': 335, 'completion_tokens_details': {'accepted_prediction_tokens': 0, 'audio_tokens': 0, 'reasoning_tokens': 0, 'rejected_prediction_tokens': 0}, 'prompt_tokens_details': {'audio_tokens': 0, 'cached_tokens': 0}}, 'model_name': 'gpt-4o-mini-2024-07-18', 'system_fingerprint': 'fp_00428b782a', 'finish_reason': 'tool_calls', 'logprobs': None}\n",
      "=================================================================================\n",
      "\n",
      "=================================================================================\n",
      "\n",
      "[event] 실행 결과\n",
      "(1) value : \n",
      "content='[{\"title\": \"한국의 수도 - 위키백과, 우리 모두의 백과사전\", \"url\": \"https://ko.wikipedia.org/wiki/한국의_수도\", \"content\": \"개인 도구 한국의 수도 편집 도구 위키백과, 우리 모두의 백과사전. 한국의 역대 수도[편집] 삼한  마한  충청도와 전라도 일대 몽촌토성, 풍납토성을 비롯하여 초기 백제시대의 유물이 발견되었으며, 475년 고구려 장수왕이 백제를 침공하여 개로왕을 죽이자, 개로왕의 아들인 문주왕이 웅진으로 천도하였다.[2] 웅진은 오늘날 충청남도 공주시 일대로 70여년간 백제의 수도로써 번성하였으며 그 중 공산성, 송산리 고분군과 무령왕릉은 세계문화유산으로 지정되었다. 태조 이성계는 새 도읍지를 물색하던 중\\xa0무학국사와\\xa0하륜(河崙) 등 중신들의 의견에 따라 1393년, 도읍지를 한양으로 정하고\\xa01394년\\xa0신도궁궐조성도감(新都宮闕造成都監)을 설치하여 새 수도의 도시 계획을 구상하였다. 1945년 8월 15일~1946년 2월 15일   평양   조선민주주의인민공화국    평양직할시   1945년 8월 15일~1946년 2월 15일 1945년 해방 전후로 8월에는 소련군이 함경북도를 거쳐 38도선 북부를 점령하였고, 9월에는 미군이 남부에 주둔하면서 한반도는 북위 38도선을 경계로 남북으로 분단되어 미국과 소련, 양국의 군정이 실시되었다. 위키백과 소개\", \"score\": 0.8700796, \"raw_content\": \"본문으로 이동\\\\n주 메뉴\\\\n검색\\\\n기부\\\\n계정 만들기\\\\n로그인\\\\n개인 도구\\\\n목차 토글\\\\n한국의 수도\\\\n7개 언어\\\\n문서\\\\n토론\\\\n읽기\\\\n편집\\\\n역사 보기\\\\n도구\\\\n위키백과, 우리 모두의 백과사전.\\\\n다음은 한국사에 존재했던 여러 나라들의 수도이다.\\\\n한국의 역대 수도[편집]\\\\n고조선 시대[편집]\\\\n국가명 수도  현재 위치   수도 기간\\\\n고조선\\\\n기원전 2333년~기원전 108년  단군조선    아사달 阿斯達 위치불명    불명\\\\n위만조선    왕검성 王儉城\\\\n진국  불명\\\\n원삼국시대[편집]\\\\n국가명 수도  현재 위치   비고\\\\n부여  북부여 부여성 扶餘城  중화인민공화국  \\\\n동부여 불명\\\\n옥저   조선민주주의인민공화국    함경도, 강원도 일대\\\\n동예   대한민국   강원도 일대\\\\n삼한  마한  충청도와 전라도 일대\\\\n변한  전라남도와 경상남도 일대\\\\n진한  경상도 일대\\\\n고대[편집]\\\\n고구려[편집]\\\\n고구려\\\\n기원전 37년~668년    수도명 현재 위치   수도 기간 \\\\n졸본 卒本    중화인민공화국    랴오닝성 환런현    기원전 37년~3년\\\\n국내성 國內城 지린성 지안 시    3년~427년\\\\n평양성 平壤城  조선민주주의인민공화국    평양직할시   427년~668년\\\\n《삼국사기》 〈고구려본기〉의 기록에는 기원전 37년 주몽이 부여에서 탈출하여 졸본에 도읍을 정하였다고 기록되어 있다. 이후 동명성왕의 아들 유리명왕이 국내성으로 천도하면서 위나암성을 축조하였으며 오늘날 중국 지린성 지안 시 일대이다. 427년 광개토대왕의 아들 장수왕 대에 이르러 평양으로 천도하였다. 586년 평원왕 대에 장안성(長安城)이 축조되어 수도의 역할을 하였다.\\\\n백제[편집]\\\\n백제\\\\n기원전 18년~660년    국호  수도  현재 위치   수도 기간 \\\\n백제  위례성 慰禮城  대한민국   서울특별시 송파구   기원전 18년~475년\\\\n웅진[1] 熊津    충청남도 공주시    475년~538년\\\\n남부여 사비 泗沘   충청남도 부여군    538년~660년\\\\n고구려 동명성왕의 셋째 아들인 온조가 남하하여 첫 수도를 정한 위례성은 현재의 서울특별시 송파구 부근이다. 몽촌토성, 풍납토성을 비롯하여 초기 백제시대의 유물이 발견되었으며, 475년 고구려 장수왕이 백제를 침공하여 개로왕을 죽이자, 개로왕의 아들인 문주왕이 웅진으로 천도하였다.[2] 웅진은 오늘날 충청남도 공주시 일대로 70여년간 백제의 수도로써 번성하였으며 그 중 공산성, 송산리 고분군과 무령왕릉은 세계문화유산으로 지정되었다. 538년, 성왕은 국호를 남부여로 고치고 수도를 사비로 이전하였다.[3] 이후 660년 멸망할 때까지 사비는 백제의 마지막 수도였다. 사비는 오늘날의 충남 부여군이며, 능산리 고분군, 정림사지 등의 유적들이 세계문화유산으로 지정되었다.\\\\n신라[편집]\\\\n신라\\\\n기원전 57년~935년    수도  현재 위치   수도 기간 \\\\n\\u3000금성[4]\\\\n金城   대한민국 경상북도 경주시  기원전 57년~935년\\\\n신라의 수도는 금성(金城)이며 서라벌, 쇠울 등 다양한 이름으로 불려왔다. 금성은 오늘날의 경상북도 경주시이며 고도(古都)이다. 수도가 동남쪽으로 치우쳐져 있는 것을 보완하고자 5소경을 설치하였고, 신문왕 대에 달구벌로 천도하려 하였으나 귀족의 반발로 무산되었다.[5] 금성은 천년동안 신라의 수도였으며 오늘날 수많은 유적들이 남아있다.\\\\n석굴암, 불국사를 비롯하여 첨성대, 안압지, 황룡사지, 분황사 등의 유적지가 존재하며 대릉원, 천마총과 여러 왕릉들이 존재한다. 경주의 유적은 2000년 세계문화유산으로 등록되었다.\\\\n가야[편집]\\\\n가야\\\\n42년~562년    국호  수도  현재 위치   수도 기간\\\\n금관가야    미상   대한민국   경상남도 김해시    42년~532년\\\\n대가야 경상북도 고령군    42년~562년\\\\n발해[편집]\\\\n발해\\\\n698년~926년   수도  현재 위치   수도 기간 \\\\n구국 舊國    중화인민공화국    지린성 둔화 시    698년~8세기\\\\n중경현덕부 中京顯德府 지린성 허룽 시    742년~756년\\\\n상경용천부 上京龍泉府 헤이룽장성 닝안 시  756년~785년\\\\n동경용원부 東京龍原府 헤이룽장성 훈춘 시  785년~794년\\\\n상경용천부 上京龍泉府 헤이룽장성 닝안 시  794년~926년\\\\n대조영이 건국한 발해는 초기에 동모산을 거점으로 성립하였으며 오늘날의 중국 지린성 둔화 시이다. 문왕의 둘째 딸인 정혜공주의 묘가 1949년 둔화 시 육정산 고분군에서 발굴되었다. 발해는 5경을 두었으며 이 중 중경 현덕부, 동경 용원부를 거쳐 상경 용천부(上京龍泉府)가 수도가 되었는데, 오늘날 중국 지린성 허룽 시, 헤이룽장성 일대이다.\\\\n1980년 룽터우 산 고분군에서 문왕의 넷째 딸인 정효공주의 묘가 발굴되었으며, 2005년 룽터우산 고분군에서 문왕의 부인인 효의황후(孝懿皇后) 묘지와 9대 간왕(簡王)의 부인인 순목황후(順穆皇后) 묘지가 발굴되었다.[6][7]\\\\n후삼국 시대[편집]\\\\n후백제[편집]\\\\n후백제\\\\n892년~936년   수도  현재 위치   수도 기간\\\\n무진주 武珍州  대한민국   전라남도 일대\\\\n광주광역시   892년~900년\\\\n완산주 完山州 전라북도 전주시    900년~936년\\\\n892년 무진주를 거점으로 나라를 세운 견훤은 900년 완산주(完山州)로 천도하면서 즉위하였다. 이후 936년 고려에 멸망할 때까지 완산주는 후백제의 도읍이었다. 무진주는 오늘날의 광주광역시와 전라남도 일대이고, 완산주는 전라북도 전주이다. 전주 교동에서 우아동 3가에 이르는 길의 견훤의 이름을 본따 \\'견훤로\\'로 명명되었다.\\\\n태봉[편집]\\\\n후고구려\\\\n901년~918년   국호  수도  현재 위치   수도 기간\\\\n후고구려    송악 松岳    조선민주주의인민공화국    개성특별시   901년~905년\\\\n마진  철원 鐵原   강원도 철원군 905년~911년\\\\n태봉   대한민국   911년~918년\\\\n신라 헌안왕 혹은 경문왕의 서자인 궁예는 반신라적 사상과 고구려를 계승한다는 기지를 내걸고 901년 후고구려를 건국하였다. 초기 수도는 송악이며 오늘날 북한 개성이다.\\\\n905년 국호를 마진으로 바꾸고 철원으로 천도하였으며 911년 국호를 태봉으로 고쳤다. 이후 918년 6월 왕건의 정변으로 멸망하였으며 철원은 남북으로 분단되어 오늘날 남북한 모두 동명의 행정구역을 갖는다.\\\\n고려시대[편집]\\\\n 고려\\\\n918년~1392년  수도  현재 위치   수도 기간 \\\\n철원 鐵原    대한민국   강원도 철원군 918년~919년\\\\n 조선민주주의인민공화국\\\\n개경 開京   개성특별시   919년~1232년\\\\n강화 江華    대한민국   인천광역시 강화군   1232년~1270년\\\\n개경 開京    조선민주주의인민공화국    개성특별시   1270년~1392년\\\\n개경은 500여년간 번성한 고려의 수도이며 오늘날의 북한 개성시이다. 태봉, 고려, 조선[8] 세 왕조가 도읍하였다. 송도(松都), 송악(松岳), 송경(松京) 등 여러 가지 이름으로 불렸다. 또한 예성강 하구에 위치한 무역항인 벽란도를 통해 국제무역이 번성하였다.\\\\n1232년 몽고의 침입이 시작되자, 무신정권의 집권자인 최우가 수도를 강화도로 옮기면서[9] 1270년 개경으로 환도할 때까지 38년간 강화(江華)가 고려의 수도가 되었다. 만월대, 고려왕릉, 첨성대, 선죽교 등 고려왕조의 유적이 남아있으며 일부는 세계문화유산으로 지정되었다.[10]\\\\n조선시대[편집]\\\\n국호  수도  현재 위치   수도 기간 \\\\n 조선\\\\n1392년~1897년 개경 開京    조선민주주의인민공화국    개성특별시   1392년~1394년\\\\n한양 漢陽    대한민국   서울특별시   1394년~1399년\\\\n개경 開京    조선민주주의인민공화국    개성특별시   1399년~1405년\\\\n한양 漢陽    대한민국   서울특별시   1405년~1910년\\\\n 대한제국\\\\n1897년~1910년\\\\n조선의 수도는 한성(漢城)이며 한양(漢陽)이라고도 한다. 태조 이성계는 새 도읍지를 물색하던 중\\xa0무학국사와\\xa0하륜(河崙) 등 중신들의 의견에 따라 1393년, 도읍지를 한양으로 정하고\\xa01394년\\xa0신도궁궐조성도감(新都宮闕造成都監)을 설치하여 새 수도의 도시 계획을 구상하였다. 1394년 음력 10월 28일\\xa0한양으로 천도 하였다. 천도의 기준은\\xa0풍수·도참설에 따르면서, 남쪽에 한강이 있어 교통상 배로 물건을 실어 나르기가 편리하였기 때문이다.\\\\n1394년 한양으로 천도한 이래 정종이 개경으로 환도하였다가 태종이 다시 한양으로 천도하였다. 태종 대에 궁궐과 성곽 도로 공사를 통해 수도의 면모를 갖추었으며 임진왜란을 겪으며 경복궁과 종묘 등을 비롯하여 도시 전반이 파괴되었다가 전후 복구되었다. 이후 대한제국 시기에 각국의 공사관과 명동성당, 덕수궁 석조전과 같은 서양식 건물이 건설되고 철도가 설치되었다.\\\\n일제강점기[편집]\\\\n 일제강점기\\\\n1910년 8월 29일\\\\n~1945년 8월 15일   수도  현재 위치   수도 기간 \\\\n경성부\\\\n京城府  대한민국 서울특별시 1910년 9월 30일[11]~1945년 8월 15일\\\\n일제강점기의 수도는 경성부(한자: 京城府) 또는\\xa0게이조 부(일본어: 京城府 게이조후[*])이며 오늘날의\\xa0서울특별시에 해당한다. 조선과\\xa0대한제국의 수도였던\\xa0한성부는 1910년\\xa0한일 병합 조약\\xa0체결 이후에 일본 제국의 조선 식민 지배의 행정 중심지로서 경성부로 불리게 되었고, 경기도에 편입되어 도청 소재지가 되었다.\\\\n혼마치(本町, 충무로)와 메이지초(明治町, 명동)를 중심으로 상권이 발달하였으나 도시의 빈부격차는 극심하였다. 1943년\\xa06월 10일, 인구 증가에 따라\\xa0구가 설치되었다.\\xa0광복 이후에도 잠시 경성으로 불렸으나,\\xa01946년\\xa09월 28일\\xa0미군정에 의하여\\xa0경기도에서 분리해\\xa0서울특별자유시가 되었다.\\\\n대한민국 임시정부[편집]\\\\n 대한민국 임시정부\\\\n1919년~1945년 임시 수도   현재 위치   임시 수도 기간  \\\\n상하이 上海   중화인민공화국    상하이시    1919년 4월~ 1932년 5월\\\\n항저우 杭州  저장성 항저우시    1932년 5월 ~ 1932년 10월\\\\n전장 鎭江   장쑤성 전장 시    1932년 10월 ~ 1932년 11월\\\\n난징 南京   장쑤성 난징시 1932년 11월~1937년 11월\\\\n창사 長沙   후난성 창사 시    1937년 12월~1938년 7월\\\\n광저우 廣州  광둥성 광저우 시   1938년 7월~1938년 11월\\\\n류저우 柳州  광시좡족자치구\\\\n류저우 시   1938년 11월~1939년 5월\\\\n치장 綦江   충칭시 1939년 5월~ 1940년 9월\\\\n충칭 重慶   1940년 9월~1945년 11월\\\\n대한민국 임시정부는\\xa01919년\\xa03월 1일\\xa03·1 독립선언에 기초하여\\xa0일본 제국의\\xa0대한제국\\xa0침탈과 식민 통치를 부인하고, 한반도\\xa0내외의 항일 독립운동을 주도하기 위한 목적으로\\xa01919년\\xa04월 13일\\xa0중화민국\\xa0상하이에서 설립된\\xa0망명정부이다. 같은 해\\xa09월 11일에는 각지의 임시정부들을 통합하여 중국 상해에서 단일 정부를 수립하였다.\\\\n1919년\\xa0임시 헌법을 제정하여\\xa0대한제국의 영토를 계승하고 구 황실을 우대한다고 명시하였고, 임시정부 하에서\\xa0독립 운동을 활발하게 전개·지원하였다. 1919년부터 1932년까지 13년간 상하이에 임시정부를 두었으나 1932년\\xa0홍커우 공원에서 윤봉길 의사의 의거가 일어나자, 일본군을 피해\\xa0항저우를 거쳐 난징으로 이동하였으나 중일전쟁이 발발하면서 일본이 난징을 침략하자 창사, 광저우, 류저우를 거쳐 1940년\\xa0충칭으로 이전하였고 그곳에서 광복을 맞이하였다.\\\\n1948년 제정된\\xa0대한민국 제헌 헌법\\xa0전문과 1987년 개정된\\xa0대한민국 헌법 전문에 대한민국 임시정부에 대한 계승 의지가 수록되었다. 현재 상하이, 항저우, 충칭에 임시정부 유적지가 복원되었다.\\\\n현대[편집]\\\\n군정기[편집]\\\\n군정\\\\n 미군정기\\\\n1945년 9월 9일~1948년 8월 15일    서울특별자유시  대한민국   서울특별시   1945년 9월 9일~1948년 8월 15일\\\\n 소련 군정기\\\\n1945년 8월 15일~1946년 2월 15일   평양   조선민주주의인민공화국    평양직할시   1945년 8월 15일~1946년 2월 15일\\\\n1945년 해방 전후로 8월에는 소련군이 함경북도를 거쳐 38도선 북부를 점령하였고, 9월에는 미군이 남부에 주둔하면서 한반도는 북위 38도선을 경계로 남북으로 분단되어 미국과 소련, 양국의 군정이 실시되었다. 이후 미소공동위원회가 결렬되고 수차례의 통일정부를 세우려는 노력에도 불구하고 이념의 대립을 극복하지 못한 채 분단되어 두개의 정부가 세워졌다.\\\\n대한민국[편집]\\\\n 대한민국\\\\n1948년 8월 15일~   수도  수도 기간 \\\\n서울특별시   1948년 8월 15일~1950년 6월 28일\\\\n부산시[12] 釜山市 1950년 6월 28일~1953년 7월 27일\\\\n서울특별시   1953년 7월 27일~현재\\\\n대한민국의 수도는 서울특별시이며 한강이 도시를 관통한다. 한국전쟁 당시 서울이 함락되자 대전과 대구를 거쳐 부산을 임시수도로 결정하였다. 휴전협정 이후 오늘날에 이르기까지 서울은 대한민국의 수도이자 최대도시이다.\\\\n대한민국의 입법, 사법, 행정을 비롯한 중추적인 국가기관이 위치하고 있으며, 1988년 제24회 올림픽, 2002년 FIFA 월드컵 경기대회, 2010년 G20 정상회의를 개최한 국제도시이다. 창덕궁, 종묘, 조선왕릉 등의 세계문화유산이 위치한다.\\\\n조선민주주의인민공화국[편집]\\\\n 조선민주주의인민공화국\\\\n1948년 9월 9일~    수도명 수도 기간 \\\\n평양시 平壤市 1948년 9월 9일~1950년 10월 19일\\\\n강계시[13] 江界市 1950년 10월 19일~1950년 12월 5일\\\\n평양직할시[14] 平壤直轄市 1950년 12월 5일~현재\\\\n조선민주주의인민공화국의 수도는 평양직할시이며 최대 도시이다. 1950년 10월 19일 대한민국 국군이 수복했지만 12월 5일에 조선인민군이 탈환했다. 조선민주주의인민공화국은 1948년부터 1972년까지 서울을 수도로 규정하였으나 이후 평양을 정식 수도로 명문화하였다.\\\\n평양은 도시 중심에 대동강이 흐르며 행정구역은 18구역 2군으로 이루어져 있고, 인구는 약 290만명이다. 거주 이전의 자유가 없기 때문에 다른 지역 주민의 평양 이주가 금지되어 있다.\\\\n기타[편집]\\\\n한국의 역사\\\\n대한민국의 세계유산\\\\n수도\\\\n각주[편집]\\\\n↑ 곰나루, 고마나루 등으로 불리었다\\\\n↑ 《삼국사기》 제26권 백제본기 제4\\\\n문주왕 원년 겨울 10월, 웅진으로 도읍을 옮겼다\\\\n↑ 《삼국사기》 제26권 백제본기 제4\\\\n16년 봄 사비(혹은 소부리라고도 한다)로 도읍을 옮기고 국호를 남부여로 바꿨다\\\\n↑ 서라벌(徐羅伐) 등으로 불리었다.\\\\n↑ 《삼국사기》 제8권 신라본기 제8\\\\n왕이 달구벌로 수도를 옮기려 하였으나 이루지 못하였다\\\\n↑ “‘발해는 고구려 계승한 황제국’ 증거유물 나와”. 2020년 7월 18일에 확인함.\\\\n↑ “중국 지린성서 발해 황후 묘지 발굴”. 2020년 7월 18일에 확인함.\\\\n↑ 1394년 11월 한양으로 천도할 때까지 2년여간 수도였다.\\\\n↑ 『고려사』 권23, 세가23 고종2\\\\n6월 을축일에 최우가 왕을 협박하여 강화로 천도하였다\\\\n↑ 김태식 기자. “북한 개성역사지구 세계유산 등재(종합)”. 《연합뉴스》.\\\\n↑ 조선총독부령 제7호 (메이지 43년 10월 1일 공포)\\\\n↑ 1962년까지 경상남도 관할이었다. 1963년 1월 1일 부산직할시로, 1995년 부산광역시로 개편되었다.\\\\n↑ 1949년 신설 된 자강도(慈江道)의 도청소재지\\\\n↑ 1952년 직할시로 개편\\\\n분류: 한국의 수도한국의 역사한국의 옛 수도옛 나라의 수도대한민국의 도시조선민주주의인민공화국의 도시\\\\n이 문서는 2024년 6월 4일 (화) 22:33에 마지막으로 편집되었습니다.\\\\n모든 문서는 크리에이티브 커먼즈 저작자표시-동일조건변경허락 4.0에 따라 사용할 수 있으며, 추가적인 조건이 적용될 수 있습니다. 자세한 내용은 이용 약관을 참고하십시오.\\\\nWikipedia®는 미국 및 다른 국가에 등록되어 있는 Wikimedia Foundation, Inc. 소유의 등록 상표입니다.\\\\n개인정보처리방침\\\\n위키백과 소개\\\\n면책 조항\\\\n행동 강령\\\\n개발자\\\\n통계\\\\n쿠키 정책\\\\n모바일 보기\"}]' name='tavily_web_search' id='49c1a0ee-2356-4748-8507-814e08eb11cd' tool_call_id='call_UK0YiH0hqTGg5S2OPtSxVkXr'\n",
      "\n",
      "(2) [content]: [{\"title\": \"한국의 수도 - 위키백과, 우리 모두의 백과사전\", \"url\": \"https://ko.wikipedia.org/wiki/한국의_수도\", \"content\": \"개인 도구 한국의 수도 편집 도구 위키백과, 우리 모두의 백과사전. 한국의 역대 수도[편집] 삼한  마한  충청도와 전라도 일대 몽촌토성, 풍납토성을 비롯하여 초기 백제시대의 유물이 발견되었으며, 475년 고구려 장수왕이 백제를 침공하여 개로왕을 죽이자, 개로왕의 아들인 문주왕이 웅진으로 천도하였다.[2] 웅진은 오늘날 충청남도 공주시 일대로 70여년간 백제의 수도로써 번성하였으며 그 중 공산성, 송산리 고분군과 무령왕릉은 세계문화유산으로 지정되었다. 태조 이성계는 새 도읍지를 물색하던 중 무학국사와 하륜(河崙) 등 중신들의 의견에 따라 1393년, 도읍지를 한양으로 정하고 1394년 신도궁궐조성도감(新都宮闕造成都監)을 설치하여 새 수도의 도시 계획을 구상하였다. 1945년 8월 15일~1946년 2월 15일   평양   조선민주주의인민공화국    평양직할시   1945년 8월 15일~1946년 2월 15일 1945년 해방 전후로 8월에는 소련군이 함경북도를 거쳐 38도선 북부를 점령하였고, 9월에는 미군이 남부에 주둔하면서 한반도는 북위 38도선을 경계로 남북으로 분단되어 미국과 소련, 양국의 군정이 실시되었다. 위키백과 소개\", \"score\": 0.8700796, \"raw_content\": \"본문으로 이동\\n주 메뉴\\n검색\\n기부\\n계정 만들기\\n로그인\\n개인 도구\\n목차 토글\\n한국의 수도\\n7개 언어\\n문서\\n토론\\n읽기\\n편집\\n역사 보기\\n도구\\n위키백과, 우리 모두의 백과사전.\\n다음은 한국사에 존재했던 여러 나라들의 수도이다.\\n한국의 역대 수도[편집]\\n고조선 시대[편집]\\n국가명 수도  현재 위치   수도 기간\\n고조선\\n기원전 2333년~기원전 108년  단군조선    아사달 阿斯達 위치불명    불명\\n위만조선    왕검성 王儉城\\n진국  불명\\n원삼국시대[편집]\\n국가명 수도  현재 위치   비고\\n부여  북부여 부여성 扶餘城  중화인민공화국  \\n동부여 불명\\n옥저   조선민주주의인민공화국    함경도, 강원도 일대\\n동예   대한민국   강원도 일대\\n삼한  마한  충청도와 전라도 일대\\n변한  전라남도와 경상남도 일대\\n진한  경상도 일대\\n고대[편집]\\n고구려[편집]\\n고구려\\n기원전 37년~668년    수도명 현재 위치   수도 기간 \\n졸본 卒本    중화인민공화국    랴오닝성 환런현    기원전 37년~3년\\n국내성 國內城 지린성 지안 시    3년~427년\\n평양성 平壤城  조선민주주의인민공화국    평양직할시   427년~668년\\n《삼국사기》 〈고구려본기〉의 기록에는 기원전 37년 주몽이 부여에서 탈출하여 졸본에 도읍을 정하였다고 기록되어 있다. 이후 동명성왕의 아들 유리명왕이 국내성으로 천도하면서 위나암성을 축조하였으며 오늘날 중국 지린성 지안 시 일대이다. 427년 광개토대왕의 아들 장수왕 대에 이르러 평양으로 천도하였다. 586년 평원왕 대에 장안성(長安城)이 축조되어 수도의 역할을 하였다.\\n백제[편집]\\n백제\\n기원전 18년~660년    국호  수도  현재 위치   수도 기간 \\n백제  위례성 慰禮城  대한민국   서울특별시 송파구   기원전 18년~475년\\n웅진[1] 熊津    충청남도 공주시    475년~538년\\n남부여 사비 泗沘   충청남도 부여군    538년~660년\\n고구려 동명성왕의 셋째 아들인 온조가 남하하여 첫 수도를 정한 위례성은 현재의 서울특별시 송파구 부근이다. 몽촌토성, 풍납토성을 비롯하여 초기 백제시대의 유물이 발견되었으며, 475년 고구려 장수왕이 백제를 침공하여 개로왕을 죽이자, 개로왕의 아들인 문주왕이 웅진으로 천도하였다.[2] 웅진은 오늘날 충청남도 공주시 일대로 70여년간 백제의 수도로써 번성하였으며 그 중 공산성, 송산리 고분군과 무령왕릉은 세계문화유산으로 지정되었다. 538년, 성왕은 국호를 남부여로 고치고 수도를 사비로 이전하였다.[3] 이후 660년 멸망할 때까지 사비는 백제의 마지막 수도였다. 사비는 오늘날의 충남 부여군이며, 능산리 고분군, 정림사지 등의 유적들이 세계문화유산으로 지정되었다.\\n신라[편집]\\n신라\\n기원전 57년~935년    수도  현재 위치   수도 기간 \\n　금성[4]\\n金城   대한민국 경상북도 경주시  기원전 57년~935년\\n신라의 수도는 금성(金城)이며 서라벌, 쇠울 등 다양한 이름으로 불려왔다. 금성은 오늘날의 경상북도 경주시이며 고도(古都)이다. 수도가 동남쪽으로 치우쳐져 있는 것을 보완하고자 5소경을 설치하였고, 신문왕 대에 달구벌로 천도하려 하였으나 귀족의 반발로 무산되었다.[5] 금성은 천년동안 신라의 수도였으며 오늘날 수많은 유적들이 남아있다.\\n석굴암, 불국사를 비롯하여 첨성대, 안압지, 황룡사지, 분황사 등의 유적지가 존재하며 대릉원, 천마총과 여러 왕릉들이 존재한다. 경주의 유적은 2000년 세계문화유산으로 등록되었다.\\n가야[편집]\\n가야\\n42년~562년    국호  수도  현재 위치   수도 기간\\n금관가야    미상   대한민국   경상남도 김해시    42년~532년\\n대가야 경상북도 고령군    42년~562년\\n발해[편집]\\n발해\\n698년~926년   수도  현재 위치   수도 기간 \\n구국 舊國    중화인민공화국    지린성 둔화 시    698년~8세기\\n중경현덕부 中京顯德府 지린성 허룽 시    742년~756년\\n상경용천부 上京龍泉府 헤이룽장성 닝안 시  756년~785년\\n동경용원부 東京龍原府 헤이룽장성 훈춘 시  785년~794년\\n상경용천부 上京龍泉府 헤이룽장성 닝안 시  794년~926년\\n대조영이 건국한 발해는 초기에 동모산을 거점으로 성립하였으며 오늘날의 중국 지린성 둔화 시이다. 문왕의 둘째 딸인 정혜공주의 묘가 1949년 둔화 시 육정산 고분군에서 발굴되었다. 발해는 5경을 두었으며 이 중 중경 현덕부, 동경 용원부를 거쳐 상경 용천부(上京龍泉府)가 수도가 되었는데, 오늘날 중국 지린성 허룽 시, 헤이룽장성 일대이다.\\n1980년 룽터우 산 고분군에서 문왕의 넷째 딸인 정효공주의 묘가 발굴되었으며, 2005년 룽터우산 고분군에서 문왕의 부인인 효의황후(孝懿皇后) 묘지와 9대 간왕(簡王)의 부인인 순목황후(順穆皇后) 묘지가 발굴되었다.[6][7]\\n후삼국 시대[편집]\\n후백제[편집]\\n후백제\\n892년~936년   수도  현재 위치   수도 기간\\n무진주 武珍州  대한민국   전라남도 일대\\n광주광역시   892년~900년\\n완산주 完山州 전라북도 전주시    900년~936년\\n892년 무진주를 거점으로 나라를 세운 견훤은 900년 완산주(完山州)로 천도하면서 즉위하였다. 이후 936년 고려에 멸망할 때까지 완산주는 후백제의 도읍이었다. 무진주는 오늘날의 광주광역시와 전라남도 일대이고, 완산주는 전라북도 전주이다. 전주 교동에서 우아동 3가에 이르는 길의 견훤의 이름을 본따 '견훤로'로 명명되었다.\\n태봉[편집]\\n후고구려\\n901년~918년   국호  수도  현재 위치   수도 기간\\n후고구려    송악 松岳    조선민주주의인민공화국    개성특별시   901년~905년\\n마진  철원 鐵原   강원도 철원군 905년~911년\\n태봉   대한민국   911년~918년\\n신라 헌안왕 혹은 경문왕의 서자인 궁예는 반신라적 사상과 고구려를 계승한다는 기지를 내걸고 901년 후고구려를 건국하였다. 초기 수도는 송악이며 오늘날 북한 개성이다.\\n905년 국호를 마진으로 바꾸고 철원으로 천도하였으며 911년 국호를 태봉으로 고쳤다. 이후 918년 6월 왕건의 정변으로 멸망하였으며 철원은 남북으로 분단되어 오늘날 남북한 모두 동명의 행정구역을 갖는다.\\n고려시대[편집]\\n 고려\\n918년~1392년  수도  현재 위치   수도 기간 \\n철원 鐵原    대한민국   강원도 철원군 918년~919년\\n 조선민주주의인민공화국\\n개경 開京   개성특별시   919년~1232년\\n강화 江華    대한민국   인천광역시 강화군   1232년~1270년\\n개경 開京    조선민주주의인민공화국    개성특별시   1270년~1392년\\n개경은 500여년간 번성한 고려의 수도이며 오늘날의 북한 개성시이다. 태봉, 고려, 조선[8] 세 왕조가 도읍하였다. 송도(松都), 송악(松岳), 송경(松京) 등 여러 가지 이름으로 불렸다. 또한 예성강 하구에 위치한 무역항인 벽란도를 통해 국제무역이 번성하였다.\\n1232년 몽고의 침입이 시작되자, 무신정권의 집권자인 최우가 수도를 강화도로 옮기면서[9] 1270년 개경으로 환도할 때까지 38년간 강화(江華)가 고려의 수도가 되었다. 만월대, 고려왕릉, 첨성대, 선죽교 등 고려왕조의 유적이 남아있으며 일부는 세계문화유산으로 지정되었다.[10]\\n조선시대[편집]\\n국호  수도  현재 위치   수도 기간 \\n 조선\\n1392년~1897년 개경 開京    조선민주주의인민공화국    개성특별시   1392년~1394년\\n한양 漢陽    대한민국   서울특별시   1394년~1399년\\n개경 開京    조선민주주의인민공화국    개성특별시   1399년~1405년\\n한양 漢陽    대한민국   서울특별시   1405년~1910년\\n 대한제국\\n1897년~1910년\\n조선의 수도는 한성(漢城)이며 한양(漢陽)이라고도 한다. 태조 이성계는 새 도읍지를 물색하던 중 무학국사와 하륜(河崙) 등 중신들의 의견에 따라 1393년, 도읍지를 한양으로 정하고 1394년 신도궁궐조성도감(新都宮闕造成都監)을 설치하여 새 수도의 도시 계획을 구상하였다. 1394년 음력 10월 28일 한양으로 천도 하였다. 천도의 기준은 풍수·도참설에 따르면서, 남쪽에 한강이 있어 교통상 배로 물건을 실어 나르기가 편리하였기 때문이다.\\n1394년 한양으로 천도한 이래 정종이 개경으로 환도하였다가 태종이 다시 한양으로 천도하였다. 태종 대에 궁궐과 성곽 도로 공사를 통해 수도의 면모를 갖추었으며 임진왜란을 겪으며 경복궁과 종묘 등을 비롯하여 도시 전반이 파괴되었다가 전후 복구되었다. 이후 대한제국 시기에 각국의 공사관과 명동성당, 덕수궁 석조전과 같은 서양식 건물이 건설되고 철도가 설치되었다.\\n일제강점기[편집]\\n 일제강점기\\n1910년 8월 29일\\n~1945년 8월 15일   수도  현재 위치   수도 기간 \\n경성부\\n京城府  대한민국 서울특별시 1910년 9월 30일[11]~1945년 8월 15일\\n일제강점기의 수도는 경성부(한자: 京城府) 또는 게이조 부(일본어: 京城府 게이조후[*])이며 오늘날의 서울특별시에 해당한다. 조선과 대한제국의 수도였던 한성부는 1910년 한일 병합 조약 체결 이후에 일본 제국의 조선 식민 지배의 행정 중심지로서 경성부로 불리게 되었고, 경기도에 편입되어 도청 소재지가 되었다.\\n혼마치(本町, 충무로)와 메이지초(明治町, 명동)를 중심으로 상권이 발달하였으나 도시의 빈부격차는 극심하였다. 1943년 6월 10일, 인구 증가에 따라 구가 설치되었다. 광복 이후에도 잠시 경성으로 불렸으나, 1946년 9월 28일 미군정에 의하여 경기도에서 분리해 서울특별자유시가 되었다.\\n대한민국 임시정부[편집]\\n 대한민국 임시정부\\n1919년~1945년 임시 수도   현재 위치   임시 수도 기간  \\n상하이 上海   중화인민공화국    상하이시    1919년 4월~ 1932년 5월\\n항저우 杭州  저장성 항저우시    1932년 5월 ~ 1932년 10월\\n전장 鎭江   장쑤성 전장 시    1932년 10월 ~ 1932년 11월\\n난징 南京   장쑤성 난징시 1932년 11월~1937년 11월\\n창사 長沙   후난성 창사 시    1937년 12월~1938년 7월\\n광저우 廣州  광둥성 광저우 시   1938년 7월~1938년 11월\\n류저우 柳州  광시좡족자치구\\n류저우 시   1938년 11월~1939년 5월\\n치장 綦江   충칭시 1939년 5월~ 1940년 9월\\n충칭 重慶   1940년 9월~1945년 11월\\n대한민국 임시정부는 1919년 3월 1일 3·1 독립선언에 기초하여 일본 제국의 대한제국 침탈과 식민 통치를 부인하고, 한반도 내외의 항일 독립운동을 주도하기 위한 목적으로 1919년 4월 13일 중화민국 상하이에서 설립된 망명정부이다. 같은 해 9월 11일에는 각지의 임시정부들을 통합하여 중국 상해에서 단일 정부를 수립하였다.\\n1919년 임시 헌법을 제정하여 대한제국의 영토를 계승하고 구 황실을 우대한다고 명시하였고, 임시정부 하에서 독립 운동을 활발하게 전개·지원하였다. 1919년부터 1932년까지 13년간 상하이에 임시정부를 두었으나 1932년 홍커우 공원에서 윤봉길 의사의 의거가 일어나자, 일본군을 피해 항저우를 거쳐 난징으로 이동하였으나 중일전쟁이 발발하면서 일본이 난징을 침략하자 창사, 광저우, 류저우를 거쳐 1940년 충칭으로 이전하였고 그곳에서 광복을 맞이하였다.\\n1948년 제정된 대한민국 제헌 헌법 전문과 1987년 개정된 대한민국 헌법 전문에 대한민국 임시정부에 대한 계승 의지가 수록되었다. 현재 상하이, 항저우, 충칭에 임시정부 유적지가 복원되었다.\\n현대[편집]\\n군정기[편집]\\n군정\\n 미군정기\\n1945년 9월 9일~1948년 8월 15일    서울특별자유시  대한민국   서울특별시   1945년 9월 9일~1948년 8월 15일\\n 소련 군정기\\n1945년 8월 15일~1946년 2월 15일   평양   조선민주주의인민공화국    평양직할시   1945년 8월 15일~1946년 2월 15일\\n1945년 해방 전후로 8월에는 소련군이 함경북도를 거쳐 38도선 북부를 점령하였고, 9월에는 미군이 남부에 주둔하면서 한반도는 북위 38도선을 경계로 남북으로 분단되어 미국과 소련, 양국의 군정이 실시되었다. 이후 미소공동위원회가 결렬되고 수차례의 통일정부를 세우려는 노력에도 불구하고 이념의 대립을 극복하지 못한 채 분단되어 두개의 정부가 세워졌다.\\n대한민국[편집]\\n 대한민국\\n1948년 8월 15일~   수도  수도 기간 \\n서울특별시   1948년 8월 15일~1950년 6월 28일\\n부산시[12] 釜山市 1950년 6월 28일~1953년 7월 27일\\n서울특별시   1953년 7월 27일~현재\\n대한민국의 수도는 서울특별시이며 한강이 도시를 관통한다. 한국전쟁 당시 서울이 함락되자 대전과 대구를 거쳐 부산을 임시수도로 결정하였다. 휴전협정 이후 오늘날에 이르기까지 서울은 대한민국의 수도이자 최대도시이다.\\n대한민국의 입법, 사법, 행정을 비롯한 중추적인 국가기관이 위치하고 있으며, 1988년 제24회 올림픽, 2002년 FIFA 월드컵 경기대회, 2010년 G20 정상회의를 개최한 국제도시이다. 창덕궁, 종묘, 조선왕릉 등의 세계문화유산이 위치한다.\\n조선민주주의인민공화국[편집]\\n 조선민주주의인민공화국\\n1948년 9월 9일~    수도명 수도 기간 \\n평양시 平壤市 1948년 9월 9일~1950년 10월 19일\\n강계시[13] 江界市 1950년 10월 19일~1950년 12월 5일\\n평양직할시[14] 平壤直轄市 1950년 12월 5일~현재\\n조선민주주의인민공화국의 수도는 평양직할시이며 최대 도시이다. 1950년 10월 19일 대한민국 국군이 수복했지만 12월 5일에 조선인민군이 탈환했다. 조선민주주의인민공화국은 1948년부터 1972년까지 서울을 수도로 규정하였으나 이후 평양을 정식 수도로 명문화하였다.\\n평양은 도시 중심에 대동강이 흐르며 행정구역은 18구역 2군으로 이루어져 있고, 인구는 약 290만명이다. 거주 이전의 자유가 없기 때문에 다른 지역 주민의 평양 이주가 금지되어 있다.\\n기타[편집]\\n한국의 역사\\n대한민국의 세계유산\\n수도\\n각주[편집]\\n↑ 곰나루, 고마나루 등으로 불리었다\\n↑ 《삼국사기》 제26권 백제본기 제4\\n문주왕 원년 겨울 10월, 웅진으로 도읍을 옮겼다\\n↑ 《삼국사기》 제26권 백제본기 제4\\n16년 봄 사비(혹은 소부리라고도 한다)로 도읍을 옮기고 국호를 남부여로 바꿨다\\n↑ 서라벌(徐羅伐) 등으로 불리었다.\\n↑ 《삼국사기》 제8권 신라본기 제8\\n왕이 달구벌로 수도를 옮기려 하였으나 이루지 못하였다\\n↑ “‘발해는 고구려 계승한 황제국’ 증거유물 나와”. 2020년 7월 18일에 확인함.\\n↑ “중국 지린성서 발해 황후 묘지 발굴”. 2020년 7월 18일에 확인함.\\n↑ 1394년 11월 한양으로 천도할 때까지 2년여간 수도였다.\\n↑ 『고려사』 권23, 세가23 고종2\\n6월 을축일에 최우가 왕을 협박하여 강화로 천도하였다\\n↑ 김태식 기자. “북한 개성역사지구 세계유산 등재(종합)”. 《연합뉴스》.\\n↑ 조선총독부령 제7호 (메이지 43년 10월 1일 공포)\\n↑ 1962년까지 경상남도 관할이었다. 1963년 1월 1일 부산직할시로, 1995년 부산광역시로 개편되었다.\\n↑ 1949년 신설 된 자강도(慈江道)의 도청소재지\\n↑ 1952년 직할시로 개편\\n분류: 한국의 수도한국의 역사한국의 옛 수도옛 나라의 수도대한민국의 도시조선민주주의인민공화국의 도시\\n이 문서는 2024년 6월 4일 (화) 22:33에 마지막으로 편집되었습니다.\\n모든 문서는 크리에이티브 커먼즈 저작자표시-동일조건변경허락 4.0에 따라 사용할 수 있으며, 추가적인 조건이 적용될 수 있습니다. 자세한 내용은 이용 약관을 참고하십시오.\\nWikipedia®는 미국 및 다른 국가에 등록되어 있는 Wikimedia Foundation, Inc. 소유의 등록 상표입니다.\\n개인정보처리방침\\n위키백과 소개\\n면책 조항\\n행동 강령\\n개발자\\n통계\\n쿠키 정책\\n모바일 보기\"}]\n",
      "(3) [additional_kwargs]: \n",
      "\t{}\n",
      "(4) [response_metadata]: \n",
      "\t{}\n",
      "=================================================================================\n",
      "\n",
      "=================================================================================\n",
      "chatbot() 실행\n",
      "\n",
      "[1] state[messages]: \n",
      "[HumanMessage(content='`소프트웨어놀이터`에서 코딩강의를 하고 있는 이인환입니다.', additional_kwargs={}, response_metadata={}, id='bfca6d0f-054b-4089-bf5a-767372cde746'), AIMessage(content='안녕하세요, 이인환님! 소프트웨어놀이터에서 코딩 강의를 하고 계시다니 멋지네요. 어떤 주제에 대해 강의를 하고 계신가요? 도움이 필요하시거나 궁금한 점이 있다면 말씀해 주세요!', additional_kwargs={'refusal': None}, response_metadata={'token_usage': {'completion_tokens': 58, 'prompt_tokens': 110, 'total_tokens': 168, 'completion_tokens_details': {'accepted_prediction_tokens': 0, 'audio_tokens': 0, 'reasoning_tokens': 0, 'rejected_prediction_tokens': 0}, 'prompt_tokens_details': {'audio_tokens': 0, 'cached_tokens': 0}}, 'model_name': 'gpt-4o-mini-2024-07-18', 'system_fingerprint': 'fp_00428b782a', 'finish_reason': 'stop', 'logprobs': None}, id='run-73d75004-a66f-47ee-a116-417ad502ca7a-0', usage_metadata={'input_tokens': 110, 'output_tokens': 58, 'total_tokens': 168, 'input_token_details': {'audio': 0, 'cache_read': 0}, 'output_token_details': {'audio': 0, 'reasoning': 0}}), HumanMessage(content='`소프트웨어놀이터`에서 코딩강의를 하고 있는 이인환입니다.', additional_kwargs={}, response_metadata={}, id='38c692b2-af72-4b84-8287-b289d49d4c8c'), AIMessage(content='안녕하세요, 이인환님! 소프트웨어놀이터에서 코딩 강의를 하고 계신다니 정말 멋지네요. 어떤 언어나 주제를 다루고 계신가요? 또는 도움이 필요하신 부분이 있으신가요?', additional_kwargs={'refusal': None}, response_metadata={'token_usage': {'completion_tokens': 56, 'prompt_tokens': 193, 'total_tokens': 249, 'completion_tokens_details': {'accepted_prediction_tokens': 0, 'audio_tokens': 0, 'reasoning_tokens': 0, 'rejected_prediction_tokens': 0}, 'prompt_tokens_details': {'audio_tokens': 0, 'cached_tokens': 0}}, 'model_name': 'gpt-4o-mini-2024-07-18', 'system_fingerprint': 'fp_00428b782a', 'finish_reason': 'stop', 'logprobs': None}, id='run-ae0b7922-2a24-4cfe-af32-3dabe4f2da20-0', usage_metadata={'input_tokens': 193, 'output_tokens': 56, 'total_tokens': 249, 'input_token_details': {'audio': 0, 'cache_read': 0}, 'output_token_details': {'audio': 0, 'reasoning': 0}}), HumanMessage(content='내 이름이 뭐라고 했지?', additional_kwargs={}, response_metadata={}, id='209a409a-13b6-459e-ad7d-a7ae5ac0c15c'), AIMessage(content='당신의 이름은 이인환입니다.', additional_kwargs={'refusal': None}, response_metadata={'token_usage': {'completion_tokens': 12, 'prompt_tokens': 263, 'total_tokens': 275, 'completion_tokens_details': {'accepted_prediction_tokens': 0, 'audio_tokens': 0, 'reasoning_tokens': 0, 'rejected_prediction_tokens': 0}, 'prompt_tokens_details': {'audio_tokens': 0, 'cached_tokens': 0}}, 'model_name': 'gpt-4o-mini-2024-07-18', 'system_fingerprint': 'fp_00428b782a', 'finish_reason': 'stop', 'logprobs': None}, id='run-7d44a132-ca05-42cd-8e0c-83db7756ac70-0', usage_metadata={'input_tokens': 263, 'output_tokens': 12, 'total_tokens': 275, 'input_token_details': {'audio': 0, 'cache_read': 0}, 'output_token_details': {'audio': 0, 'reasoning': 0}}), HumanMessage(content='내 이름이 뭐라고 했지?', additional_kwargs={}, response_metadata={}, id='fe26559f-6657-4466-b577-38116b8d3766'), AIMessage(content='당신의 이름은 이인환입니다.', additional_kwargs={'refusal': None}, response_metadata={'token_usage': {'completion_tokens': 12, 'prompt_tokens': 289, 'total_tokens': 301, 'completion_tokens_details': {'accepted_prediction_tokens': 0, 'audio_tokens': 0, 'reasoning_tokens': 0, 'rejected_prediction_tokens': 0}, 'prompt_tokens_details': {'audio_tokens': 0, 'cached_tokens': 0}}, 'model_name': 'gpt-4o-mini-2024-07-18', 'system_fingerprint': 'fp_00428b782a', 'finish_reason': 'stop', 'logprobs': None}, id='run-06df7e87-4a76-4760-a0d5-b378c509f081-0', usage_metadata={'input_tokens': 289, 'output_tokens': 12, 'total_tokens': 301, 'input_token_details': {'audio': 0, 'cache_read': 0}, 'output_token_details': {'audio': 0, 'reasoning': 0}}), HumanMessage(content='대한민국 수도에 대해서 검색해줘', additional_kwargs={}, response_metadata={}, id='974d66df-6f9a-4c09-821b-8f5b4c264ee5'), AIMessage(content='', additional_kwargs={'tool_calls': [{'id': 'call_UK0YiH0hqTGg5S2OPtSxVkXr', 'function': {'arguments': '{\"query\":\"대한민국 수도\"}', 'name': 'tavily_web_search'}, 'type': 'function'}], 'refusal': None}, response_metadata={'token_usage': {'completion_tokens': 20, 'prompt_tokens': 315, 'total_tokens': 335, 'completion_tokens_details': {'accepted_prediction_tokens': 0, 'audio_tokens': 0, 'reasoning_tokens': 0, 'rejected_prediction_tokens': 0}, 'prompt_tokens_details': {'audio_tokens': 0, 'cached_tokens': 0}}, 'model_name': 'gpt-4o-mini-2024-07-18', 'system_fingerprint': 'fp_00428b782a', 'finish_reason': 'tool_calls', 'logprobs': None}, id='run-c63bd05e-65a2-4cd9-b719-c6c6e3a0f486-0', tool_calls=[{'name': 'tavily_web_search', 'args': {'query': '대한민국 수도'}, 'id': 'call_UK0YiH0hqTGg5S2OPtSxVkXr', 'type': 'tool_call'}], usage_metadata={'input_tokens': 315, 'output_tokens': 20, 'total_tokens': 335, 'input_token_details': {'audio': 0, 'cache_read': 0}, 'output_token_details': {'audio': 0, 'reasoning': 0}}), ToolMessage(content='[{\"title\": \"한국의 수도 - 위키백과, 우리 모두의 백과사전\", \"url\": \"https://ko.wikipedia.org/wiki/한국의_수도\", \"content\": \"개인 도구 한국의 수도 편집 도구 위키백과, 우리 모두의 백과사전. 한국의 역대 수도[편집] 삼한  마한  충청도와 전라도 일대 몽촌토성, 풍납토성을 비롯하여 초기 백제시대의 유물이 발견되었으며, 475년 고구려 장수왕이 백제를 침공하여 개로왕을 죽이자, 개로왕의 아들인 문주왕이 웅진으로 천도하였다.[2] 웅진은 오늘날 충청남도 공주시 일대로 70여년간 백제의 수도로써 번성하였으며 그 중 공산성, 송산리 고분군과 무령왕릉은 세계문화유산으로 지정되었다. 태조 이성계는 새 도읍지를 물색하던 중\\xa0무학국사와\\xa0하륜(河崙) 등 중신들의 의견에 따라 1393년, 도읍지를 한양으로 정하고\\xa01394년\\xa0신도궁궐조성도감(新都宮闕造成都監)을 설치하여 새 수도의 도시 계획을 구상하였다. 1945년 8월 15일~1946년 2월 15일   평양   조선민주주의인민공화국    평양직할시   1945년 8월 15일~1946년 2월 15일 1945년 해방 전후로 8월에는 소련군이 함경북도를 거쳐 38도선 북부를 점령하였고, 9월에는 미군이 남부에 주둔하면서 한반도는 북위 38도선을 경계로 남북으로 분단되어 미국과 소련, 양국의 군정이 실시되었다. 위키백과 소개\", \"score\": 0.8700796, \"raw_content\": \"본문으로 이동\\\\n주 메뉴\\\\n검색\\\\n기부\\\\n계정 만들기\\\\n로그인\\\\n개인 도구\\\\n목차 토글\\\\n한국의 수도\\\\n7개 언어\\\\n문서\\\\n토론\\\\n읽기\\\\n편집\\\\n역사 보기\\\\n도구\\\\n위키백과, 우리 모두의 백과사전.\\\\n다음은 한국사에 존재했던 여러 나라들의 수도이다.\\\\n한국의 역대 수도[편집]\\\\n고조선 시대[편집]\\\\n국가명 수도  현재 위치   수도 기간\\\\n고조선\\\\n기원전 2333년~기원전 108년  단군조선    아사달 阿斯達 위치불명    불명\\\\n위만조선    왕검성 王儉城\\\\n진국  불명\\\\n원삼국시대[편집]\\\\n국가명 수도  현재 위치   비고\\\\n부여  북부여 부여성 扶餘城  중화인민공화국  \\\\n동부여 불명\\\\n옥저   조선민주주의인민공화국    함경도, 강원도 일대\\\\n동예   대한민국   강원도 일대\\\\n삼한  마한  충청도와 전라도 일대\\\\n변한  전라남도와 경상남도 일대\\\\n진한  경상도 일대\\\\n고대[편집]\\\\n고구려[편집]\\\\n고구려\\\\n기원전 37년~668년    수도명 현재 위치   수도 기간 \\\\n졸본 卒本    중화인민공화국    랴오닝성 환런현    기원전 37년~3년\\\\n국내성 國內城 지린성 지안 시    3년~427년\\\\n평양성 平壤城  조선민주주의인민공화국    평양직할시   427년~668년\\\\n《삼국사기》 〈고구려본기〉의 기록에는 기원전 37년 주몽이 부여에서 탈출하여 졸본에 도읍을 정하였다고 기록되어 있다. 이후 동명성왕의 아들 유리명왕이 국내성으로 천도하면서 위나암성을 축조하였으며 오늘날 중국 지린성 지안 시 일대이다. 427년 광개토대왕의 아들 장수왕 대에 이르러 평양으로 천도하였다. 586년 평원왕 대에 장안성(長安城)이 축조되어 수도의 역할을 하였다.\\\\n백제[편집]\\\\n백제\\\\n기원전 18년~660년    국호  수도  현재 위치   수도 기간 \\\\n백제  위례성 慰禮城  대한민국   서울특별시 송파구   기원전 18년~475년\\\\n웅진[1] 熊津    충청남도 공주시    475년~538년\\\\n남부여 사비 泗沘   충청남도 부여군    538년~660년\\\\n고구려 동명성왕의 셋째 아들인 온조가 남하하여 첫 수도를 정한 위례성은 현재의 서울특별시 송파구 부근이다. 몽촌토성, 풍납토성을 비롯하여 초기 백제시대의 유물이 발견되었으며, 475년 고구려 장수왕이 백제를 침공하여 개로왕을 죽이자, 개로왕의 아들인 문주왕이 웅진으로 천도하였다.[2] 웅진은 오늘날 충청남도 공주시 일대로 70여년간 백제의 수도로써 번성하였으며 그 중 공산성, 송산리 고분군과 무령왕릉은 세계문화유산으로 지정되었다. 538년, 성왕은 국호를 남부여로 고치고 수도를 사비로 이전하였다.[3] 이후 660년 멸망할 때까지 사비는 백제의 마지막 수도였다. 사비는 오늘날의 충남 부여군이며, 능산리 고분군, 정림사지 등의 유적들이 세계문화유산으로 지정되었다.\\\\n신라[편집]\\\\n신라\\\\n기원전 57년~935년    수도  현재 위치   수도 기간 \\\\n\\u3000금성[4]\\\\n金城   대한민국 경상북도 경주시  기원전 57년~935년\\\\n신라의 수도는 금성(金城)이며 서라벌, 쇠울 등 다양한 이름으로 불려왔다. 금성은 오늘날의 경상북도 경주시이며 고도(古都)이다. 수도가 동남쪽으로 치우쳐져 있는 것을 보완하고자 5소경을 설치하였고, 신문왕 대에 달구벌로 천도하려 하였으나 귀족의 반발로 무산되었다.[5] 금성은 천년동안 신라의 수도였으며 오늘날 수많은 유적들이 남아있다.\\\\n석굴암, 불국사를 비롯하여 첨성대, 안압지, 황룡사지, 분황사 등의 유적지가 존재하며 대릉원, 천마총과 여러 왕릉들이 존재한다. 경주의 유적은 2000년 세계문화유산으로 등록되었다.\\\\n가야[편집]\\\\n가야\\\\n42년~562년    국호  수도  현재 위치   수도 기간\\\\n금관가야    미상   대한민국   경상남도 김해시    42년~532년\\\\n대가야 경상북도 고령군    42년~562년\\\\n발해[편집]\\\\n발해\\\\n698년~926년   수도  현재 위치   수도 기간 \\\\n구국 舊國    중화인민공화국    지린성 둔화 시    698년~8세기\\\\n중경현덕부 中京顯德府 지린성 허룽 시    742년~756년\\\\n상경용천부 上京龍泉府 헤이룽장성 닝안 시  756년~785년\\\\n동경용원부 東京龍原府 헤이룽장성 훈춘 시  785년~794년\\\\n상경용천부 上京龍泉府 헤이룽장성 닝안 시  794년~926년\\\\n대조영이 건국한 발해는 초기에 동모산을 거점으로 성립하였으며 오늘날의 중국 지린성 둔화 시이다. 문왕의 둘째 딸인 정혜공주의 묘가 1949년 둔화 시 육정산 고분군에서 발굴되었다. 발해는 5경을 두었으며 이 중 중경 현덕부, 동경 용원부를 거쳐 상경 용천부(上京龍泉府)가 수도가 되었는데, 오늘날 중국 지린성 허룽 시, 헤이룽장성 일대이다.\\\\n1980년 룽터우 산 고분군에서 문왕의 넷째 딸인 정효공주의 묘가 발굴되었으며, 2005년 룽터우산 고분군에서 문왕의 부인인 효의황후(孝懿皇后) 묘지와 9대 간왕(簡王)의 부인인 순목황후(順穆皇后) 묘지가 발굴되었다.[6][7]\\\\n후삼국 시대[편집]\\\\n후백제[편집]\\\\n후백제\\\\n892년~936년   수도  현재 위치   수도 기간\\\\n무진주 武珍州  대한민국   전라남도 일대\\\\n광주광역시   892년~900년\\\\n완산주 完山州 전라북도 전주시    900년~936년\\\\n892년 무진주를 거점으로 나라를 세운 견훤은 900년 완산주(完山州)로 천도하면서 즉위하였다. 이후 936년 고려에 멸망할 때까지 완산주는 후백제의 도읍이었다. 무진주는 오늘날의 광주광역시와 전라남도 일대이고, 완산주는 전라북도 전주이다. 전주 교동에서 우아동 3가에 이르는 길의 견훤의 이름을 본따 \\'견훤로\\'로 명명되었다.\\\\n태봉[편집]\\\\n후고구려\\\\n901년~918년   국호  수도  현재 위치   수도 기간\\\\n후고구려    송악 松岳    조선민주주의인민공화국    개성특별시   901년~905년\\\\n마진  철원 鐵原   강원도 철원군 905년~911년\\\\n태봉   대한민국   911년~918년\\\\n신라 헌안왕 혹은 경문왕의 서자인 궁예는 반신라적 사상과 고구려를 계승한다는 기지를 내걸고 901년 후고구려를 건국하였다. 초기 수도는 송악이며 오늘날 북한 개성이다.\\\\n905년 국호를 마진으로 바꾸고 철원으로 천도하였으며 911년 국호를 태봉으로 고쳤다. 이후 918년 6월 왕건의 정변으로 멸망하였으며 철원은 남북으로 분단되어 오늘날 남북한 모두 동명의 행정구역을 갖는다.\\\\n고려시대[편집]\\\\n 고려\\\\n918년~1392년  수도  현재 위치   수도 기간 \\\\n철원 鐵原    대한민국   강원도 철원군 918년~919년\\\\n 조선민주주의인민공화국\\\\n개경 開京   개성특별시   919년~1232년\\\\n강화 江華    대한민국   인천광역시 강화군   1232년~1270년\\\\n개경 開京    조선민주주의인민공화국    개성특별시   1270년~1392년\\\\n개경은 500여년간 번성한 고려의 수도이며 오늘날의 북한 개성시이다. 태봉, 고려, 조선[8] 세 왕조가 도읍하였다. 송도(松都), 송악(松岳), 송경(松京) 등 여러 가지 이름으로 불렸다. 또한 예성강 하구에 위치한 무역항인 벽란도를 통해 국제무역이 번성하였다.\\\\n1232년 몽고의 침입이 시작되자, 무신정권의 집권자인 최우가 수도를 강화도로 옮기면서[9] 1270년 개경으로 환도할 때까지 38년간 강화(江華)가 고려의 수도가 되었다. 만월대, 고려왕릉, 첨성대, 선죽교 등 고려왕조의 유적이 남아있으며 일부는 세계문화유산으로 지정되었다.[10]\\\\n조선시대[편집]\\\\n국호  수도  현재 위치   수도 기간 \\\\n 조선\\\\n1392년~1897년 개경 開京    조선민주주의인민공화국    개성특별시   1392년~1394년\\\\n한양 漢陽    대한민국   서울특별시   1394년~1399년\\\\n개경 開京    조선민주주의인민공화국    개성특별시   1399년~1405년\\\\n한양 漢陽    대한민국   서울특별시   1405년~1910년\\\\n 대한제국\\\\n1897년~1910년\\\\n조선의 수도는 한성(漢城)이며 한양(漢陽)이라고도 한다. 태조 이성계는 새 도읍지를 물색하던 중\\xa0무학국사와\\xa0하륜(河崙) 등 중신들의 의견에 따라 1393년, 도읍지를 한양으로 정하고\\xa01394년\\xa0신도궁궐조성도감(新都宮闕造成都監)을 설치하여 새 수도의 도시 계획을 구상하였다. 1394년 음력 10월 28일\\xa0한양으로 천도 하였다. 천도의 기준은\\xa0풍수·도참설에 따르면서, 남쪽에 한강이 있어 교통상 배로 물건을 실어 나르기가 편리하였기 때문이다.\\\\n1394년 한양으로 천도한 이래 정종이 개경으로 환도하였다가 태종이 다시 한양으로 천도하였다. 태종 대에 궁궐과 성곽 도로 공사를 통해 수도의 면모를 갖추었으며 임진왜란을 겪으며 경복궁과 종묘 등을 비롯하여 도시 전반이 파괴되었다가 전후 복구되었다. 이후 대한제국 시기에 각국의 공사관과 명동성당, 덕수궁 석조전과 같은 서양식 건물이 건설되고 철도가 설치되었다.\\\\n일제강점기[편집]\\\\n 일제강점기\\\\n1910년 8월 29일\\\\n~1945년 8월 15일   수도  현재 위치   수도 기간 \\\\n경성부\\\\n京城府  대한민국 서울특별시 1910년 9월 30일[11]~1945년 8월 15일\\\\n일제강점기의 수도는 경성부(한자: 京城府) 또는\\xa0게이조 부(일본어: 京城府 게이조후[*])이며 오늘날의\\xa0서울특별시에 해당한다. 조선과\\xa0대한제국의 수도였던\\xa0한성부는 1910년\\xa0한일 병합 조약\\xa0체결 이후에 일본 제국의 조선 식민 지배의 행정 중심지로서 경성부로 불리게 되었고, 경기도에 편입되어 도청 소재지가 되었다.\\\\n혼마치(本町, 충무로)와 메이지초(明治町, 명동)를 중심으로 상권이 발달하였으나 도시의 빈부격차는 극심하였다. 1943년\\xa06월 10일, 인구 증가에 따라\\xa0구가 설치되었다.\\xa0광복 이후에도 잠시 경성으로 불렸으나,\\xa01946년\\xa09월 28일\\xa0미군정에 의하여\\xa0경기도에서 분리해\\xa0서울특별자유시가 되었다.\\\\n대한민국 임시정부[편집]\\\\n 대한민국 임시정부\\\\n1919년~1945년 임시 수도   현재 위치   임시 수도 기간  \\\\n상하이 上海   중화인민공화국    상하이시    1919년 4월~ 1932년 5월\\\\n항저우 杭州  저장성 항저우시    1932년 5월 ~ 1932년 10월\\\\n전장 鎭江   장쑤성 전장 시    1932년 10월 ~ 1932년 11월\\\\n난징 南京   장쑤성 난징시 1932년 11월~1937년 11월\\\\n창사 長沙   후난성 창사 시    1937년 12월~1938년 7월\\\\n광저우 廣州  광둥성 광저우 시   1938년 7월~1938년 11월\\\\n류저우 柳州  광시좡족자치구\\\\n류저우 시   1938년 11월~1939년 5월\\\\n치장 綦江   충칭시 1939년 5월~ 1940년 9월\\\\n충칭 重慶   1940년 9월~1945년 11월\\\\n대한민국 임시정부는\\xa01919년\\xa03월 1일\\xa03·1 독립선언에 기초하여\\xa0일본 제국의\\xa0대한제국\\xa0침탈과 식민 통치를 부인하고, 한반도\\xa0내외의 항일 독립운동을 주도하기 위한 목적으로\\xa01919년\\xa04월 13일\\xa0중화민국\\xa0상하이에서 설립된\\xa0망명정부이다. 같은 해\\xa09월 11일에는 각지의 임시정부들을 통합하여 중국 상해에서 단일 정부를 수립하였다.\\\\n1919년\\xa0임시 헌법을 제정하여\\xa0대한제국의 영토를 계승하고 구 황실을 우대한다고 명시하였고, 임시정부 하에서\\xa0독립 운동을 활발하게 전개·지원하였다. 1919년부터 1932년까지 13년간 상하이에 임시정부를 두었으나 1932년\\xa0홍커우 공원에서 윤봉길 의사의 의거가 일어나자, 일본군을 피해\\xa0항저우를 거쳐 난징으로 이동하였으나 중일전쟁이 발발하면서 일본이 난징을 침략하자 창사, 광저우, 류저우를 거쳐 1940년\\xa0충칭으로 이전하였고 그곳에서 광복을 맞이하였다.\\\\n1948년 제정된\\xa0대한민국 제헌 헌법\\xa0전문과 1987년 개정된\\xa0대한민국 헌법 전문에 대한민국 임시정부에 대한 계승 의지가 수록되었다. 현재 상하이, 항저우, 충칭에 임시정부 유적지가 복원되었다.\\\\n현대[편집]\\\\n군정기[편집]\\\\n군정\\\\n 미군정기\\\\n1945년 9월 9일~1948년 8월 15일    서울특별자유시  대한민국   서울특별시   1945년 9월 9일~1948년 8월 15일\\\\n 소련 군정기\\\\n1945년 8월 15일~1946년 2월 15일   평양   조선민주주의인민공화국    평양직할시   1945년 8월 15일~1946년 2월 15일\\\\n1945년 해방 전후로 8월에는 소련군이 함경북도를 거쳐 38도선 북부를 점령하였고, 9월에는 미군이 남부에 주둔하면서 한반도는 북위 38도선을 경계로 남북으로 분단되어 미국과 소련, 양국의 군정이 실시되었다. 이후 미소공동위원회가 결렬되고 수차례의 통일정부를 세우려는 노력에도 불구하고 이념의 대립을 극복하지 못한 채 분단되어 두개의 정부가 세워졌다.\\\\n대한민국[편집]\\\\n 대한민국\\\\n1948년 8월 15일~   수도  수도 기간 \\\\n서울특별시   1948년 8월 15일~1950년 6월 28일\\\\n부산시[12] 釜山市 1950년 6월 28일~1953년 7월 27일\\\\n서울특별시   1953년 7월 27일~현재\\\\n대한민국의 수도는 서울특별시이며 한강이 도시를 관통한다. 한국전쟁 당시 서울이 함락되자 대전과 대구를 거쳐 부산을 임시수도로 결정하였다. 휴전협정 이후 오늘날에 이르기까지 서울은 대한민국의 수도이자 최대도시이다.\\\\n대한민국의 입법, 사법, 행정을 비롯한 중추적인 국가기관이 위치하고 있으며, 1988년 제24회 올림픽, 2002년 FIFA 월드컵 경기대회, 2010년 G20 정상회의를 개최한 국제도시이다. 창덕궁, 종묘, 조선왕릉 등의 세계문화유산이 위치한다.\\\\n조선민주주의인민공화국[편집]\\\\n 조선민주주의인민공화국\\\\n1948년 9월 9일~    수도명 수도 기간 \\\\n평양시 平壤市 1948년 9월 9일~1950년 10월 19일\\\\n강계시[13] 江界市 1950년 10월 19일~1950년 12월 5일\\\\n평양직할시[14] 平壤直轄市 1950년 12월 5일~현재\\\\n조선민주주의인민공화국의 수도는 평양직할시이며 최대 도시이다. 1950년 10월 19일 대한민국 국군이 수복했지만 12월 5일에 조선인민군이 탈환했다. 조선민주주의인민공화국은 1948년부터 1972년까지 서울을 수도로 규정하였으나 이후 평양을 정식 수도로 명문화하였다.\\\\n평양은 도시 중심에 대동강이 흐르며 행정구역은 18구역 2군으로 이루어져 있고, 인구는 약 290만명이다. 거주 이전의 자유가 없기 때문에 다른 지역 주민의 평양 이주가 금지되어 있다.\\\\n기타[편집]\\\\n한국의 역사\\\\n대한민국의 세계유산\\\\n수도\\\\n각주[편집]\\\\n↑ 곰나루, 고마나루 등으로 불리었다\\\\n↑ 《삼국사기》 제26권 백제본기 제4\\\\n문주왕 원년 겨울 10월, 웅진으로 도읍을 옮겼다\\\\n↑ 《삼국사기》 제26권 백제본기 제4\\\\n16년 봄 사비(혹은 소부리라고도 한다)로 도읍을 옮기고 국호를 남부여로 바꿨다\\\\n↑ 서라벌(徐羅伐) 등으로 불리었다.\\\\n↑ 《삼국사기》 제8권 신라본기 제8\\\\n왕이 달구벌로 수도를 옮기려 하였으나 이루지 못하였다\\\\n↑ “‘발해는 고구려 계승한 황제국’ 증거유물 나와”. 2020년 7월 18일에 확인함.\\\\n↑ “중국 지린성서 발해 황후 묘지 발굴”. 2020년 7월 18일에 확인함.\\\\n↑ 1394년 11월 한양으로 천도할 때까지 2년여간 수도였다.\\\\n↑ 『고려사』 권23, 세가23 고종2\\\\n6월 을축일에 최우가 왕을 협박하여 강화로 천도하였다\\\\n↑ 김태식 기자. “북한 개성역사지구 세계유산 등재(종합)”. 《연합뉴스》.\\\\n↑ 조선총독부령 제7호 (메이지 43년 10월 1일 공포)\\\\n↑ 1962년까지 경상남도 관할이었다. 1963년 1월 1일 부산직할시로, 1995년 부산광역시로 개편되었다.\\\\n↑ 1949년 신설 된 자강도(慈江道)의 도청소재지\\\\n↑ 1952년 직할시로 개편\\\\n분류: 한국의 수도한국의 역사한국의 옛 수도옛 나라의 수도대한민국의 도시조선민주주의인민공화국의 도시\\\\n이 문서는 2024년 6월 4일 (화) 22:33에 마지막으로 편집되었습니다.\\\\n모든 문서는 크리에이티브 커먼즈 저작자표시-동일조건변경허락 4.0에 따라 사용할 수 있으며, 추가적인 조건이 적용될 수 있습니다. 자세한 내용은 이용 약관을 참고하십시오.\\\\nWikipedia®는 미국 및 다른 국가에 등록되어 있는 Wikimedia Foundation, Inc. 소유의 등록 상표입니다.\\\\n개인정보처리방침\\\\n위키백과 소개\\\\n면책 조항\\\\n행동 강령\\\\n개발자\\\\n통계\\\\n쿠키 정책\\\\n모바일 보기\"}]', name='tavily_web_search', id='49c1a0ee-2356-4748-8507-814e08eb11cd', tool_call_id='call_UK0YiH0hqTGg5S2OPtSxVkXr')]\n",
      "\n",
      "[2] chatbot answer: \n",
      " 대한민국의 수도는 서울특별시입니다. 서울은 한강이 도시를 관통하며, 대한민국의 정치, 경제, 문화의 중심지로 기능하고 있습니다. 서울은 1948년 8월 15일 대한민국 정부 수립 이후 수도로 지정되었으며, 한국전쟁 동안 잠시 부산이 임시 수도로 사용되기도 했습니다. 현재 서울은 다양한 국제 행사와 문화유산이 있는 도시로 알려져 있습니다.\n",
      "\n",
      "더 자세한 내용은 [위키백과의 한국의 수도](https://ko.wikipedia.org/wiki/한국의_수도)에서 확인하실 수 있습니다.\n",
      "[3] answer.additional_kwargs: \n",
      " {'refusal': None}\n",
      "=================================================================================\n",
      "=================================================================================\n",
      "\n",
      "[event] 실행 결과\n",
      "(1) value : \n",
      "content='대한민국의 수도는 서울특별시입니다. 서울은 한강이 도시를 관통하며, 대한민국의 정치, 경제, 문화의 중심지로 기능하고 있습니다. 서울은 1948년 8월 15일 대한민국 정부 수립 이후 수도로 지정되었으며, 한국전쟁 동안 잠시 부산이 임시 수도로 사용되기도 했습니다. 현재 서울은 다양한 국제 행사와 문화유산이 있는 도시로 알려져 있습니다.\\n\\n더 자세한 내용은 [위키백과의 한국의 수도](https://ko.wikipedia.org/wiki/한국의_수도)에서 확인하실 수 있습니다.' additional_kwargs={'refusal': None} response_metadata={'token_usage': {'completion_tokens': 134, 'prompt_tokens': 6205, 'total_tokens': 6339, 'completion_tokens_details': {'accepted_prediction_tokens': 0, 'audio_tokens': 0, 'reasoning_tokens': 0, 'rejected_prediction_tokens': 0}, 'prompt_tokens_details': {'audio_tokens': 0, 'cached_tokens': 0}}, 'model_name': 'gpt-4o-mini-2024-07-18', 'system_fingerprint': 'fp_00428b782a', 'finish_reason': 'stop', 'logprobs': None} id='run-ed8243d4-4a52-4cb4-b324-9a66f93cf455-0' usage_metadata={'input_tokens': 6205, 'output_tokens': 134, 'total_tokens': 6339, 'input_token_details': {'audio': 0, 'cache_read': 0}, 'output_token_details': {'audio': 0, 'reasoning': 0}}\n",
      "\n",
      "(2) [content]: 대한민국의 수도는 서울특별시입니다. 서울은 한강이 도시를 관통하며, 대한민국의 정치, 경제, 문화의 중심지로 기능하고 있습니다. 서울은 1948년 8월 15일 대한민국 정부 수립 이후 수도로 지정되었으며, 한국전쟁 동안 잠시 부산이 임시 수도로 사용되기도 했습니다. 현재 서울은 다양한 국제 행사와 문화유산이 있는 도시로 알려져 있습니다.\n",
      "\n",
      "더 자세한 내용은 [위키백과의 한국의 수도](https://ko.wikipedia.org/wiki/한국의_수도)에서 확인하실 수 있습니다.\n",
      "(3) [additional_kwargs]: \n",
      "\t{'refusal': None}\n",
      "(4) [response_metadata]: \n",
      "\t{'token_usage': {'completion_tokens': 134, 'prompt_tokens': 6205, 'total_tokens': 6339, 'completion_tokens_details': {'accepted_prediction_tokens': 0, 'audio_tokens': 0, 'reasoning_tokens': 0, 'rejected_prediction_tokens': 0}, 'prompt_tokens_details': {'audio_tokens': 0, 'cached_tokens': 0}}, 'model_name': 'gpt-4o-mini-2024-07-18', 'system_fingerprint': 'fp_00428b782a', 'finish_reason': 'stop', 'logprobs': None}\n",
      "=================================================================================\n",
      "\n"
     ]
    }
   ],
   "source": [
    "question = ('대한민국 수도에 대해서 검색해줘')\n",
    "\n",
    "for event in graph.stream({\"messages\": [(\"user\", question)]}, config=config):\n",
    "    \n",
    "    print('=================================================================================')\n",
    "    print('\\n[event] 실행 결과')\n",
    "\n",
    "    for value in event.values():\n",
    "        print('(1) value : ')\n",
    "        print(value['messages'][-1])\n",
    "        print()\n",
    "\n",
    "        if value['messages'][-1].content is not None:\n",
    "            print(f\"(2) [content]: {value['messages'][-1].content}\")\n",
    "        else:\n",
    "            print(f\"(2) [content]: 없음\")\n",
    "\n",
    "\n",
    "        if value['messages'][-1].additional_kwargs is not None:\n",
    "            print(f\"(3) [additional_kwargs]: \")\n",
    "            print(f\"\\t{value['messages'][-1].additional_kwargs}\")\n",
    "\n",
    "        else:\n",
    "            print(f\"(3) [additional_kwargs]: 없음\")\n",
    "\n",
    "        \n",
    "        if value['messages'][-1].response_metadata is not None:\n",
    "            print(f\"(4) [response_metadata]: \")\n",
    "            print(f\"\\t{value['messages'][-1].response_metadata}\")\n",
    "        else:\n",
    "            print(f\"(4)) [response_metadata]: 없음\")\n",
    "        print('=================================================================================')\n",
    "        print()"
   ]
  },
  {
   "cell_type": "code",
   "execution_count": 58,
   "metadata": {},
   "outputs": [],
   "source": [
    "config = RunnableConfig(\n",
    "    recursion_limit=10, \n",
    "    configurable={'thread_id': '1'}\n",
    ")\n",
    "\n",
    "snapshot = graph.get_state(config=config)"
   ]
  },
  {
   "cell_type": "code",
   "execution_count": 59,
   "metadata": {},
   "outputs": [
    {
     "data": {
      "text/plain": [
       "StateSnapshot(values={'messages': [HumanMessage(content='`소프트웨어놀이터`에서 코딩강의를 하고 있는 이인환입니다.', additional_kwargs={}, response_metadata={}, id='bfca6d0f-054b-4089-bf5a-767372cde746'), AIMessage(content='안녕하세요, 이인환님! 소프트웨어놀이터에서 코딩 강의를 하고 계시다니 멋지네요. 어떤 주제에 대해 강의를 하고 계신가요? 도움이 필요하시거나 궁금한 점이 있다면 말씀해 주세요!', additional_kwargs={'refusal': None}, response_metadata={'token_usage': {'completion_tokens': 58, 'prompt_tokens': 110, 'total_tokens': 168, 'completion_tokens_details': {'accepted_prediction_tokens': 0, 'audio_tokens': 0, 'reasoning_tokens': 0, 'rejected_prediction_tokens': 0}, 'prompt_tokens_details': {'audio_tokens': 0, 'cached_tokens': 0}}, 'model_name': 'gpt-4o-mini-2024-07-18', 'system_fingerprint': 'fp_00428b782a', 'finish_reason': 'stop', 'logprobs': None}, id='run-73d75004-a66f-47ee-a116-417ad502ca7a-0', usage_metadata={'input_tokens': 110, 'output_tokens': 58, 'total_tokens': 168, 'input_token_details': {'audio': 0, 'cache_read': 0}, 'output_token_details': {'audio': 0, 'reasoning': 0}}), HumanMessage(content='`소프트웨어놀이터`에서 코딩강의를 하고 있는 이인환입니다.', additional_kwargs={}, response_metadata={}, id='38c692b2-af72-4b84-8287-b289d49d4c8c'), AIMessage(content='안녕하세요, 이인환님! 소프트웨어놀이터에서 코딩 강의를 하고 계신다니 정말 멋지네요. 어떤 언어나 주제를 다루고 계신가요? 또는 도움이 필요하신 부분이 있으신가요?', additional_kwargs={'refusal': None}, response_metadata={'token_usage': {'completion_tokens': 56, 'prompt_tokens': 193, 'total_tokens': 249, 'completion_tokens_details': {'accepted_prediction_tokens': 0, 'audio_tokens': 0, 'reasoning_tokens': 0, 'rejected_prediction_tokens': 0}, 'prompt_tokens_details': {'audio_tokens': 0, 'cached_tokens': 0}}, 'model_name': 'gpt-4o-mini-2024-07-18', 'system_fingerprint': 'fp_00428b782a', 'finish_reason': 'stop', 'logprobs': None}, id='run-ae0b7922-2a24-4cfe-af32-3dabe4f2da20-0', usage_metadata={'input_tokens': 193, 'output_tokens': 56, 'total_tokens': 249, 'input_token_details': {'audio': 0, 'cache_read': 0}, 'output_token_details': {'audio': 0, 'reasoning': 0}}), HumanMessage(content='내 이름이 뭐라고 했지?', additional_kwargs={}, response_metadata={}, id='209a409a-13b6-459e-ad7d-a7ae5ac0c15c'), AIMessage(content='당신의 이름은 이인환입니다.', additional_kwargs={'refusal': None}, response_metadata={'token_usage': {'completion_tokens': 12, 'prompt_tokens': 263, 'total_tokens': 275, 'completion_tokens_details': {'accepted_prediction_tokens': 0, 'audio_tokens': 0, 'reasoning_tokens': 0, 'rejected_prediction_tokens': 0}, 'prompt_tokens_details': {'audio_tokens': 0, 'cached_tokens': 0}}, 'model_name': 'gpt-4o-mini-2024-07-18', 'system_fingerprint': 'fp_00428b782a', 'finish_reason': 'stop', 'logprobs': None}, id='run-7d44a132-ca05-42cd-8e0c-83db7756ac70-0', usage_metadata={'input_tokens': 263, 'output_tokens': 12, 'total_tokens': 275, 'input_token_details': {'audio': 0, 'cache_read': 0}, 'output_token_details': {'audio': 0, 'reasoning': 0}}), HumanMessage(content='내 이름이 뭐라고 했지?', additional_kwargs={}, response_metadata={}, id='fe26559f-6657-4466-b577-38116b8d3766'), AIMessage(content='당신의 이름은 이인환입니다.', additional_kwargs={'refusal': None}, response_metadata={'token_usage': {'completion_tokens': 12, 'prompt_tokens': 289, 'total_tokens': 301, 'completion_tokens_details': {'accepted_prediction_tokens': 0, 'audio_tokens': 0, 'reasoning_tokens': 0, 'rejected_prediction_tokens': 0}, 'prompt_tokens_details': {'audio_tokens': 0, 'cached_tokens': 0}}, 'model_name': 'gpt-4o-mini-2024-07-18', 'system_fingerprint': 'fp_00428b782a', 'finish_reason': 'stop', 'logprobs': None}, id='run-06df7e87-4a76-4760-a0d5-b378c509f081-0', usage_metadata={'input_tokens': 289, 'output_tokens': 12, 'total_tokens': 301, 'input_token_details': {'audio': 0, 'cache_read': 0}, 'output_token_details': {'audio': 0, 'reasoning': 0}}), HumanMessage(content='대한민국 수도에 대해서 검색해줘', additional_kwargs={}, response_metadata={}, id='974d66df-6f9a-4c09-821b-8f5b4c264ee5'), AIMessage(content='', additional_kwargs={'tool_calls': [{'id': 'call_UK0YiH0hqTGg5S2OPtSxVkXr', 'function': {'arguments': '{\"query\":\"대한민국 수도\"}', 'name': 'tavily_web_search'}, 'type': 'function'}], 'refusal': None}, response_metadata={'token_usage': {'completion_tokens': 20, 'prompt_tokens': 315, 'total_tokens': 335, 'completion_tokens_details': {'accepted_prediction_tokens': 0, 'audio_tokens': 0, 'reasoning_tokens': 0, 'rejected_prediction_tokens': 0}, 'prompt_tokens_details': {'audio_tokens': 0, 'cached_tokens': 0}}, 'model_name': 'gpt-4o-mini-2024-07-18', 'system_fingerprint': 'fp_00428b782a', 'finish_reason': 'tool_calls', 'logprobs': None}, id='run-c63bd05e-65a2-4cd9-b719-c6c6e3a0f486-0', tool_calls=[{'name': 'tavily_web_search', 'args': {'query': '대한민국 수도'}, 'id': 'call_UK0YiH0hqTGg5S2OPtSxVkXr', 'type': 'tool_call'}], usage_metadata={'input_tokens': 315, 'output_tokens': 20, 'total_tokens': 335, 'input_token_details': {'audio': 0, 'cache_read': 0}, 'output_token_details': {'audio': 0, 'reasoning': 0}}), ToolMessage(content='[{\"title\": \"한국의 수도 - 위키백과, 우리 모두의 백과사전\", \"url\": \"https://ko.wikipedia.org/wiki/한국의_수도\", \"content\": \"개인 도구 한국의 수도 편집 도구 위키백과, 우리 모두의 백과사전. 한국의 역대 수도[편집] 삼한  마한  충청도와 전라도 일대 몽촌토성, 풍납토성을 비롯하여 초기 백제시대의 유물이 발견되었으며, 475년 고구려 장수왕이 백제를 침공하여 개로왕을 죽이자, 개로왕의 아들인 문주왕이 웅진으로 천도하였다.[2] 웅진은 오늘날 충청남도 공주시 일대로 70여년간 백제의 수도로써 번성하였으며 그 중 공산성, 송산리 고분군과 무령왕릉은 세계문화유산으로 지정되었다. 태조 이성계는 새 도읍지를 물색하던 중\\xa0무학국사와\\xa0하륜(河崙) 등 중신들의 의견에 따라 1393년, 도읍지를 한양으로 정하고\\xa01394년\\xa0신도궁궐조성도감(新都宮闕造成都監)을 설치하여 새 수도의 도시 계획을 구상하였다. 1945년 8월 15일~1946년 2월 15일   평양   조선민주주의인민공화국    평양직할시   1945년 8월 15일~1946년 2월 15일 1945년 해방 전후로 8월에는 소련군이 함경북도를 거쳐 38도선 북부를 점령하였고, 9월에는 미군이 남부에 주둔하면서 한반도는 북위 38도선을 경계로 남북으로 분단되어 미국과 소련, 양국의 군정이 실시되었다. 위키백과 소개\", \"score\": 0.8700796, \"raw_content\": \"본문으로 이동\\\\n주 메뉴\\\\n검색\\\\n기부\\\\n계정 만들기\\\\n로그인\\\\n개인 도구\\\\n목차 토글\\\\n한국의 수도\\\\n7개 언어\\\\n문서\\\\n토론\\\\n읽기\\\\n편집\\\\n역사 보기\\\\n도구\\\\n위키백과, 우리 모두의 백과사전.\\\\n다음은 한국사에 존재했던 여러 나라들의 수도이다.\\\\n한국의 역대 수도[편집]\\\\n고조선 시대[편집]\\\\n국가명 수도  현재 위치   수도 기간\\\\n고조선\\\\n기원전 2333년~기원전 108년  단군조선    아사달 阿斯達 위치불명    불명\\\\n위만조선    왕검성 王儉城\\\\n진국  불명\\\\n원삼국시대[편집]\\\\n국가명 수도  현재 위치   비고\\\\n부여  북부여 부여성 扶餘城  중화인민공화국  \\\\n동부여 불명\\\\n옥저   조선민주주의인민공화국    함경도, 강원도 일대\\\\n동예   대한민국   강원도 일대\\\\n삼한  마한  충청도와 전라도 일대\\\\n변한  전라남도와 경상남도 일대\\\\n진한  경상도 일대\\\\n고대[편집]\\\\n고구려[편집]\\\\n고구려\\\\n기원전 37년~668년    수도명 현재 위치   수도 기간 \\\\n졸본 卒本    중화인민공화국    랴오닝성 환런현    기원전 37년~3년\\\\n국내성 國內城 지린성 지안 시    3년~427년\\\\n평양성 平壤城  조선민주주의인민공화국    평양직할시   427년~668년\\\\n《삼국사기》 〈고구려본기〉의 기록에는 기원전 37년 주몽이 부여에서 탈출하여 졸본에 도읍을 정하였다고 기록되어 있다. 이후 동명성왕의 아들 유리명왕이 국내성으로 천도하면서 위나암성을 축조하였으며 오늘날 중국 지린성 지안 시 일대이다. 427년 광개토대왕의 아들 장수왕 대에 이르러 평양으로 천도하였다. 586년 평원왕 대에 장안성(長安城)이 축조되어 수도의 역할을 하였다.\\\\n백제[편집]\\\\n백제\\\\n기원전 18년~660년    국호  수도  현재 위치   수도 기간 \\\\n백제  위례성 慰禮城  대한민국   서울특별시 송파구   기원전 18년~475년\\\\n웅진[1] 熊津    충청남도 공주시    475년~538년\\\\n남부여 사비 泗沘   충청남도 부여군    538년~660년\\\\n고구려 동명성왕의 셋째 아들인 온조가 남하하여 첫 수도를 정한 위례성은 현재의 서울특별시 송파구 부근이다. 몽촌토성, 풍납토성을 비롯하여 초기 백제시대의 유물이 발견되었으며, 475년 고구려 장수왕이 백제를 침공하여 개로왕을 죽이자, 개로왕의 아들인 문주왕이 웅진으로 천도하였다.[2] 웅진은 오늘날 충청남도 공주시 일대로 70여년간 백제의 수도로써 번성하였으며 그 중 공산성, 송산리 고분군과 무령왕릉은 세계문화유산으로 지정되었다. 538년, 성왕은 국호를 남부여로 고치고 수도를 사비로 이전하였다.[3] 이후 660년 멸망할 때까지 사비는 백제의 마지막 수도였다. 사비는 오늘날의 충남 부여군이며, 능산리 고분군, 정림사지 등의 유적들이 세계문화유산으로 지정되었다.\\\\n신라[편집]\\\\n신라\\\\n기원전 57년~935년    수도  현재 위치   수도 기간 \\\\n\\u3000금성[4]\\\\n金城   대한민국 경상북도 경주시  기원전 57년~935년\\\\n신라의 수도는 금성(金城)이며 서라벌, 쇠울 등 다양한 이름으로 불려왔다. 금성은 오늘날의 경상북도 경주시이며 고도(古都)이다. 수도가 동남쪽으로 치우쳐져 있는 것을 보완하고자 5소경을 설치하였고, 신문왕 대에 달구벌로 천도하려 하였으나 귀족의 반발로 무산되었다.[5] 금성은 천년동안 신라의 수도였으며 오늘날 수많은 유적들이 남아있다.\\\\n석굴암, 불국사를 비롯하여 첨성대, 안압지, 황룡사지, 분황사 등의 유적지가 존재하며 대릉원, 천마총과 여러 왕릉들이 존재한다. 경주의 유적은 2000년 세계문화유산으로 등록되었다.\\\\n가야[편집]\\\\n가야\\\\n42년~562년    국호  수도  현재 위치   수도 기간\\\\n금관가야    미상   대한민국   경상남도 김해시    42년~532년\\\\n대가야 경상북도 고령군    42년~562년\\\\n발해[편집]\\\\n발해\\\\n698년~926년   수도  현재 위치   수도 기간 \\\\n구국 舊國    중화인민공화국    지린성 둔화 시    698년~8세기\\\\n중경현덕부 中京顯德府 지린성 허룽 시    742년~756년\\\\n상경용천부 上京龍泉府 헤이룽장성 닝안 시  756년~785년\\\\n동경용원부 東京龍原府 헤이룽장성 훈춘 시  785년~794년\\\\n상경용천부 上京龍泉府 헤이룽장성 닝안 시  794년~926년\\\\n대조영이 건국한 발해는 초기에 동모산을 거점으로 성립하였으며 오늘날의 중국 지린성 둔화 시이다. 문왕의 둘째 딸인 정혜공주의 묘가 1949년 둔화 시 육정산 고분군에서 발굴되었다. 발해는 5경을 두었으며 이 중 중경 현덕부, 동경 용원부를 거쳐 상경 용천부(上京龍泉府)가 수도가 되었는데, 오늘날 중국 지린성 허룽 시, 헤이룽장성 일대이다.\\\\n1980년 룽터우 산 고분군에서 문왕의 넷째 딸인 정효공주의 묘가 발굴되었으며, 2005년 룽터우산 고분군에서 문왕의 부인인 효의황후(孝懿皇后) 묘지와 9대 간왕(簡王)의 부인인 순목황후(順穆皇后) 묘지가 발굴되었다.[6][7]\\\\n후삼국 시대[편집]\\\\n후백제[편집]\\\\n후백제\\\\n892년~936년   수도  현재 위치   수도 기간\\\\n무진주 武珍州  대한민국   전라남도 일대\\\\n광주광역시   892년~900년\\\\n완산주 完山州 전라북도 전주시    900년~936년\\\\n892년 무진주를 거점으로 나라를 세운 견훤은 900년 완산주(完山州)로 천도하면서 즉위하였다. 이후 936년 고려에 멸망할 때까지 완산주는 후백제의 도읍이었다. 무진주는 오늘날의 광주광역시와 전라남도 일대이고, 완산주는 전라북도 전주이다. 전주 교동에서 우아동 3가에 이르는 길의 견훤의 이름을 본따 \\'견훤로\\'로 명명되었다.\\\\n태봉[편집]\\\\n후고구려\\\\n901년~918년   국호  수도  현재 위치   수도 기간\\\\n후고구려    송악 松岳    조선민주주의인민공화국    개성특별시   901년~905년\\\\n마진  철원 鐵原   강원도 철원군 905년~911년\\\\n태봉   대한민국   911년~918년\\\\n신라 헌안왕 혹은 경문왕의 서자인 궁예는 반신라적 사상과 고구려를 계승한다는 기지를 내걸고 901년 후고구려를 건국하였다. 초기 수도는 송악이며 오늘날 북한 개성이다.\\\\n905년 국호를 마진으로 바꾸고 철원으로 천도하였으며 911년 국호를 태봉으로 고쳤다. 이후 918년 6월 왕건의 정변으로 멸망하였으며 철원은 남북으로 분단되어 오늘날 남북한 모두 동명의 행정구역을 갖는다.\\\\n고려시대[편집]\\\\n 고려\\\\n918년~1392년  수도  현재 위치   수도 기간 \\\\n철원 鐵原    대한민국   강원도 철원군 918년~919년\\\\n 조선민주주의인민공화국\\\\n개경 開京   개성특별시   919년~1232년\\\\n강화 江華    대한민국   인천광역시 강화군   1232년~1270년\\\\n개경 開京    조선민주주의인민공화국    개성특별시   1270년~1392년\\\\n개경은 500여년간 번성한 고려의 수도이며 오늘날의 북한 개성시이다. 태봉, 고려, 조선[8] 세 왕조가 도읍하였다. 송도(松都), 송악(松岳), 송경(松京) 등 여러 가지 이름으로 불렸다. 또한 예성강 하구에 위치한 무역항인 벽란도를 통해 국제무역이 번성하였다.\\\\n1232년 몽고의 침입이 시작되자, 무신정권의 집권자인 최우가 수도를 강화도로 옮기면서[9] 1270년 개경으로 환도할 때까지 38년간 강화(江華)가 고려의 수도가 되었다. 만월대, 고려왕릉, 첨성대, 선죽교 등 고려왕조의 유적이 남아있으며 일부는 세계문화유산으로 지정되었다.[10]\\\\n조선시대[편집]\\\\n국호  수도  현재 위치   수도 기간 \\\\n 조선\\\\n1392년~1897년 개경 開京    조선민주주의인민공화국    개성특별시   1392년~1394년\\\\n한양 漢陽    대한민국   서울특별시   1394년~1399년\\\\n개경 開京    조선민주주의인민공화국    개성특별시   1399년~1405년\\\\n한양 漢陽    대한민국   서울특별시   1405년~1910년\\\\n 대한제국\\\\n1897년~1910년\\\\n조선의 수도는 한성(漢城)이며 한양(漢陽)이라고도 한다. 태조 이성계는 새 도읍지를 물색하던 중\\xa0무학국사와\\xa0하륜(河崙) 등 중신들의 의견에 따라 1393년, 도읍지를 한양으로 정하고\\xa01394년\\xa0신도궁궐조성도감(新都宮闕造成都監)을 설치하여 새 수도의 도시 계획을 구상하였다. 1394년 음력 10월 28일\\xa0한양으로 천도 하였다. 천도의 기준은\\xa0풍수·도참설에 따르면서, 남쪽에 한강이 있어 교통상 배로 물건을 실어 나르기가 편리하였기 때문이다.\\\\n1394년 한양으로 천도한 이래 정종이 개경으로 환도하였다가 태종이 다시 한양으로 천도하였다. 태종 대에 궁궐과 성곽 도로 공사를 통해 수도의 면모를 갖추었으며 임진왜란을 겪으며 경복궁과 종묘 등을 비롯하여 도시 전반이 파괴되었다가 전후 복구되었다. 이후 대한제국 시기에 각국의 공사관과 명동성당, 덕수궁 석조전과 같은 서양식 건물이 건설되고 철도가 설치되었다.\\\\n일제강점기[편집]\\\\n 일제강점기\\\\n1910년 8월 29일\\\\n~1945년 8월 15일   수도  현재 위치   수도 기간 \\\\n경성부\\\\n京城府  대한민국 서울특별시 1910년 9월 30일[11]~1945년 8월 15일\\\\n일제강점기의 수도는 경성부(한자: 京城府) 또는\\xa0게이조 부(일본어: 京城府 게이조후[*])이며 오늘날의\\xa0서울특별시에 해당한다. 조선과\\xa0대한제국의 수도였던\\xa0한성부는 1910년\\xa0한일 병합 조약\\xa0체결 이후에 일본 제국의 조선 식민 지배의 행정 중심지로서 경성부로 불리게 되었고, 경기도에 편입되어 도청 소재지가 되었다.\\\\n혼마치(本町, 충무로)와 메이지초(明治町, 명동)를 중심으로 상권이 발달하였으나 도시의 빈부격차는 극심하였다. 1943년\\xa06월 10일, 인구 증가에 따라\\xa0구가 설치되었다.\\xa0광복 이후에도 잠시 경성으로 불렸으나,\\xa01946년\\xa09월 28일\\xa0미군정에 의하여\\xa0경기도에서 분리해\\xa0서울특별자유시가 되었다.\\\\n대한민국 임시정부[편집]\\\\n 대한민국 임시정부\\\\n1919년~1945년 임시 수도   현재 위치   임시 수도 기간  \\\\n상하이 上海   중화인민공화국    상하이시    1919년 4월~ 1932년 5월\\\\n항저우 杭州  저장성 항저우시    1932년 5월 ~ 1932년 10월\\\\n전장 鎭江   장쑤성 전장 시    1932년 10월 ~ 1932년 11월\\\\n난징 南京   장쑤성 난징시 1932년 11월~1937년 11월\\\\n창사 長沙   후난성 창사 시    1937년 12월~1938년 7월\\\\n광저우 廣州  광둥성 광저우 시   1938년 7월~1938년 11월\\\\n류저우 柳州  광시좡족자치구\\\\n류저우 시   1938년 11월~1939년 5월\\\\n치장 綦江   충칭시 1939년 5월~ 1940년 9월\\\\n충칭 重慶   1940년 9월~1945년 11월\\\\n대한민국 임시정부는\\xa01919년\\xa03월 1일\\xa03·1 독립선언에 기초하여\\xa0일본 제국의\\xa0대한제국\\xa0침탈과 식민 통치를 부인하고, 한반도\\xa0내외의 항일 독립운동을 주도하기 위한 목적으로\\xa01919년\\xa04월 13일\\xa0중화민국\\xa0상하이에서 설립된\\xa0망명정부이다. 같은 해\\xa09월 11일에는 각지의 임시정부들을 통합하여 중국 상해에서 단일 정부를 수립하였다.\\\\n1919년\\xa0임시 헌법을 제정하여\\xa0대한제국의 영토를 계승하고 구 황실을 우대한다고 명시하였고, 임시정부 하에서\\xa0독립 운동을 활발하게 전개·지원하였다. 1919년부터 1932년까지 13년간 상하이에 임시정부를 두었으나 1932년\\xa0홍커우 공원에서 윤봉길 의사의 의거가 일어나자, 일본군을 피해\\xa0항저우를 거쳐 난징으로 이동하였으나 중일전쟁이 발발하면서 일본이 난징을 침략하자 창사, 광저우, 류저우를 거쳐 1940년\\xa0충칭으로 이전하였고 그곳에서 광복을 맞이하였다.\\\\n1948년 제정된\\xa0대한민국 제헌 헌법\\xa0전문과 1987년 개정된\\xa0대한민국 헌법 전문에 대한민국 임시정부에 대한 계승 의지가 수록되었다. 현재 상하이, 항저우, 충칭에 임시정부 유적지가 복원되었다.\\\\n현대[편집]\\\\n군정기[편집]\\\\n군정\\\\n 미군정기\\\\n1945년 9월 9일~1948년 8월 15일    서울특별자유시  대한민국   서울특별시   1945년 9월 9일~1948년 8월 15일\\\\n 소련 군정기\\\\n1945년 8월 15일~1946년 2월 15일   평양   조선민주주의인민공화국    평양직할시   1945년 8월 15일~1946년 2월 15일\\\\n1945년 해방 전후로 8월에는 소련군이 함경북도를 거쳐 38도선 북부를 점령하였고, 9월에는 미군이 남부에 주둔하면서 한반도는 북위 38도선을 경계로 남북으로 분단되어 미국과 소련, 양국의 군정이 실시되었다. 이후 미소공동위원회가 결렬되고 수차례의 통일정부를 세우려는 노력에도 불구하고 이념의 대립을 극복하지 못한 채 분단되어 두개의 정부가 세워졌다.\\\\n대한민국[편집]\\\\n 대한민국\\\\n1948년 8월 15일~   수도  수도 기간 \\\\n서울특별시   1948년 8월 15일~1950년 6월 28일\\\\n부산시[12] 釜山市 1950년 6월 28일~1953년 7월 27일\\\\n서울특별시   1953년 7월 27일~현재\\\\n대한민국의 수도는 서울특별시이며 한강이 도시를 관통한다. 한국전쟁 당시 서울이 함락되자 대전과 대구를 거쳐 부산을 임시수도로 결정하였다. 휴전협정 이후 오늘날에 이르기까지 서울은 대한민국의 수도이자 최대도시이다.\\\\n대한민국의 입법, 사법, 행정을 비롯한 중추적인 국가기관이 위치하고 있으며, 1988년 제24회 올림픽, 2002년 FIFA 월드컵 경기대회, 2010년 G20 정상회의를 개최한 국제도시이다. 창덕궁, 종묘, 조선왕릉 등의 세계문화유산이 위치한다.\\\\n조선민주주의인민공화국[편집]\\\\n 조선민주주의인민공화국\\\\n1948년 9월 9일~    수도명 수도 기간 \\\\n평양시 平壤市 1948년 9월 9일~1950년 10월 19일\\\\n강계시[13] 江界市 1950년 10월 19일~1950년 12월 5일\\\\n평양직할시[14] 平壤直轄市 1950년 12월 5일~현재\\\\n조선민주주의인민공화국의 수도는 평양직할시이며 최대 도시이다. 1950년 10월 19일 대한민국 국군이 수복했지만 12월 5일에 조선인민군이 탈환했다. 조선민주주의인민공화국은 1948년부터 1972년까지 서울을 수도로 규정하였으나 이후 평양을 정식 수도로 명문화하였다.\\\\n평양은 도시 중심에 대동강이 흐르며 행정구역은 18구역 2군으로 이루어져 있고, 인구는 약 290만명이다. 거주 이전의 자유가 없기 때문에 다른 지역 주민의 평양 이주가 금지되어 있다.\\\\n기타[편집]\\\\n한국의 역사\\\\n대한민국의 세계유산\\\\n수도\\\\n각주[편집]\\\\n↑ 곰나루, 고마나루 등으로 불리었다\\\\n↑ 《삼국사기》 제26권 백제본기 제4\\\\n문주왕 원년 겨울 10월, 웅진으로 도읍을 옮겼다\\\\n↑ 《삼국사기》 제26권 백제본기 제4\\\\n16년 봄 사비(혹은 소부리라고도 한다)로 도읍을 옮기고 국호를 남부여로 바꿨다\\\\n↑ 서라벌(徐羅伐) 등으로 불리었다.\\\\n↑ 《삼국사기》 제8권 신라본기 제8\\\\n왕이 달구벌로 수도를 옮기려 하였으나 이루지 못하였다\\\\n↑ “‘발해는 고구려 계승한 황제국’ 증거유물 나와”. 2020년 7월 18일에 확인함.\\\\n↑ “중국 지린성서 발해 황후 묘지 발굴”. 2020년 7월 18일에 확인함.\\\\n↑ 1394년 11월 한양으로 천도할 때까지 2년여간 수도였다.\\\\n↑ 『고려사』 권23, 세가23 고종2\\\\n6월 을축일에 최우가 왕을 협박하여 강화로 천도하였다\\\\n↑ 김태식 기자. “북한 개성역사지구 세계유산 등재(종합)”. 《연합뉴스》.\\\\n↑ 조선총독부령 제7호 (메이지 43년 10월 1일 공포)\\\\n↑ 1962년까지 경상남도 관할이었다. 1963년 1월 1일 부산직할시로, 1995년 부산광역시로 개편되었다.\\\\n↑ 1949년 신설 된 자강도(慈江道)의 도청소재지\\\\n↑ 1952년 직할시로 개편\\\\n분류: 한국의 수도한국의 역사한국의 옛 수도옛 나라의 수도대한민국의 도시조선민주주의인민공화국의 도시\\\\n이 문서는 2024년 6월 4일 (화) 22:33에 마지막으로 편집되었습니다.\\\\n모든 문서는 크리에이티브 커먼즈 저작자표시-동일조건변경허락 4.0에 따라 사용할 수 있으며, 추가적인 조건이 적용될 수 있습니다. 자세한 내용은 이용 약관을 참고하십시오.\\\\nWikipedia®는 미국 및 다른 국가에 등록되어 있는 Wikimedia Foundation, Inc. 소유의 등록 상표입니다.\\\\n개인정보처리방침\\\\n위키백과 소개\\\\n면책 조항\\\\n행동 강령\\\\n개발자\\\\n통계\\\\n쿠키 정책\\\\n모바일 보기\"}]', name='tavily_web_search', id='49c1a0ee-2356-4748-8507-814e08eb11cd', tool_call_id='call_UK0YiH0hqTGg5S2OPtSxVkXr'), AIMessage(content='대한민국의 수도는 서울특별시입니다. 서울은 한강이 도시를 관통하며, 대한민국의 정치, 경제, 문화의 중심지로 기능하고 있습니다. 서울은 1948년 8월 15일 대한민국 정부 수립 이후 수도로 지정되었으며, 한국전쟁 동안 잠시 부산이 임시 수도로 사용되기도 했습니다. 현재 서울은 다양한 국제 행사와 문화유산이 있는 도시로 알려져 있습니다.\\n\\n더 자세한 내용은 [위키백과의 한국의 수도](https://ko.wikipedia.org/wiki/한국의_수도)에서 확인하실 수 있습니다.', additional_kwargs={'refusal': None}, response_metadata={'token_usage': {'completion_tokens': 134, 'prompt_tokens': 6205, 'total_tokens': 6339, 'completion_tokens_details': {'accepted_prediction_tokens': 0, 'audio_tokens': 0, 'reasoning_tokens': 0, 'rejected_prediction_tokens': 0}, 'prompt_tokens_details': {'audio_tokens': 0, 'cached_tokens': 0}}, 'model_name': 'gpt-4o-mini-2024-07-18', 'system_fingerprint': 'fp_00428b782a', 'finish_reason': 'stop', 'logprobs': None}, id='run-ed8243d4-4a52-4cb4-b324-9a66f93cf455-0', usage_metadata={'input_tokens': 6205, 'output_tokens': 134, 'total_tokens': 6339, 'input_token_details': {'audio': 0, 'cache_read': 0}, 'output_token_details': {'audio': 0, 'reasoning': 0}})]}, next=(), config={'configurable': {'thread_id': '1', 'checkpoint_ns': '', 'checkpoint_id': '1eff0105-7027-6ce3-800f-6990cce6a1a2'}}, metadata={'source': 'loop', 'writes': {'chatbot': {'messages': [AIMessage(content='대한민국의 수도는 서울특별시입니다. 서울은 한강이 도시를 관통하며, 대한민국의 정치, 경제, 문화의 중심지로 기능하고 있습니다. 서울은 1948년 8월 15일 대한민국 정부 수립 이후 수도로 지정되었으며, 한국전쟁 동안 잠시 부산이 임시 수도로 사용되기도 했습니다. 현재 서울은 다양한 국제 행사와 문화유산이 있는 도시로 알려져 있습니다.\\n\\n더 자세한 내용은 [위키백과의 한국의 수도](https://ko.wikipedia.org/wiki/한국의_수도)에서 확인하실 수 있습니다.', additional_kwargs={'refusal': None}, response_metadata={'token_usage': {'completion_tokens': 134, 'prompt_tokens': 6205, 'total_tokens': 6339, 'completion_tokens_details': {'accepted_prediction_tokens': 0, 'audio_tokens': 0, 'reasoning_tokens': 0, 'rejected_prediction_tokens': 0}, 'prompt_tokens_details': {'audio_tokens': 0, 'cached_tokens': 0}}, 'model_name': 'gpt-4o-mini-2024-07-18', 'system_fingerprint': 'fp_00428b782a', 'finish_reason': 'stop', 'logprobs': None}, id='run-ed8243d4-4a52-4cb4-b324-9a66f93cf455-0', usage_metadata={'input_tokens': 6205, 'output_tokens': 134, 'total_tokens': 6339, 'input_token_details': {'audio': 0, 'cache_read': 0}, 'output_token_details': {'audio': 0, 'reasoning': 0}})]}}, 'thread_id': '1', 'step': 15, 'parents': {}}, created_at='2025-02-21T04:57:24.169853+00:00', parent_config={'configurable': {'thread_id': '1', 'checkpoint_ns': '', 'checkpoint_id': '1eff0105-58b8-68c9-800e-7421c74eceda'}}, tasks=())"
      ]
     },
     "execution_count": 59,
     "metadata": {},
     "output_type": "execute_result"
    }
   ],
   "source": [
    "snapshot"
   ]
  },
  {
   "cell_type": "code",
   "execution_count": 60,
   "metadata": {},
   "outputs": [
    {
     "data": {
      "text/plain": [
       "{'configurable': {'thread_id': '1',\n",
       "  'checkpoint_ns': '',\n",
       "  'checkpoint_id': '1eff0105-7027-6ce3-800f-6990cce6a1a2'}}"
      ]
     },
     "execution_count": 60,
     "metadata": {},
     "output_type": "execute_result"
    }
   ],
   "source": [
    "snapshot.config"
   ]
  },
  {
   "cell_type": "code",
   "execution_count": 61,
   "metadata": {},
   "outputs": [
    {
     "data": {
      "text/plain": [
       "{'messages': [HumanMessage(content='`소프트웨어놀이터`에서 코딩강의를 하고 있는 이인환입니다.', additional_kwargs={}, response_metadata={}, id='bfca6d0f-054b-4089-bf5a-767372cde746'),\n",
       "  AIMessage(content='안녕하세요, 이인환님! 소프트웨어놀이터에서 코딩 강의를 하고 계시다니 멋지네요. 어떤 주제에 대해 강의를 하고 계신가요? 도움이 필요하시거나 궁금한 점이 있다면 말씀해 주세요!', additional_kwargs={'refusal': None}, response_metadata={'token_usage': {'completion_tokens': 58, 'prompt_tokens': 110, 'total_tokens': 168, 'completion_tokens_details': {'accepted_prediction_tokens': 0, 'audio_tokens': 0, 'reasoning_tokens': 0, 'rejected_prediction_tokens': 0}, 'prompt_tokens_details': {'audio_tokens': 0, 'cached_tokens': 0}}, 'model_name': 'gpt-4o-mini-2024-07-18', 'system_fingerprint': 'fp_00428b782a', 'finish_reason': 'stop', 'logprobs': None}, id='run-73d75004-a66f-47ee-a116-417ad502ca7a-0', usage_metadata={'input_tokens': 110, 'output_tokens': 58, 'total_tokens': 168, 'input_token_details': {'audio': 0, 'cache_read': 0}, 'output_token_details': {'audio': 0, 'reasoning': 0}}),\n",
       "  HumanMessage(content='`소프트웨어놀이터`에서 코딩강의를 하고 있는 이인환입니다.', additional_kwargs={}, response_metadata={}, id='38c692b2-af72-4b84-8287-b289d49d4c8c'),\n",
       "  AIMessage(content='안녕하세요, 이인환님! 소프트웨어놀이터에서 코딩 강의를 하고 계신다니 정말 멋지네요. 어떤 언어나 주제를 다루고 계신가요? 또는 도움이 필요하신 부분이 있으신가요?', additional_kwargs={'refusal': None}, response_metadata={'token_usage': {'completion_tokens': 56, 'prompt_tokens': 193, 'total_tokens': 249, 'completion_tokens_details': {'accepted_prediction_tokens': 0, 'audio_tokens': 0, 'reasoning_tokens': 0, 'rejected_prediction_tokens': 0}, 'prompt_tokens_details': {'audio_tokens': 0, 'cached_tokens': 0}}, 'model_name': 'gpt-4o-mini-2024-07-18', 'system_fingerprint': 'fp_00428b782a', 'finish_reason': 'stop', 'logprobs': None}, id='run-ae0b7922-2a24-4cfe-af32-3dabe4f2da20-0', usage_metadata={'input_tokens': 193, 'output_tokens': 56, 'total_tokens': 249, 'input_token_details': {'audio': 0, 'cache_read': 0}, 'output_token_details': {'audio': 0, 'reasoning': 0}}),\n",
       "  HumanMessage(content='내 이름이 뭐라고 했지?', additional_kwargs={}, response_metadata={}, id='209a409a-13b6-459e-ad7d-a7ae5ac0c15c'),\n",
       "  AIMessage(content='당신의 이름은 이인환입니다.', additional_kwargs={'refusal': None}, response_metadata={'token_usage': {'completion_tokens': 12, 'prompt_tokens': 263, 'total_tokens': 275, 'completion_tokens_details': {'accepted_prediction_tokens': 0, 'audio_tokens': 0, 'reasoning_tokens': 0, 'rejected_prediction_tokens': 0}, 'prompt_tokens_details': {'audio_tokens': 0, 'cached_tokens': 0}}, 'model_name': 'gpt-4o-mini-2024-07-18', 'system_fingerprint': 'fp_00428b782a', 'finish_reason': 'stop', 'logprobs': None}, id='run-7d44a132-ca05-42cd-8e0c-83db7756ac70-0', usage_metadata={'input_tokens': 263, 'output_tokens': 12, 'total_tokens': 275, 'input_token_details': {'audio': 0, 'cache_read': 0}, 'output_token_details': {'audio': 0, 'reasoning': 0}}),\n",
       "  HumanMessage(content='내 이름이 뭐라고 했지?', additional_kwargs={}, response_metadata={}, id='fe26559f-6657-4466-b577-38116b8d3766'),\n",
       "  AIMessage(content='당신의 이름은 이인환입니다.', additional_kwargs={'refusal': None}, response_metadata={'token_usage': {'completion_tokens': 12, 'prompt_tokens': 289, 'total_tokens': 301, 'completion_tokens_details': {'accepted_prediction_tokens': 0, 'audio_tokens': 0, 'reasoning_tokens': 0, 'rejected_prediction_tokens': 0}, 'prompt_tokens_details': {'audio_tokens': 0, 'cached_tokens': 0}}, 'model_name': 'gpt-4o-mini-2024-07-18', 'system_fingerprint': 'fp_00428b782a', 'finish_reason': 'stop', 'logprobs': None}, id='run-06df7e87-4a76-4760-a0d5-b378c509f081-0', usage_metadata={'input_tokens': 289, 'output_tokens': 12, 'total_tokens': 301, 'input_token_details': {'audio': 0, 'cache_read': 0}, 'output_token_details': {'audio': 0, 'reasoning': 0}}),\n",
       "  HumanMessage(content='대한민국 수도에 대해서 검색해줘', additional_kwargs={}, response_metadata={}, id='974d66df-6f9a-4c09-821b-8f5b4c264ee5'),\n",
       "  AIMessage(content='', additional_kwargs={'tool_calls': [{'id': 'call_UK0YiH0hqTGg5S2OPtSxVkXr', 'function': {'arguments': '{\"query\":\"대한민국 수도\"}', 'name': 'tavily_web_search'}, 'type': 'function'}], 'refusal': None}, response_metadata={'token_usage': {'completion_tokens': 20, 'prompt_tokens': 315, 'total_tokens': 335, 'completion_tokens_details': {'accepted_prediction_tokens': 0, 'audio_tokens': 0, 'reasoning_tokens': 0, 'rejected_prediction_tokens': 0}, 'prompt_tokens_details': {'audio_tokens': 0, 'cached_tokens': 0}}, 'model_name': 'gpt-4o-mini-2024-07-18', 'system_fingerprint': 'fp_00428b782a', 'finish_reason': 'tool_calls', 'logprobs': None}, id='run-c63bd05e-65a2-4cd9-b719-c6c6e3a0f486-0', tool_calls=[{'name': 'tavily_web_search', 'args': {'query': '대한민국 수도'}, 'id': 'call_UK0YiH0hqTGg5S2OPtSxVkXr', 'type': 'tool_call'}], usage_metadata={'input_tokens': 315, 'output_tokens': 20, 'total_tokens': 335, 'input_token_details': {'audio': 0, 'cache_read': 0}, 'output_token_details': {'audio': 0, 'reasoning': 0}}),\n",
       "  ToolMessage(content='[{\"title\": \"한국의 수도 - 위키백과, 우리 모두의 백과사전\", \"url\": \"https://ko.wikipedia.org/wiki/한국의_수도\", \"content\": \"개인 도구 한국의 수도 편집 도구 위키백과, 우리 모두의 백과사전. 한국의 역대 수도[편집] 삼한  마한  충청도와 전라도 일대 몽촌토성, 풍납토성을 비롯하여 초기 백제시대의 유물이 발견되었으며, 475년 고구려 장수왕이 백제를 침공하여 개로왕을 죽이자, 개로왕의 아들인 문주왕이 웅진으로 천도하였다.[2] 웅진은 오늘날 충청남도 공주시 일대로 70여년간 백제의 수도로써 번성하였으며 그 중 공산성, 송산리 고분군과 무령왕릉은 세계문화유산으로 지정되었다. 태조 이성계는 새 도읍지를 물색하던 중\\xa0무학국사와\\xa0하륜(河崙) 등 중신들의 의견에 따라 1393년, 도읍지를 한양으로 정하고\\xa01394년\\xa0신도궁궐조성도감(新都宮闕造成都監)을 설치하여 새 수도의 도시 계획을 구상하였다. 1945년 8월 15일~1946년 2월 15일   평양   조선민주주의인민공화국    평양직할시   1945년 8월 15일~1946년 2월 15일 1945년 해방 전후로 8월에는 소련군이 함경북도를 거쳐 38도선 북부를 점령하였고, 9월에는 미군이 남부에 주둔하면서 한반도는 북위 38도선을 경계로 남북으로 분단되어 미국과 소련, 양국의 군정이 실시되었다. 위키백과 소개\", \"score\": 0.8700796, \"raw_content\": \"본문으로 이동\\\\n주 메뉴\\\\n검색\\\\n기부\\\\n계정 만들기\\\\n로그인\\\\n개인 도구\\\\n목차 토글\\\\n한국의 수도\\\\n7개 언어\\\\n문서\\\\n토론\\\\n읽기\\\\n편집\\\\n역사 보기\\\\n도구\\\\n위키백과, 우리 모두의 백과사전.\\\\n다음은 한국사에 존재했던 여러 나라들의 수도이다.\\\\n한국의 역대 수도[편집]\\\\n고조선 시대[편집]\\\\n국가명 수도  현재 위치   수도 기간\\\\n고조선\\\\n기원전 2333년~기원전 108년  단군조선    아사달 阿斯達 위치불명    불명\\\\n위만조선    왕검성 王儉城\\\\n진국  불명\\\\n원삼국시대[편집]\\\\n국가명 수도  현재 위치   비고\\\\n부여  북부여 부여성 扶餘城  중화인민공화국  \\\\n동부여 불명\\\\n옥저   조선민주주의인민공화국    함경도, 강원도 일대\\\\n동예   대한민국   강원도 일대\\\\n삼한  마한  충청도와 전라도 일대\\\\n변한  전라남도와 경상남도 일대\\\\n진한  경상도 일대\\\\n고대[편집]\\\\n고구려[편집]\\\\n고구려\\\\n기원전 37년~668년    수도명 현재 위치   수도 기간 \\\\n졸본 卒本    중화인민공화국    랴오닝성 환런현    기원전 37년~3년\\\\n국내성 國內城 지린성 지안 시    3년~427년\\\\n평양성 平壤城  조선민주주의인민공화국    평양직할시   427년~668년\\\\n《삼국사기》 〈고구려본기〉의 기록에는 기원전 37년 주몽이 부여에서 탈출하여 졸본에 도읍을 정하였다고 기록되어 있다. 이후 동명성왕의 아들 유리명왕이 국내성으로 천도하면서 위나암성을 축조하였으며 오늘날 중국 지린성 지안 시 일대이다. 427년 광개토대왕의 아들 장수왕 대에 이르러 평양으로 천도하였다. 586년 평원왕 대에 장안성(長安城)이 축조되어 수도의 역할을 하였다.\\\\n백제[편집]\\\\n백제\\\\n기원전 18년~660년    국호  수도  현재 위치   수도 기간 \\\\n백제  위례성 慰禮城  대한민국   서울특별시 송파구   기원전 18년~475년\\\\n웅진[1] 熊津    충청남도 공주시    475년~538년\\\\n남부여 사비 泗沘   충청남도 부여군    538년~660년\\\\n고구려 동명성왕의 셋째 아들인 온조가 남하하여 첫 수도를 정한 위례성은 현재의 서울특별시 송파구 부근이다. 몽촌토성, 풍납토성을 비롯하여 초기 백제시대의 유물이 발견되었으며, 475년 고구려 장수왕이 백제를 침공하여 개로왕을 죽이자, 개로왕의 아들인 문주왕이 웅진으로 천도하였다.[2] 웅진은 오늘날 충청남도 공주시 일대로 70여년간 백제의 수도로써 번성하였으며 그 중 공산성, 송산리 고분군과 무령왕릉은 세계문화유산으로 지정되었다. 538년, 성왕은 국호를 남부여로 고치고 수도를 사비로 이전하였다.[3] 이후 660년 멸망할 때까지 사비는 백제의 마지막 수도였다. 사비는 오늘날의 충남 부여군이며, 능산리 고분군, 정림사지 등의 유적들이 세계문화유산으로 지정되었다.\\\\n신라[편집]\\\\n신라\\\\n기원전 57년~935년    수도  현재 위치   수도 기간 \\\\n\\u3000금성[4]\\\\n金城   대한민국 경상북도 경주시  기원전 57년~935년\\\\n신라의 수도는 금성(金城)이며 서라벌, 쇠울 등 다양한 이름으로 불려왔다. 금성은 오늘날의 경상북도 경주시이며 고도(古都)이다. 수도가 동남쪽으로 치우쳐져 있는 것을 보완하고자 5소경을 설치하였고, 신문왕 대에 달구벌로 천도하려 하였으나 귀족의 반발로 무산되었다.[5] 금성은 천년동안 신라의 수도였으며 오늘날 수많은 유적들이 남아있다.\\\\n석굴암, 불국사를 비롯하여 첨성대, 안압지, 황룡사지, 분황사 등의 유적지가 존재하며 대릉원, 천마총과 여러 왕릉들이 존재한다. 경주의 유적은 2000년 세계문화유산으로 등록되었다.\\\\n가야[편집]\\\\n가야\\\\n42년~562년    국호  수도  현재 위치   수도 기간\\\\n금관가야    미상   대한민국   경상남도 김해시    42년~532년\\\\n대가야 경상북도 고령군    42년~562년\\\\n발해[편집]\\\\n발해\\\\n698년~926년   수도  현재 위치   수도 기간 \\\\n구국 舊國    중화인민공화국    지린성 둔화 시    698년~8세기\\\\n중경현덕부 中京顯德府 지린성 허룽 시    742년~756년\\\\n상경용천부 上京龍泉府 헤이룽장성 닝안 시  756년~785년\\\\n동경용원부 東京龍原府 헤이룽장성 훈춘 시  785년~794년\\\\n상경용천부 上京龍泉府 헤이룽장성 닝안 시  794년~926년\\\\n대조영이 건국한 발해는 초기에 동모산을 거점으로 성립하였으며 오늘날의 중국 지린성 둔화 시이다. 문왕의 둘째 딸인 정혜공주의 묘가 1949년 둔화 시 육정산 고분군에서 발굴되었다. 발해는 5경을 두었으며 이 중 중경 현덕부, 동경 용원부를 거쳐 상경 용천부(上京龍泉府)가 수도가 되었는데, 오늘날 중국 지린성 허룽 시, 헤이룽장성 일대이다.\\\\n1980년 룽터우 산 고분군에서 문왕의 넷째 딸인 정효공주의 묘가 발굴되었으며, 2005년 룽터우산 고분군에서 문왕의 부인인 효의황후(孝懿皇后) 묘지와 9대 간왕(簡王)의 부인인 순목황후(順穆皇后) 묘지가 발굴되었다.[6][7]\\\\n후삼국 시대[편집]\\\\n후백제[편집]\\\\n후백제\\\\n892년~936년   수도  현재 위치   수도 기간\\\\n무진주 武珍州  대한민국   전라남도 일대\\\\n광주광역시   892년~900년\\\\n완산주 完山州 전라북도 전주시    900년~936년\\\\n892년 무진주를 거점으로 나라를 세운 견훤은 900년 완산주(完山州)로 천도하면서 즉위하였다. 이후 936년 고려에 멸망할 때까지 완산주는 후백제의 도읍이었다. 무진주는 오늘날의 광주광역시와 전라남도 일대이고, 완산주는 전라북도 전주이다. 전주 교동에서 우아동 3가에 이르는 길의 견훤의 이름을 본따 \\'견훤로\\'로 명명되었다.\\\\n태봉[편집]\\\\n후고구려\\\\n901년~918년   국호  수도  현재 위치   수도 기간\\\\n후고구려    송악 松岳    조선민주주의인민공화국    개성특별시   901년~905년\\\\n마진  철원 鐵原   강원도 철원군 905년~911년\\\\n태봉   대한민국   911년~918년\\\\n신라 헌안왕 혹은 경문왕의 서자인 궁예는 반신라적 사상과 고구려를 계승한다는 기지를 내걸고 901년 후고구려를 건국하였다. 초기 수도는 송악이며 오늘날 북한 개성이다.\\\\n905년 국호를 마진으로 바꾸고 철원으로 천도하였으며 911년 국호를 태봉으로 고쳤다. 이후 918년 6월 왕건의 정변으로 멸망하였으며 철원은 남북으로 분단되어 오늘날 남북한 모두 동명의 행정구역을 갖는다.\\\\n고려시대[편집]\\\\n 고려\\\\n918년~1392년  수도  현재 위치   수도 기간 \\\\n철원 鐵原    대한민국   강원도 철원군 918년~919년\\\\n 조선민주주의인민공화국\\\\n개경 開京   개성특별시   919년~1232년\\\\n강화 江華    대한민국   인천광역시 강화군   1232년~1270년\\\\n개경 開京    조선민주주의인민공화국    개성특별시   1270년~1392년\\\\n개경은 500여년간 번성한 고려의 수도이며 오늘날의 북한 개성시이다. 태봉, 고려, 조선[8] 세 왕조가 도읍하였다. 송도(松都), 송악(松岳), 송경(松京) 등 여러 가지 이름으로 불렸다. 또한 예성강 하구에 위치한 무역항인 벽란도를 통해 국제무역이 번성하였다.\\\\n1232년 몽고의 침입이 시작되자, 무신정권의 집권자인 최우가 수도를 강화도로 옮기면서[9] 1270년 개경으로 환도할 때까지 38년간 강화(江華)가 고려의 수도가 되었다. 만월대, 고려왕릉, 첨성대, 선죽교 등 고려왕조의 유적이 남아있으며 일부는 세계문화유산으로 지정되었다.[10]\\\\n조선시대[편집]\\\\n국호  수도  현재 위치   수도 기간 \\\\n 조선\\\\n1392년~1897년 개경 開京    조선민주주의인민공화국    개성특별시   1392년~1394년\\\\n한양 漢陽    대한민국   서울특별시   1394년~1399년\\\\n개경 開京    조선민주주의인민공화국    개성특별시   1399년~1405년\\\\n한양 漢陽    대한민국   서울특별시   1405년~1910년\\\\n 대한제국\\\\n1897년~1910년\\\\n조선의 수도는 한성(漢城)이며 한양(漢陽)이라고도 한다. 태조 이성계는 새 도읍지를 물색하던 중\\xa0무학국사와\\xa0하륜(河崙) 등 중신들의 의견에 따라 1393년, 도읍지를 한양으로 정하고\\xa01394년\\xa0신도궁궐조성도감(新都宮闕造成都監)을 설치하여 새 수도의 도시 계획을 구상하였다. 1394년 음력 10월 28일\\xa0한양으로 천도 하였다. 천도의 기준은\\xa0풍수·도참설에 따르면서, 남쪽에 한강이 있어 교통상 배로 물건을 실어 나르기가 편리하였기 때문이다.\\\\n1394년 한양으로 천도한 이래 정종이 개경으로 환도하였다가 태종이 다시 한양으로 천도하였다. 태종 대에 궁궐과 성곽 도로 공사를 통해 수도의 면모를 갖추었으며 임진왜란을 겪으며 경복궁과 종묘 등을 비롯하여 도시 전반이 파괴되었다가 전후 복구되었다. 이후 대한제국 시기에 각국의 공사관과 명동성당, 덕수궁 석조전과 같은 서양식 건물이 건설되고 철도가 설치되었다.\\\\n일제강점기[편집]\\\\n 일제강점기\\\\n1910년 8월 29일\\\\n~1945년 8월 15일   수도  현재 위치   수도 기간 \\\\n경성부\\\\n京城府  대한민국 서울특별시 1910년 9월 30일[11]~1945년 8월 15일\\\\n일제강점기의 수도는 경성부(한자: 京城府) 또는\\xa0게이조 부(일본어: 京城府 게이조후[*])이며 오늘날의\\xa0서울특별시에 해당한다. 조선과\\xa0대한제국의 수도였던\\xa0한성부는 1910년\\xa0한일 병합 조약\\xa0체결 이후에 일본 제국의 조선 식민 지배의 행정 중심지로서 경성부로 불리게 되었고, 경기도에 편입되어 도청 소재지가 되었다.\\\\n혼마치(本町, 충무로)와 메이지초(明治町, 명동)를 중심으로 상권이 발달하였으나 도시의 빈부격차는 극심하였다. 1943년\\xa06월 10일, 인구 증가에 따라\\xa0구가 설치되었다.\\xa0광복 이후에도 잠시 경성으로 불렸으나,\\xa01946년\\xa09월 28일\\xa0미군정에 의하여\\xa0경기도에서 분리해\\xa0서울특별자유시가 되었다.\\\\n대한민국 임시정부[편집]\\\\n 대한민국 임시정부\\\\n1919년~1945년 임시 수도   현재 위치   임시 수도 기간  \\\\n상하이 上海   중화인민공화국    상하이시    1919년 4월~ 1932년 5월\\\\n항저우 杭州  저장성 항저우시    1932년 5월 ~ 1932년 10월\\\\n전장 鎭江   장쑤성 전장 시    1932년 10월 ~ 1932년 11월\\\\n난징 南京   장쑤성 난징시 1932년 11월~1937년 11월\\\\n창사 長沙   후난성 창사 시    1937년 12월~1938년 7월\\\\n광저우 廣州  광둥성 광저우 시   1938년 7월~1938년 11월\\\\n류저우 柳州  광시좡족자치구\\\\n류저우 시   1938년 11월~1939년 5월\\\\n치장 綦江   충칭시 1939년 5월~ 1940년 9월\\\\n충칭 重慶   1940년 9월~1945년 11월\\\\n대한민국 임시정부는\\xa01919년\\xa03월 1일\\xa03·1 독립선언에 기초하여\\xa0일본 제국의\\xa0대한제국\\xa0침탈과 식민 통치를 부인하고, 한반도\\xa0내외의 항일 독립운동을 주도하기 위한 목적으로\\xa01919년\\xa04월 13일\\xa0중화민국\\xa0상하이에서 설립된\\xa0망명정부이다. 같은 해\\xa09월 11일에는 각지의 임시정부들을 통합하여 중국 상해에서 단일 정부를 수립하였다.\\\\n1919년\\xa0임시 헌법을 제정하여\\xa0대한제국의 영토를 계승하고 구 황실을 우대한다고 명시하였고, 임시정부 하에서\\xa0독립 운동을 활발하게 전개·지원하였다. 1919년부터 1932년까지 13년간 상하이에 임시정부를 두었으나 1932년\\xa0홍커우 공원에서 윤봉길 의사의 의거가 일어나자, 일본군을 피해\\xa0항저우를 거쳐 난징으로 이동하였으나 중일전쟁이 발발하면서 일본이 난징을 침략하자 창사, 광저우, 류저우를 거쳐 1940년\\xa0충칭으로 이전하였고 그곳에서 광복을 맞이하였다.\\\\n1948년 제정된\\xa0대한민국 제헌 헌법\\xa0전문과 1987년 개정된\\xa0대한민국 헌법 전문에 대한민국 임시정부에 대한 계승 의지가 수록되었다. 현재 상하이, 항저우, 충칭에 임시정부 유적지가 복원되었다.\\\\n현대[편집]\\\\n군정기[편집]\\\\n군정\\\\n 미군정기\\\\n1945년 9월 9일~1948년 8월 15일    서울특별자유시  대한민국   서울특별시   1945년 9월 9일~1948년 8월 15일\\\\n 소련 군정기\\\\n1945년 8월 15일~1946년 2월 15일   평양   조선민주주의인민공화국    평양직할시   1945년 8월 15일~1946년 2월 15일\\\\n1945년 해방 전후로 8월에는 소련군이 함경북도를 거쳐 38도선 북부를 점령하였고, 9월에는 미군이 남부에 주둔하면서 한반도는 북위 38도선을 경계로 남북으로 분단되어 미국과 소련, 양국의 군정이 실시되었다. 이후 미소공동위원회가 결렬되고 수차례의 통일정부를 세우려는 노력에도 불구하고 이념의 대립을 극복하지 못한 채 분단되어 두개의 정부가 세워졌다.\\\\n대한민국[편집]\\\\n 대한민국\\\\n1948년 8월 15일~   수도  수도 기간 \\\\n서울특별시   1948년 8월 15일~1950년 6월 28일\\\\n부산시[12] 釜山市 1950년 6월 28일~1953년 7월 27일\\\\n서울특별시   1953년 7월 27일~현재\\\\n대한민국의 수도는 서울특별시이며 한강이 도시를 관통한다. 한국전쟁 당시 서울이 함락되자 대전과 대구를 거쳐 부산을 임시수도로 결정하였다. 휴전협정 이후 오늘날에 이르기까지 서울은 대한민국의 수도이자 최대도시이다.\\\\n대한민국의 입법, 사법, 행정을 비롯한 중추적인 국가기관이 위치하고 있으며, 1988년 제24회 올림픽, 2002년 FIFA 월드컵 경기대회, 2010년 G20 정상회의를 개최한 국제도시이다. 창덕궁, 종묘, 조선왕릉 등의 세계문화유산이 위치한다.\\\\n조선민주주의인민공화국[편집]\\\\n 조선민주주의인민공화국\\\\n1948년 9월 9일~    수도명 수도 기간 \\\\n평양시 平壤市 1948년 9월 9일~1950년 10월 19일\\\\n강계시[13] 江界市 1950년 10월 19일~1950년 12월 5일\\\\n평양직할시[14] 平壤直轄市 1950년 12월 5일~현재\\\\n조선민주주의인민공화국의 수도는 평양직할시이며 최대 도시이다. 1950년 10월 19일 대한민국 국군이 수복했지만 12월 5일에 조선인민군이 탈환했다. 조선민주주의인민공화국은 1948년부터 1972년까지 서울을 수도로 규정하였으나 이후 평양을 정식 수도로 명문화하였다.\\\\n평양은 도시 중심에 대동강이 흐르며 행정구역은 18구역 2군으로 이루어져 있고, 인구는 약 290만명이다. 거주 이전의 자유가 없기 때문에 다른 지역 주민의 평양 이주가 금지되어 있다.\\\\n기타[편집]\\\\n한국의 역사\\\\n대한민국의 세계유산\\\\n수도\\\\n각주[편집]\\\\n↑ 곰나루, 고마나루 등으로 불리었다\\\\n↑ 《삼국사기》 제26권 백제본기 제4\\\\n문주왕 원년 겨울 10월, 웅진으로 도읍을 옮겼다\\\\n↑ 《삼국사기》 제26권 백제본기 제4\\\\n16년 봄 사비(혹은 소부리라고도 한다)로 도읍을 옮기고 국호를 남부여로 바꿨다\\\\n↑ 서라벌(徐羅伐) 등으로 불리었다.\\\\n↑ 《삼국사기》 제8권 신라본기 제8\\\\n왕이 달구벌로 수도를 옮기려 하였으나 이루지 못하였다\\\\n↑ “‘발해는 고구려 계승한 황제국’ 증거유물 나와”. 2020년 7월 18일에 확인함.\\\\n↑ “중국 지린성서 발해 황후 묘지 발굴”. 2020년 7월 18일에 확인함.\\\\n↑ 1394년 11월 한양으로 천도할 때까지 2년여간 수도였다.\\\\n↑ 『고려사』 권23, 세가23 고종2\\\\n6월 을축일에 최우가 왕을 협박하여 강화로 천도하였다\\\\n↑ 김태식 기자. “북한 개성역사지구 세계유산 등재(종합)”. 《연합뉴스》.\\\\n↑ 조선총독부령 제7호 (메이지 43년 10월 1일 공포)\\\\n↑ 1962년까지 경상남도 관할이었다. 1963년 1월 1일 부산직할시로, 1995년 부산광역시로 개편되었다.\\\\n↑ 1949년 신설 된 자강도(慈江道)의 도청소재지\\\\n↑ 1952년 직할시로 개편\\\\n분류: 한국의 수도한국의 역사한국의 옛 수도옛 나라의 수도대한민국의 도시조선민주주의인민공화국의 도시\\\\n이 문서는 2024년 6월 4일 (화) 22:33에 마지막으로 편집되었습니다.\\\\n모든 문서는 크리에이티브 커먼즈 저작자표시-동일조건변경허락 4.0에 따라 사용할 수 있으며, 추가적인 조건이 적용될 수 있습니다. 자세한 내용은 이용 약관을 참고하십시오.\\\\nWikipedia®는 미국 및 다른 국가에 등록되어 있는 Wikimedia Foundation, Inc. 소유의 등록 상표입니다.\\\\n개인정보처리방침\\\\n위키백과 소개\\\\n면책 조항\\\\n행동 강령\\\\n개발자\\\\n통계\\\\n쿠키 정책\\\\n모바일 보기\"}]', name='tavily_web_search', id='49c1a0ee-2356-4748-8507-814e08eb11cd', tool_call_id='call_UK0YiH0hqTGg5S2OPtSxVkXr'),\n",
       "  AIMessage(content='대한민국의 수도는 서울특별시입니다. 서울은 한강이 도시를 관통하며, 대한민국의 정치, 경제, 문화의 중심지로 기능하고 있습니다. 서울은 1948년 8월 15일 대한민국 정부 수립 이후 수도로 지정되었으며, 한국전쟁 동안 잠시 부산이 임시 수도로 사용되기도 했습니다. 현재 서울은 다양한 국제 행사와 문화유산이 있는 도시로 알려져 있습니다.\\n\\n더 자세한 내용은 [위키백과의 한국의 수도](https://ko.wikipedia.org/wiki/한국의_수도)에서 확인하실 수 있습니다.', additional_kwargs={'refusal': None}, response_metadata={'token_usage': {'completion_tokens': 134, 'prompt_tokens': 6205, 'total_tokens': 6339, 'completion_tokens_details': {'accepted_prediction_tokens': 0, 'audio_tokens': 0, 'reasoning_tokens': 0, 'rejected_prediction_tokens': 0}, 'prompt_tokens_details': {'audio_tokens': 0, 'cached_tokens': 0}}, 'model_name': 'gpt-4o-mini-2024-07-18', 'system_fingerprint': 'fp_00428b782a', 'finish_reason': 'stop', 'logprobs': None}, id='run-ed8243d4-4a52-4cb4-b324-9a66f93cf455-0', usage_metadata={'input_tokens': 6205, 'output_tokens': 134, 'total_tokens': 6339, 'input_token_details': {'audio': 0, 'cache_read': 0}, 'output_token_details': {'audio': 0, 'reasoning': 0}})]}"
      ]
     },
     "execution_count": 61,
     "metadata": {},
     "output_type": "execute_result"
    }
   ],
   "source": [
    "snapshot.values"
   ]
  },
  {
   "cell_type": "code",
   "execution_count": 62,
   "metadata": {},
   "outputs": [
    {
     "data": {
      "text/plain": [
       "()"
      ]
     },
     "execution_count": 62,
     "metadata": {},
     "output_type": "execute_result"
    }
   ],
   "source": [
    "snapshot.next"
   ]
  },
  {
   "cell_type": "code",
   "execution_count": 63,
   "metadata": {},
   "outputs": [
    {
     "data": {
      "text/plain": [
       "{'source': 'loop',\n",
       " 'writes': {'chatbot': {'messages': [AIMessage(content='대한민국의 수도는 서울특별시입니다. 서울은 한강이 도시를 관통하며, 대한민국의 정치, 경제, 문화의 중심지로 기능하고 있습니다. 서울은 1948년 8월 15일 대한민국 정부 수립 이후 수도로 지정되었으며, 한국전쟁 동안 잠시 부산이 임시 수도로 사용되기도 했습니다. 현재 서울은 다양한 국제 행사와 문화유산이 있는 도시로 알려져 있습니다.\\n\\n더 자세한 내용은 [위키백과의 한국의 수도](https://ko.wikipedia.org/wiki/한국의_수도)에서 확인하실 수 있습니다.', additional_kwargs={'refusal': None}, response_metadata={'token_usage': {'completion_tokens': 134, 'prompt_tokens': 6205, 'total_tokens': 6339, 'completion_tokens_details': {'accepted_prediction_tokens': 0, 'audio_tokens': 0, 'reasoning_tokens': 0, 'rejected_prediction_tokens': 0}, 'prompt_tokens_details': {'audio_tokens': 0, 'cached_tokens': 0}}, 'model_name': 'gpt-4o-mini-2024-07-18', 'system_fingerprint': 'fp_00428b782a', 'finish_reason': 'stop', 'logprobs': None}, id='run-ed8243d4-4a52-4cb4-b324-9a66f93cf455-0', usage_metadata={'input_tokens': 6205, 'output_tokens': 134, 'total_tokens': 6339, 'input_token_details': {'audio': 0, 'cache_read': 0}, 'output_token_details': {'audio': 0, 'reasoning': 0}})]}},\n",
       " 'thread_id': '1',\n",
       " 'step': 15,\n",
       " 'parents': {}}"
      ]
     },
     "execution_count": 63,
     "metadata": {},
     "output_type": "execute_result"
    }
   ],
   "source": [
    "snapshot.metadata"
   ]
  },
  {
   "cell_type": "code",
   "execution_count": 64,
   "metadata": {},
   "outputs": [
    {
     "data": {
      "text/plain": [
       "AIMessage(content='대한민국의 수도는 서울특별시입니다. 서울은 한강이 도시를 관통하며, 대한민국의 정치, 경제, 문화의 중심지로 기능하고 있습니다. 서울은 1948년 8월 15일 대한민국 정부 수립 이후 수도로 지정되었으며, 한국전쟁 동안 잠시 부산이 임시 수도로 사용되기도 했습니다. 현재 서울은 다양한 국제 행사와 문화유산이 있는 도시로 알려져 있습니다.\\n\\n더 자세한 내용은 [위키백과의 한국의 수도](https://ko.wikipedia.org/wiki/한국의_수도)에서 확인하실 수 있습니다.', additional_kwargs={'refusal': None}, response_metadata={'token_usage': {'completion_tokens': 134, 'prompt_tokens': 6205, 'total_tokens': 6339, 'completion_tokens_details': {'accepted_prediction_tokens': 0, 'audio_tokens': 0, 'reasoning_tokens': 0, 'rejected_prediction_tokens': 0}, 'prompt_tokens_details': {'audio_tokens': 0, 'cached_tokens': 0}}, 'model_name': 'gpt-4o-mini-2024-07-18', 'system_fingerprint': 'fp_00428b782a', 'finish_reason': 'stop', 'logprobs': None}, id='run-ed8243d4-4a52-4cb4-b324-9a66f93cf455-0', usage_metadata={'input_tokens': 6205, 'output_tokens': 134, 'total_tokens': 6339, 'input_token_details': {'audio': 0, 'cache_read': 0}, 'output_token_details': {'audio': 0, 'reasoning': 0}})"
      ]
     },
     "execution_count": 64,
     "metadata": {},
     "output_type": "execute_result"
    }
   ],
   "source": [
    "snapshot.metadata['writes']['chatbot']['messages'][0]"
   ]
  },
  {
   "cell_type": "code",
   "execution_count": 65,
   "metadata": {},
   "outputs": [
    {
     "name": "stdout",
     "output_type": "stream",
     "text": [
      "    \u001b[93msource\u001b[0m: \"loop\"\n",
      "    \u001b[93mwrites\u001b[0m:\n",
      "        \u001b[94mchatbot\u001b[0m:\n",
      "            \u001b[95mmessages\u001b[0m:\n",
      "                \u001b[95mindex [0]\u001b[0m\n",
      "                    \u001b[96mcontent\u001b[0m: \"대한민국의 수도는 서울특별시입니다. 서울은 한강이 도시를 관통하며, 대한민국의 정치, 경제, 문화의 중심지로 기능하고 있습니다. 서울은 1948년 8월 15일 대한민국 정부 수립 이후 수도로 지정되었으며, 한국전쟁 동안 잠시 부산이 임시 수도로 사용되기도 했습니다. 현재 서울은 다양한 국제 행사와 문화유산이 있는 도시로 알려져 있습니다.\n",
      "\n",
      "더 자세한 내용은 [위키백과의 한국의 수도](https://ko.wikipedia.org/wiki/한국의_수도)에서 확인하실 수 있습니다.\"\n",
      "                    \u001b[96madditional_kwargs\u001b[0m: {\"refusal\": None}\n",
      "                    \u001b[96mresponse_metadata\u001b[0m:\n",
      "                        \u001b[96mtoken_usage\u001b[0m:\n",
      "                            \u001b[96mcompletion_tokens\u001b[0m: 134\n",
      "                            \u001b[96mprompt_tokens\u001b[0m: 6205\n",
      "                            \u001b[96mtotal_tokens\u001b[0m: 6339\n",
      "                            \u001b[96mcompletion_tokens_details\u001b[0m: {\"accepted_prediction_tokens\": 0, \"audio_tokens\": 0, \"reasoning_tokens\": 0, \"rejected_prediction_tokens\": 0}\n",
      "                            \u001b[96mprompt_tokens_details\u001b[0m: {\"audio_tokens\": 0, \"cached_tokens\": 0}\n",
      "                        \u001b[96mmodel_name\u001b[0m: \"gpt-4o-mini-2024-07-18\"\n",
      "                        \u001b[96msystem_fingerprint\u001b[0m: \"fp_00428b782a\"\n",
      "                        \u001b[96mfinish_reason\u001b[0m: \"stop\"\n",
      "                        \u001b[96mlogprobs\u001b[0m: None\n",
      "                    \u001b[96mtype\u001b[0m: \"ai\"\n",
      "                    \u001b[96mname\u001b[0m: None\n",
      "                    \u001b[96mid\u001b[0m: \"run-ed8243d4-4a52-4cb4-b324-9a66f93cf455-0\"\n",
      "                    \u001b[96mexample\u001b[0m: False\n",
      "                    \u001b[96mtool_calls\u001b[0m:\n",
      "                    \u001b[96minvalid_tool_calls\u001b[0m:\n",
      "                    \u001b[96musage_metadata\u001b[0m:\n",
      "                        \u001b[96minput_tokens\u001b[0m: 6205\n",
      "                        \u001b[96moutput_tokens\u001b[0m: 134\n",
      "                        \u001b[96mtotal_tokens\u001b[0m: 6339\n",
      "                        \u001b[96minput_token_details\u001b[0m: {\"audio\": 0, \"cache_read\": 0}\n",
      "                        \u001b[96moutput_token_details\u001b[0m: {\"audio\": 0, \"reasoning\": 0}\n",
      "    \u001b[93mthread_id\u001b[0m: \"1\"\n",
      "    \u001b[93mstep\u001b[0m: 15\n",
      "    \u001b[93mparents\u001b[0m: {}\n"
     ]
    }
   ],
   "source": [
    "from langchain_teddynote.messages import display_message_tree\n",
    "\n",
    "display_message_tree(snapshot.metadata)"
   ]
  }
 ],
 "metadata": {
  "kernelspec": {
   "display_name": "venv",
   "language": "python",
   "name": "python3"
  },
  "language_info": {
   "codemirror_mode": {
    "name": "ipython",
    "version": 3
   },
   "file_extension": ".py",
   "mimetype": "text/x-python",
   "name": "python",
   "nbconvert_exporter": "python",
   "pygments_lexer": "ipython3",
   "version": "3.11.9"
  }
 },
 "nbformat": 4,
 "nbformat_minor": 2
}
