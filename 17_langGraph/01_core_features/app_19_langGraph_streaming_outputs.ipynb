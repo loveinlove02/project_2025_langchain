{
 "cells": [
  {
   "cell_type": "code",
   "execution_count": 36,
   "metadata": {},
   "outputs": [],
   "source": [
    "from dotenv import load_dotenv\n",
    "import os\n",
    "\n",
    "load_dotenv(verbose=True)\n",
    "key = os.getenv('OPENAI_API_KEY')"
   ]
  },
  {
   "cell_type": "code",
   "execution_count": 37,
   "metadata": {},
   "outputs": [],
   "source": [
    "from typing import Annotated, List, Dict\n",
    "from typing_extensions import TypedDict\n",
    "from langgraph.graph.message import add_messages\n",
    "\n",
    "from langgraph.graph import StateGraph \n",
    "from langgraph.graph import START, END\n",
    "\n",
    "from langgraph.prebuilt import ToolNode, tools_condition\n",
    "from langchain_core.tools import tool\n",
    "\n",
    "from langchain_teddynote.tools.tavily import TavilySearch\n",
    "from langchain_teddynote.tools import GoogleNews\n",
    "\n",
    "from langchain_teddynote.graphs import visualize_graph\n",
    "from langchain_teddynote.messages import pretty_print_messages\n",
    "from langchain_teddynote.messages import display_message_tree\n",
    "from langchain_core.runnables import RunnableConfig\n",
    "\n",
    "from langchain_openai import ChatOpenAI"
   ]
  },
  {
   "cell_type": "code",
   "execution_count": 38,
   "metadata": {},
   "outputs": [],
   "source": [
    "######### 1. 상태 정의 #########\n",
    "\n",
    "# 상태 정의\n",
    "class State(TypedDict):\n",
    "    messages: Annotated[list, add_messages]\n",
    "    dummy_data: Annotated[str, 'dummy']"
   ]
  },
  {
   "cell_type": "code",
   "execution_count": 39,
   "metadata": {},
   "outputs": [],
   "source": [
    "######### 2. 도구 정의 및 바인딩 #########\n",
    "\n",
    "@tool\n",
    "def search_keyword(query: str) -> List[Dict[str, str]]:     # 키워드로 뉴스 검색하는 도구     \n",
    "    \"\"\"Look up news by keyword\"\"\"\n",
    "\n",
    "    news_tool = GoogleNews()        \n",
    "    return news_tool.search_by_keyword(query, k=1)\n",
    "\n",
    "\n",
    "tools = [search_keyword]"
   ]
  },
  {
   "cell_type": "code",
   "execution_count": 40,
   "metadata": {},
   "outputs": [],
   "source": [
    "######### 3. LLM을 도구와 결합 #########\n",
    "\n",
    "llm = ChatOpenAI(\n",
    "    api_key=key, \n",
    "    model_name='gpt-4o-mini',\n",
    "    temperature=0.1\n",
    ")\n",
    "\n",
    "llm_with_tools = llm.bind_tools(tools)"
   ]
  },
  {
   "cell_type": "code",
   "execution_count": 41,
   "metadata": {},
   "outputs": [],
   "source": [
    "def chatbot(state: State):\n",
    "    answer = llm_with_tools.invoke(state['messages'])\n",
    "\n",
    "    print('=================================================================================')\n",
    "    print(f'chatbot() 실행\\n')\n",
    "    print(f\"[1] state[messages]: \\n{state['messages']}\\n\")\n",
    "    # print(f'[2] chatbot answer: \\n', answer , \"\\n\")\n",
    "    print(f'[2] chatbot answer: \\n', answer.content)\n",
    "    print(f'[3] answer.additional_kwargs: \\n', answer.additional_kwargs)\n",
    "    print('=================================================================================')\n",
    "    \n",
    "    return {\n",
    "        'messages': [answer], \n",
    "        'dummy_data': '[chatbot] 호출, dummy_data'\n",
    "    }"
   ]
  },
  {
   "cell_type": "code",
   "execution_count": 42,
   "metadata": {},
   "outputs": [],
   "source": [
    "# 상태 그래프 생성\n",
    "graph_builder = StateGraph(State)"
   ]
  },
  {
   "cell_type": "code",
   "execution_count": 43,
   "metadata": {},
   "outputs": [
    {
     "data": {
      "text/plain": [
       "<langgraph.graph.state.StateGraph at 0x1e3cf22f190>"
      ]
     },
     "execution_count": 43,
     "metadata": {},
     "output_type": "execute_result"
    }
   ],
   "source": [
    "# chatbot 노드 추가\n",
    "graph_builder.add_node('chatbot', chatbot)"
   ]
  },
  {
   "cell_type": "code",
   "execution_count": 44,
   "metadata": {},
   "outputs": [],
   "source": [
    "# 도구 노드 생성\n",
    "tool_node = ToolNode(tools=[search_keyword])"
   ]
  },
  {
   "cell_type": "code",
   "execution_count": 45,
   "metadata": {},
   "outputs": [
    {
     "data": {
      "text/plain": [
       "<langgraph.graph.state.StateGraph at 0x1e3cf22f190>"
      ]
     },
     "execution_count": 45,
     "metadata": {},
     "output_type": "execute_result"
    }
   ],
   "source": [
    "# 도구 노드 추가\n",
    "graph_builder.add_node('tools', tool_node)"
   ]
  },
  {
   "cell_type": "code",
   "execution_count": 46,
   "metadata": {},
   "outputs": [
    {
     "data": {
      "text/plain": [
       "<langgraph.graph.state.StateGraph at 0x1e3cf22f190>"
      ]
     },
     "execution_count": 46,
     "metadata": {},
     "output_type": "execute_result"
    }
   ],
   "source": [
    "graph_builder.add_conditional_edges(\n",
    "    'chatbot',\n",
    "    tools_condition\n",
    ")"
   ]
  },
  {
   "cell_type": "code",
   "execution_count": 47,
   "metadata": {},
   "outputs": [
    {
     "data": {
      "text/plain": [
       "<langgraph.graph.state.StateGraph at 0x1e3cf22f190>"
      ]
     },
     "execution_count": 47,
     "metadata": {},
     "output_type": "execute_result"
    }
   ],
   "source": [
    "######### 5. 엣지 추가 #########\n",
    "\n",
    "# tools 에서 chatbot 으로\n",
    "graph_builder.add_edge('tools', 'chatbot')"
   ]
  },
  {
   "cell_type": "code",
   "execution_count": 48,
   "metadata": {},
   "outputs": [
    {
     "data": {
      "text/plain": [
       "<langgraph.graph.state.StateGraph at 0x1e3cf22f190>"
      ]
     },
     "execution_count": 48,
     "metadata": {},
     "output_type": "execute_result"
    }
   ],
   "source": [
    "# START 에서 chatbot 으로\n",
    "graph_builder.add_edge(START, 'chatbot')"
   ]
  },
  {
   "cell_type": "code",
   "execution_count": 49,
   "metadata": {},
   "outputs": [
    {
     "data": {
      "text/plain": [
       "<langgraph.graph.state.StateGraph at 0x1e3cf22f190>"
      ]
     },
     "execution_count": 49,
     "metadata": {},
     "output_type": "execute_result"
    }
   ],
   "source": [
    "# chatbot 에서 END 로\n",
    "graph_builder.add_edge('chatbot', END)"
   ]
  },
  {
   "cell_type": "code",
   "execution_count": 50,
   "metadata": {},
   "outputs": [],
   "source": [
    "######### 6. 메모리 생성 #######\n",
    "\n",
    "from langgraph.checkpoint.memory import MemorySaver\n",
    "\n",
    "memory = MemorySaver()"
   ]
  },
  {
   "cell_type": "code",
   "execution_count": 52,
   "metadata": {},
   "outputs": [],
   "source": [
    "######### 7. 그래프 컴파일 #######\n",
    "\n",
    "graph = graph_builder.compile(checkpointer=memory)"
   ]
  },
  {
   "cell_type": "code",
   "execution_count": 53,
   "metadata": {},
   "outputs": [
    {
     "data": {
      "image/png": "[encoded data removed]",
      "text/plain": [
       "<IPython.core.display.Image object>"
      ]
     },
     "metadata": {},
     "output_type": "display_data"
    }
   ],
   "source": [
    "######### 8. 그래프 #######\n",
    "\n",
    "visualize_graph(graph)"
   ]
  },
  {
   "cell_type": "code",
   "execution_count": 54,
   "metadata": {},
   "outputs": [
    {
     "name": "stdout",
     "output_type": "stream",
     "text": [
      "=================================================================================\n",
      "chatbot() 실행\n",
      "\n",
      "[1] state[messages]: \n",
      "[HumanMessage(content='2024년 노벨 문학상 관련 뉴스를 알려주세요.', additional_kwargs={}, response_metadata={}, id='a20b7907-5a83-4792-be27-7f79e87524b9')]\n",
      "\n",
      "[2] chatbot answer: \n",
      " \n",
      "[3] answer.additional_kwargs: \n",
      " {'tool_calls': [{'id': 'call_Lol9XyFoDvsMvtdlGPCXH2tU', 'function': {'arguments': '{\"query\":\"2024 노벨 문학상\"}', 'name': 'search_keyword'}, 'type': 'function'}], 'refusal': None}\n",
      "=================================================================================\n",
      "(1)\n",
      "=== 반복문 바같 === 시작\n",
      "=== 반복문 === 시작\n",
      "\n",
      "[노드 이름]: chatbot\n",
      "\n",
      "==================== AIMessage ========================\n",
      "해당 노드의 값 [value]: \n",
      "content='' additional_kwargs={'tool_calls': [{'id': 'call_Lol9XyFoDvsMvtdlGPCXH2tU', 'function': {'arguments': '{\"query\":\"2024 노벨 문학상\"}', 'name': 'search_keyword'}, 'type': 'function'}], 'refusal': None} response_metadata={'token_usage': {'completion_tokens': 21, 'prompt_tokens': 57, 'total_tokens': 78, 'completion_tokens_details': {'accepted_prediction_tokens': 0, 'audio_tokens': 0, 'reasoning_tokens': 0, 'rejected_prediction_tokens': 0}, 'prompt_tokens_details': {'audio_tokens': 0, 'cached_tokens': 0}}, 'model_name': 'gpt-4o-mini-2024-07-18', 'system_fingerprint': 'fp_709714d124', 'finish_reason': 'tool_calls', 'logprobs': None} id='run-236bf720-9aef-4d55-92e2-bda312580358-0' tool_calls=[{'name': 'search_keyword', 'args': {'query': '2024 노벨 문학상'}, 'id': 'call_Lol9XyFoDvsMvtdlGPCXH2tU', 'type': 'tool_call'}] usage_metadata={'input_tokens': 57, 'output_tokens': 21, 'total_tokens': 78, 'input_token_details': {'audio': 0, 'cache_read': 0}, 'output_token_details': {'audio': 0, 'reasoning': 0}}\n",
      "==================== END AIMessage ====================\n",
      "\n",
      "=== 반복문 === 끝\n",
      "=== 반복문 바같 === 끝\n",
      "\n",
      "\n",
      "(2)\n",
      "=== 반복문 바같 === 시작\n",
      "=== 반복문 === 시작\n",
      "\n",
      "[노드 이름]: tools\n",
      "\n",
      "==================== ToolMessage ========================\n",
      "해당 노드의 값 [value]: \n",
      "content='[{\"url\": \"https://news.google.com/rss/articles/CBMiaEFVX3lxTE4xVV96b1c5cjZNWHl5VFd3aGZkcDNoSDN0Vmp6a3RNVVl2VG1FOW96RTFOUnpBYkR2OEx3VGRsS3RaQTdvQ3FkcmFRQmd5UmtMd1labGFQS2J6YmpKZ1p4S2xXTUVXQjVS0gFsQVVfeXFMTlctOUd6VTVQRXF6dWpTNnJ2S1d1dndJdGFGN2I1Yjl1bEhVNU03UmpSNUtONFZZZ045bmNZMGgxX3NlQjJydGwzUnpwamR6V0hSTWVFbEVKWVA5b3JxQ1NQWmNfVXRhR1AyZ2lG?oc=5\", \"content\": \"2024 노벨문학상의 주인공, ‘한강’의 대표 문장 6 - Den\"}]' name='search_keyword' id='a7a44b75-a4bd-4031-b8f6-8d248f4f982d' tool_call_id='call_Lol9XyFoDvsMvtdlGPCXH2tU'\n",
      "Tool Calls:\n",
      "\t name: search_keyword\n",
      "\t tool_call_id: call_Lol9XyFoDvsMvtdlGPCXH2tU\n",
      "==================== END ToolMessage ====================\n",
      "\n",
      "=== 반복문 === 끝\n",
      "=== 반복문 바같 === 끝\n",
      "\n",
      "\n",
      "=================================================================================\n",
      "chatbot() 실행\n",
      "\n",
      "[1] state[messages]: \n",
      "[HumanMessage(content='2024년 노벨 문학상 관련 뉴스를 알려주세요.', additional_kwargs={}, response_metadata={}, id='a20b7907-5a83-4792-be27-7f79e87524b9'), AIMessage(content='', additional_kwargs={'tool_calls': [{'id': 'call_Lol9XyFoDvsMvtdlGPCXH2tU', 'function': {'arguments': '{\"query\":\"2024 노벨 문학상\"}', 'name': 'search_keyword'}, 'type': 'function'}], 'refusal': None}, response_metadata={'token_usage': {'completion_tokens': 21, 'prompt_tokens': 57, 'total_tokens': 78, 'completion_tokens_details': {'accepted_prediction_tokens': 0, 'audio_tokens': 0, 'reasoning_tokens': 0, 'rejected_prediction_tokens': 0}, 'prompt_tokens_details': {'audio_tokens': 0, 'cached_tokens': 0}}, 'model_name': 'gpt-4o-mini-2024-07-18', 'system_fingerprint': 'fp_709714d124', 'finish_reason': 'tool_calls', 'logprobs': None}, id='run-236bf720-9aef-4d55-92e2-bda312580358-0', tool_calls=[{'name': 'search_keyword', 'args': {'query': '2024 노벨 문학상'}, 'id': 'call_Lol9XyFoDvsMvtdlGPCXH2tU', 'type': 'tool_call'}], usage_metadata={'input_tokens': 57, 'output_tokens': 21, 'total_tokens': 78, 'input_token_details': {'audio': 0, 'cache_read': 0}, 'output_token_details': {'audio': 0, 'reasoning': 0}}), ToolMessage(content='[{\"url\": \"https://news.google.com/rss/articles/CBMiaEFVX3lxTE4xVV96b1c5cjZNWHl5VFd3aGZkcDNoSDN0Vmp6a3RNVVl2VG1FOW96RTFOUnpBYkR2OEx3VGRsS3RaQTdvQ3FkcmFRQmd5UmtMd1labGFQS2J6YmpKZ1p4S2xXTUVXQjVS0gFsQVVfeXFMTlctOUd6VTVQRXF6dWpTNnJ2S1d1dndJdGFGN2I1Yjl1bEhVNU03UmpSNUtONFZZZ045bmNZMGgxX3NlQjJydGwzUnpwamR6V0hSTWVFbEVKWVA5b3JxQ1NQWmNfVXRhR1AyZ2lG?oc=5\", \"content\": \"2024 노벨문학상의 주인공, ‘한강’의 대표 문장 6 - Den\"}]', name='search_keyword', id='a7a44b75-a4bd-4031-b8f6-8d248f4f982d', tool_call_id='call_Lol9XyFoDvsMvtdlGPCXH2tU')]\n",
      "\n",
      "[2] chatbot answer: \n",
      " 2024년 노벨 문학상에 대한 뉴스가 있습니다. 한강 작가의 대표 문장에 대한 내용이 포함되어 있습니다. 자세한 내용은 [여기에서 확인하실 수 있습니다](https://news.google.com/rss/articles/CBMiaEFVX3lxTE4xVV96b1c5cjZNWHl5VFd3aGZkcDNoSDN0Vmp6a3RNVVl2VG1FOW96RTFOUnpBYkR2OEx3VGRsS3RaQTdvQ3FkcmFRQmd5UmtMd1labGFQS2J6YmpKZ1p4S2xXTUVXQjVS0gFsQVVfeXFMTlctOUd6VTVQRXF6dWpTNnJ2S1d1dndJdGFGN2I1Yjl1bEhVNU03UmpSNUtONFZZZ045bmNZMGgxX3NlQjJydGwzUnpwamR6V0hSTWVFbEVKWVA5b3JxQ1NQWmNfVXRhR1AyZ2lG?oc=5).\n",
      "[3] answer.additional_kwargs: \n",
      " {'refusal': None}\n",
      "=================================================================================\n",
      "(3)\n",
      "=== 반복문 바같 === 시작\n",
      "=== 반복문 === 시작\n",
      "\n",
      "[노드 이름]: chatbot\n",
      "\n",
      "==================== AIMessage ========================\n",
      "해당 노드의 값 [value]: \n",
      "content='2024년 노벨 문학상에 대한 뉴스가 있습니다. 한강 작가의 대표 문장에 대한 내용이 포함되어 있습니다. 자세한 내용은 [여기에서 확인하실 수 있습니다](https://news.google.com/rss/articles/CBMiaEFVX3lxTE4xVV96b1c5cjZNWHl5VFd3aGZkcDNoSDN0Vmp6a3RNVVl2VG1FOW96RTFOUnpBYkR2OEx3VGRsS3RaQTdvQ3FkcmFRQmd5UmtMd1labGFQS2J6YmpKZ1p4S2xXTUVXQjVS0gFsQVVfeXFMTlctOUd6VTVQRXF6dWpTNnJ2S1d1dndJdGFGN2I1Yjl1bEhVNU03UmpSNUtONFZZZ045bmNZMGgxX3NlQjJydGwzUnpwamR6V0hSTWVFbEVKWVA5b3JxQ1NQWmNfVXRhR1AyZ2lG?oc=5).' additional_kwargs={'refusal': None} response_metadata={'token_usage': {'completion_tokens': 265, 'prompt_tokens': 338, 'total_tokens': 603, 'completion_tokens_details': {'accepted_prediction_tokens': 0, 'audio_tokens': 0, 'reasoning_tokens': 0, 'rejected_prediction_tokens': 0}, 'prompt_tokens_details': {'audio_tokens': 0, 'cached_tokens': 0}}, 'model_name': 'gpt-4o-mini-2024-07-18', 'system_fingerprint': 'fp_709714d124', 'finish_reason': 'stop', 'logprobs': None} id='run-dc4841d7-e8f6-444d-b10c-7f952211c8fa-0' usage_metadata={'input_tokens': 338, 'output_tokens': 265, 'total_tokens': 603, 'input_token_details': {'audio': 0, 'cache_read': 0}, 'output_token_details': {'audio': 0, 'reasoning': 0}}\n",
      "==================== END AIMessage ====================\n",
      "\n",
      "=== 반복문 === 끝\n",
      "=== 반복문 바같 === 끝\n",
      "\n",
      "\n"
     ]
    }
   ],
   "source": [
    "from langchain.schema import HumanMessage, AIMessage\n",
    "from langchain_core.messages import ToolMessage\n",
    "\n",
    "question = '2024년 노벨 문학상 관련 뉴스를 알려주세요.'\n",
    "\n",
    "input = State(\n",
    "    dummy_data='테스트 문자열' ,\n",
    "    messages=[('user', question)]\n",
    ")\n",
    "\n",
    "config = RunnableConfig(\n",
    "    recursion_limit=10, \n",
    "    configurable={'thread_id': '1'},\n",
    "    tags=['data-tag']\n",
    ")\n",
    "\n",
    "i = 1\n",
    "\n",
    "for event in graph.stream(input=input, config=config):      # 모드에 따라 event가 딕셔너리 또는 리스트. 기본 모드는 evenv가 딕셔서리 이다.\n",
    "    print(f'({i})')\n",
    "    print('=== 반복문 바같 === 시작')\n",
    "\n",
    "    for key, value in event.items():\n",
    "        print('=== 반복문 === 시작')\n",
    "        print(f'\\n[노드 이름]: {key}\\n')                    # key 에는 노드의 이름\n",
    "        # print(f\"\\n해당 노드의 값[value]: \\n{value['messages'][-1]}\")            \n",
    "\n",
    "        if value['messages'][-1] is not None:\n",
    "            if isinstance(value['messages'][-1], HumanMessage):\n",
    "                print('==================== HumanMessage ========================')\n",
    "                print(f\"해당 노드의 값 [value][messages][-1]: \\n{value['messages'][-1]}\")        # value에는 해당 노드의 값. state 이다\n",
    "                print('==================== END HumanMessage ====================')\n",
    "                print() \n",
    "            elif isinstance(value['messages'][-1], AIMessage):\n",
    "                print('==================== AIMessage ========================')\n",
    "                print(f\"해당 노드의 값 [value]: \\n{value['messages'][-1]}\")        # value에는 해당 노드의 값\n",
    "                print('==================== END AIMessage ====================')     \n",
    "                print()       \n",
    "            elif isinstance(value['messages'][-1], ToolMessage):\n",
    "                print('==================== ToolMessage ========================')\n",
    "                print(f\"해당 노드의 값 [value]: \\n{value['messages'][-1]}\")        # value에는 해당 노드의 값\n",
    "                print(f'Tool Calls:')\n",
    "                print(f\"\\t name: {value['messages'][-1].name}\")\n",
    "                print(f\"\\t tool_call_id: {value['messages'][-1].tool_call_id}\")\n",
    "                print('==================== END ToolMessage ====================')     \n",
    "                print()       \n",
    "        else:\n",
    "            print(f\"해당 노드의 값 [value]: 없음\")\n",
    "            print()\n",
    "\n",
    "        print('=== 반복문 === 끝')\n",
    "    print('=== 반복문 바같 === 끝\\n\\n')\n",
    "    \n",
    "    i=i+1"
   ]
  },
  {
   "cell_type": "code",
   "execution_count": 55,
   "metadata": {},
   "outputs": [],
   "source": [
    "question = '2024년 노벨 문학상 관련 뉴스를 알려주세요.'\n",
    "\n",
    "input = State(\n",
    "    dummy_data='테스트 문자열' ,\n",
    "    messages=[('user', question)]\n",
    ")\n",
    "\n",
    "config = RunnableConfig(\n",
    "    recursion_limit=10, \n",
    "    configurable={'thread_id': '2'},\n",
    "    tags=['data-tag']\n",
    ")"
   ]
  },
  {
   "cell_type": "code",
   "execution_count": 56,
   "metadata": {},
   "outputs": [
    {
     "name": "stdout",
     "output_type": "stream",
     "text": [
      "=================================================================================\n",
      "chatbot() 실행\n",
      "\n",
      "[1] state[messages]: \n",
      "[HumanMessage(content='2024년 노벨 문학상 관련 뉴스를 알려주세요.', additional_kwargs={}, response_metadata={}, id='d3aa1bcd-e456-4aa1-92c7-0648831c3d38')]\n",
      "\n",
      "[2] chatbot answer: \n",
      " \n",
      "[3] answer.additional_kwargs: \n",
      " {'tool_calls': [{'id': 'call_BgU3UEHiMwLjR5etUrs9qiZj', 'function': {'arguments': '{\"query\":\"2024 Nobel Prize in Literature\"}', 'name': 'search_keyword'}, 'type': 'function'}], 'refusal': None}\n",
      "=================================================================================\n",
      "\n",
      "chatbot\n",
      "\n",
      "==================================\u001b[1m Ai Message \u001b[0m==================================\n",
      "Tool Calls:\n",
      "  search_keyword (call_BgU3UEHiMwLjR5etUrs9qiZj)\n",
      " Call ID: call_BgU3UEHiMwLjR5etUrs9qiZj\n",
      "  Args:\n",
      "    query: 2024 Nobel Prize in Literature\n",
      "\n",
      "tools\n",
      "\n",
      "=================================\u001b[1m Tool Message \u001b[0m=================================\n",
      "Name: search_keyword\n",
      "\n",
      "[{\"url\": \"https://news.google.com/rss/articles/CBMiigFBVV95cUxNblM5bndNclA5Q0J2RW9NZ09XRTdyZ0ZhZ3diZUpodEU2WlhaVzFVZ3doZjI1ZEF6dGF5SnVQUVdCdF9tNUJnWjZ1LV8xTlNqT01xZmFaQ2NNNVdkM1RtR0ZCb0tDUzVZQk5oLVp1d1dpX2x2V2g4R3dKV0V3NVNvclRNa3VOSjIxWWc?oc=5\", \"content\": \"Nobel Prize in Literature 2024 - NobelPrize.org\"}]\n",
      "=================================================================================\n",
      "chatbot() 실행\n",
      "\n",
      "[1] state[messages]: \n",
      "[HumanMessage(content='2024년 노벨 문학상 관련 뉴스를 알려주세요.', additional_kwargs={}, response_metadata={}, id='d3aa1bcd-e456-4aa1-92c7-0648831c3d38'), AIMessage(content='', additional_kwargs={'tool_calls': [{'id': 'call_BgU3UEHiMwLjR5etUrs9qiZj', 'function': {'arguments': '{\"query\":\"2024 Nobel Prize in Literature\"}', 'name': 'search_keyword'}, 'type': 'function'}], 'refusal': None}, response_metadata={'token_usage': {'completion_tokens': 20, 'prompt_tokens': 57, 'total_tokens': 77, 'completion_tokens_details': {'accepted_prediction_tokens': 0, 'audio_tokens': 0, 'reasoning_tokens': 0, 'rejected_prediction_tokens': 0}, 'prompt_tokens_details': {'audio_tokens': 0, 'cached_tokens': 0}}, 'model_name': 'gpt-4o-mini-2024-07-18', 'system_fingerprint': 'fp_7fcd609668', 'finish_reason': 'tool_calls', 'logprobs': None}, id='run-cb37bf78-25b7-490a-9556-89e1c487893c-0', tool_calls=[{'name': 'search_keyword', 'args': {'query': '2024 Nobel Prize in Literature'}, 'id': 'call_BgU3UEHiMwLjR5etUrs9qiZj', 'type': 'tool_call'}], usage_metadata={'input_tokens': 57, 'output_tokens': 20, 'total_tokens': 77, 'input_token_details': {'audio': 0, 'cache_read': 0}, 'output_token_details': {'audio': 0, 'reasoning': 0}}), ToolMessage(content='[{\"url\": \"https://news.google.com/rss/articles/CBMiigFBVV95cUxNblM5bndNclA5Q0J2RW9NZ09XRTdyZ0ZhZ3diZUpodEU2WlhaVzFVZ3doZjI1ZEF6dGF5SnVQUVdCdF9tNUJnWjZ1LV8xTlNqT01xZmFaQ2NNNVdkM1RtR0ZCb0tDUzVZQk5oLVp1d1dpX2x2V2g4R3dKV0V3NVNvclRNa3VOSjIxWWc?oc=5\", \"content\": \"Nobel Prize in Literature 2024 - NobelPrize.org\"}]', name='search_keyword', id='c3027b20-799a-4d59-9401-955cb63e1530', tool_call_id='call_BgU3UEHiMwLjR5etUrs9qiZj')]\n",
      "\n",
      "[2] chatbot answer: \n",
      " 2024년 노벨 문학상에 대한 뉴스는 다음 링크에서 확인하실 수 있습니다: [Nobel Prize in Literature 2024 - NobelPrize.org](https://news.google.com/rss/articles/CBMiigFBVV95cUxNblM5bndNclA5Q0J2RW9NZ09XRTdyZ0ZhZ3diZUpodEU2WlhaVzFVZ3doZjI1ZEF6dGF5SnVQUVdCdF9tNUJnWjZ1LV8xTlNqT01xZmFaQ2NNNVdkM1RtR0ZCb0tDUzVZQk5oLVp1d1dpX2x2V2g4R3dKV0V3NVNvclRNa3VOSjIxWWc?oc=5). \n",
      "\n",
      "이 링크를 통해 2024년 노벨 문학상에 대한 공식 정보와 관련된 내용을 확인하실 수 있습니다.\n",
      "[3] answer.additional_kwargs: \n",
      " {'refusal': None}\n",
      "=================================================================================\n",
      "\n",
      "chatbot\n",
      "\n",
      "==================================\u001b[1m Ai Message \u001b[0m==================================\n",
      "\n",
      "2024년 노벨 문학상에 대한 뉴스는 다음 링크에서 확인하실 수 있습니다: [Nobel Prize in Literature 2024 - NobelPrize.org](https://news.google.com/rss/articles/CBMiigFBVV95cUxNblM5bndNclA5Q0J2RW9NZ09XRTdyZ0ZhZ3diZUpodEU2WlhaVzFVZ3doZjI1ZEF6dGF5SnVQUVdCdF9tNUJnWjZ1LV8xTlNqT01xZmFaQ2NNNVdkM1RtR0ZCb0tDUzVZQk5oLVp1d1dpX2x2V2g4R3dKV0V3NVNvclRNa3VOSjIxWWc?oc=5). \n",
      "\n",
      "이 링크를 통해 2024년 노벨 문학상에 대한 공식 정보와 관련된 내용을 확인하실 수 있습니다.\n"
     ]
    }
   ],
   "source": [
    "for event in graph.stream(input=input, config=config):      # 모드에 따라 event가 딕셔너리 또는 리스트. 기본 모드는 evenv가 딕셔서리 이다.\n",
    "    for key, value in event.items():\n",
    "        print(f'\\n{key}\\n')                                 # key 에는 노드의 이름\n",
    "\n",
    "        if 'messages' in value:                             # value에는 해당 노드의 값\n",
    "            message = value['messages']\n",
    "            value['messages'][-1].pretty_print()"
   ]
  },
  {
   "cell_type": "code",
   "execution_count": 57,
   "metadata": {},
   "outputs": [
    {
     "data": {
      "text/plain": [
       "['messages',\n",
       " 'dummy_data',\n",
       " '__start__',\n",
       " 'chatbot',\n",
       " 'tools',\n",
       " 'branch:__start__:__self__:chatbot',\n",
       " 'branch:__start__:__self__:tools',\n",
       " 'branch:chatbot:__self__:chatbot',\n",
       " 'branch:chatbot:__self__:tools',\n",
       " 'branch:tools:__self__:chatbot',\n",
       " 'branch:tools:__self__:tools',\n",
       " 'start:chatbot',\n",
       " 'branch:chatbot:tools_condition:tools']"
      ]
     },
     "execution_count": 57,
     "metadata": {},
     "output_type": "execute_result"
    }
   ],
   "source": [
    "list(graph.channels.keys())"
   ]
  },
  {
   "cell_type": "code",
   "execution_count": 58,
   "metadata": {},
   "outputs": [
    {
     "name": "stdout",
     "output_type": "stream",
     "text": [
      "=================================================================================\n",
      "chatbot() 실행\n",
      "\n",
      "[1] state[messages]: \n",
      "[HumanMessage(content='2024년 노벨 문학상 관련 뉴스를 알려주세요.', additional_kwargs={}, response_metadata={}, id='6d5ce21b-5cc9-4263-9bbe-269f397b2d44')]\n",
      "\n",
      "[2] chatbot answer: \n",
      " \n",
      "[3] answer.additional_kwargs: \n",
      " {'tool_calls': [{'id': 'call_Fwgl89WGsTgNbDioLIqBbYJn', 'function': {'arguments': '{\"query\":\"2024 Nobel Prize in Literature\"}', 'name': 'search_keyword'}, 'type': 'function'}], 'refusal': None}\n",
      "=================================================================================\n",
      "(1) [key]: chatbot\n",
      "(2) [value]: {'dummy_data': '[chatbot] 호출, dummy_data'}\n",
      "(1) [key]: tools\n",
      "(2) [value]: None\n",
      "=================================================================================\n",
      "chatbot() 실행\n",
      "\n",
      "[1] state[messages]: \n",
      "[HumanMessage(content='2024년 노벨 문학상 관련 뉴스를 알려주세요.', additional_kwargs={}, response_metadata={}, id='6d5ce21b-5cc9-4263-9bbe-269f397b2d44'), AIMessage(content='', additional_kwargs={'tool_calls': [{'id': 'call_Fwgl89WGsTgNbDioLIqBbYJn', 'function': {'arguments': '{\"query\":\"2024 Nobel Prize in Literature\"}', 'name': 'search_keyword'}, 'type': 'function'}], 'refusal': None}, response_metadata={'token_usage': {'completion_tokens': 20, 'prompt_tokens': 57, 'total_tokens': 77, 'completion_tokens_details': {'accepted_prediction_tokens': 0, 'audio_tokens': 0, 'reasoning_tokens': 0, 'rejected_prediction_tokens': 0}, 'prompt_tokens_details': {'audio_tokens': 0, 'cached_tokens': 0}}, 'model_name': 'gpt-4o-mini-2024-07-18', 'system_fingerprint': 'fp_709714d124', 'finish_reason': 'tool_calls', 'logprobs': None}, id='run-b8ec18c5-8a7a-40af-867d-f4090bf4a526-0', tool_calls=[{'name': 'search_keyword', 'args': {'query': '2024 Nobel Prize in Literature'}, 'id': 'call_Fwgl89WGsTgNbDioLIqBbYJn', 'type': 'tool_call'}], usage_metadata={'input_tokens': 57, 'output_tokens': 20, 'total_tokens': 77, 'input_token_details': {'audio': 0, 'cache_read': 0}, 'output_token_details': {'audio': 0, 'reasoning': 0}}), ToolMessage(content='[{\"url\": \"https://news.google.com/rss/articles/CBMiigFBVV95cUxNblM5bndNclA5Q0J2RW9NZ09XRTdyZ0ZhZ3diZUpodEU2WlhaVzFVZ3doZjI1ZEF6dGF5SnVQUVdCdF9tNUJnWjZ1LV8xTlNqT01xZmFaQ2NNNVdkM1RtR0ZCb0tDUzVZQk5oLVp1d1dpX2x2V2g4R3dKV0V3NVNvclRNa3VOSjIxWWc?oc=5\", \"content\": \"Nobel Prize in Literature 2024 - NobelPrize.org\"}]', name='search_keyword', id='f08f6c6b-7171-4f35-8db9-143905e97d87', tool_call_id='call_Fwgl89WGsTgNbDioLIqBbYJn')]\n",
      "\n",
      "[2] chatbot answer: \n",
      " 2024년 노벨 문학상에 대한 뉴스는 다음 링크에서 확인하실 수 있습니다: [Nobel Prize in Literature 2024 - NobelPrize.org](https://news.google.com/rss/articles/CBMiigFBVV95cUxNblM5bndNclA5Q0J2RW9NZ09XRTdyZ0ZhZ3diZUpodEU2WlhaVzFVZ3doZjI1ZEF6dGF5SnVQUVdCdF9tNUJnWjZ1LV8xTlNqT01xZmFaQ2NNNVdkM1RtR0ZCb0tDUzVZQk5oLVp1d1dpX2x2V2g4R3dKV0V3NVNvclRNa3VOSjIxWWc?oc=5). \n",
      "\n",
      "이 링크를 통해 노벨 문학상에 대한 최신 정보를 확인하실 수 있습니다.\n",
      "[3] answer.additional_kwargs: \n",
      " {'refusal': None}\n",
      "=================================================================================\n",
      "(1) [key]: chatbot\n",
      "(2) [value]: {'dummy_data': '[chatbot] 호출, dummy_data'}\n"
     ]
    }
   ],
   "source": [
    "question = '2024년 노벨 문학상 관련 뉴스를 알려주세요.'\n",
    "\n",
    "input = State(\n",
    "    dummy_data='테스트 문자열' ,\n",
    "    messages=[('user', question)]\n",
    ")\n",
    "\n",
    "config = RunnableConfig(\n",
    "    recursion_limit=10, \n",
    "    configurable={'thread_id': '9'},\n",
    "    tags=['data-tag']\n",
    ")\n",
    "\n",
    "for event in graph.stream(input=input, config=config, output_keys=['dummy_data']):\n",
    "    for key, value in event.items():\n",
    "        print(f\"(1) [key]: {key}\")\n",
    "        print(f\"(2) [value]: {value}\")"
   ]
  },
  {
   "cell_type": "code",
   "execution_count": 59,
   "metadata": {},
   "outputs": [
    {
     "name": "stdout",
     "output_type": "stream",
     "text": [
      "=================================================================================\n",
      "chatbot() 실행\n",
      "\n",
      "[1] state[messages]: \n",
      "[HumanMessage(content='2024년 노벨 문학상 관련 뉴스를 알려주세요.', additional_kwargs={}, response_metadata={}, id='4e6f704a-10dd-4f30-8a35-e883d9e79aa3')]\n",
      "\n",
      "[2] chatbot answer: \n",
      " \n",
      "[3] answer.additional_kwargs: \n",
      " {'tool_calls': [{'id': 'call_USBUjwGVjeNsaSWExF4A0MHl', 'function': {'arguments': '{\"query\":\"2024 Nobel Prize in Literature\"}', 'name': 'search_keyword'}, 'type': 'function'}], 'refusal': None}\n",
      "=================================================================================\n",
      "\n",
      "====================================================================================================\n",
      "(1) [key]: chatbot\n",
      "(2) [value]: {'messages': [AIMessage(content='', additional_kwargs={'tool_calls': [{'id': 'call_USBUjwGVjeNsaSWExF4A0MHl', 'function': {'arguments': '{\"query\":\"2024 Nobel Prize in Literature\"}', 'name': 'search_keyword'}, 'type': 'function'}], 'refusal': None}, response_metadata={'token_usage': {'completion_tokens': 20, 'prompt_tokens': 57, 'total_tokens': 77, 'completion_tokens_details': {'accepted_prediction_tokens': 0, 'audio_tokens': 0, 'reasoning_tokens': 0, 'rejected_prediction_tokens': 0}, 'prompt_tokens_details': {'audio_tokens': 0, 'cached_tokens': 0}}, 'model_name': 'gpt-4o-mini-2024-07-18', 'system_fingerprint': 'fp_7fcd609668', 'finish_reason': 'tool_calls', 'logprobs': None}, id='run-ffccf5f1-2821-40a4-9bbc-0af3a3726ac1-0', tool_calls=[{'name': 'search_keyword', 'args': {'query': '2024 Nobel Prize in Literature'}, 'id': 'call_USBUjwGVjeNsaSWExF4A0MHl', 'type': 'tool_call'}], usage_metadata={'input_tokens': 57, 'output_tokens': 20, 'total_tokens': 77, 'input_token_details': {'audio': 0, 'cache_read': 0}, 'output_token_details': {'audio': 0, 'reasoning': 0}})], 'dummy_data': '[chatbot] 호출, dummy_data'}\n",
      "(2-1) [value.keys()]: dict_keys(['messages', 'dummy_data'])\n",
      "(3) [value[dummy_data]]: [chatbot] 호출, dummy_data\n",
      "(4) [value[messages]]:\n",
      " [AIMessage(content='', additional_kwargs={'tool_calls': [{'id': 'call_USBUjwGVjeNsaSWExF4A0MHl', 'function': {'arguments': '{\"query\":\"2024 Nobel Prize in Literature\"}', 'name': 'search_keyword'}, 'type': 'function'}], 'refusal': None}, response_metadata={'token_usage': {'completion_tokens': 20, 'prompt_tokens': 57, 'total_tokens': 77, 'completion_tokens_details': {'accepted_prediction_tokens': 0, 'audio_tokens': 0, 'reasoning_tokens': 0, 'rejected_prediction_tokens': 0}, 'prompt_tokens_details': {'audio_tokens': 0, 'cached_tokens': 0}}, 'model_name': 'gpt-4o-mini-2024-07-18', 'system_fingerprint': 'fp_7fcd609668', 'finish_reason': 'tool_calls', 'logprobs': None}, id='run-ffccf5f1-2821-40a4-9bbc-0af3a3726ac1-0', tool_calls=[{'name': 'search_keyword', 'args': {'query': '2024 Nobel Prize in Literature'}, 'id': 'call_USBUjwGVjeNsaSWExF4A0MHl', 'type': 'tool_call'}], usage_metadata={'input_tokens': 57, 'output_tokens': 20, 'total_tokens': 77, 'input_token_details': {'audio': 0, 'cache_read': 0}, 'output_token_details': {'audio': 0, 'reasoning': 0}})]\n",
      "====================================================================================================\n",
      "\n",
      "====================================================================================================\n",
      "(1) [key]: tools\n",
      "(2) [value]: {'messages': [ToolMessage(content='[{\"url\": \"https://news.google.com/rss/articles/CBMiigFBVV95cUxNblM5bndNclA5Q0J2RW9NZ09XRTdyZ0ZhZ3diZUpodEU2WlhaVzFVZ3doZjI1ZEF6dGF5SnVQUVdCdF9tNUJnWjZ1LV8xTlNqT01xZmFaQ2NNNVdkM1RtR0ZCb0tDUzVZQk5oLVp1d1dpX2x2V2g4R3dKV0V3NVNvclRNa3VOSjIxWWc?oc=5\", \"content\": \"Nobel Prize in Literature 2024 - NobelPrize.org\"}]', name='search_keyword', id='ab20cb40-273a-4fdf-945d-b9bc423b3b28', tool_call_id='call_USBUjwGVjeNsaSWExF4A0MHl')]}\n",
      "(2-1) [value.keys()]: dict_keys(['messages'])\n",
      "(3) [value[dummy_data]]: 없음\n",
      "(4) [value[messages]]:\n",
      " [ToolMessage(content='[{\"url\": \"https://news.google.com/rss/articles/CBMiigFBVV95cUxNblM5bndNclA5Q0J2RW9NZ09XRTdyZ0ZhZ3diZUpodEU2WlhaVzFVZ3doZjI1ZEF6dGF5SnVQUVdCdF9tNUJnWjZ1LV8xTlNqT01xZmFaQ2NNNVdkM1RtR0ZCb0tDUzVZQk5oLVp1d1dpX2x2V2g4R3dKV0V3NVNvclRNa3VOSjIxWWc?oc=5\", \"content\": \"Nobel Prize in Literature 2024 - NobelPrize.org\"}]', name='search_keyword', id='ab20cb40-273a-4fdf-945d-b9bc423b3b28', tool_call_id='call_USBUjwGVjeNsaSWExF4A0MHl')]\n",
      "====================================================================================================\n",
      "=================================================================================\n",
      "chatbot() 실행\n",
      "\n",
      "[1] state[messages]: \n",
      "[HumanMessage(content='2024년 노벨 문학상 관련 뉴스를 알려주세요.', additional_kwargs={}, response_metadata={}, id='4e6f704a-10dd-4f30-8a35-e883d9e79aa3'), AIMessage(content='', additional_kwargs={'tool_calls': [{'id': 'call_USBUjwGVjeNsaSWExF4A0MHl', 'function': {'arguments': '{\"query\":\"2024 Nobel Prize in Literature\"}', 'name': 'search_keyword'}, 'type': 'function'}], 'refusal': None}, response_metadata={'token_usage': {'completion_tokens': 20, 'prompt_tokens': 57, 'total_tokens': 77, 'completion_tokens_details': {'accepted_prediction_tokens': 0, 'audio_tokens': 0, 'reasoning_tokens': 0, 'rejected_prediction_tokens': 0}, 'prompt_tokens_details': {'audio_tokens': 0, 'cached_tokens': 0}}, 'model_name': 'gpt-4o-mini-2024-07-18', 'system_fingerprint': 'fp_7fcd609668', 'finish_reason': 'tool_calls', 'logprobs': None}, id='run-ffccf5f1-2821-40a4-9bbc-0af3a3726ac1-0', tool_calls=[{'name': 'search_keyword', 'args': {'query': '2024 Nobel Prize in Literature'}, 'id': 'call_USBUjwGVjeNsaSWExF4A0MHl', 'type': 'tool_call'}], usage_metadata={'input_tokens': 57, 'output_tokens': 20, 'total_tokens': 77, 'input_token_details': {'audio': 0, 'cache_read': 0}, 'output_token_details': {'audio': 0, 'reasoning': 0}}), ToolMessage(content='[{\"url\": \"https://news.google.com/rss/articles/CBMiigFBVV95cUxNblM5bndNclA5Q0J2RW9NZ09XRTdyZ0ZhZ3diZUpodEU2WlhaVzFVZ3doZjI1ZEF6dGF5SnVQUVdCdF9tNUJnWjZ1LV8xTlNqT01xZmFaQ2NNNVdkM1RtR0ZCb0tDUzVZQk5oLVp1d1dpX2x2V2g4R3dKV0V3NVNvclRNa3VOSjIxWWc?oc=5\", \"content\": \"Nobel Prize in Literature 2024 - NobelPrize.org\"}]', name='search_keyword', id='ab20cb40-273a-4fdf-945d-b9bc423b3b28', tool_call_id='call_USBUjwGVjeNsaSWExF4A0MHl')]\n",
      "\n",
      "[2] chatbot answer: \n",
      " 2024년 노벨 문학상에 대한 뉴스는 다음과 같습니다:\n",
      "\n",
      "- [Nobel Prize in Literature 2024 - NobelPrize.org](https://news.google.com/rss/articles/CBMiigFBVV95cUxNblM5bndNclA5Q0J2RW9NZ09XRTdyZ0ZhZ3diZUpodEU2WlhaVzFVZ3doZjI1ZEF6dGF5SnVQUVdCdF9tNUJnWjZ1LV8xTlNqT01xZmFaQ2NNNVdkM1RtR0ZCb0tDUzVZQk5oLVp1d1dpX2x2V2g4R3dKV0V3NVNvclRNa3VOSjIxWWc?oc=5)\n",
      "\n",
      "더 많은 정보가 필요하시면 말씀해 주세요!\n",
      "[3] answer.additional_kwargs: \n",
      " {'refusal': None}\n",
      "=================================================================================\n",
      "\n",
      "====================================================================================================\n",
      "(1) [key]: chatbot\n",
      "(2) [value]: {'messages': [AIMessage(content='2024년 노벨 문학상에 대한 뉴스는 다음과 같습니다:\\n\\n- [Nobel Prize in Literature 2024 - NobelPrize.org](https://news.google.com/rss/articles/CBMiigFBVV95cUxNblM5bndNclA5Q0J2RW9NZ09XRTdyZ0ZhZ3diZUpodEU2WlhaVzFVZ3doZjI1ZEF6dGF5SnVQUVdCdF9tNUJnWjZ1LV8xTlNqT01xZmFaQ2NNNVdkM1RtR0ZCb0tDUzVZQk5oLVp1d1dpX2x2V2g4R3dKV0V3NVNvclRNa3VOSjIxWWc?oc=5)\\n\\n더 많은 정보가 필요하시면 말씀해 주세요!', additional_kwargs={'refusal': None}, response_metadata={'token_usage': {'completion_tokens': 194, 'prompt_tokens': 257, 'total_tokens': 451, 'completion_tokens_details': {'accepted_prediction_tokens': 0, 'audio_tokens': 0, 'reasoning_tokens': 0, 'rejected_prediction_tokens': 0}, 'prompt_tokens_details': {'audio_tokens': 0, 'cached_tokens': 0}}, 'model_name': 'gpt-4o-mini-2024-07-18', 'system_fingerprint': 'fp_709714d124', 'finish_reason': 'stop', 'logprobs': None}, id='run-ff60316d-cb28-4d3d-9971-72e8c43a666f-0', usage_metadata={'input_tokens': 257, 'output_tokens': 194, 'total_tokens': 451, 'input_token_details': {'audio': 0, 'cache_read': 0}, 'output_token_details': {'audio': 0, 'reasoning': 0}})], 'dummy_data': '[chatbot] 호출, dummy_data'}\n",
      "(2-1) [value.keys()]: dict_keys(['messages', 'dummy_data'])\n",
      "(3) [value[dummy_data]]: [chatbot] 호출, dummy_data\n",
      "(4) [value[messages]]:\n",
      " [AIMessage(content='2024년 노벨 문학상에 대한 뉴스는 다음과 같습니다:\\n\\n- [Nobel Prize in Literature 2024 - NobelPrize.org](https://news.google.com/rss/articles/CBMiigFBVV95cUxNblM5bndNclA5Q0J2RW9NZ09XRTdyZ0ZhZ3diZUpodEU2WlhaVzFVZ3doZjI1ZEF6dGF5SnVQUVdCdF9tNUJnWjZ1LV8xTlNqT01xZmFaQ2NNNVdkM1RtR0ZCb0tDUzVZQk5oLVp1d1dpX2x2V2g4R3dKV0V3NVNvclRNa3VOSjIxWWc?oc=5)\\n\\n더 많은 정보가 필요하시면 말씀해 주세요!', additional_kwargs={'refusal': None}, response_metadata={'token_usage': {'completion_tokens': 194, 'prompt_tokens': 257, 'total_tokens': 451, 'completion_tokens_details': {'accepted_prediction_tokens': 0, 'audio_tokens': 0, 'reasoning_tokens': 0, 'rejected_prediction_tokens': 0}, 'prompt_tokens_details': {'audio_tokens': 0, 'cached_tokens': 0}}, 'model_name': 'gpt-4o-mini-2024-07-18', 'system_fingerprint': 'fp_709714d124', 'finish_reason': 'stop', 'logprobs': None}, id='run-ff60316d-cb28-4d3d-9971-72e8c43a666f-0', usage_metadata={'input_tokens': 257, 'output_tokens': 194, 'total_tokens': 451, 'input_token_details': {'audio': 0, 'cache_read': 0}, 'output_token_details': {'audio': 0, 'reasoning': 0}})]\n",
      "====================================================================================================\n"
     ]
    }
   ],
   "source": [
    "question = '2024년 노벨 문학상 관련 뉴스를 알려주세요.'\n",
    "\n",
    "input = State(\n",
    "    dummy_data='테스트 문자열' ,\n",
    "    messages=[('user', question)]\n",
    ")\n",
    "\n",
    "config = RunnableConfig(\n",
    "    recursion_limit=10, \n",
    "    configurable={'thread_id': '11'},\n",
    "    tags=['data-tag']\n",
    ")\n",
    "\n",
    "for event in graph.stream(input=input, config=config, output_keys=['dummy_data', 'messages']):\n",
    "    for key, value in event.items():\n",
    "        print()\n",
    "        print('=' * 100)\n",
    "        print(f\"(1) [key]: {key}\")\n",
    "\n",
    "        if value:\n",
    "            print(f\"(2) [value]: {value}\")\n",
    "            print(f\"(2-1) [value.keys()]: {value.keys()}\")\n",
    "\n",
    "            if 'dummy_data' in value:\n",
    "                print(f\"(3) [value[dummy_data]]: {value['dummy_data']}\")\n",
    "            else:\n",
    "                print(f\"(3) [value[dummy_data]]: 없음\")\n",
    "            \n",
    "            if 'messages' in value:\n",
    "                print(f\"(4) [value[messages]]:\")\n",
    "                print(f\" {value['messages']}\")\n",
    "            else:\n",
    "                print(f\"(4) [value[messages]]: 없음\")\n",
    "\n",
    "        else:\n",
    "            print(f\"(2) [value]: 없음\")\n",
    "        print('=' * 100)"
   ]
  },
  {
   "cell_type": "code",
   "execution_count": 60,
   "metadata": {},
   "outputs": [
    {
     "name": "stdout",
     "output_type": "stream",
     "text": [
      "\n",
      "====================================================================================================\n",
      "[key]: messages\n",
      "[messages] 개수 : 1\n",
      "[messages] 메시지: \n",
      "[HumanMessage(content='대구 중앙떡볶이 관련 뉴스를 알려주세요.', additional_kwargs={}, response_metadata={}, id='76c88ac7-fbd4-404b-b787-c3bc5f877538')]\n",
      "\n",
      "====================================================================================================\n",
      "[key]: dummy_data\n",
      "[messages]: 없음\n",
      "===========================  단계  ===========================\n",
      "=================================================================================\n",
      "chatbot() 실행\n",
      "\n",
      "[1] state[messages]: \n",
      "[HumanMessage(content='대구 중앙떡볶이 관련 뉴스를 알려주세요.', additional_kwargs={}, response_metadata={}, id='76c88ac7-fbd4-404b-b787-c3bc5f877538')]\n",
      "\n",
      "[2] chatbot answer: \n",
      " \n",
      "[3] answer.additional_kwargs: \n",
      " {'tool_calls': [{'id': 'call_OeoOAwFZ96735CGXGAu1RkY5', 'function': {'arguments': '{\"query\":\"대구 중앙떡볶이\"}', 'name': 'search_keyword'}, 'type': 'function'}], 'refusal': None}\n",
      "=================================================================================\n",
      "\n",
      "====================================================================================================\n",
      "[key]: messages\n",
      "[messages] 개수 : 2\n",
      "[messages] 메시지: \n",
      "[HumanMessage(content='대구 중앙떡볶이 관련 뉴스를 알려주세요.', additional_kwargs={}, response_metadata={}, id='76c88ac7-fbd4-404b-b787-c3bc5f877538'), AIMessage(content='', additional_kwargs={'tool_calls': [{'id': 'call_OeoOAwFZ96735CGXGAu1RkY5', 'function': {'arguments': '{\"query\":\"대구 중앙떡볶이\"}', 'name': 'search_keyword'}, 'type': 'function'}], 'refusal': None}, response_metadata={'token_usage': {'completion_tokens': 22, 'prompt_tokens': 57, 'total_tokens': 79, 'completion_tokens_details': {'accepted_prediction_tokens': 0, 'audio_tokens': 0, 'reasoning_tokens': 0, 'rejected_prediction_tokens': 0}, 'prompt_tokens_details': {'audio_tokens': 0, 'cached_tokens': 0}}, 'model_name': 'gpt-4o-mini-2024-07-18', 'system_fingerprint': 'fp_709714d124', 'finish_reason': 'tool_calls', 'logprobs': None}, id='run-4a6c3f19-d249-4fbe-9d5d-c5d7dbe366aa-0', tool_calls=[{'name': 'search_keyword', 'args': {'query': '대구 중앙떡볶이'}, 'id': 'call_OeoOAwFZ96735CGXGAu1RkY5', 'type': 'tool_call'}], usage_metadata={'input_tokens': 57, 'output_tokens': 22, 'total_tokens': 79, 'input_token_details': {'audio': 0, 'cache_read': 0}, 'output_token_details': {'audio': 0, 'reasoning': 0}})]\n",
      "\n",
      "====================================================================================================\n",
      "[key]: dummy_data\n",
      "[messages]: 없음\n",
      "===========================  단계  ===========================\n",
      "\n",
      "====================================================================================================\n",
      "[key]: messages\n",
      "[messages] 개수 : 3\n",
      "[messages] 메시지: \n",
      "[HumanMessage(content='대구 중앙떡볶이 관련 뉴스를 알려주세요.', additional_kwargs={}, response_metadata={}, id='76c88ac7-fbd4-404b-b787-c3bc5f877538'), AIMessage(content='', additional_kwargs={'tool_calls': [{'id': 'call_OeoOAwFZ96735CGXGAu1RkY5', 'function': {'arguments': '{\"query\":\"대구 중앙떡볶이\"}', 'name': 'search_keyword'}, 'type': 'function'}], 'refusal': None}, response_metadata={'token_usage': {'completion_tokens': 22, 'prompt_tokens': 57, 'total_tokens': 79, 'completion_tokens_details': {'accepted_prediction_tokens': 0, 'audio_tokens': 0, 'reasoning_tokens': 0, 'rejected_prediction_tokens': 0}, 'prompt_tokens_details': {'audio_tokens': 0, 'cached_tokens': 0}}, 'model_name': 'gpt-4o-mini-2024-07-18', 'system_fingerprint': 'fp_709714d124', 'finish_reason': 'tool_calls', 'logprobs': None}, id='run-4a6c3f19-d249-4fbe-9d5d-c5d7dbe366aa-0', tool_calls=[{'name': 'search_keyword', 'args': {'query': '대구 중앙떡볶이'}, 'id': 'call_OeoOAwFZ96735CGXGAu1RkY5', 'type': 'tool_call'}], usage_metadata={'input_tokens': 57, 'output_tokens': 22, 'total_tokens': 79, 'input_token_details': {'audio': 0, 'cache_read': 0}, 'output_token_details': {'audio': 0, 'reasoning': 0}}), ToolMessage(content='[{\"url\": \"https://news.google.com/rss/articles/CBMiU0FVX3lxTE90TjFnS00xVUNoN3Y3dzlEb2l3cFEtUVkwWlVNekxwaC1Rd0U4dUpTalNYa04teW52b0hjdllBQnpqNDhpSm1aa0lFNXVsMkV2QUFB?oc=5\", \"content\": \"\\'전현무계획\\' 대구 떡볶이 4대장 반할만떡·달고떡볶이·윤옥연할매떡볶이·중앙떡볶이→뭉티기X오드레기&서문시장 섞어+냉잔치국수 맛집 탐방 - 네이트 뉴스\"}]', name='search_keyword', id='312270a4-a2be-4cfe-9f97-e641c221e73c', tool_call_id='call_OeoOAwFZ96735CGXGAu1RkY5')]\n",
      "\n",
      "====================================================================================================\n",
      "[key]: dummy_data\n",
      "[messages]: 없음\n",
      "===========================  단계  ===========================\n",
      "=================================================================================\n",
      "chatbot() 실행\n",
      "\n",
      "[1] state[messages]: \n",
      "[HumanMessage(content='대구 중앙떡볶이 관련 뉴스를 알려주세요.', additional_kwargs={}, response_metadata={}, id='76c88ac7-fbd4-404b-b787-c3bc5f877538'), AIMessage(content='', additional_kwargs={'tool_calls': [{'id': 'call_OeoOAwFZ96735CGXGAu1RkY5', 'function': {'arguments': '{\"query\":\"대구 중앙떡볶이\"}', 'name': 'search_keyword'}, 'type': 'function'}], 'refusal': None}, response_metadata={'token_usage': {'completion_tokens': 22, 'prompt_tokens': 57, 'total_tokens': 79, 'completion_tokens_details': {'accepted_prediction_tokens': 0, 'audio_tokens': 0, 'reasoning_tokens': 0, 'rejected_prediction_tokens': 0}, 'prompt_tokens_details': {'audio_tokens': 0, 'cached_tokens': 0}}, 'model_name': 'gpt-4o-mini-2024-07-18', 'system_fingerprint': 'fp_709714d124', 'finish_reason': 'tool_calls', 'logprobs': None}, id='run-4a6c3f19-d249-4fbe-9d5d-c5d7dbe366aa-0', tool_calls=[{'name': 'search_keyword', 'args': {'query': '대구 중앙떡볶이'}, 'id': 'call_OeoOAwFZ96735CGXGAu1RkY5', 'type': 'tool_call'}], usage_metadata={'input_tokens': 57, 'output_tokens': 22, 'total_tokens': 79, 'input_token_details': {'audio': 0, 'cache_read': 0}, 'output_token_details': {'audio': 0, 'reasoning': 0}}), ToolMessage(content='[{\"url\": \"https://news.google.com/rss/articles/CBMiU0FVX3lxTE90TjFnS00xVUNoN3Y3dzlEb2l3cFEtUVkwWlVNekxwaC1Rd0U4dUpTalNYa04teW52b0hjdllBQnpqNDhpSm1aa0lFNXVsMkV2QUFB?oc=5\", \"content\": \"\\'전현무계획\\' 대구 떡볶이 4대장 반할만떡·달고떡볶이·윤옥연할매떡볶이·중앙떡볶이→뭉티기X오드레기&서문시장 섞어+냉잔치국수 맛집 탐방 - 네이트 뉴스\"}]', name='search_keyword', id='312270a4-a2be-4cfe-9f97-e641c221e73c', tool_call_id='call_OeoOAwFZ96735CGXGAu1RkY5')]\n",
      "\n",
      "[2] chatbot answer: \n",
      " 대구 중앙떡볶이에 대한 최근 뉴스는 다음과 같습니다:\n",
      "\n",
      "- **기사 제목**: '전현무계획' 대구 떡볶이 4대장 반할만떡·달고떡볶이·윤옥연할매떡볶이·중앙떡볶이\n",
      "- **내용 요약**: 이 기사에서는 대구의 유명 떡볶이 가게들을 소개하며, 중앙떡볶이를 포함한 4대장 떡볶이 가게에 대한 탐방 내용을 다루고 있습니다. 또한, 서문시장에서의 다양한 음식 경험도 언급되고 있습니다.\n",
      "- **링크**: [기사 보기](https://news.google.com/rss/articles/CBMiU0FVX3lxTE90TjFnS00xVUNoN3Y3dzlEb2l3cFEtUVkwWlVNekxwaC1Rd0U4dUpTalNYa04teW52b0hjdllBQnpqNDhpSm1aa0lFNXVsMkV2QUFB?oc=5)\n",
      "\n",
      "더 궁금한 점이 있으시면 말씀해 주세요!\n",
      "[3] answer.additional_kwargs: \n",
      " {'refusal': None}\n",
      "=================================================================================\n",
      "\n",
      "====================================================================================================\n",
      "[key]: messages\n",
      "[messages] 개수 : 4\n",
      "[messages] 메시지: \n",
      "[HumanMessage(content='대구 중앙떡볶이 관련 뉴스를 알려주세요.', additional_kwargs={}, response_metadata={}, id='76c88ac7-fbd4-404b-b787-c3bc5f877538'), AIMessage(content='', additional_kwargs={'tool_calls': [{'id': 'call_OeoOAwFZ96735CGXGAu1RkY5', 'function': {'arguments': '{\"query\":\"대구 중앙떡볶이\"}', 'name': 'search_keyword'}, 'type': 'function'}], 'refusal': None}, response_metadata={'token_usage': {'completion_tokens': 22, 'prompt_tokens': 57, 'total_tokens': 79, 'completion_tokens_details': {'accepted_prediction_tokens': 0, 'audio_tokens': 0, 'reasoning_tokens': 0, 'rejected_prediction_tokens': 0}, 'prompt_tokens_details': {'audio_tokens': 0, 'cached_tokens': 0}}, 'model_name': 'gpt-4o-mini-2024-07-18', 'system_fingerprint': 'fp_709714d124', 'finish_reason': 'tool_calls', 'logprobs': None}, id='run-4a6c3f19-d249-4fbe-9d5d-c5d7dbe366aa-0', tool_calls=[{'name': 'search_keyword', 'args': {'query': '대구 중앙떡볶이'}, 'id': 'call_OeoOAwFZ96735CGXGAu1RkY5', 'type': 'tool_call'}], usage_metadata={'input_tokens': 57, 'output_tokens': 22, 'total_tokens': 79, 'input_token_details': {'audio': 0, 'cache_read': 0}, 'output_token_details': {'audio': 0, 'reasoning': 0}}), ToolMessage(content='[{\"url\": \"https://news.google.com/rss/articles/CBMiU0FVX3lxTE90TjFnS00xVUNoN3Y3dzlEb2l3cFEtUVkwWlVNekxwaC1Rd0U4dUpTalNYa04teW52b0hjdllBQnpqNDhpSm1aa0lFNXVsMkV2QUFB?oc=5\", \"content\": \"\\'전현무계획\\' 대구 떡볶이 4대장 반할만떡·달고떡볶이·윤옥연할매떡볶이·중앙떡볶이→뭉티기X오드레기&서문시장 섞어+냉잔치국수 맛집 탐방 - 네이트 뉴스\"}]', name='search_keyword', id='312270a4-a2be-4cfe-9f97-e641c221e73c', tool_call_id='call_OeoOAwFZ96735CGXGAu1RkY5'), AIMessage(content=\"대구 중앙떡볶이에 대한 최근 뉴스는 다음과 같습니다:\\n\\n- **기사 제목**: '전현무계획' 대구 떡볶이 4대장 반할만떡·달고떡볶이·윤옥연할매떡볶이·중앙떡볶이\\n- **내용 요약**: 이 기사에서는 대구의 유명 떡볶이 가게들을 소개하며, 중앙떡볶이를 포함한 4대장 떡볶이 가게에 대한 탐방 내용을 다루고 있습니다. 또한, 서문시장에서의 다양한 음식 경험도 언급되고 있습니다.\\n- **링크**: [기사 보기](https://news.google.com/rss/articles/CBMiU0FVX3lxTE90TjFnS00xVUNoN3Y3dzlEb2l3cFEtUVkwWlVNekxwaC1Rd0U4dUpTalNYa04teW52b0hjdllBQnpqNDhpSm1aa0lFNXVsMkV2QUFB?oc=5)\\n\\n더 궁금한 점이 있으시면 말씀해 주세요!\", additional_kwargs={'refusal': None}, response_metadata={'token_usage': {'completion_tokens': 258, 'prompt_tokens': 270, 'total_tokens': 528, 'completion_tokens_details': {'accepted_prediction_tokens': 0, 'audio_tokens': 0, 'reasoning_tokens': 0, 'rejected_prediction_tokens': 0}, 'prompt_tokens_details': {'audio_tokens': 0, 'cached_tokens': 0}}, 'model_name': 'gpt-4o-mini-2024-07-18', 'system_fingerprint': 'fp_7fcd609668', 'finish_reason': 'stop', 'logprobs': None}, id='run-d069369c-889c-48de-aa8a-027ae7f63dc3-0', usage_metadata={'input_tokens': 270, 'output_tokens': 258, 'total_tokens': 528, 'input_token_details': {'audio': 0, 'cache_read': 0}, 'output_token_details': {'audio': 0, 'reasoning': 0}})]\n",
      "\n",
      "====================================================================================================\n",
      "[key]: dummy_data\n",
      "[messages]: 없음\n",
      "===========================  단계  ===========================\n"
     ]
    }
   ],
   "source": [
    "question = '대구 중앙떡볶이 관련 뉴스를 알려주세요.'\n",
    "\n",
    "input = State(\n",
    "    dummy_data='테스트 문자열' ,\n",
    "    messages=[('user', question)]\n",
    ")\n",
    "\n",
    "config = RunnableConfig(\n",
    "    recursion_limit=10, \n",
    "    configurable={'thread_id': '12'},\n",
    "    tags=['data-tag']\n",
    ")\n",
    "\n",
    "for event in graph.stream(input=input, config=config, stream_mode='values'): \n",
    "    for key, value in event.items():            # values 모드이면 key에는 state의 key 값(messages, dummy_data), value에는 state의 key 에 해당하는 값\n",
    "        print()\n",
    "        print('=' * 100)\n",
    "        print(f\"[key]: {key}\")\n",
    "\n",
    "        if key=='messages':\n",
    "            print(f\"[messages] 개수 : {len(value)}\")\n",
    "            print(f\"[messages] 메시지: \")\n",
    "            print(f\"{value}\")\n",
    "        else:\n",
    "            print(f\"[messages]: 없음\")\n",
    "            \n",
    "    print('==='*9, ' 단계 ', \"===\"*9)\n"
   ]
  },
  {
   "cell_type": "code",
   "execution_count": 61,
   "metadata": {},
   "outputs": [
    {
     "name": "stdout",
     "output_type": "stream",
     "text": [
      "=================================================================================\n",
      "chatbot() 실행\n",
      "\n",
      "[1] state[messages]: \n",
      "[HumanMessage(content='2024년 노벨 문학상 관련 뉴스를 알려주세요.', additional_kwargs={}, response_metadata={}, id='0891b671-018b-4d64-a694-b28f3ac900d3')]\n",
      "\n",
      "[2] chatbot answer: \n",
      " \n",
      "[3] answer.additional_kwargs: \n",
      " {'tool_calls': [{'id': 'call_XEB0qbEflho0atsghR3sljMC', 'function': {'arguments': '{\"query\":\"2024 Nobel Prize in Literature\"}', 'name': 'search_keyword'}, 'type': 'function'}], 'refusal': None}\n",
      "=================================================================================\n",
      "\n",
      "====================================================================================================\n",
      "[key]: chatbot\n",
      "[messages]: 없음\n",
      "===========================  단계  ===========================\n",
      "\n",
      "====================================================================================================\n",
      "[key]: tools\n",
      "[messages]: 없음\n",
      "===========================  단계  ===========================\n",
      "=================================================================================\n",
      "chatbot() 실행\n",
      "\n",
      "[1] state[messages]: \n",
      "[HumanMessage(content='2024년 노벨 문학상 관련 뉴스를 알려주세요.', additional_kwargs={}, response_metadata={}, id='0891b671-018b-4d64-a694-b28f3ac900d3'), AIMessage(content='', additional_kwargs={'tool_calls': [{'id': 'call_XEB0qbEflho0atsghR3sljMC', 'function': {'arguments': '{\"query\":\"2024 Nobel Prize in Literature\"}', 'name': 'search_keyword'}, 'type': 'function'}], 'refusal': None}, response_metadata={'token_usage': {'completion_tokens': 20, 'prompt_tokens': 57, 'total_tokens': 77, 'completion_tokens_details': {'accepted_prediction_tokens': 0, 'audio_tokens': 0, 'reasoning_tokens': 0, 'rejected_prediction_tokens': 0}, 'prompt_tokens_details': {'audio_tokens': 0, 'cached_tokens': 0}}, 'model_name': 'gpt-4o-mini-2024-07-18', 'system_fingerprint': 'fp_709714d124', 'finish_reason': 'tool_calls', 'logprobs': None}, id='run-ebadd374-fd33-41ec-bb58-e1145409f58b-0', tool_calls=[{'name': 'search_keyword', 'args': {'query': '2024 Nobel Prize in Literature'}, 'id': 'call_XEB0qbEflho0atsghR3sljMC', 'type': 'tool_call'}], usage_metadata={'input_tokens': 57, 'output_tokens': 20, 'total_tokens': 77, 'input_token_details': {'audio': 0, 'cache_read': 0}, 'output_token_details': {'audio': 0, 'reasoning': 0}}), ToolMessage(content='[{\"url\": \"https://news.google.com/rss/articles/CBMiigFBVV95cUxNblM5bndNclA5Q0J2RW9NZ09XRTdyZ0ZhZ3diZUpodEU2WlhaVzFVZ3doZjI1ZEF6dGF5SnVQUVdCdF9tNUJnWjZ1LV8xTlNqT01xZmFaQ2NNNVdkM1RtR0ZCb0tDUzVZQk5oLVp1d1dpX2x2V2g4R3dKV0V3NVNvclRNa3VOSjIxWWc?oc=5\", \"content\": \"Nobel Prize in Literature 2024 - NobelPrize.org\"}]', name='search_keyword', id='595f9059-a5db-46d6-b747-d463861d48e4', tool_call_id='call_XEB0qbEflho0atsghR3sljMC')]\n",
      "\n",
      "[2] chatbot answer: \n",
      " 2024년 노벨 문학상에 대한 뉴스는 다음과 같습니다:\n",
      "\n",
      "- **Nobel Prize in Literature 2024**: [NobelPrize.org](https://news.google.com/rss/articles/CBMiigFBVV95cUxNblM5bndNclA5Q0J2RW9NZ09XRTdyZ0ZhZ3diZUpodEU2WlhaVzFVZ3doZjI1ZEF6dGF5SnVQUVdCdF9tNUJnWjZ1LV8xTlNqT01xZmFaQ2NNNVdkM1RtR0ZCb0tDUzVZQk5oLVp1d1dpX2x2V2g4R3dKV0V3NVNvclRNa3VOSjIxWWc?oc=5)에서 확인할 수 있습니다.\n",
      "\n",
      "더 많은 정보가 필요하시면 말씀해 주세요!\n",
      "[3] answer.additional_kwargs: \n",
      " {'refusal': None}\n",
      "=================================================================================\n",
      "\n",
      "====================================================================================================\n",
      "[key]: chatbot\n",
      "[messages]: 없음\n",
      "===========================  단계  ===========================\n"
     ]
    }
   ],
   "source": [
    "question = '2024년 노벨 문학상 관련 뉴스를 알려주세요.'\n",
    "\n",
    "input = State(\n",
    "    dummy_data='테스트 문자열' ,\n",
    "    messages=[('user', question)]\n",
    ")\n",
    "\n",
    "config = RunnableConfig(\n",
    "    recursion_limit=10, \n",
    "    configurable={'thread_id': '19'},\n",
    "    tags=['data-tag']\n",
    ")\n",
    "\n",
    "for event in graph.stream(input=input, config=config, stream_mode='updates'):   # 각 단계에 대한 업데이트 된 State만 보낸다.\n",
    "    for key, value in event.items():            # updates 모드이면 key에는 업데이트 된 출력 노드의 이름, value에는 노드의 해당하는 업데이트된 State 값이 딕셔너리\n",
    "        print()\n",
    "        print('=' * 100)\n",
    "        print(f\"[key]: {key}\")\n",
    "\n",
    "        if key=='messages':\n",
    "            print(f\"[messages] 개수 : {len(value)}\")\n",
    "            print(f\"[messages] 메시지: \")\n",
    "            print(f\"{value}\")\n",
    "        else:\n",
    "            print(f\"[messages]: 없음\")\n",
    "            \n",
    "    print('==='*9, ' 단계 ', \"===\"*9)\n"
   ]
  },
  {
   "cell_type": "code",
   "execution_count": 62,
   "metadata": {},
   "outputs": [
    {
     "name": "stdout",
     "output_type": "stream",
     "text": [
      "=================================================================================\n",
      "chatbot() 실행\n",
      "\n",
      "[1] state[messages]: \n",
      "[HumanMessage(content='대구 중앙떡볶이에 대해서 알려주세요.', additional_kwargs={}, response_metadata={}, id='561e8e89-0044-4f23-b13e-9bdc5137a7df')]\n",
      "\n",
      "[2] chatbot answer: \n",
      " \n",
      "[3] answer.additional_kwargs: \n",
      " {'tool_calls': [{'id': 'call_Rt0s8lLaxrCQkrbaYH6Q0MZJ', 'function': {'arguments': '{\"query\":\"대구 중앙떡볶이\"}', 'name': 'search_keyword'}, 'type': 'function'}], 'refusal': None}\n",
      "=================================================================================\n",
      "\n",
      "====================================================================================================\n",
      "(1) [key]: chatbot\n",
      "(2) [value]: {'messages': [AIMessage(content='', additional_kwargs={'tool_calls': [{'id': 'call_Rt0s8lLaxrCQkrbaYH6Q0MZJ', 'function': {'arguments': '{\"query\":\"대구 중앙떡볶이\"}', 'name': 'search_keyword'}, 'type': 'function'}], 'refusal': None}, response_metadata={'token_usage': {'completion_tokens': 22, 'prompt_tokens': 55, 'total_tokens': 77, 'completion_tokens_details': {'accepted_prediction_tokens': 0, 'audio_tokens': 0, 'reasoning_tokens': 0, 'rejected_prediction_tokens': 0}, 'prompt_tokens_details': {'audio_tokens': 0, 'cached_tokens': 0}}, 'model_name': 'gpt-4o-mini-2024-07-18', 'system_fingerprint': 'fp_709714d124', 'finish_reason': 'tool_calls', 'logprobs': None}, id='run-1162b09f-3cd9-4740-86bf-37754dafa41a-0', tool_calls=[{'name': 'search_keyword', 'args': {'query': '대구 중앙떡볶이'}, 'id': 'call_Rt0s8lLaxrCQkrbaYH6Q0MZJ', 'type': 'tool_call'}], usage_metadata={'input_tokens': 55, 'output_tokens': 22, 'total_tokens': 77, 'input_token_details': {'audio': 0, 'cache_read': 0}, 'output_token_details': {'audio': 0, 'reasoning': 0}})], 'dummy_data': '[chatbot] 호출, dummy_data'}\n",
      "(2-1) [value.keys()]: dict_keys(['messages', 'dummy_data'])\n",
      "(3) [value[dummy_data]]: [chatbot] 호출, dummy_data\n",
      "(4) [value[messages]]:\n",
      " [AIMessage(content='', additional_kwargs={'tool_calls': [{'id': 'call_Rt0s8lLaxrCQkrbaYH6Q0MZJ', 'function': {'arguments': '{\"query\":\"대구 중앙떡볶이\"}', 'name': 'search_keyword'}, 'type': 'function'}], 'refusal': None}, response_metadata={'token_usage': {'completion_tokens': 22, 'prompt_tokens': 55, 'total_tokens': 77, 'completion_tokens_details': {'accepted_prediction_tokens': 0, 'audio_tokens': 0, 'reasoning_tokens': 0, 'rejected_prediction_tokens': 0}, 'prompt_tokens_details': {'audio_tokens': 0, 'cached_tokens': 0}}, 'model_name': 'gpt-4o-mini-2024-07-18', 'system_fingerprint': 'fp_709714d124', 'finish_reason': 'tool_calls', 'logprobs': None}, id='run-1162b09f-3cd9-4740-86bf-37754dafa41a-0', tool_calls=[{'name': 'search_keyword', 'args': {'query': '대구 중앙떡볶이'}, 'id': 'call_Rt0s8lLaxrCQkrbaYH6Q0MZJ', 'type': 'tool_call'}], usage_metadata={'input_tokens': 55, 'output_tokens': 22, 'total_tokens': 77, 'input_token_details': {'audio': 0, 'cache_read': 0}, 'output_token_details': {'audio': 0, 'reasoning': 0}})]\n",
      "====================================================================================================\n",
      "\n",
      "====================================================================================================\n",
      "(1) [key]: __interrupt__\n",
      "(2) [value]: 없음\n",
      "====================================================================================================\n"
     ]
    }
   ],
   "source": [
    "question = '대구 중앙떡볶이에 대해서 알려주세요.'\n",
    "\n",
    "input = State(\n",
    "    dummy_data='테스트 문자열' ,\n",
    "    messages=[('user', question)]\n",
    ")\n",
    "\n",
    "config = RunnableConfig(\n",
    "    recursion_limit=10, \n",
    "    configurable={'thread_id': '21'},\n",
    "    tags=['data-tag']\n",
    ")\n",
    "\n",
    "for event in graph.stream(input=input, config=config, interrupt_before=[\"tools\"], output_keys=['dummy_data', 'messages']):\n",
    "    for key, value in event.items():\n",
    "        print()\n",
    "        print('=' * 100)\n",
    "        print(f\"(1) [key]: {key}\")\n",
    "\n",
    "        if value:\n",
    "            print(f\"(2) [value]: {value}\")\n",
    "            print(f\"(2-1) [value.keys()]: {value.keys()}\")\n",
    "\n",
    "            if 'dummy_data' in value:\n",
    "                print(f\"(3) [value[dummy_data]]: {value['dummy_data']}\")\n",
    "            else:\n",
    "                print(f\"(3) [value[dummy_data]]: 없음\")\n",
    "            \n",
    "            if 'messages' in value:\n",
    "                print(f\"(4) [value[messages]]:\")\n",
    "                print(f\" {value['messages']}\")\n",
    "            else:\n",
    "                print(f\"(4) [value[messages]]: 없음\")\n",
    "\n",
    "        else:\n",
    "            print(f\"(2) [value]: 없음\")\n",
    "        print('=' * 100)"
   ]
  },
  {
   "cell_type": "code",
   "execution_count": 63,
   "metadata": {},
   "outputs": [
    {
     "name": "stdout",
     "output_type": "stream",
     "text": [
      "=================================================================================\n",
      "chatbot() 실행\n",
      "\n",
      "[1] state[messages]: \n",
      "[HumanMessage(content='2024년 노벨 문학상 관련 뉴스를 알려주세요.', additional_kwargs={}, response_metadata={}, id='1d375a48-06eb-4ddb-ba82-d80d012db3fe')]\n",
      "\n",
      "[2] chatbot answer: \n",
      " \n",
      "[3] answer.additional_kwargs: \n",
      " {'tool_calls': [{'id': 'call_Kdy1ELq7XbyI9ZsM9kZQAR8t', 'function': {'arguments': '{\"query\":\"2024 Nobel Prize in Literature\"}', 'name': 'search_keyword'}, 'type': 'function'}], 'refusal': None}\n",
      "=================================================================================\n",
      "\n",
      "[__interrupt__]\n",
      "\n",
      "dict_keys(['messages', 'dummy_data'])\n",
      "[AIMessage(content='', additional_kwargs={'tool_calls': [{'id': 'call_Kdy1ELq7XbyI9ZsM9kZQAR8t', 'function': {'arguments': '{\"query\":\"2024 Nobel Prize in Literature\"}', 'name': 'search_keyword'}, 'type': 'function'}], 'refusal': None}, response_metadata={'token_usage': {'completion_tokens': 20, 'prompt_tokens': 57, 'total_tokens': 77, 'completion_tokens_details': {'accepted_prediction_tokens': 0, 'audio_tokens': 0, 'reasoning_tokens': 0, 'rejected_prediction_tokens': 0}, 'prompt_tokens_details': {'audio_tokens': 0, 'cached_tokens': 0}}, 'model_name': 'gpt-4o-mini-2024-07-18', 'system_fingerprint': 'fp_709714d124', 'finish_reason': 'tool_calls', 'logprobs': None}, id='run-6659aa2e-1c96-495a-9f9a-284fc79ddde9-0', tool_calls=[{'name': 'search_keyword', 'args': {'query': '2024 Nobel Prize in Literature'}, 'id': 'call_Kdy1ELq7XbyI9ZsM9kZQAR8t', 'type': 'tool_call'}], usage_metadata={'input_tokens': 57, 'output_tokens': 20, 'total_tokens': 77, 'input_token_details': {'audio': 0, 'cache_read': 0}, 'output_token_details': {'audio': 0, 'reasoning': 0}})]\n",
      "메시지 개수: 1\n",
      "\n",
      "[__interrupt__]\n",
      "\n",
      "dict_keys(['messages'])\n",
      "[ToolMessage(content='[{\"url\": \"https://news.google.com/rss/articles/CBMiigFBVV95cUxNblM5bndNclA5Q0J2RW9NZ09XRTdyZ0ZhZ3diZUpodEU2WlhaVzFVZ3doZjI1ZEF6dGF5SnVQUVdCdF9tNUJnWjZ1LV8xTlNqT01xZmFaQ2NNNVdkM1RtR0ZCb0tDUzVZQk5oLVp1d1dpX2x2V2g4R3dKV0V3NVNvclRNa3VOSjIxWWc?oc=5\", \"content\": \"Nobel Prize in Literature 2024 - NobelPrize.org\"}]', name='search_keyword', id='daa26393-3330-4d86-9748-20142d4f577d', tool_call_id='call_Kdy1ELq7XbyI9ZsM9kZQAR8t')]\n",
      "메시지 개수: 1\n",
      "\n",
      "[__interrupt__]\n",
      "\n"
     ]
    }
   ],
   "source": [
    "question = \"2024년 노벨 문학상 관련 뉴스를 알려주세요.\"\n",
    "\n",
    "input = State(dummy_data=\"테스트 문자열\", messages=[(\"user\", question)])\n",
    "\n",
    "# config 설정\n",
    "config = RunnableConfig(\n",
    "    recursion_limit=10,                 \n",
    "    configurable={\"thread_id\": \"22\"},  \n",
    "    tags=[\"my-rag\"],  # Tag\n",
    ")\n",
    "\n",
    "for event in graph.stream(\n",
    "    input=input,\n",
    "    config=config,\n",
    "    stream_mode=\"updates\",\n",
    "    interrupt_after=[\"tools\"],  # tools 실행 후 interrupt\n",
    "):\n",
    "    for value in event.values():\n",
    "        # key 는 노드 이름\n",
    "        print(f\"\\n[{key}]\\n\")\n",
    "\n",
    "        if isinstance(value, dict):\n",
    "            # value 는 노드의 출력값\n",
    "            print(value.keys())\n",
    "            if \"messages\" in value:\n",
    "                print(value[\"messages\"])\n",
    "\n",
    "        # value 에는 state 가 dict 형태로 저장(values 의 key 값)\n",
    "        if \"messages\" in value:\n",
    "            print(f\"메시지 개수: {len(value['messages'])}\")"
   ]
  }
 ],
 "metadata": {
  "kernelspec": {
   "display_name": "venv",
   "language": "python",
   "name": "python3"
  },
  "language_info": {
   "codemirror_mode": {
    "name": "ipython",
    "version": 3
   },
   "file_extension": ".py",
   "mimetype": "text/x-python",
   "name": "python",
   "nbconvert_exporter": "python",
   "pygments_lexer": "ipython3",
   "version": "3.11.9"
  }
 },
 "nbformat": 4,
 "nbformat_minor": 2
}
