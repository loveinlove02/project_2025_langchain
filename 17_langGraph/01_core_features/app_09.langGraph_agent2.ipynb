{
 "cells": [
  {
   "cell_type": "code",
   "execution_count": null,
   "metadata": {},
   "outputs": [],
   "source": [
    "from dotenv import load_dotenv\n",
    "import os\n",
    "\n",
    "load_dotenv(verbose=True)\n",
    "key = os.getenv('OPENAI_API_KEY')"
   ]
  },
  {
   "cell_type": "code",
   "execution_count": 1,
   "metadata": {},
   "outputs": [],
   "source": [
    "from typing import Annotated\n",
    "from typing_extensions import TypedDict\n",
    "from langgraph.graph.message import add_messages"
   ]
  },
  {
   "cell_type": "code",
   "execution_count": 2,
   "metadata": {},
   "outputs": [],
   "source": [
    "from langchain_openai import ChatOpenAI\n",
    "from langgraph.graph import StateGraph\n",
    "from langchain_teddynote.tools.tavily import TavilySearch"
   ]
  },
  {
   "cell_type": "code",
   "execution_count": 3,
   "metadata": {},
   "outputs": [],
   "source": [
    "from langchain.schema import HumanMessage, AIMessage\n",
    "from langchain_core.messages import ToolMessage"
   ]
  },
  {
   "cell_type": "code",
   "execution_count": 4,
   "metadata": {},
   "outputs": [],
   "source": [
    "class State(TypedDict):\n",
    "    messages: Annotated[list, add_messages]"
   ]
  },
  {
   "cell_type": "code",
   "execution_count": 5,
   "metadata": {},
   "outputs": [
    {
     "ename": "NameError",
     "evalue": "name 'key' is not defined",
     "output_type": "error",
     "traceback": [
      "\u001b[1;31m---------------------------------------------------------------------------\u001b[0m",
      "\u001b[1;31mNameError\u001b[0m                                 Traceback (most recent call last)",
      "Cell \u001b[1;32mIn[5], line 2\u001b[0m\n\u001b[0;32m      1\u001b[0m llm \u001b[38;5;241m=\u001b[39m ChatOpenAI( \n\u001b[1;32m----> 2\u001b[0m     api_key\u001b[38;5;241m=\u001b[39m\u001b[43mkey\u001b[49m, \n\u001b[0;32m      3\u001b[0m     model_name\u001b[38;5;241m=\u001b[39m\u001b[38;5;124m'\u001b[39m\u001b[38;5;124mgpt-4o-mini\u001b[39m\u001b[38;5;124m'\u001b[39m,\n\u001b[0;32m      4\u001b[0m     temperature\u001b[38;5;241m=\u001b[39m\u001b[38;5;241m0.1\u001b[39m\n\u001b[0;32m      5\u001b[0m )\n",
      "\u001b[1;31mNameError\u001b[0m: name 'key' is not defined"
     ]
    }
   ],
   "source": [
    "llm = ChatOpenAI( \n",
    "    api_key=key, \n",
    "    model_name='gpt-4o-mini',\n",
    "    temperature=0.1\n",
    ")"
   ]
  },
  {
   "cell_type": "code",
   "execution_count": null,
   "metadata": {},
   "outputs": [],
   "source": [
    "tool = TavilySearch(max_results=1)      # 검색 도구 생성\n",
    "tools = [tool]                          # 도구 목록에 넣기  "
   ]
  },
  {
   "cell_type": "code",
   "execution_count": null,
   "metadata": {},
   "outputs": [],
   "source": [
    "# LLM 에 도구 바인딩\n",
    "llm_with_tools = llm.bind_tools(tools)"
   ]
  },
  {
   "cell_type": "code",
   "execution_count": null,
   "metadata": {},
   "outputs": [],
   "source": [
    "def chatbot(state: State):\n",
    "    print(f'=='*50)\n",
    "    print('===== chatbot() 함수 시작 =====')\n",
    "    print(f\"chatbot() 으로 넘어온 메시지 :\")\n",
    "    print(state['messages'])\n",
    "    print()\n",
    "\n",
    "    answer = llm_with_tools.invoke(state['messages'])\n",
    "\n",
    "    print(f'[도구 사용 LLM 실행 결과 content]: {answer.content}')\n",
    "    print(f'[도구 사용 LLM 실행 결과 answer]: {answer}')\n",
    "    print(f'[도구 사용 LLM 실행 결과 additional_kwargs]: {answer.additional_kwargs}')\n",
    "\n",
    "    print('===== chatbot() 함수  끝 =====')\n",
    "    print(f'=='*50)\n",
    "    print()\n",
    "\n",
    "    return {'messages': [answer]}"
   ]
  },
  {
   "cell_type": "code",
   "execution_count": null,
   "metadata": {},
   "outputs": [
    {
     "name": "stdout",
     "output_type": "stream",
     "text": [
      "====================================================================================================\n",
      "===== chatbot() 함수 시작 =====\n",
      "chatbot() 으로 넘어온 메시지 :\n",
      "[('user', '대구의 유명한 맛집을 알려줘.')]\n",
      "\n",
      "[도구 사용 LLM 실행 결과 content]: \n",
      "[도구 사용 LLM 실행 결과 answer]: content='' additional_kwargs={'tool_calls': [{'id': 'call_F6dcOhU7VEXMJrY8EXy4027i', 'function': {'arguments': '{\"query\":\"대구 유명 맛집\"}', 'name': 'tavily_web_search'}, 'type': 'function'}], 'refusal': None} response_metadata={'token_usage': {'completion_tokens': 22, 'prompt_tokens': 102, 'total_tokens': 124, 'completion_tokens_details': {'accepted_prediction_tokens': 0, 'audio_tokens': 0, 'reasoning_tokens': 0, 'rejected_prediction_tokens': 0}, 'prompt_tokens_details': {'audio_tokens': 0, 'cached_tokens': 0}}, 'model_name': 'gpt-4o-mini-2024-07-18', 'system_fingerprint': 'fp_3267753c5d', 'finish_reason': 'tool_calls', 'logprobs': None} id='run-f7fed7c7-678c-40e7-852d-5ea7ad7652e8-0' tool_calls=[{'name': 'tavily_web_search', 'args': {'query': '대구 유명 맛집'}, 'id': 'call_F6dcOhU7VEXMJrY8EXy4027i', 'type': 'tool_call'}] usage_metadata={'input_tokens': 102, 'output_tokens': 22, 'total_tokens': 124, 'input_token_details': {'audio': 0, 'cache_read': 0}, 'output_token_details': {'audio': 0, 'reasoning': 0}}\n",
      "[도구 사용 LLM 실행 결과 additional_kwargs]: {'tool_calls': [{'id': 'call_F6dcOhU7VEXMJrY8EXy4027i', 'function': {'arguments': '{\"query\":\"대구 유명 맛집\"}', 'name': 'tavily_web_search'}, 'type': 'function'}], 'refusal': None}\n",
      "===== chatbot() 함수  끝 =====\n",
      "====================================================================================================\n",
      "\n"
     ]
    }
   ],
   "source": [
    "question = \"대구의 유명한 맛집을 알려줘.\"\n",
    "\n",
    "state1 = State(messages=[('user', question)])\n",
    "answer_state = chatbot(state1)"
   ]
  },
  {
   "cell_type": "code",
   "execution_count": null,
   "metadata": {},
   "outputs": [
    {
     "data": {
      "text/plain": [
       "{'messages': [AIMessage(content='', additional_kwargs={'tool_calls': [{'id': 'call_F6dcOhU7VEXMJrY8EXy4027i', 'function': {'arguments': '{\"query\":\"대구 유명 맛집\"}', 'name': 'tavily_web_search'}, 'type': 'function'}], 'refusal': None}, response_metadata={'token_usage': {'completion_tokens': 22, 'prompt_tokens': 102, 'total_tokens': 124, 'completion_tokens_details': {'accepted_prediction_tokens': 0, 'audio_tokens': 0, 'reasoning_tokens': 0, 'rejected_prediction_tokens': 0}, 'prompt_tokens_details': {'audio_tokens': 0, 'cached_tokens': 0}}, 'model_name': 'gpt-4o-mini-2024-07-18', 'system_fingerprint': 'fp_3267753c5d', 'finish_reason': 'tool_calls', 'logprobs': None}, id='run-f7fed7c7-678c-40e7-852d-5ea7ad7652e8-0', tool_calls=[{'name': 'tavily_web_search', 'args': {'query': '대구 유명 맛집'}, 'id': 'call_F6dcOhU7VEXMJrY8EXy4027i', 'type': 'tool_call'}], usage_metadata={'input_tokens': 102, 'output_tokens': 22, 'total_tokens': 124, 'input_token_details': {'audio': 0, 'cache_read': 0}, 'output_token_details': {'audio': 0, 'reasoning': 0}})]}"
      ]
     },
     "execution_count": 89,
     "metadata": {},
     "output_type": "execute_result"
    }
   ],
   "source": [
    "answer_state"
   ]
  },
  {
   "cell_type": "code",
   "execution_count": null,
   "metadata": {},
   "outputs": [],
   "source": [
    "from langgraph.graph import StateGraph, START, END\n",
    "import json\n",
    "\n",
    "def route_tools(state: State):\n",
    "    if messages := state.get('messages', []):\n",
    "        ai_message = messages[-1]\n",
    "    else:\n",
    "        raise ValueError(f\"No messages found in input state to tool_edge: {state}\")\n",
    "    \n",
    "    print()\n",
    "    print('===== 라우터 노드 =====')\n",
    "    print(f\"라우터 노드로 넘어온 chatbot() 에서 생성한 state 메시지: \")\n",
    "    print(ai_message.additional_kwargs)\n",
    "\n",
    "    if hasattr(ai_message, 'tool_calls') and len(ai_message.tool_calls) > 0:\n",
    "        print(f'라우터 [tools] -> {ai_message.tool_calls}')\n",
    "        print(f'라우터 리턴: tools')\n",
    "        print('===== 라우터 노드 끝 =====')\n",
    "        print()\n",
    "\n",
    "        return 'tools'\n",
    "    \n",
    "    \n",
    "    print(f'라우터 리턴: {END}')\n",
    "    print('===== 라우터 노드 끝 =====')\n",
    "    print()\n",
    "    \n",
    "    return END    "
   ]
  },
  {
   "cell_type": "code",
   "execution_count": null,
   "metadata": {},
   "outputs": [
    {
     "name": "stdout",
     "output_type": "stream",
     "text": [
      "\n",
      "===== 라우터 노드 =====\n",
      "라우터 노드로 넘어온 chatbot() 에서 생성한 state 메시지: \n",
      "{'tool_calls': [{'id': 'call_k6ljrhTRP8dz8FwNrtbyyG3K', 'function': {'arguments': '{\"query\": \"\\\\ub300\\\\ud55c\\\\ubbfc\\\\uad6d \\\\uc218\\\\ub3c4\"}', 'name': 'tavily_web_search'}, 'type': 'function'}], 'refusal': None}\n",
      "라우터 [tools] -> [{'name': 'tavily_web_search', 'args': {'query': '대한민국 수도'}, 'id': 'call_k6ljrhTRP8dz8FwNrtbyyG3K', 'type': 'tool_call'}]\n",
      "라우터 리턴: tools\n",
      "===== 라우터 노드 끝 =====\n",
      "\n"
     ]
    },
    {
     "data": {
      "text/plain": [
       "'tools'"
      ]
     },
     "execution_count": 116,
     "metadata": {},
     "output_type": "execute_result"
    }
   ],
   "source": [
    "state_with_tools = {\n",
    "    \"messages\": [\n",
    "        HumanMessage(\n",
    "            content=\"대한민국 수도에 대해서 검색해줘\",\n",
    "            id='6e0ff6a0-d790-42a0-ae24-28172c7feabc'\n",
    "        ),\n",
    "        AIMessage(\n",
    "            content=\"\",\n",
    "            tool_calls=[{\n",
    "                \"name\": \"tavily_web_search\",                        \n",
    "                \"args\": {\"query\": \"대한민국 수도\"},\n",
    "                \"id\": \"call_k6ljrhTRP8dz8FwNrtbyyG3K\"\n",
    "            }],\n",
    "            additional_kwargs={\n",
    "                \"tool_calls\": [{\n",
    "                    \"id\": \"call_k6ljrhTRP8dz8FwNrtbyyG3K\",\n",
    "                    \"function\": {\n",
    "                        \"arguments\": json.dumps({\"query\": \"대한민국 수도\"}),\n",
    "                        \"name\": \"tavily_web_search\"                     \n",
    "                    },\n",
    "                    \"type\": \"function\"\n",
    "                }],\n",
    "                \"refusal\": None\n",
    "            },\n",
    "            response_metadata={\n",
    "                \"token_usage\": {\n",
    "                    \"completion_tokens\": 20,\n",
    "                    \"prompt_tokens\": 99,\n",
    "                    \"total_tokens\": 119\n",
    "                },\n",
    "                \"model_name\": \"gpt-4o-mini-2024-07-18\"\n",
    "            },\n",
    "            id='run-164b42b2-a16c-4ea8-8a2e-94da55991426-0'\n",
    "        )\n",
    "    ]\n",
    "}\n",
    "\n",
    "\n",
    "route_tools(state_with_tools)"
   ]
  },
  {
   "cell_type": "code",
   "execution_count": null,
   "metadata": {},
   "outputs": [],
   "source": [
    "import json\n",
    "from langchain_core.messages import ToolMessage\n",
    "\n",
    "class BasicToolNode:\n",
    "    \"\"\"Run tools requested in the last AIMessage node\"\"\"\n",
    "\n",
    "    def __init__(self, tools: list) -> None:\n",
    "        self.tools_list = {tool.name: tool for tool in tools}\n",
    "        print(f'======================================================')\n",
    "        print('[BasicToolNode]')\n",
    "        print('도구 호출 생성자')\n",
    "        print(f'tools_list: {self.tools_list}')\n",
    "        print(f'======================================================')\n",
    "    \n",
    "    def __call__(self, inputs: dict):\n",
    "        if messages := inputs.get('messages', []):\n",
    "            message = messages[-1]\n",
    "        else:\n",
    "            raise ValueError('No message found in input')\n",
    "        \n",
    "        print()\n",
    "        print(f'======================================================')\n",
    "        print('[BasicToolNode] call')\n",
    "        #print('도구 호출로 갔을 때')\n",
    "        #print('message.tool_calls:', message.tool_calls)\n",
    "        #print(f'======================================================')\n",
    "\n",
    "        outputs = []\n",
    "\n",
    "        for tool_call in message.tool_calls:    # message의 tool_calls 속성이 있는것은 도구 호출을 필요한 메시지가 있는 경우\n",
    "            print(f'도구 호출이 필요한 경우: ')\n",
    "            # print(f'도구 호출 : {tool_call}')\n",
    "            print(f\"도구 호출 이름: {tool_call['name']}\")\n",
    "            print(f\"도구 호출 인자 : {tool_call['args']}\")\n",
    "\n",
    "            tool_result = self.tools_list[tool_call['name']].invoke(tool_call['args'])\n",
    "            print(f'도구 호출 결과 : {tool_result}')                                            \n",
    "        \n",
    "            outputs.append(\n",
    "                ToolMessage(\n",
    "                    content=json.dumps(tool_result, ensure_ascii=False), \n",
    "                    name=tool_call['name'], \n",
    "                    tool_call_id=tool_call['id']\n",
    "                )\n",
    "            )\n",
    "            \n",
    "        print('[BasicToolNode] call 끝')\n",
    "        print(f'======================================================')\n",
    "        print()\n",
    "\n",
    "        return {'messages': outputs}    "
   ]
  },
  {
   "cell_type": "code",
   "execution_count": null,
   "metadata": {},
   "outputs": [
    {
     "name": "stdout",
     "output_type": "stream",
     "text": [
      "======================================================\n",
      "[BasicToolNode]\n",
      "도구 호출 생성자\n",
      "tools_list: {'tavily_web_search': TavilySearch(client=<tavily.tavily.TavilyClient object at 0x00000243A22A5010>, max_results=1)}\n",
      "======================================================\n"
     ]
    }
   ],
   "source": [
    "# 도구 노드 생성\n",
    "tool_node = BasicToolNode(tools=[tool])   "
   ]
  },
  {
   "cell_type": "code",
   "execution_count": null,
   "metadata": {},
   "outputs": [],
   "source": [
    "from langchain_core.runnables import RunnableLambda\n",
    "\n",
    "tool_node_runnable = RunnableLambda(tool_node)"
   ]
  },
  {
   "cell_type": "code",
   "execution_count": null,
   "metadata": {},
   "outputs": [
    {
     "name": "stdout",
     "output_type": "stream",
     "text": [
      "\n",
      "======================================================\n",
      "[BasicToolNode] call\n",
      "도구 호출이 필요한 경우: \n",
      "도구 호출 이름: tavily_web_search\n",
      "도구 호출 인자 : {'query': '대구 맛집'}\n",
      "도구 호출 결과 : [{'title': '대구 맛집 베스트10 추천 2025 가성비 현지인 숨은 순위', 'url': 'https://jdblue2022.tistory.com/entry/대구-맛집-베스트10', 'content': '바다문의 세상소식 맛집/경상맛집 오늘은 팔공산과 이월드 83 타워, 서문시장으로 유명한 대구광역시의 소문난 대구 맛집 베스트 10곳을 소개해드리고자 하는데\\xa0양대 포털의\\xa0플레이스를 중심으로 순위를 취합하여 가성비 좋고 현지인들이 많이 찾는 대구 숨은 맛집과 대표적인 대구 먹거리인 대구 막창과 연탄 불고기, 중화 비빔밥 등을\\xa0묶어서 대구 맛집 순위를 정리해드리고자 합니다. 기본적인 맛집 선정 기준은 양대 검색 포털인 네이버(50%)를 비롯해 구글(50%)의 플레이스 순위를 반영하여 선정하였습니다. 대구 맛집 베스트10 주요 메뉴 네이버 50%+구글 50% 반영 왕거미식당(네이버 2위, 구글 3위) 매장 위치 매장 위치 매장 위치 매장 위치 주말이나 공휴일의 경우 웨이팅이 많이 걸리기 때문에 줄 서서 먹는 중식당으로 탕수육과 야끼우동에 대한 평이 좋아 중식 요리 좋아하는 분들이 가볼 만한 대구 현지인 가성비 맛집입니다. 매장 위치 매장 위치 매장 위치 매장 위치 매장 위치 매장 위치 세상소식', 'score': 0.8467682, 'raw_content': \"Published Time: 2025-01-26T07:00:57+09:00\\n본문 바로가기\\n바다문의 세상소식\\n검색\\n홈\\n태그\\n맛집/경상맛집\\n대구 맛집 베스트10 추천 2025 가성비 현지인 숨은 순위\\nby 바다문 2025. 1. 26.\\n오늘은 팔공산과 이월드 83 타워, 서문시장으로 유명한 대구광역시의 소문난 대구 맛집 베스트 10곳을 소개해드리고자 하는데\\xa0양대 포털의\\xa0플레이스를 중심으로 순위를 취합하여 가성비 좋고 현지인들이 많이 찾는 대구 숨은 맛집과 대표적인 대구 먹거리인 대구 막창과 연탄 불고기, 중화 비빔밥 등을\\xa0묶어서 대구 맛집 순위를 정리해드리고자 합니다.\\n기본적인 맛집 선정 기준은 양대 검색 포털인 네이버(50%)를 비롯해 구글(50%)의 플레이스 순위를 반영하여 선정하였습니다. 각 포털의 검색 기준은 네이버의 경우 최근 사람들이 많이 찾는 최신 핫플이 반영되어 있고, 구글은 전통적인 현지인 가성비 맛집 중심으로 순위가 정리된다고 보시면 되겠습니다.\\n그럼 객관적으로 정리한 대구 맛집 베스트 10 함께 보실까요!\\n대구 맛집 베스트10 주요 메뉴\\n대구 맛집 순위 10곳 정리\\n네이버 50%+구글 50% 반영\\n포털 기준 - 네이버(핫플 반영) / 구글(현지인 가성비 맛집)\\n왕거미식당(네이버 2위, 구글 3위)\\n8번식당 본점(네이버 3위, 구글 6위)\\n수봉반점(네이버 12위, 구글 5위)\\n신라식당(네이버 6위, 구글 12위)\\n리안(네이버 1위)\\n옛집식당(구글 4위)\\n전원돈까스(네이버 4위)\\n조조칼국수 본점(구글 7위)\\n아리조나막창(네이버 9위)\\n단골식당(구글 10위)\\n\\n\\n양대 포털에 고르게 노출된 곳 우대\\n\\n\\n가성비 좋은 음식점 우대(신규 음식점 제외)\\n\\n\\n*\\xa0생활의 달인·식객 허영만·백종원의 3대천왕\\xa0우대\\n\\n\\n네이버 어뷰징 업체 제외\\n\\n\\n구글 평점 높은 곳 우대\\n\\n\\n지역 카페 제외\\n\\n\\n왕거미식당(백종원의 3대 천왕)\\n\\n\\n대구 왕거미식당 플레이스(구글 평점 3.9)\\n매장 소개\\n가장 먼저 소개해드릴 대구 맛집은 동인동 골목에서 30년 이상 영업해 온 뭉티기 전문점 왕거미식당입니다. 국내산 육우와 한우만을 재료로 사용하여 퀄리티 좋은 오드레기와 생고기 (뭉티기) 그리고 대창구이가 대표 메뉴인데요. 생생정보를 비롯해 생방송투데이와 백종원의 3대 천왕에도 소개될 만큼 대구에선 입소문이 자자한 대구 현지인 맛집으로 생고기와 육회, 오드레기 먹으러 가기 좋은 대구 현지인 로컬 맛집입니다.\\n메뉴 소개\\n\\n\\n생고기(평일 한정) 50,000원\\n\\n\\n오드레기 50,000원\\n\\n\\n대창구이 40,000원\\n\\n\\n혓바닥 40,000원\\n\\n\\n대구 왕거미식당 메뉴 이미지\\n매장 위치\\n\\n8번식당 본점(돼지국밥 맛집)\\n\\n대구 8번식당 플레이스(구글 평점 4.2)\\n매장 소개\\n이어서 소개해드릴 대구 맛집은 동성로 중앙로역 근처에 위치하고 있는 순대국밥 전문점 8번 식당 본점입니다. 생방송오늘저녁과 생생정보통 TV 방송에 소개되었던 동성로 국밥 맛집으로 48년 전통을 자랑하는 대구 로컬 식당인데요. 진한 국물의 돼지국밥을 대표 메뉴로 순대국밥과 막창순대 그리고 모둠 수육까지 퀄리티 좋은 국밥과 수육을 드실 수 있는 블루리본 서베이도 10회 이상 수록된 대구 동성로 현지인 맛집입니다.\\n메뉴 소개\\n\\n\\n고기국밥 9,000원\\n\\n\\n순대국밥 9,000원\\n\\n\\n섞어국밥 9,000원\\n\\n\\n정식 13,000원\\n\\n\\n8번식당 메뉴 이미지\\n매장 위치\\n\\n수봉반점(백종원의 3대 천왕)\\n\\n대구 수봉반점 플레이스(구글 평점 4.3)\\n매장 소개\\n이어지는 대구 맛집은 칠성시장 근처에 위치하고 있는 짬뽕 중화비빔밥 전문 중식당 수봉반점입니다. 백종원의 3대 천왕과 생방송투데이, 생방송오늘저녁 TV 방송에 소개되었던 대구 짬뽕 맛집으로 유명한 중식당인데요. 대구 현지인들도 많이 찾는 로컬 식당으로 얼큰한 국물의 짬뽕과 함께 매콤한 중화 비빔밥이 별미라서 웨이팅도 자주 걸려 줄 서서 먹는 대구 칠성시장 맛집입니다.\\n메뉴 소개\\n\\n\\n짬뽕밥 10,000원\\n\\n\\n짬뽕 10,000원\\n\\n\\n중화비빔밥 10,000원\\n\\n\\n중화비빔면 10,000원\\n\\n\\n대구 수봉반점 메뉴 이미지\\n매장 위치\\n\\n신라식당(낙지볶음 맛집)\\n\\n대구 신라식당 플레이스(구글 평점 4.1)\\n매장 소개\\n이어지는 대구 맛집은 대구 중앙로역 2번 출구 근처에 위치하고 있는 낙지볶음 전문점 신라식당입니다. 1985년부터 영업을 해온 40년 전통의 대구 로컬 식당으로 항상 웨이팅이 길어 줄서서 먹는 동성로 낙지볶음 맛집인데요. 돌판에 매콤하게 볶아서 나오는 돌판 낙지볶음을 대표 메뉴로 새우볶음, 양볶음까지 공깃밥과 함께 밥 비벼서 매콤하게 드시기 좋은 대구 동성로 현지인 맛집입니다.\\n메뉴 소개\\n\\n\\n돌판 낙지볶음 14,000원\\n\\n\\n돌판낙지·새우볶음 16,000원\\n\\n\\n돌판낙지·양볶음 15,000원\\n\\n\\n돌판새우·양볶음 15,000원\\n\\n\\n대구 신라식당 메뉴 이미지\\n매장 위치\\n\\n리안(네이버\\xa01위)\\n\\n대구 리안 플레이스(구글 평점 4.3)\\n매장 소개\\n이어지는 대구 맛집은 수성구 수성대학교 근처에 자리 잡고 있는 중식당 리안입니다. 야끼우동과 찹쌀 탕수육으로 유명한 이곳은 매콤 달콤한 소스에 새우와 오징어 등의 해산물과 야채를 볶아서 면과 따로 나오는 야끼우동이 대표 메뉴인데요. 주말이나 공휴일의 경우 웨이팅이 많이 걸리기 때문에 줄 서서 먹는 중식당으로 탕수육과 야끼우동에 대한 평이 좋아 중식 요리 좋아하는 분들이 가볼 만한 대구 현지인 가성비 맛집입니다.\\n메뉴 소개\\n\\n\\n짜장면 6,000원\\n\\n\\n짬뽕 8,000원\\n\\n\\n야끼우동 9,000원\\n\\n\\n탕수육(소) 17,000원\\n\\n\\n대구 리안 메뉴 이미지\\n매장 위치\\n\\n옛집식당(육개장 맛집)\\n\\n대구 옛집식당 플레이스(구글 평점 4.3)\\n매장 소개\\n이어지는 대구 맛집은 서문시장 근처에 위치하고 있는 육개장 전문 로컬 식당인 옛집식당입니다. 60년 전 서문시장 골목 안에 자리한 가정집에 차려진 육개장 전문점으로 국내산 육우를 사용해 얼큰하게 끓여 내는 육개장이 유명한 대구 육개장 맛집인데요. 현지인들도 즐겨 찾는 대구 현지인 숨은 맛집으로 전현무계획에도 소개될 만큼 깔끔한 반찬과 칼칼하고 시원한 국물의 육개장이 유명한 대구 서문시장 맛집입니다.\\n메뉴 소개\\n\\n육개장 10,000원\\n\\n대구 옛집식당 메뉴 이미지\\n매장 위치\\n\\n전원돈까스(왕돈가스 맛집)\\n\\n대구 전원돈까스 플레이스(구글 평점 4.2)\\n매장 소개\\n이어지는 대구 맛집은 대구 중앙로역 2번 출구 근처에 위치하고 있는 동성로 경양식 돈가스 전문점 전원돈까스입니다. 45년 전통을 자랑하는 동성로 로컬 식당으로 옛날식 정통 경양식 돈가스가 유명한 대구 돈까스 맛집인데요. 주말이나 공휴일 항상 웨이팅이 걸려 줄 서서 먹는 대구 로컬 식당으로 친구나 연인은 물론 아이랑 함께 가족 단위로 점심 식사하기 좋은 대구 동성로 현지인 로컬 맛집입니다.\\n메뉴 소개\\n\\n\\n돈가스 9,000원\\n\\n\\n치즈돈가스 10,500원\\n\\n\\n함박스택 11,000원\\n\\n\\n비후가스 12,000원\\n\\n\\n대구 전원돈까스 메뉴 이미지\\n매장 위치\\n\\n조조칼국수\\xa0본점(\\n\\n대구 조조칼국수 플레이스(구글 평점 4.3)\\n매장 소개\\n이어지는 대구 맛집은 동대구역 근처 범어동에 위치하고 있는 동죽 칼국수 전문점 조조칼국수 본점입니다. 맛있는 녀석들과 생방송투데이에 소개되었던 대구 칼국수 맛집으로 여러 개의 지점도 보유하고 있는 칼국수집인데요. 대표 메뉴로 동죽이 들어간 물총 칼국수와 물총 조개탕에 낙지가 들어간 해물파전으로 시원한 국물의 동죽 칼국수나 해물파전 좋아하는 분들이 가볼 만한 대구 동대구역 근처 맛집입니다.\\n메뉴 소개\\n\\n\\n물총(동죽) 칼국수 9,000원\\n\\n\\n물총(동죽) 조개탕 12,000원\\n\\n\\n낙지파전 14,000원\\n\\n\\n대구 조조칼국수 메뉴 이미지\\n매장 위치\\n\\n아리조나막창(대구막창 맛집)\\n\\n대구 아리조나막창 플레이스(구글 평점 3.9)\\n매장 소개\\n이어지는 대구 맛집은 수성못 근처에 위치하고 있는 막창 전문점 대구아리조나막창입니다. 넓고 깔끔한 인테리어에 풍자 또간집에서도 다녀가 대구 현지인은 물론 관광객들도 많이 찾는 대구 3대 막창 맛집 중 하나인데요. 블루리본 서베이 인증도 2014년부터 11년 연속 선정되며 대구를 대표하는 수성못 막창 맛집으로 쫄깃하고 고소한 맛의 돼지막창과 소막창으로 술 한잔 하며 식사하기 좋은 대구 현지인 막창 맛집입니다.\\n메뉴 소개\\n\\n\\n국내산 생막창 12,000원\\n\\n\\n국내산 소막창 21,000원\\n\\n\\n차돌박이 15,500원\\n\\n\\n양념불닭발(2인분) 23,000원\\n\\n\\n대구아리조나막창 메뉴 이미지\\n매장 위치\\n\\n단골식당(백종원의 3대 천왕)\\n\\n대구 단골식당 플레이스(구글 평점 4.1)\\n매장 소개\\n마지막으로 소개해드릴 대구 맛집은 칠성시장역 근처에 위치한 연탄불고기 전문점 단골식당입니다. 백종원의 3대 천왕을 비롯해 생생정보, 놀라운 토요일, 생방송투데이 TV 방송에 여러 차례 소개되었던 대구 가성비 연탄불고기 맛집인데요. 60년 전통을 자랑하는 대구 로컬 식당으로 블루리본 서베이에도 10회 연속 선정될 정도로 대구 현지인들도 즐겨 찾는 불향 가득한 연탄불고기가 유명한 대구 가성비 현지인 맛집입니다.\\n메뉴 소개\\n\\n\\n간장불고기 7,000원\\n\\n\\n고추장불고기 8,000원\\n\\n\\n공깃밥 1,000원\\n\\n\\n대구 단골식당 메뉴 이미지\\n매장 위치\\n이렇게 오늘은 서문시장과 칠성시장이 있어 다양한 대구 먹거리를 드실 수 있는 대구광역시의 소문난 맛집 10곳을 네이버와 구글 양대 포털의 플레이스 순위를 기준으로 소개해드렸는데요.\\xa0지역 특색이 있는 먹거리로 대구 막창, 연탄 불고기에 뭉티기, 돼지국밥, 중화비빔밥, 짬뽕에 왕돈가스와 동죽 칼국수 등의 다양한 메뉴들이 있어 가족들과 함께 식사하기 좋은 대구 맛집 베스트 10이었습니다.\\n함께 보면 좋은 정보\\n대구 한정식 맛집 베스트10 가족외식 모임장소\\n오늘은 동성로와 수성못으로 유명한 대구광역시의 한정식 맛집 베스트 10곳을 소개해드리고자 하는데 양대 포털의\\xa0플레이스를 중심으로 현지에서 유명한 한정식 코스요리와 현지인 맛집도 함\\njdblue2022.tistory.com\\n대구 동성로 맛집 베스트10 추천 2024 플레이스 맛집\\n오늘은 대구광역시의 중심인 반월당역 근처에 위치한 대구 동성로의 소문난 맛집 베스트 10곳을 소개해드리고자 하는데\\xa0양대 포털의\\xa0플레이스를 중심으로 순위를 취합하여 동성로 로컬 맛집\\njdblue2022.tistory.com\\n경주 맛집 베스트10 추천 2025 가성비 리스트 순위\\n오늘은 보문단지와 황리단길에 불국사, 첨성대, 안압지로 유명한 소문난 경북 경주 맛집 베스트 10곳을 소개해드리고자 하는데\\xa0양대 포털의\\xa0플레이스를 중심으로 순위를 취합하여 대표적인 경\\njdblue2022.tistory.com\\n<이미지 출처. 네이버 플레이스>\\n'맛집 > 경상맛집' 카테고리의 다른 글\\n영덕 맛집 베스트10 추천 2025 플레이스 리스트 순위\\xa0\\xa0(0)    2025.01.31\\n양산 맛집 베스트10 추천 2025 플레이스 가성비 식당\\xa0\\xa0(0)    2025.01.28\\n울산 맛집 베스트10 추천 2025 플레이스 순위 리스트\\xa0\\xa0(0)    2025.01.25\\n남해 맛집 베스트10 추천 2025 가볼만한곳 리스트 순위\\xa0\\xa0(0)   2025.01.16\\n통영 맛집 베스트10 추천 2025 먹거리 리스트 순위\\xa0\\xa0(0) 2025.01.14\\n태그\\n대구가성비맛집, 대구동성로맛집, 대구맛집, 대구맛집베스트10, 대구맛집순위, 대구맛집추천, 대구먹거리, 대구서문시장맛집, 대구칠성시장맛집, 대구현지인맛집\\n관련글\\n영덕 맛집 베스트10 추천 2025 플레이스 리스트 순위\\n양산 맛집 베스트10 추천 2025 플레이스 가성비 식당\\n울산 맛집 베스트10 추천 2025 플레이스 순위 리스트\\n남해 맛집 베스트10 추천 2025 가볼만한곳 리스트 순위\\n댓글0\\n분류 전체보기 \\n맛집 \\n경기맛집\\n서울맛집\\n경상맛집 \\n전라맛집 \\n충청맛집\\n강원맛집\\n제주맛집\\n여행\\n베트남\\n제주지역\\n강원지역\\n경상지역\\n충청지역\\n전라지역\\n서울경기지역\\n세상소식\\n증권정보\\n할인정보\\n꿀팁정보\\n행사정보\\n생활정보\\n카드정보\\n재테크정보\\n영화정보\\n자동차정보\\nTOP\\nTEL. 02.1234.5678 / 경기 성남시 분당구 판교역로\\n© Kakao Corp.\"}]\n",
      "[BasicToolNode] call 끝\n",
      "======================================================\n",
      "\n",
      "- tavily_web_search: [{\"title\": \"대구 맛집 베스트10 추천 2025 가성비 현지인 숨은 순위\", \"url\": \"https://jdblue2022.tistory.com/entry/대구-맛집-베스트10\", \"content\": \"바다문의 세상소식 맛집/경상맛집 오늘은 팔공산과 이월드 83 타워, 서문시장으로 유명한 대구광역시의 소문난 대구 맛집 베스트 10곳을 소개해드리고자 하는데 양대 포털의 플레이스를 중심으로 순위를 취합하여 가성비 좋고 현지인들이 많이 찾는 대구 숨은 맛집과 대표적인 대구 먹거리인 대구 막창과 연탄 불고기, 중화 비빔밥 등을 묶어서 대구 맛집 순위를 정리해드리고자 합니다. 기본적인 맛집 선정 기준은 양대 검색 포털인 네이버(50%)를 비롯해 구글(50%)의 플레이스 순위를 반영하여 선정하였습니다. 대구 맛집 베스트10 주요 메뉴 네이버 50%+구글 50% 반영 왕거미식당(네이버 2위, 구글 3위) 매장 위치 매장 위치 매장 위치 매장 위치 주말이나 공휴일의 경우 웨이팅이 많이 걸리기 때문에 줄 서서 먹는 중식당으로 탕수육과 야끼우동에 대한 평이 좋아 중식 요리 좋아하는 분들이 가볼 만한 대구 현지인 가성비 맛집입니다. 매장 위치 매장 위치 매장 위치 매장 위치 매장 위치 매장 위치 세상소식\", \"score\": 0.8467682, \"raw_content\": \"Published Time: 2025-01-26T07:00:57+09:00\\n본문 바로가기\\n바다문의 세상소식\\n검색\\n홈\\n태그\\n맛집/경상맛집\\n대구 맛집 베스트10 추천 2025 가성비 현지인 숨은 순위\\nby 바다문 2025. 1. 26.\\n오늘은 팔공산과 이월드 83 타워, 서문시장으로 유명한 대구광역시의 소문난 대구 맛집 베스트 10곳을 소개해드리고자 하는데 양대 포털의 플레이스를 중심으로 순위를 취합하여 가성비 좋고 현지인들이 많이 찾는 대구 숨은 맛집과 대표적인 대구 먹거리인 대구 막창과 연탄 불고기, 중화 비빔밥 등을 묶어서 대구 맛집 순위를 정리해드리고자 합니다.\\n기본적인 맛집 선정 기준은 양대 검색 포털인 네이버(50%)를 비롯해 구글(50%)의 플레이스 순위를 반영하여 선정하였습니다. 각 포털의 검색 기준은 네이버의 경우 최근 사람들이 많이 찾는 최신 핫플이 반영되어 있고, 구글은 전통적인 현지인 가성비 맛집 중심으로 순위가 정리된다고 보시면 되겠습니다.\\n그럼 객관적으로 정리한 대구 맛집 베스트 10 함께 보실까요!\\n대구 맛집 베스트10 주요 메뉴\\n대구 맛집 순위 10곳 정리\\n네이버 50%+구글 50% 반영\\n포털 기준 - 네이버(핫플 반영) / 구글(현지인 가성비 맛집)\\n왕거미식당(네이버 2위, 구글 3위)\\n8번식당 본점(네이버 3위, 구글 6위)\\n수봉반점(네이버 12위, 구글 5위)\\n신라식당(네이버 6위, 구글 12위)\\n리안(네이버 1위)\\n옛집식당(구글 4위)\\n전원돈까스(네이버 4위)\\n조조칼국수 본점(구글 7위)\\n아리조나막창(네이버 9위)\\n단골식당(구글 10위)\\n\\n\\n양대 포털에 고르게 노출된 곳 우대\\n\\n\\n가성비 좋은 음식점 우대(신규 음식점 제외)\\n\\n\\n* 생활의 달인·식객 허영만·백종원의 3대천왕 우대\\n\\n\\n네이버 어뷰징 업체 제외\\n\\n\\n구글 평점 높은 곳 우대\\n\\n\\n지역 카페 제외\\n\\n\\n왕거미식당(백종원의 3대 천왕)\\n\\n\\n대구 왕거미식당 플레이스(구글 평점 3.9)\\n매장 소개\\n가장 먼저 소개해드릴 대구 맛집은 동인동 골목에서 30년 이상 영업해 온 뭉티기 전문점 왕거미식당입니다. 국내산 육우와 한우만을 재료로 사용하여 퀄리티 좋은 오드레기와 생고기 (뭉티기) 그리고 대창구이가 대표 메뉴인데요. 생생정보를 비롯해 생방송투데이와 백종원의 3대 천왕에도 소개될 만큼 대구에선 입소문이 자자한 대구 현지인 맛집으로 생고기와 육회, 오드레기 먹으러 가기 좋은 대구 현지인 로컬 맛집입니다.\\n메뉴 소개\\n\\n\\n생고기(평일 한정) 50,000원\\n\\n\\n오드레기 50,000원\\n\\n\\n대창구이 40,000원\\n\\n\\n혓바닥 40,000원\\n\\n\\n대구 왕거미식당 메뉴 이미지\\n매장 위치\\n\\n8번식당 본점(돼지국밥 맛집)\\n\\n대구 8번식당 플레이스(구글 평점 4.2)\\n매장 소개\\n이어서 소개해드릴 대구 맛집은 동성로 중앙로역 근처에 위치하고 있는 순대국밥 전문점 8번 식당 본점입니다. 생방송오늘저녁과 생생정보통 TV 방송에 소개되었던 동성로 국밥 맛집으로 48년 전통을 자랑하는 대구 로컬 식당인데요. 진한 국물의 돼지국밥을 대표 메뉴로 순대국밥과 막창순대 그리고 모둠 수육까지 퀄리티 좋은 국밥과 수육을 드실 수 있는 블루리본 서베이도 10회 이상 수록된 대구 동성로 현지인 맛집입니다.\\n메뉴 소개\\n\\n\\n고기국밥 9,000원\\n\\n\\n순대국밥 9,000원\\n\\n\\n섞어국밥 9,000원\\n\\n\\n정식 13,000원\\n\\n\\n8번식당 메뉴 이미지\\n매장 위치\\n\\n수봉반점(백종원의 3대 천왕)\\n\\n대구 수봉반점 플레이스(구글 평점 4.3)\\n매장 소개\\n이어지는 대구 맛집은 칠성시장 근처에 위치하고 있는 짬뽕 중화비빔밥 전문 중식당 수봉반점입니다. 백종원의 3대 천왕과 생방송투데이, 생방송오늘저녁 TV 방송에 소개되었던 대구 짬뽕 맛집으로 유명한 중식당인데요. 대구 현지인들도 많이 찾는 로컬 식당으로 얼큰한 국물의 짬뽕과 함께 매콤한 중화 비빔밥이 별미라서 웨이팅도 자주 걸려 줄 서서 먹는 대구 칠성시장 맛집입니다.\\n메뉴 소개\\n\\n\\n짬뽕밥 10,000원\\n\\n\\n짬뽕 10,000원\\n\\n\\n중화비빔밥 10,000원\\n\\n\\n중화비빔면 10,000원\\n\\n\\n대구 수봉반점 메뉴 이미지\\n매장 위치\\n\\n신라식당(낙지볶음 맛집)\\n\\n대구 신라식당 플레이스(구글 평점 4.1)\\n매장 소개\\n이어지는 대구 맛집은 대구 중앙로역 2번 출구 근처에 위치하고 있는 낙지볶음 전문점 신라식당입니다. 1985년부터 영업을 해온 40년 전통의 대구 로컬 식당으로 항상 웨이팅이 길어 줄서서 먹는 동성로 낙지볶음 맛집인데요. 돌판에 매콤하게 볶아서 나오는 돌판 낙지볶음을 대표 메뉴로 새우볶음, 양볶음까지 공깃밥과 함께 밥 비벼서 매콤하게 드시기 좋은 대구 동성로 현지인 맛집입니다.\\n메뉴 소개\\n\\n\\n돌판 낙지볶음 14,000원\\n\\n\\n돌판낙지·새우볶음 16,000원\\n\\n\\n돌판낙지·양볶음 15,000원\\n\\n\\n돌판새우·양볶음 15,000원\\n\\n\\n대구 신라식당 메뉴 이미지\\n매장 위치\\n\\n리안(네이버 1위)\\n\\n대구 리안 플레이스(구글 평점 4.3)\\n매장 소개\\n이어지는 대구 맛집은 수성구 수성대학교 근처에 자리 잡고 있는 중식당 리안입니다. 야끼우동과 찹쌀 탕수육으로 유명한 이곳은 매콤 달콤한 소스에 새우와 오징어 등의 해산물과 야채를 볶아서 면과 따로 나오는 야끼우동이 대표 메뉴인데요. 주말이나 공휴일의 경우 웨이팅이 많이 걸리기 때문에 줄 서서 먹는 중식당으로 탕수육과 야끼우동에 대한 평이 좋아 중식 요리 좋아하는 분들이 가볼 만한 대구 현지인 가성비 맛집입니다.\\n메뉴 소개\\n\\n\\n짜장면 6,000원\\n\\n\\n짬뽕 8,000원\\n\\n\\n야끼우동 9,000원\\n\\n\\n탕수육(소) 17,000원\\n\\n\\n대구 리안 메뉴 이미지\\n매장 위치\\n\\n옛집식당(육개장 맛집)\\n\\n대구 옛집식당 플레이스(구글 평점 4.3)\\n매장 소개\\n이어지는 대구 맛집은 서문시장 근처에 위치하고 있는 육개장 전문 로컬 식당인 옛집식당입니다. 60년 전 서문시장 골목 안에 자리한 가정집에 차려진 육개장 전문점으로 국내산 육우를 사용해 얼큰하게 끓여 내는 육개장이 유명한 대구 육개장 맛집인데요. 현지인들도 즐겨 찾는 대구 현지인 숨은 맛집으로 전현무계획에도 소개될 만큼 깔끔한 반찬과 칼칼하고 시원한 국물의 육개장이 유명한 대구 서문시장 맛집입니다.\\n메뉴 소개\\n\\n육개장 10,000원\\n\\n대구 옛집식당 메뉴 이미지\\n매장 위치\\n\\n전원돈까스(왕돈가스 맛집)\\n\\n대구 전원돈까스 플레이스(구글 평점 4.2)\\n매장 소개\\n이어지는 대구 맛집은 대구 중앙로역 2번 출구 근처에 위치하고 있는 동성로 경양식 돈가스 전문점 전원돈까스입니다. 45년 전통을 자랑하는 동성로 로컬 식당으로 옛날식 정통 경양식 돈가스가 유명한 대구 돈까스 맛집인데요. 주말이나 공휴일 항상 웨이팅이 걸려 줄 서서 먹는 대구 로컬 식당으로 친구나 연인은 물론 아이랑 함께 가족 단위로 점심 식사하기 좋은 대구 동성로 현지인 로컬 맛집입니다.\\n메뉴 소개\\n\\n\\n돈가스 9,000원\\n\\n\\n치즈돈가스 10,500원\\n\\n\\n함박스택 11,000원\\n\\n\\n비후가스 12,000원\\n\\n\\n대구 전원돈까스 메뉴 이미지\\n매장 위치\\n\\n조조칼국수 본점(\\n\\n대구 조조칼국수 플레이스(구글 평점 4.3)\\n매장 소개\\n이어지는 대구 맛집은 동대구역 근처 범어동에 위치하고 있는 동죽 칼국수 전문점 조조칼국수 본점입니다. 맛있는 녀석들과 생방송투데이에 소개되었던 대구 칼국수 맛집으로 여러 개의 지점도 보유하고 있는 칼국수집인데요. 대표 메뉴로 동죽이 들어간 물총 칼국수와 물총 조개탕에 낙지가 들어간 해물파전으로 시원한 국물의 동죽 칼국수나 해물파전 좋아하는 분들이 가볼 만한 대구 동대구역 근처 맛집입니다.\\n메뉴 소개\\n\\n\\n물총(동죽) 칼국수 9,000원\\n\\n\\n물총(동죽) 조개탕 12,000원\\n\\n\\n낙지파전 14,000원\\n\\n\\n대구 조조칼국수 메뉴 이미지\\n매장 위치\\n\\n아리조나막창(대구막창 맛집)\\n\\n대구 아리조나막창 플레이스(구글 평점 3.9)\\n매장 소개\\n이어지는 대구 맛집은 수성못 근처에 위치하고 있는 막창 전문점 대구아리조나막창입니다. 넓고 깔끔한 인테리어에 풍자 또간집에서도 다녀가 대구 현지인은 물론 관광객들도 많이 찾는 대구 3대 막창 맛집 중 하나인데요. 블루리본 서베이 인증도 2014년부터 11년 연속 선정되며 대구를 대표하는 수성못 막창 맛집으로 쫄깃하고 고소한 맛의 돼지막창과 소막창으로 술 한잔 하며 식사하기 좋은 대구 현지인 막창 맛집입니다.\\n메뉴 소개\\n\\n\\n국내산 생막창 12,000원\\n\\n\\n국내산 소막창 21,000원\\n\\n\\n차돌박이 15,500원\\n\\n\\n양념불닭발(2인분) 23,000원\\n\\n\\n대구아리조나막창 메뉴 이미지\\n매장 위치\\n\\n단골식당(백종원의 3대 천왕)\\n\\n대구 단골식당 플레이스(구글 평점 4.1)\\n매장 소개\\n마지막으로 소개해드릴 대구 맛집은 칠성시장역 근처에 위치한 연탄불고기 전문점 단골식당입니다. 백종원의 3대 천왕을 비롯해 생생정보, 놀라운 토요일, 생방송투데이 TV 방송에 여러 차례 소개되었던 대구 가성비 연탄불고기 맛집인데요. 60년 전통을 자랑하는 대구 로컬 식당으로 블루리본 서베이에도 10회 연속 선정될 정도로 대구 현지인들도 즐겨 찾는 불향 가득한 연탄불고기가 유명한 대구 가성비 현지인 맛집입니다.\\n메뉴 소개\\n\\n\\n간장불고기 7,000원\\n\\n\\n고추장불고기 8,000원\\n\\n\\n공깃밥 1,000원\\n\\n\\n대구 단골식당 메뉴 이미지\\n매장 위치\\n이렇게 오늘은 서문시장과 칠성시장이 있어 다양한 대구 먹거리를 드실 수 있는 대구광역시의 소문난 맛집 10곳을 네이버와 구글 양대 포털의 플레이스 순위를 기준으로 소개해드렸는데요. 지역 특색이 있는 먹거리로 대구 막창, 연탄 불고기에 뭉티기, 돼지국밥, 중화비빔밥, 짬뽕에 왕돈가스와 동죽 칼국수 등의 다양한 메뉴들이 있어 가족들과 함께 식사하기 좋은 대구 맛집 베스트 10이었습니다.\\n함께 보면 좋은 정보\\n대구 한정식 맛집 베스트10 가족외식 모임장소\\n오늘은 동성로와 수성못으로 유명한 대구광역시의 한정식 맛집 베스트 10곳을 소개해드리고자 하는데 양대 포털의 플레이스를 중심으로 현지에서 유명한 한정식 코스요리와 현지인 맛집도 함\\njdblue2022.tistory.com\\n대구 동성로 맛집 베스트10 추천 2024 플레이스 맛집\\n오늘은 대구광역시의 중심인 반월당역 근처에 위치한 대구 동성로의 소문난 맛집 베스트 10곳을 소개해드리고자 하는데 양대 포털의 플레이스를 중심으로 순위를 취합하여 동성로 로컬 맛집\\njdblue2022.tistory.com\\n경주 맛집 베스트10 추천 2025 가성비 리스트 순위\\n오늘은 보문단지와 황리단길에 불국사, 첨성대, 안압지로 유명한 소문난 경북 경주 맛집 베스트 10곳을 소개해드리고자 하는데 양대 포털의 플레이스를 중심으로 순위를 취합하여 대표적인 경\\njdblue2022.tistory.com\\n<이미지 출처. 네이버 플레이스>\\n'맛집 > 경상맛집' 카테고리의 다른 글\\n영덕 맛집 베스트10 추천 2025 플레이스 리스트 순위  (0)    2025.01.31\\n양산 맛집 베스트10 추천 2025 플레이스 가성비 식당  (0)    2025.01.28\\n울산 맛집 베스트10 추천 2025 플레이스 순위 리스트  (0)    2025.01.25\\n남해 맛집 베스트10 추천 2025 가볼만한곳 리스트 순위  (0)   2025.01.16\\n통영 맛집 베스트10 추천 2025 먹거리 리스트 순위  (0) 2025.01.14\\n태그\\n대구가성비맛집, 대구동성로맛집, 대구맛집, 대구맛집베스트10, 대구맛집순위, 대구맛집추천, 대구먹거리, 대구서문시장맛집, 대구칠성시장맛집, 대구현지인맛집\\n관련글\\n영덕 맛집 베스트10 추천 2025 플레이스 리스트 순위\\n양산 맛집 베스트10 추천 2025 플레이스 가성비 식당\\n울산 맛집 베스트10 추천 2025 플레이스 순위 리스트\\n남해 맛집 베스트10 추천 2025 가볼만한곳 리스트 순위\\n댓글0\\n분류 전체보기 \\n맛집 \\n경기맛집\\n서울맛집\\n경상맛집 \\n전라맛집 \\n충청맛집\\n강원맛집\\n제주맛집\\n여행\\n베트남\\n제주지역\\n강원지역\\n경상지역\\n충청지역\\n전라지역\\n서울경기지역\\n세상소식\\n증권정보\\n할인정보\\n꿀팁정보\\n행사정보\\n생활정보\\n카드정보\\n재테크정보\\n영화정보\\n자동차정보\\nTOP\\nTEL. 02.1234.5678 / 경기 성남시 분당구 판교역로\\n© Kakao Corp.\"}]\n"
     ]
    }
   ],
   "source": [
    "sample_input = State(\n",
    "    messages=[\n",
    "        HumanMessage(content='대구 맛집을 알려줘'),\n",
    "        AIMessage(\n",
    "            content='',\n",
    "            tool_calls=[{\n",
    "                    'name': 'tavily_web_search', \n",
    "                    'args': {'query': '대구 맛집'},\n",
    "                    'id': '99c32be8-e500-4b2c-9675-34ab45fa6ab5'\n",
    "                }]\n",
    "        )\n",
    "    ]\n",
    ")\n",
    "\n",
    "result = tool_node(sample_input)\n",
    "\n",
    "for msg in result[\"messages\"]:\n",
    "        print(f\"- {msg.name}: {msg.content}\")"
   ]
  }
 ],
 "metadata": {
  "kernelspec": {
   "display_name": "venv",
   "language": "python",
   "name": "python3"
  },
  "language_info": {
   "codemirror_mode": {
    "name": "ipython",
    "version": 3
   },
   "file_extension": ".py",
   "mimetype": "text/x-python",
   "name": "python",
   "nbconvert_exporter": "python",
   "pygments_lexer": "ipython3",
   "version": "3.11.9"
  }
 },
 "nbformat": 4,
 "nbformat_minor": 2
}
