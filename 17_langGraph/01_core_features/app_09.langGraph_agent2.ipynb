{
 "cells": [
  {
   "cell_type": "code",
   "execution_count": 1,
   "metadata": {},
   "outputs": [],
   "source": [
    "from dotenv import load_dotenv\n",
    "import os\n",
    "\n",
    "load_dotenv(verbose=True)\n",
    "key = os.getenv('OPENAI_API_KEY')"
   ]
  },
  {
   "cell_type": "code",
   "execution_count": 2,
   "metadata": {},
   "outputs": [],
   "source": [
    "from typing import Annotated\n",
    "from typing_extensions import TypedDict\n",
    "from langgraph.graph.message import add_messages"
   ]
  },
  {
   "cell_type": "code",
   "execution_count": 3,
   "metadata": {},
   "outputs": [],
   "source": [
    "from langchain_openai import ChatOpenAI\n",
    "from langgraph.graph import StateGraph\n",
    "from langchain_teddynote.tools.tavily import TavilySearch"
   ]
  },
  {
   "cell_type": "code",
   "execution_count": 4,
   "metadata": {},
   "outputs": [],
   "source": [
    "from langchain.schema import HumanMessage, AIMessage\n",
    "from langchain_core.messages import ToolMessage"
   ]
  },
  {
   "cell_type": "code",
   "execution_count": 5,
   "metadata": {},
   "outputs": [],
   "source": [
    "class State(TypedDict):\n",
    "    messages: Annotated[list, add_messages]"
   ]
  },
  {
   "cell_type": "code",
   "execution_count": 6,
   "metadata": {},
   "outputs": [],
   "source": [
    "llm = ChatOpenAI( \n",
    "    api_key=key, \n",
    "    model_name='gpt-4o-mini',\n",
    "    temperature=0.1\n",
    ")"
   ]
  },
  {
   "cell_type": "code",
   "execution_count": 7,
   "metadata": {},
   "outputs": [],
   "source": [
    "tool = TavilySearch(max_results=1)      # 검색 도구 생성\n",
    "tools = [tool]                          # 도구 목록에 넣기  "
   ]
  },
  {
   "cell_type": "code",
   "execution_count": 8,
   "metadata": {},
   "outputs": [],
   "source": [
    "# LLM 에 도구 바인딩\n",
    "llm_with_tools = llm.bind_tools(tools)"
   ]
  },
  {
   "cell_type": "code",
   "execution_count": 9,
   "metadata": {},
   "outputs": [],
   "source": [
    "def chatbot(state: State):\n",
    "    print('===== chatbot() 함수 시작 =====')\n",
    "    \n",
    "    print(\"[1] chatbot() 으로 넘어온 메시지: \")\n",
    "\n",
    "    message_type1 = ''\n",
    "\n",
    "    for msg in state['messages']:\n",
    "        if isinstance(msg, HumanMessage):\n",
    "            message_type1 = message_type1 + '[HumanMessage]'\n",
    "        elif isinstance(msg, AIMessage):\n",
    "            message_type1 = message_type1 + '[AIMessage]'\n",
    "        elif isinstance(msg, ToolMessage):\n",
    "            message_type1 = message_type1 + '[ToolMessage]'\n",
    "        \n",
    "        print(f'메시지 타입: {message_type1}')\n",
    "        print(msg)\n",
    "        print()\n",
    "\n",
    "    print(f\"\\n[2] 메시지 개수 : {len(state['messages'])}\\n\")\n",
    "\n",
    "    answer = llm_with_tools.invoke(state['messages'])\n",
    "\n",
    "    # print(f'[도구 사용 LLM 실행 결과 content]: {answer.content}')\n",
    "    \n",
    "    print('[3] chatbot()에서 실행:')\n",
    "    print('메시지 타입: ', end='')\n",
    "\n",
    "    message_type2 = ''\n",
    "    if isinstance(answer, AIMessage):\n",
    "        message_type2 = message_type2 + '[AIMessage]'\n",
    "    elif isinstance(answer, HumanMessage):\n",
    "        message_type2 = message_type2 + '[HumanMessage]'\n",
    "    elif isinstance(answer, ToolMessage):\n",
    "        message_type2 = message_type2 + '[ToolMessage]'\n",
    "    else:\n",
    "        message_type2 = type(answer)\n",
    "\n",
    "    print(message_type2)\n",
    "    print(answer)\n",
    "    print()\n",
    "\n",
    "    answer_value = {'messages': [answer]}\n",
    "\n",
    "    print(f\"[4] chatbot()에서 실행 후 메시지 개수: {message_type1} {message_type2} {len(state['messages']) + len(answer_value)}\") \n",
    "    print('===== chatbot() 함수  끝 =====')\n",
    "    print()\n",
    "\n",
    "    return answer_value"
   ]
  },
  {
   "cell_type": "code",
   "execution_count": 10,
   "metadata": {},
   "outputs": [
    {
     "name": "stdout",
     "output_type": "stream",
     "text": [
      "===== chatbot() 함수 시작 =====\n",
      "[1] chatbot() 으로 넘어온 메시지: \n",
      "메시지 타입: \n",
      "('user', '대구의 유명한 맛집을 알려줘.')\n",
      "\n",
      "\n",
      "[2] 메시지 개수 : 1\n",
      "\n",
      "[3] chatbot()에서 실행:\n",
      "메시지 타입: [AIMessage]\n",
      "content='' additional_kwargs={'tool_calls': [{'id': 'call_8wKvL8K6l6u9pwfZBP92HDcP', 'function': {'arguments': '{\"query\":\"대구 유명 맛집\"}', 'name': 'tavily_web_search'}, 'type': 'function'}], 'refusal': None} response_metadata={'token_usage': {'completion_tokens': 22, 'prompt_tokens': 102, 'total_tokens': 124, 'completion_tokens_details': {'accepted_prediction_tokens': 0, 'audio_tokens': 0, 'reasoning_tokens': 0, 'rejected_prediction_tokens': 0}, 'prompt_tokens_details': {'audio_tokens': 0, 'cached_tokens': 0}}, 'model_name': 'gpt-4o-mini-2024-07-18', 'system_fingerprint': 'fp_b8bc95a0ac', 'finish_reason': 'tool_calls', 'logprobs': None} id='run-21ec95be-7a4d-491d-a2e2-e41fa420f4b5-0' tool_calls=[{'name': 'tavily_web_search', 'args': {'query': '대구 유명 맛집'}, 'id': 'call_8wKvL8K6l6u9pwfZBP92HDcP', 'type': 'tool_call'}] usage_metadata={'input_tokens': 102, 'output_tokens': 22, 'total_tokens': 124, 'input_token_details': {'audio': 0, 'cache_read': 0}, 'output_token_details': {'audio': 0, 'reasoning': 0}}\n",
      "\n",
      "[4] chatbot()에서 실행 후 메시지 개수:  [AIMessage] 2\n",
      "===== chatbot() 함수  끝 =====\n",
      "\n"
     ]
    }
   ],
   "source": [
    "question = \"대구의 유명한 맛집을 알려줘.\"\n",
    "\n",
    "state1 = State(messages=[('user', question)])\n",
    "answer_state = chatbot(state1)"
   ]
  },
  {
   "cell_type": "code",
   "execution_count": 11,
   "metadata": {},
   "outputs": [
    {
     "data": {
      "text/plain": [
       "{'messages': [AIMessage(content='', additional_kwargs={'tool_calls': [{'id': 'call_8wKvL8K6l6u9pwfZBP92HDcP', 'function': {'arguments': '{\"query\":\"대구 유명 맛집\"}', 'name': 'tavily_web_search'}, 'type': 'function'}], 'refusal': None}, response_metadata={'token_usage': {'completion_tokens': 22, 'prompt_tokens': 102, 'total_tokens': 124, 'completion_tokens_details': {'accepted_prediction_tokens': 0, 'audio_tokens': 0, 'reasoning_tokens': 0, 'rejected_prediction_tokens': 0}, 'prompt_tokens_details': {'audio_tokens': 0, 'cached_tokens': 0}}, 'model_name': 'gpt-4o-mini-2024-07-18', 'system_fingerprint': 'fp_b8bc95a0ac', 'finish_reason': 'tool_calls', 'logprobs': None}, id='run-21ec95be-7a4d-491d-a2e2-e41fa420f4b5-0', tool_calls=[{'name': 'tavily_web_search', 'args': {'query': '대구 유명 맛집'}, 'id': 'call_8wKvL8K6l6u9pwfZBP92HDcP', 'type': 'tool_call'}], usage_metadata={'input_tokens': 102, 'output_tokens': 22, 'total_tokens': 124, 'input_token_details': {'audio': 0, 'cache_read': 0}, 'output_token_details': {'audio': 0, 'reasoning': 0}})]}"
      ]
     },
     "execution_count": 11,
     "metadata": {},
     "output_type": "execute_result"
    }
   ],
   "source": [
    "answer_state"
   ]
  },
  {
   "cell_type": "code",
   "execution_count": 14,
   "metadata": {},
   "outputs": [],
   "source": [
    "from langgraph.graph import StateGraph, START, END\n",
    "import json\n",
    "\n",
    "def route_tools(state: State):\n",
    "\n",
    "    if messages := state.get('messages', []):\n",
    "        ai_message = messages[-1]\n",
    "    else:\n",
    "        raise ValueError(f\"No messages found in input state to tool_edge: {state}\")\n",
    "    \n",
    "    print()\n",
    "    print('===== 라우터 노드 =====')\n",
    "    # print(f\"라우터 노드로 넘어온 chatbot() 에서 생성한 state 메시지: \")\n",
    "    # print(ai_message)\n",
    "\n",
    "    if hasattr(ai_message, 'tool_calls') and len(ai_message.tool_calls) > 0:\n",
    "        print(f'라우터 [tools] : \\n{ai_message.tool_calls}')\n",
    "        print(f'라우터 리턴: tools')\n",
    "        print('===== 라우터 노드 끝 =====')\n",
    "        print()\n",
    "\n",
    "        return 'tools'\n",
    "    \n",
    "    print(f'라우터 리턴: {END}')\n",
    "    print('===== 라우터 노드 끝 =====')\n",
    "    print()\n",
    "    \n",
    "    return END"
   ]
  },
  {
   "cell_type": "code",
   "execution_count": 15,
   "metadata": {},
   "outputs": [
    {
     "name": "stdout",
     "output_type": "stream",
     "text": [
      "\n",
      "===== 라우터 노드 =====\n",
      "라우터 [tools] : \n",
      "[{'name': 'tavily_web_search', 'args': {'query': '대한민국 수도'}, 'id': 'call_k6ljrhTRP8dz8FwNrtbyyG3K', 'type': 'tool_call'}]\n",
      "라우터 리턴: tools\n",
      "===== 라우터 노드 끝 =====\n",
      "\n"
     ]
    },
    {
     "data": {
      "text/plain": [
       "'tools'"
      ]
     },
     "execution_count": 15,
     "metadata": {},
     "output_type": "execute_result"
    }
   ],
   "source": [
    "state_with_tools = {\n",
    "    \"messages\": [\n",
    "        HumanMessage(\n",
    "            content=\"대한민국 수도에 대해서 검색해줘\",\n",
    "            id='6e0ff6a0-d790-42a0-ae24-28172c7feabc'\n",
    "        ),\n",
    "        AIMessage(\n",
    "            content=\"\",\n",
    "            tool_calls=[{\n",
    "                \"name\": \"tavily_web_search\",                        \n",
    "                \"args\": {\"query\": \"대한민국 수도\"},\n",
    "                \"id\": \"call_k6ljrhTRP8dz8FwNrtbyyG3K\"\n",
    "            }],\n",
    "            additional_kwargs={\n",
    "                \"tool_calls\": [{\n",
    "                    \"id\": \"call_k6ljrhTRP8dz8FwNrtbyyG3K\",\n",
    "                    \"function\": {\n",
    "                        \"arguments\": json.dumps({\"query\": \"대한민국 수도\"}),\n",
    "                        \"name\": \"tavily_web_search\"                     \n",
    "                    },\n",
    "                    \"type\": \"function\"\n",
    "                }],\n",
    "                \"refusal\": None\n",
    "            },\n",
    "            response_metadata={\n",
    "                \"token_usage\": {\n",
    "                    \"completion_tokens\": 20,\n",
    "                    \"prompt_tokens\": 99,\n",
    "                    \"total_tokens\": 119\n",
    "                },\n",
    "                \"model_name\": \"gpt-4o-mini-2024-07-18\"\n",
    "            },\n",
    "            id='run-164b42b2-a16c-4ea8-8a2e-94da55991426-0'\n",
    "        )\n",
    "    ]\n",
    "}\n",
    "\n",
    "\n",
    "route_tools(state_with_tools)"
   ]
  },
  {
   "cell_type": "code",
   "execution_count": 16,
   "metadata": {},
   "outputs": [],
   "source": [
    "import json\n",
    "from langchain_core.messages import ToolMessage\n",
    "\n",
    "class BasicToolNode:\n",
    "    \"\"\"Run tools requested in the last AIMessage node\"\"\"\n",
    "\n",
    "    def __init__(self, tools: list) -> None:\n",
    "        self.tools_list = {tool.name: tool for tool in tools}\n",
    "        print(f'======================================================')\n",
    "        print('[BasicToolNode]')\n",
    "        print('도구 호출 생성자')\n",
    "        print(f'tools_list: {self.tools_list}')\n",
    "        print(f'======================================================')\n",
    "    \n",
    "    def __call__(self, inputs: dict):\n",
    "        if messages := inputs.get('messages', []):\n",
    "            message = messages[-1]\n",
    "        else:\n",
    "            raise ValueError('No message found in input')\n",
    "        \n",
    "        print()\n",
    "        print(f'======================================================')\n",
    "        print('[BasicToolNode] call')\n",
    "        #print('도구 호출로 갔을 때')\n",
    "        #print('message.tool_calls:', message.tool_calls)\n",
    "        #print(f'======================================================')\n",
    "\n",
    "        outputs = []\n",
    "\n",
    "        for tool_call in message.tool_calls:    # message의 tool_calls 속성이 있는것은 도구 호출을 필요한 메시지가 있는 경우\n",
    "            print(f'도구 호출이 필요한 경우: ')\n",
    "            print(f'도구 호출 : {tool_call}')\n",
    "            print(f\"도구 호출 이름: {tool_call['name']}\")\n",
    "            print(f\"도구 호출 인자 : {tool_call['args']}\")\n",
    "\n",
    "            tool_result = self.tools_list[tool_call['name']].invoke(tool_call['args'])\n",
    "            # print(f'도구 호출 결과 : {tool_result}')                                           \n",
    "        \n",
    "            outputs.append(\n",
    "                ToolMessage(\n",
    "                    content=json.dumps(tool_result, ensure_ascii=False), \n",
    "                    name=tool_call['name'], \n",
    "                    tool_call_id=tool_call['id']\n",
    "                )\n",
    "            )\n",
    "            \n",
    "        print('[BasicToolNode] call 끝')\n",
    "        print(f'======================================================')\n",
    "        print()\n",
    "\n",
    "        return {'messages': outputs}    "
   ]
  },
  {
   "cell_type": "code",
   "execution_count": 17,
   "metadata": {},
   "outputs": [
    {
     "name": "stdout",
     "output_type": "stream",
     "text": [
      "======================================================\n",
      "[BasicToolNode]\n",
      "도구 호출 생성자\n",
      "tools_list: {'tavily_web_search': TavilySearch(client=<tavily.tavily.TavilyClient object at 0x000001A17F90FFD0>, max_results=1)}\n",
      "======================================================\n"
     ]
    }
   ],
   "source": [
    "# 도구 노드 생성\n",
    "tool_node = BasicToolNode(tools=[tool])   "
   ]
  },
  {
   "cell_type": "code",
   "execution_count": 18,
   "metadata": {},
   "outputs": [],
   "source": [
    "from langchain_core.runnables import RunnableLambda\n",
    "\n",
    "tool_node_runnable = RunnableLambda(tool_node)"
   ]
  },
  {
   "cell_type": "code",
   "execution_count": 19,
   "metadata": {},
   "outputs": [
    {
     "name": "stdout",
     "output_type": "stream",
     "text": [
      "\n",
      "======================================================\n",
      "[BasicToolNode] call\n",
      "도구 호출이 필요한 경우: \n",
      "도구 호출 : {'name': 'tavily_web_search', 'args': {'query': '대구 맛집'}, 'id': '99c32be8-e500-4b2c-9675-34ab45fa6ab5', 'type': 'tool_call'}\n",
      "도구 호출 이름: tavily_web_search\n",
      "도구 호출 인자 : {'query': '대구 맛집'}\n",
      "[BasicToolNode] call 끝\n",
      "======================================================\n",
      "\n",
      "- tavily_web_search: [{\"title\": \"대구 맛집 베스트10 유명해서 많이 방문하는 곳 Top10\", \"url\": \"https://todaytrip.tistory.com/141\", \"content\": \"대구 맛집 베스트10은 대덕식당, 오퐁드부아, 바르미스시뷔페 두산점 등 유명한 음식점부터 안지랑 곱창골목까지 다양한 분위기의 곳을 소개합니다. 각 곳의 주소, 영업시간, 메뉴, TV방송정보, 홈페이지 등을 확인하고 대구 맛집을 찾아보세요.\", \"score\": 0.8565368, \"raw_content\": \"일상탈출\\n\\n고정 헤더 영역\\n\\n\\n\\n메뉴 레이어\\n\\n메뉴 리스트\\n\\n검색 레이어\\n\\n검색 영역\\n\\n상세 컨텐츠\\n\\n본문 제목\\n\\n대구 맛집 베스트10 유명해서 많이 방문하는 곳 TOP10\\n\\nby 일탈스토리\\n2023. 2. 24. 03:13\\n\\n본문\\n\\n안녕하세요. 전국맛집을 소개시켜드리는 일상탈출입니다.  오늘은 대구 맛집 추천해 드리겠습니다. 대구 맛집 베스트10은 사람들이 많이 방문하는곳이며, 웨이팅 시간이 있는 음식점도 있습니다. 대구 맛집 베스트10은 대덕식당, 오퐁드부아, 바르미스시뷔페 두산점, 헤이마, 곤지곤지, 서민갈비, 고령촌돼지찌개, 룰리커피 가창점, 리안, 낙영찜갈비 본점  10곳과 특별히 안지랑 곱창골목까지 총 11곳 알려드리겠습니다.\\n\\n\\n\\n1. 대덕식당\\n\\nㅇ 주소 : 대구 남구 앞산순환로 443 ㅇ 영업시간 : 07:00 - 21:00ㅇ 전화번호 : 053-656-8111\\n\\nㅇ TV방송정보  - 2TV생생정보 33회, 16.02.24 선지해장국\\n\\nㅇ 메뉴 - 선지국밥 : 8,000원 - 선지 : 8,000원 - 육개장 : 9,000원 - 왕갈비탕 : 10,000원\\n\\n1979년 개업한 이래 2대에 걸쳐 대구 시민의 쉼터인 앞산을 지켜 온 선지국밥 전문점입니다. 우거지가 풍성하게 들어간 선지국밥이 대표 메뉴입니다. 1996년에 전통문화보존 명인장에 선정되었고, 무료급식소 밥 한 끼 나누기 운동에 적극 동참하여 2011년에는 아름다운 가게 인증서를 받았습니다. 대덕식당은 가서 먹는 맛도 있지만.! 냄비 들고 가서(플라스틱 바게스에 담아서 팔지만..) 인심 좋게 담아주는 만큼 받아오는 그맛도 참좋죠.!\\n\\n\\n\\n\\n\\n\\n\\n\\n\\n\\n\\n2. 오퐁드부아\\n\\nㅇ 주소 : 대구 달성군 가창면 주리2길 104 ㅇ 영업시간 : 11:00 - 21:00ㅇ 전화번호 : 0507-1348-0101\\n\\nㅇ 메뉴 - 에스프레소 : 5,500원 - 아메리카노 : 5,500원 - 카푸치노 : 6,000원 - 라떼 : 6,000원\\n\\nㅇ 홈페이지 : http://www.instagram.com/cafe_aufonddubois\\n\\n\\n\\n자연을 곁에 두고 있는 이 곳에서 계절 변화에 따른 자연의 재료를 통해 먹고 마시며 숲 속의 편안함과 여유로움을 경험할 수 있는 곳입니다. 경치 좋은곳은 역시 산 웅텅이에 있은 카페가 최고입니다. 커피맛은 무난하면서 괜찬아요. 빵으로 밥 떼워도 될듯 ㅋ 사람도 겁니많습니다~~ 아쉬운점은 카페 크기에 비해 주차자리가 많지 않아요~\\n\\n\\n\\n\\n\\n\\n\\n\\n\\n3. 바르미스시뷔페 두산점\\n\\nㅇ 주소 : 대구 수성구 무학로 78 ㅇ 영업시간 : 11:30 - 21:20ㅇ 전화번호 : 0507-1402-0051\\n\\nㅇ 메뉴 - 평일런치(성인) : 27,800원 - 평일디너(성인) : 29,800원 - 주말/공휴일(성인) : 33,800원 - 초등학생 : 21,000원\\n\\n\\n\\n자연속에서 즐기는 스시 뷔페~~아마 이 업소가 오래도록 사랑받는 이유가 가성비 좋은 스시와 물이 흐르는 공간이 아닐까 생각한다.대부분의 테이블에서 물이 흐르는 개울가에서 맛있는 음식을 먹는 경험을 한다. 대부분 웨이팅이 1시간 전후 있으니 6인 이상은 예약이 가능하니 이용하고 인원이 5인 이하일때는 인스타 이용하면 대기번호 우선으로 올려 주니 이 방법을 이용하면 좋을듯하다. 자리에 앉으면 뷔페를 이용하면 된다. 특이점은 스시는 깔금한 조리복을 입은 쉐프들이 만드는 모습을 라이브로 볼수 있다는 것이다. 이부분도 많은 강점으로 작용한다. 죽, 볶음우동. 해산물 만두 오뎅, 튀김, 구이류, 과일 디저트, 커피, 플레인요거트 등등 다양한 요리도 곁들이면서 즐길수 있다. 전용주차장넓어 주차하기 편해요.\\n\\n\\n\\n\\n\\n\\n\\n\\n\\n4. 헤이마\\n\\nㅇ 주소 : 대구 동구 파계로 583\\n\\nㅇ  영업시간 : 매일 10:00 - 22:00ㅇ 전화번호 : 053-986-7773\\n\\nㅇ 메뉴 - 아메리카노 : 5,000원 - 카페라떼 : 5,500원 - 카푸치노 : 5,500원 - 플랫화이트 : 5,500원ㅇ 홈페이지 : http://www.cafeheima.co.kr\\n\\n\\n\\n헤이마(HEIMA)는 아이슬란드어로 '집'이라는 의미를 가지고 있습니다. 몸과 마음이 쉴 수 있는 안식처의 개념을 포함하고 있는 헤이마는 사람들의 정서적인 만족을 얻을 수 있는 공간이 되길 바라는 마음에서 만들어진 공간입니다. 뷰와 인테리어 맛 모두 만족스러운 곳이며, 커피나 빵도 맛있고 주차도 편해서 모임하기 좋은 카페입니다.\\n\\n\\n\\n\\n\\n\\n\\n\\n\\n\\n\\n5. 곤지곤지\\n\\nㅇ 주소 : 대구 달성군 가창면 퇴계길 43-8 ㅇ 영업시간 : 11:30 - 20:30ㅇ 전화번호 : 053-766-2112\\n\\nㅇ 메뉴 - 강된장자연보리밥 : 8,000원 - 고등어구이 : 5,000원 - 아침에만든두부 : 8,000원 - 오리훈제바베큐 : 20,000원\\n\\n\\n\\n가창면 산자락에 널찍하게 자리 잡은 한식당입니다. 취향에 맞게 비벼 먹을 수 있도록 콩비지와 된장찌개 나물을 곁들여지는 옛날 보리밥이 이곳의 대표 메뉴인데요, 그 외에도 식사에 곁들이기 좋은 촌 두부, 고등어구이 등의 메뉴와 오리 훈제 바비큐, 돼지 바비큐 등의 요리가 준비되어 있지요. 주차하기 편해요. 가격에 비해 음식이 맛도 있고 반찬가지수도 많고, 가끔 드라이버하다 맛집으로 찾아오면 좋을거 같아요\\n\\n\\n\\n\\n\\n\\n\\n\\n\\n6. 서민갈비\\n\\nㅇ 주소 : 대구 수성구 들안로 8-5 ㅇ 영업시간 : 11:30 - 23:00ㅇ 전화번호 : 053-761-2267\\n\\nㅇ 메뉴 - 김재동갈비 : 12,000원 - 제주 흑돼지생구이(600g) : 45,000원 - 전복구이 : 30,000원 - 압력돌솥밥 : 6,000원\\n\\n서민갈비는 들 안길 먹자골목 30년 역사를 함께한 돼지갈비 전문점입니다. 육부 작업으로는 잔뼈가 굵은 오랜 경력의 전문가들이 직접 갈비를 매일 수 작업합니다.  돼지갈비가 생각나면 항상 들리는 곳. 아는 맛이라 더 무섭습니다. 고기 다 구워주고, 찬들도 필요한 것들만 나오며 깔끔하니 맛있습니다. 식사는 강하고 찐한 맛을 원한다면 기본 된장찌개, 구수한 해물맛을 원한다면 전복해물뚝배기. 테이블 회전율도 빨라 복잡아도 많이 기다리지 않아요.\\n\\n\\n\\n\\n\\n\\n\\n\\n\\n\\n\\n7. 고령촌돼지찌개\\n\\nㅇ주소 : 대구 남구 앞산순환로 440-1 ㅇ 영업시간 : 매일 11:00 - 23:00ㅇ 전화번호 : 053-626-0780\\n\\nㅇ 메뉴\\n\\n- 고령촌 돼지찌개(소 (3~2인)) : 22,000원 - 고령촌 돼지찌개(중 (4~3인)) :  30,000원 - 고령촌 돼지찌개(대 (5~4인)) : 37,000원 - 석쇠불고기(참나무장작구이)(2인) : 23,000원\\n\\n\\n\\n대구의 앞산 안지랑골에 위치한 고령촌돼지찌개입니다. 10년째 항상 신선한 재료만 엄선 조리하며 내 가족이 먹는다 생각하고 만들어 왔습니다. 어머니가 해주시던 깊고 얼큰 칼칼한 가정식 촌돼지찌개를 맛보실 수 있어요! 손수 직접 작업한 돼지 한 마리 모든 부위를 찌개에 담았습니다.  돼지찌개는 비조리 상태로 나와 강불에 재료들을 살짝 볶은 다음 육수를 부어줍니다 그래서 그런지 모든 조리가 끝난 후에 먹은 국물 맛은 정말 시원 칼칼하고 깊은 감칠맛이 나면서 너무 맛있었습니다. 참나무로 초벌한 석쇠불고기와 삼겹살, 목살도 꼭 맛보시기 바랍니다.\\n\\n\\n\\n\\n\\n\\n\\n\\n\\n\\n\\n8. 룰리커피 가창점\\n\\nㅇ 주소 : 대구 달성군 가창면 우록길 76 ㅇ 영업시간 : 매일 10:00 - 22:00 ㅇ 전화번호 : 070-7823-7637\\n\\nㅇ 메뉴 - 바게트1/2사이즈+스프레스 2종 선택 : 7,500원 - 바게트one사이즈+스프레스 2종 선택 : 9,500원 - 토마토수프 : 8,500원 - 머쉬룸 수프 : 8,500원\\n\\nㅇ 홈페이지 : http://www.rullycoffee.com\\n\\n\\n\\n룰리는 역시 아이스크림커피입니다! 고모역 룰리와 비교했을 때 밀크커피가 이곳이 훨씬 맛있고, 왠지 아이스크림도 더 맛있어 보임 ㅎ 매장 층고가 높아서 사람이 많아도 소리가 시끄럽게 느껴지지 않네용. 소리는 위쪽으로 승천하나 봅니다~^ 특히 카페정면에 저수지전망이 이쁘네요. 저수지뷰도 이쁠 수 있구나 알게 되었음.\\n\\n\\n\\n\\n\\n\\n\\n\\n\\n9. 리안\\n\\nㅇ 주소 : 대구 수성구 교학로4길 48 ㅇ 영업시간 : 11:30 ~ 21:00ㅇ 전화번호 : 053-746-0203\\n\\nㅇ 메뉴 - 짜장면 : 5,000원 - 만두 : 6,000원 - 짬뽕 : 7,000원 - 야끼우동 : 8,000원\\n\\n\\n\\n대구시전체 통틀어 탕수육 판매량 단연 독보적인1위 중식당입니다. 손님이 엄청나게 많은데 내방하는손님의 95%이상이 탕수육을먹고있는 신기한 중식당입니다. 점심과저녁시간에는 대기가 꽤있는편인데 주방에서는 주문과상관없이 탕수육을튀깁니다. 그러다보니 테이블회전이빠르고 복불복이지만 비교적 음식은빨리나오는편입니다. 탕수육튀김옷이두꺼운편이고소스는많이달콤합니다. 야끼우동도양파야채많이들어간달콤한맛입니다. 탕수육 야끼우동 쟁반짜장 모두 남녀노소누가먹어도 그냥맛있다느낄정도의 보편적인맛입니다.\\n\\n\\n\\n\\n\\n\\n\\n\\n\\n10. 낙영찜갈비 본점\\n\\nㅇ 주소 : 대구 중구 동덕로36길 9-17 ㅇ 영업시간 :  매일 10:00 - 21:00ㅇ 전화번호 : 053-423-3330\\n\\nㅇ TV방송정보  -  맛있는녀석들 346회, 21.10.08 찜갈비\\n\\nㅇ 메뉴 - 수입 갈비찜 : 20,000원 - 한우 갈비찜 : 30,000원 - 갈비살찌개 : 7,000원 - 소고기찌개 : 8,000원 ㅇ 홈페이지 : https://www.daegufood.go.kr/kor/food/food2.asp?idx=264&gotoPage=6&snm=75&ta=5\\n\\n\\n\\n음식이 시키자마자 거의 1분안에 나온다 음식 나오는 속도는 5G다. 양은 그냥 저냥 적당히 주는듯하다 맛은 짜지않고 맛있고 맵기조절 가능하다. 고기 먹고 양념에 김가루넣어 비벼먹길 추천한다. 먹다보니 비빔밥은 순삭이다. 입에 넣기전부터 마늘 향이 잔뜩 나서, 마늘을 좋아하는 저에겐 좋았습니다! 그런데 제 입맛엔 밥이랑 같이 먹어도 좀 짜더라구요\\n\\n\\n\\n\\n\\n\\n\\n\\n\\n\\n\\n11. 안지랑 곱창 골목\\n\\nㅇ 주소 : 대구 남구 안지랑로16길 67 ㅇ 영업시간 : ㅇ 전화번호 : 0507-1336-4119\\n\\nㅇ 홈페이지 : https://blog.naver.com/mscase 1980년 시장 인근에서 양념곱창으로 서민들의 입맛을 사로잡으셨던 충북곱창할머님을 시작으로 1997년 IMF를 겪으면서 안지랑 시장 외곽인 안지랑 골짜기 물이 흐르던 도로에 10여 개의 양념곱창점포가 형성되었다. 2000년 이후 안지랑 오거리에서 안지랑 시장까지 점포수가 급격히 증가하게 되어 현재는 50여 개의 점포가 형성되었으며, 2007년 이후 50여 개의 점포 사장님들과 상인회 우만환 회장님의 노력으로 '남구청지정업소'라는 타이틀을 얻게 됨과 동시에 인근 대학 학생들의 도움으로 '젊음의 거리'로 활성화되기 시작했습니다.\\n\\n\\n\\n\\n\\n\\n\\n\\n\\n\\n\\n오늘은 대구 맛집 베스트10은 대덕식당, 오퐁드부아, 바르미스시뷔페 두산점, 헤이마, 곤지곤지, 서민갈비, 고령촌돼지찌개, 룰리커피 가창점, 리안, 낙영찜갈비 본점  10곳과 추가 안지랑 곱창골목까지 총 11곳 알려 드렸습니다.\\n\\n\\n\\n< 대구 맛집 추천 영상으로 보기 >\\n\\n< 같이보면 좋은내용 : 생활의 달인 대구 맛집 추천 >\\n\\n대구 맛집 베스트10_생활의 달인 맛집\\n\\n오늘은 생활의 맛집에서도 정말 맛있다는 대구맛집 베스트10을 선정하여 소개시켜드리겠습니다. 생활의 달인외 많은 방송에도 소개된 맛집들입니다. 오늘 소개시켜드릴 대구맛집으로 운수좋은\\n\\ntodaytrip.tistory.com\\n\\n< 같이보면 좋은내용 : 경주 맛집 추천 >\\n\\n경주 맛집 베스트10_유명해서 많이 방문하는곳 TOP10\\n\\n안녕하세요. 전국맛집을 소개시켜드리는 일상탈출입니다. 오늘은 경주 맛집 추천해 드리겠습니다. 경주 맛집 베스트10은 사람들이 많이 방문하는곳이며, 웨이팅 시간이 있는 음식점도 있습니다\\n\\ntodaytrip.tistory.com\\n\\n'맛거리' 카테고리의 다른 글\\n\\n삼척 맛집 베스트10 유명해서 많이 방문하는 음식점 TOP10(4) | 2023.02.28\\n여수 맛집 베스트10 유명해서 많이 방문하는 음식점 11곳(4) | 2023.02.25\\n광양 맛집 베스트10 유명해서 많이 방문하는 곳 TOP10(3) | 2023.02.23\\n여의도 맛집 베스트 10 유명해서 많이 방문하는 음식점(4) | 2023.02.22\\n울진 맛집 베스트10 유명해서 많이 방문하는 음식점 TOP10(0) | 2023.02.20\\n태그\\n\\n관련글 더보기\\n\\n삼척 맛집 베스트10 유명해서 많이 방문하는 음식점 TOP10\\n\\n2023.02.28\\n\\n여수 맛집 베스트10 유명해서 많이 방문하는 음식점 11곳\\n\\n2023.02.25\\n\\n광양 맛집 베스트10 유명해서 많이 방문하는 곳 TOP10\\n\\n2023.02.23\\n\\n여의도 맛집 베스트 10 유명해서 많이 방문하는 음식점\\n\\n2023.02.22\\n\\n댓글 영역\\n\\n추가 정보\\n\\n인기글\\n\\n2025.03.13 03:36\\n\\n2025.03.15 06:42\\n\\n2025.03.19 02:49\\n\\n2025.03.09 02:23\\n\\n최신글\\n\\n맛거리\\n\\n축제소개\\n\\n맛거리\\n\\n맛거리\\n\\n티스토리툴바\\n\\n\\n\\n\"}]\n"
     ]
    }
   ],
   "source": [
    "sample_input = State(\n",
    "    messages=[\n",
    "        HumanMessage(content='대구 맛집을 알려줘'),\n",
    "        AIMessage(\n",
    "            content='',\n",
    "            tool_calls=[{\n",
    "                    'name': 'tavily_web_search', \n",
    "                    'args': {'query': '대구 맛집'},\n",
    "                    'id': '99c32be8-e500-4b2c-9675-34ab45fa6ab5'\n",
    "                }]\n",
    "        )\n",
    "    ]\n",
    ")\n",
    "\n",
    "result = tool_node(sample_input)\n",
    "\n",
    "for msg in result[\"messages\"]:\n",
    "        print(f\"- {msg.name}: {msg.content}\")"
   ]
  }
 ],
 "metadata": {
  "kernelspec": {
   "display_name": "venv",
   "language": "python",
   "name": "python3"
  },
  "language_info": {
   "codemirror_mode": {
    "name": "ipython",
    "version": 3
   },
   "file_extension": ".py",
   "mimetype": "text/x-python",
   "name": "python",
   "nbconvert_exporter": "python",
   "pygments_lexer": "ipython3",
   "version": "3.11.9"
  }
 },
 "nbformat": 4,
 "nbformat_minor": 2
}
