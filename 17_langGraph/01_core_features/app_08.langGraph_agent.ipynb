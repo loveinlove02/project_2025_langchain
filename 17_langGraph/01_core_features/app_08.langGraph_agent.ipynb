{
 "cells": [
  {
   "cell_type": "code",
   "execution_count": 38,
   "metadata": {},
   "outputs": [],
   "source": [
    "from dotenv import load_dotenv\n",
    "import os\n",
    "\n",
    "load_dotenv(verbose=True)\n",
    "key = os.getenv('OPENAI_API_KEY')"
   ]
  },
  {
   "cell_type": "code",
   "execution_count": 39,
   "metadata": {},
   "outputs": [],
   "source": [
    "from langchain_teddynote.tools.tavily import TavilySearch\n",
    "\n",
    "tool = TavilySearch(max_results=1)      # 검색 도구 생성\n",
    "\n",
    "tools = [tool]                          # 도구 목록에 넣기                          "
   ]
  },
  {
   "cell_type": "code",
   "execution_count": 40,
   "metadata": {},
   "outputs": [],
   "source": [
    "from typing import Annotated\n",
    "from typing_extensions import TypedDict\n",
    "from langgraph.graph.message import add_messages\n",
    "\n",
    "class State(TypedDict):\n",
    "    messages: Annotated[list, add_messages]"
   ]
  },
  {
   "cell_type": "code",
   "execution_count": 41,
   "metadata": {},
   "outputs": [],
   "source": [
    "from langchain_openai import ChatOpenAI\n",
    "\n",
    "llm = ChatOpenAI(\n",
    "    api_key=key, \n",
    "    model_name='gpt-4o-mini',\n",
    "    temperature=0.1\n",
    ")"
   ]
  },
  {
   "cell_type": "code",
   "execution_count": 42,
   "metadata": {},
   "outputs": [],
   "source": [
    "# LLM 에 도구 바인딩\n",
    "llm_with_tools = llm.bind_tools(tools)"
   ]
  },
  {
   "cell_type": "code",
   "execution_count": 43,
   "metadata": {},
   "outputs": [],
   "source": [
    "def chatbot(state: State):\n",
    "    answer = llm_with_tools.invoke(state['messages'])\n",
    "\n",
    "    print('==' * 50)\n",
    "    print(f'chatbot() 실행\\n')\n",
    "    print(f\"[1] state[messages]: \\n{state['messages']}\\n\")\n",
    "    # print(f'[2] chatbot answer: \\n', answer , \"\\n\")\n",
    "    print(f'[2] chatbot answer: \\n', answer.content)\n",
    "    print(f'[3] answer.additional_kwargs: \\n', answer.additional_kwargs)\n",
    "    print('==' * 50)\n",
    "\n",
    "    return {'messages': [answer]}"
   ]
  },
  {
   "cell_type": "code",
   "execution_count": 50,
   "metadata": {},
   "outputs": [],
   "source": [
    "state = State(messages=[('user', '대한민국 계엄령을 검색해주세요.')])"
   ]
  },
  {
   "cell_type": "code",
   "execution_count": 45,
   "metadata": {},
   "outputs": [],
   "source": [
    "# state = State(messages=[{'role':'user', 'content':'소프트웨어 놀이터를 검색해주세요.'}])"
   ]
  },
  {
   "cell_type": "code",
   "execution_count": 51,
   "metadata": {},
   "outputs": [
    {
     "name": "stdout",
     "output_type": "stream",
     "text": [
      "====================================================================================================\n",
      "chatbot() 실행\n",
      "\n",
      "[1] state[messages]: \n",
      "[('user', '대한민국 계엄령을 검색해주세요.')]\n",
      "\n",
      "[2] chatbot answer: \n",
      " \n",
      "[3] answer.additional_kwargs: \n",
      " {'tool_calls': [{'id': 'call_oEw2UK5PDcTOFvYXgfpw2Bj4', 'function': {'arguments': '{\"query\":\"대한민국 계엄령\"}', 'name': 'tavily_web_search'}, 'type': 'function'}], 'refusal': None}\n",
      "====================================================================================================\n"
     ]
    }
   ],
   "source": [
    "result = chatbot(state)"
   ]
  },
  {
   "cell_type": "code",
   "execution_count": 52,
   "metadata": {},
   "outputs": [
    {
     "data": {
      "text/plain": [
       "[AIMessage(content='', additional_kwargs={'tool_calls': [{'id': 'call_oEw2UK5PDcTOFvYXgfpw2Bj4', 'function': {'arguments': '{\"query\":\"대한민국 계엄령\"}', 'name': 'tavily_web_search'}, 'type': 'function'}], 'refusal': None}, response_metadata={'token_usage': {'completion_tokens': 22, 'prompt_tokens': 100, 'total_tokens': 122, 'completion_tokens_details': {'accepted_prediction_tokens': 0, 'audio_tokens': 0, 'reasoning_tokens': 0, 'rejected_prediction_tokens': 0}, 'prompt_tokens_details': {'audio_tokens': 0, 'cached_tokens': 0}}, 'model_name': 'gpt-4o-mini-2024-07-18', 'system_fingerprint': 'fp_13eed4fce1', 'finish_reason': 'tool_calls', 'logprobs': None}, id='run-f46564d2-a906-4d98-80c5-025c8312940f-0', tool_calls=[{'name': 'tavily_web_search', 'args': {'query': '대한민국 계엄령'}, 'id': 'call_oEw2UK5PDcTOFvYXgfpw2Bj4', 'type': 'tool_call'}], usage_metadata={'input_tokens': 100, 'output_tokens': 22, 'total_tokens': 122, 'input_token_details': {'audio': 0, 'cache_read': 0}, 'output_token_details': {'audio': 0, 'reasoning': 0}})]"
      ]
     },
     "execution_count": 52,
     "metadata": {},
     "output_type": "execute_result"
    }
   ],
   "source": [
    "result['messages']"
   ]
  },
  {
   "cell_type": "code",
   "execution_count": 53,
   "metadata": {},
   "outputs": [
    {
     "data": {
      "text/plain": [
       "''"
      ]
     },
     "execution_count": 53,
     "metadata": {},
     "output_type": "execute_result"
    }
   ],
   "source": [
    "result['messages'][-1].content"
   ]
  },
  {
   "cell_type": "code",
   "execution_count": 54,
   "metadata": {},
   "outputs": [
    {
     "data": {
      "text/plain": [
       "{'tool_calls': [{'id': 'call_oEw2UK5PDcTOFvYXgfpw2Bj4',\n",
       "   'function': {'arguments': '{\"query\":\"대한민국 계엄령\"}',\n",
       "    'name': 'tavily_web_search'},\n",
       "   'type': 'function'}],\n",
       " 'refusal': None}"
      ]
     },
     "execution_count": 54,
     "metadata": {},
     "output_type": "execute_result"
    }
   ],
   "source": [
    "result['messages'][-1].additional_kwargs"
   ]
  },
  {
   "cell_type": "code",
   "execution_count": 55,
   "metadata": {},
   "outputs": [
    {
     "data": {
      "text/plain": [
       "{'id': 'call_oEw2UK5PDcTOFvYXgfpw2Bj4',\n",
       " 'function': {'arguments': '{\"query\":\"대한민국 계엄령\"}',\n",
       "  'name': 'tavily_web_search'},\n",
       " 'type': 'function'}"
      ]
     },
     "execution_count": 55,
     "metadata": {},
     "output_type": "execute_result"
    }
   ],
   "source": [
    "result['messages'][-1].additional_kwargs['tool_calls'][0]"
   ]
  },
  {
   "cell_type": "code",
   "execution_count": 56,
   "metadata": {},
   "outputs": [
    {
     "data": {
      "text/plain": [
       "{'arguments': '{\"query\":\"대한민국 계엄령\"}', 'name': 'tavily_web_search'}"
      ]
     },
     "execution_count": 56,
     "metadata": {},
     "output_type": "execute_result"
    }
   ],
   "source": [
    "result['messages'][-1].additional_kwargs['tool_calls'][0]['function']"
   ]
  },
  {
   "cell_type": "code",
   "execution_count": 57,
   "metadata": {},
   "outputs": [
    {
     "data": {
      "text/plain": [
       "'{\"query\":\"대한민국 계엄령\"}'"
      ]
     },
     "execution_count": 57,
     "metadata": {},
     "output_type": "execute_result"
    }
   ],
   "source": [
    "result['messages'][-1].additional_kwargs['tool_calls'][0]['function']['arguments']"
   ]
  },
  {
   "cell_type": "code",
   "execution_count": 58,
   "metadata": {},
   "outputs": [
    {
     "data": {
      "text/plain": [
       "'tavily_web_search'"
      ]
     },
     "execution_count": 58,
     "metadata": {},
     "output_type": "execute_result"
    }
   ],
   "source": [
    "result['messages'][-1].additional_kwargs['tool_calls'][0]['function']['name']"
   ]
  },
  {
   "cell_type": "code",
   "execution_count": 59,
   "metadata": {},
   "outputs": [
    {
     "data": {
      "text/plain": [
       "{'token_usage': {'completion_tokens': 22,\n",
       "  'prompt_tokens': 100,\n",
       "  'total_tokens': 122,\n",
       "  'completion_tokens_details': {'accepted_prediction_tokens': 0,\n",
       "   'audio_tokens': 0,\n",
       "   'reasoning_tokens': 0,\n",
       "   'rejected_prediction_tokens': 0},\n",
       "  'prompt_tokens_details': {'audio_tokens': 0, 'cached_tokens': 0}},\n",
       " 'model_name': 'gpt-4o-mini-2024-07-18',\n",
       " 'system_fingerprint': 'fp_13eed4fce1',\n",
       " 'finish_reason': 'tool_calls',\n",
       " 'logprobs': None}"
      ]
     },
     "execution_count": 59,
     "metadata": {},
     "output_type": "execute_result"
    }
   ],
   "source": [
    "result['messages'][-1].response_metadata"
   ]
  },
  {
   "cell_type": "code",
   "execution_count": 60,
   "metadata": {},
   "outputs": [],
   "source": [
    "state = State(messages=[('user', '대한민국의 수도는 어디야?')])"
   ]
  },
  {
   "cell_type": "code",
   "execution_count": 61,
   "metadata": {},
   "outputs": [
    {
     "name": "stdout",
     "output_type": "stream",
     "text": [
      "====================================================================================================\n",
      "chatbot() 실행\n",
      "\n",
      "[1] state[messages]: \n",
      "[('user', '대한민국의 수도는 어디야?')]\n",
      "\n",
      "[2] chatbot answer: \n",
      " 대한민국의 수도는 서울입니다.\n",
      "[3] answer.additional_kwargs: \n",
      " {'refusal': None}\n",
      "====================================================================================================\n"
     ]
    }
   ],
   "source": [
    "result = chatbot(state)"
   ]
  },
  {
   "cell_type": "code",
   "execution_count": 62,
   "metadata": {},
   "outputs": [
    {
     "name": "stdout",
     "output_type": "stream",
     "text": [
      "[AIMessage(content='대한민국의 수도는 서울입니다.', additional_kwargs={'refusal': None}, response_metadata={'token_usage': {'completion_tokens': 10, 'prompt_tokens': 99, 'total_tokens': 109, 'completion_tokens_details': {'accepted_prediction_tokens': 0, 'audio_tokens': 0, 'reasoning_tokens': 0, 'rejected_prediction_tokens': 0}, 'prompt_tokens_details': {'audio_tokens': 0, 'cached_tokens': 0}}, 'model_name': 'gpt-4o-mini-2024-07-18', 'system_fingerprint': 'fp_13eed4fce1', 'finish_reason': 'stop', 'logprobs': None}, id='run-58ff63ac-08f3-4804-bb35-091124c9f9e7-0', usage_metadata={'input_tokens': 99, 'output_tokens': 10, 'total_tokens': 109, 'input_token_details': {'audio': 0, 'cache_read': 0}, 'output_token_details': {'audio': 0, 'reasoning': 0}})]\n",
      "====================================================================\n",
      "대한민국의 수도는 서울입니다.\n",
      "====================================================================\n",
      "{'refusal': None}\n",
      "====================================================================\n",
      "{'token_usage': {'completion_tokens': 10, 'prompt_tokens': 99, 'total_tokens': 109, 'completion_tokens_details': {'accepted_prediction_tokens': 0, 'audio_tokens': 0, 'reasoning_tokens': 0, 'rejected_prediction_tokens': 0}, 'prompt_tokens_details': {'audio_tokens': 0, 'cached_tokens': 0}}, 'model_name': 'gpt-4o-mini-2024-07-18', 'system_fingerprint': 'fp_13eed4fce1', 'finish_reason': 'stop', 'logprobs': None}\n",
      "====================================================================\n"
     ]
    }
   ],
   "source": [
    "print(result['messages'])\n",
    "print('====================================================================')\n",
    "\n",
    "print(result['messages'][-1].content)\n",
    "print('====================================================================')\n",
    "\n",
    "print(result['messages'][-1].additional_kwargs)\n",
    "print('====================================================================')\n",
    "\n",
    "print(result['messages'][-1].response_metadata)\n",
    "print('====================================================================')"
   ]
  }
 ],
 "metadata": {
  "kernelspec": {
   "display_name": "venv",
   "language": "python",
   "name": "python3"
  },
  "language_info": {
   "codemirror_mode": {
    "name": "ipython",
    "version": 3
   },
   "file_extension": ".py",
   "mimetype": "text/x-python",
   "name": "python",
   "nbconvert_exporter": "python",
   "pygments_lexer": "ipython3",
   "version": "3.11.9"
  }
 },
 "nbformat": 4,
 "nbformat_minor": 2
}
