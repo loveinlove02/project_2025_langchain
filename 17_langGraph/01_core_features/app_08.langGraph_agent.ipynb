{
 "cells": [
  {
   "cell_type": "code",
   "execution_count": 14,
   "metadata": {},
   "outputs": [],
   "source": [
    "from dotenv import load_dotenv\n",
    "import os\n",
    "\n",
    "load_dotenv(verbose=True)\n",
    "key = os.getenv('OPENAI_API_KEY')"
   ]
  },
  {
   "cell_type": "code",
   "execution_count": 15,
   "metadata": {},
   "outputs": [],
   "source": [
    "from langchain_teddynote.tools.tavily import TavilySearch\n",
    "\n",
    "tool = TavilySearch(max_results=1)      # 검색 도구 생성\n",
    "\n",
    "tools = [tool]                          # 도구 목록에 넣기                          "
   ]
  },
  {
   "cell_type": "code",
   "execution_count": 16,
   "metadata": {},
   "outputs": [],
   "source": [
    "from typing import Annotated\n",
    "from typing_extensions import TypedDict\n",
    "from langgraph.graph.message import add_messages\n",
    "\n",
    "class State(TypedDict):\n",
    "    messages: Annotated[list, add_messages]"
   ]
  },
  {
   "cell_type": "code",
   "execution_count": 17,
   "metadata": {},
   "outputs": [],
   "source": [
    "from langchain_openai import ChatOpenAI\n",
    "\n",
    "llm = ChatOpenAI(\n",
    "    api_key=key, \n",
    "    model_name='gpt-4o-mini',\n",
    "    temperature=0.1\n",
    ")"
   ]
  },
  {
   "cell_type": "code",
   "execution_count": 18,
   "metadata": {},
   "outputs": [],
   "source": [
    "# LLM 에 도구 바인딩\n",
    "llm_with_tools = llm.bind_tools(tools)"
   ]
  },
  {
   "cell_type": "code",
   "execution_count": 19,
   "metadata": {},
   "outputs": [],
   "source": [
    "def chatbot(state: State):\n",
    "    print('===== chatbot() 함수 시작 =====')\n",
    "    answer = llm_with_tools.invoke(state['messages'])\n",
    "    print('===== chatbot() 함수  끝 =====')\n",
    "\n",
    "    return {'messages': [answer]}"
   ]
  },
  {
   "cell_type": "code",
   "execution_count": 20,
   "metadata": {},
   "outputs": [],
   "source": [
    "state = State(messages=[('user', '대한민국 계엄령을 검색해주세요.')])"
   ]
  },
  {
   "cell_type": "code",
   "execution_count": 21,
   "metadata": {},
   "outputs": [
    {
     "name": "stdout",
     "output_type": "stream",
     "text": [
      "===== chatbot() 함수 시작 =====\n",
      "===== chatbot() 함수  끝 =====\n"
     ]
    }
   ],
   "source": [
    "result = chatbot(state)"
   ]
  },
  {
   "cell_type": "code",
   "execution_count": 22,
   "metadata": {},
   "outputs": [
    {
     "data": {
      "text/plain": [
       "[AIMessage(content='', additional_kwargs={'tool_calls': [{'id': 'call_ep35KzUEeETjW1CVAS1nkjLr', 'function': {'arguments': '{\"query\":\"대한민국 계엄령\"}', 'name': 'tavily_web_search'}, 'type': 'function'}], 'refusal': None}, response_metadata={'token_usage': {'completion_tokens': 22, 'prompt_tokens': 100, 'total_tokens': 122, 'completion_tokens_details': {'accepted_prediction_tokens': 0, 'audio_tokens': 0, 'reasoning_tokens': 0, 'rejected_prediction_tokens': 0}, 'prompt_tokens_details': {'audio_tokens': 0, 'cached_tokens': 0}}, 'model_name': 'gpt-4o-mini-2024-07-18', 'system_fingerprint': 'fp_b8bc95a0ac', 'finish_reason': 'tool_calls', 'logprobs': None}, id='run-bd26dd83-a8eb-4492-b88b-858017b96a51-0', tool_calls=[{'name': 'tavily_web_search', 'args': {'query': '대한민국 계엄령'}, 'id': 'call_ep35KzUEeETjW1CVAS1nkjLr', 'type': 'tool_call'}], usage_metadata={'input_tokens': 100, 'output_tokens': 22, 'total_tokens': 122, 'input_token_details': {'audio': 0, 'cache_read': 0}, 'output_token_details': {'audio': 0, 'reasoning': 0}})]"
      ]
     },
     "execution_count": 22,
     "metadata": {},
     "output_type": "execute_result"
    }
   ],
   "source": [
    "result['messages']"
   ]
  },
  {
   "cell_type": "code",
   "execution_count": 23,
   "metadata": {},
   "outputs": [
    {
     "data": {
      "text/plain": [
       "''"
      ]
     },
     "execution_count": 23,
     "metadata": {},
     "output_type": "execute_result"
    }
   ],
   "source": [
    "result['messages'][-1].content"
   ]
  },
  {
   "cell_type": "code",
   "execution_count": 24,
   "metadata": {},
   "outputs": [
    {
     "data": {
      "text/plain": [
       "{'tool_calls': [{'id': 'call_ep35KzUEeETjW1CVAS1nkjLr',\n",
       "   'function': {'arguments': '{\"query\":\"대한민국 계엄령\"}',\n",
       "    'name': 'tavily_web_search'},\n",
       "   'type': 'function'}],\n",
       " 'refusal': None}"
      ]
     },
     "execution_count": 24,
     "metadata": {},
     "output_type": "execute_result"
    }
   ],
   "source": [
    "result['messages'][-1].additional_kwargs"
   ]
  },
  {
   "cell_type": "code",
   "execution_count": 25,
   "metadata": {},
   "outputs": [
    {
     "data": {
      "text/plain": [
       "{'id': 'call_ep35KzUEeETjW1CVAS1nkjLr',\n",
       " 'function': {'arguments': '{\"query\":\"대한민국 계엄령\"}',\n",
       "  'name': 'tavily_web_search'},\n",
       " 'type': 'function'}"
      ]
     },
     "execution_count": 25,
     "metadata": {},
     "output_type": "execute_result"
    }
   ],
   "source": [
    "result['messages'][-1].additional_kwargs['tool_calls'][0]"
   ]
  },
  {
   "cell_type": "code",
   "execution_count": 26,
   "metadata": {},
   "outputs": [
    {
     "data": {
      "text/plain": [
       "{'arguments': '{\"query\":\"대한민국 계엄령\"}', 'name': 'tavily_web_search'}"
      ]
     },
     "execution_count": 26,
     "metadata": {},
     "output_type": "execute_result"
    }
   ],
   "source": [
    "result['messages'][-1].additional_kwargs['tool_calls'][0]['function']"
   ]
  },
  {
   "cell_type": "code",
   "execution_count": 27,
   "metadata": {},
   "outputs": [
    {
     "data": {
      "text/plain": [
       "'{\"query\":\"대한민국 계엄령\"}'"
      ]
     },
     "execution_count": 27,
     "metadata": {},
     "output_type": "execute_result"
    }
   ],
   "source": [
    "result['messages'][-1].additional_kwargs['tool_calls'][0]['function']['arguments']"
   ]
  },
  {
   "cell_type": "code",
   "execution_count": 28,
   "metadata": {},
   "outputs": [
    {
     "data": {
      "text/plain": [
       "'tavily_web_search'"
      ]
     },
     "execution_count": 28,
     "metadata": {},
     "output_type": "execute_result"
    }
   ],
   "source": [
    "result['messages'][-1].additional_kwargs['tool_calls'][0]['function']['name']"
   ]
  },
  {
   "cell_type": "code",
   "execution_count": 29,
   "metadata": {},
   "outputs": [
    {
     "data": {
      "text/plain": [
       "{'token_usage': {'completion_tokens': 22,\n",
       "  'prompt_tokens': 100,\n",
       "  'total_tokens': 122,\n",
       "  'completion_tokens_details': {'accepted_prediction_tokens': 0,\n",
       "   'audio_tokens': 0,\n",
       "   'reasoning_tokens': 0,\n",
       "   'rejected_prediction_tokens': 0},\n",
       "  'prompt_tokens_details': {'audio_tokens': 0, 'cached_tokens': 0}},\n",
       " 'model_name': 'gpt-4o-mini-2024-07-18',\n",
       " 'system_fingerprint': 'fp_b8bc95a0ac',\n",
       " 'finish_reason': 'tool_calls',\n",
       " 'logprobs': None}"
      ]
     },
     "execution_count": 29,
     "metadata": {},
     "output_type": "execute_result"
    }
   ],
   "source": [
    "result['messages'][-1].response_metadata"
   ]
  },
  {
   "cell_type": "code",
   "execution_count": 30,
   "metadata": {},
   "outputs": [
    {
     "data": {
      "text/plain": [
       "[{'name': 'tavily_web_search',\n",
       "  'args': {'query': '대한민국 계엄령'},\n",
       "  'id': 'call_ep35KzUEeETjW1CVAS1nkjLr',\n",
       "  'type': 'tool_call'}]"
      ]
     },
     "execution_count": 30,
     "metadata": {},
     "output_type": "execute_result"
    }
   ],
   "source": [
    "result['messages'][-1].tool_calls"
   ]
  },
  {
   "cell_type": "code",
   "execution_count": 31,
   "metadata": {},
   "outputs": [
    {
     "data": {
      "text/plain": [
       "{'name': 'tavily_web_search',\n",
       " 'args': {'query': '대한민국 계엄령'},\n",
       " 'id': 'call_ep35KzUEeETjW1CVAS1nkjLr',\n",
       " 'type': 'tool_call'}"
      ]
     },
     "execution_count": 31,
     "metadata": {},
     "output_type": "execute_result"
    }
   ],
   "source": [
    "result['messages'][-1].tool_calls[0]"
   ]
  },
  {
   "cell_type": "code",
   "execution_count": 32,
   "metadata": {},
   "outputs": [
    {
     "data": {
      "text/plain": [
       "'tavily_web_search'"
      ]
     },
     "execution_count": 32,
     "metadata": {},
     "output_type": "execute_result"
    }
   ],
   "source": [
    "result['messages'][-1].tool_calls[0]['name']"
   ]
  },
  {
   "cell_type": "code",
   "execution_count": null,
   "metadata": {},
   "outputs": [
    {
     "data": {
      "text/plain": [
       "{'query': '대한민국 계엄령'}"
      ]
     },
     "execution_count": 34,
     "metadata": {},
     "output_type": "execute_result"
    }
   ],
   "source": [
    "result['messages'][-1].tool_calls[0]['args']"
   ]
  },
  {
   "cell_type": "code",
   "execution_count": 35,
   "metadata": {},
   "outputs": [
    {
     "data": {
      "text/plain": [
       "'call_ep35KzUEeETjW1CVAS1nkjLr'"
      ]
     },
     "execution_count": 35,
     "metadata": {},
     "output_type": "execute_result"
    }
   ],
   "source": [
    "result['messages'][-1].tool_calls[0]['id']"
   ]
  },
  {
   "cell_type": "code",
   "execution_count": 36,
   "metadata": {},
   "outputs": [
    {
     "data": {
      "text/plain": [
       "'tool_call'"
      ]
     },
     "execution_count": 36,
     "metadata": {},
     "output_type": "execute_result"
    }
   ],
   "source": [
    "result['messages'][-1].tool_calls[0]['type']"
   ]
  },
  {
   "cell_type": "code",
   "execution_count": 37,
   "metadata": {},
   "outputs": [
    {
     "data": {
      "text/plain": [
       "'\\n[AIMessage(\\n\\ncontent=\\'\\', \\n\\nadditional_kwargs=\\n  {\\n     \\'tool_calls\\': [\\n                       {\\n                           \\'id\\': \\'call_s1FUvflEJXHGxN4j2liWJTTX\\', \\n                           \\'function\\': \\n                            {\\n                                \\'arguments\\': \\'{\"query\":\"대한민국 계엄령\"}\\',  \\n                                \\'name\\': \\'tavily_web_search\\'\\n                            }, \\n                           \\'type\\': \\'function\\'\\n                       }\\n                    ], \\n     \\'refusal\\': None\\n }, \\n\\nresponse_metadata=\\n   {\\n     \\'token_usage\\': \\n       {\\n         \\'completion_tokens\\': 22, \\n         \\'prompt_tokens\\': 100, \\n         \\'total_tokens\\': 122, \\n         \\'completion_tokens_details\\': \\n            {\\n              \\'accepted_prediction_tokens\\': 0, \\n              \\'audio_tokens\\': 0, \\n              \\'reasoning_tokens\\': 0,\\n              \\'rejected_prediction_tokens\\': 0\\n            }, \\n\\n         \\'prompt_tokens_details\\': {\\'audio_tokens\\': 0, \\'cached_tokens\\': 0}\\n        }, \\n\\n      \\'model_name\\': \\'gpt-4o-mini-2024-07-18\\', \\n      \\'system_fingerprint\\': \\'fp_b8bc95a0ac\\', \\n      \\'finish_reason\\': \\'tool_calls\\', \\n      \\'logprobs\\': None\\n  }, \\n\\nid=\\'run-7652d49d-48da-4cf1-88ce-0b5030b0c761-0\\', \\n\\ntool_calls=\\n     [\\n       {\\n          \\'name\\': \\'tavily_web_search\\', \\'args\\': {\\'query\\': \\'대한민국 계엄령\\'}, \\n          \\'id\\': \\'call_s1FUvflEJXHGxN4j2liWJTTX\\', \\n          \\'type\\': \\'tool_call\\'\\n       }\\n     ], \\n\\nusage_metadata=\\n  {\\n      \\'input_tokens\\': 100, \\n      \\'output_tokens\\': 22, \\n      \\'total_tokens\\': 122, \\n      \\'input_token_details\\': {\\'audio\\': 0, \\'cache_read\\': 0}, \\n      \\'output_token_details\\': {\\'audio\\': 0, \\'reasoning\\': 0}\\n  }\\n\\n)]\\n'"
      ]
     },
     "execution_count": 37,
     "metadata": {},
     "output_type": "execute_result"
    }
   ],
   "source": [
    "\"\"\"\n",
    "[AIMessage(\n",
    "\n",
    "content='', \n",
    "\n",
    "additional_kwargs=\n",
    "  {\n",
    "     'tool_calls': [\n",
    "                       {\n",
    "                           'id': 'call_s1FUvflEJXHGxN4j2liWJTTX', \n",
    "                           'function': \n",
    "                            {\n",
    "                                'arguments': '{\"query\":\"대한민국 계엄령\"}',  \n",
    "                                'name': 'tavily_web_search'\n",
    "                            }, \n",
    "                           'type': 'function'\n",
    "                       }\n",
    "                    ], \n",
    "     'refusal': None\n",
    " }, \n",
    "\n",
    "response_metadata=\n",
    "   {\n",
    "     'token_usage': \n",
    "       {\n",
    "         'completion_tokens': 22, \n",
    "         'prompt_tokens': 100, \n",
    "         'total_tokens': 122, \n",
    "         'completion_tokens_details': \n",
    "            {\n",
    "              'accepted_prediction_tokens': 0, \n",
    "              'audio_tokens': 0, \n",
    "              'reasoning_tokens': 0,\n",
    "              'rejected_prediction_tokens': 0\n",
    "            }, \n",
    "\n",
    "         'prompt_tokens_details': {'audio_tokens': 0, 'cached_tokens': 0}\n",
    "        }, \n",
    "\n",
    "      'model_name': 'gpt-4o-mini-2024-07-18', \n",
    "      'system_fingerprint': 'fp_b8bc95a0ac', \n",
    "      'finish_reason': 'tool_calls', \n",
    "      'logprobs': None\n",
    "  }, \n",
    "\n",
    "id='run-7652d49d-48da-4cf1-88ce-0b5030b0c761-0', \n",
    "\n",
    "tool_calls=\n",
    "     [\n",
    "       {\n",
    "          'name': 'tavily_web_search', 'args': {'query': '대한민국 계엄령'}, \n",
    "          'id': 'call_s1FUvflEJXHGxN4j2liWJTTX', \n",
    "          'type': 'tool_call'\n",
    "       }\n",
    "     ], \n",
    "\n",
    "usage_metadata=\n",
    "  {\n",
    "      'input_tokens': 100, \n",
    "      'output_tokens': 22, \n",
    "      'total_tokens': 122, \n",
    "      'input_token_details': {'audio': 0, 'cache_read': 0}, \n",
    "      'output_token_details': {'audio': 0, 'reasoning': 0}\n",
    "  }\n",
    "\n",
    ")]\n",
    "\"\"\""
   ]
  }
 ],
 "metadata": {
  "kernelspec": {
   "display_name": "venv",
   "language": "python",
   "name": "python3"
  },
  "language_info": {
   "codemirror_mode": {
    "name": "ipython",
    "version": 3
   },
   "file_extension": ".py",
   "mimetype": "text/x-python",
   "name": "python",
   "nbconvert_exporter": "python",
   "pygments_lexer": "ipython3",
   "version": "3.11.9"
  }
 },
 "nbformat": 4,
 "nbformat_minor": 2
}
