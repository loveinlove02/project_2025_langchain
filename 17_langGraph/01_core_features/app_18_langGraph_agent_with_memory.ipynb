{
 "cells": [
  {
   "cell_type": "code",
   "execution_count": 1,
   "metadata": {},
   "outputs": [],
   "source": [
    "from dotenv import load_dotenv\n",
    "import os\n",
    "\n",
    "load_dotenv(verbose=True)\n",
    "key = os.getenv('OPENAI_API_KEY')"
   ]
  },
  {
   "cell_type": "code",
   "execution_count": 2,
   "metadata": {},
   "outputs": [],
   "source": [
    "from typing import Annotated, List, Dict\n",
    "from typing_extensions import TypedDict\n",
    "from langgraph.graph.message import add_messages"
   ]
  },
  {
   "cell_type": "code",
   "execution_count": 3,
   "metadata": {},
   "outputs": [],
   "source": [
    "from langgraph.graph import StateGraph \n",
    "from langgraph.graph import START, END"
   ]
  },
  {
   "cell_type": "code",
   "execution_count": 4,
   "metadata": {},
   "outputs": [],
   "source": [
    "from langgraph.prebuilt import ToolNode, tools_condition\n",
    "from langchain_core.tools import tool"
   ]
  },
  {
   "cell_type": "code",
   "execution_count": 5,
   "metadata": {},
   "outputs": [],
   "source": [
    "from langchain_teddynote.tools.tavily import TavilySearch\n",
    "from langchain_teddynote.tools import GoogleNews"
   ]
  },
  {
   "cell_type": "code",
   "execution_count": 6,
   "metadata": {},
   "outputs": [],
   "source": [
    "from langchain_openai import ChatOpenAI"
   ]
  },
  {
   "cell_type": "code",
   "execution_count": 7,
   "metadata": {},
   "outputs": [],
   "source": [
    "from langchain_teddynote.graphs import visualize_graph\n",
    "from langchain_teddynote.messages import display_message_tree\n",
    "from langchain_core.runnables import RunnableConfig"
   ]
  },
  {
   "cell_type": "code",
   "execution_count": 8,
   "metadata": {},
   "outputs": [],
   "source": [
    "from langgraph.checkpoint.memory import MemorySaver\n",
    "\n",
    "memory = MemorySaver()"
   ]
  },
  {
   "cell_type": "code",
   "execution_count": 9,
   "metadata": {},
   "outputs": [],
   "source": [
    "######### 1. 상태 정의 #########\n",
    "\n",
    "# 상태 정의\n",
    "class State(TypedDict):\n",
    "    messages: Annotated[list, add_messages]"
   ]
  },
  {
   "cell_type": "code",
   "execution_count": 10,
   "metadata": {},
   "outputs": [],
   "source": [
    "######### 2. 도구 정의 및 바인딩 #########\n",
    "\n",
    "search_tool = TavilySearch(max_results=1)"
   ]
  },
  {
   "cell_type": "code",
   "execution_count": 11,
   "metadata": {},
   "outputs": [],
   "source": [
    "@tool\n",
    "def search_keyword(query: str) -> List[Dict[str, str]]:\n",
    "    \"\"\"Look up news by keyword\"\"\"\n",
    "    news_tool = GoogleNews()\n",
    "    return news_tool.search_by_keyword(query, k=1)"
   ]
  },
  {
   "cell_type": "code",
   "execution_count": 12,
   "metadata": {},
   "outputs": [],
   "source": [
    "tools = [search_tool, search_keyword]"
   ]
  },
  {
   "cell_type": "code",
   "execution_count": 13,
   "metadata": {},
   "outputs": [],
   "source": [
    "######### 3. LLM을 도구와 결합 #########\n",
    "\n",
    "llm = ChatOpenAI(\n",
    "    api_key=key, \n",
    "    model_name='gpt-4o-mini',\n",
    "    temperature=0.1\n",
    ")"
   ]
  },
  {
   "cell_type": "code",
   "execution_count": 14,
   "metadata": {},
   "outputs": [],
   "source": [
    "llm_with_tools = llm.bind_tools(tools)"
   ]
  },
  {
   "cell_type": "code",
   "execution_count": 15,
   "metadata": {},
   "outputs": [],
   "source": [
    "def chatbot(state: State):\n",
    "    answer = llm_with_tools.invoke(state['messages'])\n",
    "\n",
    "    print('=================================================================================')\n",
    "    print(f'chatbot() 실행\\n')\n",
    "    print(f\"[1] state[messages]: \\n{state['messages']}\\n\")\n",
    "    # print(f'[2] chatbot answer: \\n', answer , \"\\n\")\n",
    "    print(f'[2] chatbot answer: \\n', answer.content)\n",
    "    print(f'[3] answer.additional_kwargs: \\n', answer.additional_kwargs)\n",
    "    print('=================================================================================')\n",
    "\n",
    "    return {'messages': [answer]}"
   ]
  },
  {
   "cell_type": "code",
   "execution_count": 16,
   "metadata": {},
   "outputs": [],
   "source": [
    "graph_builder = StateGraph(State)"
   ]
  },
  {
   "cell_type": "code",
   "execution_count": 17,
   "metadata": {},
   "outputs": [
    {
     "data": {
      "text/plain": [
       "<langgraph.graph.state.StateGraph at 0x150d811ca10>"
      ]
     },
     "execution_count": 17,
     "metadata": {},
     "output_type": "execute_result"
    }
   ],
   "source": [
    "graph_builder.add_node('chatbot', chatbot)"
   ]
  },
  {
   "cell_type": "code",
   "execution_count": 18,
   "metadata": {},
   "outputs": [],
   "source": [
    "tool_node = ToolNode(tools=[search_tool, search_keyword])"
   ]
  },
  {
   "cell_type": "code",
   "execution_count": 19,
   "metadata": {},
   "outputs": [
    {
     "data": {
      "text/plain": [
       "<langgraph.graph.state.StateGraph at 0x150d811ca10>"
      ]
     },
     "execution_count": 19,
     "metadata": {},
     "output_type": "execute_result"
    }
   ],
   "source": [
    "graph_builder.add_node('tools', tool_node)"
   ]
  },
  {
   "cell_type": "code",
   "execution_count": 20,
   "metadata": {},
   "outputs": [
    {
     "data": {
      "text/plain": [
       "<langgraph.graph.state.StateGraph at 0x150d811ca10>"
      ]
     },
     "execution_count": 20,
     "metadata": {},
     "output_type": "execute_result"
    }
   ],
   "source": [
    "graph_builder.add_conditional_edges(\n",
    "    'chatbot',\n",
    "    tools_condition\n",
    ")"
   ]
  },
  {
   "cell_type": "code",
   "execution_count": 21,
   "metadata": {},
   "outputs": [
    {
     "data": {
      "text/plain": [
       "<langgraph.graph.state.StateGraph at 0x150d811ca10>"
      ]
     },
     "execution_count": 21,
     "metadata": {},
     "output_type": "execute_result"
    }
   ],
   "source": [
    "######### 5. 엣지 추가 #########\n",
    "\n",
    "# tools 에서 chatbot 으로\n",
    "graph_builder.add_edge('tools', 'chatbot')"
   ]
  },
  {
   "cell_type": "code",
   "execution_count": 22,
   "metadata": {},
   "outputs": [
    {
     "data": {
      "text/plain": [
       "<langgraph.graph.state.StateGraph at 0x150d811ca10>"
      ]
     },
     "execution_count": 22,
     "metadata": {},
     "output_type": "execute_result"
    }
   ],
   "source": [
    "# START 에서 chatbot 으로\n",
    "graph_builder.add_edge(START, 'chatbot')"
   ]
  },
  {
   "cell_type": "code",
   "execution_count": 23,
   "metadata": {},
   "outputs": [
    {
     "data": {
      "text/plain": [
       "<langgraph.graph.state.StateGraph at 0x150d811ca10>"
      ]
     },
     "execution_count": 23,
     "metadata": {},
     "output_type": "execute_result"
    }
   ],
   "source": [
    "# chatbot 에서 END 로\n",
    "graph_builder.add_edge('chatbot', END)"
   ]
  },
  {
   "cell_type": "code",
   "execution_count": 24,
   "metadata": {},
   "outputs": [],
   "source": [
    "graph = graph_builder.compile(checkpointer=memory)"
   ]
  },
  {
   "cell_type": "code",
   "execution_count": 25,
   "metadata": {},
   "outputs": [
    {
     "data": {
      "image/png": "[encoded data removed]",
      "text/plain": [
       "<IPython.core.display.Image object>"
      ]
     },
     "metadata": {},
     "output_type": "display_data"
    }
   ],
   "source": [
    "visualize_graph(graph)"
   ]
  },
  {
   "cell_type": "code",
   "execution_count": 28,
   "metadata": {},
   "outputs": [],
   "source": [
    "from langchain.schema import HumanMessage, AIMessage\n",
    "from langchain_core.messages import ToolMessage"
   ]
  },
  {
   "cell_type": "code",
   "execution_count": 29,
   "metadata": {},
   "outputs": [],
   "source": [
    "config = RunnableConfig(\n",
    "    recursion_limit=10, \n",
    "    configurable={'thread_id': '1'}\n",
    ")"
   ]
  },
  {
   "cell_type": "code",
   "execution_count": 30,
   "metadata": {},
   "outputs": [
    {
     "name": "stdout",
     "output_type": "stream",
     "text": [
      "=================================================================================\n",
      "chatbot() 실행\n",
      "\n",
      "[1] state[messages]: \n",
      "[HumanMessage(content='랭체인에 대해서 뉴스 검색을 해주세요', additional_kwargs={}, response_metadata={}, id='f0ed3fff-31b4-4558-aeec-5cc135bd7463')]\n",
      "\n",
      "[2] chatbot answer: \n",
      " \n",
      "[3] answer.additional_kwargs: \n",
      " {'tool_calls': [{'id': 'call_7I9tNqgbCGsmTW2bMPM1dnD7', 'function': {'arguments': '{\"query\":\"랭체인\"}', 'name': 'search_keyword'}, 'type': 'function'}], 'refusal': None}\n",
      "=================================================================================\n",
      "====================================================================================================\n",
      "[event]\n",
      "노드 이름 key: chatbot\n",
      "==================== AIMessage ========================\n",
      "노드 값 value: \n",
      "content='' additional_kwargs={'tool_calls': [{'id': 'call_7I9tNqgbCGsmTW2bMPM1dnD7', 'function': {'arguments': '{\"query\":\"랭체인\"}', 'name': 'search_keyword'}, 'type': 'function'}], 'refusal': None} response_metadata={'token_usage': {'completion_tokens': 18, 'prompt_tokens': 122, 'total_tokens': 140, 'completion_tokens_details': {'accepted_prediction_tokens': 0, 'audio_tokens': 0, 'reasoning_tokens': 0, 'rejected_prediction_tokens': 0}, 'prompt_tokens_details': {'audio_tokens': 0, 'cached_tokens': 0}}, 'model_name': 'gpt-4o-mini-2024-07-18', 'system_fingerprint': 'fp_7fcd609668', 'finish_reason': 'tool_calls', 'logprobs': None} id='run-45750cc6-efb5-42e8-9f50-4cb4c0e10606-0' tool_calls=[{'name': 'search_keyword', 'args': {'query': '랭체인'}, 'id': 'call_7I9tNqgbCGsmTW2bMPM1dnD7', 'type': 'tool_call'}] usage_metadata={'input_tokens': 122, 'output_tokens': 18, 'total_tokens': 140, 'input_token_details': {'audio': 0, 'cache_read': 0}, 'output_token_details': {'audio': 0, 'reasoning': 0}}\n",
      "==================== END AIMessage ====================\n",
      "\n",
      "====================================================================================================\n",
      "====================================================================================================\n",
      "[event]\n",
      "노드 이름 key: tools\n",
      "==================== ToolMessage ========================\n",
      "노드 값 value: \n",
      "content='[{\"url\": \"https://news.google.com/rss/articles/CBMiwgJBVV95cUxPM0hHcjNGR0RiT0M2QlplRlcxdjdYZE5WTk9zZ2lGVEIxd05hdktEbmRNNTBnLWJ1NEl3LWRPVTNfdFIxX1VOUURxdHdrWTdHOG9LQ3BrOUtWWUl1T0ZianhSckt1NGNtelAweTQ1LXpQTC1DVG50ZUVOOFV1VldBSEZvN2toemJuR3hfQXVfTXBKLVhzWDZMQ25kc1JQM1VnYTRFOTVYSmRFQWJGYWItdTJkNTdXaXlpYzY2dHg0aWM5WVlBQkFRb0N6WGNSWWdVaXhiY1ZXUGJuZ0dpVWtielpJQlV4dFAyZzB6Q2Z0Y1V6SjVZRU5QS0hsRUN0N19EbUc4RXFpV090M2ZZVjZUbS03cC13bFk1M0xrTnJMeHJUOC10dkctbGpJYnFRVHZfVXlQMU5nNDRUbndmbkFiZWFR?oc=5\", \"content\": \"구글, 데이터베이스용 ‘생성형 AI 툴박스’ 공개 베타 발표 \\\\\"랭체인과 협력\\\\\" - CIO.com\"}]' name='search_keyword' id='d3aafb4f-bd17-4947-9cae-17b35721a533' tool_call_id='call_7I9tNqgbCGsmTW2bMPM1dnD7'\n",
      "==================== END ToolMessage ====================\n",
      "\n",
      "====================================================================================================\n",
      "=================================================================================\n",
      "chatbot() 실행\n",
      "\n",
      "[1] state[messages]: \n",
      "[HumanMessage(content='랭체인에 대해서 뉴스 검색을 해주세요', additional_kwargs={}, response_metadata={}, id='f0ed3fff-31b4-4558-aeec-5cc135bd7463'), AIMessage(content='', additional_kwargs={'tool_calls': [{'id': 'call_7I9tNqgbCGsmTW2bMPM1dnD7', 'function': {'arguments': '{\"query\":\"랭체인\"}', 'name': 'search_keyword'}, 'type': 'function'}], 'refusal': None}, response_metadata={'token_usage': {'completion_tokens': 18, 'prompt_tokens': 122, 'total_tokens': 140, 'completion_tokens_details': {'accepted_prediction_tokens': 0, 'audio_tokens': 0, 'reasoning_tokens': 0, 'rejected_prediction_tokens': 0}, 'prompt_tokens_details': {'audio_tokens': 0, 'cached_tokens': 0}}, 'model_name': 'gpt-4o-mini-2024-07-18', 'system_fingerprint': 'fp_7fcd609668', 'finish_reason': 'tool_calls', 'logprobs': None}, id='run-45750cc6-efb5-42e8-9f50-4cb4c0e10606-0', tool_calls=[{'name': 'search_keyword', 'args': {'query': '랭체인'}, 'id': 'call_7I9tNqgbCGsmTW2bMPM1dnD7', 'type': 'tool_call'}], usage_metadata={'input_tokens': 122, 'output_tokens': 18, 'total_tokens': 140, 'input_token_details': {'audio': 0, 'cache_read': 0}, 'output_token_details': {'audio': 0, 'reasoning': 0}}), ToolMessage(content='[{\"url\": \"https://news.google.com/rss/articles/CBMiwgJBVV95cUxPM0hHcjNGR0RiT0M2QlplRlcxdjdYZE5WTk9zZ2lGVEIxd05hdktEbmRNNTBnLWJ1NEl3LWRPVTNfdFIxX1VOUURxdHdrWTdHOG9LQ3BrOUtWWUl1T0ZianhSckt1NGNtelAweTQ1LXpQTC1DVG50ZUVOOFV1VldBSEZvN2toemJuR3hfQXVfTXBKLVhzWDZMQ25kc1JQM1VnYTRFOTVYSmRFQWJGYWItdTJkNTdXaXlpYzY2dHg0aWM5WVlBQkFRb0N6WGNSWWdVaXhiY1ZXUGJuZ0dpVWtielpJQlV4dFAyZzB6Q2Z0Y1V6SjVZRU5QS0hsRUN0N19EbUc4RXFpV090M2ZZVjZUbS03cC13bFk1M0xrTnJMeHJUOC10dkctbGpJYnFRVHZfVXlQMU5nNDRUbndmbkFiZWFR?oc=5\", \"content\": \"구글, 데이터베이스용 ‘생성형 AI 툴박스’ 공개 베타 발표 \\\\\"랭체인과 협력\\\\\" - CIO.com\"}]', name='search_keyword', id='d3aafb4f-bd17-4947-9cae-17b35721a533', tool_call_id='call_7I9tNqgbCGsmTW2bMPM1dnD7')]\n",
      "\n",
      "[2] chatbot answer: \n",
      " 최근 뉴스에 따르면 구글이 데이터베이스용 '생성형 AI 툴박스'를 공개 베타로 발표하며 랭체인과 협력하고 있다는 소식이 있습니다. 자세한 내용은 [여기에서 확인할 수 있습니다](https://news.google.com/rss/articles/CBMiwgJBVV95cUxPM0hHcjNGR0RiT0M2QlplRlcxdjdYZE5WTk9zZ2lGVEIxd05hdktEbmRNNTBnLWJ1NEl3LWRPVTNfdFIxX1VOUURxdHdrWTdHOG9LQ3BrOUtWWUl1T0ZianhSckt1NGNtelAweTQ1LXpQTC1DVG50ZUVOOFV1VldBSEZvN2toemJuR3hfQXVfTXBKLVhzWDZMQ25kc1JQM1VnYTRFOTVYSmRFQWJGYWItdTJkNTdXaXlpYzY2dHg0aWM5WVlBQkFRb0N6WGNSWWdVaXhiY1ZXUGJuZ0dpVWtielpJQlV4dFAyZzB6Q2Z0Y1V6SjVZRU5QS0hsRUN0N19EbUc4RXFpV090M2ZZVjZUbS03cC13bFk1M0xrTnJMeHJUOC10dkctbGpJYnFRVHZfVXlQMU5nNDRUbndmbkFiZWFR?oc=5).\n",
      "[3] answer.additional_kwargs: \n",
      " {'refusal': None}\n",
      "=================================================================================\n",
      "====================================================================================================\n",
      "[event]\n",
      "노드 이름 key: chatbot\n",
      "==================== AIMessage ========================\n",
      "노드 값 value: \n",
      "content=\"최근 뉴스에 따르면 구글이 데이터베이스용 '생성형 AI 툴박스'를 공개 베타로 발표하며 랭체인과 협력하고 있다는 소식이 있습니다. 자세한 내용은 [여기에서 확인할 수 있습니다](https://news.google.com/rss/articles/CBMiwgJBVV95cUxPM0hHcjNGR0RiT0M2QlplRlcxdjdYZE5WTk9zZ2lGVEIxd05hdktEbmRNNTBnLWJ1NEl3LWRPVTNfdFIxX1VOUURxdHdrWTdHOG9LQ3BrOUtWWUl1T0ZianhSckt1NGNtelAweTQ1LXpQTC1DVG50ZUVOOFV1VldBSEZvN2toemJuR3hfQXVfTXBKLVhzWDZMQ25kc1JQM1VnYTRFOTVYSmRFQWJGYWItdTJkNTdXaXlpYzY2dHg0aWM5WVlBQkFRb0N6WGNSWWdVaXhiY1ZXUGJuZ0dpVWtielpJQlV4dFAyZzB6Q2Z0Y1V6SjVZRU5QS0hsRUN0N19EbUc4RXFpV090M2ZZVjZUbS03cC13bFk1M0xrTnJMeHJUOC10dkctbGpJYnFRVHZfVXlQMU5nNDRUbndmbkFiZWFR?oc=5).\" additional_kwargs={'refusal': None} response_metadata={'token_usage': {'completion_tokens': 364, 'prompt_tokens': 498, 'total_tokens': 862, 'completion_tokens_details': {'accepted_prediction_tokens': 0, 'audio_tokens': 0, 'reasoning_tokens': 0, 'rejected_prediction_tokens': 0}, 'prompt_tokens_details': {'audio_tokens': 0, 'cached_tokens': 0}}, 'model_name': 'gpt-4o-mini-2024-07-18', 'system_fingerprint': 'fp_7fcd609668', 'finish_reason': 'stop', 'logprobs': None} id='run-34fadad6-ca53-42a8-9ffd-73bf57e55471-0' usage_metadata={'input_tokens': 498, 'output_tokens': 364, 'total_tokens': 862, 'input_token_details': {'audio': 0, 'cache_read': 0}, 'output_token_details': {'audio': 0, 'reasoning': 0}}\n",
      "==================== END AIMessage ====================\n",
      "\n",
      "====================================================================================================\n"
     ]
    }
   ],
   "source": [
    "question = ('랭체인에 대해서 뉴스 검색을 해주세요')\n",
    "# question = ('랭체인에 대해서 웹 검색을 해주세요')\n",
    "# question = ('2024년 노벨 문학상 관련 뉴스를 알려주세요.')\n",
    "\n",
    "i = 1\n",
    "\n",
    "for event in graph.stream({\"messages\": [(\"user\", question)]}, config=config):\n",
    "    print('==' * 50)\n",
    "    print('[event]')\n",
    "    # print(event)\n",
    "\n",
    "    for key, value in event.items():\n",
    "        print(f'노드 이름 key: {key}')\n",
    "\n",
    "        if isinstance(value['messages'][-1], HumanMessage):\n",
    "            print('==================== HumanMessage ========================')\n",
    "            print(f\"노드 값 value: \\n{value['messages'][-1]}\")\n",
    "            print('==================== END HumanMessage ====================')\n",
    "            print() \n",
    "        elif isinstance(value['messages'][-1], AIMessage):\n",
    "            print('==================== AIMessage ========================')\n",
    "            print(f\"노드 값 value: \\n{value['messages'][-1]}\")\n",
    "            print('==================== END AIMessage ====================')     \n",
    "            print() \n",
    "        elif isinstance(value['messages'][-1], ToolMessage):\n",
    "            print('==================== ToolMessage ========================')\n",
    "            print(f\"노드 값 value: \\n{value['messages'][-1]}\")\n",
    "            print('==================== END ToolMessage ====================')     \n",
    "            print()\n",
    "\n",
    "    i=i+1\n",
    "    \n",
    "    print('==' * 50)"
   ]
  }
 ],
 "metadata": {
  "kernelspec": {
   "display_name": "venv",
   "language": "python",
   "name": "python3"
  },
  "language_info": {
   "codemirror_mode": {
    "name": "ipython",
    "version": 3
   },
   "file_extension": ".py",
   "mimetype": "text/x-python",
   "name": "python",
   "nbconvert_exporter": "python",
   "pygments_lexer": "ipython3",
   "version": "3.11.9"
  }
 },
 "nbformat": 4,
 "nbformat_minor": 2
}
