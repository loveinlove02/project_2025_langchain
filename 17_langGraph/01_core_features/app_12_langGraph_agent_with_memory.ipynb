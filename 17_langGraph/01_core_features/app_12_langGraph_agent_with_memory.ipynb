{
 "cells": [
  {
   "cell_type": "code",
   "execution_count": 1,
   "metadata": {},
   "outputs": [],
   "source": [
    "from dotenv import load_dotenv\n",
    "import os\n",
    "\n",
    "load_dotenv(verbose=True)\n",
    "key = os.getenv('OPENAI_API_KEY')"
   ]
  },
  {
   "cell_type": "code",
   "execution_count": 34,
   "metadata": {},
   "outputs": [],
   "source": [
    "from typing import Annotated, List, Dict\n",
    "from typing_extensions import TypedDict\n",
    "from langgraph.graph.message import add_messages"
   ]
  },
  {
   "cell_type": "code",
   "execution_count": 3,
   "metadata": {},
   "outputs": [],
   "source": [
    "from langgraph.graph import StateGraph \n",
    "from langgraph.graph import START, END"
   ]
  },
  {
   "cell_type": "code",
   "execution_count": 4,
   "metadata": {},
   "outputs": [],
   "source": [
    "from langgraph.prebuilt import ToolNode, tools_condition\n",
    "from langchain_core.tools import tool"
   ]
  },
  {
   "cell_type": "code",
   "execution_count": 5,
   "metadata": {},
   "outputs": [],
   "source": [
    "from langchain_teddynote.tools.tavily import TavilySearch\n",
    "from langchain_teddynote.tools import GoogleNews"
   ]
  },
  {
   "cell_type": "code",
   "execution_count": 28,
   "metadata": {},
   "outputs": [],
   "source": [
    "from langchain_core.messages import HumanMessage\n",
    "from langchain_core.messages import AIMessage, ToolMessage"
   ]
  },
  {
   "cell_type": "code",
   "execution_count": 6,
   "metadata": {},
   "outputs": [],
   "source": [
    "from langchain_openai import ChatOpenAI"
   ]
  },
  {
   "cell_type": "code",
   "execution_count": 7,
   "metadata": {},
   "outputs": [],
   "source": [
    "from langchain_teddynote.graphs import visualize_graph\n",
    "from langchain_teddynote.messages import display_message_tree\n",
    "from langchain_core.runnables import RunnableConfig"
   ]
  },
  {
   "cell_type": "code",
   "execution_count": 29,
   "metadata": {},
   "outputs": [],
   "source": [
    "from langgraph.checkpoint.memory import MemorySaver\n",
    "import json\n",
    "\n",
    "memory = MemorySaver()"
   ]
  },
  {
   "cell_type": "code",
   "execution_count": 9,
   "metadata": {},
   "outputs": [],
   "source": [
    "######### 1. 상태 정의 #########\n",
    "\n",
    "# 상태 정의\n",
    "class State(TypedDict):\n",
    "    messages: Annotated[list, add_messages]"
   ]
  },
  {
   "cell_type": "code",
   "execution_count": 10,
   "metadata": {},
   "outputs": [],
   "source": [
    "######### 2. 도구 정의 및 바인딩 #########\n",
    "\n",
    "search_tool = TavilySearch(max_results=1)"
   ]
  },
  {
   "cell_type": "code",
   "execution_count": 12,
   "metadata": {},
   "outputs": [],
   "source": [
    "@tool\n",
    "def search_keyword(query: str) -> List[Dict[str, str]]:\n",
    "    \"\"\"Look up news by keyword\"\"\"\n",
    "    news_tool = GoogleNews()\n",
    "    return news_tool.search_by_keyword(query, k=1)"
   ]
  },
  {
   "cell_type": "code",
   "execution_count": 13,
   "metadata": {},
   "outputs": [],
   "source": [
    "tools = [search_tool, search_keyword]"
   ]
  },
  {
   "cell_type": "code",
   "execution_count": 14,
   "metadata": {},
   "outputs": [],
   "source": [
    "######### 3. LLM을 도구와 결합 #########\n",
    "\n",
    "llm = ChatOpenAI(\n",
    "    api_key=key, \n",
    "    model_name='gpt-4o-mini',\n",
    "    temperature=0.1\n",
    ")"
   ]
  },
  {
   "cell_type": "code",
   "execution_count": 15,
   "metadata": {},
   "outputs": [],
   "source": [
    "llm_with_tools = llm.bind_tools(tools)"
   ]
  },
  {
   "cell_type": "code",
   "execution_count": 16,
   "metadata": {},
   "outputs": [],
   "source": [
    "def chatbot(state: State):\n",
    "    print(f'=='*50)\n",
    "    print('===== chatbot() 함수 시작 =====')\n",
    "    print(f\"chatbot() 으로 넘어온 메시지 :\")\n",
    "    print(state['messages'])\n",
    "    print(f\"메시지 개수 : {len(state['messages'])}\")\n",
    "    print()\n",
    "\n",
    "    answer = llm_with_tools.invoke(state['messages'])\n",
    "\n",
    "    print(f'[도구 사용 LLM 실행 결과 content]: {answer.content}')\n",
    "    print(f'[도구 사용 LLM 실행 결과 answer]: {answer}')\n",
    "    print(f'[도구 사용 LLM 실행 결과 additional_kwargs]: {answer.additional_kwargs}')\n",
    "\n",
    "    print('===== chatbot() 함수  끝 =====')\n",
    "    print(f'=='*50)\n",
    "    print()\n",
    "\n",
    "    return {'messages': [answer]}"
   ]
  },
  {
   "cell_type": "code",
   "execution_count": 17,
   "metadata": {},
   "outputs": [],
   "source": [
    "graph_builder = StateGraph(State)"
   ]
  },
  {
   "cell_type": "code",
   "execution_count": 18,
   "metadata": {},
   "outputs": [
    {
     "data": {
      "text/plain": [
       "<langgraph.graph.state.StateGraph at 0x18e8e8b5310>"
      ]
     },
     "execution_count": 18,
     "metadata": {},
     "output_type": "execute_result"
    }
   ],
   "source": [
    "graph_builder.add_node('chatbot', chatbot)"
   ]
  },
  {
   "cell_type": "code",
   "execution_count": 19,
   "metadata": {},
   "outputs": [],
   "source": [
    "tool_node = ToolNode(tools=[search_tool, search_keyword])"
   ]
  },
  {
   "cell_type": "code",
   "execution_count": 20,
   "metadata": {},
   "outputs": [
    {
     "data": {
      "text/plain": [
       "<langgraph.graph.state.StateGraph at 0x18e8e8b5310>"
      ]
     },
     "execution_count": 20,
     "metadata": {},
     "output_type": "execute_result"
    }
   ],
   "source": [
    "graph_builder.add_node('tools', tool_node)"
   ]
  },
  {
   "cell_type": "code",
   "execution_count": 21,
   "metadata": {},
   "outputs": [
    {
     "data": {
      "text/plain": [
       "<langgraph.graph.state.StateGraph at 0x18e8e8b5310>"
      ]
     },
     "execution_count": 21,
     "metadata": {},
     "output_type": "execute_result"
    }
   ],
   "source": [
    "graph_builder.add_conditional_edges(\n",
    "    'chatbot',\n",
    "    tools_condition\n",
    ")"
   ]
  },
  {
   "cell_type": "code",
   "execution_count": 22,
   "metadata": {},
   "outputs": [
    {
     "data": {
      "text/plain": [
       "<langgraph.graph.state.StateGraph at 0x18e8e8b5310>"
      ]
     },
     "execution_count": 22,
     "metadata": {},
     "output_type": "execute_result"
    }
   ],
   "source": [
    "######### 5. 엣지 추가 #########\n",
    "\n",
    "# tools 에서 chatbot 으로\n",
    "graph_builder.add_edge('tools', 'chatbot')"
   ]
  },
  {
   "cell_type": "code",
   "execution_count": 23,
   "metadata": {},
   "outputs": [
    {
     "data": {
      "text/plain": [
       "<langgraph.graph.state.StateGraph at 0x18e8e8b5310>"
      ]
     },
     "execution_count": 23,
     "metadata": {},
     "output_type": "execute_result"
    }
   ],
   "source": [
    "# START 에서 chatbot 으로\n",
    "graph_builder.add_edge(START, 'chatbot')"
   ]
  },
  {
   "cell_type": "code",
   "execution_count": 24,
   "metadata": {},
   "outputs": [
    {
     "data": {
      "text/plain": [
       "<langgraph.graph.state.StateGraph at 0x18e8e8b5310>"
      ]
     },
     "execution_count": 24,
     "metadata": {},
     "output_type": "execute_result"
    }
   ],
   "source": [
    "# chatbot 에서 END 로\n",
    "graph_builder.add_edge('chatbot', END)"
   ]
  },
  {
   "cell_type": "code",
   "execution_count": 25,
   "metadata": {},
   "outputs": [],
   "source": [
    "graph = graph_builder.compile(checkpointer=memory)"
   ]
  },
  {
   "cell_type": "code",
   "execution_count": 26,
   "metadata": {},
   "outputs": [
    {
     "data": {
      "image/png": "[encoded data removed]",
      "text/plain": [
       "<IPython.core.display.Image object>"
      ]
     },
     "metadata": {},
     "output_type": "display_data"
    }
   ],
   "source": [
    "visualize_graph(graph)"
   ]
  },
  {
   "cell_type": "code",
   "execution_count": 27,
   "metadata": {},
   "outputs": [
    {
     "name": "stdout",
     "output_type": "stream",
     "text": [
      "thread_id: 20ac14\n"
     ]
    }
   ],
   "source": [
    "from langchain_teddynote.graphs import generate_random_hash\n",
    "from langchain_core.runnables import RunnableConfig\n",
    "\n",
    "thread_id = generate_random_hash()\n",
    "print(f\"thread_id: {thread_id}\")"
   ]
  },
  {
   "cell_type": "code",
   "execution_count": 30,
   "metadata": {},
   "outputs": [
    {
     "name": "stdout",
     "output_type": "stream",
     "text": [
      "====================================================================================================\n",
      "===== chatbot() 함수 시작 =====\n",
      "chatbot() 으로 넘어온 메시지 :\n",
      "[HumanMessage(content='랭체인에 대해서 뉴스 검색을 해주세요', additional_kwargs={}, response_metadata={}, id='dca47e35-1806-4334-a763-bf56f90a10a7')]\n",
      "메시지 개수 : 1\n",
      "\n",
      "[도구 사용 LLM 실행 결과 content]: \n",
      "[도구 사용 LLM 실행 결과 answer]: content='' additional_kwargs={'tool_calls': [{'id': 'call_6pi4KLEIfev01hYtmnTvSVO0', 'function': {'arguments': '{\"query\":\"랭체인\"}', 'name': 'search_keyword'}, 'type': 'function'}], 'refusal': None} response_metadata={'token_usage': {'completion_tokens': 18, 'prompt_tokens': 122, 'total_tokens': 140, 'completion_tokens_details': {'accepted_prediction_tokens': 0, 'audio_tokens': 0, 'reasoning_tokens': 0, 'rejected_prediction_tokens': 0}, 'prompt_tokens_details': {'audio_tokens': 0, 'cached_tokens': 0}}, 'model_name': 'gpt-4o-mini-2024-07-18', 'system_fingerprint': 'fp_3267753c5d', 'finish_reason': 'tool_calls', 'logprobs': None} id='run-08d58ec4-eef3-4aa8-8bc4-de89fe34a6f7-0' tool_calls=[{'name': 'search_keyword', 'args': {'query': '랭체인'}, 'id': 'call_6pi4KLEIfev01hYtmnTvSVO0', 'type': 'tool_call'}] usage_metadata={'input_tokens': 122, 'output_tokens': 18, 'total_tokens': 140, 'input_token_details': {'audio': 0, 'cache_read': 0}, 'output_token_details': {'audio': 0, 'reasoning': 0}}\n",
      "[도구 사용 LLM 실행 결과 additional_kwargs]: {'tool_calls': [{'id': 'call_6pi4KLEIfev01hYtmnTvSVO0', 'function': {'arguments': '{\"query\":\"랭체인\"}', 'name': 'search_keyword'}, 'type': 'function'}], 'refusal': None}\n",
      "===== chatbot() 함수  끝 =====\n",
      "====================================================================================================\n",
      "\n",
      "\n",
      "===== 여기서 시작 =====\n",
      "[event] 바깥 for 시작 1\n",
      "\n",
      "실행한 노드 이름: chatbot\n",
      "\n",
      "==================== AIMessage ========================\n",
      "[해당 노드 값] value content: \n",
      "도구 이름 : search_keyword\n",
      "Arguments: {'query': '랭체인'}\n",
      "==================== END AIMessage ====================\n",
      "\n",
      "바깥 for 끝\n",
      "===== 여기서 끝 =====\n",
      "\n",
      "\n",
      "===== 여기서 시작 =====\n",
      "[event] 바깥 for 시작 2\n",
      "\n",
      "실행한 노드 이름: tools\n",
      "\n",
      "==================== ToolMessage ========================\n",
      "[해당 노드 값] 제목: No title\n",
      "[해당 노드 값] URL: https://news.google.com/rss/articles/CBMibkFVX3lxTE1qMC1EYjRZOEpMNVBEVVpSNm1BX3A4a3FrdmEyOTdDNWdjMGR1ZEgzWlpHZnRFZ1pSUXdKa3JnOXBQZU5qU3dKS3Q5VUNwLVZxRFZmbG1SZzJVSUoyM2lJbnZRbzhYYUJJcnFHWmp3?oc=5\n",
      "[해당 노드 값] 내용: 랭체인 LangChain 이란 무엇인가? | 인사이트리포트 | 삼성SDS - Samsung SDS\n",
      "==================== END ToolMessage ====================\n",
      "\n",
      "바깥 for 끝\n",
      "===== 여기서 끝 =====\n",
      "\n",
      "====================================================================================================\n",
      "===== chatbot() 함수 시작 =====\n",
      "chatbot() 으로 넘어온 메시지 :\n",
      "[HumanMessage(content='랭체인에 대해서 뉴스 검색을 해주세요', additional_kwargs={}, response_metadata={}, id='dca47e35-1806-4334-a763-bf56f90a10a7'), AIMessage(content='', additional_kwargs={'tool_calls': [{'id': 'call_6pi4KLEIfev01hYtmnTvSVO0', 'function': {'arguments': '{\"query\":\"랭체인\"}', 'name': 'search_keyword'}, 'type': 'function'}], 'refusal': None}, response_metadata={'token_usage': {'completion_tokens': 18, 'prompt_tokens': 122, 'total_tokens': 140, 'completion_tokens_details': {'accepted_prediction_tokens': 0, 'audio_tokens': 0, 'reasoning_tokens': 0, 'rejected_prediction_tokens': 0}, 'prompt_tokens_details': {'audio_tokens': 0, 'cached_tokens': 0}}, 'model_name': 'gpt-4o-mini-2024-07-18', 'system_fingerprint': 'fp_3267753c5d', 'finish_reason': 'tool_calls', 'logprobs': None}, id='run-08d58ec4-eef3-4aa8-8bc4-de89fe34a6f7-0', tool_calls=[{'name': 'search_keyword', 'args': {'query': '랭체인'}, 'id': 'call_6pi4KLEIfev01hYtmnTvSVO0', 'type': 'tool_call'}], usage_metadata={'input_tokens': 122, 'output_tokens': 18, 'total_tokens': 140, 'input_token_details': {'audio': 0, 'cache_read': 0}, 'output_token_details': {'audio': 0, 'reasoning': 0}}), ToolMessage(content='[{\"url\": \"https://news.google.com/rss/articles/CBMibkFVX3lxTE1qMC1EYjRZOEpMNVBEVVpSNm1BX3A4a3FrdmEyOTdDNWdjMGR1ZEgzWlpHZnRFZ1pSUXdKa3JnOXBQZU5qU3dKS3Q5VUNwLVZxRFZmbG1SZzJVSUoyM2lJbnZRbzhYYUJJcnFHWmp3?oc=5\", \"content\": \"랭체인 LangChain 이란 무엇인가? | 인사이트리포트 | 삼성SDS - Samsung SDS\"}]', name='search_keyword', id='402607d0-7c86-4f50-aef3-382808471bfe', tool_call_id='call_6pi4KLEIfev01hYtmnTvSVO0')]\n",
      "메시지 개수 : 3\n",
      "\n",
      "[도구 사용 LLM 실행 결과 content]: 랭체인(LangChain)에 대한 뉴스 기사가 하나 발견되었습니다. 아래 링크를 통해 자세한 내용을 확인하실 수 있습니다:\n",
      "\n",
      "- [랭체인 LangChain 이란 무엇인가? | 인사이트리포트 | 삼성SDS](https://news.google.com/rss/articles/CBMibkFVX3lxTE1qMC1EYjR4OEpMNVBEVVpSNm1BX3A4a3FrdmEyOTdDNWdjMGR1ZEgzWlpHZnRFZ1pSUXdKa3JnOXBQZU5qU3dKS3Q5VUNwLVZxRFZmbG1SZzJVSUoyM2lJbnZRbzhYYUJJcnFHWmp3?oc=5) \n",
      "\n",
      "더 많은 정보가 필요하시면 말씀해 주세요!\n",
      "[도구 사용 LLM 실행 결과 answer]: content='랭체인(LangChain)에 대한 뉴스 기사가 하나 발견되었습니다. 아래 링크를 통해 자세한 내용을 확인하실 수 있습니다:\\n\\n- [랭체인 LangChain 이란 무엇인가? | 인사이트리포트 | 삼성SDS](https://news.google.com/rss/articles/CBMibkFVX3lxTE1qMC1EYjR4OEpMNVBEVVpSNm1BX3A4a3FrdmEyOTdDNWdjMGR1ZEgzWlpHZnRFZ1pSUXdKa3JnOXBQZU5qU3dKS3Q5VUNwLVZxRFZmbG1SZzJVSUoyM2lJbnZRbzhYYUJJcnFHWmp3?oc=5) \\n\\n더 많은 정보가 필요하시면 말씀해 주세요!' additional_kwargs={'refusal': None} response_metadata={'token_usage': {'completion_tokens': 185, 'prompt_tokens': 300, 'total_tokens': 485, 'completion_tokens_details': {'accepted_prediction_tokens': 0, 'audio_tokens': 0, 'reasoning_tokens': 0, 'rejected_prediction_tokens': 0}, 'prompt_tokens_details': {'audio_tokens': 0, 'cached_tokens': 0}}, 'model_name': 'gpt-4o-mini-2024-07-18', 'system_fingerprint': 'fp_3267753c5d', 'finish_reason': 'stop', 'logprobs': None} id='run-8540c4e9-468c-4801-9023-ef29cea1300c-0' usage_metadata={'input_tokens': 300, 'output_tokens': 185, 'total_tokens': 485, 'input_token_details': {'audio': 0, 'cache_read': 0}, 'output_token_details': {'audio': 0, 'reasoning': 0}}\n",
      "[도구 사용 LLM 실행 결과 additional_kwargs]: {'refusal': None}\n",
      "===== chatbot() 함수  끝 =====\n",
      "====================================================================================================\n",
      "\n",
      "\n",
      "===== 여기서 시작 =====\n",
      "[event] 바깥 for 시작 3\n",
      "\n",
      "실행한 노드 이름: chatbot\n",
      "\n",
      "==================== AIMessage ========================\n",
      "[해당 노드 값] value content: 랭체인(LangChain)에 대한 뉴스 기사가 하나 발견되었습니다. 아래 링크를 통해 자세한 내용을 확인하실 수 있습니다:\n",
      "\n",
      "- [랭체인 LangChain 이란 무엇인가? | 인사이트리포트 | 삼성SDS](https://news.google.com/rss/articles/CBMibkFVX3lxTE1qMC1EYjR4OEpMNVBEVVpSNm1BX3A4a3FrdmEyOTdDNWdjMGR1ZEgzWlpHZnRFZ1pSUXdKa3JnOXBQZU5qU3dKS3Q5VUNwLVZxRFZmbG1SZzJVSUoyM2lJbnZRbzhYYUJJcnFHWmp3?oc=5) \n",
      "\n",
      "더 많은 정보가 필요하시면 말씀해 주세요!\n",
      "additional_kwargs tool_calls: None\n",
      "==================== END AIMessage ====================\n",
      "\n",
      "바깥 for 끝\n",
      "===== 여기서 끝 =====\n",
      "\n",
      "전체 반복문 4번 실행\n"
     ]
    }
   ],
   "source": [
    "config = RunnableConfig(\n",
    "    recursion_limit=10, \n",
    "    configurable={'thread_id': thread_id}\n",
    ")\n",
    "\n",
    "question = ('랭체인에 대해서 뉴스 검색을 해주세요')\n",
    "\n",
    "i = 1\n",
    "\n",
    "for event in graph.stream({\"messages\": [(\"user\", question)]}, config=config):\n",
    "    print()\n",
    "    print('===== 여기서 시작 =====')\n",
    "    print(f'[event] 바깥 for 시작 {i}')\n",
    "    print()\n",
    "\n",
    "    for k, value in event.items():\n",
    "        print(f'실행한 노드 이름: {k}')\n",
    "        print()\n",
    "\n",
    "        if isinstance(value['messages'][-1], HumanMessage):\n",
    "            print('==================== HumanMessage ========================')\n",
    "            print(f\"[해당 노드 값] value : \\n{value['messages'][-1]}\")\n",
    "            # print(f\"[해당 노드 값] content: {value['messages'][-1].content}\")\n",
    "            # print(f\"additional_kwargs: {value['messages'][-1].additional_kwargs}\")\n",
    "            print('==================== END HumanMessage ====================')\n",
    "            print()\n",
    "        elif isinstance(value['messages'][-1], AIMessage):\n",
    "            print('==================== AIMessage ========================')\n",
    "            # print(f\"[해당 노드 값] value : \\n{value['messages'][-1]}\")\n",
    "            print(f\"[해당 노드 값] value content: {value['messages'][-1].content}\")\n",
    "            # print(f\"addtional_kwargs: {value['messages'][-1].additional_kwargs}\")\n",
    "\n",
    "            if 'tool_calls' in value['messages'][-1].additional_kwargs:\n",
    "                # print(f\"additional_kwargs tool_calls: {value['messages'][-1].additional_kwargs['tool_calls']}\")\n",
    "                tool_calls = value['messages'][-1].additional_kwargs['tool_calls']\n",
    "\n",
    "                for call in tool_calls:\n",
    "                    if 'function' in call:\n",
    "                        arguments = json.loads(call['function']['arguments'])\n",
    "                        name = call['function']['name']\n",
    "\n",
    "                        print(f\"도구 이름 : {name}\")\n",
    "                        print(f\"Arguments: {arguments}\")\n",
    "            else:\n",
    "                print(\"additional_kwargs tool_calls: None\")\n",
    "            print('==================== END AIMessage ====================')    \n",
    "\n",
    "        elif isinstance(value['messages'][-1], ToolMessage):\n",
    "            print('==================== ToolMessage ========================')\n",
    "            # print(f\"[해당 노드 값] value : \\n{value['messages'][-1]}\")\n",
    "            content = json.loads(value['messages'][-1].content)\n",
    "\n",
    "            if content and isinstance(content, list) and len(content) > 0:\n",
    "                print(f\"[해당 노드 값] 제목: {content[0].get('title', 'No title')}\")\n",
    "                print(f\"[해당 노드 값] URL: {content[0].get('url', 'No URL')}\")\n",
    "                print(f\"[해당 노드 값] 내용: {content[0].get('content', 'No URL')}\")\n",
    "            else:\n",
    "                print(\"No content or invalid content format in ToolMessage\")\n",
    "\n",
    "            print('==================== END ToolMessage ====================')   \n",
    "\n",
    "        print()\n",
    "        \n",
    "    print('바깥 for 끝')\n",
    "    i=i+1\n",
    "    \n",
    "    print('===== 여기서 끝 =====') \n",
    "    print()\n",
    "print(f'전체 반복문 {i}번 실행')    "
   ]
  },
  {
   "cell_type": "code",
   "execution_count": 31,
   "metadata": {},
   "outputs": [
    {
     "name": "stdout",
     "output_type": "stream",
     "text": [
      "thread_id: f07b93\n",
      "====================================================================================================\n",
      "===== chatbot() 함수 시작 =====\n",
      "chatbot() 으로 넘어온 메시지 :\n",
      "[HumanMessage(content='랭체인에 대해서 뉴스 검색을 해주세요', additional_kwargs={}, response_metadata={}, id='63b45b15-cad3-4d88-ade2-b5b292f8fe8c')]\n",
      "메시지 개수 : 1\n",
      "\n",
      "[도구 사용 LLM 실행 결과 content]: \n",
      "[도구 사용 LLM 실행 결과 answer]: content='' additional_kwargs={'tool_calls': [{'id': 'call_QySYg5qsCxD8OXp3dNbklm2R', 'function': {'arguments': '{\"query\":\"랭체인\"}', 'name': 'search_keyword'}, 'type': 'function'}], 'refusal': None} response_metadata={'token_usage': {'completion_tokens': 18, 'prompt_tokens': 122, 'total_tokens': 140, 'completion_tokens_details': {'accepted_prediction_tokens': 0, 'audio_tokens': 0, 'reasoning_tokens': 0, 'rejected_prediction_tokens': 0}, 'prompt_tokens_details': {'audio_tokens': 0, 'cached_tokens': 0}}, 'model_name': 'gpt-4o-mini-2024-07-18', 'system_fingerprint': 'fp_3267753c5d', 'finish_reason': 'tool_calls', 'logprobs': None} id='run-123ab1d6-31ba-45e6-a766-55422e2582c9-0' tool_calls=[{'name': 'search_keyword', 'args': {'query': '랭체인'}, 'id': 'call_QySYg5qsCxD8OXp3dNbklm2R', 'type': 'tool_call'}] usage_metadata={'input_tokens': 122, 'output_tokens': 18, 'total_tokens': 140, 'input_token_details': {'audio': 0, 'cache_read': 0}, 'output_token_details': {'audio': 0, 'reasoning': 0}}\n",
      "[도구 사용 LLM 실행 결과 additional_kwargs]: {'tool_calls': [{'id': 'call_QySYg5qsCxD8OXp3dNbklm2R', 'function': {'arguments': '{\"query\":\"랭체인\"}', 'name': 'search_keyword'}, 'type': 'function'}], 'refusal': None}\n",
      "===== chatbot() 함수  끝 =====\n",
      "====================================================================================================\n",
      "\n",
      "==================================\u001b[1m Ai Message \u001b[0m==================================\n",
      "Tool Calls:\n",
      "  search_keyword (call_QySYg5qsCxD8OXp3dNbklm2R)\n",
      " Call ID: call_QySYg5qsCxD8OXp3dNbklm2R\n",
      "  Args:\n",
      "    query: 랭체인\n",
      "=================================\u001b[1m Tool Message \u001b[0m=================================\n",
      "Name: search_keyword\n",
      "\n",
      "[{\"url\": \"https://news.google.com/rss/articles/CBMibkFVX3lxTE1qMC1EYjRZOEpMNVBEVVpSNm1BX3A4a3FrdmEyOTdDNWdjMGR1ZEgzWlpHZnRFZ1pSUXdKa3JnOXBQZU5qU3dKS3Q5VUNwLVZxRFZmbG1SZzJVSUoyM2lJbnZRbzhYYUJJcnFHWmp3?oc=5\", \"content\": \"랭체인 LangChain 이란 무엇인가? | 인사이트리포트 | 삼성SDS - Samsung SDS\"}]\n",
      "====================================================================================================\n",
      "===== chatbot() 함수 시작 =====\n",
      "chatbot() 으로 넘어온 메시지 :\n",
      "[HumanMessage(content='랭체인에 대해서 뉴스 검색을 해주세요', additional_kwargs={}, response_metadata={}, id='63b45b15-cad3-4d88-ade2-b5b292f8fe8c'), AIMessage(content='', additional_kwargs={'tool_calls': [{'id': 'call_QySYg5qsCxD8OXp3dNbklm2R', 'function': {'arguments': '{\"query\":\"랭체인\"}', 'name': 'search_keyword'}, 'type': 'function'}], 'refusal': None}, response_metadata={'token_usage': {'completion_tokens': 18, 'prompt_tokens': 122, 'total_tokens': 140, 'completion_tokens_details': {'accepted_prediction_tokens': 0, 'audio_tokens': 0, 'reasoning_tokens': 0, 'rejected_prediction_tokens': 0}, 'prompt_tokens_details': {'audio_tokens': 0, 'cached_tokens': 0}}, 'model_name': 'gpt-4o-mini-2024-07-18', 'system_fingerprint': 'fp_3267753c5d', 'finish_reason': 'tool_calls', 'logprobs': None}, id='run-123ab1d6-31ba-45e6-a766-55422e2582c9-0', tool_calls=[{'name': 'search_keyword', 'args': {'query': '랭체인'}, 'id': 'call_QySYg5qsCxD8OXp3dNbklm2R', 'type': 'tool_call'}], usage_metadata={'input_tokens': 122, 'output_tokens': 18, 'total_tokens': 140, 'input_token_details': {'audio': 0, 'cache_read': 0}, 'output_token_details': {'audio': 0, 'reasoning': 0}}), ToolMessage(content='[{\"url\": \"https://news.google.com/rss/articles/CBMibkFVX3lxTE1qMC1EYjRZOEpMNVBEVVpSNm1BX3A4a3FrdmEyOTdDNWdjMGR1ZEgzWlpHZnRFZ1pSUXdKa3JnOXBQZU5qU3dKS3Q5VUNwLVZxRFZmbG1SZzJVSUoyM2lJbnZRbzhYYUJJcnFHWmp3?oc=5\", \"content\": \"랭체인 LangChain 이란 무엇인가? | 인사이트리포트 | 삼성SDS - Samsung SDS\"}]', name='search_keyword', id='8fecab96-8cf2-499c-bc95-167bc38e282c', tool_call_id='call_QySYg5qsCxD8OXp3dNbklm2R')]\n",
      "메시지 개수 : 3\n",
      "\n",
      "[도구 사용 LLM 실행 결과 content]: 랭체인(LangChain)에 대한 뉴스 기사가 있습니다. 다음 링크에서 자세한 내용을 확인하실 수 있습니다:\n",
      "\n",
      "- [랭체인 LangChain 이란 무엇인가? | 인사이트리포트 | 삼성SDS](https://news.google.com/rss/articles/CBMibkFVX3lxTE1qMC1EYjR4OEpMNVBEVVpSNm1BX3A4a3FrdmEyOTdDNWdjMGR1ZEgzWlpHZnRFZ1pSUXdKa3JnOXBQZU5qU3dKS3Q5VUNwLVZxRFZmbG1SZzJVSUoyM2lJbnZRbzhYYUJJcnFHWmp3?oc=5) \n",
      "\n",
      "이 기사는 랭체인에 대한 개요와 관련된 정보를 제공합니다.\n",
      "[도구 사용 LLM 실행 결과 answer]: content='랭체인(LangChain)에 대한 뉴스 기사가 있습니다. 다음 링크에서 자세한 내용을 확인하실 수 있습니다:\\n\\n- [랭체인 LangChain 이란 무엇인가? | 인사이트리포트 | 삼성SDS](https://news.google.com/rss/articles/CBMibkFVX3lxTE1qMC1EYjR4OEpMNVBEVVpSNm1BX3A4a3FrdmEyOTdDNWdjMGR1ZEgzWlpHZnRFZ1pSUXdKa3JnOXBQZU5qU3dKS3Q5VUNwLVZxRFZmbG1SZzJVSUoyM2lJbnZRbzhYYUJJcnFHWmp3?oc=5) \\n\\n이 기사는 랭체인에 대한 개요와 관련된 정보를 제공합니다.' additional_kwargs={'refusal': None} response_metadata={'token_usage': {'completion_tokens': 188, 'prompt_tokens': 300, 'total_tokens': 488, 'completion_tokens_details': {'accepted_prediction_tokens': 0, 'audio_tokens': 0, 'reasoning_tokens': 0, 'rejected_prediction_tokens': 0}, 'prompt_tokens_details': {'audio_tokens': 0, 'cached_tokens': 0}}, 'model_name': 'gpt-4o-mini-2024-07-18', 'system_fingerprint': 'fp_3267753c5d', 'finish_reason': 'stop', 'logprobs': None} id='run-91159088-2180-4d20-b4b0-324d1b709e05-0' usage_metadata={'input_tokens': 300, 'output_tokens': 188, 'total_tokens': 488, 'input_token_details': {'audio': 0, 'cache_read': 0}, 'output_token_details': {'audio': 0, 'reasoning': 0}}\n",
      "[도구 사용 LLM 실행 결과 additional_kwargs]: {'refusal': None}\n",
      "===== chatbot() 함수  끝 =====\n",
      "====================================================================================================\n",
      "\n",
      "==================================\u001b[1m Ai Message \u001b[0m==================================\n",
      "\n",
      "랭체인(LangChain)에 대한 뉴스 기사가 있습니다. 다음 링크에서 자세한 내용을 확인하실 수 있습니다:\n",
      "\n",
      "- [랭체인 LangChain 이란 무엇인가? | 인사이트리포트 | 삼성SDS](https://news.google.com/rss/articles/CBMibkFVX3lxTE1qMC1EYjR4OEpMNVBEVVpSNm1BX3A4a3FrdmEyOTdDNWdjMGR1ZEgzWlpHZnRFZ1pSUXdKa3JnOXBQZU5qU3dKS3Q5VUNwLVZxRFZmbG1SZzJVSUoyM2lJbnZRbzhYYUJJcnFHWmp3?oc=5) \n",
      "\n",
      "이 기사는 랭체인에 대한 개요와 관련된 정보를 제공합니다.\n"
     ]
    }
   ],
   "source": [
    "thread_id = generate_random_hash()\n",
    "print(f\"thread_id: {thread_id}\")\n",
    "\n",
    "config = RunnableConfig(\n",
    "    recursion_limit=10, \n",
    "    configurable={'thread_id': thread_id}\n",
    ")\n",
    "\n",
    "question = ('랭체인에 대해서 뉴스 검색을 해주세요')\n",
    "\n",
    "for event in graph.stream({\"messages\": [(\"user\", question)]}, config=config):\n",
    "    for value in event.values():\n",
    "        value[\"messages\"][-1].pretty_print()"
   ]
  },
  {
   "cell_type": "code",
   "execution_count": 32,
   "metadata": {},
   "outputs": [
    {
     "name": "stdout",
     "output_type": "stream",
     "text": [
      "====================================================================================================\n",
      "===== chatbot() 함수 시작 =====\n",
      "chatbot() 으로 넘어온 메시지 :\n",
      "[HumanMessage(content='랭체인에 대해서 뉴스 검색을 해주세요', additional_kwargs={}, response_metadata={}, id='63b45b15-cad3-4d88-ade2-b5b292f8fe8c'), AIMessage(content='', additional_kwargs={'tool_calls': [{'id': 'call_QySYg5qsCxD8OXp3dNbklm2R', 'function': {'arguments': '{\"query\":\"랭체인\"}', 'name': 'search_keyword'}, 'type': 'function'}], 'refusal': None}, response_metadata={'token_usage': {'completion_tokens': 18, 'prompt_tokens': 122, 'total_tokens': 140, 'completion_tokens_details': {'accepted_prediction_tokens': 0, 'audio_tokens': 0, 'reasoning_tokens': 0, 'rejected_prediction_tokens': 0}, 'prompt_tokens_details': {'audio_tokens': 0, 'cached_tokens': 0}}, 'model_name': 'gpt-4o-mini-2024-07-18', 'system_fingerprint': 'fp_3267753c5d', 'finish_reason': 'tool_calls', 'logprobs': None}, id='run-123ab1d6-31ba-45e6-a766-55422e2582c9-0', tool_calls=[{'name': 'search_keyword', 'args': {'query': '랭체인'}, 'id': 'call_QySYg5qsCxD8OXp3dNbklm2R', 'type': 'tool_call'}], usage_metadata={'input_tokens': 122, 'output_tokens': 18, 'total_tokens': 140, 'input_token_details': {'audio': 0, 'cache_read': 0}, 'output_token_details': {'audio': 0, 'reasoning': 0}}), ToolMessage(content='[{\"url\": \"https://news.google.com/rss/articles/CBMibkFVX3lxTE1qMC1EYjRZOEpMNVBEVVpSNm1BX3A4a3FrdmEyOTdDNWdjMGR1ZEgzWlpHZnRFZ1pSUXdKa3JnOXBQZU5qU3dKS3Q5VUNwLVZxRFZmbG1SZzJVSUoyM2lJbnZRbzhYYUJJcnFHWmp3?oc=5\", \"content\": \"랭체인 LangChain 이란 무엇인가? | 인사이트리포트 | 삼성SDS - Samsung SDS\"}]', name='search_keyword', id='8fecab96-8cf2-499c-bc95-167bc38e282c', tool_call_id='call_QySYg5qsCxD8OXp3dNbklm2R'), AIMessage(content='랭체인(LangChain)에 대한 뉴스 기사가 있습니다. 다음 링크에서 자세한 내용을 확인하실 수 있습니다:\\n\\n- [랭체인 LangChain 이란 무엇인가? | 인사이트리포트 | 삼성SDS](https://news.google.com/rss/articles/CBMibkFVX3lxTE1qMC1EYjR4OEpMNVBEVVpSNm1BX3A4a3FrdmEyOTdDNWdjMGR1ZEgzWlpHZnRFZ1pSUXdKa3JnOXBQZU5qU3dKS3Q5VUNwLVZxRFZmbG1SZzJVSUoyM2lJbnZRbzhYYUJJcnFHWmp3?oc=5) \\n\\n이 기사는 랭체인에 대한 개요와 관련된 정보를 제공합니다.', additional_kwargs={'refusal': None}, response_metadata={'token_usage': {'completion_tokens': 188, 'prompt_tokens': 300, 'total_tokens': 488, 'completion_tokens_details': {'accepted_prediction_tokens': 0, 'audio_tokens': 0, 'reasoning_tokens': 0, 'rejected_prediction_tokens': 0}, 'prompt_tokens_details': {'audio_tokens': 0, 'cached_tokens': 0}}, 'model_name': 'gpt-4o-mini-2024-07-18', 'system_fingerprint': 'fp_3267753c5d', 'finish_reason': 'stop', 'logprobs': None}, id='run-91159088-2180-4d20-b4b0-324d1b709e05-0', usage_metadata={'input_tokens': 300, 'output_tokens': 188, 'total_tokens': 488, 'input_token_details': {'audio': 0, 'cache_read': 0}, 'output_token_details': {'audio': 0, 'reasoning': 0}}), HumanMessage(content='랭체인에 대해서 웹 검색을 해주세요', additional_kwargs={}, response_metadata={}, id='e6593774-abd5-417f-8d9b-5f9f62e26590')]\n",
      "메시지 개수 : 5\n",
      "\n",
      "[도구 사용 LLM 실행 결과 content]: \n",
      "[도구 사용 LLM 실행 결과 answer]: content='' additional_kwargs={'tool_calls': [{'id': 'call_RwirOOYSsYb7zZ5I3zKy9DDt', 'function': {'arguments': '{\"query\":\"랭체인\"}', 'name': 'tavily_web_search'}, 'type': 'function'}], 'refusal': None} response_metadata={'token_usage': {'completion_tokens': 21, 'prompt_tokens': 505, 'total_tokens': 526, 'completion_tokens_details': {'accepted_prediction_tokens': 0, 'audio_tokens': 0, 'reasoning_tokens': 0, 'rejected_prediction_tokens': 0}, 'prompt_tokens_details': {'audio_tokens': 0, 'cached_tokens': 0}}, 'model_name': 'gpt-4o-mini-2024-07-18', 'system_fingerprint': 'fp_3267753c5d', 'finish_reason': 'tool_calls', 'logprobs': None} id='run-c8125f48-f580-4336-863c-2779c8447d9e-0' tool_calls=[{'name': 'tavily_web_search', 'args': {'query': '랭체인'}, 'id': 'call_RwirOOYSsYb7zZ5I3zKy9DDt', 'type': 'tool_call'}] usage_metadata={'input_tokens': 505, 'output_tokens': 21, 'total_tokens': 526, 'input_token_details': {'audio': 0, 'cache_read': 0}, 'output_token_details': {'audio': 0, 'reasoning': 0}}\n",
      "[도구 사용 LLM 실행 결과 additional_kwargs]: {'tool_calls': [{'id': 'call_RwirOOYSsYb7zZ5I3zKy9DDt', 'function': {'arguments': '{\"query\":\"랭체인\"}', 'name': 'tavily_web_search'}, 'type': 'function'}], 'refusal': None}\n",
      "===== chatbot() 함수  끝 =====\n",
      "====================================================================================================\n",
      "\n",
      "====================================================================================================\n",
      "[event]\n",
      "==================================\u001b[1m Ai Message \u001b[0m==================================\n",
      "Tool Calls:\n",
      "  tavily_web_search (call_RwirOOYSsYb7zZ5I3zKy9DDt)\n",
      " Call ID: call_RwirOOYSsYb7zZ5I3zKy9DDt\n",
      "  Args:\n",
      "    query: 랭체인\n",
      "====================================================================================================\n",
      "[event]\n",
      "=================================\u001b[1m Tool Message \u001b[0m=================================\n",
      "Name: tavily_web_search\n",
      "\n",
      "[{\"title\": \"랭체인 뜻? Llm 기반 6개 구성의 앱 생성 프레임워크\", \"url\": \"https://www.ktpdigitallife.com/랭체인-뜻과-개념-설명/\", \"content\": \"랭체인 프레임워크 는 데이터 가져오기와 임베딩이 가능하도록 데이터 소스와 단어 임베딩, 벡터 데이터 베이스가 연결되고 챗GPT (Chat GPT) 와 같은 LLM 형태의 언어 모델이 연결되어 완성됩니다. [랭체인 프레임워크 4가지]\", \"score\": 0.7539928, \"raw_content\": null}]\n",
      "====================================================================================================\n",
      "===== chatbot() 함수 시작 =====\n",
      "chatbot() 으로 넘어온 메시지 :\n",
      "[HumanMessage(content='랭체인에 대해서 뉴스 검색을 해주세요', additional_kwargs={}, response_metadata={}, id='63b45b15-cad3-4d88-ade2-b5b292f8fe8c'), AIMessage(content='', additional_kwargs={'tool_calls': [{'id': 'call_QySYg5qsCxD8OXp3dNbklm2R', 'function': {'arguments': '{\"query\":\"랭체인\"}', 'name': 'search_keyword'}, 'type': 'function'}], 'refusal': None}, response_metadata={'token_usage': {'completion_tokens': 18, 'prompt_tokens': 122, 'total_tokens': 140, 'completion_tokens_details': {'accepted_prediction_tokens': 0, 'audio_tokens': 0, 'reasoning_tokens': 0, 'rejected_prediction_tokens': 0}, 'prompt_tokens_details': {'audio_tokens': 0, 'cached_tokens': 0}}, 'model_name': 'gpt-4o-mini-2024-07-18', 'system_fingerprint': 'fp_3267753c5d', 'finish_reason': 'tool_calls', 'logprobs': None}, id='run-123ab1d6-31ba-45e6-a766-55422e2582c9-0', tool_calls=[{'name': 'search_keyword', 'args': {'query': '랭체인'}, 'id': 'call_QySYg5qsCxD8OXp3dNbklm2R', 'type': 'tool_call'}], usage_metadata={'input_tokens': 122, 'output_tokens': 18, 'total_tokens': 140, 'input_token_details': {'audio': 0, 'cache_read': 0}, 'output_token_details': {'audio': 0, 'reasoning': 0}}), ToolMessage(content='[{\"url\": \"https://news.google.com/rss/articles/CBMibkFVX3lxTE1qMC1EYjRZOEpMNVBEVVpSNm1BX3A4a3FrdmEyOTdDNWdjMGR1ZEgzWlpHZnRFZ1pSUXdKa3JnOXBQZU5qU3dKS3Q5VUNwLVZxRFZmbG1SZzJVSUoyM2lJbnZRbzhYYUJJcnFHWmp3?oc=5\", \"content\": \"랭체인 LangChain 이란 무엇인가? | 인사이트리포트 | 삼성SDS - Samsung SDS\"}]', name='search_keyword', id='8fecab96-8cf2-499c-bc95-167bc38e282c', tool_call_id='call_QySYg5qsCxD8OXp3dNbklm2R'), AIMessage(content='랭체인(LangChain)에 대한 뉴스 기사가 있습니다. 다음 링크에서 자세한 내용을 확인하실 수 있습니다:\\n\\n- [랭체인 LangChain 이란 무엇인가? | 인사이트리포트 | 삼성SDS](https://news.google.com/rss/articles/CBMibkFVX3lxTE1qMC1EYjR4OEpMNVBEVVpSNm1BX3A4a3FrdmEyOTdDNWdjMGR1ZEgzWlpHZnRFZ1pSUXdKa3JnOXBQZU5qU3dKS3Q5VUNwLVZxRFZmbG1SZzJVSUoyM2lJbnZRbzhYYUJJcnFHWmp3?oc=5) \\n\\n이 기사는 랭체인에 대한 개요와 관련된 정보를 제공합니다.', additional_kwargs={'refusal': None}, response_metadata={'token_usage': {'completion_tokens': 188, 'prompt_tokens': 300, 'total_tokens': 488, 'completion_tokens_details': {'accepted_prediction_tokens': 0, 'audio_tokens': 0, 'reasoning_tokens': 0, 'rejected_prediction_tokens': 0}, 'prompt_tokens_details': {'audio_tokens': 0, 'cached_tokens': 0}}, 'model_name': 'gpt-4o-mini-2024-07-18', 'system_fingerprint': 'fp_3267753c5d', 'finish_reason': 'stop', 'logprobs': None}, id='run-91159088-2180-4d20-b4b0-324d1b709e05-0', usage_metadata={'input_tokens': 300, 'output_tokens': 188, 'total_tokens': 488, 'input_token_details': {'audio': 0, 'cache_read': 0}, 'output_token_details': {'audio': 0, 'reasoning': 0}}), HumanMessage(content='랭체인에 대해서 웹 검색을 해주세요', additional_kwargs={}, response_metadata={}, id='e6593774-abd5-417f-8d9b-5f9f62e26590'), AIMessage(content='', additional_kwargs={'tool_calls': [{'id': 'call_RwirOOYSsYb7zZ5I3zKy9DDt', 'function': {'arguments': '{\"query\":\"랭체인\"}', 'name': 'tavily_web_search'}, 'type': 'function'}], 'refusal': None}, response_metadata={'token_usage': {'completion_tokens': 21, 'prompt_tokens': 505, 'total_tokens': 526, 'completion_tokens_details': {'accepted_prediction_tokens': 0, 'audio_tokens': 0, 'reasoning_tokens': 0, 'rejected_prediction_tokens': 0}, 'prompt_tokens_details': {'audio_tokens': 0, 'cached_tokens': 0}}, 'model_name': 'gpt-4o-mini-2024-07-18', 'system_fingerprint': 'fp_3267753c5d', 'finish_reason': 'tool_calls', 'logprobs': None}, id='run-c8125f48-f580-4336-863c-2779c8447d9e-0', tool_calls=[{'name': 'tavily_web_search', 'args': {'query': '랭체인'}, 'id': 'call_RwirOOYSsYb7zZ5I3zKy9DDt', 'type': 'tool_call'}], usage_metadata={'input_tokens': 505, 'output_tokens': 21, 'total_tokens': 526, 'input_token_details': {'audio': 0, 'cache_read': 0}, 'output_token_details': {'audio': 0, 'reasoning': 0}}), ToolMessage(content='[{\"title\": \"랭체인 뜻? Llm 기반 6개 구성의 앱 생성 프레임워크\", \"url\": \"https://www.ktpdigitallife.com/랭체인-뜻과-개념-설명/\", \"content\": \"랭체인 프레임워크 는 데이터 가져오기와 임베딩이 가능하도록 데이터 소스와 단어 임베딩, 벡터 데이터 베이스가 연결되고 챗GPT (Chat GPT) 와 같은 LLM 형태의 언어 모델이 연결되어 완성됩니다. [랭체인 프레임워크 4가지]\", \"score\": 0.7539928, \"raw_content\": null}]', name='tavily_web_search', id='f7274cd0-cb16-40fa-a7ea-afbf2ef915be', tool_call_id='call_RwirOOYSsYb7zZ5I3zKy9DDt')]\n",
      "메시지 개수 : 7\n",
      "\n",
      "[도구 사용 LLM 실행 결과 content]: 랭체인에 대한 웹 검색 결과는 다음과 같습니다:\n",
      "\n",
      "- **[랭체인 뜻? Llm 기반 6개 구성의 앱 생성 프레임워크](https://www.ktpdigitallife.com/랭체인-뜻과-개념-설명/)**  \n",
      "  이 글에서는 랭체인 프레임워크에 대해 설명하고 있으며, 데이터 가져오기와 임베딩이 가능하도록 데이터 소스와 단어 임베딩, 벡터 데이터베이스가 연결되고 챗GPT와 같은 LLM 형태의 언어 모델이 연결된다고 합니다.\n",
      "\n",
      "더 많은 정보를 원하시면 링크를 클릭하여 확인해 보세요.\n",
      "[도구 사용 LLM 실행 결과 answer]: content='랭체인에 대한 웹 검색 결과는 다음과 같습니다:\\n\\n- **[랭체인 뜻? Llm 기반 6개 구성의 앱 생성 프레임워크](https://www.ktpdigitallife.com/랭체인-뜻과-개념-설명/)**  \\n  이 글에서는 랭체인 프레임워크에 대해 설명하고 있으며, 데이터 가져오기와 임베딩이 가능하도록 데이터 소스와 단어 임베딩, 벡터 데이터베이스가 연결되고 챗GPT와 같은 LLM 형태의 언어 모델이 연결된다고 합니다.\\n\\n더 많은 정보를 원하시면 링크를 클릭하여 확인해 보세요.' additional_kwargs={'refusal': None} response_metadata={'token_usage': {'completion_tokens': 146, 'prompt_tokens': 684, 'total_tokens': 830, 'completion_tokens_details': {'accepted_prediction_tokens': 0, 'audio_tokens': 0, 'reasoning_tokens': 0, 'rejected_prediction_tokens': 0}, 'prompt_tokens_details': {'audio_tokens': 0, 'cached_tokens': 0}}, 'model_name': 'gpt-4o-mini-2024-07-18', 'system_fingerprint': 'fp_3267753c5d', 'finish_reason': 'stop', 'logprobs': None} id='run-40efd889-df48-4c7e-8456-d1e5b7936e3a-0' usage_metadata={'input_tokens': 684, 'output_tokens': 146, 'total_tokens': 830, 'input_token_details': {'audio': 0, 'cache_read': 0}, 'output_token_details': {'audio': 0, 'reasoning': 0}}\n",
      "[도구 사용 LLM 실행 결과 additional_kwargs]: {'refusal': None}\n",
      "===== chatbot() 함수  끝 =====\n",
      "====================================================================================================\n",
      "\n",
      "====================================================================================================\n",
      "[event]\n",
      "==================================\u001b[1m Ai Message \u001b[0m==================================\n",
      "\n",
      "랭체인에 대한 웹 검색 결과는 다음과 같습니다:\n",
      "\n",
      "- **[랭체인 뜻? Llm 기반 6개 구성의 앱 생성 프레임워크](https://www.ktpdigitallife.com/랭체인-뜻과-개념-설명/)**  \n",
      "  이 글에서는 랭체인 프레임워크에 대해 설명하고 있으며, 데이터 가져오기와 임베딩이 가능하도록 데이터 소스와 단어 임베딩, 벡터 데이터베이스가 연결되고 챗GPT와 같은 LLM 형태의 언어 모델이 연결된다고 합니다.\n",
      "\n",
      "더 많은 정보를 원하시면 링크를 클릭하여 확인해 보세요.\n"
     ]
    }
   ],
   "source": [
    "question = ('랭체인에 대해서 웹 검색을 해주세요')\n",
    "\n",
    "for event in graph.stream({\"messages\": [(\"user\", question)]}, config=config):\n",
    "    print('==' * 50)\n",
    "    print('[event]')\n",
    "    # print(event)\n",
    "\n",
    "    for key, value in event.items():\n",
    "        value['messages'][-1].pretty_print()"
   ]
  },
  {
   "cell_type": "code",
   "execution_count": 33,
   "metadata": {},
   "outputs": [
    {
     "name": "stdout",
     "output_type": "stream",
     "text": [
      "thread_id: f165dd\n",
      "====================================================================================================\n",
      "===== chatbot() 함수 시작 =====\n",
      "chatbot() 으로 넘어온 메시지 :\n",
      "[HumanMessage(content='랭체인에 대해서 웹 검색을 해주세요', additional_kwargs={}, response_metadata={}, id='c5c4bd37-5c8a-42ba-afc3-d19682f8d4af')]\n",
      "메시지 개수 : 1\n",
      "\n",
      "[도구 사용 LLM 실행 결과 content]: \n",
      "[도구 사용 LLM 실행 결과 answer]: content='' additional_kwargs={'tool_calls': [{'id': 'call_8iYGPvY509jWNfFtgboAyC1m', 'function': {'arguments': '{\"query\":\"랭체인\"}', 'name': 'tavily_web_search'}, 'type': 'function'}], 'refusal': None} response_metadata={'token_usage': {'completion_tokens': 21, 'prompt_tokens': 122, 'total_tokens': 143, 'completion_tokens_details': {'accepted_prediction_tokens': 0, 'audio_tokens': 0, 'reasoning_tokens': 0, 'rejected_prediction_tokens': 0}, 'prompt_tokens_details': {'audio_tokens': 0, 'cached_tokens': 0}}, 'model_name': 'gpt-4o-mini-2024-07-18', 'system_fingerprint': 'fp_3267753c5d', 'finish_reason': 'tool_calls', 'logprobs': None} id='run-95c72143-0a79-46ca-ad58-0e583f02acde-0' tool_calls=[{'name': 'tavily_web_search', 'args': {'query': '랭체인'}, 'id': 'call_8iYGPvY509jWNfFtgboAyC1m', 'type': 'tool_call'}] usage_metadata={'input_tokens': 122, 'output_tokens': 21, 'total_tokens': 143, 'input_token_details': {'audio': 0, 'cache_read': 0}, 'output_token_details': {'audio': 0, 'reasoning': 0}}\n",
      "[도구 사용 LLM 실행 결과 additional_kwargs]: {'tool_calls': [{'id': 'call_8iYGPvY509jWNfFtgboAyC1m', 'function': {'arguments': '{\"query\":\"랭체인\"}', 'name': 'tavily_web_search'}, 'type': 'function'}], 'refusal': None}\n",
      "===== chatbot() 함수  끝 =====\n",
      "====================================================================================================\n",
      "\n",
      "\n",
      "===== 여기서 시작 =====\n",
      "[event] 바깥 for 시작 1\n",
      "\n",
      "실행한 노드 이름: chatbot\n",
      "\n",
      "==================== AIMessage ========================\n",
      "[해당 노드 값] value content: \n",
      "도구 이름 : tavily_web_search\n",
      "Arguments: {'query': '랭체인'}\n",
      "==================== END AIMessage ====================\n",
      "\n",
      "바깥 for 끝\n",
      "===== 여기서 끝 =====\n",
      "\n",
      "\n",
      "===== 여기서 시작 =====\n",
      "[event] 바깥 for 시작 2\n",
      "\n",
      "실행한 노드 이름: tools\n",
      "\n",
      "==================== ToolMessage ========================\n",
      "[해당 노드 값] 제목: 랭체인 뜻? Llm 기반 6개 구성의 앱 생성 프레임워크\n",
      "[해당 노드 값] URL: https://www.ktpdigitallife.com/랭체인-뜻과-개념-설명/\n",
      "[해당 노드 값] 내용: 랭체인 프레임워크 는 데이터 가져오기와 임베딩이 가능하도록 데이터 소스와 단어 임베딩, 벡터 데이터 베이스가 연결되고 챗GPT (Chat GPT) 와 같은 LLM 형태의 언어 모델이 연결되어 완성됩니다. [랭체인 프레임워크 4가지]\n",
      "==================== END ToolMessage ====================\n",
      "\n",
      "바깥 for 끝\n",
      "===== 여기서 끝 =====\n",
      "\n",
      "====================================================================================================\n",
      "===== chatbot() 함수 시작 =====\n",
      "chatbot() 으로 넘어온 메시지 :\n",
      "[HumanMessage(content='랭체인에 대해서 웹 검색을 해주세요', additional_kwargs={}, response_metadata={}, id='c5c4bd37-5c8a-42ba-afc3-d19682f8d4af'), AIMessage(content='', additional_kwargs={'tool_calls': [{'id': 'call_8iYGPvY509jWNfFtgboAyC1m', 'function': {'arguments': '{\"query\":\"랭체인\"}', 'name': 'tavily_web_search'}, 'type': 'function'}], 'refusal': None}, response_metadata={'token_usage': {'completion_tokens': 21, 'prompt_tokens': 122, 'total_tokens': 143, 'completion_tokens_details': {'accepted_prediction_tokens': 0, 'audio_tokens': 0, 'reasoning_tokens': 0, 'rejected_prediction_tokens': 0}, 'prompt_tokens_details': {'audio_tokens': 0, 'cached_tokens': 0}}, 'model_name': 'gpt-4o-mini-2024-07-18', 'system_fingerprint': 'fp_3267753c5d', 'finish_reason': 'tool_calls', 'logprobs': None}, id='run-95c72143-0a79-46ca-ad58-0e583f02acde-0', tool_calls=[{'name': 'tavily_web_search', 'args': {'query': '랭체인'}, 'id': 'call_8iYGPvY509jWNfFtgboAyC1m', 'type': 'tool_call'}], usage_metadata={'input_tokens': 122, 'output_tokens': 21, 'total_tokens': 143, 'input_token_details': {'audio': 0, 'cache_read': 0}, 'output_token_details': {'audio': 0, 'reasoning': 0}}), ToolMessage(content='[{\"title\": \"랭체인 뜻? Llm 기반 6개 구성의 앱 생성 프레임워크\", \"url\": \"https://www.ktpdigitallife.com/랭체인-뜻과-개념-설명/\", \"content\": \"랭체인 프레임워크 는 데이터 가져오기와 임베딩이 가능하도록 데이터 소스와 단어 임베딩, 벡터 데이터 베이스가 연결되고 챗GPT (Chat GPT) 와 같은 LLM 형태의 언어 모델이 연결되어 완성됩니다. [랭체인 프레임워크 4가지]\", \"score\": 0.7539928, \"raw_content\": null}]', name='tavily_web_search', id='7f0c0cd3-84e7-4daf-b30e-6b04299cc2f8', tool_call_id='call_8iYGPvY509jWNfFtgboAyC1m')]\n",
      "메시지 개수 : 3\n",
      "\n",
      "[도구 사용 LLM 실행 결과 content]: 랭체인에 대한 정보는 다음과 같습니다:\n",
      "\n",
      "- **랭체인 뜻**: 랭체인은 LLM(대형 언어 모델) 기반의 앱 생성 프레임워크로, 데이터 가져오기와 임베딩이 가능하도록 설계되었습니다. 이 프레임워크는 데이터 소스, 단어 임베딩, 벡터 데이터베이스와 연결되어 있으며, 챗GPT와 같은 언어 모델과 통합되어 있습니다.\n",
      "\n",
      "자세한 내용은 [여기](https://www.ktpdigitallife.com/랭체인-뜻과-개념-설명/)에서 확인하실 수 있습니다.\n",
      "[도구 사용 LLM 실행 결과 answer]: content='랭체인에 대한 정보는 다음과 같습니다:\\n\\n- **랭체인 뜻**: 랭체인은 LLM(대형 언어 모델) 기반의 앱 생성 프레임워크로, 데이터 가져오기와 임베딩이 가능하도록 설계되었습니다. 이 프레임워크는 데이터 소스, 단어 임베딩, 벡터 데이터베이스와 연결되어 있으며, 챗GPT와 같은 언어 모델과 통합되어 있습니다.\\n\\n자세한 내용은 [여기](https://www.ktpdigitallife.com/랭체인-뜻과-개념-설명/)에서 확인하실 수 있습니다.' additional_kwargs={'refusal': None} response_metadata={'token_usage': {'completion_tokens': 141, 'prompt_tokens': 301, 'total_tokens': 442, 'completion_tokens_details': {'accepted_prediction_tokens': 0, 'audio_tokens': 0, 'reasoning_tokens': 0, 'rejected_prediction_tokens': 0}, 'prompt_tokens_details': {'audio_tokens': 0, 'cached_tokens': 0}}, 'model_name': 'gpt-4o-mini-2024-07-18', 'system_fingerprint': 'fp_3267753c5d', 'finish_reason': 'stop', 'logprobs': None} id='run-e12de096-2b01-46cd-8015-16c8cbc0fae1-0' usage_metadata={'input_tokens': 301, 'output_tokens': 141, 'total_tokens': 442, 'input_token_details': {'audio': 0, 'cache_read': 0}, 'output_token_details': {'audio': 0, 'reasoning': 0}}\n",
      "[도구 사용 LLM 실행 결과 additional_kwargs]: {'refusal': None}\n",
      "===== chatbot() 함수  끝 =====\n",
      "====================================================================================================\n",
      "\n",
      "\n",
      "===== 여기서 시작 =====\n",
      "[event] 바깥 for 시작 3\n",
      "\n",
      "실행한 노드 이름: chatbot\n",
      "\n",
      "==================== AIMessage ========================\n",
      "[해당 노드 값] value content: 랭체인에 대한 정보는 다음과 같습니다:\n",
      "\n",
      "- **랭체인 뜻**: 랭체인은 LLM(대형 언어 모델) 기반의 앱 생성 프레임워크로, 데이터 가져오기와 임베딩이 가능하도록 설계되었습니다. 이 프레임워크는 데이터 소스, 단어 임베딩, 벡터 데이터베이스와 연결되어 있으며, 챗GPT와 같은 언어 모델과 통합되어 있습니다.\n",
      "\n",
      "자세한 내용은 [여기](https://www.ktpdigitallife.com/랭체인-뜻과-개념-설명/)에서 확인하실 수 있습니다.\n",
      "additional_kwargs tool_calls: None\n",
      "==================== END AIMessage ====================\n",
      "\n",
      "바깥 for 끝\n",
      "===== 여기서 끝 =====\n",
      "\n",
      "전체 반복문 4번 실행\n"
     ]
    }
   ],
   "source": [
    "from langchain_teddynote.graphs import generate_random_hash\n",
    "from langchain_core.runnables import RunnableConfig\n",
    "\n",
    "thread_id = generate_random_hash()\n",
    "print(f\"thread_id: {thread_id}\")\n",
    "\n",
    "config = RunnableConfig(\n",
    "    recursion_limit=10, \n",
    "    configurable={'thread_id': thread_id}\n",
    ")\n",
    "\n",
    "question = ('랭체인에 대해서 웹 검색을 해주세요')\n",
    "\n",
    "i = 1\n",
    "\n",
    "for event in graph.stream({\"messages\": [(\"user\", question)]}, config=config):\n",
    "    print()\n",
    "    print('===== 여기서 시작 =====')\n",
    "    print(f'[event] 바깥 for 시작 {i}')\n",
    "    print()\n",
    "\n",
    "    for k, value in event.items():\n",
    "        print(f'실행한 노드 이름: {k}')\n",
    "        print()\n",
    "\n",
    "        if isinstance(value['messages'][-1], HumanMessage):\n",
    "            print('==================== HumanMessage ========================')\n",
    "            print(f\"[해당 노드 값] value : \\n{value['messages'][-1]}\")\n",
    "            # print(f\"[해당 노드 값] content: {value['messages'][-1].content}\")\n",
    "            # print(f\"additional_kwargs: {value['messages'][-1].additional_kwargs}\")\n",
    "            print('==================== END HumanMessage ====================')\n",
    "            print()\n",
    "        elif isinstance(value['messages'][-1], AIMessage):\n",
    "            print('==================== AIMessage ========================')\n",
    "            # print(f\"[해당 노드 값] value : \\n{value['messages'][-1]}\")\n",
    "            print(f\"[해당 노드 값] value content: {value['messages'][-1].content}\")\n",
    "            # print(f\"addtional_kwargs: {value['messages'][-1].additional_kwargs}\")\n",
    "\n",
    "            if 'tool_calls' in value['messages'][-1].additional_kwargs:\n",
    "                # print(f\"additional_kwargs tool_calls: {value['messages'][-1].additional_kwargs['tool_calls']}\")\n",
    "                tool_calls = value['messages'][-1].additional_kwargs['tool_calls']\n",
    "\n",
    "                for call in tool_calls:\n",
    "                    if 'function' in call:\n",
    "                        arguments = json.loads(call['function']['arguments'])\n",
    "                        name = call['function']['name']\n",
    "\n",
    "                        print(f\"도구 이름 : {name}\")\n",
    "                        print(f\"Arguments: {arguments}\")\n",
    "            else:\n",
    "                print(\"additional_kwargs tool_calls: None\")\n",
    "            print('==================== END AIMessage ====================')    \n",
    "\n",
    "        elif isinstance(value['messages'][-1], ToolMessage):\n",
    "            print('==================== ToolMessage ========================')\n",
    "            # print(f\"[해당 노드 값] value : \\n{value['messages'][-1]}\")\n",
    "            content = json.loads(value['messages'][-1].content)\n",
    "\n",
    "            if content and isinstance(content, list) and len(content) > 0:\n",
    "                print(f\"[해당 노드 값] 제목: {content[0].get('title', 'No title')}\")\n",
    "                print(f\"[해당 노드 값] URL: {content[0].get('url', 'No URL')}\")\n",
    "                print(f\"[해당 노드 값] 내용: {content[0].get('content', 'No URL')}\")\n",
    "            else:\n",
    "                print(\"No content or invalid content format in ToolMessage\")\n",
    "\n",
    "            print('==================== END ToolMessage ====================')   \n",
    "\n",
    "        print()\n",
    "        \n",
    "    print('바깥 for 끝')\n",
    "    i=i+1\n",
    "    \n",
    "    print('===== 여기서 끝 =====') \n",
    "    print()\n",
    "print(f'전체 반복문 {i}번 실행')    "
   ]
  }
 ],
 "metadata": {
  "kernelspec": {
   "display_name": "venv",
   "language": "python",
   "name": "python3"
  },
  "language_info": {
   "codemirror_mode": {
    "name": "ipython",
    "version": 3
   },
   "file_extension": ".py",
   "mimetype": "text/x-python",
   "name": "python",
   "nbconvert_exporter": "python",
   "pygments_lexer": "ipython3",
   "version": "3.11.9"
  }
 },
 "nbformat": 4,
 "nbformat_minor": 2
}
