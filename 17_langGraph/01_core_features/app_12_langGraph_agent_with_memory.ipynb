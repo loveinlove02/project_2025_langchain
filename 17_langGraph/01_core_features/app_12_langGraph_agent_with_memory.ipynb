{
 "cells": [
  {
   "cell_type": "code",
   "execution_count": 1,
   "metadata": {},
   "outputs": [],
   "source": [
    "from dotenv import load_dotenv\n",
    "import os\n",
    "\n",
    "load_dotenv(verbose=True)\n",
    "key = os.getenv('OPENAI_API_KEY')"
   ]
  },
  {
   "cell_type": "code",
   "execution_count": 2,
   "metadata": {},
   "outputs": [],
   "source": [
    "from typing import Annotated, List, Dict\n",
    "from typing_extensions import TypedDict\n",
    "from langgraph.graph.message import add_messages"
   ]
  },
  {
   "cell_type": "code",
   "execution_count": 3,
   "metadata": {},
   "outputs": [],
   "source": [
    "from langgraph.graph import StateGraph \n",
    "from langgraph.graph import START, END"
   ]
  },
  {
   "cell_type": "code",
   "execution_count": 4,
   "metadata": {},
   "outputs": [],
   "source": [
    "from langgraph.prebuilt import ToolNode, tools_condition\n",
    "from langchain_core.tools import tool"
   ]
  },
  {
   "cell_type": "code",
   "execution_count": 5,
   "metadata": {},
   "outputs": [],
   "source": [
    "from langchain_teddynote.tools.tavily import TavilySearch\n",
    "from langchain_teddynote.tools import GoogleNews"
   ]
  },
  {
   "cell_type": "code",
   "execution_count": 6,
   "metadata": {},
   "outputs": [],
   "source": [
    "from langchain_openai import ChatOpenAI"
   ]
  },
  {
   "cell_type": "code",
   "execution_count": 7,
   "metadata": {},
   "outputs": [],
   "source": [
    "from langchain_teddynote.graphs import visualize_graph\n",
    "from langchain_teddynote.messages import display_message_tree\n",
    "from langchain_core.runnables import RunnableConfig"
   ]
  },
  {
   "cell_type": "code",
   "execution_count": 8,
   "metadata": {},
   "outputs": [],
   "source": [
    "from langgraph.checkpoint.memory import MemorySaver\n",
    "\n",
    "memory = MemorySaver()"
   ]
  },
  {
   "cell_type": "code",
   "execution_count": 9,
   "metadata": {},
   "outputs": [],
   "source": [
    "######### 1. 상태 정의 #########\n",
    "\n",
    "# 상태 정의\n",
    "class State(TypedDict):\n",
    "    messages: Annotated[list, add_messages]"
   ]
  },
  {
   "cell_type": "code",
   "execution_count": 10,
   "metadata": {},
   "outputs": [],
   "source": [
    "######### 2. 도구 정의 및 바인딩 #########\n",
    "\n",
    "search_tool = TavilySearch(max_results=1)"
   ]
  },
  {
   "cell_type": "code",
   "execution_count": 11,
   "metadata": {},
   "outputs": [],
   "source": [
    "@tool\n",
    "def search_keyword(query: str) -> List[Dict[str, str]]:\n",
    "    \"\"\"Look up news by keyword\"\"\"\n",
    "    news_tool = GoogleNews()\n",
    "    return news_tool.search_by_keyword(query, k=1)"
   ]
  },
  {
   "cell_type": "code",
   "execution_count": 12,
   "metadata": {},
   "outputs": [],
   "source": [
    "tools = [search_tool, search_keyword]"
   ]
  },
  {
   "cell_type": "code",
   "execution_count": 13,
   "metadata": {},
   "outputs": [],
   "source": [
    "######### 3. LLM을 도구와 결합 #########\n",
    "\n",
    "llm = ChatOpenAI(\n",
    "    api_key=key, \n",
    "    model_name='gpt-4o-mini',\n",
    "    temperature=0.1\n",
    ")"
   ]
  },
  {
   "cell_type": "code",
   "execution_count": 14,
   "metadata": {},
   "outputs": [],
   "source": [
    "llm_with_tools = llm.bind_tools(tools)"
   ]
  },
  {
   "cell_type": "code",
   "execution_count": 15,
   "metadata": {},
   "outputs": [],
   "source": [
    "def chatbot(state: State):\n",
    "    answer = llm_with_tools.invoke(state['messages'])\n",
    "\n",
    "    print('=================================================================================')\n",
    "    print(f'chatbot() 실행\\n')\n",
    "    print(f\"[1] state[messages]: \\n{state['messages']}\\n\")\n",
    "    # print(f'[2] chatbot answer: \\n', answer , \"\\n\")\n",
    "    print(f'[2] chatbot answer: \\n', answer.content)\n",
    "    print(f'[3] answer.additional_kwargs: \\n', answer.additional_kwargs)\n",
    "    print('=================================================================================')\n",
    "\n",
    "    return {'messages': [answer]}"
   ]
  },
  {
   "cell_type": "code",
   "execution_count": 16,
   "metadata": {},
   "outputs": [],
   "source": [
    "graph_builder = StateGraph(State)"
   ]
  },
  {
   "cell_type": "code",
   "execution_count": 17,
   "metadata": {},
   "outputs": [
    {
     "data": {
      "text/plain": [
       "<langgraph.graph.state.StateGraph at 0x239d41cac50>"
      ]
     },
     "execution_count": 17,
     "metadata": {},
     "output_type": "execute_result"
    }
   ],
   "source": [
    "graph_builder.add_node('chatbot', chatbot)"
   ]
  },
  {
   "cell_type": "code",
   "execution_count": 18,
   "metadata": {},
   "outputs": [],
   "source": [
    "tool_node = ToolNode(tools=[search_tool, search_keyword])"
   ]
  },
  {
   "cell_type": "code",
   "execution_count": 19,
   "metadata": {},
   "outputs": [
    {
     "data": {
      "text/plain": [
       "<langgraph.graph.state.StateGraph at 0x239d41cac50>"
      ]
     },
     "execution_count": 19,
     "metadata": {},
     "output_type": "execute_result"
    }
   ],
   "source": [
    "graph_builder.add_node('tools', tool_node)"
   ]
  },
  {
   "cell_type": "code",
   "execution_count": 20,
   "metadata": {},
   "outputs": [
    {
     "data": {
      "text/plain": [
       "<langgraph.graph.state.StateGraph at 0x239d41cac50>"
      ]
     },
     "execution_count": 20,
     "metadata": {},
     "output_type": "execute_result"
    }
   ],
   "source": [
    "graph_builder.add_conditional_edges(\n",
    "    'chatbot',\n",
    "    tools_condition\n",
    ")"
   ]
  },
  {
   "cell_type": "code",
   "execution_count": 21,
   "metadata": {},
   "outputs": [
    {
     "data": {
      "text/plain": [
       "<langgraph.graph.state.StateGraph at 0x239d41cac50>"
      ]
     },
     "execution_count": 21,
     "metadata": {},
     "output_type": "execute_result"
    }
   ],
   "source": [
    "######### 5. 엣지 추가 #########\n",
    "\n",
    "# tools 에서 chatbot 으로\n",
    "graph_builder.add_edge('tools', 'chatbot')"
   ]
  },
  {
   "cell_type": "code",
   "execution_count": 22,
   "metadata": {},
   "outputs": [
    {
     "data": {
      "text/plain": [
       "<langgraph.graph.state.StateGraph at 0x239d41cac50>"
      ]
     },
     "execution_count": 22,
     "metadata": {},
     "output_type": "execute_result"
    }
   ],
   "source": [
    "# START 에서 chatbot 으로\n",
    "graph_builder.add_edge(START, 'chatbot')"
   ]
  },
  {
   "cell_type": "code",
   "execution_count": 23,
   "metadata": {},
   "outputs": [
    {
     "data": {
      "text/plain": [
       "<langgraph.graph.state.StateGraph at 0x239d41cac50>"
      ]
     },
     "execution_count": 23,
     "metadata": {},
     "output_type": "execute_result"
    }
   ],
   "source": [
    "# chatbot 에서 END 로\n",
    "graph_builder.add_edge('chatbot', END)"
   ]
  },
  {
   "cell_type": "code",
   "execution_count": 24,
   "metadata": {},
   "outputs": [],
   "source": [
    "graph = graph_builder.compile(checkpointer=memory)"
   ]
  },
  {
   "cell_type": "code",
   "execution_count": 25,
   "metadata": {},
   "outputs": [
    {
     "data": {
      "image/png": "[encoded data removed]",
      "text/plain": [
       "<IPython.core.display.Image object>"
      ]
     },
     "metadata": {},
     "output_type": "display_data"
    }
   ],
   "source": [
    "visualize_graph(graph)"
   ]
  },
  {
   "cell_type": "code",
   "execution_count": 26,
   "metadata": {},
   "outputs": [],
   "source": [
    "config = RunnableConfig(\n",
    "    recursion_limit=10, \n",
    "    configurable={'thread_id': '1'}\n",
    ")"
   ]
  },
  {
   "cell_type": "code",
   "execution_count": 27,
   "metadata": {},
   "outputs": [
    {
     "name": "stdout",
     "output_type": "stream",
     "text": [
      "=================================================================================\n",
      "chatbot() 실행\n",
      "\n",
      "[1] state[messages]: \n",
      "[HumanMessage(content='랭체인에 대해서 뉴스 검색을 해주세요', additional_kwargs={}, response_metadata={}, id='c35fc09d-f8ce-47bc-af48-d1de505bbed1')]\n",
      "\n",
      "[2] chatbot answer: \n",
      " \n",
      "[3] answer.additional_kwargs: \n",
      " {'tool_calls': [{'id': 'call_YVnsrX8yFVh6QN0AMsVH31sO', 'function': {'arguments': '{\"query\":\"랭체인\"}', 'name': 'search_keyword'}, 'type': 'function'}], 'refusal': None}\n",
      "=================================================================================\n",
      "==================================\u001b[1m Ai Message \u001b[0m==================================\n",
      "Tool Calls:\n",
      "  search_keyword (call_YVnsrX8yFVh6QN0AMsVH31sO)\n",
      " Call ID: call_YVnsrX8yFVh6QN0AMsVH31sO\n",
      "  Args:\n",
      "    query: 랭체인\n",
      "=================================\u001b[1m Tool Message \u001b[0m=================================\n",
      "Name: search_keyword\n",
      "\n",
      "[{\"url\": \"https://news.google.com/rss/articles/CBMiwgJBVV95cUxPM0hHcjNGR0RiT0M2QlplRlcxdjdYZE5WTk9zZ2lGVEIxd05hdktEbmRNNTBnLWJ1NEl3LWRPVTNfdFIxX1VOUURxdHdrWTdHOG9LQ3BrOUtWWUl1T0ZianhSckt1NGNtelAweTQ1LXpQTC1DVG50ZUVOOFV1VldBSEZvN2toemJuR3hfQXVfTXBKLVhzWDZMQ25kc1JQM1VnYTRFOTVYSmRFQWJGYWItdTJkNTdXaXlpYzY2dHg0aWM5WVlBQkFRb0N6WGNSWWdVaXhiY1ZXUGJuZ0dpVWtielpJQlV4dFAyZzB6Q2Z0Y1V6SjVZRU5QS0hsRUN0N19EbUc4RXFpV090M2ZZVjZUbS03cC13bFk1M0xrTnJMeHJUOC10dkctbGpJYnFRVHZfVXlQMU5nNDRUbndmbkFiZWFR?oc=5\", \"content\": \"구글, 데이터베이스용 ‘생성형 AI 툴박스’ 공개 베타 발표 \\\"랭체인과 협력\\\" - CIO.com\"}]\n",
      "=================================================================================\n",
      "chatbot() 실행\n",
      "\n",
      "[1] state[messages]: \n",
      "[HumanMessage(content='랭체인에 대해서 뉴스 검색을 해주세요', additional_kwargs={}, response_metadata={}, id='c35fc09d-f8ce-47bc-af48-d1de505bbed1'), AIMessage(content='', additional_kwargs={'tool_calls': [{'id': 'call_YVnsrX8yFVh6QN0AMsVH31sO', 'function': {'arguments': '{\"query\":\"랭체인\"}', 'name': 'search_keyword'}, 'type': 'function'}], 'refusal': None}, response_metadata={'token_usage': {'completion_tokens': 18, 'prompt_tokens': 122, 'total_tokens': 140, 'completion_tokens_details': {'accepted_prediction_tokens': 0, 'audio_tokens': 0, 'reasoning_tokens': 0, 'rejected_prediction_tokens': 0}, 'prompt_tokens_details': {'audio_tokens': 0, 'cached_tokens': 0}}, 'model_name': 'gpt-4o-mini-2024-07-18', 'system_fingerprint': 'fp_7fcd609668', 'finish_reason': 'tool_calls', 'logprobs': None}, id='run-2a2225e1-b805-4b20-95ca-f12ca8bb7ee3-0', tool_calls=[{'name': 'search_keyword', 'args': {'query': '랭체인'}, 'id': 'call_YVnsrX8yFVh6QN0AMsVH31sO', 'type': 'tool_call'}], usage_metadata={'input_tokens': 122, 'output_tokens': 18, 'total_tokens': 140, 'input_token_details': {'audio': 0, 'cache_read': 0}, 'output_token_details': {'audio': 0, 'reasoning': 0}}), ToolMessage(content='[{\"url\": \"https://news.google.com/rss/articles/CBMiwgJBVV95cUxPM0hHcjNGR0RiT0M2QlplRlcxdjdYZE5WTk9zZ2lGVEIxd05hdktEbmRNNTBnLWJ1NEl3LWRPVTNfdFIxX1VOUURxdHdrWTdHOG9LQ3BrOUtWWUl1T0ZianhSckt1NGNtelAweTQ1LXpQTC1DVG50ZUVOOFV1VldBSEZvN2toemJuR3hfQXVfTXBKLVhzWDZMQ25kc1JQM1VnYTRFOTVYSmRFQWJGYWItdTJkNTdXaXlpYzY2dHg0aWM5WVlBQkFRb0N6WGNSWWdVaXhiY1ZXUGJuZ0dpVWtielpJQlV4dFAyZzB6Q2Z0Y1V6SjVZRU5QS0hsRUN0N19EbUc4RXFpV090M2ZZVjZUbS03cC13bFk1M0xrTnJMeHJUOC10dkctbGpJYnFRVHZfVXlQMU5nNDRUbndmbkFiZWFR?oc=5\", \"content\": \"구글, 데이터베이스용 ‘생성형 AI 툴박스’ 공개 베타 발표 \\\\\"랭체인과 협력\\\\\" - CIO.com\"}]', name='search_keyword', id='c572aaea-e376-40ec-8495-2d6d54407d13', tool_call_id='call_YVnsrX8yFVh6QN0AMsVH31sO')]\n",
      "\n",
      "[2] chatbot answer: \n",
      " 최근 뉴스에 따르면 구글이 데이터베이스용 '생성형 AI 툴박스'를 공개 베타로 발표하며 랭체인과 협력하고 있다는 소식이 있습니다. 자세한 내용은 [여기에서 확인하실 수 있습니다](https://news.google.com/rss/articles/CBMiwgJBVV95cUxPM0hHcjNGR0RiT0M2QlplRlcxdjdYZE5WTk9zZ2lGVEIxd05hdktEbmRNNTBnLWJ1NEl3LWRPVTNfdFIxX1VOUURxdHdrWTdHOG9LQ3BrOUtWWUl1T0ZianhSckt1NGNtelAweTQ1LXpQTC1DVG50ZUVOOFV1VldBSEZvN2toemJuR3hfQXVfTXBKLVhzWDZMQ25kc1JQM1VnYTRFOTVYSmRFQWJGYWItdTJkNTdXaXlpYzY2dHg0aWM5WVlBQkFRb0N6WGNSWWdVaXhiY1ZXUGJuZ0dpVWtielpJQlV4dFAyZzB6Q2Z0Y1V6SjVZRU5QS0hsRUN0N19EbUc4RXFpV090M2ZZVjZUbS03cC13bFk1M0xrTnJMeHJUOC10dkctbGpJYnFRVHZfVXlQMU5nNDRUbndmbkFiZWFR?oc=5).\n",
      "[3] answer.additional_kwargs: \n",
      " {'refusal': None}\n",
      "=================================================================================\n",
      "==================================\u001b[1m Ai Message \u001b[0m==================================\n",
      "\n",
      "최근 뉴스에 따르면 구글이 데이터베이스용 '생성형 AI 툴박스'를 공개 베타로 발표하며 랭체인과 협력하고 있다는 소식이 있습니다. 자세한 내용은 [여기에서 확인하실 수 있습니다](https://news.google.com/rss/articles/CBMiwgJBVV95cUxPM0hHcjNGR0RiT0M2QlplRlcxdjdYZE5WTk9zZ2lGVEIxd05hdktEbmRNNTBnLWJ1NEl3LWRPVTNfdFIxX1VOUURxdHdrWTdHOG9LQ3BrOUtWWUl1T0ZianhSckt1NGNtelAweTQ1LXpQTC1DVG50ZUVOOFV1VldBSEZvN2toemJuR3hfQXVfTXBKLVhzWDZMQ25kc1JQM1VnYTRFOTVYSmRFQWJGYWItdTJkNTdXaXlpYzY2dHg0aWM5WVlBQkFRb0N6WGNSWWdVaXhiY1ZXUGJuZ0dpVWtielpJQlV4dFAyZzB6Q2Z0Y1V6SjVZRU5QS0hsRUN0N19EbUc4RXFpV090M2ZZVjZUbS03cC13bFk1M0xrTnJMeHJUOC10dkctbGpJYnFRVHZfVXlQMU5nNDRUbndmbkFiZWFR?oc=5).\n"
     ]
    }
   ],
   "source": [
    "question = ('랭체인에 대해서 뉴스 검색을 해주세요')\n",
    "\n",
    "for event in graph.stream({\"messages\": [(\"user\", question)]}, config=config):\n",
    "    for value in event.values():\n",
    "        value[\"messages\"][-1].pretty_print()"
   ]
  },
  {
   "cell_type": "code",
   "execution_count": 28,
   "metadata": {},
   "outputs": [
    {
     "name": "stdout",
     "output_type": "stream",
     "text": [
      "=================================================================================\n",
      "chatbot() 실행\n",
      "\n",
      "[1] state[messages]: \n",
      "[HumanMessage(content='랭체인에 대해서 뉴스 검색을 해주세요', additional_kwargs={}, response_metadata={}, id='c35fc09d-f8ce-47bc-af48-d1de505bbed1'), AIMessage(content='', additional_kwargs={'tool_calls': [{'id': 'call_YVnsrX8yFVh6QN0AMsVH31sO', 'function': {'arguments': '{\"query\":\"랭체인\"}', 'name': 'search_keyword'}, 'type': 'function'}], 'refusal': None}, response_metadata={'token_usage': {'completion_tokens': 18, 'prompt_tokens': 122, 'total_tokens': 140, 'completion_tokens_details': {'accepted_prediction_tokens': 0, 'audio_tokens': 0, 'reasoning_tokens': 0, 'rejected_prediction_tokens': 0}, 'prompt_tokens_details': {'audio_tokens': 0, 'cached_tokens': 0}}, 'model_name': 'gpt-4o-mini-2024-07-18', 'system_fingerprint': 'fp_7fcd609668', 'finish_reason': 'tool_calls', 'logprobs': None}, id='run-2a2225e1-b805-4b20-95ca-f12ca8bb7ee3-0', tool_calls=[{'name': 'search_keyword', 'args': {'query': '랭체인'}, 'id': 'call_YVnsrX8yFVh6QN0AMsVH31sO', 'type': 'tool_call'}], usage_metadata={'input_tokens': 122, 'output_tokens': 18, 'total_tokens': 140, 'input_token_details': {'audio': 0, 'cache_read': 0}, 'output_token_details': {'audio': 0, 'reasoning': 0}}), ToolMessage(content='[{\"url\": \"https://news.google.com/rss/articles/CBMiwgJBVV95cUxPM0hHcjNGR0RiT0M2QlplRlcxdjdYZE5WTk9zZ2lGVEIxd05hdktEbmRNNTBnLWJ1NEl3LWRPVTNfdFIxX1VOUURxdHdrWTdHOG9LQ3BrOUtWWUl1T0ZianhSckt1NGNtelAweTQ1LXpQTC1DVG50ZUVOOFV1VldBSEZvN2toemJuR3hfQXVfTXBKLVhzWDZMQ25kc1JQM1VnYTRFOTVYSmRFQWJGYWItdTJkNTdXaXlpYzY2dHg0aWM5WVlBQkFRb0N6WGNSWWdVaXhiY1ZXUGJuZ0dpVWtielpJQlV4dFAyZzB6Q2Z0Y1V6SjVZRU5QS0hsRUN0N19EbUc4RXFpV090M2ZZVjZUbS03cC13bFk1M0xrTnJMeHJUOC10dkctbGpJYnFRVHZfVXlQMU5nNDRUbndmbkFiZWFR?oc=5\", \"content\": \"구글, 데이터베이스용 ‘생성형 AI 툴박스’ 공개 베타 발표 \\\\\"랭체인과 협력\\\\\" - CIO.com\"}]', name='search_keyword', id='c572aaea-e376-40ec-8495-2d6d54407d13', tool_call_id='call_YVnsrX8yFVh6QN0AMsVH31sO'), AIMessage(content=\"최근 뉴스에 따르면 구글이 데이터베이스용 '생성형 AI 툴박스'를 공개 베타로 발표하며 랭체인과 협력하고 있다는 소식이 있습니다. 자세한 내용은 [여기에서 확인하실 수 있습니다](https://news.google.com/rss/articles/CBMiwgJBVV95cUxPM0hHcjNGR0RiT0M2QlplRlcxdjdYZE5WTk9zZ2lGVEIxd05hdktEbmRNNTBnLWJ1NEl3LWRPVTNfdFIxX1VOUURxdHdrWTdHOG9LQ3BrOUtWWUl1T0ZianhSckt1NGNtelAweTQ1LXpQTC1DVG50ZUVOOFV1VldBSEZvN2toemJuR3hfQXVfTXBKLVhzWDZMQ25kc1JQM1VnYTRFOTVYSmRFQWJGYWItdTJkNTdXaXlpYzY2dHg0aWM5WVlBQkFRb0N6WGNSWWdVaXhiY1ZXUGJuZ0dpVWtielpJQlV4dFAyZzB6Q2Z0Y1V6SjVZRU5QS0hsRUN0N19EbUc4RXFpV090M2ZZVjZUbS03cC13bFk1M0xrTnJMeHJUOC10dkctbGpJYnFRVHZfVXlQMU5nNDRUbndmbkFiZWFR?oc=5).\", additional_kwargs={'refusal': None}, response_metadata={'token_usage': {'completion_tokens': 365, 'prompt_tokens': 498, 'total_tokens': 863, 'completion_tokens_details': {'accepted_prediction_tokens': 0, 'audio_tokens': 0, 'reasoning_tokens': 0, 'rejected_prediction_tokens': 0}, 'prompt_tokens_details': {'audio_tokens': 0, 'cached_tokens': 0}}, 'model_name': 'gpt-4o-mini-2024-07-18', 'system_fingerprint': 'fp_7fcd609668', 'finish_reason': 'stop', 'logprobs': None}, id='run-67e19678-eaf2-4a77-b574-dcc324ad42c9-0', usage_metadata={'input_tokens': 498, 'output_tokens': 365, 'total_tokens': 863, 'input_token_details': {'audio': 0, 'cache_read': 0}, 'output_token_details': {'audio': 0, 'reasoning': 0}}), HumanMessage(content='랭체인에 대해서 웹 검색을 해주세요', additional_kwargs={}, response_metadata={}, id='9655b7b8-be32-4b53-b015-f63e5c413508')]\n",
      "\n",
      "[2] chatbot answer: \n",
      " \n",
      "[3] answer.additional_kwargs: \n",
      " {'tool_calls': [{'id': 'call_KjrYXo9m3XJ3Ws4HsCBvamF3', 'function': {'arguments': '{\"query\":\"랭체인\"}', 'name': 'tavily_web_search'}, 'type': 'function'}], 'refusal': None}\n",
      "=================================================================================\n",
      "====================================================================================================\n",
      "[event]\n",
      "==================================\u001b[1m Ai Message \u001b[0m==================================\n",
      "Tool Calls:\n",
      "  tavily_web_search (call_KjrYXo9m3XJ3Ws4HsCBvamF3)\n",
      " Call ID: call_KjrYXo9m3XJ3Ws4HsCBvamF3\n",
      "  Args:\n",
      "    query: 랭체인\n",
      "====================================================================================================\n",
      "[event]\n",
      "=================================\u001b[1m Tool Message \u001b[0m=================================\n",
      "Name: tavily_web_search\n",
      "\n",
      "[{\"title\": \"랭체인 - 위키백과, 우리 모두의 백과사전\", \"url\": \"https://ko.wikipedia.org/wiki/랭체인\", \"content\": \"개인 도구 랭체인 8개 언어 도구 위키백과, 우리 모두의 백과사전. 랭체인 개발자 해리슨 체이스(Harrison Chase) 저장소 github.com/langchain-ai/langchain 종류  대형 언어 모델 애플리케이션 개발을 위한 소프트웨어 프레임워크 랭체인(LangChain)은 LLM(대형 언어 모델)을 사용하여 애플리케이션 생성을 단순화하도록 설계된 프레임워크이다. 렝체인은 머신러닝 스타트업인 로버스트 인텔리전스(Robust Intelligence)에서 근무하던 시절 해리슨 체이스(Harrison Chase)가 오픈 소스 프로젝트로 2022년 10월에 출시했다. 2023년 4월 랭체인이 법인화되었고 새로운 스타트업은 벤치마크로부터 1,000만 달러의 초기 투자를 발표한 지 일주일 만에 벤처 회사 세쿼이아 캐피털로부터 최소 2억 달러의 가치로 2,000만 달러 이상의 자금을 조달했다. 2023년 10월 랭체인은 LCEL(LangChain Expression Language) 프로토타입에서 프로덕션 지원 애플리케이션으로의 전환을 촉진하도록 설계된 배포 도구인 랭서브(LangServe)를 출시했다. 오픈AI 언어 모델  오픈AI 코덱스GPT GPT-2GPT-3GPT-4 AI 던전Auto-GPT딥 러닝랭체인마이크로소프트 365 코파일럿마이크로소프트 빙 분류: 인공지능소프트웨어 프레임워크2022년 소프트웨어대형 언어 모델 이 문서는 2024년 10월 11일 (금) 09:13에 마지막으로 편집되었습니다. 위키백과 소개 개발자\", \"score\": 0.8482825, \"raw_content\": \"본문으로 이동\\n주 메뉴\\n검색\\n기부\\n계정 만들기\\n로그인\\n개인 도구\\n목차 토글\\n랭체인\\n8개 언어\\n문서\\n토론\\n읽기\\n편집\\n역사 보기\\n도구\\n위키백과, 우리 모두의 백과사전.\\n랭체인\\n개발자 해리슨 체이스(Harrison Chase)\\n발표일 2022년 10월\\n안정화 버전\\n0.1.16[1] / 2024년 4월 11일(7개월 전)\\n저장소 github.com/langchain-ai/langchain\\n프로그래밍 언어    파이썬 및 자바스크립트\\n종류  대형 언어 모델 애플리케이션 개발을 위한 소프트웨어 프레임워크\\n라이선스    MIT 라이선스\\n웹사이트    LangChain.com\\n랭체인(LangChain)은 LLM(대형 언어 모델)을 사용하여 애플리케이션 생성을 단순화하도록 설계된 프레임워크이다. 언어 모델 통합 프레임워크로서 랭체인의 사용 사례는 문서 분석 및 요약, 챗봇, 코드 분석을 포함하여 일반적인 언어 모델의 사용 사례와 크게 겹친다.\\n역사[편집]\\n렝체인은 머신러닝 스타트업인 로버스트 인텔리전스(Robust Intelligence)에서 근무하던 시절 해리슨 체이스(Harrison Chase)가 오픈 소스 프로젝트로 2022년 10월에 출시했다. 이 프로젝트는 깃허브의 수백 명의 기여자의 개선 사항, 트위터의 최신 토론, 프로젝트 디스코드 (소프트웨어) 서버의 활발한 활동, 많은 유튜브 튜토리얼, 샌프란시스코와 런던의 모임을 통해 빠르게 인기를 얻었다. 2023년 4월 랭체인이 법인화되었고 새로운 스타트업은 벤치마크로부터 1,000만 달러의 초기 투자를 발표한 지 일주일 만에 벤처 회사 세쿼이아 캐피털로부터 최소 2억 달러의 가치로 2,000만 달러 이상의 자금을 조달했다.\\n2023년 10월 랭체인은 LCEL(LangChain Expression Language) 프로토타입에서 프로덕션 지원 애플리케이션으로의 전환을 촉진하도록 설계된 배포 도구인 랭서브(LangServe)를 출시했다.\\n각주[편집]\\n↑ “Release 0.1.16”. 2024년 4월 11일. 2024년 4월 23일에 확인함.\\n외부 링크[편집]\\nOfficial website\\nDiscord server support hub\\nvte\\n오픈AI\\n제품\\n챗GPTDALL-E깃허브 코파일럿오픈AI 파이브소라\\n언어 모델 \\n오픈AI 코덱스GPT GPT-2GPT-3GPT-4\\n인물\\nCEO \\n샘 올트먼미라 무라티\\n이사회 \\n현재\\n로런스 서머스\\n이전\\n그렉 브로크만 (2017–2023)리드 호프만 (2019–2023)일론 머스크 (2015–2018)일리야 수츠케버 (2017–2023)\\n관련 항목 \\nAI 던전Auto-GPT딥 러닝랭체인마이크로소프트 365 코파일럿마이크로소프트 빙\\n분류 공용\\n분류: 인공지능소프트웨어 프레임워크2022년 소프트웨어대형 언어 모델\\n이 문서는 2024년 10월 11일 (금) 09:13에 마지막으로 편집되었습니다.\\n모든 문서는 크리에이티브 커먼즈 저작자표시-동일조건변경허락 4.0에 따라 사용할 수 있으며, 추가적인 조건이 적용될 수 있습니다. 자세한 내용은 이용 약관을 참고하십시오.\\nWikipedia®는 미국 및 다른 국가에 등록되어 있는 Wikimedia Foundation, Inc. 소유의 등록 상표입니다.\\n개인정보처리방침\\n위키백과 소개\\n면책 조항\\n행동 강령\\n개발자\\n통계\\n쿠키 정책\\n모바일 보기\"}]\n",
      "=================================================================================\n",
      "chatbot() 실행\n",
      "\n",
      "[1] state[messages]: \n",
      "[HumanMessage(content='랭체인에 대해서 뉴스 검색을 해주세요', additional_kwargs={}, response_metadata={}, id='c35fc09d-f8ce-47bc-af48-d1de505bbed1'), AIMessage(content='', additional_kwargs={'tool_calls': [{'id': 'call_YVnsrX8yFVh6QN0AMsVH31sO', 'function': {'arguments': '{\"query\":\"랭체인\"}', 'name': 'search_keyword'}, 'type': 'function'}], 'refusal': None}, response_metadata={'token_usage': {'completion_tokens': 18, 'prompt_tokens': 122, 'total_tokens': 140, 'completion_tokens_details': {'accepted_prediction_tokens': 0, 'audio_tokens': 0, 'reasoning_tokens': 0, 'rejected_prediction_tokens': 0}, 'prompt_tokens_details': {'audio_tokens': 0, 'cached_tokens': 0}}, 'model_name': 'gpt-4o-mini-2024-07-18', 'system_fingerprint': 'fp_7fcd609668', 'finish_reason': 'tool_calls', 'logprobs': None}, id='run-2a2225e1-b805-4b20-95ca-f12ca8bb7ee3-0', tool_calls=[{'name': 'search_keyword', 'args': {'query': '랭체인'}, 'id': 'call_YVnsrX8yFVh6QN0AMsVH31sO', 'type': 'tool_call'}], usage_metadata={'input_tokens': 122, 'output_tokens': 18, 'total_tokens': 140, 'input_token_details': {'audio': 0, 'cache_read': 0}, 'output_token_details': {'audio': 0, 'reasoning': 0}}), ToolMessage(content='[{\"url\": \"https://news.google.com/rss/articles/CBMiwgJBVV95cUxPM0hHcjNGR0RiT0M2QlplRlcxdjdYZE5WTk9zZ2lGVEIxd05hdktEbmRNNTBnLWJ1NEl3LWRPVTNfdFIxX1VOUURxdHdrWTdHOG9LQ3BrOUtWWUl1T0ZianhSckt1NGNtelAweTQ1LXpQTC1DVG50ZUVOOFV1VldBSEZvN2toemJuR3hfQXVfTXBKLVhzWDZMQ25kc1JQM1VnYTRFOTVYSmRFQWJGYWItdTJkNTdXaXlpYzY2dHg0aWM5WVlBQkFRb0N6WGNSWWdVaXhiY1ZXUGJuZ0dpVWtielpJQlV4dFAyZzB6Q2Z0Y1V6SjVZRU5QS0hsRUN0N19EbUc4RXFpV090M2ZZVjZUbS03cC13bFk1M0xrTnJMeHJUOC10dkctbGpJYnFRVHZfVXlQMU5nNDRUbndmbkFiZWFR?oc=5\", \"content\": \"구글, 데이터베이스용 ‘생성형 AI 툴박스’ 공개 베타 발표 \\\\\"랭체인과 협력\\\\\" - CIO.com\"}]', name='search_keyword', id='c572aaea-e376-40ec-8495-2d6d54407d13', tool_call_id='call_YVnsrX8yFVh6QN0AMsVH31sO'), AIMessage(content=\"최근 뉴스에 따르면 구글이 데이터베이스용 '생성형 AI 툴박스'를 공개 베타로 발표하며 랭체인과 협력하고 있다는 소식이 있습니다. 자세한 내용은 [여기에서 확인하실 수 있습니다](https://news.google.com/rss/articles/CBMiwgJBVV95cUxPM0hHcjNGR0RiT0M2QlplRlcxdjdYZE5WTk9zZ2lGVEIxd05hdktEbmRNNTBnLWJ1NEl3LWRPVTNfdFIxX1VOUURxdHdrWTdHOG9LQ3BrOUtWWUl1T0ZianhSckt1NGNtelAweTQ1LXpQTC1DVG50ZUVOOFV1VldBSEZvN2toemJuR3hfQXVfTXBKLVhzWDZMQ25kc1JQM1VnYTRFOTVYSmRFQWJGYWItdTJkNTdXaXlpYzY2dHg0aWM5WVlBQkFRb0N6WGNSWWdVaXhiY1ZXUGJuZ0dpVWtielpJQlV4dFAyZzB6Q2Z0Y1V6SjVZRU5QS0hsRUN0N19EbUc4RXFpV090M2ZZVjZUbS03cC13bFk1M0xrTnJMeHJUOC10dkctbGpJYnFRVHZfVXlQMU5nNDRUbndmbkFiZWFR?oc=5).\", additional_kwargs={'refusal': None}, response_metadata={'token_usage': {'completion_tokens': 365, 'prompt_tokens': 498, 'total_tokens': 863, 'completion_tokens_details': {'accepted_prediction_tokens': 0, 'audio_tokens': 0, 'reasoning_tokens': 0, 'rejected_prediction_tokens': 0}, 'prompt_tokens_details': {'audio_tokens': 0, 'cached_tokens': 0}}, 'model_name': 'gpt-4o-mini-2024-07-18', 'system_fingerprint': 'fp_7fcd609668', 'finish_reason': 'stop', 'logprobs': None}, id='run-67e19678-eaf2-4a77-b574-dcc324ad42c9-0', usage_metadata={'input_tokens': 498, 'output_tokens': 365, 'total_tokens': 863, 'input_token_details': {'audio': 0, 'cache_read': 0}, 'output_token_details': {'audio': 0, 'reasoning': 0}}), HumanMessage(content='랭체인에 대해서 웹 검색을 해주세요', additional_kwargs={}, response_metadata={}, id='9655b7b8-be32-4b53-b015-f63e5c413508'), AIMessage(content='', additional_kwargs={'tool_calls': [{'id': 'call_KjrYXo9m3XJ3Ws4HsCBvamF3', 'function': {'arguments': '{\"query\":\"랭체인\"}', 'name': 'tavily_web_search'}, 'type': 'function'}], 'refusal': None}, response_metadata={'token_usage': {'completion_tokens': 21, 'prompt_tokens': 880, 'total_tokens': 901, 'completion_tokens_details': {'accepted_prediction_tokens': 0, 'audio_tokens': 0, 'reasoning_tokens': 0, 'rejected_prediction_tokens': 0}, 'prompt_tokens_details': {'audio_tokens': 0, 'cached_tokens': 0}}, 'model_name': 'gpt-4o-mini-2024-07-18', 'system_fingerprint': 'fp_7fcd609668', 'finish_reason': 'tool_calls', 'logprobs': None}, id='run-f973481f-8837-4ac4-82c1-ef60022a9d43-0', tool_calls=[{'name': 'tavily_web_search', 'args': {'query': '랭체인'}, 'id': 'call_KjrYXo9m3XJ3Ws4HsCBvamF3', 'type': 'tool_call'}], usage_metadata={'input_tokens': 880, 'output_tokens': 21, 'total_tokens': 901, 'input_token_details': {'audio': 0, 'cache_read': 0}, 'output_token_details': {'audio': 0, 'reasoning': 0}}), ToolMessage(content='[{\"title\": \"랭체인 - 위키백과, 우리 모두의 백과사전\", \"url\": \"https://ko.wikipedia.org/wiki/랭체인\", \"content\": \"개인 도구 랭체인 8개 언어 도구 위키백과, 우리 모두의 백과사전. 랭체인 개발자 해리슨 체이스(Harrison Chase) 저장소 github.com/langchain-ai/langchain 종류  대형 언어 모델 애플리케이션 개발을 위한 소프트웨어 프레임워크 랭체인(LangChain)은 LLM(대형 언어 모델)을 사용하여 애플리케이션 생성을 단순화하도록 설계된 프레임워크이다. 렝체인은 머신러닝 스타트업인 로버스트 인텔리전스(Robust Intelligence)에서 근무하던 시절 해리슨 체이스(Harrison Chase)가 오픈 소스 프로젝트로 2022년 10월에 출시했다. 2023년 4월 랭체인이 법인화되었고 새로운 스타트업은 벤치마크로부터 1,000만 달러의 초기 투자를 발표한 지 일주일 만에 벤처 회사 세쿼이아 캐피털로부터 최소 2억 달러의 가치로 2,000만 달러 이상의 자금을 조달했다. 2023년 10월 랭체인은 LCEL(LangChain Expression Language) 프로토타입에서 프로덕션 지원 애플리케이션으로의 전환을 촉진하도록 설계된 배포 도구인 랭서브(LangServe)를 출시했다. 오픈AI 언어 모델  오픈AI 코덱스GPT GPT-2GPT-3GPT-4 AI 던전Auto-GPT딥 러닝랭체인마이크로소프트 365 코파일럿마이크로소프트 빙 분류: 인공지능소프트웨어 프레임워크2022년 소프트웨어대형 언어 모델 이 문서는 2024년 10월 11일 (금) 09:13에 마지막으로 편집되었습니다. 위키백과 소개 개발자\", \"score\": 0.8482825, \"raw_content\": \"본문으로 이동\\\\n주 메뉴\\\\n검색\\\\n기부\\\\n계정 만들기\\\\n로그인\\\\n개인 도구\\\\n목차 토글\\\\n랭체인\\\\n8개 언어\\\\n문서\\\\n토론\\\\n읽기\\\\n편집\\\\n역사 보기\\\\n도구\\\\n위키백과, 우리 모두의 백과사전.\\\\n랭체인\\\\n개발자 해리슨 체이스(Harrison Chase)\\\\n발표일 2022년 10월\\\\n안정화 버전\\\\n0.1.16[1] / 2024년 4월 11일(7개월 전)\\\\n저장소 github.com/langchain-ai/langchain\\\\n프로그래밍 언어    파이썬 및 자바스크립트\\\\n종류  대형 언어 모델 애플리케이션 개발을 위한 소프트웨어 프레임워크\\\\n라이선스    MIT 라이선스\\\\n웹사이트    LangChain.com\\\\n랭체인(LangChain)은 LLM(대형 언어 모델)을 사용하여 애플리케이션 생성을 단순화하도록 설계된 프레임워크이다. 언어 모델 통합 프레임워크로서 랭체인의 사용 사례는 문서 분석 및 요약, 챗봇, 코드 분석을 포함하여 일반적인 언어 모델의 사용 사례와 크게 겹친다.\\\\n역사[편집]\\\\n렝체인은 머신러닝 스타트업인 로버스트 인텔리전스(Robust Intelligence)에서 근무하던 시절 해리슨 체이스(Harrison Chase)가 오픈 소스 프로젝트로 2022년 10월에 출시했다. 이 프로젝트는 깃허브의 수백 명의 기여자의 개선 사항, 트위터의 최신 토론, 프로젝트 디스코드 (소프트웨어) 서버의 활발한 활동, 많은 유튜브 튜토리얼, 샌프란시스코와 런던의 모임을 통해 빠르게 인기를 얻었다. 2023년 4월 랭체인이 법인화되었고 새로운 스타트업은 벤치마크로부터 1,000만 달러의 초기 투자를 발표한 지 일주일 만에 벤처 회사 세쿼이아 캐피털로부터 최소 2억 달러의 가치로 2,000만 달러 이상의 자금을 조달했다.\\\\n2023년 10월 랭체인은 LCEL(LangChain Expression Language) 프로토타입에서 프로덕션 지원 애플리케이션으로의 전환을 촉진하도록 설계된 배포 도구인 랭서브(LangServe)를 출시했다.\\\\n각주[편집]\\\\n↑ “Release 0.1.16”. 2024년 4월 11일. 2024년 4월 23일에 확인함.\\\\n외부 링크[편집]\\\\nOfficial website\\\\nDiscord server support hub\\\\nvte\\\\n오픈AI\\\\n제품\\\\n챗GPTDALL-E깃허브 코파일럿오픈AI 파이브소라\\\\n언어 모델 \\\\n오픈AI 코덱스GPT GPT-2GPT-3GPT-4\\\\n인물\\\\nCEO \\\\n샘 올트먼미라 무라티\\\\n이사회 \\\\n현재\\\\n로런스 서머스\\\\n이전\\\\n그렉 브로크만 (2017–2023)리드 호프만 (2019–2023)일론 머스크 (2015–2018)일리야 수츠케버 (2017–2023)\\\\n관련 항목 \\\\nAI 던전Auto-GPT딥 러닝랭체인마이크로소프트 365 코파일럿마이크로소프트 빙\\\\n분류 공용\\\\n분류: 인공지능소프트웨어 프레임워크2022년 소프트웨어대형 언어 모델\\\\n이 문서는 2024년 10월 11일 (금) 09:13에 마지막으로 편집되었습니다.\\\\n모든 문서는 크리에이티브 커먼즈 저작자표시-동일조건변경허락 4.0에 따라 사용할 수 있으며, 추가적인 조건이 적용될 수 있습니다. 자세한 내용은 이용 약관을 참고하십시오.\\\\nWikipedia®는 미국 및 다른 국가에 등록되어 있는 Wikimedia Foundation, Inc. 소유의 등록 상표입니다.\\\\n개인정보처리방침\\\\n위키백과 소개\\\\n면책 조항\\\\n행동 강령\\\\n개발자\\\\n통계\\\\n쿠키 정책\\\\n모바일 보기\"}]', name='tavily_web_search', id='39095f68-eb85-422e-9be3-41f183ecfee4', tool_call_id='call_KjrYXo9m3XJ3Ws4HsCBvamF3')]\n",
      "\n",
      "[2] chatbot answer: \n",
      " 랭체인(LangChain)은 대형 언어 모델(LLM)을 사용하여 애플리케이션 생성을 단순화하도록 설계된 소프트웨어 프레임워크입니다. 이 프레임워크는 해리슨 체이스(Harrison Chase)에 의해 2022년 10월에 오픈 소스 프로젝트로 출시되었습니다. 랭체인은 문서 분석, 요약, 챗봇, 코드 분석 등 다양한 언어 모델의 사용 사례를 지원합니다.\n",
      "\n",
      "2023년 4월에는 법인화되었고, 이후 벤처 회사 세쿼이아 캐피털로부터 2,000만 달러 이상의 자금을 조달했습니다. 최근에는 LCEL(LangChain Expression Language) 프로토타입에서 프로덕션 지원 애플리케이션으로의 전환을 촉진하기 위한 배포 도구인 랭서브(LangServe)를 출시했습니다.\n",
      "\n",
      "자세한 내용은 [위키백과에서 확인하실 수 있습니다](https://ko.wikipedia.org/wiki/랭체인).\n",
      "[3] answer.additional_kwargs: \n",
      " {'refusal': None}\n",
      "=================================================================================\n",
      "====================================================================================================\n",
      "[event]\n",
      "==================================\u001b[1m Ai Message \u001b[0m==================================\n",
      "\n",
      "랭체인(LangChain)은 대형 언어 모델(LLM)을 사용하여 애플리케이션 생성을 단순화하도록 설계된 소프트웨어 프레임워크입니다. 이 프레임워크는 해리슨 체이스(Harrison Chase)에 의해 2022년 10월에 오픈 소스 프로젝트로 출시되었습니다. 랭체인은 문서 분석, 요약, 챗봇, 코드 분석 등 다양한 언어 모델의 사용 사례를 지원합니다.\n",
      "\n",
      "2023년 4월에는 법인화되었고, 이후 벤처 회사 세쿼이아 캐피털로부터 2,000만 달러 이상의 자금을 조달했습니다. 최근에는 LCEL(LangChain Expression Language) 프로토타입에서 프로덕션 지원 애플리케이션으로의 전환을 촉진하기 위한 배포 도구인 랭서브(LangServe)를 출시했습니다.\n",
      "\n",
      "자세한 내용은 [위키백과에서 확인하실 수 있습니다](https://ko.wikipedia.org/wiki/랭체인).\n"
     ]
    }
   ],
   "source": [
    "question = ('랭체인에 대해서 웹 검색을 해주세요')\n",
    "\n",
    "for event in graph.stream({\"messages\": [(\"user\", question)]}, config=config):\n",
    "    print('==' * 50)\n",
    "    print('[event]')\n",
    "    # print(event)\n",
    "\n",
    "    for key, value in event.items():\n",
    "        value['messages'][-1].pretty_print()"
   ]
  },
  {
   "cell_type": "code",
   "execution_count": 29,
   "metadata": {},
   "outputs": [
    {
     "name": "stdout",
     "output_type": "stream",
     "text": [
      "=================================================================================\n",
      "chatbot() 실행\n",
      "\n",
      "[1] state[messages]: \n",
      "[HumanMessage(content='랭체인에 대해서 뉴스 검색을 해주세요', additional_kwargs={}, response_metadata={}, id='c35fc09d-f8ce-47bc-af48-d1de505bbed1'), AIMessage(content='', additional_kwargs={'tool_calls': [{'id': 'call_YVnsrX8yFVh6QN0AMsVH31sO', 'function': {'arguments': '{\"query\":\"랭체인\"}', 'name': 'search_keyword'}, 'type': 'function'}], 'refusal': None}, response_metadata={'token_usage': {'completion_tokens': 18, 'prompt_tokens': 122, 'total_tokens': 140, 'completion_tokens_details': {'accepted_prediction_tokens': 0, 'audio_tokens': 0, 'reasoning_tokens': 0, 'rejected_prediction_tokens': 0}, 'prompt_tokens_details': {'audio_tokens': 0, 'cached_tokens': 0}}, 'model_name': 'gpt-4o-mini-2024-07-18', 'system_fingerprint': 'fp_7fcd609668', 'finish_reason': 'tool_calls', 'logprobs': None}, id='run-2a2225e1-b805-4b20-95ca-f12ca8bb7ee3-0', tool_calls=[{'name': 'search_keyword', 'args': {'query': '랭체인'}, 'id': 'call_YVnsrX8yFVh6QN0AMsVH31sO', 'type': 'tool_call'}], usage_metadata={'input_tokens': 122, 'output_tokens': 18, 'total_tokens': 140, 'input_token_details': {'audio': 0, 'cache_read': 0}, 'output_token_details': {'audio': 0, 'reasoning': 0}}), ToolMessage(content='[{\"url\": \"https://news.google.com/rss/articles/CBMiwgJBVV95cUxPM0hHcjNGR0RiT0M2QlplRlcxdjdYZE5WTk9zZ2lGVEIxd05hdktEbmRNNTBnLWJ1NEl3LWRPVTNfdFIxX1VOUURxdHdrWTdHOG9LQ3BrOUtWWUl1T0ZianhSckt1NGNtelAweTQ1LXpQTC1DVG50ZUVOOFV1VldBSEZvN2toemJuR3hfQXVfTXBKLVhzWDZMQ25kc1JQM1VnYTRFOTVYSmRFQWJGYWItdTJkNTdXaXlpYzY2dHg0aWM5WVlBQkFRb0N6WGNSWWdVaXhiY1ZXUGJuZ0dpVWtielpJQlV4dFAyZzB6Q2Z0Y1V6SjVZRU5QS0hsRUN0N19EbUc4RXFpV090M2ZZVjZUbS03cC13bFk1M0xrTnJMeHJUOC10dkctbGpJYnFRVHZfVXlQMU5nNDRUbndmbkFiZWFR?oc=5\", \"content\": \"구글, 데이터베이스용 ‘생성형 AI 툴박스’ 공개 베타 발표 \\\\\"랭체인과 협력\\\\\" - CIO.com\"}]', name='search_keyword', id='c572aaea-e376-40ec-8495-2d6d54407d13', tool_call_id='call_YVnsrX8yFVh6QN0AMsVH31sO'), AIMessage(content=\"최근 뉴스에 따르면 구글이 데이터베이스용 '생성형 AI 툴박스'를 공개 베타로 발표하며 랭체인과 협력하고 있다는 소식이 있습니다. 자세한 내용은 [여기에서 확인하실 수 있습니다](https://news.google.com/rss/articles/CBMiwgJBVV95cUxPM0hHcjNGR0RiT0M2QlplRlcxdjdYZE5WTk9zZ2lGVEIxd05hdktEbmRNNTBnLWJ1NEl3LWRPVTNfdFIxX1VOUURxdHdrWTdHOG9LQ3BrOUtWWUl1T0ZianhSckt1NGNtelAweTQ1LXpQTC1DVG50ZUVOOFV1VldBSEZvN2toemJuR3hfQXVfTXBKLVhzWDZMQ25kc1JQM1VnYTRFOTVYSmRFQWJGYWItdTJkNTdXaXlpYzY2dHg0aWM5WVlBQkFRb0N6WGNSWWdVaXhiY1ZXUGJuZ0dpVWtielpJQlV4dFAyZzB6Q2Z0Y1V6SjVZRU5QS0hsRUN0N19EbUc4RXFpV090M2ZZVjZUbS03cC13bFk1M0xrTnJMeHJUOC10dkctbGpJYnFRVHZfVXlQMU5nNDRUbndmbkFiZWFR?oc=5).\", additional_kwargs={'refusal': None}, response_metadata={'token_usage': {'completion_tokens': 365, 'prompt_tokens': 498, 'total_tokens': 863, 'completion_tokens_details': {'accepted_prediction_tokens': 0, 'audio_tokens': 0, 'reasoning_tokens': 0, 'rejected_prediction_tokens': 0}, 'prompt_tokens_details': {'audio_tokens': 0, 'cached_tokens': 0}}, 'model_name': 'gpt-4o-mini-2024-07-18', 'system_fingerprint': 'fp_7fcd609668', 'finish_reason': 'stop', 'logprobs': None}, id='run-67e19678-eaf2-4a77-b574-dcc324ad42c9-0', usage_metadata={'input_tokens': 498, 'output_tokens': 365, 'total_tokens': 863, 'input_token_details': {'audio': 0, 'cache_read': 0}, 'output_token_details': {'audio': 0, 'reasoning': 0}}), HumanMessage(content='랭체인에 대해서 웹 검색을 해주세요', additional_kwargs={}, response_metadata={}, id='9655b7b8-be32-4b53-b015-f63e5c413508'), AIMessage(content='', additional_kwargs={'tool_calls': [{'id': 'call_KjrYXo9m3XJ3Ws4HsCBvamF3', 'function': {'arguments': '{\"query\":\"랭체인\"}', 'name': 'tavily_web_search'}, 'type': 'function'}], 'refusal': None}, response_metadata={'token_usage': {'completion_tokens': 21, 'prompt_tokens': 880, 'total_tokens': 901, 'completion_tokens_details': {'accepted_prediction_tokens': 0, 'audio_tokens': 0, 'reasoning_tokens': 0, 'rejected_prediction_tokens': 0}, 'prompt_tokens_details': {'audio_tokens': 0, 'cached_tokens': 0}}, 'model_name': 'gpt-4o-mini-2024-07-18', 'system_fingerprint': 'fp_7fcd609668', 'finish_reason': 'tool_calls', 'logprobs': None}, id='run-f973481f-8837-4ac4-82c1-ef60022a9d43-0', tool_calls=[{'name': 'tavily_web_search', 'args': {'query': '랭체인'}, 'id': 'call_KjrYXo9m3XJ3Ws4HsCBvamF3', 'type': 'tool_call'}], usage_metadata={'input_tokens': 880, 'output_tokens': 21, 'total_tokens': 901, 'input_token_details': {'audio': 0, 'cache_read': 0}, 'output_token_details': {'audio': 0, 'reasoning': 0}}), ToolMessage(content='[{\"title\": \"랭체인 - 위키백과, 우리 모두의 백과사전\", \"url\": \"https://ko.wikipedia.org/wiki/랭체인\", \"content\": \"개인 도구 랭체인 8개 언어 도구 위키백과, 우리 모두의 백과사전. 랭체인 개발자 해리슨 체이스(Harrison Chase) 저장소 github.com/langchain-ai/langchain 종류  대형 언어 모델 애플리케이션 개발을 위한 소프트웨어 프레임워크 랭체인(LangChain)은 LLM(대형 언어 모델)을 사용하여 애플리케이션 생성을 단순화하도록 설계된 프레임워크이다. 렝체인은 머신러닝 스타트업인 로버스트 인텔리전스(Robust Intelligence)에서 근무하던 시절 해리슨 체이스(Harrison Chase)가 오픈 소스 프로젝트로 2022년 10월에 출시했다. 2023년 4월 랭체인이 법인화되었고 새로운 스타트업은 벤치마크로부터 1,000만 달러의 초기 투자를 발표한 지 일주일 만에 벤처 회사 세쿼이아 캐피털로부터 최소 2억 달러의 가치로 2,000만 달러 이상의 자금을 조달했다. 2023년 10월 랭체인은 LCEL(LangChain Expression Language) 프로토타입에서 프로덕션 지원 애플리케이션으로의 전환을 촉진하도록 설계된 배포 도구인 랭서브(LangServe)를 출시했다. 오픈AI 언어 모델  오픈AI 코덱스GPT GPT-2GPT-3GPT-4 AI 던전Auto-GPT딥 러닝랭체인마이크로소프트 365 코파일럿마이크로소프트 빙 분류: 인공지능소프트웨어 프레임워크2022년 소프트웨어대형 언어 모델 이 문서는 2024년 10월 11일 (금) 09:13에 마지막으로 편집되었습니다. 위키백과 소개 개발자\", \"score\": 0.8482825, \"raw_content\": \"본문으로 이동\\\\n주 메뉴\\\\n검색\\\\n기부\\\\n계정 만들기\\\\n로그인\\\\n개인 도구\\\\n목차 토글\\\\n랭체인\\\\n8개 언어\\\\n문서\\\\n토론\\\\n읽기\\\\n편집\\\\n역사 보기\\\\n도구\\\\n위키백과, 우리 모두의 백과사전.\\\\n랭체인\\\\n개발자 해리슨 체이스(Harrison Chase)\\\\n발표일 2022년 10월\\\\n안정화 버전\\\\n0.1.16[1] / 2024년 4월 11일(7개월 전)\\\\n저장소 github.com/langchain-ai/langchain\\\\n프로그래밍 언어    파이썬 및 자바스크립트\\\\n종류  대형 언어 모델 애플리케이션 개발을 위한 소프트웨어 프레임워크\\\\n라이선스    MIT 라이선스\\\\n웹사이트    LangChain.com\\\\n랭체인(LangChain)은 LLM(대형 언어 모델)을 사용하여 애플리케이션 생성을 단순화하도록 설계된 프레임워크이다. 언어 모델 통합 프레임워크로서 랭체인의 사용 사례는 문서 분석 및 요약, 챗봇, 코드 분석을 포함하여 일반적인 언어 모델의 사용 사례와 크게 겹친다.\\\\n역사[편집]\\\\n렝체인은 머신러닝 스타트업인 로버스트 인텔리전스(Robust Intelligence)에서 근무하던 시절 해리슨 체이스(Harrison Chase)가 오픈 소스 프로젝트로 2022년 10월에 출시했다. 이 프로젝트는 깃허브의 수백 명의 기여자의 개선 사항, 트위터의 최신 토론, 프로젝트 디스코드 (소프트웨어) 서버의 활발한 활동, 많은 유튜브 튜토리얼, 샌프란시스코와 런던의 모임을 통해 빠르게 인기를 얻었다. 2023년 4월 랭체인이 법인화되었고 새로운 스타트업은 벤치마크로부터 1,000만 달러의 초기 투자를 발표한 지 일주일 만에 벤처 회사 세쿼이아 캐피털로부터 최소 2억 달러의 가치로 2,000만 달러 이상의 자금을 조달했다.\\\\n2023년 10월 랭체인은 LCEL(LangChain Expression Language) 프로토타입에서 프로덕션 지원 애플리케이션으로의 전환을 촉진하도록 설계된 배포 도구인 랭서브(LangServe)를 출시했다.\\\\n각주[편집]\\\\n↑ “Release 0.1.16”. 2024년 4월 11일. 2024년 4월 23일에 확인함.\\\\n외부 링크[편집]\\\\nOfficial website\\\\nDiscord server support hub\\\\nvte\\\\n오픈AI\\\\n제품\\\\n챗GPTDALL-E깃허브 코파일럿오픈AI 파이브소라\\\\n언어 모델 \\\\n오픈AI 코덱스GPT GPT-2GPT-3GPT-4\\\\n인물\\\\nCEO \\\\n샘 올트먼미라 무라티\\\\n이사회 \\\\n현재\\\\n로런스 서머스\\\\n이전\\\\n그렉 브로크만 (2017–2023)리드 호프만 (2019–2023)일론 머스크 (2015–2018)일리야 수츠케버 (2017–2023)\\\\n관련 항목 \\\\nAI 던전Auto-GPT딥 러닝랭체인마이크로소프트 365 코파일럿마이크로소프트 빙\\\\n분류 공용\\\\n분류: 인공지능소프트웨어 프레임워크2022년 소프트웨어대형 언어 모델\\\\n이 문서는 2024년 10월 11일 (금) 09:13에 마지막으로 편집되었습니다.\\\\n모든 문서는 크리에이티브 커먼즈 저작자표시-동일조건변경허락 4.0에 따라 사용할 수 있으며, 추가적인 조건이 적용될 수 있습니다. 자세한 내용은 이용 약관을 참고하십시오.\\\\nWikipedia®는 미국 및 다른 국가에 등록되어 있는 Wikimedia Foundation, Inc. 소유의 등록 상표입니다.\\\\n개인정보처리방침\\\\n위키백과 소개\\\\n면책 조항\\\\n행동 강령\\\\n개발자\\\\n통계\\\\n쿠키 정책\\\\n모바일 보기\"}]', name='tavily_web_search', id='39095f68-eb85-422e-9be3-41f183ecfee4', tool_call_id='call_KjrYXo9m3XJ3Ws4HsCBvamF3'), AIMessage(content='랭체인(LangChain)은 대형 언어 모델(LLM)을 사용하여 애플리케이션 생성을 단순화하도록 설계된 소프트웨어 프레임워크입니다. 이 프레임워크는 해리슨 체이스(Harrison Chase)에 의해 2022년 10월에 오픈 소스 프로젝트로 출시되었습니다. 랭체인은 문서 분석, 요약, 챗봇, 코드 분석 등 다양한 언어 모델의 사용 사례를 지원합니다.\\n\\n2023년 4월에는 법인화되었고, 이후 벤처 회사 세쿼이아 캐피털로부터 2,000만 달러 이상의 자금을 조달했습니다. 최근에는 LCEL(LangChain Expression Language) 프로토타입에서 프로덕션 지원 애플리케이션으로의 전환을 촉진하기 위한 배포 도구인 랭서브(LangServe)를 출시했습니다.\\n\\n자세한 내용은 [위키백과에서 확인하실 수 있습니다](https://ko.wikipedia.org/wiki/랭체인).', additional_kwargs={'refusal': None}, response_metadata={'token_usage': {'completion_tokens': 229, 'prompt_tokens': 2396, 'total_tokens': 2625, 'completion_tokens_details': {'accepted_prediction_tokens': 0, 'audio_tokens': 0, 'reasoning_tokens': 0, 'rejected_prediction_tokens': 0}, 'prompt_tokens_details': {'audio_tokens': 0, 'cached_tokens': 0}}, 'model_name': 'gpt-4o-mini-2024-07-18', 'system_fingerprint': 'fp_7fcd609668', 'finish_reason': 'stop', 'logprobs': None}, id='run-9972bb20-b9e7-4757-959b-3b0417812c7a-0', usage_metadata={'input_tokens': 2396, 'output_tokens': 229, 'total_tokens': 2625, 'input_token_details': {'audio': 0, 'cache_read': 0}, 'output_token_details': {'audio': 0, 'reasoning': 0}}), HumanMessage(content='`소프트웨어놀이터`에서 코딩강의를 하고 있는 이인환입니다.', additional_kwargs={}, response_metadata={}, id='7a9db36a-d774-4f43-93f7-0c13043f2aef')]\n",
      "\n",
      "[2] chatbot answer: \n",
      " 안녕하세요, 이인환님! 소프트웨어놀이터에서 코딩 강의를 하고 계시군요. 어떤 주제나 언어에 대해 강의를 진행하고 계신가요? 도움이 필요하시거나 궁금한 점이 있다면 말씀해 주세요!\n",
      "[3] answer.additional_kwargs: \n",
      " {'refusal': None}\n",
      "=================================================================================\n",
      "=================================================================================\n",
      "\n",
      "[event] 실행 결과\n",
      "(1) value : \n",
      "content='안녕하세요, 이인환님! 소프트웨어놀이터에서 코딩 강의를 하고 계시군요. 어떤 주제나 언어에 대해 강의를 진행하고 계신가요? 도움이 필요하시거나 궁금한 점이 있다면 말씀해 주세요!' additional_kwargs={'refusal': None} response_metadata={'token_usage': {'completion_tokens': 58, 'prompt_tokens': 2650, 'total_tokens': 2708, 'completion_tokens_details': {'accepted_prediction_tokens': 0, 'audio_tokens': 0, 'reasoning_tokens': 0, 'rejected_prediction_tokens': 0}, 'prompt_tokens_details': {'audio_tokens': 0, 'cached_tokens': 2560}}, 'model_name': 'gpt-4o-mini-2024-07-18', 'system_fingerprint': 'fp_7fcd609668', 'finish_reason': 'stop', 'logprobs': None} id='run-2c33f841-9f4c-440c-ad74-c35fe1ebd839-0' usage_metadata={'input_tokens': 2650, 'output_tokens': 58, 'total_tokens': 2708, 'input_token_details': {'audio': 0, 'cache_read': 2560}, 'output_token_details': {'audio': 0, 'reasoning': 0}}\n",
      "\n",
      "(2) [content]: 안녕하세요, 이인환님! 소프트웨어놀이터에서 코딩 강의를 하고 계시군요. 어떤 주제나 언어에 대해 강의를 진행하고 계신가요? 도움이 필요하시거나 궁금한 점이 있다면 말씀해 주세요!\n",
      "(3) [additional_kwargs]: \n",
      "\t{'refusal': None}\n",
      "(4) [response_metadata]: \n",
      "\t{'token_usage': {'completion_tokens': 58, 'prompt_tokens': 2650, 'total_tokens': 2708, 'completion_tokens_details': {'accepted_prediction_tokens': 0, 'audio_tokens': 0, 'reasoning_tokens': 0, 'rejected_prediction_tokens': 0}, 'prompt_tokens_details': {'audio_tokens': 0, 'cached_tokens': 2560}}, 'model_name': 'gpt-4o-mini-2024-07-18', 'system_fingerprint': 'fp_7fcd609668', 'finish_reason': 'stop', 'logprobs': None}\n",
      "=================================================================================\n",
      "\n"
     ]
    }
   ],
   "source": [
    "question = ('`소프트웨어놀이터`에서 코딩강의를 하고 있는 이인환입니다.')\n",
    "\n",
    "for event in graph.stream({\"messages\": [(\"user\", question)]}, config=config):\n",
    "    \n",
    "    print('=================================================================================')\n",
    "    print('\\n[event] 실행 결과')\n",
    "\n",
    "    for value in event.values():\n",
    "        print('(1) value : ')\n",
    "        print(value['messages'][-1])\n",
    "        print()\n",
    "\n",
    "        if value['messages'][-1].content is not None:\n",
    "            print(f\"(2) [content]: {value['messages'][-1].content}\")\n",
    "        else:\n",
    "            print(f\"(2) [content]: 없음\")\n",
    "\n",
    "\n",
    "        if value['messages'][-1].additional_kwargs is not None:\n",
    "            print(f\"(3) [additional_kwargs]: \")\n",
    "            print(f\"\\t{value['messages'][-1].additional_kwargs}\")\n",
    "\n",
    "        else:\n",
    "            print(f\"(3) [additional_kwargs]: 없음\")\n",
    "\n",
    "        \n",
    "        if value['messages'][-1].response_metadata is not None:\n",
    "            print(f\"(4) [response_metadata]: \")\n",
    "            print(f\"\\t{value['messages'][-1].response_metadata}\")\n",
    "        else:\n",
    "            print(f\"(4)) [response_metadata]: 없음\")\n",
    "        print('=================================================================================')\n",
    "        print()"
   ]
  },
  {
   "cell_type": "code",
   "execution_count": 30,
   "metadata": {},
   "outputs": [
    {
     "name": "stdout",
     "output_type": "stream",
     "text": [
      "=================================================================================\n",
      "chatbot() 실행\n",
      "\n",
      "[1] state[messages]: \n",
      "[HumanMessage(content='랭체인에 대해서 뉴스 검색을 해주세요', additional_kwargs={}, response_metadata={}, id='c35fc09d-f8ce-47bc-af48-d1de505bbed1'), AIMessage(content='', additional_kwargs={'tool_calls': [{'id': 'call_YVnsrX8yFVh6QN0AMsVH31sO', 'function': {'arguments': '{\"query\":\"랭체인\"}', 'name': 'search_keyword'}, 'type': 'function'}], 'refusal': None}, response_metadata={'token_usage': {'completion_tokens': 18, 'prompt_tokens': 122, 'total_tokens': 140, 'completion_tokens_details': {'accepted_prediction_tokens': 0, 'audio_tokens': 0, 'reasoning_tokens': 0, 'rejected_prediction_tokens': 0}, 'prompt_tokens_details': {'audio_tokens': 0, 'cached_tokens': 0}}, 'model_name': 'gpt-4o-mini-2024-07-18', 'system_fingerprint': 'fp_7fcd609668', 'finish_reason': 'tool_calls', 'logprobs': None}, id='run-2a2225e1-b805-4b20-95ca-f12ca8bb7ee3-0', tool_calls=[{'name': 'search_keyword', 'args': {'query': '랭체인'}, 'id': 'call_YVnsrX8yFVh6QN0AMsVH31sO', 'type': 'tool_call'}], usage_metadata={'input_tokens': 122, 'output_tokens': 18, 'total_tokens': 140, 'input_token_details': {'audio': 0, 'cache_read': 0}, 'output_token_details': {'audio': 0, 'reasoning': 0}}), ToolMessage(content='[{\"url\": \"https://news.google.com/rss/articles/CBMiwgJBVV95cUxPM0hHcjNGR0RiT0M2QlplRlcxdjdYZE5WTk9zZ2lGVEIxd05hdktEbmRNNTBnLWJ1NEl3LWRPVTNfdFIxX1VOUURxdHdrWTdHOG9LQ3BrOUtWWUl1T0ZianhSckt1NGNtelAweTQ1LXpQTC1DVG50ZUVOOFV1VldBSEZvN2toemJuR3hfQXVfTXBKLVhzWDZMQ25kc1JQM1VnYTRFOTVYSmRFQWJGYWItdTJkNTdXaXlpYzY2dHg0aWM5WVlBQkFRb0N6WGNSWWdVaXhiY1ZXUGJuZ0dpVWtielpJQlV4dFAyZzB6Q2Z0Y1V6SjVZRU5QS0hsRUN0N19EbUc4RXFpV090M2ZZVjZUbS03cC13bFk1M0xrTnJMeHJUOC10dkctbGpJYnFRVHZfVXlQMU5nNDRUbndmbkFiZWFR?oc=5\", \"content\": \"구글, 데이터베이스용 ‘생성형 AI 툴박스’ 공개 베타 발표 \\\\\"랭체인과 협력\\\\\" - CIO.com\"}]', name='search_keyword', id='c572aaea-e376-40ec-8495-2d6d54407d13', tool_call_id='call_YVnsrX8yFVh6QN0AMsVH31sO'), AIMessage(content=\"최근 뉴스에 따르면 구글이 데이터베이스용 '생성형 AI 툴박스'를 공개 베타로 발표하며 랭체인과 협력하고 있다는 소식이 있습니다. 자세한 내용은 [여기에서 확인하실 수 있습니다](https://news.google.com/rss/articles/CBMiwgJBVV95cUxPM0hHcjNGR0RiT0M2QlplRlcxdjdYZE5WTk9zZ2lGVEIxd05hdktEbmRNNTBnLWJ1NEl3LWRPVTNfdFIxX1VOUURxdHdrWTdHOG9LQ3BrOUtWWUl1T0ZianhSckt1NGNtelAweTQ1LXpQTC1DVG50ZUVOOFV1VldBSEZvN2toemJuR3hfQXVfTXBKLVhzWDZMQ25kc1JQM1VnYTRFOTVYSmRFQWJGYWItdTJkNTdXaXlpYzY2dHg0aWM5WVlBQkFRb0N6WGNSWWdVaXhiY1ZXUGJuZ0dpVWtielpJQlV4dFAyZzB6Q2Z0Y1V6SjVZRU5QS0hsRUN0N19EbUc4RXFpV090M2ZZVjZUbS03cC13bFk1M0xrTnJMeHJUOC10dkctbGpJYnFRVHZfVXlQMU5nNDRUbndmbkFiZWFR?oc=5).\", additional_kwargs={'refusal': None}, response_metadata={'token_usage': {'completion_tokens': 365, 'prompt_tokens': 498, 'total_tokens': 863, 'completion_tokens_details': {'accepted_prediction_tokens': 0, 'audio_tokens': 0, 'reasoning_tokens': 0, 'rejected_prediction_tokens': 0}, 'prompt_tokens_details': {'audio_tokens': 0, 'cached_tokens': 0}}, 'model_name': 'gpt-4o-mini-2024-07-18', 'system_fingerprint': 'fp_7fcd609668', 'finish_reason': 'stop', 'logprobs': None}, id='run-67e19678-eaf2-4a77-b574-dcc324ad42c9-0', usage_metadata={'input_tokens': 498, 'output_tokens': 365, 'total_tokens': 863, 'input_token_details': {'audio': 0, 'cache_read': 0}, 'output_token_details': {'audio': 0, 'reasoning': 0}}), HumanMessage(content='랭체인에 대해서 웹 검색을 해주세요', additional_kwargs={}, response_metadata={}, id='9655b7b8-be32-4b53-b015-f63e5c413508'), AIMessage(content='', additional_kwargs={'tool_calls': [{'id': 'call_KjrYXo9m3XJ3Ws4HsCBvamF3', 'function': {'arguments': '{\"query\":\"랭체인\"}', 'name': 'tavily_web_search'}, 'type': 'function'}], 'refusal': None}, response_metadata={'token_usage': {'completion_tokens': 21, 'prompt_tokens': 880, 'total_tokens': 901, 'completion_tokens_details': {'accepted_prediction_tokens': 0, 'audio_tokens': 0, 'reasoning_tokens': 0, 'rejected_prediction_tokens': 0}, 'prompt_tokens_details': {'audio_tokens': 0, 'cached_tokens': 0}}, 'model_name': 'gpt-4o-mini-2024-07-18', 'system_fingerprint': 'fp_7fcd609668', 'finish_reason': 'tool_calls', 'logprobs': None}, id='run-f973481f-8837-4ac4-82c1-ef60022a9d43-0', tool_calls=[{'name': 'tavily_web_search', 'args': {'query': '랭체인'}, 'id': 'call_KjrYXo9m3XJ3Ws4HsCBvamF3', 'type': 'tool_call'}], usage_metadata={'input_tokens': 880, 'output_tokens': 21, 'total_tokens': 901, 'input_token_details': {'audio': 0, 'cache_read': 0}, 'output_token_details': {'audio': 0, 'reasoning': 0}}), ToolMessage(content='[{\"title\": \"랭체인 - 위키백과, 우리 모두의 백과사전\", \"url\": \"https://ko.wikipedia.org/wiki/랭체인\", \"content\": \"개인 도구 랭체인 8개 언어 도구 위키백과, 우리 모두의 백과사전. 랭체인 개발자 해리슨 체이스(Harrison Chase) 저장소 github.com/langchain-ai/langchain 종류  대형 언어 모델 애플리케이션 개발을 위한 소프트웨어 프레임워크 랭체인(LangChain)은 LLM(대형 언어 모델)을 사용하여 애플리케이션 생성을 단순화하도록 설계된 프레임워크이다. 렝체인은 머신러닝 스타트업인 로버스트 인텔리전스(Robust Intelligence)에서 근무하던 시절 해리슨 체이스(Harrison Chase)가 오픈 소스 프로젝트로 2022년 10월에 출시했다. 2023년 4월 랭체인이 법인화되었고 새로운 스타트업은 벤치마크로부터 1,000만 달러의 초기 투자를 발표한 지 일주일 만에 벤처 회사 세쿼이아 캐피털로부터 최소 2억 달러의 가치로 2,000만 달러 이상의 자금을 조달했다. 2023년 10월 랭체인은 LCEL(LangChain Expression Language) 프로토타입에서 프로덕션 지원 애플리케이션으로의 전환을 촉진하도록 설계된 배포 도구인 랭서브(LangServe)를 출시했다. 오픈AI 언어 모델  오픈AI 코덱스GPT GPT-2GPT-3GPT-4 AI 던전Auto-GPT딥 러닝랭체인마이크로소프트 365 코파일럿마이크로소프트 빙 분류: 인공지능소프트웨어 프레임워크2022년 소프트웨어대형 언어 모델 이 문서는 2024년 10월 11일 (금) 09:13에 마지막으로 편집되었습니다. 위키백과 소개 개발자\", \"score\": 0.8482825, \"raw_content\": \"본문으로 이동\\\\n주 메뉴\\\\n검색\\\\n기부\\\\n계정 만들기\\\\n로그인\\\\n개인 도구\\\\n목차 토글\\\\n랭체인\\\\n8개 언어\\\\n문서\\\\n토론\\\\n읽기\\\\n편집\\\\n역사 보기\\\\n도구\\\\n위키백과, 우리 모두의 백과사전.\\\\n랭체인\\\\n개발자 해리슨 체이스(Harrison Chase)\\\\n발표일 2022년 10월\\\\n안정화 버전\\\\n0.1.16[1] / 2024년 4월 11일(7개월 전)\\\\n저장소 github.com/langchain-ai/langchain\\\\n프로그래밍 언어    파이썬 및 자바스크립트\\\\n종류  대형 언어 모델 애플리케이션 개발을 위한 소프트웨어 프레임워크\\\\n라이선스    MIT 라이선스\\\\n웹사이트    LangChain.com\\\\n랭체인(LangChain)은 LLM(대형 언어 모델)을 사용하여 애플리케이션 생성을 단순화하도록 설계된 프레임워크이다. 언어 모델 통합 프레임워크로서 랭체인의 사용 사례는 문서 분석 및 요약, 챗봇, 코드 분석을 포함하여 일반적인 언어 모델의 사용 사례와 크게 겹친다.\\\\n역사[편집]\\\\n렝체인은 머신러닝 스타트업인 로버스트 인텔리전스(Robust Intelligence)에서 근무하던 시절 해리슨 체이스(Harrison Chase)가 오픈 소스 프로젝트로 2022년 10월에 출시했다. 이 프로젝트는 깃허브의 수백 명의 기여자의 개선 사항, 트위터의 최신 토론, 프로젝트 디스코드 (소프트웨어) 서버의 활발한 활동, 많은 유튜브 튜토리얼, 샌프란시스코와 런던의 모임을 통해 빠르게 인기를 얻었다. 2023년 4월 랭체인이 법인화되었고 새로운 스타트업은 벤치마크로부터 1,000만 달러의 초기 투자를 발표한 지 일주일 만에 벤처 회사 세쿼이아 캐피털로부터 최소 2억 달러의 가치로 2,000만 달러 이상의 자금을 조달했다.\\\\n2023년 10월 랭체인은 LCEL(LangChain Expression Language) 프로토타입에서 프로덕션 지원 애플리케이션으로의 전환을 촉진하도록 설계된 배포 도구인 랭서브(LangServe)를 출시했다.\\\\n각주[편집]\\\\n↑ “Release 0.1.16”. 2024년 4월 11일. 2024년 4월 23일에 확인함.\\\\n외부 링크[편집]\\\\nOfficial website\\\\nDiscord server support hub\\\\nvte\\\\n오픈AI\\\\n제품\\\\n챗GPTDALL-E깃허브 코파일럿오픈AI 파이브소라\\\\n언어 모델 \\\\n오픈AI 코덱스GPT GPT-2GPT-3GPT-4\\\\n인물\\\\nCEO \\\\n샘 올트먼미라 무라티\\\\n이사회 \\\\n현재\\\\n로런스 서머스\\\\n이전\\\\n그렉 브로크만 (2017–2023)리드 호프만 (2019–2023)일론 머스크 (2015–2018)일리야 수츠케버 (2017–2023)\\\\n관련 항목 \\\\nAI 던전Auto-GPT딥 러닝랭체인마이크로소프트 365 코파일럿마이크로소프트 빙\\\\n분류 공용\\\\n분류: 인공지능소프트웨어 프레임워크2022년 소프트웨어대형 언어 모델\\\\n이 문서는 2024년 10월 11일 (금) 09:13에 마지막으로 편집되었습니다.\\\\n모든 문서는 크리에이티브 커먼즈 저작자표시-동일조건변경허락 4.0에 따라 사용할 수 있으며, 추가적인 조건이 적용될 수 있습니다. 자세한 내용은 이용 약관을 참고하십시오.\\\\nWikipedia®는 미국 및 다른 국가에 등록되어 있는 Wikimedia Foundation, Inc. 소유의 등록 상표입니다.\\\\n개인정보처리방침\\\\n위키백과 소개\\\\n면책 조항\\\\n행동 강령\\\\n개발자\\\\n통계\\\\n쿠키 정책\\\\n모바일 보기\"}]', name='tavily_web_search', id='39095f68-eb85-422e-9be3-41f183ecfee4', tool_call_id='call_KjrYXo9m3XJ3Ws4HsCBvamF3'), AIMessage(content='랭체인(LangChain)은 대형 언어 모델(LLM)을 사용하여 애플리케이션 생성을 단순화하도록 설계된 소프트웨어 프레임워크입니다. 이 프레임워크는 해리슨 체이스(Harrison Chase)에 의해 2022년 10월에 오픈 소스 프로젝트로 출시되었습니다. 랭체인은 문서 분석, 요약, 챗봇, 코드 분석 등 다양한 언어 모델의 사용 사례를 지원합니다.\\n\\n2023년 4월에는 법인화되었고, 이후 벤처 회사 세쿼이아 캐피털로부터 2,000만 달러 이상의 자금을 조달했습니다. 최근에는 LCEL(LangChain Expression Language) 프로토타입에서 프로덕션 지원 애플리케이션으로의 전환을 촉진하기 위한 배포 도구인 랭서브(LangServe)를 출시했습니다.\\n\\n자세한 내용은 [위키백과에서 확인하실 수 있습니다](https://ko.wikipedia.org/wiki/랭체인).', additional_kwargs={'refusal': None}, response_metadata={'token_usage': {'completion_tokens': 229, 'prompt_tokens': 2396, 'total_tokens': 2625, 'completion_tokens_details': {'accepted_prediction_tokens': 0, 'audio_tokens': 0, 'reasoning_tokens': 0, 'rejected_prediction_tokens': 0}, 'prompt_tokens_details': {'audio_tokens': 0, 'cached_tokens': 0}}, 'model_name': 'gpt-4o-mini-2024-07-18', 'system_fingerprint': 'fp_7fcd609668', 'finish_reason': 'stop', 'logprobs': None}, id='run-9972bb20-b9e7-4757-959b-3b0417812c7a-0', usage_metadata={'input_tokens': 2396, 'output_tokens': 229, 'total_tokens': 2625, 'input_token_details': {'audio': 0, 'cache_read': 0}, 'output_token_details': {'audio': 0, 'reasoning': 0}}), HumanMessage(content='`소프트웨어놀이터`에서 코딩강의를 하고 있는 이인환입니다.', additional_kwargs={}, response_metadata={}, id='7a9db36a-d774-4f43-93f7-0c13043f2aef'), AIMessage(content='안녕하세요, 이인환님! 소프트웨어놀이터에서 코딩 강의를 하고 계시군요. 어떤 주제나 언어에 대해 강의를 진행하고 계신가요? 도움이 필요하시거나 궁금한 점이 있다면 말씀해 주세요!', additional_kwargs={'refusal': None}, response_metadata={'token_usage': {'completion_tokens': 58, 'prompt_tokens': 2650, 'total_tokens': 2708, 'completion_tokens_details': {'accepted_prediction_tokens': 0, 'audio_tokens': 0, 'reasoning_tokens': 0, 'rejected_prediction_tokens': 0}, 'prompt_tokens_details': {'audio_tokens': 0, 'cached_tokens': 2560}}, 'model_name': 'gpt-4o-mini-2024-07-18', 'system_fingerprint': 'fp_7fcd609668', 'finish_reason': 'stop', 'logprobs': None}, id='run-2c33f841-9f4c-440c-ad74-c35fe1ebd839-0', usage_metadata={'input_tokens': 2650, 'output_tokens': 58, 'total_tokens': 2708, 'input_token_details': {'audio': 0, 'cache_read': 2560}, 'output_token_details': {'audio': 0, 'reasoning': 0}}), HumanMessage(content='랭체인에 대해서 뉴스 검색을 해주세요', additional_kwargs={}, response_metadata={}, id='2ebb2334-c65a-4f1f-8efe-78b808b3dcf3')]\n",
      "\n",
      "[2] chatbot answer: \n",
      " \n",
      "[3] answer.additional_kwargs: \n",
      " {'tool_calls': [{'id': 'call_a6g1XaLYndsmvUqtGd8xn67d', 'function': {'arguments': '{\"query\":\"랭체인\"}', 'name': 'search_keyword'}, 'type': 'function'}], 'refusal': None}\n",
      "=================================================================================\n",
      "[event] 실행 결과\n",
      "=================================================================================\n",
      "[value]: \n",
      "content='' additional_kwargs={'tool_calls': [{'id': 'call_a6g1XaLYndsmvUqtGd8xn67d', 'function': {'arguments': '{\"query\":\"랭체인\"}', 'name': 'search_keyword'}, 'type': 'function'}], 'refusal': None} response_metadata={'token_usage': {'completion_tokens': 18, 'prompt_tokens': 2725, 'total_tokens': 2743, 'completion_tokens_details': {'accepted_prediction_tokens': 0, 'audio_tokens': 0, 'reasoning_tokens': 0, 'rejected_prediction_tokens': 0}, 'prompt_tokens_details': {'audio_tokens': 0, 'cached_tokens': 2560}}, 'model_name': 'gpt-4o-mini-2024-07-18', 'system_fingerprint': 'fp_7fcd609668', 'finish_reason': 'tool_calls', 'logprobs': None} id='run-3b265815-5ced-4ebf-95b4-d317426d9e4d-0' tool_calls=[{'name': 'search_keyword', 'args': {'query': '랭체인'}, 'id': 'call_a6g1XaLYndsmvUqtGd8xn67d', 'type': 'tool_call'}] usage_metadata={'input_tokens': 2725, 'output_tokens': 18, 'total_tokens': 2743, 'input_token_details': {'audio': 0, 'cache_read': 2560}, 'output_token_details': {'audio': 0, 'reasoning': 0}}\n",
      "=================================================================================\n",
      "[event] 실행 결과\n",
      "=================================================================================\n",
      "[value]: \n",
      "content='[{\"url\": \"https://news.google.com/rss/articles/CBMiwgJBVV95cUxPM0hHcjNGR0RiT0M2QlplRlcxdjdYZE5WTk9zZ2lGVEIxd05hdktEbmRNNTBnLWJ1NEl3LWRPVTNfdFIxX1VOUURxdHdrWTdHOG9LQ3BrOUtWWUl1T0ZianhSckt1NGNtelAweTQ1LXpQTC1DVG50ZUVOOFV1VldBSEZvN2toemJuR3hfQXVfTXBKLVhzWDZMQ25kc1JQM1VnYTRFOTVYSmRFQWJGYWItdTJkNTdXaXlpYzY2dHg0aWM5WVlBQkFRb0N6WGNSWWdVaXhiY1ZXUGJuZ0dpVWtielpJQlV4dFAyZzB6Q2Z0Y1V6SjVZRU5QS0hsRUN0N19EbUc4RXFpV090M2ZZVjZUbS03cC13bFk1M0xrTnJMeHJUOC10dkctbGpJYnFRVHZfVXlQMU5nNDRUbndmbkFiZWFR?oc=5\", \"content\": \"구글, 데이터베이스용 ‘생성형 AI 툴박스’ 공개 베타 발표 \\\\\"랭체인과 협력\\\\\" - CIO.com\"}]' name='search_keyword' id='1705caf8-6af8-44a7-b6cb-c65bdaf7780f' tool_call_id='call_a6g1XaLYndsmvUqtGd8xn67d'\n",
      "=================================================================================\n",
      "=================================================================================\n",
      "chatbot() 실행\n",
      "\n",
      "[1] state[messages]: \n",
      "[HumanMessage(content='랭체인에 대해서 뉴스 검색을 해주세요', additional_kwargs={}, response_metadata={}, id='c35fc09d-f8ce-47bc-af48-d1de505bbed1'), AIMessage(content='', additional_kwargs={'tool_calls': [{'id': 'call_YVnsrX8yFVh6QN0AMsVH31sO', 'function': {'arguments': '{\"query\":\"랭체인\"}', 'name': 'search_keyword'}, 'type': 'function'}], 'refusal': None}, response_metadata={'token_usage': {'completion_tokens': 18, 'prompt_tokens': 122, 'total_tokens': 140, 'completion_tokens_details': {'accepted_prediction_tokens': 0, 'audio_tokens': 0, 'reasoning_tokens': 0, 'rejected_prediction_tokens': 0}, 'prompt_tokens_details': {'audio_tokens': 0, 'cached_tokens': 0}}, 'model_name': 'gpt-4o-mini-2024-07-18', 'system_fingerprint': 'fp_7fcd609668', 'finish_reason': 'tool_calls', 'logprobs': None}, id='run-2a2225e1-b805-4b20-95ca-f12ca8bb7ee3-0', tool_calls=[{'name': 'search_keyword', 'args': {'query': '랭체인'}, 'id': 'call_YVnsrX8yFVh6QN0AMsVH31sO', 'type': 'tool_call'}], usage_metadata={'input_tokens': 122, 'output_tokens': 18, 'total_tokens': 140, 'input_token_details': {'audio': 0, 'cache_read': 0}, 'output_token_details': {'audio': 0, 'reasoning': 0}}), ToolMessage(content='[{\"url\": \"https://news.google.com/rss/articles/CBMiwgJBVV95cUxPM0hHcjNGR0RiT0M2QlplRlcxdjdYZE5WTk9zZ2lGVEIxd05hdktEbmRNNTBnLWJ1NEl3LWRPVTNfdFIxX1VOUURxdHdrWTdHOG9LQ3BrOUtWWUl1T0ZianhSckt1NGNtelAweTQ1LXpQTC1DVG50ZUVOOFV1VldBSEZvN2toemJuR3hfQXVfTXBKLVhzWDZMQ25kc1JQM1VnYTRFOTVYSmRFQWJGYWItdTJkNTdXaXlpYzY2dHg0aWM5WVlBQkFRb0N6WGNSWWdVaXhiY1ZXUGJuZ0dpVWtielpJQlV4dFAyZzB6Q2Z0Y1V6SjVZRU5QS0hsRUN0N19EbUc4RXFpV090M2ZZVjZUbS03cC13bFk1M0xrTnJMeHJUOC10dkctbGpJYnFRVHZfVXlQMU5nNDRUbndmbkFiZWFR?oc=5\", \"content\": \"구글, 데이터베이스용 ‘생성형 AI 툴박스’ 공개 베타 발표 \\\\\"랭체인과 협력\\\\\" - CIO.com\"}]', name='search_keyword', id='c572aaea-e376-40ec-8495-2d6d54407d13', tool_call_id='call_YVnsrX8yFVh6QN0AMsVH31sO'), AIMessage(content=\"최근 뉴스에 따르면 구글이 데이터베이스용 '생성형 AI 툴박스'를 공개 베타로 발표하며 랭체인과 협력하고 있다는 소식이 있습니다. 자세한 내용은 [여기에서 확인하실 수 있습니다](https://news.google.com/rss/articles/CBMiwgJBVV95cUxPM0hHcjNGR0RiT0M2QlplRlcxdjdYZE5WTk9zZ2lGVEIxd05hdktEbmRNNTBnLWJ1NEl3LWRPVTNfdFIxX1VOUURxdHdrWTdHOG9LQ3BrOUtWWUl1T0ZianhSckt1NGNtelAweTQ1LXpQTC1DVG50ZUVOOFV1VldBSEZvN2toemJuR3hfQXVfTXBKLVhzWDZMQ25kc1JQM1VnYTRFOTVYSmRFQWJGYWItdTJkNTdXaXlpYzY2dHg0aWM5WVlBQkFRb0N6WGNSWWdVaXhiY1ZXUGJuZ0dpVWtielpJQlV4dFAyZzB6Q2Z0Y1V6SjVZRU5QS0hsRUN0N19EbUc4RXFpV090M2ZZVjZUbS03cC13bFk1M0xrTnJMeHJUOC10dkctbGpJYnFRVHZfVXlQMU5nNDRUbndmbkFiZWFR?oc=5).\", additional_kwargs={'refusal': None}, response_metadata={'token_usage': {'completion_tokens': 365, 'prompt_tokens': 498, 'total_tokens': 863, 'completion_tokens_details': {'accepted_prediction_tokens': 0, 'audio_tokens': 0, 'reasoning_tokens': 0, 'rejected_prediction_tokens': 0}, 'prompt_tokens_details': {'audio_tokens': 0, 'cached_tokens': 0}}, 'model_name': 'gpt-4o-mini-2024-07-18', 'system_fingerprint': 'fp_7fcd609668', 'finish_reason': 'stop', 'logprobs': None}, id='run-67e19678-eaf2-4a77-b574-dcc324ad42c9-0', usage_metadata={'input_tokens': 498, 'output_tokens': 365, 'total_tokens': 863, 'input_token_details': {'audio': 0, 'cache_read': 0}, 'output_token_details': {'audio': 0, 'reasoning': 0}}), HumanMessage(content='랭체인에 대해서 웹 검색을 해주세요', additional_kwargs={}, response_metadata={}, id='9655b7b8-be32-4b53-b015-f63e5c413508'), AIMessage(content='', additional_kwargs={'tool_calls': [{'id': 'call_KjrYXo9m3XJ3Ws4HsCBvamF3', 'function': {'arguments': '{\"query\":\"랭체인\"}', 'name': 'tavily_web_search'}, 'type': 'function'}], 'refusal': None}, response_metadata={'token_usage': {'completion_tokens': 21, 'prompt_tokens': 880, 'total_tokens': 901, 'completion_tokens_details': {'accepted_prediction_tokens': 0, 'audio_tokens': 0, 'reasoning_tokens': 0, 'rejected_prediction_tokens': 0}, 'prompt_tokens_details': {'audio_tokens': 0, 'cached_tokens': 0}}, 'model_name': 'gpt-4o-mini-2024-07-18', 'system_fingerprint': 'fp_7fcd609668', 'finish_reason': 'tool_calls', 'logprobs': None}, id='run-f973481f-8837-4ac4-82c1-ef60022a9d43-0', tool_calls=[{'name': 'tavily_web_search', 'args': {'query': '랭체인'}, 'id': 'call_KjrYXo9m3XJ3Ws4HsCBvamF3', 'type': 'tool_call'}], usage_metadata={'input_tokens': 880, 'output_tokens': 21, 'total_tokens': 901, 'input_token_details': {'audio': 0, 'cache_read': 0}, 'output_token_details': {'audio': 0, 'reasoning': 0}}), ToolMessage(content='[{\"title\": \"랭체인 - 위키백과, 우리 모두의 백과사전\", \"url\": \"https://ko.wikipedia.org/wiki/랭체인\", \"content\": \"개인 도구 랭체인 8개 언어 도구 위키백과, 우리 모두의 백과사전. 랭체인 개발자 해리슨 체이스(Harrison Chase) 저장소 github.com/langchain-ai/langchain 종류  대형 언어 모델 애플리케이션 개발을 위한 소프트웨어 프레임워크 랭체인(LangChain)은 LLM(대형 언어 모델)을 사용하여 애플리케이션 생성을 단순화하도록 설계된 프레임워크이다. 렝체인은 머신러닝 스타트업인 로버스트 인텔리전스(Robust Intelligence)에서 근무하던 시절 해리슨 체이스(Harrison Chase)가 오픈 소스 프로젝트로 2022년 10월에 출시했다. 2023년 4월 랭체인이 법인화되었고 새로운 스타트업은 벤치마크로부터 1,000만 달러의 초기 투자를 발표한 지 일주일 만에 벤처 회사 세쿼이아 캐피털로부터 최소 2억 달러의 가치로 2,000만 달러 이상의 자금을 조달했다. 2023년 10월 랭체인은 LCEL(LangChain Expression Language) 프로토타입에서 프로덕션 지원 애플리케이션으로의 전환을 촉진하도록 설계된 배포 도구인 랭서브(LangServe)를 출시했다. 오픈AI 언어 모델  오픈AI 코덱스GPT GPT-2GPT-3GPT-4 AI 던전Auto-GPT딥 러닝랭체인마이크로소프트 365 코파일럿마이크로소프트 빙 분류: 인공지능소프트웨어 프레임워크2022년 소프트웨어대형 언어 모델 이 문서는 2024년 10월 11일 (금) 09:13에 마지막으로 편집되었습니다. 위키백과 소개 개발자\", \"score\": 0.8482825, \"raw_content\": \"본문으로 이동\\\\n주 메뉴\\\\n검색\\\\n기부\\\\n계정 만들기\\\\n로그인\\\\n개인 도구\\\\n목차 토글\\\\n랭체인\\\\n8개 언어\\\\n문서\\\\n토론\\\\n읽기\\\\n편집\\\\n역사 보기\\\\n도구\\\\n위키백과, 우리 모두의 백과사전.\\\\n랭체인\\\\n개발자 해리슨 체이스(Harrison Chase)\\\\n발표일 2022년 10월\\\\n안정화 버전\\\\n0.1.16[1] / 2024년 4월 11일(7개월 전)\\\\n저장소 github.com/langchain-ai/langchain\\\\n프로그래밍 언어    파이썬 및 자바스크립트\\\\n종류  대형 언어 모델 애플리케이션 개발을 위한 소프트웨어 프레임워크\\\\n라이선스    MIT 라이선스\\\\n웹사이트    LangChain.com\\\\n랭체인(LangChain)은 LLM(대형 언어 모델)을 사용하여 애플리케이션 생성을 단순화하도록 설계된 프레임워크이다. 언어 모델 통합 프레임워크로서 랭체인의 사용 사례는 문서 분석 및 요약, 챗봇, 코드 분석을 포함하여 일반적인 언어 모델의 사용 사례와 크게 겹친다.\\\\n역사[편집]\\\\n렝체인은 머신러닝 스타트업인 로버스트 인텔리전스(Robust Intelligence)에서 근무하던 시절 해리슨 체이스(Harrison Chase)가 오픈 소스 프로젝트로 2022년 10월에 출시했다. 이 프로젝트는 깃허브의 수백 명의 기여자의 개선 사항, 트위터의 최신 토론, 프로젝트 디스코드 (소프트웨어) 서버의 활발한 활동, 많은 유튜브 튜토리얼, 샌프란시스코와 런던의 모임을 통해 빠르게 인기를 얻었다. 2023년 4월 랭체인이 법인화되었고 새로운 스타트업은 벤치마크로부터 1,000만 달러의 초기 투자를 발표한 지 일주일 만에 벤처 회사 세쿼이아 캐피털로부터 최소 2억 달러의 가치로 2,000만 달러 이상의 자금을 조달했다.\\\\n2023년 10월 랭체인은 LCEL(LangChain Expression Language) 프로토타입에서 프로덕션 지원 애플리케이션으로의 전환을 촉진하도록 설계된 배포 도구인 랭서브(LangServe)를 출시했다.\\\\n각주[편집]\\\\n↑ “Release 0.1.16”. 2024년 4월 11일. 2024년 4월 23일에 확인함.\\\\n외부 링크[편집]\\\\nOfficial website\\\\nDiscord server support hub\\\\nvte\\\\n오픈AI\\\\n제품\\\\n챗GPTDALL-E깃허브 코파일럿오픈AI 파이브소라\\\\n언어 모델 \\\\n오픈AI 코덱스GPT GPT-2GPT-3GPT-4\\\\n인물\\\\nCEO \\\\n샘 올트먼미라 무라티\\\\n이사회 \\\\n현재\\\\n로런스 서머스\\\\n이전\\\\n그렉 브로크만 (2017–2023)리드 호프만 (2019–2023)일론 머스크 (2015–2018)일리야 수츠케버 (2017–2023)\\\\n관련 항목 \\\\nAI 던전Auto-GPT딥 러닝랭체인마이크로소프트 365 코파일럿마이크로소프트 빙\\\\n분류 공용\\\\n분류: 인공지능소프트웨어 프레임워크2022년 소프트웨어대형 언어 모델\\\\n이 문서는 2024년 10월 11일 (금) 09:13에 마지막으로 편집되었습니다.\\\\n모든 문서는 크리에이티브 커먼즈 저작자표시-동일조건변경허락 4.0에 따라 사용할 수 있으며, 추가적인 조건이 적용될 수 있습니다. 자세한 내용은 이용 약관을 참고하십시오.\\\\nWikipedia®는 미국 및 다른 국가에 등록되어 있는 Wikimedia Foundation, Inc. 소유의 등록 상표입니다.\\\\n개인정보처리방침\\\\n위키백과 소개\\\\n면책 조항\\\\n행동 강령\\\\n개발자\\\\n통계\\\\n쿠키 정책\\\\n모바일 보기\"}]', name='tavily_web_search', id='39095f68-eb85-422e-9be3-41f183ecfee4', tool_call_id='call_KjrYXo9m3XJ3Ws4HsCBvamF3'), AIMessage(content='랭체인(LangChain)은 대형 언어 모델(LLM)을 사용하여 애플리케이션 생성을 단순화하도록 설계된 소프트웨어 프레임워크입니다. 이 프레임워크는 해리슨 체이스(Harrison Chase)에 의해 2022년 10월에 오픈 소스 프로젝트로 출시되었습니다. 랭체인은 문서 분석, 요약, 챗봇, 코드 분석 등 다양한 언어 모델의 사용 사례를 지원합니다.\\n\\n2023년 4월에는 법인화되었고, 이후 벤처 회사 세쿼이아 캐피털로부터 2,000만 달러 이상의 자금을 조달했습니다. 최근에는 LCEL(LangChain Expression Language) 프로토타입에서 프로덕션 지원 애플리케이션으로의 전환을 촉진하기 위한 배포 도구인 랭서브(LangServe)를 출시했습니다.\\n\\n자세한 내용은 [위키백과에서 확인하실 수 있습니다](https://ko.wikipedia.org/wiki/랭체인).', additional_kwargs={'refusal': None}, response_metadata={'token_usage': {'completion_tokens': 229, 'prompt_tokens': 2396, 'total_tokens': 2625, 'completion_tokens_details': {'accepted_prediction_tokens': 0, 'audio_tokens': 0, 'reasoning_tokens': 0, 'rejected_prediction_tokens': 0}, 'prompt_tokens_details': {'audio_tokens': 0, 'cached_tokens': 0}}, 'model_name': 'gpt-4o-mini-2024-07-18', 'system_fingerprint': 'fp_7fcd609668', 'finish_reason': 'stop', 'logprobs': None}, id='run-9972bb20-b9e7-4757-959b-3b0417812c7a-0', usage_metadata={'input_tokens': 2396, 'output_tokens': 229, 'total_tokens': 2625, 'input_token_details': {'audio': 0, 'cache_read': 0}, 'output_token_details': {'audio': 0, 'reasoning': 0}}), HumanMessage(content='`소프트웨어놀이터`에서 코딩강의를 하고 있는 이인환입니다.', additional_kwargs={}, response_metadata={}, id='7a9db36a-d774-4f43-93f7-0c13043f2aef'), AIMessage(content='안녕하세요, 이인환님! 소프트웨어놀이터에서 코딩 강의를 하고 계시군요. 어떤 주제나 언어에 대해 강의를 진행하고 계신가요? 도움이 필요하시거나 궁금한 점이 있다면 말씀해 주세요!', additional_kwargs={'refusal': None}, response_metadata={'token_usage': {'completion_tokens': 58, 'prompt_tokens': 2650, 'total_tokens': 2708, 'completion_tokens_details': {'accepted_prediction_tokens': 0, 'audio_tokens': 0, 'reasoning_tokens': 0, 'rejected_prediction_tokens': 0}, 'prompt_tokens_details': {'audio_tokens': 0, 'cached_tokens': 2560}}, 'model_name': 'gpt-4o-mini-2024-07-18', 'system_fingerprint': 'fp_7fcd609668', 'finish_reason': 'stop', 'logprobs': None}, id='run-2c33f841-9f4c-440c-ad74-c35fe1ebd839-0', usage_metadata={'input_tokens': 2650, 'output_tokens': 58, 'total_tokens': 2708, 'input_token_details': {'audio': 0, 'cache_read': 2560}, 'output_token_details': {'audio': 0, 'reasoning': 0}}), HumanMessage(content='랭체인에 대해서 뉴스 검색을 해주세요', additional_kwargs={}, response_metadata={}, id='2ebb2334-c65a-4f1f-8efe-78b808b3dcf3'), AIMessage(content='', additional_kwargs={'tool_calls': [{'id': 'call_a6g1XaLYndsmvUqtGd8xn67d', 'function': {'arguments': '{\"query\":\"랭체인\"}', 'name': 'search_keyword'}, 'type': 'function'}], 'refusal': None}, response_metadata={'token_usage': {'completion_tokens': 18, 'prompt_tokens': 2725, 'total_tokens': 2743, 'completion_tokens_details': {'accepted_prediction_tokens': 0, 'audio_tokens': 0, 'reasoning_tokens': 0, 'rejected_prediction_tokens': 0}, 'prompt_tokens_details': {'audio_tokens': 0, 'cached_tokens': 2560}}, 'model_name': 'gpt-4o-mini-2024-07-18', 'system_fingerprint': 'fp_7fcd609668', 'finish_reason': 'tool_calls', 'logprobs': None}, id='run-3b265815-5ced-4ebf-95b4-d317426d9e4d-0', tool_calls=[{'name': 'search_keyword', 'args': {'query': '랭체인'}, 'id': 'call_a6g1XaLYndsmvUqtGd8xn67d', 'type': 'tool_call'}], usage_metadata={'input_tokens': 2725, 'output_tokens': 18, 'total_tokens': 2743, 'input_token_details': {'audio': 0, 'cache_read': 2560}, 'output_token_details': {'audio': 0, 'reasoning': 0}}), ToolMessage(content='[{\"url\": \"https://news.google.com/rss/articles/CBMiwgJBVV95cUxPM0hHcjNGR0RiT0M2QlplRlcxdjdYZE5WTk9zZ2lGVEIxd05hdktEbmRNNTBnLWJ1NEl3LWRPVTNfdFIxX1VOUURxdHdrWTdHOG9LQ3BrOUtWWUl1T0ZianhSckt1NGNtelAweTQ1LXpQTC1DVG50ZUVOOFV1VldBSEZvN2toemJuR3hfQXVfTXBKLVhzWDZMQ25kc1JQM1VnYTRFOTVYSmRFQWJGYWItdTJkNTdXaXlpYzY2dHg0aWM5WVlBQkFRb0N6WGNSWWdVaXhiY1ZXUGJuZ0dpVWtielpJQlV4dFAyZzB6Q2Z0Y1V6SjVZRU5QS0hsRUN0N19EbUc4RXFpV090M2ZZVjZUbS03cC13bFk1M0xrTnJMeHJUOC10dkctbGpJYnFRVHZfVXlQMU5nNDRUbndmbkFiZWFR?oc=5\", \"content\": \"구글, 데이터베이스용 ‘생성형 AI 툴박스’ 공개 베타 발표 \\\\\"랭체인과 협력\\\\\" - CIO.com\"}]', name='search_keyword', id='1705caf8-6af8-44a7-b6cb-c65bdaf7780f', tool_call_id='call_a6g1XaLYndsmvUqtGd8xn67d')]\n",
      "\n",
      "[2] chatbot answer: \n",
      " 최근 뉴스에 따르면 구글이 데이터베이스용 '생성형 AI 툴박스'를 공개 베타로 발표하며 랭체인과 협력하고 있다는 소식이 있습니다. 이와 관련된 자세한 내용은 [여기에서 확인하실 수 있습니다](https://news.google.com/rss/articles/CBMiwgJBVV95cUxPM0hHcjNGR0RiT0M2QlplRlcxdjdYZE5WTk9zZ2lGVEIxd05hdktEbmRNNTBnLWJ1NEl3LWRPVTNfdFIxX1VOUURxdHdrWTdHOG9LQ3BrOUtWWUl1T0ZianhSckt1NGNtelAweTQ1LXpQTC1DVG50ZUVOOFV1VldBSEZvN2toemJuR3hfQXVfTXBKLVhzWDZMQ25kc1JQM1VnYTRFOTVYSmRFQWJGYWItdTJkNTdXaXlpYzY2dHg0aWM5WVlBQkFRb0N6WGNSWWdVaXhiY1ZXUGJuZ0dpVWtielpJQlV4dFAyZzB6Q2Z0Y1V6SjVZRU5QS0hsRUN0N19EbUc4RXFpV090M2ZZVjZUbS03cC13bFk1M0xrTnJMeHJUOC10dkctbGpJYnFRVHZfVXlQMU5nNDRUbndmbkFiZWFR?oc=5).\n",
      "[3] answer.additional_kwargs: \n",
      " {'refusal': None}\n",
      "=================================================================================\n",
      "[event] 실행 결과\n",
      "=================================================================================\n",
      "[value]: \n",
      "content=\"최근 뉴스에 따르면 구글이 데이터베이스용 '생성형 AI 툴박스'를 공개 베타로 발표하며 랭체인과 협력하고 있다는 소식이 있습니다. 이와 관련된 자세한 내용은 [여기에서 확인하실 수 있습니다](https://news.google.com/rss/articles/CBMiwgJBVV95cUxPM0hHcjNGR0RiT0M2QlplRlcxdjdYZE5WTk9zZ2lGVEIxd05hdktEbmRNNTBnLWJ1NEl3LWRPVTNfdFIxX1VOUURxdHdrWTdHOG9LQ3BrOUtWWUl1T0ZianhSckt1NGNtelAweTQ1LXpQTC1DVG50ZUVOOFV1VldBSEZvN2toemJuR3hfQXVfTXBKLVhzWDZMQ25kc1JQM1VnYTRFOTVYSmRFQWJGYWItdTJkNTdXaXlpYzY2dHg0aWM5WVlBQkFRb0N6WGNSWWdVaXhiY1ZXUGJuZ0dpVWtielpJQlV4dFAyZzB6Q2Z0Y1V6SjVZRU5QS0hsRUN0N19EbUc4RXFpV090M2ZZVjZUbS03cC13bFk1M0xrTnJMeHJUOC10dkctbGpJYnFRVHZfVXlQMU5nNDRUbndmbkFiZWFR?oc=5).\" additional_kwargs={'refusal': None} response_metadata={'token_usage': {'completion_tokens': 369, 'prompt_tokens': 3101, 'total_tokens': 3470, 'completion_tokens_details': {'accepted_prediction_tokens': 0, 'audio_tokens': 0, 'reasoning_tokens': 0, 'rejected_prediction_tokens': 0}, 'prompt_tokens_details': {'audio_tokens': 0, 'cached_tokens': 2688}}, 'model_name': 'gpt-4o-mini-2024-07-18', 'system_fingerprint': 'fp_7fcd609668', 'finish_reason': 'stop', 'logprobs': None} id='run-0a1d9265-6387-4d32-ba7d-89831c055823-0' usage_metadata={'input_tokens': 3101, 'output_tokens': 369, 'total_tokens': 3470, 'input_token_details': {'audio': 0, 'cache_read': 2688}, 'output_token_details': {'audio': 0, 'reasoning': 0}}\n",
      "=================================================================================\n"
     ]
    }
   ],
   "source": [
    "question = ('랭체인에 대해서 뉴스 검색을 해주세요')\n",
    "\n",
    "for event in graph.stream({\"messages\": [(\"user\", question)]}, config=config):\n",
    "    \n",
    "    print('[event] 실행 결과')\n",
    "\n",
    "    for value in event.values():\n",
    "        print('=================================================================================')\n",
    "        print('[value]: ')\n",
    "        print(value['messages'][-1])\n",
    "        print('=================================================================================')"
   ]
  },
  {
   "cell_type": "code",
   "execution_count": 63,
   "metadata": {},
   "outputs": [
    {
     "name": "stdout",
     "output_type": "stream",
     "text": [
      "=================================================================================\n",
      "chatbot() 실행\n",
      "\n",
      "[1] state[messages]: \n",
      "[HumanMessage(content='랭체인에 대해서 뉴스 검색을 해주세요', additional_kwargs={}, response_metadata={}, id='8a5e6842-0d4e-4159-9cc5-fbc779d56c85'), AIMessage(content='', additional_kwargs={'tool_calls': [{'id': 'call_CSEHDtSn2NVoEPxuBhL0s1ey', 'function': {'arguments': '{\"query\":\"랭체인\"}', 'name': 'search_keyword'}, 'type': 'function'}], 'refusal': None}, response_metadata={'token_usage': {'completion_tokens': 18, 'prompt_tokens': 122, 'total_tokens': 140, 'completion_tokens_details': {'accepted_prediction_tokens': 0, 'audio_tokens': 0, 'reasoning_tokens': 0, 'rejected_prediction_tokens': 0}, 'prompt_tokens_details': {'audio_tokens': 0, 'cached_tokens': 0}}, 'model_name': 'gpt-4o-mini-2024-07-18', 'system_fingerprint': 'fp_00428b782a', 'finish_reason': 'tool_calls', 'logprobs': None}, id='run-c7fd7552-06f3-4ce1-82fc-161d6951572d-0', tool_calls=[{'name': 'search_keyword', 'args': {'query': '랭체인'}, 'id': 'call_CSEHDtSn2NVoEPxuBhL0s1ey', 'type': 'tool_call'}], usage_metadata={'input_tokens': 122, 'output_tokens': 18, 'total_tokens': 140, 'input_token_details': {'audio': 0, 'cache_read': 0}, 'output_token_details': {'audio': 0, 'reasoning': 0}}), ToolMessage(content='[{\"url\": \"https://news.google.com/rss/articles/CBMiwgJBVV95cUxPM0hHcjNGR0RiT0M2QlplRlcxdjdYZE5WTk9zZ2lGVEIxd05hdktEbmRNNTBnLWJ1NEl3LWRPVTNfdFIxX1VOUURxdHdrWTdHOG9LQ3BrOUtWWUl1T0ZianhSckt1NGNtelAweTQ1LXpQTC1DVG50ZUVOOFV1VldBSEZvN2toemJuR3hfQXVfTXBKLVhzWDZMQ25kc1JQM1VnYTRFOTVYSmRFQWJGYWItdTJkNTdXaXlpYzY2dHg0aWM5WVlBQkFRb0N6WGNSWWdVaXhiY1ZXUGJuZ0dpVWtielpJQlV4dFAyZzB6Q2Z0Y1V6SjVZRU5QS0hsRUN0N19EbUc4RXFpV090M2ZZVjZUbS03cC13bFk1M0xrTnJMeHJUOC10dkctbGpJYnFRVHZfVXlQMU5nNDRUbndmbkFiZWFR?oc=5\", \"content\": \"구글, 데이터베이스용 ‘생성형 AI 툴박스’ 공개 베타 발표 \\\\\"랭체인과 협력\\\\\" - CIO.com\"}]', name='search_keyword', id='e5df8c6e-7714-47fd-b21c-1cca77533b53', tool_call_id='call_CSEHDtSn2NVoEPxuBhL0s1ey'), AIMessage(content=\"최근 뉴스에 따르면 구글이 데이터베이스용 '생성형 AI 툴박스'를 공개 베타로 발표하며 랭체인과 협력하고 있다는 소식이 있습니다. 자세한 내용은 [여기에서 확인할 수 있습니다](https://news.google.com/rss/articles/CBMiwgJBVV95cUxPM0hHcjNGR0RiT0M2QlplRlcxdjdYZE5WTk9zZ2lGVEIxd05hdktEbmRNNTBnLWJ1NEl3LWRPVTNfdFIxX1VOUURxdHdrWTdHOG9LQ3BrOUtWWUl1T0ZianhSckt1NGNtelAweTQ1LXpQTC1DVG50ZUVOOFV1VldBSEZvN2toemJuR3hfQXVfTXBKLVhzWDZMQ25kc1JQM1VnYTRFOTVYSmRFQWJGYWItdTJkNTdXaXlpYzY2dHg0aWM5WVlBQkFRb0N6WGNSWWdVaXhiY1ZXUGJuZ0dpVWtielpJQlV4dFAyZzB6Q2Z0Y1V6SjVZRU5QS0hsRUN0N19EbUc4RXFpV090M2ZZVjZUbS03cC13bFk1M0xrTnJMeHJUOC10dkctbGpJYnFRVHZfVXlQMU5nNDRUbndmbkFiZWFR?oc=5).\", additional_kwargs={'refusal': None}, response_metadata={'token_usage': {'completion_tokens': 364, 'prompt_tokens': 498, 'total_tokens': 862, 'completion_tokens_details': {'accepted_prediction_tokens': 0, 'audio_tokens': 0, 'reasoning_tokens': 0, 'rejected_prediction_tokens': 0}, 'prompt_tokens_details': {'audio_tokens': 0, 'cached_tokens': 0}}, 'model_name': 'gpt-4o-mini-2024-07-18', 'system_fingerprint': 'fp_00428b782a', 'finish_reason': 'stop', 'logprobs': None}, id='run-1e75a570-7364-427e-bb1f-d5f2c0d4760f-0', usage_metadata={'input_tokens': 498, 'output_tokens': 364, 'total_tokens': 862, 'input_token_details': {'audio': 0, 'cache_read': 0}, 'output_token_details': {'audio': 0, 'reasoning': 0}}), HumanMessage(content='랭체인에 대해서 웹 검색을 해주세요', additional_kwargs={}, response_metadata={}, id='fc4e3fbb-e420-4d8f-b1e3-99a2729ec474'), AIMessage(content='', additional_kwargs={'tool_calls': [{'id': 'call_BHHqaPU6ZlquH8hdmzEuk32U', 'function': {'arguments': '{\"query\":\"랭체인\"}', 'name': 'tavily_web_search'}, 'type': 'function'}], 'refusal': None}, response_metadata={'token_usage': {'completion_tokens': 21, 'prompt_tokens': 879, 'total_tokens': 900, 'completion_tokens_details': {'accepted_prediction_tokens': 0, 'audio_tokens': 0, 'reasoning_tokens': 0, 'rejected_prediction_tokens': 0}, 'prompt_tokens_details': {'audio_tokens': 0, 'cached_tokens': 0}}, 'model_name': 'gpt-4o-mini-2024-07-18', 'system_fingerprint': 'fp_00428b782a', 'finish_reason': 'tool_calls', 'logprobs': None}, id='run-b63ac8ba-9bc4-436a-b37e-5dc665604b45-0', tool_calls=[{'name': 'tavily_web_search', 'args': {'query': '랭체인'}, 'id': 'call_BHHqaPU6ZlquH8hdmzEuk32U', 'type': 'tool_call'}], usage_metadata={'input_tokens': 879, 'output_tokens': 21, 'total_tokens': 900, 'input_token_details': {'audio': 0, 'cache_read': 0}, 'output_token_details': {'audio': 0, 'reasoning': 0}}), ToolMessage(content='[{\"title\": \"랭체인 뜻? Llm 기반 6개 구성의 앱 생성 프레임워크\", \"url\": \"https://www.ktpdigitallife.com/랭체인-뜻과-개념-설명/\", \"content\": \"랭체인 뜻과 개념 알기. 랭체인 뜻(LangChain)은 거대언어모델(LLM, Large Language Model)을 기반으로 오픈 소스 형태로 출시한 앱(App) 생성을 위한 프레임워크를 의미합니다. 랭체인(LangChain)은 언어 모델을 기반으로 앱(App) 개발을 보다 편하고 빠르게 할 수 있도록 해주는 앱 생성 프레임워크입니다.\", \"score\": 0.8506799, \"raw_content\": null}]', name='tavily_web_search', id='0e89f285-be2f-4a58-b567-1d925568caf3', tool_call_id='call_BHHqaPU6ZlquH8hdmzEuk32U'), AIMessage(content='랭체인(LangChain)은 거대언어모델(LLM, Large Language Model)을 기반으로 한 오픈 소스 앱 생성 프레임워크입니다. 이 프레임워크는 언어 모델을 활용하여 앱 개발을 보다 편리하고 빠르게 할 수 있도록 지원합니다. 더 자세한 내용은 [여기에서 확인할 수 있습니다](https://www.ktpdigitallife.com/랭체인-뜻과-개념-설명/).', additional_kwargs={'refusal': None}, response_metadata={'token_usage': {'completion_tokens': 105, 'prompt_tokens': 1079, 'total_tokens': 1184, 'completion_tokens_details': {'accepted_prediction_tokens': 0, 'audio_tokens': 0, 'reasoning_tokens': 0, 'rejected_prediction_tokens': 0}, 'prompt_tokens_details': {'audio_tokens': 0, 'cached_tokens': 0}}, 'model_name': 'gpt-4o-mini-2024-07-18', 'system_fingerprint': 'fp_00428b782a', 'finish_reason': 'stop', 'logprobs': None}, id='run-95e73fa3-d169-4dc7-b99c-fce6ba3ca855-0', usage_metadata={'input_tokens': 1079, 'output_tokens': 105, 'total_tokens': 1184, 'input_token_details': {'audio': 0, 'cache_read': 0}, 'output_token_details': {'audio': 0, 'reasoning': 0}}), HumanMessage(content='`소프트웨어놀이터`에서 코딩강의를 하고 있는 이인환입니다.', additional_kwargs={}, response_metadata={}, id='13563431-08ee-4e8b-9a2c-891bd5b98b0e'), AIMessage(content='안녕하세요, 이인환님! 소프트웨어놀이터에서 코딩 강의를 하고 계시다니 멋지네요. 어떤 주제로 강의를 진행하고 계신가요? 도움이 필요하시거나 궁금한 점이 있다면 언제든지 말씀해 주세요!', additional_kwargs={'refusal': None}, response_metadata={'token_usage': {'completion_tokens': 60, 'prompt_tokens': 1209, 'total_tokens': 1269, 'completion_tokens_details': {'accepted_prediction_tokens': 0, 'audio_tokens': 0, 'reasoning_tokens': 0, 'rejected_prediction_tokens': 0}, 'prompt_tokens_details': {'audio_tokens': 0, 'cached_tokens': 1024}}, 'model_name': 'gpt-4o-mini-2024-07-18', 'system_fingerprint': 'fp_00428b782a', 'finish_reason': 'stop', 'logprobs': None}, id='run-4db41234-5722-4911-bf9b-9f98adc4fdba-0', usage_metadata={'input_tokens': 1209, 'output_tokens': 60, 'total_tokens': 1269, 'input_token_details': {'audio': 0, 'cache_read': 1024}, 'output_token_details': {'audio': 0, 'reasoning': 0}}), HumanMessage(content='랭체인에 대해서 뉴스 검색을 해주세요', additional_kwargs={}, response_metadata={}, id='4e35a111-ddf4-4a73-bef4-4b5ebad36869'), AIMessage(content='', additional_kwargs={'tool_calls': [{'id': 'call_gnB4JEGVIXfrzsgpdSioMejD', 'function': {'arguments': '{\"query\":\"랭체인\"}', 'name': 'search_keyword'}, 'type': 'function'}], 'refusal': None}, response_metadata={'token_usage': {'completion_tokens': 18, 'prompt_tokens': 1286, 'total_tokens': 1304, 'completion_tokens_details': {'accepted_prediction_tokens': 0, 'audio_tokens': 0, 'reasoning_tokens': 0, 'rejected_prediction_tokens': 0}, 'prompt_tokens_details': {'audio_tokens': 0, 'cached_tokens': 1152}}, 'model_name': 'gpt-4o-mini-2024-07-18', 'system_fingerprint': 'fp_00428b782a', 'finish_reason': 'tool_calls', 'logprobs': None}, id='run-53dc0994-f139-456e-8ddb-1a670aec875f-0', tool_calls=[{'name': 'search_keyword', 'args': {'query': '랭체인'}, 'id': 'call_gnB4JEGVIXfrzsgpdSioMejD', 'type': 'tool_call'}], usage_metadata={'input_tokens': 1286, 'output_tokens': 18, 'total_tokens': 1304, 'input_token_details': {'audio': 0, 'cache_read': 1152}, 'output_token_details': {'audio': 0, 'reasoning': 0}}), ToolMessage(content='[{\"url\": \"https://news.google.com/rss/articles/CBMiwgJBVV95cUxPM0hHcjNGR0RiT0M2QlplRlcxdjdYZE5WTk9zZ2lGVEIxd05hdktEbmRNNTBnLWJ1NEl3LWRPVTNfdFIxX1VOUURxdHdrWTdHOG9LQ3BrOUtWWUl1T0ZianhSckt1NGNtelAweTQ1LXpQTC1DVG50ZUVOOFV1VldBSEZvN2toemJuR3hfQXVfTXBKLVhzWDZMQ25kc1JQM1VnYTRFOTVYSmRFQWJGYWItdTJkNTdXaXlpYzY2dHg0aWM5WVlBQkFRb0N6WGNSWWdVaXhiY1ZXUGJuZ0dpVWtielpJQlV4dFAyZzB6Q2Z0Y1V6SjVZRU5QS0hsRUN0N19EbUc4RXFpV090M2ZZVjZUbS03cC13bFk1M0xrTnJMeHJUOC10dkctbGpJYnFRVHZfVXlQMU5nNDRUbndmbkFiZWFR?oc=5\", \"content\": \"구글, 데이터베이스용 ‘생성형 AI 툴박스’ 공개 베타 발표 \\\\\"랭체인과 협력\\\\\" - CIO.com\"}]', name='search_keyword', id='3fa09dc5-a666-4b97-89a5-40ba1233c71a', tool_call_id='call_gnB4JEGVIXfrzsgpdSioMejD'), AIMessage(content=\"최근 뉴스에 따르면 구글이 데이터베이스용 '생성형 AI 툴박스'를 공개 베타로 발표하며 랭체인과 협력하고 있다는 소식이 있습니다. 자세한 내용은 [여기에서 확인할 수 있습니다](https://news.google.com/rss/articles/CBMiwgJBVV95cUxPM0hHcjNGR0RiT0M2QlplRlcxdjdYZE5WTk9zZ2lGVEIxd05hdktEbmRNNTBnLWJ1NEl3LWRPVTNfdFIxX1VOUURxdHdrWTdHOG9LQ3BrOUtWWUl1T0ZianhSckt1NGNtelAweTQ1LXpQTC1DVG50ZUVOOFV1VldBSEZvN2toemJuR3hfQXVfTXBKLVhzWDZMQ25kc1JQM1VnYTRFOTVYSmRFQWJGYWItdTJkNTdXaXlpYzY2dHg0aWM5WVlBQkFRb0N6WGNSWWdVaXhiY1ZXUGJuZ0dpVWtielpJQlV4dFAyZzB6Q2Z0Y1V6SjVZRU5QS0hsRUN0N19EbUc4RXFpV090M2ZZVjZUbS03cC13bFk1M0xrTnJMeHJUOC10dkctbGpJYnFRVHZfVXlQMU5nNDRUbndmbkFiZWFR?oc=5).\", additional_kwargs={'refusal': None}, response_metadata={'token_usage': {'completion_tokens': 364, 'prompt_tokens': 1662, 'total_tokens': 2026, 'completion_tokens_details': {'accepted_prediction_tokens': 0, 'audio_tokens': 0, 'reasoning_tokens': 0, 'rejected_prediction_tokens': 0}, 'prompt_tokens_details': {'audio_tokens': 0, 'cached_tokens': 1152}}, 'model_name': 'gpt-4o-mini-2024-07-18', 'system_fingerprint': 'fp_00428b782a', 'finish_reason': 'stop', 'logprobs': None}, id='run-6bd0c085-619d-4120-b201-5670eede17b5-0', usage_metadata={'input_tokens': 1662, 'output_tokens': 364, 'total_tokens': 2026, 'input_token_details': {'audio': 0, 'cache_read': 1152}, 'output_token_details': {'audio': 0, 'reasoning': 0}}), HumanMessage(content='랭체인에 대해서 웹 검색을 해주세요', additional_kwargs={}, response_metadata={}, id='db09e1ec-010f-4879-8037-6707e68f1734')]\n",
      "\n",
      "[2] chatbot answer: \n",
      " \n",
      "[3] answer.additional_kwargs: \n",
      " {'tool_calls': [{'id': 'call_vVX2yLhEe93aIdC2WG4qVeAQ', 'function': {'arguments': '{\"query\":\"랭체인\"}', 'name': 'tavily_web_search'}, 'type': 'function'}], 'refusal': None}\n",
      "=================================================================================\n",
      "[event] 실행 결과\n",
      "=================================================================================\n",
      "[value]: \n",
      "content='' additional_kwargs={'tool_calls': [{'id': 'call_vVX2yLhEe93aIdC2WG4qVeAQ', 'function': {'arguments': '{\"query\":\"랭체인\"}', 'name': 'tavily_web_search'}, 'type': 'function'}], 'refusal': None} response_metadata={'token_usage': {'completion_tokens': 21, 'prompt_tokens': 2043, 'total_tokens': 2064, 'completion_tokens_details': {'accepted_prediction_tokens': 0, 'audio_tokens': 0, 'reasoning_tokens': 0, 'rejected_prediction_tokens': 0}, 'prompt_tokens_details': {'audio_tokens': 0, 'cached_tokens': 1920}}, 'model_name': 'gpt-4o-mini-2024-07-18', 'system_fingerprint': 'fp_00428b782a', 'finish_reason': 'tool_calls', 'logprobs': None} id='run-b41113c8-712f-48a0-96be-d582b7f6ecbf-0' tool_calls=[{'name': 'tavily_web_search', 'args': {'query': '랭체인'}, 'id': 'call_vVX2yLhEe93aIdC2WG4qVeAQ', 'type': 'tool_call'}] usage_metadata={'input_tokens': 2043, 'output_tokens': 21, 'total_tokens': 2064, 'input_token_details': {'audio': 0, 'cache_read': 1920}, 'output_token_details': {'audio': 0, 'reasoning': 0}}\n",
      "=================================================================================\n",
      "[event] 실행 결과\n",
      "=================================================================================\n",
      "[value]: \n",
      "content='[{\"title\": \"랭체인 뜻? Llm 기반 6개 구성의 앱 생성 프레임워크\", \"url\": \"https://www.ktpdigitallife.com/랭체인-뜻과-개념-설명/\", \"content\": \"랭체인 뜻과 개념 알기. 랭체인 뜻(LangChain)은 거대언어모델(LLM, Large Language Model)을 기반으로 오픈 소스 형태로 출시한 앱(App) 생성을 위한 프레임워크를 의미합니다. 랭체인(LangChain)은 언어 모델을 기반으로 앱(App) 개발을 보다 편하고 빠르게 할 수 있도록 해주는 앱 생성 프레임워크입니다.\", \"score\": 0.8506799, \"raw_content\": null}]' name='tavily_web_search' id='0d848040-ade2-4225-baab-3ce0267d670d' tool_call_id='call_vVX2yLhEe93aIdC2WG4qVeAQ'\n",
      "=================================================================================\n",
      "=================================================================================\n",
      "chatbot() 실행\n",
      "\n",
      "[1] state[messages]: \n",
      "[HumanMessage(content='랭체인에 대해서 뉴스 검색을 해주세요', additional_kwargs={}, response_metadata={}, id='8a5e6842-0d4e-4159-9cc5-fbc779d56c85'), AIMessage(content='', additional_kwargs={'tool_calls': [{'id': 'call_CSEHDtSn2NVoEPxuBhL0s1ey', 'function': {'arguments': '{\"query\":\"랭체인\"}', 'name': 'search_keyword'}, 'type': 'function'}], 'refusal': None}, response_metadata={'token_usage': {'completion_tokens': 18, 'prompt_tokens': 122, 'total_tokens': 140, 'completion_tokens_details': {'accepted_prediction_tokens': 0, 'audio_tokens': 0, 'reasoning_tokens': 0, 'rejected_prediction_tokens': 0}, 'prompt_tokens_details': {'audio_tokens': 0, 'cached_tokens': 0}}, 'model_name': 'gpt-4o-mini-2024-07-18', 'system_fingerprint': 'fp_00428b782a', 'finish_reason': 'tool_calls', 'logprobs': None}, id='run-c7fd7552-06f3-4ce1-82fc-161d6951572d-0', tool_calls=[{'name': 'search_keyword', 'args': {'query': '랭체인'}, 'id': 'call_CSEHDtSn2NVoEPxuBhL0s1ey', 'type': 'tool_call'}], usage_metadata={'input_tokens': 122, 'output_tokens': 18, 'total_tokens': 140, 'input_token_details': {'audio': 0, 'cache_read': 0}, 'output_token_details': {'audio': 0, 'reasoning': 0}}), ToolMessage(content='[{\"url\": \"https://news.google.com/rss/articles/CBMiwgJBVV95cUxPM0hHcjNGR0RiT0M2QlplRlcxdjdYZE5WTk9zZ2lGVEIxd05hdktEbmRNNTBnLWJ1NEl3LWRPVTNfdFIxX1VOUURxdHdrWTdHOG9LQ3BrOUtWWUl1T0ZianhSckt1NGNtelAweTQ1LXpQTC1DVG50ZUVOOFV1VldBSEZvN2toemJuR3hfQXVfTXBKLVhzWDZMQ25kc1JQM1VnYTRFOTVYSmRFQWJGYWItdTJkNTdXaXlpYzY2dHg0aWM5WVlBQkFRb0N6WGNSWWdVaXhiY1ZXUGJuZ0dpVWtielpJQlV4dFAyZzB6Q2Z0Y1V6SjVZRU5QS0hsRUN0N19EbUc4RXFpV090M2ZZVjZUbS03cC13bFk1M0xrTnJMeHJUOC10dkctbGpJYnFRVHZfVXlQMU5nNDRUbndmbkFiZWFR?oc=5\", \"content\": \"구글, 데이터베이스용 ‘생성형 AI 툴박스’ 공개 베타 발표 \\\\\"랭체인과 협력\\\\\" - CIO.com\"}]', name='search_keyword', id='e5df8c6e-7714-47fd-b21c-1cca77533b53', tool_call_id='call_CSEHDtSn2NVoEPxuBhL0s1ey'), AIMessage(content=\"최근 뉴스에 따르면 구글이 데이터베이스용 '생성형 AI 툴박스'를 공개 베타로 발표하며 랭체인과 협력하고 있다는 소식이 있습니다. 자세한 내용은 [여기에서 확인할 수 있습니다](https://news.google.com/rss/articles/CBMiwgJBVV95cUxPM0hHcjNGR0RiT0M2QlplRlcxdjdYZE5WTk9zZ2lGVEIxd05hdktEbmRNNTBnLWJ1NEl3LWRPVTNfdFIxX1VOUURxdHdrWTdHOG9LQ3BrOUtWWUl1T0ZianhSckt1NGNtelAweTQ1LXpQTC1DVG50ZUVOOFV1VldBSEZvN2toemJuR3hfQXVfTXBKLVhzWDZMQ25kc1JQM1VnYTRFOTVYSmRFQWJGYWItdTJkNTdXaXlpYzY2dHg0aWM5WVlBQkFRb0N6WGNSWWdVaXhiY1ZXUGJuZ0dpVWtielpJQlV4dFAyZzB6Q2Z0Y1V6SjVZRU5QS0hsRUN0N19EbUc4RXFpV090M2ZZVjZUbS03cC13bFk1M0xrTnJMeHJUOC10dkctbGpJYnFRVHZfVXlQMU5nNDRUbndmbkFiZWFR?oc=5).\", additional_kwargs={'refusal': None}, response_metadata={'token_usage': {'completion_tokens': 364, 'prompt_tokens': 498, 'total_tokens': 862, 'completion_tokens_details': {'accepted_prediction_tokens': 0, 'audio_tokens': 0, 'reasoning_tokens': 0, 'rejected_prediction_tokens': 0}, 'prompt_tokens_details': {'audio_tokens': 0, 'cached_tokens': 0}}, 'model_name': 'gpt-4o-mini-2024-07-18', 'system_fingerprint': 'fp_00428b782a', 'finish_reason': 'stop', 'logprobs': None}, id='run-1e75a570-7364-427e-bb1f-d5f2c0d4760f-0', usage_metadata={'input_tokens': 498, 'output_tokens': 364, 'total_tokens': 862, 'input_token_details': {'audio': 0, 'cache_read': 0}, 'output_token_details': {'audio': 0, 'reasoning': 0}}), HumanMessage(content='랭체인에 대해서 웹 검색을 해주세요', additional_kwargs={}, response_metadata={}, id='fc4e3fbb-e420-4d8f-b1e3-99a2729ec474'), AIMessage(content='', additional_kwargs={'tool_calls': [{'id': 'call_BHHqaPU6ZlquH8hdmzEuk32U', 'function': {'arguments': '{\"query\":\"랭체인\"}', 'name': 'tavily_web_search'}, 'type': 'function'}], 'refusal': None}, response_metadata={'token_usage': {'completion_tokens': 21, 'prompt_tokens': 879, 'total_tokens': 900, 'completion_tokens_details': {'accepted_prediction_tokens': 0, 'audio_tokens': 0, 'reasoning_tokens': 0, 'rejected_prediction_tokens': 0}, 'prompt_tokens_details': {'audio_tokens': 0, 'cached_tokens': 0}}, 'model_name': 'gpt-4o-mini-2024-07-18', 'system_fingerprint': 'fp_00428b782a', 'finish_reason': 'tool_calls', 'logprobs': None}, id='run-b63ac8ba-9bc4-436a-b37e-5dc665604b45-0', tool_calls=[{'name': 'tavily_web_search', 'args': {'query': '랭체인'}, 'id': 'call_BHHqaPU6ZlquH8hdmzEuk32U', 'type': 'tool_call'}], usage_metadata={'input_tokens': 879, 'output_tokens': 21, 'total_tokens': 900, 'input_token_details': {'audio': 0, 'cache_read': 0}, 'output_token_details': {'audio': 0, 'reasoning': 0}}), ToolMessage(content='[{\"title\": \"랭체인 뜻? Llm 기반 6개 구성의 앱 생성 프레임워크\", \"url\": \"https://www.ktpdigitallife.com/랭체인-뜻과-개념-설명/\", \"content\": \"랭체인 뜻과 개념 알기. 랭체인 뜻(LangChain)은 거대언어모델(LLM, Large Language Model)을 기반으로 오픈 소스 형태로 출시한 앱(App) 생성을 위한 프레임워크를 의미합니다. 랭체인(LangChain)은 언어 모델을 기반으로 앱(App) 개발을 보다 편하고 빠르게 할 수 있도록 해주는 앱 생성 프레임워크입니다.\", \"score\": 0.8506799, \"raw_content\": null}]', name='tavily_web_search', id='0e89f285-be2f-4a58-b567-1d925568caf3', tool_call_id='call_BHHqaPU6ZlquH8hdmzEuk32U'), AIMessage(content='랭체인(LangChain)은 거대언어모델(LLM, Large Language Model)을 기반으로 한 오픈 소스 앱 생성 프레임워크입니다. 이 프레임워크는 언어 모델을 활용하여 앱 개발을 보다 편리하고 빠르게 할 수 있도록 지원합니다. 더 자세한 내용은 [여기에서 확인할 수 있습니다](https://www.ktpdigitallife.com/랭체인-뜻과-개념-설명/).', additional_kwargs={'refusal': None}, response_metadata={'token_usage': {'completion_tokens': 105, 'prompt_tokens': 1079, 'total_tokens': 1184, 'completion_tokens_details': {'accepted_prediction_tokens': 0, 'audio_tokens': 0, 'reasoning_tokens': 0, 'rejected_prediction_tokens': 0}, 'prompt_tokens_details': {'audio_tokens': 0, 'cached_tokens': 0}}, 'model_name': 'gpt-4o-mini-2024-07-18', 'system_fingerprint': 'fp_00428b782a', 'finish_reason': 'stop', 'logprobs': None}, id='run-95e73fa3-d169-4dc7-b99c-fce6ba3ca855-0', usage_metadata={'input_tokens': 1079, 'output_tokens': 105, 'total_tokens': 1184, 'input_token_details': {'audio': 0, 'cache_read': 0}, 'output_token_details': {'audio': 0, 'reasoning': 0}}), HumanMessage(content='`소프트웨어놀이터`에서 코딩강의를 하고 있는 이인환입니다.', additional_kwargs={}, response_metadata={}, id='13563431-08ee-4e8b-9a2c-891bd5b98b0e'), AIMessage(content='안녕하세요, 이인환님! 소프트웨어놀이터에서 코딩 강의를 하고 계시다니 멋지네요. 어떤 주제로 강의를 진행하고 계신가요? 도움이 필요하시거나 궁금한 점이 있다면 언제든지 말씀해 주세요!', additional_kwargs={'refusal': None}, response_metadata={'token_usage': {'completion_tokens': 60, 'prompt_tokens': 1209, 'total_tokens': 1269, 'completion_tokens_details': {'accepted_prediction_tokens': 0, 'audio_tokens': 0, 'reasoning_tokens': 0, 'rejected_prediction_tokens': 0}, 'prompt_tokens_details': {'audio_tokens': 0, 'cached_tokens': 1024}}, 'model_name': 'gpt-4o-mini-2024-07-18', 'system_fingerprint': 'fp_00428b782a', 'finish_reason': 'stop', 'logprobs': None}, id='run-4db41234-5722-4911-bf9b-9f98adc4fdba-0', usage_metadata={'input_tokens': 1209, 'output_tokens': 60, 'total_tokens': 1269, 'input_token_details': {'audio': 0, 'cache_read': 1024}, 'output_token_details': {'audio': 0, 'reasoning': 0}}), HumanMessage(content='랭체인에 대해서 뉴스 검색을 해주세요', additional_kwargs={}, response_metadata={}, id='4e35a111-ddf4-4a73-bef4-4b5ebad36869'), AIMessage(content='', additional_kwargs={'tool_calls': [{'id': 'call_gnB4JEGVIXfrzsgpdSioMejD', 'function': {'arguments': '{\"query\":\"랭체인\"}', 'name': 'search_keyword'}, 'type': 'function'}], 'refusal': None}, response_metadata={'token_usage': {'completion_tokens': 18, 'prompt_tokens': 1286, 'total_tokens': 1304, 'completion_tokens_details': {'accepted_prediction_tokens': 0, 'audio_tokens': 0, 'reasoning_tokens': 0, 'rejected_prediction_tokens': 0}, 'prompt_tokens_details': {'audio_tokens': 0, 'cached_tokens': 1152}}, 'model_name': 'gpt-4o-mini-2024-07-18', 'system_fingerprint': 'fp_00428b782a', 'finish_reason': 'tool_calls', 'logprobs': None}, id='run-53dc0994-f139-456e-8ddb-1a670aec875f-0', tool_calls=[{'name': 'search_keyword', 'args': {'query': '랭체인'}, 'id': 'call_gnB4JEGVIXfrzsgpdSioMejD', 'type': 'tool_call'}], usage_metadata={'input_tokens': 1286, 'output_tokens': 18, 'total_tokens': 1304, 'input_token_details': {'audio': 0, 'cache_read': 1152}, 'output_token_details': {'audio': 0, 'reasoning': 0}}), ToolMessage(content='[{\"url\": \"https://news.google.com/rss/articles/CBMiwgJBVV95cUxPM0hHcjNGR0RiT0M2QlplRlcxdjdYZE5WTk9zZ2lGVEIxd05hdktEbmRNNTBnLWJ1NEl3LWRPVTNfdFIxX1VOUURxdHdrWTdHOG9LQ3BrOUtWWUl1T0ZianhSckt1NGNtelAweTQ1LXpQTC1DVG50ZUVOOFV1VldBSEZvN2toemJuR3hfQXVfTXBKLVhzWDZMQ25kc1JQM1VnYTRFOTVYSmRFQWJGYWItdTJkNTdXaXlpYzY2dHg0aWM5WVlBQkFRb0N6WGNSWWdVaXhiY1ZXUGJuZ0dpVWtielpJQlV4dFAyZzB6Q2Z0Y1V6SjVZRU5QS0hsRUN0N19EbUc4RXFpV090M2ZZVjZUbS03cC13bFk1M0xrTnJMeHJUOC10dkctbGpJYnFRVHZfVXlQMU5nNDRUbndmbkFiZWFR?oc=5\", \"content\": \"구글, 데이터베이스용 ‘생성형 AI 툴박스’ 공개 베타 발표 \\\\\"랭체인과 협력\\\\\" - CIO.com\"}]', name='search_keyword', id='3fa09dc5-a666-4b97-89a5-40ba1233c71a', tool_call_id='call_gnB4JEGVIXfrzsgpdSioMejD'), AIMessage(content=\"최근 뉴스에 따르면 구글이 데이터베이스용 '생성형 AI 툴박스'를 공개 베타로 발표하며 랭체인과 협력하고 있다는 소식이 있습니다. 자세한 내용은 [여기에서 확인할 수 있습니다](https://news.google.com/rss/articles/CBMiwgJBVV95cUxPM0hHcjNGR0RiT0M2QlplRlcxdjdYZE5WTk9zZ2lGVEIxd05hdktEbmRNNTBnLWJ1NEl3LWRPVTNfdFIxX1VOUURxdHdrWTdHOG9LQ3BrOUtWWUl1T0ZianhSckt1NGNtelAweTQ1LXpQTC1DVG50ZUVOOFV1VldBSEZvN2toemJuR3hfQXVfTXBKLVhzWDZMQ25kc1JQM1VnYTRFOTVYSmRFQWJGYWItdTJkNTdXaXlpYzY2dHg0aWM5WVlBQkFRb0N6WGNSWWdVaXhiY1ZXUGJuZ0dpVWtielpJQlV4dFAyZzB6Q2Z0Y1V6SjVZRU5QS0hsRUN0N19EbUc4RXFpV090M2ZZVjZUbS03cC13bFk1M0xrTnJMeHJUOC10dkctbGpJYnFRVHZfVXlQMU5nNDRUbndmbkFiZWFR?oc=5).\", additional_kwargs={'refusal': None}, response_metadata={'token_usage': {'completion_tokens': 364, 'prompt_tokens': 1662, 'total_tokens': 2026, 'completion_tokens_details': {'accepted_prediction_tokens': 0, 'audio_tokens': 0, 'reasoning_tokens': 0, 'rejected_prediction_tokens': 0}, 'prompt_tokens_details': {'audio_tokens': 0, 'cached_tokens': 1152}}, 'model_name': 'gpt-4o-mini-2024-07-18', 'system_fingerprint': 'fp_00428b782a', 'finish_reason': 'stop', 'logprobs': None}, id='run-6bd0c085-619d-4120-b201-5670eede17b5-0', usage_metadata={'input_tokens': 1662, 'output_tokens': 364, 'total_tokens': 2026, 'input_token_details': {'audio': 0, 'cache_read': 1152}, 'output_token_details': {'audio': 0, 'reasoning': 0}}), HumanMessage(content='랭체인에 대해서 웹 검색을 해주세요', additional_kwargs={}, response_metadata={}, id='db09e1ec-010f-4879-8037-6707e68f1734'), AIMessage(content='', additional_kwargs={'tool_calls': [{'id': 'call_vVX2yLhEe93aIdC2WG4qVeAQ', 'function': {'arguments': '{\"query\":\"랭체인\"}', 'name': 'tavily_web_search'}, 'type': 'function'}], 'refusal': None}, response_metadata={'token_usage': {'completion_tokens': 21, 'prompt_tokens': 2043, 'total_tokens': 2064, 'completion_tokens_details': {'accepted_prediction_tokens': 0, 'audio_tokens': 0, 'reasoning_tokens': 0, 'rejected_prediction_tokens': 0}, 'prompt_tokens_details': {'audio_tokens': 0, 'cached_tokens': 1920}}, 'model_name': 'gpt-4o-mini-2024-07-18', 'system_fingerprint': 'fp_00428b782a', 'finish_reason': 'tool_calls', 'logprobs': None}, id='run-b41113c8-712f-48a0-96be-d582b7f6ecbf-0', tool_calls=[{'name': 'tavily_web_search', 'args': {'query': '랭체인'}, 'id': 'call_vVX2yLhEe93aIdC2WG4qVeAQ', 'type': 'tool_call'}], usage_metadata={'input_tokens': 2043, 'output_tokens': 21, 'total_tokens': 2064, 'input_token_details': {'audio': 0, 'cache_read': 1920}, 'output_token_details': {'audio': 0, 'reasoning': 0}}), ToolMessage(content='[{\"title\": \"랭체인 뜻? Llm 기반 6개 구성의 앱 생성 프레임워크\", \"url\": \"https://www.ktpdigitallife.com/랭체인-뜻과-개념-설명/\", \"content\": \"랭체인 뜻과 개념 알기. 랭체인 뜻(LangChain)은 거대언어모델(LLM, Large Language Model)을 기반으로 오픈 소스 형태로 출시한 앱(App) 생성을 위한 프레임워크를 의미합니다. 랭체인(LangChain)은 언어 모델을 기반으로 앱(App) 개발을 보다 편하고 빠르게 할 수 있도록 해주는 앱 생성 프레임워크입니다.\", \"score\": 0.8506799, \"raw_content\": null}]', name='tavily_web_search', id='0d848040-ade2-4225-baab-3ce0267d670d', tool_call_id='call_vVX2yLhEe93aIdC2WG4qVeAQ')]\n",
      "\n",
      "[2] chatbot answer: \n",
      " 랭체인(LangChain)은 거대언어모델(LLM, Large Language Model)을 기반으로 한 오픈 소스 앱 생성 프레임워크입니다. 이 프레임워크는 언어 모델을 활용하여 앱 개발을 보다 편리하고 빠르게 할 수 있도록 지원합니다. 더 자세한 내용은 [여기에서 확인할 수 있습니다](https://www.ktpdigitallife.com/랭체인-뜻과-개념-설명/).\n",
      "[3] answer.additional_kwargs: \n",
      " {'refusal': None}\n",
      "=================================================================================\n",
      "[event] 실행 결과\n",
      "=================================================================================\n",
      "[value]: \n",
      "content='랭체인(LangChain)은 거대언어모델(LLM, Large Language Model)을 기반으로 한 오픈 소스 앱 생성 프레임워크입니다. 이 프레임워크는 언어 모델을 활용하여 앱 개발을 보다 편리하고 빠르게 할 수 있도록 지원합니다. 더 자세한 내용은 [여기에서 확인할 수 있습니다](https://www.ktpdigitallife.com/랭체인-뜻과-개념-설명/).' additional_kwargs={'refusal': None} response_metadata={'token_usage': {'completion_tokens': 105, 'prompt_tokens': 2243, 'total_tokens': 2348, 'completion_tokens_details': {'accepted_prediction_tokens': 0, 'audio_tokens': 0, 'reasoning_tokens': 0, 'rejected_prediction_tokens': 0}, 'prompt_tokens_details': {'audio_tokens': 0, 'cached_tokens': 1920}}, 'model_name': 'gpt-4o-mini-2024-07-18', 'system_fingerprint': 'fp_00428b782a', 'finish_reason': 'stop', 'logprobs': None} id='run-b106b214-48a4-4961-8568-ebf0cf43eb60-0' usage_metadata={'input_tokens': 2243, 'output_tokens': 105, 'total_tokens': 2348, 'input_token_details': {'audio': 0, 'cache_read': 1920}, 'output_token_details': {'audio': 0, 'reasoning': 0}}\n",
      "=================================================================================\n"
     ]
    }
   ],
   "source": [
    "question = ('랭체인에 대해서 웹 검색을 해주세요')\n",
    "\n",
    "for event in graph.stream({\"messages\": [(\"user\", question)]}, config=config):\n",
    "    \n",
    "    print('[event] 실행 결과')\n",
    "\n",
    "    for value in event.values():\n",
    "        print('=================================================================================')\n",
    "        print('[value]: ')\n",
    "        print(value['messages'][-1])\n",
    "        print('=================================================================================')"
   ]
  }
 ],
 "metadata": {
  "kernelspec": {
   "display_name": "venv",
   "language": "python",
   "name": "python3"
  },
  "language_info": {
   "codemirror_mode": {
    "name": "ipython",
    "version": 3
   },
   "file_extension": ".py",
   "mimetype": "text/x-python",
   "name": "python",
   "nbconvert_exporter": "python",
   "pygments_lexer": "ipython3",
   "version": "3.11.9"
  }
 },
 "nbformat": 4,
 "nbformat_minor": 2
}
