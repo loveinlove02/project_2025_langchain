{
 "cells": [
  {
   "cell_type": "code",
   "execution_count": 1,
   "metadata": {},
   "outputs": [],
   "source": [
    "from dotenv import load_dotenv\n",
    "import os\n",
    "\n",
    "load_dotenv(verbose=True)\n",
    "key = os.getenv('OPENAI_API_KEY')"
   ]
  },
  {
   "cell_type": "code",
   "execution_count": 2,
   "metadata": {},
   "outputs": [],
   "source": [
    "from typing import Annotated, List, Dict\n",
    "from typing_extensions import TypedDict\n",
    "from langgraph.graph.message import add_messages"
   ]
  },
  {
   "cell_type": "code",
   "execution_count": 3,
   "metadata": {},
   "outputs": [],
   "source": [
    "from langgraph.graph import StateGraph \n",
    "from langgraph.graph import START, END"
   ]
  },
  {
   "cell_type": "code",
   "execution_count": 4,
   "metadata": {},
   "outputs": [],
   "source": [
    "from langgraph.prebuilt import ToolNode, tools_condition\n",
    "from langchain_core.tools import tool"
   ]
  },
  {
   "cell_type": "code",
   "execution_count": 5,
   "metadata": {},
   "outputs": [],
   "source": [
    "from langchain_teddynote.tools.tavily import TavilySearch\n",
    "from langchain_teddynote.tools import GoogleNews"
   ]
  },
  {
   "cell_type": "code",
   "execution_count": 6,
   "metadata": {},
   "outputs": [],
   "source": [
    "from langchain_openai import ChatOpenAI"
   ]
  },
  {
   "cell_type": "code",
   "execution_count": 7,
   "metadata": {},
   "outputs": [],
   "source": [
    "from langchain_teddynote.graphs import visualize_graph\n",
    "from langchain_teddynote.messages import display_message_tree\n",
    "from langchain_core.runnables import RunnableConfig"
   ]
  },
  {
   "cell_type": "code",
   "execution_count": 8,
   "metadata": {},
   "outputs": [],
   "source": [
    "from langgraph.checkpoint.memory import MemorySaver\n",
    "\n",
    "memory = MemorySaver()"
   ]
  },
  {
   "cell_type": "code",
   "execution_count": 9,
   "metadata": {},
   "outputs": [],
   "source": [
    "######### 1. 상태 정의 #########\n",
    "\n",
    "# 상태 정의\n",
    "class State(TypedDict):\n",
    "    messages: Annotated[list, add_messages]"
   ]
  },
  {
   "cell_type": "code",
   "execution_count": 10,
   "metadata": {},
   "outputs": [],
   "source": [
    "######### 2. 도구 정의 및 바인딩 #########\n",
    "\n",
    "search_tool = TavilySearch(max_results=1)"
   ]
  },
  {
   "cell_type": "code",
   "execution_count": 11,
   "metadata": {},
   "outputs": [],
   "source": [
    "@tool\n",
    "def search_keyword(query: str) -> List[Dict[str, str]]:\n",
    "    \"\"\"Look up news by keyword\"\"\"\n",
    "    news_tool = GoogleNews()\n",
    "    return news_tool.search_by_keyword(query, k=1)"
   ]
  },
  {
   "cell_type": "code",
   "execution_count": 12,
   "metadata": {},
   "outputs": [],
   "source": [
    "tools = [search_tool, search_keyword]"
   ]
  },
  {
   "cell_type": "code",
   "execution_count": 13,
   "metadata": {},
   "outputs": [],
   "source": [
    "######### 3. LLM을 도구와 결합 #########\n",
    "\n",
    "llm = ChatOpenAI(\n",
    "    api_key=key, \n",
    "    model_name='gpt-4o-mini',\n",
    "    temperature=0.1\n",
    ")"
   ]
  },
  {
   "cell_type": "code",
   "execution_count": 14,
   "metadata": {},
   "outputs": [],
   "source": [
    "llm_with_tools = llm.bind_tools(tools)"
   ]
  },
  {
   "cell_type": "code",
   "execution_count": 15,
   "metadata": {},
   "outputs": [],
   "source": [
    "def chatbot(state: State):\n",
    "    answer = llm_with_tools.invoke(state['messages'])\n",
    "\n",
    "    print('=================================================================================')\n",
    "    print(f'chatbot() 실행\\n')\n",
    "    print(f\"[1] state[messages]: \\n{state['messages']}\\n\")\n",
    "    # print(f'[2] chatbot answer: \\n', answer , \"\\n\")\n",
    "    print(f'[2] chatbot answer: \\n', answer.content)\n",
    "    print(f'[3] answer.additional_kwargs: \\n', answer.additional_kwargs)\n",
    "    print('=================================================================================')\n",
    "\n",
    "    return {'messages': [answer]}"
   ]
  },
  {
   "cell_type": "code",
   "execution_count": 16,
   "metadata": {},
   "outputs": [],
   "source": [
    "graph_builder = StateGraph(State)"
   ]
  },
  {
   "cell_type": "code",
   "execution_count": 17,
   "metadata": {},
   "outputs": [
    {
     "data": {
      "text/plain": [
       "<langgraph.graph.state.StateGraph at 0x26e36f8f5d0>"
      ]
     },
     "execution_count": 17,
     "metadata": {},
     "output_type": "execute_result"
    }
   ],
   "source": [
    "graph_builder.add_node('chatbot', chatbot)"
   ]
  },
  {
   "cell_type": "code",
   "execution_count": 18,
   "metadata": {},
   "outputs": [],
   "source": [
    "tool_node = ToolNode(tools=[search_tool, search_keyword])"
   ]
  },
  {
   "cell_type": "code",
   "execution_count": 19,
   "metadata": {},
   "outputs": [
    {
     "data": {
      "text/plain": [
       "<langgraph.graph.state.StateGraph at 0x26e36f8f5d0>"
      ]
     },
     "execution_count": 19,
     "metadata": {},
     "output_type": "execute_result"
    }
   ],
   "source": [
    "graph_builder.add_node('tools', tool_node)"
   ]
  },
  {
   "cell_type": "code",
   "execution_count": 20,
   "metadata": {},
   "outputs": [
    {
     "data": {
      "text/plain": [
       "<langgraph.graph.state.StateGraph at 0x26e36f8f5d0>"
      ]
     },
     "execution_count": 20,
     "metadata": {},
     "output_type": "execute_result"
    }
   ],
   "source": [
    "graph_builder.add_conditional_edges(\n",
    "    'chatbot',\n",
    "    tools_condition\n",
    ")"
   ]
  },
  {
   "cell_type": "code",
   "execution_count": 21,
   "metadata": {},
   "outputs": [
    {
     "data": {
      "text/plain": [
       "<langgraph.graph.state.StateGraph at 0x26e36f8f5d0>"
      ]
     },
     "execution_count": 21,
     "metadata": {},
     "output_type": "execute_result"
    }
   ],
   "source": [
    "######### 5. 엣지 추가 #########\n",
    "\n",
    "# tools 에서 chatbot 으로\n",
    "graph_builder.add_edge('tools', 'chatbot')"
   ]
  },
  {
   "cell_type": "code",
   "execution_count": 22,
   "metadata": {},
   "outputs": [
    {
     "data": {
      "text/plain": [
       "<langgraph.graph.state.StateGraph at 0x26e36f8f5d0>"
      ]
     },
     "execution_count": 22,
     "metadata": {},
     "output_type": "execute_result"
    }
   ],
   "source": [
    "# START 에서 chatbot 으로\n",
    "graph_builder.add_edge(START, 'chatbot')"
   ]
  },
  {
   "cell_type": "code",
   "execution_count": 23,
   "metadata": {},
   "outputs": [
    {
     "data": {
      "text/plain": [
       "<langgraph.graph.state.StateGraph at 0x26e36f8f5d0>"
      ]
     },
     "execution_count": 23,
     "metadata": {},
     "output_type": "execute_result"
    }
   ],
   "source": [
    "# chatbot 에서 END 로\n",
    "graph_builder.add_edge('chatbot', END)"
   ]
  },
  {
   "cell_type": "code",
   "execution_count": 24,
   "metadata": {},
   "outputs": [],
   "source": [
    "graph = graph_builder.compile(checkpointer=memory)"
   ]
  },
  {
   "cell_type": "code",
   "execution_count": 25,
   "metadata": {},
   "outputs": [
    {
     "data": {
      "image/png": "[encoded data removed]",
      "text/plain": [
       "<IPython.core.display.Image object>"
      ]
     },
     "metadata": {},
     "output_type": "display_data"
    }
   ],
   "source": [
    "visualize_graph(graph)"
   ]
  },
  {
   "cell_type": "code",
   "execution_count": 26,
   "metadata": {},
   "outputs": [],
   "source": [
    "config = RunnableConfig(\n",
    "    recursion_limit=10, \n",
    "    configurable={'thread_id': '1'}\n",
    ")"
   ]
  },
  {
   "cell_type": "code",
   "execution_count": 27,
   "metadata": {},
   "outputs": [
    {
     "name": "stdout",
     "output_type": "stream",
     "text": [
      "=================================================================================\n",
      "chatbot() 실행\n",
      "\n",
      "[1] state[messages]: \n",
      "[HumanMessage(content='랭체인에 대해서 뉴스 검색을 해주세요', additional_kwargs={}, response_metadata={}, id='f9b31639-88a3-4fc0-aa0b-171e637375e6')]\n",
      "\n",
      "[2] chatbot answer: \n",
      " \n",
      "[3] answer.additional_kwargs: \n",
      " {'tool_calls': [{'id': 'call_335W3sOwYS3Z0oxmEziF9gE8', 'function': {'arguments': '{\"query\":\"랭체인\"}', 'name': 'search_keyword'}, 'type': 'function'}], 'refusal': None}\n",
      "=================================================================================\n",
      "==================================\u001b[1m Ai Message \u001b[0m==================================\n",
      "Tool Calls:\n",
      "  search_keyword (call_335W3sOwYS3Z0oxmEziF9gE8)\n",
      " Call ID: call_335W3sOwYS3Z0oxmEziF9gE8\n",
      "  Args:\n",
      "    query: 랭체인\n",
      "=================================\u001b[1m Tool Message \u001b[0m=================================\n",
      "Name: search_keyword\n",
      "\n",
      "[{\"url\": \"https://news.google.com/rss/articles/CBMiwgJBVV95cUxPM0hHcjNGR0RiT0M2QlplRlcxdjdYZE5WTk9zZ2lGVEIxd05hdktEbmRNNTBnLWJ1NEl3LWRPVTNfdFIxX1VOUURxdHdrWTdHOG9LQ3BrOUtWWUl1T0ZianhSckt1NGNtelAweTQ1LXpQTC1DVG50ZUVOOFV1VldBSEZvN2toemJuR3hfQXVfTXBKLVhzWDZMQ25kc1JQM1VnYTRFOTVYSmRFQWJGYWItdTJkNTdXaXlpYzY2dHg0aWM5WVlBQkFRb0N6WGNSWWdVaXhiY1ZXUGJuZ0dpVWtielpJQlV4dFAyZzB6Q2Z0Y1V6SjVZRU5QS0hsRUN0N19EbUc4RXFpV090M2ZZVjZUbS03cC13bFk1M0xrTnJMeHJUOC10dkctbGpJYnFRVHZfVXlQMU5nNDRUbndmbkFiZWFR?oc=5\", \"content\": \"구글, 데이터베이스용 ‘생성형 AI 툴박스’ 공개 베타 발표 \\\"랭체인과 협력\\\" - CIO.com\"}]\n",
      "=================================================================================\n",
      "chatbot() 실행\n",
      "\n",
      "[1] state[messages]: \n",
      "[HumanMessage(content='랭체인에 대해서 뉴스 검색을 해주세요', additional_kwargs={}, response_metadata={}, id='f9b31639-88a3-4fc0-aa0b-171e637375e6'), AIMessage(content='', additional_kwargs={'tool_calls': [{'id': 'call_335W3sOwYS3Z0oxmEziF9gE8', 'function': {'arguments': '{\"query\":\"랭체인\"}', 'name': 'search_keyword'}, 'type': 'function'}], 'refusal': None}, response_metadata={'token_usage': {'completion_tokens': 18, 'prompt_tokens': 122, 'total_tokens': 140, 'completion_tokens_details': {'accepted_prediction_tokens': 0, 'audio_tokens': 0, 'reasoning_tokens': 0, 'rejected_prediction_tokens': 0}, 'prompt_tokens_details': {'audio_tokens': 0, 'cached_tokens': 0}}, 'model_name': 'gpt-4o-mini-2024-07-18', 'system_fingerprint': 'fp_00428b782a', 'finish_reason': 'tool_calls', 'logprobs': None}, id='run-d1092e47-5f19-4d13-860a-49d38fd8b926-0', tool_calls=[{'name': 'search_keyword', 'args': {'query': '랭체인'}, 'id': 'call_335W3sOwYS3Z0oxmEziF9gE8', 'type': 'tool_call'}], usage_metadata={'input_tokens': 122, 'output_tokens': 18, 'total_tokens': 140, 'input_token_details': {'audio': 0, 'cache_read': 0}, 'output_token_details': {'audio': 0, 'reasoning': 0}}), ToolMessage(content='[{\"url\": \"https://news.google.com/rss/articles/CBMiwgJBVV95cUxPM0hHcjNGR0RiT0M2QlplRlcxdjdYZE5WTk9zZ2lGVEIxd05hdktEbmRNNTBnLWJ1NEl3LWRPVTNfdFIxX1VOUURxdHdrWTdHOG9LQ3BrOUtWWUl1T0ZianhSckt1NGNtelAweTQ1LXpQTC1DVG50ZUVOOFV1VldBSEZvN2toemJuR3hfQXVfTXBKLVhzWDZMQ25kc1JQM1VnYTRFOTVYSmRFQWJGYWItdTJkNTdXaXlpYzY2dHg0aWM5WVlBQkFRb0N6WGNSWWdVaXhiY1ZXUGJuZ0dpVWtielpJQlV4dFAyZzB6Q2Z0Y1V6SjVZRU5QS0hsRUN0N19EbUc4RXFpV090M2ZZVjZUbS03cC13bFk1M0xrTnJMeHJUOC10dkctbGpJYnFRVHZfVXlQMU5nNDRUbndmbkFiZWFR?oc=5\", \"content\": \"구글, 데이터베이스용 ‘생성형 AI 툴박스’ 공개 베타 발표 \\\\\"랭체인과 협력\\\\\" - CIO.com\"}]', name='search_keyword', id='f66e3997-4c43-4c21-9481-c94c95a532b4', tool_call_id='call_335W3sOwYS3Z0oxmEziF9gE8')]\n",
      "\n",
      "[2] chatbot answer: \n",
      " 최근 뉴스에 따르면 구글이 데이터베이스용 '생성형 AI 툴박스'를 공개 베타로 발표하며 랭체인과 협력하고 있다는 소식이 있습니다. 자세한 내용은 [여기에서 확인하실 수 있습니다](https://news.google.com/rss/articles/CBMiwgJBVV95cUxPM0hHcjNGR0RiT0M2QlplRlcxdjdYZE5WTk9zZ2lGVEIxd05hdktEbmRNNTBnLWJ1NEl3LWRPVTNfdFIxX1VOUURxdHdrWTdHOG9LQ3BrOUtWWUl1T0ZianhSckt1NGNtelAweTQ1LXpQTC1DVG50ZUVOOFV1VldBSEZvN2toemJuR3hfQXVfTXBKLVhzWDZMQ25kc1JQM1VnYTRFOTVYSmRFQWJGYWItdTJkNTdXaXlpYzY2dHg0aWM5WVlBQkFRb0N6WGNSWWdVaXhiY1ZXUGJuZ0dpVWtielpJQlV4dFAyZzB6Q2Z0Y1V6SjVZRU5QS0hsRUN0N19EbUc4RXFpV090M2ZZVjZUbS03cC13bFk1M0xrTnJMeHJUOC10dkctbGpJYnFRVHZfVXlQMU5nNDRUbndmbkFiZWFR?oc=5).\n",
      "[3] answer.additional_kwargs: \n",
      " {'refusal': None}\n",
      "=================================================================================\n",
      "==================================\u001b[1m Ai Message \u001b[0m==================================\n",
      "\n",
      "최근 뉴스에 따르면 구글이 데이터베이스용 '생성형 AI 툴박스'를 공개 베타로 발표하며 랭체인과 협력하고 있다는 소식이 있습니다. 자세한 내용은 [여기에서 확인하실 수 있습니다](https://news.google.com/rss/articles/CBMiwgJBVV95cUxPM0hHcjNGR0RiT0M2QlplRlcxdjdYZE5WTk9zZ2lGVEIxd05hdktEbmRNNTBnLWJ1NEl3LWRPVTNfdFIxX1VOUURxdHdrWTdHOG9LQ3BrOUtWWUl1T0ZianhSckt1NGNtelAweTQ1LXpQTC1DVG50ZUVOOFV1VldBSEZvN2toemJuR3hfQXVfTXBKLVhzWDZMQ25kc1JQM1VnYTRFOTVYSmRFQWJGYWItdTJkNTdXaXlpYzY2dHg0aWM5WVlBQkFRb0N6WGNSWWdVaXhiY1ZXUGJuZ0dpVWtielpJQlV4dFAyZzB6Q2Z0Y1V6SjVZRU5QS0hsRUN0N19EbUc4RXFpV090M2ZZVjZUbS03cC13bFk1M0xrTnJMeHJUOC10dkctbGpJYnFRVHZfVXlQMU5nNDRUbndmbkFiZWFR?oc=5).\n"
     ]
    }
   ],
   "source": [
    "question = ('랭체인에 대해서 뉴스 검색을 해주세요')\n",
    "\n",
    "for event in graph.stream({\"messages\": [(\"user\", question)]}, config=config):\n",
    "    for value in event.values():\n",
    "        value[\"messages\"][-1].pretty_print()"
   ]
  },
  {
   "cell_type": "code",
   "execution_count": 28,
   "metadata": {},
   "outputs": [
    {
     "name": "stdout",
     "output_type": "stream",
     "text": [
      "=================================================================================\n",
      "chatbot() 실행\n",
      "\n",
      "[1] state[messages]: \n",
      "[HumanMessage(content='랭체인에 대해서 뉴스 검색을 해주세요', additional_kwargs={}, response_metadata={}, id='f9b31639-88a3-4fc0-aa0b-171e637375e6'), AIMessage(content='', additional_kwargs={'tool_calls': [{'id': 'call_335W3sOwYS3Z0oxmEziF9gE8', 'function': {'arguments': '{\"query\":\"랭체인\"}', 'name': 'search_keyword'}, 'type': 'function'}], 'refusal': None}, response_metadata={'token_usage': {'completion_tokens': 18, 'prompt_tokens': 122, 'total_tokens': 140, 'completion_tokens_details': {'accepted_prediction_tokens': 0, 'audio_tokens': 0, 'reasoning_tokens': 0, 'rejected_prediction_tokens': 0}, 'prompt_tokens_details': {'audio_tokens': 0, 'cached_tokens': 0}}, 'model_name': 'gpt-4o-mini-2024-07-18', 'system_fingerprint': 'fp_00428b782a', 'finish_reason': 'tool_calls', 'logprobs': None}, id='run-d1092e47-5f19-4d13-860a-49d38fd8b926-0', tool_calls=[{'name': 'search_keyword', 'args': {'query': '랭체인'}, 'id': 'call_335W3sOwYS3Z0oxmEziF9gE8', 'type': 'tool_call'}], usage_metadata={'input_tokens': 122, 'output_tokens': 18, 'total_tokens': 140, 'input_token_details': {'audio': 0, 'cache_read': 0}, 'output_token_details': {'audio': 0, 'reasoning': 0}}), ToolMessage(content='[{\"url\": \"https://news.google.com/rss/articles/CBMiwgJBVV95cUxPM0hHcjNGR0RiT0M2QlplRlcxdjdYZE5WTk9zZ2lGVEIxd05hdktEbmRNNTBnLWJ1NEl3LWRPVTNfdFIxX1VOUURxdHdrWTdHOG9LQ3BrOUtWWUl1T0ZianhSckt1NGNtelAweTQ1LXpQTC1DVG50ZUVOOFV1VldBSEZvN2toemJuR3hfQXVfTXBKLVhzWDZMQ25kc1JQM1VnYTRFOTVYSmRFQWJGYWItdTJkNTdXaXlpYzY2dHg0aWM5WVlBQkFRb0N6WGNSWWdVaXhiY1ZXUGJuZ0dpVWtielpJQlV4dFAyZzB6Q2Z0Y1V6SjVZRU5QS0hsRUN0N19EbUc4RXFpV090M2ZZVjZUbS03cC13bFk1M0xrTnJMeHJUOC10dkctbGpJYnFRVHZfVXlQMU5nNDRUbndmbkFiZWFR?oc=5\", \"content\": \"구글, 데이터베이스용 ‘생성형 AI 툴박스’ 공개 베타 발표 \\\\\"랭체인과 협력\\\\\" - CIO.com\"}]', name='search_keyword', id='f66e3997-4c43-4c21-9481-c94c95a532b4', tool_call_id='call_335W3sOwYS3Z0oxmEziF9gE8'), AIMessage(content=\"최근 뉴스에 따르면 구글이 데이터베이스용 '생성형 AI 툴박스'를 공개 베타로 발표하며 랭체인과 협력하고 있다는 소식이 있습니다. 자세한 내용은 [여기에서 확인하실 수 있습니다](https://news.google.com/rss/articles/CBMiwgJBVV95cUxPM0hHcjNGR0RiT0M2QlplRlcxdjdYZE5WTk9zZ2lGVEIxd05hdktEbmRNNTBnLWJ1NEl3LWRPVTNfdFIxX1VOUURxdHdrWTdHOG9LQ3BrOUtWWUl1T0ZianhSckt1NGNtelAweTQ1LXpQTC1DVG50ZUVOOFV1VldBSEZvN2toemJuR3hfQXVfTXBKLVhzWDZMQ25kc1JQM1VnYTRFOTVYSmRFQWJGYWItdTJkNTdXaXlpYzY2dHg0aWM5WVlBQkFRb0N6WGNSWWdVaXhiY1ZXUGJuZ0dpVWtielpJQlV4dFAyZzB6Q2Z0Y1V6SjVZRU5QS0hsRUN0N19EbUc4RXFpV090M2ZZVjZUbS03cC13bFk1M0xrTnJMeHJUOC10dkctbGpJYnFRVHZfVXlQMU5nNDRUbndmbkFiZWFR?oc=5).\", additional_kwargs={'refusal': None}, response_metadata={'token_usage': {'completion_tokens': 365, 'prompt_tokens': 498, 'total_tokens': 863, 'completion_tokens_details': {'accepted_prediction_tokens': 0, 'audio_tokens': 0, 'reasoning_tokens': 0, 'rejected_prediction_tokens': 0}, 'prompt_tokens_details': {'audio_tokens': 0, 'cached_tokens': 0}}, 'model_name': 'gpt-4o-mini-2024-07-18', 'system_fingerprint': 'fp_00428b782a', 'finish_reason': 'stop', 'logprobs': None}, id='run-41f90666-d104-4109-b51a-1aa52e2beac9-0', usage_metadata={'input_tokens': 498, 'output_tokens': 365, 'total_tokens': 863, 'input_token_details': {'audio': 0, 'cache_read': 0}, 'output_token_details': {'audio': 0, 'reasoning': 0}}), HumanMessage(content='랭체인에 대해서 웹 검색을 해주세요', additional_kwargs={}, response_metadata={}, id='a123f612-ad85-48cb-898b-00afccd84ea9')]\n",
      "\n",
      "[2] chatbot answer: \n",
      " \n",
      "[3] answer.additional_kwargs: \n",
      " {'tool_calls': [{'id': 'call_d9yvYrTnZyUtde7QZTy9wc6u', 'function': {'arguments': '{\"query\":\"랭체인\"}', 'name': 'tavily_web_search'}, 'type': 'function'}], 'refusal': None}\n",
      "=================================================================================\n",
      "==================================\u001b[1m Ai Message \u001b[0m==================================\n",
      "Tool Calls:\n",
      "  tavily_web_search (call_d9yvYrTnZyUtde7QZTy9wc6u)\n",
      " Call ID: call_d9yvYrTnZyUtde7QZTy9wc6u\n",
      "  Args:\n",
      "    query: 랭체인\n",
      "=================================\u001b[1m Tool Message \u001b[0m=================================\n",
      "Name: tavily_web_search\n",
      "\n",
      "[{\"title\": \"랭체인 뜻? Llm 기반 6개 구성의 앱 생성 프레임워크\", \"url\": \"https://www.ktpdigitallife.com/랭체인-뜻과-개념-설명/\", \"content\": \"랭체인 뜻과 개념 알기. 랭체인 뜻(LangChain)은 거대언어모델(LLM, Large Language Model)을 기반으로 오픈 소스 형태로 출시한 앱(App) 생성을 위한 프레임워크를 의미합니다. 랭체인(LangChain)은 언어 모델을 기반으로 앱(App) 개발을 보다 편하고 빠르게 할 수 있도록 해주는 앱 생성 프레임워크입니다.\", \"score\": 0.8506799, \"raw_content\": null}]\n",
      "=================================================================================\n",
      "chatbot() 실행\n",
      "\n",
      "[1] state[messages]: \n",
      "[HumanMessage(content='랭체인에 대해서 뉴스 검색을 해주세요', additional_kwargs={}, response_metadata={}, id='f9b31639-88a3-4fc0-aa0b-171e637375e6'), AIMessage(content='', additional_kwargs={'tool_calls': [{'id': 'call_335W3sOwYS3Z0oxmEziF9gE8', 'function': {'arguments': '{\"query\":\"랭체인\"}', 'name': 'search_keyword'}, 'type': 'function'}], 'refusal': None}, response_metadata={'token_usage': {'completion_tokens': 18, 'prompt_tokens': 122, 'total_tokens': 140, 'completion_tokens_details': {'accepted_prediction_tokens': 0, 'audio_tokens': 0, 'reasoning_tokens': 0, 'rejected_prediction_tokens': 0}, 'prompt_tokens_details': {'audio_tokens': 0, 'cached_tokens': 0}}, 'model_name': 'gpt-4o-mini-2024-07-18', 'system_fingerprint': 'fp_00428b782a', 'finish_reason': 'tool_calls', 'logprobs': None}, id='run-d1092e47-5f19-4d13-860a-49d38fd8b926-0', tool_calls=[{'name': 'search_keyword', 'args': {'query': '랭체인'}, 'id': 'call_335W3sOwYS3Z0oxmEziF9gE8', 'type': 'tool_call'}], usage_metadata={'input_tokens': 122, 'output_tokens': 18, 'total_tokens': 140, 'input_token_details': {'audio': 0, 'cache_read': 0}, 'output_token_details': {'audio': 0, 'reasoning': 0}}), ToolMessage(content='[{\"url\": \"https://news.google.com/rss/articles/CBMiwgJBVV95cUxPM0hHcjNGR0RiT0M2QlplRlcxdjdYZE5WTk9zZ2lGVEIxd05hdktEbmRNNTBnLWJ1NEl3LWRPVTNfdFIxX1VOUURxdHdrWTdHOG9LQ3BrOUtWWUl1T0ZianhSckt1NGNtelAweTQ1LXpQTC1DVG50ZUVOOFV1VldBSEZvN2toemJuR3hfQXVfTXBKLVhzWDZMQ25kc1JQM1VnYTRFOTVYSmRFQWJGYWItdTJkNTdXaXlpYzY2dHg0aWM5WVlBQkFRb0N6WGNSWWdVaXhiY1ZXUGJuZ0dpVWtielpJQlV4dFAyZzB6Q2Z0Y1V6SjVZRU5QS0hsRUN0N19EbUc4RXFpV090M2ZZVjZUbS03cC13bFk1M0xrTnJMeHJUOC10dkctbGpJYnFRVHZfVXlQMU5nNDRUbndmbkFiZWFR?oc=5\", \"content\": \"구글, 데이터베이스용 ‘생성형 AI 툴박스’ 공개 베타 발표 \\\\\"랭체인과 협력\\\\\" - CIO.com\"}]', name='search_keyword', id='f66e3997-4c43-4c21-9481-c94c95a532b4', tool_call_id='call_335W3sOwYS3Z0oxmEziF9gE8'), AIMessage(content=\"최근 뉴스에 따르면 구글이 데이터베이스용 '생성형 AI 툴박스'를 공개 베타로 발표하며 랭체인과 협력하고 있다는 소식이 있습니다. 자세한 내용은 [여기에서 확인하실 수 있습니다](https://news.google.com/rss/articles/CBMiwgJBVV95cUxPM0hHcjNGR0RiT0M2QlplRlcxdjdYZE5WTk9zZ2lGVEIxd05hdktEbmRNNTBnLWJ1NEl3LWRPVTNfdFIxX1VOUURxdHdrWTdHOG9LQ3BrOUtWWUl1T0ZianhSckt1NGNtelAweTQ1LXpQTC1DVG50ZUVOOFV1VldBSEZvN2toemJuR3hfQXVfTXBKLVhzWDZMQ25kc1JQM1VnYTRFOTVYSmRFQWJGYWItdTJkNTdXaXlpYzY2dHg0aWM5WVlBQkFRb0N6WGNSWWdVaXhiY1ZXUGJuZ0dpVWtielpJQlV4dFAyZzB6Q2Z0Y1V6SjVZRU5QS0hsRUN0N19EbUc4RXFpV090M2ZZVjZUbS03cC13bFk1M0xrTnJMeHJUOC10dkctbGpJYnFRVHZfVXlQMU5nNDRUbndmbkFiZWFR?oc=5).\", additional_kwargs={'refusal': None}, response_metadata={'token_usage': {'completion_tokens': 365, 'prompt_tokens': 498, 'total_tokens': 863, 'completion_tokens_details': {'accepted_prediction_tokens': 0, 'audio_tokens': 0, 'reasoning_tokens': 0, 'rejected_prediction_tokens': 0}, 'prompt_tokens_details': {'audio_tokens': 0, 'cached_tokens': 0}}, 'model_name': 'gpt-4o-mini-2024-07-18', 'system_fingerprint': 'fp_00428b782a', 'finish_reason': 'stop', 'logprobs': None}, id='run-41f90666-d104-4109-b51a-1aa52e2beac9-0', usage_metadata={'input_tokens': 498, 'output_tokens': 365, 'total_tokens': 863, 'input_token_details': {'audio': 0, 'cache_read': 0}, 'output_token_details': {'audio': 0, 'reasoning': 0}}), HumanMessage(content='랭체인에 대해서 웹 검색을 해주세요', additional_kwargs={}, response_metadata={}, id='a123f612-ad85-48cb-898b-00afccd84ea9'), AIMessage(content='', additional_kwargs={'tool_calls': [{'id': 'call_d9yvYrTnZyUtde7QZTy9wc6u', 'function': {'arguments': '{\"query\":\"랭체인\"}', 'name': 'tavily_web_search'}, 'type': 'function'}], 'refusal': None}, response_metadata={'token_usage': {'completion_tokens': 21, 'prompt_tokens': 880, 'total_tokens': 901, 'completion_tokens_details': {'accepted_prediction_tokens': 0, 'audio_tokens': 0, 'reasoning_tokens': 0, 'rejected_prediction_tokens': 0}, 'prompt_tokens_details': {'audio_tokens': 0, 'cached_tokens': 0}}, 'model_name': 'gpt-4o-mini-2024-07-18', 'system_fingerprint': 'fp_00428b782a', 'finish_reason': 'tool_calls', 'logprobs': None}, id='run-47545dbe-578a-4550-ae9b-a87da97bdf1b-0', tool_calls=[{'name': 'tavily_web_search', 'args': {'query': '랭체인'}, 'id': 'call_d9yvYrTnZyUtde7QZTy9wc6u', 'type': 'tool_call'}], usage_metadata={'input_tokens': 880, 'output_tokens': 21, 'total_tokens': 901, 'input_token_details': {'audio': 0, 'cache_read': 0}, 'output_token_details': {'audio': 0, 'reasoning': 0}}), ToolMessage(content='[{\"title\": \"랭체인 뜻? Llm 기반 6개 구성의 앱 생성 프레임워크\", \"url\": \"https://www.ktpdigitallife.com/랭체인-뜻과-개념-설명/\", \"content\": \"랭체인 뜻과 개념 알기. 랭체인 뜻(LangChain)은 거대언어모델(LLM, Large Language Model)을 기반으로 오픈 소스 형태로 출시한 앱(App) 생성을 위한 프레임워크를 의미합니다. 랭체인(LangChain)은 언어 모델을 기반으로 앱(App) 개발을 보다 편하고 빠르게 할 수 있도록 해주는 앱 생성 프레임워크입니다.\", \"score\": 0.8506799, \"raw_content\": null}]', name='tavily_web_search', id='ececc7f4-369c-4c06-b2e9-0c6d6f7e749c', tool_call_id='call_d9yvYrTnZyUtde7QZTy9wc6u')]\n",
      "\n",
      "[2] chatbot answer: \n",
      " 랭체인(LangChain)은 거대언어모델(LLM, Large Language Model)을 기반으로 한 오픈 소스 앱 생성 프레임워크입니다. 이 프레임워크는 언어 모델을 활용하여 앱 개발을 보다 편리하고 신속하게 할 수 있도록 돕습니다. \n",
      "\n",
      "자세한 내용은 [여기에서 확인하실 수 있습니다](https://www.ktpdigitallife.com/랭체인-뜻과-개념-설명/).\n",
      "[3] answer.additional_kwargs: \n",
      " {'refusal': None}\n",
      "=================================================================================\n",
      "==================================\u001b[1m Ai Message \u001b[0m==================================\n",
      "\n",
      "랭체인(LangChain)은 거대언어모델(LLM, Large Language Model)을 기반으로 한 오픈 소스 앱 생성 프레임워크입니다. 이 프레임워크는 언어 모델을 활용하여 앱 개발을 보다 편리하고 신속하게 할 수 있도록 돕습니다. \n",
      "\n",
      "자세한 내용은 [여기에서 확인하실 수 있습니다](https://www.ktpdigitallife.com/랭체인-뜻과-개념-설명/).\n"
     ]
    }
   ],
   "source": [
    "question = ('랭체인에 대해서 웹 검색을 해주세요')\n",
    "\n",
    "for event in graph.stream({\"messages\": [(\"user\", question)]}, config=config):\n",
    "    for value in event.values():\n",
    "        value[\"messages\"][-1].pretty_print()"
   ]
  },
  {
   "cell_type": "code",
   "execution_count": 29,
   "metadata": {},
   "outputs": [
    {
     "name": "stdout",
     "output_type": "stream",
     "text": [
      "=================================================================================\n",
      "chatbot() 실행\n",
      "\n",
      "[1] state[messages]: \n",
      "[HumanMessage(content='랭체인에 대해서 뉴스 검색을 해주세요', additional_kwargs={}, response_metadata={}, id='f9b31639-88a3-4fc0-aa0b-171e637375e6'), AIMessage(content='', additional_kwargs={'tool_calls': [{'id': 'call_335W3sOwYS3Z0oxmEziF9gE8', 'function': {'arguments': '{\"query\":\"랭체인\"}', 'name': 'search_keyword'}, 'type': 'function'}], 'refusal': None}, response_metadata={'token_usage': {'completion_tokens': 18, 'prompt_tokens': 122, 'total_tokens': 140, 'completion_tokens_details': {'accepted_prediction_tokens': 0, 'audio_tokens': 0, 'reasoning_tokens': 0, 'rejected_prediction_tokens': 0}, 'prompt_tokens_details': {'audio_tokens': 0, 'cached_tokens': 0}}, 'model_name': 'gpt-4o-mini-2024-07-18', 'system_fingerprint': 'fp_00428b782a', 'finish_reason': 'tool_calls', 'logprobs': None}, id='run-d1092e47-5f19-4d13-860a-49d38fd8b926-0', tool_calls=[{'name': 'search_keyword', 'args': {'query': '랭체인'}, 'id': 'call_335W3sOwYS3Z0oxmEziF9gE8', 'type': 'tool_call'}], usage_metadata={'input_tokens': 122, 'output_tokens': 18, 'total_tokens': 140, 'input_token_details': {'audio': 0, 'cache_read': 0}, 'output_token_details': {'audio': 0, 'reasoning': 0}}), ToolMessage(content='[{\"url\": \"https://news.google.com/rss/articles/CBMiwgJBVV95cUxPM0hHcjNGR0RiT0M2QlplRlcxdjdYZE5WTk9zZ2lGVEIxd05hdktEbmRNNTBnLWJ1NEl3LWRPVTNfdFIxX1VOUURxdHdrWTdHOG9LQ3BrOUtWWUl1T0ZianhSckt1NGNtelAweTQ1LXpQTC1DVG50ZUVOOFV1VldBSEZvN2toemJuR3hfQXVfTXBKLVhzWDZMQ25kc1JQM1VnYTRFOTVYSmRFQWJGYWItdTJkNTdXaXlpYzY2dHg0aWM5WVlBQkFRb0N6WGNSWWdVaXhiY1ZXUGJuZ0dpVWtielpJQlV4dFAyZzB6Q2Z0Y1V6SjVZRU5QS0hsRUN0N19EbUc4RXFpV090M2ZZVjZUbS03cC13bFk1M0xrTnJMeHJUOC10dkctbGpJYnFRVHZfVXlQMU5nNDRUbndmbkFiZWFR?oc=5\", \"content\": \"구글, 데이터베이스용 ‘생성형 AI 툴박스’ 공개 베타 발표 \\\\\"랭체인과 협력\\\\\" - CIO.com\"}]', name='search_keyword', id='f66e3997-4c43-4c21-9481-c94c95a532b4', tool_call_id='call_335W3sOwYS3Z0oxmEziF9gE8'), AIMessage(content=\"최근 뉴스에 따르면 구글이 데이터베이스용 '생성형 AI 툴박스'를 공개 베타로 발표하며 랭체인과 협력하고 있다는 소식이 있습니다. 자세한 내용은 [여기에서 확인하실 수 있습니다](https://news.google.com/rss/articles/CBMiwgJBVV95cUxPM0hHcjNGR0RiT0M2QlplRlcxdjdYZE5WTk9zZ2lGVEIxd05hdktEbmRNNTBnLWJ1NEl3LWRPVTNfdFIxX1VOUURxdHdrWTdHOG9LQ3BrOUtWWUl1T0ZianhSckt1NGNtelAweTQ1LXpQTC1DVG50ZUVOOFV1VldBSEZvN2toemJuR3hfQXVfTXBKLVhzWDZMQ25kc1JQM1VnYTRFOTVYSmRFQWJGYWItdTJkNTdXaXlpYzY2dHg0aWM5WVlBQkFRb0N6WGNSWWdVaXhiY1ZXUGJuZ0dpVWtielpJQlV4dFAyZzB6Q2Z0Y1V6SjVZRU5QS0hsRUN0N19EbUc4RXFpV090M2ZZVjZUbS03cC13bFk1M0xrTnJMeHJUOC10dkctbGpJYnFRVHZfVXlQMU5nNDRUbndmbkFiZWFR?oc=5).\", additional_kwargs={'refusal': None}, response_metadata={'token_usage': {'completion_tokens': 365, 'prompt_tokens': 498, 'total_tokens': 863, 'completion_tokens_details': {'accepted_prediction_tokens': 0, 'audio_tokens': 0, 'reasoning_tokens': 0, 'rejected_prediction_tokens': 0}, 'prompt_tokens_details': {'audio_tokens': 0, 'cached_tokens': 0}}, 'model_name': 'gpt-4o-mini-2024-07-18', 'system_fingerprint': 'fp_00428b782a', 'finish_reason': 'stop', 'logprobs': None}, id='run-41f90666-d104-4109-b51a-1aa52e2beac9-0', usage_metadata={'input_tokens': 498, 'output_tokens': 365, 'total_tokens': 863, 'input_token_details': {'audio': 0, 'cache_read': 0}, 'output_token_details': {'audio': 0, 'reasoning': 0}}), HumanMessage(content='랭체인에 대해서 웹 검색을 해주세요', additional_kwargs={}, response_metadata={}, id='a123f612-ad85-48cb-898b-00afccd84ea9'), AIMessage(content='', additional_kwargs={'tool_calls': [{'id': 'call_d9yvYrTnZyUtde7QZTy9wc6u', 'function': {'arguments': '{\"query\":\"랭체인\"}', 'name': 'tavily_web_search'}, 'type': 'function'}], 'refusal': None}, response_metadata={'token_usage': {'completion_tokens': 21, 'prompt_tokens': 880, 'total_tokens': 901, 'completion_tokens_details': {'accepted_prediction_tokens': 0, 'audio_tokens': 0, 'reasoning_tokens': 0, 'rejected_prediction_tokens': 0}, 'prompt_tokens_details': {'audio_tokens': 0, 'cached_tokens': 0}}, 'model_name': 'gpt-4o-mini-2024-07-18', 'system_fingerprint': 'fp_00428b782a', 'finish_reason': 'tool_calls', 'logprobs': None}, id='run-47545dbe-578a-4550-ae9b-a87da97bdf1b-0', tool_calls=[{'name': 'tavily_web_search', 'args': {'query': '랭체인'}, 'id': 'call_d9yvYrTnZyUtde7QZTy9wc6u', 'type': 'tool_call'}], usage_metadata={'input_tokens': 880, 'output_tokens': 21, 'total_tokens': 901, 'input_token_details': {'audio': 0, 'cache_read': 0}, 'output_token_details': {'audio': 0, 'reasoning': 0}}), ToolMessage(content='[{\"title\": \"랭체인 뜻? Llm 기반 6개 구성의 앱 생성 프레임워크\", \"url\": \"https://www.ktpdigitallife.com/랭체인-뜻과-개념-설명/\", \"content\": \"랭체인 뜻과 개념 알기. 랭체인 뜻(LangChain)은 거대언어모델(LLM, Large Language Model)을 기반으로 오픈 소스 형태로 출시한 앱(App) 생성을 위한 프레임워크를 의미합니다. 랭체인(LangChain)은 언어 모델을 기반으로 앱(App) 개발을 보다 편하고 빠르게 할 수 있도록 해주는 앱 생성 프레임워크입니다.\", \"score\": 0.8506799, \"raw_content\": null}]', name='tavily_web_search', id='ececc7f4-369c-4c06-b2e9-0c6d6f7e749c', tool_call_id='call_d9yvYrTnZyUtde7QZTy9wc6u'), AIMessage(content='랭체인(LangChain)은 거대언어모델(LLM, Large Language Model)을 기반으로 한 오픈 소스 앱 생성 프레임워크입니다. 이 프레임워크는 언어 모델을 활용하여 앱 개발을 보다 편리하고 신속하게 할 수 있도록 돕습니다. \\n\\n자세한 내용은 [여기에서 확인하실 수 있습니다](https://www.ktpdigitallife.com/랭체인-뜻과-개념-설명/).', additional_kwargs={'refusal': None}, response_metadata={'token_usage': {'completion_tokens': 109, 'prompt_tokens': 1080, 'total_tokens': 1189, 'completion_tokens_details': {'accepted_prediction_tokens': 0, 'audio_tokens': 0, 'reasoning_tokens': 0, 'rejected_prediction_tokens': 0}, 'prompt_tokens_details': {'audio_tokens': 0, 'cached_tokens': 0}}, 'model_name': 'gpt-4o-mini-2024-07-18', 'system_fingerprint': 'fp_00428b782a', 'finish_reason': 'stop', 'logprobs': None}, id='run-d673fa86-da61-43b5-b71d-843b9a2d5c6f-0', usage_metadata={'input_tokens': 1080, 'output_tokens': 109, 'total_tokens': 1189, 'input_token_details': {'audio': 0, 'cache_read': 0}, 'output_token_details': {'audio': 0, 'reasoning': 0}}), HumanMessage(content='`소프트웨어놀이터`에서 코딩강의를 하고 있는 이인환입니다.', additional_kwargs={}, response_metadata={}, id='bbbb6367-93c1-4f82-aa47-b00ea4adbc8a')]\n",
      "\n",
      "[2] chatbot answer: \n",
      " 안녕하세요, 이인환님! 소프트웨어놀이터에서 코딩 강의를 하고 계시군요. 어떤 주제나 언어에 대해 강의를 진행하고 계신가요? 도움이 필요하시거나 궁금한 점이 있다면 말씀해 주세요!\n",
      "[3] answer.additional_kwargs: \n",
      " {'refusal': None}\n",
      "=================================================================================\n",
      "[event] 실행 결과\n",
      "[value]: \n",
      "content='안녕하세요, 이인환님! 소프트웨어놀이터에서 코딩 강의를 하고 계시군요. 어떤 주제나 언어에 대해 강의를 진행하고 계신가요? 도움이 필요하시거나 궁금한 점이 있다면 말씀해 주세요!' additional_kwargs={'refusal': None} response_metadata={'token_usage': {'completion_tokens': 58, 'prompt_tokens': 1214, 'total_tokens': 1272, 'completion_tokens_details': {'accepted_prediction_tokens': 0, 'audio_tokens': 0, 'reasoning_tokens': 0, 'rejected_prediction_tokens': 0}, 'prompt_tokens_details': {'audio_tokens': 0, 'cached_tokens': 1024}}, 'model_name': 'gpt-4o-mini-2024-07-18', 'system_fingerprint': 'fp_00428b782a', 'finish_reason': 'stop', 'logprobs': None} id='run-bd5fdf90-20a1-4c7f-b1d5-f630f83b2021-0' usage_metadata={'input_tokens': 1214, 'output_tokens': 58, 'total_tokens': 1272, 'input_token_details': {'audio': 0, 'cache_read': 1024}, 'output_token_details': {'audio': 0, 'reasoning': 0}}\n",
      "\t[content]: 안녕하세요, 이인환님! 소프트웨어놀이터에서 코딩 강의를 하고 계시군요. 어떤 주제나 언어에 대해 강의를 진행하고 계신가요? 도움이 필요하시거나 궁금한 점이 있다면 말씀해 주세요!\n",
      "\t[additional_kwargs]: \n",
      "\t\t{'refusal': None}\n",
      "\t\t[token_usage]: \n",
      "\t\t\t[completion_tokens]: 58\n",
      "\t\t\t[prompt_tokens]: 1214\n",
      "\t\t\t[total_tokens]: 1272\n",
      "\t\t\t[completion_tokens_details]: {'accepted_prediction_tokens': 0, 'audio_tokens': 0, 'reasoning_tokens': 0, 'rejected_prediction_tokens': 0}\n",
      "\t\t\t[prompt_tokens_details]: {'audio_tokens': 0, 'cached_tokens': 1024}\n",
      "\t\t[model_name]: gpt-4o-mini-2024-07-18\n",
      "\t\t[system_fingerprint]: fp_00428b782a\n",
      "\t\t[finish_reason]: stop\n",
      "\t[id]: \n",
      "\t\t run-bd5fdf90-20a1-4c7f-b1d5-f630f83b2021-0\n",
      "\t[usage_metadata]: \n",
      "\t\t[input_tokens]: 1214\n",
      "\t\t[output_tokens]: 58\n",
      "\t\t[total_tokens]: 1272\n",
      "\t\t[input_token_details]: {'audio': 0, 'cache_read': 1024}\n",
      "\t\t[output_token_details]: {'audio': 0, 'reasoning': 0}\n"
     ]
    }
   ],
   "source": [
    "question = ('`소프트웨어놀이터`에서 코딩강의를 하고 있는 이인환입니다.')\n",
    "\n",
    "for event in graph.stream({\"messages\": [(\"user\", question)]}, config=config):\n",
    "    \n",
    "    print('[event] 실행 결과')\n",
    "\n",
    "    for value in event.values():\n",
    "        print('[value]: ')\n",
    "        print(value['messages'][-1])\n",
    "        \n",
    "        print(f\"\\t[content]: {value['messages'][-1].content}\")\n",
    "\n",
    "        print(f\"\\t[additional_kwargs]: \")\n",
    "        print(f\"\\t\\t{value['messages'][-1].additional_kwargs}\")\n",
    "\n",
    "        print('\\t\\t[token_usage]: ')\n",
    "        # print(f\"\\t\\t\\t {value['messages'][-1].response_metadata['token_usage']}\")\n",
    "        print(f\"\\t\\t\\t[completion_tokens]: {value['messages'][-1].response_metadata['token_usage']['completion_tokens']}\")\n",
    "        print(f\"\\t\\t\\t[prompt_tokens]: {value['messages'][-1].response_metadata['token_usage']['prompt_tokens']}\")\n",
    "        print(f\"\\t\\t\\t[total_tokens]: {value['messages'][-1].response_metadata['token_usage']['total_tokens']}\")\n",
    "        print(f\"\\t\\t\\t[completion_tokens_details]: {value['messages'][-1].response_metadata['token_usage']['completion_tokens_details']}\")\n",
    "        print(f\"\\t\\t\\t[prompt_tokens_details]: {value['messages'][-1].response_metadata['token_usage']['prompt_tokens_details']}\")\n",
    "\n",
    "        print(f\"\\t\\t[model_name]: {value['messages'][-1].response_metadata['model_name']}\")\n",
    "        print(f\"\\t\\t[system_fingerprint]: {value['messages'][-1].response_metadata['system_fingerprint']}\")\n",
    "        print(f\"\\t\\t[finish_reason]: {value['messages'][-1].response_metadata['finish_reason']}\")        \n",
    "        \n",
    "        print('\\t[id]: ')\n",
    "        print(f\"\\t\\t {value['messages'][-1].id}\")\n",
    "\n",
    "        \n",
    "        print('\\t[usage_metadata]: ')\n",
    "        print(f\"\\t\\t[input_tokens]: {value['messages'][-1].usage_metadata['input_tokens']}\")\n",
    "        print(f\"\\t\\t[output_tokens]: {value['messages'][-1].usage_metadata['output_tokens']}\")\n",
    "        print(f\"\\t\\t[total_tokens]: {value['messages'][-1].usage_metadata['total_tokens']}\")\n",
    "        print(f\"\\t\\t[input_token_details]: {value['messages'][-1].usage_metadata['input_token_details']}\")\n",
    "        print(f\"\\t\\t[output_token_details]: {value['messages'][-1].usage_metadata['output_token_details']}\")"
   ]
  },
  {
   "cell_type": "code",
   "execution_count": 30,
   "metadata": {},
   "outputs": [
    {
     "name": "stdout",
     "output_type": "stream",
     "text": [
      "=================================================================================\n",
      "chatbot() 실행\n",
      "\n",
      "[1] state[messages]: \n",
      "[HumanMessage(content='랭체인에 대해서 뉴스 검색을 해주세요', additional_kwargs={}, response_metadata={}, id='f9b31639-88a3-4fc0-aa0b-171e637375e6'), AIMessage(content='', additional_kwargs={'tool_calls': [{'id': 'call_335W3sOwYS3Z0oxmEziF9gE8', 'function': {'arguments': '{\"query\":\"랭체인\"}', 'name': 'search_keyword'}, 'type': 'function'}], 'refusal': None}, response_metadata={'token_usage': {'completion_tokens': 18, 'prompt_tokens': 122, 'total_tokens': 140, 'completion_tokens_details': {'accepted_prediction_tokens': 0, 'audio_tokens': 0, 'reasoning_tokens': 0, 'rejected_prediction_tokens': 0}, 'prompt_tokens_details': {'audio_tokens': 0, 'cached_tokens': 0}}, 'model_name': 'gpt-4o-mini-2024-07-18', 'system_fingerprint': 'fp_00428b782a', 'finish_reason': 'tool_calls', 'logprobs': None}, id='run-d1092e47-5f19-4d13-860a-49d38fd8b926-0', tool_calls=[{'name': 'search_keyword', 'args': {'query': '랭체인'}, 'id': 'call_335W3sOwYS3Z0oxmEziF9gE8', 'type': 'tool_call'}], usage_metadata={'input_tokens': 122, 'output_tokens': 18, 'total_tokens': 140, 'input_token_details': {'audio': 0, 'cache_read': 0}, 'output_token_details': {'audio': 0, 'reasoning': 0}}), ToolMessage(content='[{\"url\": \"https://news.google.com/rss/articles/CBMiwgJBVV95cUxPM0hHcjNGR0RiT0M2QlplRlcxdjdYZE5WTk9zZ2lGVEIxd05hdktEbmRNNTBnLWJ1NEl3LWRPVTNfdFIxX1VOUURxdHdrWTdHOG9LQ3BrOUtWWUl1T0ZianhSckt1NGNtelAweTQ1LXpQTC1DVG50ZUVOOFV1VldBSEZvN2toemJuR3hfQXVfTXBKLVhzWDZMQ25kc1JQM1VnYTRFOTVYSmRFQWJGYWItdTJkNTdXaXlpYzY2dHg0aWM5WVlBQkFRb0N6WGNSWWdVaXhiY1ZXUGJuZ0dpVWtielpJQlV4dFAyZzB6Q2Z0Y1V6SjVZRU5QS0hsRUN0N19EbUc4RXFpV090M2ZZVjZUbS03cC13bFk1M0xrTnJMeHJUOC10dkctbGpJYnFRVHZfVXlQMU5nNDRUbndmbkFiZWFR?oc=5\", \"content\": \"구글, 데이터베이스용 ‘생성형 AI 툴박스’ 공개 베타 발표 \\\\\"랭체인과 협력\\\\\" - CIO.com\"}]', name='search_keyword', id='f66e3997-4c43-4c21-9481-c94c95a532b4', tool_call_id='call_335W3sOwYS3Z0oxmEziF9gE8'), AIMessage(content=\"최근 뉴스에 따르면 구글이 데이터베이스용 '생성형 AI 툴박스'를 공개 베타로 발표하며 랭체인과 협력하고 있다는 소식이 있습니다. 자세한 내용은 [여기에서 확인하실 수 있습니다](https://news.google.com/rss/articles/CBMiwgJBVV95cUxPM0hHcjNGR0RiT0M2QlplRlcxdjdYZE5WTk9zZ2lGVEIxd05hdktEbmRNNTBnLWJ1NEl3LWRPVTNfdFIxX1VOUURxdHdrWTdHOG9LQ3BrOUtWWUl1T0ZianhSckt1NGNtelAweTQ1LXpQTC1DVG50ZUVOOFV1VldBSEZvN2toemJuR3hfQXVfTXBKLVhzWDZMQ25kc1JQM1VnYTRFOTVYSmRFQWJGYWItdTJkNTdXaXlpYzY2dHg0aWM5WVlBQkFRb0N6WGNSWWdVaXhiY1ZXUGJuZ0dpVWtielpJQlV4dFAyZzB6Q2Z0Y1V6SjVZRU5QS0hsRUN0N19EbUc4RXFpV090M2ZZVjZUbS03cC13bFk1M0xrTnJMeHJUOC10dkctbGpJYnFRVHZfVXlQMU5nNDRUbndmbkFiZWFR?oc=5).\", additional_kwargs={'refusal': None}, response_metadata={'token_usage': {'completion_tokens': 365, 'prompt_tokens': 498, 'total_tokens': 863, 'completion_tokens_details': {'accepted_prediction_tokens': 0, 'audio_tokens': 0, 'reasoning_tokens': 0, 'rejected_prediction_tokens': 0}, 'prompt_tokens_details': {'audio_tokens': 0, 'cached_tokens': 0}}, 'model_name': 'gpt-4o-mini-2024-07-18', 'system_fingerprint': 'fp_00428b782a', 'finish_reason': 'stop', 'logprobs': None}, id='run-41f90666-d104-4109-b51a-1aa52e2beac9-0', usage_metadata={'input_tokens': 498, 'output_tokens': 365, 'total_tokens': 863, 'input_token_details': {'audio': 0, 'cache_read': 0}, 'output_token_details': {'audio': 0, 'reasoning': 0}}), HumanMessage(content='랭체인에 대해서 웹 검색을 해주세요', additional_kwargs={}, response_metadata={}, id='a123f612-ad85-48cb-898b-00afccd84ea9'), AIMessage(content='', additional_kwargs={'tool_calls': [{'id': 'call_d9yvYrTnZyUtde7QZTy9wc6u', 'function': {'arguments': '{\"query\":\"랭체인\"}', 'name': 'tavily_web_search'}, 'type': 'function'}], 'refusal': None}, response_metadata={'token_usage': {'completion_tokens': 21, 'prompt_tokens': 880, 'total_tokens': 901, 'completion_tokens_details': {'accepted_prediction_tokens': 0, 'audio_tokens': 0, 'reasoning_tokens': 0, 'rejected_prediction_tokens': 0}, 'prompt_tokens_details': {'audio_tokens': 0, 'cached_tokens': 0}}, 'model_name': 'gpt-4o-mini-2024-07-18', 'system_fingerprint': 'fp_00428b782a', 'finish_reason': 'tool_calls', 'logprobs': None}, id='run-47545dbe-578a-4550-ae9b-a87da97bdf1b-0', tool_calls=[{'name': 'tavily_web_search', 'args': {'query': '랭체인'}, 'id': 'call_d9yvYrTnZyUtde7QZTy9wc6u', 'type': 'tool_call'}], usage_metadata={'input_tokens': 880, 'output_tokens': 21, 'total_tokens': 901, 'input_token_details': {'audio': 0, 'cache_read': 0}, 'output_token_details': {'audio': 0, 'reasoning': 0}}), ToolMessage(content='[{\"title\": \"랭체인 뜻? Llm 기반 6개 구성의 앱 생성 프레임워크\", \"url\": \"https://www.ktpdigitallife.com/랭체인-뜻과-개념-설명/\", \"content\": \"랭체인 뜻과 개념 알기. 랭체인 뜻(LangChain)은 거대언어모델(LLM, Large Language Model)을 기반으로 오픈 소스 형태로 출시한 앱(App) 생성을 위한 프레임워크를 의미합니다. 랭체인(LangChain)은 언어 모델을 기반으로 앱(App) 개발을 보다 편하고 빠르게 할 수 있도록 해주는 앱 생성 프레임워크입니다.\", \"score\": 0.8506799, \"raw_content\": null}]', name='tavily_web_search', id='ececc7f4-369c-4c06-b2e9-0c6d6f7e749c', tool_call_id='call_d9yvYrTnZyUtde7QZTy9wc6u'), AIMessage(content='랭체인(LangChain)은 거대언어모델(LLM, Large Language Model)을 기반으로 한 오픈 소스 앱 생성 프레임워크입니다. 이 프레임워크는 언어 모델을 활용하여 앱 개발을 보다 편리하고 신속하게 할 수 있도록 돕습니다. \\n\\n자세한 내용은 [여기에서 확인하실 수 있습니다](https://www.ktpdigitallife.com/랭체인-뜻과-개념-설명/).', additional_kwargs={'refusal': None}, response_metadata={'token_usage': {'completion_tokens': 109, 'prompt_tokens': 1080, 'total_tokens': 1189, 'completion_tokens_details': {'accepted_prediction_tokens': 0, 'audio_tokens': 0, 'reasoning_tokens': 0, 'rejected_prediction_tokens': 0}, 'prompt_tokens_details': {'audio_tokens': 0, 'cached_tokens': 0}}, 'model_name': 'gpt-4o-mini-2024-07-18', 'system_fingerprint': 'fp_00428b782a', 'finish_reason': 'stop', 'logprobs': None}, id='run-d673fa86-da61-43b5-b71d-843b9a2d5c6f-0', usage_metadata={'input_tokens': 1080, 'output_tokens': 109, 'total_tokens': 1189, 'input_token_details': {'audio': 0, 'cache_read': 0}, 'output_token_details': {'audio': 0, 'reasoning': 0}}), HumanMessage(content='`소프트웨어놀이터`에서 코딩강의를 하고 있는 이인환입니다.', additional_kwargs={}, response_metadata={}, id='bbbb6367-93c1-4f82-aa47-b00ea4adbc8a'), AIMessage(content='안녕하세요, 이인환님! 소프트웨어놀이터에서 코딩 강의를 하고 계시군요. 어떤 주제나 언어에 대해 강의를 진행하고 계신가요? 도움이 필요하시거나 궁금한 점이 있다면 말씀해 주세요!', additional_kwargs={'refusal': None}, response_metadata={'token_usage': {'completion_tokens': 58, 'prompt_tokens': 1214, 'total_tokens': 1272, 'completion_tokens_details': {'accepted_prediction_tokens': 0, 'audio_tokens': 0, 'reasoning_tokens': 0, 'rejected_prediction_tokens': 0}, 'prompt_tokens_details': {'audio_tokens': 0, 'cached_tokens': 1024}}, 'model_name': 'gpt-4o-mini-2024-07-18', 'system_fingerprint': 'fp_00428b782a', 'finish_reason': 'stop', 'logprobs': None}, id='run-bd5fdf90-20a1-4c7f-b1d5-f630f83b2021-0', usage_metadata={'input_tokens': 1214, 'output_tokens': 58, 'total_tokens': 1272, 'input_token_details': {'audio': 0, 'cache_read': 1024}, 'output_token_details': {'audio': 0, 'reasoning': 0}}), HumanMessage(content='`소프트웨어놀이터`에서 코딩강의를 하고 있는 이인환입니다.', additional_kwargs={}, response_metadata={}, id='72c860b3-d61a-4717-80eb-acad6131dfeb')]\n",
      "\n",
      "[2] chatbot answer: \n",
      " 안녕하세요, 이인환님! 소프트웨어놀이터에서 코딩 강의를 하고 계신다니 멋지네요. 어떤 주제나 언어에 대해 강의를 진행하고 계신지 궁금합니다. 혹시 도움이 필요하시거나 공유하고 싶은 내용이 있다면 말씀해 주세요!\n",
      "[3] answer.additional_kwargs: \n",
      " {'refusal': None}\n",
      "=================================================================================\n",
      "=================================================================================\n",
      "\n",
      "[event] 실행 결과\n",
      "(1) value : \n",
      "content='안녕하세요, 이인환님! 소프트웨어놀이터에서 코딩 강의를 하고 계신다니 멋지네요. 어떤 주제나 언어에 대해 강의를 진행하고 계신지 궁금합니다. 혹시 도움이 필요하시거나 공유하고 싶은 내용이 있다면 말씀해 주세요!' additional_kwargs={'refusal': None} response_metadata={'token_usage': {'completion_tokens': 66, 'prompt_tokens': 1297, 'total_tokens': 1363, 'completion_tokens_details': {'accepted_prediction_tokens': 0, 'audio_tokens': 0, 'reasoning_tokens': 0, 'rejected_prediction_tokens': 0}, 'prompt_tokens_details': {'audio_tokens': 0, 'cached_tokens': 1152}}, 'model_name': 'gpt-4o-mini-2024-07-18', 'system_fingerprint': 'fp_00428b782a', 'finish_reason': 'stop', 'logprobs': None} id='run-7d0ef7ae-07e4-42ec-8253-4bbd16598fed-0' usage_metadata={'input_tokens': 1297, 'output_tokens': 66, 'total_tokens': 1363, 'input_token_details': {'audio': 0, 'cache_read': 1152}, 'output_token_details': {'audio': 0, 'reasoning': 0}}\n",
      "\n",
      "(2) [content]: 안녕하세요, 이인환님! 소프트웨어놀이터에서 코딩 강의를 하고 계신다니 멋지네요. 어떤 주제나 언어에 대해 강의를 진행하고 계신지 궁금합니다. 혹시 도움이 필요하시거나 공유하고 싶은 내용이 있다면 말씀해 주세요!\n",
      "(3) [additional_kwargs]: \n",
      "\t{'refusal': None}\n",
      "(4) [response_metadata]: \n",
      "\t{'token_usage': {'completion_tokens': 66, 'prompt_tokens': 1297, 'total_tokens': 1363, 'completion_tokens_details': {'accepted_prediction_tokens': 0, 'audio_tokens': 0, 'reasoning_tokens': 0, 'rejected_prediction_tokens': 0}, 'prompt_tokens_details': {'audio_tokens': 0, 'cached_tokens': 1152}}, 'model_name': 'gpt-4o-mini-2024-07-18', 'system_fingerprint': 'fp_00428b782a', 'finish_reason': 'stop', 'logprobs': None}\n",
      "=================================================================================\n",
      "\n"
     ]
    }
   ],
   "source": [
    "question = ('`소프트웨어놀이터`에서 코딩강의를 하고 있는 이인환입니다.')\n",
    "\n",
    "for event in graph.stream({\"messages\": [(\"user\", question)]}, config=config):\n",
    "    \n",
    "    print('=================================================================================')\n",
    "    print('\\n[event] 실행 결과')\n",
    "\n",
    "    for value in event.values():\n",
    "        print('(1) value : ')\n",
    "        print(value['messages'][-1])\n",
    "        print()\n",
    "\n",
    "        if value['messages'][-1].content is not None:\n",
    "            print(f\"(2) [content]: {value['messages'][-1].content}\")\n",
    "        else:\n",
    "            print(f\"(2) [content]: 없음\")\n",
    "\n",
    "\n",
    "        if value['messages'][-1].additional_kwargs is not None:\n",
    "            print(f\"(3) [additional_kwargs]: \")\n",
    "            print(f\"\\t{value['messages'][-1].additional_kwargs}\")\n",
    "\n",
    "        else:\n",
    "            print(f\"(3) [additional_kwargs]: 없음\")\n",
    "\n",
    "        \n",
    "        if value['messages'][-1].response_metadata is not None:\n",
    "            print(f\"(4) [response_metadata]: \")\n",
    "            print(f\"\\t{value['messages'][-1].response_metadata}\")\n",
    "        else:\n",
    "            print(f\"(4)) [response_metadata]: 없음\")\n",
    "        print('=================================================================================')\n",
    "        print()"
   ]
  },
  {
   "cell_type": "code",
   "execution_count": 31,
   "metadata": {},
   "outputs": [
    {
     "name": "stdout",
     "output_type": "stream",
     "text": [
      "=================================================================================\n",
      "chatbot() 실행\n",
      "\n",
      "[1] state[messages]: \n",
      "[HumanMessage(content='랭체인에 대해서 뉴스 검색을 해주세요', additional_kwargs={}, response_metadata={}, id='f9b31639-88a3-4fc0-aa0b-171e637375e6'), AIMessage(content='', additional_kwargs={'tool_calls': [{'id': 'call_335W3sOwYS3Z0oxmEziF9gE8', 'function': {'arguments': '{\"query\":\"랭체인\"}', 'name': 'search_keyword'}, 'type': 'function'}], 'refusal': None}, response_metadata={'token_usage': {'completion_tokens': 18, 'prompt_tokens': 122, 'total_tokens': 140, 'completion_tokens_details': {'accepted_prediction_tokens': 0, 'audio_tokens': 0, 'reasoning_tokens': 0, 'rejected_prediction_tokens': 0}, 'prompt_tokens_details': {'audio_tokens': 0, 'cached_tokens': 0}}, 'model_name': 'gpt-4o-mini-2024-07-18', 'system_fingerprint': 'fp_00428b782a', 'finish_reason': 'tool_calls', 'logprobs': None}, id='run-d1092e47-5f19-4d13-860a-49d38fd8b926-0', tool_calls=[{'name': 'search_keyword', 'args': {'query': '랭체인'}, 'id': 'call_335W3sOwYS3Z0oxmEziF9gE8', 'type': 'tool_call'}], usage_metadata={'input_tokens': 122, 'output_tokens': 18, 'total_tokens': 140, 'input_token_details': {'audio': 0, 'cache_read': 0}, 'output_token_details': {'audio': 0, 'reasoning': 0}}), ToolMessage(content='[{\"url\": \"https://news.google.com/rss/articles/CBMiwgJBVV95cUxPM0hHcjNGR0RiT0M2QlplRlcxdjdYZE5WTk9zZ2lGVEIxd05hdktEbmRNNTBnLWJ1NEl3LWRPVTNfdFIxX1VOUURxdHdrWTdHOG9LQ3BrOUtWWUl1T0ZianhSckt1NGNtelAweTQ1LXpQTC1DVG50ZUVOOFV1VldBSEZvN2toemJuR3hfQXVfTXBKLVhzWDZMQ25kc1JQM1VnYTRFOTVYSmRFQWJGYWItdTJkNTdXaXlpYzY2dHg0aWM5WVlBQkFRb0N6WGNSWWdVaXhiY1ZXUGJuZ0dpVWtielpJQlV4dFAyZzB6Q2Z0Y1V6SjVZRU5QS0hsRUN0N19EbUc4RXFpV090M2ZZVjZUbS03cC13bFk1M0xrTnJMeHJUOC10dkctbGpJYnFRVHZfVXlQMU5nNDRUbndmbkFiZWFR?oc=5\", \"content\": \"구글, 데이터베이스용 ‘생성형 AI 툴박스’ 공개 베타 발표 \\\\\"랭체인과 협력\\\\\" - CIO.com\"}]', name='search_keyword', id='f66e3997-4c43-4c21-9481-c94c95a532b4', tool_call_id='call_335W3sOwYS3Z0oxmEziF9gE8'), AIMessage(content=\"최근 뉴스에 따르면 구글이 데이터베이스용 '생성형 AI 툴박스'를 공개 베타로 발표하며 랭체인과 협력하고 있다는 소식이 있습니다. 자세한 내용은 [여기에서 확인하실 수 있습니다](https://news.google.com/rss/articles/CBMiwgJBVV95cUxPM0hHcjNGR0RiT0M2QlplRlcxdjdYZE5WTk9zZ2lGVEIxd05hdktEbmRNNTBnLWJ1NEl3LWRPVTNfdFIxX1VOUURxdHdrWTdHOG9LQ3BrOUtWWUl1T0ZianhSckt1NGNtelAweTQ1LXpQTC1DVG50ZUVOOFV1VldBSEZvN2toemJuR3hfQXVfTXBKLVhzWDZMQ25kc1JQM1VnYTRFOTVYSmRFQWJGYWItdTJkNTdXaXlpYzY2dHg0aWM5WVlBQkFRb0N6WGNSWWdVaXhiY1ZXUGJuZ0dpVWtielpJQlV4dFAyZzB6Q2Z0Y1V6SjVZRU5QS0hsRUN0N19EbUc4RXFpV090M2ZZVjZUbS03cC13bFk1M0xrTnJMeHJUOC10dkctbGpJYnFRVHZfVXlQMU5nNDRUbndmbkFiZWFR?oc=5).\", additional_kwargs={'refusal': None}, response_metadata={'token_usage': {'completion_tokens': 365, 'prompt_tokens': 498, 'total_tokens': 863, 'completion_tokens_details': {'accepted_prediction_tokens': 0, 'audio_tokens': 0, 'reasoning_tokens': 0, 'rejected_prediction_tokens': 0}, 'prompt_tokens_details': {'audio_tokens': 0, 'cached_tokens': 0}}, 'model_name': 'gpt-4o-mini-2024-07-18', 'system_fingerprint': 'fp_00428b782a', 'finish_reason': 'stop', 'logprobs': None}, id='run-41f90666-d104-4109-b51a-1aa52e2beac9-0', usage_metadata={'input_tokens': 498, 'output_tokens': 365, 'total_tokens': 863, 'input_token_details': {'audio': 0, 'cache_read': 0}, 'output_token_details': {'audio': 0, 'reasoning': 0}}), HumanMessage(content='랭체인에 대해서 웹 검색을 해주세요', additional_kwargs={}, response_metadata={}, id='a123f612-ad85-48cb-898b-00afccd84ea9'), AIMessage(content='', additional_kwargs={'tool_calls': [{'id': 'call_d9yvYrTnZyUtde7QZTy9wc6u', 'function': {'arguments': '{\"query\":\"랭체인\"}', 'name': 'tavily_web_search'}, 'type': 'function'}], 'refusal': None}, response_metadata={'token_usage': {'completion_tokens': 21, 'prompt_tokens': 880, 'total_tokens': 901, 'completion_tokens_details': {'accepted_prediction_tokens': 0, 'audio_tokens': 0, 'reasoning_tokens': 0, 'rejected_prediction_tokens': 0}, 'prompt_tokens_details': {'audio_tokens': 0, 'cached_tokens': 0}}, 'model_name': 'gpt-4o-mini-2024-07-18', 'system_fingerprint': 'fp_00428b782a', 'finish_reason': 'tool_calls', 'logprobs': None}, id='run-47545dbe-578a-4550-ae9b-a87da97bdf1b-0', tool_calls=[{'name': 'tavily_web_search', 'args': {'query': '랭체인'}, 'id': 'call_d9yvYrTnZyUtde7QZTy9wc6u', 'type': 'tool_call'}], usage_metadata={'input_tokens': 880, 'output_tokens': 21, 'total_tokens': 901, 'input_token_details': {'audio': 0, 'cache_read': 0}, 'output_token_details': {'audio': 0, 'reasoning': 0}}), ToolMessage(content='[{\"title\": \"랭체인 뜻? Llm 기반 6개 구성의 앱 생성 프레임워크\", \"url\": \"https://www.ktpdigitallife.com/랭체인-뜻과-개념-설명/\", \"content\": \"랭체인 뜻과 개념 알기. 랭체인 뜻(LangChain)은 거대언어모델(LLM, Large Language Model)을 기반으로 오픈 소스 형태로 출시한 앱(App) 생성을 위한 프레임워크를 의미합니다. 랭체인(LangChain)은 언어 모델을 기반으로 앱(App) 개발을 보다 편하고 빠르게 할 수 있도록 해주는 앱 생성 프레임워크입니다.\", \"score\": 0.8506799, \"raw_content\": null}]', name='tavily_web_search', id='ececc7f4-369c-4c06-b2e9-0c6d6f7e749c', tool_call_id='call_d9yvYrTnZyUtde7QZTy9wc6u'), AIMessage(content='랭체인(LangChain)은 거대언어모델(LLM, Large Language Model)을 기반으로 한 오픈 소스 앱 생성 프레임워크입니다. 이 프레임워크는 언어 모델을 활용하여 앱 개발을 보다 편리하고 신속하게 할 수 있도록 돕습니다. \\n\\n자세한 내용은 [여기에서 확인하실 수 있습니다](https://www.ktpdigitallife.com/랭체인-뜻과-개념-설명/).', additional_kwargs={'refusal': None}, response_metadata={'token_usage': {'completion_tokens': 109, 'prompt_tokens': 1080, 'total_tokens': 1189, 'completion_tokens_details': {'accepted_prediction_tokens': 0, 'audio_tokens': 0, 'reasoning_tokens': 0, 'rejected_prediction_tokens': 0}, 'prompt_tokens_details': {'audio_tokens': 0, 'cached_tokens': 0}}, 'model_name': 'gpt-4o-mini-2024-07-18', 'system_fingerprint': 'fp_00428b782a', 'finish_reason': 'stop', 'logprobs': None}, id='run-d673fa86-da61-43b5-b71d-843b9a2d5c6f-0', usage_metadata={'input_tokens': 1080, 'output_tokens': 109, 'total_tokens': 1189, 'input_token_details': {'audio': 0, 'cache_read': 0}, 'output_token_details': {'audio': 0, 'reasoning': 0}}), HumanMessage(content='`소프트웨어놀이터`에서 코딩강의를 하고 있는 이인환입니다.', additional_kwargs={}, response_metadata={}, id='bbbb6367-93c1-4f82-aa47-b00ea4adbc8a'), AIMessage(content='안녕하세요, 이인환님! 소프트웨어놀이터에서 코딩 강의를 하고 계시군요. 어떤 주제나 언어에 대해 강의를 진행하고 계신가요? 도움이 필요하시거나 궁금한 점이 있다면 말씀해 주세요!', additional_kwargs={'refusal': None}, response_metadata={'token_usage': {'completion_tokens': 58, 'prompt_tokens': 1214, 'total_tokens': 1272, 'completion_tokens_details': {'accepted_prediction_tokens': 0, 'audio_tokens': 0, 'reasoning_tokens': 0, 'rejected_prediction_tokens': 0}, 'prompt_tokens_details': {'audio_tokens': 0, 'cached_tokens': 1024}}, 'model_name': 'gpt-4o-mini-2024-07-18', 'system_fingerprint': 'fp_00428b782a', 'finish_reason': 'stop', 'logprobs': None}, id='run-bd5fdf90-20a1-4c7f-b1d5-f630f83b2021-0', usage_metadata={'input_tokens': 1214, 'output_tokens': 58, 'total_tokens': 1272, 'input_token_details': {'audio': 0, 'cache_read': 1024}, 'output_token_details': {'audio': 0, 'reasoning': 0}}), HumanMessage(content='`소프트웨어놀이터`에서 코딩강의를 하고 있는 이인환입니다.', additional_kwargs={}, response_metadata={}, id='72c860b3-d61a-4717-80eb-acad6131dfeb'), AIMessage(content='안녕하세요, 이인환님! 소프트웨어놀이터에서 코딩 강의를 하고 계신다니 멋지네요. 어떤 주제나 언어에 대해 강의를 진행하고 계신지 궁금합니다. 혹시 도움이 필요하시거나 공유하고 싶은 내용이 있다면 말씀해 주세요!', additional_kwargs={'refusal': None}, response_metadata={'token_usage': {'completion_tokens': 66, 'prompt_tokens': 1297, 'total_tokens': 1363, 'completion_tokens_details': {'accepted_prediction_tokens': 0, 'audio_tokens': 0, 'reasoning_tokens': 0, 'rejected_prediction_tokens': 0}, 'prompt_tokens_details': {'audio_tokens': 0, 'cached_tokens': 1152}}, 'model_name': 'gpt-4o-mini-2024-07-18', 'system_fingerprint': 'fp_00428b782a', 'finish_reason': 'stop', 'logprobs': None}, id='run-7d0ef7ae-07e4-42ec-8253-4bbd16598fed-0', usage_metadata={'input_tokens': 1297, 'output_tokens': 66, 'total_tokens': 1363, 'input_token_details': {'audio': 0, 'cache_read': 1152}, 'output_token_details': {'audio': 0, 'reasoning': 0}}), HumanMessage(content='랭체인에 대해서 뉴스 검색을 해주세요', additional_kwargs={}, response_metadata={}, id='1620ee61-96fa-4534-8810-a9bb454e545f')]\n",
      "\n",
      "[2] chatbot answer: \n",
      " \n",
      "[3] answer.additional_kwargs: \n",
      " {'tool_calls': [{'id': 'call_NOxMWkhoXPBoXILfzXb0gIui', 'function': {'arguments': '{\"query\":\"랭체인\"}', 'name': 'search_keyword'}, 'type': 'function'}], 'refusal': None}\n",
      "=================================================================================\n",
      "[event] 실행 결과\n",
      "=================================================================================\n",
      "[value]: \n",
      "content='' additional_kwargs={'tool_calls': [{'id': 'call_NOxMWkhoXPBoXILfzXb0gIui', 'function': {'arguments': '{\"query\":\"랭체인\"}', 'name': 'search_keyword'}, 'type': 'function'}], 'refusal': None} response_metadata={'token_usage': {'completion_tokens': 18, 'prompt_tokens': 1380, 'total_tokens': 1398, 'completion_tokens_details': {'accepted_prediction_tokens': 0, 'audio_tokens': 0, 'reasoning_tokens': 0, 'rejected_prediction_tokens': 0}, 'prompt_tokens_details': {'audio_tokens': 0, 'cached_tokens': 0}}, 'model_name': 'gpt-4o-mini-2024-07-18', 'system_fingerprint': 'fp_00428b782a', 'finish_reason': 'tool_calls', 'logprobs': None} id='run-1aa08811-4d42-47cd-9bbf-ea9d0ce3ce7e-0' tool_calls=[{'name': 'search_keyword', 'args': {'query': '랭체인'}, 'id': 'call_NOxMWkhoXPBoXILfzXb0gIui', 'type': 'tool_call'}] usage_metadata={'input_tokens': 1380, 'output_tokens': 18, 'total_tokens': 1398, 'input_token_details': {'audio': 0, 'cache_read': 0}, 'output_token_details': {'audio': 0, 'reasoning': 0}}\n",
      "=================================================================================\n",
      "[event] 실행 결과\n",
      "=================================================================================\n",
      "[value]: \n",
      "content='[{\"url\": \"https://news.google.com/rss/articles/CBMiwgJBVV95cUxPM0hHcjNGR0RiT0M2QlplRlcxdjdYZE5WTk9zZ2lGVEIxd05hdktEbmRNNTBnLWJ1NEl3LWRPVTNfdFIxX1VOUURxdHdrWTdHOG9LQ3BrOUtWWUl1T0ZianhSckt1NGNtelAweTQ1LXpQTC1DVG50ZUVOOFV1VldBSEZvN2toemJuR3hfQXVfTXBKLVhzWDZMQ25kc1JQM1VnYTRFOTVYSmRFQWJGYWItdTJkNTdXaXlpYzY2dHg0aWM5WVlBQkFRb0N6WGNSWWdVaXhiY1ZXUGJuZ0dpVWtielpJQlV4dFAyZzB6Q2Z0Y1V6SjVZRU5QS0hsRUN0N19EbUc4RXFpV090M2ZZVjZUbS03cC13bFk1M0xrTnJMeHJUOC10dkctbGpJYnFRVHZfVXlQMU5nNDRUbndmbkFiZWFR?oc=5\", \"content\": \"구글, 데이터베이스용 ‘생성형 AI 툴박스’ 공개 베타 발표 \\\\\"랭체인과 협력\\\\\" - CIO.com\"}]' name='search_keyword' id='05144959-8bfa-47c5-8e74-4f3801352de4' tool_call_id='call_NOxMWkhoXPBoXILfzXb0gIui'\n",
      "=================================================================================\n",
      "=================================================================================\n",
      "chatbot() 실행\n",
      "\n",
      "[1] state[messages]: \n",
      "[HumanMessage(content='랭체인에 대해서 뉴스 검색을 해주세요', additional_kwargs={}, response_metadata={}, id='f9b31639-88a3-4fc0-aa0b-171e637375e6'), AIMessage(content='', additional_kwargs={'tool_calls': [{'id': 'call_335W3sOwYS3Z0oxmEziF9gE8', 'function': {'arguments': '{\"query\":\"랭체인\"}', 'name': 'search_keyword'}, 'type': 'function'}], 'refusal': None}, response_metadata={'token_usage': {'completion_tokens': 18, 'prompt_tokens': 122, 'total_tokens': 140, 'completion_tokens_details': {'accepted_prediction_tokens': 0, 'audio_tokens': 0, 'reasoning_tokens': 0, 'rejected_prediction_tokens': 0}, 'prompt_tokens_details': {'audio_tokens': 0, 'cached_tokens': 0}}, 'model_name': 'gpt-4o-mini-2024-07-18', 'system_fingerprint': 'fp_00428b782a', 'finish_reason': 'tool_calls', 'logprobs': None}, id='run-d1092e47-5f19-4d13-860a-49d38fd8b926-0', tool_calls=[{'name': 'search_keyword', 'args': {'query': '랭체인'}, 'id': 'call_335W3sOwYS3Z0oxmEziF9gE8', 'type': 'tool_call'}], usage_metadata={'input_tokens': 122, 'output_tokens': 18, 'total_tokens': 140, 'input_token_details': {'audio': 0, 'cache_read': 0}, 'output_token_details': {'audio': 0, 'reasoning': 0}}), ToolMessage(content='[{\"url\": \"https://news.google.com/rss/articles/CBMiwgJBVV95cUxPM0hHcjNGR0RiT0M2QlplRlcxdjdYZE5WTk9zZ2lGVEIxd05hdktEbmRNNTBnLWJ1NEl3LWRPVTNfdFIxX1VOUURxdHdrWTdHOG9LQ3BrOUtWWUl1T0ZianhSckt1NGNtelAweTQ1LXpQTC1DVG50ZUVOOFV1VldBSEZvN2toemJuR3hfQXVfTXBKLVhzWDZMQ25kc1JQM1VnYTRFOTVYSmRFQWJGYWItdTJkNTdXaXlpYzY2dHg0aWM5WVlBQkFRb0N6WGNSWWdVaXhiY1ZXUGJuZ0dpVWtielpJQlV4dFAyZzB6Q2Z0Y1V6SjVZRU5QS0hsRUN0N19EbUc4RXFpV090M2ZZVjZUbS03cC13bFk1M0xrTnJMeHJUOC10dkctbGpJYnFRVHZfVXlQMU5nNDRUbndmbkFiZWFR?oc=5\", \"content\": \"구글, 데이터베이스용 ‘생성형 AI 툴박스’ 공개 베타 발표 \\\\\"랭체인과 협력\\\\\" - CIO.com\"}]', name='search_keyword', id='f66e3997-4c43-4c21-9481-c94c95a532b4', tool_call_id='call_335W3sOwYS3Z0oxmEziF9gE8'), AIMessage(content=\"최근 뉴스에 따르면 구글이 데이터베이스용 '생성형 AI 툴박스'를 공개 베타로 발표하며 랭체인과 협력하고 있다는 소식이 있습니다. 자세한 내용은 [여기에서 확인하실 수 있습니다](https://news.google.com/rss/articles/CBMiwgJBVV95cUxPM0hHcjNGR0RiT0M2QlplRlcxdjdYZE5WTk9zZ2lGVEIxd05hdktEbmRNNTBnLWJ1NEl3LWRPVTNfdFIxX1VOUURxdHdrWTdHOG9LQ3BrOUtWWUl1T0ZianhSckt1NGNtelAweTQ1LXpQTC1DVG50ZUVOOFV1VldBSEZvN2toemJuR3hfQXVfTXBKLVhzWDZMQ25kc1JQM1VnYTRFOTVYSmRFQWJGYWItdTJkNTdXaXlpYzY2dHg0aWM5WVlBQkFRb0N6WGNSWWdVaXhiY1ZXUGJuZ0dpVWtielpJQlV4dFAyZzB6Q2Z0Y1V6SjVZRU5QS0hsRUN0N19EbUc4RXFpV090M2ZZVjZUbS03cC13bFk1M0xrTnJMeHJUOC10dkctbGpJYnFRVHZfVXlQMU5nNDRUbndmbkFiZWFR?oc=5).\", additional_kwargs={'refusal': None}, response_metadata={'token_usage': {'completion_tokens': 365, 'prompt_tokens': 498, 'total_tokens': 863, 'completion_tokens_details': {'accepted_prediction_tokens': 0, 'audio_tokens': 0, 'reasoning_tokens': 0, 'rejected_prediction_tokens': 0}, 'prompt_tokens_details': {'audio_tokens': 0, 'cached_tokens': 0}}, 'model_name': 'gpt-4o-mini-2024-07-18', 'system_fingerprint': 'fp_00428b782a', 'finish_reason': 'stop', 'logprobs': None}, id='run-41f90666-d104-4109-b51a-1aa52e2beac9-0', usage_metadata={'input_tokens': 498, 'output_tokens': 365, 'total_tokens': 863, 'input_token_details': {'audio': 0, 'cache_read': 0}, 'output_token_details': {'audio': 0, 'reasoning': 0}}), HumanMessage(content='랭체인에 대해서 웹 검색을 해주세요', additional_kwargs={}, response_metadata={}, id='a123f612-ad85-48cb-898b-00afccd84ea9'), AIMessage(content='', additional_kwargs={'tool_calls': [{'id': 'call_d9yvYrTnZyUtde7QZTy9wc6u', 'function': {'arguments': '{\"query\":\"랭체인\"}', 'name': 'tavily_web_search'}, 'type': 'function'}], 'refusal': None}, response_metadata={'token_usage': {'completion_tokens': 21, 'prompt_tokens': 880, 'total_tokens': 901, 'completion_tokens_details': {'accepted_prediction_tokens': 0, 'audio_tokens': 0, 'reasoning_tokens': 0, 'rejected_prediction_tokens': 0}, 'prompt_tokens_details': {'audio_tokens': 0, 'cached_tokens': 0}}, 'model_name': 'gpt-4o-mini-2024-07-18', 'system_fingerprint': 'fp_00428b782a', 'finish_reason': 'tool_calls', 'logprobs': None}, id='run-47545dbe-578a-4550-ae9b-a87da97bdf1b-0', tool_calls=[{'name': 'tavily_web_search', 'args': {'query': '랭체인'}, 'id': 'call_d9yvYrTnZyUtde7QZTy9wc6u', 'type': 'tool_call'}], usage_metadata={'input_tokens': 880, 'output_tokens': 21, 'total_tokens': 901, 'input_token_details': {'audio': 0, 'cache_read': 0}, 'output_token_details': {'audio': 0, 'reasoning': 0}}), ToolMessage(content='[{\"title\": \"랭체인 뜻? Llm 기반 6개 구성의 앱 생성 프레임워크\", \"url\": \"https://www.ktpdigitallife.com/랭체인-뜻과-개념-설명/\", \"content\": \"랭체인 뜻과 개념 알기. 랭체인 뜻(LangChain)은 거대언어모델(LLM, Large Language Model)을 기반으로 오픈 소스 형태로 출시한 앱(App) 생성을 위한 프레임워크를 의미합니다. 랭체인(LangChain)은 언어 모델을 기반으로 앱(App) 개발을 보다 편하고 빠르게 할 수 있도록 해주는 앱 생성 프레임워크입니다.\", \"score\": 0.8506799, \"raw_content\": null}]', name='tavily_web_search', id='ececc7f4-369c-4c06-b2e9-0c6d6f7e749c', tool_call_id='call_d9yvYrTnZyUtde7QZTy9wc6u'), AIMessage(content='랭체인(LangChain)은 거대언어모델(LLM, Large Language Model)을 기반으로 한 오픈 소스 앱 생성 프레임워크입니다. 이 프레임워크는 언어 모델을 활용하여 앱 개발을 보다 편리하고 신속하게 할 수 있도록 돕습니다. \\n\\n자세한 내용은 [여기에서 확인하실 수 있습니다](https://www.ktpdigitallife.com/랭체인-뜻과-개념-설명/).', additional_kwargs={'refusal': None}, response_metadata={'token_usage': {'completion_tokens': 109, 'prompt_tokens': 1080, 'total_tokens': 1189, 'completion_tokens_details': {'accepted_prediction_tokens': 0, 'audio_tokens': 0, 'reasoning_tokens': 0, 'rejected_prediction_tokens': 0}, 'prompt_tokens_details': {'audio_tokens': 0, 'cached_tokens': 0}}, 'model_name': 'gpt-4o-mini-2024-07-18', 'system_fingerprint': 'fp_00428b782a', 'finish_reason': 'stop', 'logprobs': None}, id='run-d673fa86-da61-43b5-b71d-843b9a2d5c6f-0', usage_metadata={'input_tokens': 1080, 'output_tokens': 109, 'total_tokens': 1189, 'input_token_details': {'audio': 0, 'cache_read': 0}, 'output_token_details': {'audio': 0, 'reasoning': 0}}), HumanMessage(content='`소프트웨어놀이터`에서 코딩강의를 하고 있는 이인환입니다.', additional_kwargs={}, response_metadata={}, id='bbbb6367-93c1-4f82-aa47-b00ea4adbc8a'), AIMessage(content='안녕하세요, 이인환님! 소프트웨어놀이터에서 코딩 강의를 하고 계시군요. 어떤 주제나 언어에 대해 강의를 진행하고 계신가요? 도움이 필요하시거나 궁금한 점이 있다면 말씀해 주세요!', additional_kwargs={'refusal': None}, response_metadata={'token_usage': {'completion_tokens': 58, 'prompt_tokens': 1214, 'total_tokens': 1272, 'completion_tokens_details': {'accepted_prediction_tokens': 0, 'audio_tokens': 0, 'reasoning_tokens': 0, 'rejected_prediction_tokens': 0}, 'prompt_tokens_details': {'audio_tokens': 0, 'cached_tokens': 1024}}, 'model_name': 'gpt-4o-mini-2024-07-18', 'system_fingerprint': 'fp_00428b782a', 'finish_reason': 'stop', 'logprobs': None}, id='run-bd5fdf90-20a1-4c7f-b1d5-f630f83b2021-0', usage_metadata={'input_tokens': 1214, 'output_tokens': 58, 'total_tokens': 1272, 'input_token_details': {'audio': 0, 'cache_read': 1024}, 'output_token_details': {'audio': 0, 'reasoning': 0}}), HumanMessage(content='`소프트웨어놀이터`에서 코딩강의를 하고 있는 이인환입니다.', additional_kwargs={}, response_metadata={}, id='72c860b3-d61a-4717-80eb-acad6131dfeb'), AIMessage(content='안녕하세요, 이인환님! 소프트웨어놀이터에서 코딩 강의를 하고 계신다니 멋지네요. 어떤 주제나 언어에 대해 강의를 진행하고 계신지 궁금합니다. 혹시 도움이 필요하시거나 공유하고 싶은 내용이 있다면 말씀해 주세요!', additional_kwargs={'refusal': None}, response_metadata={'token_usage': {'completion_tokens': 66, 'prompt_tokens': 1297, 'total_tokens': 1363, 'completion_tokens_details': {'accepted_prediction_tokens': 0, 'audio_tokens': 0, 'reasoning_tokens': 0, 'rejected_prediction_tokens': 0}, 'prompt_tokens_details': {'audio_tokens': 0, 'cached_tokens': 1152}}, 'model_name': 'gpt-4o-mini-2024-07-18', 'system_fingerprint': 'fp_00428b782a', 'finish_reason': 'stop', 'logprobs': None}, id='run-7d0ef7ae-07e4-42ec-8253-4bbd16598fed-0', usage_metadata={'input_tokens': 1297, 'output_tokens': 66, 'total_tokens': 1363, 'input_token_details': {'audio': 0, 'cache_read': 1152}, 'output_token_details': {'audio': 0, 'reasoning': 0}}), HumanMessage(content='랭체인에 대해서 뉴스 검색을 해주세요', additional_kwargs={}, response_metadata={}, id='1620ee61-96fa-4534-8810-a9bb454e545f'), AIMessage(content='', additional_kwargs={'tool_calls': [{'id': 'call_NOxMWkhoXPBoXILfzXb0gIui', 'function': {'arguments': '{\"query\":\"랭체인\"}', 'name': 'search_keyword'}, 'type': 'function'}], 'refusal': None}, response_metadata={'token_usage': {'completion_tokens': 18, 'prompt_tokens': 1380, 'total_tokens': 1398, 'completion_tokens_details': {'accepted_prediction_tokens': 0, 'audio_tokens': 0, 'reasoning_tokens': 0, 'rejected_prediction_tokens': 0}, 'prompt_tokens_details': {'audio_tokens': 0, 'cached_tokens': 0}}, 'model_name': 'gpt-4o-mini-2024-07-18', 'system_fingerprint': 'fp_00428b782a', 'finish_reason': 'tool_calls', 'logprobs': None}, id='run-1aa08811-4d42-47cd-9bbf-ea9d0ce3ce7e-0', tool_calls=[{'name': 'search_keyword', 'args': {'query': '랭체인'}, 'id': 'call_NOxMWkhoXPBoXILfzXb0gIui', 'type': 'tool_call'}], usage_metadata={'input_tokens': 1380, 'output_tokens': 18, 'total_tokens': 1398, 'input_token_details': {'audio': 0, 'cache_read': 0}, 'output_token_details': {'audio': 0, 'reasoning': 0}}), ToolMessage(content='[{\"url\": \"https://news.google.com/rss/articles/CBMiwgJBVV95cUxPM0hHcjNGR0RiT0M2QlplRlcxdjdYZE5WTk9zZ2lGVEIxd05hdktEbmRNNTBnLWJ1NEl3LWRPVTNfdFIxX1VOUURxdHdrWTdHOG9LQ3BrOUtWWUl1T0ZianhSckt1NGNtelAweTQ1LXpQTC1DVG50ZUVOOFV1VldBSEZvN2toemJuR3hfQXVfTXBKLVhzWDZMQ25kc1JQM1VnYTRFOTVYSmRFQWJGYWItdTJkNTdXaXlpYzY2dHg0aWM5WVlBQkFRb0N6WGNSWWdVaXhiY1ZXUGJuZ0dpVWtielpJQlV4dFAyZzB6Q2Z0Y1V6SjVZRU5QS0hsRUN0N19EbUc4RXFpV090M2ZZVjZUbS03cC13bFk1M0xrTnJMeHJUOC10dkctbGpJYnFRVHZfVXlQMU5nNDRUbndmbkFiZWFR?oc=5\", \"content\": \"구글, 데이터베이스용 ‘생성형 AI 툴박스’ 공개 베타 발표 \\\\\"랭체인과 협력\\\\\" - CIO.com\"}]', name='search_keyword', id='05144959-8bfa-47c5-8e74-4f3801352de4', tool_call_id='call_NOxMWkhoXPBoXILfzXb0gIui')]\n",
      "\n",
      "[2] chatbot answer: \n",
      " 최근 뉴스에 따르면 구글이 데이터베이스용 '생성형 AI 툴박스'를 공개 베타로 발표하며 랭체인과 협력하고 있다는 소식이 있습니다. 자세한 내용은 [여기에서 확인하실 수 있습니다](https://news.google.com/rss/articles/CBMiwgJBVV95cUxPM0hHcjNGR0RiT0M2QlplRlcxdjdYZE5WTk9zZ2lGVEIxd05hdktEbmRNNTBnLWJ1NEl3LWRPVTNfdFIxX1VOUURxdHdrWTdHOG9LQ3BrOUtWWUl1T0ZianhSckt1NGNtelAweTQ1LXpQTC1DVG50ZUVOOFV1VldBSEZvN2toemJuR3hfQXVfTXBKLVhzWDZMQ25kc1JQM1VnYTRFOTVYSmRFQWJGYWItdTJkNTdXaXlpYzY2dHg0aWM5WVlBQkFRb0N6WGNSWWdVaXhiY1ZXUGJuZ0dpVWtielpJQlV4dFAyZzB6Q2Z0Y1V6SjVZRU5QS0hsRUN0N19EbUc4RXFpV090M2ZZVjZUbS03cC13bFk1M0xrTnJMeHJUOC10dkctbGpJYnFRVHZfVXlQMU5nNDRUbndmbkFiZWFR?oc=5).\n",
      "[3] answer.additional_kwargs: \n",
      " {'refusal': None}\n",
      "=================================================================================\n",
      "[event] 실행 결과\n",
      "=================================================================================\n",
      "[value]: \n",
      "content=\"최근 뉴스에 따르면 구글이 데이터베이스용 '생성형 AI 툴박스'를 공개 베타로 발표하며 랭체인과 협력하고 있다는 소식이 있습니다. 자세한 내용은 [여기에서 확인하실 수 있습니다](https://news.google.com/rss/articles/CBMiwgJBVV95cUxPM0hHcjNGR0RiT0M2QlplRlcxdjdYZE5WTk9zZ2lGVEIxd05hdktEbmRNNTBnLWJ1NEl3LWRPVTNfdFIxX1VOUURxdHdrWTdHOG9LQ3BrOUtWWUl1T0ZianhSckt1NGNtelAweTQ1LXpQTC1DVG50ZUVOOFV1VldBSEZvN2toemJuR3hfQXVfTXBKLVhzWDZMQ25kc1JQM1VnYTRFOTVYSmRFQWJGYWItdTJkNTdXaXlpYzY2dHg0aWM5WVlBQkFRb0N6WGNSWWdVaXhiY1ZXUGJuZ0dpVWtielpJQlV4dFAyZzB6Q2Z0Y1V6SjVZRU5QS0hsRUN0N19EbUc4RXFpV090M2ZZVjZUbS03cC13bFk1M0xrTnJMeHJUOC10dkctbGpJYnFRVHZfVXlQMU5nNDRUbndmbkFiZWFR?oc=5).\" additional_kwargs={'refusal': None} response_metadata={'token_usage': {'completion_tokens': 365, 'prompt_tokens': 1756, 'total_tokens': 2121, 'completion_tokens_details': {'accepted_prediction_tokens': 0, 'audio_tokens': 0, 'reasoning_tokens': 0, 'rejected_prediction_tokens': 0}, 'prompt_tokens_details': {'audio_tokens': 0, 'cached_tokens': 1280}}, 'model_name': 'gpt-4o-mini-2024-07-18', 'system_fingerprint': 'fp_00428b782a', 'finish_reason': 'stop', 'logprobs': None} id='run-8a5f921a-5474-4984-bb4d-843963404ea4-0' usage_metadata={'input_tokens': 1756, 'output_tokens': 365, 'total_tokens': 2121, 'input_token_details': {'audio': 0, 'cache_read': 1280}, 'output_token_details': {'audio': 0, 'reasoning': 0}}\n",
      "=================================================================================\n"
     ]
    }
   ],
   "source": [
    "question = ('랭체인에 대해서 뉴스 검색을 해주세요')\n",
    "\n",
    "for event in graph.stream({\"messages\": [(\"user\", question)]}, config=config):\n",
    "    \n",
    "    print('[event] 실행 결과')\n",
    "\n",
    "    for value in event.values():\n",
    "        print('=================================================================================')\n",
    "        print('[value]: ')\n",
    "        print(value['messages'][-1])\n",
    "        print('=================================================================================')"
   ]
  },
  {
   "cell_type": "code",
   "execution_count": 32,
   "metadata": {},
   "outputs": [
    {
     "name": "stdout",
     "output_type": "stream",
     "text": [
      "=================================================================================\n",
      "chatbot() 실행\n",
      "\n",
      "[1] state[messages]: \n",
      "[HumanMessage(content='랭체인에 대해서 뉴스 검색을 해주세요', additional_kwargs={}, response_metadata={}, id='f9b31639-88a3-4fc0-aa0b-171e637375e6'), AIMessage(content='', additional_kwargs={'tool_calls': [{'id': 'call_335W3sOwYS3Z0oxmEziF9gE8', 'function': {'arguments': '{\"query\":\"랭체인\"}', 'name': 'search_keyword'}, 'type': 'function'}], 'refusal': None}, response_metadata={'token_usage': {'completion_tokens': 18, 'prompt_tokens': 122, 'total_tokens': 140, 'completion_tokens_details': {'accepted_prediction_tokens': 0, 'audio_tokens': 0, 'reasoning_tokens': 0, 'rejected_prediction_tokens': 0}, 'prompt_tokens_details': {'audio_tokens': 0, 'cached_tokens': 0}}, 'model_name': 'gpt-4o-mini-2024-07-18', 'system_fingerprint': 'fp_00428b782a', 'finish_reason': 'tool_calls', 'logprobs': None}, id='run-d1092e47-5f19-4d13-860a-49d38fd8b926-0', tool_calls=[{'name': 'search_keyword', 'args': {'query': '랭체인'}, 'id': 'call_335W3sOwYS3Z0oxmEziF9gE8', 'type': 'tool_call'}], usage_metadata={'input_tokens': 122, 'output_tokens': 18, 'total_tokens': 140, 'input_token_details': {'audio': 0, 'cache_read': 0}, 'output_token_details': {'audio': 0, 'reasoning': 0}}), ToolMessage(content='[{\"url\": \"https://news.google.com/rss/articles/CBMiwgJBVV95cUxPM0hHcjNGR0RiT0M2QlplRlcxdjdYZE5WTk9zZ2lGVEIxd05hdktEbmRNNTBnLWJ1NEl3LWRPVTNfdFIxX1VOUURxdHdrWTdHOG9LQ3BrOUtWWUl1T0ZianhSckt1NGNtelAweTQ1LXpQTC1DVG50ZUVOOFV1VldBSEZvN2toemJuR3hfQXVfTXBKLVhzWDZMQ25kc1JQM1VnYTRFOTVYSmRFQWJGYWItdTJkNTdXaXlpYzY2dHg0aWM5WVlBQkFRb0N6WGNSWWdVaXhiY1ZXUGJuZ0dpVWtielpJQlV4dFAyZzB6Q2Z0Y1V6SjVZRU5QS0hsRUN0N19EbUc4RXFpV090M2ZZVjZUbS03cC13bFk1M0xrTnJMeHJUOC10dkctbGpJYnFRVHZfVXlQMU5nNDRUbndmbkFiZWFR?oc=5\", \"content\": \"구글, 데이터베이스용 ‘생성형 AI 툴박스’ 공개 베타 발표 \\\\\"랭체인과 협력\\\\\" - CIO.com\"}]', name='search_keyword', id='f66e3997-4c43-4c21-9481-c94c95a532b4', tool_call_id='call_335W3sOwYS3Z0oxmEziF9gE8'), AIMessage(content=\"최근 뉴스에 따르면 구글이 데이터베이스용 '생성형 AI 툴박스'를 공개 베타로 발표하며 랭체인과 협력하고 있다는 소식이 있습니다. 자세한 내용은 [여기에서 확인하실 수 있습니다](https://news.google.com/rss/articles/CBMiwgJBVV95cUxPM0hHcjNGR0RiT0M2QlplRlcxdjdYZE5WTk9zZ2lGVEIxd05hdktEbmRNNTBnLWJ1NEl3LWRPVTNfdFIxX1VOUURxdHdrWTdHOG9LQ3BrOUtWWUl1T0ZianhSckt1NGNtelAweTQ1LXpQTC1DVG50ZUVOOFV1VldBSEZvN2toemJuR3hfQXVfTXBKLVhzWDZMQ25kc1JQM1VnYTRFOTVYSmRFQWJGYWItdTJkNTdXaXlpYzY2dHg0aWM5WVlBQkFRb0N6WGNSWWdVaXhiY1ZXUGJuZ0dpVWtielpJQlV4dFAyZzB6Q2Z0Y1V6SjVZRU5QS0hsRUN0N19EbUc4RXFpV090M2ZZVjZUbS03cC13bFk1M0xrTnJMeHJUOC10dkctbGpJYnFRVHZfVXlQMU5nNDRUbndmbkFiZWFR?oc=5).\", additional_kwargs={'refusal': None}, response_metadata={'token_usage': {'completion_tokens': 365, 'prompt_tokens': 498, 'total_tokens': 863, 'completion_tokens_details': {'accepted_prediction_tokens': 0, 'audio_tokens': 0, 'reasoning_tokens': 0, 'rejected_prediction_tokens': 0}, 'prompt_tokens_details': {'audio_tokens': 0, 'cached_tokens': 0}}, 'model_name': 'gpt-4o-mini-2024-07-18', 'system_fingerprint': 'fp_00428b782a', 'finish_reason': 'stop', 'logprobs': None}, id='run-41f90666-d104-4109-b51a-1aa52e2beac9-0', usage_metadata={'input_tokens': 498, 'output_tokens': 365, 'total_tokens': 863, 'input_token_details': {'audio': 0, 'cache_read': 0}, 'output_token_details': {'audio': 0, 'reasoning': 0}}), HumanMessage(content='랭체인에 대해서 웹 검색을 해주세요', additional_kwargs={}, response_metadata={}, id='a123f612-ad85-48cb-898b-00afccd84ea9'), AIMessage(content='', additional_kwargs={'tool_calls': [{'id': 'call_d9yvYrTnZyUtde7QZTy9wc6u', 'function': {'arguments': '{\"query\":\"랭체인\"}', 'name': 'tavily_web_search'}, 'type': 'function'}], 'refusal': None}, response_metadata={'token_usage': {'completion_tokens': 21, 'prompt_tokens': 880, 'total_tokens': 901, 'completion_tokens_details': {'accepted_prediction_tokens': 0, 'audio_tokens': 0, 'reasoning_tokens': 0, 'rejected_prediction_tokens': 0}, 'prompt_tokens_details': {'audio_tokens': 0, 'cached_tokens': 0}}, 'model_name': 'gpt-4o-mini-2024-07-18', 'system_fingerprint': 'fp_00428b782a', 'finish_reason': 'tool_calls', 'logprobs': None}, id='run-47545dbe-578a-4550-ae9b-a87da97bdf1b-0', tool_calls=[{'name': 'tavily_web_search', 'args': {'query': '랭체인'}, 'id': 'call_d9yvYrTnZyUtde7QZTy9wc6u', 'type': 'tool_call'}], usage_metadata={'input_tokens': 880, 'output_tokens': 21, 'total_tokens': 901, 'input_token_details': {'audio': 0, 'cache_read': 0}, 'output_token_details': {'audio': 0, 'reasoning': 0}}), ToolMessage(content='[{\"title\": \"랭체인 뜻? Llm 기반 6개 구성의 앱 생성 프레임워크\", \"url\": \"https://www.ktpdigitallife.com/랭체인-뜻과-개념-설명/\", \"content\": \"랭체인 뜻과 개념 알기. 랭체인 뜻(LangChain)은 거대언어모델(LLM, Large Language Model)을 기반으로 오픈 소스 형태로 출시한 앱(App) 생성을 위한 프레임워크를 의미합니다. 랭체인(LangChain)은 언어 모델을 기반으로 앱(App) 개발을 보다 편하고 빠르게 할 수 있도록 해주는 앱 생성 프레임워크입니다.\", \"score\": 0.8506799, \"raw_content\": null}]', name='tavily_web_search', id='ececc7f4-369c-4c06-b2e9-0c6d6f7e749c', tool_call_id='call_d9yvYrTnZyUtde7QZTy9wc6u'), AIMessage(content='랭체인(LangChain)은 거대언어모델(LLM, Large Language Model)을 기반으로 한 오픈 소스 앱 생성 프레임워크입니다. 이 프레임워크는 언어 모델을 활용하여 앱 개발을 보다 편리하고 신속하게 할 수 있도록 돕습니다. \\n\\n자세한 내용은 [여기에서 확인하실 수 있습니다](https://www.ktpdigitallife.com/랭체인-뜻과-개념-설명/).', additional_kwargs={'refusal': None}, response_metadata={'token_usage': {'completion_tokens': 109, 'prompt_tokens': 1080, 'total_tokens': 1189, 'completion_tokens_details': {'accepted_prediction_tokens': 0, 'audio_tokens': 0, 'reasoning_tokens': 0, 'rejected_prediction_tokens': 0}, 'prompt_tokens_details': {'audio_tokens': 0, 'cached_tokens': 0}}, 'model_name': 'gpt-4o-mini-2024-07-18', 'system_fingerprint': 'fp_00428b782a', 'finish_reason': 'stop', 'logprobs': None}, id='run-d673fa86-da61-43b5-b71d-843b9a2d5c6f-0', usage_metadata={'input_tokens': 1080, 'output_tokens': 109, 'total_tokens': 1189, 'input_token_details': {'audio': 0, 'cache_read': 0}, 'output_token_details': {'audio': 0, 'reasoning': 0}}), HumanMessage(content='`소프트웨어놀이터`에서 코딩강의를 하고 있는 이인환입니다.', additional_kwargs={}, response_metadata={}, id='bbbb6367-93c1-4f82-aa47-b00ea4adbc8a'), AIMessage(content='안녕하세요, 이인환님! 소프트웨어놀이터에서 코딩 강의를 하고 계시군요. 어떤 주제나 언어에 대해 강의를 진행하고 계신가요? 도움이 필요하시거나 궁금한 점이 있다면 말씀해 주세요!', additional_kwargs={'refusal': None}, response_metadata={'token_usage': {'completion_tokens': 58, 'prompt_tokens': 1214, 'total_tokens': 1272, 'completion_tokens_details': {'accepted_prediction_tokens': 0, 'audio_tokens': 0, 'reasoning_tokens': 0, 'rejected_prediction_tokens': 0}, 'prompt_tokens_details': {'audio_tokens': 0, 'cached_tokens': 1024}}, 'model_name': 'gpt-4o-mini-2024-07-18', 'system_fingerprint': 'fp_00428b782a', 'finish_reason': 'stop', 'logprobs': None}, id='run-bd5fdf90-20a1-4c7f-b1d5-f630f83b2021-0', usage_metadata={'input_tokens': 1214, 'output_tokens': 58, 'total_tokens': 1272, 'input_token_details': {'audio': 0, 'cache_read': 1024}, 'output_token_details': {'audio': 0, 'reasoning': 0}}), HumanMessage(content='`소프트웨어놀이터`에서 코딩강의를 하고 있는 이인환입니다.', additional_kwargs={}, response_metadata={}, id='72c860b3-d61a-4717-80eb-acad6131dfeb'), AIMessage(content='안녕하세요, 이인환님! 소프트웨어놀이터에서 코딩 강의를 하고 계신다니 멋지네요. 어떤 주제나 언어에 대해 강의를 진행하고 계신지 궁금합니다. 혹시 도움이 필요하시거나 공유하고 싶은 내용이 있다면 말씀해 주세요!', additional_kwargs={'refusal': None}, response_metadata={'token_usage': {'completion_tokens': 66, 'prompt_tokens': 1297, 'total_tokens': 1363, 'completion_tokens_details': {'accepted_prediction_tokens': 0, 'audio_tokens': 0, 'reasoning_tokens': 0, 'rejected_prediction_tokens': 0}, 'prompt_tokens_details': {'audio_tokens': 0, 'cached_tokens': 1152}}, 'model_name': 'gpt-4o-mini-2024-07-18', 'system_fingerprint': 'fp_00428b782a', 'finish_reason': 'stop', 'logprobs': None}, id='run-7d0ef7ae-07e4-42ec-8253-4bbd16598fed-0', usage_metadata={'input_tokens': 1297, 'output_tokens': 66, 'total_tokens': 1363, 'input_token_details': {'audio': 0, 'cache_read': 1152}, 'output_token_details': {'audio': 0, 'reasoning': 0}}), HumanMessage(content='랭체인에 대해서 뉴스 검색을 해주세요', additional_kwargs={}, response_metadata={}, id='1620ee61-96fa-4534-8810-a9bb454e545f'), AIMessage(content='', additional_kwargs={'tool_calls': [{'id': 'call_NOxMWkhoXPBoXILfzXb0gIui', 'function': {'arguments': '{\"query\":\"랭체인\"}', 'name': 'search_keyword'}, 'type': 'function'}], 'refusal': None}, response_metadata={'token_usage': {'completion_tokens': 18, 'prompt_tokens': 1380, 'total_tokens': 1398, 'completion_tokens_details': {'accepted_prediction_tokens': 0, 'audio_tokens': 0, 'reasoning_tokens': 0, 'rejected_prediction_tokens': 0}, 'prompt_tokens_details': {'audio_tokens': 0, 'cached_tokens': 0}}, 'model_name': 'gpt-4o-mini-2024-07-18', 'system_fingerprint': 'fp_00428b782a', 'finish_reason': 'tool_calls', 'logprobs': None}, id='run-1aa08811-4d42-47cd-9bbf-ea9d0ce3ce7e-0', tool_calls=[{'name': 'search_keyword', 'args': {'query': '랭체인'}, 'id': 'call_NOxMWkhoXPBoXILfzXb0gIui', 'type': 'tool_call'}], usage_metadata={'input_tokens': 1380, 'output_tokens': 18, 'total_tokens': 1398, 'input_token_details': {'audio': 0, 'cache_read': 0}, 'output_token_details': {'audio': 0, 'reasoning': 0}}), ToolMessage(content='[{\"url\": \"https://news.google.com/rss/articles/CBMiwgJBVV95cUxPM0hHcjNGR0RiT0M2QlplRlcxdjdYZE5WTk9zZ2lGVEIxd05hdktEbmRNNTBnLWJ1NEl3LWRPVTNfdFIxX1VOUURxdHdrWTdHOG9LQ3BrOUtWWUl1T0ZianhSckt1NGNtelAweTQ1LXpQTC1DVG50ZUVOOFV1VldBSEZvN2toemJuR3hfQXVfTXBKLVhzWDZMQ25kc1JQM1VnYTRFOTVYSmRFQWJGYWItdTJkNTdXaXlpYzY2dHg0aWM5WVlBQkFRb0N6WGNSWWdVaXhiY1ZXUGJuZ0dpVWtielpJQlV4dFAyZzB6Q2Z0Y1V6SjVZRU5QS0hsRUN0N19EbUc4RXFpV090M2ZZVjZUbS03cC13bFk1M0xrTnJMeHJUOC10dkctbGpJYnFRVHZfVXlQMU5nNDRUbndmbkFiZWFR?oc=5\", \"content\": \"구글, 데이터베이스용 ‘생성형 AI 툴박스’ 공개 베타 발표 \\\\\"랭체인과 협력\\\\\" - CIO.com\"}]', name='search_keyword', id='05144959-8bfa-47c5-8e74-4f3801352de4', tool_call_id='call_NOxMWkhoXPBoXILfzXb0gIui'), AIMessage(content=\"최근 뉴스에 따르면 구글이 데이터베이스용 '생성형 AI 툴박스'를 공개 베타로 발표하며 랭체인과 협력하고 있다는 소식이 있습니다. 자세한 내용은 [여기에서 확인하실 수 있습니다](https://news.google.com/rss/articles/CBMiwgJBVV95cUxPM0hHcjNGR0RiT0M2QlplRlcxdjdYZE5WTk9zZ2lGVEIxd05hdktEbmRNNTBnLWJ1NEl3LWRPVTNfdFIxX1VOUURxdHdrWTdHOG9LQ3BrOUtWWUl1T0ZianhSckt1NGNtelAweTQ1LXpQTC1DVG50ZUVOOFV1VldBSEZvN2toemJuR3hfQXVfTXBKLVhzWDZMQ25kc1JQM1VnYTRFOTVYSmRFQWJGYWItdTJkNTdXaXlpYzY2dHg0aWM5WVlBQkFRb0N6WGNSWWdVaXhiY1ZXUGJuZ0dpVWtielpJQlV4dFAyZzB6Q2Z0Y1V6SjVZRU5QS0hsRUN0N19EbUc4RXFpV090M2ZZVjZUbS03cC13bFk1M0xrTnJMeHJUOC10dkctbGpJYnFRVHZfVXlQMU5nNDRUbndmbkFiZWFR?oc=5).\", additional_kwargs={'refusal': None}, response_metadata={'token_usage': {'completion_tokens': 365, 'prompt_tokens': 1756, 'total_tokens': 2121, 'completion_tokens_details': {'accepted_prediction_tokens': 0, 'audio_tokens': 0, 'reasoning_tokens': 0, 'rejected_prediction_tokens': 0}, 'prompt_tokens_details': {'audio_tokens': 0, 'cached_tokens': 1280}}, 'model_name': 'gpt-4o-mini-2024-07-18', 'system_fingerprint': 'fp_00428b782a', 'finish_reason': 'stop', 'logprobs': None}, id='run-8a5f921a-5474-4984-bb4d-843963404ea4-0', usage_metadata={'input_tokens': 1756, 'output_tokens': 365, 'total_tokens': 2121, 'input_token_details': {'audio': 0, 'cache_read': 1280}, 'output_token_details': {'audio': 0, 'reasoning': 0}}), HumanMessage(content='랭체인에 대해서 웹 검색을 해주세요', additional_kwargs={}, response_metadata={}, id='1d42bfed-7d62-4497-a63a-bc908be285ac')]\n",
      "\n",
      "[2] chatbot answer: \n",
      " \n",
      "[3] answer.additional_kwargs: \n",
      " {'tool_calls': [{'id': 'call_eNeo3tdGmdO5ELiqJviFF1H4', 'function': {'arguments': '{\"query\":\"랭체인\"}', 'name': 'tavily_web_search'}, 'type': 'function'}], 'refusal': None}\n",
      "=================================================================================\n",
      "[event] 실행 결과\n",
      "=================================================================================\n",
      "[value]: \n",
      "content='' additional_kwargs={'tool_calls': [{'id': 'call_eNeo3tdGmdO5ELiqJviFF1H4', 'function': {'arguments': '{\"query\":\"랭체인\"}', 'name': 'tavily_web_search'}, 'type': 'function'}], 'refusal': None} response_metadata={'token_usage': {'completion_tokens': 21, 'prompt_tokens': 2138, 'total_tokens': 2159, 'completion_tokens_details': {'accepted_prediction_tokens': 0, 'audio_tokens': 0, 'reasoning_tokens': 0, 'rejected_prediction_tokens': 0}, 'prompt_tokens_details': {'audio_tokens': 0, 'cached_tokens': 2048}}, 'model_name': 'gpt-4o-mini-2024-07-18', 'system_fingerprint': 'fp_00428b782a', 'finish_reason': 'tool_calls', 'logprobs': None} id='run-490b672e-12b8-4b29-a9a1-d92ac3a7084b-0' tool_calls=[{'name': 'tavily_web_search', 'args': {'query': '랭체인'}, 'id': 'call_eNeo3tdGmdO5ELiqJviFF1H4', 'type': 'tool_call'}] usage_metadata={'input_tokens': 2138, 'output_tokens': 21, 'total_tokens': 2159, 'input_token_details': {'audio': 0, 'cache_read': 2048}, 'output_token_details': {'audio': 0, 'reasoning': 0}}\n",
      "=================================================================================\n",
      "[event] 실행 결과\n",
      "=================================================================================\n",
      "[value]: \n",
      "content='[{\"title\": \"랭체인 뜻? Llm 기반 6개 구성의 앱 생성 프레임워크\", \"url\": \"https://www.ktpdigitallife.com/랭체인-뜻과-개념-설명/\", \"content\": \"랭체인 뜻과 개념 알기. 랭체인 뜻(LangChain)은 거대언어모델(LLM, Large Language Model)을 기반으로 오픈 소스 형태로 출시한 앱(App) 생성을 위한 프레임워크를 의미합니다. 랭체인(LangChain)은 언어 모델을 기반으로 앱(App) 개발을 보다 편하고 빠르게 할 수 있도록 해주는 앱 생성 프레임워크입니다.\", \"score\": 0.8506799, \"raw_content\": null}]' name='tavily_web_search' id='03fec147-9838-463a-97a2-3fdbdc9980f1' tool_call_id='call_eNeo3tdGmdO5ELiqJviFF1H4'\n",
      "=================================================================================\n",
      "=================================================================================\n",
      "chatbot() 실행\n",
      "\n",
      "[1] state[messages]: \n",
      "[HumanMessage(content='랭체인에 대해서 뉴스 검색을 해주세요', additional_kwargs={}, response_metadata={}, id='f9b31639-88a3-4fc0-aa0b-171e637375e6'), AIMessage(content='', additional_kwargs={'tool_calls': [{'id': 'call_335W3sOwYS3Z0oxmEziF9gE8', 'function': {'arguments': '{\"query\":\"랭체인\"}', 'name': 'search_keyword'}, 'type': 'function'}], 'refusal': None}, response_metadata={'token_usage': {'completion_tokens': 18, 'prompt_tokens': 122, 'total_tokens': 140, 'completion_tokens_details': {'accepted_prediction_tokens': 0, 'audio_tokens': 0, 'reasoning_tokens': 0, 'rejected_prediction_tokens': 0}, 'prompt_tokens_details': {'audio_tokens': 0, 'cached_tokens': 0}}, 'model_name': 'gpt-4o-mini-2024-07-18', 'system_fingerprint': 'fp_00428b782a', 'finish_reason': 'tool_calls', 'logprobs': None}, id='run-d1092e47-5f19-4d13-860a-49d38fd8b926-0', tool_calls=[{'name': 'search_keyword', 'args': {'query': '랭체인'}, 'id': 'call_335W3sOwYS3Z0oxmEziF9gE8', 'type': 'tool_call'}], usage_metadata={'input_tokens': 122, 'output_tokens': 18, 'total_tokens': 140, 'input_token_details': {'audio': 0, 'cache_read': 0}, 'output_token_details': {'audio': 0, 'reasoning': 0}}), ToolMessage(content='[{\"url\": \"https://news.google.com/rss/articles/CBMiwgJBVV95cUxPM0hHcjNGR0RiT0M2QlplRlcxdjdYZE5WTk9zZ2lGVEIxd05hdktEbmRNNTBnLWJ1NEl3LWRPVTNfdFIxX1VOUURxdHdrWTdHOG9LQ3BrOUtWWUl1T0ZianhSckt1NGNtelAweTQ1LXpQTC1DVG50ZUVOOFV1VldBSEZvN2toemJuR3hfQXVfTXBKLVhzWDZMQ25kc1JQM1VnYTRFOTVYSmRFQWJGYWItdTJkNTdXaXlpYzY2dHg0aWM5WVlBQkFRb0N6WGNSWWdVaXhiY1ZXUGJuZ0dpVWtielpJQlV4dFAyZzB6Q2Z0Y1V6SjVZRU5QS0hsRUN0N19EbUc4RXFpV090M2ZZVjZUbS03cC13bFk1M0xrTnJMeHJUOC10dkctbGpJYnFRVHZfVXlQMU5nNDRUbndmbkFiZWFR?oc=5\", \"content\": \"구글, 데이터베이스용 ‘생성형 AI 툴박스’ 공개 베타 발표 \\\\\"랭체인과 협력\\\\\" - CIO.com\"}]', name='search_keyword', id='f66e3997-4c43-4c21-9481-c94c95a532b4', tool_call_id='call_335W3sOwYS3Z0oxmEziF9gE8'), AIMessage(content=\"최근 뉴스에 따르면 구글이 데이터베이스용 '생성형 AI 툴박스'를 공개 베타로 발표하며 랭체인과 협력하고 있다는 소식이 있습니다. 자세한 내용은 [여기에서 확인하실 수 있습니다](https://news.google.com/rss/articles/CBMiwgJBVV95cUxPM0hHcjNGR0RiT0M2QlplRlcxdjdYZE5WTk9zZ2lGVEIxd05hdktEbmRNNTBnLWJ1NEl3LWRPVTNfdFIxX1VOUURxdHdrWTdHOG9LQ3BrOUtWWUl1T0ZianhSckt1NGNtelAweTQ1LXpQTC1DVG50ZUVOOFV1VldBSEZvN2toemJuR3hfQXVfTXBKLVhzWDZMQ25kc1JQM1VnYTRFOTVYSmRFQWJGYWItdTJkNTdXaXlpYzY2dHg0aWM5WVlBQkFRb0N6WGNSWWdVaXhiY1ZXUGJuZ0dpVWtielpJQlV4dFAyZzB6Q2Z0Y1V6SjVZRU5QS0hsRUN0N19EbUc4RXFpV090M2ZZVjZUbS03cC13bFk1M0xrTnJMeHJUOC10dkctbGpJYnFRVHZfVXlQMU5nNDRUbndmbkFiZWFR?oc=5).\", additional_kwargs={'refusal': None}, response_metadata={'token_usage': {'completion_tokens': 365, 'prompt_tokens': 498, 'total_tokens': 863, 'completion_tokens_details': {'accepted_prediction_tokens': 0, 'audio_tokens': 0, 'reasoning_tokens': 0, 'rejected_prediction_tokens': 0}, 'prompt_tokens_details': {'audio_tokens': 0, 'cached_tokens': 0}}, 'model_name': 'gpt-4o-mini-2024-07-18', 'system_fingerprint': 'fp_00428b782a', 'finish_reason': 'stop', 'logprobs': None}, id='run-41f90666-d104-4109-b51a-1aa52e2beac9-0', usage_metadata={'input_tokens': 498, 'output_tokens': 365, 'total_tokens': 863, 'input_token_details': {'audio': 0, 'cache_read': 0}, 'output_token_details': {'audio': 0, 'reasoning': 0}}), HumanMessage(content='랭체인에 대해서 웹 검색을 해주세요', additional_kwargs={}, response_metadata={}, id='a123f612-ad85-48cb-898b-00afccd84ea9'), AIMessage(content='', additional_kwargs={'tool_calls': [{'id': 'call_d9yvYrTnZyUtde7QZTy9wc6u', 'function': {'arguments': '{\"query\":\"랭체인\"}', 'name': 'tavily_web_search'}, 'type': 'function'}], 'refusal': None}, response_metadata={'token_usage': {'completion_tokens': 21, 'prompt_tokens': 880, 'total_tokens': 901, 'completion_tokens_details': {'accepted_prediction_tokens': 0, 'audio_tokens': 0, 'reasoning_tokens': 0, 'rejected_prediction_tokens': 0}, 'prompt_tokens_details': {'audio_tokens': 0, 'cached_tokens': 0}}, 'model_name': 'gpt-4o-mini-2024-07-18', 'system_fingerprint': 'fp_00428b782a', 'finish_reason': 'tool_calls', 'logprobs': None}, id='run-47545dbe-578a-4550-ae9b-a87da97bdf1b-0', tool_calls=[{'name': 'tavily_web_search', 'args': {'query': '랭체인'}, 'id': 'call_d9yvYrTnZyUtde7QZTy9wc6u', 'type': 'tool_call'}], usage_metadata={'input_tokens': 880, 'output_tokens': 21, 'total_tokens': 901, 'input_token_details': {'audio': 0, 'cache_read': 0}, 'output_token_details': {'audio': 0, 'reasoning': 0}}), ToolMessage(content='[{\"title\": \"랭체인 뜻? Llm 기반 6개 구성의 앱 생성 프레임워크\", \"url\": \"https://www.ktpdigitallife.com/랭체인-뜻과-개념-설명/\", \"content\": \"랭체인 뜻과 개념 알기. 랭체인 뜻(LangChain)은 거대언어모델(LLM, Large Language Model)을 기반으로 오픈 소스 형태로 출시한 앱(App) 생성을 위한 프레임워크를 의미합니다. 랭체인(LangChain)은 언어 모델을 기반으로 앱(App) 개발을 보다 편하고 빠르게 할 수 있도록 해주는 앱 생성 프레임워크입니다.\", \"score\": 0.8506799, \"raw_content\": null}]', name='tavily_web_search', id='ececc7f4-369c-4c06-b2e9-0c6d6f7e749c', tool_call_id='call_d9yvYrTnZyUtde7QZTy9wc6u'), AIMessage(content='랭체인(LangChain)은 거대언어모델(LLM, Large Language Model)을 기반으로 한 오픈 소스 앱 생성 프레임워크입니다. 이 프레임워크는 언어 모델을 활용하여 앱 개발을 보다 편리하고 신속하게 할 수 있도록 돕습니다. \\n\\n자세한 내용은 [여기에서 확인하실 수 있습니다](https://www.ktpdigitallife.com/랭체인-뜻과-개념-설명/).', additional_kwargs={'refusal': None}, response_metadata={'token_usage': {'completion_tokens': 109, 'prompt_tokens': 1080, 'total_tokens': 1189, 'completion_tokens_details': {'accepted_prediction_tokens': 0, 'audio_tokens': 0, 'reasoning_tokens': 0, 'rejected_prediction_tokens': 0}, 'prompt_tokens_details': {'audio_tokens': 0, 'cached_tokens': 0}}, 'model_name': 'gpt-4o-mini-2024-07-18', 'system_fingerprint': 'fp_00428b782a', 'finish_reason': 'stop', 'logprobs': None}, id='run-d673fa86-da61-43b5-b71d-843b9a2d5c6f-0', usage_metadata={'input_tokens': 1080, 'output_tokens': 109, 'total_tokens': 1189, 'input_token_details': {'audio': 0, 'cache_read': 0}, 'output_token_details': {'audio': 0, 'reasoning': 0}}), HumanMessage(content='`소프트웨어놀이터`에서 코딩강의를 하고 있는 이인환입니다.', additional_kwargs={}, response_metadata={}, id='bbbb6367-93c1-4f82-aa47-b00ea4adbc8a'), AIMessage(content='안녕하세요, 이인환님! 소프트웨어놀이터에서 코딩 강의를 하고 계시군요. 어떤 주제나 언어에 대해 강의를 진행하고 계신가요? 도움이 필요하시거나 궁금한 점이 있다면 말씀해 주세요!', additional_kwargs={'refusal': None}, response_metadata={'token_usage': {'completion_tokens': 58, 'prompt_tokens': 1214, 'total_tokens': 1272, 'completion_tokens_details': {'accepted_prediction_tokens': 0, 'audio_tokens': 0, 'reasoning_tokens': 0, 'rejected_prediction_tokens': 0}, 'prompt_tokens_details': {'audio_tokens': 0, 'cached_tokens': 1024}}, 'model_name': 'gpt-4o-mini-2024-07-18', 'system_fingerprint': 'fp_00428b782a', 'finish_reason': 'stop', 'logprobs': None}, id='run-bd5fdf90-20a1-4c7f-b1d5-f630f83b2021-0', usage_metadata={'input_tokens': 1214, 'output_tokens': 58, 'total_tokens': 1272, 'input_token_details': {'audio': 0, 'cache_read': 1024}, 'output_token_details': {'audio': 0, 'reasoning': 0}}), HumanMessage(content='`소프트웨어놀이터`에서 코딩강의를 하고 있는 이인환입니다.', additional_kwargs={}, response_metadata={}, id='72c860b3-d61a-4717-80eb-acad6131dfeb'), AIMessage(content='안녕하세요, 이인환님! 소프트웨어놀이터에서 코딩 강의를 하고 계신다니 멋지네요. 어떤 주제나 언어에 대해 강의를 진행하고 계신지 궁금합니다. 혹시 도움이 필요하시거나 공유하고 싶은 내용이 있다면 말씀해 주세요!', additional_kwargs={'refusal': None}, response_metadata={'token_usage': {'completion_tokens': 66, 'prompt_tokens': 1297, 'total_tokens': 1363, 'completion_tokens_details': {'accepted_prediction_tokens': 0, 'audio_tokens': 0, 'reasoning_tokens': 0, 'rejected_prediction_tokens': 0}, 'prompt_tokens_details': {'audio_tokens': 0, 'cached_tokens': 1152}}, 'model_name': 'gpt-4o-mini-2024-07-18', 'system_fingerprint': 'fp_00428b782a', 'finish_reason': 'stop', 'logprobs': None}, id='run-7d0ef7ae-07e4-42ec-8253-4bbd16598fed-0', usage_metadata={'input_tokens': 1297, 'output_tokens': 66, 'total_tokens': 1363, 'input_token_details': {'audio': 0, 'cache_read': 1152}, 'output_token_details': {'audio': 0, 'reasoning': 0}}), HumanMessage(content='랭체인에 대해서 뉴스 검색을 해주세요', additional_kwargs={}, response_metadata={}, id='1620ee61-96fa-4534-8810-a9bb454e545f'), AIMessage(content='', additional_kwargs={'tool_calls': [{'id': 'call_NOxMWkhoXPBoXILfzXb0gIui', 'function': {'arguments': '{\"query\":\"랭체인\"}', 'name': 'search_keyword'}, 'type': 'function'}], 'refusal': None}, response_metadata={'token_usage': {'completion_tokens': 18, 'prompt_tokens': 1380, 'total_tokens': 1398, 'completion_tokens_details': {'accepted_prediction_tokens': 0, 'audio_tokens': 0, 'reasoning_tokens': 0, 'rejected_prediction_tokens': 0}, 'prompt_tokens_details': {'audio_tokens': 0, 'cached_tokens': 0}}, 'model_name': 'gpt-4o-mini-2024-07-18', 'system_fingerprint': 'fp_00428b782a', 'finish_reason': 'tool_calls', 'logprobs': None}, id='run-1aa08811-4d42-47cd-9bbf-ea9d0ce3ce7e-0', tool_calls=[{'name': 'search_keyword', 'args': {'query': '랭체인'}, 'id': 'call_NOxMWkhoXPBoXILfzXb0gIui', 'type': 'tool_call'}], usage_metadata={'input_tokens': 1380, 'output_tokens': 18, 'total_tokens': 1398, 'input_token_details': {'audio': 0, 'cache_read': 0}, 'output_token_details': {'audio': 0, 'reasoning': 0}}), ToolMessage(content='[{\"url\": \"https://news.google.com/rss/articles/CBMiwgJBVV95cUxPM0hHcjNGR0RiT0M2QlplRlcxdjdYZE5WTk9zZ2lGVEIxd05hdktEbmRNNTBnLWJ1NEl3LWRPVTNfdFIxX1VOUURxdHdrWTdHOG9LQ3BrOUtWWUl1T0ZianhSckt1NGNtelAweTQ1LXpQTC1DVG50ZUVOOFV1VldBSEZvN2toemJuR3hfQXVfTXBKLVhzWDZMQ25kc1JQM1VnYTRFOTVYSmRFQWJGYWItdTJkNTdXaXlpYzY2dHg0aWM5WVlBQkFRb0N6WGNSWWdVaXhiY1ZXUGJuZ0dpVWtielpJQlV4dFAyZzB6Q2Z0Y1V6SjVZRU5QS0hsRUN0N19EbUc4RXFpV090M2ZZVjZUbS03cC13bFk1M0xrTnJMeHJUOC10dkctbGpJYnFRVHZfVXlQMU5nNDRUbndmbkFiZWFR?oc=5\", \"content\": \"구글, 데이터베이스용 ‘생성형 AI 툴박스’ 공개 베타 발표 \\\\\"랭체인과 협력\\\\\" - CIO.com\"}]', name='search_keyword', id='05144959-8bfa-47c5-8e74-4f3801352de4', tool_call_id='call_NOxMWkhoXPBoXILfzXb0gIui'), AIMessage(content=\"최근 뉴스에 따르면 구글이 데이터베이스용 '생성형 AI 툴박스'를 공개 베타로 발표하며 랭체인과 협력하고 있다는 소식이 있습니다. 자세한 내용은 [여기에서 확인하실 수 있습니다](https://news.google.com/rss/articles/CBMiwgJBVV95cUxPM0hHcjNGR0RiT0M2QlplRlcxdjdYZE5WTk9zZ2lGVEIxd05hdktEbmRNNTBnLWJ1NEl3LWRPVTNfdFIxX1VOUURxdHdrWTdHOG9LQ3BrOUtWWUl1T0ZianhSckt1NGNtelAweTQ1LXpQTC1DVG50ZUVOOFV1VldBSEZvN2toemJuR3hfQXVfTXBKLVhzWDZMQ25kc1JQM1VnYTRFOTVYSmRFQWJGYWItdTJkNTdXaXlpYzY2dHg0aWM5WVlBQkFRb0N6WGNSWWdVaXhiY1ZXUGJuZ0dpVWtielpJQlV4dFAyZzB6Q2Z0Y1V6SjVZRU5QS0hsRUN0N19EbUc4RXFpV090M2ZZVjZUbS03cC13bFk1M0xrTnJMeHJUOC10dkctbGpJYnFRVHZfVXlQMU5nNDRUbndmbkFiZWFR?oc=5).\", additional_kwargs={'refusal': None}, response_metadata={'token_usage': {'completion_tokens': 365, 'prompt_tokens': 1756, 'total_tokens': 2121, 'completion_tokens_details': {'accepted_prediction_tokens': 0, 'audio_tokens': 0, 'reasoning_tokens': 0, 'rejected_prediction_tokens': 0}, 'prompt_tokens_details': {'audio_tokens': 0, 'cached_tokens': 1280}}, 'model_name': 'gpt-4o-mini-2024-07-18', 'system_fingerprint': 'fp_00428b782a', 'finish_reason': 'stop', 'logprobs': None}, id='run-8a5f921a-5474-4984-bb4d-843963404ea4-0', usage_metadata={'input_tokens': 1756, 'output_tokens': 365, 'total_tokens': 2121, 'input_token_details': {'audio': 0, 'cache_read': 1280}, 'output_token_details': {'audio': 0, 'reasoning': 0}}), HumanMessage(content='랭체인에 대해서 웹 검색을 해주세요', additional_kwargs={}, response_metadata={}, id='1d42bfed-7d62-4497-a63a-bc908be285ac'), AIMessage(content='', additional_kwargs={'tool_calls': [{'id': 'call_eNeo3tdGmdO5ELiqJviFF1H4', 'function': {'arguments': '{\"query\":\"랭체인\"}', 'name': 'tavily_web_search'}, 'type': 'function'}], 'refusal': None}, response_metadata={'token_usage': {'completion_tokens': 21, 'prompt_tokens': 2138, 'total_tokens': 2159, 'completion_tokens_details': {'accepted_prediction_tokens': 0, 'audio_tokens': 0, 'reasoning_tokens': 0, 'rejected_prediction_tokens': 0}, 'prompt_tokens_details': {'audio_tokens': 0, 'cached_tokens': 2048}}, 'model_name': 'gpt-4o-mini-2024-07-18', 'system_fingerprint': 'fp_00428b782a', 'finish_reason': 'tool_calls', 'logprobs': None}, id='run-490b672e-12b8-4b29-a9a1-d92ac3a7084b-0', tool_calls=[{'name': 'tavily_web_search', 'args': {'query': '랭체인'}, 'id': 'call_eNeo3tdGmdO5ELiqJviFF1H4', 'type': 'tool_call'}], usage_metadata={'input_tokens': 2138, 'output_tokens': 21, 'total_tokens': 2159, 'input_token_details': {'audio': 0, 'cache_read': 2048}, 'output_token_details': {'audio': 0, 'reasoning': 0}}), ToolMessage(content='[{\"title\": \"랭체인 뜻? Llm 기반 6개 구성의 앱 생성 프레임워크\", \"url\": \"https://www.ktpdigitallife.com/랭체인-뜻과-개념-설명/\", \"content\": \"랭체인 뜻과 개념 알기. 랭체인 뜻(LangChain)은 거대언어모델(LLM, Large Language Model)을 기반으로 오픈 소스 형태로 출시한 앱(App) 생성을 위한 프레임워크를 의미합니다. 랭체인(LangChain)은 언어 모델을 기반으로 앱(App) 개발을 보다 편하고 빠르게 할 수 있도록 해주는 앱 생성 프레임워크입니다.\", \"score\": 0.8506799, \"raw_content\": null}]', name='tavily_web_search', id='03fec147-9838-463a-97a2-3fdbdc9980f1', tool_call_id='call_eNeo3tdGmdO5ELiqJviFF1H4')]\n",
      "\n",
      "[2] chatbot answer: \n",
      " 랭체인(LangChain)은 거대언어모델(LLM, Large Language Model)을 기반으로 한 오픈 소스 앱 생성 프레임워크입니다. 이 프레임워크는 언어 모델을 활용하여 앱 개발을 보다 편리하고 신속하게 할 수 있도록 돕습니다.\n",
      "\n",
      "자세한 내용은 [여기에서 확인하실 수 있습니다](https://www.ktpdigitallife.com/랭체인-뜻과-개념-설명/).\n",
      "[3] answer.additional_kwargs: \n",
      " {'refusal': None}\n",
      "=================================================================================\n",
      "[event] 실행 결과\n",
      "=================================================================================\n",
      "[value]: \n",
      "content='랭체인(LangChain)은 거대언어모델(LLM, Large Language Model)을 기반으로 한 오픈 소스 앱 생성 프레임워크입니다. 이 프레임워크는 언어 모델을 활용하여 앱 개발을 보다 편리하고 신속하게 할 수 있도록 돕습니다.\\n\\n자세한 내용은 [여기에서 확인하실 수 있습니다](https://www.ktpdigitallife.com/랭체인-뜻과-개념-설명/).' additional_kwargs={'refusal': None} response_metadata={'token_usage': {'completion_tokens': 108, 'prompt_tokens': 2338, 'total_tokens': 2446, 'completion_tokens_details': {'accepted_prediction_tokens': 0, 'audio_tokens': 0, 'reasoning_tokens': 0, 'rejected_prediction_tokens': 0}, 'prompt_tokens_details': {'audio_tokens': 0, 'cached_tokens': 2048}}, 'model_name': 'gpt-4o-mini-2024-07-18', 'system_fingerprint': 'fp_00428b782a', 'finish_reason': 'stop', 'logprobs': None} id='run-56851aec-0632-4716-8a44-cacabc015301-0' usage_metadata={'input_tokens': 2338, 'output_tokens': 108, 'total_tokens': 2446, 'input_token_details': {'audio': 0, 'cache_read': 2048}, 'output_token_details': {'audio': 0, 'reasoning': 0}}\n",
      "=================================================================================\n"
     ]
    }
   ],
   "source": [
    "question = ('랭체인에 대해서 웹 검색을 해주세요')\n",
    "\n",
    "for event in graph.stream({\"messages\": [(\"user\", question)]}, config=config):\n",
    "    \n",
    "    print('[event] 실행 결과')\n",
    "\n",
    "    for value in event.values():\n",
    "        print('=================================================================================')\n",
    "        print('[value]: ')\n",
    "        print(value['messages'][-1])\n",
    "        print('=================================================================================')"
   ]
  }
 ],
 "metadata": {
  "kernelspec": {
   "display_name": "venv",
   "language": "python",
   "name": "python3"
  },
  "language_info": {
   "codemirror_mode": {
    "name": "ipython",
    "version": 3
   },
   "file_extension": ".py",
   "mimetype": "text/x-python",
   "name": "python",
   "nbconvert_exporter": "python",
   "pygments_lexer": "ipython3",
   "version": "3.11.9"
  }
 },
 "nbformat": 4,
 "nbformat_minor": 2
}
