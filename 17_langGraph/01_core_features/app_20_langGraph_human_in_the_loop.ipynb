{
 "cells": [
  {
   "cell_type": "code",
   "execution_count": 32,
   "metadata": {},
   "outputs": [],
   "source": [
    "from dotenv import load_dotenv\n",
    "import os\n",
    "\n",
    "load_dotenv(verbose=True)\n",
    "key = os.getenv('OPENAI_API_KEY')"
   ]
  },
  {
   "cell_type": "code",
   "execution_count": 33,
   "metadata": {},
   "outputs": [],
   "source": [
    "from typing import Annotated, List, Dict\n",
    "from typing_extensions import TypedDict\n",
    "from langgraph.graph.message import add_messages\n",
    "\n",
    "from langgraph.graph import StateGraph \n",
    "from langgraph.graph import START, END\n",
    "\n",
    "from langgraph.prebuilt import ToolNode, tools_condition\n",
    "from langchain_core.tools import tool\n",
    "\n",
    "from langchain_teddynote.tools.tavily import TavilySearch\n",
    "from langchain_teddynote.tools import GoogleNews\n",
    "\n",
    "from langchain_teddynote.graphs import visualize_graph\n",
    "from langchain_teddynote.messages import display_message_tree\n",
    "from langchain_teddynote.messages import pretty_print_messages\n",
    "from langchain_core.runnables import RunnableConfig\n",
    "\n",
    "from langchain_core.messages import HumanMessage\n",
    "from langchain_core.messages import AIMessage, ToolMessage\n",
    "import json\n",
    "\n",
    "from langchain_openai import ChatOpenAI"
   ]
  },
  {
   "cell_type": "code",
   "execution_count": 59,
   "metadata": {},
   "outputs": [],
   "source": [
    "######### 1. 상태 정의 #########\n",
    "\n",
    "# 상태 정의\n",
    "class State(TypedDict):\n",
    "    messages: Annotated[list, add_messages]"
   ]
  },
  {
   "cell_type": "code",
   "execution_count": 60,
   "metadata": {},
   "outputs": [],
   "source": [
    "######### 2. 도구 정의 및 바인딩 #########\n",
    "\n",
    "@tool\n",
    "def search_keyword(query: str) -> List[Dict[str, str]]:     # 키워드로 뉴스 검색하는 도구     \n",
    "    \"\"\"Look up news by keyword\"\"\"\n",
    "\n",
    "    news_tool = GoogleNews()        \n",
    "    return news_tool.search_by_keyword(query, k=1)\n",
    "\n",
    "\n",
    "tools = [search_keyword]"
   ]
  },
  {
   "cell_type": "code",
   "execution_count": 36,
   "metadata": {},
   "outputs": [],
   "source": [
    "######### 3. LLM을 도구와 결합 #########\n",
    "\n",
    "llm = ChatOpenAI(\n",
    "    api_key=key, \n",
    "    model_name='gpt-4o-mini',\n",
    "    temperature=0.1\n",
    ")\n",
    "\n",
    "llm_with_tools = llm.bind_tools(tools)"
   ]
  },
  {
   "cell_type": "code",
   "execution_count": 37,
   "metadata": {},
   "outputs": [],
   "source": [
    "def chatbot(state: State):\n",
    "    print('===== chatbot() 함수 시작 =====')\n",
    "    \n",
    "    print(\"[1] chatbot() 으로 넘어온 메시지: \")\n",
    "\n",
    "    message_type1 = ''\n",
    "\n",
    "    for msg in state['messages']:\n",
    "        if isinstance(msg, HumanMessage):\n",
    "            message_type1 = message_type1 + '[HumanMessage]'\n",
    "        elif isinstance(msg, AIMessage):\n",
    "            message_type1 = message_type1 + '[AIMessage]'\n",
    "        elif isinstance(msg, ToolMessage):\n",
    "            message_type1 = message_type1 + '[ToolMessage]'\n",
    "        \n",
    "        print(f'메시지 타입: {message_type1}')\n",
    "        print(msg)\n",
    "        print()\n",
    "\n",
    "    print(f\"\\n[2] 메시지 개수 : {len(state['messages'])}\\n\")\n",
    "\n",
    "    answer = llm_with_tools.invoke(state['messages'])\n",
    "\n",
    "    # print(f'[도구 사용 LLM 실행 결과 content]: {answer.content}')\n",
    "    \n",
    "    print('[3] chatbot()에서 실행:')\n",
    "    print('메시지 타입: ', end='')\n",
    "\n",
    "    message_type2 = ''\n",
    "    if isinstance(answer, AIMessage):\n",
    "        message_type2 = message_type2 + '[AIMessage]'\n",
    "    elif isinstance(answer, HumanMessage):\n",
    "        message_type2 = message_type2 + '[HumanMessage]'\n",
    "    elif isinstance(answer, ToolMessage):\n",
    "        message_type2 = message_type2 + '[ToolMessage]'\n",
    "    else:\n",
    "        message_type2 = type(answer)\n",
    "\n",
    "    print(message_type2)\n",
    "    print(answer)\n",
    "    print()\n",
    "\n",
    "    answer_value = {'messages': [answer]}\n",
    "\n",
    "    print(f\"[4] chatbot()에서 실행 후 메시지 개수: {message_type1} {message_type2} {len(state['messages']) + len(answer_value)}\") \n",
    "    print('===== chatbot() 함수  끝 =====')\n",
    "    print()\n",
    "\n",
    "    return answer_value"
   ]
  },
  {
   "cell_type": "code",
   "execution_count": 38,
   "metadata": {},
   "outputs": [],
   "source": [
    "graph_builder = StateGraph(State)"
   ]
  },
  {
   "cell_type": "code",
   "execution_count": 39,
   "metadata": {},
   "outputs": [
    {
     "data": {
      "text/plain": [
       "<langgraph.graph.state.StateGraph at 0x2e2af9da590>"
      ]
     },
     "execution_count": 39,
     "metadata": {},
     "output_type": "execute_result"
    }
   ],
   "source": [
    "# chatbot 노드 추가\n",
    "graph_builder.add_node('chatbot', chatbot)"
   ]
  },
  {
   "cell_type": "code",
   "execution_count": 40,
   "metadata": {},
   "outputs": [],
   "source": [
    "# 도구 노드 생성\n",
    "tool_node = ToolNode(tools=[search_keyword])"
   ]
  },
  {
   "cell_type": "code",
   "execution_count": 41,
   "metadata": {},
   "outputs": [
    {
     "data": {
      "text/plain": [
       "<langgraph.graph.state.StateGraph at 0x2e2af9da590>"
      ]
     },
     "execution_count": 41,
     "metadata": {},
     "output_type": "execute_result"
    }
   ],
   "source": [
    "# 도구 노드 추가\n",
    "graph_builder.add_node('tools', tool_node)"
   ]
  },
  {
   "cell_type": "code",
   "execution_count": 42,
   "metadata": {},
   "outputs": [
    {
     "data": {
      "text/plain": [
       "<langgraph.graph.state.StateGraph at 0x2e2af9da590>"
      ]
     },
     "execution_count": 42,
     "metadata": {},
     "output_type": "execute_result"
    }
   ],
   "source": [
    "graph_builder.add_conditional_edges(\n",
    "    'chatbot',\n",
    "    tools_condition\n",
    ")"
   ]
  },
  {
   "cell_type": "code",
   "execution_count": 43,
   "metadata": {},
   "outputs": [
    {
     "data": {
      "text/plain": [
       "<langgraph.graph.state.StateGraph at 0x2e2af9da590>"
      ]
     },
     "execution_count": 43,
     "metadata": {},
     "output_type": "execute_result"
    }
   ],
   "source": [
    "######### 5. 엣지 추가 #########\n",
    "\n",
    "# tools 에서 chatbot 으로\n",
    "graph_builder.add_edge('tools', 'chatbot')"
   ]
  },
  {
   "cell_type": "code",
   "execution_count": 44,
   "metadata": {},
   "outputs": [
    {
     "data": {
      "text/plain": [
       "<langgraph.graph.state.StateGraph at 0x2e2af9da590>"
      ]
     },
     "execution_count": 44,
     "metadata": {},
     "output_type": "execute_result"
    }
   ],
   "source": [
    "# START 에서 chatbot 으로\n",
    "graph_builder.add_edge(START, 'chatbot')"
   ]
  },
  {
   "cell_type": "code",
   "execution_count": 45,
   "metadata": {},
   "outputs": [
    {
     "data": {
      "text/plain": [
       "<langgraph.graph.state.StateGraph at 0x2e2af9da590>"
      ]
     },
     "execution_count": 45,
     "metadata": {},
     "output_type": "execute_result"
    }
   ],
   "source": [
    "# chatbot 에서 END 로\n",
    "graph_builder.add_edge('chatbot', END)"
   ]
  },
  {
   "cell_type": "code",
   "execution_count": 46,
   "metadata": {},
   "outputs": [],
   "source": [
    "######### 6. 메모리 생성 #######\n",
    "\n",
    "from langgraph.checkpoint.memory import MemorySaver\n",
    "\n",
    "memory = MemorySaver()"
   ]
  },
  {
   "cell_type": "code",
   "execution_count": 47,
   "metadata": {},
   "outputs": [],
   "source": [
    "graph = graph_builder.compile(checkpointer=memory)"
   ]
  },
  {
   "cell_type": "code",
   "execution_count": 48,
   "metadata": {},
   "outputs": [],
   "source": [
    "######### 7. 그래프 컴파일 #######\n",
    "\n",
    "graph = graph_builder.compile(checkpointer=memory)"
   ]
  },
  {
   "cell_type": "code",
   "execution_count": 49,
   "metadata": {},
   "outputs": [
    {
     "data": {
      "image/png": "[encoded data removed]",
      "text/plain": [
       "<IPython.core.display.Image object>"
      ]
     },
     "metadata": {},
     "output_type": "display_data"
    }
   ],
   "source": [
    "######### 8. 그래프 #######\n",
    "\n",
    "visualize_graph(graph)"
   ]
  },
  {
   "cell_type": "code",
   "execution_count": 50,
   "metadata": {},
   "outputs": [
    {
     "name": "stdout",
     "output_type": "stream",
     "text": [
      "thread_id: b6f316\n",
      "\n",
      "========================= 여기서 시작 ====================\n",
      "[event] 바깥 for 시작 (1)\n",
      "\n",
      "실행한 노드 이름: messages\n",
      "해당 노드 값: \n",
      "\n",
      "[HumanMessage(content='AI 관련 최신 뉴스를 알려주세요.', additional_kwargs={}, response_metadata={}, id='86b62db2-7e1a-4bf1-a10f-4011bab43439')]\n",
      "바깥 for 끝\n",
      "========================= 여기서 끝 =========================\n",
      "\n",
      "===== chatbot() 함수 시작 =====\n",
      "[1] chatbot() 으로 넘어온 메시지: \n",
      "메시지 타입: [HumanMessage]\n",
      "content='AI 관련 최신 뉴스를 알려주세요.' additional_kwargs={} response_metadata={} id='86b62db2-7e1a-4bf1-a10f-4011bab43439'\n",
      "\n",
      "\n",
      "[2] 메시지 개수 : 1\n",
      "\n",
      "[3] chatbot()에서 실행:\n",
      "메시지 타입: [AIMessage]\n",
      "content='' additional_kwargs={'tool_calls': [{'id': 'call_rhbuj2D38nDRYIXouV77nvJR', 'function': {'arguments': '{\"query\":\"AI\"}', 'name': 'search_keyword'}, 'type': 'function'}], 'refusal': None} response_metadata={'token_usage': {'completion_tokens': 15, 'prompt_tokens': 51, 'total_tokens': 66, 'completion_tokens_details': {'accepted_prediction_tokens': 0, 'audio_tokens': 0, 'reasoning_tokens': 0, 'rejected_prediction_tokens': 0}, 'prompt_tokens_details': {'audio_tokens': 0, 'cached_tokens': 0}}, 'model_name': 'gpt-4o-mini-2024-07-18', 'system_fingerprint': 'fp_b8bc95a0ac', 'finish_reason': 'tool_calls', 'logprobs': None} id='run-da4fd07d-40a0-40ef-9518-21551cc1e3b2-0' tool_calls=[{'name': 'search_keyword', 'args': {'query': 'AI'}, 'id': 'call_rhbuj2D38nDRYIXouV77nvJR', 'type': 'tool_call'}] usage_metadata={'input_tokens': 51, 'output_tokens': 15, 'total_tokens': 66, 'input_token_details': {'audio': 0, 'cache_read': 0}, 'output_token_details': {'audio': 0, 'reasoning': 0}}\n",
      "\n",
      "[4] chatbot()에서 실행 후 메시지 개수: [HumanMessage] [AIMessage] 2\n",
      "===== chatbot() 함수  끝 =====\n",
      "\n",
      "\n",
      "========================= 여기서 시작 ====================\n",
      "[event] 바깥 for 시작 (2)\n",
      "\n",
      "실행한 노드 이름: messages\n",
      "해당 노드 값: \n",
      "\n",
      "[HumanMessage(content='AI 관련 최신 뉴스를 알려주세요.', additional_kwargs={}, response_metadata={}, id='86b62db2-7e1a-4bf1-a10f-4011bab43439'), AIMessage(content='', additional_kwargs={'tool_calls': [{'id': 'call_rhbuj2D38nDRYIXouV77nvJR', 'function': {'arguments': '{\"query\":\"AI\"}', 'name': 'search_keyword'}, 'type': 'function'}], 'refusal': None}, response_metadata={'token_usage': {'completion_tokens': 15, 'prompt_tokens': 51, 'total_tokens': 66, 'completion_tokens_details': {'accepted_prediction_tokens': 0, 'audio_tokens': 0, 'reasoning_tokens': 0, 'rejected_prediction_tokens': 0}, 'prompt_tokens_details': {'audio_tokens': 0, 'cached_tokens': 0}}, 'model_name': 'gpt-4o-mini-2024-07-18', 'system_fingerprint': 'fp_b8bc95a0ac', 'finish_reason': 'tool_calls', 'logprobs': None}, id='run-da4fd07d-40a0-40ef-9518-21551cc1e3b2-0', tool_calls=[{'name': 'search_keyword', 'args': {'query': 'AI'}, 'id': 'call_rhbuj2D38nDRYIXouV77nvJR', 'type': 'tool_call'}], usage_metadata={'input_tokens': 51, 'output_tokens': 15, 'total_tokens': 66, 'input_token_details': {'audio': 0, 'cache_read': 0}, 'output_token_details': {'audio': 0, 'reasoning': 0}})]\n",
      "바깥 for 끝\n",
      "========================= 여기서 끝 =========================\n",
      "\n",
      "전체 반복문 2번 실행\n"
     ]
    }
   ],
   "source": [
    "from langchain_teddynote.graphs import generate_random_hash\n",
    "from langchain_core.runnables import RunnableConfig\n",
    "\n",
    "thread_id = generate_random_hash()\n",
    "print(f\"thread_id: {thread_id}\")\n",
    "\n",
    "# config 설정\n",
    "config = RunnableConfig(\n",
    "    recursion_limit=10,             \n",
    "    configurable={\"thread_id\": thread_id}, \n",
    "    tags=[\"data-tag\"],                  \n",
    ")\n",
    "\n",
    "# 질문\n",
    "question = \"AI 관련 최신 뉴스를 알려주세요.\"\n",
    "\n",
    "# 초기 입력 State 를 정의\n",
    "input = State(messages=[(\"user\", question)])\n",
    "\n",
    "\n",
    "i = 1\n",
    "\n",
    "for event in graph.stream(\n",
    "    input=input, \n",
    "    config=config, \n",
    "    stream_mode=\"values\", \n",
    "    interrupt_before=[\"tools\"]\n",
    "):\n",
    "    print()\n",
    "    print('========================= 여기서 시작 ====================')\n",
    "    print(f'[event] 바깥 for 시작 ({i})')\n",
    "    print()\n",
    "\n",
    "    for k, value in event.items():\n",
    "        print(f'실행한 노드 이름: {k}')\n",
    "        print(f'해당 노드 값: \\n')\n",
    "        print(value)\n",
    "        \n",
    "        if value and \"dummy_data\" in value:\n",
    "            print('더미 데이터: ')\n",
    "            print(value[\"dummy_data\"])\n",
    "        \n",
    "        if value and 'messages' in value:\n",
    "\n",
    "            if isinstance(value['messages'][-1], HumanMessage):\n",
    "                print('==================== HumanMessage ========================')\n",
    "                print(f\"[해당 노드 값] content: {value['messages'][-1].content}\")\n",
    "                print('==================== END HumanMessage ====================')            \n",
    "            elif isinstance(value['messages'][-1], AIMessage):\n",
    "                print('==================== AIMessage ========================')\n",
    "                print(f\"[해당 노드 값] content: {value['messages'][-1].content}\")\n",
    "\n",
    "                if hasattr(value['messages'][-1], 'tool_calls') and len(value['messages'][-1].tool_calls) > 0:\n",
    "                    print('tool call 있음')\n",
    "                    tool_result = value['messages'][-1].tool_calls\n",
    "                    print(f\"도구 이름 : {tool_result[0]['name']}\")\n",
    "                    print(f\"도구 인자: {tool_result[0]['args']}\")            \n",
    "                else:\n",
    "                    print('tool call 없음')                \n",
    "                print('==================== END AIMessage ====================')\n",
    "            elif isinstance(value['messages'][-1], ToolMessage):\n",
    "                print('==================== ToolMessage ========================')\n",
    "                print(f\"[해당 노드 값] 도구 도구 이름 : {value['messages'][-1].name}\")\n",
    "\n",
    "                content = json.loads(value['messages'][-1].content)\n",
    "\n",
    "                if content and isinstance(content, list) and len(content) > 0:                \n",
    "                    print(f\"[해당 노드 값] 제목: {content[0].get('title', 'No title')}\")\n",
    "                    print(f\"[해당 노드 값] URL: {content[0].get('url', 'No URL')}\")\n",
    "                    print(f\"[해당 노드 값] 내용: {content[0].get('content', 'No URL')}\")                \n",
    "                else:\n",
    "                    print(\"No content or invalid content format in ToolMessage\")\n",
    "\n",
    "                print('==================== END ToolMessage ====================')\n",
    "\n",
    "\n",
    "    i=i+1\n",
    "\n",
    "    print('바깥 for 끝')\n",
    "    print('========================= 여기서 끝 =========================') \n",
    "    print()\n",
    "\n",
    "print(f'전체 반복문 {i-1}번 실행')  "
   ]
  },
  {
   "cell_type": "code",
   "execution_count": 51,
   "metadata": {},
   "outputs": [],
   "source": [
    "snapshot = graph.get_state(config)"
   ]
  },
  {
   "cell_type": "code",
   "execution_count": 52,
   "metadata": {},
   "outputs": [
    {
     "data": {
      "text/plain": [
       "{'messages': [HumanMessage(content='AI 관련 최신 뉴스를 알려주세요.', additional_kwargs={}, response_metadata={}, id='86b62db2-7e1a-4bf1-a10f-4011bab43439'),\n",
       "  AIMessage(content='', additional_kwargs={'tool_calls': [{'id': 'call_rhbuj2D38nDRYIXouV77nvJR', 'function': {'arguments': '{\"query\":\"AI\"}', 'name': 'search_keyword'}, 'type': 'function'}], 'refusal': None}, response_metadata={'token_usage': {'completion_tokens': 15, 'prompt_tokens': 51, 'total_tokens': 66, 'completion_tokens_details': {'accepted_prediction_tokens': 0, 'audio_tokens': 0, 'reasoning_tokens': 0, 'rejected_prediction_tokens': 0}, 'prompt_tokens_details': {'audio_tokens': 0, 'cached_tokens': 0}}, 'model_name': 'gpt-4o-mini-2024-07-18', 'system_fingerprint': 'fp_b8bc95a0ac', 'finish_reason': 'tool_calls', 'logprobs': None}, id='run-da4fd07d-40a0-40ef-9518-21551cc1e3b2-0', tool_calls=[{'name': 'search_keyword', 'args': {'query': 'AI'}, 'id': 'call_rhbuj2D38nDRYIXouV77nvJR', 'type': 'tool_call'}], usage_metadata={'input_tokens': 51, 'output_tokens': 15, 'total_tokens': 66, 'input_token_details': {'audio': 0, 'cache_read': 0}, 'output_token_details': {'audio': 0, 'reasoning': 0}})]}"
      ]
     },
     "execution_count": 52,
     "metadata": {},
     "output_type": "execute_result"
    }
   ],
   "source": [
    "snapshot.values"
   ]
  },
  {
   "cell_type": "code",
   "execution_count": 53,
   "metadata": {},
   "outputs": [
    {
     "data": {
      "text/plain": [
       "('tools',)"
      ]
     },
     "execution_count": 53,
     "metadata": {},
     "output_type": "execute_result"
    }
   ],
   "source": [
    "snapshot.next"
   ]
  },
  {
   "cell_type": "code",
   "execution_count": 54,
   "metadata": {},
   "outputs": [],
   "source": [
    "existing_message = snapshot.values['messages']"
   ]
  },
  {
   "cell_type": "code",
   "execution_count": 55,
   "metadata": {},
   "outputs": [
    {
     "data": {
      "text/plain": [
       "[HumanMessage(content='AI 관련 최신 뉴스를 알려주세요.', additional_kwargs={}, response_metadata={}, id='86b62db2-7e1a-4bf1-a10f-4011bab43439'),\n",
       " AIMessage(content='', additional_kwargs={'tool_calls': [{'id': 'call_rhbuj2D38nDRYIXouV77nvJR', 'function': {'arguments': '{\"query\":\"AI\"}', 'name': 'search_keyword'}, 'type': 'function'}], 'refusal': None}, response_metadata={'token_usage': {'completion_tokens': 15, 'prompt_tokens': 51, 'total_tokens': 66, 'completion_tokens_details': {'accepted_prediction_tokens': 0, 'audio_tokens': 0, 'reasoning_tokens': 0, 'rejected_prediction_tokens': 0}, 'prompt_tokens_details': {'audio_tokens': 0, 'cached_tokens': 0}}, 'model_name': 'gpt-4o-mini-2024-07-18', 'system_fingerprint': 'fp_b8bc95a0ac', 'finish_reason': 'tool_calls', 'logprobs': None}, id='run-da4fd07d-40a0-40ef-9518-21551cc1e3b2-0', tool_calls=[{'name': 'search_keyword', 'args': {'query': 'AI'}, 'id': 'call_rhbuj2D38nDRYIXouV77nvJR', 'type': 'tool_call'}], usage_metadata={'input_tokens': 51, 'output_tokens': 15, 'total_tokens': 66, 'input_token_details': {'audio': 0, 'cache_read': 0}, 'output_token_details': {'audio': 0, 'reasoning': 0}})]"
      ]
     },
     "execution_count": 55,
     "metadata": {},
     "output_type": "execute_result"
    }
   ],
   "source": [
    "existing_message"
   ]
  },
  {
   "cell_type": "code",
   "execution_count": 56,
   "metadata": {},
   "outputs": [
    {
     "data": {
      "text/plain": [
       "AIMessage(content='', additional_kwargs={'tool_calls': [{'id': 'call_rhbuj2D38nDRYIXouV77nvJR', 'function': {'arguments': '{\"query\":\"AI\"}', 'name': 'search_keyword'}, 'type': 'function'}], 'refusal': None}, response_metadata={'token_usage': {'completion_tokens': 15, 'prompt_tokens': 51, 'total_tokens': 66, 'completion_tokens_details': {'accepted_prediction_tokens': 0, 'audio_tokens': 0, 'reasoning_tokens': 0, 'rejected_prediction_tokens': 0}, 'prompt_tokens_details': {'audio_tokens': 0, 'cached_tokens': 0}}, 'model_name': 'gpt-4o-mini-2024-07-18', 'system_fingerprint': 'fp_b8bc95a0ac', 'finish_reason': 'tool_calls', 'logprobs': None}, id='run-da4fd07d-40a0-40ef-9518-21551cc1e3b2-0', tool_calls=[{'name': 'search_keyword', 'args': {'query': 'AI'}, 'id': 'call_rhbuj2D38nDRYIXouV77nvJR', 'type': 'tool_call'}], usage_metadata={'input_tokens': 51, 'output_tokens': 15, 'total_tokens': 66, 'input_token_details': {'audio': 0, 'cache_read': 0}, 'output_token_details': {'audio': 0, 'reasoning': 0}})"
      ]
     },
     "execution_count": 56,
     "metadata": {},
     "output_type": "execute_result"
    }
   ],
   "source": [
    "existing_message = snapshot.values['messages'][-1] \n",
    "existing_message"
   ]
  },
  {
   "cell_type": "code",
   "execution_count": 57,
   "metadata": {},
   "outputs": [
    {
     "name": "stdout",
     "output_type": "stream",
     "text": [
      "    \u001b[93mcontent\u001b[0m: \"\"\n",
      "    \u001b[93madditional_kwargs\u001b[0m:\n",
      "        \u001b[94mtool_calls\u001b[0m:\n",
      "            \u001b[94mindex [0]\u001b[0m\n",
      "                \u001b[92mid\u001b[0m: \"call_rhbuj2D38nDRYIXouV77nvJR\"\n",
      "                \u001b[92mfunction\u001b[0m: {\"arguments\": \"{\"query\":\"AI\"}\", \"name\": \"search_keyword\"}\n",
      "                \u001b[92mtype\u001b[0m: \"function\"\n",
      "        \u001b[94mrefusal\u001b[0m: None\n",
      "    \u001b[93mresponse_metadata\u001b[0m:\n",
      "        \u001b[94mtoken_usage\u001b[0m:\n",
      "            \u001b[95mcompletion_tokens\u001b[0m: 15\n",
      "            \u001b[95mprompt_tokens\u001b[0m: 51\n",
      "            \u001b[95mtotal_tokens\u001b[0m: 66\n",
      "            \u001b[95mcompletion_tokens_details\u001b[0m: {\"accepted_prediction_tokens\": 0, \"audio_tokens\": 0, \"reasoning_tokens\": 0, \"rejected_prediction_tokens\": 0}\n",
      "            \u001b[95mprompt_tokens_details\u001b[0m: {\"audio_tokens\": 0, \"cached_tokens\": 0}\n",
      "        \u001b[94mmodel_name\u001b[0m: \"gpt-4o-mini-2024-07-18\"\n",
      "        \u001b[94msystem_fingerprint\u001b[0m: \"fp_b8bc95a0ac\"\n",
      "        \u001b[94mfinish_reason\u001b[0m: \"tool_calls\"\n",
      "        \u001b[94mlogprobs\u001b[0m: None\n",
      "    \u001b[93mtype\u001b[0m: \"ai\"\n",
      "    \u001b[93mname\u001b[0m: None\n",
      "    \u001b[93mid\u001b[0m: \"run-da4fd07d-40a0-40ef-9518-21551cc1e3b2-0\"\n",
      "    \u001b[93mexample\u001b[0m: False\n",
      "    \u001b[93mtool_calls\u001b[0m:\n",
      "        \u001b[93mindex [0]\u001b[0m\n",
      "            \u001b[95mname\u001b[0m: \"search_keyword\"\n",
      "            \u001b[95margs\u001b[0m: {\"query\": \"AI\"}\n",
      "            \u001b[95mid\u001b[0m: \"call_rhbuj2D38nDRYIXouV77nvJR\"\n",
      "            \u001b[95mtype\u001b[0m: \"tool_call\"\n",
      "    \u001b[93minvalid_tool_calls\u001b[0m:\n",
      "    \u001b[93musage_metadata\u001b[0m:\n",
      "        \u001b[94minput_tokens\u001b[0m: 51\n",
      "        \u001b[94moutput_tokens\u001b[0m: 15\n",
      "        \u001b[94mtotal_tokens\u001b[0m: 66\n",
      "        \u001b[94minput_token_details\u001b[0m: {\"audio\": 0, \"cache_read\": 0}\n",
      "        \u001b[94moutput_token_details\u001b[0m: {\"audio\": 0, \"reasoning\": 0}\n"
     ]
    }
   ],
   "source": [
    "display_message_tree(existing_message)"
   ]
  },
  {
   "cell_type": "code",
   "execution_count": 58,
   "metadata": {},
   "outputs": [
    {
     "name": "stdout",
     "output_type": "stream",
     "text": [
      "\n",
      "========================= 여기서 시작 ====================\n",
      "[event] 바깥 for 시작 (1)\n",
      "\n",
      "실행한 노드 이름: messages\n",
      "해당 노드 값: \n",
      "\n",
      "[HumanMessage(content='AI 관련 최신 뉴스를 알려주세요.', additional_kwargs={}, response_metadata={}, id='86b62db2-7e1a-4bf1-a10f-4011bab43439'), AIMessage(content='', additional_kwargs={'tool_calls': [{'id': 'call_rhbuj2D38nDRYIXouV77nvJR', 'function': {'arguments': '{\"query\":\"AI\"}', 'name': 'search_keyword'}, 'type': 'function'}], 'refusal': None}, response_metadata={'token_usage': {'completion_tokens': 15, 'prompt_tokens': 51, 'total_tokens': 66, 'completion_tokens_details': {'accepted_prediction_tokens': 0, 'audio_tokens': 0, 'reasoning_tokens': 0, 'rejected_prediction_tokens': 0}, 'prompt_tokens_details': {'audio_tokens': 0, 'cached_tokens': 0}}, 'model_name': 'gpt-4o-mini-2024-07-18', 'system_fingerprint': 'fp_b8bc95a0ac', 'finish_reason': 'tool_calls', 'logprobs': None}, id='run-da4fd07d-40a0-40ef-9518-21551cc1e3b2-0', tool_calls=[{'name': 'search_keyword', 'args': {'query': 'AI'}, 'id': 'call_rhbuj2D38nDRYIXouV77nvJR', 'type': 'tool_call'}], usage_metadata={'input_tokens': 51, 'output_tokens': 15, 'total_tokens': 66, 'input_token_details': {'audio': 0, 'cache_read': 0}, 'output_token_details': {'audio': 0, 'reasoning': 0}})]\n",
      "바깥 for 끝\n",
      "========================= 여기서 끝 =========================\n",
      "\n",
      "\n",
      "========================= 여기서 시작 ====================\n",
      "[event] 바깥 for 시작 (2)\n",
      "\n",
      "실행한 노드 이름: messages\n",
      "해당 노드 값: \n",
      "\n",
      "[HumanMessage(content='AI 관련 최신 뉴스를 알려주세요.', additional_kwargs={}, response_metadata={}, id='86b62db2-7e1a-4bf1-a10f-4011bab43439'), AIMessage(content='', additional_kwargs={'tool_calls': [{'id': 'call_rhbuj2D38nDRYIXouV77nvJR', 'function': {'arguments': '{\"query\":\"AI\"}', 'name': 'search_keyword'}, 'type': 'function'}], 'refusal': None}, response_metadata={'token_usage': {'completion_tokens': 15, 'prompt_tokens': 51, 'total_tokens': 66, 'completion_tokens_details': {'accepted_prediction_tokens': 0, 'audio_tokens': 0, 'reasoning_tokens': 0, 'rejected_prediction_tokens': 0}, 'prompt_tokens_details': {'audio_tokens': 0, 'cached_tokens': 0}}, 'model_name': 'gpt-4o-mini-2024-07-18', 'system_fingerprint': 'fp_b8bc95a0ac', 'finish_reason': 'tool_calls', 'logprobs': None}, id='run-da4fd07d-40a0-40ef-9518-21551cc1e3b2-0', tool_calls=[{'name': 'search_keyword', 'args': {'query': 'AI'}, 'id': 'call_rhbuj2D38nDRYIXouV77nvJR', 'type': 'tool_call'}], usage_metadata={'input_tokens': 51, 'output_tokens': 15, 'total_tokens': 66, 'input_token_details': {'audio': 0, 'cache_read': 0}, 'output_token_details': {'audio': 0, 'reasoning': 0}}), ToolMessage(content='[{\"url\": \"https://news.google.com/rss/articles/CBMiakFVX3lxTE93OXFUTFc4UEUzX1dDRllmbVd4LWpESnI4aFQ1NWczUXRNM2oyLVpmZUluYXhpMDV3TWVBeWwyQ0FEYnY3SjVidUVoMHViemM5dmNnVEFHWFFONG5CM2NPQ3U3cnhGNFlQZ2c?oc=5\", \"content\": \"유발 하라리 “인간은 알고리즘 속도를 늦춰야...AI 패권 경쟁 아닌 인간성에 집중” - AI타임스\"}]', name='search_keyword', id='a4ce7cc8-5a8a-47b1-adad-7e869331cee6', tool_call_id='call_rhbuj2D38nDRYIXouV77nvJR')]\n",
      "바깥 for 끝\n",
      "========================= 여기서 끝 =========================\n",
      "\n",
      "===== chatbot() 함수 시작 =====\n",
      "[1] chatbot() 으로 넘어온 메시지: \n",
      "메시지 타입: [HumanMessage]\n",
      "content='AI 관련 최신 뉴스를 알려주세요.' additional_kwargs={} response_metadata={} id='86b62db2-7e1a-4bf1-a10f-4011bab43439'\n",
      "\n",
      "메시지 타입: [HumanMessage][AIMessage]\n",
      "content='' additional_kwargs={'tool_calls': [{'id': 'call_rhbuj2D38nDRYIXouV77nvJR', 'function': {'arguments': '{\"query\":\"AI\"}', 'name': 'search_keyword'}, 'type': 'function'}], 'refusal': None} response_metadata={'token_usage': {'completion_tokens': 15, 'prompt_tokens': 51, 'total_tokens': 66, 'completion_tokens_details': {'accepted_prediction_tokens': 0, 'audio_tokens': 0, 'reasoning_tokens': 0, 'rejected_prediction_tokens': 0}, 'prompt_tokens_details': {'audio_tokens': 0, 'cached_tokens': 0}}, 'model_name': 'gpt-4o-mini-2024-07-18', 'system_fingerprint': 'fp_b8bc95a0ac', 'finish_reason': 'tool_calls', 'logprobs': None} id='run-da4fd07d-40a0-40ef-9518-21551cc1e3b2-0' tool_calls=[{'name': 'search_keyword', 'args': {'query': 'AI'}, 'id': 'call_rhbuj2D38nDRYIXouV77nvJR', 'type': 'tool_call'}] usage_metadata={'input_tokens': 51, 'output_tokens': 15, 'total_tokens': 66, 'input_token_details': {'audio': 0, 'cache_read': 0}, 'output_token_details': {'audio': 0, 'reasoning': 0}}\n",
      "\n",
      "메시지 타입: [HumanMessage][AIMessage][ToolMessage]\n",
      "content='[{\"url\": \"https://news.google.com/rss/articles/CBMiakFVX3lxTE93OXFUTFc4UEUzX1dDRllmbVd4LWpESnI4aFQ1NWczUXRNM2oyLVpmZUluYXhpMDV3TWVBeWwyQ0FEYnY3SjVidUVoMHViemM5dmNnVEFHWFFONG5CM2NPQ3U3cnhGNFlQZ2c?oc=5\", \"content\": \"유발 하라리 “인간은 알고리즘 속도를 늦춰야...AI 패권 경쟁 아닌 인간성에 집중” - AI타임스\"}]' name='search_keyword' id='a4ce7cc8-5a8a-47b1-adad-7e869331cee6' tool_call_id='call_rhbuj2D38nDRYIXouV77nvJR'\n",
      "\n",
      "\n",
      "[2] 메시지 개수 : 3\n",
      "\n",
      "[3] chatbot()에서 실행:\n",
      "메시지 타입: [AIMessage]\n",
      "content='최신 AI 관련 뉴스는 다음과 같습니다:\\n\\n- **제목**: 유발 하라리 “인간은 알고리즘 속도를 늦춰야...AI 패권 경쟁 아닌 인간성에 집중”\\n  - **출처**: AI타임스\\n  - **링크**: [기사 읽기](https://news.google.com/rss/articles/CBMiakFVX3lxTE93OXFUTFc4UEUzX1dDRllmbVd4LWpESnI4aFQ1NWczUXRNM2oyLVpmZUluYXhpMDV3TWVBeWwyQ0FEYnY3SjVidUVoMHViemM5dmNnVEFHWFFONG5CM2NPQ3U3cnhGNFlQZ2c?oc=5)\\n\\n이 기사는 유발 하라리의 의견을 다루고 있으며, AI의 발전 속도와 인간성에 대한 논의가 포함되어 있습니다.' additional_kwargs={'refusal': None} response_metadata={'token_usage': {'completion_tokens': 212, 'prompt_tokens': 226, 'total_tokens': 438, 'completion_tokens_details': {'accepted_prediction_tokens': 0, 'audio_tokens': 0, 'reasoning_tokens': 0, 'rejected_prediction_tokens': 0}, 'prompt_tokens_details': {'audio_tokens': 0, 'cached_tokens': 0}}, 'model_name': 'gpt-4o-mini-2024-07-18', 'system_fingerprint': 'fp_b8bc95a0ac', 'finish_reason': 'stop', 'logprobs': None} id='run-b1f65ef7-1df7-4a87-8341-a74730f8103f-0' usage_metadata={'input_tokens': 226, 'output_tokens': 212, 'total_tokens': 438, 'input_token_details': {'audio': 0, 'cache_read': 0}, 'output_token_details': {'audio': 0, 'reasoning': 0}}\n",
      "\n",
      "[4] chatbot()에서 실행 후 메시지 개수: [HumanMessage][AIMessage][ToolMessage] [AIMessage] 4\n",
      "===== chatbot() 함수  끝 =====\n",
      "\n",
      "\n",
      "========================= 여기서 시작 ====================\n",
      "[event] 바깥 for 시작 (3)\n",
      "\n",
      "실행한 노드 이름: messages\n",
      "해당 노드 값: \n",
      "\n",
      "[HumanMessage(content='AI 관련 최신 뉴스를 알려주세요.', additional_kwargs={}, response_metadata={}, id='86b62db2-7e1a-4bf1-a10f-4011bab43439'), AIMessage(content='', additional_kwargs={'tool_calls': [{'id': 'call_rhbuj2D38nDRYIXouV77nvJR', 'function': {'arguments': '{\"query\":\"AI\"}', 'name': 'search_keyword'}, 'type': 'function'}], 'refusal': None}, response_metadata={'token_usage': {'completion_tokens': 15, 'prompt_tokens': 51, 'total_tokens': 66, 'completion_tokens_details': {'accepted_prediction_tokens': 0, 'audio_tokens': 0, 'reasoning_tokens': 0, 'rejected_prediction_tokens': 0}, 'prompt_tokens_details': {'audio_tokens': 0, 'cached_tokens': 0}}, 'model_name': 'gpt-4o-mini-2024-07-18', 'system_fingerprint': 'fp_b8bc95a0ac', 'finish_reason': 'tool_calls', 'logprobs': None}, id='run-da4fd07d-40a0-40ef-9518-21551cc1e3b2-0', tool_calls=[{'name': 'search_keyword', 'args': {'query': 'AI'}, 'id': 'call_rhbuj2D38nDRYIXouV77nvJR', 'type': 'tool_call'}], usage_metadata={'input_tokens': 51, 'output_tokens': 15, 'total_tokens': 66, 'input_token_details': {'audio': 0, 'cache_read': 0}, 'output_token_details': {'audio': 0, 'reasoning': 0}}), ToolMessage(content='[{\"url\": \"https://news.google.com/rss/articles/CBMiakFVX3lxTE93OXFUTFc4UEUzX1dDRllmbVd4LWpESnI4aFQ1NWczUXRNM2oyLVpmZUluYXhpMDV3TWVBeWwyQ0FEYnY3SjVidUVoMHViemM5dmNnVEFHWFFONG5CM2NPQ3U3cnhGNFlQZ2c?oc=5\", \"content\": \"유발 하라리 “인간은 알고리즘 속도를 늦춰야...AI 패권 경쟁 아닌 인간성에 집중” - AI타임스\"}]', name='search_keyword', id='a4ce7cc8-5a8a-47b1-adad-7e869331cee6', tool_call_id='call_rhbuj2D38nDRYIXouV77nvJR'), AIMessage(content='최신 AI 관련 뉴스는 다음과 같습니다:\\n\\n- **제목**: 유발 하라리 “인간은 알고리즘 속도를 늦춰야...AI 패권 경쟁 아닌 인간성에 집중”\\n  - **출처**: AI타임스\\n  - **링크**: [기사 읽기](https://news.google.com/rss/articles/CBMiakFVX3lxTE93OXFUTFc4UEUzX1dDRllmbVd4LWpESnI4aFQ1NWczUXRNM2oyLVpmZUluYXhpMDV3TWVBeWwyQ0FEYnY3SjVidUVoMHViemM5dmNnVEFHWFFONG5CM2NPQ3U3cnhGNFlQZ2c?oc=5)\\n\\n이 기사는 유발 하라리의 의견을 다루고 있으며, AI의 발전 속도와 인간성에 대한 논의가 포함되어 있습니다.', additional_kwargs={'refusal': None}, response_metadata={'token_usage': {'completion_tokens': 212, 'prompt_tokens': 226, 'total_tokens': 438, 'completion_tokens_details': {'accepted_prediction_tokens': 0, 'audio_tokens': 0, 'reasoning_tokens': 0, 'rejected_prediction_tokens': 0}, 'prompt_tokens_details': {'audio_tokens': 0, 'cached_tokens': 0}}, 'model_name': 'gpt-4o-mini-2024-07-18', 'system_fingerprint': 'fp_b8bc95a0ac', 'finish_reason': 'stop', 'logprobs': None}, id='run-b1f65ef7-1df7-4a87-8341-a74730f8103f-0', usage_metadata={'input_tokens': 226, 'output_tokens': 212, 'total_tokens': 438, 'input_token_details': {'audio': 0, 'cache_read': 0}, 'output_token_details': {'audio': 0, 'reasoning': 0}})]\n",
      "바깥 for 끝\n",
      "========================= 여기서 끝 =========================\n",
      "\n",
      "전체 반복문 3번 실행\n"
     ]
    }
   ],
   "source": [
    "# `None`는 현재 상태에 아무것도 추가하지 않음\n",
    "events = graph.stream(None, config, stream_mode=\"values\")\n",
    "\n",
    "i = 1\n",
    "\n",
    "for event in events:\n",
    "    print()\n",
    "    print('========================= 여기서 시작 ====================')\n",
    "    print(f'[event] 바깥 for 시작 ({i})')\n",
    "    print()\n",
    "\n",
    "    for k, value in event.items():\n",
    "        print(f'실행한 노드 이름: {k}')\n",
    "        print(f'해당 노드 값: \\n')\n",
    "        print(value)\n",
    "        \n",
    "        if value and \"dummy_data\" in value:\n",
    "            print('더미 데이터: ')\n",
    "            print(value[\"dummy_data\"])\n",
    "        \n",
    "        if value and 'messages' in value:\n",
    "\n",
    "            if isinstance(value['messages'][-1], HumanMessage):\n",
    "                print('==================== HumanMessage ========================')\n",
    "                print(f\"[해당 노드 값] content: {value['messages'][-1].content}\")\n",
    "                print('==================== END HumanMessage ====================')            \n",
    "            elif isinstance(value['messages'][-1], AIMessage):\n",
    "                print('==================== AIMessage ========================')\n",
    "                print(f\"[해당 노드 값] content: {value['messages'][-1].content}\")\n",
    "\n",
    "                if hasattr(value['messages'][-1], 'tool_calls') and len(value['messages'][-1].tool_calls) > 0:\n",
    "                    print('tool call 있음')\n",
    "                    tool_result = value['messages'][-1].tool_calls\n",
    "                    print(f\"도구 이름 : {tool_result[0]['name']}\")\n",
    "                    print(f\"도구 인자: {tool_result[0]['args']}\")            \n",
    "                else:\n",
    "                    print('tool call 없음')                \n",
    "                print('==================== END AIMessage ====================')\n",
    "            elif isinstance(value['messages'][-1], ToolMessage):\n",
    "                print('==================== ToolMessage ========================')\n",
    "                print(f\"[해당 노드 값] 도구 도구 이름 : {value['messages'][-1].name}\")\n",
    "\n",
    "                content = json.loads(value['messages'][-1].content)\n",
    "\n",
    "                if content and isinstance(content, list) and len(content) > 0:                \n",
    "                    print(f\"[해당 노드 값] 제목: {content[0].get('title', 'No title')}\")\n",
    "                    print(f\"[해당 노드 값] URL: {content[0].get('url', 'No URL')}\")\n",
    "                    print(f\"[해당 노드 값] 내용: {content[0].get('content', 'No URL')}\")                \n",
    "                else:\n",
    "                    print(\"No content or invalid content format in ToolMessage\")\n",
    "\n",
    "                print('==================== END ToolMessage ====================')\n",
    "\n",
    "\n",
    "    i=i+1\n",
    "\n",
    "    print('바깥 for 끝')\n",
    "    print('========================= 여기서 끝 =========================') \n",
    "    print()\n",
    "\n",
    "print(f'전체 반복문 {i-1}번 실행')  "
   ]
  }
 ],
 "metadata": {
  "kernelspec": {
   "display_name": "venv",
   "language": "python",
   "name": "python3"
  },
  "language_info": {
   "codemirror_mode": {
    "name": "ipython",
    "version": 3
   },
   "file_extension": ".py",
   "mimetype": "text/x-python",
   "name": "python",
   "nbconvert_exporter": "python",
   "pygments_lexer": "ipython3",
   "version": "3.11.9"
  }
 },
 "nbformat": 4,
 "nbformat_minor": 2
}
