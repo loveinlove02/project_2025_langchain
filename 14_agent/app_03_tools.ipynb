{
 "cells": [
  {
   "cell_type": "code",
   "execution_count": 1,
   "metadata": {},
   "outputs": [],
   "source": [
    "from dotenv import load_dotenv\n",
    "import os\n",
    "\n",
    "load_dotenv(verbose=True)\n",
    "key = os.getenv('OPENAI_API_KEY')"
   ]
  },
  {
   "cell_type": "markdown",
   "metadata": {},
   "source": [
    "### 도구 만들기\n",
    "\n",
    "함수를 작성하고 langchain.tools 모듈에서 제공하는 tool 데코레이터를 사용해서 도구로 변환합니다. "
   ]
  },
  {
   "cell_type": "code",
   "execution_count": 2,
   "metadata": {},
   "outputs": [],
   "source": [
    "from langchain.tools import tool\n",
    "\n",
    "@tool\n",
    "def add_numbers(a: int, b: int) -> int:    \n",
    "    \"\"\"Add two numbers\"\"\"\n",
    "\n",
    "    return a + b\n",
    "\n",
    "@tool\n",
    "def multiply_numbers(a: int, b: int) -> int:\n",
    "    \"\"\"Multiply two numbers\"\"\"\n",
    "    \n",
    "    return a * b"
   ]
  },
  {
   "cell_type": "code",
   "execution_count": 3,
   "metadata": {},
   "outputs": [
    {
     "data": {
      "text/plain": [
       "11"
      ]
     },
     "execution_count": 3,
     "metadata": {},
     "output_type": "execute_result"
    }
   ],
   "source": [
    "# 도구 실행\n",
    "add_numbers.invoke({'a': 5, 'b': 6})"
   ]
  },
  {
   "cell_type": "code",
   "execution_count": 5,
   "metadata": {},
   "outputs": [
    {
     "data": {
      "text/plain": [
       "10"
      ]
     },
     "execution_count": 5,
     "metadata": {},
     "output_type": "execute_result"
    }
   ],
   "source": [
    "# 도구 실행\n",
    "multiply_numbers.invoke({'a': 2, 'b': 5})"
   ]
  },
  {
   "cell_type": "markdown",
   "metadata": {},
   "source": [
    "### 구글 뉴스기사 검색"
   ]
  },
  {
   "cell_type": "code",
   "execution_count": 6,
   "metadata": {},
   "outputs": [],
   "source": [
    "from langchain_teddynote.tools import GoogleNews\n",
    "\n",
    "news_tool = GoogleNews()"
   ]
  },
  {
   "cell_type": "code",
   "execution_count": null,
   "metadata": {},
   "outputs": [
    {
     "data": {
      "text/plain": [
       "[{'url': 'https://news.google.com/rss/articles/CBMihgFBVV95cUxQX2IwV0tSTlByenZJZFZCMzEySWFIdU12VGlPZ1l0MWJyNGVkVG5sbWZPdGFfbW0xcHRGN1FRVGlCTDZuOUpGc3h2NUxlNW9UYVgxY2dFU1hFWUpyNDFtdTQ0cDdpWnl1akZhOWJHcmtXMGpUQXFDSDI2U2E3b2Z1SXJGeEFvZ9IBmgFBVV95cUxOdkNQcXp5dFFPRGs0QlJXNUpfNkJoWVJPczN0dTZ3OThmWVBkTE4wcHZNdE1KSmRLMlVUcF9LaVctdTkxZVdRdmVyc3FQZHlGclJKaUpZRGJJc3NUc2tBYV80UkYyaDRuUFlpWmtuZUU3MnJ2YlpPSWs3WTBMTFFpUDkxX0IwbnVkcjV4Zl9sYk1wdkNPbllqZ25B?oc=5',\n",
       "  'content': '“이렇게 예쁜데, 어떻게 보내요” 초등생 빈소 찾은 교사들 오열 - 조선일보'},\n",
       " {'url': 'https://news.google.com/rss/articles/CBMickFVX3lxTE95bzk0QzNPX2VIWDRGLTNPdXUxR3FVNDdiMUlONlp4LUJJYnFmejZ2dERPZjFzRUhUd0s4QS1LSjdZWG1UV3hidzZnOTBnOU5iRTRvY0s5dXVramd2a3FZUjEzZWVObzVETHlkS3hhNmljUQ?oc=5',\n",
       "  'content': '윤석열 “연설 때 야당 박수 한번 안 치더라”…계엄 이유 강변 - 한겨레'}]"
      ]
     },
     "execution_count": 7,
     "metadata": {},
     "output_type": "execute_result"
    }
   ],
   "source": [
    "news_tool.search_latest(k=2)                    # 최신 뉴스 검색"
   ]
  },
  {
   "cell_type": "code",
   "execution_count": 8,
   "metadata": {},
   "outputs": [
    {
     "data": {
      "text/plain": [
       "[{'url': 'https://news.google.com/rss/articles/CBMibkFVX3lxTE1qMC1EYjRZOEpMNVBEVVpSNm1BX3A4a3FrdmEyOTdDNWdjMGR1ZEgzWlpHZnRFZ1pSUXdKa3JnOXBQZU5qU3dKS3Q5VUNwLVZxRFZmbG1SZzJVSUoyM2lJbnZRbzhYYUJJcnFHWmp3?oc=5',\n",
       "  'content': '랭체인 LangChain 이란 무엇인가? | 인사이트리포트 | 삼성SDS - Samsung SDS'},\n",
       " {'url': 'https://news.google.com/rss/articles/CBMiWkFVX3lxTFBDZkNrNFNhbGgwZ3c0b2w1ak91bU43YVpmLWEyUXZ1RS1BelZQX3YxY0FxbDhFZF9oR0pMY0pLeld3THkxQV9tel80Mzh6ZEg3OG1YY0hLX3JBUQ?oc=5',\n",
       "  'content': '10분 만에 랭체인 이해하기 - 요즘IT'}]"
      ]
     },
     "execution_count": 8,
     "metadata": {},
     "output_type": "execute_result"
    }
   ],
   "source": [
    "news_tool.search_by_keyword('랭체인', k=2)      # 키워드 검색"
   ]
  },
  {
   "cell_type": "markdown",
   "metadata": {},
   "source": [
    "### 구글 뉴스기사 검색 도구"
   ]
  },
  {
   "cell_type": "code",
   "execution_count": 9,
   "metadata": {},
   "outputs": [],
   "source": [
    "from langchain_teddynote.tools import GoogleNews\n",
    "from langchain.tools import tool\n",
    "from typing import List, Dict\n",
    "\n",
    "@tool\n",
    "def search_keyword(query: str) -> List[Dict[str, str]]:     \n",
    "    \"\"\"Look up news by keyword\"\"\"\n",
    "\n",
    "    print(f'검색어: {query}')\n",
    "\n",
    "    news_tool = GoogleNews()\n",
    "\n",
    "    return news_tool.search_by_keyword(query, k=2)"
   ]
  },
  {
   "cell_type": "code",
   "execution_count": 10,
   "metadata": {},
   "outputs": [
    {
     "name": "stdout",
     "output_type": "stream",
     "text": [
      "검색어: 랭체인\n"
     ]
    },
    {
     "data": {
      "text/plain": [
       "[{'url': 'https://news.google.com/rss/articles/CBMibkFVX3lxTE1qMC1EYjRZOEpMNVBEVVpSNm1BX3A4a3FrdmEyOTdDNWdjMGR1ZEgzWlpHZnRFZ1pSUXdKa3JnOXBQZU5qU3dKS3Q5VUNwLVZxRFZmbG1SZzJVSUoyM2lJbnZRbzhYYUJJcnFHWmp3?oc=5',\n",
       "  'content': '랭체인 LangChain 이란 무엇인가? | 인사이트리포트 | 삼성SDS - Samsung SDS'},\n",
       " {'url': 'https://news.google.com/rss/articles/CBMiWkFVX3lxTFBDZkNrNFNhbGgwZ3c0b2w1ak91bU43YVpmLWEyUXZ1RS1BelZQX3YxY0FxbDhFZF9oR0pMY0pLeld3THkxQV9tel80Mzh6ZEg3OG1YY0hLX3JBUQ?oc=5',\n",
       "  'content': '10분 만에 랭체인 이해하기 - 요즘IT'}]"
      ]
     },
     "execution_count": 10,
     "metadata": {},
     "output_type": "execute_result"
    }
   ],
   "source": [
    "search_keyword.invoke({'query': '랭체인'})"
   ]
  }
 ],
 "metadata": {
  "kernelspec": {
   "display_name": "venv",
   "language": "python",
   "name": "python3"
  },
  "language_info": {
   "codemirror_mode": {
    "name": "ipython",
    "version": 3
   },
   "file_extension": ".py",
   "mimetype": "text/x-python",
   "name": "python",
   "nbconvert_exporter": "python",
   "pygments_lexer": "ipython3",
   "version": "3.11.9"
  }
 },
 "nbformat": 4,
 "nbformat_minor": 2
}
