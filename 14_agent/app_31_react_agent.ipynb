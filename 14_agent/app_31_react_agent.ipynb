{
 "cells": [
  {
   "cell_type": "code",
   "execution_count": 1,
   "id": "01b09c95",
   "metadata": {},
   "outputs": [],
   "source": [
    "from dotenv import load_dotenv\n",
    "import os\n",
    "\n",
    "load_dotenv(verbose=True)\n",
    "key = os.getenv('OPENAI_API_KEY')"
   ]
  },
  {
   "cell_type": "code",
   "execution_count": 6,
   "id": "5f112167",
   "metadata": {},
   "outputs": [],
   "source": [
    "from langchain_openai import ChatOpenAI\n",
    "from langchain_core.prompts import PromptTemplate\n",
    "from langchain_core.messages import HumanMessage\n",
    "from langgraph.checkpoint.memory import MemorySaver"
   ]
  },
  {
   "cell_type": "code",
   "execution_count": 4,
   "id": "a124fb3e",
   "metadata": {},
   "outputs": [],
   "source": [
    "from langchain_teddynote.tools.tavily import TavilySearch\n",
    "from langchain_community.agent_toolkits import FileManagementToolkit"
   ]
  },
  {
   "cell_type": "code",
   "execution_count": 5,
   "id": "579ec6e7",
   "metadata": {},
   "outputs": [],
   "source": [
    "from langchain.text_splitter import RecursiveCharacterTextSplitter\n",
    "from langchain_community.vectorstores import FAISS\n",
    "from langchain_openai import OpenAIEmbeddings\n",
    "from langchain.document_loaders import PyMuPDFLoader"
   ]
  },
  {
   "cell_type": "code",
   "execution_count": 8,
   "id": "b79bc3cf",
   "metadata": {},
   "outputs": [],
   "source": [
    "from langchain.tools.retriever import create_retriever_tool\n",
    "from langgraph.prebuilt import create_react_agent"
   ]
  },
  {
   "cell_type": "code",
   "execution_count": 9,
   "id": "019bbd6e",
   "metadata": {},
   "outputs": [],
   "source": [
    "# 메모리 설정\n",
    "memory = MemorySaver()\n",
    "\n",
    "# 모델 설정\n",
    "llm = ChatOpenAI(\n",
    "    api_key=key, \n",
    "    model='gpt-4o-mini', \n",
    "    temperature=0\n",
    ")"
   ]
  },
  {
   "cell_type": "code",
   "execution_count": null,
   "id": "0820c6c1",
   "metadata": {},
   "outputs": [],
   "source": [
    "web_search = TavilySearch(\n",
    "    topic=\"general\",        # 뉴스 주제 (general 또는 news)\n",
    "    max_results=5,          # 최대 검색 결과\n",
    "    include_answer=False,\n",
    "    include_raw_content=False,\n",
    "    include_images=False,\n",
    "    format_output=False,  # 결과 포맷팅\n",
    ")\n",
    "\n",
    "web_search.name = \"web_search\"\n",
    "web_search.description = (\n",
    "    \"Use this tool to search on the web for any topic other than news.\"\n",
    ")"
   ]
  },
  {
   "cell_type": "code",
   "execution_count": 13,
   "id": "32ebc2bf",
   "metadata": {},
   "outputs": [
    {
     "data": {
      "text/plain": [
       "[{'title': '단일화 추진 기구 내일 출범…김 \"넓은 폭 참여\" 한 \"당에 일임\" | Kbs 뉴스',\n",
       "  'url': 'https://news.kbs.co.kr/news/view.do?ncd=8245142',\n",
       "  'content': \"[앵커] 김문수, 한덕수 두 후보 간 단일화 협상에 본격 시동이 걸렸습니다. 국민의 힘은 후보 선출 하루 만에 단일화 추진 기구를 띄우기로 했고, 한 후보 측은 국민의 당에 단일화 문제를 일임하기로 했습니다. 협상 전망 박영민 기자가 보도합니다. [리포트] 국민의힘이 내일 (5일) '대선 후보 단일화\",\n",
       "  'score': 0.53619206,\n",
       "  'raw_content': None},\n",
       " {'title': '한덕수 \"단일화는 국민의 명령…결과에 확실히 승복할 것\"(종합) | 연합뉴스',\n",
       "  'url': 'https://www.yna.co.kr/view/AKR20250507127900001',\n",
       "  'content': '(서울=연합뉴스) 김승욱 홍국기 기자 = 무소속 한덕수 대통령선거 예비후보는 7일 \"단일화는 국민의 명령으로서 잘 이뤄질 것\"이라고 말했다. 한 후보는 이날 서울외신기자클럽에서 열린 외신기자간담회에서 \\'국민의힘 김문수 후보와의 단일화가 실패할 경우 어떻게 할 것인가\\'라는 물음에 \"단일화에',\n",
       "  'score': 0.53298485,\n",
       "  'raw_content': None},\n",
       " {'title': '한덕수 \"단일화는 국민의 명령…잘 이뤄질 것\" | 연합뉴스',\n",
       "  'url': 'https://www.yna.co.kr/view/AKR20250507110600001',\n",
       "  'content': '(서울=연합뉴스) 김승욱 홍국기 기자 = 무소속 한덕수 대통령선거 예비후보는 7일 \"단일화는 국민의 명령으로서 잘 이뤄질 것\"이라고 말했다. 한 후보는 이날 서울외신기자클럽에서 열린 외신기자간담회에서 \\'국민의힘 김문수 후보와의 단일화가 실패할 경우 어떻게 할 것인가\\'라는 물음에 \"단일화에',\n",
       "  'score': 0.532839,\n",
       "  'raw_content': None},\n",
       " {'title': '韓 \"단일화는 국민의 명령\" 金 \"단일화 안한다고 한적 없다\" | 연합뉴스',\n",
       "  'url': 'https://www.yna.co.kr/view/AKR20250508160200001?section=election2025/news',\n",
       "  'content': '(서울=연합뉴스) 이유미 김정진 기자 = 국민의힘 김문수 대선 후보와 무소속 한덕수 예비후보가 8일 후보 단일화를 위한 2차 담판에 나섰다.',\n",
       "  'score': 0.48425868,\n",
       "  'raw_content': None},\n",
       " {'title': '국민의힘, 金·韓 단일화 논의 급물살 … \"모두가 하나로 뭉쳐야 할 때\" | Save Internet 뉴데일리',\n",
       "  'url': 'https://www.newdaily.co.kr/site/data/html/2025/05/05/2025050500058.html',\n",
       "  'content': '\"의원 20명 탈당 후 단일화\" … 윤상현, \\'기호 3번 한덕수\\' 추대 제안 국힘 비대위 끝내 한덕수로 \\'후보 교체\\' … 후보 등록 전 金·韓 만나 파국 막아야 [상보] 김문수, 오전 9시40분 긴급 기자회견 … 법적 강경 투쟁 입장 밝힐 듯 [속보] 한덕수 \"당장 오늘 내일 결판 내자\" … 김문수 \"왜 난데없이 나타나 11일까지 완료 말하나\" 국힘 비대위 끝내 한덕수로 \\'후보 교체\\' … 후보 등록 전 金·韓 만나 파국 막아야 [상보] 김문수, 오전 9시40분 긴급 기자회견 … 법적 강경 투쟁 입장 밝힐 듯 국힘 \"후보 교체\" 김문수 \"법적 책임\" … 金·韓 만나 \\'파국 막을 길\\' 찾으면 \\'대선 승리\\' 가능 [속보] 김문수, 긴급 기자회견 앞두고 \"희대의 후보교체 사기극 … 당원들이 막아 달라\" 권영세·권성동, \\'단일화 후 용퇴\\' 제안 … 김문수 측 \"절차적 정당성이 문제\"',\n",
       "  'score': 0.42634606,\n",
       "  'raw_content': None}]"
      ]
     },
     "execution_count": 13,
     "metadata": {},
     "output_type": "execute_result"
    }
   ],
   "source": [
    "result = web_search.search(\"국민의 힘 단일화에 대해서 알려줘\")\n",
    "result"
   ]
  },
  {
   "cell_type": "code",
   "execution_count": 14,
   "id": "89c7356d",
   "metadata": {},
   "outputs": [],
   "source": [
    "# 'tmp'라는 이름의 디렉토리를 작업 디렉토리로 설정합니다.\n",
    "working_directory = \"tmp9\"\n",
    "\n",
    "# FileManagementToolkit 객체를 생성합니다.\n",
    "file_management_tools = FileManagementToolkit(\n",
    "    root_dir=str(working_directory),\n",
    ").get_tools()"
   ]
  },
  {
   "cell_type": "markdown",
   "id": "64ec5b56",
   "metadata": {},
   "source": [
    "### retriever 도구"
   ]
  },
  {
   "cell_type": "code",
   "execution_count": 15,
   "id": "c0e02c2d",
   "metadata": {},
   "outputs": [],
   "source": [
    "# 단계 1: 문서 로드(Load Documents)\n",
    "loader = PyMuPDFLoader('data/SPRI_AI_Brief_2023년12월호_F.pdf')\n",
    "docs = loader.load()"
   ]
  },
  {
   "cell_type": "code",
   "execution_count": 16,
   "id": "55410d45",
   "metadata": {},
   "outputs": [],
   "source": [
    "# 단계 2: 문서 분할(Split Documents)\n",
    "text_splitter = RecursiveCharacterTextSplitter(chunk_size=1000, chunk_overlap=100)\n",
    "split_documents = text_splitter.split_documents(docs)"
   ]
  },
  {
   "cell_type": "code",
   "execution_count": 17,
   "id": "e05f9b86",
   "metadata": {},
   "outputs": [],
   "source": [
    "# 단계 3: 임베딩(Embedding) 생성\n",
    "embeddings = OpenAIEmbeddings(model='text-embedding-3-small')"
   ]
  },
  {
   "cell_type": "code",
   "execution_count": 18,
   "id": "66058682",
   "metadata": {},
   "outputs": [],
   "source": [
    "# 단계 4: DB 생성(Create DB) 및 저장\n",
    "# 벡터스토어를 생성합니다.\n",
    "vectorstore = FAISS.from_documents(documents=split_documents, embedding=embeddings)"
   ]
  },
  {
   "cell_type": "code",
   "execution_count": 19,
   "id": "5590463f",
   "metadata": {},
   "outputs": [],
   "source": [
    "# 단계 5: 검색기(Retriever) 생성\n",
    "# 문서에 포함되어 있는 정보를 검색하고 생성합니다.\n",
    "pdf_retriever = vectorstore.as_retriever()"
   ]
  },
  {
   "cell_type": "code",
   "execution_count": 20,
   "id": "4261144e",
   "metadata": {},
   "outputs": [],
   "source": [
    "retriever_tool = create_retriever_tool(\n",
    "    pdf_retriever,          # 리트리버\n",
    "    name='pdf_retriever',   # 도구의 이름\n",
    "    \n",
    "    # 도구에 대한 설명을 자세히 기입해야 합니다. \n",
    "    # LLM에게 알려주는 내용인데.. 이 툴을 언제 쓸지 언제 활용하면 좋을지를 영어로 작성합니다.\n",
    "    description=\"Search and return information about SPRI AI Brief PDF file. It contains useful information on recent AI trends. The document is published on Dec 2023.\", \n",
    "    \n",
    "    document_prompt=PromptTemplate.from_template(\n",
    "        \"<document><context>{page_content}</context><metadata><source>{source}</source><page>{page}</page></metadata></document>\"\n",
    "    ),\n",
    ")"
   ]
  },
  {
   "cell_type": "code",
   "execution_count": 21,
   "id": "b583a720",
   "metadata": {},
   "outputs": [
    {
     "data": {
      "text/plain": [
       "[TavilySearch(name='web_search', description='Use this tool to search on the web for any topic other than news.', client=<tavily.tavily.TavilyClient object at 0x000001E76F9AFDD0>, max_results=5, include_raw_content=False),\n",
       " CopyFileTool(root_dir='tmp9'),\n",
       " DeleteFileTool(root_dir='tmp9'),\n",
       " FileSearchTool(root_dir='tmp9'),\n",
       " MoveFileTool(root_dir='tmp9'),\n",
       " ReadFileTool(root_dir='tmp9'),\n",
       " WriteFileTool(root_dir='tmp9'),\n",
       " ListDirectoryTool(root_dir='tmp9'),\n",
       " Tool(name='pdf_retriever', description='Search and return information about SPRI AI Brief PDF file. It contains useful information on recent AI trends. The document is published on Dec 2023.', args_schema=<class 'langchain_core.tools.retriever.RetrieverInput'>, func=functools.partial(<function _get_relevant_documents at 0x000001E75E75BEC0>, retriever=VectorStoreRetriever(tags=['FAISS', 'OpenAIEmbeddings'], vectorstore=<langchain_community.vectorstores.faiss.FAISS object at 0x000001E76F76B9D0>, search_kwargs={}), document_prompt=PromptTemplate(input_variables=['page', 'page_content', 'source'], input_types={}, partial_variables={}, template='<document><context>{page_content}</context><metadata><source>{source}</source><page>{page}</page></metadata></document>'), document_separator='\\n\\n', response_format='content'), coroutine=functools.partial(<function _aget_relevant_documents at 0x000001E75EAB0FE0>, retriever=VectorStoreRetriever(tags=['FAISS', 'OpenAIEmbeddings'], vectorstore=<langchain_community.vectorstores.faiss.FAISS object at 0x000001E76F76B9D0>, search_kwargs={}), document_prompt=PromptTemplate(input_variables=['page', 'page_content', 'source'], input_types={}, partial_variables={}, template='<document><context>{page_content}</context><metadata><source>{source}</source><page>{page}</page></metadata></document>'), document_separator='\\n\\n', response_format='content'))]"
      ]
     },
     "execution_count": 21,
     "metadata": {},
     "output_type": "execute_result"
    }
   ],
   "source": [
    "tools = [web_search, *file_management_tools, retriever_tool]\n",
    "tools"
   ]
  },
  {
   "cell_type": "markdown",
   "id": "42932e33",
   "metadata": {},
   "source": [
    "### agent 생성"
   ]
  },
  {
   "cell_type": "code",
   "execution_count": 23,
   "id": "7824180a",
   "metadata": {},
   "outputs": [],
   "source": [
    "agent_executor = create_react_agent(llm, tools, checkpointer=memory)"
   ]
  },
  {
   "cell_type": "code",
   "execution_count": 24,
   "id": "03248612",
   "metadata": {},
   "outputs": [
    {
     "data": {
      "image/png": "[encoded data removed]",
      "text/plain": [
       "<IPython.core.display.Image object>"
      ]
     },
     "metadata": {},
     "output_type": "display_data"
    }
   ],
   "source": [
    "from langchain_teddynote.graphs import visualize_graph\n",
    "\n",
    "visualize_graph(agent_executor)"
   ]
  },
  {
   "cell_type": "code",
   "execution_count": 25,
   "id": "d478aa8a",
   "metadata": {},
   "outputs": [],
   "source": [
    "from langchain_teddynote.messages import stream_graph"
   ]
  },
  {
   "cell_type": "code",
   "execution_count": 26,
   "id": "8b6c2f8e",
   "metadata": {},
   "outputs": [
    {
     "name": "stdout",
     "output_type": "stream",
     "text": [
      "\n",
      "==================================================\n",
      "🔄 Node: \u001b[1;36magent\u001b[0m 🔄\n",
      "- - - - - - - - - - - - - - - - - - - - - - - - - \n",
      "삼성전자가 만든 생성형 AI의 이름은 **삼성 가우스(Samsung Gauss)**입니다. 이 AI는 기업용으로 개발되었으며, 삼성전자의 DX 부문에서 사용됩니다. 삼성 가우스는 다양한 비즈니스 대화에 활용될 수 있는 언어 모델을 포함하고 있습니다.\n",
      "\n",
      "최근에는 **삼성 가우스2**라는 2세대 모델도 공개되었으며, 이는 언어, 코드, 이미지 등 여러 데이터 유형을 동시에 처리할 수 있는 멀티모달 모델입니다. 삼성전자는 이 모델을 통해 사내 대화형 AI 서비스의 성능을 향상시키고, 코드 생성 서비스의 효율성을 높일 계획입니다."
     ]
    }
   ],
   "source": [
    "# Config 설정\n",
    "config = {\"configurable\": {\"thread_id\": \"abc123\"}}\n",
    "inputs = {\"messages\": [(\"human\", \"삼성전자가 만든 생성형 AI 이름에 대해서 알려줘.\")]}\n",
    "\n",
    "# 그래프 스트림\n",
    "stream_graph(agent_executor, inputs, config, node_names=[\"agent\"])"
   ]
  },
  {
   "cell_type": "code",
   "execution_count": 27,
   "id": "8dbea1e2",
   "metadata": {},
   "outputs": [
    {
     "name": "stdout",
     "output_type": "stream",
     "text": [
      "\n",
      "==================================================\n",
      "🔄 Node: \u001b[1;36magent\u001b[0m 🔄\n",
      "- - - - - - - - - - - - - - - - - - - - - - - - - \n",
      "\n",
      "==================================================\n",
      "🔄 Node: \u001b[1;36mtools\u001b[0m 🔄\n",
      "- - - - - - - - - - - - - - - - - - - - - - - - - \n",
      "[{\"title\": \"한강, 한국인 첫 노벨 문학상 수상 - Bbc\", \"url\": \"https://www.bbc.com/korean/articles/c93yewwr666o\", \"content\": \"소설가 한강, 한국인 첫 노벨 문학상 수상 영예 - BBC News 코리아 한강, 한국인 첫 노벨 문학상 수상 2024년 10월 10일 올해로 53세인 한강 작가는 지난 2016년 소설 '채식주의자'로 세계 3대 문학상 중 하나로 꼽히는 맨부커상 인터내셔널 부문을 수상한 바 있다. 노벨상 수상을 알리는 '특별한' 방법2020년 10월 14일 정보라 작가, '취미는 데모, 시위 현장이 제 소설의 원천'2022년 5월 23일 '흑인여성 첫 노벨문학상' 토니 모리슨 별세2019년 8월 7일 한강은 2022년 프랑스 작가 애니 에르노 이후 첫 여성 노벨문학상 수상자가 됐다. 또한 올해 첫 여성 노벨상 수상자이기도 하다. 2022년 5월 23일 2017년 10월 19일 2019년 8월 7일 2019년 10월 10일 2022년 5월 23일 2020년 10월 14일 2025년 2월 13일 2025년 2월 13일 2025년 2월 13일 2025년 2월 3일 2025년 1월 31일\", \"score\": 0.87681407, \"raw_content\": null}, {\"title\": \"\\\"친애하는 한강\\\" 호명에 기립박수…한국 첫 노벨문학상 수상(종합) | 연합뉴스\", \"url\": \"https://www.yna.co.kr/view/AKR20241210144651005\", \"content\": \"(스톡홀름=연합뉴스) 김도훈 기자 = 2024 노벨문학상 수상자인 한강 작가가 10일(현지시간) 스웨덴 스톡홀름 콘서트홀에서 열린 시상식에서 칼 구스타프 16세 스웨덴 국왕으로부터 노벨문학상 메달과 증서를 받고 있다. (스톡홀름=연합뉴스) 김도훈 기자 = 2024 노벨문학상 수상자인 한강 작가가 10일(현지시간) 스웨덴 스톡홀름 콘서트홀에서 열린 시상식에 참석하고 있다. (스톡홀름=연합뉴스) 김도훈 기자 = 2024 노벨문학상 수상자인 한강 작가가 10일(현지시간) 스웨덴 스톡홀름 콘서트홀에서 열린 시상식에 입장하고 있다. (스톡홀름=연합뉴스) 김도훈 기자 = 2024 노벨문학상 수상자인 한강 작가가 10일(현지시간) 스웨덴 스톡홀름 콘서트홀에서 열린 시상식에서 칼 구스타프 16세 스웨덴 국왕으로부터 노벨문학상 메달과 증서를 받고 있다. (스톡홀름=연합뉴스) 김도훈 기자 = 2024 노벨문학상 수상자인 한강 작가가 10일(현지시간) 스웨덴 스톡홀름 콘서트홀에서 열린 시상식에 참석하고 있다. (스톡홀름=연합뉴스) 김도훈 기자 = 2024 노벨문학상 수상자인 한강 작가가 10일(현지시간) 스웨덴 스톡홀름 콘서트홀에서 열린 시상식에 입장하고 있다.\", \"score\": 0.8497846, \"raw_content\": null}, {\"title\": \"한국 문학 새 역사 쓰다…한강 노벨 문학상 수상(종합) | 연합뉴스\", \"url\": \"https://www.yna.co.kr/view/AKR20241010163753009\", \"content\": \"한국 문학 새 역사 쓰다…한강 노벨 문학상 수상(종합) | 연합뉴스 한국 문학 새 역사 쓰다…한강 노벨 문학상 수상(종합) 한국 문학 새 역사 쓰다…한강 노벨 문학상 수상(종합) 소설가 한강(53)이 한국 작가로 최초로 노벨 문학상 수상의 영예를 안았다. 스웨덴 한림원은 10일(현지시간) 올해 노벨 문학상 수상자로 \\\"한국의 작가 한강을 선정했다\\\"고 밝혔다. 한강 작가[AFP=연합뉴스 자료사진] (서울=연합뉴스) 권수현 기자 = 소설가 한강(53)이 한국 작가로 최초로 노벨 문학상 수상의 영예를 안았다. 스웨덴 한림원은 10일(현지시간) 올해 노벨 문학상 수상자로 \\\"한국의 작가 한강을 선정했다\\\"고 밝혔다. 한강 작가 한국 첫 노벨문학상 수상, 서점에 마련된 한강 작가 코너(서울=연합뉴스) 서대연 기자 = 소설가 한강이 한국 작가 최초로 노벨 문학상을 수상한 10일 오후 서울 종로구 교보문고 광화문점에 한강 작가의 책이 진열돼 있다. 한강 작품 출간 佛출판사 \\\"언젠가 노벨상 받을 걸로 확신\\\"(종합)\", \"score\": 0.8488849, \"raw_content\": null}, {\"title\": \"한강, 한국 첫 노벨문학상…\\\"어두운 밤에도 우릴 잇는 건 언어\\\"(종합2보) | 연합뉴스\", \"url\": \"https://www.yna.co.kr/view/AKR20241210144652005\", \"content\": \"노벨문학상 수상에 환하게 웃는 한강 작가(스톡홀름=연합뉴스) 김도훈 기자 = 2024 노벨문학상 수상자인 한강 작가가 10일(현지시간) 스웨덴 스톡홀름 콘서트홀에서 열린 시상식에서 칼 구스타프 16세 스웨덴 국왕으로부터 노벨문학상 메달과 증서를 받은 뒤 환하게 웃고 있다. 한강 작가, 노벨문학상 수상(스톡홀름=연합뉴스) 김도훈 기자 = 2024 노벨문학상 수상자인 한강 작가가 10일(현지시간) 스웨덴 스톡홀름 콘서트홀에서 열린 시상식에서 칼 구스타프 16세 스웨덴 국왕으로부터 노벨문학상 메달과 증서를 받고 있다. 환하게 웃는 한강 작가(스톡홀름=연합뉴스) 김도훈 기자 = 2024 노벨문학상 수상자인 한강 작가가 10일(현지시간) 스웨덴 스톡홀름 콘서트홀에서 열린 시상식에서 칼 구스타프 16세 스웨덴 국왕으로부터 노벨문학상 메달과 증서를 받은 뒤 환하게 웃고 있다. 노벨상 연회 참석한 한강 작가(스톡홀름=연합뉴스) 김도훈 기자 = 2024 노벨문학상 수상자인 한강 작가가 10일(현지시간) 스웨덴 스톡홀름 시청사에서 열린 연회에 참석해 왕족 크리스토퍼 오닐과 함께 취재진을 향해 포즈를 취하고 있다.\", \"score\": 0.84767824, \"raw_content\": null}, {\"title\": \"한강(소설가)/노벨문학상 수상 - 나무위키\", \"url\": \"https://namu.wiki/w/한강(소설가)/노벨문학상+수상\", \"content\": \"한강 작가가 상금 13억을 독도 평화를 위해 기부한다는 가짜 뉴스까지 나왔다. # 한강 작가의 유일한 공개 논문인 연세대 국문과 석사학위 논문 '이상(李箱)의 회화와 문학세계'의 검색량이 노벨문학상 수상 후 일주일 만에 '이전 10년치 검색량'을 넘어섰다.#\", \"score\": 0.8201387, \"raw_content\": null}]\n",
      "==================================================\n",
      "🔄 Node: \u001b[1;36magent\u001b[0m 🔄\n",
      "- - - - - - - - - - - - - - - - - - - - - - - - - \n",
      "### 한강 작가의 노벨 문학상 수상 보고서\n",
      "\n",
      "#### 1. 개요\n",
      "2024년 10월 10일, 한국의 소설가 한강(53세)이 스웨덴 한림원으로부터 노벨 문학상을 수상하는 영예를 안았다. 이는 한국 작가로서는 최초의 노벨 문학상 수상으로, 한국 문학의 새로운 역사를 쓰는 중요한 사건이다.\n",
      "\n",
      "#### 2. 수상 배경\n",
      "한강 작가는 2016년 소설 '채식주의자'로 세계 3대 문학상 중 하나인 맨부커상 인터내셔널 부문을 수상한 바 있다. 이번 노벨 문학상 수상은 그의 문학적 업적을 국제적으로 인정받는 계기가 되었다.\n",
      "\n",
      "#### 3. 시상식\n",
      "노벨 문학상 시상식은 스웨덴 스톡홀름의 콘서트홀에서 개최되었으며, 한강 작가는 칼 구스타프 16세 스웨덴 국왕으로부터 노벨 문학상 메달과 증서를 받았다. 시상식에서 한강 작가는 \"어두운 밤에도 우릴 잇는 건 언어\"라는 메시지를 전하며, 언어의 힘과 문학의 중요성을 강조했다.\n",
      "\n",
      "#### 4. 사회적 반응\n",
      "한강의 노벨상 수상 소식은 한국 사회에서 큰 화제를 모았다. 서울의 서점에서는 한강 작가의 작품 코너가 마련되었고, 많은 독자들이 그의 책을 구매하기 위해 몰려들었다. 또한, 그의 수상 소식은 한국 문학의 위상을 높이는 계기가 되었다는 평가를 받고 있다.\n",
      "\n",
      "#### 5. 결론\n",
      "한강 작가의 노벨 문학상 수상은 한국 문학의 새로운 장을 여는 중요한 사건으로, 앞으로도 그의 작품이 국내외에서 많은 사랑을 받을 것으로 기대된다. 이 수상은 한국 문학의 세계화에 기여하며, 많은 작가들에게 영감을 줄 것이다.\n",
      "\n",
      "#### 6. 참고 자료\n",
      "- [BBC News](https://www.bbc.com/korean/articles/c93yewwr666o)\n",
      "- [연합뉴스](https://www.yna.co.kr/view/AKR20241010163753009)\n",
      "- [나무위키](https://namu.wiki/w/한강(소설가)/노벨문학상+수상)"
     ]
    }
   ],
   "source": [
    "config = {\"configurable\": {\"thread_id\": \"abc123\"}}\n",
    "inputs = {\n",
    "    \"messages\": [\n",
    "        (\n",
    "            \"human\",\n",
    "            \"한강 작가의 노벨상 수상 관련된 뉴스를 검색하고 보고서 형식에 맞게 작성해줘\",\n",
    "        )\n",
    "    ]\n",
    "}\n",
    "stream_graph(agent_executor, inputs, config, node_names=[\"agent\", \"tools\"])"
   ]
  },
  {
   "cell_type": "code",
   "execution_count": 28,
   "id": "1def36ec",
   "metadata": {},
   "outputs": [
    {
     "name": "stdout",
     "output_type": "stream",
     "text": [
      "\n",
      "==================================================\n",
      "🔄 Node: \u001b[1;36magent\u001b[0m 🔄\n",
      "- - - - - - - - - - - - - - - - - - - - - - - - - \n",
      "\n",
      "==================================================\n",
      "🔄 Node: \u001b[1;36mtools\u001b[0m 🔄\n",
      "- - - - - - - - - - - - - - - - - - - - - - - - - \n",
      "[{\"title\": \"생성형 AI 도입 전략: 대규모 언어 모델 LLM vs. 소규모 언어 모델 SLM | 인사이트리포트 | 삼성SDS\", \"url\": \"https://www.samsungsds.com/kr/insights/generative-ai-adoption-strategy.html\", \"content\": \"IT ë¦¬ëê° ì ì´ê¶ì ì ì§í  ì ìë í¹ì  ë°ì´í°ë¥¼ ê¸°ë°ì¼ë¡ íê³  ìëì§ ìë¹ê° ì ì ìê·ëª¨ ì¸ì´ ëª¨ë¸ì´ ì£¼ëª©ë°ê³  ììµëë¤. ìµê·¼ ê°í¸ëë ìì±í AI ê¸°ì ì ëí ì  ì¸ê³ ê¸°ìì ì§ì¶ì´ ìì§ê¹ì§ë ê·¸ë¤ì§ í¬ì§ ìë¤ê³  ì¶ì íìµëë¤. ê·¸ë¼ìë ëí ìë¹ì¤ ì ê³µìì²´ë¤ì ìì±í AI ê¸°ì ì ëí ì§ì¶ì ëë¦¬ê³  ììµëë¤. ëí, ìì±í AIì ì§ì ë¬¸í±ì´ ëê³  ëë¶ë¶ì ê¸°ìì´ ì íê° ì°¨ì´ë¥¼ êµ¬ë¶í  ì§ì ìì´ ìë¹ì¤ë¥¼ êµ¬ë§¤í  ì ìê¸° ëë¬¸ì ììê° ê²°ì ì ì£¼ëí  ê°ë¥ì±ì´ ëìµëë¤. ë´ë¶ ì§ì ê¸°ë°ì ë ì ì ìí  ì ìë ìì±í AI ëª¨ë¸ì ëì¶í  ì ìê¸° ëë¬¸ìëë¤. RAGë¥¼ íµí´ ê¸°ìì ë°ì´í°ì ëí íµì ë ¥ì ëì´ê³  ë¹ì©ì ì ê°í  ì ììµëë¤.\", \"score\": 0.74385756, \"raw_content\": null}, {\"title\": \"\\\"삼성전자·Tsmc 존재감 커질 것\\\"…생성형 Ai, 판 바꾼다\", \"url\": \"https://www.hankyung.com/article/202410259291g\", \"content\": \"\\\"삼성전자·TSMC 존재감 커질 것\\\"…생성형 AI, 판 바꾼다, 한국딜로이트그룹 보고서 공개 생성형 AI가 미칠 영향·전망 제시 아태 지역 파운드리\", \"score\": 0.7211353, \"raw_content\": null}, {\"title\": \"생성형 Ai 시대와 기업의 준비 2편 | 인사이트리포트 | 삼성sds\", \"url\": \"https://www.samsungsds.com/kr/insights/enterprise-readiness-for-generative-ai-part2.html\", \"content\": \"2024년 4월, 삼성SDS가 업종별 고객을 대상으로 진행한 삼성SDS Gen AI Day 세미나 중, '생성형 AI 시대와 기업의 준비' 세션 내용을 바탕으로 작성하였습니다.\", \"score\": 0.69968605, \"raw_content\": null}, {\"title\": \"삼성·Lg전자 \\\"인재가 미래다\\\" 임직원 Ai 역량 강화 '총력전'\", \"url\": \"https://www.ekn.kr/web/view.php?key=20250510023465191\", \"content\": \"챗GPT 등 생성형 AI가 업무 효율성 향상에 준다는 판단에 따른 것으로 분석된다. 11일 업계에 따르면 삼성전자는 최근 조직개편을 통해 디바이스경험 (DX) 부문에 'AI 생산성 혁신 그룹'을 신설하기로 했다.\", \"score\": 0.6964752, \"raw_content\": null}, {\"title\": \"2025년, 생성형 Ai 트렌드 전망 | 인사이트리포트 | 삼성sds\", \"url\": \"https://www.samsungsds.com/kr/insights/outlook-for-generative-ai-in-2025.html\", \"content\": \"클라우드 보안 서비스 클라우드 보안 서비스 클라우드 보안 관제 서비스 클라우드 보안 진단 서비스 클라우드 보안 솔루션 운영 서비스 Security 다양한 클라우드 환경에서 데이터와 서비스를 안전하게 보호하는 자동화 된 보안 서비스 AI/ML 쉽고 편리하게 ML/DL 모델 개발 및 학습 환경을 구축할 수 있는 AI 서비스 삼성SDS 글로벌 물류 서비스 삼성SDS, 더 정교해진 AI 분석·예측으로 ‘데이터 기반 디지털 물류’ 이끈다.자세히 보기 클라우드 보안 서비스 클라우드 보안 서비스 클라우드 보안 관제 서비스 클라우드 보안 진단 서비스 클라우드 보안 솔루션 운영 서비스 AI 준비 상태로 만드는 작업을 빨리 시작할수록 2025년 출시될 새로운 RAG 서비스를 더 빨리 활용할 수 있습니다. 2025년에는 또한 마이크로소프트 애저, AWS, 구글 클라우드 등 클라우드 기업의 AI 제품이 발전하면서 경쟁력 있는 가격이 형성될 수 있습니다.\", \"score\": 0.6877354, \"raw_content\": null}]\n",
      "==================================================\n",
      "🔄 Node: \u001b[1;36magent\u001b[0m 🔄\n",
      "- - - - - - - - - - - - - - - - - - - - - - - - - \n",
      "### 삼성전자의 생성형 AI 보고서\n",
      "\n",
      "#### 1. 개요\n",
      "삼성전자는 최근 생성형 AI 기술을 개발하여 기업의 디지털 혁신을 지원하고 있습니다. 이 AI는 다양한 비즈니스 환경에서 활용될 수 있으며, 특히 디바이스 경험(DX) 부문에서 중요한 역할을 하고 있습니다.\n",
      "\n",
      "#### 2. 생성형 AI의 특징\n",
      "삼성전자가 개발한 생성형 AI는 대규모 언어 모델(LLM)과 소규모 언어 모델(SLM)을 포함하여, 다양한 데이터 유형을 처리할 수 있는 멀티모달 기능을 갖추고 있습니다. 이를 통해 기업은 고객과의 상호작용을 개선하고, 업무 효율성을 높일 수 있습니다.\n",
      "\n",
      "#### 3. AI 생산성 혁신 그룹\n",
      "삼성전자는 최근 조직 개편을 통해 'AI 생산성 혁신 그룹'을 신설하였습니다. 이 그룹은 생성형 AI를 활용하여 업무 효율성을 극대화하고, 기업의 생산성을 높이는 데 중점을 두고 있습니다. 이러한 변화는 AI 기술이 기업의 미래에 미치는 영향을 반영하고 있습니다.\n",
      "\n",
      "#### 4. 시장 전망\n",
      "생성형 AI는 아시아 태평양 지역에서의 파운드리 시장에 큰 영향을 미칠 것으로 예상됩니다. 한국딜로이트그룹의 보고서에 따르면, 삼성전자와 TSMC의 존재감이 더욱 커질 것으로 보이며, 이는 생성형 AI의 발전과 밀접한 관련이 있습니다.\n",
      "\n",
      "#### 5. 결론\n",
      "삼성전자의 생성형 AI는 기업의 디지털 혁신을 이끄는 중요한 요소로 자리잡고 있습니다. AI 기술의 발전은 기업의 생산성을 높이고, 고객 경험을 개선하는 데 기여할 것으로 기대됩니다. 앞으로도 삼성전자는 AI 기술을 지속적으로 발전시켜 나갈 계획입니다.\n",
      "\n",
      "#### 6. 참고 자료\n",
      "- [삼성SDS 인사이트 리포트](https://www.samsungsds.com/kr/insights/generative-ai-adoption-strategy.html)\n",
      "- [한국경제 기사](https://www.hankyung.com/article/202410259291g)\n",
      "- [삼성SDS 생성형 AI 시대와 기업의 준비](https://www.samsungsds.com/kr/insights/enterprise-readiness-for-generative-ai-part2.html)"
     ]
    }
   ],
   "source": [
    "config = {\"configurable\": {\"thread_id\": \"abc123\"}}\n",
    "inputs = {\n",
    "    \"messages\": [\n",
    "        (\n",
    "            \"human\",\n",
    "            \"삼성전자가 만든 생성형 AI에 대해서 문서 검색하고 보고서 형식에 맞게 작성해줘\",\n",
    "        )\n",
    "    ]\n",
    "}\n",
    "stream_graph(agent_executor, inputs, config, node_names=[\"agent\", \"tools\"])"
   ]
  }
 ],
 "metadata": {
  "kernelspec": {
   "display_name": "venv",
   "language": "python",
   "name": "python3"
  },
  "language_info": {
   "codemirror_mode": {
    "name": "ipython",
    "version": 3
   },
   "file_extension": ".py",
   "mimetype": "text/x-python",
   "name": "python",
   "nbconvert_exporter": "python",
   "pygments_lexer": "ipython3",
   "version": "3.11.9"
  }
 },
 "nbformat": 4,
 "nbformat_minor": 5
}
