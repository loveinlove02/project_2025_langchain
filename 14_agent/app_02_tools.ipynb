{
 "cells": [
  {
   "cell_type": "code",
   "execution_count": 1,
   "metadata": {},
   "outputs": [],
   "source": [
    "from dotenv import load_dotenv\n",
    "import os\n",
    "\n",
    "load_dotenv(verbose=True)\n",
    "key = os.getenv('OPENAI_API_KEY')"
   ]
  },
  {
   "cell_type": "markdown",
   "metadata": {},
   "source": [
    "### 도구 (Tools)\n",
    "\n",
    "도구(Tool) 에이전트, 체인 또는 LLM(Large Language Model)이 특정 작업을 수행하거나 외부 데이터에 접근할 수 있도록 돕는 기능을 제공합니다. <br>\n",
    "\n",
    "Langchain에 통합된 도구를 사용할 수 있으며, 사용자 정의 도구를 사용할 수도 있습니다.<br>\n",
    "\n",
    "[Langchain에 통합된 도구](https://python.langchain.com/v0.1/docs/integrations/tools/)"
   ]
  },
  {
   "cell_type": "code",
   "execution_count": 2,
   "metadata": {},
   "outputs": [
    {
     "name": "stdout",
     "output_type": "stream",
     "text": [
      "LangSmith 추적을 시작합니다.\n",
      "[프로젝트명]\n",
      "PROJECT_2025_LANGCHAIN\n"
     ]
    }
   ],
   "source": [
    "from langchain_teddynote import logging\n",
    "\n",
    "logging.langsmith('PROJECT_2025_LANGCHAIN')"
   ]
  },
  {
   "cell_type": "code",
   "execution_count": 3,
   "metadata": {},
   "outputs": [],
   "source": [
    "from langchain_experimental.tools import PythonAstREPLTool\n",
    "\n",
    "# 파이썬 코드를 실행하는 도구 생성\n",
    "python_tool = PythonAstREPLTool()   "
   ]
  },
  {
   "cell_type": "code",
   "execution_count": 4,
   "metadata": {},
   "outputs": [
    {
     "name": "stdout",
     "output_type": "stream",
     "text": [
      "300\n",
      "\n"
     ]
    }
   ],
   "source": [
    "answer = python_tool.invoke('print(100 + 200)')     # 코드를 실행 및 결과 리턴\n",
    "print(answer)"
   ]
  },
  {
   "cell_type": "markdown",
   "metadata": {},
   "source": [
    "###  LLM 에게 파이썬 코드를 작성하도록 요청하고 결과를 리턴"
   ]
  },
  {
   "cell_type": "code",
   "execution_count": 5,
   "metadata": {},
   "outputs": [],
   "source": [
    "from langchain_openai import ChatOpenAI\n",
    "from langchain_core.prompts import ChatPromptTemplate\n",
    "from langchain_core.output_parsers import StrOutputParser\n",
    "from langchain_core.runnables import RunnableLambda\n",
    "\n",
    "from langchain_experimental.tools import PythonAstREPLTool"
   ]
  },
  {
   "cell_type": "code",
   "execution_count": 6,
   "metadata": {},
   "outputs": [],
   "source": [
    "def print_and_execute(code, debug=True):       # 파이썬 코드를 실행하고 중간 과정을 출력하고 실행결과를 리턴\n",
    "    python_tool = PythonAstREPLTool()\n",
    "    \n",
    "    if debug:\n",
    "        print('CODE:')\n",
    "        print(code)\n",
    "\n",
    "    return python_tool.invoke(code)"
   ]
  },
  {
   "cell_type": "code",
   "execution_count": 7,
   "metadata": {},
   "outputs": [],
   "source": [
    "prompt = ChatPromptTemplate.from_messages(      # 파이썬 코드 작성을 지시하는 프롬프트\n",
    "    [\n",
    "        (\n",
    "            'system',\n",
    "            'You are Raymond Hetting, an expert python programmer, well versed in meta-programming and elegant, concise and short but well documented code. You follow the PEP8 style guide. '\n",
    "            'Return only the code, no intro, no explanation, no chatty, no markdown, no code block, no nothing. Just the code.',\n",
    "        ),\n",
    "        ('human', '{input}'),\n",
    "    ]\n",
    ")"
   ]
  },
  {
   "cell_type": "code",
   "execution_count": 8,
   "metadata": {},
   "outputs": [],
   "source": [
    "llm = ChatOpenAI( \n",
    "    api_key=key,\n",
    "    model='gpt-4o-mini', \n",
    "    temperature=0\n",
    ")"
   ]
  },
  {
   "cell_type": "code",
   "execution_count": 9,
   "metadata": {},
   "outputs": [],
   "source": [
    "output_parser = StrOutputParser()"
   ]
  },
  {
   "cell_type": "code",
   "execution_count": 10,
   "metadata": {},
   "outputs": [],
   "source": [
    "chain = prompt | llm | output_parser | RunnableLambda(print_and_execute)"
   ]
  },
  {
   "cell_type": "code",
   "execution_count": 11,
   "metadata": {},
   "outputs": [
    {
     "name": "stdout",
     "output_type": "stream",
     "text": [
      "CODE:\n",
      "import random\n",
      "\n",
      "def generate_lotto_numbers():\n",
      "    \"\"\"Generate a set of 6 unique lotto numbers from 1 to 45.\"\"\"\n",
      "    return sorted(random.sample(range(1, 46), 6))\n",
      "\n",
      "if __name__ == \"__main__\":\n",
      "    print(generate_lotto_numbers())\n",
      "\n"
     ]
    }
   ],
   "source": [
    "print(chain.invoke('로또 번호 생성기를 출력하는 코드를 작성해주세요.', debug=True))"
   ]
  },
  {
   "cell_type": "markdown",
   "metadata": {},
   "source": [
    "### 검색 API 도구\n",
    "\n",
    "TavilyAnswer 검색 API를 활용하여 검색 기능을 구현하는 도구. \n",
    "<br>\n",
    "\n",
    "`TavilySearchResults` Tavily 검색 API를 실행하고 JSON 형식의 결과를 리턴.\n",
    "<br>\n",
    "\n",
    "매개변수: \n",
    "\n",
    "- max_results  (int) : 리턴 할 최대 검색 결과 개수 (default: 5)\n",
    "- search_depth(str) : 검색 깊이(basic 또는 advanced) \n",
    "  - basic : 기본값\n",
    "  - advanced : Tavily 검색 API가 더 깊고 광범위한 검색을 수행하도록 지시.\n",
    "- include_domains (List[str]): 검색 결과에 포함할 도메인 목록\n",
    "- exclude_domains (List[str]): 검색 결과에서 제외할 도메인 목록\n",
    "- include_answer (bool): 원본 쿼리에 대한 짧은 답변을 포함 할 것인가\n",
    "- include_raw_content (bool): 각 사이트의 정제된 HTML 콘텐츠를 포함할 것인지. 원본을 포함할 것인가\n",
    "- include_images (bool): 쿼리 관련 이미지 목록 포함할 것인지\n",
    "\n",
    "리턴 값:\n",
    "\n",
    "- 검색 결과를 포함하는 JSON 문자열(uri, content)"
   ]
  },
  {
   "cell_type": "code",
   "execution_count": 12,
   "metadata": {},
   "outputs": [],
   "source": [
    "from langchain_community.tools.tavily_search import TavilySearchResults\n",
    "\n",
    "tool = TavilySearchResults(                         # 도구 생성\n",
    "    max_results=3,                                  # 검색 결과 수\n",
    "    search_depth='advanced',                        # Tavily 검색 API가 더 깊고 광범위한 검색을 수행하도록 지시\n",
    "    include_raw_content=True,                       # 검색 결과의 원본 내용 포함\n",
    "    include_answer=True,                            # 검색 결과를 바탕으로 생성된 답변 포함\n",
    "    include_images=True,                            # 검색 결과에 이미지 포함\n",
    "    include_domains=['github.io', 'naver.com']      # 검색 대상 도메인을 github.io와 naver.com으로 제한\n",
    ")"
   ]
  },
  {
   "cell_type": "code",
   "execution_count": 13,
   "metadata": {},
   "outputs": [],
   "source": [
    "answer = tool.invoke({'query':'랭체인 Tool에 대해서 알려주세요'})"
   ]
  },
  {
   "cell_type": "code",
   "execution_count": 14,
   "metadata": {},
   "outputs": [
    {
     "data": {
      "text/plain": [
       "[{'url': 'https://post.naver.com/viewer/postView.naver?volumeNo=38409843&vType=VERTICAL',\n",
       "  'content': 'LangChain(랭체인) 은 대규모 언어 모델 (LLM) 을 활용한 애플리케이션 개발에 특화된 오픈소스 프레임워크입니다. LangChain 은 기존 언어 모델의 한계를 극복하고, AI 기술을 활용한 새로운 애플리케이션을 구축할 수 있는 중요한 도구로 자리 잡고 있습니다.'},\n",
       " {'url': 'https://m.blog.naver.com/sangwon38383/223183173792',\n",
       "  'content': '최근 AI에 관한 밋업에서는 랭체인(LangChain) 에 대한 이야기가 꼭 나온다. 그런데 랭체인은 정확히 뭐인가? 한마디로 요약하자면 언어모델을 활용한 개발 작업을 편리하게 할 수 있도록 도와주는 프레임워크이다. 즉 랭체인 없이도 API 또는 오픈소스로 제공되는'},\n",
       " {'url': 'https://blog.naver.com/PostView.naver?blogId=beyond-zero&logNo=223386007783',\n",
       "  'content': 'LangChain은 ChatGPT와 같은 대규모 언어 모델(LLM)의 향상된 기능을 효율적으로 구현하기 위한 라이브러리 이다.. 이 글을 쓰는 시점인 2024년 3월 15일 기준으로 Python, TypeScript기반 라이브러리가 공개되었다. 기본적으로 필자 생각으로는 TypeScript에 비해 Python이 LangChain에서 사용할 수 있는 기능이 많기'}]"
      ]
     },
     "execution_count": 14,
     "metadata": {},
     "output_type": "execute_result"
    }
   ],
   "source": [
    "answer"
   ]
  },
  {
   "cell_type": "code",
   "execution_count": 15,
   "metadata": {},
   "outputs": [
    {
     "name": "stdout",
     "output_type": "stream",
     "text": [
      "[{'url': 'https://m.blog.naver.com/cstory7/220634790035', 'content': '인어공주에 대해 모르는 사람이 없을꺼라 믿어 의심치 않습니다ㅋㅋ 오늘은 이렇게도 유명한 명작 동화이자 디즈니 프린세스 중 한명인 인어공주에 대해 조금 자세한 이야기를 해볼까해요 이름하야 인어공주 비하인드 스토리!!'}, {'url': 'https://blog.naver.com/PostView.naver?blogId=dalbat_&logNo=223251160300', 'content': '여러분께 인어공주에 대한 이야기를 들려드린다 생각하니 마음이 두근거립니다. 자, 그럼 떠나봅시다! ... 걸을 때마다 극심한 고통을 느낀다는 조건은 인간의 가치에 대해서 말하고 있습니다. 우리는 눈 떠보니 인간으로 태어나 그렇게 살아가고 있습니다'}, {'url': 'https://m.blog.naver.com/dye5h/222198049083', 'content': '디즈니영화 인어공주는 1989년에 개봉한 작품 이에요!. 굉장히 오래된 영화죠~~??ㅎㅎㅎㅎ. 하지만 지금 봐도 재미있는 디즈니영화랍니다^^ 안데르센의 동명 동화를 원작 으로 하고 있는데,. 인어공주가 물거품으로 변하는 새드엔딩의'}]\n"
     ]
    }
   ],
   "source": [
    "from langchain_community.tools.tavily_search import TavilySearchResults\n",
    "\n",
    "tool = TavilySearchResults(                         # 도구 생성\n",
    "    max_results=3,                                  # 검색 결과 수\n",
    "    search_depth='advanced',                        # Tavily 검색 API가 더 깊고 광범위한 검색을 수행하도록 지시\n",
    "    include_raw_content=True,                       # 검색 결과의 원본 내용 포함\n",
    "    include_answer=True,                            # 검색 결과를 바탕으로 생성된 답변 포함\n",
    "    include_images=True,                            # 검색 결과에 이미지 포함\n",
    "    include_domains=['google.com', 'naver.com']     # 검색 대상 도메인을 github.io와 naver.com으로 제한\n",
    ")\n",
    "\n",
    "answer = tool.invoke({'query':'인어공주에 대해서 알려주세요'})\n",
    "print(answer)"
   ]
  }
 ],
 "metadata": {
  "kernelspec": {
   "display_name": "venv",
   "language": "python",
   "name": "python3"
  },
  "language_info": {
   "codemirror_mode": {
    "name": "ipython",
    "version": 3
   },
   "file_extension": ".py",
   "mimetype": "text/x-python",
   "name": "python",
   "nbconvert_exporter": "python",
   "pygments_lexer": "ipython3",
   "version": "3.11.9"
  }
 },
 "nbformat": 4,
 "nbformat_minor": 2
}
