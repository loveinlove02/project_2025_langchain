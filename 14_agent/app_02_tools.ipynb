{
 "cells": [
  {
   "cell_type": "code",
   "execution_count": 5,
   "metadata": {},
   "outputs": [],
   "source": [
    "from dotenv import load_dotenv\n",
    "import os\n",
    "\n",
    "load_dotenv(verbose=True)\n",
    "key = os.getenv('OPENAI_API_KEY')"
   ]
  },
  {
   "cell_type": "markdown",
   "metadata": {},
   "source": [
    "### 도구 (Tools)\n",
    "\n",
    "도구(Tool) 에이전트, 체인 또는 LLM(Large Language Model)이 특정 작업을 수행하거나 외부 데이터에 접근할 수 있도록 돕는 기능을 제공합니다. <br>\n",
    "\n",
    "Langchain에 통합된 도구를 사용할 수 있으며, 사용자 정의 도구를 사용할 수도 있습니다.<br>\n",
    "\n",
    "[Langchain에 통합된 도구](https://python.langchain.com/v0.1/docs/integrations/tools/)"
   ]
  },
  {
   "cell_type": "code",
   "execution_count": 6,
   "metadata": {},
   "outputs": [
    {
     "name": "stdout",
     "output_type": "stream",
     "text": [
      "LangSmith 추적을 시작합니다.\n",
      "[프로젝트명]\n",
      "PROJECT_2025_LANGCHAIN\n"
     ]
    }
   ],
   "source": [
    "from langchain_teddynote import logging\n",
    "\n",
    "logging.langsmith('PROJECT_2025_LANGCHAIN')"
   ]
  },
  {
   "cell_type": "code",
   "execution_count": 9,
   "metadata": {},
   "outputs": [],
   "source": [
    "from langchain_experimental.tools import PythonAstREPLTool\n",
    "\n",
    "# 파이썬 코드를 실행하는 도구 생성\n",
    "python_tool = PythonAstREPLTool()   "
   ]
  },
  {
   "cell_type": "code",
   "execution_count": 10,
   "metadata": {},
   "outputs": [
    {
     "name": "stdout",
     "output_type": "stream",
     "text": [
      "300\n",
      "\n"
     ]
    }
   ],
   "source": [
    "answer = python_tool.invoke('print(100 + 200)')     # 코드를 실행 및 결과 리턴\n",
    "print(answer)"
   ]
  },
  {
   "cell_type": "markdown",
   "metadata": {},
   "source": [
    "###  LLM 에게 파이썬 코드를 작성하도록 요청하고 결과를 리턴"
   ]
  },
  {
   "cell_type": "code",
   "execution_count": 11,
   "metadata": {},
   "outputs": [],
   "source": [
    "from langchain_openai import ChatOpenAI\n",
    "from langchain_core.prompts import ChatPromptTemplate\n",
    "from langchain_core.output_parsers import StrOutputParser\n",
    "from langchain_core.runnables import RunnableLambda\n",
    "\n",
    "from langchain_experimental.tools import PythonAstREPLTool"
   ]
  },
  {
   "cell_type": "code",
   "execution_count": 12,
   "metadata": {},
   "outputs": [],
   "source": [
    "def print_and_execute(code, debug=True):       # 파이썬 코드를 실행하고 중간 과정을 출력하고 실행결과를 리턴\n",
    "    python_tool = PythonAstREPLTool()\n",
    "    \n",
    "    if debug:\n",
    "        print('CODE:')\n",
    "        print(code)\n",
    "\n",
    "    return python_tool.invoke(code)"
   ]
  },
  {
   "cell_type": "code",
   "execution_count": 13,
   "metadata": {},
   "outputs": [],
   "source": [
    "prompt = ChatPromptTemplate.from_messages(      # 파이썬 코드 작성을 지시하는 프롬프트\n",
    "    [\n",
    "        (\n",
    "            'system',\n",
    "            'You are Raymond Hetting, an expert python programmer, well versed in meta-programming and elegant, concise and short but well documented code. You follow the PEP8 style guide. '\n",
    "            'Return only the code, no intro, no explanation, no chatty, no markdown, no code block, no nothing. Just the code.',\n",
    "        ),\n",
    "        ('human', '{input}'),\n",
    "    ]\n",
    ")"
   ]
  },
  {
   "cell_type": "code",
   "execution_count": null,
   "metadata": {},
   "outputs": [],
   "source": [
    "llm = ChatOpenAI( \n",
    "    api_key=key,\n",
    "    model='gpt-4o-mini', \n",
    "    temperature=0\n",
    ")"
   ]
  },
  {
   "cell_type": "code",
   "execution_count": 15,
   "metadata": {},
   "outputs": [],
   "source": [
    "output_parser = StrOutputParser()"
   ]
  },
  {
   "cell_type": "code",
   "execution_count": 16,
   "metadata": {},
   "outputs": [],
   "source": [
    "chain = prompt | llm | output_parser | RunnableLambda(print_and_execute)"
   ]
  },
  {
   "cell_type": "code",
   "execution_count": 19,
   "metadata": {},
   "outputs": [
    {
     "name": "stdout",
     "output_type": "stream",
     "text": [
      "CODE:\n",
      "import random\n",
      "\n",
      "def generate_lotto_numbers():\n",
      "    \"\"\"Generate a set of 6 unique lotto numbers from 1 to 45.\"\"\"\n",
      "    return sorted(random.sample(range(1, 46), 6))\n",
      "\n",
      "if __name__ == \"__main__\":\n",
      "    print(generate_lotto_numbers())\n",
      "\n"
     ]
    }
   ],
   "source": [
    "print(chain.invoke('로또 번호 생성기를 출력하는 코드를 작성해주세요.', debug=True))"
   ]
  },
  {
   "cell_type": "markdown",
   "metadata": {},
   "source": [
    "### 검색 API 도구\n",
    "\n",
    "TavilyAnswer 검색 API를 활용하여 검색 기능을 구현하는 도구. \n",
    "<br>\n",
    "\n",
    "`TavilySearchResults` Tavily 검색 API를 실행하고 JSON 형식의 결과를 리턴.\n",
    "<br>\n",
    "\n",
    "매개변수: \n",
    "\n",
    "- max_results  (int) : 리턴 할 최대 검색 결과 개수 (default: 5)\n",
    "- search_depth(str) : 검색 깊이(basic 또는 advanced) \n",
    "  - basic : 기본값\n",
    "  - advanced : Tavily 검색 API가 더 깊고 광범위한 검색을 수행하도록 지시.\n",
    "- include_domains (List[str]): 검색 결과에 포함할 도메인 목록\n",
    "- exclude_domains (List[str]): 검색 결과에서 제외할 도메인 목록\n",
    "- include_answer (bool): 원본 쿼리에 대한 짧은 답변을 포함 할 것인가\n",
    "- include_raw_content (bool): 각 사이트의 정제된 HTML 콘텐츠를 포함할 것인지. 원본을 포함할 것인가\n",
    "- include_images (bool): 쿼리 관련 이미지 목록 포함할 것인지\n",
    "\n",
    "리턴 값:\n",
    "\n",
    "- 검색 결과를 포함하는 JSON 문자열(uri, content)"
   ]
  },
  {
   "cell_type": "code",
   "execution_count": 20,
   "metadata": {},
   "outputs": [],
   "source": [
    "from langchain_community.tools.tavily_search import TavilySearchResults\n",
    "\n",
    "tool = TavilySearchResults(                         # 도구 생성\n",
    "    max_results=3,                                  # 검색 결과 수\n",
    "    search_depth='advanced',                        # Tavily 검색 API가 더 깊고 광범위한 검색을 수행하도록 지시\n",
    "    include_raw_content=True,                       # 검색 결과의 원본 내용 포함\n",
    "    include_answer=True,                            # 검색 결과를 바탕으로 생성된 답변 포함\n",
    "    include_images=True,                            # 검색 결과에 이미지 포함\n",
    "    include_domains=['github.io', 'naver.com']      # 검색 대상 도메인을 github.io와 naver.com으로 제한\n",
    ")"
   ]
  },
  {
   "cell_type": "code",
   "execution_count": 23,
   "metadata": {},
   "outputs": [],
   "source": [
    "answer = tool.invoke({'query':'랭체인 Tool에 대해서 알려주세요'})"
   ]
  },
  {
   "cell_type": "code",
   "execution_count": 24,
   "metadata": {},
   "outputs": [
    {
     "data": {
      "text/plain": [
       "[{'url': 'https://post.naver.com/viewer/postView.naver?volumeNo=38409843&vType=VERTICAL',\n",
       "  'content': 'LangChain(랭체인) 은 대규모 언어 모델 (LLM) 을 활용한 애플리케이션 개발에 특화된 오픈소스 프레임워크입니다. LangChain 은 기존 언어 모델의 한계를 극복하고, AI 기술을 활용한 새로운 애플리케이션을 구축할 수 있는 중요한 도구로 자리 잡고 있습니다.'},\n",
       " {'url': 'https://blog.naver.com/PostView.naver?blogId=agapeuni&logNo=223590787053',\n",
       "  'content': '[인공지능·AI] LLM 프레임워크 : 랭체인(LangChain)을 알아보자 : 네이버 블로그 NAVER 블로그 블로그 검색 블로그 주소 변경 불가 안내블로그 마켓 판매자의 이력 관리를 위해 블로그 주소 변경이 불가합니다. 블로그 아이디가 필요해요!블로그에서 진짜 나를 기록하고 블로그 아이디 만들기 블로그 아이디 만들기 레이어 닫기 설정한 아이디는 나중에 변경할 수 없으니 신중하게 입력해주세요. 변경 전 공유된 블로그/글/클립 링크는 연결이 끊길 수 있습니다. 블로그 도움말에서 아이디 변경 유의사항을 확인해보세요. 2. 블로그 아이디는 한번 변경하면 취소 확인 블로그 아이디는 한번 정하면 취소 확인 블로그 아이디가 만들어졌어요. 나중에 언제든지 변경할 수 있어요. 블로그 주제 주제 없음 블로그 시작하기 내 블로그  블로그 홈  프로필 사진 변경 알림 전체 알림 블로그 전체 서비스 보기 네이버 주요 서비스 바로가기 설정전체 서비스 보기 네이버 MYBOX 블로그 VIBE_New_ 블로그 메뉴 블로그  블로그'},\n",
       " {'url': 'https://m.blog.naver.com/ilovehandson/223124167133',\n",
       "  'content': '\\u200b\\n스키마(4 항목)\\n모델(3항목)\\n프롬프트(4항목)\\n인덱스(4항목)\\n메모리(1항목)\\n체인(4항목)\\n에이전트(4항목)\\n스키마\\n이 섹션에서는 코드베이스 전체에서 사용되는 기본 데이터 유형과 스키마에 대해 설명합니다.\\n \\u200b\\n문서를 다음 섹션으로 나누어 설명합니다:\\n\\u200b\\n📄️ 도구(Tools)\\n언어 모델이 다른 리소스와 상호 작용하는 방식\\n\\u200b\\n언어 모델이 함수와 쉽게 상호 작용할 수 있도록 하는 함수에 대한 dodream7@naver.com\\n이 블로그\\n시맨틱 커널\\n카테고리 글\\n카테고리\\n이 블로그\\n시맨틱 커널\\n카테고리 글 \\u200b\\n이 문서 섹션은 네 개의 섹션으로 나뉩니다:\\n\\u200b\\n📄️ 프롬프트 값(PromptValue)\\n모델에 대한 입력을 나타내는 클래스입니다.\\n 에이전트 실행기는 에이전트를 호출하고,\\n액션과 액션 입력을 다시 받고,\\n해당 입력으로 액션이 참조하는 도구를 호출하고,\\n도구의 출력을 가져온 다음 모든 정보를 다시 에이전트로 전달하여\\n다음 액션을 가져오는 일을 담당합니다.\\n'}]"
      ]
     },
     "execution_count": 24,
     "metadata": {},
     "output_type": "execute_result"
    }
   ],
   "source": [
    "answer"
   ]
  },
  {
   "cell_type": "code",
   "execution_count": null,
   "metadata": {},
   "outputs": [
    {
     "name": "stdout",
     "output_type": "stream",
     "text": [
      "[{'url': 'https://blog.naver.com/PostView.naver?blogId=justiiii&logNo=223748389874', 'content': '디즈니 애니메이션 인어공주 속에는 단순한 판타지가 아니라 역사적 배경과 깊은 교훈이 담겨 있어요. 대항해 시대의 탐험 정신, 산업혁명의 변화, 여성의 독립과 권리 등 다양한 역사적 요소를 자연스럽게 연결할 수 있답니다.'}, {'url': 'https://blog.naver.com/PostView.naver?blogId=h2you05&logNo=140007872446', 'content': '첫 댓글을 남겨보세요 공유하기'}, {'url': 'https://blog.naver.com/PostView.naver?blogId=dk9667&logNo=150145853611', 'content': '이 블로그에서 검색. 공감. 댓글 29'}]\n"
     ]
    }
   ],
   "source": [
    "from langchain_community.tools.tavily_search import TavilySearchResults\n",
    "\n",
    "tool = TavilySearchResults(                         # 도구 생성\n",
    "    max_results=3,                                  # 검색 결과 수\n",
    "    search_depth='advanced',                        # Tavily 검색 API가 더 깊고 광범위한 검색을 수행하도록 지시\n",
    "    include_raw_content=True,                       # 검색 결과의 원본 내용 포함\n",
    "    include_answer=True,                            # 검색 결과를 바탕으로 생성된 답변 포함\n",
    "    include_images=True,                            # 검색 결과에 이미지 포함\n",
    "    include_domains=['google.com', 'naver.com']     # 검색 대상 도메인을 github.io와 naver.com으로 제한\n",
    ")\n",
    "\n",
    "answer = tool.invoke({'query':'인어공주에 대해서 알려주세요'})\n",
    "print(answer)"
   ]
  }
 ],
 "metadata": {
  "kernelspec": {
   "display_name": "venv",
   "language": "python",
   "name": "python3"
  },
  "language_info": {
   "codemirror_mode": {
    "name": "ipython",
    "version": 3
   },
   "file_extension": ".py",
   "mimetype": "text/x-python",
   "name": "python",
   "nbconvert_exporter": "python",
   "pygments_lexer": "ipython3",
   "version": "3.11.9"
  }
 },
 "nbformat": 4,
 "nbformat_minor": 2
}
