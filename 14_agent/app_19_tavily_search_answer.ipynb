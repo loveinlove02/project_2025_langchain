{
 "cells": [
  {
   "cell_type": "code",
   "execution_count": 1,
   "metadata": {},
   "outputs": [],
   "source": [
    "from dotenv import load_dotenv\n",
    "import os\n",
    "\n",
    "load_dotenv(verbose=True)\n",
    "key = os.getenv('OPENAI_API_KEY')"
   ]
  },
  {
   "cell_type": "code",
   "execution_count": 2,
   "metadata": {},
   "outputs": [],
   "source": [
    "from langchain_community.tools.tavily_search import TavilySearchResults"
   ]
  },
  {
   "cell_type": "code",
   "execution_count": 3,
   "metadata": {},
   "outputs": [],
   "source": [
    "# 도구 생성\n",
    "tool = TavilySearchResults(\n",
    "    max_results=6,                  # 반환할 최대 검색 결과 수 (기본값: 5)\n",
    "    include_answer=True,            # 원본 쿼리에 대한 짧은 답변 포함 여부\n",
    "    include_raw_content=True,       # 각 사이트의 정제된 HTML 콘텐츠 포함 여부\n",
    "    # include_images=True,          # 쿼리 관련 이미지 목록 포함 여부\n",
    "    # search_depth=\"advanced\",      # 검색 깊이 (\"basic\" 또는 \"advanced\")\n",
    "    include_domains=[\"github.io\", \"wikidocs.net\"],  # 검색 결과에 포함할 도메인 목록\n",
    "    # exclude_domains = []\n",
    ")"
   ]
  },
  {
   "cell_type": "code",
   "execution_count": 4,
   "metadata": {},
   "outputs": [
    {
     "data": {
      "text/plain": [
       "[{'url': 'https://wikidocs.net/253107',\n",
       "  'content': '개인화된 프롬프트(Hub에 업로드) CH03 출력 파서(Output Parsers) 01. 출력 수정 파서(OutputFixingParser) CH04 모델(Model) 01. 재귀적 JSON 분할(RecursiveJsonSplitter) CH08 임베딩(Embedding) 01. 허깅페이스 임베딩(HuggingFace Embeddings) 04. FlashRank Reranker CH12 Retrieval Augmented Generation(RAG) 01. 대화내용을 기억하는 RAG 체인 CH13 LangChain Expression Language(LCEL) 01. 구조화된 출력 체인(with_structered_output) CH15 평가(Evaluations) 01. 임베딩 기반 평가(embedding_distance) 07. 온라인 평가를 활용한 평가 자동화 CH16 에이전트(Agent) 01. 도구를 활용한 토론 에이전트(Two Agent Debates with Tools) CH17 LangGraph 01. Agent 에 메모리(memory) 추가 05. CH08 임베딩(Embedding) embedded_query = ollama_embeddings.embed_query(\"LangChain 에 대해서 상세히 알려주세요.\") 질문(embedded_query): LangChain 에 대해서 알려주세요. [1] 유사도: 356.518 | 랭체인 한국어 튜토리얼은 LangChain의 공식 문서, cookbook 및 다양한 실용 예제를 바탕으로 하여 사용자가 LangChain을 더 쉽고 효과적으로 활용할 수 있도록 구성되어 있습니다. Do you want to report this comment?'},\n",
       " {'url': 'https://wikidocs.net/262582',\n",
       "  'content': \"LangChain 에서 기본 제공하는 도구를 사용하여 쉽게 도구를 활용할 수 있으며, 사용자 정의 도구(Custom Tool) 를 쉽게 구축하는 것도 가능합니다. LangChain 한국어 튜토리얼\\\\n바로가기 👀\\\\n[LangChain] 에이전트(Agent)와 도구(tools)를 활용한 지능형 검색 시스템 구축 가이드\\\\n2024년 02월 09일\\\\n41 분 소요\\\\n이 글에서는 LangChain 의 Agent 프레임워크를 활용하여 복잡한 검색과 📍 전체 템플릿 코드\\\\n다음의 추적 링크에서 자세한 단계별 수행 결과를 확인할 수 있습니다\\\\nLangSmith 추적\\\\n마무리입니다!\\\\n 문서 기반 QA 시스템 설계 방법 - 심화편\\\\n2024년 02월 06일\\\\n22 분 소요\\\\nLangChain의 RAG 시스템을 통해 문서(PDF, txt, 웹페이지 등)에 대한 질문-답변을 찾는 과정을 정리하였습니다.\\\\n'},  {'url': 'https://wikidocs.net/234282',  'content': 'Mar 19, 2024 · langchain 은 언어 모델과 관련된 다양한 기능을 제공하는 라이브러리로, 이 중 검색 도구 생성 기능은 데이터 검색 및 처리 작업을 용이하게 한다.'}] 이 도구를 사용하면 DALL-E API를 쉽게 통합하여 텍스트 기반 이미지 생성 기능을 구현할 수 있습니다.\"},\n",
       " {'url': 'https://wikidocs.net/265723',\n",
       "  'content': 'content=\\'[수정된 웹 검색 결과] \\\\nLangGraph는 상태 기반의 다중 액터 애플리케이션을 LLM을 활용해 구축할 수 있도록 지원합니다.\\\\nLangGraph는 사이클 흐름, 제어 가능성, 지속성, 클라우드 배포 기능을 제공하는 오픈 소스 라이브러리입니다.\\\\n\\\\n자세한 튜토리얼은 [LangGraph 튜토리얼](https://langchain-ai.github.io/langgraph/tutorials/) 과\\\\n테디노트의 [랭체인 한국어 튜토리얼](https://wikidocs.net/233785) 을 참고하세요.\\' id=\\'7eb0cf12-f253-44a8-b0f4-c2cbb718c172\\' tool_call_id=\\'call_uAZwKKbpIcMsKKOHI6aFIMty\\' graph.get_state(config).values[\"messages\"][-1].tool_calls 이 글에서는 LangGraph의 다중 에이전트 협업을 통해 이러한 문제들을 효과적으로 해결하는 방법을 소개합니다.🔥알림🔥\\\\n① 테디노트 유튜브 -\\\\n구경하러 가기!\\\\n② LangChain 한국어 튜토리얼\\\\n바로가기 👀\\\\n③ 랭체인 노트 무료 전자책(wikidocs)\\\\n바로가기 🙌\\\\n④ RAG 비법노트 LangChain 강의오픈\\\\n바로가기 🙌\\\\n⑤ 서울대 PyTorch 딥러닝 강의\\\\n바로가기 🙌\\\\nLangGraph - Multi-Agent Collaboration(다중 협업 에이전트) 로 복잡한 테스크를 수행하는 LLM 어플리케이션 제작\\\\n2024년 01월 29일\\\\n26 분 소요Retrieval...\\\\n[LangChain] 에이전트(Agent)와 도구(tools)를 활용한 지능형 검색 시스템 구축 가이드\\\\n2024년 02월 09일\\\\n41 분 소요\\\\n이 글에서는 LangChain 의 Agent 프레임워크를 활용하여 복잡한 검색과 데이터 처리 작업을 수행하는 방법을 소개합니다. graph.get_state(to_replay_state.config).values[\"messages\"][-1].tool_calls'},\n",
       " {'url': 'https://wikidocs.net/book/14314',\n",
       "  'content': \"대화내용을 기억하는 RAG 체인 CH13 LangChain Expression Language(LCEL) 01. 구조화된 출력 체인(with_structered_output) CH15 평가(Evaluations) 01. 온라인 평가를 활용한 평가 자동화 CH16 에이전트(Agent) 01. 도구를 활용한 토론 에이전트(Two Agent Debates with Tools) CH17 LangGraph 01. 한글 형태소 분석기(Kiwi, Kkma, Okt) + BM25 검색기 - shcheon99@naver.com, Jan. 9, 2025, 12:28 p.m. 출력된 결과를 비교했을 때, kiwi tokenizer을 사용한 결과와 kkma, okt 를 사용한 결과가 큰 차이가 없다고 봐도 되는 건가요? CH01 LangChain 시작하기 - NamHyeon, Dec. 8, 2024, 1:17 p.m. 좋은 자료를 무료로 공유해 주셔서, 감사한 마음에 '테디노트의 RAG 비법노트' 강의 등록했습니다 ! 대화 토큰 버퍼 메모리(ConversationTokenBufferMemory) - Jan. 16, 2025, 12:23 a.m. 멀티 에이전트 감독자(Multi-Agent Supervisor) - Dec. 23, 2024, 3:04 a.m. 계층적 멀티 에이전트 팀(Hierarchical Multi-Agent Teams) - Dec. 23, 2024, 3:04 a.m.\"},\n",
       " {'url': 'https://wikidocs.net/233805',\n",
       "  'content': 'Runnable CH02 프롬프트(Prompt) 01. 개인화된 프롬프트(Hub에 업로드) CH03 출력 파서(Output Parsers) 01. 출력 수정 파서(OutputFixingParser) CH04 모델(Model) 01. 재귀적 JSON 분할(RecursiveJsonSplitter) CH08 임베딩(Embedding) 01. 대화내용을 기억하는 RAG 체인 CH13 LangChain Expression Language(LCEL) 01. 폴백(fallback) 모델 지정 CH14 체인(Chains) 01. 구조화된 출력 체인(with_structered_output) CH15 평가(Evaluations) 01. 온라인 평가를 활용한 평가 자동화 CH16 에이전트(Agent) 01. 도구를 활용한 토론 에이전트(Two Agent Debates with Tools) CH17 LangGraph 01. CH04 모델(Model) 지원되는 모델 및 모델 변형의 전체 목록은 Ollama model library를 참조하세요. ollama pull <name-of-model> 명령을 사용하여 사용 가능한 LLM 모델을 가져오세요. Llama chat 모델(예: ollama pull llama2:7b-chat)을 사용하는 경우 ChatOllama 인터페이스를 사용할 수 있습니다. pil_image.save(buffered, format=\"JPEG\")  # 필요한 경우 형식을 변경할 수 있습니다. # Base64 문자열을 소스로 사용하여 HTML img 태그 생성 image_b64 = convert_to_base64(pil_image) plt_img_base64(image_b64)'},\n",
       " {'url': 'https://wikidocs.net/267816',\n",
       "  'content': '에이전트 대화 시뮬레이션 (고객 응대 시나리오) - <랭체인LangChain 노트> - LangChain 한국어 튜토리얼🇰🇷 사용자 정의(Custom) LLM 평가 08. 온라인 평가를 활용한 평가 자동화 CH16 에이전트(Agent) 01. 도구를 활용한 토론 에이전트(Two Agent Debates with Tools) CH17 LangGraph 01. from langgraph.graph.message import add_messages messages: Annotated[list, add_messages]  # 사용자 - 상담사 간의 대화 메시지 from langchain_core.messages import HumanMessage, AIMessage, BaseMessage # LangChain ChatOpenAI 모델을 Agent 로 변경할 수 있습니다. 고객 역할(Simulated User) 정의 from langchain_core.messages import HumanMessage   from langchain_core.messages import AIMessage   def ai_assistant_node(messages): return {\"messages\": [(\"assistant\", ai_response)]} 상담사 역할(AI Assistant) 노드 정의 ai_response = call_chatbot(state[\"messages\"])   return {\"messages\": [(\"assistant\", ai_response)]} 시뮬레이션된 사용자(Simulated User) 노드 정의 graph_builder.add_edge(\"ai_assistant\", \"simulated_user\")   from langchain_teddynote.messages import stream_graph, random_uuid   stream_graph(simulation, inputs, config, node_names=[\"simulated_user\", \"ai_assistant\"])'}]"
      ]
     },
     "execution_count": 4,
     "metadata": {},
     "output_type": "execute_result"
    }
   ],
   "source": [
    "tool.invoke({'query': 'Langchain Agent에 대해서 알려주세요.'})"
   ]
  }
 ],
 "metadata": {
  "kernelspec": {
   "display_name": "venv",
   "language": "python",
   "name": "python3"
  },
  "language_info": {
   "codemirror_mode": {
    "name": "ipython",
    "version": 3
   },
   "file_extension": ".py",
   "mimetype": "text/x-python",
   "name": "python",
   "nbconvert_exporter": "python",
   "pygments_lexer": "ipython3",
   "version": "3.11.9"
  }
 },
 "nbformat": 4,
 "nbformat_minor": 2
}
