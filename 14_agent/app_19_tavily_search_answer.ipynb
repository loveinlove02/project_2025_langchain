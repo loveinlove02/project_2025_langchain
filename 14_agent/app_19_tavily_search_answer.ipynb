{
 "cells": [
  {
   "cell_type": "code",
   "execution_count": 2,
   "metadata": {},
   "outputs": [],
   "source": [
    "from dotenv import load_dotenv\n",
    "import os\n",
    "\n",
    "load_dotenv(verbose=True)\n",
    "key = os.getenv('OPENAI_API_KEY')"
   ]
  },
  {
   "cell_type": "code",
   "execution_count": 3,
   "metadata": {},
   "outputs": [],
   "source": [
    "from langchain_community.tools.tavily_search import TavilySearchResults"
   ]
  },
  {
   "cell_type": "code",
   "execution_count": 4,
   "metadata": {},
   "outputs": [],
   "source": [
    "# 도구 생성\n",
    "tool = TavilySearchResults(\n",
    "    max_results=6,                  # 반환할 최대 검색 결과 수 (기본값: 5)\n",
    "    include_answer=True,            # 원본 쿼리에 대한 짧은 답변 포함 여부\n",
    "    include_raw_content=True,       # 각 사이트의 정제된 HTML 콘텐츠 포함 여부\n",
    "    # include_images=True,          # 쿼리 관련 이미지 목록 포함 여부\n",
    "    # search_depth=\"advanced\",      # 검색 깊이 (\"basic\" 또는 \"advanced\")\n",
    "    include_domains=[\"github.io\", \"wikidocs.net\"],  # 검색 결과에 포함할 도메인 목록\n",
    "    # exclude_domains = []\n",
    ")"
   ]
  },
  {
   "cell_type": "code",
   "execution_count": 5,
   "metadata": {},
   "outputs": [
    {
     "data": {
      "text/plain": [
       "[{'url': 'https://langchain-ai.github.io/langgraph/agents/agents/',\n",
       "  'content': 'Agents\\nSkip to content\\nJoin us at Interrupt: The Agent AI Conference by LangChain on May 13 & 14 in San Francisco!\\n \\nLangGraph\\nAgents\\n\\nInitializing search\\nGitHub\\n\\nLangGraph\\nAgents\\nReference\\n\\n LangGraph\\nGitHub\\n\\nLangGraph\\n\\n[ ]  Agents\\nAgents\\n\\nOverview\\n\\n[ ]  Get started\\nGet started\\n\\n\\n[ ]  Agents Agents\\nTable of contents\\n\\nWhat is an agent?\\nBasic configuration\\nLLM configuration\\n\\nCustom Prompts\\n\\nStatic prompts\\nDynamic prompts\\n\\n\\n\\nMemory\\n\\nStructured output\\n\\n\\n\\n\\n\\n[ ]  Documentation\\nDocumentation [...] Agents¶\\nWhat is an agent?¶\\nAn agent consists of three components: a large language model (LLM), a set of tools it can use, and a prompt that provides instructions.\\nThe LLM operates in a loop. In each iteration, it selects a tool to invoke, provides input, receives the result (an observation), and uses that observation to inform the next action. The loop continues until a stopping condition is met — typically when the agent has gathered enough information to respond to the user.'},\n",
       " {'url': 'https://wikidocs.net/book/14473',\n",
       "  'content': '랭체인(LangChain) ... LangChain Agent - 도구 호출 (Tool Calling) 4-1. 랭체인 내장(pre-built) 도구 4-2-1. 웹 검색 도구 활용 4-2-2. 코드 인터프리터 도구 활용 4-2-3. SQL 데이터베이스 툴킷(Toolkit) 사용 - SQLite 예제 4-2. 사용자 정의 (custom) 도구'},\n",
       " {'url': 'https://filippo-merlo.github.io/files/HLT_project_report___Filippo_Merlo.pdf',\n",
       "  'content': 'the features used for their customization. Third, I will detail how their interaction was structured to simulate the ... using the functions and methods of LangChain. The generative agent class LangChain provides accepts these main arguments we used for the personalization: • age: The optional age of the character.'},\n",
       " {'url': 'https://thinhdanggroup.github.io/langchain-memories/',\n",
       "  'content': 'LangChain is a powerful platform for creating conversational AI applications using language models and chains. One of the key features of LangChain is its memory module, which provides various types of memory components for managing and manipulating chat histories and information.\\nMemory Types in LangChain\\nLangChain offers several memory types, each with its own functionality and purpose. Here is a brief overview of each memory type:'},\n",
       " {'url': 'https://langchain-ai.github.io/langgraph/reference/agents/',\n",
       "  'content': '[](https://langchain-ai.github.io/langgraph/reference/agents/#__codelineno-0-5)fromlangchain_core.toolsimport tool\\n[](https://langchain-ai.github.io/langgraph/reference/agents/#__codelineno-0-6)\\n[](https://langchain-ai.github.io/langgraph/reference/agents/#__codelineno-0-7)fromlanggraph.prebuiltimport InjectedState, ToolNode\\n[](https://langchain-ai.github.io/langgraph/reference/agents/#__codelineno-0-8)\\n[](https://langchain-ai.github.io/langgraph/reference/agents/#__codelineno-0-9) [...] [](https://langchain-ai.github.io/langgraph/reference/agents/#__codelineno-0-8)>>> fromtypingimport Annotated\\n[](https://langchain-ai.github.io/langgraph/reference/agents/#__codelineno-0-9)>>> fromtyping_extensionsimport TypedDict\\n[](https://langchain-ai.github.io/langgraph/reference/agents/#__codelineno-0-10)...\\n[](https://langchain-ai.github.io/langgraph/reference/agents/#__codelineno-0-11)>>> @tool [...] [](https://langchain-ai.github.io/langgraph/reference/agents/#__codelineno-0-5)fromlangchain_core.toolsimport tool\\n[](https://langchain-ai.github.io/langgraph/reference/agents/#__codelineno-0-6)\\n[](https://langchain-ai.github.io/langgraph/reference/agents/#__codelineno-0-7)fromlanggraph.store.memoryimport InMemoryStore\\n[](https://langchain-ai.github.io/langgraph/reference/agents/#__codelineno-0-8)fromlanggraph.prebuiltimport InjectedStore, ToolNode'},\n",
       " {'url': 'https://wikidocs.net/262586',\n",
       "  'content': 'Agent 생성 from langchain_openai import ChatOpenAI from langchain.agents import create_tool_calling_agent # LLM 정의 llm = ChatOpenAI (model=\"gpt-4o-mini\", temperature=0) # Agent 생성 agent = create_tool_calling_agent (llm, tools, prompt)'}]"
      ]
     },
     "execution_count": 5,
     "metadata": {},
     "output_type": "execute_result"
    }
   ],
   "source": [
    "tool.invoke({'query': 'Langchain Agent에 대해서 알려주세요.'})"
   ]
  }
 ],
 "metadata": {
  "kernelspec": {
   "display_name": "venv",
   "language": "python",
   "name": "python3"
  },
  "language_info": {
   "codemirror_mode": {
    "name": "ipython",
    "version": 3
   },
   "file_extension": ".py",
   "mimetype": "text/x-python",
   "name": "python",
   "nbconvert_exporter": "python",
   "pygments_lexer": "ipython3",
   "version": "3.11.9"
  }
 },
 "nbformat": 4,
 "nbformat_minor": 2
}
