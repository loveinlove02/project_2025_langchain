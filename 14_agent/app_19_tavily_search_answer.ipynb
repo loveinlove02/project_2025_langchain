{
 "cells": [
  {
   "cell_type": "code",
   "execution_count": 1,
   "metadata": {},
   "outputs": [],
   "source": [
    "from dotenv import load_dotenv\n",
    "import os\n",
    "\n",
    "load_dotenv(verbose=True)\n",
    "key = os.getenv('OPENAI_API_KEY')"
   ]
  },
  {
   "cell_type": "code",
   "execution_count": 3,
   "metadata": {},
   "outputs": [],
   "source": [
    "from langchain_community.tools.tavily_search import TavilySearchResults"
   ]
  },
  {
   "cell_type": "code",
   "execution_count": 4,
   "metadata": {},
   "outputs": [],
   "source": [
    "# 도구 생성\n",
    "tool = TavilySearchResults(\n",
    "    max_results=6,                  # 반환할 최대 검색 결과 수 (기본값: 5)\n",
    "    include_answer=True,            # 원본 쿼리에 대한 짧은 답변 포함 여부\n",
    "    include_raw_content=True,       # 각 사이트의 정제된 HTML 콘텐츠 포함 여부\n",
    "    # include_images=True,          # 쿼리 관련 이미지 목록 포함 여부\n",
    "    # search_depth=\"advanced\",      # 검색 깊이 (\"basic\" 또는 \"advanced\")\n",
    "    include_domains=[\"github.io\", \"wikidocs.net\"],  # 검색 결과에 포함할 도메인 목록\n",
    "    # exclude_domains = []\n",
    ")"
   ]
  },
  {
   "cell_type": "code",
   "execution_count": 6,
   "metadata": {},
   "outputs": [
    {
     "data": {
      "text/plain": [
       "[{'url': 'https://jayhey.github.io/deep%20learning/2023/04/29/langchain-practice/',\n",
       "  'content': '```\\nAgent\\nAgent 또한 chain과 더불어 랭체인에서 가장 중요한 개념 중 하나라고 볼 수 있습니다. 다양한 tool을 사용하여 사용자의 입력에 따라 상황에 맞게 다른 결과를 반환받을 수 있습니다. 이제까지 설명했던 component들이 모두 LLM과 text와의 상호 작용 위주였다면, agent는 외부 다른 리소스와 상호작용이 가능하게끔 도와줍니다. ChatGPT가 2021년 까지의 데이터만 가지고 학습된만큼 최신 데이터를 실시간으로 검색해서 사용하고 싶다거나, 특정 API를 손쉽게 사용하고 싶다면 agnet를 활용하여 개발이 가능합니다.\\n기본적으로 agent에는 다양한 tool들이 있습니다. 구글 검색 결과를 활용할 수 있는 serpapi 부터 날씨 정보를 알 수 있는 openweather api 등 수많은 기능들을 제공하며 지금 현재도 계속 추가되고 있습니다.'},\n",
       " {'url': 'https://jayhey.github.io/deep%20learning/2023/04/29/langchain-practice/',\n",
       "  'content': '```\\nAgent\\nAgent 또한 chain과 더불어 랭체인에서 가장 중요한 개념 중 하나라고 볼 수 있습니다. 다양한 tool을 사용하여 사용자의 입력에 따라 상황에 맞게 다른 결과를 반환받을 수 있습니다. 이제까지 설명했던 component들이 모두 LLM과 text와의 상호 작용 위주였다면, agent는 외부 다른 리소스와 상호작용이 가능하게끔 도와줍니다. ChatGPT가 2021년 까지의 데이터만 가지고 학습된만큼 최신 데이터를 실시간으로 검색해서 사용하고 싶다거나, 특정 API를 손쉽게 사용하고 싶다면 agnet를 활용하여 개발이 가능합니다.\\n기본적으로 agent에는 다양한 tool들이 있습니다. 구글 검색 결과를 활용할 수 있는 serpapi 부터 날씨 정보를 알 수 있는 openweather api 등 수많은 기능들을 제공하며 지금 현재도 계속 추가되고 있습니다.'},\n",
       " {'url': 'https://teddylee777.github.io/langchain/langchain-agent/',\n",
       "  'content': '이 글에서는 LangChain 의 Agent 프레임워크를 활용하여 복잡한 검색과 데이터 처리 작업을 수행하는 방법을 소개합니다. LangSmith 를 사용하여 Agent의 추론 단계를 추적합니다. Agent가 활용할 검색 도구(Tavily Search), PDF 기반 검색 리트리버(Retriever) 와 같은 도구(tools) 를 사용하여 에이전트를 구축하고 실행하는 과정을 단계별로 알아보도록 하겠습니다.\\n주요내용\\n\\n🤖 에이전트의 개념과 구축 방법에 대한 설명\\n🔍 Tavily Search와 같은 검색 도구, PDF 기반 검색 도구를 정의하는 법\\n🛠 에이전트가 사용할 도구 목록 생성 및 정의\\n🚀 AgentExecutor를 통한 에이전트 실행 및 상호작용\\n🧠 상태 유지를 위한 메모리 기능 구현\\n📍 완성형 템플릿 코드 [...] 🤖 Agent 란?\\n에이전트 프레임워크를 가장 잘 이해하기 위해서, 온라인에서 정보를 찾는 도구 하나와 우리가 인덱스로 로드한 특정 데이터를 찾는 도구 하나를 가진 에이전트를 만들어 보겠습니다.\\n아래의 링크에서 LangChain 의 Agent 프레임워크 컨셉을 자세히 살펴보실 수 있습니다.\\n\\n공식 도큐먼트 - Agent Concepts [...] 이번 튜토리얼에서는 우리는 간단한 에이전트를 만드는 방법을 다뤘습니다.\\n에이전트는 복잡한 주제이며 배울 것이 많습니다! 개념 가이드, 다양한 유형의 에이전트, 맞춤형 도구를 만드는 방법 등 더 많은 자료를 찾으려면 한국어 튜토리얼(Agent) 를 참고해 주세요!\\nReference\\n본 튜토리얼은 LangChain 튜토리얼 노트북 파일을 참조하여 작성하였습니다.'},\n",
       " {'url': 'https://teddylee777.github.io/langchain/langchain-agent/',\n",
       "  'content': '이 글에서는 LangChain 의 Agent 프레임워크를 활용하여 복잡한 검색과 데이터 처리 작업을 수행하는 방법을 소개합니다. LangSmith 를 사용하여 Agent의 추론 단계를 추적합니다. Agent가 활용할 검색 도구(Tavily Search), PDF 기반 검색 리트리버(Retriever) 와 같은 도구(tools) 를 사용하여 에이전트를 구축하고 실행하는 과정을 단계별로 알아보도록 하겠습니다.\\n주요내용\\n\\n🤖 에이전트의 개념과 구축 방법에 대한 설명\\n🔍 Tavily Search와 같은 검색 도구, PDF 기반 검색 도구를 정의하는 법\\n🛠 에이전트가 사용할 도구 목록 생성 및 정의\\n🚀 AgentExecutor를 통한 에이전트 실행 및 상호작용\\n🧠 상태 유지를 위한 메모리 기능 구현\\n📍 완성형 템플릿 코드 [...] 🤖 Agent 란?\\n에이전트 프레임워크를 가장 잘 이해하기 위해서, 온라인에서 정보를 찾는 도구 하나와 우리가 인덱스로 로드한 특정 데이터를 찾는 도구 하나를 가진 에이전트를 만들어 보겠습니다.\\n아래의 링크에서 LangChain 의 Agent 프레임워크 컨셉을 자세히 살펴보실 수 있습니다.\\n\\n공식 도큐먼트 - Agent Concepts [...] 이번 튜토리얼에서는 우리는 간단한 에이전트를 만드는 방법을 다뤘습니다.\\n에이전트는 복잡한 주제이며 배울 것이 많습니다! 개념 가이드, 다양한 유형의 에이전트, 맞춤형 도구를 만드는 방법 등 더 많은 자료를 찾으려면 한국어 튜토리얼(Agent) 를 참고해 주세요!\\nReference\\n본 튜토리얼은 LangChain 튜토리얼 노트북 파일을 참조하여 작성하였습니다.'},\n",
       " {'url': 'https://wikidocs.net/262582',\n",
       "  'content': \"'content': '태그:\\\\nAgent,\\\\nAPI KEY,\\\\nFAISS,\\\\nLangChain,\\\\nLangSmith,\\\\nmemory,\\\\nOpenAI,\\\\nPython,\\\\nRetriever,\\\\nTavily Search,\\\\ntools,\\\\n검색도구,\\\\n랭체인,\\\\n에이전트\\\\n카테고리:\\\\nlangchain\\\\n업데이트: 2024년 02월 09일\\\\n참고\\\\nLangChain RAG 파헤치기: 다음의 추적 링크에서 자세한 단계별 수행 결과를 확인할 수 있습니다\\\\nLangSmith 추적\\\\n다음의 추적 링크에서 자세한 단계별 수행 결과를 확인할 수 있습니다\\\\nLangSmith 추적\\\\n④ 메모리 추가하기\\\\n앞서 언급했듯이, 이 에이전트는 상태가 없습니다. LangChain 한국어 튜토리얼\\\\n바로가기 👀\\\\n[LangChain] 에이전트(Agent)와 도구(tools)를 활용한 지능형 검색 시스템 구축 가이드\\\\n2024년 02월 09일\\\\n41 분 소요\\\\n이 글에서는 LangChain 의 Agent [...] {'url': 'https://teddylee777.github.io/langchain/langchain-agent/', [...] <랭체인LangChain 노트> - Lang…\\nCH16 에이전트(Agent)\\n\\n01. 도구(Tools)\\n\\n\\n도서 증정 이벤트 !!\\n\\nWikiDocs\\n\\n01. 도구(Tools)\\n도구 (Tools)\\n도구(Tool)는 에이전트, 체인 또는 LLM이 외부 세계와 상호작용하기 위한 인터페이스입니다.\\nLangChain 에서 기본 제공하는 도구를 사용하여 쉽게 도구를 활용할 수 있으며, 사용자 정의 도구(Custom Tool) 를 쉽게 구축하는 것도 가능합니다.\\nLangChain 에 통합된 도구 리스트는 아래 링크에서 확인할 수 있습니다.\\n\\nLangChain 통합된 도구 리스트\"},\n",
       " {'url': 'https://wikidocs.net/262582',\n",
       "  'content': \"'content': '태그:\\\\nAgent,\\\\nAPI KEY,\\\\nFAISS,\\\\nLangChain,\\\\nLangSmith,\\\\nmemory,\\\\nOpenAI,\\\\nPython,\\\\nRetriever,\\\\nTavily Search,\\\\ntools,\\\\n검색도구,\\\\n랭체인,\\\\n에이전트\\\\n카테고리:\\\\nlangchain\\\\n업데이트: 2024년 02월 09일\\\\n참고\\\\nLangChain RAG 파헤치기: 다음의 추적 링크에서 자세한 단계별 수행 결과를 확인할 수 있습니다\\\\nLangSmith 추적\\\\n다음의 추적 링크에서 자세한 단계별 수행 결과를 확인할 수 있습니다\\\\nLangSmith 추적\\\\n④ 메모리 추가하기\\\\n앞서 언급했듯이, 이 에이전트는 상태가 없습니다. LangChain 한국어 튜토리얼\\\\n바로가기 👀\\\\n[LangChain] 에이전트(Agent)와 도구(tools)를 활용한 지능형 검색 시스템 구축 가이드\\\\n2024년 02월 09일\\\\n41 분 소요\\\\n이 글에서는 LangChain 의 Agent [...] {'url': 'https://teddylee777.github.io/langchain/langchain-agent/', [...] <랭체인LangChain 노트> - Lang…\\nCH16 에이전트(Agent)\\n\\n01. 도구(Tools)\\n\\n\\n도서 증정 이벤트 !!\\n\\nWikiDocs\\n\\n01. 도구(Tools)\\n도구 (Tools)\\n도구(Tool)는 에이전트, 체인 또는 LLM이 외부 세계와 상호작용하기 위한 인터페이스입니다.\\nLangChain 에서 기본 제공하는 도구를 사용하여 쉽게 도구를 활용할 수 있으며, 사용자 정의 도구(Custom Tool) 를 쉽게 구축하는 것도 가능합니다.\\nLangChain 에 통합된 도구 리스트는 아래 링크에서 확인할 수 있습니다.\\n\\nLangChain 통합된 도구 리스트\"},\n",
       " {'url': 'https://ncsoft.github.io/ncresearch/f4a00ed849299e3c91fb3244e74ea7f9b974ebb7',\n",
       "  'content': 'LangChain은 LLM과 LLM을 활용하는 애플리케이션을 개발하는 데 필요한 여러가지 디자인 패턴을 표준화시키려고 노력하는 것으로 보입니다. 2023년 6월 현재 버전도 0.0.200 버전으로 아직 성숙하지 않았고, 이 글에서도 잠깐 언급한 바와 같이 ChatModel처럼 customize 가능하게 할 예정이 있지만 아직 그 규칙이 정해지지 않은 것도 있습니다. 이러한 미성숙한 단계임에도 실제로 쓸 법한 용례를 꽤 많이 고려하고 있다는 것이 문서나 예제에서 잘 보입니다.\\n그리고 (만약 잘 동작한다면) Agent가 명령 한 번에 여러 Tool을 오가며 마법처럼 여러가지 동작을 하는 것은 터미널 창에 지나가는 실행 과정 텍스트를 보는 것만으로 만족스러운 점이 있습니다. [...] Agents:\\nLLM이 직접 답하는 것이 아니라 다른 외부의 도구를 사용하는 것이 더 정확하거나 유용한 것들, 이를테면 수학적인 계산이나 잘 구조화 된 데이터의 조회(예시: 특정 배우의 나이, 출연작을 조회하고 싶다)같은 LLM 외부 기능이 필요할 때에 호출될 수 있는 인터페이스를 제공하는 모듈입니다. 도구의 호출 방식을 규격화하는 Tool이 같이 사용됩니다.\\n\\n\\nCallbacks:\\nLangChain의 각 동작 단계마다 hooking을 할 수 있도록 Callback을 제공합니다. 모니터링, 로깅이나 스트리밍에 관련된 기능이기 때문에 이 글에서는 자세히 다루지 않을 예정입니다. [...] Published Time: 2023-06-23T00:00:00+00:00\\nLangChain에 대하여 |\\n\\n\\n\\n|\\nAbout\\n|\\nVARCO\\n|\\nBlogs\\n|\\nPublications\\n|\\nTags\\n|\\nLinks\\n|\\n\\n\\nNLP\\nLangChain에 대하여\\n\\n오진균(Oh Jinkyun)\\nJune 23, 2023\\n\\n개요\\n해결하려는 문제\\n모듈\\n예제: 단순한 챗봇\\n단순 질문-응답기\\n대화 맥락 기억하기\\n길이 줄이기\\n\\n\\n예제: Agent\\n예제: 실제 LLM(OpenAI)으로 Agent 실행\\n결론\\nReferences'},\n",
       " {'url': 'https://ncsoft.github.io/ncresearch/f4a00ed849299e3c91fb3244e74ea7f9b974ebb7',\n",
       "  'content': 'LangChain은 LLM과 LLM을 활용하는 애플리케이션을 개발하는 데 필요한 여러가지 디자인 패턴을 표준화시키려고 노력하는 것으로 보입니다. 2023년 6월 현재 버전도 0.0.200 버전으로 아직 성숙하지 않았고, 이 글에서도 잠깐 언급한 바와 같이 ChatModel처럼 customize 가능하게 할 예정이 있지만 아직 그 규칙이 정해지지 않은 것도 있습니다. 이러한 미성숙한 단계임에도 실제로 쓸 법한 용례를 꽤 많이 고려하고 있다는 것이 문서나 예제에서 잘 보입니다.\\n그리고 (만약 잘 동작한다면) Agent가 명령 한 번에 여러 Tool을 오가며 마법처럼 여러가지 동작을 하는 것은 터미널 창에 지나가는 실행 과정 텍스트를 보는 것만으로 만족스러운 점이 있습니다. [...] Agents:\\nLLM이 직접 답하는 것이 아니라 다른 외부의 도구를 사용하는 것이 더 정확하거나 유용한 것들, 이를테면 수학적인 계산이나 잘 구조화 된 데이터의 조회(예시: 특정 배우의 나이, 출연작을 조회하고 싶다)같은 LLM 외부 기능이 필요할 때에 호출될 수 있는 인터페이스를 제공하는 모듈입니다. 도구의 호출 방식을 규격화하는 Tool이 같이 사용됩니다.\\n\\n\\nCallbacks:\\nLangChain의 각 동작 단계마다 hooking을 할 수 있도록 Callback을 제공합니다. 모니터링, 로깅이나 스트리밍에 관련된 기능이기 때문에 이 글에서는 자세히 다루지 않을 예정입니다. [...] Published Time: 2023-06-23T00:00:00+00:00\\nLangChain에 대하여 |\\n\\n\\n\\n|\\nAbout\\n|\\nVARCO\\n|\\nBlogs\\n|\\nPublications\\n|\\nTags\\n|\\nLinks\\n|\\n\\n\\nNLP\\nLangChain에 대하여\\n\\n오진균(Oh Jinkyun)\\nJune 23, 2023\\n\\n개요\\n해결하려는 문제\\n모듈\\n예제: 단순한 챗봇\\n단순 질문-응답기\\n대화 맥락 기억하기\\n길이 줄이기\\n\\n\\n예제: Agent\\n예제: 실제 LLM(OpenAI)으로 Agent 실행\\n결론\\nReferences'},\n",
       " {'url': 'https://wikidocs.net/265658',\n",
       "  'content': '마지막 편집일시 : 2024년 12월 23일 2:07 오전\\n댓글 0 피드백\\n※ 댓글 작성은 로그인이 필요합니다. (또는 피드백을 이용해 주세요.)\\n\\n이전글 : 03. LangGraph를 활용한 Agent 구축\\n다음글 : 05. 노드의 단계별 스트리밍 출력\\n\\n\\n×\\n책갈피\\n추가 닫기\\n\\n×\\n이 페이지에 대한 피드백을 남겨주세요\\n답장받을 이메일 주소\\n하고 싶은 말\\n※ 피드백은 저자에게 e-메일로 전달됩니다.\\nClose 전송하기\\n×\\n댓글을 신고합니다.\\n해당 댓글을 신고하시겠습니까? 댓글 신고는 다음과 같은 경우에 사용해주세요:\\n\\n스팸 또는 광고성 내용이 포함된 경우\\n욕설, 비방, 개인정보 유출 등 부적절한 내용이 포함된 경우\\n저작권을 침해하는 내용이 포함된 경우\\n\\n신고 사유를 입력해 주세요.\\n※ 신고하신 내용은 관리자에게 전달되며, 확인 후 적절한 조치가 이루어집니다. 신고는 익명으로 처리되며, 신고자의 정보는 공개되지 않습니다.\\nClose 전송하기'},\n",
       " {'url': 'https://wikidocs.net/265658',\n",
       "  'content': '마지막 편집일시 : 2024년 12월 23일 2:07 오전\\n댓글 0 피드백\\n※ 댓글 작성은 로그인이 필요합니다. (또는 피드백을 이용해 주세요.)\\n\\n이전글 : 03. LangGraph를 활용한 Agent 구축\\n다음글 : 05. 노드의 단계별 스트리밍 출력\\n\\n\\n×\\n책갈피\\n추가 닫기\\n\\n×\\n이 페이지에 대한 피드백을 남겨주세요\\n답장받을 이메일 주소\\n하고 싶은 말\\n※ 피드백은 저자에게 e-메일로 전달됩니다.\\nClose 전송하기\\n×\\n댓글을 신고합니다.\\n해당 댓글을 신고하시겠습니까? 댓글 신고는 다음과 같은 경우에 사용해주세요:\\n\\n스팸 또는 광고성 내용이 포함된 경우\\n욕설, 비방, 개인정보 유출 등 부적절한 내용이 포함된 경우\\n저작권을 침해하는 내용이 포함된 경우\\n\\n신고 사유를 입력해 주세요.\\n※ 신고하신 내용은 관리자에게 전달되며, 확인 후 적절한 조치가 이루어집니다. 신고는 익명으로 처리되며, 신고자의 정보는 공개되지 않습니다.\\nClose 전송하기'},\n",
       " {'url': 'https://13akstjq.github.io/TIL/post/2024-07-09-LLMStudyDiaryComprehensiveReviewofLangChainPart4',\n",
       "  'content': '최종 답변은 다음과 같았습니다:\\njs\\n{\\'input\\': \\'나탈리 베르그먼이 소속된 밴드의 첫 앨범은 무엇인가요?\\',\\n\\'output\\': \\'Wild Belle\\'}\\n원래 질문은 \"나탈리 베르그먼이 속한 밴드의 첫 앨범은 무엇인가요?\"였습니다. 다시 말해서 \"나탈리 베르그먼이 속한 밴드의 첫 앨범의 이름을 알려주세요\"였습니다. 그러나 최종 답변은 그녀가 속한 밴드의 이름이 나왔습니다. 로그를 보니, 에이전트가 문제를 이해하지 못한 것으로 보입니다.\\n카름 레이 안사생님은 유튜브 비디오에서 에이전트 기술이 아직 발전 중이라고 언급했습니다. 그러나 Langchain을 사용할 때 이러한 추론이 어떻게 진행되는지 로그를 확인하는 것이 유용할 수 있을 것 같으므로, 앞으로 다양한 에이전트를 살펴보는 기회를 더 만들고 싶습니다.'},\n",
       " {'url': 'https://13akstjq.github.io/TIL/post/2024-07-09-LLMStudyDiaryComprehensiveReviewofLangChainPart4',\n",
       "  'content': '최종 답변은 다음과 같았습니다:\\njs\\n{\\'input\\': \\'나탈리 베르그먼이 소속된 밴드의 첫 앨범은 무엇인가요?\\',\\n\\'output\\': \\'Wild Belle\\'}\\n원래 질문은 \"나탈리 베르그먼이 속한 밴드의 첫 앨범은 무엇인가요?\"였습니다. 다시 말해서 \"나탈리 베르그먼이 속한 밴드의 첫 앨범의 이름을 알려주세요\"였습니다. 그러나 최종 답변은 그녀가 속한 밴드의 이름이 나왔습니다. 로그를 보니, 에이전트가 문제를 이해하지 못한 것으로 보입니다.\\n카름 레이 안사생님은 유튜브 비디오에서 에이전트 기술이 아직 발전 중이라고 언급했습니다. 그러나 Langchain을 사용할 때 이러한 추론이 어떻게 진행되는지 로그를 확인하는 것이 유용할 수 있을 것 같으므로, 앞으로 다양한 에이전트를 살펴보는 기회를 더 만들고 싶습니다.'}]"
      ]
     },
     "execution_count": 6,
     "metadata": {},
     "output_type": "execute_result"
    }
   ],
   "source": [
    "tool.invoke({'query': 'Langchain Agent에 대해서 알려주세요.'})"
   ]
  }
 ],
 "metadata": {
  "kernelspec": {
   "display_name": "venv",
   "language": "python",
   "name": "python3"
  },
  "language_info": {
   "codemirror_mode": {
    "name": "ipython",
    "version": 3
   },
   "file_extension": ".py",
   "mimetype": "text/x-python",
   "name": "python",
   "nbconvert_exporter": "python",
   "pygments_lexer": "ipython3",
   "version": "3.11.9"
  }
 },
 "nbformat": 4,
 "nbformat_minor": 2
}
