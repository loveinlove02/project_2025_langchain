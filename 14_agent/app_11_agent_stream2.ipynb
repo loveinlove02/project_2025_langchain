{
 "cells": [
  {
   "cell_type": "code",
   "execution_count": 1,
   "metadata": {},
   "outputs": [],
   "source": [
    "from dotenv import load_dotenv\n",
    "import os\n",
    "\n",
    "load_dotenv(verbose=True)\n",
    "key = os.getenv('OPENAI_API_KEY')"
   ]
  },
  {
   "cell_type": "code",
   "execution_count": 2,
   "metadata": {},
   "outputs": [],
   "source": [
    "from langchain.agents import tool\n",
    "from typing import List, Dict, Annotated"
   ]
  },
  {
   "cell_type": "code",
   "execution_count": 3,
   "metadata": {},
   "outputs": [],
   "source": [
    "from langchain_teddynote.tools import GoogleNews\n",
    "from langchain_experimental.utilities import PythonREPL"
   ]
  },
  {
   "cell_type": "code",
   "execution_count": 4,
   "metadata": {},
   "outputs": [],
   "source": [
    "from langchain_openai import ChatOpenAI\n",
    "from langchain_core.prompts import ChatPromptTemplate, MessagesPlaceholder\n",
    "from langchain.agents import create_tool_calling_agent\n",
    "from langchain.agents import AgentExecutor"
   ]
  },
  {
   "cell_type": "code",
   "execution_count": 5,
   "metadata": {},
   "outputs": [],
   "source": [
    "from bs4 import BeautifulSoup\n",
    "import requests\n",
    "import re"
   ]
  },
  {
   "cell_type": "markdown",
   "metadata": {},
   "source": [
    "### 도구 정의"
   ]
  },
  {
   "cell_type": "code",
   "execution_count": 6,
   "metadata": {},
   "outputs": [],
   "source": [
    "@tool\n",
    "def search_keyword(query: str) -> List[Dict[str, str]]:\n",
    "    \"\"\"Look up news by keyword\"\"\"\n",
    "\n",
    "    print(f'검색어: {query}')\n",
    "\n",
    "    news_tool = GoogleNews()\n",
    "\n",
    "    return news_tool.search_by_keyword(query, k=2)"
   ]
  },
  {
   "cell_type": "code",
   "execution_count": 7,
   "metadata": {},
   "outputs": [],
   "source": [
    "@tool\n",
    "def python_repl_tool(\n",
    "    code: Annotated[str, \"The python code to execute to generate your chart.\"],\n",
    "):\n",
    "    \"\"\"Use this to execute python code. If you want to see the output of a value,\n",
    "    you should print it out with `print(...)`. This is visible to the user.\"\"\"\n",
    "    result = \"\"\n",
    "    try:\n",
    "        result = PythonREPL().run(code)\n",
    "    except BaseException as e:\n",
    "        print(f\"Failed to execute. Error: {repr(e)}\")\n",
    "    finally:\n",
    "        return result"
   ]
  },
  {
   "cell_type": "code",
   "execution_count": 8,
   "metadata": {},
   "outputs": [],
   "source": [
    "@tool\n",
    "def naver_news_crawl(news_url: str) -> str:                 # 네이버 뉴스기사를 크롤링하여 본문 내용을 리턴하는 도구\n",
    "    \"\"\"Crawls a 네이버(naver.com) news article and returns the body content.\"\"\"\n",
    "\n",
    "    response = requests.get(news_url)                       # HTTP GET 요청\n",
    "\n",
    "    if response.status_code == 200:                         # 응답 200. 성공\n",
    "        soup = BeautifulSoup(response.text, 'html.parser')\n",
    "\n",
    "        title = soup.find('h2', id='title_area').get_text()\n",
    "        content = soup.find('div', id='contents').get_text()    \n",
    "        \n",
    "        cleaned_title = re.sub(r'\\n{2, }', '\\n', title)\n",
    "        cleaned_content = re.sub(r'\\n{2, }', '\\n', content)\n",
    "    else:\n",
    "        print(f'HTTP 요청 실패. {response.status_code}')\n",
    "    \n",
    "    return f'{cleaned_title}\\n{cleaned_content}'"
   ]
  },
  {
   "cell_type": "markdown",
   "metadata": {},
   "source": [
    "### Agent 프롬프트 작성"
   ]
  },
  {
   "cell_type": "code",
   "execution_count": 9,
   "metadata": {},
   "outputs": [],
   "source": [
    "# 프롬프트는 에이전트에게 모델이 수행할 작업을 설명하는 텍스트를 제공합니다. (도구의 이름과 역할을 입력)\n",
    "prompt = ChatPromptTemplate.from_messages(\n",
    "    [\n",
    "        (                                           \n",
    "            \"system\",\n",
    "            \"You are a helpful assistant. \"             \n",
    "            \"Make sure to use the `search_news` tool for searching keyword related news.\"\n",
    "            \"Be sure to use the 'python_repl_tool' tool when make python code.\"\n",
    "            \"Be sure to use the 'naver_news_crawl' tool when naver news crawlling.\"\n",
    "        ),\n",
    "        (\"placeholder\", \"{chat_history}\"),          # 이전 대화 내용을 넣을 곳을 잡아둔다.\n",
    "        (\"human\", \"{input}\"),                       # 사용자 입력\n",
    "\n",
    "        # 에이전트가 검색하는 과정들이나 내용 등을 끄적이는 메모장 같은 공간을 플레이스 홀더로 만들어준다\n",
    "        (\"placeholder\", \"{agent_scratchpad}\"),       \n",
    "    ]\n",
    ")"
   ]
  },
  {
   "cell_type": "code",
   "execution_count": 10,
   "metadata": {},
   "outputs": [],
   "source": [
    "tools = [search_keyword, python_repl_tool, naver_news_crawl]"
   ]
  },
  {
   "cell_type": "markdown",
   "metadata": {},
   "source": [
    "### Agent 생성"
   ]
  },
  {
   "cell_type": "code",
   "execution_count": 11,
   "metadata": {},
   "outputs": [],
   "source": [
    "llm = ChatOpenAI(\n",
    "    api_key=key, \n",
    "    model='gpt-4o-mini', \n",
    "    temperature=0\n",
    ")\n",
    "\n",
    "agent = create_tool_calling_agent(llm, tools, prompt)"
   ]
  },
  {
   "cell_type": "markdown",
   "metadata": {},
   "source": [
    "### AgentExecutor"
   ]
  },
  {
   "cell_type": "code",
   "execution_count": 12,
   "metadata": {},
   "outputs": [],
   "source": [
    "agent_executor = AgentExecutor(\n",
    "    agent=agent,                    # 각 단계에서 계획을 생성하고 행동을 결정하는 agent\n",
    "    tools=tools,                    # agent 가 사용할 수 있는 도구 목록\n",
    "    verbose=True,\n",
    "    max_iterations=10,              # 최대 10번 까지 반복\n",
    "    max_execution_time=10,          # 실행되는데 소요되는 최대 시간\n",
    "    handle_parsing_errors=True      \n",
    ")"
   ]
  },
  {
   "cell_type": "code",
   "execution_count": 13,
   "metadata": {},
   "outputs": [
    {
     "name": "stdout",
     "output_type": "stream",
     "text": [
      "\n",
      "\n",
      "\u001b[1m> Entering new None chain...\u001b[0m\n",
      "====================================================================================================\n",
      "[actions]\n",
      "[도구 호출]\n",
      "Tool : search_keyword\n",
      "query : {'query': '랭체인'}\n",
      "Log: \n",
      "Invoking: `search_keyword` with `{'query': '랭체인'}`\n",
      "\n",
      "\n",
      "\n",
      "====================================================================================================\n",
      "\u001b[32;1m\u001b[1;3m\n",
      "Invoking: `search_keyword` with `{'query': '랭체인'}`\n",
      "\n",
      "\n",
      "\u001b[0m검색어: 랭체인\n",
      "\u001b[36;1m\u001b[1;3m[{'url': 'https://news.google.com/rss/articles/CBMibkFVX3lxTE1qMC1EYjRZOEpMNVBEVVpSNm1BX3A4a3FrdmEyOTdDNWdjMGR1ZEgzWlpHZnRFZ1pSUXdKa3JnOXBQZU5qU3dKS3Q5VUNwLVZxRFZmbG1SZzJVSUoyM2lJbnZRbzhYYUJJcnFHWmp3?oc=5', 'content': '랭체인 LangChain 이란 무엇인가? | 인사이트리포트 | 삼성SDS - Samsung SDS'}, {'url': 'https://news.google.com/rss/articles/CBMiwgJBVV95cUxPM0hHcjNGR0RiT0M2QlplRlcxdjdYZE5WTk9zZ2lGVEIxd05hdktEbmRNNTBnLWJ1NEl3LWRPVTNfdFIxX1VOUURxdHdrWTdHOG9LQ3BrOUtWWUl1T0ZianhSckt1NGNtelAweTQ1LXpQTC1DVG50ZUVOOFV1VldBSEZvN2toemJuR3hfQXVfTXBKLVhzWDZMQ25kc1JQM1VnYTRFOTVYSmRFQWJGYWItdTJkNTdXaXlpYzY2dHg0aWM5WVlBQkFRb0N6WGNSWWdVaXhiY1ZXUGJuZ0dpVWtielpJQlV4dFAyZzB6Q2Z0Y1V6SjVZRU5QS0hsRUN0N19EbUc4RXFpV090M2ZZVjZUbS03cC13bFk1M0xrTnJMeHJUOC10dkctbGpJYnFRVHZfVXlQMU5nNDRUbndmbkFiZWFR?oc=5', 'content': '구글, 데이터베이스용 ‘생성형 AI 툴박스’ 공개 베타 발표 \"랭체인과 협력\" - CIO.com'}]\u001b[0m\n",
      "\n",
      "====================================================================================================\n",
      "[steps]\n",
      "검색어: {'query': '랭체인'}\n",
      "[관찰 내용]\n",
      "Observation:\n",
      "[{'url': 'https://news.google.com/rss/articles/CBMibkFVX3lxTE1qMC1EYjRZOEpMNVBEVVpSNm1BX3A4a3FrdmEyOTdDNWdjMGR1ZEgzWlpHZnRFZ1pSUXdKa3JnOXBQZU5qU3dKS3Q5VUNwLVZxRFZmbG1SZzJVSUoyM2lJbnZRbzhYYUJJcnFHWmp3?oc=5', 'content': '랭체인 LangChain 이란 무엇인가? | 인사이트리포트 | 삼성SDS - Samsung SDS'}, {'url': 'https://news.google.com/rss/articles/CBMiwgJBVV95cUxPM0hHcjNGR0RiT0M2QlplRlcxdjdYZE5WTk9zZ2lGVEIxd05hdktEbmRNNTBnLWJ1NEl3LWRPVTNfdFIxX1VOUURxdHdrWTdHOG9LQ3BrOUtWWUl1T0ZianhSckt1NGNtelAweTQ1LXpQTC1DVG50ZUVOOFV1VldBSEZvN2toemJuR3hfQXVfTXBKLVhzWDZMQ25kc1JQM1VnYTRFOTVYSmRFQWJGYWItdTJkNTdXaXlpYzY2dHg0aWM5WVlBQkFRb0N6WGNSWWdVaXhiY1ZXUGJuZ0dpVWtielpJQlV4dFAyZzB6Q2Z0Y1V6SjVZRU5QS0hsRUN0N19EbUc4RXFpV090M2ZZVjZUbS03cC13bFk1M0xrTnJMeHJUOC10dkctbGpJYnFRVHZfVXlQMU5nNDRUbndmbkFiZWFR?oc=5', 'content': '구글, 데이터베이스용 ‘생성형 AI 툴박스’ 공개 베타 발표 \"랭체인과 협력\" - CIO.com'}]\n",
      "====================================================================================================\n",
      "\u001b[32;1m\u001b[1;3m다음은 \"랭체인\"에 대한 최근 뉴스입니다:\n",
      "\n",
      "1. **[랭체인 LangChain 이란 무엇인가? | 인사이트리포트 | 삼성SDS](https://news.google.com/rss/articles/CBMibkFVX3lxTE1qMC1EYjRZOEpMNVBEVVpSNm1BX3A4a3FrdmEyOTdDNWdjMGR1ZEgzWlpHZnRFZ1pSUXdKa3JnOXBQZU5qU3dKS3Q5VUNwLVZxRFZmbG1SZzJVSUoyM2lJbnZRbzhYYUJJcnFHWmp3?oc=5)**  \n",
      "   이 기사는 랭체인(LangChain)에 대한 개요를 제공합니다.\n",
      "\n",
      "2. **[구글, 데이터베이스용 ‘생성형 AI 툴박스’ 공개 베타 발표 \"랭체인과 협력\" - CIO.com](https://news.google.com/rss/articles/CBMiwgJBVV95cUxPM0hHcjNGR0RiT0M2QlplRlcxdjdYZE5WTk9zZ2lGVEIxd05hdktEbmRNNTBnLWJ1NEl3LWRPVTNfdFIxX1VOUURxdHdrWTdHOG9LQ3BrOUtWWUl1T0ZianhSckt1NGNtelAweTQ1LXpQTC1DVG50ZUVOOFV1VldBSEZvN2toemJuR3hfQXVfTXBKLVhzWDZMQ25kc1JQM1VnYTRFOTVYSmRFQWJGYWItdTJkNTdXaXlpYzY2dHg0aWM5WVlBQkFRb0N6WGNSWWdVaXhiY1ZXUGJuZ0dpVWtielpJQlV4dFAyZzB6Q2Z0Y1V6SjVZRU5QS0hsRUN0N19EbUc4RXFpV090M2ZZVjZUbS03cC13bFk1M0xrTnJMeHJUOC10dkctbGpJYnFRVHZfVXlQMU5nNDRUbndmbkFiZWFR?oc=5)**  \n",
      "   이 기사에서는 구글이 데이터베이스용 생성형 AI 툴박스를 공개하고 랭체인과 협력하고 있다는 내용을 다룹니다.\n",
      "\n",
      "더 궁금한 점이 있으시면 말씀해 주세요!\u001b[0m\n",
      "\n",
      "\u001b[1m> Finished chain.\u001b[0m\n",
      "====================================================================================================\n",
      "[output]\n",
      "step['messages']:\n",
      "다음은 \"랭체인\"에 대한 최근 뉴스입니다:\n",
      "\n",
      "1. **[랭체인 LangChain 이란 무엇인가? | 인사이트리포트 | 삼성SDS](https://news.google.com/rss/articles/CBMibkFVX3lxTE1qMC1EYjRZOEpMNVBEVVpSNm1BX3A4a3FrdmEyOTdDNWdjMGR1ZEgzWlpHZnRFZ1pSUXdKa3JnOXBQZU5qU3dKS3Q5VUNwLVZxRFZmbG1SZzJVSUoyM2lJbnZRbzhYYUJJcnFHWmp3?oc=5)**  \n",
      "   이 기사는 랭체인(LangChain)에 대한 개요를 제공합니다.\n",
      "\n",
      "2. **[구글, 데이터베이스용 ‘생성형 AI 툴박스’ 공개 베타 발표 \"랭체인과 협력\" - CIO.com](https://news.google.com/rss/articles/CBMiwgJBVV95cUxPM0hHcjNGR0RiT0M2QlplRlcxdjdYZE5WTk9zZ2lGVEIxd05hdktEbmRNNTBnLWJ1NEl3LWRPVTNfdFIxX1VOUURxdHdrWTdHOG9LQ3BrOUtWWUl1T0ZianhSckt1NGNtelAweTQ1LXpQTC1DVG50ZUVOOFV1VldBSEZvN2toemJuR3hfQXVfTXBKLVhzWDZMQ25kc1JQM1VnYTRFOTVYSmRFQWJGYWItdTJkNTdXaXlpYzY2dHg0aWM5WVlBQkFRb0N6WGNSWWdVaXhiY1ZXUGJuZ0dpVWtielpJQlV4dFAyZzB6Q2Z0Y1V6SjVZRU5QS0hsRUN0N19EbUc4RXFpV090M2ZZVjZUbS03cC13bFk1M0xrTnJMeHJUOC10dkctbGpJYnFRVHZfVXlQMU5nNDRUbndmbkFiZWFR?oc=5)**  \n",
      "   이 기사에서는 구글이 데이터베이스용 생성형 AI 툴박스를 공개하고 랭체인과 협력하고 있다는 내용을 다룹니다.\n",
      "\n",
      "더 궁금한 점이 있으시면 말씀해 주세요!\n",
      "====================================================================================================\n"
     ]
    }
   ],
   "source": [
    "result = agent_executor.stream({'input': '랭체인에 대한 뉴스를 검색해주세요.'})\n",
    "\n",
    "for step in result:\n",
    "\n",
    "    if 'actions' in step:\n",
    "        print('==' * 50)\n",
    "        print(f'[actions]')\n",
    "        # print(step['actions'])\n",
    "        print('[도구 호출]')\n",
    "        print(f\"Tool : {step['actions'][0].tool}\")\n",
    "        print(f\"query : {step['actions'][0].tool_input}\")\n",
    "        print(f\"Log: \", end='')\n",
    "        print(f\"{step['actions'][0].log}\")\n",
    "        # print(f\"message log: {step['actions'][0].message_log}\")\n",
    "        print('==' * 50)\n",
    "\n",
    "    elif 'steps' in step:\n",
    "        print('\\n')\n",
    "        print('==' * 50)\n",
    "        print(f'[steps]')\n",
    "        # print(step['steps'])\n",
    "        print(f\"검색어: {step['steps'][0].action.tool_input}\")\n",
    "        # print(f\"message log: {step['steps'][0].action.message_log}\")\n",
    "        print(f\"[관찰 내용]\")\n",
    "        print(f\"Observation:\")\n",
    "        print(f\"{step['steps'][0].observation}\")\n",
    "        print('==' * 50)\n",
    "\n",
    "    elif 'output' in step:\n",
    "        print('==' * 50)\n",
    "        # print(f\"[output]: {step['output']}\")\n",
    "        print(f\"[output]\")\n",
    "        print(f\"step['messages']:\")\n",
    "        print(f\"{step['messages'][0].content}\")\n",
    "        print('==' * 50)"
   ]
  },
  {
   "cell_type": "code",
   "execution_count": 14,
   "metadata": {},
   "outputs": [],
   "source": [
    "def tool_callback(tool) -> None:\n",
    "    print(f'===== 도구 호출 =====')\n",
    "    print(f\"사용된 도구 이름 : {tool[0].tool}\")\n",
    "    print(f'===== 도구 호출 =====')"
   ]
  },
  {
   "cell_type": "code",
   "execution_count": 15,
   "metadata": {},
   "outputs": [],
   "source": [
    "def obervation_callback(observation) -> None:\n",
    "    print(f'\\n===== 관찰 내용 =====')\n",
    "    print(f\"Observation: {observation[0].observation}\")\n",
    "    print(f'===== 관찰 내용 =====')"
   ]
  },
  {
   "cell_type": "code",
   "execution_count": 16,
   "metadata": {},
   "outputs": [],
   "source": [
    "def result_callback(result: str) -> None:\n",
    "    print(f'===== 최종 답변 =====')\n",
    "    print(f\"{result}\")\n",
    "    print(f'===== 최종 답변 =====')"
   ]
  },
  {
   "cell_type": "code",
   "execution_count": 17,
   "metadata": {},
   "outputs": [
    {
     "name": "stdout",
     "output_type": "stream",
     "text": [
      "\n",
      "\n",
      "\u001b[1m> Entering new None chain...\u001b[0m\n",
      "===== 도구 호출 =====\n",
      "사용된 도구 이름 : search_keyword\n",
      "===== 도구 호출 =====\n",
      "\u001b[32;1m\u001b[1;3m\n",
      "Invoking: `search_keyword` with `{'query': '랭체인'}`\n",
      "\n",
      "\n",
      "\u001b[0m검색어: 랭체인\n",
      "\u001b[36;1m\u001b[1;3m[{'url': 'https://news.google.com/rss/articles/CBMibkFVX3lxTE1qMC1EYjRZOEpMNVBEVVpSNm1BX3A4a3FrdmEyOTdDNWdjMGR1ZEgzWlpHZnRFZ1pSUXdKa3JnOXBQZU5qU3dKS3Q5VUNwLVZxRFZmbG1SZzJVSUoyM2lJbnZRbzhYYUJJcnFHWmp3?oc=5', 'content': '랭체인 LangChain 이란 무엇인가? | 인사이트리포트 | 삼성SDS - Samsung SDS'}, {'url': 'https://news.google.com/rss/articles/CBMiwgJBVV95cUxPM0hHcjNGR0RiT0M2QlplRlcxdjdYZE5WTk9zZ2lGVEIxd05hdktEbmRNNTBnLWJ1NEl3LWRPVTNfdFIxX1VOUURxdHdrWTdHOG9LQ3BrOUtWWUl1T0ZianhSckt1NGNtelAweTQ1LXpQTC1DVG50ZUVOOFV1VldBSEZvN2toemJuR3hfQXVfTXBKLVhzWDZMQ25kc1JQM1VnYTRFOTVYSmRFQWJGYWItdTJkNTdXaXlpYzY2dHg0aWM5WVlBQkFRb0N6WGNSWWdVaXhiY1ZXUGJuZ0dpVWtielpJQlV4dFAyZzB6Q2Z0Y1V6SjVZRU5QS0hsRUN0N19EbUc4RXFpV090M2ZZVjZUbS03cC13bFk1M0xrTnJMeHJUOC10dkctbGpJYnFRVHZfVXlQMU5nNDRUbndmbkFiZWFR?oc=5', 'content': '구글, 데이터베이스용 ‘생성형 AI 툴박스’ 공개 베타 발표 \"랭체인과 협력\" - CIO.com'}]\u001b[0m\n",
      "===== 관찰 내용 =====\n",
      "Observation: [{'url': 'https://news.google.com/rss/articles/CBMibkFVX3lxTE1qMC1EYjRZOEpMNVBEVVpSNm1BX3A4a3FrdmEyOTdDNWdjMGR1ZEgzWlpHZnRFZ1pSUXdKa3JnOXBQZU5qU3dKS3Q5VUNwLVZxRFZmbG1SZzJVSUoyM2lJbnZRbzhYYUJJcnFHWmp3?oc=5', 'content': '랭체인 LangChain 이란 무엇인가? | 인사이트리포트 | 삼성SDS - Samsung SDS'}, {'url': 'https://news.google.com/rss/articles/CBMiwgJBVV95cUxPM0hHcjNGR0RiT0M2QlplRlcxdjdYZE5WTk9zZ2lGVEIxd05hdktEbmRNNTBnLWJ1NEl3LWRPVTNfdFIxX1VOUURxdHdrWTdHOG9LQ3BrOUtWWUl1T0ZianhSckt1NGNtelAweTQ1LXpQTC1DVG50ZUVOOFV1VldBSEZvN2toemJuR3hfQXVfTXBKLVhzWDZMQ25kc1JQM1VnYTRFOTVYSmRFQWJGYWItdTJkNTdXaXlpYzY2dHg0aWM5WVlBQkFRb0N6WGNSWWdVaXhiY1ZXUGJuZ0dpVWtielpJQlV4dFAyZzB6Q2Z0Y1V6SjVZRU5QS0hsRUN0N19EbUc4RXFpV090M2ZZVjZUbS03cC13bFk1M0xrTnJMeHJUOC10dkctbGpJYnFRVHZfVXlQMU5nNDRUbndmbkFiZWFR?oc=5', 'content': '구글, 데이터베이스용 ‘생성형 AI 툴박스’ 공개 베타 발표 \"랭체인과 협력\" - CIO.com'}]\n",
      "===== 관찰 내용 =====\n",
      "\u001b[32;1m\u001b[1;3m다음은 \"랭체인\"에 대한 최근 뉴스입니다:\n",
      "\n",
      "1. **[랭체인 LangChain 이란 무엇인가? | 인사이트리포트 | 삼성SDS](https://news.google.com/rss/articles/CBMibkFVX3lxTE1qMC1EYjRZOEpMNVBEVVpSNm1BX3A4a3FrdmEyOTdDNWdjMGR1ZEgzWlpHZnRFZ1pSUXdKa3JnOXBQZU5qU3dKS3Q5VUNwLVZxRFZmbG1SZzJVSUoyM2lJbnZRbzhYYUJJcnFHWmp3?oc=5)**  \n",
      "   이 기사는 랭체인(LangChain)에 대한 개요와 설명을 제공합니다.\n",
      "\n",
      "2. **[구글, 데이터베이스용 ‘생성형 AI 툴박스’ 공개 베타 발표 \"랭체인과 협력\"](https://news.google.com/rss/articles/CBMiwgJBVV95cUxPM0hHcjNGR0RiT0M2QlplRlcxdjdYZE5WTk9zZ2lGVEIxd05hdktEbmRNNTBnLWJ1NEl3LWRPVTNfdFIxX1VOUURxdHdrWTdHOG9LQ3BrOUtWWUl1T0ZianhSckt1NGNtelAweTQ1LXpQTC1DVG50ZUVOOFV1VldBSEZvN2toemJuR3hfQXVfTXBKLVhzWDZMQ25kc1JQM1VnYTRFOTVYSmRFQWJGYWItdTJkNTdXaXlpYzY2dHg0aWM5WVlBQkFRb0N6WGNSWWdVaXhiY1ZXUGJuZ0dpVWtielpJQlV4dFAyZzB6Q2Z0Y1V6SjVZRU5QS0hsRUN0N19EbUc4RXFpV090M2ZZVjZUbS03cC13bFk1M0xrTnJMeHJUOC10dkctbGpJYnFRVHZfVXlQMU5nNDRUbndmbkFiZWFR?oc=5)**  \n",
      "   구글이 데이터베이스용 생성형 AI 툴박스를 공개 베타로 발표하며 랭체인과 협력하고 있다는 내용입니다.\n",
      "\n",
      "더 자세한 내용을 원하시면 각 링크를 클릭하여 확인하실 수 있습니다.\u001b[0m\n",
      "\n",
      "\u001b[1m> Finished chain.\u001b[0m\n",
      "===== 최종 답변 =====\n",
      "다음은 \"랭체인\"에 대한 최근 뉴스입니다:\n",
      "\n",
      "1. **[랭체인 LangChain 이란 무엇인가? | 인사이트리포트 | 삼성SDS](https://news.google.com/rss/articles/CBMibkFVX3lxTE1qMC1EYjRZOEpMNVBEVVpSNm1BX3A4a3FrdmEyOTdDNWdjMGR1ZEgzWlpHZnRFZ1pSUXdKa3JnOXBQZU5qU3dKS3Q5VUNwLVZxRFZmbG1SZzJVSUoyM2lJbnZRbzhYYUJJcnFHWmp3?oc=5)**  \n",
      "   이 기사는 랭체인(LangChain)에 대한 개요와 설명을 제공합니다.\n",
      "\n",
      "2. **[구글, 데이터베이스용 ‘생성형 AI 툴박스’ 공개 베타 발표 \"랭체인과 협력\"](https://news.google.com/rss/articles/CBMiwgJBVV95cUxPM0hHcjNGR0RiT0M2QlplRlcxdjdYZE5WTk9zZ2lGVEIxd05hdktEbmRNNTBnLWJ1NEl3LWRPVTNfdFIxX1VOUURxdHdrWTdHOG9LQ3BrOUtWWUl1T0ZianhSckt1NGNtelAweTQ1LXpQTC1DVG50ZUVOOFV1VldBSEZvN2toemJuR3hfQXVfTXBKLVhzWDZMQ25kc1JQM1VnYTRFOTVYSmRFQWJGYWItdTJkNTdXaXlpYzY2dHg0aWM5WVlBQkFRb0N6WGNSWWdVaXhiY1ZXUGJuZ0dpVWtielpJQlV4dFAyZzB6Q2Z0Y1V6SjVZRU5QS0hsRUN0N19EbUc4RXFpV090M2ZZVjZUbS03cC13bFk1M0xrTnJMeHJUOC10dkctbGpJYnFRVHZfVXlQMU5nNDRUbndmbkFiZWFR?oc=5)**  \n",
      "   구글이 데이터베이스용 생성형 AI 툴박스를 공개 베타로 발표하며 랭체인과 협력하고 있다는 내용입니다.\n",
      "\n",
      "더 자세한 내용을 원하시면 각 링크를 클릭하여 확인하실 수 있습니다.\n",
      "===== 최종 답변 =====\n"
     ]
    }
   ],
   "source": [
    "result = agent_executor.stream({'input': '랭체인에 대한 뉴스를 검색해주세요'})\n",
    "\n",
    "for step in result:\n",
    "    if 'actions' in step:\n",
    "        tool_callback(step['actions'])\n",
    "    elif 'steps' in step:\n",
    "        obervation_callback(step['steps'])\n",
    "    elif 'output' in step:\n",
    "        result_callback(step['messages'][0].content)    \n",
    "        "
   ]
  },
  {
   "cell_type": "code",
   "execution_count": 18,
   "metadata": {},
   "outputs": [
    {
     "name": "stdout",
     "output_type": "stream",
     "text": [
      "\n",
      "\n",
      "\u001b[1m> Entering new None chain...\u001b[0m\n"
     ]
    },
    {
     "name": "stderr",
     "output_type": "stream",
     "text": [
      "Python REPL can execute arbitrary code. Use with caution.\n"
     ]
    },
    {
     "name": "stdout",
     "output_type": "stream",
     "text": [
      "===== 도구 호출 =====\n",
      "사용된 도구 이름 : python_repl_tool\n",
      "===== 도구 호출 =====\n",
      "\u001b[32;1m\u001b[1;3m\n",
      "Invoking: `python_repl_tool` with `{'code': 'print(10 + 20)'}`\n",
      "\n",
      "\n",
      "\u001b[0m\u001b[33;1m\u001b[1;3m30\n",
      "\u001b[0m\n",
      "===== 관찰 내용 =====\n",
      "Observation: 30\n",
      "\n",
      "===== 관찰 내용 =====\n",
      "\u001b[32;1m\u001b[1;3m10 + 20의 결과는 30입니다.\u001b[0m\n",
      "\n",
      "\u001b[1m> Finished chain.\u001b[0m\n",
      "===== 최종 답변 =====\n",
      "10 + 20의 결과는 30입니다.\n",
      "===== 최종 답변 =====\n"
     ]
    }
   ],
   "source": [
    "result = agent_executor.stream({'input': '10 + 20을 출력하는 파이썬 코드를 작성하고 실행해주세요'})\n",
    "\n",
    "for step in result:\n",
    "    if 'actions' in step:\n",
    "        tool_callback(step['actions'])\n",
    "    elif 'steps' in step:\n",
    "        obervation_callback(step['steps'])\n",
    "    elif 'output' in step:\n",
    "        result_callback(step['messages'][0].content)"
   ]
  }
 ],
 "metadata": {
  "kernelspec": {
   "display_name": "venv",
   "language": "python",
   "name": "python3"
  },
  "language_info": {
   "codemirror_mode": {
    "name": "ipython",
    "version": 3
   },
   "file_extension": ".py",
   "mimetype": "text/x-python",
   "name": "python",
   "nbconvert_exporter": "python",
   "pygments_lexer": "ipython3",
   "version": "3.11.9"
  }
 },
 "nbformat": 4,
 "nbformat_minor": 2
}
