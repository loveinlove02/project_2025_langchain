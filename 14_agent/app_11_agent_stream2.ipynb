{
 "cells": [
  {
   "cell_type": "code",
   "execution_count": 1,
   "metadata": {},
   "outputs": [],
   "source": [
    "from dotenv import load_dotenv\n",
    "import os\n",
    "\n",
    "load_dotenv(verbose=True)\n",
    "key = os.getenv('OPENAI_API_KEY')"
   ]
  },
  {
   "cell_type": "code",
   "execution_count": 2,
   "metadata": {},
   "outputs": [],
   "source": [
    "from langchain.agents import tool\n",
    "from typing import List, Dict, Annotated"
   ]
  },
  {
   "cell_type": "code",
   "execution_count": 3,
   "metadata": {},
   "outputs": [],
   "source": [
    "from langchain_teddynote.tools import GoogleNews\n",
    "from langchain_experimental.utilities import PythonREPL"
   ]
  },
  {
   "cell_type": "code",
   "execution_count": 4,
   "metadata": {},
   "outputs": [],
   "source": [
    "from langchain_openai import ChatOpenAI\n",
    "from langchain_core.prompts import ChatPromptTemplate, MessagesPlaceholder\n",
    "from langchain.agents import create_tool_calling_agent\n",
    "from langchain.agents import AgentExecutor"
   ]
  },
  {
   "cell_type": "code",
   "execution_count": 5,
   "metadata": {},
   "outputs": [],
   "source": [
    "from bs4 import BeautifulSoup\n",
    "import requests\n",
    "import re"
   ]
  },
  {
   "cell_type": "markdown",
   "metadata": {},
   "source": [
    "### 도구 정의"
   ]
  },
  {
   "cell_type": "code",
   "execution_count": 6,
   "metadata": {},
   "outputs": [],
   "source": [
    "@tool\n",
    "def search_keyword(query: str) -> List[Dict[str, str]]:\n",
    "    \"\"\"Look up news by keyword\"\"\"\n",
    "\n",
    "    print(f'검색어: {query}')\n",
    "\n",
    "    news_tool = GoogleNews()\n",
    "\n",
    "    return news_tool.search_by_keyword(query, k=2)"
   ]
  },
  {
   "cell_type": "code",
   "execution_count": 7,
   "metadata": {},
   "outputs": [],
   "source": [
    "@tool\n",
    "def python_repl_tool(\n",
    "    code: Annotated[str, \"The python code to execute to generate your chart.\"],\n",
    "):\n",
    "    \"\"\"Use this to execute python code. If you want to see the output of a value,\n",
    "    you should print it out with `print(...)`. This is visible to the user.\"\"\"\n",
    "    result = \"\"\n",
    "    try:\n",
    "        result = PythonREPL().run(code)\n",
    "    except BaseException as e:\n",
    "        print(f\"Failed to execute. Error: {repr(e)}\")\n",
    "    finally:\n",
    "        return result"
   ]
  },
  {
   "cell_type": "markdown",
   "metadata": {},
   "source": [
    "### Agent 프롬프트 작성"
   ]
  },
  {
   "cell_type": "code",
   "execution_count": 8,
   "metadata": {},
   "outputs": [],
   "source": [
    "# 프롬프트는 에이전트에게 모델이 수행할 작업을 설명하는 텍스트를 제공합니다. (도구의 이름과 역할을 입력)\n",
    "prompt = ChatPromptTemplate.from_messages(\n",
    "    [\n",
    "        (                                           \n",
    "            \"system\",\n",
    "            \"You are a helpful assistant. \"             \n",
    "            \"Make sure to use the `search_news` tool for searching keyword related news.\"\n",
    "            \"Be sure to use the 'python_repl_tool' tool when make python code.\"\n",
    "            \"Be sure to use the 'naver_news_crawl' tool when naver news crawlling.\"\n",
    "        ),\n",
    "        (\"placeholder\", \"{chat_history}\"),          # 이전 대화 내용을 넣을 곳을 잡아둔다.\n",
    "        (\"human\", \"{input}\"),                       # 사용자 입력\n",
    "\n",
    "        # 에이전트가 검색하는 과정들이나 내용 등을 끄적이는 메모장 같은 공간을 플레이스 홀더로 만들어준다\n",
    "        (\"placeholder\", \"{agent_scratchpad}\"),       \n",
    "    ]\n",
    ")"
   ]
  },
  {
   "cell_type": "code",
   "execution_count": 9,
   "metadata": {},
   "outputs": [],
   "source": [
    "tools = [search_keyword, python_repl_tool]"
   ]
  },
  {
   "cell_type": "markdown",
   "metadata": {},
   "source": [
    "### Agent 생성"
   ]
  },
  {
   "cell_type": "code",
   "execution_count": 10,
   "metadata": {},
   "outputs": [],
   "source": [
    "llm = ChatOpenAI(\n",
    "    api_key=key, \n",
    "    model='gpt-4o-mini', \n",
    "    temperature=0\n",
    ")\n",
    "\n",
    "agent = create_tool_calling_agent(llm, tools, prompt)"
   ]
  },
  {
   "cell_type": "markdown",
   "metadata": {},
   "source": [
    "### AgentExecutor"
   ]
  },
  {
   "cell_type": "code",
   "execution_count": 11,
   "metadata": {},
   "outputs": [],
   "source": [
    "agent_executor = AgentExecutor(\n",
    "    agent=agent,                    # 각 단계에서 계획을 생성하고 행동을 결정하는 agent\n",
    "    tools=tools,                    # agent 가 사용할 수 있는 도구 목록\n",
    "    verbose=False,\n",
    "    max_iterations=10,              # 최대 10번 까지 반복\n",
    "    max_execution_time=10,          # 실행되는데 소요되는 최대 시간\n",
    "    handle_parsing_errors=True      \n",
    ")"
   ]
  },
  {
   "cell_type": "code",
   "execution_count": 12,
   "metadata": {},
   "outputs": [],
   "source": [
    "def tool_callback(tool) -> None:\n",
    "    print(f'=='* 20)\n",
    "    print(f'[도구 호출]')\n",
    "    print(tool)\n",
    "    print(f\"사용된 도구 이름 : {tool[-1].tool}\") \n",
    "    print(f\"입력 쿼리 : {tool[-1].tool_input}\")\n",
    "    print(f\"Log: {tool[-1].log}\")\n",
    "    print(f'=='* 20)"
   ]
  },
  {
   "cell_type": "code",
   "execution_count": 16,
   "metadata": {},
   "outputs": [],
   "source": [
    "def obervation_callback(observation) -> None:\n",
    "    print(f'=='* 20)\n",
    "    print(f'[관찰 내용]')\n",
    "    print(f\"Observation: {observation[-1].observation}\")\n",
    "    print(f'=='* 20)"
   ]
  },
  {
   "cell_type": "code",
   "execution_count": 14,
   "metadata": {},
   "outputs": [],
   "source": [
    "def result_callback(result: str) -> None:\n",
    "    print(f'=='* 20)\n",
    "    print(f'[최종 답변]')\n",
    "    print(f\"{result}\")\n",
    "    print(f'=='* 20)"
   ]
  },
  {
   "cell_type": "code",
   "execution_count": 15,
   "metadata": {},
   "outputs": [
    {
     "name": "stdout",
     "output_type": "stream",
     "text": [
      "========================================\n",
      "[도구 호출]\n",
      "[ToolAgentAction(tool='search_keyword', tool_input={'query': '대구 동성로 떡볶이'}, log=\"\\nInvoking: `search_keyword` with `{'query': '대구 동성로 떡볶이'}`\\n\\n\\n\", message_log=[AIMessageChunk(content='', additional_kwargs={'tool_calls': [{'index': 0, 'id': 'call_OWGmJFToLjLQ5qaREwWQmoj9', 'function': {'arguments': '{\"query\":\"대구 동성로 떡볶이\"}', 'name': 'search_keyword'}, 'type': 'function'}]}, response_metadata={'finish_reason': 'tool_calls', 'model_name': 'gpt-4o-mini-2024-07-18', 'system_fingerprint': 'fp_0392822090'}, id='run-283eba45-a344-40ae-ab6f-f614239241f2', tool_calls=[{'name': 'search_keyword', 'args': {'query': '대구 동성로 떡볶이'}, 'id': 'call_OWGmJFToLjLQ5qaREwWQmoj9', 'type': 'tool_call'}], tool_call_chunks=[{'name': 'search_keyword', 'args': '{\"query\":\"대구 동성로 떡볶이\"}', 'id': 'call_OWGmJFToLjLQ5qaREwWQmoj9', 'index': 0, 'type': 'tool_call_chunk'}])], tool_call_id='call_OWGmJFToLjLQ5qaREwWQmoj9')]\n",
      "사용된 도구 이름 : search_keyword\n",
      "입력 쿼리 : {'query': '대구 동성로 떡볶이'}\n",
      "Log: \n",
      "Invoking: `search_keyword` with `{'query': '대구 동성로 떡볶이'}`\n",
      "\n",
      "\n",
      "\n",
      "========================================\n",
      "검색어: 대구 동성로 떡볶이\n",
      "========================================\n",
      "[관찰 내용\n",
      "Observation: [{'url': 'https://news.google.com/rss/articles/CBMia0FVX3lxTE93M0J1SG9kMXJwUndseF9jZDVuQkt1NC0ybEYxS1ZvOVRONkR2LWJEd3BKZkxRUU11WF9JcTB2TlBRel9sRFAzaVRvUnJUelpORkFPa1pYSU5Rekx2YkJRU3VocXQ2M3FtdXBR?oc=5', 'content': '`탄핵 집회 참여자 주목` 대구 동성로 선결제 물결…커피·붕어빵·김밥 드세요 - 영남일보'}, {'url': 'https://news.google.com/rss/articles/CBMiaEFVX3lxTE9iUlVjeGpoMmZGWnRyTzRBSnJlbXQ0bzFqalczSkIya3o4TG83TjNOTE5SMS1sbVRRUy1fYkZDeXlKeHZQcldwSTdGUHdFQUZtYTltVlgzbmVmMDhBT1ctZ1VOekN0STJZ?oc=5', 'content': '떡볶이에 진심인, 대구 떡볶이 성지 6 - 대구일보'}]\n",
      "========================================\n",
      "========================================\n",
      "[최종 답변]\n",
      "대구 동성로 떡볶이에 대한 최근 뉴스는 다음과 같습니다:\n",
      "\n",
      "1. **[영남일보](https://news.google.com/rss/articles/CBMia0FVX3lxTE93M0J1SG9kMXJwUndseF9jZDVuQkt1NC0ybEYxS1ZvOVRONkR2LWJEd3BKZkxRUU11WF9JcTB2TlBRel9sRFAzaVRvUnJUelpORkFPa1pYSU5Rekx2YkJRU3VocXQ2M3FtdXBR?oc=5)**: \"탄핵 집회 참여자 주목\" 대구 동성로 선결제 물결…커피·붕어빵·김밥 드세요.\n",
      "   \n",
      "2. **[대구일보](https://news.google.com/rss/articles/CBMiaEFVX3lxTE9iUlVjeGpoMmZGWnRyTzRBSnJlbXQ0bzFqalczSkIya3o4TG83TjNOTE5SMS1sbVRRUy1fYkZDeXlKeHZQcldwSTdGUHdFQUZtYTltVlgzbmVmMDhBT1ctZ1VOekN0STJZ?oc=5)**: \"떡볶이에 진심인, 대구 떡볶이 성지 6\".\n",
      "\n",
      "이 두 기사는 대구 동성로의 떡볶이에 대한 다양한 정보와 최근 동향을 다루고 있습니다. 더 자세한 내용을 원하시면 각 링크를 클릭하여 확인하실 수 있습니다.\n",
      "========================================\n"
     ]
    }
   ],
   "source": [
    "result = agent_executor.stream({'input': '대구 동성로 떡볶이에 대해서 검색해주세요.'})\n",
    "\n",
    "for step in result:\n",
    "    if 'actions' in step:\n",
    "        tool_callback(step['actions'])\n",
    "    elif 'steps' in step:\n",
    "        obervation_callback(step['steps'])\n",
    "    elif 'output' in step:\n",
    "        result_callback(step['messages'][-1].content)    \n",
    "        "
   ]
  },
  {
   "cell_type": "code",
   "execution_count": 17,
   "metadata": {},
   "outputs": [
    {
     "name": "stderr",
     "output_type": "stream",
     "text": [
      "Python REPL can execute arbitrary code. Use with caution.\n"
     ]
    },
    {
     "name": "stdout",
     "output_type": "stream",
     "text": [
      "========================================\n",
      "[도구 호출]\n",
      "[ToolAgentAction(tool='python_repl_tool', tool_input={'code': 'print(10 + 20)'}, log=\"\\nInvoking: `python_repl_tool` with `{'code': 'print(10 + 20)'}`\\n\\n\\n\", message_log=[AIMessageChunk(content='', additional_kwargs={'tool_calls': [{'index': 0, 'id': 'call_axN3yUXvRB3d9yYCyrg35asQ', 'function': {'arguments': '{\"code\":\"print(10 + 20)\"}', 'name': 'python_repl_tool'}, 'type': 'function'}]}, response_metadata={'finish_reason': 'tool_calls', 'model_name': 'gpt-4o-mini-2024-07-18', 'system_fingerprint': 'fp_0392822090'}, id='run-5b09cc8b-dc08-4fa6-95b7-ac91710b7e1c', tool_calls=[{'name': 'python_repl_tool', 'args': {'code': 'print(10 + 20)'}, 'id': 'call_axN3yUXvRB3d9yYCyrg35asQ', 'type': 'tool_call'}], tool_call_chunks=[{'name': 'python_repl_tool', 'args': '{\"code\":\"print(10 + 20)\"}', 'id': 'call_axN3yUXvRB3d9yYCyrg35asQ', 'index': 0, 'type': 'tool_call_chunk'}])], tool_call_id='call_axN3yUXvRB3d9yYCyrg35asQ')]\n",
      "사용된 도구 이름 : python_repl_tool\n",
      "입력 쿼리 : {'code': 'print(10 + 20)'}\n",
      "Log: \n",
      "Invoking: `python_repl_tool` with `{'code': 'print(10 + 20)'}`\n",
      "\n",
      "\n",
      "\n",
      "========================================\n",
      "========================================\n",
      "[관찰 내용]\n",
      "Observation: 30\n",
      "\n",
      "========================================\n",
      "========================================\n",
      "[최종 답변]\n",
      "10 + 20의 결과는 30입니다.\n",
      "========================================\n"
     ]
    }
   ],
   "source": [
    "result = agent_executor.stream({'input': '10 + 20을 출력하는 파이썬 코드를 작성하고 실행해주세요'})\n",
    "\n",
    "for step in result:\n",
    "    if 'actions' in step:\n",
    "        tool_callback(step['actions'])\n",
    "    elif 'steps' in step:\n",
    "        obervation_callback(step['steps'])\n",
    "    elif 'output' in step:\n",
    "        result_callback(step['messages'][-1].content)"
   ]
  }
 ],
 "metadata": {
  "kernelspec": {
   "display_name": "venv",
   "language": "python",
   "name": "python3"
  },
  "language_info": {
   "codemirror_mode": {
    "name": "ipython",
    "version": 3
   },
   "file_extension": ".py",
   "mimetype": "text/x-python",
   "name": "python",
   "nbconvert_exporter": "python",
   "pygments_lexer": "ipython3",
   "version": "3.11.9"
  }
 },
 "nbformat": 4,
 "nbformat_minor": 2
}
