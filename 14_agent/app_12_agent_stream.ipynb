{
 "cells": [
  {
   "cell_type": "code",
   "execution_count": 11,
   "metadata": {},
   "outputs": [],
   "source": [
    "from dotenv import load_dotenv\n",
    "import os\n",
    "\n",
    "load_dotenv(verbose=True)\n",
    "key = os.getenv('OPENAI_API_KEY')"
   ]
  },
  {
   "cell_type": "code",
   "execution_count": 12,
   "metadata": {},
   "outputs": [],
   "source": [
    "from langchain.agents import tool\n",
    "from typing import List, Dict, Annotated"
   ]
  },
  {
   "cell_type": "code",
   "execution_count": 13,
   "metadata": {},
   "outputs": [],
   "source": [
    "from langchain_teddynote.tools import GoogleNews\n",
    "from langchain_experimental.utilities import PythonREPL"
   ]
  },
  {
   "cell_type": "code",
   "execution_count": 14,
   "metadata": {},
   "outputs": [],
   "source": [
    "from langchain_openai import ChatOpenAI\n",
    "from langchain_core.prompts import ChatPromptTemplate, MessagesPlaceholder\n",
    "from langchain.agents import create_tool_calling_agent\n",
    "from langchain.agents import AgentExecutor"
   ]
  },
  {
   "cell_type": "code",
   "execution_count": 15,
   "metadata": {},
   "outputs": [],
   "source": [
    "from langchain_teddynote.messages import AgentStreamParser\n",
    "from langchain_teddynote.messages import AgentCallbacks\n",
    "from bs4 import BeautifulSoup\n",
    "import requests\n",
    "import re"
   ]
  },
  {
   "cell_type": "markdown",
   "metadata": {},
   "source": [
    "### AentStreamParser, AgentCallbacks\n",
    "\n",
    "- tool_callback: 도구 호출 출력을 처리하는 함수\n",
    "- observation_callback: 관찰(Observation) 출력을 처리하는 함수\n",
    "- result_callback: 최종 답변 출력을 처리하는 함수"
   ]
  },
  {
   "cell_type": "markdown",
   "metadata": {},
   "source": [
    "### 도구 정의"
   ]
  },
  {
   "cell_type": "code",
   "execution_count": 16,
   "metadata": {},
   "outputs": [],
   "source": [
    "@tool\n",
    "def search_keyword(query: str) -> List[Dict[str, str]]:\n",
    "    \"\"\"Look up news by keyword\"\"\"\n",
    "\n",
    "    print(f'검색어: {query}')\n",
    "\n",
    "    news_tool = GoogleNews()\n",
    "\n",
    "    return news_tool.search_by_keyword(query, k=2)"
   ]
  },
  {
   "cell_type": "code",
   "execution_count": 17,
   "metadata": {},
   "outputs": [],
   "source": [
    "@tool\n",
    "def python_repl_tool(\n",
    "    code: Annotated[str, \"The python code to execute to generate your chart.\"],\n",
    "):\n",
    "    \"\"\"Use this to execute python code. If you want to see the output of a value,\n",
    "    you should print it out with `print(...)`. This is visible to the user.\"\"\"\n",
    "    result = \"\"\n",
    "    try:\n",
    "        result = PythonREPL().run(code)\n",
    "    except BaseException as e:\n",
    "        print(f\"Failed to execute. Error: {repr(e)}\")\n",
    "    finally:\n",
    "        return result"
   ]
  },
  {
   "cell_type": "markdown",
   "metadata": {},
   "source": [
    "### Agent 프롬프트 작성"
   ]
  },
  {
   "cell_type": "code",
   "execution_count": 18,
   "metadata": {},
   "outputs": [],
   "source": [
    "# 프롬프트는 에이전트에게 모델이 수행할 작업을 설명하는 텍스트를 제공합니다. (도구의 이름과 역할을 입력)\n",
    "prompt = ChatPromptTemplate.from_messages(\n",
    "    [\n",
    "        (                                           \n",
    "            \"system\",\n",
    "            \"You are a helpful assistant. \"             \n",
    "            \"Make sure to use the `search_news` tool for searching keyword related news.\"\n",
    "            \"Be sure to use the 'python_repl_tool' tool when make python code.\"\n",
    "            \"Be sure to use the 'naver_news_crawl' tool when naver news crawlling.\"\n",
    "        ),\n",
    "        (\"placeholder\", \"{chat_history}\"),          # 이전 대화 내용을 넣을 곳을 잡아둔다.\n",
    "        (\"human\", \"{input}\"),                       # 사용자 입력\n",
    "\n",
    "        # 에이전트가 검색하는 과정들이나 내용 등을 끄적이는 메모장 같은 공간을 플레이스 홀더로 만들어준다\n",
    "        (\"placeholder\", \"{agent_scratchpad}\"),       \n",
    "    ]\n",
    ")"
   ]
  },
  {
   "cell_type": "code",
   "execution_count": 19,
   "metadata": {},
   "outputs": [],
   "source": [
    "tools = [search_keyword, python_repl_tool]"
   ]
  },
  {
   "cell_type": "markdown",
   "metadata": {},
   "source": [
    "### Agent 생성"
   ]
  },
  {
   "cell_type": "code",
   "execution_count": 20,
   "metadata": {},
   "outputs": [],
   "source": [
    "llm = ChatOpenAI(\n",
    "    api_key=key, \n",
    "    model='gpt-4o-mini', \n",
    "    temperature=0\n",
    ")\n",
    "\n",
    "agent = create_tool_calling_agent(llm, tools, prompt)"
   ]
  },
  {
   "cell_type": "markdown",
   "metadata": {},
   "source": [
    "### AgentExecutor"
   ]
  },
  {
   "cell_type": "code",
   "execution_count": 21,
   "metadata": {},
   "outputs": [],
   "source": [
    "agent_executor = AgentExecutor(\n",
    "    agent=agent,                    # 각 단계에서 계획을 생성하고 행동을 결정하는 agent\n",
    "    tools=tools,                    # agent 가 사용할 수 있는 도구 목록\n",
    "    verbose=False,\n",
    "    max_iterations=10,              # 최대 10번 까지 반복\n",
    "    max_execution_time=10,          # 실행되는데 소요되는 최대 시간\n",
    "    handle_parsing_errors=True      \n",
    ")"
   ]
  },
  {
   "cell_type": "markdown",
   "metadata": {},
   "source": [
    "### 중간 단계를 출력하는 사용자 정의 함수 정의"
   ]
  },
  {
   "cell_type": "code",
   "execution_count": 22,
   "metadata": {},
   "outputs": [],
   "source": [
    "def tool_callback(tool) -> None:\n",
    "    print(f'===== 도구 호출 =====')\n",
    "    print(f\"사용된 도구 이름 : {tool.get('tool')}\")\n",
    "    print(f'===== 도구 호출 =====')"
   ]
  },
  {
   "cell_type": "code",
   "execution_count": 23,
   "metadata": {},
   "outputs": [],
   "source": [
    "def obervation_callback(observation) -> None:\n",
    "    print(f'===== 관찰 내용 =====')\n",
    "    print(f\"Observation : {observation.get('observation')[0]}\")\n",
    "    print(f'===== 관찰 내용 =====')"
   ]
  },
  {
   "cell_type": "code",
   "execution_count": 24,
   "metadata": {},
   "outputs": [],
   "source": [
    "def result_callback(result: str) -> None:\n",
    "    print(f'===== 최종 답변 =====')\n",
    "    print(result)\n",
    "    print(f'===== 최종 답변 =====')"
   ]
  },
  {
   "cell_type": "code",
   "execution_count": 25,
   "metadata": {},
   "outputs": [],
   "source": [
    "agent_callbacks = AgentCallbacks(\n",
    "    tool_callback=tool_callback, \n",
    "    observation_callback=obervation_callback, \n",
    "    result_callback=result_callback\n",
    ")"
   ]
  },
  {
   "cell_type": "markdown",
   "metadata": {},
   "source": [
    "### AgentStreamParser"
   ]
  },
  {
   "cell_type": "code",
   "execution_count": 26,
   "metadata": {},
   "outputs": [],
   "source": [
    "agent_stream_parser = AgentStreamParser(agent_callbacks)"
   ]
  },
  {
   "cell_type": "code",
   "execution_count": 27,
   "metadata": {},
   "outputs": [
    {
     "name": "stdout",
     "output_type": "stream",
     "text": [
      "===== 도구 호출 =====\n",
      "사용된 도구 이름 : search_keyword\n",
      "===== 도구 호출 =====\n",
      "검색어: 랭체인\n",
      "===== 관찰 내용 =====\n",
      "Observation : {'url': 'https://news.google.com/rss/articles/CBMibkFVX3lxTE1qMC1EYjRZOEpMNVBEVVpSNm1BX3A4a3FrdmEyOTdDNWdjMGR1ZEgzWlpHZnRFZ1pSUXdKa3JnOXBQZU5qU3dKS3Q5VUNwLVZxRFZmbG1SZzJVSUoyM2lJbnZRbzhYYUJJcnFHWmp3?oc=5', 'content': '랭체인 LangChain 이란 무엇인가? | 인사이트리포트 | 삼성SDS - Samsung SDS'}\n",
      "===== 관찰 내용 =====\n",
      "===== 최종 답변 =====\n",
      "다음은 \"랭체인\"에 대한 최근 뉴스입니다:\n",
      "\n",
      "1. [랭체인 LangChain 이란 무엇인가? | 인사이트리포트 | 삼성SDS](https://news.google.com/rss/articles/CBMibkFVX3lxTE1qMC1EYjRZOEpMNVBEVVpSNm1BX3A4a3FrdmEyOTdDNWdjMGR1ZEgzWlpHZnRFZ1pSUXdKa3JnOXBQZU5qU3dKS3Q5VUNwLVZxRFZmbG1SZzJVSUoyM2lJbnZRbzhYYUJJcnFHWmp3?oc=5)\n",
      "\n",
      "2. [개발자를 위한 랭체인 기초 개념과 환경 설정법 - 요즘IT](https://news.google.com/rss/articles/CBMiWkFVX3lxTFBtcm1OMmpJOUxvdnlkd0M0dVFfaGhma3BrTDRaVEY2OXFwd2tfUTZHVkFNSkZJYkZLc0x2dzFWWDNldF9TaVhIU0NxSUxyMlpIRC1KNksyLWdNQQ?oc=5)\n",
      "\n",
      "더 궁금한 점이 있으시면 말씀해 주세요!\n",
      "===== 최종 답변 =====\n"
     ]
    }
   ],
   "source": [
    "result = agent_executor.stream({'input': '랭체인에 대한 뉴스를 검색해주세요'})\n",
    "\n",
    "for step in result:\n",
    "    agent_stream_parser.process_agent_steps(step)"
   ]
  },
  {
   "cell_type": "code",
   "execution_count": 28,
   "metadata": {},
   "outputs": [
    {
     "name": "stdout",
     "output_type": "stream",
     "text": [
      "===== 도구 호출 =====\n",
      "사용된 도구 이름 : search_keyword\n",
      "===== 도구 호출 =====\n",
      "검색어: AI\n",
      "===== 관찰 내용 =====\n",
      "Observation : {'url': 'https://news.google.com/rss/articles/CBMiVkFVX3lxTFBXWmRIU2NLbkxQSk5kajJBZlE3cHBRY0dXd2NWazZtQmVndE1qYmNCTjlkUTZ0c1pVT0U0d1pneGJ3Rk1HZ3FieFdBX01nZ3h1ZzRScG1R?oc=5', 'content': '[AI연구소] AI로 작성한 이력서, 채용 담당자들은 알아 차릴까 - ZD넷 코리아'}\n",
      "===== 관찰 내용 =====\n",
      "===== 최종 답변 =====\n",
      "다음은 최근 AI 관련 뉴스입니다:\n",
      "\n",
      "1. [AI로 작성한 이력서, 채용 담당자들은 알아 차릴까 - ZD넷 코리아](https://news.google.com/rss/articles/CBMiVkFVX3lxTFBXWmRIU2NLbkxQSk5kajJBZlE3cHBRY0dXd2NWazZtQmVndE1qYmNCTjlkUTZ0c1pVT0U0d1pneGJ3Rk1HZ3FieFdBX01nZ3h1ZzRScG1R?oc=5)\n",
      "   \n",
      "2. [스태빌리티 AI, 사진을 3D로 변환하는 AI 모델 출시 - AI타임스](https://news.google.com/rss/articles/CBMiakFVX3lxTE1uVHhTbURoUmE0ZWgwb1dpUEl1X2V6RTl0My1JdFNUQ0EyTFMwOG5NaVFlOFFQS0RqeEVsSEhVYzJOcGZScENQT2czZTloelFhTldMZ256ck90azFwb1VRNzNBVmJqSUowTnc?oc=5)\n",
      "\n",
      "더 많은 정보가 필요하시면 말씀해 주세요!\n",
      "===== 최종 답변 =====\n"
     ]
    }
   ],
   "source": [
    "result = agent_executor.stream({'input': 'AI 관련 뉴스를 검색해 주세요.'})\n",
    "\n",
    "for step in result:\n",
    "    # 중간 단계를 parser 를 사용하여 단계별로 출력\n",
    "    agent_stream_parser.process_agent_steps(step)"
   ]
  },
  {
   "cell_type": "code",
   "execution_count": 29,
   "metadata": {},
   "outputs": [
    {
     "name": "stderr",
     "output_type": "stream",
     "text": [
      "Python REPL can execute arbitrary code. Use with caution.\n"
     ]
    },
    {
     "name": "stdout",
     "output_type": "stream",
     "text": [
      "===== 도구 호출 =====\n",
      "사용된 도구 이름 : python_repl_tool\n",
      "===== 도구 호출 =====\n",
      "===== 관찰 내용 =====\n",
      "Observation : 3\n",
      "===== 관찰 내용 =====\n",
      "===== 최종 답변 =====\n",
      "10 + 20의 결과는 30입니다.\n",
      "===== 최종 답변 =====\n"
     ]
    }
   ],
   "source": [
    "result = agent_executor.stream({'input': '10 + 20을 출력하는 파이썬 코드를 작성하고 실행해주세요'})\n",
    "\n",
    "for step in result:\n",
    "    # 중간 단계를 parser 를 사용하여 단계별로 출력\n",
    "    agent_stream_parser.process_agent_steps(step)"
   ]
  }
 ],
 "metadata": {
  "kernelspec": {
   "display_name": "venv",
   "language": "python",
   "name": "python3"
  },
  "language_info": {
   "codemirror_mode": {
    "name": "ipython",
    "version": 3
   },
   "file_extension": ".py",
   "mimetype": "text/x-python",
   "name": "python",
   "nbconvert_exporter": "python",
   "pygments_lexer": "ipython3",
   "version": "3.11.9"
  }
 },
 "nbformat": 4,
 "nbformat_minor": 2
}
