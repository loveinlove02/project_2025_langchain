{
 "cells": [
  {
   "cell_type": "code",
   "execution_count": 68,
   "metadata": {},
   "outputs": [],
   "source": [
    "from dotenv import load_dotenv\n",
    "import os\n",
    "\n",
    "load_dotenv(verbose=True)\n",
    "key = os.getenv('OPENAI_API_KEY')"
   ]
  },
  {
   "cell_type": "markdown",
   "metadata": {},
   "source": [
    "### 대화 내용을 기록하는 Agent\n",
    "\n",
    "- `RunnableWithMessageHistory` 를 사용하여 인자로 `AgentExecutor` 를 넣어줍니다."
   ]
  },
  {
   "cell_type": "code",
   "execution_count": 69,
   "metadata": {},
   "outputs": [],
   "source": [
    "from langchain.agents import tool\n",
    "from typing import List, Dict, Annotated"
   ]
  },
  {
   "cell_type": "code",
   "execution_count": 70,
   "metadata": {},
   "outputs": [],
   "source": [
    "from langchain_teddynote.tools import GoogleNews\n",
    "from langchain_experimental.utilities import PythonREPL"
   ]
  },
  {
   "cell_type": "code",
   "execution_count": 71,
   "metadata": {},
   "outputs": [],
   "source": [
    "from langchain_openai import ChatOpenAI\n",
    "from langchain_core.prompts import ChatPromptTemplate, MessagesPlaceholder\n",
    "from langchain.agents import create_tool_calling_agent\n",
    "from langchain.agents import AgentExecutor"
   ]
  },
  {
   "cell_type": "code",
   "execution_count": 72,
   "metadata": {},
   "outputs": [],
   "source": [
    "from langchain_teddynote.messages import AgentStreamParser\n",
    "from langchain_teddynote.messages import AgentCallbacks\n",
    "from langchain_community.chat_message_histories import ChatMessageHistory\n",
    "from langchain_core.runnables.history import RunnableWithMessageHistory"
   ]
  },
  {
   "cell_type": "markdown",
   "metadata": {},
   "source": [
    "### 도구 정의"
   ]
  },
  {
   "cell_type": "code",
   "execution_count": 73,
   "metadata": {},
   "outputs": [],
   "source": [
    "@tool\n",
    "def search_keyword(query: str) -> List[Dict[str, str]]:\n",
    "    \"\"\"Look up news by keyword\"\"\"\n",
    "\n",
    "    print(f'검색어: {query}')\n",
    "\n",
    "    news_tool = GoogleNews()\n",
    "\n",
    "    return news_tool.search_by_keyword(query, k=5)"
   ]
  },
  {
   "cell_type": "code",
   "execution_count": 74,
   "metadata": {},
   "outputs": [],
   "source": [
    "@tool\n",
    "def python_repl_tool(\n",
    "    code: Annotated[str, \"The python code to execute to generate your chart.\"],\n",
    "):\n",
    "    \"\"\"Use this to execute python code. If you want to see the output of a value,\n",
    "    you should print it out with `print(...)`. This is visible to the user.\"\"\"\n",
    "    result = \"\"\n",
    "    try:\n",
    "        result = PythonREPL().run(code)\n",
    "    except BaseException as e:\n",
    "        print(f\"Failed to execute. Error: {repr(e)}\")\n",
    "    finally:\n",
    "        return result"
   ]
  },
  {
   "cell_type": "markdown",
   "metadata": {},
   "source": [
    "### Agent 프롬프트 작성"
   ]
  },
  {
   "cell_type": "code",
   "execution_count": 75,
   "metadata": {},
   "outputs": [],
   "source": [
    "# 프롬프트는 에이전트에게 모델이 수행할 작업을 설명하는 텍스트를 제공합니다. (도구의 이름과 역할을 입력)\n",
    "prompt = ChatPromptTemplate.from_messages(\n",
    "    [\n",
    "        (                                           \n",
    "            \"system\",\n",
    "            \"You are a helpful assistant. \"             \n",
    "            \"Make sure to use the `search_news` tool for searching keyword related news.\"\n",
    "            \"Be sure to use the 'python_repl_tool' tool when make python code.\"\n",
    "            \"Be sure to use the 'naver_news_crawl' tool when naver news crawlling.\"\n",
    "        ),\n",
    "        (\"placeholder\", \"{chat_history}\"),          # 이전 대화 내용을 넣을 곳을 잡아둔다.\n",
    "        (\"human\", \"{input}\"),                       # 사용자 입력\n",
    "\n",
    "        # 에이전트가 검색하는 과정들이나 내용 등을 끄적이는 메모장 같은 공간을 플레이스 홀더로 만들어준다\n",
    "        (\"placeholder\", \"{agent_scratchpad}\"),       \n",
    "    ]\n",
    ")"
   ]
  },
  {
   "cell_type": "code",
   "execution_count": 76,
   "metadata": {},
   "outputs": [],
   "source": [
    "tools = [search_keyword, python_repl_tool]"
   ]
  },
  {
   "cell_type": "markdown",
   "metadata": {},
   "source": [
    "### Agent 생성"
   ]
  },
  {
   "cell_type": "code",
   "execution_count": 77,
   "metadata": {},
   "outputs": [],
   "source": [
    "llm = ChatOpenAI(\n",
    "    api_key=key, \n",
    "    model='gpt-4o-mini', \n",
    "    temperature=0\n",
    ")\n",
    "\n",
    "agent = create_tool_calling_agent(llm, tools, prompt)"
   ]
  },
  {
   "cell_type": "markdown",
   "metadata": {},
   "source": [
    "### AgentExecutor"
   ]
  },
  {
   "cell_type": "code",
   "execution_count": 78,
   "metadata": {},
   "outputs": [],
   "source": [
    "agent_executor = AgentExecutor(\n",
    "    agent=agent,                    # 각 단계에서 계획을 생성하고 행동을 결정하는 agent\n",
    "    tools=tools,                    # agent 가 사용할 수 있는 도구 목록\n",
    "    verbose=False,\n",
    "    max_iterations=10,              # 최대 10번 까지 반복\n",
    "    max_execution_time=10,          # 실행되는데 소요되는 최대 시간\n",
    "    handle_parsing_errors=True      \n",
    ")"
   ]
  },
  {
   "cell_type": "markdown",
   "metadata": {},
   "source": [
    "### 중간 단계를 출력하는 사용자 정의 함수 정의"
   ]
  },
  {
   "cell_type": "code",
   "execution_count": 79,
   "metadata": {},
   "outputs": [],
   "source": [
    "def tool_callback(tool) -> None:\n",
    "    print(f'===== 도구 호출 =====')\n",
    "    print(f\"사용된 도구 이름 : {tool.get('tool')}\")\n",
    "    print(f'===== 도구 호출 =====')"
   ]
  },
  {
   "cell_type": "code",
   "execution_count": 80,
   "metadata": {},
   "outputs": [],
   "source": [
    "def obervation_callback(observation) -> None:\n",
    "    print(f'===== 관찰 내용 =====')\n",
    "    print(f\"Observation : {observation.get('observation')[0]}\")\n",
    "    print(f'===== 관찰 내용 =====')"
   ]
  },
  {
   "cell_type": "code",
   "execution_count": 81,
   "metadata": {},
   "outputs": [],
   "source": [
    "def result_callback(result: str) -> None:\n",
    "    print(f'===== 최종 답변 =====')\n",
    "    print(result)\n",
    "    print(f'===== 최종 답변 =====')"
   ]
  },
  {
   "cell_type": "code",
   "execution_count": 82,
   "metadata": {},
   "outputs": [],
   "source": [
    "agent_callbacks = AgentCallbacks(\n",
    "    tool_callback=tool_callback, \n",
    "    observation_callback=obervation_callback, \n",
    "    result_callback=result_callback\n",
    ")"
   ]
  },
  {
   "cell_type": "markdown",
   "metadata": {},
   "source": [
    "### AgentStreamParser"
   ]
  },
  {
   "cell_type": "code",
   "execution_count": 83,
   "metadata": {},
   "outputs": [],
   "source": [
    "agent_stream_parser = AgentStreamParser(agent_callbacks)"
   ]
  },
  {
   "cell_type": "code",
   "execution_count": 84,
   "metadata": {},
   "outputs": [],
   "source": [
    "store = {}"
   ]
  },
  {
   "cell_type": "code",
   "execution_count": 85,
   "metadata": {},
   "outputs": [],
   "source": [
    "def get_session_history(session_ids):   # session_id 를 기반으로 세션 기록을 가져오는 함수    \n",
    "    if session_ids not in store:        # session_id 가 store에 없는 경우        \n",
    "        store[session_ids] = ChatMessageHistory()   # 새로운 ChatMessageHistory 객체를 딕셔너리에 저장\n",
    "    \n",
    "    return store[session_ids]           # 해당 세션 ID에 대한 세션 기록 리턴"
   ]
  },
  {
   "cell_type": "code",
   "execution_count": 86,
   "metadata": {},
   "outputs": [],
   "source": [
    "agent_with_chat_history = RunnableWithMessageHistory(\n",
    "    agent_executor,\n",
    "    get_session_history,                                    # session_id 를 기반으로 세션 기록을 가져오는 함수\n",
    "    input_messages_key='input',                             # 프롬프트의 질문으로 들어가는 key: input\n",
    "    history_messages_key='chat_history'                     # 프롬프트의 대화 기록이 들어가는 key: chat_history\n",
    ")"
   ]
  },
  {
   "cell_type": "code",
   "execution_count": 87,
   "metadata": {},
   "outputs": [],
   "source": [
    "response = agent_with_chat_history.stream(\n",
    "    {'input': '안녕? 내 이름은 이인환이야.'}, \n",
    "    config={'configurable': {'session_id': 'abc123'}}\n",
    ")"
   ]
  },
  {
   "cell_type": "code",
   "execution_count": 88,
   "metadata": {},
   "outputs": [
    {
     "name": "stdout",
     "output_type": "stream",
     "text": [
      "===== 최종 답변 =====\n",
      "안녕하세요, 이인환님! 어떻게 도와드릴까요?\n",
      "===== 최종 답변 =====\n"
     ]
    }
   ],
   "source": [
    "for step in response:\n",
    "    agent_stream_parser.process_agent_steps(step)"
   ]
  },
  {
   "cell_type": "code",
   "execution_count": 89,
   "metadata": {},
   "outputs": [],
   "source": [
    "response = agent_with_chat_history.stream(\n",
    "    {'input': '내 이름이 뭐라고?'}, \n",
    "    config={'configurable': {'session_id': 'abc123'}}\n",
    ")"
   ]
  },
  {
   "cell_type": "code",
   "execution_count": 90,
   "metadata": {},
   "outputs": [],
   "source": [
    "response = agent_with_chat_history.stream(\n",
    "    {'input': '나는 소프트웨어놀이터 라는 회사에 코딩강의 및 연구 개발을 하고있어'}, \n",
    "    config={'configurable': {'session_id': 'abc123'}}\n",
    ")"
   ]
  },
  {
   "cell_type": "code",
   "execution_count": 91,
   "metadata": {},
   "outputs": [
    {
     "name": "stdout",
     "output_type": "stream",
     "text": [
      "===== 최종 답변 =====\n",
      "소프트웨어놀이터에서 코딩 강의와 연구 개발을 하신다니 멋지네요! 어떤 주제에 대해 강의하시거나 연구하고 계신가요? 도움이 필요하신 부분이 있다면 말씀해 주세요.\n",
      "===== 최종 답변 =====\n"
     ]
    }
   ],
   "source": [
    "for step in response:\n",
    "    agent_stream_parser.process_agent_steps(step)"
   ]
  },
  {
   "cell_type": "code",
   "execution_count": 92,
   "metadata": {},
   "outputs": [],
   "source": [
    "response = agent_with_chat_history.stream(\n",
    "    {\n",
    "        'input': '랭체인에 대한 뉴스 5개를 검색해서 이메일 본문으로 작성해줘.'\n",
    "        '수신인에는 `윤정 대리님` 그리고, 발신인에는 내 인적정보를 적어줘.'\n",
    "        '정중한 어조로 작성하고, 메일의 시작과 끝에는 적절한 인사말과 맺음말을 적어줘.'\n",
    "    }, \n",
    "    config={'configurable': {'session_id': 'abc123'}}\n",
    ")"
   ]
  },
  {
   "cell_type": "code",
   "execution_count": 93,
   "metadata": {},
   "outputs": [
    {
     "name": "stdout",
     "output_type": "stream",
     "text": [
      "===== 도구 호출 =====\n",
      "사용된 도구 이름 : search_keyword\n",
      "===== 도구 호출 =====\n",
      "검색어: 랭체인\n",
      "===== 관찰 내용 =====\n",
      "Observation : {'url': 'https://news.google.com/rss/articles/CBMibkFVX3lxTE1qMC1EYjRZOEpMNVBEVVpSNm1BX3A4a3FrdmEyOTdDNWdjMGR1ZEgzWlpHZnRFZ1pSUXdKa3JnOXBQZU5qU3dKS3Q5VUNwLVZxRFZmbG1SZzJVSUoyM2lJbnZRbzhYYUJJcnFHWmp3?oc=5', 'content': '랭체인 LangChain 이란 무엇인가? | 인사이트리포트 | 삼성SDS - Samsung SDS'}\n",
      "===== 관찰 내용 =====\n",
      "===== 최종 답변 =====\n",
      "아래는 \"랭체인\"에 대한 최근 뉴스 5개를 정리한 이메일 본문입니다.\n",
      "\n",
      "---\n",
      "\n",
      "**수신인:** 윤정 대리님  \n",
      "**발신인:** 이인환\n",
      "\n",
      "안녕하세요, 윤정 대리님.\n",
      "\n",
      "최근 \"랭체인\"에 대한 흥미로운 뉴스들을 아래와 같이 정리해 보았습니다. 참고하시기 바랍니다.\n",
      "\n",
      "1. [랭체인 LangChain 이란 무엇인가? | 인사이트리포트 | 삼성SDS](https://news.google.com/rss/articles/CBMibkFVX3lxTE1qMC1EYjRZOEpMNVBEVVpSNm1BX3A4a3FrdmEyOTdDNWdjMGR1ZEgzWlpHZnRFZ1pSUXdKa3JnOXBQZU5qU3dKS3Q5VUNwLVZxRFZmbG1SZzJVSUoyM2lJbnZRbzhYYUJJcnFHWmp3?oc=5)  \n",
      "   - 랭체인에 대한 기본적인 개념과 활용 방안에 대해 설명합니다.\n",
      "\n",
      "2. [개발자를 위한 랭체인 기초 개념과 환경 설정법 - 요즘IT](https://news.google.com/rss/articles/CBMiWkFVX3lxTFBtcm1OMmpJOUxvdnlkd0M0dVFfaGhma3BrTDRaVEY2OXFwd2tfUTZHVkFNSkZJYkZLc0x2dzFWWDNldF9TaVhIU0NxSUxyMlpIRC1KNksyLWdNQQ?oc=5)  \n",
      "   - 랭체인을 시작하는 개발자들을 위한 기초 개념과 환경 설정 방법을 다룹니다.\n",
      "\n",
      "3. [20화 19. RAG(검색증강생성) 지원 - 브런치](https://news.google.com/rss/articles/CBMiRkFVX3lxTE04LVVxZF8wc09QVGxFWjRURWktdTdRNE5VYWYweVkteHdxaDRDbjY1OUpLeDUtbWxTVnRWT3gwTWVsSk5OUHc?oc=5)  \n",
      "   - 랭체인에서의 검색 증강 생성(RAG) 지원에 대한 내용을 소개합니다.\n",
      "\n",
      "4. [구글, 데이터베이스용 ‘생성형 AI 툴박스’ 공개 베타 발표 \"랭체인과 협력\" - CIO.com](https://news.google.com/rss/articles/CBMiwgJBVV95cUxPM0hHcjNGR0RiT0M2QlplRlcxdjdYZE5WTk9zZ2lGVEIxd05hdktEbmRNNTBnLWJ1NEl3LWRPVTNfdFIxX1VOUURxdHdrWTdHOG9LQ3BrOUtWWUl1T0ZianhSckt1NGNtelAweTQ1LXpQTC1DVG50ZUVOOFV1VldBSEZvN2toemJuR3hfQXVfTXBKLVhzWDZMQ25kc1JQM1VnYTRFOTVYSmRFQWJGYWItdTJkNTdXaXlpYzY2dHg0aWM5WVlBQkFRb0N6WGNSWWdVaXhiY1ZXUGJuZ0dpVWtielpJQlV4dFAyZzB6Q2Z0Y1V6SjVZRU5QS0hsRUN0N19EbUc4RXFpV090M2ZZVjZUbS03cC13bFk1M0xrTnJMeHJUOC10dkctbGpJYnFRVHZfVXlQMU5nNDRUbndmbkFiZWFR0gHCAkFVX3lxTE8zSEdyM0ZHRGJPQzZCWmVGVzF2N1hkTlZOT3NnaUZUQjF3TmF2S0RuZE01MGctYnU0SXctZE9VM190UjFfVU5RRHF0d2tZN0c4b0tDcGs5S1ZZSXVPRmJqeFJyS3U0Y216UDB5NDUtelBMLUNUbnRlRU44VXVWV0FIRm83a2h6Ym5HeF9BdV9NcEotWHNYNkxDbmRzUlAzVWdhNEU5NVhKZEVBYkZhYi11MmQ1N1dpeWljNjZ0eDRpYzlZWUFCQVFvQ3pYY1JZZ1VpeGJjVldQYm5nR2lVa2J6WklCVXh0UDJnMHpDZnRjVXpKNVlFTlBLSGxFQ3Q3X0RtRzhFcWlXT3QzZllWNlRtLTdwLXdsWTUzTGtOckx4clQ4LXR2Ry1saklicVFUdl9VeVAxTmc0NFRud2ZuQWJlYVE?oc=5)  \n",
      "   - 구글이 생성형 AI 툴박스를 공개하며 랭체인과의 협력 소식을 전합니다.\n",
      "\n",
      "5. [주목해야 할 5대 기술 전망 “AI·랭체인·클라우드 전문가·SLM·데이터 전문가” - GTT KOREA](https://news.google.com/rss/articles/CBMiakFVX3lxTE5SRG5pSjVLS0ZfZGZHQjN4Yk5jX0VqLWFCWFpDajdSRzhWTXNMZndzV09NWnkwMmlpaVRZWU14SjljR3BxOTVfRUxuMmwtbmhCTHhSMDJsZjU5MUVxcGg3NUN4ZlJoSHU0Q3fSAW5BVV95cUxNRG9weC15VUx4ZERDYmFZOF9DRExwWlRxLUFXRFJPNEhrSGpLNExkNFJDMng1YVoyY3hVcm82VW0wVW9tc1lWVDN0RjFEVUQ0RGlHWGQ5WWluMUNwRzQyQ3pCZTIwS0wtRlpGVGVFZw?oc=5)  \n",
      "   - AI, 랭체인, 클라우드 등 5대 기술 전망에 대한 기사를 다룹니다.\n",
      "\n",
      "이 정보가 도움이 되길 바랍니다. 추가로 궁금한 점이 있으시면 언제든지 말씀해 주세요.\n",
      "\n",
      "감사합니다.\n",
      "\n",
      "이인환 드림\n",
      "\n",
      "--- \n",
      "\n",
      "이메일 내용이 마음에 드시나요? 수정이 필요하시면 말씀해 주세요!\n",
      "===== 최종 답변 =====\n"
     ]
    }
   ],
   "source": [
    "for step in response:\n",
    "    agent_stream_parser.process_agent_steps(step)"
   ]
  },
  {
   "cell_type": "code",
   "execution_count": 94,
   "metadata": {},
   "outputs": [],
   "source": [
    "response = agent_with_chat_history.stream(\n",
    "    {'input': '내 이름이 뭐라고?'}, \n",
    "    config={'configurable': {'session_id': 'abc123'}}\n",
    ")"
   ]
  },
  {
   "cell_type": "code",
   "execution_count": 95,
   "metadata": {},
   "outputs": [
    {
     "name": "stdout",
     "output_type": "stream",
     "text": [
      "===== 최종 답변 =====\n",
      "당신의 이름은 이인환입니다.\n",
      "===== 최종 답변 =====\n"
     ]
    }
   ],
   "source": [
    "for step in response:\n",
    "    agent_stream_parser.process_agent_steps(step)"
   ]
  },
  {
   "cell_type": "code",
   "execution_count": null,
   "metadata": {},
   "outputs": [
    {
     "name": "stdout",
     "output_type": "stream",
     "text": [
      "============================================================\n",
      "[step] (1): \n",
      "\n",
      "===== [actions] 시작 =====\n",
      "action type: <class 'langchain.agents.output_parsers.tools.ToolAgentAction'>\n",
      "tool='search_keyword' tool_input={'query': '랭체인'} log=\"\\nInvoking: `search_keyword` with `{'query': '랭체인'}`\\n\\n\\n\" message_log=[AIMessageChunk(content='', additional_kwargs={'tool_calls': [{'index': 0, 'id': 'call_Sy9yzMiu7xYCiMZSex1zPGef', 'function': {'arguments': '{\"query\":\"랭체인\"}', 'name': 'search_keyword'}, 'type': 'function'}]}, response_metadata={'finish_reason': 'tool_calls', 'model_name': 'gpt-4o-mini-2024-07-18', 'system_fingerprint': 'fp_b8bc95a0ac'}, id='run-9e6d5faf-1cbf-4d8b-bd62-1dece527d221', tool_calls=[{'name': 'search_keyword', 'args': {'query': '랭체인'}, 'id': 'call_Sy9yzMiu7xYCiMZSex1zPGef', 'type': 'tool_call'}], tool_call_chunks=[{'name': 'search_keyword', 'args': '{\"query\":\"랭체인\"}', 'id': 'call_Sy9yzMiu7xYCiMZSex1zPGef', 'index': 0, 'type': 'tool_call_chunk'}])] tool_call_id='call_Sy9yzMiu7xYCiMZSex1zPGef'\n",
      "===== [actions]  끝 =====\n",
      "===== [messages] 시작 =====\n",
      "메시지 타입: AIMessageChunk\n",
      "내용 Message: \n",
      "도구 호출 이름:  search_keyword\n",
      "도구 호출 인자:  {'query': '랭체인'}\n",
      "도구 호출 아이디:  call_Sy9yzMiu7xYCiMZSex1zPGef\n",
      "도구 호출 타입:  tool_call\n",
      "===== [messages] 끝 =====\n",
      "검색어: 랭체인\n",
      "============================================================\n",
      "[step] (2): \n",
      "\n",
      "===== [steps] 시작 =====\n",
      " 사용 도구 이름 agent_step.action.tool: search_keyword\n",
      " 입력 쿼리 agent_step.action.tool_input: {'query': '랭체인'}\n",
      " Log: \n",
      "Invoking: `search_keyword` with `{'query': '랭체인'}`\n",
      "\n",
      "\n",
      "\n",
      " Observation: \n",
      "\n",
      "{'url': 'https://news.google.com/rss/articles/CBMibkFVX3lxTE1qMC1EYjRZOEpMNVBEVVpSNm1BX3A4a3FrdmEyOTdDNWdjMGR1ZEgzWlpHZnRFZ1pSUXdKa3JnOXBQZU5qU3dKS3Q5VUNwLVZxRFZmbG1SZzJVSUoyM2lJbnZRbzhYYUJJcnFHWmp3?oc=5', 'content': '랭체인 LangChain 이란 무엇인가? | 인사이트리포트 | 삼성SDS - Samsung SDS'}\n",
      "{'url': 'https://news.google.com/rss/articles/CBMiWkFVX3lxTFBtcm1OMmpJOUxvdnlkd0M0dVFfaGhma3BrTDRaVEY2OXFwd2tfUTZHVkFNSkZJYkZLc0x2dzFWWDNldF9TaVhIU0NxSUxyMlpIRC1KNksyLWdNQQ?oc=5', 'content': '개발자를 위한 랭체인 기초 개념과 환경 설정법 - 요즘IT'}\n",
      "{'url': 'https://news.google.com/rss/articles/CBMiRkFVX3lxTE04LVVxZF8wc09QVGxFWjRURWktdTdRNE5VYWYweVkteHdxaDRDbjY1OUpLeDUtbWxTVnRWT3gwTWVsSk5OUHc?oc=5', 'content': '20화 19. RAG(검색증강생성) 지원 - 브런치'}\n",
      "{'url': 'https://news.google.com/rss/articles/CBMiwgJBVV95cUxPM0hHcjNGR0RiT0M2QlplRlcxdjdYZE5WTk9zZ2lGVEIxd05hdktEbmRNNTBnLWJ1NEl3LWRPVTNfdFIxX1VOUURxdHdrWTdHOG9LQ3BrOUtWWUl1T0ZianhSckt1NGNtelAweTQ1LXpQTC1DVG50ZUVOOFV1VldBSEZvN2toemJuR3hfQXVfTXBKLVhzWDZMQ25kc1JQM1VnYTRFOTVYSmRFQWJGYWItdTJkNTdXaXlpYzY2dHg0aWM5WVlBQkFRb0N6WGNSWWdVaXhiY1ZXUGJuZ0dpVWtielpJQlV4dFAyZzB6Q2Z0Y1V6SjVZRU5QS0hsRUN0N19EbUc4RXFpV090M2ZZVjZUbS03cC13bFk1M0xrTnJMeHJUOC10dkctbGpJYnFRVHZfVXlQMU5nNDRUbndmbkFiZWFR0gHCAkFVX3lxTE8zSEdyM0ZHRGJPQzZCWmVGVzF2N1hkTlZOT3NnaUZUQjF3TmF2S0RuZE01MGctYnU0SXctZE9VM190UjFfVU5RRHF0d2tZN0c4b0tDcGs5S1ZZSXVPRmJqeFJyS3U0Y216UDB5NDUtelBMLUNUbnRlRU44VXVWV0FIRm83a2h6Ym5HeF9BdV9NcEotWHNYNkxDbmRzUlAzVWdhNEU5NVhKZEVBYkZhYi11MmQ1N1dpeWljNjZ0eDRpYzlZWUFCQVFvQ3pYY1JZZ1VpeGJjVldQYm5nR2lVa2J6WklCVXh0UDJnMHpDZnRjVXpKNVlFTlBLSGxFQ3Q3X0RtRzhFcWlXT3QzZllWNlRtLTdwLXdsWTUzTGtOckx4clQ4LXR2Ry1saklicVFUdl9VeVAxTmc0NFRud2ZuQWJlYVE?oc=5', 'content': '구글, 데이터베이스용 ‘생성형 AI 툴박스’ 공개 베타 발표 \"랭체인과 협력\" - CIO.com'}\n",
      "{'url': 'https://news.google.com/rss/articles/CBMiakFVX3lxTE5SRG5pSjVLS0ZfZGZHQjN4Yk5jX0VqLWFCWFpDajdSRzhWTXNMZndzV09NWnkwMmlpaVRZWU14SjljR3BxOTVfRUxuMmwtbmhCTHhSMDJsZjU5MUVxcGg3NUN4ZlJoSHU0Q3fSAW5BVV95cUxNRG9weC15VUx4ZERDYmFZOF9DRExwWlRxLUFXRFJPNEhrSGpLNExkNFJDMng1YVoyY3hVcm82VW0wVW9tc1lWVDN0RjFEVUQ0RGlHWGQ5WWluMUNwRzQyQ3pCZTIwS0wtRlpGVGVFZw?oc=5', 'content': '주목해야 할 5대 기술 전망 “AI·랭체인·클라우드 전문가·SLM·데이터 전문가” - GTT KOREA'}\n",
      "===== [steps]  끝 =====\n",
      "===== [messages] 시작 =====\n",
      "메시지 타입: FunctionMessage\n",
      "내용 Message: [{\"url\": \"https://news.google.com/rss/articles/CBMibkFVX3lxTE1qMC1EYjRZOEpMNVBEVVpSNm1BX3A4a3FrdmEyOTdDNWdjMGR1ZEgzWlpHZnRFZ1pSUXdKa3JnOXBQZU5qU3dKS3Q5VUNwLVZxRFZmbG1SZzJVSUoyM2lJbnZRbzhYYUJJcnFHWmp3?oc=5\", \"content\": \"랭체인 LangChain 이란 무엇인가? | 인사이트리포트 | 삼성SDS - Samsung SDS\"}, {\"url\": \"https://news.google.com/rss/articles/CBMiWkFVX3lxTFBtcm1OMmpJOUxvdnlkd0M0dVFfaGhma3BrTDRaVEY2OXFwd2tfUTZHVkFNSkZJYkZLc0x2dzFWWDNldF9TaVhIU0NxSUxyMlpIRC1KNksyLWdNQQ?oc=5\", \"content\": \"개발자를 위한 랭체인 기초 개념과 환경 설정법 - 요즘IT\"}, {\"url\": \"https://news.google.com/rss/articles/CBMiRkFVX3lxTE04LVVxZF8wc09QVGxFWjRURWktdTdRNE5VYWYweVkteHdxaDRDbjY1OUpLeDUtbWxTVnRWT3gwTWVsSk5OUHc?oc=5\", \"content\": \"20화 19. RAG(검색증강생성) 지원 - 브런치\"}, {\"url\": \"https://news.google.com/rss/articles/CBMiwgJBVV95cUxPM0hHcjNGR0RiT0M2QlplRlcxdjdYZE5WTk9zZ2lGVEIxd05hdktEbmRNNTBnLWJ1NEl3LWRPVTNfdFIxX1VOUURxdHdrWTdHOG9LQ3BrOUtWWUl1T0ZianhSckt1NGNtelAweTQ1LXpQTC1DVG50ZUVOOFV1VldBSEZvN2toemJuR3hfQXVfTXBKLVhzWDZMQ25kc1JQM1VnYTRFOTVYSmRFQWJGYWItdTJkNTdXaXlpYzY2dHg0aWM5WVlBQkFRb0N6WGNSWWdVaXhiY1ZXUGJuZ0dpVWtielpJQlV4dFAyZzB6Q2Z0Y1V6SjVZRU5QS0hsRUN0N19EbUc4RXFpV090M2ZZVjZUbS03cC13bFk1M0xrTnJMeHJUOC10dkctbGpJYnFRVHZfVXlQMU5nNDRUbndmbkFiZWFR0gHCAkFVX3lxTE8zSEdyM0ZHRGJPQzZCWmVGVzF2N1hkTlZOT3NnaUZUQjF3TmF2S0RuZE01MGctYnU0SXctZE9VM190UjFfVU5RRHF0d2tZN0c4b0tDcGs5S1ZZSXVPRmJqeFJyS3U0Y216UDB5NDUtelBMLUNUbnRlRU44VXVWV0FIRm83a2h6Ym5HeF9BdV9NcEotWHNYNkxDbmRzUlAzVWdhNEU5NVhKZEVBYkZhYi11MmQ1N1dpeWljNjZ0eDRpYzlZWUFCQVFvQ3pYY1JZZ1VpeGJjVldQYm5nR2lVa2J6WklCVXh0UDJnMHpDZnRjVXpKNVlFTlBLSGxFQ3Q3X0RtRzhFcWlXT3QzZllWNlRtLTdwLXdsWTUzTGtOckx4clQ4LXR2Ry1saklicVFUdl9VeVAxTmc0NFRud2ZuQWJlYVE?oc=5\", \"content\": \"구글, 데이터베이스용 ‘생성형 AI 툴박스’ 공개 베타 발표 \\\"랭체인과 협력\\\" - CIO.com\"}, {\"url\": \"https://news.google.com/rss/articles/CBMiakFVX3lxTE5SRG5pSjVLS0ZfZGZHQjN4Yk5jX0VqLWFCWFpDajdSRzhWTXNMZndzV09NWnkwMmlpaVRZWU14SjljR3BxOTVfRUxuMmwtbmhCTHhSMDJsZjU5MUVxcGg3NUN4ZlJoSHU0Q3fSAW5BVV95cUxNRG9weC15VUx4ZERDYmFZOF9DRExwWlRxLUFXRFJPNEhrSGpLNExkNFJDMng1YVoyY3hVcm82VW0wVW9tc1lWVDN0RjFEVUQ0RGlHWGQ5WWluMUNwRzQyQ3pCZTIwS0wtRlpGVGVFZw?oc=5\", \"content\": \"주목해야 할 5대 기술 전망 “AI·랭체인·클라우드 전문가·SLM·데이터 전문가” - GTT KOREA\"}]\n",
      "도구 호출 없음\n",
      "===== [messages] 끝 =====\n",
      "============================================================\n",
      "[step] (3): \n",
      "\n",
      "===== [output] 시작 =====\n",
      "[output]: 아래는 \"랭체인\"에 대한 최근 뉴스 5개입니다:\n",
      "\n",
      "1. **[랭체인 LangChain 이란 무엇인가? | 인사이트리포트 | 삼성SDS](https://news.google.com/rss/articles/CBMibkFVX3lxTE1qMC1EYjRZOEpMNVBEVVpSNm1BX3A4a3FrdmEyOTdDNWdjMGR1ZEgzWlpHZnRFZ1pSUXdKa3JnOXBQZU5qU3dKS3Q5VUNwLVZxRFZmbG1SZzJVSUoyM2lJbnZRbzhYYUJJcnFHWmp3?oc=5)**  \n",
      "   - 랭체인에 대한 기본적인 개념과 활용 방안에 대해 설명합니다.\n",
      "\n",
      "2. **[개발자를 위한 랭체인 기초 개념과 환경 설정법 - 요즘IT](https://news.google.com/rss/articles/CBMiWkFVX3lxTFBtcm1OMmpJOUxvdnlkd0M0dVFfaGhma3BrTDRaVEY2OXFwd2tfUTZHVkFNSkZJYkZLc0x2dzFWWDNldF9TaVhIU0NxSUxyMlpIRC1KNksyLWdNQQ?oc=5)**  \n",
      "   - 랭체인을 시작하는 개발자들을 위한 기초 개념과 환경 설정 방법을 다룹니다.\n",
      "\n",
      "3. **[20화 19. RAG(검색증강생성) 지원 - 브런치](https://news.google.com/rss/articles/CBMiRkFVX3lxTE04LVVxZF8wc09QVGxFWjRURWktdTdRNE5VYWYweVkteHdxaDRDbjY1OUpLeDUtbWxTVnRWT3gwTWVsSk5OUHc?oc=5)**  \n",
      "   - 랭체인에서의 검색 증강 생성(RAG) 지원에 대한 내용을 소개합니다.\n",
      "\n",
      "4. **[구글, 데이터베이스용 ‘생성형 AI 툴박스’ 공개 베타 발표 \"랭체인과 협력\" - CIO.com](https://news.google.com/rss/articles/CBMiwgJBVV95cUxPM0hHcjNGR0RiT0M2QlplRlcxdjdYZE5WTk9zZ2lGVEIxd05hdktEbmRNNTBnLWJ1NEl3LWRPVTNfdFIxX1VOUURxdHdrWTdHOG9LQ3BrOUtWWUl1T0ZianhSckt1NGNtelAweTQ1LXpQTC1DVG50ZUVOOFV1VldBSEZvN2toemJuR3hfQXVfTXBKLVhzWDZMQ25kc1JQM1VnYTRFOTVYSmRFQWJGYWItdTJkNTdXaXlpYzY2dHg0aWM5WVlBQkFRb0N6WGNSWWdVaXhiY1ZXUGJuZ0dpVWtielpJQlV4dFAyZzB6Q2Z0Y1V6SjVZRU5QS0hsRUN0N19EbUc4RXFpV090M2ZZVjZUbS03cC13bFk1M0xrTnJMeHJUOC10dkctbGpJYnFRVHZfVXlQMU5nNDRUbndmbkFiZWFR0gHCAkFVX3lxTE8zSEdyM0ZHRGJPQzZCWmVGVzF2N1hkTlZOT3NnaUZUQjF3TmF2S0RuZE01MGctYnU0SXctZE9VM190UjFfVU5RRHF0d2tZN0c4b0tDcGs5S1ZZSXVPRmJqeFJyS3U0Y216UDB5NDUtelBMLUNUbnRlRU44VXVWV0FIRm83a2h6Ym5HeF9BdV9NcEotWHNYNkxDbmRzUlAzVWdhNEU5NVhKZEVBYkZhYi11MmQ1N1dpeWljNjZ0eDRpYzlZWUFCQVFvQ3pYY1JZZ1VpeGJjVldQYm5nR2lVa2J6WklCVXh0UDJnMHpDZnRjVXpKNVlFTlBLSGxFQ3Q3X0RtRzhFcWlXT3QzZllWNlRtLTdwLXdsWTUzTGtOckx4clQ4LXR2Ry1saklicVFUdl9VeVAxTmc0NFRud2ZuQWJlYVE?oc=5)**  \n",
      "   - 구글이 생성형 AI 툴박스를 공개하며 랭체인과의 협력 소식을 전합니다.\n",
      "\n",
      "5. **[주목해야 할 5대 기술 전망 “AI·랭체인·클라우드 전문가·SLM·데이터 전문가” - GTT KOREA](https://news.google.com/rss/articles/CBMiakFVX3lxTE5SRG5pSjVLS0ZfZGZHQjN4Yk5jX0VqLWFCWFpDajdSRzhWTXNMZndzV09NWnkwMmlpaVRZWU14SjljR3BxOTVfRUxuMmwtbmhCTHhSMDJsZjU5MUVxcGg3NUN4ZlJoSHU0Q3fSAW5BVV95cUxNRG9weC15VUx4ZERDYmFZOF9DRExwWlRxLUFXRFJPNEhrSGpLNExkNFJDMng1YVoyY3hVcm82VW0wVW9tc1lWVDN0RjFEVUQ0RGlHWGQ5WWluMUNwRzQyQ3pCZTIwS0wtRlpGVGVFZw?oc=5)**  \n",
      "   - AI, 랭체인, 클라우드 등 5대 기술 전망에 대한 기사를 다룹니다.\n",
      "\n",
      "이 뉴스들이 도움이 되길 바랍니다! 추가로 궁금한 점이 있으시면 말씀해 주세요.\n",
      "===== [output]  끝 =====\n",
      "===== [messages] 시작 =====\n",
      "메시지 타입: AIMessage\n",
      "내용 Message: 아래는 \"랭체인\"에 대한 최근 뉴스 5개입니다:\n",
      "\n",
      "1. **[랭체인 LangChain 이란 무엇인가? | 인사이트리포트 | 삼성SDS](https://news.google.com/rss/articles/CBMibkFVX3lxTE1qMC1EYjRZOEpMNVBEVVpSNm1BX3A4a3FrdmEyOTdDNWdjMGR1ZEgzWlpHZnRFZ1pSUXdKa3JnOXBQZU5qU3dKS3Q5VUNwLVZxRFZmbG1SZzJVSUoyM2lJbnZRbzhYYUJJcnFHWmp3?oc=5)**  \n",
      "   - 랭체인에 대한 기본적인 개념과 활용 방안에 대해 설명합니다.\n",
      "\n",
      "2. **[개발자를 위한 랭체인 기초 개념과 환경 설정법 - 요즘IT](https://news.google.com/rss/articles/CBMiWkFVX3lxTFBtcm1OMmpJOUxvdnlkd0M0dVFfaGhma3BrTDRaVEY2OXFwd2tfUTZHVkFNSkZJYkZLc0x2dzFWWDNldF9TaVhIU0NxSUxyMlpIRC1KNksyLWdNQQ?oc=5)**  \n",
      "   - 랭체인을 시작하는 개발자들을 위한 기초 개념과 환경 설정 방법을 다룹니다.\n",
      "\n",
      "3. **[20화 19. RAG(검색증강생성) 지원 - 브런치](https://news.google.com/rss/articles/CBMiRkFVX3lxTE04LVVxZF8wc09QVGxFWjRURWktdTdRNE5VYWYweVkteHdxaDRDbjY1OUpLeDUtbWxTVnRWT3gwTWVsSk5OUHc?oc=5)**  \n",
      "   - 랭체인에서의 검색 증강 생성(RAG) 지원에 대한 내용을 소개합니다.\n",
      "\n",
      "4. **[구글, 데이터베이스용 ‘생성형 AI 툴박스’ 공개 베타 발표 \"랭체인과 협력\" - CIO.com](https://news.google.com/rss/articles/CBMiwgJBVV95cUxPM0hHcjNGR0RiT0M2QlplRlcxdjdYZE5WTk9zZ2lGVEIxd05hdktEbmRNNTBnLWJ1NEl3LWRPVTNfdFIxX1VOUURxdHdrWTdHOG9LQ3BrOUtWWUl1T0ZianhSckt1NGNtelAweTQ1LXpQTC1DVG50ZUVOOFV1VldBSEZvN2toemJuR3hfQXVfTXBKLVhzWDZMQ25kc1JQM1VnYTRFOTVYSmRFQWJGYWItdTJkNTdXaXlpYzY2dHg0aWM5WVlBQkFRb0N6WGNSWWdVaXhiY1ZXUGJuZ0dpVWtielpJQlV4dFAyZzB6Q2Z0Y1V6SjVZRU5QS0hsRUN0N19EbUc4RXFpV090M2ZZVjZUbS03cC13bFk1M0xrTnJMeHJUOC10dkctbGpJYnFRVHZfVXlQMU5nNDRUbndmbkFiZWFR0gHCAkFVX3lxTE8zSEdyM0ZHRGJPQzZCWmVGVzF2N1hkTlZOT3NnaUZUQjF3TmF2S0RuZE01MGctYnU0SXctZE9VM190UjFfVU5RRHF0d2tZN0c4b0tDcGs5S1ZZSXVPRmJqeFJyS3U0Y216UDB5NDUtelBMLUNUbnRlRU44VXVWV0FIRm83a2h6Ym5HeF9BdV9NcEotWHNYNkxDbmRzUlAzVWdhNEU5NVhKZEVBYkZhYi11MmQ1N1dpeWljNjZ0eDRpYzlZWUFCQVFvQ3pYY1JZZ1VpeGJjVldQYm5nR2lVa2J6WklCVXh0UDJnMHpDZnRjVXpKNVlFTlBLSGxFQ3Q3X0RtRzhFcWlXT3QzZllWNlRtLTdwLXdsWTUzTGtOckx4clQ4LXR2Ry1saklicVFUdl9VeVAxTmc0NFRud2ZuQWJlYVE?oc=5)**  \n",
      "   - 구글이 생성형 AI 툴박스를 공개하며 랭체인과의 협력 소식을 전합니다.\n",
      "\n",
      "5. **[주목해야 할 5대 기술 전망 “AI·랭체인·클라우드 전문가·SLM·데이터 전문가” - GTT KOREA](https://news.google.com/rss/articles/CBMiakFVX3lxTE5SRG5pSjVLS0ZfZGZHQjN4Yk5jX0VqLWFCWFpDajdSRzhWTXNMZndzV09NWnkwMmlpaVRZWU14SjljR3BxOTVfRUxuMmwtbmhCTHhSMDJsZjU5MUVxcGg3NUN4ZlJoSHU0Q3fSAW5BVV95cUxNRG9weC15VUx4ZERDYmFZOF9DRExwWlRxLUFXRFJPNEhrSGpLNExkNFJDMng1YVoyY3hVcm82VW0wVW9tc1lWVDN0RjFEVUQ0RGlHWGQ5WWluMUNwRzQyQ3pCZTIwS0wtRlpGVGVFZw?oc=5)**  \n",
      "   - AI, 랭체인, 클라우드 등 5대 기술 전망에 대한 기사를 다룹니다.\n",
      "\n",
      "이 뉴스들이 도움이 되길 바랍니다! 추가로 궁금한 점이 있으시면 말씀해 주세요.\n",
      "===== [messages] 끝 =====\n"
     ]
    }
   ],
   "source": [
    "result = agent_with_chat_history.stream(\n",
    "    {'input': '좀전에 질문한 내용에 대해서 알려줘'}, \n",
    "    config={'configurable': {'session_id': 'abc123'}}\n",
    ")\n",
    "\n",
    "i = 1\n",
    "\n",
    "for step in result:\n",
    "    print('==' * 30)\n",
    "    # print(f'[step] ({i}) : \\n', step)\n",
    "    print(f\"[step] ({i}): \\n\")\n",
    "\n",
    "    if 'actions' in step:        \n",
    "        print(f'===== [actions] 시작 =====')\n",
    "        \n",
    "        for action in step['actions']:\n",
    "            print(f\"action type: {type(action)}\")\n",
    "            print(action)\n",
    "        print(f'===== [actions]  끝 =====')\n",
    "\n",
    "        print(f'===== [messages] 시작 =====')\n",
    "\n",
    "        for message in step['messages']:\n",
    "            print(f\"메시지 타입: {type(message).__name__}\")\n",
    "            print(f\"내용 Message: {message.content}\")\n",
    "\n",
    "            if hasattr(message, 'tool_calls'):\n",
    "                print('도구 호출 이름: ', message.tool_calls[0]['name'])\n",
    "                print('도구 호출 인자: ', message.tool_calls[0]['args'])\n",
    "                print('도구 호출 아이디: ', message.tool_calls[0]['id'])\n",
    "                print('도구 호출 타입: ', message.tool_calls[0]['type'])\n",
    "            else:\n",
    "                print('도구 호출 없음')\n",
    "        print(f'===== [messages] 끝 =====')\n",
    "    \n",
    "    elif 'steps' in step:        \n",
    "        print(f'===== [steps] 시작 =====')\n",
    "\n",
    "        for agent_step in step['steps']:\n",
    "            print(f\" 사용 도구 이름 agent_step.action.tool: {agent_step.action.tool}\")\n",
    "            print(f\" 입력 쿼리 agent_step.action.tool_input: {agent_step.action.tool_input}\")\n",
    "            print(f\" Log: {agent_step.action.log}\")\n",
    "            # print(f\"(4) Observation: {agent_step.observation}\")\n",
    "            print(f\" Observation: \\n\")\n",
    "\n",
    "            if len(agent_step.observation)>0:\n",
    "                for observation in agent_step.observation:\n",
    "                    print(observation)\n",
    "\n",
    "        print(f'===== [steps]  끝 =====')\n",
    "\n",
    "        print(f'===== [messages] 시작 =====')\n",
    "        for message in step['messages']:\n",
    "            print(f\"메시지 타입: {type(message).__name__}\")\n",
    "            print(f\"내용 Message: {message.content}\")\n",
    "\n",
    "            if hasattr(message, 'tool_calls'):\n",
    "                print('도구 호출 이름: ', message.tool_calls[0]['name'])\n",
    "                print('도구 호출 인자: ', message.tool_calls[0]['args'])\n",
    "                print('도구 호출 아이디: ', message.tool_calls[0]['id'])\n",
    "                print('도구 호출 타입: ', message.tool_calls[0]['type'])\n",
    "            else:\n",
    "                print('도구 호출 없음')\n",
    "        print(f'===== [messages] 끝 =====')\n",
    "\n",
    "    \n",
    "    elif 'output' in step:        \n",
    "        print(f'===== [output] 시작 =====')\n",
    "        print(f\"[output]: {step['output']}\")  \n",
    "        print(f'===== [output]  끝 =====')\n",
    "\n",
    "        print(f'===== [messages] 시작 =====')\n",
    "        for message in step['messages']:\n",
    "            print(f\"메시지 타입: {type(message).__name__}\")\n",
    "            print(f\"내용 Message: {message.content}\")\n",
    "        print(f'===== [messages] 끝 =====')\n",
    "\n",
    "    i=i+1"
   ]
  },
  {
   "cell_type": "code",
   "execution_count": null,
   "metadata": {},
   "outputs": [
    {
     "name": "stdout",
     "output_type": "stream",
     "text": [
      "============================================================\n",
      "[step] (1): \n",
      "\n",
      "===== [output] 시작 =====\n",
      "[output]: 아래는 윤정 대리님께 보내기 위해 작성한 이메일 내용입니다:\n",
      "\n",
      "---\n",
      "\n",
      "**수신인:** 윤정 대리님  \n",
      "**발신인:** 이인환\n",
      "\n",
      "안녕하세요, 윤정 대리님.\n",
      "\n",
      "최근 \"랭체인\"에 대한 흥미로운 뉴스들을 아래와 같이 정리해 보았습니다. 참고하시기 바랍니다.\n",
      "\n",
      "1. **[랭체인 LangChain 이란 무엇인가? | 인사이트리포트 | 삼성SDS](https://news.google.com/rss/articles/CBMibkFVX3lxTE1qMC1EYjRZOEpMNVBEVVpSNm1BX3A4a3FrdmEyOTdDNWdjMGR1ZEgzWlpHZnRFZ1pSUXdKa3JnOXBQZU5qU3dKS3Q5VUNwLVZxRFZmbG1SZzJVSUoyM2lJbnZRbzhYYUJJcnFHWmp3?oc=5)**  \n",
      "   - 랭체인에 대한 기본적인 개념과 활용 방안에 대해 설명합니다.\n",
      "\n",
      "2. **[개발자를 위한 랭체인 기초 개념과 환경 설정법 - 요즘IT](https://news.google.com/rss/articles/CBMiWkFVX3lxTFBtcm1OMmpJOUxvdnlkd0M0dVFfaGhma3BrTDRaVEY2OXFwd2tfUTZHVkFNSkZJYkZLc0x2dzFWWDNldF9TaVhIU0NxSUxyMlpIRC1KNksyLWdNQQ?oc=5)**  \n",
      "   - 랭체인을 시작하는 개발자들을 위한 기초 개념과 환경 설정 방법을 다룹니다.\n",
      "\n",
      "3. **[20화 19. RAG(검색증강생성) 지원 - 브런치](https://news.google.com/rss/articles/CBMiRkFVX3lxTE04LVVxZF8wc09QVGxFWjRURWktdTdRNE5VYWYweVkteHdxaDRDbjY1OUpLeDUtbWxTVnRWT3gwTWVsSk5OUHc?oc=5)**  \n",
      "   - 랭체인에서의 검색 증강 생성(RAG) 지원에 대한 내용을 소개합니다.\n",
      "\n",
      "4. **[구글, 데이터베이스용 ‘생성형 AI 툴박스’ 공개 베타 발표 \"랭체인과 협력\" - CIO.com](https://news.google.com/rss/articles/CBMiwgJBVV95cUxPM0hHcjNGR0RiT0M2QlplRlcxdjdYZE5WTk9zZ2lGVEIxd05hdktEbmRNNTBnLWJ1NEl3LWRPVTNfdFIxX1VOUURxdHdrWTdHOG9LQ3BrOUtWWUl1T0ZianhSckt1NGNtelAweTQ1LXpQTC1DVG50ZUVOOFV1VldBSEZvN2toemJuR3hfQXVfTXBKLVhzWDZMQ25kc1JQM1VnYTRFOTVYSmRFQWJGYWItdTJkNTdXaXlpYzY2dHg0aWM5WVlBQkFRb0N6WGNSWWdVaXhiY1ZXUGJuZ0dpVWtielpJQlV4dFAyZzB6Q2Z0Y1V6SjVZRU5QS0hsRUN0N19EbUc4RXFpV090M2ZZVjZUbS03cC13bFk1M0xrTnJMeHJUOC10dkctbGpJYnFRVHZfVXlQMU5nNDRUbndmbkFiZWFR0gHCAkFVX3lxTE8zSEdyM0ZHRGJPQzZCWmVGVzF2N1hkTlZOT3NnaUZUQjF3TmF2S0RuZE01MGctYnU0SXctZE9VM190UjFfVU5RRHF0d2tZN0c4b0tDcGs5S1ZZSXVPRmJqeFJyS3U0Y216UDB5NDUtelBMLUNUbnRlRU44VXVWV0FIRm83a2h6Ym5HeF9BdV9NcEotWHNYNkxDbmRzUlAzVWdhNEU5NVhKZEVBYkZhYi11MmQ1N1dpeWljNjZ0eDRpYzlZWUFCQVFvQ3pYY1JZZ1VpeGJjVldQYm5nR2lVa2J6WklCVXh0UDJnMHpDZnRjVXpKNVlFTlBLSGxFQ3Q3X0RtRzhFcWlXT3QzZllWNlRtLTdwLXdsWTUzTGtOckx4clQ4LXR2Ry1saklicVFUdl9VeVAxTmc0NFRud2ZuQWJlYVE?oc=5)**  \n",
      "   - 구글이 생성형 AI 툴박스를 공개하며 랭체인과의 협력 소식을 전합니다.\n",
      "\n",
      "5. **[주목해야 할 5대 기술 전망 “AI·랭체인·클라우드 전문가·SLM·데이터 전문가” - GTT KOREA](https://news.google.com/rss/articles/CBMiakFVX3lxTE5SRG5pSjVLS0ZfZGZHQjN4Yk5jX0VqLWFCWFpDajdSRzhWTXNMZndzV09NWnkwMmlpaVRZWU14SjljR3BxOTVfRUxuMmwtbmhCTHhSMDJsZjU5MUVxcGg3NUN4ZlJoSHU0Q3fSAW5BVV95cUxNRG9weC15VUx4ZERDYmFZOF9DRExwWlRxLUFXRFJPNEhrSGpLNExkNFJDMng1YVoyY3hVcm82VW0wVW9tc1lWVDN0RjFEVUQ0RGlHWGQ5WWluMUNwRzQyQ3pCZTIwS0wtRlpGVGVFZw?oc=5)**  \n",
      "   - AI, 랭체인, 클라우드 등 5대 기술 전망에 대한 기사를 다룹니다.\n",
      "\n",
      "이 정보가 도움이 되길 바랍니다. 추가로 궁금한 점이 있으시면 언제든지 말씀해 주세요.\n",
      "\n",
      "감사합니다.\n",
      "\n",
      "이인환 드림\n",
      "\n",
      "---\n",
      "\n",
      "이메일 내용이 필요하신 대로 작성되었는지 확인해 주세요! 수정이 필요하시면 말씀해 주세요.\n",
      "===== [output]  끝 =====\n",
      "===== [messages] 시작 =====\n",
      "메시지 타입: AIMessage\n",
      "내용 Message: 아래는 윤정 대리님께 보내기 위해 작성한 이메일 내용입니다:\n",
      "\n",
      "---\n",
      "\n",
      "**수신인:** 윤정 대리님  \n",
      "**발신인:** 이인환\n",
      "\n",
      "안녕하세요, 윤정 대리님.\n",
      "\n",
      "최근 \"랭체인\"에 대한 흥미로운 뉴스들을 아래와 같이 정리해 보았습니다. 참고하시기 바랍니다.\n",
      "\n",
      "1. **[랭체인 LangChain 이란 무엇인가? | 인사이트리포트 | 삼성SDS](https://news.google.com/rss/articles/CBMibkFVX3lxTE1qMC1EYjRZOEpMNVBEVVpSNm1BX3A4a3FrdmEyOTdDNWdjMGR1ZEgzWlpHZnRFZ1pSUXdKa3JnOXBQZU5qU3dKS3Q5VUNwLVZxRFZmbG1SZzJVSUoyM2lJbnZRbzhYYUJJcnFHWmp3?oc=5)**  \n",
      "   - 랭체인에 대한 기본적인 개념과 활용 방안에 대해 설명합니다.\n",
      "\n",
      "2. **[개발자를 위한 랭체인 기초 개념과 환경 설정법 - 요즘IT](https://news.google.com/rss/articles/CBMiWkFVX3lxTFBtcm1OMmpJOUxvdnlkd0M0dVFfaGhma3BrTDRaVEY2OXFwd2tfUTZHVkFNSkZJYkZLc0x2dzFWWDNldF9TaVhIU0NxSUxyMlpIRC1KNksyLWdNQQ?oc=5)**  \n",
      "   - 랭체인을 시작하는 개발자들을 위한 기초 개념과 환경 설정 방법을 다룹니다.\n",
      "\n",
      "3. **[20화 19. RAG(검색증강생성) 지원 - 브런치](https://news.google.com/rss/articles/CBMiRkFVX3lxTE04LVVxZF8wc09QVGxFWjRURWktdTdRNE5VYWYweVkteHdxaDRDbjY1OUpLeDUtbWxTVnRWT3gwTWVsSk5OUHc?oc=5)**  \n",
      "   - 랭체인에서의 검색 증강 생성(RAG) 지원에 대한 내용을 소개합니다.\n",
      "\n",
      "4. **[구글, 데이터베이스용 ‘생성형 AI 툴박스’ 공개 베타 발표 \"랭체인과 협력\" - CIO.com](https://news.google.com/rss/articles/CBMiwgJBVV95cUxPM0hHcjNGR0RiT0M2QlplRlcxdjdYZE5WTk9zZ2lGVEIxd05hdktEbmRNNTBnLWJ1NEl3LWRPVTNfdFIxX1VOUURxdHdrWTdHOG9LQ3BrOUtWWUl1T0ZianhSckt1NGNtelAweTQ1LXpQTC1DVG50ZUVOOFV1VldBSEZvN2toemJuR3hfQXVfTXBKLVhzWDZMQ25kc1JQM1VnYTRFOTVYSmRFQWJGYWItdTJkNTdXaXlpYzY2dHg0aWM5WVlBQkFRb0N6WGNSWWdVaXhiY1ZXUGJuZ0dpVWtielpJQlV4dFAyZzB6Q2Z0Y1V6SjVZRU5QS0hsRUN0N19EbUc4RXFpV090M2ZZVjZUbS03cC13bFk1M0xrTnJMeHJUOC10dkctbGpJYnFRVHZfVXlQMU5nNDRUbndmbkFiZWFR0gHCAkFVX3lxTE8zSEdyM0ZHRGJPQzZCWmVGVzF2N1hkTlZOT3NnaUZUQjF3TmF2S0RuZE01MGctYnU0SXctZE9VM190UjFfVU5RRHF0d2tZN0c4b0tDcGs5S1ZZSXVPRmJqeFJyS3U0Y216UDB5NDUtelBMLUNUbnRlRU44VXVWV0FIRm83a2h6Ym5HeF9BdV9NcEotWHNYNkxDbmRzUlAzVWdhNEU5NVhKZEVBYkZhYi11MmQ1N1dpeWljNjZ0eDRpYzlZWUFCQVFvQ3pYY1JZZ1VpeGJjVldQYm5nR2lVa2J6WklCVXh0UDJnMHpDZnRjVXpKNVlFTlBLSGxFQ3Q3X0RtRzhFcWlXT3QzZllWNlRtLTdwLXdsWTUzTGtOckx4clQ4LXR2Ry1saklicVFUdl9VeVAxTmc0NFRud2ZuQWJlYVE?oc=5)**  \n",
      "   - 구글이 생성형 AI 툴박스를 공개하며 랭체인과의 협력 소식을 전합니다.\n",
      "\n",
      "5. **[주목해야 할 5대 기술 전망 “AI·랭체인·클라우드 전문가·SLM·데이터 전문가” - GTT KOREA](https://news.google.com/rss/articles/CBMiakFVX3lxTE5SRG5pSjVLS0ZfZGZHQjN4Yk5jX0VqLWFCWFpDajdSRzhWTXNMZndzV09NWnkwMmlpaVRZWU14SjljR3BxOTVfRUxuMmwtbmhCTHhSMDJsZjU5MUVxcGg3NUN4ZlJoSHU0Q3fSAW5BVV95cUxNRG9weC15VUx4ZERDYmFZOF9DRExwWlRxLUFXRFJPNEhrSGpLNExkNFJDMng1YVoyY3hVcm82VW0wVW9tc1lWVDN0RjFEVUQ0RGlHWGQ5WWluMUNwRzQyQ3pCZTIwS0wtRlpGVGVFZw?oc=5)**  \n",
      "   - AI, 랭체인, 클라우드 등 5대 기술 전망에 대한 기사를 다룹니다.\n",
      "\n",
      "이 정보가 도움이 되길 바랍니다. 추가로 궁금한 점이 있으시면 언제든지 말씀해 주세요.\n",
      "\n",
      "감사합니다.\n",
      "\n",
      "이인환 드림\n",
      "\n",
      "---\n",
      "\n",
      "이메일 내용이 필요하신 대로 작성되었는지 확인해 주세요! 수정이 필요하시면 말씀해 주세요.\n",
      "===== [messages] 끝 =====\n"
     ]
    }
   ],
   "source": [
    "result = agent_with_chat_history.stream(\n",
    "    {'input': '윤정 대리님께 보내기 위해 작성한 이메일 내용을 알려줘'}, \n",
    "    config={'configurable': {'session_id': 'abc123'}}\n",
    ")\n",
    "\n",
    "i = 1\n",
    "\n",
    "for step in result:\n",
    "    print('==' * 30)\n",
    "    # print(f'[step] ({i}) : \\n', step)\n",
    "    print(f\"[step] ({i}): \\n\")\n",
    "\n",
    "    if 'actions' in step:        \n",
    "        print(f'===== [actions] 시작 =====')\n",
    "        \n",
    "        for action in step['actions']:\n",
    "            print(f\"action type: {type(action)}\")\n",
    "            print(action)\n",
    "        print(f'===== [actions]  끝 =====')\n",
    "\n",
    "        print(f'===== [messages] 시작 =====')\n",
    "\n",
    "        for message in step['messages']:\n",
    "            print(f\"메시지 타입: {type(message).__name__}\")\n",
    "            print(f\"내용 Message: {message.content}\")\n",
    "\n",
    "            if hasattr(message, 'tool_calls'):\n",
    "                print('도구 호출 이름: ', message.tool_calls[0]['name'])\n",
    "                print('도구 호출 인자: ', message.tool_calls[0]['args'])\n",
    "                print('도구 호출 아이디: ', message.tool_calls[0]['id'])\n",
    "                print('도구 호출 타입: ', message.tool_calls[0]['type'])\n",
    "            else:\n",
    "                print('도구 호출 없음')\n",
    "        print(f'===== [messages] 끝 =====')\n",
    "    \n",
    "    elif 'steps' in step:        \n",
    "        print(f'===== [steps] 시작 =====')\n",
    "\n",
    "        for agent_step in step['steps']:\n",
    "            print(f\" 사용 도구 이름 agent_step.action.tool: {agent_step.action.tool}\")\n",
    "            print(f\" 입력 쿼리 agent_step.action.tool_input: {agent_step.action.tool_input}\")\n",
    "            print(f\" Log: {agent_step.action.log}\")\n",
    "            # print(f\"(4) Observation: {agent_step.observation}\")\n",
    "            print(f\" Observation: \\n\")\n",
    "\n",
    "            if len(agent_step.observation)>0:\n",
    "                for observation in agent_step.observation:\n",
    "                    print(observation)\n",
    "\n",
    "        print(f'===== [steps]  끝 =====')\n",
    "\n",
    "        print(f'===== [messages] 시작 =====')\n",
    "        for message in step['messages']:\n",
    "            print(f\"메시지 타입: {type(message).__name__}\")\n",
    "            print(f\"내용 Message: {message.content}\")\n",
    "\n",
    "            if hasattr(message, 'tool_calls'):\n",
    "                print('도구 호출 이름: ', message.tool_calls[0]['name'])\n",
    "                print('도구 호출 인자: ', message.tool_calls[0]['args'])\n",
    "                print('도구 호출 아이디: ', message.tool_calls[0]['id'])\n",
    "                print('도구 호출 타입: ', message.tool_calls[0]['type'])\n",
    "            else:\n",
    "                print('도구 호출 없음')\n",
    "        print(f'===== [messages] 끝 =====')\n",
    "\n",
    "    \n",
    "    elif 'output' in step:        \n",
    "        print(f'===== [output] 시작 =====')\n",
    "        print(f\"[output]: {step['output']}\")  \n",
    "        print(f'===== [output]  끝 =====')\n",
    "\n",
    "        print(f'===== [messages] 시작 =====')\n",
    "        for message in step['messages']:\n",
    "            print(f\"메시지 타입: {type(message).__name__}\")\n",
    "            print(f\"내용 Message: {message.content}\")\n",
    "        print(f'===== [messages] 끝 =====')\n",
    "\n",
    "    i=i+1"
   ]
  }
 ],
 "metadata": {
  "kernelspec": {
   "display_name": "venv",
   "language": "python",
   "name": "python3"
  },
  "language_info": {
   "codemirror_mode": {
    "name": "ipython",
    "version": 3
   },
   "file_extension": ".py",
   "mimetype": "text/x-python",
   "name": "python",
   "nbconvert_exporter": "python",
   "pygments_lexer": "ipython3",
   "version": "3.11.9"
  }
 },
 "nbformat": 4,
 "nbformat_minor": 2
}
