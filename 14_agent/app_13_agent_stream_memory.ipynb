{
 "cells": [
  {
   "cell_type": "code",
   "execution_count": 137,
   "metadata": {},
   "outputs": [],
   "source": [
    "from dotenv import load_dotenv\n",
    "import os\n",
    "\n",
    "load_dotenv(verbose=True)\n",
    "key = os.getenv('OPENAI_API_KEY')"
   ]
  },
  {
   "cell_type": "markdown",
   "metadata": {},
   "source": [
    "### 대화 내용을 기록하는 Agent\n",
    "\n",
    "- `RunnableWithMessageHistory` 를 사용하여 인자로 `AgentExecutor` 를 넣어줍니다."
   ]
  },
  {
   "cell_type": "code",
   "execution_count": 138,
   "metadata": {},
   "outputs": [],
   "source": [
    "from langchain.agents import tool\n",
    "from typing import List, Dict, Annotated"
   ]
  },
  {
   "cell_type": "code",
   "execution_count": 139,
   "metadata": {},
   "outputs": [],
   "source": [
    "from langchain_teddynote.tools import GoogleNews\n",
    "from langchain_experimental.utilities import PythonREPL"
   ]
  },
  {
   "cell_type": "code",
   "execution_count": 140,
   "metadata": {},
   "outputs": [],
   "source": [
    "from langchain_openai import ChatOpenAI\n",
    "from langchain_core.prompts import ChatPromptTemplate, MessagesPlaceholder\n",
    "from langchain.agents import create_tool_calling_agent\n",
    "from langchain.agents import AgentExecutor"
   ]
  },
  {
   "cell_type": "code",
   "execution_count": 141,
   "metadata": {},
   "outputs": [],
   "source": [
    "from bs4 import BeautifulSoup\n",
    "import requests\n",
    "import re"
   ]
  },
  {
   "cell_type": "code",
   "execution_count": 142,
   "metadata": {},
   "outputs": [],
   "source": [
    "from langchain_teddynote.messages import AgentStreamParser\n",
    "from langchain_teddynote.messages import AgentCallbacks\n",
    "from langchain_community.chat_message_histories import ChatMessageHistory\n",
    "from langchain_core.runnables.history import RunnableWithMessageHistory"
   ]
  },
  {
   "cell_type": "markdown",
   "metadata": {},
   "source": [
    "### 도구 정의"
   ]
  },
  {
   "cell_type": "code",
   "execution_count": 143,
   "metadata": {},
   "outputs": [],
   "source": [
    "@tool\n",
    "def search_keyword(query: str) -> List[Dict[str, str]]:\n",
    "    \"\"\"Look up news by keyword\"\"\"\n",
    "\n",
    "    print(f'검색어: {query}')\n",
    "\n",
    "    news_tool = GoogleNews()\n",
    "\n",
    "    return news_tool.search_by_keyword(query, k=5)"
   ]
  },
  {
   "cell_type": "code",
   "execution_count": 144,
   "metadata": {},
   "outputs": [],
   "source": [
    "@tool\n",
    "def python_repl_tool(\n",
    "    code: Annotated[str, \"The python code to execute to generate your chart.\"],\n",
    "):\n",
    "    \"\"\"Use this to execute python code. If you want to see the output of a value,\n",
    "    you should print it out with `print(...)`. This is visible to the user.\"\"\"\n",
    "    result = \"\"\n",
    "    try:\n",
    "        result = PythonREPL().run(code)\n",
    "    except BaseException as e:\n",
    "        print(f\"Failed to execute. Error: {repr(e)}\")\n",
    "    finally:\n",
    "        return result"
   ]
  },
  {
   "cell_type": "code",
   "execution_count": 145,
   "metadata": {},
   "outputs": [],
   "source": [
    "@tool\n",
    "def naver_news_crawl(news_url: str) -> str:                 # 네이버 뉴스기사를 크롤링하여 본문 내용을 리턴하는 도구\n",
    "    \"\"\"Crawls a 네이버(naver.com) news article and returns the body content.\"\"\"\n",
    "\n",
    "    response = requests.get(news_url)                       # HTTP GET 요청\n",
    "\n",
    "    if response.status_code == 200:                         # 응답 200. 성공\n",
    "        soup = BeautifulSoup(response.text, 'html.parser')\n",
    "\n",
    "        title = soup.find('h2', id='title_area').get_text()\n",
    "        content = soup.find('div', id='contents').get_text()    \n",
    "        \n",
    "        cleaned_title = re.sub(r'\\n{2, }', '\\n', title)\n",
    "        cleaned_content = re.sub(r'\\n{2, }', '\\n', content)\n",
    "    else:\n",
    "        print(f'HTTP 요청 실패. {response.status_code}')\n",
    "    \n",
    "    return f'{cleaned_title}\\n{cleaned_content}'"
   ]
  },
  {
   "cell_type": "markdown",
   "metadata": {},
   "source": [
    "### Agent 프롬프트 작성"
   ]
  },
  {
   "cell_type": "code",
   "execution_count": 146,
   "metadata": {},
   "outputs": [],
   "source": [
    "# 프롬프트는 에이전트에게 모델이 수행할 작업을 설명하는 텍스트를 제공합니다. (도구의 이름과 역할을 입력)\n",
    "prompt = ChatPromptTemplate.from_messages(\n",
    "    [\n",
    "        (                                           \n",
    "            \"system\",\n",
    "            \"You are a helpful assistant. \"             \n",
    "            \"Make sure to use the `search_news` tool for searching keyword related news.\"\n",
    "            \"Be sure to use the 'python_repl_tool' tool when make python code.\"\n",
    "            \"Be sure to use the 'naver_news_crawl' tool when naver news crawlling.\"\n",
    "        ),\n",
    "        (\"placeholder\", \"{chat_history}\"),          # 이전 대화 내용을 넣을 곳을 잡아둔다.\n",
    "        (\"human\", \"{input}\"),                       # 사용자 입력\n",
    "\n",
    "        # 에이전트가 검색하는 과정들이나 내용 등을 끄적이는 메모장 같은 공간을 플레이스 홀더로 만들어준다\n",
    "        (\"placeholder\", \"{agent_scratchpad}\"),       \n",
    "    ]\n",
    ")"
   ]
  },
  {
   "cell_type": "code",
   "execution_count": 147,
   "metadata": {},
   "outputs": [],
   "source": [
    "tools = [search_keyword, python_repl_tool, naver_news_crawl]"
   ]
  },
  {
   "cell_type": "markdown",
   "metadata": {},
   "source": [
    "### Agent 생성"
   ]
  },
  {
   "cell_type": "code",
   "execution_count": 148,
   "metadata": {},
   "outputs": [],
   "source": [
    "llm = ChatOpenAI(\n",
    "    api_key=key, \n",
    "    model='gpt-4o-mini', \n",
    "    temperature=0\n",
    ")\n",
    "\n",
    "agent = create_tool_calling_agent(llm, tools, prompt)"
   ]
  },
  {
   "cell_type": "markdown",
   "metadata": {},
   "source": [
    "### AgentExecutor"
   ]
  },
  {
   "cell_type": "code",
   "execution_count": 149,
   "metadata": {},
   "outputs": [],
   "source": [
    "agent_executor = AgentExecutor(\n",
    "    agent=agent,                    # 각 단계에서 계획을 생성하고 행동을 결정하는 agent\n",
    "    tools=tools,                    # agent 가 사용할 수 있는 도구 목록\n",
    "    verbose=True,\n",
    "    max_iterations=10,              # 최대 10번 까지 반복\n",
    "    max_execution_time=10,          # 실행되는데 소요되는 최대 시간\n",
    "    handle_parsing_errors=True      \n",
    ")"
   ]
  },
  {
   "cell_type": "markdown",
   "metadata": {},
   "source": [
    "### 중간 단계를 출력하는 사용자 정의 함수 정의"
   ]
  },
  {
   "cell_type": "code",
   "execution_count": 150,
   "metadata": {},
   "outputs": [],
   "source": [
    "def tool_callback(tool) -> None:\n",
    "    print(f'===== 도구 호출 =====')\n",
    "    print(f\"사용된 도구 이름 : {tool.get('tool')}\")\n",
    "    print(f'===== 도구 호출 =====')"
   ]
  },
  {
   "cell_type": "code",
   "execution_count": 151,
   "metadata": {},
   "outputs": [],
   "source": [
    "def obervation_callback(observation) -> None:\n",
    "    print(f'===== 관찰 내용 =====')\n",
    "    print(f\"Observation : {observation.get('observation')[0]}\")\n",
    "    print(f'===== 관찰 내용 =====')"
   ]
  },
  {
   "cell_type": "code",
   "execution_count": 152,
   "metadata": {},
   "outputs": [],
   "source": [
    "def result_callback(result: str) -> None:\n",
    "    print(f'===== 최종 답변 =====')\n",
    "    print(result)\n",
    "    print(f'===== 최종 답변 =====')"
   ]
  },
  {
   "cell_type": "code",
   "execution_count": 153,
   "metadata": {},
   "outputs": [],
   "source": [
    "agent_callbacks = AgentCallbacks(\n",
    "    tool_callback=tool_callback, \n",
    "    observation_callback=obervation_callback, \n",
    "    result_callback=result_callback\n",
    ")"
   ]
  },
  {
   "cell_type": "markdown",
   "metadata": {},
   "source": [
    "### AgentStreamParser"
   ]
  },
  {
   "cell_type": "code",
   "execution_count": 154,
   "metadata": {},
   "outputs": [],
   "source": [
    "agent_stream_parser = AgentStreamParser(agent_callbacks)"
   ]
  },
  {
   "cell_type": "code",
   "execution_count": 155,
   "metadata": {},
   "outputs": [],
   "source": [
    "store = {}"
   ]
  },
  {
   "cell_type": "code",
   "execution_count": 156,
   "metadata": {},
   "outputs": [],
   "source": [
    "def get_session_history(session_ids):   # session_id 를 기반으로 세션 기록을 가져오는 함수    \n",
    "    if session_ids not in store:        # session_id 가 store에 없는 경우        \n",
    "        store[session_ids] = ChatMessageHistory()   # 새로운 ChatMessageHistory 객체를 딕셔너리에 저장\n",
    "    \n",
    "    return store[session_ids]           # 해당 세션 ID에 대한 세션 기록 리턴"
   ]
  },
  {
   "cell_type": "code",
   "execution_count": 157,
   "metadata": {},
   "outputs": [],
   "source": [
    "agent_with_chat_history = RunnableWithMessageHistory(\n",
    "    agent_executor,\n",
    "    get_session_history,                                    # session_id 를 기반으로 세션 기록을 가져오는 함수\n",
    "    input_messages_key='input',                             # 프롬프트의 질문으로 들어가는 key: input\n",
    "    history_messages_key='chat_history'                     # 프롬프트의 대화 기록이 들어가는 key: chat_history\n",
    ")"
   ]
  },
  {
   "cell_type": "code",
   "execution_count": 158,
   "metadata": {},
   "outputs": [],
   "source": [
    "response = agent_with_chat_history.stream(\n",
    "    {'input': '안녕? 내 이름은 이인환이야.'}, \n",
    "    config={'configurable': {'session_id': 'abc123'}}\n",
    ")"
   ]
  },
  {
   "cell_type": "code",
   "execution_count": 159,
   "metadata": {},
   "outputs": [
    {
     "name": "stdout",
     "output_type": "stream",
     "text": [
      "\n",
      "\n",
      "\u001b[1m> Entering new None chain...\u001b[0m\n",
      "\u001b[32;1m\u001b[1;3m안녕하세요, 이인환님! 어떻게 도와드릴까요?\u001b[0m\n",
      "\n",
      "\u001b[1m> Finished chain.\u001b[0m\n",
      "===== 최종 답변 =====\n",
      "안녕하세요, 이인환님! 어떻게 도와드릴까요?\n",
      "===== 최종 답변 =====\n"
     ]
    }
   ],
   "source": [
    "for step in response:\n",
    "    agent_stream_parser.process_agent_steps(step)"
   ]
  },
  {
   "cell_type": "code",
   "execution_count": 160,
   "metadata": {},
   "outputs": [],
   "source": [
    "response = agent_with_chat_history.stream(\n",
    "    {'input': '내 이름이 뭐라고?'}, \n",
    "    config={'configurable': {'session_id': 'abc123'}}\n",
    ")"
   ]
  },
  {
   "cell_type": "code",
   "execution_count": 161,
   "metadata": {},
   "outputs": [],
   "source": [
    "response = agent_with_chat_history.stream(\n",
    "    {'input': '나는 소프트웨어놀이터 라는 회사에 코딩강의 및 연구 개발을 하고있어'}, \n",
    "    config={'configurable': {'session_id': 'abc123'}}\n",
    ")"
   ]
  },
  {
   "cell_type": "code",
   "execution_count": 162,
   "metadata": {},
   "outputs": [
    {
     "name": "stdout",
     "output_type": "stream",
     "text": [
      "\n",
      "\n",
      "\u001b[1m> Entering new None chain...\u001b[0m\n",
      "\u001b[32;1m\u001b[1;3m소프트웨어놀이터에서 코딩 강의와 연구 개발을 하고 계시군요! 정말 흥미로운 일입니다. 어떤 주제에 대해 강의하시거나 연구하고 계신가요?\u001b[0m\n",
      "\n",
      "\u001b[1m> Finished chain.\u001b[0m\n",
      "===== 최종 답변 =====\n",
      "소프트웨어놀이터에서 코딩 강의와 연구 개발을 하고 계시군요! 정말 흥미로운 일입니다. 어떤 주제에 대해 강의하시거나 연구하고 계신가요?\n",
      "===== 최종 답변 =====\n"
     ]
    }
   ],
   "source": [
    "for step in response:\n",
    "    agent_stream_parser.process_agent_steps(step)"
   ]
  },
  {
   "cell_type": "code",
   "execution_count": 163,
   "metadata": {},
   "outputs": [],
   "source": [
    "response = agent_with_chat_history.stream(\n",
    "    {\n",
    "        'input': '랭체인에 대한 뉴스 5개를 검색해서 이메일 본문으로 작성해줘.'\n",
    "        '수신인에는 `윤정 대리님` 그리고, 발신인에는 내 인적정보를 적어줘.'\n",
    "        '정중한 어조로 작성하고, 메일의 시작과 끝에는 적절한 인사말과 맺음말을 적어줘.'\n",
    "    }, \n",
    "    config={'configurable': {'session_id': 'abc123'}}\n",
    ")"
   ]
  },
  {
   "cell_type": "code",
   "execution_count": 164,
   "metadata": {},
   "outputs": [
    {
     "name": "stdout",
     "output_type": "stream",
     "text": [
      "\n",
      "\n",
      "\u001b[1m> Entering new None chain...\u001b[0m\n",
      "===== 도구 호출 =====\n",
      "사용된 도구 이름 : search_keyword\n",
      "===== 도구 호출 =====\n",
      "\u001b[32;1m\u001b[1;3m\n",
      "Invoking: `search_keyword` with `{'query': '랭체인'}`\n",
      "\n",
      "\n",
      "\u001b[0m검색어: 랭체인\n",
      "\u001b[36;1m\u001b[1;3m[{'url': 'https://news.google.com/rss/articles/CBMiWkFVX3lxTFBtcm1OMmpJOUxvdnlkd0M0dVFfaGhma3BrTDRaVEY2OXFwd2tfUTZHVkFNSkZJYkZLc0x2dzFWWDNldF9TaVhIU0NxSUxyMlpIRC1KNksyLWdNQQ?oc=5', 'content': '개발자를 위한 랭체인 기초 개념과 환경 설정법 - 요즘IT'}, {'url': 'https://news.google.com/rss/articles/CBMibkFVX3lxTE1qMC1EYjRZOEpMNVBEVVpSNm1BX3A4a3FrdmEyOTdDNWdjMGR1ZEgzWlpHZnRFZ1pSUXdKa3JnOXBQZU5qU3dKS3Q5VUNwLVZxRFZmbG1SZzJVSUoyM2lJbnZRbzhYYUJJcnFHWmp3?oc=5', 'content': '랭체인 LangChain 이란 무엇인가? | 인사이트리포트 | 삼성SDS - Samsung SDS'}, {'url': 'https://news.google.com/rss/articles/CBMiRkFVX3lxTE1JSVJ3QkJSODJJeFcwVzJCZXJIcUdsTjg4WWd2dzZkY3Y2dmZuX1g1bEJfX3d4LTRPam1CWXM5bjk5R0xxTmc?oc=5', 'content': '책7- OpenAI API, 랭체인 완벽 활용법 - 브런치'}, {'url': 'https://news.google.com/rss/articles/CBMiakFVX3lxTE5SRG5pSjVLS0ZfZGZHQjN4Yk5jX0VqLWFCWFpDajdSRzhWTXNMZndzV09NWnkwMmlpaVRZWU14SjljR3BxOTVfRUxuMmwtbmhCTHhSMDJsZjU5MUVxcGg3NUN4ZlJoSHU0Q3fSAW5BVV95cUxNRG9weC15VUx4ZERDYmFZOF9DRExwWlRxLUFXRFJPNEhrSGpLNExkNFJDMng1YVoyY3hVcm82VW0wVW9tc1lWVDN0RjFEVUQ0RGlHWGQ5WWluMUNwRzQyQ3pCZTIwS0wtRlpGVGVFZw?oc=5', 'content': '주목해야 할 5대 기술 전망 “AI·랭체인·클라우드 전문가·SLM·데이터 전문가” - GTT KOREA'}, {'url': 'https://news.google.com/rss/articles/CBMilgFBVV95cUxNSU1sWjc2anZORGZoY3RRcDVhckhyMlFjdWJETmVJYndGVmRfRllCUEZ4THo2UFpCVWRDdTNiWlVJemU4QW5mM2dPYWxhTmNPRHJwNG51dWp2QkFOUk1NbzNWTmlJcjVZSktRZUg2TFQyOVdoaWwzS3dNYlJxTm9rQjFIQkpScU9wT09pU0FZRmlLVGUzeEE?oc=5', 'content': '[무료다운로드] 랭체인 아키텍처 및 동작 메커니즘 분석 - 캐드앤그래픽스'}]\u001b[0m===== 관찰 내용 =====\n",
      "Observation : {'url': 'https://news.google.com/rss/articles/CBMiWkFVX3lxTFBtcm1OMmpJOUxvdnlkd0M0dVFfaGhma3BrTDRaVEY2OXFwd2tfUTZHVkFNSkZJYkZLc0x2dzFWWDNldF9TaVhIU0NxSUxyMlpIRC1KNksyLWdNQQ?oc=5', 'content': '개발자를 위한 랭체인 기초 개념과 환경 설정법 - 요즘IT'}\n",
      "===== 관찰 내용 =====\n",
      "\u001b[32;1m\u001b[1;3m아래는 랭체인에 대한 최근 뉴스 5개를 정리한 이메일 본문입니다.\n",
      "\n",
      "---\n",
      "\n",
      "**수신인:** 윤정 대리님  \n",
      "**발신인:** 이인환\n",
      "\n",
      "---\n",
      "\n",
      "안녕하세요, 윤정 대리님.\n",
      "\n",
      "최근 랭체인에 대한 흥미로운 뉴스들을 찾아보았습니다. 아래에 관련된 기사들을 정리해 드립니다.\n",
      "\n",
      "1. [개발자를 위한 랭체인 기초 개념과 환경 설정법 - 요즘IT](https://news.google.com/rss/articles/CBMiWkFVX3lxTFBtcm1OMmpJOUxvdnlkd0M0dVFfaGhma3BrTDRaVEY2OXFwd2tfUTZHVkFNSkZJYkZLc0x2dzFWWDNldF9TaVhIU0NxSUxyMlpIRC1KNksyLWdNQQ?oc=5)\n",
      "   \n",
      "2. [랭체인 LangChain 이란 무엇인가? | 인사이트리포트 | 삼성SDS - Samsung SDS](https://news.google.com/rss/articles/CBMibkFVX3lxTE1qMC1EYjRZOEpMNVBEVVpSNm1BX3A4a3FrdmEyOTdDNWdjMGR1ZEgzWlpHZnRFZ1pSUXdKa3JnOXBQZU5qU3dKS3Q5VUNwLVZxRFZmbG1SZzJVSUoyM2lJbnZRbzhYYUJJcnFHWmp3?oc=5)\n",
      "\n",
      "3. [책7- OpenAI API, 랭체인 완벽 활용법 - 브런치](https://news.google.com/rss/articles/CBMiRkFVX3lxTE1JSVJ3QkJSODJJeFcwVzJCZXJIcUdsTjg4WWd2dzZkY3Y2dmZuX1g1bEJfX3d4LTRPam1CWXM5bjk5R0xxTmc?oc=5)\n",
      "\n",
      "4. [주목해야 할 5대 기술 전망 “AI·랭체인·클라우드 전문가·SLM·데이터 전문가” - GTT KOREA](https://news.google.com/rss/articles/CBMiakFVX3lxTE5SRG5pSjVLS0ZfZGZHQjN4Yk5jX0VqLWFCWFpDajdSRzhWTXNMZndzV09NWnkwMmlpaVRZWU14SjljR3BxOTVfRUxuMmwtbmhCTHhSMDJsZjU5MUVxcGg3NUN4ZlJoSHU0Q3fSAW5BVV95cUxNRG9weC15VUx4ZERDYmFZOF9DRExwWlRxLUFXRFJPNEhrSGpLNExkNFJDMng1YVoyY3hVcm82VW0wVW9tc1lWVDN0RjFEVUQ0RGlHWGQ5WWluMUNwRzQyQ3pCZTIwS0wtRlpGVGVFZw?oc=5)\n",
      "\n",
      "5. [무료다운로드] 랭체인 아키텍처 및 동작 메커니즘 분석 - 캐드앤그래픽스](https://news.google.com/rss/articles/CBMilgFBVV95cUxNSU1sWjc2anZORGZoY3RRcDVhckhyMlFjdWJETmVJYndGVmRfRllCUEZ4THo2UFpCVWRDdTNiWlVJemU4QW5mM2dPYWxhTmNPRHJwNG51dWp2QkFOUk1NbzNWTmlJcjVZSktRZUg2TFQyOVdoaWwzS3dNYlJxTm9rQjFIQkpScU9wT09pU0FZRmlLVGUzeEE?oc=5)\n",
      "\n",
      "이 기사가 랭체인에 대한 이해를 돕는 데 도움이 되길 바랍니다. 추가로 궁금한 점이 있으시면 언제든지 말씀해 주세요.\n",
      "\n",
      "감사합니다.\n",
      "\n",
      "이인환 드림\n",
      "\n",
      "--- \n",
      "\n",
      "이메일 내용이 마음에 드시나요? 수정이 필요하시면 말씀해 주세요!\u001b[0m\n",
      "\n",
      "\u001b[1m> Finished chain.\u001b[0m\n",
      "===== 최종 답변 =====\n",
      "아래는 랭체인에 대한 최근 뉴스 5개를 정리한 이메일 본문입니다.\n",
      "\n",
      "---\n",
      "\n",
      "**수신인:** 윤정 대리님  \n",
      "**발신인:** 이인환\n",
      "\n",
      "---\n",
      "\n",
      "안녕하세요, 윤정 대리님.\n",
      "\n",
      "최근 랭체인에 대한 흥미로운 뉴스들을 찾아보았습니다. 아래에 관련된 기사들을 정리해 드립니다.\n",
      "\n",
      "1. [개발자를 위한 랭체인 기초 개념과 환경 설정법 - 요즘IT](https://news.google.com/rss/articles/CBMiWkFVX3lxTFBtcm1OMmpJOUxvdnlkd0M0dVFfaGhma3BrTDRaVEY2OXFwd2tfUTZHVkFNSkZJYkZLc0x2dzFWWDNldF9TaVhIU0NxSUxyMlpIRC1KNksyLWdNQQ?oc=5)\n",
      "   \n",
      "2. [랭체인 LangChain 이란 무엇인가? | 인사이트리포트 | 삼성SDS - Samsung SDS](https://news.google.com/rss/articles/CBMibkFVX3lxTE1qMC1EYjRZOEpMNVBEVVpSNm1BX3A4a3FrdmEyOTdDNWdjMGR1ZEgzWlpHZnRFZ1pSUXdKa3JnOXBQZU5qU3dKS3Q5VUNwLVZxRFZmbG1SZzJVSUoyM2lJbnZRbzhYYUJJcnFHWmp3?oc=5)\n",
      "\n",
      "3. [책7- OpenAI API, 랭체인 완벽 활용법 - 브런치](https://news.google.com/rss/articles/CBMiRkFVX3lxTE1JSVJ3QkJSODJJeFcwVzJCZXJIcUdsTjg4WWd2dzZkY3Y2dmZuX1g1bEJfX3d4LTRPam1CWXM5bjk5R0xxTmc?oc=5)\n",
      "\n",
      "4. [주목해야 할 5대 기술 전망 “AI·랭체인·클라우드 전문가·SLM·데이터 전문가” - GTT KOREA](https://news.google.com/rss/articles/CBMiakFVX3lxTE5SRG5pSjVLS0ZfZGZHQjN4Yk5jX0VqLWFCWFpDajdSRzhWTXNMZndzV09NWnkwMmlpaVRZWU14SjljR3BxOTVfRUxuMmwtbmhCTHhSMDJsZjU5MUVxcGg3NUN4ZlJoSHU0Q3fSAW5BVV95cUxNRG9weC15VUx4ZERDYmFZOF9DRExwWlRxLUFXRFJPNEhrSGpLNExkNFJDMng1YVoyY3hVcm82VW0wVW9tc1lWVDN0RjFEVUQ0RGlHWGQ5WWluMUNwRzQyQ3pCZTIwS0wtRlpGVGVFZw?oc=5)\n",
      "\n",
      "5. [무료다운로드] 랭체인 아키텍처 및 동작 메커니즘 분석 - 캐드앤그래픽스](https://news.google.com/rss/articles/CBMilgFBVV95cUxNSU1sWjc2anZORGZoY3RRcDVhckhyMlFjdWJETmVJYndGVmRfRllCUEZ4THo2UFpCVWRDdTNiWlVJemU4QW5mM2dPYWxhTmNPRHJwNG51dWp2QkFOUk1NbzNWTmlJcjVZSktRZUg2TFQyOVdoaWwzS3dNYlJxTm9rQjFIQkpScU9wT09pU0FZRmlLVGUzeEE?oc=5)\n",
      "\n",
      "이 기사가 랭체인에 대한 이해를 돕는 데 도움이 되길 바랍니다. 추가로 궁금한 점이 있으시면 언제든지 말씀해 주세요.\n",
      "\n",
      "감사합니다.\n",
      "\n",
      "이인환 드림\n",
      "\n",
      "--- \n",
      "\n",
      "이메일 내용이 마음에 드시나요? 수정이 필요하시면 말씀해 주세요!\n",
      "===== 최종 답변 =====\n"
     ]
    }
   ],
   "source": [
    "for step in response:\n",
    "    agent_stream_parser.process_agent_steps(step)"
   ]
  },
  {
   "cell_type": "code",
   "execution_count": 165,
   "metadata": {},
   "outputs": [],
   "source": [
    "response = agent_with_chat_history.stream(\n",
    "    {'input': '내 이름이 뭐라고?'}, \n",
    "    config={'configurable': {'session_id': 'abc123'}}\n",
    ")"
   ]
  },
  {
   "cell_type": "code",
   "execution_count": 166,
   "metadata": {},
   "outputs": [
    {
     "name": "stdout",
     "output_type": "stream",
     "text": [
      "\n",
      "\n",
      "\u001b[1m> Entering new None chain...\u001b[0m\n",
      "\u001b[32;1m\u001b[1;3m당신의 이름은 이인환입니다.\u001b[0m\n",
      "\n",
      "\u001b[1m> Finished chain.\u001b[0m\n",
      "===== 최종 답변 =====\n",
      "당신의 이름은 이인환입니다.\n",
      "===== 최종 답변 =====\n"
     ]
    }
   ],
   "source": [
    "for step in response:\n",
    "    agent_stream_parser.process_agent_steps(step)"
   ]
  },
  {
   "cell_type": "code",
   "execution_count": 167,
   "metadata": {},
   "outputs": [
    {
     "name": "stdout",
     "output_type": "stream",
     "text": [
      "\n",
      "\n",
      "\u001b[1m> Entering new None chain...\u001b[0m\n",
      "step: {'actions': [ToolAgentAction(tool='search_keyword', tool_input={'query': '랭체인'}, log=\"\\nInvoking: `search_keyword` with `{'query': '랭체인'}`\\n\\n\\n\", message_log=[AIMessageChunk(content='', additional_kwargs={'tool_calls': [{'index': 0, 'id': 'call_Qd7BsNMkVvN2OOpJXjAuuOol', 'function': {'arguments': '{\"query\":\"랭체인\"}', 'name': 'search_keyword'}, 'type': 'function'}]}, response_metadata={'finish_reason': 'tool_calls', 'model_name': 'gpt-4o-mini-2024-07-18', 'system_fingerprint': 'fp_72ed7ab54c'}, id='run-2d674627-6c4d-4c4d-9c83-223dcf167896', tool_calls=[{'name': 'search_keyword', 'args': {'query': '랭체인'}, 'id': 'call_Qd7BsNMkVvN2OOpJXjAuuOol', 'type': 'tool_call'}], tool_call_chunks=[{'name': 'search_keyword', 'args': '{\"query\":\"랭체인\"}', 'id': 'call_Qd7BsNMkVvN2OOpJXjAuuOol', 'index': 0, 'type': 'tool_call_chunk'}])], tool_call_id='call_Qd7BsNMkVvN2OOpJXjAuuOol')], 'messages': [AIMessageChunk(content='', additional_kwargs={'tool_calls': [{'index': 0, 'id': 'call_Qd7BsNMkVvN2OOpJXjAuuOol', 'function': {'arguments': '{\"query\":\"랭체인\"}', 'name': 'search_keyword'}, 'type': 'function'}]}, response_metadata={'finish_reason': 'tool_calls', 'model_name': 'gpt-4o-mini-2024-07-18', 'system_fingerprint': 'fp_72ed7ab54c'}, id='run-2d674627-6c4d-4c4d-9c83-223dcf167896', tool_calls=[{'name': 'search_keyword', 'args': {'query': '랭체인'}, 'id': 'call_Qd7BsNMkVvN2OOpJXjAuuOol', 'type': 'tool_call'}], tool_call_chunks=[{'name': 'search_keyword', 'args': '{\"query\":\"랭체인\"}', 'id': 'call_Qd7BsNMkVvN2OOpJXjAuuOol', 'index': 0, 'type': 'tool_call_chunk'}])]}\n",
      "\n",
      "====================================================================================================\n",
      "[actions]\n",
      "사용 도구 이름 : search_keyword\n",
      "입력 쿼리 : {'query': '랭체인'}\n",
      "Log: \n",
      "Invoking: `search_keyword` with `{'query': '랭체인'}`\n",
      "\n",
      "\n",
      "\n",
      "\u001b[32;1m\u001b[1;3m\n",
      "Invoking: `search_keyword` with `{'query': '랭체인'}`\n",
      "\n",
      "\n",
      "\u001b[0m검색어: 랭체인\n",
      "\u001b[36;1m\u001b[1;3m[{'url': 'https://news.google.com/rss/articles/CBMiWkFVX3lxTFBtcm1OMmpJOUxvdnlkd0M0dVFfaGhma3BrTDRaVEY2OXFwd2tfUTZHVkFNSkZJYkZLc0x2dzFWWDNldF9TaVhIU0NxSUxyMlpIRC1KNksyLWdNQQ?oc=5', 'content': '개발자를 위한 랭체인 기초 개념과 환경 설정법 - 요즘IT'}, {'url': 'https://news.google.com/rss/articles/CBMibkFVX3lxTE1qMC1EYjRZOEpMNVBEVVpSNm1BX3A4a3FrdmEyOTdDNWdjMGR1ZEgzWlpHZnRFZ1pSUXdKa3JnOXBQZU5qU3dKS3Q5VUNwLVZxRFZmbG1SZzJVSUoyM2lJbnZRbzhYYUJJcnFHWmp3?oc=5', 'content': '랭체인 LangChain 이란 무엇인가? | 인사이트리포트 | 삼성SDS - Samsung SDS'}, {'url': 'https://news.google.com/rss/articles/CBMiRkFVX3lxTE1JSVJ3QkJSODJJeFcwVzJCZXJIcUdsTjg4WWd2dzZkY3Y2dmZuX1g1bEJfX3d4LTRPam1CWXM5bjk5R0xxTmc?oc=5', 'content': '책7- OpenAI API, 랭체인 완벽 활용법 - 브런치'}, {'url': 'https://news.google.com/rss/articles/CBMiakFVX3lxTE5SRG5pSjVLS0ZfZGZHQjN4Yk5jX0VqLWFCWFpDajdSRzhWTXNMZndzV09NWnkwMmlpaVRZWU14SjljR3BxOTVfRUxuMmwtbmhCTHhSMDJsZjU5MUVxcGg3NUN4ZlJoSHU0Q3fSAW5BVV95cUxNRG9weC15VUx4ZERDYmFZOF9DRExwWlRxLUFXRFJPNEhrSGpLNExkNFJDMng1YVoyY3hVcm82VW0wVW9tc1lWVDN0RjFEVUQ0RGlHWGQ5WWluMUNwRzQyQ3pCZTIwS0wtRlpGVGVFZw?oc=5', 'content': '주목해야 할 5대 기술 전망 “AI·랭체인·클라우드 전문가·SLM·데이터 전문가” - GTT KOREA'}, {'url': 'https://news.google.com/rss/articles/CBMilgFBVV95cUxNSU1sWjc2anZORGZoY3RRcDVhckhyMlFjdWJETmVJYndGVmRfRllCUEZ4THo2UFpCVWRDdTNiWlVJemU4QW5mM2dPYWxhTmNPRHJwNG51dWp2QkFOUk1NbzNWTmlJcjVZSktRZUg2TFQyOVdoaWwzS3dNYlJxTm9rQjFIQkpScU9wT09pU0FZRmlLVGUzeEE?oc=5', 'content': '[무료다운로드] 랭체인 아키텍처 및 동작 메커니즘 분석 - 캐드앤그래픽스'}]\u001b[0mstep: {'steps': [AgentStep(action=ToolAgentAction(tool='search_keyword', tool_input={'query': '랭체인'}, log=\"\\nInvoking: `search_keyword` with `{'query': '랭체인'}`\\n\\n\\n\", message_log=[AIMessageChunk(content='', additional_kwargs={'tool_calls': [{'index': 0, 'id': 'call_Qd7BsNMkVvN2OOpJXjAuuOol', 'function': {'arguments': '{\"query\":\"랭체인\"}', 'name': 'search_keyword'}, 'type': 'function'}]}, response_metadata={'finish_reason': 'tool_calls', 'model_name': 'gpt-4o-mini-2024-07-18', 'system_fingerprint': 'fp_72ed7ab54c'}, id='run-2d674627-6c4d-4c4d-9c83-223dcf167896', tool_calls=[{'name': 'search_keyword', 'args': {'query': '랭체인'}, 'id': 'call_Qd7BsNMkVvN2OOpJXjAuuOol', 'type': 'tool_call'}], tool_call_chunks=[{'name': 'search_keyword', 'args': '{\"query\":\"랭체인\"}', 'id': 'call_Qd7BsNMkVvN2OOpJXjAuuOol', 'index': 0, 'type': 'tool_call_chunk'}])], tool_call_id='call_Qd7BsNMkVvN2OOpJXjAuuOol'), observation=[{'url': 'https://news.google.com/rss/articles/CBMiWkFVX3lxTFBtcm1OMmpJOUxvdnlkd0M0dVFfaGhma3BrTDRaVEY2OXFwd2tfUTZHVkFNSkZJYkZLc0x2dzFWWDNldF9TaVhIU0NxSUxyMlpIRC1KNksyLWdNQQ?oc=5', 'content': '개발자를 위한 랭체인 기초 개념과 환경 설정법 - 요즘IT'}, {'url': 'https://news.google.com/rss/articles/CBMibkFVX3lxTE1qMC1EYjRZOEpMNVBEVVpSNm1BX3A4a3FrdmEyOTdDNWdjMGR1ZEgzWlpHZnRFZ1pSUXdKa3JnOXBQZU5qU3dKS3Q5VUNwLVZxRFZmbG1SZzJVSUoyM2lJbnZRbzhYYUJJcnFHWmp3?oc=5', 'content': '랭체인 LangChain 이란 무엇인가? | 인사이트리포트 | 삼성SDS - Samsung SDS'}, {'url': 'https://news.google.com/rss/articles/CBMiRkFVX3lxTE1JSVJ3QkJSODJJeFcwVzJCZXJIcUdsTjg4WWd2dzZkY3Y2dmZuX1g1bEJfX3d4LTRPam1CWXM5bjk5R0xxTmc?oc=5', 'content': '책7- OpenAI API, 랭체인 완벽 활용법 - 브런치'}, {'url': 'https://news.google.com/rss/articles/CBMiakFVX3lxTE5SRG5pSjVLS0ZfZGZHQjN4Yk5jX0VqLWFCWFpDajdSRzhWTXNMZndzV09NWnkwMmlpaVRZWU14SjljR3BxOTVfRUxuMmwtbmhCTHhSMDJsZjU5MUVxcGg3NUN4ZlJoSHU0Q3fSAW5BVV95cUxNRG9weC15VUx4ZERDYmFZOF9DRExwWlRxLUFXRFJPNEhrSGpLNExkNFJDMng1YVoyY3hVcm82VW0wVW9tc1lWVDN0RjFEVUQ0RGlHWGQ5WWluMUNwRzQyQ3pCZTIwS0wtRlpGVGVFZw?oc=5', 'content': '주목해야 할 5대 기술 전망 “AI·랭체인·클라우드 전문가·SLM·데이터 전문가” - GTT KOREA'}, {'url': 'https://news.google.com/rss/articles/CBMilgFBVV95cUxNSU1sWjc2anZORGZoY3RRcDVhckhyMlFjdWJETmVJYndGVmRfRllCUEZ4THo2UFpCVWRDdTNiWlVJemU4QW5mM2dPYWxhTmNPRHJwNG51dWp2QkFOUk1NbzNWTmlJcjVZSktRZUg2TFQyOVdoaWwzS3dNYlJxTm9rQjFIQkpScU9wT09pU0FZRmlLVGUzeEE?oc=5', 'content': '[무료다운로드] 랭체인 아키텍처 및 동작 메커니즘 분석 - 캐드앤그래픽스'}])], 'messages': [FunctionMessage(content='[{\"url\": \"https://news.google.com/rss/articles/CBMiWkFVX3lxTFBtcm1OMmpJOUxvdnlkd0M0dVFfaGhma3BrTDRaVEY2OXFwd2tfUTZHVkFNSkZJYkZLc0x2dzFWWDNldF9TaVhIU0NxSUxyMlpIRC1KNksyLWdNQQ?oc=5\", \"content\": \"개발자를 위한 랭체인 기초 개념과 환경 설정법 - 요즘IT\"}, {\"url\": \"https://news.google.com/rss/articles/CBMibkFVX3lxTE1qMC1EYjRZOEpMNVBEVVpSNm1BX3A4a3FrdmEyOTdDNWdjMGR1ZEgzWlpHZnRFZ1pSUXdKa3JnOXBQZU5qU3dKS3Q5VUNwLVZxRFZmbG1SZzJVSUoyM2lJbnZRbzhYYUJJcnFHWmp3?oc=5\", \"content\": \"랭체인 LangChain 이란 무엇인가? | 인사이트리포트 | 삼성SDS - Samsung SDS\"}, {\"url\": \"https://news.google.com/rss/articles/CBMiRkFVX3lxTE1JSVJ3QkJSODJJeFcwVzJCZXJIcUdsTjg4WWd2dzZkY3Y2dmZuX1g1bEJfX3d4LTRPam1CWXM5bjk5R0xxTmc?oc=5\", \"content\": \"책7- OpenAI API, 랭체인 완벽 활용법 - 브런치\"}, {\"url\": \"https://news.google.com/rss/articles/CBMiakFVX3lxTE5SRG5pSjVLS0ZfZGZHQjN4Yk5jX0VqLWFCWFpDajdSRzhWTXNMZndzV09NWnkwMmlpaVRZWU14SjljR3BxOTVfRUxuMmwtbmhCTHhSMDJsZjU5MUVxcGg3NUN4ZlJoSHU0Q3fSAW5BVV95cUxNRG9weC15VUx4ZERDYmFZOF9DRExwWlRxLUFXRFJPNEhrSGpLNExkNFJDMng1YVoyY3hVcm82VW0wVW9tc1lWVDN0RjFEVUQ0RGlHWGQ5WWluMUNwRzQyQ3pCZTIwS0wtRlpGVGVFZw?oc=5\", \"content\": \"주목해야 할 5대 기술 전망 “AI·랭체인·클라우드 전문가·SLM·데이터 전문가” - GTT KOREA\"}, {\"url\": \"https://news.google.com/rss/articles/CBMilgFBVV95cUxNSU1sWjc2anZORGZoY3RRcDVhckhyMlFjdWJETmVJYndGVmRfRllCUEZ4THo2UFpCVWRDdTNiWlVJemU4QW5mM2dPYWxhTmNPRHJwNG51dWp2QkFOUk1NbzNWTmlJcjVZSktRZUg2TFQyOVdoaWwzS3dNYlJxTm9rQjFIQkpScU9wT09pU0FZRmlLVGUzeEE?oc=5\", \"content\": \"[무료다운로드] 랭체인 아키텍처 및 동작 메커니즘 분석 - 캐드앤그래픽스\"}]', additional_kwargs={}, response_metadata={}, name='search_keyword')]}\n",
      "\n",
      "====================================================================================================\n",
      "[steps]\n",
      "사용 도구 이름 : search_keyword\n",
      "입력 쿼리 : {'query': '랭체인'}\n",
      "  Log: \n",
      "Invoking: `search_keyword` with `{'query': '랭체인'}`\n",
      "\n",
      "\n",
      "\n",
      "Observation: [{'url': 'https://news.google.com/rss/articles/CBMiWkFVX3lxTFBtcm1OMmpJOUxvdnlkd0M0dVFfaGhma3BrTDRaVEY2OXFwd2tfUTZHVkFNSkZJYkZLc0x2dzFWWDNldF9TaVhIU0NxSUxyMlpIRC1KNksyLWdNQQ?oc=5', 'content': '개발자를 위한 랭체인 기초 개념과 환경 설정법 - 요즘IT'}, {'url': 'https://news.google.com/rss/articles/CBMibkFVX3lxTE1qMC1EYjRZOEpMNVBEVVpSNm1BX3A4a3FrdmEyOTdDNWdjMGR1ZEgzWlpHZnRFZ1pSUXdKa3JnOXBQZU5qU3dKS3Q5VUNwLVZxRFZmbG1SZzJVSUoyM2lJbnZRbzhYYUJJcnFHWmp3?oc=5', 'content': '랭체인 LangChain 이란 무엇인가? | 인사이트리포트 | 삼성SDS - Samsung SDS'}, {'url': 'https://news.google.com/rss/articles/CBMiRkFVX3lxTE1JSVJ3QkJSODJJeFcwVzJCZXJIcUdsTjg4WWd2dzZkY3Y2dmZuX1g1bEJfX3d4LTRPam1CWXM5bjk5R0xxTmc?oc=5', 'content': '책7- OpenAI API, 랭체인 완벽 활용법 - 브런치'}, {'url': 'https://news.google.com/rss/articles/CBMiakFVX3lxTE5SRG5pSjVLS0ZfZGZHQjN4Yk5jX0VqLWFCWFpDajdSRzhWTXNMZndzV09NWnkwMmlpaVRZWU14SjljR3BxOTVfRUxuMmwtbmhCTHhSMDJsZjU5MUVxcGg3NUN4ZlJoSHU0Q3fSAW5BVV95cUxNRG9weC15VUx4ZERDYmFZOF9DRExwWlRxLUFXRFJPNEhrSGpLNExkNFJDMng1YVoyY3hVcm82VW0wVW9tc1lWVDN0RjFEVUQ0RGlHWGQ5WWluMUNwRzQyQ3pCZTIwS0wtRlpGVGVFZw?oc=5', 'content': '주목해야 할 5대 기술 전망 “AI·랭체인·클라우드 전문가·SLM·데이터 전문가” - GTT KOREA'}, {'url': 'https://news.google.com/rss/articles/CBMilgFBVV95cUxNSU1sWjc2anZORGZoY3RRcDVhckhyMlFjdWJETmVJYndGVmRfRllCUEZ4THo2UFpCVWRDdTNiWlVJemU4QW5mM2dPYWxhTmNPRHJwNG51dWp2QkFOUk1NbzNWTmlJcjVZSktRZUg2TFQyOVdoaWwzS3dNYlJxTm9rQjFIQkpScU9wT09pU0FZRmlLVGUzeEE?oc=5', 'content': '[무료다운로드] 랭체인 아키텍처 및 동작 메커니즘 분석 - 캐드앤그래픽스'}]\n",
      "\u001b[32;1m\u001b[1;3m최근 랭체인에 대한 뉴스 5개는 다음과 같습니다:\n",
      "\n",
      "1. [개발자를 위한 랭체인 기초 개념과 환경 설정법 - 요즘IT](https://news.google.com/rss/articles/CBMiWkFVX3lxTFBtcm1OMmpJOUxvdnlkd0M0dVFfaGhma3BrTDRaVEY2OXFwd2tfUTZHVkFNSkZJYkZLc0x2dzFWWDNldF9TaVhIU0NxSUxyMlpIRC1KNksyLWdNQQ?oc=5)\n",
      "\n",
      "2. [랭체인 LangChain 이란 무엇인가? | 인사이트리포트 | 삼성SDS - Samsung SDS](https://news.google.com/rss/articles/CBMibkFVX3lxTE1qMC1EYjRZOEpMNVBEVVpSNm1BX3A4a3FrdmEyOTdDNWdjMGR1ZEgzWlpHZnRFZ1pSUXdKa3JnOXBQZU5qU3dKS3Q5VUNwLVZxRFZmbG1SZzJVSUoyM2lJbnZRbzhYYUJJcnFHWmp3?oc=5)\n",
      "\n",
      "3. [책7- OpenAI API, 랭체인 완벽 활용법 - 브런치](https://news.google.com/rss/articles/CBMiRkFVX3lxTE1JSVJ3QkJSODJJeFcwVzJCZXJIcUdsTjg4WWd2dzZkY3Y2dmZuX1g1bEJfX3d4LTRPam1CWXM5bjk5R0xxTmc?oc=5)\n",
      "\n",
      "4. [주목해야 할 5대 기술 전망 “AI·랭체인·클라우드 전문가·SLM·데이터 전문가” - GTT KOREA](https://news.google.com/rss/articles/CBMiakFVX3lxTE5SRG5pSjVLS0ZfZGZHQjN4Yk5jX0VqLWFCWFpDajdSRzhWTXNMZndzV09NWnkwMmlpaVRZWU14SjljR3BxOTVfRUxuMmwtbmhCTHhSMDJsZjU5MUVxcGg3NUN4ZlJoSHU0Q3fSAW5BVV95cUxNRG9weC15VUx4ZERDYmFZOF9DRExwWlRxLUFXRFJPNEhrSGpLNExkNFJDMng1YVoyY3hVcm82VW0wVW9tc1lWVDN0RjFEVUQ0RGlHWGQ5WWluMUNwRzQyQ3pCZTIwS0wtRlpGVGVFZw?oc=5)\n",
      "\n",
      "5. [무료다운로드] 랭체인 아키텍처 및 동작 메커니즘 분석 - 캐드앤그래픽스](https://news.google.com/rss/articles/CBMilgFBVV95cUxNSU1sWjc2anZORGZoY3RRcDVhckhyMlFjdWJETmVJYndGVmRfRllCUEZ4THo2UFpCVWRDdTNiWlVJemU4QW5mM2dPYWxhTmNPRHJwNG51dWp2QkFOUk1NbzNWTmlJcjVZSktRZUg2TFQyOVdoaWwzS3dNYlJxTm9rQjFIQkpScU9wT09pU0FZRmlLVGUzeEE?oc=5)\n",
      "\n",
      "이 뉴스들이 랭체인에 대한 이해를 돕는 데 유용할 것입니다. 추가로 궁금한 점이 있으시면 말씀해 주세요!\u001b[0m\n",
      "\n",
      "\u001b[1m> Finished chain.\u001b[0m\n",
      "step: {'output': '최근 랭체인에 대한 뉴스 5개는 다음과 같습니다:\\n\\n1. [개발자를 위한 랭체인 기초 개념과 환경 설정법 - 요즘IT](https://news.google.com/rss/articles/CBMiWkFVX3lxTFBtcm1OMmpJOUxvdnlkd0M0dVFfaGhma3BrTDRaVEY2OXFwd2tfUTZHVkFNSkZJYkZLc0x2dzFWWDNldF9TaVhIU0NxSUxyMlpIRC1KNksyLWdNQQ?oc=5)\\n\\n2. [랭체인 LangChain 이란 무엇인가? | 인사이트리포트 | 삼성SDS - Samsung SDS](https://news.google.com/rss/articles/CBMibkFVX3lxTE1qMC1EYjRZOEpMNVBEVVpSNm1BX3A4a3FrdmEyOTdDNWdjMGR1ZEgzWlpHZnRFZ1pSUXdKa3JnOXBQZU5qU3dKS3Q5VUNwLVZxRFZmbG1SZzJVSUoyM2lJbnZRbzhYYUJJcnFHWmp3?oc=5)\\n\\n3. [책7- OpenAI API, 랭체인 완벽 활용법 - 브런치](https://news.google.com/rss/articles/CBMiRkFVX3lxTE1JSVJ3QkJSODJJeFcwVzJCZXJIcUdsTjg4WWd2dzZkY3Y2dmZuX1g1bEJfX3d4LTRPam1CWXM5bjk5R0xxTmc?oc=5)\\n\\n4. [주목해야 할 5대 기술 전망 “AI·랭체인·클라우드 전문가·SLM·데이터 전문가” - GTT KOREA](https://news.google.com/rss/articles/CBMiakFVX3lxTE5SRG5pSjVLS0ZfZGZHQjN4Yk5jX0VqLWFCWFpDajdSRzhWTXNMZndzV09NWnkwMmlpaVRZWU14SjljR3BxOTVfRUxuMmwtbmhCTHhSMDJsZjU5MUVxcGg3NUN4ZlJoSHU0Q3fSAW5BVV95cUxNRG9weC15VUx4ZERDYmFZOF9DRExwWlRxLUFXRFJPNEhrSGpLNExkNFJDMng1YVoyY3hVcm82VW0wVW9tc1lWVDN0RjFEVUQ0RGlHWGQ5WWluMUNwRzQyQ3pCZTIwS0wtRlpGVGVFZw?oc=5)\\n\\n5. [무료다운로드] 랭체인 아키텍처 및 동작 메커니즘 분석 - 캐드앤그래픽스](https://news.google.com/rss/articles/CBMilgFBVV95cUxNSU1sWjc2anZORGZoY3RRcDVhckhyMlFjdWJETmVJYndGVmRfRllCUEZ4THo2UFpCVWRDdTNiWlVJemU4QW5mM2dPYWxhTmNPRHJwNG51dWp2QkFOUk1NbzNWTmlJcjVZSktRZUg2TFQyOVdoaWwzS3dNYlJxTm9rQjFIQkpScU9wT09pU0FZRmlLVGUzeEE?oc=5)\\n\\n이 뉴스들이 랭체인에 대한 이해를 돕는 데 유용할 것입니다. 추가로 궁금한 점이 있으시면 말씀해 주세요!', 'messages': [AIMessage(content='최근 랭체인에 대한 뉴스 5개는 다음과 같습니다:\\n\\n1. [개발자를 위한 랭체인 기초 개념과 환경 설정법 - 요즘IT](https://news.google.com/rss/articles/CBMiWkFVX3lxTFBtcm1OMmpJOUxvdnlkd0M0dVFfaGhma3BrTDRaVEY2OXFwd2tfUTZHVkFNSkZJYkZLc0x2dzFWWDNldF9TaVhIU0NxSUxyMlpIRC1KNksyLWdNQQ?oc=5)\\n\\n2. [랭체인 LangChain 이란 무엇인가? | 인사이트리포트 | 삼성SDS - Samsung SDS](https://news.google.com/rss/articles/CBMibkFVX3lxTE1qMC1EYjRZOEpMNVBEVVpSNm1BX3A4a3FrdmEyOTdDNWdjMGR1ZEgzWlpHZnRFZ1pSUXdKa3JnOXBQZU5qU3dKS3Q5VUNwLVZxRFZmbG1SZzJVSUoyM2lJbnZRbzhYYUJJcnFHWmp3?oc=5)\\n\\n3. [책7- OpenAI API, 랭체인 완벽 활용법 - 브런치](https://news.google.com/rss/articles/CBMiRkFVX3lxTE1JSVJ3QkJSODJJeFcwVzJCZXJIcUdsTjg4WWd2dzZkY3Y2dmZuX1g1bEJfX3d4LTRPam1CWXM5bjk5R0xxTmc?oc=5)\\n\\n4. [주목해야 할 5대 기술 전망 “AI·랭체인·클라우드 전문가·SLM·데이터 전문가” - GTT KOREA](https://news.google.com/rss/articles/CBMiakFVX3lxTE5SRG5pSjVLS0ZfZGZHQjN4Yk5jX0VqLWFCWFpDajdSRzhWTXNMZndzV09NWnkwMmlpaVRZWU14SjljR3BxOTVfRUxuMmwtbmhCTHhSMDJsZjU5MUVxcGg3NUN4ZlJoSHU0Q3fSAW5BVV95cUxNRG9weC15VUx4ZERDYmFZOF9DRExwWlRxLUFXRFJPNEhrSGpLNExkNFJDMng1YVoyY3hVcm82VW0wVW9tc1lWVDN0RjFEVUQ0RGlHWGQ5WWluMUNwRzQyQ3pCZTIwS0wtRlpGVGVFZw?oc=5)\\n\\n5. [무료다운로드] 랭체인 아키텍처 및 동작 메커니즘 분석 - 캐드앤그래픽스](https://news.google.com/rss/articles/CBMilgFBVV95cUxNSU1sWjc2anZORGZoY3RRcDVhckhyMlFjdWJETmVJYndGVmRfRllCUEZ4THo2UFpCVWRDdTNiWlVJemU4QW5mM2dPYWxhTmNPRHJwNG51dWp2QkFOUk1NbzNWTmlJcjVZSktRZUg2TFQyOVdoaWwzS3dNYlJxTm9rQjFIQkpScU9wT09pU0FZRmlLVGUzeEE?oc=5)\\n\\n이 뉴스들이 랭체인에 대한 이해를 돕는 데 유용할 것입니다. 추가로 궁금한 점이 있으시면 말씀해 주세요!', additional_kwargs={}, response_metadata={})]}\n",
      "\n",
      "====================================================================================================\n",
      "[output]: 최근 랭체인에 대한 뉴스 5개는 다음과 같습니다:\n",
      "\n",
      "1. [개발자를 위한 랭체인 기초 개념과 환경 설정법 - 요즘IT](https://news.google.com/rss/articles/CBMiWkFVX3lxTFBtcm1OMmpJOUxvdnlkd0M0dVFfaGhma3BrTDRaVEY2OXFwd2tfUTZHVkFNSkZJYkZLc0x2dzFWWDNldF9TaVhIU0NxSUxyMlpIRC1KNksyLWdNQQ?oc=5)\n",
      "\n",
      "2. [랭체인 LangChain 이란 무엇인가? | 인사이트리포트 | 삼성SDS - Samsung SDS](https://news.google.com/rss/articles/CBMibkFVX3lxTE1qMC1EYjRZOEpMNVBEVVpSNm1BX3A4a3FrdmEyOTdDNWdjMGR1ZEgzWlpHZnRFZ1pSUXdKa3JnOXBQZU5qU3dKS3Q5VUNwLVZxRFZmbG1SZzJVSUoyM2lJbnZRbzhYYUJJcnFHWmp3?oc=5)\n",
      "\n",
      "3. [책7- OpenAI API, 랭체인 완벽 활용법 - 브런치](https://news.google.com/rss/articles/CBMiRkFVX3lxTE1JSVJ3QkJSODJJeFcwVzJCZXJIcUdsTjg4WWd2dzZkY3Y2dmZuX1g1bEJfX3d4LTRPam1CWXM5bjk5R0xxTmc?oc=5)\n",
      "\n",
      "4. [주목해야 할 5대 기술 전망 “AI·랭체인·클라우드 전문가·SLM·데이터 전문가” - GTT KOREA](https://news.google.com/rss/articles/CBMiakFVX3lxTE5SRG5pSjVLS0ZfZGZHQjN4Yk5jX0VqLWFCWFpDajdSRzhWTXNMZndzV09NWnkwMmlpaVRZWU14SjljR3BxOTVfRUxuMmwtbmhCTHhSMDJsZjU5MUVxcGg3NUN4ZlJoSHU0Q3fSAW5BVV95cUxNRG9weC15VUx4ZERDYmFZOF9DRExwWlRxLUFXRFJPNEhrSGpLNExkNFJDMng1YVoyY3hVcm82VW0wVW9tc1lWVDN0RjFEVUQ0RGlHWGQ5WWluMUNwRzQyQ3pCZTIwS0wtRlpGVGVFZw?oc=5)\n",
      "\n",
      "5. [무료다운로드] 랭체인 아키텍처 및 동작 메커니즘 분석 - 캐드앤그래픽스](https://news.google.com/rss/articles/CBMilgFBVV95cUxNSU1sWjc2anZORGZoY3RRcDVhckhyMlFjdWJETmVJYndGVmRfRllCUEZ4THo2UFpCVWRDdTNiWlVJemU4QW5mM2dPYWxhTmNPRHJwNG51dWp2QkFOUk1NbzNWTmlJcjVZSktRZUg2TFQyOVdoaWwzS3dNYlJxTm9rQjFIQkpScU9wT09pU0FZRmlLVGUzeEE?oc=5)\n",
      "\n",
      "이 뉴스들이 랭체인에 대한 이해를 돕는 데 유용할 것입니다. 추가로 궁금한 점이 있으시면 말씀해 주세요!\n",
      "Message: 최근 랭체인에 대한 뉴스 5개는 다음과 같습니다:\n",
      "\n",
      "1. [개발자를 위한 랭체인 기초 개념과 환경 설정법 - 요즘IT](https://news.google.com/rss/articles/CBMiWkFVX3lxTFBtcm1OMmpJOUxvdnlkd0M0dVFfaGhma3BrTDRaVEY2OXFwd2tfUTZHVkFNSkZJYkZLc0x2dzFWWDNldF9TaVhIU0NxSUxyMlpIRC1KNksyLWdNQQ?oc=5)\n",
      "\n",
      "2. [랭체인 LangChain 이란 무엇인가? | 인사이트리포트 | 삼성SDS - Samsung SDS](https://news.google.com/rss/articles/CBMibkFVX3lxTE1qMC1EYjRZOEpMNVBEVVpSNm1BX3A4a3FrdmEyOTdDNWdjMGR1ZEgzWlpHZnRFZ1pSUXdKa3JnOXBQZU5qU3dKS3Q5VUNwLVZxRFZmbG1SZzJVSUoyM2lJbnZRbzhYYUJJcnFHWmp3?oc=5)\n",
      "\n",
      "3. [책7- OpenAI API, 랭체인 완벽 활용법 - 브런치](https://news.google.com/rss/articles/CBMiRkFVX3lxTE1JSVJ3QkJSODJJeFcwVzJCZXJIcUdsTjg4WWd2dzZkY3Y2dmZuX1g1bEJfX3d4LTRPam1CWXM5bjk5R0xxTmc?oc=5)\n",
      "\n",
      "4. [주목해야 할 5대 기술 전망 “AI·랭체인·클라우드 전문가·SLM·데이터 전문가” - GTT KOREA](https://news.google.com/rss/articles/CBMiakFVX3lxTE5SRG5pSjVLS0ZfZGZHQjN4Yk5jX0VqLWFCWFpDajdSRzhWTXNMZndzV09NWnkwMmlpaVRZWU14SjljR3BxOTVfRUxuMmwtbmhCTHhSMDJsZjU5MUVxcGg3NUN4ZlJoSHU0Q3fSAW5BVV95cUxNRG9weC15VUx4ZERDYmFZOF9DRExwWlRxLUFXRFJPNEhrSGpLNExkNFJDMng1YVoyY3hVcm82VW0wVW9tc1lWVDN0RjFEVUQ0RGlHWGQ5WWluMUNwRzQyQ3pCZTIwS0wtRlpGVGVFZw?oc=5)\n",
      "\n",
      "5. [무료다운로드] 랭체인 아키텍처 및 동작 메커니즘 분석 - 캐드앤그래픽스](https://news.google.com/rss/articles/CBMilgFBVV95cUxNSU1sWjc2anZORGZoY3RRcDVhckhyMlFjdWJETmVJYndGVmRfRllCUEZ4THo2UFpCVWRDdTNiWlVJemU4QW5mM2dPYWxhTmNPRHJwNG51dWp2QkFOUk1NbzNWTmlJcjVZSktRZUg2TFQyOVdoaWwzS3dNYlJxTm9rQjFIQkpScU9wT09pU0FZRmlLVGUzeEE?oc=5)\n",
      "\n",
      "이 뉴스들이 랭체인에 대한 이해를 돕는 데 유용할 것입니다. 추가로 궁금한 점이 있으시면 말씀해 주세요!\n"
     ]
    }
   ],
   "source": [
    "response = agent_with_chat_history.stream(\n",
    "    {'input': '좀전에 질문한 내용에 대해서 알려줘'}, \n",
    "    config={'configurable': {'session_id': 'abc123'}}\n",
    ")\n",
    "\n",
    "for step in response:\n",
    "    print('step:', step)\n",
    "    print()\n",
    "    print('==' * 50)\n",
    "\n",
    "    if 'actions' in step:\n",
    "        print(f'[actions]')\n",
    "\n",
    "        for action in step['actions']:\n",
    "            print(f\"사용 도구 이름 : {action.tool}\")\n",
    "            print(f\"입력 쿼리 : {action.tool_input}\")\n",
    "            print(f\"Log: {action.log}\")\n",
    "\n",
    "    elif 'steps' in step:\n",
    "        print(f'[steps]')\n",
    "\n",
    "        for agent_step in step['steps']:\n",
    "            # print(\"Action:\")\n",
    "            print(f\"사용 도구 이름 : {agent_step.action.tool}\")\n",
    "            print(f\"입력 쿼리 : {agent_step.action.tool_input}\")\n",
    "            print(f\"  Log: {agent_step.action.log}\")\n",
    "            print(f\"Observation: {agent_step.observation}\")\n",
    "\n",
    "\n",
    "    elif 'output' in step:\n",
    "        print(f\"[output]: {step['output']}\")\n",
    "\n",
    "        if 'messages' in step:\n",
    "            for message in step['messages']:\n",
    "                print(f\"Message: {message.content}\")"
   ]
  },
  {
   "cell_type": "code",
   "execution_count": 168,
   "metadata": {},
   "outputs": [
    {
     "name": "stdout",
     "output_type": "stream",
     "text": [
      "\n",
      "\n",
      "\u001b[1m> Entering new None chain...\u001b[0m\n",
      "\u001b[32;1m\u001b[1;3m아래는 윤정 대리님께 보내기 위해 작성한 이메일 내용입니다.\n",
      "\n",
      "---\n",
      "\n",
      "**수신인:** 윤정 대리님  \n",
      "**발신인:** 이인환\n",
      "\n",
      "---\n",
      "\n",
      "안녕하세요, 윤정 대리님.\n",
      "\n",
      "최근 랭체인에 대한 흥미로운 뉴스들을 찾아보았습니다. 아래에 관련된 기사들을 정리해 드립니다.\n",
      "\n",
      "1. [개발자를 위한 랭체인 기초 개념과 환경 설정법 - 요즘IT](https://news.google.com/rss/articles/CBMiWkFVX3lxTFBtcm1OMmpJOUxvdnlkd0M0dVFfaGhma3BrTDRaVEY2OXFwd2tfUTZHVkFNSkZJYkZLc0x2dzFWWDNldF9TaVhIU0NxSUxyMlpIRC1KNksyLWdNQQ?oc=5)\n",
      "   \n",
      "2. [랭체인 LangChain 이란 무엇인가? | 인사이트리포트 | 삼성SDS - Samsung SDS](https://news.google.com/rss/articles/CBMibkFVX3lxTE1qMC1EYjRZOEpMNVBEVVpSNm1BX3A4a3FrdmEyOTdDNWdjMGR1ZEgzWlpHZnRFZ1pSUXdKa3JnOXBQZU5qU3dKS3Q5VUNwLVZxRFZmbG1SZzJVSUoyM2lJbnZRbzhYYUJJcnFHWmp3?oc=5)\n",
      "\n",
      "3. [책7- OpenAI API, 랭체인 완벽 활용법 - 브런치](https://news.google.com/rss/articles/CBMiRkFVX3lxTE1JSVJ3QkJSODJJeFcwVzJCZXJIcUdsTjg4WWd2dzZkY3Y2dmZuX1g1bEJfX3d4LTRPam1CWXM5bjk5R0xxTmc?oc=5)\n",
      "\n",
      "4. [주목해야 할 5대 기술 전망 “AI·랭체인·클라우드 전문가·SLM·데이터 전문가” - GTT KOREA](https://news.google.com/rss/articles/CBMiakFVX3lxTE5SRG5pSjVLS0ZfZGZHQjN4Yk5jX0VqLWFCWFpDajdSRzhWTXNMZndzV09NWnkwMmlpaVRZWU14SjljR3BxOTVfRUxuMmwtbmhCTHhSMDJsZjU5MUVxcGg3NUN4ZlJoSHU0Q3fSAW5BVV95cUxNRG9weC15VUx4ZERDYmFZOF9DRExwWlRxLUFXRFJPNEhrSGpLNExkNFJDMng1YVoyY3hVcm82VW0wVW9tc1lWVDN0RjFEVUQ0RGlHWGQ5WWluMUNwRzQyQ3pCZTIwS0wtRlpGVGVFZw?oc=5)\n",
      "\n",
      "5. [무료다운로드] 랭체인 아키텍처 및 동작 메커니즘 분석 - 캐드앤그래픽스](https://news.google.com/rss/articles/CBMilgFBVV95cUxNSU1sWjc2anZORGZoY3RRcDVhckhyMlFjdWJETmVJYndGVmRfRllCUEZ4THo2UFpCVWRDdTNiWlVJemU4QW5mM2dPYWxhTmNPRHJwNG51dWp2QkFOUk1NbzNWTmlJcjVZSktRZUg2TFQyOVdoaWwzS3dNYlJxTm9rQjFIQkpScU9wT09pU0FZRmlLVGUzeEE?oc=5)\n",
      "\n",
      "이 기사가 랭체인에 대한 이해를 돕는 데 도움이 되길 바랍니다. 추가로 궁금한 점이 있으시면 언제든지 말씀해 주세요.\n",
      "\n",
      "감사합니다.\n",
      "\n",
      "이인환 드림\n",
      "\n",
      "--- \n",
      "\n",
      "이 내용이 도움이 되셨나요? 추가로 수정할 부분이 있으면 말씀해 주세요!\u001b[0m\n",
      "\n",
      "\u001b[1m> Finished chain.\u001b[0m\n",
      "step: {'output': '아래는 윤정 대리님께 보내기 위해 작성한 이메일 내용입니다.\\n\\n---\\n\\n**수신인:** 윤정 대리님  \\n**발신인:** 이인환\\n\\n---\\n\\n안녕하세요, 윤정 대리님.\\n\\n최근 랭체인에 대한 흥미로운 뉴스들을 찾아보았습니다. 아래에 관련된 기사들을 정리해 드립니다.\\n\\n1. [개발자를 위한 랭체인 기초 개념과 환경 설정법 - 요즘IT](https://news.google.com/rss/articles/CBMiWkFVX3lxTFBtcm1OMmpJOUxvdnlkd0M0dVFfaGhma3BrTDRaVEY2OXFwd2tfUTZHVkFNSkZJYkZLc0x2dzFWWDNldF9TaVhIU0NxSUxyMlpIRC1KNksyLWdNQQ?oc=5)\\n   \\n2. [랭체인 LangChain 이란 무엇인가? | 인사이트리포트 | 삼성SDS - Samsung SDS](https://news.google.com/rss/articles/CBMibkFVX3lxTE1qMC1EYjRZOEpMNVBEVVpSNm1BX3A4a3FrdmEyOTdDNWdjMGR1ZEgzWlpHZnRFZ1pSUXdKa3JnOXBQZU5qU3dKS3Q5VUNwLVZxRFZmbG1SZzJVSUoyM2lJbnZRbzhYYUJJcnFHWmp3?oc=5)\\n\\n3. [책7- OpenAI API, 랭체인 완벽 활용법 - 브런치](https://news.google.com/rss/articles/CBMiRkFVX3lxTE1JSVJ3QkJSODJJeFcwVzJCZXJIcUdsTjg4WWd2dzZkY3Y2dmZuX1g1bEJfX3d4LTRPam1CWXM5bjk5R0xxTmc?oc=5)\\n\\n4. [주목해야 할 5대 기술 전망 “AI·랭체인·클라우드 전문가·SLM·데이터 전문가” - GTT KOREA](https://news.google.com/rss/articles/CBMiakFVX3lxTE5SRG5pSjVLS0ZfZGZHQjN4Yk5jX0VqLWFCWFpDajdSRzhWTXNMZndzV09NWnkwMmlpaVRZWU14SjljR3BxOTVfRUxuMmwtbmhCTHhSMDJsZjU5MUVxcGg3NUN4ZlJoSHU0Q3fSAW5BVV95cUxNRG9weC15VUx4ZERDYmFZOF9DRExwWlRxLUFXRFJPNEhrSGpLNExkNFJDMng1YVoyY3hVcm82VW0wVW9tc1lWVDN0RjFEVUQ0RGlHWGQ5WWluMUNwRzQyQ3pCZTIwS0wtRlpGVGVFZw?oc=5)\\n\\n5. [무료다운로드] 랭체인 아키텍처 및 동작 메커니즘 분석 - 캐드앤그래픽스](https://news.google.com/rss/articles/CBMilgFBVV95cUxNSU1sWjc2anZORGZoY3RRcDVhckhyMlFjdWJETmVJYndGVmRfRllCUEZ4THo2UFpCVWRDdTNiWlVJemU4QW5mM2dPYWxhTmNPRHJwNG51dWp2QkFOUk1NbzNWTmlJcjVZSktRZUg2TFQyOVdoaWwzS3dNYlJxTm9rQjFIQkpScU9wT09pU0FZRmlLVGUzeEE?oc=5)\\n\\n이 기사가 랭체인에 대한 이해를 돕는 데 도움이 되길 바랍니다. 추가로 궁금한 점이 있으시면 언제든지 말씀해 주세요.\\n\\n감사합니다.\\n\\n이인환 드림\\n\\n--- \\n\\n이 내용이 도움이 되셨나요? 추가로 수정할 부분이 있으면 말씀해 주세요!', 'messages': [AIMessage(content='아래는 윤정 대리님께 보내기 위해 작성한 이메일 내용입니다.\\n\\n---\\n\\n**수신인:** 윤정 대리님  \\n**발신인:** 이인환\\n\\n---\\n\\n안녕하세요, 윤정 대리님.\\n\\n최근 랭체인에 대한 흥미로운 뉴스들을 찾아보았습니다. 아래에 관련된 기사들을 정리해 드립니다.\\n\\n1. [개발자를 위한 랭체인 기초 개념과 환경 설정법 - 요즘IT](https://news.google.com/rss/articles/CBMiWkFVX3lxTFBtcm1OMmpJOUxvdnlkd0M0dVFfaGhma3BrTDRaVEY2OXFwd2tfUTZHVkFNSkZJYkZLc0x2dzFWWDNldF9TaVhIU0NxSUxyMlpIRC1KNksyLWdNQQ?oc=5)\\n   \\n2. [랭체인 LangChain 이란 무엇인가? | 인사이트리포트 | 삼성SDS - Samsung SDS](https://news.google.com/rss/articles/CBMibkFVX3lxTE1qMC1EYjRZOEpMNVBEVVpSNm1BX3A4a3FrdmEyOTdDNWdjMGR1ZEgzWlpHZnRFZ1pSUXdKa3JnOXBQZU5qU3dKS3Q5VUNwLVZxRFZmbG1SZzJVSUoyM2lJbnZRbzhYYUJJcnFHWmp3?oc=5)\\n\\n3. [책7- OpenAI API, 랭체인 완벽 활용법 - 브런치](https://news.google.com/rss/articles/CBMiRkFVX3lxTE1JSVJ3QkJSODJJeFcwVzJCZXJIcUdsTjg4WWd2dzZkY3Y2dmZuX1g1bEJfX3d4LTRPam1CWXM5bjk5R0xxTmc?oc=5)\\n\\n4. [주목해야 할 5대 기술 전망 “AI·랭체인·클라우드 전문가·SLM·데이터 전문가” - GTT KOREA](https://news.google.com/rss/articles/CBMiakFVX3lxTE5SRG5pSjVLS0ZfZGZHQjN4Yk5jX0VqLWFCWFpDajdSRzhWTXNMZndzV09NWnkwMmlpaVRZWU14SjljR3BxOTVfRUxuMmwtbmhCTHhSMDJsZjU5MUVxcGg3NUN4ZlJoSHU0Q3fSAW5BVV95cUxNRG9weC15VUx4ZERDYmFZOF9DRExwWlRxLUFXRFJPNEhrSGpLNExkNFJDMng1YVoyY3hVcm82VW0wVW9tc1lWVDN0RjFEVUQ0RGlHWGQ5WWluMUNwRzQyQ3pCZTIwS0wtRlpGVGVFZw?oc=5)\\n\\n5. [무료다운로드] 랭체인 아키텍처 및 동작 메커니즘 분석 - 캐드앤그래픽스](https://news.google.com/rss/articles/CBMilgFBVV95cUxNSU1sWjc2anZORGZoY3RRcDVhckhyMlFjdWJETmVJYndGVmRfRllCUEZ4THo2UFpCVWRDdTNiWlVJemU4QW5mM2dPYWxhTmNPRHJwNG51dWp2QkFOUk1NbzNWTmlJcjVZSktRZUg2TFQyOVdoaWwzS3dNYlJxTm9rQjFIQkpScU9wT09pU0FZRmlLVGUzeEE?oc=5)\\n\\n이 기사가 랭체인에 대한 이해를 돕는 데 도움이 되길 바랍니다. 추가로 궁금한 점이 있으시면 언제든지 말씀해 주세요.\\n\\n감사합니다.\\n\\n이인환 드림\\n\\n--- \\n\\n이 내용이 도움이 되셨나요? 추가로 수정할 부분이 있으면 말씀해 주세요!', additional_kwargs={}, response_metadata={})]}\n",
      "\n",
      "====================================================================================================\n",
      "[output]: 아래는 윤정 대리님께 보내기 위해 작성한 이메일 내용입니다.\n",
      "\n",
      "---\n",
      "\n",
      "**수신인:** 윤정 대리님  \n",
      "**발신인:** 이인환\n",
      "\n",
      "---\n",
      "\n",
      "안녕하세요, 윤정 대리님.\n",
      "\n",
      "최근 랭체인에 대한 흥미로운 뉴스들을 찾아보았습니다. 아래에 관련된 기사들을 정리해 드립니다.\n",
      "\n",
      "1. [개발자를 위한 랭체인 기초 개념과 환경 설정법 - 요즘IT](https://news.google.com/rss/articles/CBMiWkFVX3lxTFBtcm1OMmpJOUxvdnlkd0M0dVFfaGhma3BrTDRaVEY2OXFwd2tfUTZHVkFNSkZJYkZLc0x2dzFWWDNldF9TaVhIU0NxSUxyMlpIRC1KNksyLWdNQQ?oc=5)\n",
      "   \n",
      "2. [랭체인 LangChain 이란 무엇인가? | 인사이트리포트 | 삼성SDS - Samsung SDS](https://news.google.com/rss/articles/CBMibkFVX3lxTE1qMC1EYjRZOEpMNVBEVVpSNm1BX3A4a3FrdmEyOTdDNWdjMGR1ZEgzWlpHZnRFZ1pSUXdKa3JnOXBQZU5qU3dKS3Q5VUNwLVZxRFZmbG1SZzJVSUoyM2lJbnZRbzhYYUJJcnFHWmp3?oc=5)\n",
      "\n",
      "3. [책7- OpenAI API, 랭체인 완벽 활용법 - 브런치](https://news.google.com/rss/articles/CBMiRkFVX3lxTE1JSVJ3QkJSODJJeFcwVzJCZXJIcUdsTjg4WWd2dzZkY3Y2dmZuX1g1bEJfX3d4LTRPam1CWXM5bjk5R0xxTmc?oc=5)\n",
      "\n",
      "4. [주목해야 할 5대 기술 전망 “AI·랭체인·클라우드 전문가·SLM·데이터 전문가” - GTT KOREA](https://news.google.com/rss/articles/CBMiakFVX3lxTE5SRG5pSjVLS0ZfZGZHQjN4Yk5jX0VqLWFCWFpDajdSRzhWTXNMZndzV09NWnkwMmlpaVRZWU14SjljR3BxOTVfRUxuMmwtbmhCTHhSMDJsZjU5MUVxcGg3NUN4ZlJoSHU0Q3fSAW5BVV95cUxNRG9weC15VUx4ZERDYmFZOF9DRExwWlRxLUFXRFJPNEhrSGpLNExkNFJDMng1YVoyY3hVcm82VW0wVW9tc1lWVDN0RjFEVUQ0RGlHWGQ5WWluMUNwRzQyQ3pCZTIwS0wtRlpGVGVFZw?oc=5)\n",
      "\n",
      "5. [무료다운로드] 랭체인 아키텍처 및 동작 메커니즘 분석 - 캐드앤그래픽스](https://news.google.com/rss/articles/CBMilgFBVV95cUxNSU1sWjc2anZORGZoY3RRcDVhckhyMlFjdWJETmVJYndGVmRfRllCUEZ4THo2UFpCVWRDdTNiWlVJemU4QW5mM2dPYWxhTmNPRHJwNG51dWp2QkFOUk1NbzNWTmlJcjVZSktRZUg2TFQyOVdoaWwzS3dNYlJxTm9rQjFIQkpScU9wT09pU0FZRmlLVGUzeEE?oc=5)\n",
      "\n",
      "이 기사가 랭체인에 대한 이해를 돕는 데 도움이 되길 바랍니다. 추가로 궁금한 점이 있으시면 언제든지 말씀해 주세요.\n",
      "\n",
      "감사합니다.\n",
      "\n",
      "이인환 드림\n",
      "\n",
      "--- \n",
      "\n",
      "이 내용이 도움이 되셨나요? 추가로 수정할 부분이 있으면 말씀해 주세요!\n",
      "Message: 아래는 윤정 대리님께 보내기 위해 작성한 이메일 내용입니다.\n",
      "\n",
      "---\n",
      "\n",
      "**수신인:** 윤정 대리님  \n",
      "**발신인:** 이인환\n",
      "\n",
      "---\n",
      "\n",
      "안녕하세요, 윤정 대리님.\n",
      "\n",
      "최근 랭체인에 대한 흥미로운 뉴스들을 찾아보았습니다. 아래에 관련된 기사들을 정리해 드립니다.\n",
      "\n",
      "1. [개발자를 위한 랭체인 기초 개념과 환경 설정법 - 요즘IT](https://news.google.com/rss/articles/CBMiWkFVX3lxTFBtcm1OMmpJOUxvdnlkd0M0dVFfaGhma3BrTDRaVEY2OXFwd2tfUTZHVkFNSkZJYkZLc0x2dzFWWDNldF9TaVhIU0NxSUxyMlpIRC1KNksyLWdNQQ?oc=5)\n",
      "   \n",
      "2. [랭체인 LangChain 이란 무엇인가? | 인사이트리포트 | 삼성SDS - Samsung SDS](https://news.google.com/rss/articles/CBMibkFVX3lxTE1qMC1EYjRZOEpMNVBEVVpSNm1BX3A4a3FrdmEyOTdDNWdjMGR1ZEgzWlpHZnRFZ1pSUXdKa3JnOXBQZU5qU3dKS3Q5VUNwLVZxRFZmbG1SZzJVSUoyM2lJbnZRbzhYYUJJcnFHWmp3?oc=5)\n",
      "\n",
      "3. [책7- OpenAI API, 랭체인 완벽 활용법 - 브런치](https://news.google.com/rss/articles/CBMiRkFVX3lxTE1JSVJ3QkJSODJJeFcwVzJCZXJIcUdsTjg4WWd2dzZkY3Y2dmZuX1g1bEJfX3d4LTRPam1CWXM5bjk5R0xxTmc?oc=5)\n",
      "\n",
      "4. [주목해야 할 5대 기술 전망 “AI·랭체인·클라우드 전문가·SLM·데이터 전문가” - GTT KOREA](https://news.google.com/rss/articles/CBMiakFVX3lxTE5SRG5pSjVLS0ZfZGZHQjN4Yk5jX0VqLWFCWFpDajdSRzhWTXNMZndzV09NWnkwMmlpaVRZWU14SjljR3BxOTVfRUxuMmwtbmhCTHhSMDJsZjU5MUVxcGg3NUN4ZlJoSHU0Q3fSAW5BVV95cUxNRG9weC15VUx4ZERDYmFZOF9DRExwWlRxLUFXRFJPNEhrSGpLNExkNFJDMng1YVoyY3hVcm82VW0wVW9tc1lWVDN0RjFEVUQ0RGlHWGQ5WWluMUNwRzQyQ3pCZTIwS0wtRlpGVGVFZw?oc=5)\n",
      "\n",
      "5. [무료다운로드] 랭체인 아키텍처 및 동작 메커니즘 분석 - 캐드앤그래픽스](https://news.google.com/rss/articles/CBMilgFBVV95cUxNSU1sWjc2anZORGZoY3RRcDVhckhyMlFjdWJETmVJYndGVmRfRllCUEZ4THo2UFpCVWRDdTNiWlVJemU4QW5mM2dPYWxhTmNPRHJwNG51dWp2QkFOUk1NbzNWTmlJcjVZSktRZUg2TFQyOVdoaWwzS3dNYlJxTm9rQjFIQkpScU9wT09pU0FZRmlLVGUzeEE?oc=5)\n",
      "\n",
      "이 기사가 랭체인에 대한 이해를 돕는 데 도움이 되길 바랍니다. 추가로 궁금한 점이 있으시면 언제든지 말씀해 주세요.\n",
      "\n",
      "감사합니다.\n",
      "\n",
      "이인환 드림\n",
      "\n",
      "--- \n",
      "\n",
      "이 내용이 도움이 되셨나요? 추가로 수정할 부분이 있으면 말씀해 주세요!\n"
     ]
    }
   ],
   "source": [
    "response = agent_with_chat_history.stream(\n",
    "    {'input': '윤정 대리님께 보내기 위해 작성한 이메일 내용을 알려줘'}, \n",
    "    config={'configurable': {'session_id': 'abc123'}}\n",
    ")\n",
    "\n",
    "for step in response:\n",
    "    print('step:', step)\n",
    "    print()\n",
    "    print('==' * 50)\n",
    "\n",
    "    if 'actions' in step:\n",
    "        print(f'[actions]')\n",
    "\n",
    "        for action in step['actions']:\n",
    "            print(f\"사용 도구 이름 : {action.tool}\")\n",
    "            print(f\"입력 쿼리 : {action.tool_input}\")\n",
    "            print(f\"Log: {action.log}\")\n",
    "\n",
    "    elif 'steps' in step:\n",
    "        print(f'[steps]')\n",
    "\n",
    "        for agent_step in step['steps']:\n",
    "            # print(\"Action:\")\n",
    "            print(f\"사용 도구 이름 : {agent_step.action.tool}\")\n",
    "            print(f\"입력 쿼리 : {agent_step.action.tool_input}\")\n",
    "            print(f\"  Log: {agent_step.action.log}\")\n",
    "            print(f\"Observation: {agent_step.observation}\")\n",
    "\n",
    "\n",
    "    elif 'output' in step:\n",
    "        print(f\"[output]: {step['output']}\")\n",
    "\n",
    "        if 'messages' in step:\n",
    "            for message in step['messages']:\n",
    "                print(f\"Message: {message.content}\")  "
   ]
  }
 ],
 "metadata": {
  "kernelspec": {
   "display_name": "venv",
   "language": "python",
   "name": "python3"
  },
  "language_info": {
   "codemirror_mode": {
    "name": "ipython",
    "version": 3
   },
   "file_extension": ".py",
   "mimetype": "text/x-python",
   "name": "python",
   "nbconvert_exporter": "python",
   "pygments_lexer": "ipython3",
   "version": "3.11.9"
  }
 },
 "nbformat": 4,
 "nbformat_minor": 2
}
