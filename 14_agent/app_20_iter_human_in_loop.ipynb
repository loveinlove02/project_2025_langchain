{
 "cells": [
  {
   "cell_type": "code",
   "execution_count": 27,
   "metadata": {},
   "outputs": [],
   "source": [
    "from dotenv import load_dotenv\n",
    "import os\n",
    "\n",
    "load_dotenv(verbose=True)\n",
    "key = os.getenv('OPENAI_API_KEY')"
   ]
  },
  {
   "cell_type": "markdown",
   "metadata": {},
   "source": [
    "### 도구(tool)를 정의"
   ]
  },
  {
   "cell_type": "code",
   "execution_count": 28,
   "metadata": {},
   "outputs": [],
   "source": [
    "from langchain.tools import tool\n",
    "\n",
    "@tool\n",
    "def add_function(a: float, b: float) -> float:\n",
    "    \"\"\"Adds two numbers together\"\"\"\n",
    "\n",
    "    return a + b"
   ]
  },
  {
   "cell_type": "markdown",
   "metadata": {},
   "source": [
    "`add_function` 을 사용하여 덧셈 계산을 수행하는 agent를 정의"
   ]
  },
  {
   "cell_type": "code",
   "execution_count": 29,
   "metadata": {},
   "outputs": [],
   "source": [
    "from langchain_openai import ChatOpenAI\n",
    "from langchain_core.prompts import ChatPromptTemplate\n",
    "from langchain_core.prompts import MessagesPlaceholder"
   ]
  },
  {
   "cell_type": "code",
   "execution_count": 30,
   "metadata": {},
   "outputs": [],
   "source": [
    "from langchain.agents import create_tool_calling_agent\n",
    "from langchain.agents import AgentExecutor"
   ]
  },
  {
   "cell_type": "code",
   "execution_count": 31,
   "metadata": {},
   "outputs": [],
   "source": [
    "tools = [add_function]                     # 도구 정의"
   ]
  },
  {
   "cell_type": "code",
   "execution_count": 32,
   "metadata": {},
   "outputs": [],
   "source": [
    "llm = ChatOpenAI(                   \n",
    "    api_key=key, \n",
    "    model='gpt-4o-mini', \n",
    "    temperature=0\n",
    ")"
   ]
  },
  {
   "cell_type": "code",
   "execution_count": 33,
   "metadata": {},
   "outputs": [],
   "source": [
    "prompt = ChatPromptTemplate.from_messages(  # 프롬프트\n",
    "    [\n",
    "        (\n",
    "            'system',\n",
    "            'You are a helpful assistant.',\n",
    "        ),\n",
    "        (\"human\", \"{input}\"),\n",
    "        MessagesPlaceholder(variable_name=\"agent_scratchpad\"),\n",
    "    ]\n",
    ")"
   ]
  },
  {
   "cell_type": "code",
   "execution_count": 34,
   "metadata": {},
   "outputs": [],
   "source": [
    "agent = create_tool_calling_agent(llm, tools, prompt)       # 에이전트"
   ]
  },
  {
   "cell_type": "code",
   "execution_count": 35,
   "metadata": {},
   "outputs": [],
   "source": [
    "agent_executor = AgentExecutor(\n",
    "    agent=agent, \n",
    "    tools=tools, \n",
    "    verbose=True,\n",
    "    handle_parsing_errors=True\n",
    ")"
   ]
  },
  {
   "cell_type": "markdown",
   "metadata": {},
   "source": [
    "### **AgentExecutor의 iter()**\n",
    "\n",
    "AgentExecutor의 실행 과정을 단계별로 반복할 수 있게 해주는 반복자(iterator)를 생성합니다. \n",
    "<br><br>\n",
    "\n",
    "에이전트가 최종 출력에 도달하기까지 거치는 단계들을 순차적으로 접근할 수 있는 AgentExecutorIterator 객체를 반환합니다.\n",
    "<br><br>\n",
    "\n",
    "`iter()` 에 질문을 넣게 되면 중간 단계라는 것을 받아올 수 있습니다. <br>\n",
    "`setp.get()` 으로 결과를 action, value로 구분해서 받을 수 있습니다. <br>\n",
    "action에서 `action.tool`로 도구(tool)이름을 비교해서 도구를 호출 했었으면 시행결과가 value에 저장됩니다.<br> \n",
    "그런다음 사용자가 `input()`를 통해서 계속 진행할 것인지 물어보게 되고 답변에 따라서 계속 진행 또는 멈추게 됩니다.<br>\n",
    "<br>\n",
    "\n",
    "`'114.5 + 121.2 + 34.2 + 110.1'` 덧셈 계산을 수행하기 위해서는 단계별로 계산이 수행되게 됩니다. <br>\n",
    "\n",
    "1. 114.5 + 121.2 = 235.7\n",
    "2. 235.7 + 34.2 = 270.9\n",
    "3. 270.9 + 110.1 = 381.0\n",
    "<br>\n",
    "\n",
    "이러한 계산 과정을 단계별로 살펴볼 수 있습니다.\n",
    "<br>\n",
    "\n",
    "단계별로 계산 결과를 사용자에게 보여주고, 사용자가 계속 진행할지 묻습니다. (Human-in-the-loop) <br>\n",
    "\n",
    "사용자가 'y'가 아닌 다른 입력을 하면 반복 중단됩니다."
   ]
  },
  {
   "cell_type": "code",
   "execution_count": 36,
   "metadata": {},
   "outputs": [
    {
     "name": "stdout",
     "output_type": "stream",
     "text": [
      "\n",
      "\n",
      "\u001b[1m> Entering new None chain...\u001b[0m\n",
      "\u001b[32;1m\u001b[1;3m\n",
      "Invoking: `add_function` with `{'a': 114.5, 'b': 121.2}`\n",
      "\n",
      "\n",
      "\u001b[0m\u001b[36;1m\u001b[1;3m235.7\u001b[0m\u001b[32;1m\u001b[1;3m\n",
      "Invoking: `add_function` with `{'a': 34.2, 'b': 110.1}`\n",
      "\n",
      "\n",
      "\u001b[0m\u001b[36;1m\u001b[1;3m144.3\u001b[0m{'intermediate_step': [(ToolAgentAction(tool='add_function', tool_input={'a': 114.5, 'b': 121.2}, log=\"\\nInvoking: `add_function` with `{'a': 114.5, 'b': 121.2}`\\n\\n\\n\", message_log=[AIMessageChunk(content='', additional_kwargs={'tool_calls': [{'index': 0, 'id': 'call_Bc0KLP3coJIGJLyzEJV1kbhR', 'function': {'arguments': '{\"a\": 114.5, \"b\": 121.2}', 'name': 'add_function'}, 'type': 'function'}, {'index': 1, 'id': 'call_4lXot0AoSy0QErnOD4uPqC76', 'function': {'arguments': '{\"a\": 34.2, \"b\": 110.1}', 'name': 'add_function'}, 'type': 'function'}]}, response_metadata={'finish_reason': 'tool_calls', 'model_name': 'gpt-4o-mini-2024-07-18', 'system_fingerprint': 'fp_00428b782a'}, id='run-29f24ba2-932c-447a-bfe5-64dbd85a804f', tool_calls=[{'name': 'add_function', 'args': {'a': 114.5, 'b': 121.2}, 'id': 'call_Bc0KLP3coJIGJLyzEJV1kbhR', 'type': 'tool_call'}, {'name': 'add_function', 'args': {'a': 34.2, 'b': 110.1}, 'id': 'call_4lXot0AoSy0QErnOD4uPqC76', 'type': 'tool_call'}], tool_call_chunks=[{'name': 'add_function', 'args': '{\"a\": 114.5, \"b\": 121.2}', 'id': 'call_Bc0KLP3coJIGJLyzEJV1kbhR', 'index': 0, 'type': 'tool_call_chunk'}, {'name': 'add_function', 'args': '{\"a\": 34.2, \"b\": 110.1}', 'id': 'call_4lXot0AoSy0QErnOD4uPqC76', 'index': 1, 'type': 'tool_call_chunk'}])], tool_call_id='call_Bc0KLP3coJIGJLyzEJV1kbhR'), 235.7), (ToolAgentAction(tool='add_function', tool_input={'a': 34.2, 'b': 110.1}, log=\"\\nInvoking: `add_function` with `{'a': 34.2, 'b': 110.1}`\\n\\n\\n\", message_log=[AIMessageChunk(content='', additional_kwargs={'tool_calls': [{'index': 0, 'id': 'call_Bc0KLP3coJIGJLyzEJV1kbhR', 'function': {'arguments': '{\"a\": 114.5, \"b\": 121.2}', 'name': 'add_function'}, 'type': 'function'}, {'index': 1, 'id': 'call_4lXot0AoSy0QErnOD4uPqC76', 'function': {'arguments': '{\"a\": 34.2, \"b\": 110.1}', 'name': 'add_function'}, 'type': 'function'}]}, response_metadata={'finish_reason': 'tool_calls', 'model_name': 'gpt-4o-mini-2024-07-18', 'system_fingerprint': 'fp_00428b782a'}, id='run-29f24ba2-932c-447a-bfe5-64dbd85a804f', tool_calls=[{'name': 'add_function', 'args': {'a': 114.5, 'b': 121.2}, 'id': 'call_Bc0KLP3coJIGJLyzEJV1kbhR', 'type': 'tool_call'}, {'name': 'add_function', 'args': {'a': 34.2, 'b': 110.1}, 'id': 'call_4lXot0AoSy0QErnOD4uPqC76', 'type': 'tool_call'}], tool_call_chunks=[{'name': 'add_function', 'args': '{\"a\": 114.5, \"b\": 121.2}', 'id': 'call_Bc0KLP3coJIGJLyzEJV1kbhR', 'index': 0, 'type': 'tool_call_chunk'}, {'name': 'add_function', 'args': '{\"a\": 34.2, \"b\": 110.1}', 'id': 'call_4lXot0AoSy0QErnOD4uPqC76', 'index': 1, 'type': 'tool_call_chunk'}])], tool_call_id='call_4lXot0AoSy0QErnOD4uPqC76'), 144.3)]}\n",
      "\u001b[32;1m\u001b[1;3m\n",
      "Invoking: `add_function` with `{'a': 235.7, 'b': 144.3}`\n",
      "\n",
      "\n",
      "\u001b[0m\u001b[36;1m\u001b[1;3m380.0\u001b[0m{'intermediate_step': [(ToolAgentAction(tool='add_function', tool_input={'a': 235.7, 'b': 144.3}, log=\"\\nInvoking: `add_function` with `{'a': 235.7, 'b': 144.3}`\\n\\n\\n\", message_log=[AIMessageChunk(content='', additional_kwargs={'tool_calls': [{'index': 0, 'id': 'call_jK8RqHlltw59q4DBeFnOo2hR', 'function': {'arguments': '{\"a\":235.7,\"b\":144.3}', 'name': 'add_function'}, 'type': 'function'}]}, response_metadata={'finish_reason': 'tool_calls', 'model_name': 'gpt-4o-mini-2024-07-18', 'system_fingerprint': 'fp_00428b782a'}, id='run-1cbc4ca0-b31a-42a7-9cbd-247a5201cd53', tool_calls=[{'name': 'add_function', 'args': {'a': 235.7, 'b': 144.3}, 'id': 'call_jK8RqHlltw59q4DBeFnOo2hR', 'type': 'tool_call'}], tool_call_chunks=[{'name': 'add_function', 'args': '{\"a\":235.7,\"b\":144.3}', 'id': 'call_jK8RqHlltw59q4DBeFnOo2hR', 'index': 0, 'type': 'tool_call_chunk'}])], tool_call_id='call_jK8RqHlltw59q4DBeFnOo2hR'), 380.0)]}\n",
      "\u001b[32;1m\u001b[1;3m114.5 + 121.2 + 34.2 + 110.1의 계산 결과는 380.0입니다.\u001b[0m\n",
      "\n",
      "\u001b[1m> Finished chain.\u001b[0m\n",
      "{'output': '114.5 + 121.2 + 34.2 + 110.1의 계산 결과는 380.0입니다.', 'messages': [AIMessage(content='114.5 + 121.2 + 34.2 + 110.1의 계산 결과는 380.0입니다.', additional_kwargs={}, response_metadata={})]}\n"
     ]
    }
   ],
   "source": [
    "question = \"114.5 + 121.2 + 34.2 + 110.1 의 계산 결과는?\"\n",
    "\n",
    "for step in agent_executor.iter({'input': question}):\n",
    "    print(step)"
   ]
  },
  {
   "cell_type": "code",
   "execution_count": 37,
   "metadata": {},
   "outputs": [
    {
     "name": "stdout",
     "output_type": "stream",
     "text": [
      "\n",
      "\n",
      "\u001b[1m> Entering new None chain...\u001b[0m\n",
      "\u001b[32;1m\u001b[1;3m\n",
      "Invoking: `add_function` with `{'a': 114.5, 'b': 121.2}`\n",
      "\n",
      "\n",
      "\u001b[0m\u001b[36;1m\u001b[1;3m235.7\u001b[0m\u001b[32;1m\u001b[1;3m\n",
      "Invoking: `add_function` with `{'a': 34.2, 'b': 110.1}`\n",
      "\n",
      "\n",
      "\u001b[0m\u001b[36;1m\u001b[1;3m144.3\u001b[0m\n",
      "==================================================\n",
      "\n",
      "[output]: [(ToolAgentAction(tool='add_function', tool_input={'a': 114.5, 'b': 121.2}, log=\"\\nInvoking: `add_function` with `{'a': 114.5, 'b': 121.2}`\\n\\n\\n\", message_log=[AIMessageChunk(content='', additional_kwargs={'tool_calls': [{'index': 0, 'id': 'call_tKvu88xBfDQtYiaUT0bDx5bd', 'function': {'arguments': '{\"a\": 114.5, \"b\": 121.2}', 'name': 'add_function'}, 'type': 'function'}, {'index': 1, 'id': 'call_xn33agUmvCcRvvsKTPA1x1Cg', 'function': {'arguments': '{\"a\": 34.2, \"b\": 110.1}', 'name': 'add_function'}, 'type': 'function'}]}, response_metadata={'finish_reason': 'tool_calls', 'model_name': 'gpt-4o-mini-2024-07-18', 'system_fingerprint': 'fp_13eed4fce1'}, id='run-19cfea86-91a6-4a52-b125-2fb87a4ac07c', tool_calls=[{'name': 'add_function', 'args': {'a': 114.5, 'b': 121.2}, 'id': 'call_tKvu88xBfDQtYiaUT0bDx5bd', 'type': 'tool_call'}, {'name': 'add_function', 'args': {'a': 34.2, 'b': 110.1}, 'id': 'call_xn33agUmvCcRvvsKTPA1x1Cg', 'type': 'tool_call'}], tool_call_chunks=[{'name': 'add_function', 'args': '{\"a\": 114.5, \"b\": 121.2}', 'id': 'call_tKvu88xBfDQtYiaUT0bDx5bd', 'index': 0, 'type': 'tool_call_chunk'}, {'name': 'add_function', 'args': '{\"a\": 34.2, \"b\": 110.1}', 'id': 'call_xn33agUmvCcRvvsKTPA1x1Cg', 'index': 1, 'type': 'tool_call_chunk'}])], tool_call_id='call_tKvu88xBfDQtYiaUT0bDx5bd'), 235.7), (ToolAgentAction(tool='add_function', tool_input={'a': 34.2, 'b': 110.1}, log=\"\\nInvoking: `add_function` with `{'a': 34.2, 'b': 110.1}`\\n\\n\\n\", message_log=[AIMessageChunk(content='', additional_kwargs={'tool_calls': [{'index': 0, 'id': 'call_tKvu88xBfDQtYiaUT0bDx5bd', 'function': {'arguments': '{\"a\": 114.5, \"b\": 121.2}', 'name': 'add_function'}, 'type': 'function'}, {'index': 1, 'id': 'call_xn33agUmvCcRvvsKTPA1x1Cg', 'function': {'arguments': '{\"a\": 34.2, \"b\": 110.1}', 'name': 'add_function'}, 'type': 'function'}]}, response_metadata={'finish_reason': 'tool_calls', 'model_name': 'gpt-4o-mini-2024-07-18', 'system_fingerprint': 'fp_13eed4fce1'}, id='run-19cfea86-91a6-4a52-b125-2fb87a4ac07c', tool_calls=[{'name': 'add_function', 'args': {'a': 114.5, 'b': 121.2}, 'id': 'call_tKvu88xBfDQtYiaUT0bDx5bd', 'type': 'tool_call'}, {'name': 'add_function', 'args': {'a': 34.2, 'b': 110.1}, 'id': 'call_xn33agUmvCcRvvsKTPA1x1Cg', 'type': 'tool_call'}], tool_call_chunks=[{'name': 'add_function', 'args': '{\"a\": 114.5, \"b\": 121.2}', 'id': 'call_tKvu88xBfDQtYiaUT0bDx5bd', 'index': 0, 'type': 'tool_call_chunk'}, {'name': 'add_function', 'args': '{\"a\": 34.2, \"b\": 110.1}', 'id': 'call_xn33agUmvCcRvvsKTPA1x1Cg', 'index': 1, 'type': 'tool_call_chunk'}])], tool_call_id='call_xn33agUmvCcRvvsKTPA1x1Cg'), 144.3)]\n",
      "action : tool='add_function' tool_input={'a': 114.5, 'b': 121.2} log=\"\\nInvoking: `add_function` with `{'a': 114.5, 'b': 121.2}`\\n\\n\\n\" message_log=[AIMessageChunk(content='', additional_kwargs={'tool_calls': [{'index': 0, 'id': 'call_tKvu88xBfDQtYiaUT0bDx5bd', 'function': {'arguments': '{\"a\": 114.5, \"b\": 121.2}', 'name': 'add_function'}, 'type': 'function'}, {'index': 1, 'id': 'call_xn33agUmvCcRvvsKTPA1x1Cg', 'function': {'arguments': '{\"a\": 34.2, \"b\": 110.1}', 'name': 'add_function'}, 'type': 'function'}]}, response_metadata={'finish_reason': 'tool_calls', 'model_name': 'gpt-4o-mini-2024-07-18', 'system_fingerprint': 'fp_13eed4fce1'}, id='run-19cfea86-91a6-4a52-b125-2fb87a4ac07c', tool_calls=[{'name': 'add_function', 'args': {'a': 114.5, 'b': 121.2}, 'id': 'call_tKvu88xBfDQtYiaUT0bDx5bd', 'type': 'tool_call'}, {'name': 'add_function', 'args': {'a': 34.2, 'b': 110.1}, 'id': 'call_xn33agUmvCcRvvsKTPA1x1Cg', 'type': 'tool_call'}], tool_call_chunks=[{'name': 'add_function', 'args': '{\"a\": 114.5, \"b\": 121.2}', 'id': 'call_tKvu88xBfDQtYiaUT0bDx5bd', 'index': 0, 'type': 'tool_call_chunk'}, {'name': 'add_function', 'args': '{\"a\": 34.2, \"b\": 110.1}', 'id': 'call_xn33agUmvCcRvvsKTPA1x1Cg', 'index': 1, 'type': 'tool_call_chunk'}])] tool_call_id='call_tKvu88xBfDQtYiaUT0bDx5bd'\n",
      "value  : 235.7\n",
      "==================================================\n",
      "\u001b[32;1m\u001b[1;3m\n",
      "Invoking: `add_function` with `{'a': 235.7, 'b': 144.3}`\n",
      "\n",
      "\n",
      "\u001b[0m\u001b[36;1m\u001b[1;3m380.0\u001b[0m\n",
      "==================================================\n",
      "\n",
      "[output]: [(ToolAgentAction(tool='add_function', tool_input={'a': 235.7, 'b': 144.3}, log=\"\\nInvoking: `add_function` with `{'a': 235.7, 'b': 144.3}`\\n\\n\\n\", message_log=[AIMessageChunk(content='', additional_kwargs={'tool_calls': [{'index': 0, 'id': 'call_4BvfeqhvxWwhtnu8grnqivYH', 'function': {'arguments': '{\"a\":235.7,\"b\":144.3}', 'name': 'add_function'}, 'type': 'function'}]}, response_metadata={'finish_reason': 'tool_calls', 'model_name': 'gpt-4o-mini-2024-07-18', 'system_fingerprint': 'fp_13eed4fce1'}, id='run-e43782f7-8b00-43cd-8eb9-394fbb9cb909', tool_calls=[{'name': 'add_function', 'args': {'a': 235.7, 'b': 144.3}, 'id': 'call_4BvfeqhvxWwhtnu8grnqivYH', 'type': 'tool_call'}], tool_call_chunks=[{'name': 'add_function', 'args': '{\"a\":235.7,\"b\":144.3}', 'id': 'call_4BvfeqhvxWwhtnu8grnqivYH', 'index': 0, 'type': 'tool_call_chunk'}])], tool_call_id='call_4BvfeqhvxWwhtnu8grnqivYH'), 380.0)]\n",
      "action : tool='add_function' tool_input={'a': 235.7, 'b': 144.3} log=\"\\nInvoking: `add_function` with `{'a': 235.7, 'b': 144.3}`\\n\\n\\n\" message_log=[AIMessageChunk(content='', additional_kwargs={'tool_calls': [{'index': 0, 'id': 'call_4BvfeqhvxWwhtnu8grnqivYH', 'function': {'arguments': '{\"a\":235.7,\"b\":144.3}', 'name': 'add_function'}, 'type': 'function'}]}, response_metadata={'finish_reason': 'tool_calls', 'model_name': 'gpt-4o-mini-2024-07-18', 'system_fingerprint': 'fp_13eed4fce1'}, id='run-e43782f7-8b00-43cd-8eb9-394fbb9cb909', tool_calls=[{'name': 'add_function', 'args': {'a': 235.7, 'b': 144.3}, 'id': 'call_4BvfeqhvxWwhtnu8grnqivYH', 'type': 'tool_call'}], tool_call_chunks=[{'name': 'add_function', 'args': '{\"a\":235.7,\"b\":144.3}', 'id': 'call_4BvfeqhvxWwhtnu8grnqivYH', 'index': 0, 'type': 'tool_call_chunk'}])] tool_call_id='call_4BvfeqhvxWwhtnu8grnqivYH'\n",
      "value  : 380.0\n",
      "==================================================\n",
      "\u001b[32;1m\u001b[1;3m114.5 + 121.2 + 34.2 + 110.1의 계산 결과는 380.0입니다.\u001b[0m\n",
      "\n",
      "\u001b[1m> Finished chain.\u001b[0m\n"
     ]
    }
   ],
   "source": [
    "question = \"114.5 + 121.2 + 34.2 + 110.1 의 계산 결과는?\"\n",
    "\n",
    "for step in agent_executor.iter({'input': question}):       # input 에 질문을 넣고 실행\n",
    "    if output := step.get('intermediate_step'):             # intermediate_step 중간 단계를 얻는다\n",
    "        action, value = output[0]                           # 결과를 action, value로 구분해서 넣는다\n",
    "        \n",
    "        print()\n",
    "        print('=' * 50)\n",
    "        print(f'\\n[output]: {output}')\n",
    "        print(f'action : {action}')\n",
    "        print(f'value  : {value}')\n",
    "        print('=' * 50)"
   ]
  },
  {
   "cell_type": "code",
   "execution_count": 38,
   "metadata": {},
   "outputs": [
    {
     "name": "stdout",
     "output_type": "stream",
     "text": [
      "\n",
      "\n",
      "\u001b[1m> Entering new None chain...\u001b[0m\n",
      "\u001b[32;1m\u001b[1;3m\n",
      "Invoking: `add_function` with `{'a': 114.5, 'b': 121.2}`\n",
      "\n",
      "\n",
      "\u001b[0m\u001b[36;1m\u001b[1;3m235.7\u001b[0m\u001b[32;1m\u001b[1;3m\n",
      "Invoking: `add_function` with `{'a': 34.2, 'b': 110.1}`\n",
      "\n",
      "\n",
      "\u001b[0m\u001b[36;1m\u001b[1;3m144.3\u001b[0mTool Name: add_function, 실행 결과: 235.7\n",
      "\u001b[32;1m\u001b[1;3m\n",
      "Invoking: `add_function` with `{'a': 235.7, 'b': 144.3}`\n",
      "\n",
      "\n",
      "\u001b[0m\u001b[36;1m\u001b[1;3m380.0\u001b[0mTool Name: add_function, 실행 결과: 380.0\n",
      "\u001b[32;1m\u001b[1;3m114.5 + 121.2 + 34.2 + 110.1의 계산 결과는 380.0입니다.\u001b[0m\n",
      "\n",
      "\u001b[1m> Finished chain.\u001b[0m\n"
     ]
    }
   ],
   "source": [
    "for step in agent_executor.iter({'input': question}):       # input 에 질문을 넣고 실행\n",
    "    if output := step.get('intermediate_step'):             # intermediate_step 중간 단계를 얻는다\n",
    "        action, value = output[0]                           # 결과를 action, value로 구분해서 넣는다\n",
    "\n",
    "        # print(f'action : {action}')\n",
    "        # print(f'value  : {value}')\n",
    "        \n",
    "        if action.tool == 'add_function':                                   # action.tool 의 값이 add_function 이면 add_function 도구를 호출했다          \n",
    "            print(f'Tool Name: {action.tool}, 실행 결과: {value}')          # Tool 실행 결과 출력\n",
    "            \n",
    "        _continue = input(\"계속 진행하시겠습니까? (y/n)?:\\n\") or \"Y\"        # 사용자에게 계속 진행할지 질문한다\n",
    "        \n",
    "        if _continue.lower() != \"y\":                                        # 사용자가 'y'가 아닌 다른 입력을 하면 반복 중단\n",
    "            break"
   ]
  }
 ],
 "metadata": {
  "kernelspec": {
   "display_name": "venv",
   "language": "python",
   "name": "python3"
  },
  "language_info": {
   "codemirror_mode": {
    "name": "ipython",
    "version": 3
   },
   "file_extension": ".py",
   "mimetype": "text/x-python",
   "name": "python",
   "nbconvert_exporter": "python",
   "pygments_lexer": "ipython3",
   "version": "3.11.9"
  }
 },
 "nbformat": 4,
 "nbformat_minor": 2
}
