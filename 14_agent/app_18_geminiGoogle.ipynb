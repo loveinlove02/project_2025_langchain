{
 "cells": [
  {
   "cell_type": "code",
   "execution_count": 1,
   "metadata": {},
   "outputs": [],
   "source": [
    "from dotenv import load_dotenv\n",
    "import os\n",
    "\n",
    "load_dotenv(verbose=True)\n",
    "key = os.getenv('OPENAI_API_KEY')\n",
    "google_key = os.getenv('GOOGLE_API_KEY')"
   ]
  },
  {
   "cell_type": "code",
   "execution_count": 2,
   "metadata": {},
   "outputs": [],
   "source": [
    "from langchain_google_genai import ChatGoogleGenerativeAI"
   ]
  },
  {
   "cell_type": "code",
   "execution_count": 3,
   "metadata": {},
   "outputs": [],
   "source": [
    "from langchain_teddynote.messages import stream_response"
   ]
  },
  {
   "cell_type": "code",
   "execution_count": 7,
   "metadata": {},
   "outputs": [],
   "source": [
    "llm = ChatGoogleGenerativeAI(\n",
    "    api_key=google_key, \n",
    "    model=\"gemini-1.5-pro-latest\"\n",
    ")"
   ]
  },
  {
   "cell_type": "code",
   "execution_count": 8,
   "metadata": {},
   "outputs": [],
   "source": [
    "answer = llm.stream(\"랭체인에 대해서 간략히 설명해 줘\")"
   ]
  },
  {
   "cell_type": "code",
   "execution_count": 9,
   "metadata": {},
   "outputs": [
    {
     "name": "stdout",
     "output_type": "stream",
     "text": [
      "랭체인(LangChain)은 대규모 언어 모델(LLM)을 활용한 애플리케이션 개발을 간소화하는 프레임워크입니다. LLM 자체만으로는 할 수 없는 복잡한 작업을 수행하는 애플리케이션을 구축하는 데 필요한 구성 요소를 제공합니다.\n",
      "\n",
      "핵심 아이디어는 LLM을 다른 도구나 데이터 소스와 연결하여 \"체인\"을 형성하는 것입니다.  이러한 체인을 통해 LLM은 다음과 같은 기능을 수행할 수 있습니다:\n",
      "\n",
      "* **외부 데이터 접근:** LLM은 랭체인을 통해 데이터베이스, API, 또는 특정 문서에 접근하여 최신 정보를 바탕으로 응답을 생성할 수 있습니다.\n",
      "* **계산 수행:** LLM은 자체적으로 복잡한 계산을 수행하기 어렵지만, 랭체인을 통해 계산기를 호출하여 정확한 결과를 제공할 수 있습니다.\n",
      "* **행동 주도:** LLM은 랭체인을 사용하여 특정 행동을 시작할 수 있습니다. 예를 들어, 이메일 전송 또는 다른 시스템과의 상호 작용이 가능합니다.\n",
      "\n",
      "랭체인은 다양한 모듈을 제공하여 이러한 체인을 쉽게 구축하고 관리할 수 있도록 지원합니다:\n",
      "\n",
      "* **모델:** OpenAI, Hugging Face 등 다양한 LLM을 쉽게 통합할 수 있습니다.\n",
      "* **프롬프트:** 프롬프트 템플릿, 예시, 그리고 체인을 통해 LLM에 효과적인 프롬프트를 제공할 수 있습니다.\n",
      "* **메모리:** 이전 상호작용을 기억하여 대화의 맥락을 유지할 수 있습니다.\n",
      "* **인덱스:** 외부 데이터를 LLM이 사용하기 쉬운 형태로 구성합니다.\n",
      "* **체인:** 다양한 구성 요소를 연결하여 복잡한 워크플로우를 생성합니다.\n",
      "* **콜백:** 애플리케이션의 다른 부분과 통합하고 모니터링 기능을 제공합니다.\n",
      "\n",
      "간단히 말해, 랭체인은 LLM을 더욱 강력하고 유용하게 만들어주는 도구 상자와 같습니다.  LLM의 잠재력을 최대한 활용하여 다양한 애플리케이션을 개발하고자 한다면 랭체인은 훌륭한 선택입니다."
     ]
    }
   ],
   "source": [
    "stream_response(answer)"
   ]
  },
  {
   "cell_type": "code",
   "execution_count": 10,
   "metadata": {},
   "outputs": [],
   "source": [
    "from langchain_teddynote.messages import stream_response\n",
    "from langchain_core.prompts import PromptTemplate"
   ]
  },
  {
   "cell_type": "code",
   "execution_count": 11,
   "metadata": {},
   "outputs": [
    {
     "name": "stdout",
     "output_type": "stream",
     "text": [
      "네."
     ]
    }
   ],
   "source": [
    "# ChatGoogleGenerativeAI 언어 모델을 초기화합니다.\n",
    "model = ChatGoogleGenerativeAI(\n",
    "    api_key=google_key, \n",
    "    model=\"gemini-1.5-pro-latest\"\n",
    ")\n",
    "\n",
    "# 프롬프트를 생성합니다.\n",
    "prompt = PromptTemplate.from_template(\n",
    "    \"예/아니오 질문에 대답하세요. {question}는 과일입니까?\"\n",
    ")\n",
    "\n",
    "# 체인을 생성합니다.\n",
    "chain = prompt | model\n",
    "\n",
    "# 결과를 출력합니다.\n",
    "stream_response(chain.stream({\"question\": \"사과\"}))"
   ]
  }
 ],
 "metadata": {
  "kernelspec": {
   "display_name": "venv",
   "language": "python",
   "name": "python3"
  },
  "language_info": {
   "codemirror_mode": {
    "name": "ipython",
    "version": 3
   },
   "file_extension": ".py",
   "mimetype": "text/x-python",
   "name": "python",
   "nbconvert_exporter": "python",
   "pygments_lexer": "ipython3",
   "version": "3.11.9"
  }
 },
 "nbformat": 4,
 "nbformat_minor": 2
}
