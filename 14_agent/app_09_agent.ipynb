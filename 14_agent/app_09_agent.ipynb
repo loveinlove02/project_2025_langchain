{
 "cells": [
  {
   "cell_type": "code",
   "execution_count": 12,
   "metadata": {},
   "outputs": [],
   "source": [
    "from dotenv import load_dotenv\n",
    "import os\n",
    "\n",
    "load_dotenv(verbose=True)\n",
    "key = os.getenv('OPENAI_API_KEY')"
   ]
  },
  {
   "cell_type": "code",
   "execution_count": 13,
   "metadata": {},
   "outputs": [],
   "source": [
    "from langchain.agents import tool\n",
    "from typing import List, Dict, Annotated"
   ]
  },
  {
   "cell_type": "code",
   "execution_count": 14,
   "metadata": {},
   "outputs": [],
   "source": [
    "from langchain_teddynote.tools import GoogleNews\n",
    "from langchain_experimental.utilities import PythonREPL"
   ]
  },
  {
   "cell_type": "code",
   "execution_count": 15,
   "metadata": {},
   "outputs": [],
   "source": [
    "from langchain_openai import ChatOpenAI\n",
    "from langchain_core.prompts import ChatPromptTemplate, MessagesPlaceholder\n",
    "from langchain.agents import create_tool_calling_agent\n",
    "from langchain.agents import AgentExecutor"
   ]
  },
  {
   "cell_type": "code",
   "execution_count": 16,
   "metadata": {},
   "outputs": [],
   "source": [
    "@tool\n",
    "def search_keyword(query: str) -> List[Dict[str, str]]:\n",
    "    \"\"\"Look up news by keyword\"\"\"\n",
    "\n",
    "    print(f'검색어: {query}')\n",
    "\n",
    "    news_tool = GoogleNews()\n",
    "\n",
    "    return news_tool.search_by_keyword(query, k=2)"
   ]
  },
  {
   "cell_type": "code",
   "execution_count": 17,
   "metadata": {},
   "outputs": [],
   "source": [
    "@tool\n",
    "def python_repl_tool(\n",
    "    code: Annotated[str, \"The python code to execute to generate your chart.\"],\n",
    "):\n",
    "    \"\"\"Use this to execute python code. If you want to see the output of a value,\n",
    "    you should print it out with `print(...)`. This is visible to the user.\"\"\"\n",
    "\n",
    "    result = \"\"\n",
    "    \n",
    "    try:\n",
    "        result = PythonREPL().run(code)\n",
    "    except BaseException as e:\n",
    "        print(f\"Failed to execute. Error: {repr(e)}\")\n",
    "    finally:\n",
    "        return result"
   ]
  },
  {
   "cell_type": "code",
   "execution_count": 18,
   "metadata": {},
   "outputs": [
    {
     "name": "stdout",
     "output_type": "stream",
     "text": [
      "도구 이름: search_keyword\n",
      "도구 설명: Look up news by keyword\n"
     ]
    }
   ],
   "source": [
    "print(f'도구 이름: {search_keyword.name}')\n",
    "print(f'도구 설명: {search_keyword.description}')"
   ]
  },
  {
   "cell_type": "code",
   "execution_count": 19,
   "metadata": {},
   "outputs": [
    {
     "name": "stdout",
     "output_type": "stream",
     "text": [
      "도구 이름: python_repl_tool\n",
      "도구 설명: Use this to execute python code. If you want to see the output of a value,\n",
      "    you should print it out with `print(...)`. This is visible to the user.\n"
     ]
    }
   ],
   "source": [
    "print(f'도구 이름: {python_repl_tool.name}')\n",
    "print(f'도구 설명: {python_repl_tool.description}')"
   ]
  },
  {
   "cell_type": "code",
   "execution_count": 20,
   "metadata": {},
   "outputs": [],
   "source": [
    "tools = [search_keyword, python_repl_tool]      # 여러 개의 도구를 한꺼번에 바인딩 위해서 리스트에 넣기     "
   ]
  },
  {
   "cell_type": "markdown",
   "metadata": {},
   "source": [
    "### Agent 프롬프트\n",
    "\n",
    "- `chat_history` : 이전 대화 내용을 저장하는 변수 (생략 가능)\n",
    "- `agent_scratchpad` : 에이전트가 검색하는 과정들이나 내용을 임시로 저장하는 변수\n",
    "- `input` : 사용자 입력"
   ]
  },
  {
   "cell_type": "code",
   "execution_count": 21,
   "metadata": {},
   "outputs": [],
   "source": [
    "# 프롬프트는 에이전트에게 모델이 수행할 작업을 설명하는 텍스트를 제공합니다. (도구의 이름과 역할을 입력)\n",
    "prompt = ChatPromptTemplate.from_messages(\n",
    "    [\n",
    "        (                                           \n",
    "            \"system\",\n",
    "            \"You are a helpful assistant. \"             \n",
    "            \"Make sure to use the `search_news` tool for searching keyword related news.\"\n",
    "        ),\n",
    "        (\"placeholder\", \"{chat_history}\"),          # 이전 대화 내용을 넣을 곳을 잡아둔다.\n",
    "        (\"human\", \"{input}\"),                       # 사용자 입력\n",
    "\n",
    "        # 에이전트가 검색하는 과정들이나 내용 등을 끄적이는 메모장 같은 공간을 플레이스 홀더로 만들어준다\n",
    "        (\"placeholder\", \"{agent_scratchpad}\"),       \n",
    "    ]\n",
    ")"
   ]
  },
  {
   "cell_type": "markdown",
   "metadata": {},
   "source": [
    "### Agent 생성"
   ]
  },
  {
   "cell_type": "code",
   "execution_count": 22,
   "metadata": {},
   "outputs": [],
   "source": [
    "llm = ChatOpenAI(\n",
    "    api_key=key, \n",
    "    model='gpt-4o-mini', \n",
    "    temperature=0\n",
    ")\n",
    "\n",
    "agent = create_tool_calling_agent(llm, tools, prompt)       # 에이전트      "
   ]
  },
  {
   "cell_type": "markdown",
   "metadata": {},
   "source": [
    "### AgentExecutor\n",
    "\n",
    "AgentExecutor는 도구를 사용하는 에이전트를 실행하는 클래스\n",
    "\n",
    "- agent : 각 단계에서 계획을 생성하고 행동을 결정하는 agent\n",
    "- tools : agent 가 사용할 수 있는 도구 목록\n",
    "- max_iterations : 최대 몇 번까지 반복할지 설정\n",
    "- max_execution_time : 실행되는데 소요되는 최대 시간(소요 되는 시간이 너무 길지 않도록 제한을 걸때)\n",
    "- handle_parsing_errors : 오류가 발생했을 때 처리 방법(True, False)"
   ]
  },
  {
   "cell_type": "code",
   "execution_count": 23,
   "metadata": {},
   "outputs": [],
   "source": [
    "agent_executor = AgentExecutor(\n",
    "    agent=agent,                    # 각 단계에서 계획을 생성하고 행동을 결정하는 agent\n",
    "    tools=tools,                    # agent 가 사용할 수 있는 도구 목록\n",
    "    verbose=True,                   # 중간 단계 결과를 출력\n",
    "    max_iterations=10,              # 최대 10번 까지 반복\n",
    "    max_execution_time=10,          # 실행되는데 소요되는 최대 시간\n",
    "    handle_parsing_errors=True      \n",
    ")"
   ]
  },
  {
   "cell_type": "code",
   "execution_count": 24,
   "metadata": {},
   "outputs": [
    {
     "name": "stdout",
     "output_type": "stream",
     "text": [
      "\n",
      "\n",
      "\u001b[1m> Entering new AgentExecutor chain...\u001b[0m\n",
      "\u001b[32;1m\u001b[1;3m\n",
      "Invoking: `search_keyword` with `{'query': '대구 중앙떡볶이'}`\n",
      "\n",
      "\n",
      "\u001b[0m검색어: 대구 중앙떡볶이\n",
      "\u001b[36;1m\u001b[1;3m[{'url': 'https://news.google.com/rss/articles/CBMiaEFVX3lxTE9iUlVjeGpoMmZGWnRyTzRBSnJlbXQ0bzFqalczSkIya3o4TG83TjNOTE5SMS1sbVRRUy1fYkZDeXlKeHZQcldwSTdGUHdFQUZtYTltVlgzbmVmMDhBT1ctZ1VOekN0STJZ?oc=5', 'content': '떡볶이에 진심인, 대구 떡볶이 성지 6 - 대구일보'}, {'url': 'https://news.google.com/rss/articles/CBMiU0FVX3lxTE90TjFnS00xVUNoN3Y3dzlEb2l3cFEtUVkwWlVNekxwaC1Rd0U4dUpTalNYa04teW52b0hjdllBQnpqNDhpSm1aa0lFNXVsMkV2QUFB?oc=5', 'content': \"'전현무계획' 대구 떡볶이 4대장 반할만떡·달고떡볶이·윤옥연할매떡볶이·중앙떡볶이→뭉티기X오드레기&서문시장 섞어+냉잔치국수 맛집 탐방 - 네이트 뉴스\"}]\u001b[0m\u001b[32;1m\u001b[1;3m대구 중앙떡볶이에 대한 최근 뉴스는 다음과 같습니다:\n",
      "\n",
      "1. **대구 떡볶이 성지 6** - 대구일보에서 보도한 기사로, 대구의 떡볶이에 대한 진심을 다룬 내용입니다. [기사 링크](https://news.google.com/rss/articles/CBMiaEFVX3lxTE9iUlVjeGpoMmZGWnRyTzRBSnJlbXQ0bzFqalczSkIya3o4TG83TjNOTE5SMS1sbVRRUy1fYkZDeXlKeHZQcldwSTdGUHdFQUZtYTltVlgzbmVmMDhBT1ctZ1VOekN0STJZ?oc=5)\n",
      "\n",
      "2. **'전현무계획' 대구 떡볶이 4대장** - 네이트 뉴스에서 보도된 기사로, 대구의 유명 떡볶이 가게들 중 중앙떡볶이를 포함한 4대장에 대한 탐방 내용을 다루고 있습니다. [기사 링크](https://news.google.com/rss/articles/CBMiU0FVX3lxTE90TjFnS00xVUNoN3Y3dzlEb2l3cFEtUVkwWlVNekxwaC1Rd0U4dUpTalNYa04teW52b0hjdllBQnpqNDhpSm1aa0lFNXVsMkV2QUFB?oc=5)\n",
      "\n",
      "더 많은 정보가 필요하시면 말씀해 주세요!\u001b[0m\n",
      "\n",
      "\u001b[1m> Finished chain.\u001b[0m\n"
     ]
    }
   ],
   "source": [
    "answer = agent_executor.invoke({'input': '대구 중앙떡볶이에 대한 뉴스를 검색해 주세요.'})"
   ]
  },
  {
   "cell_type": "code",
   "execution_count": 25,
   "metadata": {},
   "outputs": [
    {
     "data": {
      "text/plain": [
       "{'input': '대구 중앙떡볶이에 대한 뉴스를 검색해 주세요.',\n",
       " 'output': \"대구 중앙떡볶이에 대한 최근 뉴스는 다음과 같습니다:\\n\\n1. **대구 떡볶이 성지 6** - 대구일보에서 보도한 기사로, 대구의 떡볶이에 대한 진심을 다룬 내용입니다. [기사 링크](https://news.google.com/rss/articles/CBMiaEFVX3lxTE9iUlVjeGpoMmZGWnRyTzRBSnJlbXQ0bzFqalczSkIya3o4TG83TjNOTE5SMS1sbVRRUy1fYkZDeXlKeHZQcldwSTdGUHdFQUZtYTltVlgzbmVmMDhBT1ctZ1VOekN0STJZ?oc=5)\\n\\n2. **'전현무계획' 대구 떡볶이 4대장** - 네이트 뉴스에서 보도된 기사로, 대구의 유명 떡볶이 가게들 중 중앙떡볶이를 포함한 4대장에 대한 탐방 내용을 다루고 있습니다. [기사 링크](https://news.google.com/rss/articles/CBMiU0FVX3lxTE90TjFnS00xVUNoN3Y3dzlEb2l3cFEtUVkwWlVNekxwaC1Rd0U4dUpTalNYa04teW52b0hjdllBQnpqNDhpSm1aa0lFNXVsMkV2QUFB?oc=5)\\n\\n더 많은 정보가 필요하시면 말씀해 주세요!\"}"
      ]
     },
     "execution_count": 25,
     "metadata": {},
     "output_type": "execute_result"
    }
   ],
   "source": [
    "answer"
   ]
  },
  {
   "cell_type": "code",
   "execution_count": 26,
   "metadata": {},
   "outputs": [
    {
     "name": "stdout",
     "output_type": "stream",
     "text": [
      "대구 중앙떡볶이에 대한 최근 뉴스는 다음과 같습니다:\n",
      "\n",
      "1. **대구 떡볶이 성지 6** - 대구일보에서 보도한 기사로, 대구의 떡볶이에 대한 진심을 다룬 내용입니다. [기사 링크](https://news.google.com/rss/articles/CBMiaEFVX3lxTE9iUlVjeGpoMmZGWnRyTzRBSnJlbXQ0bzFqalczSkIya3o4TG83TjNOTE5SMS1sbVRRUy1fYkZDeXlKeHZQcldwSTdGUHdFQUZtYTltVlgzbmVmMDhBT1ctZ1VOekN0STJZ?oc=5)\n",
      "\n",
      "2. **'전현무계획' 대구 떡볶이 4대장** - 네이트 뉴스에서 보도된 기사로, 대구의 유명 떡볶이 가게들 중 중앙떡볶이를 포함한 4대장에 대한 탐방 내용을 다루고 있습니다. [기사 링크](https://news.google.com/rss/articles/CBMiU0FVX3lxTE90TjFnS00xVUNoN3Y3dzlEb2l3cFEtUVkwWlVNekxwaC1Rd0U4dUpTalNYa04teW52b0hjdllBQnpqNDhpSm1aa0lFNXVsMkV2QUFB?oc=5)\n",
      "\n",
      "더 많은 정보가 필요하시면 말씀해 주세요!\n"
     ]
    }
   ],
   "source": [
    "print(answer['output'])"
   ]
  }
 ],
 "metadata": {
  "kernelspec": {
   "display_name": "venv",
   "language": "python",
   "name": "python3"
  },
  "language_info": {
   "codemirror_mode": {
    "name": "ipython",
    "version": 3
   },
   "file_extension": ".py",
   "mimetype": "text/x-python",
   "name": "python",
   "nbconvert_exporter": "python",
   "pygments_lexer": "ipython3",
   "version": "3.11.9"
  }
 },
 "nbformat": 4,
 "nbformat_minor": 2
}
