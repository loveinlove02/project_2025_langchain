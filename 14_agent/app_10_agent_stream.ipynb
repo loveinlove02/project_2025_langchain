{
 "cells": [
  {
   "cell_type": "code",
   "execution_count": 1,
   "metadata": {},
   "outputs": [],
   "source": [
    "from dotenv import load_dotenv\n",
    "import os\n",
    "\n",
    "load_dotenv(verbose=True)\n",
    "key = os.getenv('OPENAI_API_KEY')"
   ]
  },
  {
   "cell_type": "code",
   "execution_count": 2,
   "metadata": {},
   "outputs": [],
   "source": [
    "from langchain.agents import tool\n",
    "from typing import List, Dict, Annotated"
   ]
  },
  {
   "cell_type": "code",
   "execution_count": 3,
   "metadata": {},
   "outputs": [],
   "source": [
    "from langchain_teddynote.tools import GoogleNews\n",
    "from langchain_experimental.utilities import PythonREPL"
   ]
  },
  {
   "cell_type": "code",
   "execution_count": 4,
   "metadata": {},
   "outputs": [],
   "source": [
    "from langchain_openai import ChatOpenAI\n",
    "from langchain_core.prompts import ChatPromptTemplate, MessagesPlaceholder\n",
    "from langchain.agents import create_tool_calling_agent\n",
    "from langchain.agents import AgentExecutor"
   ]
  },
  {
   "cell_type": "code",
   "execution_count": 5,
   "metadata": {},
   "outputs": [],
   "source": [
    "from bs4 import BeautifulSoup\n",
    "import requests\n",
    "import re"
   ]
  },
  {
   "cell_type": "markdown",
   "metadata": {},
   "source": [
    "### 도구 정의"
   ]
  },
  {
   "cell_type": "code",
   "execution_count": null,
   "metadata": {},
   "outputs": [],
   "source": [
    "@tool\n",
    "def search_keyword(query: str) -> List[Dict[str, str]]:\n",
    "    \"\"\"Look up news by keyword\"\"\"\n",
    "    \n",
    "    print(f'검색어: {query}')\n",
    "\n",
    "    news_tool = GoogleNews()\n",
    "\n",
    "    return news_tool.search_by_keyword(query, k=3)"
   ]
  },
  {
   "cell_type": "code",
   "execution_count": 7,
   "metadata": {},
   "outputs": [],
   "source": [
    "@tool\n",
    "def python_repl_tool(\n",
    "    code: Annotated[str, \"The python code to execute to generate your chart.\"],\n",
    "):\n",
    "    \"\"\"Use this to execute python code. If you want to see the output of a value,\n",
    "    you should print it out with `print(...)`. This is visible to the user.\"\"\"\n",
    "\n",
    "    result = \"\"\n",
    "    \n",
    "    try:\n",
    "        result = PythonREPL().run(code)\n",
    "    except BaseException as e:\n",
    "        print(f\"Failed to execute. Error: {repr(e)}\")\n",
    "    finally:\n",
    "        return result"
   ]
  },
  {
   "cell_type": "code",
   "execution_count": 8,
   "metadata": {},
   "outputs": [],
   "source": [
    "@tool\n",
    "def naver_news_crawl(news_url: str) -> str:                 # 네이버 뉴스기사를 크롤링하여 본문 내용을 리턴하는 도구\n",
    "    \"\"\"Crawls a 네이버(naver.com) news article and returns the body content.\"\"\"\n",
    "\n",
    "    response = requests.get(news_url)                       # HTTP GET 요청\n",
    "\n",
    "    if response.status_code == 200:                         # 응답 200. 성공\n",
    "        soup = BeautifulSoup(response.text, 'html.parser')\n",
    "\n",
    "        title = soup.find('h2', id='title_area').get_text()\n",
    "        content = soup.find('div', id='contents').get_text()    \n",
    "        \n",
    "        cleaned_title = re.sub(r'\\n{2, }', '\\n', title)\n",
    "        cleaned_content = re.sub(r'\\n{2, }', '\\n', content)\n",
    "    else:\n",
    "        print(f'HTTP 요청 실패. {response.status_code}')\n",
    "    \n",
    "    return f'{cleaned_title}\\n{cleaned_content}'"
   ]
  },
  {
   "cell_type": "markdown",
   "metadata": {},
   "source": [
    "### Agent 프롬프트 작성"
   ]
  },
  {
   "cell_type": "code",
   "execution_count": 9,
   "metadata": {},
   "outputs": [],
   "source": [
    "# 프롬프트는 에이전트에게 모델이 수행할 작업을 설명하는 텍스트를 제공합니다. (도구의 이름과 역할을 입력)\n",
    "prompt = ChatPromptTemplate.from_messages(\n",
    "    [\n",
    "        (                                           \n",
    "            \"system\",\n",
    "            \"You are a helpful assistant. \"             \n",
    "            \"Make sure to use the `search_news` tool for searching keyword related news.\"\n",
    "            \"Be sure to use the 'python_repl_tool' tool when make python code.\"\n",
    "            \"Be sure to use the 'naver_news_crawl' tool when naver news crawlling.\"\n",
    "        ),\n",
    "        (\"placeholder\", \"{chat_history}\"),          # 이전 대화 내용을 넣을 곳을 잡아둔다.\n",
    "        (\"human\", \"{input}\"),                       # 사용자 입력\n",
    "\n",
    "        # 에이전트가 검색하는 과정들이나 내용 등을 끄적이는 메모장 같은 공간을 플레이스 홀더로 만들어준다\n",
    "        (\"placeholder\", \"{agent_scratchpad}\"),       \n",
    "    ]\n",
    ")"
   ]
  },
  {
   "cell_type": "code",
   "execution_count": 10,
   "metadata": {},
   "outputs": [],
   "source": [
    "tools = [search_keyword, python_repl_tool, naver_news_crawl]"
   ]
  },
  {
   "cell_type": "markdown",
   "metadata": {},
   "source": [
    "### Agent 생성"
   ]
  },
  {
   "cell_type": "code",
   "execution_count": 11,
   "metadata": {},
   "outputs": [],
   "source": [
    "llm = ChatOpenAI(\n",
    "    api_key=key, \n",
    "    model='gpt-4o-mini', \n",
    "    temperature=0\n",
    ")\n",
    "\n",
    "agent = create_tool_calling_agent(llm, tools, prompt)"
   ]
  },
  {
   "cell_type": "markdown",
   "metadata": {},
   "source": [
    "### AgentExecutor"
   ]
  },
  {
   "cell_type": "code",
   "execution_count": 12,
   "metadata": {},
   "outputs": [],
   "source": [
    "agent_executor = AgentExecutor(\n",
    "    agent=agent,                    # 각 단계에서 계획을 생성하고 행동을 결정하는 agent\n",
    "    tools=tools,                    # agent 가 사용할 수 있는 도구 목록\n",
    "    verbose=False,                  # 중간 단계 출력\n",
    "    max_iterations=10,              # 최대 10번 까지 반복\n",
    "    max_execution_time=10,          # 실행되는데 소요되는 최대 시간\n",
    "    handle_parsing_errors=True      \n",
    ")"
   ]
  },
  {
   "cell_type": "markdown",
   "metadata": {},
   "source": [
    "stream() 메소드는 에이전트의 중간 단계를 스트리밍 출력합니다. <br>\n",
    "\n",
    "stream() 출력은 (Action, Obervation) 쌍 사이에서 번갈아가면서 나타납니다. <br>\n",
    "최종적으로 에이전트가 목표를 달성했으면 답변으로 마무리됩니다. <br>\n",
    "\n",
    "1. Action 출력\n",
    "2. Observation 출력\n",
    "3. Action 출력\n",
    "4. Observation 출력\n",
    "\n",
    "... 목표 달성 까지 계속 ... <br>\n",
    "\n",
    "최종 목표가 달성되면 에이전트는 최종 답변을 출력합니다. <br>\n",
    "\n",
    "| 단계 | 내용 |\n",
    "|------|-----------|\n",
    "| Action | actions : AgentAction 객체가 호출되면서 어떤 도구를 사용할지 결정을 해준다. LLM이 실행하고 실행 결과를  Obervation의 messages에 넣는다. <br> messages :  action 호출에 해당하는 채팅 메시지 |\n",
    "| Obervation | steps : 현재 액션과 그 관찰을 포함한 에이전트가 지금까지 수행한 작업의 기록. <br> messages : 도구 호출의 실행 결과. 이 결과를 보고 최종 답변으로 만들게 된다. |\n",
    "| Final Answer | output : Agent Finish. <br> messages : 최종 답변. |"
   ]
  },
  {
   "cell_type": "markdown",
   "metadata": {},
   "source": [
    "(1) action 단계에서는 AgentAction 객체가 호출되면서 LLM이 어떤 도구를 사용할지 결정을 해준다.\n",
    "    LLM이 도구를 결정을 해주면 실행해서 Observation에 실행결과가 담긴다. messagees부분에 담긴다. <br>\n",
    "(2) Observation에 단계에서는 messagees부분에 담긴 결과를 보고 최종 답변으로 만든다. <br>\n",
    "(3) Final Answer : "
   ]
  },
  {
   "cell_type": "code",
   "execution_count": 13,
   "metadata": {},
   "outputs": [
    {
     "name": "stderr",
     "output_type": "stream",
     "text": [
      "Python REPL can execute arbitrary code. Use with caution.\n"
     ]
    },
    {
     "name": "stdout",
     "output_type": "stream",
     "text": [
      "{'actions': [ToolAgentAction(tool='python_repl_tool', tool_input={'code': 'print(10 + 20)'}, log=\"\\nInvoking: `python_repl_tool` with `{'code': 'print(10 + 20)'}`\\n\\n\\n\", message_log=[AIMessageChunk(content='', additional_kwargs={'tool_calls': [{'index': 0, 'id': 'call_lwzEpug7iiMuYwygOyYiA4vp', 'function': {'arguments': '{\"code\":\"print(10 + 20)\"}', 'name': 'python_repl_tool'}, 'type': 'function'}]}, response_metadata={'finish_reason': 'tool_calls', 'model_name': 'gpt-4o-mini-2024-07-18', 'system_fingerprint': 'fp_0392822090'}, id='run-aa8eccf2-3df5-4c55-9499-241ed5fcc42b', tool_calls=[{'name': 'python_repl_tool', 'args': {'code': 'print(10 + 20)'}, 'id': 'call_lwzEpug7iiMuYwygOyYiA4vp', 'type': 'tool_call'}], tool_call_chunks=[{'name': 'python_repl_tool', 'args': '{\"code\":\"print(10 + 20)\"}', 'id': 'call_lwzEpug7iiMuYwygOyYiA4vp', 'index': 0, 'type': 'tool_call_chunk'}])], tool_call_id='call_lwzEpug7iiMuYwygOyYiA4vp')], 'messages': [AIMessageChunk(content='', additional_kwargs={'tool_calls': [{'index': 0, 'id': 'call_lwzEpug7iiMuYwygOyYiA4vp', 'function': {'arguments': '{\"code\":\"print(10 + 20)\"}', 'name': 'python_repl_tool'}, 'type': 'function'}]}, response_metadata={'finish_reason': 'tool_calls', 'model_name': 'gpt-4o-mini-2024-07-18', 'system_fingerprint': 'fp_0392822090'}, id='run-aa8eccf2-3df5-4c55-9499-241ed5fcc42b', tool_calls=[{'name': 'python_repl_tool', 'args': {'code': 'print(10 + 20)'}, 'id': 'call_lwzEpug7iiMuYwygOyYiA4vp', 'type': 'tool_call'}], tool_call_chunks=[{'name': 'python_repl_tool', 'args': '{\"code\":\"print(10 + 20)\"}', 'id': 'call_lwzEpug7iiMuYwygOyYiA4vp', 'index': 0, 'type': 'tool_call_chunk'}])]}\n",
      "====================================================================================================\n",
      "{'steps': [AgentStep(action=ToolAgentAction(tool='python_repl_tool', tool_input={'code': 'print(10 + 20)'}, log=\"\\nInvoking: `python_repl_tool` with `{'code': 'print(10 + 20)'}`\\n\\n\\n\", message_log=[AIMessageChunk(content='', additional_kwargs={'tool_calls': [{'index': 0, 'id': 'call_lwzEpug7iiMuYwygOyYiA4vp', 'function': {'arguments': '{\"code\":\"print(10 + 20)\"}', 'name': 'python_repl_tool'}, 'type': 'function'}]}, response_metadata={'finish_reason': 'tool_calls', 'model_name': 'gpt-4o-mini-2024-07-18', 'system_fingerprint': 'fp_0392822090'}, id='run-aa8eccf2-3df5-4c55-9499-241ed5fcc42b', tool_calls=[{'name': 'python_repl_tool', 'args': {'code': 'print(10 + 20)'}, 'id': 'call_lwzEpug7iiMuYwygOyYiA4vp', 'type': 'tool_call'}], tool_call_chunks=[{'name': 'python_repl_tool', 'args': '{\"code\":\"print(10 + 20)\"}', 'id': 'call_lwzEpug7iiMuYwygOyYiA4vp', 'index': 0, 'type': 'tool_call_chunk'}])], tool_call_id='call_lwzEpug7iiMuYwygOyYiA4vp'), observation='30\\n')], 'messages': [FunctionMessage(content='30\\n', additional_kwargs={}, response_metadata={}, name='python_repl_tool')]}\n",
      "====================================================================================================\n",
      "{'output': '10 + 20의 결과는 30입니다.', 'messages': [AIMessage(content='10 + 20의 결과는 30입니다.', additional_kwargs={}, response_metadata={})]}\n",
      "====================================================================================================\n"
     ]
    }
   ],
   "source": [
    "result = agent_executor.stream({'input': '10 + 20을 출력하는 파이썬 코드를 작성해 주세요'})\n",
    "\n",
    "for step in result:\n",
    "    print(step)\n",
    "    print('==' * 50)"
   ]
  },
  {
   "cell_type": "code",
   "execution_count": 14,
   "metadata": {},
   "outputs": [
    {
     "name": "stdout",
     "output_type": "stream",
     "text": [
      "\n",
      "{'actions': [ToolAgentAction(tool='search_keyword', tool_input={'query': '대구 동성로 떡볶이'}, log=\"\\nInvoking: `search_keyword` with `{'query': '대구 동성로 떡볶이'}`\\n\\n\\n\", message_log=[AIMessageChunk(content='', additional_kwargs={'tool_calls': [{'index': 0, 'id': 'call_40v82Vh0St3mBQRMRrUf8nEx', 'function': {'arguments': '{\"query\":\"대구 동성로 떡볶이\"}', 'name': 'search_keyword'}, 'type': 'function'}]}, response_metadata={'finish_reason': 'tool_calls', 'model_name': 'gpt-4o-mini-2024-07-18', 'system_fingerprint': 'fp_0392822090'}, id='run-d0656034-6d60-4b80-a2ff-2e8beccee670', tool_calls=[{'name': 'search_keyword', 'args': {'query': '대구 동성로 떡볶이'}, 'id': 'call_40v82Vh0St3mBQRMRrUf8nEx', 'type': 'tool_call'}], tool_call_chunks=[{'name': 'search_keyword', 'args': '{\"query\":\"대구 동성로 떡볶이\"}', 'id': 'call_40v82Vh0St3mBQRMRrUf8nEx', 'index': 0, 'type': 'tool_call_chunk'}])], tool_call_id='call_40v82Vh0St3mBQRMRrUf8nEx')], 'messages': [AIMessageChunk(content='', additional_kwargs={'tool_calls': [{'index': 0, 'id': 'call_40v82Vh0St3mBQRMRrUf8nEx', 'function': {'arguments': '{\"query\":\"대구 동성로 떡볶이\"}', 'name': 'search_keyword'}, 'type': 'function'}]}, response_metadata={'finish_reason': 'tool_calls', 'model_name': 'gpt-4o-mini-2024-07-18', 'system_fingerprint': 'fp_0392822090'}, id='run-d0656034-6d60-4b80-a2ff-2e8beccee670', tool_calls=[{'name': 'search_keyword', 'args': {'query': '대구 동성로 떡볶이'}, 'id': 'call_40v82Vh0St3mBQRMRrUf8nEx', 'type': 'tool_call'}], tool_call_chunks=[{'name': 'search_keyword', 'args': '{\"query\":\"대구 동성로 떡볶이\"}', 'id': 'call_40v82Vh0St3mBQRMRrUf8nEx', 'index': 0, 'type': 'tool_call_chunk'}])]}\n",
      "====================================================================================================\n",
      "검색어: 대구 동성로 떡볶이\n",
      "\n",
      "{'steps': [AgentStep(action=ToolAgentAction(tool='search_keyword', tool_input={'query': '대구 동성로 떡볶이'}, log=\"\\nInvoking: `search_keyword` with `{'query': '대구 동성로 떡볶이'}`\\n\\n\\n\", message_log=[AIMessageChunk(content='', additional_kwargs={'tool_calls': [{'index': 0, 'id': 'call_40v82Vh0St3mBQRMRrUf8nEx', 'function': {'arguments': '{\"query\":\"대구 동성로 떡볶이\"}', 'name': 'search_keyword'}, 'type': 'function'}]}, response_metadata={'finish_reason': 'tool_calls', 'model_name': 'gpt-4o-mini-2024-07-18', 'system_fingerprint': 'fp_0392822090'}, id='run-d0656034-6d60-4b80-a2ff-2e8beccee670', tool_calls=[{'name': 'search_keyword', 'args': {'query': '대구 동성로 떡볶이'}, 'id': 'call_40v82Vh0St3mBQRMRrUf8nEx', 'type': 'tool_call'}], tool_call_chunks=[{'name': 'search_keyword', 'args': '{\"query\":\"대구 동성로 떡볶이\"}', 'id': 'call_40v82Vh0St3mBQRMRrUf8nEx', 'index': 0, 'type': 'tool_call_chunk'}])], tool_call_id='call_40v82Vh0St3mBQRMRrUf8nEx'), observation=[{'url': 'https://news.google.com/rss/articles/CBMiaEFVX3lxTE9iUlVjeGpoMmZGWnRyTzRBSnJlbXQ0bzFqalczSkIya3o4TG83TjNOTE5SMS1sbVRRUy1fYkZDeXlKeHZQcldwSTdGUHdFQUZtYTltVlgzbmVmMDhBT1ctZ1VOekN0STJZ?oc=5', 'content': '떡볶이에 진심인, 대구 떡볶이 성지 6 - 대구일보'}, {'url': 'https://news.google.com/rss/articles/CBMiVkFVX3lxTE9FUE5nSjlrZVlYZEpVV19NLW5ldnN3NEZvaVluSkFVNkJCTmdGeVNaRmgwUjY1T2lTWUZ4UDVtSDFDUkV0cW05bGhvLXE1Um03R2hxMlp3?oc=5', 'content': '유튜버 몰려가는 떡볶이 성지…대구 떡볶이집 4대 천왕은 - 중앙일보'}, {'url': 'https://news.google.com/rss/articles/CBMia0FVX3lxTE9OT0RfeVJiQXdUMWwwNG1xMDdqUTFiMHNGYkJPUFh2M0FKUnVMcmJLRzVwelBPMVJ4TjlZR0dRN2pYeXF3OENJZlVraGhUS0NIa1B6VjF2djEzVWt4NUZaZFFLUVZBTkhOVjdN0gFvQVVfeXFMTWszYVhzcDdiWTQtdmZMYVcwd1B6M2JxMUNZTmxyTHR2M29fd280dHdfc0dYZmw1R29xZzVmcEp0Q2g1X0FRbVk2bzNDUUtCZDJxN0ZPU2dyb0s4Sm5MWjdFQXBmZE91cks5WUZyUVZr?oc=5', 'content': '\"대구는 여기만 가도 끝\"...인플루언서가 자신있게 추천하는 대구 맛집 BEST 5 - 여행톡톡'}])], 'messages': [FunctionMessage(content='[{\"url\": \"https://news.google.com/rss/articles/CBMiaEFVX3lxTE9iUlVjeGpoMmZGWnRyTzRBSnJlbXQ0bzFqalczSkIya3o4TG83TjNOTE5SMS1sbVRRUy1fYkZDeXlKeHZQcldwSTdGUHdFQUZtYTltVlgzbmVmMDhBT1ctZ1VOekN0STJZ?oc=5\", \"content\": \"떡볶이에 진심인, 대구 떡볶이 성지 6 - 대구일보\"}, {\"url\": \"https://news.google.com/rss/articles/CBMiVkFVX3lxTE9FUE5nSjlrZVlYZEpVV19NLW5ldnN3NEZvaVluSkFVNkJCTmdGeVNaRmgwUjY1T2lTWUZ4UDVtSDFDUkV0cW05bGhvLXE1Um03R2hxMlp3?oc=5\", \"content\": \"유튜버 몰려가는 떡볶이 성지…대구 떡볶이집 4대 천왕은 - 중앙일보\"}, {\"url\": \"https://news.google.com/rss/articles/CBMia0FVX3lxTE9OT0RfeVJiQXdUMWwwNG1xMDdqUTFiMHNGYkJPUFh2M0FKUnVMcmJLRzVwelBPMVJ4TjlZR0dRN2pYeXF3OENJZlVraGhUS0NIa1B6VjF2djEzVWt4NUZaZFFLUVZBTkhOVjdN0gFvQVVfeXFMTWszYVhzcDdiWTQtdmZMYVcwd1B6M2JxMUNZTmxyTHR2M29fd280dHdfc0dYZmw1R29xZzVmcEp0Q2g1X0FRbVk2bzNDUUtCZDJxN0ZPU2dyb0s4Sm5MWjdFQXBmZE91cks5WUZyUVZr?oc=5\", \"content\": \"\\\\\"대구는 여기만 가도 끝\\\\\"...인플루언서가 자신있게 추천하는 대구 맛집 BEST 5 - 여행톡톡\"}]', additional_kwargs={}, response_metadata={}, name='search_keyword')]}\n",
      "====================================================================================================\n",
      "\n",
      "{'output': '대구 동성로 떡볶이에 대한 최근 뉴스 기사를 찾았습니다. 아래는 관련 기사 목록입니다:\\n\\n1. [떡볶이에 진심인, 대구 떡볶이 성지 6 - 대구일보](https://news.google.com/rss/articles/CBMiaEFVX3lxTE9iUlVjeGpoMmZGWnRyTzRBSnJlbXQ0bzFqalczSkIya3o4TG83TjNOTE5SMS1sbVRRUy1fYkZDeXlKeHZQcldwSTdGUHdFQUZtYTltVlgzbmVmMDhBT1ctZ1VOekN0STJZ?oc=5)\\n\\n2. [유튜버 몰려가는 떡볶이 성지…대구 떡볶이집 4대 천왕은 - 중앙일보](https://news.google.com/rss/articles/CBMiVkFVX3lxTE9FUE5nSjlrZVlYZEpVV19NLW5ldnN3NEZvaVxuSkFVNkJCTmdGeVNaRmgwUjY1T2lTWUZ4UDVtSDFDUkV0cW05bGhvLXE1Um03R2hxMlp3?oc=5)\\n\\n3. [\\\\\"대구는 여기만 가도 끝\\\\\"...인플루언서가 자신있게 추천하는 대구 맛집 BEST 5 - 여행톡톡](https://news.google.com/rss/articles/CBMia0FVX3lxTE9OT0RfeVJiQXdUMWwwNG1xMDdqUTFiMHNGYkJPUFh2M0FKUnVMcmJLRzVwelBPMVJ4TjlZR0dRN2pYeXF3OENJZlVraGhUS0NIa1B6VjF2djEzVWt4NUZaZFFLUVZBTkhOVjdN0gFvQVVfeXFMTWszYVhzcDdiWTQtdmZMYVcwd1B6M2JxMUNZTmxyTHR2M29fd280dHdfc0dYZmw1R29xZzVmcEp0Q2g1X0FRbVk2bzNDUUtCZDJxN0ZPU2dyb0s4Sm5MWjdFQXBmZE91cks5WUZyUVZr?oc=5)\\n\\n이 기사를 통해 대구 동성로의 떡볶이에 대한 다양한 정보와 추천을 확인할 수 있습니다.', 'messages': [AIMessage(content='대구 동성로 떡볶이에 대한 최근 뉴스 기사를 찾았습니다. 아래는 관련 기사 목록입니다:\\n\\n1. [떡볶이에 진심인, 대구 떡볶이 성지 6 - 대구일보](https://news.google.com/rss/articles/CBMiaEFVX3lxTE9iUlVjeGpoMmZGWnRyTzRBSnJlbXQ0bzFqalczSkIya3o4TG83TjNOTE5SMS1sbVRRUy1fYkZDeXlKeHZQcldwSTdGUHdFQUZtYTltVlgzbmVmMDhBT1ctZ1VOekN0STJZ?oc=5)\\n\\n2. [유튜버 몰려가는 떡볶이 성지…대구 떡볶이집 4대 천왕은 - 중앙일보](https://news.google.com/rss/articles/CBMiVkFVX3lxTE9FUE5nSjlrZVlYZEpVV19NLW5ldnN3NEZvaVxuSkFVNkJCTmdGeVNaRmgwUjY1T2lTWUZ4UDVtSDFDUkV0cW05bGhvLXE1Um03R2hxMlp3?oc=5)\\n\\n3. [\\\\\"대구는 여기만 가도 끝\\\\\"...인플루언서가 자신있게 추천하는 대구 맛집 BEST 5 - 여행톡톡](https://news.google.com/rss/articles/CBMia0FVX3lxTE9OT0RfeVJiQXdUMWwwNG1xMDdqUTFiMHNGYkJPUFh2M0FKUnVMcmJLRzVwelBPMVJ4TjlZR0dRN2pYeXF3OENJZlVraGhUS0NIa1B6VjF2djEzVWt4NUZaZFFLUVZBTkhOVjdN0gFvQVVfeXFMTWszYVhzcDdiWTQtdmZMYVcwd1B6M2JxMUNZTmxyTHR2M29fd280dHdfc0dYZmw1R29xZzVmcEp0Q2g1X0FRbVk2bzNDUUtCZDJxN0ZPU2dyb0s4Sm5MWjdFQXBmZE91cks5WUZyUVZr?oc=5)\\n\\n이 기사를 통해 대구 동성로의 떡볶이에 대한 다양한 정보와 추천을 확인할 수 있습니다.', additional_kwargs={}, response_metadata={})]}\n",
      "====================================================================================================\n"
     ]
    }
   ],
   "source": [
    "result = agent_executor.stream({'input': '대구 동성로 떡볶이 대해 검색해주세요'})\n",
    "\n",
    "for step in result:\n",
    "    print()\n",
    "    print(step)\n",
    "    print('==' * 50)"
   ]
  },
  {
   "cell_type": "code",
   "execution_count": null,
   "metadata": {},
   "outputs": [
    {
     "name": "stdout",
     "output_type": "stream",
     "text": [
      "============================================================\n",
      "[step] (1): \n",
      "\n",
      "===== [actions] 시작 =====\n",
      "action type: <class 'langchain.agents.output_parsers.tools.ToolAgentAction'>\n",
      "tool='search_keyword' tool_input={'query': '대구 동성로 떡볶이'} log=\"\\nInvoking: `search_keyword` with `{'query': '대구 동성로 떡볶이'}`\\n\\n\\n\" message_log=[AIMessageChunk(content='', additional_kwargs={'tool_calls': [{'index': 0, 'id': 'call_ar4J2oPrkZI0KQzqlyDFkmug', 'function': {'arguments': '{\"query\":\"대구 동성로 떡볶이\"}', 'name': 'search_keyword'}, 'type': 'function'}]}, response_metadata={'finish_reason': 'tool_calls', 'model_name': 'gpt-4o-mini-2024-07-18', 'system_fingerprint': 'fp_0392822090'}, id='run-d4fbce1f-cb28-409e-90a7-f74b3a294ba2', tool_calls=[{'name': 'search_keyword', 'args': {'query': '대구 동성로 떡볶이'}, 'id': 'call_ar4J2oPrkZI0KQzqlyDFkmug', 'type': 'tool_call'}], tool_call_chunks=[{'name': 'search_keyword', 'args': '{\"query\":\"대구 동성로 떡볶이\"}', 'id': 'call_ar4J2oPrkZI0KQzqlyDFkmug', 'index': 0, 'type': 'tool_call_chunk'}])] tool_call_id='call_ar4J2oPrkZI0KQzqlyDFkmug'\n",
      "===== [actions]  끝 =====\n",
      "===== [messages] 시작 =====\n",
      "메시지 타입: AIMessageChunk\n",
      "내용 Message: \n",
      "도구 호출 이름:  search_keyword\n",
      "도구 호출 인자:  {'query': '대구 동성로 떡볶이'}\n",
      "도구 호출 아이디:  call_ar4J2oPrkZI0KQzqlyDFkmug\n",
      "도구 호출 타입:  tool_call\n",
      "===== [messages] 끝 =====\n",
      "검색어: 대구 동성로 떡볶이\n",
      "============================================================\n",
      "[step] (2): \n",
      "\n",
      "===== [steps] 시작 =====\n",
      " 사용 도구 이름 agent_step.action.tool: search_keyword\n",
      " 입력 쿼리 agent_step.action.tool_input: {'query': '대구 동성로 떡볶이'}\n",
      " Log: \n",
      "Invoking: `search_keyword` with `{'query': '대구 동성로 떡볶이'}`\n",
      "\n",
      "\n",
      "\n",
      " Observation: \n",
      "\n",
      "{'url': 'https://news.google.com/rss/articles/CBMiaEFVX3lxTE9iUlVjeGpoMmZGWnRyTzRBSnJlbXQ0bzFqalczSkIya3o4TG83TjNOTE5SMS1sbVRRUy1fYkZDeXlKeHZQcldwSTdGUHdFQUZtYTltVlgzbmVmMDhBT1ctZ1VOekN0STJZ?oc=5', 'content': '떡볶이에 진심인, 대구 떡볶이 성지 6 - 대구일보'}\n",
      "{'url': 'https://news.google.com/rss/articles/CBMiVkFVX3lxTE9FUE5nSjlrZVlYZEpVV19NLW5ldnN3NEZvaVluSkFVNkJCTmdGeVNaRmgwUjY1T2lTWUZ4UDVtSDFDUkV0cW05bGhvLXE1Um03R2hxMlp3?oc=5', 'content': '유튜버 몰려가는 떡볶이 성지…대구 떡볶이집 4대 천왕은 - 중앙일보'}\n",
      "{'url': 'https://news.google.com/rss/articles/CBMia0FVX3lxTE9OT0RfeVJiQXdUMWwwNG1xMDdqUTFiMHNGYkJPUFh2M0FKUnVMcmJLRzVwelBPMVJ4TjlZR0dRN2pYeXF3OENJZlVraGhUS0NIa1B6VjF2djEzVWt4NUZaZFFLUVZBTkhOVjdN0gFvQVVfeXFMTWszYVhzcDdiWTQtdmZMYVcwd1B6M2JxMUNZTmxyTHR2M29fd280dHdfc0dYZmw1R29xZzVmcEp0Q2g1X0FRbVk2bzNDUUtCZDJxN0ZPU2dyb0s4Sm5MWjdFQXBmZE91cks5WUZyUVZr?oc=5', 'content': '\"대구는 여기만 가도 끝\"...인플루언서가 자신있게 추천하는 대구 맛집 BEST 5 - 여행톡톡'}\n",
      "===== [steps]  끝 =====\n",
      "===== [messages] 시작 =====\n",
      "메시지 타입: FunctionMessage\n",
      "내용 Message: [{\"url\": \"https://news.google.com/rss/articles/CBMiaEFVX3lxTE9iUlVjeGpoMmZGWnRyTzRBSnJlbXQ0bzFqalczSkIya3o4TG83TjNOTE5SMS1sbVRRUy1fYkZDeXlKeHZQcldwSTdGUHdFQUZtYTltVlgzbmVmMDhBT1ctZ1VOekN0STJZ?oc=5\", \"content\": \"떡볶이에 진심인, 대구 떡볶이 성지 6 - 대구일보\"}, {\"url\": \"https://news.google.com/rss/articles/CBMiVkFVX3lxTE9FUE5nSjlrZVlYZEpVV19NLW5ldnN3NEZvaVluSkFVNkJCTmdGeVNaRmgwUjY1T2lTWUZ4UDVtSDFDUkV0cW05bGhvLXE1Um03R2hxMlp3?oc=5\", \"content\": \"유튜버 몰려가는 떡볶이 성지…대구 떡볶이집 4대 천왕은 - 중앙일보\"}, {\"url\": \"https://news.google.com/rss/articles/CBMia0FVX3lxTE9OT0RfeVJiQXdUMWwwNG1xMDdqUTFiMHNGYkJPUFh2M0FKUnVMcmJLRzVwelBPMVJ4TjlZR0dRN2pYeXF3OENJZlVraGhUS0NIa1B6VjF2djEzVWt4NUZaZFFLUVZBTkhOVjdN0gFvQVVfeXFMTWszYVhzcDdiWTQtdmZMYVcwd1B6M2JxMUNZTmxyTHR2M29fd280dHdfc0dYZmw1R29xZzVmcEp0Q2g1X0FRbVk2bzNDUUtCZDJxN0ZPU2dyb0s4Sm5MWjdFQXBmZE91cks5WUZyUVZr?oc=5\", \"content\": \"\\\"대구는 여기만 가도 끝\\\"...인플루언서가 자신있게 추천하는 대구 맛집 BEST 5 - 여행톡톡\"}]\n",
      "도구 호출 없음\n",
      "===== [messages] 끝 =====\n",
      "============================================================\n",
      "[step] (3): \n",
      "\n",
      "===== [output] 시작 =====\n",
      "[output]: 대구 동성로 떡볶이에 대한 최근 뉴스 기사를 찾았습니다. 아래는 관련 기사 목록입니다:\n",
      "\n",
      "1. [떡볶이에 진심인, 대구 떡볶이 성지 6 - 대구일보](https://news.google.com/rss/articles/CBMiaEFVX3lxTE9iUlVjeGpoMmZGWnRyTzRBSnJlbXQ0bzFqalczSkIya3o4TG83TjNOTE5SMS1sbVRRUy1fYkZDeXlKeHZQcldwSTdGUHdFQUZtYTltVlgzbmVmMDhBT1ctZ1VOekN0STJZ?oc=5)\n",
      "\n",
      "2. [유튜버 몰려가는 떡볶이 성지…대구 떡볶이집 4대 천왕은 - 중앙일보](https://news.google.com/rss/articles/CBMiVkFVX3lxTE9FUE5nSjlrZVlYZEpVV19NLW5ldnN3NEZvaVxuSkFVNkJCTmdGeVNaRmgwUjY1T2lTWUZ4UDVtSDFDUkV0cW05bGhvLXE1Um03R2hxMlp3?oc=5)\n",
      "\n",
      "3. [\\\"대구는 여기만 가도 끝\\\"...인플루언서가 자신있게 추천하는 대구 맛집 BEST 5 - 여행톡톡](https://news.google.com/rss/articles/CBMia0FVX3lxTE9OT0RfeVJiQXdUMWwwNG1xMDdqUTFiMHNGYkJPUFh2M0FKUnVMcmJLRzVwelBPMVJ4TjlZR0dRN2pYeXF3OENJZlVraGhUS0NIa1B6VjF2djEzVWt4NUZaZFFLUVZBTkhOVjdN0gFvQVVfeXFMTWszYVhzcDdiWTQtdmZMYVcwd1B6M2JxMUNZTmxyTHR2M29fd280dHdfc0dYZmw1R29xZzVmcEp0Q2g1X0FRbVk2bzNDUUtCZDJxN0ZPU2dyb0s4Sm5MWjdFQXBmZE91cks5WUZyUVZr?oc=5)\n",
      "\n",
      "이 기사를 통해 대구 동성로의 떡볶이에 대한 다양한 정보와 추천을 확인할 수 있습니다.\n",
      "===== [output]  끝 =====\n",
      "===== [messages] 시작 =====\n",
      "메시지 타입: AIMessage\n",
      "내용 Message: 대구 동성로 떡볶이에 대한 최근 뉴스 기사를 찾았습니다. 아래는 관련 기사 목록입니다:\n",
      "\n",
      "1. [떡볶이에 진심인, 대구 떡볶이 성지 6 - 대구일보](https://news.google.com/rss/articles/CBMiaEFVX3lxTE9iUlVjeGpoMmZGWnRyTzRBSnJlbXQ0bzFqalczSkIya3o4TG83TjNOTE5SMS1sbVRRUy1fYkZDeXlKeHZQcldwSTdGUHdFQUZtYTltVlgzbmVmMDhBT1ctZ1VOekN0STJZ?oc=5)\n",
      "\n",
      "2. [유튜버 몰려가는 떡볶이 성지…대구 떡볶이집 4대 천왕은 - 중앙일보](https://news.google.com/rss/articles/CBMiVkFVX3lxTE9FUE5nSjlrZVlYZEpVV19NLW5ldnN3NEZvaVxuSkFVNkJCTmdGeVNaRmgwUjY1T2lTWUZ4UDVtSDFDUkV0cW05bGhvLXE1Um03R2hxMlp3?oc=5)\n",
      "\n",
      "3. [\\\"대구는 여기만 가도 끝\\\"...인플루언서가 자신있게 추천하는 대구 맛집 BEST 5 - 여행톡톡](https://news.google.com/rss/articles/CBMia0FVX3lxTE9OT0RfeVJiQXdUMWwwNG1xMDdqUTFiMHNGYkJPUFh2M0FKUnVMcmJLRzVwelBPMVJ4TjlZR0dRN2pYeXF3OENJZlVraGhUS0NIa1B6VjF2djEzVWt4NUZaZFFLUVZBTkhOVjdN0gFvQVVfeXFMTWszYVhzcDdiWTQtdmZMYVcwd1B6M2JxMUNZTmxyTHR2M29fd280dHdfc0dYZmw1R29xZzVmcEp0Q2g1X0FRbVk2bzNDUUtCZDJxN0ZPU2dyb0s4Sm5MWjdFQXBmZE91cks5WUZyUVZr?oc=5)\n",
      "\n",
      "이 기사를 통해 대구 동성로의 떡볶이에 대한 다양한 정보와 추천을 확인할 수 있습니다.\n",
      "===== [messages] 끝 =====\n"
     ]
    }
   ],
   "source": [
    "result = agent_executor.stream({'input': '대구 동성로 떡볶이 대해 검색해주세요'})\n",
    "\n",
    "i = 1\n",
    "\n",
    "for step in result:\n",
    "    print('==' * 30)\n",
    "    # print(f'[step] ({i}) : \\n', step)\n",
    "    print(f\"[step] ({i}): \\n\")\n",
    "\n",
    "    if 'actions' in step:        \n",
    "        print(f'===== [actions] 시작 =====')\n",
    "        \n",
    "        for action in step['actions']:\n",
    "            print(f\"action type: {type(action)}\")\n",
    "            print(action)\n",
    "        print(f'===== [actions]  끝 =====')\n",
    "\n",
    "        print(f'===== [messages] 시작 =====')\n",
    "\n",
    "        for message in step['messages']:\n",
    "            print(f\"메시지 타입: {type(message).__name__}\")\n",
    "            print(f\"내용 Message: {message.content}\")\n",
    "\n",
    "            if hasattr(message, 'tool_calls'):\n",
    "                print('도구 호출 이름: ', message.tool_calls[0]['name'])\n",
    "                print('도구 호출 인자: ', message.tool_calls[0]['args'])\n",
    "                print('도구 호출 아이디: ', message.tool_calls[0]['id'])\n",
    "                print('도구 호출 타입: ', message.tool_calls[0]['type'])\n",
    "            else:\n",
    "                print('도구 호출 없음')\n",
    "        print(f'===== [messages] 끝 =====')\n",
    "    \n",
    "    elif 'steps' in step:        \n",
    "        print(f'===== [steps] 시작 =====')\n",
    "\n",
    "        for agent_step in step['steps']:\n",
    "            print(f\" 사용 도구 이름 agent_step.action.tool: {agent_step.action.tool}\")\n",
    "            print(f\" 입력 쿼리 agent_step.action.tool_input: {agent_step.action.tool_input}\")\n",
    "            print(f\" Log: {agent_step.action.log}\")\n",
    "            # print(f\"(4) Observation: {agent_step.observation}\")\n",
    "            print(f\" Observation: \\n\")\n",
    "\n",
    "            if len(agent_step.observation)>0:\n",
    "                for observation in agent_step.observation:\n",
    "                    print(observation)\n",
    "\n",
    "        print(f'===== [steps]  끝 =====')\n",
    "\n",
    "        print(f'===== [messages] 시작 =====')\n",
    "        for message in step['messages']:\n",
    "            print(f\"메시지 타입: {type(message).__name__}\")\n",
    "            print(f\"내용 Message: {message.content}\")\n",
    "\n",
    "            if hasattr(message, 'tool_calls'):\n",
    "                print('도구 호출 이름: ', message.tool_calls[0]['name'])\n",
    "                print('도구 호출 인자: ', message.tool_calls[0]['args'])\n",
    "                print('도구 호출 아이디: ', message.tool_calls[0]['id'])\n",
    "                print('도구 호출 타입: ', message.tool_calls[0]['type'])\n",
    "            else:\n",
    "                print('도구 호출 없음')\n",
    "        print(f'===== [messages] 끝 =====')\n",
    "\n",
    "    \n",
    "    elif 'output' in step:        \n",
    "        print(f'===== [output] 시작 =====')\n",
    "        print(f\"[output]: {step['output']}\")  \n",
    "        print(f'===== [output]  끝 =====')\n",
    "\n",
    "        print(f'===== [messages] 시작 =====')\n",
    "        for message in step['messages']:\n",
    "            print(f\"메시지 타입: {type(message).__name__}\")\n",
    "            print(f\"내용 Message: {message.content}\")\n",
    "        print(f'===== [messages] 끝 =====')\n",
    "\n",
    "    i=i+1"
   ]
  },
  {
   "cell_type": "code",
   "execution_count": 16,
   "metadata": {},
   "outputs": [],
   "source": [
    "result = agent_executor.stream({'input': '\"네이버 뉴스 기사의 내용을 크롤링해주세요: https://n.news.naver.com/mnews/article/002/0002372963\"'})"
   ]
  },
  {
   "cell_type": "code",
   "execution_count": 17,
   "metadata": {},
   "outputs": [],
   "source": [
    "result = agent_executor.stream({'input': '10+20의 결과는?'})"
   ]
  },
  {
   "cell_type": "code",
   "execution_count": 44,
   "metadata": {},
   "outputs": [
    {
     "data": {
      "text/plain": [
       "' \\n{\\n\\n  \\'actions\\': \\n  [\\n    ToolAgentAction\\n    (\\n      tool=\\'search_keyword\\', \\n\\n      tool_input={\\'query\\': \\'대구 동성로 떡볶이\\'}, \\n\\n      log=\"\\nInvoking: `search_keyword` with `{\\'query\\': \\'대구 동성로 떡볶이\\'}`\\n\\n\\n\", \\n\\n      message_log=\\n      [\\n        AIMessageChunk\\n        (\\n          content=\\'\\', \\n          additional_kwargs=\\n           {\\n              \\'tool_calls\\': [\\n                                 {\\n                                    \\'index\\': 0, \\n                                    \\'id\\': \\'call_ipWysUL54d6KgDfUXjgRRsYP\\', \\n                                    \\'function\\': {\\'arguments\\': \\'{\"query\":\"대구 동성로 떡볶이\"}\\', \\'name\\': \\'search_keyword\\'}, \\n                                    \\'type\\': \\'function\\'\\n                                 }\\n                            ]\\n           }, \\n\\n           response_metadata={\\'finish_reason\\': \\'tool_calls\\', \\'model_name\\': \\'gpt-4o-mini-2024-07-18\\', \\'system_fingerprint\\': \\'fp_3267753c5d\\'}, \\n \\n          id=\\'run-c94d8c7f-29bf-4873-b108-8bf4349dfc49\\', \\n\\n          tool_calls=[ \\n                           {\\n                              \\'name\\': \\'search_keyword\\', \\'args\\': {\\'query\\': \\'대구 동성로 떡볶이\\'}, \\n                              \\'id\\': \\'call_ipWysUL54d6KgDfUXjgRRsYP\\', \\'type\\': \\'tool_call\\'\\n                           }\\n                        ], \\n\\n          tool_call_chunks=[\\n                                     {\\n                                         \\'name\\': \\'search_keyword\\', \\n                                         \\'args\\': \\'{\"query\":\"대구 동성로 떡볶이\"}\\', \\n                                         \\'id\\': \\'call_ipWysUL54d6KgDfUXjgRRsYP\\', \\n                                         \\'index\\': 0, \\'type\\': \\'tool_call_chunk\\'\\n                                     }\\n                                  ]\\n        )\\n      ],    // end message_log\\n\\n    tool_call_id=\\'call_ipWysUL54d6KgDfUXjgRRsYP\\'\\n\\n    ) // ToolAgentAction\\n  ], \\n\\n\\n  \\'messages\\': \\n  [\\n    AIMessageChunk\\n    (\\n      content=\\'\\', \\n      additional_kwargs=\\n       {\\n           \\'tool_calls\\': [\\n                             {\\n                                 \\'index\\': 0, \\n                                 \\'id\\': \\'call_ipWysUL54d6KgDfUXjgRRsYP\\', \\n                                 \\'function\\': {\\'arguments\\': \\'{\"query\":\"대구 동성로 떡볶이\"}\\', \\'name\\': \\'search_keyword\\'}, \\n                                 \\'type\\': \\'function\\'\\n                             }\\n                          ]\\n       }, \\n\\n      response_metadata= {\\n                            \\t\\'finish_reason\\': \\'tool_calls\\', \\n                            \\t\\'model_name\\': \\'gpt-4o-mini-2024-07-18\\', \\n                            \\t\\'system_fingerprint\\': \\'fp_3267753c5d\\'\\n                         \\t       }, \\n\\n      id=\\'run-c94d8c7f-29bf-4873-b108-8bf4349dfc49\\', \\n\\n      tool_calls=[\\n                        {\\n                           \\'name\\': \\'search_keyword\\', \\n                           \\'args\\': {\\'query\\': \\'대구 동성로 떡볶이\\'}, \\n                           \\'id\\': \\'call_ipWysUL54d6KgDfUXjgRRsYP\\', \\n                           \\'type\\': \\'tool_call\\'\\n                        }\\n                    ], \\n\\n      tool_call_chunks=[\\n                                  {\\n                                        \\'name\\': \\'search_keyword\\', \\n                                        \\'args\\': \\'{\"query\":\"대구 동성로 떡볶이\"}\\', \\n                                        \\'id\\': \\'call_ipWysUL54d6KgDfUXjgRRsYP\\', \\n                                        \\'index\\': 0, \\n                                        \\'type\\': \\'tool_call_chunk\\'\\n                                  }\\n                             ]\\n   )  // end AIMessageChunk\\n  ]  // end messages\\n\\n}\\n'"
      ]
     },
     "execution_count": 44,
     "metadata": {},
     "output_type": "execute_result"
    }
   ],
   "source": [
    "\"\"\" \n",
    "{\n",
    "\n",
    "  'actions': \n",
    "  [\n",
    "    ToolAgentAction\n",
    "    (\n",
    "      tool='search_keyword', \n",
    "\n",
    "      tool_input={'query': '대구 동성로 떡볶이'}, \n",
    "\n",
    "      log=\"\\nInvoking: `search_keyword` with `{'query': '대구 동성로 떡볶이'}`\\n\\n\\n\", \n",
    "\n",
    "      message_log=\n",
    "      [\n",
    "        AIMessageChunk\n",
    "        (\n",
    "          content='', \n",
    "          additional_kwargs=\n",
    "           {\n",
    "              'tool_calls': [\n",
    "                                 {\n",
    "                                    'index': 0, \n",
    "                                    'id': 'call_ipWysUL54d6KgDfUXjgRRsYP', \n",
    "                                    'function': {'arguments': '{\"query\":\"대구 동성로 떡볶이\"}', 'name': 'search_keyword'}, \n",
    "                                    'type': 'function'\n",
    "                                 }\n",
    "                            ]\n",
    "           }, \n",
    "\n",
    "           response_metadata={'finish_reason': 'tool_calls', 'model_name': 'gpt-4o-mini-2024-07-18', 'system_fingerprint': 'fp_3267753c5d'}, \n",
    " \n",
    "          id='run-c94d8c7f-29bf-4873-b108-8bf4349dfc49', \n",
    "\n",
    "          tool_calls=[ \n",
    "                           {\n",
    "                              'name': 'search_keyword', 'args': {'query': '대구 동성로 떡볶이'}, \n",
    "                              'id': 'call_ipWysUL54d6KgDfUXjgRRsYP', 'type': 'tool_call'\n",
    "                           }\n",
    "                        ], \n",
    "\n",
    "          tool_call_chunks=[\n",
    "                                     {\n",
    "                                         'name': 'search_keyword', \n",
    "                                         'args': '{\"query\":\"대구 동성로 떡볶이\"}', \n",
    "                                         'id': 'call_ipWysUL54d6KgDfUXjgRRsYP', \n",
    "                                         'index': 0, 'type': 'tool_call_chunk'\n",
    "                                     }\n",
    "                                  ]\n",
    "        )\n",
    "      ],    // end message_log\n",
    "\n",
    "    tool_call_id='call_ipWysUL54d6KgDfUXjgRRsYP'\n",
    "\n",
    "    ) // ToolAgentAction\n",
    "  ], \n",
    "\n",
    "\n",
    "  'messages': \n",
    "  [\n",
    "    AIMessageChunk\n",
    "    (\n",
    "      content='', \n",
    "      additional_kwargs=\n",
    "       {\n",
    "           'tool_calls': [\n",
    "                             {\n",
    "                                 'index': 0, \n",
    "                                 'id': 'call_ipWysUL54d6KgDfUXjgRRsYP', \n",
    "                                 'function': {'arguments': '{\"query\":\"대구 동성로 떡볶이\"}', 'name': 'search_keyword'}, \n",
    "                                 'type': 'function'\n",
    "                             }\n",
    "                          ]\n",
    "       }, \n",
    "\n",
    "      response_metadata= {\n",
    "                            \t'finish_reason': 'tool_calls', \n",
    "                            \t'model_name': 'gpt-4o-mini-2024-07-18', \n",
    "                            \t'system_fingerprint': 'fp_3267753c5d'\n",
    "                         \t       }, \n",
    "\n",
    "      id='run-c94d8c7f-29bf-4873-b108-8bf4349dfc49', \n",
    "\n",
    "      tool_calls=[\n",
    "                        {\n",
    "                           'name': 'search_keyword', \n",
    "                           'args': {'query': '대구 동성로 떡볶이'}, \n",
    "                           'id': 'call_ipWysUL54d6KgDfUXjgRRsYP', \n",
    "                           'type': 'tool_call'\n",
    "                        }\n",
    "                    ], \n",
    "\n",
    "      tool_call_chunks=[\n",
    "                                  {\n",
    "                                        'name': 'search_keyword', \n",
    "                                        'args': '{\"query\":\"대구 동성로 떡볶이\"}', \n",
    "                                        'id': 'call_ipWysUL54d6KgDfUXjgRRsYP', \n",
    "                                        'index': 0, \n",
    "                                        'type': 'tool_call_chunk'\n",
    "                                  }\n",
    "                             ]\n",
    "   )  // end AIMessageChunk\n",
    "  ]  // end messages\n",
    "\n",
    "}\n",
    "\"\"\""
   ]
  },
  {
   "cell_type": "code",
   "execution_count": null,
   "metadata": {},
   "outputs": [
    {
     "data": {
      "text/plain": [
       "' \\n{\\n    \\'steps\\': \\n    [AgentStep\\n     (\\n       action=ToolAgentAction(\\n                                          tool=\\'search_keyword\\', \\n                                          tool_input={\\'query\\': \\'대구 동성로 떡볶이\\'}, \\n                                          log=\"\\nInvoking: `search_keyword` with `{\\'query\\': \\'대구 동성로 떡볶이\\'}`\\n\\n\\n\", \\n                                          message_log=[\\n                                                                AIMessageChunk(content=\\'\\', \\n                                                                                        additional_kwargs={\\n                                                                                                                     \\'tool_calls\\': [\\n                                                                                                                                      {\\n                                                                                                                                        \\'index\\': 0, \\n                                                                                                                                        \\'id\\': \\'call_iMcAsLCy9VJmh5l1e2cZJIso\\', \\n                                                                                                                                        \\'function\\': {\\n                                                                                                                                                          \\'arguments\\': \\'{\"query\":\"대구 동성로 떡볶이\"}\\', \\n                                                                                                                                                          \\'name\\': \\'search_keyword\\'\\n                                                                                                                                                       }, \\n                                                                                                                                        \\'type\\': \\'function\\'\\n                                                                                                                                      }\\n                                                                                                                                   ]\\n                                                                                                                  }, \\n\\n                                                                                        response_metadata={\\n                                                                                                                       \\'finish_reason\\': \\'tool_calls\\', \\n                                                                                                                       \\'model_name\\': \\'gpt-4o-mini-2024-07-18\\', \\n                                                                                                                       \\'system_fingerprint\\': \\'fp_3267753c5d\\'\\n                                                                                                                    }, \\n                                                                                        id=\\'run-be95c080-1eab-484c-98e4-5249c2ae031e\\', \\n                                                                                        tool_calls=[\\n                                                                                                         {\\n                                                                                                           \\'name\\': \\'search_keyword\\', \\n                                                                                                           \\'args\\': {\\'query\\': \\'대구 동성로 떡볶이\\'}, \\n                                                                                                           \\'id\\': \\'call_iMcAsLCy9VJmh5l1e2cZJIso\\', \\n                                                                                                           \\'type\\': \\'tool_call\\'\\n                                                                                                         }\\n                                                                                                      ], \\n                                                                                        tool_call_chunks=[\\n                                                                                                                   {\\n                                                                                                                      \\'name\\': \\'search_keyword\\', \\n                                                                                                                      \\'args\\': \\'{\"query\":\"대구 동성로 떡볶이\"}\\', \\n                                                                                                                      \\'id\\': \\'call_iMcAsLCy9VJmh5l1e2cZJIso\\', \\n                                                                                                                      \\'index\\': 0, \\n                                                                                                                      \\'type\\': \\'tool_call_chunk\\'\\n                                                                                                                   }\\n                                                                                                                ]\\n                                                                )\\n                                                      ],\\n                                          tool_call_id=\\'call_iMcAsLCy9VJmh5l1e2cZJIso\\'\\n             ), \\n\\n\\n       observation=[ \\n                             {\\n                                \\'url\\': \\'https://news.google.com/rss/articles/CBMiaEFVX3lxTE8, \\n                                \\'content\\': \"\\'떡볶이 성지\\' 대구 북구, 역대급 \\'떡볶이 페스티벌\\' 막올랐다 - 대경일보\"\\n                             }, \\n                             \\n                             {\\n                                \\'url\\': \\'https://news.google.com/rss/articles/CBMia0FVX3lxTE93\\', \\n                                \\'content\\': \\'`탄핵 집회 참여자 주목` 대구 동성로 선결제 물결…커피·붕어빵·김밥 드세요 - 영남일보\\'\\n                             }, \\n\\n                             {\\n                                \\'url\\': \\'https://news.google.com/rss/articles/CBMikAFBVV955\\', \\n                                \\'content\\': \\'‘떡볶이.악동.활.선비’...어린이날 연휴 맞아 대구·경북 곳곳서 축제 - 조선일보\\'\\n                             }\\n                   ]\\n     )\\n    ], \\n\\n    \\'messages\\': \\n    [\\n     FunctionMessage\\n     (\\n       content=\\'[\\n                       {\\n                         \"url\": \"https://news.google.com/rss/articles/CBMiaEFVX3lxTE83bE9\", \\n                         \"content\": \"\\'떡볶이 성지\\' 대구 북구, 역대급 \\'떡볶이 페스티벌\\' 막올랐다 - 대경일보\"\\n                       },\\n \\n                       {\\n                         \"url\": \"https://news.google.com/rss/articles/CBMia0FVX3lxTE93\", \\n                        \"content\": \"`탄핵 집회 참여자 주목` 대구 동성로 선결제 물결…커피·붕어빵·김밥 드세요 - 영남일보\"\\n                       }, \\n   \\n                       {\\n                         \"url\": \"https://news.google.com/rss/articles/CBMikAFBVV95\", \\n                        \"content\": \"‘떡볶이.악동.활.선비’...어린이날 연휴 맞아 대구·경북 곳곳서 축제 - 조선일보\"\\n                       }\\n                    ]\\', \\n      additional_kwargs={}, \\n      response_metadata={}, \\n      name=\\'search_keyword\\'\\n    )\\n   ]\\n\\n}\\n\\n// }\\n'"
      ]
     },
     "execution_count": 45,
     "metadata": {},
     "output_type": "execute_result"
    }
   ],
   "source": [
    "\"\"\" \n",
    "{\n",
    "    'steps': \n",
    "    [AgentStep\n",
    "     (\n",
    "       action=ToolAgentAction(\n",
    "                                          tool='search_keyword', \n",
    "                                          tool_input={'query': '대구 동성로 떡볶이'}, \n",
    "                                          log=\"\\nInvoking: `search_keyword` with `{'query': '대구 동성로 떡볶이'}`\\n\\n\\n\", \n",
    "                                          message_log=[\n",
    "                                                                AIMessageChunk(content='', \n",
    "                                                                                        additional_kwargs={\n",
    "                                                                                                                     'tool_calls': [\n",
    "                                                                                                                                      {\n",
    "                                                                                                                                        'index': 0, \n",
    "                                                                                                                                        'id': 'call_iMcAsLCy9VJmh5l1e2cZJIso', \n",
    "                                                                                                                                        'function': {\n",
    "                                                                                                                                                          'arguments': '{\"query\":\"대구 동성로 떡볶이\"}', \n",
    "                                                                                                                                                          'name': 'search_keyword'\n",
    "                                                                                                                                                       }, \n",
    "                                                                                                                                        'type': 'function'\n",
    "                                                                                                                                      }\n",
    "                                                                                                                                   ]\n",
    "                                                                                                                  }, \n",
    "\n",
    "                                                                                        response_metadata={\n",
    "                                                                                                                       'finish_reason': 'tool_calls', \n",
    "                                                                                                                       'model_name': 'gpt-4o-mini-2024-07-18', \n",
    "                                                                                                                       'system_fingerprint': 'fp_3267753c5d'\n",
    "                                                                                                                    }, \n",
    "                                                                                        id='run-be95c080-1eab-484c-98e4-5249c2ae031e', \n",
    "                                                                                        tool_calls=[\n",
    "                                                                                                         {\n",
    "                                                                                                           'name': 'search_keyword', \n",
    "                                                                                                           'args': {'query': '대구 동성로 떡볶이'}, \n",
    "                                                                                                           'id': 'call_iMcAsLCy9VJmh5l1e2cZJIso', \n",
    "                                                                                                           'type': 'tool_call'\n",
    "                                                                                                         }\n",
    "                                                                                                      ], \n",
    "                                                                                        tool_call_chunks=[\n",
    "                                                                                                                   {\n",
    "                                                                                                                      'name': 'search_keyword', \n",
    "                                                                                                                      'args': '{\"query\":\"대구 동성로 떡볶이\"}', \n",
    "                                                                                                                      'id': 'call_iMcAsLCy9VJmh5l1e2cZJIso', \n",
    "                                                                                                                      'index': 0, \n",
    "                                                                                                                      'type': 'tool_call_chunk'\n",
    "                                                                                                                   }\n",
    "                                                                                                                ]\n",
    "                                                                )\n",
    "                                                      ],\n",
    "                                          tool_call_id='call_iMcAsLCy9VJmh5l1e2cZJIso'\n",
    "             ), \n",
    "\n",
    "\n",
    "       observation=[ \n",
    "                             {\n",
    "                                'url': 'https://news.google.com/rss/articles/CBMiaEFVX3lxTE8, \n",
    "                                'content': \"'떡볶이 성지' 대구 북구, 역대급 '떡볶이 페스티벌' 막올랐다 - 대경일보\"\n",
    "                             }, \n",
    "                             \n",
    "                             {\n",
    "                                'url': 'https://news.google.com/rss/articles/CBMia0FVX3lxTE93', \n",
    "                                'content': '`탄핵 집회 참여자 주목` 대구 동성로 선결제 물결…커피·붕어빵·김밥 드세요 - 영남일보'\n",
    "                             }, \n",
    "\n",
    "                             {\n",
    "                                'url': 'https://news.google.com/rss/articles/CBMikAFBVV955', \n",
    "                                'content': '‘떡볶이.악동.활.선비’...어린이날 연휴 맞아 대구·경북 곳곳서 축제 - 조선일보'\n",
    "                             }\n",
    "                   ]\n",
    "     )\n",
    "    ], \n",
    "\n",
    "    'messages': \n",
    "    [\n",
    "     FunctionMessage\n",
    "     (\n",
    "       content='[\n",
    "                       {\n",
    "                         \"url\": \"https://news.google.com/rss/articles/CBMiaEFVX3lxTE83bE9\", \n",
    "                         \"content\": \"\\'떡볶이 성지\\' 대구 북구, 역대급 \\'떡볶이 페스티벌\\' 막올랐다 - 대경일보\"\n",
    "                       },\n",
    " \n",
    "                       {\n",
    "                         \"url\": \"https://news.google.com/rss/articles/CBMia0FVX3lxTE93\", \n",
    "                        \"content\": \"`탄핵 집회 참여자 주목` 대구 동성로 선결제 물결…커피·붕어빵·김밥 드세요 - 영남일보\"\n",
    "                       }, \n",
    "   \n",
    "                       {\n",
    "                         \"url\": \"https://news.google.com/rss/articles/CBMikAFBVV95\", \n",
    "                        \"content\": \"‘떡볶이.악동.활.선비’...어린이날 연휴 맞아 대구·경북 곳곳서 축제 - 조선일보\"\n",
    "                       }\n",
    "                    ]', \n",
    "      additional_kwargs={}, \n",
    "      response_metadata={}, \n",
    "      name='search_keyword'\n",
    "    )\n",
    "   ]\n",
    "\n",
    "}\n",
    "\n",
    "// }\n",
    "\"\"\""
   ]
  },
  {
   "cell_type": "code",
   "execution_count": 46,
   "metadata": {},
   "outputs": [
    {
     "data": {
      "text/plain": [
       "\" \\n{\\n'output': \\n             '대구 동성로 떡볶이에 대한 최근 뉴스는 다음과 같습니다:\\n\\n\\n             1. **[떡볶이 성지 대구 북구, 역대급 떡볶이 페스티벌 막올랐다 - 대경일보]\\n                (https://news.google.com/rss/articles/CBMiaEFVX3lxTE83bE9uX0hyTEJIV)**  \\n   \\n                대구 북구에서 떡볶이 페스티벌이 열리고 있다는 소식입니다. 이 페스티벌은 떡볶이를 사랑하는 사람들에게 큰 인기를 끌고 있습니다.\\n\\n\\n             2. **[`탄핵 집회 참여자 주목` 대구 동성로 선결제 물결…커피·붕어빵·김밥 드세요 - 영남일보]                                     (https://news.google.com/rss/articles/CBMia0FVX3lxTE93M0J1SG9kMXJwUndseF9)**  \\n   \\n                대구 동성로에서 선결제 문화가 확산되고 있으며, 다양한 먹거리를 즐길 수 있다는 내용입니다.\\n\\n\\n             3. **[‘떡볶이.악동.활.선비’...어린이날 연휴 맞아 대구·경북 곳곳서 축제 - 조선일보]\\n                (https://news.google.com/rss/articles/CBMikAFBVV95)**  \\n   \\n                어린이날 연휴를 맞아 대구와 경북에서 다양한 축제가 열리고 있으며, 떡볶이와 관련된 행사도 포함되어 있습니다.\\n\\n\\n                이 뉴스들은 대구 동성로에서의 떡볶이와 관련된 다양한 행사와 문화에 대한 정보를 제공합니다.', \\n\\n\\n'messages': \\n                [\\n                  AIMessage(\\n                                   content='대구 동성로 떡볶이에 대한 최근 뉴스는 다음과 같습니다:\\n\\n\\n                                                1. **[떡볶이 성지 대구 북구, 역대급 떡볶이 페스티벌 막올랐다 - 대경일보]                                                                                                      (https://news.google.com/rss/articles/CBMiaEFVX3lxTE83bE9uX0hyTEJIV)**  \\n   \\n                                                   대구 북구에서 떡볶이 페스티벌이 열리고 있다는 소식입니다. 이 페스티벌은 떡볶이를 사랑하는 사람들에게 큰 인기를 끌고 있습니다.\\n\\n                                                2. **[`탄핵 집회 참여자 주목` 대구 동성로 선결제 물결…커피·붕어빵·김밥 드세요 - 영남일보]                                                                                                       (https://news.google.com/rss/articles/CBMia0FVX3lxTE93M0J1SG9kMXJwUndseF9)**  \\n   \\n                                                   대구 동성로에서 선결제 문화가 확산되고 있으며, 다양한 먹거리를 즐길 수 있다는 내용입니다.\\n\\n\\n                                                3. **[‘떡볶이.악동.활.선비’...어린이날 연휴 맞아 대구·경북 곳곳서 축제 - 조선일보]\\n                                                   (https://news.google.com/rss/articles/CBMikAFBVV95)**  \\n   \\n                                                   어린이날 연휴를 맞아 대구와 경북에서 다양한 축제가 열리고 있으며, 떡볶이와 관련된 행사도 포함되어 있습니다.\\n\\n\\n                                                   이 뉴스들은 대구 동성로에서의 떡볶이와 관련된 다양한 행사와 문화에 대한 정보를 제공합니다.', \\n                                    additional_kwargs={}, \\n                                    response_metadata={}\\n                  )\\n                ]\\n\\n}\\n\\n\""
      ]
     },
     "execution_count": 46,
     "metadata": {},
     "output_type": "execute_result"
    }
   ],
   "source": [
    "\"\"\" \n",
    "{\n",
    "'output': \n",
    "             '대구 동성로 떡볶이에 대한 최근 뉴스는 다음과 같습니다:\\n\\n\n",
    "             1. **[떡볶이 성지 대구 북구, 역대급 떡볶이 페스티벌 막올랐다 - 대경일보]\n",
    "                (https://news.google.com/rss/articles/CBMiaEFVX3lxTE83bE9uX0hyTEJIV)**  \\n   \n",
    "                대구 북구에서 떡볶이 페스티벌이 열리고 있다는 소식입니다. 이 페스티벌은 떡볶이를 사랑하는 사람들에게 큰 인기를 끌고 있습니다.\\n\\n\n",
    "             2. **[`탄핵 집회 참여자 주목` 대구 동성로 선결제 물결…커피·붕어빵·김밥 드세요 - 영남일보]                                     (https://news.google.com/rss/articles/CBMia0FVX3lxTE93M0J1SG9kMXJwUndseF9)**  \\n   \n",
    "                대구 동성로에서 선결제 문화가 확산되고 있으며, 다양한 먹거리를 즐길 수 있다는 내용입니다.\\n\\n\n",
    "             3. **[‘떡볶이.악동.활.선비’...어린이날 연휴 맞아 대구·경북 곳곳서 축제 - 조선일보]\n",
    "                (https://news.google.com/rss/articles/CBMikAFBVV95)**  \\n   \n",
    "                어린이날 연휴를 맞아 대구와 경북에서 다양한 축제가 열리고 있으며, 떡볶이와 관련된 행사도 포함되어 있습니다.\\n\\n\n",
    "                이 뉴스들은 대구 동성로에서의 떡볶이와 관련된 다양한 행사와 문화에 대한 정보를 제공합니다.', \n",
    "\n",
    "\n",
    "'messages': \n",
    "                [\n",
    "                  AIMessage(\n",
    "                                   content='대구 동성로 떡볶이에 대한 최근 뉴스는 다음과 같습니다:\\n\\n\n",
    "                                                1. **[떡볶이 성지 대구 북구, 역대급 떡볶이 페스티벌 막올랐다 - 대경일보]                                                                                                      (https://news.google.com/rss/articles/CBMiaEFVX3lxTE83bE9uX0hyTEJIV)**  \\n   \n",
    "                                                   대구 북구에서 떡볶이 페스티벌이 열리고 있다는 소식입니다. 이 페스티벌은 떡볶이를 사랑하는 사람들에게 큰 인기를 끌고 있습니다.\\n\n",
    "                                                2. **[`탄핵 집회 참여자 주목` 대구 동성로 선결제 물결…커피·붕어빵·김밥 드세요 - 영남일보]                                                                                                       (https://news.google.com/rss/articles/CBMia0FVX3lxTE93M0J1SG9kMXJwUndseF9)**  \\n   \n",
    "                                                   대구 동성로에서 선결제 문화가 확산되고 있으며, 다양한 먹거리를 즐길 수 있다는 내용입니다.\\n\\n\n",
    "                                                3. **[‘떡볶이.악동.활.선비’...어린이날 연휴 맞아 대구·경북 곳곳서 축제 - 조선일보]\n",
    "                                                   (https://news.google.com/rss/articles/CBMikAFBVV95)**  \\n   \n",
    "                                                   어린이날 연휴를 맞아 대구와 경북에서 다양한 축제가 열리고 있으며, 떡볶이와 관련된 행사도 포함되어 있습니다.\\n\\n\n",
    "                                                   이 뉴스들은 대구 동성로에서의 떡볶이와 관련된 다양한 행사와 문화에 대한 정보를 제공합니다.', \n",
    "                                    additional_kwargs={}, \n",
    "                                    response_metadata={}\n",
    "                  )\n",
    "                ]\n",
    "\n",
    "}\n",
    "\n",
    "\"\"\""
   ]
  }
 ],
 "metadata": {
  "kernelspec": {
   "display_name": "venv",
   "language": "python",
   "name": "python3"
  },
  "language_info": {
   "codemirror_mode": {
    "name": "ipython",
    "version": 3
   },
   "file_extension": ".py",
   "mimetype": "text/x-python",
   "name": "python",
   "nbconvert_exporter": "python",
   "pygments_lexer": "ipython3",
   "version": "3.11.9"
  }
 },
 "nbformat": 4,
 "nbformat_minor": 2
}
