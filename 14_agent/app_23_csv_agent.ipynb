{
 "cells": [
  {
   "cell_type": "code",
   "execution_count": 70,
   "metadata": {},
   "outputs": [],
   "source": [
    "from dotenv import load_dotenv\n",
    "import os\n",
    "\n",
    "load_dotenv(verbose=True)\n",
    "key = os.getenv('OPENAI_API_KEY')"
   ]
  },
  {
   "cell_type": "markdown",
   "metadata": {},
   "source": [
    "### CSV/Excel 데이터 분석 agent\n",
    "\n",
    "Pandas DataFrame 을 활용하여 분석을 수행하는 agent"
   ]
  },
  {
   "cell_type": "code",
   "execution_count": 71,
   "metadata": {},
   "outputs": [
    {
     "data": {
      "text/html": [
       "<div>\n",
       "<style scoped>\n",
       "    .dataframe tbody tr th:only-of-type {\n",
       "        vertical-align: middle;\n",
       "    }\n",
       "\n",
       "    .dataframe tbody tr th {\n",
       "        vertical-align: top;\n",
       "    }\n",
       "\n",
       "    .dataframe thead th {\n",
       "        text-align: right;\n",
       "    }\n",
       "</style>\n",
       "<table border=\"1\" class=\"dataframe\">\n",
       "  <thead>\n",
       "    <tr style=\"text-align: right;\">\n",
       "      <th></th>\n",
       "      <th>PassengerId</th>\n",
       "      <th>Survived</th>\n",
       "      <th>Pclass</th>\n",
       "      <th>Name</th>\n",
       "      <th>Sex</th>\n",
       "      <th>Age</th>\n",
       "      <th>SibSp</th>\n",
       "      <th>Parch</th>\n",
       "      <th>Ticket</th>\n",
       "      <th>Fare</th>\n",
       "      <th>Cabin</th>\n",
       "      <th>Embarked</th>\n",
       "    </tr>\n",
       "  </thead>\n",
       "  <tbody>\n",
       "    <tr>\n",
       "      <th>0</th>\n",
       "      <td>1</td>\n",
       "      <td>0</td>\n",
       "      <td>3</td>\n",
       "      <td>Braund, Mr. Owen Harris</td>\n",
       "      <td>male</td>\n",
       "      <td>22.0</td>\n",
       "      <td>1</td>\n",
       "      <td>0</td>\n",
       "      <td>A/5 21171</td>\n",
       "      <td>7.2500</td>\n",
       "      <td>NaN</td>\n",
       "      <td>S</td>\n",
       "    </tr>\n",
       "    <tr>\n",
       "      <th>1</th>\n",
       "      <td>2</td>\n",
       "      <td>1</td>\n",
       "      <td>1</td>\n",
       "      <td>Cumings, Mrs. John Bradley (Florence Briggs Th...</td>\n",
       "      <td>female</td>\n",
       "      <td>38.0</td>\n",
       "      <td>1</td>\n",
       "      <td>0</td>\n",
       "      <td>PC 17599</td>\n",
       "      <td>71.2833</td>\n",
       "      <td>C85</td>\n",
       "      <td>C</td>\n",
       "    </tr>\n",
       "    <tr>\n",
       "      <th>2</th>\n",
       "      <td>3</td>\n",
       "      <td>1</td>\n",
       "      <td>3</td>\n",
       "      <td>Heikkinen, Miss. Laina</td>\n",
       "      <td>female</td>\n",
       "      <td>26.0</td>\n",
       "      <td>0</td>\n",
       "      <td>0</td>\n",
       "      <td>STON/O2. 3101282</td>\n",
       "      <td>7.9250</td>\n",
       "      <td>NaN</td>\n",
       "      <td>S</td>\n",
       "    </tr>\n",
       "    <tr>\n",
       "      <th>3</th>\n",
       "      <td>4</td>\n",
       "      <td>1</td>\n",
       "      <td>1</td>\n",
       "      <td>Futrelle, Mrs. Jacques Heath (Lily May Peel)</td>\n",
       "      <td>female</td>\n",
       "      <td>35.0</td>\n",
       "      <td>1</td>\n",
       "      <td>0</td>\n",
       "      <td>113803</td>\n",
       "      <td>53.1000</td>\n",
       "      <td>C123</td>\n",
       "      <td>S</td>\n",
       "    </tr>\n",
       "    <tr>\n",
       "      <th>4</th>\n",
       "      <td>5</td>\n",
       "      <td>0</td>\n",
       "      <td>3</td>\n",
       "      <td>Allen, Mr. William Henry</td>\n",
       "      <td>male</td>\n",
       "      <td>35.0</td>\n",
       "      <td>0</td>\n",
       "      <td>0</td>\n",
       "      <td>373450</td>\n",
       "      <td>8.0500</td>\n",
       "      <td>NaN</td>\n",
       "      <td>S</td>\n",
       "    </tr>\n",
       "  </tbody>\n",
       "</table>\n",
       "</div>"
      ],
      "text/plain": [
       "   PassengerId  Survived  Pclass  \\\n",
       "0            1         0       3   \n",
       "1            2         1       1   \n",
       "2            3         1       3   \n",
       "3            4         1       1   \n",
       "4            5         0       3   \n",
       "\n",
       "                                                Name     Sex   Age  SibSp  \\\n",
       "0                            Braund, Mr. Owen Harris    male  22.0      1   \n",
       "1  Cumings, Mrs. John Bradley (Florence Briggs Th...  female  38.0      1   \n",
       "2                             Heikkinen, Miss. Laina  female  26.0      0   \n",
       "3       Futrelle, Mrs. Jacques Heath (Lily May Peel)  female  35.0      1   \n",
       "4                           Allen, Mr. William Henry    male  35.0      0   \n",
       "\n",
       "   Parch            Ticket     Fare Cabin Embarked  \n",
       "0      0         A/5 21171   7.2500   NaN        S  \n",
       "1      0          PC 17599  71.2833   C85        C  \n",
       "2      0  STON/O2. 3101282   7.9250   NaN        S  \n",
       "3      0            113803  53.1000  C123        S  \n",
       "4      0            373450   8.0500   NaN        S  "
      ]
     },
     "execution_count": 71,
     "metadata": {},
     "output_type": "execute_result"
    }
   ],
   "source": [
    "import pandas as pd\n",
    "\n",
    "df = pd.read_csv('./data/titanic.csv')          # csv 파일을 데이터프레임으로 만들기\n",
    "df.head()"
   ]
  },
  {
   "cell_type": "code",
   "execution_count": 72,
   "metadata": {},
   "outputs": [],
   "source": [
    "from langchain_openai import ChatOpenAI\n",
    "from langchain_experimental.agents.agent_toolkits import create_pandas_dataframe_agent"
   ]
  },
  {
   "cell_type": "code",
   "execution_count": 73,
   "metadata": {},
   "outputs": [],
   "source": [
    "from langchain_experimental.tools import PythonAstREPLTool\n",
    "\n",
    "python_tool = PythonAstREPLTool()               # 파이썬 코드를 실행하는 도구를 생성합니다.\n",
    "python_tool.locals['df'] = df                   # 데이터프레임(df)을 python_tool.locals['df] 변수에 넣는다."
   ]
  },
  {
   "cell_type": "code",
   "execution_count": 74,
   "metadata": {},
   "outputs": [],
   "source": [
    "llm = ChatOpenAI(\n",
    "    api_key=key, \n",
    "    model='gpt-4o-mini', \n",
    "    temperature=0\n",
    ")\n",
    "\n",
    "\n",
    "agent = create_pandas_dataframe_agent(\n",
    "    llm=llm, \n",
    "    df=df, \n",
    "    verbose=True, \n",
    "    agent_type='tool-calling',\n",
    "    allow_dangerous_code=True, \n",
    "\n",
    "    # 데이터 분석에 필요한 프롬프트를 사전에 가지고 있는데 거기에 추가적으로 요구 사항을 적어준다 \n",
    "    prefix=\"You are a professional data analyst and expert in Pandas. \"\n",
    "    \"You must use Pandas DataFrame(`df`) to answer user's request. \"\n",
    "    \"\\n\\n[IMPORTANT] DO NOT create or overwrite the `df` variable in your code. \\n\\n\"\n",
    "    \"If you are willing to generate visualization code, please use `plt.show()` at the end of your code. \"\n",
    "    \"I prefer seaborn code for visualization, but you can use matplotlib as well.\"\n",
    "    \"\\n\\n<Visualization Preference>\\n\"\n",
    "    \"- `muted` cmap, white background, and no grid for your visualization.\"\n",
    "    \"\\nRecomment to set palette parameter for seaborn plot.\",\n",
    ")"
   ]
  },
  {
   "cell_type": "code",
   "execution_count": 75,
   "metadata": {},
   "outputs": [],
   "source": [
    "response = agent.stream({'input': '몇 개의 행이 있어?'})"
   ]
  },
  {
   "cell_type": "code",
   "execution_count": 76,
   "metadata": {},
   "outputs": [
    {
     "name": "stdout",
     "output_type": "stream",
     "text": [
      "\n",
      "\n",
      "\u001b[1m> Entering new None chain...\u001b[0m\n",
      "step: {'actions': [ToolAgentAction(tool='python_repl_ast', tool_input={'query': 'len(df)'}, log=\"\\nInvoking: `python_repl_ast` with `{'query': 'len(df)'}`\\n\\n\\n\", message_log=[AIMessageChunk(content='', additional_kwargs={'tool_calls': [{'index': 0, 'id': 'call_Wep73hNSprhHrg0KKe3S90nN', 'function': {'arguments': '{\"query\":\"len(df)\"}', 'name': 'python_repl_ast'}, 'type': 'function'}]}, response_metadata={'finish_reason': 'tool_calls', 'model_name': 'gpt-4o-mini-2024-07-18', 'system_fingerprint': 'fp_13eed4fce1'}, id='run-423befd5-5ccd-4e50-8315-bbfa8f110004', tool_calls=[{'name': 'python_repl_ast', 'args': {'query': 'len(df)'}, 'id': 'call_Wep73hNSprhHrg0KKe3S90nN', 'type': 'tool_call'}], tool_call_chunks=[{'name': 'python_repl_ast', 'args': '{\"query\":\"len(df)\"}', 'id': 'call_Wep73hNSprhHrg0KKe3S90nN', 'index': 0, 'type': 'tool_call_chunk'}])], tool_call_id='call_Wep73hNSprhHrg0KKe3S90nN')], 'messages': [AIMessageChunk(content='', additional_kwargs={'tool_calls': [{'index': 0, 'id': 'call_Wep73hNSprhHrg0KKe3S90nN', 'function': {'arguments': '{\"query\":\"len(df)\"}', 'name': 'python_repl_ast'}, 'type': 'function'}]}, response_metadata={'finish_reason': 'tool_calls', 'model_name': 'gpt-4o-mini-2024-07-18', 'system_fingerprint': 'fp_13eed4fce1'}, id='run-423befd5-5ccd-4e50-8315-bbfa8f110004', tool_calls=[{'name': 'python_repl_ast', 'args': {'query': 'len(df)'}, 'id': 'call_Wep73hNSprhHrg0KKe3S90nN', 'type': 'tool_call'}], tool_call_chunks=[{'name': 'python_repl_ast', 'args': '{\"query\":\"len(df)\"}', 'id': 'call_Wep73hNSprhHrg0KKe3S90nN', 'index': 0, 'type': 'tool_call_chunk'}])]}\n",
      "\n",
      "====================================================================================================\n",
      "\u001b[32;1m\u001b[1;3m\n",
      "Invoking: `python_repl_ast` with `{'query': 'len(df)'}`\n",
      "\n",
      "\n",
      "\u001b[0m\u001b[36;1m\u001b[1;3m891\u001b[0mstep: {'steps': [AgentStep(action=ToolAgentAction(tool='python_repl_ast', tool_input={'query': 'len(df)'}, log=\"\\nInvoking: `python_repl_ast` with `{'query': 'len(df)'}`\\n\\n\\n\", message_log=[AIMessageChunk(content='', additional_kwargs={'tool_calls': [{'index': 0, 'id': 'call_Wep73hNSprhHrg0KKe3S90nN', 'function': {'arguments': '{\"query\":\"len(df)\"}', 'name': 'python_repl_ast'}, 'type': 'function'}]}, response_metadata={'finish_reason': 'tool_calls', 'model_name': 'gpt-4o-mini-2024-07-18', 'system_fingerprint': 'fp_13eed4fce1'}, id='run-423befd5-5ccd-4e50-8315-bbfa8f110004', tool_calls=[{'name': 'python_repl_ast', 'args': {'query': 'len(df)'}, 'id': 'call_Wep73hNSprhHrg0KKe3S90nN', 'type': 'tool_call'}], tool_call_chunks=[{'name': 'python_repl_ast', 'args': '{\"query\":\"len(df)\"}', 'id': 'call_Wep73hNSprhHrg0KKe3S90nN', 'index': 0, 'type': 'tool_call_chunk'}])], tool_call_id='call_Wep73hNSprhHrg0KKe3S90nN'), observation=891)], 'messages': [FunctionMessage(content='891', additional_kwargs={}, response_metadata={}, name='python_repl_ast')]}\n",
      "\n",
      "====================================================================================================\n",
      "\u001b[32;1m\u001b[1;3m데이터프레임에는 총 891개의 행이 있습니다.\u001b[0m\n",
      "\n",
      "\u001b[1m> Finished chain.\u001b[0m\n",
      "step: {'output': '데이터프레임에는 총 891개의 행이 있습니다.', 'messages': [AIMessage(content='데이터프레임에는 총 891개의 행이 있습니다.', additional_kwargs={}, response_metadata={})]}\n",
      "\n",
      "====================================================================================================\n"
     ]
    }
   ],
   "source": [
    "for step in response:\n",
    "    print('step:', step)\n",
    "    print()\n",
    "    print('==' * 50)"
   ]
  },
  {
   "cell_type": "code",
   "execution_count": 77,
   "metadata": {},
   "outputs": [],
   "source": [
    "response = agent.stream({'input': '몇 개의 행이 있어?'}) "
   ]
  },
  {
   "cell_type": "code",
   "execution_count": 78,
   "metadata": {},
   "outputs": [
    {
     "name": "stdout",
     "output_type": "stream",
     "text": [
      "\n",
      "\n",
      "\u001b[1m> Entering new None chain...\u001b[0m\n",
      "====================================================================================================\n",
      "[actions]\n",
      "[도구 호출]\n",
      "Tool : python_repl_ast\n",
      "query : {'query': 'len(df)'}\n",
      "Log: \n",
      "Invoking: `python_repl_ast` with `{'query': 'len(df)'}`\n",
      "\n",
      "\n",
      "\n",
      "====================================================================================================\n",
      "\u001b[32;1m\u001b[1;3m\n",
      "Invoking: `python_repl_ast` with `{'query': 'len(df)'}`\n",
      "\n",
      "\n",
      "\u001b[0m\u001b[36;1m\u001b[1;3m891\u001b[0m\n",
      "\n",
      "====================================================================================================\n",
      "[steps]\n",
      "검색어: {'query': 'len(df)'}\n",
      "[관찰 내용]\n",
      "Observation:\n",
      "891\n",
      "====================================================================================================\n",
      "\u001b[32;1m\u001b[1;3m데이터프레임에는 총 891개의 행이 있습니다.\u001b[0m\n",
      "\n",
      "\u001b[1m> Finished chain.\u001b[0m\n",
      "====================================================================================================\n",
      "[output]\n",
      "step['messages']:\n",
      "데이터프레임에는 총 891개의 행이 있습니다.\n",
      "====================================================================================================\n"
     ]
    }
   ],
   "source": [
    "for step in response:\n",
    "\n",
    "    if 'actions' in step:\n",
    "        print('==' * 50)\n",
    "        print(f'[actions]')\n",
    "        # print(step['actions'])\n",
    "        print('[도구 호출]')\n",
    "        print(f\"Tool : {step['actions'][0].tool}\")\n",
    "        print(f\"query : {step['actions'][0].tool_input}\")\n",
    "        print(f\"Log: \", end='')\n",
    "        print(f\"{step['actions'][0].log}\")\n",
    "        # print(f\"message log: {step['actions'][0].message_log}\")\n",
    "        print('==' * 50)\n",
    "\n",
    "    elif 'steps' in step:\n",
    "        print('\\n')\n",
    "        print('==' * 50)\n",
    "        print(f'[steps]')\n",
    "        # print(step['steps'])\n",
    "        print(f\"검색어: {step['steps'][0].action.tool_input}\")\n",
    "        # print(f\"message log: {step['steps'][0].action.message_log}\")\n",
    "        print(f\"[관찰 내용]\")\n",
    "        print(f\"Observation:\")\n",
    "        print(f\"{step['steps'][0].observation}\")\n",
    "        print('==' * 50)\n",
    "\n",
    "    elif 'output' in step:\n",
    "        print('==' * 50)\n",
    "        # print(f\"[output]: {step['output']}\")\n",
    "        print(f\"[output]\")\n",
    "        print(f\"step['messages']:\")\n",
    "        print(f\"{step['messages'][0].content}\")\n",
    "        print('==' * 50)"
   ]
  },
  {
   "cell_type": "code",
   "execution_count": 79,
   "metadata": {},
   "outputs": [],
   "source": [
    "response = agent.stream({'input': '1,2 등급에 탑승한 10세 이하 어린 아이의 성별을 구하고 시각화 하세요'})"
   ]
  },
  {
   "cell_type": "code",
   "execution_count": 80,
   "metadata": {},
   "outputs": [
    {
     "name": "stdout",
     "output_type": "stream",
     "text": [
      "\n",
      "\n",
      "\u001b[1m> Entering new None chain...\u001b[0m\n"
     ]
    },
    {
     "name": "stderr",
     "output_type": "stream",
     "text": [
      "<string>:7: FutureWarning: \n",
      "\n",
      "Passing `palette` without assigning `hue` is deprecated and will be removed in v0.14.0. Assign the `x` variable to `hue` and set `legend=False` for the same effect.\n",
      "\n"
     ]
    },
    {
     "data": {
      "image/png": "[encoded data removed]",
      "text/plain": [
       "<Figure size 800x500 with 1 Axes>"
      ]
     },
     "metadata": {},
     "output_type": "display_data"
    },
    {
     "name": "stdout",
     "output_type": "stream",
     "text": [
      "====================================================================================================\n",
      "[actions]\n",
      "[도구 호출]\n",
      "Tool : python_repl_ast\n",
      "query : {'query': \"import pandas as pd\\nimport matplotlib.pyplot as plt\\nimport seaborn as sns\\n\\n# Filtering the DataFrame for passengers in Pclass 1 or 2 and Age 10 or below\\nfiltered_df = df[(df['Pclass'].isin([1, 2])) & (df['Age'] <= 10)]\\n\\n# Counting the number of boys and girls\\ngender_counts = filtered_df['Sex'].value_counts()\\n\\n# Visualization\\nplt.figure(figsize=(8, 5))\\nsns.barplot(x=gender_counts.index, y=gender_counts.values, palette='muted')\\nplt.title('Number of Children (Age <= 10) by Gender in Pclass 1 and 2')\\nplt.xlabel('Gender')\\nplt.ylabel('Count')\\nplt.xticks(rotation=0)\\nplt.show()\"}\n",
      "Log: \n",
      "Invoking: `python_repl_ast` with `{'query': \"import pandas as pd\\nimport matplotlib.pyplot as plt\\nimport seaborn as sns\\n\\n# Filtering the DataFrame for passengers in Pclass 1 or 2 and Age 10 or below\\nfiltered_df = df[(df['Pclass'].isin([1, 2])) & (df['Age'] <= 10)]\\n\\n# Counting the number of boys and girls\\ngender_counts = filtered_df['Sex'].value_counts()\\n\\n# Visualization\\nplt.figure(figsize=(8, 5))\\nsns.barplot(x=gender_counts.index, y=gender_counts.values, palette='muted')\\nplt.title('Number of Children (Age <= 10) by Gender in Pclass 1 and 2')\\nplt.xlabel('Gender')\\nplt.ylabel('Count')\\nplt.xticks(rotation=0)\\nplt.show()\"}`\n",
      "\n",
      "\n",
      "\n",
      "====================================================================================================\n",
      "\u001b[32;1m\u001b[1;3m\n",
      "Invoking: `python_repl_ast` with `{'query': \"import pandas as pd\\nimport matplotlib.pyplot as plt\\nimport seaborn as sns\\n\\n# Filtering the DataFrame for passengers in Pclass 1 or 2 and Age 10 or below\\nfiltered_df = df[(df['Pclass'].isin([1, 2])) & (df['Age'] <= 10)]\\n\\n# Counting the number of boys and girls\\ngender_counts = filtered_df['Sex'].value_counts()\\n\\n# Visualization\\nplt.figure(figsize=(8, 5))\\nsns.barplot(x=gender_counts.index, y=gender_counts.values, palette='muted')\\nplt.title('Number of Children (Age <= 10) by Gender in Pclass 1 and 2')\\nplt.xlabel('Gender')\\nplt.ylabel('Count')\\nplt.xticks(rotation=0)\\nplt.show()\"}`\n",
      "\n",
      "\n",
      "\u001b[0m\u001b[36;1m\u001b[1;3m\u001b[0m\n",
      "\n",
      "====================================================================================================\n",
      "[steps]\n",
      "검색어: {'query': \"import pandas as pd\\nimport matplotlib.pyplot as plt\\nimport seaborn as sns\\n\\n# Filtering the DataFrame for passengers in Pclass 1 or 2 and Age 10 or below\\nfiltered_df = df[(df['Pclass'].isin([1, 2])) & (df['Age'] <= 10)]\\n\\n# Counting the number of boys and girls\\ngender_counts = filtered_df['Sex'].value_counts()\\n\\n# Visualization\\nplt.figure(figsize=(8, 5))\\nsns.barplot(x=gender_counts.index, y=gender_counts.values, palette='muted')\\nplt.title('Number of Children (Age <= 10) by Gender in Pclass 1 and 2')\\nplt.xlabel('Gender')\\nplt.ylabel('Count')\\nplt.xticks(rotation=0)\\nplt.show()\"}\n",
      "[관찰 내용]\n",
      "Observation:\n",
      "\n",
      "====================================================================================================\n",
      "\u001b[32;1m\u001b[1;3mThe visualization has been created, showing the number of children aged 10 and below by gender for passengers in Pclass 1 and 2. If you have any further requests or need additional analysis, feel free to ask!\u001b[0m\n",
      "\n",
      "\u001b[1m> Finished chain.\u001b[0m\n",
      "====================================================================================================\n",
      "[output]\n",
      "step['messages']:\n",
      "The visualization has been created, showing the number of children aged 10 and below by gender for passengers in Pclass 1 and 2. If you have any further requests or need additional analysis, feel free to ask!\n",
      "====================================================================================================\n"
     ]
    }
   ],
   "source": [
    "for step in response:\n",
    "\n",
    "    if 'actions' in step:\n",
    "        print('==' * 50)\n",
    "        print(f'[actions]')\n",
    "        # print(step['actions'])\n",
    "        print('[도구 호출]')\n",
    "        print(f\"Tool : {step['actions'][0].tool}\")\n",
    "        print(f\"query : {step['actions'][0].tool_input}\")\n",
    "        print(f\"Log: \", end='')\n",
    "        print(f\"{step['actions'][0].log}\")\n",
    "        # print(f\"message log: {step['actions'][0].message_log}\")\n",
    "        print('==' * 50)\n",
    "\n",
    "    elif 'steps' in step:\n",
    "        print('\\n')\n",
    "        print('==' * 50)\n",
    "        print(f'[steps]')\n",
    "        # print(step['steps'])\n",
    "        print(f\"검색어: {step['steps'][0].action.tool_input}\")\n",
    "        # print(f\"message log: {step['steps'][0].action.message_log}\")\n",
    "        print(f\"[관찰 내용]\")\n",
    "        print(f\"Observation:\")\n",
    "        print(f\"{step['steps'][0].observation}\")\n",
    "        print('==' * 50)\n",
    "\n",
    "    elif 'output' in step:\n",
    "        print('==' * 50)\n",
    "        # print(f\"[output]: {step['output']}\")\n",
    "        print(f\"[output]\")\n",
    "        print(f\"step['messages']:\")\n",
    "        print(f\"{step['messages'][0].content}\")\n",
    "        print('==' * 50)"
   ]
  },
  {
   "cell_type": "code",
   "execution_count": 81,
   "metadata": {},
   "outputs": [],
   "source": [
    "def tool_callback(tool) -> None:\n",
    "    print(f'===== 도구 호출 =====')\n",
    "    print(f\"사용된 도구 이름 : {tool[0].tool}\")\n",
    "    print(f\"query : {tool[0].tool_input['query']}\")\n",
    "    print(f'===== 도구 호출 =====')"
   ]
  },
  {
   "cell_type": "code",
   "execution_count": 82,
   "metadata": {},
   "outputs": [],
   "source": [
    "def obervation_callback(observation) -> None:\n",
    "    print(f'\\n===== 관찰 내용 =====')\n",
    "    print(f\"Observation: {observation[0].observation}\")\n",
    "    print(f'===== 관찰 내용 =====')"
   ]
  },
  {
   "cell_type": "code",
   "execution_count": 83,
   "metadata": {},
   "outputs": [],
   "source": [
    "def result_callback(result: str) -> None:\n",
    "    print(f'===== 최종 답변 =====')\n",
    "    print(f\"{result}\")\n",
    "    print(f'===== 최종 답변 =====')"
   ]
  },
  {
   "cell_type": "code",
   "execution_count": 84,
   "metadata": {},
   "outputs": [],
   "source": [
    "response = agent.stream({'input': '몇 개의 행이 있어?'})"
   ]
  },
  {
   "cell_type": "code",
   "execution_count": 85,
   "metadata": {},
   "outputs": [
    {
     "name": "stdout",
     "output_type": "stream",
     "text": [
      "\n",
      "\n",
      "\u001b[1m> Entering new None chain...\u001b[0m\n",
      "===== 도구 호출 =====\n",
      "사용된 도구 이름 : python_repl_ast\n",
      "query : len(df)\n",
      "===== 도구 호출 =====\n",
      "\u001b[32;1m\u001b[1;3m\n",
      "Invoking: `python_repl_ast` with `{'query': 'len(df)'}`\n",
      "\n",
      "\n",
      "\u001b[0m\u001b[36;1m\u001b[1;3m891\u001b[0m\n",
      "===== 관찰 내용 =====\n",
      "Observation: 891\n",
      "===== 관찰 내용 =====\n",
      "\u001b[32;1m\u001b[1;3m데이터프레임에는 총 891개의 행이 있습니다.\u001b[0m\n",
      "\n",
      "\u001b[1m> Finished chain.\u001b[0m\n",
      "===== 최종 답변 =====\n",
      "데이터프레임에는 총 891개의 행이 있습니다.\n",
      "===== 최종 답변 =====\n"
     ]
    }
   ],
   "source": [
    "for step in response:\n",
    "    if 'actions' in step:\n",
    "        tool_callback(step['actions'])\n",
    "    elif 'steps' in step:\n",
    "        obervation_callback(step['steps'])\n",
    "    elif 'output' in step:\n",
    "        result_callback(step['messages'][0].content)    "
   ]
  },
  {
   "cell_type": "code",
   "execution_count": 86,
   "metadata": {},
   "outputs": [],
   "source": [
    "response = agent.stream({'input': '1,2 등급에 탑승한 10세 이하 어린 아이의 성별을 구하고 시각화 하세요'})"
   ]
  },
  {
   "cell_type": "code",
   "execution_count": 87,
   "metadata": {},
   "outputs": [
    {
     "name": "stdout",
     "output_type": "stream",
     "text": [
      "\n",
      "\n",
      "\u001b[1m> Entering new None chain...\u001b[0m\n"
     ]
    },
    {
     "name": "stderr",
     "output_type": "stream",
     "text": [
      "<string>:7: FutureWarning: \n",
      "\n",
      "Passing `palette` without assigning `hue` is deprecated and will be removed in v0.14.0. Assign the `x` variable to `hue` and set `legend=False` for the same effect.\n",
      "\n"
     ]
    },
    {
     "data": {
      "image/png": "[encoded data removed]",
      "text/plain": [
       "<Figure size 800x500 with 1 Axes>"
      ]
     },
     "metadata": {},
     "output_type": "display_data"
    },
    {
     "name": "stdout",
     "output_type": "stream",
     "text": [
      "===== 도구 호출 =====\n",
      "사용된 도구 이름 : python_repl_ast\n",
      "query : import pandas as pd\n",
      "import matplotlib.pyplot as plt\n",
      "import seaborn as sns\n",
      "\n",
      "# Filtering the DataFrame for passengers in Pclass 1 or 2 and Age 10 or below\n",
      "filtered_df = df[(df['Pclass'].isin([1, 2])) & (df['Age'] <= 10)]\n",
      "\n",
      "# Counting the number of boys and girls\n",
      "gender_counts = filtered_df['Sex'].value_counts()\n",
      "\n",
      "# Visualization\n",
      "plt.figure(figsize=(8, 5))\n",
      "sns.barplot(x=gender_counts.index, y=gender_counts.values, palette='muted')\n",
      "plt.title('Number of Children (Age <= 10) by Gender in Pclass 1 and 2')\n",
      "plt.xlabel('Gender')\n",
      "plt.ylabel('Count')\n",
      "plt.xticks(rotation=0)\n",
      "plt.show()\n",
      "===== 도구 호출 =====\n",
      "\u001b[32;1m\u001b[1;3m\n",
      "Invoking: `python_repl_ast` with `{'query': \"import pandas as pd\\nimport matplotlib.pyplot as plt\\nimport seaborn as sns\\n\\n# Filtering the DataFrame for passengers in Pclass 1 or 2 and Age 10 or below\\nfiltered_df = df[(df['Pclass'].isin([1, 2])) & (df['Age'] <= 10)]\\n\\n# Counting the number of boys and girls\\ngender_counts = filtered_df['Sex'].value_counts()\\n\\n# Visualization\\nplt.figure(figsize=(8, 5))\\nsns.barplot(x=gender_counts.index, y=gender_counts.values, palette='muted')\\nplt.title('Number of Children (Age <= 10) by Gender in Pclass 1 and 2')\\nplt.xlabel('Gender')\\nplt.ylabel('Count')\\nplt.xticks(rotation=0)\\nplt.show()\"}`\n",
      "\n",
      "\n",
      "\u001b[0m\u001b[36;1m\u001b[1;3m\u001b[0m\n",
      "===== 관찰 내용 =====\n",
      "Observation: \n",
      "===== 관찰 내용 =====\n",
      "\u001b[32;1m\u001b[1;3mThe visualization has been created, showing the number of children aged 10 and below by gender for passengers in Pclass 1 and 2. If you have any further requests or need additional analysis, feel free to ask!\u001b[0m\n",
      "\n",
      "\u001b[1m> Finished chain.\u001b[0m\n",
      "===== 최종 답변 =====\n",
      "The visualization has been created, showing the number of children aged 10 and below by gender for passengers in Pclass 1 and 2. If you have any further requests or need additional analysis, feel free to ask!\n",
      "===== 최종 답변 =====\n"
     ]
    }
   ],
   "source": [
    "for step in response:\n",
    "    if 'actions' in step:\n",
    "        tool_callback(step['actions'])\n",
    "    elif 'steps' in step:\n",
    "        obervation_callback(step['steps'])\n",
    "    elif 'output' in step:\n",
    "        result_callback(step['messages'][0].content)    "
   ]
  }
 ],
 "metadata": {
  "kernelspec": {
   "display_name": "venv",
   "language": "python",
   "name": "python3"
  },
  "language_info": {
   "codemirror_mode": {
    "name": "ipython",
    "version": 3
   },
   "file_extension": ".py",
   "mimetype": "text/x-python",
   "name": "python",
   "nbconvert_exporter": "python",
   "pygments_lexer": "ipython3",
   "version": "3.11.9"
  }
 },
 "nbformat": 4,
 "nbformat_minor": 2
}
