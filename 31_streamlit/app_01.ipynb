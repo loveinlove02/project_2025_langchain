{
 "cells": [
  {
   "cell_type": "code",
   "execution_count": 273,
   "metadata": {},
   "outputs": [
    {
     "name": "stdout",
     "output_type": "stream",
     "text": [
      "{'messages': []}\n"
     ]
    }
   ],
   "source": [
    "from typing import List, Union\n",
    "\n",
    "session_state = {}\n",
    "\n",
    "if 'messages' not in session_state:\n",
    "    session_state['messages'] = []\n",
    "\n",
    "print(session_state)"
   ]
  },
  {
   "cell_type": "code",
   "execution_count": 274,
   "metadata": {},
   "outputs": [],
   "source": [
    "class MessageRole:\n",
    "    \"\"\"\n",
    "    메시지 역할을 정의하는 클래스입니다.\n",
    "    \"\"\"\n",
    "\n",
    "    USER = 'user'                           # 사용자 메시지 역할\n",
    "    ASSISTANT = 'assistant'                 # 어시스턴트 메시지 역할"
   ]
  },
  {
   "cell_type": "code",
   "execution_count": 275,
   "metadata": {},
   "outputs": [],
   "source": [
    "class MessageType:\n",
    "    \"\"\"\n",
    "    메시지 유형을 정의하는 클래스입니다.\n",
    "    \"\"\"\n",
    "\n",
    "    TEXT = 'text'                           # 텍스트 메시지\n",
    "    FIGURE = 'figure'                       # 이미지 메시지\n",
    "    CODE = 'code'                           # 코드 메시지\n",
    "    DATAFRAME = 'dataframe'                 # 데이터프레임 메시지"
   ]
  },
  {
   "cell_type": "code",
   "execution_count": 276,
   "metadata": {},
   "outputs": [],
   "source": [
    "def add_message(role: MessageRole, content: List[Union[MessageType, str]]): \n",
    "    messages = session_state['messages']\n",
    "\n",
    "    print()\n",
    "    print('==================== add_message() 함수 실행 ====================')\n",
    "    print('현재 messages:\\n', messages)\n",
    "    print('매개변수로 받은 role:', role)\n",
    "    print('if ~ else 중 1개를  실행합니다.')\n",
    "    print('=' * 100)\n",
    "    print()\n",
    "\n",
    "    if messages and messages[-1][0] == role:\n",
    "        print(f'===== if 실행을 실행합니다 =====')\n",
    "        print(f'===== 같은 역할의 연속된 메시지는 하나로 합친다.')\n",
    "        print(f\"messages[-1][0]: {messages[-1][0]}\") \n",
    "        print(f\"messages[-1][1]: {messages[-1][1]}\")    \n",
    "        print(f\"합쳐질 리스트: {messages[-1][1]}\")    \n",
    "        messages[-1][1].extend([content])           # 같은 역할의 연속된 메시지는 하나로 합친다.\n",
    "                \n",
    "        print('합친 messages:', messages)\n",
    "        print('=' * 100)\n",
    "        print()\n",
    "    else:\n",
    "        print(f'===== else 실행을 합니다 =====')\n",
    "        print(f'===== 새로운 역할의 메시지는 새로 추가한다.')\n",
    "        print(f\"합쳐질 데이터 role: {role}\")\n",
    "        print(f\"합쳐질 데이터 content: {[content]}\")\n",
    "        messages.append([role, [content]])          # 새로운 역할의 메시지는 새로 추가한다.\n",
    "        print('새로 추가된 messages:', messages)\n",
    "        print('=' * 100)\n",
    "        print()\n",
    "    \n",
    "    print('==================== add_message() 함수 실행 끝====================')\n",
    "    print()"
   ]
  },
  {
   "cell_type": "code",
   "execution_count": 277,
   "metadata": {},
   "outputs": [
    {
     "name": "stdout",
     "output_type": "stream",
     "text": [
      "\n",
      "==================== add_message() 함수 실행 ====================\n",
      "현재 messages:\n",
      " []\n",
      "매개변수로 받은 role: user\n",
      "if ~ else 중 1개를  실행합니다.\n",
      "====================================================================================================\n",
      "\n",
      "===== else 실행을 합니다 =====\n",
      "===== 새로운 역할의 메시지는 새로 추가한다.\n",
      "합쳐질 데이터 role: user\n",
      "합쳐질 데이터 content: [['text', '사용자 질문1']]\n",
      "새로 추가된 messages: [['user', [['text', '사용자 질문1']]]]\n",
      "====================================================================================================\n",
      "\n",
      "==================== add_message() 함수 실행 끝====================\n",
      "\n"
     ]
    }
   ],
   "source": [
    "add_message(MessageRole.USER,  [MessageType.TEXT, '사용자 질문1'])"
   ]
  },
  {
   "cell_type": "code",
   "execution_count": 278,
   "metadata": {},
   "outputs": [
    {
     "name": "stdout",
     "output_type": "stream",
     "text": [
      "[['user', [['text', '사용자 질문1']]]]\n"
     ]
    }
   ],
   "source": [
    "print(session_state[\"messages\"])"
   ]
  },
  {
   "cell_type": "code",
   "execution_count": 279,
   "metadata": {},
   "outputs": [
    {
     "name": "stdout",
     "output_type": "stream",
     "text": [
      "\n",
      "==================== add_message() 함수 실행 ====================\n",
      "현재 messages:\n",
      " [['user', [['text', '사용자 질문1']]]]\n",
      "매개변수로 받은 role: user\n",
      "if ~ else 중 1개를  실행합니다.\n",
      "====================================================================================================\n",
      "\n",
      "===== if 실행을 실행합니다 =====\n",
      "===== 같은 역할의 연속된 메시지는 하나로 합친다.\n",
      "messages[-1][0]: user\n",
      "messages[-1][1]: [['text', '사용자 질문1']]\n",
      "합쳐질 리스트: [['text', '사용자 질문1']]\n",
      "합친 messages: [['user', [['text', '사용자 질문1'], ['text', '사용자 질문2']]]]\n",
      "====================================================================================================\n",
      "\n",
      "==================== add_message() 함수 실행 끝====================\n",
      "\n"
     ]
    }
   ],
   "source": [
    "add_message(MessageRole.USER,  [MessageType.TEXT, '사용자 질문2'])"
   ]
  },
  {
   "cell_type": "code",
   "execution_count": 280,
   "metadata": {},
   "outputs": [
    {
     "name": "stdout",
     "output_type": "stream",
     "text": [
      "[['user', [['text', '사용자 질문1'], ['text', '사용자 질문2']]]]\n"
     ]
    }
   ],
   "source": [
    "print(session_state[\"messages\"])"
   ]
  },
  {
   "cell_type": "code",
   "execution_count": 281,
   "metadata": {},
   "outputs": [
    {
     "name": "stdout",
     "output_type": "stream",
     "text": [
      "\n",
      "==================== add_message() 함수 실행 ====================\n",
      "현재 messages:\n",
      " [['user', [['text', '사용자 질문1'], ['text', '사용자 질문2']]]]\n",
      "매개변수로 받은 role: assistant\n",
      "if ~ else 중 1개를  실행합니다.\n",
      "====================================================================================================\n",
      "\n",
      "===== else 실행을 합니다 =====\n",
      "===== 새로운 역할의 메시지는 새로 추가한다.\n",
      "합쳐질 데이터 role: assistant\n",
      "합쳐질 데이터 content: [['text', '어시스턴트 답변1']]\n",
      "새로 추가된 messages: [['user', [['text', '사용자 질문1'], ['text', '사용자 질문2']]], ['assistant', [['text', '어시스턴트 답변1']]]]\n",
      "====================================================================================================\n",
      "\n",
      "==================== add_message() 함수 실행 끝====================\n",
      "\n"
     ]
    }
   ],
   "source": [
    "add_message(MessageRole.ASSISTANT, [MessageType.TEXT, '어시스턴트 답변1'])"
   ]
  },
  {
   "cell_type": "code",
   "execution_count": 282,
   "metadata": {},
   "outputs": [
    {
     "name": "stdout",
     "output_type": "stream",
     "text": [
      "\n",
      "==================== add_message() 함수 실행 ====================\n",
      "현재 messages:\n",
      " [['user', [['text', '사용자 질문1'], ['text', '사용자 질문2']]], ['assistant', [['text', '어시스턴트 답변1']]]]\n",
      "매개변수로 받은 role: assistant\n",
      "if ~ else 중 1개를  실행합니다.\n",
      "====================================================================================================\n",
      "\n",
      "===== if 실행을 실행합니다 =====\n",
      "===== 같은 역할의 연속된 메시지는 하나로 합친다.\n",
      "messages[-1][0]: assistant\n",
      "messages[-1][1]: [['text', '어시스턴트 답변1']]\n",
      "합쳐질 리스트: [['text', '어시스턴트 답변1']]\n",
      "합친 messages: [['user', [['text', '사용자 질문1'], ['text', '사용자 질문2']]], ['assistant', [['text', '어시스턴트 답변1'], ['text', '어시스턴트 답변2']]]]\n",
      "====================================================================================================\n",
      "\n",
      "==================== add_message() 함수 실행 끝====================\n",
      "\n"
     ]
    }
   ],
   "source": [
    "add_message(MessageRole.ASSISTANT, [MessageType.TEXT, '어시스턴트 답변2'])"
   ]
  },
  {
   "cell_type": "code",
   "execution_count": 283,
   "metadata": {},
   "outputs": [
    {
     "name": "stdout",
     "output_type": "stream",
     "text": [
      "[['user', [['text', '사용자 질문1'], ['text', '사용자 질문2']]], ['assistant', [['text', '어시스턴트 답변1'], ['text', '어시스턴트 답변2']]]]\n"
     ]
    }
   ],
   "source": [
    "print(session_state[\"messages\"])"
   ]
  },
  {
   "cell_type": "code",
   "execution_count": 284,
   "metadata": {},
   "outputs": [
    {
     "name": "stdout",
     "output_type": "stream",
     "text": [
      "\n",
      "==================== add_message() 함수 실행 ====================\n",
      "현재 messages:\n",
      " [['user', [['text', '사용자 질문1'], ['text', '사용자 질문2']]], ['assistant', [['text', '어시스턴트 답변1'], ['text', '어시스턴트 답변2']]]]\n",
      "매개변수로 받은 role: user\n",
      "if ~ else 중 1개를  실행합니다.\n",
      "====================================================================================================\n",
      "\n",
      "===== else 실행을 합니다 =====\n",
      "===== 새로운 역할의 메시지는 새로 추가한다.\n",
      "합쳐질 데이터 role: user\n",
      "합쳐질 데이터 content: [['text', '사용자 질문3']]\n",
      "새로 추가된 messages: [['user', [['text', '사용자 질문1'], ['text', '사용자 질문2']]], ['assistant', [['text', '어시스턴트 답변1'], ['text', '어시스턴트 답변2']]], ['user', [['text', '사용자 질문3']]]]\n",
      "====================================================================================================\n",
      "\n",
      "==================== add_message() 함수 실행 끝====================\n",
      "\n"
     ]
    }
   ],
   "source": [
    "add_message(MessageRole.USER,  [MessageType.TEXT, '사용자 질문3'])"
   ]
  },
  {
   "cell_type": "code",
   "execution_count": 285,
   "metadata": {},
   "outputs": [
    {
     "name": "stdout",
     "output_type": "stream",
     "text": [
      "[['user', [['text', '사용자 질문1'], ['text', '사용자 질문2']]], ['assistant', [['text', '어시스턴트 답변1'], ['text', '어시스턴트 답변2']]], ['user', [['text', '사용자 질문3']]]]\n"
     ]
    }
   ],
   "source": [
    "print(session_state[\"messages\"])"
   ]
  },
  {
   "cell_type": "code",
   "execution_count": 286,
   "metadata": {},
   "outputs": [
    {
     "name": "stdout",
     "output_type": "stream",
     "text": [
      "\n",
      "==================== add_message() 함수 실행 ====================\n",
      "현재 messages:\n",
      " [['user', [['text', '사용자 질문1'], ['text', '사용자 질문2']]], ['assistant', [['text', '어시스턴트 답변1'], ['text', '어시스턴트 답변2']]], ['user', [['text', '사용자 질문3']]]]\n",
      "매개변수로 받은 role: assistant\n",
      "if ~ else 중 1개를  실행합니다.\n",
      "====================================================================================================\n",
      "\n",
      "===== else 실행을 합니다 =====\n",
      "===== 새로운 역할의 메시지는 새로 추가한다.\n",
      "합쳐질 데이터 role: assistant\n",
      "합쳐질 데이터 content: [['text', '어시스턴트 답변3']]\n",
      "새로 추가된 messages: [['user', [['text', '사용자 질문1'], ['text', '사용자 질문2']]], ['assistant', [['text', '어시스턴트 답변1'], ['text', '어시스턴트 답변2']]], ['user', [['text', '사용자 질문3']]], ['assistant', [['text', '어시스턴트 답변3']]]]\n",
      "====================================================================================================\n",
      "\n",
      "==================== add_message() 함수 실행 끝====================\n",
      "\n"
     ]
    }
   ],
   "source": [
    "add_message(MessageRole.ASSISTANT, [MessageType.TEXT, '어시스턴트 답변3'])"
   ]
  },
  {
   "cell_type": "code",
   "execution_count": 287,
   "metadata": {},
   "outputs": [
    {
     "name": "stdout",
     "output_type": "stream",
     "text": [
      "[['user', [['text', '사용자 질문1'], ['text', '사용자 질문2']]], ['assistant', [['text', '어시스턴트 답변1'], ['text', '어시스턴트 답변2']]], ['user', [['text', '사용자 질문3']]], ['assistant', [['text', '어시스턴트 답변3']]]]\n"
     ]
    }
   ],
   "source": [
    "print(session_state[\"messages\"])"
   ]
  },
  {
   "cell_type": "code",
   "execution_count": 288,
   "metadata": {},
   "outputs": [
    {
     "name": "stdout",
     "output_type": "stream",
     "text": [
      "\n",
      "==================== add_message() 함수 실행 ====================\n",
      "현재 messages:\n",
      " [['user', [['text', '사용자 질문1'], ['text', '사용자 질문2']]], ['assistant', [['text', '어시스턴트 답변1'], ['text', '어시스턴트 답변2']]], ['user', [['text', '사용자 질문3']]], ['assistant', [['text', '어시스턴트 답변3']]]]\n",
      "매개변수로 받은 role: assistant\n",
      "if ~ else 중 1개를  실행합니다.\n",
      "====================================================================================================\n",
      "\n",
      "===== if 실행을 실행합니다 =====\n",
      "===== 같은 역할의 연속된 메시지는 하나로 합친다.\n",
      "messages[-1][0]: assistant\n",
      "messages[-1][1]: [['text', '어시스턴트 답변3']]\n",
      "합쳐질 리스트: [['text', '어시스턴트 답변3']]\n",
      "합친 messages: [['user', [['text', '사용자 질문1'], ['text', '사용자 질문2']]], ['assistant', [['text', '어시스턴트 답변1'], ['text', '어시스턴트 답변2']]], ['user', [['text', '사용자 질문3']]], ['assistant', [['text', '어시스턴트 답변3'], ['code', '어시스턴트 답변4']]]]\n",
      "====================================================================================================\n",
      "\n",
      "==================== add_message() 함수 실행 끝====================\n",
      "\n"
     ]
    }
   ],
   "source": [
    "add_message(MessageRole.ASSISTANT, [MessageType.CODE, '어시스턴트 답변4'])"
   ]
  },
  {
   "cell_type": "code",
   "execution_count": 289,
   "metadata": {},
   "outputs": [
    {
     "name": "stdout",
     "output_type": "stream",
     "text": [
      "[['user', [['text', '사용자 질문1'], ['text', '사용자 질문2']]], ['assistant', [['text', '어시스턴트 답변1'], ['text', '어시스턴트 답변2']]], ['user', [['text', '사용자 질문3']]], ['assistant', [['text', '어시스턴트 답변3'], ['code', '어시스턴트 답변4']]]]\n"
     ]
    }
   ],
   "source": [
    "print(session_state[\"messages\"])"
   ]
  },
  {
   "cell_type": "code",
   "execution_count": 290,
   "metadata": {},
   "outputs": [
    {
     "name": "stdout",
     "output_type": "stream",
     "text": [
      "\n",
      "==================== add_message() 함수 실행 ====================\n",
      "현재 messages:\n",
      " [['user', [['text', '사용자 질문1'], ['text', '사용자 질문2']]], ['assistant', [['text', '어시스턴트 답변1'], ['text', '어시스턴트 답변2']]], ['user', [['text', '사용자 질문3']]], ['assistant', [['text', '어시스턴트 답변3'], ['code', '어시스턴트 답변4']]]]\n",
      "매개변수로 받은 role: user\n",
      "if ~ else 중 1개를  실행합니다.\n",
      "====================================================================================================\n",
      "\n",
      "===== else 실행을 합니다 =====\n",
      "===== 새로운 역할의 메시지는 새로 추가한다.\n",
      "합쳐질 데이터 role: user\n",
      "합쳐질 데이터 content: [['text', '사용자 질문4']]\n",
      "새로 추가된 messages: [['user', [['text', '사용자 질문1'], ['text', '사용자 질문2']]], ['assistant', [['text', '어시스턴트 답변1'], ['text', '어시스턴트 답변2']]], ['user', [['text', '사용자 질문3']]], ['assistant', [['text', '어시스턴트 답변3'], ['code', '어시스턴트 답변4']]], ['user', [['text', '사용자 질문4']]]]\n",
      "====================================================================================================\n",
      "\n",
      "==================== add_message() 함수 실행 끝====================\n",
      "\n",
      "\n",
      "==================== add_message() 함수 실행 ====================\n",
      "현재 messages:\n",
      " [['user', [['text', '사용자 질문1'], ['text', '사용자 질문2']]], ['assistant', [['text', '어시스턴트 답변1'], ['text', '어시스턴트 답변2']]], ['user', [['text', '사용자 질문3']]], ['assistant', [['text', '어시스턴트 답변3'], ['code', '어시스턴트 답변4']]], ['user', [['text', '사용자 질문4']]]]\n",
      "매개변수로 받은 role: user\n",
      "if ~ else 중 1개를  실행합니다.\n",
      "====================================================================================================\n",
      "\n",
      "===== if 실행을 실행합니다 =====\n",
      "===== 같은 역할의 연속된 메시지는 하나로 합친다.\n",
      "messages[-1][0]: user\n",
      "messages[-1][1]: [['text', '사용자 질문4']]\n",
      "합쳐질 리스트: [['text', '사용자 질문4']]\n",
      "합친 messages: [['user', [['text', '사용자 질문1'], ['text', '사용자 질문2']]], ['assistant', [['text', '어시스턴트 답변1'], ['text', '어시스턴트 답변2']]], ['user', [['text', '사용자 질문3']]], ['assistant', [['text', '어시스턴트 답변3'], ['code', '어시스턴트 답변4']]], ['user', [['text', '사용자 질문4'], ['text', '사용자 질문5']]]]\n",
      "====================================================================================================\n",
      "\n",
      "==================== add_message() 함수 실행 끝====================\n",
      "\n",
      "\n",
      "==================== add_message() 함수 실행 ====================\n",
      "현재 messages:\n",
      " [['user', [['text', '사용자 질문1'], ['text', '사용자 질문2']]], ['assistant', [['text', '어시스턴트 답변1'], ['text', '어시스턴트 답변2']]], ['user', [['text', '사용자 질문3']]], ['assistant', [['text', '어시스턴트 답변3'], ['code', '어시스턴트 답변4']]], ['user', [['text', '사용자 질문4'], ['text', '사용자 질문5']]]]\n",
      "매개변수로 받은 role: assistant\n",
      "if ~ else 중 1개를  실행합니다.\n",
      "====================================================================================================\n",
      "\n",
      "===== else 실행을 합니다 =====\n",
      "===== 새로운 역할의 메시지는 새로 추가한다.\n",
      "합쳐질 데이터 role: assistant\n",
      "합쳐질 데이터 content: [['dataframe', '답변 데이터프레임']]\n",
      "새로 추가된 messages: [['user', [['text', '사용자 질문1'], ['text', '사용자 질문2']]], ['assistant', [['text', '어시스턴트 답변1'], ['text', '어시스턴트 답변2']]], ['user', [['text', '사용자 질문3']]], ['assistant', [['text', '어시스턴트 답변3'], ['code', '어시스턴트 답변4']]], ['user', [['text', '사용자 질문4'], ['text', '사용자 질문5']]], ['assistant', [['dataframe', '답변 데이터프레임']]]]\n",
      "====================================================================================================\n",
      "\n",
      "==================== add_message() 함수 실행 끝====================\n",
      "\n"
     ]
    }
   ],
   "source": [
    "add_message(MessageRole.USER,  [MessageType.TEXT, '사용자 질문4'])\n",
    "add_message(MessageRole.USER,  [MessageType.TEXT, '사용자 질문5'])\n",
    "add_message(MessageRole.ASSISTANT,  [MessageType.DATAFRAME, '답변 데이터프레임'])"
   ]
  },
  {
   "cell_type": "code",
   "execution_count": 298,
   "metadata": {},
   "outputs": [
    {
     "name": "stdout",
     "output_type": "stream",
     "text": [
      "user text : 사용자 질문1\n",
      "user text : 사용자 질문2\n",
      "assistant text : 어시스턴트 답변1\n",
      "assistant text : 어시스턴트 답변2\n",
      "user text : 사용자 질문3\n",
      "assistant text : 어시스턴트 답변3\n",
      "assistant code : 어시스턴트 답변4\n",
      "user text : 사용자 질문4\n",
      "user text : 사용자 질문5\n",
      "assistant dataframe : 답변 데이터프레임\n"
     ]
    }
   ],
   "source": [
    "for role, content_list in session_state['messages']:\n",
    "    # print(f'[{role}] : [{content_list}]')\n",
    "\n",
    "    for content in content_list:\n",
    "        \n",
    "        if isinstance(content, list):\n",
    "            message_type, message_content = content\n",
    "\n",
    "            # print(message_type, message_content)    \n",
    "                \n",
    "            if message_type == MessageType.TEXT:\n",
    "                print(f\"{role} {message_type} : {message_content}\")\n",
    "            elif message_type == MessageType.CODE:\n",
    "                print(f\"{role} {message_type} : {message_content}\")\n",
    "            elif message_type == MessageType.DATAFRAME: \n",
    "                print(f\"{role} {message_type} : {message_content}\")"
   ]
  }
 ],
 "metadata": {
  "kernelspec": {
   "display_name": "venv",
   "language": "python",
   "name": "python3"
  },
  "language_info": {
   "codemirror_mode": {
    "name": "ipython",
    "version": 3
   },
   "file_extension": ".py",
   "mimetype": "text/x-python",
   "name": "python",
   "nbconvert_exporter": "python",
   "pygments_lexer": "ipython3",
   "version": "3.11.9"
  }
 },
 "nbformat": 4,
 "nbformat_minor": 2
}
